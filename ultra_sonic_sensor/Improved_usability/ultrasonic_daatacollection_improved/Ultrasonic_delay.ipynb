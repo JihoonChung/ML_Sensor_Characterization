{
 "cells": [
  {
   "cell_type": "markdown",
   "metadata": {},
   "source": [
    "Analyze ultra sonic delay"
   ]
  },
  {
   "cell_type": "code",
   "execution_count": 5,
   "metadata": {},
   "outputs": [
    {
     "data": {
      "text/html": [
       "<div>\n",
       "<style scoped>\n",
       "    .dataframe tbody tr th:only-of-type {\n",
       "        vertical-align: middle;\n",
       "    }\n",
       "\n",
       "    .dataframe tbody tr th {\n",
       "        vertical-align: top;\n",
       "    }\n",
       "\n",
       "    .dataframe thead th {\n",
       "        text-align: right;\n",
       "    }\n",
       "</style>\n",
       "<table border=\"1\" class=\"dataframe\">\n",
       "  <thead>\n",
       "    <tr style=\"text-align: right;\">\n",
       "      <th></th>\n",
       "      <th>Trial</th>\n",
       "      <th>Timestamp</th>\n",
       "      <th>Distance (cm)</th>\n",
       "      <th>Ping Time (us)</th>\n",
       "      <th>Delay (ms)</th>\n",
       "      <th>Arduino ID</th>\n",
       "      <th>Sensor ID</th>\n",
       "      <th>Range (cm)</th>\n",
       "      <th>Sensor length (cm)</th>\n",
       "      <th>Color of sensor</th>\n",
       "      <th>Angle on XY plane</th>\n",
       "      <th>side a (cm)</th>\n",
       "      <th>side b (cm)</th>\n",
       "      <th>side c (cm)</th>\n",
       "      <th>Angle on YZ plane</th>\n",
       "      <th>Sensor Configuration</th>\n",
       "      <th>Sensor Angle</th>\n",
       "      <th>Surface material</th>\n",
       "      <th>Surface Length (cm)</th>\n",
       "      <th>Surface Width (cm)</th>\n",
       "    </tr>\n",
       "  </thead>\n",
       "  <tbody>\n",
       "    <tr>\n",
       "      <th>0</th>\n",
       "      <td>0</td>\n",
       "      <td>6839396</td>\n",
       "      <td>7</td>\n",
       "      <td>435</td>\n",
       "      <td>600.0</td>\n",
       "      <td>1</td>\n",
       "      <td>NaN</td>\n",
       "      <td>NaN</td>\n",
       "      <td>NaN</td>\n",
       "      <td>NaN</td>\n",
       "      <td>NaN</td>\n",
       "      <td>NaN</td>\n",
       "      <td>NaN</td>\n",
       "      <td>NaN</td>\n",
       "      <td>NaN</td>\n",
       "      <td>NaN</td>\n",
       "      <td>NaN</td>\n",
       "      <td>NaN</td>\n",
       "      <td>NaN</td>\n",
       "      <td>NaN</td>\n",
       "    </tr>\n",
       "    <tr>\n",
       "      <th>1</th>\n",
       "      <td>1</td>\n",
       "      <td>6841008</td>\n",
       "      <td>8</td>\n",
       "      <td>503</td>\n",
       "      <td>600.0</td>\n",
       "      <td>1</td>\n",
       "      <td>NaN</td>\n",
       "      <td>NaN</td>\n",
       "      <td>NaN</td>\n",
       "      <td>NaN</td>\n",
       "      <td>NaN</td>\n",
       "      <td>NaN</td>\n",
       "      <td>NaN</td>\n",
       "      <td>NaN</td>\n",
       "      <td>NaN</td>\n",
       "      <td>NaN</td>\n",
       "      <td>NaN</td>\n",
       "      <td>NaN</td>\n",
       "      <td>NaN</td>\n",
       "      <td>NaN</td>\n",
       "    </tr>\n",
       "    <tr>\n",
       "      <th>2</th>\n",
       "      <td>2</td>\n",
       "      <td>6842652</td>\n",
       "      <td>9</td>\n",
       "      <td>531</td>\n",
       "      <td>600.0</td>\n",
       "      <td>1</td>\n",
       "      <td>NaN</td>\n",
       "      <td>NaN</td>\n",
       "      <td>NaN</td>\n",
       "      <td>NaN</td>\n",
       "      <td>NaN</td>\n",
       "      <td>NaN</td>\n",
       "      <td>NaN</td>\n",
       "      <td>NaN</td>\n",
       "      <td>NaN</td>\n",
       "      <td>NaN</td>\n",
       "      <td>NaN</td>\n",
       "      <td>NaN</td>\n",
       "      <td>NaN</td>\n",
       "      <td>NaN</td>\n",
       "    </tr>\n",
       "    <tr>\n",
       "      <th>3</th>\n",
       "      <td>3</td>\n",
       "      <td>6844288</td>\n",
       "      <td>9</td>\n",
       "      <td>531</td>\n",
       "      <td>600.0</td>\n",
       "      <td>1</td>\n",
       "      <td>NaN</td>\n",
       "      <td>NaN</td>\n",
       "      <td>NaN</td>\n",
       "      <td>NaN</td>\n",
       "      <td>NaN</td>\n",
       "      <td>NaN</td>\n",
       "      <td>NaN</td>\n",
       "      <td>NaN</td>\n",
       "      <td>NaN</td>\n",
       "      <td>NaN</td>\n",
       "      <td>NaN</td>\n",
       "      <td>NaN</td>\n",
       "      <td>NaN</td>\n",
       "      <td>NaN</td>\n",
       "    </tr>\n",
       "    <tr>\n",
       "      <th>4</th>\n",
       "      <td>4</td>\n",
       "      <td>6845908</td>\n",
       "      <td>8</td>\n",
       "      <td>507</td>\n",
       "      <td>600.0</td>\n",
       "      <td>1</td>\n",
       "      <td>NaN</td>\n",
       "      <td>NaN</td>\n",
       "      <td>NaN</td>\n",
       "      <td>NaN</td>\n",
       "      <td>NaN</td>\n",
       "      <td>NaN</td>\n",
       "      <td>NaN</td>\n",
       "      <td>NaN</td>\n",
       "      <td>NaN</td>\n",
       "      <td>NaN</td>\n",
       "      <td>NaN</td>\n",
       "      <td>NaN</td>\n",
       "      <td>NaN</td>\n",
       "      <td>NaN</td>\n",
       "    </tr>\n",
       "  </tbody>\n",
       "</table>\n",
       "</div>"
      ],
      "text/plain": [
       "   Trial  Timestamp  Distance (cm)  Ping Time (us)  Delay (ms)  Arduino ID  \\\n",
       "0      0    6839396              7             435       600.0           1   \n",
       "1      1    6841008              8             503       600.0           1   \n",
       "2      2    6842652              9             531       600.0           1   \n",
       "3      3    6844288              9             531       600.0           1   \n",
       "4      4    6845908              8             507       600.0           1   \n",
       "\n",
       "   Sensor ID  Range (cm)  Sensor length (cm)  Color of sensor  \\\n",
       "0        NaN         NaN                 NaN              NaN   \n",
       "1        NaN         NaN                 NaN              NaN   \n",
       "2        NaN         NaN                 NaN              NaN   \n",
       "3        NaN         NaN                 NaN              NaN   \n",
       "4        NaN         NaN                 NaN              NaN   \n",
       "\n",
       "   Angle on XY plane  side a (cm)  side b (cm)  side c (cm)  \\\n",
       "0                NaN          NaN          NaN          NaN   \n",
       "1                NaN          NaN          NaN          NaN   \n",
       "2                NaN          NaN          NaN          NaN   \n",
       "3                NaN          NaN          NaN          NaN   \n",
       "4                NaN          NaN          NaN          NaN   \n",
       "\n",
       "   Angle on YZ plane  Sensor Configuration  Sensor Angle  Surface material  \\\n",
       "0                NaN                   NaN           NaN               NaN   \n",
       "1                NaN                   NaN           NaN               NaN   \n",
       "2                NaN                   NaN           NaN               NaN   \n",
       "3                NaN                   NaN           NaN               NaN   \n",
       "4                NaN                   NaN           NaN               NaN   \n",
       "\n",
       "   Surface Length (cm)  Surface Width (cm)  \n",
       "0                  NaN                 NaN  \n",
       "1                  NaN                 NaN  \n",
       "2                  NaN                 NaN  \n",
       "3                  NaN                 NaN  \n",
       "4                  NaN                 NaN  "
      ]
     },
     "execution_count": 5,
     "metadata": {},
     "output_type": "execute_result"
    }
   ],
   "source": [
    "import pandas as pd\n",
    "pd.set_option('display.max_rows', None)\n",
    "\n",
    "# Load the CSV file to examine the first few rows\n",
    "file_path = '../data_collection/US_data_q.csv'\n",
    "df = pd.read_csv(file_path)\n",
    "df.head()\n"
   ]
  },
  {
   "cell_type": "code",
   "execution_count": 11,
   "metadata": {},
   "outputs": [
    {
     "data": {
      "text/html": [
       "<div>\n",
       "<style scoped>\n",
       "    .dataframe tbody tr th:only-of-type {\n",
       "        vertical-align: middle;\n",
       "    }\n",
       "\n",
       "    .dataframe tbody tr th {\n",
       "        vertical-align: top;\n",
       "    }\n",
       "\n",
       "    .dataframe thead th {\n",
       "        text-align: right;\n",
       "    }\n",
       "</style>\n",
       "<table border=\"1\" class=\"dataframe\">\n",
       "  <thead>\n",
       "    <tr style=\"text-align: right;\">\n",
       "      <th></th>\n",
       "      <th>Trial</th>\n",
       "      <th>Timestamp</th>\n",
       "      <th>Timestamp_diff</th>\n",
       "      <th>Delay (ms)</th>\n",
       "      <th>Ping Time (us)</th>\n",
       "    </tr>\n",
       "  </thead>\n",
       "  <tbody>\n",
       "    <tr>\n",
       "      <th>0</th>\n",
       "      <td>0</td>\n",
       "      <td>6839396</td>\n",
       "      <td>NaN</td>\n",
       "      <td>600.0</td>\n",
       "      <td>435</td>\n",
       "    </tr>\n",
       "    <tr>\n",
       "      <th>1</th>\n",
       "      <td>1</td>\n",
       "      <td>6841008</td>\n",
       "      <td>1612.0</td>\n",
       "      <td>600.0</td>\n",
       "      <td>503</td>\n",
       "    </tr>\n",
       "    <tr>\n",
       "      <th>2</th>\n",
       "      <td>2</td>\n",
       "      <td>6842652</td>\n",
       "      <td>1644.0</td>\n",
       "      <td>600.0</td>\n",
       "      <td>531</td>\n",
       "    </tr>\n",
       "    <tr>\n",
       "      <th>3</th>\n",
       "      <td>3</td>\n",
       "      <td>6844288</td>\n",
       "      <td>1636.0</td>\n",
       "      <td>600.0</td>\n",
       "      <td>531</td>\n",
       "    </tr>\n",
       "    <tr>\n",
       "      <th>4</th>\n",
       "      <td>4</td>\n",
       "      <td>6845908</td>\n",
       "      <td>1620.0</td>\n",
       "      <td>600.0</td>\n",
       "      <td>507</td>\n",
       "    </tr>\n",
       "  </tbody>\n",
       "</table>\n",
       "</div>"
      ],
      "text/plain": [
       "   Trial  Timestamp  Timestamp_diff  Delay (ms)  Ping Time (us)\n",
       "0      0    6839396             NaN       600.0             435\n",
       "1      1    6841008          1612.0       600.0             503\n",
       "2      2    6842652          1644.0       600.0             531\n",
       "3      3    6844288          1636.0       600.0             531\n",
       "4      4    6845908          1620.0       600.0             507"
      ]
     },
     "execution_count": 11,
     "metadata": {},
     "output_type": "execute_result"
    }
   ],
   "source": [
    "df['Timestamp_diff'] = df['Timestamp'].diff()\n",
    "df[['Trial', 'Timestamp', 'Timestamp_diff', 'Delay (ms)',\"Ping Time (us)\"]].head()"
   ]
  },
  {
   "cell_type": "code",
   "execution_count": 12,
   "metadata": {},
   "outputs": [
    {
     "data": {
      "text/plain": [
       "count     199.000000\n",
       "mean     1026.271357\n",
       "std        11.598795\n",
       "min      1008.000000\n",
       "25%      1016.000000\n",
       "50%      1020.000000\n",
       "75%      1036.000000\n",
       "max      1072.000000\n",
       "Name: Timestamp_vs_Delay_diff, dtype: float64"
      ]
     },
     "execution_count": 12,
     "metadata": {},
     "output_type": "execute_result"
    }
   ],
   "source": [
    "# Calculate the difference between Timestamp_diff and Delay\n",
    "df['Timestamp_vs_Delay_diff'] = df['Timestamp_diff'] - df['Delay (ms)']\n",
    "\n",
    "# Display the first few rows to verify the calculations\n",
    "df[['Trial', 'Timestamp', 'Timestamp_diff', 'Delay (ms)', 'Timestamp_vs_Delay_diff']].head(10)\n",
    "\n",
    "# Summary statistics of the differences\n",
    "summary_stats = df['Timestamp_vs_Delay_diff'].describe()\n",
    "summary_stats\n"
   ]
  },
  {
   "cell_type": "code",
   "execution_count": 31,
   "metadata": {},
   "outputs": [
    {
     "name": "stdout",
     "output_type": "stream",
     "text": [
      "   Trial  Timestamp  Timestamp_diff  Delay (us)  Ping Time (us)\n",
      "0      0   15511264             NaN        99.9             179\n",
      "1      1   15512096           832.0        99.9             227\n",
      "2      2   15512928           832.0        99.9             227\n",
      "3      3   15513760           832.0        99.9             227\n",
      "4      4   15514592           832.0        99.9             227\n",
      "count    199.000000\n",
      "mean     735.858794\n",
      "std        9.811461\n",
      "min      728.100000\n",
      "25%      732.100000\n",
      "50%      732.100000\n",
      "75%      736.100000\n",
      "max      772.100000\n",
      "Name: Timestamp_vs_Delay_diff, dtype: float64\n"
     ]
    }
   ],
   "source": [
    "import pandas as pd\n",
    "\n",
    "def analyze_timestamp_vs_delay(file_path):\n",
    "    \"\"\"\n",
    "    Analyzes the difference between consecutive timestamps and compares it with the delay.\n",
    "    \n",
    "    Args:\n",
    "    file_path (str): The path to the CSV file.\n",
    "    \n",
    "    Returns:\n",
    "    pd.Series: Summary statistics of the differences between Timestamp_diff and Delay.\n",
    "    \"\"\"\n",
    "    # Load the CSV file\n",
    "    data = pd.read_csv(file_path)\n",
    "    \n",
    "    # Calculate the difference between consecutive timestamps\n",
    "    data['Timestamp_diff'] = data['Timestamp'].diff()\n",
    "    \n",
    "    # Calculate the difference between Timestamp_diff and Delay\n",
    "    data['Timestamp_vs_Delay_diff'] = data['Timestamp_diff'] - data['Delay (us)']\n",
    "\n",
    "    \n",
    "    \n",
    "    # Summary statistics of the differences\n",
    "    summary_stats = data['Timestamp_vs_Delay_diff'].describe()\n",
    "    print(data[['Trial', 'Timestamp', 'Timestamp_diff', 'Delay (us)',\"Ping Time (us)\"]].head())\n",
    "    print(summary_stats)\n",
    "    return summary_stats , data\n",
    "\n",
    "# Example usage\n",
    "file_path = '/Users/jihoonchung/Documents/MIE Master of Eng/ML_Sensor_Characterization/ultra_sonic_sensor/Improved_usability/data_collection/US_data_test_99us.csv'\n",
    "summary_stats,df_99us = analyze_timestamp_vs_delay(file_path)\n"
   ]
  },
  {
   "cell_type": "code",
   "execution_count": 22,
   "metadata": {},
   "outputs": [
    {
     "name": "stdout",
     "output_type": "stream",
     "text": [
      "   Trial  Timestamp  Timestamp_diff  Delay (us)  Ping Time (us)\n",
      "0      0   12407428             NaN         2.0             179\n",
      "1      1   12408164           736.0         2.0             231\n",
      "2      2   12408900           736.0         2.0             227\n",
      "3      3   12409636           736.0         2.0             227\n",
      "4      4   12410372           736.0         2.0             231\n",
      "count    199.000000\n",
      "mean     735.869347\n",
      "std        6.391520\n",
      "min      730.000000\n",
      "25%      734.000000\n",
      "50%      734.000000\n",
      "75%      738.000000\n",
      "max      766.000000\n",
      "Name: Timestamp_vs_Delay_diff, dtype: float64\n"
     ]
    }
   ],
   "source": [
    "# Example usage\n",
    "file_path = '/Users/jihoonchung/Documents/MIE Master of Eng/ML_Sensor_Characterization/ultra_sonic_sensor/Improved_usability/data_collection/US_data_test_2us.csv'\n",
    "summary_stats,df_99us = analyze_timestamp_vs_delay(file_path)"
   ]
  },
  {
   "cell_type": "code",
   "execution_count": 25,
   "metadata": {},
   "outputs": [
    {
     "name": "stdout",
     "output_type": "stream",
     "text": [
      "   Trial  Timestamp  Timestamp_diff  Delay (us)  Ping Time (us)\n",
      "0      0    6469016             NaN    100000.0             363\n",
      "1      1    6471644          2628.0    100000.0             411\n",
      "2      2    6474272          2628.0    100000.0             415\n",
      "3      3    6476896          2624.0    100000.0             411\n",
      "4      4    6479516          2620.0    100000.0             411\n",
      "count      199.000000\n",
      "mean    -97375.236181\n",
      "std          3.842807\n",
      "min     -97384.000000\n",
      "25%     -97376.000000\n",
      "50%     -97376.000000\n",
      "75%     -97372.000000\n",
      "max     -97364.000000\n",
      "Name: Timestamp_vs_Delay_diff, dtype: float64\n"
     ]
    }
   ],
   "source": [
    "# Example usage\n",
    "file_path = '/Users/jihoonchung/Documents/MIE Master of Eng/ML_Sensor_Characterization/ultra_sonic_sensor/Improved_usability/data_collection/US_data_test_100000us.csv'\n",
    "summary_stats,_ = analyze_timestamp_vs_delay(file_path)"
   ]
  },
  {
   "cell_type": "markdown",
   "metadata": {},
   "source": [
    "Maybe buffer get filled up with and make each time to take longer than the delay"
   ]
  },
  {
   "cell_type": "code",
   "execution_count": 27,
   "metadata": {},
   "outputs": [
    {
     "name": "stdout",
     "output_type": "stream",
     "text": [
      "   Trial  Timestamp  Timestamp_diff  Delay (us)  Ping Time (us)\n",
      "0      0     449720             NaN      3000.0             367\n",
      "1      1     453652          3932.0      3000.0             407\n",
      "2      2     457580          3928.0      3000.0             411\n",
      "3      3     461516          3936.0      3000.0             407\n",
      "4      4     465452          3936.0      3000.0             411\n",
      "count    199.000000\n",
      "mean     936.582915\n",
      "std        2.881833\n",
      "min      928.000000\n",
      "25%      936.000000\n",
      "50%      936.000000\n",
      "75%      940.000000\n",
      "max      944.000000\n",
      "Name: Timestamp_vs_Delay_diff, dtype: float64\n"
     ]
    }
   ],
   "source": [
    "# Example usage\n",
    "file_path = '/Users/jihoonchung/Documents/MIE Master of Eng/ML_Sensor_Characterization/ultra_sonic_sensor/Improved_usability/data_collection/US_data_test_3000us.csv'\n",
    "summary_stats,_ = analyze_timestamp_vs_delay(file_path)"
   ]
  },
  {
   "cell_type": "code",
   "execution_count": 32,
   "metadata": {},
   "outputs": [
    {
     "name": "stdout",
     "output_type": "stream",
     "text": [
      "   Trial  Timestamp  Timestamp_diff  Delay (us)  Ping Time (us)\n",
      "0      0     829160             NaN      5000.0             311\n",
      "1      1     835064          5904.0      5000.0             363\n",
      "2      2     840964          5900.0      5000.0             363\n",
      "3      3     846868          5904.0      5000.0             367\n",
      "4      4     852784          5916.0      5000.0             383\n",
      "count    199.000000\n",
      "mean     907.939698\n",
      "std       11.955996\n",
      "min      888.000000\n",
      "25%      900.000000\n",
      "50%      904.000000\n",
      "75%      924.000000\n",
      "max      928.000000\n",
      "Name: Timestamp_vs_Delay_diff, dtype: float64\n"
     ]
    }
   ],
   "source": [
    "# Example usage\n",
    "file_path = '/Users/jihoonchung/Documents/MIE Master of Eng/ML_Sensor_Characterization/ultra_sonic_sensor/Improved_usability/data_collection/US_data_test_5000us.csv'\n",
    "summary_stats,_ = analyze_timestamp_vs_delay(file_path)"
   ]
  },
  {
   "cell_type": "code",
   "execution_count": 34,
   "metadata": {},
   "outputs": [
    {
     "name": "stdout",
     "output_type": "stream",
     "text": [
      "   Trial  Timestamp  Timestamp_diff  Delay (us)  Ping Time (us)\n",
      "0      0    2735404             NaN      6000.0             311\n",
      "1      1    2742332          6928.0      6000.0             387\n",
      "2      2    2749236          6904.0      6000.0             363\n",
      "3      3    2756144          6908.0      6000.0             363\n",
      "4      4    2763044          6900.0      6000.0             359\n",
      "count    199.000000\n",
      "mean     919.376884\n",
      "std       12.508327\n",
      "min      896.000000\n",
      "25%      908.000000\n",
      "50%      928.000000\n",
      "75%      932.000000\n",
      "max      940.000000\n",
      "Name: Timestamp_vs_Delay_diff, dtype: float64\n"
     ]
    }
   ],
   "source": [
    "# Example usage\n",
    "file_path = '/Users/jihoonchung/Documents/MIE Master of Eng/ML_Sensor_Characterization/ultra_sonic_sensor/Improved_usability/data_collection/US_data_test_6000us.csv'\n",
    "summary_stats,_ = analyze_timestamp_vs_delay(file_path)"
   ]
  },
  {
   "cell_type": "code",
   "execution_count": 35,
   "metadata": {},
   "outputs": [
    {
     "name": "stdout",
     "output_type": "stream",
     "text": [
      "   Trial  Timestamp  Timestamp_diff  Delay (us)  Ping Time (us)\n",
      "0      0    2740732             NaN      7000.0             315\n",
      "1      1    2748648          7916.0      7000.0             367\n",
      "2      2    2756560          7912.0      7000.0             363\n",
      "3      3    2764468          7908.0      7000.0             363\n",
      "4      4    2772384          7916.0      7000.0             363\n",
      "count    199.000000\n",
      "mean     915.437186\n",
      "std        9.505173\n",
      "min      904.000000\n",
      "25%      912.000000\n",
      "50%      912.000000\n",
      "75%      916.000000\n",
      "max      940.000000\n",
      "Name: Timestamp_vs_Delay_diff, dtype: float64\n"
     ]
    }
   ],
   "source": [
    "# Example usage\n",
    "file_path = '/Users/jihoonchung/Documents/MIE Master of Eng/ML_Sensor_Characterization/ultra_sonic_sensor/Improved_usability/data_collection/US_data_test_7000us.csv'\n",
    "summary_stats,_ = analyze_timestamp_vs_delay(file_path)"
   ]
  },
  {
   "cell_type": "code",
   "execution_count": 37,
   "metadata": {},
   "outputs": [
    {
     "name": "stdout",
     "output_type": "stream",
     "text": [
      "   Trial  Timestamp  Timestamp_diff  Delay (us)  Ping Time (us)\n",
      "0      0   11413008             NaN      8000.0             315\n",
      "1      1   11421928          8920.0      8000.0             363\n",
      "2      2   11430844          8916.0      8000.0             363\n",
      "3      3   11439764          8920.0      8000.0             363\n",
      "4      4   11448684          8920.0      8000.0             363\n",
      "count    199.000000\n",
      "mean     927.758794\n",
      "std       12.742283\n",
      "min      908.000000\n",
      "25%      916.000000\n",
      "50%      920.000000\n",
      "75%      944.000000\n",
      "max      948.000000\n",
      "Name: Timestamp_vs_Delay_diff, dtype: float64\n"
     ]
    }
   ],
   "source": [
    "# Example usage\n",
    "file_path = '/Users/jihoonchung/Documents/MIE Master of Eng/ML_Sensor_Characterization/ultra_sonic_sensor/Improved_usability/data_collection/US_data_test_8000us.csv'\n",
    "summary_stats,_ = analyze_timestamp_vs_delay(file_path)"
   ]
  },
  {
   "cell_type": "code",
   "execution_count": 38,
   "metadata": {},
   "outputs": [
    {
     "name": "stdout",
     "output_type": "stream",
     "text": [
      "   Trial  Timestamp  Timestamp_diff  Delay (us)  Ping Time (us)\n",
      "0      0    2738860             NaN      9000.0             311\n",
      "1      1    2748788          9928.0      9000.0             363\n",
      "2      2    2758712          9924.0      9000.0             367\n",
      "3      3    2768632          9920.0      9000.0             363\n",
      "4      4    2778560          9928.0      9000.0             363\n",
      "count    199.000000\n",
      "mean     932.422111\n",
      "std       12.202944\n",
      "min      912.000000\n",
      "25%      924.000000\n",
      "50%      928.000000\n",
      "75%      948.000000\n",
      "max      952.000000\n",
      "Name: Timestamp_vs_Delay_diff, dtype: float64\n"
     ]
    }
   ],
   "source": [
    "# Example usage\n",
    "file_path = '/Users/jihoonchung/Documents/MIE Master of Eng/ML_Sensor_Characterization/ultra_sonic_sensor/Improved_usability/data_collection/US_data_test_9000us.csv'\n",
    "summary_stats,_ = analyze_timestamp_vs_delay(file_path)"
   ]
  },
  {
   "cell_type": "code",
   "execution_count": 39,
   "metadata": {},
   "outputs": [
    {
     "name": "stdout",
     "output_type": "stream",
     "text": [
      "   Trial  Timestamp  Timestamp_diff  Delay (us)  Ping Time (us)\n",
      "0      0     379452             NaN     10000.0             311\n",
      "1      1     390408         10956.0     10000.0             387\n",
      "2      2     401332         10924.0     10000.0             359\n",
      "3      3     412260         10928.0     10000.0             359\n",
      "4      4     423188         10928.0     10000.0             363\n",
      "count    199.000000\n",
      "mean     940.060302\n",
      "std       12.626587\n",
      "min      920.000000\n",
      "25%      928.000000\n",
      "50%      932.000000\n",
      "75%      952.000000\n",
      "max      964.000000\n",
      "Name: Timestamp_vs_Delay_diff, dtype: float64\n"
     ]
    }
   ],
   "source": [
    "# Example usage\n",
    "file_path = '/Users/jihoonchung/Documents/MIE Master of Eng/ML_Sensor_Characterization/ultra_sonic_sensor/Improved_usability/data_collection/US_data_test_10000us_2.csv'\n",
    "summary_stats,_ = analyze_timestamp_vs_delay(file_path)"
   ]
  },
  {
   "cell_type": "markdown",
   "metadata": {},
   "source": [
    "# something promising"
   ]
  },
  {
   "cell_type": "code",
   "execution_count": 40,
   "metadata": {},
   "outputs": [
    {
     "name": "stdout",
     "output_type": "stream",
     "text": [
      "   Trial  Timestamp  Timestamp_diff  Delay (us)  Ping Time (us)\n",
      "0      0    1850276             NaN     50000.0             335\n",
      "1      1    1852024          1748.0     50000.0             391\n",
      "2      2    1853748          1724.0     50000.0             367\n",
      "3      3    1855500          1752.0     50000.0             395\n",
      "4      4    1857240          1740.0     50000.0             387\n",
      "count      199.000000\n",
      "mean    -48261.768844\n",
      "std         11.466545\n",
      "min     -48284.000000\n",
      "25%     -48276.000000\n",
      "50%     -48256.000000\n",
      "75%     -48252.000000\n",
      "max     -48244.000000\n",
      "Name: Timestamp_vs_Delay_diff, dtype: float64\n"
     ]
    }
   ],
   "source": [
    "# Example usage\n",
    "file_path = '/Users/jihoonchung/Documents/MIE Master of Eng/ML_Sensor_Characterization/ultra_sonic_sensor/Improved_usability/data_collection/US_data_test_50000us.csv'\n",
    "summary_stats,_ = analyze_timestamp_vs_delay(file_path)"
   ]
  },
  {
   "cell_type": "markdown",
   "metadata": {},
   "source": [
    "now I will try to decrease where it doesn't affect the buffer(?)"
   ]
  },
  {
   "cell_type": "code",
   "execution_count": 45,
   "metadata": {},
   "outputs": [
    {
     "name": "stdout",
     "output_type": "stream",
     "text": [
      "   Trial  Timestamp  Timestamp_diff  Delay (us)  Ping Time (us)\n",
      "0      0    5182160             NaN     30000.0             339\n",
      "1      1    5196752         14592.0     30000.0             387\n",
      "2      2    5211348         14596.0     30000.0             387\n",
      "3      3    5225936         14588.0     30000.0             383\n",
      "4      4    5240524         14588.0     30000.0             383\n",
      "count      199.000000\n",
      "mean    -15409.407035\n",
      "std          4.595799\n",
      "min     -15436.000000\n",
      "25%     -15412.000000\n",
      "50%     -15412.000000\n",
      "75%     -15408.000000\n",
      "max     -15396.000000\n",
      "Name: Timestamp_vs_Delay_diff, dtype: float64\n"
     ]
    }
   ],
   "source": [
    "# Example usage\n",
    "file_path = '/Users/jihoonchung/Documents/MIE Master of Eng/ML_Sensor_Characterization/ultra_sonic_sensor/Improved_usability/data_collection/US_data_test_30000us.csv'\n",
    "summary_stats,_ = analyze_timestamp_vs_delay(file_path)"
   ]
  },
  {
   "cell_type": "code",
   "execution_count": 49,
   "metadata": {},
   "outputs": [
    {
     "name": "stdout",
     "output_type": "stream",
     "text": [
      "   Trial  Timestamp  Timestamp_diff  Delay (us)  Ping Time (us)\n",
      "0      0    6195732             NaN     30000.0             343\n",
      "1      1    6210320         14588.0     30000.0             387\n",
      "2      2    6224892         14572.0     30000.0             367\n",
      "3      3    6239488         14596.0     30000.0             387\n",
      "4      4    6254076         14588.0     30000.0             387\n",
      "count      199.000000\n",
      "mean    -15412.100503\n",
      "std          7.994313\n",
      "min     -15436.000000\n",
      "25%     -15412.000000\n",
      "50%     -15412.000000\n",
      "75%     -15408.000000\n",
      "max     -15400.000000\n",
      "Name: Timestamp_vs_Delay_diff, dtype: float64\n"
     ]
    }
   ],
   "source": [
    "# Example usage\n",
    "file_path = '/Users/jihoonchung/Documents/MIE Master of Eng/ML_Sensor_Characterization/ultra_sonic_sensor/Improved_usability/data_collection/US_data_data_test_30000us_2.csv'\n",
    "summary_stats,_ = analyze_timestamp_vs_delay(file_path)"
   ]
  },
  {
   "cell_type": "code",
   "execution_count": 42,
   "metadata": {},
   "outputs": [
    {
     "name": "stdout",
     "output_type": "stream",
     "text": [
      "   Trial  Timestamp  Timestamp_diff  Delay (us)  Ping Time (us)\n",
      "0      0      95512             NaN     20000.0             343\n",
      "1      1     100040          4528.0     20000.0             391\n",
      "2      2     104572          4532.0     20000.0             387\n",
      "3      3     109100          4528.0     20000.0             387\n",
      "4      4     113632          4532.0     20000.0             387\n",
      "count      199.000000\n",
      "mean    -15469.567839\n",
      "std          4.836119\n",
      "min     -15488.000000\n",
      "25%     -15472.000000\n",
      "50%     -15468.000000\n",
      "75%     -15468.000000\n",
      "max     -15456.000000\n",
      "Name: Timestamp_vs_Delay_diff, dtype: float64\n"
     ]
    }
   ],
   "source": [
    "# Example usage\n",
    "file_path = '/Users/jihoonchung/Documents/MIE Master of Eng/ML_Sensor_Characterization/ultra_sonic_sensor/Improved_usability/data_collection/US_data_test_20000us.csv'\n",
    "summary_stats,_ = analyze_timestamp_vs_delay(file_path)"
   ]
  },
  {
   "cell_type": "code",
   "execution_count": 43,
   "metadata": {},
   "outputs": [
    {
     "name": "stdout",
     "output_type": "stream",
     "text": [
      "   Trial  Timestamp  Timestamp_diff  Delay (us)  Ping Time (us)\n",
      "0      0   22974296             NaN     20000.0             383\n",
      "1      1   22978828          4532.0     20000.0             387\n",
      "2      2   22983360          4532.0     20000.0             391\n",
      "3      3   22987892          4532.0     20000.0             387\n",
      "4      4   22992420          4528.0     20000.0             387\n",
      "count      199.000000\n",
      "mean    -15468.984925\n",
      "std          3.606220\n",
      "min     -15476.000000\n",
      "25%     -15472.000000\n",
      "50%     -15468.000000\n",
      "75%     -15468.000000\n",
      "max     -15460.000000\n",
      "Name: Timestamp_vs_Delay_diff, dtype: float64\n"
     ]
    }
   ],
   "source": [
    "# Example usage\n",
    "file_path = '/Users/jihoonchung/Documents/MIE Master of Eng/ML_Sensor_Characterization/ultra_sonic_sensor/Improved_usability/data_collection/US_data_test_20000us_2.csv'\n",
    "summary_stats,_ = analyze_timestamp_vs_delay(file_path)"
   ]
  },
  {
   "cell_type": "markdown",
   "metadata": {},
   "source": []
  }
 ],
 "metadata": {
  "kernelspec": {
   "display_name": "datascience",
   "language": "python",
   "name": "python3"
  },
  "language_info": {
   "codemirror_mode": {
    "name": "ipython",
    "version": 3
   },
   "file_extension": ".py",
   "mimetype": "text/x-python",
   "name": "python",
   "nbconvert_exporter": "python",
   "pygments_lexer": "ipython3",
   "version": "3.10.13"
  }
 },
 "nbformat": 4,
 "nbformat_minor": 2
}
