{
 "cells": [
  {
   "cell_type": "markdown",
   "metadata": {},
   "source": [
    "# Ultrasonic Data Feature Engineering"
   ]
  },
  {
   "cell_type": "markdown",
   "metadata": {},
   "source": [
    "Export sensor data 1-6 and merge them and fill up NaNs"
   ]
  },
  {
   "cell_type": "code",
   "execution_count": 1,
   "metadata": {},
   "outputs": [],
   "source": [
    "import os\n",
    "import pandas as pd\n",
    "import matplotlib.pyplot as plt\n",
    "import seaborn as sns\n",
    "import plotly.express as px"
   ]
  },
  {
   "cell_type": "code",
   "execution_count": 2,
   "metadata": {},
   "outputs": [],
   "source": [
    "def get_all_files_in_directory(root_directory):\n",
    "    file_paths = []\n",
    "    for root, dirs, files in os.walk(root_directory):\n",
    "        for file in files:\n",
    "            file_paths.append(os.path.join(root, file))\n",
    "    return file_paths\n",
    "\n",
    "\n",
    "def merge_csv_files(file_paths):\n",
    "    \"\"\"\n",
    "    Merge multiple CSV files into a single DataFrame.\n",
    "\n",
    "    Parameters:\n",
    "    file_paths (list of str): List of file paths to the CSV files.\n",
    "\n",
    "    Returns:\n",
    "    DataFrame: Merged DataFrame containing data from all input CSV files.\n",
    "    \"\"\"\n",
    "    dataframes = []\n",
    "    for file in file_paths:\n",
    "        df = pd.read_csv(file)\n",
    "        dataframes.append(df)\n",
    "\n",
    "    # Concatenate all DataFrames\n",
    "    merged_df = pd.concat(dataframes, ignore_index=True)\n",
    "    \n",
    "    return merged_df"
   ]
  },
  {
   "cell_type": "markdown",
   "metadata": {},
   "source": [
    "## Import data"
   ]
  },
  {
   "cell_type": "markdown",
   "metadata": {},
   "source": [
    "Currently there are 20 sensor datas."
   ]
  },
  {
   "cell_type": "code",
   "execution_count": 3,
   "metadata": {},
   "outputs": [
    {
     "data": {
      "text/html": [
       "<div>\n",
       "<style scoped>\n",
       "    .dataframe tbody tr th:only-of-type {\n",
       "        vertical-align: middle;\n",
       "    }\n",
       "\n",
       "    .dataframe tbody tr th {\n",
       "        vertical-align: top;\n",
       "    }\n",
       "\n",
       "    .dataframe thead th {\n",
       "        text-align: right;\n",
       "    }\n",
       "</style>\n",
       "<table border=\"1\" class=\"dataframe\">\n",
       "  <thead>\n",
       "    <tr style=\"text-align: right;\">\n",
       "      <th></th>\n",
       "      <th>Trial</th>\n",
       "      <th>Ping Duration</th>\n",
       "      <th>Distance (cm)</th>\n",
       "      <th>Ping Time (us)</th>\n",
       "      <th>Delay (us)</th>\n",
       "      <th>Steps</th>\n",
       "      <th>Arduino ID</th>\n",
       "      <th>Sensor ID</th>\n",
       "      <th>Range (cm)</th>\n",
       "      <th>Sensor length (cm)</th>\n",
       "      <th>...</th>\n",
       "      <th>side a (cm)</th>\n",
       "      <th>side b (cm)</th>\n",
       "      <th>side c (cm)</th>\n",
       "      <th>Angle on YZ plane</th>\n",
       "      <th>Sensor Configuration</th>\n",
       "      <th>Sensor Angle</th>\n",
       "      <th>Surface material</th>\n",
       "      <th>Surface Length (cm)</th>\n",
       "      <th>Surface Width (cm)</th>\n",
       "      <th>side g (cm)</th>\n",
       "    </tr>\n",
       "  </thead>\n",
       "  <tbody>\n",
       "    <tr>\n",
       "      <th>0</th>\n",
       "      <td>0</td>\n",
       "      <td>3416</td>\n",
       "      <td>13.25</td>\n",
       "      <td>755</td>\n",
       "      <td>16800</td>\n",
       "      <td>11223.0</td>\n",
       "      <td>1</td>\n",
       "      <td>51</td>\n",
       "      <td>13</td>\n",
       "      <td>0.8</td>\n",
       "      <td>...</td>\n",
       "      <td>18.3</td>\n",
       "      <td>18.3</td>\n",
       "      <td>0</td>\n",
       "      <td>0</td>\n",
       "      <td>HTR</td>\n",
       "      <td>90</td>\n",
       "      <td>wood</td>\n",
       "      <td>31</td>\n",
       "      <td>30.5</td>\n",
       "      <td>NaN</td>\n",
       "    </tr>\n",
       "    <tr>\n",
       "      <th>1</th>\n",
       "      <td>1</td>\n",
       "      <td>3400</td>\n",
       "      <td>12.82</td>\n",
       "      <td>731</td>\n",
       "      <td>16800</td>\n",
       "      <td>11223.0</td>\n",
       "      <td>1</td>\n",
       "      <td>51</td>\n",
       "      <td>13</td>\n",
       "      <td>0.8</td>\n",
       "      <td>...</td>\n",
       "      <td>18.3</td>\n",
       "      <td>18.3</td>\n",
       "      <td>0</td>\n",
       "      <td>0</td>\n",
       "      <td>HTR</td>\n",
       "      <td>90</td>\n",
       "      <td>wood</td>\n",
       "      <td>31</td>\n",
       "      <td>30.5</td>\n",
       "      <td>NaN</td>\n",
       "    </tr>\n",
       "    <tr>\n",
       "      <th>2</th>\n",
       "      <td>2</td>\n",
       "      <td>3432</td>\n",
       "      <td>13.32</td>\n",
       "      <td>759</td>\n",
       "      <td>16800</td>\n",
       "      <td>11223.0</td>\n",
       "      <td>1</td>\n",
       "      <td>51</td>\n",
       "      <td>13</td>\n",
       "      <td>0.8</td>\n",
       "      <td>...</td>\n",
       "      <td>18.3</td>\n",
       "      <td>18.3</td>\n",
       "      <td>0</td>\n",
       "      <td>0</td>\n",
       "      <td>HTR</td>\n",
       "      <td>90</td>\n",
       "      <td>wood</td>\n",
       "      <td>31</td>\n",
       "      <td>30.5</td>\n",
       "      <td>NaN</td>\n",
       "    </tr>\n",
       "    <tr>\n",
       "      <th>3</th>\n",
       "      <td>3</td>\n",
       "      <td>3424</td>\n",
       "      <td>13.32</td>\n",
       "      <td>759</td>\n",
       "      <td>16800</td>\n",
       "      <td>11223.0</td>\n",
       "      <td>1</td>\n",
       "      <td>51</td>\n",
       "      <td>13</td>\n",
       "      <td>0.8</td>\n",
       "      <td>...</td>\n",
       "      <td>18.3</td>\n",
       "      <td>18.3</td>\n",
       "      <td>0</td>\n",
       "      <td>0</td>\n",
       "      <td>HTR</td>\n",
       "      <td>90</td>\n",
       "      <td>wood</td>\n",
       "      <td>31</td>\n",
       "      <td>30.5</td>\n",
       "      <td>NaN</td>\n",
       "    </tr>\n",
       "    <tr>\n",
       "      <th>4</th>\n",
       "      <td>4</td>\n",
       "      <td>3428</td>\n",
       "      <td>13.25</td>\n",
       "      <td>755</td>\n",
       "      <td>16800</td>\n",
       "      <td>11223.0</td>\n",
       "      <td>1</td>\n",
       "      <td>51</td>\n",
       "      <td>13</td>\n",
       "      <td>0.8</td>\n",
       "      <td>...</td>\n",
       "      <td>18.3</td>\n",
       "      <td>18.3</td>\n",
       "      <td>0</td>\n",
       "      <td>0</td>\n",
       "      <td>HTR</td>\n",
       "      <td>90</td>\n",
       "      <td>wood</td>\n",
       "      <td>31</td>\n",
       "      <td>30.5</td>\n",
       "      <td>NaN</td>\n",
       "    </tr>\n",
       "    <tr>\n",
       "      <th>...</th>\n",
       "      <td>...</td>\n",
       "      <td>...</td>\n",
       "      <td>...</td>\n",
       "      <td>...</td>\n",
       "      <td>...</td>\n",
       "      <td>...</td>\n",
       "      <td>...</td>\n",
       "      <td>...</td>\n",
       "      <td>...</td>\n",
       "      <td>...</td>\n",
       "      <td>...</td>\n",
       "      <td>...</td>\n",
       "      <td>...</td>\n",
       "      <td>...</td>\n",
       "      <td>...</td>\n",
       "      <td>...</td>\n",
       "      <td>...</td>\n",
       "      <td>...</td>\n",
       "      <td>...</td>\n",
       "      <td>...</td>\n",
       "      <td>...</td>\n",
       "    </tr>\n",
       "    <tr>\n",
       "      <th>218176</th>\n",
       "      <td>45</td>\n",
       "      <td>6528</td>\n",
       "      <td>52.82</td>\n",
       "      <td>3011</td>\n",
       "      <td>3000</td>\n",
       "      <td>0.0</td>\n",
       "      <td>1</td>\n",
       "      <td>100</td>\n",
       "      <td>53</td>\n",
       "      <td>0.8</td>\n",
       "      <td>...</td>\n",
       "      <td>18.3</td>\n",
       "      <td>18.3</td>\n",
       "      <td>0</td>\n",
       "      <td>0</td>\n",
       "      <td>HTR</td>\n",
       "      <td>90</td>\n",
       "      <td>wood</td>\n",
       "      <td>31</td>\n",
       "      <td>30.5</td>\n",
       "      <td>NaN</td>\n",
       "    </tr>\n",
       "    <tr>\n",
       "      <th>218177</th>\n",
       "      <td>46</td>\n",
       "      <td>6524</td>\n",
       "      <td>52.89</td>\n",
       "      <td>3015</td>\n",
       "      <td>3000</td>\n",
       "      <td>0.0</td>\n",
       "      <td>1</td>\n",
       "      <td>100</td>\n",
       "      <td>53</td>\n",
       "      <td>0.8</td>\n",
       "      <td>...</td>\n",
       "      <td>18.3</td>\n",
       "      <td>18.3</td>\n",
       "      <td>0</td>\n",
       "      <td>0</td>\n",
       "      <td>HTR</td>\n",
       "      <td>90</td>\n",
       "      <td>wood</td>\n",
       "      <td>31</td>\n",
       "      <td>30.5</td>\n",
       "      <td>NaN</td>\n",
       "    </tr>\n",
       "    <tr>\n",
       "      <th>218178</th>\n",
       "      <td>47</td>\n",
       "      <td>6556</td>\n",
       "      <td>53.32</td>\n",
       "      <td>3039</td>\n",
       "      <td>3000</td>\n",
       "      <td>0.0</td>\n",
       "      <td>1</td>\n",
       "      <td>100</td>\n",
       "      <td>53</td>\n",
       "      <td>0.8</td>\n",
       "      <td>...</td>\n",
       "      <td>18.3</td>\n",
       "      <td>18.3</td>\n",
       "      <td>0</td>\n",
       "      <td>0</td>\n",
       "      <td>HTR</td>\n",
       "      <td>90</td>\n",
       "      <td>wood</td>\n",
       "      <td>31</td>\n",
       "      <td>30.5</td>\n",
       "      <td>NaN</td>\n",
       "    </tr>\n",
       "    <tr>\n",
       "      <th>218179</th>\n",
       "      <td>48</td>\n",
       "      <td>6556</td>\n",
       "      <td>53.39</td>\n",
       "      <td>3043</td>\n",
       "      <td>3000</td>\n",
       "      <td>0.0</td>\n",
       "      <td>1</td>\n",
       "      <td>100</td>\n",
       "      <td>53</td>\n",
       "      <td>0.8</td>\n",
       "      <td>...</td>\n",
       "      <td>18.3</td>\n",
       "      <td>18.3</td>\n",
       "      <td>0</td>\n",
       "      <td>0</td>\n",
       "      <td>HTR</td>\n",
       "      <td>90</td>\n",
       "      <td>wood</td>\n",
       "      <td>31</td>\n",
       "      <td>30.5</td>\n",
       "      <td>NaN</td>\n",
       "    </tr>\n",
       "    <tr>\n",
       "      <th>218180</th>\n",
       "      <td>49</td>\n",
       "      <td>6528</td>\n",
       "      <td>52.82</td>\n",
       "      <td>3011</td>\n",
       "      <td>3000</td>\n",
       "      <td>0.0</td>\n",
       "      <td>1</td>\n",
       "      <td>100</td>\n",
       "      <td>53</td>\n",
       "      <td>0.8</td>\n",
       "      <td>...</td>\n",
       "      <td>18.3</td>\n",
       "      <td>18.3</td>\n",
       "      <td>0</td>\n",
       "      <td>0</td>\n",
       "      <td>HTR</td>\n",
       "      <td>90</td>\n",
       "      <td>wood</td>\n",
       "      <td>31</td>\n",
       "      <td>30.5</td>\n",
       "      <td>NaN</td>\n",
       "    </tr>\n",
       "  </tbody>\n",
       "</table>\n",
       "<p>218181 rows × 22 columns</p>\n",
       "</div>"
      ],
      "text/plain": [
       "        Trial  Ping Duration  Distance (cm)  Ping Time (us)  Delay (us)  \\\n",
       "0           0           3416          13.25             755       16800   \n",
       "1           1           3400          12.82             731       16800   \n",
       "2           2           3432          13.32             759       16800   \n",
       "3           3           3424          13.32             759       16800   \n",
       "4           4           3428          13.25             755       16800   \n",
       "...       ...            ...            ...             ...         ...   \n",
       "218176     45           6528          52.82            3011        3000   \n",
       "218177     46           6524          52.89            3015        3000   \n",
       "218178     47           6556          53.32            3039        3000   \n",
       "218179     48           6556          53.39            3043        3000   \n",
       "218180     49           6528          52.82            3011        3000   \n",
       "\n",
       "          Steps  Arduino ID  Sensor ID  Range (cm)  Sensor length (cm)  ...  \\\n",
       "0       11223.0           1         51          13                 0.8  ...   \n",
       "1       11223.0           1         51          13                 0.8  ...   \n",
       "2       11223.0           1         51          13                 0.8  ...   \n",
       "3       11223.0           1         51          13                 0.8  ...   \n",
       "4       11223.0           1         51          13                 0.8  ...   \n",
       "...         ...         ...        ...         ...                 ...  ...   \n",
       "218176      0.0           1        100          53                 0.8  ...   \n",
       "218177      0.0           1        100          53                 0.8  ...   \n",
       "218178      0.0           1        100          53                 0.8  ...   \n",
       "218179      0.0           1        100          53                 0.8  ...   \n",
       "218180      0.0           1        100          53                 0.8  ...   \n",
       "\n",
       "       side a (cm)  side b (cm)  side c (cm)  Angle on YZ plane  \\\n",
       "0             18.3         18.3            0                  0   \n",
       "1             18.3         18.3            0                  0   \n",
       "2             18.3         18.3            0                  0   \n",
       "3             18.3         18.3            0                  0   \n",
       "4             18.3         18.3            0                  0   \n",
       "...            ...          ...          ...                ...   \n",
       "218176        18.3         18.3            0                  0   \n",
       "218177        18.3         18.3            0                  0   \n",
       "218178        18.3         18.3            0                  0   \n",
       "218179        18.3         18.3            0                  0   \n",
       "218180        18.3         18.3            0                  0   \n",
       "\n",
       "        Sensor Configuration  Sensor Angle Surface material  \\\n",
       "0                        HTR            90             wood   \n",
       "1                        HTR            90             wood   \n",
       "2                        HTR            90             wood   \n",
       "3                        HTR            90             wood   \n",
       "4                        HTR            90             wood   \n",
       "...                      ...           ...              ...   \n",
       "218176                   HTR            90             wood   \n",
       "218177                   HTR            90             wood   \n",
       "218178                   HTR            90             wood   \n",
       "218179                   HTR            90             wood   \n",
       "218180                   HTR            90             wood   \n",
       "\n",
       "        Surface Length (cm) Surface Width (cm)  side g (cm)  \n",
       "0                        31               30.5          NaN  \n",
       "1                        31               30.5          NaN  \n",
       "2                        31               30.5          NaN  \n",
       "3                        31               30.5          NaN  \n",
       "4                        31               30.5          NaN  \n",
       "...                     ...                ...          ...  \n",
       "218176                   31               30.5          NaN  \n",
       "218177                   31               30.5          NaN  \n",
       "218178                   31               30.5          NaN  \n",
       "218179                   31               30.5          NaN  \n",
       "218180                   31               30.5          NaN  \n",
       "\n",
       "[218181 rows x 22 columns]"
      ]
     },
     "execution_count": 3,
     "metadata": {},
     "output_type": "execute_result"
    }
   ],
   "source": [
    "folder_path = '../../ultra_sonic_sensor/fully_automate/data_v4.1.1'\n",
    "file_paths = get_all_files_in_directory(folder_path)\n",
    "df_data_v4_1_1 = merge_csv_files(file_paths)\n",
    "df_data_v4_1_1"
   ]
  },
  {
   "cell_type": "markdown",
   "metadata": {},
   "source": [
    "Clean data"
   ]
  },
  {
   "cell_type": "code",
   "execution_count": 4,
   "metadata": {},
   "outputs": [
    {
     "name": "stderr",
     "output_type": "stream",
     "text": [
      "/var/folders/9b/zsztmz7j6v92l4fdx69q5pxh0000gn/T/ipykernel_48813/1472902145.py:8: FutureWarning: A value is trying to be set on a copy of a DataFrame or Series through chained assignment using an inplace method.\n",
      "The behavior will change in pandas 3.0. This inplace method will never work because the intermediate object on which we are setting values always behaves as a copy.\n",
      "\n",
      "For example, when doing 'df[col].method(value, inplace=True)', try using 'df.method({col: value}, inplace=True)' or df[col] = df[col].method(value) instead, to perform the operation inplace on the original object.\n",
      "\n",
      "\n",
      "  df_data_v4_1_1[col].fillna(mode_value, inplace=True)  # Replace NaNs with the mode value\n"
     ]
    }
   ],
   "source": [
    "# Step 1: Identify Columns with NaNs\n",
    "nan_columns = df_data_v4_1_1.columns[df_data_v4_1_1.isnull().any()]\n",
    "\n",
    "# Step 2: Find Mode and Replace NaNs\n",
    "for col in nan_columns:\n",
    "    if df_data_v4_1_1[col].dtype == object:  # Check if the column is categorical\n",
    "        mode_value = df_data_v4_1_1[col].mode()[0]  # Find the mode value (most frequent value)\\\n",
    "        df_data_v4_1_1[col].fillna(mode_value, inplace=True)  # Replace NaNs with the mode value\n",
    "\n",
    "df_data_v4_1_1[\"Color of sensor\"] = df_data_v4_1_1[\"Color of sensor\"].str.lower()"
   ]
  },
  {
   "cell_type": "code",
   "execution_count": 5,
   "metadata": {},
   "outputs": [],
   "source": [
    "values_to_keep = [16800,10000,8000,6000,3000]\n",
    "df_data_v4_1_1 = df_data_v4_1_1[df_data_v4_1_1[\"Delay (us)\"].isin(values_to_keep)]"
   ]
  },
  {
   "cell_type": "markdown",
   "metadata": {},
   "source": [
    "# Feature Engineering:  Add IQR Range_delay"
   ]
  },
  {
   "cell_type": "markdown",
   "metadata": {},
   "source": [
    "Helper codes"
   ]
  },
  {
   "cell_type": "code",
   "execution_count": 6,
   "metadata": {},
   "outputs": [],
   "source": [
    "def identify_and_remove_outliers(df, column):\n",
    "    Q1 = df[column].quantile(0.25)\n",
    "    Q3 = df[column].quantile(0.75)\n",
    "    IQR = Q3 - Q1\n",
    "    lower_bound = Q1 - 1.5 * IQR\n",
    "    upper_bound = Q3 + 1.5 * IQR\n",
    "    df_no_outliers = df[(df[column] >= lower_bound) & (df[column] <= upper_bound)]\n",
    "    df_outliers_lower = df[(df[column] <= lower_bound)]\n",
    "    df_outliers_upper = df[(df[column] >= upper_bound)]\n",
    "    return df_no_outliers,df_outliers_lower,df_outliers_upper\n",
    "\n",
    "def split_quartiles(df):\n",
    "    # Group the data by 'Sensor ID', 'Delay (us)', and 'Range (cm)'\n",
    "    df_copy = df.copy()\n",
    "    grouped = df_copy.groupby(['Sensor ID', 'Delay (us)', 'Range (cm)'])\n",
    "\n",
    "    # Identify and remove outliers for each group\n",
    "    middle_quartile = []\n",
    "    lower_quartile = []\n",
    "    upper_quartile = []\n",
    "\n",
    "    for name, group in grouped:\n",
    "        cleaned_group = group.copy()\n",
    "        for column in ['Ping Time (us)']:\n",
    "            middle_quartile_group,lower_quartile_group,upper_quartile_group = identify_and_remove_outliers(cleaned_group, column)\n",
    "        middle_quartile.append(middle_quartile_group)\n",
    "        lower_quartile.append(lower_quartile_group)\n",
    "        upper_quartile.append(upper_quartile_group)\n",
    "    # Combine the cleaned groups into a single DataFrame\n",
    "    df_middle_quartile= pd.concat(middle_quartile)\n",
    "    df_lower_quartile = pd.concat(lower_quartile)\n",
    "    df_upper_quartile = pd.concat(upper_quartile)\n",
    "    \n",
    "    return df_middle_quartile, df_lower_quartile, df_upper_quartile\n",
    "\n",
    "\n",
    "def create_range_delay_feature(df_quartile,bound):\n",
    "    # Step 1: Group and calculate mean\n",
    "    df_grouped = df_quartile.groupby(['Sensor ID', 'Range (cm)', 'Delay (us)'])['Ping Time (us)'].mean().reset_index()\n",
    "\n",
    "    # Step 2: Create `range_delay` column\n",
    "    df_grouped['range_delay'] = df_grouped['Range (cm)'].astype(str) + '_' + df_grouped['Delay (us)'].astype(str)+'_'+'mean'+'_'+bound\n",
    "\n",
    "    # Step 3: Pivot the table\n",
    "    df_pivot = df_grouped.pivot(index='Sensor ID', columns='range_delay', values='Ping Time (us)').reset_index()\n",
    "    \n",
    "    return df_pivot"
   ]
  },
  {
   "cell_type": "code",
   "execution_count": 7,
   "metadata": {},
   "outputs": [],
   "source": [
    "df_middle_quartile, df_lower_quartile, df_upper_quartile = split_quartiles(df_data_v4_1_1)"
   ]
  },
  {
   "cell_type": "code",
   "execution_count": 8,
   "metadata": {},
   "outputs": [
    {
     "data": {
      "text/html": [
       "<div>\n",
       "<style scoped>\n",
       "    .dataframe tbody tr th:only-of-type {\n",
       "        vertical-align: middle;\n",
       "    }\n",
       "\n",
       "    .dataframe tbody tr th {\n",
       "        vertical-align: top;\n",
       "    }\n",
       "\n",
       "    .dataframe thead th {\n",
       "        text-align: right;\n",
       "    }\n",
       "</style>\n",
       "<table border=\"1\" class=\"dataframe\">\n",
       "  <thead>\n",
       "    <tr style=\"text-align: right;\">\n",
       "      <th></th>\n",
       "      <th>Range (cm)</th>\n",
       "      <th>Delay (us)</th>\n",
       "      <th>Ping Time (us)</th>\n",
       "    </tr>\n",
       "    <tr>\n",
       "      <th>Sensor ID</th>\n",
       "      <th></th>\n",
       "      <th></th>\n",
       "      <th></th>\n",
       "    </tr>\n",
       "  </thead>\n",
       "  <tbody>\n",
       "    <tr>\n",
       "      <th>32</th>\n",
       "      <td>13</td>\n",
       "      <td>3000</td>\n",
       "      <td>765.640000</td>\n",
       "    </tr>\n",
       "    <tr>\n",
       "      <th>32</th>\n",
       "      <td>13</td>\n",
       "      <td>6000</td>\n",
       "      <td>765.560000</td>\n",
       "    </tr>\n",
       "    <tr>\n",
       "      <th>32</th>\n",
       "      <td>13</td>\n",
       "      <td>8000</td>\n",
       "      <td>766.120000</td>\n",
       "    </tr>\n",
       "    <tr>\n",
       "      <th>32</th>\n",
       "      <td>13</td>\n",
       "      <td>10000</td>\n",
       "      <td>765.626263</td>\n",
       "    </tr>\n",
       "    <tr>\n",
       "      <th>32</th>\n",
       "      <td>13</td>\n",
       "      <td>16800</td>\n",
       "      <td>765.693878</td>\n",
       "    </tr>\n",
       "    <tr>\n",
       "      <th>...</th>\n",
       "      <td>...</td>\n",
       "      <td>...</td>\n",
       "      <td>...</td>\n",
       "    </tr>\n",
       "    <tr>\n",
       "      <th>108</th>\n",
       "      <td>53</td>\n",
       "      <td>3000</td>\n",
       "      <td>3034.282051</td>\n",
       "    </tr>\n",
       "    <tr>\n",
       "      <th>108</th>\n",
       "      <td>53</td>\n",
       "      <td>6000</td>\n",
       "      <td>3043.240000</td>\n",
       "    </tr>\n",
       "    <tr>\n",
       "      <th>108</th>\n",
       "      <td>53</td>\n",
       "      <td>8000</td>\n",
       "      <td>3035.105263</td>\n",
       "    </tr>\n",
       "    <tr>\n",
       "      <th>108</th>\n",
       "      <td>53</td>\n",
       "      <td>10000</td>\n",
       "      <td>3034.794872</td>\n",
       "    </tr>\n",
       "    <tr>\n",
       "      <th>108</th>\n",
       "      <td>53</td>\n",
       "      <td>16800</td>\n",
       "      <td>3051.080000</td>\n",
       "    </tr>\n",
       "  </tbody>\n",
       "</table>\n",
       "<p>3465 rows × 3 columns</p>\n",
       "</div>"
      ],
      "text/plain": [
       "           Range (cm)  Delay (us)  Ping Time (us)\n",
       "Sensor ID                                        \n",
       "32                 13        3000      765.640000\n",
       "32                 13        6000      765.560000\n",
       "32                 13        8000      766.120000\n",
       "32                 13       10000      765.626263\n",
       "32                 13       16800      765.693878\n",
       "...               ...         ...             ...\n",
       "108                53        3000     3034.282051\n",
       "108                53        6000     3043.240000\n",
       "108                53        8000     3035.105263\n",
       "108                53       10000     3034.794872\n",
       "108                53       16800     3051.080000\n",
       "\n",
       "[3465 rows x 3 columns]"
      ]
     },
     "execution_count": 8,
     "metadata": {},
     "output_type": "execute_result"
    }
   ],
   "source": [
    "df_middle_quartile.groupby(['Sensor ID','Range (cm)', 'Delay (us)'])['Ping Time (us)'].mean().reset_index([\"Delay (us)\",\"Range (cm)\"])"
   ]
  },
  {
   "cell_type": "code",
   "execution_count": 9,
   "metadata": {},
   "outputs": [
    {
     "data": {
      "text/html": [
       "<div>\n",
       "<style scoped>\n",
       "    .dataframe tbody tr th:only-of-type {\n",
       "        vertical-align: middle;\n",
       "    }\n",
       "\n",
       "    .dataframe tbody tr th {\n",
       "        vertical-align: top;\n",
       "    }\n",
       "\n",
       "    .dataframe thead th {\n",
       "        text-align: right;\n",
       "    }\n",
       "</style>\n",
       "<table border=\"1\" class=\"dataframe\">\n",
       "  <thead>\n",
       "    <tr style=\"text-align: right;\">\n",
       "      <th>range_delay</th>\n",
       "      <th>Sensor ID</th>\n",
       "      <th>13_10000_mean_middle</th>\n",
       "      <th>13_16800_mean_middle</th>\n",
       "      <th>13_3000_mean_middle</th>\n",
       "      <th>13_6000_mean_middle</th>\n",
       "      <th>13_8000_mean_middle</th>\n",
       "      <th>18_10000_mean_middle</th>\n",
       "      <th>18_16800_mean_middle</th>\n",
       "      <th>18_3000_mean_middle</th>\n",
       "      <th>18_6000_mean_middle</th>\n",
       "      <th>...</th>\n",
       "      <th>48_10000_mean_middle</th>\n",
       "      <th>48_16800_mean_middle</th>\n",
       "      <th>48_3000_mean_middle</th>\n",
       "      <th>48_6000_mean_middle</th>\n",
       "      <th>48_8000_mean_middle</th>\n",
       "      <th>53_10000_mean_middle</th>\n",
       "      <th>53_16800_mean_middle</th>\n",
       "      <th>53_3000_mean_middle</th>\n",
       "      <th>53_6000_mean_middle</th>\n",
       "      <th>53_8000_mean_middle</th>\n",
       "    </tr>\n",
       "  </thead>\n",
       "  <tbody>\n",
       "    <tr>\n",
       "      <th>0</th>\n",
       "      <td>32</td>\n",
       "      <td>765.626263</td>\n",
       "      <td>765.693878</td>\n",
       "      <td>765.640000</td>\n",
       "      <td>765.560000</td>\n",
       "      <td>766.120000</td>\n",
       "      <td>1057.280000</td>\n",
       "      <td>821.200000</td>\n",
       "      <td>1057.626263</td>\n",
       "      <td>1057.440000</td>\n",
       "      <td>...</td>\n",
       "      <td>2765.200000</td>\n",
       "      <td>2771.200000</td>\n",
       "      <td>2765.315789</td>\n",
       "      <td>2765.520000</td>\n",
       "      <td>2765.160000</td>\n",
       "      <td>3090.111111</td>\n",
       "      <td>3088.120000</td>\n",
       "      <td>3090.480000</td>\n",
       "      <td>3089.560000</td>\n",
       "      <td>3090.000000</td>\n",
       "    </tr>\n",
       "    <tr>\n",
       "      <th>1</th>\n",
       "      <td>33</td>\n",
       "      <td>755.000000</td>\n",
       "      <td>779.530612</td>\n",
       "      <td>736.640000</td>\n",
       "      <td>779.275862</td>\n",
       "      <td>755.467532</td>\n",
       "      <td>1024.818182</td>\n",
       "      <td>1035.640000</td>\n",
       "      <td>1024.777778</td>\n",
       "      <td>1025.720000</td>\n",
       "      <td>...</td>\n",
       "      <td>2725.800000</td>\n",
       "      <td>2726.920000</td>\n",
       "      <td>2739.000000</td>\n",
       "      <td>2729.600000</td>\n",
       "      <td>2729.040000</td>\n",
       "      <td>3040.480000</td>\n",
       "      <td>3016.896907</td>\n",
       "      <td>3042.000000</td>\n",
       "      <td>3047.571429</td>\n",
       "      <td>3049.026667</td>\n",
       "    </tr>\n",
       "    <tr>\n",
       "      <th>2</th>\n",
       "      <td>34</td>\n",
       "      <td>665.680000</td>\n",
       "      <td>658.920000</td>\n",
       "      <td>675.989247</td>\n",
       "      <td>653.682353</td>\n",
       "      <td>665.240000</td>\n",
       "      <td>969.480000</td>\n",
       "      <td>969.469136</td>\n",
       "      <td>969.520000</td>\n",
       "      <td>969.585859</td>\n",
       "      <td>...</td>\n",
       "      <td>2641.160000</td>\n",
       "      <td>2640.979798</td>\n",
       "      <td>2643.360000</td>\n",
       "      <td>2642.040000</td>\n",
       "      <td>2641.480000</td>\n",
       "      <td>2941.040000</td>\n",
       "      <td>2940.920000</td>\n",
       "      <td>2944.301205</td>\n",
       "      <td>2939.960000</td>\n",
       "      <td>2948.090909</td>\n",
       "    </tr>\n",
       "    <tr>\n",
       "      <th>3</th>\n",
       "      <td>35</td>\n",
       "      <td>861.640000</td>\n",
       "      <td>861.626263</td>\n",
       "      <td>804.320000</td>\n",
       "      <td>861.840000</td>\n",
       "      <td>863.000000</td>\n",
       "      <td>1012.333333</td>\n",
       "      <td>1011.800000</td>\n",
       "      <td>1012.720000</td>\n",
       "      <td>1012.240000</td>\n",
       "      <td>...</td>\n",
       "      <td>2755.000000</td>\n",
       "      <td>2777.813187</td>\n",
       "      <td>2755.000000</td>\n",
       "      <td>2777.595745</td>\n",
       "      <td>2755.418605</td>\n",
       "      <td>3014.760000</td>\n",
       "      <td>3015.720000</td>\n",
       "      <td>3029.800000</td>\n",
       "      <td>3029.813187</td>\n",
       "      <td>3017.120000</td>\n",
       "    </tr>\n",
       "    <tr>\n",
       "      <th>4</th>\n",
       "      <td>36</td>\n",
       "      <td>743.520000</td>\n",
       "      <td>743.962025</td>\n",
       "      <td>743.360000</td>\n",
       "      <td>743.680000</td>\n",
       "      <td>743.600000</td>\n",
       "      <td>1067.000000</td>\n",
       "      <td>1054.880000</td>\n",
       "      <td>1064.494949</td>\n",
       "      <td>1067.000000</td>\n",
       "      <td>...</td>\n",
       "      <td>2770.083333</td>\n",
       "      <td>2753.960000</td>\n",
       "      <td>2763.160000</td>\n",
       "      <td>2754.680000</td>\n",
       "      <td>2769.608696</td>\n",
       "      <td>3085.712644</td>\n",
       "      <td>3077.440000</td>\n",
       "      <td>3043.560000</td>\n",
       "      <td>3047.903226</td>\n",
       "      <td>1856.680000</td>\n",
       "    </tr>\n",
       "    <tr>\n",
       "      <th>...</th>\n",
       "      <td>...</td>\n",
       "      <td>...</td>\n",
       "      <td>...</td>\n",
       "      <td>...</td>\n",
       "      <td>...</td>\n",
       "      <td>...</td>\n",
       "      <td>...</td>\n",
       "      <td>...</td>\n",
       "      <td>...</td>\n",
       "      <td>...</td>\n",
       "      <td>...</td>\n",
       "      <td>...</td>\n",
       "      <td>...</td>\n",
       "      <td>...</td>\n",
       "      <td>...</td>\n",
       "      <td>...</td>\n",
       "      <td>...</td>\n",
       "      <td>...</td>\n",
       "      <td>...</td>\n",
       "      <td>...</td>\n",
       "      <td>...</td>\n",
       "    </tr>\n",
       "    <tr>\n",
       "      <th>72</th>\n",
       "      <td>104</td>\n",
       "      <td>759.000000</td>\n",
       "      <td>759.816327</td>\n",
       "      <td>759.244898</td>\n",
       "      <td>759.000000</td>\n",
       "      <td>759.000000</td>\n",
       "      <td>1049.800000</td>\n",
       "      <td>1050.836735</td>\n",
       "      <td>1049.560000</td>\n",
       "      <td>1050.200000</td>\n",
       "      <td>...</td>\n",
       "      <td>2751.975610</td>\n",
       "      <td>2743.320000</td>\n",
       "      <td>2743.800000</td>\n",
       "      <td>2740.440000</td>\n",
       "      <td>2741.720000</td>\n",
       "      <td>3021.421053</td>\n",
       "      <td>3028.120000</td>\n",
       "      <td>3045.545455</td>\n",
       "      <td>3034.920000</td>\n",
       "      <td>3034.920000</td>\n",
       "    </tr>\n",
       "    <tr>\n",
       "      <th>73</th>\n",
       "      <td>105</td>\n",
       "      <td>712.600000</td>\n",
       "      <td>28938.660000</td>\n",
       "      <td>713.880000</td>\n",
       "      <td>713.240000</td>\n",
       "      <td>719.000000</td>\n",
       "      <td>1008.680000</td>\n",
       "      <td>1018.360000</td>\n",
       "      <td>1009.086957</td>\n",
       "      <td>1009.938776</td>\n",
       "      <td>...</td>\n",
       "      <td>2712.360000</td>\n",
       "      <td>2714.200000</td>\n",
       "      <td>2711.560000</td>\n",
       "      <td>2703.100000</td>\n",
       "      <td>2719.960000</td>\n",
       "      <td>2999.240000</td>\n",
       "      <td>3007.947368</td>\n",
       "      <td>3003.240000</td>\n",
       "      <td>2994.520000</td>\n",
       "      <td>2999.560000</td>\n",
       "    </tr>\n",
       "    <tr>\n",
       "      <th>74</th>\n",
       "      <td>106</td>\n",
       "      <td>673.122449</td>\n",
       "      <td>672.025641</td>\n",
       "      <td>672.840000</td>\n",
       "      <td>672.680000</td>\n",
       "      <td>672.120000</td>\n",
       "      <td>962.288889</td>\n",
       "      <td>941.240000</td>\n",
       "      <td>962.487179</td>\n",
       "      <td>963.000000</td>\n",
       "      <td>...</td>\n",
       "      <td>2645.916667</td>\n",
       "      <td>2589.000000</td>\n",
       "      <td>2648.666667</td>\n",
       "      <td>2670.255814</td>\n",
       "      <td>2659.880000</td>\n",
       "      <td>2957.800000</td>\n",
       "      <td>1162.750000</td>\n",
       "      <td>4235.980000</td>\n",
       "      <td>2957.829268</td>\n",
       "      <td>2956.957447</td>\n",
       "    </tr>\n",
       "    <tr>\n",
       "      <th>75</th>\n",
       "      <td>107</td>\n",
       "      <td>694.280000</td>\n",
       "      <td>686.920000</td>\n",
       "      <td>695.000000</td>\n",
       "      <td>693.480000</td>\n",
       "      <td>693.893617</td>\n",
       "      <td>987.408163</td>\n",
       "      <td>959.700000</td>\n",
       "      <td>987.000000</td>\n",
       "      <td>987.000000</td>\n",
       "      <td>...</td>\n",
       "      <td>2658.040000</td>\n",
       "      <td>2595.916667</td>\n",
       "      <td>2659.160000</td>\n",
       "      <td>2657.160000</td>\n",
       "      <td>2649.880000</td>\n",
       "      <td>2955.640000</td>\n",
       "      <td>1858.255814</td>\n",
       "      <td>2956.333333</td>\n",
       "      <td>2954.346939</td>\n",
       "      <td>2955.000000</td>\n",
       "    </tr>\n",
       "    <tr>\n",
       "      <th>76</th>\n",
       "      <td>108</td>\n",
       "      <td>751.000000</td>\n",
       "      <td>747.640000</td>\n",
       "      <td>750.102041</td>\n",
       "      <td>750.440000</td>\n",
       "      <td>750.183673</td>\n",
       "      <td>1067.000000</td>\n",
       "      <td>1074.280000</td>\n",
       "      <td>1065.880000</td>\n",
       "      <td>1065.160000</td>\n",
       "      <td>...</td>\n",
       "      <td>2753.640000</td>\n",
       "      <td>2756.600000</td>\n",
       "      <td>2752.920000</td>\n",
       "      <td>2758.040000</td>\n",
       "      <td>2759.560000</td>\n",
       "      <td>3034.794872</td>\n",
       "      <td>3051.080000</td>\n",
       "      <td>3034.282051</td>\n",
       "      <td>3043.240000</td>\n",
       "      <td>3035.105263</td>\n",
       "    </tr>\n",
       "  </tbody>\n",
       "</table>\n",
       "<p>77 rows × 46 columns</p>\n",
       "</div>"
      ],
      "text/plain": [
       "range_delay  Sensor ID  13_10000_mean_middle  13_16800_mean_middle  \\\n",
       "0                   32            765.626263            765.693878   \n",
       "1                   33            755.000000            779.530612   \n",
       "2                   34            665.680000            658.920000   \n",
       "3                   35            861.640000            861.626263   \n",
       "4                   36            743.520000            743.962025   \n",
       "..                 ...                   ...                   ...   \n",
       "72                 104            759.000000            759.816327   \n",
       "73                 105            712.600000          28938.660000   \n",
       "74                 106            673.122449            672.025641   \n",
       "75                 107            694.280000            686.920000   \n",
       "76                 108            751.000000            747.640000   \n",
       "\n",
       "range_delay  13_3000_mean_middle  13_6000_mean_middle  13_8000_mean_middle  \\\n",
       "0                     765.640000           765.560000           766.120000   \n",
       "1                     736.640000           779.275862           755.467532   \n",
       "2                     675.989247           653.682353           665.240000   \n",
       "3                     804.320000           861.840000           863.000000   \n",
       "4                     743.360000           743.680000           743.600000   \n",
       "..                           ...                  ...                  ...   \n",
       "72                    759.244898           759.000000           759.000000   \n",
       "73                    713.880000           713.240000           719.000000   \n",
       "74                    672.840000           672.680000           672.120000   \n",
       "75                    695.000000           693.480000           693.893617   \n",
       "76                    750.102041           750.440000           750.183673   \n",
       "\n",
       "range_delay  18_10000_mean_middle  18_16800_mean_middle  18_3000_mean_middle  \\\n",
       "0                     1057.280000            821.200000          1057.626263   \n",
       "1                     1024.818182           1035.640000          1024.777778   \n",
       "2                      969.480000            969.469136           969.520000   \n",
       "3                     1012.333333           1011.800000          1012.720000   \n",
       "4                     1067.000000           1054.880000          1064.494949   \n",
       "..                            ...                   ...                  ...   \n",
       "72                    1049.800000           1050.836735          1049.560000   \n",
       "73                    1008.680000           1018.360000          1009.086957   \n",
       "74                     962.288889            941.240000           962.487179   \n",
       "75                     987.408163            959.700000           987.000000   \n",
       "76                    1067.000000           1074.280000          1065.880000   \n",
       "\n",
       "range_delay  18_6000_mean_middle  ...  48_10000_mean_middle  \\\n",
       "0                    1057.440000  ...           2765.200000   \n",
       "1                    1025.720000  ...           2725.800000   \n",
       "2                     969.585859  ...           2641.160000   \n",
       "3                    1012.240000  ...           2755.000000   \n",
       "4                    1067.000000  ...           2770.083333   \n",
       "..                           ...  ...                   ...   \n",
       "72                   1050.200000  ...           2751.975610   \n",
       "73                   1009.938776  ...           2712.360000   \n",
       "74                    963.000000  ...           2645.916667   \n",
       "75                    987.000000  ...           2658.040000   \n",
       "76                   1065.160000  ...           2753.640000   \n",
       "\n",
       "range_delay  48_16800_mean_middle  48_3000_mean_middle  48_6000_mean_middle  \\\n",
       "0                     2771.200000          2765.315789          2765.520000   \n",
       "1                     2726.920000          2739.000000          2729.600000   \n",
       "2                     2640.979798          2643.360000          2642.040000   \n",
       "3                     2777.813187          2755.000000          2777.595745   \n",
       "4                     2753.960000          2763.160000          2754.680000   \n",
       "..                            ...                  ...                  ...   \n",
       "72                    2743.320000          2743.800000          2740.440000   \n",
       "73                    2714.200000          2711.560000          2703.100000   \n",
       "74                    2589.000000          2648.666667          2670.255814   \n",
       "75                    2595.916667          2659.160000          2657.160000   \n",
       "76                    2756.600000          2752.920000          2758.040000   \n",
       "\n",
       "range_delay  48_8000_mean_middle  53_10000_mean_middle  53_16800_mean_middle  \\\n",
       "0                    2765.160000           3090.111111           3088.120000   \n",
       "1                    2729.040000           3040.480000           3016.896907   \n",
       "2                    2641.480000           2941.040000           2940.920000   \n",
       "3                    2755.418605           3014.760000           3015.720000   \n",
       "4                    2769.608696           3085.712644           3077.440000   \n",
       "..                           ...                   ...                   ...   \n",
       "72                   2741.720000           3021.421053           3028.120000   \n",
       "73                   2719.960000           2999.240000           3007.947368   \n",
       "74                   2659.880000           2957.800000           1162.750000   \n",
       "75                   2649.880000           2955.640000           1858.255814   \n",
       "76                   2759.560000           3034.794872           3051.080000   \n",
       "\n",
       "range_delay  53_3000_mean_middle  53_6000_mean_middle  53_8000_mean_middle  \n",
       "0                    3090.480000          3089.560000          3090.000000  \n",
       "1                    3042.000000          3047.571429          3049.026667  \n",
       "2                    2944.301205          2939.960000          2948.090909  \n",
       "3                    3029.800000          3029.813187          3017.120000  \n",
       "4                    3043.560000          3047.903226          1856.680000  \n",
       "..                           ...                  ...                  ...  \n",
       "72                   3045.545455          3034.920000          3034.920000  \n",
       "73                   3003.240000          2994.520000          2999.560000  \n",
       "74                   4235.980000          2957.829268          2956.957447  \n",
       "75                   2956.333333          2954.346939          2955.000000  \n",
       "76                   3034.282051          3043.240000          3035.105263  \n",
       "\n",
       "[77 rows x 46 columns]"
      ]
     },
     "execution_count": 9,
     "metadata": {},
     "output_type": "execute_result"
    }
   ],
   "source": [
    "create_range_delay_feature(df_middle_quartile,\"middle\")"
   ]
  },
  {
   "cell_type": "code",
   "execution_count": 10,
   "metadata": {},
   "outputs": [],
   "source": [
    "def feature_engineering_quartile_means(df):\n",
    "    df_middle_quartile, df_lower_quartile, df_upper_quartile = split_quartiles(df)\n",
    "    df_range_delay_middle = create_range_delay_feature(df_middle_quartile,\"middle\")\n",
    "    df_range_delay_lower = create_range_delay_feature(df_lower_quartile,\"lower\")\n",
    "    df_range_delay_upper = create_range_delay_feature(df_upper_quartile,\"upper\")\n",
    "\n",
    "    # List of DataFrames\n",
    "    df_pivots = [df_range_delay_middle, df_range_delay_lower, df_range_delay_upper]\n",
    "\n",
    "    # Initialize the merged DataFrame with the first DataFrame in the list\n",
    "    df_range_delay_all = df_pivots[0]\n",
    "\n",
    "    # Iteratively merge each DataFrame in the list\n",
    "    for df in df_pivots[1:]:\n",
    "        df_range_delay_all = df_range_delay_all.merge(df, on='Sensor ID')\n",
    "        \n",
    "    # Replace all NaN values with 0 in the merged DataFrame\n",
    "    df_range_delay_all.fillna(0, inplace=True)\n",
    "\n",
    "    return df_range_delay_all, df_range_delay_middle, df_range_delay_lower,df_range_delay_upper\n",
    "    \n",
    "\n",
    "df_range_delay_all,df_range_delay_middle, df_range_delay_lower,df_range_delay_upper = feature_engineering_quartile_means(df_data_v4_1_1)\n"
   ]
  },
  {
   "cell_type": "markdown",
   "metadata": {},
   "source": [
    "The product is following now we will be conducting PCA method to reduce dimensionality"
   ]
  },
  {
   "cell_type": "code",
   "execution_count": 11,
   "metadata": {},
   "outputs": [
    {
     "data": {
      "text/html": [
       "<div>\n",
       "<style scoped>\n",
       "    .dataframe tbody tr th:only-of-type {\n",
       "        vertical-align: middle;\n",
       "    }\n",
       "\n",
       "    .dataframe tbody tr th {\n",
       "        vertical-align: top;\n",
       "    }\n",
       "\n",
       "    .dataframe thead th {\n",
       "        text-align: right;\n",
       "    }\n",
       "</style>\n",
       "<table border=\"1\" class=\"dataframe\">\n",
       "  <thead>\n",
       "    <tr style=\"text-align: right;\">\n",
       "      <th>range_delay</th>\n",
       "      <th>Sensor ID</th>\n",
       "      <th>13_10000_mean_middle</th>\n",
       "      <th>13_16800_mean_middle</th>\n",
       "      <th>13_3000_mean_middle</th>\n",
       "      <th>13_6000_mean_middle</th>\n",
       "      <th>13_8000_mean_middle</th>\n",
       "      <th>18_10000_mean_middle</th>\n",
       "      <th>18_16800_mean_middle</th>\n",
       "      <th>18_3000_mean_middle</th>\n",
       "      <th>18_6000_mean_middle</th>\n",
       "      <th>...</th>\n",
       "      <th>48_10000_mean_upper</th>\n",
       "      <th>48_16800_mean_upper</th>\n",
       "      <th>48_3000_mean_upper</th>\n",
       "      <th>48_6000_mean_upper</th>\n",
       "      <th>48_8000_mean_upper</th>\n",
       "      <th>53_10000_mean_upper</th>\n",
       "      <th>53_16800_mean_upper</th>\n",
       "      <th>53_3000_mean_upper</th>\n",
       "      <th>53_6000_mean_upper</th>\n",
       "      <th>53_8000_mean_upper</th>\n",
       "    </tr>\n",
       "  </thead>\n",
       "  <tbody>\n",
       "    <tr>\n",
       "      <th>0</th>\n",
       "      <td>32</td>\n",
       "      <td>765.626263</td>\n",
       "      <td>765.693878</td>\n",
       "      <td>765.640000</td>\n",
       "      <td>765.560000</td>\n",
       "      <td>766.120000</td>\n",
       "      <td>1057.280000</td>\n",
       "      <td>821.200000</td>\n",
       "      <td>1057.626263</td>\n",
       "      <td>1057.440000</td>\n",
       "      <td>...</td>\n",
       "      <td>0.000000</td>\n",
       "      <td>0.0</td>\n",
       "      <td>2787.833333</td>\n",
       "      <td>0.000000</td>\n",
       "      <td>0.000000</td>\n",
       "      <td>3099.000000</td>\n",
       "      <td>0.000000</td>\n",
       "      <td>0.000000</td>\n",
       "      <td>0.0</td>\n",
       "      <td>0.000000</td>\n",
       "    </tr>\n",
       "    <tr>\n",
       "      <th>1</th>\n",
       "      <td>33</td>\n",
       "      <td>755.000000</td>\n",
       "      <td>779.530612</td>\n",
       "      <td>736.640000</td>\n",
       "      <td>779.275862</td>\n",
       "      <td>755.467532</td>\n",
       "      <td>1024.818182</td>\n",
       "      <td>1035.640000</td>\n",
       "      <td>1024.777778</td>\n",
       "      <td>1025.720000</td>\n",
       "      <td>...</td>\n",
       "      <td>0.000000</td>\n",
       "      <td>0.0</td>\n",
       "      <td>2740.037037</td>\n",
       "      <td>0.000000</td>\n",
       "      <td>0.000000</td>\n",
       "      <td>0.000000</td>\n",
       "      <td>3073.666667</td>\n",
       "      <td>0.000000</td>\n",
       "      <td>3073.4</td>\n",
       "      <td>3074.000000</td>\n",
       "    </tr>\n",
       "    <tr>\n",
       "      <th>2</th>\n",
       "      <td>34</td>\n",
       "      <td>665.680000</td>\n",
       "      <td>658.920000</td>\n",
       "      <td>675.989247</td>\n",
       "      <td>653.682353</td>\n",
       "      <td>665.240000</td>\n",
       "      <td>969.480000</td>\n",
       "      <td>969.469136</td>\n",
       "      <td>969.520000</td>\n",
       "      <td>969.585859</td>\n",
       "      <td>...</td>\n",
       "      <td>0.000000</td>\n",
       "      <td>0.0</td>\n",
       "      <td>0.000000</td>\n",
       "      <td>0.000000</td>\n",
       "      <td>0.000000</td>\n",
       "      <td>0.000000</td>\n",
       "      <td>0.000000</td>\n",
       "      <td>0.000000</td>\n",
       "      <td>0.0</td>\n",
       "      <td>0.000000</td>\n",
       "    </tr>\n",
       "    <tr>\n",
       "      <th>3</th>\n",
       "      <td>35</td>\n",
       "      <td>861.640000</td>\n",
       "      <td>861.626263</td>\n",
       "      <td>804.320000</td>\n",
       "      <td>861.840000</td>\n",
       "      <td>863.000000</td>\n",
       "      <td>1012.333333</td>\n",
       "      <td>1011.800000</td>\n",
       "      <td>1012.720000</td>\n",
       "      <td>1012.240000</td>\n",
       "      <td>...</td>\n",
       "      <td>2758.652174</td>\n",
       "      <td>0.0</td>\n",
       "      <td>2756.839080</td>\n",
       "      <td>0.000000</td>\n",
       "      <td>2778.428571</td>\n",
       "      <td>0.000000</td>\n",
       "      <td>0.000000</td>\n",
       "      <td>0.000000</td>\n",
       "      <td>0.0</td>\n",
       "      <td>0.000000</td>\n",
       "    </tr>\n",
       "    <tr>\n",
       "      <th>4</th>\n",
       "      <td>36</td>\n",
       "      <td>743.520000</td>\n",
       "      <td>743.962025</td>\n",
       "      <td>743.360000</td>\n",
       "      <td>743.680000</td>\n",
       "      <td>743.600000</td>\n",
       "      <td>1067.000000</td>\n",
       "      <td>1054.880000</td>\n",
       "      <td>1064.494949</td>\n",
       "      <td>1067.000000</td>\n",
       "      <td>...</td>\n",
       "      <td>2779.000000</td>\n",
       "      <td>0.0</td>\n",
       "      <td>0.000000</td>\n",
       "      <td>0.000000</td>\n",
       "      <td>0.000000</td>\n",
       "      <td>3113.000000</td>\n",
       "      <td>0.000000</td>\n",
       "      <td>0.000000</td>\n",
       "      <td>0.0</td>\n",
       "      <td>0.000000</td>\n",
       "    </tr>\n",
       "    <tr>\n",
       "      <th>...</th>\n",
       "      <td>...</td>\n",
       "      <td>...</td>\n",
       "      <td>...</td>\n",
       "      <td>...</td>\n",
       "      <td>...</td>\n",
       "      <td>...</td>\n",
       "      <td>...</td>\n",
       "      <td>...</td>\n",
       "      <td>...</td>\n",
       "      <td>...</td>\n",
       "      <td>...</td>\n",
       "      <td>...</td>\n",
       "      <td>...</td>\n",
       "      <td>...</td>\n",
       "      <td>...</td>\n",
       "      <td>...</td>\n",
       "      <td>...</td>\n",
       "      <td>...</td>\n",
       "      <td>...</td>\n",
       "      <td>...</td>\n",
       "      <td>...</td>\n",
       "    </tr>\n",
       "    <tr>\n",
       "      <th>72</th>\n",
       "      <td>104</td>\n",
       "      <td>759.000000</td>\n",
       "      <td>759.816327</td>\n",
       "      <td>759.244898</td>\n",
       "      <td>759.000000</td>\n",
       "      <td>759.000000</td>\n",
       "      <td>1049.800000</td>\n",
       "      <td>1050.836735</td>\n",
       "      <td>1049.560000</td>\n",
       "      <td>1050.200000</td>\n",
       "      <td>...</td>\n",
       "      <td>2775.000000</td>\n",
       "      <td>0.0</td>\n",
       "      <td>0.000000</td>\n",
       "      <td>0.000000</td>\n",
       "      <td>0.000000</td>\n",
       "      <td>3048.333333</td>\n",
       "      <td>0.000000</td>\n",
       "      <td>3072.000000</td>\n",
       "      <td>0.0</td>\n",
       "      <td>0.000000</td>\n",
       "    </tr>\n",
       "    <tr>\n",
       "      <th>73</th>\n",
       "      <td>105</td>\n",
       "      <td>712.600000</td>\n",
       "      <td>28938.660000</td>\n",
       "      <td>713.880000</td>\n",
       "      <td>713.240000</td>\n",
       "      <td>719.000000</td>\n",
       "      <td>1008.680000</td>\n",
       "      <td>1018.360000</td>\n",
       "      <td>1009.086957</td>\n",
       "      <td>1009.938776</td>\n",
       "      <td>...</td>\n",
       "      <td>0.000000</td>\n",
       "      <td>0.0</td>\n",
       "      <td>0.000000</td>\n",
       "      <td>2724.333333</td>\n",
       "      <td>0.000000</td>\n",
       "      <td>0.000000</td>\n",
       "      <td>0.000000</td>\n",
       "      <td>0.000000</td>\n",
       "      <td>0.0</td>\n",
       "      <td>0.000000</td>\n",
       "    </tr>\n",
       "    <tr>\n",
       "      <th>74</th>\n",
       "      <td>106</td>\n",
       "      <td>673.122449</td>\n",
       "      <td>672.025641</td>\n",
       "      <td>672.840000</td>\n",
       "      <td>672.680000</td>\n",
       "      <td>672.120000</td>\n",
       "      <td>962.288889</td>\n",
       "      <td>941.240000</td>\n",
       "      <td>962.487179</td>\n",
       "      <td>963.000000</td>\n",
       "      <td>...</td>\n",
       "      <td>2663.000000</td>\n",
       "      <td>0.0</td>\n",
       "      <td>2671.000000</td>\n",
       "      <td>0.000000</td>\n",
       "      <td>0.000000</td>\n",
       "      <td>0.000000</td>\n",
       "      <td>2959.000000</td>\n",
       "      <td>0.000000</td>\n",
       "      <td>0.0</td>\n",
       "      <td>0.000000</td>\n",
       "    </tr>\n",
       "    <tr>\n",
       "      <th>75</th>\n",
       "      <td>107</td>\n",
       "      <td>694.280000</td>\n",
       "      <td>686.920000</td>\n",
       "      <td>695.000000</td>\n",
       "      <td>693.480000</td>\n",
       "      <td>693.893617</td>\n",
       "      <td>987.408163</td>\n",
       "      <td>959.700000</td>\n",
       "      <td>987.000000</td>\n",
       "      <td>987.000000</td>\n",
       "      <td>...</td>\n",
       "      <td>0.000000</td>\n",
       "      <td>2689.0</td>\n",
       "      <td>0.000000</td>\n",
       "      <td>0.000000</td>\n",
       "      <td>0.000000</td>\n",
       "      <td>0.000000</td>\n",
       "      <td>2526.000000</td>\n",
       "      <td>0.000000</td>\n",
       "      <td>0.0</td>\n",
       "      <td>2955.878049</td>\n",
       "    </tr>\n",
       "    <tr>\n",
       "      <th>76</th>\n",
       "      <td>108</td>\n",
       "      <td>751.000000</td>\n",
       "      <td>747.640000</td>\n",
       "      <td>750.102041</td>\n",
       "      <td>750.440000</td>\n",
       "      <td>750.183673</td>\n",
       "      <td>1067.000000</td>\n",
       "      <td>1074.280000</td>\n",
       "      <td>1065.880000</td>\n",
       "      <td>1065.160000</td>\n",
       "      <td>...</td>\n",
       "      <td>0.000000</td>\n",
       "      <td>0.0</td>\n",
       "      <td>0.000000</td>\n",
       "      <td>0.000000</td>\n",
       "      <td>0.000000</td>\n",
       "      <td>3058.636364</td>\n",
       "      <td>0.000000</td>\n",
       "      <td>3056.818182</td>\n",
       "      <td>0.0</td>\n",
       "      <td>3058.000000</td>\n",
       "    </tr>\n",
       "  </tbody>\n",
       "</table>\n",
       "<p>77 rows × 136 columns</p>\n",
       "</div>"
      ],
      "text/plain": [
       "range_delay  Sensor ID  13_10000_mean_middle  13_16800_mean_middle  \\\n",
       "0                   32            765.626263            765.693878   \n",
       "1                   33            755.000000            779.530612   \n",
       "2                   34            665.680000            658.920000   \n",
       "3                   35            861.640000            861.626263   \n",
       "4                   36            743.520000            743.962025   \n",
       "..                 ...                   ...                   ...   \n",
       "72                 104            759.000000            759.816327   \n",
       "73                 105            712.600000          28938.660000   \n",
       "74                 106            673.122449            672.025641   \n",
       "75                 107            694.280000            686.920000   \n",
       "76                 108            751.000000            747.640000   \n",
       "\n",
       "range_delay  13_3000_mean_middle  13_6000_mean_middle  13_8000_mean_middle  \\\n",
       "0                     765.640000           765.560000           766.120000   \n",
       "1                     736.640000           779.275862           755.467532   \n",
       "2                     675.989247           653.682353           665.240000   \n",
       "3                     804.320000           861.840000           863.000000   \n",
       "4                     743.360000           743.680000           743.600000   \n",
       "..                           ...                  ...                  ...   \n",
       "72                    759.244898           759.000000           759.000000   \n",
       "73                    713.880000           713.240000           719.000000   \n",
       "74                    672.840000           672.680000           672.120000   \n",
       "75                    695.000000           693.480000           693.893617   \n",
       "76                    750.102041           750.440000           750.183673   \n",
       "\n",
       "range_delay  18_10000_mean_middle  18_16800_mean_middle  18_3000_mean_middle  \\\n",
       "0                     1057.280000            821.200000          1057.626263   \n",
       "1                     1024.818182           1035.640000          1024.777778   \n",
       "2                      969.480000            969.469136           969.520000   \n",
       "3                     1012.333333           1011.800000          1012.720000   \n",
       "4                     1067.000000           1054.880000          1064.494949   \n",
       "..                            ...                   ...                  ...   \n",
       "72                    1049.800000           1050.836735          1049.560000   \n",
       "73                    1008.680000           1018.360000          1009.086957   \n",
       "74                     962.288889            941.240000           962.487179   \n",
       "75                     987.408163            959.700000           987.000000   \n",
       "76                    1067.000000           1074.280000          1065.880000   \n",
       "\n",
       "range_delay  18_6000_mean_middle  ...  48_10000_mean_upper  \\\n",
       "0                    1057.440000  ...             0.000000   \n",
       "1                    1025.720000  ...             0.000000   \n",
       "2                     969.585859  ...             0.000000   \n",
       "3                    1012.240000  ...          2758.652174   \n",
       "4                    1067.000000  ...          2779.000000   \n",
       "..                           ...  ...                  ...   \n",
       "72                   1050.200000  ...          2775.000000   \n",
       "73                   1009.938776  ...             0.000000   \n",
       "74                    963.000000  ...          2663.000000   \n",
       "75                    987.000000  ...             0.000000   \n",
       "76                   1065.160000  ...             0.000000   \n",
       "\n",
       "range_delay  48_16800_mean_upper  48_3000_mean_upper  48_6000_mean_upper  \\\n",
       "0                            0.0         2787.833333            0.000000   \n",
       "1                            0.0         2740.037037            0.000000   \n",
       "2                            0.0            0.000000            0.000000   \n",
       "3                            0.0         2756.839080            0.000000   \n",
       "4                            0.0            0.000000            0.000000   \n",
       "..                           ...                 ...                 ...   \n",
       "72                           0.0            0.000000            0.000000   \n",
       "73                           0.0            0.000000         2724.333333   \n",
       "74                           0.0         2671.000000            0.000000   \n",
       "75                        2689.0            0.000000            0.000000   \n",
       "76                           0.0            0.000000            0.000000   \n",
       "\n",
       "range_delay  48_8000_mean_upper  53_10000_mean_upper  53_16800_mean_upper  \\\n",
       "0                      0.000000          3099.000000             0.000000   \n",
       "1                      0.000000             0.000000          3073.666667   \n",
       "2                      0.000000             0.000000             0.000000   \n",
       "3                   2778.428571             0.000000             0.000000   \n",
       "4                      0.000000          3113.000000             0.000000   \n",
       "..                          ...                  ...                  ...   \n",
       "72                     0.000000          3048.333333             0.000000   \n",
       "73                     0.000000             0.000000             0.000000   \n",
       "74                     0.000000             0.000000          2959.000000   \n",
       "75                     0.000000             0.000000          2526.000000   \n",
       "76                     0.000000          3058.636364             0.000000   \n",
       "\n",
       "range_delay  53_3000_mean_upper  53_6000_mean_upper  53_8000_mean_upper  \n",
       "0                      0.000000                 0.0            0.000000  \n",
       "1                      0.000000              3073.4         3074.000000  \n",
       "2                      0.000000                 0.0            0.000000  \n",
       "3                      0.000000                 0.0            0.000000  \n",
       "4                      0.000000                 0.0            0.000000  \n",
       "..                          ...                 ...                 ...  \n",
       "72                  3072.000000                 0.0            0.000000  \n",
       "73                     0.000000                 0.0            0.000000  \n",
       "74                     0.000000                 0.0            0.000000  \n",
       "75                     0.000000                 0.0         2955.878049  \n",
       "76                  3056.818182                 0.0         3058.000000  \n",
       "\n",
       "[77 rows x 136 columns]"
      ]
     },
     "execution_count": 11,
     "metadata": {},
     "output_type": "execute_result"
    }
   ],
   "source": [
    "df_range_delay_all"
   ]
  },
  {
   "cell_type": "markdown",
   "metadata": {},
   "source": [
    "# Conduct PCA based feature importance"
   ]
  },
  {
   "cell_type": "code",
   "execution_count": 13,
   "metadata": {},
   "outputs": [
    {
     "data": {
      "image/png": "[encoded data removed]",
      "text/plain": [
       "<Figure size 1000x600 with 1 Axes>"
      ]
     },
     "metadata": {},
     "output_type": "display_data"
    }
   ],
   "source": [
    "from sklearn.preprocessing import StandardScaler\n",
    "from sklearn.decomposition import PCA\n",
    "import matplotlib.pyplot as plt\n",
    "import numpy as np\n",
    "\n",
    "def process_PCA(df):\n",
    "    # Extract features and standardize\n",
    "    features = df.drop(columns='Sensor ID')\n",
    "    sensor_ids = df['Sensor ID']\n",
    "\n",
    "    # Standardize the features\n",
    "    scaler = StandardScaler()\n",
    "    features_scaled = scaler.fit_transform(features)\n",
    "\n",
    "    # Perform PCA\n",
    "    pca = PCA()\n",
    "    principal_components = pca.fit_transform(features_scaled)\n",
    "\n",
    "    # Explained variance ratio for each principal component\n",
    "    explained_variance = pca.explained_variance_ratio_\n",
    "\n",
    "    # Plot the explained variance to see the importance of each component\n",
    "    plt.figure(figsize=(10, 6))\n",
    "    plt.plot(np.cumsum(explained_variance), marker='o', linestyle='--')\n",
    "    plt.xlabel('Number of Principal Components')\n",
    "    plt.ylabel('Cumulative Explained Variance')\n",
    "    plt.title('PCA - Cumulative Explained Variance')\n",
    "    plt.grid(True)\n",
    "    plt.show()\n",
    "\n",
    "    # Get the loadings (coefficients) of the features on the principal components\n",
    "    loadings = pca.components_\n",
    "\n",
    "    # Display the loadings for the first few principal components\n",
    "    return explained_variance, loadings, features\n",
    "\n",
    "explained_variance, loadings, features = process_PCA(df_range_delay_all)\n",
    "\n"
   ]
  },
  {
   "cell_type": "code",
   "execution_count": 14,
   "metadata": {},
   "outputs": [
    {
     "data": {
      "text/html": [
       "<div>\n",
       "<style scoped>\n",
       "    .dataframe tbody tr th:only-of-type {\n",
       "        vertical-align: middle;\n",
       "    }\n",
       "\n",
       "    .dataframe tbody tr th {\n",
       "        vertical-align: top;\n",
       "    }\n",
       "\n",
       "    .dataframe thead th {\n",
       "        text-align: right;\n",
       "    }\n",
       "</style>\n",
       "<table border=\"1\" class=\"dataframe\">\n",
       "  <thead>\n",
       "    <tr style=\"text-align: right;\">\n",
       "      <th></th>\n",
       "      <th>PC1</th>\n",
       "      <th>PC2</th>\n",
       "      <th>PC3</th>\n",
       "      <th>PC4</th>\n",
       "      <th>PC5</th>\n",
       "      <th>PC6</th>\n",
       "      <th>PC7</th>\n",
       "      <th>PC8</th>\n",
       "      <th>PC9</th>\n",
       "      <th>PC10</th>\n",
       "      <th>...</th>\n",
       "      <th>PC68</th>\n",
       "      <th>PC69</th>\n",
       "      <th>PC70</th>\n",
       "      <th>PC71</th>\n",
       "      <th>PC72</th>\n",
       "      <th>PC73</th>\n",
       "      <th>PC74</th>\n",
       "      <th>PC75</th>\n",
       "      <th>PC76</th>\n",
       "      <th>PC77</th>\n",
       "    </tr>\n",
       "    <tr>\n",
       "      <th>range_delay</th>\n",
       "      <th></th>\n",
       "      <th></th>\n",
       "      <th></th>\n",
       "      <th></th>\n",
       "      <th></th>\n",
       "      <th></th>\n",
       "      <th></th>\n",
       "      <th></th>\n",
       "      <th></th>\n",
       "      <th></th>\n",
       "      <th></th>\n",
       "      <th></th>\n",
       "      <th></th>\n",
       "      <th></th>\n",
       "      <th></th>\n",
       "      <th></th>\n",
       "      <th></th>\n",
       "      <th></th>\n",
       "      <th></th>\n",
       "      <th></th>\n",
       "      <th></th>\n",
       "    </tr>\n",
       "  </thead>\n",
       "  <tbody>\n",
       "    <tr>\n",
       "      <th>13_10000_mean_middle</th>\n",
       "      <td>-0.138000</td>\n",
       "      <td>0.127982</td>\n",
       "      <td>0.070198</td>\n",
       "      <td>0.035588</td>\n",
       "      <td>0.048728</td>\n",
       "      <td>0.120275</td>\n",
       "      <td>0.134741</td>\n",
       "      <td>-0.072328</td>\n",
       "      <td>0.013528</td>\n",
       "      <td>0.006469</td>\n",
       "      <td>...</td>\n",
       "      <td>-0.070188</td>\n",
       "      <td>-0.075375</td>\n",
       "      <td>0.078440</td>\n",
       "      <td>0.053030</td>\n",
       "      <td>0.065269</td>\n",
       "      <td>-0.059300</td>\n",
       "      <td>0.110864</td>\n",
       "      <td>-0.014586</td>\n",
       "      <td>-0.037600</td>\n",
       "      <td>0.103475</td>\n",
       "    </tr>\n",
       "    <tr>\n",
       "      <th>13_16800_mean_middle</th>\n",
       "      <td>0.024737</td>\n",
       "      <td>-0.023737</td>\n",
       "      <td>-0.086644</td>\n",
       "      <td>0.089965</td>\n",
       "      <td>-0.107486</td>\n",
       "      <td>0.182816</td>\n",
       "      <td>-0.026347</td>\n",
       "      <td>0.149097</td>\n",
       "      <td>-0.217692</td>\n",
       "      <td>0.137172</td>\n",
       "      <td>...</td>\n",
       "      <td>-0.047477</td>\n",
       "      <td>0.008617</td>\n",
       "      <td>0.052367</td>\n",
       "      <td>-0.159642</td>\n",
       "      <td>-0.105382</td>\n",
       "      <td>0.031184</td>\n",
       "      <td>0.030488</td>\n",
       "      <td>-0.027101</td>\n",
       "      <td>0.129182</td>\n",
       "      <td>-0.168534</td>\n",
       "    </tr>\n",
       "    <tr>\n",
       "      <th>13_3000_mean_middle</th>\n",
       "      <td>-0.090821</td>\n",
       "      <td>-0.101878</td>\n",
       "      <td>0.011598</td>\n",
       "      <td>0.021256</td>\n",
       "      <td>-0.003402</td>\n",
       "      <td>0.155544</td>\n",
       "      <td>0.158629</td>\n",
       "      <td>-0.084234</td>\n",
       "      <td>0.015108</td>\n",
       "      <td>-0.039576</td>\n",
       "      <td>...</td>\n",
       "      <td>0.047193</td>\n",
       "      <td>-0.112121</td>\n",
       "      <td>0.018867</td>\n",
       "      <td>-0.062448</td>\n",
       "      <td>-0.099745</td>\n",
       "      <td>-0.092860</td>\n",
       "      <td>-0.119377</td>\n",
       "      <td>0.099923</td>\n",
       "      <td>-0.004657</td>\n",
       "      <td>0.089471</td>\n",
       "    </tr>\n",
       "    <tr>\n",
       "      <th>13_6000_mean_middle</th>\n",
       "      <td>-0.139213</td>\n",
       "      <td>0.127120</td>\n",
       "      <td>0.070825</td>\n",
       "      <td>0.040665</td>\n",
       "      <td>0.053153</td>\n",
       "      <td>0.135543</td>\n",
       "      <td>0.131278</td>\n",
       "      <td>-0.074568</td>\n",
       "      <td>0.011134</td>\n",
       "      <td>0.005918</td>\n",
       "      <td>...</td>\n",
       "      <td>0.010675</td>\n",
       "      <td>-0.080040</td>\n",
       "      <td>0.011094</td>\n",
       "      <td>-0.017526</td>\n",
       "      <td>-0.017793</td>\n",
       "      <td>-0.094326</td>\n",
       "      <td>-0.019447</td>\n",
       "      <td>-0.116960</td>\n",
       "      <td>-0.010731</td>\n",
       "      <td>-0.290818</td>\n",
       "    </tr>\n",
       "    <tr>\n",
       "      <th>13_8000_mean_middle</th>\n",
       "      <td>-0.138822</td>\n",
       "      <td>0.127500</td>\n",
       "      <td>0.070542</td>\n",
       "      <td>0.042781</td>\n",
       "      <td>0.053000</td>\n",
       "      <td>0.136022</td>\n",
       "      <td>0.128403</td>\n",
       "      <td>-0.069837</td>\n",
       "      <td>0.012839</td>\n",
       "      <td>0.000825</td>\n",
       "      <td>...</td>\n",
       "      <td>-0.058802</td>\n",
       "      <td>-0.066962</td>\n",
       "      <td>0.021938</td>\n",
       "      <td>0.056858</td>\n",
       "      <td>0.071050</td>\n",
       "      <td>-0.041610</td>\n",
       "      <td>0.037711</td>\n",
       "      <td>0.048334</td>\n",
       "      <td>0.028151</td>\n",
       "      <td>0.178670</td>\n",
       "    </tr>\n",
       "    <tr>\n",
       "      <th>...</th>\n",
       "      <td>...</td>\n",
       "      <td>...</td>\n",
       "      <td>...</td>\n",
       "      <td>...</td>\n",
       "      <td>...</td>\n",
       "      <td>...</td>\n",
       "      <td>...</td>\n",
       "      <td>...</td>\n",
       "      <td>...</td>\n",
       "      <td>...</td>\n",
       "      <td>...</td>\n",
       "      <td>...</td>\n",
       "      <td>...</td>\n",
       "      <td>...</td>\n",
       "      <td>...</td>\n",
       "      <td>...</td>\n",
       "      <td>...</td>\n",
       "      <td>...</td>\n",
       "      <td>...</td>\n",
       "      <td>...</td>\n",
       "      <td>...</td>\n",
       "    </tr>\n",
       "    <tr>\n",
       "      <th>53_10000_mean_upper</th>\n",
       "      <td>-0.012738</td>\n",
       "      <td>0.057614</td>\n",
       "      <td>-0.011443</td>\n",
       "      <td>0.053694</td>\n",
       "      <td>0.042903</td>\n",
       "      <td>-0.091594</td>\n",
       "      <td>-0.130780</td>\n",
       "      <td>0.167492</td>\n",
       "      <td>0.051769</td>\n",
       "      <td>-0.008355</td>\n",
       "      <td>...</td>\n",
       "      <td>0.024853</td>\n",
       "      <td>-0.026226</td>\n",
       "      <td>-0.120592</td>\n",
       "      <td>0.059005</td>\n",
       "      <td>0.089343</td>\n",
       "      <td>0.023494</td>\n",
       "      <td>0.056771</td>\n",
       "      <td>-0.022025</td>\n",
       "      <td>0.078209</td>\n",
       "      <td>-0.081443</td>\n",
       "    </tr>\n",
       "    <tr>\n",
       "      <th>53_16800_mean_upper</th>\n",
       "      <td>0.018216</td>\n",
       "      <td>-0.025571</td>\n",
       "      <td>0.111517</td>\n",
       "      <td>0.125154</td>\n",
       "      <td>-0.001615</td>\n",
       "      <td>-0.047645</td>\n",
       "      <td>-0.097101</td>\n",
       "      <td>-0.052853</td>\n",
       "      <td>0.000389</td>\n",
       "      <td>0.050646</td>\n",
       "      <td>...</td>\n",
       "      <td>0.120205</td>\n",
       "      <td>-0.096266</td>\n",
       "      <td>0.045364</td>\n",
       "      <td>-0.037141</td>\n",
       "      <td>-0.047609</td>\n",
       "      <td>0.009364</td>\n",
       "      <td>-0.043193</td>\n",
       "      <td>-0.223378</td>\n",
       "      <td>0.048052</td>\n",
       "      <td>0.045468</td>\n",
       "    </tr>\n",
       "    <tr>\n",
       "      <th>53_3000_mean_upper</th>\n",
       "      <td>-0.019702</td>\n",
       "      <td>-0.031017</td>\n",
       "      <td>0.168385</td>\n",
       "      <td>-0.176791</td>\n",
       "      <td>0.018128</td>\n",
       "      <td>0.020756</td>\n",
       "      <td>-0.008475</td>\n",
       "      <td>0.074539</td>\n",
       "      <td>0.111205</td>\n",
       "      <td>-0.033410</td>\n",
       "      <td>...</td>\n",
       "      <td>0.124750</td>\n",
       "      <td>0.143076</td>\n",
       "      <td>-0.146176</td>\n",
       "      <td>-0.032672</td>\n",
       "      <td>-0.150848</td>\n",
       "      <td>-0.051435</td>\n",
       "      <td>-0.003193</td>\n",
       "      <td>-0.099917</td>\n",
       "      <td>0.026238</td>\n",
       "      <td>0.006030</td>\n",
       "    </tr>\n",
       "    <tr>\n",
       "      <th>53_6000_mean_upper</th>\n",
       "      <td>0.001524</td>\n",
       "      <td>-0.046085</td>\n",
       "      <td>0.139822</td>\n",
       "      <td>0.085973</td>\n",
       "      <td>-0.038686</td>\n",
       "      <td>0.053341</td>\n",
       "      <td>0.090067</td>\n",
       "      <td>0.034311</td>\n",
       "      <td>0.056629</td>\n",
       "      <td>0.117710</td>\n",
       "      <td>...</td>\n",
       "      <td>-0.136597</td>\n",
       "      <td>0.057126</td>\n",
       "      <td>-0.017511</td>\n",
       "      <td>-0.062699</td>\n",
       "      <td>-0.066485</td>\n",
       "      <td>-0.039448</td>\n",
       "      <td>-0.065801</td>\n",
       "      <td>0.052408</td>\n",
       "      <td>0.012757</td>\n",
       "      <td>-0.060820</td>\n",
       "    </tr>\n",
       "    <tr>\n",
       "      <th>53_8000_mean_upper</th>\n",
       "      <td>0.006334</td>\n",
       "      <td>-0.062080</td>\n",
       "      <td>0.091188</td>\n",
       "      <td>-0.011969</td>\n",
       "      <td>0.072929</td>\n",
       "      <td>0.126928</td>\n",
       "      <td>-0.134007</td>\n",
       "      <td>0.088637</td>\n",
       "      <td>0.022103</td>\n",
       "      <td>0.078227</td>\n",
       "      <td>...</td>\n",
       "      <td>-0.028947</td>\n",
       "      <td>-0.057118</td>\n",
       "      <td>0.203150</td>\n",
       "      <td>0.118907</td>\n",
       "      <td>-0.236032</td>\n",
       "      <td>-0.019766</td>\n",
       "      <td>0.112627</td>\n",
       "      <td>0.109780</td>\n",
       "      <td>-0.110189</td>\n",
       "      <td>-0.079232</td>\n",
       "    </tr>\n",
       "  </tbody>\n",
       "</table>\n",
       "<p>135 rows × 77 columns</p>\n",
       "</div>"
      ],
      "text/plain": [
       "                           PC1       PC2       PC3       PC4       PC5  \\\n",
       "range_delay                                                              \n",
       "13_10000_mean_middle -0.138000  0.127982  0.070198  0.035588  0.048728   \n",
       "13_16800_mean_middle  0.024737 -0.023737 -0.086644  0.089965 -0.107486   \n",
       "13_3000_mean_middle  -0.090821 -0.101878  0.011598  0.021256 -0.003402   \n",
       "13_6000_mean_middle  -0.139213  0.127120  0.070825  0.040665  0.053153   \n",
       "13_8000_mean_middle  -0.138822  0.127500  0.070542  0.042781  0.053000   \n",
       "...                        ...       ...       ...       ...       ...   \n",
       "53_10000_mean_upper  -0.012738  0.057614 -0.011443  0.053694  0.042903   \n",
       "53_16800_mean_upper   0.018216 -0.025571  0.111517  0.125154 -0.001615   \n",
       "53_3000_mean_upper   -0.019702 -0.031017  0.168385 -0.176791  0.018128   \n",
       "53_6000_mean_upper    0.001524 -0.046085  0.139822  0.085973 -0.038686   \n",
       "53_8000_mean_upper    0.006334 -0.062080  0.091188 -0.011969  0.072929   \n",
       "\n",
       "                           PC6       PC7       PC8       PC9      PC10  ...  \\\n",
       "range_delay                                                             ...   \n",
       "13_10000_mean_middle  0.120275  0.134741 -0.072328  0.013528  0.006469  ...   \n",
       "13_16800_mean_middle  0.182816 -0.026347  0.149097 -0.217692  0.137172  ...   \n",
       "13_3000_mean_middle   0.155544  0.158629 -0.084234  0.015108 -0.039576  ...   \n",
       "13_6000_mean_middle   0.135543  0.131278 -0.074568  0.011134  0.005918  ...   \n",
       "13_8000_mean_middle   0.136022  0.128403 -0.069837  0.012839  0.000825  ...   \n",
       "...                        ...       ...       ...       ...       ...  ...   \n",
       "53_10000_mean_upper  -0.091594 -0.130780  0.167492  0.051769 -0.008355  ...   \n",
       "53_16800_mean_upper  -0.047645 -0.097101 -0.052853  0.000389  0.050646  ...   \n",
       "53_3000_mean_upper    0.020756 -0.008475  0.074539  0.111205 -0.033410  ...   \n",
       "53_6000_mean_upper    0.053341  0.090067  0.034311  0.056629  0.117710  ...   \n",
       "53_8000_mean_upper    0.126928 -0.134007  0.088637  0.022103  0.078227  ...   \n",
       "\n",
       "                          PC68      PC69      PC70      PC71      PC72  \\\n",
       "range_delay                                                              \n",
       "13_10000_mean_middle -0.070188 -0.075375  0.078440  0.053030  0.065269   \n",
       "13_16800_mean_middle -0.047477  0.008617  0.052367 -0.159642 -0.105382   \n",
       "13_3000_mean_middle   0.047193 -0.112121  0.018867 -0.062448 -0.099745   \n",
       "13_6000_mean_middle   0.010675 -0.080040  0.011094 -0.017526 -0.017793   \n",
       "13_8000_mean_middle  -0.058802 -0.066962  0.021938  0.056858  0.071050   \n",
       "...                        ...       ...       ...       ...       ...   \n",
       "53_10000_mean_upper   0.024853 -0.026226 -0.120592  0.059005  0.089343   \n",
       "53_16800_mean_upper   0.120205 -0.096266  0.045364 -0.037141 -0.047609   \n",
       "53_3000_mean_upper    0.124750  0.143076 -0.146176 -0.032672 -0.150848   \n",
       "53_6000_mean_upper   -0.136597  0.057126 -0.017511 -0.062699 -0.066485   \n",
       "53_8000_mean_upper   -0.028947 -0.057118  0.203150  0.118907 -0.236032   \n",
       "\n",
       "                          PC73      PC74      PC75      PC76      PC77  \n",
       "range_delay                                                             \n",
       "13_10000_mean_middle -0.059300  0.110864 -0.014586 -0.037600  0.103475  \n",
       "13_16800_mean_middle  0.031184  0.030488 -0.027101  0.129182 -0.168534  \n",
       "13_3000_mean_middle  -0.092860 -0.119377  0.099923 -0.004657  0.089471  \n",
       "13_6000_mean_middle  -0.094326 -0.019447 -0.116960 -0.010731 -0.290818  \n",
       "13_8000_mean_middle  -0.041610  0.037711  0.048334  0.028151  0.178670  \n",
       "...                        ...       ...       ...       ...       ...  \n",
       "53_10000_mean_upper   0.023494  0.056771 -0.022025  0.078209 -0.081443  \n",
       "53_16800_mean_upper   0.009364 -0.043193 -0.223378  0.048052  0.045468  \n",
       "53_3000_mean_upper   -0.051435 -0.003193 -0.099917  0.026238  0.006030  \n",
       "53_6000_mean_upper   -0.039448 -0.065801  0.052408  0.012757 -0.060820  \n",
       "53_8000_mean_upper   -0.019766  0.112627  0.109780 -0.110189 -0.079232  \n",
       "\n",
       "[135 rows x 77 columns]"
      ]
     },
     "execution_count": 14,
     "metadata": {},
     "output_type": "execute_result"
    }
   ],
   "source": [
    "# Create a DataFrame for the loadings\n",
    "loading_df = pd.DataFrame(loadings.T, columns=[f'PC{i+1}' for i in range(loadings.shape[0])], index=features.columns)\n",
    "loading_df"
   ]
  },
  {
   "cell_type": "code",
   "execution_count": 15,
   "metadata": {},
   "outputs": [
    {
     "data": {
      "text/html": [
       "<div>\n",
       "<style scoped>\n",
       "    .dataframe tbody tr th:only-of-type {\n",
       "        vertical-align: middle;\n",
       "    }\n",
       "\n",
       "    .dataframe tbody tr th {\n",
       "        vertical-align: top;\n",
       "    }\n",
       "\n",
       "    .dataframe thead th {\n",
       "        text-align: right;\n",
       "    }\n",
       "</style>\n",
       "<table border=\"1\" class=\"dataframe\">\n",
       "  <thead>\n",
       "    <tr style=\"text-align: right;\">\n",
       "      <th></th>\n",
       "      <th>Feature</th>\n",
       "      <th>Importance</th>\n",
       "    </tr>\n",
       "  </thead>\n",
       "  <tbody>\n",
       "    <tr>\n",
       "      <th>82</th>\n",
       "      <td>48_3000_mean_lower</td>\n",
       "      <td>3.519902</td>\n",
       "    </tr>\n",
       "    <tr>\n",
       "      <th>45</th>\n",
       "      <td>13_10000_mean_lower</td>\n",
       "      <td>3.503743</td>\n",
       "    </tr>\n",
       "    <tr>\n",
       "      <th>88</th>\n",
       "      <td>53_6000_mean_lower</td>\n",
       "      <td>3.441206</td>\n",
       "    </tr>\n",
       "    <tr>\n",
       "      <th>106</th>\n",
       "      <td>28_16800_mean_upper</td>\n",
       "      <td>3.430736</td>\n",
       "    </tr>\n",
       "    <tr>\n",
       "      <th>46</th>\n",
       "      <td>13_16800_mean_lower</td>\n",
       "      <td>3.403745</td>\n",
       "    </tr>\n",
       "    <tr>\n",
       "      <th>117</th>\n",
       "      <td>38_3000_mean_upper</td>\n",
       "      <td>3.367985</td>\n",
       "    </tr>\n",
       "    <tr>\n",
       "      <th>119</th>\n",
       "      <td>38_8000_mean_upper</td>\n",
       "      <td>3.299609</td>\n",
       "    </tr>\n",
       "    <tr>\n",
       "      <th>134</th>\n",
       "      <td>53_8000_mean_upper</td>\n",
       "      <td>3.295226</td>\n",
       "    </tr>\n",
       "    <tr>\n",
       "      <th>57</th>\n",
       "      <td>23_3000_mean_lower</td>\n",
       "      <td>3.292232</td>\n",
       "    </tr>\n",
       "    <tr>\n",
       "      <th>43</th>\n",
       "      <td>53_6000_mean_middle</td>\n",
       "      <td>3.291939</td>\n",
       "    </tr>\n",
       "    <tr>\n",
       "      <th>128</th>\n",
       "      <td>48_6000_mean_upper</td>\n",
       "      <td>3.285171</td>\n",
       "    </tr>\n",
       "    <tr>\n",
       "      <th>85</th>\n",
       "      <td>53_10000_mean_lower</td>\n",
       "      <td>3.270191</td>\n",
       "    </tr>\n",
       "    <tr>\n",
       "      <th>126</th>\n",
       "      <td>48_16800_mean_upper</td>\n",
       "      <td>3.264482</td>\n",
       "    </tr>\n",
       "    <tr>\n",
       "      <th>90</th>\n",
       "      <td>13_10000_mean_upper</td>\n",
       "      <td>3.255987</td>\n",
       "    </tr>\n",
       "    <tr>\n",
       "      <th>76</th>\n",
       "      <td>43_16800_mean_lower</td>\n",
       "      <td>3.246981</td>\n",
       "    </tr>\n",
       "    <tr>\n",
       "      <th>79</th>\n",
       "      <td>43_8000_mean_lower</td>\n",
       "      <td>3.234519</td>\n",
       "    </tr>\n",
       "    <tr>\n",
       "      <th>123</th>\n",
       "      <td>43_6000_mean_upper</td>\n",
       "      <td>3.208945</td>\n",
       "    </tr>\n",
       "    <tr>\n",
       "      <th>121</th>\n",
       "      <td>43_16800_mean_upper</td>\n",
       "      <td>3.207359</td>\n",
       "    </tr>\n",
       "    <tr>\n",
       "      <th>120</th>\n",
       "      <td>43_10000_mean_upper</td>\n",
       "      <td>3.202927</td>\n",
       "    </tr>\n",
       "    <tr>\n",
       "      <th>118</th>\n",
       "      <td>38_6000_mean_upper</td>\n",
       "      <td>3.186918</td>\n",
       "    </tr>\n",
       "    <tr>\n",
       "      <th>101</th>\n",
       "      <td>23_16800_mean_upper</td>\n",
       "      <td>3.181266</td>\n",
       "    </tr>\n",
       "    <tr>\n",
       "      <th>87</th>\n",
       "      <td>53_3000_mean_lower</td>\n",
       "      <td>3.172120</td>\n",
       "    </tr>\n",
       "    <tr>\n",
       "      <th>97</th>\n",
       "      <td>18_3000_mean_upper</td>\n",
       "      <td>3.169979</td>\n",
       "    </tr>\n",
       "    <tr>\n",
       "      <th>44</th>\n",
       "      <td>53_8000_mean_middle</td>\n",
       "      <td>3.169524</td>\n",
       "    </tr>\n",
       "    <tr>\n",
       "      <th>72</th>\n",
       "      <td>38_3000_mean_lower</td>\n",
       "      <td>3.169414</td>\n",
       "    </tr>\n",
       "    <tr>\n",
       "      <th>115</th>\n",
       "      <td>38_10000_mean_upper</td>\n",
       "      <td>3.167579</td>\n",
       "    </tr>\n",
       "    <tr>\n",
       "      <th>53</th>\n",
       "      <td>18_6000_mean_lower</td>\n",
       "      <td>3.166742</td>\n",
       "    </tr>\n",
       "    <tr>\n",
       "      <th>59</th>\n",
       "      <td>23_8000_mean_lower</td>\n",
       "      <td>3.160826</td>\n",
       "    </tr>\n",
       "    <tr>\n",
       "      <th>114</th>\n",
       "      <td>33_8000_mean_upper</td>\n",
       "      <td>3.159545</td>\n",
       "    </tr>\n",
       "    <tr>\n",
       "      <th>81</th>\n",
       "      <td>48_16800_mean_lower</td>\n",
       "      <td>3.152668</td>\n",
       "    </tr>\n",
       "    <tr>\n",
       "      <th>100</th>\n",
       "      <td>23_10000_mean_upper</td>\n",
       "      <td>3.147332</td>\n",
       "    </tr>\n",
       "    <tr>\n",
       "      <th>66</th>\n",
       "      <td>33_16800_mean_lower</td>\n",
       "      <td>3.145236</td>\n",
       "    </tr>\n",
       "    <tr>\n",
       "      <th>112</th>\n",
       "      <td>33_3000_mean_upper</td>\n",
       "      <td>3.141352</td>\n",
       "    </tr>\n",
       "    <tr>\n",
       "      <th>133</th>\n",
       "      <td>53_6000_mean_upper</td>\n",
       "      <td>3.141175</td>\n",
       "    </tr>\n",
       "    <tr>\n",
       "      <th>56</th>\n",
       "      <td>23_16800_mean_lower</td>\n",
       "      <td>3.119257</td>\n",
       "    </tr>\n",
       "    <tr>\n",
       "      <th>71</th>\n",
       "      <td>38_16800_mean_lower</td>\n",
       "      <td>3.113513</td>\n",
       "    </tr>\n",
       "    <tr>\n",
       "      <th>105</th>\n",
       "      <td>28_10000_mean_upper</td>\n",
       "      <td>3.104713</td>\n",
       "    </tr>\n",
       "    <tr>\n",
       "      <th>62</th>\n",
       "      <td>28_3000_mean_lower</td>\n",
       "      <td>3.101997</td>\n",
       "    </tr>\n",
       "    <tr>\n",
       "      <th>67</th>\n",
       "      <td>33_3000_mean_lower</td>\n",
       "      <td>3.098344</td>\n",
       "    </tr>\n",
       "    <tr>\n",
       "      <th>108</th>\n",
       "      <td>28_6000_mean_upper</td>\n",
       "      <td>3.091476</td>\n",
       "    </tr>\n",
       "    <tr>\n",
       "      <th>116</th>\n",
       "      <td>38_16800_mean_upper</td>\n",
       "      <td>3.088629</td>\n",
       "    </tr>\n",
       "    <tr>\n",
       "      <th>52</th>\n",
       "      <td>18_3000_mean_lower</td>\n",
       "      <td>3.075712</td>\n",
       "    </tr>\n",
       "    <tr>\n",
       "      <th>132</th>\n",
       "      <td>53_3000_mean_upper</td>\n",
       "      <td>3.068290</td>\n",
       "    </tr>\n",
       "    <tr>\n",
       "      <th>51</th>\n",
       "      <td>18_16800_mean_lower</td>\n",
       "      <td>3.063587</td>\n",
       "    </tr>\n",
       "    <tr>\n",
       "      <th>95</th>\n",
       "      <td>18_10000_mean_upper</td>\n",
       "      <td>3.045886</td>\n",
       "    </tr>\n",
       "    <tr>\n",
       "      <th>77</th>\n",
       "      <td>43_3000_mean_lower</td>\n",
       "      <td>3.035775</td>\n",
       "    </tr>\n",
       "    <tr>\n",
       "      <th>50</th>\n",
       "      <td>18_10000_mean_lower</td>\n",
       "      <td>3.035492</td>\n",
       "    </tr>\n",
       "    <tr>\n",
       "      <th>6</th>\n",
       "      <td>18_16800_mean_middle</td>\n",
       "      <td>3.031859</td>\n",
       "    </tr>\n",
       "    <tr>\n",
       "      <th>127</th>\n",
       "      <td>48_3000_mean_upper</td>\n",
       "      <td>3.021821</td>\n",
       "    </tr>\n",
       "    <tr>\n",
       "      <th>107</th>\n",
       "      <td>28_3000_mean_upper</td>\n",
       "      <td>3.021332</td>\n",
       "    </tr>\n",
       "  </tbody>\n",
       "</table>\n",
       "</div>"
      ],
      "text/plain": [
       "                  Feature  Importance\n",
       "82     48_3000_mean_lower    3.519902\n",
       "45    13_10000_mean_lower    3.503743\n",
       "88     53_6000_mean_lower    3.441206\n",
       "106   28_16800_mean_upper    3.430736\n",
       "46    13_16800_mean_lower    3.403745\n",
       "117    38_3000_mean_upper    3.367985\n",
       "119    38_8000_mean_upper    3.299609\n",
       "134    53_8000_mean_upper    3.295226\n",
       "57     23_3000_mean_lower    3.292232\n",
       "43    53_6000_mean_middle    3.291939\n",
       "128    48_6000_mean_upper    3.285171\n",
       "85    53_10000_mean_lower    3.270191\n",
       "126   48_16800_mean_upper    3.264482\n",
       "90    13_10000_mean_upper    3.255987\n",
       "76    43_16800_mean_lower    3.246981\n",
       "79     43_8000_mean_lower    3.234519\n",
       "123    43_6000_mean_upper    3.208945\n",
       "121   43_16800_mean_upper    3.207359\n",
       "120   43_10000_mean_upper    3.202927\n",
       "118    38_6000_mean_upper    3.186918\n",
       "101   23_16800_mean_upper    3.181266\n",
       "87     53_3000_mean_lower    3.172120\n",
       "97     18_3000_mean_upper    3.169979\n",
       "44    53_8000_mean_middle    3.169524\n",
       "72     38_3000_mean_lower    3.169414\n",
       "115   38_10000_mean_upper    3.167579\n",
       "53     18_6000_mean_lower    3.166742\n",
       "59     23_8000_mean_lower    3.160826\n",
       "114    33_8000_mean_upper    3.159545\n",
       "81    48_16800_mean_lower    3.152668\n",
       "100   23_10000_mean_upper    3.147332\n",
       "66    33_16800_mean_lower    3.145236\n",
       "112    33_3000_mean_upper    3.141352\n",
       "133    53_6000_mean_upper    3.141175\n",
       "56    23_16800_mean_lower    3.119257\n",
       "71    38_16800_mean_lower    3.113513\n",
       "105   28_10000_mean_upper    3.104713\n",
       "62     28_3000_mean_lower    3.101997\n",
       "67     33_3000_mean_lower    3.098344\n",
       "108    28_6000_mean_upper    3.091476\n",
       "116   38_16800_mean_upper    3.088629\n",
       "52     18_3000_mean_lower    3.075712\n",
       "132    53_3000_mean_upper    3.068290\n",
       "51    18_16800_mean_lower    3.063587\n",
       "95    18_10000_mean_upper    3.045886\n",
       "77     43_3000_mean_lower    3.035775\n",
       "50    18_10000_mean_lower    3.035492\n",
       "6    18_16800_mean_middle    3.031859\n",
       "127    48_3000_mean_upper    3.021821\n",
       "107    28_3000_mean_upper    3.021332"
      ]
     },
     "execution_count": 15,
     "metadata": {},
     "output_type": "execute_result"
    }
   ],
   "source": [
    "# Determine the number of components to retain 90% variance\n",
    "cumulative_variance = np.cumsum(explained_variance)\n",
    "num_components = np.argmax(cumulative_variance >= 0.9) + 1\n",
    "\n",
    "# Get the loadings for the selected components\n",
    "selected_loadings = loadings[:num_components, :]\n",
    "\n",
    "# Calculate the importance of each feature by summing the absolute values of its loadings across the selected components\n",
    "feature_importance = np.sum(np.abs(selected_loadings), axis=0)\n",
    "\n",
    "# Create a DataFrame for feature importance\n",
    "feature_importance_df = pd.DataFrame({'Feature': features.columns, 'Importance': feature_importance})\n",
    "\n",
    "# Sort the features by importance\n",
    "feature_importance_df = feature_importance_df.sort_values(by='Importance', ascending=False)\n",
    "\n",
    "# Select the top N features (e.g., top 10 features)\n",
    "top_features = feature_importance_df.head(50)\n",
    "\n",
    "top_features"
   ]
  },
  {
   "cell_type": "markdown",
   "metadata": {},
   "source": [
    "Having many features with an importance score over 1 can be interpreted in various ways.\n",
    "\n",
    "Implication 1: Distributed Contribution\n",
    "- Distributed Contribution: When many features have high importance scores, it indicates that the variance in the data is distributed across multiple features rather than being dominated by a few.\n",
    "- Balanced Influence: This suggests a balanced influence where no single feature overwhelmingly explains the variance, but rather, multiple features contribute significantly.\n",
    "\n",
    "Implication 2: Multicollinearity\n",
    "- Multicollinearity: It might indicate the presence of multicollinearity, where multiple features are correlated with each other and together contribute to the same principal components.\n",
    "- Redundancy: In such cases, there might be redundancy in the information provided by these features\n",
    "\n",
    "\n",
    "\n",
    "To address these issues we could look into correlation matrix and use regularization technique to reduce it"
   ]
  },
  {
   "cell_type": "markdown",
   "metadata": {},
   "source": [
    "## Investigate Multicollinearity"
   ]
  },
  {
   "cell_type": "markdown",
   "metadata": {},
   "source": [
    "### Analyze using correlation matrix"
   ]
  },
  {
   "cell_type": "code",
   "execution_count": 16,
   "metadata": {},
   "outputs": [],
   "source": [
    "# List of DataFrames\n",
    "df_pivots = [df_range_delay_lower, df_range_delay_upper]\n",
    "\n",
    "# Initialize the merged DataFrame with the first DataFrame in the list\n",
    "df_range_delay_ends = df_pivots[0]\n",
    "\n",
    "# Iteratively merge each DataFrame in the list\n",
    "for df in df_pivots[1:]:\n",
    "    df_range_delay_ends = df_range_delay_ends.merge(df, on='Sensor ID')\n",
    "# Replace all NaN values with 0 in the merged DataFrame\n",
    "df_range_delay_ends.fillna(0, inplace=True)"
   ]
  },
  {
   "cell_type": "code",
   "execution_count": 17,
   "metadata": {},
   "outputs": [],
   "source": [
    "df_range_delay_corr= df_range_delay_ends.drop([\"Sensor ID\"], axis = 1)"
   ]
  },
  {
   "cell_type": "code",
   "execution_count": 18,
   "metadata": {},
   "outputs": [
    {
     "data": {
      "text/html": [
       "<div>\n",
       "<style scoped>\n",
       "    .dataframe tbody tr th:only-of-type {\n",
       "        vertical-align: middle;\n",
       "    }\n",
       "\n",
       "    .dataframe tbody tr th {\n",
       "        vertical-align: top;\n",
       "    }\n",
       "\n",
       "    .dataframe thead th {\n",
       "        text-align: right;\n",
       "    }\n",
       "</style>\n",
       "<table border=\"1\" class=\"dataframe\">\n",
       "  <thead>\n",
       "    <tr style=\"text-align: right;\">\n",
       "      <th>range_delay</th>\n",
       "      <th>13_10000_mean_lower</th>\n",
       "      <th>13_16800_mean_lower</th>\n",
       "      <th>13_3000_mean_lower</th>\n",
       "      <th>13_6000_mean_lower</th>\n",
       "      <th>13_8000_mean_lower</th>\n",
       "      <th>18_10000_mean_lower</th>\n",
       "      <th>18_16800_mean_lower</th>\n",
       "      <th>18_3000_mean_lower</th>\n",
       "      <th>18_6000_mean_lower</th>\n",
       "      <th>18_8000_mean_lower</th>\n",
       "      <th>...</th>\n",
       "      <th>48_10000_mean_upper</th>\n",
       "      <th>48_16800_mean_upper</th>\n",
       "      <th>48_3000_mean_upper</th>\n",
       "      <th>48_6000_mean_upper</th>\n",
       "      <th>48_8000_mean_upper</th>\n",
       "      <th>53_10000_mean_upper</th>\n",
       "      <th>53_16800_mean_upper</th>\n",
       "      <th>53_3000_mean_upper</th>\n",
       "      <th>53_6000_mean_upper</th>\n",
       "      <th>53_8000_mean_upper</th>\n",
       "    </tr>\n",
       "    <tr>\n",
       "      <th>range_delay</th>\n",
       "      <th></th>\n",
       "      <th></th>\n",
       "      <th></th>\n",
       "      <th></th>\n",
       "      <th></th>\n",
       "      <th></th>\n",
       "      <th></th>\n",
       "      <th></th>\n",
       "      <th></th>\n",
       "      <th></th>\n",
       "      <th></th>\n",
       "      <th></th>\n",
       "      <th></th>\n",
       "      <th></th>\n",
       "      <th></th>\n",
       "      <th></th>\n",
       "      <th></th>\n",
       "      <th></th>\n",
       "      <th></th>\n",
       "      <th></th>\n",
       "      <th></th>\n",
       "    </tr>\n",
       "  </thead>\n",
       "  <tbody>\n",
       "    <tr>\n",
       "      <th>13_10000_mean_lower</th>\n",
       "      <td>1.000000</td>\n",
       "      <td>-0.006329</td>\n",
       "      <td>0.142563</td>\n",
       "      <td>0.234837</td>\n",
       "      <td>0.308053</td>\n",
       "      <td>0.138679</td>\n",
       "      <td>0.111477</td>\n",
       "      <td>-0.055666</td>\n",
       "      <td>0.059439</td>\n",
       "      <td>0.079335</td>\n",
       "      <td>...</td>\n",
       "      <td>-0.163236</td>\n",
       "      <td>-0.109735</td>\n",
       "      <td>-0.025725</td>\n",
       "      <td>-0.101069</td>\n",
       "      <td>-0.117229</td>\n",
       "      <td>-0.010916</td>\n",
       "      <td>0.111025</td>\n",
       "      <td>0.178035</td>\n",
       "      <td>-0.155228</td>\n",
       "      <td>-0.182994</td>\n",
       "    </tr>\n",
       "    <tr>\n",
       "      <th>13_16800_mean_lower</th>\n",
       "      <td>-0.006329</td>\n",
       "      <td>1.000000</td>\n",
       "      <td>0.042697</td>\n",
       "      <td>-0.102974</td>\n",
       "      <td>-0.093594</td>\n",
       "      <td>0.219054</td>\n",
       "      <td>0.102558</td>\n",
       "      <td>0.109677</td>\n",
       "      <td>0.057038</td>\n",
       "      <td>-0.061270</td>\n",
       "      <td>...</td>\n",
       "      <td>-0.049120</td>\n",
       "      <td>-0.045046</td>\n",
       "      <td>0.016735</td>\n",
       "      <td>-0.037088</td>\n",
       "      <td>-0.030323</td>\n",
       "      <td>-0.013323</td>\n",
       "      <td>0.025546</td>\n",
       "      <td>-0.003579</td>\n",
       "      <td>0.134812</td>\n",
       "      <td>-0.023751</td>\n",
       "    </tr>\n",
       "    <tr>\n",
       "      <th>13_3000_mean_lower</th>\n",
       "      <td>0.142563</td>\n",
       "      <td>0.042697</td>\n",
       "      <td>1.000000</td>\n",
       "      <td>0.393200</td>\n",
       "      <td>0.329599</td>\n",
       "      <td>0.026858</td>\n",
       "      <td>0.330322</td>\n",
       "      <td>0.117187</td>\n",
       "      <td>0.121640</td>\n",
       "      <td>0.113895</td>\n",
       "      <td>...</td>\n",
       "      <td>-0.039430</td>\n",
       "      <td>0.183907</td>\n",
       "      <td>-0.027543</td>\n",
       "      <td>0.122093</td>\n",
       "      <td>0.110803</td>\n",
       "      <td>0.057621</td>\n",
       "      <td>0.092727</td>\n",
       "      <td>-0.002754</td>\n",
       "      <td>0.147521</td>\n",
       "      <td>0.043507</td>\n",
       "    </tr>\n",
       "    <tr>\n",
       "      <th>13_6000_mean_lower</th>\n",
       "      <td>0.234837</td>\n",
       "      <td>-0.102974</td>\n",
       "      <td>0.393200</td>\n",
       "      <td>1.000000</td>\n",
       "      <td>0.449926</td>\n",
       "      <td>-0.120941</td>\n",
       "      <td>0.050312</td>\n",
       "      <td>-0.038554</td>\n",
       "      <td>0.040058</td>\n",
       "      <td>-0.092805</td>\n",
       "      <td>...</td>\n",
       "      <td>-0.068471</td>\n",
       "      <td>0.034972</td>\n",
       "      <td>0.050373</td>\n",
       "      <td>-0.036216</td>\n",
       "      <td>0.083124</td>\n",
       "      <td>-0.093320</td>\n",
       "      <td>0.010728</td>\n",
       "      <td>0.032243</td>\n",
       "      <td>0.178242</td>\n",
       "      <td>-0.138835</td>\n",
       "    </tr>\n",
       "    <tr>\n",
       "      <th>13_8000_mean_lower</th>\n",
       "      <td>0.308053</td>\n",
       "      <td>-0.093594</td>\n",
       "      <td>0.329599</td>\n",
       "      <td>0.449926</td>\n",
       "      <td>1.000000</td>\n",
       "      <td>0.001557</td>\n",
       "      <td>0.111928</td>\n",
       "      <td>0.075936</td>\n",
       "      <td>0.044905</td>\n",
       "      <td>0.003688</td>\n",
       "      <td>...</td>\n",
       "      <td>0.015744</td>\n",
       "      <td>0.143838</td>\n",
       "      <td>-0.046549</td>\n",
       "      <td>-0.041079</td>\n",
       "      <td>-0.072801</td>\n",
       "      <td>0.039944</td>\n",
       "      <td>0.071658</td>\n",
       "      <td>-0.039743</td>\n",
       "      <td>0.181636</td>\n",
       "      <td>-0.222708</td>\n",
       "    </tr>\n",
       "    <tr>\n",
       "      <th>...</th>\n",
       "      <td>...</td>\n",
       "      <td>...</td>\n",
       "      <td>...</td>\n",
       "      <td>...</td>\n",
       "      <td>...</td>\n",
       "      <td>...</td>\n",
       "      <td>...</td>\n",
       "      <td>...</td>\n",
       "      <td>...</td>\n",
       "      <td>...</td>\n",
       "      <td>...</td>\n",
       "      <td>...</td>\n",
       "      <td>...</td>\n",
       "      <td>...</td>\n",
       "      <td>...</td>\n",
       "      <td>...</td>\n",
       "      <td>...</td>\n",
       "      <td>...</td>\n",
       "      <td>...</td>\n",
       "      <td>...</td>\n",
       "      <td>...</td>\n",
       "    </tr>\n",
       "    <tr>\n",
       "      <th>53_10000_mean_upper</th>\n",
       "      <td>-0.010916</td>\n",
       "      <td>-0.013323</td>\n",
       "      <td>0.057621</td>\n",
       "      <td>-0.093320</td>\n",
       "      <td>0.039944</td>\n",
       "      <td>-0.032470</td>\n",
       "      <td>0.035280</td>\n",
       "      <td>0.099737</td>\n",
       "      <td>0.064306</td>\n",
       "      <td>0.091668</td>\n",
       "      <td>...</td>\n",
       "      <td>0.161460</td>\n",
       "      <td>0.024814</td>\n",
       "      <td>-0.075321</td>\n",
       "      <td>0.159746</td>\n",
       "      <td>-0.006415</td>\n",
       "      <td>1.000000</td>\n",
       "      <td>0.069239</td>\n",
       "      <td>0.098789</td>\n",
       "      <td>0.055073</td>\n",
       "      <td>0.256127</td>\n",
       "    </tr>\n",
       "    <tr>\n",
       "      <th>53_16800_mean_upper</th>\n",
       "      <td>0.111025</td>\n",
       "      <td>0.025546</td>\n",
       "      <td>0.092727</td>\n",
       "      <td>0.010728</td>\n",
       "      <td>0.071658</td>\n",
       "      <td>-0.172980</td>\n",
       "      <td>-0.022888</td>\n",
       "      <td>-0.079483</td>\n",
       "      <td>0.041674</td>\n",
       "      <td>-0.056740</td>\n",
       "      <td>...</td>\n",
       "      <td>-0.050770</td>\n",
       "      <td>0.240331</td>\n",
       "      <td>-0.092799</td>\n",
       "      <td>0.010744</td>\n",
       "      <td>-0.063568</td>\n",
       "      <td>0.069239</td>\n",
       "      <td>1.000000</td>\n",
       "      <td>-0.083349</td>\n",
       "      <td>0.284166</td>\n",
       "      <td>0.236345</td>\n",
       "    </tr>\n",
       "    <tr>\n",
       "      <th>53_3000_mean_upper</th>\n",
       "      <td>0.178035</td>\n",
       "      <td>-0.003579</td>\n",
       "      <td>-0.002754</td>\n",
       "      <td>0.032243</td>\n",
       "      <td>-0.039743</td>\n",
       "      <td>0.095380</td>\n",
       "      <td>0.152347</td>\n",
       "      <td>0.057031</td>\n",
       "      <td>-0.172319</td>\n",
       "      <td>0.139012</td>\n",
       "      <td>...</td>\n",
       "      <td>0.062147</td>\n",
       "      <td>-0.240939</td>\n",
       "      <td>-0.004389</td>\n",
       "      <td>0.251493</td>\n",
       "      <td>0.163900</td>\n",
       "      <td>0.098789</td>\n",
       "      <td>-0.083349</td>\n",
       "      <td>1.000000</td>\n",
       "      <td>0.083985</td>\n",
       "      <td>0.043399</td>\n",
       "    </tr>\n",
       "    <tr>\n",
       "      <th>53_6000_mean_upper</th>\n",
       "      <td>-0.155228</td>\n",
       "      <td>0.134812</td>\n",
       "      <td>0.147521</td>\n",
       "      <td>0.178242</td>\n",
       "      <td>0.181636</td>\n",
       "      <td>-0.122436</td>\n",
       "      <td>0.056643</td>\n",
       "      <td>0.082064</td>\n",
       "      <td>-0.102862</td>\n",
       "      <td>-0.081962</td>\n",
       "      <td>...</td>\n",
       "      <td>0.126393</td>\n",
       "      <td>0.163062</td>\n",
       "      <td>0.148118</td>\n",
       "      <td>0.260683</td>\n",
       "      <td>0.223701</td>\n",
       "      <td>0.055073</td>\n",
       "      <td>0.284166</td>\n",
       "      <td>0.083985</td>\n",
       "      <td>1.000000</td>\n",
       "      <td>0.245546</td>\n",
       "    </tr>\n",
       "    <tr>\n",
       "      <th>53_8000_mean_upper</th>\n",
       "      <td>-0.182994</td>\n",
       "      <td>-0.023751</td>\n",
       "      <td>0.043507</td>\n",
       "      <td>-0.138835</td>\n",
       "      <td>-0.222708</td>\n",
       "      <td>-0.032078</td>\n",
       "      <td>0.094553</td>\n",
       "      <td>-0.014399</td>\n",
       "      <td>-0.101813</td>\n",
       "      <td>-0.019009</td>\n",
       "      <td>...</td>\n",
       "      <td>-0.140886</td>\n",
       "      <td>0.005199</td>\n",
       "      <td>0.115335</td>\n",
       "      <td>0.223340</td>\n",
       "      <td>0.005367</td>\n",
       "      <td>0.256127</td>\n",
       "      <td>0.236345</td>\n",
       "      <td>0.043399</td>\n",
       "      <td>0.245546</td>\n",
       "      <td>1.000000</td>\n",
       "    </tr>\n",
       "  </tbody>\n",
       "</table>\n",
       "<p>90 rows × 90 columns</p>\n",
       "</div>"
      ],
      "text/plain": [
       "range_delay          13_10000_mean_lower  13_16800_mean_lower  \\\n",
       "range_delay                                                     \n",
       "13_10000_mean_lower             1.000000            -0.006329   \n",
       "13_16800_mean_lower            -0.006329             1.000000   \n",
       "13_3000_mean_lower              0.142563             0.042697   \n",
       "13_6000_mean_lower              0.234837            -0.102974   \n",
       "13_8000_mean_lower              0.308053            -0.093594   \n",
       "...                                  ...                  ...   \n",
       "53_10000_mean_upper            -0.010916            -0.013323   \n",
       "53_16800_mean_upper             0.111025             0.025546   \n",
       "53_3000_mean_upper              0.178035            -0.003579   \n",
       "53_6000_mean_upper             -0.155228             0.134812   \n",
       "53_8000_mean_upper             -0.182994            -0.023751   \n",
       "\n",
       "range_delay          13_3000_mean_lower  13_6000_mean_lower  \\\n",
       "range_delay                                                   \n",
       "13_10000_mean_lower            0.142563            0.234837   \n",
       "13_16800_mean_lower            0.042697           -0.102974   \n",
       "13_3000_mean_lower             1.000000            0.393200   \n",
       "13_6000_mean_lower             0.393200            1.000000   \n",
       "13_8000_mean_lower             0.329599            0.449926   \n",
       "...                                 ...                 ...   \n",
       "53_10000_mean_upper            0.057621           -0.093320   \n",
       "53_16800_mean_upper            0.092727            0.010728   \n",
       "53_3000_mean_upper            -0.002754            0.032243   \n",
       "53_6000_mean_upper             0.147521            0.178242   \n",
       "53_8000_mean_upper             0.043507           -0.138835   \n",
       "\n",
       "range_delay          13_8000_mean_lower  18_10000_mean_lower  \\\n",
       "range_delay                                                    \n",
       "13_10000_mean_lower            0.308053             0.138679   \n",
       "13_16800_mean_lower           -0.093594             0.219054   \n",
       "13_3000_mean_lower             0.329599             0.026858   \n",
       "13_6000_mean_lower             0.449926            -0.120941   \n",
       "13_8000_mean_lower             1.000000             0.001557   \n",
       "...                                 ...                  ...   \n",
       "53_10000_mean_upper            0.039944            -0.032470   \n",
       "53_16800_mean_upper            0.071658            -0.172980   \n",
       "53_3000_mean_upper            -0.039743             0.095380   \n",
       "53_6000_mean_upper             0.181636            -0.122436   \n",
       "53_8000_mean_upper            -0.222708            -0.032078   \n",
       "\n",
       "range_delay          18_16800_mean_lower  18_3000_mean_lower  \\\n",
       "range_delay                                                    \n",
       "13_10000_mean_lower             0.111477           -0.055666   \n",
       "13_16800_mean_lower             0.102558            0.109677   \n",
       "13_3000_mean_lower              0.330322            0.117187   \n",
       "13_6000_mean_lower              0.050312           -0.038554   \n",
       "13_8000_mean_lower              0.111928            0.075936   \n",
       "...                                  ...                 ...   \n",
       "53_10000_mean_upper             0.035280            0.099737   \n",
       "53_16800_mean_upper            -0.022888           -0.079483   \n",
       "53_3000_mean_upper              0.152347            0.057031   \n",
       "53_6000_mean_upper              0.056643            0.082064   \n",
       "53_8000_mean_upper              0.094553           -0.014399   \n",
       "\n",
       "range_delay          18_6000_mean_lower  18_8000_mean_lower  ...  \\\n",
       "range_delay                                                  ...   \n",
       "13_10000_mean_lower            0.059439            0.079335  ...   \n",
       "13_16800_mean_lower            0.057038           -0.061270  ...   \n",
       "13_3000_mean_lower             0.121640            0.113895  ...   \n",
       "13_6000_mean_lower             0.040058           -0.092805  ...   \n",
       "13_8000_mean_lower             0.044905            0.003688  ...   \n",
       "...                                 ...                 ...  ...   \n",
       "53_10000_mean_upper            0.064306            0.091668  ...   \n",
       "53_16800_mean_upper            0.041674           -0.056740  ...   \n",
       "53_3000_mean_upper            -0.172319            0.139012  ...   \n",
       "53_6000_mean_upper            -0.102862           -0.081962  ...   \n",
       "53_8000_mean_upper            -0.101813           -0.019009  ...   \n",
       "\n",
       "range_delay          48_10000_mean_upper  48_16800_mean_upper  \\\n",
       "range_delay                                                     \n",
       "13_10000_mean_lower            -0.163236            -0.109735   \n",
       "13_16800_mean_lower            -0.049120            -0.045046   \n",
       "13_3000_mean_lower             -0.039430             0.183907   \n",
       "13_6000_mean_lower             -0.068471             0.034972   \n",
       "13_8000_mean_lower              0.015744             0.143838   \n",
       "...                                  ...                  ...   \n",
       "53_10000_mean_upper             0.161460             0.024814   \n",
       "53_16800_mean_upper            -0.050770             0.240331   \n",
       "53_3000_mean_upper              0.062147            -0.240939   \n",
       "53_6000_mean_upper              0.126393             0.163062   \n",
       "53_8000_mean_upper             -0.140886             0.005199   \n",
       "\n",
       "range_delay          48_3000_mean_upper  48_6000_mean_upper  \\\n",
       "range_delay                                                   \n",
       "13_10000_mean_lower           -0.025725           -0.101069   \n",
       "13_16800_mean_lower            0.016735           -0.037088   \n",
       "13_3000_mean_lower            -0.027543            0.122093   \n",
       "13_6000_mean_lower             0.050373           -0.036216   \n",
       "13_8000_mean_lower            -0.046549           -0.041079   \n",
       "...                                 ...                 ...   \n",
       "53_10000_mean_upper           -0.075321            0.159746   \n",
       "53_16800_mean_upper           -0.092799            0.010744   \n",
       "53_3000_mean_upper            -0.004389            0.251493   \n",
       "53_6000_mean_upper             0.148118            0.260683   \n",
       "53_8000_mean_upper             0.115335            0.223340   \n",
       "\n",
       "range_delay          48_8000_mean_upper  53_10000_mean_upper  \\\n",
       "range_delay                                                    \n",
       "13_10000_mean_lower           -0.117229            -0.010916   \n",
       "13_16800_mean_lower           -0.030323            -0.013323   \n",
       "13_3000_mean_lower             0.110803             0.057621   \n",
       "13_6000_mean_lower             0.083124            -0.093320   \n",
       "13_8000_mean_lower            -0.072801             0.039944   \n",
       "...                                 ...                  ...   \n",
       "53_10000_mean_upper           -0.006415             1.000000   \n",
       "53_16800_mean_upper           -0.063568             0.069239   \n",
       "53_3000_mean_upper             0.163900             0.098789   \n",
       "53_6000_mean_upper             0.223701             0.055073   \n",
       "53_8000_mean_upper             0.005367             0.256127   \n",
       "\n",
       "range_delay          53_16800_mean_upper  53_3000_mean_upper  \\\n",
       "range_delay                                                    \n",
       "13_10000_mean_lower             0.111025            0.178035   \n",
       "13_16800_mean_lower             0.025546           -0.003579   \n",
       "13_3000_mean_lower              0.092727           -0.002754   \n",
       "13_6000_mean_lower              0.010728            0.032243   \n",
       "13_8000_mean_lower              0.071658           -0.039743   \n",
       "...                                  ...                 ...   \n",
       "53_10000_mean_upper             0.069239            0.098789   \n",
       "53_16800_mean_upper             1.000000           -0.083349   \n",
       "53_3000_mean_upper             -0.083349            1.000000   \n",
       "53_6000_mean_upper              0.284166            0.083985   \n",
       "53_8000_mean_upper              0.236345            0.043399   \n",
       "\n",
       "range_delay          53_6000_mean_upper  53_8000_mean_upper  \n",
       "range_delay                                                  \n",
       "13_10000_mean_lower           -0.155228           -0.182994  \n",
       "13_16800_mean_lower            0.134812           -0.023751  \n",
       "13_3000_mean_lower             0.147521            0.043507  \n",
       "13_6000_mean_lower             0.178242           -0.138835  \n",
       "13_8000_mean_lower             0.181636           -0.222708  \n",
       "...                                 ...                 ...  \n",
       "53_10000_mean_upper            0.055073            0.256127  \n",
       "53_16800_mean_upper            0.284166            0.236345  \n",
       "53_3000_mean_upper             0.083985            0.043399  \n",
       "53_6000_mean_upper             1.000000            0.245546  \n",
       "53_8000_mean_upper             0.245546            1.000000  \n",
       "\n",
       "[90 rows x 90 columns]"
      ]
     },
     "execution_count": 18,
     "metadata": {},
     "output_type": "execute_result"
    }
   ],
   "source": [
    "# Calculate the correlation matrix for the dataset\n",
    "correlation_matrix = df_range_delay_corr.corr()\n",
    "correlation_matrix\n"
   ]
  },
  {
   "cell_type": "code",
   "execution_count": 19,
   "metadata": {},
   "outputs": [
    {
     "data": {
      "text/html": [
       "<div>\n",
       "<style scoped>\n",
       "    .dataframe tbody tr th:only-of-type {\n",
       "        vertical-align: middle;\n",
       "    }\n",
       "\n",
       "    .dataframe tbody tr th {\n",
       "        vertical-align: top;\n",
       "    }\n",
       "\n",
       "    .dataframe thead th {\n",
       "        text-align: right;\n",
       "    }\n",
       "</style>\n",
       "<table border=\"1\" class=\"dataframe\">\n",
       "  <thead>\n",
       "    <tr style=\"text-align: right;\">\n",
       "      <th></th>\n",
       "      <th>Feature 1</th>\n",
       "      <th>Feature 2</th>\n",
       "      <th>Correlation</th>\n",
       "    </tr>\n",
       "  </thead>\n",
       "  <tbody>\n",
       "    <tr>\n",
       "      <th>0</th>\n",
       "      <td>13_8000_mean_lower</td>\n",
       "      <td>13_8000_mean_upper</td>\n",
       "      <td>0.603920</td>\n",
       "    </tr>\n",
       "    <tr>\n",
       "      <th>1</th>\n",
       "      <td>38_10000_mean_lower</td>\n",
       "      <td>38_10000_mean_upper</td>\n",
       "      <td>0.602842</td>\n",
       "    </tr>\n",
       "  </tbody>\n",
       "</table>\n",
       "</div>"
      ],
      "text/plain": [
       "             Feature 1            Feature 2  Correlation\n",
       "0   13_8000_mean_lower   13_8000_mean_upper     0.603920\n",
       "1  38_10000_mean_lower  38_10000_mean_upper     0.602842"
      ]
     },
     "execution_count": 19,
     "metadata": {},
     "output_type": "execute_result"
    }
   ],
   "source": [
    "# Extract pairs of highly correlated features with correlation coefficient above a threshold (e.g., 0.8 or below -0.8)\n",
    "threshold = 0.6\n",
    "highly_correlated_pairs = []\n",
    "\n",
    "for i in range(correlation_matrix.shape[0]):\n",
    "    for j in range(i+1, correlation_matrix.shape[1]):\n",
    "        if abs(correlation_matrix.iloc[i, j]) > threshold:\n",
    "            feature_pair = (correlation_matrix.index[i], correlation_matrix.columns[j], correlation_matrix.iloc[i, j])\n",
    "            highly_correlated_pairs.append(feature_pair)\n",
    "\n",
    "# Convert the list of tuples to a DataFrame for better readability\n",
    "highly_correlated_df = pd.DataFrame(highly_correlated_pairs, columns=['Feature 1', 'Feature 2', 'Correlation'])\n",
    "highly_correlated_df\n"
   ]
  },
  {
   "cell_type": "code",
   "execution_count": 20,
   "metadata": {},
   "outputs": [
    {
     "data": {
      "text/html": [
       "<div>\n",
       "<style scoped>\n",
       "    .dataframe tbody tr th:only-of-type {\n",
       "        vertical-align: middle;\n",
       "    }\n",
       "\n",
       "    .dataframe tbody tr th {\n",
       "        vertical-align: top;\n",
       "    }\n",
       "\n",
       "    .dataframe thead th {\n",
       "        text-align: right;\n",
       "    }\n",
       "</style>\n",
       "<table border=\"1\" class=\"dataframe\">\n",
       "  <thead>\n",
       "    <tr style=\"text-align: right;\">\n",
       "      <th>range_delay</th>\n",
       "      <th>Sensor ID</th>\n",
       "      <th>13_10000_mean_lower</th>\n",
       "      <th>13_16800_mean_lower</th>\n",
       "      <th>13_3000_mean_lower</th>\n",
       "      <th>13_6000_mean_lower</th>\n",
       "      <th>13_8000_mean_lower</th>\n",
       "      <th>18_10000_mean_lower</th>\n",
       "      <th>18_16800_mean_lower</th>\n",
       "      <th>18_3000_mean_lower</th>\n",
       "      <th>18_6000_mean_lower</th>\n",
       "      <th>...</th>\n",
       "      <th>48_10000_mean_upper</th>\n",
       "      <th>48_16800_mean_upper</th>\n",
       "      <th>48_3000_mean_upper</th>\n",
       "      <th>48_6000_mean_upper</th>\n",
       "      <th>48_8000_mean_upper</th>\n",
       "      <th>53_10000_mean_upper</th>\n",
       "      <th>53_16800_mean_upper</th>\n",
       "      <th>53_3000_mean_upper</th>\n",
       "      <th>53_6000_mean_upper</th>\n",
       "      <th>53_8000_mean_upper</th>\n",
       "    </tr>\n",
       "  </thead>\n",
       "  <tbody>\n",
       "    <tr>\n",
       "      <th>0</th>\n",
       "      <td>32</td>\n",
       "      <td>0.000000</td>\n",
       "      <td>741.0</td>\n",
       "      <td>0.000000</td>\n",
       "      <td>0.000000</td>\n",
       "      <td>0.000000</td>\n",
       "      <td>0.000000</td>\n",
       "      <td>0.000000</td>\n",
       "      <td>1047.000000</td>\n",
       "      <td>0.000000</td>\n",
       "      <td>...</td>\n",
       "      <td>0.000000</td>\n",
       "      <td>0.0</td>\n",
       "      <td>2787.833333</td>\n",
       "      <td>0.000000</td>\n",
       "      <td>0.000000</td>\n",
       "      <td>3099.000000</td>\n",
       "      <td>0.000000</td>\n",
       "      <td>0.000000</td>\n",
       "      <td>0.0</td>\n",
       "      <td>0.000000</td>\n",
       "    </tr>\n",
       "    <tr>\n",
       "      <th>1</th>\n",
       "      <td>33</td>\n",
       "      <td>754.402299</td>\n",
       "      <td>755.0</td>\n",
       "      <td>0.000000</td>\n",
       "      <td>755.307692</td>\n",
       "      <td>747.000000</td>\n",
       "      <td>0.000000</td>\n",
       "      <td>0.000000</td>\n",
       "      <td>0.000000</td>\n",
       "      <td>0.000000</td>\n",
       "      <td>...</td>\n",
       "      <td>0.000000</td>\n",
       "      <td>0.0</td>\n",
       "      <td>2740.037037</td>\n",
       "      <td>0.000000</td>\n",
       "      <td>0.000000</td>\n",
       "      <td>0.000000</td>\n",
       "      <td>3073.666667</td>\n",
       "      <td>0.000000</td>\n",
       "      <td>3073.4</td>\n",
       "      <td>3074.000000</td>\n",
       "    </tr>\n",
       "    <tr>\n",
       "      <th>2</th>\n",
       "      <td>34</td>\n",
       "      <td>0.000000</td>\n",
       "      <td>0.0</td>\n",
       "      <td>653.285714</td>\n",
       "      <td>0.000000</td>\n",
       "      <td>0.000000</td>\n",
       "      <td>0.000000</td>\n",
       "      <td>944.473684</td>\n",
       "      <td>0.000000</td>\n",
       "      <td>0.000000</td>\n",
       "      <td>...</td>\n",
       "      <td>0.000000</td>\n",
       "      <td>0.0</td>\n",
       "      <td>0.000000</td>\n",
       "      <td>0.000000</td>\n",
       "      <td>0.000000</td>\n",
       "      <td>0.000000</td>\n",
       "      <td>0.000000</td>\n",
       "      <td>0.000000</td>\n",
       "      <td>0.0</td>\n",
       "      <td>0.000000</td>\n",
       "    </tr>\n",
       "    <tr>\n",
       "      <th>3</th>\n",
       "      <td>35</td>\n",
       "      <td>0.000000</td>\n",
       "      <td>0.0</td>\n",
       "      <td>0.000000</td>\n",
       "      <td>0.000000</td>\n",
       "      <td>862.151515</td>\n",
       "      <td>1003.000000</td>\n",
       "      <td>0.000000</td>\n",
       "      <td>0.000000</td>\n",
       "      <td>0.000000</td>\n",
       "      <td>...</td>\n",
       "      <td>2758.652174</td>\n",
       "      <td>0.0</td>\n",
       "      <td>2756.839080</td>\n",
       "      <td>0.000000</td>\n",
       "      <td>2778.428571</td>\n",
       "      <td>0.000000</td>\n",
       "      <td>0.000000</td>\n",
       "      <td>0.000000</td>\n",
       "      <td>0.0</td>\n",
       "      <td>0.000000</td>\n",
       "    </tr>\n",
       "    <tr>\n",
       "      <th>4</th>\n",
       "      <td>36</td>\n",
       "      <td>0.000000</td>\n",
       "      <td>0.0</td>\n",
       "      <td>0.000000</td>\n",
       "      <td>0.000000</td>\n",
       "      <td>0.000000</td>\n",
       "      <td>1066.244444</td>\n",
       "      <td>0.000000</td>\n",
       "      <td>1055.000000</td>\n",
       "      <td>1066.105263</td>\n",
       "      <td>...</td>\n",
       "      <td>2779.000000</td>\n",
       "      <td>0.0</td>\n",
       "      <td>0.000000</td>\n",
       "      <td>0.000000</td>\n",
       "      <td>0.000000</td>\n",
       "      <td>3113.000000</td>\n",
       "      <td>0.000000</td>\n",
       "      <td>0.000000</td>\n",
       "      <td>0.0</td>\n",
       "      <td>0.000000</td>\n",
       "    </tr>\n",
       "    <tr>\n",
       "      <th>...</th>\n",
       "      <td>...</td>\n",
       "      <td>...</td>\n",
       "      <td>...</td>\n",
       "      <td>...</td>\n",
       "      <td>...</td>\n",
       "      <td>...</td>\n",
       "      <td>...</td>\n",
       "      <td>...</td>\n",
       "      <td>...</td>\n",
       "      <td>...</td>\n",
       "      <td>...</td>\n",
       "      <td>...</td>\n",
       "      <td>...</td>\n",
       "      <td>...</td>\n",
       "      <td>...</td>\n",
       "      <td>...</td>\n",
       "      <td>...</td>\n",
       "      <td>...</td>\n",
       "      <td>...</td>\n",
       "      <td>...</td>\n",
       "      <td>...</td>\n",
       "    </tr>\n",
       "    <tr>\n",
       "      <th>72</th>\n",
       "      <td>104</td>\n",
       "      <td>758.142857</td>\n",
       "      <td>0.0</td>\n",
       "      <td>0.000000</td>\n",
       "      <td>758.255814</td>\n",
       "      <td>758.317073</td>\n",
       "      <td>0.000000</td>\n",
       "      <td>0.000000</td>\n",
       "      <td>0.000000</td>\n",
       "      <td>0.000000</td>\n",
       "      <td>...</td>\n",
       "      <td>2775.000000</td>\n",
       "      <td>0.0</td>\n",
       "      <td>0.000000</td>\n",
       "      <td>0.000000</td>\n",
       "      <td>0.000000</td>\n",
       "      <td>3048.333333</td>\n",
       "      <td>0.000000</td>\n",
       "      <td>3072.000000</td>\n",
       "      <td>0.0</td>\n",
       "      <td>0.000000</td>\n",
       "    </tr>\n",
       "    <tr>\n",
       "      <th>73</th>\n",
       "      <td>105</td>\n",
       "      <td>0.000000</td>\n",
       "      <td>0.0</td>\n",
       "      <td>0.000000</td>\n",
       "      <td>0.000000</td>\n",
       "      <td>718.500000</td>\n",
       "      <td>0.000000</td>\n",
       "      <td>0.000000</td>\n",
       "      <td>0.000000</td>\n",
       "      <td>0.000000</td>\n",
       "      <td>...</td>\n",
       "      <td>0.000000</td>\n",
       "      <td>0.0</td>\n",
       "      <td>0.000000</td>\n",
       "      <td>2724.333333</td>\n",
       "      <td>0.000000</td>\n",
       "      <td>0.000000</td>\n",
       "      <td>0.000000</td>\n",
       "      <td>0.000000</td>\n",
       "      <td>0.0</td>\n",
       "      <td>0.000000</td>\n",
       "    </tr>\n",
       "    <tr>\n",
       "      <th>74</th>\n",
       "      <td>106</td>\n",
       "      <td>663.000000</td>\n",
       "      <td>651.0</td>\n",
       "      <td>0.000000</td>\n",
       "      <td>0.000000</td>\n",
       "      <td>0.000000</td>\n",
       "      <td>938.200000</td>\n",
       "      <td>0.000000</td>\n",
       "      <td>937.909091</td>\n",
       "      <td>962.142857</td>\n",
       "      <td>...</td>\n",
       "      <td>2663.000000</td>\n",
       "      <td>0.0</td>\n",
       "      <td>2671.000000</td>\n",
       "      <td>0.000000</td>\n",
       "      <td>0.000000</td>\n",
       "      <td>0.000000</td>\n",
       "      <td>2959.000000</td>\n",
       "      <td>0.000000</td>\n",
       "      <td>0.0</td>\n",
       "      <td>0.000000</td>\n",
       "    </tr>\n",
       "    <tr>\n",
       "      <th>75</th>\n",
       "      <td>107</td>\n",
       "      <td>0.000000</td>\n",
       "      <td>0.0</td>\n",
       "      <td>694.047619</td>\n",
       "      <td>0.000000</td>\n",
       "      <td>0.000000</td>\n",
       "      <td>0.000000</td>\n",
       "      <td>0.000000</td>\n",
       "      <td>985.666667</td>\n",
       "      <td>986.200000</td>\n",
       "      <td>...</td>\n",
       "      <td>0.000000</td>\n",
       "      <td>2689.0</td>\n",
       "      <td>0.000000</td>\n",
       "      <td>0.000000</td>\n",
       "      <td>0.000000</td>\n",
       "      <td>0.000000</td>\n",
       "      <td>2526.000000</td>\n",
       "      <td>0.000000</td>\n",
       "      <td>0.0</td>\n",
       "      <td>2955.878049</td>\n",
       "    </tr>\n",
       "    <tr>\n",
       "      <th>76</th>\n",
       "      <td>108</td>\n",
       "      <td>749.844444</td>\n",
       "      <td>0.0</td>\n",
       "      <td>0.000000</td>\n",
       "      <td>0.000000</td>\n",
       "      <td>0.000000</td>\n",
       "      <td>1066.020408</td>\n",
       "      <td>0.000000</td>\n",
       "      <td>0.000000</td>\n",
       "      <td>0.000000</td>\n",
       "      <td>...</td>\n",
       "      <td>0.000000</td>\n",
       "      <td>0.0</td>\n",
       "      <td>0.000000</td>\n",
       "      <td>0.000000</td>\n",
       "      <td>0.000000</td>\n",
       "      <td>3058.636364</td>\n",
       "      <td>0.000000</td>\n",
       "      <td>3056.818182</td>\n",
       "      <td>0.0</td>\n",
       "      <td>3058.000000</td>\n",
       "    </tr>\n",
       "  </tbody>\n",
       "</table>\n",
       "<p>77 rows × 91 columns</p>\n",
       "</div>"
      ],
      "text/plain": [
       "range_delay  Sensor ID  13_10000_mean_lower  13_16800_mean_lower  \\\n",
       "0                   32             0.000000                741.0   \n",
       "1                   33           754.402299                755.0   \n",
       "2                   34             0.000000                  0.0   \n",
       "3                   35             0.000000                  0.0   \n",
       "4                   36             0.000000                  0.0   \n",
       "..                 ...                  ...                  ...   \n",
       "72                 104           758.142857                  0.0   \n",
       "73                 105             0.000000                  0.0   \n",
       "74                 106           663.000000                651.0   \n",
       "75                 107             0.000000                  0.0   \n",
       "76                 108           749.844444                  0.0   \n",
       "\n",
       "range_delay  13_3000_mean_lower  13_6000_mean_lower  13_8000_mean_lower  \\\n",
       "0                      0.000000            0.000000            0.000000   \n",
       "1                      0.000000          755.307692          747.000000   \n",
       "2                    653.285714            0.000000            0.000000   \n",
       "3                      0.000000            0.000000          862.151515   \n",
       "4                      0.000000            0.000000            0.000000   \n",
       "..                          ...                 ...                 ...   \n",
       "72                     0.000000          758.255814          758.317073   \n",
       "73                     0.000000            0.000000          718.500000   \n",
       "74                     0.000000            0.000000            0.000000   \n",
       "75                   694.047619            0.000000            0.000000   \n",
       "76                     0.000000            0.000000            0.000000   \n",
       "\n",
       "range_delay  18_10000_mean_lower  18_16800_mean_lower  18_3000_mean_lower  \\\n",
       "0                       0.000000             0.000000         1047.000000   \n",
       "1                       0.000000             0.000000            0.000000   \n",
       "2                       0.000000           944.473684            0.000000   \n",
       "3                    1003.000000             0.000000            0.000000   \n",
       "4                    1066.244444             0.000000         1055.000000   \n",
       "..                           ...                  ...                 ...   \n",
       "72                      0.000000             0.000000            0.000000   \n",
       "73                      0.000000             0.000000            0.000000   \n",
       "74                    938.200000             0.000000          937.909091   \n",
       "75                      0.000000             0.000000          985.666667   \n",
       "76                   1066.020408             0.000000            0.000000   \n",
       "\n",
       "range_delay  18_6000_mean_lower  ...  48_10000_mean_upper  \\\n",
       "0                      0.000000  ...             0.000000   \n",
       "1                      0.000000  ...             0.000000   \n",
       "2                      0.000000  ...             0.000000   \n",
       "3                      0.000000  ...          2758.652174   \n",
       "4                   1066.105263  ...          2779.000000   \n",
       "..                          ...  ...                  ...   \n",
       "72                     0.000000  ...          2775.000000   \n",
       "73                     0.000000  ...             0.000000   \n",
       "74                   962.142857  ...          2663.000000   \n",
       "75                   986.200000  ...             0.000000   \n",
       "76                     0.000000  ...             0.000000   \n",
       "\n",
       "range_delay  48_16800_mean_upper  48_3000_mean_upper  48_6000_mean_upper  \\\n",
       "0                            0.0         2787.833333            0.000000   \n",
       "1                            0.0         2740.037037            0.000000   \n",
       "2                            0.0            0.000000            0.000000   \n",
       "3                            0.0         2756.839080            0.000000   \n",
       "4                            0.0            0.000000            0.000000   \n",
       "..                           ...                 ...                 ...   \n",
       "72                           0.0            0.000000            0.000000   \n",
       "73                           0.0            0.000000         2724.333333   \n",
       "74                           0.0         2671.000000            0.000000   \n",
       "75                        2689.0            0.000000            0.000000   \n",
       "76                           0.0            0.000000            0.000000   \n",
       "\n",
       "range_delay  48_8000_mean_upper  53_10000_mean_upper  53_16800_mean_upper  \\\n",
       "0                      0.000000          3099.000000             0.000000   \n",
       "1                      0.000000             0.000000          3073.666667   \n",
       "2                      0.000000             0.000000             0.000000   \n",
       "3                   2778.428571             0.000000             0.000000   \n",
       "4                      0.000000          3113.000000             0.000000   \n",
       "..                          ...                  ...                  ...   \n",
       "72                     0.000000          3048.333333             0.000000   \n",
       "73                     0.000000             0.000000             0.000000   \n",
       "74                     0.000000             0.000000          2959.000000   \n",
       "75                     0.000000             0.000000          2526.000000   \n",
       "76                     0.000000          3058.636364             0.000000   \n",
       "\n",
       "range_delay  53_3000_mean_upper  53_6000_mean_upper  53_8000_mean_upper  \n",
       "0                      0.000000                 0.0            0.000000  \n",
       "1                      0.000000              3073.4         3074.000000  \n",
       "2                      0.000000                 0.0            0.000000  \n",
       "3                      0.000000                 0.0            0.000000  \n",
       "4                      0.000000                 0.0            0.000000  \n",
       "..                          ...                 ...                 ...  \n",
       "72                  3072.000000                 0.0            0.000000  \n",
       "73                     0.000000                 0.0            0.000000  \n",
       "74                     0.000000                 0.0            0.000000  \n",
       "75                     0.000000                 0.0         2955.878049  \n",
       "76                  3056.818182                 0.0         3058.000000  \n",
       "\n",
       "[77 rows x 91 columns]"
      ]
     },
     "execution_count": 20,
     "metadata": {},
     "output_type": "execute_result"
    }
   ],
   "source": [
    "def drop_highly_correlated_features(df, threshold=0.8):\n",
    "    \"\"\"\n",
    "    Drops highly positively correlated features from a DataFrame.\n",
    "    \n",
    "    Parameters:\n",
    "    df (pd.DataFrame): The input DataFrame.\n",
    "    threshold (float): The correlation threshold for dropping features. Defaults to 0.8.\n",
    "    \n",
    "    Returns:\n",
    "    pd.DataFrame: DataFrame with highly positively correlated features removed.\n",
    "    list: List of dropped features.\n",
    "    \"\"\"\n",
    "    # Calculate the correlation matrix\n",
    "    corr_matrix = df.corr()\n",
    "    \n",
    "    # Identify highly positively correlated pairs\n",
    "    to_drop = set()\n",
    "    for i in range(corr_matrix.shape[0]):\n",
    "        for j in range(i + 1, corr_matrix.shape[1]):\n",
    "            if corr_matrix.iloc[i, j] > threshold:\n",
    "                colname = corr_matrix.columns[j]\n",
    "                to_drop.add(colname)\n",
    "    \n",
    "    # Drop the identified features\n",
    "    reduced_df = df.drop(columns=to_drop)\n",
    "    \n",
    "    return reduced_df, list(to_drop)\n",
    "\n",
    "# Apply the function to the dataset\n",
    "reduced_data_corr, dropped_features_corr = drop_highly_correlated_features(df_range_delay_ends, threshold=0.7)\n",
    "\n",
    "reduced_data_corr"
   ]
  },
  {
   "cell_type": "code",
   "execution_count": 21,
   "metadata": {},
   "outputs": [
    {
     "data": {
      "text/plain": [
       "[]"
      ]
     },
     "execution_count": 21,
     "metadata": {},
     "output_type": "execute_result"
    }
   ],
   "source": [
    "dropped_features_corr"
   ]
  },
  {
   "cell_type": "code",
   "execution_count": 22,
   "metadata": {},
   "outputs": [],
   "source": [
    "def plot_pca_interactive(data, sensor_id_col='Sensor ID', n_components=2):\n",
    "    \"\"\"\n",
    "    Plots an interactive scatter plot using PCA components.\n",
    "\n",
    "    Parameters:\n",
    "    data (pd.DataFrame): The input DataFrame containing features and Sensor ID.\n",
    "    sensor_id_col (str): The name of the column containing sensor IDs.\n",
    "    n_components (int): Number of principal components to compute.\n",
    "\n",
    "    Returns:\n",
    "    None: Displays an interactive Plotly scatter plot.\n",
    "    \"\"\"\n",
    "    # Apply PCA\n",
    "    pca = PCA(n_components=n_components)\n",
    "    principal_components = pca.fit_transform(data.drop(columns=[sensor_id_col]))\n",
    "\n",
    "    # Create a DataFrame with the principal components and Sensor ID\n",
    "    principal_df = pd.DataFrame(data=principal_components, columns=[f'PC{i+1}' for i in range(n_components)])\n",
    "    principal_df[sensor_id_col] = data[sensor_id_col]\n",
    "\n",
    "    # Create an interactive scatter plot using Plotly\n",
    "    fig = px.scatter(\n",
    "        principal_df,\n",
    "        x='PC1',\n",
    "        y='PC2',\n",
    "        color=sensor_id_col,\n",
    "        title='Sensors Visualized Using Principal Components',\n",
    "        labels={'PC1': 'Principal Component 1', 'PC2': 'Principal Component 2'},\n",
    "        hover_data=[sensor_id_col]\n",
    "    )\n",
    "\n",
    "    # Show the plot\n",
    "    fig.show()"
   ]
  },
  {
   "cell_type": "code",
   "execution_count": 23,
   "metadata": {},
   "outputs": [
    {
     "data": {
      "application/vnd.plotly.v1+json": {
       "config": {
        "plotlyServerURL": "https://plot.ly"
       },
       "data": [
        {
         "customdata": [
          [
           32
          ],
          [
           33
          ],
          [
           34
          ],
          [
           35
          ],
          [
           36
          ],
          [
           37
          ],
          [
           38
          ],
          [
           39
          ],
          [
           40
          ],
          [
           41
          ],
          [
           42
          ],
          [
           43
          ],
          [
           44
          ],
          [
           45
          ],
          [
           46
          ],
          [
           47
          ],
          [
           48
          ],
          [
           49
          ],
          [
           50
          ],
          [
           51
          ],
          [
           52
          ],
          [
           53
          ],
          [
           54
          ],
          [
           55
          ],
          [
           56
          ],
          [
           57
          ],
          [
           58
          ],
          [
           59
          ],
          [
           60
          ],
          [
           61
          ],
          [
           62
          ],
          [
           63
          ],
          [
           64
          ],
          [
           65
          ],
          [
           66
          ],
          [
           67
          ],
          [
           68
          ],
          [
           69
          ],
          [
           70
          ],
          [
           71
          ],
          [
           72
          ],
          [
           73
          ],
          [
           74
          ],
          [
           75
          ],
          [
           76
          ],
          [
           77
          ],
          [
           78
          ],
          [
           79
          ],
          [
           80
          ],
          [
           81
          ],
          [
           82
          ],
          [
           83
          ],
          [
           84
          ],
          [
           85
          ],
          [
           86
          ],
          [
           87
          ],
          [
           88
          ],
          [
           89
          ],
          [
           90
          ],
          [
           91
          ],
          [
           92
          ],
          [
           93
          ],
          [
           94
          ],
          [
           95
          ],
          [
           96
          ],
          [
           97
          ],
          [
           98
          ],
          [
           99
          ],
          [
           100
          ],
          [
           101
          ],
          [
           102
          ],
          [
           103
          ],
          [
           104
          ],
          [
           105
          ],
          [
           106
          ],
          [
           107
          ],
          [
           108
          ]
         ],
         "hovertemplate": "Principal Component 1=%{x}<br>Principal Component 2=%{y}<br>Sensor ID=%{marker.color}<extra></extra>",
         "legendgroup": "",
         "marker": {
          "color": [
           32,
           33,
           34,
           35,
           36,
           37,
           38,
           39,
           40,
           41,
           42,
           43,
           44,
           45,
           46,
           47,
           48,
           49,
           50,
           51,
           52,
           53,
           54,
           55,
           56,
           57,
           58,
           59,
           60,
           61,
           62,
           63,
           64,
           65,
           66,
           67,
           68,
           69,
           70,
           71,
           72,
           73,
           74,
           75,
           76,
           77,
           78,
           79,
           80,
           81,
           82,
           83,
           84,
           85,
           86,
           87,
           88,
           89,
           90,
           91,
           92,
           93,
           94,
           95,
           96,
           97,
           98,
           99,
           100,
           101,
           102,
           103,
           104,
           105,
           106,
           107,
           108
          ],
          "coloraxis": "coloraxis",
          "symbol": "circle"
         },
         "mode": "markers",
         "name": "",
         "orientation": "v",
         "showlegend": false,
         "type": "scatter",
         "x": [
          -1927.100779473519,
          -1937.1699078819006,
          -1743.3562344949871,
          -1274.486775555788,
          -1107.0031421696694,
          -1926.3054889180405,
          -1867.6102751745573,
          -1164.5902488092356,
          -1238.1817419503664,
          -1749.3816766549428,
          -2037.7459292258823,
          -1525.6209325931002,
          -1226.812011504116,
          -1921.9832170886,
          -1913.8901067501895,
          -2028.1536546241966,
          -2001.061228745714,
          -1725.020119333032,
          -1973.9726055355125,
          -1943.250366999464,
          -1951.079799444198,
          -1870.1913314986546,
          -1922.7296008074266,
          -1215.4463874856606,
          -1738.8196196229871,
          63768.8315550049,
          -2058.3140973327977,
          -1058.426608721987,
          -1936.9387060260556,
          -2004.7510341259194,
          -1980.6337265744464,
          -2061.686525580737,
          63970.189320765865,
          -1915.5707326103072,
          -1162.0860877929276,
          -1057.9641950686967,
          -2011.52926535527,
          -1962.711546923848,
          -1793.4708035700135,
          -1658.2436159044798,
          -2009.7858587431563,
          -1826.5703496424217,
          -1105.0225103979703,
          -1729.7303223431902,
          -2006.6018456575157,
          -1851.7058714469956,
          -1614.2748855707293,
          -1874.7082314121287,
          -1176.169108986504,
          -1785.8522430184896,
          -1091.898188870297,
          -1928.3383231118005,
          -1343.7332717486704,
          -1799.420649458818,
          -1802.9330125359577,
          -1962.4676252659663,
          -2187.317594855565,
          -1156.3527200191197,
          -1676.3436154045346,
          -2020.2966937420385,
          -984.4659959548853,
          -1809.7150058521108,
          -2042.2749848484489,
          -1896.1914663263756,
          -1742.2309785309067,
          -2003.4852723148506,
          -1843.8304350934593,
          -996.4269516115093,
          -2114.2111741973913,
          -1003.9695302369394,
          -1939.5139948808658,
          -2096.0152661582824,
          -925.8640689257784,
          -1906.3088417969273,
          -1212.7699227639414,
          -1813.8549099887184,
          -1865.0790261283219
         ],
         "xaxis": "x",
         "y": [
          -3649.6659253182474,
          2909.9153651304878,
          239.57873915766805,
          -2858.40592115493,
          -3493.6886327661314,
          4482.768238380641,
          -1787.2278418034189,
          7365.557424980766,
          -2025.1151817279035,
          5486.044905311603,
          -1333.3533819895933,
          1008.8956184156832,
          -724.2806759229769,
          -3218.3915176339965,
          784.7384068300573,
          -738.3416097902112,
          -2813.7850462003544,
          -508.6729604205774,
          647.8730770504288,
          -2382.0702473208985,
          -1328.5389787581166,
          -3127.332889493591,
          1290.7588251081631,
          3206.748815717828,
          -1318.5589445795645,
          -2598.0302063299587,
          324.2914045646172,
          -2944.1431500856706,
          2306.561555657414,
          -3762.68574581322,
          1213.0488091127268,
          2894.333371644042,
          2430.886947078958,
          4153.242340095277,
          3067.096395715881,
          -1574.306464580541,
          -2967.7525953262184,
          -1339.020259941658,
          1568.806702200511,
          132.77865336566623,
          -2691.268677989799,
          -2389.677323913392,
          1092.1996044223022,
          -3967.379524571783,
          -1494.3177901712352,
          799.91575902141,
          930.3585339502933,
          -1950.2202990835592,
          2826.92325738252,
          2835.8712012652063,
          -3820.392972332226,
          -794.5876354716136,
          -117.03995742957638,
          -2720.2267382099794,
          1086.8608929347954,
          748.3941375048928,
          809.0476529046808,
          6193.881494973452,
          720.8030058768333,
          829.9759174260054,
          2831.23635849698,
          2265.7960777378107,
          -41.17095668214907,
          646.1470550633846,
          784.5508863981705,
          -2911.4256082877164,
          -3180.1945416960016,
          -571.7770525107104,
          1705.90920036557,
          -75.4073033484211,
          -546.2616588811114,
          -1522.2586249919848,
          1423.7349266596325,
          -1069.7909379495993,
          1608.3887777612829,
          961.7948748382978,
          -258.9494300233125
         ],
         "yaxis": "y"
        }
       ],
       "layout": {
        "coloraxis": {
         "colorbar": {
          "title": {
           "text": "Sensor ID"
          }
         },
         "colorscale": [
          [
           0,
           "#0d0887"
          ],
          [
           0.1111111111111111,
           "#46039f"
          ],
          [
           0.2222222222222222,
           "#7201a8"
          ],
          [
           0.3333333333333333,
           "#9c179e"
          ],
          [
           0.4444444444444444,
           "#bd3786"
          ],
          [
           0.5555555555555556,
           "#d8576b"
          ],
          [
           0.6666666666666666,
           "#ed7953"
          ],
          [
           0.7777777777777778,
           "#fb9f3a"
          ],
          [
           0.8888888888888888,
           "#fdca26"
          ],
          [
           1,
           "#f0f921"
          ]
         ]
        },
        "legend": {
         "tracegroupgap": 0
        },
        "template": {
         "data": {
          "bar": [
           {
            "error_x": {
             "color": "#2a3f5f"
            },
            "error_y": {
             "color": "#2a3f5f"
            },
            "marker": {
             "line": {
              "color": "#E5ECF6",
              "width": 0.5
             },
             "pattern": {
              "fillmode": "overlay",
              "size": 10,
              "solidity": 0.2
             }
            },
            "type": "bar"
           }
          ],
          "barpolar": [
           {
            "marker": {
             "line": {
              "color": "#E5ECF6",
              "width": 0.5
             },
             "pattern": {
              "fillmode": "overlay",
              "size": 10,
              "solidity": 0.2
             }
            },
            "type": "barpolar"
           }
          ],
          "carpet": [
           {
            "aaxis": {
             "endlinecolor": "#2a3f5f",
             "gridcolor": "white",
             "linecolor": "white",
             "minorgridcolor": "white",
             "startlinecolor": "#2a3f5f"
            },
            "baxis": {
             "endlinecolor": "#2a3f5f",
             "gridcolor": "white",
             "linecolor": "white",
             "minorgridcolor": "white",
             "startlinecolor": "#2a3f5f"
            },
            "type": "carpet"
           }
          ],
          "choropleth": [
           {
            "colorbar": {
             "outlinewidth": 0,
             "ticks": ""
            },
            "type": "choropleth"
           }
          ],
          "contour": [
           {
            "colorbar": {
             "outlinewidth": 0,
             "ticks": ""
            },
            "colorscale": [
             [
              0,
              "#0d0887"
             ],
             [
              0.1111111111111111,
              "#46039f"
             ],
             [
              0.2222222222222222,
              "#7201a8"
             ],
             [
              0.3333333333333333,
              "#9c179e"
             ],
             [
              0.4444444444444444,
              "#bd3786"
             ],
             [
              0.5555555555555556,
              "#d8576b"
             ],
             [
              0.6666666666666666,
              "#ed7953"
             ],
             [
              0.7777777777777778,
              "#fb9f3a"
             ],
             [
              0.8888888888888888,
              "#fdca26"
             ],
             [
              1,
              "#f0f921"
             ]
            ],
            "type": "contour"
           }
          ],
          "contourcarpet": [
           {
            "colorbar": {
             "outlinewidth": 0,
             "ticks": ""
            },
            "type": "contourcarpet"
           }
          ],
          "heatmap": [
           {
            "colorbar": {
             "outlinewidth": 0,
             "ticks": ""
            },
            "colorscale": [
             [
              0,
              "#0d0887"
             ],
             [
              0.1111111111111111,
              "#46039f"
             ],
             [
              0.2222222222222222,
              "#7201a8"
             ],
             [
              0.3333333333333333,
              "#9c179e"
             ],
             [
              0.4444444444444444,
              "#bd3786"
             ],
             [
              0.5555555555555556,
              "#d8576b"
             ],
             [
              0.6666666666666666,
              "#ed7953"
             ],
             [
              0.7777777777777778,
              "#fb9f3a"
             ],
             [
              0.8888888888888888,
              "#fdca26"
             ],
             [
              1,
              "#f0f921"
             ]
            ],
            "type": "heatmap"
           }
          ],
          "heatmapgl": [
           {
            "colorbar": {
             "outlinewidth": 0,
             "ticks": ""
            },
            "colorscale": [
             [
              0,
              "#0d0887"
             ],
             [
              0.1111111111111111,
              "#46039f"
             ],
             [
              0.2222222222222222,
              "#7201a8"
             ],
             [
              0.3333333333333333,
              "#9c179e"
             ],
             [
              0.4444444444444444,
              "#bd3786"
             ],
             [
              0.5555555555555556,
              "#d8576b"
             ],
             [
              0.6666666666666666,
              "#ed7953"
             ],
             [
              0.7777777777777778,
              "#fb9f3a"
             ],
             [
              0.8888888888888888,
              "#fdca26"
             ],
             [
              1,
              "#f0f921"
             ]
            ],
            "type": "heatmapgl"
           }
          ],
          "histogram": [
           {
            "marker": {
             "pattern": {
              "fillmode": "overlay",
              "size": 10,
              "solidity": 0.2
             }
            },
            "type": "histogram"
           }
          ],
          "histogram2d": [
           {
            "colorbar": {
             "outlinewidth": 0,
             "ticks": ""
            },
            "colorscale": [
             [
              0,
              "#0d0887"
             ],
             [
              0.1111111111111111,
              "#46039f"
             ],
             [
              0.2222222222222222,
              "#7201a8"
             ],
             [
              0.3333333333333333,
              "#9c179e"
             ],
             [
              0.4444444444444444,
              "#bd3786"
             ],
             [
              0.5555555555555556,
              "#d8576b"
             ],
             [
              0.6666666666666666,
              "#ed7953"
             ],
             [
              0.7777777777777778,
              "#fb9f3a"
             ],
             [
              0.8888888888888888,
              "#fdca26"
             ],
             [
              1,
              "#f0f921"
             ]
            ],
            "type": "histogram2d"
           }
          ],
          "histogram2dcontour": [
           {
            "colorbar": {
             "outlinewidth": 0,
             "ticks": ""
            },
            "colorscale": [
             [
              0,
              "#0d0887"
             ],
             [
              0.1111111111111111,
              "#46039f"
             ],
             [
              0.2222222222222222,
              "#7201a8"
             ],
             [
              0.3333333333333333,
              "#9c179e"
             ],
             [
              0.4444444444444444,
              "#bd3786"
             ],
             [
              0.5555555555555556,
              "#d8576b"
             ],
             [
              0.6666666666666666,
              "#ed7953"
             ],
             [
              0.7777777777777778,
              "#fb9f3a"
             ],
             [
              0.8888888888888888,
              "#fdca26"
             ],
             [
              1,
              "#f0f921"
             ]
            ],
            "type": "histogram2dcontour"
           }
          ],
          "mesh3d": [
           {
            "colorbar": {
             "outlinewidth": 0,
             "ticks": ""
            },
            "type": "mesh3d"
           }
          ],
          "parcoords": [
           {
            "line": {
             "colorbar": {
              "outlinewidth": 0,
              "ticks": ""
             }
            },
            "type": "parcoords"
           }
          ],
          "pie": [
           {
            "automargin": true,
            "type": "pie"
           }
          ],
          "scatter": [
           {
            "fillpattern": {
             "fillmode": "overlay",
             "size": 10,
             "solidity": 0.2
            },
            "type": "scatter"
           }
          ],
          "scatter3d": [
           {
            "line": {
             "colorbar": {
              "outlinewidth": 0,
              "ticks": ""
             }
            },
            "marker": {
             "colorbar": {
              "outlinewidth": 0,
              "ticks": ""
             }
            },
            "type": "scatter3d"
           }
          ],
          "scattercarpet": [
           {
            "marker": {
             "colorbar": {
              "outlinewidth": 0,
              "ticks": ""
             }
            },
            "type": "scattercarpet"
           }
          ],
          "scattergeo": [
           {
            "marker": {
             "colorbar": {
              "outlinewidth": 0,
              "ticks": ""
             }
            },
            "type": "scattergeo"
           }
          ],
          "scattergl": [
           {
            "marker": {
             "colorbar": {
              "outlinewidth": 0,
              "ticks": ""
             }
            },
            "type": "scattergl"
           }
          ],
          "scattermapbox": [
           {
            "marker": {
             "colorbar": {
              "outlinewidth": 0,
              "ticks": ""
             }
            },
            "type": "scattermapbox"
           }
          ],
          "scatterpolar": [
           {
            "marker": {
             "colorbar": {
              "outlinewidth": 0,
              "ticks": ""
             }
            },
            "type": "scatterpolar"
           }
          ],
          "scatterpolargl": [
           {
            "marker": {
             "colorbar": {
              "outlinewidth": 0,
              "ticks": ""
             }
            },
            "type": "scatterpolargl"
           }
          ],
          "scatterternary": [
           {
            "marker": {
             "colorbar": {
              "outlinewidth": 0,
              "ticks": ""
             }
            },
            "type": "scatterternary"
           }
          ],
          "surface": [
           {
            "colorbar": {
             "outlinewidth": 0,
             "ticks": ""
            },
            "colorscale": [
             [
              0,
              "#0d0887"
             ],
             [
              0.1111111111111111,
              "#46039f"
             ],
             [
              0.2222222222222222,
              "#7201a8"
             ],
             [
              0.3333333333333333,
              "#9c179e"
             ],
             [
              0.4444444444444444,
              "#bd3786"
             ],
             [
              0.5555555555555556,
              "#d8576b"
             ],
             [
              0.6666666666666666,
              "#ed7953"
             ],
             [
              0.7777777777777778,
              "#fb9f3a"
             ],
             [
              0.8888888888888888,
              "#fdca26"
             ],
             [
              1,
              "#f0f921"
             ]
            ],
            "type": "surface"
           }
          ],
          "table": [
           {
            "cells": {
             "fill": {
              "color": "#EBF0F8"
             },
             "line": {
              "color": "white"
             }
            },
            "header": {
             "fill": {
              "color": "#C8D4E3"
             },
             "line": {
              "color": "white"
             }
            },
            "type": "table"
           }
          ]
         },
         "layout": {
          "annotationdefaults": {
           "arrowcolor": "#2a3f5f",
           "arrowhead": 0,
           "arrowwidth": 1
          },
          "autotypenumbers": "strict",
          "coloraxis": {
           "colorbar": {
            "outlinewidth": 0,
            "ticks": ""
           }
          },
          "colorscale": {
           "diverging": [
            [
             0,
             "#8e0152"
            ],
            [
             0.1,
             "#c51b7d"
            ],
            [
             0.2,
             "#de77ae"
            ],
            [
             0.3,
             "#f1b6da"
            ],
            [
             0.4,
             "#fde0ef"
            ],
            [
             0.5,
             "#f7f7f7"
            ],
            [
             0.6,
             "#e6f5d0"
            ],
            [
             0.7,
             "#b8e186"
            ],
            [
             0.8,
             "#7fbc41"
            ],
            [
             0.9,
             "#4d9221"
            ],
            [
             1,
             "#276419"
            ]
           ],
           "sequential": [
            [
             0,
             "#0d0887"
            ],
            [
             0.1111111111111111,
             "#46039f"
            ],
            [
             0.2222222222222222,
             "#7201a8"
            ],
            [
             0.3333333333333333,
             "#9c179e"
            ],
            [
             0.4444444444444444,
             "#bd3786"
            ],
            [
             0.5555555555555556,
             "#d8576b"
            ],
            [
             0.6666666666666666,
             "#ed7953"
            ],
            [
             0.7777777777777778,
             "#fb9f3a"
            ],
            [
             0.8888888888888888,
             "#fdca26"
            ],
            [
             1,
             "#f0f921"
            ]
           ],
           "sequentialminus": [
            [
             0,
             "#0d0887"
            ],
            [
             0.1111111111111111,
             "#46039f"
            ],
            [
             0.2222222222222222,
             "#7201a8"
            ],
            [
             0.3333333333333333,
             "#9c179e"
            ],
            [
             0.4444444444444444,
             "#bd3786"
            ],
            [
             0.5555555555555556,
             "#d8576b"
            ],
            [
             0.6666666666666666,
             "#ed7953"
            ],
            [
             0.7777777777777778,
             "#fb9f3a"
            ],
            [
             0.8888888888888888,
             "#fdca26"
            ],
            [
             1,
             "#f0f921"
            ]
           ]
          },
          "colorway": [
           "#636efa",
           "#EF553B",
           "#00cc96",
           "#ab63fa",
           "#FFA15A",
           "#19d3f3",
           "#FF6692",
           "#B6E880",
           "#FF97FF",
           "#FECB52"
          ],
          "font": {
           "color": "#2a3f5f"
          },
          "geo": {
           "bgcolor": "white",
           "lakecolor": "white",
           "landcolor": "#E5ECF6",
           "showlakes": true,
           "showland": true,
           "subunitcolor": "white"
          },
          "hoverlabel": {
           "align": "left"
          },
          "hovermode": "closest",
          "mapbox": {
           "style": "light"
          },
          "paper_bgcolor": "white",
          "plot_bgcolor": "#E5ECF6",
          "polar": {
           "angularaxis": {
            "gridcolor": "white",
            "linecolor": "white",
            "ticks": ""
           },
           "bgcolor": "#E5ECF6",
           "radialaxis": {
            "gridcolor": "white",
            "linecolor": "white",
            "ticks": ""
           }
          },
          "scene": {
           "xaxis": {
            "backgroundcolor": "#E5ECF6",
            "gridcolor": "white",
            "gridwidth": 2,
            "linecolor": "white",
            "showbackground": true,
            "ticks": "",
            "zerolinecolor": "white"
           },
           "yaxis": {
            "backgroundcolor": "#E5ECF6",
            "gridcolor": "white",
            "gridwidth": 2,
            "linecolor": "white",
            "showbackground": true,
            "ticks": "",
            "zerolinecolor": "white"
           },
           "zaxis": {
            "backgroundcolor": "#E5ECF6",
            "gridcolor": "white",
            "gridwidth": 2,
            "linecolor": "white",
            "showbackground": true,
            "ticks": "",
            "zerolinecolor": "white"
           }
          },
          "shapedefaults": {
           "line": {
            "color": "#2a3f5f"
           }
          },
          "ternary": {
           "aaxis": {
            "gridcolor": "white",
            "linecolor": "white",
            "ticks": ""
           },
           "baxis": {
            "gridcolor": "white",
            "linecolor": "white",
            "ticks": ""
           },
           "bgcolor": "#E5ECF6",
           "caxis": {
            "gridcolor": "white",
            "linecolor": "white",
            "ticks": ""
           }
          },
          "title": {
           "x": 0.05
          },
          "xaxis": {
           "automargin": true,
           "gridcolor": "white",
           "linecolor": "white",
           "ticks": "",
           "title": {
            "standoff": 15
           },
           "zerolinecolor": "white",
           "zerolinewidth": 2
          },
          "yaxis": {
           "automargin": true,
           "gridcolor": "white",
           "linecolor": "white",
           "ticks": "",
           "title": {
            "standoff": 15
           },
           "zerolinecolor": "white",
           "zerolinewidth": 2
          }
         }
        },
        "title": {
         "text": "Sensors Visualized Using Principal Components"
        },
        "xaxis": {
         "anchor": "y",
         "domain": [
          0,
          1
         ],
         "title": {
          "text": "Principal Component 1"
         }
        },
        "yaxis": {
         "anchor": "x",
         "domain": [
          0,
          1
         ],
         "title": {
          "text": "Principal Component 2"
         }
        }
       }
      }
     },
     "metadata": {},
     "output_type": "display_data"
    }
   ],
   "source": [
    "# Plot the PCA interactive plot\n",
    "plot_pca_interactive(df_range_delay_ends, sensor_id_col='Sensor ID', n_components=2)"
   ]
  },
  {
   "cell_type": "markdown",
   "metadata": {},
   "source": [
    "Try PCA on reduced data"
   ]
  },
  {
   "cell_type": "code",
   "execution_count": 24,
   "metadata": {},
   "outputs": [
    {
     "data": {
      "image/png": "[encoded data removed]",
      "text/plain": [
       "<Figure size 1000x600 with 1 Axes>"
      ]
     },
     "metadata": {},
     "output_type": "display_data"
    }
   ],
   "source": [
    "explained_variance_corr, loadings_corr, features_corr = process_PCA(reduced_data_corr)"
   ]
  },
  {
   "cell_type": "code",
   "execution_count": 25,
   "metadata": {},
   "outputs": [
    {
     "data": {
      "text/html": [
       "<div>\n",
       "<style scoped>\n",
       "    .dataframe tbody tr th:only-of-type {\n",
       "        vertical-align: middle;\n",
       "    }\n",
       "\n",
       "    .dataframe tbody tr th {\n",
       "        vertical-align: top;\n",
       "    }\n",
       "\n",
       "    .dataframe thead th {\n",
       "        text-align: right;\n",
       "    }\n",
       "</style>\n",
       "<table border=\"1\" class=\"dataframe\">\n",
       "  <thead>\n",
       "    <tr style=\"text-align: right;\">\n",
       "      <th></th>\n",
       "      <th>PC1</th>\n",
       "      <th>PC2</th>\n",
       "      <th>PC3</th>\n",
       "      <th>PC4</th>\n",
       "      <th>PC5</th>\n",
       "      <th>PC6</th>\n",
       "      <th>PC7</th>\n",
       "      <th>PC8</th>\n",
       "      <th>PC9</th>\n",
       "      <th>PC10</th>\n",
       "      <th>...</th>\n",
       "      <th>PC68</th>\n",
       "      <th>PC69</th>\n",
       "      <th>PC70</th>\n",
       "      <th>PC71</th>\n",
       "      <th>PC72</th>\n",
       "      <th>PC73</th>\n",
       "      <th>PC74</th>\n",
       "      <th>PC75</th>\n",
       "      <th>PC76</th>\n",
       "      <th>PC77</th>\n",
       "    </tr>\n",
       "    <tr>\n",
       "      <th>range_delay</th>\n",
       "      <th></th>\n",
       "      <th></th>\n",
       "      <th></th>\n",
       "      <th></th>\n",
       "      <th></th>\n",
       "      <th></th>\n",
       "      <th></th>\n",
       "      <th></th>\n",
       "      <th></th>\n",
       "      <th></th>\n",
       "      <th></th>\n",
       "      <th></th>\n",
       "      <th></th>\n",
       "      <th></th>\n",
       "      <th></th>\n",
       "      <th></th>\n",
       "      <th></th>\n",
       "      <th></th>\n",
       "      <th></th>\n",
       "      <th></th>\n",
       "      <th></th>\n",
       "    </tr>\n",
       "  </thead>\n",
       "  <tbody>\n",
       "    <tr>\n",
       "      <th>13_10000_mean_lower</th>\n",
       "      <td>0.077542</td>\n",
       "      <td>0.062657</td>\n",
       "      <td>0.186951</td>\n",
       "      <td>-0.093122</td>\n",
       "      <td>-0.060522</td>\n",
       "      <td>-0.046587</td>\n",
       "      <td>-0.039963</td>\n",
       "      <td>0.151630</td>\n",
       "      <td>0.037526</td>\n",
       "      <td>-0.021482</td>\n",
       "      <td>...</td>\n",
       "      <td>-0.074601</td>\n",
       "      <td>-0.015553</td>\n",
       "      <td>0.089326</td>\n",
       "      <td>-0.001900</td>\n",
       "      <td>-0.151093</td>\n",
       "      <td>-0.095819</td>\n",
       "      <td>-0.140636</td>\n",
       "      <td>-0.125348</td>\n",
       "      <td>0.074123</td>\n",
       "      <td>0.026963</td>\n",
       "    </tr>\n",
       "    <tr>\n",
       "      <th>13_16800_mean_lower</th>\n",
       "      <td>0.066989</td>\n",
       "      <td>-0.005119</td>\n",
       "      <td>0.048738</td>\n",
       "      <td>-0.062638</td>\n",
       "      <td>0.008690</td>\n",
       "      <td>0.152716</td>\n",
       "      <td>0.053576</td>\n",
       "      <td>-0.011632</td>\n",
       "      <td>0.074387</td>\n",
       "      <td>0.208100</td>\n",
       "      <td>...</td>\n",
       "      <td>-0.039511</td>\n",
       "      <td>-0.038358</td>\n",
       "      <td>0.066633</td>\n",
       "      <td>-0.196858</td>\n",
       "      <td>-0.069854</td>\n",
       "      <td>-0.032558</td>\n",
       "      <td>0.062464</td>\n",
       "      <td>-0.066385</td>\n",
       "      <td>0.134045</td>\n",
       "      <td>-0.028753</td>\n",
       "    </tr>\n",
       "    <tr>\n",
       "      <th>13_3000_mean_lower</th>\n",
       "      <td>0.153697</td>\n",
       "      <td>0.222932</td>\n",
       "      <td>0.109850</td>\n",
       "      <td>-0.018425</td>\n",
       "      <td>-0.128275</td>\n",
       "      <td>-0.073328</td>\n",
       "      <td>0.021210</td>\n",
       "      <td>-0.137226</td>\n",
       "      <td>0.044408</td>\n",
       "      <td>0.006089</td>\n",
       "      <td>...</td>\n",
       "      <td>-0.132703</td>\n",
       "      <td>0.069445</td>\n",
       "      <td>0.119429</td>\n",
       "      <td>0.132892</td>\n",
       "      <td>0.093441</td>\n",
       "      <td>-0.075663</td>\n",
       "      <td>-0.058127</td>\n",
       "      <td>-0.086294</td>\n",
       "      <td>-0.096157</td>\n",
       "      <td>0.227261</td>\n",
       "    </tr>\n",
       "    <tr>\n",
       "      <th>13_6000_mean_lower</th>\n",
       "      <td>0.066316</td>\n",
       "      <td>0.200149</td>\n",
       "      <td>0.123678</td>\n",
       "      <td>-0.075643</td>\n",
       "      <td>-0.231403</td>\n",
       "      <td>0.044408</td>\n",
       "      <td>0.059683</td>\n",
       "      <td>-0.087302</td>\n",
       "      <td>-0.109128</td>\n",
       "      <td>-0.127211</td>\n",
       "      <td>...</td>\n",
       "      <td>-0.165459</td>\n",
       "      <td>0.063173</td>\n",
       "      <td>-0.084489</td>\n",
       "      <td>-0.007000</td>\n",
       "      <td>-0.020095</td>\n",
       "      <td>-0.137286</td>\n",
       "      <td>0.281073</td>\n",
       "      <td>0.212788</td>\n",
       "      <td>0.049513</td>\n",
       "      <td>0.185759</td>\n",
       "    </tr>\n",
       "    <tr>\n",
       "      <th>13_8000_mean_lower</th>\n",
       "      <td>0.070394</td>\n",
       "      <td>0.256322</td>\n",
       "      <td>0.093107</td>\n",
       "      <td>0.078015</td>\n",
       "      <td>-0.138352</td>\n",
       "      <td>0.055954</td>\n",
       "      <td>-0.171681</td>\n",
       "      <td>0.063045</td>\n",
       "      <td>-0.113352</td>\n",
       "      <td>-0.118158</td>\n",
       "      <td>...</td>\n",
       "      <td>0.187565</td>\n",
       "      <td>-0.126128</td>\n",
       "      <td>0.017256</td>\n",
       "      <td>-0.197274</td>\n",
       "      <td>0.033401</td>\n",
       "      <td>0.058329</td>\n",
       "      <td>-0.165383</td>\n",
       "      <td>0.029714</td>\n",
       "      <td>0.079693</td>\n",
       "      <td>0.028371</td>\n",
       "    </tr>\n",
       "    <tr>\n",
       "      <th>...</th>\n",
       "      <td>...</td>\n",
       "      <td>...</td>\n",
       "      <td>...</td>\n",
       "      <td>...</td>\n",
       "      <td>...</td>\n",
       "      <td>...</td>\n",
       "      <td>...</td>\n",
       "      <td>...</td>\n",
       "      <td>...</td>\n",
       "      <td>...</td>\n",
       "      <td>...</td>\n",
       "      <td>...</td>\n",
       "      <td>...</td>\n",
       "      <td>...</td>\n",
       "      <td>...</td>\n",
       "      <td>...</td>\n",
       "      <td>...</td>\n",
       "      <td>...</td>\n",
       "      <td>...</td>\n",
       "      <td>...</td>\n",
       "      <td>...</td>\n",
       "    </tr>\n",
       "    <tr>\n",
       "      <th>53_10000_mean_upper</th>\n",
       "      <td>-0.032492</td>\n",
       "      <td>0.036220</td>\n",
       "      <td>0.018910</td>\n",
       "      <td>0.010630</td>\n",
       "      <td>0.006441</td>\n",
       "      <td>-0.254327</td>\n",
       "      <td>-0.046816</td>\n",
       "      <td>-0.077338</td>\n",
       "      <td>-0.063403</td>\n",
       "      <td>0.270805</td>\n",
       "      <td>...</td>\n",
       "      <td>-0.006705</td>\n",
       "      <td>0.202553</td>\n",
       "      <td>-0.088354</td>\n",
       "      <td>-0.149064</td>\n",
       "      <td>-0.115886</td>\n",
       "      <td>0.032567</td>\n",
       "      <td>0.085827</td>\n",
       "      <td>-0.093214</td>\n",
       "      <td>-0.135971</td>\n",
       "      <td>0.027772</td>\n",
       "    </tr>\n",
       "    <tr>\n",
       "      <th>53_16800_mean_upper</th>\n",
       "      <td>0.090102</td>\n",
       "      <td>0.131401</td>\n",
       "      <td>-0.058166</td>\n",
       "      <td>-0.030143</td>\n",
       "      <td>0.097020</td>\n",
       "      <td>0.007191</td>\n",
       "      <td>0.075519</td>\n",
       "      <td>0.049993</td>\n",
       "      <td>0.072502</td>\n",
       "      <td>0.139666</td>\n",
       "      <td>...</td>\n",
       "      <td>-0.044594</td>\n",
       "      <td>-0.004658</td>\n",
       "      <td>0.012164</td>\n",
       "      <td>-0.274560</td>\n",
       "      <td>0.062978</td>\n",
       "      <td>0.018672</td>\n",
       "      <td>0.000289</td>\n",
       "      <td>0.110702</td>\n",
       "      <td>0.057133</td>\n",
       "      <td>-0.016449</td>\n",
       "    </tr>\n",
       "    <tr>\n",
       "      <th>53_3000_mean_upper</th>\n",
       "      <td>0.195235</td>\n",
       "      <td>-0.151376</td>\n",
       "      <td>0.074070</td>\n",
       "      <td>-0.034308</td>\n",
       "      <td>-0.114807</td>\n",
       "      <td>-0.086584</td>\n",
       "      <td>0.022352</td>\n",
       "      <td>0.052026</td>\n",
       "      <td>-0.073314</td>\n",
       "      <td>0.110117</td>\n",
       "      <td>...</td>\n",
       "      <td>0.081963</td>\n",
       "      <td>-0.035182</td>\n",
       "      <td>0.080823</td>\n",
       "      <td>0.054990</td>\n",
       "      <td>0.072825</td>\n",
       "      <td>-0.035190</td>\n",
       "      <td>0.010991</td>\n",
       "      <td>0.083530</td>\n",
       "      <td>0.018386</td>\n",
       "      <td>-0.018268</td>\n",
       "    </tr>\n",
       "    <tr>\n",
       "      <th>53_6000_mean_upper</th>\n",
       "      <td>0.140722</td>\n",
       "      <td>0.086107</td>\n",
       "      <td>-0.099637</td>\n",
       "      <td>0.124451</td>\n",
       "      <td>-0.100160</td>\n",
       "      <td>0.127829</td>\n",
       "      <td>0.069440</td>\n",
       "      <td>-0.166098</td>\n",
       "      <td>0.018256</td>\n",
       "      <td>0.060039</td>\n",
       "      <td>...</td>\n",
       "      <td>-0.013609</td>\n",
       "      <td>-0.134592</td>\n",
       "      <td>0.051215</td>\n",
       "      <td>0.159984</td>\n",
       "      <td>0.100383</td>\n",
       "      <td>-0.038132</td>\n",
       "      <td>0.168219</td>\n",
       "      <td>-0.064487</td>\n",
       "      <td>0.036621</td>\n",
       "      <td>-0.009364</td>\n",
       "    </tr>\n",
       "    <tr>\n",
       "      <th>53_8000_mean_upper</th>\n",
       "      <td>0.116466</td>\n",
       "      <td>-0.063152</td>\n",
       "      <td>-0.217982</td>\n",
       "      <td>-0.042846</td>\n",
       "      <td>-0.025027</td>\n",
       "      <td>-0.030657</td>\n",
       "      <td>0.034920</td>\n",
       "      <td>-0.149660</td>\n",
       "      <td>0.011431</td>\n",
       "      <td>0.231381</td>\n",
       "      <td>...</td>\n",
       "      <td>0.093112</td>\n",
       "      <td>-0.050176</td>\n",
       "      <td>0.062577</td>\n",
       "      <td>0.094041</td>\n",
       "      <td>-0.149803</td>\n",
       "      <td>0.004911</td>\n",
       "      <td>-0.043816</td>\n",
       "      <td>0.017077</td>\n",
       "      <td>0.033219</td>\n",
       "      <td>0.003699</td>\n",
       "    </tr>\n",
       "  </tbody>\n",
       "</table>\n",
       "<p>90 rows × 77 columns</p>\n",
       "</div>"
      ],
      "text/plain": [
       "                          PC1       PC2       PC3       PC4       PC5  \\\n",
       "range_delay                                                             \n",
       "13_10000_mean_lower  0.077542  0.062657  0.186951 -0.093122 -0.060522   \n",
       "13_16800_mean_lower  0.066989 -0.005119  0.048738 -0.062638  0.008690   \n",
       "13_3000_mean_lower   0.153697  0.222932  0.109850 -0.018425 -0.128275   \n",
       "13_6000_mean_lower   0.066316  0.200149  0.123678 -0.075643 -0.231403   \n",
       "13_8000_mean_lower   0.070394  0.256322  0.093107  0.078015 -0.138352   \n",
       "...                       ...       ...       ...       ...       ...   \n",
       "53_10000_mean_upper -0.032492  0.036220  0.018910  0.010630  0.006441   \n",
       "53_16800_mean_upper  0.090102  0.131401 -0.058166 -0.030143  0.097020   \n",
       "53_3000_mean_upper   0.195235 -0.151376  0.074070 -0.034308 -0.114807   \n",
       "53_6000_mean_upper   0.140722  0.086107 -0.099637  0.124451 -0.100160   \n",
       "53_8000_mean_upper   0.116466 -0.063152 -0.217982 -0.042846 -0.025027   \n",
       "\n",
       "                          PC6       PC7       PC8       PC9      PC10  ...  \\\n",
       "range_delay                                                            ...   \n",
       "13_10000_mean_lower -0.046587 -0.039963  0.151630  0.037526 -0.021482  ...   \n",
       "13_16800_mean_lower  0.152716  0.053576 -0.011632  0.074387  0.208100  ...   \n",
       "13_3000_mean_lower  -0.073328  0.021210 -0.137226  0.044408  0.006089  ...   \n",
       "13_6000_mean_lower   0.044408  0.059683 -0.087302 -0.109128 -0.127211  ...   \n",
       "13_8000_mean_lower   0.055954 -0.171681  0.063045 -0.113352 -0.118158  ...   \n",
       "...                       ...       ...       ...       ...       ...  ...   \n",
       "53_10000_mean_upper -0.254327 -0.046816 -0.077338 -0.063403  0.270805  ...   \n",
       "53_16800_mean_upper  0.007191  0.075519  0.049993  0.072502  0.139666  ...   \n",
       "53_3000_mean_upper  -0.086584  0.022352  0.052026 -0.073314  0.110117  ...   \n",
       "53_6000_mean_upper   0.127829  0.069440 -0.166098  0.018256  0.060039  ...   \n",
       "53_8000_mean_upper  -0.030657  0.034920 -0.149660  0.011431  0.231381  ...   \n",
       "\n",
       "                         PC68      PC69      PC70      PC71      PC72  \\\n",
       "range_delay                                                             \n",
       "13_10000_mean_lower -0.074601 -0.015553  0.089326 -0.001900 -0.151093   \n",
       "13_16800_mean_lower -0.039511 -0.038358  0.066633 -0.196858 -0.069854   \n",
       "13_3000_mean_lower  -0.132703  0.069445  0.119429  0.132892  0.093441   \n",
       "13_6000_mean_lower  -0.165459  0.063173 -0.084489 -0.007000 -0.020095   \n",
       "13_8000_mean_lower   0.187565 -0.126128  0.017256 -0.197274  0.033401   \n",
       "...                       ...       ...       ...       ...       ...   \n",
       "53_10000_mean_upper -0.006705  0.202553 -0.088354 -0.149064 -0.115886   \n",
       "53_16800_mean_upper -0.044594 -0.004658  0.012164 -0.274560  0.062978   \n",
       "53_3000_mean_upper   0.081963 -0.035182  0.080823  0.054990  0.072825   \n",
       "53_6000_mean_upper  -0.013609 -0.134592  0.051215  0.159984  0.100383   \n",
       "53_8000_mean_upper   0.093112 -0.050176  0.062577  0.094041 -0.149803   \n",
       "\n",
       "                         PC73      PC74      PC75      PC76      PC77  \n",
       "range_delay                                                            \n",
       "13_10000_mean_lower -0.095819 -0.140636 -0.125348  0.074123  0.026963  \n",
       "13_16800_mean_lower -0.032558  0.062464 -0.066385  0.134045 -0.028753  \n",
       "13_3000_mean_lower  -0.075663 -0.058127 -0.086294 -0.096157  0.227261  \n",
       "13_6000_mean_lower  -0.137286  0.281073  0.212788  0.049513  0.185759  \n",
       "13_8000_mean_lower   0.058329 -0.165383  0.029714  0.079693  0.028371  \n",
       "...                       ...       ...       ...       ...       ...  \n",
       "53_10000_mean_upper  0.032567  0.085827 -0.093214 -0.135971  0.027772  \n",
       "53_16800_mean_upper  0.018672  0.000289  0.110702  0.057133 -0.016449  \n",
       "53_3000_mean_upper  -0.035190  0.010991  0.083530  0.018386 -0.018268  \n",
       "53_6000_mean_upper  -0.038132  0.168219 -0.064487  0.036621 -0.009364  \n",
       "53_8000_mean_upper   0.004911 -0.043816  0.017077  0.033219  0.003699  \n",
       "\n",
       "[90 rows x 77 columns]"
      ]
     },
     "execution_count": 25,
     "metadata": {},
     "output_type": "execute_result"
    }
   ],
   "source": [
    "# Create a DataFrame for the loadings\n",
    "loading_df_corr = pd.DataFrame(loadings_corr.T, columns=[f'PC{i+1}' for i in range(loadings_corr.shape[0])], index=features_corr.columns)\n",
    "loading_df_corr"
   ]
  },
  {
   "cell_type": "code",
   "execution_count": 26,
   "metadata": {},
   "outputs": [
    {
     "data": {
      "text/html": [
       "<div>\n",
       "<style scoped>\n",
       "    .dataframe tbody tr th:only-of-type {\n",
       "        vertical-align: middle;\n",
       "    }\n",
       "\n",
       "    .dataframe tbody tr th {\n",
       "        vertical-align: top;\n",
       "    }\n",
       "\n",
       "    .dataframe thead th {\n",
       "        text-align: right;\n",
       "    }\n",
       "</style>\n",
       "<table border=\"1\" class=\"dataframe\">\n",
       "  <thead>\n",
       "    <tr style=\"text-align: right;\">\n",
       "      <th></th>\n",
       "      <th>Feature</th>\n",
       "      <th>Importance</th>\n",
       "    </tr>\n",
       "  </thead>\n",
       "  <tbody>\n",
       "    <tr>\n",
       "      <th>14</th>\n",
       "      <td>23_8000_mean_lower</td>\n",
       "      <td>4.169036</td>\n",
       "    </tr>\n",
       "    <tr>\n",
       "      <th>75</th>\n",
       "      <td>43_10000_mean_upper</td>\n",
       "      <td>3.863427</td>\n",
       "    </tr>\n",
       "    <tr>\n",
       "      <th>76</th>\n",
       "      <td>43_16800_mean_upper</td>\n",
       "      <td>3.846612</td>\n",
       "    </tr>\n",
       "    <tr>\n",
       "      <th>34</th>\n",
       "      <td>43_8000_mean_lower</td>\n",
       "      <td>3.787772</td>\n",
       "    </tr>\n",
       "    <tr>\n",
       "      <th>67</th>\n",
       "      <td>33_3000_mean_upper</td>\n",
       "      <td>3.758020</td>\n",
       "    </tr>\n",
       "    <tr>\n",
       "      <th>...</th>\n",
       "      <td>...</td>\n",
       "      <td>...</td>\n",
       "    </tr>\n",
       "    <tr>\n",
       "      <th>62</th>\n",
       "      <td>28_3000_mean_upper</td>\n",
       "      <td>2.950822</td>\n",
       "    </tr>\n",
       "    <tr>\n",
       "      <th>84</th>\n",
       "      <td>48_8000_mean_upper</td>\n",
       "      <td>2.928849</td>\n",
       "    </tr>\n",
       "    <tr>\n",
       "      <th>25</th>\n",
       "      <td>38_10000_mean_lower</td>\n",
       "      <td>2.861535</td>\n",
       "    </tr>\n",
       "    <tr>\n",
       "      <th>18</th>\n",
       "      <td>28_6000_mean_lower</td>\n",
       "      <td>2.837485</td>\n",
       "    </tr>\n",
       "    <tr>\n",
       "      <th>65</th>\n",
       "      <td>33_10000_mean_upper</td>\n",
       "      <td>2.741964</td>\n",
       "    </tr>\n",
       "  </tbody>\n",
       "</table>\n",
       "<p>90 rows × 2 columns</p>\n",
       "</div>"
      ],
      "text/plain": [
       "                Feature  Importance\n",
       "14   23_8000_mean_lower    4.169036\n",
       "75  43_10000_mean_upper    3.863427\n",
       "76  43_16800_mean_upper    3.846612\n",
       "34   43_8000_mean_lower    3.787772\n",
       "67   33_3000_mean_upper    3.758020\n",
       "..                  ...         ...\n",
       "62   28_3000_mean_upper    2.950822\n",
       "84   48_8000_mean_upper    2.928849\n",
       "25  38_10000_mean_lower    2.861535\n",
       "18   28_6000_mean_lower    2.837485\n",
       "65  33_10000_mean_upper    2.741964\n",
       "\n",
       "[90 rows x 2 columns]"
      ]
     },
     "execution_count": 26,
     "metadata": {},
     "output_type": "execute_result"
    }
   ],
   "source": [
    "# Determine the number of components to retain 90% variance\n",
    "cumulative_variance = np.cumsum(explained_variance_corr)\n",
    "num_components = np.argmax(cumulative_variance >= 0.9) + 1\n",
    "\n",
    "# Get the loadings for the selected components\n",
    "selected_loadings_corr = loadings_corr[:num_components, :]\n",
    "\n",
    "# Calculate the importance of each feature by summing the absolute values of its loadings across the selected components\n",
    "feature_importance_corr = np.sum(np.abs(selected_loadings_corr), axis=0)\n",
    "\n",
    "# Create a DataFrame for feature importance\n",
    "feature_importance_df_corr = pd.DataFrame({'Feature': features_corr.columns, 'Importance': feature_importance_corr})\n",
    "\n",
    "# Sort the features by importance\n",
    "feature_importance_df_corr = feature_importance_df_corr.sort_values(by='Importance', ascending=False)\n",
    "\n",
    "# Select the top N features (e.g., top 10 features)\n",
    "top_features_corr = feature_importance_df_corr.head(200)\n",
    "\n",
    "top_features_corr"
   ]
  },
  {
   "cell_type": "code",
   "execution_count": 27,
   "metadata": {},
   "outputs": [
    {
     "data": {
      "application/vnd.plotly.v1+json": {
       "config": {
        "plotlyServerURL": "https://plot.ly"
       },
       "data": [
        {
         "customdata": [
          [
           32
          ],
          [
           33
          ],
          [
           34
          ],
          [
           35
          ],
          [
           36
          ],
          [
           37
          ],
          [
           38
          ],
          [
           39
          ],
          [
           40
          ],
          [
           41
          ],
          [
           42
          ],
          [
           43
          ],
          [
           44
          ],
          [
           45
          ],
          [
           46
          ],
          [
           47
          ],
          [
           48
          ],
          [
           49
          ],
          [
           50
          ],
          [
           51
          ],
          [
           52
          ],
          [
           53
          ],
          [
           54
          ],
          [
           55
          ],
          [
           56
          ],
          [
           57
          ],
          [
           58
          ],
          [
           59
          ],
          [
           60
          ],
          [
           61
          ],
          [
           62
          ],
          [
           63
          ],
          [
           64
          ],
          [
           65
          ],
          [
           66
          ],
          [
           67
          ],
          [
           68
          ],
          [
           69
          ],
          [
           70
          ],
          [
           71
          ],
          [
           72
          ],
          [
           73
          ],
          [
           74
          ],
          [
           75
          ],
          [
           76
          ],
          [
           77
          ],
          [
           78
          ],
          [
           79
          ],
          [
           80
          ],
          [
           81
          ],
          [
           82
          ],
          [
           83
          ],
          [
           84
          ],
          [
           85
          ],
          [
           86
          ],
          [
           87
          ],
          [
           88
          ],
          [
           89
          ],
          [
           90
          ],
          [
           91
          ],
          [
           92
          ],
          [
           93
          ],
          [
           94
          ],
          [
           95
          ],
          [
           96
          ],
          [
           97
          ],
          [
           98
          ],
          [
           99
          ],
          [
           100
          ],
          [
           101
          ],
          [
           102
          ],
          [
           103
          ],
          [
           104
          ],
          [
           105
          ],
          [
           106
          ],
          [
           107
          ],
          [
           108
          ]
         ],
         "hovertemplate": "Principal Component 1=%{x}<br>Principal Component 2=%{y}<br>Sensor ID=%{marker.color}<extra></extra>",
         "legendgroup": "",
         "marker": {
          "color": [
           32,
           33,
           34,
           35,
           36,
           37,
           38,
           39,
           40,
           41,
           42,
           43,
           44,
           45,
           46,
           47,
           48,
           49,
           50,
           51,
           52,
           53,
           54,
           55,
           56,
           57,
           58,
           59,
           60,
           61,
           62,
           63,
           64,
           65,
           66,
           67,
           68,
           69,
           70,
           71,
           72,
           73,
           74,
           75,
           76,
           77,
           78,
           79,
           80,
           81,
           82,
           83,
           84,
           85,
           86,
           87,
           88,
           89,
           90,
           91,
           92,
           93,
           94,
           95,
           96,
           97,
           98,
           99,
           100,
           101,
           102,
           103,
           104,
           105,
           106,
           107,
           108
          ],
          "coloraxis": "coloraxis",
          "symbol": "circle"
         },
         "mode": "markers",
         "name": "",
         "orientation": "v",
         "showlegend": false,
         "type": "scatter",
         "x": [
          -1927.100779473519,
          -1937.1699078819006,
          -1743.3562344949871,
          -1274.486775555788,
          -1107.0031421696694,
          -1926.3054889180405,
          -1867.6102751745573,
          -1164.5902488092356,
          -1238.1817419503664,
          -1749.3816766549428,
          -2037.7459292258823,
          -1525.6209325931002,
          -1226.812011504116,
          -1921.9832170886,
          -1913.8901067501895,
          -2028.1536546241966,
          -2001.061228745714,
          -1725.020119333032,
          -1973.9726055355125,
          -1943.250366999464,
          -1951.079799444198,
          -1870.1913314986546,
          -1922.7296008074266,
          -1215.4463874856606,
          -1738.8196196229871,
          63768.8315550049,
          -2058.3140973327977,
          -1058.426608721987,
          -1936.9387060260556,
          -2004.7510341259194,
          -1980.6337265744464,
          -2061.686525580737,
          63970.189320765865,
          -1915.5707326103072,
          -1162.0860877929276,
          -1057.9641950686967,
          -2011.52926535527,
          -1962.711546923848,
          -1793.4708035700135,
          -1658.2436159044798,
          -2009.7858587431563,
          -1826.5703496424217,
          -1105.0225103979703,
          -1729.7303223431902,
          -2006.6018456575157,
          -1851.7058714469956,
          -1614.2748855707293,
          -1874.7082314121287,
          -1176.169108986504,
          -1785.8522430184896,
          -1091.898188870297,
          -1928.3383231118005,
          -1343.7332717486704,
          -1799.420649458818,
          -1802.9330125359577,
          -1962.4676252659663,
          -2187.317594855565,
          -1156.3527200191197,
          -1676.3436154045346,
          -2020.2966937420385,
          -984.4659959548853,
          -1809.7150058521108,
          -2042.2749848484489,
          -1896.1914663263756,
          -1742.2309785309067,
          -2003.4852723148506,
          -1843.8304350934593,
          -996.4269516115093,
          -2114.2111741973913,
          -1003.9695302369394,
          -1939.5139948808658,
          -2096.0152661582824,
          -925.8640689257784,
          -1906.3088417969273,
          -1212.7699227639414,
          -1813.8549099887184,
          -1865.0790261283219
         ],
         "xaxis": "x",
         "y": [
          -3649.6659253182474,
          2909.9153651304878,
          239.57873915766805,
          -2858.40592115493,
          -3493.6886327661314,
          4482.768238380641,
          -1787.2278418034189,
          7365.557424980766,
          -2025.1151817279035,
          5486.044905311603,
          -1333.3533819895933,
          1008.8956184156832,
          -724.2806759229769,
          -3218.3915176339965,
          784.7384068300573,
          -738.3416097902112,
          -2813.7850462003544,
          -508.6729604205774,
          647.8730770504288,
          -2382.0702473208985,
          -1328.5389787581166,
          -3127.332889493591,
          1290.7588251081631,
          3206.748815717828,
          -1318.5589445795645,
          -2598.0302063299587,
          324.2914045646172,
          -2944.1431500856706,
          2306.561555657414,
          -3762.68574581322,
          1213.0488091127268,
          2894.333371644042,
          2430.886947078958,
          4153.242340095277,
          3067.096395715881,
          -1574.306464580541,
          -2967.7525953262184,
          -1339.020259941658,
          1568.806702200511,
          132.77865336566623,
          -2691.268677989799,
          -2389.677323913392,
          1092.1996044223022,
          -3967.379524571783,
          -1494.3177901712352,
          799.91575902141,
          930.3585339502933,
          -1950.2202990835592,
          2826.92325738252,
          2835.8712012652063,
          -3820.392972332226,
          -794.5876354716136,
          -117.03995742957638,
          -2720.2267382099794,
          1086.8608929347954,
          748.3941375048928,
          809.0476529046808,
          6193.881494973452,
          720.8030058768333,
          829.9759174260054,
          2831.23635849698,
          2265.7960777378107,
          -41.17095668214907,
          646.1470550633846,
          784.5508863981705,
          -2911.4256082877164,
          -3180.1945416960016,
          -571.7770525107104,
          1705.90920036557,
          -75.4073033484211,
          -546.2616588811114,
          -1522.2586249919848,
          1423.7349266596325,
          -1069.7909379495993,
          1608.3887777612829,
          961.7948748382978,
          -258.9494300233125
         ],
         "yaxis": "y"
        }
       ],
       "layout": {
        "coloraxis": {
         "colorbar": {
          "title": {
           "text": "Sensor ID"
          }
         },
         "colorscale": [
          [
           0,
           "#0d0887"
          ],
          [
           0.1111111111111111,
           "#46039f"
          ],
          [
           0.2222222222222222,
           "#7201a8"
          ],
          [
           0.3333333333333333,
           "#9c179e"
          ],
          [
           0.4444444444444444,
           "#bd3786"
          ],
          [
           0.5555555555555556,
           "#d8576b"
          ],
          [
           0.6666666666666666,
           "#ed7953"
          ],
          [
           0.7777777777777778,
           "#fb9f3a"
          ],
          [
           0.8888888888888888,
           "#fdca26"
          ],
          [
           1,
           "#f0f921"
          ]
         ]
        },
        "legend": {
         "tracegroupgap": 0
        },
        "template": {
         "data": {
          "bar": [
           {
            "error_x": {
             "color": "#2a3f5f"
            },
            "error_y": {
             "color": "#2a3f5f"
            },
            "marker": {
             "line": {
              "color": "#E5ECF6",
              "width": 0.5
             },
             "pattern": {
              "fillmode": "overlay",
              "size": 10,
              "solidity": 0.2
             }
            },
            "type": "bar"
           }
          ],
          "barpolar": [
           {
            "marker": {
             "line": {
              "color": "#E5ECF6",
              "width": 0.5
             },
             "pattern": {
              "fillmode": "overlay",
              "size": 10,
              "solidity": 0.2
             }
            },
            "type": "barpolar"
           }
          ],
          "carpet": [
           {
            "aaxis": {
             "endlinecolor": "#2a3f5f",
             "gridcolor": "white",
             "linecolor": "white",
             "minorgridcolor": "white",
             "startlinecolor": "#2a3f5f"
            },
            "baxis": {
             "endlinecolor": "#2a3f5f",
             "gridcolor": "white",
             "linecolor": "white",
             "minorgridcolor": "white",
             "startlinecolor": "#2a3f5f"
            },
            "type": "carpet"
           }
          ],
          "choropleth": [
           {
            "colorbar": {
             "outlinewidth": 0,
             "ticks": ""
            },
            "type": "choropleth"
           }
          ],
          "contour": [
           {
            "colorbar": {
             "outlinewidth": 0,
             "ticks": ""
            },
            "colorscale": [
             [
              0,
              "#0d0887"
             ],
             [
              0.1111111111111111,
              "#46039f"
             ],
             [
              0.2222222222222222,
              "#7201a8"
             ],
             [
              0.3333333333333333,
              "#9c179e"
             ],
             [
              0.4444444444444444,
              "#bd3786"
             ],
             [
              0.5555555555555556,
              "#d8576b"
             ],
             [
              0.6666666666666666,
              "#ed7953"
             ],
             [
              0.7777777777777778,
              "#fb9f3a"
             ],
             [
              0.8888888888888888,
              "#fdca26"
             ],
             [
              1,
              "#f0f921"
             ]
            ],
            "type": "contour"
           }
          ],
          "contourcarpet": [
           {
            "colorbar": {
             "outlinewidth": 0,
             "ticks": ""
            },
            "type": "contourcarpet"
           }
          ],
          "heatmap": [
           {
            "colorbar": {
             "outlinewidth": 0,
             "ticks": ""
            },
            "colorscale": [
             [
              0,
              "#0d0887"
             ],
             [
              0.1111111111111111,
              "#46039f"
             ],
             [
              0.2222222222222222,
              "#7201a8"
             ],
             [
              0.3333333333333333,
              "#9c179e"
             ],
             [
              0.4444444444444444,
              "#bd3786"
             ],
             [
              0.5555555555555556,
              "#d8576b"
             ],
             [
              0.6666666666666666,
              "#ed7953"
             ],
             [
              0.7777777777777778,
              "#fb9f3a"
             ],
             [
              0.8888888888888888,
              "#fdca26"
             ],
             [
              1,
              "#f0f921"
             ]
            ],
            "type": "heatmap"
           }
          ],
          "heatmapgl": [
           {
            "colorbar": {
             "outlinewidth": 0,
             "ticks": ""
            },
            "colorscale": [
             [
              0,
              "#0d0887"
             ],
             [
              0.1111111111111111,
              "#46039f"
             ],
             [
              0.2222222222222222,
              "#7201a8"
             ],
             [
              0.3333333333333333,
              "#9c179e"
             ],
             [
              0.4444444444444444,
              "#bd3786"
             ],
             [
              0.5555555555555556,
              "#d8576b"
             ],
             [
              0.6666666666666666,
              "#ed7953"
             ],
             [
              0.7777777777777778,
              "#fb9f3a"
             ],
             [
              0.8888888888888888,
              "#fdca26"
             ],
             [
              1,
              "#f0f921"
             ]
            ],
            "type": "heatmapgl"
           }
          ],
          "histogram": [
           {
            "marker": {
             "pattern": {
              "fillmode": "overlay",
              "size": 10,
              "solidity": 0.2
             }
            },
            "type": "histogram"
           }
          ],
          "histogram2d": [
           {
            "colorbar": {
             "outlinewidth": 0,
             "ticks": ""
            },
            "colorscale": [
             [
              0,
              "#0d0887"
             ],
             [
              0.1111111111111111,
              "#46039f"
             ],
             [
              0.2222222222222222,
              "#7201a8"
             ],
             [
              0.3333333333333333,
              "#9c179e"
             ],
             [
              0.4444444444444444,
              "#bd3786"
             ],
             [
              0.5555555555555556,
              "#d8576b"
             ],
             [
              0.6666666666666666,
              "#ed7953"
             ],
             [
              0.7777777777777778,
              "#fb9f3a"
             ],
             [
              0.8888888888888888,
              "#fdca26"
             ],
             [
              1,
              "#f0f921"
             ]
            ],
            "type": "histogram2d"
           }
          ],
          "histogram2dcontour": [
           {
            "colorbar": {
             "outlinewidth": 0,
             "ticks": ""
            },
            "colorscale": [
             [
              0,
              "#0d0887"
             ],
             [
              0.1111111111111111,
              "#46039f"
             ],
             [
              0.2222222222222222,
              "#7201a8"
             ],
             [
              0.3333333333333333,
              "#9c179e"
             ],
             [
              0.4444444444444444,
              "#bd3786"
             ],
             [
              0.5555555555555556,
              "#d8576b"
             ],
             [
              0.6666666666666666,
              "#ed7953"
             ],
             [
              0.7777777777777778,
              "#fb9f3a"
             ],
             [
              0.8888888888888888,
              "#fdca26"
             ],
             [
              1,
              "#f0f921"
             ]
            ],
            "type": "histogram2dcontour"
           }
          ],
          "mesh3d": [
           {
            "colorbar": {
             "outlinewidth": 0,
             "ticks": ""
            },
            "type": "mesh3d"
           }
          ],
          "parcoords": [
           {
            "line": {
             "colorbar": {
              "outlinewidth": 0,
              "ticks": ""
             }
            },
            "type": "parcoords"
           }
          ],
          "pie": [
           {
            "automargin": true,
            "type": "pie"
           }
          ],
          "scatter": [
           {
            "fillpattern": {
             "fillmode": "overlay",
             "size": 10,
             "solidity": 0.2
            },
            "type": "scatter"
           }
          ],
          "scatter3d": [
           {
            "line": {
             "colorbar": {
              "outlinewidth": 0,
              "ticks": ""
             }
            },
            "marker": {
             "colorbar": {
              "outlinewidth": 0,
              "ticks": ""
             }
            },
            "type": "scatter3d"
           }
          ],
          "scattercarpet": [
           {
            "marker": {
             "colorbar": {
              "outlinewidth": 0,
              "ticks": ""
             }
            },
            "type": "scattercarpet"
           }
          ],
          "scattergeo": [
           {
            "marker": {
             "colorbar": {
              "outlinewidth": 0,
              "ticks": ""
             }
            },
            "type": "scattergeo"
           }
          ],
          "scattergl": [
           {
            "marker": {
             "colorbar": {
              "outlinewidth": 0,
              "ticks": ""
             }
            },
            "type": "scattergl"
           }
          ],
          "scattermapbox": [
           {
            "marker": {
             "colorbar": {
              "outlinewidth": 0,
              "ticks": ""
             }
            },
            "type": "scattermapbox"
           }
          ],
          "scatterpolar": [
           {
            "marker": {
             "colorbar": {
              "outlinewidth": 0,
              "ticks": ""
             }
            },
            "type": "scatterpolar"
           }
          ],
          "scatterpolargl": [
           {
            "marker": {
             "colorbar": {
              "outlinewidth": 0,
              "ticks": ""
             }
            },
            "type": "scatterpolargl"
           }
          ],
          "scatterternary": [
           {
            "marker": {
             "colorbar": {
              "outlinewidth": 0,
              "ticks": ""
             }
            },
            "type": "scatterternary"
           }
          ],
          "surface": [
           {
            "colorbar": {
             "outlinewidth": 0,
             "ticks": ""
            },
            "colorscale": [
             [
              0,
              "#0d0887"
             ],
             [
              0.1111111111111111,
              "#46039f"
             ],
             [
              0.2222222222222222,
              "#7201a8"
             ],
             [
              0.3333333333333333,
              "#9c179e"
             ],
             [
              0.4444444444444444,
              "#bd3786"
             ],
             [
              0.5555555555555556,
              "#d8576b"
             ],
             [
              0.6666666666666666,
              "#ed7953"
             ],
             [
              0.7777777777777778,
              "#fb9f3a"
             ],
             [
              0.8888888888888888,
              "#fdca26"
             ],
             [
              1,
              "#f0f921"
             ]
            ],
            "type": "surface"
           }
          ],
          "table": [
           {
            "cells": {
             "fill": {
              "color": "#EBF0F8"
             },
             "line": {
              "color": "white"
             }
            },
            "header": {
             "fill": {
              "color": "#C8D4E3"
             },
             "line": {
              "color": "white"
             }
            },
            "type": "table"
           }
          ]
         },
         "layout": {
          "annotationdefaults": {
           "arrowcolor": "#2a3f5f",
           "arrowhead": 0,
           "arrowwidth": 1
          },
          "autotypenumbers": "strict",
          "coloraxis": {
           "colorbar": {
            "outlinewidth": 0,
            "ticks": ""
           }
          },
          "colorscale": {
           "diverging": [
            [
             0,
             "#8e0152"
            ],
            [
             0.1,
             "#c51b7d"
            ],
            [
             0.2,
             "#de77ae"
            ],
            [
             0.3,
             "#f1b6da"
            ],
            [
             0.4,
             "#fde0ef"
            ],
            [
             0.5,
             "#f7f7f7"
            ],
            [
             0.6,
             "#e6f5d0"
            ],
            [
             0.7,
             "#b8e186"
            ],
            [
             0.8,
             "#7fbc41"
            ],
            [
             0.9,
             "#4d9221"
            ],
            [
             1,
             "#276419"
            ]
           ],
           "sequential": [
            [
             0,
             "#0d0887"
            ],
            [
             0.1111111111111111,
             "#46039f"
            ],
            [
             0.2222222222222222,
             "#7201a8"
            ],
            [
             0.3333333333333333,
             "#9c179e"
            ],
            [
             0.4444444444444444,
             "#bd3786"
            ],
            [
             0.5555555555555556,
             "#d8576b"
            ],
            [
             0.6666666666666666,
             "#ed7953"
            ],
            [
             0.7777777777777778,
             "#fb9f3a"
            ],
            [
             0.8888888888888888,
             "#fdca26"
            ],
            [
             1,
             "#f0f921"
            ]
           ],
           "sequentialminus": [
            [
             0,
             "#0d0887"
            ],
            [
             0.1111111111111111,
             "#46039f"
            ],
            [
             0.2222222222222222,
             "#7201a8"
            ],
            [
             0.3333333333333333,
             "#9c179e"
            ],
            [
             0.4444444444444444,
             "#bd3786"
            ],
            [
             0.5555555555555556,
             "#d8576b"
            ],
            [
             0.6666666666666666,
             "#ed7953"
            ],
            [
             0.7777777777777778,
             "#fb9f3a"
            ],
            [
             0.8888888888888888,
             "#fdca26"
            ],
            [
             1,
             "#f0f921"
            ]
           ]
          },
          "colorway": [
           "#636efa",
           "#EF553B",
           "#00cc96",
           "#ab63fa",
           "#FFA15A",
           "#19d3f3",
           "#FF6692",
           "#B6E880",
           "#FF97FF",
           "#FECB52"
          ],
          "font": {
           "color": "#2a3f5f"
          },
          "geo": {
           "bgcolor": "white",
           "lakecolor": "white",
           "landcolor": "#E5ECF6",
           "showlakes": true,
           "showland": true,
           "subunitcolor": "white"
          },
          "hoverlabel": {
           "align": "left"
          },
          "hovermode": "closest",
          "mapbox": {
           "style": "light"
          },
          "paper_bgcolor": "white",
          "plot_bgcolor": "#E5ECF6",
          "polar": {
           "angularaxis": {
            "gridcolor": "white",
            "linecolor": "white",
            "ticks": ""
           },
           "bgcolor": "#E5ECF6",
           "radialaxis": {
            "gridcolor": "white",
            "linecolor": "white",
            "ticks": ""
           }
          },
          "scene": {
           "xaxis": {
            "backgroundcolor": "#E5ECF6",
            "gridcolor": "white",
            "gridwidth": 2,
            "linecolor": "white",
            "showbackground": true,
            "ticks": "",
            "zerolinecolor": "white"
           },
           "yaxis": {
            "backgroundcolor": "#E5ECF6",
            "gridcolor": "white",
            "gridwidth": 2,
            "linecolor": "white",
            "showbackground": true,
            "ticks": "",
            "zerolinecolor": "white"
           },
           "zaxis": {
            "backgroundcolor": "#E5ECF6",
            "gridcolor": "white",
            "gridwidth": 2,
            "linecolor": "white",
            "showbackground": true,
            "ticks": "",
            "zerolinecolor": "white"
           }
          },
          "shapedefaults": {
           "line": {
            "color": "#2a3f5f"
           }
          },
          "ternary": {
           "aaxis": {
            "gridcolor": "white",
            "linecolor": "white",
            "ticks": ""
           },
           "baxis": {
            "gridcolor": "white",
            "linecolor": "white",
            "ticks": ""
           },
           "bgcolor": "#E5ECF6",
           "caxis": {
            "gridcolor": "white",
            "linecolor": "white",
            "ticks": ""
           }
          },
          "title": {
           "x": 0.05
          },
          "xaxis": {
           "automargin": true,
           "gridcolor": "white",
           "linecolor": "white",
           "ticks": "",
           "title": {
            "standoff": 15
           },
           "zerolinecolor": "white",
           "zerolinewidth": 2
          },
          "yaxis": {
           "automargin": true,
           "gridcolor": "white",
           "linecolor": "white",
           "ticks": "",
           "title": {
            "standoff": 15
           },
           "zerolinecolor": "white",
           "zerolinewidth": 2
          }
         }
        },
        "title": {
         "text": "Sensors Visualized Using Principal Components"
        },
        "xaxis": {
         "anchor": "y",
         "domain": [
          0,
          1
         ],
         "title": {
          "text": "Principal Component 1"
         }
        },
        "yaxis": {
         "anchor": "x",
         "domain": [
          0,
          1
         ],
         "title": {
          "text": "Principal Component 2"
         }
        }
       }
      }
     },
     "metadata": {},
     "output_type": "display_data"
    }
   ],
   "source": [
    "# Plot the PCA interactive plot\n",
    "plot_pca_interactive(reduced_data_corr, sensor_id_col='Sensor ID', n_components=2)"
   ]
  },
  {
   "cell_type": "markdown",
   "metadata": {},
   "source": [
    "## Clustering"
   ]
  },
  {
   "cell_type": "code",
   "execution_count": 28,
   "metadata": {},
   "outputs": [
    {
     "name": "stderr",
     "output_type": "stream",
     "text": [
      "/Users/jihoonchung/anaconda3/envs/datascience/lib/python3.10/site-packages/sklearn/cluster/_kmeans.py:1412: FutureWarning:\n",
      "\n",
      "The default value of `n_init` will change from 10 to 'auto' in 1.4. Set the value of `n_init` explicitly to suppress the warning\n",
      "\n"
     ]
    },
    {
     "data": {
      "application/vnd.plotly.v1+json": {
       "config": {
        "plotlyServerURL": "https://plot.ly"
       },
       "data": [
        {
         "customdata": [
          [
           32
          ]
         ],
         "hovertemplate": "Sensor ID=%{customdata[0]}<br>Principal Component 1=%{x}<br>Principal Component 2=%{y}<br>Principal Component 3=%{z}<br>Cluster=%{marker.color}<extra></extra>",
         "legendgroup": "32",
         "marker": {
          "color": [
           0
          ],
          "coloraxis": "coloraxis",
          "symbol": "circle"
         },
         "mode": "markers",
         "name": "32",
         "scene": "scene",
         "showlegend": true,
         "type": "scatter3d",
         "x": [
          -1927.100779473519
         ],
         "y": [
          -3649.6659253182474
         ],
         "z": [
          -517.4533955242298
         ]
        },
        {
         "customdata": [
          [
           33
          ]
         ],
         "hovertemplate": "Sensor ID=%{customdata[0]}<br>Principal Component 1=%{x}<br>Principal Component 2=%{y}<br>Principal Component 3=%{z}<br>Cluster=%{marker.color}<extra></extra>",
         "legendgroup": "33",
         "marker": {
          "color": [
           3
          ],
          "coloraxis": "coloraxis",
          "symbol": "diamond"
         },
         "mode": "markers",
         "name": "33",
         "scene": "scene",
         "showlegend": true,
         "type": "scatter3d",
         "x": [
          -1937.1699078819006
         ],
         "y": [
          2909.9153651304878
         ],
         "z": [
          2684.3800921677366
         ]
        },
        {
         "customdata": [
          [
           34
          ]
         ],
         "hovertemplate": "Sensor ID=%{customdata[0]}<br>Principal Component 1=%{x}<br>Principal Component 2=%{y}<br>Principal Component 3=%{z}<br>Cluster=%{marker.color}<extra></extra>",
         "legendgroup": "34",
         "marker": {
          "color": [
           3
          ],
          "coloraxis": "coloraxis",
          "symbol": "square"
         },
         "mode": "markers",
         "name": "34",
         "scene": "scene",
         "showlegend": true,
         "type": "scatter3d",
         "x": [
          -1743.3562344949871
         ],
         "y": [
          239.57873915766805
         ],
         "z": [
          1785.3745877176736
         ]
        },
        {
         "customdata": [
          [
           35
          ]
         ],
         "hovertemplate": "Sensor ID=%{customdata[0]}<br>Principal Component 1=%{x}<br>Principal Component 2=%{y}<br>Principal Component 3=%{z}<br>Cluster=%{marker.color}<extra></extra>",
         "legendgroup": "35",
         "marker": {
          "color": [
           0
          ],
          "coloraxis": "coloraxis",
          "symbol": "x"
         },
         "mode": "markers",
         "name": "35",
         "scene": "scene",
         "showlegend": true,
         "type": "scatter3d",
         "x": [
          -1274.486775555788
         ],
         "y": [
          -2858.40592115493
         ],
         "z": [
          -2415.237667879878
         ]
        },
        {
         "customdata": [
          [
           36
          ]
         ],
         "hovertemplate": "Sensor ID=%{customdata[0]}<br>Principal Component 1=%{x}<br>Principal Component 2=%{y}<br>Principal Component 3=%{z}<br>Cluster=%{marker.color}<extra></extra>",
         "legendgroup": "36",
         "marker": {
          "color": [
           0
          ],
          "coloraxis": "coloraxis",
          "symbol": "cross"
         },
         "mode": "markers",
         "name": "36",
         "scene": "scene",
         "showlegend": true,
         "type": "scatter3d",
         "x": [
          -1107.0031421696694
         ],
         "y": [
          -3493.6886327661314
         ],
         "z": [
          -1882.70034277604
         ]
        },
        {
         "customdata": [
          [
           37
          ]
         ],
         "hovertemplate": "Sensor ID=%{customdata[0]}<br>Principal Component 1=%{x}<br>Principal Component 2=%{y}<br>Principal Component 3=%{z}<br>Cluster=%{marker.color}<extra></extra>",
         "legendgroup": "37",
         "marker": {
          "color": [
           2
          ],
          "coloraxis": "coloraxis",
          "symbol": "circle"
         },
         "mode": "markers",
         "name": "37",
         "scene": "scene",
         "showlegend": true,
         "type": "scatter3d",
         "x": [
          -1926.3054889180405
         ],
         "y": [
          4482.768238380641
         ],
         "z": [
          -194.32156456637043
         ]
        },
        {
         "customdata": [
          [
           38
          ]
         ],
         "hovertemplate": "Sensor ID=%{customdata[0]}<br>Principal Component 1=%{x}<br>Principal Component 2=%{y}<br>Principal Component 3=%{z}<br>Cluster=%{marker.color}<extra></extra>",
         "legendgroup": "38",
         "marker": {
          "color": [
           0
          ],
          "coloraxis": "coloraxis",
          "symbol": "diamond"
         },
         "mode": "markers",
         "name": "38",
         "scene": "scene",
         "showlegend": true,
         "type": "scatter3d",
         "x": [
          -1867.6102751745573
         ],
         "y": [
          -1787.2278418034189
         ],
         "z": [
          1567.6405238454008
         ]
        },
        {
         "customdata": [
          [
           39
          ]
         ],
         "hovertemplate": "Sensor ID=%{customdata[0]}<br>Principal Component 1=%{x}<br>Principal Component 2=%{y}<br>Principal Component 3=%{z}<br>Cluster=%{marker.color}<extra></extra>",
         "legendgroup": "39",
         "marker": {
          "color": [
           2
          ],
          "coloraxis": "coloraxis",
          "symbol": "square"
         },
         "mode": "markers",
         "name": "39",
         "scene": "scene",
         "showlegend": true,
         "type": "scatter3d",
         "x": [
          -1164.5902488092356
         ],
         "y": [
          7365.557424980766
         ],
         "z": [
          792.9694963809392
         ]
        },
        {
         "customdata": [
          [
           40
          ]
         ],
         "hovertemplate": "Sensor ID=%{customdata[0]}<br>Principal Component 1=%{x}<br>Principal Component 2=%{y}<br>Principal Component 3=%{z}<br>Cluster=%{marker.color}<extra></extra>",
         "legendgroup": "40",
         "marker": {
          "color": [
           0
          ],
          "coloraxis": "coloraxis",
          "symbol": "x"
         },
         "mode": "markers",
         "name": "40",
         "scene": "scene",
         "showlegend": true,
         "type": "scatter3d",
         "x": [
          -1238.1817419503664
         ],
         "y": [
          -2025.1151817279035
         ],
         "z": [
          -720.1941656665056
         ]
        },
        {
         "customdata": [
          [
           41
          ]
         ],
         "hovertemplate": "Sensor ID=%{customdata[0]}<br>Principal Component 1=%{x}<br>Principal Component 2=%{y}<br>Principal Component 3=%{z}<br>Cluster=%{marker.color}<extra></extra>",
         "legendgroup": "41",
         "marker": {
          "color": [
           2
          ],
          "coloraxis": "coloraxis",
          "symbol": "cross"
         },
         "mode": "markers",
         "name": "41",
         "scene": "scene",
         "showlegend": true,
         "type": "scatter3d",
         "x": [
          -1749.3816766549428
         ],
         "y": [
          5486.044905311603
         ],
         "z": [
          -2212.5682734973843
         ]
        },
        {
         "customdata": [
          [
           42
          ]
         ],
         "hovertemplate": "Sensor ID=%{customdata[0]}<br>Principal Component 1=%{x}<br>Principal Component 2=%{y}<br>Principal Component 3=%{z}<br>Cluster=%{marker.color}<extra></extra>",
         "legendgroup": "42",
         "marker": {
          "color": [
           3
          ],
          "coloraxis": "coloraxis",
          "symbol": "circle"
         },
         "mode": "markers",
         "name": "42",
         "scene": "scene",
         "showlegend": true,
         "type": "scatter3d",
         "x": [
          -2037.7459292258823
         ],
         "y": [
          -1333.3533819895933
         ],
         "z": [
          2732.0297444217376
         ]
        },
        {
         "customdata": [
          [
           43
          ]
         ],
         "hovertemplate": "Sensor ID=%{customdata[0]}<br>Principal Component 1=%{x}<br>Principal Component 2=%{y}<br>Principal Component 3=%{z}<br>Cluster=%{marker.color}<extra></extra>",
         "legendgroup": "43",
         "marker": {
          "color": [
           2
          ],
          "coloraxis": "coloraxis",
          "symbol": "diamond"
         },
         "mode": "markers",
         "name": "43",
         "scene": "scene",
         "showlegend": true,
         "type": "scatter3d",
         "x": [
          -1525.6209325931002
         ],
         "y": [
          1008.8956184156832
         ],
         "z": [
          -3299.080093154953
         ]
        },
        {
         "customdata": [
          [
           44
          ]
         ],
         "hovertemplate": "Sensor ID=%{customdata[0]}<br>Principal Component 1=%{x}<br>Principal Component 2=%{y}<br>Principal Component 3=%{z}<br>Cluster=%{marker.color}<extra></extra>",
         "legendgroup": "44",
         "marker": {
          "color": [
           0
          ],
          "coloraxis": "coloraxis",
          "symbol": "square"
         },
         "mode": "markers",
         "name": "44",
         "scene": "scene",
         "showlegend": true,
         "type": "scatter3d",
         "x": [
          -1226.812011504116
         ],
         "y": [
          -724.2806759229769
         ],
         "z": [
          -2517.506936016248
         ]
        },
        {
         "customdata": [
          [
           45
          ]
         ],
         "hovertemplate": "Sensor ID=%{customdata[0]}<br>Principal Component 1=%{x}<br>Principal Component 2=%{y}<br>Principal Component 3=%{z}<br>Cluster=%{marker.color}<extra></extra>",
         "legendgroup": "45",
         "marker": {
          "color": [
           0
          ],
          "coloraxis": "coloraxis",
          "symbol": "x"
         },
         "mode": "markers",
         "name": "45",
         "scene": "scene",
         "showlegend": true,
         "type": "scatter3d",
         "x": [
          -1921.9832170886
         ],
         "y": [
          -3218.3915176339965
         ],
         "z": [
          -134.19620196212242
         ]
        },
        {
         "customdata": [
          [
           46
          ]
         ],
         "hovertemplate": "Sensor ID=%{customdata[0]}<br>Principal Component 1=%{x}<br>Principal Component 2=%{y}<br>Principal Component 3=%{z}<br>Cluster=%{marker.color}<extra></extra>",
         "legendgroup": "46",
         "marker": {
          "color": [
           2
          ],
          "coloraxis": "coloraxis",
          "symbol": "cross"
         },
         "mode": "markers",
         "name": "46",
         "scene": "scene",
         "showlegend": true,
         "type": "scatter3d",
         "x": [
          -1913.8901067501895
         ],
         "y": [
          784.7384068300573
         ],
         "z": [
          -4227.980671885174
         ]
        },
        {
         "customdata": [
          [
           47
          ]
         ],
         "hovertemplate": "Sensor ID=%{customdata[0]}<br>Principal Component 1=%{x}<br>Principal Component 2=%{y}<br>Principal Component 3=%{z}<br>Cluster=%{marker.color}<extra></extra>",
         "legendgroup": "47",
         "marker": {
          "color": [
           0
          ],
          "coloraxis": "coloraxis",
          "symbol": "circle"
         },
         "mode": "markers",
         "name": "47",
         "scene": "scene",
         "showlegend": true,
         "type": "scatter3d",
         "x": [
          -2028.1536546241966
         ],
         "y": [
          -738.3416097902112
         ],
         "z": [
          974.8377508094314
         ]
        },
        {
         "customdata": [
          [
           48
          ]
         ],
         "hovertemplate": "Sensor ID=%{customdata[0]}<br>Principal Component 1=%{x}<br>Principal Component 2=%{y}<br>Principal Component 3=%{z}<br>Cluster=%{marker.color}<extra></extra>",
         "legendgroup": "48",
         "marker": {
          "color": [
           0
          ],
          "coloraxis": "coloraxis",
          "symbol": "diamond"
         },
         "mode": "markers",
         "name": "48",
         "scene": "scene",
         "showlegend": true,
         "type": "scatter3d",
         "x": [
          -2001.061228745714
         ],
         "y": [
          -2813.7850462003544
         ],
         "z": [
          1620.2032600299872
         ]
        },
        {
         "customdata": [
          [
           49
          ]
         ],
         "hovertemplate": "Sensor ID=%{customdata[0]}<br>Principal Component 1=%{x}<br>Principal Component 2=%{y}<br>Principal Component 3=%{z}<br>Cluster=%{marker.color}<extra></extra>",
         "legendgroup": "49",
         "marker": {
          "color": [
           0
          ],
          "coloraxis": "coloraxis",
          "symbol": "square"
         },
         "mode": "markers",
         "name": "49",
         "scene": "scene",
         "showlegend": true,
         "type": "scatter3d",
         "x": [
          -1725.020119333032
         ],
         "y": [
          -508.6729604205774
         ],
         "z": [
          402.58825934924266
         ]
        },
        {
         "customdata": [
          [
           50
          ]
         ],
         "hovertemplate": "Sensor ID=%{customdata[0]}<br>Principal Component 1=%{x}<br>Principal Component 2=%{y}<br>Principal Component 3=%{z}<br>Cluster=%{marker.color}<extra></extra>",
         "legendgroup": "50",
         "marker": {
          "color": [
           2
          ],
          "coloraxis": "coloraxis",
          "symbol": "x"
         },
         "mode": "markers",
         "name": "50",
         "scene": "scene",
         "showlegend": true,
         "type": "scatter3d",
         "x": [
          -1973.9726055355125
         ],
         "y": [
          647.8730770504288
         ],
         "z": [
          -1061.724347805277
         ]
        },
        {
         "customdata": [
          [
           51
          ]
         ],
         "hovertemplate": "Sensor ID=%{customdata[0]}<br>Principal Component 1=%{x}<br>Principal Component 2=%{y}<br>Principal Component 3=%{z}<br>Cluster=%{marker.color}<extra></extra>",
         "legendgroup": "51",
         "marker": {
          "color": [
           0
          ],
          "coloraxis": "coloraxis",
          "symbol": "cross"
         },
         "mode": "markers",
         "name": "51",
         "scene": "scene",
         "showlegend": true,
         "type": "scatter3d",
         "x": [
          -1943.250366999464
         ],
         "y": [
          -2382.0702473208985
         ],
         "z": [
          -2627.4175424997657
         ]
        },
        {
         "customdata": [
          [
           52
          ]
         ],
         "hovertemplate": "Sensor ID=%{customdata[0]}<br>Principal Component 1=%{x}<br>Principal Component 2=%{y}<br>Principal Component 3=%{z}<br>Cluster=%{marker.color}<extra></extra>",
         "legendgroup": "52",
         "marker": {
          "color": [
           0
          ],
          "coloraxis": "coloraxis",
          "symbol": "circle"
         },
         "mode": "markers",
         "name": "52",
         "scene": "scene",
         "showlegend": true,
         "type": "scatter3d",
         "x": [
          -1951.079799444198
         ],
         "y": [
          -1328.5389787581166
         ],
         "z": [
          -2878.389626819551
         ]
        },
        {
         "customdata": [
          [
           53
          ]
         ],
         "hovertemplate": "Sensor ID=%{customdata[0]}<br>Principal Component 1=%{x}<br>Principal Component 2=%{y}<br>Principal Component 3=%{z}<br>Cluster=%{marker.color}<extra></extra>",
         "legendgroup": "53",
         "marker": {
          "color": [
           0
          ],
          "coloraxis": "coloraxis",
          "symbol": "diamond"
         },
         "mode": "markers",
         "name": "53",
         "scene": "scene",
         "showlegend": true,
         "type": "scatter3d",
         "x": [
          -1870.1913314986546
         ],
         "y": [
          -3127.332889493591
         ],
         "z": [
          -646.3918144327449
         ]
        },
        {
         "customdata": [
          [
           54
          ]
         ],
         "hovertemplate": "Sensor ID=%{customdata[0]}<br>Principal Component 1=%{x}<br>Principal Component 2=%{y}<br>Principal Component 3=%{z}<br>Cluster=%{marker.color}<extra></extra>",
         "legendgroup": "54",
         "marker": {
          "color": [
           2
          ],
          "coloraxis": "coloraxis",
          "symbol": "square"
         },
         "mode": "markers",
         "name": "54",
         "scene": "scene",
         "showlegend": true,
         "type": "scatter3d",
         "x": [
          -1922.7296008074266
         ],
         "y": [
          1290.7588251081631
         ],
         "z": [
          -713.2062063362732
         ]
        },
        {
         "customdata": [
          [
           55
          ]
         ],
         "hovertemplate": "Sensor ID=%{customdata[0]}<br>Principal Component 1=%{x}<br>Principal Component 2=%{y}<br>Principal Component 3=%{z}<br>Cluster=%{marker.color}<extra></extra>",
         "legendgroup": "55",
         "marker": {
          "color": [
           2
          ],
          "coloraxis": "coloraxis",
          "symbol": "x"
         },
         "mode": "markers",
         "name": "55",
         "scene": "scene",
         "showlegend": true,
         "type": "scatter3d",
         "x": [
          -1215.4463874856606
         ],
         "y": [
          3206.748815717828
         ],
         "z": [
          598.6202886384976
         ]
        },
        {
         "customdata": [
          [
           56
          ]
         ],
         "hovertemplate": "Sensor ID=%{customdata[0]}<br>Principal Component 1=%{x}<br>Principal Component 2=%{y}<br>Principal Component 3=%{z}<br>Cluster=%{marker.color}<extra></extra>",
         "legendgroup": "56",
         "marker": {
          "color": [
           0
          ],
          "coloraxis": "coloraxis",
          "symbol": "cross"
         },
         "mode": "markers",
         "name": "56",
         "scene": "scene",
         "showlegend": true,
         "type": "scatter3d",
         "x": [
          -1738.8196196229871
         ],
         "y": [
          -1318.5589445795645
         ],
         "z": [
          -376.87554103604384
         ]
        },
        {
         "customdata": [
          [
           57
          ]
         ],
         "hovertemplate": "Sensor ID=%{customdata[0]}<br>Principal Component 1=%{x}<br>Principal Component 2=%{y}<br>Principal Component 3=%{z}<br>Cluster=%{marker.color}<extra></extra>",
         "legendgroup": "57",
         "marker": {
          "color": [
           1
          ],
          "coloraxis": "coloraxis",
          "symbol": "circle"
         },
         "mode": "markers",
         "name": "57",
         "scene": "scene",
         "showlegend": true,
         "type": "scatter3d",
         "x": [
          63768.8315550049
         ],
         "y": [
          -2598.0302063299587
         ],
         "z": [
          732.5373822218278
         ]
        },
        {
         "customdata": [
          [
           58
          ]
         ],
         "hovertemplate": "Sensor ID=%{customdata[0]}<br>Principal Component 1=%{x}<br>Principal Component 2=%{y}<br>Principal Component 3=%{z}<br>Cluster=%{marker.color}<extra></extra>",
         "legendgroup": "58",
         "marker": {
          "color": [
           3
          ],
          "coloraxis": "coloraxis",
          "symbol": "diamond"
         },
         "mode": "markers",
         "name": "58",
         "scene": "scene",
         "showlegend": true,
         "type": "scatter3d",
         "x": [
          -2058.3140973327977
         ],
         "y": [
          324.2914045646172
         ],
         "z": [
          2987.646801192613
         ]
        },
        {
         "customdata": [
          [
           59
          ]
         ],
         "hovertemplate": "Sensor ID=%{customdata[0]}<br>Principal Component 1=%{x}<br>Principal Component 2=%{y}<br>Principal Component 3=%{z}<br>Cluster=%{marker.color}<extra></extra>",
         "legendgroup": "59",
         "marker": {
          "color": [
           0
          ],
          "coloraxis": "coloraxis",
          "symbol": "square"
         },
         "mode": "markers",
         "name": "59",
         "scene": "scene",
         "showlegend": true,
         "type": "scatter3d",
         "x": [
          -1058.426608721987
         ],
         "y": [
          -2944.1431500856706
         ],
         "z": [
          -3826.831745484699
         ]
        },
        {
         "customdata": [
          [
           60
          ]
         ],
         "hovertemplate": "Sensor ID=%{customdata[0]}<br>Principal Component 1=%{x}<br>Principal Component 2=%{y}<br>Principal Component 3=%{z}<br>Cluster=%{marker.color}<extra></extra>",
         "legendgroup": "60",
         "marker": {
          "color": [
           3
          ],
          "coloraxis": "coloraxis",
          "symbol": "x"
         },
         "mode": "markers",
         "name": "60",
         "scene": "scene",
         "showlegend": true,
         "type": "scatter3d",
         "x": [
          -1936.9387060260556
         ],
         "y": [
          2306.561555657414
         ],
         "z": [
          2203.5469374608583
         ]
        },
        {
         "customdata": [
          [
           61
          ]
         ],
         "hovertemplate": "Sensor ID=%{customdata[0]}<br>Principal Component 1=%{x}<br>Principal Component 2=%{y}<br>Principal Component 3=%{z}<br>Cluster=%{marker.color}<extra></extra>",
         "legendgroup": "61",
         "marker": {
          "color": [
           0
          ],
          "coloraxis": "coloraxis",
          "symbol": "cross"
         },
         "mode": "markers",
         "name": "61",
         "scene": "scene",
         "showlegend": true,
         "type": "scatter3d",
         "x": [
          -2004.7510341259194
         ],
         "y": [
          -3762.68574581322
         ],
         "z": [
          1880.8669313570942
         ]
        },
        {
         "customdata": [
          [
           62
          ]
         ],
         "hovertemplate": "Sensor ID=%{customdata[0]}<br>Principal Component 1=%{x}<br>Principal Component 2=%{y}<br>Principal Component 3=%{z}<br>Cluster=%{marker.color}<extra></extra>",
         "legendgroup": "62",
         "marker": {
          "color": [
           2
          ],
          "coloraxis": "coloraxis",
          "symbol": "circle"
         },
         "mode": "markers",
         "name": "62",
         "scene": "scene",
         "showlegend": true,
         "type": "scatter3d",
         "x": [
          -1980.6337265744464
         ],
         "y": [
          1213.0488091127268
         ],
         "z": [
          -3261.431567899725
         ]
        },
        {
         "customdata": [
          [
           63
          ]
         ],
         "hovertemplate": "Sensor ID=%{customdata[0]}<br>Principal Component 1=%{x}<br>Principal Component 2=%{y}<br>Principal Component 3=%{z}<br>Cluster=%{marker.color}<extra></extra>",
         "legendgroup": "63",
         "marker": {
          "color": [
           2
          ],
          "coloraxis": "coloraxis",
          "symbol": "diamond"
         },
         "mode": "markers",
         "name": "63",
         "scene": "scene",
         "showlegend": true,
         "type": "scatter3d",
         "x": [
          -2061.686525580737
         ],
         "y": [
          2894.333371644042
         ],
         "z": [
          -180.04229195337422
         ]
        },
        {
         "customdata": [
          [
           64
          ]
         ],
         "hovertemplate": "Sensor ID=%{customdata[0]}<br>Principal Component 1=%{x}<br>Principal Component 2=%{y}<br>Principal Component 3=%{z}<br>Cluster=%{marker.color}<extra></extra>",
         "legendgroup": "64",
         "marker": {
          "color": [
           1
          ],
          "coloraxis": "coloraxis",
          "symbol": "square"
         },
         "mode": "markers",
         "name": "64",
         "scene": "scene",
         "showlegend": true,
         "type": "scatter3d",
         "x": [
          63970.189320765865
         ],
         "y": [
          2430.886947078958
         ],
         "z": [
          -562.9579523788682
         ]
        },
        {
         "customdata": [
          [
           65
          ]
         ],
         "hovertemplate": "Sensor ID=%{customdata[0]}<br>Principal Component 1=%{x}<br>Principal Component 2=%{y}<br>Principal Component 3=%{z}<br>Cluster=%{marker.color}<extra></extra>",
         "legendgroup": "65",
         "marker": {
          "color": [
           3
          ],
          "coloraxis": "coloraxis",
          "symbol": "x"
         },
         "mode": "markers",
         "name": "65",
         "scene": "scene",
         "showlegend": true,
         "type": "scatter3d",
         "x": [
          -1915.5707326103072
         ],
         "y": [
          4153.242340095277
         ],
         "z": [
          1836.3021409645248
         ]
        },
        {
         "customdata": [
          [
           66
          ]
         ],
         "hovertemplate": "Sensor ID=%{customdata[0]}<br>Principal Component 1=%{x}<br>Principal Component 2=%{y}<br>Principal Component 3=%{z}<br>Cluster=%{marker.color}<extra></extra>",
         "legendgroup": "66",
         "marker": {
          "color": [
           2
          ],
          "coloraxis": "coloraxis",
          "symbol": "cross"
         },
         "mode": "markers",
         "name": "66",
         "scene": "scene",
         "showlegend": true,
         "type": "scatter3d",
         "x": [
          -1162.0860877929276
         ],
         "y": [
          3067.096395715881
         ],
         "z": [
          -2598.396852230136
         ]
        },
        {
         "customdata": [
          [
           67
          ]
         ],
         "hovertemplate": "Sensor ID=%{customdata[0]}<br>Principal Component 1=%{x}<br>Principal Component 2=%{y}<br>Principal Component 3=%{z}<br>Cluster=%{marker.color}<extra></extra>",
         "legendgroup": "67",
         "marker": {
          "color": [
           0
          ],
          "coloraxis": "coloraxis",
          "symbol": "circle"
         },
         "mode": "markers",
         "name": "67",
         "scene": "scene",
         "showlegend": true,
         "type": "scatter3d",
         "x": [
          -1057.9641950686967
         ],
         "y": [
          -1574.306464580541
         ],
         "z": [
          338.36843573228185
         ]
        },
        {
         "customdata": [
          [
           68
          ]
         ],
         "hovertemplate": "Sensor ID=%{customdata[0]}<br>Principal Component 1=%{x}<br>Principal Component 2=%{y}<br>Principal Component 3=%{z}<br>Cluster=%{marker.color}<extra></extra>",
         "legendgroup": "68",
         "marker": {
          "color": [
           0
          ],
          "coloraxis": "coloraxis",
          "symbol": "diamond"
         },
         "mode": "markers",
         "name": "68",
         "scene": "scene",
         "showlegend": true,
         "type": "scatter3d",
         "x": [
          -2011.52926535527
         ],
         "y": [
          -2967.7525953262184
         ],
         "z": [
          2361.31804394866
         ]
        },
        {
         "customdata": [
          [
           69
          ]
         ],
         "hovertemplate": "Sensor ID=%{customdata[0]}<br>Principal Component 1=%{x}<br>Principal Component 2=%{y}<br>Principal Component 3=%{z}<br>Cluster=%{marker.color}<extra></extra>",
         "legendgroup": "69",
         "marker": {
          "color": [
           0
          ],
          "coloraxis": "coloraxis",
          "symbol": "square"
         },
         "mode": "markers",
         "name": "69",
         "scene": "scene",
         "showlegend": true,
         "type": "scatter3d",
         "x": [
          -1962.711546923848
         ],
         "y": [
          -1339.020259941658
         ],
         "z": [
          -108.3032465535111
         ]
        },
        {
         "customdata": [
          [
           70
          ]
         ],
         "hovertemplate": "Sensor ID=%{customdata[0]}<br>Principal Component 1=%{x}<br>Principal Component 2=%{y}<br>Principal Component 3=%{z}<br>Cluster=%{marker.color}<extra></extra>",
         "legendgroup": "70",
         "marker": {
          "color": [
           2
          ],
          "coloraxis": "coloraxis",
          "symbol": "x"
         },
         "mode": "markers",
         "name": "70",
         "scene": "scene",
         "showlegend": true,
         "type": "scatter3d",
         "x": [
          -1793.4708035700135
         ],
         "y": [
          1568.806702200511
         ],
         "z": [
          -4234.076694934792
         ]
        },
        {
         "customdata": [
          [
           71
          ]
         ],
         "hovertemplate": "Sensor ID=%{customdata[0]}<br>Principal Component 1=%{x}<br>Principal Component 2=%{y}<br>Principal Component 3=%{z}<br>Cluster=%{marker.color}<extra></extra>",
         "legendgroup": "71",
         "marker": {
          "color": [
           2
          ],
          "coloraxis": "coloraxis",
          "symbol": "cross"
         },
         "mode": "markers",
         "name": "71",
         "scene": "scene",
         "showlegend": true,
         "type": "scatter3d",
         "x": [
          -1658.2436159044798
         ],
         "y": [
          132.77865336566623
         ],
         "z": [
          -3441.760766805767
         ]
        },
        {
         "customdata": [
          [
           72
          ]
         ],
         "hovertemplate": "Sensor ID=%{customdata[0]}<br>Principal Component 1=%{x}<br>Principal Component 2=%{y}<br>Principal Component 3=%{z}<br>Cluster=%{marker.color}<extra></extra>",
         "legendgroup": "72",
         "marker": {
          "color": [
           0
          ],
          "coloraxis": "coloraxis",
          "symbol": "circle"
         },
         "mode": "markers",
         "name": "72",
         "scene": "scene",
         "showlegend": true,
         "type": "scatter3d",
         "x": [
          -2009.7858587431563
         ],
         "y": [
          -2691.268677989799
         ],
         "z": [
          -1133.201021948845
         ]
        },
        {
         "customdata": [
          [
           73
          ]
         ],
         "hovertemplate": "Sensor ID=%{customdata[0]}<br>Principal Component 1=%{x}<br>Principal Component 2=%{y}<br>Principal Component 3=%{z}<br>Cluster=%{marker.color}<extra></extra>",
         "legendgroup": "73",
         "marker": {
          "color": [
           0
          ],
          "coloraxis": "coloraxis",
          "symbol": "diamond"
         },
         "mode": "markers",
         "name": "73",
         "scene": "scene",
         "showlegend": true,
         "type": "scatter3d",
         "x": [
          -1826.5703496424217
         ],
         "y": [
          -2389.677323913392
         ],
         "z": [
          -2669.1348975332535
         ]
        },
        {
         "customdata": [
          [
           74
          ]
         ],
         "hovertemplate": "Sensor ID=%{customdata[0]}<br>Principal Component 1=%{x}<br>Principal Component 2=%{y}<br>Principal Component 3=%{z}<br>Cluster=%{marker.color}<extra></extra>",
         "legendgroup": "74",
         "marker": {
          "color": [
           2
          ],
          "coloraxis": "coloraxis",
          "symbol": "square"
         },
         "mode": "markers",
         "name": "74",
         "scene": "scene",
         "showlegend": true,
         "type": "scatter3d",
         "x": [
          -1105.0225103979703
         ],
         "y": [
          1092.1996044223022
         ],
         "z": [
          -1137.0876476427266
         ]
        },
        {
         "customdata": [
          [
           75
          ]
         ],
         "hovertemplate": "Sensor ID=%{customdata[0]}<br>Principal Component 1=%{x}<br>Principal Component 2=%{y}<br>Principal Component 3=%{z}<br>Cluster=%{marker.color}<extra></extra>",
         "legendgroup": "75",
         "marker": {
          "color": [
           0
          ],
          "coloraxis": "coloraxis",
          "symbol": "x"
         },
         "mode": "markers",
         "name": "75",
         "scene": "scene",
         "showlegend": true,
         "type": "scatter3d",
         "x": [
          -1729.7303223431902
         ],
         "y": [
          -3967.379524571783
         ],
         "z": [
          -919.9054121164461
         ]
        },
        {
         "customdata": [
          [
           76
          ]
         ],
         "hovertemplate": "Sensor ID=%{customdata[0]}<br>Principal Component 1=%{x}<br>Principal Component 2=%{y}<br>Principal Component 3=%{z}<br>Cluster=%{marker.color}<extra></extra>",
         "legendgroup": "76",
         "marker": {
          "color": [
           3
          ],
          "coloraxis": "coloraxis",
          "symbol": "cross"
         },
         "mode": "markers",
         "name": "76",
         "scene": "scene",
         "showlegend": true,
         "type": "scatter3d",
         "x": [
          -2006.6018456575157
         ],
         "y": [
          -1494.3177901712352
         ],
         "z": [
          10157.626442139888
         ]
        },
        {
         "customdata": [
          [
           77
          ]
         ],
         "hovertemplate": "Sensor ID=%{customdata[0]}<br>Principal Component 1=%{x}<br>Principal Component 2=%{y}<br>Principal Component 3=%{z}<br>Cluster=%{marker.color}<extra></extra>",
         "legendgroup": "77",
         "marker": {
          "color": [
           3
          ],
          "coloraxis": "coloraxis",
          "symbol": "circle"
         },
         "mode": "markers",
         "name": "77",
         "scene": "scene",
         "showlegend": true,
         "type": "scatter3d",
         "x": [
          -1851.7058714469956
         ],
         "y": [
          799.91575902141
         ],
         "z": [
          2252.39494697888
         ]
        },
        {
         "customdata": [
          [
           78
          ]
         ],
         "hovertemplate": "Sensor ID=%{customdata[0]}<br>Principal Component 1=%{x}<br>Principal Component 2=%{y}<br>Principal Component 3=%{z}<br>Cluster=%{marker.color}<extra></extra>",
         "legendgroup": "78",
         "marker": {
          "color": [
           3
          ],
          "coloraxis": "coloraxis",
          "symbol": "diamond"
         },
         "mode": "markers",
         "name": "78",
         "scene": "scene",
         "showlegend": true,
         "type": "scatter3d",
         "x": [
          -1614.2748855707293
         ],
         "y": [
          930.3585339502933
         ],
         "z": [
          1916.0728820032853
         ]
        },
        {
         "customdata": [
          [
           79
          ]
         ],
         "hovertemplate": "Sensor ID=%{customdata[0]}<br>Principal Component 1=%{x}<br>Principal Component 2=%{y}<br>Principal Component 3=%{z}<br>Cluster=%{marker.color}<extra></extra>",
         "legendgroup": "79",
         "marker": {
          "color": [
           0
          ],
          "coloraxis": "coloraxis",
          "symbol": "square"
         },
         "mode": "markers",
         "name": "79",
         "scene": "scene",
         "showlegend": true,
         "type": "scatter3d",
         "x": [
          -1874.7082314121287
         ],
         "y": [
          -1950.2202990835592
         ],
         "z": [
          -308.9031164175987
         ]
        },
        {
         "customdata": [
          [
           80
          ]
         ],
         "hovertemplate": "Sensor ID=%{customdata[0]}<br>Principal Component 1=%{x}<br>Principal Component 2=%{y}<br>Principal Component 3=%{z}<br>Cluster=%{marker.color}<extra></extra>",
         "legendgroup": "80",
         "marker": {
          "color": [
           2
          ],
          "coloraxis": "coloraxis",
          "symbol": "x"
         },
         "mode": "markers",
         "name": "80",
         "scene": "scene",
         "showlegend": true,
         "type": "scatter3d",
         "x": [
          -1176.169108986504
         ],
         "y": [
          2826.92325738252
         ],
         "z": [
          -4044.0398827395534
         ]
        },
        {
         "customdata": [
          [
           81
          ]
         ],
         "hovertemplate": "Sensor ID=%{customdata[0]}<br>Principal Component 1=%{x}<br>Principal Component 2=%{y}<br>Principal Component 3=%{z}<br>Cluster=%{marker.color}<extra></extra>",
         "legendgroup": "81",
         "marker": {
          "color": [
           3
          ],
          "coloraxis": "coloraxis",
          "symbol": "cross"
         },
         "mode": "markers",
         "name": "81",
         "scene": "scene",
         "showlegend": true,
         "type": "scatter3d",
         "x": [
          -1785.8522430184896
         ],
         "y": [
          2835.8712012652063
         ],
         "z": [
          1840.530228132666
         ]
        },
        {
         "customdata": [
          [
           82
          ]
         ],
         "hovertemplate": "Sensor ID=%{customdata[0]}<br>Principal Component 1=%{x}<br>Principal Component 2=%{y}<br>Principal Component 3=%{z}<br>Cluster=%{marker.color}<extra></extra>",
         "legendgroup": "82",
         "marker": {
          "color": [
           0
          ],
          "coloraxis": "coloraxis",
          "symbol": "circle"
         },
         "mode": "markers",
         "name": "82",
         "scene": "scene",
         "showlegend": true,
         "type": "scatter3d",
         "x": [
          -1091.898188870297
         ],
         "y": [
          -3820.392972332226
         ],
         "z": [
          -819.9265751362883
         ]
        },
        {
         "customdata": [
          [
           83
          ]
         ],
         "hovertemplate": "Sensor ID=%{customdata[0]}<br>Principal Component 1=%{x}<br>Principal Component 2=%{y}<br>Principal Component 3=%{z}<br>Cluster=%{marker.color}<extra></extra>",
         "legendgroup": "83",
         "marker": {
          "color": [
           2
          ],
          "coloraxis": "coloraxis",
          "symbol": "diamond"
         },
         "mode": "markers",
         "name": "83",
         "scene": "scene",
         "showlegend": true,
         "type": "scatter3d",
         "x": [
          -1928.3383231118005
         ],
         "y": [
          -794.5876354716136
         ],
         "z": [
          -4270.810871823127
         ]
        },
        {
         "customdata": [
          [
           84
          ]
         ],
         "hovertemplate": "Sensor ID=%{customdata[0]}<br>Principal Component 1=%{x}<br>Principal Component 2=%{y}<br>Principal Component 3=%{z}<br>Cluster=%{marker.color}<extra></extra>",
         "legendgroup": "84",
         "marker": {
          "color": [
           0
          ],
          "coloraxis": "coloraxis",
          "symbol": "square"
         },
         "mode": "markers",
         "name": "84",
         "scene": "scene",
         "showlegend": true,
         "type": "scatter3d",
         "x": [
          -1343.7332717486704
         ],
         "y": [
          -117.03995742957638
         ],
         "z": [
          177.80864589515423
         ]
        },
        {
         "customdata": [
          [
           85
          ]
         ],
         "hovertemplate": "Sensor ID=%{customdata[0]}<br>Principal Component 1=%{x}<br>Principal Component 2=%{y}<br>Principal Component 3=%{z}<br>Cluster=%{marker.color}<extra></extra>",
         "legendgroup": "85",
         "marker": {
          "color": [
           0
          ],
          "coloraxis": "coloraxis",
          "symbol": "x"
         },
         "mode": "markers",
         "name": "85",
         "scene": "scene",
         "showlegend": true,
         "type": "scatter3d",
         "x": [
          -1799.420649458818
         ],
         "y": [
          -2720.2267382099794
         ],
         "z": [
          1384.111559177643
         ]
        },
        {
         "customdata": [
          [
           86
          ]
         ],
         "hovertemplate": "Sensor ID=%{customdata[0]}<br>Principal Component 1=%{x}<br>Principal Component 2=%{y}<br>Principal Component 3=%{z}<br>Cluster=%{marker.color}<extra></extra>",
         "legendgroup": "86",
         "marker": {
          "color": [
           2
          ],
          "coloraxis": "coloraxis",
          "symbol": "cross"
         },
         "mode": "markers",
         "name": "86",
         "scene": "scene",
         "showlegend": true,
         "type": "scatter3d",
         "x": [
          -1802.9330125359577
         ],
         "y": [
          1086.8608929347954
         ],
         "z": [
          27.46561270492073
         ]
        },
        {
         "customdata": [
          [
           87
          ]
         ],
         "hovertemplate": "Sensor ID=%{customdata[0]}<br>Principal Component 1=%{x}<br>Principal Component 2=%{y}<br>Principal Component 3=%{z}<br>Cluster=%{marker.color}<extra></extra>",
         "legendgroup": "87",
         "marker": {
          "color": [
           2
          ],
          "coloraxis": "coloraxis",
          "symbol": "circle"
         },
         "mode": "markers",
         "name": "87",
         "scene": "scene",
         "showlegend": true,
         "type": "scatter3d",
         "x": [
          -1962.4676252659663
         ],
         "y": [
          748.3941375048928
         ],
         "z": [
          -1266.614484461127
         ]
        },
        {
         "customdata": [
          [
           88
          ]
         ],
         "hovertemplate": "Sensor ID=%{customdata[0]}<br>Principal Component 1=%{x}<br>Principal Component 2=%{y}<br>Principal Component 3=%{z}<br>Cluster=%{marker.color}<extra></extra>",
         "legendgroup": "88",
         "marker": {
          "color": [
           2
          ],
          "coloraxis": "coloraxis",
          "symbol": "diamond"
         },
         "mode": "markers",
         "name": "88",
         "scene": "scene",
         "showlegend": true,
         "type": "scatter3d",
         "x": [
          -2187.317594855565
         ],
         "y": [
          809.0476529046808
         ],
         "z": [
          -1204.5581590318602
         ]
        },
        {
         "customdata": [
          [
           89
          ]
         ],
         "hovertemplate": "Sensor ID=%{customdata[0]}<br>Principal Component 1=%{x}<br>Principal Component 2=%{y}<br>Principal Component 3=%{z}<br>Cluster=%{marker.color}<extra></extra>",
         "legendgroup": "89",
         "marker": {
          "color": [
           3
          ],
          "coloraxis": "coloraxis",
          "symbol": "square"
         },
         "mode": "markers",
         "name": "89",
         "scene": "scene",
         "showlegend": true,
         "type": "scatter3d",
         "x": [
          -1156.3527200191197
         ],
         "y": [
          6193.881494973452
         ],
         "z": [
          3056.1807996412163
         ]
        },
        {
         "customdata": [
          [
           90
          ]
         ],
         "hovertemplate": "Sensor ID=%{customdata[0]}<br>Principal Component 1=%{x}<br>Principal Component 2=%{y}<br>Principal Component 3=%{z}<br>Cluster=%{marker.color}<extra></extra>",
         "legendgroup": "90",
         "marker": {
          "color": [
           3
          ],
          "coloraxis": "coloraxis",
          "symbol": "x"
         },
         "mode": "markers",
         "name": "90",
         "scene": "scene",
         "showlegend": true,
         "type": "scatter3d",
         "x": [
          -1676.3436154045346
         ],
         "y": [
          720.8030058768333
         ],
         "z": [
          2578.3602486533186
         ]
        },
        {
         "customdata": [
          [
           91
          ]
         ],
         "hovertemplate": "Sensor ID=%{customdata[0]}<br>Principal Component 1=%{x}<br>Principal Component 2=%{y}<br>Principal Component 3=%{z}<br>Cluster=%{marker.color}<extra></extra>",
         "legendgroup": "91",
         "marker": {
          "color": [
           3
          ],
          "coloraxis": "coloraxis",
          "symbol": "cross"
         },
         "mode": "markers",
         "name": "91",
         "scene": "scene",
         "showlegend": true,
         "type": "scatter3d",
         "x": [
          -2020.2966937420385
         ],
         "y": [
          829.9759174260054
         ],
         "z": [
          1089.6454617376785
         ]
        },
        {
         "customdata": [
          [
           92
          ]
         ],
         "hovertemplate": "Sensor ID=%{customdata[0]}<br>Principal Component 1=%{x}<br>Principal Component 2=%{y}<br>Principal Component 3=%{z}<br>Cluster=%{marker.color}<extra></extra>",
         "legendgroup": "92",
         "marker": {
          "color": [
           2
          ],
          "coloraxis": "coloraxis",
          "symbol": "circle"
         },
         "mode": "markers",
         "name": "92",
         "scene": "scene",
         "showlegend": true,
         "type": "scatter3d",
         "x": [
          -984.4659959548853
         ],
         "y": [
          2831.23635849698
         ],
         "z": [
          -1303.464475816534
         ]
        },
        {
         "customdata": [
          [
           93
          ]
         ],
         "hovertemplate": "Sensor ID=%{customdata[0]}<br>Principal Component 1=%{x}<br>Principal Component 2=%{y}<br>Principal Component 3=%{z}<br>Cluster=%{marker.color}<extra></extra>",
         "legendgroup": "93",
         "marker": {
          "color": [
           2
          ],
          "coloraxis": "coloraxis",
          "symbol": "diamond"
         },
         "mode": "markers",
         "name": "93",
         "scene": "scene",
         "showlegend": true,
         "type": "scatter3d",
         "x": [
          -1809.7150058521108
         ],
         "y": [
          2265.7960777378107
         ],
         "z": [
          -199.09268315676897
         ]
        },
        {
         "customdata": [
          [
           94
          ]
         ],
         "hovertemplate": "Sensor ID=%{customdata[0]}<br>Principal Component 1=%{x}<br>Principal Component 2=%{y}<br>Principal Component 3=%{z}<br>Cluster=%{marker.color}<extra></extra>",
         "legendgroup": "94",
         "marker": {
          "color": [
           2
          ],
          "coloraxis": "coloraxis",
          "symbol": "square"
         },
         "mode": "markers",
         "name": "94",
         "scene": "scene",
         "showlegend": true,
         "type": "scatter3d",
         "x": [
          -2042.2749848484489
         ],
         "y": [
          -41.17095668214907
         ],
         "z": [
          -1105.66232051373
         ]
        },
        {
         "customdata": [
          [
           95
          ]
         ],
         "hovertemplate": "Sensor ID=%{customdata[0]}<br>Principal Component 1=%{x}<br>Principal Component 2=%{y}<br>Principal Component 3=%{z}<br>Cluster=%{marker.color}<extra></extra>",
         "legendgroup": "95",
         "marker": {
          "color": [
           2
          ],
          "coloraxis": "coloraxis",
          "symbol": "x"
         },
         "mode": "markers",
         "name": "95",
         "scene": "scene",
         "showlegend": true,
         "type": "scatter3d",
         "x": [
          -1896.1914663263756
         ],
         "y": [
          646.1470550633846
         ],
         "z": [
          -462.52935391730625
         ]
        },
        {
         "customdata": [
          [
           96
          ]
         ],
         "hovertemplate": "Sensor ID=%{customdata[0]}<br>Principal Component 1=%{x}<br>Principal Component 2=%{y}<br>Principal Component 3=%{z}<br>Cluster=%{marker.color}<extra></extra>",
         "legendgroup": "96",
         "marker": {
          "color": [
           2
          ],
          "coloraxis": "coloraxis",
          "symbol": "cross"
         },
         "mode": "markers",
         "name": "96",
         "scene": "scene",
         "showlegend": true,
         "type": "scatter3d",
         "x": [
          -1742.2309785309067
         ],
         "y": [
          784.5508863981705
         ],
         "z": [
          -627.4408246973
         ]
        },
        {
         "customdata": [
          [
           97
          ]
         ],
         "hovertemplate": "Sensor ID=%{customdata[0]}<br>Principal Component 1=%{x}<br>Principal Component 2=%{y}<br>Principal Component 3=%{z}<br>Cluster=%{marker.color}<extra></extra>",
         "legendgroup": "97",
         "marker": {
          "color": [
           0
          ],
          "coloraxis": "coloraxis",
          "symbol": "circle"
         },
         "mode": "markers",
         "name": "97",
         "scene": "scene",
         "showlegend": true,
         "type": "scatter3d",
         "x": [
          -2003.4852723148506
         ],
         "y": [
          -2911.4256082877164
         ],
         "z": [
          1099.221948396416
         ]
        },
        {
         "customdata": [
          [
           98
          ]
         ],
         "hovertemplate": "Sensor ID=%{customdata[0]}<br>Principal Component 1=%{x}<br>Principal Component 2=%{y}<br>Principal Component 3=%{z}<br>Cluster=%{marker.color}<extra></extra>",
         "legendgroup": "98",
         "marker": {
          "color": [
           0
          ],
          "coloraxis": "coloraxis",
          "symbol": "diamond"
         },
         "mode": "markers",
         "name": "98",
         "scene": "scene",
         "showlegend": true,
         "type": "scatter3d",
         "x": [
          -1843.8304350934593
         ],
         "y": [
          -3180.1945416960016
         ],
         "z": [
          -748.6993815085519
         ]
        },
        {
         "customdata": [
          [
           99
          ]
         ],
         "hovertemplate": "Sensor ID=%{customdata[0]}<br>Principal Component 1=%{x}<br>Principal Component 2=%{y}<br>Principal Component 3=%{z}<br>Cluster=%{marker.color}<extra></extra>",
         "legendgroup": "99",
         "marker": {
          "color": [
           3
          ],
          "coloraxis": "coloraxis",
          "symbol": "square"
         },
         "mode": "markers",
         "name": "99",
         "scene": "scene",
         "showlegend": true,
         "type": "scatter3d",
         "x": [
          -996.4269516115093
         ],
         "y": [
          -571.7770525107104
         ],
         "z": [
          2169.3772898121715
         ]
        },
        {
         "customdata": [
          [
           100
          ]
         ],
         "hovertemplate": "Sensor ID=%{customdata[0]}<br>Principal Component 1=%{x}<br>Principal Component 2=%{y}<br>Principal Component 3=%{z}<br>Cluster=%{marker.color}<extra></extra>",
         "legendgroup": "100",
         "marker": {
          "color": [
           2
          ],
          "coloraxis": "coloraxis",
          "symbol": "x"
         },
         "mode": "markers",
         "name": "100",
         "scene": "scene",
         "showlegend": true,
         "type": "scatter3d",
         "x": [
          -2114.2111741973913
         ],
         "y": [
          1705.90920036557
         ],
         "z": [
          -1958.5179141792564
         ]
        },
        {
         "customdata": [
          [
           101
          ]
         ],
         "hovertemplate": "Sensor ID=%{customdata[0]}<br>Principal Component 1=%{x}<br>Principal Component 2=%{y}<br>Principal Component 3=%{z}<br>Cluster=%{marker.color}<extra></extra>",
         "legendgroup": "101",
         "marker": {
          "color": [
           3
          ],
          "coloraxis": "coloraxis",
          "symbol": "cross"
         },
         "mode": "markers",
         "name": "101",
         "scene": "scene",
         "showlegend": true,
         "type": "scatter3d",
         "x": [
          -1003.9695302369394
         ],
         "y": [
          -75.4073033484211
         ],
         "z": [
          3824.425074370578
         ]
        },
        {
         "customdata": [
          [
           102
          ]
         ],
         "hovertemplate": "Sensor ID=%{customdata[0]}<br>Principal Component 1=%{x}<br>Principal Component 2=%{y}<br>Principal Component 3=%{z}<br>Cluster=%{marker.color}<extra></extra>",
         "legendgroup": "102",
         "marker": {
          "color": [
           3
          ],
          "coloraxis": "coloraxis",
          "symbol": "circle"
         },
         "mode": "markers",
         "name": "102",
         "scene": "scene",
         "showlegend": true,
         "type": "scatter3d",
         "x": [
          -1939.5139948808658
         ],
         "y": [
          -546.2616588811114
         ],
         "z": [
          3017.0060826837685
         ]
        },
        {
         "customdata": [
          [
           103
          ]
         ],
         "hovertemplate": "Sensor ID=%{customdata[0]}<br>Principal Component 1=%{x}<br>Principal Component 2=%{y}<br>Principal Component 3=%{z}<br>Cluster=%{marker.color}<extra></extra>",
         "legendgroup": "103",
         "marker": {
          "color": [
           3
          ],
          "coloraxis": "coloraxis",
          "symbol": "diamond"
         },
         "mode": "markers",
         "name": "103",
         "scene": "scene",
         "showlegend": true,
         "type": "scatter3d",
         "x": [
          -2096.0152661582824
         ],
         "y": [
          -1522.2586249919848
         ],
         "z": [
          2888.228245382088
         ]
        },
        {
         "customdata": [
          [
           104
          ]
         ],
         "hovertemplate": "Sensor ID=%{customdata[0]}<br>Principal Component 1=%{x}<br>Principal Component 2=%{y}<br>Principal Component 3=%{z}<br>Cluster=%{marker.color}<extra></extra>",
         "legendgroup": "104",
         "marker": {
          "color": [
           2
          ],
          "coloraxis": "coloraxis",
          "symbol": "square"
         },
         "mode": "markers",
         "name": "104",
         "scene": "scene",
         "showlegend": true,
         "type": "scatter3d",
         "x": [
          -925.8640689257784
         ],
         "y": [
          1423.7349266596325
         ],
         "z": [
          -721.2720735863804
         ]
        },
        {
         "customdata": [
          [
           105
          ]
         ],
         "hovertemplate": "Sensor ID=%{customdata[0]}<br>Principal Component 1=%{x}<br>Principal Component 2=%{y}<br>Principal Component 3=%{z}<br>Cluster=%{marker.color}<extra></extra>",
         "legendgroup": "105",
         "marker": {
          "color": [
           3
          ],
          "coloraxis": "coloraxis",
          "symbol": "x"
         },
         "mode": "markers",
         "name": "105",
         "scene": "scene",
         "showlegend": true,
         "type": "scatter3d",
         "x": [
          -1906.3088417969273
         ],
         "y": [
          -1069.7909379495993
         ],
         "z": [
          3290.9636595884162
         ]
        },
        {
         "customdata": [
          [
           106
          ]
         ],
         "hovertemplate": "Sensor ID=%{customdata[0]}<br>Principal Component 1=%{x}<br>Principal Component 2=%{y}<br>Principal Component 3=%{z}<br>Cluster=%{marker.color}<extra></extra>",
         "legendgroup": "106",
         "marker": {
          "color": [
           2
          ],
          "coloraxis": "coloraxis",
          "symbol": "cross"
         },
         "mode": "markers",
         "name": "106",
         "scene": "scene",
         "showlegend": true,
         "type": "scatter3d",
         "x": [
          -1212.7699227639414
         ],
         "y": [
          1608.3887777612829
         ],
         "z": [
          -448.8579960047892
         ]
        },
        {
         "customdata": [
          [
           107
          ]
         ],
         "hovertemplate": "Sensor ID=%{customdata[0]}<br>Principal Component 1=%{x}<br>Principal Component 2=%{y}<br>Principal Component 3=%{z}<br>Cluster=%{marker.color}<extra></extra>",
         "legendgroup": "107",
         "marker": {
          "color": [
           3
          ],
          "coloraxis": "coloraxis",
          "symbol": "circle"
         },
         "mode": "markers",
         "name": "107",
         "scene": "scene",
         "showlegend": true,
         "type": "scatter3d",
         "x": [
          -1813.8549099887184
         ],
         "y": [
          961.7948748382978
         ],
         "z": [
          2896.8548975523545
         ]
        },
        {
         "customdata": [
          [
           108
          ]
         ],
         "hovertemplate": "Sensor ID=%{customdata[0]}<br>Principal Component 1=%{x}<br>Principal Component 2=%{y}<br>Principal Component 3=%{z}<br>Cluster=%{marker.color}<extra></extra>",
         "legendgroup": "108",
         "marker": {
          "color": [
           3
          ],
          "coloraxis": "coloraxis",
          "symbol": "diamond"
         },
         "mode": "markers",
         "name": "108",
         "scene": "scene",
         "showlegend": true,
         "type": "scatter3d",
         "x": [
          -1865.0790261283219
         ],
         "y": [
          -258.9494300233125
         ],
         "z": [
          823.2599012418941
         ]
        }
       ],
       "layout": {
        "coloraxis": {
         "colorbar": {
          "title": {
           "text": "Cluster"
          }
         },
         "colorscale": [
          [
           0,
           "#0d0887"
          ],
          [
           0.1111111111111111,
           "#46039f"
          ],
          [
           0.2222222222222222,
           "#7201a8"
          ],
          [
           0.3333333333333333,
           "#9c179e"
          ],
          [
           0.4444444444444444,
           "#bd3786"
          ],
          [
           0.5555555555555556,
           "#d8576b"
          ],
          [
           0.6666666666666666,
           "#ed7953"
          ],
          [
           0.7777777777777778,
           "#fb9f3a"
          ],
          [
           0.8888888888888888,
           "#fdca26"
          ],
          [
           1,
           "#f0f921"
          ]
         ]
        },
        "legend": {
         "title": {
          "text": "Sensor ID"
         },
         "tracegroupgap": 0
        },
        "scene": {
         "domain": {
          "x": [
           0,
           1
          ],
          "y": [
           0,
           1
          ]
         },
         "xaxis": {
          "title": {
           "text": "Principal Component 1"
          }
         },
         "yaxis": {
          "title": {
           "text": "Principal Component 2"
          }
         },
         "zaxis": {
          "title": {
           "text": "Principal Component 3"
          }
         }
        },
        "template": {
         "data": {
          "bar": [
           {
            "error_x": {
             "color": "#2a3f5f"
            },
            "error_y": {
             "color": "#2a3f5f"
            },
            "marker": {
             "line": {
              "color": "#E5ECF6",
              "width": 0.5
             },
             "pattern": {
              "fillmode": "overlay",
              "size": 10,
              "solidity": 0.2
             }
            },
            "type": "bar"
           }
          ],
          "barpolar": [
           {
            "marker": {
             "line": {
              "color": "#E5ECF6",
              "width": 0.5
             },
             "pattern": {
              "fillmode": "overlay",
              "size": 10,
              "solidity": 0.2
             }
            },
            "type": "barpolar"
           }
          ],
          "carpet": [
           {
            "aaxis": {
             "endlinecolor": "#2a3f5f",
             "gridcolor": "white",
             "linecolor": "white",
             "minorgridcolor": "white",
             "startlinecolor": "#2a3f5f"
            },
            "baxis": {
             "endlinecolor": "#2a3f5f",
             "gridcolor": "white",
             "linecolor": "white",
             "minorgridcolor": "white",
             "startlinecolor": "#2a3f5f"
            },
            "type": "carpet"
           }
          ],
          "choropleth": [
           {
            "colorbar": {
             "outlinewidth": 0,
             "ticks": ""
            },
            "type": "choropleth"
           }
          ],
          "contour": [
           {
            "colorbar": {
             "outlinewidth": 0,
             "ticks": ""
            },
            "colorscale": [
             [
              0,
              "#0d0887"
             ],
             [
              0.1111111111111111,
              "#46039f"
             ],
             [
              0.2222222222222222,
              "#7201a8"
             ],
             [
              0.3333333333333333,
              "#9c179e"
             ],
             [
              0.4444444444444444,
              "#bd3786"
             ],
             [
              0.5555555555555556,
              "#d8576b"
             ],
             [
              0.6666666666666666,
              "#ed7953"
             ],
             [
              0.7777777777777778,
              "#fb9f3a"
             ],
             [
              0.8888888888888888,
              "#fdca26"
             ],
             [
              1,
              "#f0f921"
             ]
            ],
            "type": "contour"
           }
          ],
          "contourcarpet": [
           {
            "colorbar": {
             "outlinewidth": 0,
             "ticks": ""
            },
            "type": "contourcarpet"
           }
          ],
          "heatmap": [
           {
            "colorbar": {
             "outlinewidth": 0,
             "ticks": ""
            },
            "colorscale": [
             [
              0,
              "#0d0887"
             ],
             [
              0.1111111111111111,
              "#46039f"
             ],
             [
              0.2222222222222222,
              "#7201a8"
             ],
             [
              0.3333333333333333,
              "#9c179e"
             ],
             [
              0.4444444444444444,
              "#bd3786"
             ],
             [
              0.5555555555555556,
              "#d8576b"
             ],
             [
              0.6666666666666666,
              "#ed7953"
             ],
             [
              0.7777777777777778,
              "#fb9f3a"
             ],
             [
              0.8888888888888888,
              "#fdca26"
             ],
             [
              1,
              "#f0f921"
             ]
            ],
            "type": "heatmap"
           }
          ],
          "heatmapgl": [
           {
            "colorbar": {
             "outlinewidth": 0,
             "ticks": ""
            },
            "colorscale": [
             [
              0,
              "#0d0887"
             ],
             [
              0.1111111111111111,
              "#46039f"
             ],
             [
              0.2222222222222222,
              "#7201a8"
             ],
             [
              0.3333333333333333,
              "#9c179e"
             ],
             [
              0.4444444444444444,
              "#bd3786"
             ],
             [
              0.5555555555555556,
              "#d8576b"
             ],
             [
              0.6666666666666666,
              "#ed7953"
             ],
             [
              0.7777777777777778,
              "#fb9f3a"
             ],
             [
              0.8888888888888888,
              "#fdca26"
             ],
             [
              1,
              "#f0f921"
             ]
            ],
            "type": "heatmapgl"
           }
          ],
          "histogram": [
           {
            "marker": {
             "pattern": {
              "fillmode": "overlay",
              "size": 10,
              "solidity": 0.2
             }
            },
            "type": "histogram"
           }
          ],
          "histogram2d": [
           {
            "colorbar": {
             "outlinewidth": 0,
             "ticks": ""
            },
            "colorscale": [
             [
              0,
              "#0d0887"
             ],
             [
              0.1111111111111111,
              "#46039f"
             ],
             [
              0.2222222222222222,
              "#7201a8"
             ],
             [
              0.3333333333333333,
              "#9c179e"
             ],
             [
              0.4444444444444444,
              "#bd3786"
             ],
             [
              0.5555555555555556,
              "#d8576b"
             ],
             [
              0.6666666666666666,
              "#ed7953"
             ],
             [
              0.7777777777777778,
              "#fb9f3a"
             ],
             [
              0.8888888888888888,
              "#fdca26"
             ],
             [
              1,
              "#f0f921"
             ]
            ],
            "type": "histogram2d"
           }
          ],
          "histogram2dcontour": [
           {
            "colorbar": {
             "outlinewidth": 0,
             "ticks": ""
            },
            "colorscale": [
             [
              0,
              "#0d0887"
             ],
             [
              0.1111111111111111,
              "#46039f"
             ],
             [
              0.2222222222222222,
              "#7201a8"
             ],
             [
              0.3333333333333333,
              "#9c179e"
             ],
             [
              0.4444444444444444,
              "#bd3786"
             ],
             [
              0.5555555555555556,
              "#d8576b"
             ],
             [
              0.6666666666666666,
              "#ed7953"
             ],
             [
              0.7777777777777778,
              "#fb9f3a"
             ],
             [
              0.8888888888888888,
              "#fdca26"
             ],
             [
              1,
              "#f0f921"
             ]
            ],
            "type": "histogram2dcontour"
           }
          ],
          "mesh3d": [
           {
            "colorbar": {
             "outlinewidth": 0,
             "ticks": ""
            },
            "type": "mesh3d"
           }
          ],
          "parcoords": [
           {
            "line": {
             "colorbar": {
              "outlinewidth": 0,
              "ticks": ""
             }
            },
            "type": "parcoords"
           }
          ],
          "pie": [
           {
            "automargin": true,
            "type": "pie"
           }
          ],
          "scatter": [
           {
            "fillpattern": {
             "fillmode": "overlay",
             "size": 10,
             "solidity": 0.2
            },
            "type": "scatter"
           }
          ],
          "scatter3d": [
           {
            "line": {
             "colorbar": {
              "outlinewidth": 0,
              "ticks": ""
             }
            },
            "marker": {
             "colorbar": {
              "outlinewidth": 0,
              "ticks": ""
             }
            },
            "type": "scatter3d"
           }
          ],
          "scattercarpet": [
           {
            "marker": {
             "colorbar": {
              "outlinewidth": 0,
              "ticks": ""
             }
            },
            "type": "scattercarpet"
           }
          ],
          "scattergeo": [
           {
            "marker": {
             "colorbar": {
              "outlinewidth": 0,
              "ticks": ""
             }
            },
            "type": "scattergeo"
           }
          ],
          "scattergl": [
           {
            "marker": {
             "colorbar": {
              "outlinewidth": 0,
              "ticks": ""
             }
            },
            "type": "scattergl"
           }
          ],
          "scattermapbox": [
           {
            "marker": {
             "colorbar": {
              "outlinewidth": 0,
              "ticks": ""
             }
            },
            "type": "scattermapbox"
           }
          ],
          "scatterpolar": [
           {
            "marker": {
             "colorbar": {
              "outlinewidth": 0,
              "ticks": ""
             }
            },
            "type": "scatterpolar"
           }
          ],
          "scatterpolargl": [
           {
            "marker": {
             "colorbar": {
              "outlinewidth": 0,
              "ticks": ""
             }
            },
            "type": "scatterpolargl"
           }
          ],
          "scatterternary": [
           {
            "marker": {
             "colorbar": {
              "outlinewidth": 0,
              "ticks": ""
             }
            },
            "type": "scatterternary"
           }
          ],
          "surface": [
           {
            "colorbar": {
             "outlinewidth": 0,
             "ticks": ""
            },
            "colorscale": [
             [
              0,
              "#0d0887"
             ],
             [
              0.1111111111111111,
              "#46039f"
             ],
             [
              0.2222222222222222,
              "#7201a8"
             ],
             [
              0.3333333333333333,
              "#9c179e"
             ],
             [
              0.4444444444444444,
              "#bd3786"
             ],
             [
              0.5555555555555556,
              "#d8576b"
             ],
             [
              0.6666666666666666,
              "#ed7953"
             ],
             [
              0.7777777777777778,
              "#fb9f3a"
             ],
             [
              0.8888888888888888,
              "#fdca26"
             ],
             [
              1,
              "#f0f921"
             ]
            ],
            "type": "surface"
           }
          ],
          "table": [
           {
            "cells": {
             "fill": {
              "color": "#EBF0F8"
             },
             "line": {
              "color": "white"
             }
            },
            "header": {
             "fill": {
              "color": "#C8D4E3"
             },
             "line": {
              "color": "white"
             }
            },
            "type": "table"
           }
          ]
         },
         "layout": {
          "annotationdefaults": {
           "arrowcolor": "#2a3f5f",
           "arrowhead": 0,
           "arrowwidth": 1
          },
          "autotypenumbers": "strict",
          "coloraxis": {
           "colorbar": {
            "outlinewidth": 0,
            "ticks": ""
           }
          },
          "colorscale": {
           "diverging": [
            [
             0,
             "#8e0152"
            ],
            [
             0.1,
             "#c51b7d"
            ],
            [
             0.2,
             "#de77ae"
            ],
            [
             0.3,
             "#f1b6da"
            ],
            [
             0.4,
             "#fde0ef"
            ],
            [
             0.5,
             "#f7f7f7"
            ],
            [
             0.6,
             "#e6f5d0"
            ],
            [
             0.7,
             "#b8e186"
            ],
            [
             0.8,
             "#7fbc41"
            ],
            [
             0.9,
             "#4d9221"
            ],
            [
             1,
             "#276419"
            ]
           ],
           "sequential": [
            [
             0,
             "#0d0887"
            ],
            [
             0.1111111111111111,
             "#46039f"
            ],
            [
             0.2222222222222222,
             "#7201a8"
            ],
            [
             0.3333333333333333,
             "#9c179e"
            ],
            [
             0.4444444444444444,
             "#bd3786"
            ],
            [
             0.5555555555555556,
             "#d8576b"
            ],
            [
             0.6666666666666666,
             "#ed7953"
            ],
            [
             0.7777777777777778,
             "#fb9f3a"
            ],
            [
             0.8888888888888888,
             "#fdca26"
            ],
            [
             1,
             "#f0f921"
            ]
           ],
           "sequentialminus": [
            [
             0,
             "#0d0887"
            ],
            [
             0.1111111111111111,
             "#46039f"
            ],
            [
             0.2222222222222222,
             "#7201a8"
            ],
            [
             0.3333333333333333,
             "#9c179e"
            ],
            [
             0.4444444444444444,
             "#bd3786"
            ],
            [
             0.5555555555555556,
             "#d8576b"
            ],
            [
             0.6666666666666666,
             "#ed7953"
            ],
            [
             0.7777777777777778,
             "#fb9f3a"
            ],
            [
             0.8888888888888888,
             "#fdca26"
            ],
            [
             1,
             "#f0f921"
            ]
           ]
          },
          "colorway": [
           "#636efa",
           "#EF553B",
           "#00cc96",
           "#ab63fa",
           "#FFA15A",
           "#19d3f3",
           "#FF6692",
           "#B6E880",
           "#FF97FF",
           "#FECB52"
          ],
          "font": {
           "color": "#2a3f5f"
          },
          "geo": {
           "bgcolor": "white",
           "lakecolor": "white",
           "landcolor": "#E5ECF6",
           "showlakes": true,
           "showland": true,
           "subunitcolor": "white"
          },
          "hoverlabel": {
           "align": "left"
          },
          "hovermode": "closest",
          "mapbox": {
           "style": "light"
          },
          "paper_bgcolor": "white",
          "plot_bgcolor": "#E5ECF6",
          "polar": {
           "angularaxis": {
            "gridcolor": "white",
            "linecolor": "white",
            "ticks": ""
           },
           "bgcolor": "#E5ECF6",
           "radialaxis": {
            "gridcolor": "white",
            "linecolor": "white",
            "ticks": ""
           }
          },
          "scene": {
           "xaxis": {
            "backgroundcolor": "#E5ECF6",
            "gridcolor": "white",
            "gridwidth": 2,
            "linecolor": "white",
            "showbackground": true,
            "ticks": "",
            "zerolinecolor": "white"
           },
           "yaxis": {
            "backgroundcolor": "#E5ECF6",
            "gridcolor": "white",
            "gridwidth": 2,
            "linecolor": "white",
            "showbackground": true,
            "ticks": "",
            "zerolinecolor": "white"
           },
           "zaxis": {
            "backgroundcolor": "#E5ECF6",
            "gridcolor": "white",
            "gridwidth": 2,
            "linecolor": "white",
            "showbackground": true,
            "ticks": "",
            "zerolinecolor": "white"
           }
          },
          "shapedefaults": {
           "line": {
            "color": "#2a3f5f"
           }
          },
          "ternary": {
           "aaxis": {
            "gridcolor": "white",
            "linecolor": "white",
            "ticks": ""
           },
           "baxis": {
            "gridcolor": "white",
            "linecolor": "white",
            "ticks": ""
           },
           "bgcolor": "#E5ECF6",
           "caxis": {
            "gridcolor": "white",
            "linecolor": "white",
            "ticks": ""
           }
          },
          "title": {
           "x": 0.05
          },
          "xaxis": {
           "automargin": true,
           "gridcolor": "white",
           "linecolor": "white",
           "ticks": "",
           "title": {
            "standoff": 15
           },
           "zerolinecolor": "white",
           "zerolinewidth": 2
          },
          "yaxis": {
           "automargin": true,
           "gridcolor": "white",
           "linecolor": "white",
           "ticks": "",
           "title": {
            "standoff": 15
           },
           "zerolinecolor": "white",
           "zerolinewidth": 2
          }
         }
        },
        "title": {
         "text": "K-Means Clustering of Sensors Using PCA"
        }
       }
      }
     },
     "metadata": {},
     "output_type": "display_data"
    }
   ],
   "source": [
    "from sklearn.cluster import KMeans\n",
    "\n",
    "# Apply PCA\n",
    "pca = PCA(n_components=3)\n",
    "principal_components = pca.fit_transform(reduced_data_corr.drop(columns=['Sensor ID']))\n",
    "principal_df = pd.DataFrame(data=principal_components, columns=['PC1', 'PC2', 'PC3'])\n",
    "principal_df['Sensor ID'] = reduced_data_corr['Sensor ID']\n",
    "\n",
    "# Apply K-Means clustering\n",
    "kmeans = KMeans(n_clusters=4, random_state=42)\n",
    "principal_df['Cluster'] = kmeans.fit_predict(principal_df[['PC1', 'PC2', 'PC3']])\n",
    "\n",
    "# Create an interactive 3D scatter plot\n",
    "fig = px.scatter_3d(\n",
    "    principal_df,\n",
    "    x='PC1',\n",
    "    y='PC2',\n",
    "    z='PC3',\n",
    "    color='Cluster',\n",
    "    symbol='Sensor ID',\n",
    "    title='K-Means Clustering of Sensors Using PCA',\n",
    "    labels={'PC1': 'Principal Component 1', 'PC2': 'Principal Component 2', 'PC3': 'Principal Component 3'},\n",
    "    hover_data=['Sensor ID']\n",
    ")\n",
    "\n",
    "fig.show()"
   ]
  },
  {
   "cell_type": "markdown",
   "metadata": {},
   "source": [
    "# Retain Features"
   ]
  },
  {
   "cell_type": "code",
   "execution_count": null,
   "metadata": {},
   "outputs": [
    {
     "data": {
      "text/html": [
       "<div>\n",
       "<style scoped>\n",
       "    .dataframe tbody tr th:only-of-type {\n",
       "        vertical-align: middle;\n",
       "    }\n",
       "\n",
       "    .dataframe tbody tr th {\n",
       "        vertical-align: top;\n",
       "    }\n",
       "\n",
       "    .dataframe thead th {\n",
       "        text-align: right;\n",
       "    }\n",
       "</style>\n",
       "<table border=\"1\" class=\"dataframe\">\n",
       "  <thead>\n",
       "    <tr style=\"text-align: right;\">\n",
       "      <th>range_delay</th>\n",
       "      <th>Sensor ID</th>\n",
       "      <th>13_10000_mean_middle</th>\n",
       "      <th>13_16800_mean_middle</th>\n",
       "      <th>13_3000_mean_middle</th>\n",
       "      <th>13_6000_mean_middle</th>\n",
       "      <th>13_8000_mean_middle</th>\n",
       "      <th>18_10000_mean_middle</th>\n",
       "      <th>18_16800_mean_middle</th>\n",
       "      <th>18_3000_mean_middle</th>\n",
       "      <th>18_6000_mean_middle</th>\n",
       "      <th>...</th>\n",
       "      <th>48_10000_mean_upper</th>\n",
       "      <th>48_16800_mean_upper</th>\n",
       "      <th>48_3000_mean_upper</th>\n",
       "      <th>48_6000_mean_upper</th>\n",
       "      <th>48_8000_mean_upper</th>\n",
       "      <th>53_10000_mean_upper</th>\n",
       "      <th>53_16800_mean_upper</th>\n",
       "      <th>53_3000_mean_upper</th>\n",
       "      <th>53_6000_mean_upper</th>\n",
       "      <th>53_8000_mean_upper</th>\n",
       "    </tr>\n",
       "  </thead>\n",
       "  <tbody>\n",
       "    <tr>\n",
       "      <th>0</th>\n",
       "      <td>32</td>\n",
       "      <td>765.626263</td>\n",
       "      <td>765.693878</td>\n",
       "      <td>765.640000</td>\n",
       "      <td>765.560000</td>\n",
       "      <td>766.120000</td>\n",
       "      <td>1057.280000</td>\n",
       "      <td>821.200000</td>\n",
       "      <td>1057.626263</td>\n",
       "      <td>1057.440000</td>\n",
       "      <td>...</td>\n",
       "      <td>0.000000</td>\n",
       "      <td>0.0</td>\n",
       "      <td>2787.833333</td>\n",
       "      <td>0.0</td>\n",
       "      <td>0.000000</td>\n",
       "      <td>3099.0</td>\n",
       "      <td>0.000000</td>\n",
       "      <td>0.0</td>\n",
       "      <td>0.0</td>\n",
       "      <td>0.0</td>\n",
       "    </tr>\n",
       "    <tr>\n",
       "      <th>1</th>\n",
       "      <td>33</td>\n",
       "      <td>755.000000</td>\n",
       "      <td>779.530612</td>\n",
       "      <td>736.640000</td>\n",
       "      <td>779.275862</td>\n",
       "      <td>755.467532</td>\n",
       "      <td>1024.818182</td>\n",
       "      <td>1035.640000</td>\n",
       "      <td>1024.777778</td>\n",
       "      <td>1025.720000</td>\n",
       "      <td>...</td>\n",
       "      <td>0.000000</td>\n",
       "      <td>0.0</td>\n",
       "      <td>2740.037037</td>\n",
       "      <td>0.0</td>\n",
       "      <td>0.000000</td>\n",
       "      <td>0.0</td>\n",
       "      <td>3073.666667</td>\n",
       "      <td>0.0</td>\n",
       "      <td>3073.4</td>\n",
       "      <td>3074.0</td>\n",
       "    </tr>\n",
       "    <tr>\n",
       "      <th>2</th>\n",
       "      <td>34</td>\n",
       "      <td>665.680000</td>\n",
       "      <td>658.920000</td>\n",
       "      <td>675.989247</td>\n",
       "      <td>653.682353</td>\n",
       "      <td>665.240000</td>\n",
       "      <td>969.480000</td>\n",
       "      <td>969.469136</td>\n",
       "      <td>969.520000</td>\n",
       "      <td>969.585859</td>\n",
       "      <td>...</td>\n",
       "      <td>0.000000</td>\n",
       "      <td>0.0</td>\n",
       "      <td>0.000000</td>\n",
       "      <td>0.0</td>\n",
       "      <td>0.000000</td>\n",
       "      <td>0.0</td>\n",
       "      <td>0.000000</td>\n",
       "      <td>0.0</td>\n",
       "      <td>0.0</td>\n",
       "      <td>0.0</td>\n",
       "    </tr>\n",
       "    <tr>\n",
       "      <th>3</th>\n",
       "      <td>35</td>\n",
       "      <td>861.640000</td>\n",
       "      <td>861.626263</td>\n",
       "      <td>804.320000</td>\n",
       "      <td>861.840000</td>\n",
       "      <td>863.000000</td>\n",
       "      <td>1012.333333</td>\n",
       "      <td>1011.800000</td>\n",
       "      <td>1012.720000</td>\n",
       "      <td>1012.240000</td>\n",
       "      <td>...</td>\n",
       "      <td>2758.652174</td>\n",
       "      <td>0.0</td>\n",
       "      <td>2756.839080</td>\n",
       "      <td>0.0</td>\n",
       "      <td>2778.428571</td>\n",
       "      <td>0.0</td>\n",
       "      <td>0.000000</td>\n",
       "      <td>0.0</td>\n",
       "      <td>0.0</td>\n",
       "      <td>0.0</td>\n",
       "    </tr>\n",
       "    <tr>\n",
       "      <th>4</th>\n",
       "      <td>36</td>\n",
       "      <td>743.520000</td>\n",
       "      <td>743.962025</td>\n",
       "      <td>743.360000</td>\n",
       "      <td>743.680000</td>\n",
       "      <td>743.600000</td>\n",
       "      <td>1067.000000</td>\n",
       "      <td>1054.880000</td>\n",
       "      <td>1064.494949</td>\n",
       "      <td>1067.000000</td>\n",
       "      <td>...</td>\n",
       "      <td>2779.000000</td>\n",
       "      <td>0.0</td>\n",
       "      <td>0.000000</td>\n",
       "      <td>0.0</td>\n",
       "      <td>0.000000</td>\n",
       "      <td>3113.0</td>\n",
       "      <td>0.000000</td>\n",
       "      <td>0.0</td>\n",
       "      <td>0.0</td>\n",
       "      <td>0.0</td>\n",
       "    </tr>\n",
       "  </tbody>\n",
       "</table>\n",
       "<p>5 rows × 136 columns</p>\n",
       "</div>"
      ],
      "text/plain": [
       "range_delay  Sensor ID  13_10000_mean_middle  13_16800_mean_middle  \\\n",
       "0                   32            765.626263            765.693878   \n",
       "1                   33            755.000000            779.530612   \n",
       "2                   34            665.680000            658.920000   \n",
       "3                   35            861.640000            861.626263   \n",
       "4                   36            743.520000            743.962025   \n",
       "\n",
       "range_delay  13_3000_mean_middle  13_6000_mean_middle  13_8000_mean_middle  \\\n",
       "0                     765.640000           765.560000           766.120000   \n",
       "1                     736.640000           779.275862           755.467532   \n",
       "2                     675.989247           653.682353           665.240000   \n",
       "3                     804.320000           861.840000           863.000000   \n",
       "4                     743.360000           743.680000           743.600000   \n",
       "\n",
       "range_delay  18_10000_mean_middle  18_16800_mean_middle  18_3000_mean_middle  \\\n",
       "0                     1057.280000            821.200000          1057.626263   \n",
       "1                     1024.818182           1035.640000          1024.777778   \n",
       "2                      969.480000            969.469136           969.520000   \n",
       "3                     1012.333333           1011.800000          1012.720000   \n",
       "4                     1067.000000           1054.880000          1064.494949   \n",
       "\n",
       "range_delay  18_6000_mean_middle  ...  48_10000_mean_upper  \\\n",
       "0                    1057.440000  ...             0.000000   \n",
       "1                    1025.720000  ...             0.000000   \n",
       "2                     969.585859  ...             0.000000   \n",
       "3                    1012.240000  ...          2758.652174   \n",
       "4                    1067.000000  ...          2779.000000   \n",
       "\n",
       "range_delay  48_16800_mean_upper  48_3000_mean_upper  48_6000_mean_upper  \\\n",
       "0                            0.0         2787.833333                 0.0   \n",
       "1                            0.0         2740.037037                 0.0   \n",
       "2                            0.0            0.000000                 0.0   \n",
       "3                            0.0         2756.839080                 0.0   \n",
       "4                            0.0            0.000000                 0.0   \n",
       "\n",
       "range_delay  48_8000_mean_upper  53_10000_mean_upper  53_16800_mean_upper  \\\n",
       "0                      0.000000               3099.0             0.000000   \n",
       "1                      0.000000                  0.0          3073.666667   \n",
       "2                      0.000000                  0.0             0.000000   \n",
       "3                   2778.428571                  0.0             0.000000   \n",
       "4                      0.000000               3113.0             0.000000   \n",
       "\n",
       "range_delay  53_3000_mean_upper  53_6000_mean_upper  53_8000_mean_upper  \n",
       "0                           0.0                 0.0                 0.0  \n",
       "1                           0.0              3073.4              3074.0  \n",
       "2                           0.0                 0.0                 0.0  \n",
       "3                           0.0                 0.0                 0.0  \n",
       "4                           0.0                 0.0                 0.0  \n",
       "\n",
       "[5 rows x 136 columns]"
      ]
     },
     "execution_count": 172,
     "metadata": {},
     "output_type": "execute_result"
    }
   ],
   "source": [
    "df_range_delay_all.head()"
   ]
  },
  {
   "cell_type": "code",
   "execution_count": null,
   "metadata": {},
   "outputs": [
    {
     "data": {
      "text/plain": [
       "{32: {'Color of sensor': ['b'],\n",
       "  'Sensor Configuration': ['HTR'],\n",
       "  'Surface material': ['wood']},\n",
       " 33: {'Color of sensor': ['b'],\n",
       "  'Sensor Configuration': ['HTR'],\n",
       "  'Surface material': ['wood']},\n",
       " 34: {'Color of sensor': ['b'],\n",
       "  'Sensor Configuration': ['HTR'],\n",
       "  'Surface material': ['wood']},\n",
       " 35: {'Color of sensor': ['b'],\n",
       "  'Sensor Configuration': ['HTR'],\n",
       "  'Surface material': ['wood']},\n",
       " 36: {'Color of sensor': ['b'],\n",
       "  'Sensor Configuration': ['HTR'],\n",
       "  'Surface material': ['wood']},\n",
       " 37: {'Color of sensor': ['g'],\n",
       "  'Sensor Configuration': ['HTR'],\n",
       "  'Surface material': ['wood']},\n",
       " 38: {'Color of sensor': ['b'],\n",
       "  'Sensor Configuration': ['HTR'],\n",
       "  'Surface material': ['wood']},\n",
       " 39: {'Color of sensor': ['b'],\n",
       "  'Sensor Configuration': ['HTR'],\n",
       "  'Surface material': ['wood']},\n",
       " 40: {'Color of sensor': ['b'],\n",
       "  'Sensor Configuration': ['HTR'],\n",
       "  'Surface material': ['wood']},\n",
       " 41: {'Color of sensor': ['b'],\n",
       "  'Sensor Configuration': ['HTR'],\n",
       "  'Surface material': ['wood']},\n",
       " 42: {'Color of sensor': ['b'],\n",
       "  'Sensor Configuration': ['HTR'],\n",
       "  'Surface material': ['wood']},\n",
       " 43: {'Color of sensor': ['b'],\n",
       "  'Sensor Configuration': ['HTR'],\n",
       "  'Surface material': ['wood']},\n",
       " 44: {'Color of sensor': ['b'],\n",
       "  'Sensor Configuration': ['HTR'],\n",
       "  'Surface material': ['wood']},\n",
       " 45: {'Color of sensor': ['b'],\n",
       "  'Sensor Configuration': ['HTR'],\n",
       "  'Surface material': ['wood']},\n",
       " 46: {'Color of sensor': ['b'],\n",
       "  'Sensor Configuration': ['HTR'],\n",
       "  'Surface material': ['wood']},\n",
       " 47: {'Color of sensor': ['b'],\n",
       "  'Sensor Configuration': ['HTR'],\n",
       "  'Surface material': ['wood']},\n",
       " 48: {'Color of sensor': ['b'],\n",
       "  'Sensor Configuration': ['HTR'],\n",
       "  'Surface material': ['wood']},\n",
       " 49: {'Color of sensor': ['b'],\n",
       "  'Sensor Configuration': ['HTR'],\n",
       "  'Surface material': ['wood']},\n",
       " 50: {'Color of sensor': ['b'],\n",
       "  'Sensor Configuration': ['HTR'],\n",
       "  'Surface material': ['wood']},\n",
       " 51: {'Color of sensor': ['b'],\n",
       "  'Sensor Configuration': ['HTR'],\n",
       "  'Surface material': ['wood']},\n",
       " 52: {'Color of sensor': ['b'],\n",
       "  'Sensor Configuration': ['HTR'],\n",
       "  'Surface material': ['wood']},\n",
       " 53: {'Color of sensor': ['b'],\n",
       "  'Sensor Configuration': ['HTR'],\n",
       "  'Surface material': ['wood']},\n",
       " 54: {'Color of sensor': ['b'],\n",
       "  'Sensor Configuration': ['HTR'],\n",
       "  'Surface material': ['wood']},\n",
       " 55: {'Color of sensor': ['b'],\n",
       "  'Sensor Configuration': ['HTR'],\n",
       "  'Surface material': ['wood']},\n",
       " 56: {'Color of sensor': ['b'],\n",
       "  'Sensor Configuration': ['HTR'],\n",
       "  'Surface material': ['wood']},\n",
       " 57: {'Color of sensor': ['b'],\n",
       "  'Sensor Configuration': ['HTR'],\n",
       "  'Surface material': ['wood']},\n",
       " 58: {'Color of sensor': ['b'],\n",
       "  'Sensor Configuration': ['HTR'],\n",
       "  'Surface material': ['wood']},\n",
       " 59: {'Color of sensor': ['b'],\n",
       "  'Sensor Configuration': ['HTR'],\n",
       "  'Surface material': ['wood']},\n",
       " 60: {'Color of sensor': ['b'],\n",
       "  'Sensor Configuration': ['HTR'],\n",
       "  'Surface material': ['wood']},\n",
       " 61: {'Color of sensor': ['b'],\n",
       "  'Sensor Configuration': ['HTR'],\n",
       "  'Surface material': ['wood']},\n",
       " 62: {'Color of sensor': ['b'],\n",
       "  'Sensor Configuration': ['HTR'],\n",
       "  'Surface material': ['wood']},\n",
       " 63: {'Color of sensor': ['b'],\n",
       "  'Sensor Configuration': ['HTR'],\n",
       "  'Surface material': ['wood']},\n",
       " 64: {'Color of sensor': ['b'],\n",
       "  'Sensor Configuration': ['HTR'],\n",
       "  'Surface material': ['wood']},\n",
       " 65: {'Color of sensor': ['b'],\n",
       "  'Sensor Configuration': ['HTR'],\n",
       "  'Surface material': ['wood']},\n",
       " 66: {'Color of sensor': ['b'],\n",
       "  'Sensor Configuration': ['HTR'],\n",
       "  'Surface material': ['wood']},\n",
       " 67: {'Color of sensor': ['b'],\n",
       "  'Sensor Configuration': ['HTR'],\n",
       "  'Surface material': ['wood']},\n",
       " 68: {'Color of sensor': ['b'],\n",
       "  'Sensor Configuration': ['HTR'],\n",
       "  'Surface material': ['wood']},\n",
       " 69: {'Color of sensor': ['b'],\n",
       "  'Sensor Configuration': ['HTR'],\n",
       "  'Surface material': ['wood']},\n",
       " 70: {'Color of sensor': ['b'],\n",
       "  'Sensor Configuration': ['HTR'],\n",
       "  'Surface material': ['wood']},\n",
       " 71: {'Color of sensor': ['b'],\n",
       "  'Sensor Configuration': ['HTR'],\n",
       "  'Surface material': ['wood']},\n",
       " 72: {'Color of sensor': ['b'],\n",
       "  'Sensor Configuration': ['HTR'],\n",
       "  'Surface material': ['wood']},\n",
       " 73: {'Color of sensor': ['b'],\n",
       "  'Sensor Configuration': ['HTR'],\n",
       "  'Surface material': ['wood']},\n",
       " 74: {'Color of sensor': ['b'],\n",
       "  'Sensor Configuration': ['HTR'],\n",
       "  'Surface material': ['wood']},\n",
       " 75: {'Color of sensor': ['g'],\n",
       "  'Sensor Configuration': ['HTR'],\n",
       "  'Surface material': ['wood']},\n",
       " 76: {'Color of sensor': ['b'],\n",
       "  'Sensor Configuration': ['HTR'],\n",
       "  'Surface material': ['wood']},\n",
       " 77: {'Color of sensor': ['g'],\n",
       "  'Sensor Configuration': ['HTR'],\n",
       "  'Surface material': ['wood']},\n",
       " 78: {'Color of sensor': ['b'],\n",
       "  'Sensor Configuration': ['HTR'],\n",
       "  'Surface material': ['wood']},\n",
       " 79: {'Color of sensor': ['g'],\n",
       "  'Sensor Configuration': ['HTR'],\n",
       "  'Surface material': ['wood']},\n",
       " 80: {'Color of sensor': ['b'],\n",
       "  'Sensor Configuration': ['HTR'],\n",
       "  'Surface material': ['wood']},\n",
       " 81: {'Color of sensor': ['b'],\n",
       "  'Sensor Configuration': ['HTR'],\n",
       "  'Surface material': ['wood']},\n",
       " 82: {'Color of sensor': ['g'],\n",
       "  'Sensor Configuration': ['HTR'],\n",
       "  'Surface material': ['wood']},\n",
       " 83: {'Color of sensor': ['g'],\n",
       "  'Sensor Configuration': ['HTR'],\n",
       "  'Surface material': ['wood']},\n",
       " 84: {'Color of sensor': ['g'],\n",
       "  'Sensor Configuration': ['HTR'],\n",
       "  'Surface material': ['wood']},\n",
       " 85: {'Color of sensor': ['g'],\n",
       "  'Sensor Configuration': ['HTR'],\n",
       "  'Surface material': ['wood']},\n",
       " 86: {'Color of sensor': ['g'],\n",
       "  'Sensor Configuration': ['HTR'],\n",
       "  'Surface material': ['wood']},\n",
       " 87: {'Color of sensor': ['g'],\n",
       "  'Sensor Configuration': ['HTR'],\n",
       "  'Surface material': ['wood']},\n",
       " 88: {'Color of sensor': ['g'],\n",
       "  'Sensor Configuration': ['HTR'],\n",
       "  'Surface material': ['wood']},\n",
       " 89: {'Color of sensor': ['g'],\n",
       "  'Sensor Configuration': ['HTR'],\n",
       "  'Surface material': ['wood']},\n",
       " 90: {'Color of sensor': ['g'],\n",
       "  'Sensor Configuration': ['HTR'],\n",
       "  'Surface material': ['wood']},\n",
       " 91: {'Color of sensor': ['g'],\n",
       "  'Sensor Configuration': ['HTR'],\n",
       "  'Surface material': ['wood']},\n",
       " 92: {'Color of sensor': ['g'],\n",
       "  'Sensor Configuration': ['HTR'],\n",
       "  'Surface material': ['wood']},\n",
       " 93: {'Color of sensor': ['g'],\n",
       "  'Sensor Configuration': ['HTR'],\n",
       "  'Surface material': ['wood']},\n",
       " 94: {'Color of sensor': ['b'],\n",
       "  'Sensor Configuration': ['HTR'],\n",
       "  'Surface material': ['wood']},\n",
       " 95: {'Color of sensor': ['b'],\n",
       "  'Sensor Configuration': ['HTR'],\n",
       "  'Surface material': ['wood']},\n",
       " 96: {'Color of sensor': ['g'],\n",
       "  'Sensor Configuration': ['HTR'],\n",
       "  'Surface material': ['wood']},\n",
       " 97: {'Color of sensor': ['g'],\n",
       "  'Sensor Configuration': ['HTR'],\n",
       "  'Surface material': ['wood']},\n",
       " 98: {'Color of sensor': ['g'],\n",
       "  'Sensor Configuration': ['HTR'],\n",
       "  'Surface material': ['wood']},\n",
       " 99: {'Color of sensor': ['g'],\n",
       "  'Sensor Configuration': ['HTR'],\n",
       "  'Surface material': ['wood']},\n",
       " 100: {'Color of sensor': ['b'],\n",
       "  'Sensor Configuration': ['HTR'],\n",
       "  'Surface material': ['wood']},\n",
       " 101: {'Color of sensor': ['g'],\n",
       "  'Sensor Configuration': ['HTR'],\n",
       "  'Surface material': ['wood']},\n",
       " 102: {'Color of sensor': ['g'],\n",
       "  'Sensor Configuration': ['HTR'],\n",
       "  'Surface material': ['wood']},\n",
       " 103: {'Color of sensor': ['g'],\n",
       "  'Sensor Configuration': ['HTR'],\n",
       "  'Surface material': ['wood']},\n",
       " 104: {'Color of sensor': ['g'],\n",
       "  'Sensor Configuration': ['HTR'],\n",
       "  'Surface material': ['wood']},\n",
       " 105: {'Color of sensor': ['b'],\n",
       "  'Sensor Configuration': ['HTR'],\n",
       "  'Surface material': ['wood']},\n",
       " 106: {'Color of sensor': ['g'],\n",
       "  'Sensor Configuration': ['HTR'],\n",
       "  'Surface material': ['wood']},\n",
       " 107: {'Color of sensor': ['g'],\n",
       "  'Sensor Configuration': ['HTR'],\n",
       "  'Surface material': ['wood']},\n",
       " 108: {'Color of sensor': ['b'],\n",
       "  'Sensor Configuration': ['HTR'],\n",
       "  'Surface material': ['wood']}}"
      ]
     },
     "execution_count": 202,
     "metadata": {},
     "output_type": "execute_result"
    }
   ],
   "source": [
    "# Group the merged data by 'Sensor ID'\n",
    "grouped_data = df_data_v4_1_1.groupby(\"Sensor ID\")\n",
    "\n",
    "# Function to get unique values of categorical columns for each group\n",
    "def get_unique_categorical_values(group):\n",
    "    unique_values = {}\n",
    "    for column in group.select_dtypes(include=['object']).columns:\n",
    "        unique_values[column] = group[column].unique().tolist()\n",
    "    return unique_values\n",
    "\n",
    "# Apply the function to each group and collect the results\n",
    "unique_categorical_values = grouped_data.apply(get_unique_categorical_values).to_dict()\n",
    "\n",
    "unique_categorical_values"
   ]
  },
  {
   "cell_type": "code",
   "execution_count": null,
   "metadata": {},
   "outputs": [
    {
     "name": "stderr",
     "output_type": "stream",
     "text": [
      "C:\\Users\\Jihoon.DESKTOP-1HIBMQO\\AppData\\Local\\Temp\\ipykernel_6436\\718001310.py:4: FutureWarning:\n",
      "\n",
      "DataFrame.applymap has been deprecated. Use DataFrame.map instead.\n",
      "\n"
     ]
    },
    {
     "data": {
      "text/html": [
       "<div>\n",
       "<style scoped>\n",
       "    .dataframe tbody tr th:only-of-type {\n",
       "        vertical-align: middle;\n",
       "    }\n",
       "\n",
       "    .dataframe tbody tr th {\n",
       "        vertical-align: top;\n",
       "    }\n",
       "\n",
       "    .dataframe thead th {\n",
       "        text-align: right;\n",
       "    }\n",
       "</style>\n",
       "<table border=\"1\" class=\"dataframe\">\n",
       "  <thead>\n",
       "    <tr style=\"text-align: right;\">\n",
       "      <th></th>\n",
       "      <th>Sensor ID</th>\n",
       "      <th>Color of sensor</th>\n",
       "      <th>Sensor Configuration</th>\n",
       "      <th>Surface material</th>\n",
       "    </tr>\n",
       "  </thead>\n",
       "  <tbody>\n",
       "    <tr>\n",
       "      <th>0</th>\n",
       "      <td>32</td>\n",
       "      <td>b</td>\n",
       "      <td>HTR</td>\n",
       "      <td>wood</td>\n",
       "    </tr>\n",
       "    <tr>\n",
       "      <th>1</th>\n",
       "      <td>33</td>\n",
       "      <td>b</td>\n",
       "      <td>HTR</td>\n",
       "      <td>wood</td>\n",
       "    </tr>\n",
       "    <tr>\n",
       "      <th>2</th>\n",
       "      <td>34</td>\n",
       "      <td>b</td>\n",
       "      <td>HTR</td>\n",
       "      <td>wood</td>\n",
       "    </tr>\n",
       "    <tr>\n",
       "      <th>3</th>\n",
       "      <td>35</td>\n",
       "      <td>b</td>\n",
       "      <td>HTR</td>\n",
       "      <td>wood</td>\n",
       "    </tr>\n",
       "    <tr>\n",
       "      <th>4</th>\n",
       "      <td>36</td>\n",
       "      <td>b</td>\n",
       "      <td>HTR</td>\n",
       "      <td>wood</td>\n",
       "    </tr>\n",
       "  </tbody>\n",
       "</table>\n",
       "</div>"
      ],
      "text/plain": [
       "   Sensor ID Color of sensor Sensor Configuration Surface material\n",
       "0         32               b                  HTR             wood\n",
       "1         33               b                  HTR             wood\n",
       "2         34               b                  HTR             wood\n",
       "3         35               b                  HTR             wood\n",
       "4         36               b                  HTR             wood"
      ]
     },
     "execution_count": 203,
     "metadata": {},
     "output_type": "execute_result"
    }
   ],
   "source": [
    "unique_categorical_values_df = pd.DataFrame.from_dict(unique_categorical_values, orient='index')\n",
    "\n",
    "# Convert list values to strings and keep Sensor ID as index\n",
    "unique_categorical_values_df = unique_categorical_values_df.applymap(lambda x: x[0] if isinstance(x, list) else x)\n",
    "unique_categorical_values_df.reset_index(inplace=True)\n",
    "\n",
    "# Rename the 'index' column to 'Sensor ID'\n",
    "unique_categorical_values_df.rename(columns={'index': 'Sensor ID'}, inplace=True)\n",
    "\n",
    "# Display the updated DataFrame\n",
    "unique_categorical_values_df.head()"
   ]
  },
  {
   "cell_type": "code",
   "execution_count": null,
   "metadata": {},
   "outputs": [
    {
     "data": {
      "text/html": [
       "<div>\n",
       "<style scoped>\n",
       "    .dataframe tbody tr th:only-of-type {\n",
       "        vertical-align: middle;\n",
       "    }\n",
       "\n",
       "    .dataframe tbody tr th {\n",
       "        vertical-align: top;\n",
       "    }\n",
       "\n",
       "    .dataframe thead th {\n",
       "        text-align: right;\n",
       "    }\n",
       "</style>\n",
       "<table border=\"1\" class=\"dataframe\">\n",
       "  <thead>\n",
       "    <tr style=\"text-align: right;\">\n",
       "      <th></th>\n",
       "      <th>Sensor ID</th>\n",
       "      <th>Color of sensor_g</th>\n",
       "    </tr>\n",
       "  </thead>\n",
       "  <tbody>\n",
       "    <tr>\n",
       "      <th>0</th>\n",
       "      <td>32</td>\n",
       "      <td>0</td>\n",
       "    </tr>\n",
       "    <tr>\n",
       "      <th>1</th>\n",
       "      <td>33</td>\n",
       "      <td>0</td>\n",
       "    </tr>\n",
       "    <tr>\n",
       "      <th>2</th>\n",
       "      <td>34</td>\n",
       "      <td>0</td>\n",
       "    </tr>\n",
       "    <tr>\n",
       "      <th>3</th>\n",
       "      <td>35</td>\n",
       "      <td>0</td>\n",
       "    </tr>\n",
       "    <tr>\n",
       "      <th>4</th>\n",
       "      <td>36</td>\n",
       "      <td>0</td>\n",
       "    </tr>\n",
       "    <tr>\n",
       "      <th>...</th>\n",
       "      <td>...</td>\n",
       "      <td>...</td>\n",
       "    </tr>\n",
       "    <tr>\n",
       "      <th>72</th>\n",
       "      <td>104</td>\n",
       "      <td>1</td>\n",
       "    </tr>\n",
       "    <tr>\n",
       "      <th>73</th>\n",
       "      <td>105</td>\n",
       "      <td>0</td>\n",
       "    </tr>\n",
       "    <tr>\n",
       "      <th>74</th>\n",
       "      <td>106</td>\n",
       "      <td>1</td>\n",
       "    </tr>\n",
       "    <tr>\n",
       "      <th>75</th>\n",
       "      <td>107</td>\n",
       "      <td>1</td>\n",
       "    </tr>\n",
       "    <tr>\n",
       "      <th>76</th>\n",
       "      <td>108</td>\n",
       "      <td>0</td>\n",
       "    </tr>\n",
       "  </tbody>\n",
       "</table>\n",
       "<p>77 rows × 2 columns</p>\n",
       "</div>"
      ],
      "text/plain": [
       "    Sensor ID  Color of sensor_g\n",
       "0          32                  0\n",
       "1          33                  0\n",
       "2          34                  0\n",
       "3          35                  0\n",
       "4          36                  0\n",
       "..        ...                ...\n",
       "72        104                  1\n",
       "73        105                  0\n",
       "74        106                  1\n",
       "75        107                  1\n",
       "76        108                  0\n",
       "\n",
       "[77 rows x 2 columns]"
      ]
     },
     "execution_count": 204,
     "metadata": {},
     "output_type": "execute_result"
    }
   ],
   "source": [
    "# One-hot encode all the object features\n",
    "if not unique_categorical_values_df.empty:\n",
    "    unique_categorical_values_encoded = pd.get_dummies(unique_categorical_values_df, drop_first=True)\n",
    "else:\n",
    "    unique_categorical_values_encoded = unique_categorical_values_df\n",
    "\n",
    "\n",
    "# Convert boolean columns to integers (0 and 1)\n",
    "unique_categorical_values_encoded[\"Color of sensor_g\"] = unique_categorical_values_encoded[\"Color of sensor_g\"].astype(int)\n",
    "unique_categorical_values_encoded"
   ]
  },
  {
   "cell_type": "code",
   "execution_count": null,
   "metadata": {},
   "outputs": [
    {
     "data": {
      "text/html": [
       "<div>\n",
       "<style scoped>\n",
       "    .dataframe tbody tr th:only-of-type {\n",
       "        vertical-align: middle;\n",
       "    }\n",
       "\n",
       "    .dataframe tbody tr th {\n",
       "        vertical-align: top;\n",
       "    }\n",
       "\n",
       "    .dataframe thead th {\n",
       "        text-align: right;\n",
       "    }\n",
       "</style>\n",
       "<table border=\"1\" class=\"dataframe\">\n",
       "  <thead>\n",
       "    <tr style=\"text-align: right;\">\n",
       "      <th></th>\n",
       "      <th>Sensor ID</th>\n",
       "      <th>13_10000_mean_middle</th>\n",
       "      <th>13_16800_mean_middle</th>\n",
       "      <th>13_3000_mean_middle</th>\n",
       "      <th>13_6000_mean_middle</th>\n",
       "      <th>13_8000_mean_middle</th>\n",
       "      <th>18_10000_mean_middle</th>\n",
       "      <th>18_16800_mean_middle</th>\n",
       "      <th>18_3000_mean_middle</th>\n",
       "      <th>18_6000_mean_middle</th>\n",
       "      <th>...</th>\n",
       "      <th>48_16800_mean_upper</th>\n",
       "      <th>48_3000_mean_upper</th>\n",
       "      <th>48_6000_mean_upper</th>\n",
       "      <th>48_8000_mean_upper</th>\n",
       "      <th>53_10000_mean_upper</th>\n",
       "      <th>53_16800_mean_upper</th>\n",
       "      <th>53_3000_mean_upper</th>\n",
       "      <th>53_6000_mean_upper</th>\n",
       "      <th>53_8000_mean_upper</th>\n",
       "      <th>Color of sensor_g</th>\n",
       "    </tr>\n",
       "  </thead>\n",
       "  <tbody>\n",
       "    <tr>\n",
       "      <th>0</th>\n",
       "      <td>32</td>\n",
       "      <td>765.626263</td>\n",
       "      <td>765.693878</td>\n",
       "      <td>765.640000</td>\n",
       "      <td>765.560000</td>\n",
       "      <td>766.120000</td>\n",
       "      <td>1057.280000</td>\n",
       "      <td>821.200000</td>\n",
       "      <td>1057.626263</td>\n",
       "      <td>1057.440000</td>\n",
       "      <td>...</td>\n",
       "      <td>0.0</td>\n",
       "      <td>2787.833333</td>\n",
       "      <td>0.0</td>\n",
       "      <td>0.000000</td>\n",
       "      <td>3099.0</td>\n",
       "      <td>0.000000</td>\n",
       "      <td>0.0</td>\n",
       "      <td>0.0</td>\n",
       "      <td>0.0</td>\n",
       "      <td>0</td>\n",
       "    </tr>\n",
       "    <tr>\n",
       "      <th>1</th>\n",
       "      <td>33</td>\n",
       "      <td>755.000000</td>\n",
       "      <td>779.530612</td>\n",
       "      <td>736.640000</td>\n",
       "      <td>779.275862</td>\n",
       "      <td>755.467532</td>\n",
       "      <td>1024.818182</td>\n",
       "      <td>1035.640000</td>\n",
       "      <td>1024.777778</td>\n",
       "      <td>1025.720000</td>\n",
       "      <td>...</td>\n",
       "      <td>0.0</td>\n",
       "      <td>2740.037037</td>\n",
       "      <td>0.0</td>\n",
       "      <td>0.000000</td>\n",
       "      <td>0.0</td>\n",
       "      <td>3073.666667</td>\n",
       "      <td>0.0</td>\n",
       "      <td>3073.4</td>\n",
       "      <td>3074.0</td>\n",
       "      <td>0</td>\n",
       "    </tr>\n",
       "    <tr>\n",
       "      <th>2</th>\n",
       "      <td>34</td>\n",
       "      <td>665.680000</td>\n",
       "      <td>658.920000</td>\n",
       "      <td>675.989247</td>\n",
       "      <td>653.682353</td>\n",
       "      <td>665.240000</td>\n",
       "      <td>969.480000</td>\n",
       "      <td>969.469136</td>\n",
       "      <td>969.520000</td>\n",
       "      <td>969.585859</td>\n",
       "      <td>...</td>\n",
       "      <td>0.0</td>\n",
       "      <td>0.000000</td>\n",
       "      <td>0.0</td>\n",
       "      <td>0.000000</td>\n",
       "      <td>0.0</td>\n",
       "      <td>0.000000</td>\n",
       "      <td>0.0</td>\n",
       "      <td>0.0</td>\n",
       "      <td>0.0</td>\n",
       "      <td>0</td>\n",
       "    </tr>\n",
       "    <tr>\n",
       "      <th>3</th>\n",
       "      <td>35</td>\n",
       "      <td>861.640000</td>\n",
       "      <td>861.626263</td>\n",
       "      <td>804.320000</td>\n",
       "      <td>861.840000</td>\n",
       "      <td>863.000000</td>\n",
       "      <td>1012.333333</td>\n",
       "      <td>1011.800000</td>\n",
       "      <td>1012.720000</td>\n",
       "      <td>1012.240000</td>\n",
       "      <td>...</td>\n",
       "      <td>0.0</td>\n",
       "      <td>2756.839080</td>\n",
       "      <td>0.0</td>\n",
       "      <td>2778.428571</td>\n",
       "      <td>0.0</td>\n",
       "      <td>0.000000</td>\n",
       "      <td>0.0</td>\n",
       "      <td>0.0</td>\n",
       "      <td>0.0</td>\n",
       "      <td>0</td>\n",
       "    </tr>\n",
       "    <tr>\n",
       "      <th>4</th>\n",
       "      <td>36</td>\n",
       "      <td>743.520000</td>\n",
       "      <td>743.962025</td>\n",
       "      <td>743.360000</td>\n",
       "      <td>743.680000</td>\n",
       "      <td>743.600000</td>\n",
       "      <td>1067.000000</td>\n",
       "      <td>1054.880000</td>\n",
       "      <td>1064.494949</td>\n",
       "      <td>1067.000000</td>\n",
       "      <td>...</td>\n",
       "      <td>0.0</td>\n",
       "      <td>0.000000</td>\n",
       "      <td>0.0</td>\n",
       "      <td>0.000000</td>\n",
       "      <td>3113.0</td>\n",
       "      <td>0.000000</td>\n",
       "      <td>0.0</td>\n",
       "      <td>0.0</td>\n",
       "      <td>0.0</td>\n",
       "      <td>0</td>\n",
       "    </tr>\n",
       "  </tbody>\n",
       "</table>\n",
       "<p>5 rows × 137 columns</p>\n",
       "</div>"
      ],
      "text/plain": [
       "   Sensor ID  13_10000_mean_middle  13_16800_mean_middle  13_3000_mean_middle  \\\n",
       "0         32            765.626263            765.693878           765.640000   \n",
       "1         33            755.000000            779.530612           736.640000   \n",
       "2         34            665.680000            658.920000           675.989247   \n",
       "3         35            861.640000            861.626263           804.320000   \n",
       "4         36            743.520000            743.962025           743.360000   \n",
       "\n",
       "   13_6000_mean_middle  13_8000_mean_middle  18_10000_mean_middle  \\\n",
       "0           765.560000           766.120000           1057.280000   \n",
       "1           779.275862           755.467532           1024.818182   \n",
       "2           653.682353           665.240000            969.480000   \n",
       "3           861.840000           863.000000           1012.333333   \n",
       "4           743.680000           743.600000           1067.000000   \n",
       "\n",
       "   18_16800_mean_middle  18_3000_mean_middle  18_6000_mean_middle  ...  \\\n",
       "0            821.200000          1057.626263          1057.440000  ...   \n",
       "1           1035.640000          1024.777778          1025.720000  ...   \n",
       "2            969.469136           969.520000           969.585859  ...   \n",
       "3           1011.800000          1012.720000          1012.240000  ...   \n",
       "4           1054.880000          1064.494949          1067.000000  ...   \n",
       "\n",
       "   48_16800_mean_upper  48_3000_mean_upper  48_6000_mean_upper  \\\n",
       "0                  0.0         2787.833333                 0.0   \n",
       "1                  0.0         2740.037037                 0.0   \n",
       "2                  0.0            0.000000                 0.0   \n",
       "3                  0.0         2756.839080                 0.0   \n",
       "4                  0.0            0.000000                 0.0   \n",
       "\n",
       "   48_8000_mean_upper  53_10000_mean_upper  53_16800_mean_upper  \\\n",
       "0            0.000000               3099.0             0.000000   \n",
       "1            0.000000                  0.0          3073.666667   \n",
       "2            0.000000                  0.0             0.000000   \n",
       "3         2778.428571                  0.0             0.000000   \n",
       "4            0.000000               3113.0             0.000000   \n",
       "\n",
       "   53_3000_mean_upper  53_6000_mean_upper  53_8000_mean_upper  \\\n",
       "0                 0.0                 0.0                 0.0   \n",
       "1                 0.0              3073.4              3074.0   \n",
       "2                 0.0                 0.0                 0.0   \n",
       "3                 0.0                 0.0                 0.0   \n",
       "4                 0.0                 0.0                 0.0   \n",
       "\n",
       "   Color of sensor_g  \n",
       "0                  0  \n",
       "1                  0  \n",
       "2                  0  \n",
       "3                  0  \n",
       "4                  0  \n",
       "\n",
       "[5 rows x 137 columns]"
      ]
     },
     "execution_count": 205,
     "metadata": {},
     "output_type": "execute_result"
    }
   ],
   "source": [
    "# Merge the unique categorical values DataFrame with the original data on 'Sensor ID'\n",
    "df_all = pd.merge(df_range_delay_all, unique_categorical_values_encoded, on='Sensor ID', how='left')\n",
    "df_all.head()"
   ]
  },
  {
   "cell_type": "markdown",
   "metadata": {},
   "source": [
    "# Feature Engineering: Upper and Lower bound's Frequency"
   ]
  },
  {
   "cell_type": "code",
   "execution_count": null,
   "metadata": {},
   "outputs": [
    {
     "data": {
      "text/html": [
       "<div>\n",
       "<style scoped>\n",
       "    .dataframe tbody tr th:only-of-type {\n",
       "        vertical-align: middle;\n",
       "    }\n",
       "\n",
       "    .dataframe tbody tr th {\n",
       "        vertical-align: top;\n",
       "    }\n",
       "\n",
       "    .dataframe thead th {\n",
       "        text-align: right;\n",
       "    }\n",
       "</style>\n",
       "<table border=\"1\" class=\"dataframe\">\n",
       "  <thead>\n",
       "    <tr style=\"text-align: right;\">\n",
       "      <th></th>\n",
       "      <th>Sensor ID</th>\n",
       "      <th>Delay (us)</th>\n",
       "      <th>Lower Quartile Ping Count</th>\n",
       "      <th>Upper Quartile Ping Count</th>\n",
       "    </tr>\n",
       "  </thead>\n",
       "  <tbody>\n",
       "    <tr>\n",
       "      <th>0</th>\n",
       "      <td>32</td>\n",
       "      <td>3000</td>\n",
       "      <td>78</td>\n",
       "      <td>106</td>\n",
       "    </tr>\n",
       "    <tr>\n",
       "      <th>1</th>\n",
       "      <td>32</td>\n",
       "      <td>6000</td>\n",
       "      <td>5</td>\n",
       "      <td>0</td>\n",
       "    </tr>\n",
       "    <tr>\n",
       "      <th>2</th>\n",
       "      <td>32</td>\n",
       "      <td>8000</td>\n",
       "      <td>39</td>\n",
       "      <td>9</td>\n",
       "    </tr>\n",
       "    <tr>\n",
       "      <th>3</th>\n",
       "      <td>32</td>\n",
       "      <td>10000</td>\n",
       "      <td>25</td>\n",
       "      <td>8</td>\n",
       "    </tr>\n",
       "    <tr>\n",
       "      <th>4</th>\n",
       "      <td>32</td>\n",
       "      <td>16800</td>\n",
       "      <td>10</td>\n",
       "      <td>1</td>\n",
       "    </tr>\n",
       "  </tbody>\n",
       "</table>\n",
       "</div>"
      ],
      "text/plain": [
       "   Sensor ID  Delay (us)  Lower Quartile Ping Count  Upper Quartile Ping Count\n",
       "0         32        3000                         78                        106\n",
       "1         32        6000                          5                          0\n",
       "2         32        8000                         39                          9\n",
       "3         32       10000                         25                          8\n",
       "4         32       16800                         10                          1"
      ]
     },
     "execution_count": 206,
     "metadata": {},
     "output_type": "execute_result"
    }
   ],
   "source": [
    "# Group by 'Sensor ID' and 'Delay (us)' for lower quartile\n",
    "grouped_lower_outliers = df_lower_quartile.groupby(['Sensor ID', 'Delay (us)'])['Ping Time (us)'].count().reset_index()\n",
    "\n",
    "# Group by 'Sensor ID' and 'Delay (us)' for upper quartile\n",
    "grouped_upper_outliers = df_upper_quartile.groupby(['Sensor ID', 'Delay (us)'])['Ping Time (us)'].count().reset_index()\n",
    "\n",
    "# Merge the grouped dataframes with alias column names for the count columns\n",
    "df_outlier_freq = pd.merge(grouped_lower_outliers, grouped_upper_outliers, on=['Sensor ID', 'Delay (us)'], suffixes=('_lower', '_upper'), how='left')\n",
    "\n",
    "# Rename the columns if necessary\n",
    "df_outlier_freq.rename(columns={\n",
    "    'Ping Time (us)_lower': 'Lower Quartile Ping Count',\n",
    "    'Ping Time (us)_upper': 'Upper Quartile Ping Count'\n",
    "}, inplace=True)\n",
    "\n",
    "\n",
    "# Replace NaN values with 0\n",
    "df_outlier_freq.fillna(0, inplace=True)\n",
    "\n",
    "df_outlier_freq['Lower Quartile Ping Count'] = df_outlier_freq['Lower Quartile Ping Count'].astype(int)\n",
    "df_outlier_freq['Upper Quartile Ping Count'] = df_outlier_freq['Upper Quartile Ping Count'].astype(int)\n",
    "\n",
    "\n",
    "# Display the resulting DataFrame\n",
    "df_outlier_freq.head()"
   ]
  },
  {
   "cell_type": "code",
   "execution_count": null,
   "metadata": {},
   "outputs": [
    {
     "data": {
      "text/html": [
       "<div>\n",
       "<style scoped>\n",
       "    .dataframe tbody tr th:only-of-type {\n",
       "        vertical-align: middle;\n",
       "    }\n",
       "\n",
       "    .dataframe tbody tr th {\n",
       "        vertical-align: top;\n",
       "    }\n",
       "\n",
       "    .dataframe thead th {\n",
       "        text-align: right;\n",
       "    }\n",
       "</style>\n",
       "<table border=\"1\" class=\"dataframe\">\n",
       "  <thead>\n",
       "    <tr style=\"text-align: right;\">\n",
       "      <th>delay_freq</th>\n",
       "      <th>Sensor ID</th>\n",
       "      <th>delay_10000_lower</th>\n",
       "      <th>delay_16800_lower</th>\n",
       "      <th>delay_3000_lower</th>\n",
       "      <th>delay_6000_lower</th>\n",
       "      <th>delay_8000_lower</th>\n",
       "    </tr>\n",
       "  </thead>\n",
       "  <tbody>\n",
       "    <tr>\n",
       "      <th>0</th>\n",
       "      <td>32</td>\n",
       "      <td>25.0</td>\n",
       "      <td>10.0</td>\n",
       "      <td>78.0</td>\n",
       "      <td>5.0</td>\n",
       "      <td>39.0</td>\n",
       "    </tr>\n",
       "    <tr>\n",
       "      <th>1</th>\n",
       "      <td>33</td>\n",
       "      <td>176.0</td>\n",
       "      <td>99.0</td>\n",
       "      <td>79.0</td>\n",
       "      <td>121.0</td>\n",
       "      <td>109.0</td>\n",
       "    </tr>\n",
       "    <tr>\n",
       "      <th>2</th>\n",
       "      <td>34</td>\n",
       "      <td>1.0</td>\n",
       "      <td>45.0</td>\n",
       "      <td>112.0</td>\n",
       "      <td>192.0</td>\n",
       "      <td>22.0</td>\n",
       "    </tr>\n",
       "    <tr>\n",
       "      <th>3</th>\n",
       "      <td>35</td>\n",
       "      <td>100.0</td>\n",
       "      <td>10.0</td>\n",
       "      <td>82.0</td>\n",
       "      <td>112.0</td>\n",
       "      <td>203.0</td>\n",
       "    </tr>\n",
       "    <tr>\n",
       "      <th>4</th>\n",
       "      <td>36</td>\n",
       "      <td>100.0</td>\n",
       "      <td>13.0</td>\n",
       "      <td>97.0</td>\n",
       "      <td>165.0</td>\n",
       "      <td>103.0</td>\n",
       "    </tr>\n",
       "  </tbody>\n",
       "</table>\n",
       "</div>"
      ],
      "text/plain": [
       "delay_freq  Sensor ID  delay_10000_lower  delay_16800_lower  delay_3000_lower  \\\n",
       "0                  32               25.0               10.0              78.0   \n",
       "1                  33              176.0               99.0              79.0   \n",
       "2                  34                1.0               45.0             112.0   \n",
       "3                  35              100.0               10.0              82.0   \n",
       "4                  36              100.0               13.0              97.0   \n",
       "\n",
       "delay_freq  delay_6000_lower  delay_8000_lower  \n",
       "0                        5.0              39.0  \n",
       "1                      121.0             109.0  \n",
       "2                      192.0              22.0  \n",
       "3                      112.0             203.0  \n",
       "4                      165.0             103.0  "
      ]
     },
     "execution_count": 207,
     "metadata": {},
     "output_type": "execute_result"
    }
   ],
   "source": [
    "df_outlier_freq['delay_freq'] =  \"delay\"+ '_' + df_outlier_freq['Delay (us)'].astype(str)+'_'+\"lower\"\n",
    "\n",
    "# Step 3: Pivot the table\n",
    "df_pivot_lower = df_outlier_freq.pivot(index='Sensor ID', columns='delay_freq', values='Lower Quartile Ping Count').reset_index()\n",
    "\n",
    "df_pivot_lower.head()"
   ]
  },
  {
   "cell_type": "code",
   "execution_count": null,
   "metadata": {},
   "outputs": [
    {
     "data": {
      "text/html": [
       "<div>\n",
       "<style scoped>\n",
       "    .dataframe tbody tr th:only-of-type {\n",
       "        vertical-align: middle;\n",
       "    }\n",
       "\n",
       "    .dataframe tbody tr th {\n",
       "        vertical-align: top;\n",
       "    }\n",
       "\n",
       "    .dataframe thead th {\n",
       "        text-align: right;\n",
       "    }\n",
       "</style>\n",
       "<table border=\"1\" class=\"dataframe\">\n",
       "  <thead>\n",
       "    <tr style=\"text-align: right;\">\n",
       "      <th>delay_freq</th>\n",
       "      <th>Sensor ID</th>\n",
       "      <th>delay_10000_upper</th>\n",
       "      <th>delay_16800_upper</th>\n",
       "      <th>delay_3000_upper</th>\n",
       "      <th>delay_6000_upper</th>\n",
       "      <th>delay_8000_upper</th>\n",
       "    </tr>\n",
       "  </thead>\n",
       "  <tbody>\n",
       "    <tr>\n",
       "      <th>0</th>\n",
       "      <td>32</td>\n",
       "      <td>8.0</td>\n",
       "      <td>1.0</td>\n",
       "      <td>106.0</td>\n",
       "      <td>0.0</td>\n",
       "      <td>9.0</td>\n",
       "    </tr>\n",
       "    <tr>\n",
       "      <th>1</th>\n",
       "      <td>33</td>\n",
       "      <td>195.0</td>\n",
       "      <td>82.0</td>\n",
       "      <td>110.0</td>\n",
       "      <td>119.0</td>\n",
       "      <td>141.0</td>\n",
       "    </tr>\n",
       "    <tr>\n",
       "      <th>2</th>\n",
       "      <td>34</td>\n",
       "      <td>27.0</td>\n",
       "      <td>35.0</td>\n",
       "      <td>103.0</td>\n",
       "      <td>191.0</td>\n",
       "      <td>15.0</td>\n",
       "    </tr>\n",
       "    <tr>\n",
       "      <th>3</th>\n",
       "      <td>35</td>\n",
       "      <td>100.0</td>\n",
       "      <td>16.0</td>\n",
       "      <td>110.0</td>\n",
       "      <td>89.0</td>\n",
       "      <td>196.0</td>\n",
       "    </tr>\n",
       "    <tr>\n",
       "      <th>4</th>\n",
       "      <td>36</td>\n",
       "      <td>99.0</td>\n",
       "      <td>33.0</td>\n",
       "      <td>81.0</td>\n",
       "      <td>180.0</td>\n",
       "      <td>93.0</td>\n",
       "    </tr>\n",
       "  </tbody>\n",
       "</table>\n",
       "</div>"
      ],
      "text/plain": [
       "delay_freq  Sensor ID  delay_10000_upper  delay_16800_upper  delay_3000_upper  \\\n",
       "0                  32                8.0                1.0             106.0   \n",
       "1                  33              195.0               82.0             110.0   \n",
       "2                  34               27.0               35.0             103.0   \n",
       "3                  35              100.0               16.0             110.0   \n",
       "4                  36               99.0               33.0              81.0   \n",
       "\n",
       "delay_freq  delay_6000_upper  delay_8000_upper  \n",
       "0                        0.0               9.0  \n",
       "1                      119.0             141.0  \n",
       "2                      191.0              15.0  \n",
       "3                       89.0             196.0  \n",
       "4                      180.0              93.0  "
      ]
     },
     "execution_count": 208,
     "metadata": {},
     "output_type": "execute_result"
    }
   ],
   "source": [
    "df_outlier_freq['delay_freq'] =  \"delay\"+ '_' + df_outlier_freq['Delay (us)'].astype(str)+'_'+\"upper\"\n",
    "\n",
    "# Step 3: Pivot the table\n",
    "df_pivot_upper = df_outlier_freq.pivot(index='Sensor ID', columns='delay_freq', values='Upper Quartile Ping Count').reset_index()\n",
    "\n",
    "df_pivot_upper.head()"
   ]
  },
  {
   "cell_type": "code",
   "execution_count": null,
   "metadata": {},
   "outputs": [
    {
     "data": {
      "text/html": [
       "<div>\n",
       "<style scoped>\n",
       "    .dataframe tbody tr th:only-of-type {\n",
       "        vertical-align: middle;\n",
       "    }\n",
       "\n",
       "    .dataframe tbody tr th {\n",
       "        vertical-align: top;\n",
       "    }\n",
       "\n",
       "    .dataframe thead th {\n",
       "        text-align: right;\n",
       "    }\n",
       "</style>\n",
       "<table border=\"1\" class=\"dataframe\">\n",
       "  <thead>\n",
       "    <tr style=\"text-align: right;\">\n",
       "      <th>delay_freq</th>\n",
       "      <th>Sensor ID</th>\n",
       "      <th>delay_10000_lower</th>\n",
       "      <th>delay_16800_lower</th>\n",
       "      <th>delay_3000_lower</th>\n",
       "      <th>delay_6000_lower</th>\n",
       "      <th>delay_8000_lower</th>\n",
       "      <th>delay_10000_upper</th>\n",
       "      <th>delay_16800_upper</th>\n",
       "      <th>delay_3000_upper</th>\n",
       "      <th>delay_6000_upper</th>\n",
       "      <th>delay_8000_upper</th>\n",
       "    </tr>\n",
       "  </thead>\n",
       "  <tbody>\n",
       "    <tr>\n",
       "      <th>0</th>\n",
       "      <td>32</td>\n",
       "      <td>25</td>\n",
       "      <td>10</td>\n",
       "      <td>78</td>\n",
       "      <td>5</td>\n",
       "      <td>39</td>\n",
       "      <td>8</td>\n",
       "      <td>1</td>\n",
       "      <td>106</td>\n",
       "      <td>0</td>\n",
       "      <td>9</td>\n",
       "    </tr>\n",
       "    <tr>\n",
       "      <th>1</th>\n",
       "      <td>33</td>\n",
       "      <td>176</td>\n",
       "      <td>99</td>\n",
       "      <td>79</td>\n",
       "      <td>121</td>\n",
       "      <td>109</td>\n",
       "      <td>195</td>\n",
       "      <td>82</td>\n",
       "      <td>110</td>\n",
       "      <td>119</td>\n",
       "      <td>141</td>\n",
       "    </tr>\n",
       "    <tr>\n",
       "      <th>2</th>\n",
       "      <td>34</td>\n",
       "      <td>1</td>\n",
       "      <td>45</td>\n",
       "      <td>112</td>\n",
       "      <td>192</td>\n",
       "      <td>22</td>\n",
       "      <td>27</td>\n",
       "      <td>35</td>\n",
       "      <td>103</td>\n",
       "      <td>191</td>\n",
       "      <td>15</td>\n",
       "    </tr>\n",
       "    <tr>\n",
       "      <th>3</th>\n",
       "      <td>35</td>\n",
       "      <td>100</td>\n",
       "      <td>10</td>\n",
       "      <td>82</td>\n",
       "      <td>112</td>\n",
       "      <td>203</td>\n",
       "      <td>100</td>\n",
       "      <td>16</td>\n",
       "      <td>110</td>\n",
       "      <td>89</td>\n",
       "      <td>196</td>\n",
       "    </tr>\n",
       "    <tr>\n",
       "      <th>4</th>\n",
       "      <td>36</td>\n",
       "      <td>100</td>\n",
       "      <td>13</td>\n",
       "      <td>97</td>\n",
       "      <td>165</td>\n",
       "      <td>103</td>\n",
       "      <td>99</td>\n",
       "      <td>33</td>\n",
       "      <td>81</td>\n",
       "      <td>180</td>\n",
       "      <td>93</td>\n",
       "    </tr>\n",
       "    <tr>\n",
       "      <th>...</th>\n",
       "      <td>...</td>\n",
       "      <td>...</td>\n",
       "      <td>...</td>\n",
       "      <td>...</td>\n",
       "      <td>...</td>\n",
       "      <td>...</td>\n",
       "      <td>...</td>\n",
       "      <td>...</td>\n",
       "      <td>...</td>\n",
       "      <td>...</td>\n",
       "      <td>...</td>\n",
       "    </tr>\n",
       "    <tr>\n",
       "      <th>72</th>\n",
       "      <td>104</td>\n",
       "      <td>47</td>\n",
       "      <td>11</td>\n",
       "      <td>122</td>\n",
       "      <td>102</td>\n",
       "      <td>42</td>\n",
       "      <td>73</td>\n",
       "      <td>43</td>\n",
       "      <td>131</td>\n",
       "      <td>90</td>\n",
       "      <td>47</td>\n",
       "    </tr>\n",
       "    <tr>\n",
       "      <th>73</th>\n",
       "      <td>105</td>\n",
       "      <td>79</td>\n",
       "      <td>22</td>\n",
       "      <td>40</td>\n",
       "      <td>85</td>\n",
       "      <td>119</td>\n",
       "      <td>81</td>\n",
       "      <td>15</td>\n",
       "      <td>51</td>\n",
       "      <td>104</td>\n",
       "      <td>134</td>\n",
       "    </tr>\n",
       "    <tr>\n",
       "      <th>74</th>\n",
       "      <td>106</td>\n",
       "      <td>134</td>\n",
       "      <td>3</td>\n",
       "      <td>163</td>\n",
       "      <td>227</td>\n",
       "      <td>153</td>\n",
       "      <td>136</td>\n",
       "      <td>13</td>\n",
       "      <td>126</td>\n",
       "      <td>222</td>\n",
       "      <td>132</td>\n",
       "    </tr>\n",
       "    <tr>\n",
       "      <th>75</th>\n",
       "      <td>107</td>\n",
       "      <td>45</td>\n",
       "      <td>4</td>\n",
       "      <td>133</td>\n",
       "      <td>93</td>\n",
       "      <td>122</td>\n",
       "      <td>48</td>\n",
       "      <td>24</td>\n",
       "      <td>134</td>\n",
       "      <td>86</td>\n",
       "      <td>130</td>\n",
       "    </tr>\n",
       "    <tr>\n",
       "      <th>76</th>\n",
       "      <td>108</td>\n",
       "      <td>94</td>\n",
       "      <td>7</td>\n",
       "      <td>0</td>\n",
       "      <td>1</td>\n",
       "      <td>41</td>\n",
       "      <td>105</td>\n",
       "      <td>20</td>\n",
       "      <td>0</td>\n",
       "      <td>5</td>\n",
       "      <td>51</td>\n",
       "    </tr>\n",
       "  </tbody>\n",
       "</table>\n",
       "<p>77 rows × 11 columns</p>\n",
       "</div>"
      ],
      "text/plain": [
       "delay_freq  Sensor ID  delay_10000_lower  delay_16800_lower  delay_3000_lower  \\\n",
       "0                  32                 25                 10                78   \n",
       "1                  33                176                 99                79   \n",
       "2                  34                  1                 45               112   \n",
       "3                  35                100                 10                82   \n",
       "4                  36                100                 13                97   \n",
       "..                ...                ...                ...               ...   \n",
       "72                104                 47                 11               122   \n",
       "73                105                 79                 22                40   \n",
       "74                106                134                  3               163   \n",
       "75                107                 45                  4               133   \n",
       "76                108                 94                  7                 0   \n",
       "\n",
       "delay_freq  delay_6000_lower  delay_8000_lower  delay_10000_upper  \\\n",
       "0                          5                39                  8   \n",
       "1                        121               109                195   \n",
       "2                        192                22                 27   \n",
       "3                        112               203                100   \n",
       "4                        165               103                 99   \n",
       "..                       ...               ...                ...   \n",
       "72                       102                42                 73   \n",
       "73                        85               119                 81   \n",
       "74                       227               153                136   \n",
       "75                        93               122                 48   \n",
       "76                         1                41                105   \n",
       "\n",
       "delay_freq  delay_16800_upper  delay_3000_upper  delay_6000_upper  \\\n",
       "0                           1               106                 0   \n",
       "1                          82               110               119   \n",
       "2                          35               103               191   \n",
       "3                          16               110                89   \n",
       "4                          33                81               180   \n",
       "..                        ...               ...               ...   \n",
       "72                         43               131                90   \n",
       "73                         15                51               104   \n",
       "74                         13               126               222   \n",
       "75                         24               134                86   \n",
       "76                         20                 0                 5   \n",
       "\n",
       "delay_freq  delay_8000_upper  \n",
       "0                          9  \n",
       "1                        141  \n",
       "2                         15  \n",
       "3                        196  \n",
       "4                         93  \n",
       "..                       ...  \n",
       "72                        47  \n",
       "73                       134  \n",
       "74                       132  \n",
       "75                       130  \n",
       "76                        51  \n",
       "\n",
       "[77 rows x 11 columns]"
      ]
     },
     "execution_count": 209,
     "metadata": {},
     "output_type": "execute_result"
    }
   ],
   "source": [
    "df_delay_freq = pd.merge(df_pivot_lower,df_pivot_upper, on='Sensor ID',how='left')\n",
    "# Replace NaN values with 0\n",
    "df_delay_freq.fillna(0, inplace=True)\n",
    "df_delay_freq = df_delay_freq.astype(int)\n",
    "\n",
    "df_delay_freq"
   ]
  },
  {
   "cell_type": "code",
   "execution_count": null,
   "metadata": {},
   "outputs": [
    {
     "data": {
      "text/html": [
       "<div>\n",
       "<style scoped>\n",
       "    .dataframe tbody tr th:only-of-type {\n",
       "        vertical-align: middle;\n",
       "    }\n",
       "\n",
       "    .dataframe tbody tr th {\n",
       "        vertical-align: top;\n",
       "    }\n",
       "\n",
       "    .dataframe thead th {\n",
       "        text-align: right;\n",
       "    }\n",
       "</style>\n",
       "<table border=\"1\" class=\"dataframe\">\n",
       "  <thead>\n",
       "    <tr style=\"text-align: right;\">\n",
       "      <th></th>\n",
       "      <th>Sensor ID</th>\n",
       "      <th>13_10000_mean_middle</th>\n",
       "      <th>13_16800_mean_middle</th>\n",
       "      <th>13_3000_mean_middle</th>\n",
       "      <th>13_6000_mean_middle</th>\n",
       "      <th>13_8000_mean_middle</th>\n",
       "      <th>18_10000_mean_middle</th>\n",
       "      <th>18_16800_mean_middle</th>\n",
       "      <th>18_3000_mean_middle</th>\n",
       "      <th>18_6000_mean_middle</th>\n",
       "      <th>...</th>\n",
       "      <th>delay_10000_lower</th>\n",
       "      <th>delay_16800_lower</th>\n",
       "      <th>delay_3000_lower</th>\n",
       "      <th>delay_6000_lower</th>\n",
       "      <th>delay_8000_lower</th>\n",
       "      <th>delay_10000_upper</th>\n",
       "      <th>delay_16800_upper</th>\n",
       "      <th>delay_3000_upper</th>\n",
       "      <th>delay_6000_upper</th>\n",
       "      <th>delay_8000_upper</th>\n",
       "    </tr>\n",
       "  </thead>\n",
       "  <tbody>\n",
       "    <tr>\n",
       "      <th>0</th>\n",
       "      <td>32</td>\n",
       "      <td>765.626263</td>\n",
       "      <td>765.693878</td>\n",
       "      <td>765.640000</td>\n",
       "      <td>765.560000</td>\n",
       "      <td>766.120000</td>\n",
       "      <td>1057.280000</td>\n",
       "      <td>821.200000</td>\n",
       "      <td>1057.626263</td>\n",
       "      <td>1057.440000</td>\n",
       "      <td>...</td>\n",
       "      <td>25</td>\n",
       "      <td>10</td>\n",
       "      <td>78</td>\n",
       "      <td>5</td>\n",
       "      <td>39</td>\n",
       "      <td>8</td>\n",
       "      <td>1</td>\n",
       "      <td>106</td>\n",
       "      <td>0</td>\n",
       "      <td>9</td>\n",
       "    </tr>\n",
       "    <tr>\n",
       "      <th>1</th>\n",
       "      <td>33</td>\n",
       "      <td>755.000000</td>\n",
       "      <td>779.530612</td>\n",
       "      <td>736.640000</td>\n",
       "      <td>779.275862</td>\n",
       "      <td>755.467532</td>\n",
       "      <td>1024.818182</td>\n",
       "      <td>1035.640000</td>\n",
       "      <td>1024.777778</td>\n",
       "      <td>1025.720000</td>\n",
       "      <td>...</td>\n",
       "      <td>176</td>\n",
       "      <td>99</td>\n",
       "      <td>79</td>\n",
       "      <td>121</td>\n",
       "      <td>109</td>\n",
       "      <td>195</td>\n",
       "      <td>82</td>\n",
       "      <td>110</td>\n",
       "      <td>119</td>\n",
       "      <td>141</td>\n",
       "    </tr>\n",
       "    <tr>\n",
       "      <th>2</th>\n",
       "      <td>34</td>\n",
       "      <td>665.680000</td>\n",
       "      <td>658.920000</td>\n",
       "      <td>675.989247</td>\n",
       "      <td>653.682353</td>\n",
       "      <td>665.240000</td>\n",
       "      <td>969.480000</td>\n",
       "      <td>969.469136</td>\n",
       "      <td>969.520000</td>\n",
       "      <td>969.585859</td>\n",
       "      <td>...</td>\n",
       "      <td>1</td>\n",
       "      <td>45</td>\n",
       "      <td>112</td>\n",
       "      <td>192</td>\n",
       "      <td>22</td>\n",
       "      <td>27</td>\n",
       "      <td>35</td>\n",
       "      <td>103</td>\n",
       "      <td>191</td>\n",
       "      <td>15</td>\n",
       "    </tr>\n",
       "    <tr>\n",
       "      <th>3</th>\n",
       "      <td>35</td>\n",
       "      <td>861.640000</td>\n",
       "      <td>861.626263</td>\n",
       "      <td>804.320000</td>\n",
       "      <td>861.840000</td>\n",
       "      <td>863.000000</td>\n",
       "      <td>1012.333333</td>\n",
       "      <td>1011.800000</td>\n",
       "      <td>1012.720000</td>\n",
       "      <td>1012.240000</td>\n",
       "      <td>...</td>\n",
       "      <td>100</td>\n",
       "      <td>10</td>\n",
       "      <td>82</td>\n",
       "      <td>112</td>\n",
       "      <td>203</td>\n",
       "      <td>100</td>\n",
       "      <td>16</td>\n",
       "      <td>110</td>\n",
       "      <td>89</td>\n",
       "      <td>196</td>\n",
       "    </tr>\n",
       "    <tr>\n",
       "      <th>4</th>\n",
       "      <td>36</td>\n",
       "      <td>743.520000</td>\n",
       "      <td>743.962025</td>\n",
       "      <td>743.360000</td>\n",
       "      <td>743.680000</td>\n",
       "      <td>743.600000</td>\n",
       "      <td>1067.000000</td>\n",
       "      <td>1054.880000</td>\n",
       "      <td>1064.494949</td>\n",
       "      <td>1067.000000</td>\n",
       "      <td>...</td>\n",
       "      <td>100</td>\n",
       "      <td>13</td>\n",
       "      <td>97</td>\n",
       "      <td>165</td>\n",
       "      <td>103</td>\n",
       "      <td>99</td>\n",
       "      <td>33</td>\n",
       "      <td>81</td>\n",
       "      <td>180</td>\n",
       "      <td>93</td>\n",
       "    </tr>\n",
       "  </tbody>\n",
       "</table>\n",
       "<p>5 rows × 147 columns</p>\n",
       "</div>"
      ],
      "text/plain": [
       "   Sensor ID  13_10000_mean_middle  13_16800_mean_middle  13_3000_mean_middle  \\\n",
       "0         32            765.626263            765.693878           765.640000   \n",
       "1         33            755.000000            779.530612           736.640000   \n",
       "2         34            665.680000            658.920000           675.989247   \n",
       "3         35            861.640000            861.626263           804.320000   \n",
       "4         36            743.520000            743.962025           743.360000   \n",
       "\n",
       "   13_6000_mean_middle  13_8000_mean_middle  18_10000_mean_middle  \\\n",
       "0           765.560000           766.120000           1057.280000   \n",
       "1           779.275862           755.467532           1024.818182   \n",
       "2           653.682353           665.240000            969.480000   \n",
       "3           861.840000           863.000000           1012.333333   \n",
       "4           743.680000           743.600000           1067.000000   \n",
       "\n",
       "   18_16800_mean_middle  18_3000_mean_middle  18_6000_mean_middle  ...  \\\n",
       "0            821.200000          1057.626263          1057.440000  ...   \n",
       "1           1035.640000          1024.777778          1025.720000  ...   \n",
       "2            969.469136           969.520000           969.585859  ...   \n",
       "3           1011.800000          1012.720000          1012.240000  ...   \n",
       "4           1054.880000          1064.494949          1067.000000  ...   \n",
       "\n",
       "   delay_10000_lower  delay_16800_lower  delay_3000_lower  delay_6000_lower  \\\n",
       "0                 25                 10                78                 5   \n",
       "1                176                 99                79               121   \n",
       "2                  1                 45               112               192   \n",
       "3                100                 10                82               112   \n",
       "4                100                 13                97               165   \n",
       "\n",
       "   delay_8000_lower  delay_10000_upper  delay_16800_upper  delay_3000_upper  \\\n",
       "0                39                  8                  1               106   \n",
       "1               109                195                 82               110   \n",
       "2                22                 27                 35               103   \n",
       "3               203                100                 16               110   \n",
       "4               103                 99                 33                81   \n",
       "\n",
       "   delay_6000_upper  delay_8000_upper  \n",
       "0                 0                 9  \n",
       "1               119               141  \n",
       "2               191                15  \n",
       "3                89               196  \n",
       "4               180                93  \n",
       "\n",
       "[5 rows x 147 columns]"
      ]
     },
     "execution_count": 210,
     "metadata": {},
     "output_type": "execute_result"
    }
   ],
   "source": [
    "# Merge the unique categorical values DataFrame with the original data on 'Sensor ID'\n",
    "df_all = pd.merge(df_all, df_delay_freq, on='Sensor ID', how='left')\n",
    "df_all.head()"
   ]
  },
  {
   "cell_type": "markdown",
   "metadata": {},
   "source": [
    "# Feature Engineering: Add Variability"
   ]
  },
  {
   "cell_type": "code",
   "execution_count": null,
   "metadata": {},
   "outputs": [],
   "source": [
    "\n",
    "def create_range_delay_feature_variability(df_quartile,bound):\n",
    "    # Step 1: Group and calculate mean\n",
    "    df_grouped = df_quartile.groupby(['Sensor ID', 'Range (cm)', 'Delay (us)'])['Ping Time (us)'].var().reset_index()\n",
    "\n",
    "    # Step 2: Create `range_delay` column\n",
    "    df_grouped['range_delay_var'] = df_grouped['Range (cm)'].astype(str) + '_' + df_grouped['Delay (us)'].astype(str)+'_'+'var'+'_'+bound\n",
    "\n",
    "    # Step 3: Pivot the table\n",
    "    df_pivot = df_grouped.pivot(index='Sensor ID', columns='range_delay_var', values='Ping Time (us)').reset_index()\n",
    "    \n",
    "    return df_pivot\n",
    "\n",
    "\n",
    "def feature_engineering_quartile_var(df):\n",
    "    df_middle_quartile, df_lower_quartile, df_upper_quartile = split_quartiles(df)\n",
    "    df_range_delay_middle = create_range_delay_feature_variability(df_middle_quartile,\"middle\")\n",
    "    df_range_delay_lower = create_range_delay_feature_variability(df_lower_quartile,\"lower\")\n",
    "    df_range_delay_upper = create_range_delay_feature_variability(df_upper_quartile,\"upper\")\n",
    "\n",
    "    # List of DataFrames\n",
    "    df_pivots = [df_range_delay_middle, df_range_delay_lower, df_range_delay_upper]\n",
    "\n",
    "    # Initialize the merged DataFrame with the first DataFrame in the list\n",
    "    df_range_delay_all = df_pivots[0]\n",
    "\n",
    "    # Iteratively merge each DataFrame in the list\n",
    "    for df in df_pivots[1:]:\n",
    "        df_range_delay_all = df_range_delay_all.merge(df, on='Sensor ID')\n",
    "        \n",
    "    # Replace all NaN values with 0 in the merged DataFrame\n",
    "    df_range_delay_all.fillna(0, inplace=True)\n",
    "\n",
    "    return df_range_delay_all, df_range_delay_middle, df_range_delay_lower,df_range_delay_upper\n",
    "    \n",
    "\n",
    "df_range_delay_var_all,df_range_delay_var_middle, df_range_delay_var_lower,df_range_var_delay_upper = feature_engineering_quartile_var(df_data_v4_1_1)\n"
   ]
  },
  {
   "cell_type": "code",
   "execution_count": null,
   "metadata": {},
   "outputs": [
    {
     "data": {
      "text/html": [
       "<div>\n",
       "<style scoped>\n",
       "    .dataframe tbody tr th:only-of-type {\n",
       "        vertical-align: middle;\n",
       "    }\n",
       "\n",
       "    .dataframe tbody tr th {\n",
       "        vertical-align: top;\n",
       "    }\n",
       "\n",
       "    .dataframe thead th {\n",
       "        text-align: right;\n",
       "    }\n",
       "</style>\n",
       "<table border=\"1\" class=\"dataframe\">\n",
       "  <thead>\n",
       "    <tr style=\"text-align: right;\">\n",
       "      <th>range_delay_var</th>\n",
       "      <th>Sensor ID</th>\n",
       "      <th>13_10000_var_middle</th>\n",
       "      <th>13_16800_var_middle</th>\n",
       "      <th>13_3000_var_middle</th>\n",
       "      <th>13_6000_var_middle</th>\n",
       "      <th>13_8000_var_middle</th>\n",
       "      <th>18_10000_var_middle</th>\n",
       "      <th>18_16800_var_middle</th>\n",
       "      <th>18_3000_var_middle</th>\n",
       "      <th>18_6000_var_middle</th>\n",
       "      <th>...</th>\n",
       "      <th>48_10000_var_upper</th>\n",
       "      <th>48_16800_var_upper</th>\n",
       "      <th>48_3000_var_upper</th>\n",
       "      <th>48_6000_var_upper</th>\n",
       "      <th>48_8000_var_upper</th>\n",
       "      <th>53_10000_var_upper</th>\n",
       "      <th>53_16800_var_upper</th>\n",
       "      <th>53_3000_var_upper</th>\n",
       "      <th>53_6000_var_upper</th>\n",
       "      <th>53_8000_var_upper</th>\n",
       "    </tr>\n",
       "  </thead>\n",
       "  <tbody>\n",
       "    <tr>\n",
       "      <th>0</th>\n",
       "      <td>32</td>\n",
       "      <td>8.216038</td>\n",
       "      <td>6.523880</td>\n",
       "      <td>6.858990</td>\n",
       "      <td>7.602424</td>\n",
       "      <td>6.328889</td>\n",
       "      <td>4.607677</td>\n",
       "      <td>108061.212121</td>\n",
       "      <td>4.950732</td>\n",
       "      <td>4.814545</td>\n",
       "      <td>...</td>\n",
       "      <td>0.000000</td>\n",
       "      <td>0.0</td>\n",
       "      <td>2.753623</td>\n",
       "      <td>0.0</td>\n",
       "      <td>0.000000</td>\n",
       "      <td>0.0</td>\n",
       "      <td>0.000000</td>\n",
       "      <td>0.0</td>\n",
       "      <td>0.0</td>\n",
       "      <td>0.0</td>\n",
       "    </tr>\n",
       "    <tr>\n",
       "      <th>1</th>\n",
       "      <td>33</td>\n",
       "      <td>0.000000</td>\n",
       "      <td>7.468125</td>\n",
       "      <td>6.495354</td>\n",
       "      <td>9.969527</td>\n",
       "      <td>3.778537</td>\n",
       "      <td>8.905380</td>\n",
       "      <td>161.525657</td>\n",
       "      <td>9.541950</td>\n",
       "      <td>6.749091</td>\n",
       "      <td>...</td>\n",
       "      <td>0.000000</td>\n",
       "      <td>0.0</td>\n",
       "      <td>3.111111</td>\n",
       "      <td>0.0</td>\n",
       "      <td>0.000000</td>\n",
       "      <td>0.0</td>\n",
       "      <td>21.333333</td>\n",
       "      <td>0.0</td>\n",
       "      <td>4.8</td>\n",
       "      <td>8.0</td>\n",
       "    </tr>\n",
       "    <tr>\n",
       "      <th>2</th>\n",
       "      <td>34</td>\n",
       "      <td>129.310707</td>\n",
       "      <td>120.559192</td>\n",
       "      <td>7.880318</td>\n",
       "      <td>5.100280</td>\n",
       "      <td>135.861010</td>\n",
       "      <td>5.100606</td>\n",
       "      <td>6.227160</td>\n",
       "      <td>6.353131</td>\n",
       "      <td>7.612451</td>\n",
       "      <td>...</td>\n",
       "      <td>0.000000</td>\n",
       "      <td>0.0</td>\n",
       "      <td>0.000000</td>\n",
       "      <td>0.0</td>\n",
       "      <td>0.000000</td>\n",
       "      <td>0.0</td>\n",
       "      <td>0.000000</td>\n",
       "      <td>0.0</td>\n",
       "      <td>0.0</td>\n",
       "      <td>0.0</td>\n",
       "    </tr>\n",
       "    <tr>\n",
       "      <th>3</th>\n",
       "      <td>35</td>\n",
       "      <td>5.242828</td>\n",
       "      <td>4.297671</td>\n",
       "      <td>4.543030</td>\n",
       "      <td>3.327677</td>\n",
       "      <td>0.000000</td>\n",
       "      <td>6.857143</td>\n",
       "      <td>6.141414</td>\n",
       "      <td>6.223838</td>\n",
       "      <td>7.012525</td>\n",
       "      <td>...</td>\n",
       "      <td>64.580984</td>\n",
       "      <td>0.0</td>\n",
       "      <td>30.811013</td>\n",
       "      <td>0.0</td>\n",
       "      <td>7.032967</td>\n",
       "      <td>0.0</td>\n",
       "      <td>0.000000</td>\n",
       "      <td>0.0</td>\n",
       "      <td>0.0</td>\n",
       "      <td>0.0</td>\n",
       "    </tr>\n",
       "    <tr>\n",
       "      <th>4</th>\n",
       "      <td>36</td>\n",
       "      <td>6.676364</td>\n",
       "      <td>6.652386</td>\n",
       "      <td>7.788283</td>\n",
       "      <td>7.128889</td>\n",
       "      <td>7.232323</td>\n",
       "      <td>0.000000</td>\n",
       "      <td>212.510707</td>\n",
       "      <td>8.681097</td>\n",
       "      <td>0.000000</td>\n",
       "      <td>...</td>\n",
       "      <td>0.000000</td>\n",
       "      <td>0.0</td>\n",
       "      <td>0.000000</td>\n",
       "      <td>0.0</td>\n",
       "      <td>0.000000</td>\n",
       "      <td>4.8</td>\n",
       "      <td>0.000000</td>\n",
       "      <td>0.0</td>\n",
       "      <td>0.0</td>\n",
       "      <td>0.0</td>\n",
       "    </tr>\n",
       "  </tbody>\n",
       "</table>\n",
       "<p>5 rows × 136 columns</p>\n",
       "</div>"
      ],
      "text/plain": [
       "range_delay_var  Sensor ID  13_10000_var_middle  13_16800_var_middle  \\\n",
       "0                       32             8.216038             6.523880   \n",
       "1                       33             0.000000             7.468125   \n",
       "2                       34           129.310707           120.559192   \n",
       "3                       35             5.242828             4.297671   \n",
       "4                       36             6.676364             6.652386   \n",
       "\n",
       "range_delay_var  13_3000_var_middle  13_6000_var_middle  13_8000_var_middle  \\\n",
       "0                          6.858990            7.602424            6.328889   \n",
       "1                          6.495354            9.969527            3.778537   \n",
       "2                          7.880318            5.100280          135.861010   \n",
       "3                          4.543030            3.327677            0.000000   \n",
       "4                          7.788283            7.128889            7.232323   \n",
       "\n",
       "range_delay_var  18_10000_var_middle  18_16800_var_middle  18_3000_var_middle  \\\n",
       "0                           4.607677        108061.212121            4.950732   \n",
       "1                           8.905380           161.525657            9.541950   \n",
       "2                           5.100606             6.227160            6.353131   \n",
       "3                           6.857143             6.141414            6.223838   \n",
       "4                           0.000000           212.510707            8.681097   \n",
       "\n",
       "range_delay_var  18_6000_var_middle  ...  48_10000_var_upper  \\\n",
       "0                          4.814545  ...            0.000000   \n",
       "1                          6.749091  ...            0.000000   \n",
       "2                          7.612451  ...            0.000000   \n",
       "3                          7.012525  ...           64.580984   \n",
       "4                          0.000000  ...            0.000000   \n",
       "\n",
       "range_delay_var  48_16800_var_upper  48_3000_var_upper  48_6000_var_upper  \\\n",
       "0                               0.0           2.753623                0.0   \n",
       "1                               0.0           3.111111                0.0   \n",
       "2                               0.0           0.000000                0.0   \n",
       "3                               0.0          30.811013                0.0   \n",
       "4                               0.0           0.000000                0.0   \n",
       "\n",
       "range_delay_var  48_8000_var_upper  53_10000_var_upper  53_16800_var_upper  \\\n",
       "0                         0.000000                 0.0            0.000000   \n",
       "1                         0.000000                 0.0           21.333333   \n",
       "2                         0.000000                 0.0            0.000000   \n",
       "3                         7.032967                 0.0            0.000000   \n",
       "4                         0.000000                 4.8            0.000000   \n",
       "\n",
       "range_delay_var  53_3000_var_upper  53_6000_var_upper  53_8000_var_upper  \n",
       "0                              0.0                0.0                0.0  \n",
       "1                              0.0                4.8                8.0  \n",
       "2                              0.0                0.0                0.0  \n",
       "3                              0.0                0.0                0.0  \n",
       "4                              0.0                0.0                0.0  \n",
       "\n",
       "[5 rows x 136 columns]"
      ]
     },
     "execution_count": 212,
     "metadata": {},
     "output_type": "execute_result"
    }
   ],
   "source": [
    "df_range_delay_var_all.head()"
   ]
  },
  {
   "cell_type": "code",
   "execution_count": null,
   "metadata": {},
   "outputs": [
    {
     "data": {
      "text/html": [
       "<div>\n",
       "<style scoped>\n",
       "    .dataframe tbody tr th:only-of-type {\n",
       "        vertical-align: middle;\n",
       "    }\n",
       "\n",
       "    .dataframe tbody tr th {\n",
       "        vertical-align: top;\n",
       "    }\n",
       "\n",
       "    .dataframe thead th {\n",
       "        text-align: right;\n",
       "    }\n",
       "</style>\n",
       "<table border=\"1\" class=\"dataframe\">\n",
       "  <thead>\n",
       "    <tr style=\"text-align: right;\">\n",
       "      <th></th>\n",
       "      <th>Sensor ID</th>\n",
       "      <th>13_10000_mean_middle</th>\n",
       "      <th>13_16800_mean_middle</th>\n",
       "      <th>13_3000_mean_middle</th>\n",
       "      <th>13_6000_mean_middle</th>\n",
       "      <th>13_8000_mean_middle</th>\n",
       "      <th>18_10000_mean_middle</th>\n",
       "      <th>18_16800_mean_middle</th>\n",
       "      <th>18_3000_mean_middle</th>\n",
       "      <th>18_6000_mean_middle</th>\n",
       "      <th>...</th>\n",
       "      <th>48_10000_var_upper</th>\n",
       "      <th>48_16800_var_upper</th>\n",
       "      <th>48_3000_var_upper</th>\n",
       "      <th>48_6000_var_upper</th>\n",
       "      <th>48_8000_var_upper</th>\n",
       "      <th>53_10000_var_upper</th>\n",
       "      <th>53_16800_var_upper</th>\n",
       "      <th>53_3000_var_upper</th>\n",
       "      <th>53_6000_var_upper</th>\n",
       "      <th>53_8000_var_upper</th>\n",
       "    </tr>\n",
       "  </thead>\n",
       "  <tbody>\n",
       "    <tr>\n",
       "      <th>0</th>\n",
       "      <td>32</td>\n",
       "      <td>765.626263</td>\n",
       "      <td>765.693878</td>\n",
       "      <td>765.640000</td>\n",
       "      <td>765.560000</td>\n",
       "      <td>766.120000</td>\n",
       "      <td>1057.280000</td>\n",
       "      <td>821.200000</td>\n",
       "      <td>1057.626263</td>\n",
       "      <td>1057.440000</td>\n",
       "      <td>...</td>\n",
       "      <td>0.000000</td>\n",
       "      <td>0.0</td>\n",
       "      <td>2.753623</td>\n",
       "      <td>0.0</td>\n",
       "      <td>0.000000</td>\n",
       "      <td>0.0</td>\n",
       "      <td>0.000000</td>\n",
       "      <td>0.0</td>\n",
       "      <td>0.0</td>\n",
       "      <td>0.0</td>\n",
       "    </tr>\n",
       "    <tr>\n",
       "      <th>1</th>\n",
       "      <td>33</td>\n",
       "      <td>755.000000</td>\n",
       "      <td>779.530612</td>\n",
       "      <td>736.640000</td>\n",
       "      <td>779.275862</td>\n",
       "      <td>755.467532</td>\n",
       "      <td>1024.818182</td>\n",
       "      <td>1035.640000</td>\n",
       "      <td>1024.777778</td>\n",
       "      <td>1025.720000</td>\n",
       "      <td>...</td>\n",
       "      <td>0.000000</td>\n",
       "      <td>0.0</td>\n",
       "      <td>3.111111</td>\n",
       "      <td>0.0</td>\n",
       "      <td>0.000000</td>\n",
       "      <td>0.0</td>\n",
       "      <td>21.333333</td>\n",
       "      <td>0.0</td>\n",
       "      <td>4.8</td>\n",
       "      <td>8.0</td>\n",
       "    </tr>\n",
       "    <tr>\n",
       "      <th>2</th>\n",
       "      <td>34</td>\n",
       "      <td>665.680000</td>\n",
       "      <td>658.920000</td>\n",
       "      <td>675.989247</td>\n",
       "      <td>653.682353</td>\n",
       "      <td>665.240000</td>\n",
       "      <td>969.480000</td>\n",
       "      <td>969.469136</td>\n",
       "      <td>969.520000</td>\n",
       "      <td>969.585859</td>\n",
       "      <td>...</td>\n",
       "      <td>0.000000</td>\n",
       "      <td>0.0</td>\n",
       "      <td>0.000000</td>\n",
       "      <td>0.0</td>\n",
       "      <td>0.000000</td>\n",
       "      <td>0.0</td>\n",
       "      <td>0.000000</td>\n",
       "      <td>0.0</td>\n",
       "      <td>0.0</td>\n",
       "      <td>0.0</td>\n",
       "    </tr>\n",
       "    <tr>\n",
       "      <th>3</th>\n",
       "      <td>35</td>\n",
       "      <td>861.640000</td>\n",
       "      <td>861.626263</td>\n",
       "      <td>804.320000</td>\n",
       "      <td>861.840000</td>\n",
       "      <td>863.000000</td>\n",
       "      <td>1012.333333</td>\n",
       "      <td>1011.800000</td>\n",
       "      <td>1012.720000</td>\n",
       "      <td>1012.240000</td>\n",
       "      <td>...</td>\n",
       "      <td>64.580984</td>\n",
       "      <td>0.0</td>\n",
       "      <td>30.811013</td>\n",
       "      <td>0.0</td>\n",
       "      <td>7.032967</td>\n",
       "      <td>0.0</td>\n",
       "      <td>0.000000</td>\n",
       "      <td>0.0</td>\n",
       "      <td>0.0</td>\n",
       "      <td>0.0</td>\n",
       "    </tr>\n",
       "    <tr>\n",
       "      <th>4</th>\n",
       "      <td>36</td>\n",
       "      <td>743.520000</td>\n",
       "      <td>743.962025</td>\n",
       "      <td>743.360000</td>\n",
       "      <td>743.680000</td>\n",
       "      <td>743.600000</td>\n",
       "      <td>1067.000000</td>\n",
       "      <td>1054.880000</td>\n",
       "      <td>1064.494949</td>\n",
       "      <td>1067.000000</td>\n",
       "      <td>...</td>\n",
       "      <td>0.000000</td>\n",
       "      <td>0.0</td>\n",
       "      <td>0.000000</td>\n",
       "      <td>0.0</td>\n",
       "      <td>0.000000</td>\n",
       "      <td>4.8</td>\n",
       "      <td>0.000000</td>\n",
       "      <td>0.0</td>\n",
       "      <td>0.0</td>\n",
       "      <td>0.0</td>\n",
       "    </tr>\n",
       "  </tbody>\n",
       "</table>\n",
       "<p>5 rows × 282 columns</p>\n",
       "</div>"
      ],
      "text/plain": [
       "   Sensor ID  13_10000_mean_middle  13_16800_mean_middle  13_3000_mean_middle  \\\n",
       "0         32            765.626263            765.693878           765.640000   \n",
       "1         33            755.000000            779.530612           736.640000   \n",
       "2         34            665.680000            658.920000           675.989247   \n",
       "3         35            861.640000            861.626263           804.320000   \n",
       "4         36            743.520000            743.962025           743.360000   \n",
       "\n",
       "   13_6000_mean_middle  13_8000_mean_middle  18_10000_mean_middle  \\\n",
       "0           765.560000           766.120000           1057.280000   \n",
       "1           779.275862           755.467532           1024.818182   \n",
       "2           653.682353           665.240000            969.480000   \n",
       "3           861.840000           863.000000           1012.333333   \n",
       "4           743.680000           743.600000           1067.000000   \n",
       "\n",
       "   18_16800_mean_middle  18_3000_mean_middle  18_6000_mean_middle  ...  \\\n",
       "0            821.200000          1057.626263          1057.440000  ...   \n",
       "1           1035.640000          1024.777778          1025.720000  ...   \n",
       "2            969.469136           969.520000           969.585859  ...   \n",
       "3           1011.800000          1012.720000          1012.240000  ...   \n",
       "4           1054.880000          1064.494949          1067.000000  ...   \n",
       "\n",
       "   48_10000_var_upper  48_16800_var_upper  48_3000_var_upper  \\\n",
       "0            0.000000                 0.0           2.753623   \n",
       "1            0.000000                 0.0           3.111111   \n",
       "2            0.000000                 0.0           0.000000   \n",
       "3           64.580984                 0.0          30.811013   \n",
       "4            0.000000                 0.0           0.000000   \n",
       "\n",
       "   48_6000_var_upper  48_8000_var_upper  53_10000_var_upper  \\\n",
       "0                0.0           0.000000                 0.0   \n",
       "1                0.0           0.000000                 0.0   \n",
       "2                0.0           0.000000                 0.0   \n",
       "3                0.0           7.032967                 0.0   \n",
       "4                0.0           0.000000                 4.8   \n",
       "\n",
       "   53_16800_var_upper  53_3000_var_upper  53_6000_var_upper  53_8000_var_upper  \n",
       "0            0.000000                0.0                0.0                0.0  \n",
       "1           21.333333                0.0                4.8                8.0  \n",
       "2            0.000000                0.0                0.0                0.0  \n",
       "3            0.000000                0.0                0.0                0.0  \n",
       "4            0.000000                0.0                0.0                0.0  \n",
       "\n",
       "[5 rows x 282 columns]"
      ]
     },
     "execution_count": 213,
     "metadata": {},
     "output_type": "execute_result"
    }
   ],
   "source": [
    "# Merge the unique categorical values DataFrame with the original data on 'Sensor ID'\n",
    "df_all = pd.merge(df_all, df_range_delay_var_all, on='Sensor ID', how='left')\n",
    "df_all.head()"
   ]
  },
  {
   "cell_type": "code",
   "execution_count": null,
   "metadata": {},
   "outputs": [
    {
     "data": {
      "text/plain": [
       "array([ 32,  33,  34,  35,  36,  37,  38,  39,  40,  41,  42,  43,  44,\n",
       "        45,  46,  47,  48,  49,  50,  51,  52,  53,  54,  55,  56,  57,\n",
       "        58,  59,  60,  61,  62,  63,  64,  65,  66,  67,  68,  69,  70,\n",
       "        71,  72,  73,  74,  75,  76,  77,  78,  79,  80,  81,  82,  83,\n",
       "        84,  85,  86,  87,  88,  89,  90,  91,  92,  93,  94,  95,  96,\n",
       "        97,  98,  99, 100, 101, 102, 103, 104, 105, 106, 107, 108],\n",
       "      dtype=int64)"
      ]
     },
     "execution_count": 214,
     "metadata": {},
     "output_type": "execute_result"
    }
   ],
   "source": [
    "df_all[\"Sensor ID\"].unique()"
   ]
  },
  {
   "cell_type": "markdown",
   "metadata": {},
   "source": [
    "## Export data"
   ]
  },
  {
   "cell_type": "code",
   "execution_count": null,
   "metadata": {},
   "outputs": [],
   "source": [
    "df_all.to_csv(\"../merged_dataset/data_v4-1-1_feature_engineered.csv\", index=False)"
   ]
  }
 ],
 "metadata": {
  "kernelspec": {
   "display_name": "datascience",
   "language": "python",
   "name": "python3"
  },
  "language_info": {
   "codemirror_mode": {
    "name": "ipython",
    "version": 3
   },
   "file_extension": ".py",
   "mimetype": "text/x-python",
   "name": "python",
   "nbconvert_exporter": "python",
   "pygments_lexer": "ipython3",
   "version": "3.10.13"
  }
 },
 "nbformat": 4,
 "nbformat_minor": 2
}
