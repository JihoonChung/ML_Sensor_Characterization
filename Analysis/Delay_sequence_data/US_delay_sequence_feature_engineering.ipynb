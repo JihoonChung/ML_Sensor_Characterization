{
 "cells": [
  {
   "cell_type": "markdown",
   "metadata": {},
   "source": [
    "# Feature Engineering with delay sequence data"
   ]
  },
  {
   "cell_type": "markdown",
   "metadata": {},
   "source": [
    "This notebook will perform feature engineering based on the finding from the \"Ultrasonic_EDA_Delay Sequence\" notebook. "
   ]
  },
  {
   "cell_type": "code",
   "execution_count": 73,
   "metadata": {},
   "outputs": [],
   "source": [
    "import os\n",
    "import pandas as pd\n",
    "import matplotlib.pyplot as plt\n",
    "import seaborn as sns\n",
    "import plotly.express as px"
   ]
  },
  {
   "cell_type": "code",
   "execution_count": 74,
   "metadata": {},
   "outputs": [],
   "source": [
    "def get_all_files_in_directory(root_directory):\n",
    "    file_paths = []\n",
    "    for root, dirs, files in os.walk(root_directory):\n",
    "        for file in files:\n",
    "            file_paths.append(os.path.join(root, file))\n",
    "    return file_paths\n",
    "\n",
    "\n",
    "def merge_csv_files(file_paths):\n",
    "    \"\"\"\n",
    "    Merge multiple CSV files into a single DataFrame.\n",
    "\n",
    "    Parameters:\n",
    "    file_paths (list of str): List of file paths to the CSV files.\n",
    "\n",
    "    Returns:\n",
    "    DataFrame: Merged DataFrame containing data from all input CSV files.\n",
    "    \"\"\"\n",
    "    dataframes = []\n",
    "    for file in file_paths:\n",
    "        df = pd.read_csv(file)\n",
    "        dataframes.append(df)\n",
    "\n",
    "    # Concatenate all DataFrames\n",
    "    merged_df = pd.concat(dataframes, ignore_index=True)\n",
    "    \n",
    "    return merged_df"
   ]
  },
  {
   "cell_type": "markdown",
   "metadata": {},
   "source": [
    "## Import data"
   ]
  },
  {
   "cell_type": "markdown",
   "metadata": {},
   "source": [
    "Currently there are 20 sensor datas."
   ]
  },
  {
   "cell_type": "code",
   "execution_count": 75,
   "metadata": {},
   "outputs": [
    {
     "data": {
      "text/html": [
       "<div>\n",
       "<style scoped>\n",
       "    .dataframe tbody tr th:only-of-type {\n",
       "        vertical-align: middle;\n",
       "    }\n",
       "\n",
       "    .dataframe tbody tr th {\n",
       "        vertical-align: top;\n",
       "    }\n",
       "\n",
       "    .dataframe thead th {\n",
       "        text-align: right;\n",
       "    }\n",
       "</style>\n",
       "<table border=\"1\" class=\"dataframe\">\n",
       "  <thead>\n",
       "    <tr style=\"text-align: right;\">\n",
       "      <th></th>\n",
       "      <th>Trial</th>\n",
       "      <th>Ping Duration</th>\n",
       "      <th>Distance (cm)</th>\n",
       "      <th>Ping Time (us)</th>\n",
       "      <th>Delay (us)</th>\n",
       "      <th>Steps</th>\n",
       "      <th>Arduino ID</th>\n",
       "      <th>Sensor ID</th>\n",
       "      <th>Range (cm)</th>\n",
       "      <th>Sensor length (cm)</th>\n",
       "      <th>...</th>\n",
       "      <th>side a (cm)</th>\n",
       "      <th>side b (cm)</th>\n",
       "      <th>side c (cm)</th>\n",
       "      <th>Angle on YZ plane</th>\n",
       "      <th>Sensor Configuration</th>\n",
       "      <th>Sensor Angle</th>\n",
       "      <th>Surface material</th>\n",
       "      <th>Surface Length (cm)</th>\n",
       "      <th>Surface Width (cm)</th>\n",
       "      <th>side g (cm)</th>\n",
       "    </tr>\n",
       "  </thead>\n",
       "  <tbody>\n",
       "    <tr>\n",
       "      <th>0</th>\n",
       "      <td>0</td>\n",
       "      <td>3416</td>\n",
       "      <td>13.25</td>\n",
       "      <td>755</td>\n",
       "      <td>16800</td>\n",
       "      <td>11223.0</td>\n",
       "      <td>1</td>\n",
       "      <td>51</td>\n",
       "      <td>13</td>\n",
       "      <td>0.8</td>\n",
       "      <td>...</td>\n",
       "      <td>18.3</td>\n",
       "      <td>18.3</td>\n",
       "      <td>0</td>\n",
       "      <td>0</td>\n",
       "      <td>HTR</td>\n",
       "      <td>90</td>\n",
       "      <td>wood</td>\n",
       "      <td>31</td>\n",
       "      <td>30.5</td>\n",
       "      <td>NaN</td>\n",
       "    </tr>\n",
       "    <tr>\n",
       "      <th>1</th>\n",
       "      <td>1</td>\n",
       "      <td>3400</td>\n",
       "      <td>12.82</td>\n",
       "      <td>731</td>\n",
       "      <td>16800</td>\n",
       "      <td>11223.0</td>\n",
       "      <td>1</td>\n",
       "      <td>51</td>\n",
       "      <td>13</td>\n",
       "      <td>0.8</td>\n",
       "      <td>...</td>\n",
       "      <td>18.3</td>\n",
       "      <td>18.3</td>\n",
       "      <td>0</td>\n",
       "      <td>0</td>\n",
       "      <td>HTR</td>\n",
       "      <td>90</td>\n",
       "      <td>wood</td>\n",
       "      <td>31</td>\n",
       "      <td>30.5</td>\n",
       "      <td>NaN</td>\n",
       "    </tr>\n",
       "    <tr>\n",
       "      <th>2</th>\n",
       "      <td>2</td>\n",
       "      <td>3432</td>\n",
       "      <td>13.32</td>\n",
       "      <td>759</td>\n",
       "      <td>16800</td>\n",
       "      <td>11223.0</td>\n",
       "      <td>1</td>\n",
       "      <td>51</td>\n",
       "      <td>13</td>\n",
       "      <td>0.8</td>\n",
       "      <td>...</td>\n",
       "      <td>18.3</td>\n",
       "      <td>18.3</td>\n",
       "      <td>0</td>\n",
       "      <td>0</td>\n",
       "      <td>HTR</td>\n",
       "      <td>90</td>\n",
       "      <td>wood</td>\n",
       "      <td>31</td>\n",
       "      <td>30.5</td>\n",
       "      <td>NaN</td>\n",
       "    </tr>\n",
       "    <tr>\n",
       "      <th>3</th>\n",
       "      <td>3</td>\n",
       "      <td>3424</td>\n",
       "      <td>13.32</td>\n",
       "      <td>759</td>\n",
       "      <td>16800</td>\n",
       "      <td>11223.0</td>\n",
       "      <td>1</td>\n",
       "      <td>51</td>\n",
       "      <td>13</td>\n",
       "      <td>0.8</td>\n",
       "      <td>...</td>\n",
       "      <td>18.3</td>\n",
       "      <td>18.3</td>\n",
       "      <td>0</td>\n",
       "      <td>0</td>\n",
       "      <td>HTR</td>\n",
       "      <td>90</td>\n",
       "      <td>wood</td>\n",
       "      <td>31</td>\n",
       "      <td>30.5</td>\n",
       "      <td>NaN</td>\n",
       "    </tr>\n",
       "    <tr>\n",
       "      <th>4</th>\n",
       "      <td>4</td>\n",
       "      <td>3428</td>\n",
       "      <td>13.25</td>\n",
       "      <td>755</td>\n",
       "      <td>16800</td>\n",
       "      <td>11223.0</td>\n",
       "      <td>1</td>\n",
       "      <td>51</td>\n",
       "      <td>13</td>\n",
       "      <td>0.8</td>\n",
       "      <td>...</td>\n",
       "      <td>18.3</td>\n",
       "      <td>18.3</td>\n",
       "      <td>0</td>\n",
       "      <td>0</td>\n",
       "      <td>HTR</td>\n",
       "      <td>90</td>\n",
       "      <td>wood</td>\n",
       "      <td>31</td>\n",
       "      <td>30.5</td>\n",
       "      <td>NaN</td>\n",
       "    </tr>\n",
       "    <tr>\n",
       "      <th>...</th>\n",
       "      <td>...</td>\n",
       "      <td>...</td>\n",
       "      <td>...</td>\n",
       "      <td>...</td>\n",
       "      <td>...</td>\n",
       "      <td>...</td>\n",
       "      <td>...</td>\n",
       "      <td>...</td>\n",
       "      <td>...</td>\n",
       "      <td>...</td>\n",
       "      <td>...</td>\n",
       "      <td>...</td>\n",
       "      <td>...</td>\n",
       "      <td>...</td>\n",
       "      <td>...</td>\n",
       "      <td>...</td>\n",
       "      <td>...</td>\n",
       "      <td>...</td>\n",
       "      <td>...</td>\n",
       "      <td>...</td>\n",
       "      <td>...</td>\n",
       "    </tr>\n",
       "    <tr>\n",
       "      <th>323896</th>\n",
       "      <td>45</td>\n",
       "      <td>8288</td>\n",
       "      <td>52.96</td>\n",
       "      <td>3019</td>\n",
       "      <td>3000</td>\n",
       "      <td>0.0</td>\n",
       "      <td>1</td>\n",
       "      <td>15</td>\n",
       "      <td>53</td>\n",
       "      <td>0.8</td>\n",
       "      <td>...</td>\n",
       "      <td>18.3</td>\n",
       "      <td>18.3</td>\n",
       "      <td>0</td>\n",
       "      <td>0</td>\n",
       "      <td>HTR</td>\n",
       "      <td>90</td>\n",
       "      <td>wood</td>\n",
       "      <td>31</td>\n",
       "      <td>30.5</td>\n",
       "      <td>NaN</td>\n",
       "    </tr>\n",
       "    <tr>\n",
       "      <th>323897</th>\n",
       "      <td>46</td>\n",
       "      <td>8292</td>\n",
       "      <td>53.04</td>\n",
       "      <td>3023</td>\n",
       "      <td>3000</td>\n",
       "      <td>0.0</td>\n",
       "      <td>1</td>\n",
       "      <td>15</td>\n",
       "      <td>53</td>\n",
       "      <td>0.8</td>\n",
       "      <td>...</td>\n",
       "      <td>18.3</td>\n",
       "      <td>18.3</td>\n",
       "      <td>0</td>\n",
       "      <td>0</td>\n",
       "      <td>HTR</td>\n",
       "      <td>90</td>\n",
       "      <td>wood</td>\n",
       "      <td>31</td>\n",
       "      <td>30.5</td>\n",
       "      <td>NaN</td>\n",
       "    </tr>\n",
       "    <tr>\n",
       "      <th>323898</th>\n",
       "      <td>47</td>\n",
       "      <td>8292</td>\n",
       "      <td>53.04</td>\n",
       "      <td>3023</td>\n",
       "      <td>3000</td>\n",
       "      <td>0.0</td>\n",
       "      <td>1</td>\n",
       "      <td>15</td>\n",
       "      <td>53</td>\n",
       "      <td>0.8</td>\n",
       "      <td>...</td>\n",
       "      <td>18.3</td>\n",
       "      <td>18.3</td>\n",
       "      <td>0</td>\n",
       "      <td>0</td>\n",
       "      <td>HTR</td>\n",
       "      <td>90</td>\n",
       "      <td>wood</td>\n",
       "      <td>31</td>\n",
       "      <td>30.5</td>\n",
       "      <td>NaN</td>\n",
       "    </tr>\n",
       "    <tr>\n",
       "      <th>323899</th>\n",
       "      <td>48</td>\n",
       "      <td>8288</td>\n",
       "      <td>52.96</td>\n",
       "      <td>3019</td>\n",
       "      <td>3000</td>\n",
       "      <td>0.0</td>\n",
       "      <td>1</td>\n",
       "      <td>15</td>\n",
       "      <td>53</td>\n",
       "      <td>0.8</td>\n",
       "      <td>...</td>\n",
       "      <td>18.3</td>\n",
       "      <td>18.3</td>\n",
       "      <td>0</td>\n",
       "      <td>0</td>\n",
       "      <td>HTR</td>\n",
       "      <td>90</td>\n",
       "      <td>wood</td>\n",
       "      <td>31</td>\n",
       "      <td>30.5</td>\n",
       "      <td>NaN</td>\n",
       "    </tr>\n",
       "    <tr>\n",
       "      <th>323900</th>\n",
       "      <td>49</td>\n",
       "      <td>8288</td>\n",
       "      <td>52.96</td>\n",
       "      <td>3019</td>\n",
       "      <td>3000</td>\n",
       "      <td>0.0</td>\n",
       "      <td>1</td>\n",
       "      <td>15</td>\n",
       "      <td>53</td>\n",
       "      <td>0.8</td>\n",
       "      <td>...</td>\n",
       "      <td>18.3</td>\n",
       "      <td>18.3</td>\n",
       "      <td>0</td>\n",
       "      <td>0</td>\n",
       "      <td>HTR</td>\n",
       "      <td>90</td>\n",
       "      <td>wood</td>\n",
       "      <td>31</td>\n",
       "      <td>30.5</td>\n",
       "      <td>NaN</td>\n",
       "    </tr>\n",
       "  </tbody>\n",
       "</table>\n",
       "<p>323901 rows × 22 columns</p>\n",
       "</div>"
      ],
      "text/plain": [
       "        Trial  Ping Duration  Distance (cm)  Ping Time (us)  Delay (us)  \\\n",
       "0           0           3416          13.25             755       16800   \n",
       "1           1           3400          12.82             731       16800   \n",
       "2           2           3432          13.32             759       16800   \n",
       "3           3           3424          13.32             759       16800   \n",
       "4           4           3428          13.25             755       16800   \n",
       "...       ...            ...            ...             ...         ...   \n",
       "323896     45           8288          52.96            3019        3000   \n",
       "323897     46           8292          53.04            3023        3000   \n",
       "323898     47           8292          53.04            3023        3000   \n",
       "323899     48           8288          52.96            3019        3000   \n",
       "323900     49           8288          52.96            3019        3000   \n",
       "\n",
       "          Steps  Arduino ID  Sensor ID  Range (cm)  Sensor length (cm)  ...  \\\n",
       "0       11223.0           1         51          13                 0.8  ...   \n",
       "1       11223.0           1         51          13                 0.8  ...   \n",
       "2       11223.0           1         51          13                 0.8  ...   \n",
       "3       11223.0           1         51          13                 0.8  ...   \n",
       "4       11223.0           1         51          13                 0.8  ...   \n",
       "...         ...         ...        ...         ...                 ...  ...   \n",
       "323896      0.0           1         15          53                 0.8  ...   \n",
       "323897      0.0           1         15          53                 0.8  ...   \n",
       "323898      0.0           1         15          53                 0.8  ...   \n",
       "323899      0.0           1         15          53                 0.8  ...   \n",
       "323900      0.0           1         15          53                 0.8  ...   \n",
       "\n",
       "       side a (cm)  side b (cm)  side c (cm)  Angle on YZ plane  \\\n",
       "0             18.3         18.3            0                  0   \n",
       "1             18.3         18.3            0                  0   \n",
       "2             18.3         18.3            0                  0   \n",
       "3             18.3         18.3            0                  0   \n",
       "4             18.3         18.3            0                  0   \n",
       "...            ...          ...          ...                ...   \n",
       "323896        18.3         18.3            0                  0   \n",
       "323897        18.3         18.3            0                  0   \n",
       "323898        18.3         18.3            0                  0   \n",
       "323899        18.3         18.3            0                  0   \n",
       "323900        18.3         18.3            0                  0   \n",
       "\n",
       "        Sensor Configuration  Sensor Angle Surface material  \\\n",
       "0                        HTR            90             wood   \n",
       "1                        HTR            90             wood   \n",
       "2                        HTR            90             wood   \n",
       "3                        HTR            90             wood   \n",
       "4                        HTR            90             wood   \n",
       "...                      ...           ...              ...   \n",
       "323896                   HTR            90             wood   \n",
       "323897                   HTR            90             wood   \n",
       "323898                   HTR            90             wood   \n",
       "323899                   HTR            90             wood   \n",
       "323900                   HTR            90             wood   \n",
       "\n",
       "        Surface Length (cm) Surface Width (cm)  side g (cm)  \n",
       "0                        31               30.5          NaN  \n",
       "1                        31               30.5          NaN  \n",
       "2                        31               30.5          NaN  \n",
       "3                        31               30.5          NaN  \n",
       "4                        31               30.5          NaN  \n",
       "...                     ...                ...          ...  \n",
       "323896                   31               30.5          NaN  \n",
       "323897                   31               30.5          NaN  \n",
       "323898                   31               30.5          NaN  \n",
       "323899                   31               30.5          NaN  \n",
       "323900                   31               30.5          NaN  \n",
       "\n",
       "[323901 rows x 22 columns]"
      ]
     },
     "execution_count": 75,
     "metadata": {},
     "output_type": "execute_result"
    }
   ],
   "source": [
    "folder_path = '../../ultra_sonic_sensor/fully_automate/data_v4.1.1'\n",
    "file_paths = get_all_files_in_directory(folder_path)\n",
    "df_data_v4_1_1 = merge_csv_files(file_paths)\n",
    "df_data_v4_1_1"
   ]
  },
  {
   "cell_type": "markdown",
   "metadata": {},
   "source": [
    "Clean data"
   ]
  },
  {
   "cell_type": "code",
   "execution_count": 76,
   "metadata": {},
   "outputs": [
    {
     "name": "stderr",
     "output_type": "stream",
     "text": [
      "/var/folders/9b/zsztmz7j6v92l4fdx69q5pxh0000gn/T/ipykernel_48813/1472902145.py:8: FutureWarning:\n",
      "\n",
      "A value is trying to be set on a copy of a DataFrame or Series through chained assignment using an inplace method.\n",
      "The behavior will change in pandas 3.0. This inplace method will never work because the intermediate object on which we are setting values always behaves as a copy.\n",
      "\n",
      "For example, when doing 'df[col].method(value, inplace=True)', try using 'df.method({col: value}, inplace=True)' or df[col] = df[col].method(value) instead, to perform the operation inplace on the original object.\n",
      "\n",
      "\n",
      "\n"
     ]
    }
   ],
   "source": [
    "# Step 1: Identify Columns with NaNs\n",
    "nan_columns = df_data_v4_1_1.columns[df_data_v4_1_1.isnull().any()]\n",
    "\n",
    "# Step 2: Find Mode and Replace NaNs\n",
    "for col in nan_columns:\n",
    "    if df_data_v4_1_1[col].dtype == object:  # Check if the column is categorical\n",
    "        mode_value = df_data_v4_1_1[col].mode()[0]  # Find the mode value (most frequent value)\\\n",
    "        df_data_v4_1_1[col].fillna(mode_value, inplace=True)  # Replace NaNs with the mode value\n",
    "\n",
    "df_data_v4_1_1[\"Color of sensor\"] = df_data_v4_1_1[\"Color of sensor\"].str.lower()"
   ]
  },
  {
   "cell_type": "code",
   "execution_count": 77,
   "metadata": {},
   "outputs": [],
   "source": [
    "values_to_keep = [16800,10000,8000,6000,3000]\n",
    "df_data_v4_1_1 = df_data_v4_1_1[df_data_v4_1_1[\"Delay (us)\"].isin(values_to_keep)]"
   ]
  },
  {
   "cell_type": "markdown",
   "metadata": {},
   "source": [
    "# Add IQR Range_delay (Feature Engineering)"
   ]
  },
  {
   "cell_type": "markdown",
   "metadata": {},
   "source": [
    "Helper codes"
   ]
  },
  {
   "cell_type": "code",
   "execution_count": 78,
   "metadata": {},
   "outputs": [],
   "source": [
    "def identify_and_remove_outliers(df, column):\n",
    "    Q1 = df[column].quantile(0.25)\n",
    "    Q3 = df[column].quantile(0.75)\n",
    "    IQR = Q3 - Q1\n",
    "    lower_bound = Q1 - 1.5 * IQR\n",
    "    upper_bound = Q3 + 1.5 * IQR\n",
    "    df_no_outliers = df[(df[column] >= lower_bound) & (df[column] <= upper_bound)]\n",
    "    df_outliers_lower = df[(df[column] <= lower_bound)]\n",
    "    df_outliers_upper = df[(df[column] >= upper_bound)]\n",
    "    return df_no_outliers,df_outliers_lower,df_outliers_upper\n",
    "\n",
    "def split_quartiles(df):\n",
    "    # Group the data by 'Sensor ID', 'Delay (us)', and 'Range (cm)'\n",
    "    df_copy = df.copy()\n",
    "    grouped = df_copy.groupby(['Sensor ID', 'Delay (us)', 'Range (cm)'])\n",
    "\n",
    "    # Identify and remove outliers for each group\n",
    "    middle_quartile = []\n",
    "    lower_quartile = []\n",
    "    upper_quartile = []\n",
    "\n",
    "    for name, group in grouped:\n",
    "        cleaned_group = group.copy()\n",
    "        for column in ['Ping Time (us)']:\n",
    "            middle_quartile_group,lower_quartile_group,upper_quartile_group = identify_and_remove_outliers(cleaned_group, column)\n",
    "        middle_quartile.append(middle_quartile_group)\n",
    "        lower_quartile.append(lower_quartile_group)\n",
    "        upper_quartile.append(upper_quartile_group)\n",
    "    # Combine the cleaned groups into a single DataFrame\n",
    "    df_middle_quartile= pd.concat(middle_quartile)\n",
    "    df_lower_quartile = pd.concat(lower_quartile)\n",
    "    df_upper_quartile = pd.concat(upper_quartile)\n",
    "    \n",
    "    return df_middle_quartile, df_lower_quartile, df_upper_quartile\n",
    "\n",
    "\n",
    "def create_range_delay_feature(df_quartile,bound):\n",
    "    # Step 1: Group and calculate mean\n",
    "    df_grouped = df_quartile.groupby(['Sensor ID', 'Range (cm)', 'Delay (us)'])['Ping Time (us)'].mean().reset_index()\n",
    "\n",
    "    # Step 2: Create `range_delay` column\n",
    "    df_grouped['range_delay'] = df_grouped['Range (cm)'].astype(str) + '_' + df_grouped['Delay (us)'].astype(str)+'_'+'mean'+'_'+bound\n",
    "\n",
    "    # Step 3: Pivot the table\n",
    "    df_pivot = df_grouped.pivot(index='Sensor ID', columns='range_delay', values='Ping Time (us)').reset_index()\n",
    "    \n",
    "    return df_pivot"
   ]
  },
  {
   "cell_type": "code",
   "execution_count": 79,
   "metadata": {},
   "outputs": [],
   "source": [
    "df_middle_quartile, df_lower_quartile, df_upper_quartile = split_quartiles(df_data_v4_1_1)"
   ]
  },
  {
   "cell_type": "code",
   "execution_count": 80,
   "metadata": {},
   "outputs": [
    {
     "data": {
      "text/html": [
       "<div>\n",
       "<style scoped>\n",
       "    .dataframe tbody tr th:only-of-type {\n",
       "        vertical-align: middle;\n",
       "    }\n",
       "\n",
       "    .dataframe tbody tr th {\n",
       "        vertical-align: top;\n",
       "    }\n",
       "\n",
       "    .dataframe thead th {\n",
       "        text-align: right;\n",
       "    }\n",
       "</style>\n",
       "<table border=\"1\" class=\"dataframe\">\n",
       "  <thead>\n",
       "    <tr style=\"text-align: right;\">\n",
       "      <th></th>\n",
       "      <th>Range (cm)</th>\n",
       "      <th>Delay (us)</th>\n",
       "      <th>Ping Time (us)</th>\n",
       "    </tr>\n",
       "    <tr>\n",
       "      <th>Sensor ID</th>\n",
       "      <th></th>\n",
       "      <th></th>\n",
       "      <th></th>\n",
       "    </tr>\n",
       "  </thead>\n",
       "  <tbody>\n",
       "    <tr>\n",
       "      <th>1</th>\n",
       "      <td>13</td>\n",
       "      <td>3000</td>\n",
       "      <td>827.000000</td>\n",
       "    </tr>\n",
       "    <tr>\n",
       "      <th>1</th>\n",
       "      <td>13</td>\n",
       "      <td>6000</td>\n",
       "      <td>827.000000</td>\n",
       "    </tr>\n",
       "    <tr>\n",
       "      <th>1</th>\n",
       "      <td>13</td>\n",
       "      <td>8000</td>\n",
       "      <td>827.000000</td>\n",
       "    </tr>\n",
       "    <tr>\n",
       "      <th>1</th>\n",
       "      <td>13</td>\n",
       "      <td>10000</td>\n",
       "      <td>827.000000</td>\n",
       "    </tr>\n",
       "    <tr>\n",
       "      <th>1</th>\n",
       "      <td>13</td>\n",
       "      <td>16800</td>\n",
       "      <td>827.000000</td>\n",
       "    </tr>\n",
       "    <tr>\n",
       "      <th>...</th>\n",
       "      <td>...</td>\n",
       "      <td>...</td>\n",
       "      <td>...</td>\n",
       "    </tr>\n",
       "    <tr>\n",
       "      <th>125</th>\n",
       "      <td>53</td>\n",
       "      <td>3000</td>\n",
       "      <td>3047.000000</td>\n",
       "    </tr>\n",
       "    <tr>\n",
       "      <th>125</th>\n",
       "      <td>53</td>\n",
       "      <td>6000</td>\n",
       "      <td>3037.560000</td>\n",
       "    </tr>\n",
       "    <tr>\n",
       "      <th>125</th>\n",
       "      <td>53</td>\n",
       "      <td>8000</td>\n",
       "      <td>3037.160000</td>\n",
       "    </tr>\n",
       "    <tr>\n",
       "      <th>125</th>\n",
       "      <td>53</td>\n",
       "      <td>10000</td>\n",
       "      <td>3047.000000</td>\n",
       "    </tr>\n",
       "    <tr>\n",
       "      <th>125</th>\n",
       "      <td>53</td>\n",
       "      <td>16800</td>\n",
       "      <td>3043.489796</td>\n",
       "    </tr>\n",
       "  </tbody>\n",
       "</table>\n",
       "<p>5580 rows × 3 columns</p>\n",
       "</div>"
      ],
      "text/plain": [
       "           Range (cm)  Delay (us)  Ping Time (us)\n",
       "Sensor ID                                        \n",
       "1                  13        3000      827.000000\n",
       "1                  13        6000      827.000000\n",
       "1                  13        8000      827.000000\n",
       "1                  13       10000      827.000000\n",
       "1                  13       16800      827.000000\n",
       "...               ...         ...             ...\n",
       "125                53        3000     3047.000000\n",
       "125                53        6000     3037.560000\n",
       "125                53        8000     3037.160000\n",
       "125                53       10000     3047.000000\n",
       "125                53       16800     3043.489796\n",
       "\n",
       "[5580 rows x 3 columns]"
      ]
     },
     "execution_count": 80,
     "metadata": {},
     "output_type": "execute_result"
    }
   ],
   "source": [
    "df_middle_quartile.groupby(['Sensor ID','Range (cm)', 'Delay (us)'])['Ping Time (us)'].mean().reset_index([\"Delay (us)\",\"Range (cm)\"])"
   ]
  },
  {
   "cell_type": "code",
   "execution_count": 81,
   "metadata": {},
   "outputs": [
    {
     "data": {
      "text/html": [
       "<div>\n",
       "<style scoped>\n",
       "    .dataframe tbody tr th:only-of-type {\n",
       "        vertical-align: middle;\n",
       "    }\n",
       "\n",
       "    .dataframe tbody tr th {\n",
       "        vertical-align: top;\n",
       "    }\n",
       "\n",
       "    .dataframe thead th {\n",
       "        text-align: right;\n",
       "    }\n",
       "</style>\n",
       "<table border=\"1\" class=\"dataframe\">\n",
       "  <thead>\n",
       "    <tr style=\"text-align: right;\">\n",
       "      <th>range_delay</th>\n",
       "      <th>Sensor ID</th>\n",
       "      <th>13_10000_mean_middle</th>\n",
       "      <th>13_16800_mean_middle</th>\n",
       "      <th>13_3000_mean_middle</th>\n",
       "      <th>13_6000_mean_middle</th>\n",
       "      <th>13_8000_mean_middle</th>\n",
       "      <th>18_10000_mean_middle</th>\n",
       "      <th>18_16800_mean_middle</th>\n",
       "      <th>18_3000_mean_middle</th>\n",
       "      <th>18_6000_mean_middle</th>\n",
       "      <th>...</th>\n",
       "      <th>48_10000_mean_middle</th>\n",
       "      <th>48_16800_mean_middle</th>\n",
       "      <th>48_3000_mean_middle</th>\n",
       "      <th>48_6000_mean_middle</th>\n",
       "      <th>48_8000_mean_middle</th>\n",
       "      <th>53_10000_mean_middle</th>\n",
       "      <th>53_16800_mean_middle</th>\n",
       "      <th>53_3000_mean_middle</th>\n",
       "      <th>53_6000_mean_middle</th>\n",
       "      <th>53_8000_mean_middle</th>\n",
       "    </tr>\n",
       "  </thead>\n",
       "  <tbody>\n",
       "    <tr>\n",
       "      <th>0</th>\n",
       "      <td>1</td>\n",
       "      <td>827.000000</td>\n",
       "      <td>827.000000</td>\n",
       "      <td>827.000000</td>\n",
       "      <td>827.000000</td>\n",
       "      <td>827.00000</td>\n",
       "      <td>1071.000000</td>\n",
       "      <td>1069.285714</td>\n",
       "      <td>1069.240000</td>\n",
       "      <td>1069.400000</td>\n",
       "      <td>...</td>\n",
       "      <td>2736.333333</td>\n",
       "      <td>2737.000000</td>\n",
       "      <td>2736.909091</td>\n",
       "      <td>2737.083333</td>\n",
       "      <td>2737.382979</td>\n",
       "      <td>2995.000000</td>\n",
       "      <td>3006.500000</td>\n",
       "      <td>2995.000000</td>\n",
       "      <td>2995.205128</td>\n",
       "      <td>2995.000000</td>\n",
       "    </tr>\n",
       "    <tr>\n",
       "      <th>1</th>\n",
       "      <td>2</td>\n",
       "      <td>679.640000</td>\n",
       "      <td>679.000000</td>\n",
       "      <td>679.000000</td>\n",
       "      <td>679.000000</td>\n",
       "      <td>679.00000</td>\n",
       "      <td>943.000000</td>\n",
       "      <td>954.200000</td>\n",
       "      <td>967.260870</td>\n",
       "      <td>954.520000</td>\n",
       "      <td>...</td>\n",
       "      <td>2667.000000</td>\n",
       "      <td>2679.320000</td>\n",
       "      <td>2674.520000</td>\n",
       "      <td>2674.520000</td>\n",
       "      <td>2667.000000</td>\n",
       "      <td>2972.360000</td>\n",
       "      <td>1855.878049</td>\n",
       "      <td>2945.800000</td>\n",
       "      <td>2951.000000</td>\n",
       "      <td>1891.240000</td>\n",
       "    </tr>\n",
       "    <tr>\n",
       "      <th>2</th>\n",
       "      <td>3</td>\n",
       "      <td>717.880000</td>\n",
       "      <td>717.727273</td>\n",
       "      <td>718.040000</td>\n",
       "      <td>717.240000</td>\n",
       "      <td>718.04000</td>\n",
       "      <td>1029.933333</td>\n",
       "      <td>1020.920000</td>\n",
       "      <td>1007.000000</td>\n",
       "      <td>1005.960000</td>\n",
       "      <td>...</td>\n",
       "      <td>2709.560000</td>\n",
       "      <td>2721.480000</td>\n",
       "      <td>2717.200000</td>\n",
       "      <td>2717.900000</td>\n",
       "      <td>2716.714286</td>\n",
       "      <td>2996.120000</td>\n",
       "      <td>2992.840000</td>\n",
       "      <td>2995.400000</td>\n",
       "      <td>3000.440000</td>\n",
       "      <td>2997.320000</td>\n",
       "    </tr>\n",
       "    <tr>\n",
       "      <th>3</th>\n",
       "      <td>4</td>\n",
       "      <td>737.080000</td>\n",
       "      <td>736.840000</td>\n",
       "      <td>737.160000</td>\n",
       "      <td>736.920000</td>\n",
       "      <td>736.68000</td>\n",
       "      <td>1030.351351</td>\n",
       "      <td>1031.000000</td>\n",
       "      <td>1028.840000</td>\n",
       "      <td>1087.000000</td>\n",
       "      <td>...</td>\n",
       "      <td>2754.040000</td>\n",
       "      <td>2753.800000</td>\n",
       "      <td>2754.120000</td>\n",
       "      <td>2755.000000</td>\n",
       "      <td>2754.200000</td>\n",
       "      <td>2999.000000</td>\n",
       "      <td>2999.608696</td>\n",
       "      <td>2999.000000</td>\n",
       "      <td>2999.000000</td>\n",
       "      <td>2999.000000</td>\n",
       "    </tr>\n",
       "    <tr>\n",
       "      <th>4</th>\n",
       "      <td>5</td>\n",
       "      <td>743.000000</td>\n",
       "      <td>742.894737</td>\n",
       "      <td>741.880000</td>\n",
       "      <td>743.000000</td>\n",
       "      <td>743.00000</td>\n",
       "      <td>1046.102041</td>\n",
       "      <td>1045.697674</td>\n",
       "      <td>1047.244898</td>\n",
       "      <td>1046.288889</td>\n",
       "      <td>...</td>\n",
       "      <td>2732.520000</td>\n",
       "      <td>2732.181818</td>\n",
       "      <td>2732.600000</td>\n",
       "      <td>2732.520000</td>\n",
       "      <td>2732.600000</td>\n",
       "      <td>3073.612245</td>\n",
       "      <td>3058.440000</td>\n",
       "      <td>3045.468085</td>\n",
       "      <td>3034.760000</td>\n",
       "      <td>2110.760000</td>\n",
       "    </tr>\n",
       "    <tr>\n",
       "      <th>...</th>\n",
       "      <td>...</td>\n",
       "      <td>...</td>\n",
       "      <td>...</td>\n",
       "      <td>...</td>\n",
       "      <td>...</td>\n",
       "      <td>...</td>\n",
       "      <td>...</td>\n",
       "      <td>...</td>\n",
       "      <td>...</td>\n",
       "      <td>...</td>\n",
       "      <td>...</td>\n",
       "      <td>...</td>\n",
       "      <td>...</td>\n",
       "      <td>...</td>\n",
       "      <td>...</td>\n",
       "      <td>...</td>\n",
       "      <td>...</td>\n",
       "      <td>...</td>\n",
       "      <td>...</td>\n",
       "      <td>...</td>\n",
       "      <td>...</td>\n",
       "    </tr>\n",
       "    <tr>\n",
       "      <th>119</th>\n",
       "      <td>121</td>\n",
       "      <td>742.200000</td>\n",
       "      <td>751.545455</td>\n",
       "      <td>751.000000</td>\n",
       "      <td>751.000000</td>\n",
       "      <td>741.56000</td>\n",
       "      <td>1045.160000</td>\n",
       "      <td>1051.880000</td>\n",
       "      <td>1046.473684</td>\n",
       "      <td>1046.680000</td>\n",
       "      <td>...</td>\n",
       "      <td>2733.880000</td>\n",
       "      <td>2728.360000</td>\n",
       "      <td>2732.680000</td>\n",
       "      <td>2734.360000</td>\n",
       "      <td>2729.640000</td>\n",
       "      <td>3012.684211</td>\n",
       "      <td>3025.400000</td>\n",
       "      <td>3039.711111</td>\n",
       "      <td>3025.480000</td>\n",
       "      <td>3026.760000</td>\n",
       "    </tr>\n",
       "    <tr>\n",
       "      <th>120</th>\n",
       "      <td>122</td>\n",
       "      <td>735.000000</td>\n",
       "      <td>23719.700000</td>\n",
       "      <td>735.244898</td>\n",
       "      <td>735.000000</td>\n",
       "      <td>735.00000</td>\n",
       "      <td>1017.400000</td>\n",
       "      <td>1024.600000</td>\n",
       "      <td>1028.440000</td>\n",
       "      <td>1028.680000</td>\n",
       "      <td>...</td>\n",
       "      <td>2726.520000</td>\n",
       "      <td>2731.480000</td>\n",
       "      <td>2737.042553</td>\n",
       "      <td>2737.400000</td>\n",
       "      <td>2735.000000</td>\n",
       "      <td>3035.000000</td>\n",
       "      <td>3030.666667</td>\n",
       "      <td>3034.800000</td>\n",
       "      <td>3025.000000</td>\n",
       "      <td>3035.756757</td>\n",
       "    </tr>\n",
       "    <tr>\n",
       "      <th>121</th>\n",
       "      <td>123</td>\n",
       "      <td>751.000000</td>\n",
       "      <td>747.333333</td>\n",
       "      <td>725.829268</td>\n",
       "      <td>751.000000</td>\n",
       "      <td>751.00000</td>\n",
       "      <td>1043.571429</td>\n",
       "      <td>1043.000000</td>\n",
       "      <td>1043.000000</td>\n",
       "      <td>1043.000000</td>\n",
       "      <td>...</td>\n",
       "      <td>2736.600000</td>\n",
       "      <td>2740.200000</td>\n",
       "      <td>2739.640000</td>\n",
       "      <td>2736.280000</td>\n",
       "      <td>2747.105263</td>\n",
       "      <td>3056.280000</td>\n",
       "      <td>3059.240000</td>\n",
       "      <td>3036.200000</td>\n",
       "      <td>3038.040000</td>\n",
       "      <td>3037.160000</td>\n",
       "    </tr>\n",
       "    <tr>\n",
       "      <th>122</th>\n",
       "      <td>124</td>\n",
       "      <td>708.680000</td>\n",
       "      <td>365.222222</td>\n",
       "      <td>708.520000</td>\n",
       "      <td>708.306122</td>\n",
       "      <td>708.44000</td>\n",
       "      <td>1026.280000</td>\n",
       "      <td>1017.560000</td>\n",
       "      <td>1027.880000</td>\n",
       "      <td>1027.000000</td>\n",
       "      <td>...</td>\n",
       "      <td>2726.024390</td>\n",
       "      <td>2714.760000</td>\n",
       "      <td>2716.040000</td>\n",
       "      <td>2714.280000</td>\n",
       "      <td>2715.560000</td>\n",
       "      <td>3018.659574</td>\n",
       "      <td>3019.235294</td>\n",
       "      <td>3010.680000</td>\n",
       "      <td>3019.765957</td>\n",
       "      <td>3020.244444</td>\n",
       "    </tr>\n",
       "    <tr>\n",
       "      <th>123</th>\n",
       "      <td>125</td>\n",
       "      <td>728.916667</td>\n",
       "      <td>752.877551</td>\n",
       "      <td>741.320000</td>\n",
       "      <td>728.760000</td>\n",
       "      <td>728.22449</td>\n",
       "      <td>1042.906977</td>\n",
       "      <td>1061.080000</td>\n",
       "      <td>1042.043478</td>\n",
       "      <td>1043.000000</td>\n",
       "      <td>...</td>\n",
       "      <td>2737.240000</td>\n",
       "      <td>2740.040000</td>\n",
       "      <td>2747.342857</td>\n",
       "      <td>2738.920000</td>\n",
       "      <td>2735.240000</td>\n",
       "      <td>3047.000000</td>\n",
       "      <td>3043.489796</td>\n",
       "      <td>3047.000000</td>\n",
       "      <td>3037.560000</td>\n",
       "      <td>3037.160000</td>\n",
       "    </tr>\n",
       "  </tbody>\n",
       "</table>\n",
       "<p>124 rows × 46 columns</p>\n",
       "</div>"
      ],
      "text/plain": [
       "range_delay  Sensor ID  13_10000_mean_middle  13_16800_mean_middle  \\\n",
       "0                    1            827.000000            827.000000   \n",
       "1                    2            679.640000            679.000000   \n",
       "2                    3            717.880000            717.727273   \n",
       "3                    4            737.080000            736.840000   \n",
       "4                    5            743.000000            742.894737   \n",
       "..                 ...                   ...                   ...   \n",
       "119                121            742.200000            751.545455   \n",
       "120                122            735.000000          23719.700000   \n",
       "121                123            751.000000            747.333333   \n",
       "122                124            708.680000            365.222222   \n",
       "123                125            728.916667            752.877551   \n",
       "\n",
       "range_delay  13_3000_mean_middle  13_6000_mean_middle  13_8000_mean_middle  \\\n",
       "0                     827.000000           827.000000            827.00000   \n",
       "1                     679.000000           679.000000            679.00000   \n",
       "2                     718.040000           717.240000            718.04000   \n",
       "3                     737.160000           736.920000            736.68000   \n",
       "4                     741.880000           743.000000            743.00000   \n",
       "..                           ...                  ...                  ...   \n",
       "119                   751.000000           751.000000            741.56000   \n",
       "120                   735.244898           735.000000            735.00000   \n",
       "121                   725.829268           751.000000            751.00000   \n",
       "122                   708.520000           708.306122            708.44000   \n",
       "123                   741.320000           728.760000            728.22449   \n",
       "\n",
       "range_delay  18_10000_mean_middle  18_16800_mean_middle  18_3000_mean_middle  \\\n",
       "0                     1071.000000           1069.285714          1069.240000   \n",
       "1                      943.000000            954.200000           967.260870   \n",
       "2                     1029.933333           1020.920000          1007.000000   \n",
       "3                     1030.351351           1031.000000          1028.840000   \n",
       "4                     1046.102041           1045.697674          1047.244898   \n",
       "..                            ...                   ...                  ...   \n",
       "119                   1045.160000           1051.880000          1046.473684   \n",
       "120                   1017.400000           1024.600000          1028.440000   \n",
       "121                   1043.571429           1043.000000          1043.000000   \n",
       "122                   1026.280000           1017.560000          1027.880000   \n",
       "123                   1042.906977           1061.080000          1042.043478   \n",
       "\n",
       "range_delay  18_6000_mean_middle  ...  48_10000_mean_middle  \\\n",
       "0                    1069.400000  ...           2736.333333   \n",
       "1                     954.520000  ...           2667.000000   \n",
       "2                    1005.960000  ...           2709.560000   \n",
       "3                    1087.000000  ...           2754.040000   \n",
       "4                    1046.288889  ...           2732.520000   \n",
       "..                           ...  ...                   ...   \n",
       "119                  1046.680000  ...           2733.880000   \n",
       "120                  1028.680000  ...           2726.520000   \n",
       "121                  1043.000000  ...           2736.600000   \n",
       "122                  1027.000000  ...           2726.024390   \n",
       "123                  1043.000000  ...           2737.240000   \n",
       "\n",
       "range_delay  48_16800_mean_middle  48_3000_mean_middle  48_6000_mean_middle  \\\n",
       "0                     2737.000000          2736.909091          2737.083333   \n",
       "1                     2679.320000          2674.520000          2674.520000   \n",
       "2                     2721.480000          2717.200000          2717.900000   \n",
       "3                     2753.800000          2754.120000          2755.000000   \n",
       "4                     2732.181818          2732.600000          2732.520000   \n",
       "..                            ...                  ...                  ...   \n",
       "119                   2728.360000          2732.680000          2734.360000   \n",
       "120                   2731.480000          2737.042553          2737.400000   \n",
       "121                   2740.200000          2739.640000          2736.280000   \n",
       "122                   2714.760000          2716.040000          2714.280000   \n",
       "123                   2740.040000          2747.342857          2738.920000   \n",
       "\n",
       "range_delay  48_8000_mean_middle  53_10000_mean_middle  53_16800_mean_middle  \\\n",
       "0                    2737.382979           2995.000000           3006.500000   \n",
       "1                    2667.000000           2972.360000           1855.878049   \n",
       "2                    2716.714286           2996.120000           2992.840000   \n",
       "3                    2754.200000           2999.000000           2999.608696   \n",
       "4                    2732.600000           3073.612245           3058.440000   \n",
       "..                           ...                   ...                   ...   \n",
       "119                  2729.640000           3012.684211           3025.400000   \n",
       "120                  2735.000000           3035.000000           3030.666667   \n",
       "121                  2747.105263           3056.280000           3059.240000   \n",
       "122                  2715.560000           3018.659574           3019.235294   \n",
       "123                  2735.240000           3047.000000           3043.489796   \n",
       "\n",
       "range_delay  53_3000_mean_middle  53_6000_mean_middle  53_8000_mean_middle  \n",
       "0                    2995.000000          2995.205128          2995.000000  \n",
       "1                    2945.800000          2951.000000          1891.240000  \n",
       "2                    2995.400000          3000.440000          2997.320000  \n",
       "3                    2999.000000          2999.000000          2999.000000  \n",
       "4                    3045.468085          3034.760000          2110.760000  \n",
       "..                           ...                  ...                  ...  \n",
       "119                  3039.711111          3025.480000          3026.760000  \n",
       "120                  3034.800000          3025.000000          3035.756757  \n",
       "121                  3036.200000          3038.040000          3037.160000  \n",
       "122                  3010.680000          3019.765957          3020.244444  \n",
       "123                  3047.000000          3037.560000          3037.160000  \n",
       "\n",
       "[124 rows x 46 columns]"
      ]
     },
     "execution_count": 81,
     "metadata": {},
     "output_type": "execute_result"
    }
   ],
   "source": [
    "create_range_delay_feature(df_middle_quartile,\"middle\")"
   ]
  },
  {
   "cell_type": "code",
   "execution_count": 82,
   "metadata": {},
   "outputs": [],
   "source": [
    "def feature_engineering_quartile_means(df):\n",
    "    df_middle_quartile, df_lower_quartile, df_upper_quartile = split_quartiles(df)\n",
    "    df_range_delay_middle = create_range_delay_feature(df_middle_quartile,\"middle\")\n",
    "    df_range_delay_lower = create_range_delay_feature(df_lower_quartile,\"lower\")\n",
    "    df_range_delay_upper = create_range_delay_feature(df_upper_quartile,\"upper\")\n",
    "\n",
    "    # List of DataFrames\n",
    "    df_pivots = [df_range_delay_middle, df_range_delay_lower, df_range_delay_upper]\n",
    "\n",
    "    # Initialize the merged DataFrame with the first DataFrame in the list\n",
    "    df_range_delay_all = df_pivots[0]\n",
    "\n",
    "    # Iteratively merge each DataFrame in the list\n",
    "    for df in df_pivots[1:]:\n",
    "        df_range_delay_all = df_range_delay_all.merge(df, on='Sensor ID')\n",
    "        \n",
    "    # Replace all NaN values with 0 in the merged DataFrame\n",
    "    df_range_delay_all.fillna(0, inplace=True)\n",
    "\n",
    "    return df_range_delay_all, df_range_delay_middle, df_range_delay_lower,df_range_delay_upper\n",
    "    \n",
    "\n",
    "df_range_delay_all,df_range_delay_middle, df_range_delay_lower,df_range_delay_upper = feature_engineering_quartile_means(df_data_v4_1_1)\n"
   ]
  },
  {
   "cell_type": "markdown",
   "metadata": {},
   "source": [
    "The product is following now we will be conducting PCA method to reduce dimensionality"
   ]
  },
  {
   "cell_type": "code",
   "execution_count": 83,
   "metadata": {},
   "outputs": [
    {
     "data": {
      "text/html": [
       "<div>\n",
       "<style scoped>\n",
       "    .dataframe tbody tr th:only-of-type {\n",
       "        vertical-align: middle;\n",
       "    }\n",
       "\n",
       "    .dataframe tbody tr th {\n",
       "        vertical-align: top;\n",
       "    }\n",
       "\n",
       "    .dataframe thead th {\n",
       "        text-align: right;\n",
       "    }\n",
       "</style>\n",
       "<table border=\"1\" class=\"dataframe\">\n",
       "  <thead>\n",
       "    <tr style=\"text-align: right;\">\n",
       "      <th>range_delay</th>\n",
       "      <th>Sensor ID</th>\n",
       "      <th>13_10000_mean_middle</th>\n",
       "      <th>13_16800_mean_middle</th>\n",
       "      <th>13_3000_mean_middle</th>\n",
       "      <th>13_6000_mean_middle</th>\n",
       "      <th>13_8000_mean_middle</th>\n",
       "      <th>18_10000_mean_middle</th>\n",
       "      <th>18_16800_mean_middle</th>\n",
       "      <th>18_3000_mean_middle</th>\n",
       "      <th>18_6000_mean_middle</th>\n",
       "      <th>...</th>\n",
       "      <th>48_10000_mean_upper</th>\n",
       "      <th>48_16800_mean_upper</th>\n",
       "      <th>48_3000_mean_upper</th>\n",
       "      <th>48_6000_mean_upper</th>\n",
       "      <th>48_8000_mean_upper</th>\n",
       "      <th>53_10000_mean_upper</th>\n",
       "      <th>53_16800_mean_upper</th>\n",
       "      <th>53_3000_mean_upper</th>\n",
       "      <th>53_6000_mean_upper</th>\n",
       "      <th>53_8000_mean_upper</th>\n",
       "    </tr>\n",
       "  </thead>\n",
       "  <tbody>\n",
       "    <tr>\n",
       "      <th>0</th>\n",
       "      <td>1</td>\n",
       "      <td>827.000000</td>\n",
       "      <td>827.000000</td>\n",
       "      <td>827.000000</td>\n",
       "      <td>827.000000</td>\n",
       "      <td>827.00000</td>\n",
       "      <td>1071.000000</td>\n",
       "      <td>1069.285714</td>\n",
       "      <td>1069.240000</td>\n",
       "      <td>1069.400000</td>\n",
       "      <td>...</td>\n",
       "      <td>2795.000000</td>\n",
       "      <td>0.0</td>\n",
       "      <td>2809.4</td>\n",
       "      <td>2803.000000</td>\n",
       "      <td>2800.333333</td>\n",
       "      <td>2995.545455</td>\n",
       "      <td>0.000000</td>\n",
       "      <td>2995.444444</td>\n",
       "      <td>3039.727273</td>\n",
       "      <td>3004.043478</td>\n",
       "    </tr>\n",
       "    <tr>\n",
       "      <th>1</th>\n",
       "      <td>2</td>\n",
       "      <td>679.640000</td>\n",
       "      <td>679.000000</td>\n",
       "      <td>679.000000</td>\n",
       "      <td>679.000000</td>\n",
       "      <td>679.00000</td>\n",
       "      <td>943.000000</td>\n",
       "      <td>954.200000</td>\n",
       "      <td>967.260870</td>\n",
       "      <td>954.520000</td>\n",
       "      <td>...</td>\n",
       "      <td>2669.521739</td>\n",
       "      <td>0.0</td>\n",
       "      <td>0.0</td>\n",
       "      <td>0.000000</td>\n",
       "      <td>2691.000000</td>\n",
       "      <td>0.000000</td>\n",
       "      <td>2371.000000</td>\n",
       "      <td>0.000000</td>\n",
       "      <td>2951.744186</td>\n",
       "      <td>0.000000</td>\n",
       "    </tr>\n",
       "    <tr>\n",
       "      <th>2</th>\n",
       "      <td>3</td>\n",
       "      <td>717.880000</td>\n",
       "      <td>717.727273</td>\n",
       "      <td>718.040000</td>\n",
       "      <td>717.240000</td>\n",
       "      <td>718.04000</td>\n",
       "      <td>1029.933333</td>\n",
       "      <td>1020.920000</td>\n",
       "      <td>1007.000000</td>\n",
       "      <td>1005.960000</td>\n",
       "      <td>...</td>\n",
       "      <td>0.000000</td>\n",
       "      <td>0.0</td>\n",
       "      <td>2743.0</td>\n",
       "      <td>2727.000000</td>\n",
       "      <td>0.000000</td>\n",
       "      <td>0.000000</td>\n",
       "      <td>0.000000</td>\n",
       "      <td>0.000000</td>\n",
       "      <td>0.000000</td>\n",
       "      <td>0.000000</td>\n",
       "    </tr>\n",
       "    <tr>\n",
       "      <th>3</th>\n",
       "      <td>4</td>\n",
       "      <td>737.080000</td>\n",
       "      <td>736.840000</td>\n",
       "      <td>737.160000</td>\n",
       "      <td>736.920000</td>\n",
       "      <td>736.68000</td>\n",
       "      <td>1030.351351</td>\n",
       "      <td>1031.000000</td>\n",
       "      <td>1028.840000</td>\n",
       "      <td>1087.000000</td>\n",
       "      <td>...</td>\n",
       "      <td>0.000000</td>\n",
       "      <td>0.0</td>\n",
       "      <td>0.0</td>\n",
       "      <td>2755.195122</td>\n",
       "      <td>0.000000</td>\n",
       "      <td>3000.000000</td>\n",
       "      <td>3019.000000</td>\n",
       "      <td>3000.116279</td>\n",
       "      <td>2999.930233</td>\n",
       "      <td>3000.116279</td>\n",
       "    </tr>\n",
       "    <tr>\n",
       "      <th>4</th>\n",
       "      <td>5</td>\n",
       "      <td>743.000000</td>\n",
       "      <td>742.894737</td>\n",
       "      <td>741.880000</td>\n",
       "      <td>743.000000</td>\n",
       "      <td>743.00000</td>\n",
       "      <td>1046.102041</td>\n",
       "      <td>1045.697674</td>\n",
       "      <td>1047.244898</td>\n",
       "      <td>1046.288889</td>\n",
       "      <td>...</td>\n",
       "      <td>0.000000</td>\n",
       "      <td>2755.0</td>\n",
       "      <td>0.0</td>\n",
       "      <td>0.000000</td>\n",
       "      <td>0.000000</td>\n",
       "      <td>0.000000</td>\n",
       "      <td>0.000000</td>\n",
       "      <td>0.000000</td>\n",
       "      <td>0.000000</td>\n",
       "      <td>0.000000</td>\n",
       "    </tr>\n",
       "    <tr>\n",
       "      <th>...</th>\n",
       "      <td>...</td>\n",
       "      <td>...</td>\n",
       "      <td>...</td>\n",
       "      <td>...</td>\n",
       "      <td>...</td>\n",
       "      <td>...</td>\n",
       "      <td>...</td>\n",
       "      <td>...</td>\n",
       "      <td>...</td>\n",
       "      <td>...</td>\n",
       "      <td>...</td>\n",
       "      <td>...</td>\n",
       "      <td>...</td>\n",
       "      <td>...</td>\n",
       "      <td>...</td>\n",
       "      <td>...</td>\n",
       "      <td>...</td>\n",
       "      <td>...</td>\n",
       "      <td>...</td>\n",
       "      <td>...</td>\n",
       "      <td>...</td>\n",
       "    </tr>\n",
       "    <tr>\n",
       "      <th>119</th>\n",
       "      <td>121</td>\n",
       "      <td>742.200000</td>\n",
       "      <td>751.545455</td>\n",
       "      <td>751.000000</td>\n",
       "      <td>751.000000</td>\n",
       "      <td>741.56000</td>\n",
       "      <td>1045.160000</td>\n",
       "      <td>1051.880000</td>\n",
       "      <td>1046.473684</td>\n",
       "      <td>1046.680000</td>\n",
       "      <td>...</td>\n",
       "      <td>0.000000</td>\n",
       "      <td>0.0</td>\n",
       "      <td>0.0</td>\n",
       "      <td>0.000000</td>\n",
       "      <td>0.000000</td>\n",
       "      <td>3037.666667</td>\n",
       "      <td>0.000000</td>\n",
       "      <td>3057.000000</td>\n",
       "      <td>0.000000</td>\n",
       "      <td>0.000000</td>\n",
       "    </tr>\n",
       "    <tr>\n",
       "      <th>120</th>\n",
       "      <td>122</td>\n",
       "      <td>735.000000</td>\n",
       "      <td>23719.700000</td>\n",
       "      <td>735.244898</td>\n",
       "      <td>735.000000</td>\n",
       "      <td>735.00000</td>\n",
       "      <td>1017.400000</td>\n",
       "      <td>1024.600000</td>\n",
       "      <td>1028.440000</td>\n",
       "      <td>1028.680000</td>\n",
       "      <td>...</td>\n",
       "      <td>0.000000</td>\n",
       "      <td>0.0</td>\n",
       "      <td>2765.0</td>\n",
       "      <td>0.000000</td>\n",
       "      <td>2736.128205</td>\n",
       "      <td>3043.000000</td>\n",
       "      <td>0.000000</td>\n",
       "      <td>3059.000000</td>\n",
       "      <td>0.000000</td>\n",
       "      <td>3043.000000</td>\n",
       "    </tr>\n",
       "    <tr>\n",
       "      <th>121</th>\n",
       "      <td>123</td>\n",
       "      <td>751.000000</td>\n",
       "      <td>747.333333</td>\n",
       "      <td>725.829268</td>\n",
       "      <td>751.000000</td>\n",
       "      <td>751.00000</td>\n",
       "      <td>1043.571429</td>\n",
       "      <td>1043.000000</td>\n",
       "      <td>1043.000000</td>\n",
       "      <td>1043.000000</td>\n",
       "      <td>...</td>\n",
       "      <td>0.000000</td>\n",
       "      <td>0.0</td>\n",
       "      <td>0.0</td>\n",
       "      <td>0.000000</td>\n",
       "      <td>2759.000000</td>\n",
       "      <td>0.000000</td>\n",
       "      <td>0.000000</td>\n",
       "      <td>0.000000</td>\n",
       "      <td>0.000000</td>\n",
       "      <td>0.000000</td>\n",
       "    </tr>\n",
       "    <tr>\n",
       "      <th>122</th>\n",
       "      <td>124</td>\n",
       "      <td>708.680000</td>\n",
       "      <td>365.222222</td>\n",
       "      <td>708.520000</td>\n",
       "      <td>708.306122</td>\n",
       "      <td>708.44000</td>\n",
       "      <td>1026.280000</td>\n",
       "      <td>1017.560000</td>\n",
       "      <td>1027.880000</td>\n",
       "      <td>1027.000000</td>\n",
       "      <td>...</td>\n",
       "      <td>0.000000</td>\n",
       "      <td>0.0</td>\n",
       "      <td>0.0</td>\n",
       "      <td>0.000000</td>\n",
       "      <td>0.000000</td>\n",
       "      <td>3027.000000</td>\n",
       "      <td>3044.333333</td>\n",
       "      <td>0.000000</td>\n",
       "      <td>3047.000000</td>\n",
       "      <td>0.000000</td>\n",
       "    </tr>\n",
       "    <tr>\n",
       "      <th>123</th>\n",
       "      <td>125</td>\n",
       "      <td>728.916667</td>\n",
       "      <td>752.877551</td>\n",
       "      <td>741.320000</td>\n",
       "      <td>728.760000</td>\n",
       "      <td>728.22449</td>\n",
       "      <td>1042.906977</td>\n",
       "      <td>1061.080000</td>\n",
       "      <td>1042.043478</td>\n",
       "      <td>1043.000000</td>\n",
       "      <td>...</td>\n",
       "      <td>0.000000</td>\n",
       "      <td>0.0</td>\n",
       "      <td>2764.0</td>\n",
       "      <td>0.000000</td>\n",
       "      <td>0.000000</td>\n",
       "      <td>3071.000000</td>\n",
       "      <td>0.000000</td>\n",
       "      <td>3071.000000</td>\n",
       "      <td>0.000000</td>\n",
       "      <td>0.000000</td>\n",
       "    </tr>\n",
       "  </tbody>\n",
       "</table>\n",
       "<p>124 rows × 136 columns</p>\n",
       "</div>"
      ],
      "text/plain": [
       "range_delay  Sensor ID  13_10000_mean_middle  13_16800_mean_middle  \\\n",
       "0                    1            827.000000            827.000000   \n",
       "1                    2            679.640000            679.000000   \n",
       "2                    3            717.880000            717.727273   \n",
       "3                    4            737.080000            736.840000   \n",
       "4                    5            743.000000            742.894737   \n",
       "..                 ...                   ...                   ...   \n",
       "119                121            742.200000            751.545455   \n",
       "120                122            735.000000          23719.700000   \n",
       "121                123            751.000000            747.333333   \n",
       "122                124            708.680000            365.222222   \n",
       "123                125            728.916667            752.877551   \n",
       "\n",
       "range_delay  13_3000_mean_middle  13_6000_mean_middle  13_8000_mean_middle  \\\n",
       "0                     827.000000           827.000000            827.00000   \n",
       "1                     679.000000           679.000000            679.00000   \n",
       "2                     718.040000           717.240000            718.04000   \n",
       "3                     737.160000           736.920000            736.68000   \n",
       "4                     741.880000           743.000000            743.00000   \n",
       "..                           ...                  ...                  ...   \n",
       "119                   751.000000           751.000000            741.56000   \n",
       "120                   735.244898           735.000000            735.00000   \n",
       "121                   725.829268           751.000000            751.00000   \n",
       "122                   708.520000           708.306122            708.44000   \n",
       "123                   741.320000           728.760000            728.22449   \n",
       "\n",
       "range_delay  18_10000_mean_middle  18_16800_mean_middle  18_3000_mean_middle  \\\n",
       "0                     1071.000000           1069.285714          1069.240000   \n",
       "1                      943.000000            954.200000           967.260870   \n",
       "2                     1029.933333           1020.920000          1007.000000   \n",
       "3                     1030.351351           1031.000000          1028.840000   \n",
       "4                     1046.102041           1045.697674          1047.244898   \n",
       "..                            ...                   ...                  ...   \n",
       "119                   1045.160000           1051.880000          1046.473684   \n",
       "120                   1017.400000           1024.600000          1028.440000   \n",
       "121                   1043.571429           1043.000000          1043.000000   \n",
       "122                   1026.280000           1017.560000          1027.880000   \n",
       "123                   1042.906977           1061.080000          1042.043478   \n",
       "\n",
       "range_delay  18_6000_mean_middle  ...  48_10000_mean_upper  \\\n",
       "0                    1069.400000  ...          2795.000000   \n",
       "1                     954.520000  ...          2669.521739   \n",
       "2                    1005.960000  ...             0.000000   \n",
       "3                    1087.000000  ...             0.000000   \n",
       "4                    1046.288889  ...             0.000000   \n",
       "..                           ...  ...                  ...   \n",
       "119                  1046.680000  ...             0.000000   \n",
       "120                  1028.680000  ...             0.000000   \n",
       "121                  1043.000000  ...             0.000000   \n",
       "122                  1027.000000  ...             0.000000   \n",
       "123                  1043.000000  ...             0.000000   \n",
       "\n",
       "range_delay  48_16800_mean_upper  48_3000_mean_upper  48_6000_mean_upper  \\\n",
       "0                            0.0              2809.4         2803.000000   \n",
       "1                            0.0                 0.0            0.000000   \n",
       "2                            0.0              2743.0         2727.000000   \n",
       "3                            0.0                 0.0         2755.195122   \n",
       "4                         2755.0                 0.0            0.000000   \n",
       "..                           ...                 ...                 ...   \n",
       "119                          0.0                 0.0            0.000000   \n",
       "120                          0.0              2765.0            0.000000   \n",
       "121                          0.0                 0.0            0.000000   \n",
       "122                          0.0                 0.0            0.000000   \n",
       "123                          0.0              2764.0            0.000000   \n",
       "\n",
       "range_delay  48_8000_mean_upper  53_10000_mean_upper  53_16800_mean_upper  \\\n",
       "0                   2800.333333          2995.545455             0.000000   \n",
       "1                   2691.000000             0.000000          2371.000000   \n",
       "2                      0.000000             0.000000             0.000000   \n",
       "3                      0.000000          3000.000000          3019.000000   \n",
       "4                      0.000000             0.000000             0.000000   \n",
       "..                          ...                  ...                  ...   \n",
       "119                    0.000000          3037.666667             0.000000   \n",
       "120                 2736.128205          3043.000000             0.000000   \n",
       "121                 2759.000000             0.000000             0.000000   \n",
       "122                    0.000000          3027.000000          3044.333333   \n",
       "123                    0.000000          3071.000000             0.000000   \n",
       "\n",
       "range_delay  53_3000_mean_upper  53_6000_mean_upper  53_8000_mean_upper  \n",
       "0                   2995.444444         3039.727273         3004.043478  \n",
       "1                      0.000000         2951.744186            0.000000  \n",
       "2                      0.000000            0.000000            0.000000  \n",
       "3                   3000.116279         2999.930233         3000.116279  \n",
       "4                      0.000000            0.000000            0.000000  \n",
       "..                          ...                 ...                 ...  \n",
       "119                 3057.000000            0.000000            0.000000  \n",
       "120                 3059.000000            0.000000         3043.000000  \n",
       "121                    0.000000            0.000000            0.000000  \n",
       "122                    0.000000         3047.000000            0.000000  \n",
       "123                 3071.000000            0.000000            0.000000  \n",
       "\n",
       "[124 rows x 136 columns]"
      ]
     },
     "execution_count": 83,
     "metadata": {},
     "output_type": "execute_result"
    }
   ],
   "source": [
    "df_range_delay_all"
   ]
  },
  {
   "cell_type": "markdown",
   "metadata": {},
   "source": [
    "## Conduct PCA based feature importance"
   ]
  },
  {
   "cell_type": "code",
   "execution_count": 84,
   "metadata": {},
   "outputs": [
    {
     "data": {
      "image/png": "[encoded data removed]",
      "text/plain": [
       "<Figure size 1000x600 with 1 Axes>"
      ]
     },
     "metadata": {},
     "output_type": "display_data"
    }
   ],
   "source": [
    "from sklearn.preprocessing import StandardScaler\n",
    "from sklearn.decomposition import PCA\n",
    "import matplotlib.pyplot as plt\n",
    "import numpy as np\n",
    "\n",
    "def process_PCA(df):\n",
    "    # Extract features and standardize\n",
    "    features = df.drop(columns='Sensor ID')\n",
    "    sensor_ids = df['Sensor ID']\n",
    "\n",
    "    # Standardize the features\n",
    "    scaler = StandardScaler()\n",
    "    features_scaled = scaler.fit_transform(features)\n",
    "\n",
    "    # Perform PCA\n",
    "    pca = PCA()\n",
    "    principal_components = pca.fit_transform(features_scaled)\n",
    "\n",
    "    # Explained variance ratio for each principal component\n",
    "    explained_variance = pca.explained_variance_ratio_\n",
    "\n",
    "    # Plot the explained variance to see the importance of each component\n",
    "    plt.figure(figsize=(10, 6))\n",
    "    plt.plot(np.cumsum(explained_variance), marker='o', linestyle='--')\n",
    "    plt.xlabel('Number of Principal Components')\n",
    "    plt.ylabel('Cumulative Explained Variance')\n",
    "    plt.title('PCA - Cumulative Explained Variance')\n",
    "    plt.grid(True)\n",
    "    plt.show()\n",
    "\n",
    "    # Get the loadings (coefficients) of the features on the principal components\n",
    "    loadings = pca.components_\n",
    "\n",
    "    # Display the loadings for the first few principal components\n",
    "    return explained_variance, loadings, features\n",
    "\n",
    "explained_variance, loadings, features = process_PCA(df_range_delay_all)\n",
    "\n"
   ]
  },
  {
   "cell_type": "code",
   "execution_count": 85,
   "metadata": {},
   "outputs": [
    {
     "data": {
      "text/html": [
       "<div>\n",
       "<style scoped>\n",
       "    .dataframe tbody tr th:only-of-type {\n",
       "        vertical-align: middle;\n",
       "    }\n",
       "\n",
       "    .dataframe tbody tr th {\n",
       "        vertical-align: top;\n",
       "    }\n",
       "\n",
       "    .dataframe thead th {\n",
       "        text-align: right;\n",
       "    }\n",
       "</style>\n",
       "<table border=\"1\" class=\"dataframe\">\n",
       "  <thead>\n",
       "    <tr style=\"text-align: right;\">\n",
       "      <th></th>\n",
       "      <th>PC1</th>\n",
       "      <th>PC2</th>\n",
       "      <th>PC3</th>\n",
       "      <th>PC4</th>\n",
       "      <th>PC5</th>\n",
       "      <th>PC6</th>\n",
       "      <th>PC7</th>\n",
       "      <th>PC8</th>\n",
       "      <th>PC9</th>\n",
       "      <th>PC10</th>\n",
       "      <th>...</th>\n",
       "      <th>PC115</th>\n",
       "      <th>PC116</th>\n",
       "      <th>PC117</th>\n",
       "      <th>PC118</th>\n",
       "      <th>PC119</th>\n",
       "      <th>PC120</th>\n",
       "      <th>PC121</th>\n",
       "      <th>PC122</th>\n",
       "      <th>PC123</th>\n",
       "      <th>PC124</th>\n",
       "    </tr>\n",
       "    <tr>\n",
       "      <th>range_delay</th>\n",
       "      <th></th>\n",
       "      <th></th>\n",
       "      <th></th>\n",
       "      <th></th>\n",
       "      <th></th>\n",
       "      <th></th>\n",
       "      <th></th>\n",
       "      <th></th>\n",
       "      <th></th>\n",
       "      <th></th>\n",
       "      <th></th>\n",
       "      <th></th>\n",
       "      <th></th>\n",
       "      <th></th>\n",
       "      <th></th>\n",
       "      <th></th>\n",
       "      <th></th>\n",
       "      <th></th>\n",
       "      <th></th>\n",
       "      <th></th>\n",
       "      <th></th>\n",
       "    </tr>\n",
       "  </thead>\n",
       "  <tbody>\n",
       "    <tr>\n",
       "      <th>13_10000_mean_middle</th>\n",
       "      <td>-0.148590</td>\n",
       "      <td>0.087957</td>\n",
       "      <td>0.064698</td>\n",
       "      <td>0.020165</td>\n",
       "      <td>0.015386</td>\n",
       "      <td>0.013110</td>\n",
       "      <td>0.031471</td>\n",
       "      <td>-0.180907</td>\n",
       "      <td>-0.005070</td>\n",
       "      <td>0.057427</td>\n",
       "      <td>...</td>\n",
       "      <td>-0.105433</td>\n",
       "      <td>0.180410</td>\n",
       "      <td>-0.260629</td>\n",
       "      <td>0.073278</td>\n",
       "      <td>0.138110</td>\n",
       "      <td>0.119287</td>\n",
       "      <td>-0.074006</td>\n",
       "      <td>0.098982</td>\n",
       "      <td>-0.171009</td>\n",
       "      <td>-0.072779</td>\n",
       "    </tr>\n",
       "    <tr>\n",
       "      <th>13_16800_mean_middle</th>\n",
       "      <td>0.023745</td>\n",
       "      <td>-0.029971</td>\n",
       "      <td>-0.091584</td>\n",
       "      <td>0.070111</td>\n",
       "      <td>-0.131539</td>\n",
       "      <td>-0.086411</td>\n",
       "      <td>0.210875</td>\n",
       "      <td>0.043729</td>\n",
       "      <td>-0.004747</td>\n",
       "      <td>0.094402</td>\n",
       "      <td>...</td>\n",
       "      <td>0.128367</td>\n",
       "      <td>-0.061476</td>\n",
       "      <td>0.069502</td>\n",
       "      <td>-0.079248</td>\n",
       "      <td>0.121029</td>\n",
       "      <td>0.036712</td>\n",
       "      <td>-0.000682</td>\n",
       "      <td>-0.067149</td>\n",
       "      <td>0.043491</td>\n",
       "      <td>-0.060535</td>\n",
       "    </tr>\n",
       "    <tr>\n",
       "      <th>13_3000_mean_middle</th>\n",
       "      <td>-0.098201</td>\n",
       "      <td>-0.087907</td>\n",
       "      <td>0.048211</td>\n",
       "      <td>0.022725</td>\n",
       "      <td>0.001430</td>\n",
       "      <td>0.015233</td>\n",
       "      <td>0.101928</td>\n",
       "      <td>-0.246340</td>\n",
       "      <td>0.010333</td>\n",
       "      <td>0.136442</td>\n",
       "      <td>...</td>\n",
       "      <td>-0.007605</td>\n",
       "      <td>0.003228</td>\n",
       "      <td>0.023578</td>\n",
       "      <td>0.057325</td>\n",
       "      <td>0.024380</td>\n",
       "      <td>0.032511</td>\n",
       "      <td>0.022345</td>\n",
       "      <td>-0.038973</td>\n",
       "      <td>0.043263</td>\n",
       "      <td>0.023067</td>\n",
       "    </tr>\n",
       "    <tr>\n",
       "      <th>13_6000_mean_middle</th>\n",
       "      <td>-0.078270</td>\n",
       "      <td>0.056278</td>\n",
       "      <td>0.051056</td>\n",
       "      <td>-0.094835</td>\n",
       "      <td>-0.086265</td>\n",
       "      <td>0.058946</td>\n",
       "      <td>0.048731</td>\n",
       "      <td>-0.145140</td>\n",
       "      <td>-0.032703</td>\n",
       "      <td>0.092518</td>\n",
       "      <td>...</td>\n",
       "      <td>-0.046800</td>\n",
       "      <td>-0.111748</td>\n",
       "      <td>0.019411</td>\n",
       "      <td>0.120129</td>\n",
       "      <td>0.084856</td>\n",
       "      <td>-0.040715</td>\n",
       "      <td>0.024028</td>\n",
       "      <td>0.133735</td>\n",
       "      <td>0.080510</td>\n",
       "      <td>0.090339</td>\n",
       "    </tr>\n",
       "    <tr>\n",
       "      <th>13_8000_mean_middle</th>\n",
       "      <td>-0.148657</td>\n",
       "      <td>0.086434</td>\n",
       "      <td>0.064098</td>\n",
       "      <td>0.019836</td>\n",
       "      <td>0.008096</td>\n",
       "      <td>0.008855</td>\n",
       "      <td>0.041938</td>\n",
       "      <td>-0.185475</td>\n",
       "      <td>-0.013522</td>\n",
       "      <td>0.053812</td>\n",
       "      <td>...</td>\n",
       "      <td>0.080409</td>\n",
       "      <td>-0.125306</td>\n",
       "      <td>0.191369</td>\n",
       "      <td>-0.090106</td>\n",
       "      <td>-0.189659</td>\n",
       "      <td>-0.069640</td>\n",
       "      <td>0.095981</td>\n",
       "      <td>-0.059016</td>\n",
       "      <td>0.055127</td>\n",
       "      <td>0.026473</td>\n",
       "    </tr>\n",
       "    <tr>\n",
       "      <th>...</th>\n",
       "      <td>...</td>\n",
       "      <td>...</td>\n",
       "      <td>...</td>\n",
       "      <td>...</td>\n",
       "      <td>...</td>\n",
       "      <td>...</td>\n",
       "      <td>...</td>\n",
       "      <td>...</td>\n",
       "      <td>...</td>\n",
       "      <td>...</td>\n",
       "      <td>...</td>\n",
       "      <td>...</td>\n",
       "      <td>...</td>\n",
       "      <td>...</td>\n",
       "      <td>...</td>\n",
       "      <td>...</td>\n",
       "      <td>...</td>\n",
       "      <td>...</td>\n",
       "      <td>...</td>\n",
       "      <td>...</td>\n",
       "      <td>...</td>\n",
       "    </tr>\n",
       "    <tr>\n",
       "      <th>53_10000_mean_upper</th>\n",
       "      <td>-0.016511</td>\n",
       "      <td>0.073319</td>\n",
       "      <td>-0.011256</td>\n",
       "      <td>0.166706</td>\n",
       "      <td>-0.079901</td>\n",
       "      <td>0.031303</td>\n",
       "      <td>0.118454</td>\n",
       "      <td>0.180341</td>\n",
       "      <td>-0.057270</td>\n",
       "      <td>-0.029821</td>\n",
       "      <td>...</td>\n",
       "      <td>-0.018260</td>\n",
       "      <td>-0.065619</td>\n",
       "      <td>0.028170</td>\n",
       "      <td>0.043623</td>\n",
       "      <td>-0.018447</td>\n",
       "      <td>0.049001</td>\n",
       "      <td>0.016699</td>\n",
       "      <td>0.068672</td>\n",
       "      <td>0.019914</td>\n",
       "      <td>0.000998</td>\n",
       "    </tr>\n",
       "    <tr>\n",
       "      <th>53_16800_mean_upper</th>\n",
       "      <td>0.024079</td>\n",
       "      <td>0.014077</td>\n",
       "      <td>0.128122</td>\n",
       "      <td>0.049282</td>\n",
       "      <td>-0.096936</td>\n",
       "      <td>0.040383</td>\n",
       "      <td>-0.001297</td>\n",
       "      <td>0.028652</td>\n",
       "      <td>-0.116021</td>\n",
       "      <td>-0.034439</td>\n",
       "      <td>...</td>\n",
       "      <td>0.046724</td>\n",
       "      <td>-0.012513</td>\n",
       "      <td>-0.007151</td>\n",
       "      <td>0.047724</td>\n",
       "      <td>0.016265</td>\n",
       "      <td>0.039556</td>\n",
       "      <td>0.037225</td>\n",
       "      <td>-0.032011</td>\n",
       "      <td>0.010414</td>\n",
       "      <td>-0.002845</td>\n",
       "    </tr>\n",
       "    <tr>\n",
       "      <th>53_3000_mean_upper</th>\n",
       "      <td>-0.026300</td>\n",
       "      <td>-0.028420</td>\n",
       "      <td>0.118791</td>\n",
       "      <td>0.037087</td>\n",
       "      <td>0.086084</td>\n",
       "      <td>-0.105236</td>\n",
       "      <td>0.170707</td>\n",
       "      <td>0.079747</td>\n",
       "      <td>0.016621</td>\n",
       "      <td>-0.072402</td>\n",
       "      <td>...</td>\n",
       "      <td>-0.086650</td>\n",
       "      <td>0.041017</td>\n",
       "      <td>0.018916</td>\n",
       "      <td>-0.012063</td>\n",
       "      <td>-0.003629</td>\n",
       "      <td>-0.021152</td>\n",
       "      <td>-0.016625</td>\n",
       "      <td>0.041565</td>\n",
       "      <td>0.006947</td>\n",
       "      <td>-0.024375</td>\n",
       "    </tr>\n",
       "    <tr>\n",
       "      <th>53_6000_mean_upper</th>\n",
       "      <td>0.011040</td>\n",
       "      <td>-0.006727</td>\n",
       "      <td>0.112911</td>\n",
       "      <td>0.157935</td>\n",
       "      <td>0.017967</td>\n",
       "      <td>0.015177</td>\n",
       "      <td>0.036947</td>\n",
       "      <td>0.099156</td>\n",
       "      <td>0.038364</td>\n",
       "      <td>0.160277</td>\n",
       "      <td>...</td>\n",
       "      <td>0.050998</td>\n",
       "      <td>-0.049366</td>\n",
       "      <td>0.027792</td>\n",
       "      <td>-0.028434</td>\n",
       "      <td>0.010367</td>\n",
       "      <td>-0.018504</td>\n",
       "      <td>0.030458</td>\n",
       "      <td>-0.050245</td>\n",
       "      <td>-0.027669</td>\n",
       "      <td>0.015313</td>\n",
       "    </tr>\n",
       "    <tr>\n",
       "      <th>53_8000_mean_upper</th>\n",
       "      <td>0.005462</td>\n",
       "      <td>0.004997</td>\n",
       "      <td>0.065794</td>\n",
       "      <td>0.092291</td>\n",
       "      <td>0.003757</td>\n",
       "      <td>0.114009</td>\n",
       "      <td>0.179008</td>\n",
       "      <td>0.185714</td>\n",
       "      <td>-0.074003</td>\n",
       "      <td>0.064791</td>\n",
       "      <td>...</td>\n",
       "      <td>0.003521</td>\n",
       "      <td>0.062567</td>\n",
       "      <td>-0.038962</td>\n",
       "      <td>-0.044049</td>\n",
       "      <td>0.036980</td>\n",
       "      <td>-0.026516</td>\n",
       "      <td>0.025944</td>\n",
       "      <td>-0.000820</td>\n",
       "      <td>0.009611</td>\n",
       "      <td>-0.024623</td>\n",
       "    </tr>\n",
       "  </tbody>\n",
       "</table>\n",
       "<p>135 rows × 124 columns</p>\n",
       "</div>"
      ],
      "text/plain": [
       "                           PC1       PC2       PC3       PC4       PC5  \\\n",
       "range_delay                                                              \n",
       "13_10000_mean_middle -0.148590  0.087957  0.064698  0.020165  0.015386   \n",
       "13_16800_mean_middle  0.023745 -0.029971 -0.091584  0.070111 -0.131539   \n",
       "13_3000_mean_middle  -0.098201 -0.087907  0.048211  0.022725  0.001430   \n",
       "13_6000_mean_middle  -0.078270  0.056278  0.051056 -0.094835 -0.086265   \n",
       "13_8000_mean_middle  -0.148657  0.086434  0.064098  0.019836  0.008096   \n",
       "...                        ...       ...       ...       ...       ...   \n",
       "53_10000_mean_upper  -0.016511  0.073319 -0.011256  0.166706 -0.079901   \n",
       "53_16800_mean_upper   0.024079  0.014077  0.128122  0.049282 -0.096936   \n",
       "53_3000_mean_upper   -0.026300 -0.028420  0.118791  0.037087  0.086084   \n",
       "53_6000_mean_upper    0.011040 -0.006727  0.112911  0.157935  0.017967   \n",
       "53_8000_mean_upper    0.005462  0.004997  0.065794  0.092291  0.003757   \n",
       "\n",
       "                           PC6       PC7       PC8       PC9      PC10  ...  \\\n",
       "range_delay                                                             ...   \n",
       "13_10000_mean_middle  0.013110  0.031471 -0.180907 -0.005070  0.057427  ...   \n",
       "13_16800_mean_middle -0.086411  0.210875  0.043729 -0.004747  0.094402  ...   \n",
       "13_3000_mean_middle   0.015233  0.101928 -0.246340  0.010333  0.136442  ...   \n",
       "13_6000_mean_middle   0.058946  0.048731 -0.145140 -0.032703  0.092518  ...   \n",
       "13_8000_mean_middle   0.008855  0.041938 -0.185475 -0.013522  0.053812  ...   \n",
       "...                        ...       ...       ...       ...       ...  ...   \n",
       "53_10000_mean_upper   0.031303  0.118454  0.180341 -0.057270 -0.029821  ...   \n",
       "53_16800_mean_upper   0.040383 -0.001297  0.028652 -0.116021 -0.034439  ...   \n",
       "53_3000_mean_upper   -0.105236  0.170707  0.079747  0.016621 -0.072402  ...   \n",
       "53_6000_mean_upper    0.015177  0.036947  0.099156  0.038364  0.160277  ...   \n",
       "53_8000_mean_upper    0.114009  0.179008  0.185714 -0.074003  0.064791  ...   \n",
       "\n",
       "                         PC115     PC116     PC117     PC118     PC119  \\\n",
       "range_delay                                                              \n",
       "13_10000_mean_middle -0.105433  0.180410 -0.260629  0.073278  0.138110   \n",
       "13_16800_mean_middle  0.128367 -0.061476  0.069502 -0.079248  0.121029   \n",
       "13_3000_mean_middle  -0.007605  0.003228  0.023578  0.057325  0.024380   \n",
       "13_6000_mean_middle  -0.046800 -0.111748  0.019411  0.120129  0.084856   \n",
       "13_8000_mean_middle   0.080409 -0.125306  0.191369 -0.090106 -0.189659   \n",
       "...                        ...       ...       ...       ...       ...   \n",
       "53_10000_mean_upper  -0.018260 -0.065619  0.028170  0.043623 -0.018447   \n",
       "53_16800_mean_upper   0.046724 -0.012513 -0.007151  0.047724  0.016265   \n",
       "53_3000_mean_upper   -0.086650  0.041017  0.018916 -0.012063 -0.003629   \n",
       "53_6000_mean_upper    0.050998 -0.049366  0.027792 -0.028434  0.010367   \n",
       "53_8000_mean_upper    0.003521  0.062567 -0.038962 -0.044049  0.036980   \n",
       "\n",
       "                         PC120     PC121     PC122     PC123     PC124  \n",
       "range_delay                                                             \n",
       "13_10000_mean_middle  0.119287 -0.074006  0.098982 -0.171009 -0.072779  \n",
       "13_16800_mean_middle  0.036712 -0.000682 -0.067149  0.043491 -0.060535  \n",
       "13_3000_mean_middle   0.032511  0.022345 -0.038973  0.043263  0.023067  \n",
       "13_6000_mean_middle  -0.040715  0.024028  0.133735  0.080510  0.090339  \n",
       "13_8000_mean_middle  -0.069640  0.095981 -0.059016  0.055127  0.026473  \n",
       "...                        ...       ...       ...       ...       ...  \n",
       "53_10000_mean_upper   0.049001  0.016699  0.068672  0.019914  0.000998  \n",
       "53_16800_mean_upper   0.039556  0.037225 -0.032011  0.010414 -0.002845  \n",
       "53_3000_mean_upper   -0.021152 -0.016625  0.041565  0.006947 -0.024375  \n",
       "53_6000_mean_upper   -0.018504  0.030458 -0.050245 -0.027669  0.015313  \n",
       "53_8000_mean_upper   -0.026516  0.025944 -0.000820  0.009611 -0.024623  \n",
       "\n",
       "[135 rows x 124 columns]"
      ]
     },
     "execution_count": 85,
     "metadata": {},
     "output_type": "execute_result"
    }
   ],
   "source": [
    "# Create a DataFrame for the loadings\n",
    "loading_df = pd.DataFrame(loadings.T, columns=[f'PC{i+1}' for i in range(loadings.shape[0])], index=features.columns)\n",
    "loading_df"
   ]
  },
  {
   "cell_type": "code",
   "execution_count": 86,
   "metadata": {},
   "outputs": [
    {
     "data": {
      "text/html": [
       "<div>\n",
       "<style scoped>\n",
       "    .dataframe tbody tr th:only-of-type {\n",
       "        vertical-align: middle;\n",
       "    }\n",
       "\n",
       "    .dataframe tbody tr th {\n",
       "        vertical-align: top;\n",
       "    }\n",
       "\n",
       "    .dataframe thead th {\n",
       "        text-align: right;\n",
       "    }\n",
       "</style>\n",
       "<table border=\"1\" class=\"dataframe\">\n",
       "  <thead>\n",
       "    <tr style=\"text-align: right;\">\n",
       "      <th></th>\n",
       "      <th>Feature</th>\n",
       "      <th>Importance</th>\n",
       "    </tr>\n",
       "  </thead>\n",
       "  <tbody>\n",
       "    <tr>\n",
       "      <th>102</th>\n",
       "      <td>23_3000_mean_upper</td>\n",
       "      <td>4.338425</td>\n",
       "    </tr>\n",
       "    <tr>\n",
       "      <th>83</th>\n",
       "      <td>48_6000_mean_lower</td>\n",
       "      <td>4.307586</td>\n",
       "    </tr>\n",
       "    <tr>\n",
       "      <th>72</th>\n",
       "      <td>38_3000_mean_lower</td>\n",
       "      <td>4.266872</td>\n",
       "    </tr>\n",
       "    <tr>\n",
       "      <th>115</th>\n",
       "      <td>38_10000_mean_upper</td>\n",
       "      <td>4.208373</td>\n",
       "    </tr>\n",
       "    <tr>\n",
       "      <th>67</th>\n",
       "      <td>33_3000_mean_lower</td>\n",
       "      <td>4.198774</td>\n",
       "    </tr>\n",
       "    <tr>\n",
       "      <th>54</th>\n",
       "      <td>18_8000_mean_lower</td>\n",
       "      <td>4.184725</td>\n",
       "    </tr>\n",
       "    <tr>\n",
       "      <th>52</th>\n",
       "      <td>18_3000_mean_lower</td>\n",
       "      <td>4.180638</td>\n",
       "    </tr>\n",
       "    <tr>\n",
       "      <th>51</th>\n",
       "      <td>18_16800_mean_lower</td>\n",
       "      <td>4.173425</td>\n",
       "    </tr>\n",
       "    <tr>\n",
       "      <th>71</th>\n",
       "      <td>38_16800_mean_lower</td>\n",
       "      <td>4.172847</td>\n",
       "    </tr>\n",
       "    <tr>\n",
       "      <th>120</th>\n",
       "      <td>43_10000_mean_upper</td>\n",
       "      <td>4.163416</td>\n",
       "    </tr>\n",
       "    <tr>\n",
       "      <th>57</th>\n",
       "      <td>23_3000_mean_lower</td>\n",
       "      <td>4.149043</td>\n",
       "    </tr>\n",
       "    <tr>\n",
       "      <th>109</th>\n",
       "      <td>28_8000_mean_upper</td>\n",
       "      <td>4.132317</td>\n",
       "    </tr>\n",
       "    <tr>\n",
       "      <th>123</th>\n",
       "      <td>43_6000_mean_upper</td>\n",
       "      <td>4.130334</td>\n",
       "    </tr>\n",
       "    <tr>\n",
       "      <th>90</th>\n",
       "      <td>13_10000_mean_upper</td>\n",
       "      <td>4.112284</td>\n",
       "    </tr>\n",
       "    <tr>\n",
       "      <th>119</th>\n",
       "      <td>38_8000_mean_upper</td>\n",
       "      <td>4.096730</td>\n",
       "    </tr>\n",
       "    <tr>\n",
       "      <th>84</th>\n",
       "      <td>48_8000_mean_lower</td>\n",
       "      <td>4.092441</td>\n",
       "    </tr>\n",
       "    <tr>\n",
       "      <th>108</th>\n",
       "      <td>28_6000_mean_upper</td>\n",
       "      <td>4.087602</td>\n",
       "    </tr>\n",
       "    <tr>\n",
       "      <th>42</th>\n",
       "      <td>53_3000_mean_middle</td>\n",
       "      <td>4.075164</td>\n",
       "    </tr>\n",
       "    <tr>\n",
       "      <th>117</th>\n",
       "      <td>38_3000_mean_upper</td>\n",
       "      <td>4.074560</td>\n",
       "    </tr>\n",
       "    <tr>\n",
       "      <th>58</th>\n",
       "      <td>23_6000_mean_lower</td>\n",
       "      <td>4.067525</td>\n",
       "    </tr>\n",
       "    <tr>\n",
       "      <th>60</th>\n",
       "      <td>28_10000_mean_lower</td>\n",
       "      <td>4.063870</td>\n",
       "    </tr>\n",
       "    <tr>\n",
       "      <th>101</th>\n",
       "      <td>23_16800_mean_upper</td>\n",
       "      <td>4.059271</td>\n",
       "    </tr>\n",
       "    <tr>\n",
       "      <th>65</th>\n",
       "      <td>33_10000_mean_lower</td>\n",
       "      <td>4.047994</td>\n",
       "    </tr>\n",
       "    <tr>\n",
       "      <th>13</th>\n",
       "      <td>23_6000_mean_middle</td>\n",
       "      <td>4.038134</td>\n",
       "    </tr>\n",
       "    <tr>\n",
       "      <th>62</th>\n",
       "      <td>28_3000_mean_lower</td>\n",
       "      <td>4.037746</td>\n",
       "    </tr>\n",
       "    <tr>\n",
       "      <th>118</th>\n",
       "      <td>38_6000_mean_upper</td>\n",
       "      <td>4.024562</td>\n",
       "    </tr>\n",
       "    <tr>\n",
       "      <th>45</th>\n",
       "      <td>13_10000_mean_lower</td>\n",
       "      <td>4.020321</td>\n",
       "    </tr>\n",
       "    <tr>\n",
       "      <th>47</th>\n",
       "      <td>13_3000_mean_lower</td>\n",
       "      <td>4.019737</td>\n",
       "    </tr>\n",
       "    <tr>\n",
       "      <th>89</th>\n",
       "      <td>53_8000_mean_lower</td>\n",
       "      <td>4.015233</td>\n",
       "    </tr>\n",
       "    <tr>\n",
       "      <th>43</th>\n",
       "      <td>53_6000_mean_middle</td>\n",
       "      <td>4.011288</td>\n",
       "    </tr>\n",
       "    <tr>\n",
       "      <th>3</th>\n",
       "      <td>13_6000_mean_middle</td>\n",
       "      <td>4.008662</td>\n",
       "    </tr>\n",
       "    <tr>\n",
       "      <th>91</th>\n",
       "      <td>13_16800_mean_upper</td>\n",
       "      <td>4.002705</td>\n",
       "    </tr>\n",
       "    <tr>\n",
       "      <th>97</th>\n",
       "      <td>18_3000_mean_upper</td>\n",
       "      <td>3.996421</td>\n",
       "    </tr>\n",
       "    <tr>\n",
       "      <th>75</th>\n",
       "      <td>43_10000_mean_lower</td>\n",
       "      <td>3.986742</td>\n",
       "    </tr>\n",
       "    <tr>\n",
       "      <th>121</th>\n",
       "      <td>43_16800_mean_upper</td>\n",
       "      <td>3.984105</td>\n",
       "    </tr>\n",
       "    <tr>\n",
       "      <th>93</th>\n",
       "      <td>13_6000_mean_upper</td>\n",
       "      <td>3.979177</td>\n",
       "    </tr>\n",
       "    <tr>\n",
       "      <th>77</th>\n",
       "      <td>43_3000_mean_lower</td>\n",
       "      <td>3.974135</td>\n",
       "    </tr>\n",
       "    <tr>\n",
       "      <th>107</th>\n",
       "      <td>28_3000_mean_upper</td>\n",
       "      <td>3.969613</td>\n",
       "    </tr>\n",
       "    <tr>\n",
       "      <th>48</th>\n",
       "      <td>13_6000_mean_lower</td>\n",
       "      <td>3.963945</td>\n",
       "    </tr>\n",
       "    <tr>\n",
       "      <th>46</th>\n",
       "      <td>13_16800_mean_lower</td>\n",
       "      <td>3.961743</td>\n",
       "    </tr>\n",
       "    <tr>\n",
       "      <th>128</th>\n",
       "      <td>48_6000_mean_upper</td>\n",
       "      <td>3.961264</td>\n",
       "    </tr>\n",
       "    <tr>\n",
       "      <th>116</th>\n",
       "      <td>38_16800_mean_upper</td>\n",
       "      <td>3.955696</td>\n",
       "    </tr>\n",
       "    <tr>\n",
       "      <th>56</th>\n",
       "      <td>23_16800_mean_lower</td>\n",
       "      <td>3.939112</td>\n",
       "    </tr>\n",
       "    <tr>\n",
       "      <th>79</th>\n",
       "      <td>43_8000_mean_lower</td>\n",
       "      <td>3.927370</td>\n",
       "    </tr>\n",
       "    <tr>\n",
       "      <th>94</th>\n",
       "      <td>13_8000_mean_upper</td>\n",
       "      <td>3.926792</td>\n",
       "    </tr>\n",
       "    <tr>\n",
       "      <th>66</th>\n",
       "      <td>33_16800_mean_lower</td>\n",
       "      <td>3.905270</td>\n",
       "    </tr>\n",
       "    <tr>\n",
       "      <th>100</th>\n",
       "      <td>23_10000_mean_upper</td>\n",
       "      <td>3.899346</td>\n",
       "    </tr>\n",
       "    <tr>\n",
       "      <th>44</th>\n",
       "      <td>53_8000_mean_middle</td>\n",
       "      <td>3.897285</td>\n",
       "    </tr>\n",
       "    <tr>\n",
       "      <th>114</th>\n",
       "      <td>33_8000_mean_upper</td>\n",
       "      <td>3.893756</td>\n",
       "    </tr>\n",
       "    <tr>\n",
       "      <th>74</th>\n",
       "      <td>38_8000_mean_lower</td>\n",
       "      <td>3.885788</td>\n",
       "    </tr>\n",
       "  </tbody>\n",
       "</table>\n",
       "</div>"
      ],
      "text/plain": [
       "                 Feature  Importance\n",
       "102   23_3000_mean_upper    4.338425\n",
       "83    48_6000_mean_lower    4.307586\n",
       "72    38_3000_mean_lower    4.266872\n",
       "115  38_10000_mean_upper    4.208373\n",
       "67    33_3000_mean_lower    4.198774\n",
       "54    18_8000_mean_lower    4.184725\n",
       "52    18_3000_mean_lower    4.180638\n",
       "51   18_16800_mean_lower    4.173425\n",
       "71   38_16800_mean_lower    4.172847\n",
       "120  43_10000_mean_upper    4.163416\n",
       "57    23_3000_mean_lower    4.149043\n",
       "109   28_8000_mean_upper    4.132317\n",
       "123   43_6000_mean_upper    4.130334\n",
       "90   13_10000_mean_upper    4.112284\n",
       "119   38_8000_mean_upper    4.096730\n",
       "84    48_8000_mean_lower    4.092441\n",
       "108   28_6000_mean_upper    4.087602\n",
       "42   53_3000_mean_middle    4.075164\n",
       "117   38_3000_mean_upper    4.074560\n",
       "58    23_6000_mean_lower    4.067525\n",
       "60   28_10000_mean_lower    4.063870\n",
       "101  23_16800_mean_upper    4.059271\n",
       "65   33_10000_mean_lower    4.047994\n",
       "13   23_6000_mean_middle    4.038134\n",
       "62    28_3000_mean_lower    4.037746\n",
       "118   38_6000_mean_upper    4.024562\n",
       "45   13_10000_mean_lower    4.020321\n",
       "47    13_3000_mean_lower    4.019737\n",
       "89    53_8000_mean_lower    4.015233\n",
       "43   53_6000_mean_middle    4.011288\n",
       "3    13_6000_mean_middle    4.008662\n",
       "91   13_16800_mean_upper    4.002705\n",
       "97    18_3000_mean_upper    3.996421\n",
       "75   43_10000_mean_lower    3.986742\n",
       "121  43_16800_mean_upper    3.984105\n",
       "93    13_6000_mean_upper    3.979177\n",
       "77    43_3000_mean_lower    3.974135\n",
       "107   28_3000_mean_upper    3.969613\n",
       "48    13_6000_mean_lower    3.963945\n",
       "46   13_16800_mean_lower    3.961743\n",
       "128   48_6000_mean_upper    3.961264\n",
       "116  38_16800_mean_upper    3.955696\n",
       "56   23_16800_mean_lower    3.939112\n",
       "79    43_8000_mean_lower    3.927370\n",
       "94    13_8000_mean_upper    3.926792\n",
       "66   33_16800_mean_lower    3.905270\n",
       "100  23_10000_mean_upper    3.899346\n",
       "44   53_8000_mean_middle    3.897285\n",
       "114   33_8000_mean_upper    3.893756\n",
       "74    38_8000_mean_lower    3.885788"
      ]
     },
     "execution_count": 86,
     "metadata": {},
     "output_type": "execute_result"
    }
   ],
   "source": [
    "# Determine the number of components to retain 90% variance\n",
    "cumulative_variance = np.cumsum(explained_variance)\n",
    "num_components = np.argmax(cumulative_variance >= 0.9) + 1\n",
    "\n",
    "# Get the loadings for the selected components\n",
    "selected_loadings = loadings[:num_components, :]\n",
    "\n",
    "# Calculate the importance of each feature by summing the absolute values of its loadings across the selected components\n",
    "feature_importance = np.sum(np.abs(selected_loadings), axis=0)\n",
    "\n",
    "# Create a DataFrame for feature importance\n",
    "feature_importance_df = pd.DataFrame({'Feature': features.columns, 'Importance': feature_importance})\n",
    "\n",
    "# Sort the features by importance\n",
    "feature_importance_df = feature_importance_df.sort_values(by='Importance', ascending=False)\n",
    "\n",
    "# Select the top N features (e.g., top 10 features)\n",
    "top_features = feature_importance_df.head(50)\n",
    "\n",
    "top_features"
   ]
  },
  {
   "cell_type": "markdown",
   "metadata": {},
   "source": [
    "Having many features with an importance score over 1 can be interpreted in various ways.\n",
    "\n",
    "Implication 1: Distributed Contribution\n",
    "- Distributed Contribution: When many features have high importance scores, it indicates that the variance in the data is distributed across multiple features rather than being dominated by a few.\n",
    "- Balanced Influence: This suggests a balanced influence where no single feature overwhelmingly explains the variance, but rather, multiple features contribute significantly.\n",
    "\n",
    "Implication 2: Multicollinearity\n",
    "- Multicollinearity: It might indicate the presence of multicollinearity, where multiple features are correlated with each other and together contribute to the same principal components.\n",
    "- Redundancy: In such cases, there might be redundancy in the information provided by these features\n",
    "\n",
    "\n",
    "\n",
    "To address these issues we could look into correlation matrix and use regularization technique to reduce it"
   ]
  },
  {
   "cell_type": "markdown",
   "metadata": {},
   "source": [
    "## Investigate Multicollinearity"
   ]
  },
  {
   "cell_type": "markdown",
   "metadata": {},
   "source": [
    "### Analyze using correlation matrix"
   ]
  },
  {
   "cell_type": "code",
   "execution_count": 87,
   "metadata": {},
   "outputs": [],
   "source": [
    "# List of DataFrames\n",
    "df_pivots = [df_range_delay_lower, df_range_delay_upper]\n",
    "\n",
    "# Initialize the merged DataFrame with the first DataFrame in the list\n",
    "df_range_delay_ends = df_pivots[0]\n",
    "\n",
    "# Iteratively merge each DataFrame in the list\n",
    "for df in df_pivots[1:]:\n",
    "    df_range_delay_ends = df_range_delay_ends.merge(df, on='Sensor ID')\n",
    "# Replace all NaN values with 0 in the merged DataFrame\n",
    "df_range_delay_ends.fillna(0, inplace=True)"
   ]
  },
  {
   "cell_type": "code",
   "execution_count": 88,
   "metadata": {},
   "outputs": [],
   "source": [
    "df_range_delay_corr= df_range_delay_ends.drop([\"Sensor ID\"], axis = 1)"
   ]
  },
  {
   "cell_type": "code",
   "execution_count": 89,
   "metadata": {},
   "outputs": [
    {
     "data": {
      "text/html": [
       "<div>\n",
       "<style scoped>\n",
       "    .dataframe tbody tr th:only-of-type {\n",
       "        vertical-align: middle;\n",
       "    }\n",
       "\n",
       "    .dataframe tbody tr th {\n",
       "        vertical-align: top;\n",
       "    }\n",
       "\n",
       "    .dataframe thead th {\n",
       "        text-align: right;\n",
       "    }\n",
       "</style>\n",
       "<table border=\"1\" class=\"dataframe\">\n",
       "  <thead>\n",
       "    <tr style=\"text-align: right;\">\n",
       "      <th>range_delay</th>\n",
       "      <th>13_10000_mean_lower</th>\n",
       "      <th>13_16800_mean_lower</th>\n",
       "      <th>13_3000_mean_lower</th>\n",
       "      <th>13_6000_mean_lower</th>\n",
       "      <th>13_8000_mean_lower</th>\n",
       "      <th>18_10000_mean_lower</th>\n",
       "      <th>18_16800_mean_lower</th>\n",
       "      <th>18_3000_mean_lower</th>\n",
       "      <th>18_6000_mean_lower</th>\n",
       "      <th>18_8000_mean_lower</th>\n",
       "      <th>...</th>\n",
       "      <th>48_10000_mean_upper</th>\n",
       "      <th>48_16800_mean_upper</th>\n",
       "      <th>48_3000_mean_upper</th>\n",
       "      <th>48_6000_mean_upper</th>\n",
       "      <th>48_8000_mean_upper</th>\n",
       "      <th>53_10000_mean_upper</th>\n",
       "      <th>53_16800_mean_upper</th>\n",
       "      <th>53_3000_mean_upper</th>\n",
       "      <th>53_6000_mean_upper</th>\n",
       "      <th>53_8000_mean_upper</th>\n",
       "    </tr>\n",
       "    <tr>\n",
       "      <th>range_delay</th>\n",
       "      <th></th>\n",
       "      <th></th>\n",
       "      <th></th>\n",
       "      <th></th>\n",
       "      <th></th>\n",
       "      <th></th>\n",
       "      <th></th>\n",
       "      <th></th>\n",
       "      <th></th>\n",
       "      <th></th>\n",
       "      <th></th>\n",
       "      <th></th>\n",
       "      <th></th>\n",
       "      <th></th>\n",
       "      <th></th>\n",
       "      <th></th>\n",
       "      <th></th>\n",
       "      <th></th>\n",
       "      <th></th>\n",
       "      <th></th>\n",
       "      <th></th>\n",
       "    </tr>\n",
       "  </thead>\n",
       "  <tbody>\n",
       "    <tr>\n",
       "      <th>13_10000_mean_lower</th>\n",
       "      <td>1.000000</td>\n",
       "      <td>-0.053080</td>\n",
       "      <td>0.149686</td>\n",
       "      <td>0.132657</td>\n",
       "      <td>0.286888</td>\n",
       "      <td>0.097575</td>\n",
       "      <td>0.154362</td>\n",
       "      <td>0.020548</td>\n",
       "      <td>0.045929</td>\n",
       "      <td>0.065089</td>\n",
       "      <td>...</td>\n",
       "      <td>-0.139676</td>\n",
       "      <td>-0.034257</td>\n",
       "      <td>0.060338</td>\n",
       "      <td>-0.094951</td>\n",
       "      <td>-0.025491</td>\n",
       "      <td>-0.012429</td>\n",
       "      <td>0.019590</td>\n",
       "      <td>0.110054</td>\n",
       "      <td>-0.240122</td>\n",
       "      <td>-0.131614</td>\n",
       "    </tr>\n",
       "    <tr>\n",
       "      <th>13_16800_mean_lower</th>\n",
       "      <td>-0.053080</td>\n",
       "      <td>1.000000</td>\n",
       "      <td>0.083592</td>\n",
       "      <td>0.018491</td>\n",
       "      <td>0.013835</td>\n",
       "      <td>0.248256</td>\n",
       "      <td>0.048239</td>\n",
       "      <td>0.091193</td>\n",
       "      <td>0.041992</td>\n",
       "      <td>-0.079986</td>\n",
       "      <td>...</td>\n",
       "      <td>0.077685</td>\n",
       "      <td>0.020832</td>\n",
       "      <td>-0.080403</td>\n",
       "      <td>-0.071965</td>\n",
       "      <td>-0.034725</td>\n",
       "      <td>-0.020370</td>\n",
       "      <td>0.068959</td>\n",
       "      <td>-0.042229</td>\n",
       "      <td>0.148951</td>\n",
       "      <td>-0.033090</td>\n",
       "    </tr>\n",
       "    <tr>\n",
       "      <th>13_3000_mean_lower</th>\n",
       "      <td>0.149686</td>\n",
       "      <td>0.083592</td>\n",
       "      <td>1.000000</td>\n",
       "      <td>0.330057</td>\n",
       "      <td>0.239402</td>\n",
       "      <td>0.003746</td>\n",
       "      <td>0.246567</td>\n",
       "      <td>0.073240</td>\n",
       "      <td>0.036580</td>\n",
       "      <td>0.036046</td>\n",
       "      <td>...</td>\n",
       "      <td>0.060981</td>\n",
       "      <td>0.164492</td>\n",
       "      <td>-0.002771</td>\n",
       "      <td>0.032017</td>\n",
       "      <td>0.051311</td>\n",
       "      <td>0.113473</td>\n",
       "      <td>0.045257</td>\n",
       "      <td>0.000942</td>\n",
       "      <td>0.139599</td>\n",
       "      <td>0.059883</td>\n",
       "    </tr>\n",
       "    <tr>\n",
       "      <th>13_6000_mean_lower</th>\n",
       "      <td>0.132657</td>\n",
       "      <td>0.018491</td>\n",
       "      <td>0.330057</td>\n",
       "      <td>1.000000</td>\n",
       "      <td>0.373871</td>\n",
       "      <td>-0.063622</td>\n",
       "      <td>0.048565</td>\n",
       "      <td>-0.010992</td>\n",
       "      <td>0.033021</td>\n",
       "      <td>-0.036158</td>\n",
       "      <td>...</td>\n",
       "      <td>-0.020328</td>\n",
       "      <td>-0.057098</td>\n",
       "      <td>-0.083077</td>\n",
       "      <td>-0.087816</td>\n",
       "      <td>0.056574</td>\n",
       "      <td>-0.003244</td>\n",
       "      <td>-0.022348</td>\n",
       "      <td>-0.011590</td>\n",
       "      <td>0.130576</td>\n",
       "      <td>-0.104173</td>\n",
       "    </tr>\n",
       "    <tr>\n",
       "      <th>13_8000_mean_lower</th>\n",
       "      <td>0.286888</td>\n",
       "      <td>0.013835</td>\n",
       "      <td>0.239402</td>\n",
       "      <td>0.373871</td>\n",
       "      <td>1.000000</td>\n",
       "      <td>0.086764</td>\n",
       "      <td>0.125949</td>\n",
       "      <td>0.060815</td>\n",
       "      <td>0.033615</td>\n",
       "      <td>0.066759</td>\n",
       "      <td>...</td>\n",
       "      <td>-0.046451</td>\n",
       "      <td>0.082096</td>\n",
       "      <td>-0.085688</td>\n",
       "      <td>-0.097848</td>\n",
       "      <td>0.023069</td>\n",
       "      <td>-0.030326</td>\n",
       "      <td>0.084892</td>\n",
       "      <td>0.021927</td>\n",
       "      <td>0.101113</td>\n",
       "      <td>-0.087700</td>\n",
       "    </tr>\n",
       "    <tr>\n",
       "      <th>...</th>\n",
       "      <td>...</td>\n",
       "      <td>...</td>\n",
       "      <td>...</td>\n",
       "      <td>...</td>\n",
       "      <td>...</td>\n",
       "      <td>...</td>\n",
       "      <td>...</td>\n",
       "      <td>...</td>\n",
       "      <td>...</td>\n",
       "      <td>...</td>\n",
       "      <td>...</td>\n",
       "      <td>...</td>\n",
       "      <td>...</td>\n",
       "      <td>...</td>\n",
       "      <td>...</td>\n",
       "      <td>...</td>\n",
       "      <td>...</td>\n",
       "      <td>...</td>\n",
       "      <td>...</td>\n",
       "      <td>...</td>\n",
       "      <td>...</td>\n",
       "    </tr>\n",
       "    <tr>\n",
       "      <th>53_10000_mean_upper</th>\n",
       "      <td>-0.012429</td>\n",
       "      <td>-0.020370</td>\n",
       "      <td>0.113473</td>\n",
       "      <td>-0.003244</td>\n",
       "      <td>-0.030326</td>\n",
       "      <td>-0.119895</td>\n",
       "      <td>-0.012066</td>\n",
       "      <td>0.057193</td>\n",
       "      <td>0.011124</td>\n",
       "      <td>0.011673</td>\n",
       "      <td>...</td>\n",
       "      <td>0.181253</td>\n",
       "      <td>0.083831</td>\n",
       "      <td>0.050281</td>\n",
       "      <td>0.125467</td>\n",
       "      <td>0.011432</td>\n",
       "      <td>1.000000</td>\n",
       "      <td>0.036451</td>\n",
       "      <td>0.175215</td>\n",
       "      <td>0.191667</td>\n",
       "      <td>0.364025</td>\n",
       "    </tr>\n",
       "    <tr>\n",
       "      <th>53_16800_mean_upper</th>\n",
       "      <td>0.019590</td>\n",
       "      <td>0.068959</td>\n",
       "      <td>0.045257</td>\n",
       "      <td>-0.022348</td>\n",
       "      <td>0.084892</td>\n",
       "      <td>-0.034476</td>\n",
       "      <td>-0.004079</td>\n",
       "      <td>-0.077813</td>\n",
       "      <td>0.043214</td>\n",
       "      <td>0.023815</td>\n",
       "      <td>...</td>\n",
       "      <td>-0.072026</td>\n",
       "      <td>0.176076</td>\n",
       "      <td>-0.173335</td>\n",
       "      <td>-0.023167</td>\n",
       "      <td>-0.073193</td>\n",
       "      <td>0.036451</td>\n",
       "      <td>1.000000</td>\n",
       "      <td>-0.048011</td>\n",
       "      <td>0.265495</td>\n",
       "      <td>0.173895</td>\n",
       "    </tr>\n",
       "    <tr>\n",
       "      <th>53_3000_mean_upper</th>\n",
       "      <td>0.110054</td>\n",
       "      <td>-0.042229</td>\n",
       "      <td>0.000942</td>\n",
       "      <td>-0.011590</td>\n",
       "      <td>0.021927</td>\n",
       "      <td>0.007227</td>\n",
       "      <td>0.220638</td>\n",
       "      <td>-0.034247</td>\n",
       "      <td>-0.127275</td>\n",
       "      <td>0.055896</td>\n",
       "      <td>...</td>\n",
       "      <td>0.004820</td>\n",
       "      <td>-0.196509</td>\n",
       "      <td>0.074486</td>\n",
       "      <td>0.183602</td>\n",
       "      <td>0.111751</td>\n",
       "      <td>0.175215</td>\n",
       "      <td>-0.048011</td>\n",
       "      <td>1.000000</td>\n",
       "      <td>0.128989</td>\n",
       "      <td>0.126980</td>\n",
       "    </tr>\n",
       "    <tr>\n",
       "      <th>53_6000_mean_upper</th>\n",
       "      <td>-0.240122</td>\n",
       "      <td>0.148951</td>\n",
       "      <td>0.139599</td>\n",
       "      <td>0.130576</td>\n",
       "      <td>0.101113</td>\n",
       "      <td>-0.069251</td>\n",
       "      <td>0.080262</td>\n",
       "      <td>-0.026080</td>\n",
       "      <td>-0.067931</td>\n",
       "      <td>-0.001938</td>\n",
       "      <td>...</td>\n",
       "      <td>0.166482</td>\n",
       "      <td>0.179940</td>\n",
       "      <td>0.094490</td>\n",
       "      <td>0.183770</td>\n",
       "      <td>0.132843</td>\n",
       "      <td>0.191667</td>\n",
       "      <td>0.265495</td>\n",
       "      <td>0.128989</td>\n",
       "      <td>1.000000</td>\n",
       "      <td>0.274638</td>\n",
       "    </tr>\n",
       "    <tr>\n",
       "      <th>53_8000_mean_upper</th>\n",
       "      <td>-0.131614</td>\n",
       "      <td>-0.033090</td>\n",
       "      <td>0.059883</td>\n",
       "      <td>-0.104173</td>\n",
       "      <td>-0.087700</td>\n",
       "      <td>-0.011674</td>\n",
       "      <td>0.059422</td>\n",
       "      <td>0.013136</td>\n",
       "      <td>-0.051073</td>\n",
       "      <td>-0.034240</td>\n",
       "      <td>...</td>\n",
       "      <td>-0.009722</td>\n",
       "      <td>0.143724</td>\n",
       "      <td>0.167708</td>\n",
       "      <td>0.230674</td>\n",
       "      <td>0.092762</td>\n",
       "      <td>0.364025</td>\n",
       "      <td>0.173895</td>\n",
       "      <td>0.126980</td>\n",
       "      <td>0.274638</td>\n",
       "      <td>1.000000</td>\n",
       "    </tr>\n",
       "  </tbody>\n",
       "</table>\n",
       "<p>90 rows × 90 columns</p>\n",
       "</div>"
      ],
      "text/plain": [
       "range_delay          13_10000_mean_lower  13_16800_mean_lower  \\\n",
       "range_delay                                                     \n",
       "13_10000_mean_lower             1.000000            -0.053080   \n",
       "13_16800_mean_lower            -0.053080             1.000000   \n",
       "13_3000_mean_lower              0.149686             0.083592   \n",
       "13_6000_mean_lower              0.132657             0.018491   \n",
       "13_8000_mean_lower              0.286888             0.013835   \n",
       "...                                  ...                  ...   \n",
       "53_10000_mean_upper            -0.012429            -0.020370   \n",
       "53_16800_mean_upper             0.019590             0.068959   \n",
       "53_3000_mean_upper              0.110054            -0.042229   \n",
       "53_6000_mean_upper             -0.240122             0.148951   \n",
       "53_8000_mean_upper             -0.131614            -0.033090   \n",
       "\n",
       "range_delay          13_3000_mean_lower  13_6000_mean_lower  \\\n",
       "range_delay                                                   \n",
       "13_10000_mean_lower            0.149686            0.132657   \n",
       "13_16800_mean_lower            0.083592            0.018491   \n",
       "13_3000_mean_lower             1.000000            0.330057   \n",
       "13_6000_mean_lower             0.330057            1.000000   \n",
       "13_8000_mean_lower             0.239402            0.373871   \n",
       "...                                 ...                 ...   \n",
       "53_10000_mean_upper            0.113473           -0.003244   \n",
       "53_16800_mean_upper            0.045257           -0.022348   \n",
       "53_3000_mean_upper             0.000942           -0.011590   \n",
       "53_6000_mean_upper             0.139599            0.130576   \n",
       "53_8000_mean_upper             0.059883           -0.104173   \n",
       "\n",
       "range_delay          13_8000_mean_lower  18_10000_mean_lower  \\\n",
       "range_delay                                                    \n",
       "13_10000_mean_lower            0.286888             0.097575   \n",
       "13_16800_mean_lower            0.013835             0.248256   \n",
       "13_3000_mean_lower             0.239402             0.003746   \n",
       "13_6000_mean_lower             0.373871            -0.063622   \n",
       "13_8000_mean_lower             1.000000             0.086764   \n",
       "...                                 ...                  ...   \n",
       "53_10000_mean_upper           -0.030326            -0.119895   \n",
       "53_16800_mean_upper            0.084892            -0.034476   \n",
       "53_3000_mean_upper             0.021927             0.007227   \n",
       "53_6000_mean_upper             0.101113            -0.069251   \n",
       "53_8000_mean_upper            -0.087700            -0.011674   \n",
       "\n",
       "range_delay          18_16800_mean_lower  18_3000_mean_lower  \\\n",
       "range_delay                                                    \n",
       "13_10000_mean_lower             0.154362            0.020548   \n",
       "13_16800_mean_lower             0.048239            0.091193   \n",
       "13_3000_mean_lower              0.246567            0.073240   \n",
       "13_6000_mean_lower              0.048565           -0.010992   \n",
       "13_8000_mean_lower              0.125949            0.060815   \n",
       "...                                  ...                 ...   \n",
       "53_10000_mean_upper            -0.012066            0.057193   \n",
       "53_16800_mean_upper            -0.004079           -0.077813   \n",
       "53_3000_mean_upper              0.220638           -0.034247   \n",
       "53_6000_mean_upper              0.080262           -0.026080   \n",
       "53_8000_mean_upper              0.059422            0.013136   \n",
       "\n",
       "range_delay          18_6000_mean_lower  18_8000_mean_lower  ...  \\\n",
       "range_delay                                                  ...   \n",
       "13_10000_mean_lower            0.045929            0.065089  ...   \n",
       "13_16800_mean_lower            0.041992           -0.079986  ...   \n",
       "13_3000_mean_lower             0.036580            0.036046  ...   \n",
       "13_6000_mean_lower             0.033021           -0.036158  ...   \n",
       "13_8000_mean_lower             0.033615            0.066759  ...   \n",
       "...                                 ...                 ...  ...   \n",
       "53_10000_mean_upper            0.011124            0.011673  ...   \n",
       "53_16800_mean_upper            0.043214            0.023815  ...   \n",
       "53_3000_mean_upper            -0.127275            0.055896  ...   \n",
       "53_6000_mean_upper            -0.067931           -0.001938  ...   \n",
       "53_8000_mean_upper            -0.051073           -0.034240  ...   \n",
       "\n",
       "range_delay          48_10000_mean_upper  48_16800_mean_upper  \\\n",
       "range_delay                                                     \n",
       "13_10000_mean_lower            -0.139676            -0.034257   \n",
       "13_16800_mean_lower             0.077685             0.020832   \n",
       "13_3000_mean_lower              0.060981             0.164492   \n",
       "13_6000_mean_lower             -0.020328            -0.057098   \n",
       "13_8000_mean_lower             -0.046451             0.082096   \n",
       "...                                  ...                  ...   \n",
       "53_10000_mean_upper             0.181253             0.083831   \n",
       "53_16800_mean_upper            -0.072026             0.176076   \n",
       "53_3000_mean_upper              0.004820            -0.196509   \n",
       "53_6000_mean_upper              0.166482             0.179940   \n",
       "53_8000_mean_upper             -0.009722             0.143724   \n",
       "\n",
       "range_delay          48_3000_mean_upper  48_6000_mean_upper  \\\n",
       "range_delay                                                   \n",
       "13_10000_mean_lower            0.060338           -0.094951   \n",
       "13_16800_mean_lower           -0.080403           -0.071965   \n",
       "13_3000_mean_lower            -0.002771            0.032017   \n",
       "13_6000_mean_lower            -0.083077           -0.087816   \n",
       "13_8000_mean_lower            -0.085688           -0.097848   \n",
       "...                                 ...                 ...   \n",
       "53_10000_mean_upper            0.050281            0.125467   \n",
       "53_16800_mean_upper           -0.173335           -0.023167   \n",
       "53_3000_mean_upper             0.074486            0.183602   \n",
       "53_6000_mean_upper             0.094490            0.183770   \n",
       "53_8000_mean_upper             0.167708            0.230674   \n",
       "\n",
       "range_delay          48_8000_mean_upper  53_10000_mean_upper  \\\n",
       "range_delay                                                    \n",
       "13_10000_mean_lower           -0.025491            -0.012429   \n",
       "13_16800_mean_lower           -0.034725            -0.020370   \n",
       "13_3000_mean_lower             0.051311             0.113473   \n",
       "13_6000_mean_lower             0.056574            -0.003244   \n",
       "13_8000_mean_lower             0.023069            -0.030326   \n",
       "...                                 ...                  ...   \n",
       "53_10000_mean_upper            0.011432             1.000000   \n",
       "53_16800_mean_upper           -0.073193             0.036451   \n",
       "53_3000_mean_upper             0.111751             0.175215   \n",
       "53_6000_mean_upper             0.132843             0.191667   \n",
       "53_8000_mean_upper             0.092762             0.364025   \n",
       "\n",
       "range_delay          53_16800_mean_upper  53_3000_mean_upper  \\\n",
       "range_delay                                                    \n",
       "13_10000_mean_lower             0.019590            0.110054   \n",
       "13_16800_mean_lower             0.068959           -0.042229   \n",
       "13_3000_mean_lower              0.045257            0.000942   \n",
       "13_6000_mean_lower             -0.022348           -0.011590   \n",
       "13_8000_mean_lower              0.084892            0.021927   \n",
       "...                                  ...                 ...   \n",
       "53_10000_mean_upper             0.036451            0.175215   \n",
       "53_16800_mean_upper             1.000000           -0.048011   \n",
       "53_3000_mean_upper             -0.048011            1.000000   \n",
       "53_6000_mean_upper              0.265495            0.128989   \n",
       "53_8000_mean_upper              0.173895            0.126980   \n",
       "\n",
       "range_delay          53_6000_mean_upper  53_8000_mean_upper  \n",
       "range_delay                                                  \n",
       "13_10000_mean_lower           -0.240122           -0.131614  \n",
       "13_16800_mean_lower            0.148951           -0.033090  \n",
       "13_3000_mean_lower             0.139599            0.059883  \n",
       "13_6000_mean_lower             0.130576           -0.104173  \n",
       "13_8000_mean_lower             0.101113           -0.087700  \n",
       "...                                 ...                 ...  \n",
       "53_10000_mean_upper            0.191667            0.364025  \n",
       "53_16800_mean_upper            0.265495            0.173895  \n",
       "53_3000_mean_upper             0.128989            0.126980  \n",
       "53_6000_mean_upper             1.000000            0.274638  \n",
       "53_8000_mean_upper             0.274638            1.000000  \n",
       "\n",
       "[90 rows x 90 columns]"
      ]
     },
     "execution_count": 89,
     "metadata": {},
     "output_type": "execute_result"
    }
   ],
   "source": [
    "# Calculate the correlation matrix for the dataset\n",
    "correlation_matrix = df_range_delay_corr.corr()\n",
    "correlation_matrix\n"
   ]
  },
  {
   "cell_type": "code",
   "execution_count": 90,
   "metadata": {},
   "outputs": [
    {
     "data": {
      "text/html": [
       "<div>\n",
       "<style scoped>\n",
       "    .dataframe tbody tr th:only-of-type {\n",
       "        vertical-align: middle;\n",
       "    }\n",
       "\n",
       "    .dataframe tbody tr th {\n",
       "        vertical-align: top;\n",
       "    }\n",
       "\n",
       "    .dataframe thead th {\n",
       "        text-align: right;\n",
       "    }\n",
       "</style>\n",
       "<table border=\"1\" class=\"dataframe\">\n",
       "  <thead>\n",
       "    <tr style=\"text-align: right;\">\n",
       "      <th></th>\n",
       "      <th>Feature 1</th>\n",
       "      <th>Feature 2</th>\n",
       "      <th>Correlation</th>\n",
       "    </tr>\n",
       "  </thead>\n",
       "  <tbody>\n",
       "    <tr>\n",
       "      <th>0</th>\n",
       "      <td>18_6000_mean_lower</td>\n",
       "      <td>18_6000_mean_upper</td>\n",
       "      <td>0.623718</td>\n",
       "    </tr>\n",
       "    <tr>\n",
       "      <th>1</th>\n",
       "      <td>43_16800_mean_lower</td>\n",
       "      <td>43_16800_mean_upper</td>\n",
       "      <td>0.637797</td>\n",
       "    </tr>\n",
       "  </tbody>\n",
       "</table>\n",
       "</div>"
      ],
      "text/plain": [
       "             Feature 1            Feature 2  Correlation\n",
       "0   18_6000_mean_lower   18_6000_mean_upper     0.623718\n",
       "1  43_16800_mean_lower  43_16800_mean_upper     0.637797"
      ]
     },
     "execution_count": 90,
     "metadata": {},
     "output_type": "execute_result"
    }
   ],
   "source": [
    "# Extract pairs of highly correlated features with correlation coefficient above a threshold (e.g., 0.8 or below -0.8)\n",
    "threshold = 0.6\n",
    "highly_correlated_pairs = []\n",
    "\n",
    "for i in range(correlation_matrix.shape[0]):\n",
    "    for j in range(i+1, correlation_matrix.shape[1]):\n",
    "        if abs(correlation_matrix.iloc[i, j]) > threshold:\n",
    "            feature_pair = (correlation_matrix.index[i], correlation_matrix.columns[j], correlation_matrix.iloc[i, j])\n",
    "            highly_correlated_pairs.append(feature_pair)\n",
    "\n",
    "# Convert the list of tuples to a DataFrame for better readability\n",
    "highly_correlated_df = pd.DataFrame(highly_correlated_pairs, columns=['Feature 1', 'Feature 2', 'Correlation'])\n",
    "highly_correlated_df\n"
   ]
  },
  {
   "cell_type": "code",
   "execution_count": 91,
   "metadata": {},
   "outputs": [
    {
     "data": {
      "text/html": [
       "<div>\n",
       "<style scoped>\n",
       "    .dataframe tbody tr th:only-of-type {\n",
       "        vertical-align: middle;\n",
       "    }\n",
       "\n",
       "    .dataframe tbody tr th {\n",
       "        vertical-align: top;\n",
       "    }\n",
       "\n",
       "    .dataframe thead th {\n",
       "        text-align: right;\n",
       "    }\n",
       "</style>\n",
       "<table border=\"1\" class=\"dataframe\">\n",
       "  <thead>\n",
       "    <tr style=\"text-align: right;\">\n",
       "      <th>range_delay</th>\n",
       "      <th>Sensor ID</th>\n",
       "      <th>13_10000_mean_lower</th>\n",
       "      <th>13_16800_mean_lower</th>\n",
       "      <th>13_3000_mean_lower</th>\n",
       "      <th>13_6000_mean_lower</th>\n",
       "      <th>13_8000_mean_lower</th>\n",
       "      <th>18_10000_mean_lower</th>\n",
       "      <th>18_16800_mean_lower</th>\n",
       "      <th>18_3000_mean_lower</th>\n",
       "      <th>18_6000_mean_lower</th>\n",
       "      <th>...</th>\n",
       "      <th>48_10000_mean_upper</th>\n",
       "      <th>48_16800_mean_upper</th>\n",
       "      <th>48_3000_mean_upper</th>\n",
       "      <th>48_6000_mean_upper</th>\n",
       "      <th>48_8000_mean_upper</th>\n",
       "      <th>53_10000_mean_upper</th>\n",
       "      <th>53_16800_mean_upper</th>\n",
       "      <th>53_3000_mean_upper</th>\n",
       "      <th>53_6000_mean_upper</th>\n",
       "      <th>53_8000_mean_upper</th>\n",
       "    </tr>\n",
       "  </thead>\n",
       "  <tbody>\n",
       "    <tr>\n",
       "      <th>0</th>\n",
       "      <td>1</td>\n",
       "      <td>826.520000</td>\n",
       "      <td>826.166667</td>\n",
       "      <td>826.346939</td>\n",
       "      <td>826.360000</td>\n",
       "      <td>826.510204</td>\n",
       "      <td>1070.040000</td>\n",
       "      <td>1059.000000</td>\n",
       "      <td>0.000000</td>\n",
       "      <td>0.000000</td>\n",
       "      <td>...</td>\n",
       "      <td>2795.000000</td>\n",
       "      <td>0.0</td>\n",
       "      <td>2809.4</td>\n",
       "      <td>2803.000000</td>\n",
       "      <td>2800.333333</td>\n",
       "      <td>2995.545455</td>\n",
       "      <td>0.000000</td>\n",
       "      <td>2995.444444</td>\n",
       "      <td>3039.727273</td>\n",
       "      <td>3004.043478</td>\n",
       "    </tr>\n",
       "    <tr>\n",
       "      <th>1</th>\n",
       "      <td>2</td>\n",
       "      <td>0.000000</td>\n",
       "      <td>678.600000</td>\n",
       "      <td>678.500000</td>\n",
       "      <td>678.904762</td>\n",
       "      <td>678.510204</td>\n",
       "      <td>942.166667</td>\n",
       "      <td>0.000000</td>\n",
       "      <td>943.000000</td>\n",
       "      <td>0.000000</td>\n",
       "      <td>...</td>\n",
       "      <td>2669.521739</td>\n",
       "      <td>0.0</td>\n",
       "      <td>0.0</td>\n",
       "      <td>0.000000</td>\n",
       "      <td>2691.000000</td>\n",
       "      <td>0.000000</td>\n",
       "      <td>2371.000000</td>\n",
       "      <td>0.000000</td>\n",
       "      <td>2951.744186</td>\n",
       "      <td>0.000000</td>\n",
       "    </tr>\n",
       "    <tr>\n",
       "      <th>2</th>\n",
       "      <td>3</td>\n",
       "      <td>0.000000</td>\n",
       "      <td>0.000000</td>\n",
       "      <td>0.000000</td>\n",
       "      <td>0.000000</td>\n",
       "      <td>0.000000</td>\n",
       "      <td>1007.000000</td>\n",
       "      <td>0.000000</td>\n",
       "      <td>1005.736842</td>\n",
       "      <td>0.000000</td>\n",
       "      <td>...</td>\n",
       "      <td>0.000000</td>\n",
       "      <td>0.0</td>\n",
       "      <td>2743.0</td>\n",
       "      <td>2727.000000</td>\n",
       "      <td>0.000000</td>\n",
       "      <td>0.000000</td>\n",
       "      <td>0.000000</td>\n",
       "      <td>0.000000</td>\n",
       "      <td>0.000000</td>\n",
       "      <td>0.000000</td>\n",
       "    </tr>\n",
       "    <tr>\n",
       "      <th>3</th>\n",
       "      <td>4</td>\n",
       "      <td>0.000000</td>\n",
       "      <td>0.000000</td>\n",
       "      <td>0.000000</td>\n",
       "      <td>0.000000</td>\n",
       "      <td>0.000000</td>\n",
       "      <td>1023.000000</td>\n",
       "      <td>1029.818182</td>\n",
       "      <td>0.000000</td>\n",
       "      <td>1030.200000</td>\n",
       "      <td>...</td>\n",
       "      <td>0.000000</td>\n",
       "      <td>0.0</td>\n",
       "      <td>0.0</td>\n",
       "      <td>2755.195122</td>\n",
       "      <td>0.000000</td>\n",
       "      <td>3000.000000</td>\n",
       "      <td>3019.000000</td>\n",
       "      <td>3000.116279</td>\n",
       "      <td>2999.930233</td>\n",
       "      <td>3000.116279</td>\n",
       "    </tr>\n",
       "    <tr>\n",
       "      <th>4</th>\n",
       "      <td>5</td>\n",
       "      <td>742.348837</td>\n",
       "      <td>718.333333</td>\n",
       "      <td>0.000000</td>\n",
       "      <td>742.619048</td>\n",
       "      <td>742.428571</td>\n",
       "      <td>0.000000</td>\n",
       "      <td>1024.142857</td>\n",
       "      <td>1023.000000</td>\n",
       "      <td>1022.200000</td>\n",
       "      <td>...</td>\n",
       "      <td>0.000000</td>\n",
       "      <td>2755.0</td>\n",
       "      <td>0.0</td>\n",
       "      <td>0.000000</td>\n",
       "      <td>0.000000</td>\n",
       "      <td>0.000000</td>\n",
       "      <td>0.000000</td>\n",
       "      <td>0.000000</td>\n",
       "      <td>0.000000</td>\n",
       "      <td>0.000000</td>\n",
       "    </tr>\n",
       "    <tr>\n",
       "      <th>...</th>\n",
       "      <td>...</td>\n",
       "      <td>...</td>\n",
       "      <td>...</td>\n",
       "      <td>...</td>\n",
       "      <td>...</td>\n",
       "      <td>...</td>\n",
       "      <td>...</td>\n",
       "      <td>...</td>\n",
       "      <td>...</td>\n",
       "      <td>...</td>\n",
       "      <td>...</td>\n",
       "      <td>...</td>\n",
       "      <td>...</td>\n",
       "      <td>...</td>\n",
       "      <td>...</td>\n",
       "      <td>...</td>\n",
       "      <td>...</td>\n",
       "      <td>...</td>\n",
       "      <td>...</td>\n",
       "      <td>...</td>\n",
       "      <td>...</td>\n",
       "    </tr>\n",
       "    <tr>\n",
       "      <th>119</th>\n",
       "      <td>121</td>\n",
       "      <td>0.000000</td>\n",
       "      <td>66.000000</td>\n",
       "      <td>750.800000</td>\n",
       "      <td>750.121951</td>\n",
       "      <td>0.000000</td>\n",
       "      <td>0.000000</td>\n",
       "      <td>0.000000</td>\n",
       "      <td>1022.000000</td>\n",
       "      <td>0.000000</td>\n",
       "      <td>...</td>\n",
       "      <td>0.000000</td>\n",
       "      <td>0.0</td>\n",
       "      <td>0.0</td>\n",
       "      <td>0.000000</td>\n",
       "      <td>0.000000</td>\n",
       "      <td>3037.666667</td>\n",
       "      <td>0.000000</td>\n",
       "      <td>3057.000000</td>\n",
       "      <td>0.000000</td>\n",
       "      <td>0.000000</td>\n",
       "    </tr>\n",
       "    <tr>\n",
       "      <th>120</th>\n",
       "      <td>122</td>\n",
       "      <td>733.800000</td>\n",
       "      <td>0.000000</td>\n",
       "      <td>0.000000</td>\n",
       "      <td>0.000000</td>\n",
       "      <td>733.900000</td>\n",
       "      <td>0.000000</td>\n",
       "      <td>0.000000</td>\n",
       "      <td>0.000000</td>\n",
       "      <td>0.000000</td>\n",
       "      <td>...</td>\n",
       "      <td>0.000000</td>\n",
       "      <td>0.0</td>\n",
       "      <td>2765.0</td>\n",
       "      <td>0.000000</td>\n",
       "      <td>2736.128205</td>\n",
       "      <td>3043.000000</td>\n",
       "      <td>0.000000</td>\n",
       "      <td>3059.000000</td>\n",
       "      <td>0.000000</td>\n",
       "      <td>3043.000000</td>\n",
       "    </tr>\n",
       "    <tr>\n",
       "      <th>121</th>\n",
       "      <td>123</td>\n",
       "      <td>750.052632</td>\n",
       "      <td>435.000000</td>\n",
       "      <td>0.000000</td>\n",
       "      <td>749.926829</td>\n",
       "      <td>749.790698</td>\n",
       "      <td>1035.000000</td>\n",
       "      <td>1042.304348</td>\n",
       "      <td>1042.609756</td>\n",
       "      <td>1042.238095</td>\n",
       "      <td>...</td>\n",
       "      <td>0.000000</td>\n",
       "      <td>0.0</td>\n",
       "      <td>0.0</td>\n",
       "      <td>0.000000</td>\n",
       "      <td>2759.000000</td>\n",
       "      <td>0.000000</td>\n",
       "      <td>0.000000</td>\n",
       "      <td>0.000000</td>\n",
       "      <td>0.000000</td>\n",
       "      <td>0.000000</td>\n",
       "    </tr>\n",
       "    <tr>\n",
       "      <th>122</th>\n",
       "      <td>124</td>\n",
       "      <td>0.000000</td>\n",
       "      <td>0.000000</td>\n",
       "      <td>0.000000</td>\n",
       "      <td>699.000000</td>\n",
       "      <td>0.000000</td>\n",
       "      <td>0.000000</td>\n",
       "      <td>0.000000</td>\n",
       "      <td>0.000000</td>\n",
       "      <td>1026.368421</td>\n",
       "      <td>...</td>\n",
       "      <td>0.000000</td>\n",
       "      <td>0.0</td>\n",
       "      <td>0.0</td>\n",
       "      <td>0.000000</td>\n",
       "      <td>0.000000</td>\n",
       "      <td>3027.000000</td>\n",
       "      <td>3044.333333</td>\n",
       "      <td>0.000000</td>\n",
       "      <td>3047.000000</td>\n",
       "      <td>0.000000</td>\n",
       "    </tr>\n",
       "    <tr>\n",
       "      <th>123</th>\n",
       "      <td>125</td>\n",
       "      <td>0.000000</td>\n",
       "      <td>727.000000</td>\n",
       "      <td>0.000000</td>\n",
       "      <td>0.000000</td>\n",
       "      <td>0.000000</td>\n",
       "      <td>0.000000</td>\n",
       "      <td>0.000000</td>\n",
       "      <td>0.000000</td>\n",
       "      <td>0.000000</td>\n",
       "      <td>...</td>\n",
       "      <td>0.000000</td>\n",
       "      <td>0.0</td>\n",
       "      <td>2764.0</td>\n",
       "      <td>0.000000</td>\n",
       "      <td>0.000000</td>\n",
       "      <td>3071.000000</td>\n",
       "      <td>0.000000</td>\n",
       "      <td>3071.000000</td>\n",
       "      <td>0.000000</td>\n",
       "      <td>0.000000</td>\n",
       "    </tr>\n",
       "  </tbody>\n",
       "</table>\n",
       "<p>124 rows × 91 columns</p>\n",
       "</div>"
      ],
      "text/plain": [
       "range_delay  Sensor ID  13_10000_mean_lower  13_16800_mean_lower  \\\n",
       "0                    1           826.520000           826.166667   \n",
       "1                    2             0.000000           678.600000   \n",
       "2                    3             0.000000             0.000000   \n",
       "3                    4             0.000000             0.000000   \n",
       "4                    5           742.348837           718.333333   \n",
       "..                 ...                  ...                  ...   \n",
       "119                121             0.000000            66.000000   \n",
       "120                122           733.800000             0.000000   \n",
       "121                123           750.052632           435.000000   \n",
       "122                124             0.000000             0.000000   \n",
       "123                125             0.000000           727.000000   \n",
       "\n",
       "range_delay  13_3000_mean_lower  13_6000_mean_lower  13_8000_mean_lower  \\\n",
       "0                    826.346939          826.360000          826.510204   \n",
       "1                    678.500000          678.904762          678.510204   \n",
       "2                      0.000000            0.000000            0.000000   \n",
       "3                      0.000000            0.000000            0.000000   \n",
       "4                      0.000000          742.619048          742.428571   \n",
       "..                          ...                 ...                 ...   \n",
       "119                  750.800000          750.121951            0.000000   \n",
       "120                    0.000000            0.000000          733.900000   \n",
       "121                    0.000000          749.926829          749.790698   \n",
       "122                    0.000000          699.000000            0.000000   \n",
       "123                    0.000000            0.000000            0.000000   \n",
       "\n",
       "range_delay  18_10000_mean_lower  18_16800_mean_lower  18_3000_mean_lower  \\\n",
       "0                    1070.040000          1059.000000            0.000000   \n",
       "1                     942.166667             0.000000          943.000000   \n",
       "2                    1007.000000             0.000000         1005.736842   \n",
       "3                    1023.000000          1029.818182            0.000000   \n",
       "4                       0.000000          1024.142857         1023.000000   \n",
       "..                           ...                  ...                 ...   \n",
       "119                     0.000000             0.000000         1022.000000   \n",
       "120                     0.000000             0.000000            0.000000   \n",
       "121                  1035.000000          1042.304348         1042.609756   \n",
       "122                     0.000000             0.000000            0.000000   \n",
       "123                     0.000000             0.000000            0.000000   \n",
       "\n",
       "range_delay  18_6000_mean_lower  ...  48_10000_mean_upper  \\\n",
       "0                      0.000000  ...          2795.000000   \n",
       "1                      0.000000  ...          2669.521739   \n",
       "2                      0.000000  ...             0.000000   \n",
       "3                   1030.200000  ...             0.000000   \n",
       "4                   1022.200000  ...             0.000000   \n",
       "..                          ...  ...                  ...   \n",
       "119                    0.000000  ...             0.000000   \n",
       "120                    0.000000  ...             0.000000   \n",
       "121                 1042.238095  ...             0.000000   \n",
       "122                 1026.368421  ...             0.000000   \n",
       "123                    0.000000  ...             0.000000   \n",
       "\n",
       "range_delay  48_16800_mean_upper  48_3000_mean_upper  48_6000_mean_upper  \\\n",
       "0                            0.0              2809.4         2803.000000   \n",
       "1                            0.0                 0.0            0.000000   \n",
       "2                            0.0              2743.0         2727.000000   \n",
       "3                            0.0                 0.0         2755.195122   \n",
       "4                         2755.0                 0.0            0.000000   \n",
       "..                           ...                 ...                 ...   \n",
       "119                          0.0                 0.0            0.000000   \n",
       "120                          0.0              2765.0            0.000000   \n",
       "121                          0.0                 0.0            0.000000   \n",
       "122                          0.0                 0.0            0.000000   \n",
       "123                          0.0              2764.0            0.000000   \n",
       "\n",
       "range_delay  48_8000_mean_upper  53_10000_mean_upper  53_16800_mean_upper  \\\n",
       "0                   2800.333333          2995.545455             0.000000   \n",
       "1                   2691.000000             0.000000          2371.000000   \n",
       "2                      0.000000             0.000000             0.000000   \n",
       "3                      0.000000          3000.000000          3019.000000   \n",
       "4                      0.000000             0.000000             0.000000   \n",
       "..                          ...                  ...                  ...   \n",
       "119                    0.000000          3037.666667             0.000000   \n",
       "120                 2736.128205          3043.000000             0.000000   \n",
       "121                 2759.000000             0.000000             0.000000   \n",
       "122                    0.000000          3027.000000          3044.333333   \n",
       "123                    0.000000          3071.000000             0.000000   \n",
       "\n",
       "range_delay  53_3000_mean_upper  53_6000_mean_upper  53_8000_mean_upper  \n",
       "0                   2995.444444         3039.727273         3004.043478  \n",
       "1                      0.000000         2951.744186            0.000000  \n",
       "2                      0.000000            0.000000            0.000000  \n",
       "3                   3000.116279         2999.930233         3000.116279  \n",
       "4                      0.000000            0.000000            0.000000  \n",
       "..                          ...                 ...                 ...  \n",
       "119                 3057.000000            0.000000            0.000000  \n",
       "120                 3059.000000            0.000000         3043.000000  \n",
       "121                    0.000000            0.000000            0.000000  \n",
       "122                    0.000000         3047.000000            0.000000  \n",
       "123                 3071.000000            0.000000            0.000000  \n",
       "\n",
       "[124 rows x 91 columns]"
      ]
     },
     "execution_count": 91,
     "metadata": {},
     "output_type": "execute_result"
    }
   ],
   "source": [
    "def drop_highly_correlated_features(df, threshold=0.8):\n",
    "    \"\"\"\n",
    "    Drops highly positively correlated features from a DataFrame.\n",
    "    \n",
    "    Parameters:\n",
    "    df (pd.DataFrame): The input DataFrame.\n",
    "    threshold (float): The correlation threshold for dropping features. Defaults to 0.8.\n",
    "    \n",
    "    Returns:\n",
    "    pd.DataFrame: DataFrame with highly positively correlated features removed.\n",
    "    list: List of dropped features.\n",
    "    \"\"\"\n",
    "    # Calculate the correlation matrix\n",
    "    corr_matrix = df.corr()\n",
    "    \n",
    "    # Identify highly positively correlated pairs\n",
    "    to_drop = set()\n",
    "    for i in range(corr_matrix.shape[0]):\n",
    "        for j in range(i + 1, corr_matrix.shape[1]):\n",
    "            if corr_matrix.iloc[i, j] > threshold:\n",
    "                colname = corr_matrix.columns[j]\n",
    "                to_drop.add(colname)\n",
    "    \n",
    "    # Drop the identified features\n",
    "    reduced_df = df.drop(columns=to_drop)\n",
    "    \n",
    "    return reduced_df, list(to_drop)\n",
    "\n",
    "# Apply the function to the dataset\n",
    "reduced_data_corr, dropped_features_corr = drop_highly_correlated_features(df_range_delay_ends, threshold=0.7)\n",
    "\n",
    "reduced_data_corr"
   ]
  },
  {
   "cell_type": "code",
   "execution_count": 92,
   "metadata": {},
   "outputs": [
    {
     "data": {
      "text/plain": [
       "[]"
      ]
     },
     "execution_count": 92,
     "metadata": {},
     "output_type": "execute_result"
    }
   ],
   "source": [
    "dropped_features_corr"
   ]
  },
  {
   "cell_type": "code",
   "execution_count": 93,
   "metadata": {},
   "outputs": [],
   "source": [
    "def plot_pca_interactive(data, sensor_id_col='Sensor ID', n_components=2):\n",
    "    \"\"\"\n",
    "    Plots an interactive scatter plot using PCA components.\n",
    "\n",
    "    Parameters:\n",
    "    data (pd.DataFrame): The input DataFrame containing features and Sensor ID.\n",
    "    sensor_id_col (str): The name of the column containing sensor IDs.\n",
    "    n_components (int): Number of principal components to compute.\n",
    "\n",
    "    Returns:\n",
    "    None: Displays an interactive Plotly scatter plot.\n",
    "    \"\"\"\n",
    "    # Apply PCA\n",
    "    pca = PCA(n_components=n_components)\n",
    "    principal_components = pca.fit_transform(data.drop(columns=[sensor_id_col]))\n",
    "\n",
    "    # Create a DataFrame with the principal components and Sensor ID\n",
    "    principal_df = pd.DataFrame(data=principal_components, columns=[f'PC{i+1}' for i in range(n_components)])\n",
    "    principal_df[sensor_id_col] = data[sensor_id_col]\n",
    "\n",
    "    # Create an interactive scatter plot using Plotly\n",
    "    fig = px.scatter(\n",
    "        principal_df,\n",
    "        x='PC1',\n",
    "        y='PC2',\n",
    "        color=sensor_id_col,\n",
    "        title='Sensors Visualized Using Principal Components',\n",
    "        labels={'PC1': 'Principal Component 1', 'PC2': 'Principal Component 2'},\n",
    "        hover_data=[sensor_id_col]\n",
    "    )\n",
    "\n",
    "    # Show the plot\n",
    "    fig.show()"
   ]
  },
  {
   "cell_type": "code",
   "execution_count": 94,
   "metadata": {},
   "outputs": [
    {
     "data": {
      "application/vnd.plotly.v1+json": {
       "config": {
        "plotlyServerURL": "https://plot.ly"
       },
       "data": [
        {
         "customdata": [
          [
           1
          ],
          [
           2
          ],
          [
           3
          ],
          [
           4
          ],
          [
           5
          ],
          [
           6
          ],
          [
           7
          ],
          [
           8
          ],
          [
           9
          ],
          [
           10
          ],
          [
           11
          ],
          [
           12
          ],
          [
           13
          ],
          [
           14
          ],
          [
           15
          ],
          [
           16
          ],
          [
           17
          ],
          [
           18
          ],
          [
           19
          ],
          [
           20
          ],
          [
           21
          ],
          [
           22
          ],
          [
           23
          ],
          [
           24
          ],
          [
           25
          ],
          [
           26
          ],
          [
           27
          ],
          [
           28
          ],
          [
           29
          ],
          [
           30
          ],
          [
           32
          ],
          [
           33
          ],
          [
           34
          ],
          [
           35
          ],
          [
           36
          ],
          [
           37
          ],
          [
           38
          ],
          [
           39
          ],
          [
           40
          ],
          [
           41
          ],
          [
           42
          ],
          [
           43
          ],
          [
           44
          ],
          [
           45
          ],
          [
           46
          ],
          [
           47
          ],
          [
           48
          ],
          [
           49
          ],
          [
           50
          ],
          [
           51
          ],
          [
           52
          ],
          [
           53
          ],
          [
           54
          ],
          [
           55
          ],
          [
           56
          ],
          [
           57
          ],
          [
           58
          ],
          [
           59
          ],
          [
           60
          ],
          [
           61
          ],
          [
           62
          ],
          [
           63
          ],
          [
           64
          ],
          [
           65
          ],
          [
           66
          ],
          [
           67
          ],
          [
           68
          ],
          [
           69
          ],
          [
           70
          ],
          [
           71
          ],
          [
           72
          ],
          [
           73
          ],
          [
           74
          ],
          [
           75
          ],
          [
           76
          ],
          [
           77
          ],
          [
           78
          ],
          [
           79
          ],
          [
           80
          ],
          [
           81
          ],
          [
           82
          ],
          [
           83
          ],
          [
           84
          ],
          [
           85
          ],
          [
           86
          ],
          [
           87
          ],
          [
           88
          ],
          [
           89
          ],
          [
           90
          ],
          [
           91
          ],
          [
           92
          ],
          [
           93
          ],
          [
           94
          ],
          [
           95
          ],
          [
           96
          ],
          [
           97
          ],
          [
           98
          ],
          [
           99
          ],
          [
           100
          ],
          [
           101
          ],
          [
           102
          ],
          [
           103
          ],
          [
           104
          ],
          [
           105
          ],
          [
           106
          ],
          [
           107
          ],
          [
           108
          ],
          [
           109
          ],
          [
           110
          ],
          [
           111
          ],
          [
           112
          ],
          [
           113
          ],
          [
           114
          ],
          [
           115
          ],
          [
           116
          ],
          [
           117
          ],
          [
           118
          ],
          [
           119
          ],
          [
           120
          ],
          [
           121
          ],
          [
           122
          ],
          [
           123
          ],
          [
           124
          ],
          [
           125
          ]
         ],
         "hovertemplate": "Principal Component 1=%{x}<br>Principal Component 2=%{y}<br>Sensor ID=%{marker.color}<extra></extra>",
         "legendgroup": "",
         "marker": {
          "color": [
           1,
           2,
           3,
           4,
           5,
           6,
           7,
           8,
           9,
           10,
           11,
           12,
           13,
           14,
           15,
           16,
           17,
           18,
           19,
           20,
           21,
           22,
           23,
           24,
           25,
           26,
           27,
           28,
           29,
           30,
           32,
           33,
           34,
           35,
           36,
           37,
           38,
           39,
           40,
           41,
           42,
           43,
           44,
           45,
           46,
           47,
           48,
           49,
           50,
           51,
           52,
           53,
           54,
           55,
           56,
           57,
           58,
           59,
           60,
           61,
           62,
           63,
           64,
           65,
           66,
           67,
           68,
           69,
           70,
           71,
           72,
           73,
           74,
           75,
           76,
           77,
           78,
           79,
           80,
           81,
           82,
           83,
           84,
           85,
           86,
           87,
           88,
           89,
           90,
           91,
           92,
           93,
           94,
           95,
           96,
           97,
           98,
           99,
           100,
           101,
           102,
           103,
           104,
           105,
           106,
           107,
           108,
           109,
           110,
           111,
           112,
           113,
           114,
           115,
           116,
           117,
           118,
           119,
           120,
           121,
           122,
           123,
           124,
           125
          ],
          "coloraxis": "coloraxis",
          "symbol": "circle"
         },
         "mode": "markers",
         "name": "",
         "orientation": "v",
         "showlegend": false,
         "type": "scatter",
         "x": [
          -2691.3174568365994,
          -2589.0911499756335,
          -2680.9257258648577,
          -3369.614882862235,
          -3311.805908953,
          -3577.60100949425,
          -2588.015068360136,
          -3299.7006878341995,
          -3406.0707776947465,
          -3437.54862417529,
          -2612.298112553847,
          -2553.9544917451444,
          -3506.067639292301,
          -3222.3072913492306,
          -3287.3106230275225,
          -3529.281667236776,
          -3251.161565442915,
          -3368.2528190612975,
          -3291.394846519613,
          -2997.3882780291906,
          -3548.6725366250107,
          -3290.804348835735,
          -3353.950506662115,
          -3381.1112115610945,
          -3242.5445671399166,
          -3437.8070139773845,
          -3398.0090655961835,
          -3349.931356981143,
          -3454.498678890908,
          -3297.5529480125924,
          -3285.3564810559096,
          -3411.4666950130686,
          -3158.6050007766894,
          -2668.6739375077946,
          -2518.098061571237,
          -3428.463827351786,
          -3297.2734021959104,
          -2677.8645745270264,
          -2722.9834550209903,
          -3333.438651366146,
          -3466.799203417165,
          -2878.6606633153588,
          -2711.108780791738,
          -3258.20292476081,
          -3368.151887133099,
          -3470.433258724892,
          -3397.4994883959835,
          -3219.6302348145973,
          -3451.4280763209067,
          -3414.299050187616,
          -3425.2850404128144,
          -3326.0803984950912,
          -3415.0115461062833,
          -2635.879146893019,
          -3204.653334627924,
          62285.68846920942,
          -3416.680105843725,
          -2558.155134687963,
          -3337.394133947609,
          -3482.22879934768,
          -3424.193155995676,
          -3423.9726532319482,
          62327.94745828012,
          -3372.119360802147,
          -2651.7033542971462,
          -2476.846422253658,
          -3325.851340245217,
          -3464.3627364014505,
          -3286.068237017338,
          -3274.192384927436,
          -3394.0086026104077,
          -3304.5639465901004,
          -2634.178412045571,
          -3171.0556543438784,
          -3435.598529561471,
          -3223.552256303437,
          -3156.1252842122367,
          -3386.428593787141,
          -2661.265196201976,
          -3409.4609199827064,
          -2529.9430928235583,
          -3508.82615878386,
          -2745.339053173221,
          -3256.5204831343667,
          -3334.9688339620197,
          -3394.9860851119006,
          -3591.4970104770496,
          -2634.4056987732283,
          -3229.322774256249,
          -3470.3523513426358,
          -2553.763157569682,
          -3303.5130847016912,
          -3446.7110228128668,
          -3353.8477146253103,
          -3317.467799332621,
          -3393.2445849003707,
          -3282.742667057316,
          -2483.2907183041507,
          -3618.8689097546376,
          -2493.6762891543235,
          -3406.5209030405977,
          -3402.9894499027373,
          -2453.842399546166,
          -3249.107225624085,
          -2672.947646717709,
          -3296.4880856032496,
          -3290.3386758540323,
          62343.94061029473,
          -2500.399871754503,
          -3517.1853860384317,
          -3230.0824514573196,
          62396.3218536005,
          -3204.7541153956067,
          -2813.522253154471,
          -2872.0633172471576,
          -2679.321496922453,
          -3344.2701952169405,
          -2570.899236390458,
          -3407.8882925340113,
          62304.804735428595,
          -3522.5429458610556,
          -3341.8581769025136,
          62158.417263609976,
          -3355.467579196138
         ],
         "xaxis": "x",
         "y": [
          6689.700616133345,
          -260.10168131828766,
          -2160.4372162293357,
          5170.572333519808,
          -2119.5881204107245,
          2656.9364912507613,
          -683.8317855057694,
          -149.9784835606088,
          -604.7771666772395,
          1979.3060464193213,
          -202.4746769040016,
          250.05406580945507,
          2457.922489438422,
          -3673.9602503353426,
          330.5032598878603,
          -331.9726050949992,
          702.5734352392362,
          -221.25754288444534,
          -3159.905232455753,
          2622.092929234841,
          4740.569601139836,
          -2117.6370906079246,
          -4304.022817128984,
          2573.4197834680685,
          -4154.217684893759,
          -610.9654221666469,
          1667.5194564938677,
          -1179.837450491649,
          1713.834660114701,
          -2345.6892064891395,
          -3261.4935960775533,
          492.51514446029955,
          -2224.6049736007094,
          -472.1037117366517,
          -986.0262992556173,
          3771.617629812133,
          -1105.9503097192742,
          5790.188313310667,
          -171.7009243438292,
          3624.387469720037,
          772.4173729687319,
          5359.67016235663,
          -656.7859930357755,
          -3618.412815850246,
          2384.8486626476415,
          -147.03015091099522,
          -3047.0199563706146,
          -528.71998867816,
          -395.95398381603894,
          -1711.180717412449,
          -1004.2903833650271,
          344.1857220539026,
          -827.5219147660209,
          3844.1049768380435,
          -3362.8639040830076,
          -1109.4937353322653,
          -210.5769561597428,
          -2700.6280312470917,
          -403.3946735731919,
          -1899.7838969568961,
          -742.8848487863233,
          2645.999482962981,
          1021.11010732936,
          390.49909299568617,
          1026.7955538688636,
          -2327.655818103899,
          -2785.0500218134052,
          1506.3641150210688,
          930.1929350856097,
          544.9002755726384,
          -587.5471425365395,
          -1302.087889889793,
          1729.007693701009,
          -2340.890923792874,
          -3843.7003614585697,
          -545.5723719026299,
          -2498.140420841959,
          95.26951400681045,
          1649.4846220958796,
          -797.2524241118718,
          -11.22085115748718,
          3600.7108976005998,
          793.2462231798681,
          -1354.857740666101,
          630.3613390271937,
          -35.61577067798449,
          2563.8744100416575,
          2093.1542148412136,
          -3296.9285525781174,
          -126.763511306224,
          2045.919043259133,
          2618.478250599642,
          326.4649996432252,
          673.5224425864059,
          -3165.222548388376,
          -2575.4439951892687,
          -2080.4556446565857,
          -2781.022369644979,
          3892.435937177844,
          436.61892680432976,
          -1272.0105252919548,
          -1804.7292589865813,
          -28.44431070296102,
          -2533.4662257274654,
          438.9046666053787,
          430.19704230061063,
          -986.407170424701,
          -2329.251564692264,
          -4821.416766900624,
          5006.456985696109,
          -3601.402727790063,
          -1585.3723529823412,
          -636.2548887572367,
          3376.142031785655,
          6023.02973480782,
          571.2471025853134,
          -740.9983218458219,
          -1568.513915412486,
          1943.63363857711,
          -287.1392666928529,
          3245.102460831463,
          -3250.2668869050685,
          4297.626121347508,
          284.4882558055963
         ],
         "yaxis": "y"
        }
       ],
       "layout": {
        "coloraxis": {
         "colorbar": {
          "title": {
           "text": "Sensor ID"
          }
         },
         "colorscale": [
          [
           0,
           "#0d0887"
          ],
          [
           0.1111111111111111,
           "#46039f"
          ],
          [
           0.2222222222222222,
           "#7201a8"
          ],
          [
           0.3333333333333333,
           "#9c179e"
          ],
          [
           0.4444444444444444,
           "#bd3786"
          ],
          [
           0.5555555555555556,
           "#d8576b"
          ],
          [
           0.6666666666666666,
           "#ed7953"
          ],
          [
           0.7777777777777778,
           "#fb9f3a"
          ],
          [
           0.8888888888888888,
           "#fdca26"
          ],
          [
           1,
           "#f0f921"
          ]
         ]
        },
        "legend": {
         "tracegroupgap": 0
        },
        "template": {
         "data": {
          "bar": [
           {
            "error_x": {
             "color": "#2a3f5f"
            },
            "error_y": {
             "color": "#2a3f5f"
            },
            "marker": {
             "line": {
              "color": "#E5ECF6",
              "width": 0.5
             },
             "pattern": {
              "fillmode": "overlay",
              "size": 10,
              "solidity": 0.2
             }
            },
            "type": "bar"
           }
          ],
          "barpolar": [
           {
            "marker": {
             "line": {
              "color": "#E5ECF6",
              "width": 0.5
             },
             "pattern": {
              "fillmode": "overlay",
              "size": 10,
              "solidity": 0.2
             }
            },
            "type": "barpolar"
           }
          ],
          "carpet": [
           {
            "aaxis": {
             "endlinecolor": "#2a3f5f",
             "gridcolor": "white",
             "linecolor": "white",
             "minorgridcolor": "white",
             "startlinecolor": "#2a3f5f"
            },
            "baxis": {
             "endlinecolor": "#2a3f5f",
             "gridcolor": "white",
             "linecolor": "white",
             "minorgridcolor": "white",
             "startlinecolor": "#2a3f5f"
            },
            "type": "carpet"
           }
          ],
          "choropleth": [
           {
            "colorbar": {
             "outlinewidth": 0,
             "ticks": ""
            },
            "type": "choropleth"
           }
          ],
          "contour": [
           {
            "colorbar": {
             "outlinewidth": 0,
             "ticks": ""
            },
            "colorscale": [
             [
              0,
              "#0d0887"
             ],
             [
              0.1111111111111111,
              "#46039f"
             ],
             [
              0.2222222222222222,
              "#7201a8"
             ],
             [
              0.3333333333333333,
              "#9c179e"
             ],
             [
              0.4444444444444444,
              "#bd3786"
             ],
             [
              0.5555555555555556,
              "#d8576b"
             ],
             [
              0.6666666666666666,
              "#ed7953"
             ],
             [
              0.7777777777777778,
              "#fb9f3a"
             ],
             [
              0.8888888888888888,
              "#fdca26"
             ],
             [
              1,
              "#f0f921"
             ]
            ],
            "type": "contour"
           }
          ],
          "contourcarpet": [
           {
            "colorbar": {
             "outlinewidth": 0,
             "ticks": ""
            },
            "type": "contourcarpet"
           }
          ],
          "heatmap": [
           {
            "colorbar": {
             "outlinewidth": 0,
             "ticks": ""
            },
            "colorscale": [
             [
              0,
              "#0d0887"
             ],
             [
              0.1111111111111111,
              "#46039f"
             ],
             [
              0.2222222222222222,
              "#7201a8"
             ],
             [
              0.3333333333333333,
              "#9c179e"
             ],
             [
              0.4444444444444444,
              "#bd3786"
             ],
             [
              0.5555555555555556,
              "#d8576b"
             ],
             [
              0.6666666666666666,
              "#ed7953"
             ],
             [
              0.7777777777777778,
              "#fb9f3a"
             ],
             [
              0.8888888888888888,
              "#fdca26"
             ],
             [
              1,
              "#f0f921"
             ]
            ],
            "type": "heatmap"
           }
          ],
          "heatmapgl": [
           {
            "colorbar": {
             "outlinewidth": 0,
             "ticks": ""
            },
            "colorscale": [
             [
              0,
              "#0d0887"
             ],
             [
              0.1111111111111111,
              "#46039f"
             ],
             [
              0.2222222222222222,
              "#7201a8"
             ],
             [
              0.3333333333333333,
              "#9c179e"
             ],
             [
              0.4444444444444444,
              "#bd3786"
             ],
             [
              0.5555555555555556,
              "#d8576b"
             ],
             [
              0.6666666666666666,
              "#ed7953"
             ],
             [
              0.7777777777777778,
              "#fb9f3a"
             ],
             [
              0.8888888888888888,
              "#fdca26"
             ],
             [
              1,
              "#f0f921"
             ]
            ],
            "type": "heatmapgl"
           }
          ],
          "histogram": [
           {
            "marker": {
             "pattern": {
              "fillmode": "overlay",
              "size": 10,
              "solidity": 0.2
             }
            },
            "type": "histogram"
           }
          ],
          "histogram2d": [
           {
            "colorbar": {
             "outlinewidth": 0,
             "ticks": ""
            },
            "colorscale": [
             [
              0,
              "#0d0887"
             ],
             [
              0.1111111111111111,
              "#46039f"
             ],
             [
              0.2222222222222222,
              "#7201a8"
             ],
             [
              0.3333333333333333,
              "#9c179e"
             ],
             [
              0.4444444444444444,
              "#bd3786"
             ],
             [
              0.5555555555555556,
              "#d8576b"
             ],
             [
              0.6666666666666666,
              "#ed7953"
             ],
             [
              0.7777777777777778,
              "#fb9f3a"
             ],
             [
              0.8888888888888888,
              "#fdca26"
             ],
             [
              1,
              "#f0f921"
             ]
            ],
            "type": "histogram2d"
           }
          ],
          "histogram2dcontour": [
           {
            "colorbar": {
             "outlinewidth": 0,
             "ticks": ""
            },
            "colorscale": [
             [
              0,
              "#0d0887"
             ],
             [
              0.1111111111111111,
              "#46039f"
             ],
             [
              0.2222222222222222,
              "#7201a8"
             ],
             [
              0.3333333333333333,
              "#9c179e"
             ],
             [
              0.4444444444444444,
              "#bd3786"
             ],
             [
              0.5555555555555556,
              "#d8576b"
             ],
             [
              0.6666666666666666,
              "#ed7953"
             ],
             [
              0.7777777777777778,
              "#fb9f3a"
             ],
             [
              0.8888888888888888,
              "#fdca26"
             ],
             [
              1,
              "#f0f921"
             ]
            ],
            "type": "histogram2dcontour"
           }
          ],
          "mesh3d": [
           {
            "colorbar": {
             "outlinewidth": 0,
             "ticks": ""
            },
            "type": "mesh3d"
           }
          ],
          "parcoords": [
           {
            "line": {
             "colorbar": {
              "outlinewidth": 0,
              "ticks": ""
             }
            },
            "type": "parcoords"
           }
          ],
          "pie": [
           {
            "automargin": true,
            "type": "pie"
           }
          ],
          "scatter": [
           {
            "fillpattern": {
             "fillmode": "overlay",
             "size": 10,
             "solidity": 0.2
            },
            "type": "scatter"
           }
          ],
          "scatter3d": [
           {
            "line": {
             "colorbar": {
              "outlinewidth": 0,
              "ticks": ""
             }
            },
            "marker": {
             "colorbar": {
              "outlinewidth": 0,
              "ticks": ""
             }
            },
            "type": "scatter3d"
           }
          ],
          "scattercarpet": [
           {
            "marker": {
             "colorbar": {
              "outlinewidth": 0,
              "ticks": ""
             }
            },
            "type": "scattercarpet"
           }
          ],
          "scattergeo": [
           {
            "marker": {
             "colorbar": {
              "outlinewidth": 0,
              "ticks": ""
             }
            },
            "type": "scattergeo"
           }
          ],
          "scattergl": [
           {
            "marker": {
             "colorbar": {
              "outlinewidth": 0,
              "ticks": ""
             }
            },
            "type": "scattergl"
           }
          ],
          "scattermapbox": [
           {
            "marker": {
             "colorbar": {
              "outlinewidth": 0,
              "ticks": ""
             }
            },
            "type": "scattermapbox"
           }
          ],
          "scatterpolar": [
           {
            "marker": {
             "colorbar": {
              "outlinewidth": 0,
              "ticks": ""
             }
            },
            "type": "scatterpolar"
           }
          ],
          "scatterpolargl": [
           {
            "marker": {
             "colorbar": {
              "outlinewidth": 0,
              "ticks": ""
             }
            },
            "type": "scatterpolargl"
           }
          ],
          "scatterternary": [
           {
            "marker": {
             "colorbar": {
              "outlinewidth": 0,
              "ticks": ""
             }
            },
            "type": "scatterternary"
           }
          ],
          "surface": [
           {
            "colorbar": {
             "outlinewidth": 0,
             "ticks": ""
            },
            "colorscale": [
             [
              0,
              "#0d0887"
             ],
             [
              0.1111111111111111,
              "#46039f"
             ],
             [
              0.2222222222222222,
              "#7201a8"
             ],
             [
              0.3333333333333333,
              "#9c179e"
             ],
             [
              0.4444444444444444,
              "#bd3786"
             ],
             [
              0.5555555555555556,
              "#d8576b"
             ],
             [
              0.6666666666666666,
              "#ed7953"
             ],
             [
              0.7777777777777778,
              "#fb9f3a"
             ],
             [
              0.8888888888888888,
              "#fdca26"
             ],
             [
              1,
              "#f0f921"
             ]
            ],
            "type": "surface"
           }
          ],
          "table": [
           {
            "cells": {
             "fill": {
              "color": "#EBF0F8"
             },
             "line": {
              "color": "white"
             }
            },
            "header": {
             "fill": {
              "color": "#C8D4E3"
             },
             "line": {
              "color": "white"
             }
            },
            "type": "table"
           }
          ]
         },
         "layout": {
          "annotationdefaults": {
           "arrowcolor": "#2a3f5f",
           "arrowhead": 0,
           "arrowwidth": 1
          },
          "autotypenumbers": "strict",
          "coloraxis": {
           "colorbar": {
            "outlinewidth": 0,
            "ticks": ""
           }
          },
          "colorscale": {
           "diverging": [
            [
             0,
             "#8e0152"
            ],
            [
             0.1,
             "#c51b7d"
            ],
            [
             0.2,
             "#de77ae"
            ],
            [
             0.3,
             "#f1b6da"
            ],
            [
             0.4,
             "#fde0ef"
            ],
            [
             0.5,
             "#f7f7f7"
            ],
            [
             0.6,
             "#e6f5d0"
            ],
            [
             0.7,
             "#b8e186"
            ],
            [
             0.8,
             "#7fbc41"
            ],
            [
             0.9,
             "#4d9221"
            ],
            [
             1,
             "#276419"
            ]
           ],
           "sequential": [
            [
             0,
             "#0d0887"
            ],
            [
             0.1111111111111111,
             "#46039f"
            ],
            [
             0.2222222222222222,
             "#7201a8"
            ],
            [
             0.3333333333333333,
             "#9c179e"
            ],
            [
             0.4444444444444444,
             "#bd3786"
            ],
            [
             0.5555555555555556,
             "#d8576b"
            ],
            [
             0.6666666666666666,
             "#ed7953"
            ],
            [
             0.7777777777777778,
             "#fb9f3a"
            ],
            [
             0.8888888888888888,
             "#fdca26"
            ],
            [
             1,
             "#f0f921"
            ]
           ],
           "sequentialminus": [
            [
             0,
             "#0d0887"
            ],
            [
             0.1111111111111111,
             "#46039f"
            ],
            [
             0.2222222222222222,
             "#7201a8"
            ],
            [
             0.3333333333333333,
             "#9c179e"
            ],
            [
             0.4444444444444444,
             "#bd3786"
            ],
            [
             0.5555555555555556,
             "#d8576b"
            ],
            [
             0.6666666666666666,
             "#ed7953"
            ],
            [
             0.7777777777777778,
             "#fb9f3a"
            ],
            [
             0.8888888888888888,
             "#fdca26"
            ],
            [
             1,
             "#f0f921"
            ]
           ]
          },
          "colorway": [
           "#636efa",
           "#EF553B",
           "#00cc96",
           "#ab63fa",
           "#FFA15A",
           "#19d3f3",
           "#FF6692",
           "#B6E880",
           "#FF97FF",
           "#FECB52"
          ],
          "font": {
           "color": "#2a3f5f"
          },
          "geo": {
           "bgcolor": "white",
           "lakecolor": "white",
           "landcolor": "#E5ECF6",
           "showlakes": true,
           "showland": true,
           "subunitcolor": "white"
          },
          "hoverlabel": {
           "align": "left"
          },
          "hovermode": "closest",
          "mapbox": {
           "style": "light"
          },
          "paper_bgcolor": "white",
          "plot_bgcolor": "#E5ECF6",
          "polar": {
           "angularaxis": {
            "gridcolor": "white",
            "linecolor": "white",
            "ticks": ""
           },
           "bgcolor": "#E5ECF6",
           "radialaxis": {
            "gridcolor": "white",
            "linecolor": "white",
            "ticks": ""
           }
          },
          "scene": {
           "xaxis": {
            "backgroundcolor": "#E5ECF6",
            "gridcolor": "white",
            "gridwidth": 2,
            "linecolor": "white",
            "showbackground": true,
            "ticks": "",
            "zerolinecolor": "white"
           },
           "yaxis": {
            "backgroundcolor": "#E5ECF6",
            "gridcolor": "white",
            "gridwidth": 2,
            "linecolor": "white",
            "showbackground": true,
            "ticks": "",
            "zerolinecolor": "white"
           },
           "zaxis": {
            "backgroundcolor": "#E5ECF6",
            "gridcolor": "white",
            "gridwidth": 2,
            "linecolor": "white",
            "showbackground": true,
            "ticks": "",
            "zerolinecolor": "white"
           }
          },
          "shapedefaults": {
           "line": {
            "color": "#2a3f5f"
           }
          },
          "ternary": {
           "aaxis": {
            "gridcolor": "white",
            "linecolor": "white",
            "ticks": ""
           },
           "baxis": {
            "gridcolor": "white",
            "linecolor": "white",
            "ticks": ""
           },
           "bgcolor": "#E5ECF6",
           "caxis": {
            "gridcolor": "white",
            "linecolor": "white",
            "ticks": ""
           }
          },
          "title": {
           "x": 0.05
          },
          "xaxis": {
           "automargin": true,
           "gridcolor": "white",
           "linecolor": "white",
           "ticks": "",
           "title": {
            "standoff": 15
           },
           "zerolinecolor": "white",
           "zerolinewidth": 2
          },
          "yaxis": {
           "automargin": true,
           "gridcolor": "white",
           "linecolor": "white",
           "ticks": "",
           "title": {
            "standoff": 15
           },
           "zerolinecolor": "white",
           "zerolinewidth": 2
          }
         }
        },
        "title": {
         "text": "Sensors Visualized Using Principal Components"
        },
        "xaxis": {
         "anchor": "y",
         "domain": [
          0,
          1
         ],
         "title": {
          "text": "Principal Component 1"
         }
        },
        "yaxis": {
         "anchor": "x",
         "domain": [
          0,
          1
         ],
         "title": {
          "text": "Principal Component 2"
         }
        }
       }
      }
     },
     "metadata": {},
     "output_type": "display_data"
    }
   ],
   "source": [
    "# Plot the PCA interactive plot\n",
    "plot_pca_interactive(df_range_delay_ends, sensor_id_col='Sensor ID', n_components=2)"
   ]
  },
  {
   "cell_type": "markdown",
   "metadata": {},
   "source": [
    "Try PCA on reduced data"
   ]
  },
  {
   "cell_type": "code",
   "execution_count": 95,
   "metadata": {},
   "outputs": [
    {
     "data": {
      "image/png": "[encoded data removed]",
      "text/plain": [
       "<Figure size 1000x600 with 1 Axes>"
      ]
     },
     "metadata": {},
     "output_type": "display_data"
    }
   ],
   "source": [
    "explained_variance_corr, loadings_corr, features_corr = process_PCA(reduced_data_corr)"
   ]
  },
  {
   "cell_type": "code",
   "execution_count": 96,
   "metadata": {},
   "outputs": [
    {
     "data": {
      "text/html": [
       "<div>\n",
       "<style scoped>\n",
       "    .dataframe tbody tr th:only-of-type {\n",
       "        vertical-align: middle;\n",
       "    }\n",
       "\n",
       "    .dataframe tbody tr th {\n",
       "        vertical-align: top;\n",
       "    }\n",
       "\n",
       "    .dataframe thead th {\n",
       "        text-align: right;\n",
       "    }\n",
       "</style>\n",
       "<table border=\"1\" class=\"dataframe\">\n",
       "  <thead>\n",
       "    <tr style=\"text-align: right;\">\n",
       "      <th></th>\n",
       "      <th>PC1</th>\n",
       "      <th>PC2</th>\n",
       "      <th>PC3</th>\n",
       "      <th>PC4</th>\n",
       "      <th>PC5</th>\n",
       "      <th>PC6</th>\n",
       "      <th>PC7</th>\n",
       "      <th>PC8</th>\n",
       "      <th>PC9</th>\n",
       "      <th>PC10</th>\n",
       "      <th>...</th>\n",
       "      <th>PC81</th>\n",
       "      <th>PC82</th>\n",
       "      <th>PC83</th>\n",
       "      <th>PC84</th>\n",
       "      <th>PC85</th>\n",
       "      <th>PC86</th>\n",
       "      <th>PC87</th>\n",
       "      <th>PC88</th>\n",
       "      <th>PC89</th>\n",
       "      <th>PC90</th>\n",
       "    </tr>\n",
       "    <tr>\n",
       "      <th>range_delay</th>\n",
       "      <th></th>\n",
       "      <th></th>\n",
       "      <th></th>\n",
       "      <th></th>\n",
       "      <th></th>\n",
       "      <th></th>\n",
       "      <th></th>\n",
       "      <th></th>\n",
       "      <th></th>\n",
       "      <th></th>\n",
       "      <th></th>\n",
       "      <th></th>\n",
       "      <th></th>\n",
       "      <th></th>\n",
       "      <th></th>\n",
       "      <th></th>\n",
       "      <th></th>\n",
       "      <th></th>\n",
       "      <th></th>\n",
       "      <th></th>\n",
       "      <th></th>\n",
       "    </tr>\n",
       "  </thead>\n",
       "  <tbody>\n",
       "    <tr>\n",
       "      <th>13_10000_mean_lower</th>\n",
       "      <td>0.144055</td>\n",
       "      <td>0.062553</td>\n",
       "      <td>0.082774</td>\n",
       "      <td>0.157758</td>\n",
       "      <td>-0.050073</td>\n",
       "      <td>0.213990</td>\n",
       "      <td>-0.006223</td>\n",
       "      <td>-0.085149</td>\n",
       "      <td>-0.121383</td>\n",
       "      <td>-0.006591</td>\n",
       "      <td>...</td>\n",
       "      <td>0.102241</td>\n",
       "      <td>0.109321</td>\n",
       "      <td>-0.003373</td>\n",
       "      <td>-0.025390</td>\n",
       "      <td>0.122092</td>\n",
       "      <td>-0.031236</td>\n",
       "      <td>-0.062466</td>\n",
       "      <td>0.013686</td>\n",
       "      <td>0.007799</td>\n",
       "      <td>0.082297</td>\n",
       "    </tr>\n",
       "    <tr>\n",
       "      <th>13_16800_mean_lower</th>\n",
       "      <td>0.092707</td>\n",
       "      <td>-0.003566</td>\n",
       "      <td>0.085341</td>\n",
       "      <td>0.023776</td>\n",
       "      <td>-0.135421</td>\n",
       "      <td>-0.095865</td>\n",
       "      <td>-0.105504</td>\n",
       "      <td>0.142741</td>\n",
       "      <td>-0.024319</td>\n",
       "      <td>0.106505</td>\n",
       "      <td>...</td>\n",
       "      <td>0.072096</td>\n",
       "      <td>-0.040844</td>\n",
       "      <td>0.052849</td>\n",
       "      <td>0.015886</td>\n",
       "      <td>0.038045</td>\n",
       "      <td>0.088297</td>\n",
       "      <td>-0.105343</td>\n",
       "      <td>-0.199602</td>\n",
       "      <td>0.020676</td>\n",
       "      <td>-0.057705</td>\n",
       "    </tr>\n",
       "    <tr>\n",
       "      <th>13_3000_mean_lower</th>\n",
       "      <td>0.157220</td>\n",
       "      <td>0.118238</td>\n",
       "      <td>0.160997</td>\n",
       "      <td>0.002743</td>\n",
       "      <td>0.082170</td>\n",
       "      <td>0.050500</td>\n",
       "      <td>-0.203135</td>\n",
       "      <td>0.017375</td>\n",
       "      <td>-0.000510</td>\n",
       "      <td>0.014086</td>\n",
       "      <td>...</td>\n",
       "      <td>-0.140781</td>\n",
       "      <td>0.209982</td>\n",
       "      <td>0.032659</td>\n",
       "      <td>0.009749</td>\n",
       "      <td>0.042022</td>\n",
       "      <td>0.016480</td>\n",
       "      <td>0.090962</td>\n",
       "      <td>0.009165</td>\n",
       "      <td>-0.201740</td>\n",
       "      <td>0.070293</td>\n",
       "    </tr>\n",
       "    <tr>\n",
       "      <th>13_6000_mean_lower</th>\n",
       "      <td>0.085425</td>\n",
       "      <td>0.074770</td>\n",
       "      <td>0.145375</td>\n",
       "      <td>0.117410</td>\n",
       "      <td>0.040776</td>\n",
       "      <td>0.141782</td>\n",
       "      <td>-0.183552</td>\n",
       "      <td>0.071720</td>\n",
       "      <td>-0.008855</td>\n",
       "      <td>-0.040561</td>\n",
       "      <td>...</td>\n",
       "      <td>-0.093067</td>\n",
       "      <td>-0.225194</td>\n",
       "      <td>-0.070060</td>\n",
       "      <td>-0.039023</td>\n",
       "      <td>0.060336</td>\n",
       "      <td>-0.087124</td>\n",
       "      <td>0.163976</td>\n",
       "      <td>0.011384</td>\n",
       "      <td>-0.014231</td>\n",
       "      <td>-0.043603</td>\n",
       "    </tr>\n",
       "    <tr>\n",
       "      <th>13_8000_mean_lower</th>\n",
       "      <td>0.168251</td>\n",
       "      <td>0.133316</td>\n",
       "      <td>0.114266</td>\n",
       "      <td>0.202080</td>\n",
       "      <td>-0.054132</td>\n",
       "      <td>0.061926</td>\n",
       "      <td>-0.041151</td>\n",
       "      <td>0.074298</td>\n",
       "      <td>0.004820</td>\n",
       "      <td>-0.015757</td>\n",
       "      <td>...</td>\n",
       "      <td>-0.007655</td>\n",
       "      <td>-0.024456</td>\n",
       "      <td>0.026060</td>\n",
       "      <td>0.119608</td>\n",
       "      <td>-0.062050</td>\n",
       "      <td>0.030852</td>\n",
       "      <td>-0.273352</td>\n",
       "      <td>-0.081359</td>\n",
       "      <td>-0.029744</td>\n",
       "      <td>-0.117121</td>\n",
       "    </tr>\n",
       "    <tr>\n",
       "      <th>...</th>\n",
       "      <td>...</td>\n",
       "      <td>...</td>\n",
       "      <td>...</td>\n",
       "      <td>...</td>\n",
       "      <td>...</td>\n",
       "      <td>...</td>\n",
       "      <td>...</td>\n",
       "      <td>...</td>\n",
       "      <td>...</td>\n",
       "      <td>...</td>\n",
       "      <td>...</td>\n",
       "      <td>...</td>\n",
       "      <td>...</td>\n",
       "      <td>...</td>\n",
       "      <td>...</td>\n",
       "      <td>...</td>\n",
       "      <td>...</td>\n",
       "      <td>...</td>\n",
       "      <td>...</td>\n",
       "      <td>...</td>\n",
       "      <td>...</td>\n",
       "    </tr>\n",
       "    <tr>\n",
       "      <th>53_10000_mean_upper</th>\n",
       "      <td>-0.025543</td>\n",
       "      <td>0.196469</td>\n",
       "      <td>0.012146</td>\n",
       "      <td>-0.025514</td>\n",
       "      <td>0.102835</td>\n",
       "      <td>-0.109886</td>\n",
       "      <td>-0.114635</td>\n",
       "      <td>-0.166145</td>\n",
       "      <td>-0.111596</td>\n",
       "      <td>0.020418</td>\n",
       "      <td>...</td>\n",
       "      <td>0.004215</td>\n",
       "      <td>0.009980</td>\n",
       "      <td>-0.092383</td>\n",
       "      <td>0.092320</td>\n",
       "      <td>-0.077466</td>\n",
       "      <td>-0.143329</td>\n",
       "      <td>0.072466</td>\n",
       "      <td>-0.174132</td>\n",
       "      <td>0.023730</td>\n",
       "      <td>-0.016755</td>\n",
       "    </tr>\n",
       "    <tr>\n",
       "      <th>53_16800_mean_upper</th>\n",
       "      <td>0.121209</td>\n",
       "      <td>0.062795</td>\n",
       "      <td>0.057241</td>\n",
       "      <td>-0.058760</td>\n",
       "      <td>-0.086881</td>\n",
       "      <td>-0.113016</td>\n",
       "      <td>0.092125</td>\n",
       "      <td>0.077462</td>\n",
       "      <td>-0.111468</td>\n",
       "      <td>0.213713</td>\n",
       "      <td>...</td>\n",
       "      <td>0.191151</td>\n",
       "      <td>-0.028460</td>\n",
       "      <td>-0.132343</td>\n",
       "      <td>0.031414</td>\n",
       "      <td>-0.003188</td>\n",
       "      <td>0.058551</td>\n",
       "      <td>0.133928</td>\n",
       "      <td>-0.063567</td>\n",
       "      <td>0.063546</td>\n",
       "      <td>-0.044923</td>\n",
       "    </tr>\n",
       "    <tr>\n",
       "      <th>53_3000_mean_upper</th>\n",
       "      <td>0.127791</td>\n",
       "      <td>0.041824</td>\n",
       "      <td>-0.084446</td>\n",
       "      <td>0.151914</td>\n",
       "      <td>0.186274</td>\n",
       "      <td>-0.079679</td>\n",
       "      <td>-0.030757</td>\n",
       "      <td>-0.096262</td>\n",
       "      <td>0.029034</td>\n",
       "      <td>0.043859</td>\n",
       "      <td>...</td>\n",
       "      <td>0.207404</td>\n",
       "      <td>0.059967</td>\n",
       "      <td>0.008734</td>\n",
       "      <td>-0.078483</td>\n",
       "      <td>0.022969</td>\n",
       "      <td>-0.136690</td>\n",
       "      <td>-0.042067</td>\n",
       "      <td>0.081852</td>\n",
       "      <td>-0.105626</td>\n",
       "      <td>0.034319</td>\n",
       "    </tr>\n",
       "    <tr>\n",
       "      <th>53_6000_mean_upper</th>\n",
       "      <td>0.103504</td>\n",
       "      <td>0.145634</td>\n",
       "      <td>-0.074182</td>\n",
       "      <td>-0.073400</td>\n",
       "      <td>0.078131</td>\n",
       "      <td>-0.085877</td>\n",
       "      <td>-0.104374</td>\n",
       "      <td>0.218791</td>\n",
       "      <td>0.099033</td>\n",
       "      <td>0.188559</td>\n",
       "      <td>...</td>\n",
       "      <td>-0.049843</td>\n",
       "      <td>0.125310</td>\n",
       "      <td>0.035250</td>\n",
       "      <td>-0.095568</td>\n",
       "      <td>0.210167</td>\n",
       "      <td>0.049586</td>\n",
       "      <td>-0.072175</td>\n",
       "      <td>0.139996</td>\n",
       "      <td>0.154598</td>\n",
       "      <td>0.137476</td>\n",
       "    </tr>\n",
       "    <tr>\n",
       "      <th>53_8000_mean_upper</th>\n",
       "      <td>0.056669</td>\n",
       "      <td>0.083161</td>\n",
       "      <td>-0.066614</td>\n",
       "      <td>-0.137856</td>\n",
       "      <td>0.177377</td>\n",
       "      <td>-0.175738</td>\n",
       "      <td>-0.037250</td>\n",
       "      <td>0.073662</td>\n",
       "      <td>-0.018640</td>\n",
       "      <td>0.138189</td>\n",
       "      <td>...</td>\n",
       "      <td>0.041863</td>\n",
       "      <td>-0.117336</td>\n",
       "      <td>0.209894</td>\n",
       "      <td>0.030637</td>\n",
       "      <td>0.110859</td>\n",
       "      <td>-0.015734</td>\n",
       "      <td>-0.081936</td>\n",
       "      <td>0.112330</td>\n",
       "      <td>-0.241910</td>\n",
       "      <td>-0.110269</td>\n",
       "    </tr>\n",
       "  </tbody>\n",
       "</table>\n",
       "<p>90 rows × 90 columns</p>\n",
       "</div>"
      ],
      "text/plain": [
       "                          PC1       PC2       PC3       PC4       PC5  \\\n",
       "range_delay                                                             \n",
       "13_10000_mean_lower  0.144055  0.062553  0.082774  0.157758 -0.050073   \n",
       "13_16800_mean_lower  0.092707 -0.003566  0.085341  0.023776 -0.135421   \n",
       "13_3000_mean_lower   0.157220  0.118238  0.160997  0.002743  0.082170   \n",
       "13_6000_mean_lower   0.085425  0.074770  0.145375  0.117410  0.040776   \n",
       "13_8000_mean_lower   0.168251  0.133316  0.114266  0.202080 -0.054132   \n",
       "...                       ...       ...       ...       ...       ...   \n",
       "53_10000_mean_upper -0.025543  0.196469  0.012146 -0.025514  0.102835   \n",
       "53_16800_mean_upper  0.121209  0.062795  0.057241 -0.058760 -0.086881   \n",
       "53_3000_mean_upper   0.127791  0.041824 -0.084446  0.151914  0.186274   \n",
       "53_6000_mean_upper   0.103504  0.145634 -0.074182 -0.073400  0.078131   \n",
       "53_8000_mean_upper   0.056669  0.083161 -0.066614 -0.137856  0.177377   \n",
       "\n",
       "                          PC6       PC7       PC8       PC9      PC10  ...  \\\n",
       "range_delay                                                            ...   \n",
       "13_10000_mean_lower  0.213990 -0.006223 -0.085149 -0.121383 -0.006591  ...   \n",
       "13_16800_mean_lower -0.095865 -0.105504  0.142741 -0.024319  0.106505  ...   \n",
       "13_3000_mean_lower   0.050500 -0.203135  0.017375 -0.000510  0.014086  ...   \n",
       "13_6000_mean_lower   0.141782 -0.183552  0.071720 -0.008855 -0.040561  ...   \n",
       "13_8000_mean_lower   0.061926 -0.041151  0.074298  0.004820 -0.015757  ...   \n",
       "...                       ...       ...       ...       ...       ...  ...   \n",
       "53_10000_mean_upper -0.109886 -0.114635 -0.166145 -0.111596  0.020418  ...   \n",
       "53_16800_mean_upper -0.113016  0.092125  0.077462 -0.111468  0.213713  ...   \n",
       "53_3000_mean_upper  -0.079679 -0.030757 -0.096262  0.029034  0.043859  ...   \n",
       "53_6000_mean_upper  -0.085877 -0.104374  0.218791  0.099033  0.188559  ...   \n",
       "53_8000_mean_upper  -0.175738 -0.037250  0.073662 -0.018640  0.138189  ...   \n",
       "\n",
       "                         PC81      PC82      PC83      PC84      PC85  \\\n",
       "range_delay                                                             \n",
       "13_10000_mean_lower  0.102241  0.109321 -0.003373 -0.025390  0.122092   \n",
       "13_16800_mean_lower  0.072096 -0.040844  0.052849  0.015886  0.038045   \n",
       "13_3000_mean_lower  -0.140781  0.209982  0.032659  0.009749  0.042022   \n",
       "13_6000_mean_lower  -0.093067 -0.225194 -0.070060 -0.039023  0.060336   \n",
       "13_8000_mean_lower  -0.007655 -0.024456  0.026060  0.119608 -0.062050   \n",
       "...                       ...       ...       ...       ...       ...   \n",
       "53_10000_mean_upper  0.004215  0.009980 -0.092383  0.092320 -0.077466   \n",
       "53_16800_mean_upper  0.191151 -0.028460 -0.132343  0.031414 -0.003188   \n",
       "53_3000_mean_upper   0.207404  0.059967  0.008734 -0.078483  0.022969   \n",
       "53_6000_mean_upper  -0.049843  0.125310  0.035250 -0.095568  0.210167   \n",
       "53_8000_mean_upper   0.041863 -0.117336  0.209894  0.030637  0.110859   \n",
       "\n",
       "                         PC86      PC87      PC88      PC89      PC90  \n",
       "range_delay                                                            \n",
       "13_10000_mean_lower -0.031236 -0.062466  0.013686  0.007799  0.082297  \n",
       "13_16800_mean_lower  0.088297 -0.105343 -0.199602  0.020676 -0.057705  \n",
       "13_3000_mean_lower   0.016480  0.090962  0.009165 -0.201740  0.070293  \n",
       "13_6000_mean_lower  -0.087124  0.163976  0.011384 -0.014231 -0.043603  \n",
       "13_8000_mean_lower   0.030852 -0.273352 -0.081359 -0.029744 -0.117121  \n",
       "...                       ...       ...       ...       ...       ...  \n",
       "53_10000_mean_upper -0.143329  0.072466 -0.174132  0.023730 -0.016755  \n",
       "53_16800_mean_upper  0.058551  0.133928 -0.063567  0.063546 -0.044923  \n",
       "53_3000_mean_upper  -0.136690 -0.042067  0.081852 -0.105626  0.034319  \n",
       "53_6000_mean_upper   0.049586 -0.072175  0.139996  0.154598  0.137476  \n",
       "53_8000_mean_upper  -0.015734 -0.081936  0.112330 -0.241910 -0.110269  \n",
       "\n",
       "[90 rows x 90 columns]"
      ]
     },
     "execution_count": 96,
     "metadata": {},
     "output_type": "execute_result"
    }
   ],
   "source": [
    "# Create a DataFrame for the loadings\n",
    "loading_df_corr = pd.DataFrame(loadings_corr.T, columns=[f'PC{i+1}' for i in range(loadings_corr.shape[0])], index=features_corr.columns)\n",
    "loading_df_corr"
   ]
  },
  {
   "cell_type": "code",
   "execution_count": 97,
   "metadata": {},
   "outputs": [
    {
     "data": {
      "text/html": [
       "<div>\n",
       "<style scoped>\n",
       "    .dataframe tbody tr th:only-of-type {\n",
       "        vertical-align: middle;\n",
       "    }\n",
       "\n",
       "    .dataframe tbody tr th {\n",
       "        vertical-align: top;\n",
       "    }\n",
       "\n",
       "    .dataframe thead th {\n",
       "        text-align: right;\n",
       "    }\n",
       "</style>\n",
       "<table border=\"1\" class=\"dataframe\">\n",
       "  <thead>\n",
       "    <tr style=\"text-align: right;\">\n",
       "      <th></th>\n",
       "      <th>Feature</th>\n",
       "      <th>Importance</th>\n",
       "    </tr>\n",
       "  </thead>\n",
       "  <tbody>\n",
       "    <tr>\n",
       "      <th>56</th>\n",
       "      <td>23_16800_mean_upper</td>\n",
       "      <td>4.798267</td>\n",
       "    </tr>\n",
       "    <tr>\n",
       "      <th>13</th>\n",
       "      <td>23_6000_mean_lower</td>\n",
       "      <td>4.597680</td>\n",
       "    </tr>\n",
       "    <tr>\n",
       "      <th>59</th>\n",
       "      <td>23_8000_mean_upper</td>\n",
       "      <td>4.533043</td>\n",
       "    </tr>\n",
       "    <tr>\n",
       "      <th>75</th>\n",
       "      <td>43_10000_mean_upper</td>\n",
       "      <td>4.519115</td>\n",
       "    </tr>\n",
       "    <tr>\n",
       "      <th>45</th>\n",
       "      <td>13_10000_mean_upper</td>\n",
       "      <td>4.514199</td>\n",
       "    </tr>\n",
       "    <tr>\n",
       "      <th>...</th>\n",
       "      <td>...</td>\n",
       "      <td>...</td>\n",
       "    </tr>\n",
       "    <tr>\n",
       "      <th>8</th>\n",
       "      <td>18_6000_mean_lower</td>\n",
       "      <td>3.612230</td>\n",
       "    </tr>\n",
       "    <tr>\n",
       "      <th>23</th>\n",
       "      <td>33_6000_mean_lower</td>\n",
       "      <td>3.585354</td>\n",
       "    </tr>\n",
       "    <tr>\n",
       "      <th>31</th>\n",
       "      <td>43_16800_mean_lower</td>\n",
       "      <td>3.584874</td>\n",
       "    </tr>\n",
       "    <tr>\n",
       "      <th>77</th>\n",
       "      <td>43_3000_mean_upper</td>\n",
       "      <td>3.560861</td>\n",
       "    </tr>\n",
       "    <tr>\n",
       "      <th>25</th>\n",
       "      <td>38_10000_mean_lower</td>\n",
       "      <td>3.312052</td>\n",
       "    </tr>\n",
       "  </tbody>\n",
       "</table>\n",
       "<p>90 rows × 2 columns</p>\n",
       "</div>"
      ],
      "text/plain": [
       "                Feature  Importance\n",
       "56  23_16800_mean_upper    4.798267\n",
       "13   23_6000_mean_lower    4.597680\n",
       "59   23_8000_mean_upper    4.533043\n",
       "75  43_10000_mean_upper    4.519115\n",
       "45  13_10000_mean_upper    4.514199\n",
       "..                  ...         ...\n",
       "8    18_6000_mean_lower    3.612230\n",
       "23   33_6000_mean_lower    3.585354\n",
       "31  43_16800_mean_lower    3.584874\n",
       "77   43_3000_mean_upper    3.560861\n",
       "25  38_10000_mean_lower    3.312052\n",
       "\n",
       "[90 rows x 2 columns]"
      ]
     },
     "execution_count": 97,
     "metadata": {},
     "output_type": "execute_result"
    }
   ],
   "source": [
    "# Determine the number of components to retain 90% variance\n",
    "cumulative_variance = np.cumsum(explained_variance_corr)\n",
    "num_components = np.argmax(cumulative_variance >= 0.9) + 1\n",
    "\n",
    "# Get the loadings for the selected components\n",
    "selected_loadings_corr = loadings_corr[:num_components, :]\n",
    "\n",
    "# Calculate the importance of each feature by summing the absolute values of its loadings across the selected components\n",
    "feature_importance_corr = np.sum(np.abs(selected_loadings_corr), axis=0)\n",
    "\n",
    "# Create a DataFrame for feature importance\n",
    "feature_importance_df_corr = pd.DataFrame({'Feature': features_corr.columns, 'Importance': feature_importance_corr})\n",
    "\n",
    "# Sort the features by importance\n",
    "feature_importance_df_corr = feature_importance_df_corr.sort_values(by='Importance', ascending=False)\n",
    "\n",
    "# Select the top N features (e.g., top 10 features)\n",
    "top_features_corr = feature_importance_df_corr.head(200)\n",
    "\n",
    "top_features_corr"
   ]
  },
  {
   "cell_type": "code",
   "execution_count": 98,
   "metadata": {},
   "outputs": [
    {
     "data": {
      "application/vnd.plotly.v1+json": {
       "config": {
        "plotlyServerURL": "https://plot.ly"
       },
       "data": [
        {
         "customdata": [
          [
           1
          ],
          [
           2
          ],
          [
           3
          ],
          [
           4
          ],
          [
           5
          ],
          [
           6
          ],
          [
           7
          ],
          [
           8
          ],
          [
           9
          ],
          [
           10
          ],
          [
           11
          ],
          [
           12
          ],
          [
           13
          ],
          [
           14
          ],
          [
           15
          ],
          [
           16
          ],
          [
           17
          ],
          [
           18
          ],
          [
           19
          ],
          [
           20
          ],
          [
           21
          ],
          [
           22
          ],
          [
           23
          ],
          [
           24
          ],
          [
           25
          ],
          [
           26
          ],
          [
           27
          ],
          [
           28
          ],
          [
           29
          ],
          [
           30
          ],
          [
           32
          ],
          [
           33
          ],
          [
           34
          ],
          [
           35
          ],
          [
           36
          ],
          [
           37
          ],
          [
           38
          ],
          [
           39
          ],
          [
           40
          ],
          [
           41
          ],
          [
           42
          ],
          [
           43
          ],
          [
           44
          ],
          [
           45
          ],
          [
           46
          ],
          [
           47
          ],
          [
           48
          ],
          [
           49
          ],
          [
           50
          ],
          [
           51
          ],
          [
           52
          ],
          [
           53
          ],
          [
           54
          ],
          [
           55
          ],
          [
           56
          ],
          [
           57
          ],
          [
           58
          ],
          [
           59
          ],
          [
           60
          ],
          [
           61
          ],
          [
           62
          ],
          [
           63
          ],
          [
           64
          ],
          [
           65
          ],
          [
           66
          ],
          [
           67
          ],
          [
           68
          ],
          [
           69
          ],
          [
           70
          ],
          [
           71
          ],
          [
           72
          ],
          [
           73
          ],
          [
           74
          ],
          [
           75
          ],
          [
           76
          ],
          [
           77
          ],
          [
           78
          ],
          [
           79
          ],
          [
           80
          ],
          [
           81
          ],
          [
           82
          ],
          [
           83
          ],
          [
           84
          ],
          [
           85
          ],
          [
           86
          ],
          [
           87
          ],
          [
           88
          ],
          [
           89
          ],
          [
           90
          ],
          [
           91
          ],
          [
           92
          ],
          [
           93
          ],
          [
           94
          ],
          [
           95
          ],
          [
           96
          ],
          [
           97
          ],
          [
           98
          ],
          [
           99
          ],
          [
           100
          ],
          [
           101
          ],
          [
           102
          ],
          [
           103
          ],
          [
           104
          ],
          [
           105
          ],
          [
           106
          ],
          [
           107
          ],
          [
           108
          ],
          [
           109
          ],
          [
           110
          ],
          [
           111
          ],
          [
           112
          ],
          [
           113
          ],
          [
           114
          ],
          [
           115
          ],
          [
           116
          ],
          [
           117
          ],
          [
           118
          ],
          [
           119
          ],
          [
           120
          ],
          [
           121
          ],
          [
           122
          ],
          [
           123
          ],
          [
           124
          ],
          [
           125
          ]
         ],
         "hovertemplate": "Principal Component 1=%{x}<br>Principal Component 2=%{y}<br>Sensor ID=%{marker.color}<extra></extra>",
         "legendgroup": "",
         "marker": {
          "color": [
           1,
           2,
           3,
           4,
           5,
           6,
           7,
           8,
           9,
           10,
           11,
           12,
           13,
           14,
           15,
           16,
           17,
           18,
           19,
           20,
           21,
           22,
           23,
           24,
           25,
           26,
           27,
           28,
           29,
           30,
           32,
           33,
           34,
           35,
           36,
           37,
           38,
           39,
           40,
           41,
           42,
           43,
           44,
           45,
           46,
           47,
           48,
           49,
           50,
           51,
           52,
           53,
           54,
           55,
           56,
           57,
           58,
           59,
           60,
           61,
           62,
           63,
           64,
           65,
           66,
           67,
           68,
           69,
           70,
           71,
           72,
           73,
           74,
           75,
           76,
           77,
           78,
           79,
           80,
           81,
           82,
           83,
           84,
           85,
           86,
           87,
           88,
           89,
           90,
           91,
           92,
           93,
           94,
           95,
           96,
           97,
           98,
           99,
           100,
           101,
           102,
           103,
           104,
           105,
           106,
           107,
           108,
           109,
           110,
           111,
           112,
           113,
           114,
           115,
           116,
           117,
           118,
           119,
           120,
           121,
           122,
           123,
           124,
           125
          ],
          "coloraxis": "coloraxis",
          "symbol": "circle"
         },
         "mode": "markers",
         "name": "",
         "orientation": "v",
         "showlegend": false,
         "type": "scatter",
         "x": [
          -2691.3174568365994,
          -2589.0911499756335,
          -2680.9257258648577,
          -3369.614882862235,
          -3311.805908953,
          -3577.60100949425,
          -2588.015068360136,
          -3299.7006878341995,
          -3406.0707776947465,
          -3437.54862417529,
          -2612.298112553847,
          -2553.9544917451444,
          -3506.067639292301,
          -3222.3072913492306,
          -3287.3106230275225,
          -3529.281667236776,
          -3251.161565442915,
          -3368.2528190612975,
          -3291.394846519613,
          -2997.3882780291906,
          -3548.6725366250107,
          -3290.804348835735,
          -3353.950506662115,
          -3381.1112115610945,
          -3242.5445671399166,
          -3437.8070139773845,
          -3398.0090655961835,
          -3349.931356981143,
          -3454.498678890908,
          -3297.5529480125924,
          -3285.3564810559096,
          -3411.4666950130686,
          -3158.6050007766894,
          -2668.6739375077946,
          -2518.098061571237,
          -3428.463827351786,
          -3297.2734021959104,
          -2677.8645745270264,
          -2722.9834550209903,
          -3333.438651366146,
          -3466.799203417165,
          -2878.6606633153588,
          -2711.108780791738,
          -3258.20292476081,
          -3368.151887133099,
          -3470.433258724892,
          -3397.4994883959835,
          -3219.6302348145973,
          -3451.4280763209067,
          -3414.299050187616,
          -3425.2850404128144,
          -3326.0803984950912,
          -3415.0115461062833,
          -2635.879146893019,
          -3204.653334627924,
          62285.68846920942,
          -3416.680105843725,
          -2558.155134687963,
          -3337.394133947609,
          -3482.22879934768,
          -3424.193155995676,
          -3423.9726532319482,
          62327.94745828012,
          -3372.119360802147,
          -2651.7033542971462,
          -2476.846422253658,
          -3325.851340245217,
          -3464.3627364014505,
          -3286.068237017338,
          -3274.192384927436,
          -3394.0086026104077,
          -3304.5639465901004,
          -2634.178412045571,
          -3171.0556543438784,
          -3435.598529561471,
          -3223.552256303437,
          -3156.1252842122367,
          -3386.428593787141,
          -2661.265196201976,
          -3409.4609199827064,
          -2529.9430928235583,
          -3508.82615878386,
          -2745.339053173221,
          -3256.5204831343667,
          -3334.9688339620197,
          -3394.9860851119006,
          -3591.4970104770496,
          -2634.4056987732283,
          -3229.322774256249,
          -3470.3523513426358,
          -2553.763157569682,
          -3303.5130847016912,
          -3446.7110228128668,
          -3353.8477146253103,
          -3317.467799332621,
          -3393.2445849003707,
          -3282.742667057316,
          -2483.2907183041507,
          -3618.8689097546376,
          -2493.6762891543235,
          -3406.5209030405977,
          -3402.9894499027373,
          -2453.842399546166,
          -3249.107225624085,
          -2672.947646717709,
          -3296.4880856032496,
          -3290.3386758540323,
          62343.94061029473,
          -2500.399871754503,
          -3517.1853860384317,
          -3230.0824514573196,
          62396.3218536005,
          -3204.7541153956067,
          -2813.522253154471,
          -2872.0633172471576,
          -2679.321496922453,
          -3344.2701952169405,
          -2570.899236390458,
          -3407.8882925340113,
          62304.804735428595,
          -3522.5429458610556,
          -3341.8581769025136,
          62158.417263609976,
          -3355.467579196138
         ],
         "xaxis": "x",
         "y": [
          6689.700616133345,
          -260.10168131828766,
          -2160.4372162293357,
          5170.572333519808,
          -2119.5881204107245,
          2656.9364912507613,
          -683.8317855057694,
          -149.9784835606088,
          -604.7771666772395,
          1979.3060464193213,
          -202.4746769040016,
          250.05406580945507,
          2457.922489438422,
          -3673.9602503353426,
          330.5032598878603,
          -331.9726050949992,
          702.5734352392362,
          -221.25754288444534,
          -3159.905232455753,
          2622.092929234841,
          4740.569601139836,
          -2117.6370906079246,
          -4304.022817128984,
          2573.4197834680685,
          -4154.217684893759,
          -610.9654221666469,
          1667.5194564938677,
          -1179.837450491649,
          1713.834660114701,
          -2345.6892064891395,
          -3261.4935960775533,
          492.51514446029955,
          -2224.6049736007094,
          -472.1037117366517,
          -986.0262992556173,
          3771.617629812133,
          -1105.9503097192742,
          5790.188313310667,
          -171.7009243438292,
          3624.387469720037,
          772.4173729687319,
          5359.67016235663,
          -656.7859930357755,
          -3618.412815850246,
          2384.8486626476415,
          -147.03015091099522,
          -3047.0199563706146,
          -528.71998867816,
          -395.95398381603894,
          -1711.180717412449,
          -1004.2903833650271,
          344.1857220539026,
          -827.5219147660209,
          3844.1049768380435,
          -3362.8639040830076,
          -1109.4937353322653,
          -210.5769561597428,
          -2700.6280312470917,
          -403.3946735731919,
          -1899.7838969568961,
          -742.8848487863233,
          2645.999482962981,
          1021.11010732936,
          390.49909299568617,
          1026.7955538688636,
          -2327.655818103899,
          -2785.0500218134052,
          1506.3641150210688,
          930.1929350856097,
          544.9002755726384,
          -587.5471425365395,
          -1302.087889889793,
          1729.007693701009,
          -2340.890923792874,
          -3843.7003614585697,
          -545.5723719026299,
          -2498.140420841959,
          95.26951400681045,
          1649.4846220958796,
          -797.2524241118718,
          -11.22085115748718,
          3600.7108976005998,
          793.2462231798681,
          -1354.857740666101,
          630.3613390271937,
          -35.61577067798449,
          2563.8744100416575,
          2093.1542148412136,
          -3296.9285525781174,
          -126.763511306224,
          2045.919043259133,
          2618.478250599642,
          326.4649996432252,
          673.5224425864059,
          -3165.222548388376,
          -2575.4439951892687,
          -2080.4556446565857,
          -2781.022369644979,
          3892.435937177844,
          436.61892680432976,
          -1272.0105252919548,
          -1804.7292589865813,
          -28.44431070296102,
          -2533.4662257274654,
          438.9046666053787,
          430.19704230061063,
          -986.407170424701,
          -2329.251564692264,
          -4821.416766900624,
          5006.456985696109,
          -3601.402727790063,
          -1585.3723529823412,
          -636.2548887572367,
          3376.142031785655,
          6023.02973480782,
          571.2471025853134,
          -740.9983218458219,
          -1568.513915412486,
          1943.63363857711,
          -287.1392666928529,
          3245.102460831463,
          -3250.2668869050685,
          4297.626121347508,
          284.4882558055963
         ],
         "yaxis": "y"
        }
       ],
       "layout": {
        "coloraxis": {
         "colorbar": {
          "title": {
           "text": "Sensor ID"
          }
         },
         "colorscale": [
          [
           0,
           "#0d0887"
          ],
          [
           0.1111111111111111,
           "#46039f"
          ],
          [
           0.2222222222222222,
           "#7201a8"
          ],
          [
           0.3333333333333333,
           "#9c179e"
          ],
          [
           0.4444444444444444,
           "#bd3786"
          ],
          [
           0.5555555555555556,
           "#d8576b"
          ],
          [
           0.6666666666666666,
           "#ed7953"
          ],
          [
           0.7777777777777778,
           "#fb9f3a"
          ],
          [
           0.8888888888888888,
           "#fdca26"
          ],
          [
           1,
           "#f0f921"
          ]
         ]
        },
        "legend": {
         "tracegroupgap": 0
        },
        "template": {
         "data": {
          "bar": [
           {
            "error_x": {
             "color": "#2a3f5f"
            },
            "error_y": {
             "color": "#2a3f5f"
            },
            "marker": {
             "line": {
              "color": "#E5ECF6",
              "width": 0.5
             },
             "pattern": {
              "fillmode": "overlay",
              "size": 10,
              "solidity": 0.2
             }
            },
            "type": "bar"
           }
          ],
          "barpolar": [
           {
            "marker": {
             "line": {
              "color": "#E5ECF6",
              "width": 0.5
             },
             "pattern": {
              "fillmode": "overlay",
              "size": 10,
              "solidity": 0.2
             }
            },
            "type": "barpolar"
           }
          ],
          "carpet": [
           {
            "aaxis": {
             "endlinecolor": "#2a3f5f",
             "gridcolor": "white",
             "linecolor": "white",
             "minorgridcolor": "white",
             "startlinecolor": "#2a3f5f"
            },
            "baxis": {
             "endlinecolor": "#2a3f5f",
             "gridcolor": "white",
             "linecolor": "white",
             "minorgridcolor": "white",
             "startlinecolor": "#2a3f5f"
            },
            "type": "carpet"
           }
          ],
          "choropleth": [
           {
            "colorbar": {
             "outlinewidth": 0,
             "ticks": ""
            },
            "type": "choropleth"
           }
          ],
          "contour": [
           {
            "colorbar": {
             "outlinewidth": 0,
             "ticks": ""
            },
            "colorscale": [
             [
              0,
              "#0d0887"
             ],
             [
              0.1111111111111111,
              "#46039f"
             ],
             [
              0.2222222222222222,
              "#7201a8"
             ],
             [
              0.3333333333333333,
              "#9c179e"
             ],
             [
              0.4444444444444444,
              "#bd3786"
             ],
             [
              0.5555555555555556,
              "#d8576b"
             ],
             [
              0.6666666666666666,
              "#ed7953"
             ],
             [
              0.7777777777777778,
              "#fb9f3a"
             ],
             [
              0.8888888888888888,
              "#fdca26"
             ],
             [
              1,
              "#f0f921"
             ]
            ],
            "type": "contour"
           }
          ],
          "contourcarpet": [
           {
            "colorbar": {
             "outlinewidth": 0,
             "ticks": ""
            },
            "type": "contourcarpet"
           }
          ],
          "heatmap": [
           {
            "colorbar": {
             "outlinewidth": 0,
             "ticks": ""
            },
            "colorscale": [
             [
              0,
              "#0d0887"
             ],
             [
              0.1111111111111111,
              "#46039f"
             ],
             [
              0.2222222222222222,
              "#7201a8"
             ],
             [
              0.3333333333333333,
              "#9c179e"
             ],
             [
              0.4444444444444444,
              "#bd3786"
             ],
             [
              0.5555555555555556,
              "#d8576b"
             ],
             [
              0.6666666666666666,
              "#ed7953"
             ],
             [
              0.7777777777777778,
              "#fb9f3a"
             ],
             [
              0.8888888888888888,
              "#fdca26"
             ],
             [
              1,
              "#f0f921"
             ]
            ],
            "type": "heatmap"
           }
          ],
          "heatmapgl": [
           {
            "colorbar": {
             "outlinewidth": 0,
             "ticks": ""
            },
            "colorscale": [
             [
              0,
              "#0d0887"
             ],
             [
              0.1111111111111111,
              "#46039f"
             ],
             [
              0.2222222222222222,
              "#7201a8"
             ],
             [
              0.3333333333333333,
              "#9c179e"
             ],
             [
              0.4444444444444444,
              "#bd3786"
             ],
             [
              0.5555555555555556,
              "#d8576b"
             ],
             [
              0.6666666666666666,
              "#ed7953"
             ],
             [
              0.7777777777777778,
              "#fb9f3a"
             ],
             [
              0.8888888888888888,
              "#fdca26"
             ],
             [
              1,
              "#f0f921"
             ]
            ],
            "type": "heatmapgl"
           }
          ],
          "histogram": [
           {
            "marker": {
             "pattern": {
              "fillmode": "overlay",
              "size": 10,
              "solidity": 0.2
             }
            },
            "type": "histogram"
           }
          ],
          "histogram2d": [
           {
            "colorbar": {
             "outlinewidth": 0,
             "ticks": ""
            },
            "colorscale": [
             [
              0,
              "#0d0887"
             ],
             [
              0.1111111111111111,
              "#46039f"
             ],
             [
              0.2222222222222222,
              "#7201a8"
             ],
             [
              0.3333333333333333,
              "#9c179e"
             ],
             [
              0.4444444444444444,
              "#bd3786"
             ],
             [
              0.5555555555555556,
              "#d8576b"
             ],
             [
              0.6666666666666666,
              "#ed7953"
             ],
             [
              0.7777777777777778,
              "#fb9f3a"
             ],
             [
              0.8888888888888888,
              "#fdca26"
             ],
             [
              1,
              "#f0f921"
             ]
            ],
            "type": "histogram2d"
           }
          ],
          "histogram2dcontour": [
           {
            "colorbar": {
             "outlinewidth": 0,
             "ticks": ""
            },
            "colorscale": [
             [
              0,
              "#0d0887"
             ],
             [
              0.1111111111111111,
              "#46039f"
             ],
             [
              0.2222222222222222,
              "#7201a8"
             ],
             [
              0.3333333333333333,
              "#9c179e"
             ],
             [
              0.4444444444444444,
              "#bd3786"
             ],
             [
              0.5555555555555556,
              "#d8576b"
             ],
             [
              0.6666666666666666,
              "#ed7953"
             ],
             [
              0.7777777777777778,
              "#fb9f3a"
             ],
             [
              0.8888888888888888,
              "#fdca26"
             ],
             [
              1,
              "#f0f921"
             ]
            ],
            "type": "histogram2dcontour"
           }
          ],
          "mesh3d": [
           {
            "colorbar": {
             "outlinewidth": 0,
             "ticks": ""
            },
            "type": "mesh3d"
           }
          ],
          "parcoords": [
           {
            "line": {
             "colorbar": {
              "outlinewidth": 0,
              "ticks": ""
             }
            },
            "type": "parcoords"
           }
          ],
          "pie": [
           {
            "automargin": true,
            "type": "pie"
           }
          ],
          "scatter": [
           {
            "fillpattern": {
             "fillmode": "overlay",
             "size": 10,
             "solidity": 0.2
            },
            "type": "scatter"
           }
          ],
          "scatter3d": [
           {
            "line": {
             "colorbar": {
              "outlinewidth": 0,
              "ticks": ""
             }
            },
            "marker": {
             "colorbar": {
              "outlinewidth": 0,
              "ticks": ""
             }
            },
            "type": "scatter3d"
           }
          ],
          "scattercarpet": [
           {
            "marker": {
             "colorbar": {
              "outlinewidth": 0,
              "ticks": ""
             }
            },
            "type": "scattercarpet"
           }
          ],
          "scattergeo": [
           {
            "marker": {
             "colorbar": {
              "outlinewidth": 0,
              "ticks": ""
             }
            },
            "type": "scattergeo"
           }
          ],
          "scattergl": [
           {
            "marker": {
             "colorbar": {
              "outlinewidth": 0,
              "ticks": ""
             }
            },
            "type": "scattergl"
           }
          ],
          "scattermapbox": [
           {
            "marker": {
             "colorbar": {
              "outlinewidth": 0,
              "ticks": ""
             }
            },
            "type": "scattermapbox"
           }
          ],
          "scatterpolar": [
           {
            "marker": {
             "colorbar": {
              "outlinewidth": 0,
              "ticks": ""
             }
            },
            "type": "scatterpolar"
           }
          ],
          "scatterpolargl": [
           {
            "marker": {
             "colorbar": {
              "outlinewidth": 0,
              "ticks": ""
             }
            },
            "type": "scatterpolargl"
           }
          ],
          "scatterternary": [
           {
            "marker": {
             "colorbar": {
              "outlinewidth": 0,
              "ticks": ""
             }
            },
            "type": "scatterternary"
           }
          ],
          "surface": [
           {
            "colorbar": {
             "outlinewidth": 0,
             "ticks": ""
            },
            "colorscale": [
             [
              0,
              "#0d0887"
             ],
             [
              0.1111111111111111,
              "#46039f"
             ],
             [
              0.2222222222222222,
              "#7201a8"
             ],
             [
              0.3333333333333333,
              "#9c179e"
             ],
             [
              0.4444444444444444,
              "#bd3786"
             ],
             [
              0.5555555555555556,
              "#d8576b"
             ],
             [
              0.6666666666666666,
              "#ed7953"
             ],
             [
              0.7777777777777778,
              "#fb9f3a"
             ],
             [
              0.8888888888888888,
              "#fdca26"
             ],
             [
              1,
              "#f0f921"
             ]
            ],
            "type": "surface"
           }
          ],
          "table": [
           {
            "cells": {
             "fill": {
              "color": "#EBF0F8"
             },
             "line": {
              "color": "white"
             }
            },
            "header": {
             "fill": {
              "color": "#C8D4E3"
             },
             "line": {
              "color": "white"
             }
            },
            "type": "table"
           }
          ]
         },
         "layout": {
          "annotationdefaults": {
           "arrowcolor": "#2a3f5f",
           "arrowhead": 0,
           "arrowwidth": 1
          },
          "autotypenumbers": "strict",
          "coloraxis": {
           "colorbar": {
            "outlinewidth": 0,
            "ticks": ""
           }
          },
          "colorscale": {
           "diverging": [
            [
             0,
             "#8e0152"
            ],
            [
             0.1,
             "#c51b7d"
            ],
            [
             0.2,
             "#de77ae"
            ],
            [
             0.3,
             "#f1b6da"
            ],
            [
             0.4,
             "#fde0ef"
            ],
            [
             0.5,
             "#f7f7f7"
            ],
            [
             0.6,
             "#e6f5d0"
            ],
            [
             0.7,
             "#b8e186"
            ],
            [
             0.8,
             "#7fbc41"
            ],
            [
             0.9,
             "#4d9221"
            ],
            [
             1,
             "#276419"
            ]
           ],
           "sequential": [
            [
             0,
             "#0d0887"
            ],
            [
             0.1111111111111111,
             "#46039f"
            ],
            [
             0.2222222222222222,
             "#7201a8"
            ],
            [
             0.3333333333333333,
             "#9c179e"
            ],
            [
             0.4444444444444444,
             "#bd3786"
            ],
            [
             0.5555555555555556,
             "#d8576b"
            ],
            [
             0.6666666666666666,
             "#ed7953"
            ],
            [
             0.7777777777777778,
             "#fb9f3a"
            ],
            [
             0.8888888888888888,
             "#fdca26"
            ],
            [
             1,
             "#f0f921"
            ]
           ],
           "sequentialminus": [
            [
             0,
             "#0d0887"
            ],
            [
             0.1111111111111111,
             "#46039f"
            ],
            [
             0.2222222222222222,
             "#7201a8"
            ],
            [
             0.3333333333333333,
             "#9c179e"
            ],
            [
             0.4444444444444444,
             "#bd3786"
            ],
            [
             0.5555555555555556,
             "#d8576b"
            ],
            [
             0.6666666666666666,
             "#ed7953"
            ],
            [
             0.7777777777777778,
             "#fb9f3a"
            ],
            [
             0.8888888888888888,
             "#fdca26"
            ],
            [
             1,
             "#f0f921"
            ]
           ]
          },
          "colorway": [
           "#636efa",
           "#EF553B",
           "#00cc96",
           "#ab63fa",
           "#FFA15A",
           "#19d3f3",
           "#FF6692",
           "#B6E880",
           "#FF97FF",
           "#FECB52"
          ],
          "font": {
           "color": "#2a3f5f"
          },
          "geo": {
           "bgcolor": "white",
           "lakecolor": "white",
           "landcolor": "#E5ECF6",
           "showlakes": true,
           "showland": true,
           "subunitcolor": "white"
          },
          "hoverlabel": {
           "align": "left"
          },
          "hovermode": "closest",
          "mapbox": {
           "style": "light"
          },
          "paper_bgcolor": "white",
          "plot_bgcolor": "#E5ECF6",
          "polar": {
           "angularaxis": {
            "gridcolor": "white",
            "linecolor": "white",
            "ticks": ""
           },
           "bgcolor": "#E5ECF6",
           "radialaxis": {
            "gridcolor": "white",
            "linecolor": "white",
            "ticks": ""
           }
          },
          "scene": {
           "xaxis": {
            "backgroundcolor": "#E5ECF6",
            "gridcolor": "white",
            "gridwidth": 2,
            "linecolor": "white",
            "showbackground": true,
            "ticks": "",
            "zerolinecolor": "white"
           },
           "yaxis": {
            "backgroundcolor": "#E5ECF6",
            "gridcolor": "white",
            "gridwidth": 2,
            "linecolor": "white",
            "showbackground": true,
            "ticks": "",
            "zerolinecolor": "white"
           },
           "zaxis": {
            "backgroundcolor": "#E5ECF6",
            "gridcolor": "white",
            "gridwidth": 2,
            "linecolor": "white",
            "showbackground": true,
            "ticks": "",
            "zerolinecolor": "white"
           }
          },
          "shapedefaults": {
           "line": {
            "color": "#2a3f5f"
           }
          },
          "ternary": {
           "aaxis": {
            "gridcolor": "white",
            "linecolor": "white",
            "ticks": ""
           },
           "baxis": {
            "gridcolor": "white",
            "linecolor": "white",
            "ticks": ""
           },
           "bgcolor": "#E5ECF6",
           "caxis": {
            "gridcolor": "white",
            "linecolor": "white",
            "ticks": ""
           }
          },
          "title": {
           "x": 0.05
          },
          "xaxis": {
           "automargin": true,
           "gridcolor": "white",
           "linecolor": "white",
           "ticks": "",
           "title": {
            "standoff": 15
           },
           "zerolinecolor": "white",
           "zerolinewidth": 2
          },
          "yaxis": {
           "automargin": true,
           "gridcolor": "white",
           "linecolor": "white",
           "ticks": "",
           "title": {
            "standoff": 15
           },
           "zerolinecolor": "white",
           "zerolinewidth": 2
          }
         }
        },
        "title": {
         "text": "Sensors Visualized Using Principal Components"
        },
        "xaxis": {
         "anchor": "y",
         "domain": [
          0,
          1
         ],
         "title": {
          "text": "Principal Component 1"
         }
        },
        "yaxis": {
         "anchor": "x",
         "domain": [
          0,
          1
         ],
         "title": {
          "text": "Principal Component 2"
         }
        }
       }
      }
     },
     "metadata": {},
     "output_type": "display_data"
    }
   ],
   "source": [
    "# Plot the PCA interactive plot\n",
    "plot_pca_interactive(reduced_data_corr, sensor_id_col='Sensor ID', n_components=2)"
   ]
  },
  {
   "cell_type": "markdown",
   "metadata": {},
   "source": [
    "## Clustering"
   ]
  },
  {
   "cell_type": "code",
   "execution_count": 99,
   "metadata": {},
   "outputs": [
    {
     "name": "stderr",
     "output_type": "stream",
     "text": [
      "/Users/jihoonchung/anaconda3/envs/datascience/lib/python3.10/site-packages/sklearn/cluster/_kmeans.py:1412: FutureWarning:\n",
      "\n",
      "The default value of `n_init` will change from 10 to 'auto' in 1.4. Set the value of `n_init` explicitly to suppress the warning\n",
      "\n"
     ]
    },
    {
     "data": {
      "application/vnd.plotly.v1+json": {
       "config": {
        "plotlyServerURL": "https://plot.ly"
       },
       "data": [
        {
         "customdata": [
          [
           1
          ]
         ],
         "hovertemplate": "Sensor ID=%{customdata[0]}<br>Principal Component 1=%{x}<br>Principal Component 2=%{y}<br>Principal Component 3=%{z}<br>Cluster=%{marker.color}<extra></extra>",
         "legendgroup": "1",
         "marker": {
          "color": [
           2
          ],
          "coloraxis": "coloraxis",
          "symbol": "circle"
         },
         "mode": "markers",
         "name": "1",
         "scene": "scene",
         "showlegend": true,
         "type": "scatter3d",
         "x": [
          -2691.3174568365994
         ],
         "y": [
          6689.700616133345
         ],
         "z": [
          -1133.5047511823834
         ]
        },
        {
         "customdata": [
          [
           2
          ]
         ],
         "hovertemplate": "Sensor ID=%{customdata[0]}<br>Principal Component 1=%{x}<br>Principal Component 2=%{y}<br>Principal Component 3=%{z}<br>Cluster=%{marker.color}<extra></extra>",
         "legendgroup": "2",
         "marker": {
          "color": [
           0
          ],
          "coloraxis": "coloraxis",
          "symbol": "diamond"
         },
         "mode": "markers",
         "name": "2",
         "scene": "scene",
         "showlegend": true,
         "type": "scatter3d",
         "x": [
          -2589.0911499756335
         ],
         "y": [
          -260.10168131828766
         ],
         "z": [
          1173.7243498494977
         ]
        },
        {
         "customdata": [
          [
           3
          ]
         ],
         "hovertemplate": "Sensor ID=%{customdata[0]}<br>Principal Component 1=%{x}<br>Principal Component 2=%{y}<br>Principal Component 3=%{z}<br>Cluster=%{marker.color}<extra></extra>",
         "legendgroup": "3",
         "marker": {
          "color": [
           3
          ],
          "coloraxis": "coloraxis",
          "symbol": "square"
         },
         "mode": "markers",
         "name": "3",
         "scene": "scene",
         "showlegend": true,
         "type": "scatter3d",
         "x": [
          -2680.9257258648577
         ],
         "y": [
          -2160.4372162293357
         ],
         "z": [
          -3233.066782968309
         ]
        },
        {
         "customdata": [
          [
           4
          ]
         ],
         "hovertemplate": "Sensor ID=%{customdata[0]}<br>Principal Component 1=%{x}<br>Principal Component 2=%{y}<br>Principal Component 3=%{z}<br>Cluster=%{marker.color}<extra></extra>",
         "legendgroup": "4",
         "marker": {
          "color": [
           2
          ],
          "coloraxis": "coloraxis",
          "symbol": "x"
         },
         "mode": "markers",
         "name": "4",
         "scene": "scene",
         "showlegend": true,
         "type": "scatter3d",
         "x": [
          -3369.614882862235
         ],
         "y": [
          5170.572333519808
         ],
         "z": [
          2097.268845113394
         ]
        },
        {
         "customdata": [
          [
           5
          ]
         ],
         "hovertemplate": "Sensor ID=%{customdata[0]}<br>Principal Component 1=%{x}<br>Principal Component 2=%{y}<br>Principal Component 3=%{z}<br>Cluster=%{marker.color}<extra></extra>",
         "legendgroup": "5",
         "marker": {
          "color": [
           0
          ],
          "coloraxis": "coloraxis",
          "symbol": "cross"
         },
         "mode": "markers",
         "name": "5",
         "scene": "scene",
         "showlegend": true,
         "type": "scatter3d",
         "x": [
          -3311.805908953
         ],
         "y": [
          -2119.5881204107245
         ],
         "z": [
          1027.9692938973049
         ]
        },
        {
         "customdata": [
          [
           6
          ]
         ],
         "hovertemplate": "Sensor ID=%{customdata[0]}<br>Principal Component 1=%{x}<br>Principal Component 2=%{y}<br>Principal Component 3=%{z}<br>Cluster=%{marker.color}<extra></extra>",
         "legendgroup": "6",
         "marker": {
          "color": [
           2
          ],
          "coloraxis": "coloraxis",
          "symbol": "circle"
         },
         "mode": "markers",
         "name": "6",
         "scene": "scene",
         "showlegend": true,
         "type": "scatter3d",
         "x": [
          -3577.60100949425
         ],
         "y": [
          2656.9364912507613
         ],
         "z": [
          -4132.487552084609
         ]
        },
        {
         "customdata": [
          [
           7
          ]
         ],
         "hovertemplate": "Sensor ID=%{customdata[0]}<br>Principal Component 1=%{x}<br>Principal Component 2=%{y}<br>Principal Component 3=%{z}<br>Cluster=%{marker.color}<extra></extra>",
         "legendgroup": "7",
         "marker": {
          "color": [
           0
          ],
          "coloraxis": "coloraxis",
          "symbol": "diamond"
         },
         "mode": "markers",
         "name": "7",
         "scene": "scene",
         "showlegend": true,
         "type": "scatter3d",
         "x": [
          -2588.015068360136
         ],
         "y": [
          -683.8317855057694
         ],
         "z": [
          1683.3892367553856
         ]
        },
        {
         "customdata": [
          [
           8
          ]
         ],
         "hovertemplate": "Sensor ID=%{customdata[0]}<br>Principal Component 1=%{x}<br>Principal Component 2=%{y}<br>Principal Component 3=%{z}<br>Cluster=%{marker.color}<extra></extra>",
         "legendgroup": "8",
         "marker": {
          "color": [
           0
          ],
          "coloraxis": "coloraxis",
          "symbol": "square"
         },
         "mode": "markers",
         "name": "8",
         "scene": "scene",
         "showlegend": true,
         "type": "scatter3d",
         "x": [
          -3299.7006878341995
         ],
         "y": [
          -149.9784835606088
         ],
         "z": [
          3901.8431818867807
         ]
        },
        {
         "customdata": [
          [
           9
          ]
         ],
         "hovertemplate": "Sensor ID=%{customdata[0]}<br>Principal Component 1=%{x}<br>Principal Component 2=%{y}<br>Principal Component 3=%{z}<br>Cluster=%{marker.color}<extra></extra>",
         "legendgroup": "9",
         "marker": {
          "color": [
           0
          ],
          "coloraxis": "coloraxis",
          "symbol": "x"
         },
         "mode": "markers",
         "name": "9",
         "scene": "scene",
         "showlegend": true,
         "type": "scatter3d",
         "x": [
          -3406.0707776947465
         ],
         "y": [
          -604.7771666772395
         ],
         "z": [
          505.8746176729711
         ]
        },
        {
         "customdata": [
          [
           10
          ]
         ],
         "hovertemplate": "Sensor ID=%{customdata[0]}<br>Principal Component 1=%{x}<br>Principal Component 2=%{y}<br>Principal Component 3=%{z}<br>Cluster=%{marker.color}<extra></extra>",
         "legendgroup": "10",
         "marker": {
          "color": [
           2
          ],
          "coloraxis": "coloraxis",
          "symbol": "cross"
         },
         "mode": "markers",
         "name": "10",
         "scene": "scene",
         "showlegend": true,
         "type": "scatter3d",
         "x": [
          -3437.54862417529
         ],
         "y": [
          1979.3060464193213
         ],
         "z": [
          286.69777990077955
         ]
        },
        {
         "customdata": [
          [
           11
          ]
         ],
         "hovertemplate": "Sensor ID=%{customdata[0]}<br>Principal Component 1=%{x}<br>Principal Component 2=%{y}<br>Principal Component 3=%{z}<br>Cluster=%{marker.color}<extra></extra>",
         "legendgroup": "11",
         "marker": {
          "color": [
           0
          ],
          "coloraxis": "coloraxis",
          "symbol": "circle"
         },
         "mode": "markers",
         "name": "11",
         "scene": "scene",
         "showlegend": true,
         "type": "scatter3d",
         "x": [
          -2612.298112553847
         ],
         "y": [
          -202.4746769040016
         ],
         "z": [
          1361.1188571750797
         ]
        },
        {
         "customdata": [
          [
           12
          ]
         ],
         "hovertemplate": "Sensor ID=%{customdata[0]}<br>Principal Component 1=%{x}<br>Principal Component 2=%{y}<br>Principal Component 3=%{z}<br>Cluster=%{marker.color}<extra></extra>",
         "legendgroup": "12",
         "marker": {
          "color": [
           0
          ],
          "coloraxis": "coloraxis",
          "symbol": "diamond"
         },
         "mode": "markers",
         "name": "12",
         "scene": "scene",
         "showlegend": true,
         "type": "scatter3d",
         "x": [
          -2553.9544917451444
         ],
         "y": [
          250.05406580945507
         ],
         "z": [
          1377.2122760327388
         ]
        },
        {
         "customdata": [
          [
           13
          ]
         ],
         "hovertemplate": "Sensor ID=%{customdata[0]}<br>Principal Component 1=%{x}<br>Principal Component 2=%{y}<br>Principal Component 3=%{z}<br>Cluster=%{marker.color}<extra></extra>",
         "legendgroup": "13",
         "marker": {
          "color": [
           2
          ],
          "coloraxis": "coloraxis",
          "symbol": "square"
         },
         "mode": "markers",
         "name": "13",
         "scene": "scene",
         "showlegend": true,
         "type": "scatter3d",
         "x": [
          -3506.067639292301
         ],
         "y": [
          2457.922489438422
         ],
         "z": [
          1888.9234174752437
         ]
        },
        {
         "customdata": [
          [
           14
          ]
         ],
         "hovertemplate": "Sensor ID=%{customdata[0]}<br>Principal Component 1=%{x}<br>Principal Component 2=%{y}<br>Principal Component 3=%{z}<br>Cluster=%{marker.color}<extra></extra>",
         "legendgroup": "14",
         "marker": {
          "color": [
           0
          ],
          "coloraxis": "coloraxis",
          "symbol": "x"
         },
         "mode": "markers",
         "name": "14",
         "scene": "scene",
         "showlegend": true,
         "type": "scatter3d",
         "x": [
          -3222.3072913492306
         ],
         "y": [
          -3673.9602503353426
         ],
         "z": [
          -133.47502202808909
         ]
        },
        {
         "customdata": [
          [
           15
          ]
         ],
         "hovertemplate": "Sensor ID=%{customdata[0]}<br>Principal Component 1=%{x}<br>Principal Component 2=%{y}<br>Principal Component 3=%{z}<br>Cluster=%{marker.color}<extra></extra>",
         "legendgroup": "15",
         "marker": {
          "color": [
           0
          ],
          "coloraxis": "coloraxis",
          "symbol": "cross"
         },
         "mode": "markers",
         "name": "15",
         "scene": "scene",
         "showlegend": true,
         "type": "scatter3d",
         "x": [
          -3287.3106230275225
         ],
         "y": [
          330.5032598878603
         ],
         "z": [
          1045.225390863934
         ]
        },
        {
         "customdata": [
          [
           16
          ]
         ],
         "hovertemplate": "Sensor ID=%{customdata[0]}<br>Principal Component 1=%{x}<br>Principal Component 2=%{y}<br>Principal Component 3=%{z}<br>Cluster=%{marker.color}<extra></extra>",
         "legendgroup": "16",
         "marker": {
          "color": [
           0
          ],
          "coloraxis": "coloraxis",
          "symbol": "circle"
         },
         "mode": "markers",
         "name": "16",
         "scene": "scene",
         "showlegend": true,
         "type": "scatter3d",
         "x": [
          -3529.281667236776
         ],
         "y": [
          -331.9726050949992
         ],
         "z": [
          789.7794166772915
         ]
        },
        {
         "customdata": [
          [
           17
          ]
         ],
         "hovertemplate": "Sensor ID=%{customdata[0]}<br>Principal Component 1=%{x}<br>Principal Component 2=%{y}<br>Principal Component 3=%{z}<br>Cluster=%{marker.color}<extra></extra>",
         "legendgroup": "17",
         "marker": {
          "color": [
           0
          ],
          "coloraxis": "coloraxis",
          "symbol": "diamond"
         },
         "mode": "markers",
         "name": "17",
         "scene": "scene",
         "showlegend": true,
         "type": "scatter3d",
         "x": [
          -3251.161565442915
         ],
         "y": [
          702.5734352392362
         ],
         "z": [
          372.2281259060827
         ]
        },
        {
         "customdata": [
          [
           18
          ]
         ],
         "hovertemplate": "Sensor ID=%{customdata[0]}<br>Principal Component 1=%{x}<br>Principal Component 2=%{y}<br>Principal Component 3=%{z}<br>Cluster=%{marker.color}<extra></extra>",
         "legendgroup": "18",
         "marker": {
          "color": [
           3
          ],
          "coloraxis": "coloraxis",
          "symbol": "square"
         },
         "mode": "markers",
         "name": "18",
         "scene": "scene",
         "showlegend": true,
         "type": "scatter3d",
         "x": [
          -3368.2528190612975
         ],
         "y": [
          -221.25754288444534
         ],
         "z": [
          -3109.4973862446773
         ]
        },
        {
         "customdata": [
          [
           19
          ]
         ],
         "hovertemplate": "Sensor ID=%{customdata[0]}<br>Principal Component 1=%{x}<br>Principal Component 2=%{y}<br>Principal Component 3=%{z}<br>Cluster=%{marker.color}<extra></extra>",
         "legendgroup": "19",
         "marker": {
          "color": [
           0
          ],
          "coloraxis": "coloraxis",
          "symbol": "x"
         },
         "mode": "markers",
         "name": "19",
         "scene": "scene",
         "showlegend": true,
         "type": "scatter3d",
         "x": [
          -3291.394846519613
         ],
         "y": [
          -3159.905232455753
         ],
         "z": [
          1746.1917447926396
         ]
        },
        {
         "customdata": [
          [
           20
          ]
         ],
         "hovertemplate": "Sensor ID=%{customdata[0]}<br>Principal Component 1=%{x}<br>Principal Component 2=%{y}<br>Principal Component 3=%{z}<br>Cluster=%{marker.color}<extra></extra>",
         "legendgroup": "20",
         "marker": {
          "color": [
           2
          ],
          "coloraxis": "coloraxis",
          "symbol": "cross"
         },
         "mode": "markers",
         "name": "20",
         "scene": "scene",
         "showlegend": true,
         "type": "scatter3d",
         "x": [
          -2997.3882780291906
         ],
         "y": [
          2622.092929234841
         ],
         "z": [
          673.0213567431239
         ]
        },
        {
         "customdata": [
          [
           21
          ]
         ],
         "hovertemplate": "Sensor ID=%{customdata[0]}<br>Principal Component 1=%{x}<br>Principal Component 2=%{y}<br>Principal Component 3=%{z}<br>Cluster=%{marker.color}<extra></extra>",
         "legendgroup": "21",
         "marker": {
          "color": [
           2
          ],
          "coloraxis": "coloraxis",
          "symbol": "circle"
         },
         "mode": "markers",
         "name": "21",
         "scene": "scene",
         "showlegend": true,
         "type": "scatter3d",
         "x": [
          -3548.6725366250107
         ],
         "y": [
          4740.569601139836
         ],
         "z": [
          3936.0485605948606
         ]
        },
        {
         "customdata": [
          [
           22
          ]
         ],
         "hovertemplate": "Sensor ID=%{customdata[0]}<br>Principal Component 1=%{x}<br>Principal Component 2=%{y}<br>Principal Component 3=%{z}<br>Cluster=%{marker.color}<extra></extra>",
         "legendgroup": "22",
         "marker": {
          "color": [
           3
          ],
          "coloraxis": "coloraxis",
          "symbol": "diamond"
         },
         "mode": "markers",
         "name": "22",
         "scene": "scene",
         "showlegend": true,
         "type": "scatter3d",
         "x": [
          -3290.804348835735
         ],
         "y": [
          -2117.6370906079246
         ],
         "z": [
          -994.5152593129393
         ]
        },
        {
         "customdata": [
          [
           23
          ]
         ],
         "hovertemplate": "Sensor ID=%{customdata[0]}<br>Principal Component 1=%{x}<br>Principal Component 2=%{y}<br>Principal Component 3=%{z}<br>Cluster=%{marker.color}<extra></extra>",
         "legendgroup": "23",
         "marker": {
          "color": [
           0
          ],
          "coloraxis": "coloraxis",
          "symbol": "square"
         },
         "mode": "markers",
         "name": "23",
         "scene": "scene",
         "showlegend": true,
         "type": "scatter3d",
         "x": [
          -3353.950506662115
         ],
         "y": [
          -4304.022817128984
         ],
         "z": [
          667.3756688820708
         ]
        },
        {
         "customdata": [
          [
           24
          ]
         ],
         "hovertemplate": "Sensor ID=%{customdata[0]}<br>Principal Component 1=%{x}<br>Principal Component 2=%{y}<br>Principal Component 3=%{z}<br>Cluster=%{marker.color}<extra></extra>",
         "legendgroup": "24",
         "marker": {
          "color": [
           2
          ],
          "coloraxis": "coloraxis",
          "symbol": "x"
         },
         "mode": "markers",
         "name": "24",
         "scene": "scene",
         "showlegend": true,
         "type": "scatter3d",
         "x": [
          -3381.1112115610945
         ],
         "y": [
          2573.4197834680685
         ],
         "z": [
          2151.15213575051
         ]
        },
        {
         "customdata": [
          [
           25
          ]
         ],
         "hovertemplate": "Sensor ID=%{customdata[0]}<br>Principal Component 1=%{x}<br>Principal Component 2=%{y}<br>Principal Component 3=%{z}<br>Cluster=%{marker.color}<extra></extra>",
         "legendgroup": "25",
         "marker": {
          "color": [
           0
          ],
          "coloraxis": "coloraxis",
          "symbol": "cross"
         },
         "mode": "markers",
         "name": "25",
         "scene": "scene",
         "showlegend": true,
         "type": "scatter3d",
         "x": [
          -3242.5445671399166
         ],
         "y": [
          -4154.217684893759
         ],
         "z": [
          845.7472612113538
         ]
        },
        {
         "customdata": [
          [
           26
          ]
         ],
         "hovertemplate": "Sensor ID=%{customdata[0]}<br>Principal Component 1=%{x}<br>Principal Component 2=%{y}<br>Principal Component 3=%{z}<br>Cluster=%{marker.color}<extra></extra>",
         "legendgroup": "26",
         "marker": {
          "color": [
           3
          ],
          "coloraxis": "coloraxis",
          "symbol": "circle"
         },
         "mode": "markers",
         "name": "26",
         "scene": "scene",
         "showlegend": true,
         "type": "scatter3d",
         "x": [
          -3437.8070139773845
         ],
         "y": [
          -610.9654221666469
         ],
         "z": [
          -2995.648975340541
         ]
        },
        {
         "customdata": [
          [
           27
          ]
         ],
         "hovertemplate": "Sensor ID=%{customdata[0]}<br>Principal Component 1=%{x}<br>Principal Component 2=%{y}<br>Principal Component 3=%{z}<br>Cluster=%{marker.color}<extra></extra>",
         "legendgroup": "27",
         "marker": {
          "color": [
           2
          ],
          "coloraxis": "coloraxis",
          "symbol": "diamond"
         },
         "mode": "markers",
         "name": "27",
         "scene": "scene",
         "showlegend": true,
         "type": "scatter3d",
         "x": [
          -3398.0090655961835
         ],
         "y": [
          1667.5194564938677
         ],
         "z": [
          528.6189978534304
         ]
        },
        {
         "customdata": [
          [
           28
          ]
         ],
         "hovertemplate": "Sensor ID=%{customdata[0]}<br>Principal Component 1=%{x}<br>Principal Component 2=%{y}<br>Principal Component 3=%{z}<br>Cluster=%{marker.color}<extra></extra>",
         "legendgroup": "28",
         "marker": {
          "color": [
           0
          ],
          "coloraxis": "coloraxis",
          "symbol": "square"
         },
         "mode": "markers",
         "name": "28",
         "scene": "scene",
         "showlegend": true,
         "type": "scatter3d",
         "x": [
          -3349.931356981143
         ],
         "y": [
          -1179.837450491649
         ],
         "z": [
          618.6491821562602
         ]
        },
        {
         "customdata": [
          [
           29
          ]
         ],
         "hovertemplate": "Sensor ID=%{customdata[0]}<br>Principal Component 1=%{x}<br>Principal Component 2=%{y}<br>Principal Component 3=%{z}<br>Cluster=%{marker.color}<extra></extra>",
         "legendgroup": "29",
         "marker": {
          "color": [
           2
          ],
          "coloraxis": "coloraxis",
          "symbol": "x"
         },
         "mode": "markers",
         "name": "29",
         "scene": "scene",
         "showlegend": true,
         "type": "scatter3d",
         "x": [
          -3454.498678890908
         ],
         "y": [
          1713.834660114701
         ],
         "z": [
          -2300.1745882149303
         ]
        },
        {
         "customdata": [
          [
           30
          ]
         ],
         "hovertemplate": "Sensor ID=%{customdata[0]}<br>Principal Component 1=%{x}<br>Principal Component 2=%{y}<br>Principal Component 3=%{z}<br>Cluster=%{marker.color}<extra></extra>",
         "legendgroup": "30",
         "marker": {
          "color": [
           3
          ],
          "coloraxis": "coloraxis",
          "symbol": "cross"
         },
         "mode": "markers",
         "name": "30",
         "scene": "scene",
         "showlegend": true,
         "type": "scatter3d",
         "x": [
          -3297.5529480125924
         ],
         "y": [
          -2345.6892064891395
         ],
         "z": [
          -2819.643457915812
         ]
        },
        {
         "customdata": [
          [
           32
          ]
         ],
         "hovertemplate": "Sensor ID=%{customdata[0]}<br>Principal Component 1=%{x}<br>Principal Component 2=%{y}<br>Principal Component 3=%{z}<br>Cluster=%{marker.color}<extra></extra>",
         "legendgroup": "32",
         "marker": {
          "color": [
           3
          ],
          "coloraxis": "coloraxis",
          "symbol": "circle"
         },
         "mode": "markers",
         "name": "32",
         "scene": "scene",
         "showlegend": true,
         "type": "scatter3d",
         "x": [
          -3285.3564810559096
         ],
         "y": [
          -3261.4935960775533
         ],
         "z": [
          -2256.210118858142
         ]
        },
        {
         "customdata": [
          [
           33
          ]
         ],
         "hovertemplate": "Sensor ID=%{customdata[0]}<br>Principal Component 1=%{x}<br>Principal Component 2=%{y}<br>Principal Component 3=%{z}<br>Cluster=%{marker.color}<extra></extra>",
         "legendgroup": "33",
         "marker": {
          "color": [
           0
          ],
          "coloraxis": "coloraxis",
          "symbol": "diamond"
         },
         "mode": "markers",
         "name": "33",
         "scene": "scene",
         "showlegend": true,
         "type": "scatter3d",
         "x": [
          -3411.4666950130686
         ],
         "y": [
          492.51514446029955
         ],
         "z": [
          3049.344050887901
         ]
        },
        {
         "customdata": [
          [
           34
          ]
         ],
         "hovertemplate": "Sensor ID=%{customdata[0]}<br>Principal Component 1=%{x}<br>Principal Component 2=%{y}<br>Principal Component 3=%{z}<br>Cluster=%{marker.color}<extra></extra>",
         "legendgroup": "34",
         "marker": {
          "color": [
           0
          ],
          "coloraxis": "coloraxis",
          "symbol": "square"
         },
         "mode": "markers",
         "name": "34",
         "scene": "scene",
         "showlegend": true,
         "type": "scatter3d",
         "x": [
          -3158.6050007766894
         ],
         "y": [
          -2224.6049736007094
         ],
         "z": [
          1396.0870644403826
         ]
        },
        {
         "customdata": [
          [
           35
          ]
         ],
         "hovertemplate": "Sensor ID=%{customdata[0]}<br>Principal Component 1=%{x}<br>Principal Component 2=%{y}<br>Principal Component 3=%{z}<br>Cluster=%{marker.color}<extra></extra>",
         "legendgroup": "35",
         "marker": {
          "color": [
           3
          ],
          "coloraxis": "coloraxis",
          "symbol": "x"
         },
         "mode": "markers",
         "name": "35",
         "scene": "scene",
         "showlegend": true,
         "type": "scatter3d",
         "x": [
          -2668.6739375077946
         ],
         "y": [
          -472.1037117366517
         ],
         "z": [
          -4089.343575290888
         ]
        },
        {
         "customdata": [
          [
           36
          ]
         ],
         "hovertemplate": "Sensor ID=%{customdata[0]}<br>Principal Component 1=%{x}<br>Principal Component 2=%{y}<br>Principal Component 3=%{z}<br>Cluster=%{marker.color}<extra></extra>",
         "legendgroup": "36",
         "marker": {
          "color": [
           3
          ],
          "coloraxis": "coloraxis",
          "symbol": "cross"
         },
         "mode": "markers",
         "name": "36",
         "scene": "scene",
         "showlegend": true,
         "type": "scatter3d",
         "x": [
          -2518.098061571237
         ],
         "y": [
          -986.0262992556173
         ],
         "z": [
          -1678.7220404275472
         ]
        },
        {
         "customdata": [
          [
           37
          ]
         ],
         "hovertemplate": "Sensor ID=%{customdata[0]}<br>Principal Component 1=%{x}<br>Principal Component 2=%{y}<br>Principal Component 3=%{z}<br>Cluster=%{marker.color}<extra></extra>",
         "legendgroup": "37",
         "marker": {
          "color": [
           2
          ],
          "coloraxis": "coloraxis",
          "symbol": "circle"
         },
         "mode": "markers",
         "name": "37",
         "scene": "scene",
         "showlegend": true,
         "type": "scatter3d",
         "x": [
          -3428.463827351786
         ],
         "y": [
          3771.617629812133
         ],
         "z": [
          1337.2945686190333
         ]
        },
        {
         "customdata": [
          [
           38
          ]
         ],
         "hovertemplate": "Sensor ID=%{customdata[0]}<br>Principal Component 1=%{x}<br>Principal Component 2=%{y}<br>Principal Component 3=%{z}<br>Cluster=%{marker.color}<extra></extra>",
         "legendgroup": "38",
         "marker": {
          "color": [
           0
          ],
          "coloraxis": "coloraxis",
          "symbol": "diamond"
         },
         "mode": "markers",
         "name": "38",
         "scene": "scene",
         "showlegend": true,
         "type": "scatter3d",
         "x": [
          -3297.2734021959104
         ],
         "y": [
          -1105.9503097192742
         ],
         "z": [
          1107.2540607903832
         ]
        },
        {
         "customdata": [
          [
           39
          ]
         ],
         "hovertemplate": "Sensor ID=%{customdata[0]}<br>Principal Component 1=%{x}<br>Principal Component 2=%{y}<br>Principal Component 3=%{z}<br>Cluster=%{marker.color}<extra></extra>",
         "legendgroup": "39",
         "marker": {
          "color": [
           2
          ],
          "coloraxis": "coloraxis",
          "symbol": "square"
         },
         "mode": "markers",
         "name": "39",
         "scene": "scene",
         "showlegend": true,
         "type": "scatter3d",
         "x": [
          -2677.8645745270264
         ],
         "y": [
          5790.188313310667
         ],
         "z": [
          3368.113886410401
         ]
        },
        {
         "customdata": [
          [
           40
          ]
         ],
         "hovertemplate": "Sensor ID=%{customdata[0]}<br>Principal Component 1=%{x}<br>Principal Component 2=%{y}<br>Principal Component 3=%{z}<br>Cluster=%{marker.color}<extra></extra>",
         "legendgroup": "40",
         "marker": {
          "color": [
           0
          ],
          "coloraxis": "coloraxis",
          "symbol": "x"
         },
         "mode": "markers",
         "name": "40",
         "scene": "scene",
         "showlegend": true,
         "type": "scatter3d",
         "x": [
          -2722.9834550209903
         ],
         "y": [
          -171.7009243438292
         ],
         "z": [
          -363.8949040616631
         ]
        },
        {
         "customdata": [
          [
           41
          ]
         ],
         "hovertemplate": "Sensor ID=%{customdata[0]}<br>Principal Component 1=%{x}<br>Principal Component 2=%{y}<br>Principal Component 3=%{z}<br>Cluster=%{marker.color}<extra></extra>",
         "legendgroup": "41",
         "marker": {
          "color": [
           2
          ],
          "coloraxis": "coloraxis",
          "symbol": "cross"
         },
         "mode": "markers",
         "name": "41",
         "scene": "scene",
         "showlegend": true,
         "type": "scatter3d",
         "x": [
          -3333.438651366146
         ],
         "y": [
          3624.387469720037
         ],
         "z": [
          378.9107088873665
         ]
        },
        {
         "customdata": [
          [
           42
          ]
         ],
         "hovertemplate": "Sensor ID=%{customdata[0]}<br>Principal Component 1=%{x}<br>Principal Component 2=%{y}<br>Principal Component 3=%{z}<br>Cluster=%{marker.color}<extra></extra>",
         "legendgroup": "42",
         "marker": {
          "color": [
           0
          ],
          "coloraxis": "coloraxis",
          "symbol": "circle"
         },
         "mode": "markers",
         "name": "42",
         "scene": "scene",
         "showlegend": true,
         "type": "scatter3d",
         "x": [
          -3466.799203417165
         ],
         "y": [
          772.4173729687319
         ],
         "z": [
          843.3289435855667
         ]
        },
        {
         "customdata": [
          [
           43
          ]
         ],
         "hovertemplate": "Sensor ID=%{customdata[0]}<br>Principal Component 1=%{x}<br>Principal Component 2=%{y}<br>Principal Component 3=%{z}<br>Cluster=%{marker.color}<extra></extra>",
         "legendgroup": "43",
         "marker": {
          "color": [
           2
          ],
          "coloraxis": "coloraxis",
          "symbol": "diamond"
         },
         "mode": "markers",
         "name": "43",
         "scene": "scene",
         "showlegend": true,
         "type": "scatter3d",
         "x": [
          -2878.6606633153588
         ],
         "y": [
          5359.67016235663
         ],
         "z": [
          -2254.9966390868844
         ]
        },
        {
         "customdata": [
          [
           44
          ]
         ],
         "hovertemplate": "Sensor ID=%{customdata[0]}<br>Principal Component 1=%{x}<br>Principal Component 2=%{y}<br>Principal Component 3=%{z}<br>Cluster=%{marker.color}<extra></extra>",
         "legendgroup": "44",
         "marker": {
          "color": [
           3
          ],
          "coloraxis": "coloraxis",
          "symbol": "square"
         },
         "mode": "markers",
         "name": "44",
         "scene": "scene",
         "showlegend": true,
         "type": "scatter3d",
         "x": [
          -2711.108780791738
         ],
         "y": [
          -656.7859930357755
         ],
         "z": [
          -3542.2919870671726
         ]
        },
        {
         "customdata": [
          [
           45
          ]
         ],
         "hovertemplate": "Sensor ID=%{customdata[0]}<br>Principal Component 1=%{x}<br>Principal Component 2=%{y}<br>Principal Component 3=%{z}<br>Cluster=%{marker.color}<extra></extra>",
         "legendgroup": "45",
         "marker": {
          "color": [
           3
          ],
          "coloraxis": "coloraxis",
          "symbol": "x"
         },
         "mode": "markers",
         "name": "45",
         "scene": "scene",
         "showlegend": true,
         "type": "scatter3d",
         "x": [
          -3258.20292476081
         ],
         "y": [
          -3618.412815850246
         ],
         "z": [
          -2310.8422110507486
         ]
        },
        {
         "customdata": [
          [
           46
          ]
         ],
         "hovertemplate": "Sensor ID=%{customdata[0]}<br>Principal Component 1=%{x}<br>Principal Component 2=%{y}<br>Principal Component 3=%{z}<br>Cluster=%{marker.color}<extra></extra>",
         "legendgroup": "46",
         "marker": {
          "color": [
           2
          ],
          "coloraxis": "coloraxis",
          "symbol": "cross"
         },
         "mode": "markers",
         "name": "46",
         "scene": "scene",
         "showlegend": true,
         "type": "scatter3d",
         "x": [
          -3368.151887133099
         ],
         "y": [
          2384.8486626476415
         ],
         "z": [
          -2520.4962896010393
         ]
        },
        {
         "customdata": [
          [
           47
          ]
         ],
         "hovertemplate": "Sensor ID=%{customdata[0]}<br>Principal Component 1=%{x}<br>Principal Component 2=%{y}<br>Principal Component 3=%{z}<br>Cluster=%{marker.color}<extra></extra>",
         "legendgroup": "47",
         "marker": {
          "color": [
           0
          ],
          "coloraxis": "coloraxis",
          "symbol": "circle"
         },
         "mode": "markers",
         "name": "47",
         "scene": "scene",
         "showlegend": true,
         "type": "scatter3d",
         "x": [
          -3470.433258724892
         ],
         "y": [
          -147.03015091099522
         ],
         "z": [
          1682.1021855722622
         ]
        },
        {
         "customdata": [
          [
           48
          ]
         ],
         "hovertemplate": "Sensor ID=%{customdata[0]}<br>Principal Component 1=%{x}<br>Principal Component 2=%{y}<br>Principal Component 3=%{z}<br>Cluster=%{marker.color}<extra></extra>",
         "legendgroup": "48",
         "marker": {
          "color": [
           3
          ],
          "coloraxis": "coloraxis",
          "symbol": "diamond"
         },
         "mode": "markers",
         "name": "48",
         "scene": "scene",
         "showlegend": true,
         "type": "scatter3d",
         "x": [
          -3397.4994883959835
         ],
         "y": [
          -3047.0199563706146
         ],
         "z": [
          -1484.4838703449536
         ]
        },
        {
         "customdata": [
          [
           49
          ]
         ],
         "hovertemplate": "Sensor ID=%{customdata[0]}<br>Principal Component 1=%{x}<br>Principal Component 2=%{y}<br>Principal Component 3=%{z}<br>Cluster=%{marker.color}<extra></extra>",
         "legendgroup": "49",
         "marker": {
          "color": [
           0
          ],
          "coloraxis": "coloraxis",
          "symbol": "square"
         },
         "mode": "markers",
         "name": "49",
         "scene": "scene",
         "showlegend": true,
         "type": "scatter3d",
         "x": [
          -3219.6302348145973
         ],
         "y": [
          -528.71998867816
         ],
         "z": [
          1275.9508251477641
         ]
        },
        {
         "customdata": [
          [
           50
          ]
         ],
         "hovertemplate": "Sensor ID=%{customdata[0]}<br>Principal Component 1=%{x}<br>Principal Component 2=%{y}<br>Principal Component 3=%{z}<br>Cluster=%{marker.color}<extra></extra>",
         "legendgroup": "50",
         "marker": {
          "color": [
           0
          ],
          "coloraxis": "coloraxis",
          "symbol": "x"
         },
         "mode": "markers",
         "name": "50",
         "scene": "scene",
         "showlegend": true,
         "type": "scatter3d",
         "x": [
          -3451.4280763209067
         ],
         "y": [
          -395.95398381603894
         ],
         "z": [
          749.0054708514267
         ]
        },
        {
         "customdata": [
          [
           51
          ]
         ],
         "hovertemplate": "Sensor ID=%{customdata[0]}<br>Principal Component 1=%{x}<br>Principal Component 2=%{y}<br>Principal Component 3=%{z}<br>Cluster=%{marker.color}<extra></extra>",
         "legendgroup": "51",
         "marker": {
          "color": [
           3
          ],
          "coloraxis": "coloraxis",
          "symbol": "cross"
         },
         "mode": "markers",
         "name": "51",
         "scene": "scene",
         "showlegend": true,
         "type": "scatter3d",
         "x": [
          -3414.299050187616
         ],
         "y": [
          -1711.180717412449
         ],
         "z": [
          -4238.227360409793
         ]
        },
        {
         "customdata": [
          [
           52
          ]
         ],
         "hovertemplate": "Sensor ID=%{customdata[0]}<br>Principal Component 1=%{x}<br>Principal Component 2=%{y}<br>Principal Component 3=%{z}<br>Cluster=%{marker.color}<extra></extra>",
         "legendgroup": "52",
         "marker": {
          "color": [
           3
          ],
          "coloraxis": "coloraxis",
          "symbol": "circle"
         },
         "mode": "markers",
         "name": "52",
         "scene": "scene",
         "showlegend": true,
         "type": "scatter3d",
         "x": [
          -3425.2850404128144
         ],
         "y": [
          -1004.2903833650271
         ],
         "z": [
          -4208.1626538083
         ]
        },
        {
         "customdata": [
          [
           53
          ]
         ],
         "hovertemplate": "Sensor ID=%{customdata[0]}<br>Principal Component 1=%{x}<br>Principal Component 2=%{y}<br>Principal Component 3=%{z}<br>Cluster=%{marker.color}<extra></extra>",
         "legendgroup": "53",
         "marker": {
          "color": [
           0
          ],
          "coloraxis": "coloraxis",
          "symbol": "diamond"
         },
         "mode": "markers",
         "name": "53",
         "scene": "scene",
         "showlegend": true,
         "type": "scatter3d",
         "x": [
          -3326.0803984950912
         ],
         "y": [
          344.1857220539026
         ],
         "z": [
          -33.47942871613079
         ]
        },
        {
         "customdata": [
          [
           54
          ]
         ],
         "hovertemplate": "Sensor ID=%{customdata[0]}<br>Principal Component 1=%{x}<br>Principal Component 2=%{y}<br>Principal Component 3=%{z}<br>Cluster=%{marker.color}<extra></extra>",
         "legendgroup": "54",
         "marker": {
          "color": [
           3
          ],
          "coloraxis": "coloraxis",
          "symbol": "square"
         },
         "mode": "markers",
         "name": "54",
         "scene": "scene",
         "showlegend": true,
         "type": "scatter3d",
         "x": [
          -3415.0115461062833
         ],
         "y": [
          -827.5219147660209
         ],
         "z": [
          -1025.0936761282821
         ]
        },
        {
         "customdata": [
          [
           55
          ]
         ],
         "hovertemplate": "Sensor ID=%{customdata[0]}<br>Principal Component 1=%{x}<br>Principal Component 2=%{y}<br>Principal Component 3=%{z}<br>Cluster=%{marker.color}<extra></extra>",
         "legendgroup": "55",
         "marker": {
          "color": [
           2
          ],
          "coloraxis": "coloraxis",
          "symbol": "x"
         },
         "mode": "markers",
         "name": "55",
         "scene": "scene",
         "showlegend": true,
         "type": "scatter3d",
         "x": [
          -2635.879146893019
         ],
         "y": [
          3844.1049768380435
         ],
         "z": [
          1707.474740243158
         ]
        },
        {
         "customdata": [
          [
           56
          ]
         ],
         "hovertemplate": "Sensor ID=%{customdata[0]}<br>Principal Component 1=%{x}<br>Principal Component 2=%{y}<br>Principal Component 3=%{z}<br>Cluster=%{marker.color}<extra></extra>",
         "legendgroup": "56",
         "marker": {
          "color": [
           3
          ],
          "coloraxis": "coloraxis",
          "symbol": "cross"
         },
         "mode": "markers",
         "name": "56",
         "scene": "scene",
         "showlegend": true,
         "type": "scatter3d",
         "x": [
          -3204.653334627924
         ],
         "y": [
          -3362.8639040830076
         ],
         "z": [
          -1549.4635965770105
         ]
        },
        {
         "customdata": [
          [
           57
          ]
         ],
         "hovertemplate": "Sensor ID=%{customdata[0]}<br>Principal Component 1=%{x}<br>Principal Component 2=%{y}<br>Principal Component 3=%{z}<br>Cluster=%{marker.color}<extra></extra>",
         "legendgroup": "57",
         "marker": {
          "color": [
           1
          ],
          "coloraxis": "coloraxis",
          "symbol": "circle"
         },
         "mode": "markers",
         "name": "57",
         "scene": "scene",
         "showlegend": true,
         "type": "scatter3d",
         "x": [
          62285.68846920942
         ],
         "y": [
          -1109.4937353322653
         ],
         "z": [
          -1541.3037121298762
         ]
        },
        {
         "customdata": [
          [
           58
          ]
         ],
         "hovertemplate": "Sensor ID=%{customdata[0]}<br>Principal Component 1=%{x}<br>Principal Component 2=%{y}<br>Principal Component 3=%{z}<br>Cluster=%{marker.color}<extra></extra>",
         "legendgroup": "58",
         "marker": {
          "color": [
           0
          ],
          "coloraxis": "coloraxis",
          "symbol": "diamond"
         },
         "mode": "markers",
         "name": "58",
         "scene": "scene",
         "showlegend": true,
         "type": "scatter3d",
         "x": [
          -3416.680105843725
         ],
         "y": [
          -210.5769561597428
         ],
         "z": [
          2097.9043140883923
         ]
        },
        {
         "customdata": [
          [
           59
          ]
         ],
         "hovertemplate": "Sensor ID=%{customdata[0]}<br>Principal Component 1=%{x}<br>Principal Component 2=%{y}<br>Principal Component 3=%{z}<br>Cluster=%{marker.color}<extra></extra>",
         "legendgroup": "59",
         "marker": {
          "color": [
           3
          ],
          "coloraxis": "coloraxis",
          "symbol": "square"
         },
         "mode": "markers",
         "name": "59",
         "scene": "scene",
         "showlegend": true,
         "type": "scatter3d",
         "x": [
          -2558.155134687963
         ],
         "y": [
          -2700.6280312470917
         ],
         "z": [
          -3815.3071423100905
         ]
        },
        {
         "customdata": [
          [
           60
          ]
         ],
         "hovertemplate": "Sensor ID=%{customdata[0]}<br>Principal Component 1=%{x}<br>Principal Component 2=%{y}<br>Principal Component 3=%{z}<br>Cluster=%{marker.color}<extra></extra>",
         "legendgroup": "60",
         "marker": {
          "color": [
           0
          ],
          "coloraxis": "coloraxis",
          "symbol": "x"
         },
         "mode": "markers",
         "name": "60",
         "scene": "scene",
         "showlegend": true,
         "type": "scatter3d",
         "x": [
          -3337.394133947609
         ],
         "y": [
          -403.3946735731919
         ],
         "z": [
          2190.860348443688
         ]
        },
        {
         "customdata": [
          [
           61
          ]
         ],
         "hovertemplate": "Sensor ID=%{customdata[0]}<br>Principal Component 1=%{x}<br>Principal Component 2=%{y}<br>Principal Component 3=%{z}<br>Cluster=%{marker.color}<extra></extra>",
         "legendgroup": "61",
         "marker": {
          "color": [
           3
          ],
          "coloraxis": "coloraxis",
          "symbol": "cross"
         },
         "mode": "markers",
         "name": "61",
         "scene": "scene",
         "showlegend": true,
         "type": "scatter3d",
         "x": [
          -3482.22879934768
         ],
         "y": [
          -1899.7838969568961
         ],
         "z": [
          -1971.459527692185
         ]
        },
        {
         "customdata": [
          [
           62
          ]
         ],
         "hovertemplate": "Sensor ID=%{customdata[0]}<br>Principal Component 1=%{x}<br>Principal Component 2=%{y}<br>Principal Component 3=%{z}<br>Cluster=%{marker.color}<extra></extra>",
         "legendgroup": "62",
         "marker": {
          "color": [
           3
          ],
          "coloraxis": "coloraxis",
          "symbol": "circle"
         },
         "mode": "markers",
         "name": "62",
         "scene": "scene",
         "showlegend": true,
         "type": "scatter3d",
         "x": [
          -3424.193155995676
         ],
         "y": [
          -742.8848487863233
         ],
         "z": [
          -2705.373931502457
         ]
        },
        {
         "customdata": [
          [
           63
          ]
         ],
         "hovertemplate": "Sensor ID=%{customdata[0]}<br>Principal Component 1=%{x}<br>Principal Component 2=%{y}<br>Principal Component 3=%{z}<br>Cluster=%{marker.color}<extra></extra>",
         "legendgroup": "63",
         "marker": {
          "color": [
           2
          ],
          "coloraxis": "coloraxis",
          "symbol": "diamond"
         },
         "mode": "markers",
         "name": "63",
         "scene": "scene",
         "showlegend": true,
         "type": "scatter3d",
         "x": [
          -3423.9726532319482
         ],
         "y": [
          2645.999482962981
         ],
         "z": [
          212.5904673052391
         ]
        },
        {
         "customdata": [
          [
           64
          ]
         ],
         "hovertemplate": "Sensor ID=%{customdata[0]}<br>Principal Component 1=%{x}<br>Principal Component 2=%{y}<br>Principal Component 3=%{z}<br>Cluster=%{marker.color}<extra></extra>",
         "legendgroup": "64",
         "marker": {
          "color": [
           1
          ],
          "coloraxis": "coloraxis",
          "symbol": "square"
         },
         "mode": "markers",
         "name": "64",
         "scene": "scene",
         "showlegend": true,
         "type": "scatter3d",
         "x": [
          62327.94745828012
         ],
         "y": [
          1021.11010732936
         ],
         "z": [
          1301.2274485436549
         ]
        },
        {
         "customdata": [
          [
           65
          ]
         ],
         "hovertemplate": "Sensor ID=%{customdata[0]}<br>Principal Component 1=%{x}<br>Principal Component 2=%{y}<br>Principal Component 3=%{z}<br>Cluster=%{marker.color}<extra></extra>",
         "legendgroup": "65",
         "marker": {
          "color": [
           0
          ],
          "coloraxis": "coloraxis",
          "symbol": "x"
         },
         "mode": "markers",
         "name": "65",
         "scene": "scene",
         "showlegend": true,
         "type": "scatter3d",
         "x": [
          -3372.119360802147
         ],
         "y": [
          390.49909299568617
         ],
         "z": [
          2433.5762473013697
         ]
        },
        {
         "customdata": [
          [
           66
          ]
         ],
         "hovertemplate": "Sensor ID=%{customdata[0]}<br>Principal Component 1=%{x}<br>Principal Component 2=%{y}<br>Principal Component 3=%{z}<br>Cluster=%{marker.color}<extra></extra>",
         "legendgroup": "66",
         "marker": {
          "color": [
           2
          ],
          "coloraxis": "coloraxis",
          "symbol": "cross"
         },
         "mode": "markers",
         "name": "66",
         "scene": "scene",
         "showlegend": true,
         "type": "scatter3d",
         "x": [
          -2651.7033542971462
         ],
         "y": [
          1026.7955538688636
         ],
         "z": [
          -1232.3011398077197
         ]
        },
        {
         "customdata": [
          [
           67
          ]
         ],
         "hovertemplate": "Sensor ID=%{customdata[0]}<br>Principal Component 1=%{x}<br>Principal Component 2=%{y}<br>Principal Component 3=%{z}<br>Cluster=%{marker.color}<extra></extra>",
         "legendgroup": "67",
         "marker": {
          "color": [
           0
          ],
          "coloraxis": "coloraxis",
          "symbol": "circle"
         },
         "mode": "markers",
         "name": "67",
         "scene": "scene",
         "showlegend": true,
         "type": "scatter3d",
         "x": [
          -2476.846422253658
         ],
         "y": [
          -2327.655818103899
         ],
         "z": [
          165.92177088145144
         ]
        },
        {
         "customdata": [
          [
           68
          ]
         ],
         "hovertemplate": "Sensor ID=%{customdata[0]}<br>Principal Component 1=%{x}<br>Principal Component 2=%{y}<br>Principal Component 3=%{z}<br>Cluster=%{marker.color}<extra></extra>",
         "legendgroup": "68",
         "marker": {
          "color": [
           0
          ],
          "coloraxis": "coloraxis",
          "symbol": "diamond"
         },
         "mode": "markers",
         "name": "68",
         "scene": "scene",
         "showlegend": true,
         "type": "scatter3d",
         "x": [
          -3325.851340245217
         ],
         "y": [
          -2785.0500218134052
         ],
         "z": [
          1532.8874888560563
         ]
        },
        {
         "customdata": [
          [
           69
          ]
         ],
         "hovertemplate": "Sensor ID=%{customdata[0]}<br>Principal Component 1=%{x}<br>Principal Component 2=%{y}<br>Principal Component 3=%{z}<br>Cluster=%{marker.color}<extra></extra>",
         "legendgroup": "69",
         "marker": {
          "color": [
           2
          ],
          "coloraxis": "coloraxis",
          "symbol": "square"
         },
         "mode": "markers",
         "name": "69",
         "scene": "scene",
         "showlegend": true,
         "type": "scatter3d",
         "x": [
          -3464.3627364014505
         ],
         "y": [
          1506.3641150210688
         ],
         "z": [
          -811.9128027983592
         ]
        },
        {
         "customdata": [
          [
           70
          ]
         ],
         "hovertemplate": "Sensor ID=%{customdata[0]}<br>Principal Component 1=%{x}<br>Principal Component 2=%{y}<br>Principal Component 3=%{z}<br>Cluster=%{marker.color}<extra></extra>",
         "legendgroup": "70",
         "marker": {
          "color": [
           3
          ],
          "coloraxis": "coloraxis",
          "symbol": "x"
         },
         "mode": "markers",
         "name": "70",
         "scene": "scene",
         "showlegend": true,
         "type": "scatter3d",
         "x": [
          -3286.068237017338
         ],
         "y": [
          930.1929350856097
         ],
         "z": [
          -3168.518533566474
         ]
        },
        {
         "customdata": [
          [
           71
          ]
         ],
         "hovertemplate": "Sensor ID=%{customdata[0]}<br>Principal Component 1=%{x}<br>Principal Component 2=%{y}<br>Principal Component 3=%{z}<br>Cluster=%{marker.color}<extra></extra>",
         "legendgroup": "71",
         "marker": {
          "color": [
           3
          ],
          "coloraxis": "coloraxis",
          "symbol": "cross"
         },
         "mode": "markers",
         "name": "71",
         "scene": "scene",
         "showlegend": true,
         "type": "scatter3d",
         "x": [
          -3274.192384927436
         ],
         "y": [
          544.9002755726384
         ],
         "z": [
          -2869.4869495585167
         ]
        },
        {
         "customdata": [
          [
           72
          ]
         ],
         "hovertemplate": "Sensor ID=%{customdata[0]}<br>Principal Component 1=%{x}<br>Principal Component 2=%{y}<br>Principal Component 3=%{z}<br>Cluster=%{marker.color}<extra></extra>",
         "legendgroup": "72",
         "marker": {
          "color": [
           3
          ],
          "coloraxis": "coloraxis",
          "symbol": "circle"
         },
         "mode": "markers",
         "name": "72",
         "scene": "scene",
         "showlegend": true,
         "type": "scatter3d",
         "x": [
          -3394.0086026104077
         ],
         "y": [
          -587.5471425365395
         ],
         "z": [
          -792.0457019659973
         ]
        },
        {
         "customdata": [
          [
           73
          ]
         ],
         "hovertemplate": "Sensor ID=%{customdata[0]}<br>Principal Component 1=%{x}<br>Principal Component 2=%{y}<br>Principal Component 3=%{z}<br>Cluster=%{marker.color}<extra></extra>",
         "legendgroup": "73",
         "marker": {
          "color": [
           3
          ],
          "coloraxis": "coloraxis",
          "symbol": "diamond"
         },
         "mode": "markers",
         "name": "73",
         "scene": "scene",
         "showlegend": true,
         "type": "scatter3d",
         "x": [
          -3304.5639465901004
         ],
         "y": [
          -1302.087889889793
         ],
         "z": [
          -3632.1157925200514
         ]
        },
        {
         "customdata": [
          [
           74
          ]
         ],
         "hovertemplate": "Sensor ID=%{customdata[0]}<br>Principal Component 1=%{x}<br>Principal Component 2=%{y}<br>Principal Component 3=%{z}<br>Cluster=%{marker.color}<extra></extra>",
         "legendgroup": "74",
         "marker": {
          "color": [
           2
          ],
          "coloraxis": "coloraxis",
          "symbol": "square"
         },
         "mode": "markers",
         "name": "74",
         "scene": "scene",
         "showlegend": true,
         "type": "scatter3d",
         "x": [
          -2634.178412045571
         ],
         "y": [
          1729.007693701009
         ],
         "z": [
          -1399.527840725463
         ]
        },
        {
         "customdata": [
          [
           75
          ]
         ],
         "hovertemplate": "Sensor ID=%{customdata[0]}<br>Principal Component 1=%{x}<br>Principal Component 2=%{y}<br>Principal Component 3=%{z}<br>Cluster=%{marker.color}<extra></extra>",
         "legendgroup": "75",
         "marker": {
          "color": [
           3
          ],
          "coloraxis": "coloraxis",
          "symbol": "x"
         },
         "mode": "markers",
         "name": "75",
         "scene": "scene",
         "showlegend": true,
         "type": "scatter3d",
         "x": [
          -3171.0556543438784
         ],
         "y": [
          -2340.890923792874
         ],
         "z": [
          -1826.3299555725916
         ]
        },
        {
         "customdata": [
          [
           76
          ]
         ],
         "hovertemplate": "Sensor ID=%{customdata[0]}<br>Principal Component 1=%{x}<br>Principal Component 2=%{y}<br>Principal Component 3=%{z}<br>Cluster=%{marker.color}<extra></extra>",
         "legendgroup": "76",
         "marker": {
          "color": [
           0
          ],
          "coloraxis": "coloraxis",
          "symbol": "cross"
         },
         "mode": "markers",
         "name": "76",
         "scene": "scene",
         "showlegend": true,
         "type": "scatter3d",
         "x": [
          -3435.598529561471
         ],
         "y": [
          -3843.7003614585697
         ],
         "z": [
          6074.346888247151
         ]
        },
        {
         "customdata": [
          [
           77
          ]
         ],
         "hovertemplate": "Sensor ID=%{customdata[0]}<br>Principal Component 1=%{x}<br>Principal Component 2=%{y}<br>Principal Component 3=%{z}<br>Cluster=%{marker.color}<extra></extra>",
         "legendgroup": "77",
         "marker": {
          "color": [
           0
          ],
          "coloraxis": "coloraxis",
          "symbol": "circle"
         },
         "mode": "markers",
         "name": "77",
         "scene": "scene",
         "showlegend": true,
         "type": "scatter3d",
         "x": [
          -3223.552256303437
         ],
         "y": [
          -545.5723719026299
         ],
         "z": [
          2124.6192403171244
         ]
        },
        {
         "customdata": [
          [
           78
          ]
         ],
         "hovertemplate": "Sensor ID=%{customdata[0]}<br>Principal Component 1=%{x}<br>Principal Component 2=%{y}<br>Principal Component 3=%{z}<br>Cluster=%{marker.color}<extra></extra>",
         "legendgroup": "78",
         "marker": {
          "color": [
           0
          ],
          "coloraxis": "coloraxis",
          "symbol": "diamond"
         },
         "mode": "markers",
         "name": "78",
         "scene": "scene",
         "showlegend": true,
         "type": "scatter3d",
         "x": [
          -3156.1252842122367
         ],
         "y": [
          -2498.140420841959
         ],
         "z": [
          2606.167691855776
         ]
        },
        {
         "customdata": [
          [
           79
          ]
         ],
         "hovertemplate": "Sensor ID=%{customdata[0]}<br>Principal Component 1=%{x}<br>Principal Component 2=%{y}<br>Principal Component 3=%{z}<br>Cluster=%{marker.color}<extra></extra>",
         "legendgroup": "79",
         "marker": {
          "color": [
           3
          ],
          "coloraxis": "coloraxis",
          "symbol": "square"
         },
         "mode": "markers",
         "name": "79",
         "scene": "scene",
         "showlegend": true,
         "type": "scatter3d",
         "x": [
          -3386.428593787141
         ],
         "y": [
          95.26951400681045
         ],
         "z": [
          -2236.5432846802137
         ]
        },
        {
         "customdata": [
          [
           80
          ]
         ],
         "hovertemplate": "Sensor ID=%{customdata[0]}<br>Principal Component 1=%{x}<br>Principal Component 2=%{y}<br>Principal Component 3=%{z}<br>Cluster=%{marker.color}<extra></extra>",
         "legendgroup": "80",
         "marker": {
          "color": [
           2
          ],
          "coloraxis": "coloraxis",
          "symbol": "x"
         },
         "mode": "markers",
         "name": "80",
         "scene": "scene",
         "showlegend": true,
         "type": "scatter3d",
         "x": [
          -2661.265196201976
         ],
         "y": [
          1649.4846220958796
         ],
         "z": [
          -1957.317909550554
         ]
        },
        {
         "customdata": [
          [
           81
          ]
         ],
         "hovertemplate": "Sensor ID=%{customdata[0]}<br>Principal Component 1=%{x}<br>Principal Component 2=%{y}<br>Principal Component 3=%{z}<br>Cluster=%{marker.color}<extra></extra>",
         "legendgroup": "81",
         "marker": {
          "color": [
           0
          ],
          "coloraxis": "coloraxis",
          "symbol": "cross"
         },
         "mode": "markers",
         "name": "81",
         "scene": "scene",
         "showlegend": true,
         "type": "scatter3d",
         "x": [
          -3409.4609199827064
         ],
         "y": [
          -797.2524241118718
         ],
         "z": [
          777.5170684251664
         ]
        },
        {
         "customdata": [
          [
           82
          ]
         ],
         "hovertemplate": "Sensor ID=%{customdata[0]}<br>Principal Component 1=%{x}<br>Principal Component 2=%{y}<br>Principal Component 3=%{z}<br>Cluster=%{marker.color}<extra></extra>",
         "legendgroup": "82",
         "marker": {
          "color": [
           3
          ],
          "coloraxis": "coloraxis",
          "symbol": "circle"
         },
         "mode": "markers",
         "name": "82",
         "scene": "scene",
         "showlegend": true,
         "type": "scatter3d",
         "x": [
          -2529.9430928235583
         ],
         "y": [
          -11.22085115748718
         ],
         "z": [
          -1045.7821455393841
         ]
        },
        {
         "customdata": [
          [
           83
          ]
         ],
         "hovertemplate": "Sensor ID=%{customdata[0]}<br>Principal Component 1=%{x}<br>Principal Component 2=%{y}<br>Principal Component 3=%{z}<br>Cluster=%{marker.color}<extra></extra>",
         "legendgroup": "83",
         "marker": {
          "color": [
           2
          ],
          "coloraxis": "coloraxis",
          "symbol": "diamond"
         },
         "mode": "markers",
         "name": "83",
         "scene": "scene",
         "showlegend": true,
         "type": "scatter3d",
         "x": [
          -3508.82615878386
         ],
         "y": [
          3600.7108976005998
         ],
         "z": [
          -3291.202810536757
         ]
        },
        {
         "customdata": [
          [
           84
          ]
         ],
         "hovertemplate": "Sensor ID=%{customdata[0]}<br>Principal Component 1=%{x}<br>Principal Component 2=%{y}<br>Principal Component 3=%{z}<br>Cluster=%{marker.color}<extra></extra>",
         "legendgroup": "84",
         "marker": {
          "color": [
           2
          ],
          "coloraxis": "coloraxis",
          "symbol": "square"
         },
         "mode": "markers",
         "name": "84",
         "scene": "scene",
         "showlegend": true,
         "type": "scatter3d",
         "x": [
          -2745.339053173221
         ],
         "y": [
          793.2462231798681
         ],
         "z": [
          -161.57232666228526
         ]
        },
        {
         "customdata": [
          [
           85
          ]
         ],
         "hovertemplate": "Sensor ID=%{customdata[0]}<br>Principal Component 1=%{x}<br>Principal Component 2=%{y}<br>Principal Component 3=%{z}<br>Cluster=%{marker.color}<extra></extra>",
         "legendgroup": "85",
         "marker": {
          "color": [
           0
          ],
          "coloraxis": "coloraxis",
          "symbol": "x"
         },
         "mode": "markers",
         "name": "85",
         "scene": "scene",
         "showlegend": true,
         "type": "scatter3d",
         "x": [
          -3256.5204831343667
         ],
         "y": [
          -1354.857740666101
         ],
         "z": [
          1677.0005535947523
         ]
        },
        {
         "customdata": [
          [
           86
          ]
         ],
         "hovertemplate": "Sensor ID=%{customdata[0]}<br>Principal Component 1=%{x}<br>Principal Component 2=%{y}<br>Principal Component 3=%{z}<br>Cluster=%{marker.color}<extra></extra>",
         "legendgroup": "86",
         "marker": {
          "color": [
           0
          ],
          "coloraxis": "coloraxis",
          "symbol": "cross"
         },
         "mode": "markers",
         "name": "86",
         "scene": "scene",
         "showlegend": true,
         "type": "scatter3d",
         "x": [
          -3334.9688339620197
         ],
         "y": [
          630.3613390271937
         ],
         "z": [
          1734.6864509656448
         ]
        },
        {
         "customdata": [
          [
           87
          ]
         ],
         "hovertemplate": "Sensor ID=%{customdata[0]}<br>Principal Component 1=%{x}<br>Principal Component 2=%{y}<br>Principal Component 3=%{z}<br>Cluster=%{marker.color}<extra></extra>",
         "legendgroup": "87",
         "marker": {
          "color": [
           3
          ],
          "coloraxis": "coloraxis",
          "symbol": "circle"
         },
         "mode": "markers",
         "name": "87",
         "scene": "scene",
         "showlegend": true,
         "type": "scatter3d",
         "x": [
          -3394.9860851119006
         ],
         "y": [
          -35.61577067798449
         ],
         "z": [
          -1205.0310191203284
         ]
        },
        {
         "customdata": [
          [
           88
          ]
         ],
         "hovertemplate": "Sensor ID=%{customdata[0]}<br>Principal Component 1=%{x}<br>Principal Component 2=%{y}<br>Principal Component 3=%{z}<br>Cluster=%{marker.color}<extra></extra>",
         "legendgroup": "88",
         "marker": {
          "color": [
           2
          ],
          "coloraxis": "coloraxis",
          "symbol": "diamond"
         },
         "mode": "markers",
         "name": "88",
         "scene": "scene",
         "showlegend": true,
         "type": "scatter3d",
         "x": [
          -3591.4970104770496
         ],
         "y": [
          2563.8744100416575
         ],
         "z": [
          -467.9325450290787
         ]
        },
        {
         "customdata": [
          [
           89
          ]
         ],
         "hovertemplate": "Sensor ID=%{customdata[0]}<br>Principal Component 1=%{x}<br>Principal Component 2=%{y}<br>Principal Component 3=%{z}<br>Cluster=%{marker.color}<extra></extra>",
         "legendgroup": "89",
         "marker": {
          "color": [
           0
          ],
          "coloraxis": "coloraxis",
          "symbol": "square"
         },
         "mode": "markers",
         "name": "89",
         "scene": "scene",
         "showlegend": true,
         "type": "scatter3d",
         "x": [
          -2634.4056987732283
         ],
         "y": [
          2093.1542148412136
         ],
         "z": [
          6176.583810620565
         ]
        },
        {
         "customdata": [
          [
           90
          ]
         ],
         "hovertemplate": "Sensor ID=%{customdata[0]}<br>Principal Component 1=%{x}<br>Principal Component 2=%{y}<br>Principal Component 3=%{z}<br>Cluster=%{marker.color}<extra></extra>",
         "legendgroup": "90",
         "marker": {
          "color": [
           0
          ],
          "coloraxis": "coloraxis",
          "symbol": "x"
         },
         "mode": "markers",
         "name": "90",
         "scene": "scene",
         "showlegend": true,
         "type": "scatter3d",
         "x": [
          -3229.322774256249
         ],
         "y": [
          -3296.9285525781174
         ],
         "z": [
          3102.521715536926
         ]
        },
        {
         "customdata": [
          [
           91
          ]
         ],
         "hovertemplate": "Sensor ID=%{customdata[0]}<br>Principal Component 1=%{x}<br>Principal Component 2=%{y}<br>Principal Component 3=%{z}<br>Cluster=%{marker.color}<extra></extra>",
         "legendgroup": "91",
         "marker": {
          "color": [
           0
          ],
          "coloraxis": "coloraxis",
          "symbol": "cross"
         },
         "mode": "markers",
         "name": "91",
         "scene": "scene",
         "showlegend": true,
         "type": "scatter3d",
         "x": [
          -3470.3523513426358
         ],
         "y": [
          -126.763511306224
         ],
         "z": [
          116.83450127484532
         ]
        },
        {
         "customdata": [
          [
           92
          ]
         ],
         "hovertemplate": "Sensor ID=%{customdata[0]}<br>Principal Component 1=%{x}<br>Principal Component 2=%{y}<br>Principal Component 3=%{z}<br>Cluster=%{marker.color}<extra></extra>",
         "legendgroup": "92",
         "marker": {
          "color": [
           2
          ],
          "coloraxis": "coloraxis",
          "symbol": "circle"
         },
         "mode": "markers",
         "name": "92",
         "scene": "scene",
         "showlegend": true,
         "type": "scatter3d",
         "x": [
          -2553.763157569682
         ],
         "y": [
          2045.919043259133
         ],
         "z": [
          927.3642133854474
         ]
        },
        {
         "customdata": [
          [
           93
          ]
         ],
         "hovertemplate": "Sensor ID=%{customdata[0]}<br>Principal Component 1=%{x}<br>Principal Component 2=%{y}<br>Principal Component 3=%{z}<br>Cluster=%{marker.color}<extra></extra>",
         "legendgroup": "93",
         "marker": {
          "color": [
           2
          ],
          "coloraxis": "coloraxis",
          "symbol": "diamond"
         },
         "mode": "markers",
         "name": "93",
         "scene": "scene",
         "showlegend": true,
         "type": "scatter3d",
         "x": [
          -3303.5130847016912
         ],
         "y": [
          2618.478250599642
         ],
         "z": [
          -301.23272953162694
         ]
        },
        {
         "customdata": [
          [
           94
          ]
         ],
         "hovertemplate": "Sensor ID=%{customdata[0]}<br>Principal Component 1=%{x}<br>Principal Component 2=%{y}<br>Principal Component 3=%{z}<br>Cluster=%{marker.color}<extra></extra>",
         "legendgroup": "94",
         "marker": {
          "color": [
           0
          ],
          "coloraxis": "coloraxis",
          "symbol": "square"
         },
         "mode": "markers",
         "name": "94",
         "scene": "scene",
         "showlegend": true,
         "type": "scatter3d",
         "x": [
          -3446.7110228128668
         ],
         "y": [
          326.4649996432252
         ],
         "z": [
          -333.2508698800937
         ]
        },
        {
         "customdata": [
          [
           95
          ]
         ],
         "hovertemplate": "Sensor ID=%{customdata[0]}<br>Principal Component 1=%{x}<br>Principal Component 2=%{y}<br>Principal Component 3=%{z}<br>Cluster=%{marker.color}<extra></extra>",
         "legendgroup": "95",
         "marker": {
          "color": [
           0
          ],
          "coloraxis": "coloraxis",
          "symbol": "x"
         },
         "mode": "markers",
         "name": "95",
         "scene": "scene",
         "showlegend": true,
         "type": "scatter3d",
         "x": [
          -3353.8477146253103
         ],
         "y": [
          673.5224425864059
         ],
         "z": [
          363.0154640447493
         ]
        },
        {
         "customdata": [
          [
           96
          ]
         ],
         "hovertemplate": "Sensor ID=%{customdata[0]}<br>Principal Component 1=%{x}<br>Principal Component 2=%{y}<br>Principal Component 3=%{z}<br>Cluster=%{marker.color}<extra></extra>",
         "legendgroup": "96",
         "marker": {
          "color": [
           0
          ],
          "coloraxis": "coloraxis",
          "symbol": "cross"
         },
         "mode": "markers",
         "name": "96",
         "scene": "scene",
         "showlegend": true,
         "type": "scatter3d",
         "x": [
          -3317.467799332621
         ],
         "y": [
          -3165.222548388376
         ],
         "z": [
          880.037502929509
         ]
        },
        {
         "customdata": [
          [
           97
          ]
         ],
         "hovertemplate": "Sensor ID=%{customdata[0]}<br>Principal Component 1=%{x}<br>Principal Component 2=%{y}<br>Principal Component 3=%{z}<br>Cluster=%{marker.color}<extra></extra>",
         "legendgroup": "97",
         "marker": {
          "color": [
           3
          ],
          "coloraxis": "coloraxis",
          "symbol": "circle"
         },
         "mode": "markers",
         "name": "97",
         "scene": "scene",
         "showlegend": true,
         "type": "scatter3d",
         "x": [
          -3393.2445849003707
         ],
         "y": [
          -2575.4439951892687
         ],
         "z": [
          -792.889595127116
         ]
        },
        {
         "customdata": [
          [
           98
          ]
         ],
         "hovertemplate": "Sensor ID=%{customdata[0]}<br>Principal Component 1=%{x}<br>Principal Component 2=%{y}<br>Principal Component 3=%{z}<br>Cluster=%{marker.color}<extra></extra>",
         "legendgroup": "98",
         "marker": {
          "color": [
           3
          ],
          "coloraxis": "coloraxis",
          "symbol": "diamond"
         },
         "mode": "markers",
         "name": "98",
         "scene": "scene",
         "showlegend": true,
         "type": "scatter3d",
         "x": [
          -3282.742667057316
         ],
         "y": [
          -2080.4556446565857
         ],
         "z": [
          -1111.9907933199047
         ]
        },
        {
         "customdata": [
          [
           99
          ]
         ],
         "hovertemplate": "Sensor ID=%{customdata[0]}<br>Principal Component 1=%{x}<br>Principal Component 2=%{y}<br>Principal Component 3=%{z}<br>Cluster=%{marker.color}<extra></extra>",
         "legendgroup": "99",
         "marker": {
          "color": [
           0
          ],
          "coloraxis": "coloraxis",
          "symbol": "square"
         },
         "mode": "markers",
         "name": "99",
         "scene": "scene",
         "showlegend": true,
         "type": "scatter3d",
         "x": [
          -2483.2907183041507
         ],
         "y": [
          -2781.022369644979
         ],
         "z": [
          605.2210287446718
         ]
        },
        {
         "customdata": [
          [
           100
          ]
         ],
         "hovertemplate": "Sensor ID=%{customdata[0]}<br>Principal Component 1=%{x}<br>Principal Component 2=%{y}<br>Principal Component 3=%{z}<br>Cluster=%{marker.color}<extra></extra>",
         "legendgroup": "100",
         "marker": {
          "color": [
           2
          ],
          "coloraxis": "coloraxis",
          "symbol": "x"
         },
         "mode": "markers",
         "name": "100",
         "scene": "scene",
         "showlegend": true,
         "type": "scatter3d",
         "x": [
          -3618.8689097546376
         ],
         "y": [
          3892.435937177844
         ],
         "z": [
          -1630.2562688926175
         ]
        },
        {
         "customdata": [
          [
           101
          ]
         ],
         "hovertemplate": "Sensor ID=%{customdata[0]}<br>Principal Component 1=%{x}<br>Principal Component 2=%{y}<br>Principal Component 3=%{z}<br>Cluster=%{marker.color}<extra></extra>",
         "legendgroup": "101",
         "marker": {
          "color": [
           0
          ],
          "coloraxis": "coloraxis",
          "symbol": "cross"
         },
         "mode": "markers",
         "name": "101",
         "scene": "scene",
         "showlegend": true,
         "type": "scatter3d",
         "x": [
          -2493.6762891543235
         ],
         "y": [
          436.61892680432976
         ],
         "z": [
          4436.201737974354
         ]
        },
        {
         "customdata": [
          [
           102
          ]
         ],
         "hovertemplate": "Sensor ID=%{customdata[0]}<br>Principal Component 1=%{x}<br>Principal Component 2=%{y}<br>Principal Component 3=%{z}<br>Cluster=%{marker.color}<extra></extra>",
         "legendgroup": "102",
         "marker": {
          "color": [
           0
          ],
          "coloraxis": "coloraxis",
          "symbol": "circle"
         },
         "mode": "markers",
         "name": "102",
         "scene": "scene",
         "showlegend": true,
         "type": "scatter3d",
         "x": [
          -3406.5209030405977
         ],
         "y": [
          -1272.0105252919548
         ],
         "z": [
          918.2544644561153
         ]
        },
        {
         "customdata": [
          [
           103
          ]
         ],
         "hovertemplate": "Sensor ID=%{customdata[0]}<br>Principal Component 1=%{x}<br>Principal Component 2=%{y}<br>Principal Component 3=%{z}<br>Cluster=%{marker.color}<extra></extra>",
         "legendgroup": "103",
         "marker": {
          "color": [
           0
          ],
          "coloraxis": "coloraxis",
          "symbol": "diamond"
         },
         "mode": "markers",
         "name": "103",
         "scene": "scene",
         "showlegend": true,
         "type": "scatter3d",
         "x": [
          -3402.9894499027373
         ],
         "y": [
          -1804.7292589865813
         ],
         "z": [
          1241.3293632806738
         ]
        },
        {
         "customdata": [
          [
           104
          ]
         ],
         "hovertemplate": "Sensor ID=%{customdata[0]}<br>Principal Component 1=%{x}<br>Principal Component 2=%{y}<br>Principal Component 3=%{z}<br>Cluster=%{marker.color}<extra></extra>",
         "legendgroup": "104",
         "marker": {
          "color": [
           0
          ],
          "coloraxis": "coloraxis",
          "symbol": "square"
         },
         "mode": "markers",
         "name": "104",
         "scene": "scene",
         "showlegend": true,
         "type": "scatter3d",
         "x": [
          -2453.842399546166
         ],
         "y": [
          -28.44431070296102
         ],
         "z": [
          477.7305898682792
         ]
        },
        {
         "customdata": [
          [
           105
          ]
         ],
         "hovertemplate": "Sensor ID=%{customdata[0]}<br>Principal Component 1=%{x}<br>Principal Component 2=%{y}<br>Principal Component 3=%{z}<br>Cluster=%{marker.color}<extra></extra>",
         "legendgroup": "105",
         "marker": {
          "color": [
           0
          ],
          "coloraxis": "coloraxis",
          "symbol": "x"
         },
         "mode": "markers",
         "name": "105",
         "scene": "scene",
         "showlegend": true,
         "type": "scatter3d",
         "x": [
          -3249.107225624085
         ],
         "y": [
          -2533.4662257274654
         ],
         "z": [
          1248.3319241028742
         ]
        },
        {
         "customdata": [
          [
           106
          ]
         ],
         "hovertemplate": "Sensor ID=%{customdata[0]}<br>Principal Component 1=%{x}<br>Principal Component 2=%{y}<br>Principal Component 3=%{z}<br>Cluster=%{marker.color}<extra></extra>",
         "legendgroup": "106",
         "marker": {
          "color": [
           0
          ],
          "coloraxis": "coloraxis",
          "symbol": "cross"
         },
         "mode": "markers",
         "name": "106",
         "scene": "scene",
         "showlegend": true,
         "type": "scatter3d",
         "x": [
          -2672.947646717709
         ],
         "y": [
          438.9046666053787
         ],
         "z": [
          363.77850812686006
         ]
        },
        {
         "customdata": [
          [
           107
          ]
         ],
         "hovertemplate": "Sensor ID=%{customdata[0]}<br>Principal Component 1=%{x}<br>Principal Component 2=%{y}<br>Principal Component 3=%{z}<br>Cluster=%{marker.color}<extra></extra>",
         "legendgroup": "107",
         "marker": {
          "color": [
           0
          ],
          "coloraxis": "coloraxis",
          "symbol": "circle"
         },
         "mode": "markers",
         "name": "107",
         "scene": "scene",
         "showlegend": true,
         "type": "scatter3d",
         "x": [
          -3296.4880856032496
         ],
         "y": [
          430.19704230061063
         ],
         "z": [
          3322.4582555627576
         ]
        },
        {
         "customdata": [
          [
           108
          ]
         ],
         "hovertemplate": "Sensor ID=%{customdata[0]}<br>Principal Component 1=%{x}<br>Principal Component 2=%{y}<br>Principal Component 3=%{z}<br>Cluster=%{marker.color}<extra></extra>",
         "legendgroup": "108",
         "marker": {
          "color": [
           0
          ],
          "coloraxis": "coloraxis",
          "symbol": "diamond"
         },
         "mode": "markers",
         "name": "108",
         "scene": "scene",
         "showlegend": true,
         "type": "scatter3d",
         "x": [
          -3290.3386758540323
         ],
         "y": [
          -986.407170424701
         ],
         "z": [
          -340.71026184688947
         ]
        },
        {
         "customdata": [
          [
           109
          ]
         ],
         "hovertemplate": "Sensor ID=%{customdata[0]}<br>Principal Component 1=%{x}<br>Principal Component 2=%{y}<br>Principal Component 3=%{z}<br>Cluster=%{marker.color}<extra></extra>",
         "legendgroup": "109",
         "marker": {
          "color": [
           1
          ],
          "coloraxis": "coloraxis",
          "symbol": "square"
         },
         "mode": "markers",
         "name": "109",
         "scene": "scene",
         "showlegend": true,
         "type": "scatter3d",
         "x": [
          62343.94061029473
         ],
         "y": [
          -2329.251564692264
         ],
         "z": [
          -1891.5610489886565
         ]
        },
        {
         "customdata": [
          [
           110
          ]
         ],
         "hovertemplate": "Sensor ID=%{customdata[0]}<br>Principal Component 1=%{x}<br>Principal Component 2=%{y}<br>Principal Component 3=%{z}<br>Cluster=%{marker.color}<extra></extra>",
         "legendgroup": "110",
         "marker": {
          "color": [
           0
          ],
          "coloraxis": "coloraxis",
          "symbol": "x"
         },
         "mode": "markers",
         "name": "110",
         "scene": "scene",
         "showlegend": true,
         "type": "scatter3d",
         "x": [
          -2500.399871754503
         ],
         "y": [
          -4821.416766900624
         ],
         "z": [
          25.475902585188223
         ]
        },
        {
         "customdata": [
          [
           111
          ]
         ],
         "hovertemplate": "Sensor ID=%{customdata[0]}<br>Principal Component 1=%{x}<br>Principal Component 2=%{y}<br>Principal Component 3=%{z}<br>Cluster=%{marker.color}<extra></extra>",
         "legendgroup": "111",
         "marker": {
          "color": [
           2
          ],
          "coloraxis": "coloraxis",
          "symbol": "cross"
         },
         "mode": "markers",
         "name": "111",
         "scene": "scene",
         "showlegend": true,
         "type": "scatter3d",
         "x": [
          -3517.1853860384317
         ],
         "y": [
          5006.456985696109
         ],
         "z": [
          -996.8550442154135
         ]
        },
        {
         "customdata": [
          [
           112
          ]
         ],
         "hovertemplate": "Sensor ID=%{customdata[0]}<br>Principal Component 1=%{x}<br>Principal Component 2=%{y}<br>Principal Component 3=%{z}<br>Cluster=%{marker.color}<extra></extra>",
         "legendgroup": "112",
         "marker": {
          "color": [
           0
          ],
          "coloraxis": "coloraxis",
          "symbol": "circle"
         },
         "mode": "markers",
         "name": "112",
         "scene": "scene",
         "showlegend": true,
         "type": "scatter3d",
         "x": [
          -3230.0824514573196
         ],
         "y": [
          -3601.402727790063
         ],
         "z": [
          2758.5332835432846
         ]
        },
        {
         "customdata": [
          [
           113
          ]
         ],
         "hovertemplate": "Sensor ID=%{customdata[0]}<br>Principal Component 1=%{x}<br>Principal Component 2=%{y}<br>Principal Component 3=%{z}<br>Cluster=%{marker.color}<extra></extra>",
         "legendgroup": "113",
         "marker": {
          "color": [
           1
          ],
          "coloraxis": "coloraxis",
          "symbol": "diamond"
         },
         "mode": "markers",
         "name": "113",
         "scene": "scene",
         "showlegend": true,
         "type": "scatter3d",
         "x": [
          62396.3218536005
         ],
         "y": [
          -1585.3723529823412
         ],
         "z": [
          388.98421254907055
         ]
        },
        {
         "customdata": [
          [
           114
          ]
         ],
         "hovertemplate": "Sensor ID=%{customdata[0]}<br>Principal Component 1=%{x}<br>Principal Component 2=%{y}<br>Principal Component 3=%{z}<br>Cluster=%{marker.color}<extra></extra>",
         "legendgroup": "114",
         "marker": {
          "color": [
           0
          ],
          "coloraxis": "coloraxis",
          "symbol": "square"
         },
         "mode": "markers",
         "name": "114",
         "scene": "scene",
         "showlegend": true,
         "type": "scatter3d",
         "x": [
          -3204.7541153956067
         ],
         "y": [
          -636.2548887572367
         ],
         "z": [
          2403.313372788093
         ]
        },
        {
         "customdata": [
          [
           115
          ]
         ],
         "hovertemplate": "Sensor ID=%{customdata[0]}<br>Principal Component 1=%{x}<br>Principal Component 2=%{y}<br>Principal Component 3=%{z}<br>Cluster=%{marker.color}<extra></extra>",
         "legendgroup": "115",
         "marker": {
          "color": [
           2
          ],
          "coloraxis": "coloraxis",
          "symbol": "x"
         },
         "mode": "markers",
         "name": "115",
         "scene": "scene",
         "showlegend": true,
         "type": "scatter3d",
         "x": [
          -2813.522253154471
         ],
         "y": [
          3376.142031785655
         ],
         "z": [
          -3471.923452783856
         ]
        },
        {
         "customdata": [
          [
           116
          ]
         ],
         "hovertemplate": "Sensor ID=%{customdata[0]}<br>Principal Component 1=%{x}<br>Principal Component 2=%{y}<br>Principal Component 3=%{z}<br>Cluster=%{marker.color}<extra></extra>",
         "legendgroup": "116",
         "marker": {
          "color": [
           2
          ],
          "coloraxis": "coloraxis",
          "symbol": "cross"
         },
         "mode": "markers",
         "name": "116",
         "scene": "scene",
         "showlegend": true,
         "type": "scatter3d",
         "x": [
          -2872.0633172471576
         ],
         "y": [
          6023.02973480782
         ],
         "z": [
          -1212.2063121639796
         ]
        },
        {
         "customdata": [
          [
           117
          ]
         ],
         "hovertemplate": "Sensor ID=%{customdata[0]}<br>Principal Component 1=%{x}<br>Principal Component 2=%{y}<br>Principal Component 3=%{z}<br>Cluster=%{marker.color}<extra></extra>",
         "legendgroup": "117",
         "marker": {
          "color": [
           3
          ],
          "coloraxis": "coloraxis",
          "symbol": "circle"
         },
         "mode": "markers",
         "name": "117",
         "scene": "scene",
         "showlegend": true,
         "type": "scatter3d",
         "x": [
          -2679.321496922453
         ],
         "y": [
          571.2471025853134
         ],
         "z": [
          -3483.3534425000703
         ]
        },
        {
         "customdata": [
          [
           118
          ]
         ],
         "hovertemplate": "Sensor ID=%{customdata[0]}<br>Principal Component 1=%{x}<br>Principal Component 2=%{y}<br>Principal Component 3=%{z}<br>Cluster=%{marker.color}<extra></extra>",
         "legendgroup": "118",
         "marker": {
          "color": [
           3
          ],
          "coloraxis": "coloraxis",
          "symbol": "diamond"
         },
         "mode": "markers",
         "name": "118",
         "scene": "scene",
         "showlegend": true,
         "type": "scatter3d",
         "x": [
          -3344.2701952169405
         ],
         "y": [
          -740.9983218458219
         ],
         "z": [
          -1007.8181169126987
         ]
        },
        {
         "customdata": [
          [
           119
          ]
         ],
         "hovertemplate": "Sensor ID=%{customdata[0]}<br>Principal Component 1=%{x}<br>Principal Component 2=%{y}<br>Principal Component 3=%{z}<br>Cluster=%{marker.color}<extra></extra>",
         "legendgroup": "119",
         "marker": {
          "color": [
           0
          ],
          "coloraxis": "coloraxis",
          "symbol": "square"
         },
         "mode": "markers",
         "name": "119",
         "scene": "scene",
         "showlegend": true,
         "type": "scatter3d",
         "x": [
          -2570.899236390458
         ],
         "y": [
          -1568.513915412486
         ],
         "z": [
          3141.3796623155804
         ]
        },
        {
         "customdata": [
          [
           120
          ]
         ],
         "hovertemplate": "Sensor ID=%{customdata[0]}<br>Principal Component 1=%{x}<br>Principal Component 2=%{y}<br>Principal Component 3=%{z}<br>Cluster=%{marker.color}<extra></extra>",
         "legendgroup": "120",
         "marker": {
          "color": [
           2
          ],
          "coloraxis": "coloraxis",
          "symbol": "x"
         },
         "mode": "markers",
         "name": "120",
         "scene": "scene",
         "showlegend": true,
         "type": "scatter3d",
         "x": [
          -3407.8882925340113
         ],
         "y": [
          1943.63363857711
         ],
         "z": [
          1849.4896391434784
         ]
        },
        {
         "customdata": [
          [
           121
          ]
         ],
         "hovertemplate": "Sensor ID=%{customdata[0]}<br>Principal Component 1=%{x}<br>Principal Component 2=%{y}<br>Principal Component 3=%{z}<br>Cluster=%{marker.color}<extra></extra>",
         "legendgroup": "121",
         "marker": {
          "color": [
           1
          ],
          "coloraxis": "coloraxis",
          "symbol": "cross"
         },
         "mode": "markers",
         "name": "121",
         "scene": "scene",
         "showlegend": true,
         "type": "scatter3d",
         "x": [
          62304.804735428595
         ],
         "y": [
          -287.1392666928529
         ],
         "z": [
          768.363653959554
         ]
        },
        {
         "customdata": [
          [
           122
          ]
         ],
         "hovertemplate": "Sensor ID=%{customdata[0]}<br>Principal Component 1=%{x}<br>Principal Component 2=%{y}<br>Principal Component 3=%{z}<br>Cluster=%{marker.color}<extra></extra>",
         "legendgroup": "122",
         "marker": {
          "color": [
           2
          ],
          "coloraxis": "coloraxis",
          "symbol": "circle"
         },
         "mode": "markers",
         "name": "122",
         "scene": "scene",
         "showlegend": true,
         "type": "scatter3d",
         "x": [
          -3522.5429458610556
         ],
         "y": [
          3245.102460831463
         ],
         "z": [
          -1034.965846395566
         ]
        },
        {
         "customdata": [
          [
           123
          ]
         ],
         "hovertemplate": "Sensor ID=%{customdata[0]}<br>Principal Component 1=%{x}<br>Principal Component 2=%{y}<br>Principal Component 3=%{z}<br>Cluster=%{marker.color}<extra></extra>",
         "legendgroup": "123",
         "marker": {
          "color": [
           0
          ],
          "coloraxis": "coloraxis",
          "symbol": "diamond"
         },
         "mode": "markers",
         "name": "123",
         "scene": "scene",
         "showlegend": true,
         "type": "scatter3d",
         "x": [
          -3341.8581769025136
         ],
         "y": [
          -3250.2668869050685
         ],
         "z": [
          864.6614773658558
         ]
        },
        {
         "customdata": [
          [
           124
          ]
         ],
         "hovertemplate": "Sensor ID=%{customdata[0]}<br>Principal Component 1=%{x}<br>Principal Component 2=%{y}<br>Principal Component 3=%{z}<br>Cluster=%{marker.color}<extra></extra>",
         "legendgroup": "124",
         "marker": {
          "color": [
           1
          ],
          "coloraxis": "coloraxis",
          "symbol": "square"
         },
         "mode": "markers",
         "name": "124",
         "scene": "scene",
         "showlegend": true,
         "type": "scatter3d",
         "x": [
          62158.417263609976
         ],
         "y": [
          4297.626121347508
         ],
         "z": [
          958.3664663879747
         ]
        },
        {
         "customdata": [
          [
           125
          ]
         ],
         "hovertemplate": "Sensor ID=%{customdata[0]}<br>Principal Component 1=%{x}<br>Principal Component 2=%{y}<br>Principal Component 3=%{z}<br>Cluster=%{marker.color}<extra></extra>",
         "legendgroup": "125",
         "marker": {
          "color": [
           3
          ],
          "coloraxis": "coloraxis",
          "symbol": "x"
         },
         "mode": "markers",
         "name": "125",
         "scene": "scene",
         "showlegend": true,
         "type": "scatter3d",
         "x": [
          -3355.467579196138
         ],
         "y": [
          284.4882558055963
         ],
         "z": [
          -1692.6619514508066
         ]
        }
       ],
       "layout": {
        "coloraxis": {
         "colorbar": {
          "title": {
           "text": "Cluster"
          }
         },
         "colorscale": [
          [
           0,
           "#0d0887"
          ],
          [
           0.1111111111111111,
           "#46039f"
          ],
          [
           0.2222222222222222,
           "#7201a8"
          ],
          [
           0.3333333333333333,
           "#9c179e"
          ],
          [
           0.4444444444444444,
           "#bd3786"
          ],
          [
           0.5555555555555556,
           "#d8576b"
          ],
          [
           0.6666666666666666,
           "#ed7953"
          ],
          [
           0.7777777777777778,
           "#fb9f3a"
          ],
          [
           0.8888888888888888,
           "#fdca26"
          ],
          [
           1,
           "#f0f921"
          ]
         ]
        },
        "legend": {
         "title": {
          "text": "Sensor ID"
         },
         "tracegroupgap": 0
        },
        "scene": {
         "domain": {
          "x": [
           0,
           1
          ],
          "y": [
           0,
           1
          ]
         },
         "xaxis": {
          "title": {
           "text": "Principal Component 1"
          }
         },
         "yaxis": {
          "title": {
           "text": "Principal Component 2"
          }
         },
         "zaxis": {
          "title": {
           "text": "Principal Component 3"
          }
         }
        },
        "template": {
         "data": {
          "bar": [
           {
            "error_x": {
             "color": "#2a3f5f"
            },
            "error_y": {
             "color": "#2a3f5f"
            },
            "marker": {
             "line": {
              "color": "#E5ECF6",
              "width": 0.5
             },
             "pattern": {
              "fillmode": "overlay",
              "size": 10,
              "solidity": 0.2
             }
            },
            "type": "bar"
           }
          ],
          "barpolar": [
           {
            "marker": {
             "line": {
              "color": "#E5ECF6",
              "width": 0.5
             },
             "pattern": {
              "fillmode": "overlay",
              "size": 10,
              "solidity": 0.2
             }
            },
            "type": "barpolar"
           }
          ],
          "carpet": [
           {
            "aaxis": {
             "endlinecolor": "#2a3f5f",
             "gridcolor": "white",
             "linecolor": "white",
             "minorgridcolor": "white",
             "startlinecolor": "#2a3f5f"
            },
            "baxis": {
             "endlinecolor": "#2a3f5f",
             "gridcolor": "white",
             "linecolor": "white",
             "minorgridcolor": "white",
             "startlinecolor": "#2a3f5f"
            },
            "type": "carpet"
           }
          ],
          "choropleth": [
           {
            "colorbar": {
             "outlinewidth": 0,
             "ticks": ""
            },
            "type": "choropleth"
           }
          ],
          "contour": [
           {
            "colorbar": {
             "outlinewidth": 0,
             "ticks": ""
            },
            "colorscale": [
             [
              0,
              "#0d0887"
             ],
             [
              0.1111111111111111,
              "#46039f"
             ],
             [
              0.2222222222222222,
              "#7201a8"
             ],
             [
              0.3333333333333333,
              "#9c179e"
             ],
             [
              0.4444444444444444,
              "#bd3786"
             ],
             [
              0.5555555555555556,
              "#d8576b"
             ],
             [
              0.6666666666666666,
              "#ed7953"
             ],
             [
              0.7777777777777778,
              "#fb9f3a"
             ],
             [
              0.8888888888888888,
              "#fdca26"
             ],
             [
              1,
              "#f0f921"
             ]
            ],
            "type": "contour"
           }
          ],
          "contourcarpet": [
           {
            "colorbar": {
             "outlinewidth": 0,
             "ticks": ""
            },
            "type": "contourcarpet"
           }
          ],
          "heatmap": [
           {
            "colorbar": {
             "outlinewidth": 0,
             "ticks": ""
            },
            "colorscale": [
             [
              0,
              "#0d0887"
             ],
             [
              0.1111111111111111,
              "#46039f"
             ],
             [
              0.2222222222222222,
              "#7201a8"
             ],
             [
              0.3333333333333333,
              "#9c179e"
             ],
             [
              0.4444444444444444,
              "#bd3786"
             ],
             [
              0.5555555555555556,
              "#d8576b"
             ],
             [
              0.6666666666666666,
              "#ed7953"
             ],
             [
              0.7777777777777778,
              "#fb9f3a"
             ],
             [
              0.8888888888888888,
              "#fdca26"
             ],
             [
              1,
              "#f0f921"
             ]
            ],
            "type": "heatmap"
           }
          ],
          "heatmapgl": [
           {
            "colorbar": {
             "outlinewidth": 0,
             "ticks": ""
            },
            "colorscale": [
             [
              0,
              "#0d0887"
             ],
             [
              0.1111111111111111,
              "#46039f"
             ],
             [
              0.2222222222222222,
              "#7201a8"
             ],
             [
              0.3333333333333333,
              "#9c179e"
             ],
             [
              0.4444444444444444,
              "#bd3786"
             ],
             [
              0.5555555555555556,
              "#d8576b"
             ],
             [
              0.6666666666666666,
              "#ed7953"
             ],
             [
              0.7777777777777778,
              "#fb9f3a"
             ],
             [
              0.8888888888888888,
              "#fdca26"
             ],
             [
              1,
              "#f0f921"
             ]
            ],
            "type": "heatmapgl"
           }
          ],
          "histogram": [
           {
            "marker": {
             "pattern": {
              "fillmode": "overlay",
              "size": 10,
              "solidity": 0.2
             }
            },
            "type": "histogram"
           }
          ],
          "histogram2d": [
           {
            "colorbar": {
             "outlinewidth": 0,
             "ticks": ""
            },
            "colorscale": [
             [
              0,
              "#0d0887"
             ],
             [
              0.1111111111111111,
              "#46039f"
             ],
             [
              0.2222222222222222,
              "#7201a8"
             ],
             [
              0.3333333333333333,
              "#9c179e"
             ],
             [
              0.4444444444444444,
              "#bd3786"
             ],
             [
              0.5555555555555556,
              "#d8576b"
             ],
             [
              0.6666666666666666,
              "#ed7953"
             ],
             [
              0.7777777777777778,
              "#fb9f3a"
             ],
             [
              0.8888888888888888,
              "#fdca26"
             ],
             [
              1,
              "#f0f921"
             ]
            ],
            "type": "histogram2d"
           }
          ],
          "histogram2dcontour": [
           {
            "colorbar": {
             "outlinewidth": 0,
             "ticks": ""
            },
            "colorscale": [
             [
              0,
              "#0d0887"
             ],
             [
              0.1111111111111111,
              "#46039f"
             ],
             [
              0.2222222222222222,
              "#7201a8"
             ],
             [
              0.3333333333333333,
              "#9c179e"
             ],
             [
              0.4444444444444444,
              "#bd3786"
             ],
             [
              0.5555555555555556,
              "#d8576b"
             ],
             [
              0.6666666666666666,
              "#ed7953"
             ],
             [
              0.7777777777777778,
              "#fb9f3a"
             ],
             [
              0.8888888888888888,
              "#fdca26"
             ],
             [
              1,
              "#f0f921"
             ]
            ],
            "type": "histogram2dcontour"
           }
          ],
          "mesh3d": [
           {
            "colorbar": {
             "outlinewidth": 0,
             "ticks": ""
            },
            "type": "mesh3d"
           }
          ],
          "parcoords": [
           {
            "line": {
             "colorbar": {
              "outlinewidth": 0,
              "ticks": ""
             }
            },
            "type": "parcoords"
           }
          ],
          "pie": [
           {
            "automargin": true,
            "type": "pie"
           }
          ],
          "scatter": [
           {
            "fillpattern": {
             "fillmode": "overlay",
             "size": 10,
             "solidity": 0.2
            },
            "type": "scatter"
           }
          ],
          "scatter3d": [
           {
            "line": {
             "colorbar": {
              "outlinewidth": 0,
              "ticks": ""
             }
            },
            "marker": {
             "colorbar": {
              "outlinewidth": 0,
              "ticks": ""
             }
            },
            "type": "scatter3d"
           }
          ],
          "scattercarpet": [
           {
            "marker": {
             "colorbar": {
              "outlinewidth": 0,
              "ticks": ""
             }
            },
            "type": "scattercarpet"
           }
          ],
          "scattergeo": [
           {
            "marker": {
             "colorbar": {
              "outlinewidth": 0,
              "ticks": ""
             }
            },
            "type": "scattergeo"
           }
          ],
          "scattergl": [
           {
            "marker": {
             "colorbar": {
              "outlinewidth": 0,
              "ticks": ""
             }
            },
            "type": "scattergl"
           }
          ],
          "scattermapbox": [
           {
            "marker": {
             "colorbar": {
              "outlinewidth": 0,
              "ticks": ""
             }
            },
            "type": "scattermapbox"
           }
          ],
          "scatterpolar": [
           {
            "marker": {
             "colorbar": {
              "outlinewidth": 0,
              "ticks": ""
             }
            },
            "type": "scatterpolar"
           }
          ],
          "scatterpolargl": [
           {
            "marker": {
             "colorbar": {
              "outlinewidth": 0,
              "ticks": ""
             }
            },
            "type": "scatterpolargl"
           }
          ],
          "scatterternary": [
           {
            "marker": {
             "colorbar": {
              "outlinewidth": 0,
              "ticks": ""
             }
            },
            "type": "scatterternary"
           }
          ],
          "surface": [
           {
            "colorbar": {
             "outlinewidth": 0,
             "ticks": ""
            },
            "colorscale": [
             [
              0,
              "#0d0887"
             ],
             [
              0.1111111111111111,
              "#46039f"
             ],
             [
              0.2222222222222222,
              "#7201a8"
             ],
             [
              0.3333333333333333,
              "#9c179e"
             ],
             [
              0.4444444444444444,
              "#bd3786"
             ],
             [
              0.5555555555555556,
              "#d8576b"
             ],
             [
              0.6666666666666666,
              "#ed7953"
             ],
             [
              0.7777777777777778,
              "#fb9f3a"
             ],
             [
              0.8888888888888888,
              "#fdca26"
             ],
             [
              1,
              "#f0f921"
             ]
            ],
            "type": "surface"
           }
          ],
          "table": [
           {
            "cells": {
             "fill": {
              "color": "#EBF0F8"
             },
             "line": {
              "color": "white"
             }
            },
            "header": {
             "fill": {
              "color": "#C8D4E3"
             },
             "line": {
              "color": "white"
             }
            },
            "type": "table"
           }
          ]
         },
         "layout": {
          "annotationdefaults": {
           "arrowcolor": "#2a3f5f",
           "arrowhead": 0,
           "arrowwidth": 1
          },
          "autotypenumbers": "strict",
          "coloraxis": {
           "colorbar": {
            "outlinewidth": 0,
            "ticks": ""
           }
          },
          "colorscale": {
           "diverging": [
            [
             0,
             "#8e0152"
            ],
            [
             0.1,
             "#c51b7d"
            ],
            [
             0.2,
             "#de77ae"
            ],
            [
             0.3,
             "#f1b6da"
            ],
            [
             0.4,
             "#fde0ef"
            ],
            [
             0.5,
             "#f7f7f7"
            ],
            [
             0.6,
             "#e6f5d0"
            ],
            [
             0.7,
             "#b8e186"
            ],
            [
             0.8,
             "#7fbc41"
            ],
            [
             0.9,
             "#4d9221"
            ],
            [
             1,
             "#276419"
            ]
           ],
           "sequential": [
            [
             0,
             "#0d0887"
            ],
            [
             0.1111111111111111,
             "#46039f"
            ],
            [
             0.2222222222222222,
             "#7201a8"
            ],
            [
             0.3333333333333333,
             "#9c179e"
            ],
            [
             0.4444444444444444,
             "#bd3786"
            ],
            [
             0.5555555555555556,
             "#d8576b"
            ],
            [
             0.6666666666666666,
             "#ed7953"
            ],
            [
             0.7777777777777778,
             "#fb9f3a"
            ],
            [
             0.8888888888888888,
             "#fdca26"
            ],
            [
             1,
             "#f0f921"
            ]
           ],
           "sequentialminus": [
            [
             0,
             "#0d0887"
            ],
            [
             0.1111111111111111,
             "#46039f"
            ],
            [
             0.2222222222222222,
             "#7201a8"
            ],
            [
             0.3333333333333333,
             "#9c179e"
            ],
            [
             0.4444444444444444,
             "#bd3786"
            ],
            [
             0.5555555555555556,
             "#d8576b"
            ],
            [
             0.6666666666666666,
             "#ed7953"
            ],
            [
             0.7777777777777778,
             "#fb9f3a"
            ],
            [
             0.8888888888888888,
             "#fdca26"
            ],
            [
             1,
             "#f0f921"
            ]
           ]
          },
          "colorway": [
           "#636efa",
           "#EF553B",
           "#00cc96",
           "#ab63fa",
           "#FFA15A",
           "#19d3f3",
           "#FF6692",
           "#B6E880",
           "#FF97FF",
           "#FECB52"
          ],
          "font": {
           "color": "#2a3f5f"
          },
          "geo": {
           "bgcolor": "white",
           "lakecolor": "white",
           "landcolor": "#E5ECF6",
           "showlakes": true,
           "showland": true,
           "subunitcolor": "white"
          },
          "hoverlabel": {
           "align": "left"
          },
          "hovermode": "closest",
          "mapbox": {
           "style": "light"
          },
          "paper_bgcolor": "white",
          "plot_bgcolor": "#E5ECF6",
          "polar": {
           "angularaxis": {
            "gridcolor": "white",
            "linecolor": "white",
            "ticks": ""
           },
           "bgcolor": "#E5ECF6",
           "radialaxis": {
            "gridcolor": "white",
            "linecolor": "white",
            "ticks": ""
           }
          },
          "scene": {
           "xaxis": {
            "backgroundcolor": "#E5ECF6",
            "gridcolor": "white",
            "gridwidth": 2,
            "linecolor": "white",
            "showbackground": true,
            "ticks": "",
            "zerolinecolor": "white"
           },
           "yaxis": {
            "backgroundcolor": "#E5ECF6",
            "gridcolor": "white",
            "gridwidth": 2,
            "linecolor": "white",
            "showbackground": true,
            "ticks": "",
            "zerolinecolor": "white"
           },
           "zaxis": {
            "backgroundcolor": "#E5ECF6",
            "gridcolor": "white",
            "gridwidth": 2,
            "linecolor": "white",
            "showbackground": true,
            "ticks": "",
            "zerolinecolor": "white"
           }
          },
          "shapedefaults": {
           "line": {
            "color": "#2a3f5f"
           }
          },
          "ternary": {
           "aaxis": {
            "gridcolor": "white",
            "linecolor": "white",
            "ticks": ""
           },
           "baxis": {
            "gridcolor": "white",
            "linecolor": "white",
            "ticks": ""
           },
           "bgcolor": "#E5ECF6",
           "caxis": {
            "gridcolor": "white",
            "linecolor": "white",
            "ticks": ""
           }
          },
          "title": {
           "x": 0.05
          },
          "xaxis": {
           "automargin": true,
           "gridcolor": "white",
           "linecolor": "white",
           "ticks": "",
           "title": {
            "standoff": 15
           },
           "zerolinecolor": "white",
           "zerolinewidth": 2
          },
          "yaxis": {
           "automargin": true,
           "gridcolor": "white",
           "linecolor": "white",
           "ticks": "",
           "title": {
            "standoff": 15
           },
           "zerolinecolor": "white",
           "zerolinewidth": 2
          }
         }
        },
        "title": {
         "text": "K-Means Clustering of Sensors Using PCA"
        }
       }
      }
     },
     "metadata": {},
     "output_type": "display_data"
    }
   ],
   "source": [
    "from sklearn.cluster import KMeans\n",
    "\n",
    "# Apply PCA\n",
    "pca = PCA(n_components=3)\n",
    "principal_components = pca.fit_transform(reduced_data_corr.drop(columns=['Sensor ID']))\n",
    "principal_df = pd.DataFrame(data=principal_components, columns=['PC1', 'PC2', 'PC3'])\n",
    "principal_df['Sensor ID'] = reduced_data_corr['Sensor ID']\n",
    "\n",
    "# Apply K-Means clustering\n",
    "kmeans = KMeans(n_clusters=4, random_state=42)\n",
    "principal_df['Cluster'] = kmeans.fit_predict(principal_df[['PC1', 'PC2', 'PC3']])\n",
    "\n",
    "# Create an interactive 3D scatter plot\n",
    "fig = px.scatter_3d(\n",
    "    principal_df,\n",
    "    x='PC1',\n",
    "    y='PC2',\n",
    "    z='PC3',\n",
    "    color='Cluster',\n",
    "    symbol='Sensor ID',\n",
    "    title='K-Means Clustering of Sensors Using PCA',\n",
    "    labels={'PC1': 'Principal Component 1', 'PC2': 'Principal Component 2', 'PC3': 'Principal Component 3'},\n",
    "    hover_data=['Sensor ID']\n",
    ")\n",
    "\n",
    "fig.show()"
   ]
  },
  {
   "cell_type": "markdown",
   "metadata": {},
   "source": [
    "# Retain Features that previously existed"
   ]
  },
  {
   "cell_type": "code",
   "execution_count": 100,
   "metadata": {},
   "outputs": [
    {
     "data": {
      "text/html": [
       "<div>\n",
       "<style scoped>\n",
       "    .dataframe tbody tr th:only-of-type {\n",
       "        vertical-align: middle;\n",
       "    }\n",
       "\n",
       "    .dataframe tbody tr th {\n",
       "        vertical-align: top;\n",
       "    }\n",
       "\n",
       "    .dataframe thead th {\n",
       "        text-align: right;\n",
       "    }\n",
       "</style>\n",
       "<table border=\"1\" class=\"dataframe\">\n",
       "  <thead>\n",
       "    <tr style=\"text-align: right;\">\n",
       "      <th>range_delay</th>\n",
       "      <th>Sensor ID</th>\n",
       "      <th>13_10000_mean_middle</th>\n",
       "      <th>13_16800_mean_middle</th>\n",
       "      <th>13_3000_mean_middle</th>\n",
       "      <th>13_6000_mean_middle</th>\n",
       "      <th>13_8000_mean_middle</th>\n",
       "      <th>18_10000_mean_middle</th>\n",
       "      <th>18_16800_mean_middle</th>\n",
       "      <th>18_3000_mean_middle</th>\n",
       "      <th>18_6000_mean_middle</th>\n",
       "      <th>...</th>\n",
       "      <th>48_10000_mean_upper</th>\n",
       "      <th>48_16800_mean_upper</th>\n",
       "      <th>48_3000_mean_upper</th>\n",
       "      <th>48_6000_mean_upper</th>\n",
       "      <th>48_8000_mean_upper</th>\n",
       "      <th>53_10000_mean_upper</th>\n",
       "      <th>53_16800_mean_upper</th>\n",
       "      <th>53_3000_mean_upper</th>\n",
       "      <th>53_6000_mean_upper</th>\n",
       "      <th>53_8000_mean_upper</th>\n",
       "    </tr>\n",
       "  </thead>\n",
       "  <tbody>\n",
       "    <tr>\n",
       "      <th>0</th>\n",
       "      <td>1</td>\n",
       "      <td>827.00</td>\n",
       "      <td>827.000000</td>\n",
       "      <td>827.00</td>\n",
       "      <td>827.00</td>\n",
       "      <td>827.00</td>\n",
       "      <td>1071.000000</td>\n",
       "      <td>1069.285714</td>\n",
       "      <td>1069.240000</td>\n",
       "      <td>1069.400000</td>\n",
       "      <td>...</td>\n",
       "      <td>2795.000000</td>\n",
       "      <td>0.0</td>\n",
       "      <td>2809.4</td>\n",
       "      <td>2803.000000</td>\n",
       "      <td>2800.333333</td>\n",
       "      <td>2995.545455</td>\n",
       "      <td>0.0</td>\n",
       "      <td>2995.444444</td>\n",
       "      <td>3039.727273</td>\n",
       "      <td>3004.043478</td>\n",
       "    </tr>\n",
       "    <tr>\n",
       "      <th>1</th>\n",
       "      <td>2</td>\n",
       "      <td>679.64</td>\n",
       "      <td>679.000000</td>\n",
       "      <td>679.00</td>\n",
       "      <td>679.00</td>\n",
       "      <td>679.00</td>\n",
       "      <td>943.000000</td>\n",
       "      <td>954.200000</td>\n",
       "      <td>967.260870</td>\n",
       "      <td>954.520000</td>\n",
       "      <td>...</td>\n",
       "      <td>2669.521739</td>\n",
       "      <td>0.0</td>\n",
       "      <td>0.0</td>\n",
       "      <td>0.000000</td>\n",
       "      <td>2691.000000</td>\n",
       "      <td>0.000000</td>\n",
       "      <td>2371.0</td>\n",
       "      <td>0.000000</td>\n",
       "      <td>2951.744186</td>\n",
       "      <td>0.000000</td>\n",
       "    </tr>\n",
       "    <tr>\n",
       "      <th>2</th>\n",
       "      <td>3</td>\n",
       "      <td>717.88</td>\n",
       "      <td>717.727273</td>\n",
       "      <td>718.04</td>\n",
       "      <td>717.24</td>\n",
       "      <td>718.04</td>\n",
       "      <td>1029.933333</td>\n",
       "      <td>1020.920000</td>\n",
       "      <td>1007.000000</td>\n",
       "      <td>1005.960000</td>\n",
       "      <td>...</td>\n",
       "      <td>0.000000</td>\n",
       "      <td>0.0</td>\n",
       "      <td>2743.0</td>\n",
       "      <td>2727.000000</td>\n",
       "      <td>0.000000</td>\n",
       "      <td>0.000000</td>\n",
       "      <td>0.0</td>\n",
       "      <td>0.000000</td>\n",
       "      <td>0.000000</td>\n",
       "      <td>0.000000</td>\n",
       "    </tr>\n",
       "    <tr>\n",
       "      <th>3</th>\n",
       "      <td>4</td>\n",
       "      <td>737.08</td>\n",
       "      <td>736.840000</td>\n",
       "      <td>737.16</td>\n",
       "      <td>736.92</td>\n",
       "      <td>736.68</td>\n",
       "      <td>1030.351351</td>\n",
       "      <td>1031.000000</td>\n",
       "      <td>1028.840000</td>\n",
       "      <td>1087.000000</td>\n",
       "      <td>...</td>\n",
       "      <td>0.000000</td>\n",
       "      <td>0.0</td>\n",
       "      <td>0.0</td>\n",
       "      <td>2755.195122</td>\n",
       "      <td>0.000000</td>\n",
       "      <td>3000.000000</td>\n",
       "      <td>3019.0</td>\n",
       "      <td>3000.116279</td>\n",
       "      <td>2999.930233</td>\n",
       "      <td>3000.116279</td>\n",
       "    </tr>\n",
       "    <tr>\n",
       "      <th>4</th>\n",
       "      <td>5</td>\n",
       "      <td>743.00</td>\n",
       "      <td>742.894737</td>\n",
       "      <td>741.88</td>\n",
       "      <td>743.00</td>\n",
       "      <td>743.00</td>\n",
       "      <td>1046.102041</td>\n",
       "      <td>1045.697674</td>\n",
       "      <td>1047.244898</td>\n",
       "      <td>1046.288889</td>\n",
       "      <td>...</td>\n",
       "      <td>0.000000</td>\n",
       "      <td>2755.0</td>\n",
       "      <td>0.0</td>\n",
       "      <td>0.000000</td>\n",
       "      <td>0.000000</td>\n",
       "      <td>0.000000</td>\n",
       "      <td>0.0</td>\n",
       "      <td>0.000000</td>\n",
       "      <td>0.000000</td>\n",
       "      <td>0.000000</td>\n",
       "    </tr>\n",
       "  </tbody>\n",
       "</table>\n",
       "<p>5 rows × 136 columns</p>\n",
       "</div>"
      ],
      "text/plain": [
       "range_delay  Sensor ID  13_10000_mean_middle  13_16800_mean_middle  \\\n",
       "0                    1                827.00            827.000000   \n",
       "1                    2                679.64            679.000000   \n",
       "2                    3                717.88            717.727273   \n",
       "3                    4                737.08            736.840000   \n",
       "4                    5                743.00            742.894737   \n",
       "\n",
       "range_delay  13_3000_mean_middle  13_6000_mean_middle  13_8000_mean_middle  \\\n",
       "0                         827.00               827.00               827.00   \n",
       "1                         679.00               679.00               679.00   \n",
       "2                         718.04               717.24               718.04   \n",
       "3                         737.16               736.92               736.68   \n",
       "4                         741.88               743.00               743.00   \n",
       "\n",
       "range_delay  18_10000_mean_middle  18_16800_mean_middle  18_3000_mean_middle  \\\n",
       "0                     1071.000000           1069.285714          1069.240000   \n",
       "1                      943.000000            954.200000           967.260870   \n",
       "2                     1029.933333           1020.920000          1007.000000   \n",
       "3                     1030.351351           1031.000000          1028.840000   \n",
       "4                     1046.102041           1045.697674          1047.244898   \n",
       "\n",
       "range_delay  18_6000_mean_middle  ...  48_10000_mean_upper  \\\n",
       "0                    1069.400000  ...          2795.000000   \n",
       "1                     954.520000  ...          2669.521739   \n",
       "2                    1005.960000  ...             0.000000   \n",
       "3                    1087.000000  ...             0.000000   \n",
       "4                    1046.288889  ...             0.000000   \n",
       "\n",
       "range_delay  48_16800_mean_upper  48_3000_mean_upper  48_6000_mean_upper  \\\n",
       "0                            0.0              2809.4         2803.000000   \n",
       "1                            0.0                 0.0            0.000000   \n",
       "2                            0.0              2743.0         2727.000000   \n",
       "3                            0.0                 0.0         2755.195122   \n",
       "4                         2755.0                 0.0            0.000000   \n",
       "\n",
       "range_delay  48_8000_mean_upper  53_10000_mean_upper  53_16800_mean_upper  \\\n",
       "0                   2800.333333          2995.545455                  0.0   \n",
       "1                   2691.000000             0.000000               2371.0   \n",
       "2                      0.000000             0.000000                  0.0   \n",
       "3                      0.000000          3000.000000               3019.0   \n",
       "4                      0.000000             0.000000                  0.0   \n",
       "\n",
       "range_delay  53_3000_mean_upper  53_6000_mean_upper  53_8000_mean_upper  \n",
       "0                   2995.444444         3039.727273         3004.043478  \n",
       "1                      0.000000         2951.744186            0.000000  \n",
       "2                      0.000000            0.000000            0.000000  \n",
       "3                   3000.116279         2999.930233         3000.116279  \n",
       "4                      0.000000            0.000000            0.000000  \n",
       "\n",
       "[5 rows x 136 columns]"
      ]
     },
     "execution_count": 100,
     "metadata": {},
     "output_type": "execute_result"
    }
   ],
   "source": [
    "df_range_delay_all.head()"
   ]
  },
  {
   "cell_type": "code",
   "execution_count": 101,
   "metadata": {},
   "outputs": [
    {
     "name": "stderr",
     "output_type": "stream",
     "text": [
      "/var/folders/9b/zsztmz7j6v92l4fdx69q5pxh0000gn/T/ipykernel_48813/2083575612.py:12: DeprecationWarning:\n",
      "\n",
      "DataFrameGroupBy.apply operated on the grouping columns. This behavior is deprecated, and in a future version of pandas the grouping columns will be excluded from the operation. Either pass `include_groups=False` to exclude the groupings or explicitly select the grouping columns after groupby to silence this warning.\n",
      "\n"
     ]
    },
    {
     "data": {
      "text/plain": [
       "{1: {'Color of sensor': ['b'],\n",
       "  'Sensor Configuration': ['HTR'],\n",
       "  'Surface material': ['wood']},\n",
       " 2: {'Color of sensor': ['b'],\n",
       "  'Sensor Configuration': ['HTR'],\n",
       "  'Surface material': ['wood']},\n",
       " 3: {'Color of sensor': ['b'],\n",
       "  'Sensor Configuration': ['HTR'],\n",
       "  'Surface material': ['wood']},\n",
       " 4: {'Color of sensor': ['g'],\n",
       "  'Sensor Configuration': ['HTR'],\n",
       "  'Surface material': ['wood']},\n",
       " 5: {'Color of sensor': ['b'],\n",
       "  'Sensor Configuration': ['HTR'],\n",
       "  'Surface material': ['wood']},\n",
       " 6: {'Color of sensor': ['b'],\n",
       "  'Sensor Configuration': ['HTR'],\n",
       "  'Surface material': ['wood']},\n",
       " 7: {'Color of sensor': ['b'],\n",
       "  'Sensor Configuration': ['HTR'],\n",
       "  'Surface material': ['wood']},\n",
       " 8: {'Color of sensor': ['g'],\n",
       "  'Sensor Configuration': ['HTR'],\n",
       "  'Surface material': ['wood']},\n",
       " 9: {'Color of sensor': ['g'],\n",
       "  'Sensor Configuration': ['HTR'],\n",
       "  'Surface material': ['wood']},\n",
       " 10: {'Color of sensor': ['b'],\n",
       "  'Sensor Configuration': ['HTR'],\n",
       "  'Surface material': ['wood']},\n",
       " 11: {'Color of sensor': ['b'],\n",
       "  'Sensor Configuration': ['HTR'],\n",
       "  'Surface material': ['wood']},\n",
       " 12: {'Color of sensor': ['b'],\n",
       "  'Sensor Configuration': ['HTR'],\n",
       "  'Surface material': ['wood']},\n",
       " 13: {'Color of sensor': ['b'],\n",
       "  'Sensor Configuration': ['HTR'],\n",
       "  'Surface material': ['wood']},\n",
       " 14: {'Color of sensor': ['b'],\n",
       "  'Sensor Configuration': ['HTR'],\n",
       "  'Surface material': ['wood']},\n",
       " 15: {'Color of sensor': ['g'],\n",
       "  'Sensor Configuration': ['HTR'],\n",
       "  'Surface material': ['wood']},\n",
       " 16: {'Color of sensor': ['b'],\n",
       "  'Sensor Configuration': ['HTR'],\n",
       "  'Surface material': ['wood']},\n",
       " 17: {'Color of sensor': ['g'],\n",
       "  'Sensor Configuration': ['HTR'],\n",
       "  'Surface material': ['wood']},\n",
       " 18: {'Color of sensor': ['b'],\n",
       "  'Sensor Configuration': ['HTR'],\n",
       "  'Surface material': ['wood']},\n",
       " 19: {'Color of sensor': ['b'],\n",
       "  'Sensor Configuration': ['HTR'],\n",
       "  'Surface material': ['wood']},\n",
       " 20: {'Color of sensor': ['g'],\n",
       "  'Sensor Configuration': ['HTR'],\n",
       "  'Surface material': ['wood']},\n",
       " 21: {'Color of sensor': ['g'],\n",
       "  'Sensor Configuration': ['HTR'],\n",
       "  'Surface material': ['wood']},\n",
       " 22: {'Color of sensor': ['g'],\n",
       "  'Sensor Configuration': ['HTR'],\n",
       "  'Surface material': ['wood']},\n",
       " 23: {'Color of sensor': ['g'],\n",
       "  'Sensor Configuration': ['HTR'],\n",
       "  'Surface material': ['wood']},\n",
       " 24: {'Color of sensor': ['g'],\n",
       "  'Sensor Configuration': ['HTR'],\n",
       "  'Surface material': ['wood']},\n",
       " 25: {'Color of sensor': ['g'],\n",
       "  'Sensor Configuration': ['HTR'],\n",
       "  'Surface material': ['wood']},\n",
       " 26: {'Color of sensor': ['g'],\n",
       "  'Sensor Configuration': ['HTR'],\n",
       "  'Surface material': ['wood']},\n",
       " 27: {'Color of sensor': ['g'],\n",
       "  'Sensor Configuration': ['HTR'],\n",
       "  'Surface material': ['wood']},\n",
       " 28: {'Color of sensor': ['g'],\n",
       "  'Sensor Configuration': ['HTR'],\n",
       "  'Surface material': ['wood']},\n",
       " 29: {'Color of sensor': ['b'],\n",
       "  'Sensor Configuration': ['HTR'],\n",
       "  'Surface material': ['wood']},\n",
       " 30: {'Color of sensor': ['b'],\n",
       "  'Sensor Configuration': ['HTR'],\n",
       "  'Surface material': ['wood']},\n",
       " 32: {'Color of sensor': ['b'],\n",
       "  'Sensor Configuration': ['HTR'],\n",
       "  'Surface material': ['wood']},\n",
       " 33: {'Color of sensor': ['b'],\n",
       "  'Sensor Configuration': ['HTR'],\n",
       "  'Surface material': ['wood']},\n",
       " 34: {'Color of sensor': ['b'],\n",
       "  'Sensor Configuration': ['HTR'],\n",
       "  'Surface material': ['wood']},\n",
       " 35: {'Color of sensor': ['b'],\n",
       "  'Sensor Configuration': ['HTR'],\n",
       "  'Surface material': ['wood']},\n",
       " 36: {'Color of sensor': ['b'],\n",
       "  'Sensor Configuration': ['HTR'],\n",
       "  'Surface material': ['wood']},\n",
       " 37: {'Color of sensor': ['g'],\n",
       "  'Sensor Configuration': ['HTR'],\n",
       "  'Surface material': ['wood']},\n",
       " 38: {'Color of sensor': ['b'],\n",
       "  'Sensor Configuration': ['HTR'],\n",
       "  'Surface material': ['wood']},\n",
       " 39: {'Color of sensor': ['b'],\n",
       "  'Sensor Configuration': ['HTR'],\n",
       "  'Surface material': ['wood']},\n",
       " 40: {'Color of sensor': ['b'],\n",
       "  'Sensor Configuration': ['HTR'],\n",
       "  'Surface material': ['wood']},\n",
       " 41: {'Color of sensor': ['b'],\n",
       "  'Sensor Configuration': ['HTR'],\n",
       "  'Surface material': ['wood']},\n",
       " 42: {'Color of sensor': ['b'],\n",
       "  'Sensor Configuration': ['HTR'],\n",
       "  'Surface material': ['wood']},\n",
       " 43: {'Color of sensor': ['b'],\n",
       "  'Sensor Configuration': ['HTR'],\n",
       "  'Surface material': ['wood']},\n",
       " 44: {'Color of sensor': ['b'],\n",
       "  'Sensor Configuration': ['HTR'],\n",
       "  'Surface material': ['wood']},\n",
       " 45: {'Color of sensor': ['b'],\n",
       "  'Sensor Configuration': ['HTR'],\n",
       "  'Surface material': ['wood']},\n",
       " 46: {'Color of sensor': ['b'],\n",
       "  'Sensor Configuration': ['HTR'],\n",
       "  'Surface material': ['wood']},\n",
       " 47: {'Color of sensor': ['b'],\n",
       "  'Sensor Configuration': ['HTR'],\n",
       "  'Surface material': ['wood']},\n",
       " 48: {'Color of sensor': ['b'],\n",
       "  'Sensor Configuration': ['HTR'],\n",
       "  'Surface material': ['wood']},\n",
       " 49: {'Color of sensor': ['b'],\n",
       "  'Sensor Configuration': ['HTR'],\n",
       "  'Surface material': ['wood']},\n",
       " 50: {'Color of sensor': ['b'],\n",
       "  'Sensor Configuration': ['HTR'],\n",
       "  'Surface material': ['wood']},\n",
       " 51: {'Color of sensor': ['b'],\n",
       "  'Sensor Configuration': ['HTR'],\n",
       "  'Surface material': ['wood']},\n",
       " 52: {'Color of sensor': ['b'],\n",
       "  'Sensor Configuration': ['HTR'],\n",
       "  'Surface material': ['wood']},\n",
       " 53: {'Color of sensor': ['b'],\n",
       "  'Sensor Configuration': ['HTR'],\n",
       "  'Surface material': ['wood']},\n",
       " 54: {'Color of sensor': ['b'],\n",
       "  'Sensor Configuration': ['HTR'],\n",
       "  'Surface material': ['wood']},\n",
       " 55: {'Color of sensor': ['b'],\n",
       "  'Sensor Configuration': ['HTR'],\n",
       "  'Surface material': ['wood']},\n",
       " 56: {'Color of sensor': ['b'],\n",
       "  'Sensor Configuration': ['HTR'],\n",
       "  'Surface material': ['wood']},\n",
       " 57: {'Color of sensor': ['b'],\n",
       "  'Sensor Configuration': ['HTR'],\n",
       "  'Surface material': ['wood']},\n",
       " 58: {'Color of sensor': ['b'],\n",
       "  'Sensor Configuration': ['HTR'],\n",
       "  'Surface material': ['wood']},\n",
       " 59: {'Color of sensor': ['b'],\n",
       "  'Sensor Configuration': ['HTR'],\n",
       "  'Surface material': ['wood']},\n",
       " 60: {'Color of sensor': ['b'],\n",
       "  'Sensor Configuration': ['HTR'],\n",
       "  'Surface material': ['wood']},\n",
       " 61: {'Color of sensor': ['b'],\n",
       "  'Sensor Configuration': ['HTR'],\n",
       "  'Surface material': ['wood']},\n",
       " 62: {'Color of sensor': ['b'],\n",
       "  'Sensor Configuration': ['HTR'],\n",
       "  'Surface material': ['wood']},\n",
       " 63: {'Color of sensor': ['b'],\n",
       "  'Sensor Configuration': ['HTR'],\n",
       "  'Surface material': ['wood']},\n",
       " 64: {'Color of sensor': ['b'],\n",
       "  'Sensor Configuration': ['HTR'],\n",
       "  'Surface material': ['wood']},\n",
       " 65: {'Color of sensor': ['b'],\n",
       "  'Sensor Configuration': ['HTR'],\n",
       "  'Surface material': ['wood']},\n",
       " 66: {'Color of sensor': ['b'],\n",
       "  'Sensor Configuration': ['HTR'],\n",
       "  'Surface material': ['wood']},\n",
       " 67: {'Color of sensor': ['b'],\n",
       "  'Sensor Configuration': ['HTR'],\n",
       "  'Surface material': ['wood']},\n",
       " 68: {'Color of sensor': ['b'],\n",
       "  'Sensor Configuration': ['HTR'],\n",
       "  'Surface material': ['wood']},\n",
       " 69: {'Color of sensor': ['b'],\n",
       "  'Sensor Configuration': ['HTR'],\n",
       "  'Surface material': ['wood']},\n",
       " 70: {'Color of sensor': ['b'],\n",
       "  'Sensor Configuration': ['HTR'],\n",
       "  'Surface material': ['wood']},\n",
       " 71: {'Color of sensor': ['b'],\n",
       "  'Sensor Configuration': ['HTR'],\n",
       "  'Surface material': ['wood']},\n",
       " 72: {'Color of sensor': ['b'],\n",
       "  'Sensor Configuration': ['HTR'],\n",
       "  'Surface material': ['wood']},\n",
       " 73: {'Color of sensor': ['b'],\n",
       "  'Sensor Configuration': ['HTR'],\n",
       "  'Surface material': ['wood']},\n",
       " 74: {'Color of sensor': ['b'],\n",
       "  'Sensor Configuration': ['HTR'],\n",
       "  'Surface material': ['wood']},\n",
       " 75: {'Color of sensor': ['g'],\n",
       "  'Sensor Configuration': ['HTR'],\n",
       "  'Surface material': ['wood']},\n",
       " 76: {'Color of sensor': ['b'],\n",
       "  'Sensor Configuration': ['HTR'],\n",
       "  'Surface material': ['wood']},\n",
       " 77: {'Color of sensor': ['g'],\n",
       "  'Sensor Configuration': ['HTR'],\n",
       "  'Surface material': ['wood']},\n",
       " 78: {'Color of sensor': ['b'],\n",
       "  'Sensor Configuration': ['HTR'],\n",
       "  'Surface material': ['wood']},\n",
       " 79: {'Color of sensor': ['g'],\n",
       "  'Sensor Configuration': ['HTR'],\n",
       "  'Surface material': ['wood']},\n",
       " 80: {'Color of sensor': ['b'],\n",
       "  'Sensor Configuration': ['HTR'],\n",
       "  'Surface material': ['wood']},\n",
       " 81: {'Color of sensor': ['b'],\n",
       "  'Sensor Configuration': ['HTR'],\n",
       "  'Surface material': ['wood']},\n",
       " 82: {'Color of sensor': ['g'],\n",
       "  'Sensor Configuration': ['HTR'],\n",
       "  'Surface material': ['wood']},\n",
       " 83: {'Color of sensor': ['g'],\n",
       "  'Sensor Configuration': ['HTR'],\n",
       "  'Surface material': ['wood']},\n",
       " 84: {'Color of sensor': ['g'],\n",
       "  'Sensor Configuration': ['HTR'],\n",
       "  'Surface material': ['wood']},\n",
       " 85: {'Color of sensor': ['g'],\n",
       "  'Sensor Configuration': ['HTR'],\n",
       "  'Surface material': ['wood']},\n",
       " 86: {'Color of sensor': ['g'],\n",
       "  'Sensor Configuration': ['HTR'],\n",
       "  'Surface material': ['wood']},\n",
       " 87: {'Color of sensor': ['g'],\n",
       "  'Sensor Configuration': ['HTR'],\n",
       "  'Surface material': ['wood']},\n",
       " 88: {'Color of sensor': ['g'],\n",
       "  'Sensor Configuration': ['HTR'],\n",
       "  'Surface material': ['wood']},\n",
       " 89: {'Color of sensor': ['g'],\n",
       "  'Sensor Configuration': ['HTR'],\n",
       "  'Surface material': ['wood']},\n",
       " 90: {'Color of sensor': ['g'],\n",
       "  'Sensor Configuration': ['HTR'],\n",
       "  'Surface material': ['wood']},\n",
       " 91: {'Color of sensor': ['g'],\n",
       "  'Sensor Configuration': ['HTR'],\n",
       "  'Surface material': ['wood']},\n",
       " 92: {'Color of sensor': ['g'],\n",
       "  'Sensor Configuration': ['HTR'],\n",
       "  'Surface material': ['wood']},\n",
       " 93: {'Color of sensor': ['g'],\n",
       "  'Sensor Configuration': ['HTR'],\n",
       "  'Surface material': ['wood']},\n",
       " 94: {'Color of sensor': ['b'],\n",
       "  'Sensor Configuration': ['HTR'],\n",
       "  'Surface material': ['wood']},\n",
       " 95: {'Color of sensor': ['b'],\n",
       "  'Sensor Configuration': ['HTR'],\n",
       "  'Surface material': ['wood']},\n",
       " 96: {'Color of sensor': ['g'],\n",
       "  'Sensor Configuration': ['HTR'],\n",
       "  'Surface material': ['wood']},\n",
       " 97: {'Color of sensor': ['g'],\n",
       "  'Sensor Configuration': ['HTR'],\n",
       "  'Surface material': ['wood']},\n",
       " 98: {'Color of sensor': ['g'],\n",
       "  'Sensor Configuration': ['HTR'],\n",
       "  'Surface material': ['wood']},\n",
       " 99: {'Color of sensor': ['g'],\n",
       "  'Sensor Configuration': ['HTR'],\n",
       "  'Surface material': ['wood']},\n",
       " 100: {'Color of sensor': ['b'],\n",
       "  'Sensor Configuration': ['HTR'],\n",
       "  'Surface material': ['wood']},\n",
       " 101: {'Color of sensor': ['g'],\n",
       "  'Sensor Configuration': ['HTR'],\n",
       "  'Surface material': ['wood']},\n",
       " 102: {'Color of sensor': ['g'],\n",
       "  'Sensor Configuration': ['HTR'],\n",
       "  'Surface material': ['wood']},\n",
       " 103: {'Color of sensor': ['g'],\n",
       "  'Sensor Configuration': ['HTR'],\n",
       "  'Surface material': ['wood']},\n",
       " 104: {'Color of sensor': ['g'],\n",
       "  'Sensor Configuration': ['HTR'],\n",
       "  'Surface material': ['wood']},\n",
       " 105: {'Color of sensor': ['b'],\n",
       "  'Sensor Configuration': ['HTR'],\n",
       "  'Surface material': ['wood']},\n",
       " 106: {'Color of sensor': ['g'],\n",
       "  'Sensor Configuration': ['HTR'],\n",
       "  'Surface material': ['wood']},\n",
       " 107: {'Color of sensor': ['g'],\n",
       "  'Sensor Configuration': ['HTR'],\n",
       "  'Surface material': ['wood']},\n",
       " 108: {'Color of sensor': ['b'],\n",
       "  'Sensor Configuration': ['HTR'],\n",
       "  'Surface material': ['wood']},\n",
       " 109: {'Color of sensor': ['g5'],\n",
       "  'Sensor Configuration': ['HTR'],\n",
       "  'Surface material': ['wood']},\n",
       " 110: {'Color of sensor': ['g5'],\n",
       "  'Sensor Configuration': ['HTR'],\n",
       "  'Surface material': ['wood']},\n",
       " 111: {'Color of sensor': ['g5'],\n",
       "  'Sensor Configuration': ['HTR'],\n",
       "  'Surface material': ['wood']},\n",
       " 112: {'Color of sensor': ['g5'],\n",
       "  'Sensor Configuration': ['HTR'],\n",
       "  'Surface material': ['wood']},\n",
       " 113: {'Color of sensor': ['g5'],\n",
       "  'Sensor Configuration': ['HTR'],\n",
       "  'Surface material': ['wood']},\n",
       " 114: {'Color of sensor': ['g5'],\n",
       "  'Sensor Configuration': ['HTR'],\n",
       "  'Surface material': ['wood']},\n",
       " 115: {'Color of sensor': ['g5'],\n",
       "  'Sensor Configuration': ['HTR'],\n",
       "  'Surface material': ['wood']},\n",
       " 116: {'Color of sensor': ['g5'],\n",
       "  'Sensor Configuration': ['HTR'],\n",
       "  'Surface material': ['wood']},\n",
       " 117: {'Color of sensor': ['g5'],\n",
       "  'Sensor Configuration': ['HTR'],\n",
       "  'Surface material': ['wood']},\n",
       " 118: {'Color of sensor': ['g5'],\n",
       "  'Sensor Configuration': ['HTR'],\n",
       "  'Surface material': ['wood']},\n",
       " 119: {'Color of sensor': ['g5'],\n",
       "  'Sensor Configuration': ['HTR'],\n",
       "  'Surface material': ['wood']},\n",
       " 120: {'Color of sensor': ['g5'],\n",
       "  'Sensor Configuration': ['HTR'],\n",
       "  'Surface material': ['wood']},\n",
       " 121: {'Color of sensor': ['g5'],\n",
       "  'Sensor Configuration': ['HTR'],\n",
       "  'Surface material': ['wood']},\n",
       " 122: {'Color of sensor': ['g5'],\n",
       "  'Sensor Configuration': ['HTR'],\n",
       "  'Surface material': ['wood']},\n",
       " 123: {'Color of sensor': ['g5'],\n",
       "  'Sensor Configuration': ['HTR'],\n",
       "  'Surface material': ['wood']},\n",
       " 124: {'Color of sensor': ['g5'],\n",
       "  'Sensor Configuration': ['HTR'],\n",
       "  'Surface material': ['wood']},\n",
       " 125: {'Color of sensor': ['g5'],\n",
       "  'Sensor Configuration': ['HTR'],\n",
       "  'Surface material': ['wood']}}"
      ]
     },
     "execution_count": 101,
     "metadata": {},
     "output_type": "execute_result"
    }
   ],
   "source": [
    "# Group the merged data by 'Sensor ID'\n",
    "grouped_data = df_data_v4_1_1.groupby(\"Sensor ID\")\n",
    "\n",
    "# Function to get unique values of categorical columns for each group\n",
    "def get_unique_categorical_values(group):\n",
    "    unique_values = {}\n",
    "    for column in group.select_dtypes(include=['object']).columns:\n",
    "        unique_values[column] = group[column].unique().tolist()\n",
    "    return unique_values\n",
    "\n",
    "# Apply the function to each group and collect the results\n",
    "unique_categorical_values = grouped_data.apply(get_unique_categorical_values).to_dict()\n",
    "\n",
    "unique_categorical_values"
   ]
  },
  {
   "cell_type": "code",
   "execution_count": 102,
   "metadata": {},
   "outputs": [
    {
     "name": "stderr",
     "output_type": "stream",
     "text": [
      "/var/folders/9b/zsztmz7j6v92l4fdx69q5pxh0000gn/T/ipykernel_48813/718001310.py:4: FutureWarning:\n",
      "\n",
      "DataFrame.applymap has been deprecated. Use DataFrame.map instead.\n",
      "\n"
     ]
    },
    {
     "data": {
      "text/html": [
       "<div>\n",
       "<style scoped>\n",
       "    .dataframe tbody tr th:only-of-type {\n",
       "        vertical-align: middle;\n",
       "    }\n",
       "\n",
       "    .dataframe tbody tr th {\n",
       "        vertical-align: top;\n",
       "    }\n",
       "\n",
       "    .dataframe thead th {\n",
       "        text-align: right;\n",
       "    }\n",
       "</style>\n",
       "<table border=\"1\" class=\"dataframe\">\n",
       "  <thead>\n",
       "    <tr style=\"text-align: right;\">\n",
       "      <th></th>\n",
       "      <th>Sensor ID</th>\n",
       "      <th>Color of sensor</th>\n",
       "      <th>Sensor Configuration</th>\n",
       "      <th>Surface material</th>\n",
       "    </tr>\n",
       "  </thead>\n",
       "  <tbody>\n",
       "    <tr>\n",
       "      <th>0</th>\n",
       "      <td>1</td>\n",
       "      <td>b</td>\n",
       "      <td>HTR</td>\n",
       "      <td>wood</td>\n",
       "    </tr>\n",
       "    <tr>\n",
       "      <th>1</th>\n",
       "      <td>2</td>\n",
       "      <td>b</td>\n",
       "      <td>HTR</td>\n",
       "      <td>wood</td>\n",
       "    </tr>\n",
       "    <tr>\n",
       "      <th>2</th>\n",
       "      <td>3</td>\n",
       "      <td>b</td>\n",
       "      <td>HTR</td>\n",
       "      <td>wood</td>\n",
       "    </tr>\n",
       "    <tr>\n",
       "      <th>3</th>\n",
       "      <td>4</td>\n",
       "      <td>g</td>\n",
       "      <td>HTR</td>\n",
       "      <td>wood</td>\n",
       "    </tr>\n",
       "    <tr>\n",
       "      <th>4</th>\n",
       "      <td>5</td>\n",
       "      <td>b</td>\n",
       "      <td>HTR</td>\n",
       "      <td>wood</td>\n",
       "    </tr>\n",
       "  </tbody>\n",
       "</table>\n",
       "</div>"
      ],
      "text/plain": [
       "   Sensor ID Color of sensor Sensor Configuration Surface material\n",
       "0          1               b                  HTR             wood\n",
       "1          2               b                  HTR             wood\n",
       "2          3               b                  HTR             wood\n",
       "3          4               g                  HTR             wood\n",
       "4          5               b                  HTR             wood"
      ]
     },
     "execution_count": 102,
     "metadata": {},
     "output_type": "execute_result"
    }
   ],
   "source": [
    "unique_categorical_values_df = pd.DataFrame.from_dict(unique_categorical_values, orient='index')\n",
    "\n",
    "# Convert list values to strings and keep Sensor ID as index\n",
    "unique_categorical_values_df = unique_categorical_values_df.applymap(lambda x: x[0] if isinstance(x, list) else x)\n",
    "unique_categorical_values_df.reset_index(inplace=True)\n",
    "\n",
    "# Rename the 'index' column to 'Sensor ID'\n",
    "unique_categorical_values_df.rename(columns={'index': 'Sensor ID'}, inplace=True)\n",
    "\n",
    "# Display the updated DataFrame\n",
    "unique_categorical_values_df.head()"
   ]
  },
  {
   "cell_type": "code",
   "execution_count": 103,
   "metadata": {},
   "outputs": [
    {
     "data": {
      "text/html": [
       "<div>\n",
       "<style scoped>\n",
       "    .dataframe tbody tr th:only-of-type {\n",
       "        vertical-align: middle;\n",
       "    }\n",
       "\n",
       "    .dataframe tbody tr th {\n",
       "        vertical-align: top;\n",
       "    }\n",
       "\n",
       "    .dataframe thead th {\n",
       "        text-align: right;\n",
       "    }\n",
       "</style>\n",
       "<table border=\"1\" class=\"dataframe\">\n",
       "  <thead>\n",
       "    <tr style=\"text-align: right;\">\n",
       "      <th></th>\n",
       "      <th>Sensor ID</th>\n",
       "      <th>Color of sensor_g</th>\n",
       "      <th>Color of sensor_g5</th>\n",
       "    </tr>\n",
       "  </thead>\n",
       "  <tbody>\n",
       "    <tr>\n",
       "      <th>0</th>\n",
       "      <td>1</td>\n",
       "      <td>0</td>\n",
       "      <td>False</td>\n",
       "    </tr>\n",
       "    <tr>\n",
       "      <th>1</th>\n",
       "      <td>2</td>\n",
       "      <td>0</td>\n",
       "      <td>False</td>\n",
       "    </tr>\n",
       "    <tr>\n",
       "      <th>2</th>\n",
       "      <td>3</td>\n",
       "      <td>0</td>\n",
       "      <td>False</td>\n",
       "    </tr>\n",
       "    <tr>\n",
       "      <th>3</th>\n",
       "      <td>4</td>\n",
       "      <td>1</td>\n",
       "      <td>False</td>\n",
       "    </tr>\n",
       "    <tr>\n",
       "      <th>4</th>\n",
       "      <td>5</td>\n",
       "      <td>0</td>\n",
       "      <td>False</td>\n",
       "    </tr>\n",
       "    <tr>\n",
       "      <th>...</th>\n",
       "      <td>...</td>\n",
       "      <td>...</td>\n",
       "      <td>...</td>\n",
       "    </tr>\n",
       "    <tr>\n",
       "      <th>119</th>\n",
       "      <td>121</td>\n",
       "      <td>0</td>\n",
       "      <td>True</td>\n",
       "    </tr>\n",
       "    <tr>\n",
       "      <th>120</th>\n",
       "      <td>122</td>\n",
       "      <td>0</td>\n",
       "      <td>True</td>\n",
       "    </tr>\n",
       "    <tr>\n",
       "      <th>121</th>\n",
       "      <td>123</td>\n",
       "      <td>0</td>\n",
       "      <td>True</td>\n",
       "    </tr>\n",
       "    <tr>\n",
       "      <th>122</th>\n",
       "      <td>124</td>\n",
       "      <td>0</td>\n",
       "      <td>True</td>\n",
       "    </tr>\n",
       "    <tr>\n",
       "      <th>123</th>\n",
       "      <td>125</td>\n",
       "      <td>0</td>\n",
       "      <td>True</td>\n",
       "    </tr>\n",
       "  </tbody>\n",
       "</table>\n",
       "<p>124 rows × 3 columns</p>\n",
       "</div>"
      ],
      "text/plain": [
       "     Sensor ID  Color of sensor_g  Color of sensor_g5\n",
       "0            1                  0               False\n",
       "1            2                  0               False\n",
       "2            3                  0               False\n",
       "3            4                  1               False\n",
       "4            5                  0               False\n",
       "..         ...                ...                 ...\n",
       "119        121                  0                True\n",
       "120        122                  0                True\n",
       "121        123                  0                True\n",
       "122        124                  0                True\n",
       "123        125                  0                True\n",
       "\n",
       "[124 rows x 3 columns]"
      ]
     },
     "execution_count": 103,
     "metadata": {},
     "output_type": "execute_result"
    }
   ],
   "source": [
    "# One-hot encode all the object features\n",
    "if not unique_categorical_values_df.empty:\n",
    "    unique_categorical_values_encoded = pd.get_dummies(unique_categorical_values_df, drop_first=True)\n",
    "else:\n",
    "    unique_categorical_values_encoded = unique_categorical_values_df\n",
    "\n",
    "\n",
    "# Convert boolean columns to integers (0 and 1)\n",
    "unique_categorical_values_encoded[\"Color of sensor_g\"] = unique_categorical_values_encoded[\"Color of sensor_g\"].astype(int)\n",
    "unique_categorical_values_encoded"
   ]
  },
  {
   "cell_type": "code",
   "execution_count": 104,
   "metadata": {},
   "outputs": [
    {
     "data": {
      "text/html": [
       "<div>\n",
       "<style scoped>\n",
       "    .dataframe tbody tr th:only-of-type {\n",
       "        vertical-align: middle;\n",
       "    }\n",
       "\n",
       "    .dataframe tbody tr th {\n",
       "        vertical-align: top;\n",
       "    }\n",
       "\n",
       "    .dataframe thead th {\n",
       "        text-align: right;\n",
       "    }\n",
       "</style>\n",
       "<table border=\"1\" class=\"dataframe\">\n",
       "  <thead>\n",
       "    <tr style=\"text-align: right;\">\n",
       "      <th></th>\n",
       "      <th>Sensor ID</th>\n",
       "      <th>13_10000_mean_middle</th>\n",
       "      <th>13_16800_mean_middle</th>\n",
       "      <th>13_3000_mean_middle</th>\n",
       "      <th>13_6000_mean_middle</th>\n",
       "      <th>13_8000_mean_middle</th>\n",
       "      <th>18_10000_mean_middle</th>\n",
       "      <th>18_16800_mean_middle</th>\n",
       "      <th>18_3000_mean_middle</th>\n",
       "      <th>18_6000_mean_middle</th>\n",
       "      <th>...</th>\n",
       "      <th>48_3000_mean_upper</th>\n",
       "      <th>48_6000_mean_upper</th>\n",
       "      <th>48_8000_mean_upper</th>\n",
       "      <th>53_10000_mean_upper</th>\n",
       "      <th>53_16800_mean_upper</th>\n",
       "      <th>53_3000_mean_upper</th>\n",
       "      <th>53_6000_mean_upper</th>\n",
       "      <th>53_8000_mean_upper</th>\n",
       "      <th>Color of sensor_g</th>\n",
       "      <th>Color of sensor_g5</th>\n",
       "    </tr>\n",
       "  </thead>\n",
       "  <tbody>\n",
       "    <tr>\n",
       "      <th>0</th>\n",
       "      <td>1</td>\n",
       "      <td>827.00</td>\n",
       "      <td>827.000000</td>\n",
       "      <td>827.00</td>\n",
       "      <td>827.00</td>\n",
       "      <td>827.00</td>\n",
       "      <td>1071.000000</td>\n",
       "      <td>1069.285714</td>\n",
       "      <td>1069.240000</td>\n",
       "      <td>1069.400000</td>\n",
       "      <td>...</td>\n",
       "      <td>2809.4</td>\n",
       "      <td>2803.000000</td>\n",
       "      <td>2800.333333</td>\n",
       "      <td>2995.545455</td>\n",
       "      <td>0.0</td>\n",
       "      <td>2995.444444</td>\n",
       "      <td>3039.727273</td>\n",
       "      <td>3004.043478</td>\n",
       "      <td>0</td>\n",
       "      <td>False</td>\n",
       "    </tr>\n",
       "    <tr>\n",
       "      <th>1</th>\n",
       "      <td>2</td>\n",
       "      <td>679.64</td>\n",
       "      <td>679.000000</td>\n",
       "      <td>679.00</td>\n",
       "      <td>679.00</td>\n",
       "      <td>679.00</td>\n",
       "      <td>943.000000</td>\n",
       "      <td>954.200000</td>\n",
       "      <td>967.260870</td>\n",
       "      <td>954.520000</td>\n",
       "      <td>...</td>\n",
       "      <td>0.0</td>\n",
       "      <td>0.000000</td>\n",
       "      <td>2691.000000</td>\n",
       "      <td>0.000000</td>\n",
       "      <td>2371.0</td>\n",
       "      <td>0.000000</td>\n",
       "      <td>2951.744186</td>\n",
       "      <td>0.000000</td>\n",
       "      <td>0</td>\n",
       "      <td>False</td>\n",
       "    </tr>\n",
       "    <tr>\n",
       "      <th>2</th>\n",
       "      <td>3</td>\n",
       "      <td>717.88</td>\n",
       "      <td>717.727273</td>\n",
       "      <td>718.04</td>\n",
       "      <td>717.24</td>\n",
       "      <td>718.04</td>\n",
       "      <td>1029.933333</td>\n",
       "      <td>1020.920000</td>\n",
       "      <td>1007.000000</td>\n",
       "      <td>1005.960000</td>\n",
       "      <td>...</td>\n",
       "      <td>2743.0</td>\n",
       "      <td>2727.000000</td>\n",
       "      <td>0.000000</td>\n",
       "      <td>0.000000</td>\n",
       "      <td>0.0</td>\n",
       "      <td>0.000000</td>\n",
       "      <td>0.000000</td>\n",
       "      <td>0.000000</td>\n",
       "      <td>0</td>\n",
       "      <td>False</td>\n",
       "    </tr>\n",
       "    <tr>\n",
       "      <th>3</th>\n",
       "      <td>4</td>\n",
       "      <td>737.08</td>\n",
       "      <td>736.840000</td>\n",
       "      <td>737.16</td>\n",
       "      <td>736.92</td>\n",
       "      <td>736.68</td>\n",
       "      <td>1030.351351</td>\n",
       "      <td>1031.000000</td>\n",
       "      <td>1028.840000</td>\n",
       "      <td>1087.000000</td>\n",
       "      <td>...</td>\n",
       "      <td>0.0</td>\n",
       "      <td>2755.195122</td>\n",
       "      <td>0.000000</td>\n",
       "      <td>3000.000000</td>\n",
       "      <td>3019.0</td>\n",
       "      <td>3000.116279</td>\n",
       "      <td>2999.930233</td>\n",
       "      <td>3000.116279</td>\n",
       "      <td>1</td>\n",
       "      <td>False</td>\n",
       "    </tr>\n",
       "    <tr>\n",
       "      <th>4</th>\n",
       "      <td>5</td>\n",
       "      <td>743.00</td>\n",
       "      <td>742.894737</td>\n",
       "      <td>741.88</td>\n",
       "      <td>743.00</td>\n",
       "      <td>743.00</td>\n",
       "      <td>1046.102041</td>\n",
       "      <td>1045.697674</td>\n",
       "      <td>1047.244898</td>\n",
       "      <td>1046.288889</td>\n",
       "      <td>...</td>\n",
       "      <td>0.0</td>\n",
       "      <td>0.000000</td>\n",
       "      <td>0.000000</td>\n",
       "      <td>0.000000</td>\n",
       "      <td>0.0</td>\n",
       "      <td>0.000000</td>\n",
       "      <td>0.000000</td>\n",
       "      <td>0.000000</td>\n",
       "      <td>0</td>\n",
       "      <td>False</td>\n",
       "    </tr>\n",
       "  </tbody>\n",
       "</table>\n",
       "<p>5 rows × 138 columns</p>\n",
       "</div>"
      ],
      "text/plain": [
       "   Sensor ID  13_10000_mean_middle  13_16800_mean_middle  13_3000_mean_middle  \\\n",
       "0          1                827.00            827.000000               827.00   \n",
       "1          2                679.64            679.000000               679.00   \n",
       "2          3                717.88            717.727273               718.04   \n",
       "3          4                737.08            736.840000               737.16   \n",
       "4          5                743.00            742.894737               741.88   \n",
       "\n",
       "   13_6000_mean_middle  13_8000_mean_middle  18_10000_mean_middle  \\\n",
       "0               827.00               827.00           1071.000000   \n",
       "1               679.00               679.00            943.000000   \n",
       "2               717.24               718.04           1029.933333   \n",
       "3               736.92               736.68           1030.351351   \n",
       "4               743.00               743.00           1046.102041   \n",
       "\n",
       "   18_16800_mean_middle  18_3000_mean_middle  18_6000_mean_middle  ...  \\\n",
       "0           1069.285714          1069.240000          1069.400000  ...   \n",
       "1            954.200000           967.260870           954.520000  ...   \n",
       "2           1020.920000          1007.000000          1005.960000  ...   \n",
       "3           1031.000000          1028.840000          1087.000000  ...   \n",
       "4           1045.697674          1047.244898          1046.288889  ...   \n",
       "\n",
       "   48_3000_mean_upper  48_6000_mean_upper  48_8000_mean_upper  \\\n",
       "0              2809.4         2803.000000         2800.333333   \n",
       "1                 0.0            0.000000         2691.000000   \n",
       "2              2743.0         2727.000000            0.000000   \n",
       "3                 0.0         2755.195122            0.000000   \n",
       "4                 0.0            0.000000            0.000000   \n",
       "\n",
       "   53_10000_mean_upper  53_16800_mean_upper  53_3000_mean_upper  \\\n",
       "0          2995.545455                  0.0         2995.444444   \n",
       "1             0.000000               2371.0            0.000000   \n",
       "2             0.000000                  0.0            0.000000   \n",
       "3          3000.000000               3019.0         3000.116279   \n",
       "4             0.000000                  0.0            0.000000   \n",
       "\n",
       "   53_6000_mean_upper  53_8000_mean_upper  Color of sensor_g  \\\n",
       "0         3039.727273         3004.043478                  0   \n",
       "1         2951.744186            0.000000                  0   \n",
       "2            0.000000            0.000000                  0   \n",
       "3         2999.930233         3000.116279                  1   \n",
       "4            0.000000            0.000000                  0   \n",
       "\n",
       "   Color of sensor_g5  \n",
       "0               False  \n",
       "1               False  \n",
       "2               False  \n",
       "3               False  \n",
       "4               False  \n",
       "\n",
       "[5 rows x 138 columns]"
      ]
     },
     "execution_count": 104,
     "metadata": {},
     "output_type": "execute_result"
    }
   ],
   "source": [
    "# Merge the unique categorical values DataFrame with the original data on 'Sensor ID'\n",
    "df_all = pd.merge(df_range_delay_all, unique_categorical_values_encoded, on='Sensor ID', how='left')\n",
    "df_all.head()"
   ]
  },
  {
   "cell_type": "markdown",
   "metadata": {},
   "source": [
    "# Upper and Lower bound's Frequency (Feature Engineering)"
   ]
  },
  {
   "cell_type": "code",
   "execution_count": 105,
   "metadata": {},
   "outputs": [
    {
     "data": {
      "text/html": [
       "<div>\n",
       "<style scoped>\n",
       "    .dataframe tbody tr th:only-of-type {\n",
       "        vertical-align: middle;\n",
       "    }\n",
       "\n",
       "    .dataframe tbody tr th {\n",
       "        vertical-align: top;\n",
       "    }\n",
       "\n",
       "    .dataframe thead th {\n",
       "        text-align: right;\n",
       "    }\n",
       "</style>\n",
       "<table border=\"1\" class=\"dataframe\">\n",
       "  <thead>\n",
       "    <tr style=\"text-align: right;\">\n",
       "      <th></th>\n",
       "      <th>Sensor ID</th>\n",
       "      <th>Delay (us)</th>\n",
       "      <th>Lower Quartile Ping Count</th>\n",
       "      <th>Upper Quartile Ping Count</th>\n",
       "    </tr>\n",
       "  </thead>\n",
       "  <tbody>\n",
       "    <tr>\n",
       "      <th>0</th>\n",
       "      <td>1</td>\n",
       "      <td>3000</td>\n",
       "      <td>140</td>\n",
       "      <td>131</td>\n",
       "    </tr>\n",
       "    <tr>\n",
       "      <th>1</th>\n",
       "      <td>1</td>\n",
       "      <td>6000</td>\n",
       "      <td>171</td>\n",
       "      <td>182</td>\n",
       "    </tr>\n",
       "    <tr>\n",
       "      <th>2</th>\n",
       "      <td>1</td>\n",
       "      <td>8000</td>\n",
       "      <td>167</td>\n",
       "      <td>197</td>\n",
       "    </tr>\n",
       "    <tr>\n",
       "      <th>3</th>\n",
       "      <td>1</td>\n",
       "      <td>10000</td>\n",
       "      <td>267</td>\n",
       "      <td>258</td>\n",
       "    </tr>\n",
       "    <tr>\n",
       "      <th>4</th>\n",
       "      <td>1</td>\n",
       "      <td>16800</td>\n",
       "      <td>102</td>\n",
       "      <td>105</td>\n",
       "    </tr>\n",
       "  </tbody>\n",
       "</table>\n",
       "</div>"
      ],
      "text/plain": [
       "   Sensor ID  Delay (us)  Lower Quartile Ping Count  Upper Quartile Ping Count\n",
       "0          1        3000                        140                        131\n",
       "1          1        6000                        171                        182\n",
       "2          1        8000                        167                        197\n",
       "3          1       10000                        267                        258\n",
       "4          1       16800                        102                        105"
      ]
     },
     "execution_count": 105,
     "metadata": {},
     "output_type": "execute_result"
    }
   ],
   "source": [
    "# Group by 'Sensor ID' and 'Delay (us)' for lower quartile\n",
    "grouped_lower_outliers = df_lower_quartile.groupby(['Sensor ID', 'Delay (us)'])['Ping Time (us)'].count().reset_index()\n",
    "\n",
    "# Group by 'Sensor ID' and 'Delay (us)' for upper quartile\n",
    "grouped_upper_outliers = df_upper_quartile.groupby(['Sensor ID', 'Delay (us)'])['Ping Time (us)'].count().reset_index()\n",
    "\n",
    "# Merge the grouped dataframes with alias column names for the count columns\n",
    "df_outlier_freq = pd.merge(grouped_lower_outliers, grouped_upper_outliers, on=['Sensor ID', 'Delay (us)'], suffixes=('_lower', '_upper'), how='left')\n",
    "\n",
    "# Rename the columns if necessary\n",
    "df_outlier_freq.rename(columns={\n",
    "    'Ping Time (us)_lower': 'Lower Quartile Ping Count',\n",
    "    'Ping Time (us)_upper': 'Upper Quartile Ping Count'\n",
    "}, inplace=True)\n",
    "\n",
    "\n",
    "# Replace NaN values with 0\n",
    "df_outlier_freq.fillna(0, inplace=True)\n",
    "\n",
    "df_outlier_freq['Lower Quartile Ping Count'] = df_outlier_freq['Lower Quartile Ping Count'].astype(int)\n",
    "df_outlier_freq['Upper Quartile Ping Count'] = df_outlier_freq['Upper Quartile Ping Count'].astype(int)\n",
    "\n",
    "\n",
    "# Display the resulting DataFrame\n",
    "df_outlier_freq.head()"
   ]
  },
  {
   "cell_type": "code",
   "execution_count": 106,
   "metadata": {},
   "outputs": [
    {
     "data": {
      "text/html": [
       "<div>\n",
       "<style scoped>\n",
       "    .dataframe tbody tr th:only-of-type {\n",
       "        vertical-align: middle;\n",
       "    }\n",
       "\n",
       "    .dataframe tbody tr th {\n",
       "        vertical-align: top;\n",
       "    }\n",
       "\n",
       "    .dataframe thead th {\n",
       "        text-align: right;\n",
       "    }\n",
       "</style>\n",
       "<table border=\"1\" class=\"dataframe\">\n",
       "  <thead>\n",
       "    <tr style=\"text-align: right;\">\n",
       "      <th>delay_freq</th>\n",
       "      <th>Sensor ID</th>\n",
       "      <th>delay_10000_freq_lower</th>\n",
       "      <th>delay_16800_freq_lower</th>\n",
       "      <th>delay_3000_freq_lower</th>\n",
       "      <th>delay_6000_freq_lower</th>\n",
       "      <th>delay_8000_freq_lower</th>\n",
       "    </tr>\n",
       "  </thead>\n",
       "  <tbody>\n",
       "    <tr>\n",
       "      <th>0</th>\n",
       "      <td>1</td>\n",
       "      <td>267.0</td>\n",
       "      <td>102.0</td>\n",
       "      <td>140.0</td>\n",
       "      <td>171.0</td>\n",
       "      <td>167.0</td>\n",
       "    </tr>\n",
       "    <tr>\n",
       "      <th>1</th>\n",
       "      <td>2</td>\n",
       "      <td>174.0</td>\n",
       "      <td>55.0</td>\n",
       "      <td>129.0</td>\n",
       "      <td>164.0</td>\n",
       "      <td>131.0</td>\n",
       "    </tr>\n",
       "    <tr>\n",
       "      <th>2</th>\n",
       "      <td>3</td>\n",
       "      <td>5.0</td>\n",
       "      <td>6.0</td>\n",
       "      <td>48.0</td>\n",
       "      <td>10.0</td>\n",
       "      <td>8.0</td>\n",
       "    </tr>\n",
       "    <tr>\n",
       "      <th>3</th>\n",
       "      <td>4</td>\n",
       "      <td>42.0</td>\n",
       "      <td>136.0</td>\n",
       "      <td>76.0</td>\n",
       "      <td>148.0</td>\n",
       "      <td>41.0</td>\n",
       "    </tr>\n",
       "    <tr>\n",
       "      <th>4</th>\n",
       "      <td>5</td>\n",
       "      <td>98.0</td>\n",
       "      <td>22.0</td>\n",
       "      <td>95.0</td>\n",
       "      <td>130.0</td>\n",
       "      <td>137.0</td>\n",
       "    </tr>\n",
       "  </tbody>\n",
       "</table>\n",
       "</div>"
      ],
      "text/plain": [
       "delay_freq  Sensor ID  delay_10000_freq_lower  delay_16800_freq_lower  \\\n",
       "0                   1                   267.0                   102.0   \n",
       "1                   2                   174.0                    55.0   \n",
       "2                   3                     5.0                     6.0   \n",
       "3                   4                    42.0                   136.0   \n",
       "4                   5                    98.0                    22.0   \n",
       "\n",
       "delay_freq  delay_3000_freq_lower  delay_6000_freq_lower  \\\n",
       "0                           140.0                  171.0   \n",
       "1                           129.0                  164.0   \n",
       "2                            48.0                   10.0   \n",
       "3                            76.0                  148.0   \n",
       "4                            95.0                  130.0   \n",
       "\n",
       "delay_freq  delay_8000_freq_lower  \n",
       "0                           167.0  \n",
       "1                           131.0  \n",
       "2                             8.0  \n",
       "3                            41.0  \n",
       "4                           137.0  "
      ]
     },
     "execution_count": 106,
     "metadata": {},
     "output_type": "execute_result"
    }
   ],
   "source": [
    "df_outlier_freq['delay_freq'] =  \"delay\"+ '_' + df_outlier_freq['Delay (us)'].astype(str)+'_'+\"freq\"+'_'+\"lower\"\n",
    "\n",
    "# Step 3: Pivot the table\n",
    "df_pivot_lower = df_outlier_freq.pivot(index='Sensor ID', columns='delay_freq', values='Lower Quartile Ping Count').reset_index()\n",
    "\n",
    "df_pivot_lower.head()"
   ]
  },
  {
   "cell_type": "code",
   "execution_count": 107,
   "metadata": {},
   "outputs": [
    {
     "data": {
      "text/html": [
       "<div>\n",
       "<style scoped>\n",
       "    .dataframe tbody tr th:only-of-type {\n",
       "        vertical-align: middle;\n",
       "    }\n",
       "\n",
       "    .dataframe tbody tr th {\n",
       "        vertical-align: top;\n",
       "    }\n",
       "\n",
       "    .dataframe thead th {\n",
       "        text-align: right;\n",
       "    }\n",
       "</style>\n",
       "<table border=\"1\" class=\"dataframe\">\n",
       "  <thead>\n",
       "    <tr style=\"text-align: right;\">\n",
       "      <th>delay_freq</th>\n",
       "      <th>Sensor ID</th>\n",
       "      <th>delay_10000_freq_upper</th>\n",
       "      <th>delay_16800_freq_upper</th>\n",
       "      <th>delay_3000_freq_upper</th>\n",
       "      <th>delay_6000_freq_upper</th>\n",
       "      <th>delay_8000_freq_upper</th>\n",
       "    </tr>\n",
       "  </thead>\n",
       "  <tbody>\n",
       "    <tr>\n",
       "      <th>0</th>\n",
       "      <td>1</td>\n",
       "      <td>258.0</td>\n",
       "      <td>105.0</td>\n",
       "      <td>131.0</td>\n",
       "      <td>182.0</td>\n",
       "      <td>197.0</td>\n",
       "    </tr>\n",
       "    <tr>\n",
       "      <th>1</th>\n",
       "      <td>2</td>\n",
       "      <td>172.0</td>\n",
       "      <td>59.0</td>\n",
       "      <td>143.0</td>\n",
       "      <td>194.0</td>\n",
       "      <td>145.0</td>\n",
       "    </tr>\n",
       "    <tr>\n",
       "      <th>2</th>\n",
       "      <td>3</td>\n",
       "      <td>21.0</td>\n",
       "      <td>13.0</td>\n",
       "      <td>52.0</td>\n",
       "      <td>8.0</td>\n",
       "      <td>11.0</td>\n",
       "    </tr>\n",
       "    <tr>\n",
       "      <th>3</th>\n",
       "      <td>4</td>\n",
       "      <td>57.0</td>\n",
       "      <td>127.0</td>\n",
       "      <td>90.0</td>\n",
       "      <td>150.0</td>\n",
       "      <td>49.0</td>\n",
       "    </tr>\n",
       "    <tr>\n",
       "      <th>4</th>\n",
       "      <td>5</td>\n",
       "      <td>91.0</td>\n",
       "      <td>13.0</td>\n",
       "      <td>82.0</td>\n",
       "      <td>139.0</td>\n",
       "      <td>128.0</td>\n",
       "    </tr>\n",
       "  </tbody>\n",
       "</table>\n",
       "</div>"
      ],
      "text/plain": [
       "delay_freq  Sensor ID  delay_10000_freq_upper  delay_16800_freq_upper  \\\n",
       "0                   1                   258.0                   105.0   \n",
       "1                   2                   172.0                    59.0   \n",
       "2                   3                    21.0                    13.0   \n",
       "3                   4                    57.0                   127.0   \n",
       "4                   5                    91.0                    13.0   \n",
       "\n",
       "delay_freq  delay_3000_freq_upper  delay_6000_freq_upper  \\\n",
       "0                           131.0                  182.0   \n",
       "1                           143.0                  194.0   \n",
       "2                            52.0                    8.0   \n",
       "3                            90.0                  150.0   \n",
       "4                            82.0                  139.0   \n",
       "\n",
       "delay_freq  delay_8000_freq_upper  \n",
       "0                           197.0  \n",
       "1                           145.0  \n",
       "2                            11.0  \n",
       "3                            49.0  \n",
       "4                           128.0  "
      ]
     },
     "execution_count": 107,
     "metadata": {},
     "output_type": "execute_result"
    }
   ],
   "source": [
    "df_outlier_freq['delay_freq'] =  \"delay\"+ '_' + df_outlier_freq['Delay (us)'].astype(str)+'_'+\"freq\"+'_'+\"upper\"\n",
    "\n",
    "# Step 3: Pivot the table\n",
    "df_pivot_upper = df_outlier_freq.pivot(index='Sensor ID', columns='delay_freq', values='Upper Quartile Ping Count').reset_index()\n",
    "\n",
    "df_pivot_upper.head()"
   ]
  },
  {
   "cell_type": "code",
   "execution_count": 108,
   "metadata": {},
   "outputs": [
    {
     "data": {
      "text/html": [
       "<div>\n",
       "<style scoped>\n",
       "    .dataframe tbody tr th:only-of-type {\n",
       "        vertical-align: middle;\n",
       "    }\n",
       "\n",
       "    .dataframe tbody tr th {\n",
       "        vertical-align: top;\n",
       "    }\n",
       "\n",
       "    .dataframe thead th {\n",
       "        text-align: right;\n",
       "    }\n",
       "</style>\n",
       "<table border=\"1\" class=\"dataframe\">\n",
       "  <thead>\n",
       "    <tr style=\"text-align: right;\">\n",
       "      <th>delay_freq</th>\n",
       "      <th>Sensor ID</th>\n",
       "      <th>delay_10000_freq_lower</th>\n",
       "      <th>delay_16800_freq_lower</th>\n",
       "      <th>delay_3000_freq_lower</th>\n",
       "      <th>delay_6000_freq_lower</th>\n",
       "      <th>delay_8000_freq_lower</th>\n",
       "      <th>delay_10000_freq_upper</th>\n",
       "      <th>delay_16800_freq_upper</th>\n",
       "      <th>delay_3000_freq_upper</th>\n",
       "      <th>delay_6000_freq_upper</th>\n",
       "      <th>delay_8000_freq_upper</th>\n",
       "    </tr>\n",
       "  </thead>\n",
       "  <tbody>\n",
       "    <tr>\n",
       "      <th>0</th>\n",
       "      <td>1</td>\n",
       "      <td>267</td>\n",
       "      <td>102</td>\n",
       "      <td>140</td>\n",
       "      <td>171</td>\n",
       "      <td>167</td>\n",
       "      <td>258</td>\n",
       "      <td>105</td>\n",
       "      <td>131</td>\n",
       "      <td>182</td>\n",
       "      <td>197</td>\n",
       "    </tr>\n",
       "    <tr>\n",
       "      <th>1</th>\n",
       "      <td>2</td>\n",
       "      <td>174</td>\n",
       "      <td>55</td>\n",
       "      <td>129</td>\n",
       "      <td>164</td>\n",
       "      <td>131</td>\n",
       "      <td>172</td>\n",
       "      <td>59</td>\n",
       "      <td>143</td>\n",
       "      <td>194</td>\n",
       "      <td>145</td>\n",
       "    </tr>\n",
       "    <tr>\n",
       "      <th>2</th>\n",
       "      <td>3</td>\n",
       "      <td>5</td>\n",
       "      <td>6</td>\n",
       "      <td>48</td>\n",
       "      <td>10</td>\n",
       "      <td>8</td>\n",
       "      <td>21</td>\n",
       "      <td>13</td>\n",
       "      <td>52</td>\n",
       "      <td>8</td>\n",
       "      <td>11</td>\n",
       "    </tr>\n",
       "    <tr>\n",
       "      <th>3</th>\n",
       "      <td>4</td>\n",
       "      <td>42</td>\n",
       "      <td>136</td>\n",
       "      <td>76</td>\n",
       "      <td>148</td>\n",
       "      <td>41</td>\n",
       "      <td>57</td>\n",
       "      <td>127</td>\n",
       "      <td>90</td>\n",
       "      <td>150</td>\n",
       "      <td>49</td>\n",
       "    </tr>\n",
       "    <tr>\n",
       "      <th>4</th>\n",
       "      <td>5</td>\n",
       "      <td>98</td>\n",
       "      <td>22</td>\n",
       "      <td>95</td>\n",
       "      <td>130</td>\n",
       "      <td>137</td>\n",
       "      <td>91</td>\n",
       "      <td>13</td>\n",
       "      <td>82</td>\n",
       "      <td>139</td>\n",
       "      <td>128</td>\n",
       "    </tr>\n",
       "    <tr>\n",
       "      <th>...</th>\n",
       "      <td>...</td>\n",
       "      <td>...</td>\n",
       "      <td>...</td>\n",
       "      <td>...</td>\n",
       "      <td>...</td>\n",
       "      <td>...</td>\n",
       "      <td>...</td>\n",
       "      <td>...</td>\n",
       "      <td>...</td>\n",
       "      <td>...</td>\n",
       "      <td>...</td>\n",
       "    </tr>\n",
       "    <tr>\n",
       "      <th>119</th>\n",
       "      <td>121</td>\n",
       "      <td>39</td>\n",
       "      <td>3</td>\n",
       "      <td>96</td>\n",
       "      <td>123</td>\n",
       "      <td>50</td>\n",
       "      <td>63</td>\n",
       "      <td>8</td>\n",
       "      <td>96</td>\n",
       "      <td>136</td>\n",
       "      <td>45</td>\n",
       "    </tr>\n",
       "    <tr>\n",
       "      <th>120</th>\n",
       "      <td>122</td>\n",
       "      <td>55</td>\n",
       "      <td>7</td>\n",
       "      <td>17</td>\n",
       "      <td>50</td>\n",
       "      <td>143</td>\n",
       "      <td>55</td>\n",
       "      <td>8</td>\n",
       "      <td>9</td>\n",
       "      <td>52</td>\n",
       "      <td>125</td>\n",
       "    </tr>\n",
       "    <tr>\n",
       "      <th>121</th>\n",
       "      <td>123</td>\n",
       "      <td>86</td>\n",
       "      <td>91</td>\n",
       "      <td>92</td>\n",
       "      <td>168</td>\n",
       "      <td>102</td>\n",
       "      <td>93</td>\n",
       "      <td>92</td>\n",
       "      <td>110</td>\n",
       "      <td>179</td>\n",
       "      <td>92</td>\n",
       "    </tr>\n",
       "    <tr>\n",
       "      <th>122</th>\n",
       "      <td>124</td>\n",
       "      <td>50</td>\n",
       "      <td>45</td>\n",
       "      <td>51</td>\n",
       "      <td>134</td>\n",
       "      <td>132</td>\n",
       "      <td>53</td>\n",
       "      <td>72</td>\n",
       "      <td>44</td>\n",
       "      <td>135</td>\n",
       "      <td>124</td>\n",
       "    </tr>\n",
       "    <tr>\n",
       "      <th>123</th>\n",
       "      <td>125</td>\n",
       "      <td>13</td>\n",
       "      <td>7</td>\n",
       "      <td>54</td>\n",
       "      <td>2</td>\n",
       "      <td>42</td>\n",
       "      <td>16</td>\n",
       "      <td>4</td>\n",
       "      <td>54</td>\n",
       "      <td>22</td>\n",
       "      <td>39</td>\n",
       "    </tr>\n",
       "  </tbody>\n",
       "</table>\n",
       "<p>124 rows × 11 columns</p>\n",
       "</div>"
      ],
      "text/plain": [
       "delay_freq  Sensor ID  delay_10000_freq_lower  delay_16800_freq_lower  \\\n",
       "0                   1                     267                     102   \n",
       "1                   2                     174                      55   \n",
       "2                   3                       5                       6   \n",
       "3                   4                      42                     136   \n",
       "4                   5                      98                      22   \n",
       "..                ...                     ...                     ...   \n",
       "119               121                      39                       3   \n",
       "120               122                      55                       7   \n",
       "121               123                      86                      91   \n",
       "122               124                      50                      45   \n",
       "123               125                      13                       7   \n",
       "\n",
       "delay_freq  delay_3000_freq_lower  delay_6000_freq_lower  \\\n",
       "0                             140                    171   \n",
       "1                             129                    164   \n",
       "2                              48                     10   \n",
       "3                              76                    148   \n",
       "4                              95                    130   \n",
       "..                            ...                    ...   \n",
       "119                            96                    123   \n",
       "120                            17                     50   \n",
       "121                            92                    168   \n",
       "122                            51                    134   \n",
       "123                            54                      2   \n",
       "\n",
       "delay_freq  delay_8000_freq_lower  delay_10000_freq_upper  \\\n",
       "0                             167                     258   \n",
       "1                             131                     172   \n",
       "2                               8                      21   \n",
       "3                              41                      57   \n",
       "4                             137                      91   \n",
       "..                            ...                     ...   \n",
       "119                            50                      63   \n",
       "120                           143                      55   \n",
       "121                           102                      93   \n",
       "122                           132                      53   \n",
       "123                            42                      16   \n",
       "\n",
       "delay_freq  delay_16800_freq_upper  delay_3000_freq_upper  \\\n",
       "0                              105                    131   \n",
       "1                               59                    143   \n",
       "2                               13                     52   \n",
       "3                              127                     90   \n",
       "4                               13                     82   \n",
       "..                             ...                    ...   \n",
       "119                              8                     96   \n",
       "120                              8                      9   \n",
       "121                             92                    110   \n",
       "122                             72                     44   \n",
       "123                              4                     54   \n",
       "\n",
       "delay_freq  delay_6000_freq_upper  delay_8000_freq_upper  \n",
       "0                             182                    197  \n",
       "1                             194                    145  \n",
       "2                               8                     11  \n",
       "3                             150                     49  \n",
       "4                             139                    128  \n",
       "..                            ...                    ...  \n",
       "119                           136                     45  \n",
       "120                            52                    125  \n",
       "121                           179                     92  \n",
       "122                           135                    124  \n",
       "123                            22                     39  \n",
       "\n",
       "[124 rows x 11 columns]"
      ]
     },
     "execution_count": 108,
     "metadata": {},
     "output_type": "execute_result"
    }
   ],
   "source": [
    "df_delay_freq = pd.merge(df_pivot_lower,df_pivot_upper, on='Sensor ID',how='left')\n",
    "# Replace NaN values with 0\n",
    "df_delay_freq.fillna(0, inplace=True)\n",
    "df_delay_freq = df_delay_freq.astype(int)\n",
    "\n",
    "df_delay_freq"
   ]
  },
  {
   "cell_type": "code",
   "execution_count": 109,
   "metadata": {},
   "outputs": [
    {
     "data": {
      "text/html": [
       "<div>\n",
       "<style scoped>\n",
       "    .dataframe tbody tr th:only-of-type {\n",
       "        vertical-align: middle;\n",
       "    }\n",
       "\n",
       "    .dataframe tbody tr th {\n",
       "        vertical-align: top;\n",
       "    }\n",
       "\n",
       "    .dataframe thead th {\n",
       "        text-align: right;\n",
       "    }\n",
       "</style>\n",
       "<table border=\"1\" class=\"dataframe\">\n",
       "  <thead>\n",
       "    <tr style=\"text-align: right;\">\n",
       "      <th></th>\n",
       "      <th>Sensor ID</th>\n",
       "      <th>13_10000_mean_middle</th>\n",
       "      <th>13_16800_mean_middle</th>\n",
       "      <th>13_3000_mean_middle</th>\n",
       "      <th>13_6000_mean_middle</th>\n",
       "      <th>13_8000_mean_middle</th>\n",
       "      <th>18_10000_mean_middle</th>\n",
       "      <th>18_16800_mean_middle</th>\n",
       "      <th>18_3000_mean_middle</th>\n",
       "      <th>18_6000_mean_middle</th>\n",
       "      <th>...</th>\n",
       "      <th>delay_10000_freq_lower</th>\n",
       "      <th>delay_16800_freq_lower</th>\n",
       "      <th>delay_3000_freq_lower</th>\n",
       "      <th>delay_6000_freq_lower</th>\n",
       "      <th>delay_8000_freq_lower</th>\n",
       "      <th>delay_10000_freq_upper</th>\n",
       "      <th>delay_16800_freq_upper</th>\n",
       "      <th>delay_3000_freq_upper</th>\n",
       "      <th>delay_6000_freq_upper</th>\n",
       "      <th>delay_8000_freq_upper</th>\n",
       "    </tr>\n",
       "  </thead>\n",
       "  <tbody>\n",
       "    <tr>\n",
       "      <th>0</th>\n",
       "      <td>1</td>\n",
       "      <td>827.00</td>\n",
       "      <td>827.000000</td>\n",
       "      <td>827.00</td>\n",
       "      <td>827.00</td>\n",
       "      <td>827.00</td>\n",
       "      <td>1071.000000</td>\n",
       "      <td>1069.285714</td>\n",
       "      <td>1069.240000</td>\n",
       "      <td>1069.400000</td>\n",
       "      <td>...</td>\n",
       "      <td>267</td>\n",
       "      <td>102</td>\n",
       "      <td>140</td>\n",
       "      <td>171</td>\n",
       "      <td>167</td>\n",
       "      <td>258</td>\n",
       "      <td>105</td>\n",
       "      <td>131</td>\n",
       "      <td>182</td>\n",
       "      <td>197</td>\n",
       "    </tr>\n",
       "    <tr>\n",
       "      <th>1</th>\n",
       "      <td>2</td>\n",
       "      <td>679.64</td>\n",
       "      <td>679.000000</td>\n",
       "      <td>679.00</td>\n",
       "      <td>679.00</td>\n",
       "      <td>679.00</td>\n",
       "      <td>943.000000</td>\n",
       "      <td>954.200000</td>\n",
       "      <td>967.260870</td>\n",
       "      <td>954.520000</td>\n",
       "      <td>...</td>\n",
       "      <td>174</td>\n",
       "      <td>55</td>\n",
       "      <td>129</td>\n",
       "      <td>164</td>\n",
       "      <td>131</td>\n",
       "      <td>172</td>\n",
       "      <td>59</td>\n",
       "      <td>143</td>\n",
       "      <td>194</td>\n",
       "      <td>145</td>\n",
       "    </tr>\n",
       "    <tr>\n",
       "      <th>2</th>\n",
       "      <td>3</td>\n",
       "      <td>717.88</td>\n",
       "      <td>717.727273</td>\n",
       "      <td>718.04</td>\n",
       "      <td>717.24</td>\n",
       "      <td>718.04</td>\n",
       "      <td>1029.933333</td>\n",
       "      <td>1020.920000</td>\n",
       "      <td>1007.000000</td>\n",
       "      <td>1005.960000</td>\n",
       "      <td>...</td>\n",
       "      <td>5</td>\n",
       "      <td>6</td>\n",
       "      <td>48</td>\n",
       "      <td>10</td>\n",
       "      <td>8</td>\n",
       "      <td>21</td>\n",
       "      <td>13</td>\n",
       "      <td>52</td>\n",
       "      <td>8</td>\n",
       "      <td>11</td>\n",
       "    </tr>\n",
       "    <tr>\n",
       "      <th>3</th>\n",
       "      <td>4</td>\n",
       "      <td>737.08</td>\n",
       "      <td>736.840000</td>\n",
       "      <td>737.16</td>\n",
       "      <td>736.92</td>\n",
       "      <td>736.68</td>\n",
       "      <td>1030.351351</td>\n",
       "      <td>1031.000000</td>\n",
       "      <td>1028.840000</td>\n",
       "      <td>1087.000000</td>\n",
       "      <td>...</td>\n",
       "      <td>42</td>\n",
       "      <td>136</td>\n",
       "      <td>76</td>\n",
       "      <td>148</td>\n",
       "      <td>41</td>\n",
       "      <td>57</td>\n",
       "      <td>127</td>\n",
       "      <td>90</td>\n",
       "      <td>150</td>\n",
       "      <td>49</td>\n",
       "    </tr>\n",
       "    <tr>\n",
       "      <th>4</th>\n",
       "      <td>5</td>\n",
       "      <td>743.00</td>\n",
       "      <td>742.894737</td>\n",
       "      <td>741.88</td>\n",
       "      <td>743.00</td>\n",
       "      <td>743.00</td>\n",
       "      <td>1046.102041</td>\n",
       "      <td>1045.697674</td>\n",
       "      <td>1047.244898</td>\n",
       "      <td>1046.288889</td>\n",
       "      <td>...</td>\n",
       "      <td>98</td>\n",
       "      <td>22</td>\n",
       "      <td>95</td>\n",
       "      <td>130</td>\n",
       "      <td>137</td>\n",
       "      <td>91</td>\n",
       "      <td>13</td>\n",
       "      <td>82</td>\n",
       "      <td>139</td>\n",
       "      <td>128</td>\n",
       "    </tr>\n",
       "  </tbody>\n",
       "</table>\n",
       "<p>5 rows × 148 columns</p>\n",
       "</div>"
      ],
      "text/plain": [
       "   Sensor ID  13_10000_mean_middle  13_16800_mean_middle  13_3000_mean_middle  \\\n",
       "0          1                827.00            827.000000               827.00   \n",
       "1          2                679.64            679.000000               679.00   \n",
       "2          3                717.88            717.727273               718.04   \n",
       "3          4                737.08            736.840000               737.16   \n",
       "4          5                743.00            742.894737               741.88   \n",
       "\n",
       "   13_6000_mean_middle  13_8000_mean_middle  18_10000_mean_middle  \\\n",
       "0               827.00               827.00           1071.000000   \n",
       "1               679.00               679.00            943.000000   \n",
       "2               717.24               718.04           1029.933333   \n",
       "3               736.92               736.68           1030.351351   \n",
       "4               743.00               743.00           1046.102041   \n",
       "\n",
       "   18_16800_mean_middle  18_3000_mean_middle  18_6000_mean_middle  ...  \\\n",
       "0           1069.285714          1069.240000          1069.400000  ...   \n",
       "1            954.200000           967.260870           954.520000  ...   \n",
       "2           1020.920000          1007.000000          1005.960000  ...   \n",
       "3           1031.000000          1028.840000          1087.000000  ...   \n",
       "4           1045.697674          1047.244898          1046.288889  ...   \n",
       "\n",
       "   delay_10000_freq_lower  delay_16800_freq_lower  delay_3000_freq_lower  \\\n",
       "0                     267                     102                    140   \n",
       "1                     174                      55                    129   \n",
       "2                       5                       6                     48   \n",
       "3                      42                     136                     76   \n",
       "4                      98                      22                     95   \n",
       "\n",
       "   delay_6000_freq_lower  delay_8000_freq_lower  delay_10000_freq_upper  \\\n",
       "0                    171                    167                     258   \n",
       "1                    164                    131                     172   \n",
       "2                     10                      8                      21   \n",
       "3                    148                     41                      57   \n",
       "4                    130                    137                      91   \n",
       "\n",
       "   delay_16800_freq_upper  delay_3000_freq_upper  delay_6000_freq_upper  \\\n",
       "0                     105                    131                    182   \n",
       "1                      59                    143                    194   \n",
       "2                      13                     52                      8   \n",
       "3                     127                     90                    150   \n",
       "4                      13                     82                    139   \n",
       "\n",
       "   delay_8000_freq_upper  \n",
       "0                    197  \n",
       "1                    145  \n",
       "2                     11  \n",
       "3                     49  \n",
       "4                    128  \n",
       "\n",
       "[5 rows x 148 columns]"
      ]
     },
     "execution_count": 109,
     "metadata": {},
     "output_type": "execute_result"
    }
   ],
   "source": [
    "# Merge the unique categorical values DataFrame with the original data on 'Sensor ID'\n",
    "df_all = pd.merge(df_all, df_delay_freq, on='Sensor ID', how='left')\n",
    "df_all.head()"
   ]
  },
  {
   "cell_type": "markdown",
   "metadata": {},
   "source": [
    "# Add Variability (Feature Engineering)"
   ]
  },
  {
   "cell_type": "code",
   "execution_count": 110,
   "metadata": {},
   "outputs": [],
   "source": [
    "\n",
    "def create_range_delay_feature_variability(df_quartile,bound):\n",
    "    # Step 1: Group and calculate mean\n",
    "    df_grouped = df_quartile.groupby(['Sensor ID', 'Range (cm)', 'Delay (us)'])['Ping Time (us)'].var().reset_index()\n",
    "\n",
    "    # Step 2: Create `range_delay` column\n",
    "    df_grouped['range_delay_var'] = df_grouped['Range (cm)'].astype(str) + '_' + df_grouped['Delay (us)'].astype(str)+'_'+'var'+'_'+bound\n",
    "\n",
    "    # Step 3: Pivot the table\n",
    "    df_pivot = df_grouped.pivot(index='Sensor ID', columns='range_delay_var', values='Ping Time (us)').reset_index()\n",
    "    \n",
    "    return df_pivot\n",
    "\n",
    "\n",
    "def feature_engineering_quartile_var(df):\n",
    "    df_middle_quartile, df_lower_quartile, df_upper_quartile = split_quartiles(df)\n",
    "    df_range_delay_middle = create_range_delay_feature_variability(df_middle_quartile,\"middle\")\n",
    "    df_range_delay_lower = create_range_delay_feature_variability(df_lower_quartile,\"lower\")\n",
    "    df_range_delay_upper = create_range_delay_feature_variability(df_upper_quartile,\"upper\")\n",
    "\n",
    "    # List of DataFrames\n",
    "    df_pivots = [df_range_delay_middle, df_range_delay_lower, df_range_delay_upper]\n",
    "\n",
    "    # Initialize the merged DataFrame with the first DataFrame in the list\n",
    "    df_range_delay_all = df_pivots[0]\n",
    "\n",
    "    # Iteratively merge each DataFrame in the list\n",
    "    for df in df_pivots[1:]:\n",
    "        df_range_delay_all = df_range_delay_all.merge(df, on='Sensor ID')\n",
    "        \n",
    "    # Replace all NaN values with 0 in the merged DataFrame\n",
    "    df_range_delay_all.fillna(0, inplace=True)\n",
    "\n",
    "    return df_range_delay_all, df_range_delay_middle, df_range_delay_lower,df_range_delay_upper\n",
    "    \n",
    "\n",
    "df_range_delay_var_all,df_range_delay_var_middle, df_range_delay_var_lower,df_range_var_delay_upper = feature_engineering_quartile_var(df_data_v4_1_1)\n"
   ]
  },
  {
   "cell_type": "code",
   "execution_count": 111,
   "metadata": {},
   "outputs": [
    {
     "data": {
      "text/html": [
       "<div>\n",
       "<style scoped>\n",
       "    .dataframe tbody tr th:only-of-type {\n",
       "        vertical-align: middle;\n",
       "    }\n",
       "\n",
       "    .dataframe tbody tr th {\n",
       "        vertical-align: top;\n",
       "    }\n",
       "\n",
       "    .dataframe thead th {\n",
       "        text-align: right;\n",
       "    }\n",
       "</style>\n",
       "<table border=\"1\" class=\"dataframe\">\n",
       "  <thead>\n",
       "    <tr style=\"text-align: right;\">\n",
       "      <th>range_delay_var</th>\n",
       "      <th>Sensor ID</th>\n",
       "      <th>13_10000_var_middle</th>\n",
       "      <th>13_16800_var_middle</th>\n",
       "      <th>13_3000_var_middle</th>\n",
       "      <th>13_6000_var_middle</th>\n",
       "      <th>13_8000_var_middle</th>\n",
       "      <th>18_10000_var_middle</th>\n",
       "      <th>18_16800_var_middle</th>\n",
       "      <th>18_3000_var_middle</th>\n",
       "      <th>18_6000_var_middle</th>\n",
       "      <th>...</th>\n",
       "      <th>48_10000_var_upper</th>\n",
       "      <th>48_16800_var_upper</th>\n",
       "      <th>48_3000_var_upper</th>\n",
       "      <th>48_6000_var_upper</th>\n",
       "      <th>48_8000_var_upper</th>\n",
       "      <th>53_10000_var_upper</th>\n",
       "      <th>53_16800_var_upper</th>\n",
       "      <th>53_3000_var_upper</th>\n",
       "      <th>53_6000_var_upper</th>\n",
       "      <th>53_8000_var_upper</th>\n",
       "    </tr>\n",
       "  </thead>\n",
       "  <tbody>\n",
       "    <tr>\n",
       "      <th>0</th>\n",
       "      <td>1</td>\n",
       "      <td>0.000000</td>\n",
       "      <td>0.000000</td>\n",
       "      <td>0.000000</td>\n",
       "      <td>0.000000</td>\n",
       "      <td>0.000000</td>\n",
       "      <td>0.000000</td>\n",
       "      <td>5.333333</td>\n",
       "      <td>8.594286</td>\n",
       "      <td>6.530612</td>\n",
       "      <td>...</td>\n",
       "      <td>0.000000</td>\n",
       "      <td>0.0</td>\n",
       "      <td>172.8</td>\n",
       "      <td>288.000000</td>\n",
       "      <td>165.333333</td>\n",
       "      <td>1.928118</td>\n",
       "      <td>0.0</td>\n",
       "      <td>1.616162</td>\n",
       "      <td>137.018182</td>\n",
       "      <td>362.975845</td>\n",
       "    </tr>\n",
       "    <tr>\n",
       "      <th>1</th>\n",
       "      <td>2</td>\n",
       "      <td>5.459592</td>\n",
       "      <td>0.000000</td>\n",
       "      <td>0.000000</td>\n",
       "      <td>0.000000</td>\n",
       "      <td>0.000000</td>\n",
       "      <td>0.000000</td>\n",
       "      <td>189.387755</td>\n",
       "      <td>7.397101</td>\n",
       "      <td>164.336327</td>\n",
       "      <td>...</td>\n",
       "      <td>36.521739</td>\n",
       "      <td>0.0</td>\n",
       "      <td>0.0</td>\n",
       "      <td>0.000000</td>\n",
       "      <td>11.636364</td>\n",
       "      <td>0.000000</td>\n",
       "      <td>144840.0</td>\n",
       "      <td>0.000000</td>\n",
       "      <td>4.004430</td>\n",
       "      <td>0.000000</td>\n",
       "    </tr>\n",
       "    <tr>\n",
       "      <th>2</th>\n",
       "      <td>3</td>\n",
       "      <td>4.597551</td>\n",
       "      <td>5.040169</td>\n",
       "      <td>4.937143</td>\n",
       "      <td>6.635102</td>\n",
       "      <td>6.243265</td>\n",
       "      <td>4.654545</td>\n",
       "      <td>136.646531</td>\n",
       "      <td>0.000000</td>\n",
       "      <td>7.712653</td>\n",
       "      <td>...</td>\n",
       "      <td>0.000000</td>\n",
       "      <td>0.0</td>\n",
       "      <td>0.0</td>\n",
       "      <td>0.000000</td>\n",
       "      <td>0.000000</td>\n",
       "      <td>0.000000</td>\n",
       "      <td>0.0</td>\n",
       "      <td>0.000000</td>\n",
       "      <td>0.000000</td>\n",
       "      <td>0.000000</td>\n",
       "    </tr>\n",
       "    <tr>\n",
       "      <th>3</th>\n",
       "      <td>4</td>\n",
       "      <td>4.075102</td>\n",
       "      <td>6.014694</td>\n",
       "      <td>5.361633</td>\n",
       "      <td>5.381224</td>\n",
       "      <td>5.936327</td>\n",
       "      <td>3.123123</td>\n",
       "      <td>0.000000</td>\n",
       "      <td>6.014694</td>\n",
       "      <td>35.096774</td>\n",
       "      <td>...</td>\n",
       "      <td>0.000000</td>\n",
       "      <td>0.0</td>\n",
       "      <td>0.0</td>\n",
       "      <td>1.560976</td>\n",
       "      <td>0.000000</td>\n",
       "      <td>3.069767</td>\n",
       "      <td>0.0</td>\n",
       "      <td>3.295681</td>\n",
       "      <td>2.923588</td>\n",
       "      <td>3.295681</td>\n",
       "    </tr>\n",
       "    <tr>\n",
       "      <th>4</th>\n",
       "      <td>5</td>\n",
       "      <td>0.000000</td>\n",
       "      <td>6.475107</td>\n",
       "      <td>5.250612</td>\n",
       "      <td>0.000000</td>\n",
       "      <td>0.000000</td>\n",
       "      <td>8.843537</td>\n",
       "      <td>8.168328</td>\n",
       "      <td>8.272109</td>\n",
       "      <td>5.301010</td>\n",
       "      <td>...</td>\n",
       "      <td>0.000000</td>\n",
       "      <td>0.0</td>\n",
       "      <td>0.0</td>\n",
       "      <td>0.000000</td>\n",
       "      <td>0.000000</td>\n",
       "      <td>0.000000</td>\n",
       "      <td>0.0</td>\n",
       "      <td>0.000000</td>\n",
       "      <td>0.000000</td>\n",
       "      <td>0.000000</td>\n",
       "    </tr>\n",
       "  </tbody>\n",
       "</table>\n",
       "<p>5 rows × 136 columns</p>\n",
       "</div>"
      ],
      "text/plain": [
       "range_delay_var  Sensor ID  13_10000_var_middle  13_16800_var_middle  \\\n",
       "0                        1             0.000000             0.000000   \n",
       "1                        2             5.459592             0.000000   \n",
       "2                        3             4.597551             5.040169   \n",
       "3                        4             4.075102             6.014694   \n",
       "4                        5             0.000000             6.475107   \n",
       "\n",
       "range_delay_var  13_3000_var_middle  13_6000_var_middle  13_8000_var_middle  \\\n",
       "0                          0.000000            0.000000            0.000000   \n",
       "1                          0.000000            0.000000            0.000000   \n",
       "2                          4.937143            6.635102            6.243265   \n",
       "3                          5.361633            5.381224            5.936327   \n",
       "4                          5.250612            0.000000            0.000000   \n",
       "\n",
       "range_delay_var  18_10000_var_middle  18_16800_var_middle  18_3000_var_middle  \\\n",
       "0                           0.000000             5.333333            8.594286   \n",
       "1                           0.000000           189.387755            7.397101   \n",
       "2                           4.654545           136.646531            0.000000   \n",
       "3                           3.123123             0.000000            6.014694   \n",
       "4                           8.843537             8.168328            8.272109   \n",
       "\n",
       "range_delay_var  18_6000_var_middle  ...  48_10000_var_upper  \\\n",
       "0                          6.530612  ...            0.000000   \n",
       "1                        164.336327  ...           36.521739   \n",
       "2                          7.712653  ...            0.000000   \n",
       "3                         35.096774  ...            0.000000   \n",
       "4                          5.301010  ...            0.000000   \n",
       "\n",
       "range_delay_var  48_16800_var_upper  48_3000_var_upper  48_6000_var_upper  \\\n",
       "0                               0.0              172.8         288.000000   \n",
       "1                               0.0                0.0           0.000000   \n",
       "2                               0.0                0.0           0.000000   \n",
       "3                               0.0                0.0           1.560976   \n",
       "4                               0.0                0.0           0.000000   \n",
       "\n",
       "range_delay_var  48_8000_var_upper  53_10000_var_upper  53_16800_var_upper  \\\n",
       "0                       165.333333            1.928118                 0.0   \n",
       "1                        11.636364            0.000000            144840.0   \n",
       "2                         0.000000            0.000000                 0.0   \n",
       "3                         0.000000            3.069767                 0.0   \n",
       "4                         0.000000            0.000000                 0.0   \n",
       "\n",
       "range_delay_var  53_3000_var_upper  53_6000_var_upper  53_8000_var_upper  \n",
       "0                         1.616162         137.018182         362.975845  \n",
       "1                         0.000000           4.004430           0.000000  \n",
       "2                         0.000000           0.000000           0.000000  \n",
       "3                         3.295681           2.923588           3.295681  \n",
       "4                         0.000000           0.000000           0.000000  \n",
       "\n",
       "[5 rows x 136 columns]"
      ]
     },
     "execution_count": 111,
     "metadata": {},
     "output_type": "execute_result"
    }
   ],
   "source": [
    "df_range_delay_var_all.head()"
   ]
  },
  {
   "cell_type": "code",
   "execution_count": 112,
   "metadata": {},
   "outputs": [
    {
     "data": {
      "text/html": [
       "<div>\n",
       "<style scoped>\n",
       "    .dataframe tbody tr th:only-of-type {\n",
       "        vertical-align: middle;\n",
       "    }\n",
       "\n",
       "    .dataframe tbody tr th {\n",
       "        vertical-align: top;\n",
       "    }\n",
       "\n",
       "    .dataframe thead th {\n",
       "        text-align: right;\n",
       "    }\n",
       "</style>\n",
       "<table border=\"1\" class=\"dataframe\">\n",
       "  <thead>\n",
       "    <tr style=\"text-align: right;\">\n",
       "      <th></th>\n",
       "      <th>Sensor ID</th>\n",
       "      <th>13_10000_mean_middle</th>\n",
       "      <th>13_16800_mean_middle</th>\n",
       "      <th>13_3000_mean_middle</th>\n",
       "      <th>13_6000_mean_middle</th>\n",
       "      <th>13_8000_mean_middle</th>\n",
       "      <th>18_10000_mean_middle</th>\n",
       "      <th>18_16800_mean_middle</th>\n",
       "      <th>18_3000_mean_middle</th>\n",
       "      <th>18_6000_mean_middle</th>\n",
       "      <th>...</th>\n",
       "      <th>48_10000_var_upper</th>\n",
       "      <th>48_16800_var_upper</th>\n",
       "      <th>48_3000_var_upper</th>\n",
       "      <th>48_6000_var_upper</th>\n",
       "      <th>48_8000_var_upper</th>\n",
       "      <th>53_10000_var_upper</th>\n",
       "      <th>53_16800_var_upper</th>\n",
       "      <th>53_3000_var_upper</th>\n",
       "      <th>53_6000_var_upper</th>\n",
       "      <th>53_8000_var_upper</th>\n",
       "    </tr>\n",
       "  </thead>\n",
       "  <tbody>\n",
       "    <tr>\n",
       "      <th>0</th>\n",
       "      <td>1</td>\n",
       "      <td>827.00</td>\n",
       "      <td>827.000000</td>\n",
       "      <td>827.00</td>\n",
       "      <td>827.00</td>\n",
       "      <td>827.00</td>\n",
       "      <td>1071.000000</td>\n",
       "      <td>1069.285714</td>\n",
       "      <td>1069.240000</td>\n",
       "      <td>1069.400000</td>\n",
       "      <td>...</td>\n",
       "      <td>0.000000</td>\n",
       "      <td>0.0</td>\n",
       "      <td>172.8</td>\n",
       "      <td>288.000000</td>\n",
       "      <td>165.333333</td>\n",
       "      <td>1.928118</td>\n",
       "      <td>0.0</td>\n",
       "      <td>1.616162</td>\n",
       "      <td>137.018182</td>\n",
       "      <td>362.975845</td>\n",
       "    </tr>\n",
       "    <tr>\n",
       "      <th>1</th>\n",
       "      <td>2</td>\n",
       "      <td>679.64</td>\n",
       "      <td>679.000000</td>\n",
       "      <td>679.00</td>\n",
       "      <td>679.00</td>\n",
       "      <td>679.00</td>\n",
       "      <td>943.000000</td>\n",
       "      <td>954.200000</td>\n",
       "      <td>967.260870</td>\n",
       "      <td>954.520000</td>\n",
       "      <td>...</td>\n",
       "      <td>36.521739</td>\n",
       "      <td>0.0</td>\n",
       "      <td>0.0</td>\n",
       "      <td>0.000000</td>\n",
       "      <td>11.636364</td>\n",
       "      <td>0.000000</td>\n",
       "      <td>144840.0</td>\n",
       "      <td>0.000000</td>\n",
       "      <td>4.004430</td>\n",
       "      <td>0.000000</td>\n",
       "    </tr>\n",
       "    <tr>\n",
       "      <th>2</th>\n",
       "      <td>3</td>\n",
       "      <td>717.88</td>\n",
       "      <td>717.727273</td>\n",
       "      <td>718.04</td>\n",
       "      <td>717.24</td>\n",
       "      <td>718.04</td>\n",
       "      <td>1029.933333</td>\n",
       "      <td>1020.920000</td>\n",
       "      <td>1007.000000</td>\n",
       "      <td>1005.960000</td>\n",
       "      <td>...</td>\n",
       "      <td>0.000000</td>\n",
       "      <td>0.0</td>\n",
       "      <td>0.0</td>\n",
       "      <td>0.000000</td>\n",
       "      <td>0.000000</td>\n",
       "      <td>0.000000</td>\n",
       "      <td>0.0</td>\n",
       "      <td>0.000000</td>\n",
       "      <td>0.000000</td>\n",
       "      <td>0.000000</td>\n",
       "    </tr>\n",
       "    <tr>\n",
       "      <th>3</th>\n",
       "      <td>4</td>\n",
       "      <td>737.08</td>\n",
       "      <td>736.840000</td>\n",
       "      <td>737.16</td>\n",
       "      <td>736.92</td>\n",
       "      <td>736.68</td>\n",
       "      <td>1030.351351</td>\n",
       "      <td>1031.000000</td>\n",
       "      <td>1028.840000</td>\n",
       "      <td>1087.000000</td>\n",
       "      <td>...</td>\n",
       "      <td>0.000000</td>\n",
       "      <td>0.0</td>\n",
       "      <td>0.0</td>\n",
       "      <td>1.560976</td>\n",
       "      <td>0.000000</td>\n",
       "      <td>3.069767</td>\n",
       "      <td>0.0</td>\n",
       "      <td>3.295681</td>\n",
       "      <td>2.923588</td>\n",
       "      <td>3.295681</td>\n",
       "    </tr>\n",
       "    <tr>\n",
       "      <th>4</th>\n",
       "      <td>5</td>\n",
       "      <td>743.00</td>\n",
       "      <td>742.894737</td>\n",
       "      <td>741.88</td>\n",
       "      <td>743.00</td>\n",
       "      <td>743.00</td>\n",
       "      <td>1046.102041</td>\n",
       "      <td>1045.697674</td>\n",
       "      <td>1047.244898</td>\n",
       "      <td>1046.288889</td>\n",
       "      <td>...</td>\n",
       "      <td>0.000000</td>\n",
       "      <td>0.0</td>\n",
       "      <td>0.0</td>\n",
       "      <td>0.000000</td>\n",
       "      <td>0.000000</td>\n",
       "      <td>0.000000</td>\n",
       "      <td>0.0</td>\n",
       "      <td>0.000000</td>\n",
       "      <td>0.000000</td>\n",
       "      <td>0.000000</td>\n",
       "    </tr>\n",
       "  </tbody>\n",
       "</table>\n",
       "<p>5 rows × 283 columns</p>\n",
       "</div>"
      ],
      "text/plain": [
       "   Sensor ID  13_10000_mean_middle  13_16800_mean_middle  13_3000_mean_middle  \\\n",
       "0          1                827.00            827.000000               827.00   \n",
       "1          2                679.64            679.000000               679.00   \n",
       "2          3                717.88            717.727273               718.04   \n",
       "3          4                737.08            736.840000               737.16   \n",
       "4          5                743.00            742.894737               741.88   \n",
       "\n",
       "   13_6000_mean_middle  13_8000_mean_middle  18_10000_mean_middle  \\\n",
       "0               827.00               827.00           1071.000000   \n",
       "1               679.00               679.00            943.000000   \n",
       "2               717.24               718.04           1029.933333   \n",
       "3               736.92               736.68           1030.351351   \n",
       "4               743.00               743.00           1046.102041   \n",
       "\n",
       "   18_16800_mean_middle  18_3000_mean_middle  18_6000_mean_middle  ...  \\\n",
       "0           1069.285714          1069.240000          1069.400000  ...   \n",
       "1            954.200000           967.260870           954.520000  ...   \n",
       "2           1020.920000          1007.000000          1005.960000  ...   \n",
       "3           1031.000000          1028.840000          1087.000000  ...   \n",
       "4           1045.697674          1047.244898          1046.288889  ...   \n",
       "\n",
       "   48_10000_var_upper  48_16800_var_upper  48_3000_var_upper  \\\n",
       "0            0.000000                 0.0              172.8   \n",
       "1           36.521739                 0.0                0.0   \n",
       "2            0.000000                 0.0                0.0   \n",
       "3            0.000000                 0.0                0.0   \n",
       "4            0.000000                 0.0                0.0   \n",
       "\n",
       "   48_6000_var_upper  48_8000_var_upper  53_10000_var_upper  \\\n",
       "0         288.000000         165.333333            1.928118   \n",
       "1           0.000000          11.636364            0.000000   \n",
       "2           0.000000           0.000000            0.000000   \n",
       "3           1.560976           0.000000            3.069767   \n",
       "4           0.000000           0.000000            0.000000   \n",
       "\n",
       "   53_16800_var_upper  53_3000_var_upper  53_6000_var_upper  53_8000_var_upper  \n",
       "0                 0.0           1.616162         137.018182         362.975845  \n",
       "1            144840.0           0.000000           4.004430           0.000000  \n",
       "2                 0.0           0.000000           0.000000           0.000000  \n",
       "3                 0.0           3.295681           2.923588           3.295681  \n",
       "4                 0.0           0.000000           0.000000           0.000000  \n",
       "\n",
       "[5 rows x 283 columns]"
      ]
     },
     "execution_count": 112,
     "metadata": {},
     "output_type": "execute_result"
    }
   ],
   "source": [
    "# Merge the unique categorical values DataFrame with the original data on 'Sensor ID'\n",
    "df_all = pd.merge(df_all, df_range_delay_var_all, on='Sensor ID', how='left')\n",
    "df_all.head()"
   ]
  },
  {
   "cell_type": "code",
   "execution_count": 113,
   "metadata": {},
   "outputs": [
    {
     "data": {
      "text/plain": [
       "array([  1,   2,   3,   4,   5,   6,   7,   8,   9,  10,  11,  12,  13,\n",
       "        14,  15,  16,  17,  18,  19,  20,  21,  22,  23,  24,  25,  26,\n",
       "        27,  28,  29,  30,  32,  33,  34,  35,  36,  37,  38,  39,  40,\n",
       "        41,  42,  43,  44,  45,  46,  47,  48,  49,  50,  51,  52,  53,\n",
       "        54,  55,  56,  57,  58,  59,  60,  61,  62,  63,  64,  65,  66,\n",
       "        67,  68,  69,  70,  71,  72,  73,  74,  75,  76,  77,  78,  79,\n",
       "        80,  81,  82,  83,  84,  85,  86,  87,  88,  89,  90,  91,  92,\n",
       "        93,  94,  95,  96,  97,  98,  99, 100, 101, 102, 103, 104, 105,\n",
       "       106, 107, 108, 109, 110, 111, 112, 113, 114, 115, 116, 117, 118,\n",
       "       119, 120, 121, 122, 123, 124, 125])"
      ]
     },
     "execution_count": 113,
     "metadata": {},
     "output_type": "execute_result"
    }
   ],
   "source": [
    "df_all[\"Sensor ID\"].unique()"
   ]
  },
  {
   "cell_type": "markdown",
   "metadata": {},
   "source": [
    "# Export data"
   ]
  },
  {
   "cell_type": "code",
   "execution_count": 114,
   "metadata": {},
   "outputs": [],
   "source": [
    "#df_all.to_csv(\"../processed_data/data_v4-1-1_feature_engineered.csv\", index=False)"
   ]
  },
  {
   "cell_type": "code",
   "execution_count": null,
   "metadata": {},
   "outputs": [],
   "source": []
  }
 ],
 "metadata": {
  "kernelspec": {
   "display_name": "datascience",
   "language": "python",
   "name": "python3"
  },
  "language_info": {
   "codemirror_mode": {
    "name": "ipython",
    "version": 3
   },
   "file_extension": ".py",
   "mimetype": "text/x-python",
   "name": "python",
   "nbconvert_exporter": "python",
   "pygments_lexer": "ipython3",
   "version": "3.10.13"
  }
 },
 "nbformat": 4,
 "nbformat_minor": 2
}
