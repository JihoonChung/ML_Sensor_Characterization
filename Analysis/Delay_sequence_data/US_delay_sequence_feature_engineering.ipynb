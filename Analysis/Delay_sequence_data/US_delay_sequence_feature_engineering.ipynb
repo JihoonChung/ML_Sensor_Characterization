{
 "cells": [
  {
   "cell_type": "markdown",
   "metadata": {},
   "source": [
    "# Feature Engineering with delay sequence data"
   ]
  },
  {
   "cell_type": "markdown",
   "metadata": {},
   "source": [
    "This notebook will perform feature engineering based on the finding from the \"Ultrasonic_EDA_Delay Sequence\" notebook. "
   ]
  },
  {
   "cell_type": "code",
   "execution_count": 10,
   "metadata": {},
   "outputs": [],
   "source": [
    "import os\n",
    "import pandas as pd\n",
    "import matplotlib.pyplot as plt\n",
    "import seaborn as sns\n",
    "import plotly.express as px"
   ]
  },
  {
   "cell_type": "code",
   "execution_count": 11,
   "metadata": {},
   "outputs": [],
   "source": [
    "def get_all_files_in_directory(root_directory):\n",
    "    file_paths = []\n",
    "    for root, dirs, files in os.walk(root_directory):\n",
    "        for file in files:\n",
    "            file_paths.append(os.path.join(root, file))\n",
    "    return file_paths\n",
    "\n",
    "\n",
    "def merge_csv_files(file_paths):\n",
    "    \"\"\"\n",
    "    Merge multiple CSV files into a single DataFrame.\n",
    "\n",
    "    Parameters:\n",
    "    file_paths (list of str): List of file paths to the CSV files.\n",
    "\n",
    "    Returns:\n",
    "    DataFrame: Merged DataFrame containing data from all input CSV files.\n",
    "    \"\"\"\n",
    "    dataframes = []\n",
    "    for file in file_paths:\n",
    "        df = pd.read_csv(file)\n",
    "        dataframes.append(df)\n",
    "\n",
    "    # Concatenate all DataFrames\n",
    "    merged_df = pd.concat(dataframes, ignore_index=True)\n",
    "    \n",
    "    return merged_df"
   ]
  },
  {
   "cell_type": "markdown",
   "metadata": {},
   "source": [
    "## Import data"
   ]
  },
  {
   "cell_type": "markdown",
   "metadata": {},
   "source": [
    "Currently there are 20 sensor datas."
   ]
  },
  {
   "cell_type": "code",
   "execution_count": 12,
   "metadata": {},
   "outputs": [
    {
     "data": {
      "text/html": [
       "<div>\n",
       "<style scoped>\n",
       "    .dataframe tbody tr th:only-of-type {\n",
       "        vertical-align: middle;\n",
       "    }\n",
       "\n",
       "    .dataframe tbody tr th {\n",
       "        vertical-align: top;\n",
       "    }\n",
       "\n",
       "    .dataframe thead th {\n",
       "        text-align: right;\n",
       "    }\n",
       "</style>\n",
       "<table border=\"1\" class=\"dataframe\">\n",
       "  <thead>\n",
       "    <tr style=\"text-align: right;\">\n",
       "      <th></th>\n",
       "      <th>Trial</th>\n",
       "      <th>Ping Duration</th>\n",
       "      <th>Distance (cm)</th>\n",
       "      <th>Ping Time (us)</th>\n",
       "      <th>Delay (us)</th>\n",
       "      <th>Steps</th>\n",
       "      <th>Arduino ID</th>\n",
       "      <th>Sensor ID</th>\n",
       "      <th>Range (cm)</th>\n",
       "      <th>Sensor length (cm)</th>\n",
       "      <th>...</th>\n",
       "      <th>side a (cm)</th>\n",
       "      <th>side b (cm)</th>\n",
       "      <th>side c (cm)</th>\n",
       "      <th>Angle on YZ plane</th>\n",
       "      <th>Sensor Configuration</th>\n",
       "      <th>Sensor Angle</th>\n",
       "      <th>Surface material</th>\n",
       "      <th>Surface Length (cm)</th>\n",
       "      <th>Surface Width (cm)</th>\n",
       "      <th>side g (cm)</th>\n",
       "    </tr>\n",
       "  </thead>\n",
       "  <tbody>\n",
       "    <tr>\n",
       "      <th>0</th>\n",
       "      <td>0</td>\n",
       "      <td>3416</td>\n",
       "      <td>13.25</td>\n",
       "      <td>755</td>\n",
       "      <td>16800</td>\n",
       "      <td>11223.0</td>\n",
       "      <td>1</td>\n",
       "      <td>51</td>\n",
       "      <td>13</td>\n",
       "      <td>0.8</td>\n",
       "      <td>...</td>\n",
       "      <td>18.3</td>\n",
       "      <td>18.3</td>\n",
       "      <td>0</td>\n",
       "      <td>0</td>\n",
       "      <td>HTR</td>\n",
       "      <td>90</td>\n",
       "      <td>wood</td>\n",
       "      <td>31</td>\n",
       "      <td>30.5</td>\n",
       "      <td>NaN</td>\n",
       "    </tr>\n",
       "    <tr>\n",
       "      <th>1</th>\n",
       "      <td>1</td>\n",
       "      <td>3400</td>\n",
       "      <td>12.82</td>\n",
       "      <td>731</td>\n",
       "      <td>16800</td>\n",
       "      <td>11223.0</td>\n",
       "      <td>1</td>\n",
       "      <td>51</td>\n",
       "      <td>13</td>\n",
       "      <td>0.8</td>\n",
       "      <td>...</td>\n",
       "      <td>18.3</td>\n",
       "      <td>18.3</td>\n",
       "      <td>0</td>\n",
       "      <td>0</td>\n",
       "      <td>HTR</td>\n",
       "      <td>90</td>\n",
       "      <td>wood</td>\n",
       "      <td>31</td>\n",
       "      <td>30.5</td>\n",
       "      <td>NaN</td>\n",
       "    </tr>\n",
       "    <tr>\n",
       "      <th>2</th>\n",
       "      <td>2</td>\n",
       "      <td>3432</td>\n",
       "      <td>13.32</td>\n",
       "      <td>759</td>\n",
       "      <td>16800</td>\n",
       "      <td>11223.0</td>\n",
       "      <td>1</td>\n",
       "      <td>51</td>\n",
       "      <td>13</td>\n",
       "      <td>0.8</td>\n",
       "      <td>...</td>\n",
       "      <td>18.3</td>\n",
       "      <td>18.3</td>\n",
       "      <td>0</td>\n",
       "      <td>0</td>\n",
       "      <td>HTR</td>\n",
       "      <td>90</td>\n",
       "      <td>wood</td>\n",
       "      <td>31</td>\n",
       "      <td>30.5</td>\n",
       "      <td>NaN</td>\n",
       "    </tr>\n",
       "    <tr>\n",
       "      <th>3</th>\n",
       "      <td>3</td>\n",
       "      <td>3424</td>\n",
       "      <td>13.32</td>\n",
       "      <td>759</td>\n",
       "      <td>16800</td>\n",
       "      <td>11223.0</td>\n",
       "      <td>1</td>\n",
       "      <td>51</td>\n",
       "      <td>13</td>\n",
       "      <td>0.8</td>\n",
       "      <td>...</td>\n",
       "      <td>18.3</td>\n",
       "      <td>18.3</td>\n",
       "      <td>0</td>\n",
       "      <td>0</td>\n",
       "      <td>HTR</td>\n",
       "      <td>90</td>\n",
       "      <td>wood</td>\n",
       "      <td>31</td>\n",
       "      <td>30.5</td>\n",
       "      <td>NaN</td>\n",
       "    </tr>\n",
       "    <tr>\n",
       "      <th>4</th>\n",
       "      <td>4</td>\n",
       "      <td>3428</td>\n",
       "      <td>13.25</td>\n",
       "      <td>755</td>\n",
       "      <td>16800</td>\n",
       "      <td>11223.0</td>\n",
       "      <td>1</td>\n",
       "      <td>51</td>\n",
       "      <td>13</td>\n",
       "      <td>0.8</td>\n",
       "      <td>...</td>\n",
       "      <td>18.3</td>\n",
       "      <td>18.3</td>\n",
       "      <td>0</td>\n",
       "      <td>0</td>\n",
       "      <td>HTR</td>\n",
       "      <td>90</td>\n",
       "      <td>wood</td>\n",
       "      <td>31</td>\n",
       "      <td>30.5</td>\n",
       "      <td>NaN</td>\n",
       "    </tr>\n",
       "    <tr>\n",
       "      <th>...</th>\n",
       "      <td>...</td>\n",
       "      <td>...</td>\n",
       "      <td>...</td>\n",
       "      <td>...</td>\n",
       "      <td>...</td>\n",
       "      <td>...</td>\n",
       "      <td>...</td>\n",
       "      <td>...</td>\n",
       "      <td>...</td>\n",
       "      <td>...</td>\n",
       "      <td>...</td>\n",
       "      <td>...</td>\n",
       "      <td>...</td>\n",
       "      <td>...</td>\n",
       "      <td>...</td>\n",
       "      <td>...</td>\n",
       "      <td>...</td>\n",
       "      <td>...</td>\n",
       "      <td>...</td>\n",
       "      <td>...</td>\n",
       "      <td>...</td>\n",
       "    </tr>\n",
       "    <tr>\n",
       "      <th>425125</th>\n",
       "      <td>45</td>\n",
       "      <td>8288</td>\n",
       "      <td>52.96</td>\n",
       "      <td>3019</td>\n",
       "      <td>3000</td>\n",
       "      <td>0.0</td>\n",
       "      <td>1</td>\n",
       "      <td>15</td>\n",
       "      <td>53</td>\n",
       "      <td>0.8</td>\n",
       "      <td>...</td>\n",
       "      <td>18.3</td>\n",
       "      <td>18.3</td>\n",
       "      <td>0</td>\n",
       "      <td>0</td>\n",
       "      <td>HTR</td>\n",
       "      <td>90</td>\n",
       "      <td>wood</td>\n",
       "      <td>31</td>\n",
       "      <td>30.5</td>\n",
       "      <td>NaN</td>\n",
       "    </tr>\n",
       "    <tr>\n",
       "      <th>425126</th>\n",
       "      <td>46</td>\n",
       "      <td>8292</td>\n",
       "      <td>53.04</td>\n",
       "      <td>3023</td>\n",
       "      <td>3000</td>\n",
       "      <td>0.0</td>\n",
       "      <td>1</td>\n",
       "      <td>15</td>\n",
       "      <td>53</td>\n",
       "      <td>0.8</td>\n",
       "      <td>...</td>\n",
       "      <td>18.3</td>\n",
       "      <td>18.3</td>\n",
       "      <td>0</td>\n",
       "      <td>0</td>\n",
       "      <td>HTR</td>\n",
       "      <td>90</td>\n",
       "      <td>wood</td>\n",
       "      <td>31</td>\n",
       "      <td>30.5</td>\n",
       "      <td>NaN</td>\n",
       "    </tr>\n",
       "    <tr>\n",
       "      <th>425127</th>\n",
       "      <td>47</td>\n",
       "      <td>8292</td>\n",
       "      <td>53.04</td>\n",
       "      <td>3023</td>\n",
       "      <td>3000</td>\n",
       "      <td>0.0</td>\n",
       "      <td>1</td>\n",
       "      <td>15</td>\n",
       "      <td>53</td>\n",
       "      <td>0.8</td>\n",
       "      <td>...</td>\n",
       "      <td>18.3</td>\n",
       "      <td>18.3</td>\n",
       "      <td>0</td>\n",
       "      <td>0</td>\n",
       "      <td>HTR</td>\n",
       "      <td>90</td>\n",
       "      <td>wood</td>\n",
       "      <td>31</td>\n",
       "      <td>30.5</td>\n",
       "      <td>NaN</td>\n",
       "    </tr>\n",
       "    <tr>\n",
       "      <th>425128</th>\n",
       "      <td>48</td>\n",
       "      <td>8288</td>\n",
       "      <td>52.96</td>\n",
       "      <td>3019</td>\n",
       "      <td>3000</td>\n",
       "      <td>0.0</td>\n",
       "      <td>1</td>\n",
       "      <td>15</td>\n",
       "      <td>53</td>\n",
       "      <td>0.8</td>\n",
       "      <td>...</td>\n",
       "      <td>18.3</td>\n",
       "      <td>18.3</td>\n",
       "      <td>0</td>\n",
       "      <td>0</td>\n",
       "      <td>HTR</td>\n",
       "      <td>90</td>\n",
       "      <td>wood</td>\n",
       "      <td>31</td>\n",
       "      <td>30.5</td>\n",
       "      <td>NaN</td>\n",
       "    </tr>\n",
       "    <tr>\n",
       "      <th>425129</th>\n",
       "      <td>49</td>\n",
       "      <td>8288</td>\n",
       "      <td>52.96</td>\n",
       "      <td>3019</td>\n",
       "      <td>3000</td>\n",
       "      <td>0.0</td>\n",
       "      <td>1</td>\n",
       "      <td>15</td>\n",
       "      <td>53</td>\n",
       "      <td>0.8</td>\n",
       "      <td>...</td>\n",
       "      <td>18.3</td>\n",
       "      <td>18.3</td>\n",
       "      <td>0</td>\n",
       "      <td>0</td>\n",
       "      <td>HTR</td>\n",
       "      <td>90</td>\n",
       "      <td>wood</td>\n",
       "      <td>31</td>\n",
       "      <td>30.5</td>\n",
       "      <td>NaN</td>\n",
       "    </tr>\n",
       "  </tbody>\n",
       "</table>\n",
       "<p>425130 rows × 22 columns</p>\n",
       "</div>"
      ],
      "text/plain": [
       "        Trial  Ping Duration  Distance (cm)  Ping Time (us)  Delay (us)  \\\n",
       "0           0           3416          13.25             755       16800   \n",
       "1           1           3400          12.82             731       16800   \n",
       "2           2           3432          13.32             759       16800   \n",
       "3           3           3424          13.32             759       16800   \n",
       "4           4           3428          13.25             755       16800   \n",
       "...       ...            ...            ...             ...         ...   \n",
       "425125     45           8288          52.96            3019        3000   \n",
       "425126     46           8292          53.04            3023        3000   \n",
       "425127     47           8292          53.04            3023        3000   \n",
       "425128     48           8288          52.96            3019        3000   \n",
       "425129     49           8288          52.96            3019        3000   \n",
       "\n",
       "          Steps  Arduino ID  Sensor ID  Range (cm)  Sensor length (cm)  ...  \\\n",
       "0       11223.0           1         51          13                 0.8  ...   \n",
       "1       11223.0           1         51          13                 0.8  ...   \n",
       "2       11223.0           1         51          13                 0.8  ...   \n",
       "3       11223.0           1         51          13                 0.8  ...   \n",
       "4       11223.0           1         51          13                 0.8  ...   \n",
       "...         ...         ...        ...         ...                 ...  ...   \n",
       "425125      0.0           1         15          53                 0.8  ...   \n",
       "425126      0.0           1         15          53                 0.8  ...   \n",
       "425127      0.0           1         15          53                 0.8  ...   \n",
       "425128      0.0           1         15          53                 0.8  ...   \n",
       "425129      0.0           1         15          53                 0.8  ...   \n",
       "\n",
       "       side a (cm)  side b (cm)  side c (cm)  Angle on YZ plane  \\\n",
       "0             18.3         18.3            0                  0   \n",
       "1             18.3         18.3            0                  0   \n",
       "2             18.3         18.3            0                  0   \n",
       "3             18.3         18.3            0                  0   \n",
       "4             18.3         18.3            0                  0   \n",
       "...            ...          ...          ...                ...   \n",
       "425125        18.3         18.3            0                  0   \n",
       "425126        18.3         18.3            0                  0   \n",
       "425127        18.3         18.3            0                  0   \n",
       "425128        18.3         18.3            0                  0   \n",
       "425129        18.3         18.3            0                  0   \n",
       "\n",
       "        Sensor Configuration  Sensor Angle Surface material  \\\n",
       "0                        HTR            90             wood   \n",
       "1                        HTR            90             wood   \n",
       "2                        HTR            90             wood   \n",
       "3                        HTR            90             wood   \n",
       "4                        HTR            90             wood   \n",
       "...                      ...           ...              ...   \n",
       "425125                   HTR            90             wood   \n",
       "425126                   HTR            90             wood   \n",
       "425127                   HTR            90             wood   \n",
       "425128                   HTR            90             wood   \n",
       "425129                   HTR            90             wood   \n",
       "\n",
       "        Surface Length (cm) Surface Width (cm)  side g (cm)  \n",
       "0                        31               30.5          NaN  \n",
       "1                        31               30.5          NaN  \n",
       "2                        31               30.5          NaN  \n",
       "3                        31               30.5          NaN  \n",
       "4                        31               30.5          NaN  \n",
       "...                     ...                ...          ...  \n",
       "425125                   31               30.5          NaN  \n",
       "425126                   31               30.5          NaN  \n",
       "425127                   31               30.5          NaN  \n",
       "425128                   31               30.5          NaN  \n",
       "425129                   31               30.5          NaN  \n",
       "\n",
       "[425130 rows x 22 columns]"
      ]
     },
     "execution_count": 12,
     "metadata": {},
     "output_type": "execute_result"
    }
   ],
   "source": [
    "folder_path = '../../ultra_sonic_sensor/fully_automate/data_v4.1.1'\n",
    "file_paths = get_all_files_in_directory(folder_path)\n",
    "df_data_v4_1_1 = merge_csv_files(file_paths)\n",
    "df_data_v4_1_1"
   ]
  },
  {
   "cell_type": "markdown",
   "metadata": {},
   "source": [
    "Clean data"
   ]
  },
  {
   "cell_type": "code",
   "execution_count": 13,
   "metadata": {},
   "outputs": [
    {
     "name": "stderr",
     "output_type": "stream",
     "text": [
      "/var/folders/9b/zsztmz7j6v92l4fdx69q5pxh0000gn/T/ipykernel_66684/1472902145.py:8: FutureWarning: A value is trying to be set on a copy of a DataFrame or Series through chained assignment using an inplace method.\n",
      "The behavior will change in pandas 3.0. This inplace method will never work because the intermediate object on which we are setting values always behaves as a copy.\n",
      "\n",
      "For example, when doing 'df[col].method(value, inplace=True)', try using 'df.method({col: value}, inplace=True)' or df[col] = df[col].method(value) instead, to perform the operation inplace on the original object.\n",
      "\n",
      "\n",
      "  df_data_v4_1_1[col].fillna(mode_value, inplace=True)  # Replace NaNs with the mode value\n"
     ]
    }
   ],
   "source": [
    "# Step 1: Identify Columns with NaNs\n",
    "nan_columns = df_data_v4_1_1.columns[df_data_v4_1_1.isnull().any()]\n",
    "\n",
    "# Step 2: Find Mode and Replace NaNs\n",
    "for col in nan_columns:\n",
    "    if df_data_v4_1_1[col].dtype == object:  # Check if the column is categorical\n",
    "        mode_value = df_data_v4_1_1[col].mode()[0]  # Find the mode value (most frequent value)\\\n",
    "        df_data_v4_1_1[col].fillna(mode_value, inplace=True)  # Replace NaNs with the mode value\n",
    "\n",
    "df_data_v4_1_1[\"Color of sensor\"] = df_data_v4_1_1[\"Color of sensor\"].str.lower()"
   ]
  },
  {
   "cell_type": "code",
   "execution_count": 14,
   "metadata": {},
   "outputs": [],
   "source": [
    "values_to_keep = [16800,10000,8000,6000,3000]\n",
    "df_data_v4_1_1 = df_data_v4_1_1[df_data_v4_1_1[\"Delay (us)\"].isin(values_to_keep)]"
   ]
  },
  {
   "cell_type": "markdown",
   "metadata": {},
   "source": [
    "# Add IQR Range_delay (Feature Engineering)"
   ]
  },
  {
   "cell_type": "markdown",
   "metadata": {},
   "source": [
    "Helper codes"
   ]
  },
  {
   "cell_type": "code",
   "execution_count": 15,
   "metadata": {},
   "outputs": [],
   "source": [
    "def identify_and_remove_outliers(df, column):\n",
    "    Q1 = df[column].quantile(0.25)\n",
    "    Q3 = df[column].quantile(0.75)\n",
    "    IQR = Q3 - Q1\n",
    "    lower_bound = Q1 - 1.5 * IQR\n",
    "    upper_bound = Q3 + 1.5 * IQR\n",
    "    df_no_outliers = df[(df[column] >= lower_bound) & (df[column] <= upper_bound)]\n",
    "    df_outliers_lower = df[(df[column] <= lower_bound)]\n",
    "    df_outliers_upper = df[(df[column] >= upper_bound)]\n",
    "    return df_no_outliers,df_outliers_lower,df_outliers_upper\n",
    "\n",
    "def split_quartiles(df):\n",
    "    # Group the data by 'Sensor ID', 'Delay (us)', and 'Range (cm)'\n",
    "    df_copy = df.copy()\n",
    "    grouped = df_copy.groupby(['Sensor ID', 'Delay (us)', 'Range (cm)'])\n",
    "\n",
    "    # Identify and remove outliers for each group\n",
    "    middle_quartile = []\n",
    "    lower_quartile = []\n",
    "    upper_quartile = []\n",
    "\n",
    "    for name, group in grouped:\n",
    "        cleaned_group = group.copy()\n",
    "        for column in ['Ping Time (us)']:\n",
    "            middle_quartile_group,lower_quartile_group,upper_quartile_group = identify_and_remove_outliers(cleaned_group, column)\n",
    "        middle_quartile.append(middle_quartile_group)\n",
    "        lower_quartile.append(lower_quartile_group)\n",
    "        upper_quartile.append(upper_quartile_group)\n",
    "    # Combine the cleaned groups into a single DataFrame\n",
    "    df_middle_quartile= pd.concat(middle_quartile)\n",
    "    df_lower_quartile = pd.concat(lower_quartile)\n",
    "    df_upper_quartile = pd.concat(upper_quartile)\n",
    "    \n",
    "    return df_middle_quartile, df_lower_quartile, df_upper_quartile\n",
    "\n",
    "\n",
    "def create_range_delay_feature(df_quartile,bound):\n",
    "    # Step 1: Group and calculate mean\n",
    "    df_grouped = df_quartile.groupby(['Sensor ID', 'Range (cm)', 'Delay (us)'])['Ping Time (us)'].mean().reset_index()\n",
    "\n",
    "    # Step 2: Create `range_delay` column\n",
    "    df_grouped['range_delay'] = df_grouped['Range (cm)'].astype(str) + '_' + df_grouped['Delay (us)'].astype(str)+'_'+'mean'+'_'+bound\n",
    "\n",
    "    # Step 3: Pivot the table\n",
    "    df_pivot = df_grouped.pivot(index='Sensor ID', columns='range_delay', values='Ping Time (us)').reset_index()\n",
    "    \n",
    "    return df_pivot"
   ]
  },
  {
   "cell_type": "code",
   "execution_count": 16,
   "metadata": {},
   "outputs": [],
   "source": [
    "df_middle_quartile, df_lower_quartile, df_upper_quartile = split_quartiles(df_data_v4_1_1)"
   ]
  },
  {
   "cell_type": "code",
   "execution_count": 17,
   "metadata": {},
   "outputs": [
    {
     "data": {
      "text/html": [
       "<div>\n",
       "<style scoped>\n",
       "    .dataframe tbody tr th:only-of-type {\n",
       "        vertical-align: middle;\n",
       "    }\n",
       "\n",
       "    .dataframe tbody tr th {\n",
       "        vertical-align: top;\n",
       "    }\n",
       "\n",
       "    .dataframe thead th {\n",
       "        text-align: right;\n",
       "    }\n",
       "</style>\n",
       "<table border=\"1\" class=\"dataframe\">\n",
       "  <thead>\n",
       "    <tr style=\"text-align: right;\">\n",
       "      <th></th>\n",
       "      <th>Range (cm)</th>\n",
       "      <th>Delay (us)</th>\n",
       "      <th>Ping Time (us)</th>\n",
       "    </tr>\n",
       "    <tr>\n",
       "      <th>Sensor ID</th>\n",
       "      <th></th>\n",
       "      <th></th>\n",
       "      <th></th>\n",
       "    </tr>\n",
       "  </thead>\n",
       "  <tbody>\n",
       "    <tr>\n",
       "      <th>1</th>\n",
       "      <td>13</td>\n",
       "      <td>3000</td>\n",
       "      <td>827.00</td>\n",
       "    </tr>\n",
       "    <tr>\n",
       "      <th>1</th>\n",
       "      <td>13</td>\n",
       "      <td>6000</td>\n",
       "      <td>827.00</td>\n",
       "    </tr>\n",
       "    <tr>\n",
       "      <th>1</th>\n",
       "      <td>13</td>\n",
       "      <td>8000</td>\n",
       "      <td>827.00</td>\n",
       "    </tr>\n",
       "    <tr>\n",
       "      <th>1</th>\n",
       "      <td>13</td>\n",
       "      <td>10000</td>\n",
       "      <td>827.00</td>\n",
       "    </tr>\n",
       "    <tr>\n",
       "      <th>1</th>\n",
       "      <td>13</td>\n",
       "      <td>16800</td>\n",
       "      <td>827.00</td>\n",
       "    </tr>\n",
       "    <tr>\n",
       "      <th>...</th>\n",
       "      <td>...</td>\n",
       "      <td>...</td>\n",
       "      <td>...</td>\n",
       "    </tr>\n",
       "    <tr>\n",
       "      <th>170</th>\n",
       "      <td>53</td>\n",
       "      <td>3000</td>\n",
       "      <td>3009.00</td>\n",
       "    </tr>\n",
       "    <tr>\n",
       "      <th>170</th>\n",
       "      <td>53</td>\n",
       "      <td>6000</td>\n",
       "      <td>3002.84</td>\n",
       "    </tr>\n",
       "    <tr>\n",
       "      <th>170</th>\n",
       "      <td>53</td>\n",
       "      <td>8000</td>\n",
       "      <td>2992.70</td>\n",
       "    </tr>\n",
       "    <tr>\n",
       "      <th>170</th>\n",
       "      <td>53</td>\n",
       "      <td>10000</td>\n",
       "      <td>3002.36</td>\n",
       "    </tr>\n",
       "    <tr>\n",
       "      <th>170</th>\n",
       "      <td>53</td>\n",
       "      <td>16800</td>\n",
       "      <td>3001.88</td>\n",
       "    </tr>\n",
       "  </tbody>\n",
       "</table>\n",
       "<p>7605 rows × 3 columns</p>\n",
       "</div>"
      ],
      "text/plain": [
       "           Range (cm)  Delay (us)  Ping Time (us)\n",
       "Sensor ID                                        \n",
       "1                  13        3000          827.00\n",
       "1                  13        6000          827.00\n",
       "1                  13        8000          827.00\n",
       "1                  13       10000          827.00\n",
       "1                  13       16800          827.00\n",
       "...               ...         ...             ...\n",
       "170                53        3000         3009.00\n",
       "170                53        6000         3002.84\n",
       "170                53        8000         2992.70\n",
       "170                53       10000         3002.36\n",
       "170                53       16800         3001.88\n",
       "\n",
       "[7605 rows x 3 columns]"
      ]
     },
     "execution_count": 17,
     "metadata": {},
     "output_type": "execute_result"
    }
   ],
   "source": [
    "df_middle_quartile.groupby(['Sensor ID','Range (cm)', 'Delay (us)'])['Ping Time (us)'].mean().reset_index([\"Delay (us)\",\"Range (cm)\"])"
   ]
  },
  {
   "cell_type": "code",
   "execution_count": 18,
   "metadata": {},
   "outputs": [
    {
     "data": {
      "text/html": [
       "<div>\n",
       "<style scoped>\n",
       "    .dataframe tbody tr th:only-of-type {\n",
       "        vertical-align: middle;\n",
       "    }\n",
       "\n",
       "    .dataframe tbody tr th {\n",
       "        vertical-align: top;\n",
       "    }\n",
       "\n",
       "    .dataframe thead th {\n",
       "        text-align: right;\n",
       "    }\n",
       "</style>\n",
       "<table border=\"1\" class=\"dataframe\">\n",
       "  <thead>\n",
       "    <tr style=\"text-align: right;\">\n",
       "      <th>range_delay</th>\n",
       "      <th>Sensor ID</th>\n",
       "      <th>13_10000_mean_middle</th>\n",
       "      <th>13_16800_mean_middle</th>\n",
       "      <th>13_3000_mean_middle</th>\n",
       "      <th>13_6000_mean_middle</th>\n",
       "      <th>13_8000_mean_middle</th>\n",
       "      <th>18_10000_mean_middle</th>\n",
       "      <th>18_16800_mean_middle</th>\n",
       "      <th>18_3000_mean_middle</th>\n",
       "      <th>18_6000_mean_middle</th>\n",
       "      <th>...</th>\n",
       "      <th>48_10000_mean_middle</th>\n",
       "      <th>48_16800_mean_middle</th>\n",
       "      <th>48_3000_mean_middle</th>\n",
       "      <th>48_6000_mean_middle</th>\n",
       "      <th>48_8000_mean_middle</th>\n",
       "      <th>53_10000_mean_middle</th>\n",
       "      <th>53_16800_mean_middle</th>\n",
       "      <th>53_3000_mean_middle</th>\n",
       "      <th>53_6000_mean_middle</th>\n",
       "      <th>53_8000_mean_middle</th>\n",
       "    </tr>\n",
       "  </thead>\n",
       "  <tbody>\n",
       "    <tr>\n",
       "      <th>0</th>\n",
       "      <td>1</td>\n",
       "      <td>827.000000</td>\n",
       "      <td>827.000000</td>\n",
       "      <td>827.000000</td>\n",
       "      <td>827.000000</td>\n",
       "      <td>827.000000</td>\n",
       "      <td>1071.000000</td>\n",
       "      <td>1069.285714</td>\n",
       "      <td>1069.240000</td>\n",
       "      <td>1069.400000</td>\n",
       "      <td>...</td>\n",
       "      <td>2736.333333</td>\n",
       "      <td>2737.000000</td>\n",
       "      <td>2736.909091</td>\n",
       "      <td>2737.083333</td>\n",
       "      <td>2737.382979</td>\n",
       "      <td>2995.000000</td>\n",
       "      <td>3006.500000</td>\n",
       "      <td>2995.000000</td>\n",
       "      <td>2995.205128</td>\n",
       "      <td>2995.000000</td>\n",
       "    </tr>\n",
       "    <tr>\n",
       "      <th>1</th>\n",
       "      <td>2</td>\n",
       "      <td>679.640000</td>\n",
       "      <td>679.000000</td>\n",
       "      <td>679.000000</td>\n",
       "      <td>679.000000</td>\n",
       "      <td>679.000000</td>\n",
       "      <td>943.000000</td>\n",
       "      <td>954.200000</td>\n",
       "      <td>967.260870</td>\n",
       "      <td>954.520000</td>\n",
       "      <td>...</td>\n",
       "      <td>2667.000000</td>\n",
       "      <td>2679.320000</td>\n",
       "      <td>2674.520000</td>\n",
       "      <td>2674.520000</td>\n",
       "      <td>2667.000000</td>\n",
       "      <td>2972.360000</td>\n",
       "      <td>1855.878049</td>\n",
       "      <td>2945.800000</td>\n",
       "      <td>2951.000000</td>\n",
       "      <td>1891.240000</td>\n",
       "    </tr>\n",
       "    <tr>\n",
       "      <th>2</th>\n",
       "      <td>3</td>\n",
       "      <td>717.880000</td>\n",
       "      <td>717.727273</td>\n",
       "      <td>718.040000</td>\n",
       "      <td>717.240000</td>\n",
       "      <td>718.040000</td>\n",
       "      <td>1029.933333</td>\n",
       "      <td>1020.920000</td>\n",
       "      <td>1007.000000</td>\n",
       "      <td>1005.960000</td>\n",
       "      <td>...</td>\n",
       "      <td>2709.560000</td>\n",
       "      <td>2721.480000</td>\n",
       "      <td>2717.200000</td>\n",
       "      <td>2717.900000</td>\n",
       "      <td>2716.714286</td>\n",
       "      <td>2996.120000</td>\n",
       "      <td>2992.840000</td>\n",
       "      <td>2995.400000</td>\n",
       "      <td>3000.440000</td>\n",
       "      <td>2997.320000</td>\n",
       "    </tr>\n",
       "    <tr>\n",
       "      <th>3</th>\n",
       "      <td>4</td>\n",
       "      <td>737.080000</td>\n",
       "      <td>736.840000</td>\n",
       "      <td>737.160000</td>\n",
       "      <td>736.920000</td>\n",
       "      <td>736.680000</td>\n",
       "      <td>1030.351351</td>\n",
       "      <td>1031.000000</td>\n",
       "      <td>1028.840000</td>\n",
       "      <td>1087.000000</td>\n",
       "      <td>...</td>\n",
       "      <td>2754.040000</td>\n",
       "      <td>2753.800000</td>\n",
       "      <td>2754.120000</td>\n",
       "      <td>2755.000000</td>\n",
       "      <td>2754.200000</td>\n",
       "      <td>2999.000000</td>\n",
       "      <td>2999.608696</td>\n",
       "      <td>2999.000000</td>\n",
       "      <td>2999.000000</td>\n",
       "      <td>2999.000000</td>\n",
       "    </tr>\n",
       "    <tr>\n",
       "      <th>4</th>\n",
       "      <td>5</td>\n",
       "      <td>743.000000</td>\n",
       "      <td>742.894737</td>\n",
       "      <td>741.880000</td>\n",
       "      <td>743.000000</td>\n",
       "      <td>743.000000</td>\n",
       "      <td>1046.102041</td>\n",
       "      <td>1045.697674</td>\n",
       "      <td>1047.244898</td>\n",
       "      <td>1046.288889</td>\n",
       "      <td>...</td>\n",
       "      <td>2732.520000</td>\n",
       "      <td>2732.181818</td>\n",
       "      <td>2732.600000</td>\n",
       "      <td>2732.520000</td>\n",
       "      <td>2732.600000</td>\n",
       "      <td>3073.612245</td>\n",
       "      <td>3058.440000</td>\n",
       "      <td>3045.468085</td>\n",
       "      <td>3034.760000</td>\n",
       "      <td>2110.760000</td>\n",
       "    </tr>\n",
       "    <tr>\n",
       "      <th>...</th>\n",
       "      <td>...</td>\n",
       "      <td>...</td>\n",
       "      <td>...</td>\n",
       "      <td>...</td>\n",
       "      <td>...</td>\n",
       "      <td>...</td>\n",
       "      <td>...</td>\n",
       "      <td>...</td>\n",
       "      <td>...</td>\n",
       "      <td>...</td>\n",
       "      <td>...</td>\n",
       "      <td>...</td>\n",
       "      <td>...</td>\n",
       "      <td>...</td>\n",
       "      <td>...</td>\n",
       "      <td>...</td>\n",
       "      <td>...</td>\n",
       "      <td>...</td>\n",
       "      <td>...</td>\n",
       "      <td>...</td>\n",
       "      <td>...</td>\n",
       "    </tr>\n",
       "    <tr>\n",
       "      <th>164</th>\n",
       "      <td>166</td>\n",
       "      <td>704.853659</td>\n",
       "      <td>729.761905</td>\n",
       "      <td>710.680000</td>\n",
       "      <td>728.809524</td>\n",
       "      <td>728.368421</td>\n",
       "      <td>1019.720000</td>\n",
       "      <td>429.122449</td>\n",
       "      <td>1019.880000</td>\n",
       "      <td>1020.520000</td>\n",
       "      <td>...</td>\n",
       "      <td>2709.880000</td>\n",
       "      <td>2700.120000</td>\n",
       "      <td>2700.200000</td>\n",
       "      <td>2701.640000</td>\n",
       "      <td>2701.960000</td>\n",
       "      <td>3001.240000</td>\n",
       "      <td>3005.880000</td>\n",
       "      <td>3005.480000</td>\n",
       "      <td>2996.280000</td>\n",
       "      <td>2998.920000</td>\n",
       "    </tr>\n",
       "    <tr>\n",
       "      <th>165</th>\n",
       "      <td>167</td>\n",
       "      <td>712.040000</td>\n",
       "      <td>19786.660000</td>\n",
       "      <td>716.600000</td>\n",
       "      <td>703.727273</td>\n",
       "      <td>704.306122</td>\n",
       "      <td>1020.200000</td>\n",
       "      <td>1021.051282</td>\n",
       "      <td>1020.840000</td>\n",
       "      <td>1021.080000</td>\n",
       "      <td>...</td>\n",
       "      <td>2701.400000</td>\n",
       "      <td>2689.916667</td>\n",
       "      <td>2703.400000</td>\n",
       "      <td>2706.120000</td>\n",
       "      <td>2694.512195</td>\n",
       "      <td>2993.240000</td>\n",
       "      <td>2992.520000</td>\n",
       "      <td>2983.324324</td>\n",
       "      <td>2993.880000</td>\n",
       "      <td>2992.120000</td>\n",
       "    </tr>\n",
       "    <tr>\n",
       "      <th>166</th>\n",
       "      <td>168</td>\n",
       "      <td>726.120000</td>\n",
       "      <td>742.440000</td>\n",
       "      <td>725.285714</td>\n",
       "      <td>726.200000</td>\n",
       "      <td>725.720000</td>\n",
       "      <td>1011.583333</td>\n",
       "      <td>1010.314286</td>\n",
       "      <td>1010.600000</td>\n",
       "      <td>1011.320000</td>\n",
       "      <td>...</td>\n",
       "      <td>2724.600000</td>\n",
       "      <td>2730.040000</td>\n",
       "      <td>2716.702128</td>\n",
       "      <td>2716.636364</td>\n",
       "      <td>2725.000000</td>\n",
       "      <td>3006.673469</td>\n",
       "      <td>2994.360000</td>\n",
       "      <td>2997.160000</td>\n",
       "      <td>3005.720000</td>\n",
       "      <td>3007.260870</td>\n",
       "    </tr>\n",
       "    <tr>\n",
       "      <th>167</th>\n",
       "      <td>169</td>\n",
       "      <td>759.000000</td>\n",
       "      <td>751.240000</td>\n",
       "      <td>760.916667</td>\n",
       "      <td>759.000000</td>\n",
       "      <td>759.000000</td>\n",
       "      <td>1049.842105</td>\n",
       "      <td>1037.880000</td>\n",
       "      <td>1050.102041</td>\n",
       "      <td>1041.880000</td>\n",
       "      <td>...</td>\n",
       "      <td>2730.360000</td>\n",
       "      <td>2719.933333</td>\n",
       "      <td>2721.080000</td>\n",
       "      <td>2731.080000</td>\n",
       "      <td>2729.480000</td>\n",
       "      <td>3015.380952</td>\n",
       "      <td>3022.120000</td>\n",
       "      <td>3005.880000</td>\n",
       "      <td>3015.631579</td>\n",
       "      <td>3016.302326</td>\n",
       "    </tr>\n",
       "    <tr>\n",
       "      <th>168</th>\n",
       "      <td>170</td>\n",
       "      <td>733.480000</td>\n",
       "      <td>733.833333</td>\n",
       "      <td>733.400000</td>\n",
       "      <td>733.560000</td>\n",
       "      <td>733.880000</td>\n",
       "      <td>1031.400000</td>\n",
       "      <td>1040.280000</td>\n",
       "      <td>1039.640000</td>\n",
       "      <td>1036.040000</td>\n",
       "      <td>...</td>\n",
       "      <td>2723.200000</td>\n",
       "      <td>2723.965517</td>\n",
       "      <td>2710.760000</td>\n",
       "      <td>2726.589744</td>\n",
       "      <td>2716.120000</td>\n",
       "      <td>3002.360000</td>\n",
       "      <td>3001.880000</td>\n",
       "      <td>3009.000000</td>\n",
       "      <td>3002.840000</td>\n",
       "      <td>2992.700000</td>\n",
       "    </tr>\n",
       "  </tbody>\n",
       "</table>\n",
       "<p>169 rows × 46 columns</p>\n",
       "</div>"
      ],
      "text/plain": [
       "range_delay  Sensor ID  13_10000_mean_middle  13_16800_mean_middle  \\\n",
       "0                    1            827.000000            827.000000   \n",
       "1                    2            679.640000            679.000000   \n",
       "2                    3            717.880000            717.727273   \n",
       "3                    4            737.080000            736.840000   \n",
       "4                    5            743.000000            742.894737   \n",
       "..                 ...                   ...                   ...   \n",
       "164                166            704.853659            729.761905   \n",
       "165                167            712.040000          19786.660000   \n",
       "166                168            726.120000            742.440000   \n",
       "167                169            759.000000            751.240000   \n",
       "168                170            733.480000            733.833333   \n",
       "\n",
       "range_delay  13_3000_mean_middle  13_6000_mean_middle  13_8000_mean_middle  \\\n",
       "0                     827.000000           827.000000           827.000000   \n",
       "1                     679.000000           679.000000           679.000000   \n",
       "2                     718.040000           717.240000           718.040000   \n",
       "3                     737.160000           736.920000           736.680000   \n",
       "4                     741.880000           743.000000           743.000000   \n",
       "..                           ...                  ...                  ...   \n",
       "164                   710.680000           728.809524           728.368421   \n",
       "165                   716.600000           703.727273           704.306122   \n",
       "166                   725.285714           726.200000           725.720000   \n",
       "167                   760.916667           759.000000           759.000000   \n",
       "168                   733.400000           733.560000           733.880000   \n",
       "\n",
       "range_delay  18_10000_mean_middle  18_16800_mean_middle  18_3000_mean_middle  \\\n",
       "0                     1071.000000           1069.285714          1069.240000   \n",
       "1                      943.000000            954.200000           967.260870   \n",
       "2                     1029.933333           1020.920000          1007.000000   \n",
       "3                     1030.351351           1031.000000          1028.840000   \n",
       "4                     1046.102041           1045.697674          1047.244898   \n",
       "..                            ...                   ...                  ...   \n",
       "164                   1019.720000            429.122449          1019.880000   \n",
       "165                   1020.200000           1021.051282          1020.840000   \n",
       "166                   1011.583333           1010.314286          1010.600000   \n",
       "167                   1049.842105           1037.880000          1050.102041   \n",
       "168                   1031.400000           1040.280000          1039.640000   \n",
       "\n",
       "range_delay  18_6000_mean_middle  ...  48_10000_mean_middle  \\\n",
       "0                    1069.400000  ...           2736.333333   \n",
       "1                     954.520000  ...           2667.000000   \n",
       "2                    1005.960000  ...           2709.560000   \n",
       "3                    1087.000000  ...           2754.040000   \n",
       "4                    1046.288889  ...           2732.520000   \n",
       "..                           ...  ...                   ...   \n",
       "164                  1020.520000  ...           2709.880000   \n",
       "165                  1021.080000  ...           2701.400000   \n",
       "166                  1011.320000  ...           2724.600000   \n",
       "167                  1041.880000  ...           2730.360000   \n",
       "168                  1036.040000  ...           2723.200000   \n",
       "\n",
       "range_delay  48_16800_mean_middle  48_3000_mean_middle  48_6000_mean_middle  \\\n",
       "0                     2737.000000          2736.909091          2737.083333   \n",
       "1                     2679.320000          2674.520000          2674.520000   \n",
       "2                     2721.480000          2717.200000          2717.900000   \n",
       "3                     2753.800000          2754.120000          2755.000000   \n",
       "4                     2732.181818          2732.600000          2732.520000   \n",
       "..                            ...                  ...                  ...   \n",
       "164                   2700.120000          2700.200000          2701.640000   \n",
       "165                   2689.916667          2703.400000          2706.120000   \n",
       "166                   2730.040000          2716.702128          2716.636364   \n",
       "167                   2719.933333          2721.080000          2731.080000   \n",
       "168                   2723.965517          2710.760000          2726.589744   \n",
       "\n",
       "range_delay  48_8000_mean_middle  53_10000_mean_middle  53_16800_mean_middle  \\\n",
       "0                    2737.382979           2995.000000           3006.500000   \n",
       "1                    2667.000000           2972.360000           1855.878049   \n",
       "2                    2716.714286           2996.120000           2992.840000   \n",
       "3                    2754.200000           2999.000000           2999.608696   \n",
       "4                    2732.600000           3073.612245           3058.440000   \n",
       "..                           ...                   ...                   ...   \n",
       "164                  2701.960000           3001.240000           3005.880000   \n",
       "165                  2694.512195           2993.240000           2992.520000   \n",
       "166                  2725.000000           3006.673469           2994.360000   \n",
       "167                  2729.480000           3015.380952           3022.120000   \n",
       "168                  2716.120000           3002.360000           3001.880000   \n",
       "\n",
       "range_delay  53_3000_mean_middle  53_6000_mean_middle  53_8000_mean_middle  \n",
       "0                    2995.000000          2995.205128          2995.000000  \n",
       "1                    2945.800000          2951.000000          1891.240000  \n",
       "2                    2995.400000          3000.440000          2997.320000  \n",
       "3                    2999.000000          2999.000000          2999.000000  \n",
       "4                    3045.468085          3034.760000          2110.760000  \n",
       "..                           ...                  ...                  ...  \n",
       "164                  3005.480000          2996.280000          2998.920000  \n",
       "165                  2983.324324          2993.880000          2992.120000  \n",
       "166                  2997.160000          3005.720000          3007.260870  \n",
       "167                  3005.880000          3015.631579          3016.302326  \n",
       "168                  3009.000000          3002.840000          2992.700000  \n",
       "\n",
       "[169 rows x 46 columns]"
      ]
     },
     "execution_count": 18,
     "metadata": {},
     "output_type": "execute_result"
    }
   ],
   "source": [
    "create_range_delay_feature(df_middle_quartile,\"middle\")"
   ]
  },
  {
   "cell_type": "code",
   "execution_count": 19,
   "metadata": {},
   "outputs": [],
   "source": [
    "def feature_engineering_quartile_means(df):\n",
    "    df_middle_quartile, df_lower_quartile, df_upper_quartile = split_quartiles(df)\n",
    "    df_range_delay_middle = create_range_delay_feature(df_middle_quartile,\"middle\")\n",
    "    df_range_delay_lower = create_range_delay_feature(df_lower_quartile,\"lower\")\n",
    "    df_range_delay_upper = create_range_delay_feature(df_upper_quartile,\"upper\")\n",
    "\n",
    "    # List of DataFrames\n",
    "    df_pivots = [df_range_delay_middle, df_range_delay_lower, df_range_delay_upper]\n",
    "\n",
    "    # Initialize the merged DataFrame with the first DataFrame in the list\n",
    "    df_range_delay_all = df_pivots[0]\n",
    "\n",
    "    # Iteratively merge each DataFrame in the list\n",
    "    for df in df_pivots[1:]:\n",
    "        df_range_delay_all = df_range_delay_all.merge(df, on='Sensor ID')\n",
    "        \n",
    "    # Replace all NaN values with 0 in the merged DataFrame\n",
    "    df_range_delay_all.fillna(0, inplace=True)\n",
    "\n",
    "    return df_range_delay_all, df_range_delay_middle, df_range_delay_lower,df_range_delay_upper\n",
    "    \n",
    "\n",
    "df_range_delay_all,df_range_delay_middle, df_range_delay_lower,df_range_delay_upper = feature_engineering_quartile_means(df_data_v4_1_1)\n"
   ]
  },
  {
   "cell_type": "markdown",
   "metadata": {},
   "source": [
    "The product is following now we will be conducting PCA method to reduce dimensionality"
   ]
  },
  {
   "cell_type": "code",
   "execution_count": 20,
   "metadata": {},
   "outputs": [
    {
     "data": {
      "text/html": [
       "<div>\n",
       "<style scoped>\n",
       "    .dataframe tbody tr th:only-of-type {\n",
       "        vertical-align: middle;\n",
       "    }\n",
       "\n",
       "    .dataframe tbody tr th {\n",
       "        vertical-align: top;\n",
       "    }\n",
       "\n",
       "    .dataframe thead th {\n",
       "        text-align: right;\n",
       "    }\n",
       "</style>\n",
       "<table border=\"1\" class=\"dataframe\">\n",
       "  <thead>\n",
       "    <tr style=\"text-align: right;\">\n",
       "      <th>range_delay</th>\n",
       "      <th>Sensor ID</th>\n",
       "      <th>13_10000_mean_middle</th>\n",
       "      <th>13_16800_mean_middle</th>\n",
       "      <th>13_3000_mean_middle</th>\n",
       "      <th>13_6000_mean_middle</th>\n",
       "      <th>13_8000_mean_middle</th>\n",
       "      <th>18_10000_mean_middle</th>\n",
       "      <th>18_16800_mean_middle</th>\n",
       "      <th>18_3000_mean_middle</th>\n",
       "      <th>18_6000_mean_middle</th>\n",
       "      <th>...</th>\n",
       "      <th>48_10000_mean_upper</th>\n",
       "      <th>48_16800_mean_upper</th>\n",
       "      <th>48_3000_mean_upper</th>\n",
       "      <th>48_6000_mean_upper</th>\n",
       "      <th>48_8000_mean_upper</th>\n",
       "      <th>53_10000_mean_upper</th>\n",
       "      <th>53_16800_mean_upper</th>\n",
       "      <th>53_3000_mean_upper</th>\n",
       "      <th>53_6000_mean_upper</th>\n",
       "      <th>53_8000_mean_upper</th>\n",
       "    </tr>\n",
       "  </thead>\n",
       "  <tbody>\n",
       "    <tr>\n",
       "      <th>0</th>\n",
       "      <td>1</td>\n",
       "      <td>827.000000</td>\n",
       "      <td>827.000000</td>\n",
       "      <td>827.000000</td>\n",
       "      <td>827.000000</td>\n",
       "      <td>827.000000</td>\n",
       "      <td>1071.000000</td>\n",
       "      <td>1069.285714</td>\n",
       "      <td>1069.240000</td>\n",
       "      <td>1069.400000</td>\n",
       "      <td>...</td>\n",
       "      <td>2795.000000</td>\n",
       "      <td>0.000000</td>\n",
       "      <td>2809.400000</td>\n",
       "      <td>2803.000000</td>\n",
       "      <td>2800.333333</td>\n",
       "      <td>2995.545455</td>\n",
       "      <td>0.0</td>\n",
       "      <td>2995.444444</td>\n",
       "      <td>3039.727273</td>\n",
       "      <td>3004.043478</td>\n",
       "    </tr>\n",
       "    <tr>\n",
       "      <th>1</th>\n",
       "      <td>2</td>\n",
       "      <td>679.640000</td>\n",
       "      <td>679.000000</td>\n",
       "      <td>679.000000</td>\n",
       "      <td>679.000000</td>\n",
       "      <td>679.000000</td>\n",
       "      <td>943.000000</td>\n",
       "      <td>954.200000</td>\n",
       "      <td>967.260870</td>\n",
       "      <td>954.520000</td>\n",
       "      <td>...</td>\n",
       "      <td>2669.521739</td>\n",
       "      <td>0.000000</td>\n",
       "      <td>0.000000</td>\n",
       "      <td>0.000000</td>\n",
       "      <td>2691.000000</td>\n",
       "      <td>0.000000</td>\n",
       "      <td>2371.0</td>\n",
       "      <td>0.000000</td>\n",
       "      <td>2951.744186</td>\n",
       "      <td>0.000000</td>\n",
       "    </tr>\n",
       "    <tr>\n",
       "      <th>2</th>\n",
       "      <td>3</td>\n",
       "      <td>717.880000</td>\n",
       "      <td>717.727273</td>\n",
       "      <td>718.040000</td>\n",
       "      <td>717.240000</td>\n",
       "      <td>718.040000</td>\n",
       "      <td>1029.933333</td>\n",
       "      <td>1020.920000</td>\n",
       "      <td>1007.000000</td>\n",
       "      <td>1005.960000</td>\n",
       "      <td>...</td>\n",
       "      <td>0.000000</td>\n",
       "      <td>0.000000</td>\n",
       "      <td>2743.000000</td>\n",
       "      <td>2727.000000</td>\n",
       "      <td>0.000000</td>\n",
       "      <td>0.000000</td>\n",
       "      <td>0.0</td>\n",
       "      <td>0.000000</td>\n",
       "      <td>0.000000</td>\n",
       "      <td>0.000000</td>\n",
       "    </tr>\n",
       "    <tr>\n",
       "      <th>3</th>\n",
       "      <td>4</td>\n",
       "      <td>737.080000</td>\n",
       "      <td>736.840000</td>\n",
       "      <td>737.160000</td>\n",
       "      <td>736.920000</td>\n",
       "      <td>736.680000</td>\n",
       "      <td>1030.351351</td>\n",
       "      <td>1031.000000</td>\n",
       "      <td>1028.840000</td>\n",
       "      <td>1087.000000</td>\n",
       "      <td>...</td>\n",
       "      <td>0.000000</td>\n",
       "      <td>0.000000</td>\n",
       "      <td>0.000000</td>\n",
       "      <td>2755.195122</td>\n",
       "      <td>0.000000</td>\n",
       "      <td>3000.000000</td>\n",
       "      <td>3019.0</td>\n",
       "      <td>3000.116279</td>\n",
       "      <td>2999.930233</td>\n",
       "      <td>3000.116279</td>\n",
       "    </tr>\n",
       "    <tr>\n",
       "      <th>4</th>\n",
       "      <td>5</td>\n",
       "      <td>743.000000</td>\n",
       "      <td>742.894737</td>\n",
       "      <td>741.880000</td>\n",
       "      <td>743.000000</td>\n",
       "      <td>743.000000</td>\n",
       "      <td>1046.102041</td>\n",
       "      <td>1045.697674</td>\n",
       "      <td>1047.244898</td>\n",
       "      <td>1046.288889</td>\n",
       "      <td>...</td>\n",
       "      <td>0.000000</td>\n",
       "      <td>2755.000000</td>\n",
       "      <td>0.000000</td>\n",
       "      <td>0.000000</td>\n",
       "      <td>0.000000</td>\n",
       "      <td>0.000000</td>\n",
       "      <td>0.0</td>\n",
       "      <td>0.000000</td>\n",
       "      <td>0.000000</td>\n",
       "      <td>0.000000</td>\n",
       "    </tr>\n",
       "    <tr>\n",
       "      <th>...</th>\n",
       "      <td>...</td>\n",
       "      <td>...</td>\n",
       "      <td>...</td>\n",
       "      <td>...</td>\n",
       "      <td>...</td>\n",
       "      <td>...</td>\n",
       "      <td>...</td>\n",
       "      <td>...</td>\n",
       "      <td>...</td>\n",
       "      <td>...</td>\n",
       "      <td>...</td>\n",
       "      <td>...</td>\n",
       "      <td>...</td>\n",
       "      <td>...</td>\n",
       "      <td>...</td>\n",
       "      <td>...</td>\n",
       "      <td>...</td>\n",
       "      <td>...</td>\n",
       "      <td>...</td>\n",
       "      <td>...</td>\n",
       "      <td>...</td>\n",
       "    </tr>\n",
       "    <tr>\n",
       "      <th>164</th>\n",
       "      <td>166</td>\n",
       "      <td>704.853659</td>\n",
       "      <td>729.761905</td>\n",
       "      <td>710.680000</td>\n",
       "      <td>728.809524</td>\n",
       "      <td>728.368421</td>\n",
       "      <td>1019.720000</td>\n",
       "      <td>429.122449</td>\n",
       "      <td>1019.880000</td>\n",
       "      <td>1020.520000</td>\n",
       "      <td>...</td>\n",
       "      <td>0.000000</td>\n",
       "      <td>0.000000</td>\n",
       "      <td>0.000000</td>\n",
       "      <td>0.000000</td>\n",
       "      <td>0.000000</td>\n",
       "      <td>0.000000</td>\n",
       "      <td>0.0</td>\n",
       "      <td>0.000000</td>\n",
       "      <td>0.000000</td>\n",
       "      <td>0.000000</td>\n",
       "    </tr>\n",
       "    <tr>\n",
       "      <th>165</th>\n",
       "      <td>167</td>\n",
       "      <td>712.040000</td>\n",
       "      <td>19786.660000</td>\n",
       "      <td>716.600000</td>\n",
       "      <td>703.727273</td>\n",
       "      <td>704.306122</td>\n",
       "      <td>1020.200000</td>\n",
       "      <td>1021.051282</td>\n",
       "      <td>1020.840000</td>\n",
       "      <td>1021.080000</td>\n",
       "      <td>...</td>\n",
       "      <td>0.000000</td>\n",
       "      <td>2741.000000</td>\n",
       "      <td>0.000000</td>\n",
       "      <td>0.000000</td>\n",
       "      <td>2718.111111</td>\n",
       "      <td>0.000000</td>\n",
       "      <td>0.0</td>\n",
       "      <td>3009.000000</td>\n",
       "      <td>0.000000</td>\n",
       "      <td>0.000000</td>\n",
       "    </tr>\n",
       "    <tr>\n",
       "      <th>166</th>\n",
       "      <td>168</td>\n",
       "      <td>726.120000</td>\n",
       "      <td>742.440000</td>\n",
       "      <td>725.285714</td>\n",
       "      <td>726.200000</td>\n",
       "      <td>725.720000</td>\n",
       "      <td>1011.583333</td>\n",
       "      <td>1010.314286</td>\n",
       "      <td>1010.600000</td>\n",
       "      <td>1011.320000</td>\n",
       "      <td>...</td>\n",
       "      <td>0.000000</td>\n",
       "      <td>0.000000</td>\n",
       "      <td>2740.333333</td>\n",
       "      <td>2741.666667</td>\n",
       "      <td>0.000000</td>\n",
       "      <td>3031.000000</td>\n",
       "      <td>0.0</td>\n",
       "      <td>0.000000</td>\n",
       "      <td>0.000000</td>\n",
       "      <td>3031.000000</td>\n",
       "    </tr>\n",
       "    <tr>\n",
       "      <th>167</th>\n",
       "      <td>169</td>\n",
       "      <td>759.000000</td>\n",
       "      <td>751.240000</td>\n",
       "      <td>760.916667</td>\n",
       "      <td>759.000000</td>\n",
       "      <td>759.000000</td>\n",
       "      <td>1049.842105</td>\n",
       "      <td>1037.880000</td>\n",
       "      <td>1050.102041</td>\n",
       "      <td>1041.880000</td>\n",
       "      <td>...</td>\n",
       "      <td>0.000000</td>\n",
       "      <td>2744.818182</td>\n",
       "      <td>0.000000</td>\n",
       "      <td>0.000000</td>\n",
       "      <td>0.000000</td>\n",
       "      <td>3041.000000</td>\n",
       "      <td>0.0</td>\n",
       "      <td>0.000000</td>\n",
       "      <td>3040.500000</td>\n",
       "      <td>3040.714286</td>\n",
       "    </tr>\n",
       "    <tr>\n",
       "      <th>168</th>\n",
       "      <td>170</td>\n",
       "      <td>733.480000</td>\n",
       "      <td>733.833333</td>\n",
       "      <td>733.400000</td>\n",
       "      <td>733.560000</td>\n",
       "      <td>733.880000</td>\n",
       "      <td>1031.400000</td>\n",
       "      <td>1040.280000</td>\n",
       "      <td>1039.640000</td>\n",
       "      <td>1036.040000</td>\n",
       "      <td>...</td>\n",
       "      <td>0.000000</td>\n",
       "      <td>2747.000000</td>\n",
       "      <td>0.000000</td>\n",
       "      <td>0.000000</td>\n",
       "      <td>0.000000</td>\n",
       "      <td>0.000000</td>\n",
       "      <td>0.0</td>\n",
       "      <td>0.000000</td>\n",
       "      <td>0.000000</td>\n",
       "      <td>3016.200000</td>\n",
       "    </tr>\n",
       "  </tbody>\n",
       "</table>\n",
       "<p>169 rows × 136 columns</p>\n",
       "</div>"
      ],
      "text/plain": [
       "range_delay  Sensor ID  13_10000_mean_middle  13_16800_mean_middle  \\\n",
       "0                    1            827.000000            827.000000   \n",
       "1                    2            679.640000            679.000000   \n",
       "2                    3            717.880000            717.727273   \n",
       "3                    4            737.080000            736.840000   \n",
       "4                    5            743.000000            742.894737   \n",
       "..                 ...                   ...                   ...   \n",
       "164                166            704.853659            729.761905   \n",
       "165                167            712.040000          19786.660000   \n",
       "166                168            726.120000            742.440000   \n",
       "167                169            759.000000            751.240000   \n",
       "168                170            733.480000            733.833333   \n",
       "\n",
       "range_delay  13_3000_mean_middle  13_6000_mean_middle  13_8000_mean_middle  \\\n",
       "0                     827.000000           827.000000           827.000000   \n",
       "1                     679.000000           679.000000           679.000000   \n",
       "2                     718.040000           717.240000           718.040000   \n",
       "3                     737.160000           736.920000           736.680000   \n",
       "4                     741.880000           743.000000           743.000000   \n",
       "..                           ...                  ...                  ...   \n",
       "164                   710.680000           728.809524           728.368421   \n",
       "165                   716.600000           703.727273           704.306122   \n",
       "166                   725.285714           726.200000           725.720000   \n",
       "167                   760.916667           759.000000           759.000000   \n",
       "168                   733.400000           733.560000           733.880000   \n",
       "\n",
       "range_delay  18_10000_mean_middle  18_16800_mean_middle  18_3000_mean_middle  \\\n",
       "0                     1071.000000           1069.285714          1069.240000   \n",
       "1                      943.000000            954.200000           967.260870   \n",
       "2                     1029.933333           1020.920000          1007.000000   \n",
       "3                     1030.351351           1031.000000          1028.840000   \n",
       "4                     1046.102041           1045.697674          1047.244898   \n",
       "..                            ...                   ...                  ...   \n",
       "164                   1019.720000            429.122449          1019.880000   \n",
       "165                   1020.200000           1021.051282          1020.840000   \n",
       "166                   1011.583333           1010.314286          1010.600000   \n",
       "167                   1049.842105           1037.880000          1050.102041   \n",
       "168                   1031.400000           1040.280000          1039.640000   \n",
       "\n",
       "range_delay  18_6000_mean_middle  ...  48_10000_mean_upper  \\\n",
       "0                    1069.400000  ...          2795.000000   \n",
       "1                     954.520000  ...          2669.521739   \n",
       "2                    1005.960000  ...             0.000000   \n",
       "3                    1087.000000  ...             0.000000   \n",
       "4                    1046.288889  ...             0.000000   \n",
       "..                           ...  ...                  ...   \n",
       "164                  1020.520000  ...             0.000000   \n",
       "165                  1021.080000  ...             0.000000   \n",
       "166                  1011.320000  ...             0.000000   \n",
       "167                  1041.880000  ...             0.000000   \n",
       "168                  1036.040000  ...             0.000000   \n",
       "\n",
       "range_delay  48_16800_mean_upper  48_3000_mean_upper  48_6000_mean_upper  \\\n",
       "0                       0.000000         2809.400000         2803.000000   \n",
       "1                       0.000000            0.000000            0.000000   \n",
       "2                       0.000000         2743.000000         2727.000000   \n",
       "3                       0.000000            0.000000         2755.195122   \n",
       "4                    2755.000000            0.000000            0.000000   \n",
       "..                           ...                 ...                 ...   \n",
       "164                     0.000000            0.000000            0.000000   \n",
       "165                  2741.000000            0.000000            0.000000   \n",
       "166                     0.000000         2740.333333         2741.666667   \n",
       "167                  2744.818182            0.000000            0.000000   \n",
       "168                  2747.000000            0.000000            0.000000   \n",
       "\n",
       "range_delay  48_8000_mean_upper  53_10000_mean_upper  53_16800_mean_upper  \\\n",
       "0                   2800.333333          2995.545455                  0.0   \n",
       "1                   2691.000000             0.000000               2371.0   \n",
       "2                      0.000000             0.000000                  0.0   \n",
       "3                      0.000000          3000.000000               3019.0   \n",
       "4                      0.000000             0.000000                  0.0   \n",
       "..                          ...                  ...                  ...   \n",
       "164                    0.000000             0.000000                  0.0   \n",
       "165                 2718.111111             0.000000                  0.0   \n",
       "166                    0.000000          3031.000000                  0.0   \n",
       "167                    0.000000          3041.000000                  0.0   \n",
       "168                    0.000000             0.000000                  0.0   \n",
       "\n",
       "range_delay  53_3000_mean_upper  53_6000_mean_upper  53_8000_mean_upper  \n",
       "0                   2995.444444         3039.727273         3004.043478  \n",
       "1                      0.000000         2951.744186            0.000000  \n",
       "2                      0.000000            0.000000            0.000000  \n",
       "3                   3000.116279         2999.930233         3000.116279  \n",
       "4                      0.000000            0.000000            0.000000  \n",
       "..                          ...                 ...                 ...  \n",
       "164                    0.000000            0.000000            0.000000  \n",
       "165                 3009.000000            0.000000            0.000000  \n",
       "166                    0.000000            0.000000         3031.000000  \n",
       "167                    0.000000         3040.500000         3040.714286  \n",
       "168                    0.000000            0.000000         3016.200000  \n",
       "\n",
       "[169 rows x 136 columns]"
      ]
     },
     "execution_count": 20,
     "metadata": {},
     "output_type": "execute_result"
    }
   ],
   "source": [
    "df_range_delay_all"
   ]
  },
  {
   "cell_type": "markdown",
   "metadata": {},
   "source": [
    "## Conduct PCA based feature importance"
   ]
  },
  {
   "cell_type": "code",
   "execution_count": 21,
   "metadata": {},
   "outputs": [
    {
     "data": {
      "image/png": "[encoded data removed]",
      "text/plain": [
       "<Figure size 1000x600 with 1 Axes>"
      ]
     },
     "metadata": {},
     "output_type": "display_data"
    }
   ],
   "source": [
    "from sklearn.preprocessing import StandardScaler\n",
    "from sklearn.decomposition import PCA\n",
    "import matplotlib.pyplot as plt\n",
    "import numpy as np\n",
    "\n",
    "def process_PCA(df):\n",
    "    # Extract features and standardize\n",
    "    features = df.drop(columns='Sensor ID')\n",
    "    sensor_ids = df['Sensor ID']\n",
    "\n",
    "    # Standardize the features\n",
    "    scaler = StandardScaler()\n",
    "    features_scaled = scaler.fit_transform(features)\n",
    "\n",
    "    # Perform PCA\n",
    "    pca = PCA()\n",
    "    principal_components = pca.fit_transform(features_scaled)\n",
    "\n",
    "    # Explained variance ratio for each principal component\n",
    "    explained_variance = pca.explained_variance_ratio_\n",
    "\n",
    "    # Plot the explained variance to see the importance of each component\n",
    "    plt.figure(figsize=(10, 6))\n",
    "    plt.plot(np.cumsum(explained_variance), marker='o', linestyle='--')\n",
    "    plt.xlabel('Number of Principal Components')\n",
    "    plt.ylabel('Cumulative Explained Variance')\n",
    "    plt.title('PCA - Cumulative Explained Variance')\n",
    "    plt.grid(True)\n",
    "    plt.show()\n",
    "\n",
    "    # Get the loadings (coefficients) of the features on the principal components\n",
    "    loadings = pca.components_\n",
    "\n",
    "    # Display the loadings for the first few principal components\n",
    "    return explained_variance, loadings, features\n",
    "\n",
    "explained_variance, loadings, features = process_PCA(df_range_delay_all)\n",
    "\n"
   ]
  },
  {
   "cell_type": "code",
   "execution_count": 22,
   "metadata": {},
   "outputs": [
    {
     "data": {
      "text/html": [
       "<div>\n",
       "<style scoped>\n",
       "    .dataframe tbody tr th:only-of-type {\n",
       "        vertical-align: middle;\n",
       "    }\n",
       "\n",
       "    .dataframe tbody tr th {\n",
       "        vertical-align: top;\n",
       "    }\n",
       "\n",
       "    .dataframe thead th {\n",
       "        text-align: right;\n",
       "    }\n",
       "</style>\n",
       "<table border=\"1\" class=\"dataframe\">\n",
       "  <thead>\n",
       "    <tr style=\"text-align: right;\">\n",
       "      <th></th>\n",
       "      <th>PC1</th>\n",
       "      <th>PC2</th>\n",
       "      <th>PC3</th>\n",
       "      <th>PC4</th>\n",
       "      <th>PC5</th>\n",
       "      <th>PC6</th>\n",
       "      <th>PC7</th>\n",
       "      <th>PC8</th>\n",
       "      <th>PC9</th>\n",
       "      <th>PC10</th>\n",
       "      <th>...</th>\n",
       "      <th>PC126</th>\n",
       "      <th>PC127</th>\n",
       "      <th>PC128</th>\n",
       "      <th>PC129</th>\n",
       "      <th>PC130</th>\n",
       "      <th>PC131</th>\n",
       "      <th>PC132</th>\n",
       "      <th>PC133</th>\n",
       "      <th>PC134</th>\n",
       "      <th>PC135</th>\n",
       "    </tr>\n",
       "    <tr>\n",
       "      <th>range_delay</th>\n",
       "      <th></th>\n",
       "      <th></th>\n",
       "      <th></th>\n",
       "      <th></th>\n",
       "      <th></th>\n",
       "      <th></th>\n",
       "      <th></th>\n",
       "      <th></th>\n",
       "      <th></th>\n",
       "      <th></th>\n",
       "      <th></th>\n",
       "      <th></th>\n",
       "      <th></th>\n",
       "      <th></th>\n",
       "      <th></th>\n",
       "      <th></th>\n",
       "      <th></th>\n",
       "      <th></th>\n",
       "      <th></th>\n",
       "      <th></th>\n",
       "      <th></th>\n",
       "    </tr>\n",
       "  </thead>\n",
       "  <tbody>\n",
       "    <tr>\n",
       "      <th>13_10000_mean_middle</th>\n",
       "      <td>-0.148615</td>\n",
       "      <td>0.094116</td>\n",
       "      <td>0.063199</td>\n",
       "      <td>0.008201</td>\n",
       "      <td>0.025730</td>\n",
       "      <td>0.001434</td>\n",
       "      <td>0.059180</td>\n",
       "      <td>0.076055</td>\n",
       "      <td>0.071750</td>\n",
       "      <td>0.108778</td>\n",
       "      <td>...</td>\n",
       "      <td>0.154988</td>\n",
       "      <td>0.168073</td>\n",
       "      <td>0.134597</td>\n",
       "      <td>-0.281610</td>\n",
       "      <td>0.062199</td>\n",
       "      <td>0.106578</td>\n",
       "      <td>-0.362008</td>\n",
       "      <td>0.088194</td>\n",
       "      <td>-0.036945</td>\n",
       "      <td>-0.125752</td>\n",
       "    </tr>\n",
       "    <tr>\n",
       "      <th>13_16800_mean_middle</th>\n",
       "      <td>0.033235</td>\n",
       "      <td>-0.014402</td>\n",
       "      <td>0.020825</td>\n",
       "      <td>-0.173201</td>\n",
       "      <td>-0.120080</td>\n",
       "      <td>-0.023513</td>\n",
       "      <td>0.141946</td>\n",
       "      <td>-0.044581</td>\n",
       "      <td>0.125979</td>\n",
       "      <td>-0.148804</td>\n",
       "      <td>...</td>\n",
       "      <td>-0.024038</td>\n",
       "      <td>-0.005621</td>\n",
       "      <td>0.019158</td>\n",
       "      <td>-0.019450</td>\n",
       "      <td>-0.005708</td>\n",
       "      <td>0.043628</td>\n",
       "      <td>0.001899</td>\n",
       "      <td>0.008797</td>\n",
       "      <td>-0.010255</td>\n",
       "      <td>0.027885</td>\n",
       "    </tr>\n",
       "    <tr>\n",
       "      <th>13_3000_mean_middle</th>\n",
       "      <td>-0.098363</td>\n",
       "      <td>-0.089029</td>\n",
       "      <td>0.070406</td>\n",
       "      <td>-0.015466</td>\n",
       "      <td>-0.000369</td>\n",
       "      <td>0.024825</td>\n",
       "      <td>0.134734</td>\n",
       "      <td>0.073629</td>\n",
       "      <td>0.101034</td>\n",
       "      <td>0.034139</td>\n",
       "      <td>...</td>\n",
       "      <td>-0.023535</td>\n",
       "      <td>-0.000029</td>\n",
       "      <td>-0.010423</td>\n",
       "      <td>0.023932</td>\n",
       "      <td>0.019181</td>\n",
       "      <td>-0.056808</td>\n",
       "      <td>-0.002012</td>\n",
       "      <td>0.001237</td>\n",
       "      <td>-0.005845</td>\n",
       "      <td>-0.016793</td>\n",
       "    </tr>\n",
       "    <tr>\n",
       "      <th>13_6000_mean_middle</th>\n",
       "      <td>-0.080462</td>\n",
       "      <td>0.053884</td>\n",
       "      <td>0.009832</td>\n",
       "      <td>0.090373</td>\n",
       "      <td>-0.007271</td>\n",
       "      <td>0.098092</td>\n",
       "      <td>0.122687</td>\n",
       "      <td>0.035808</td>\n",
       "      <td>0.129258</td>\n",
       "      <td>-0.069648</td>\n",
       "      <td>...</td>\n",
       "      <td>-0.147804</td>\n",
       "      <td>0.136069</td>\n",
       "      <td>-0.016576</td>\n",
       "      <td>-0.137046</td>\n",
       "      <td>0.081719</td>\n",
       "      <td>0.051490</td>\n",
       "      <td>0.193198</td>\n",
       "      <td>0.115445</td>\n",
       "      <td>-0.012865</td>\n",
       "      <td>0.046214</td>\n",
       "    </tr>\n",
       "    <tr>\n",
       "      <th>13_8000_mean_middle</th>\n",
       "      <td>-0.149776</td>\n",
       "      <td>0.092140</td>\n",
       "      <td>0.057977</td>\n",
       "      <td>0.009184</td>\n",
       "      <td>0.016085</td>\n",
       "      <td>-0.002592</td>\n",
       "      <td>0.071393</td>\n",
       "      <td>0.072390</td>\n",
       "      <td>0.085270</td>\n",
       "      <td>0.109762</td>\n",
       "      <td>...</td>\n",
       "      <td>-0.068332</td>\n",
       "      <td>-0.231555</td>\n",
       "      <td>-0.129551</td>\n",
       "      <td>0.310208</td>\n",
       "      <td>-0.116795</td>\n",
       "      <td>-0.057075</td>\n",
       "      <td>0.311277</td>\n",
       "      <td>-0.153642</td>\n",
       "      <td>0.053811</td>\n",
       "      <td>0.132750</td>\n",
       "    </tr>\n",
       "    <tr>\n",
       "      <th>...</th>\n",
       "      <td>...</td>\n",
       "      <td>...</td>\n",
       "      <td>...</td>\n",
       "      <td>...</td>\n",
       "      <td>...</td>\n",
       "      <td>...</td>\n",
       "      <td>...</td>\n",
       "      <td>...</td>\n",
       "      <td>...</td>\n",
       "      <td>...</td>\n",
       "      <td>...</td>\n",
       "      <td>...</td>\n",
       "      <td>...</td>\n",
       "      <td>...</td>\n",
       "      <td>...</td>\n",
       "      <td>...</td>\n",
       "      <td>...</td>\n",
       "      <td>...</td>\n",
       "      <td>...</td>\n",
       "      <td>...</td>\n",
       "      <td>...</td>\n",
       "    </tr>\n",
       "    <tr>\n",
       "      <th>53_10000_mean_upper</th>\n",
       "      <td>-0.009110</td>\n",
       "      <td>0.071598</td>\n",
       "      <td>0.076471</td>\n",
       "      <td>-0.198165</td>\n",
       "      <td>-0.039550</td>\n",
       "      <td>0.040249</td>\n",
       "      <td>-0.022387</td>\n",
       "      <td>-0.113744</td>\n",
       "      <td>-0.094555</td>\n",
       "      <td>-0.110116</td>\n",
       "      <td>...</td>\n",
       "      <td>-0.019464</td>\n",
       "      <td>-0.007214</td>\n",
       "      <td>0.014472</td>\n",
       "      <td>-0.010932</td>\n",
       "      <td>-0.020011</td>\n",
       "      <td>-0.059510</td>\n",
       "      <td>0.031313</td>\n",
       "      <td>-0.022914</td>\n",
       "      <td>0.014678</td>\n",
       "      <td>-0.000708</td>\n",
       "    </tr>\n",
       "    <tr>\n",
       "      <th>53_16800_mean_upper</th>\n",
       "      <td>0.016002</td>\n",
       "      <td>0.017563</td>\n",
       "      <td>0.140422</td>\n",
       "      <td>0.013762</td>\n",
       "      <td>-0.029948</td>\n",
       "      <td>0.128612</td>\n",
       "      <td>-0.040848</td>\n",
       "      <td>-0.171133</td>\n",
       "      <td>0.163484</td>\n",
       "      <td>0.032904</td>\n",
       "      <td>...</td>\n",
       "      <td>-0.017828</td>\n",
       "      <td>0.032877</td>\n",
       "      <td>-0.016938</td>\n",
       "      <td>0.010975</td>\n",
       "      <td>-0.002679</td>\n",
       "      <td>0.011900</td>\n",
       "      <td>-0.001681</td>\n",
       "      <td>0.012876</td>\n",
       "      <td>0.010818</td>\n",
       "      <td>0.002717</td>\n",
       "    </tr>\n",
       "    <tr>\n",
       "      <th>53_3000_mean_upper</th>\n",
       "      <td>-0.016323</td>\n",
       "      <td>-0.018278</td>\n",
       "      <td>0.123281</td>\n",
       "      <td>-0.049156</td>\n",
       "      <td>0.036881</td>\n",
       "      <td>-0.119459</td>\n",
       "      <td>0.082250</td>\n",
       "      <td>-0.117073</td>\n",
       "      <td>-0.172370</td>\n",
       "      <td>0.039162</td>\n",
       "      <td>...</td>\n",
       "      <td>0.006185</td>\n",
       "      <td>0.006694</td>\n",
       "      <td>0.005784</td>\n",
       "      <td>-0.005139</td>\n",
       "      <td>-0.001866</td>\n",
       "      <td>0.042349</td>\n",
       "      <td>-0.019192</td>\n",
       "      <td>0.015076</td>\n",
       "      <td>-0.008809</td>\n",
       "      <td>0.014212</td>\n",
       "    </tr>\n",
       "    <tr>\n",
       "      <th>53_6000_mean_upper</th>\n",
       "      <td>0.003111</td>\n",
       "      <td>-0.001221</td>\n",
       "      <td>0.165708</td>\n",
       "      <td>-0.052092</td>\n",
       "      <td>0.049585</td>\n",
       "      <td>-0.005351</td>\n",
       "      <td>-0.060548</td>\n",
       "      <td>-0.102411</td>\n",
       "      <td>-0.036995</td>\n",
       "      <td>-0.075862</td>\n",
       "      <td>...</td>\n",
       "      <td>0.004095</td>\n",
       "      <td>0.042877</td>\n",
       "      <td>0.020954</td>\n",
       "      <td>0.005839</td>\n",
       "      <td>0.004656</td>\n",
       "      <td>-0.027606</td>\n",
       "      <td>0.017219</td>\n",
       "      <td>-0.006531</td>\n",
       "      <td>0.008498</td>\n",
       "      <td>-0.003648</td>\n",
       "    </tr>\n",
       "    <tr>\n",
       "      <th>53_8000_mean_upper</th>\n",
       "      <td>0.011134</td>\n",
       "      <td>0.006465</td>\n",
       "      <td>0.071051</td>\n",
       "      <td>-0.133555</td>\n",
       "      <td>0.109932</td>\n",
       "      <td>0.030894</td>\n",
       "      <td>0.049966</td>\n",
       "      <td>-0.176347</td>\n",
       "      <td>-0.136600</td>\n",
       "      <td>-0.126492</td>\n",
       "      <td>...</td>\n",
       "      <td>0.015408</td>\n",
       "      <td>0.007615</td>\n",
       "      <td>-0.016480</td>\n",
       "      <td>-0.025193</td>\n",
       "      <td>0.010062</td>\n",
       "      <td>0.015538</td>\n",
       "      <td>0.004603</td>\n",
       "      <td>0.008286</td>\n",
       "      <td>-0.025865</td>\n",
       "      <td>0.006614</td>\n",
       "    </tr>\n",
       "  </tbody>\n",
       "</table>\n",
       "<p>135 rows × 135 columns</p>\n",
       "</div>"
      ],
      "text/plain": [
       "                           PC1       PC2       PC3       PC4       PC5  \\\n",
       "range_delay                                                              \n",
       "13_10000_mean_middle -0.148615  0.094116  0.063199  0.008201  0.025730   \n",
       "13_16800_mean_middle  0.033235 -0.014402  0.020825 -0.173201 -0.120080   \n",
       "13_3000_mean_middle  -0.098363 -0.089029  0.070406 -0.015466 -0.000369   \n",
       "13_6000_mean_middle  -0.080462  0.053884  0.009832  0.090373 -0.007271   \n",
       "13_8000_mean_middle  -0.149776  0.092140  0.057977  0.009184  0.016085   \n",
       "...                        ...       ...       ...       ...       ...   \n",
       "53_10000_mean_upper  -0.009110  0.071598  0.076471 -0.198165 -0.039550   \n",
       "53_16800_mean_upper   0.016002  0.017563  0.140422  0.013762 -0.029948   \n",
       "53_3000_mean_upper   -0.016323 -0.018278  0.123281 -0.049156  0.036881   \n",
       "53_6000_mean_upper    0.003111 -0.001221  0.165708 -0.052092  0.049585   \n",
       "53_8000_mean_upper    0.011134  0.006465  0.071051 -0.133555  0.109932   \n",
       "\n",
       "                           PC6       PC7       PC8       PC9      PC10  ...  \\\n",
       "range_delay                                                             ...   \n",
       "13_10000_mean_middle  0.001434  0.059180  0.076055  0.071750  0.108778  ...   \n",
       "13_16800_mean_middle -0.023513  0.141946 -0.044581  0.125979 -0.148804  ...   \n",
       "13_3000_mean_middle   0.024825  0.134734  0.073629  0.101034  0.034139  ...   \n",
       "13_6000_mean_middle   0.098092  0.122687  0.035808  0.129258 -0.069648  ...   \n",
       "13_8000_mean_middle  -0.002592  0.071393  0.072390  0.085270  0.109762  ...   \n",
       "...                        ...       ...       ...       ...       ...  ...   \n",
       "53_10000_mean_upper   0.040249 -0.022387 -0.113744 -0.094555 -0.110116  ...   \n",
       "53_16800_mean_upper   0.128612 -0.040848 -0.171133  0.163484  0.032904  ...   \n",
       "53_3000_mean_upper   -0.119459  0.082250 -0.117073 -0.172370  0.039162  ...   \n",
       "53_6000_mean_upper   -0.005351 -0.060548 -0.102411 -0.036995 -0.075862  ...   \n",
       "53_8000_mean_upper    0.030894  0.049966 -0.176347 -0.136600 -0.126492  ...   \n",
       "\n",
       "                         PC126     PC127     PC128     PC129     PC130  \\\n",
       "range_delay                                                              \n",
       "13_10000_mean_middle  0.154988  0.168073  0.134597 -0.281610  0.062199   \n",
       "13_16800_mean_middle -0.024038 -0.005621  0.019158 -0.019450 -0.005708   \n",
       "13_3000_mean_middle  -0.023535 -0.000029 -0.010423  0.023932  0.019181   \n",
       "13_6000_mean_middle  -0.147804  0.136069 -0.016576 -0.137046  0.081719   \n",
       "13_8000_mean_middle  -0.068332 -0.231555 -0.129551  0.310208 -0.116795   \n",
       "...                        ...       ...       ...       ...       ...   \n",
       "53_10000_mean_upper  -0.019464 -0.007214  0.014472 -0.010932 -0.020011   \n",
       "53_16800_mean_upper  -0.017828  0.032877 -0.016938  0.010975 -0.002679   \n",
       "53_3000_mean_upper    0.006185  0.006694  0.005784 -0.005139 -0.001866   \n",
       "53_6000_mean_upper    0.004095  0.042877  0.020954  0.005839  0.004656   \n",
       "53_8000_mean_upper    0.015408  0.007615 -0.016480 -0.025193  0.010062   \n",
       "\n",
       "                         PC131     PC132     PC133     PC134     PC135  \n",
       "range_delay                                                             \n",
       "13_10000_mean_middle  0.106578 -0.362008  0.088194 -0.036945 -0.125752  \n",
       "13_16800_mean_middle  0.043628  0.001899  0.008797 -0.010255  0.027885  \n",
       "13_3000_mean_middle  -0.056808 -0.002012  0.001237 -0.005845 -0.016793  \n",
       "13_6000_mean_middle   0.051490  0.193198  0.115445 -0.012865  0.046214  \n",
       "13_8000_mean_middle  -0.057075  0.311277 -0.153642  0.053811  0.132750  \n",
       "...                        ...       ...       ...       ...       ...  \n",
       "53_10000_mean_upper  -0.059510  0.031313 -0.022914  0.014678 -0.000708  \n",
       "53_16800_mean_upper   0.011900 -0.001681  0.012876  0.010818  0.002717  \n",
       "53_3000_mean_upper    0.042349 -0.019192  0.015076 -0.008809  0.014212  \n",
       "53_6000_mean_upper   -0.027606  0.017219 -0.006531  0.008498 -0.003648  \n",
       "53_8000_mean_upper    0.015538  0.004603  0.008286 -0.025865  0.006614  \n",
       "\n",
       "[135 rows x 135 columns]"
      ]
     },
     "execution_count": 22,
     "metadata": {},
     "output_type": "execute_result"
    }
   ],
   "source": [
    "# Create a DataFrame for the loadings\n",
    "loading_df = pd.DataFrame(loadings.T, columns=[f'PC{i+1}' for i in range(loadings.shape[0])], index=features.columns)\n",
    "loading_df"
   ]
  },
  {
   "cell_type": "code",
   "execution_count": 23,
   "metadata": {},
   "outputs": [
    {
     "data": {
      "text/html": [
       "<div>\n",
       "<style scoped>\n",
       "    .dataframe tbody tr th:only-of-type {\n",
       "        vertical-align: middle;\n",
       "    }\n",
       "\n",
       "    .dataframe tbody tr th {\n",
       "        vertical-align: top;\n",
       "    }\n",
       "\n",
       "    .dataframe thead th {\n",
       "        text-align: right;\n",
       "    }\n",
       "</style>\n",
       "<table border=\"1\" class=\"dataframe\">\n",
       "  <thead>\n",
       "    <tr style=\"text-align: right;\">\n",
       "      <th></th>\n",
       "      <th>Feature</th>\n",
       "      <th>Importance</th>\n",
       "    </tr>\n",
       "  </thead>\n",
       "  <tbody>\n",
       "    <tr>\n",
       "      <th>51</th>\n",
       "      <td>18_16800_mean_lower</td>\n",
       "      <td>4.904916</td>\n",
       "    </tr>\n",
       "    <tr>\n",
       "      <th>52</th>\n",
       "      <td>18_3000_mean_lower</td>\n",
       "      <td>4.862858</td>\n",
       "    </tr>\n",
       "    <tr>\n",
       "      <th>94</th>\n",
       "      <td>13_8000_mean_upper</td>\n",
       "      <td>4.862092</td>\n",
       "    </tr>\n",
       "    <tr>\n",
       "      <th>78</th>\n",
       "      <td>43_6000_mean_lower</td>\n",
       "      <td>4.852653</td>\n",
       "    </tr>\n",
       "    <tr>\n",
       "      <th>117</th>\n",
       "      <td>38_3000_mean_upper</td>\n",
       "      <td>4.800901</td>\n",
       "    </tr>\n",
       "    <tr>\n",
       "      <th>57</th>\n",
       "      <td>23_3000_mean_lower</td>\n",
       "      <td>4.785992</td>\n",
       "    </tr>\n",
       "    <tr>\n",
       "      <th>13</th>\n",
       "      <td>23_6000_mean_middle</td>\n",
       "      <td>4.779844</td>\n",
       "    </tr>\n",
       "    <tr>\n",
       "      <th>115</th>\n",
       "      <td>38_10000_mean_upper</td>\n",
       "      <td>4.756880</td>\n",
       "    </tr>\n",
       "    <tr>\n",
       "      <th>118</th>\n",
       "      <td>38_6000_mean_upper</td>\n",
       "      <td>4.755874</td>\n",
       "    </tr>\n",
       "    <tr>\n",
       "      <th>55</th>\n",
       "      <td>23_10000_mean_lower</td>\n",
       "      <td>4.750457</td>\n",
       "    </tr>\n",
       "    <tr>\n",
       "      <th>112</th>\n",
       "      <td>33_3000_mean_upper</td>\n",
       "      <td>4.724617</td>\n",
       "    </tr>\n",
       "    <tr>\n",
       "      <th>95</th>\n",
       "      <td>18_10000_mean_upper</td>\n",
       "      <td>4.722757</td>\n",
       "    </tr>\n",
       "    <tr>\n",
       "      <th>56</th>\n",
       "      <td>23_16800_mean_lower</td>\n",
       "      <td>4.695562</td>\n",
       "    </tr>\n",
       "    <tr>\n",
       "      <th>79</th>\n",
       "      <td>43_8000_mean_lower</td>\n",
       "      <td>4.665144</td>\n",
       "    </tr>\n",
       "    <tr>\n",
       "      <th>114</th>\n",
       "      <td>33_8000_mean_upper</td>\n",
       "      <td>4.662013</td>\n",
       "    </tr>\n",
       "    <tr>\n",
       "      <th>43</th>\n",
       "      <td>53_6000_mean_middle</td>\n",
       "      <td>4.661533</td>\n",
       "    </tr>\n",
       "    <tr>\n",
       "      <th>107</th>\n",
       "      <td>28_3000_mean_upper</td>\n",
       "      <td>4.617533</td>\n",
       "    </tr>\n",
       "    <tr>\n",
       "      <th>67</th>\n",
       "      <td>33_3000_mean_lower</td>\n",
       "      <td>4.610944</td>\n",
       "    </tr>\n",
       "    <tr>\n",
       "      <th>127</th>\n",
       "      <td>48_3000_mean_upper</td>\n",
       "      <td>4.607217</td>\n",
       "    </tr>\n",
       "    <tr>\n",
       "      <th>54</th>\n",
       "      <td>18_8000_mean_lower</td>\n",
       "      <td>4.599287</td>\n",
       "    </tr>\n",
       "    <tr>\n",
       "      <th>91</th>\n",
       "      <td>13_16800_mean_upper</td>\n",
       "      <td>4.599250</td>\n",
       "    </tr>\n",
       "    <tr>\n",
       "      <th>44</th>\n",
       "      <td>53_8000_mean_middle</td>\n",
       "      <td>4.588818</td>\n",
       "    </tr>\n",
       "    <tr>\n",
       "      <th>58</th>\n",
       "      <td>23_6000_mean_lower</td>\n",
       "      <td>4.577889</td>\n",
       "    </tr>\n",
       "    <tr>\n",
       "      <th>125</th>\n",
       "      <td>48_10000_mean_upper</td>\n",
       "      <td>4.574998</td>\n",
       "    </tr>\n",
       "    <tr>\n",
       "      <th>102</th>\n",
       "      <td>23_3000_mean_upper</td>\n",
       "      <td>4.571644</td>\n",
       "    </tr>\n",
       "    <tr>\n",
       "      <th>71</th>\n",
       "      <td>38_16800_mean_lower</td>\n",
       "      <td>4.568420</td>\n",
       "    </tr>\n",
       "    <tr>\n",
       "      <th>129</th>\n",
       "      <td>48_8000_mean_upper</td>\n",
       "      <td>4.568314</td>\n",
       "    </tr>\n",
       "    <tr>\n",
       "      <th>99</th>\n",
       "      <td>18_8000_mean_upper</td>\n",
       "      <td>4.564504</td>\n",
       "    </tr>\n",
       "    <tr>\n",
       "      <th>93</th>\n",
       "      <td>13_6000_mean_upper</td>\n",
       "      <td>4.562423</td>\n",
       "    </tr>\n",
       "    <tr>\n",
       "      <th>101</th>\n",
       "      <td>23_16800_mean_upper</td>\n",
       "      <td>4.552313</td>\n",
       "    </tr>\n",
       "    <tr>\n",
       "      <th>90</th>\n",
       "      <td>13_10000_mean_upper</td>\n",
       "      <td>4.551169</td>\n",
       "    </tr>\n",
       "    <tr>\n",
       "      <th>132</th>\n",
       "      <td>53_3000_mean_upper</td>\n",
       "      <td>4.540468</td>\n",
       "    </tr>\n",
       "    <tr>\n",
       "      <th>116</th>\n",
       "      <td>38_16800_mean_upper</td>\n",
       "      <td>4.512566</td>\n",
       "    </tr>\n",
       "    <tr>\n",
       "      <th>62</th>\n",
       "      <td>28_3000_mean_lower</td>\n",
       "      <td>4.507629</td>\n",
       "    </tr>\n",
       "    <tr>\n",
       "      <th>72</th>\n",
       "      <td>38_3000_mean_lower</td>\n",
       "      <td>4.505117</td>\n",
       "    </tr>\n",
       "    <tr>\n",
       "      <th>73</th>\n",
       "      <td>38_6000_mean_lower</td>\n",
       "      <td>4.495895</td>\n",
       "    </tr>\n",
       "    <tr>\n",
       "      <th>84</th>\n",
       "      <td>48_8000_mean_lower</td>\n",
       "      <td>4.493451</td>\n",
       "    </tr>\n",
       "    <tr>\n",
       "      <th>106</th>\n",
       "      <td>28_16800_mean_upper</td>\n",
       "      <td>4.488914</td>\n",
       "    </tr>\n",
       "    <tr>\n",
       "      <th>48</th>\n",
       "      <td>13_6000_mean_lower</td>\n",
       "      <td>4.488110</td>\n",
       "    </tr>\n",
       "    <tr>\n",
       "      <th>92</th>\n",
       "      <td>13_3000_mean_upper</td>\n",
       "      <td>4.482748</td>\n",
       "    </tr>\n",
       "    <tr>\n",
       "      <th>81</th>\n",
       "      <td>48_16800_mean_lower</td>\n",
       "      <td>4.474506</td>\n",
       "    </tr>\n",
       "    <tr>\n",
       "      <th>42</th>\n",
       "      <td>53_3000_mean_middle</td>\n",
       "      <td>4.473271</td>\n",
       "    </tr>\n",
       "    <tr>\n",
       "      <th>70</th>\n",
       "      <td>38_10000_mean_lower</td>\n",
       "      <td>4.459431</td>\n",
       "    </tr>\n",
       "    <tr>\n",
       "      <th>104</th>\n",
       "      <td>23_8000_mean_upper</td>\n",
       "      <td>4.456057</td>\n",
       "    </tr>\n",
       "    <tr>\n",
       "      <th>74</th>\n",
       "      <td>38_8000_mean_lower</td>\n",
       "      <td>4.456036</td>\n",
       "    </tr>\n",
       "    <tr>\n",
       "      <th>3</th>\n",
       "      <td>13_6000_mean_middle</td>\n",
       "      <td>4.441203</td>\n",
       "    </tr>\n",
       "    <tr>\n",
       "      <th>120</th>\n",
       "      <td>43_10000_mean_upper</td>\n",
       "      <td>4.433895</td>\n",
       "    </tr>\n",
       "    <tr>\n",
       "      <th>119</th>\n",
       "      <td>38_8000_mean_upper</td>\n",
       "      <td>4.424479</td>\n",
       "    </tr>\n",
       "    <tr>\n",
       "      <th>88</th>\n",
       "      <td>53_6000_mean_lower</td>\n",
       "      <td>4.421295</td>\n",
       "    </tr>\n",
       "    <tr>\n",
       "      <th>77</th>\n",
       "      <td>43_3000_mean_lower</td>\n",
       "      <td>4.417891</td>\n",
       "    </tr>\n",
       "  </tbody>\n",
       "</table>\n",
       "</div>"
      ],
      "text/plain": [
       "                 Feature  Importance\n",
       "51   18_16800_mean_lower    4.904916\n",
       "52    18_3000_mean_lower    4.862858\n",
       "94    13_8000_mean_upper    4.862092\n",
       "78    43_6000_mean_lower    4.852653\n",
       "117   38_3000_mean_upper    4.800901\n",
       "57    23_3000_mean_lower    4.785992\n",
       "13   23_6000_mean_middle    4.779844\n",
       "115  38_10000_mean_upper    4.756880\n",
       "118   38_6000_mean_upper    4.755874\n",
       "55   23_10000_mean_lower    4.750457\n",
       "112   33_3000_mean_upper    4.724617\n",
       "95   18_10000_mean_upper    4.722757\n",
       "56   23_16800_mean_lower    4.695562\n",
       "79    43_8000_mean_lower    4.665144\n",
       "114   33_8000_mean_upper    4.662013\n",
       "43   53_6000_mean_middle    4.661533\n",
       "107   28_3000_mean_upper    4.617533\n",
       "67    33_3000_mean_lower    4.610944\n",
       "127   48_3000_mean_upper    4.607217\n",
       "54    18_8000_mean_lower    4.599287\n",
       "91   13_16800_mean_upper    4.599250\n",
       "44   53_8000_mean_middle    4.588818\n",
       "58    23_6000_mean_lower    4.577889\n",
       "125  48_10000_mean_upper    4.574998\n",
       "102   23_3000_mean_upper    4.571644\n",
       "71   38_16800_mean_lower    4.568420\n",
       "129   48_8000_mean_upper    4.568314\n",
       "99    18_8000_mean_upper    4.564504\n",
       "93    13_6000_mean_upper    4.562423\n",
       "101  23_16800_mean_upper    4.552313\n",
       "90   13_10000_mean_upper    4.551169\n",
       "132   53_3000_mean_upper    4.540468\n",
       "116  38_16800_mean_upper    4.512566\n",
       "62    28_3000_mean_lower    4.507629\n",
       "72    38_3000_mean_lower    4.505117\n",
       "73    38_6000_mean_lower    4.495895\n",
       "84    48_8000_mean_lower    4.493451\n",
       "106  28_16800_mean_upper    4.488914\n",
       "48    13_6000_mean_lower    4.488110\n",
       "92    13_3000_mean_upper    4.482748\n",
       "81   48_16800_mean_lower    4.474506\n",
       "42   53_3000_mean_middle    4.473271\n",
       "70   38_10000_mean_lower    4.459431\n",
       "104   23_8000_mean_upper    4.456057\n",
       "74    38_8000_mean_lower    4.456036\n",
       "3    13_6000_mean_middle    4.441203\n",
       "120  43_10000_mean_upper    4.433895\n",
       "119   38_8000_mean_upper    4.424479\n",
       "88    53_6000_mean_lower    4.421295\n",
       "77    43_3000_mean_lower    4.417891"
      ]
     },
     "execution_count": 23,
     "metadata": {},
     "output_type": "execute_result"
    }
   ],
   "source": [
    "# Determine the number of components to retain 90% variance\n",
    "cumulative_variance = np.cumsum(explained_variance)\n",
    "num_components = np.argmax(cumulative_variance >= 0.9) + 1\n",
    "\n",
    "# Get the loadings for the selected components\n",
    "selected_loadings = loadings[:num_components, :]\n",
    "\n",
    "# Calculate the importance of each feature by summing the absolute values of its loadings across the selected components\n",
    "feature_importance = np.sum(np.abs(selected_loadings), axis=0)\n",
    "\n",
    "# Create a DataFrame for feature importance\n",
    "feature_importance_df = pd.DataFrame({'Feature': features.columns, 'Importance': feature_importance})\n",
    "\n",
    "# Sort the features by importance\n",
    "feature_importance_df = feature_importance_df.sort_values(by='Importance', ascending=False)\n",
    "\n",
    "# Select the top N features (e.g., top 10 features)\n",
    "top_features = feature_importance_df.head(50)\n",
    "\n",
    "top_features"
   ]
  },
  {
   "cell_type": "markdown",
   "metadata": {},
   "source": [
    "Having many features with an importance score over 1 can be interpreted in various ways.\n",
    "\n",
    "Implication 1: Distributed Contribution\n",
    "- Distributed Contribution: When many features have high importance scores, it indicates that the variance in the data is distributed across multiple features rather than being dominated by a few.\n",
    "- Balanced Influence: This suggests a balanced influence where no single feature overwhelmingly explains the variance, but rather, multiple features contribute significantly.\n",
    "\n",
    "Implication 2: Multicollinearity\n",
    "- Multicollinearity: It might indicate the presence of multicollinearity, where multiple features are correlated with each other and together contribute to the same principal components.\n",
    "- Redundancy: In such cases, there might be redundancy in the information provided by these features\n",
    "\n",
    "\n",
    "\n",
    "To address these issues we could look into correlation matrix and use regularization technique to reduce it"
   ]
  },
  {
   "cell_type": "markdown",
   "metadata": {},
   "source": [
    "## Investigate Multicollinearity"
   ]
  },
  {
   "cell_type": "markdown",
   "metadata": {},
   "source": [
    "### Analyze using correlation matrix"
   ]
  },
  {
   "cell_type": "code",
   "execution_count": 24,
   "metadata": {},
   "outputs": [],
   "source": [
    "# List of DataFrames\n",
    "df_pivots = [df_range_delay_lower, df_range_delay_upper]\n",
    "\n",
    "# Initialize the merged DataFrame with the first DataFrame in the list\n",
    "df_range_delay_ends = df_pivots[0]\n",
    "\n",
    "# Iteratively merge each DataFrame in the list\n",
    "for df in df_pivots[1:]:\n",
    "    df_range_delay_ends = df_range_delay_ends.merge(df, on='Sensor ID')\n",
    "# Replace all NaN values with 0 in the merged DataFrame\n",
    "df_range_delay_ends.fillna(0, inplace=True)"
   ]
  },
  {
   "cell_type": "code",
   "execution_count": 25,
   "metadata": {},
   "outputs": [],
   "source": [
    "df_range_delay_corr= df_range_delay_ends.drop([\"Sensor ID\"], axis = 1)"
   ]
  },
  {
   "cell_type": "code",
   "execution_count": 26,
   "metadata": {},
   "outputs": [
    {
     "data": {
      "text/html": [
       "<div>\n",
       "<style scoped>\n",
       "    .dataframe tbody tr th:only-of-type {\n",
       "        vertical-align: middle;\n",
       "    }\n",
       "\n",
       "    .dataframe tbody tr th {\n",
       "        vertical-align: top;\n",
       "    }\n",
       "\n",
       "    .dataframe thead th {\n",
       "        text-align: right;\n",
       "    }\n",
       "</style>\n",
       "<table border=\"1\" class=\"dataframe\">\n",
       "  <thead>\n",
       "    <tr style=\"text-align: right;\">\n",
       "      <th>range_delay</th>\n",
       "      <th>13_10000_mean_lower</th>\n",
       "      <th>13_16800_mean_lower</th>\n",
       "      <th>13_3000_mean_lower</th>\n",
       "      <th>13_6000_mean_lower</th>\n",
       "      <th>13_8000_mean_lower</th>\n",
       "      <th>18_10000_mean_lower</th>\n",
       "      <th>18_16800_mean_lower</th>\n",
       "      <th>18_3000_mean_lower</th>\n",
       "      <th>18_6000_mean_lower</th>\n",
       "      <th>18_8000_mean_lower</th>\n",
       "      <th>...</th>\n",
       "      <th>48_10000_mean_upper</th>\n",
       "      <th>48_16800_mean_upper</th>\n",
       "      <th>48_3000_mean_upper</th>\n",
       "      <th>48_6000_mean_upper</th>\n",
       "      <th>48_8000_mean_upper</th>\n",
       "      <th>53_10000_mean_upper</th>\n",
       "      <th>53_16800_mean_upper</th>\n",
       "      <th>53_3000_mean_upper</th>\n",
       "      <th>53_6000_mean_upper</th>\n",
       "      <th>53_8000_mean_upper</th>\n",
       "    </tr>\n",
       "    <tr>\n",
       "      <th>range_delay</th>\n",
       "      <th></th>\n",
       "      <th></th>\n",
       "      <th></th>\n",
       "      <th></th>\n",
       "      <th></th>\n",
       "      <th></th>\n",
       "      <th></th>\n",
       "      <th></th>\n",
       "      <th></th>\n",
       "      <th></th>\n",
       "      <th></th>\n",
       "      <th></th>\n",
       "      <th></th>\n",
       "      <th></th>\n",
       "      <th></th>\n",
       "      <th></th>\n",
       "      <th></th>\n",
       "      <th></th>\n",
       "      <th></th>\n",
       "      <th></th>\n",
       "      <th></th>\n",
       "    </tr>\n",
       "  </thead>\n",
       "  <tbody>\n",
       "    <tr>\n",
       "      <th>13_10000_mean_lower</th>\n",
       "      <td>1.000000</td>\n",
       "      <td>-0.044995</td>\n",
       "      <td>0.218945</td>\n",
       "      <td>0.203749</td>\n",
       "      <td>0.337109</td>\n",
       "      <td>0.104585</td>\n",
       "      <td>0.101354</td>\n",
       "      <td>0.103795</td>\n",
       "      <td>0.048853</td>\n",
       "      <td>0.103310</td>\n",
       "      <td>...</td>\n",
       "      <td>-0.167864</td>\n",
       "      <td>-0.051327</td>\n",
       "      <td>0.073362</td>\n",
       "      <td>-0.095444</td>\n",
       "      <td>-0.019935</td>\n",
       "      <td>0.030406</td>\n",
       "      <td>0.052688</td>\n",
       "      <td>0.079915</td>\n",
       "      <td>-0.185682</td>\n",
       "      <td>-0.130478</td>\n",
       "    </tr>\n",
       "    <tr>\n",
       "      <th>13_16800_mean_lower</th>\n",
       "      <td>-0.044995</td>\n",
       "      <td>1.000000</td>\n",
       "      <td>0.092796</td>\n",
       "      <td>0.028439</td>\n",
       "      <td>0.094966</td>\n",
       "      <td>0.227812</td>\n",
       "      <td>0.051315</td>\n",
       "      <td>0.110596</td>\n",
       "      <td>0.121634</td>\n",
       "      <td>-0.051341</td>\n",
       "      <td>...</td>\n",
       "      <td>0.025029</td>\n",
       "      <td>0.001713</td>\n",
       "      <td>-0.074554</td>\n",
       "      <td>-0.025813</td>\n",
       "      <td>-0.042944</td>\n",
       "      <td>-0.084909</td>\n",
       "      <td>0.083168</td>\n",
       "      <td>-0.036656</td>\n",
       "      <td>0.139239</td>\n",
       "      <td>-0.054297</td>\n",
       "    </tr>\n",
       "    <tr>\n",
       "      <th>13_3000_mean_lower</th>\n",
       "      <td>0.218945</td>\n",
       "      <td>0.092796</td>\n",
       "      <td>1.000000</td>\n",
       "      <td>0.263630</td>\n",
       "      <td>0.296084</td>\n",
       "      <td>0.031327</td>\n",
       "      <td>0.157394</td>\n",
       "      <td>0.109706</td>\n",
       "      <td>0.004984</td>\n",
       "      <td>0.075344</td>\n",
       "      <td>...</td>\n",
       "      <td>0.047055</td>\n",
       "      <td>0.109561</td>\n",
       "      <td>-0.006110</td>\n",
       "      <td>0.043122</td>\n",
       "      <td>0.024838</td>\n",
       "      <td>0.117338</td>\n",
       "      <td>0.062225</td>\n",
       "      <td>-0.014671</td>\n",
       "      <td>0.138791</td>\n",
       "      <td>0.027564</td>\n",
       "    </tr>\n",
       "    <tr>\n",
       "      <th>13_6000_mean_lower</th>\n",
       "      <td>0.203749</td>\n",
       "      <td>0.028439</td>\n",
       "      <td>0.263630</td>\n",
       "      <td>1.000000</td>\n",
       "      <td>0.389729</td>\n",
       "      <td>-0.047413</td>\n",
       "      <td>-0.009362</td>\n",
       "      <td>0.046219</td>\n",
       "      <td>0.028923</td>\n",
       "      <td>-0.031684</td>\n",
       "      <td>...</td>\n",
       "      <td>-0.035612</td>\n",
       "      <td>-0.020241</td>\n",
       "      <td>-0.068012</td>\n",
       "      <td>-0.070614</td>\n",
       "      <td>0.032237</td>\n",
       "      <td>-0.021488</td>\n",
       "      <td>-0.028175</td>\n",
       "      <td>-0.045524</td>\n",
       "      <td>0.075534</td>\n",
       "      <td>-0.143654</td>\n",
       "    </tr>\n",
       "    <tr>\n",
       "      <th>13_8000_mean_lower</th>\n",
       "      <td>0.337109</td>\n",
       "      <td>0.094966</td>\n",
       "      <td>0.296084</td>\n",
       "      <td>0.389729</td>\n",
       "      <td>1.000000</td>\n",
       "      <td>0.081678</td>\n",
       "      <td>0.088681</td>\n",
       "      <td>0.117460</td>\n",
       "      <td>0.047086</td>\n",
       "      <td>0.059340</td>\n",
       "      <td>...</td>\n",
       "      <td>-0.069647</td>\n",
       "      <td>0.014779</td>\n",
       "      <td>-0.075445</td>\n",
       "      <td>-0.088038</td>\n",
       "      <td>-0.005905</td>\n",
       "      <td>-0.051087</td>\n",
       "      <td>0.054212</td>\n",
       "      <td>-0.061020</td>\n",
       "      <td>0.049385</td>\n",
       "      <td>-0.113749</td>\n",
       "    </tr>\n",
       "    <tr>\n",
       "      <th>...</th>\n",
       "      <td>...</td>\n",
       "      <td>...</td>\n",
       "      <td>...</td>\n",
       "      <td>...</td>\n",
       "      <td>...</td>\n",
       "      <td>...</td>\n",
       "      <td>...</td>\n",
       "      <td>...</td>\n",
       "      <td>...</td>\n",
       "      <td>...</td>\n",
       "      <td>...</td>\n",
       "      <td>...</td>\n",
       "      <td>...</td>\n",
       "      <td>...</td>\n",
       "      <td>...</td>\n",
       "      <td>...</td>\n",
       "      <td>...</td>\n",
       "      <td>...</td>\n",
       "      <td>...</td>\n",
       "      <td>...</td>\n",
       "      <td>...</td>\n",
       "    </tr>\n",
       "    <tr>\n",
       "      <th>53_10000_mean_upper</th>\n",
       "      <td>0.030406</td>\n",
       "      <td>-0.084909</td>\n",
       "      <td>0.117338</td>\n",
       "      <td>-0.021488</td>\n",
       "      <td>-0.051087</td>\n",
       "      <td>-0.124472</td>\n",
       "      <td>0.010307</td>\n",
       "      <td>-0.022251</td>\n",
       "      <td>-0.059295</td>\n",
       "      <td>-0.040167</td>\n",
       "      <td>...</td>\n",
       "      <td>0.100811</td>\n",
       "      <td>0.068323</td>\n",
       "      <td>0.036606</td>\n",
       "      <td>0.125564</td>\n",
       "      <td>0.051135</td>\n",
       "      <td>1.000000</td>\n",
       "      <td>0.019160</td>\n",
       "      <td>0.201990</td>\n",
       "      <td>0.169105</td>\n",
       "      <td>0.362374</td>\n",
       "    </tr>\n",
       "    <tr>\n",
       "      <th>53_16800_mean_upper</th>\n",
       "      <td>0.052688</td>\n",
       "      <td>0.083168</td>\n",
       "      <td>0.062225</td>\n",
       "      <td>-0.028175</td>\n",
       "      <td>0.054212</td>\n",
       "      <td>-0.001287</td>\n",
       "      <td>0.024496</td>\n",
       "      <td>-0.060007</td>\n",
       "      <td>-0.018680</td>\n",
       "      <td>0.031562</td>\n",
       "      <td>...</td>\n",
       "      <td>-0.053927</td>\n",
       "      <td>0.083758</td>\n",
       "      <td>-0.159496</td>\n",
       "      <td>-0.043657</td>\n",
       "      <td>-0.083506</td>\n",
       "      <td>0.019160</td>\n",
       "      <td>1.000000</td>\n",
       "      <td>-0.037041</td>\n",
       "      <td>0.199795</td>\n",
       "      <td>0.038476</td>\n",
       "    </tr>\n",
       "    <tr>\n",
       "      <th>53_3000_mean_upper</th>\n",
       "      <td>0.079915</td>\n",
       "      <td>-0.036656</td>\n",
       "      <td>-0.014671</td>\n",
       "      <td>-0.045524</td>\n",
       "      <td>-0.061020</td>\n",
       "      <td>-0.046458</td>\n",
       "      <td>0.180529</td>\n",
       "      <td>-0.109281</td>\n",
       "      <td>-0.107814</td>\n",
       "      <td>-0.003467</td>\n",
       "      <td>...</td>\n",
       "      <td>-0.006313</td>\n",
       "      <td>-0.107074</td>\n",
       "      <td>0.045518</td>\n",
       "      <td>0.151418</td>\n",
       "      <td>0.161551</td>\n",
       "      <td>0.201990</td>\n",
       "      <td>-0.037041</td>\n",
       "      <td>1.000000</td>\n",
       "      <td>0.089773</td>\n",
       "      <td>0.127848</td>\n",
       "    </tr>\n",
       "    <tr>\n",
       "      <th>53_6000_mean_upper</th>\n",
       "      <td>-0.185682</td>\n",
       "      <td>0.139239</td>\n",
       "      <td>0.138791</td>\n",
       "      <td>0.075534</td>\n",
       "      <td>0.049385</td>\n",
       "      <td>-0.033947</td>\n",
       "      <td>0.028951</td>\n",
       "      <td>-0.003819</td>\n",
       "      <td>-0.041714</td>\n",
       "      <td>0.008510</td>\n",
       "      <td>...</td>\n",
       "      <td>0.165900</td>\n",
       "      <td>0.140921</td>\n",
       "      <td>0.062765</td>\n",
       "      <td>0.119953</td>\n",
       "      <td>0.043319</td>\n",
       "      <td>0.169105</td>\n",
       "      <td>0.199795</td>\n",
       "      <td>0.089773</td>\n",
       "      <td>1.000000</td>\n",
       "      <td>0.268988</td>\n",
       "    </tr>\n",
       "    <tr>\n",
       "      <th>53_8000_mean_upper</th>\n",
       "      <td>-0.130478</td>\n",
       "      <td>-0.054297</td>\n",
       "      <td>0.027564</td>\n",
       "      <td>-0.143654</td>\n",
       "      <td>-0.113749</td>\n",
       "      <td>-0.043431</td>\n",
       "      <td>0.066560</td>\n",
       "      <td>0.029256</td>\n",
       "      <td>-0.064561</td>\n",
       "      <td>-0.066291</td>\n",
       "      <td>...</td>\n",
       "      <td>0.020970</td>\n",
       "      <td>0.171070</td>\n",
       "      <td>0.156637</td>\n",
       "      <td>0.231737</td>\n",
       "      <td>0.103067</td>\n",
       "      <td>0.362374</td>\n",
       "      <td>0.038476</td>\n",
       "      <td>0.127848</td>\n",
       "      <td>0.268988</td>\n",
       "      <td>1.000000</td>\n",
       "    </tr>\n",
       "  </tbody>\n",
       "</table>\n",
       "<p>90 rows × 90 columns</p>\n",
       "</div>"
      ],
      "text/plain": [
       "range_delay          13_10000_mean_lower  13_16800_mean_lower  \\\n",
       "range_delay                                                     \n",
       "13_10000_mean_lower             1.000000            -0.044995   \n",
       "13_16800_mean_lower            -0.044995             1.000000   \n",
       "13_3000_mean_lower              0.218945             0.092796   \n",
       "13_6000_mean_lower              0.203749             0.028439   \n",
       "13_8000_mean_lower              0.337109             0.094966   \n",
       "...                                  ...                  ...   \n",
       "53_10000_mean_upper             0.030406            -0.084909   \n",
       "53_16800_mean_upper             0.052688             0.083168   \n",
       "53_3000_mean_upper              0.079915            -0.036656   \n",
       "53_6000_mean_upper             -0.185682             0.139239   \n",
       "53_8000_mean_upper             -0.130478            -0.054297   \n",
       "\n",
       "range_delay          13_3000_mean_lower  13_6000_mean_lower  \\\n",
       "range_delay                                                   \n",
       "13_10000_mean_lower            0.218945            0.203749   \n",
       "13_16800_mean_lower            0.092796            0.028439   \n",
       "13_3000_mean_lower             1.000000            0.263630   \n",
       "13_6000_mean_lower             0.263630            1.000000   \n",
       "13_8000_mean_lower             0.296084            0.389729   \n",
       "...                                 ...                 ...   \n",
       "53_10000_mean_upper            0.117338           -0.021488   \n",
       "53_16800_mean_upper            0.062225           -0.028175   \n",
       "53_3000_mean_upper            -0.014671           -0.045524   \n",
       "53_6000_mean_upper             0.138791            0.075534   \n",
       "53_8000_mean_upper             0.027564           -0.143654   \n",
       "\n",
       "range_delay          13_8000_mean_lower  18_10000_mean_lower  \\\n",
       "range_delay                                                    \n",
       "13_10000_mean_lower            0.337109             0.104585   \n",
       "13_16800_mean_lower            0.094966             0.227812   \n",
       "13_3000_mean_lower             0.296084             0.031327   \n",
       "13_6000_mean_lower             0.389729            -0.047413   \n",
       "13_8000_mean_lower             1.000000             0.081678   \n",
       "...                                 ...                  ...   \n",
       "53_10000_mean_upper           -0.051087            -0.124472   \n",
       "53_16800_mean_upper            0.054212            -0.001287   \n",
       "53_3000_mean_upper            -0.061020            -0.046458   \n",
       "53_6000_mean_upper             0.049385            -0.033947   \n",
       "53_8000_mean_upper            -0.113749            -0.043431   \n",
       "\n",
       "range_delay          18_16800_mean_lower  18_3000_mean_lower  \\\n",
       "range_delay                                                    \n",
       "13_10000_mean_lower             0.101354            0.103795   \n",
       "13_16800_mean_lower             0.051315            0.110596   \n",
       "13_3000_mean_lower              0.157394            0.109706   \n",
       "13_6000_mean_lower             -0.009362            0.046219   \n",
       "13_8000_mean_lower              0.088681            0.117460   \n",
       "...                                  ...                 ...   \n",
       "53_10000_mean_upper             0.010307           -0.022251   \n",
       "53_16800_mean_upper             0.024496           -0.060007   \n",
       "53_3000_mean_upper              0.180529           -0.109281   \n",
       "53_6000_mean_upper              0.028951           -0.003819   \n",
       "53_8000_mean_upper              0.066560            0.029256   \n",
       "\n",
       "range_delay          18_6000_mean_lower  18_8000_mean_lower  ...  \\\n",
       "range_delay                                                  ...   \n",
       "13_10000_mean_lower            0.048853            0.103310  ...   \n",
       "13_16800_mean_lower            0.121634           -0.051341  ...   \n",
       "13_3000_mean_lower             0.004984            0.075344  ...   \n",
       "13_6000_mean_lower             0.028923           -0.031684  ...   \n",
       "13_8000_mean_lower             0.047086            0.059340  ...   \n",
       "...                                 ...                 ...  ...   \n",
       "53_10000_mean_upper           -0.059295           -0.040167  ...   \n",
       "53_16800_mean_upper           -0.018680            0.031562  ...   \n",
       "53_3000_mean_upper            -0.107814           -0.003467  ...   \n",
       "53_6000_mean_upper            -0.041714            0.008510  ...   \n",
       "53_8000_mean_upper            -0.064561           -0.066291  ...   \n",
       "\n",
       "range_delay          48_10000_mean_upper  48_16800_mean_upper  \\\n",
       "range_delay                                                     \n",
       "13_10000_mean_lower            -0.167864            -0.051327   \n",
       "13_16800_mean_lower             0.025029             0.001713   \n",
       "13_3000_mean_lower              0.047055             0.109561   \n",
       "13_6000_mean_lower             -0.035612            -0.020241   \n",
       "13_8000_mean_lower             -0.069647             0.014779   \n",
       "...                                  ...                  ...   \n",
       "53_10000_mean_upper             0.100811             0.068323   \n",
       "53_16800_mean_upper            -0.053927             0.083758   \n",
       "53_3000_mean_upper             -0.006313            -0.107074   \n",
       "53_6000_mean_upper              0.165900             0.140921   \n",
       "53_8000_mean_upper              0.020970             0.171070   \n",
       "\n",
       "range_delay          48_3000_mean_upper  48_6000_mean_upper  \\\n",
       "range_delay                                                   \n",
       "13_10000_mean_lower            0.073362           -0.095444   \n",
       "13_16800_mean_lower           -0.074554           -0.025813   \n",
       "13_3000_mean_lower            -0.006110            0.043122   \n",
       "13_6000_mean_lower            -0.068012           -0.070614   \n",
       "13_8000_mean_lower            -0.075445           -0.088038   \n",
       "...                                 ...                 ...   \n",
       "53_10000_mean_upper            0.036606            0.125564   \n",
       "53_16800_mean_upper           -0.159496           -0.043657   \n",
       "53_3000_mean_upper             0.045518            0.151418   \n",
       "53_6000_mean_upper             0.062765            0.119953   \n",
       "53_8000_mean_upper             0.156637            0.231737   \n",
       "\n",
       "range_delay          48_8000_mean_upper  53_10000_mean_upper  \\\n",
       "range_delay                                                    \n",
       "13_10000_mean_lower           -0.019935             0.030406   \n",
       "13_16800_mean_lower           -0.042944            -0.084909   \n",
       "13_3000_mean_lower             0.024838             0.117338   \n",
       "13_6000_mean_lower             0.032237            -0.021488   \n",
       "13_8000_mean_lower            -0.005905            -0.051087   \n",
       "...                                 ...                  ...   \n",
       "53_10000_mean_upper            0.051135             1.000000   \n",
       "53_16800_mean_upper           -0.083506             0.019160   \n",
       "53_3000_mean_upper             0.161551             0.201990   \n",
       "53_6000_mean_upper             0.043319             0.169105   \n",
       "53_8000_mean_upper             0.103067             0.362374   \n",
       "\n",
       "range_delay          53_16800_mean_upper  53_3000_mean_upper  \\\n",
       "range_delay                                                    \n",
       "13_10000_mean_lower             0.052688            0.079915   \n",
       "13_16800_mean_lower             0.083168           -0.036656   \n",
       "13_3000_mean_lower              0.062225           -0.014671   \n",
       "13_6000_mean_lower             -0.028175           -0.045524   \n",
       "13_8000_mean_lower              0.054212           -0.061020   \n",
       "...                                  ...                 ...   \n",
       "53_10000_mean_upper             0.019160            0.201990   \n",
       "53_16800_mean_upper             1.000000           -0.037041   \n",
       "53_3000_mean_upper             -0.037041            1.000000   \n",
       "53_6000_mean_upper              0.199795            0.089773   \n",
       "53_8000_mean_upper              0.038476            0.127848   \n",
       "\n",
       "range_delay          53_6000_mean_upper  53_8000_mean_upper  \n",
       "range_delay                                                  \n",
       "13_10000_mean_lower           -0.185682           -0.130478  \n",
       "13_16800_mean_lower            0.139239           -0.054297  \n",
       "13_3000_mean_lower             0.138791            0.027564  \n",
       "13_6000_mean_lower             0.075534           -0.143654  \n",
       "13_8000_mean_lower             0.049385           -0.113749  \n",
       "...                                 ...                 ...  \n",
       "53_10000_mean_upper            0.169105            0.362374  \n",
       "53_16800_mean_upper            0.199795            0.038476  \n",
       "53_3000_mean_upper             0.089773            0.127848  \n",
       "53_6000_mean_upper             1.000000            0.268988  \n",
       "53_8000_mean_upper             0.268988            1.000000  \n",
       "\n",
       "[90 rows x 90 columns]"
      ]
     },
     "execution_count": 26,
     "metadata": {},
     "output_type": "execute_result"
    }
   ],
   "source": [
    "# Calculate the correlation matrix for the dataset\n",
    "correlation_matrix = df_range_delay_corr.corr()\n",
    "correlation_matrix\n"
   ]
  },
  {
   "cell_type": "code",
   "execution_count": 27,
   "metadata": {},
   "outputs": [
    {
     "data": {
      "text/html": [
       "<div>\n",
       "<style scoped>\n",
       "    .dataframe tbody tr th:only-of-type {\n",
       "        vertical-align: middle;\n",
       "    }\n",
       "\n",
       "    .dataframe tbody tr th {\n",
       "        vertical-align: top;\n",
       "    }\n",
       "\n",
       "    .dataframe thead th {\n",
       "        text-align: right;\n",
       "    }\n",
       "</style>\n",
       "<table border=\"1\" class=\"dataframe\">\n",
       "  <thead>\n",
       "    <tr style=\"text-align: right;\">\n",
       "      <th></th>\n",
       "      <th>Feature 1</th>\n",
       "      <th>Feature 2</th>\n",
       "      <th>Correlation</th>\n",
       "    </tr>\n",
       "  </thead>\n",
       "  <tbody>\n",
       "    <tr>\n",
       "      <th>0</th>\n",
       "      <td>43_16800_mean_lower</td>\n",
       "      <td>43_16800_mean_upper</td>\n",
       "      <td>0.650273</td>\n",
       "    </tr>\n",
       "  </tbody>\n",
       "</table>\n",
       "</div>"
      ],
      "text/plain": [
       "             Feature 1            Feature 2  Correlation\n",
       "0  43_16800_mean_lower  43_16800_mean_upper     0.650273"
      ]
     },
     "execution_count": 27,
     "metadata": {},
     "output_type": "execute_result"
    }
   ],
   "source": [
    "# Extract pairs of highly correlated features with correlation coefficient above a threshold (e.g., 0.8 or below -0.8)\n",
    "threshold = 0.6\n",
    "highly_correlated_pairs = []\n",
    "\n",
    "for i in range(correlation_matrix.shape[0]):\n",
    "    for j in range(i+1, correlation_matrix.shape[1]):\n",
    "        if abs(correlation_matrix.iloc[i, j]) > threshold:\n",
    "            feature_pair = (correlation_matrix.index[i], correlation_matrix.columns[j], correlation_matrix.iloc[i, j])\n",
    "            highly_correlated_pairs.append(feature_pair)\n",
    "\n",
    "# Convert the list of tuples to a DataFrame for better readability\n",
    "highly_correlated_df = pd.DataFrame(highly_correlated_pairs, columns=['Feature 1', 'Feature 2', 'Correlation'])\n",
    "highly_correlated_df\n"
   ]
  },
  {
   "cell_type": "code",
   "execution_count": 28,
   "metadata": {},
   "outputs": [
    {
     "data": {
      "text/html": [
       "<div>\n",
       "<style scoped>\n",
       "    .dataframe tbody tr th:only-of-type {\n",
       "        vertical-align: middle;\n",
       "    }\n",
       "\n",
       "    .dataframe tbody tr th {\n",
       "        vertical-align: top;\n",
       "    }\n",
       "\n",
       "    .dataframe thead th {\n",
       "        text-align: right;\n",
       "    }\n",
       "</style>\n",
       "<table border=\"1\" class=\"dataframe\">\n",
       "  <thead>\n",
       "    <tr style=\"text-align: right;\">\n",
       "      <th>range_delay</th>\n",
       "      <th>Sensor ID</th>\n",
       "      <th>13_10000_mean_lower</th>\n",
       "      <th>13_16800_mean_lower</th>\n",
       "      <th>13_3000_mean_lower</th>\n",
       "      <th>13_6000_mean_lower</th>\n",
       "      <th>13_8000_mean_lower</th>\n",
       "      <th>18_10000_mean_lower</th>\n",
       "      <th>18_16800_mean_lower</th>\n",
       "      <th>18_3000_mean_lower</th>\n",
       "      <th>18_6000_mean_lower</th>\n",
       "      <th>...</th>\n",
       "      <th>48_10000_mean_upper</th>\n",
       "      <th>48_16800_mean_upper</th>\n",
       "      <th>48_3000_mean_upper</th>\n",
       "      <th>48_6000_mean_upper</th>\n",
       "      <th>48_8000_mean_upper</th>\n",
       "      <th>53_10000_mean_upper</th>\n",
       "      <th>53_16800_mean_upper</th>\n",
       "      <th>53_3000_mean_upper</th>\n",
       "      <th>53_6000_mean_upper</th>\n",
       "      <th>53_8000_mean_upper</th>\n",
       "    </tr>\n",
       "  </thead>\n",
       "  <tbody>\n",
       "    <tr>\n",
       "      <th>0</th>\n",
       "      <td>1</td>\n",
       "      <td>826.520000</td>\n",
       "      <td>826.166667</td>\n",
       "      <td>826.346939</td>\n",
       "      <td>826.360000</td>\n",
       "      <td>826.510204</td>\n",
       "      <td>1070.040000</td>\n",
       "      <td>1059.000000</td>\n",
       "      <td>0.000000</td>\n",
       "      <td>0.0</td>\n",
       "      <td>...</td>\n",
       "      <td>2795.000000</td>\n",
       "      <td>0.000000</td>\n",
       "      <td>2809.400000</td>\n",
       "      <td>2803.000000</td>\n",
       "      <td>2800.333333</td>\n",
       "      <td>2995.545455</td>\n",
       "      <td>0.0</td>\n",
       "      <td>2995.444444</td>\n",
       "      <td>3039.727273</td>\n",
       "      <td>3004.043478</td>\n",
       "    </tr>\n",
       "    <tr>\n",
       "      <th>1</th>\n",
       "      <td>2</td>\n",
       "      <td>0.000000</td>\n",
       "      <td>678.600000</td>\n",
       "      <td>678.500000</td>\n",
       "      <td>678.904762</td>\n",
       "      <td>678.510204</td>\n",
       "      <td>942.166667</td>\n",
       "      <td>0.000000</td>\n",
       "      <td>943.000000</td>\n",
       "      <td>0.0</td>\n",
       "      <td>...</td>\n",
       "      <td>2669.521739</td>\n",
       "      <td>0.000000</td>\n",
       "      <td>0.000000</td>\n",
       "      <td>0.000000</td>\n",
       "      <td>2691.000000</td>\n",
       "      <td>0.000000</td>\n",
       "      <td>2371.0</td>\n",
       "      <td>0.000000</td>\n",
       "      <td>2951.744186</td>\n",
       "      <td>0.000000</td>\n",
       "    </tr>\n",
       "    <tr>\n",
       "      <th>2</th>\n",
       "      <td>3</td>\n",
       "      <td>0.000000</td>\n",
       "      <td>0.000000</td>\n",
       "      <td>0.000000</td>\n",
       "      <td>0.000000</td>\n",
       "      <td>0.000000</td>\n",
       "      <td>1007.000000</td>\n",
       "      <td>0.000000</td>\n",
       "      <td>1005.736842</td>\n",
       "      <td>0.0</td>\n",
       "      <td>...</td>\n",
       "      <td>0.000000</td>\n",
       "      <td>0.000000</td>\n",
       "      <td>2743.000000</td>\n",
       "      <td>2727.000000</td>\n",
       "      <td>0.000000</td>\n",
       "      <td>0.000000</td>\n",
       "      <td>0.0</td>\n",
       "      <td>0.000000</td>\n",
       "      <td>0.000000</td>\n",
       "      <td>0.000000</td>\n",
       "    </tr>\n",
       "    <tr>\n",
       "      <th>3</th>\n",
       "      <td>4</td>\n",
       "      <td>0.000000</td>\n",
       "      <td>0.000000</td>\n",
       "      <td>0.000000</td>\n",
       "      <td>0.000000</td>\n",
       "      <td>0.000000</td>\n",
       "      <td>1023.000000</td>\n",
       "      <td>1029.818182</td>\n",
       "      <td>0.000000</td>\n",
       "      <td>1030.2</td>\n",
       "      <td>...</td>\n",
       "      <td>0.000000</td>\n",
       "      <td>0.000000</td>\n",
       "      <td>0.000000</td>\n",
       "      <td>2755.195122</td>\n",
       "      <td>0.000000</td>\n",
       "      <td>3000.000000</td>\n",
       "      <td>3019.0</td>\n",
       "      <td>3000.116279</td>\n",
       "      <td>2999.930233</td>\n",
       "      <td>3000.116279</td>\n",
       "    </tr>\n",
       "    <tr>\n",
       "      <th>4</th>\n",
       "      <td>5</td>\n",
       "      <td>742.348837</td>\n",
       "      <td>718.333333</td>\n",
       "      <td>0.000000</td>\n",
       "      <td>742.619048</td>\n",
       "      <td>742.428571</td>\n",
       "      <td>0.000000</td>\n",
       "      <td>1024.142857</td>\n",
       "      <td>1023.000000</td>\n",
       "      <td>1022.2</td>\n",
       "      <td>...</td>\n",
       "      <td>0.000000</td>\n",
       "      <td>2755.000000</td>\n",
       "      <td>0.000000</td>\n",
       "      <td>0.000000</td>\n",
       "      <td>0.000000</td>\n",
       "      <td>0.000000</td>\n",
       "      <td>0.0</td>\n",
       "      <td>0.000000</td>\n",
       "      <td>0.000000</td>\n",
       "      <td>0.000000</td>\n",
       "    </tr>\n",
       "    <tr>\n",
       "      <th>...</th>\n",
       "      <td>...</td>\n",
       "      <td>...</td>\n",
       "      <td>...</td>\n",
       "      <td>...</td>\n",
       "      <td>...</td>\n",
       "      <td>...</td>\n",
       "      <td>...</td>\n",
       "      <td>...</td>\n",
       "      <td>...</td>\n",
       "      <td>...</td>\n",
       "      <td>...</td>\n",
       "      <td>...</td>\n",
       "      <td>...</td>\n",
       "      <td>...</td>\n",
       "      <td>...</td>\n",
       "      <td>...</td>\n",
       "      <td>...</td>\n",
       "      <td>...</td>\n",
       "      <td>...</td>\n",
       "      <td>...</td>\n",
       "      <td>...</td>\n",
       "    </tr>\n",
       "    <tr>\n",
       "      <th>164</th>\n",
       "      <td>166</td>\n",
       "      <td>0.000000</td>\n",
       "      <td>699.000000</td>\n",
       "      <td>0.000000</td>\n",
       "      <td>704.000000</td>\n",
       "      <td>704.666667</td>\n",
       "      <td>0.000000</td>\n",
       "      <td>0.000000</td>\n",
       "      <td>0.000000</td>\n",
       "      <td>0.0</td>\n",
       "      <td>...</td>\n",
       "      <td>0.000000</td>\n",
       "      <td>0.000000</td>\n",
       "      <td>0.000000</td>\n",
       "      <td>0.000000</td>\n",
       "      <td>0.000000</td>\n",
       "      <td>0.000000</td>\n",
       "      <td>0.0</td>\n",
       "      <td>0.000000</td>\n",
       "      <td>0.000000</td>\n",
       "      <td>0.000000</td>\n",
       "    </tr>\n",
       "    <tr>\n",
       "      <th>165</th>\n",
       "      <td>167</td>\n",
       "      <td>0.000000</td>\n",
       "      <td>0.000000</td>\n",
       "      <td>0.000000</td>\n",
       "      <td>0.000000</td>\n",
       "      <td>0.000000</td>\n",
       "      <td>0.000000</td>\n",
       "      <td>439.333333</td>\n",
       "      <td>0.000000</td>\n",
       "      <td>0.0</td>\n",
       "      <td>...</td>\n",
       "      <td>0.000000</td>\n",
       "      <td>2741.000000</td>\n",
       "      <td>0.000000</td>\n",
       "      <td>0.000000</td>\n",
       "      <td>2718.111111</td>\n",
       "      <td>0.000000</td>\n",
       "      <td>0.0</td>\n",
       "      <td>3009.000000</td>\n",
       "      <td>0.000000</td>\n",
       "      <td>0.000000</td>\n",
       "    </tr>\n",
       "    <tr>\n",
       "      <th>166</th>\n",
       "      <td>168</td>\n",
       "      <td>0.000000</td>\n",
       "      <td>0.000000</td>\n",
       "      <td>0.000000</td>\n",
       "      <td>0.000000</td>\n",
       "      <td>0.000000</td>\n",
       "      <td>0.000000</td>\n",
       "      <td>988.000000</td>\n",
       "      <td>0.000000</td>\n",
       "      <td>0.0</td>\n",
       "      <td>...</td>\n",
       "      <td>0.000000</td>\n",
       "      <td>0.000000</td>\n",
       "      <td>2740.333333</td>\n",
       "      <td>2741.666667</td>\n",
       "      <td>0.000000</td>\n",
       "      <td>3031.000000</td>\n",
       "      <td>0.0</td>\n",
       "      <td>0.000000</td>\n",
       "      <td>0.000000</td>\n",
       "      <td>3031.000000</td>\n",
       "    </tr>\n",
       "    <tr>\n",
       "      <th>167</th>\n",
       "      <td>169</td>\n",
       "      <td>737.400000</td>\n",
       "      <td>0.000000</td>\n",
       "      <td>743.000000</td>\n",
       "      <td>754.578947</td>\n",
       "      <td>757.909091</td>\n",
       "      <td>1026.666667</td>\n",
       "      <td>0.000000</td>\n",
       "      <td>1023.000000</td>\n",
       "      <td>0.0</td>\n",
       "      <td>...</td>\n",
       "      <td>0.000000</td>\n",
       "      <td>2744.818182</td>\n",
       "      <td>0.000000</td>\n",
       "      <td>0.000000</td>\n",
       "      <td>0.000000</td>\n",
       "      <td>3041.000000</td>\n",
       "      <td>0.0</td>\n",
       "      <td>0.000000</td>\n",
       "      <td>3040.500000</td>\n",
       "      <td>3040.714286</td>\n",
       "    </tr>\n",
       "    <tr>\n",
       "      <th>168</th>\n",
       "      <td>170</td>\n",
       "      <td>0.000000</td>\n",
       "      <td>0.000000</td>\n",
       "      <td>0.000000</td>\n",
       "      <td>0.000000</td>\n",
       "      <td>0.000000</td>\n",
       "      <td>0.000000</td>\n",
       "      <td>0.000000</td>\n",
       "      <td>0.000000</td>\n",
       "      <td>0.0</td>\n",
       "      <td>...</td>\n",
       "      <td>0.000000</td>\n",
       "      <td>2747.000000</td>\n",
       "      <td>0.000000</td>\n",
       "      <td>0.000000</td>\n",
       "      <td>0.000000</td>\n",
       "      <td>0.000000</td>\n",
       "      <td>0.0</td>\n",
       "      <td>0.000000</td>\n",
       "      <td>0.000000</td>\n",
       "      <td>3016.200000</td>\n",
       "    </tr>\n",
       "  </tbody>\n",
       "</table>\n",
       "<p>169 rows × 91 columns</p>\n",
       "</div>"
      ],
      "text/plain": [
       "range_delay  Sensor ID  13_10000_mean_lower  13_16800_mean_lower  \\\n",
       "0                    1           826.520000           826.166667   \n",
       "1                    2             0.000000           678.600000   \n",
       "2                    3             0.000000             0.000000   \n",
       "3                    4             0.000000             0.000000   \n",
       "4                    5           742.348837           718.333333   \n",
       "..                 ...                  ...                  ...   \n",
       "164                166             0.000000           699.000000   \n",
       "165                167             0.000000             0.000000   \n",
       "166                168             0.000000             0.000000   \n",
       "167                169           737.400000             0.000000   \n",
       "168                170             0.000000             0.000000   \n",
       "\n",
       "range_delay  13_3000_mean_lower  13_6000_mean_lower  13_8000_mean_lower  \\\n",
       "0                    826.346939          826.360000          826.510204   \n",
       "1                    678.500000          678.904762          678.510204   \n",
       "2                      0.000000            0.000000            0.000000   \n",
       "3                      0.000000            0.000000            0.000000   \n",
       "4                      0.000000          742.619048          742.428571   \n",
       "..                          ...                 ...                 ...   \n",
       "164                    0.000000          704.000000          704.666667   \n",
       "165                    0.000000            0.000000            0.000000   \n",
       "166                    0.000000            0.000000            0.000000   \n",
       "167                  743.000000          754.578947          757.909091   \n",
       "168                    0.000000            0.000000            0.000000   \n",
       "\n",
       "range_delay  18_10000_mean_lower  18_16800_mean_lower  18_3000_mean_lower  \\\n",
       "0                    1070.040000          1059.000000            0.000000   \n",
       "1                     942.166667             0.000000          943.000000   \n",
       "2                    1007.000000             0.000000         1005.736842   \n",
       "3                    1023.000000          1029.818182            0.000000   \n",
       "4                       0.000000          1024.142857         1023.000000   \n",
       "..                           ...                  ...                 ...   \n",
       "164                     0.000000             0.000000            0.000000   \n",
       "165                     0.000000           439.333333            0.000000   \n",
       "166                     0.000000           988.000000            0.000000   \n",
       "167                  1026.666667             0.000000         1023.000000   \n",
       "168                     0.000000             0.000000            0.000000   \n",
       "\n",
       "range_delay  18_6000_mean_lower  ...  48_10000_mean_upper  \\\n",
       "0                           0.0  ...          2795.000000   \n",
       "1                           0.0  ...          2669.521739   \n",
       "2                           0.0  ...             0.000000   \n",
       "3                        1030.2  ...             0.000000   \n",
       "4                        1022.2  ...             0.000000   \n",
       "..                          ...  ...                  ...   \n",
       "164                         0.0  ...             0.000000   \n",
       "165                         0.0  ...             0.000000   \n",
       "166                         0.0  ...             0.000000   \n",
       "167                         0.0  ...             0.000000   \n",
       "168                         0.0  ...             0.000000   \n",
       "\n",
       "range_delay  48_16800_mean_upper  48_3000_mean_upper  48_6000_mean_upper  \\\n",
       "0                       0.000000         2809.400000         2803.000000   \n",
       "1                       0.000000            0.000000            0.000000   \n",
       "2                       0.000000         2743.000000         2727.000000   \n",
       "3                       0.000000            0.000000         2755.195122   \n",
       "4                    2755.000000            0.000000            0.000000   \n",
       "..                           ...                 ...                 ...   \n",
       "164                     0.000000            0.000000            0.000000   \n",
       "165                  2741.000000            0.000000            0.000000   \n",
       "166                     0.000000         2740.333333         2741.666667   \n",
       "167                  2744.818182            0.000000            0.000000   \n",
       "168                  2747.000000            0.000000            0.000000   \n",
       "\n",
       "range_delay  48_8000_mean_upper  53_10000_mean_upper  53_16800_mean_upper  \\\n",
       "0                   2800.333333          2995.545455                  0.0   \n",
       "1                   2691.000000             0.000000               2371.0   \n",
       "2                      0.000000             0.000000                  0.0   \n",
       "3                      0.000000          3000.000000               3019.0   \n",
       "4                      0.000000             0.000000                  0.0   \n",
       "..                          ...                  ...                  ...   \n",
       "164                    0.000000             0.000000                  0.0   \n",
       "165                 2718.111111             0.000000                  0.0   \n",
       "166                    0.000000          3031.000000                  0.0   \n",
       "167                    0.000000          3041.000000                  0.0   \n",
       "168                    0.000000             0.000000                  0.0   \n",
       "\n",
       "range_delay  53_3000_mean_upper  53_6000_mean_upper  53_8000_mean_upper  \n",
       "0                   2995.444444         3039.727273         3004.043478  \n",
       "1                      0.000000         2951.744186            0.000000  \n",
       "2                      0.000000            0.000000            0.000000  \n",
       "3                   3000.116279         2999.930233         3000.116279  \n",
       "4                      0.000000            0.000000            0.000000  \n",
       "..                          ...                 ...                 ...  \n",
       "164                    0.000000            0.000000            0.000000  \n",
       "165                 3009.000000            0.000000            0.000000  \n",
       "166                    0.000000            0.000000         3031.000000  \n",
       "167                    0.000000         3040.500000         3040.714286  \n",
       "168                    0.000000            0.000000         3016.200000  \n",
       "\n",
       "[169 rows x 91 columns]"
      ]
     },
     "execution_count": 28,
     "metadata": {},
     "output_type": "execute_result"
    }
   ],
   "source": [
    "def drop_highly_correlated_features(df, threshold=0.8):\n",
    "    \"\"\"\n",
    "    Drops highly positively correlated features from a DataFrame.\n",
    "    \n",
    "    Parameters:\n",
    "    df (pd.DataFrame): The input DataFrame.\n",
    "    threshold (float): The correlation threshold for dropping features. Defaults to 0.8.\n",
    "    \n",
    "    Returns:\n",
    "    pd.DataFrame: DataFrame with highly positively correlated features removed.\n",
    "    list: List of dropped features.\n",
    "    \"\"\"\n",
    "    # Calculate the correlation matrix\n",
    "    corr_matrix = df.corr()\n",
    "    \n",
    "    # Identify highly positively correlated pairs\n",
    "    to_drop = set()\n",
    "    for i in range(corr_matrix.shape[0]):\n",
    "        for j in range(i + 1, corr_matrix.shape[1]):\n",
    "            if corr_matrix.iloc[i, j] > threshold:\n",
    "                colname = corr_matrix.columns[j]\n",
    "                to_drop.add(colname)\n",
    "    \n",
    "    # Drop the identified features\n",
    "    reduced_df = df.drop(columns=to_drop)\n",
    "    \n",
    "    return reduced_df, list(to_drop)\n",
    "\n",
    "# Apply the function to the dataset\n",
    "reduced_data_corr, dropped_features_corr = drop_highly_correlated_features(df_range_delay_ends, threshold=0.7)\n",
    "\n",
    "reduced_data_corr"
   ]
  },
  {
   "cell_type": "code",
   "execution_count": 29,
   "metadata": {},
   "outputs": [
    {
     "data": {
      "text/plain": [
       "[]"
      ]
     },
     "execution_count": 29,
     "metadata": {},
     "output_type": "execute_result"
    }
   ],
   "source": [
    "dropped_features_corr"
   ]
  },
  {
   "cell_type": "code",
   "execution_count": 30,
   "metadata": {},
   "outputs": [],
   "source": [
    "def plot_pca_interactive(data, sensor_id_col='Sensor ID', n_components=2):\n",
    "    \"\"\"\n",
    "    Plots an interactive scatter plot using PCA components.\n",
    "\n",
    "    Parameters:\n",
    "    data (pd.DataFrame): The input DataFrame containing features and Sensor ID.\n",
    "    sensor_id_col (str): The name of the column containing sensor IDs.\n",
    "    n_components (int): Number of principal components to compute.\n",
    "\n",
    "    Returns:\n",
    "    None: Displays an interactive Plotly scatter plot.\n",
    "    \"\"\"\n",
    "    # Apply PCA\n",
    "    pca = PCA(n_components=n_components)\n",
    "    principal_components = pca.fit_transform(data.drop(columns=[sensor_id_col]))\n",
    "\n",
    "    # Create a DataFrame with the principal components and Sensor ID\n",
    "    principal_df = pd.DataFrame(data=principal_components, columns=[f'PC{i+1}' for i in range(n_components)])\n",
    "    principal_df[sensor_id_col] = data[sensor_id_col]\n",
    "\n",
    "    # Create an interactive scatter plot using Plotly\n",
    "    fig = px.scatter(\n",
    "        principal_df,\n",
    "        x='PC1',\n",
    "        y='PC2',\n",
    "        color=sensor_id_col,\n",
    "        title='Sensors Visualized Using Principal Components',\n",
    "        labels={'PC1': 'Principal Component 1', 'PC2': 'Principal Component 2'},\n",
    "        hover_data=[sensor_id_col]\n",
    "    )\n",
    "\n",
    "    # Show the plot\n",
    "    fig.show()"
   ]
  },
  {
   "cell_type": "code",
   "execution_count": 31,
   "metadata": {},
   "outputs": [
    {
     "data": {
      "application/vnd.plotly.v1+json": {
       "config": {
        "plotlyServerURL": "https://plot.ly"
       },
       "data": [
        {
         "customdata": [
          [
           1
          ],
          [
           2
          ],
          [
           3
          ],
          [
           4
          ],
          [
           5
          ],
          [
           6
          ],
          [
           7
          ],
          [
           8
          ],
          [
           9
          ],
          [
           10
          ],
          [
           11
          ],
          [
           12
          ],
          [
           13
          ],
          [
           14
          ],
          [
           15
          ],
          [
           16
          ],
          [
           17
          ],
          [
           18
          ],
          [
           19
          ],
          [
           20
          ],
          [
           21
          ],
          [
           22
          ],
          [
           23
          ],
          [
           24
          ],
          [
           25
          ],
          [
           26
          ],
          [
           27
          ],
          [
           28
          ],
          [
           29
          ],
          [
           30
          ],
          [
           32
          ],
          [
           33
          ],
          [
           34
          ],
          [
           35
          ],
          [
           36
          ],
          [
           37
          ],
          [
           38
          ],
          [
           39
          ],
          [
           40
          ],
          [
           41
          ],
          [
           42
          ],
          [
           43
          ],
          [
           44
          ],
          [
           45
          ],
          [
           46
          ],
          [
           47
          ],
          [
           48
          ],
          [
           49
          ],
          [
           50
          ],
          [
           51
          ],
          [
           52
          ],
          [
           53
          ],
          [
           54
          ],
          [
           55
          ],
          [
           56
          ],
          [
           57
          ],
          [
           58
          ],
          [
           59
          ],
          [
           60
          ],
          [
           61
          ],
          [
           62
          ],
          [
           63
          ],
          [
           64
          ],
          [
           65
          ],
          [
           66
          ],
          [
           67
          ],
          [
           68
          ],
          [
           69
          ],
          [
           70
          ],
          [
           71
          ],
          [
           72
          ],
          [
           73
          ],
          [
           74
          ],
          [
           75
          ],
          [
           76
          ],
          [
           77
          ],
          [
           78
          ],
          [
           79
          ],
          [
           80
          ],
          [
           81
          ],
          [
           82
          ],
          [
           83
          ],
          [
           84
          ],
          [
           85
          ],
          [
           86
          ],
          [
           87
          ],
          [
           88
          ],
          [
           89
          ],
          [
           90
          ],
          [
           91
          ],
          [
           92
          ],
          [
           93
          ],
          [
           94
          ],
          [
           95
          ],
          [
           96
          ],
          [
           97
          ],
          [
           98
          ],
          [
           99
          ],
          [
           100
          ],
          [
           101
          ],
          [
           102
          ],
          [
           103
          ],
          [
           104
          ],
          [
           105
          ],
          [
           106
          ],
          [
           107
          ],
          [
           108
          ],
          [
           109
          ],
          [
           110
          ],
          [
           111
          ],
          [
           112
          ],
          [
           113
          ],
          [
           114
          ],
          [
           115
          ],
          [
           116
          ],
          [
           117
          ],
          [
           118
          ],
          [
           119
          ],
          [
           120
          ],
          [
           121
          ],
          [
           122
          ],
          [
           123
          ],
          [
           124
          ],
          [
           125
          ],
          [
           126
          ],
          [
           127
          ],
          [
           128
          ],
          [
           129
          ],
          [
           130
          ],
          [
           131
          ],
          [
           132
          ],
          [
           133
          ],
          [
           134
          ],
          [
           135
          ],
          [
           136
          ],
          [
           137
          ],
          [
           138
          ],
          [
           139
          ],
          [
           140
          ],
          [
           141
          ],
          [
           142
          ],
          [
           143
          ],
          [
           144
          ],
          [
           145
          ],
          [
           146
          ],
          [
           147
          ],
          [
           148
          ],
          [
           149
          ],
          [
           150
          ],
          [
           151
          ],
          [
           152
          ],
          [
           153
          ],
          [
           154
          ],
          [
           155
          ],
          [
           156
          ],
          [
           157
          ],
          [
           158
          ],
          [
           159
          ],
          [
           160
          ],
          [
           161
          ],
          [
           162
          ],
          [
           163
          ],
          [
           164
          ],
          [
           165
          ],
          [
           166
          ],
          [
           167
          ],
          [
           168
          ],
          [
           169
          ],
          [
           170
          ]
         ],
         "hovertemplate": "Principal Component 1=%{x}<br>Principal Component 2=%{y}<br>Sensor ID=%{marker.color}<extra></extra>",
         "legendgroup": "",
         "marker": {
          "color": [
           1,
           2,
           3,
           4,
           5,
           6,
           7,
           8,
           9,
           10,
           11,
           12,
           13,
           14,
           15,
           16,
           17,
           18,
           19,
           20,
           21,
           22,
           23,
           24,
           25,
           26,
           27,
           28,
           29,
           30,
           32,
           33,
           34,
           35,
           36,
           37,
           38,
           39,
           40,
           41,
           42,
           43,
           44,
           45,
           46,
           47,
           48,
           49,
           50,
           51,
           52,
           53,
           54,
           55,
           56,
           57,
           58,
           59,
           60,
           61,
           62,
           63,
           64,
           65,
           66,
           67,
           68,
           69,
           70,
           71,
           72,
           73,
           74,
           75,
           76,
           77,
           78,
           79,
           80,
           81,
           82,
           83,
           84,
           85,
           86,
           87,
           88,
           89,
           90,
           91,
           92,
           93,
           94,
           95,
           96,
           97,
           98,
           99,
           100,
           101,
           102,
           103,
           104,
           105,
           106,
           107,
           108,
           109,
           110,
           111,
           112,
           113,
           114,
           115,
           116,
           117,
           118,
           119,
           120,
           121,
           122,
           123,
           124,
           125,
           126,
           127,
           128,
           129,
           130,
           131,
           132,
           133,
           134,
           135,
           136,
           137,
           138,
           139,
           140,
           141,
           142,
           143,
           144,
           145,
           146,
           147,
           148,
           149,
           150,
           151,
           152,
           153,
           154,
           155,
           156,
           157,
           158,
           159,
           160,
           161,
           162,
           163,
           164,
           165,
           166,
           167,
           168,
           169,
           170
          ],
          "coloraxis": "coloraxis",
          "symbol": "circle"
         },
         "mode": "markers",
         "name": "",
         "orientation": "v",
         "showlegend": false,
         "type": "scatter",
         "x": [
          -7259.202327998807,
          -7314.352505660228,
          -7222.001115206123,
          -8024.321453770214,
          -7974.918595502318,
          -8094.321178803094,
          -7245.9264389462305,
          -8040.41851327317,
          -8033.6132954388495,
          -8052.00842049416,
          -7248.513456548277,
          -7254.978315111095,
          -8050.371195808244,
          -7923.6368128096865,
          -7938.325661496464,
          -8044.846836436278,
          -7945.7223817359345,
          -7987.618622054908,
          -7945.748685041741,
          -7688.388609532311,
          -8153.983994935381,
          -7970.288163900094,
          -7999.725927902796,
          -8042.710320008578,
          -7925.522279606925,
          -8008.560576818714,
          -8014.1855697576675,
          -7978.807440343065,
          -8030.750771261306,
          -7926.239059819356,
          -7938.841083458354,
          -8012.217740969405,
          -7918.664806771718,
          -7181.470865618581,
          -7200.5100083087,
          -8007.052713221875,
          -8000.624073703345,
          -7248.918183870133,
          -7296.583864991801,
          -7981.313548003686,
          -8002.259000682292,
          -7405.292938684595,
          -7267.059219903497,
          -7931.057874743123,
          -8052.7862123489285,
          -8115.159614924622,
          -7971.743132516859,
          -8021.666973652705,
          -8050.312538542773,
          -8022.225159955338,
          -8021.799241576985,
          -8016.066841365343,
          -7992.986657041262,
          -7244.201490535551,
          -7903.602054438077,
          57557.40150613473,
          -8012.533829983477,
          -7203.420513333201,
          -7958.786351647563,
          -7736.606710560599,
          -8015.683751242248,
          -8015.046012328174,
          57551.831240396576,
          -7987.683627684355,
          -7275.917101256903,
          -7187.709115571136,
          -7999.154424980563,
          -8053.629905142161,
          -7960.658589324443,
          -7957.182138856447,
          -7988.6434184281115,
          -7949.81848627373,
          -7219.771071566383,
          -7921.809579225517,
          -7579.471191208741,
          -8002.788117998998,
          -7909.152541728788,
          -7990.374810461576,
          -7303.551019821311,
          -7968.466057745695,
          -7278.832603721047,
          -8118.4791450820285,
          -7300.259630966317,
          -7983.0669398374475,
          -8055.438083571583,
          -8041.731743503257,
          -8138.627108253585,
          -7287.160414407785,
          -7981.940047509184,
          -7984.554582257568,
          -7263.548308240891,
          -7945.405666588684,
          -8048.174573309472,
          -8026.5118382035635,
          -7942.439558341785,
          -7949.375969042976,
          -7942.163378470694,
          -7156.654666928209,
          -8111.917065383473,
          -7254.295012837656,
          -8001.940353003861,
          -7993.570331799167,
          -7135.360411192965,
          -7814.228062587071,
          -7360.9967009032425,
          -7996.17591995084,
          -7954.54156340131,
          57581.0108279457,
          -7094.010689947731,
          -8063.765774811418,
          -7918.269922534045,
          57593.91485200343,
          -7933.080009788456,
          -7320.140691097375,
          -7378.897033664555,
          -7292.66110166692,
          -7966.602203294257,
          -7262.72248338242,
          -8102.3430174488685,
          57564.05990659693,
          -8084.600985172673,
          -7920.294527824276,
          57464.43359375102,
          -7991.467887531177,
          -8041.818854244322,
          57552.06368610859,
          -7255.11300048333,
          -7141.004080924349,
          57478.81622800003,
          -7969.1464635310795,
          -7934.593872693447,
          -7265.158066824225,
          -7210.294331726322,
          -7248.450244086581,
          -7259.572709197669,
          57475.12060572946,
          -8043.870917792141,
          -6040.102005906412,
          -7955.251247989684,
          57601.38931250748,
          -8038.449319126377,
          -7237.108936799154,
          57529.489843228235,
          -7970.58523485604,
          57726.76305841857,
          57531.788103443614,
          57599.066106534854,
          59285.86118110226,
          57501.20477704721,
          57448.4298599082,
          -7959.235388677713,
          -7934.129992184235,
          -7971.768308546382,
          57525.979835394326,
          -7902.807866074126,
          57539.10381507068,
          -7917.564768589584,
          57849.61660910494,
          -5934.272532635606,
          -7198.487674685662,
          -7907.205950247384,
          -7765.882188333183,
          -8001.3452464695665,
          -7952.724293593216,
          -5038.67044779787,
          -7918.150520433597,
          -7963.112631866249,
          -8013.3128682169545,
          -7229.62624421284
         ],
         "xaxis": "x",
         "y": [
          -1777.770882430811,
          -1754.446891405731,
          -1844.3148474963666,
          -723.5245210385231,
          -1707.145483563267,
          -1782.5661889137252,
          -1727.5909498632739,
          -1691.5537781760024,
          -1731.031284630009,
          -1677.5423893491172,
          -1784.94048203642,
          -1700.5782493545232,
          -710.9258482536998,
          -1787.1270537057537,
          -718.4012945722376,
          -1727.919840066433,
          -678.8100660093438,
          -1730.8279861893418,
          -792.1574766002515,
          -1697.9074854476999,
          -1763.7450425899217,
          -1765.9862056029474,
          -1754.9130870923,
          -1761.243483206547,
          -1701.0398159399122,
          -1863.1841392722636,
          -1742.6229353892202,
          -786.4079617543367,
          -715.1105470875625,
          -1828.020827557217,
          -1759.508258066535,
          -1642.091493470224,
          -1776.9828471965345,
          -1817.3795690243742,
          -1839.6061841972821,
          -664.2579821182873,
          -1686.8619873075295,
          -642.3033702831214,
          -775.7916833639528,
          -1799.848308798254,
          -1736.6951425515272,
          -810.7453187524034,
          -1816.5969930725676,
          -1781.9104475635759,
          -1784.1024016044219,
          -1681.7943460090412,
          -697.6710523243135,
          -1727.4774761202436,
          -1718.2868870255093,
          -1902.262535066757,
          -1898.625291423485,
          -1777.064057702543,
          -1811.470358604083,
          -728.0954200801482,
          -1806.857534974075,
          -3802.3921421938758,
          -673.55307756778,
          -1845.4382582377805,
          -650.1771229574516,
          6345.796974120222,
          -1909.8034452998236,
          -1702.446471367331,
          -3046.0803821673358,
          -739.4215747193307,
          -2005.105842034314,
          -1838.1772863535316,
          -1701.166948465364,
          -1680.8065702288236,
          -1836.7191033358847,
          -1880.080865191687,
          -1786.726410362082,
          -1753.977725056285,
          -771.9322903421133,
          -1753.3274203506471,
          12165.184957206304,
          -1799.7334686609631,
          -759.4181055812808,
          -1761.1488166470972,
          -1891.1991009644369,
          -610.9275896474294,
          -1740.449347012959,
          -1821.4922360777382,
          -1676.7262714380417,
          -679.8531451631941,
          -1777.8668647688673,
          -1742.2709232269426,
          -1688.3160211374066,
          -1779.6915032548075,
          -1775.1307120493805,
          -1760.8151798518566,
          -1767.1893799453667,
          -813.9028508937424,
          -1670.088445728528,
          -1863.8058665828048,
          -745.8802547768812,
          -662.3651813985782,
          -1747.3344376824025,
          -678.7939220523461,
          -1721.848623028098,
          -598.9002452018701,
          -633.7233806062205,
          -1664.8301232538158,
          -845.5371371479525,
          -1696.6515002124909,
          -1659.8370023109305,
          -707.9461626726963,
          -1768.553473695159,
          -3895.4285765743884,
          -710.3862686658326,
          -1718.164901651297,
          -1747.7164612557383,
          -3908.8742036645986,
          -800.1801021752487,
          -1825.6526437929901,
          -1808.3479153004644,
          -1795.788055441276,
          -737.6565666602846,
          -1748.332702024253,
          -1647.1305341251286,
          -3818.8638681573498,
          -1814.892097969612,
          -666.4856797488244,
          -3674.058230925709,
          -1803.0134085645047,
          -1679.4413847252815,
          -3913.4594983673273,
          -1843.5056770454999,
          -1775.9091184106032,
          -3181.146536823661,
          -602.9603625839272,
          -1818.3146104458617,
          -718.5371257700875,
          -1715.645210141254,
          -1778.9453140504713,
          -1754.6365294174595,
          -3888.75136543753,
          -1667.8340633079238,
          63961.39899869161,
          -1798.2861000348396,
          -2815.416168300781,
          -1827.238452620138,
          -1860.0949326551067,
          -3802.4505118133034,
          -760.9533072062007,
          -2938.8454596235824,
          -3891.5608299057894,
          -3972.9992553962475,
          48708.314728350546,
          -3030.633497224045,
          -3809.302099341066,
          -1751.0197623162558,
          -1774.4665319723538,
          -1705.7859596231533,
          -3887.99477104483,
          -755.9625770386639,
          -2776.36623210121,
          -1778.59461098342,
          7786.108131424759,
          63892.265707875275,
          -1895.373177156574,
          -734.9201645827509,
          8434.791697545521,
          -1798.1422188762417,
          -702.0312029214846,
          63770.179176463,
          -799.2474293726103,
          -773.390726802261,
          -1746.7222730684196,
          -1812.9789062722423
         ],
         "yaxis": "y"
        }
       ],
       "layout": {
        "coloraxis": {
         "colorbar": {
          "title": {
           "text": "Sensor ID"
          }
         },
         "colorscale": [
          [
           0,
           "#0d0887"
          ],
          [
           0.1111111111111111,
           "#46039f"
          ],
          [
           0.2222222222222222,
           "#7201a8"
          ],
          [
           0.3333333333333333,
           "#9c179e"
          ],
          [
           0.4444444444444444,
           "#bd3786"
          ],
          [
           0.5555555555555556,
           "#d8576b"
          ],
          [
           0.6666666666666666,
           "#ed7953"
          ],
          [
           0.7777777777777778,
           "#fb9f3a"
          ],
          [
           0.8888888888888888,
           "#fdca26"
          ],
          [
           1,
           "#f0f921"
          ]
         ]
        },
        "legend": {
         "tracegroupgap": 0
        },
        "template": {
         "data": {
          "bar": [
           {
            "error_x": {
             "color": "#2a3f5f"
            },
            "error_y": {
             "color": "#2a3f5f"
            },
            "marker": {
             "line": {
              "color": "#E5ECF6",
              "width": 0.5
             },
             "pattern": {
              "fillmode": "overlay",
              "size": 10,
              "solidity": 0.2
             }
            },
            "type": "bar"
           }
          ],
          "barpolar": [
           {
            "marker": {
             "line": {
              "color": "#E5ECF6",
              "width": 0.5
             },
             "pattern": {
              "fillmode": "overlay",
              "size": 10,
              "solidity": 0.2
             }
            },
            "type": "barpolar"
           }
          ],
          "carpet": [
           {
            "aaxis": {
             "endlinecolor": "#2a3f5f",
             "gridcolor": "white",
             "linecolor": "white",
             "minorgridcolor": "white",
             "startlinecolor": "#2a3f5f"
            },
            "baxis": {
             "endlinecolor": "#2a3f5f",
             "gridcolor": "white",
             "linecolor": "white",
             "minorgridcolor": "white",
             "startlinecolor": "#2a3f5f"
            },
            "type": "carpet"
           }
          ],
          "choropleth": [
           {
            "colorbar": {
             "outlinewidth": 0,
             "ticks": ""
            },
            "type": "choropleth"
           }
          ],
          "contour": [
           {
            "colorbar": {
             "outlinewidth": 0,
             "ticks": ""
            },
            "colorscale": [
             [
              0,
              "#0d0887"
             ],
             [
              0.1111111111111111,
              "#46039f"
             ],
             [
              0.2222222222222222,
              "#7201a8"
             ],
             [
              0.3333333333333333,
              "#9c179e"
             ],
             [
              0.4444444444444444,
              "#bd3786"
             ],
             [
              0.5555555555555556,
              "#d8576b"
             ],
             [
              0.6666666666666666,
              "#ed7953"
             ],
             [
              0.7777777777777778,
              "#fb9f3a"
             ],
             [
              0.8888888888888888,
              "#fdca26"
             ],
             [
              1,
              "#f0f921"
             ]
            ],
            "type": "contour"
           }
          ],
          "contourcarpet": [
           {
            "colorbar": {
             "outlinewidth": 0,
             "ticks": ""
            },
            "type": "contourcarpet"
           }
          ],
          "heatmap": [
           {
            "colorbar": {
             "outlinewidth": 0,
             "ticks": ""
            },
            "colorscale": [
             [
              0,
              "#0d0887"
             ],
             [
              0.1111111111111111,
              "#46039f"
             ],
             [
              0.2222222222222222,
              "#7201a8"
             ],
             [
              0.3333333333333333,
              "#9c179e"
             ],
             [
              0.4444444444444444,
              "#bd3786"
             ],
             [
              0.5555555555555556,
              "#d8576b"
             ],
             [
              0.6666666666666666,
              "#ed7953"
             ],
             [
              0.7777777777777778,
              "#fb9f3a"
             ],
             [
              0.8888888888888888,
              "#fdca26"
             ],
             [
              1,
              "#f0f921"
             ]
            ],
            "type": "heatmap"
           }
          ],
          "heatmapgl": [
           {
            "colorbar": {
             "outlinewidth": 0,
             "ticks": ""
            },
            "colorscale": [
             [
              0,
              "#0d0887"
             ],
             [
              0.1111111111111111,
              "#46039f"
             ],
             [
              0.2222222222222222,
              "#7201a8"
             ],
             [
              0.3333333333333333,
              "#9c179e"
             ],
             [
              0.4444444444444444,
              "#bd3786"
             ],
             [
              0.5555555555555556,
              "#d8576b"
             ],
             [
              0.6666666666666666,
              "#ed7953"
             ],
             [
              0.7777777777777778,
              "#fb9f3a"
             ],
             [
              0.8888888888888888,
              "#fdca26"
             ],
             [
              1,
              "#f0f921"
             ]
            ],
            "type": "heatmapgl"
           }
          ],
          "histogram": [
           {
            "marker": {
             "pattern": {
              "fillmode": "overlay",
              "size": 10,
              "solidity": 0.2
             }
            },
            "type": "histogram"
           }
          ],
          "histogram2d": [
           {
            "colorbar": {
             "outlinewidth": 0,
             "ticks": ""
            },
            "colorscale": [
             [
              0,
              "#0d0887"
             ],
             [
              0.1111111111111111,
              "#46039f"
             ],
             [
              0.2222222222222222,
              "#7201a8"
             ],
             [
              0.3333333333333333,
              "#9c179e"
             ],
             [
              0.4444444444444444,
              "#bd3786"
             ],
             [
              0.5555555555555556,
              "#d8576b"
             ],
             [
              0.6666666666666666,
              "#ed7953"
             ],
             [
              0.7777777777777778,
              "#fb9f3a"
             ],
             [
              0.8888888888888888,
              "#fdca26"
             ],
             [
              1,
              "#f0f921"
             ]
            ],
            "type": "histogram2d"
           }
          ],
          "histogram2dcontour": [
           {
            "colorbar": {
             "outlinewidth": 0,
             "ticks": ""
            },
            "colorscale": [
             [
              0,
              "#0d0887"
             ],
             [
              0.1111111111111111,
              "#46039f"
             ],
             [
              0.2222222222222222,
              "#7201a8"
             ],
             [
              0.3333333333333333,
              "#9c179e"
             ],
             [
              0.4444444444444444,
              "#bd3786"
             ],
             [
              0.5555555555555556,
              "#d8576b"
             ],
             [
              0.6666666666666666,
              "#ed7953"
             ],
             [
              0.7777777777777778,
              "#fb9f3a"
             ],
             [
              0.8888888888888888,
              "#fdca26"
             ],
             [
              1,
              "#f0f921"
             ]
            ],
            "type": "histogram2dcontour"
           }
          ],
          "mesh3d": [
           {
            "colorbar": {
             "outlinewidth": 0,
             "ticks": ""
            },
            "type": "mesh3d"
           }
          ],
          "parcoords": [
           {
            "line": {
             "colorbar": {
              "outlinewidth": 0,
              "ticks": ""
             }
            },
            "type": "parcoords"
           }
          ],
          "pie": [
           {
            "automargin": true,
            "type": "pie"
           }
          ],
          "scatter": [
           {
            "fillpattern": {
             "fillmode": "overlay",
             "size": 10,
             "solidity": 0.2
            },
            "type": "scatter"
           }
          ],
          "scatter3d": [
           {
            "line": {
             "colorbar": {
              "outlinewidth": 0,
              "ticks": ""
             }
            },
            "marker": {
             "colorbar": {
              "outlinewidth": 0,
              "ticks": ""
             }
            },
            "type": "scatter3d"
           }
          ],
          "scattercarpet": [
           {
            "marker": {
             "colorbar": {
              "outlinewidth": 0,
              "ticks": ""
             }
            },
            "type": "scattercarpet"
           }
          ],
          "scattergeo": [
           {
            "marker": {
             "colorbar": {
              "outlinewidth": 0,
              "ticks": ""
             }
            },
            "type": "scattergeo"
           }
          ],
          "scattergl": [
           {
            "marker": {
             "colorbar": {
              "outlinewidth": 0,
              "ticks": ""
             }
            },
            "type": "scattergl"
           }
          ],
          "scattermapbox": [
           {
            "marker": {
             "colorbar": {
              "outlinewidth": 0,
              "ticks": ""
             }
            },
            "type": "scattermapbox"
           }
          ],
          "scatterpolar": [
           {
            "marker": {
             "colorbar": {
              "outlinewidth": 0,
              "ticks": ""
             }
            },
            "type": "scatterpolar"
           }
          ],
          "scatterpolargl": [
           {
            "marker": {
             "colorbar": {
              "outlinewidth": 0,
              "ticks": ""
             }
            },
            "type": "scatterpolargl"
           }
          ],
          "scatterternary": [
           {
            "marker": {
             "colorbar": {
              "outlinewidth": 0,
              "ticks": ""
             }
            },
            "type": "scatterternary"
           }
          ],
          "surface": [
           {
            "colorbar": {
             "outlinewidth": 0,
             "ticks": ""
            },
            "colorscale": [
             [
              0,
              "#0d0887"
             ],
             [
              0.1111111111111111,
              "#46039f"
             ],
             [
              0.2222222222222222,
              "#7201a8"
             ],
             [
              0.3333333333333333,
              "#9c179e"
             ],
             [
              0.4444444444444444,
              "#bd3786"
             ],
             [
              0.5555555555555556,
              "#d8576b"
             ],
             [
              0.6666666666666666,
              "#ed7953"
             ],
             [
              0.7777777777777778,
              "#fb9f3a"
             ],
             [
              0.8888888888888888,
              "#fdca26"
             ],
             [
              1,
              "#f0f921"
             ]
            ],
            "type": "surface"
           }
          ],
          "table": [
           {
            "cells": {
             "fill": {
              "color": "#EBF0F8"
             },
             "line": {
              "color": "white"
             }
            },
            "header": {
             "fill": {
              "color": "#C8D4E3"
             },
             "line": {
              "color": "white"
             }
            },
            "type": "table"
           }
          ]
         },
         "layout": {
          "annotationdefaults": {
           "arrowcolor": "#2a3f5f",
           "arrowhead": 0,
           "arrowwidth": 1
          },
          "autotypenumbers": "strict",
          "coloraxis": {
           "colorbar": {
            "outlinewidth": 0,
            "ticks": ""
           }
          },
          "colorscale": {
           "diverging": [
            [
             0,
             "#8e0152"
            ],
            [
             0.1,
             "#c51b7d"
            ],
            [
             0.2,
             "#de77ae"
            ],
            [
             0.3,
             "#f1b6da"
            ],
            [
             0.4,
             "#fde0ef"
            ],
            [
             0.5,
             "#f7f7f7"
            ],
            [
             0.6,
             "#e6f5d0"
            ],
            [
             0.7,
             "#b8e186"
            ],
            [
             0.8,
             "#7fbc41"
            ],
            [
             0.9,
             "#4d9221"
            ],
            [
             1,
             "#276419"
            ]
           ],
           "sequential": [
            [
             0,
             "#0d0887"
            ],
            [
             0.1111111111111111,
             "#46039f"
            ],
            [
             0.2222222222222222,
             "#7201a8"
            ],
            [
             0.3333333333333333,
             "#9c179e"
            ],
            [
             0.4444444444444444,
             "#bd3786"
            ],
            [
             0.5555555555555556,
             "#d8576b"
            ],
            [
             0.6666666666666666,
             "#ed7953"
            ],
            [
             0.7777777777777778,
             "#fb9f3a"
            ],
            [
             0.8888888888888888,
             "#fdca26"
            ],
            [
             1,
             "#f0f921"
            ]
           ],
           "sequentialminus": [
            [
             0,
             "#0d0887"
            ],
            [
             0.1111111111111111,
             "#46039f"
            ],
            [
             0.2222222222222222,
             "#7201a8"
            ],
            [
             0.3333333333333333,
             "#9c179e"
            ],
            [
             0.4444444444444444,
             "#bd3786"
            ],
            [
             0.5555555555555556,
             "#d8576b"
            ],
            [
             0.6666666666666666,
             "#ed7953"
            ],
            [
             0.7777777777777778,
             "#fb9f3a"
            ],
            [
             0.8888888888888888,
             "#fdca26"
            ],
            [
             1,
             "#f0f921"
            ]
           ]
          },
          "colorway": [
           "#636efa",
           "#EF553B",
           "#00cc96",
           "#ab63fa",
           "#FFA15A",
           "#19d3f3",
           "#FF6692",
           "#B6E880",
           "#FF97FF",
           "#FECB52"
          ],
          "font": {
           "color": "#2a3f5f"
          },
          "geo": {
           "bgcolor": "white",
           "lakecolor": "white",
           "landcolor": "#E5ECF6",
           "showlakes": true,
           "showland": true,
           "subunitcolor": "white"
          },
          "hoverlabel": {
           "align": "left"
          },
          "hovermode": "closest",
          "mapbox": {
           "style": "light"
          },
          "paper_bgcolor": "white",
          "plot_bgcolor": "#E5ECF6",
          "polar": {
           "angularaxis": {
            "gridcolor": "white",
            "linecolor": "white",
            "ticks": ""
           },
           "bgcolor": "#E5ECF6",
           "radialaxis": {
            "gridcolor": "white",
            "linecolor": "white",
            "ticks": ""
           }
          },
          "scene": {
           "xaxis": {
            "backgroundcolor": "#E5ECF6",
            "gridcolor": "white",
            "gridwidth": 2,
            "linecolor": "white",
            "showbackground": true,
            "ticks": "",
            "zerolinecolor": "white"
           },
           "yaxis": {
            "backgroundcolor": "#E5ECF6",
            "gridcolor": "white",
            "gridwidth": 2,
            "linecolor": "white",
            "showbackground": true,
            "ticks": "",
            "zerolinecolor": "white"
           },
           "zaxis": {
            "backgroundcolor": "#E5ECF6",
            "gridcolor": "white",
            "gridwidth": 2,
            "linecolor": "white",
            "showbackground": true,
            "ticks": "",
            "zerolinecolor": "white"
           }
          },
          "shapedefaults": {
           "line": {
            "color": "#2a3f5f"
           }
          },
          "ternary": {
           "aaxis": {
            "gridcolor": "white",
            "linecolor": "white",
            "ticks": ""
           },
           "baxis": {
            "gridcolor": "white",
            "linecolor": "white",
            "ticks": ""
           },
           "bgcolor": "#E5ECF6",
           "caxis": {
            "gridcolor": "white",
            "linecolor": "white",
            "ticks": ""
           }
          },
          "title": {
           "x": 0.05
          },
          "xaxis": {
           "automargin": true,
           "gridcolor": "white",
           "linecolor": "white",
           "ticks": "",
           "title": {
            "standoff": 15
           },
           "zerolinecolor": "white",
           "zerolinewidth": 2
          },
          "yaxis": {
           "automargin": true,
           "gridcolor": "white",
           "linecolor": "white",
           "ticks": "",
           "title": {
            "standoff": 15
           },
           "zerolinecolor": "white",
           "zerolinewidth": 2
          }
         }
        },
        "title": {
         "text": "Sensors Visualized Using Principal Components"
        },
        "xaxis": {
         "anchor": "y",
         "domain": [
          0,
          1
         ],
         "title": {
          "text": "Principal Component 1"
         }
        },
        "yaxis": {
         "anchor": "x",
         "domain": [
          0,
          1
         ],
         "title": {
          "text": "Principal Component 2"
         }
        }
       }
      }
     },
     "metadata": {},
     "output_type": "display_data"
    }
   ],
   "source": [
    "# Plot the PCA interactive plot\n",
    "plot_pca_interactive(df_range_delay_ends, sensor_id_col='Sensor ID', n_components=2)"
   ]
  },
  {
   "cell_type": "markdown",
   "metadata": {},
   "source": [
    "Try PCA on reduced data"
   ]
  },
  {
   "cell_type": "code",
   "execution_count": 32,
   "metadata": {},
   "outputs": [
    {
     "data": {
      "image/png": "[encoded data removed]",
      "text/plain": [
       "<Figure size 1000x600 with 1 Axes>"
      ]
     },
     "metadata": {},
     "output_type": "display_data"
    }
   ],
   "source": [
    "explained_variance_corr, loadings_corr, features_corr = process_PCA(reduced_data_corr)"
   ]
  },
  {
   "cell_type": "code",
   "execution_count": 33,
   "metadata": {},
   "outputs": [
    {
     "data": {
      "text/html": [
       "<div>\n",
       "<style scoped>\n",
       "    .dataframe tbody tr th:only-of-type {\n",
       "        vertical-align: middle;\n",
       "    }\n",
       "\n",
       "    .dataframe tbody tr th {\n",
       "        vertical-align: top;\n",
       "    }\n",
       "\n",
       "    .dataframe thead th {\n",
       "        text-align: right;\n",
       "    }\n",
       "</style>\n",
       "<table border=\"1\" class=\"dataframe\">\n",
       "  <thead>\n",
       "    <tr style=\"text-align: right;\">\n",
       "      <th></th>\n",
       "      <th>PC1</th>\n",
       "      <th>PC2</th>\n",
       "      <th>PC3</th>\n",
       "      <th>PC4</th>\n",
       "      <th>PC5</th>\n",
       "      <th>PC6</th>\n",
       "      <th>PC7</th>\n",
       "      <th>PC8</th>\n",
       "      <th>PC9</th>\n",
       "      <th>PC10</th>\n",
       "      <th>...</th>\n",
       "      <th>PC81</th>\n",
       "      <th>PC82</th>\n",
       "      <th>PC83</th>\n",
       "      <th>PC84</th>\n",
       "      <th>PC85</th>\n",
       "      <th>PC86</th>\n",
       "      <th>PC87</th>\n",
       "      <th>PC88</th>\n",
       "      <th>PC89</th>\n",
       "      <th>PC90</th>\n",
       "    </tr>\n",
       "    <tr>\n",
       "      <th>range_delay</th>\n",
       "      <th></th>\n",
       "      <th></th>\n",
       "      <th></th>\n",
       "      <th></th>\n",
       "      <th></th>\n",
       "      <th></th>\n",
       "      <th></th>\n",
       "      <th></th>\n",
       "      <th></th>\n",
       "      <th></th>\n",
       "      <th></th>\n",
       "      <th></th>\n",
       "      <th></th>\n",
       "      <th></th>\n",
       "      <th></th>\n",
       "      <th></th>\n",
       "      <th></th>\n",
       "      <th></th>\n",
       "      <th></th>\n",
       "      <th></th>\n",
       "      <th></th>\n",
       "    </tr>\n",
       "  </thead>\n",
       "  <tbody>\n",
       "    <tr>\n",
       "      <th>13_10000_mean_lower</th>\n",
       "      <td>0.197082</td>\n",
       "      <td>-0.108621</td>\n",
       "      <td>0.145531</td>\n",
       "      <td>-0.133419</td>\n",
       "      <td>0.099524</td>\n",
       "      <td>-0.028660</td>\n",
       "      <td>0.071524</td>\n",
       "      <td>-0.038081</td>\n",
       "      <td>-0.116308</td>\n",
       "      <td>-0.029639</td>\n",
       "      <td>...</td>\n",
       "      <td>0.044008</td>\n",
       "      <td>0.096204</td>\n",
       "      <td>-0.026596</td>\n",
       "      <td>-0.022109</td>\n",
       "      <td>0.020941</td>\n",
       "      <td>0.009140</td>\n",
       "      <td>-0.027134</td>\n",
       "      <td>0.085247</td>\n",
       "      <td>-0.057353</td>\n",
       "      <td>-0.177912</td>\n",
       "    </tr>\n",
       "    <tr>\n",
       "      <th>13_16800_mean_lower</th>\n",
       "      <td>0.076907</td>\n",
       "      <td>-0.102406</td>\n",
       "      <td>-0.004736</td>\n",
       "      <td>0.105646</td>\n",
       "      <td>-0.001841</td>\n",
       "      <td>-0.118284</td>\n",
       "      <td>-0.071249</td>\n",
       "      <td>-0.091511</td>\n",
       "      <td>-0.053617</td>\n",
       "      <td>-0.094337</td>\n",
       "      <td>...</td>\n",
       "      <td>-0.093769</td>\n",
       "      <td>-0.052047</td>\n",
       "      <td>-0.096572</td>\n",
       "      <td>0.053615</td>\n",
       "      <td>0.010047</td>\n",
       "      <td>-0.089369</td>\n",
       "      <td>0.106974</td>\n",
       "      <td>-0.030142</td>\n",
       "      <td>-0.182670</td>\n",
       "      <td>-0.017222</td>\n",
       "    </tr>\n",
       "    <tr>\n",
       "      <th>13_3000_mean_lower</th>\n",
       "      <td>0.193016</td>\n",
       "      <td>-0.044750</td>\n",
       "      <td>0.180793</td>\n",
       "      <td>-0.029912</td>\n",
       "      <td>0.034254</td>\n",
       "      <td>0.099338</td>\n",
       "      <td>-0.093015</td>\n",
       "      <td>-0.170305</td>\n",
       "      <td>0.007964</td>\n",
       "      <td>0.110902</td>\n",
       "      <td>...</td>\n",
       "      <td>-0.014107</td>\n",
       "      <td>-0.052164</td>\n",
       "      <td>-0.120148</td>\n",
       "      <td>-0.216508</td>\n",
       "      <td>-0.084423</td>\n",
       "      <td>-0.006982</td>\n",
       "      <td>-0.192436</td>\n",
       "      <td>0.041506</td>\n",
       "      <td>0.211306</td>\n",
       "      <td>-0.003872</td>\n",
       "    </tr>\n",
       "    <tr>\n",
       "      <th>13_6000_mean_lower</th>\n",
       "      <td>0.109424</td>\n",
       "      <td>-0.105655</td>\n",
       "      <td>0.182504</td>\n",
       "      <td>-0.162062</td>\n",
       "      <td>0.111034</td>\n",
       "      <td>-0.031611</td>\n",
       "      <td>0.006547</td>\n",
       "      <td>-0.111394</td>\n",
       "      <td>-0.021149</td>\n",
       "      <td>0.077285</td>\n",
       "      <td>...</td>\n",
       "      <td>0.047827</td>\n",
       "      <td>0.016827</td>\n",
       "      <td>-0.111645</td>\n",
       "      <td>0.111215</td>\n",
       "      <td>-0.107724</td>\n",
       "      <td>-0.033059</td>\n",
       "      <td>0.078588</td>\n",
       "      <td>-0.147112</td>\n",
       "      <td>-0.046550</td>\n",
       "      <td>0.029519</td>\n",
       "    </tr>\n",
       "    <tr>\n",
       "      <th>13_8000_mean_lower</th>\n",
       "      <td>0.176649</td>\n",
       "      <td>-0.106398</td>\n",
       "      <td>0.145653</td>\n",
       "      <td>-0.163358</td>\n",
       "      <td>0.084754</td>\n",
       "      <td>-0.139275</td>\n",
       "      <td>0.044013</td>\n",
       "      <td>-0.123507</td>\n",
       "      <td>0.051729</td>\n",
       "      <td>0.042288</td>\n",
       "      <td>...</td>\n",
       "      <td>-0.039446</td>\n",
       "      <td>-0.121146</td>\n",
       "      <td>0.142396</td>\n",
       "      <td>0.147101</td>\n",
       "      <td>0.239903</td>\n",
       "      <td>0.105761</td>\n",
       "      <td>0.048460</td>\n",
       "      <td>0.134304</td>\n",
       "      <td>-0.050634</td>\n",
       "      <td>0.114000</td>\n",
       "    </tr>\n",
       "    <tr>\n",
       "      <th>...</th>\n",
       "      <td>...</td>\n",
       "      <td>...</td>\n",
       "      <td>...</td>\n",
       "      <td>...</td>\n",
       "      <td>...</td>\n",
       "      <td>...</td>\n",
       "      <td>...</td>\n",
       "      <td>...</td>\n",
       "      <td>...</td>\n",
       "      <td>...</td>\n",
       "      <td>...</td>\n",
       "      <td>...</td>\n",
       "      <td>...</td>\n",
       "      <td>...</td>\n",
       "      <td>...</td>\n",
       "      <td>...</td>\n",
       "      <td>...</td>\n",
       "      <td>...</td>\n",
       "      <td>...</td>\n",
       "      <td>...</td>\n",
       "      <td>...</td>\n",
       "    </tr>\n",
       "    <tr>\n",
       "      <th>53_10000_mean_upper</th>\n",
       "      <td>0.052545</td>\n",
       "      <td>0.215546</td>\n",
       "      <td>0.105785</td>\n",
       "      <td>0.028520</td>\n",
       "      <td>-0.059890</td>\n",
       "      <td>0.071409</td>\n",
       "      <td>-0.101705</td>\n",
       "      <td>-0.118743</td>\n",
       "      <td>-0.109591</td>\n",
       "      <td>-0.056623</td>\n",
       "      <td>...</td>\n",
       "      <td>0.109847</td>\n",
       "      <td>-0.011999</td>\n",
       "      <td>-0.064789</td>\n",
       "      <td>0.012287</td>\n",
       "      <td>-0.242073</td>\n",
       "      <td>0.007123</td>\n",
       "      <td>0.074740</td>\n",
       "      <td>0.046971</td>\n",
       "      <td>-0.096121</td>\n",
       "      <td>0.027412</td>\n",
       "    </tr>\n",
       "    <tr>\n",
       "      <th>53_16800_mean_upper</th>\n",
       "      <td>0.124859</td>\n",
       "      <td>-0.006110</td>\n",
       "      <td>0.016262</td>\n",
       "      <td>0.214096</td>\n",
       "      <td>-0.082252</td>\n",
       "      <td>-0.106790</td>\n",
       "      <td>0.193035</td>\n",
       "      <td>-0.025419</td>\n",
       "      <td>-0.079258</td>\n",
       "      <td>-0.091522</td>\n",
       "      <td>...</td>\n",
       "      <td>-0.081908</td>\n",
       "      <td>0.020184</td>\n",
       "      <td>-0.063536</td>\n",
       "      <td>0.010593</td>\n",
       "      <td>0.043681</td>\n",
       "      <td>-0.032155</td>\n",
       "      <td>0.084139</td>\n",
       "      <td>-0.001719</td>\n",
       "      <td>-0.063730</td>\n",
       "      <td>-0.115494</td>\n",
       "    </tr>\n",
       "    <tr>\n",
       "      <th>53_3000_mean_upper</th>\n",
       "      <td>0.110562</td>\n",
       "      <td>0.089675</td>\n",
       "      <td>-0.050982</td>\n",
       "      <td>-0.128595</td>\n",
       "      <td>-0.202315</td>\n",
       "      <td>0.135911</td>\n",
       "      <td>-0.048572</td>\n",
       "      <td>0.000826</td>\n",
       "      <td>-0.193449</td>\n",
       "      <td>-0.173074</td>\n",
       "      <td>...</td>\n",
       "      <td>-0.086440</td>\n",
       "      <td>0.076415</td>\n",
       "      <td>-0.028062</td>\n",
       "      <td>-0.134938</td>\n",
       "      <td>0.136699</td>\n",
       "      <td>0.166540</td>\n",
       "      <td>0.148123</td>\n",
       "      <td>0.003362</td>\n",
       "      <td>0.112436</td>\n",
       "      <td>-0.047621</td>\n",
       "    </tr>\n",
       "    <tr>\n",
       "      <th>53_6000_mean_upper</th>\n",
       "      <td>0.150620</td>\n",
       "      <td>0.122365</td>\n",
       "      <td>-0.045128</td>\n",
       "      <td>0.089464</td>\n",
       "      <td>-0.072944</td>\n",
       "      <td>0.019302</td>\n",
       "      <td>-0.046166</td>\n",
       "      <td>-0.173505</td>\n",
       "      <td>0.160944</td>\n",
       "      <td>-0.054899</td>\n",
       "      <td>...</td>\n",
       "      <td>-0.069798</td>\n",
       "      <td>-0.021213</td>\n",
       "      <td>0.050679</td>\n",
       "      <td>-0.125821</td>\n",
       "      <td>0.048782</td>\n",
       "      <td>0.096672</td>\n",
       "      <td>-0.140575</td>\n",
       "      <td>-0.029395</td>\n",
       "      <td>-0.037204</td>\n",
       "      <td>-0.175617</td>\n",
       "    </tr>\n",
       "    <tr>\n",
       "      <th>53_8000_mean_upper</th>\n",
       "      <td>0.027948</td>\n",
       "      <td>0.177480</td>\n",
       "      <td>-0.073210</td>\n",
       "      <td>0.060544</td>\n",
       "      <td>-0.125054</td>\n",
       "      <td>0.148433</td>\n",
       "      <td>-0.135552</td>\n",
       "      <td>-0.186302</td>\n",
       "      <td>0.040103</td>\n",
       "      <td>-0.030272</td>\n",
       "      <td>...</td>\n",
       "      <td>-0.073432</td>\n",
       "      <td>0.038995</td>\n",
       "      <td>-0.027940</td>\n",
       "      <td>0.034748</td>\n",
       "      <td>0.114137</td>\n",
       "      <td>-0.156308</td>\n",
       "      <td>0.133163</td>\n",
       "      <td>0.054150</td>\n",
       "      <td>0.185022</td>\n",
       "      <td>0.190198</td>\n",
       "    </tr>\n",
       "  </tbody>\n",
       "</table>\n",
       "<p>90 rows × 90 columns</p>\n",
       "</div>"
      ],
      "text/plain": [
       "                          PC1       PC2       PC3       PC4       PC5  \\\n",
       "range_delay                                                             \n",
       "13_10000_mean_lower  0.197082 -0.108621  0.145531 -0.133419  0.099524   \n",
       "13_16800_mean_lower  0.076907 -0.102406 -0.004736  0.105646 -0.001841   \n",
       "13_3000_mean_lower   0.193016 -0.044750  0.180793 -0.029912  0.034254   \n",
       "13_6000_mean_lower   0.109424 -0.105655  0.182504 -0.162062  0.111034   \n",
       "13_8000_mean_lower   0.176649 -0.106398  0.145653 -0.163358  0.084754   \n",
       "...                       ...       ...       ...       ...       ...   \n",
       "53_10000_mean_upper  0.052545  0.215546  0.105785  0.028520 -0.059890   \n",
       "53_16800_mean_upper  0.124859 -0.006110  0.016262  0.214096 -0.082252   \n",
       "53_3000_mean_upper   0.110562  0.089675 -0.050982 -0.128595 -0.202315   \n",
       "53_6000_mean_upper   0.150620  0.122365 -0.045128  0.089464 -0.072944   \n",
       "53_8000_mean_upper   0.027948  0.177480 -0.073210  0.060544 -0.125054   \n",
       "\n",
       "                          PC6       PC7       PC8       PC9      PC10  ...  \\\n",
       "range_delay                                                            ...   \n",
       "13_10000_mean_lower -0.028660  0.071524 -0.038081 -0.116308 -0.029639  ...   \n",
       "13_16800_mean_lower -0.118284 -0.071249 -0.091511 -0.053617 -0.094337  ...   \n",
       "13_3000_mean_lower   0.099338 -0.093015 -0.170305  0.007964  0.110902  ...   \n",
       "13_6000_mean_lower  -0.031611  0.006547 -0.111394 -0.021149  0.077285  ...   \n",
       "13_8000_mean_lower  -0.139275  0.044013 -0.123507  0.051729  0.042288  ...   \n",
       "...                       ...       ...       ...       ...       ...  ...   \n",
       "53_10000_mean_upper  0.071409 -0.101705 -0.118743 -0.109591 -0.056623  ...   \n",
       "53_16800_mean_upper -0.106790  0.193035 -0.025419 -0.079258 -0.091522  ...   \n",
       "53_3000_mean_upper   0.135911 -0.048572  0.000826 -0.193449 -0.173074  ...   \n",
       "53_6000_mean_upper   0.019302 -0.046166 -0.173505  0.160944 -0.054899  ...   \n",
       "53_8000_mean_upper   0.148433 -0.135552 -0.186302  0.040103 -0.030272  ...   \n",
       "\n",
       "                         PC81      PC82      PC83      PC84      PC85  \\\n",
       "range_delay                                                             \n",
       "13_10000_mean_lower  0.044008  0.096204 -0.026596 -0.022109  0.020941   \n",
       "13_16800_mean_lower -0.093769 -0.052047 -0.096572  0.053615  0.010047   \n",
       "13_3000_mean_lower  -0.014107 -0.052164 -0.120148 -0.216508 -0.084423   \n",
       "13_6000_mean_lower   0.047827  0.016827 -0.111645  0.111215 -0.107724   \n",
       "13_8000_mean_lower  -0.039446 -0.121146  0.142396  0.147101  0.239903   \n",
       "...                       ...       ...       ...       ...       ...   \n",
       "53_10000_mean_upper  0.109847 -0.011999 -0.064789  0.012287 -0.242073   \n",
       "53_16800_mean_upper -0.081908  0.020184 -0.063536  0.010593  0.043681   \n",
       "53_3000_mean_upper  -0.086440  0.076415 -0.028062 -0.134938  0.136699   \n",
       "53_6000_mean_upper  -0.069798 -0.021213  0.050679 -0.125821  0.048782   \n",
       "53_8000_mean_upper  -0.073432  0.038995 -0.027940  0.034748  0.114137   \n",
       "\n",
       "                         PC86      PC87      PC88      PC89      PC90  \n",
       "range_delay                                                            \n",
       "13_10000_mean_lower  0.009140 -0.027134  0.085247 -0.057353 -0.177912  \n",
       "13_16800_mean_lower -0.089369  0.106974 -0.030142 -0.182670 -0.017222  \n",
       "13_3000_mean_lower  -0.006982 -0.192436  0.041506  0.211306 -0.003872  \n",
       "13_6000_mean_lower  -0.033059  0.078588 -0.147112 -0.046550  0.029519  \n",
       "13_8000_mean_lower   0.105761  0.048460  0.134304 -0.050634  0.114000  \n",
       "...                       ...       ...       ...       ...       ...  \n",
       "53_10000_mean_upper  0.007123  0.074740  0.046971 -0.096121  0.027412  \n",
       "53_16800_mean_upper -0.032155  0.084139 -0.001719 -0.063730 -0.115494  \n",
       "53_3000_mean_upper   0.166540  0.148123  0.003362  0.112436 -0.047621  \n",
       "53_6000_mean_upper   0.096672 -0.140575 -0.029395 -0.037204 -0.175617  \n",
       "53_8000_mean_upper  -0.156308  0.133163  0.054150  0.185022  0.190198  \n",
       "\n",
       "[90 rows x 90 columns]"
      ]
     },
     "execution_count": 33,
     "metadata": {},
     "output_type": "execute_result"
    }
   ],
   "source": [
    "# Create a DataFrame for the loadings\n",
    "loading_df_corr = pd.DataFrame(loadings_corr.T, columns=[f'PC{i+1}' for i in range(loadings_corr.shape[0])], index=features_corr.columns)\n",
    "loading_df_corr"
   ]
  },
  {
   "cell_type": "code",
   "execution_count": 34,
   "metadata": {},
   "outputs": [
    {
     "data": {
      "text/html": [
       "<div>\n",
       "<style scoped>\n",
       "    .dataframe tbody tr th:only-of-type {\n",
       "        vertical-align: middle;\n",
       "    }\n",
       "\n",
       "    .dataframe tbody tr th {\n",
       "        vertical-align: top;\n",
       "    }\n",
       "\n",
       "    .dataframe thead th {\n",
       "        text-align: right;\n",
       "    }\n",
       "</style>\n",
       "<table border=\"1\" class=\"dataframe\">\n",
       "  <thead>\n",
       "    <tr style=\"text-align: right;\">\n",
       "      <th></th>\n",
       "      <th>Feature</th>\n",
       "      <th>Importance</th>\n",
       "    </tr>\n",
       "  </thead>\n",
       "  <tbody>\n",
       "    <tr>\n",
       "      <th>69</th>\n",
       "      <td>33_8000_mean_upper</td>\n",
       "      <td>5.159576</td>\n",
       "    </tr>\n",
       "    <tr>\n",
       "      <th>28</th>\n",
       "      <td>38_6000_mean_lower</td>\n",
       "      <td>5.158496</td>\n",
       "    </tr>\n",
       "    <tr>\n",
       "      <th>17</th>\n",
       "      <td>28_3000_mean_lower</td>\n",
       "      <td>5.045020</td>\n",
       "    </tr>\n",
       "    <tr>\n",
       "      <th>12</th>\n",
       "      <td>23_3000_mean_lower</td>\n",
       "      <td>5.024632</td>\n",
       "    </tr>\n",
       "    <tr>\n",
       "      <th>1</th>\n",
       "      <td>13_16800_mean_lower</td>\n",
       "      <td>5.007598</td>\n",
       "    </tr>\n",
       "    <tr>\n",
       "      <th>...</th>\n",
       "      <td>...</td>\n",
       "      <td>...</td>\n",
       "    </tr>\n",
       "    <tr>\n",
       "      <th>16</th>\n",
       "      <td>28_16800_mean_lower</td>\n",
       "      <td>4.027102</td>\n",
       "    </tr>\n",
       "    <tr>\n",
       "      <th>76</th>\n",
       "      <td>43_16800_mean_upper</td>\n",
       "      <td>4.002320</td>\n",
       "    </tr>\n",
       "    <tr>\n",
       "      <th>26</th>\n",
       "      <td>38_16800_mean_lower</td>\n",
       "      <td>3.999151</td>\n",
       "    </tr>\n",
       "    <tr>\n",
       "      <th>8</th>\n",
       "      <td>18_6000_mean_lower</td>\n",
       "      <td>3.959341</td>\n",
       "    </tr>\n",
       "    <tr>\n",
       "      <th>41</th>\n",
       "      <td>53_16800_mean_lower</td>\n",
       "      <td>3.904419</td>\n",
       "    </tr>\n",
       "  </tbody>\n",
       "</table>\n",
       "<p>90 rows × 2 columns</p>\n",
       "</div>"
      ],
      "text/plain": [
       "                Feature  Importance\n",
       "69   33_8000_mean_upper    5.159576\n",
       "28   38_6000_mean_lower    5.158496\n",
       "17   28_3000_mean_lower    5.045020\n",
       "12   23_3000_mean_lower    5.024632\n",
       "1   13_16800_mean_lower    5.007598\n",
       "..                  ...         ...\n",
       "16  28_16800_mean_lower    4.027102\n",
       "76  43_16800_mean_upper    4.002320\n",
       "26  38_16800_mean_lower    3.999151\n",
       "8    18_6000_mean_lower    3.959341\n",
       "41  53_16800_mean_lower    3.904419\n",
       "\n",
       "[90 rows x 2 columns]"
      ]
     },
     "execution_count": 34,
     "metadata": {},
     "output_type": "execute_result"
    }
   ],
   "source": [
    "# Determine the number of components to retain 90% variance\n",
    "cumulative_variance = np.cumsum(explained_variance_corr)\n",
    "num_components = np.argmax(cumulative_variance >= 0.9) + 1\n",
    "\n",
    "# Get the loadings for the selected components\n",
    "selected_loadings_corr = loadings_corr[:num_components, :]\n",
    "\n",
    "# Calculate the importance of each feature by summing the absolute values of its loadings across the selected components\n",
    "feature_importance_corr = np.sum(np.abs(selected_loadings_corr), axis=0)\n",
    "\n",
    "# Create a DataFrame for feature importance\n",
    "feature_importance_df_corr = pd.DataFrame({'Feature': features_corr.columns, 'Importance': feature_importance_corr})\n",
    "\n",
    "# Sort the features by importance\n",
    "feature_importance_df_corr = feature_importance_df_corr.sort_values(by='Importance', ascending=False)\n",
    "\n",
    "# Select the top N features (e.g., top 10 features)\n",
    "top_features_corr = feature_importance_df_corr.head(200)\n",
    "\n",
    "top_features_corr"
   ]
  },
  {
   "cell_type": "code",
   "execution_count": 35,
   "metadata": {},
   "outputs": [
    {
     "data": {
      "application/vnd.plotly.v1+json": {
       "config": {
        "plotlyServerURL": "https://plot.ly"
       },
       "data": [
        {
         "customdata": [
          [
           1
          ],
          [
           2
          ],
          [
           3
          ],
          [
           4
          ],
          [
           5
          ],
          [
           6
          ],
          [
           7
          ],
          [
           8
          ],
          [
           9
          ],
          [
           10
          ],
          [
           11
          ],
          [
           12
          ],
          [
           13
          ],
          [
           14
          ],
          [
           15
          ],
          [
           16
          ],
          [
           17
          ],
          [
           18
          ],
          [
           19
          ],
          [
           20
          ],
          [
           21
          ],
          [
           22
          ],
          [
           23
          ],
          [
           24
          ],
          [
           25
          ],
          [
           26
          ],
          [
           27
          ],
          [
           28
          ],
          [
           29
          ],
          [
           30
          ],
          [
           32
          ],
          [
           33
          ],
          [
           34
          ],
          [
           35
          ],
          [
           36
          ],
          [
           37
          ],
          [
           38
          ],
          [
           39
          ],
          [
           40
          ],
          [
           41
          ],
          [
           42
          ],
          [
           43
          ],
          [
           44
          ],
          [
           45
          ],
          [
           46
          ],
          [
           47
          ],
          [
           48
          ],
          [
           49
          ],
          [
           50
          ],
          [
           51
          ],
          [
           52
          ],
          [
           53
          ],
          [
           54
          ],
          [
           55
          ],
          [
           56
          ],
          [
           57
          ],
          [
           58
          ],
          [
           59
          ],
          [
           60
          ],
          [
           61
          ],
          [
           62
          ],
          [
           63
          ],
          [
           64
          ],
          [
           65
          ],
          [
           66
          ],
          [
           67
          ],
          [
           68
          ],
          [
           69
          ],
          [
           70
          ],
          [
           71
          ],
          [
           72
          ],
          [
           73
          ],
          [
           74
          ],
          [
           75
          ],
          [
           76
          ],
          [
           77
          ],
          [
           78
          ],
          [
           79
          ],
          [
           80
          ],
          [
           81
          ],
          [
           82
          ],
          [
           83
          ],
          [
           84
          ],
          [
           85
          ],
          [
           86
          ],
          [
           87
          ],
          [
           88
          ],
          [
           89
          ],
          [
           90
          ],
          [
           91
          ],
          [
           92
          ],
          [
           93
          ],
          [
           94
          ],
          [
           95
          ],
          [
           96
          ],
          [
           97
          ],
          [
           98
          ],
          [
           99
          ],
          [
           100
          ],
          [
           101
          ],
          [
           102
          ],
          [
           103
          ],
          [
           104
          ],
          [
           105
          ],
          [
           106
          ],
          [
           107
          ],
          [
           108
          ],
          [
           109
          ],
          [
           110
          ],
          [
           111
          ],
          [
           112
          ],
          [
           113
          ],
          [
           114
          ],
          [
           115
          ],
          [
           116
          ],
          [
           117
          ],
          [
           118
          ],
          [
           119
          ],
          [
           120
          ],
          [
           121
          ],
          [
           122
          ],
          [
           123
          ],
          [
           124
          ],
          [
           125
          ],
          [
           126
          ],
          [
           127
          ],
          [
           128
          ],
          [
           129
          ],
          [
           130
          ],
          [
           131
          ],
          [
           132
          ],
          [
           133
          ],
          [
           134
          ],
          [
           135
          ],
          [
           136
          ],
          [
           137
          ],
          [
           138
          ],
          [
           139
          ],
          [
           140
          ],
          [
           141
          ],
          [
           142
          ],
          [
           143
          ],
          [
           144
          ],
          [
           145
          ],
          [
           146
          ],
          [
           147
          ],
          [
           148
          ],
          [
           149
          ],
          [
           150
          ],
          [
           151
          ],
          [
           152
          ],
          [
           153
          ],
          [
           154
          ],
          [
           155
          ],
          [
           156
          ],
          [
           157
          ],
          [
           158
          ],
          [
           159
          ],
          [
           160
          ],
          [
           161
          ],
          [
           162
          ],
          [
           163
          ],
          [
           164
          ],
          [
           165
          ],
          [
           166
          ],
          [
           167
          ],
          [
           168
          ],
          [
           169
          ],
          [
           170
          ]
         ],
         "hovertemplate": "Principal Component 1=%{x}<br>Principal Component 2=%{y}<br>Sensor ID=%{marker.color}<extra></extra>",
         "legendgroup": "",
         "marker": {
          "color": [
           1,
           2,
           3,
           4,
           5,
           6,
           7,
           8,
           9,
           10,
           11,
           12,
           13,
           14,
           15,
           16,
           17,
           18,
           19,
           20,
           21,
           22,
           23,
           24,
           25,
           26,
           27,
           28,
           29,
           30,
           32,
           33,
           34,
           35,
           36,
           37,
           38,
           39,
           40,
           41,
           42,
           43,
           44,
           45,
           46,
           47,
           48,
           49,
           50,
           51,
           52,
           53,
           54,
           55,
           56,
           57,
           58,
           59,
           60,
           61,
           62,
           63,
           64,
           65,
           66,
           67,
           68,
           69,
           70,
           71,
           72,
           73,
           74,
           75,
           76,
           77,
           78,
           79,
           80,
           81,
           82,
           83,
           84,
           85,
           86,
           87,
           88,
           89,
           90,
           91,
           92,
           93,
           94,
           95,
           96,
           97,
           98,
           99,
           100,
           101,
           102,
           103,
           104,
           105,
           106,
           107,
           108,
           109,
           110,
           111,
           112,
           113,
           114,
           115,
           116,
           117,
           118,
           119,
           120,
           121,
           122,
           123,
           124,
           125,
           126,
           127,
           128,
           129,
           130,
           131,
           132,
           133,
           134,
           135,
           136,
           137,
           138,
           139,
           140,
           141,
           142,
           143,
           144,
           145,
           146,
           147,
           148,
           149,
           150,
           151,
           152,
           153,
           154,
           155,
           156,
           157,
           158,
           159,
           160,
           161,
           162,
           163,
           164,
           165,
           166,
           167,
           168,
           169,
           170
          ],
          "coloraxis": "coloraxis",
          "symbol": "circle"
         },
         "mode": "markers",
         "name": "",
         "orientation": "v",
         "showlegend": false,
         "type": "scatter",
         "x": [
          -7259.202327998807,
          -7314.352505660228,
          -7222.001115206123,
          -8024.321453770214,
          -7974.918595502318,
          -8094.321178803094,
          -7245.9264389462305,
          -8040.41851327317,
          -8033.6132954388495,
          -8052.00842049416,
          -7248.513456548277,
          -7254.978315111095,
          -8050.371195808244,
          -7923.6368128096865,
          -7938.325661496464,
          -8044.846836436278,
          -7945.7223817359345,
          -7987.618622054908,
          -7945.748685041741,
          -7688.388609532311,
          -8153.983994935381,
          -7970.288163900094,
          -7999.725927902796,
          -8042.710320008578,
          -7925.522279606925,
          -8008.560576818714,
          -8014.1855697576675,
          -7978.807440343065,
          -8030.750771261306,
          -7926.239059819356,
          -7938.841083458354,
          -8012.217740969405,
          -7918.664806771718,
          -7181.470865618581,
          -7200.5100083087,
          -8007.052713221875,
          -8000.624073703345,
          -7248.918183870133,
          -7296.583864991801,
          -7981.313548003686,
          -8002.259000682292,
          -7405.292938684595,
          -7267.059219903497,
          -7931.057874743123,
          -8052.7862123489285,
          -8115.159614924622,
          -7971.743132516859,
          -8021.666973652705,
          -8050.312538542773,
          -8022.225159955338,
          -8021.799241576985,
          -8016.066841365343,
          -7992.986657041262,
          -7244.201490535551,
          -7903.602054438077,
          57557.40150613473,
          -8012.533829983477,
          -7203.420513333201,
          -7958.786351647563,
          -7736.606710560599,
          -8015.683751242248,
          -8015.046012328174,
          57551.831240396576,
          -7987.683627684355,
          -7275.917101256903,
          -7187.709115571136,
          -7999.154424980563,
          -8053.629905142161,
          -7960.658589324443,
          -7957.182138856447,
          -7988.6434184281115,
          -7949.81848627373,
          -7219.771071566383,
          -7921.809579225517,
          -7579.471191208741,
          -8002.788117998998,
          -7909.152541728788,
          -7990.374810461576,
          -7303.551019821311,
          -7968.466057745695,
          -7278.832603721047,
          -8118.4791450820285,
          -7300.259630966317,
          -7983.0669398374475,
          -8055.438083571583,
          -8041.731743503257,
          -8138.627108253585,
          -7287.160414407785,
          -7981.940047509184,
          -7984.554582257568,
          -7263.548308240891,
          -7945.405666588684,
          -8048.174573309472,
          -8026.5118382035635,
          -7942.439558341785,
          -7949.375969042976,
          -7942.163378470694,
          -7156.654666928209,
          -8111.917065383473,
          -7254.295012837656,
          -8001.940353003861,
          -7993.570331799167,
          -7135.360411192965,
          -7814.228062587071,
          -7360.9967009032425,
          -7996.17591995084,
          -7954.54156340131,
          57581.0108279457,
          -7094.010689947731,
          -8063.765774811418,
          -7918.269922534045,
          57593.91485200343,
          -7933.080009788456,
          -7320.140691097375,
          -7378.897033664555,
          -7292.66110166692,
          -7966.602203294257,
          -7262.72248338242,
          -8102.3430174488685,
          57564.05990659693,
          -8084.600985172673,
          -7920.294527824276,
          57464.43359375102,
          -7991.467887531177,
          -8041.818854244322,
          57552.06368610859,
          -7255.11300048333,
          -7141.004080924349,
          57478.81622800003,
          -7969.1464635310795,
          -7934.593872693447,
          -7265.158066824225,
          -7210.294331726322,
          -7248.450244086581,
          -7259.572709197669,
          57475.12060572946,
          -8043.870917792141,
          -6040.102005906412,
          -7955.251247989684,
          57601.38931250748,
          -8038.449319126377,
          -7237.108936799154,
          57529.489843228235,
          -7970.58523485604,
          57726.76305841857,
          57531.788103443614,
          57599.066106534854,
          59285.86118110226,
          57501.20477704721,
          57448.4298599082,
          -7959.235388677713,
          -7934.129992184235,
          -7971.768308546382,
          57525.979835394326,
          -7902.807866074126,
          57539.10381507068,
          -7917.564768589584,
          57849.61660910494,
          -5934.272532635606,
          -7198.487674685662,
          -7907.205950247384,
          -7765.882188333183,
          -8001.3452464695665,
          -7952.724293593216,
          -5038.67044779787,
          -7918.150520433597,
          -7963.112631866249,
          -8013.3128682169545,
          -7229.62624421284
         ],
         "xaxis": "x",
         "y": [
          -1777.770882430811,
          -1754.446891405731,
          -1844.3148474963666,
          -723.5245210385231,
          -1707.145483563267,
          -1782.5661889137252,
          -1727.5909498632739,
          -1691.5537781760024,
          -1731.031284630009,
          -1677.5423893491172,
          -1784.94048203642,
          -1700.5782493545232,
          -710.9258482536998,
          -1787.1270537057537,
          -718.4012945722376,
          -1727.919840066433,
          -678.8100660093438,
          -1730.8279861893418,
          -792.1574766002515,
          -1697.9074854476999,
          -1763.7450425899217,
          -1765.9862056029474,
          -1754.9130870923,
          -1761.243483206547,
          -1701.0398159399122,
          -1863.1841392722636,
          -1742.6229353892202,
          -786.4079617543367,
          -715.1105470875625,
          -1828.020827557217,
          -1759.508258066535,
          -1642.091493470224,
          -1776.9828471965345,
          -1817.3795690243742,
          -1839.6061841972821,
          -664.2579821182873,
          -1686.8619873075295,
          -642.3033702831214,
          -775.7916833639528,
          -1799.848308798254,
          -1736.6951425515272,
          -810.7453187524034,
          -1816.5969930725676,
          -1781.9104475635759,
          -1784.1024016044219,
          -1681.7943460090412,
          -697.6710523243135,
          -1727.4774761202436,
          -1718.2868870255093,
          -1902.262535066757,
          -1898.625291423485,
          -1777.064057702543,
          -1811.470358604083,
          -728.0954200801482,
          -1806.857534974075,
          -3802.3921421938758,
          -673.55307756778,
          -1845.4382582377805,
          -650.1771229574516,
          6345.796974120222,
          -1909.8034452998236,
          -1702.446471367331,
          -3046.0803821673358,
          -739.4215747193307,
          -2005.105842034314,
          -1838.1772863535316,
          -1701.166948465364,
          -1680.8065702288236,
          -1836.7191033358847,
          -1880.080865191687,
          -1786.726410362082,
          -1753.977725056285,
          -771.9322903421133,
          -1753.3274203506471,
          12165.184957206304,
          -1799.7334686609631,
          -759.4181055812808,
          -1761.1488166470972,
          -1891.1991009644369,
          -610.9275896474294,
          -1740.449347012959,
          -1821.4922360777382,
          -1676.7262714380417,
          -679.8531451631941,
          -1777.8668647688673,
          -1742.2709232269426,
          -1688.3160211374066,
          -1779.6915032548075,
          -1775.1307120493805,
          -1760.8151798518566,
          -1767.1893799453667,
          -813.9028508937424,
          -1670.088445728528,
          -1863.8058665828048,
          -745.8802547768812,
          -662.3651813985782,
          -1747.3344376824025,
          -678.7939220523461,
          -1721.848623028098,
          -598.9002452018701,
          -633.7233806062205,
          -1664.8301232538158,
          -845.5371371479525,
          -1696.6515002124909,
          -1659.8370023109305,
          -707.9461626726963,
          -1768.553473695159,
          -3895.4285765743884,
          -710.3862686658326,
          -1718.164901651297,
          -1747.7164612557383,
          -3908.8742036645986,
          -800.1801021752487,
          -1825.6526437929901,
          -1808.3479153004644,
          -1795.788055441276,
          -737.6565666602846,
          -1748.332702024253,
          -1647.1305341251286,
          -3818.8638681573498,
          -1814.892097969612,
          -666.4856797488244,
          -3674.058230925709,
          -1803.0134085645047,
          -1679.4413847252815,
          -3913.4594983673273,
          -1843.5056770454999,
          -1775.9091184106032,
          -3181.146536823661,
          -602.9603625839272,
          -1818.3146104458617,
          -718.5371257700875,
          -1715.645210141254,
          -1778.9453140504713,
          -1754.6365294174595,
          -3888.75136543753,
          -1667.8340633079238,
          63961.39899869161,
          -1798.2861000348396,
          -2815.416168300781,
          -1827.238452620138,
          -1860.0949326551067,
          -3802.4505118133034,
          -760.9533072062007,
          -2938.8454596235824,
          -3891.5608299057894,
          -3972.9992553962475,
          48708.314728350546,
          -3030.633497224045,
          -3809.302099341066,
          -1751.0197623162558,
          -1774.4665319723538,
          -1705.7859596231533,
          -3887.99477104483,
          -755.9625770386639,
          -2776.36623210121,
          -1778.59461098342,
          7786.108131424759,
          63892.265707875275,
          -1895.373177156574,
          -734.9201645827509,
          8434.791697545521,
          -1798.1422188762417,
          -702.0312029214846,
          63770.179176463,
          -799.2474293726103,
          -773.390726802261,
          -1746.7222730684196,
          -1812.9789062722423
         ],
         "yaxis": "y"
        }
       ],
       "layout": {
        "coloraxis": {
         "colorbar": {
          "title": {
           "text": "Sensor ID"
          }
         },
         "colorscale": [
          [
           0,
           "#0d0887"
          ],
          [
           0.1111111111111111,
           "#46039f"
          ],
          [
           0.2222222222222222,
           "#7201a8"
          ],
          [
           0.3333333333333333,
           "#9c179e"
          ],
          [
           0.4444444444444444,
           "#bd3786"
          ],
          [
           0.5555555555555556,
           "#d8576b"
          ],
          [
           0.6666666666666666,
           "#ed7953"
          ],
          [
           0.7777777777777778,
           "#fb9f3a"
          ],
          [
           0.8888888888888888,
           "#fdca26"
          ],
          [
           1,
           "#f0f921"
          ]
         ]
        },
        "legend": {
         "tracegroupgap": 0
        },
        "template": {
         "data": {
          "bar": [
           {
            "error_x": {
             "color": "#2a3f5f"
            },
            "error_y": {
             "color": "#2a3f5f"
            },
            "marker": {
             "line": {
              "color": "#E5ECF6",
              "width": 0.5
             },
             "pattern": {
              "fillmode": "overlay",
              "size": 10,
              "solidity": 0.2
             }
            },
            "type": "bar"
           }
          ],
          "barpolar": [
           {
            "marker": {
             "line": {
              "color": "#E5ECF6",
              "width": 0.5
             },
             "pattern": {
              "fillmode": "overlay",
              "size": 10,
              "solidity": 0.2
             }
            },
            "type": "barpolar"
           }
          ],
          "carpet": [
           {
            "aaxis": {
             "endlinecolor": "#2a3f5f",
             "gridcolor": "white",
             "linecolor": "white",
             "minorgridcolor": "white",
             "startlinecolor": "#2a3f5f"
            },
            "baxis": {
             "endlinecolor": "#2a3f5f",
             "gridcolor": "white",
             "linecolor": "white",
             "minorgridcolor": "white",
             "startlinecolor": "#2a3f5f"
            },
            "type": "carpet"
           }
          ],
          "choropleth": [
           {
            "colorbar": {
             "outlinewidth": 0,
             "ticks": ""
            },
            "type": "choropleth"
           }
          ],
          "contour": [
           {
            "colorbar": {
             "outlinewidth": 0,
             "ticks": ""
            },
            "colorscale": [
             [
              0,
              "#0d0887"
             ],
             [
              0.1111111111111111,
              "#46039f"
             ],
             [
              0.2222222222222222,
              "#7201a8"
             ],
             [
              0.3333333333333333,
              "#9c179e"
             ],
             [
              0.4444444444444444,
              "#bd3786"
             ],
             [
              0.5555555555555556,
              "#d8576b"
             ],
             [
              0.6666666666666666,
              "#ed7953"
             ],
             [
              0.7777777777777778,
              "#fb9f3a"
             ],
             [
              0.8888888888888888,
              "#fdca26"
             ],
             [
              1,
              "#f0f921"
             ]
            ],
            "type": "contour"
           }
          ],
          "contourcarpet": [
           {
            "colorbar": {
             "outlinewidth": 0,
             "ticks": ""
            },
            "type": "contourcarpet"
           }
          ],
          "heatmap": [
           {
            "colorbar": {
             "outlinewidth": 0,
             "ticks": ""
            },
            "colorscale": [
             [
              0,
              "#0d0887"
             ],
             [
              0.1111111111111111,
              "#46039f"
             ],
             [
              0.2222222222222222,
              "#7201a8"
             ],
             [
              0.3333333333333333,
              "#9c179e"
             ],
             [
              0.4444444444444444,
              "#bd3786"
             ],
             [
              0.5555555555555556,
              "#d8576b"
             ],
             [
              0.6666666666666666,
              "#ed7953"
             ],
             [
              0.7777777777777778,
              "#fb9f3a"
             ],
             [
              0.8888888888888888,
              "#fdca26"
             ],
             [
              1,
              "#f0f921"
             ]
            ],
            "type": "heatmap"
           }
          ],
          "heatmapgl": [
           {
            "colorbar": {
             "outlinewidth": 0,
             "ticks": ""
            },
            "colorscale": [
             [
              0,
              "#0d0887"
             ],
             [
              0.1111111111111111,
              "#46039f"
             ],
             [
              0.2222222222222222,
              "#7201a8"
             ],
             [
              0.3333333333333333,
              "#9c179e"
             ],
             [
              0.4444444444444444,
              "#bd3786"
             ],
             [
              0.5555555555555556,
              "#d8576b"
             ],
             [
              0.6666666666666666,
              "#ed7953"
             ],
             [
              0.7777777777777778,
              "#fb9f3a"
             ],
             [
              0.8888888888888888,
              "#fdca26"
             ],
             [
              1,
              "#f0f921"
             ]
            ],
            "type": "heatmapgl"
           }
          ],
          "histogram": [
           {
            "marker": {
             "pattern": {
              "fillmode": "overlay",
              "size": 10,
              "solidity": 0.2
             }
            },
            "type": "histogram"
           }
          ],
          "histogram2d": [
           {
            "colorbar": {
             "outlinewidth": 0,
             "ticks": ""
            },
            "colorscale": [
             [
              0,
              "#0d0887"
             ],
             [
              0.1111111111111111,
              "#46039f"
             ],
             [
              0.2222222222222222,
              "#7201a8"
             ],
             [
              0.3333333333333333,
              "#9c179e"
             ],
             [
              0.4444444444444444,
              "#bd3786"
             ],
             [
              0.5555555555555556,
              "#d8576b"
             ],
             [
              0.6666666666666666,
              "#ed7953"
             ],
             [
              0.7777777777777778,
              "#fb9f3a"
             ],
             [
              0.8888888888888888,
              "#fdca26"
             ],
             [
              1,
              "#f0f921"
             ]
            ],
            "type": "histogram2d"
           }
          ],
          "histogram2dcontour": [
           {
            "colorbar": {
             "outlinewidth": 0,
             "ticks": ""
            },
            "colorscale": [
             [
              0,
              "#0d0887"
             ],
             [
              0.1111111111111111,
              "#46039f"
             ],
             [
              0.2222222222222222,
              "#7201a8"
             ],
             [
              0.3333333333333333,
              "#9c179e"
             ],
             [
              0.4444444444444444,
              "#bd3786"
             ],
             [
              0.5555555555555556,
              "#d8576b"
             ],
             [
              0.6666666666666666,
              "#ed7953"
             ],
             [
              0.7777777777777778,
              "#fb9f3a"
             ],
             [
              0.8888888888888888,
              "#fdca26"
             ],
             [
              1,
              "#f0f921"
             ]
            ],
            "type": "histogram2dcontour"
           }
          ],
          "mesh3d": [
           {
            "colorbar": {
             "outlinewidth": 0,
             "ticks": ""
            },
            "type": "mesh3d"
           }
          ],
          "parcoords": [
           {
            "line": {
             "colorbar": {
              "outlinewidth": 0,
              "ticks": ""
             }
            },
            "type": "parcoords"
           }
          ],
          "pie": [
           {
            "automargin": true,
            "type": "pie"
           }
          ],
          "scatter": [
           {
            "fillpattern": {
             "fillmode": "overlay",
             "size": 10,
             "solidity": 0.2
            },
            "type": "scatter"
           }
          ],
          "scatter3d": [
           {
            "line": {
             "colorbar": {
              "outlinewidth": 0,
              "ticks": ""
             }
            },
            "marker": {
             "colorbar": {
              "outlinewidth": 0,
              "ticks": ""
             }
            },
            "type": "scatter3d"
           }
          ],
          "scattercarpet": [
           {
            "marker": {
             "colorbar": {
              "outlinewidth": 0,
              "ticks": ""
             }
            },
            "type": "scattercarpet"
           }
          ],
          "scattergeo": [
           {
            "marker": {
             "colorbar": {
              "outlinewidth": 0,
              "ticks": ""
             }
            },
            "type": "scattergeo"
           }
          ],
          "scattergl": [
           {
            "marker": {
             "colorbar": {
              "outlinewidth": 0,
              "ticks": ""
             }
            },
            "type": "scattergl"
           }
          ],
          "scattermapbox": [
           {
            "marker": {
             "colorbar": {
              "outlinewidth": 0,
              "ticks": ""
             }
            },
            "type": "scattermapbox"
           }
          ],
          "scatterpolar": [
           {
            "marker": {
             "colorbar": {
              "outlinewidth": 0,
              "ticks": ""
             }
            },
            "type": "scatterpolar"
           }
          ],
          "scatterpolargl": [
           {
            "marker": {
             "colorbar": {
              "outlinewidth": 0,
              "ticks": ""
             }
            },
            "type": "scatterpolargl"
           }
          ],
          "scatterternary": [
           {
            "marker": {
             "colorbar": {
              "outlinewidth": 0,
              "ticks": ""
             }
            },
            "type": "scatterternary"
           }
          ],
          "surface": [
           {
            "colorbar": {
             "outlinewidth": 0,
             "ticks": ""
            },
            "colorscale": [
             [
              0,
              "#0d0887"
             ],
             [
              0.1111111111111111,
              "#46039f"
             ],
             [
              0.2222222222222222,
              "#7201a8"
             ],
             [
              0.3333333333333333,
              "#9c179e"
             ],
             [
              0.4444444444444444,
              "#bd3786"
             ],
             [
              0.5555555555555556,
              "#d8576b"
             ],
             [
              0.6666666666666666,
              "#ed7953"
             ],
             [
              0.7777777777777778,
              "#fb9f3a"
             ],
             [
              0.8888888888888888,
              "#fdca26"
             ],
             [
              1,
              "#f0f921"
             ]
            ],
            "type": "surface"
           }
          ],
          "table": [
           {
            "cells": {
             "fill": {
              "color": "#EBF0F8"
             },
             "line": {
              "color": "white"
             }
            },
            "header": {
             "fill": {
              "color": "#C8D4E3"
             },
             "line": {
              "color": "white"
             }
            },
            "type": "table"
           }
          ]
         },
         "layout": {
          "annotationdefaults": {
           "arrowcolor": "#2a3f5f",
           "arrowhead": 0,
           "arrowwidth": 1
          },
          "autotypenumbers": "strict",
          "coloraxis": {
           "colorbar": {
            "outlinewidth": 0,
            "ticks": ""
           }
          },
          "colorscale": {
           "diverging": [
            [
             0,
             "#8e0152"
            ],
            [
             0.1,
             "#c51b7d"
            ],
            [
             0.2,
             "#de77ae"
            ],
            [
             0.3,
             "#f1b6da"
            ],
            [
             0.4,
             "#fde0ef"
            ],
            [
             0.5,
             "#f7f7f7"
            ],
            [
             0.6,
             "#e6f5d0"
            ],
            [
             0.7,
             "#b8e186"
            ],
            [
             0.8,
             "#7fbc41"
            ],
            [
             0.9,
             "#4d9221"
            ],
            [
             1,
             "#276419"
            ]
           ],
           "sequential": [
            [
             0,
             "#0d0887"
            ],
            [
             0.1111111111111111,
             "#46039f"
            ],
            [
             0.2222222222222222,
             "#7201a8"
            ],
            [
             0.3333333333333333,
             "#9c179e"
            ],
            [
             0.4444444444444444,
             "#bd3786"
            ],
            [
             0.5555555555555556,
             "#d8576b"
            ],
            [
             0.6666666666666666,
             "#ed7953"
            ],
            [
             0.7777777777777778,
             "#fb9f3a"
            ],
            [
             0.8888888888888888,
             "#fdca26"
            ],
            [
             1,
             "#f0f921"
            ]
           ],
           "sequentialminus": [
            [
             0,
             "#0d0887"
            ],
            [
             0.1111111111111111,
             "#46039f"
            ],
            [
             0.2222222222222222,
             "#7201a8"
            ],
            [
             0.3333333333333333,
             "#9c179e"
            ],
            [
             0.4444444444444444,
             "#bd3786"
            ],
            [
             0.5555555555555556,
             "#d8576b"
            ],
            [
             0.6666666666666666,
             "#ed7953"
            ],
            [
             0.7777777777777778,
             "#fb9f3a"
            ],
            [
             0.8888888888888888,
             "#fdca26"
            ],
            [
             1,
             "#f0f921"
            ]
           ]
          },
          "colorway": [
           "#636efa",
           "#EF553B",
           "#00cc96",
           "#ab63fa",
           "#FFA15A",
           "#19d3f3",
           "#FF6692",
           "#B6E880",
           "#FF97FF",
           "#FECB52"
          ],
          "font": {
           "color": "#2a3f5f"
          },
          "geo": {
           "bgcolor": "white",
           "lakecolor": "white",
           "landcolor": "#E5ECF6",
           "showlakes": true,
           "showland": true,
           "subunitcolor": "white"
          },
          "hoverlabel": {
           "align": "left"
          },
          "hovermode": "closest",
          "mapbox": {
           "style": "light"
          },
          "paper_bgcolor": "white",
          "plot_bgcolor": "#E5ECF6",
          "polar": {
           "angularaxis": {
            "gridcolor": "white",
            "linecolor": "white",
            "ticks": ""
           },
           "bgcolor": "#E5ECF6",
           "radialaxis": {
            "gridcolor": "white",
            "linecolor": "white",
            "ticks": ""
           }
          },
          "scene": {
           "xaxis": {
            "backgroundcolor": "#E5ECF6",
            "gridcolor": "white",
            "gridwidth": 2,
            "linecolor": "white",
            "showbackground": true,
            "ticks": "",
            "zerolinecolor": "white"
           },
           "yaxis": {
            "backgroundcolor": "#E5ECF6",
            "gridcolor": "white",
            "gridwidth": 2,
            "linecolor": "white",
            "showbackground": true,
            "ticks": "",
            "zerolinecolor": "white"
           },
           "zaxis": {
            "backgroundcolor": "#E5ECF6",
            "gridcolor": "white",
            "gridwidth": 2,
            "linecolor": "white",
            "showbackground": true,
            "ticks": "",
            "zerolinecolor": "white"
           }
          },
          "shapedefaults": {
           "line": {
            "color": "#2a3f5f"
           }
          },
          "ternary": {
           "aaxis": {
            "gridcolor": "white",
            "linecolor": "white",
            "ticks": ""
           },
           "baxis": {
            "gridcolor": "white",
            "linecolor": "white",
            "ticks": ""
           },
           "bgcolor": "#E5ECF6",
           "caxis": {
            "gridcolor": "white",
            "linecolor": "white",
            "ticks": ""
           }
          },
          "title": {
           "x": 0.05
          },
          "xaxis": {
           "automargin": true,
           "gridcolor": "white",
           "linecolor": "white",
           "ticks": "",
           "title": {
            "standoff": 15
           },
           "zerolinecolor": "white",
           "zerolinewidth": 2
          },
          "yaxis": {
           "automargin": true,
           "gridcolor": "white",
           "linecolor": "white",
           "ticks": "",
           "title": {
            "standoff": 15
           },
           "zerolinecolor": "white",
           "zerolinewidth": 2
          }
         }
        },
        "title": {
         "text": "Sensors Visualized Using Principal Components"
        },
        "xaxis": {
         "anchor": "y",
         "domain": [
          0,
          1
         ],
         "title": {
          "text": "Principal Component 1"
         }
        },
        "yaxis": {
         "anchor": "x",
         "domain": [
          0,
          1
         ],
         "title": {
          "text": "Principal Component 2"
         }
        }
       }
      }
     },
     "metadata": {},
     "output_type": "display_data"
    }
   ],
   "source": [
    "# Plot the PCA interactive plot\n",
    "plot_pca_interactive(reduced_data_corr, sensor_id_col='Sensor ID', n_components=2)"
   ]
  },
  {
   "cell_type": "markdown",
   "metadata": {},
   "source": [
    "## Clustering"
   ]
  },
  {
   "cell_type": "code",
   "execution_count": 36,
   "metadata": {},
   "outputs": [
    {
     "name": "stderr",
     "output_type": "stream",
     "text": [
      "/Users/jihoonchung/anaconda3/envs/datascience/lib/python3.10/site-packages/sklearn/cluster/_kmeans.py:1412: FutureWarning:\n",
      "\n",
      "The default value of `n_init` will change from 10 to 'auto' in 1.4. Set the value of `n_init` explicitly to suppress the warning\n",
      "\n"
     ]
    },
    {
     "data": {
      "application/vnd.plotly.v1+json": {
       "config": {
        "plotlyServerURL": "https://plot.ly"
       },
       "data": [
        {
         "customdata": [
          [
           1
          ]
         ],
         "hovertemplate": "Sensor ID=%{customdata[0]}<br>Principal Component 1=%{x}<br>Principal Component 2=%{y}<br>Principal Component 3=%{z}<br>Cluster=%{marker.color}<extra></extra>",
         "legendgroup": "1",
         "marker": {
          "color": [
           0
          ],
          "coloraxis": "coloraxis",
          "symbol": "circle"
         },
         "mode": "markers",
         "name": "1",
         "scene": "scene",
         "showlegend": true,
         "type": "scatter3d",
         "x": [
          -7259.202327998807
         ],
         "y": [
          -1777.770882430811
         ],
         "z": [
          6703.330463176832
         ]
        },
        {
         "customdata": [
          [
           2
          ]
         ],
         "hovertemplate": "Sensor ID=%{customdata[0]}<br>Principal Component 1=%{x}<br>Principal Component 2=%{y}<br>Principal Component 3=%{z}<br>Cluster=%{marker.color}<extra></extra>",
         "legendgroup": "2",
         "marker": {
          "color": [
           0
          ],
          "coloraxis": "coloraxis",
          "symbol": "diamond"
         },
         "mode": "markers",
         "name": "2",
         "scene": "scene",
         "showlegend": true,
         "type": "scatter3d",
         "x": [
          -7314.352505660228
         ],
         "y": [
          -1754.446891405731
         ],
         "z": [
          -281.9183946366725
         ]
        },
        {
         "customdata": [
          [
           3
          ]
         ],
         "hovertemplate": "Sensor ID=%{customdata[0]}<br>Principal Component 1=%{x}<br>Principal Component 2=%{y}<br>Principal Component 3=%{z}<br>Cluster=%{marker.color}<extra></extra>",
         "legendgroup": "3",
         "marker": {
          "color": [
           0
          ],
          "coloraxis": "coloraxis",
          "symbol": "square"
         },
         "mode": "markers",
         "name": "3",
         "scene": "scene",
         "showlegend": true,
         "type": "scatter3d",
         "x": [
          -7222.001115206123
         ],
         "y": [
          -1844.3148474963666
         ],
         "z": [
          -1945.4105621635078
         ]
        },
        {
         "customdata": [
          [
           4
          ]
         ],
         "hovertemplate": "Sensor ID=%{customdata[0]}<br>Principal Component 1=%{x}<br>Principal Component 2=%{y}<br>Principal Component 3=%{z}<br>Cluster=%{marker.color}<extra></extra>",
         "legendgroup": "4",
         "marker": {
          "color": [
           0
          ],
          "coloraxis": "coloraxis",
          "symbol": "x"
         },
         "mode": "markers",
         "name": "4",
         "scene": "scene",
         "showlegend": true,
         "type": "scatter3d",
         "x": [
          -8024.321453770214
         ],
         "y": [
          -723.5245210385231
         ],
         "z": [
          4921.889315225113
         ]
        },
        {
         "customdata": [
          [
           5
          ]
         ],
         "hovertemplate": "Sensor ID=%{customdata[0]}<br>Principal Component 1=%{x}<br>Principal Component 2=%{y}<br>Principal Component 3=%{z}<br>Cluster=%{marker.color}<extra></extra>",
         "legendgroup": "5",
         "marker": {
          "color": [
           0
          ],
          "coloraxis": "coloraxis",
          "symbol": "cross"
         },
         "mode": "markers",
         "name": "5",
         "scene": "scene",
         "showlegend": true,
         "type": "scatter3d",
         "x": [
          -7974.918595502318
         ],
         "y": [
          -1707.145483563267
         ],
         "z": [
          -2023.895642780189
         ]
        },
        {
         "customdata": [
          [
           6
          ]
         ],
         "hovertemplate": "Sensor ID=%{customdata[0]}<br>Principal Component 1=%{x}<br>Principal Component 2=%{y}<br>Principal Component 3=%{z}<br>Cluster=%{marker.color}<extra></extra>",
         "legendgroup": "6",
         "marker": {
          "color": [
           0
          ],
          "coloraxis": "coloraxis",
          "symbol": "circle"
         },
         "mode": "markers",
         "name": "6",
         "scene": "scene",
         "showlegend": true,
         "type": "scatter3d",
         "x": [
          -8094.321178803094
         ],
         "y": [
          -1782.5661889137252
         ],
         "z": [
          2947.821480809777
         ]
        },
        {
         "customdata": [
          [
           7
          ]
         ],
         "hovertemplate": "Sensor ID=%{customdata[0]}<br>Principal Component 1=%{x}<br>Principal Component 2=%{y}<br>Principal Component 3=%{z}<br>Cluster=%{marker.color}<extra></extra>",
         "legendgroup": "7",
         "marker": {
          "color": [
           0
          ],
          "coloraxis": "coloraxis",
          "symbol": "diamond"
         },
         "mode": "markers",
         "name": "7",
         "scene": "scene",
         "showlegend": true,
         "type": "scatter3d",
         "x": [
          -7245.9264389462305
         ],
         "y": [
          -1727.5909498632739
         ],
         "z": [
          -694.0010209020243
         ]
        },
        {
         "customdata": [
          [
           8
          ]
         ],
         "hovertemplate": "Sensor ID=%{customdata[0]}<br>Principal Component 1=%{x}<br>Principal Component 2=%{y}<br>Principal Component 3=%{z}<br>Cluster=%{marker.color}<extra></extra>",
         "legendgroup": "8",
         "marker": {
          "color": [
           0
          ],
          "coloraxis": "coloraxis",
          "symbol": "square"
         },
         "mode": "markers",
         "name": "8",
         "scene": "scene",
         "showlegend": true,
         "type": "scatter3d",
         "x": [
          -8040.41851327317
         ],
         "y": [
          -1691.5537781760024
         ],
         "z": [
          15.135045968586192
         ]
        },
        {
         "customdata": [
          [
           9
          ]
         ],
         "hovertemplate": "Sensor ID=%{customdata[0]}<br>Principal Component 1=%{x}<br>Principal Component 2=%{y}<br>Principal Component 3=%{z}<br>Cluster=%{marker.color}<extra></extra>",
         "legendgroup": "9",
         "marker": {
          "color": [
           0
          ],
          "coloraxis": "coloraxis",
          "symbol": "x"
         },
         "mode": "markers",
         "name": "9",
         "scene": "scene",
         "showlegend": true,
         "type": "scatter3d",
         "x": [
          -8033.6132954388495
         ],
         "y": [
          -1731.031284630009
         ],
         "z": [
          -195.18814994229334
         ]
        },
        {
         "customdata": [
          [
           10
          ]
         ],
         "hovertemplate": "Sensor ID=%{customdata[0]}<br>Principal Component 1=%{x}<br>Principal Component 2=%{y}<br>Principal Component 3=%{z}<br>Cluster=%{marker.color}<extra></extra>",
         "legendgroup": "10",
         "marker": {
          "color": [
           0
          ],
          "coloraxis": "coloraxis",
          "symbol": "cross"
         },
         "mode": "markers",
         "name": "10",
         "scene": "scene",
         "showlegend": true,
         "type": "scatter3d",
         "x": [
          -8052.00842049416
         ],
         "y": [
          -1677.5423893491172
         ],
         "z": [
          2529.230662262497
         ]
        },
        {
         "customdata": [
          [
           11
          ]
         ],
         "hovertemplate": "Sensor ID=%{customdata[0]}<br>Principal Component 1=%{x}<br>Principal Component 2=%{y}<br>Principal Component 3=%{z}<br>Cluster=%{marker.color}<extra></extra>",
         "legendgroup": "11",
         "marker": {
          "color": [
           0
          ],
          "coloraxis": "coloraxis",
          "symbol": "circle"
         },
         "mode": "markers",
         "name": "11",
         "scene": "scene",
         "showlegend": true,
         "type": "scatter3d",
         "x": [
          -7248.513456548277
         ],
         "y": [
          -1784.94048203642
         ],
         "z": [
          12.424834593346912
         ]
        },
        {
         "customdata": [
          [
           12
          ]
         ],
         "hovertemplate": "Sensor ID=%{customdata[0]}<br>Principal Component 1=%{x}<br>Principal Component 2=%{y}<br>Principal Component 3=%{z}<br>Cluster=%{marker.color}<extra></extra>",
         "legendgroup": "12",
         "marker": {
          "color": [
           0
          ],
          "coloraxis": "coloraxis",
          "symbol": "diamond"
         },
         "mode": "markers",
         "name": "12",
         "scene": "scene",
         "showlegend": true,
         "type": "scatter3d",
         "x": [
          -7254.978315111095
         ],
         "y": [
          -1700.5782493545232
         ],
         "z": [
          162.94778966484867
         ]
        },
        {
         "customdata": [
          [
           13
          ]
         ],
         "hovertemplate": "Sensor ID=%{customdata[0]}<br>Principal Component 1=%{x}<br>Principal Component 2=%{y}<br>Principal Component 3=%{z}<br>Cluster=%{marker.color}<extra></extra>",
         "legendgroup": "13",
         "marker": {
          "color": [
           0
          ],
          "coloraxis": "coloraxis",
          "symbol": "square"
         },
         "mode": "markers",
         "name": "13",
         "scene": "scene",
         "showlegend": true,
         "type": "scatter3d",
         "x": [
          -8050.371195808244
         ],
         "y": [
          -710.9258482536998
         ],
         "z": [
          3066.9352084944917
         ]
        },
        {
         "customdata": [
          [
           14
          ]
         ],
         "hovertemplate": "Sensor ID=%{customdata[0]}<br>Principal Component 1=%{x}<br>Principal Component 2=%{y}<br>Principal Component 3=%{z}<br>Cluster=%{marker.color}<extra></extra>",
         "legendgroup": "14",
         "marker": {
          "color": [
           0
          ],
          "coloraxis": "coloraxis",
          "symbol": "x"
         },
         "mode": "markers",
         "name": "14",
         "scene": "scene",
         "showlegend": true,
         "type": "scatter3d",
         "x": [
          -7923.6368128096865
         ],
         "y": [
          -1787.1270537057537
         ],
         "z": [
          -3506.729350787655
         ]
        },
        {
         "customdata": [
          [
           15
          ]
         ],
         "hovertemplate": "Sensor ID=%{customdata[0]}<br>Principal Component 1=%{x}<br>Principal Component 2=%{y}<br>Principal Component 3=%{z}<br>Cluster=%{marker.color}<extra></extra>",
         "legendgroup": "15",
         "marker": {
          "color": [
           0
          ],
          "coloraxis": "coloraxis",
          "symbol": "cross"
         },
         "mode": "markers",
         "name": "15",
         "scene": "scene",
         "showlegend": true,
         "type": "scatter3d",
         "x": [
          -7938.325661496464
         ],
         "y": [
          -718.4012945722376
         ],
         "z": [
          308.6425074849155
         ]
        },
        {
         "customdata": [
          [
           16
          ]
         ],
         "hovertemplate": "Sensor ID=%{customdata[0]}<br>Principal Component 1=%{x}<br>Principal Component 2=%{y}<br>Principal Component 3=%{z}<br>Cluster=%{marker.color}<extra></extra>",
         "legendgroup": "16",
         "marker": {
          "color": [
           0
          ],
          "coloraxis": "coloraxis",
          "symbol": "circle"
         },
         "mode": "markers",
         "name": "16",
         "scene": "scene",
         "showlegend": true,
         "type": "scatter3d",
         "x": [
          -8044.846836436278
         ],
         "y": [
          -1727.919840066433
         ],
         "z": [
          222.66860437936472
         ]
        },
        {
         "customdata": [
          [
           17
          ]
         ],
         "hovertemplate": "Sensor ID=%{customdata[0]}<br>Principal Component 1=%{x}<br>Principal Component 2=%{y}<br>Principal Component 3=%{z}<br>Cluster=%{marker.color}<extra></extra>",
         "legendgroup": "17",
         "marker": {
          "color": [
           0
          ],
          "coloraxis": "coloraxis",
          "symbol": "diamond"
         },
         "mode": "markers",
         "name": "17",
         "scene": "scene",
         "showlegend": true,
         "type": "scatter3d",
         "x": [
          -7945.7223817359345
         ],
         "y": [
          -678.8100660093438
         ],
         "z": [
          779.313989285386
         ]
        },
        {
         "customdata": [
          [
           18
          ]
         ],
         "hovertemplate": "Sensor ID=%{customdata[0]}<br>Principal Component 1=%{x}<br>Principal Component 2=%{y}<br>Principal Component 3=%{z}<br>Cluster=%{marker.color}<extra></extra>",
         "legendgroup": "18",
         "marker": {
          "color": [
           0
          ],
          "coloraxis": "coloraxis",
          "symbol": "square"
         },
         "mode": "markers",
         "name": "18",
         "scene": "scene",
         "showlegend": true,
         "type": "scatter3d",
         "x": [
          -7987.618622054908
         ],
         "y": [
          -1730.8279861893418
         ],
         "z": [
          -0.5553156389219936
         ]
        },
        {
         "customdata": [
          [
           19
          ]
         ],
         "hovertemplate": "Sensor ID=%{customdata[0]}<br>Principal Component 1=%{x}<br>Principal Component 2=%{y}<br>Principal Component 3=%{z}<br>Cluster=%{marker.color}<extra></extra>",
         "legendgroup": "19",
         "marker": {
          "color": [
           0
          ],
          "coloraxis": "coloraxis",
          "symbol": "x"
         },
         "mode": "markers",
         "name": "19",
         "scene": "scene",
         "showlegend": true,
         "type": "scatter3d",
         "x": [
          -7945.748685041741
         ],
         "y": [
          -792.1574766002515
         ],
         "z": [
          -2650.4058561138277
         ]
        },
        {
         "customdata": [
          [
           20
          ]
         ],
         "hovertemplate": "Sensor ID=%{customdata[0]}<br>Principal Component 1=%{x}<br>Principal Component 2=%{y}<br>Principal Component 3=%{z}<br>Cluster=%{marker.color}<extra></extra>",
         "legendgroup": "20",
         "marker": {
          "color": [
           0
          ],
          "coloraxis": "coloraxis",
          "symbol": "cross"
         },
         "mode": "markers",
         "name": "20",
         "scene": "scene",
         "showlegend": true,
         "type": "scatter3d",
         "x": [
          -7688.388609532311
         ],
         "y": [
          -1697.9074854476999
         ],
         "z": [
          2939.7138398511447
         ]
        },
        {
         "customdata": [
          [
           21
          ]
         ],
         "hovertemplate": "Sensor ID=%{customdata[0]}<br>Principal Component 1=%{x}<br>Principal Component 2=%{y}<br>Principal Component 3=%{z}<br>Cluster=%{marker.color}<extra></extra>",
         "legendgroup": "21",
         "marker": {
          "color": [
           0
          ],
          "coloraxis": "coloraxis",
          "symbol": "circle"
         },
         "mode": "markers",
         "name": "21",
         "scene": "scene",
         "showlegend": true,
         "type": "scatter3d",
         "x": [
          -8153.983994935381
         ],
         "y": [
          -1763.7450425899217
         ],
         "z": [
          5082.97067712376
         ]
        },
        {
         "customdata": [
          [
           22
          ]
         ],
         "hovertemplate": "Sensor ID=%{customdata[0]}<br>Principal Component 1=%{x}<br>Principal Component 2=%{y}<br>Principal Component 3=%{z}<br>Cluster=%{marker.color}<extra></extra>",
         "legendgroup": "22",
         "marker": {
          "color": [
           0
          ],
          "coloraxis": "coloraxis",
          "symbol": "diamond"
         },
         "mode": "markers",
         "name": "22",
         "scene": "scene",
         "showlegend": true,
         "type": "scatter3d",
         "x": [
          -7970.288163900094
         ],
         "y": [
          -1765.9862056029474
         ],
         "z": [
          -1974.7758562662546
         ]
        },
        {
         "customdata": [
          [
           23
          ]
         ],
         "hovertemplate": "Sensor ID=%{customdata[0]}<br>Principal Component 1=%{x}<br>Principal Component 2=%{y}<br>Principal Component 3=%{z}<br>Cluster=%{marker.color}<extra></extra>",
         "legendgroup": "23",
         "marker": {
          "color": [
           0
          ],
          "coloraxis": "coloraxis",
          "symbol": "square"
         },
         "mode": "markers",
         "name": "23",
         "scene": "scene",
         "showlegend": true,
         "type": "scatter3d",
         "x": [
          -7999.725927902796
         ],
         "y": [
          -1754.9130870923
         ],
         "z": [
          -3916.5263451631163
         ]
        },
        {
         "customdata": [
          [
           24
          ]
         ],
         "hovertemplate": "Sensor ID=%{customdata[0]}<br>Principal Component 1=%{x}<br>Principal Component 2=%{y}<br>Principal Component 3=%{z}<br>Cluster=%{marker.color}<extra></extra>",
         "legendgroup": "24",
         "marker": {
          "color": [
           0
          ],
          "coloraxis": "coloraxis",
          "symbol": "x"
         },
         "mode": "markers",
         "name": "24",
         "scene": "scene",
         "showlegend": true,
         "type": "scatter3d",
         "x": [
          -8042.710320008578
         ],
         "y": [
          -1761.243483206547
         ],
         "z": [
          2412.8861685110155
         ]
        },
        {
         "customdata": [
          [
           25
          ]
         ],
         "hovertemplate": "Sensor ID=%{customdata[0]}<br>Principal Component 1=%{x}<br>Principal Component 2=%{y}<br>Principal Component 3=%{z}<br>Cluster=%{marker.color}<extra></extra>",
         "legendgroup": "25",
         "marker": {
          "color": [
           0
          ],
          "coloraxis": "coloraxis",
          "symbol": "cross"
         },
         "mode": "markers",
         "name": "25",
         "scene": "scene",
         "showlegend": true,
         "type": "scatter3d",
         "x": [
          -7925.522279606925
         ],
         "y": [
          -1701.0398159399122
         ],
         "z": [
          -3865.9420031160803
         ]
        },
        {
         "customdata": [
          [
           26
          ]
         ],
         "hovertemplate": "Sensor ID=%{customdata[0]}<br>Principal Component 1=%{x}<br>Principal Component 2=%{y}<br>Principal Component 3=%{z}<br>Cluster=%{marker.color}<extra></extra>",
         "legendgroup": "26",
         "marker": {
          "color": [
           0
          ],
          "coloraxis": "coloraxis",
          "symbol": "circle"
         },
         "mode": "markers",
         "name": "26",
         "scene": "scene",
         "showlegend": true,
         "type": "scatter3d",
         "x": [
          -8008.560576818714
         ],
         "y": [
          -1863.1841392722636
         ],
         "z": [
          -114.46262378963095
         ]
        },
        {
         "customdata": [
          [
           27
          ]
         ],
         "hovertemplate": "Sensor ID=%{customdata[0]}<br>Principal Component 1=%{x}<br>Principal Component 2=%{y}<br>Principal Component 3=%{z}<br>Cluster=%{marker.color}<extra></extra>",
         "legendgroup": "27",
         "marker": {
          "color": [
           0
          ],
          "coloraxis": "coloraxis",
          "symbol": "diamond"
         },
         "mode": "markers",
         "name": "27",
         "scene": "scene",
         "showlegend": true,
         "type": "scatter3d",
         "x": [
          -8014.1855697576675
         ],
         "y": [
          -1742.6229353892202
         ],
         "z": [
          1715.6580974202277
         ]
        },
        {
         "customdata": [
          [
           28
          ]
         ],
         "hovertemplate": "Sensor ID=%{customdata[0]}<br>Principal Component 1=%{x}<br>Principal Component 2=%{y}<br>Principal Component 3=%{z}<br>Cluster=%{marker.color}<extra></extra>",
         "legendgroup": "28",
         "marker": {
          "color": [
           0
          ],
          "coloraxis": "coloraxis",
          "symbol": "square"
         },
         "mode": "markers",
         "name": "28",
         "scene": "scene",
         "showlegend": true,
         "type": "scatter3d",
         "x": [
          -7978.807440343065
         ],
         "y": [
          -786.4079617543367
         ],
         "z": [
          -1002.3472358025647
         ]
        },
        {
         "customdata": [
          [
           29
          ]
         ],
         "hovertemplate": "Sensor ID=%{customdata[0]}<br>Principal Component 1=%{x}<br>Principal Component 2=%{y}<br>Principal Component 3=%{z}<br>Cluster=%{marker.color}<extra></extra>",
         "legendgroup": "29",
         "marker": {
          "color": [
           0
          ],
          "coloraxis": "coloraxis",
          "symbol": "x"
         },
         "mode": "markers",
         "name": "29",
         "scene": "scene",
         "showlegend": true,
         "type": "scatter3d",
         "x": [
          -8030.750771261306
         ],
         "y": [
          -715.1105470875625
         ],
         "z": [
          1850.8726002135757
         ]
        },
        {
         "customdata": [
          [
           30
          ]
         ],
         "hovertemplate": "Sensor ID=%{customdata[0]}<br>Principal Component 1=%{x}<br>Principal Component 2=%{y}<br>Principal Component 3=%{z}<br>Cluster=%{marker.color}<extra></extra>",
         "legendgroup": "30",
         "marker": {
          "color": [
           0
          ],
          "coloraxis": "coloraxis",
          "symbol": "cross"
         },
         "mode": "markers",
         "name": "30",
         "scene": "scene",
         "showlegend": true,
         "type": "scatter3d",
         "x": [
          -7926.239059819356
         ],
         "y": [
          -1828.020827557217
         ],
         "z": [
          -2175.417085726099
         ]
        },
        {
         "customdata": [
          [
           32
          ]
         ],
         "hovertemplate": "Sensor ID=%{customdata[0]}<br>Principal Component 1=%{x}<br>Principal Component 2=%{y}<br>Principal Component 3=%{z}<br>Cluster=%{marker.color}<extra></extra>",
         "legendgroup": "32",
         "marker": {
          "color": [
           0
          ],
          "coloraxis": "coloraxis",
          "symbol": "circle"
         },
         "mode": "markers",
         "name": "32",
         "scene": "scene",
         "showlegend": true,
         "type": "scatter3d",
         "x": [
          -7938.841083458354
         ],
         "y": [
          -1759.508258066535
         ],
         "z": [
          -2723.790566442446
         ]
        },
        {
         "customdata": [
          [
           33
          ]
         ],
         "hovertemplate": "Sensor ID=%{customdata[0]}<br>Principal Component 1=%{x}<br>Principal Component 2=%{y}<br>Principal Component 3=%{z}<br>Cluster=%{marker.color}<extra></extra>",
         "legendgroup": "33",
         "marker": {
          "color": [
           0
          ],
          "coloraxis": "coloraxis",
          "symbol": "diamond"
         },
         "mode": "markers",
         "name": "33",
         "scene": "scene",
         "showlegend": true,
         "type": "scatter3d",
         "x": [
          -8012.217740969405
         ],
         "y": [
          -1642.091493470224
         ],
         "z": [
          778.0007739566257
         ]
        },
        {
         "customdata": [
          [
           34
          ]
         ],
         "hovertemplate": "Sensor ID=%{customdata[0]}<br>Principal Component 1=%{x}<br>Principal Component 2=%{y}<br>Principal Component 3=%{z}<br>Cluster=%{marker.color}<extra></extra>",
         "legendgroup": "34",
         "marker": {
          "color": [
           0
          ],
          "coloraxis": "coloraxis",
          "symbol": "square"
         },
         "mode": "markers",
         "name": "34",
         "scene": "scene",
         "showlegend": true,
         "type": "scatter3d",
         "x": [
          -7918.664806771718
         ],
         "y": [
          -1776.9828471965345
         ],
         "z": [
          -2380.702691594543
         ]
        },
        {
         "customdata": [
          [
           35
          ]
         ],
         "hovertemplate": "Sensor ID=%{customdata[0]}<br>Principal Component 1=%{x}<br>Principal Component 2=%{y}<br>Principal Component 3=%{z}<br>Cluster=%{marker.color}<extra></extra>",
         "legendgroup": "35",
         "marker": {
          "color": [
           0
          ],
          "coloraxis": "coloraxis",
          "symbol": "x"
         },
         "mode": "markers",
         "name": "35",
         "scene": "scene",
         "showlegend": true,
         "type": "scatter3d",
         "x": [
          -7181.470865618581
         ],
         "y": [
          -1817.3795690243742
         ],
         "z": [
          -97.47191478185854
         ]
        },
        {
         "customdata": [
          [
           36
          ]
         ],
         "hovertemplate": "Sensor ID=%{customdata[0]}<br>Principal Component 1=%{x}<br>Principal Component 2=%{y}<br>Principal Component 3=%{z}<br>Cluster=%{marker.color}<extra></extra>",
         "legendgroup": "36",
         "marker": {
          "color": [
           0
          ],
          "coloraxis": "coloraxis",
          "symbol": "cross"
         },
         "mode": "markers",
         "name": "36",
         "scene": "scene",
         "showlegend": true,
         "type": "scatter3d",
         "x": [
          -7200.5100083087
         ],
         "y": [
          -1839.6061841972821
         ],
         "z": [
          -508.91067476006646
         ]
        },
        {
         "customdata": [
          [
           37
          ]
         ],
         "hovertemplate": "Sensor ID=%{customdata[0]}<br>Principal Component 1=%{x}<br>Principal Component 2=%{y}<br>Principal Component 3=%{z}<br>Cluster=%{marker.color}<extra></extra>",
         "legendgroup": "37",
         "marker": {
          "color": [
           0
          ],
          "coloraxis": "coloraxis",
          "symbol": "circle"
         },
         "mode": "markers",
         "name": "37",
         "scene": "scene",
         "showlegend": true,
         "type": "scatter3d",
         "x": [
          -8007.052713221875
         ],
         "y": [
          -664.2579821182873
         ],
         "z": [
          3846.5315699194744
         ]
        },
        {
         "customdata": [
          [
           38
          ]
         ],
         "hovertemplate": "Sensor ID=%{customdata[0]}<br>Principal Component 1=%{x}<br>Principal Component 2=%{y}<br>Principal Component 3=%{z}<br>Cluster=%{marker.color}<extra></extra>",
         "legendgroup": "38",
         "marker": {
          "color": [
           0
          ],
          "coloraxis": "coloraxis",
          "symbol": "diamond"
         },
         "mode": "markers",
         "name": "38",
         "scene": "scene",
         "showlegend": true,
         "type": "scatter3d",
         "x": [
          -8000.624073703345
         ],
         "y": [
          -1686.8619873075295
         ],
         "z": [
          -809.86363303344
         ]
        },
        {
         "customdata": [
          [
           39
          ]
         ],
         "hovertemplate": "Sensor ID=%{customdata[0]}<br>Principal Component 1=%{x}<br>Principal Component 2=%{y}<br>Principal Component 3=%{z}<br>Cluster=%{marker.color}<extra></extra>",
         "legendgroup": "39",
         "marker": {
          "color": [
           0
          ],
          "coloraxis": "coloraxis",
          "symbol": "square"
         },
         "mode": "markers",
         "name": "39",
         "scene": "scene",
         "showlegend": true,
         "type": "scatter3d",
         "x": [
          -7248.918183870133
         ],
         "y": [
          -642.3033702831214
         ],
         "z": [
          5966.529410678553
         ]
        },
        {
         "customdata": [
          [
           40
          ]
         ],
         "hovertemplate": "Sensor ID=%{customdata[0]}<br>Principal Component 1=%{x}<br>Principal Component 2=%{y}<br>Principal Component 3=%{z}<br>Cluster=%{marker.color}<extra></extra>",
         "legendgroup": "40",
         "marker": {
          "color": [
           0
          ],
          "coloraxis": "coloraxis",
          "symbol": "x"
         },
         "mode": "markers",
         "name": "40",
         "scene": "scene",
         "showlegend": true,
         "type": "scatter3d",
         "x": [
          -7296.583864991801
         ],
         "y": [
          -775.7916833639528
         ],
         "z": [
          118.11008978656727
         ]
        },
        {
         "customdata": [
          [
           41
          ]
         ],
         "hovertemplate": "Sensor ID=%{customdata[0]}<br>Principal Component 1=%{x}<br>Principal Component 2=%{y}<br>Principal Component 3=%{z}<br>Cluster=%{marker.color}<extra></extra>",
         "legendgroup": "41",
         "marker": {
          "color": [
           0
          ],
          "coloraxis": "coloraxis",
          "symbol": "cross"
         },
         "mode": "markers",
         "name": "41",
         "scene": "scene",
         "showlegend": true,
         "type": "scatter3d",
         "x": [
          -7981.313548003686
         ],
         "y": [
          -1799.848308798254
         ],
         "z": [
          3445.0995425301394
         ]
        },
        {
         "customdata": [
          [
           42
          ]
         ],
         "hovertemplate": "Sensor ID=%{customdata[0]}<br>Principal Component 1=%{x}<br>Principal Component 2=%{y}<br>Principal Component 3=%{z}<br>Cluster=%{marker.color}<extra></extra>",
         "legendgroup": "42",
         "marker": {
          "color": [
           0
          ],
          "coloraxis": "coloraxis",
          "symbol": "circle"
         },
         "mode": "markers",
         "name": "42",
         "scene": "scene",
         "showlegend": true,
         "type": "scatter3d",
         "x": [
          -8002.259000682292
         ],
         "y": [
          -1736.6951425515272
         ],
         "z": [
          834.8516002157362
         ]
        },
        {
         "customdata": [
          [
           43
          ]
         ],
         "hovertemplate": "Sensor ID=%{customdata[0]}<br>Principal Component 1=%{x}<br>Principal Component 2=%{y}<br>Principal Component 3=%{z}<br>Cluster=%{marker.color}<extra></extra>",
         "legendgroup": "43",
         "marker": {
          "color": [
           0
          ],
          "coloraxis": "coloraxis",
          "symbol": "diamond"
         },
         "mode": "markers",
         "name": "43",
         "scene": "scene",
         "showlegend": true,
         "type": "scatter3d",
         "x": [
          -7405.292938684595
         ],
         "y": [
          -810.7453187524034
         ],
         "z": [
          5941.013284873612
         ]
        },
        {
         "customdata": [
          [
           44
          ]
         ],
         "hovertemplate": "Sensor ID=%{customdata[0]}<br>Principal Component 1=%{x}<br>Principal Component 2=%{y}<br>Principal Component 3=%{z}<br>Cluster=%{marker.color}<extra></extra>",
         "legendgroup": "44",
         "marker": {
          "color": [
           0
          ],
          "coloraxis": "coloraxis",
          "symbol": "square"
         },
         "mode": "markers",
         "name": "44",
         "scene": "scene",
         "showlegend": true,
         "type": "scatter3d",
         "x": [
          -7267.059219903497
         ],
         "y": [
          -1816.5969930725676
         ],
         "z": [
          -522.9651441828045
         ]
        },
        {
         "customdata": [
          [
           45
          ]
         ],
         "hovertemplate": "Sensor ID=%{customdata[0]}<br>Principal Component 1=%{x}<br>Principal Component 2=%{y}<br>Principal Component 3=%{z}<br>Cluster=%{marker.color}<extra></extra>",
         "legendgroup": "45",
         "marker": {
          "color": [
           0
          ],
          "coloraxis": "coloraxis",
          "symbol": "x"
         },
         "mode": "markers",
         "name": "45",
         "scene": "scene",
         "showlegend": true,
         "type": "scatter3d",
         "x": [
          -7931.057874743123
         ],
         "y": [
          -1781.9104475635759
         ],
         "z": [
          -3483.455308523112
         ]
        },
        {
         "customdata": [
          [
           46
          ]
         ],
         "hovertemplate": "Sensor ID=%{customdata[0]}<br>Principal Component 1=%{x}<br>Principal Component 2=%{y}<br>Principal Component 3=%{z}<br>Cluster=%{marker.color}<extra></extra>",
         "legendgroup": "46",
         "marker": {
          "color": [
           0
          ],
          "coloraxis": "coloraxis",
          "symbol": "cross"
         },
         "mode": "markers",
         "name": "46",
         "scene": "scene",
         "showlegend": true,
         "type": "scatter3d",
         "x": [
          -8052.7862123489285
         ],
         "y": [
          -1784.1024016044219
         ],
         "z": [
          2358.60578966435
         ]
        },
        {
         "customdata": [
          [
           47
          ]
         ],
         "hovertemplate": "Sensor ID=%{customdata[0]}<br>Principal Component 1=%{x}<br>Principal Component 2=%{y}<br>Principal Component 3=%{z}<br>Cluster=%{marker.color}<extra></extra>",
         "legendgroup": "47",
         "marker": {
          "color": [
           0
          ],
          "coloraxis": "coloraxis",
          "symbol": "circle"
         },
         "mode": "markers",
         "name": "47",
         "scene": "scene",
         "showlegend": true,
         "type": "scatter3d",
         "x": [
          -8115.159614924622
         ],
         "y": [
          -1681.7943460090412
         ],
         "z": [
          207.71100886363084
         ]
        },
        {
         "customdata": [
          [
           48
          ]
         ],
         "hovertemplate": "Sensor ID=%{customdata[0]}<br>Principal Component 1=%{x}<br>Principal Component 2=%{y}<br>Principal Component 3=%{z}<br>Cluster=%{marker.color}<extra></extra>",
         "legendgroup": "48",
         "marker": {
          "color": [
           0
          ],
          "coloraxis": "coloraxis",
          "symbol": "diamond"
         },
         "mode": "markers",
         "name": "48",
         "scene": "scene",
         "showlegend": true,
         "type": "scatter3d",
         "x": [
          -7971.743132516859
         ],
         "y": [
          -697.6710523243135
         ],
         "z": [
          -2974.76060631876
         ]
        },
        {
         "customdata": [
          [
           49
          ]
         ],
         "hovertemplate": "Sensor ID=%{customdata[0]}<br>Principal Component 1=%{x}<br>Principal Component 2=%{y}<br>Principal Component 3=%{z}<br>Cluster=%{marker.color}<extra></extra>",
         "legendgroup": "49",
         "marker": {
          "color": [
           0
          ],
          "coloraxis": "coloraxis",
          "symbol": "square"
         },
         "mode": "markers",
         "name": "49",
         "scene": "scene",
         "showlegend": true,
         "type": "scatter3d",
         "x": [
          -8021.666973652705
         ],
         "y": [
          -1727.4774761202436
         ],
         "z": [
          -570.1681982125907
         ]
        },
        {
         "customdata": [
          [
           50
          ]
         ],
         "hovertemplate": "Sensor ID=%{customdata[0]}<br>Principal Component 1=%{x}<br>Principal Component 2=%{y}<br>Principal Component 3=%{z}<br>Cluster=%{marker.color}<extra></extra>",
         "legendgroup": "50",
         "marker": {
          "color": [
           0
          ],
          "coloraxis": "coloraxis",
          "symbol": "x"
         },
         "mode": "markers",
         "name": "50",
         "scene": "scene",
         "showlegend": true,
         "type": "scatter3d",
         "x": [
          -8050.312538542773
         ],
         "y": [
          -1718.2868870255093
         ],
         "z": [
          -166.757005892106
         ]
        },
        {
         "customdata": [
          [
           51
          ]
         ],
         "hovertemplate": "Sensor ID=%{customdata[0]}<br>Principal Component 1=%{x}<br>Principal Component 2=%{y}<br>Principal Component 3=%{z}<br>Cluster=%{marker.color}<extra></extra>",
         "legendgroup": "51",
         "marker": {
          "color": [
           0
          ],
          "coloraxis": "coloraxis",
          "symbol": "cross"
         },
         "mode": "markers",
         "name": "51",
         "scene": "scene",
         "showlegend": true,
         "type": "scatter3d",
         "x": [
          -8022.225159955338
         ],
         "y": [
          -1902.262535066757
         ],
         "z": [
          -1443.8127230736625
         ]
        },
        {
         "customdata": [
          [
           52
          ]
         ],
         "hovertemplate": "Sensor ID=%{customdata[0]}<br>Principal Component 1=%{x}<br>Principal Component 2=%{y}<br>Principal Component 3=%{z}<br>Cluster=%{marker.color}<extra></extra>",
         "legendgroup": "52",
         "marker": {
          "color": [
           0
          ],
          "coloraxis": "coloraxis",
          "symbol": "circle"
         },
         "mode": "markers",
         "name": "52",
         "scene": "scene",
         "showlegend": true,
         "type": "scatter3d",
         "x": [
          -8021.799241576985
         ],
         "y": [
          -1898.625291423485
         ],
         "z": [
          -853.2852161083965
         ]
        },
        {
         "customdata": [
          [
           53
          ]
         ],
         "hovertemplate": "Sensor ID=%{customdata[0]}<br>Principal Component 1=%{x}<br>Principal Component 2=%{y}<br>Principal Component 3=%{z}<br>Cluster=%{marker.color}<extra></extra>",
         "legendgroup": "53",
         "marker": {
          "color": [
           0
          ],
          "coloraxis": "coloraxis",
          "symbol": "diamond"
         },
         "mode": "markers",
         "name": "53",
         "scene": "scene",
         "showlegend": true,
         "type": "scatter3d",
         "x": [
          -8016.066841365343
         ],
         "y": [
          -1777.064057702543
         ],
         "z": [
          126.5251476137712
         ]
        },
        {
         "customdata": [
          [
           54
          ]
         ],
         "hovertemplate": "Sensor ID=%{customdata[0]}<br>Principal Component 1=%{x}<br>Principal Component 2=%{y}<br>Principal Component 3=%{z}<br>Cluster=%{marker.color}<extra></extra>",
         "legendgroup": "54",
         "marker": {
          "color": [
           0
          ],
          "coloraxis": "coloraxis",
          "symbol": "square"
         },
         "mode": "markers",
         "name": "54",
         "scene": "scene",
         "showlegend": true,
         "type": "scatter3d",
         "x": [
          -7992.986657041262
         ],
         "y": [
          -1811.470358604083
         ],
         "z": [
          -565.2313336643964
         ]
        },
        {
         "customdata": [
          [
           55
          ]
         ],
         "hovertemplate": "Sensor ID=%{customdata[0]}<br>Principal Component 1=%{x}<br>Principal Component 2=%{y}<br>Principal Component 3=%{z}<br>Cluster=%{marker.color}<extra></extra>",
         "legendgroup": "55",
         "marker": {
          "color": [
           0
          ],
          "coloraxis": "coloraxis",
          "symbol": "x"
         },
         "mode": "markers",
         "name": "55",
         "scene": "scene",
         "showlegend": true,
         "type": "scatter3d",
         "x": [
          -7244.201490535551
         ],
         "y": [
          -728.0954200801482
         ],
         "z": [
          3860.595573987353
         ]
        },
        {
         "customdata": [
          [
           56
          ]
         ],
         "hovertemplate": "Sensor ID=%{customdata[0]}<br>Principal Component 1=%{x}<br>Principal Component 2=%{y}<br>Principal Component 3=%{z}<br>Cluster=%{marker.color}<extra></extra>",
         "legendgroup": "56",
         "marker": {
          "color": [
           0
          ],
          "coloraxis": "coloraxis",
          "symbol": "cross"
         },
         "mode": "markers",
         "name": "56",
         "scene": "scene",
         "showlegend": true,
         "type": "scatter3d",
         "x": [
          -7903.602054438077
         ],
         "y": [
          -1806.857534974075
         ],
         "z": [
          -3198.2076362464068
         ]
        },
        {
         "customdata": [
          [
           57
          ]
         ],
         "hovertemplate": "Sensor ID=%{customdata[0]}<br>Principal Component 1=%{x}<br>Principal Component 2=%{y}<br>Principal Component 3=%{z}<br>Cluster=%{marker.color}<extra></extra>",
         "legendgroup": "57",
         "marker": {
          "color": [
           1
          ],
          "coloraxis": "coloraxis",
          "symbol": "circle"
         },
         "mode": "markers",
         "name": "57",
         "scene": "scene",
         "showlegend": true,
         "type": "scatter3d",
         "x": [
          57557.40150613473
         ],
         "y": [
          -3802.3921421938758
         ],
         "z": [
          -1459.195520389484
         ]
        },
        {
         "customdata": [
          [
           58
          ]
         ],
         "hovertemplate": "Sensor ID=%{customdata[0]}<br>Principal Component 1=%{x}<br>Principal Component 2=%{y}<br>Principal Component 3=%{z}<br>Cluster=%{marker.color}<extra></extra>",
         "legendgroup": "58",
         "marker": {
          "color": [
           0
          ],
          "coloraxis": "coloraxis",
          "symbol": "diamond"
         },
         "mode": "markers",
         "name": "58",
         "scene": "scene",
         "showlegend": true,
         "type": "scatter3d",
         "x": [
          -8012.533829983477
         ],
         "y": [
          -673.55307756778
         ],
         "z": [
          198.64643708935085
         ]
        },
        {
         "customdata": [
          [
           59
          ]
         ],
         "hovertemplate": "Sensor ID=%{customdata[0]}<br>Principal Component 1=%{x}<br>Principal Component 2=%{y}<br>Principal Component 3=%{z}<br>Cluster=%{marker.color}<extra></extra>",
         "legendgroup": "59",
         "marker": {
          "color": [
           0
          ],
          "coloraxis": "coloraxis",
          "symbol": "square"
         },
         "mode": "markers",
         "name": "59",
         "scene": "scene",
         "showlegend": true,
         "type": "scatter3d",
         "x": [
          -7203.420513333201
         ],
         "y": [
          -1845.4382582377805
         ],
         "z": [
          -2518.4603503726257
         ]
        },
        {
         "customdata": [
          [
           60
          ]
         ],
         "hovertemplate": "Sensor ID=%{customdata[0]}<br>Principal Component 1=%{x}<br>Principal Component 2=%{y}<br>Principal Component 3=%{z}<br>Cluster=%{marker.color}<extra></extra>",
         "legendgroup": "60",
         "marker": {
          "color": [
           0
          ],
          "coloraxis": "coloraxis",
          "symbol": "x"
         },
         "mode": "markers",
         "name": "60",
         "scene": "scene",
         "showlegend": true,
         "type": "scatter3d",
         "x": [
          -7958.786351647563
         ],
         "y": [
          -650.1771229574516
         ],
         "z": [
          -70.29659155154059
         ]
        },
        {
         "customdata": [
          [
           61
          ]
         ],
         "hovertemplate": "Sensor ID=%{customdata[0]}<br>Principal Component 1=%{x}<br>Principal Component 2=%{y}<br>Principal Component 3=%{z}<br>Cluster=%{marker.color}<extra></extra>",
         "legendgroup": "61",
         "marker": {
          "color": [
           0
          ],
          "coloraxis": "coloraxis",
          "symbol": "cross"
         },
         "mode": "markers",
         "name": "61",
         "scene": "scene",
         "showlegend": true,
         "type": "scatter3d",
         "x": [
          -7736.606710560599
         ],
         "y": [
          6345.796974120222
         ],
         "z": [
          -675.9763673902625
         ]
        },
        {
         "customdata": [
          [
           62
          ]
         ],
         "hovertemplate": "Sensor ID=%{customdata[0]}<br>Principal Component 1=%{x}<br>Principal Component 2=%{y}<br>Principal Component 3=%{z}<br>Cluster=%{marker.color}<extra></extra>",
         "legendgroup": "62",
         "marker": {
          "color": [
           0
          ],
          "coloraxis": "coloraxis",
          "symbol": "circle"
         },
         "mode": "markers",
         "name": "62",
         "scene": "scene",
         "showlegend": true,
         "type": "scatter3d",
         "x": [
          -8015.683751242248
         ],
         "y": [
          -1909.8034452998236
         ],
         "z": [
          -635.8863709653526
         ]
        },
        {
         "customdata": [
          [
           63
          ]
         ],
         "hovertemplate": "Sensor ID=%{customdata[0]}<br>Principal Component 1=%{x}<br>Principal Component 2=%{y}<br>Principal Component 3=%{z}<br>Cluster=%{marker.color}<extra></extra>",
         "legendgroup": "63",
         "marker": {
          "color": [
           0
          ],
          "coloraxis": "coloraxis",
          "symbol": "diamond"
         },
         "mode": "markers",
         "name": "63",
         "scene": "scene",
         "showlegend": true,
         "type": "scatter3d",
         "x": [
          -8015.046012328174
         ],
         "y": [
          -1702.446471367331
         ],
         "z": [
          2699.055516115719
         ]
        },
        {
         "customdata": [
          [
           64
          ]
         ],
         "hovertemplate": "Sensor ID=%{customdata[0]}<br>Principal Component 1=%{x}<br>Principal Component 2=%{y}<br>Principal Component 3=%{z}<br>Cluster=%{marker.color}<extra></extra>",
         "legendgroup": "64",
         "marker": {
          "color": [
           1
          ],
          "coloraxis": "coloraxis",
          "symbol": "square"
         },
         "mode": "markers",
         "name": "64",
         "scene": "scene",
         "showlegend": true,
         "type": "scatter3d",
         "x": [
          57551.831240396576
         ],
         "y": [
          -3046.0803821673358
         ],
         "z": [
          93.17350681560796
         ]
        },
        {
         "customdata": [
          [
           65
          ]
         ],
         "hovertemplate": "Sensor ID=%{customdata[0]}<br>Principal Component 1=%{x}<br>Principal Component 2=%{y}<br>Principal Component 3=%{z}<br>Cluster=%{marker.color}<extra></extra>",
         "legendgroup": "65",
         "marker": {
          "color": [
           0
          ],
          "coloraxis": "coloraxis",
          "symbol": "x"
         },
         "mode": "markers",
         "name": "65",
         "scene": "scene",
         "showlegend": true,
         "type": "scatter3d",
         "x": [
          -7987.683627684355
         ],
         "y": [
          -739.4215747193307
         ],
         "z": [
          574.6686431314741
         ]
        },
        {
         "customdata": [
          [
           66
          ]
         ],
         "hovertemplate": "Sensor ID=%{customdata[0]}<br>Principal Component 1=%{x}<br>Principal Component 2=%{y}<br>Principal Component 3=%{z}<br>Cluster=%{marker.color}<extra></extra>",
         "legendgroup": "66",
         "marker": {
          "color": [
           0
          ],
          "coloraxis": "coloraxis",
          "symbol": "cross"
         },
         "mode": "markers",
         "name": "66",
         "scene": "scene",
         "showlegend": true,
         "type": "scatter3d",
         "x": [
          -7275.917101256903
         ],
         "y": [
          -2005.105842034314
         ],
         "z": [
          1261.3609893001603
         ]
        },
        {
         "customdata": [
          [
           67
          ]
         ],
         "hovertemplate": "Sensor ID=%{customdata[0]}<br>Principal Component 1=%{x}<br>Principal Component 2=%{y}<br>Principal Component 3=%{z}<br>Cluster=%{marker.color}<extra></extra>",
         "legendgroup": "67",
         "marker": {
          "color": [
           0
          ],
          "coloraxis": "coloraxis",
          "symbol": "circle"
         },
         "mode": "markers",
         "name": "67",
         "scene": "scene",
         "showlegend": true,
         "type": "scatter3d",
         "x": [
          -7187.709115571136
         ],
         "y": [
          -1838.1772863535316
         ],
         "z": [
          -2449.8294857814394
         ]
        },
        {
         "customdata": [
          [
           68
          ]
         ],
         "hovertemplate": "Sensor ID=%{customdata[0]}<br>Principal Component 1=%{x}<br>Principal Component 2=%{y}<br>Principal Component 3=%{z}<br>Cluster=%{marker.color}<extra></extra>",
         "legendgroup": "68",
         "marker": {
          "color": [
           0
          ],
          "coloraxis": "coloraxis",
          "symbol": "diamond"
         },
         "mode": "markers",
         "name": "68",
         "scene": "scene",
         "showlegend": true,
         "type": "scatter3d",
         "x": [
          -7999.154424980563
         ],
         "y": [
          -1701.166948465364
         ],
         "z": [
          -2618.357837189301
         ]
        },
        {
         "customdata": [
          [
           69
          ]
         ],
         "hovertemplate": "Sensor ID=%{customdata[0]}<br>Principal Component 1=%{x}<br>Principal Component 2=%{y}<br>Principal Component 3=%{z}<br>Cluster=%{marker.color}<extra></extra>",
         "legendgroup": "69",
         "marker": {
          "color": [
           0
          ],
          "coloraxis": "coloraxis",
          "symbol": "square"
         },
         "mode": "markers",
         "name": "69",
         "scene": "scene",
         "showlegend": true,
         "type": "scatter3d",
         "x": [
          -8053.629905142161
         ],
         "y": [
          -1680.8065702288236
         ],
         "z": [
          1992.9647848077714
         ]
        },
        {
         "customdata": [
          [
           70
          ]
         ],
         "hovertemplate": "Sensor ID=%{customdata[0]}<br>Principal Component 1=%{x}<br>Principal Component 2=%{y}<br>Principal Component 3=%{z}<br>Cluster=%{marker.color}<extra></extra>",
         "legendgroup": "70",
         "marker": {
          "color": [
           0
          ],
          "coloraxis": "coloraxis",
          "symbol": "x"
         },
         "mode": "markers",
         "name": "70",
         "scene": "scene",
         "showlegend": true,
         "type": "scatter3d",
         "x": [
          -7960.658589324443
         ],
         "y": [
          -1836.7191033358847
         ],
         "z": [
          812.4036728959603
         ]
        },
        {
         "customdata": [
          [
           71
          ]
         ],
         "hovertemplate": "Sensor ID=%{customdata[0]}<br>Principal Component 1=%{x}<br>Principal Component 2=%{y}<br>Principal Component 3=%{z}<br>Cluster=%{marker.color}<extra></extra>",
         "legendgroup": "71",
         "marker": {
          "color": [
           0
          ],
          "coloraxis": "coloraxis",
          "symbol": "cross"
         },
         "mode": "markers",
         "name": "71",
         "scene": "scene",
         "showlegend": true,
         "type": "scatter3d",
         "x": [
          -7957.182138856447
         ],
         "y": [
          -1880.080865191687
         ],
         "z": [
          360.77739150847395
         ]
        },
        {
         "customdata": [
          [
           72
          ]
         ],
         "hovertemplate": "Sensor ID=%{customdata[0]}<br>Principal Component 1=%{x}<br>Principal Component 2=%{y}<br>Principal Component 3=%{z}<br>Cluster=%{marker.color}<extra></extra>",
         "legendgroup": "72",
         "marker": {
          "color": [
           0
          ],
          "coloraxis": "coloraxis",
          "symbol": "circle"
         },
         "mode": "markers",
         "name": "72",
         "scene": "scene",
         "showlegend": true,
         "type": "scatter3d",
         "x": [
          -7988.6434184281115
         ],
         "y": [
          -1786.726410362082
         ],
         "z": [
          -243.16865866886636
         ]
        },
        {
         "customdata": [
          [
           73
          ]
         ],
         "hovertemplate": "Sensor ID=%{customdata[0]}<br>Principal Component 1=%{x}<br>Principal Component 2=%{y}<br>Principal Component 3=%{z}<br>Cluster=%{marker.color}<extra></extra>",
         "legendgroup": "73",
         "marker": {
          "color": [
           0
          ],
          "coloraxis": "coloraxis",
          "symbol": "diamond"
         },
         "mode": "markers",
         "name": "73",
         "scene": "scene",
         "showlegend": true,
         "type": "scatter3d",
         "x": [
          -7949.81848627373
         ],
         "y": [
          -1753.977725056285
         ],
         "z": [
          -1293.2311723779064
         ]
        },
        {
         "customdata": [
          [
           74
          ]
         ],
         "hovertemplate": "Sensor ID=%{customdata[0]}<br>Principal Component 1=%{x}<br>Principal Component 2=%{y}<br>Principal Component 3=%{z}<br>Cluster=%{marker.color}<extra></extra>",
         "legendgroup": "74",
         "marker": {
          "color": [
           0
          ],
          "coloraxis": "coloraxis",
          "symbol": "square"
         },
         "mode": "markers",
         "name": "74",
         "scene": "scene",
         "showlegend": true,
         "type": "scatter3d",
         "x": [
          -7219.771071566383
         ],
         "y": [
          -771.9322903421133
         ],
         "z": [
          2317.4891226494756
         ]
        },
        {
         "customdata": [
          [
           75
          ]
         ],
         "hovertemplate": "Sensor ID=%{customdata[0]}<br>Principal Component 1=%{x}<br>Principal Component 2=%{y}<br>Principal Component 3=%{z}<br>Cluster=%{marker.color}<extra></extra>",
         "legendgroup": "75",
         "marker": {
          "color": [
           0
          ],
          "coloraxis": "coloraxis",
          "symbol": "x"
         },
         "mode": "markers",
         "name": "75",
         "scene": "scene",
         "showlegend": true,
         "type": "scatter3d",
         "x": [
          -7921.809579225517
         ],
         "y": [
          -1753.3274203506471
         ],
         "z": [
          -2213.5454874741968
         ]
        },
        {
         "customdata": [
          [
           76
          ]
         ],
         "hovertemplate": "Sensor ID=%{customdata[0]}<br>Principal Component 1=%{x}<br>Principal Component 2=%{y}<br>Principal Component 3=%{z}<br>Cluster=%{marker.color}<extra></extra>",
         "legendgroup": "76",
         "marker": {
          "color": [
           0
          ],
          "coloraxis": "coloraxis",
          "symbol": "cross"
         },
         "mode": "markers",
         "name": "76",
         "scene": "scene",
         "showlegend": true,
         "type": "scatter3d",
         "x": [
          -7579.471191208741
         ],
         "y": [
          12165.184957206304
         ],
         "z": [
          -2251.2363866113524
         ]
        },
        {
         "customdata": [
          [
           77
          ]
         ],
         "hovertemplate": "Sensor ID=%{customdata[0]}<br>Principal Component 1=%{x}<br>Principal Component 2=%{y}<br>Principal Component 3=%{z}<br>Cluster=%{marker.color}<extra></extra>",
         "legendgroup": "77",
         "marker": {
          "color": [
           0
          ],
          "coloraxis": "coloraxis",
          "symbol": "circle"
         },
         "mode": "markers",
         "name": "77",
         "scene": "scene",
         "showlegend": true,
         "type": "scatter3d",
         "x": [
          -8002.788117998998
         ],
         "y": [
          -1799.7334686609631
         ],
         "z": [
          -524.4880995285489
         ]
        },
        {
         "customdata": [
          [
           78
          ]
         ],
         "hovertemplate": "Sensor ID=%{customdata[0]}<br>Principal Component 1=%{x}<br>Principal Component 2=%{y}<br>Principal Component 3=%{z}<br>Cluster=%{marker.color}<extra></extra>",
         "legendgroup": "78",
         "marker": {
          "color": [
           0
          ],
          "coloraxis": "coloraxis",
          "symbol": "diamond"
         },
         "mode": "markers",
         "name": "78",
         "scene": "scene",
         "showlegend": true,
         "type": "scatter3d",
         "x": [
          -7909.152541728788
         ],
         "y": [
          -759.4181055812808
         ],
         "z": [
          -2363.600070954417
         ]
        },
        {
         "customdata": [
          [
           79
          ]
         ],
         "hovertemplate": "Sensor ID=%{customdata[0]}<br>Principal Component 1=%{x}<br>Principal Component 2=%{y}<br>Principal Component 3=%{z}<br>Cluster=%{marker.color}<extra></extra>",
         "legendgroup": "79",
         "marker": {
          "color": [
           0
          ],
          "coloraxis": "coloraxis",
          "symbol": "square"
         },
         "mode": "markers",
         "name": "79",
         "scene": "scene",
         "showlegend": true,
         "type": "scatter3d",
         "x": [
          -7990.374810461576
         ],
         "y": [
          -1761.1488166470972
         ],
         "z": [
          238.89732121752203
         ]
        },
        {
         "customdata": [
          [
           80
          ]
         ],
         "hovertemplate": "Sensor ID=%{customdata[0]}<br>Principal Component 1=%{x}<br>Principal Component 2=%{y}<br>Principal Component 3=%{z}<br>Cluster=%{marker.color}<extra></extra>",
         "legendgroup": "80",
         "marker": {
          "color": [
           0
          ],
          "coloraxis": "coloraxis",
          "symbol": "x"
         },
         "mode": "markers",
         "name": "80",
         "scene": "scene",
         "showlegend": true,
         "type": "scatter3d",
         "x": [
          -7303.551019821311
         ],
         "y": [
          -1891.1991009644369
         ],
         "z": [
          1715.5390882102813
         ]
        },
        {
         "customdata": [
          [
           81
          ]
         ],
         "hovertemplate": "Sensor ID=%{customdata[0]}<br>Principal Component 1=%{x}<br>Principal Component 2=%{y}<br>Principal Component 3=%{z}<br>Cluster=%{marker.color}<extra></extra>",
         "legendgroup": "81",
         "marker": {
          "color": [
           0
          ],
          "coloraxis": "coloraxis",
          "symbol": "cross"
         },
         "mode": "markers",
         "name": "81",
         "scene": "scene",
         "showlegend": true,
         "type": "scatter3d",
         "x": [
          -7968.466057745695
         ],
         "y": [
          -610.9275896474294
         ],
         "z": [
          -202.03626277432602
         ]
        },
        {
         "customdata": [
          [
           82
          ]
         ],
         "hovertemplate": "Sensor ID=%{customdata[0]}<br>Principal Component 1=%{x}<br>Principal Component 2=%{y}<br>Principal Component 3=%{z}<br>Cluster=%{marker.color}<extra></extra>",
         "legendgroup": "82",
         "marker": {
          "color": [
           0
          ],
          "coloraxis": "coloraxis",
          "symbol": "circle"
         },
         "mode": "markers",
         "name": "82",
         "scene": "scene",
         "showlegend": true,
         "type": "scatter3d",
         "x": [
          -7278.832603721047
         ],
         "y": [
          -1740.449347012959
         ],
         "z": [
          -103.00331385463345
         ]
        },
        {
         "customdata": [
          [
           83
          ]
         ],
         "hovertemplate": "Sensor ID=%{customdata[0]}<br>Principal Component 1=%{x}<br>Principal Component 2=%{y}<br>Principal Component 3=%{z}<br>Cluster=%{marker.color}<extra></extra>",
         "legendgroup": "83",
         "marker": {
          "color": [
           0
          ],
          "coloraxis": "coloraxis",
          "symbol": "diamond"
         },
         "mode": "markers",
         "name": "83",
         "scene": "scene",
         "showlegend": true,
         "type": "scatter3d",
         "x": [
          -8118.4791450820285
         ],
         "y": [
          -1821.4922360777382
         ],
         "z": [
          3461.103093781348
         ]
        },
        {
         "customdata": [
          [
           84
          ]
         ],
         "hovertemplate": "Sensor ID=%{customdata[0]}<br>Principal Component 1=%{x}<br>Principal Component 2=%{y}<br>Principal Component 3=%{z}<br>Cluster=%{marker.color}<extra></extra>",
         "legendgroup": "84",
         "marker": {
          "color": [
           0
          ],
          "coloraxis": "coloraxis",
          "symbol": "square"
         },
         "mode": "markers",
         "name": "84",
         "scene": "scene",
         "showlegend": true,
         "type": "scatter3d",
         "x": [
          -7300.259630966317
         ],
         "y": [
          -1676.7262714380417
         ],
         "z": [
          1063.427108723289
         ]
        },
        {
         "customdata": [
          [
           85
          ]
         ],
         "hovertemplate": "Sensor ID=%{customdata[0]}<br>Principal Component 1=%{x}<br>Principal Component 2=%{y}<br>Principal Component 3=%{z}<br>Cluster=%{marker.color}<extra></extra>",
         "legendgroup": "85",
         "marker": {
          "color": [
           0
          ],
          "coloraxis": "coloraxis",
          "symbol": "x"
         },
         "mode": "markers",
         "name": "85",
         "scene": "scene",
         "showlegend": true,
         "type": "scatter3d",
         "x": [
          -7983.0669398374475
         ],
         "y": [
          -679.8531451631941
         ],
         "z": [
          -1559.6980478383339
         ]
        },
        {
         "customdata": [
          [
           86
          ]
         ],
         "hovertemplate": "Sensor ID=%{customdata[0]}<br>Principal Component 1=%{x}<br>Principal Component 2=%{y}<br>Principal Component 3=%{z}<br>Cluster=%{marker.color}<extra></extra>",
         "legendgroup": "86",
         "marker": {
          "color": [
           0
          ],
          "coloraxis": "coloraxis",
          "symbol": "cross"
         },
         "mode": "markers",
         "name": "86",
         "scene": "scene",
         "showlegend": true,
         "type": "scatter3d",
         "x": [
          -8055.438083571583
         ],
         "y": [
          -1777.8668647688673
         ],
         "z": [
          249.06330796480395
         ]
        },
        {
         "customdata": [
          [
           87
          ]
         ],
         "hovertemplate": "Sensor ID=%{customdata[0]}<br>Principal Component 1=%{x}<br>Principal Component 2=%{y}<br>Principal Component 3=%{z}<br>Cluster=%{marker.color}<extra></extra>",
         "legendgroup": "87",
         "marker": {
          "color": [
           0
          ],
          "coloraxis": "coloraxis",
          "symbol": "circle"
         },
         "mode": "markers",
         "name": "87",
         "scene": "scene",
         "showlegend": true,
         "type": "scatter3d",
         "x": [
          -8041.731743503257
         ],
         "y": [
          -1742.2709232269426
         ],
         "z": [
          543.8578435657422
         ]
        },
        {
         "customdata": [
          [
           88
          ]
         ],
         "hovertemplate": "Sensor ID=%{customdata[0]}<br>Principal Component 1=%{x}<br>Principal Component 2=%{y}<br>Principal Component 3=%{z}<br>Cluster=%{marker.color}<extra></extra>",
         "legendgroup": "88",
         "marker": {
          "color": [
           0
          ],
          "coloraxis": "coloraxis",
          "symbol": "diamond"
         },
         "mode": "markers",
         "name": "88",
         "scene": "scene",
         "showlegend": true,
         "type": "scatter3d",
         "x": [
          -8138.627108253585
         ],
         "y": [
          -1688.3160211374066
         ],
         "z": [
          2754.0238558127294
         ]
        },
        {
         "customdata": [
          [
           89
          ]
         ],
         "hovertemplate": "Sensor ID=%{customdata[0]}<br>Principal Component 1=%{x}<br>Principal Component 2=%{y}<br>Principal Component 3=%{z}<br>Cluster=%{marker.color}<extra></extra>",
         "legendgroup": "89",
         "marker": {
          "color": [
           0
          ],
          "coloraxis": "coloraxis",
          "symbol": "square"
         },
         "mode": "markers",
         "name": "89",
         "scene": "scene",
         "showlegend": true,
         "type": "scatter3d",
         "x": [
          -7287.160414407785
         ],
         "y": [
          -1779.6915032548075
         ],
         "z": [
          1884.5337745074266
         ]
        },
        {
         "customdata": [
          [
           90
          ]
         ],
         "hovertemplate": "Sensor ID=%{customdata[0]}<br>Principal Component 1=%{x}<br>Principal Component 2=%{y}<br>Principal Component 3=%{z}<br>Cluster=%{marker.color}<extra></extra>",
         "legendgroup": "90",
         "marker": {
          "color": [
           0
          ],
          "coloraxis": "coloraxis",
          "symbol": "x"
         },
         "mode": "markers",
         "name": "90",
         "scene": "scene",
         "showlegend": true,
         "type": "scatter3d",
         "x": [
          -7981.940047509184
         ],
         "y": [
          -1775.1307120493805
         ],
         "z": [
          -3348.6702250116514
         ]
        },
        {
         "customdata": [
          [
           91
          ]
         ],
         "hovertemplate": "Sensor ID=%{customdata[0]}<br>Principal Component 1=%{x}<br>Principal Component 2=%{y}<br>Principal Component 3=%{z}<br>Cluster=%{marker.color}<extra></extra>",
         "legendgroup": "91",
         "marker": {
          "color": [
           0
          ],
          "coloraxis": "coloraxis",
          "symbol": "cross"
         },
         "mode": "markers",
         "name": "91",
         "scene": "scene",
         "showlegend": true,
         "type": "scatter3d",
         "x": [
          -7984.554582257568
         ],
         "y": [
          -1760.8151798518566
         ],
         "z": [
          471.832581592661
         ]
        },
        {
         "customdata": [
          [
           92
          ]
         ],
         "hovertemplate": "Sensor ID=%{customdata[0]}<br>Principal Component 1=%{x}<br>Principal Component 2=%{y}<br>Principal Component 3=%{z}<br>Cluster=%{marker.color}<extra></extra>",
         "legendgroup": "92",
         "marker": {
          "color": [
           0
          ],
          "coloraxis": "coloraxis",
          "symbol": "circle"
         },
         "mode": "markers",
         "name": "92",
         "scene": "scene",
         "showlegend": true,
         "type": "scatter3d",
         "x": [
          -7263.548308240891
         ],
         "y": [
          -1767.1893799453667
         ],
         "z": [
          1907.7999589886742
         ]
        },
        {
         "customdata": [
          [
           93
          ]
         ],
         "hovertemplate": "Sensor ID=%{customdata[0]}<br>Principal Component 1=%{x}<br>Principal Component 2=%{y}<br>Principal Component 3=%{z}<br>Cluster=%{marker.color}<extra></extra>",
         "legendgroup": "93",
         "marker": {
          "color": [
           0
          ],
          "coloraxis": "coloraxis",
          "symbol": "diamond"
         },
         "mode": "markers",
         "name": "93",
         "scene": "scene",
         "showlegend": true,
         "type": "scatter3d",
         "x": [
          -7945.405666588684
         ],
         "y": [
          -813.9028508937424
         ],
         "z": [
          2865.766008191726
         ]
        },
        {
         "customdata": [
          [
           94
          ]
         ],
         "hovertemplate": "Sensor ID=%{customdata[0]}<br>Principal Component 1=%{x}<br>Principal Component 2=%{y}<br>Principal Component 3=%{z}<br>Cluster=%{marker.color}<extra></extra>",
         "legendgroup": "94",
         "marker": {
          "color": [
           0
          ],
          "coloraxis": "coloraxis",
          "symbol": "square"
         },
         "mode": "markers",
         "name": "94",
         "scene": "scene",
         "showlegend": true,
         "type": "scatter3d",
         "x": [
          -8048.174573309472
         ],
         "y": [
          -1670.088445728528
         ],
         "z": [
          384.0633216987844
         ]
        },
        {
         "customdata": [
          [
           95
          ]
         ],
         "hovertemplate": "Sensor ID=%{customdata[0]}<br>Principal Component 1=%{x}<br>Principal Component 2=%{y}<br>Principal Component 3=%{z}<br>Cluster=%{marker.color}<extra></extra>",
         "legendgroup": "95",
         "marker": {
          "color": [
           0
          ],
          "coloraxis": "coloraxis",
          "symbol": "x"
         },
         "mode": "markers",
         "name": "95",
         "scene": "scene",
         "showlegend": true,
         "type": "scatter3d",
         "x": [
          -8026.5118382035635
         ],
         "y": [
          -1863.8058665828048
         ],
         "z": [
          773.5811681460415
         ]
        },
        {
         "customdata": [
          [
           96
          ]
         ],
         "hovertemplate": "Sensor ID=%{customdata[0]}<br>Principal Component 1=%{x}<br>Principal Component 2=%{y}<br>Principal Component 3=%{z}<br>Cluster=%{marker.color}<extra></extra>",
         "legendgroup": "96",
         "marker": {
          "color": [
           0
          ],
          "coloraxis": "coloraxis",
          "symbol": "cross"
         },
         "mode": "markers",
         "name": "96",
         "scene": "scene",
         "showlegend": true,
         "type": "scatter3d",
         "x": [
          -7942.439558341785
         ],
         "y": [
          -745.8802547768812
         ],
         "z": [
          -2727.9912393602654
         ]
        },
        {
         "customdata": [
          [
           97
          ]
         ],
         "hovertemplate": "Sensor ID=%{customdata[0]}<br>Principal Component 1=%{x}<br>Principal Component 2=%{y}<br>Principal Component 3=%{z}<br>Cluster=%{marker.color}<extra></extra>",
         "legendgroup": "97",
         "marker": {
          "color": [
           0
          ],
          "coloraxis": "coloraxis",
          "symbol": "circle"
         },
         "mode": "markers",
         "name": "97",
         "scene": "scene",
         "showlegend": true,
         "type": "scatter3d",
         "x": [
          -7949.375969042976
         ],
         "y": [
          -662.3651813985782
         ],
         "z": [
          -1999.3715842906176
         ]
        },
        {
         "customdata": [
          [
           98
          ]
         ],
         "hovertemplate": "Sensor ID=%{customdata[0]}<br>Principal Component 1=%{x}<br>Principal Component 2=%{y}<br>Principal Component 3=%{z}<br>Cluster=%{marker.color}<extra></extra>",
         "legendgroup": "98",
         "marker": {
          "color": [
           0
          ],
          "coloraxis": "coloraxis",
          "symbol": "diamond"
         },
         "mode": "markers",
         "name": "98",
         "scene": "scene",
         "showlegend": true,
         "type": "scatter3d",
         "x": [
          -7942.163378470694
         ],
         "y": [
          -1747.3344376824025
         ],
         "z": [
          -1921.9303364905074
         ]
        },
        {
         "customdata": [
          [
           99
          ]
         ],
         "hovertemplate": "Sensor ID=%{customdata[0]}<br>Principal Component 1=%{x}<br>Principal Component 2=%{y}<br>Principal Component 3=%{z}<br>Cluster=%{marker.color}<extra></extra>",
         "legendgroup": "99",
         "marker": {
          "color": [
           0
          ],
          "coloraxis": "coloraxis",
          "symbol": "square"
         },
         "mode": "markers",
         "name": "99",
         "scene": "scene",
         "showlegend": true,
         "type": "scatter3d",
         "x": [
          -7156.654666928209
         ],
         "y": [
          -678.7939220523461
         ],
         "z": [
          -2287.3824484097904
         ]
        },
        {
         "customdata": [
          [
           100
          ]
         ],
         "hovertemplate": "Sensor ID=%{customdata[0]}<br>Principal Component 1=%{x}<br>Principal Component 2=%{y}<br>Principal Component 3=%{z}<br>Cluster=%{marker.color}<extra></extra>",
         "legendgroup": "100",
         "marker": {
          "color": [
           0
          ],
          "coloraxis": "coloraxis",
          "symbol": "x"
         },
         "mode": "markers",
         "name": "100",
         "scene": "scene",
         "showlegend": true,
         "type": "scatter3d",
         "x": [
          -8111.917065383473
         ],
         "y": [
          -1721.848623028098
         ],
         "z": [
          4005.2154622899334
         ]
        },
        {
         "customdata": [
          [
           101
          ]
         ],
         "hovertemplate": "Sensor ID=%{customdata[0]}<br>Principal Component 1=%{x}<br>Principal Component 2=%{y}<br>Principal Component 3=%{z}<br>Cluster=%{marker.color}<extra></extra>",
         "legendgroup": "101",
         "marker": {
          "color": [
           0
          ],
          "coloraxis": "coloraxis",
          "symbol": "cross"
         },
         "mode": "markers",
         "name": "101",
         "scene": "scene",
         "showlegend": true,
         "type": "scatter3d",
         "x": [
          -7254.295012837656
         ],
         "y": [
          -598.9002452018701
         ],
         "z": [
          417.9291920323048
         ]
        },
        {
         "customdata": [
          [
           102
          ]
         ],
         "hovertemplate": "Sensor ID=%{customdata[0]}<br>Principal Component 1=%{x}<br>Principal Component 2=%{y}<br>Principal Component 3=%{z}<br>Cluster=%{marker.color}<extra></extra>",
         "legendgroup": "102",
         "marker": {
          "color": [
           0
          ],
          "coloraxis": "coloraxis",
          "symbol": "circle"
         },
         "mode": "markers",
         "name": "102",
         "scene": "scene",
         "showlegend": true,
         "type": "scatter3d",
         "x": [
          -8001.940353003861
         ],
         "y": [
          -633.7233806062205
         ],
         "z": [
          -942.3320267018266
         ]
        },
        {
         "customdata": [
          [
           103
          ]
         ],
         "hovertemplate": "Sensor ID=%{customdata[0]}<br>Principal Component 1=%{x}<br>Principal Component 2=%{y}<br>Principal Component 3=%{z}<br>Cluster=%{marker.color}<extra></extra>",
         "legendgroup": "103",
         "marker": {
          "color": [
           0
          ],
          "coloraxis": "coloraxis",
          "symbol": "diamond"
         },
         "mode": "markers",
         "name": "103",
         "scene": "scene",
         "showlegend": true,
         "type": "scatter3d",
         "x": [
          -7993.570331799167
         ],
         "y": [
          -1664.8301232538158
         ],
         "z": [
          -1672.6300701954892
         ]
        },
        {
         "customdata": [
          [
           104
          ]
         ],
         "hovertemplate": "Sensor ID=%{customdata[0]}<br>Principal Component 1=%{x}<br>Principal Component 2=%{y}<br>Principal Component 3=%{z}<br>Cluster=%{marker.color}<extra></extra>",
         "legendgroup": "104",
         "marker": {
          "color": [
           0
          ],
          "coloraxis": "coloraxis",
          "symbol": "square"
         },
         "mode": "markers",
         "name": "104",
         "scene": "scene",
         "showlegend": true,
         "type": "scatter3d",
         "x": [
          -7135.360411192965
         ],
         "y": [
          -845.5371371479525
         ],
         "z": [
          -122.21643176248743
         ]
        },
        {
         "customdata": [
          [
           105
          ]
         ],
         "hovertemplate": "Sensor ID=%{customdata[0]}<br>Principal Component 1=%{x}<br>Principal Component 2=%{y}<br>Principal Component 3=%{z}<br>Cluster=%{marker.color}<extra></extra>",
         "legendgroup": "105",
         "marker": {
          "color": [
           0
          ],
          "coloraxis": "coloraxis",
          "symbol": "x"
         },
         "mode": "markers",
         "name": "105",
         "scene": "scene",
         "showlegend": true,
         "type": "scatter3d",
         "x": [
          -7814.228062587071
         ],
         "y": [
          -1696.6515002124909
         ],
         "z": [
          -3062.650193468202
         ]
        },
        {
         "customdata": [
          [
           106
          ]
         ],
         "hovertemplate": "Sensor ID=%{customdata[0]}<br>Principal Component 1=%{x}<br>Principal Component 2=%{y}<br>Principal Component 3=%{z}<br>Cluster=%{marker.color}<extra></extra>",
         "legendgroup": "106",
         "marker": {
          "color": [
           0
          ],
          "coloraxis": "coloraxis",
          "symbol": "cross"
         },
         "mode": "markers",
         "name": "106",
         "scene": "scene",
         "showlegend": true,
         "type": "scatter3d",
         "x": [
          -7360.9967009032425
         ],
         "y": [
          -1659.8370023109305
         ],
         "z": [
          219.72368643098656
         ]
        },
        {
         "customdata": [
          [
           107
          ]
         ],
         "hovertemplate": "Sensor ID=%{customdata[0]}<br>Principal Component 1=%{x}<br>Principal Component 2=%{y}<br>Principal Component 3=%{z}<br>Cluster=%{marker.color}<extra></extra>",
         "legendgroup": "107",
         "marker": {
          "color": [
           0
          ],
          "coloraxis": "coloraxis",
          "symbol": "circle"
         },
         "mode": "markers",
         "name": "107",
         "scene": "scene",
         "showlegend": true,
         "type": "scatter3d",
         "x": [
          -7996.17591995084
         ],
         "y": [
          -707.9461626726963
         ],
         "z": [
          477.74871379407557
         ]
        },
        {
         "customdata": [
          [
           108
          ]
         ],
         "hovertemplate": "Sensor ID=%{customdata[0]}<br>Principal Component 1=%{x}<br>Principal Component 2=%{y}<br>Principal Component 3=%{z}<br>Cluster=%{marker.color}<extra></extra>",
         "legendgroup": "108",
         "marker": {
          "color": [
           0
          ],
          "coloraxis": "coloraxis",
          "symbol": "diamond"
         },
         "mode": "markers",
         "name": "108",
         "scene": "scene",
         "showlegend": true,
         "type": "scatter3d",
         "x": [
          -7954.54156340131
         ],
         "y": [
          -1768.553473695159
         ],
         "z": [
          -828.375952914774
         ]
        },
        {
         "customdata": [
          [
           109
          ]
         ],
         "hovertemplate": "Sensor ID=%{customdata[0]}<br>Principal Component 1=%{x}<br>Principal Component 2=%{y}<br>Principal Component 3=%{z}<br>Cluster=%{marker.color}<extra></extra>",
         "legendgroup": "109",
         "marker": {
          "color": [
           1
          ],
          "coloraxis": "coloraxis",
          "symbol": "square"
         },
         "mode": "markers",
         "name": "109",
         "scene": "scene",
         "showlegend": true,
         "type": "scatter3d",
         "x": [
          57581.0108279457
         ],
         "y": [
          -3895.4285765743884
         ],
         "z": [
          -2691.7525501424707
         ]
        },
        {
         "customdata": [
          [
           110
          ]
         ],
         "hovertemplate": "Sensor ID=%{customdata[0]}<br>Principal Component 1=%{x}<br>Principal Component 2=%{y}<br>Principal Component 3=%{z}<br>Cluster=%{marker.color}<extra></extra>",
         "legendgroup": "110",
         "marker": {
          "color": [
           0
          ],
          "coloraxis": "coloraxis",
          "symbol": "x"
         },
         "mode": "markers",
         "name": "110",
         "scene": "scene",
         "showlegend": true,
         "type": "scatter3d",
         "x": [
          -7094.010689947731
         ],
         "y": [
          -710.3862686658326
         ],
         "z": [
          -4339.298474385656
         ]
        },
        {
         "customdata": [
          [
           111
          ]
         ],
         "hovertemplate": "Sensor ID=%{customdata[0]}<br>Principal Component 1=%{x}<br>Principal Component 2=%{y}<br>Principal Component 3=%{z}<br>Cluster=%{marker.color}<extra></extra>",
         "legendgroup": "111",
         "marker": {
          "color": [
           0
          ],
          "coloraxis": "coloraxis",
          "symbol": "cross"
         },
         "mode": "markers",
         "name": "111",
         "scene": "scene",
         "showlegend": true,
         "type": "scatter3d",
         "x": [
          -8063.765774811418
         ],
         "y": [
          -1718.164901651297
         ],
         "z": [
          5276.881422649201
         ]
        },
        {
         "customdata": [
          [
           112
          ]
         ],
         "hovertemplate": "Sensor ID=%{customdata[0]}<br>Principal Component 1=%{x}<br>Principal Component 2=%{y}<br>Principal Component 3=%{z}<br>Cluster=%{marker.color}<extra></extra>",
         "legendgroup": "112",
         "marker": {
          "color": [
           0
          ],
          "coloraxis": "coloraxis",
          "symbol": "circle"
         },
         "mode": "markers",
         "name": "112",
         "scene": "scene",
         "showlegend": true,
         "type": "scatter3d",
         "x": [
          -7918.269922534045
         ],
         "y": [
          -1747.7164612557383
         ],
         "z": [
          -3802.509787050594
         ]
        },
        {
         "customdata": [
          [
           113
          ]
         ],
         "hovertemplate": "Sensor ID=%{customdata[0]}<br>Principal Component 1=%{x}<br>Principal Component 2=%{y}<br>Principal Component 3=%{z}<br>Cluster=%{marker.color}<extra></extra>",
         "legendgroup": "113",
         "marker": {
          "color": [
           1
          ],
          "coloraxis": "coloraxis",
          "symbol": "diamond"
         },
         "mode": "markers",
         "name": "113",
         "scene": "scene",
         "showlegend": true,
         "type": "scatter3d",
         "x": [
          57593.91485200343
         ],
         "y": [
          -3908.8742036645986
         ],
         "z": [
          -2137.1080487841414
         ]
        },
        {
         "customdata": [
          [
           114
          ]
         ],
         "hovertemplate": "Sensor ID=%{customdata[0]}<br>Principal Component 1=%{x}<br>Principal Component 2=%{y}<br>Principal Component 3=%{z}<br>Cluster=%{marker.color}<extra></extra>",
         "legendgroup": "114",
         "marker": {
          "color": [
           0
          ],
          "coloraxis": "coloraxis",
          "symbol": "square"
         },
         "mode": "markers",
         "name": "114",
         "scene": "scene",
         "showlegend": true,
         "type": "scatter3d",
         "x": [
          -7933.080009788456
         ],
         "y": [
          -800.1801021752487
         ],
         "z": [
          -294.54239326389234
         ]
        },
        {
         "customdata": [
          [
           115
          ]
         ],
         "hovertemplate": "Sensor ID=%{customdata[0]}<br>Principal Component 1=%{x}<br>Principal Component 2=%{y}<br>Principal Component 3=%{z}<br>Cluster=%{marker.color}<extra></extra>",
         "legendgroup": "115",
         "marker": {
          "color": [
           0
          ],
          "coloraxis": "coloraxis",
          "symbol": "x"
         },
         "mode": "markers",
         "name": "115",
         "scene": "scene",
         "showlegend": true,
         "type": "scatter3d",
         "x": [
          -7320.140691097375
         ],
         "y": [
          -1825.6526437929901
         ],
         "z": [
          3593.1209561212995
         ]
        },
        {
         "customdata": [
          [
           116
          ]
         ],
         "hovertemplate": "Sensor ID=%{customdata[0]}<br>Principal Component 1=%{x}<br>Principal Component 2=%{y}<br>Principal Component 3=%{z}<br>Cluster=%{marker.color}<extra></extra>",
         "legendgroup": "116",
         "marker": {
          "color": [
           0
          ],
          "coloraxis": "coloraxis",
          "symbol": "cross"
         },
         "mode": "markers",
         "name": "116",
         "scene": "scene",
         "showlegend": true,
         "type": "scatter3d",
         "x": [
          -7378.897033664555
         ],
         "y": [
          -1808.3479153004644
         ],
         "z": [
          6353.081507511857
         ]
        },
        {
         "customdata": [
          [
           117
          ]
         ],
         "hovertemplate": "Sensor ID=%{customdata[0]}<br>Principal Component 1=%{x}<br>Principal Component 2=%{y}<br>Principal Component 3=%{z}<br>Cluster=%{marker.color}<extra></extra>",
         "legendgroup": "117",
         "marker": {
          "color": [
           0
          ],
          "coloraxis": "coloraxis",
          "symbol": "circle"
         },
         "mode": "markers",
         "name": "117",
         "scene": "scene",
         "showlegend": true,
         "type": "scatter3d",
         "x": [
          -7292.66110166692
         ],
         "y": [
          -1795.788055441276
         ],
         "z": [
          877.1054139581486
         ]
        },
        {
         "customdata": [
          [
           118
          ]
         ],
         "hovertemplate": "Sensor ID=%{customdata[0]}<br>Principal Component 1=%{x}<br>Principal Component 2=%{y}<br>Principal Component 3=%{z}<br>Cluster=%{marker.color}<extra></extra>",
         "legendgroup": "118",
         "marker": {
          "color": [
           0
          ],
          "coloraxis": "coloraxis",
          "symbol": "diamond"
         },
         "mode": "markers",
         "name": "118",
         "scene": "scene",
         "showlegend": true,
         "type": "scatter3d",
         "x": [
          -7966.602203294257
         ],
         "y": [
          -737.6565666602846
         ],
         "z": [
          -274.1214248981723
         ]
        },
        {
         "customdata": [
          [
           119
          ]
         ],
         "hovertemplate": "Sensor ID=%{customdata[0]}<br>Principal Component 1=%{x}<br>Principal Component 2=%{y}<br>Principal Component 3=%{z}<br>Cluster=%{marker.color}<extra></extra>",
         "legendgroup": "119",
         "marker": {
          "color": [
           0
          ],
          "coloraxis": "coloraxis",
          "symbol": "square"
         },
         "mode": "markers",
         "name": "119",
         "scene": "scene",
         "showlegend": true,
         "type": "scatter3d",
         "x": [
          -7262.72248338242
         ],
         "y": [
          -1748.332702024253
         ],
         "z": [
          -1556.8042755429633
         ]
        },
        {
         "customdata": [
          [
           120
          ]
         ],
         "hovertemplate": "Sensor ID=%{customdata[0]}<br>Principal Component 1=%{x}<br>Principal Component 2=%{y}<br>Principal Component 3=%{z}<br>Cluster=%{marker.color}<extra></extra>",
         "legendgroup": "120",
         "marker": {
          "color": [
           0
          ],
          "coloraxis": "coloraxis",
          "symbol": "x"
         },
         "mode": "markers",
         "name": "120",
         "scene": "scene",
         "showlegend": true,
         "type": "scatter3d",
         "x": [
          -8102.3430174488685
         ],
         "y": [
          -1647.1305341251286
         ],
         "z": [
          2420.7710558787526
         ]
        },
        {
         "customdata": [
          [
           121
          ]
         ],
         "hovertemplate": "Sensor ID=%{customdata[0]}<br>Principal Component 1=%{x}<br>Principal Component 2=%{y}<br>Principal Component 3=%{z}<br>Cluster=%{marker.color}<extra></extra>",
         "legendgroup": "121",
         "marker": {
          "color": [
           1
          ],
          "coloraxis": "coloraxis",
          "symbol": "cross"
         },
         "mode": "markers",
         "name": "121",
         "scene": "scene",
         "showlegend": true,
         "type": "scatter3d",
         "x": [
          57564.05990659693
         ],
         "y": [
          -3818.8638681573498
         ],
         "z": [
          -462.606292951502
         ]
        },
        {
         "customdata": [
          [
           122
          ]
         ],
         "hovertemplate": "Sensor ID=%{customdata[0]}<br>Principal Component 1=%{x}<br>Principal Component 2=%{y}<br>Principal Component 3=%{z}<br>Cluster=%{marker.color}<extra></extra>",
         "legendgroup": "122",
         "marker": {
          "color": [
           0
          ],
          "coloraxis": "coloraxis",
          "symbol": "circle"
         },
         "mode": "markers",
         "name": "122",
         "scene": "scene",
         "showlegend": true,
         "type": "scatter3d",
         "x": [
          -8084.600985172673
         ],
         "y": [
          -1814.892097969612
         ],
         "z": [
          3652.397478169051
         ]
        },
        {
         "customdata": [
          [
           123
          ]
         ],
         "hovertemplate": "Sensor ID=%{customdata[0]}<br>Principal Component 1=%{x}<br>Principal Component 2=%{y}<br>Principal Component 3=%{z}<br>Cluster=%{marker.color}<extra></extra>",
         "legendgroup": "123",
         "marker": {
          "color": [
           0
          ],
          "coloraxis": "coloraxis",
          "symbol": "diamond"
         },
         "mode": "markers",
         "name": "123",
         "scene": "scene",
         "showlegend": true,
         "type": "scatter3d",
         "x": [
          -7920.294527824276
         ],
         "y": [
          -666.4856797488244
         ],
         "z": [
          -2840.5799228319433
         ]
        },
        {
         "customdata": [
          [
           124
          ]
         ],
         "hovertemplate": "Sensor ID=%{customdata[0]}<br>Principal Component 1=%{x}<br>Principal Component 2=%{y}<br>Principal Component 3=%{z}<br>Cluster=%{marker.color}<extra></extra>",
         "legendgroup": "124",
         "marker": {
          "color": [
           1
          ],
          "coloraxis": "coloraxis",
          "symbol": "square"
         },
         "mode": "markers",
         "name": "124",
         "scene": "scene",
         "showlegend": true,
         "type": "scatter3d",
         "x": [
          57464.43359375102
         ],
         "y": [
          -3674.058230925709
         ],
         "z": [
          3639.3390082340406
         ]
        },
        {
         "customdata": [
          [
           125
          ]
         ],
         "hovertemplate": "Sensor ID=%{customdata[0]}<br>Principal Component 1=%{x}<br>Principal Component 2=%{y}<br>Principal Component 3=%{z}<br>Cluster=%{marker.color}<extra></extra>",
         "legendgroup": "125",
         "marker": {
          "color": [
           0
          ],
          "coloraxis": "coloraxis",
          "symbol": "x"
         },
         "mode": "markers",
         "name": "125",
         "scene": "scene",
         "showlegend": true,
         "type": "scatter3d",
         "x": [
          -7991.467887531177
         ],
         "y": [
          -1803.0134085645047
         ],
         "z": [
          353.4503668431059
         ]
        },
        {
         "customdata": [
          [
           126
          ]
         ],
         "hovertemplate": "Sensor ID=%{customdata[0]}<br>Principal Component 1=%{x}<br>Principal Component 2=%{y}<br>Principal Component 3=%{z}<br>Cluster=%{marker.color}<extra></extra>",
         "legendgroup": "126",
         "marker": {
          "color": [
           0
          ],
          "coloraxis": "coloraxis",
          "symbol": "cross"
         },
         "mode": "markers",
         "name": "126",
         "scene": "scene",
         "showlegend": true,
         "type": "scatter3d",
         "x": [
          -8041.818854244322
         ],
         "y": [
          -1679.4413847252815
         ],
         "z": [
          2006.8059922258208
         ]
        },
        {
         "customdata": [
          [
           127
          ]
         ],
         "hovertemplate": "Sensor ID=%{customdata[0]}<br>Principal Component 1=%{x}<br>Principal Component 2=%{y}<br>Principal Component 3=%{z}<br>Cluster=%{marker.color}<extra></extra>",
         "legendgroup": "127",
         "marker": {
          "color": [
           1
          ],
          "coloraxis": "coloraxis",
          "symbol": "circle"
         },
         "mode": "markers",
         "name": "127",
         "scene": "scene",
         "showlegend": true,
         "type": "scatter3d",
         "x": [
          57552.06368610859
         ],
         "y": [
          -3913.4594983673273
         ],
         "z": [
          -2955.523461551591
         ]
        },
        {
         "customdata": [
          [
           128
          ]
         ],
         "hovertemplate": "Sensor ID=%{customdata[0]}<br>Principal Component 1=%{x}<br>Principal Component 2=%{y}<br>Principal Component 3=%{z}<br>Cluster=%{marker.color}<extra></extra>",
         "legendgroup": "128",
         "marker": {
          "color": [
           0
          ],
          "coloraxis": "coloraxis",
          "symbol": "diamond"
         },
         "mode": "markers",
         "name": "128",
         "scene": "scene",
         "showlegend": true,
         "type": "scatter3d",
         "x": [
          -7255.11300048333
         ],
         "y": [
          -1843.5056770454999
         ],
         "z": [
          1603.8066716317733
         ]
        },
        {
         "customdata": [
          [
           129
          ]
         ],
         "hovertemplate": "Sensor ID=%{customdata[0]}<br>Principal Component 1=%{x}<br>Principal Component 2=%{y}<br>Principal Component 3=%{z}<br>Cluster=%{marker.color}<extra></extra>",
         "legendgroup": "129",
         "marker": {
          "color": [
           0
          ],
          "coloraxis": "coloraxis",
          "symbol": "square"
         },
         "mode": "markers",
         "name": "129",
         "scene": "scene",
         "showlegend": true,
         "type": "scatter3d",
         "x": [
          -7141.004080924349
         ],
         "y": [
          -1775.9091184106032
         ],
         "z": [
          -4049.000638301184
         ]
        },
        {
         "customdata": [
          [
           130
          ]
         ],
         "hovertemplate": "Sensor ID=%{customdata[0]}<br>Principal Component 1=%{x}<br>Principal Component 2=%{y}<br>Principal Component 3=%{z}<br>Cluster=%{marker.color}<extra></extra>",
         "legendgroup": "130",
         "marker": {
          "color": [
           1
          ],
          "coloraxis": "coloraxis",
          "symbol": "x"
         },
         "mode": "markers",
         "name": "130",
         "scene": "scene",
         "showlegend": true,
         "type": "scatter3d",
         "x": [
          57478.81622800003
         ],
         "y": [
          -3181.146536823661
         ],
         "z": [
          3888.595649135859
         ]
        },
        {
         "customdata": [
          [
           131
          ]
         ],
         "hovertemplate": "Sensor ID=%{customdata[0]}<br>Principal Component 1=%{x}<br>Principal Component 2=%{y}<br>Principal Component 3=%{z}<br>Cluster=%{marker.color}<extra></extra>",
         "legendgroup": "131",
         "marker": {
          "color": [
           0
          ],
          "coloraxis": "coloraxis",
          "symbol": "cross"
         },
         "mode": "markers",
         "name": "131",
         "scene": "scene",
         "showlegend": true,
         "type": "scatter3d",
         "x": [
          -7969.1464635310795
         ],
         "y": [
          -602.9603625839272
         ],
         "z": [
          -1665.411136384559
         ]
        },
        {
         "customdata": [
          [
           132
          ]
         ],
         "hovertemplate": "Sensor ID=%{customdata[0]}<br>Principal Component 1=%{x}<br>Principal Component 2=%{y}<br>Principal Component 3=%{z}<br>Cluster=%{marker.color}<extra></extra>",
         "legendgroup": "132",
         "marker": {
          "color": [
           0
          ],
          "coloraxis": "coloraxis",
          "symbol": "circle"
         },
         "mode": "markers",
         "name": "132",
         "scene": "scene",
         "showlegend": true,
         "type": "scatter3d",
         "x": [
          -7934.593872693447
         ],
         "y": [
          -1818.3146104458617
         ],
         "z": [
          -3347.4732997891724
         ]
        },
        {
         "customdata": [
          [
           133
          ]
         ],
         "hovertemplate": "Sensor ID=%{customdata[0]}<br>Principal Component 1=%{x}<br>Principal Component 2=%{y}<br>Principal Component 3=%{z}<br>Cluster=%{marker.color}<extra></extra>",
         "legendgroup": "133",
         "marker": {
          "color": [
           0
          ],
          "coloraxis": "coloraxis",
          "symbol": "diamond"
         },
         "mode": "markers",
         "name": "133",
         "scene": "scene",
         "showlegend": true,
         "type": "scatter3d",
         "x": [
          -7265.158066824225
         ],
         "y": [
          -718.5371257700875
         ],
         "z": [
          3604.729855287438
         ]
        },
        {
         "customdata": [
          [
           134
          ]
         ],
         "hovertemplate": "Sensor ID=%{customdata[0]}<br>Principal Component 1=%{x}<br>Principal Component 2=%{y}<br>Principal Component 3=%{z}<br>Cluster=%{marker.color}<extra></extra>",
         "legendgroup": "134",
         "marker": {
          "color": [
           0
          ],
          "coloraxis": "coloraxis",
          "symbol": "square"
         },
         "mode": "markers",
         "name": "134",
         "scene": "scene",
         "showlegend": true,
         "type": "scatter3d",
         "x": [
          -7210.294331726322
         ],
         "y": [
          -1715.645210141254
         ],
         "z": [
          -101.8087404973292
         ]
        },
        {
         "customdata": [
          [
           135
          ]
         ],
         "hovertemplate": "Sensor ID=%{customdata[0]}<br>Principal Component 1=%{x}<br>Principal Component 2=%{y}<br>Principal Component 3=%{z}<br>Cluster=%{marker.color}<extra></extra>",
         "legendgroup": "135",
         "marker": {
          "color": [
           0
          ],
          "coloraxis": "coloraxis",
          "symbol": "x"
         },
         "mode": "markers",
         "name": "135",
         "scene": "scene",
         "showlegend": true,
         "type": "scatter3d",
         "x": [
          -7248.450244086581
         ],
         "y": [
          -1778.9453140504713
         ],
         "z": [
          751.3032295452657
         ]
        },
        {
         "customdata": [
          [
           136
          ]
         ],
         "hovertemplate": "Sensor ID=%{customdata[0]}<br>Principal Component 1=%{x}<br>Principal Component 2=%{y}<br>Principal Component 3=%{z}<br>Cluster=%{marker.color}<extra></extra>",
         "legendgroup": "136",
         "marker": {
          "color": [
           0
          ],
          "coloraxis": "coloraxis",
          "symbol": "cross"
         },
         "mode": "markers",
         "name": "136",
         "scene": "scene",
         "showlegend": true,
         "type": "scatter3d",
         "x": [
          -7259.572709197669
         ],
         "y": [
          -1754.6365294174595
         ],
         "z": [
          244.94288498472758
         ]
        },
        {
         "customdata": [
          [
           137
          ]
         ],
         "hovertemplate": "Sensor ID=%{customdata[0]}<br>Principal Component 1=%{x}<br>Principal Component 2=%{y}<br>Principal Component 3=%{z}<br>Cluster=%{marker.color}<extra></extra>",
         "legendgroup": "137",
         "marker": {
          "color": [
           1
          ],
          "coloraxis": "coloraxis",
          "symbol": "circle"
         },
         "mode": "markers",
         "name": "137",
         "scene": "scene",
         "showlegend": true,
         "type": "scatter3d",
         "x": [
          57475.12060572946
         ],
         "y": [
          -3888.75136543753
         ],
         "z": [
          -1509.5097112664553
         ]
        },
        {
         "customdata": [
          [
           138
          ]
         ],
         "hovertemplate": "Sensor ID=%{customdata[0]}<br>Principal Component 1=%{x}<br>Principal Component 2=%{y}<br>Principal Component 3=%{z}<br>Cluster=%{marker.color}<extra></extra>",
         "legendgroup": "138",
         "marker": {
          "color": [
           0
          ],
          "coloraxis": "coloraxis",
          "symbol": "diamond"
         },
         "mode": "markers",
         "name": "138",
         "scene": "scene",
         "showlegend": true,
         "type": "scatter3d",
         "x": [
          -8043.870917792141
         ],
         "y": [
          -1667.8340633079238
         ],
         "z": [
          -1737.920031262894
         ]
        },
        {
         "customdata": [
          [
           139
          ]
         ],
         "hovertemplate": "Sensor ID=%{customdata[0]}<br>Principal Component 1=%{x}<br>Principal Component 2=%{y}<br>Principal Component 3=%{z}<br>Cluster=%{marker.color}<extra></extra>",
         "legendgroup": "139",
         "marker": {
          "color": [
           2
          ],
          "coloraxis": "coloraxis",
          "symbol": "square"
         },
         "mode": "markers",
         "name": "139",
         "scene": "scene",
         "showlegend": true,
         "type": "scatter3d",
         "x": [
          -6040.102005906412
         ],
         "y": [
          63961.39899869161
         ],
         "z": [
          3887.8260983440773
         ]
        },
        {
         "customdata": [
          [
           140
          ]
         ],
         "hovertemplate": "Sensor ID=%{customdata[0]}<br>Principal Component 1=%{x}<br>Principal Component 2=%{y}<br>Principal Component 3=%{z}<br>Cluster=%{marker.color}<extra></extra>",
         "legendgroup": "140",
         "marker": {
          "color": [
           0
          ],
          "coloraxis": "coloraxis",
          "symbol": "x"
         },
         "mode": "markers",
         "name": "140",
         "scene": "scene",
         "showlegend": true,
         "type": "scatter3d",
         "x": [
          -7955.251247989684
         ],
         "y": [
          -1798.2861000348396
         ],
         "z": [
          -1845.351910362457
         ]
        },
        {
         "customdata": [
          [
           141
          ]
         ],
         "hovertemplate": "Sensor ID=%{customdata[0]}<br>Principal Component 1=%{x}<br>Principal Component 2=%{y}<br>Principal Component 3=%{z}<br>Cluster=%{marker.color}<extra></extra>",
         "legendgroup": "141",
         "marker": {
          "color": [
           1
          ],
          "coloraxis": "coloraxis",
          "symbol": "cross"
         },
         "mode": "markers",
         "name": "141",
         "scene": "scene",
         "showlegend": true,
         "type": "scatter3d",
         "x": [
          57601.38931250748
         ],
         "y": [
          -2815.416168300781
         ],
         "z": [
          -1910.450899921678
         ]
        },
        {
         "customdata": [
          [
           142
          ]
         ],
         "hovertemplate": "Sensor ID=%{customdata[0]}<br>Principal Component 1=%{x}<br>Principal Component 2=%{y}<br>Principal Component 3=%{z}<br>Cluster=%{marker.color}<extra></extra>",
         "legendgroup": "142",
         "marker": {
          "color": [
           0
          ],
          "coloraxis": "coloraxis",
          "symbol": "circle"
         },
         "mode": "markers",
         "name": "142",
         "scene": "scene",
         "showlegend": true,
         "type": "scatter3d",
         "x": [
          -8038.449319126377
         ],
         "y": [
          -1827.238452620138
         ],
         "z": [
          -2221.0764518241494
         ]
        },
        {
         "customdata": [
          [
           143
          ]
         ],
         "hovertemplate": "Sensor ID=%{customdata[0]}<br>Principal Component 1=%{x}<br>Principal Component 2=%{y}<br>Principal Component 3=%{z}<br>Cluster=%{marker.color}<extra></extra>",
         "legendgroup": "143",
         "marker": {
          "color": [
           0
          ],
          "coloraxis": "coloraxis",
          "symbol": "diamond"
         },
         "mode": "markers",
         "name": "143",
         "scene": "scene",
         "showlegend": true,
         "type": "scatter3d",
         "x": [
          -7237.108936799154
         ],
         "y": [
          -1860.0949326551067
         ],
         "z": [
          1030.4252424262784
         ]
        },
        {
         "customdata": [
          [
           144
          ]
         ],
         "hovertemplate": "Sensor ID=%{customdata[0]}<br>Principal Component 1=%{x}<br>Principal Component 2=%{y}<br>Principal Component 3=%{z}<br>Cluster=%{marker.color}<extra></extra>",
         "legendgroup": "144",
         "marker": {
          "color": [
           1
          ],
          "coloraxis": "coloraxis",
          "symbol": "square"
         },
         "mode": "markers",
         "name": "144",
         "scene": "scene",
         "showlegend": true,
         "type": "scatter3d",
         "x": [
          57529.489843228235
         ],
         "y": [
          -3802.4505118133034
         ],
         "z": [
          196.90601226205425
         ]
        },
        {
         "customdata": [
          [
           145
          ]
         ],
         "hovertemplate": "Sensor ID=%{customdata[0]}<br>Principal Component 1=%{x}<br>Principal Component 2=%{y}<br>Principal Component 3=%{z}<br>Cluster=%{marker.color}<extra></extra>",
         "legendgroup": "145",
         "marker": {
          "color": [
           0
          ],
          "coloraxis": "coloraxis",
          "symbol": "x"
         },
         "mode": "markers",
         "name": "145",
         "scene": "scene",
         "showlegend": true,
         "type": "scatter3d",
         "x": [
          -7970.58523485604
         ],
         "y": [
          -760.9533072062007
         ],
         "z": [
          570.6574601219443
         ]
        },
        {
         "customdata": [
          [
           146
          ]
         ],
         "hovertemplate": "Sensor ID=%{customdata[0]}<br>Principal Component 1=%{x}<br>Principal Component 2=%{y}<br>Principal Component 3=%{z}<br>Cluster=%{marker.color}<extra></extra>",
         "legendgroup": "146",
         "marker": {
          "color": [
           1
          ],
          "coloraxis": "coloraxis",
          "symbol": "cross"
         },
         "mode": "markers",
         "name": "146",
         "scene": "scene",
         "showlegend": true,
         "type": "scatter3d",
         "x": [
          57726.76305841857
         ],
         "y": [
          -2938.8454596235824
         ],
         "z": [
          -2404.6233293275645
         ]
        },
        {
         "customdata": [
          [
           147
          ]
         ],
         "hovertemplate": "Sensor ID=%{customdata[0]}<br>Principal Component 1=%{x}<br>Principal Component 2=%{y}<br>Principal Component 3=%{z}<br>Cluster=%{marker.color}<extra></extra>",
         "legendgroup": "147",
         "marker": {
          "color": [
           1
          ],
          "coloraxis": "coloraxis",
          "symbol": "circle"
         },
         "mode": "markers",
         "name": "147",
         "scene": "scene",
         "showlegend": true,
         "type": "scatter3d",
         "x": [
          57531.788103443614
         ],
         "y": [
          -3891.5608299057894
         ],
         "z": [
          -844.4722665479072
         ]
        },
        {
         "customdata": [
          [
           148
          ]
         ],
         "hovertemplate": "Sensor ID=%{customdata[0]}<br>Principal Component 1=%{x}<br>Principal Component 2=%{y}<br>Principal Component 3=%{z}<br>Cluster=%{marker.color}<extra></extra>",
         "legendgroup": "148",
         "marker": {
          "color": [
           1
          ],
          "coloraxis": "coloraxis",
          "symbol": "diamond"
         },
         "mode": "markers",
         "name": "148",
         "scene": "scene",
         "showlegend": true,
         "type": "scatter3d",
         "x": [
          57599.066106534854
         ],
         "y": [
          -3972.9992553962475
         ],
         "z": [
          -1016.447836744729
         ]
        },
        {
         "customdata": [
          [
           149
          ]
         ],
         "hovertemplate": "Sensor ID=%{customdata[0]}<br>Principal Component 1=%{x}<br>Principal Component 2=%{y}<br>Principal Component 3=%{z}<br>Cluster=%{marker.color}<extra></extra>",
         "legendgroup": "149",
         "marker": {
          "color": [
           3
          ],
          "coloraxis": "coloraxis",
          "symbol": "square"
         },
         "mode": "markers",
         "name": "149",
         "scene": "scene",
         "showlegend": true,
         "type": "scatter3d",
         "x": [
          59285.86118110226
         ],
         "y": [
          48708.314728350546
         ],
         "z": [
          -2114.0248672880816
         ]
        },
        {
         "customdata": [
          [
           150
          ]
         ],
         "hovertemplate": "Sensor ID=%{customdata[0]}<br>Principal Component 1=%{x}<br>Principal Component 2=%{y}<br>Principal Component 3=%{z}<br>Cluster=%{marker.color}<extra></extra>",
         "legendgroup": "150",
         "marker": {
          "color": [
           1
          ],
          "coloraxis": "coloraxis",
          "symbol": "x"
         },
         "mode": "markers",
         "name": "150",
         "scene": "scene",
         "showlegend": true,
         "type": "scatter3d",
         "x": [
          57501.20477704721
         ],
         "y": [
          -3030.633497224045
         ],
         "z": [
          4931.967532668612
         ]
        },
        {
         "customdata": [
          [
           151
          ]
         ],
         "hovertemplate": "Sensor ID=%{customdata[0]}<br>Principal Component 1=%{x}<br>Principal Component 2=%{y}<br>Principal Component 3=%{z}<br>Cluster=%{marker.color}<extra></extra>",
         "legendgroup": "151",
         "marker": {
          "color": [
           1
          ],
          "coloraxis": "coloraxis",
          "symbol": "cross"
         },
         "mode": "markers",
         "name": "151",
         "scene": "scene",
         "showlegend": true,
         "type": "scatter3d",
         "x": [
          57448.4298599082
         ],
         "y": [
          -3809.302099341066
         ],
         "z": [
          2003.7275426370988
         ]
        },
        {
         "customdata": [
          [
           152
          ]
         ],
         "hovertemplate": "Sensor ID=%{customdata[0]}<br>Principal Component 1=%{x}<br>Principal Component 2=%{y}<br>Principal Component 3=%{z}<br>Cluster=%{marker.color}<extra></extra>",
         "legendgroup": "152",
         "marker": {
          "color": [
           0
          ],
          "coloraxis": "coloraxis",
          "symbol": "circle"
         },
         "mode": "markers",
         "name": "152",
         "scene": "scene",
         "showlegend": true,
         "type": "scatter3d",
         "x": [
          -7959.235388677713
         ],
         "y": [
          -1751.0197623162558
         ],
         "z": [
          -720.0234452836145
         ]
        },
        {
         "customdata": [
          [
           153
          ]
         ],
         "hovertemplate": "Sensor ID=%{customdata[0]}<br>Principal Component 1=%{x}<br>Principal Component 2=%{y}<br>Principal Component 3=%{z}<br>Cluster=%{marker.color}<extra></extra>",
         "legendgroup": "153",
         "marker": {
          "color": [
           0
          ],
          "coloraxis": "coloraxis",
          "symbol": "diamond"
         },
         "mode": "markers",
         "name": "153",
         "scene": "scene",
         "showlegend": true,
         "type": "scatter3d",
         "x": [
          -7934.129992184235
         ],
         "y": [
          -1774.4665319723538
         ],
         "z": [
          -3170.6012854439186
         ]
        },
        {
         "customdata": [
          [
           154
          ]
         ],
         "hovertemplate": "Sensor ID=%{customdata[0]}<br>Principal Component 1=%{x}<br>Principal Component 2=%{y}<br>Principal Component 3=%{z}<br>Cluster=%{marker.color}<extra></extra>",
         "legendgroup": "154",
         "marker": {
          "color": [
           0
          ],
          "coloraxis": "coloraxis",
          "symbol": "square"
         },
         "mode": "markers",
         "name": "154",
         "scene": "scene",
         "showlegend": true,
         "type": "scatter3d",
         "x": [
          -7971.768308546382
         ],
         "y": [
          -1705.7859596231533
         ],
         "z": [
          -405.1898644056794
         ]
        },
        {
         "customdata": [
          [
           155
          ]
         ],
         "hovertemplate": "Sensor ID=%{customdata[0]}<br>Principal Component 1=%{x}<br>Principal Component 2=%{y}<br>Principal Component 3=%{z}<br>Cluster=%{marker.color}<extra></extra>",
         "legendgroup": "155",
         "marker": {
          "color": [
           1
          ],
          "coloraxis": "coloraxis",
          "symbol": "x"
         },
         "mode": "markers",
         "name": "155",
         "scene": "scene",
         "showlegend": true,
         "type": "scatter3d",
         "x": [
          57525.979835394326
         ],
         "y": [
          -3887.99477104483
         ],
         "z": [
          1083.3969652679475
         ]
        },
        {
         "customdata": [
          [
           156
          ]
         ],
         "hovertemplate": "Sensor ID=%{customdata[0]}<br>Principal Component 1=%{x}<br>Principal Component 2=%{y}<br>Principal Component 3=%{z}<br>Cluster=%{marker.color}<extra></extra>",
         "legendgroup": "156",
         "marker": {
          "color": [
           0
          ],
          "coloraxis": "coloraxis",
          "symbol": "cross"
         },
         "mode": "markers",
         "name": "156",
         "scene": "scene",
         "showlegend": true,
         "type": "scatter3d",
         "x": [
          -7902.807866074126
         ],
         "y": [
          -755.9625770386639
         ],
         "z": [
          -2791.499050939709
         ]
        },
        {
         "customdata": [
          [
           157
          ]
         ],
         "hovertemplate": "Sensor ID=%{customdata[0]}<br>Principal Component 1=%{x}<br>Principal Component 2=%{y}<br>Principal Component 3=%{z}<br>Cluster=%{marker.color}<extra></extra>",
         "legendgroup": "157",
         "marker": {
          "color": [
           1
          ],
          "coloraxis": "coloraxis",
          "symbol": "circle"
         },
         "mode": "markers",
         "name": "157",
         "scene": "scene",
         "showlegend": true,
         "type": "scatter3d",
         "x": [
          57539.10381507068
         ],
         "y": [
          -2776.36623210121
         ],
         "z": [
          454.3812876078062
         ]
        },
        {
         "customdata": [
          [
           158
          ]
         ],
         "hovertemplate": "Sensor ID=%{customdata[0]}<br>Principal Component 1=%{x}<br>Principal Component 2=%{y}<br>Principal Component 3=%{z}<br>Cluster=%{marker.color}<extra></extra>",
         "legendgroup": "158",
         "marker": {
          "color": [
           0
          ],
          "coloraxis": "coloraxis",
          "symbol": "diamond"
         },
         "mode": "markers",
         "name": "158",
         "scene": "scene",
         "showlegend": true,
         "type": "scatter3d",
         "x": [
          -7917.564768589584
         ],
         "y": [
          -1778.59461098342
         ],
         "z": [
          -2724.7062397421196
         ]
        },
        {
         "customdata": [
          [
           159
          ]
         ],
         "hovertemplate": "Sensor ID=%{customdata[0]}<br>Principal Component 1=%{x}<br>Principal Component 2=%{y}<br>Principal Component 3=%{z}<br>Cluster=%{marker.color}<extra></extra>",
         "legendgroup": "159",
         "marker": {
          "color": [
           1
          ],
          "coloraxis": "coloraxis",
          "symbol": "square"
         },
         "mode": "markers",
         "name": "159",
         "scene": "scene",
         "showlegend": true,
         "type": "scatter3d",
         "x": [
          57849.61660910494
         ],
         "y": [
          7786.108131424759
         ],
         "z": [
          3215.5711761480056
         ]
        },
        {
         "customdata": [
          [
           160
          ]
         ],
         "hovertemplate": "Sensor ID=%{customdata[0]}<br>Principal Component 1=%{x}<br>Principal Component 2=%{y}<br>Principal Component 3=%{z}<br>Cluster=%{marker.color}<extra></extra>",
         "legendgroup": "160",
         "marker": {
          "color": [
           2
          ],
          "coloraxis": "coloraxis",
          "symbol": "x"
         },
         "mode": "markers",
         "name": "160",
         "scene": "scene",
         "showlegend": true,
         "type": "scatter3d",
         "x": [
          -5934.272532635606
         ],
         "y": [
          63892.265707875275
         ],
         "z": [
          1984.9636376303376
         ]
        },
        {
         "customdata": [
          [
           161
          ]
         ],
         "hovertemplate": "Sensor ID=%{customdata[0]}<br>Principal Component 1=%{x}<br>Principal Component 2=%{y}<br>Principal Component 3=%{z}<br>Cluster=%{marker.color}<extra></extra>",
         "legendgroup": "161",
         "marker": {
          "color": [
           0
          ],
          "coloraxis": "coloraxis",
          "symbol": "cross"
         },
         "mode": "markers",
         "name": "161",
         "scene": "scene",
         "showlegend": true,
         "type": "scatter3d",
         "x": [
          -7198.487674685662
         ],
         "y": [
          -1895.373177156574
         ],
         "z": [
          -2527.2155656573354
         ]
        },
        {
         "customdata": [
          [
           162
          ]
         ],
         "hovertemplate": "Sensor ID=%{customdata[0]}<br>Principal Component 1=%{x}<br>Principal Component 2=%{y}<br>Principal Component 3=%{z}<br>Cluster=%{marker.color}<extra></extra>",
         "legendgroup": "162",
         "marker": {
          "color": [
           0
          ],
          "coloraxis": "coloraxis",
          "symbol": "circle"
         },
         "mode": "markers",
         "name": "162",
         "scene": "scene",
         "showlegend": true,
         "type": "scatter3d",
         "x": [
          -7907.205950247384
         ],
         "y": [
          -734.9201645827509
         ],
         "z": [
          -3364.1240349123327
         ]
        },
        {
         "customdata": [
          [
           163
          ]
         ],
         "hovertemplate": "Sensor ID=%{customdata[0]}<br>Principal Component 1=%{x}<br>Principal Component 2=%{y}<br>Principal Component 3=%{z}<br>Cluster=%{marker.color}<extra></extra>",
         "legendgroup": "163",
         "marker": {
          "color": [
           0
          ],
          "coloraxis": "coloraxis",
          "symbol": "diamond"
         },
         "mode": "markers",
         "name": "163",
         "scene": "scene",
         "showlegend": true,
         "type": "scatter3d",
         "x": [
          -7765.882188333183
         ],
         "y": [
          8434.791697545521
         ],
         "z": [
          -170.81020101838936
         ]
        },
        {
         "customdata": [
          [
           164
          ]
         ],
         "hovertemplate": "Sensor ID=%{customdata[0]}<br>Principal Component 1=%{x}<br>Principal Component 2=%{y}<br>Principal Component 3=%{z}<br>Cluster=%{marker.color}<extra></extra>",
         "legendgroup": "164",
         "marker": {
          "color": [
           0
          ],
          "coloraxis": "coloraxis",
          "symbol": "square"
         },
         "mode": "markers",
         "name": "164",
         "scene": "scene",
         "showlegend": true,
         "type": "scatter3d",
         "x": [
          -8001.3452464695665
         ],
         "y": [
          -1798.1422188762417
         ],
         "z": [
          -946.8987855799818
         ]
        },
        {
         "customdata": [
          [
           165
          ]
         ],
         "hovertemplate": "Sensor ID=%{customdata[0]}<br>Principal Component 1=%{x}<br>Principal Component 2=%{y}<br>Principal Component 3=%{z}<br>Cluster=%{marker.color}<extra></extra>",
         "legendgroup": "165",
         "marker": {
          "color": [
           0
          ],
          "coloraxis": "coloraxis",
          "symbol": "x"
         },
         "mode": "markers",
         "name": "165",
         "scene": "scene",
         "showlegend": true,
         "type": "scatter3d",
         "x": [
          -7952.724293593216
         ],
         "y": [
          -702.0312029214846
         ],
         "z": [
          1744.6354987706516
         ]
        },
        {
         "customdata": [
          [
           166
          ]
         ],
         "hovertemplate": "Sensor ID=%{customdata[0]}<br>Principal Component 1=%{x}<br>Principal Component 2=%{y}<br>Principal Component 3=%{z}<br>Cluster=%{marker.color}<extra></extra>",
         "legendgroup": "166",
         "marker": {
          "color": [
           2
          ],
          "coloraxis": "coloraxis",
          "symbol": "cross"
         },
         "mode": "markers",
         "name": "166",
         "scene": "scene",
         "showlegend": true,
         "type": "scatter3d",
         "x": [
          -5038.67044779787
         ],
         "y": [
          63770.179176463
         ],
         "z": [
          -4349.910381966589
         ]
        },
        {
         "customdata": [
          [
           167
          ]
         ],
         "hovertemplate": "Sensor ID=%{customdata[0]}<br>Principal Component 1=%{x}<br>Principal Component 2=%{y}<br>Principal Component 3=%{z}<br>Cluster=%{marker.color}<extra></extra>",
         "legendgroup": "167",
         "marker": {
          "color": [
           0
          ],
          "coloraxis": "coloraxis",
          "symbol": "circle"
         },
         "mode": "markers",
         "name": "167",
         "scene": "scene",
         "showlegend": true,
         "type": "scatter3d",
         "x": [
          -7918.150520433597
         ],
         "y": [
          -799.2474293726103
         ],
         "z": [
          -2094.5777136159422
         ]
        },
        {
         "customdata": [
          [
           168
          ]
         ],
         "hovertemplate": "Sensor ID=%{customdata[0]}<br>Principal Component 1=%{x}<br>Principal Component 2=%{y}<br>Principal Component 3=%{z}<br>Cluster=%{marker.color}<extra></extra>",
         "legendgroup": "168",
         "marker": {
          "color": [
           0
          ],
          "coloraxis": "coloraxis",
          "symbol": "diamond"
         },
         "mode": "markers",
         "name": "168",
         "scene": "scene",
         "showlegend": true,
         "type": "scatter3d",
         "x": [
          -7963.112631866249
         ],
         "y": [
          -773.390726802261
         ],
         "z": [
          -838.8216018331826
         ]
        },
        {
         "customdata": [
          [
           169
          ]
         ],
         "hovertemplate": "Sensor ID=%{customdata[0]}<br>Principal Component 1=%{x}<br>Principal Component 2=%{y}<br>Principal Component 3=%{z}<br>Cluster=%{marker.color}<extra></extra>",
         "legendgroup": "169",
         "marker": {
          "color": [
           0
          ],
          "coloraxis": "coloraxis",
          "symbol": "square"
         },
         "mode": "markers",
         "name": "169",
         "scene": "scene",
         "showlegend": true,
         "type": "scatter3d",
         "x": [
          -8013.3128682169545
         ],
         "y": [
          -1746.7222730684196
         ],
         "z": [
          574.2027918462752
         ]
        },
        {
         "customdata": [
          [
           170
          ]
         ],
         "hovertemplate": "Sensor ID=%{customdata[0]}<br>Principal Component 1=%{x}<br>Principal Component 2=%{y}<br>Principal Component 3=%{z}<br>Cluster=%{marker.color}<extra></extra>",
         "legendgroup": "170",
         "marker": {
          "color": [
           0
          ],
          "coloraxis": "coloraxis",
          "symbol": "x"
         },
         "mode": "markers",
         "name": "170",
         "scene": "scene",
         "showlegend": true,
         "type": "scatter3d",
         "x": [
          -7229.62624421284
         ],
         "y": [
          -1812.9789062722423
         ],
         "z": [
          -1876.3388164129476
         ]
        }
       ],
       "layout": {
        "coloraxis": {
         "colorbar": {
          "title": {
           "text": "Cluster"
          }
         },
         "colorscale": [
          [
           0,
           "#0d0887"
          ],
          [
           0.1111111111111111,
           "#46039f"
          ],
          [
           0.2222222222222222,
           "#7201a8"
          ],
          [
           0.3333333333333333,
           "#9c179e"
          ],
          [
           0.4444444444444444,
           "#bd3786"
          ],
          [
           0.5555555555555556,
           "#d8576b"
          ],
          [
           0.6666666666666666,
           "#ed7953"
          ],
          [
           0.7777777777777778,
           "#fb9f3a"
          ],
          [
           0.8888888888888888,
           "#fdca26"
          ],
          [
           1,
           "#f0f921"
          ]
         ]
        },
        "legend": {
         "title": {
          "text": "Sensor ID"
         },
         "tracegroupgap": 0
        },
        "scene": {
         "domain": {
          "x": [
           0,
           1
          ],
          "y": [
           0,
           1
          ]
         },
         "xaxis": {
          "title": {
           "text": "Principal Component 1"
          }
         },
         "yaxis": {
          "title": {
           "text": "Principal Component 2"
          }
         },
         "zaxis": {
          "title": {
           "text": "Principal Component 3"
          }
         }
        },
        "template": {
         "data": {
          "bar": [
           {
            "error_x": {
             "color": "#2a3f5f"
            },
            "error_y": {
             "color": "#2a3f5f"
            },
            "marker": {
             "line": {
              "color": "#E5ECF6",
              "width": 0.5
             },
             "pattern": {
              "fillmode": "overlay",
              "size": 10,
              "solidity": 0.2
             }
            },
            "type": "bar"
           }
          ],
          "barpolar": [
           {
            "marker": {
             "line": {
              "color": "#E5ECF6",
              "width": 0.5
             },
             "pattern": {
              "fillmode": "overlay",
              "size": 10,
              "solidity": 0.2
             }
            },
            "type": "barpolar"
           }
          ],
          "carpet": [
           {
            "aaxis": {
             "endlinecolor": "#2a3f5f",
             "gridcolor": "white",
             "linecolor": "white",
             "minorgridcolor": "white",
             "startlinecolor": "#2a3f5f"
            },
            "baxis": {
             "endlinecolor": "#2a3f5f",
             "gridcolor": "white",
             "linecolor": "white",
             "minorgridcolor": "white",
             "startlinecolor": "#2a3f5f"
            },
            "type": "carpet"
           }
          ],
          "choropleth": [
           {
            "colorbar": {
             "outlinewidth": 0,
             "ticks": ""
            },
            "type": "choropleth"
           }
          ],
          "contour": [
           {
            "colorbar": {
             "outlinewidth": 0,
             "ticks": ""
            },
            "colorscale": [
             [
              0,
              "#0d0887"
             ],
             [
              0.1111111111111111,
              "#46039f"
             ],
             [
              0.2222222222222222,
              "#7201a8"
             ],
             [
              0.3333333333333333,
              "#9c179e"
             ],
             [
              0.4444444444444444,
              "#bd3786"
             ],
             [
              0.5555555555555556,
              "#d8576b"
             ],
             [
              0.6666666666666666,
              "#ed7953"
             ],
             [
              0.7777777777777778,
              "#fb9f3a"
             ],
             [
              0.8888888888888888,
              "#fdca26"
             ],
             [
              1,
              "#f0f921"
             ]
            ],
            "type": "contour"
           }
          ],
          "contourcarpet": [
           {
            "colorbar": {
             "outlinewidth": 0,
             "ticks": ""
            },
            "type": "contourcarpet"
           }
          ],
          "heatmap": [
           {
            "colorbar": {
             "outlinewidth": 0,
             "ticks": ""
            },
            "colorscale": [
             [
              0,
              "#0d0887"
             ],
             [
              0.1111111111111111,
              "#46039f"
             ],
             [
              0.2222222222222222,
              "#7201a8"
             ],
             [
              0.3333333333333333,
              "#9c179e"
             ],
             [
              0.4444444444444444,
              "#bd3786"
             ],
             [
              0.5555555555555556,
              "#d8576b"
             ],
             [
              0.6666666666666666,
              "#ed7953"
             ],
             [
              0.7777777777777778,
              "#fb9f3a"
             ],
             [
              0.8888888888888888,
              "#fdca26"
             ],
             [
              1,
              "#f0f921"
             ]
            ],
            "type": "heatmap"
           }
          ],
          "heatmapgl": [
           {
            "colorbar": {
             "outlinewidth": 0,
             "ticks": ""
            },
            "colorscale": [
             [
              0,
              "#0d0887"
             ],
             [
              0.1111111111111111,
              "#46039f"
             ],
             [
              0.2222222222222222,
              "#7201a8"
             ],
             [
              0.3333333333333333,
              "#9c179e"
             ],
             [
              0.4444444444444444,
              "#bd3786"
             ],
             [
              0.5555555555555556,
              "#d8576b"
             ],
             [
              0.6666666666666666,
              "#ed7953"
             ],
             [
              0.7777777777777778,
              "#fb9f3a"
             ],
             [
              0.8888888888888888,
              "#fdca26"
             ],
             [
              1,
              "#f0f921"
             ]
            ],
            "type": "heatmapgl"
           }
          ],
          "histogram": [
           {
            "marker": {
             "pattern": {
              "fillmode": "overlay",
              "size": 10,
              "solidity": 0.2
             }
            },
            "type": "histogram"
           }
          ],
          "histogram2d": [
           {
            "colorbar": {
             "outlinewidth": 0,
             "ticks": ""
            },
            "colorscale": [
             [
              0,
              "#0d0887"
             ],
             [
              0.1111111111111111,
              "#46039f"
             ],
             [
              0.2222222222222222,
              "#7201a8"
             ],
             [
              0.3333333333333333,
              "#9c179e"
             ],
             [
              0.4444444444444444,
              "#bd3786"
             ],
             [
              0.5555555555555556,
              "#d8576b"
             ],
             [
              0.6666666666666666,
              "#ed7953"
             ],
             [
              0.7777777777777778,
              "#fb9f3a"
             ],
             [
              0.8888888888888888,
              "#fdca26"
             ],
             [
              1,
              "#f0f921"
             ]
            ],
            "type": "histogram2d"
           }
          ],
          "histogram2dcontour": [
           {
            "colorbar": {
             "outlinewidth": 0,
             "ticks": ""
            },
            "colorscale": [
             [
              0,
              "#0d0887"
             ],
             [
              0.1111111111111111,
              "#46039f"
             ],
             [
              0.2222222222222222,
              "#7201a8"
             ],
             [
              0.3333333333333333,
              "#9c179e"
             ],
             [
              0.4444444444444444,
              "#bd3786"
             ],
             [
              0.5555555555555556,
              "#d8576b"
             ],
             [
              0.6666666666666666,
              "#ed7953"
             ],
             [
              0.7777777777777778,
              "#fb9f3a"
             ],
             [
              0.8888888888888888,
              "#fdca26"
             ],
             [
              1,
              "#f0f921"
             ]
            ],
            "type": "histogram2dcontour"
           }
          ],
          "mesh3d": [
           {
            "colorbar": {
             "outlinewidth": 0,
             "ticks": ""
            },
            "type": "mesh3d"
           }
          ],
          "parcoords": [
           {
            "line": {
             "colorbar": {
              "outlinewidth": 0,
              "ticks": ""
             }
            },
            "type": "parcoords"
           }
          ],
          "pie": [
           {
            "automargin": true,
            "type": "pie"
           }
          ],
          "scatter": [
           {
            "fillpattern": {
             "fillmode": "overlay",
             "size": 10,
             "solidity": 0.2
            },
            "type": "scatter"
           }
          ],
          "scatter3d": [
           {
            "line": {
             "colorbar": {
              "outlinewidth": 0,
              "ticks": ""
             }
            },
            "marker": {
             "colorbar": {
              "outlinewidth": 0,
              "ticks": ""
             }
            },
            "type": "scatter3d"
           }
          ],
          "scattercarpet": [
           {
            "marker": {
             "colorbar": {
              "outlinewidth": 0,
              "ticks": ""
             }
            },
            "type": "scattercarpet"
           }
          ],
          "scattergeo": [
           {
            "marker": {
             "colorbar": {
              "outlinewidth": 0,
              "ticks": ""
             }
            },
            "type": "scattergeo"
           }
          ],
          "scattergl": [
           {
            "marker": {
             "colorbar": {
              "outlinewidth": 0,
              "ticks": ""
             }
            },
            "type": "scattergl"
           }
          ],
          "scattermapbox": [
           {
            "marker": {
             "colorbar": {
              "outlinewidth": 0,
              "ticks": ""
             }
            },
            "type": "scattermapbox"
           }
          ],
          "scatterpolar": [
           {
            "marker": {
             "colorbar": {
              "outlinewidth": 0,
              "ticks": ""
             }
            },
            "type": "scatterpolar"
           }
          ],
          "scatterpolargl": [
           {
            "marker": {
             "colorbar": {
              "outlinewidth": 0,
              "ticks": ""
             }
            },
            "type": "scatterpolargl"
           }
          ],
          "scatterternary": [
           {
            "marker": {
             "colorbar": {
              "outlinewidth": 0,
              "ticks": ""
             }
            },
            "type": "scatterternary"
           }
          ],
          "surface": [
           {
            "colorbar": {
             "outlinewidth": 0,
             "ticks": ""
            },
            "colorscale": [
             [
              0,
              "#0d0887"
             ],
             [
              0.1111111111111111,
              "#46039f"
             ],
             [
              0.2222222222222222,
              "#7201a8"
             ],
             [
              0.3333333333333333,
              "#9c179e"
             ],
             [
              0.4444444444444444,
              "#bd3786"
             ],
             [
              0.5555555555555556,
              "#d8576b"
             ],
             [
              0.6666666666666666,
              "#ed7953"
             ],
             [
              0.7777777777777778,
              "#fb9f3a"
             ],
             [
              0.8888888888888888,
              "#fdca26"
             ],
             [
              1,
              "#f0f921"
             ]
            ],
            "type": "surface"
           }
          ],
          "table": [
           {
            "cells": {
             "fill": {
              "color": "#EBF0F8"
             },
             "line": {
              "color": "white"
             }
            },
            "header": {
             "fill": {
              "color": "#C8D4E3"
             },
             "line": {
              "color": "white"
             }
            },
            "type": "table"
           }
          ]
         },
         "layout": {
          "annotationdefaults": {
           "arrowcolor": "#2a3f5f",
           "arrowhead": 0,
           "arrowwidth": 1
          },
          "autotypenumbers": "strict",
          "coloraxis": {
           "colorbar": {
            "outlinewidth": 0,
            "ticks": ""
           }
          },
          "colorscale": {
           "diverging": [
            [
             0,
             "#8e0152"
            ],
            [
             0.1,
             "#c51b7d"
            ],
            [
             0.2,
             "#de77ae"
            ],
            [
             0.3,
             "#f1b6da"
            ],
            [
             0.4,
             "#fde0ef"
            ],
            [
             0.5,
             "#f7f7f7"
            ],
            [
             0.6,
             "#e6f5d0"
            ],
            [
             0.7,
             "#b8e186"
            ],
            [
             0.8,
             "#7fbc41"
            ],
            [
             0.9,
             "#4d9221"
            ],
            [
             1,
             "#276419"
            ]
           ],
           "sequential": [
            [
             0,
             "#0d0887"
            ],
            [
             0.1111111111111111,
             "#46039f"
            ],
            [
             0.2222222222222222,
             "#7201a8"
            ],
            [
             0.3333333333333333,
             "#9c179e"
            ],
            [
             0.4444444444444444,
             "#bd3786"
            ],
            [
             0.5555555555555556,
             "#d8576b"
            ],
            [
             0.6666666666666666,
             "#ed7953"
            ],
            [
             0.7777777777777778,
             "#fb9f3a"
            ],
            [
             0.8888888888888888,
             "#fdca26"
            ],
            [
             1,
             "#f0f921"
            ]
           ],
           "sequentialminus": [
            [
             0,
             "#0d0887"
            ],
            [
             0.1111111111111111,
             "#46039f"
            ],
            [
             0.2222222222222222,
             "#7201a8"
            ],
            [
             0.3333333333333333,
             "#9c179e"
            ],
            [
             0.4444444444444444,
             "#bd3786"
            ],
            [
             0.5555555555555556,
             "#d8576b"
            ],
            [
             0.6666666666666666,
             "#ed7953"
            ],
            [
             0.7777777777777778,
             "#fb9f3a"
            ],
            [
             0.8888888888888888,
             "#fdca26"
            ],
            [
             1,
             "#f0f921"
            ]
           ]
          },
          "colorway": [
           "#636efa",
           "#EF553B",
           "#00cc96",
           "#ab63fa",
           "#FFA15A",
           "#19d3f3",
           "#FF6692",
           "#B6E880",
           "#FF97FF",
           "#FECB52"
          ],
          "font": {
           "color": "#2a3f5f"
          },
          "geo": {
           "bgcolor": "white",
           "lakecolor": "white",
           "landcolor": "#E5ECF6",
           "showlakes": true,
           "showland": true,
           "subunitcolor": "white"
          },
          "hoverlabel": {
           "align": "left"
          },
          "hovermode": "closest",
          "mapbox": {
           "style": "light"
          },
          "paper_bgcolor": "white",
          "plot_bgcolor": "#E5ECF6",
          "polar": {
           "angularaxis": {
            "gridcolor": "white",
            "linecolor": "white",
            "ticks": ""
           },
           "bgcolor": "#E5ECF6",
           "radialaxis": {
            "gridcolor": "white",
            "linecolor": "white",
            "ticks": ""
           }
          },
          "scene": {
           "xaxis": {
            "backgroundcolor": "#E5ECF6",
            "gridcolor": "white",
            "gridwidth": 2,
            "linecolor": "white",
            "showbackground": true,
            "ticks": "",
            "zerolinecolor": "white"
           },
           "yaxis": {
            "backgroundcolor": "#E5ECF6",
            "gridcolor": "white",
            "gridwidth": 2,
            "linecolor": "white",
            "showbackground": true,
            "ticks": "",
            "zerolinecolor": "white"
           },
           "zaxis": {
            "backgroundcolor": "#E5ECF6",
            "gridcolor": "white",
            "gridwidth": 2,
            "linecolor": "white",
            "showbackground": true,
            "ticks": "",
            "zerolinecolor": "white"
           }
          },
          "shapedefaults": {
           "line": {
            "color": "#2a3f5f"
           }
          },
          "ternary": {
           "aaxis": {
            "gridcolor": "white",
            "linecolor": "white",
            "ticks": ""
           },
           "baxis": {
            "gridcolor": "white",
            "linecolor": "white",
            "ticks": ""
           },
           "bgcolor": "#E5ECF6",
           "caxis": {
            "gridcolor": "white",
            "linecolor": "white",
            "ticks": ""
           }
          },
          "title": {
           "x": 0.05
          },
          "xaxis": {
           "automargin": true,
           "gridcolor": "white",
           "linecolor": "white",
           "ticks": "",
           "title": {
            "standoff": 15
           },
           "zerolinecolor": "white",
           "zerolinewidth": 2
          },
          "yaxis": {
           "automargin": true,
           "gridcolor": "white",
           "linecolor": "white",
           "ticks": "",
           "title": {
            "standoff": 15
           },
           "zerolinecolor": "white",
           "zerolinewidth": 2
          }
         }
        },
        "title": {
         "text": "K-Means Clustering of Sensors Using PCA"
        }
       }
      }
     },
     "metadata": {},
     "output_type": "display_data"
    }
   ],
   "source": [
    "from sklearn.cluster import KMeans\n",
    "\n",
    "# Apply PCA\n",
    "pca = PCA(n_components=3)\n",
    "principal_components = pca.fit_transform(reduced_data_corr.drop(columns=['Sensor ID']))\n",
    "principal_df = pd.DataFrame(data=principal_components, columns=['PC1', 'PC2', 'PC3'])\n",
    "principal_df['Sensor ID'] = reduced_data_corr['Sensor ID']\n",
    "\n",
    "# Apply K-Means clustering\n",
    "kmeans = KMeans(n_clusters=4, random_state=42)\n",
    "principal_df['Cluster'] = kmeans.fit_predict(principal_df[['PC1', 'PC2', 'PC3']])\n",
    "\n",
    "# Create an interactive 3D scatter plot\n",
    "fig = px.scatter_3d(\n",
    "    principal_df,\n",
    "    x='PC1',\n",
    "    y='PC2',\n",
    "    z='PC3',\n",
    "    color='Cluster',\n",
    "    symbol='Sensor ID',\n",
    "    title='K-Means Clustering of Sensors Using PCA',\n",
    "    labels={'PC1': 'Principal Component 1', 'PC2': 'Principal Component 2', 'PC3': 'Principal Component 3'},\n",
    "    hover_data=['Sensor ID']\n",
    ")\n",
    "\n",
    "fig.show()"
   ]
  },
  {
   "cell_type": "markdown",
   "metadata": {},
   "source": [
    "# Retain Features that previously existed"
   ]
  },
  {
   "cell_type": "code",
   "execution_count": 37,
   "metadata": {},
   "outputs": [
    {
     "data": {
      "text/html": [
       "<div>\n",
       "<style scoped>\n",
       "    .dataframe tbody tr th:only-of-type {\n",
       "        vertical-align: middle;\n",
       "    }\n",
       "\n",
       "    .dataframe tbody tr th {\n",
       "        vertical-align: top;\n",
       "    }\n",
       "\n",
       "    .dataframe thead th {\n",
       "        text-align: right;\n",
       "    }\n",
       "</style>\n",
       "<table border=\"1\" class=\"dataframe\">\n",
       "  <thead>\n",
       "    <tr style=\"text-align: right;\">\n",
       "      <th>range_delay</th>\n",
       "      <th>Sensor ID</th>\n",
       "      <th>13_10000_mean_middle</th>\n",
       "      <th>13_16800_mean_middle</th>\n",
       "      <th>13_3000_mean_middle</th>\n",
       "      <th>13_6000_mean_middle</th>\n",
       "      <th>13_8000_mean_middle</th>\n",
       "      <th>18_10000_mean_middle</th>\n",
       "      <th>18_16800_mean_middle</th>\n",
       "      <th>18_3000_mean_middle</th>\n",
       "      <th>18_6000_mean_middle</th>\n",
       "      <th>...</th>\n",
       "      <th>48_10000_mean_upper</th>\n",
       "      <th>48_16800_mean_upper</th>\n",
       "      <th>48_3000_mean_upper</th>\n",
       "      <th>48_6000_mean_upper</th>\n",
       "      <th>48_8000_mean_upper</th>\n",
       "      <th>53_10000_mean_upper</th>\n",
       "      <th>53_16800_mean_upper</th>\n",
       "      <th>53_3000_mean_upper</th>\n",
       "      <th>53_6000_mean_upper</th>\n",
       "      <th>53_8000_mean_upper</th>\n",
       "    </tr>\n",
       "  </thead>\n",
       "  <tbody>\n",
       "    <tr>\n",
       "      <th>0</th>\n",
       "      <td>1</td>\n",
       "      <td>827.00</td>\n",
       "      <td>827.000000</td>\n",
       "      <td>827.00</td>\n",
       "      <td>827.00</td>\n",
       "      <td>827.00</td>\n",
       "      <td>1071.000000</td>\n",
       "      <td>1069.285714</td>\n",
       "      <td>1069.240000</td>\n",
       "      <td>1069.400000</td>\n",
       "      <td>...</td>\n",
       "      <td>2795.000000</td>\n",
       "      <td>0.0</td>\n",
       "      <td>2809.4</td>\n",
       "      <td>2803.000000</td>\n",
       "      <td>2800.333333</td>\n",
       "      <td>2995.545455</td>\n",
       "      <td>0.0</td>\n",
       "      <td>2995.444444</td>\n",
       "      <td>3039.727273</td>\n",
       "      <td>3004.043478</td>\n",
       "    </tr>\n",
       "    <tr>\n",
       "      <th>1</th>\n",
       "      <td>2</td>\n",
       "      <td>679.64</td>\n",
       "      <td>679.000000</td>\n",
       "      <td>679.00</td>\n",
       "      <td>679.00</td>\n",
       "      <td>679.00</td>\n",
       "      <td>943.000000</td>\n",
       "      <td>954.200000</td>\n",
       "      <td>967.260870</td>\n",
       "      <td>954.520000</td>\n",
       "      <td>...</td>\n",
       "      <td>2669.521739</td>\n",
       "      <td>0.0</td>\n",
       "      <td>0.0</td>\n",
       "      <td>0.000000</td>\n",
       "      <td>2691.000000</td>\n",
       "      <td>0.000000</td>\n",
       "      <td>2371.0</td>\n",
       "      <td>0.000000</td>\n",
       "      <td>2951.744186</td>\n",
       "      <td>0.000000</td>\n",
       "    </tr>\n",
       "    <tr>\n",
       "      <th>2</th>\n",
       "      <td>3</td>\n",
       "      <td>717.88</td>\n",
       "      <td>717.727273</td>\n",
       "      <td>718.04</td>\n",
       "      <td>717.24</td>\n",
       "      <td>718.04</td>\n",
       "      <td>1029.933333</td>\n",
       "      <td>1020.920000</td>\n",
       "      <td>1007.000000</td>\n",
       "      <td>1005.960000</td>\n",
       "      <td>...</td>\n",
       "      <td>0.000000</td>\n",
       "      <td>0.0</td>\n",
       "      <td>2743.0</td>\n",
       "      <td>2727.000000</td>\n",
       "      <td>0.000000</td>\n",
       "      <td>0.000000</td>\n",
       "      <td>0.0</td>\n",
       "      <td>0.000000</td>\n",
       "      <td>0.000000</td>\n",
       "      <td>0.000000</td>\n",
       "    </tr>\n",
       "    <tr>\n",
       "      <th>3</th>\n",
       "      <td>4</td>\n",
       "      <td>737.08</td>\n",
       "      <td>736.840000</td>\n",
       "      <td>737.16</td>\n",
       "      <td>736.92</td>\n",
       "      <td>736.68</td>\n",
       "      <td>1030.351351</td>\n",
       "      <td>1031.000000</td>\n",
       "      <td>1028.840000</td>\n",
       "      <td>1087.000000</td>\n",
       "      <td>...</td>\n",
       "      <td>0.000000</td>\n",
       "      <td>0.0</td>\n",
       "      <td>0.0</td>\n",
       "      <td>2755.195122</td>\n",
       "      <td>0.000000</td>\n",
       "      <td>3000.000000</td>\n",
       "      <td>3019.0</td>\n",
       "      <td>3000.116279</td>\n",
       "      <td>2999.930233</td>\n",
       "      <td>3000.116279</td>\n",
       "    </tr>\n",
       "    <tr>\n",
       "      <th>4</th>\n",
       "      <td>5</td>\n",
       "      <td>743.00</td>\n",
       "      <td>742.894737</td>\n",
       "      <td>741.88</td>\n",
       "      <td>743.00</td>\n",
       "      <td>743.00</td>\n",
       "      <td>1046.102041</td>\n",
       "      <td>1045.697674</td>\n",
       "      <td>1047.244898</td>\n",
       "      <td>1046.288889</td>\n",
       "      <td>...</td>\n",
       "      <td>0.000000</td>\n",
       "      <td>2755.0</td>\n",
       "      <td>0.0</td>\n",
       "      <td>0.000000</td>\n",
       "      <td>0.000000</td>\n",
       "      <td>0.000000</td>\n",
       "      <td>0.0</td>\n",
       "      <td>0.000000</td>\n",
       "      <td>0.000000</td>\n",
       "      <td>0.000000</td>\n",
       "    </tr>\n",
       "  </tbody>\n",
       "</table>\n",
       "<p>5 rows × 136 columns</p>\n",
       "</div>"
      ],
      "text/plain": [
       "range_delay  Sensor ID  13_10000_mean_middle  13_16800_mean_middle  \\\n",
       "0                    1                827.00            827.000000   \n",
       "1                    2                679.64            679.000000   \n",
       "2                    3                717.88            717.727273   \n",
       "3                    4                737.08            736.840000   \n",
       "4                    5                743.00            742.894737   \n",
       "\n",
       "range_delay  13_3000_mean_middle  13_6000_mean_middle  13_8000_mean_middle  \\\n",
       "0                         827.00               827.00               827.00   \n",
       "1                         679.00               679.00               679.00   \n",
       "2                         718.04               717.24               718.04   \n",
       "3                         737.16               736.92               736.68   \n",
       "4                         741.88               743.00               743.00   \n",
       "\n",
       "range_delay  18_10000_mean_middle  18_16800_mean_middle  18_3000_mean_middle  \\\n",
       "0                     1071.000000           1069.285714          1069.240000   \n",
       "1                      943.000000            954.200000           967.260870   \n",
       "2                     1029.933333           1020.920000          1007.000000   \n",
       "3                     1030.351351           1031.000000          1028.840000   \n",
       "4                     1046.102041           1045.697674          1047.244898   \n",
       "\n",
       "range_delay  18_6000_mean_middle  ...  48_10000_mean_upper  \\\n",
       "0                    1069.400000  ...          2795.000000   \n",
       "1                     954.520000  ...          2669.521739   \n",
       "2                    1005.960000  ...             0.000000   \n",
       "3                    1087.000000  ...             0.000000   \n",
       "4                    1046.288889  ...             0.000000   \n",
       "\n",
       "range_delay  48_16800_mean_upper  48_3000_mean_upper  48_6000_mean_upper  \\\n",
       "0                            0.0              2809.4         2803.000000   \n",
       "1                            0.0                 0.0            0.000000   \n",
       "2                            0.0              2743.0         2727.000000   \n",
       "3                            0.0                 0.0         2755.195122   \n",
       "4                         2755.0                 0.0            0.000000   \n",
       "\n",
       "range_delay  48_8000_mean_upper  53_10000_mean_upper  53_16800_mean_upper  \\\n",
       "0                   2800.333333          2995.545455                  0.0   \n",
       "1                   2691.000000             0.000000               2371.0   \n",
       "2                      0.000000             0.000000                  0.0   \n",
       "3                      0.000000          3000.000000               3019.0   \n",
       "4                      0.000000             0.000000                  0.0   \n",
       "\n",
       "range_delay  53_3000_mean_upper  53_6000_mean_upper  53_8000_mean_upper  \n",
       "0                   2995.444444         3039.727273         3004.043478  \n",
       "1                      0.000000         2951.744186            0.000000  \n",
       "2                      0.000000            0.000000            0.000000  \n",
       "3                   3000.116279         2999.930233         3000.116279  \n",
       "4                      0.000000            0.000000            0.000000  \n",
       "\n",
       "[5 rows x 136 columns]"
      ]
     },
     "execution_count": 37,
     "metadata": {},
     "output_type": "execute_result"
    }
   ],
   "source": [
    "df_range_delay_all.head()"
   ]
  },
  {
   "cell_type": "code",
   "execution_count": 38,
   "metadata": {},
   "outputs": [
    {
     "name": "stderr",
     "output_type": "stream",
     "text": [
      "/var/folders/9b/zsztmz7j6v92l4fdx69q5pxh0000gn/T/ipykernel_66684/2083575612.py:12: DeprecationWarning:\n",
      "\n",
      "DataFrameGroupBy.apply operated on the grouping columns. This behavior is deprecated, and in a future version of pandas the grouping columns will be excluded from the operation. Either pass `include_groups=False` to exclude the groupings or explicitly select the grouping columns after groupby to silence this warning.\n",
      "\n"
     ]
    },
    {
     "data": {
      "text/plain": [
       "{1: {'Color of sensor': ['b'],\n",
       "  'Sensor Configuration': ['HTR'],\n",
       "  'Surface material': ['wood']},\n",
       " 2: {'Color of sensor': ['b'],\n",
       "  'Sensor Configuration': ['HTR'],\n",
       "  'Surface material': ['wood']},\n",
       " 3: {'Color of sensor': ['b'],\n",
       "  'Sensor Configuration': ['HTR'],\n",
       "  'Surface material': ['wood']},\n",
       " 4: {'Color of sensor': ['g'],\n",
       "  'Sensor Configuration': ['HTR'],\n",
       "  'Surface material': ['wood']},\n",
       " 5: {'Color of sensor': ['b'],\n",
       "  'Sensor Configuration': ['HTR'],\n",
       "  'Surface material': ['wood']},\n",
       " 6: {'Color of sensor': ['b'],\n",
       "  'Sensor Configuration': ['HTR'],\n",
       "  'Surface material': ['wood']},\n",
       " 7: {'Color of sensor': ['b'],\n",
       "  'Sensor Configuration': ['HTR'],\n",
       "  'Surface material': ['wood']},\n",
       " 8: {'Color of sensor': ['g'],\n",
       "  'Sensor Configuration': ['HTR'],\n",
       "  'Surface material': ['wood']},\n",
       " 9: {'Color of sensor': ['g'],\n",
       "  'Sensor Configuration': ['HTR'],\n",
       "  'Surface material': ['wood']},\n",
       " 10: {'Color of sensor': ['b'],\n",
       "  'Sensor Configuration': ['HTR'],\n",
       "  'Surface material': ['wood']},\n",
       " 11: {'Color of sensor': ['b'],\n",
       "  'Sensor Configuration': ['HTR'],\n",
       "  'Surface material': ['wood']},\n",
       " 12: {'Color of sensor': ['b'],\n",
       "  'Sensor Configuration': ['HTR'],\n",
       "  'Surface material': ['wood']},\n",
       " 13: {'Color of sensor': ['b'],\n",
       "  'Sensor Configuration': ['HTR'],\n",
       "  'Surface material': ['wood']},\n",
       " 14: {'Color of sensor': ['b'],\n",
       "  'Sensor Configuration': ['HTR'],\n",
       "  'Surface material': ['wood']},\n",
       " 15: {'Color of sensor': ['g'],\n",
       "  'Sensor Configuration': ['HTR'],\n",
       "  'Surface material': ['wood']},\n",
       " 16: {'Color of sensor': ['b'],\n",
       "  'Sensor Configuration': ['HTR'],\n",
       "  'Surface material': ['wood']},\n",
       " 17: {'Color of sensor': ['g'],\n",
       "  'Sensor Configuration': ['HTR'],\n",
       "  'Surface material': ['wood']},\n",
       " 18: {'Color of sensor': ['b'],\n",
       "  'Sensor Configuration': ['HTR'],\n",
       "  'Surface material': ['wood']},\n",
       " 19: {'Color of sensor': ['b'],\n",
       "  'Sensor Configuration': ['HTR'],\n",
       "  'Surface material': ['wood']},\n",
       " 20: {'Color of sensor': ['g'],\n",
       "  'Sensor Configuration': ['HTR'],\n",
       "  'Surface material': ['wood']},\n",
       " 21: {'Color of sensor': ['g'],\n",
       "  'Sensor Configuration': ['HTR'],\n",
       "  'Surface material': ['wood']},\n",
       " 22: {'Color of sensor': ['g'],\n",
       "  'Sensor Configuration': ['HTR'],\n",
       "  'Surface material': ['wood']},\n",
       " 23: {'Color of sensor': ['g'],\n",
       "  'Sensor Configuration': ['HTR'],\n",
       "  'Surface material': ['wood']},\n",
       " 24: {'Color of sensor': ['g'],\n",
       "  'Sensor Configuration': ['HTR'],\n",
       "  'Surface material': ['wood']},\n",
       " 25: {'Color of sensor': ['g'],\n",
       "  'Sensor Configuration': ['HTR'],\n",
       "  'Surface material': ['wood']},\n",
       " 26: {'Color of sensor': ['g'],\n",
       "  'Sensor Configuration': ['HTR'],\n",
       "  'Surface material': ['wood']},\n",
       " 27: {'Color of sensor': ['g'],\n",
       "  'Sensor Configuration': ['HTR'],\n",
       "  'Surface material': ['wood']},\n",
       " 28: {'Color of sensor': ['g'],\n",
       "  'Sensor Configuration': ['HTR'],\n",
       "  'Surface material': ['wood']},\n",
       " 29: {'Color of sensor': ['b'],\n",
       "  'Sensor Configuration': ['HTR'],\n",
       "  'Surface material': ['wood']},\n",
       " 30: {'Color of sensor': ['b'],\n",
       "  'Sensor Configuration': ['HTR'],\n",
       "  'Surface material': ['wood']},\n",
       " 32: {'Color of sensor': ['b'],\n",
       "  'Sensor Configuration': ['HTR'],\n",
       "  'Surface material': ['wood']},\n",
       " 33: {'Color of sensor': ['b'],\n",
       "  'Sensor Configuration': ['HTR'],\n",
       "  'Surface material': ['wood']},\n",
       " 34: {'Color of sensor': ['b'],\n",
       "  'Sensor Configuration': ['HTR'],\n",
       "  'Surface material': ['wood']},\n",
       " 35: {'Color of sensor': ['b'],\n",
       "  'Sensor Configuration': ['HTR'],\n",
       "  'Surface material': ['wood']},\n",
       " 36: {'Color of sensor': ['b'],\n",
       "  'Sensor Configuration': ['HTR'],\n",
       "  'Surface material': ['wood']},\n",
       " 37: {'Color of sensor': ['g'],\n",
       "  'Sensor Configuration': ['HTR'],\n",
       "  'Surface material': ['wood']},\n",
       " 38: {'Color of sensor': ['b'],\n",
       "  'Sensor Configuration': ['HTR'],\n",
       "  'Surface material': ['wood']},\n",
       " 39: {'Color of sensor': ['b'],\n",
       "  'Sensor Configuration': ['HTR'],\n",
       "  'Surface material': ['wood']},\n",
       " 40: {'Color of sensor': ['b'],\n",
       "  'Sensor Configuration': ['HTR'],\n",
       "  'Surface material': ['wood']},\n",
       " 41: {'Color of sensor': ['b'],\n",
       "  'Sensor Configuration': ['HTR'],\n",
       "  'Surface material': ['wood']},\n",
       " 42: {'Color of sensor': ['b'],\n",
       "  'Sensor Configuration': ['HTR'],\n",
       "  'Surface material': ['wood']},\n",
       " 43: {'Color of sensor': ['b'],\n",
       "  'Sensor Configuration': ['HTR'],\n",
       "  'Surface material': ['wood']},\n",
       " 44: {'Color of sensor': ['b'],\n",
       "  'Sensor Configuration': ['HTR'],\n",
       "  'Surface material': ['wood']},\n",
       " 45: {'Color of sensor': ['b'],\n",
       "  'Sensor Configuration': ['HTR'],\n",
       "  'Surface material': ['wood']},\n",
       " 46: {'Color of sensor': ['b'],\n",
       "  'Sensor Configuration': ['HTR'],\n",
       "  'Surface material': ['wood']},\n",
       " 47: {'Color of sensor': ['b'],\n",
       "  'Sensor Configuration': ['HTR'],\n",
       "  'Surface material': ['wood']},\n",
       " 48: {'Color of sensor': ['b'],\n",
       "  'Sensor Configuration': ['HTR'],\n",
       "  'Surface material': ['wood']},\n",
       " 49: {'Color of sensor': ['b'],\n",
       "  'Sensor Configuration': ['HTR'],\n",
       "  'Surface material': ['wood']},\n",
       " 50: {'Color of sensor': ['b'],\n",
       "  'Sensor Configuration': ['HTR'],\n",
       "  'Surface material': ['wood']},\n",
       " 51: {'Color of sensor': ['b'],\n",
       "  'Sensor Configuration': ['HTR'],\n",
       "  'Surface material': ['wood']},\n",
       " 52: {'Color of sensor': ['b'],\n",
       "  'Sensor Configuration': ['HTR'],\n",
       "  'Surface material': ['wood']},\n",
       " 53: {'Color of sensor': ['b'],\n",
       "  'Sensor Configuration': ['HTR'],\n",
       "  'Surface material': ['wood']},\n",
       " 54: {'Color of sensor': ['b'],\n",
       "  'Sensor Configuration': ['HTR'],\n",
       "  'Surface material': ['wood']},\n",
       " 55: {'Color of sensor': ['b'],\n",
       "  'Sensor Configuration': ['HTR'],\n",
       "  'Surface material': ['wood']},\n",
       " 56: {'Color of sensor': ['b'],\n",
       "  'Sensor Configuration': ['HTR'],\n",
       "  'Surface material': ['wood']},\n",
       " 57: {'Color of sensor': ['b'],\n",
       "  'Sensor Configuration': ['HTR'],\n",
       "  'Surface material': ['wood']},\n",
       " 58: {'Color of sensor': ['b'],\n",
       "  'Sensor Configuration': ['HTR'],\n",
       "  'Surface material': ['wood']},\n",
       " 59: {'Color of sensor': ['b'],\n",
       "  'Sensor Configuration': ['HTR'],\n",
       "  'Surface material': ['wood']},\n",
       " 60: {'Color of sensor': ['b'],\n",
       "  'Sensor Configuration': ['HTR'],\n",
       "  'Surface material': ['wood']},\n",
       " 61: {'Color of sensor': ['b'],\n",
       "  'Sensor Configuration': ['HTR'],\n",
       "  'Surface material': ['wood']},\n",
       " 62: {'Color of sensor': ['b'],\n",
       "  'Sensor Configuration': ['HTR'],\n",
       "  'Surface material': ['wood']},\n",
       " 63: {'Color of sensor': ['b'],\n",
       "  'Sensor Configuration': ['HTR'],\n",
       "  'Surface material': ['wood']},\n",
       " 64: {'Color of sensor': ['b'],\n",
       "  'Sensor Configuration': ['HTR'],\n",
       "  'Surface material': ['wood']},\n",
       " 65: {'Color of sensor': ['b'],\n",
       "  'Sensor Configuration': ['HTR'],\n",
       "  'Surface material': ['wood']},\n",
       " 66: {'Color of sensor': ['b'],\n",
       "  'Sensor Configuration': ['HTR'],\n",
       "  'Surface material': ['wood']},\n",
       " 67: {'Color of sensor': ['b'],\n",
       "  'Sensor Configuration': ['HTR'],\n",
       "  'Surface material': ['wood']},\n",
       " 68: {'Color of sensor': ['b'],\n",
       "  'Sensor Configuration': ['HTR'],\n",
       "  'Surface material': ['wood']},\n",
       " 69: {'Color of sensor': ['b'],\n",
       "  'Sensor Configuration': ['HTR'],\n",
       "  'Surface material': ['wood']},\n",
       " 70: {'Color of sensor': ['b'],\n",
       "  'Sensor Configuration': ['HTR'],\n",
       "  'Surface material': ['wood']},\n",
       " 71: {'Color of sensor': ['b'],\n",
       "  'Sensor Configuration': ['HTR'],\n",
       "  'Surface material': ['wood']},\n",
       " 72: {'Color of sensor': ['b'],\n",
       "  'Sensor Configuration': ['HTR'],\n",
       "  'Surface material': ['wood']},\n",
       " 73: {'Color of sensor': ['b'],\n",
       "  'Sensor Configuration': ['HTR'],\n",
       "  'Surface material': ['wood']},\n",
       " 74: {'Color of sensor': ['b'],\n",
       "  'Sensor Configuration': ['HTR'],\n",
       "  'Surface material': ['wood']},\n",
       " 75: {'Color of sensor': ['g'],\n",
       "  'Sensor Configuration': ['HTR'],\n",
       "  'Surface material': ['wood']},\n",
       " 76: {'Color of sensor': ['b'],\n",
       "  'Sensor Configuration': ['HTR'],\n",
       "  'Surface material': ['wood']},\n",
       " 77: {'Color of sensor': ['g'],\n",
       "  'Sensor Configuration': ['HTR'],\n",
       "  'Surface material': ['wood']},\n",
       " 78: {'Color of sensor': ['b'],\n",
       "  'Sensor Configuration': ['HTR'],\n",
       "  'Surface material': ['wood']},\n",
       " 79: {'Color of sensor': ['g'],\n",
       "  'Sensor Configuration': ['HTR'],\n",
       "  'Surface material': ['wood']},\n",
       " 80: {'Color of sensor': ['b'],\n",
       "  'Sensor Configuration': ['HTR'],\n",
       "  'Surface material': ['wood']},\n",
       " 81: {'Color of sensor': ['b'],\n",
       "  'Sensor Configuration': ['HTR'],\n",
       "  'Surface material': ['wood']},\n",
       " 82: {'Color of sensor': ['g'],\n",
       "  'Sensor Configuration': ['HTR'],\n",
       "  'Surface material': ['wood']},\n",
       " 83: {'Color of sensor': ['g'],\n",
       "  'Sensor Configuration': ['HTR'],\n",
       "  'Surface material': ['wood']},\n",
       " 84: {'Color of sensor': ['g'],\n",
       "  'Sensor Configuration': ['HTR'],\n",
       "  'Surface material': ['wood']},\n",
       " 85: {'Color of sensor': ['g'],\n",
       "  'Sensor Configuration': ['HTR'],\n",
       "  'Surface material': ['wood']},\n",
       " 86: {'Color of sensor': ['g'],\n",
       "  'Sensor Configuration': ['HTR'],\n",
       "  'Surface material': ['wood']},\n",
       " 87: {'Color of sensor': ['g'],\n",
       "  'Sensor Configuration': ['HTR'],\n",
       "  'Surface material': ['wood']},\n",
       " 88: {'Color of sensor': ['g'],\n",
       "  'Sensor Configuration': ['HTR'],\n",
       "  'Surface material': ['wood']},\n",
       " 89: {'Color of sensor': ['g'],\n",
       "  'Sensor Configuration': ['HTR'],\n",
       "  'Surface material': ['wood']},\n",
       " 90: {'Color of sensor': ['g'],\n",
       "  'Sensor Configuration': ['HTR'],\n",
       "  'Surface material': ['wood']},\n",
       " 91: {'Color of sensor': ['g'],\n",
       "  'Sensor Configuration': ['HTR'],\n",
       "  'Surface material': ['wood']},\n",
       " 92: {'Color of sensor': ['g'],\n",
       "  'Sensor Configuration': ['HTR'],\n",
       "  'Surface material': ['wood']},\n",
       " 93: {'Color of sensor': ['g'],\n",
       "  'Sensor Configuration': ['HTR'],\n",
       "  'Surface material': ['wood']},\n",
       " 94: {'Color of sensor': ['b'],\n",
       "  'Sensor Configuration': ['HTR'],\n",
       "  'Surface material': ['wood']},\n",
       " 95: {'Color of sensor': ['b'],\n",
       "  'Sensor Configuration': ['HTR'],\n",
       "  'Surface material': ['wood']},\n",
       " 96: {'Color of sensor': ['g'],\n",
       "  'Sensor Configuration': ['HTR'],\n",
       "  'Surface material': ['wood']},\n",
       " 97: {'Color of sensor': ['g'],\n",
       "  'Sensor Configuration': ['HTR'],\n",
       "  'Surface material': ['wood']},\n",
       " 98: {'Color of sensor': ['g'],\n",
       "  'Sensor Configuration': ['HTR'],\n",
       "  'Surface material': ['wood']},\n",
       " 99: {'Color of sensor': ['g'],\n",
       "  'Sensor Configuration': ['HTR'],\n",
       "  'Surface material': ['wood']},\n",
       " 100: {'Color of sensor': ['b'],\n",
       "  'Sensor Configuration': ['HTR'],\n",
       "  'Surface material': ['wood']},\n",
       " 101: {'Color of sensor': ['g'],\n",
       "  'Sensor Configuration': ['HTR'],\n",
       "  'Surface material': ['wood']},\n",
       " 102: {'Color of sensor': ['g'],\n",
       "  'Sensor Configuration': ['HTR'],\n",
       "  'Surface material': ['wood']},\n",
       " 103: {'Color of sensor': ['g'],\n",
       "  'Sensor Configuration': ['HTR'],\n",
       "  'Surface material': ['wood']},\n",
       " 104: {'Color of sensor': ['g'],\n",
       "  'Sensor Configuration': ['HTR'],\n",
       "  'Surface material': ['wood']},\n",
       " 105: {'Color of sensor': ['b'],\n",
       "  'Sensor Configuration': ['HTR'],\n",
       "  'Surface material': ['wood']},\n",
       " 106: {'Color of sensor': ['g'],\n",
       "  'Sensor Configuration': ['HTR'],\n",
       "  'Surface material': ['wood']},\n",
       " 107: {'Color of sensor': ['g'],\n",
       "  'Sensor Configuration': ['HTR'],\n",
       "  'Surface material': ['wood']},\n",
       " 108: {'Color of sensor': ['b'],\n",
       "  'Sensor Configuration': ['HTR'],\n",
       "  'Surface material': ['wood']},\n",
       " 109: {'Color of sensor': ['g5'],\n",
       "  'Sensor Configuration': ['HTR'],\n",
       "  'Surface material': ['wood']},\n",
       " 110: {'Color of sensor': ['g5'],\n",
       "  'Sensor Configuration': ['HTR'],\n",
       "  'Surface material': ['wood']},\n",
       " 111: {'Color of sensor': ['g5'],\n",
       "  'Sensor Configuration': ['HTR'],\n",
       "  'Surface material': ['wood']},\n",
       " 112: {'Color of sensor': ['g5'],\n",
       "  'Sensor Configuration': ['HTR'],\n",
       "  'Surface material': ['wood']},\n",
       " 113: {'Color of sensor': ['g5'],\n",
       "  'Sensor Configuration': ['HTR'],\n",
       "  'Surface material': ['wood']},\n",
       " 114: {'Color of sensor': ['g5'],\n",
       "  'Sensor Configuration': ['HTR'],\n",
       "  'Surface material': ['wood']},\n",
       " 115: {'Color of sensor': ['g5'],\n",
       "  'Sensor Configuration': ['HTR'],\n",
       "  'Surface material': ['wood']},\n",
       " 116: {'Color of sensor': ['g5'],\n",
       "  'Sensor Configuration': ['HTR'],\n",
       "  'Surface material': ['wood']},\n",
       " 117: {'Color of sensor': ['g5'],\n",
       "  'Sensor Configuration': ['HTR'],\n",
       "  'Surface material': ['wood']},\n",
       " 118: {'Color of sensor': ['g5'],\n",
       "  'Sensor Configuration': ['HTR'],\n",
       "  'Surface material': ['wood']},\n",
       " 119: {'Color of sensor': ['g5'],\n",
       "  'Sensor Configuration': ['HTR'],\n",
       "  'Surface material': ['wood']},\n",
       " 120: {'Color of sensor': ['g5'],\n",
       "  'Sensor Configuration': ['HTR'],\n",
       "  'Surface material': ['wood']},\n",
       " 121: {'Color of sensor': ['g5'],\n",
       "  'Sensor Configuration': ['HTR'],\n",
       "  'Surface material': ['wood']},\n",
       " 122: {'Color of sensor': ['g5'],\n",
       "  'Sensor Configuration': ['HTR'],\n",
       "  'Surface material': ['wood']},\n",
       " 123: {'Color of sensor': ['g5'],\n",
       "  'Sensor Configuration': ['HTR'],\n",
       "  'Surface material': ['wood']},\n",
       " 124: {'Color of sensor': ['g5'],\n",
       "  'Sensor Configuration': ['HTR'],\n",
       "  'Surface material': ['wood']},\n",
       " 125: {'Color of sensor': ['g5'],\n",
       "  'Sensor Configuration': ['HTR'],\n",
       "  'Surface material': ['wood']},\n",
       " 126: {'Color of sensor': ['g5'],\n",
       "  'Sensor Configuration': ['HTR'],\n",
       "  'Surface material': ['wood']},\n",
       " 127: {'Color of sensor': ['g5'],\n",
       "  'Sensor Configuration': ['HTR'],\n",
       "  'Surface material': ['wood']},\n",
       " 128: {'Color of sensor': ['g5'],\n",
       "  'Sensor Configuration': ['HTR'],\n",
       "  'Surface material': ['wood']},\n",
       " 129: {'Color of sensor': ['g5'],\n",
       "  'Sensor Configuration': ['HTR'],\n",
       "  'Surface material': ['wood']},\n",
       " 130: {'Color of sensor': ['g5'],\n",
       "  'Sensor Configuration': ['HTR'],\n",
       "  'Surface material': ['wood']},\n",
       " 131: {'Color of sensor': ['g5'],\n",
       "  'Sensor Configuration': ['HTR'],\n",
       "  'Surface material': ['wood']},\n",
       " 132: {'Color of sensor': ['g5'],\n",
       "  'Sensor Configuration': ['HTR'],\n",
       "  'Surface material': ['wood']},\n",
       " 133: {'Color of sensor': ['g5'],\n",
       "  'Sensor Configuration': ['HTR'],\n",
       "  'Surface material': ['wood']},\n",
       " 134: {'Color of sensor': ['g5'],\n",
       "  'Sensor Configuration': ['HTR'],\n",
       "  'Surface material': ['wood']},\n",
       " 135: {'Color of sensor': ['g5'],\n",
       "  'Sensor Configuration': ['HTR'],\n",
       "  'Surface material': ['wood']},\n",
       " 136: {'Color of sensor': ['g5'],\n",
       "  'Sensor Configuration': ['HTR'],\n",
       "  'Surface material': ['wood']},\n",
       " 137: {'Color of sensor': ['g5'],\n",
       "  'Sensor Configuration': ['HTR'],\n",
       "  'Surface material': ['wood']},\n",
       " 138: {'Color of sensor': ['g5'],\n",
       "  'Sensor Configuration': ['HTR'],\n",
       "  'Surface material': ['wood']},\n",
       " 139: {'Color of sensor': ['g5'],\n",
       "  'Sensor Configuration': ['HTR'],\n",
       "  'Surface material': ['wood']},\n",
       " 140: {'Color of sensor': ['g5'],\n",
       "  'Sensor Configuration': ['HTR'],\n",
       "  'Surface material': ['wood']},\n",
       " 141: {'Color of sensor': ['b'],\n",
       "  'Sensor Configuration': ['HTR'],\n",
       "  'Surface material': ['wood']},\n",
       " 142: {'Color of sensor': ['b'],\n",
       "  'Sensor Configuration': ['HTR'],\n",
       "  'Surface material': ['wood']},\n",
       " 143: {'Color of sensor': ['b'],\n",
       "  'Sensor Configuration': ['HTR'],\n",
       "  'Surface material': ['wood']},\n",
       " 144: {'Color of sensor': ['b'],\n",
       "  'Sensor Configuration': ['HTR'],\n",
       "  'Surface material': ['wood']},\n",
       " 145: {'Color of sensor': ['b'],\n",
       "  'Sensor Configuration': ['HTR'],\n",
       "  'Surface material': ['wood']},\n",
       " 146: {'Color of sensor': ['b'],\n",
       "  'Sensor Configuration': ['HTR'],\n",
       "  'Surface material': ['wood']},\n",
       " 147: {'Color of sensor': ['b'],\n",
       "  'Sensor Configuration': ['HTR'],\n",
       "  'Surface material': ['wood']},\n",
       " 148: {'Color of sensor': ['b'],\n",
       "  'Sensor Configuration': ['HTR'],\n",
       "  'Surface material': ['wood']},\n",
       " 149: {'Color of sensor': ['b'],\n",
       "  'Sensor Configuration': ['HTR'],\n",
       "  'Surface material': ['wood']},\n",
       " 150: {'Color of sensor': ['b'],\n",
       "  'Sensor Configuration': ['HTR'],\n",
       "  'Surface material': ['wood']},\n",
       " 151: {'Color of sensor': ['b'],\n",
       "  'Sensor Configuration': ['HTR'],\n",
       "  'Surface material': ['wood']},\n",
       " 152: {'Color of sensor': ['b'],\n",
       "  'Sensor Configuration': ['HTR'],\n",
       "  'Surface material': ['wood']},\n",
       " 153: {'Color of sensor': ['b'],\n",
       "  'Sensor Configuration': ['HTR'],\n",
       "  'Surface material': ['wood']},\n",
       " 154: {'Color of sensor': ['b'],\n",
       "  'Sensor Configuration': ['HTR'],\n",
       "  'Surface material': ['wood']},\n",
       " 155: {'Color of sensor': ['b'],\n",
       "  'Sensor Configuration': ['HTR'],\n",
       "  'Surface material': ['wood']},\n",
       " 156: {'Color of sensor': ['b'],\n",
       "  'Sensor Configuration': ['HTR'],\n",
       "  'Surface material': ['wood']},\n",
       " 157: {'Color of sensor': ['b'],\n",
       "  'Sensor Configuration': ['HTR'],\n",
       "  'Surface material': ['wood']},\n",
       " 158: {'Color of sensor': ['b'],\n",
       "  'Sensor Configuration': ['HTR'],\n",
       "  'Surface material': ['wood']},\n",
       " 159: {'Color of sensor': ['b'],\n",
       "  'Sensor Configuration': ['HTR'],\n",
       "  'Surface material': ['wood']},\n",
       " 160: {'Color of sensor': ['b'],\n",
       "  'Sensor Configuration': ['HTR'],\n",
       "  'Surface material': ['wood']},\n",
       " 161: {'Color of sensor': ['b'],\n",
       "  'Sensor Configuration': ['HTR'],\n",
       "  'Surface material': ['wood']},\n",
       " 162: {'Color of sensor': ['b'],\n",
       "  'Sensor Configuration': ['HTR'],\n",
       "  'Surface material': ['wood']},\n",
       " 163: {'Color of sensor': ['b'],\n",
       "  'Sensor Configuration': ['HTR'],\n",
       "  'Surface material': ['wood']},\n",
       " 164: {'Color of sensor': ['b'],\n",
       "  'Sensor Configuration': ['HTR'],\n",
       "  'Surface material': ['wood']},\n",
       " 165: {'Color of sensor': ['b'],\n",
       "  'Sensor Configuration': ['HTR'],\n",
       "  'Surface material': ['wood']},\n",
       " 166: {'Color of sensor': ['b'],\n",
       "  'Sensor Configuration': ['HTR'],\n",
       "  'Surface material': ['wood']},\n",
       " 167: {'Color of sensor': ['b'],\n",
       "  'Sensor Configuration': ['HTR'],\n",
       "  'Surface material': ['wood']},\n",
       " 168: {'Color of sensor': ['b'],\n",
       "  'Sensor Configuration': ['HTR'],\n",
       "  'Surface material': ['wood']},\n",
       " 169: {'Color of sensor': ['b'],\n",
       "  'Sensor Configuration': ['HTR'],\n",
       "  'Surface material': ['wood']},\n",
       " 170: {'Color of sensor': ['b'],\n",
       "  'Sensor Configuration': ['HTR'],\n",
       "  'Surface material': ['wood']}}"
      ]
     },
     "execution_count": 38,
     "metadata": {},
     "output_type": "execute_result"
    }
   ],
   "source": [
    "# Group the merged data by 'Sensor ID'\n",
    "grouped_data = df_data_v4_1_1.groupby(\"Sensor ID\")\n",
    "\n",
    "# Function to get unique values of categorical columns for each group\n",
    "def get_unique_categorical_values(group):\n",
    "    unique_values = {}\n",
    "    for column in group.select_dtypes(include=['object']).columns:\n",
    "        unique_values[column] = group[column].unique().tolist()\n",
    "    return unique_values\n",
    "\n",
    "# Apply the function to each group and collect the results\n",
    "unique_categorical_values = grouped_data.apply(get_unique_categorical_values).to_dict()\n",
    "\n",
    "unique_categorical_values"
   ]
  },
  {
   "cell_type": "code",
   "execution_count": 39,
   "metadata": {},
   "outputs": [
    {
     "name": "stderr",
     "output_type": "stream",
     "text": [
      "/var/folders/9b/zsztmz7j6v92l4fdx69q5pxh0000gn/T/ipykernel_66684/718001310.py:4: FutureWarning:\n",
      "\n",
      "DataFrame.applymap has been deprecated. Use DataFrame.map instead.\n",
      "\n"
     ]
    },
    {
     "data": {
      "text/html": [
       "<div>\n",
       "<style scoped>\n",
       "    .dataframe tbody tr th:only-of-type {\n",
       "        vertical-align: middle;\n",
       "    }\n",
       "\n",
       "    .dataframe tbody tr th {\n",
       "        vertical-align: top;\n",
       "    }\n",
       "\n",
       "    .dataframe thead th {\n",
       "        text-align: right;\n",
       "    }\n",
       "</style>\n",
       "<table border=\"1\" class=\"dataframe\">\n",
       "  <thead>\n",
       "    <tr style=\"text-align: right;\">\n",
       "      <th></th>\n",
       "      <th>Sensor ID</th>\n",
       "      <th>Color of sensor</th>\n",
       "      <th>Sensor Configuration</th>\n",
       "      <th>Surface material</th>\n",
       "    </tr>\n",
       "  </thead>\n",
       "  <tbody>\n",
       "    <tr>\n",
       "      <th>0</th>\n",
       "      <td>1</td>\n",
       "      <td>b</td>\n",
       "      <td>HTR</td>\n",
       "      <td>wood</td>\n",
       "    </tr>\n",
       "    <tr>\n",
       "      <th>1</th>\n",
       "      <td>2</td>\n",
       "      <td>b</td>\n",
       "      <td>HTR</td>\n",
       "      <td>wood</td>\n",
       "    </tr>\n",
       "    <tr>\n",
       "      <th>2</th>\n",
       "      <td>3</td>\n",
       "      <td>b</td>\n",
       "      <td>HTR</td>\n",
       "      <td>wood</td>\n",
       "    </tr>\n",
       "    <tr>\n",
       "      <th>3</th>\n",
       "      <td>4</td>\n",
       "      <td>g</td>\n",
       "      <td>HTR</td>\n",
       "      <td>wood</td>\n",
       "    </tr>\n",
       "    <tr>\n",
       "      <th>4</th>\n",
       "      <td>5</td>\n",
       "      <td>b</td>\n",
       "      <td>HTR</td>\n",
       "      <td>wood</td>\n",
       "    </tr>\n",
       "  </tbody>\n",
       "</table>\n",
       "</div>"
      ],
      "text/plain": [
       "   Sensor ID Color of sensor Sensor Configuration Surface material\n",
       "0          1               b                  HTR             wood\n",
       "1          2               b                  HTR             wood\n",
       "2          3               b                  HTR             wood\n",
       "3          4               g                  HTR             wood\n",
       "4          5               b                  HTR             wood"
      ]
     },
     "execution_count": 39,
     "metadata": {},
     "output_type": "execute_result"
    }
   ],
   "source": [
    "unique_categorical_values_df = pd.DataFrame.from_dict(unique_categorical_values, orient='index')\n",
    "\n",
    "# Convert list values to strings and keep Sensor ID as index\n",
    "unique_categorical_values_df = unique_categorical_values_df.applymap(lambda x: x[0] if isinstance(x, list) else x)\n",
    "unique_categorical_values_df.reset_index(inplace=True)\n",
    "\n",
    "# Rename the 'index' column to 'Sensor ID'\n",
    "unique_categorical_values_df.rename(columns={'index': 'Sensor ID'}, inplace=True)\n",
    "\n",
    "# Display the updated DataFrame\n",
    "unique_categorical_values_df.head()"
   ]
  },
  {
   "cell_type": "code",
   "execution_count": 40,
   "metadata": {},
   "outputs": [
    {
     "data": {
      "text/html": [
       "<div>\n",
       "<style scoped>\n",
       "    .dataframe tbody tr th:only-of-type {\n",
       "        vertical-align: middle;\n",
       "    }\n",
       "\n",
       "    .dataframe tbody tr th {\n",
       "        vertical-align: top;\n",
       "    }\n",
       "\n",
       "    .dataframe thead th {\n",
       "        text-align: right;\n",
       "    }\n",
       "</style>\n",
       "<table border=\"1\" class=\"dataframe\">\n",
       "  <thead>\n",
       "    <tr style=\"text-align: right;\">\n",
       "      <th></th>\n",
       "      <th>Sensor ID</th>\n",
       "      <th>Color of sensor_g</th>\n",
       "      <th>Color of sensor_g5</th>\n",
       "    </tr>\n",
       "  </thead>\n",
       "  <tbody>\n",
       "    <tr>\n",
       "      <th>0</th>\n",
       "      <td>1</td>\n",
       "      <td>0</td>\n",
       "      <td>False</td>\n",
       "    </tr>\n",
       "    <tr>\n",
       "      <th>1</th>\n",
       "      <td>2</td>\n",
       "      <td>0</td>\n",
       "      <td>False</td>\n",
       "    </tr>\n",
       "    <tr>\n",
       "      <th>2</th>\n",
       "      <td>3</td>\n",
       "      <td>0</td>\n",
       "      <td>False</td>\n",
       "    </tr>\n",
       "    <tr>\n",
       "      <th>3</th>\n",
       "      <td>4</td>\n",
       "      <td>1</td>\n",
       "      <td>False</td>\n",
       "    </tr>\n",
       "    <tr>\n",
       "      <th>4</th>\n",
       "      <td>5</td>\n",
       "      <td>0</td>\n",
       "      <td>False</td>\n",
       "    </tr>\n",
       "    <tr>\n",
       "      <th>...</th>\n",
       "      <td>...</td>\n",
       "      <td>...</td>\n",
       "      <td>...</td>\n",
       "    </tr>\n",
       "    <tr>\n",
       "      <th>164</th>\n",
       "      <td>166</td>\n",
       "      <td>0</td>\n",
       "      <td>False</td>\n",
       "    </tr>\n",
       "    <tr>\n",
       "      <th>165</th>\n",
       "      <td>167</td>\n",
       "      <td>0</td>\n",
       "      <td>False</td>\n",
       "    </tr>\n",
       "    <tr>\n",
       "      <th>166</th>\n",
       "      <td>168</td>\n",
       "      <td>0</td>\n",
       "      <td>False</td>\n",
       "    </tr>\n",
       "    <tr>\n",
       "      <th>167</th>\n",
       "      <td>169</td>\n",
       "      <td>0</td>\n",
       "      <td>False</td>\n",
       "    </tr>\n",
       "    <tr>\n",
       "      <th>168</th>\n",
       "      <td>170</td>\n",
       "      <td>0</td>\n",
       "      <td>False</td>\n",
       "    </tr>\n",
       "  </tbody>\n",
       "</table>\n",
       "<p>169 rows × 3 columns</p>\n",
       "</div>"
      ],
      "text/plain": [
       "     Sensor ID  Color of sensor_g  Color of sensor_g5\n",
       "0            1                  0               False\n",
       "1            2                  0               False\n",
       "2            3                  0               False\n",
       "3            4                  1               False\n",
       "4            5                  0               False\n",
       "..         ...                ...                 ...\n",
       "164        166                  0               False\n",
       "165        167                  0               False\n",
       "166        168                  0               False\n",
       "167        169                  0               False\n",
       "168        170                  0               False\n",
       "\n",
       "[169 rows x 3 columns]"
      ]
     },
     "execution_count": 40,
     "metadata": {},
     "output_type": "execute_result"
    }
   ],
   "source": [
    "# One-hot encode all the object features\n",
    "if not unique_categorical_values_df.empty:\n",
    "    unique_categorical_values_encoded = pd.get_dummies(unique_categorical_values_df, drop_first=True)\n",
    "else:\n",
    "    unique_categorical_values_encoded = unique_categorical_values_df\n",
    "\n",
    "\n",
    "# Convert boolean columns to integers (0 and 1)\n",
    "unique_categorical_values_encoded[\"Color of sensor_g\"] = unique_categorical_values_encoded[\"Color of sensor_g\"].astype(int)\n",
    "unique_categorical_values_encoded"
   ]
  },
  {
   "cell_type": "code",
   "execution_count": 41,
   "metadata": {},
   "outputs": [
    {
     "data": {
      "text/html": [
       "<div>\n",
       "<style scoped>\n",
       "    .dataframe tbody tr th:only-of-type {\n",
       "        vertical-align: middle;\n",
       "    }\n",
       "\n",
       "    .dataframe tbody tr th {\n",
       "        vertical-align: top;\n",
       "    }\n",
       "\n",
       "    .dataframe thead th {\n",
       "        text-align: right;\n",
       "    }\n",
       "</style>\n",
       "<table border=\"1\" class=\"dataframe\">\n",
       "  <thead>\n",
       "    <tr style=\"text-align: right;\">\n",
       "      <th></th>\n",
       "      <th>Sensor ID</th>\n",
       "      <th>13_10000_mean_middle</th>\n",
       "      <th>13_16800_mean_middle</th>\n",
       "      <th>13_3000_mean_middle</th>\n",
       "      <th>13_6000_mean_middle</th>\n",
       "      <th>13_8000_mean_middle</th>\n",
       "      <th>18_10000_mean_middle</th>\n",
       "      <th>18_16800_mean_middle</th>\n",
       "      <th>18_3000_mean_middle</th>\n",
       "      <th>18_6000_mean_middle</th>\n",
       "      <th>...</th>\n",
       "      <th>48_3000_mean_upper</th>\n",
       "      <th>48_6000_mean_upper</th>\n",
       "      <th>48_8000_mean_upper</th>\n",
       "      <th>53_10000_mean_upper</th>\n",
       "      <th>53_16800_mean_upper</th>\n",
       "      <th>53_3000_mean_upper</th>\n",
       "      <th>53_6000_mean_upper</th>\n",
       "      <th>53_8000_mean_upper</th>\n",
       "      <th>Color of sensor_g</th>\n",
       "      <th>Color of sensor_g5</th>\n",
       "    </tr>\n",
       "  </thead>\n",
       "  <tbody>\n",
       "    <tr>\n",
       "      <th>0</th>\n",
       "      <td>1</td>\n",
       "      <td>827.00</td>\n",
       "      <td>827.000000</td>\n",
       "      <td>827.00</td>\n",
       "      <td>827.00</td>\n",
       "      <td>827.00</td>\n",
       "      <td>1071.000000</td>\n",
       "      <td>1069.285714</td>\n",
       "      <td>1069.240000</td>\n",
       "      <td>1069.400000</td>\n",
       "      <td>...</td>\n",
       "      <td>2809.4</td>\n",
       "      <td>2803.000000</td>\n",
       "      <td>2800.333333</td>\n",
       "      <td>2995.545455</td>\n",
       "      <td>0.0</td>\n",
       "      <td>2995.444444</td>\n",
       "      <td>3039.727273</td>\n",
       "      <td>3004.043478</td>\n",
       "      <td>0</td>\n",
       "      <td>False</td>\n",
       "    </tr>\n",
       "    <tr>\n",
       "      <th>1</th>\n",
       "      <td>2</td>\n",
       "      <td>679.64</td>\n",
       "      <td>679.000000</td>\n",
       "      <td>679.00</td>\n",
       "      <td>679.00</td>\n",
       "      <td>679.00</td>\n",
       "      <td>943.000000</td>\n",
       "      <td>954.200000</td>\n",
       "      <td>967.260870</td>\n",
       "      <td>954.520000</td>\n",
       "      <td>...</td>\n",
       "      <td>0.0</td>\n",
       "      <td>0.000000</td>\n",
       "      <td>2691.000000</td>\n",
       "      <td>0.000000</td>\n",
       "      <td>2371.0</td>\n",
       "      <td>0.000000</td>\n",
       "      <td>2951.744186</td>\n",
       "      <td>0.000000</td>\n",
       "      <td>0</td>\n",
       "      <td>False</td>\n",
       "    </tr>\n",
       "    <tr>\n",
       "      <th>2</th>\n",
       "      <td>3</td>\n",
       "      <td>717.88</td>\n",
       "      <td>717.727273</td>\n",
       "      <td>718.04</td>\n",
       "      <td>717.24</td>\n",
       "      <td>718.04</td>\n",
       "      <td>1029.933333</td>\n",
       "      <td>1020.920000</td>\n",
       "      <td>1007.000000</td>\n",
       "      <td>1005.960000</td>\n",
       "      <td>...</td>\n",
       "      <td>2743.0</td>\n",
       "      <td>2727.000000</td>\n",
       "      <td>0.000000</td>\n",
       "      <td>0.000000</td>\n",
       "      <td>0.0</td>\n",
       "      <td>0.000000</td>\n",
       "      <td>0.000000</td>\n",
       "      <td>0.000000</td>\n",
       "      <td>0</td>\n",
       "      <td>False</td>\n",
       "    </tr>\n",
       "    <tr>\n",
       "      <th>3</th>\n",
       "      <td>4</td>\n",
       "      <td>737.08</td>\n",
       "      <td>736.840000</td>\n",
       "      <td>737.16</td>\n",
       "      <td>736.92</td>\n",
       "      <td>736.68</td>\n",
       "      <td>1030.351351</td>\n",
       "      <td>1031.000000</td>\n",
       "      <td>1028.840000</td>\n",
       "      <td>1087.000000</td>\n",
       "      <td>...</td>\n",
       "      <td>0.0</td>\n",
       "      <td>2755.195122</td>\n",
       "      <td>0.000000</td>\n",
       "      <td>3000.000000</td>\n",
       "      <td>3019.0</td>\n",
       "      <td>3000.116279</td>\n",
       "      <td>2999.930233</td>\n",
       "      <td>3000.116279</td>\n",
       "      <td>1</td>\n",
       "      <td>False</td>\n",
       "    </tr>\n",
       "    <tr>\n",
       "      <th>4</th>\n",
       "      <td>5</td>\n",
       "      <td>743.00</td>\n",
       "      <td>742.894737</td>\n",
       "      <td>741.88</td>\n",
       "      <td>743.00</td>\n",
       "      <td>743.00</td>\n",
       "      <td>1046.102041</td>\n",
       "      <td>1045.697674</td>\n",
       "      <td>1047.244898</td>\n",
       "      <td>1046.288889</td>\n",
       "      <td>...</td>\n",
       "      <td>0.0</td>\n",
       "      <td>0.000000</td>\n",
       "      <td>0.000000</td>\n",
       "      <td>0.000000</td>\n",
       "      <td>0.0</td>\n",
       "      <td>0.000000</td>\n",
       "      <td>0.000000</td>\n",
       "      <td>0.000000</td>\n",
       "      <td>0</td>\n",
       "      <td>False</td>\n",
       "    </tr>\n",
       "  </tbody>\n",
       "</table>\n",
       "<p>5 rows × 138 columns</p>\n",
       "</div>"
      ],
      "text/plain": [
       "   Sensor ID  13_10000_mean_middle  13_16800_mean_middle  13_3000_mean_middle  \\\n",
       "0          1                827.00            827.000000               827.00   \n",
       "1          2                679.64            679.000000               679.00   \n",
       "2          3                717.88            717.727273               718.04   \n",
       "3          4                737.08            736.840000               737.16   \n",
       "4          5                743.00            742.894737               741.88   \n",
       "\n",
       "   13_6000_mean_middle  13_8000_mean_middle  18_10000_mean_middle  \\\n",
       "0               827.00               827.00           1071.000000   \n",
       "1               679.00               679.00            943.000000   \n",
       "2               717.24               718.04           1029.933333   \n",
       "3               736.92               736.68           1030.351351   \n",
       "4               743.00               743.00           1046.102041   \n",
       "\n",
       "   18_16800_mean_middle  18_3000_mean_middle  18_6000_mean_middle  ...  \\\n",
       "0           1069.285714          1069.240000          1069.400000  ...   \n",
       "1            954.200000           967.260870           954.520000  ...   \n",
       "2           1020.920000          1007.000000          1005.960000  ...   \n",
       "3           1031.000000          1028.840000          1087.000000  ...   \n",
       "4           1045.697674          1047.244898          1046.288889  ...   \n",
       "\n",
       "   48_3000_mean_upper  48_6000_mean_upper  48_8000_mean_upper  \\\n",
       "0              2809.4         2803.000000         2800.333333   \n",
       "1                 0.0            0.000000         2691.000000   \n",
       "2              2743.0         2727.000000            0.000000   \n",
       "3                 0.0         2755.195122            0.000000   \n",
       "4                 0.0            0.000000            0.000000   \n",
       "\n",
       "   53_10000_mean_upper  53_16800_mean_upper  53_3000_mean_upper  \\\n",
       "0          2995.545455                  0.0         2995.444444   \n",
       "1             0.000000               2371.0            0.000000   \n",
       "2             0.000000                  0.0            0.000000   \n",
       "3          3000.000000               3019.0         3000.116279   \n",
       "4             0.000000                  0.0            0.000000   \n",
       "\n",
       "   53_6000_mean_upper  53_8000_mean_upper  Color of sensor_g  \\\n",
       "0         3039.727273         3004.043478                  0   \n",
       "1         2951.744186            0.000000                  0   \n",
       "2            0.000000            0.000000                  0   \n",
       "3         2999.930233         3000.116279                  1   \n",
       "4            0.000000            0.000000                  0   \n",
       "\n",
       "   Color of sensor_g5  \n",
       "0               False  \n",
       "1               False  \n",
       "2               False  \n",
       "3               False  \n",
       "4               False  \n",
       "\n",
       "[5 rows x 138 columns]"
      ]
     },
     "execution_count": 41,
     "metadata": {},
     "output_type": "execute_result"
    }
   ],
   "source": [
    "# Merge the unique categorical values DataFrame with the original data on 'Sensor ID'\n",
    "df_all = pd.merge(df_range_delay_all, unique_categorical_values_encoded, on='Sensor ID', how='left')\n",
    "df_all.head()"
   ]
  },
  {
   "cell_type": "markdown",
   "metadata": {},
   "source": [
    "# Upper and Lower bound's Frequency (Feature Engineering)"
   ]
  },
  {
   "cell_type": "code",
   "execution_count": 42,
   "metadata": {},
   "outputs": [
    {
     "data": {
      "text/html": [
       "<div>\n",
       "<style scoped>\n",
       "    .dataframe tbody tr th:only-of-type {\n",
       "        vertical-align: middle;\n",
       "    }\n",
       "\n",
       "    .dataframe tbody tr th {\n",
       "        vertical-align: top;\n",
       "    }\n",
       "\n",
       "    .dataframe thead th {\n",
       "        text-align: right;\n",
       "    }\n",
       "</style>\n",
       "<table border=\"1\" class=\"dataframe\">\n",
       "  <thead>\n",
       "    <tr style=\"text-align: right;\">\n",
       "      <th></th>\n",
       "      <th>Sensor ID</th>\n",
       "      <th>Delay (us)</th>\n",
       "      <th>Lower Quartile Ping Count</th>\n",
       "      <th>Upper Quartile Ping Count</th>\n",
       "    </tr>\n",
       "  </thead>\n",
       "  <tbody>\n",
       "    <tr>\n",
       "      <th>0</th>\n",
       "      <td>1</td>\n",
       "      <td>3000</td>\n",
       "      <td>140</td>\n",
       "      <td>131</td>\n",
       "    </tr>\n",
       "    <tr>\n",
       "      <th>1</th>\n",
       "      <td>1</td>\n",
       "      <td>6000</td>\n",
       "      <td>171</td>\n",
       "      <td>182</td>\n",
       "    </tr>\n",
       "    <tr>\n",
       "      <th>2</th>\n",
       "      <td>1</td>\n",
       "      <td>8000</td>\n",
       "      <td>167</td>\n",
       "      <td>197</td>\n",
       "    </tr>\n",
       "    <tr>\n",
       "      <th>3</th>\n",
       "      <td>1</td>\n",
       "      <td>10000</td>\n",
       "      <td>267</td>\n",
       "      <td>258</td>\n",
       "    </tr>\n",
       "    <tr>\n",
       "      <th>4</th>\n",
       "      <td>1</td>\n",
       "      <td>16800</td>\n",
       "      <td>102</td>\n",
       "      <td>105</td>\n",
       "    </tr>\n",
       "  </tbody>\n",
       "</table>\n",
       "</div>"
      ],
      "text/plain": [
       "   Sensor ID  Delay (us)  Lower Quartile Ping Count  Upper Quartile Ping Count\n",
       "0          1        3000                        140                        131\n",
       "1          1        6000                        171                        182\n",
       "2          1        8000                        167                        197\n",
       "3          1       10000                        267                        258\n",
       "4          1       16800                        102                        105"
      ]
     },
     "execution_count": 42,
     "metadata": {},
     "output_type": "execute_result"
    }
   ],
   "source": [
    "# Group by 'Sensor ID' and 'Delay (us)' for lower quartile\n",
    "grouped_lower_outliers = df_lower_quartile.groupby(['Sensor ID', 'Delay (us)'])['Ping Time (us)'].count().reset_index()\n",
    "\n",
    "# Group by 'Sensor ID' and 'Delay (us)' for upper quartile\n",
    "grouped_upper_outliers = df_upper_quartile.groupby(['Sensor ID', 'Delay (us)'])['Ping Time (us)'].count().reset_index()\n",
    "\n",
    "# Merge the grouped dataframes with alias column names for the count columns\n",
    "df_outlier_freq = pd.merge(grouped_lower_outliers, grouped_upper_outliers, on=['Sensor ID', 'Delay (us)'], suffixes=('_lower', '_upper'), how='left')\n",
    "\n",
    "# Rename the columns if necessary\n",
    "df_outlier_freq.rename(columns={\n",
    "    'Ping Time (us)_lower': 'Lower Quartile Ping Count',\n",
    "    'Ping Time (us)_upper': 'Upper Quartile Ping Count'\n",
    "}, inplace=True)\n",
    "\n",
    "\n",
    "# Replace NaN values with 0\n",
    "df_outlier_freq.fillna(0, inplace=True)\n",
    "\n",
    "df_outlier_freq['Lower Quartile Ping Count'] = df_outlier_freq['Lower Quartile Ping Count'].astype(int)\n",
    "df_outlier_freq['Upper Quartile Ping Count'] = df_outlier_freq['Upper Quartile Ping Count'].astype(int)\n",
    "\n",
    "\n",
    "# Display the resulting DataFrame\n",
    "df_outlier_freq.head()"
   ]
  },
  {
   "cell_type": "code",
   "execution_count": 43,
   "metadata": {},
   "outputs": [
    {
     "data": {
      "text/html": [
       "<div>\n",
       "<style scoped>\n",
       "    .dataframe tbody tr th:only-of-type {\n",
       "        vertical-align: middle;\n",
       "    }\n",
       "\n",
       "    .dataframe tbody tr th {\n",
       "        vertical-align: top;\n",
       "    }\n",
       "\n",
       "    .dataframe thead th {\n",
       "        text-align: right;\n",
       "    }\n",
       "</style>\n",
       "<table border=\"1\" class=\"dataframe\">\n",
       "  <thead>\n",
       "    <tr style=\"text-align: right;\">\n",
       "      <th>delay_freq</th>\n",
       "      <th>Sensor ID</th>\n",
       "      <th>delay_10000_freq_lower</th>\n",
       "      <th>delay_16800_freq_lower</th>\n",
       "      <th>delay_3000_freq_lower</th>\n",
       "      <th>delay_6000_freq_lower</th>\n",
       "      <th>delay_8000_freq_lower</th>\n",
       "    </tr>\n",
       "  </thead>\n",
       "  <tbody>\n",
       "    <tr>\n",
       "      <th>0</th>\n",
       "      <td>1</td>\n",
       "      <td>267.0</td>\n",
       "      <td>102.0</td>\n",
       "      <td>140.0</td>\n",
       "      <td>171.0</td>\n",
       "      <td>167.0</td>\n",
       "    </tr>\n",
       "    <tr>\n",
       "      <th>1</th>\n",
       "      <td>2</td>\n",
       "      <td>174.0</td>\n",
       "      <td>55.0</td>\n",
       "      <td>129.0</td>\n",
       "      <td>164.0</td>\n",
       "      <td>131.0</td>\n",
       "    </tr>\n",
       "    <tr>\n",
       "      <th>2</th>\n",
       "      <td>3</td>\n",
       "      <td>5.0</td>\n",
       "      <td>6.0</td>\n",
       "      <td>48.0</td>\n",
       "      <td>10.0</td>\n",
       "      <td>8.0</td>\n",
       "    </tr>\n",
       "    <tr>\n",
       "      <th>3</th>\n",
       "      <td>4</td>\n",
       "      <td>42.0</td>\n",
       "      <td>136.0</td>\n",
       "      <td>76.0</td>\n",
       "      <td>148.0</td>\n",
       "      <td>41.0</td>\n",
       "    </tr>\n",
       "    <tr>\n",
       "      <th>4</th>\n",
       "      <td>5</td>\n",
       "      <td>98.0</td>\n",
       "      <td>22.0</td>\n",
       "      <td>95.0</td>\n",
       "      <td>130.0</td>\n",
       "      <td>137.0</td>\n",
       "    </tr>\n",
       "  </tbody>\n",
       "</table>\n",
       "</div>"
      ],
      "text/plain": [
       "delay_freq  Sensor ID  delay_10000_freq_lower  delay_16800_freq_lower  \\\n",
       "0                   1                   267.0                   102.0   \n",
       "1                   2                   174.0                    55.0   \n",
       "2                   3                     5.0                     6.0   \n",
       "3                   4                    42.0                   136.0   \n",
       "4                   5                    98.0                    22.0   \n",
       "\n",
       "delay_freq  delay_3000_freq_lower  delay_6000_freq_lower  \\\n",
       "0                           140.0                  171.0   \n",
       "1                           129.0                  164.0   \n",
       "2                            48.0                   10.0   \n",
       "3                            76.0                  148.0   \n",
       "4                            95.0                  130.0   \n",
       "\n",
       "delay_freq  delay_8000_freq_lower  \n",
       "0                           167.0  \n",
       "1                           131.0  \n",
       "2                             8.0  \n",
       "3                            41.0  \n",
       "4                           137.0  "
      ]
     },
     "execution_count": 43,
     "metadata": {},
     "output_type": "execute_result"
    }
   ],
   "source": [
    "df_outlier_freq['delay_freq'] =  \"delay\"+ '_' + df_outlier_freq['Delay (us)'].astype(str)+'_'+\"freq\"+'_'+\"lower\"\n",
    "\n",
    "# Step 3: Pivot the table\n",
    "df_pivot_lower = df_outlier_freq.pivot(index='Sensor ID', columns='delay_freq', values='Lower Quartile Ping Count').reset_index()\n",
    "\n",
    "df_pivot_lower.head()"
   ]
  },
  {
   "cell_type": "code",
   "execution_count": 44,
   "metadata": {},
   "outputs": [
    {
     "data": {
      "text/html": [
       "<div>\n",
       "<style scoped>\n",
       "    .dataframe tbody tr th:only-of-type {\n",
       "        vertical-align: middle;\n",
       "    }\n",
       "\n",
       "    .dataframe tbody tr th {\n",
       "        vertical-align: top;\n",
       "    }\n",
       "\n",
       "    .dataframe thead th {\n",
       "        text-align: right;\n",
       "    }\n",
       "</style>\n",
       "<table border=\"1\" class=\"dataframe\">\n",
       "  <thead>\n",
       "    <tr style=\"text-align: right;\">\n",
       "      <th>delay_freq</th>\n",
       "      <th>Sensor ID</th>\n",
       "      <th>delay_10000_freq_upper</th>\n",
       "      <th>delay_16800_freq_upper</th>\n",
       "      <th>delay_3000_freq_upper</th>\n",
       "      <th>delay_6000_freq_upper</th>\n",
       "      <th>delay_8000_freq_upper</th>\n",
       "    </tr>\n",
       "  </thead>\n",
       "  <tbody>\n",
       "    <tr>\n",
       "      <th>0</th>\n",
       "      <td>1</td>\n",
       "      <td>258.0</td>\n",
       "      <td>105.0</td>\n",
       "      <td>131.0</td>\n",
       "      <td>182.0</td>\n",
       "      <td>197.0</td>\n",
       "    </tr>\n",
       "    <tr>\n",
       "      <th>1</th>\n",
       "      <td>2</td>\n",
       "      <td>172.0</td>\n",
       "      <td>59.0</td>\n",
       "      <td>143.0</td>\n",
       "      <td>194.0</td>\n",
       "      <td>145.0</td>\n",
       "    </tr>\n",
       "    <tr>\n",
       "      <th>2</th>\n",
       "      <td>3</td>\n",
       "      <td>21.0</td>\n",
       "      <td>13.0</td>\n",
       "      <td>52.0</td>\n",
       "      <td>8.0</td>\n",
       "      <td>11.0</td>\n",
       "    </tr>\n",
       "    <tr>\n",
       "      <th>3</th>\n",
       "      <td>4</td>\n",
       "      <td>57.0</td>\n",
       "      <td>127.0</td>\n",
       "      <td>90.0</td>\n",
       "      <td>150.0</td>\n",
       "      <td>49.0</td>\n",
       "    </tr>\n",
       "    <tr>\n",
       "      <th>4</th>\n",
       "      <td>5</td>\n",
       "      <td>91.0</td>\n",
       "      <td>13.0</td>\n",
       "      <td>82.0</td>\n",
       "      <td>139.0</td>\n",
       "      <td>128.0</td>\n",
       "    </tr>\n",
       "  </tbody>\n",
       "</table>\n",
       "</div>"
      ],
      "text/plain": [
       "delay_freq  Sensor ID  delay_10000_freq_upper  delay_16800_freq_upper  \\\n",
       "0                   1                   258.0                   105.0   \n",
       "1                   2                   172.0                    59.0   \n",
       "2                   3                    21.0                    13.0   \n",
       "3                   4                    57.0                   127.0   \n",
       "4                   5                    91.0                    13.0   \n",
       "\n",
       "delay_freq  delay_3000_freq_upper  delay_6000_freq_upper  \\\n",
       "0                           131.0                  182.0   \n",
       "1                           143.0                  194.0   \n",
       "2                            52.0                    8.0   \n",
       "3                            90.0                  150.0   \n",
       "4                            82.0                  139.0   \n",
       "\n",
       "delay_freq  delay_8000_freq_upper  \n",
       "0                           197.0  \n",
       "1                           145.0  \n",
       "2                            11.0  \n",
       "3                            49.0  \n",
       "4                           128.0  "
      ]
     },
     "execution_count": 44,
     "metadata": {},
     "output_type": "execute_result"
    }
   ],
   "source": [
    "df_outlier_freq['delay_freq'] =  \"delay\"+ '_' + df_outlier_freq['Delay (us)'].astype(str)+'_'+\"freq\"+'_'+\"upper\"\n",
    "\n",
    "# Step 3: Pivot the table\n",
    "df_pivot_upper = df_outlier_freq.pivot(index='Sensor ID', columns='delay_freq', values='Upper Quartile Ping Count').reset_index()\n",
    "\n",
    "df_pivot_upper.head()"
   ]
  },
  {
   "cell_type": "code",
   "execution_count": 45,
   "metadata": {},
   "outputs": [
    {
     "data": {
      "text/html": [
       "<div>\n",
       "<style scoped>\n",
       "    .dataframe tbody tr th:only-of-type {\n",
       "        vertical-align: middle;\n",
       "    }\n",
       "\n",
       "    .dataframe tbody tr th {\n",
       "        vertical-align: top;\n",
       "    }\n",
       "\n",
       "    .dataframe thead th {\n",
       "        text-align: right;\n",
       "    }\n",
       "</style>\n",
       "<table border=\"1\" class=\"dataframe\">\n",
       "  <thead>\n",
       "    <tr style=\"text-align: right;\">\n",
       "      <th>delay_freq</th>\n",
       "      <th>Sensor ID</th>\n",
       "      <th>delay_10000_freq_lower</th>\n",
       "      <th>delay_16800_freq_lower</th>\n",
       "      <th>delay_3000_freq_lower</th>\n",
       "      <th>delay_6000_freq_lower</th>\n",
       "      <th>delay_8000_freq_lower</th>\n",
       "      <th>delay_10000_freq_upper</th>\n",
       "      <th>delay_16800_freq_upper</th>\n",
       "      <th>delay_3000_freq_upper</th>\n",
       "      <th>delay_6000_freq_upper</th>\n",
       "      <th>delay_8000_freq_upper</th>\n",
       "    </tr>\n",
       "  </thead>\n",
       "  <tbody>\n",
       "    <tr>\n",
       "      <th>0</th>\n",
       "      <td>1</td>\n",
       "      <td>267</td>\n",
       "      <td>102</td>\n",
       "      <td>140</td>\n",
       "      <td>171</td>\n",
       "      <td>167</td>\n",
       "      <td>258</td>\n",
       "      <td>105</td>\n",
       "      <td>131</td>\n",
       "      <td>182</td>\n",
       "      <td>197</td>\n",
       "    </tr>\n",
       "    <tr>\n",
       "      <th>1</th>\n",
       "      <td>2</td>\n",
       "      <td>174</td>\n",
       "      <td>55</td>\n",
       "      <td>129</td>\n",
       "      <td>164</td>\n",
       "      <td>131</td>\n",
       "      <td>172</td>\n",
       "      <td>59</td>\n",
       "      <td>143</td>\n",
       "      <td>194</td>\n",
       "      <td>145</td>\n",
       "    </tr>\n",
       "    <tr>\n",
       "      <th>2</th>\n",
       "      <td>3</td>\n",
       "      <td>5</td>\n",
       "      <td>6</td>\n",
       "      <td>48</td>\n",
       "      <td>10</td>\n",
       "      <td>8</td>\n",
       "      <td>21</td>\n",
       "      <td>13</td>\n",
       "      <td>52</td>\n",
       "      <td>8</td>\n",
       "      <td>11</td>\n",
       "    </tr>\n",
       "    <tr>\n",
       "      <th>3</th>\n",
       "      <td>4</td>\n",
       "      <td>42</td>\n",
       "      <td>136</td>\n",
       "      <td>76</td>\n",
       "      <td>148</td>\n",
       "      <td>41</td>\n",
       "      <td>57</td>\n",
       "      <td>127</td>\n",
       "      <td>90</td>\n",
       "      <td>150</td>\n",
       "      <td>49</td>\n",
       "    </tr>\n",
       "    <tr>\n",
       "      <th>4</th>\n",
       "      <td>5</td>\n",
       "      <td>98</td>\n",
       "      <td>22</td>\n",
       "      <td>95</td>\n",
       "      <td>130</td>\n",
       "      <td>137</td>\n",
       "      <td>91</td>\n",
       "      <td>13</td>\n",
       "      <td>82</td>\n",
       "      <td>139</td>\n",
       "      <td>128</td>\n",
       "    </tr>\n",
       "    <tr>\n",
       "      <th>...</th>\n",
       "      <td>...</td>\n",
       "      <td>...</td>\n",
       "      <td>...</td>\n",
       "      <td>...</td>\n",
       "      <td>...</td>\n",
       "      <td>...</td>\n",
       "      <td>...</td>\n",
       "      <td>...</td>\n",
       "      <td>...</td>\n",
       "      <td>...</td>\n",
       "      <td>...</td>\n",
       "    </tr>\n",
       "    <tr>\n",
       "      <th>164</th>\n",
       "      <td>166</td>\n",
       "      <td>0</td>\n",
       "      <td>5</td>\n",
       "      <td>76</td>\n",
       "      <td>8</td>\n",
       "      <td>12</td>\n",
       "      <td>0</td>\n",
       "      <td>13</td>\n",
       "      <td>94</td>\n",
       "      <td>4</td>\n",
       "      <td>11</td>\n",
       "    </tr>\n",
       "    <tr>\n",
       "      <th>165</th>\n",
       "      <td>167</td>\n",
       "      <td>1</td>\n",
       "      <td>6</td>\n",
       "      <td>51</td>\n",
       "      <td>47</td>\n",
       "      <td>0</td>\n",
       "      <td>21</td>\n",
       "      <td>16</td>\n",
       "      <td>49</td>\n",
       "      <td>47</td>\n",
       "      <td>0</td>\n",
       "    </tr>\n",
       "    <tr>\n",
       "      <th>166</th>\n",
       "      <td>168</td>\n",
       "      <td>41</td>\n",
       "      <td>11</td>\n",
       "      <td>0</td>\n",
       "      <td>15</td>\n",
       "      <td>0</td>\n",
       "      <td>51</td>\n",
       "      <td>12</td>\n",
       "      <td>0</td>\n",
       "      <td>17</td>\n",
       "      <td>0</td>\n",
       "    </tr>\n",
       "    <tr>\n",
       "      <th>167</th>\n",
       "      <td>169</td>\n",
       "      <td>22</td>\n",
       "      <td>19</td>\n",
       "      <td>42</td>\n",
       "      <td>42</td>\n",
       "      <td>87</td>\n",
       "      <td>23</td>\n",
       "      <td>12</td>\n",
       "      <td>41</td>\n",
       "      <td>51</td>\n",
       "      <td>97</td>\n",
       "    </tr>\n",
       "    <tr>\n",
       "      <th>168</th>\n",
       "      <td>170</td>\n",
       "      <td>10</td>\n",
       "      <td>48</td>\n",
       "      <td>4</td>\n",
       "      <td>12</td>\n",
       "      <td>0</td>\n",
       "      <td>11</td>\n",
       "      <td>51</td>\n",
       "      <td>4</td>\n",
       "      <td>1</td>\n",
       "      <td>0</td>\n",
       "    </tr>\n",
       "  </tbody>\n",
       "</table>\n",
       "<p>169 rows × 11 columns</p>\n",
       "</div>"
      ],
      "text/plain": [
       "delay_freq  Sensor ID  delay_10000_freq_lower  delay_16800_freq_lower  \\\n",
       "0                   1                     267                     102   \n",
       "1                   2                     174                      55   \n",
       "2                   3                       5                       6   \n",
       "3                   4                      42                     136   \n",
       "4                   5                      98                      22   \n",
       "..                ...                     ...                     ...   \n",
       "164               166                       0                       5   \n",
       "165               167                       1                       6   \n",
       "166               168                      41                      11   \n",
       "167               169                      22                      19   \n",
       "168               170                      10                      48   \n",
       "\n",
       "delay_freq  delay_3000_freq_lower  delay_6000_freq_lower  \\\n",
       "0                             140                    171   \n",
       "1                             129                    164   \n",
       "2                              48                     10   \n",
       "3                              76                    148   \n",
       "4                              95                    130   \n",
       "..                            ...                    ...   \n",
       "164                            76                      8   \n",
       "165                            51                     47   \n",
       "166                             0                     15   \n",
       "167                            42                     42   \n",
       "168                             4                     12   \n",
       "\n",
       "delay_freq  delay_8000_freq_lower  delay_10000_freq_upper  \\\n",
       "0                             167                     258   \n",
       "1                             131                     172   \n",
       "2                               8                      21   \n",
       "3                              41                      57   \n",
       "4                             137                      91   \n",
       "..                            ...                     ...   \n",
       "164                            12                       0   \n",
       "165                             0                      21   \n",
       "166                             0                      51   \n",
       "167                            87                      23   \n",
       "168                             0                      11   \n",
       "\n",
       "delay_freq  delay_16800_freq_upper  delay_3000_freq_upper  \\\n",
       "0                              105                    131   \n",
       "1                               59                    143   \n",
       "2                               13                     52   \n",
       "3                              127                     90   \n",
       "4                               13                     82   \n",
       "..                             ...                    ...   \n",
       "164                             13                     94   \n",
       "165                             16                     49   \n",
       "166                             12                      0   \n",
       "167                             12                     41   \n",
       "168                             51                      4   \n",
       "\n",
       "delay_freq  delay_6000_freq_upper  delay_8000_freq_upper  \n",
       "0                             182                    197  \n",
       "1                             194                    145  \n",
       "2                               8                     11  \n",
       "3                             150                     49  \n",
       "4                             139                    128  \n",
       "..                            ...                    ...  \n",
       "164                             4                     11  \n",
       "165                            47                      0  \n",
       "166                            17                      0  \n",
       "167                            51                     97  \n",
       "168                             1                      0  \n",
       "\n",
       "[169 rows x 11 columns]"
      ]
     },
     "execution_count": 45,
     "metadata": {},
     "output_type": "execute_result"
    }
   ],
   "source": [
    "df_delay_freq = pd.merge(df_pivot_lower,df_pivot_upper, on='Sensor ID',how='left')\n",
    "# Replace NaN values with 0\n",
    "df_delay_freq.fillna(0, inplace=True)\n",
    "df_delay_freq = df_delay_freq.astype(int)\n",
    "\n",
    "df_delay_freq"
   ]
  },
  {
   "cell_type": "code",
   "execution_count": 46,
   "metadata": {},
   "outputs": [
    {
     "data": {
      "text/html": [
       "<div>\n",
       "<style scoped>\n",
       "    .dataframe tbody tr th:only-of-type {\n",
       "        vertical-align: middle;\n",
       "    }\n",
       "\n",
       "    .dataframe tbody tr th {\n",
       "        vertical-align: top;\n",
       "    }\n",
       "\n",
       "    .dataframe thead th {\n",
       "        text-align: right;\n",
       "    }\n",
       "</style>\n",
       "<table border=\"1\" class=\"dataframe\">\n",
       "  <thead>\n",
       "    <tr style=\"text-align: right;\">\n",
       "      <th></th>\n",
       "      <th>Sensor ID</th>\n",
       "      <th>13_10000_mean_middle</th>\n",
       "      <th>13_16800_mean_middle</th>\n",
       "      <th>13_3000_mean_middle</th>\n",
       "      <th>13_6000_mean_middle</th>\n",
       "      <th>13_8000_mean_middle</th>\n",
       "      <th>18_10000_mean_middle</th>\n",
       "      <th>18_16800_mean_middle</th>\n",
       "      <th>18_3000_mean_middle</th>\n",
       "      <th>18_6000_mean_middle</th>\n",
       "      <th>...</th>\n",
       "      <th>delay_10000_freq_lower</th>\n",
       "      <th>delay_16800_freq_lower</th>\n",
       "      <th>delay_3000_freq_lower</th>\n",
       "      <th>delay_6000_freq_lower</th>\n",
       "      <th>delay_8000_freq_lower</th>\n",
       "      <th>delay_10000_freq_upper</th>\n",
       "      <th>delay_16800_freq_upper</th>\n",
       "      <th>delay_3000_freq_upper</th>\n",
       "      <th>delay_6000_freq_upper</th>\n",
       "      <th>delay_8000_freq_upper</th>\n",
       "    </tr>\n",
       "  </thead>\n",
       "  <tbody>\n",
       "    <tr>\n",
       "      <th>0</th>\n",
       "      <td>1</td>\n",
       "      <td>827.00</td>\n",
       "      <td>827.000000</td>\n",
       "      <td>827.00</td>\n",
       "      <td>827.00</td>\n",
       "      <td>827.00</td>\n",
       "      <td>1071.000000</td>\n",
       "      <td>1069.285714</td>\n",
       "      <td>1069.240000</td>\n",
       "      <td>1069.400000</td>\n",
       "      <td>...</td>\n",
       "      <td>267</td>\n",
       "      <td>102</td>\n",
       "      <td>140</td>\n",
       "      <td>171</td>\n",
       "      <td>167</td>\n",
       "      <td>258</td>\n",
       "      <td>105</td>\n",
       "      <td>131</td>\n",
       "      <td>182</td>\n",
       "      <td>197</td>\n",
       "    </tr>\n",
       "    <tr>\n",
       "      <th>1</th>\n",
       "      <td>2</td>\n",
       "      <td>679.64</td>\n",
       "      <td>679.000000</td>\n",
       "      <td>679.00</td>\n",
       "      <td>679.00</td>\n",
       "      <td>679.00</td>\n",
       "      <td>943.000000</td>\n",
       "      <td>954.200000</td>\n",
       "      <td>967.260870</td>\n",
       "      <td>954.520000</td>\n",
       "      <td>...</td>\n",
       "      <td>174</td>\n",
       "      <td>55</td>\n",
       "      <td>129</td>\n",
       "      <td>164</td>\n",
       "      <td>131</td>\n",
       "      <td>172</td>\n",
       "      <td>59</td>\n",
       "      <td>143</td>\n",
       "      <td>194</td>\n",
       "      <td>145</td>\n",
       "    </tr>\n",
       "    <tr>\n",
       "      <th>2</th>\n",
       "      <td>3</td>\n",
       "      <td>717.88</td>\n",
       "      <td>717.727273</td>\n",
       "      <td>718.04</td>\n",
       "      <td>717.24</td>\n",
       "      <td>718.04</td>\n",
       "      <td>1029.933333</td>\n",
       "      <td>1020.920000</td>\n",
       "      <td>1007.000000</td>\n",
       "      <td>1005.960000</td>\n",
       "      <td>...</td>\n",
       "      <td>5</td>\n",
       "      <td>6</td>\n",
       "      <td>48</td>\n",
       "      <td>10</td>\n",
       "      <td>8</td>\n",
       "      <td>21</td>\n",
       "      <td>13</td>\n",
       "      <td>52</td>\n",
       "      <td>8</td>\n",
       "      <td>11</td>\n",
       "    </tr>\n",
       "    <tr>\n",
       "      <th>3</th>\n",
       "      <td>4</td>\n",
       "      <td>737.08</td>\n",
       "      <td>736.840000</td>\n",
       "      <td>737.16</td>\n",
       "      <td>736.92</td>\n",
       "      <td>736.68</td>\n",
       "      <td>1030.351351</td>\n",
       "      <td>1031.000000</td>\n",
       "      <td>1028.840000</td>\n",
       "      <td>1087.000000</td>\n",
       "      <td>...</td>\n",
       "      <td>42</td>\n",
       "      <td>136</td>\n",
       "      <td>76</td>\n",
       "      <td>148</td>\n",
       "      <td>41</td>\n",
       "      <td>57</td>\n",
       "      <td>127</td>\n",
       "      <td>90</td>\n",
       "      <td>150</td>\n",
       "      <td>49</td>\n",
       "    </tr>\n",
       "    <tr>\n",
       "      <th>4</th>\n",
       "      <td>5</td>\n",
       "      <td>743.00</td>\n",
       "      <td>742.894737</td>\n",
       "      <td>741.88</td>\n",
       "      <td>743.00</td>\n",
       "      <td>743.00</td>\n",
       "      <td>1046.102041</td>\n",
       "      <td>1045.697674</td>\n",
       "      <td>1047.244898</td>\n",
       "      <td>1046.288889</td>\n",
       "      <td>...</td>\n",
       "      <td>98</td>\n",
       "      <td>22</td>\n",
       "      <td>95</td>\n",
       "      <td>130</td>\n",
       "      <td>137</td>\n",
       "      <td>91</td>\n",
       "      <td>13</td>\n",
       "      <td>82</td>\n",
       "      <td>139</td>\n",
       "      <td>128</td>\n",
       "    </tr>\n",
       "  </tbody>\n",
       "</table>\n",
       "<p>5 rows × 148 columns</p>\n",
       "</div>"
      ],
      "text/plain": [
       "   Sensor ID  13_10000_mean_middle  13_16800_mean_middle  13_3000_mean_middle  \\\n",
       "0          1                827.00            827.000000               827.00   \n",
       "1          2                679.64            679.000000               679.00   \n",
       "2          3                717.88            717.727273               718.04   \n",
       "3          4                737.08            736.840000               737.16   \n",
       "4          5                743.00            742.894737               741.88   \n",
       "\n",
       "   13_6000_mean_middle  13_8000_mean_middle  18_10000_mean_middle  \\\n",
       "0               827.00               827.00           1071.000000   \n",
       "1               679.00               679.00            943.000000   \n",
       "2               717.24               718.04           1029.933333   \n",
       "3               736.92               736.68           1030.351351   \n",
       "4               743.00               743.00           1046.102041   \n",
       "\n",
       "   18_16800_mean_middle  18_3000_mean_middle  18_6000_mean_middle  ...  \\\n",
       "0           1069.285714          1069.240000          1069.400000  ...   \n",
       "1            954.200000           967.260870           954.520000  ...   \n",
       "2           1020.920000          1007.000000          1005.960000  ...   \n",
       "3           1031.000000          1028.840000          1087.000000  ...   \n",
       "4           1045.697674          1047.244898          1046.288889  ...   \n",
       "\n",
       "   delay_10000_freq_lower  delay_16800_freq_lower  delay_3000_freq_lower  \\\n",
       "0                     267                     102                    140   \n",
       "1                     174                      55                    129   \n",
       "2                       5                       6                     48   \n",
       "3                      42                     136                     76   \n",
       "4                      98                      22                     95   \n",
       "\n",
       "   delay_6000_freq_lower  delay_8000_freq_lower  delay_10000_freq_upper  \\\n",
       "0                    171                    167                     258   \n",
       "1                    164                    131                     172   \n",
       "2                     10                      8                      21   \n",
       "3                    148                     41                      57   \n",
       "4                    130                    137                      91   \n",
       "\n",
       "   delay_16800_freq_upper  delay_3000_freq_upper  delay_6000_freq_upper  \\\n",
       "0                     105                    131                    182   \n",
       "1                      59                    143                    194   \n",
       "2                      13                     52                      8   \n",
       "3                     127                     90                    150   \n",
       "4                      13                     82                    139   \n",
       "\n",
       "   delay_8000_freq_upper  \n",
       "0                    197  \n",
       "1                    145  \n",
       "2                     11  \n",
       "3                     49  \n",
       "4                    128  \n",
       "\n",
       "[5 rows x 148 columns]"
      ]
     },
     "execution_count": 46,
     "metadata": {},
     "output_type": "execute_result"
    }
   ],
   "source": [
    "# Merge the unique categorical values DataFrame with the original data on 'Sensor ID'\n",
    "df_all = pd.merge(df_all, df_delay_freq, on='Sensor ID', how='left')\n",
    "df_all.head()"
   ]
  },
  {
   "cell_type": "markdown",
   "metadata": {},
   "source": [
    "# Add Variability (Feature Engineering)"
   ]
  },
  {
   "cell_type": "code",
   "execution_count": 47,
   "metadata": {},
   "outputs": [],
   "source": [
    "\n",
    "def create_range_delay_feature_variability(df_quartile,bound):\n",
    "    # Step 1: Group and calculate mean\n",
    "    df_grouped = df_quartile.groupby(['Sensor ID', 'Range (cm)', 'Delay (us)'])['Ping Time (us)'].var().reset_index()\n",
    "\n",
    "    # Step 2: Create `range_delay` column\n",
    "    df_grouped['range_delay_var'] = df_grouped['Range (cm)'].astype(str) + '_' + df_grouped['Delay (us)'].astype(str)+'_'+'var'+'_'+bound\n",
    "\n",
    "    # Step 3: Pivot the table\n",
    "    df_pivot = df_grouped.pivot(index='Sensor ID', columns='range_delay_var', values='Ping Time (us)').reset_index()\n",
    "    \n",
    "    return df_pivot\n",
    "\n",
    "\n",
    "def feature_engineering_quartile_var(df):\n",
    "    df_middle_quartile, df_lower_quartile, df_upper_quartile = split_quartiles(df)\n",
    "    df_range_delay_middle = create_range_delay_feature_variability(df_middle_quartile,\"middle\")\n",
    "    df_range_delay_lower = create_range_delay_feature_variability(df_lower_quartile,\"lower\")\n",
    "    df_range_delay_upper = create_range_delay_feature_variability(df_upper_quartile,\"upper\")\n",
    "\n",
    "    # List of DataFrames\n",
    "    df_pivots = [df_range_delay_middle, df_range_delay_lower, df_range_delay_upper]\n",
    "\n",
    "    # Initialize the merged DataFrame with the first DataFrame in the list\n",
    "    df_range_delay_all = df_pivots[0]\n",
    "\n",
    "    # Iteratively merge each DataFrame in the list\n",
    "    for df in df_pivots[1:]:\n",
    "        df_range_delay_all = df_range_delay_all.merge(df, on='Sensor ID')\n",
    "        \n",
    "    # Replace all NaN values with 0 in the merged DataFrame\n",
    "    df_range_delay_all.fillna(0, inplace=True)\n",
    "\n",
    "    return df_range_delay_all, df_range_delay_middle, df_range_delay_lower,df_range_delay_upper\n",
    "    \n",
    "\n",
    "df_range_delay_var_all,df_range_delay_var_middle, df_range_delay_var_lower,df_range_var_delay_upper = feature_engineering_quartile_var(df_data_v4_1_1)\n"
   ]
  },
  {
   "cell_type": "code",
   "execution_count": 48,
   "metadata": {},
   "outputs": [
    {
     "data": {
      "text/html": [
       "<div>\n",
       "<style scoped>\n",
       "    .dataframe tbody tr th:only-of-type {\n",
       "        vertical-align: middle;\n",
       "    }\n",
       "\n",
       "    .dataframe tbody tr th {\n",
       "        vertical-align: top;\n",
       "    }\n",
       "\n",
       "    .dataframe thead th {\n",
       "        text-align: right;\n",
       "    }\n",
       "</style>\n",
       "<table border=\"1\" class=\"dataframe\">\n",
       "  <thead>\n",
       "    <tr style=\"text-align: right;\">\n",
       "      <th>range_delay_var</th>\n",
       "      <th>Sensor ID</th>\n",
       "      <th>13_10000_var_middle</th>\n",
       "      <th>13_16800_var_middle</th>\n",
       "      <th>13_3000_var_middle</th>\n",
       "      <th>13_6000_var_middle</th>\n",
       "      <th>13_8000_var_middle</th>\n",
       "      <th>18_10000_var_middle</th>\n",
       "      <th>18_16800_var_middle</th>\n",
       "      <th>18_3000_var_middle</th>\n",
       "      <th>18_6000_var_middle</th>\n",
       "      <th>...</th>\n",
       "      <th>48_10000_var_upper</th>\n",
       "      <th>48_16800_var_upper</th>\n",
       "      <th>48_3000_var_upper</th>\n",
       "      <th>48_6000_var_upper</th>\n",
       "      <th>48_8000_var_upper</th>\n",
       "      <th>53_10000_var_upper</th>\n",
       "      <th>53_16800_var_upper</th>\n",
       "      <th>53_3000_var_upper</th>\n",
       "      <th>53_6000_var_upper</th>\n",
       "      <th>53_8000_var_upper</th>\n",
       "    </tr>\n",
       "  </thead>\n",
       "  <tbody>\n",
       "    <tr>\n",
       "      <th>0</th>\n",
       "      <td>1</td>\n",
       "      <td>0.000000</td>\n",
       "      <td>0.000000</td>\n",
       "      <td>0.000000</td>\n",
       "      <td>0.000000</td>\n",
       "      <td>0.000000</td>\n",
       "      <td>0.000000</td>\n",
       "      <td>5.333333</td>\n",
       "      <td>8.594286</td>\n",
       "      <td>6.530612</td>\n",
       "      <td>...</td>\n",
       "      <td>0.000000</td>\n",
       "      <td>0.0</td>\n",
       "      <td>172.8</td>\n",
       "      <td>288.000000</td>\n",
       "      <td>165.333333</td>\n",
       "      <td>1.928118</td>\n",
       "      <td>0.0</td>\n",
       "      <td>1.616162</td>\n",
       "      <td>137.018182</td>\n",
       "      <td>362.975845</td>\n",
       "    </tr>\n",
       "    <tr>\n",
       "      <th>1</th>\n",
       "      <td>2</td>\n",
       "      <td>5.459592</td>\n",
       "      <td>0.000000</td>\n",
       "      <td>0.000000</td>\n",
       "      <td>0.000000</td>\n",
       "      <td>0.000000</td>\n",
       "      <td>0.000000</td>\n",
       "      <td>189.387755</td>\n",
       "      <td>7.397101</td>\n",
       "      <td>164.336327</td>\n",
       "      <td>...</td>\n",
       "      <td>36.521739</td>\n",
       "      <td>0.0</td>\n",
       "      <td>0.0</td>\n",
       "      <td>0.000000</td>\n",
       "      <td>11.636364</td>\n",
       "      <td>0.000000</td>\n",
       "      <td>144840.0</td>\n",
       "      <td>0.000000</td>\n",
       "      <td>4.004430</td>\n",
       "      <td>0.000000</td>\n",
       "    </tr>\n",
       "    <tr>\n",
       "      <th>2</th>\n",
       "      <td>3</td>\n",
       "      <td>4.597551</td>\n",
       "      <td>5.040169</td>\n",
       "      <td>4.937143</td>\n",
       "      <td>6.635102</td>\n",
       "      <td>6.243265</td>\n",
       "      <td>4.654545</td>\n",
       "      <td>136.646531</td>\n",
       "      <td>0.000000</td>\n",
       "      <td>7.712653</td>\n",
       "      <td>...</td>\n",
       "      <td>0.000000</td>\n",
       "      <td>0.0</td>\n",
       "      <td>0.0</td>\n",
       "      <td>0.000000</td>\n",
       "      <td>0.000000</td>\n",
       "      <td>0.000000</td>\n",
       "      <td>0.0</td>\n",
       "      <td>0.000000</td>\n",
       "      <td>0.000000</td>\n",
       "      <td>0.000000</td>\n",
       "    </tr>\n",
       "    <tr>\n",
       "      <th>3</th>\n",
       "      <td>4</td>\n",
       "      <td>4.075102</td>\n",
       "      <td>6.014694</td>\n",
       "      <td>5.361633</td>\n",
       "      <td>5.381224</td>\n",
       "      <td>5.936327</td>\n",
       "      <td>3.123123</td>\n",
       "      <td>0.000000</td>\n",
       "      <td>6.014694</td>\n",
       "      <td>35.096774</td>\n",
       "      <td>...</td>\n",
       "      <td>0.000000</td>\n",
       "      <td>0.0</td>\n",
       "      <td>0.0</td>\n",
       "      <td>1.560976</td>\n",
       "      <td>0.000000</td>\n",
       "      <td>3.069767</td>\n",
       "      <td>0.0</td>\n",
       "      <td>3.295681</td>\n",
       "      <td>2.923588</td>\n",
       "      <td>3.295681</td>\n",
       "    </tr>\n",
       "    <tr>\n",
       "      <th>4</th>\n",
       "      <td>5</td>\n",
       "      <td>0.000000</td>\n",
       "      <td>6.475107</td>\n",
       "      <td>5.250612</td>\n",
       "      <td>0.000000</td>\n",
       "      <td>0.000000</td>\n",
       "      <td>8.843537</td>\n",
       "      <td>8.168328</td>\n",
       "      <td>8.272109</td>\n",
       "      <td>5.301010</td>\n",
       "      <td>...</td>\n",
       "      <td>0.000000</td>\n",
       "      <td>0.0</td>\n",
       "      <td>0.0</td>\n",
       "      <td>0.000000</td>\n",
       "      <td>0.000000</td>\n",
       "      <td>0.000000</td>\n",
       "      <td>0.0</td>\n",
       "      <td>0.000000</td>\n",
       "      <td>0.000000</td>\n",
       "      <td>0.000000</td>\n",
       "    </tr>\n",
       "  </tbody>\n",
       "</table>\n",
       "<p>5 rows × 136 columns</p>\n",
       "</div>"
      ],
      "text/plain": [
       "range_delay_var  Sensor ID  13_10000_var_middle  13_16800_var_middle  \\\n",
       "0                        1             0.000000             0.000000   \n",
       "1                        2             5.459592             0.000000   \n",
       "2                        3             4.597551             5.040169   \n",
       "3                        4             4.075102             6.014694   \n",
       "4                        5             0.000000             6.475107   \n",
       "\n",
       "range_delay_var  13_3000_var_middle  13_6000_var_middle  13_8000_var_middle  \\\n",
       "0                          0.000000            0.000000            0.000000   \n",
       "1                          0.000000            0.000000            0.000000   \n",
       "2                          4.937143            6.635102            6.243265   \n",
       "3                          5.361633            5.381224            5.936327   \n",
       "4                          5.250612            0.000000            0.000000   \n",
       "\n",
       "range_delay_var  18_10000_var_middle  18_16800_var_middle  18_3000_var_middle  \\\n",
       "0                           0.000000             5.333333            8.594286   \n",
       "1                           0.000000           189.387755            7.397101   \n",
       "2                           4.654545           136.646531            0.000000   \n",
       "3                           3.123123             0.000000            6.014694   \n",
       "4                           8.843537             8.168328            8.272109   \n",
       "\n",
       "range_delay_var  18_6000_var_middle  ...  48_10000_var_upper  \\\n",
       "0                          6.530612  ...            0.000000   \n",
       "1                        164.336327  ...           36.521739   \n",
       "2                          7.712653  ...            0.000000   \n",
       "3                         35.096774  ...            0.000000   \n",
       "4                          5.301010  ...            0.000000   \n",
       "\n",
       "range_delay_var  48_16800_var_upper  48_3000_var_upper  48_6000_var_upper  \\\n",
       "0                               0.0              172.8         288.000000   \n",
       "1                               0.0                0.0           0.000000   \n",
       "2                               0.0                0.0           0.000000   \n",
       "3                               0.0                0.0           1.560976   \n",
       "4                               0.0                0.0           0.000000   \n",
       "\n",
       "range_delay_var  48_8000_var_upper  53_10000_var_upper  53_16800_var_upper  \\\n",
       "0                       165.333333            1.928118                 0.0   \n",
       "1                        11.636364            0.000000            144840.0   \n",
       "2                         0.000000            0.000000                 0.0   \n",
       "3                         0.000000            3.069767                 0.0   \n",
       "4                         0.000000            0.000000                 0.0   \n",
       "\n",
       "range_delay_var  53_3000_var_upper  53_6000_var_upper  53_8000_var_upper  \n",
       "0                         1.616162         137.018182         362.975845  \n",
       "1                         0.000000           4.004430           0.000000  \n",
       "2                         0.000000           0.000000           0.000000  \n",
       "3                         3.295681           2.923588           3.295681  \n",
       "4                         0.000000           0.000000           0.000000  \n",
       "\n",
       "[5 rows x 136 columns]"
      ]
     },
     "execution_count": 48,
     "metadata": {},
     "output_type": "execute_result"
    }
   ],
   "source": [
    "df_range_delay_var_all.head()"
   ]
  },
  {
   "cell_type": "code",
   "execution_count": 49,
   "metadata": {},
   "outputs": [
    {
     "data": {
      "text/html": [
       "<div>\n",
       "<style scoped>\n",
       "    .dataframe tbody tr th:only-of-type {\n",
       "        vertical-align: middle;\n",
       "    }\n",
       "\n",
       "    .dataframe tbody tr th {\n",
       "        vertical-align: top;\n",
       "    }\n",
       "\n",
       "    .dataframe thead th {\n",
       "        text-align: right;\n",
       "    }\n",
       "</style>\n",
       "<table border=\"1\" class=\"dataframe\">\n",
       "  <thead>\n",
       "    <tr style=\"text-align: right;\">\n",
       "      <th></th>\n",
       "      <th>Sensor ID</th>\n",
       "      <th>13_10000_mean_middle</th>\n",
       "      <th>13_16800_mean_middle</th>\n",
       "      <th>13_3000_mean_middle</th>\n",
       "      <th>13_6000_mean_middle</th>\n",
       "      <th>13_8000_mean_middle</th>\n",
       "      <th>18_10000_mean_middle</th>\n",
       "      <th>18_16800_mean_middle</th>\n",
       "      <th>18_3000_mean_middle</th>\n",
       "      <th>18_6000_mean_middle</th>\n",
       "      <th>...</th>\n",
       "      <th>48_10000_var_upper</th>\n",
       "      <th>48_16800_var_upper</th>\n",
       "      <th>48_3000_var_upper</th>\n",
       "      <th>48_6000_var_upper</th>\n",
       "      <th>48_8000_var_upper</th>\n",
       "      <th>53_10000_var_upper</th>\n",
       "      <th>53_16800_var_upper</th>\n",
       "      <th>53_3000_var_upper</th>\n",
       "      <th>53_6000_var_upper</th>\n",
       "      <th>53_8000_var_upper</th>\n",
       "    </tr>\n",
       "  </thead>\n",
       "  <tbody>\n",
       "    <tr>\n",
       "      <th>0</th>\n",
       "      <td>1</td>\n",
       "      <td>827.00</td>\n",
       "      <td>827.000000</td>\n",
       "      <td>827.00</td>\n",
       "      <td>827.00</td>\n",
       "      <td>827.00</td>\n",
       "      <td>1071.000000</td>\n",
       "      <td>1069.285714</td>\n",
       "      <td>1069.240000</td>\n",
       "      <td>1069.400000</td>\n",
       "      <td>...</td>\n",
       "      <td>0.000000</td>\n",
       "      <td>0.0</td>\n",
       "      <td>172.8</td>\n",
       "      <td>288.000000</td>\n",
       "      <td>165.333333</td>\n",
       "      <td>1.928118</td>\n",
       "      <td>0.0</td>\n",
       "      <td>1.616162</td>\n",
       "      <td>137.018182</td>\n",
       "      <td>362.975845</td>\n",
       "    </tr>\n",
       "    <tr>\n",
       "      <th>1</th>\n",
       "      <td>2</td>\n",
       "      <td>679.64</td>\n",
       "      <td>679.000000</td>\n",
       "      <td>679.00</td>\n",
       "      <td>679.00</td>\n",
       "      <td>679.00</td>\n",
       "      <td>943.000000</td>\n",
       "      <td>954.200000</td>\n",
       "      <td>967.260870</td>\n",
       "      <td>954.520000</td>\n",
       "      <td>...</td>\n",
       "      <td>36.521739</td>\n",
       "      <td>0.0</td>\n",
       "      <td>0.0</td>\n",
       "      <td>0.000000</td>\n",
       "      <td>11.636364</td>\n",
       "      <td>0.000000</td>\n",
       "      <td>144840.0</td>\n",
       "      <td>0.000000</td>\n",
       "      <td>4.004430</td>\n",
       "      <td>0.000000</td>\n",
       "    </tr>\n",
       "    <tr>\n",
       "      <th>2</th>\n",
       "      <td>3</td>\n",
       "      <td>717.88</td>\n",
       "      <td>717.727273</td>\n",
       "      <td>718.04</td>\n",
       "      <td>717.24</td>\n",
       "      <td>718.04</td>\n",
       "      <td>1029.933333</td>\n",
       "      <td>1020.920000</td>\n",
       "      <td>1007.000000</td>\n",
       "      <td>1005.960000</td>\n",
       "      <td>...</td>\n",
       "      <td>0.000000</td>\n",
       "      <td>0.0</td>\n",
       "      <td>0.0</td>\n",
       "      <td>0.000000</td>\n",
       "      <td>0.000000</td>\n",
       "      <td>0.000000</td>\n",
       "      <td>0.0</td>\n",
       "      <td>0.000000</td>\n",
       "      <td>0.000000</td>\n",
       "      <td>0.000000</td>\n",
       "    </tr>\n",
       "    <tr>\n",
       "      <th>3</th>\n",
       "      <td>4</td>\n",
       "      <td>737.08</td>\n",
       "      <td>736.840000</td>\n",
       "      <td>737.16</td>\n",
       "      <td>736.92</td>\n",
       "      <td>736.68</td>\n",
       "      <td>1030.351351</td>\n",
       "      <td>1031.000000</td>\n",
       "      <td>1028.840000</td>\n",
       "      <td>1087.000000</td>\n",
       "      <td>...</td>\n",
       "      <td>0.000000</td>\n",
       "      <td>0.0</td>\n",
       "      <td>0.0</td>\n",
       "      <td>1.560976</td>\n",
       "      <td>0.000000</td>\n",
       "      <td>3.069767</td>\n",
       "      <td>0.0</td>\n",
       "      <td>3.295681</td>\n",
       "      <td>2.923588</td>\n",
       "      <td>3.295681</td>\n",
       "    </tr>\n",
       "    <tr>\n",
       "      <th>4</th>\n",
       "      <td>5</td>\n",
       "      <td>743.00</td>\n",
       "      <td>742.894737</td>\n",
       "      <td>741.88</td>\n",
       "      <td>743.00</td>\n",
       "      <td>743.00</td>\n",
       "      <td>1046.102041</td>\n",
       "      <td>1045.697674</td>\n",
       "      <td>1047.244898</td>\n",
       "      <td>1046.288889</td>\n",
       "      <td>...</td>\n",
       "      <td>0.000000</td>\n",
       "      <td>0.0</td>\n",
       "      <td>0.0</td>\n",
       "      <td>0.000000</td>\n",
       "      <td>0.000000</td>\n",
       "      <td>0.000000</td>\n",
       "      <td>0.0</td>\n",
       "      <td>0.000000</td>\n",
       "      <td>0.000000</td>\n",
       "      <td>0.000000</td>\n",
       "    </tr>\n",
       "  </tbody>\n",
       "</table>\n",
       "<p>5 rows × 283 columns</p>\n",
       "</div>"
      ],
      "text/plain": [
       "   Sensor ID  13_10000_mean_middle  13_16800_mean_middle  13_3000_mean_middle  \\\n",
       "0          1                827.00            827.000000               827.00   \n",
       "1          2                679.64            679.000000               679.00   \n",
       "2          3                717.88            717.727273               718.04   \n",
       "3          4                737.08            736.840000               737.16   \n",
       "4          5                743.00            742.894737               741.88   \n",
       "\n",
       "   13_6000_mean_middle  13_8000_mean_middle  18_10000_mean_middle  \\\n",
       "0               827.00               827.00           1071.000000   \n",
       "1               679.00               679.00            943.000000   \n",
       "2               717.24               718.04           1029.933333   \n",
       "3               736.92               736.68           1030.351351   \n",
       "4               743.00               743.00           1046.102041   \n",
       "\n",
       "   18_16800_mean_middle  18_3000_mean_middle  18_6000_mean_middle  ...  \\\n",
       "0           1069.285714          1069.240000          1069.400000  ...   \n",
       "1            954.200000           967.260870           954.520000  ...   \n",
       "2           1020.920000          1007.000000          1005.960000  ...   \n",
       "3           1031.000000          1028.840000          1087.000000  ...   \n",
       "4           1045.697674          1047.244898          1046.288889  ...   \n",
       "\n",
       "   48_10000_var_upper  48_16800_var_upper  48_3000_var_upper  \\\n",
       "0            0.000000                 0.0              172.8   \n",
       "1           36.521739                 0.0                0.0   \n",
       "2            0.000000                 0.0                0.0   \n",
       "3            0.000000                 0.0                0.0   \n",
       "4            0.000000                 0.0                0.0   \n",
       "\n",
       "   48_6000_var_upper  48_8000_var_upper  53_10000_var_upper  \\\n",
       "0         288.000000         165.333333            1.928118   \n",
       "1           0.000000          11.636364            0.000000   \n",
       "2           0.000000           0.000000            0.000000   \n",
       "3           1.560976           0.000000            3.069767   \n",
       "4           0.000000           0.000000            0.000000   \n",
       "\n",
       "   53_16800_var_upper  53_3000_var_upper  53_6000_var_upper  53_8000_var_upper  \n",
       "0                 0.0           1.616162         137.018182         362.975845  \n",
       "1            144840.0           0.000000           4.004430           0.000000  \n",
       "2                 0.0           0.000000           0.000000           0.000000  \n",
       "3                 0.0           3.295681           2.923588           3.295681  \n",
       "4                 0.0           0.000000           0.000000           0.000000  \n",
       "\n",
       "[5 rows x 283 columns]"
      ]
     },
     "execution_count": 49,
     "metadata": {},
     "output_type": "execute_result"
    }
   ],
   "source": [
    "# Merge the unique categorical values DataFrame with the original data on 'Sensor ID'\n",
    "df_all = pd.merge(df_all, df_range_delay_var_all, on='Sensor ID', how='left')\n",
    "df_all.head()"
   ]
  },
  {
   "cell_type": "code",
   "execution_count": 50,
   "metadata": {},
   "outputs": [
    {
     "data": {
      "text/plain": [
       "array([  1,   2,   3,   4,   5,   6,   7,   8,   9,  10,  11,  12,  13,\n",
       "        14,  15,  16,  17,  18,  19,  20,  21,  22,  23,  24,  25,  26,\n",
       "        27,  28,  29,  30,  32,  33,  34,  35,  36,  37,  38,  39,  40,\n",
       "        41,  42,  43,  44,  45,  46,  47,  48,  49,  50,  51,  52,  53,\n",
       "        54,  55,  56,  57,  58,  59,  60,  61,  62,  63,  64,  65,  66,\n",
       "        67,  68,  69,  70,  71,  72,  73,  74,  75,  76,  77,  78,  79,\n",
       "        80,  81,  82,  83,  84,  85,  86,  87,  88,  89,  90,  91,  92,\n",
       "        93,  94,  95,  96,  97,  98,  99, 100, 101, 102, 103, 104, 105,\n",
       "       106, 107, 108, 109, 110, 111, 112, 113, 114, 115, 116, 117, 118,\n",
       "       119, 120, 121, 122, 123, 124, 125, 126, 127, 128, 129, 130, 131,\n",
       "       132, 133, 134, 135, 136, 137, 138, 139, 140, 141, 142, 143, 144,\n",
       "       145, 146, 147, 148, 149, 150, 151, 152, 153, 154, 155, 156, 157,\n",
       "       158, 159, 160, 161, 162, 163, 164, 165, 166, 167, 168, 169, 170])"
      ]
     },
     "execution_count": 50,
     "metadata": {},
     "output_type": "execute_result"
    }
   ],
   "source": [
    "df_all[\"Sensor ID\"].unique()"
   ]
  },
  {
   "cell_type": "markdown",
   "metadata": {},
   "source": [
    "# Export data"
   ]
  },
  {
   "cell_type": "code",
   "execution_count": 51,
   "metadata": {},
   "outputs": [],
   "source": [
    "#df_all.to_csv(\"../processed_data/data_v4-1-1_feature_engineered_sensor170.csv\", index=False)"
   ]
  },
  {
   "cell_type": "code",
   "execution_count": null,
   "metadata": {},
   "outputs": [],
   "source": []
  }
 ],
 "metadata": {
  "kernelspec": {
   "display_name": "datascience",
   "language": "python",
   "name": "python3"
  },
  "language_info": {
   "codemirror_mode": {
    "name": "ipython",
    "version": 3
   },
   "file_extension": ".py",
   "mimetype": "text/x-python",
   "name": "python",
   "nbconvert_exporter": "python",
   "pygments_lexer": "ipython3",
   "version": "3.10.13"
  }
 },
 "nbformat": 4,
 "nbformat_minor": 2
}
