{
 "cells": [
  {
   "cell_type": "markdown",
   "metadata": {},
   "source": [
    "# Feature Engineering with delay sequence data"
   ]
  },
  {
   "cell_type": "markdown",
   "metadata": {},
   "source": [
    "This notebook will perform feature engineering based on the finding from the \"Ultrasonic_EDA_Delay Sequence\" notebook. "
   ]
  },
  {
   "cell_type": "code",
   "execution_count": 11,
   "metadata": {},
   "outputs": [],
   "source": [
    "import os\n",
    "import pandas as pd\n",
    "import matplotlib.pyplot as plt\n",
    "import seaborn as sns\n",
    "import plotly.express as px"
   ]
  },
  {
   "cell_type": "code",
   "execution_count": 12,
   "metadata": {},
   "outputs": [],
   "source": [
    "def get_all_files_in_directory(root_directory):\n",
    "    file_paths = []\n",
    "    for root, dirs, files in os.walk(root_directory):\n",
    "        for file in files:\n",
    "            file_paths.append(os.path.join(root, file))\n",
    "    return file_paths\n",
    "\n",
    "\n",
    "def merge_csv_files(file_paths):\n",
    "    \"\"\"\n",
    "    Merge multiple CSV files into a single DataFrame.\n",
    "\n",
    "    Parameters:\n",
    "    file_paths (list of str): List of file paths to the CSV files.\n",
    "\n",
    "    Returns:\n",
    "    DataFrame: Merged DataFrame containing data from all input CSV files.\n",
    "    \"\"\"\n",
    "    dataframes = []\n",
    "    for file in file_paths:\n",
    "        df = pd.read_csv(file)\n",
    "        dataframes.append(df)\n",
    "\n",
    "    # Concatenate all DataFrames\n",
    "    merged_df = pd.concat(dataframes, ignore_index=True)\n",
    "    \n",
    "    return merged_df"
   ]
  },
  {
   "cell_type": "markdown",
   "metadata": {},
   "source": [
    "## Import data"
   ]
  },
  {
   "cell_type": "markdown",
   "metadata": {},
   "source": [
    "Currently there are 20 sensor datas."
   ]
  },
  {
   "cell_type": "code",
   "execution_count": 13,
   "metadata": {},
   "outputs": [
    {
     "data": {
      "text/html": [
       "<div>\n",
       "<style scoped>\n",
       "    .dataframe tbody tr th:only-of-type {\n",
       "        vertical-align: middle;\n",
       "    }\n",
       "\n",
       "    .dataframe tbody tr th {\n",
       "        vertical-align: top;\n",
       "    }\n",
       "\n",
       "    .dataframe thead th {\n",
       "        text-align: right;\n",
       "    }\n",
       "</style>\n",
       "<table border=\"1\" class=\"dataframe\">\n",
       "  <thead>\n",
       "    <tr style=\"text-align: right;\">\n",
       "      <th></th>\n",
       "      <th>Trial</th>\n",
       "      <th>Ping Duration</th>\n",
       "      <th>Distance (cm)</th>\n",
       "      <th>Ping Time (us)</th>\n",
       "      <th>Delay (us)</th>\n",
       "      <th>Steps</th>\n",
       "      <th>Arduino ID</th>\n",
       "      <th>Sensor ID</th>\n",
       "      <th>Range (cm)</th>\n",
       "      <th>Sensor length (cm)</th>\n",
       "      <th>...</th>\n",
       "      <th>side a (cm)</th>\n",
       "      <th>side b (cm)</th>\n",
       "      <th>side c (cm)</th>\n",
       "      <th>Angle on YZ plane</th>\n",
       "      <th>Sensor Configuration</th>\n",
       "      <th>Sensor Angle</th>\n",
       "      <th>Surface material</th>\n",
       "      <th>Surface Length (cm)</th>\n",
       "      <th>Surface Width (cm)</th>\n",
       "      <th>side g (cm)</th>\n",
       "    </tr>\n",
       "  </thead>\n",
       "  <tbody>\n",
       "    <tr>\n",
       "      <th>0</th>\n",
       "      <td>0</td>\n",
       "      <td>3476</td>\n",
       "      <td>14.51</td>\n",
       "      <td>827</td>\n",
       "      <td>16800</td>\n",
       "      <td>10440.0</td>\n",
       "      <td>1</td>\n",
       "      <td>1</td>\n",
       "      <td>13</td>\n",
       "      <td>0.8</td>\n",
       "      <td>...</td>\n",
       "      <td>18.3</td>\n",
       "      <td>18.3</td>\n",
       "      <td>0</td>\n",
       "      <td>0</td>\n",
       "      <td>HTR</td>\n",
       "      <td>90</td>\n",
       "      <td>wood</td>\n",
       "      <td>31</td>\n",
       "      <td>30.5</td>\n",
       "      <td>NaN</td>\n",
       "    </tr>\n",
       "    <tr>\n",
       "      <th>1</th>\n",
       "      <td>1</td>\n",
       "      <td>3468</td>\n",
       "      <td>14.51</td>\n",
       "      <td>827</td>\n",
       "      <td>16800</td>\n",
       "      <td>10440.0</td>\n",
       "      <td>1</td>\n",
       "      <td>1</td>\n",
       "      <td>13</td>\n",
       "      <td>0.8</td>\n",
       "      <td>...</td>\n",
       "      <td>18.3</td>\n",
       "      <td>18.3</td>\n",
       "      <td>0</td>\n",
       "      <td>0</td>\n",
       "      <td>HTR</td>\n",
       "      <td>90</td>\n",
       "      <td>wood</td>\n",
       "      <td>31</td>\n",
       "      <td>30.5</td>\n",
       "      <td>NaN</td>\n",
       "    </tr>\n",
       "    <tr>\n",
       "      <th>2</th>\n",
       "      <td>2</td>\n",
       "      <td>3472</td>\n",
       "      <td>14.44</td>\n",
       "      <td>823</td>\n",
       "      <td>16800</td>\n",
       "      <td>10440.0</td>\n",
       "      <td>1</td>\n",
       "      <td>1</td>\n",
       "      <td>13</td>\n",
       "      <td>0.8</td>\n",
       "      <td>...</td>\n",
       "      <td>18.3</td>\n",
       "      <td>18.3</td>\n",
       "      <td>0</td>\n",
       "      <td>0</td>\n",
       "      <td>HTR</td>\n",
       "      <td>90</td>\n",
       "      <td>wood</td>\n",
       "      <td>31</td>\n",
       "      <td>30.5</td>\n",
       "      <td>NaN</td>\n",
       "    </tr>\n",
       "    <tr>\n",
       "      <th>3</th>\n",
       "      <td>3</td>\n",
       "      <td>3476</td>\n",
       "      <td>14.51</td>\n",
       "      <td>827</td>\n",
       "      <td>16800</td>\n",
       "      <td>10440.0</td>\n",
       "      <td>1</td>\n",
       "      <td>1</td>\n",
       "      <td>13</td>\n",
       "      <td>0.8</td>\n",
       "      <td>...</td>\n",
       "      <td>18.3</td>\n",
       "      <td>18.3</td>\n",
       "      <td>0</td>\n",
       "      <td>0</td>\n",
       "      <td>HTR</td>\n",
       "      <td>90</td>\n",
       "      <td>wood</td>\n",
       "      <td>31</td>\n",
       "      <td>30.5</td>\n",
       "      <td>NaN</td>\n",
       "    </tr>\n",
       "    <tr>\n",
       "      <th>4</th>\n",
       "      <td>4</td>\n",
       "      <td>3476</td>\n",
       "      <td>14.51</td>\n",
       "      <td>827</td>\n",
       "      <td>16800</td>\n",
       "      <td>10440.0</td>\n",
       "      <td>1</td>\n",
       "      <td>1</td>\n",
       "      <td>13</td>\n",
       "      <td>0.8</td>\n",
       "      <td>...</td>\n",
       "      <td>18.3</td>\n",
       "      <td>18.3</td>\n",
       "      <td>0</td>\n",
       "      <td>0</td>\n",
       "      <td>HTR</td>\n",
       "      <td>90</td>\n",
       "      <td>wood</td>\n",
       "      <td>31</td>\n",
       "      <td>30.5</td>\n",
       "      <td>NaN</td>\n",
       "    </tr>\n",
       "    <tr>\n",
       "      <th>...</th>\n",
       "      <td>...</td>\n",
       "      <td>...</td>\n",
       "      <td>...</td>\n",
       "      <td>...</td>\n",
       "      <td>...</td>\n",
       "      <td>...</td>\n",
       "      <td>...</td>\n",
       "      <td>...</td>\n",
       "      <td>...</td>\n",
       "      <td>...</td>\n",
       "      <td>...</td>\n",
       "      <td>...</td>\n",
       "      <td>...</td>\n",
       "      <td>...</td>\n",
       "      <td>...</td>\n",
       "      <td>...</td>\n",
       "      <td>...</td>\n",
       "      <td>...</td>\n",
       "      <td>...</td>\n",
       "      <td>...</td>\n",
       "      <td>...</td>\n",
       "    </tr>\n",
       "    <tr>\n",
       "      <th>517375</th>\n",
       "      <td>45</td>\n",
       "      <td>6520</td>\n",
       "      <td>52.75</td>\n",
       "      <td>3007</td>\n",
       "      <td>3000</td>\n",
       "      <td>0.0</td>\n",
       "      <td>1</td>\n",
       "      <td>99</td>\n",
       "      <td>53</td>\n",
       "      <td>0.8</td>\n",
       "      <td>...</td>\n",
       "      <td>18.3</td>\n",
       "      <td>18.3</td>\n",
       "      <td>0</td>\n",
       "      <td>0</td>\n",
       "      <td>HTR</td>\n",
       "      <td>90</td>\n",
       "      <td>wood</td>\n",
       "      <td>31</td>\n",
       "      <td>30.5</td>\n",
       "      <td>NaN</td>\n",
       "    </tr>\n",
       "    <tr>\n",
       "      <th>517376</th>\n",
       "      <td>46</td>\n",
       "      <td>6520</td>\n",
       "      <td>52.61</td>\n",
       "      <td>2999</td>\n",
       "      <td>3000</td>\n",
       "      <td>0.0</td>\n",
       "      <td>1</td>\n",
       "      <td>99</td>\n",
       "      <td>53</td>\n",
       "      <td>0.8</td>\n",
       "      <td>...</td>\n",
       "      <td>18.3</td>\n",
       "      <td>18.3</td>\n",
       "      <td>0</td>\n",
       "      <td>0</td>\n",
       "      <td>HTR</td>\n",
       "      <td>90</td>\n",
       "      <td>wood</td>\n",
       "      <td>31</td>\n",
       "      <td>30.5</td>\n",
       "      <td>NaN</td>\n",
       "    </tr>\n",
       "    <tr>\n",
       "      <th>517377</th>\n",
       "      <td>47</td>\n",
       "      <td>6544</td>\n",
       "      <td>53.04</td>\n",
       "      <td>3023</td>\n",
       "      <td>3000</td>\n",
       "      <td>0.0</td>\n",
       "      <td>1</td>\n",
       "      <td>99</td>\n",
       "      <td>53</td>\n",
       "      <td>0.8</td>\n",
       "      <td>...</td>\n",
       "      <td>18.3</td>\n",
       "      <td>18.3</td>\n",
       "      <td>0</td>\n",
       "      <td>0</td>\n",
       "      <td>HTR</td>\n",
       "      <td>90</td>\n",
       "      <td>wood</td>\n",
       "      <td>31</td>\n",
       "      <td>30.5</td>\n",
       "      <td>NaN</td>\n",
       "    </tr>\n",
       "    <tr>\n",
       "      <th>517378</th>\n",
       "      <td>48</td>\n",
       "      <td>6544</td>\n",
       "      <td>53.11</td>\n",
       "      <td>3027</td>\n",
       "      <td>3000</td>\n",
       "      <td>0.0</td>\n",
       "      <td>1</td>\n",
       "      <td>99</td>\n",
       "      <td>53</td>\n",
       "      <td>0.8</td>\n",
       "      <td>...</td>\n",
       "      <td>18.3</td>\n",
       "      <td>18.3</td>\n",
       "      <td>0</td>\n",
       "      <td>0</td>\n",
       "      <td>HTR</td>\n",
       "      <td>90</td>\n",
       "      <td>wood</td>\n",
       "      <td>31</td>\n",
       "      <td>30.5</td>\n",
       "      <td>NaN</td>\n",
       "    </tr>\n",
       "    <tr>\n",
       "      <th>517379</th>\n",
       "      <td>49</td>\n",
       "      <td>6520</td>\n",
       "      <td>52.61</td>\n",
       "      <td>2999</td>\n",
       "      <td>3000</td>\n",
       "      <td>0.0</td>\n",
       "      <td>1</td>\n",
       "      <td>99</td>\n",
       "      <td>53</td>\n",
       "      <td>0.8</td>\n",
       "      <td>...</td>\n",
       "      <td>18.3</td>\n",
       "      <td>18.3</td>\n",
       "      <td>0</td>\n",
       "      <td>0</td>\n",
       "      <td>HTR</td>\n",
       "      <td>90</td>\n",
       "      <td>wood</td>\n",
       "      <td>31</td>\n",
       "      <td>30.5</td>\n",
       "      <td>NaN</td>\n",
       "    </tr>\n",
       "  </tbody>\n",
       "</table>\n",
       "<p>517380 rows × 22 columns</p>\n",
       "</div>"
      ],
      "text/plain": [
       "        Trial  Ping Duration  Distance (cm)  Ping Time (us)  Delay (us)  \\\n",
       "0           0           3476          14.51             827       16800   \n",
       "1           1           3468          14.51             827       16800   \n",
       "2           2           3472          14.44             823       16800   \n",
       "3           3           3476          14.51             827       16800   \n",
       "4           4           3476          14.51             827       16800   \n",
       "...       ...            ...            ...             ...         ...   \n",
       "517375     45           6520          52.75            3007        3000   \n",
       "517376     46           6520          52.61            2999        3000   \n",
       "517377     47           6544          53.04            3023        3000   \n",
       "517378     48           6544          53.11            3027        3000   \n",
       "517379     49           6520          52.61            2999        3000   \n",
       "\n",
       "          Steps  Arduino ID  Sensor ID  Range (cm)  Sensor length (cm)  ...  \\\n",
       "0       10440.0           1          1          13                 0.8  ...   \n",
       "1       10440.0           1          1          13                 0.8  ...   \n",
       "2       10440.0           1          1          13                 0.8  ...   \n",
       "3       10440.0           1          1          13                 0.8  ...   \n",
       "4       10440.0           1          1          13                 0.8  ...   \n",
       "...         ...         ...        ...         ...                 ...  ...   \n",
       "517375      0.0           1         99          53                 0.8  ...   \n",
       "517376      0.0           1         99          53                 0.8  ...   \n",
       "517377      0.0           1         99          53                 0.8  ...   \n",
       "517378      0.0           1         99          53                 0.8  ...   \n",
       "517379      0.0           1         99          53                 0.8  ...   \n",
       "\n",
       "       side a (cm)  side b (cm)  side c (cm)  Angle on YZ plane  \\\n",
       "0             18.3         18.3            0                  0   \n",
       "1             18.3         18.3            0                  0   \n",
       "2             18.3         18.3            0                  0   \n",
       "3             18.3         18.3            0                  0   \n",
       "4             18.3         18.3            0                  0   \n",
       "...            ...          ...          ...                ...   \n",
       "517375        18.3         18.3            0                  0   \n",
       "517376        18.3         18.3            0                  0   \n",
       "517377        18.3         18.3            0                  0   \n",
       "517378        18.3         18.3            0                  0   \n",
       "517379        18.3         18.3            0                  0   \n",
       "\n",
       "        Sensor Configuration  Sensor Angle Surface material  \\\n",
       "0                        HTR            90             wood   \n",
       "1                        HTR            90             wood   \n",
       "2                        HTR            90             wood   \n",
       "3                        HTR            90             wood   \n",
       "4                        HTR            90             wood   \n",
       "...                      ...           ...              ...   \n",
       "517375                   HTR            90             wood   \n",
       "517376                   HTR            90             wood   \n",
       "517377                   HTR            90             wood   \n",
       "517378                   HTR            90             wood   \n",
       "517379                   HTR            90             wood   \n",
       "\n",
       "        Surface Length (cm) Surface Width (cm)  side g (cm)  \n",
       "0                        31               30.5          NaN  \n",
       "1                        31               30.5          NaN  \n",
       "2                        31               30.5          NaN  \n",
       "3                        31               30.5          NaN  \n",
       "4                        31               30.5          NaN  \n",
       "...                     ...                ...          ...  \n",
       "517375                   31               30.5          NaN  \n",
       "517376                   31               30.5          NaN  \n",
       "517377                   31               30.5          NaN  \n",
       "517378                   31               30.5          NaN  \n",
       "517379                   31               30.5          NaN  \n",
       "\n",
       "[517380 rows x 22 columns]"
      ]
     },
     "execution_count": 13,
     "metadata": {},
     "output_type": "execute_result"
    }
   ],
   "source": [
    "folder_path = '../../ultra_sonic_sensor/fully_automate/data_v4.1.1'\n",
    "file_paths = get_all_files_in_directory(folder_path)\n",
    "df_data_v4_1_1 = merge_csv_files(file_paths)\n",
    "df_data_v4_1_1"
   ]
  },
  {
   "cell_type": "markdown",
   "metadata": {},
   "source": [
    "Clean data"
   ]
  },
  {
   "cell_type": "code",
   "execution_count": 14,
   "metadata": {},
   "outputs": [],
   "source": [
    "# Step 1: Identify Columns with NaNs\n",
    "nan_columns = df_data_v4_1_1.columns[df_data_v4_1_1.isnull().any()]\n",
    "\n",
    "# Step 2: Find Mode and Replace NaNs\n",
    "for col in nan_columns:\n",
    "    if df_data_v4_1_1[col].dtype == object:  # Check if the column is categorical\n",
    "        mode_value = df_data_v4_1_1[col].mode()[0]  # Find the mode value (most frequent value)\\\n",
    "        df_data_v4_1_1[col].fillna(mode_value, inplace=True)  # Replace NaNs with the mode value\n",
    "\n",
    "df_data_v4_1_1[\"Color of sensor\"] = df_data_v4_1_1[\"Color of sensor\"].str.lower()"
   ]
  },
  {
   "cell_type": "code",
   "execution_count": 15,
   "metadata": {},
   "outputs": [],
   "source": [
    "values_to_keep = [16800,10000,8000,6000,3000]\n",
    "df_data_v4_1_1 = df_data_v4_1_1[df_data_v4_1_1[\"Delay (us)\"].isin(values_to_keep)]"
   ]
  },
  {
   "cell_type": "markdown",
   "metadata": {},
   "source": [
    "# Add IQR Range_delay (Feature Engineering)"
   ]
  },
  {
   "cell_type": "markdown",
   "metadata": {},
   "source": [
    "Helper codes"
   ]
  },
  {
   "cell_type": "code",
   "execution_count": 16,
   "metadata": {},
   "outputs": [],
   "source": [
    "def identify_and_remove_outliers(df, column):\n",
    "    Q1 = df[column].quantile(0.25)\n",
    "    Q3 = df[column].quantile(0.75)\n",
    "    IQR = Q3 - Q1\n",
    "    lower_bound = Q1 - 1.5 * IQR\n",
    "    upper_bound = Q3 + 1.5 * IQR\n",
    "    df_no_outliers = df[(df[column] >= lower_bound) & (df[column] <= upper_bound)]\n",
    "    df_outliers_lower = df[(df[column] <= lower_bound)]\n",
    "    df_outliers_upper = df[(df[column] >= upper_bound)]\n",
    "    return df_no_outliers,df_outliers_lower,df_outliers_upper\n",
    "\n",
    "def split_quartiles(df):\n",
    "    # Group the data by 'Sensor ID', 'Delay (us)', and 'Range (cm)'\n",
    "    df_copy = df.copy()\n",
    "    grouped = df_copy.groupby(['Sensor ID', 'Delay (us)', 'Range (cm)'])\n",
    "\n",
    "    # Identify and remove outliers for each group\n",
    "    middle_quartile = []\n",
    "    lower_quartile = []\n",
    "    upper_quartile = []\n",
    "\n",
    "    for name, group in grouped:\n",
    "        cleaned_group = group.copy()\n",
    "        for column in ['Ping Time (us)']:\n",
    "            middle_quartile_group,lower_quartile_group,upper_quartile_group = identify_and_remove_outliers(cleaned_group, column)\n",
    "        middle_quartile.append(middle_quartile_group)\n",
    "        lower_quartile.append(lower_quartile_group)\n",
    "        upper_quartile.append(upper_quartile_group)\n",
    "    # Combine the cleaned groups into a single DataFrame\n",
    "    df_middle_quartile= pd.concat(middle_quartile)\n",
    "    df_lower_quartile = pd.concat(lower_quartile)\n",
    "    df_upper_quartile = pd.concat(upper_quartile)\n",
    "    \n",
    "    return df_middle_quartile, df_lower_quartile, df_upper_quartile\n",
    "\n",
    "\n",
    "def create_range_delay_feature(df_quartile,bound):\n",
    "    # Step 1: Group and calculate mean\n",
    "    df_grouped = df_quartile.groupby(['Sensor ID', 'Range (cm)', 'Delay (us)'])['Ping Time (us)'].mean().reset_index()\n",
    "\n",
    "    # Step 2: Create `range_delay` column\n",
    "    df_grouped['range_delay'] = df_grouped['Range (cm)'].astype(str) + '_' + df_grouped['Delay (us)'].astype(str)+'_'+'mean'+'_'+bound\n",
    "\n",
    "    # Step 3: Pivot the table\n",
    "    df_pivot = df_grouped.pivot(index='Sensor ID', columns='range_delay', values='Ping Time (us)').reset_index()\n",
    "    \n",
    "    return df_pivot"
   ]
  },
  {
   "cell_type": "code",
   "execution_count": 17,
   "metadata": {},
   "outputs": [],
   "source": [
    "df_middle_quartile, df_lower_quartile, df_upper_quartile = split_quartiles(df_data_v4_1_1)"
   ]
  },
  {
   "cell_type": "code",
   "execution_count": 18,
   "metadata": {},
   "outputs": [
    {
     "data": {
      "text/html": [
       "<div>\n",
       "<style scoped>\n",
       "    .dataframe tbody tr th:only-of-type {\n",
       "        vertical-align: middle;\n",
       "    }\n",
       "\n",
       "    .dataframe tbody tr th {\n",
       "        vertical-align: top;\n",
       "    }\n",
       "\n",
       "    .dataframe thead th {\n",
       "        text-align: right;\n",
       "    }\n",
       "</style>\n",
       "<table border=\"1\" class=\"dataframe\">\n",
       "  <thead>\n",
       "    <tr style=\"text-align: right;\">\n",
       "      <th></th>\n",
       "      <th>Range (cm)</th>\n",
       "      <th>Delay (us)</th>\n",
       "      <th>Ping Time (us)</th>\n",
       "    </tr>\n",
       "    <tr>\n",
       "      <th>Sensor ID</th>\n",
       "      <th></th>\n",
       "      <th></th>\n",
       "      <th></th>\n",
       "    </tr>\n",
       "  </thead>\n",
       "  <tbody>\n",
       "    <tr>\n",
       "      <th>1</th>\n",
       "      <td>13</td>\n",
       "      <td>3000</td>\n",
       "      <td>827.000000</td>\n",
       "    </tr>\n",
       "    <tr>\n",
       "      <th>1</th>\n",
       "      <td>13</td>\n",
       "      <td>6000</td>\n",
       "      <td>827.000000</td>\n",
       "    </tr>\n",
       "    <tr>\n",
       "      <th>1</th>\n",
       "      <td>13</td>\n",
       "      <td>8000</td>\n",
       "      <td>827.000000</td>\n",
       "    </tr>\n",
       "    <tr>\n",
       "      <th>1</th>\n",
       "      <td>13</td>\n",
       "      <td>10000</td>\n",
       "      <td>827.000000</td>\n",
       "    </tr>\n",
       "    <tr>\n",
       "      <th>1</th>\n",
       "      <td>13</td>\n",
       "      <td>16800</td>\n",
       "      <td>827.000000</td>\n",
       "    </tr>\n",
       "    <tr>\n",
       "      <th>...</th>\n",
       "      <td>...</td>\n",
       "      <td>...</td>\n",
       "      <td>...</td>\n",
       "    </tr>\n",
       "    <tr>\n",
       "      <th>211</th>\n",
       "      <td>53</td>\n",
       "      <td>3000</td>\n",
       "      <td>2981.095238</td>\n",
       "    </tr>\n",
       "    <tr>\n",
       "      <th>211</th>\n",
       "      <td>53</td>\n",
       "      <td>6000</td>\n",
       "      <td>2990.040000</td>\n",
       "    </tr>\n",
       "    <tr>\n",
       "      <th>211</th>\n",
       "      <td>53</td>\n",
       "      <td>8000</td>\n",
       "      <td>3003.102564</td>\n",
       "    </tr>\n",
       "    <tr>\n",
       "      <th>211</th>\n",
       "      <td>53</td>\n",
       "      <td>10000</td>\n",
       "      <td>2993.560000</td>\n",
       "    </tr>\n",
       "    <tr>\n",
       "      <th>211</th>\n",
       "      <td>53</td>\n",
       "      <td>16800</td>\n",
       "      <td>2815.400000</td>\n",
       "    </tr>\n",
       "  </tbody>\n",
       "</table>\n",
       "<p>9450 rows × 3 columns</p>\n",
       "</div>"
      ],
      "text/plain": [
       "           Range (cm)  Delay (us)  Ping Time (us)\n",
       "Sensor ID                                        \n",
       "1                  13        3000      827.000000\n",
       "1                  13        6000      827.000000\n",
       "1                  13        8000      827.000000\n",
       "1                  13       10000      827.000000\n",
       "1                  13       16800      827.000000\n",
       "...               ...         ...             ...\n",
       "211                53        3000     2981.095238\n",
       "211                53        6000     2990.040000\n",
       "211                53        8000     3003.102564\n",
       "211                53       10000     2993.560000\n",
       "211                53       16800     2815.400000\n",
       "\n",
       "[9450 rows x 3 columns]"
      ]
     },
     "execution_count": 18,
     "metadata": {},
     "output_type": "execute_result"
    }
   ],
   "source": [
    "df_middle_quartile.groupby(['Sensor ID','Range (cm)', 'Delay (us)'])['Ping Time (us)'].mean().reset_index([\"Delay (us)\",\"Range (cm)\"])"
   ]
  },
  {
   "cell_type": "code",
   "execution_count": 19,
   "metadata": {},
   "outputs": [
    {
     "data": {
      "text/html": [
       "<div>\n",
       "<style scoped>\n",
       "    .dataframe tbody tr th:only-of-type {\n",
       "        vertical-align: middle;\n",
       "    }\n",
       "\n",
       "    .dataframe tbody tr th {\n",
       "        vertical-align: top;\n",
       "    }\n",
       "\n",
       "    .dataframe thead th {\n",
       "        text-align: right;\n",
       "    }\n",
       "</style>\n",
       "<table border=\"1\" class=\"dataframe\">\n",
       "  <thead>\n",
       "    <tr style=\"text-align: right;\">\n",
       "      <th>range_delay</th>\n",
       "      <th>Sensor ID</th>\n",
       "      <th>13_10000_mean_middle</th>\n",
       "      <th>13_16800_mean_middle</th>\n",
       "      <th>13_3000_mean_middle</th>\n",
       "      <th>13_6000_mean_middle</th>\n",
       "      <th>13_8000_mean_middle</th>\n",
       "      <th>18_10000_mean_middle</th>\n",
       "      <th>18_16800_mean_middle</th>\n",
       "      <th>18_3000_mean_middle</th>\n",
       "      <th>18_6000_mean_middle</th>\n",
       "      <th>...</th>\n",
       "      <th>48_10000_mean_middle</th>\n",
       "      <th>48_16800_mean_middle</th>\n",
       "      <th>48_3000_mean_middle</th>\n",
       "      <th>48_6000_mean_middle</th>\n",
       "      <th>48_8000_mean_middle</th>\n",
       "      <th>53_10000_mean_middle</th>\n",
       "      <th>53_16800_mean_middle</th>\n",
       "      <th>53_3000_mean_middle</th>\n",
       "      <th>53_6000_mean_middle</th>\n",
       "      <th>53_8000_mean_middle</th>\n",
       "    </tr>\n",
       "  </thead>\n",
       "  <tbody>\n",
       "    <tr>\n",
       "      <th>0</th>\n",
       "      <td>1</td>\n",
       "      <td>827.000000</td>\n",
       "      <td>827.000000</td>\n",
       "      <td>827.000000</td>\n",
       "      <td>827.000000</td>\n",
       "      <td>827.00</td>\n",
       "      <td>1071.000000</td>\n",
       "      <td>1069.285714</td>\n",
       "      <td>1069.240000</td>\n",
       "      <td>1069.400000</td>\n",
       "      <td>...</td>\n",
       "      <td>2736.333333</td>\n",
       "      <td>2737.000000</td>\n",
       "      <td>2736.909091</td>\n",
       "      <td>2737.083333</td>\n",
       "      <td>2737.382979</td>\n",
       "      <td>2995.000000</td>\n",
       "      <td>3006.500000</td>\n",
       "      <td>2995.000000</td>\n",
       "      <td>2995.205128</td>\n",
       "      <td>2995.000000</td>\n",
       "    </tr>\n",
       "    <tr>\n",
       "      <th>1</th>\n",
       "      <td>2</td>\n",
       "      <td>679.640000</td>\n",
       "      <td>679.000000</td>\n",
       "      <td>679.000000</td>\n",
       "      <td>679.000000</td>\n",
       "      <td>679.00</td>\n",
       "      <td>943.000000</td>\n",
       "      <td>954.200000</td>\n",
       "      <td>967.260870</td>\n",
       "      <td>954.520000</td>\n",
       "      <td>...</td>\n",
       "      <td>2667.000000</td>\n",
       "      <td>2679.320000</td>\n",
       "      <td>2674.520000</td>\n",
       "      <td>2674.520000</td>\n",
       "      <td>2667.000000</td>\n",
       "      <td>2972.360000</td>\n",
       "      <td>1855.878049</td>\n",
       "      <td>2945.800000</td>\n",
       "      <td>2951.000000</td>\n",
       "      <td>1891.240000</td>\n",
       "    </tr>\n",
       "    <tr>\n",
       "      <th>2</th>\n",
       "      <td>3</td>\n",
       "      <td>717.880000</td>\n",
       "      <td>717.727273</td>\n",
       "      <td>718.040000</td>\n",
       "      <td>717.240000</td>\n",
       "      <td>718.04</td>\n",
       "      <td>1029.933333</td>\n",
       "      <td>1020.920000</td>\n",
       "      <td>1007.000000</td>\n",
       "      <td>1005.960000</td>\n",
       "      <td>...</td>\n",
       "      <td>2709.560000</td>\n",
       "      <td>2721.480000</td>\n",
       "      <td>2717.200000</td>\n",
       "      <td>2717.900000</td>\n",
       "      <td>2716.714286</td>\n",
       "      <td>2996.120000</td>\n",
       "      <td>2992.840000</td>\n",
       "      <td>2995.400000</td>\n",
       "      <td>3000.440000</td>\n",
       "      <td>2997.320000</td>\n",
       "    </tr>\n",
       "    <tr>\n",
       "      <th>3</th>\n",
       "      <td>4</td>\n",
       "      <td>737.080000</td>\n",
       "      <td>736.840000</td>\n",
       "      <td>737.160000</td>\n",
       "      <td>736.920000</td>\n",
       "      <td>736.68</td>\n",
       "      <td>1030.351351</td>\n",
       "      <td>1031.000000</td>\n",
       "      <td>1028.840000</td>\n",
       "      <td>1087.000000</td>\n",
       "      <td>...</td>\n",
       "      <td>2754.040000</td>\n",
       "      <td>2753.800000</td>\n",
       "      <td>2754.120000</td>\n",
       "      <td>2755.000000</td>\n",
       "      <td>2754.200000</td>\n",
       "      <td>2999.000000</td>\n",
       "      <td>2999.608696</td>\n",
       "      <td>2999.000000</td>\n",
       "      <td>2999.000000</td>\n",
       "      <td>2999.000000</td>\n",
       "    </tr>\n",
       "    <tr>\n",
       "      <th>4</th>\n",
       "      <td>5</td>\n",
       "      <td>743.000000</td>\n",
       "      <td>742.894737</td>\n",
       "      <td>741.880000</td>\n",
       "      <td>743.000000</td>\n",
       "      <td>743.00</td>\n",
       "      <td>1046.102041</td>\n",
       "      <td>1045.697674</td>\n",
       "      <td>1047.244898</td>\n",
       "      <td>1046.288889</td>\n",
       "      <td>...</td>\n",
       "      <td>2732.520000</td>\n",
       "      <td>2732.181818</td>\n",
       "      <td>2732.600000</td>\n",
       "      <td>2732.520000</td>\n",
       "      <td>2732.600000</td>\n",
       "      <td>3073.612245</td>\n",
       "      <td>3058.440000</td>\n",
       "      <td>3045.468085</td>\n",
       "      <td>3034.760000</td>\n",
       "      <td>2110.760000</td>\n",
       "    </tr>\n",
       "    <tr>\n",
       "      <th>...</th>\n",
       "      <td>...</td>\n",
       "      <td>...</td>\n",
       "      <td>...</td>\n",
       "      <td>...</td>\n",
       "      <td>...</td>\n",
       "      <td>...</td>\n",
       "      <td>...</td>\n",
       "      <td>...</td>\n",
       "      <td>...</td>\n",
       "      <td>...</td>\n",
       "      <td>...</td>\n",
       "      <td>...</td>\n",
       "      <td>...</td>\n",
       "      <td>...</td>\n",
       "      <td>...</td>\n",
       "      <td>...</td>\n",
       "      <td>...</td>\n",
       "      <td>...</td>\n",
       "      <td>...</td>\n",
       "      <td>...</td>\n",
       "      <td>...</td>\n",
       "    </tr>\n",
       "    <tr>\n",
       "      <th>205</th>\n",
       "      <td>207</td>\n",
       "      <td>709.560000</td>\n",
       "      <td>723.080000</td>\n",
       "      <td>709.122449</td>\n",
       "      <td>709.480000</td>\n",
       "      <td>709.48</td>\n",
       "      <td>1033.400000</td>\n",
       "      <td>1026.760000</td>\n",
       "      <td>1025.960000</td>\n",
       "      <td>1033.000000</td>\n",
       "      <td>...</td>\n",
       "      <td>2732.200000</td>\n",
       "      <td>2733.640000</td>\n",
       "      <td>2729.080000</td>\n",
       "      <td>2730.680000</td>\n",
       "      <td>2736.520000</td>\n",
       "      <td>3025.160000</td>\n",
       "      <td>3018.840000</td>\n",
       "      <td>3025.800000</td>\n",
       "      <td>3027.160000</td>\n",
       "      <td>3028.760000</td>\n",
       "    </tr>\n",
       "    <tr>\n",
       "      <th>206</th>\n",
       "      <td>208</td>\n",
       "      <td>719.897959</td>\n",
       "      <td>720.120000</td>\n",
       "      <td>720.120000</td>\n",
       "      <td>720.520000</td>\n",
       "      <td>719.00</td>\n",
       "      <td>1009.880000</td>\n",
       "      <td>1009.883721</td>\n",
       "      <td>1009.720000</td>\n",
       "      <td>1009.800000</td>\n",
       "      <td>...</td>\n",
       "      <td>2714.181818</td>\n",
       "      <td>2722.918367</td>\n",
       "      <td>2713.971429</td>\n",
       "      <td>2720.920000</td>\n",
       "      <td>2722.680000</td>\n",
       "      <td>3002.040000</td>\n",
       "      <td>3007.320000</td>\n",
       "      <td>3002.280000</td>\n",
       "      <td>2998.760000</td>\n",
       "      <td>2995.720000</td>\n",
       "    </tr>\n",
       "    <tr>\n",
       "      <th>207</th>\n",
       "      <td>209</td>\n",
       "      <td>759.000000</td>\n",
       "      <td>748.551020</td>\n",
       "      <td>759.000000</td>\n",
       "      <td>759.408163</td>\n",
       "      <td>759.88</td>\n",
       "      <td>1070.040000</td>\n",
       "      <td>1053.875000</td>\n",
       "      <td>1064.440000</td>\n",
       "      <td>1069.400000</td>\n",
       "      <td>...</td>\n",
       "      <td>2763.800000</td>\n",
       "      <td>2755.592593</td>\n",
       "      <td>2754.459459</td>\n",
       "      <td>2754.707317</td>\n",
       "      <td>2765.400000</td>\n",
       "      <td>3038.680000</td>\n",
       "      <td>3057.800000</td>\n",
       "      <td>3043.080000</td>\n",
       "      <td>3046.120000</td>\n",
       "      <td>3042.920000</td>\n",
       "    </tr>\n",
       "    <tr>\n",
       "      <th>208</th>\n",
       "      <td>210</td>\n",
       "      <td>722.200000</td>\n",
       "      <td>732.360000</td>\n",
       "      <td>723.000000</td>\n",
       "      <td>723.000000</td>\n",
       "      <td>722.60</td>\n",
       "      <td>1019.000000</td>\n",
       "      <td>1018.744681</td>\n",
       "      <td>1018.520000</td>\n",
       "      <td>1018.744681</td>\n",
       "      <td>...</td>\n",
       "      <td>2703.960000</td>\n",
       "      <td>2711.800000</td>\n",
       "      <td>2720.767442</td>\n",
       "      <td>2713.400000</td>\n",
       "      <td>2709.240000</td>\n",
       "      <td>3001.320000</td>\n",
       "      <td>3014.000000</td>\n",
       "      <td>3015.000000</td>\n",
       "      <td>3003.480000</td>\n",
       "      <td>3014.263158</td>\n",
       "    </tr>\n",
       "    <tr>\n",
       "      <th>209</th>\n",
       "      <td>211</td>\n",
       "      <td>715.000000</td>\n",
       "      <td>307.512821</td>\n",
       "      <td>714.583333</td>\n",
       "      <td>715.000000</td>\n",
       "      <td>715.00</td>\n",
       "      <td>1027.897959</td>\n",
       "      <td>1008.920000</td>\n",
       "      <td>1028.043478</td>\n",
       "      <td>1027.320000</td>\n",
       "      <td>...</td>\n",
       "      <td>2696.040000</td>\n",
       "      <td>2663.653061</td>\n",
       "      <td>2690.920000</td>\n",
       "      <td>2688.680000</td>\n",
       "      <td>2697.480000</td>\n",
       "      <td>2993.560000</td>\n",
       "      <td>2815.400000</td>\n",
       "      <td>2981.095238</td>\n",
       "      <td>2990.040000</td>\n",
       "      <td>3003.102564</td>\n",
       "    </tr>\n",
       "  </tbody>\n",
       "</table>\n",
       "<p>210 rows × 46 columns</p>\n",
       "</div>"
      ],
      "text/plain": [
       "range_delay  Sensor ID  13_10000_mean_middle  13_16800_mean_middle  \\\n",
       "0                    1            827.000000            827.000000   \n",
       "1                    2            679.640000            679.000000   \n",
       "2                    3            717.880000            717.727273   \n",
       "3                    4            737.080000            736.840000   \n",
       "4                    5            743.000000            742.894737   \n",
       "..                 ...                   ...                   ...   \n",
       "205                207            709.560000            723.080000   \n",
       "206                208            719.897959            720.120000   \n",
       "207                209            759.000000            748.551020   \n",
       "208                210            722.200000            732.360000   \n",
       "209                211            715.000000            307.512821   \n",
       "\n",
       "range_delay  13_3000_mean_middle  13_6000_mean_middle  13_8000_mean_middle  \\\n",
       "0                     827.000000           827.000000               827.00   \n",
       "1                     679.000000           679.000000               679.00   \n",
       "2                     718.040000           717.240000               718.04   \n",
       "3                     737.160000           736.920000               736.68   \n",
       "4                     741.880000           743.000000               743.00   \n",
       "..                           ...                  ...                  ...   \n",
       "205                   709.122449           709.480000               709.48   \n",
       "206                   720.120000           720.520000               719.00   \n",
       "207                   759.000000           759.408163               759.88   \n",
       "208                   723.000000           723.000000               722.60   \n",
       "209                   714.583333           715.000000               715.00   \n",
       "\n",
       "range_delay  18_10000_mean_middle  18_16800_mean_middle  18_3000_mean_middle  \\\n",
       "0                     1071.000000           1069.285714          1069.240000   \n",
       "1                      943.000000            954.200000           967.260870   \n",
       "2                     1029.933333           1020.920000          1007.000000   \n",
       "3                     1030.351351           1031.000000          1028.840000   \n",
       "4                     1046.102041           1045.697674          1047.244898   \n",
       "..                            ...                   ...                  ...   \n",
       "205                   1033.400000           1026.760000          1025.960000   \n",
       "206                   1009.880000           1009.883721          1009.720000   \n",
       "207                   1070.040000           1053.875000          1064.440000   \n",
       "208                   1019.000000           1018.744681          1018.520000   \n",
       "209                   1027.897959           1008.920000          1028.043478   \n",
       "\n",
       "range_delay  18_6000_mean_middle  ...  48_10000_mean_middle  \\\n",
       "0                    1069.400000  ...           2736.333333   \n",
       "1                     954.520000  ...           2667.000000   \n",
       "2                    1005.960000  ...           2709.560000   \n",
       "3                    1087.000000  ...           2754.040000   \n",
       "4                    1046.288889  ...           2732.520000   \n",
       "..                           ...  ...                   ...   \n",
       "205                  1033.000000  ...           2732.200000   \n",
       "206                  1009.800000  ...           2714.181818   \n",
       "207                  1069.400000  ...           2763.800000   \n",
       "208                  1018.744681  ...           2703.960000   \n",
       "209                  1027.320000  ...           2696.040000   \n",
       "\n",
       "range_delay  48_16800_mean_middle  48_3000_mean_middle  48_6000_mean_middle  \\\n",
       "0                     2737.000000          2736.909091          2737.083333   \n",
       "1                     2679.320000          2674.520000          2674.520000   \n",
       "2                     2721.480000          2717.200000          2717.900000   \n",
       "3                     2753.800000          2754.120000          2755.000000   \n",
       "4                     2732.181818          2732.600000          2732.520000   \n",
       "..                            ...                  ...                  ...   \n",
       "205                   2733.640000          2729.080000          2730.680000   \n",
       "206                   2722.918367          2713.971429          2720.920000   \n",
       "207                   2755.592593          2754.459459          2754.707317   \n",
       "208                   2711.800000          2720.767442          2713.400000   \n",
       "209                   2663.653061          2690.920000          2688.680000   \n",
       "\n",
       "range_delay  48_8000_mean_middle  53_10000_mean_middle  53_16800_mean_middle  \\\n",
       "0                    2737.382979           2995.000000           3006.500000   \n",
       "1                    2667.000000           2972.360000           1855.878049   \n",
       "2                    2716.714286           2996.120000           2992.840000   \n",
       "3                    2754.200000           2999.000000           2999.608696   \n",
       "4                    2732.600000           3073.612245           3058.440000   \n",
       "..                           ...                   ...                   ...   \n",
       "205                  2736.520000           3025.160000           3018.840000   \n",
       "206                  2722.680000           3002.040000           3007.320000   \n",
       "207                  2765.400000           3038.680000           3057.800000   \n",
       "208                  2709.240000           3001.320000           3014.000000   \n",
       "209                  2697.480000           2993.560000           2815.400000   \n",
       "\n",
       "range_delay  53_3000_mean_middle  53_6000_mean_middle  53_8000_mean_middle  \n",
       "0                    2995.000000          2995.205128          2995.000000  \n",
       "1                    2945.800000          2951.000000          1891.240000  \n",
       "2                    2995.400000          3000.440000          2997.320000  \n",
       "3                    2999.000000          2999.000000          2999.000000  \n",
       "4                    3045.468085          3034.760000          2110.760000  \n",
       "..                           ...                  ...                  ...  \n",
       "205                  3025.800000          3027.160000          3028.760000  \n",
       "206                  3002.280000          2998.760000          2995.720000  \n",
       "207                  3043.080000          3046.120000          3042.920000  \n",
       "208                  3015.000000          3003.480000          3014.263158  \n",
       "209                  2981.095238          2990.040000          3003.102564  \n",
       "\n",
       "[210 rows x 46 columns]"
      ]
     },
     "execution_count": 19,
     "metadata": {},
     "output_type": "execute_result"
    }
   ],
   "source": [
    "create_range_delay_feature(df_middle_quartile,\"middle\")"
   ]
  },
  {
   "cell_type": "code",
   "execution_count": 20,
   "metadata": {},
   "outputs": [],
   "source": [
    "def feature_engineering_quartile_means(df):\n",
    "    df_middle_quartile, df_lower_quartile, df_upper_quartile = split_quartiles(df)\n",
    "    df_range_delay_middle = create_range_delay_feature(df_middle_quartile,\"middle\")\n",
    "    df_range_delay_lower = create_range_delay_feature(df_lower_quartile,\"lower\")\n",
    "    df_range_delay_upper = create_range_delay_feature(df_upper_quartile,\"upper\")\n",
    "\n",
    "    # List of DataFrames\n",
    "    df_pivots = [df_range_delay_middle, df_range_delay_lower, df_range_delay_upper]\n",
    "\n",
    "    # Initialize the merged DataFrame with the first DataFrame in the list\n",
    "    df_range_delay_all = df_pivots[0]\n",
    "\n",
    "    # Iteratively merge each DataFrame in the list\n",
    "    for df in df_pivots[1:]:\n",
    "        df_range_delay_all = df_range_delay_all.merge(df, on='Sensor ID')\n",
    "        \n",
    "    # Replace all NaN values with 0 in the merged DataFrame\n",
    "    df_range_delay_all.fillna(0, inplace=True)\n",
    "\n",
    "    return df_range_delay_all, df_range_delay_middle, df_range_delay_lower,df_range_delay_upper\n",
    "    \n",
    "\n",
    "df_range_delay_all,df_range_delay_middle, df_range_delay_lower,df_range_delay_upper = feature_engineering_quartile_means(df_data_v4_1_1)\n"
   ]
  },
  {
   "cell_type": "markdown",
   "metadata": {},
   "source": [
    "The product is following now we will be conducting PCA method to reduce dimensionality"
   ]
  },
  {
   "cell_type": "code",
   "execution_count": 21,
   "metadata": {},
   "outputs": [
    {
     "data": {
      "text/html": [
       "<div>\n",
       "<style scoped>\n",
       "    .dataframe tbody tr th:only-of-type {\n",
       "        vertical-align: middle;\n",
       "    }\n",
       "\n",
       "    .dataframe tbody tr th {\n",
       "        vertical-align: top;\n",
       "    }\n",
       "\n",
       "    .dataframe thead th {\n",
       "        text-align: right;\n",
       "    }\n",
       "</style>\n",
       "<table border=\"1\" class=\"dataframe\">\n",
       "  <thead>\n",
       "    <tr style=\"text-align: right;\">\n",
       "      <th>range_delay</th>\n",
       "      <th>Sensor ID</th>\n",
       "      <th>13_10000_mean_middle</th>\n",
       "      <th>13_16800_mean_middle</th>\n",
       "      <th>13_3000_mean_middle</th>\n",
       "      <th>13_6000_mean_middle</th>\n",
       "      <th>13_8000_mean_middle</th>\n",
       "      <th>18_10000_mean_middle</th>\n",
       "      <th>18_16800_mean_middle</th>\n",
       "      <th>18_3000_mean_middle</th>\n",
       "      <th>18_6000_mean_middle</th>\n",
       "      <th>...</th>\n",
       "      <th>48_10000_mean_upper</th>\n",
       "      <th>48_16800_mean_upper</th>\n",
       "      <th>48_3000_mean_upper</th>\n",
       "      <th>48_6000_mean_upper</th>\n",
       "      <th>48_8000_mean_upper</th>\n",
       "      <th>53_10000_mean_upper</th>\n",
       "      <th>53_16800_mean_upper</th>\n",
       "      <th>53_3000_mean_upper</th>\n",
       "      <th>53_6000_mean_upper</th>\n",
       "      <th>53_8000_mean_upper</th>\n",
       "    </tr>\n",
       "  </thead>\n",
       "  <tbody>\n",
       "    <tr>\n",
       "      <th>0</th>\n",
       "      <td>1</td>\n",
       "      <td>827.000000</td>\n",
       "      <td>827.000000</td>\n",
       "      <td>827.000000</td>\n",
       "      <td>827.000000</td>\n",
       "      <td>827.00</td>\n",
       "      <td>1071.000000</td>\n",
       "      <td>1069.285714</td>\n",
       "      <td>1069.240000</td>\n",
       "      <td>1069.400000</td>\n",
       "      <td>...</td>\n",
       "      <td>2795.000000</td>\n",
       "      <td>0.0</td>\n",
       "      <td>2809.400000</td>\n",
       "      <td>2803.000000</td>\n",
       "      <td>2800.333333</td>\n",
       "      <td>2995.545455</td>\n",
       "      <td>0.000000</td>\n",
       "      <td>2995.444444</td>\n",
       "      <td>3039.727273</td>\n",
       "      <td>3004.043478</td>\n",
       "    </tr>\n",
       "    <tr>\n",
       "      <th>1</th>\n",
       "      <td>2</td>\n",
       "      <td>679.640000</td>\n",
       "      <td>679.000000</td>\n",
       "      <td>679.000000</td>\n",
       "      <td>679.000000</td>\n",
       "      <td>679.00</td>\n",
       "      <td>943.000000</td>\n",
       "      <td>954.200000</td>\n",
       "      <td>967.260870</td>\n",
       "      <td>954.520000</td>\n",
       "      <td>...</td>\n",
       "      <td>2669.521739</td>\n",
       "      <td>0.0</td>\n",
       "      <td>0.000000</td>\n",
       "      <td>0.000000</td>\n",
       "      <td>2691.000000</td>\n",
       "      <td>0.000000</td>\n",
       "      <td>2371.000000</td>\n",
       "      <td>0.000000</td>\n",
       "      <td>2951.744186</td>\n",
       "      <td>0.000000</td>\n",
       "    </tr>\n",
       "    <tr>\n",
       "      <th>2</th>\n",
       "      <td>3</td>\n",
       "      <td>717.880000</td>\n",
       "      <td>717.727273</td>\n",
       "      <td>718.040000</td>\n",
       "      <td>717.240000</td>\n",
       "      <td>718.04</td>\n",
       "      <td>1029.933333</td>\n",
       "      <td>1020.920000</td>\n",
       "      <td>1007.000000</td>\n",
       "      <td>1005.960000</td>\n",
       "      <td>...</td>\n",
       "      <td>0.000000</td>\n",
       "      <td>0.0</td>\n",
       "      <td>2743.000000</td>\n",
       "      <td>2727.000000</td>\n",
       "      <td>0.000000</td>\n",
       "      <td>0.000000</td>\n",
       "      <td>0.000000</td>\n",
       "      <td>0.000000</td>\n",
       "      <td>0.000000</td>\n",
       "      <td>0.000000</td>\n",
       "    </tr>\n",
       "    <tr>\n",
       "      <th>3</th>\n",
       "      <td>4</td>\n",
       "      <td>737.080000</td>\n",
       "      <td>736.840000</td>\n",
       "      <td>737.160000</td>\n",
       "      <td>736.920000</td>\n",
       "      <td>736.68</td>\n",
       "      <td>1030.351351</td>\n",
       "      <td>1031.000000</td>\n",
       "      <td>1028.840000</td>\n",
       "      <td>1087.000000</td>\n",
       "      <td>...</td>\n",
       "      <td>0.000000</td>\n",
       "      <td>0.0</td>\n",
       "      <td>0.000000</td>\n",
       "      <td>2755.195122</td>\n",
       "      <td>0.000000</td>\n",
       "      <td>3000.000000</td>\n",
       "      <td>3019.000000</td>\n",
       "      <td>3000.116279</td>\n",
       "      <td>2999.930233</td>\n",
       "      <td>3000.116279</td>\n",
       "    </tr>\n",
       "    <tr>\n",
       "      <th>4</th>\n",
       "      <td>5</td>\n",
       "      <td>743.000000</td>\n",
       "      <td>742.894737</td>\n",
       "      <td>741.880000</td>\n",
       "      <td>743.000000</td>\n",
       "      <td>743.00</td>\n",
       "      <td>1046.102041</td>\n",
       "      <td>1045.697674</td>\n",
       "      <td>1047.244898</td>\n",
       "      <td>1046.288889</td>\n",
       "      <td>...</td>\n",
       "      <td>0.000000</td>\n",
       "      <td>2755.0</td>\n",
       "      <td>0.000000</td>\n",
       "      <td>0.000000</td>\n",
       "      <td>0.000000</td>\n",
       "      <td>0.000000</td>\n",
       "      <td>0.000000</td>\n",
       "      <td>0.000000</td>\n",
       "      <td>0.000000</td>\n",
       "      <td>0.000000</td>\n",
       "    </tr>\n",
       "    <tr>\n",
       "      <th>...</th>\n",
       "      <td>...</td>\n",
       "      <td>...</td>\n",
       "      <td>...</td>\n",
       "      <td>...</td>\n",
       "      <td>...</td>\n",
       "      <td>...</td>\n",
       "      <td>...</td>\n",
       "      <td>...</td>\n",
       "      <td>...</td>\n",
       "      <td>...</td>\n",
       "      <td>...</td>\n",
       "      <td>...</td>\n",
       "      <td>...</td>\n",
       "      <td>...</td>\n",
       "      <td>...</td>\n",
       "      <td>...</td>\n",
       "      <td>...</td>\n",
       "      <td>...</td>\n",
       "      <td>...</td>\n",
       "      <td>...</td>\n",
       "      <td>...</td>\n",
       "    </tr>\n",
       "    <tr>\n",
       "      <th>205</th>\n",
       "      <td>207</td>\n",
       "      <td>709.560000</td>\n",
       "      <td>723.080000</td>\n",
       "      <td>709.122449</td>\n",
       "      <td>709.480000</td>\n",
       "      <td>709.48</td>\n",
       "      <td>1033.400000</td>\n",
       "      <td>1026.760000</td>\n",
       "      <td>1025.960000</td>\n",
       "      <td>1033.000000</td>\n",
       "      <td>...</td>\n",
       "      <td>0.000000</td>\n",
       "      <td>0.0</td>\n",
       "      <td>0.000000</td>\n",
       "      <td>0.000000</td>\n",
       "      <td>0.000000</td>\n",
       "      <td>0.000000</td>\n",
       "      <td>0.000000</td>\n",
       "      <td>0.000000</td>\n",
       "      <td>0.000000</td>\n",
       "      <td>0.000000</td>\n",
       "    </tr>\n",
       "    <tr>\n",
       "      <th>206</th>\n",
       "      <td>208</td>\n",
       "      <td>719.897959</td>\n",
       "      <td>720.120000</td>\n",
       "      <td>720.120000</td>\n",
       "      <td>720.520000</td>\n",
       "      <td>719.00</td>\n",
       "      <td>1009.880000</td>\n",
       "      <td>1009.883721</td>\n",
       "      <td>1009.720000</td>\n",
       "      <td>1009.800000</td>\n",
       "      <td>...</td>\n",
       "      <td>2738.333333</td>\n",
       "      <td>0.0</td>\n",
       "      <td>2739.333333</td>\n",
       "      <td>0.000000</td>\n",
       "      <td>0.000000</td>\n",
       "      <td>0.000000</td>\n",
       "      <td>0.000000</td>\n",
       "      <td>0.000000</td>\n",
       "      <td>0.000000</td>\n",
       "      <td>0.000000</td>\n",
       "    </tr>\n",
       "    <tr>\n",
       "      <th>207</th>\n",
       "      <td>209</td>\n",
       "      <td>759.000000</td>\n",
       "      <td>748.551020</td>\n",
       "      <td>759.000000</td>\n",
       "      <td>759.408163</td>\n",
       "      <td>759.88</td>\n",
       "      <td>1070.040000</td>\n",
       "      <td>1053.875000</td>\n",
       "      <td>1064.440000</td>\n",
       "      <td>1069.400000</td>\n",
       "      <td>...</td>\n",
       "      <td>0.000000</td>\n",
       "      <td>2782.0</td>\n",
       "      <td>2779.000000</td>\n",
       "      <td>2778.111111</td>\n",
       "      <td>0.000000</td>\n",
       "      <td>0.000000</td>\n",
       "      <td>0.000000</td>\n",
       "      <td>0.000000</td>\n",
       "      <td>0.000000</td>\n",
       "      <td>0.000000</td>\n",
       "    </tr>\n",
       "    <tr>\n",
       "      <th>208</th>\n",
       "      <td>210</td>\n",
       "      <td>722.200000</td>\n",
       "      <td>732.360000</td>\n",
       "      <td>723.000000</td>\n",
       "      <td>723.000000</td>\n",
       "      <td>722.60</td>\n",
       "      <td>1019.000000</td>\n",
       "      <td>1018.744681</td>\n",
       "      <td>1018.520000</td>\n",
       "      <td>1018.744681</td>\n",
       "      <td>...</td>\n",
       "      <td>0.000000</td>\n",
       "      <td>0.0</td>\n",
       "      <td>2743.000000</td>\n",
       "      <td>0.000000</td>\n",
       "      <td>0.000000</td>\n",
       "      <td>0.000000</td>\n",
       "      <td>3037.666667</td>\n",
       "      <td>3016.743590</td>\n",
       "      <td>0.000000</td>\n",
       "      <td>0.000000</td>\n",
       "    </tr>\n",
       "    <tr>\n",
       "      <th>209</th>\n",
       "      <td>211</td>\n",
       "      <td>715.000000</td>\n",
       "      <td>307.512821</td>\n",
       "      <td>714.583333</td>\n",
       "      <td>715.000000</td>\n",
       "      <td>715.00</td>\n",
       "      <td>1027.897959</td>\n",
       "      <td>1008.920000</td>\n",
       "      <td>1028.043478</td>\n",
       "      <td>1027.320000</td>\n",
       "      <td>...</td>\n",
       "      <td>0.000000</td>\n",
       "      <td>0.0</td>\n",
       "      <td>0.000000</td>\n",
       "      <td>0.000000</td>\n",
       "      <td>0.000000</td>\n",
       "      <td>0.000000</td>\n",
       "      <td>0.000000</td>\n",
       "      <td>3006.000000</td>\n",
       "      <td>0.000000</td>\n",
       "      <td>0.000000</td>\n",
       "    </tr>\n",
       "  </tbody>\n",
       "</table>\n",
       "<p>210 rows × 136 columns</p>\n",
       "</div>"
      ],
      "text/plain": [
       "range_delay  Sensor ID  13_10000_mean_middle  13_16800_mean_middle  \\\n",
       "0                    1            827.000000            827.000000   \n",
       "1                    2            679.640000            679.000000   \n",
       "2                    3            717.880000            717.727273   \n",
       "3                    4            737.080000            736.840000   \n",
       "4                    5            743.000000            742.894737   \n",
       "..                 ...                   ...                   ...   \n",
       "205                207            709.560000            723.080000   \n",
       "206                208            719.897959            720.120000   \n",
       "207                209            759.000000            748.551020   \n",
       "208                210            722.200000            732.360000   \n",
       "209                211            715.000000            307.512821   \n",
       "\n",
       "range_delay  13_3000_mean_middle  13_6000_mean_middle  13_8000_mean_middle  \\\n",
       "0                     827.000000           827.000000               827.00   \n",
       "1                     679.000000           679.000000               679.00   \n",
       "2                     718.040000           717.240000               718.04   \n",
       "3                     737.160000           736.920000               736.68   \n",
       "4                     741.880000           743.000000               743.00   \n",
       "..                           ...                  ...                  ...   \n",
       "205                   709.122449           709.480000               709.48   \n",
       "206                   720.120000           720.520000               719.00   \n",
       "207                   759.000000           759.408163               759.88   \n",
       "208                   723.000000           723.000000               722.60   \n",
       "209                   714.583333           715.000000               715.00   \n",
       "\n",
       "range_delay  18_10000_mean_middle  18_16800_mean_middle  18_3000_mean_middle  \\\n",
       "0                     1071.000000           1069.285714          1069.240000   \n",
       "1                      943.000000            954.200000           967.260870   \n",
       "2                     1029.933333           1020.920000          1007.000000   \n",
       "3                     1030.351351           1031.000000          1028.840000   \n",
       "4                     1046.102041           1045.697674          1047.244898   \n",
       "..                            ...                   ...                  ...   \n",
       "205                   1033.400000           1026.760000          1025.960000   \n",
       "206                   1009.880000           1009.883721          1009.720000   \n",
       "207                   1070.040000           1053.875000          1064.440000   \n",
       "208                   1019.000000           1018.744681          1018.520000   \n",
       "209                   1027.897959           1008.920000          1028.043478   \n",
       "\n",
       "range_delay  18_6000_mean_middle  ...  48_10000_mean_upper  \\\n",
       "0                    1069.400000  ...          2795.000000   \n",
       "1                     954.520000  ...          2669.521739   \n",
       "2                    1005.960000  ...             0.000000   \n",
       "3                    1087.000000  ...             0.000000   \n",
       "4                    1046.288889  ...             0.000000   \n",
       "..                           ...  ...                  ...   \n",
       "205                  1033.000000  ...             0.000000   \n",
       "206                  1009.800000  ...          2738.333333   \n",
       "207                  1069.400000  ...             0.000000   \n",
       "208                  1018.744681  ...             0.000000   \n",
       "209                  1027.320000  ...             0.000000   \n",
       "\n",
       "range_delay  48_16800_mean_upper  48_3000_mean_upper  48_6000_mean_upper  \\\n",
       "0                            0.0         2809.400000         2803.000000   \n",
       "1                            0.0            0.000000            0.000000   \n",
       "2                            0.0         2743.000000         2727.000000   \n",
       "3                            0.0            0.000000         2755.195122   \n",
       "4                         2755.0            0.000000            0.000000   \n",
       "..                           ...                 ...                 ...   \n",
       "205                          0.0            0.000000            0.000000   \n",
       "206                          0.0         2739.333333            0.000000   \n",
       "207                       2782.0         2779.000000         2778.111111   \n",
       "208                          0.0         2743.000000            0.000000   \n",
       "209                          0.0            0.000000            0.000000   \n",
       "\n",
       "range_delay  48_8000_mean_upper  53_10000_mean_upper  53_16800_mean_upper  \\\n",
       "0                   2800.333333          2995.545455             0.000000   \n",
       "1                   2691.000000             0.000000          2371.000000   \n",
       "2                      0.000000             0.000000             0.000000   \n",
       "3                      0.000000          3000.000000          3019.000000   \n",
       "4                      0.000000             0.000000             0.000000   \n",
       "..                          ...                  ...                  ...   \n",
       "205                    0.000000             0.000000             0.000000   \n",
       "206                    0.000000             0.000000             0.000000   \n",
       "207                    0.000000             0.000000             0.000000   \n",
       "208                    0.000000             0.000000          3037.666667   \n",
       "209                    0.000000             0.000000             0.000000   \n",
       "\n",
       "range_delay  53_3000_mean_upper  53_6000_mean_upper  53_8000_mean_upper  \n",
       "0                   2995.444444         3039.727273         3004.043478  \n",
       "1                      0.000000         2951.744186            0.000000  \n",
       "2                      0.000000            0.000000            0.000000  \n",
       "3                   3000.116279         2999.930233         3000.116279  \n",
       "4                      0.000000            0.000000            0.000000  \n",
       "..                          ...                 ...                 ...  \n",
       "205                    0.000000            0.000000            0.000000  \n",
       "206                    0.000000            0.000000            0.000000  \n",
       "207                    0.000000            0.000000            0.000000  \n",
       "208                 3016.743590            0.000000            0.000000  \n",
       "209                 3006.000000            0.000000            0.000000  \n",
       "\n",
       "[210 rows x 136 columns]"
      ]
     },
     "execution_count": 21,
     "metadata": {},
     "output_type": "execute_result"
    }
   ],
   "source": [
    "df_range_delay_all"
   ]
  },
  {
   "cell_type": "markdown",
   "metadata": {},
   "source": [
    "## Conduct PCA based feature importance"
   ]
  },
  {
   "cell_type": "code",
   "execution_count": 22,
   "metadata": {},
   "outputs": [
    {
     "data": {
      "image/png": "[encoded data removed]",
      "text/plain": [
       "<Figure size 1000x600 with 1 Axes>"
      ]
     },
     "metadata": {},
     "output_type": "display_data"
    }
   ],
   "source": [
    "from sklearn.preprocessing import StandardScaler\n",
    "from sklearn.decomposition import PCA\n",
    "import matplotlib.pyplot as plt\n",
    "import numpy as np\n",
    "\n",
    "def process_PCA(df):\n",
    "    # Extract features and standardize\n",
    "    features = df.drop(columns='Sensor ID')\n",
    "    sensor_ids = df['Sensor ID']\n",
    "\n",
    "    # Standardize the features\n",
    "    scaler = StandardScaler()\n",
    "    features_scaled = scaler.fit_transform(features)\n",
    "\n",
    "    # Perform PCA\n",
    "    pca = PCA()\n",
    "    principal_components = pca.fit_transform(features_scaled)\n",
    "\n",
    "    # Explained variance ratio for each principal component\n",
    "    explained_variance = pca.explained_variance_ratio_\n",
    "\n",
    "    # Plot the explained variance to see the importance of each component\n",
    "    plt.figure(figsize=(10, 6))\n",
    "    plt.plot(np.cumsum(explained_variance), marker='o', linestyle='--')\n",
    "    plt.xlabel('Number of Principal Components')\n",
    "    plt.ylabel('Cumulative Explained Variance')\n",
    "    plt.title('PCA - Cumulative Explained Variance')\n",
    "    plt.grid(True)\n",
    "    plt.show()\n",
    "\n",
    "    # Get the loadings (coefficients) of the features on the principal components\n",
    "    loadings = pca.components_\n",
    "\n",
    "    # Display the loadings for the first few principal components\n",
    "    return explained_variance, loadings, features\n",
    "\n",
    "explained_variance, loadings, features = process_PCA(df_range_delay_all)\n",
    "\n"
   ]
  },
  {
   "cell_type": "code",
   "execution_count": 23,
   "metadata": {},
   "outputs": [
    {
     "data": {
      "text/html": [
       "<div>\n",
       "<style scoped>\n",
       "    .dataframe tbody tr th:only-of-type {\n",
       "        vertical-align: middle;\n",
       "    }\n",
       "\n",
       "    .dataframe tbody tr th {\n",
       "        vertical-align: top;\n",
       "    }\n",
       "\n",
       "    .dataframe thead th {\n",
       "        text-align: right;\n",
       "    }\n",
       "</style>\n",
       "<table border=\"1\" class=\"dataframe\">\n",
       "  <thead>\n",
       "    <tr style=\"text-align: right;\">\n",
       "      <th></th>\n",
       "      <th>PC1</th>\n",
       "      <th>PC2</th>\n",
       "      <th>PC3</th>\n",
       "      <th>PC4</th>\n",
       "      <th>PC5</th>\n",
       "      <th>PC6</th>\n",
       "      <th>PC7</th>\n",
       "      <th>PC8</th>\n",
       "      <th>PC9</th>\n",
       "      <th>PC10</th>\n",
       "      <th>...</th>\n",
       "      <th>PC126</th>\n",
       "      <th>PC127</th>\n",
       "      <th>PC128</th>\n",
       "      <th>PC129</th>\n",
       "      <th>PC130</th>\n",
       "      <th>PC131</th>\n",
       "      <th>PC132</th>\n",
       "      <th>PC133</th>\n",
       "      <th>PC134</th>\n",
       "      <th>PC135</th>\n",
       "    </tr>\n",
       "    <tr>\n",
       "      <th>range_delay</th>\n",
       "      <th></th>\n",
       "      <th></th>\n",
       "      <th></th>\n",
       "      <th></th>\n",
       "      <th></th>\n",
       "      <th></th>\n",
       "      <th></th>\n",
       "      <th></th>\n",
       "      <th></th>\n",
       "      <th></th>\n",
       "      <th></th>\n",
       "      <th></th>\n",
       "      <th></th>\n",
       "      <th></th>\n",
       "      <th></th>\n",
       "      <th></th>\n",
       "      <th></th>\n",
       "      <th></th>\n",
       "      <th></th>\n",
       "      <th></th>\n",
       "      <th></th>\n",
       "    </tr>\n",
       "  </thead>\n",
       "  <tbody>\n",
       "    <tr>\n",
       "      <th>13_10000_mean_middle</th>\n",
       "      <td>-0.155435</td>\n",
       "      <td>0.103062</td>\n",
       "      <td>0.056253</td>\n",
       "      <td>0.007238</td>\n",
       "      <td>-0.002885</td>\n",
       "      <td>-0.012317</td>\n",
       "      <td>0.084118</td>\n",
       "      <td>0.050300</td>\n",
       "      <td>-0.052938</td>\n",
       "      <td>-0.044208</td>\n",
       "      <td>...</td>\n",
       "      <td>-0.264301</td>\n",
       "      <td>0.293396</td>\n",
       "      <td>-0.078902</td>\n",
       "      <td>-0.071756</td>\n",
       "      <td>0.416438</td>\n",
       "      <td>0.116277</td>\n",
       "      <td>-0.166110</td>\n",
       "      <td>-0.045158</td>\n",
       "      <td>-0.003739</td>\n",
       "      <td>0.073611</td>\n",
       "    </tr>\n",
       "    <tr>\n",
       "      <th>13_16800_mean_middle</th>\n",
       "      <td>0.027520</td>\n",
       "      <td>-0.006745</td>\n",
       "      <td>0.069394</td>\n",
       "      <td>0.024238</td>\n",
       "      <td>0.196916</td>\n",
       "      <td>0.060269</td>\n",
       "      <td>0.060799</td>\n",
       "      <td>0.072068</td>\n",
       "      <td>0.218573</td>\n",
       "      <td>-0.107597</td>\n",
       "      <td>...</td>\n",
       "      <td>-0.022458</td>\n",
       "      <td>0.013862</td>\n",
       "      <td>-0.002914</td>\n",
       "      <td>-0.008208</td>\n",
       "      <td>0.007852</td>\n",
       "      <td>0.000010</td>\n",
       "      <td>0.020961</td>\n",
       "      <td>0.009173</td>\n",
       "      <td>0.005566</td>\n",
       "      <td>-0.017291</td>\n",
       "    </tr>\n",
       "    <tr>\n",
       "      <th>13_3000_mean_middle</th>\n",
       "      <td>-0.105927</td>\n",
       "      <td>-0.082551</td>\n",
       "      <td>0.080120</td>\n",
       "      <td>0.014534</td>\n",
       "      <td>0.026873</td>\n",
       "      <td>0.024420</td>\n",
       "      <td>0.128643</td>\n",
       "      <td>0.057756</td>\n",
       "      <td>-0.009948</td>\n",
       "      <td>-0.125762</td>\n",
       "      <td>...</td>\n",
       "      <td>0.049823</td>\n",
       "      <td>-0.044724</td>\n",
       "      <td>-0.036728</td>\n",
       "      <td>-0.008656</td>\n",
       "      <td>-0.015597</td>\n",
       "      <td>0.019058</td>\n",
       "      <td>-0.029059</td>\n",
       "      <td>0.002414</td>\n",
       "      <td>0.013251</td>\n",
       "      <td>0.006934</td>\n",
       "    </tr>\n",
       "    <tr>\n",
       "      <th>13_6000_mean_middle</th>\n",
       "      <td>-0.085277</td>\n",
       "      <td>0.057006</td>\n",
       "      <td>0.030500</td>\n",
       "      <td>-0.079506</td>\n",
       "      <td>-0.053961</td>\n",
       "      <td>0.096651</td>\n",
       "      <td>0.091018</td>\n",
       "      <td>0.053567</td>\n",
       "      <td>0.029495</td>\n",
       "      <td>-0.158074</td>\n",
       "      <td>...</td>\n",
       "      <td>0.202869</td>\n",
       "      <td>0.098118</td>\n",
       "      <td>0.017770</td>\n",
       "      <td>-0.055537</td>\n",
       "      <td>-0.019294</td>\n",
       "      <td>0.249613</td>\n",
       "      <td>0.029045</td>\n",
       "      <td>0.136598</td>\n",
       "      <td>0.044432</td>\n",
       "      <td>0.014647</td>\n",
       "    </tr>\n",
       "    <tr>\n",
       "      <th>13_8000_mean_middle</th>\n",
       "      <td>-0.156561</td>\n",
       "      <td>0.101169</td>\n",
       "      <td>0.052338</td>\n",
       "      <td>-0.001526</td>\n",
       "      <td>0.004899</td>\n",
       "      <td>-0.009297</td>\n",
       "      <td>0.097002</td>\n",
       "      <td>0.051088</td>\n",
       "      <td>-0.045435</td>\n",
       "      <td>-0.048727</td>\n",
       "      <td>...</td>\n",
       "      <td>0.109887</td>\n",
       "      <td>-0.316796</td>\n",
       "      <td>0.099194</td>\n",
       "      <td>0.106294</td>\n",
       "      <td>-0.406539</td>\n",
       "      <td>-0.215194</td>\n",
       "      <td>0.203169</td>\n",
       "      <td>-0.013275</td>\n",
       "      <td>-0.019090</td>\n",
       "      <td>-0.086995</td>\n",
       "    </tr>\n",
       "    <tr>\n",
       "      <th>...</th>\n",
       "      <td>...</td>\n",
       "      <td>...</td>\n",
       "      <td>...</td>\n",
       "      <td>...</td>\n",
       "      <td>...</td>\n",
       "      <td>...</td>\n",
       "      <td>...</td>\n",
       "      <td>...</td>\n",
       "      <td>...</td>\n",
       "      <td>...</td>\n",
       "      <td>...</td>\n",
       "      <td>...</td>\n",
       "      <td>...</td>\n",
       "      <td>...</td>\n",
       "      <td>...</td>\n",
       "      <td>...</td>\n",
       "      <td>...</td>\n",
       "      <td>...</td>\n",
       "      <td>...</td>\n",
       "      <td>...</td>\n",
       "      <td>...</td>\n",
       "    </tr>\n",
       "    <tr>\n",
       "      <th>53_10000_mean_upper</th>\n",
       "      <td>-0.008606</td>\n",
       "      <td>0.074721</td>\n",
       "      <td>0.094664</td>\n",
       "      <td>0.151184</td>\n",
       "      <td>0.096501</td>\n",
       "      <td>0.084728</td>\n",
       "      <td>-0.087695</td>\n",
       "      <td>-0.113330</td>\n",
       "      <td>0.061504</td>\n",
       "      <td>-0.035861</td>\n",
       "      <td>...</td>\n",
       "      <td>0.018010</td>\n",
       "      <td>-0.024735</td>\n",
       "      <td>-0.025271</td>\n",
       "      <td>0.023983</td>\n",
       "      <td>0.006507</td>\n",
       "      <td>-0.003807</td>\n",
       "      <td>0.030336</td>\n",
       "      <td>0.009725</td>\n",
       "      <td>-0.013656</td>\n",
       "      <td>0.010083</td>\n",
       "    </tr>\n",
       "    <tr>\n",
       "      <th>53_16800_mean_upper</th>\n",
       "      <td>0.010644</td>\n",
       "      <td>0.023174</td>\n",
       "      <td>0.138260</td>\n",
       "      <td>0.058733</td>\n",
       "      <td>-0.043115</td>\n",
       "      <td>0.032059</td>\n",
       "      <td>-0.053248</td>\n",
       "      <td>-0.192493</td>\n",
       "      <td>-0.113012</td>\n",
       "      <td>-0.123791</td>\n",
       "      <td>...</td>\n",
       "      <td>-0.005946</td>\n",
       "      <td>0.010048</td>\n",
       "      <td>0.017546</td>\n",
       "      <td>0.015499</td>\n",
       "      <td>-0.008921</td>\n",
       "      <td>0.018255</td>\n",
       "      <td>-0.023698</td>\n",
       "      <td>0.016894</td>\n",
       "      <td>-0.007927</td>\n",
       "      <td>0.009704</td>\n",
       "    </tr>\n",
       "    <tr>\n",
       "      <th>53_3000_mean_upper</th>\n",
       "      <td>-0.015113</td>\n",
       "      <td>-0.016464</td>\n",
       "      <td>0.099077</td>\n",
       "      <td>0.070065</td>\n",
       "      <td>0.015420</td>\n",
       "      <td>-0.033703</td>\n",
       "      <td>0.112746</td>\n",
       "      <td>-0.175795</td>\n",
       "      <td>0.077035</td>\n",
       "      <td>0.132073</td>\n",
       "      <td>...</td>\n",
       "      <td>-0.011310</td>\n",
       "      <td>-0.001281</td>\n",
       "      <td>-0.002030</td>\n",
       "      <td>0.002819</td>\n",
       "      <td>0.010691</td>\n",
       "      <td>0.007997</td>\n",
       "      <td>-0.020925</td>\n",
       "      <td>0.007025</td>\n",
       "      <td>0.007752</td>\n",
       "      <td>-0.010895</td>\n",
       "    </tr>\n",
       "    <tr>\n",
       "      <th>53_6000_mean_upper</th>\n",
       "      <td>-0.003514</td>\n",
       "      <td>0.011817</td>\n",
       "      <td>0.176651</td>\n",
       "      <td>0.122818</td>\n",
       "      <td>-0.014746</td>\n",
       "      <td>0.010098</td>\n",
       "      <td>-0.066256</td>\n",
       "      <td>-0.099084</td>\n",
       "      <td>0.075335</td>\n",
       "      <td>0.034799</td>\n",
       "      <td>...</td>\n",
       "      <td>-0.000896</td>\n",
       "      <td>0.035592</td>\n",
       "      <td>-0.014902</td>\n",
       "      <td>0.034591</td>\n",
       "      <td>-0.028257</td>\n",
       "      <td>0.001145</td>\n",
       "      <td>-0.001802</td>\n",
       "      <td>0.008150</td>\n",
       "      <td>-0.005218</td>\n",
       "      <td>0.001777</td>\n",
       "    </tr>\n",
       "    <tr>\n",
       "      <th>53_8000_mean_upper</th>\n",
       "      <td>0.010427</td>\n",
       "      <td>0.016785</td>\n",
       "      <td>0.076257</td>\n",
       "      <td>0.204453</td>\n",
       "      <td>-0.010636</td>\n",
       "      <td>0.068682</td>\n",
       "      <td>-0.019508</td>\n",
       "      <td>-0.126366</td>\n",
       "      <td>0.148505</td>\n",
       "      <td>0.035477</td>\n",
       "      <td>...</td>\n",
       "      <td>-0.007267</td>\n",
       "      <td>-0.011730</td>\n",
       "      <td>-0.009704</td>\n",
       "      <td>-0.001881</td>\n",
       "      <td>0.007465</td>\n",
       "      <td>0.030513</td>\n",
       "      <td>0.005924</td>\n",
       "      <td>0.004522</td>\n",
       "      <td>0.014818</td>\n",
       "      <td>-0.019959</td>\n",
       "    </tr>\n",
       "  </tbody>\n",
       "</table>\n",
       "<p>135 rows × 135 columns</p>\n",
       "</div>"
      ],
      "text/plain": [
       "                           PC1       PC2       PC3       PC4       PC5  \\\n",
       "range_delay                                                              \n",
       "13_10000_mean_middle -0.155435  0.103062  0.056253  0.007238 -0.002885   \n",
       "13_16800_mean_middle  0.027520 -0.006745  0.069394  0.024238  0.196916   \n",
       "13_3000_mean_middle  -0.105927 -0.082551  0.080120  0.014534  0.026873   \n",
       "13_6000_mean_middle  -0.085277  0.057006  0.030500 -0.079506 -0.053961   \n",
       "13_8000_mean_middle  -0.156561  0.101169  0.052338 -0.001526  0.004899   \n",
       "...                        ...       ...       ...       ...       ...   \n",
       "53_10000_mean_upper  -0.008606  0.074721  0.094664  0.151184  0.096501   \n",
       "53_16800_mean_upper   0.010644  0.023174  0.138260  0.058733 -0.043115   \n",
       "53_3000_mean_upper   -0.015113 -0.016464  0.099077  0.070065  0.015420   \n",
       "53_6000_mean_upper   -0.003514  0.011817  0.176651  0.122818 -0.014746   \n",
       "53_8000_mean_upper    0.010427  0.016785  0.076257  0.204453 -0.010636   \n",
       "\n",
       "                           PC6       PC7       PC8       PC9      PC10  ...  \\\n",
       "range_delay                                                             ...   \n",
       "13_10000_mean_middle -0.012317  0.084118  0.050300 -0.052938 -0.044208  ...   \n",
       "13_16800_mean_middle  0.060269  0.060799  0.072068  0.218573 -0.107597  ...   \n",
       "13_3000_mean_middle   0.024420  0.128643  0.057756 -0.009948 -0.125762  ...   \n",
       "13_6000_mean_middle   0.096651  0.091018  0.053567  0.029495 -0.158074  ...   \n",
       "13_8000_mean_middle  -0.009297  0.097002  0.051088 -0.045435 -0.048727  ...   \n",
       "...                        ...       ...       ...       ...       ...  ...   \n",
       "53_10000_mean_upper   0.084728 -0.087695 -0.113330  0.061504 -0.035861  ...   \n",
       "53_16800_mean_upper   0.032059 -0.053248 -0.192493 -0.113012 -0.123791  ...   \n",
       "53_3000_mean_upper   -0.033703  0.112746 -0.175795  0.077035  0.132073  ...   \n",
       "53_6000_mean_upper    0.010098 -0.066256 -0.099084  0.075335  0.034799  ...   \n",
       "53_8000_mean_upper    0.068682 -0.019508 -0.126366  0.148505  0.035477  ...   \n",
       "\n",
       "                         PC126     PC127     PC128     PC129     PC130  \\\n",
       "range_delay                                                              \n",
       "13_10000_mean_middle -0.264301  0.293396 -0.078902 -0.071756  0.416438   \n",
       "13_16800_mean_middle -0.022458  0.013862 -0.002914 -0.008208  0.007852   \n",
       "13_3000_mean_middle   0.049823 -0.044724 -0.036728 -0.008656 -0.015597   \n",
       "13_6000_mean_middle   0.202869  0.098118  0.017770 -0.055537 -0.019294   \n",
       "13_8000_mean_middle   0.109887 -0.316796  0.099194  0.106294 -0.406539   \n",
       "...                        ...       ...       ...       ...       ...   \n",
       "53_10000_mean_upper   0.018010 -0.024735 -0.025271  0.023983  0.006507   \n",
       "53_16800_mean_upper  -0.005946  0.010048  0.017546  0.015499 -0.008921   \n",
       "53_3000_mean_upper   -0.011310 -0.001281 -0.002030  0.002819  0.010691   \n",
       "53_6000_mean_upper   -0.000896  0.035592 -0.014902  0.034591 -0.028257   \n",
       "53_8000_mean_upper   -0.007267 -0.011730 -0.009704 -0.001881  0.007465   \n",
       "\n",
       "                         PC131     PC132     PC133     PC134     PC135  \n",
       "range_delay                                                             \n",
       "13_10000_mean_middle  0.116277 -0.166110 -0.045158 -0.003739  0.073611  \n",
       "13_16800_mean_middle  0.000010  0.020961  0.009173  0.005566 -0.017291  \n",
       "13_3000_mean_middle   0.019058 -0.029059  0.002414  0.013251  0.006934  \n",
       "13_6000_mean_middle   0.249613  0.029045  0.136598  0.044432  0.014647  \n",
       "13_8000_mean_middle  -0.215194  0.203169 -0.013275 -0.019090 -0.086995  \n",
       "...                        ...       ...       ...       ...       ...  \n",
       "53_10000_mean_upper  -0.003807  0.030336  0.009725 -0.013656  0.010083  \n",
       "53_16800_mean_upper   0.018255 -0.023698  0.016894 -0.007927  0.009704  \n",
       "53_3000_mean_upper    0.007997 -0.020925  0.007025  0.007752 -0.010895  \n",
       "53_6000_mean_upper    0.001145 -0.001802  0.008150 -0.005218  0.001777  \n",
       "53_8000_mean_upper    0.030513  0.005924  0.004522  0.014818 -0.019959  \n",
       "\n",
       "[135 rows x 135 columns]"
      ]
     },
     "execution_count": 23,
     "metadata": {},
     "output_type": "execute_result"
    }
   ],
   "source": [
    "# Create a DataFrame for the loadings\n",
    "loading_df = pd.DataFrame(loadings.T, columns=[f'PC{i+1}' for i in range(loadings.shape[0])], index=features.columns)\n",
    "loading_df"
   ]
  },
  {
   "cell_type": "code",
   "execution_count": 24,
   "metadata": {},
   "outputs": [
    {
     "data": {
      "text/html": [
       "<div>\n",
       "<style scoped>\n",
       "    .dataframe tbody tr th:only-of-type {\n",
       "        vertical-align: middle;\n",
       "    }\n",
       "\n",
       "    .dataframe tbody tr th {\n",
       "        vertical-align: top;\n",
       "    }\n",
       "\n",
       "    .dataframe thead th {\n",
       "        text-align: right;\n",
       "    }\n",
       "</style>\n",
       "<table border=\"1\" class=\"dataframe\">\n",
       "  <thead>\n",
       "    <tr style=\"text-align: right;\">\n",
       "      <th></th>\n",
       "      <th>Feature</th>\n",
       "      <th>Importance</th>\n",
       "    </tr>\n",
       "  </thead>\n",
       "  <tbody>\n",
       "    <tr>\n",
       "      <th>56</th>\n",
       "      <td>23_16800_mean_lower</td>\n",
       "      <td>5.463906</td>\n",
       "    </tr>\n",
       "    <tr>\n",
       "      <th>115</th>\n",
       "      <td>38_10000_mean_upper</td>\n",
       "      <td>5.376003</td>\n",
       "    </tr>\n",
       "    <tr>\n",
       "      <th>101</th>\n",
       "      <td>23_16800_mean_upper</td>\n",
       "      <td>5.247711</td>\n",
       "    </tr>\n",
       "    <tr>\n",
       "      <th>57</th>\n",
       "      <td>23_3000_mean_lower</td>\n",
       "      <td>5.212668</td>\n",
       "    </tr>\n",
       "    <tr>\n",
       "      <th>102</th>\n",
       "      <td>23_3000_mean_upper</td>\n",
       "      <td>5.170999</td>\n",
       "    </tr>\n",
       "    <tr>\n",
       "      <th>118</th>\n",
       "      <td>38_6000_mean_upper</td>\n",
       "      <td>5.170678</td>\n",
       "    </tr>\n",
       "    <tr>\n",
       "      <th>91</th>\n",
       "      <td>13_16800_mean_upper</td>\n",
       "      <td>5.131967</td>\n",
       "    </tr>\n",
       "    <tr>\n",
       "      <th>13</th>\n",
       "      <td>23_6000_mean_middle</td>\n",
       "      <td>5.129321</td>\n",
       "    </tr>\n",
       "    <tr>\n",
       "      <th>79</th>\n",
       "      <td>43_8000_mean_lower</td>\n",
       "      <td>5.127778</td>\n",
       "    </tr>\n",
       "    <tr>\n",
       "      <th>43</th>\n",
       "      <td>53_6000_mean_middle</td>\n",
       "      <td>5.098241</td>\n",
       "    </tr>\n",
       "    <tr>\n",
       "      <th>130</th>\n",
       "      <td>53_10000_mean_upper</td>\n",
       "      <td>5.090181</td>\n",
       "    </tr>\n",
       "    <tr>\n",
       "      <th>84</th>\n",
       "      <td>48_8000_mean_lower</td>\n",
       "      <td>5.086684</td>\n",
       "    </tr>\n",
       "    <tr>\n",
       "      <th>83</th>\n",
       "      <td>48_6000_mean_lower</td>\n",
       "      <td>5.064317</td>\n",
       "    </tr>\n",
       "    <tr>\n",
       "      <th>10</th>\n",
       "      <td>23_10000_mean_middle</td>\n",
       "      <td>5.058340</td>\n",
       "    </tr>\n",
       "    <tr>\n",
       "      <th>72</th>\n",
       "      <td>38_3000_mean_lower</td>\n",
       "      <td>5.034956</td>\n",
       "    </tr>\n",
       "    <tr>\n",
       "      <th>51</th>\n",
       "      <td>18_16800_mean_lower</td>\n",
       "      <td>5.033355</td>\n",
       "    </tr>\n",
       "    <tr>\n",
       "      <th>94</th>\n",
       "      <td>13_8000_mean_upper</td>\n",
       "      <td>5.006687</td>\n",
       "    </tr>\n",
       "    <tr>\n",
       "      <th>42</th>\n",
       "      <td>53_3000_mean_middle</td>\n",
       "      <td>4.993716</td>\n",
       "    </tr>\n",
       "    <tr>\n",
       "      <th>126</th>\n",
       "      <td>48_16800_mean_upper</td>\n",
       "      <td>4.992869</td>\n",
       "    </tr>\n",
       "    <tr>\n",
       "      <th>40</th>\n",
       "      <td>53_10000_mean_middle</td>\n",
       "      <td>4.991987</td>\n",
       "    </tr>\n",
       "    <tr>\n",
       "      <th>99</th>\n",
       "      <td>18_8000_mean_upper</td>\n",
       "      <td>4.973013</td>\n",
       "    </tr>\n",
       "    <tr>\n",
       "      <th>95</th>\n",
       "      <td>18_10000_mean_upper</td>\n",
       "      <td>4.965695</td>\n",
       "    </tr>\n",
       "    <tr>\n",
       "      <th>55</th>\n",
       "      <td>23_10000_mean_lower</td>\n",
       "      <td>4.961320</td>\n",
       "    </tr>\n",
       "    <tr>\n",
       "      <th>54</th>\n",
       "      <td>18_8000_mean_lower</td>\n",
       "      <td>4.954049</td>\n",
       "    </tr>\n",
       "    <tr>\n",
       "      <th>108</th>\n",
       "      <td>28_6000_mean_upper</td>\n",
       "      <td>4.945765</td>\n",
       "    </tr>\n",
       "    <tr>\n",
       "      <th>120</th>\n",
       "      <td>43_10000_mean_upper</td>\n",
       "      <td>4.933767</td>\n",
       "    </tr>\n",
       "    <tr>\n",
       "      <th>97</th>\n",
       "      <td>18_3000_mean_upper</td>\n",
       "      <td>4.925735</td>\n",
       "    </tr>\n",
       "    <tr>\n",
       "      <th>128</th>\n",
       "      <td>48_6000_mean_upper</td>\n",
       "      <td>4.918675</td>\n",
       "    </tr>\n",
       "    <tr>\n",
       "      <th>123</th>\n",
       "      <td>43_6000_mean_upper</td>\n",
       "      <td>4.917548</td>\n",
       "    </tr>\n",
       "    <tr>\n",
       "      <th>45</th>\n",
       "      <td>13_10000_mean_lower</td>\n",
       "      <td>4.905705</td>\n",
       "    </tr>\n",
       "    <tr>\n",
       "      <th>105</th>\n",
       "      <td>28_10000_mean_upper</td>\n",
       "      <td>4.901129</td>\n",
       "    </tr>\n",
       "    <tr>\n",
       "      <th>92</th>\n",
       "      <td>13_3000_mean_upper</td>\n",
       "      <td>4.901076</td>\n",
       "    </tr>\n",
       "    <tr>\n",
       "      <th>122</th>\n",
       "      <td>43_3000_mean_upper</td>\n",
       "      <td>4.897509</td>\n",
       "    </tr>\n",
       "    <tr>\n",
       "      <th>121</th>\n",
       "      <td>43_16800_mean_upper</td>\n",
       "      <td>4.885465</td>\n",
       "    </tr>\n",
       "    <tr>\n",
       "      <th>98</th>\n",
       "      <td>18_6000_mean_upper</td>\n",
       "      <td>4.883793</td>\n",
       "    </tr>\n",
       "    <tr>\n",
       "      <th>78</th>\n",
       "      <td>43_6000_mean_lower</td>\n",
       "      <td>4.882077</td>\n",
       "    </tr>\n",
       "    <tr>\n",
       "      <th>58</th>\n",
       "      <td>23_6000_mean_lower</td>\n",
       "      <td>4.875964</td>\n",
       "    </tr>\n",
       "    <tr>\n",
       "      <th>66</th>\n",
       "      <td>33_16800_mean_lower</td>\n",
       "      <td>4.868933</td>\n",
       "    </tr>\n",
       "    <tr>\n",
       "      <th>67</th>\n",
       "      <td>33_3000_mean_lower</td>\n",
       "      <td>4.864766</td>\n",
       "    </tr>\n",
       "    <tr>\n",
       "      <th>64</th>\n",
       "      <td>28_8000_mean_lower</td>\n",
       "      <td>4.852061</td>\n",
       "    </tr>\n",
       "    <tr>\n",
       "      <th>65</th>\n",
       "      <td>33_10000_mean_lower</td>\n",
       "      <td>4.839635</td>\n",
       "    </tr>\n",
       "    <tr>\n",
       "      <th>90</th>\n",
       "      <td>13_10000_mean_upper</td>\n",
       "      <td>4.835120</td>\n",
       "    </tr>\n",
       "    <tr>\n",
       "      <th>112</th>\n",
       "      <td>33_3000_mean_upper</td>\n",
       "      <td>4.833067</td>\n",
       "    </tr>\n",
       "    <tr>\n",
       "      <th>93</th>\n",
       "      <td>13_6000_mean_upper</td>\n",
       "      <td>4.828257</td>\n",
       "    </tr>\n",
       "    <tr>\n",
       "      <th>125</th>\n",
       "      <td>48_10000_mean_upper</td>\n",
       "      <td>4.818098</td>\n",
       "    </tr>\n",
       "    <tr>\n",
       "      <th>75</th>\n",
       "      <td>43_10000_mean_lower</td>\n",
       "      <td>4.811941</td>\n",
       "    </tr>\n",
       "    <tr>\n",
       "      <th>127</th>\n",
       "      <td>48_3000_mean_upper</td>\n",
       "      <td>4.811273</td>\n",
       "    </tr>\n",
       "    <tr>\n",
       "      <th>80</th>\n",
       "      <td>48_10000_mean_lower</td>\n",
       "      <td>4.808334</td>\n",
       "    </tr>\n",
       "    <tr>\n",
       "      <th>52</th>\n",
       "      <td>18_3000_mean_lower</td>\n",
       "      <td>4.779949</td>\n",
       "    </tr>\n",
       "    <tr>\n",
       "      <th>109</th>\n",
       "      <td>28_8000_mean_upper</td>\n",
       "      <td>4.777386</td>\n",
       "    </tr>\n",
       "  </tbody>\n",
       "</table>\n",
       "</div>"
      ],
      "text/plain": [
       "                  Feature  Importance\n",
       "56    23_16800_mean_lower    5.463906\n",
       "115   38_10000_mean_upper    5.376003\n",
       "101   23_16800_mean_upper    5.247711\n",
       "57     23_3000_mean_lower    5.212668\n",
       "102    23_3000_mean_upper    5.170999\n",
       "118    38_6000_mean_upper    5.170678\n",
       "91    13_16800_mean_upper    5.131967\n",
       "13    23_6000_mean_middle    5.129321\n",
       "79     43_8000_mean_lower    5.127778\n",
       "43    53_6000_mean_middle    5.098241\n",
       "130   53_10000_mean_upper    5.090181\n",
       "84     48_8000_mean_lower    5.086684\n",
       "83     48_6000_mean_lower    5.064317\n",
       "10   23_10000_mean_middle    5.058340\n",
       "72     38_3000_mean_lower    5.034956\n",
       "51    18_16800_mean_lower    5.033355\n",
       "94     13_8000_mean_upper    5.006687\n",
       "42    53_3000_mean_middle    4.993716\n",
       "126   48_16800_mean_upper    4.992869\n",
       "40   53_10000_mean_middle    4.991987\n",
       "99     18_8000_mean_upper    4.973013\n",
       "95    18_10000_mean_upper    4.965695\n",
       "55    23_10000_mean_lower    4.961320\n",
       "54     18_8000_mean_lower    4.954049\n",
       "108    28_6000_mean_upper    4.945765\n",
       "120   43_10000_mean_upper    4.933767\n",
       "97     18_3000_mean_upper    4.925735\n",
       "128    48_6000_mean_upper    4.918675\n",
       "123    43_6000_mean_upper    4.917548\n",
       "45    13_10000_mean_lower    4.905705\n",
       "105   28_10000_mean_upper    4.901129\n",
       "92     13_3000_mean_upper    4.901076\n",
       "122    43_3000_mean_upper    4.897509\n",
       "121   43_16800_mean_upper    4.885465\n",
       "98     18_6000_mean_upper    4.883793\n",
       "78     43_6000_mean_lower    4.882077\n",
       "58     23_6000_mean_lower    4.875964\n",
       "66    33_16800_mean_lower    4.868933\n",
       "67     33_3000_mean_lower    4.864766\n",
       "64     28_8000_mean_lower    4.852061\n",
       "65    33_10000_mean_lower    4.839635\n",
       "90    13_10000_mean_upper    4.835120\n",
       "112    33_3000_mean_upper    4.833067\n",
       "93     13_6000_mean_upper    4.828257\n",
       "125   48_10000_mean_upper    4.818098\n",
       "75    43_10000_mean_lower    4.811941\n",
       "127    48_3000_mean_upper    4.811273\n",
       "80    48_10000_mean_lower    4.808334\n",
       "52     18_3000_mean_lower    4.779949\n",
       "109    28_8000_mean_upper    4.777386"
      ]
     },
     "execution_count": 24,
     "metadata": {},
     "output_type": "execute_result"
    }
   ],
   "source": [
    "# Determine the number of components to retain 90% variance\n",
    "cumulative_variance = np.cumsum(explained_variance)\n",
    "num_components = np.argmax(cumulative_variance >= 0.9) + 1\n",
    "\n",
    "# Get the loadings for the selected components\n",
    "selected_loadings = loadings[:num_components, :]\n",
    "\n",
    "# Calculate the importance of each feature by summing the absolute values of its loadings across the selected components\n",
    "feature_importance = np.sum(np.abs(selected_loadings), axis=0)\n",
    "\n",
    "# Create a DataFrame for feature importance\n",
    "feature_importance_df = pd.DataFrame({'Feature': features.columns, 'Importance': feature_importance})\n",
    "\n",
    "# Sort the features by importance\n",
    "feature_importance_df = feature_importance_df.sort_values(by='Importance', ascending=False)\n",
    "\n",
    "# Select the top N features (e.g., top 10 features)\n",
    "top_features = feature_importance_df.head(50)\n",
    "\n",
    "top_features"
   ]
  },
  {
   "cell_type": "markdown",
   "metadata": {},
   "source": [
    "Having many features with an importance score over 1 can be interpreted in various ways.\n",
    "\n",
    "Implication 1: Distributed Contribution\n",
    "- Distributed Contribution: When many features have high importance scores, it indicates that the variance in the data is distributed across multiple features rather than being dominated by a few.\n",
    "- Balanced Influence: This suggests a balanced influence where no single feature overwhelmingly explains the variance, but rather, multiple features contribute significantly.\n",
    "\n",
    "Implication 2: Multicollinearity\n",
    "- Multicollinearity: It might indicate the presence of multicollinearity, where multiple features are correlated with each other and together contribute to the same principal components.\n",
    "- Redundancy: In such cases, there might be redundancy in the information provided by these features\n",
    "\n",
    "\n",
    "\n",
    "To address these issues we could look into correlation matrix and use regularization technique to reduce it"
   ]
  },
  {
   "cell_type": "markdown",
   "metadata": {},
   "source": [
    "## Investigate Multicollinearity"
   ]
  },
  {
   "cell_type": "markdown",
   "metadata": {},
   "source": [
    "### Analyze using correlation matrix"
   ]
  },
  {
   "cell_type": "code",
   "execution_count": 25,
   "metadata": {},
   "outputs": [],
   "source": [
    "# List of DataFrames\n",
    "df_pivots = [df_range_delay_lower, df_range_delay_upper]\n",
    "\n",
    "# Initialize the merged DataFrame with the first DataFrame in the list\n",
    "df_range_delay_ends = df_pivots[0]\n",
    "\n",
    "# Iteratively merge each DataFrame in the list\n",
    "for df in df_pivots[1:]:\n",
    "    df_range_delay_ends = df_range_delay_ends.merge(df, on='Sensor ID')\n",
    "# Replace all NaN values with 0 in the merged DataFrame\n",
    "df_range_delay_ends.fillna(0, inplace=True)"
   ]
  },
  {
   "cell_type": "code",
   "execution_count": 26,
   "metadata": {},
   "outputs": [],
   "source": [
    "df_range_delay_corr= df_range_delay_ends.drop([\"Sensor ID\"], axis = 1)"
   ]
  },
  {
   "cell_type": "code",
   "execution_count": 27,
   "metadata": {},
   "outputs": [
    {
     "data": {
      "text/html": [
       "<div>\n",
       "<style scoped>\n",
       "    .dataframe tbody tr th:only-of-type {\n",
       "        vertical-align: middle;\n",
       "    }\n",
       "\n",
       "    .dataframe tbody tr th {\n",
       "        vertical-align: top;\n",
       "    }\n",
       "\n",
       "    .dataframe thead th {\n",
       "        text-align: right;\n",
       "    }\n",
       "</style>\n",
       "<table border=\"1\" class=\"dataframe\">\n",
       "  <thead>\n",
       "    <tr style=\"text-align: right;\">\n",
       "      <th>range_delay</th>\n",
       "      <th>13_10000_mean_lower</th>\n",
       "      <th>13_16800_mean_lower</th>\n",
       "      <th>13_3000_mean_lower</th>\n",
       "      <th>13_6000_mean_lower</th>\n",
       "      <th>13_8000_mean_lower</th>\n",
       "      <th>18_10000_mean_lower</th>\n",
       "      <th>18_16800_mean_lower</th>\n",
       "      <th>18_3000_mean_lower</th>\n",
       "      <th>18_6000_mean_lower</th>\n",
       "      <th>18_8000_mean_lower</th>\n",
       "      <th>...</th>\n",
       "      <th>48_10000_mean_upper</th>\n",
       "      <th>48_16800_mean_upper</th>\n",
       "      <th>48_3000_mean_upper</th>\n",
       "      <th>48_6000_mean_upper</th>\n",
       "      <th>48_8000_mean_upper</th>\n",
       "      <th>53_10000_mean_upper</th>\n",
       "      <th>53_16800_mean_upper</th>\n",
       "      <th>53_3000_mean_upper</th>\n",
       "      <th>53_6000_mean_upper</th>\n",
       "      <th>53_8000_mean_upper</th>\n",
       "    </tr>\n",
       "    <tr>\n",
       "      <th>range_delay</th>\n",
       "      <th></th>\n",
       "      <th></th>\n",
       "      <th></th>\n",
       "      <th></th>\n",
       "      <th></th>\n",
       "      <th></th>\n",
       "      <th></th>\n",
       "      <th></th>\n",
       "      <th></th>\n",
       "      <th></th>\n",
       "      <th></th>\n",
       "      <th></th>\n",
       "      <th></th>\n",
       "      <th></th>\n",
       "      <th></th>\n",
       "      <th></th>\n",
       "      <th></th>\n",
       "      <th></th>\n",
       "      <th></th>\n",
       "      <th></th>\n",
       "      <th></th>\n",
       "    </tr>\n",
       "  </thead>\n",
       "  <tbody>\n",
       "    <tr>\n",
       "      <th>13_10000_mean_lower</th>\n",
       "      <td>1.000000</td>\n",
       "      <td>-0.076172</td>\n",
       "      <td>0.240773</td>\n",
       "      <td>0.233951</td>\n",
       "      <td>0.336649</td>\n",
       "      <td>0.063161</td>\n",
       "      <td>0.103534</td>\n",
       "      <td>0.127043</td>\n",
       "      <td>0.054115</td>\n",
       "      <td>0.156076</td>\n",
       "      <td>...</td>\n",
       "      <td>-0.137357</td>\n",
       "      <td>-0.019695</td>\n",
       "      <td>0.031646</td>\n",
       "      <td>-0.063437</td>\n",
       "      <td>-0.046176</td>\n",
       "      <td>0.050077</td>\n",
       "      <td>0.049168</td>\n",
       "      <td>0.047523</td>\n",
       "      <td>-0.165733</td>\n",
       "      <td>-0.135859</td>\n",
       "    </tr>\n",
       "    <tr>\n",
       "      <th>13_16800_mean_lower</th>\n",
       "      <td>-0.076172</td>\n",
       "      <td>1.000000</td>\n",
       "      <td>0.069793</td>\n",
       "      <td>0.004841</td>\n",
       "      <td>0.079819</td>\n",
       "      <td>0.243768</td>\n",
       "      <td>0.029012</td>\n",
       "      <td>0.082026</td>\n",
       "      <td>0.126755</td>\n",
       "      <td>-0.014737</td>\n",
       "      <td>...</td>\n",
       "      <td>0.019305</td>\n",
       "      <td>-0.029272</td>\n",
       "      <td>-0.068612</td>\n",
       "      <td>-0.050305</td>\n",
       "      <td>-0.025251</td>\n",
       "      <td>-0.004213</td>\n",
       "      <td>0.087255</td>\n",
       "      <td>-0.021815</td>\n",
       "      <td>0.140318</td>\n",
       "      <td>-0.013815</td>\n",
       "    </tr>\n",
       "    <tr>\n",
       "      <th>13_3000_mean_lower</th>\n",
       "      <td>0.240773</td>\n",
       "      <td>0.069793</td>\n",
       "      <td>1.000000</td>\n",
       "      <td>0.297573</td>\n",
       "      <td>0.291566</td>\n",
       "      <td>0.076708</td>\n",
       "      <td>0.136616</td>\n",
       "      <td>0.144030</td>\n",
       "      <td>0.029114</td>\n",
       "      <td>0.103739</td>\n",
       "      <td>...</td>\n",
       "      <td>-0.013931</td>\n",
       "      <td>0.123588</td>\n",
       "      <td>0.020503</td>\n",
       "      <td>0.020248</td>\n",
       "      <td>0.024361</td>\n",
       "      <td>0.112028</td>\n",
       "      <td>0.042072</td>\n",
       "      <td>0.028243</td>\n",
       "      <td>0.153642</td>\n",
       "      <td>0.001631</td>\n",
       "    </tr>\n",
       "    <tr>\n",
       "      <th>13_6000_mean_lower</th>\n",
       "      <td>0.233951</td>\n",
       "      <td>0.004841</td>\n",
       "      <td>0.297573</td>\n",
       "      <td>1.000000</td>\n",
       "      <td>0.381451</td>\n",
       "      <td>0.000969</td>\n",
       "      <td>0.010833</td>\n",
       "      <td>0.079787</td>\n",
       "      <td>0.079060</td>\n",
       "      <td>0.003997</td>\n",
       "      <td>...</td>\n",
       "      <td>-0.051726</td>\n",
       "      <td>-0.016466</td>\n",
       "      <td>-0.003061</td>\n",
       "      <td>-0.044076</td>\n",
       "      <td>0.037023</td>\n",
       "      <td>0.008043</td>\n",
       "      <td>0.003738</td>\n",
       "      <td>-0.055023</td>\n",
       "      <td>0.066125</td>\n",
       "      <td>-0.126378</td>\n",
       "    </tr>\n",
       "    <tr>\n",
       "      <th>13_8000_mean_lower</th>\n",
       "      <td>0.336649</td>\n",
       "      <td>0.079819</td>\n",
       "      <td>0.291566</td>\n",
       "      <td>0.381451</td>\n",
       "      <td>1.000000</td>\n",
       "      <td>0.114793</td>\n",
       "      <td>0.050736</td>\n",
       "      <td>0.166374</td>\n",
       "      <td>0.080506</td>\n",
       "      <td>0.077381</td>\n",
       "      <td>...</td>\n",
       "      <td>-0.073007</td>\n",
       "      <td>0.031802</td>\n",
       "      <td>-0.035557</td>\n",
       "      <td>-0.118591</td>\n",
       "      <td>-0.006247</td>\n",
       "      <td>-0.006338</td>\n",
       "      <td>0.026343</td>\n",
       "      <td>-0.081335</td>\n",
       "      <td>0.041180</td>\n",
       "      <td>-0.099738</td>\n",
       "    </tr>\n",
       "    <tr>\n",
       "      <th>...</th>\n",
       "      <td>...</td>\n",
       "      <td>...</td>\n",
       "      <td>...</td>\n",
       "      <td>...</td>\n",
       "      <td>...</td>\n",
       "      <td>...</td>\n",
       "      <td>...</td>\n",
       "      <td>...</td>\n",
       "      <td>...</td>\n",
       "      <td>...</td>\n",
       "      <td>...</td>\n",
       "      <td>...</td>\n",
       "      <td>...</td>\n",
       "      <td>...</td>\n",
       "      <td>...</td>\n",
       "      <td>...</td>\n",
       "      <td>...</td>\n",
       "      <td>...</td>\n",
       "      <td>...</td>\n",
       "      <td>...</td>\n",
       "      <td>...</td>\n",
       "    </tr>\n",
       "    <tr>\n",
       "      <th>53_10000_mean_upper</th>\n",
       "      <td>0.050077</td>\n",
       "      <td>-0.004213</td>\n",
       "      <td>0.112028</td>\n",
       "      <td>0.008043</td>\n",
       "      <td>-0.006338</td>\n",
       "      <td>-0.059448</td>\n",
       "      <td>0.052034</td>\n",
       "      <td>-0.018095</td>\n",
       "      <td>0.008323</td>\n",
       "      <td>-0.008894</td>\n",
       "      <td>...</td>\n",
       "      <td>0.099204</td>\n",
       "      <td>0.031948</td>\n",
       "      <td>0.030633</td>\n",
       "      <td>0.002941</td>\n",
       "      <td>0.033994</td>\n",
       "      <td>1.000000</td>\n",
       "      <td>0.067735</td>\n",
       "      <td>0.170317</td>\n",
       "      <td>0.230532</td>\n",
       "      <td>0.358396</td>\n",
       "    </tr>\n",
       "    <tr>\n",
       "      <th>53_16800_mean_upper</th>\n",
       "      <td>0.049168</td>\n",
       "      <td>0.087255</td>\n",
       "      <td>0.042072</td>\n",
       "      <td>0.003738</td>\n",
       "      <td>0.026343</td>\n",
       "      <td>0.037123</td>\n",
       "      <td>0.058431</td>\n",
       "      <td>-0.058679</td>\n",
       "      <td>0.017005</td>\n",
       "      <td>0.023331</td>\n",
       "      <td>...</td>\n",
       "      <td>-0.001144</td>\n",
       "      <td>0.059057</td>\n",
       "      <td>-0.090171</td>\n",
       "      <td>-0.068626</td>\n",
       "      <td>-0.056557</td>\n",
       "      <td>0.067735</td>\n",
       "      <td>1.000000</td>\n",
       "      <td>-0.001761</td>\n",
       "      <td>0.198966</td>\n",
       "      <td>0.066020</td>\n",
       "    </tr>\n",
       "    <tr>\n",
       "      <th>53_3000_mean_upper</th>\n",
       "      <td>0.047523</td>\n",
       "      <td>-0.021815</td>\n",
       "      <td>0.028243</td>\n",
       "      <td>-0.055023</td>\n",
       "      <td>-0.081335</td>\n",
       "      <td>-0.018774</td>\n",
       "      <td>0.147372</td>\n",
       "      <td>-0.091549</td>\n",
       "      <td>-0.118118</td>\n",
       "      <td>-0.042414</td>\n",
       "      <td>...</td>\n",
       "      <td>-0.028976</td>\n",
       "      <td>-0.066747</td>\n",
       "      <td>0.027828</td>\n",
       "      <td>0.066973</td>\n",
       "      <td>0.142163</td>\n",
       "      <td>0.170317</td>\n",
       "      <td>-0.001761</td>\n",
       "      <td>1.000000</td>\n",
       "      <td>0.138534</td>\n",
       "      <td>0.116706</td>\n",
       "    </tr>\n",
       "    <tr>\n",
       "      <th>53_6000_mean_upper</th>\n",
       "      <td>-0.165733</td>\n",
       "      <td>0.140318</td>\n",
       "      <td>0.153642</td>\n",
       "      <td>0.066125</td>\n",
       "      <td>0.041180</td>\n",
       "      <td>-0.002709</td>\n",
       "      <td>0.028521</td>\n",
       "      <td>-0.019819</td>\n",
       "      <td>0.024487</td>\n",
       "      <td>-0.008770</td>\n",
       "      <td>...</td>\n",
       "      <td>0.149512</td>\n",
       "      <td>0.139158</td>\n",
       "      <td>0.088166</td>\n",
       "      <td>0.039558</td>\n",
       "      <td>0.067914</td>\n",
       "      <td>0.230532</td>\n",
       "      <td>0.198966</td>\n",
       "      <td>0.138534</td>\n",
       "      <td>1.000000</td>\n",
       "      <td>0.300378</td>\n",
       "    </tr>\n",
       "    <tr>\n",
       "      <th>53_8000_mean_upper</th>\n",
       "      <td>-0.135859</td>\n",
       "      <td>-0.013815</td>\n",
       "      <td>0.001631</td>\n",
       "      <td>-0.126378</td>\n",
       "      <td>-0.099738</td>\n",
       "      <td>0.033973</td>\n",
       "      <td>0.037991</td>\n",
       "      <td>0.028327</td>\n",
       "      <td>-0.012016</td>\n",
       "      <td>-0.068819</td>\n",
       "      <td>...</td>\n",
       "      <td>0.000036</td>\n",
       "      <td>0.165395</td>\n",
       "      <td>0.155157</td>\n",
       "      <td>0.181437</td>\n",
       "      <td>0.103783</td>\n",
       "      <td>0.358396</td>\n",
       "      <td>0.066020</td>\n",
       "      <td>0.116706</td>\n",
       "      <td>0.300378</td>\n",
       "      <td>1.000000</td>\n",
       "    </tr>\n",
       "  </tbody>\n",
       "</table>\n",
       "<p>90 rows × 90 columns</p>\n",
       "</div>"
      ],
      "text/plain": [
       "range_delay          13_10000_mean_lower  13_16800_mean_lower  \\\n",
       "range_delay                                                     \n",
       "13_10000_mean_lower             1.000000            -0.076172   \n",
       "13_16800_mean_lower            -0.076172             1.000000   \n",
       "13_3000_mean_lower              0.240773             0.069793   \n",
       "13_6000_mean_lower              0.233951             0.004841   \n",
       "13_8000_mean_lower              0.336649             0.079819   \n",
       "...                                  ...                  ...   \n",
       "53_10000_mean_upper             0.050077            -0.004213   \n",
       "53_16800_mean_upper             0.049168             0.087255   \n",
       "53_3000_mean_upper              0.047523            -0.021815   \n",
       "53_6000_mean_upper             -0.165733             0.140318   \n",
       "53_8000_mean_upper             -0.135859            -0.013815   \n",
       "\n",
       "range_delay          13_3000_mean_lower  13_6000_mean_lower  \\\n",
       "range_delay                                                   \n",
       "13_10000_mean_lower            0.240773            0.233951   \n",
       "13_16800_mean_lower            0.069793            0.004841   \n",
       "13_3000_mean_lower             1.000000            0.297573   \n",
       "13_6000_mean_lower             0.297573            1.000000   \n",
       "13_8000_mean_lower             0.291566            0.381451   \n",
       "...                                 ...                 ...   \n",
       "53_10000_mean_upper            0.112028            0.008043   \n",
       "53_16800_mean_upper            0.042072            0.003738   \n",
       "53_3000_mean_upper             0.028243           -0.055023   \n",
       "53_6000_mean_upper             0.153642            0.066125   \n",
       "53_8000_mean_upper             0.001631           -0.126378   \n",
       "\n",
       "range_delay          13_8000_mean_lower  18_10000_mean_lower  \\\n",
       "range_delay                                                    \n",
       "13_10000_mean_lower            0.336649             0.063161   \n",
       "13_16800_mean_lower            0.079819             0.243768   \n",
       "13_3000_mean_lower             0.291566             0.076708   \n",
       "13_6000_mean_lower             0.381451             0.000969   \n",
       "13_8000_mean_lower             1.000000             0.114793   \n",
       "...                                 ...                  ...   \n",
       "53_10000_mean_upper           -0.006338            -0.059448   \n",
       "53_16800_mean_upper            0.026343             0.037123   \n",
       "53_3000_mean_upper            -0.081335            -0.018774   \n",
       "53_6000_mean_upper             0.041180            -0.002709   \n",
       "53_8000_mean_upper            -0.099738             0.033973   \n",
       "\n",
       "range_delay          18_16800_mean_lower  18_3000_mean_lower  \\\n",
       "range_delay                                                    \n",
       "13_10000_mean_lower             0.103534            0.127043   \n",
       "13_16800_mean_lower             0.029012            0.082026   \n",
       "13_3000_mean_lower              0.136616            0.144030   \n",
       "13_6000_mean_lower              0.010833            0.079787   \n",
       "13_8000_mean_lower              0.050736            0.166374   \n",
       "...                                  ...                 ...   \n",
       "53_10000_mean_upper             0.052034           -0.018095   \n",
       "53_16800_mean_upper             0.058431           -0.058679   \n",
       "53_3000_mean_upper              0.147372           -0.091549   \n",
       "53_6000_mean_upper              0.028521           -0.019819   \n",
       "53_8000_mean_upper              0.037991            0.028327   \n",
       "\n",
       "range_delay          18_6000_mean_lower  18_8000_mean_lower  ...  \\\n",
       "range_delay                                                  ...   \n",
       "13_10000_mean_lower            0.054115            0.156076  ...   \n",
       "13_16800_mean_lower            0.126755           -0.014737  ...   \n",
       "13_3000_mean_lower             0.029114            0.103739  ...   \n",
       "13_6000_mean_lower             0.079060            0.003997  ...   \n",
       "13_8000_mean_lower             0.080506            0.077381  ...   \n",
       "...                                 ...                 ...  ...   \n",
       "53_10000_mean_upper            0.008323           -0.008894  ...   \n",
       "53_16800_mean_upper            0.017005            0.023331  ...   \n",
       "53_3000_mean_upper            -0.118118           -0.042414  ...   \n",
       "53_6000_mean_upper             0.024487           -0.008770  ...   \n",
       "53_8000_mean_upper            -0.012016           -0.068819  ...   \n",
       "\n",
       "range_delay          48_10000_mean_upper  48_16800_mean_upper  \\\n",
       "range_delay                                                     \n",
       "13_10000_mean_lower            -0.137357            -0.019695   \n",
       "13_16800_mean_lower             0.019305            -0.029272   \n",
       "13_3000_mean_lower             -0.013931             0.123588   \n",
       "13_6000_mean_lower             -0.051726            -0.016466   \n",
       "13_8000_mean_lower             -0.073007             0.031802   \n",
       "...                                  ...                  ...   \n",
       "53_10000_mean_upper             0.099204             0.031948   \n",
       "53_16800_mean_upper            -0.001144             0.059057   \n",
       "53_3000_mean_upper             -0.028976            -0.066747   \n",
       "53_6000_mean_upper              0.149512             0.139158   \n",
       "53_8000_mean_upper              0.000036             0.165395   \n",
       "\n",
       "range_delay          48_3000_mean_upper  48_6000_mean_upper  \\\n",
       "range_delay                                                   \n",
       "13_10000_mean_lower            0.031646           -0.063437   \n",
       "13_16800_mean_lower           -0.068612           -0.050305   \n",
       "13_3000_mean_lower             0.020503            0.020248   \n",
       "13_6000_mean_lower            -0.003061           -0.044076   \n",
       "13_8000_mean_lower            -0.035557           -0.118591   \n",
       "...                                 ...                 ...   \n",
       "53_10000_mean_upper            0.030633            0.002941   \n",
       "53_16800_mean_upper           -0.090171           -0.068626   \n",
       "53_3000_mean_upper             0.027828            0.066973   \n",
       "53_6000_mean_upper             0.088166            0.039558   \n",
       "53_8000_mean_upper             0.155157            0.181437   \n",
       "\n",
       "range_delay          48_8000_mean_upper  53_10000_mean_upper  \\\n",
       "range_delay                                                    \n",
       "13_10000_mean_lower           -0.046176             0.050077   \n",
       "13_16800_mean_lower           -0.025251            -0.004213   \n",
       "13_3000_mean_lower             0.024361             0.112028   \n",
       "13_6000_mean_lower             0.037023             0.008043   \n",
       "13_8000_mean_lower            -0.006247            -0.006338   \n",
       "...                                 ...                  ...   \n",
       "53_10000_mean_upper            0.033994             1.000000   \n",
       "53_16800_mean_upper           -0.056557             0.067735   \n",
       "53_3000_mean_upper             0.142163             0.170317   \n",
       "53_6000_mean_upper             0.067914             0.230532   \n",
       "53_8000_mean_upper             0.103783             0.358396   \n",
       "\n",
       "range_delay          53_16800_mean_upper  53_3000_mean_upper  \\\n",
       "range_delay                                                    \n",
       "13_10000_mean_lower             0.049168            0.047523   \n",
       "13_16800_mean_lower             0.087255           -0.021815   \n",
       "13_3000_mean_lower              0.042072            0.028243   \n",
       "13_6000_mean_lower              0.003738           -0.055023   \n",
       "13_8000_mean_lower              0.026343           -0.081335   \n",
       "...                                  ...                 ...   \n",
       "53_10000_mean_upper             0.067735            0.170317   \n",
       "53_16800_mean_upper             1.000000           -0.001761   \n",
       "53_3000_mean_upper             -0.001761            1.000000   \n",
       "53_6000_mean_upper              0.198966            0.138534   \n",
       "53_8000_mean_upper              0.066020            0.116706   \n",
       "\n",
       "range_delay          53_6000_mean_upper  53_8000_mean_upper  \n",
       "range_delay                                                  \n",
       "13_10000_mean_lower           -0.165733           -0.135859  \n",
       "13_16800_mean_lower            0.140318           -0.013815  \n",
       "13_3000_mean_lower             0.153642            0.001631  \n",
       "13_6000_mean_lower             0.066125           -0.126378  \n",
       "13_8000_mean_lower             0.041180           -0.099738  \n",
       "...                                 ...                 ...  \n",
       "53_10000_mean_upper            0.230532            0.358396  \n",
       "53_16800_mean_upper            0.198966            0.066020  \n",
       "53_3000_mean_upper             0.138534            0.116706  \n",
       "53_6000_mean_upper             1.000000            0.300378  \n",
       "53_8000_mean_upper             0.300378            1.000000  \n",
       "\n",
       "[90 rows x 90 columns]"
      ]
     },
     "execution_count": 27,
     "metadata": {},
     "output_type": "execute_result"
    }
   ],
   "source": [
    "# Calculate the correlation matrix for the dataset\n",
    "correlation_matrix = df_range_delay_corr.corr()\n",
    "correlation_matrix\n"
   ]
  },
  {
   "cell_type": "code",
   "execution_count": 28,
   "metadata": {},
   "outputs": [
    {
     "data": {
      "text/html": [
       "<div>\n",
       "<style scoped>\n",
       "    .dataframe tbody tr th:only-of-type {\n",
       "        vertical-align: middle;\n",
       "    }\n",
       "\n",
       "    .dataframe tbody tr th {\n",
       "        vertical-align: top;\n",
       "    }\n",
       "\n",
       "    .dataframe thead th {\n",
       "        text-align: right;\n",
       "    }\n",
       "</style>\n",
       "<table border=\"1\" class=\"dataframe\">\n",
       "  <thead>\n",
       "    <tr style=\"text-align: right;\">\n",
       "      <th></th>\n",
       "      <th>Feature 1</th>\n",
       "      <th>Feature 2</th>\n",
       "      <th>Correlation</th>\n",
       "    </tr>\n",
       "  </thead>\n",
       "  <tbody>\n",
       "    <tr>\n",
       "      <th>0</th>\n",
       "      <td>43_16800_mean_lower</td>\n",
       "      <td>43_16800_mean_upper</td>\n",
       "      <td>0.615191</td>\n",
       "    </tr>\n",
       "    <tr>\n",
       "      <th>1</th>\n",
       "      <td>53_3000_mean_lower</td>\n",
       "      <td>53_3000_mean_upper</td>\n",
       "      <td>0.620308</td>\n",
       "    </tr>\n",
       "  </tbody>\n",
       "</table>\n",
       "</div>"
      ],
      "text/plain": [
       "             Feature 1            Feature 2  Correlation\n",
       "0  43_16800_mean_lower  43_16800_mean_upper     0.615191\n",
       "1   53_3000_mean_lower   53_3000_mean_upper     0.620308"
      ]
     },
     "execution_count": 28,
     "metadata": {},
     "output_type": "execute_result"
    }
   ],
   "source": [
    "# Extract pairs of highly correlated features with correlation coefficient above a threshold (e.g., 0.8 or below -0.8)\n",
    "threshold = 0.6\n",
    "highly_correlated_pairs = []\n",
    "\n",
    "for i in range(correlation_matrix.shape[0]):\n",
    "    for j in range(i+1, correlation_matrix.shape[1]):\n",
    "        if abs(correlation_matrix.iloc[i, j]) > threshold:\n",
    "            feature_pair = (correlation_matrix.index[i], correlation_matrix.columns[j], correlation_matrix.iloc[i, j])\n",
    "            highly_correlated_pairs.append(feature_pair)\n",
    "\n",
    "# Convert the list of tuples to a DataFrame for better readability\n",
    "highly_correlated_df = pd.DataFrame(highly_correlated_pairs, columns=['Feature 1', 'Feature 2', 'Correlation'])\n",
    "highly_correlated_df\n"
   ]
  },
  {
   "cell_type": "code",
   "execution_count": 29,
   "metadata": {},
   "outputs": [
    {
     "data": {
      "text/html": [
       "<div>\n",
       "<style scoped>\n",
       "    .dataframe tbody tr th:only-of-type {\n",
       "        vertical-align: middle;\n",
       "    }\n",
       "\n",
       "    .dataframe tbody tr th {\n",
       "        vertical-align: top;\n",
       "    }\n",
       "\n",
       "    .dataframe thead th {\n",
       "        text-align: right;\n",
       "    }\n",
       "</style>\n",
       "<table border=\"1\" class=\"dataframe\">\n",
       "  <thead>\n",
       "    <tr style=\"text-align: right;\">\n",
       "      <th>range_delay</th>\n",
       "      <th>Sensor ID</th>\n",
       "      <th>13_10000_mean_lower</th>\n",
       "      <th>13_16800_mean_lower</th>\n",
       "      <th>13_3000_mean_lower</th>\n",
       "      <th>13_6000_mean_lower</th>\n",
       "      <th>13_8000_mean_lower</th>\n",
       "      <th>18_10000_mean_lower</th>\n",
       "      <th>18_16800_mean_lower</th>\n",
       "      <th>18_3000_mean_lower</th>\n",
       "      <th>18_6000_mean_lower</th>\n",
       "      <th>...</th>\n",
       "      <th>48_10000_mean_upper</th>\n",
       "      <th>48_16800_mean_upper</th>\n",
       "      <th>48_3000_mean_upper</th>\n",
       "      <th>48_6000_mean_upper</th>\n",
       "      <th>48_8000_mean_upper</th>\n",
       "      <th>53_10000_mean_upper</th>\n",
       "      <th>53_16800_mean_upper</th>\n",
       "      <th>53_3000_mean_upper</th>\n",
       "      <th>53_6000_mean_upper</th>\n",
       "      <th>53_8000_mean_upper</th>\n",
       "    </tr>\n",
       "  </thead>\n",
       "  <tbody>\n",
       "    <tr>\n",
       "      <th>0</th>\n",
       "      <td>1</td>\n",
       "      <td>826.520000</td>\n",
       "      <td>826.166667</td>\n",
       "      <td>826.346939</td>\n",
       "      <td>826.360000</td>\n",
       "      <td>826.510204</td>\n",
       "      <td>1070.040000</td>\n",
       "      <td>1059.000000</td>\n",
       "      <td>0.000000</td>\n",
       "      <td>0.0</td>\n",
       "      <td>...</td>\n",
       "      <td>2795.000000</td>\n",
       "      <td>0.0</td>\n",
       "      <td>2809.400000</td>\n",
       "      <td>2803.000000</td>\n",
       "      <td>2800.333333</td>\n",
       "      <td>2995.545455</td>\n",
       "      <td>0.000000</td>\n",
       "      <td>2995.444444</td>\n",
       "      <td>3039.727273</td>\n",
       "      <td>3004.043478</td>\n",
       "    </tr>\n",
       "    <tr>\n",
       "      <th>1</th>\n",
       "      <td>2</td>\n",
       "      <td>0.000000</td>\n",
       "      <td>678.600000</td>\n",
       "      <td>678.500000</td>\n",
       "      <td>678.904762</td>\n",
       "      <td>678.510204</td>\n",
       "      <td>942.166667</td>\n",
       "      <td>0.000000</td>\n",
       "      <td>943.000000</td>\n",
       "      <td>0.0</td>\n",
       "      <td>...</td>\n",
       "      <td>2669.521739</td>\n",
       "      <td>0.0</td>\n",
       "      <td>0.000000</td>\n",
       "      <td>0.000000</td>\n",
       "      <td>2691.000000</td>\n",
       "      <td>0.000000</td>\n",
       "      <td>2371.000000</td>\n",
       "      <td>0.000000</td>\n",
       "      <td>2951.744186</td>\n",
       "      <td>0.000000</td>\n",
       "    </tr>\n",
       "    <tr>\n",
       "      <th>2</th>\n",
       "      <td>3</td>\n",
       "      <td>0.000000</td>\n",
       "      <td>0.000000</td>\n",
       "      <td>0.000000</td>\n",
       "      <td>0.000000</td>\n",
       "      <td>0.000000</td>\n",
       "      <td>1007.000000</td>\n",
       "      <td>0.000000</td>\n",
       "      <td>1005.736842</td>\n",
       "      <td>0.0</td>\n",
       "      <td>...</td>\n",
       "      <td>0.000000</td>\n",
       "      <td>0.0</td>\n",
       "      <td>2743.000000</td>\n",
       "      <td>2727.000000</td>\n",
       "      <td>0.000000</td>\n",
       "      <td>0.000000</td>\n",
       "      <td>0.000000</td>\n",
       "      <td>0.000000</td>\n",
       "      <td>0.000000</td>\n",
       "      <td>0.000000</td>\n",
       "    </tr>\n",
       "    <tr>\n",
       "      <th>3</th>\n",
       "      <td>4</td>\n",
       "      <td>0.000000</td>\n",
       "      <td>0.000000</td>\n",
       "      <td>0.000000</td>\n",
       "      <td>0.000000</td>\n",
       "      <td>0.000000</td>\n",
       "      <td>1023.000000</td>\n",
       "      <td>1029.818182</td>\n",
       "      <td>0.000000</td>\n",
       "      <td>1030.2</td>\n",
       "      <td>...</td>\n",
       "      <td>0.000000</td>\n",
       "      <td>0.0</td>\n",
       "      <td>0.000000</td>\n",
       "      <td>2755.195122</td>\n",
       "      <td>0.000000</td>\n",
       "      <td>3000.000000</td>\n",
       "      <td>3019.000000</td>\n",
       "      <td>3000.116279</td>\n",
       "      <td>2999.930233</td>\n",
       "      <td>3000.116279</td>\n",
       "    </tr>\n",
       "    <tr>\n",
       "      <th>4</th>\n",
       "      <td>5</td>\n",
       "      <td>742.348837</td>\n",
       "      <td>718.333333</td>\n",
       "      <td>0.000000</td>\n",
       "      <td>742.619048</td>\n",
       "      <td>742.428571</td>\n",
       "      <td>0.000000</td>\n",
       "      <td>1024.142857</td>\n",
       "      <td>1023.000000</td>\n",
       "      <td>1022.2</td>\n",
       "      <td>...</td>\n",
       "      <td>0.000000</td>\n",
       "      <td>2755.0</td>\n",
       "      <td>0.000000</td>\n",
       "      <td>0.000000</td>\n",
       "      <td>0.000000</td>\n",
       "      <td>0.000000</td>\n",
       "      <td>0.000000</td>\n",
       "      <td>0.000000</td>\n",
       "      <td>0.000000</td>\n",
       "      <td>0.000000</td>\n",
       "    </tr>\n",
       "    <tr>\n",
       "      <th>...</th>\n",
       "      <td>...</td>\n",
       "      <td>...</td>\n",
       "      <td>...</td>\n",
       "      <td>...</td>\n",
       "      <td>...</td>\n",
       "      <td>...</td>\n",
       "      <td>...</td>\n",
       "      <td>...</td>\n",
       "      <td>...</td>\n",
       "      <td>...</td>\n",
       "      <td>...</td>\n",
       "      <td>...</td>\n",
       "      <td>...</td>\n",
       "      <td>...</td>\n",
       "      <td>...</td>\n",
       "      <td>...</td>\n",
       "      <td>...</td>\n",
       "      <td>...</td>\n",
       "      <td>...</td>\n",
       "      <td>...</td>\n",
       "      <td>...</td>\n",
       "    </tr>\n",
       "    <tr>\n",
       "      <th>205</th>\n",
       "      <td>207</td>\n",
       "      <td>0.000000</td>\n",
       "      <td>0.000000</td>\n",
       "      <td>0.000000</td>\n",
       "      <td>0.000000</td>\n",
       "      <td>0.000000</td>\n",
       "      <td>0.000000</td>\n",
       "      <td>0.000000</td>\n",
       "      <td>0.000000</td>\n",
       "      <td>0.0</td>\n",
       "      <td>...</td>\n",
       "      <td>0.000000</td>\n",
       "      <td>0.0</td>\n",
       "      <td>0.000000</td>\n",
       "      <td>0.000000</td>\n",
       "      <td>0.000000</td>\n",
       "      <td>0.000000</td>\n",
       "      <td>0.000000</td>\n",
       "      <td>0.000000</td>\n",
       "      <td>0.000000</td>\n",
       "      <td>0.000000</td>\n",
       "    </tr>\n",
       "    <tr>\n",
       "      <th>206</th>\n",
       "      <td>208</td>\n",
       "      <td>0.000000</td>\n",
       "      <td>0.000000</td>\n",
       "      <td>0.000000</td>\n",
       "      <td>0.000000</td>\n",
       "      <td>718.789474</td>\n",
       "      <td>0.000000</td>\n",
       "      <td>0.000000</td>\n",
       "      <td>0.000000</td>\n",
       "      <td>0.0</td>\n",
       "      <td>...</td>\n",
       "      <td>2738.333333</td>\n",
       "      <td>0.0</td>\n",
       "      <td>2739.333333</td>\n",
       "      <td>0.000000</td>\n",
       "      <td>0.000000</td>\n",
       "      <td>0.000000</td>\n",
       "      <td>0.000000</td>\n",
       "      <td>0.000000</td>\n",
       "      <td>0.000000</td>\n",
       "      <td>0.000000</td>\n",
       "    </tr>\n",
       "    <tr>\n",
       "      <th>207</th>\n",
       "      <td>209</td>\n",
       "      <td>758.272727</td>\n",
       "      <td>0.000000</td>\n",
       "      <td>758.600000</td>\n",
       "      <td>751.000000</td>\n",
       "      <td>0.000000</td>\n",
       "      <td>0.000000</td>\n",
       "      <td>1029.909091</td>\n",
       "      <td>0.000000</td>\n",
       "      <td>0.0</td>\n",
       "      <td>...</td>\n",
       "      <td>0.000000</td>\n",
       "      <td>2782.0</td>\n",
       "      <td>2779.000000</td>\n",
       "      <td>2778.111111</td>\n",
       "      <td>0.000000</td>\n",
       "      <td>0.000000</td>\n",
       "      <td>0.000000</td>\n",
       "      <td>0.000000</td>\n",
       "      <td>0.000000</td>\n",
       "      <td>0.000000</td>\n",
       "    </tr>\n",
       "    <tr>\n",
       "      <th>208</th>\n",
       "      <td>210</td>\n",
       "      <td>0.000000</td>\n",
       "      <td>0.000000</td>\n",
       "      <td>721.769231</td>\n",
       "      <td>722.000000</td>\n",
       "      <td>0.000000</td>\n",
       "      <td>1018.090909</td>\n",
       "      <td>0.000000</td>\n",
       "      <td>0.000000</td>\n",
       "      <td>0.0</td>\n",
       "      <td>...</td>\n",
       "      <td>0.000000</td>\n",
       "      <td>0.0</td>\n",
       "      <td>2743.000000</td>\n",
       "      <td>0.000000</td>\n",
       "      <td>0.000000</td>\n",
       "      <td>0.000000</td>\n",
       "      <td>3037.666667</td>\n",
       "      <td>3016.743590</td>\n",
       "      <td>0.000000</td>\n",
       "      <td>0.000000</td>\n",
       "    </tr>\n",
       "    <tr>\n",
       "      <th>209</th>\n",
       "      <td>211</td>\n",
       "      <td>714.179487</td>\n",
       "      <td>0.000000</td>\n",
       "      <td>691.000000</td>\n",
       "      <td>713.933333</td>\n",
       "      <td>714.121951</td>\n",
       "      <td>1019.000000</td>\n",
       "      <td>0.000000</td>\n",
       "      <td>1005.000000</td>\n",
       "      <td>0.0</td>\n",
       "      <td>...</td>\n",
       "      <td>0.000000</td>\n",
       "      <td>0.0</td>\n",
       "      <td>0.000000</td>\n",
       "      <td>0.000000</td>\n",
       "      <td>0.000000</td>\n",
       "      <td>0.000000</td>\n",
       "      <td>0.000000</td>\n",
       "      <td>3006.000000</td>\n",
       "      <td>0.000000</td>\n",
       "      <td>0.000000</td>\n",
       "    </tr>\n",
       "  </tbody>\n",
       "</table>\n",
       "<p>210 rows × 91 columns</p>\n",
       "</div>"
      ],
      "text/plain": [
       "range_delay  Sensor ID  13_10000_mean_lower  13_16800_mean_lower  \\\n",
       "0                    1           826.520000           826.166667   \n",
       "1                    2             0.000000           678.600000   \n",
       "2                    3             0.000000             0.000000   \n",
       "3                    4             0.000000             0.000000   \n",
       "4                    5           742.348837           718.333333   \n",
       "..                 ...                  ...                  ...   \n",
       "205                207             0.000000             0.000000   \n",
       "206                208             0.000000             0.000000   \n",
       "207                209           758.272727             0.000000   \n",
       "208                210             0.000000             0.000000   \n",
       "209                211           714.179487             0.000000   \n",
       "\n",
       "range_delay  13_3000_mean_lower  13_6000_mean_lower  13_8000_mean_lower  \\\n",
       "0                    826.346939          826.360000          826.510204   \n",
       "1                    678.500000          678.904762          678.510204   \n",
       "2                      0.000000            0.000000            0.000000   \n",
       "3                      0.000000            0.000000            0.000000   \n",
       "4                      0.000000          742.619048          742.428571   \n",
       "..                          ...                 ...                 ...   \n",
       "205                    0.000000            0.000000            0.000000   \n",
       "206                    0.000000            0.000000          718.789474   \n",
       "207                  758.600000          751.000000            0.000000   \n",
       "208                  721.769231          722.000000            0.000000   \n",
       "209                  691.000000          713.933333          714.121951   \n",
       "\n",
       "range_delay  18_10000_mean_lower  18_16800_mean_lower  18_3000_mean_lower  \\\n",
       "0                    1070.040000          1059.000000            0.000000   \n",
       "1                     942.166667             0.000000          943.000000   \n",
       "2                    1007.000000             0.000000         1005.736842   \n",
       "3                    1023.000000          1029.818182            0.000000   \n",
       "4                       0.000000          1024.142857         1023.000000   \n",
       "..                           ...                  ...                 ...   \n",
       "205                     0.000000             0.000000            0.000000   \n",
       "206                     0.000000             0.000000            0.000000   \n",
       "207                     0.000000          1029.909091            0.000000   \n",
       "208                  1018.090909             0.000000            0.000000   \n",
       "209                  1019.000000             0.000000         1005.000000   \n",
       "\n",
       "range_delay  18_6000_mean_lower  ...  48_10000_mean_upper  \\\n",
       "0                           0.0  ...          2795.000000   \n",
       "1                           0.0  ...          2669.521739   \n",
       "2                           0.0  ...             0.000000   \n",
       "3                        1030.2  ...             0.000000   \n",
       "4                        1022.2  ...             0.000000   \n",
       "..                          ...  ...                  ...   \n",
       "205                         0.0  ...             0.000000   \n",
       "206                         0.0  ...          2738.333333   \n",
       "207                         0.0  ...             0.000000   \n",
       "208                         0.0  ...             0.000000   \n",
       "209                         0.0  ...             0.000000   \n",
       "\n",
       "range_delay  48_16800_mean_upper  48_3000_mean_upper  48_6000_mean_upper  \\\n",
       "0                            0.0         2809.400000         2803.000000   \n",
       "1                            0.0            0.000000            0.000000   \n",
       "2                            0.0         2743.000000         2727.000000   \n",
       "3                            0.0            0.000000         2755.195122   \n",
       "4                         2755.0            0.000000            0.000000   \n",
       "..                           ...                 ...                 ...   \n",
       "205                          0.0            0.000000            0.000000   \n",
       "206                          0.0         2739.333333            0.000000   \n",
       "207                       2782.0         2779.000000         2778.111111   \n",
       "208                          0.0         2743.000000            0.000000   \n",
       "209                          0.0            0.000000            0.000000   \n",
       "\n",
       "range_delay  48_8000_mean_upper  53_10000_mean_upper  53_16800_mean_upper  \\\n",
       "0                   2800.333333          2995.545455             0.000000   \n",
       "1                   2691.000000             0.000000          2371.000000   \n",
       "2                      0.000000             0.000000             0.000000   \n",
       "3                      0.000000          3000.000000          3019.000000   \n",
       "4                      0.000000             0.000000             0.000000   \n",
       "..                          ...                  ...                  ...   \n",
       "205                    0.000000             0.000000             0.000000   \n",
       "206                    0.000000             0.000000             0.000000   \n",
       "207                    0.000000             0.000000             0.000000   \n",
       "208                    0.000000             0.000000          3037.666667   \n",
       "209                    0.000000             0.000000             0.000000   \n",
       "\n",
       "range_delay  53_3000_mean_upper  53_6000_mean_upper  53_8000_mean_upper  \n",
       "0                   2995.444444         3039.727273         3004.043478  \n",
       "1                      0.000000         2951.744186            0.000000  \n",
       "2                      0.000000            0.000000            0.000000  \n",
       "3                   3000.116279         2999.930233         3000.116279  \n",
       "4                      0.000000            0.000000            0.000000  \n",
       "..                          ...                 ...                 ...  \n",
       "205                    0.000000            0.000000            0.000000  \n",
       "206                    0.000000            0.000000            0.000000  \n",
       "207                    0.000000            0.000000            0.000000  \n",
       "208                 3016.743590            0.000000            0.000000  \n",
       "209                 3006.000000            0.000000            0.000000  \n",
       "\n",
       "[210 rows x 91 columns]"
      ]
     },
     "execution_count": 29,
     "metadata": {},
     "output_type": "execute_result"
    }
   ],
   "source": [
    "def drop_highly_correlated_features(df, threshold=0.8):\n",
    "    \"\"\"\n",
    "    Drops highly positively correlated features from a DataFrame.\n",
    "    \n",
    "    Parameters:\n",
    "    df (pd.DataFrame): The input DataFrame.\n",
    "    threshold (float): The correlation threshold for dropping features. Defaults to 0.8.\n",
    "    \n",
    "    Returns:\n",
    "    pd.DataFrame: DataFrame with highly positively correlated features removed.\n",
    "    list: List of dropped features.\n",
    "    \"\"\"\n",
    "    # Calculate the correlation matrix\n",
    "    corr_matrix = df.corr()\n",
    "    \n",
    "    # Identify highly positively correlated pairs\n",
    "    to_drop = set()\n",
    "    for i in range(corr_matrix.shape[0]):\n",
    "        for j in range(i + 1, corr_matrix.shape[1]):\n",
    "            if corr_matrix.iloc[i, j] > threshold:\n",
    "                colname = corr_matrix.columns[j]\n",
    "                to_drop.add(colname)\n",
    "    \n",
    "    # Drop the identified features\n",
    "    reduced_df = df.drop(columns=to_drop)\n",
    "    \n",
    "    return reduced_df, list(to_drop)\n",
    "\n",
    "# Apply the function to the dataset\n",
    "reduced_data_corr, dropped_features_corr = drop_highly_correlated_features(df_range_delay_ends, threshold=0.7)\n",
    "\n",
    "reduced_data_corr"
   ]
  },
  {
   "cell_type": "code",
   "execution_count": 30,
   "metadata": {},
   "outputs": [
    {
     "data": {
      "text/plain": [
       "[]"
      ]
     },
     "execution_count": 30,
     "metadata": {},
     "output_type": "execute_result"
    }
   ],
   "source": [
    "dropped_features_corr"
   ]
  },
  {
   "cell_type": "code",
   "execution_count": 31,
   "metadata": {},
   "outputs": [],
   "source": [
    "def plot_pca_interactive(data, sensor_id_col='Sensor ID', n_components=2):\n",
    "    \"\"\"\n",
    "    Plots an interactive scatter plot using PCA components.\n",
    "\n",
    "    Parameters:\n",
    "    data (pd.DataFrame): The input DataFrame containing features and Sensor ID.\n",
    "    sensor_id_col (str): The name of the column containing sensor IDs.\n",
    "    n_components (int): Number of principal components to compute.\n",
    "\n",
    "    Returns:\n",
    "    None: Displays an interactive Plotly scatter plot.\n",
    "    \"\"\"\n",
    "    # Apply PCA\n",
    "    pca = PCA(n_components=n_components)\n",
    "    principal_components = pca.fit_transform(data.drop(columns=[sensor_id_col]))\n",
    "\n",
    "    # Create a DataFrame with the principal components and Sensor ID\n",
    "    principal_df = pd.DataFrame(data=principal_components, columns=[f'PC{i+1}' for i in range(n_components)])\n",
    "    principal_df[sensor_id_col] = data[sensor_id_col]\n",
    "\n",
    "    # Create an interactive scatter plot using Plotly\n",
    "    fig = px.scatter(\n",
    "        principal_df,\n",
    "        x='PC1',\n",
    "        y='PC2',\n",
    "        color=sensor_id_col,\n",
    "        title='Sensors Visualized Using Principal Components',\n",
    "        labels={'PC1': 'Principal Component 1', 'PC2': 'Principal Component 2'},\n",
    "        hover_data=[sensor_id_col]\n",
    "    )\n",
    "\n",
    "    # Show the plot\n",
    "    fig.show()"
   ]
  },
  {
   "cell_type": "code",
   "execution_count": 32,
   "metadata": {},
   "outputs": [
    {
     "data": {
      "application/vnd.plotly.v1+json": {
       "config": {
        "plotlyServerURL": "https://plot.ly"
       },
       "data": [
        {
         "customdata": [
          [
           1
          ],
          [
           2
          ],
          [
           3
          ],
          [
           4
          ],
          [
           5
          ],
          [
           6
          ],
          [
           7
          ],
          [
           8
          ],
          [
           9
          ],
          [
           10
          ],
          [
           11
          ],
          [
           12
          ],
          [
           13
          ],
          [
           14
          ],
          [
           15
          ],
          [
           16
          ],
          [
           17
          ],
          [
           18
          ],
          [
           19
          ],
          [
           20
          ],
          [
           21
          ],
          [
           22
          ],
          [
           23
          ],
          [
           24
          ],
          [
           25
          ],
          [
           26
          ],
          [
           27
          ],
          [
           28
          ],
          [
           29
          ],
          [
           30
          ],
          [
           32
          ],
          [
           33
          ],
          [
           34
          ],
          [
           35
          ],
          [
           36
          ],
          [
           37
          ],
          [
           38
          ],
          [
           39
          ],
          [
           40
          ],
          [
           41
          ],
          [
           42
          ],
          [
           43
          ],
          [
           44
          ],
          [
           45
          ],
          [
           46
          ],
          [
           47
          ],
          [
           48
          ],
          [
           49
          ],
          [
           50
          ],
          [
           51
          ],
          [
           52
          ],
          [
           53
          ],
          [
           54
          ],
          [
           55
          ],
          [
           56
          ],
          [
           57
          ],
          [
           58
          ],
          [
           59
          ],
          [
           60
          ],
          [
           61
          ],
          [
           62
          ],
          [
           63
          ],
          [
           64
          ],
          [
           65
          ],
          [
           66
          ],
          [
           67
          ],
          [
           68
          ],
          [
           69
          ],
          [
           70
          ],
          [
           71
          ],
          [
           72
          ],
          [
           73
          ],
          [
           74
          ],
          [
           75
          ],
          [
           76
          ],
          [
           77
          ],
          [
           78
          ],
          [
           79
          ],
          [
           80
          ],
          [
           81
          ],
          [
           82
          ],
          [
           83
          ],
          [
           84
          ],
          [
           85
          ],
          [
           86
          ],
          [
           87
          ],
          [
           88
          ],
          [
           89
          ],
          [
           90
          ],
          [
           91
          ],
          [
           92
          ],
          [
           93
          ],
          [
           94
          ],
          [
           95
          ],
          [
           96
          ],
          [
           97
          ],
          [
           98
          ],
          [
           99
          ],
          [
           100
          ],
          [
           101
          ],
          [
           102
          ],
          [
           103
          ],
          [
           104
          ],
          [
           105
          ],
          [
           106
          ],
          [
           107
          ],
          [
           108
          ],
          [
           109
          ],
          [
           110
          ],
          [
           111
          ],
          [
           112
          ],
          [
           113
          ],
          [
           114
          ],
          [
           115
          ],
          [
           116
          ],
          [
           117
          ],
          [
           118
          ],
          [
           119
          ],
          [
           120
          ],
          [
           121
          ],
          [
           122
          ],
          [
           123
          ],
          [
           124
          ],
          [
           125
          ],
          [
           126
          ],
          [
           127
          ],
          [
           128
          ],
          [
           129
          ],
          [
           130
          ],
          [
           131
          ],
          [
           132
          ],
          [
           133
          ],
          [
           134
          ],
          [
           135
          ],
          [
           136
          ],
          [
           137
          ],
          [
           138
          ],
          [
           139
          ],
          [
           140
          ],
          [
           141
          ],
          [
           142
          ],
          [
           143
          ],
          [
           144
          ],
          [
           145
          ],
          [
           146
          ],
          [
           147
          ],
          [
           148
          ],
          [
           149
          ],
          [
           150
          ],
          [
           151
          ],
          [
           152
          ],
          [
           153
          ],
          [
           154
          ],
          [
           155
          ],
          [
           156
          ],
          [
           157
          ],
          [
           158
          ],
          [
           159
          ],
          [
           160
          ],
          [
           161
          ],
          [
           162
          ],
          [
           163
          ],
          [
           164
          ],
          [
           165
          ],
          [
           166
          ],
          [
           167
          ],
          [
           168
          ],
          [
           169
          ],
          [
           170
          ],
          [
           171
          ],
          [
           172
          ],
          [
           173
          ],
          [
           174
          ],
          [
           175
          ],
          [
           176
          ],
          [
           177
          ],
          [
           178
          ],
          [
           179
          ],
          [
           180
          ],
          [
           181
          ],
          [
           182
          ],
          [
           183
          ],
          [
           184
          ],
          [
           185
          ],
          [
           186
          ],
          [
           187
          ],
          [
           188
          ],
          [
           189
          ],
          [
           190
          ],
          [
           191
          ],
          [
           192
          ],
          [
           193
          ],
          [
           194
          ],
          [
           195
          ],
          [
           196
          ],
          [
           197
          ],
          [
           198
          ],
          [
           199
          ],
          [
           200
          ],
          [
           201
          ],
          [
           202
          ],
          [
           203
          ],
          [
           204
          ],
          [
           205
          ],
          [
           206
          ],
          [
           207
          ],
          [
           208
          ],
          [
           209
          ],
          [
           210
          ],
          [
           211
          ]
         ],
         "hovertemplate": "Principal Component 1=%{x}<br>Principal Component 2=%{y}<br>Sensor ID=%{marker.color}<extra></extra>",
         "legendgroup": "",
         "marker": {
          "color": [
           1,
           2,
           3,
           4,
           5,
           6,
           7,
           8,
           9,
           10,
           11,
           12,
           13,
           14,
           15,
           16,
           17,
           18,
           19,
           20,
           21,
           22,
           23,
           24,
           25,
           26,
           27,
           28,
           29,
           30,
           32,
           33,
           34,
           35,
           36,
           37,
           38,
           39,
           40,
           41,
           42,
           43,
           44,
           45,
           46,
           47,
           48,
           49,
           50,
           51,
           52,
           53,
           54,
           55,
           56,
           57,
           58,
           59,
           60,
           61,
           62,
           63,
           64,
           65,
           66,
           67,
           68,
           69,
           70,
           71,
           72,
           73,
           74,
           75,
           76,
           77,
           78,
           79,
           80,
           81,
           82,
           83,
           84,
           85,
           86,
           87,
           88,
           89,
           90,
           91,
           92,
           93,
           94,
           95,
           96,
           97,
           98,
           99,
           100,
           101,
           102,
           103,
           104,
           105,
           106,
           107,
           108,
           109,
           110,
           111,
           112,
           113,
           114,
           115,
           116,
           117,
           118,
           119,
           120,
           121,
           122,
           123,
           124,
           125,
           126,
           127,
           128,
           129,
           130,
           131,
           132,
           133,
           134,
           135,
           136,
           137,
           138,
           139,
           140,
           141,
           142,
           143,
           144,
           145,
           146,
           147,
           148,
           149,
           150,
           151,
           152,
           153,
           154,
           155,
           156,
           157,
           158,
           159,
           160,
           161,
           162,
           163,
           164,
           165,
           166,
           167,
           168,
           169,
           170,
           171,
           172,
           173,
           174,
           175,
           176,
           177,
           178,
           179,
           180,
           181,
           182,
           183,
           184,
           185,
           186,
           187,
           188,
           189,
           190,
           191,
           192,
           193,
           194,
           195,
           196,
           197,
           198,
           199,
           200,
           201,
           202,
           203,
           204,
           205,
           206,
           207,
           208,
           209,
           210,
           211
          ],
          "coloraxis": "coloraxis",
          "symbol": "circle"
         },
         "mode": "markers",
         "name": "",
         "orientation": "v",
         "showlegend": false,
         "type": "scatter",
         "x": [
          -7273.476304953265,
          -7420.859036447755,
          -7268.110981117821,
          -8064.767421613656,
          -8083.291493912826,
          -8171.540146412936,
          -7323.806382083791,
          -8063.303907184864,
          -8115.138960230346,
          -8147.315366394051,
          -7239.505810872207,
          -7326.325541172304,
          -8127.053490615037,
          -8036.69033077152,
          -7977.8088930615095,
          -8078.422899124778,
          -8051.87329208923,
          -8083.32527781962,
          -8025.530123965139,
          -7769.718862390066,
          -8127.7675312231995,
          -8062.838057785136,
          -8091.512348662946,
          -8119.411481777347,
          -8015.536908593749,
          -8110.60424115583,
          -8024.642745749447,
          -8061.306707774538,
          -8100.563458026908,
          -7960.740006275549,
          -8043.630430513575,
          -8055.065842957497,
          -7990.789601605706,
          -7204.47174811102,
          -7311.503370428162,
          -8035.775112039517,
          -8065.604806902261,
          -7320.965397499317,
          -7380.031670650952,
          -8012.735124023204,
          -8059.770871395594,
          -7465.380784580862,
          -7323.205505451872,
          -8044.968405543977,
          -8088.0589722821705,
          -8185.939445660238,
          -8074.263106373256,
          -8086.728633869062,
          -8136.122986752955,
          -8090.552959496711,
          -8104.362176425151,
          -8030.930915271362,
          -8016.960784090369,
          -7274.405252150816,
          -8000.057214678962,
          57407.307585620314,
          -8094.3276558493635,
          -7324.75001453958,
          -7998.879206165644,
          -7850.568357894067,
          -8098.501936480947,
          -8088.546300704899,
          57456.92458354639,
          -8060.055679663463,
          -7281.326371987202,
          -7288.196456624581,
          -8081.765419548177,
          -8123.311361109218,
          -8056.1739446514275,
          -7984.647186761312,
          -8083.535483453794,
          -8039.591301460795,
          -7269.205021085656,
          -8045.630895726385,
          -7682.976478505853,
          -8065.521320981669,
          -8001.447064049167,
          -8084.164961666687,
          -7389.886261779053,
          -8071.383808731181,
          -7365.597126850383,
          -8219.691656040459,
          -7370.579049044632,
          -8056.077352625976,
          -8110.081707836543,
          -8121.876654190594,
          -8143.661502989487,
          -7347.543442314209,
          -8034.876081380192,
          -8040.917946127949,
          -7337.991087430594,
          -7981.130244895971,
          -8139.996989642463,
          -8043.762181663726,
          -8040.134596125136,
          -7961.954607853062,
          -7983.493314863643,
          -7242.277196366016,
          -8190.256860423986,
          -7270.784129765732,
          -8081.939030563349,
          -8017.265894770133,
          -7163.963592014401,
          -7372.439150460388,
          -7444.480353389436,
          -8002.520417527516,
          -8064.135200080806,
          57414.22264320249,
          -7186.609685197147,
          -8079.39874103596,
          -7970.496151067265,
          57509.47993341668,
          -7932.089346837197,
          -7403.019798083409,
          -7416.207883146513,
          -7364.648400438746,
          -8064.349418713177,
          -7283.883833867012,
          -8161.995189772368,
          57422.97512796944,
          -8123.4436660002775,
          -7974.953849132122,
          57350.21034503598,
          -8073.559336795173,
          -8129.797376970446,
          57386.021951929644,
          -7275.342226909297,
          -7184.32799668737,
          57317.3100488847,
          -8043.07937080256,
          -7981.86275320352,
          -7266.919169840891,
          -7299.249885013055,
          -7355.6278034148245,
          -7345.36298550355,
          57337.45573307898,
          -8036.486034498693,
          -6512.860261348813,
          -8041.981552742311,
          57478.49244733208,
          -8116.391999981833,
          -7334.795784254671,
          57360.07294020784,
          -8048.915669152926,
          58249.06346783173,
          57424.16312336213,
          57421.88658321689,
          58744.708570371324,
          57416.92698399586,
          57292.065252051274,
          -7998.742160426879,
          -8052.085899256607,
          -8070.463932245879,
          57353.89380877746,
          -7967.31193375311,
          57385.40715993329,
          -8017.589058937685,
          57670.69957851132,
          -6408.152201031623,
          -7217.974133121739,
          -8001.7212795138985,
          -7879.694673103514,
          -7994.51787086002,
          -8054.904999017939,
          -5605.54365992367,
          -7996.008390369264,
          -8066.014954145877,
          -8097.100161299705,
          -7243.238226435852,
          -7308.345594626956,
          -8096.301192583354,
          -6665.1825664852395,
          -8176.697786292019,
          57292.12276931819,
          -8018.038004778764,
          -7228.809663685002,
          -7197.079855197119,
          -8100.315229308514,
          57696.233273635386,
          -8032.8943341112645,
          -7949.467309767916,
          -7258.518128162304,
          -8030.308792372779,
          -8022.9888743914,
          -6890.276670424751,
          57420.376573495,
          -7595.314932908783,
          -7732.037168582526,
          -8090.510431266719,
          -7280.701975225005,
          -8036.256730439138,
          -8038.484158349649,
          -8078.114695962326,
          -7242.738535643618,
          -7217.785273521828,
          -7341.59485848425,
          -8012.680087291237,
          -8114.847229800046,
          -8013.40446175472,
          -7320.357005805588,
          -7469.475199413467,
          -8130.525970508847,
          -7262.571071542089,
          57358.61139345098,
          -8069.5514581572625,
          -8032.481077906564,
          -7948.0593443153675,
          -7226.9182356256515,
          -8029.163960924852,
          60709.77467596432
         ],
         "xaxis": "x",
         "y": [
          -1897.0393781220687,
          -1809.4315814027982,
          -1952.008223220919,
          -846.6846472961598,
          -1814.2625518572397,
          -1894.139211018736,
          -1807.4571558325752,
          -1774.13205887528,
          -1813.3551399012488,
          -1725.7704820289812,
          -1903.6689518197427,
          -1817.4702159771555,
          -745.2347945674666,
          -1876.4507550604333,
          -841.6119770770839,
          -1778.8071211474671,
          -789.0007740761439,
          -1824.4861484386813,
          -828.3241098898238,
          -1742.3535199156554,
          -1823.2105326422893,
          -1881.2017592364796,
          -1837.4187602782179,
          -1860.618616261323,
          -1787.222154284195,
          -1926.5170605034089,
          -1816.3260697678193,
          -879.7378844359099,
          -800.7910331313708,
          -1954.927542314539,
          -1836.1509861739385,
          -1754.7782933960218,
          -1850.1329707430014,
          -1925.5393291634773,
          -1891.74693710161,
          -767.0361542255042,
          -1720.5789559999112,
          -678.8198208070316,
          -827.969078683707,
          -1891.9860164315053,
          -1836.6037639260906,
          -868.322981500726,
          -1895.0056032229184,
          -1850.6147486901161,
          -1887.1430488264102,
          -1774.3188345842225,
          -775.9444835173763,
          -1836.3375071398536,
          -1805.2566137217916,
          -1966.8902223497294,
          -1990.0189422568722,
          -1862.4324562133409,
          -1899.4363458878688,
          -820.5812726325597,
          -1894.409908707895,
          -3352.4019663382232,
          -741.9189578877947,
          -1948.2453984168874,
          -713.1948064588386,
          6269.203658016576,
          -2006.2499687754757,
          -1812.7818060900636,
          -2679.1275328533434,
          -795.2461069338781,
          -2081.873284683931,
          -1927.9930922515907,
          -1787.0745213511448,
          -1741.7575855902683,
          -1951.9197156447772,
          -1973.4052139422429,
          -1842.1738700052458,
          -1855.0284444279198,
          -871.2938749004032,
          -1819.2813455782746,
          12100.268721361397,
          -1873.1980679127305,
          -806.9000742610909,
          -1882.698276116801,
          -1956.0237513220504,
          -724.862155229791,
          -1830.6109162278703,
          -1900.7293252957156,
          -1760.779373553633,
          -717.0074727498571,
          -1875.618362865955,
          -1866.1646212950604,
          -1832.4017241274178,
          -1871.6333381087034,
          -1876.1025379720638,
          -1843.8789000738877,
          -1860.347551365777,
          -911.8230264153221,
          -1770.617337214521,
          -1940.7411774933225,
          -837.8845773083632,
          -755.0201446549353,
          -1861.8184131931368,
          -758.4476953229683,
          -1784.323901482771,
          -665.7333966403005,
          -698.5295614216658,
          -1749.4109277276466,
          -918.4973602811764,
          -1994.4118173355334,
          -1770.4040596482064,
          -811.8082945017014,
          -1815.0059410450026,
          -3447.234359860896,
          -766.0583859672336,
          -1807.4120305749557,
          -1870.2320794554375,
          -3483.8475985309315,
          -894.6691874358465,
          -1854.7962108725524,
          -1858.5898747038777,
          -1899.695496273925,
          -790.9132386138291,
          -1822.1337234000653,
          -1660.5318940893435,
          -3395.1693557298336,
          -1901.1231919019117,
          -758.3403800939443,
          -3290.003398761788,
          -1880.8846528740096,
          -1740.1091663772181,
          -3461.568523883449,
          -1935.7558345971174,
          -1851.7175819369734,
          -2764.3545355581728,
          -699.939127605356,
          -1941.2970584727261,
          -798.003868272441,
          -1809.9072033026735,
          -1855.9990948957932,
          -1827.6703685352632,
          -3462.3078847551897,
          -1769.6757684837853,
          63868.43116044699,
          -1896.5077146853469,
          -2400.133061727498,
          -1917.7467357146656,
          -1931.6343541429287,
          -3378.784666911301,
          -804.0699186256998,
          -2787.858834867473,
          -3477.679924769713,
          -3572.73753769727,
          49152.05153596461,
          -2665.180292840428,
          -3373.0293304710463,
          -1851.6601218347967,
          -1878.5242485777192,
          -1764.417109555519,
          -3422.134152289765,
          -835.8609160442769,
          -2364.1786910132364,
          -1884.220487354341,
          8215.208786737558,
          63762.099808268074,
          -1963.362290545054,
          -843.1111100962903,
          8289.289903097491,
          -1878.4532263329277,
          -754.0703721335094,
          63689.032248872376,
          -891.310153979784,
          -842.3665983525586,
          -1775.2972304283658,
          -1868.4216326287683,
          -1829.6054450714364,
          -1917.8195114955126,
          20463.28869956306,
          -1768.9719325817837,
          -3339.1321352029927,
          -804.3674477704519,
          -1864.461931789691,
          -1904.1691951508037,
          -798.5824743239532,
          8079.3910644876905,
          -1919.7799731435512,
          -1853.9060965100598,
          -1921.6534271096784,
          -1905.1601826407114,
          -1076.7066250194914,
          12033.031390147311,
          -3474.0887945189925,
          15146.231262698173,
          12141.565551206288,
          -1859.4484924180451,
          -900.8604962274139,
          -1907.7905356446695,
          -1841.0165022534356,
          -1787.5363778270107,
          -738.7210982863674,
          -1918.1474310900396,
          -802.9341023991643,
          -1840.2970571034616,
          -1860.1469997532417,
          -710.4846326436415,
          -1883.7185073443286,
          -1739.2571887789002,
          -1960.222592427223,
          -805.321355850392,
          -3525.363984214431,
          -1850.8481742487804,
          -1819.3724807820922,
          -871.2201843396467,
          -827.3938759094478,
          -841.6753446456652,
          -4634.102356334415
         ],
         "yaxis": "y"
        }
       ],
       "layout": {
        "coloraxis": {
         "colorbar": {
          "title": {
           "text": "Sensor ID"
          }
         },
         "colorscale": [
          [
           0,
           "#0d0887"
          ],
          [
           0.1111111111111111,
           "#46039f"
          ],
          [
           0.2222222222222222,
           "#7201a8"
          ],
          [
           0.3333333333333333,
           "#9c179e"
          ],
          [
           0.4444444444444444,
           "#bd3786"
          ],
          [
           0.5555555555555556,
           "#d8576b"
          ],
          [
           0.6666666666666666,
           "#ed7953"
          ],
          [
           0.7777777777777778,
           "#fb9f3a"
          ],
          [
           0.8888888888888888,
           "#fdca26"
          ],
          [
           1,
           "#f0f921"
          ]
         ]
        },
        "legend": {
         "tracegroupgap": 0
        },
        "template": {
         "data": {
          "bar": [
           {
            "error_x": {
             "color": "#2a3f5f"
            },
            "error_y": {
             "color": "#2a3f5f"
            },
            "marker": {
             "line": {
              "color": "#E5ECF6",
              "width": 0.5
             },
             "pattern": {
              "fillmode": "overlay",
              "size": 10,
              "solidity": 0.2
             }
            },
            "type": "bar"
           }
          ],
          "barpolar": [
           {
            "marker": {
             "line": {
              "color": "#E5ECF6",
              "width": 0.5
             },
             "pattern": {
              "fillmode": "overlay",
              "size": 10,
              "solidity": 0.2
             }
            },
            "type": "barpolar"
           }
          ],
          "carpet": [
           {
            "aaxis": {
             "endlinecolor": "#2a3f5f",
             "gridcolor": "white",
             "linecolor": "white",
             "minorgridcolor": "white",
             "startlinecolor": "#2a3f5f"
            },
            "baxis": {
             "endlinecolor": "#2a3f5f",
             "gridcolor": "white",
             "linecolor": "white",
             "minorgridcolor": "white",
             "startlinecolor": "#2a3f5f"
            },
            "type": "carpet"
           }
          ],
          "choropleth": [
           {
            "colorbar": {
             "outlinewidth": 0,
             "ticks": ""
            },
            "type": "choropleth"
           }
          ],
          "contour": [
           {
            "colorbar": {
             "outlinewidth": 0,
             "ticks": ""
            },
            "colorscale": [
             [
              0,
              "#0d0887"
             ],
             [
              0.1111111111111111,
              "#46039f"
             ],
             [
              0.2222222222222222,
              "#7201a8"
             ],
             [
              0.3333333333333333,
              "#9c179e"
             ],
             [
              0.4444444444444444,
              "#bd3786"
             ],
             [
              0.5555555555555556,
              "#d8576b"
             ],
             [
              0.6666666666666666,
              "#ed7953"
             ],
             [
              0.7777777777777778,
              "#fb9f3a"
             ],
             [
              0.8888888888888888,
              "#fdca26"
             ],
             [
              1,
              "#f0f921"
             ]
            ],
            "type": "contour"
           }
          ],
          "contourcarpet": [
           {
            "colorbar": {
             "outlinewidth": 0,
             "ticks": ""
            },
            "type": "contourcarpet"
           }
          ],
          "heatmap": [
           {
            "colorbar": {
             "outlinewidth": 0,
             "ticks": ""
            },
            "colorscale": [
             [
              0,
              "#0d0887"
             ],
             [
              0.1111111111111111,
              "#46039f"
             ],
             [
              0.2222222222222222,
              "#7201a8"
             ],
             [
              0.3333333333333333,
              "#9c179e"
             ],
             [
              0.4444444444444444,
              "#bd3786"
             ],
             [
              0.5555555555555556,
              "#d8576b"
             ],
             [
              0.6666666666666666,
              "#ed7953"
             ],
             [
              0.7777777777777778,
              "#fb9f3a"
             ],
             [
              0.8888888888888888,
              "#fdca26"
             ],
             [
              1,
              "#f0f921"
             ]
            ],
            "type": "heatmap"
           }
          ],
          "heatmapgl": [
           {
            "colorbar": {
             "outlinewidth": 0,
             "ticks": ""
            },
            "colorscale": [
             [
              0,
              "#0d0887"
             ],
             [
              0.1111111111111111,
              "#46039f"
             ],
             [
              0.2222222222222222,
              "#7201a8"
             ],
             [
              0.3333333333333333,
              "#9c179e"
             ],
             [
              0.4444444444444444,
              "#bd3786"
             ],
             [
              0.5555555555555556,
              "#d8576b"
             ],
             [
              0.6666666666666666,
              "#ed7953"
             ],
             [
              0.7777777777777778,
              "#fb9f3a"
             ],
             [
              0.8888888888888888,
              "#fdca26"
             ],
             [
              1,
              "#f0f921"
             ]
            ],
            "type": "heatmapgl"
           }
          ],
          "histogram": [
           {
            "marker": {
             "pattern": {
              "fillmode": "overlay",
              "size": 10,
              "solidity": 0.2
             }
            },
            "type": "histogram"
           }
          ],
          "histogram2d": [
           {
            "colorbar": {
             "outlinewidth": 0,
             "ticks": ""
            },
            "colorscale": [
             [
              0,
              "#0d0887"
             ],
             [
              0.1111111111111111,
              "#46039f"
             ],
             [
              0.2222222222222222,
              "#7201a8"
             ],
             [
              0.3333333333333333,
              "#9c179e"
             ],
             [
              0.4444444444444444,
              "#bd3786"
             ],
             [
              0.5555555555555556,
              "#d8576b"
             ],
             [
              0.6666666666666666,
              "#ed7953"
             ],
             [
              0.7777777777777778,
              "#fb9f3a"
             ],
             [
              0.8888888888888888,
              "#fdca26"
             ],
             [
              1,
              "#f0f921"
             ]
            ],
            "type": "histogram2d"
           }
          ],
          "histogram2dcontour": [
           {
            "colorbar": {
             "outlinewidth": 0,
             "ticks": ""
            },
            "colorscale": [
             [
              0,
              "#0d0887"
             ],
             [
              0.1111111111111111,
              "#46039f"
             ],
             [
              0.2222222222222222,
              "#7201a8"
             ],
             [
              0.3333333333333333,
              "#9c179e"
             ],
             [
              0.4444444444444444,
              "#bd3786"
             ],
             [
              0.5555555555555556,
              "#d8576b"
             ],
             [
              0.6666666666666666,
              "#ed7953"
             ],
             [
              0.7777777777777778,
              "#fb9f3a"
             ],
             [
              0.8888888888888888,
              "#fdca26"
             ],
             [
              1,
              "#f0f921"
             ]
            ],
            "type": "histogram2dcontour"
           }
          ],
          "mesh3d": [
           {
            "colorbar": {
             "outlinewidth": 0,
             "ticks": ""
            },
            "type": "mesh3d"
           }
          ],
          "parcoords": [
           {
            "line": {
             "colorbar": {
              "outlinewidth": 0,
              "ticks": ""
             }
            },
            "type": "parcoords"
           }
          ],
          "pie": [
           {
            "automargin": true,
            "type": "pie"
           }
          ],
          "scatter": [
           {
            "fillpattern": {
             "fillmode": "overlay",
             "size": 10,
             "solidity": 0.2
            },
            "type": "scatter"
           }
          ],
          "scatter3d": [
           {
            "line": {
             "colorbar": {
              "outlinewidth": 0,
              "ticks": ""
             }
            },
            "marker": {
             "colorbar": {
              "outlinewidth": 0,
              "ticks": ""
             }
            },
            "type": "scatter3d"
           }
          ],
          "scattercarpet": [
           {
            "marker": {
             "colorbar": {
              "outlinewidth": 0,
              "ticks": ""
             }
            },
            "type": "scattercarpet"
           }
          ],
          "scattergeo": [
           {
            "marker": {
             "colorbar": {
              "outlinewidth": 0,
              "ticks": ""
             }
            },
            "type": "scattergeo"
           }
          ],
          "scattergl": [
           {
            "marker": {
             "colorbar": {
              "outlinewidth": 0,
              "ticks": ""
             }
            },
            "type": "scattergl"
           }
          ],
          "scattermapbox": [
           {
            "marker": {
             "colorbar": {
              "outlinewidth": 0,
              "ticks": ""
             }
            },
            "type": "scattermapbox"
           }
          ],
          "scatterpolar": [
           {
            "marker": {
             "colorbar": {
              "outlinewidth": 0,
              "ticks": ""
             }
            },
            "type": "scatterpolar"
           }
          ],
          "scatterpolargl": [
           {
            "marker": {
             "colorbar": {
              "outlinewidth": 0,
              "ticks": ""
             }
            },
            "type": "scatterpolargl"
           }
          ],
          "scatterternary": [
           {
            "marker": {
             "colorbar": {
              "outlinewidth": 0,
              "ticks": ""
             }
            },
            "type": "scatterternary"
           }
          ],
          "surface": [
           {
            "colorbar": {
             "outlinewidth": 0,
             "ticks": ""
            },
            "colorscale": [
             [
              0,
              "#0d0887"
             ],
             [
              0.1111111111111111,
              "#46039f"
             ],
             [
              0.2222222222222222,
              "#7201a8"
             ],
             [
              0.3333333333333333,
              "#9c179e"
             ],
             [
              0.4444444444444444,
              "#bd3786"
             ],
             [
              0.5555555555555556,
              "#d8576b"
             ],
             [
              0.6666666666666666,
              "#ed7953"
             ],
             [
              0.7777777777777778,
              "#fb9f3a"
             ],
             [
              0.8888888888888888,
              "#fdca26"
             ],
             [
              1,
              "#f0f921"
             ]
            ],
            "type": "surface"
           }
          ],
          "table": [
           {
            "cells": {
             "fill": {
              "color": "#EBF0F8"
             },
             "line": {
              "color": "white"
             }
            },
            "header": {
             "fill": {
              "color": "#C8D4E3"
             },
             "line": {
              "color": "white"
             }
            },
            "type": "table"
           }
          ]
         },
         "layout": {
          "annotationdefaults": {
           "arrowcolor": "#2a3f5f",
           "arrowhead": 0,
           "arrowwidth": 1
          },
          "autotypenumbers": "strict",
          "coloraxis": {
           "colorbar": {
            "outlinewidth": 0,
            "ticks": ""
           }
          },
          "colorscale": {
           "diverging": [
            [
             0,
             "#8e0152"
            ],
            [
             0.1,
             "#c51b7d"
            ],
            [
             0.2,
             "#de77ae"
            ],
            [
             0.3,
             "#f1b6da"
            ],
            [
             0.4,
             "#fde0ef"
            ],
            [
             0.5,
             "#f7f7f7"
            ],
            [
             0.6,
             "#e6f5d0"
            ],
            [
             0.7,
             "#b8e186"
            ],
            [
             0.8,
             "#7fbc41"
            ],
            [
             0.9,
             "#4d9221"
            ],
            [
             1,
             "#276419"
            ]
           ],
           "sequential": [
            [
             0,
             "#0d0887"
            ],
            [
             0.1111111111111111,
             "#46039f"
            ],
            [
             0.2222222222222222,
             "#7201a8"
            ],
            [
             0.3333333333333333,
             "#9c179e"
            ],
            [
             0.4444444444444444,
             "#bd3786"
            ],
            [
             0.5555555555555556,
             "#d8576b"
            ],
            [
             0.6666666666666666,
             "#ed7953"
            ],
            [
             0.7777777777777778,
             "#fb9f3a"
            ],
            [
             0.8888888888888888,
             "#fdca26"
            ],
            [
             1,
             "#f0f921"
            ]
           ],
           "sequentialminus": [
            [
             0,
             "#0d0887"
            ],
            [
             0.1111111111111111,
             "#46039f"
            ],
            [
             0.2222222222222222,
             "#7201a8"
            ],
            [
             0.3333333333333333,
             "#9c179e"
            ],
            [
             0.4444444444444444,
             "#bd3786"
            ],
            [
             0.5555555555555556,
             "#d8576b"
            ],
            [
             0.6666666666666666,
             "#ed7953"
            ],
            [
             0.7777777777777778,
             "#fb9f3a"
            ],
            [
             0.8888888888888888,
             "#fdca26"
            ],
            [
             1,
             "#f0f921"
            ]
           ]
          },
          "colorway": [
           "#636efa",
           "#EF553B",
           "#00cc96",
           "#ab63fa",
           "#FFA15A",
           "#19d3f3",
           "#FF6692",
           "#B6E880",
           "#FF97FF",
           "#FECB52"
          ],
          "font": {
           "color": "#2a3f5f"
          },
          "geo": {
           "bgcolor": "white",
           "lakecolor": "white",
           "landcolor": "#E5ECF6",
           "showlakes": true,
           "showland": true,
           "subunitcolor": "white"
          },
          "hoverlabel": {
           "align": "left"
          },
          "hovermode": "closest",
          "mapbox": {
           "style": "light"
          },
          "paper_bgcolor": "white",
          "plot_bgcolor": "#E5ECF6",
          "polar": {
           "angularaxis": {
            "gridcolor": "white",
            "linecolor": "white",
            "ticks": ""
           },
           "bgcolor": "#E5ECF6",
           "radialaxis": {
            "gridcolor": "white",
            "linecolor": "white",
            "ticks": ""
           }
          },
          "scene": {
           "xaxis": {
            "backgroundcolor": "#E5ECF6",
            "gridcolor": "white",
            "gridwidth": 2,
            "linecolor": "white",
            "showbackground": true,
            "ticks": "",
            "zerolinecolor": "white"
           },
           "yaxis": {
            "backgroundcolor": "#E5ECF6",
            "gridcolor": "white",
            "gridwidth": 2,
            "linecolor": "white",
            "showbackground": true,
            "ticks": "",
            "zerolinecolor": "white"
           },
           "zaxis": {
            "backgroundcolor": "#E5ECF6",
            "gridcolor": "white",
            "gridwidth": 2,
            "linecolor": "white",
            "showbackground": true,
            "ticks": "",
            "zerolinecolor": "white"
           }
          },
          "shapedefaults": {
           "line": {
            "color": "#2a3f5f"
           }
          },
          "ternary": {
           "aaxis": {
            "gridcolor": "white",
            "linecolor": "white",
            "ticks": ""
           },
           "baxis": {
            "gridcolor": "white",
            "linecolor": "white",
            "ticks": ""
           },
           "bgcolor": "#E5ECF6",
           "caxis": {
            "gridcolor": "white",
            "linecolor": "white",
            "ticks": ""
           }
          },
          "title": {
           "x": 0.05
          },
          "xaxis": {
           "automargin": true,
           "gridcolor": "white",
           "linecolor": "white",
           "ticks": "",
           "title": {
            "standoff": 15
           },
           "zerolinecolor": "white",
           "zerolinewidth": 2
          },
          "yaxis": {
           "automargin": true,
           "gridcolor": "white",
           "linecolor": "white",
           "ticks": "",
           "title": {
            "standoff": 15
           },
           "zerolinecolor": "white",
           "zerolinewidth": 2
          }
         }
        },
        "title": {
         "text": "Sensors Visualized Using Principal Components"
        },
        "xaxis": {
         "anchor": "y",
         "domain": [
          0,
          1
         ],
         "title": {
          "text": "Principal Component 1"
         }
        },
        "yaxis": {
         "anchor": "x",
         "domain": [
          0,
          1
         ],
         "title": {
          "text": "Principal Component 2"
         }
        }
       }
      }
     },
     "metadata": {},
     "output_type": "display_data"
    }
   ],
   "source": [
    "# Plot the PCA interactive plot\n",
    "plot_pca_interactive(df_range_delay_ends, sensor_id_col='Sensor ID', n_components=2)"
   ]
  },
  {
   "cell_type": "markdown",
   "metadata": {},
   "source": [
    "Try PCA on reduced data"
   ]
  },
  {
   "cell_type": "code",
   "execution_count": 33,
   "metadata": {},
   "outputs": [
    {
     "data": {
      "image/png": "[encoded data removed]",
      "text/plain": [
       "<Figure size 1000x600 with 1 Axes>"
      ]
     },
     "metadata": {},
     "output_type": "display_data"
    }
   ],
   "source": [
    "explained_variance_corr, loadings_corr, features_corr = process_PCA(reduced_data_corr)"
   ]
  },
  {
   "cell_type": "code",
   "execution_count": 34,
   "metadata": {},
   "outputs": [
    {
     "data": {
      "text/html": [
       "<div>\n",
       "<style scoped>\n",
       "    .dataframe tbody tr th:only-of-type {\n",
       "        vertical-align: middle;\n",
       "    }\n",
       "\n",
       "    .dataframe tbody tr th {\n",
       "        vertical-align: top;\n",
       "    }\n",
       "\n",
       "    .dataframe thead th {\n",
       "        text-align: right;\n",
       "    }\n",
       "</style>\n",
       "<table border=\"1\" class=\"dataframe\">\n",
       "  <thead>\n",
       "    <tr style=\"text-align: right;\">\n",
       "      <th></th>\n",
       "      <th>PC1</th>\n",
       "      <th>PC2</th>\n",
       "      <th>PC3</th>\n",
       "      <th>PC4</th>\n",
       "      <th>PC5</th>\n",
       "      <th>PC6</th>\n",
       "      <th>PC7</th>\n",
       "      <th>PC8</th>\n",
       "      <th>PC9</th>\n",
       "      <th>PC10</th>\n",
       "      <th>...</th>\n",
       "      <th>PC81</th>\n",
       "      <th>PC82</th>\n",
       "      <th>PC83</th>\n",
       "      <th>PC84</th>\n",
       "      <th>PC85</th>\n",
       "      <th>PC86</th>\n",
       "      <th>PC87</th>\n",
       "      <th>PC88</th>\n",
       "      <th>PC89</th>\n",
       "      <th>PC90</th>\n",
       "    </tr>\n",
       "    <tr>\n",
       "      <th>range_delay</th>\n",
       "      <th></th>\n",
       "      <th></th>\n",
       "      <th></th>\n",
       "      <th></th>\n",
       "      <th></th>\n",
       "      <th></th>\n",
       "      <th></th>\n",
       "      <th></th>\n",
       "      <th></th>\n",
       "      <th></th>\n",
       "      <th></th>\n",
       "      <th></th>\n",
       "      <th></th>\n",
       "      <th></th>\n",
       "      <th></th>\n",
       "      <th></th>\n",
       "      <th></th>\n",
       "      <th></th>\n",
       "      <th></th>\n",
       "      <th></th>\n",
       "      <th></th>\n",
       "    </tr>\n",
       "  </thead>\n",
       "  <tbody>\n",
       "    <tr>\n",
       "      <th>13_10000_mean_lower</th>\n",
       "      <td>0.206418</td>\n",
       "      <td>-0.111102</td>\n",
       "      <td>-0.093604</td>\n",
       "      <td>-0.154164</td>\n",
       "      <td>-0.079718</td>\n",
       "      <td>-0.014302</td>\n",
       "      <td>-0.020511</td>\n",
       "      <td>-0.121065</td>\n",
       "      <td>0.022295</td>\n",
       "      <td>-0.133200</td>\n",
       "      <td>...</td>\n",
       "      <td>0.058976</td>\n",
       "      <td>-0.059346</td>\n",
       "      <td>-0.064298</td>\n",
       "      <td>-0.139921</td>\n",
       "      <td>0.029343</td>\n",
       "      <td>-0.066132</td>\n",
       "      <td>0.118269</td>\n",
       "      <td>-0.064218</td>\n",
       "      <td>-0.000136</td>\n",
       "      <td>0.104982</td>\n",
       "    </tr>\n",
       "    <tr>\n",
       "      <th>13_16800_mean_lower</th>\n",
       "      <td>0.092051</td>\n",
       "      <td>-0.061855</td>\n",
       "      <td>0.067967</td>\n",
       "      <td>0.101970</td>\n",
       "      <td>-0.071373</td>\n",
       "      <td>0.093714</td>\n",
       "      <td>-0.013083</td>\n",
       "      <td>-0.046278</td>\n",
       "      <td>0.003305</td>\n",
       "      <td>0.061338</td>\n",
       "      <td>...</td>\n",
       "      <td>0.113045</td>\n",
       "      <td>-0.120539</td>\n",
       "      <td>-0.068726</td>\n",
       "      <td>-0.033640</td>\n",
       "      <td>0.126536</td>\n",
       "      <td>0.093142</td>\n",
       "      <td>0.094161</td>\n",
       "      <td>-0.184689</td>\n",
       "      <td>-0.017199</td>\n",
       "      <td>-0.012454</td>\n",
       "    </tr>\n",
       "    <tr>\n",
       "      <th>13_3000_mean_lower</th>\n",
       "      <td>0.251890</td>\n",
       "      <td>-0.095291</td>\n",
       "      <td>-0.109272</td>\n",
       "      <td>0.043669</td>\n",
       "      <td>-0.029004</td>\n",
       "      <td>-0.024480</td>\n",
       "      <td>-0.183610</td>\n",
       "      <td>-0.023942</td>\n",
       "      <td>-0.111702</td>\n",
       "      <td>-0.041659</td>\n",
       "      <td>...</td>\n",
       "      <td>0.090286</td>\n",
       "      <td>0.006445</td>\n",
       "      <td>-0.044412</td>\n",
       "      <td>0.055853</td>\n",
       "      <td>-0.171424</td>\n",
       "      <td>0.068332</td>\n",
       "      <td>0.081636</td>\n",
       "      <td>0.219969</td>\n",
       "      <td>0.068700</td>\n",
       "      <td>0.185173</td>\n",
       "    </tr>\n",
       "    <tr>\n",
       "      <th>13_6000_mean_lower</th>\n",
       "      <td>0.173220</td>\n",
       "      <td>-0.127105</td>\n",
       "      <td>-0.131493</td>\n",
       "      <td>-0.131929</td>\n",
       "      <td>-0.077441</td>\n",
       "      <td>-0.120467</td>\n",
       "      <td>-0.056602</td>\n",
       "      <td>-0.011880</td>\n",
       "      <td>-0.092928</td>\n",
       "      <td>0.014300</td>\n",
       "      <td>...</td>\n",
       "      <td>-0.066446</td>\n",
       "      <td>-0.156980</td>\n",
       "      <td>-0.051210</td>\n",
       "      <td>-0.015666</td>\n",
       "      <td>-0.010645</td>\n",
       "      <td>0.174463</td>\n",
       "      <td>-0.128489</td>\n",
       "      <td>-0.066169</td>\n",
       "      <td>-0.002633</td>\n",
       "      <td>0.042143</td>\n",
       "    </tr>\n",
       "    <tr>\n",
       "      <th>13_8000_mean_lower</th>\n",
       "      <td>0.230161</td>\n",
       "      <td>-0.118297</td>\n",
       "      <td>-0.116838</td>\n",
       "      <td>-0.152533</td>\n",
       "      <td>-0.095017</td>\n",
       "      <td>-0.052052</td>\n",
       "      <td>-0.029191</td>\n",
       "      <td>-0.084027</td>\n",
       "      <td>-0.038623</td>\n",
       "      <td>0.105318</td>\n",
       "      <td>...</td>\n",
       "      <td>0.035271</td>\n",
       "      <td>0.025923</td>\n",
       "      <td>-0.018181</td>\n",
       "      <td>0.212349</td>\n",
       "      <td>0.207440</td>\n",
       "      <td>-0.210295</td>\n",
       "      <td>0.029637</td>\n",
       "      <td>-0.033524</td>\n",
       "      <td>0.052576</td>\n",
       "      <td>-0.271517</td>\n",
       "    </tr>\n",
       "    <tr>\n",
       "      <th>...</th>\n",
       "      <td>...</td>\n",
       "      <td>...</td>\n",
       "      <td>...</td>\n",
       "      <td>...</td>\n",
       "      <td>...</td>\n",
       "      <td>...</td>\n",
       "      <td>...</td>\n",
       "      <td>...</td>\n",
       "      <td>...</td>\n",
       "      <td>...</td>\n",
       "      <td>...</td>\n",
       "      <td>...</td>\n",
       "      <td>...</td>\n",
       "      <td>...</td>\n",
       "      <td>...</td>\n",
       "      <td>...</td>\n",
       "      <td>...</td>\n",
       "      <td>...</td>\n",
       "      <td>...</td>\n",
       "      <td>...</td>\n",
       "      <td>...</td>\n",
       "    </tr>\n",
       "    <tr>\n",
       "      <th>53_10000_mean_upper</th>\n",
       "      <td>0.072662</td>\n",
       "      <td>0.159905</td>\n",
       "      <td>-0.154212</td>\n",
       "      <td>0.132908</td>\n",
       "      <td>-0.024547</td>\n",
       "      <td>0.089716</td>\n",
       "      <td>-0.173264</td>\n",
       "      <td>-0.065373</td>\n",
       "      <td>0.029028</td>\n",
       "      <td>-0.096582</td>\n",
       "      <td>...</td>\n",
       "      <td>-0.126607</td>\n",
       "      <td>-0.179332</td>\n",
       "      <td>-0.047198</td>\n",
       "      <td>0.049565</td>\n",
       "      <td>-0.052162</td>\n",
       "      <td>0.144485</td>\n",
       "      <td>0.055715</td>\n",
       "      <td>-0.047110</td>\n",
       "      <td>-0.120256</td>\n",
       "      <td>-0.042233</td>\n",
       "    </tr>\n",
       "    <tr>\n",
       "      <th>53_16800_mean_upper</th>\n",
       "      <td>0.106748</td>\n",
       "      <td>0.074101</td>\n",
       "      <td>0.012856</td>\n",
       "      <td>0.067118</td>\n",
       "      <td>0.023554</td>\n",
       "      <td>0.221999</td>\n",
       "      <td>0.158681</td>\n",
       "      <td>-0.138212</td>\n",
       "      <td>0.044414</td>\n",
       "      <td>-0.086769</td>\n",
       "      <td>...</td>\n",
       "      <td>0.014347</td>\n",
       "      <td>0.021132</td>\n",
       "      <td>0.023965</td>\n",
       "      <td>-0.004571</td>\n",
       "      <td>-0.030920</td>\n",
       "      <td>-0.057940</td>\n",
       "      <td>-0.038806</td>\n",
       "      <td>-0.111982</td>\n",
       "      <td>-0.034568</td>\n",
       "      <td>0.068310</td>\n",
       "    </tr>\n",
       "    <tr>\n",
       "      <th>53_3000_mean_upper</th>\n",
       "      <td>0.060319</td>\n",
       "      <td>0.082574</td>\n",
       "      <td>-0.010428</td>\n",
       "      <td>-0.009867</td>\n",
       "      <td>0.229106</td>\n",
       "      <td>0.070548</td>\n",
       "      <td>-0.204012</td>\n",
       "      <td>0.080654</td>\n",
       "      <td>-0.045762</td>\n",
       "      <td>-0.201358</td>\n",
       "      <td>...</td>\n",
       "      <td>-0.106001</td>\n",
       "      <td>0.139580</td>\n",
       "      <td>0.056149</td>\n",
       "      <td>-0.122526</td>\n",
       "      <td>0.022757</td>\n",
       "      <td>-0.035766</td>\n",
       "      <td>0.109411</td>\n",
       "      <td>-0.010901</td>\n",
       "      <td>0.288318</td>\n",
       "      <td>0.011778</td>\n",
       "    </tr>\n",
       "    <tr>\n",
       "      <th>53_6000_mean_upper</th>\n",
       "      <td>0.139714</td>\n",
       "      <td>0.171522</td>\n",
       "      <td>-0.001951</td>\n",
       "      <td>0.135615</td>\n",
       "      <td>0.077421</td>\n",
       "      <td>0.075262</td>\n",
       "      <td>-0.106256</td>\n",
       "      <td>-0.025567</td>\n",
       "      <td>-0.091684</td>\n",
       "      <td>0.181447</td>\n",
       "      <td>...</td>\n",
       "      <td>0.176376</td>\n",
       "      <td>-0.038680</td>\n",
       "      <td>-0.036265</td>\n",
       "      <td>-0.212359</td>\n",
       "      <td>0.083726</td>\n",
       "      <td>-0.268778</td>\n",
       "      <td>-0.014921</td>\n",
       "      <td>0.105081</td>\n",
       "      <td>-0.024194</td>\n",
       "      <td>0.141760</td>\n",
       "    </tr>\n",
       "    <tr>\n",
       "      <th>53_8000_mean_upper</th>\n",
       "      <td>0.009274</td>\n",
       "      <td>0.203011</td>\n",
       "      <td>-0.021872</td>\n",
       "      <td>0.149418</td>\n",
       "      <td>0.058441</td>\n",
       "      <td>0.082790</td>\n",
       "      <td>-0.224279</td>\n",
       "      <td>0.015914</td>\n",
       "      <td>-0.061687</td>\n",
       "      <td>0.008829</td>\n",
       "      <td>...</td>\n",
       "      <td>0.217633</td>\n",
       "      <td>-0.010417</td>\n",
       "      <td>0.006981</td>\n",
       "      <td>0.108958</td>\n",
       "      <td>-0.109775</td>\n",
       "      <td>0.123227</td>\n",
       "      <td>-0.065195</td>\n",
       "      <td>-0.116707</td>\n",
       "      <td>0.212968</td>\n",
       "      <td>0.011736</td>\n",
       "    </tr>\n",
       "  </tbody>\n",
       "</table>\n",
       "<p>90 rows × 90 columns</p>\n",
       "</div>"
      ],
      "text/plain": [
       "                          PC1       PC2       PC3       PC4       PC5  \\\n",
       "range_delay                                                             \n",
       "13_10000_mean_lower  0.206418 -0.111102 -0.093604 -0.154164 -0.079718   \n",
       "13_16800_mean_lower  0.092051 -0.061855  0.067967  0.101970 -0.071373   \n",
       "13_3000_mean_lower   0.251890 -0.095291 -0.109272  0.043669 -0.029004   \n",
       "13_6000_mean_lower   0.173220 -0.127105 -0.131493 -0.131929 -0.077441   \n",
       "13_8000_mean_lower   0.230161 -0.118297 -0.116838 -0.152533 -0.095017   \n",
       "...                       ...       ...       ...       ...       ...   \n",
       "53_10000_mean_upper  0.072662  0.159905 -0.154212  0.132908 -0.024547   \n",
       "53_16800_mean_upper  0.106748  0.074101  0.012856  0.067118  0.023554   \n",
       "53_3000_mean_upper   0.060319  0.082574 -0.010428 -0.009867  0.229106   \n",
       "53_6000_mean_upper   0.139714  0.171522 -0.001951  0.135615  0.077421   \n",
       "53_8000_mean_upper   0.009274  0.203011 -0.021872  0.149418  0.058441   \n",
       "\n",
       "                          PC6       PC7       PC8       PC9      PC10  ...  \\\n",
       "range_delay                                                            ...   \n",
       "13_10000_mean_lower -0.014302 -0.020511 -0.121065  0.022295 -0.133200  ...   \n",
       "13_16800_mean_lower  0.093714 -0.013083 -0.046278  0.003305  0.061338  ...   \n",
       "13_3000_mean_lower  -0.024480 -0.183610 -0.023942 -0.111702 -0.041659  ...   \n",
       "13_6000_mean_lower  -0.120467 -0.056602 -0.011880 -0.092928  0.014300  ...   \n",
       "13_8000_mean_lower  -0.052052 -0.029191 -0.084027 -0.038623  0.105318  ...   \n",
       "...                       ...       ...       ...       ...       ...  ...   \n",
       "53_10000_mean_upper  0.089716 -0.173264 -0.065373  0.029028 -0.096582  ...   \n",
       "53_16800_mean_upper  0.221999  0.158681 -0.138212  0.044414 -0.086769  ...   \n",
       "53_3000_mean_upper   0.070548 -0.204012  0.080654 -0.045762 -0.201358  ...   \n",
       "53_6000_mean_upper   0.075262 -0.106256 -0.025567 -0.091684  0.181447  ...   \n",
       "53_8000_mean_upper   0.082790 -0.224279  0.015914 -0.061687  0.008829  ...   \n",
       "\n",
       "                         PC81      PC82      PC83      PC84      PC85  \\\n",
       "range_delay                                                             \n",
       "13_10000_mean_lower  0.058976 -0.059346 -0.064298 -0.139921  0.029343   \n",
       "13_16800_mean_lower  0.113045 -0.120539 -0.068726 -0.033640  0.126536   \n",
       "13_3000_mean_lower   0.090286  0.006445 -0.044412  0.055853 -0.171424   \n",
       "13_6000_mean_lower  -0.066446 -0.156980 -0.051210 -0.015666 -0.010645   \n",
       "13_8000_mean_lower   0.035271  0.025923 -0.018181  0.212349  0.207440   \n",
       "...                       ...       ...       ...       ...       ...   \n",
       "53_10000_mean_upper -0.126607 -0.179332 -0.047198  0.049565 -0.052162   \n",
       "53_16800_mean_upper  0.014347  0.021132  0.023965 -0.004571 -0.030920   \n",
       "53_3000_mean_upper  -0.106001  0.139580  0.056149 -0.122526  0.022757   \n",
       "53_6000_mean_upper   0.176376 -0.038680 -0.036265 -0.212359  0.083726   \n",
       "53_8000_mean_upper   0.217633 -0.010417  0.006981  0.108958 -0.109775   \n",
       "\n",
       "                         PC86      PC87      PC88      PC89      PC90  \n",
       "range_delay                                                            \n",
       "13_10000_mean_lower -0.066132  0.118269 -0.064218 -0.000136  0.104982  \n",
       "13_16800_mean_lower  0.093142  0.094161 -0.184689 -0.017199 -0.012454  \n",
       "13_3000_mean_lower   0.068332  0.081636  0.219969  0.068700  0.185173  \n",
       "13_6000_mean_lower   0.174463 -0.128489 -0.066169 -0.002633  0.042143  \n",
       "13_8000_mean_lower  -0.210295  0.029637 -0.033524  0.052576 -0.271517  \n",
       "...                       ...       ...       ...       ...       ...  \n",
       "53_10000_mean_upper  0.144485  0.055715 -0.047110 -0.120256 -0.042233  \n",
       "53_16800_mean_upper -0.057940 -0.038806 -0.111982 -0.034568  0.068310  \n",
       "53_3000_mean_upper  -0.035766  0.109411 -0.010901  0.288318  0.011778  \n",
       "53_6000_mean_upper  -0.268778 -0.014921  0.105081 -0.024194  0.141760  \n",
       "53_8000_mean_upper   0.123227 -0.065195 -0.116707  0.212968  0.011736  \n",
       "\n",
       "[90 rows x 90 columns]"
      ]
     },
     "execution_count": 34,
     "metadata": {},
     "output_type": "execute_result"
    }
   ],
   "source": [
    "# Create a DataFrame for the loadings\n",
    "loading_df_corr = pd.DataFrame(loadings_corr.T, columns=[f'PC{i+1}' for i in range(loadings_corr.shape[0])], index=features_corr.columns)\n",
    "loading_df_corr"
   ]
  },
  {
   "cell_type": "code",
   "execution_count": 35,
   "metadata": {},
   "outputs": [
    {
     "data": {
      "text/html": [
       "<div>\n",
       "<style scoped>\n",
       "    .dataframe tbody tr th:only-of-type {\n",
       "        vertical-align: middle;\n",
       "    }\n",
       "\n",
       "    .dataframe tbody tr th {\n",
       "        vertical-align: top;\n",
       "    }\n",
       "\n",
       "    .dataframe thead th {\n",
       "        text-align: right;\n",
       "    }\n",
       "</style>\n",
       "<table border=\"1\" class=\"dataframe\">\n",
       "  <thead>\n",
       "    <tr style=\"text-align: right;\">\n",
       "      <th></th>\n",
       "      <th>Feature</th>\n",
       "      <th>Importance</th>\n",
       "    </tr>\n",
       "  </thead>\n",
       "  <tbody>\n",
       "    <tr>\n",
       "      <th>46</th>\n",
       "      <td>13_16800_mean_upper</td>\n",
       "      <td>5.573829</td>\n",
       "    </tr>\n",
       "    <tr>\n",
       "      <th>56</th>\n",
       "      <td>23_16800_mean_upper</td>\n",
       "      <td>5.451900</td>\n",
       "    </tr>\n",
       "    <tr>\n",
       "      <th>39</th>\n",
       "      <td>48_8000_mean_lower</td>\n",
       "      <td>5.442802</td>\n",
       "    </tr>\n",
       "    <tr>\n",
       "      <th>29</th>\n",
       "      <td>38_8000_mean_lower</td>\n",
       "      <td>5.382545</td>\n",
       "    </tr>\n",
       "    <tr>\n",
       "      <th>6</th>\n",
       "      <td>18_16800_mean_lower</td>\n",
       "      <td>5.365498</td>\n",
       "    </tr>\n",
       "    <tr>\n",
       "      <th>...</th>\n",
       "      <td>...</td>\n",
       "      <td>...</td>\n",
       "    </tr>\n",
       "    <tr>\n",
       "      <th>42</th>\n",
       "      <td>53_3000_mean_lower</td>\n",
       "      <td>4.294474</td>\n",
       "    </tr>\n",
       "    <tr>\n",
       "      <th>66</th>\n",
       "      <td>33_16800_mean_upper</td>\n",
       "      <td>4.290006</td>\n",
       "    </tr>\n",
       "    <tr>\n",
       "      <th>15</th>\n",
       "      <td>28_10000_mean_lower</td>\n",
       "      <td>4.283666</td>\n",
       "    </tr>\n",
       "    <tr>\n",
       "      <th>8</th>\n",
       "      <td>18_6000_mean_lower</td>\n",
       "      <td>4.202191</td>\n",
       "    </tr>\n",
       "    <tr>\n",
       "      <th>37</th>\n",
       "      <td>48_3000_mean_lower</td>\n",
       "      <td>4.040013</td>\n",
       "    </tr>\n",
       "  </tbody>\n",
       "</table>\n",
       "<p>90 rows × 2 columns</p>\n",
       "</div>"
      ],
      "text/plain": [
       "                Feature  Importance\n",
       "46  13_16800_mean_upper    5.573829\n",
       "56  23_16800_mean_upper    5.451900\n",
       "39   48_8000_mean_lower    5.442802\n",
       "29   38_8000_mean_lower    5.382545\n",
       "6   18_16800_mean_lower    5.365498\n",
       "..                  ...         ...\n",
       "42   53_3000_mean_lower    4.294474\n",
       "66  33_16800_mean_upper    4.290006\n",
       "15  28_10000_mean_lower    4.283666\n",
       "8    18_6000_mean_lower    4.202191\n",
       "37   48_3000_mean_lower    4.040013\n",
       "\n",
       "[90 rows x 2 columns]"
      ]
     },
     "execution_count": 35,
     "metadata": {},
     "output_type": "execute_result"
    }
   ],
   "source": [
    "# Determine the number of components to retain 90% variance\n",
    "cumulative_variance = np.cumsum(explained_variance_corr)\n",
    "num_components = np.argmax(cumulative_variance >= 0.9) + 1\n",
    "\n",
    "# Get the loadings for the selected components\n",
    "selected_loadings_corr = loadings_corr[:num_components, :]\n",
    "\n",
    "# Calculate the importance of each feature by summing the absolute values of its loadings across the selected components\n",
    "feature_importance_corr = np.sum(np.abs(selected_loadings_corr), axis=0)\n",
    "\n",
    "# Create a DataFrame for feature importance\n",
    "feature_importance_df_corr = pd.DataFrame({'Feature': features_corr.columns, 'Importance': feature_importance_corr})\n",
    "\n",
    "# Sort the features by importance\n",
    "feature_importance_df_corr = feature_importance_df_corr.sort_values(by='Importance', ascending=False)\n",
    "\n",
    "# Select the top N features (e.g., top 10 features)\n",
    "top_features_corr = feature_importance_df_corr.head(200)\n",
    "\n",
    "top_features_corr"
   ]
  },
  {
   "cell_type": "code",
   "execution_count": 36,
   "metadata": {},
   "outputs": [
    {
     "data": {
      "application/vnd.plotly.v1+json": {
       "config": {
        "plotlyServerURL": "https://plot.ly"
       },
       "data": [
        {
         "customdata": [
          [
           1
          ],
          [
           2
          ],
          [
           3
          ],
          [
           4
          ],
          [
           5
          ],
          [
           6
          ],
          [
           7
          ],
          [
           8
          ],
          [
           9
          ],
          [
           10
          ],
          [
           11
          ],
          [
           12
          ],
          [
           13
          ],
          [
           14
          ],
          [
           15
          ],
          [
           16
          ],
          [
           17
          ],
          [
           18
          ],
          [
           19
          ],
          [
           20
          ],
          [
           21
          ],
          [
           22
          ],
          [
           23
          ],
          [
           24
          ],
          [
           25
          ],
          [
           26
          ],
          [
           27
          ],
          [
           28
          ],
          [
           29
          ],
          [
           30
          ],
          [
           32
          ],
          [
           33
          ],
          [
           34
          ],
          [
           35
          ],
          [
           36
          ],
          [
           37
          ],
          [
           38
          ],
          [
           39
          ],
          [
           40
          ],
          [
           41
          ],
          [
           42
          ],
          [
           43
          ],
          [
           44
          ],
          [
           45
          ],
          [
           46
          ],
          [
           47
          ],
          [
           48
          ],
          [
           49
          ],
          [
           50
          ],
          [
           51
          ],
          [
           52
          ],
          [
           53
          ],
          [
           54
          ],
          [
           55
          ],
          [
           56
          ],
          [
           57
          ],
          [
           58
          ],
          [
           59
          ],
          [
           60
          ],
          [
           61
          ],
          [
           62
          ],
          [
           63
          ],
          [
           64
          ],
          [
           65
          ],
          [
           66
          ],
          [
           67
          ],
          [
           68
          ],
          [
           69
          ],
          [
           70
          ],
          [
           71
          ],
          [
           72
          ],
          [
           73
          ],
          [
           74
          ],
          [
           75
          ],
          [
           76
          ],
          [
           77
          ],
          [
           78
          ],
          [
           79
          ],
          [
           80
          ],
          [
           81
          ],
          [
           82
          ],
          [
           83
          ],
          [
           84
          ],
          [
           85
          ],
          [
           86
          ],
          [
           87
          ],
          [
           88
          ],
          [
           89
          ],
          [
           90
          ],
          [
           91
          ],
          [
           92
          ],
          [
           93
          ],
          [
           94
          ],
          [
           95
          ],
          [
           96
          ],
          [
           97
          ],
          [
           98
          ],
          [
           99
          ],
          [
           100
          ],
          [
           101
          ],
          [
           102
          ],
          [
           103
          ],
          [
           104
          ],
          [
           105
          ],
          [
           106
          ],
          [
           107
          ],
          [
           108
          ],
          [
           109
          ],
          [
           110
          ],
          [
           111
          ],
          [
           112
          ],
          [
           113
          ],
          [
           114
          ],
          [
           115
          ],
          [
           116
          ],
          [
           117
          ],
          [
           118
          ],
          [
           119
          ],
          [
           120
          ],
          [
           121
          ],
          [
           122
          ],
          [
           123
          ],
          [
           124
          ],
          [
           125
          ],
          [
           126
          ],
          [
           127
          ],
          [
           128
          ],
          [
           129
          ],
          [
           130
          ],
          [
           131
          ],
          [
           132
          ],
          [
           133
          ],
          [
           134
          ],
          [
           135
          ],
          [
           136
          ],
          [
           137
          ],
          [
           138
          ],
          [
           139
          ],
          [
           140
          ],
          [
           141
          ],
          [
           142
          ],
          [
           143
          ],
          [
           144
          ],
          [
           145
          ],
          [
           146
          ],
          [
           147
          ],
          [
           148
          ],
          [
           149
          ],
          [
           150
          ],
          [
           151
          ],
          [
           152
          ],
          [
           153
          ],
          [
           154
          ],
          [
           155
          ],
          [
           156
          ],
          [
           157
          ],
          [
           158
          ],
          [
           159
          ],
          [
           160
          ],
          [
           161
          ],
          [
           162
          ],
          [
           163
          ],
          [
           164
          ],
          [
           165
          ],
          [
           166
          ],
          [
           167
          ],
          [
           168
          ],
          [
           169
          ],
          [
           170
          ],
          [
           171
          ],
          [
           172
          ],
          [
           173
          ],
          [
           174
          ],
          [
           175
          ],
          [
           176
          ],
          [
           177
          ],
          [
           178
          ],
          [
           179
          ],
          [
           180
          ],
          [
           181
          ],
          [
           182
          ],
          [
           183
          ],
          [
           184
          ],
          [
           185
          ],
          [
           186
          ],
          [
           187
          ],
          [
           188
          ],
          [
           189
          ],
          [
           190
          ],
          [
           191
          ],
          [
           192
          ],
          [
           193
          ],
          [
           194
          ],
          [
           195
          ],
          [
           196
          ],
          [
           197
          ],
          [
           198
          ],
          [
           199
          ],
          [
           200
          ],
          [
           201
          ],
          [
           202
          ],
          [
           203
          ],
          [
           204
          ],
          [
           205
          ],
          [
           206
          ],
          [
           207
          ],
          [
           208
          ],
          [
           209
          ],
          [
           210
          ],
          [
           211
          ]
         ],
         "hovertemplate": "Principal Component 1=%{x}<br>Principal Component 2=%{y}<br>Sensor ID=%{marker.color}<extra></extra>",
         "legendgroup": "",
         "marker": {
          "color": [
           1,
           2,
           3,
           4,
           5,
           6,
           7,
           8,
           9,
           10,
           11,
           12,
           13,
           14,
           15,
           16,
           17,
           18,
           19,
           20,
           21,
           22,
           23,
           24,
           25,
           26,
           27,
           28,
           29,
           30,
           32,
           33,
           34,
           35,
           36,
           37,
           38,
           39,
           40,
           41,
           42,
           43,
           44,
           45,
           46,
           47,
           48,
           49,
           50,
           51,
           52,
           53,
           54,
           55,
           56,
           57,
           58,
           59,
           60,
           61,
           62,
           63,
           64,
           65,
           66,
           67,
           68,
           69,
           70,
           71,
           72,
           73,
           74,
           75,
           76,
           77,
           78,
           79,
           80,
           81,
           82,
           83,
           84,
           85,
           86,
           87,
           88,
           89,
           90,
           91,
           92,
           93,
           94,
           95,
           96,
           97,
           98,
           99,
           100,
           101,
           102,
           103,
           104,
           105,
           106,
           107,
           108,
           109,
           110,
           111,
           112,
           113,
           114,
           115,
           116,
           117,
           118,
           119,
           120,
           121,
           122,
           123,
           124,
           125,
           126,
           127,
           128,
           129,
           130,
           131,
           132,
           133,
           134,
           135,
           136,
           137,
           138,
           139,
           140,
           141,
           142,
           143,
           144,
           145,
           146,
           147,
           148,
           149,
           150,
           151,
           152,
           153,
           154,
           155,
           156,
           157,
           158,
           159,
           160,
           161,
           162,
           163,
           164,
           165,
           166,
           167,
           168,
           169,
           170,
           171,
           172,
           173,
           174,
           175,
           176,
           177,
           178,
           179,
           180,
           181,
           182,
           183,
           184,
           185,
           186,
           187,
           188,
           189,
           190,
           191,
           192,
           193,
           194,
           195,
           196,
           197,
           198,
           199,
           200,
           201,
           202,
           203,
           204,
           205,
           206,
           207,
           208,
           209,
           210,
           211
          ],
          "coloraxis": "coloraxis",
          "symbol": "circle"
         },
         "mode": "markers",
         "name": "",
         "orientation": "v",
         "showlegend": false,
         "type": "scatter",
         "x": [
          -7273.476304953265,
          -7420.859036447755,
          -7268.110981117821,
          -8064.767421613656,
          -8083.291493912826,
          -8171.540146412936,
          -7323.806382083791,
          -8063.303907184864,
          -8115.138960230346,
          -8147.315366394051,
          -7239.505810872207,
          -7326.325541172304,
          -8127.053490615037,
          -8036.69033077152,
          -7977.8088930615095,
          -8078.422899124778,
          -8051.87329208923,
          -8083.32527781962,
          -8025.530123965139,
          -7769.718862390066,
          -8127.7675312231995,
          -8062.838057785136,
          -8091.512348662946,
          -8119.411481777347,
          -8015.536908593749,
          -8110.60424115583,
          -8024.642745749447,
          -8061.306707774538,
          -8100.563458026908,
          -7960.740006275549,
          -8043.630430513575,
          -8055.065842957497,
          -7990.789601605706,
          -7204.47174811102,
          -7311.503370428162,
          -8035.775112039517,
          -8065.604806902261,
          -7320.965397499317,
          -7380.031670650952,
          -8012.735124023204,
          -8059.770871395594,
          -7465.380784580862,
          -7323.205505451872,
          -8044.968405543977,
          -8088.0589722821705,
          -8185.939445660238,
          -8074.263106373256,
          -8086.728633869062,
          -8136.122986752955,
          -8090.552959496711,
          -8104.362176425151,
          -8030.930915271362,
          -8016.960784090369,
          -7274.405252150816,
          -8000.057214678962,
          57407.307585620314,
          -8094.3276558493635,
          -7324.75001453958,
          -7998.879206165644,
          -7850.568357894067,
          -8098.501936480947,
          -8088.546300704899,
          57456.92458354639,
          -8060.055679663463,
          -7281.326371987202,
          -7288.196456624581,
          -8081.765419548177,
          -8123.311361109218,
          -8056.1739446514275,
          -7984.647186761312,
          -8083.535483453794,
          -8039.591301460795,
          -7269.205021085656,
          -8045.630895726385,
          -7682.976478505853,
          -8065.521320981669,
          -8001.447064049167,
          -8084.164961666687,
          -7389.886261779053,
          -8071.383808731181,
          -7365.597126850383,
          -8219.691656040459,
          -7370.579049044632,
          -8056.077352625976,
          -8110.081707836543,
          -8121.876654190594,
          -8143.661502989487,
          -7347.543442314209,
          -8034.876081380192,
          -8040.917946127949,
          -7337.991087430594,
          -7981.130244895971,
          -8139.996989642463,
          -8043.762181663726,
          -8040.134596125136,
          -7961.954607853062,
          -7983.493314863643,
          -7242.277196366016,
          -8190.256860423986,
          -7270.784129765732,
          -8081.939030563349,
          -8017.265894770133,
          -7163.963592014401,
          -7372.439150460388,
          -7444.480353389436,
          -8002.520417527516,
          -8064.135200080806,
          57414.22264320249,
          -7186.609685197147,
          -8079.39874103596,
          -7970.496151067265,
          57509.47993341668,
          -7932.089346837197,
          -7403.019798083409,
          -7416.207883146513,
          -7364.648400438746,
          -8064.349418713177,
          -7283.883833867012,
          -8161.995189772368,
          57422.97512796944,
          -8123.4436660002775,
          -7974.953849132122,
          57350.21034503598,
          -8073.559336795173,
          -8129.797376970446,
          57386.021951929644,
          -7275.342226909297,
          -7184.32799668737,
          57317.3100488847,
          -8043.07937080256,
          -7981.86275320352,
          -7266.919169840891,
          -7299.249885013055,
          -7355.6278034148245,
          -7345.36298550355,
          57337.45573307898,
          -8036.486034498693,
          -6512.860261348813,
          -8041.981552742311,
          57478.49244733208,
          -8116.391999981833,
          -7334.795784254671,
          57360.07294020784,
          -8048.915669152926,
          58249.06346783173,
          57424.16312336213,
          57421.88658321689,
          58744.708570371324,
          57416.92698399586,
          57292.065252051274,
          -7998.742160426879,
          -8052.085899256607,
          -8070.463932245879,
          57353.89380877746,
          -7967.31193375311,
          57385.40715993329,
          -8017.589058937685,
          57670.69957851132,
          -6408.152201031623,
          -7217.974133121739,
          -8001.7212795138985,
          -7879.694673103514,
          -7994.51787086002,
          -8054.904999017939,
          -5605.54365992367,
          -7996.008390369264,
          -8066.014954145877,
          -8097.100161299705,
          -7243.238226435852,
          -7308.345594626956,
          -8096.301192583354,
          -6665.1825664852395,
          -8176.697786292019,
          57292.12276931819,
          -8018.038004778764,
          -7228.809663685002,
          -7197.079855197119,
          -8100.315229308514,
          57696.233273635386,
          -8032.8943341112645,
          -7949.467309767916,
          -7258.518128162304,
          -8030.308792372779,
          -8022.9888743914,
          -6890.276670424751,
          57420.376573495,
          -7595.314932908783,
          -7732.037168582526,
          -8090.510431266719,
          -7280.701975225005,
          -8036.256730439138,
          -8038.484158349649,
          -8078.114695962326,
          -7242.738535643618,
          -7217.785273521828,
          -7341.59485848425,
          -8012.680087291237,
          -8114.847229800046,
          -8013.40446175472,
          -7320.357005805588,
          -7469.475199413467,
          -8130.525970508847,
          -7262.571071542089,
          57358.61139345098,
          -8069.5514581572625,
          -8032.481077906564,
          -7948.0593443153675,
          -7226.9182356256515,
          -8029.163960924852,
          60709.77467596432
         ],
         "xaxis": "x",
         "y": [
          -1897.0393781220687,
          -1809.4315814027982,
          -1952.008223220919,
          -846.6846472961598,
          -1814.2625518572397,
          -1894.139211018736,
          -1807.4571558325752,
          -1774.13205887528,
          -1813.3551399012488,
          -1725.7704820289812,
          -1903.6689518197427,
          -1817.4702159771555,
          -745.2347945674666,
          -1876.4507550604333,
          -841.6119770770839,
          -1778.8071211474671,
          -789.0007740761439,
          -1824.4861484386813,
          -828.3241098898238,
          -1742.3535199156554,
          -1823.2105326422893,
          -1881.2017592364796,
          -1837.4187602782179,
          -1860.618616261323,
          -1787.222154284195,
          -1926.5170605034089,
          -1816.3260697678193,
          -879.7378844359099,
          -800.7910331313708,
          -1954.927542314539,
          -1836.1509861739385,
          -1754.7782933960218,
          -1850.1329707430014,
          -1925.5393291634773,
          -1891.74693710161,
          -767.0361542255042,
          -1720.5789559999112,
          -678.8198208070316,
          -827.969078683707,
          -1891.9860164315053,
          -1836.6037639260906,
          -868.322981500726,
          -1895.0056032229184,
          -1850.6147486901161,
          -1887.1430488264102,
          -1774.3188345842225,
          -775.9444835173763,
          -1836.3375071398536,
          -1805.2566137217916,
          -1966.8902223497294,
          -1990.0189422568722,
          -1862.4324562133409,
          -1899.4363458878688,
          -820.5812726325597,
          -1894.409908707895,
          -3352.4019663382232,
          -741.9189578877947,
          -1948.2453984168874,
          -713.1948064588386,
          6269.203658016576,
          -2006.2499687754757,
          -1812.7818060900636,
          -2679.1275328533434,
          -795.2461069338781,
          -2081.873284683931,
          -1927.9930922515907,
          -1787.0745213511448,
          -1741.7575855902683,
          -1951.9197156447772,
          -1973.4052139422429,
          -1842.1738700052458,
          -1855.0284444279198,
          -871.2938749004032,
          -1819.2813455782746,
          12100.268721361397,
          -1873.1980679127305,
          -806.9000742610909,
          -1882.698276116801,
          -1956.0237513220504,
          -724.862155229791,
          -1830.6109162278703,
          -1900.7293252957156,
          -1760.779373553633,
          -717.0074727498571,
          -1875.618362865955,
          -1866.1646212950604,
          -1832.4017241274178,
          -1871.6333381087034,
          -1876.1025379720638,
          -1843.8789000738877,
          -1860.347551365777,
          -911.8230264153221,
          -1770.617337214521,
          -1940.7411774933225,
          -837.8845773083632,
          -755.0201446549353,
          -1861.8184131931368,
          -758.4476953229683,
          -1784.323901482771,
          -665.7333966403005,
          -698.5295614216658,
          -1749.4109277276466,
          -918.4973602811764,
          -1994.4118173355334,
          -1770.4040596482064,
          -811.8082945017014,
          -1815.0059410450026,
          -3447.234359860896,
          -766.0583859672336,
          -1807.4120305749557,
          -1870.2320794554375,
          -3483.8475985309315,
          -894.6691874358465,
          -1854.7962108725524,
          -1858.5898747038777,
          -1899.695496273925,
          -790.9132386138291,
          -1822.1337234000653,
          -1660.5318940893435,
          -3395.1693557298336,
          -1901.1231919019117,
          -758.3403800939443,
          -3290.003398761788,
          -1880.8846528740096,
          -1740.1091663772181,
          -3461.568523883449,
          -1935.7558345971174,
          -1851.7175819369734,
          -2764.3545355581728,
          -699.939127605356,
          -1941.2970584727261,
          -798.003868272441,
          -1809.9072033026735,
          -1855.9990948957932,
          -1827.6703685352632,
          -3462.3078847551897,
          -1769.6757684837853,
          63868.43116044699,
          -1896.5077146853469,
          -2400.133061727498,
          -1917.7467357146656,
          -1931.6343541429287,
          -3378.784666911301,
          -804.0699186256998,
          -2787.858834867473,
          -3477.679924769713,
          -3572.73753769727,
          49152.05153596461,
          -2665.180292840428,
          -3373.0293304710463,
          -1851.6601218347967,
          -1878.5242485777192,
          -1764.417109555519,
          -3422.134152289765,
          -835.8609160442769,
          -2364.1786910132364,
          -1884.220487354341,
          8215.208786737558,
          63762.099808268074,
          -1963.362290545054,
          -843.1111100962903,
          8289.289903097491,
          -1878.4532263329277,
          -754.0703721335094,
          63689.032248872376,
          -891.310153979784,
          -842.3665983525586,
          -1775.2972304283658,
          -1868.4216326287683,
          -1829.6054450714364,
          -1917.8195114955126,
          20463.28869956306,
          -1768.9719325817837,
          -3339.1321352029927,
          -804.3674477704519,
          -1864.461931789691,
          -1904.1691951508037,
          -798.5824743239532,
          8079.3910644876905,
          -1919.7799731435512,
          -1853.9060965100598,
          -1921.6534271096784,
          -1905.1601826407114,
          -1076.7066250194914,
          12033.031390147311,
          -3474.0887945189925,
          15146.231262698173,
          12141.565551206288,
          -1859.4484924180451,
          -900.8604962274139,
          -1907.7905356446695,
          -1841.0165022534356,
          -1787.5363778270107,
          -738.7210982863674,
          -1918.1474310900396,
          -802.9341023991643,
          -1840.2970571034616,
          -1860.1469997532417,
          -710.4846326436415,
          -1883.7185073443286,
          -1739.2571887789002,
          -1960.222592427223,
          -805.321355850392,
          -3525.363984214431,
          -1850.8481742487804,
          -1819.3724807820922,
          -871.2201843396467,
          -827.3938759094478,
          -841.6753446456652,
          -4634.102356334415
         ],
         "yaxis": "y"
        }
       ],
       "layout": {
        "coloraxis": {
         "colorbar": {
          "title": {
           "text": "Sensor ID"
          }
         },
         "colorscale": [
          [
           0,
           "#0d0887"
          ],
          [
           0.1111111111111111,
           "#46039f"
          ],
          [
           0.2222222222222222,
           "#7201a8"
          ],
          [
           0.3333333333333333,
           "#9c179e"
          ],
          [
           0.4444444444444444,
           "#bd3786"
          ],
          [
           0.5555555555555556,
           "#d8576b"
          ],
          [
           0.6666666666666666,
           "#ed7953"
          ],
          [
           0.7777777777777778,
           "#fb9f3a"
          ],
          [
           0.8888888888888888,
           "#fdca26"
          ],
          [
           1,
           "#f0f921"
          ]
         ]
        },
        "legend": {
         "tracegroupgap": 0
        },
        "template": {
         "data": {
          "bar": [
           {
            "error_x": {
             "color": "#2a3f5f"
            },
            "error_y": {
             "color": "#2a3f5f"
            },
            "marker": {
             "line": {
              "color": "#E5ECF6",
              "width": 0.5
             },
             "pattern": {
              "fillmode": "overlay",
              "size": 10,
              "solidity": 0.2
             }
            },
            "type": "bar"
           }
          ],
          "barpolar": [
           {
            "marker": {
             "line": {
              "color": "#E5ECF6",
              "width": 0.5
             },
             "pattern": {
              "fillmode": "overlay",
              "size": 10,
              "solidity": 0.2
             }
            },
            "type": "barpolar"
           }
          ],
          "carpet": [
           {
            "aaxis": {
             "endlinecolor": "#2a3f5f",
             "gridcolor": "white",
             "linecolor": "white",
             "minorgridcolor": "white",
             "startlinecolor": "#2a3f5f"
            },
            "baxis": {
             "endlinecolor": "#2a3f5f",
             "gridcolor": "white",
             "linecolor": "white",
             "minorgridcolor": "white",
             "startlinecolor": "#2a3f5f"
            },
            "type": "carpet"
           }
          ],
          "choropleth": [
           {
            "colorbar": {
             "outlinewidth": 0,
             "ticks": ""
            },
            "type": "choropleth"
           }
          ],
          "contour": [
           {
            "colorbar": {
             "outlinewidth": 0,
             "ticks": ""
            },
            "colorscale": [
             [
              0,
              "#0d0887"
             ],
             [
              0.1111111111111111,
              "#46039f"
             ],
             [
              0.2222222222222222,
              "#7201a8"
             ],
             [
              0.3333333333333333,
              "#9c179e"
             ],
             [
              0.4444444444444444,
              "#bd3786"
             ],
             [
              0.5555555555555556,
              "#d8576b"
             ],
             [
              0.6666666666666666,
              "#ed7953"
             ],
             [
              0.7777777777777778,
              "#fb9f3a"
             ],
             [
              0.8888888888888888,
              "#fdca26"
             ],
             [
              1,
              "#f0f921"
             ]
            ],
            "type": "contour"
           }
          ],
          "contourcarpet": [
           {
            "colorbar": {
             "outlinewidth": 0,
             "ticks": ""
            },
            "type": "contourcarpet"
           }
          ],
          "heatmap": [
           {
            "colorbar": {
             "outlinewidth": 0,
             "ticks": ""
            },
            "colorscale": [
             [
              0,
              "#0d0887"
             ],
             [
              0.1111111111111111,
              "#46039f"
             ],
             [
              0.2222222222222222,
              "#7201a8"
             ],
             [
              0.3333333333333333,
              "#9c179e"
             ],
             [
              0.4444444444444444,
              "#bd3786"
             ],
             [
              0.5555555555555556,
              "#d8576b"
             ],
             [
              0.6666666666666666,
              "#ed7953"
             ],
             [
              0.7777777777777778,
              "#fb9f3a"
             ],
             [
              0.8888888888888888,
              "#fdca26"
             ],
             [
              1,
              "#f0f921"
             ]
            ],
            "type": "heatmap"
           }
          ],
          "heatmapgl": [
           {
            "colorbar": {
             "outlinewidth": 0,
             "ticks": ""
            },
            "colorscale": [
             [
              0,
              "#0d0887"
             ],
             [
              0.1111111111111111,
              "#46039f"
             ],
             [
              0.2222222222222222,
              "#7201a8"
             ],
             [
              0.3333333333333333,
              "#9c179e"
             ],
             [
              0.4444444444444444,
              "#bd3786"
             ],
             [
              0.5555555555555556,
              "#d8576b"
             ],
             [
              0.6666666666666666,
              "#ed7953"
             ],
             [
              0.7777777777777778,
              "#fb9f3a"
             ],
             [
              0.8888888888888888,
              "#fdca26"
             ],
             [
              1,
              "#f0f921"
             ]
            ],
            "type": "heatmapgl"
           }
          ],
          "histogram": [
           {
            "marker": {
             "pattern": {
              "fillmode": "overlay",
              "size": 10,
              "solidity": 0.2
             }
            },
            "type": "histogram"
           }
          ],
          "histogram2d": [
           {
            "colorbar": {
             "outlinewidth": 0,
             "ticks": ""
            },
            "colorscale": [
             [
              0,
              "#0d0887"
             ],
             [
              0.1111111111111111,
              "#46039f"
             ],
             [
              0.2222222222222222,
              "#7201a8"
             ],
             [
              0.3333333333333333,
              "#9c179e"
             ],
             [
              0.4444444444444444,
              "#bd3786"
             ],
             [
              0.5555555555555556,
              "#d8576b"
             ],
             [
              0.6666666666666666,
              "#ed7953"
             ],
             [
              0.7777777777777778,
              "#fb9f3a"
             ],
             [
              0.8888888888888888,
              "#fdca26"
             ],
             [
              1,
              "#f0f921"
             ]
            ],
            "type": "histogram2d"
           }
          ],
          "histogram2dcontour": [
           {
            "colorbar": {
             "outlinewidth": 0,
             "ticks": ""
            },
            "colorscale": [
             [
              0,
              "#0d0887"
             ],
             [
              0.1111111111111111,
              "#46039f"
             ],
             [
              0.2222222222222222,
              "#7201a8"
             ],
             [
              0.3333333333333333,
              "#9c179e"
             ],
             [
              0.4444444444444444,
              "#bd3786"
             ],
             [
              0.5555555555555556,
              "#d8576b"
             ],
             [
              0.6666666666666666,
              "#ed7953"
             ],
             [
              0.7777777777777778,
              "#fb9f3a"
             ],
             [
              0.8888888888888888,
              "#fdca26"
             ],
             [
              1,
              "#f0f921"
             ]
            ],
            "type": "histogram2dcontour"
           }
          ],
          "mesh3d": [
           {
            "colorbar": {
             "outlinewidth": 0,
             "ticks": ""
            },
            "type": "mesh3d"
           }
          ],
          "parcoords": [
           {
            "line": {
             "colorbar": {
              "outlinewidth": 0,
              "ticks": ""
             }
            },
            "type": "parcoords"
           }
          ],
          "pie": [
           {
            "automargin": true,
            "type": "pie"
           }
          ],
          "scatter": [
           {
            "fillpattern": {
             "fillmode": "overlay",
             "size": 10,
             "solidity": 0.2
            },
            "type": "scatter"
           }
          ],
          "scatter3d": [
           {
            "line": {
             "colorbar": {
              "outlinewidth": 0,
              "ticks": ""
             }
            },
            "marker": {
             "colorbar": {
              "outlinewidth": 0,
              "ticks": ""
             }
            },
            "type": "scatter3d"
           }
          ],
          "scattercarpet": [
           {
            "marker": {
             "colorbar": {
              "outlinewidth": 0,
              "ticks": ""
             }
            },
            "type": "scattercarpet"
           }
          ],
          "scattergeo": [
           {
            "marker": {
             "colorbar": {
              "outlinewidth": 0,
              "ticks": ""
             }
            },
            "type": "scattergeo"
           }
          ],
          "scattergl": [
           {
            "marker": {
             "colorbar": {
              "outlinewidth": 0,
              "ticks": ""
             }
            },
            "type": "scattergl"
           }
          ],
          "scattermapbox": [
           {
            "marker": {
             "colorbar": {
              "outlinewidth": 0,
              "ticks": ""
             }
            },
            "type": "scattermapbox"
           }
          ],
          "scatterpolar": [
           {
            "marker": {
             "colorbar": {
              "outlinewidth": 0,
              "ticks": ""
             }
            },
            "type": "scatterpolar"
           }
          ],
          "scatterpolargl": [
           {
            "marker": {
             "colorbar": {
              "outlinewidth": 0,
              "ticks": ""
             }
            },
            "type": "scatterpolargl"
           }
          ],
          "scatterternary": [
           {
            "marker": {
             "colorbar": {
              "outlinewidth": 0,
              "ticks": ""
             }
            },
            "type": "scatterternary"
           }
          ],
          "surface": [
           {
            "colorbar": {
             "outlinewidth": 0,
             "ticks": ""
            },
            "colorscale": [
             [
              0,
              "#0d0887"
             ],
             [
              0.1111111111111111,
              "#46039f"
             ],
             [
              0.2222222222222222,
              "#7201a8"
             ],
             [
              0.3333333333333333,
              "#9c179e"
             ],
             [
              0.4444444444444444,
              "#bd3786"
             ],
             [
              0.5555555555555556,
              "#d8576b"
             ],
             [
              0.6666666666666666,
              "#ed7953"
             ],
             [
              0.7777777777777778,
              "#fb9f3a"
             ],
             [
              0.8888888888888888,
              "#fdca26"
             ],
             [
              1,
              "#f0f921"
             ]
            ],
            "type": "surface"
           }
          ],
          "table": [
           {
            "cells": {
             "fill": {
              "color": "#EBF0F8"
             },
             "line": {
              "color": "white"
             }
            },
            "header": {
             "fill": {
              "color": "#C8D4E3"
             },
             "line": {
              "color": "white"
             }
            },
            "type": "table"
           }
          ]
         },
         "layout": {
          "annotationdefaults": {
           "arrowcolor": "#2a3f5f",
           "arrowhead": 0,
           "arrowwidth": 1
          },
          "autotypenumbers": "strict",
          "coloraxis": {
           "colorbar": {
            "outlinewidth": 0,
            "ticks": ""
           }
          },
          "colorscale": {
           "diverging": [
            [
             0,
             "#8e0152"
            ],
            [
             0.1,
             "#c51b7d"
            ],
            [
             0.2,
             "#de77ae"
            ],
            [
             0.3,
             "#f1b6da"
            ],
            [
             0.4,
             "#fde0ef"
            ],
            [
             0.5,
             "#f7f7f7"
            ],
            [
             0.6,
             "#e6f5d0"
            ],
            [
             0.7,
             "#b8e186"
            ],
            [
             0.8,
             "#7fbc41"
            ],
            [
             0.9,
             "#4d9221"
            ],
            [
             1,
             "#276419"
            ]
           ],
           "sequential": [
            [
             0,
             "#0d0887"
            ],
            [
             0.1111111111111111,
             "#46039f"
            ],
            [
             0.2222222222222222,
             "#7201a8"
            ],
            [
             0.3333333333333333,
             "#9c179e"
            ],
            [
             0.4444444444444444,
             "#bd3786"
            ],
            [
             0.5555555555555556,
             "#d8576b"
            ],
            [
             0.6666666666666666,
             "#ed7953"
            ],
            [
             0.7777777777777778,
             "#fb9f3a"
            ],
            [
             0.8888888888888888,
             "#fdca26"
            ],
            [
             1,
             "#f0f921"
            ]
           ],
           "sequentialminus": [
            [
             0,
             "#0d0887"
            ],
            [
             0.1111111111111111,
             "#46039f"
            ],
            [
             0.2222222222222222,
             "#7201a8"
            ],
            [
             0.3333333333333333,
             "#9c179e"
            ],
            [
             0.4444444444444444,
             "#bd3786"
            ],
            [
             0.5555555555555556,
             "#d8576b"
            ],
            [
             0.6666666666666666,
             "#ed7953"
            ],
            [
             0.7777777777777778,
             "#fb9f3a"
            ],
            [
             0.8888888888888888,
             "#fdca26"
            ],
            [
             1,
             "#f0f921"
            ]
           ]
          },
          "colorway": [
           "#636efa",
           "#EF553B",
           "#00cc96",
           "#ab63fa",
           "#FFA15A",
           "#19d3f3",
           "#FF6692",
           "#B6E880",
           "#FF97FF",
           "#FECB52"
          ],
          "font": {
           "color": "#2a3f5f"
          },
          "geo": {
           "bgcolor": "white",
           "lakecolor": "white",
           "landcolor": "#E5ECF6",
           "showlakes": true,
           "showland": true,
           "subunitcolor": "white"
          },
          "hoverlabel": {
           "align": "left"
          },
          "hovermode": "closest",
          "mapbox": {
           "style": "light"
          },
          "paper_bgcolor": "white",
          "plot_bgcolor": "#E5ECF6",
          "polar": {
           "angularaxis": {
            "gridcolor": "white",
            "linecolor": "white",
            "ticks": ""
           },
           "bgcolor": "#E5ECF6",
           "radialaxis": {
            "gridcolor": "white",
            "linecolor": "white",
            "ticks": ""
           }
          },
          "scene": {
           "xaxis": {
            "backgroundcolor": "#E5ECF6",
            "gridcolor": "white",
            "gridwidth": 2,
            "linecolor": "white",
            "showbackground": true,
            "ticks": "",
            "zerolinecolor": "white"
           },
           "yaxis": {
            "backgroundcolor": "#E5ECF6",
            "gridcolor": "white",
            "gridwidth": 2,
            "linecolor": "white",
            "showbackground": true,
            "ticks": "",
            "zerolinecolor": "white"
           },
           "zaxis": {
            "backgroundcolor": "#E5ECF6",
            "gridcolor": "white",
            "gridwidth": 2,
            "linecolor": "white",
            "showbackground": true,
            "ticks": "",
            "zerolinecolor": "white"
           }
          },
          "shapedefaults": {
           "line": {
            "color": "#2a3f5f"
           }
          },
          "ternary": {
           "aaxis": {
            "gridcolor": "white",
            "linecolor": "white",
            "ticks": ""
           },
           "baxis": {
            "gridcolor": "white",
            "linecolor": "white",
            "ticks": ""
           },
           "bgcolor": "#E5ECF6",
           "caxis": {
            "gridcolor": "white",
            "linecolor": "white",
            "ticks": ""
           }
          },
          "title": {
           "x": 0.05
          },
          "xaxis": {
           "automargin": true,
           "gridcolor": "white",
           "linecolor": "white",
           "ticks": "",
           "title": {
            "standoff": 15
           },
           "zerolinecolor": "white",
           "zerolinewidth": 2
          },
          "yaxis": {
           "automargin": true,
           "gridcolor": "white",
           "linecolor": "white",
           "ticks": "",
           "title": {
            "standoff": 15
           },
           "zerolinecolor": "white",
           "zerolinewidth": 2
          }
         }
        },
        "title": {
         "text": "Sensors Visualized Using Principal Components"
        },
        "xaxis": {
         "anchor": "y",
         "domain": [
          0,
          1
         ],
         "title": {
          "text": "Principal Component 1"
         }
        },
        "yaxis": {
         "anchor": "x",
         "domain": [
          0,
          1
         ],
         "title": {
          "text": "Principal Component 2"
         }
        }
       }
      }
     },
     "metadata": {},
     "output_type": "display_data"
    }
   ],
   "source": [
    "# Plot the PCA interactive plot\n",
    "plot_pca_interactive(reduced_data_corr, sensor_id_col='Sensor ID', n_components=2)"
   ]
  },
  {
   "cell_type": "markdown",
   "metadata": {},
   "source": [
    "## Clustering"
   ]
  },
  {
   "cell_type": "code",
   "execution_count": 37,
   "metadata": {},
   "outputs": [
    {
     "name": "stderr",
     "output_type": "stream",
     "text": [
      "c:\\Anaconda\\envs\\datascience\\lib\\site-packages\\sklearn\\cluster\\_kmeans.py:1412: FutureWarning:\n",
      "\n",
      "The default value of `n_init` will change from 10 to 'auto' in 1.4. Set the value of `n_init` explicitly to suppress the warning\n",
      "\n",
      "c:\\Anaconda\\envs\\datascience\\lib\\site-packages\\sklearn\\cluster\\_kmeans.py:1436: UserWarning:\n",
      "\n",
      "KMeans is known to have a memory leak on Windows with MKL, when there are less chunks than available threads. You can avoid it by setting the environment variable OMP_NUM_THREADS=1.\n",
      "\n"
     ]
    },
    {
     "data": {
      "application/vnd.plotly.v1+json": {
       "config": {
        "plotlyServerURL": "https://plot.ly"
       },
       "data": [
        {
         "customdata": [
          [
           1
          ]
         ],
         "hovertemplate": "Sensor ID=%{customdata[0]}<br>Principal Component 1=%{x}<br>Principal Component 2=%{y}<br>Principal Component 3=%{z}<br>Cluster=%{marker.color}<extra></extra>",
         "legendgroup": "1",
         "marker": {
          "color": [
           0
          ],
          "coloraxis": "coloraxis",
          "symbol": "circle"
         },
         "mode": "markers",
         "name": "1",
         "scene": "scene",
         "showlegend": true,
         "type": "scatter3d",
         "x": [
          -7273.476304953265
         ],
         "y": [
          -1897.0393781220687
         ],
         "z": [
          907.0647949947934
         ]
        },
        {
         "customdata": [
          [
           2
          ]
         ],
         "hovertemplate": "Sensor ID=%{customdata[0]}<br>Principal Component 1=%{x}<br>Principal Component 2=%{y}<br>Principal Component 3=%{z}<br>Cluster=%{marker.color}<extra></extra>",
         "legendgroup": "2",
         "marker": {
          "color": [
           0
          ],
          "coloraxis": "coloraxis",
          "symbol": "diamond"
         },
         "mode": "markers",
         "name": "2",
         "scene": "scene",
         "showlegend": true,
         "type": "scatter3d",
         "x": [
          -7420.859036447755
         ],
         "y": [
          -1809.4315814027982
         ],
         "z": [
          -809.3519437222179
         ]
        },
        {
         "customdata": [
          [
           3
          ]
         ],
         "hovertemplate": "Sensor ID=%{customdata[0]}<br>Principal Component 1=%{x}<br>Principal Component 2=%{y}<br>Principal Component 3=%{z}<br>Cluster=%{marker.color}<extra></extra>",
         "legendgroup": "3",
         "marker": {
          "color": [
           0
          ],
          "coloraxis": "coloraxis",
          "symbol": "square"
         },
         "mode": "markers",
         "name": "3",
         "scene": "scene",
         "showlegend": true,
         "type": "scatter3d",
         "x": [
          -7268.110981117821
         ],
         "y": [
          -1952.008223220919
         ],
         "z": [
          627.5032410756121
         ]
        },
        {
         "customdata": [
          [
           4
          ]
         ],
         "hovertemplate": "Sensor ID=%{customdata[0]}<br>Principal Component 1=%{x}<br>Principal Component 2=%{y}<br>Principal Component 3=%{z}<br>Cluster=%{marker.color}<extra></extra>",
         "legendgroup": "4",
         "marker": {
          "color": [
           0
          ],
          "coloraxis": "coloraxis",
          "symbol": "x"
         },
         "mode": "markers",
         "name": "4",
         "scene": "scene",
         "showlegend": true,
         "type": "scatter3d",
         "x": [
          -8064.767421613656
         ],
         "y": [
          -846.6846472961598
         ],
         "z": [
          764.9754518425949
         ]
        },
        {
         "customdata": [
          [
           5
          ]
         ],
         "hovertemplate": "Sensor ID=%{customdata[0]}<br>Principal Component 1=%{x}<br>Principal Component 2=%{y}<br>Principal Component 3=%{z}<br>Cluster=%{marker.color}<extra></extra>",
         "legendgroup": "5",
         "marker": {
          "color": [
           0
          ],
          "coloraxis": "coloraxis",
          "symbol": "cross"
         },
         "mode": "markers",
         "name": "5",
         "scene": "scene",
         "showlegend": true,
         "type": "scatter3d",
         "x": [
          -8083.291493912826
         ],
         "y": [
          -1814.2625518572397
         ],
         "z": [
          -625.0110530332894
         ]
        },
        {
         "customdata": [
          [
           6
          ]
         ],
         "hovertemplate": "Sensor ID=%{customdata[0]}<br>Principal Component 1=%{x}<br>Principal Component 2=%{y}<br>Principal Component 3=%{z}<br>Cluster=%{marker.color}<extra></extra>",
         "legendgroup": "6",
         "marker": {
          "color": [
           0
          ],
          "coloraxis": "coloraxis",
          "symbol": "circle"
         },
         "mode": "markers",
         "name": "6",
         "scene": "scene",
         "showlegend": true,
         "type": "scatter3d",
         "x": [
          -8171.540146412936
         ],
         "y": [
          -1894.139211018736
         ],
         "z": [
          -698.0047484346176
         ]
        },
        {
         "customdata": [
          [
           7
          ]
         ],
         "hovertemplate": "Sensor ID=%{customdata[0]}<br>Principal Component 1=%{x}<br>Principal Component 2=%{y}<br>Principal Component 3=%{z}<br>Cluster=%{marker.color}<extra></extra>",
         "legendgroup": "7",
         "marker": {
          "color": [
           0
          ],
          "coloraxis": "coloraxis",
          "symbol": "diamond"
         },
         "mode": "markers",
         "name": "7",
         "scene": "scene",
         "showlegend": true,
         "type": "scatter3d",
         "x": [
          -7323.806382083791
         ],
         "y": [
          -1807.4571558325752
         ],
         "z": [
          -542.3300250095876
         ]
        },
        {
         "customdata": [
          [
           8
          ]
         ],
         "hovertemplate": "Sensor ID=%{customdata[0]}<br>Principal Component 1=%{x}<br>Principal Component 2=%{y}<br>Principal Component 3=%{z}<br>Cluster=%{marker.color}<extra></extra>",
         "legendgroup": "8",
         "marker": {
          "color": [
           0
          ],
          "coloraxis": "coloraxis",
          "symbol": "square"
         },
         "mode": "markers",
         "name": "8",
         "scene": "scene",
         "showlegend": true,
         "type": "scatter3d",
         "x": [
          -8063.303907184864
         ],
         "y": [
          -1774.13205887528
         ],
         "z": [
          729.8493268289822
         ]
        },
        {
         "customdata": [
          [
           9
          ]
         ],
         "hovertemplate": "Sensor ID=%{customdata[0]}<br>Principal Component 1=%{x}<br>Principal Component 2=%{y}<br>Principal Component 3=%{z}<br>Cluster=%{marker.color}<extra></extra>",
         "legendgroup": "9",
         "marker": {
          "color": [
           0
          ],
          "coloraxis": "coloraxis",
          "symbol": "x"
         },
         "mode": "markers",
         "name": "9",
         "scene": "scene",
         "showlegend": true,
         "type": "scatter3d",
         "x": [
          -8115.138960230346
         ],
         "y": [
          -1813.3551399012488
         ],
         "z": [
          -708.118318318018
         ]
        },
        {
         "customdata": [
          [
           10
          ]
         ],
         "hovertemplate": "Sensor ID=%{customdata[0]}<br>Principal Component 1=%{x}<br>Principal Component 2=%{y}<br>Principal Component 3=%{z}<br>Cluster=%{marker.color}<extra></extra>",
         "legendgroup": "10",
         "marker": {
          "color": [
           0
          ],
          "coloraxis": "coloraxis",
          "symbol": "cross"
         },
         "mode": "markers",
         "name": "10",
         "scene": "scene",
         "showlegend": true,
         "type": "scatter3d",
         "x": [
          -8147.315366394051
         ],
         "y": [
          -1725.7704820289812
         ],
         "z": [
          -690.3556501703764
         ]
        },
        {
         "customdata": [
          [
           11
          ]
         ],
         "hovertemplate": "Sensor ID=%{customdata[0]}<br>Principal Component 1=%{x}<br>Principal Component 2=%{y}<br>Principal Component 3=%{z}<br>Cluster=%{marker.color}<extra></extra>",
         "legendgroup": "11",
         "marker": {
          "color": [
           0
          ],
          "coloraxis": "coloraxis",
          "symbol": "circle"
         },
         "mode": "markers",
         "name": "11",
         "scene": "scene",
         "showlegend": true,
         "type": "scatter3d",
         "x": [
          -7239.505810872207
         ],
         "y": [
          -1903.6689518197427
         ],
         "z": [
          955.0440881563836
         ]
        },
        {
         "customdata": [
          [
           12
          ]
         ],
         "hovertemplate": "Sensor ID=%{customdata[0]}<br>Principal Component 1=%{x}<br>Principal Component 2=%{y}<br>Principal Component 3=%{z}<br>Cluster=%{marker.color}<extra></extra>",
         "legendgroup": "12",
         "marker": {
          "color": [
           0
          ],
          "coloraxis": "coloraxis",
          "symbol": "diamond"
         },
         "mode": "markers",
         "name": "12",
         "scene": "scene",
         "showlegend": true,
         "type": "scatter3d",
         "x": [
          -7326.325541172304
         ],
         "y": [
          -1817.4702159771555
         ],
         "z": [
          -410.31317769380956
         ]
        },
        {
         "customdata": [
          [
           13
          ]
         ],
         "hovertemplate": "Sensor ID=%{customdata[0]}<br>Principal Component 1=%{x}<br>Principal Component 2=%{y}<br>Principal Component 3=%{z}<br>Cluster=%{marker.color}<extra></extra>",
         "legendgroup": "13",
         "marker": {
          "color": [
           0
          ],
          "coloraxis": "coloraxis",
          "symbol": "square"
         },
         "mode": "markers",
         "name": "13",
         "scene": "scene",
         "showlegend": true,
         "type": "scatter3d",
         "x": [
          -8127.053490615037
         ],
         "y": [
          -745.2347945674666
         ],
         "z": [
          -643.4665930171004
         ]
        },
        {
         "customdata": [
          [
           14
          ]
         ],
         "hovertemplate": "Sensor ID=%{customdata[0]}<br>Principal Component 1=%{x}<br>Principal Component 2=%{y}<br>Principal Component 3=%{z}<br>Cluster=%{marker.color}<extra></extra>",
         "legendgroup": "14",
         "marker": {
          "color": [
           0
          ],
          "coloraxis": "coloraxis",
          "symbol": "x"
         },
         "mode": "markers",
         "name": "14",
         "scene": "scene",
         "showlegend": true,
         "type": "scatter3d",
         "x": [
          -8036.69033077152
         ],
         "y": [
          -1876.4507550604333
         ],
         "z": [
          -756.8864345076618
         ]
        },
        {
         "customdata": [
          [
           15
          ]
         ],
         "hovertemplate": "Sensor ID=%{customdata[0]}<br>Principal Component 1=%{x}<br>Principal Component 2=%{y}<br>Principal Component 3=%{z}<br>Cluster=%{marker.color}<extra></extra>",
         "legendgroup": "15",
         "marker": {
          "color": [
           0
          ],
          "coloraxis": "coloraxis",
          "symbol": "cross"
         },
         "mode": "markers",
         "name": "15",
         "scene": "scene",
         "showlegend": true,
         "type": "scatter3d",
         "x": [
          -7977.8088930615095
         ],
         "y": [
          -841.6119770770839
         ],
         "z": [
          900.5503022113857
         ]
        },
        {
         "customdata": [
          [
           16
          ]
         ],
         "hovertemplate": "Sensor ID=%{customdata[0]}<br>Principal Component 1=%{x}<br>Principal Component 2=%{y}<br>Principal Component 3=%{z}<br>Cluster=%{marker.color}<extra></extra>",
         "legendgroup": "16",
         "marker": {
          "color": [
           0
          ],
          "coloraxis": "coloraxis",
          "symbol": "circle"
         },
         "mode": "markers",
         "name": "16",
         "scene": "scene",
         "showlegend": true,
         "type": "scatter3d",
         "x": [
          -8078.422899124778
         ],
         "y": [
          -1778.8071211474671
         ],
         "z": [
          662.7444947077354
         ]
        },
        {
         "customdata": [
          [
           17
          ]
         ],
         "hovertemplate": "Sensor ID=%{customdata[0]}<br>Principal Component 1=%{x}<br>Principal Component 2=%{y}<br>Principal Component 3=%{z}<br>Cluster=%{marker.color}<extra></extra>",
         "legendgroup": "17",
         "marker": {
          "color": [
           0
          ],
          "coloraxis": "coloraxis",
          "symbol": "diamond"
         },
         "mode": "markers",
         "name": "17",
         "scene": "scene",
         "showlegend": true,
         "type": "scatter3d",
         "x": [
          -8051.87329208923
         ],
         "y": [
          -789.0007740761439
         ],
         "z": [
          -618.9283902494676
         ]
        },
        {
         "customdata": [
          [
           18
          ]
         ],
         "hovertemplate": "Sensor ID=%{customdata[0]}<br>Principal Component 1=%{x}<br>Principal Component 2=%{y}<br>Principal Component 3=%{z}<br>Cluster=%{marker.color}<extra></extra>",
         "legendgroup": "18",
         "marker": {
          "color": [
           0
          ],
          "coloraxis": "coloraxis",
          "symbol": "square"
         },
         "mode": "markers",
         "name": "18",
         "scene": "scene",
         "showlegend": true,
         "type": "scatter3d",
         "x": [
          -8083.32527781962
         ],
         "y": [
          -1824.4861484386813
         ],
         "z": [
          -663.2756641340435
         ]
        },
        {
         "customdata": [
          [
           19
          ]
         ],
         "hovertemplate": "Sensor ID=%{customdata[0]}<br>Principal Component 1=%{x}<br>Principal Component 2=%{y}<br>Principal Component 3=%{z}<br>Cluster=%{marker.color}<extra></extra>",
         "legendgroup": "19",
         "marker": {
          "color": [
           0
          ],
          "coloraxis": "coloraxis",
          "symbol": "x"
         },
         "mode": "markers",
         "name": "19",
         "scene": "scene",
         "showlegend": true,
         "type": "scatter3d",
         "x": [
          -8025.530123965139
         ],
         "y": [
          -828.3241098898238
         ],
         "z": [
          -598.3103803819993
         ]
        },
        {
         "customdata": [
          [
           20
          ]
         ],
         "hovertemplate": "Sensor ID=%{customdata[0]}<br>Principal Component 1=%{x}<br>Principal Component 2=%{y}<br>Principal Component 3=%{z}<br>Cluster=%{marker.color}<extra></extra>",
         "legendgroup": "20",
         "marker": {
          "color": [
           0
          ],
          "coloraxis": "coloraxis",
          "symbol": "cross"
         },
         "mode": "markers",
         "name": "20",
         "scene": "scene",
         "showlegend": true,
         "type": "scatter3d",
         "x": [
          -7769.718862390066
         ],
         "y": [
          -1742.3535199156554
         ],
         "z": [
          -744.7965255566011
         ]
        },
        {
         "customdata": [
          [
           21
          ]
         ],
         "hovertemplate": "Sensor ID=%{customdata[0]}<br>Principal Component 1=%{x}<br>Principal Component 2=%{y}<br>Principal Component 3=%{z}<br>Cluster=%{marker.color}<extra></extra>",
         "legendgroup": "21",
         "marker": {
          "color": [
           0
          ],
          "coloraxis": "coloraxis",
          "symbol": "circle"
         },
         "mode": "markers",
         "name": "21",
         "scene": "scene",
         "showlegend": true,
         "type": "scatter3d",
         "x": [
          -8127.7675312231995
         ],
         "y": [
          -1823.2105326422893
         ],
         "z": [
          804.1559736632281
         ]
        },
        {
         "customdata": [
          [
           22
          ]
         ],
         "hovertemplate": "Sensor ID=%{customdata[0]}<br>Principal Component 1=%{x}<br>Principal Component 2=%{y}<br>Principal Component 3=%{z}<br>Cluster=%{marker.color}<extra></extra>",
         "legendgroup": "22",
         "marker": {
          "color": [
           0
          ],
          "coloraxis": "coloraxis",
          "symbol": "diamond"
         },
         "mode": "markers",
         "name": "22",
         "scene": "scene",
         "showlegend": true,
         "type": "scatter3d",
         "x": [
          -8062.838057785136
         ],
         "y": [
          -1881.2017592364796
         ],
         "z": [
          -566.4244161699506
         ]
        },
        {
         "customdata": [
          [
           23
          ]
         ],
         "hovertemplate": "Sensor ID=%{customdata[0]}<br>Principal Component 1=%{x}<br>Principal Component 2=%{y}<br>Principal Component 3=%{z}<br>Cluster=%{marker.color}<extra></extra>",
         "legendgroup": "23",
         "marker": {
          "color": [
           0
          ],
          "coloraxis": "coloraxis",
          "symbol": "square"
         },
         "mode": "markers",
         "name": "23",
         "scene": "scene",
         "showlegend": true,
         "type": "scatter3d",
         "x": [
          -8091.512348662946
         ],
         "y": [
          -1837.4187602782179
         ],
         "z": [
          -594.666200447713
         ]
        },
        {
         "customdata": [
          [
           24
          ]
         ],
         "hovertemplate": "Sensor ID=%{customdata[0]}<br>Principal Component 1=%{x}<br>Principal Component 2=%{y}<br>Principal Component 3=%{z}<br>Cluster=%{marker.color}<extra></extra>",
         "legendgroup": "24",
         "marker": {
          "color": [
           0
          ],
          "coloraxis": "coloraxis",
          "symbol": "x"
         },
         "mode": "markers",
         "name": "24",
         "scene": "scene",
         "showlegend": true,
         "type": "scatter3d",
         "x": [
          -8119.411481777347
         ],
         "y": [
          -1860.618616261323
         ],
         "z": [
          -628.1593234702801
         ]
        },
        {
         "customdata": [
          [
           25
          ]
         ],
         "hovertemplate": "Sensor ID=%{customdata[0]}<br>Principal Component 1=%{x}<br>Principal Component 2=%{y}<br>Principal Component 3=%{z}<br>Cluster=%{marker.color}<extra></extra>",
         "legendgroup": "25",
         "marker": {
          "color": [
           0
          ],
          "coloraxis": "coloraxis",
          "symbol": "cross"
         },
         "mode": "markers",
         "name": "25",
         "scene": "scene",
         "showlegend": true,
         "type": "scatter3d",
         "x": [
          -8015.536908593749
         ],
         "y": [
          -1787.222154284195
         ],
         "z": [
          -463.7224145390193
         ]
        },
        {
         "customdata": [
          [
           26
          ]
         ],
         "hovertemplate": "Sensor ID=%{customdata[0]}<br>Principal Component 1=%{x}<br>Principal Component 2=%{y}<br>Principal Component 3=%{z}<br>Cluster=%{marker.color}<extra></extra>",
         "legendgroup": "26",
         "marker": {
          "color": [
           0
          ],
          "coloraxis": "coloraxis",
          "symbol": "circle"
         },
         "mode": "markers",
         "name": "26",
         "scene": "scene",
         "showlegend": true,
         "type": "scatter3d",
         "x": [
          -8110.60424115583
         ],
         "y": [
          -1926.5170605034089
         ],
         "z": [
          -834.6110759072974
         ]
        },
        {
         "customdata": [
          [
           27
          ]
         ],
         "hovertemplate": "Sensor ID=%{customdata[0]}<br>Principal Component 1=%{x}<br>Principal Component 2=%{y}<br>Principal Component 3=%{z}<br>Cluster=%{marker.color}<extra></extra>",
         "legendgroup": "27",
         "marker": {
          "color": [
           0
          ],
          "coloraxis": "coloraxis",
          "symbol": "diamond"
         },
         "mode": "markers",
         "name": "27",
         "scene": "scene",
         "showlegend": true,
         "type": "scatter3d",
         "x": [
          -8024.642745749447
         ],
         "y": [
          -1816.3260697678193
         ],
         "z": [
          1039.426834722119
         ]
        },
        {
         "customdata": [
          [
           28
          ]
         ],
         "hovertemplate": "Sensor ID=%{customdata[0]}<br>Principal Component 1=%{x}<br>Principal Component 2=%{y}<br>Principal Component 3=%{z}<br>Cluster=%{marker.color}<extra></extra>",
         "legendgroup": "28",
         "marker": {
          "color": [
           0
          ],
          "coloraxis": "coloraxis",
          "symbol": "square"
         },
         "mode": "markers",
         "name": "28",
         "scene": "scene",
         "showlegend": true,
         "type": "scatter3d",
         "x": [
          -8061.306707774538
         ],
         "y": [
          -879.7378844359099
         ],
         "z": [
          -496.5892480685038
         ]
        },
        {
         "customdata": [
          [
           29
          ]
         ],
         "hovertemplate": "Sensor ID=%{customdata[0]}<br>Principal Component 1=%{x}<br>Principal Component 2=%{y}<br>Principal Component 3=%{z}<br>Cluster=%{marker.color}<extra></extra>",
         "legendgroup": "29",
         "marker": {
          "color": [
           0
          ],
          "coloraxis": "coloraxis",
          "symbol": "x"
         },
         "mode": "markers",
         "name": "29",
         "scene": "scene",
         "showlegend": true,
         "type": "scatter3d",
         "x": [
          -8100.563458026908
         ],
         "y": [
          -800.7910331313708
         ],
         "z": [
          -421.03742518321576
         ]
        },
        {
         "customdata": [
          [
           30
          ]
         ],
         "hovertemplate": "Sensor ID=%{customdata[0]}<br>Principal Component 1=%{x}<br>Principal Component 2=%{y}<br>Principal Component 3=%{z}<br>Cluster=%{marker.color}<extra></extra>",
         "legendgroup": "30",
         "marker": {
          "color": [
           0
          ],
          "coloraxis": "coloraxis",
          "symbol": "cross"
         },
         "mode": "markers",
         "name": "30",
         "scene": "scene",
         "showlegend": true,
         "type": "scatter3d",
         "x": [
          -7960.740006275549
         ],
         "y": [
          -1954.927542314539
         ],
         "z": [
          883.4881952094355
         ]
        },
        {
         "customdata": [
          [
           32
          ]
         ],
         "hovertemplate": "Sensor ID=%{customdata[0]}<br>Principal Component 1=%{x}<br>Principal Component 2=%{y}<br>Principal Component 3=%{z}<br>Cluster=%{marker.color}<extra></extra>",
         "legendgroup": "32",
         "marker": {
          "color": [
           0
          ],
          "coloraxis": "coloraxis",
          "symbol": "circle"
         },
         "mode": "markers",
         "name": "32",
         "scene": "scene",
         "showlegend": true,
         "type": "scatter3d",
         "x": [
          -8043.630430513575
         ],
         "y": [
          -1836.1509861739385
         ],
         "z": [
          -783.5896387055342
         ]
        },
        {
         "customdata": [
          [
           33
          ]
         ],
         "hovertemplate": "Sensor ID=%{customdata[0]}<br>Principal Component 1=%{x}<br>Principal Component 2=%{y}<br>Principal Component 3=%{z}<br>Cluster=%{marker.color}<extra></extra>",
         "legendgroup": "33",
         "marker": {
          "color": [
           0
          ],
          "coloraxis": "coloraxis",
          "symbol": "diamond"
         },
         "mode": "markers",
         "name": "33",
         "scene": "scene",
         "showlegend": true,
         "type": "scatter3d",
         "x": [
          -8055.065842957497
         ],
         "y": [
          -1754.7782933960218
         ],
         "z": [
          653.157352383657
         ]
        },
        {
         "customdata": [
          [
           34
          ]
         ],
         "hovertemplate": "Sensor ID=%{customdata[0]}<br>Principal Component 1=%{x}<br>Principal Component 2=%{y}<br>Principal Component 3=%{z}<br>Cluster=%{marker.color}<extra></extra>",
         "legendgroup": "34",
         "marker": {
          "color": [
           0
          ],
          "coloraxis": "coloraxis",
          "symbol": "square"
         },
         "mode": "markers",
         "name": "34",
         "scene": "scene",
         "showlegend": true,
         "type": "scatter3d",
         "x": [
          -7990.789601605706
         ],
         "y": [
          -1850.1329707430014
         ],
         "z": [
          -143.59377935515153
         ]
        },
        {
         "customdata": [
          [
           35
          ]
         ],
         "hovertemplate": "Sensor ID=%{customdata[0]}<br>Principal Component 1=%{x}<br>Principal Component 2=%{y}<br>Principal Component 3=%{z}<br>Cluster=%{marker.color}<extra></extra>",
         "legendgroup": "35",
         "marker": {
          "color": [
           0
          ],
          "coloraxis": "coloraxis",
          "symbol": "x"
         },
         "mode": "markers",
         "name": "35",
         "scene": "scene",
         "showlegend": true,
         "type": "scatter3d",
         "x": [
          -7204.47174811102
         ],
         "y": [
          -1925.5393291634773
         ],
         "z": [
          761.388077048418
         ]
        },
        {
         "customdata": [
          [
           36
          ]
         ],
         "hovertemplate": "Sensor ID=%{customdata[0]}<br>Principal Component 1=%{x}<br>Principal Component 2=%{y}<br>Principal Component 3=%{z}<br>Cluster=%{marker.color}<extra></extra>",
         "legendgroup": "36",
         "marker": {
          "color": [
           0
          ],
          "coloraxis": "coloraxis",
          "symbol": "cross"
         },
         "mode": "markers",
         "name": "36",
         "scene": "scene",
         "showlegend": true,
         "type": "scatter3d",
         "x": [
          -7311.503370428162
         ],
         "y": [
          -1891.74693710161
         ],
         "z": [
          -892.9632679987545
         ]
        },
        {
         "customdata": [
          [
           37
          ]
         ],
         "hovertemplate": "Sensor ID=%{customdata[0]}<br>Principal Component 1=%{x}<br>Principal Component 2=%{y}<br>Principal Component 3=%{z}<br>Cluster=%{marker.color}<extra></extra>",
         "legendgroup": "37",
         "marker": {
          "color": [
           0
          ],
          "coloraxis": "coloraxis",
          "symbol": "circle"
         },
         "mode": "markers",
         "name": "37",
         "scene": "scene",
         "showlegend": true,
         "type": "scatter3d",
         "x": [
          -8035.775112039517
         ],
         "y": [
          -767.0361542255042
         ],
         "z": [
          522.3311801437077
         ]
        },
        {
         "customdata": [
          [
           38
          ]
         ],
         "hovertemplate": "Sensor ID=%{customdata[0]}<br>Principal Component 1=%{x}<br>Principal Component 2=%{y}<br>Principal Component 3=%{z}<br>Cluster=%{marker.color}<extra></extra>",
         "legendgroup": "38",
         "marker": {
          "color": [
           0
          ],
          "coloraxis": "coloraxis",
          "symbol": "diamond"
         },
         "mode": "markers",
         "name": "38",
         "scene": "scene",
         "showlegend": true,
         "type": "scatter3d",
         "x": [
          -8065.604806902261
         ],
         "y": [
          -1720.5789559999112
         ],
         "z": [
          -458.5022061486418
         ]
        },
        {
         "customdata": [
          [
           39
          ]
         ],
         "hovertemplate": "Sensor ID=%{customdata[0]}<br>Principal Component 1=%{x}<br>Principal Component 2=%{y}<br>Principal Component 3=%{z}<br>Cluster=%{marker.color}<extra></extra>",
         "legendgroup": "39",
         "marker": {
          "color": [
           0
          ],
          "coloraxis": "coloraxis",
          "symbol": "square"
         },
         "mode": "markers",
         "name": "39",
         "scene": "scene",
         "showlegend": true,
         "type": "scatter3d",
         "x": [
          -7320.965397499317
         ],
         "y": [
          -678.8198208070316
         ],
         "z": [
          -753.9453735701384
         ]
        },
        {
         "customdata": [
          [
           40
          ]
         ],
         "hovertemplate": "Sensor ID=%{customdata[0]}<br>Principal Component 1=%{x}<br>Principal Component 2=%{y}<br>Principal Component 3=%{z}<br>Cluster=%{marker.color}<extra></extra>",
         "legendgroup": "40",
         "marker": {
          "color": [
           0
          ],
          "coloraxis": "coloraxis",
          "symbol": "x"
         },
         "mode": "markers",
         "name": "40",
         "scene": "scene",
         "showlegend": true,
         "type": "scatter3d",
         "x": [
          -7380.031670650952
         ],
         "y": [
          -827.969078683707
         ],
         "z": [
          -708.723399354783
         ]
        },
        {
         "customdata": [
          [
           41
          ]
         ],
         "hovertemplate": "Sensor ID=%{customdata[0]}<br>Principal Component 1=%{x}<br>Principal Component 2=%{y}<br>Principal Component 3=%{z}<br>Cluster=%{marker.color}<extra></extra>",
         "legendgroup": "41",
         "marker": {
          "color": [
           0
          ],
          "coloraxis": "coloraxis",
          "symbol": "cross"
         },
         "mode": "markers",
         "name": "41",
         "scene": "scene",
         "showlegend": true,
         "type": "scatter3d",
         "x": [
          -8012.735124023204
         ],
         "y": [
          -1891.9860164315053
         ],
         "z": [
          772.0714626430338
         ]
        },
        {
         "customdata": [
          [
           42
          ]
         ],
         "hovertemplate": "Sensor ID=%{customdata[0]}<br>Principal Component 1=%{x}<br>Principal Component 2=%{y}<br>Principal Component 3=%{z}<br>Cluster=%{marker.color}<extra></extra>",
         "legendgroup": "42",
         "marker": {
          "color": [
           0
          ],
          "coloraxis": "coloraxis",
          "symbol": "circle"
         },
         "mode": "markers",
         "name": "42",
         "scene": "scene",
         "showlegend": true,
         "type": "scatter3d",
         "x": [
          -8059.770871395594
         ],
         "y": [
          -1836.6037639260906
         ],
         "z": [
          770.0206583072954
         ]
        },
        {
         "customdata": [
          [
           43
          ]
         ],
         "hovertemplate": "Sensor ID=%{customdata[0]}<br>Principal Component 1=%{x}<br>Principal Component 2=%{y}<br>Principal Component 3=%{z}<br>Cluster=%{marker.color}<extra></extra>",
         "legendgroup": "43",
         "marker": {
          "color": [
           0
          ],
          "coloraxis": "coloraxis",
          "symbol": "diamond"
         },
         "mode": "markers",
         "name": "43",
         "scene": "scene",
         "showlegend": true,
         "type": "scatter3d",
         "x": [
          -7465.380784580862
         ],
         "y": [
          -868.322981500726
         ],
         "z": [
          -541.9883896655218
         ]
        },
        {
         "customdata": [
          [
           44
          ]
         ],
         "hovertemplate": "Sensor ID=%{customdata[0]}<br>Principal Component 1=%{x}<br>Principal Component 2=%{y}<br>Principal Component 3=%{z}<br>Cluster=%{marker.color}<extra></extra>",
         "legendgroup": "44",
         "marker": {
          "color": [
           0
          ],
          "coloraxis": "coloraxis",
          "symbol": "square"
         },
         "mode": "markers",
         "name": "44",
         "scene": "scene",
         "showlegend": true,
         "type": "scatter3d",
         "x": [
          -7323.205505451872
         ],
         "y": [
          -1895.0056032229184
         ],
         "z": [
          437.9779777033283
         ]
        },
        {
         "customdata": [
          [
           45
          ]
         ],
         "hovertemplate": "Sensor ID=%{customdata[0]}<br>Principal Component 1=%{x}<br>Principal Component 2=%{y}<br>Principal Component 3=%{z}<br>Cluster=%{marker.color}<extra></extra>",
         "legendgroup": "45",
         "marker": {
          "color": [
           0
          ],
          "coloraxis": "coloraxis",
          "symbol": "x"
         },
         "mode": "markers",
         "name": "45",
         "scene": "scene",
         "showlegend": true,
         "type": "scatter3d",
         "x": [
          -8044.968405543977
         ],
         "y": [
          -1850.6147486901161
         ],
         "z": [
          -586.3893923562199
         ]
        },
        {
         "customdata": [
          [
           46
          ]
         ],
         "hovertemplate": "Sensor ID=%{customdata[0]}<br>Principal Component 1=%{x}<br>Principal Component 2=%{y}<br>Principal Component 3=%{z}<br>Cluster=%{marker.color}<extra></extra>",
         "legendgroup": "46",
         "marker": {
          "color": [
           0
          ],
          "coloraxis": "coloraxis",
          "symbol": "cross"
         },
         "mode": "markers",
         "name": "46",
         "scene": "scene",
         "showlegend": true,
         "type": "scatter3d",
         "x": [
          -8088.0589722821705
         ],
         "y": [
          -1887.1430488264102
         ],
         "z": [
          680.7268336265239
         ]
        },
        {
         "customdata": [
          [
           47
          ]
         ],
         "hovertemplate": "Sensor ID=%{customdata[0]}<br>Principal Component 1=%{x}<br>Principal Component 2=%{y}<br>Principal Component 3=%{z}<br>Cluster=%{marker.color}<extra></extra>",
         "legendgroup": "47",
         "marker": {
          "color": [
           0
          ],
          "coloraxis": "coloraxis",
          "symbol": "circle"
         },
         "mode": "markers",
         "name": "47",
         "scene": "scene",
         "showlegend": true,
         "type": "scatter3d",
         "x": [
          -8185.939445660238
         ],
         "y": [
          -1774.3188345842225
         ],
         "z": [
          -658.6792568336562
         ]
        },
        {
         "customdata": [
          [
           48
          ]
         ],
         "hovertemplate": "Sensor ID=%{customdata[0]}<br>Principal Component 1=%{x}<br>Principal Component 2=%{y}<br>Principal Component 3=%{z}<br>Cluster=%{marker.color}<extra></extra>",
         "legendgroup": "48",
         "marker": {
          "color": [
           0
          ],
          "coloraxis": "coloraxis",
          "symbol": "diamond"
         },
         "mode": "markers",
         "name": "48",
         "scene": "scene",
         "showlegend": true,
         "type": "scatter3d",
         "x": [
          -8074.263106373256
         ],
         "y": [
          -775.9444835173763
         ],
         "z": [
          -563.4661036622468
         ]
        },
        {
         "customdata": [
          [
           49
          ]
         ],
         "hovertemplate": "Sensor ID=%{customdata[0]}<br>Principal Component 1=%{x}<br>Principal Component 2=%{y}<br>Principal Component 3=%{z}<br>Cluster=%{marker.color}<extra></extra>",
         "legendgroup": "49",
         "marker": {
          "color": [
           0
          ],
          "coloraxis": "coloraxis",
          "symbol": "square"
         },
         "mode": "markers",
         "name": "49",
         "scene": "scene",
         "showlegend": true,
         "type": "scatter3d",
         "x": [
          -8086.728633869062
         ],
         "y": [
          -1836.3375071398536
         ],
         "z": [
          -342.6040638301677
         ]
        },
        {
         "customdata": [
          [
           50
          ]
         ],
         "hovertemplate": "Sensor ID=%{customdata[0]}<br>Principal Component 1=%{x}<br>Principal Component 2=%{y}<br>Principal Component 3=%{z}<br>Cluster=%{marker.color}<extra></extra>",
         "legendgroup": "50",
         "marker": {
          "color": [
           0
          ],
          "coloraxis": "coloraxis",
          "symbol": "x"
         },
         "mode": "markers",
         "name": "50",
         "scene": "scene",
         "showlegend": true,
         "type": "scatter3d",
         "x": [
          -8136.122986752955
         ],
         "y": [
          -1805.2566137217916
         ],
         "z": [
          -881.8684576069843
         ]
        },
        {
         "customdata": [
          [
           51
          ]
         ],
         "hovertemplate": "Sensor ID=%{customdata[0]}<br>Principal Component 1=%{x}<br>Principal Component 2=%{y}<br>Principal Component 3=%{z}<br>Cluster=%{marker.color}<extra></extra>",
         "legendgroup": "51",
         "marker": {
          "color": [
           0
          ],
          "coloraxis": "coloraxis",
          "symbol": "cross"
         },
         "mode": "markers",
         "name": "51",
         "scene": "scene",
         "showlegend": true,
         "type": "scatter3d",
         "x": [
          -8090.552959496711
         ],
         "y": [
          -1966.8902223497294
         ],
         "z": [
          -497.5406015098405
         ]
        },
        {
         "customdata": [
          [
           52
          ]
         ],
         "hovertemplate": "Sensor ID=%{customdata[0]}<br>Principal Component 1=%{x}<br>Principal Component 2=%{y}<br>Principal Component 3=%{z}<br>Cluster=%{marker.color}<extra></extra>",
         "legendgroup": "52",
         "marker": {
          "color": [
           0
          ],
          "coloraxis": "coloraxis",
          "symbol": "circle"
         },
         "mode": "markers",
         "name": "52",
         "scene": "scene",
         "showlegend": true,
         "type": "scatter3d",
         "x": [
          -8104.362176425151
         ],
         "y": [
          -1990.0189422568722
         ],
         "z": [
          -689.9925403812567
         ]
        },
        {
         "customdata": [
          [
           53
          ]
         ],
         "hovertemplate": "Sensor ID=%{customdata[0]}<br>Principal Component 1=%{x}<br>Principal Component 2=%{y}<br>Principal Component 3=%{z}<br>Cluster=%{marker.color}<extra></extra>",
         "legendgroup": "53",
         "marker": {
          "color": [
           0
          ],
          "coloraxis": "coloraxis",
          "symbol": "diamond"
         },
         "mode": "markers",
         "name": "53",
         "scene": "scene",
         "showlegend": true,
         "type": "scatter3d",
         "x": [
          -8030.930915271362
         ],
         "y": [
          -1862.4324562133409
         ],
         "z": [
          831.9153858496326
         ]
        },
        {
         "customdata": [
          [
           54
          ]
         ],
         "hovertemplate": "Sensor ID=%{customdata[0]}<br>Principal Component 1=%{x}<br>Principal Component 2=%{y}<br>Principal Component 3=%{z}<br>Cluster=%{marker.color}<extra></extra>",
         "legendgroup": "54",
         "marker": {
          "color": [
           0
          ],
          "coloraxis": "coloraxis",
          "symbol": "square"
         },
         "mode": "markers",
         "name": "54",
         "scene": "scene",
         "showlegend": true,
         "type": "scatter3d",
         "x": [
          -8016.960784090369
         ],
         "y": [
          -1899.4363458878688
         ],
         "z": [
          747.2494502349182
         ]
        },
        {
         "customdata": [
          [
           55
          ]
         ],
         "hovertemplate": "Sensor ID=%{customdata[0]}<br>Principal Component 1=%{x}<br>Principal Component 2=%{y}<br>Principal Component 3=%{z}<br>Cluster=%{marker.color}<extra></extra>",
         "legendgroup": "55",
         "marker": {
          "color": [
           0
          ],
          "coloraxis": "coloraxis",
          "symbol": "x"
         },
         "mode": "markers",
         "name": "55",
         "scene": "scene",
         "showlegend": true,
         "type": "scatter3d",
         "x": [
          -7274.405252150816
         ],
         "y": [
          -820.5812726325597
         ],
         "z": [
          732.2995298511855
         ]
        },
        {
         "customdata": [
          [
           56
          ]
         ],
         "hovertemplate": "Sensor ID=%{customdata[0]}<br>Principal Component 1=%{x}<br>Principal Component 2=%{y}<br>Principal Component 3=%{z}<br>Cluster=%{marker.color}<extra></extra>",
         "legendgroup": "56",
         "marker": {
          "color": [
           0
          ],
          "coloraxis": "coloraxis",
          "symbol": "cross"
         },
         "mode": "markers",
         "name": "56",
         "scene": "scene",
         "showlegend": true,
         "type": "scatter3d",
         "x": [
          -8000.057214678962
         ],
         "y": [
          -1894.409908707895
         ],
         "z": [
          -514.657844711609
         ]
        },
        {
         "customdata": [
          [
           57
          ]
         ],
         "hovertemplate": "Sensor ID=%{customdata[0]}<br>Principal Component 1=%{x}<br>Principal Component 2=%{y}<br>Principal Component 3=%{z}<br>Cluster=%{marker.color}<extra></extra>",
         "legendgroup": "57",
         "marker": {
          "color": [
           1
          ],
          "coloraxis": "coloraxis",
          "symbol": "circle"
         },
         "mode": "markers",
         "name": "57",
         "scene": "scene",
         "showlegend": true,
         "type": "scatter3d",
         "x": [
          57407.307585620314
         ],
         "y": [
          -3352.4019663382232
         ],
         "z": [
          -3769.1143545142236
         ]
        },
        {
         "customdata": [
          [
           58
          ]
         ],
         "hovertemplate": "Sensor ID=%{customdata[0]}<br>Principal Component 1=%{x}<br>Principal Component 2=%{y}<br>Principal Component 3=%{z}<br>Cluster=%{marker.color}<extra></extra>",
         "legendgroup": "58",
         "marker": {
          "color": [
           0
          ],
          "coloraxis": "coloraxis",
          "symbol": "diamond"
         },
         "mode": "markers",
         "name": "58",
         "scene": "scene",
         "showlegend": true,
         "type": "scatter3d",
         "x": [
          -8094.3276558493635
         ],
         "y": [
          -741.9189578877947
         ],
         "z": [
          -753.4357384597744
         ]
        },
        {
         "customdata": [
          [
           59
          ]
         ],
         "hovertemplate": "Sensor ID=%{customdata[0]}<br>Principal Component 1=%{x}<br>Principal Component 2=%{y}<br>Principal Component 3=%{z}<br>Cluster=%{marker.color}<extra></extra>",
         "legendgroup": "59",
         "marker": {
          "color": [
           0
          ],
          "coloraxis": "coloraxis",
          "symbol": "square"
         },
         "mode": "markers",
         "name": "59",
         "scene": "scene",
         "showlegend": true,
         "type": "scatter3d",
         "x": [
          -7324.75001453958
         ],
         "y": [
          -1948.2453984168874
         ],
         "z": [
          -764.5956983752338
         ]
        },
        {
         "customdata": [
          [
           60
          ]
         ],
         "hovertemplate": "Sensor ID=%{customdata[0]}<br>Principal Component 1=%{x}<br>Principal Component 2=%{y}<br>Principal Component 3=%{z}<br>Cluster=%{marker.color}<extra></extra>",
         "legendgroup": "60",
         "marker": {
          "color": [
           0
          ],
          "coloraxis": "coloraxis",
          "symbol": "x"
         },
         "mode": "markers",
         "name": "60",
         "scene": "scene",
         "showlegend": true,
         "type": "scatter3d",
         "x": [
          -7998.879206165644
         ],
         "y": [
          -713.1948064588386
         ],
         "z": [
          728.3775736585723
         ]
        },
        {
         "customdata": [
          [
           61
          ]
         ],
         "hovertemplate": "Sensor ID=%{customdata[0]}<br>Principal Component 1=%{x}<br>Principal Component 2=%{y}<br>Principal Component 3=%{z}<br>Cluster=%{marker.color}<extra></extra>",
         "legendgroup": "61",
         "marker": {
          "color": [
           0
          ],
          "coloraxis": "coloraxis",
          "symbol": "cross"
         },
         "mode": "markers",
         "name": "61",
         "scene": "scene",
         "showlegend": true,
         "type": "scatter3d",
         "x": [
          -7850.568357894067
         ],
         "y": [
          6269.203658016576
         ],
         "z": [
          209.9738763945196
         ]
        },
        {
         "customdata": [
          [
           62
          ]
         ],
         "hovertemplate": "Sensor ID=%{customdata[0]}<br>Principal Component 1=%{x}<br>Principal Component 2=%{y}<br>Principal Component 3=%{z}<br>Cluster=%{marker.color}<extra></extra>",
         "legendgroup": "62",
         "marker": {
          "color": [
           0
          ],
          "coloraxis": "coloraxis",
          "symbol": "circle"
         },
         "mode": "markers",
         "name": "62",
         "scene": "scene",
         "showlegend": true,
         "type": "scatter3d",
         "x": [
          -8098.501936480947
         ],
         "y": [
          -2006.2499687754757
         ],
         "z": [
          -764.0481754312858
         ]
        },
        {
         "customdata": [
          [
           63
          ]
         ],
         "hovertemplate": "Sensor ID=%{customdata[0]}<br>Principal Component 1=%{x}<br>Principal Component 2=%{y}<br>Principal Component 3=%{z}<br>Cluster=%{marker.color}<extra></extra>",
         "legendgroup": "63",
         "marker": {
          "color": [
           0
          ],
          "coloraxis": "coloraxis",
          "symbol": "diamond"
         },
         "mode": "markers",
         "name": "63",
         "scene": "scene",
         "showlegend": true,
         "type": "scatter3d",
         "x": [
          -8088.546300704899
         ],
         "y": [
          -1812.7818060900636
         ],
         "z": [
          -526.4328808489303
         ]
        },
        {
         "customdata": [
          [
           64
          ]
         ],
         "hovertemplate": "Sensor ID=%{customdata[0]}<br>Principal Component 1=%{x}<br>Principal Component 2=%{y}<br>Principal Component 3=%{z}<br>Cluster=%{marker.color}<extra></extra>",
         "legendgroup": "64",
         "marker": {
          "color": [
           1
          ],
          "coloraxis": "coloraxis",
          "symbol": "square"
         },
         "mode": "markers",
         "name": "64",
         "scene": "scene",
         "showlegend": true,
         "type": "scatter3d",
         "x": [
          57456.92458354639
         ],
         "y": [
          -2679.1275328533434
         ],
         "z": [
          -2571.1986583392336
         ]
        },
        {
         "customdata": [
          [
           65
          ]
         ],
         "hovertemplate": "Sensor ID=%{customdata[0]}<br>Principal Component 1=%{x}<br>Principal Component 2=%{y}<br>Principal Component 3=%{z}<br>Cluster=%{marker.color}<extra></extra>",
         "legendgroup": "65",
         "marker": {
          "color": [
           0
          ],
          "coloraxis": "coloraxis",
          "symbol": "x"
         },
         "mode": "markers",
         "name": "65",
         "scene": "scene",
         "showlegend": true,
         "type": "scatter3d",
         "x": [
          -8060.055679663463
         ],
         "y": [
          -795.2461069338781
         ],
         "z": [
          -340.13545017078525
         ]
        },
        {
         "customdata": [
          [
           66
          ]
         ],
         "hovertemplate": "Sensor ID=%{customdata[0]}<br>Principal Component 1=%{x}<br>Principal Component 2=%{y}<br>Principal Component 3=%{z}<br>Cluster=%{marker.color}<extra></extra>",
         "legendgroup": "66",
         "marker": {
          "color": [
           0
          ],
          "coloraxis": "coloraxis",
          "symbol": "cross"
         },
         "mode": "markers",
         "name": "66",
         "scene": "scene",
         "showlegend": true,
         "type": "scatter3d",
         "x": [
          -7281.326371987202
         ],
         "y": [
          -2081.873284683931
         ],
         "z": [
          771.4859187356562
         ]
        },
        {
         "customdata": [
          [
           67
          ]
         ],
         "hovertemplate": "Sensor ID=%{customdata[0]}<br>Principal Component 1=%{x}<br>Principal Component 2=%{y}<br>Principal Component 3=%{z}<br>Cluster=%{marker.color}<extra></extra>",
         "legendgroup": "67",
         "marker": {
          "color": [
           0
          ],
          "coloraxis": "coloraxis",
          "symbol": "circle"
         },
         "mode": "markers",
         "name": "67",
         "scene": "scene",
         "showlegend": true,
         "type": "scatter3d",
         "x": [
          -7288.196456624581
         ],
         "y": [
          -1927.9930922515907
         ],
         "z": [
          -663.1763420577391
         ]
        },
        {
         "customdata": [
          [
           68
          ]
         ],
         "hovertemplate": "Sensor ID=%{customdata[0]}<br>Principal Component 1=%{x}<br>Principal Component 2=%{y}<br>Principal Component 3=%{z}<br>Cluster=%{marker.color}<extra></extra>",
         "legendgroup": "68",
         "marker": {
          "color": [
           0
          ],
          "coloraxis": "coloraxis",
          "symbol": "diamond"
         },
         "mode": "markers",
         "name": "68",
         "scene": "scene",
         "showlegend": true,
         "type": "scatter3d",
         "x": [
          -8081.765419548177
         ],
         "y": [
          -1787.0745213511448
         ],
         "z": [
          -522.7450282751527
         ]
        },
        {
         "customdata": [
          [
           69
          ]
         ],
         "hovertemplate": "Sensor ID=%{customdata[0]}<br>Principal Component 1=%{x}<br>Principal Component 2=%{y}<br>Principal Component 3=%{z}<br>Cluster=%{marker.color}<extra></extra>",
         "legendgroup": "69",
         "marker": {
          "color": [
           0
          ],
          "coloraxis": "coloraxis",
          "symbol": "square"
         },
         "mode": "markers",
         "name": "69",
         "scene": "scene",
         "showlegend": true,
         "type": "scatter3d",
         "x": [
          -8123.311361109218
         ],
         "y": [
          -1741.7575855902683
         ],
         "z": [
          -399.0666170205704
         ]
        },
        {
         "customdata": [
          [
           70
          ]
         ],
         "hovertemplate": "Sensor ID=%{customdata[0]}<br>Principal Component 1=%{x}<br>Principal Component 2=%{y}<br>Principal Component 3=%{z}<br>Cluster=%{marker.color}<extra></extra>",
         "legendgroup": "70",
         "marker": {
          "color": [
           0
          ],
          "coloraxis": "coloraxis",
          "symbol": "x"
         },
         "mode": "markers",
         "name": "70",
         "scene": "scene",
         "showlegend": true,
         "type": "scatter3d",
         "x": [
          -8056.1739446514275
         ],
         "y": [
          -1951.9197156447772
         ],
         "z": [
          -702.1028838700903
         ]
        },
        {
         "customdata": [
          [
           71
          ]
         ],
         "hovertemplate": "Sensor ID=%{customdata[0]}<br>Principal Component 1=%{x}<br>Principal Component 2=%{y}<br>Principal Component 3=%{z}<br>Cluster=%{marker.color}<extra></extra>",
         "legendgroup": "71",
         "marker": {
          "color": [
           0
          ],
          "coloraxis": "coloraxis",
          "symbol": "cross"
         },
         "mode": "markers",
         "name": "71",
         "scene": "scene",
         "showlegend": true,
         "type": "scatter3d",
         "x": [
          -7984.647186761312
         ],
         "y": [
          -1973.4052139422429
         ],
         "z": [
          963.4570759590448
         ]
        },
        {
         "customdata": [
          [
           72
          ]
         ],
         "hovertemplate": "Sensor ID=%{customdata[0]}<br>Principal Component 1=%{x}<br>Principal Component 2=%{y}<br>Principal Component 3=%{z}<br>Cluster=%{marker.color}<extra></extra>",
         "legendgroup": "72",
         "marker": {
          "color": [
           0
          ],
          "coloraxis": "coloraxis",
          "symbol": "circle"
         },
         "mode": "markers",
         "name": "72",
         "scene": "scene",
         "showlegend": true,
         "type": "scatter3d",
         "x": [
          -8083.535483453794
         ],
         "y": [
          -1842.1738700052458
         ],
         "z": [
          -521.204829572215
         ]
        },
        {
         "customdata": [
          [
           73
          ]
         ],
         "hovertemplate": "Sensor ID=%{customdata[0]}<br>Principal Component 1=%{x}<br>Principal Component 2=%{y}<br>Principal Component 3=%{z}<br>Cluster=%{marker.color}<extra></extra>",
         "legendgroup": "73",
         "marker": {
          "color": [
           0
          ],
          "coloraxis": "coloraxis",
          "symbol": "diamond"
         },
         "mode": "markers",
         "name": "73",
         "scene": "scene",
         "showlegend": true,
         "type": "scatter3d",
         "x": [
          -8039.591301460795
         ],
         "y": [
          -1855.0284444279198
         ],
         "z": [
          -647.7103950730617
         ]
        },
        {
         "customdata": [
          [
           74
          ]
         ],
         "hovertemplate": "Sensor ID=%{customdata[0]}<br>Principal Component 1=%{x}<br>Principal Component 2=%{y}<br>Principal Component 3=%{z}<br>Cluster=%{marker.color}<extra></extra>",
         "legendgroup": "74",
         "marker": {
          "color": [
           0
          ],
          "coloraxis": "coloraxis",
          "symbol": "square"
         },
         "mode": "markers",
         "name": "74",
         "scene": "scene",
         "showlegend": true,
         "type": "scatter3d",
         "x": [
          -7269.205021085656
         ],
         "y": [
          -871.2938749004032
         ],
         "z": [
          596.7924222407453
         ]
        },
        {
         "customdata": [
          [
           75
          ]
         ],
         "hovertemplate": "Sensor ID=%{customdata[0]}<br>Principal Component 1=%{x}<br>Principal Component 2=%{y}<br>Principal Component 3=%{z}<br>Cluster=%{marker.color}<extra></extra>",
         "legendgroup": "75",
         "marker": {
          "color": [
           0
          ],
          "coloraxis": "coloraxis",
          "symbol": "x"
         },
         "mode": "markers",
         "name": "75",
         "scene": "scene",
         "showlegend": true,
         "type": "scatter3d",
         "x": [
          -8045.630895726385
         ],
         "y": [
          -1819.2813455782746
         ],
         "z": [
          -646.2783550472942
         ]
        },
        {
         "customdata": [
          [
           76
          ]
         ],
         "hovertemplate": "Sensor ID=%{customdata[0]}<br>Principal Component 1=%{x}<br>Principal Component 2=%{y}<br>Principal Component 3=%{z}<br>Cluster=%{marker.color}<extra></extra>",
         "legendgroup": "76",
         "marker": {
          "color": [
           0
          ],
          "coloraxis": "coloraxis",
          "symbol": "cross"
         },
         "mode": "markers",
         "name": "76",
         "scene": "scene",
         "showlegend": true,
         "type": "scatter3d",
         "x": [
          -7682.976478505853
         ],
         "y": [
          12100.268721361397
         ],
         "z": [
          1099.526239144032
         ]
        },
        {
         "customdata": [
          [
           77
          ]
         ],
         "hovertemplate": "Sensor ID=%{customdata[0]}<br>Principal Component 1=%{x}<br>Principal Component 2=%{y}<br>Principal Component 3=%{z}<br>Cluster=%{marker.color}<extra></extra>",
         "legendgroup": "77",
         "marker": {
          "color": [
           0
          ],
          "coloraxis": "coloraxis",
          "symbol": "circle"
         },
         "mode": "markers",
         "name": "77",
         "scene": "scene",
         "showlegend": true,
         "type": "scatter3d",
         "x": [
          -8065.521320981669
         ],
         "y": [
          -1873.1980679127305
         ],
         "z": [
          -432.0601678677564
         ]
        },
        {
         "customdata": [
          [
           78
          ]
         ],
         "hovertemplate": "Sensor ID=%{customdata[0]}<br>Principal Component 1=%{x}<br>Principal Component 2=%{y}<br>Principal Component 3=%{z}<br>Cluster=%{marker.color}<extra></extra>",
         "legendgroup": "78",
         "marker": {
          "color": [
           0
          ],
          "coloraxis": "coloraxis",
          "symbol": "diamond"
         },
         "mode": "markers",
         "name": "78",
         "scene": "scene",
         "showlegend": true,
         "type": "scatter3d",
         "x": [
          -8001.447064049167
         ],
         "y": [
          -806.9000742610909
         ],
         "z": [
          -413.76657232148773
         ]
        },
        {
         "customdata": [
          [
           79
          ]
         ],
         "hovertemplate": "Sensor ID=%{customdata[0]}<br>Principal Component 1=%{x}<br>Principal Component 2=%{y}<br>Principal Component 3=%{z}<br>Cluster=%{marker.color}<extra></extra>",
         "legendgroup": "79",
         "marker": {
          "color": [
           0
          ],
          "coloraxis": "coloraxis",
          "symbol": "square"
         },
         "mode": "markers",
         "name": "79",
         "scene": "scene",
         "showlegend": true,
         "type": "scatter3d",
         "x": [
          -8084.164961666687
         ],
         "y": [
          -1882.698276116801
         ],
         "z": [
          -484.16833388147916
         ]
        },
        {
         "customdata": [
          [
           80
          ]
         ],
         "hovertemplate": "Sensor ID=%{customdata[0]}<br>Principal Component 1=%{x}<br>Principal Component 2=%{y}<br>Principal Component 3=%{z}<br>Cluster=%{marker.color}<extra></extra>",
         "legendgroup": "80",
         "marker": {
          "color": [
           0
          ],
          "coloraxis": "coloraxis",
          "symbol": "x"
         },
         "mode": "markers",
         "name": "80",
         "scene": "scene",
         "showlegend": true,
         "type": "scatter3d",
         "x": [
          -7389.886261779053
         ],
         "y": [
          -1956.0237513220504
         ],
         "z": [
          -1008.0706092122252
         ]
        },
        {
         "customdata": [
          [
           81
          ]
         ],
         "hovertemplate": "Sensor ID=%{customdata[0]}<br>Principal Component 1=%{x}<br>Principal Component 2=%{y}<br>Principal Component 3=%{z}<br>Cluster=%{marker.color}<extra></extra>",
         "legendgroup": "81",
         "marker": {
          "color": [
           0
          ],
          "coloraxis": "coloraxis",
          "symbol": "cross"
         },
         "mode": "markers",
         "name": "81",
         "scene": "scene",
         "showlegend": true,
         "type": "scatter3d",
         "x": [
          -8071.383808731181
         ],
         "y": [
          -724.862155229791
         ],
         "z": [
          -537.3321438767705
         ]
        },
        {
         "customdata": [
          [
           82
          ]
         ],
         "hovertemplate": "Sensor ID=%{customdata[0]}<br>Principal Component 1=%{x}<br>Principal Component 2=%{y}<br>Principal Component 3=%{z}<br>Cluster=%{marker.color}<extra></extra>",
         "legendgroup": "82",
         "marker": {
          "color": [
           0
          ],
          "coloraxis": "coloraxis",
          "symbol": "circle"
         },
         "mode": "markers",
         "name": "82",
         "scene": "scene",
         "showlegend": true,
         "type": "scatter3d",
         "x": [
          -7365.597126850383
         ],
         "y": [
          -1830.6109162278703
         ],
         "z": [
          -529.2193430899327
         ]
        },
        {
         "customdata": [
          [
           83
          ]
         ],
         "hovertemplate": "Sensor ID=%{customdata[0]}<br>Principal Component 1=%{x}<br>Principal Component 2=%{y}<br>Principal Component 3=%{z}<br>Cluster=%{marker.color}<extra></extra>",
         "legendgroup": "83",
         "marker": {
          "color": [
           0
          ],
          "coloraxis": "coloraxis",
          "symbol": "diamond"
         },
         "mode": "markers",
         "name": "83",
         "scene": "scene",
         "showlegend": true,
         "type": "scatter3d",
         "x": [
          -8219.691656040459
         ],
         "y": [
          -1900.7293252957156
         ],
         "z": [
          -940.4705248736104
         ]
        },
        {
         "customdata": [
          [
           84
          ]
         ],
         "hovertemplate": "Sensor ID=%{customdata[0]}<br>Principal Component 1=%{x}<br>Principal Component 2=%{y}<br>Principal Component 3=%{z}<br>Cluster=%{marker.color}<extra></extra>",
         "legendgroup": "84",
         "marker": {
          "color": [
           0
          ],
          "coloraxis": "coloraxis",
          "symbol": "square"
         },
         "mode": "markers",
         "name": "84",
         "scene": "scene",
         "showlegend": true,
         "type": "scatter3d",
         "x": [
          -7370.579049044632
         ],
         "y": [
          -1760.779373553633
         ],
         "z": [
          -563.326388303556
         ]
        },
        {
         "customdata": [
          [
           85
          ]
         ],
         "hovertemplate": "Sensor ID=%{customdata[0]}<br>Principal Component 1=%{x}<br>Principal Component 2=%{y}<br>Principal Component 3=%{z}<br>Cluster=%{marker.color}<extra></extra>",
         "legendgroup": "85",
         "marker": {
          "color": [
           0
          ],
          "coloraxis": "coloraxis",
          "symbol": "x"
         },
         "mode": "markers",
         "name": "85",
         "scene": "scene",
         "showlegend": true,
         "type": "scatter3d",
         "x": [
          -8056.077352625976
         ],
         "y": [
          -717.0074727498571
         ],
         "z": [
          -614.3688161136531
         ]
        },
        {
         "customdata": [
          [
           86
          ]
         ],
         "hovertemplate": "Sensor ID=%{customdata[0]}<br>Principal Component 1=%{x}<br>Principal Component 2=%{y}<br>Principal Component 3=%{z}<br>Cluster=%{marker.color}<extra></extra>",
         "legendgroup": "86",
         "marker": {
          "color": [
           0
          ],
          "coloraxis": "coloraxis",
          "symbol": "cross"
         },
         "mode": "markers",
         "name": "86",
         "scene": "scene",
         "showlegend": true,
         "type": "scatter3d",
         "x": [
          -8110.081707836543
         ],
         "y": [
          -1875.618362865955
         ],
         "z": [
          -241.10558395237996
         ]
        },
        {
         "customdata": [
          [
           87
          ]
         ],
         "hovertemplate": "Sensor ID=%{customdata[0]}<br>Principal Component 1=%{x}<br>Principal Component 2=%{y}<br>Principal Component 3=%{z}<br>Cluster=%{marker.color}<extra></extra>",
         "legendgroup": "87",
         "marker": {
          "color": [
           0
          ],
          "coloraxis": "coloraxis",
          "symbol": "circle"
         },
         "mode": "markers",
         "name": "87",
         "scene": "scene",
         "showlegend": true,
         "type": "scatter3d",
         "x": [
          -8121.876654190594
         ],
         "y": [
          -1866.1646212950604
         ],
         "z": [
          -697.3497692092893
         ]
        },
        {
         "customdata": [
          [
           88
          ]
         ],
         "hovertemplate": "Sensor ID=%{customdata[0]}<br>Principal Component 1=%{x}<br>Principal Component 2=%{y}<br>Principal Component 3=%{z}<br>Cluster=%{marker.color}<extra></extra>",
         "legendgroup": "88",
         "marker": {
          "color": [
           0
          ],
          "coloraxis": "coloraxis",
          "symbol": "diamond"
         },
         "mode": "markers",
         "name": "88",
         "scene": "scene",
         "showlegend": true,
         "type": "scatter3d",
         "x": [
          -8143.661502989487
         ],
         "y": [
          -1832.4017241274178
         ],
         "z": [
          568.9237934214322
         ]
        },
        {
         "customdata": [
          [
           89
          ]
         ],
         "hovertemplate": "Sensor ID=%{customdata[0]}<br>Principal Component 1=%{x}<br>Principal Component 2=%{y}<br>Principal Component 3=%{z}<br>Cluster=%{marker.color}<extra></extra>",
         "legendgroup": "89",
         "marker": {
          "color": [
           0
          ],
          "coloraxis": "coloraxis",
          "symbol": "square"
         },
         "mode": "markers",
         "name": "89",
         "scene": "scene",
         "showlegend": true,
         "type": "scatter3d",
         "x": [
          -7347.543442314209
         ],
         "y": [
          -1871.6333381087034
         ],
         "z": [
          -331.3992479250079
         ]
        },
        {
         "customdata": [
          [
           90
          ]
         ],
         "hovertemplate": "Sensor ID=%{customdata[0]}<br>Principal Component 1=%{x}<br>Principal Component 2=%{y}<br>Principal Component 3=%{z}<br>Cluster=%{marker.color}<extra></extra>",
         "legendgroup": "90",
         "marker": {
          "color": [
           0
          ],
          "coloraxis": "coloraxis",
          "symbol": "x"
         },
         "mode": "markers",
         "name": "90",
         "scene": "scene",
         "showlegend": true,
         "type": "scatter3d",
         "x": [
          -8034.876081380192
         ],
         "y": [
          -1876.1025379720638
         ],
         "z": [
          -121.0494444457808
         ]
        },
        {
         "customdata": [
          [
           91
          ]
         ],
         "hovertemplate": "Sensor ID=%{customdata[0]}<br>Principal Component 1=%{x}<br>Principal Component 2=%{y}<br>Principal Component 3=%{z}<br>Cluster=%{marker.color}<extra></extra>",
         "legendgroup": "91",
         "marker": {
          "color": [
           0
          ],
          "coloraxis": "coloraxis",
          "symbol": "cross"
         },
         "mode": "markers",
         "name": "91",
         "scene": "scene",
         "showlegend": true,
         "type": "scatter3d",
         "x": [
          -8040.917946127949
         ],
         "y": [
          -1843.8789000738877
         ],
         "z": [
          574.0210967401546
         ]
        },
        {
         "customdata": [
          [
           92
          ]
         ],
         "hovertemplate": "Sensor ID=%{customdata[0]}<br>Principal Component 1=%{x}<br>Principal Component 2=%{y}<br>Principal Component 3=%{z}<br>Cluster=%{marker.color}<extra></extra>",
         "legendgroup": "92",
         "marker": {
          "color": [
           0
          ],
          "coloraxis": "coloraxis",
          "symbol": "circle"
         },
         "mode": "markers",
         "name": "92",
         "scene": "scene",
         "showlegend": true,
         "type": "scatter3d",
         "x": [
          -7337.991087430594
         ],
         "y": [
          -1860.347551365777
         ],
         "z": [
          -699.5153986120044
         ]
        },
        {
         "customdata": [
          [
           93
          ]
         ],
         "hovertemplate": "Sensor ID=%{customdata[0]}<br>Principal Component 1=%{x}<br>Principal Component 2=%{y}<br>Principal Component 3=%{z}<br>Cluster=%{marker.color}<extra></extra>",
         "legendgroup": "93",
         "marker": {
          "color": [
           0
          ],
          "coloraxis": "coloraxis",
          "symbol": "diamond"
         },
         "mode": "markers",
         "name": "93",
         "scene": "scene",
         "showlegend": true,
         "type": "scatter3d",
         "x": [
          -7981.130244895971
         ],
         "y": [
          -911.8230264153221
         ],
         "z": [
          693.3956992815982
         ]
        },
        {
         "customdata": [
          [
           94
          ]
         ],
         "hovertemplate": "Sensor ID=%{customdata[0]}<br>Principal Component 1=%{x}<br>Principal Component 2=%{y}<br>Principal Component 3=%{z}<br>Cluster=%{marker.color}<extra></extra>",
         "legendgroup": "94",
         "marker": {
          "color": [
           0
          ],
          "coloraxis": "coloraxis",
          "symbol": "square"
         },
         "mode": "markers",
         "name": "94",
         "scene": "scene",
         "showlegend": true,
         "type": "scatter3d",
         "x": [
          -8139.996989642463
         ],
         "y": [
          -1770.617337214521
         ],
         "z": [
          -571.2976883844175
         ]
        },
        {
         "customdata": [
          [
           95
          ]
         ],
         "hovertemplate": "Sensor ID=%{customdata[0]}<br>Principal Component 1=%{x}<br>Principal Component 2=%{y}<br>Principal Component 3=%{z}<br>Cluster=%{marker.color}<extra></extra>",
         "legendgroup": "95",
         "marker": {
          "color": [
           0
          ],
          "coloraxis": "coloraxis",
          "symbol": "x"
         },
         "mode": "markers",
         "name": "95",
         "scene": "scene",
         "showlegend": true,
         "type": "scatter3d",
         "x": [
          -8043.762181663726
         ],
         "y": [
          -1940.7411774933225
         ],
         "z": [
          936.7120700011137
         ]
        },
        {
         "customdata": [
          [
           96
          ]
         ],
         "hovertemplate": "Sensor ID=%{customdata[0]}<br>Principal Component 1=%{x}<br>Principal Component 2=%{y}<br>Principal Component 3=%{z}<br>Cluster=%{marker.color}<extra></extra>",
         "legendgroup": "96",
         "marker": {
          "color": [
           0
          ],
          "coloraxis": "coloraxis",
          "symbol": "cross"
         },
         "mode": "markers",
         "name": "96",
         "scene": "scene",
         "showlegend": true,
         "type": "scatter3d",
         "x": [
          -8040.134596125136
         ],
         "y": [
          -837.8845773083632
         ],
         "z": [
          -459.08314456024806
         ]
        },
        {
         "customdata": [
          [
           97
          ]
         ],
         "hovertemplate": "Sensor ID=%{customdata[0]}<br>Principal Component 1=%{x}<br>Principal Component 2=%{y}<br>Principal Component 3=%{z}<br>Cluster=%{marker.color}<extra></extra>",
         "legendgroup": "97",
         "marker": {
          "color": [
           0
          ],
          "coloraxis": "coloraxis",
          "symbol": "circle"
         },
         "mode": "markers",
         "name": "97",
         "scene": "scene",
         "showlegend": true,
         "type": "scatter3d",
         "x": [
          -7961.954607853062
         ],
         "y": [
          -755.0201446549353
         ],
         "z": [
          1037.1204784840727
         ]
        },
        {
         "customdata": [
          [
           98
          ]
         ],
         "hovertemplate": "Sensor ID=%{customdata[0]}<br>Principal Component 1=%{x}<br>Principal Component 2=%{y}<br>Principal Component 3=%{z}<br>Cluster=%{marker.color}<extra></extra>",
         "legendgroup": "98",
         "marker": {
          "color": [
           0
          ],
          "coloraxis": "coloraxis",
          "symbol": "diamond"
         },
         "mode": "markers",
         "name": "98",
         "scene": "scene",
         "showlegend": true,
         "type": "scatter3d",
         "x": [
          -7983.493314863643
         ],
         "y": [
          -1861.8184131931368
         ],
         "z": [
          664.9019508335962
         ]
        },
        {
         "customdata": [
          [
           99
          ]
         ],
         "hovertemplate": "Sensor ID=%{customdata[0]}<br>Principal Component 1=%{x}<br>Principal Component 2=%{y}<br>Principal Component 3=%{z}<br>Cluster=%{marker.color}<extra></extra>",
         "legendgroup": "99",
         "marker": {
          "color": [
           0
          ],
          "coloraxis": "coloraxis",
          "symbol": "square"
         },
         "mode": "markers",
         "name": "99",
         "scene": "scene",
         "showlegend": true,
         "type": "scatter3d",
         "x": [
          -7242.277196366016
         ],
         "y": [
          -758.4476953229683
         ],
         "z": [
          -535.5398044873215
         ]
        },
        {
         "customdata": [
          [
           100
          ]
         ],
         "hovertemplate": "Sensor ID=%{customdata[0]}<br>Principal Component 1=%{x}<br>Principal Component 2=%{y}<br>Principal Component 3=%{z}<br>Cluster=%{marker.color}<extra></extra>",
         "legendgroup": "100",
         "marker": {
          "color": [
           0
          ],
          "coloraxis": "coloraxis",
          "symbol": "x"
         },
         "mode": "markers",
         "name": "100",
         "scene": "scene",
         "showlegend": true,
         "type": "scatter3d",
         "x": [
          -8190.256860423986
         ],
         "y": [
          -1784.323901482771
         ],
         "z": [
          -587.7320822715943
         ]
        },
        {
         "customdata": [
          [
           101
          ]
         ],
         "hovertemplate": "Sensor ID=%{customdata[0]}<br>Principal Component 1=%{x}<br>Principal Component 2=%{y}<br>Principal Component 3=%{z}<br>Cluster=%{marker.color}<extra></extra>",
         "legendgroup": "101",
         "marker": {
          "color": [
           0
          ],
          "coloraxis": "coloraxis",
          "symbol": "cross"
         },
         "mode": "markers",
         "name": "101",
         "scene": "scene",
         "showlegend": true,
         "type": "scatter3d",
         "x": [
          -7270.784129765732
         ],
         "y": [
          -665.7333966403005
         ],
         "z": [
          845.1403193742215
         ]
        },
        {
         "customdata": [
          [
           102
          ]
         ],
         "hovertemplate": "Sensor ID=%{customdata[0]}<br>Principal Component 1=%{x}<br>Principal Component 2=%{y}<br>Principal Component 3=%{z}<br>Cluster=%{marker.color}<extra></extra>",
         "legendgroup": "102",
         "marker": {
          "color": [
           0
          ],
          "coloraxis": "coloraxis",
          "symbol": "circle"
         },
         "mode": "markers",
         "name": "102",
         "scene": "scene",
         "showlegend": true,
         "type": "scatter3d",
         "x": [
          -8081.939030563349
         ],
         "y": [
          -698.5295614216658
         ],
         "z": [
          -345.23194350211537
         ]
        },
        {
         "customdata": [
          [
           103
          ]
         ],
         "hovertemplate": "Sensor ID=%{customdata[0]}<br>Principal Component 1=%{x}<br>Principal Component 2=%{y}<br>Principal Component 3=%{z}<br>Cluster=%{marker.color}<extra></extra>",
         "legendgroup": "103",
         "marker": {
          "color": [
           0
          ],
          "coloraxis": "coloraxis",
          "symbol": "diamond"
         },
         "mode": "markers",
         "name": "103",
         "scene": "scene",
         "showlegend": true,
         "type": "scatter3d",
         "x": [
          -8017.265894770133
         ],
         "y": [
          -1749.4109277276466
         ],
         "z": [
          940.505312216038
         ]
        },
        {
         "customdata": [
          [
           104
          ]
         ],
         "hovertemplate": "Sensor ID=%{customdata[0]}<br>Principal Component 1=%{x}<br>Principal Component 2=%{y}<br>Principal Component 3=%{z}<br>Cluster=%{marker.color}<extra></extra>",
         "legendgroup": "104",
         "marker": {
          "color": [
           0
          ],
          "coloraxis": "coloraxis",
          "symbol": "square"
         },
         "mode": "markers",
         "name": "104",
         "scene": "scene",
         "showlegend": true,
         "type": "scatter3d",
         "x": [
          -7163.963592014401
         ],
         "y": [
          -918.4973602811764
         ],
         "z": [
          922.2705619039405
         ]
        },
        {
         "customdata": [
          [
           105
          ]
         ],
         "hovertemplate": "Sensor ID=%{customdata[0]}<br>Principal Component 1=%{x}<br>Principal Component 2=%{y}<br>Principal Component 3=%{z}<br>Cluster=%{marker.color}<extra></extra>",
         "legendgroup": "105",
         "marker": {
          "color": [
           0
          ],
          "coloraxis": "coloraxis",
          "symbol": "x"
         },
         "mode": "markers",
         "name": "105",
         "scene": "scene",
         "showlegend": true,
         "type": "scatter3d",
         "x": [
          -7372.439150460388
         ],
         "y": [
          -1994.4118173355334
         ],
         "z": [
          13200.654492294456
         ]
        },
        {
         "customdata": [
          [
           106
          ]
         ],
         "hovertemplate": "Sensor ID=%{customdata[0]}<br>Principal Component 1=%{x}<br>Principal Component 2=%{y}<br>Principal Component 3=%{z}<br>Cluster=%{marker.color}<extra></extra>",
         "legendgroup": "106",
         "marker": {
          "color": [
           0
          ],
          "coloraxis": "coloraxis",
          "symbol": "cross"
         },
         "mode": "markers",
         "name": "106",
         "scene": "scene",
         "showlegend": true,
         "type": "scatter3d",
         "x": [
          -7444.480353389436
         ],
         "y": [
          -1770.4040596482064
         ],
         "z": [
          -597.5063401472713
         ]
        },
        {
         "customdata": [
          [
           107
          ]
         ],
         "hovertemplate": "Sensor ID=%{customdata[0]}<br>Principal Component 1=%{x}<br>Principal Component 2=%{y}<br>Principal Component 3=%{z}<br>Cluster=%{marker.color}<extra></extra>",
         "legendgroup": "107",
         "marker": {
          "color": [
           0
          ],
          "coloraxis": "coloraxis",
          "symbol": "circle"
         },
         "mode": "markers",
         "name": "107",
         "scene": "scene",
         "showlegend": true,
         "type": "scatter3d",
         "x": [
          -8002.520417527516
         ],
         "y": [
          -811.8082945017014
         ],
         "z": [
          933.5114637484085
         ]
        },
        {
         "customdata": [
          [
           108
          ]
         ],
         "hovertemplate": "Sensor ID=%{customdata[0]}<br>Principal Component 1=%{x}<br>Principal Component 2=%{y}<br>Principal Component 3=%{z}<br>Cluster=%{marker.color}<extra></extra>",
         "legendgroup": "108",
         "marker": {
          "color": [
           0
          ],
          "coloraxis": "coloraxis",
          "symbol": "diamond"
         },
         "mode": "markers",
         "name": "108",
         "scene": "scene",
         "showlegend": true,
         "type": "scatter3d",
         "x": [
          -8064.135200080806
         ],
         "y": [
          -1815.0059410450026
         ],
         "z": [
          -421.26759044948346
         ]
        },
        {
         "customdata": [
          [
           109
          ]
         ],
         "hovertemplate": "Sensor ID=%{customdata[0]}<br>Principal Component 1=%{x}<br>Principal Component 2=%{y}<br>Principal Component 3=%{z}<br>Cluster=%{marker.color}<extra></extra>",
         "legendgroup": "109",
         "marker": {
          "color": [
           1
          ],
          "coloraxis": "coloraxis",
          "symbol": "square"
         },
         "mode": "markers",
         "name": "109",
         "scene": "scene",
         "showlegend": true,
         "type": "scatter3d",
         "x": [
          57414.22264320249
         ],
         "y": [
          -3447.234359860896
         ],
         "z": [
          -4043.288258115795
         ]
        },
        {
         "customdata": [
          [
           110
          ]
         ],
         "hovertemplate": "Sensor ID=%{customdata[0]}<br>Principal Component 1=%{x}<br>Principal Component 2=%{y}<br>Principal Component 3=%{z}<br>Cluster=%{marker.color}<extra></extra>",
         "legendgroup": "110",
         "marker": {
          "color": [
           0
          ],
          "coloraxis": "coloraxis",
          "symbol": "x"
         },
         "mode": "markers",
         "name": "110",
         "scene": "scene",
         "showlegend": true,
         "type": "scatter3d",
         "x": [
          -7186.609685197147
         ],
         "y": [
          -766.0583859672336
         ],
         "z": [
          -526.2771326663817
         ]
        },
        {
         "customdata": [
          [
           111
          ]
         ],
         "hovertemplate": "Sensor ID=%{customdata[0]}<br>Principal Component 1=%{x}<br>Principal Component 2=%{y}<br>Principal Component 3=%{z}<br>Cluster=%{marker.color}<extra></extra>",
         "legendgroup": "111",
         "marker": {
          "color": [
           0
          ],
          "coloraxis": "coloraxis",
          "symbol": "cross"
         },
         "mode": "markers",
         "name": "111",
         "scene": "scene",
         "showlegend": true,
         "type": "scatter3d",
         "x": [
          -8079.39874103596
         ],
         "y": [
          -1807.4120305749557
         ],
         "z": [
          655.3878372670365
         ]
        },
        {
         "customdata": [
          [
           112
          ]
         ],
         "hovertemplate": "Sensor ID=%{customdata[0]}<br>Principal Component 1=%{x}<br>Principal Component 2=%{y}<br>Principal Component 3=%{z}<br>Cluster=%{marker.color}<extra></extra>",
         "legendgroup": "112",
         "marker": {
          "color": [
           0
          ],
          "coloraxis": "coloraxis",
          "symbol": "circle"
         },
         "mode": "markers",
         "name": "112",
         "scene": "scene",
         "showlegend": true,
         "type": "scatter3d",
         "x": [
          -7970.496151067265
         ],
         "y": [
          -1870.2320794554375
         ],
         "z": [
          783.8937042798273
         ]
        },
        {
         "customdata": [
          [
           113
          ]
         ],
         "hovertemplate": "Sensor ID=%{customdata[0]}<br>Principal Component 1=%{x}<br>Principal Component 2=%{y}<br>Principal Component 3=%{z}<br>Cluster=%{marker.color}<extra></extra>",
         "legendgroup": "113",
         "marker": {
          "color": [
           1
          ],
          "coloraxis": "coloraxis",
          "symbol": "diamond"
         },
         "mode": "markers",
         "name": "113",
         "scene": "scene",
         "showlegend": true,
         "type": "scatter3d",
         "x": [
          57509.47993341668
         ],
         "y": [
          -3483.8475985309315
         ],
         "z": [
          -2541.2968768984056
         ]
        },
        {
         "customdata": [
          [
           114
          ]
         ],
         "hovertemplate": "Sensor ID=%{customdata[0]}<br>Principal Component 1=%{x}<br>Principal Component 2=%{y}<br>Principal Component 3=%{z}<br>Cluster=%{marker.color}<extra></extra>",
         "legendgroup": "114",
         "marker": {
          "color": [
           0
          ],
          "coloraxis": "coloraxis",
          "symbol": "square"
         },
         "mode": "markers",
         "name": "114",
         "scene": "scene",
         "showlegend": true,
         "type": "scatter3d",
         "x": [
          -7932.089346837197
         ],
         "y": [
          -894.6691874358465
         ],
         "z": [
          1047.818167703116
         ]
        },
        {
         "customdata": [
          [
           115
          ]
         ],
         "hovertemplate": "Sensor ID=%{customdata[0]}<br>Principal Component 1=%{x}<br>Principal Component 2=%{y}<br>Principal Component 3=%{z}<br>Cluster=%{marker.color}<extra></extra>",
         "legendgroup": "115",
         "marker": {
          "color": [
           0
          ],
          "coloraxis": "coloraxis",
          "symbol": "x"
         },
         "mode": "markers",
         "name": "115",
         "scene": "scene",
         "showlegend": true,
         "type": "scatter3d",
         "x": [
          -7403.019798083409
         ],
         "y": [
          -1854.7962108725524
         ],
         "z": [
          -860.2726372178674
         ]
        },
        {
         "customdata": [
          [
           116
          ]
         ],
         "hovertemplate": "Sensor ID=%{customdata[0]}<br>Principal Component 1=%{x}<br>Principal Component 2=%{y}<br>Principal Component 3=%{z}<br>Cluster=%{marker.color}<extra></extra>",
         "legendgroup": "116",
         "marker": {
          "color": [
           0
          ],
          "coloraxis": "coloraxis",
          "symbol": "cross"
         },
         "mode": "markers",
         "name": "116",
         "scene": "scene",
         "showlegend": true,
         "type": "scatter3d",
         "x": [
          -7416.207883146513
         ],
         "y": [
          -1858.5898747038777
         ],
         "z": [
          -480.8675024087542
         ]
        },
        {
         "customdata": [
          [
           117
          ]
         ],
         "hovertemplate": "Sensor ID=%{customdata[0]}<br>Principal Component 1=%{x}<br>Principal Component 2=%{y}<br>Principal Component 3=%{z}<br>Cluster=%{marker.color}<extra></extra>",
         "legendgroup": "117",
         "marker": {
          "color": [
           0
          ],
          "coloraxis": "coloraxis",
          "symbol": "circle"
         },
         "mode": "markers",
         "name": "117",
         "scene": "scene",
         "showlegend": true,
         "type": "scatter3d",
         "x": [
          -7364.648400438746
         ],
         "y": [
          -1899.695496273925
         ],
         "z": [
          -694.5973999377638
         ]
        },
        {
         "customdata": [
          [
           118
          ]
         ],
         "hovertemplate": "Sensor ID=%{customdata[0]}<br>Principal Component 1=%{x}<br>Principal Component 2=%{y}<br>Principal Component 3=%{z}<br>Cluster=%{marker.color}<extra></extra>",
         "legendgroup": "118",
         "marker": {
          "color": [
           0
          ],
          "coloraxis": "coloraxis",
          "symbol": "diamond"
         },
         "mode": "markers",
         "name": "118",
         "scene": "scene",
         "showlegend": true,
         "type": "scatter3d",
         "x": [
          -8064.349418713177
         ],
         "y": [
          -790.9132386138291
         ],
         "z": [
          -739.0511300202454
         ]
        },
        {
         "customdata": [
          [
           119
          ]
         ],
         "hovertemplate": "Sensor ID=%{customdata[0]}<br>Principal Component 1=%{x}<br>Principal Component 2=%{y}<br>Principal Component 3=%{z}<br>Cluster=%{marker.color}<extra></extra>",
         "legendgroup": "119",
         "marker": {
          "color": [
           0
          ],
          "coloraxis": "coloraxis",
          "symbol": "square"
         },
         "mode": "markers",
         "name": "119",
         "scene": "scene",
         "showlegend": true,
         "type": "scatter3d",
         "x": [
          -7283.883833867012
         ],
         "y": [
          -1822.1337234000653
         ],
         "z": [
          728.1897960318861
         ]
        },
        {
         "customdata": [
          [
           120
          ]
         ],
         "hovertemplate": "Sensor ID=%{customdata[0]}<br>Principal Component 1=%{x}<br>Principal Component 2=%{y}<br>Principal Component 3=%{z}<br>Cluster=%{marker.color}<extra></extra>",
         "legendgroup": "120",
         "marker": {
          "color": [
           0
          ],
          "coloraxis": "coloraxis",
          "symbol": "x"
         },
         "mode": "markers",
         "name": "120",
         "scene": "scene",
         "showlegend": true,
         "type": "scatter3d",
         "x": [
          -8161.995189772368
         ],
         "y": [
          -1660.5318940893435
         ],
         "z": [
          -641.1535753158893
         ]
        },
        {
         "customdata": [
          [
           121
          ]
         ],
         "hovertemplate": "Sensor ID=%{customdata[0]}<br>Principal Component 1=%{x}<br>Principal Component 2=%{y}<br>Principal Component 3=%{z}<br>Cluster=%{marker.color}<extra></extra>",
         "legendgroup": "121",
         "marker": {
          "color": [
           1
          ],
          "coloraxis": "coloraxis",
          "symbol": "cross"
         },
         "mode": "markers",
         "name": "121",
         "scene": "scene",
         "showlegend": true,
         "type": "scatter3d",
         "x": [
          57422.97512796944
         ],
         "y": [
          -3395.1693557298336
         ],
         "z": [
          -3744.6292403743373
         ]
        },
        {
         "customdata": [
          [
           122
          ]
         ],
         "hovertemplate": "Sensor ID=%{customdata[0]}<br>Principal Component 1=%{x}<br>Principal Component 2=%{y}<br>Principal Component 3=%{z}<br>Cluster=%{marker.color}<extra></extra>",
         "legendgroup": "122",
         "marker": {
          "color": [
           0
          ],
          "coloraxis": "coloraxis",
          "symbol": "circle"
         },
         "mode": "markers",
         "name": "122",
         "scene": "scene",
         "showlegend": true,
         "type": "scatter3d",
         "x": [
          -8123.4436660002775
         ],
         "y": [
          -1901.1231919019117
         ],
         "z": [
          204.60576250013557
         ]
        },
        {
         "customdata": [
          [
           123
          ]
         ],
         "hovertemplate": "Sensor ID=%{customdata[0]}<br>Principal Component 1=%{x}<br>Principal Component 2=%{y}<br>Principal Component 3=%{z}<br>Cluster=%{marker.color}<extra></extra>",
         "legendgroup": "123",
         "marker": {
          "color": [
           0
          ],
          "coloraxis": "coloraxis",
          "symbol": "diamond"
         },
         "mode": "markers",
         "name": "123",
         "scene": "scene",
         "showlegend": true,
         "type": "scatter3d",
         "x": [
          -7974.953849132122
         ],
         "y": [
          -758.3403800939443
         ],
         "z": [
          776.6407867855403
         ]
        },
        {
         "customdata": [
          [
           124
          ]
         ],
         "hovertemplate": "Sensor ID=%{customdata[0]}<br>Principal Component 1=%{x}<br>Principal Component 2=%{y}<br>Principal Component 3=%{z}<br>Cluster=%{marker.color}<extra></extra>",
         "legendgroup": "124",
         "marker": {
          "color": [
           1
          ],
          "coloraxis": "coloraxis",
          "symbol": "square"
         },
         "mode": "markers",
         "name": "124",
         "scene": "scene",
         "showlegend": true,
         "type": "scatter3d",
         "x": [
          57350.21034503598
         ],
         "y": [
          -3290.003398761788
         ],
         "z": [
          -2788.0908774110476
         ]
        },
        {
         "customdata": [
          [
           125
          ]
         ],
         "hovertemplate": "Sensor ID=%{customdata[0]}<br>Principal Component 1=%{x}<br>Principal Component 2=%{y}<br>Principal Component 3=%{z}<br>Cluster=%{marker.color}<extra></extra>",
         "legendgroup": "125",
         "marker": {
          "color": [
           0
          ],
          "coloraxis": "coloraxis",
          "symbol": "x"
         },
         "mode": "markers",
         "name": "125",
         "scene": "scene",
         "showlegend": true,
         "type": "scatter3d",
         "x": [
          -8073.559336795173
         ],
         "y": [
          -1880.8846528740096
         ],
         "z": [
          -355.1892233851728
         ]
        },
        {
         "customdata": [
          [
           126
          ]
         ],
         "hovertemplate": "Sensor ID=%{customdata[0]}<br>Principal Component 1=%{x}<br>Principal Component 2=%{y}<br>Principal Component 3=%{z}<br>Cluster=%{marker.color}<extra></extra>",
         "legendgroup": "126",
         "marker": {
          "color": [
           0
          ],
          "coloraxis": "coloraxis",
          "symbol": "cross"
         },
         "mode": "markers",
         "name": "126",
         "scene": "scene",
         "showlegend": true,
         "type": "scatter3d",
         "x": [
          -8129.797376970446
         ],
         "y": [
          -1740.1091663772181
         ],
         "z": [
          -606.3316896345991
         ]
        },
        {
         "customdata": [
          [
           127
          ]
         ],
         "hovertemplate": "Sensor ID=%{customdata[0]}<br>Principal Component 1=%{x}<br>Principal Component 2=%{y}<br>Principal Component 3=%{z}<br>Cluster=%{marker.color}<extra></extra>",
         "legendgroup": "127",
         "marker": {
          "color": [
           1
          ],
          "coloraxis": "coloraxis",
          "symbol": "circle"
         },
         "mode": "markers",
         "name": "127",
         "scene": "scene",
         "showlegend": true,
         "type": "scatter3d",
         "x": [
          57386.021951929644
         ],
         "y": [
          -3461.568523883449
         ],
         "z": [
          -4123.714224670416
         ]
        },
        {
         "customdata": [
          [
           128
          ]
         ],
         "hovertemplate": "Sensor ID=%{customdata[0]}<br>Principal Component 1=%{x}<br>Principal Component 2=%{y}<br>Principal Component 3=%{z}<br>Cluster=%{marker.color}<extra></extra>",
         "legendgroup": "128",
         "marker": {
          "color": [
           0
          ],
          "coloraxis": "coloraxis",
          "symbol": "diamond"
         },
         "mode": "markers",
         "name": "128",
         "scene": "scene",
         "showlegend": true,
         "type": "scatter3d",
         "x": [
          -7275.342226909297
         ],
         "y": [
          -1935.7558345971174
         ],
         "z": [
          755.3860296177864
         ]
        },
        {
         "customdata": [
          [
           129
          ]
         ],
         "hovertemplate": "Sensor ID=%{customdata[0]}<br>Principal Component 1=%{x}<br>Principal Component 2=%{y}<br>Principal Component 3=%{z}<br>Cluster=%{marker.color}<extra></extra>",
         "legendgroup": "129",
         "marker": {
          "color": [
           0
          ],
          "coloraxis": "coloraxis",
          "symbol": "square"
         },
         "mode": "markers",
         "name": "129",
         "scene": "scene",
         "showlegend": true,
         "type": "scatter3d",
         "x": [
          -7184.32799668737
         ],
         "y": [
          -1851.7175819369734
         ],
         "z": [
          745.8740268420415
         ]
        },
        {
         "customdata": [
          [
           130
          ]
         ],
         "hovertemplate": "Sensor ID=%{customdata[0]}<br>Principal Component 1=%{x}<br>Principal Component 2=%{y}<br>Principal Component 3=%{z}<br>Cluster=%{marker.color}<extra></extra>",
         "legendgroup": "130",
         "marker": {
          "color": [
           1
          ],
          "coloraxis": "coloraxis",
          "symbol": "x"
         },
         "mode": "markers",
         "name": "130",
         "scene": "scene",
         "showlegend": true,
         "type": "scatter3d",
         "x": [
          57317.3100488847
         ],
         "y": [
          -2764.3545355581728
         ],
         "z": [
          -4302.11176992454
         ]
        },
        {
         "customdata": [
          [
           131
          ]
         ],
         "hovertemplate": "Sensor ID=%{customdata[0]}<br>Principal Component 1=%{x}<br>Principal Component 2=%{y}<br>Principal Component 3=%{z}<br>Cluster=%{marker.color}<extra></extra>",
         "legendgroup": "131",
         "marker": {
          "color": [
           0
          ],
          "coloraxis": "coloraxis",
          "symbol": "cross"
         },
         "mode": "markers",
         "name": "131",
         "scene": "scene",
         "showlegend": true,
         "type": "scatter3d",
         "x": [
          -8043.07937080256
         ],
         "y": [
          -699.939127605356
         ],
         "z": [
          -345.0241429247828
         ]
        },
        {
         "customdata": [
          [
           132
          ]
         ],
         "hovertemplate": "Sensor ID=%{customdata[0]}<br>Principal Component 1=%{x}<br>Principal Component 2=%{y}<br>Principal Component 3=%{z}<br>Cluster=%{marker.color}<extra></extra>",
         "legendgroup": "132",
         "marker": {
          "color": [
           0
          ],
          "coloraxis": "coloraxis",
          "symbol": "circle"
         },
         "mode": "markers",
         "name": "132",
         "scene": "scene",
         "showlegend": true,
         "type": "scatter3d",
         "x": [
          -7981.86275320352
         ],
         "y": [
          -1941.2970584727261
         ],
         "z": [
          652.0989115362138
         ]
        },
        {
         "customdata": [
          [
           133
          ]
         ],
         "hovertemplate": "Sensor ID=%{customdata[0]}<br>Principal Component 1=%{x}<br>Principal Component 2=%{y}<br>Principal Component 3=%{z}<br>Cluster=%{marker.color}<extra></extra>",
         "legendgroup": "133",
         "marker": {
          "color": [
           0
          ],
          "coloraxis": "coloraxis",
          "symbol": "diamond"
         },
         "mode": "markers",
         "name": "133",
         "scene": "scene",
         "showlegend": true,
         "type": "scatter3d",
         "x": [
          -7266.919169840891
         ],
         "y": [
          -798.003868272441
         ],
         "z": [
          976.3727901019643
         ]
        },
        {
         "customdata": [
          [
           134
          ]
         ],
         "hovertemplate": "Sensor ID=%{customdata[0]}<br>Principal Component 1=%{x}<br>Principal Component 2=%{y}<br>Principal Component 3=%{z}<br>Cluster=%{marker.color}<extra></extra>",
         "legendgroup": "134",
         "marker": {
          "color": [
           0
          ],
          "coloraxis": "coloraxis",
          "symbol": "square"
         },
         "mode": "markers",
         "name": "134",
         "scene": "scene",
         "showlegend": true,
         "type": "scatter3d",
         "x": [
          -7299.249885013055
         ],
         "y": [
          -1809.9072033026735
         ],
         "z": [
          -625.093091646061
         ]
        },
        {
         "customdata": [
          [
           135
          ]
         ],
         "hovertemplate": "Sensor ID=%{customdata[0]}<br>Principal Component 1=%{x}<br>Principal Component 2=%{y}<br>Principal Component 3=%{z}<br>Cluster=%{marker.color}<extra></extra>",
         "legendgroup": "135",
         "marker": {
          "color": [
           0
          ],
          "coloraxis": "coloraxis",
          "symbol": "x"
         },
         "mode": "markers",
         "name": "135",
         "scene": "scene",
         "showlegend": true,
         "type": "scatter3d",
         "x": [
          -7355.6278034148245
         ],
         "y": [
          -1855.9990948957932
         ],
         "z": [
          -737.6520232399005
         ]
        },
        {
         "customdata": [
          [
           136
          ]
         ],
         "hovertemplate": "Sensor ID=%{customdata[0]}<br>Principal Component 1=%{x}<br>Principal Component 2=%{y}<br>Principal Component 3=%{z}<br>Cluster=%{marker.color}<extra></extra>",
         "legendgroup": "136",
         "marker": {
          "color": [
           0
          ],
          "coloraxis": "coloraxis",
          "symbol": "cross"
         },
         "mode": "markers",
         "name": "136",
         "scene": "scene",
         "showlegend": true,
         "type": "scatter3d",
         "x": [
          -7345.36298550355
         ],
         "y": [
          -1827.6703685352632
         ],
         "z": [
          -622.007681496605
         ]
        },
        {
         "customdata": [
          [
           137
          ]
         ],
         "hovertemplate": "Sensor ID=%{customdata[0]}<br>Principal Component 1=%{x}<br>Principal Component 2=%{y}<br>Principal Component 3=%{z}<br>Cluster=%{marker.color}<extra></extra>",
         "legendgroup": "137",
         "marker": {
          "color": [
           1
          ],
          "coloraxis": "coloraxis",
          "symbol": "circle"
         },
         "mode": "markers",
         "name": "137",
         "scene": "scene",
         "showlegend": true,
         "type": "scatter3d",
         "x": [
          57337.45573307898
         ],
         "y": [
          -3462.3078847551897
         ],
         "z": [
          -3689.7140348938165
         ]
        },
        {
         "customdata": [
          [
           138
          ]
         ],
         "hovertemplate": "Sensor ID=%{customdata[0]}<br>Principal Component 1=%{x}<br>Principal Component 2=%{y}<br>Principal Component 3=%{z}<br>Cluster=%{marker.color}<extra></extra>",
         "legendgroup": "138",
         "marker": {
          "color": [
           0
          ],
          "coloraxis": "coloraxis",
          "symbol": "diamond"
         },
         "mode": "markers",
         "name": "138",
         "scene": "scene",
         "showlegend": true,
         "type": "scatter3d",
         "x": [
          -8036.486034498693
         ],
         "y": [
          -1769.6757684837853
         ],
         "z": [
          1028.1789888431758
         ]
        },
        {
         "customdata": [
          [
           139
          ]
         ],
         "hovertemplate": "Sensor ID=%{customdata[0]}<br>Principal Component 1=%{x}<br>Principal Component 2=%{y}<br>Principal Component 3=%{z}<br>Cluster=%{marker.color}<extra></extra>",
         "legendgroup": "139",
         "marker": {
          "color": [
           2
          ],
          "coloraxis": "coloraxis",
          "symbol": "square"
         },
         "mode": "markers",
         "name": "139",
         "scene": "scene",
         "showlegend": true,
         "type": "scatter3d",
         "x": [
          -6512.860261348813
         ],
         "y": [
          63868.43116044699
         ],
         "z": [
          1173.138090712656
         ]
        },
        {
         "customdata": [
          [
           140
          ]
         ],
         "hovertemplate": "Sensor ID=%{customdata[0]}<br>Principal Component 1=%{x}<br>Principal Component 2=%{y}<br>Principal Component 3=%{z}<br>Cluster=%{marker.color}<extra></extra>",
         "legendgroup": "140",
         "marker": {
          "color": [
           0
          ],
          "coloraxis": "coloraxis",
          "symbol": "x"
         },
         "mode": "markers",
         "name": "140",
         "scene": "scene",
         "showlegend": true,
         "type": "scatter3d",
         "x": [
          -8041.981552742311
         ],
         "y": [
          -1896.5077146853469
         ],
         "z": [
          -339.3464653019122
         ]
        },
        {
         "customdata": [
          [
           141
          ]
         ],
         "hovertemplate": "Sensor ID=%{customdata[0]}<br>Principal Component 1=%{x}<br>Principal Component 2=%{y}<br>Principal Component 3=%{z}<br>Cluster=%{marker.color}<extra></extra>",
         "legendgroup": "141",
         "marker": {
          "color": [
           1
          ],
          "coloraxis": "coloraxis",
          "symbol": "cross"
         },
         "mode": "markers",
         "name": "141",
         "scene": "scene",
         "showlegend": true,
         "type": "scatter3d",
         "x": [
          57478.49244733208
         ],
         "y": [
          -2400.133061727498
         ],
         "z": [
          -2648.792274605022
         ]
        },
        {
         "customdata": [
          [
           142
          ]
         ],
         "hovertemplate": "Sensor ID=%{customdata[0]}<br>Principal Component 1=%{x}<br>Principal Component 2=%{y}<br>Principal Component 3=%{z}<br>Cluster=%{marker.color}<extra></extra>",
         "legendgroup": "142",
         "marker": {
          "color": [
           0
          ],
          "coloraxis": "coloraxis",
          "symbol": "circle"
         },
         "mode": "markers",
         "name": "142",
         "scene": "scene",
         "showlegend": true,
         "type": "scatter3d",
         "x": [
          -8116.391999981833
         ],
         "y": [
          -1917.7467357146656
         ],
         "z": [
          -511.928932662813
         ]
        },
        {
         "customdata": [
          [
           143
          ]
         ],
         "hovertemplate": "Sensor ID=%{customdata[0]}<br>Principal Component 1=%{x}<br>Principal Component 2=%{y}<br>Principal Component 3=%{z}<br>Cluster=%{marker.color}<extra></extra>",
         "legendgroup": "143",
         "marker": {
          "color": [
           0
          ],
          "coloraxis": "coloraxis",
          "symbol": "diamond"
         },
         "mode": "markers",
         "name": "143",
         "scene": "scene",
         "showlegend": true,
         "type": "scatter3d",
         "x": [
          -7334.795784254671
         ],
         "y": [
          -1931.6343541429287
         ],
         "z": [
          -620.5692378582462
         ]
        },
        {
         "customdata": [
          [
           144
          ]
         ],
         "hovertemplate": "Sensor ID=%{customdata[0]}<br>Principal Component 1=%{x}<br>Principal Component 2=%{y}<br>Principal Component 3=%{z}<br>Cluster=%{marker.color}<extra></extra>",
         "legendgroup": "144",
         "marker": {
          "color": [
           1
          ],
          "coloraxis": "coloraxis",
          "symbol": "square"
         },
         "mode": "markers",
         "name": "144",
         "scene": "scene",
         "showlegend": true,
         "type": "scatter3d",
         "x": [
          57360.07294020784
         ],
         "y": [
          -3378.784666911301
         ],
         "z": [
          -3841.808351839377
         ]
        },
        {
         "customdata": [
          [
           145
          ]
         ],
         "hovertemplate": "Sensor ID=%{customdata[0]}<br>Principal Component 1=%{x}<br>Principal Component 2=%{y}<br>Principal Component 3=%{z}<br>Cluster=%{marker.color}<extra></extra>",
         "legendgroup": "145",
         "marker": {
          "color": [
           0
          ],
          "coloraxis": "coloraxis",
          "symbol": "x"
         },
         "mode": "markers",
         "name": "145",
         "scene": "scene",
         "showlegend": true,
         "type": "scatter3d",
         "x": [
          -8048.915669152926
         ],
         "y": [
          -804.0699186256998
         ],
         "z": [
          -384.52511661855704
         ]
        },
        {
         "customdata": [
          [
           146
          ]
         ],
         "hovertemplate": "Sensor ID=%{customdata[0]}<br>Principal Component 1=%{x}<br>Principal Component 2=%{y}<br>Principal Component 3=%{z}<br>Cluster=%{marker.color}<extra></extra>",
         "legendgroup": "146",
         "marker": {
          "color": [
           1
          ],
          "coloraxis": "coloraxis",
          "symbol": "cross"
         },
         "mode": "markers",
         "name": "146",
         "scene": "scene",
         "showlegend": true,
         "type": "scatter3d",
         "x": [
          58249.06346783173
         ],
         "y": [
          -2787.858834867473
         ],
         "z": [
          13168.846582968372
         ]
        },
        {
         "customdata": [
          [
           147
          ]
         ],
         "hovertemplate": "Sensor ID=%{customdata[0]}<br>Principal Component 1=%{x}<br>Principal Component 2=%{y}<br>Principal Component 3=%{z}<br>Cluster=%{marker.color}<extra></extra>",
         "legendgroup": "147",
         "marker": {
          "color": [
           1
          ],
          "coloraxis": "coloraxis",
          "symbol": "circle"
         },
         "mode": "markers",
         "name": "147",
         "scene": "scene",
         "showlegend": true,
         "type": "scatter3d",
         "x": [
          57424.16312336213
         ],
         "y": [
          -3477.679924769713
         ],
         "z": [
          -2740.128647520835
         ]
        },
        {
         "customdata": [
          [
           148
          ]
         ],
         "hovertemplate": "Sensor ID=%{customdata[0]}<br>Principal Component 1=%{x}<br>Principal Component 2=%{y}<br>Principal Component 3=%{z}<br>Cluster=%{marker.color}<extra></extra>",
         "legendgroup": "148",
         "marker": {
          "color": [
           1
          ],
          "coloraxis": "coloraxis",
          "symbol": "diamond"
         },
         "mode": "markers",
         "name": "148",
         "scene": "scene",
         "showlegend": true,
         "type": "scatter3d",
         "x": [
          57421.88658321689
         ],
         "y": [
          -3572.73753769727
         ],
         "z": [
          -3946.6902636637346
         ]
        },
        {
         "customdata": [
          [
           149
          ]
         ],
         "hovertemplate": "Sensor ID=%{customdata[0]}<br>Principal Component 1=%{x}<br>Principal Component 2=%{y}<br>Principal Component 3=%{z}<br>Cluster=%{marker.color}<extra></extra>",
         "legendgroup": "149",
         "marker": {
          "color": [
           1
          ],
          "coloraxis": "coloraxis",
          "symbol": "square"
         },
         "mode": "markers",
         "name": "149",
         "scene": "scene",
         "showlegend": true,
         "type": "scatter3d",
         "x": [
          58744.708570371324
         ],
         "y": [
          49152.05153596461
         ],
         "z": [
          -3064.249871732447
         ]
        },
        {
         "customdata": [
          [
           150
          ]
         ],
         "hovertemplate": "Sensor ID=%{customdata[0]}<br>Principal Component 1=%{x}<br>Principal Component 2=%{y}<br>Principal Component 3=%{z}<br>Cluster=%{marker.color}<extra></extra>",
         "legendgroup": "150",
         "marker": {
          "color": [
           1
          ],
          "coloraxis": "coloraxis",
          "symbol": "x"
         },
         "mode": "markers",
         "name": "150",
         "scene": "scene",
         "showlegend": true,
         "type": "scatter3d",
         "x": [
          57416.92698399586
         ],
         "y": [
          -2665.180292840428
         ],
         "z": [
          -2483.61167934711
         ]
        },
        {
         "customdata": [
          [
           151
          ]
         ],
         "hovertemplate": "Sensor ID=%{customdata[0]}<br>Principal Component 1=%{x}<br>Principal Component 2=%{y}<br>Principal Component 3=%{z}<br>Cluster=%{marker.color}<extra></extra>",
         "legendgroup": "151",
         "marker": {
          "color": [
           1
          ],
          "coloraxis": "coloraxis",
          "symbol": "cross"
         },
         "mode": "markers",
         "name": "151",
         "scene": "scene",
         "showlegend": true,
         "type": "scatter3d",
         "x": [
          57292.065252051274
         ],
         "y": [
          -3373.0293304710463
         ],
         "z": [
          -4046.423279330164
         ]
        },
        {
         "customdata": [
          [
           152
          ]
         ],
         "hovertemplate": "Sensor ID=%{customdata[0]}<br>Principal Component 1=%{x}<br>Principal Component 2=%{y}<br>Principal Component 3=%{z}<br>Cluster=%{marker.color}<extra></extra>",
         "legendgroup": "152",
         "marker": {
          "color": [
           0
          ],
          "coloraxis": "coloraxis",
          "symbol": "circle"
         },
         "mode": "markers",
         "name": "152",
         "scene": "scene",
         "showlegend": true,
         "type": "scatter3d",
         "x": [
          -7998.742160426879
         ],
         "y": [
          -1851.6601218347967
         ],
         "z": [
          823.346570039505
         ]
        },
        {
         "customdata": [
          [
           153
          ]
         ],
         "hovertemplate": "Sensor ID=%{customdata[0]}<br>Principal Component 1=%{x}<br>Principal Component 2=%{y}<br>Principal Component 3=%{z}<br>Cluster=%{marker.color}<extra></extra>",
         "legendgroup": "153",
         "marker": {
          "color": [
           0
          ],
          "coloraxis": "coloraxis",
          "symbol": "diamond"
         },
         "mode": "markers",
         "name": "153",
         "scene": "scene",
         "showlegend": true,
         "type": "scatter3d",
         "x": [
          -8052.085899256607
         ],
         "y": [
          -1878.5242485777192
         ],
         "z": [
          -650.3428295136193
         ]
        },
        {
         "customdata": [
          [
           154
          ]
         ],
         "hovertemplate": "Sensor ID=%{customdata[0]}<br>Principal Component 1=%{x}<br>Principal Component 2=%{y}<br>Principal Component 3=%{z}<br>Cluster=%{marker.color}<extra></extra>",
         "legendgroup": "154",
         "marker": {
          "color": [
           0
          ],
          "coloraxis": "coloraxis",
          "symbol": "square"
         },
         "mode": "markers",
         "name": "154",
         "scene": "scene",
         "showlegend": true,
         "type": "scatter3d",
         "x": [
          -8070.463932245879
         ],
         "y": [
          -1764.417109555519
         ],
         "z": [
          -643.526423305202
         ]
        },
        {
         "customdata": [
          [
           155
          ]
         ],
         "hovertemplate": "Sensor ID=%{customdata[0]}<br>Principal Component 1=%{x}<br>Principal Component 2=%{y}<br>Principal Component 3=%{z}<br>Cluster=%{marker.color}<extra></extra>",
         "legendgroup": "155",
         "marker": {
          "color": [
           1
          ],
          "coloraxis": "coloraxis",
          "symbol": "x"
         },
         "mode": "markers",
         "name": "155",
         "scene": "scene",
         "showlegend": true,
         "type": "scatter3d",
         "x": [
          57353.89380877746
         ],
         "y": [
          -3422.134152289765
         ],
         "z": [
          -4134.284248354971
         ]
        },
        {
         "customdata": [
          [
           156
          ]
         ],
         "hovertemplate": "Sensor ID=%{customdata[0]}<br>Principal Component 1=%{x}<br>Principal Component 2=%{y}<br>Principal Component 3=%{z}<br>Cluster=%{marker.color}<extra></extra>",
         "legendgroup": "156",
         "marker": {
          "color": [
           0
          ],
          "coloraxis": "coloraxis",
          "symbol": "cross"
         },
         "mode": "markers",
         "name": "156",
         "scene": "scene",
         "showlegend": true,
         "type": "scatter3d",
         "x": [
          -7967.31193375311
         ],
         "y": [
          -835.8609160442769
         ],
         "z": [
          766.0951933745239
         ]
        },
        {
         "customdata": [
          [
           157
          ]
         ],
         "hovertemplate": "Sensor ID=%{customdata[0]}<br>Principal Component 1=%{x}<br>Principal Component 2=%{y}<br>Principal Component 3=%{z}<br>Cluster=%{marker.color}<extra></extra>",
         "legendgroup": "157",
         "marker": {
          "color": [
           1
          ],
          "coloraxis": "coloraxis",
          "symbol": "circle"
         },
         "mode": "markers",
         "name": "157",
         "scene": "scene",
         "showlegend": true,
         "type": "scatter3d",
         "x": [
          57385.40715993329
         ],
         "y": [
          -2364.1786910132364
         ],
         "z": [
          -3870.2377847659004
         ]
        },
        {
         "customdata": [
          [
           158
          ]
         ],
         "hovertemplate": "Sensor ID=%{customdata[0]}<br>Principal Component 1=%{x}<br>Principal Component 2=%{y}<br>Principal Component 3=%{z}<br>Cluster=%{marker.color}<extra></extra>",
         "legendgroup": "158",
         "marker": {
          "color": [
           0
          ],
          "coloraxis": "coloraxis",
          "symbol": "diamond"
         },
         "mode": "markers",
         "name": "158",
         "scene": "scene",
         "showlegend": true,
         "type": "scatter3d",
         "x": [
          -8017.589058937685
         ],
         "y": [
          -1884.220487354341
         ],
         "z": [
          -583.4827186021766
         ]
        },
        {
         "customdata": [
          [
           159
          ]
         ],
         "hovertemplate": "Sensor ID=%{customdata[0]}<br>Principal Component 1=%{x}<br>Principal Component 2=%{y}<br>Principal Component 3=%{z}<br>Cluster=%{marker.color}<extra></extra>",
         "legendgroup": "159",
         "marker": {
          "color": [
           1
          ],
          "coloraxis": "coloraxis",
          "symbol": "square"
         },
         "mode": "markers",
         "name": "159",
         "scene": "scene",
         "showlegend": true,
         "type": "scatter3d",
         "x": [
          57670.69957851132
         ],
         "y": [
          8215.208786737558
         ],
         "z": [
          -2708.510831684435
         ]
        },
        {
         "customdata": [
          [
           160
          ]
         ],
         "hovertemplate": "Sensor ID=%{customdata[0]}<br>Principal Component 1=%{x}<br>Principal Component 2=%{y}<br>Principal Component 3=%{z}<br>Cluster=%{marker.color}<extra></extra>",
         "legendgroup": "160",
         "marker": {
          "color": [
           2
          ],
          "coloraxis": "coloraxis",
          "symbol": "x"
         },
         "mode": "markers",
         "name": "160",
         "scene": "scene",
         "showlegend": true,
         "type": "scatter3d",
         "x": [
          -6408.152201031623
         ],
         "y": [
          63762.099808268074
         ],
         "z": [
          1661.4062846539084
         ]
        },
        {
         "customdata": [
          [
           161
          ]
         ],
         "hovertemplate": "Sensor ID=%{customdata[0]}<br>Principal Component 1=%{x}<br>Principal Component 2=%{y}<br>Principal Component 3=%{z}<br>Cluster=%{marker.color}<extra></extra>",
         "legendgroup": "161",
         "marker": {
          "color": [
           0
          ],
          "coloraxis": "coloraxis",
          "symbol": "cross"
         },
         "mode": "markers",
         "name": "161",
         "scene": "scene",
         "showlegend": true,
         "type": "scatter3d",
         "x": [
          -7217.974133121739
         ],
         "y": [
          -1963.362290545054
         ],
         "z": [
          650.2864491014506
         ]
        },
        {
         "customdata": [
          [
           162
          ]
         ],
         "hovertemplate": "Sensor ID=%{customdata[0]}<br>Principal Component 1=%{x}<br>Principal Component 2=%{y}<br>Principal Component 3=%{z}<br>Cluster=%{marker.color}<extra></extra>",
         "legendgroup": "162",
         "marker": {
          "color": [
           0
          ],
          "coloraxis": "coloraxis",
          "symbol": "circle"
         },
         "mode": "markers",
         "name": "162",
         "scene": "scene",
         "showlegend": true,
         "type": "scatter3d",
         "x": [
          -8001.7212795138985
         ],
         "y": [
          -843.1111100962903
         ],
         "z": [
          -534.0647538884174
         ]
        },
        {
         "customdata": [
          [
           163
          ]
         ],
         "hovertemplate": "Sensor ID=%{customdata[0]}<br>Principal Component 1=%{x}<br>Principal Component 2=%{y}<br>Principal Component 3=%{z}<br>Cluster=%{marker.color}<extra></extra>",
         "legendgroup": "163",
         "marker": {
          "color": [
           0
          ],
          "coloraxis": "coloraxis",
          "symbol": "diamond"
         },
         "mode": "markers",
         "name": "163",
         "scene": "scene",
         "showlegend": true,
         "type": "scatter3d",
         "x": [
          -7879.694673103514
         ],
         "y": [
          8289.289903097491
         ],
         "z": [
          548.3396557708157
         ]
        },
        {
         "customdata": [
          [
           164
          ]
         ],
         "hovertemplate": "Sensor ID=%{customdata[0]}<br>Principal Component 1=%{x}<br>Principal Component 2=%{y}<br>Principal Component 3=%{z}<br>Cluster=%{marker.color}<extra></extra>",
         "legendgroup": "164",
         "marker": {
          "color": [
           0
          ],
          "coloraxis": "coloraxis",
          "symbol": "square"
         },
         "mode": "markers",
         "name": "164",
         "scene": "scene",
         "showlegend": true,
         "type": "scatter3d",
         "x": [
          -7994.51787086002
         ],
         "y": [
          -1878.4532263329277
         ],
         "z": [
          967.033433528106
         ]
        },
        {
         "customdata": [
          [
           165
          ]
         ],
         "hovertemplate": "Sensor ID=%{customdata[0]}<br>Principal Component 1=%{x}<br>Principal Component 2=%{y}<br>Principal Component 3=%{z}<br>Cluster=%{marker.color}<extra></extra>",
         "legendgroup": "165",
         "marker": {
          "color": [
           0
          ],
          "coloraxis": "coloraxis",
          "symbol": "x"
         },
         "mode": "markers",
         "name": "165",
         "scene": "scene",
         "showlegend": true,
         "type": "scatter3d",
         "x": [
          -8054.904999017939
         ],
         "y": [
          -754.0703721335094
         ],
         "z": [
          -692.1369051866681
         ]
        },
        {
         "customdata": [
          [
           166
          ]
         ],
         "hovertemplate": "Sensor ID=%{customdata[0]}<br>Principal Component 1=%{x}<br>Principal Component 2=%{y}<br>Principal Component 3=%{z}<br>Cluster=%{marker.color}<extra></extra>",
         "legendgroup": "166",
         "marker": {
          "color": [
           2
          ],
          "coloraxis": "coloraxis",
          "symbol": "cross"
         },
         "mode": "markers",
         "name": "166",
         "scene": "scene",
         "showlegend": true,
         "type": "scatter3d",
         "x": [
          -5605.54365992367
         ],
         "y": [
          63689.032248872376
         ],
         "z": [
          522.159665041388
         ]
        },
        {
         "customdata": [
          [
           167
          ]
         ],
         "hovertemplate": "Sensor ID=%{customdata[0]}<br>Principal Component 1=%{x}<br>Principal Component 2=%{y}<br>Principal Component 3=%{z}<br>Cluster=%{marker.color}<extra></extra>",
         "legendgroup": "167",
         "marker": {
          "color": [
           0
          ],
          "coloraxis": "coloraxis",
          "symbol": "circle"
         },
         "mode": "markers",
         "name": "167",
         "scene": "scene",
         "showlegend": true,
         "type": "scatter3d",
         "x": [
          -7996.008390369264
         ],
         "y": [
          -891.310153979784
         ],
         "z": [
          -495.0424872189497
         ]
        },
        {
         "customdata": [
          [
           168
          ]
         ],
         "hovertemplate": "Sensor ID=%{customdata[0]}<br>Principal Component 1=%{x}<br>Principal Component 2=%{y}<br>Principal Component 3=%{z}<br>Cluster=%{marker.color}<extra></extra>",
         "legendgroup": "168",
         "marker": {
          "color": [
           0
          ],
          "coloraxis": "coloraxis",
          "symbol": "diamond"
         },
         "mode": "markers",
         "name": "168",
         "scene": "scene",
         "showlegend": true,
         "type": "scatter3d",
         "x": [
          -8066.014954145877
         ],
         "y": [
          -842.3665983525586
         ],
         "z": [
          -515.0093732864269
         ]
        },
        {
         "customdata": [
          [
           169
          ]
         ],
         "hovertemplate": "Sensor ID=%{customdata[0]}<br>Principal Component 1=%{x}<br>Principal Component 2=%{y}<br>Principal Component 3=%{z}<br>Cluster=%{marker.color}<extra></extra>",
         "legendgroup": "169",
         "marker": {
          "color": [
           0
          ],
          "coloraxis": "coloraxis",
          "symbol": "square"
         },
         "mode": "markers",
         "name": "169",
         "scene": "scene",
         "showlegend": true,
         "type": "scatter3d",
         "x": [
          -8097.100161299705
         ],
         "y": [
          -1775.2972304283658
         ],
         "z": [
          -487.03378548161635
         ]
        },
        {
         "customdata": [
          [
           170
          ]
         ],
         "hovertemplate": "Sensor ID=%{customdata[0]}<br>Principal Component 1=%{x}<br>Principal Component 2=%{y}<br>Principal Component 3=%{z}<br>Cluster=%{marker.color}<extra></extra>",
         "legendgroup": "170",
         "marker": {
          "color": [
           0
          ],
          "coloraxis": "coloraxis",
          "symbol": "x"
         },
         "mode": "markers",
         "name": "170",
         "scene": "scene",
         "showlegend": true,
         "type": "scatter3d",
         "x": [
          -7243.238226435852
         ],
         "y": [
          -1868.4216326287683
         ],
         "z": [
          858.1372036798875
         ]
        },
        {
         "customdata": [
          [
           171
          ]
         ],
         "hovertemplate": "Sensor ID=%{customdata[0]}<br>Principal Component 1=%{x}<br>Principal Component 2=%{y}<br>Principal Component 3=%{z}<br>Cluster=%{marker.color}<extra></extra>",
         "legendgroup": "171",
         "marker": {
          "color": [
           0
          ],
          "coloraxis": "coloraxis",
          "symbol": "cross"
         },
         "mode": "markers",
         "name": "171",
         "scene": "scene",
         "showlegend": true,
         "type": "scatter3d",
         "x": [
          -7308.345594626956
         ],
         "y": [
          -1829.6054450714364
         ],
         "z": [
          -484.12956527738316
         ]
        },
        {
         "customdata": [
          [
           172
          ]
         ],
         "hovertemplate": "Sensor ID=%{customdata[0]}<br>Principal Component 1=%{x}<br>Principal Component 2=%{y}<br>Principal Component 3=%{z}<br>Cluster=%{marker.color}<extra></extra>",
         "legendgroup": "172",
         "marker": {
          "color": [
           0
          ],
          "coloraxis": "coloraxis",
          "symbol": "circle"
         },
         "mode": "markers",
         "name": "172",
         "scene": "scene",
         "showlegend": true,
         "type": "scatter3d",
         "x": [
          -8096.301192583354
         ],
         "y": [
          -1917.8195114955126
         ],
         "z": [
          -461.0195960845936
         ]
        },
        {
         "customdata": [
          [
           173
          ]
         ],
         "hovertemplate": "Sensor ID=%{customdata[0]}<br>Principal Component 1=%{x}<br>Principal Component 2=%{y}<br>Principal Component 3=%{z}<br>Cluster=%{marker.color}<extra></extra>",
         "legendgroup": "173",
         "marker": {
          "color": [
           0
          ],
          "coloraxis": "coloraxis",
          "symbol": "diamond"
         },
         "mode": "markers",
         "name": "173",
         "scene": "scene",
         "showlegend": true,
         "type": "scatter3d",
         "x": [
          -6665.1825664852395
         ],
         "y": [
          20463.28869956306
         ],
         "z": [
          1102.482419942293
         ]
        },
        {
         "customdata": [
          [
           174
          ]
         ],
         "hovertemplate": "Sensor ID=%{customdata[0]}<br>Principal Component 1=%{x}<br>Principal Component 2=%{y}<br>Principal Component 3=%{z}<br>Cluster=%{marker.color}<extra></extra>",
         "legendgroup": "174",
         "marker": {
          "color": [
           0
          ],
          "coloraxis": "coloraxis",
          "symbol": "square"
         },
         "mode": "markers",
         "name": "174",
         "scene": "scene",
         "showlegend": true,
         "type": "scatter3d",
         "x": [
          -8176.697786292019
         ],
         "y": [
          -1768.9719325817837
         ],
         "z": [
          -654.5409138243257
         ]
        },
        {
         "customdata": [
          [
           175
          ]
         ],
         "hovertemplate": "Sensor ID=%{customdata[0]}<br>Principal Component 1=%{x}<br>Principal Component 2=%{y}<br>Principal Component 3=%{z}<br>Cluster=%{marker.color}<extra></extra>",
         "legendgroup": "175",
         "marker": {
          "color": [
           1
          ],
          "coloraxis": "coloraxis",
          "symbol": "x"
         },
         "mode": "markers",
         "name": "175",
         "scene": "scene",
         "showlegend": true,
         "type": "scatter3d",
         "x": [
          57292.12276931819
         ],
         "y": [
          -3339.1321352029927
         ],
         "z": [
          -3720.9616345442687
         ]
        },
        {
         "customdata": [
          [
           176
          ]
         ],
         "hovertemplate": "Sensor ID=%{customdata[0]}<br>Principal Component 1=%{x}<br>Principal Component 2=%{y}<br>Principal Component 3=%{z}<br>Cluster=%{marker.color}<extra></extra>",
         "legendgroup": "176",
         "marker": {
          "color": [
           0
          ],
          "coloraxis": "coloraxis",
          "symbol": "cross"
         },
         "mode": "markers",
         "name": "176",
         "scene": "scene",
         "showlegend": true,
         "type": "scatter3d",
         "x": [
          -8018.038004778764
         ],
         "y": [
          -804.3674477704519
         ],
         "z": [
          -623.5491217461984
         ]
        },
        {
         "customdata": [
          [
           177
          ]
         ],
         "hovertemplate": "Sensor ID=%{customdata[0]}<br>Principal Component 1=%{x}<br>Principal Component 2=%{y}<br>Principal Component 3=%{z}<br>Cluster=%{marker.color}<extra></extra>",
         "legendgroup": "177",
         "marker": {
          "color": [
           0
          ],
          "coloraxis": "coloraxis",
          "symbol": "circle"
         },
         "mode": "markers",
         "name": "177",
         "scene": "scene",
         "showlegend": true,
         "type": "scatter3d",
         "x": [
          -7228.809663685002
         ],
         "y": [
          -1864.461931789691
         ],
         "z": [
          504.7144592651986
         ]
        },
        {
         "customdata": [
          [
           178
          ]
         ],
         "hovertemplate": "Sensor ID=%{customdata[0]}<br>Principal Component 1=%{x}<br>Principal Component 2=%{y}<br>Principal Component 3=%{z}<br>Cluster=%{marker.color}<extra></extra>",
         "legendgroup": "178",
         "marker": {
          "color": [
           0
          ],
          "coloraxis": "coloraxis",
          "symbol": "diamond"
         },
         "mode": "markers",
         "name": "178",
         "scene": "scene",
         "showlegend": true,
         "type": "scatter3d",
         "x": [
          -7197.079855197119
         ],
         "y": [
          -1904.1691951508037
         ],
         "z": [
          -200.42169571733092
         ]
        },
        {
         "customdata": [
          [
           179
          ]
         ],
         "hovertemplate": "Sensor ID=%{customdata[0]}<br>Principal Component 1=%{x}<br>Principal Component 2=%{y}<br>Principal Component 3=%{z}<br>Cluster=%{marker.color}<extra></extra>",
         "legendgroup": "179",
         "marker": {
          "color": [
           0
          ],
          "coloraxis": "coloraxis",
          "symbol": "square"
         },
         "mode": "markers",
         "name": "179",
         "scene": "scene",
         "showlegend": true,
         "type": "scatter3d",
         "x": [
          -8100.315229308514
         ],
         "y": [
          -798.5824743239532
         ],
         "z": [
          -573.4135541184945
         ]
        },
        {
         "customdata": [
          [
           180
          ]
         ],
         "hovertemplate": "Sensor ID=%{customdata[0]}<br>Principal Component 1=%{x}<br>Principal Component 2=%{y}<br>Principal Component 3=%{z}<br>Cluster=%{marker.color}<extra></extra>",
         "legendgroup": "180",
         "marker": {
          "color": [
           1
          ],
          "coloraxis": "coloraxis",
          "symbol": "x"
         },
         "mode": "markers",
         "name": "180",
         "scene": "scene",
         "showlegend": true,
         "type": "scatter3d",
         "x": [
          57696.233273635386
         ],
         "y": [
          8079.3910644876905
         ],
         "z": [
          -3610.645759594273
         ]
        },
        {
         "customdata": [
          [
           181
          ]
         ],
         "hovertemplate": "Sensor ID=%{customdata[0]}<br>Principal Component 1=%{x}<br>Principal Component 2=%{y}<br>Principal Component 3=%{z}<br>Cluster=%{marker.color}<extra></extra>",
         "legendgroup": "181",
         "marker": {
          "color": [
           0
          ],
          "coloraxis": "coloraxis",
          "symbol": "cross"
         },
         "mode": "markers",
         "name": "181",
         "scene": "scene",
         "showlegend": true,
         "type": "scatter3d",
         "x": [
          -8032.8943341112645
         ],
         "y": [
          -1919.7799731435512
         ],
         "z": [
          745.7342821132695
         ]
        },
        {
         "customdata": [
          [
           182
          ]
         ],
         "hovertemplate": "Sensor ID=%{customdata[0]}<br>Principal Component 1=%{x}<br>Principal Component 2=%{y}<br>Principal Component 3=%{z}<br>Cluster=%{marker.color}<extra></extra>",
         "legendgroup": "182",
         "marker": {
          "color": [
           0
          ],
          "coloraxis": "coloraxis",
          "symbol": "circle"
         },
         "mode": "markers",
         "name": "182",
         "scene": "scene",
         "showlegend": true,
         "type": "scatter3d",
         "x": [
          -7949.467309767916
         ],
         "y": [
          -1853.9060965100598
         ],
         "z": [
          766.1486157207875
         ]
        },
        {
         "customdata": [
          [
           183
          ]
         ],
         "hovertemplate": "Sensor ID=%{customdata[0]}<br>Principal Component 1=%{x}<br>Principal Component 2=%{y}<br>Principal Component 3=%{z}<br>Cluster=%{marker.color}<extra></extra>",
         "legendgroup": "183",
         "marker": {
          "color": [
           0
          ],
          "coloraxis": "coloraxis",
          "symbol": "diamond"
         },
         "mode": "markers",
         "name": "183",
         "scene": "scene",
         "showlegend": true,
         "type": "scatter3d",
         "x": [
          -7258.518128162304
         ],
         "y": [
          -1921.6534271096784
         ],
         "z": [
          793.4853476418724
         ]
        },
        {
         "customdata": [
          [
           184
          ]
         ],
         "hovertemplate": "Sensor ID=%{customdata[0]}<br>Principal Component 1=%{x}<br>Principal Component 2=%{y}<br>Principal Component 3=%{z}<br>Cluster=%{marker.color}<extra></extra>",
         "legendgroup": "184",
         "marker": {
          "color": [
           0
          ],
          "coloraxis": "coloraxis",
          "symbol": "square"
         },
         "mode": "markers",
         "name": "184",
         "scene": "scene",
         "showlegend": true,
         "type": "scatter3d",
         "x": [
          -8030.308792372779
         ],
         "y": [
          -1905.1601826407114
         ],
         "z": [
          -307.93145625268255
         ]
        },
        {
         "customdata": [
          [
           185
          ]
         ],
         "hovertemplate": "Sensor ID=%{customdata[0]}<br>Principal Component 1=%{x}<br>Principal Component 2=%{y}<br>Principal Component 3=%{z}<br>Cluster=%{marker.color}<extra></extra>",
         "legendgroup": "185",
         "marker": {
          "color": [
           0
          ],
          "coloraxis": "coloraxis",
          "symbol": "x"
         },
         "mode": "markers",
         "name": "185",
         "scene": "scene",
         "showlegend": true,
         "type": "scatter3d",
         "x": [
          -8022.9888743914
         ],
         "y": [
          -1076.7066250194914
         ],
         "z": [
          -581.0815029556536
         ]
        },
        {
         "customdata": [
          [
           186
          ]
         ],
         "hovertemplate": "Sensor ID=%{customdata[0]}<br>Principal Component 1=%{x}<br>Principal Component 2=%{y}<br>Principal Component 3=%{z}<br>Cluster=%{marker.color}<extra></extra>",
         "legendgroup": "186",
         "marker": {
          "color": [
           0
          ],
          "coloraxis": "coloraxis",
          "symbol": "cross"
         },
         "mode": "markers",
         "name": "186",
         "scene": "scene",
         "showlegend": true,
         "type": "scatter3d",
         "x": [
          -6890.276670424751
         ],
         "y": [
          12033.031390147311
         ],
         "z": [
          759.2287968032397
         ]
        },
        {
         "customdata": [
          [
           187
          ]
         ],
         "hovertemplate": "Sensor ID=%{customdata[0]}<br>Principal Component 1=%{x}<br>Principal Component 2=%{y}<br>Principal Component 3=%{z}<br>Cluster=%{marker.color}<extra></extra>",
         "legendgroup": "187",
         "marker": {
          "color": [
           1
          ],
          "coloraxis": "coloraxis",
          "symbol": "circle"
         },
         "mode": "markers",
         "name": "187",
         "scene": "scene",
         "showlegend": true,
         "type": "scatter3d",
         "x": [
          57420.376573495
         ],
         "y": [
          -3474.0887945189925
         ],
         "z": [
          -2482.3977207222133
         ]
        },
        {
         "customdata": [
          [
           188
          ]
         ],
         "hovertemplate": "Sensor ID=%{customdata[0]}<br>Principal Component 1=%{x}<br>Principal Component 2=%{y}<br>Principal Component 3=%{z}<br>Cluster=%{marker.color}<extra></extra>",
         "legendgroup": "188",
         "marker": {
          "color": [
           0
          ],
          "coloraxis": "coloraxis",
          "symbol": "diamond"
         },
         "mode": "markers",
         "name": "188",
         "scene": "scene",
         "showlegend": true,
         "type": "scatter3d",
         "x": [
          -7595.314932908783
         ],
         "y": [
          15146.231262698173
         ],
         "z": [
          1077.4969544846958
         ]
        },
        {
         "customdata": [
          [
           189
          ]
         ],
         "hovertemplate": "Sensor ID=%{customdata[0]}<br>Principal Component 1=%{x}<br>Principal Component 2=%{y}<br>Principal Component 3=%{z}<br>Cluster=%{marker.color}<extra></extra>",
         "legendgroup": "189",
         "marker": {
          "color": [
           0
          ],
          "coloraxis": "coloraxis",
          "symbol": "square"
         },
         "mode": "markers",
         "name": "189",
         "scene": "scene",
         "showlegend": true,
         "type": "scatter3d",
         "x": [
          -7732.037168582526
         ],
         "y": [
          12141.565551206288
         ],
         "z": [
          1136.1747576455507
         ]
        },
        {
         "customdata": [
          [
           190
          ]
         ],
         "hovertemplate": "Sensor ID=%{customdata[0]}<br>Principal Component 1=%{x}<br>Principal Component 2=%{y}<br>Principal Component 3=%{z}<br>Cluster=%{marker.color}<extra></extra>",
         "legendgroup": "190",
         "marker": {
          "color": [
           0
          ],
          "coloraxis": "coloraxis",
          "symbol": "x"
         },
         "mode": "markers",
         "name": "190",
         "scene": "scene",
         "showlegend": true,
         "type": "scatter3d",
         "x": [
          -8090.510431266719
         ],
         "y": [
          -1859.4484924180451
         ],
         "z": [
          -506.61404431709775
         ]
        },
        {
         "customdata": [
          [
           191
          ]
         ],
         "hovertemplate": "Sensor ID=%{customdata[0]}<br>Principal Component 1=%{x}<br>Principal Component 2=%{y}<br>Principal Component 3=%{z}<br>Cluster=%{marker.color}<extra></extra>",
         "legendgroup": "191",
         "marker": {
          "color": [
           0
          ],
          "coloraxis": "coloraxis",
          "symbol": "cross"
         },
         "mode": "markers",
         "name": "191",
         "scene": "scene",
         "showlegend": true,
         "type": "scatter3d",
         "x": [
          -7280.701975225005
         ],
         "y": [
          -900.8604962274139
         ],
         "z": [
          674.8131759327791
         ]
        },
        {
         "customdata": [
          [
           192
          ]
         ],
         "hovertemplate": "Sensor ID=%{customdata[0]}<br>Principal Component 1=%{x}<br>Principal Component 2=%{y}<br>Principal Component 3=%{z}<br>Cluster=%{marker.color}<extra></extra>",
         "legendgroup": "192",
         "marker": {
          "color": [
           0
          ],
          "coloraxis": "coloraxis",
          "symbol": "circle"
         },
         "mode": "markers",
         "name": "192",
         "scene": "scene",
         "showlegend": true,
         "type": "scatter3d",
         "x": [
          -8036.256730439138
         ],
         "y": [
          -1907.7905356446695
         ],
         "z": [
          -606.8619989041692
         ]
        },
        {
         "customdata": [
          [
           193
          ]
         ],
         "hovertemplate": "Sensor ID=%{customdata[0]}<br>Principal Component 1=%{x}<br>Principal Component 2=%{y}<br>Principal Component 3=%{z}<br>Cluster=%{marker.color}<extra></extra>",
         "legendgroup": "193",
         "marker": {
          "color": [
           0
          ],
          "coloraxis": "coloraxis",
          "symbol": "diamond"
         },
         "mode": "markers",
         "name": "193",
         "scene": "scene",
         "showlegend": true,
         "type": "scatter3d",
         "x": [
          -8038.484158349649
         ],
         "y": [
          -1841.0165022534356
         ],
         "z": [
          -376.6411744785395
         ]
        },
        {
         "customdata": [
          [
           194
          ]
         ],
         "hovertemplate": "Sensor ID=%{customdata[0]}<br>Principal Component 1=%{x}<br>Principal Component 2=%{y}<br>Principal Component 3=%{z}<br>Cluster=%{marker.color}<extra></extra>",
         "legendgroup": "194",
         "marker": {
          "color": [
           0
          ],
          "coloraxis": "coloraxis",
          "symbol": "square"
         },
         "mode": "markers",
         "name": "194",
         "scene": "scene",
         "showlegend": true,
         "type": "scatter3d",
         "x": [
          -8078.114695962326
         ],
         "y": [
          -1787.5363778270107
         ],
         "z": [
          113.24897387222869
         ]
        },
        {
         "customdata": [
          [
           195
          ]
         ],
         "hovertemplate": "Sensor ID=%{customdata[0]}<br>Principal Component 1=%{x}<br>Principal Component 2=%{y}<br>Principal Component 3=%{z}<br>Cluster=%{marker.color}<extra></extra>",
         "legendgroup": "195",
         "marker": {
          "color": [
           0
          ],
          "coloraxis": "coloraxis",
          "symbol": "x"
         },
         "mode": "markers",
         "name": "195",
         "scene": "scene",
         "showlegend": true,
         "type": "scatter3d",
         "x": [
          -7242.738535643618
         ],
         "y": [
          -738.7210982863674
         ],
         "z": [
          623.1731600009772
         ]
        },
        {
         "customdata": [
          [
           196
          ]
         ],
         "hovertemplate": "Sensor ID=%{customdata[0]}<br>Principal Component 1=%{x}<br>Principal Component 2=%{y}<br>Principal Component 3=%{z}<br>Cluster=%{marker.color}<extra></extra>",
         "legendgroup": "196",
         "marker": {
          "color": [
           0
          ],
          "coloraxis": "coloraxis",
          "symbol": "cross"
         },
         "mode": "markers",
         "name": "196",
         "scene": "scene",
         "showlegend": true,
         "type": "scatter3d",
         "x": [
          -7217.785273521828
         ],
         "y": [
          -1918.1474310900396
         ],
         "z": [
          544.6213763168078
         ]
        },
        {
         "customdata": [
          [
           197
          ]
         ],
         "hovertemplate": "Sensor ID=%{customdata[0]}<br>Principal Component 1=%{x}<br>Principal Component 2=%{y}<br>Principal Component 3=%{z}<br>Cluster=%{marker.color}<extra></extra>",
         "legendgroup": "197",
         "marker": {
          "color": [
           0
          ],
          "coloraxis": "coloraxis",
          "symbol": "circle"
         },
         "mode": "markers",
         "name": "197",
         "scene": "scene",
         "showlegend": true,
         "type": "scatter3d",
         "x": [
          -7341.59485848425
         ],
         "y": [
          -802.9341023991643
         ],
         "z": [
          880.823147449516
         ]
        },
        {
         "customdata": [
          [
           198
          ]
         ],
         "hovertemplate": "Sensor ID=%{customdata[0]}<br>Principal Component 1=%{x}<br>Principal Component 2=%{y}<br>Principal Component 3=%{z}<br>Cluster=%{marker.color}<extra></extra>",
         "legendgroup": "198",
         "marker": {
          "color": [
           0
          ],
          "coloraxis": "coloraxis",
          "symbol": "diamond"
         },
         "mode": "markers",
         "name": "198",
         "scene": "scene",
         "showlegend": true,
         "type": "scatter3d",
         "x": [
          -8012.680087291237
         ],
         "y": [
          -1840.2970571034616
         ],
         "z": [
          -461.99186355720764
         ]
        },
        {
         "customdata": [
          [
           199
          ]
         ],
         "hovertemplate": "Sensor ID=%{customdata[0]}<br>Principal Component 1=%{x}<br>Principal Component 2=%{y}<br>Principal Component 3=%{z}<br>Cluster=%{marker.color}<extra></extra>",
         "legendgroup": "199",
         "marker": {
          "color": [
           0
          ],
          "coloraxis": "coloraxis",
          "symbol": "square"
         },
         "mode": "markers",
         "name": "199",
         "scene": "scene",
         "showlegend": true,
         "type": "scatter3d",
         "x": [
          -8114.847229800046
         ],
         "y": [
          -1860.1469997532417
         ],
         "z": [
          -627.7287316919724
         ]
        },
        {
         "customdata": [
          [
           200
          ]
         ],
         "hovertemplate": "Sensor ID=%{customdata[0]}<br>Principal Component 1=%{x}<br>Principal Component 2=%{y}<br>Principal Component 3=%{z}<br>Cluster=%{marker.color}<extra></extra>",
         "legendgroup": "200",
         "marker": {
          "color": [
           0
          ],
          "coloraxis": "coloraxis",
          "symbol": "x"
         },
         "mode": "markers",
         "name": "200",
         "scene": "scene",
         "showlegend": true,
         "type": "scatter3d",
         "x": [
          -8013.40446175472
         ],
         "y": [
          -710.4846326436415
         ],
         "z": [
          -687.8345170900758
         ]
        },
        {
         "customdata": [
          [
           201
          ]
         ],
         "hovertemplate": "Sensor ID=%{customdata[0]}<br>Principal Component 1=%{x}<br>Principal Component 2=%{y}<br>Principal Component 3=%{z}<br>Cluster=%{marker.color}<extra></extra>",
         "legendgroup": "201",
         "marker": {
          "color": [
           0
          ],
          "coloraxis": "coloraxis",
          "symbol": "cross"
         },
         "mode": "markers",
         "name": "201",
         "scene": "scene",
         "showlegend": true,
         "type": "scatter3d",
         "x": [
          -7320.357005805588
         ],
         "y": [
          -1883.7185073443286
         ],
         "z": [
          -539.7558488317646
         ]
        },
        {
         "customdata": [
          [
           202
          ]
         ],
         "hovertemplate": "Sensor ID=%{customdata[0]}<br>Principal Component 1=%{x}<br>Principal Component 2=%{y}<br>Principal Component 3=%{z}<br>Cluster=%{marker.color}<extra></extra>",
         "legendgroup": "202",
         "marker": {
          "color": [
           0
          ],
          "coloraxis": "coloraxis",
          "symbol": "circle"
         },
         "mode": "markers",
         "name": "202",
         "scene": "scene",
         "showlegend": true,
         "type": "scatter3d",
         "x": [
          -7469.475199413467
         ],
         "y": [
          -1739.2571887789002
         ],
         "z": [
          -603.0663475911767
         ]
        },
        {
         "customdata": [
          [
           203
          ]
         ],
         "hovertemplate": "Sensor ID=%{customdata[0]}<br>Principal Component 1=%{x}<br>Principal Component 2=%{y}<br>Principal Component 3=%{z}<br>Cluster=%{marker.color}<extra></extra>",
         "legendgroup": "203",
         "marker": {
          "color": [
           0
          ],
          "coloraxis": "coloraxis",
          "symbol": "diamond"
         },
         "mode": "markers",
         "name": "203",
         "scene": "scene",
         "showlegend": true,
         "type": "scatter3d",
         "x": [
          -8130.525970508847
         ],
         "y": [
          -1960.222592427223
         ],
         "z": [
          -640.5880536567753
         ]
        },
        {
         "customdata": [
          [
           204
          ]
         ],
         "hovertemplate": "Sensor ID=%{customdata[0]}<br>Principal Component 1=%{x}<br>Principal Component 2=%{y}<br>Principal Component 3=%{z}<br>Cluster=%{marker.color}<extra></extra>",
         "legendgroup": "204",
         "marker": {
          "color": [
           0
          ],
          "coloraxis": "coloraxis",
          "symbol": "square"
         },
         "mode": "markers",
         "name": "204",
         "scene": "scene",
         "showlegend": true,
         "type": "scatter3d",
         "x": [
          -7262.571071542089
         ],
         "y": [
          -805.321355850392
         ],
         "z": [
          833.1973294160739
         ]
        },
        {
         "customdata": [
          [
           205
          ]
         ],
         "hovertemplate": "Sensor ID=%{customdata[0]}<br>Principal Component 1=%{x}<br>Principal Component 2=%{y}<br>Principal Component 3=%{z}<br>Cluster=%{marker.color}<extra></extra>",
         "legendgroup": "205",
         "marker": {
          "color": [
           1
          ],
          "coloraxis": "coloraxis",
          "symbol": "x"
         },
         "mode": "markers",
         "name": "205",
         "scene": "scene",
         "showlegend": true,
         "type": "scatter3d",
         "x": [
          57358.61139345098
         ],
         "y": [
          -3525.363984214431
         ],
         "z": [
          -3815.4707497415125
         ]
        },
        {
         "customdata": [
          [
           206
          ]
         ],
         "hovertemplate": "Sensor ID=%{customdata[0]}<br>Principal Component 1=%{x}<br>Principal Component 2=%{y}<br>Principal Component 3=%{z}<br>Cluster=%{marker.color}<extra></extra>",
         "legendgroup": "206",
         "marker": {
          "color": [
           0
          ],
          "coloraxis": "coloraxis",
          "symbol": "cross"
         },
         "mode": "markers",
         "name": "206",
         "scene": "scene",
         "showlegend": true,
         "type": "scatter3d",
         "x": [
          -8069.5514581572625
         ],
         "y": [
          -1850.8481742487804
         ],
         "z": [
          -753.6191397945184
         ]
        },
        {
         "customdata": [
          [
           207
          ]
         ],
         "hovertemplate": "Sensor ID=%{customdata[0]}<br>Principal Component 1=%{x}<br>Principal Component 2=%{y}<br>Principal Component 3=%{z}<br>Cluster=%{marker.color}<extra></extra>",
         "legendgroup": "207",
         "marker": {
          "color": [
           0
          ],
          "coloraxis": "coloraxis",
          "symbol": "circle"
         },
         "mode": "markers",
         "name": "207",
         "scene": "scene",
         "showlegend": true,
         "type": "scatter3d",
         "x": [
          -8032.481077906564
         ],
         "y": [
          -1819.3724807820922
         ],
         "z": [
          -773.4712051490941
         ]
        },
        {
         "customdata": [
          [
           208
          ]
         ],
         "hovertemplate": "Sensor ID=%{customdata[0]}<br>Principal Component 1=%{x}<br>Principal Component 2=%{y}<br>Principal Component 3=%{z}<br>Cluster=%{marker.color}<extra></extra>",
         "legendgroup": "208",
         "marker": {
          "color": [
           0
          ],
          "coloraxis": "coloraxis",
          "symbol": "diamond"
         },
         "mode": "markers",
         "name": "208",
         "scene": "scene",
         "showlegend": true,
         "type": "scatter3d",
         "x": [
          -7948.0593443153675
         ],
         "y": [
          -871.2201843396467
         ],
         "z": [
          914.9044089657713
         ]
        },
        {
         "customdata": [
          [
           209
          ]
         ],
         "hovertemplate": "Sensor ID=%{customdata[0]}<br>Principal Component 1=%{x}<br>Principal Component 2=%{y}<br>Principal Component 3=%{z}<br>Cluster=%{marker.color}<extra></extra>",
         "legendgroup": "209",
         "marker": {
          "color": [
           0
          ],
          "coloraxis": "coloraxis",
          "symbol": "square"
         },
         "mode": "markers",
         "name": "209",
         "scene": "scene",
         "showlegend": true,
         "type": "scatter3d",
         "x": [
          -7226.9182356256515
         ],
         "y": [
          -827.3938759094478
         ],
         "z": [
          -718.5495531377751
         ]
        },
        {
         "customdata": [
          [
           210
          ]
         ],
         "hovertemplate": "Sensor ID=%{customdata[0]}<br>Principal Component 1=%{x}<br>Principal Component 2=%{y}<br>Principal Component 3=%{z}<br>Cluster=%{marker.color}<extra></extra>",
         "legendgroup": "210",
         "marker": {
          "color": [
           0
          ],
          "coloraxis": "coloraxis",
          "symbol": "x"
         },
         "mode": "markers",
         "name": "210",
         "scene": "scene",
         "showlegend": true,
         "type": "scatter3d",
         "x": [
          -8029.163960924852
         ],
         "y": [
          -841.6753446456652
         ],
         "z": [
          -314.79944908127055
         ]
        },
        {
         "customdata": [
          [
           211
          ]
         ],
         "hovertemplate": "Sensor ID=%{customdata[0]}<br>Principal Component 1=%{x}<br>Principal Component 2=%{y}<br>Principal Component 3=%{z}<br>Cluster=%{marker.color}<extra></extra>",
         "legendgroup": "211",
         "marker": {
          "color": [
           3
          ],
          "coloraxis": "coloraxis",
          "symbol": "cross"
         },
         "mode": "markers",
         "name": "211",
         "scene": "scene",
         "showlegend": true,
         "type": "scatter3d",
         "x": [
          60709.77467596432
         ],
         "y": [
          -4634.102356334415
         ],
         "z": [
          61955.96954847373
         ]
        }
       ],
       "layout": {
        "coloraxis": {
         "colorbar": {
          "title": {
           "text": "Cluster"
          }
         },
         "colorscale": [
          [
           0,
           "#0d0887"
          ],
          [
           0.1111111111111111,
           "#46039f"
          ],
          [
           0.2222222222222222,
           "#7201a8"
          ],
          [
           0.3333333333333333,
           "#9c179e"
          ],
          [
           0.4444444444444444,
           "#bd3786"
          ],
          [
           0.5555555555555556,
           "#d8576b"
          ],
          [
           0.6666666666666666,
           "#ed7953"
          ],
          [
           0.7777777777777778,
           "#fb9f3a"
          ],
          [
           0.8888888888888888,
           "#fdca26"
          ],
          [
           1,
           "#f0f921"
          ]
         ]
        },
        "legend": {
         "title": {
          "text": "Sensor ID"
         },
         "tracegroupgap": 0
        },
        "scene": {
         "domain": {
          "x": [
           0,
           1
          ],
          "y": [
           0,
           1
          ]
         },
         "xaxis": {
          "title": {
           "text": "Principal Component 1"
          }
         },
         "yaxis": {
          "title": {
           "text": "Principal Component 2"
          }
         },
         "zaxis": {
          "title": {
           "text": "Principal Component 3"
          }
         }
        },
        "template": {
         "data": {
          "bar": [
           {
            "error_x": {
             "color": "#2a3f5f"
            },
            "error_y": {
             "color": "#2a3f5f"
            },
            "marker": {
             "line": {
              "color": "#E5ECF6",
              "width": 0.5
             },
             "pattern": {
              "fillmode": "overlay",
              "size": 10,
              "solidity": 0.2
             }
            },
            "type": "bar"
           }
          ],
          "barpolar": [
           {
            "marker": {
             "line": {
              "color": "#E5ECF6",
              "width": 0.5
             },
             "pattern": {
              "fillmode": "overlay",
              "size": 10,
              "solidity": 0.2
             }
            },
            "type": "barpolar"
           }
          ],
          "carpet": [
           {
            "aaxis": {
             "endlinecolor": "#2a3f5f",
             "gridcolor": "white",
             "linecolor": "white",
             "minorgridcolor": "white",
             "startlinecolor": "#2a3f5f"
            },
            "baxis": {
             "endlinecolor": "#2a3f5f",
             "gridcolor": "white",
             "linecolor": "white",
             "minorgridcolor": "white",
             "startlinecolor": "#2a3f5f"
            },
            "type": "carpet"
           }
          ],
          "choropleth": [
           {
            "colorbar": {
             "outlinewidth": 0,
             "ticks": ""
            },
            "type": "choropleth"
           }
          ],
          "contour": [
           {
            "colorbar": {
             "outlinewidth": 0,
             "ticks": ""
            },
            "colorscale": [
             [
              0,
              "#0d0887"
             ],
             [
              0.1111111111111111,
              "#46039f"
             ],
             [
              0.2222222222222222,
              "#7201a8"
             ],
             [
              0.3333333333333333,
              "#9c179e"
             ],
             [
              0.4444444444444444,
              "#bd3786"
             ],
             [
              0.5555555555555556,
              "#d8576b"
             ],
             [
              0.6666666666666666,
              "#ed7953"
             ],
             [
              0.7777777777777778,
              "#fb9f3a"
             ],
             [
              0.8888888888888888,
              "#fdca26"
             ],
             [
              1,
              "#f0f921"
             ]
            ],
            "type": "contour"
           }
          ],
          "contourcarpet": [
           {
            "colorbar": {
             "outlinewidth": 0,
             "ticks": ""
            },
            "type": "contourcarpet"
           }
          ],
          "heatmap": [
           {
            "colorbar": {
             "outlinewidth": 0,
             "ticks": ""
            },
            "colorscale": [
             [
              0,
              "#0d0887"
             ],
             [
              0.1111111111111111,
              "#46039f"
             ],
             [
              0.2222222222222222,
              "#7201a8"
             ],
             [
              0.3333333333333333,
              "#9c179e"
             ],
             [
              0.4444444444444444,
              "#bd3786"
             ],
             [
              0.5555555555555556,
              "#d8576b"
             ],
             [
              0.6666666666666666,
              "#ed7953"
             ],
             [
              0.7777777777777778,
              "#fb9f3a"
             ],
             [
              0.8888888888888888,
              "#fdca26"
             ],
             [
              1,
              "#f0f921"
             ]
            ],
            "type": "heatmap"
           }
          ],
          "heatmapgl": [
           {
            "colorbar": {
             "outlinewidth": 0,
             "ticks": ""
            },
            "colorscale": [
             [
              0,
              "#0d0887"
             ],
             [
              0.1111111111111111,
              "#46039f"
             ],
             [
              0.2222222222222222,
              "#7201a8"
             ],
             [
              0.3333333333333333,
              "#9c179e"
             ],
             [
              0.4444444444444444,
              "#bd3786"
             ],
             [
              0.5555555555555556,
              "#d8576b"
             ],
             [
              0.6666666666666666,
              "#ed7953"
             ],
             [
              0.7777777777777778,
              "#fb9f3a"
             ],
             [
              0.8888888888888888,
              "#fdca26"
             ],
             [
              1,
              "#f0f921"
             ]
            ],
            "type": "heatmapgl"
           }
          ],
          "histogram": [
           {
            "marker": {
             "pattern": {
              "fillmode": "overlay",
              "size": 10,
              "solidity": 0.2
             }
            },
            "type": "histogram"
           }
          ],
          "histogram2d": [
           {
            "colorbar": {
             "outlinewidth": 0,
             "ticks": ""
            },
            "colorscale": [
             [
              0,
              "#0d0887"
             ],
             [
              0.1111111111111111,
              "#46039f"
             ],
             [
              0.2222222222222222,
              "#7201a8"
             ],
             [
              0.3333333333333333,
              "#9c179e"
             ],
             [
              0.4444444444444444,
              "#bd3786"
             ],
             [
              0.5555555555555556,
              "#d8576b"
             ],
             [
              0.6666666666666666,
              "#ed7953"
             ],
             [
              0.7777777777777778,
              "#fb9f3a"
             ],
             [
              0.8888888888888888,
              "#fdca26"
             ],
             [
              1,
              "#f0f921"
             ]
            ],
            "type": "histogram2d"
           }
          ],
          "histogram2dcontour": [
           {
            "colorbar": {
             "outlinewidth": 0,
             "ticks": ""
            },
            "colorscale": [
             [
              0,
              "#0d0887"
             ],
             [
              0.1111111111111111,
              "#46039f"
             ],
             [
              0.2222222222222222,
              "#7201a8"
             ],
             [
              0.3333333333333333,
              "#9c179e"
             ],
             [
              0.4444444444444444,
              "#bd3786"
             ],
             [
              0.5555555555555556,
              "#d8576b"
             ],
             [
              0.6666666666666666,
              "#ed7953"
             ],
             [
              0.7777777777777778,
              "#fb9f3a"
             ],
             [
              0.8888888888888888,
              "#fdca26"
             ],
             [
              1,
              "#f0f921"
             ]
            ],
            "type": "histogram2dcontour"
           }
          ],
          "mesh3d": [
           {
            "colorbar": {
             "outlinewidth": 0,
             "ticks": ""
            },
            "type": "mesh3d"
           }
          ],
          "parcoords": [
           {
            "line": {
             "colorbar": {
              "outlinewidth": 0,
              "ticks": ""
             }
            },
            "type": "parcoords"
           }
          ],
          "pie": [
           {
            "automargin": true,
            "type": "pie"
           }
          ],
          "scatter": [
           {
            "fillpattern": {
             "fillmode": "overlay",
             "size": 10,
             "solidity": 0.2
            },
            "type": "scatter"
           }
          ],
          "scatter3d": [
           {
            "line": {
             "colorbar": {
              "outlinewidth": 0,
              "ticks": ""
             }
            },
            "marker": {
             "colorbar": {
              "outlinewidth": 0,
              "ticks": ""
             }
            },
            "type": "scatter3d"
           }
          ],
          "scattercarpet": [
           {
            "marker": {
             "colorbar": {
              "outlinewidth": 0,
              "ticks": ""
             }
            },
            "type": "scattercarpet"
           }
          ],
          "scattergeo": [
           {
            "marker": {
             "colorbar": {
              "outlinewidth": 0,
              "ticks": ""
             }
            },
            "type": "scattergeo"
           }
          ],
          "scattergl": [
           {
            "marker": {
             "colorbar": {
              "outlinewidth": 0,
              "ticks": ""
             }
            },
            "type": "scattergl"
           }
          ],
          "scattermapbox": [
           {
            "marker": {
             "colorbar": {
              "outlinewidth": 0,
              "ticks": ""
             }
            },
            "type": "scattermapbox"
           }
          ],
          "scatterpolar": [
           {
            "marker": {
             "colorbar": {
              "outlinewidth": 0,
              "ticks": ""
             }
            },
            "type": "scatterpolar"
           }
          ],
          "scatterpolargl": [
           {
            "marker": {
             "colorbar": {
              "outlinewidth": 0,
              "ticks": ""
             }
            },
            "type": "scatterpolargl"
           }
          ],
          "scatterternary": [
           {
            "marker": {
             "colorbar": {
              "outlinewidth": 0,
              "ticks": ""
             }
            },
            "type": "scatterternary"
           }
          ],
          "surface": [
           {
            "colorbar": {
             "outlinewidth": 0,
             "ticks": ""
            },
            "colorscale": [
             [
              0,
              "#0d0887"
             ],
             [
              0.1111111111111111,
              "#46039f"
             ],
             [
              0.2222222222222222,
              "#7201a8"
             ],
             [
              0.3333333333333333,
              "#9c179e"
             ],
             [
              0.4444444444444444,
              "#bd3786"
             ],
             [
              0.5555555555555556,
              "#d8576b"
             ],
             [
              0.6666666666666666,
              "#ed7953"
             ],
             [
              0.7777777777777778,
              "#fb9f3a"
             ],
             [
              0.8888888888888888,
              "#fdca26"
             ],
             [
              1,
              "#f0f921"
             ]
            ],
            "type": "surface"
           }
          ],
          "table": [
           {
            "cells": {
             "fill": {
              "color": "#EBF0F8"
             },
             "line": {
              "color": "white"
             }
            },
            "header": {
             "fill": {
              "color": "#C8D4E3"
             },
             "line": {
              "color": "white"
             }
            },
            "type": "table"
           }
          ]
         },
         "layout": {
          "annotationdefaults": {
           "arrowcolor": "#2a3f5f",
           "arrowhead": 0,
           "arrowwidth": 1
          },
          "autotypenumbers": "strict",
          "coloraxis": {
           "colorbar": {
            "outlinewidth": 0,
            "ticks": ""
           }
          },
          "colorscale": {
           "diverging": [
            [
             0,
             "#8e0152"
            ],
            [
             0.1,
             "#c51b7d"
            ],
            [
             0.2,
             "#de77ae"
            ],
            [
             0.3,
             "#f1b6da"
            ],
            [
             0.4,
             "#fde0ef"
            ],
            [
             0.5,
             "#f7f7f7"
            ],
            [
             0.6,
             "#e6f5d0"
            ],
            [
             0.7,
             "#b8e186"
            ],
            [
             0.8,
             "#7fbc41"
            ],
            [
             0.9,
             "#4d9221"
            ],
            [
             1,
             "#276419"
            ]
           ],
           "sequential": [
            [
             0,
             "#0d0887"
            ],
            [
             0.1111111111111111,
             "#46039f"
            ],
            [
             0.2222222222222222,
             "#7201a8"
            ],
            [
             0.3333333333333333,
             "#9c179e"
            ],
            [
             0.4444444444444444,
             "#bd3786"
            ],
            [
             0.5555555555555556,
             "#d8576b"
            ],
            [
             0.6666666666666666,
             "#ed7953"
            ],
            [
             0.7777777777777778,
             "#fb9f3a"
            ],
            [
             0.8888888888888888,
             "#fdca26"
            ],
            [
             1,
             "#f0f921"
            ]
           ],
           "sequentialminus": [
            [
             0,
             "#0d0887"
            ],
            [
             0.1111111111111111,
             "#46039f"
            ],
            [
             0.2222222222222222,
             "#7201a8"
            ],
            [
             0.3333333333333333,
             "#9c179e"
            ],
            [
             0.4444444444444444,
             "#bd3786"
            ],
            [
             0.5555555555555556,
             "#d8576b"
            ],
            [
             0.6666666666666666,
             "#ed7953"
            ],
            [
             0.7777777777777778,
             "#fb9f3a"
            ],
            [
             0.8888888888888888,
             "#fdca26"
            ],
            [
             1,
             "#f0f921"
            ]
           ]
          },
          "colorway": [
           "#636efa",
           "#EF553B",
           "#00cc96",
           "#ab63fa",
           "#FFA15A",
           "#19d3f3",
           "#FF6692",
           "#B6E880",
           "#FF97FF",
           "#FECB52"
          ],
          "font": {
           "color": "#2a3f5f"
          },
          "geo": {
           "bgcolor": "white",
           "lakecolor": "white",
           "landcolor": "#E5ECF6",
           "showlakes": true,
           "showland": true,
           "subunitcolor": "white"
          },
          "hoverlabel": {
           "align": "left"
          },
          "hovermode": "closest",
          "mapbox": {
           "style": "light"
          },
          "paper_bgcolor": "white",
          "plot_bgcolor": "#E5ECF6",
          "polar": {
           "angularaxis": {
            "gridcolor": "white",
            "linecolor": "white",
            "ticks": ""
           },
           "bgcolor": "#E5ECF6",
           "radialaxis": {
            "gridcolor": "white",
            "linecolor": "white",
            "ticks": ""
           }
          },
          "scene": {
           "xaxis": {
            "backgroundcolor": "#E5ECF6",
            "gridcolor": "white",
            "gridwidth": 2,
            "linecolor": "white",
            "showbackground": true,
            "ticks": "",
            "zerolinecolor": "white"
           },
           "yaxis": {
            "backgroundcolor": "#E5ECF6",
            "gridcolor": "white",
            "gridwidth": 2,
            "linecolor": "white",
            "showbackground": true,
            "ticks": "",
            "zerolinecolor": "white"
           },
           "zaxis": {
            "backgroundcolor": "#E5ECF6",
            "gridcolor": "white",
            "gridwidth": 2,
            "linecolor": "white",
            "showbackground": true,
            "ticks": "",
            "zerolinecolor": "white"
           }
          },
          "shapedefaults": {
           "line": {
            "color": "#2a3f5f"
           }
          },
          "ternary": {
           "aaxis": {
            "gridcolor": "white",
            "linecolor": "white",
            "ticks": ""
           },
           "baxis": {
            "gridcolor": "white",
            "linecolor": "white",
            "ticks": ""
           },
           "bgcolor": "#E5ECF6",
           "caxis": {
            "gridcolor": "white",
            "linecolor": "white",
            "ticks": ""
           }
          },
          "title": {
           "x": 0.05
          },
          "xaxis": {
           "automargin": true,
           "gridcolor": "white",
           "linecolor": "white",
           "ticks": "",
           "title": {
            "standoff": 15
           },
           "zerolinecolor": "white",
           "zerolinewidth": 2
          },
          "yaxis": {
           "automargin": true,
           "gridcolor": "white",
           "linecolor": "white",
           "ticks": "",
           "title": {
            "standoff": 15
           },
           "zerolinecolor": "white",
           "zerolinewidth": 2
          }
         }
        },
        "title": {
         "text": "K-Means Clustering of Sensors Using PCA"
        }
       }
      }
     },
     "metadata": {},
     "output_type": "display_data"
    }
   ],
   "source": [
    "from sklearn.cluster import KMeans\n",
    "\n",
    "# Apply PCA\n",
    "pca = PCA(n_components=3)\n",
    "principal_components = pca.fit_transform(reduced_data_corr.drop(columns=['Sensor ID']))\n",
    "principal_df = pd.DataFrame(data=principal_components, columns=['PC1', 'PC2', 'PC3'])\n",
    "principal_df['Sensor ID'] = reduced_data_corr['Sensor ID']\n",
    "\n",
    "# Apply K-Means clustering\n",
    "kmeans = KMeans(n_clusters=4, random_state=42)\n",
    "principal_df['Cluster'] = kmeans.fit_predict(principal_df[['PC1', 'PC2', 'PC3']])\n",
    "\n",
    "# Create an interactive 3D scatter plot\n",
    "fig = px.scatter_3d(\n",
    "    principal_df,\n",
    "    x='PC1',\n",
    "    y='PC2',\n",
    "    z='PC3',\n",
    "    color='Cluster',\n",
    "    symbol='Sensor ID',\n",
    "    title='K-Means Clustering of Sensors Using PCA',\n",
    "    labels={'PC1': 'Principal Component 1', 'PC2': 'Principal Component 2', 'PC3': 'Principal Component 3'},\n",
    "    hover_data=['Sensor ID']\n",
    ")\n",
    "\n",
    "fig.show()"
   ]
  },
  {
   "cell_type": "markdown",
   "metadata": {},
   "source": [
    "# Retain Features that previously existed"
   ]
  },
  {
   "cell_type": "code",
   "execution_count": 38,
   "metadata": {},
   "outputs": [
    {
     "data": {
      "text/html": [
       "<div>\n",
       "<style scoped>\n",
       "    .dataframe tbody tr th:only-of-type {\n",
       "        vertical-align: middle;\n",
       "    }\n",
       "\n",
       "    .dataframe tbody tr th {\n",
       "        vertical-align: top;\n",
       "    }\n",
       "\n",
       "    .dataframe thead th {\n",
       "        text-align: right;\n",
       "    }\n",
       "</style>\n",
       "<table border=\"1\" class=\"dataframe\">\n",
       "  <thead>\n",
       "    <tr style=\"text-align: right;\">\n",
       "      <th>range_delay</th>\n",
       "      <th>Sensor ID</th>\n",
       "      <th>13_10000_mean_middle</th>\n",
       "      <th>13_16800_mean_middle</th>\n",
       "      <th>13_3000_mean_middle</th>\n",
       "      <th>13_6000_mean_middle</th>\n",
       "      <th>13_8000_mean_middle</th>\n",
       "      <th>18_10000_mean_middle</th>\n",
       "      <th>18_16800_mean_middle</th>\n",
       "      <th>18_3000_mean_middle</th>\n",
       "      <th>18_6000_mean_middle</th>\n",
       "      <th>...</th>\n",
       "      <th>48_10000_mean_upper</th>\n",
       "      <th>48_16800_mean_upper</th>\n",
       "      <th>48_3000_mean_upper</th>\n",
       "      <th>48_6000_mean_upper</th>\n",
       "      <th>48_8000_mean_upper</th>\n",
       "      <th>53_10000_mean_upper</th>\n",
       "      <th>53_16800_mean_upper</th>\n",
       "      <th>53_3000_mean_upper</th>\n",
       "      <th>53_6000_mean_upper</th>\n",
       "      <th>53_8000_mean_upper</th>\n",
       "    </tr>\n",
       "  </thead>\n",
       "  <tbody>\n",
       "    <tr>\n",
       "      <th>0</th>\n",
       "      <td>1</td>\n",
       "      <td>827.00</td>\n",
       "      <td>827.000000</td>\n",
       "      <td>827.00</td>\n",
       "      <td>827.00</td>\n",
       "      <td>827.00</td>\n",
       "      <td>1071.000000</td>\n",
       "      <td>1069.285714</td>\n",
       "      <td>1069.240000</td>\n",
       "      <td>1069.400000</td>\n",
       "      <td>...</td>\n",
       "      <td>2795.000000</td>\n",
       "      <td>0.0</td>\n",
       "      <td>2809.4</td>\n",
       "      <td>2803.000000</td>\n",
       "      <td>2800.333333</td>\n",
       "      <td>2995.545455</td>\n",
       "      <td>0.0</td>\n",
       "      <td>2995.444444</td>\n",
       "      <td>3039.727273</td>\n",
       "      <td>3004.043478</td>\n",
       "    </tr>\n",
       "    <tr>\n",
       "      <th>1</th>\n",
       "      <td>2</td>\n",
       "      <td>679.64</td>\n",
       "      <td>679.000000</td>\n",
       "      <td>679.00</td>\n",
       "      <td>679.00</td>\n",
       "      <td>679.00</td>\n",
       "      <td>943.000000</td>\n",
       "      <td>954.200000</td>\n",
       "      <td>967.260870</td>\n",
       "      <td>954.520000</td>\n",
       "      <td>...</td>\n",
       "      <td>2669.521739</td>\n",
       "      <td>0.0</td>\n",
       "      <td>0.0</td>\n",
       "      <td>0.000000</td>\n",
       "      <td>2691.000000</td>\n",
       "      <td>0.000000</td>\n",
       "      <td>2371.0</td>\n",
       "      <td>0.000000</td>\n",
       "      <td>2951.744186</td>\n",
       "      <td>0.000000</td>\n",
       "    </tr>\n",
       "    <tr>\n",
       "      <th>2</th>\n",
       "      <td>3</td>\n",
       "      <td>717.88</td>\n",
       "      <td>717.727273</td>\n",
       "      <td>718.04</td>\n",
       "      <td>717.24</td>\n",
       "      <td>718.04</td>\n",
       "      <td>1029.933333</td>\n",
       "      <td>1020.920000</td>\n",
       "      <td>1007.000000</td>\n",
       "      <td>1005.960000</td>\n",
       "      <td>...</td>\n",
       "      <td>0.000000</td>\n",
       "      <td>0.0</td>\n",
       "      <td>2743.0</td>\n",
       "      <td>2727.000000</td>\n",
       "      <td>0.000000</td>\n",
       "      <td>0.000000</td>\n",
       "      <td>0.0</td>\n",
       "      <td>0.000000</td>\n",
       "      <td>0.000000</td>\n",
       "      <td>0.000000</td>\n",
       "    </tr>\n",
       "    <tr>\n",
       "      <th>3</th>\n",
       "      <td>4</td>\n",
       "      <td>737.08</td>\n",
       "      <td>736.840000</td>\n",
       "      <td>737.16</td>\n",
       "      <td>736.92</td>\n",
       "      <td>736.68</td>\n",
       "      <td>1030.351351</td>\n",
       "      <td>1031.000000</td>\n",
       "      <td>1028.840000</td>\n",
       "      <td>1087.000000</td>\n",
       "      <td>...</td>\n",
       "      <td>0.000000</td>\n",
       "      <td>0.0</td>\n",
       "      <td>0.0</td>\n",
       "      <td>2755.195122</td>\n",
       "      <td>0.000000</td>\n",
       "      <td>3000.000000</td>\n",
       "      <td>3019.0</td>\n",
       "      <td>3000.116279</td>\n",
       "      <td>2999.930233</td>\n",
       "      <td>3000.116279</td>\n",
       "    </tr>\n",
       "    <tr>\n",
       "      <th>4</th>\n",
       "      <td>5</td>\n",
       "      <td>743.00</td>\n",
       "      <td>742.894737</td>\n",
       "      <td>741.88</td>\n",
       "      <td>743.00</td>\n",
       "      <td>743.00</td>\n",
       "      <td>1046.102041</td>\n",
       "      <td>1045.697674</td>\n",
       "      <td>1047.244898</td>\n",
       "      <td>1046.288889</td>\n",
       "      <td>...</td>\n",
       "      <td>0.000000</td>\n",
       "      <td>2755.0</td>\n",
       "      <td>0.0</td>\n",
       "      <td>0.000000</td>\n",
       "      <td>0.000000</td>\n",
       "      <td>0.000000</td>\n",
       "      <td>0.0</td>\n",
       "      <td>0.000000</td>\n",
       "      <td>0.000000</td>\n",
       "      <td>0.000000</td>\n",
       "    </tr>\n",
       "  </tbody>\n",
       "</table>\n",
       "<p>5 rows × 136 columns</p>\n",
       "</div>"
      ],
      "text/plain": [
       "range_delay  Sensor ID  13_10000_mean_middle  13_16800_mean_middle  \\\n",
       "0                    1                827.00            827.000000   \n",
       "1                    2                679.64            679.000000   \n",
       "2                    3                717.88            717.727273   \n",
       "3                    4                737.08            736.840000   \n",
       "4                    5                743.00            742.894737   \n",
       "\n",
       "range_delay  13_3000_mean_middle  13_6000_mean_middle  13_8000_mean_middle  \\\n",
       "0                         827.00               827.00               827.00   \n",
       "1                         679.00               679.00               679.00   \n",
       "2                         718.04               717.24               718.04   \n",
       "3                         737.16               736.92               736.68   \n",
       "4                         741.88               743.00               743.00   \n",
       "\n",
       "range_delay  18_10000_mean_middle  18_16800_mean_middle  18_3000_mean_middle  \\\n",
       "0                     1071.000000           1069.285714          1069.240000   \n",
       "1                      943.000000            954.200000           967.260870   \n",
       "2                     1029.933333           1020.920000          1007.000000   \n",
       "3                     1030.351351           1031.000000          1028.840000   \n",
       "4                     1046.102041           1045.697674          1047.244898   \n",
       "\n",
       "range_delay  18_6000_mean_middle  ...  48_10000_mean_upper  \\\n",
       "0                    1069.400000  ...          2795.000000   \n",
       "1                     954.520000  ...          2669.521739   \n",
       "2                    1005.960000  ...             0.000000   \n",
       "3                    1087.000000  ...             0.000000   \n",
       "4                    1046.288889  ...             0.000000   \n",
       "\n",
       "range_delay  48_16800_mean_upper  48_3000_mean_upper  48_6000_mean_upper  \\\n",
       "0                            0.0              2809.4         2803.000000   \n",
       "1                            0.0                 0.0            0.000000   \n",
       "2                            0.0              2743.0         2727.000000   \n",
       "3                            0.0                 0.0         2755.195122   \n",
       "4                         2755.0                 0.0            0.000000   \n",
       "\n",
       "range_delay  48_8000_mean_upper  53_10000_mean_upper  53_16800_mean_upper  \\\n",
       "0                   2800.333333          2995.545455                  0.0   \n",
       "1                   2691.000000             0.000000               2371.0   \n",
       "2                      0.000000             0.000000                  0.0   \n",
       "3                      0.000000          3000.000000               3019.0   \n",
       "4                      0.000000             0.000000                  0.0   \n",
       "\n",
       "range_delay  53_3000_mean_upper  53_6000_mean_upper  53_8000_mean_upper  \n",
       "0                   2995.444444         3039.727273         3004.043478  \n",
       "1                      0.000000         2951.744186            0.000000  \n",
       "2                      0.000000            0.000000            0.000000  \n",
       "3                   3000.116279         2999.930233         3000.116279  \n",
       "4                      0.000000            0.000000            0.000000  \n",
       "\n",
       "[5 rows x 136 columns]"
      ]
     },
     "execution_count": 38,
     "metadata": {},
     "output_type": "execute_result"
    }
   ],
   "source": [
    "df_range_delay_all.head()"
   ]
  },
  {
   "cell_type": "code",
   "execution_count": 39,
   "metadata": {},
   "outputs": [
    {
     "data": {
      "text/plain": [
       "{1: {'Color of sensor': ['b'],\n",
       "  'Sensor Configuration': ['HTR'],\n",
       "  'Surface material': ['wood']},\n",
       " 2: {'Color of sensor': ['b'],\n",
       "  'Sensor Configuration': ['HTR'],\n",
       "  'Surface material': ['wood']},\n",
       " 3: {'Color of sensor': ['b'],\n",
       "  'Sensor Configuration': ['HTR'],\n",
       "  'Surface material': ['wood']},\n",
       " 4: {'Color of sensor': ['g'],\n",
       "  'Sensor Configuration': ['HTR'],\n",
       "  'Surface material': ['wood']},\n",
       " 5: {'Color of sensor': ['b'],\n",
       "  'Sensor Configuration': ['HTR'],\n",
       "  'Surface material': ['wood']},\n",
       " 6: {'Color of sensor': ['b'],\n",
       "  'Sensor Configuration': ['HTR'],\n",
       "  'Surface material': ['wood']},\n",
       " 7: {'Color of sensor': ['b'],\n",
       "  'Sensor Configuration': ['HTR'],\n",
       "  'Surface material': ['wood']},\n",
       " 8: {'Color of sensor': ['g'],\n",
       "  'Sensor Configuration': ['HTR'],\n",
       "  'Surface material': ['wood']},\n",
       " 9: {'Color of sensor': ['g'],\n",
       "  'Sensor Configuration': ['HTR'],\n",
       "  'Surface material': ['wood']},\n",
       " 10: {'Color of sensor': ['b'],\n",
       "  'Sensor Configuration': ['HTR'],\n",
       "  'Surface material': ['wood']},\n",
       " 11: {'Color of sensor': ['b'],\n",
       "  'Sensor Configuration': ['HTR'],\n",
       "  'Surface material': ['wood']},\n",
       " 12: {'Color of sensor': ['b'],\n",
       "  'Sensor Configuration': ['HTR'],\n",
       "  'Surface material': ['wood']},\n",
       " 13: {'Color of sensor': ['b'],\n",
       "  'Sensor Configuration': ['HTR'],\n",
       "  'Surface material': ['wood']},\n",
       " 14: {'Color of sensor': ['b'],\n",
       "  'Sensor Configuration': ['HTR'],\n",
       "  'Surface material': ['wood']},\n",
       " 15: {'Color of sensor': ['g'],\n",
       "  'Sensor Configuration': ['HTR'],\n",
       "  'Surface material': ['wood']},\n",
       " 16: {'Color of sensor': ['b'],\n",
       "  'Sensor Configuration': ['HTR'],\n",
       "  'Surface material': ['wood']},\n",
       " 17: {'Color of sensor': ['g'],\n",
       "  'Sensor Configuration': ['HTR'],\n",
       "  'Surface material': ['wood']},\n",
       " 18: {'Color of sensor': ['b'],\n",
       "  'Sensor Configuration': ['HTR'],\n",
       "  'Surface material': ['wood']},\n",
       " 19: {'Color of sensor': ['b'],\n",
       "  'Sensor Configuration': ['HTR'],\n",
       "  'Surface material': ['wood']},\n",
       " 20: {'Color of sensor': ['g'],\n",
       "  'Sensor Configuration': ['HTR'],\n",
       "  'Surface material': ['wood']},\n",
       " 21: {'Color of sensor': ['g'],\n",
       "  'Sensor Configuration': ['HTR'],\n",
       "  'Surface material': ['wood']},\n",
       " 22: {'Color of sensor': ['g'],\n",
       "  'Sensor Configuration': ['HTR'],\n",
       "  'Surface material': ['wood']},\n",
       " 23: {'Color of sensor': ['g'],\n",
       "  'Sensor Configuration': ['HTR'],\n",
       "  'Surface material': ['wood']},\n",
       " 24: {'Color of sensor': ['g'],\n",
       "  'Sensor Configuration': ['HTR'],\n",
       "  'Surface material': ['wood']},\n",
       " 25: {'Color of sensor': ['g'],\n",
       "  'Sensor Configuration': ['HTR'],\n",
       "  'Surface material': ['wood']},\n",
       " 26: {'Color of sensor': ['g'],\n",
       "  'Sensor Configuration': ['HTR'],\n",
       "  'Surface material': ['wood']},\n",
       " 27: {'Color of sensor': ['g'],\n",
       "  'Sensor Configuration': ['HTR'],\n",
       "  'Surface material': ['wood']},\n",
       " 28: {'Color of sensor': ['g'],\n",
       "  'Sensor Configuration': ['HTR'],\n",
       "  'Surface material': ['wood']},\n",
       " 29: {'Color of sensor': ['b'],\n",
       "  'Sensor Configuration': ['HTR'],\n",
       "  'Surface material': ['wood']},\n",
       " 30: {'Color of sensor': ['b'],\n",
       "  'Sensor Configuration': ['HTR'],\n",
       "  'Surface material': ['wood']},\n",
       " 32: {'Color of sensor': ['b'],\n",
       "  'Sensor Configuration': ['HTR'],\n",
       "  'Surface material': ['wood']},\n",
       " 33: {'Color of sensor': ['b'],\n",
       "  'Sensor Configuration': ['HTR'],\n",
       "  'Surface material': ['wood']},\n",
       " 34: {'Color of sensor': ['b'],\n",
       "  'Sensor Configuration': ['HTR'],\n",
       "  'Surface material': ['wood']},\n",
       " 35: {'Color of sensor': ['b'],\n",
       "  'Sensor Configuration': ['HTR'],\n",
       "  'Surface material': ['wood']},\n",
       " 36: {'Color of sensor': ['b'],\n",
       "  'Sensor Configuration': ['HTR'],\n",
       "  'Surface material': ['wood']},\n",
       " 37: {'Color of sensor': ['g'],\n",
       "  'Sensor Configuration': ['HTR'],\n",
       "  'Surface material': ['wood']},\n",
       " 38: {'Color of sensor': ['b'],\n",
       "  'Sensor Configuration': ['HTR'],\n",
       "  'Surface material': ['wood']},\n",
       " 39: {'Color of sensor': ['b'],\n",
       "  'Sensor Configuration': ['HTR'],\n",
       "  'Surface material': ['wood']},\n",
       " 40: {'Color of sensor': ['b'],\n",
       "  'Sensor Configuration': ['HTR'],\n",
       "  'Surface material': ['wood']},\n",
       " 41: {'Color of sensor': ['b'],\n",
       "  'Sensor Configuration': ['HTR'],\n",
       "  'Surface material': ['wood']},\n",
       " 42: {'Color of sensor': ['b'],\n",
       "  'Sensor Configuration': ['HTR'],\n",
       "  'Surface material': ['wood']},\n",
       " 43: {'Color of sensor': ['b'],\n",
       "  'Sensor Configuration': ['HTR'],\n",
       "  'Surface material': ['wood']},\n",
       " 44: {'Color of sensor': ['b'],\n",
       "  'Sensor Configuration': ['HTR'],\n",
       "  'Surface material': ['wood']},\n",
       " 45: {'Color of sensor': ['b'],\n",
       "  'Sensor Configuration': ['HTR'],\n",
       "  'Surface material': ['wood']},\n",
       " 46: {'Color of sensor': ['b'],\n",
       "  'Sensor Configuration': ['HTR'],\n",
       "  'Surface material': ['wood']},\n",
       " 47: {'Color of sensor': ['b'],\n",
       "  'Sensor Configuration': ['HTR'],\n",
       "  'Surface material': ['wood']},\n",
       " 48: {'Color of sensor': ['b'],\n",
       "  'Sensor Configuration': ['HTR'],\n",
       "  'Surface material': ['wood']},\n",
       " 49: {'Color of sensor': ['b'],\n",
       "  'Sensor Configuration': ['HTR'],\n",
       "  'Surface material': ['wood']},\n",
       " 50: {'Color of sensor': ['b'],\n",
       "  'Sensor Configuration': ['HTR'],\n",
       "  'Surface material': ['wood']},\n",
       " 51: {'Color of sensor': ['b'],\n",
       "  'Sensor Configuration': ['HTR'],\n",
       "  'Surface material': ['wood']},\n",
       " 52: {'Color of sensor': ['b'],\n",
       "  'Sensor Configuration': ['HTR'],\n",
       "  'Surface material': ['wood']},\n",
       " 53: {'Color of sensor': ['b'],\n",
       "  'Sensor Configuration': ['HTR'],\n",
       "  'Surface material': ['wood']},\n",
       " 54: {'Color of sensor': ['b'],\n",
       "  'Sensor Configuration': ['HTR'],\n",
       "  'Surface material': ['wood']},\n",
       " 55: {'Color of sensor': ['b'],\n",
       "  'Sensor Configuration': ['HTR'],\n",
       "  'Surface material': ['wood']},\n",
       " 56: {'Color of sensor': ['b'],\n",
       "  'Sensor Configuration': ['HTR'],\n",
       "  'Surface material': ['wood']},\n",
       " 57: {'Color of sensor': ['b'],\n",
       "  'Sensor Configuration': ['HTR'],\n",
       "  'Surface material': ['wood']},\n",
       " 58: {'Color of sensor': ['b'],\n",
       "  'Sensor Configuration': ['HTR'],\n",
       "  'Surface material': ['wood']},\n",
       " 59: {'Color of sensor': ['b'],\n",
       "  'Sensor Configuration': ['HTR'],\n",
       "  'Surface material': ['wood']},\n",
       " 60: {'Color of sensor': ['b'],\n",
       "  'Sensor Configuration': ['HTR'],\n",
       "  'Surface material': ['wood']},\n",
       " 61: {'Color of sensor': ['b'],\n",
       "  'Sensor Configuration': ['HTR'],\n",
       "  'Surface material': ['wood']},\n",
       " 62: {'Color of sensor': ['b'],\n",
       "  'Sensor Configuration': ['HTR'],\n",
       "  'Surface material': ['wood']},\n",
       " 63: {'Color of sensor': ['b'],\n",
       "  'Sensor Configuration': ['HTR'],\n",
       "  'Surface material': ['wood']},\n",
       " 64: {'Color of sensor': ['b'],\n",
       "  'Sensor Configuration': ['HTR'],\n",
       "  'Surface material': ['wood']},\n",
       " 65: {'Color of sensor': ['b'],\n",
       "  'Sensor Configuration': ['HTR'],\n",
       "  'Surface material': ['wood']},\n",
       " 66: {'Color of sensor': ['b'],\n",
       "  'Sensor Configuration': ['HTR'],\n",
       "  'Surface material': ['wood']},\n",
       " 67: {'Color of sensor': ['b'],\n",
       "  'Sensor Configuration': ['HTR'],\n",
       "  'Surface material': ['wood']},\n",
       " 68: {'Color of sensor': ['b'],\n",
       "  'Sensor Configuration': ['HTR'],\n",
       "  'Surface material': ['wood']},\n",
       " 69: {'Color of sensor': ['b'],\n",
       "  'Sensor Configuration': ['HTR'],\n",
       "  'Surface material': ['wood']},\n",
       " 70: {'Color of sensor': ['b'],\n",
       "  'Sensor Configuration': ['HTR'],\n",
       "  'Surface material': ['wood']},\n",
       " 71: {'Color of sensor': ['b'],\n",
       "  'Sensor Configuration': ['HTR'],\n",
       "  'Surface material': ['wood']},\n",
       " 72: {'Color of sensor': ['b'],\n",
       "  'Sensor Configuration': ['HTR'],\n",
       "  'Surface material': ['wood']},\n",
       " 73: {'Color of sensor': ['b'],\n",
       "  'Sensor Configuration': ['HTR'],\n",
       "  'Surface material': ['wood']},\n",
       " 74: {'Color of sensor': ['b'],\n",
       "  'Sensor Configuration': ['HTR'],\n",
       "  'Surface material': ['wood']},\n",
       " 75: {'Color of sensor': ['g'],\n",
       "  'Sensor Configuration': ['HTR'],\n",
       "  'Surface material': ['wood']},\n",
       " 76: {'Color of sensor': ['b'],\n",
       "  'Sensor Configuration': ['HTR'],\n",
       "  'Surface material': ['wood']},\n",
       " 77: {'Color of sensor': ['g'],\n",
       "  'Sensor Configuration': ['HTR'],\n",
       "  'Surface material': ['wood']},\n",
       " 78: {'Color of sensor': ['b'],\n",
       "  'Sensor Configuration': ['HTR'],\n",
       "  'Surface material': ['wood']},\n",
       " 79: {'Color of sensor': ['g'],\n",
       "  'Sensor Configuration': ['HTR'],\n",
       "  'Surface material': ['wood']},\n",
       " 80: {'Color of sensor': ['b'],\n",
       "  'Sensor Configuration': ['HTR'],\n",
       "  'Surface material': ['wood']},\n",
       " 81: {'Color of sensor': ['b'],\n",
       "  'Sensor Configuration': ['HTR'],\n",
       "  'Surface material': ['wood']},\n",
       " 82: {'Color of sensor': ['g'],\n",
       "  'Sensor Configuration': ['HTR'],\n",
       "  'Surface material': ['wood']},\n",
       " 83: {'Color of sensor': ['g'],\n",
       "  'Sensor Configuration': ['HTR'],\n",
       "  'Surface material': ['wood']},\n",
       " 84: {'Color of sensor': ['g'],\n",
       "  'Sensor Configuration': ['HTR'],\n",
       "  'Surface material': ['wood']},\n",
       " 85: {'Color of sensor': ['g'],\n",
       "  'Sensor Configuration': ['HTR'],\n",
       "  'Surface material': ['wood']},\n",
       " 86: {'Color of sensor': ['g'],\n",
       "  'Sensor Configuration': ['HTR'],\n",
       "  'Surface material': ['wood']},\n",
       " 87: {'Color of sensor': ['g'],\n",
       "  'Sensor Configuration': ['HTR'],\n",
       "  'Surface material': ['wood']},\n",
       " 88: {'Color of sensor': ['g'],\n",
       "  'Sensor Configuration': ['HTR'],\n",
       "  'Surface material': ['wood']},\n",
       " 89: {'Color of sensor': ['g'],\n",
       "  'Sensor Configuration': ['HTR'],\n",
       "  'Surface material': ['wood']},\n",
       " 90: {'Color of sensor': ['g'],\n",
       "  'Sensor Configuration': ['HTR'],\n",
       "  'Surface material': ['wood']},\n",
       " 91: {'Color of sensor': ['g'],\n",
       "  'Sensor Configuration': ['HTR'],\n",
       "  'Surface material': ['wood']},\n",
       " 92: {'Color of sensor': ['g'],\n",
       "  'Sensor Configuration': ['HTR'],\n",
       "  'Surface material': ['wood']},\n",
       " 93: {'Color of sensor': ['g'],\n",
       "  'Sensor Configuration': ['HTR'],\n",
       "  'Surface material': ['wood']},\n",
       " 94: {'Color of sensor': ['b'],\n",
       "  'Sensor Configuration': ['HTR'],\n",
       "  'Surface material': ['wood']},\n",
       " 95: {'Color of sensor': ['b'],\n",
       "  'Sensor Configuration': ['HTR'],\n",
       "  'Surface material': ['wood']},\n",
       " 96: {'Color of sensor': ['g'],\n",
       "  'Sensor Configuration': ['HTR'],\n",
       "  'Surface material': ['wood']},\n",
       " 97: {'Color of sensor': ['g'],\n",
       "  'Sensor Configuration': ['HTR'],\n",
       "  'Surface material': ['wood']},\n",
       " 98: {'Color of sensor': ['g'],\n",
       "  'Sensor Configuration': ['HTR'],\n",
       "  'Surface material': ['wood']},\n",
       " 99: {'Color of sensor': ['g'],\n",
       "  'Sensor Configuration': ['HTR'],\n",
       "  'Surface material': ['wood']},\n",
       " 100: {'Color of sensor': ['b'],\n",
       "  'Sensor Configuration': ['HTR'],\n",
       "  'Surface material': ['wood']},\n",
       " 101: {'Color of sensor': ['g'],\n",
       "  'Sensor Configuration': ['HTR'],\n",
       "  'Surface material': ['wood']},\n",
       " 102: {'Color of sensor': ['g'],\n",
       "  'Sensor Configuration': ['HTR'],\n",
       "  'Surface material': ['wood']},\n",
       " 103: {'Color of sensor': ['g'],\n",
       "  'Sensor Configuration': ['HTR'],\n",
       "  'Surface material': ['wood']},\n",
       " 104: {'Color of sensor': ['g'],\n",
       "  'Sensor Configuration': ['HTR'],\n",
       "  'Surface material': ['wood']},\n",
       " 105: {'Color of sensor': ['b'],\n",
       "  'Sensor Configuration': ['HTR'],\n",
       "  'Surface material': ['wood']},\n",
       " 106: {'Color of sensor': ['g'],\n",
       "  'Sensor Configuration': ['HTR'],\n",
       "  'Surface material': ['wood']},\n",
       " 107: {'Color of sensor': ['g'],\n",
       "  'Sensor Configuration': ['HTR'],\n",
       "  'Surface material': ['wood']},\n",
       " 108: {'Color of sensor': ['b'],\n",
       "  'Sensor Configuration': ['HTR'],\n",
       "  'Surface material': ['wood']},\n",
       " 109: {'Color of sensor': ['g5'],\n",
       "  'Sensor Configuration': ['HTR'],\n",
       "  'Surface material': ['wood']},\n",
       " 110: {'Color of sensor': ['g5'],\n",
       "  'Sensor Configuration': ['HTR'],\n",
       "  'Surface material': ['wood']},\n",
       " 111: {'Color of sensor': ['g5'],\n",
       "  'Sensor Configuration': ['HTR'],\n",
       "  'Surface material': ['wood']},\n",
       " 112: {'Color of sensor': ['g5'],\n",
       "  'Sensor Configuration': ['HTR'],\n",
       "  'Surface material': ['wood']},\n",
       " 113: {'Color of sensor': ['g5'],\n",
       "  'Sensor Configuration': ['HTR'],\n",
       "  'Surface material': ['wood']},\n",
       " 114: {'Color of sensor': ['g5'],\n",
       "  'Sensor Configuration': ['HTR'],\n",
       "  'Surface material': ['wood']},\n",
       " 115: {'Color of sensor': ['g5'],\n",
       "  'Sensor Configuration': ['HTR'],\n",
       "  'Surface material': ['wood']},\n",
       " 116: {'Color of sensor': ['g5'],\n",
       "  'Sensor Configuration': ['HTR'],\n",
       "  'Surface material': ['wood']},\n",
       " 117: {'Color of sensor': ['g5'],\n",
       "  'Sensor Configuration': ['HTR'],\n",
       "  'Surface material': ['wood']},\n",
       " 118: {'Color of sensor': ['g5'],\n",
       "  'Sensor Configuration': ['HTR'],\n",
       "  'Surface material': ['wood']},\n",
       " 119: {'Color of sensor': ['g5'],\n",
       "  'Sensor Configuration': ['HTR'],\n",
       "  'Surface material': ['wood']},\n",
       " 120: {'Color of sensor': ['g5'],\n",
       "  'Sensor Configuration': ['HTR'],\n",
       "  'Surface material': ['wood']},\n",
       " 121: {'Color of sensor': ['g5'],\n",
       "  'Sensor Configuration': ['HTR'],\n",
       "  'Surface material': ['wood']},\n",
       " 122: {'Color of sensor': ['g5'],\n",
       "  'Sensor Configuration': ['HTR'],\n",
       "  'Surface material': ['wood']},\n",
       " 123: {'Color of sensor': ['g5'],\n",
       "  'Sensor Configuration': ['HTR'],\n",
       "  'Surface material': ['wood']},\n",
       " 124: {'Color of sensor': ['g5'],\n",
       "  'Sensor Configuration': ['HTR'],\n",
       "  'Surface material': ['wood']},\n",
       " 125: {'Color of sensor': ['g5'],\n",
       "  'Sensor Configuration': ['HTR'],\n",
       "  'Surface material': ['wood']},\n",
       " 126: {'Color of sensor': ['g5'],\n",
       "  'Sensor Configuration': ['HTR'],\n",
       "  'Surface material': ['wood']},\n",
       " 127: {'Color of sensor': ['g5'],\n",
       "  'Sensor Configuration': ['HTR'],\n",
       "  'Surface material': ['wood']},\n",
       " 128: {'Color of sensor': ['g5'],\n",
       "  'Sensor Configuration': ['HTR'],\n",
       "  'Surface material': ['wood']},\n",
       " 129: {'Color of sensor': ['g5'],\n",
       "  'Sensor Configuration': ['HTR'],\n",
       "  'Surface material': ['wood']},\n",
       " 130: {'Color of sensor': ['g5'],\n",
       "  'Sensor Configuration': ['HTR'],\n",
       "  'Surface material': ['wood']},\n",
       " 131: {'Color of sensor': ['g5'],\n",
       "  'Sensor Configuration': ['HTR'],\n",
       "  'Surface material': ['wood']},\n",
       " 132: {'Color of sensor': ['g5'],\n",
       "  'Sensor Configuration': ['HTR'],\n",
       "  'Surface material': ['wood']},\n",
       " 133: {'Color of sensor': ['g5'],\n",
       "  'Sensor Configuration': ['HTR'],\n",
       "  'Surface material': ['wood']},\n",
       " 134: {'Color of sensor': ['g5'],\n",
       "  'Sensor Configuration': ['HTR'],\n",
       "  'Surface material': ['wood']},\n",
       " 135: {'Color of sensor': ['g5'],\n",
       "  'Sensor Configuration': ['HTR'],\n",
       "  'Surface material': ['wood']},\n",
       " 136: {'Color of sensor': ['g5'],\n",
       "  'Sensor Configuration': ['HTR'],\n",
       "  'Surface material': ['wood']},\n",
       " 137: {'Color of sensor': ['g5'],\n",
       "  'Sensor Configuration': ['HTR'],\n",
       "  'Surface material': ['wood']},\n",
       " 138: {'Color of sensor': ['g5'],\n",
       "  'Sensor Configuration': ['HTR'],\n",
       "  'Surface material': ['wood']},\n",
       " 139: {'Color of sensor': ['g5'],\n",
       "  'Sensor Configuration': ['HTR'],\n",
       "  'Surface material': ['wood']},\n",
       " 140: {'Color of sensor': ['g5'],\n",
       "  'Sensor Configuration': ['HTR'],\n",
       "  'Surface material': ['wood']},\n",
       " 141: {'Color of sensor': ['b'],\n",
       "  'Sensor Configuration': ['HTR'],\n",
       "  'Surface material': ['wood']},\n",
       " 142: {'Color of sensor': ['b'],\n",
       "  'Sensor Configuration': ['HTR'],\n",
       "  'Surface material': ['wood']},\n",
       " 143: {'Color of sensor': ['b'],\n",
       "  'Sensor Configuration': ['HTR'],\n",
       "  'Surface material': ['wood']},\n",
       " 144: {'Color of sensor': ['b'],\n",
       "  'Sensor Configuration': ['HTR'],\n",
       "  'Surface material': ['wood']},\n",
       " 145: {'Color of sensor': ['b'],\n",
       "  'Sensor Configuration': ['HTR'],\n",
       "  'Surface material': ['wood']},\n",
       " 146: {'Color of sensor': ['b'],\n",
       "  'Sensor Configuration': ['HTR'],\n",
       "  'Surface material': ['wood']},\n",
       " 147: {'Color of sensor': ['b'],\n",
       "  'Sensor Configuration': ['HTR'],\n",
       "  'Surface material': ['wood']},\n",
       " 148: {'Color of sensor': ['b'],\n",
       "  'Sensor Configuration': ['HTR'],\n",
       "  'Surface material': ['wood']},\n",
       " 149: {'Color of sensor': ['b'],\n",
       "  'Sensor Configuration': ['HTR'],\n",
       "  'Surface material': ['wood']},\n",
       " 150: {'Color of sensor': ['b'],\n",
       "  'Sensor Configuration': ['HTR'],\n",
       "  'Surface material': ['wood']},\n",
       " 151: {'Color of sensor': ['b'],\n",
       "  'Sensor Configuration': ['HTR'],\n",
       "  'Surface material': ['wood']},\n",
       " 152: {'Color of sensor': ['b'],\n",
       "  'Sensor Configuration': ['HTR'],\n",
       "  'Surface material': ['wood']},\n",
       " 153: {'Color of sensor': ['b'],\n",
       "  'Sensor Configuration': ['HTR'],\n",
       "  'Surface material': ['wood']},\n",
       " 154: {'Color of sensor': ['b'],\n",
       "  'Sensor Configuration': ['HTR'],\n",
       "  'Surface material': ['wood']},\n",
       " 155: {'Color of sensor': ['b'],\n",
       "  'Sensor Configuration': ['HTR'],\n",
       "  'Surface material': ['wood']},\n",
       " 156: {'Color of sensor': ['b'],\n",
       "  'Sensor Configuration': ['HTR'],\n",
       "  'Surface material': ['wood']},\n",
       " 157: {'Color of sensor': ['b'],\n",
       "  'Sensor Configuration': ['HTR'],\n",
       "  'Surface material': ['wood']},\n",
       " 158: {'Color of sensor': ['b'],\n",
       "  'Sensor Configuration': ['HTR'],\n",
       "  'Surface material': ['wood']},\n",
       " 159: {'Color of sensor': ['b'],\n",
       "  'Sensor Configuration': ['HTR'],\n",
       "  'Surface material': ['wood']},\n",
       " 160: {'Color of sensor': ['b'],\n",
       "  'Sensor Configuration': ['HTR'],\n",
       "  'Surface material': ['wood']},\n",
       " 161: {'Color of sensor': ['b'],\n",
       "  'Sensor Configuration': ['HTR'],\n",
       "  'Surface material': ['wood']},\n",
       " 162: {'Color of sensor': ['b'],\n",
       "  'Sensor Configuration': ['HTR'],\n",
       "  'Surface material': ['wood']},\n",
       " 163: {'Color of sensor': ['b'],\n",
       "  'Sensor Configuration': ['HTR'],\n",
       "  'Surface material': ['wood']},\n",
       " 164: {'Color of sensor': ['b'],\n",
       "  'Sensor Configuration': ['HTR'],\n",
       "  'Surface material': ['wood']},\n",
       " 165: {'Color of sensor': ['b'],\n",
       "  'Sensor Configuration': ['HTR'],\n",
       "  'Surface material': ['wood']},\n",
       " 166: {'Color of sensor': ['b'],\n",
       "  'Sensor Configuration': ['HTR'],\n",
       "  'Surface material': ['wood']},\n",
       " 167: {'Color of sensor': ['b'],\n",
       "  'Sensor Configuration': ['HTR'],\n",
       "  'Surface material': ['wood']},\n",
       " 168: {'Color of sensor': ['b'],\n",
       "  'Sensor Configuration': ['HTR'],\n",
       "  'Surface material': ['wood']},\n",
       " 169: {'Color of sensor': ['b'],\n",
       "  'Sensor Configuration': ['HTR'],\n",
       "  'Surface material': ['wood']},\n",
       " 170: {'Color of sensor': ['b'],\n",
       "  'Sensor Configuration': ['HTR'],\n",
       "  'Surface material': ['wood']},\n",
       " 171: {'Color of sensor': ['b'],\n",
       "  'Sensor Configuration': ['HTR'],\n",
       "  'Surface material': ['wood']},\n",
       " 172: {'Color of sensor': ['b'],\n",
       "  'Sensor Configuration': ['HTR'],\n",
       "  'Surface material': ['wood']},\n",
       " 173: {'Color of sensor': ['b'],\n",
       "  'Sensor Configuration': ['HTR'],\n",
       "  'Surface material': ['wood']},\n",
       " 174: {'Color of sensor': ['b'],\n",
       "  'Sensor Configuration': ['HTR'],\n",
       "  'Surface material': ['wood']},\n",
       " 175: {'Color of sensor': ['b'],\n",
       "  'Sensor Configuration': ['HTR'],\n",
       "  'Surface material': ['wood']},\n",
       " 176: {'Color of sensor': ['b'],\n",
       "  'Sensor Configuration': ['HTR'],\n",
       "  'Surface material': ['wood']},\n",
       " 177: {'Color of sensor': ['b'],\n",
       "  'Sensor Configuration': ['HTR'],\n",
       "  'Surface material': ['wood']},\n",
       " 178: {'Color of sensor': ['b'],\n",
       "  'Sensor Configuration': ['HTR'],\n",
       "  'Surface material': ['wood']},\n",
       " 179: {'Color of sensor': ['b'],\n",
       "  'Sensor Configuration': ['HTR'],\n",
       "  'Surface material': ['wood']},\n",
       " 180: {'Color of sensor': ['b'],\n",
       "  'Sensor Configuration': ['HTR'],\n",
       "  'Surface material': ['wood']},\n",
       " 181: {'Color of sensor': ['b'],\n",
       "  'Sensor Configuration': ['HTR'],\n",
       "  'Surface material': ['wood']},\n",
       " 182: {'Color of sensor': ['b'],\n",
       "  'Sensor Configuration': ['HTR'],\n",
       "  'Surface material': ['wood']},\n",
       " 183: {'Color of sensor': ['b'],\n",
       "  'Sensor Configuration': ['HTR'],\n",
       "  'Surface material': ['wood']},\n",
       " 184: {'Color of sensor': ['b'],\n",
       "  'Sensor Configuration': ['HTR'],\n",
       "  'Surface material': ['wood']},\n",
       " 185: {'Color of sensor': ['b'],\n",
       "  'Sensor Configuration': ['HTR'],\n",
       "  'Surface material': ['wood']},\n",
       " 186: {'Color of sensor': ['b'],\n",
       "  'Sensor Configuration': ['HTR'],\n",
       "  'Surface material': ['wood']},\n",
       " 187: {'Color of sensor': ['b'],\n",
       "  'Sensor Configuration': ['HTR'],\n",
       "  'Surface material': ['wood']},\n",
       " 188: {'Color of sensor': ['b'],\n",
       "  'Sensor Configuration': ['HTR'],\n",
       "  'Surface material': ['wood']},\n",
       " 189: {'Color of sensor': ['b'],\n",
       "  'Sensor Configuration': ['HTR'],\n",
       "  'Surface material': ['wood']},\n",
       " 190: {'Color of sensor': ['b'],\n",
       "  'Sensor Configuration': ['HTR'],\n",
       "  'Surface material': ['wood']},\n",
       " 191: {'Color of sensor': ['b'],\n",
       "  'Sensor Configuration': ['HTR'],\n",
       "  'Surface material': ['wood']},\n",
       " 192: {'Color of sensor': ['b'],\n",
       "  'Sensor Configuration': ['HTR'],\n",
       "  'Surface material': ['wood']},\n",
       " 193: {'Color of sensor': ['b'],\n",
       "  'Sensor Configuration': ['HTR'],\n",
       "  'Surface material': ['wood']},\n",
       " 194: {'Color of sensor': ['b'],\n",
       "  'Sensor Configuration': ['HTR'],\n",
       "  'Surface material': ['wood']},\n",
       " 195: {'Color of sensor': ['b'],\n",
       "  'Sensor Configuration': ['HTR'],\n",
       "  'Surface material': ['wood']},\n",
       " 196: {'Color of sensor': ['b'],\n",
       "  'Sensor Configuration': ['HTR'],\n",
       "  'Surface material': ['wood']},\n",
       " 197: {'Color of sensor': ['b'],\n",
       "  'Sensor Configuration': ['HTR'],\n",
       "  'Surface material': ['wood']},\n",
       " 198: {'Color of sensor': ['b'],\n",
       "  'Sensor Configuration': ['HTR'],\n",
       "  'Surface material': ['wood']},\n",
       " 199: {'Color of sensor': ['b'],\n",
       "  'Sensor Configuration': ['HTR'],\n",
       "  'Surface material': ['wood']},\n",
       " 200: {'Color of sensor': ['b'],\n",
       "  'Sensor Configuration': ['HTR'],\n",
       "  'Surface material': ['wood']},\n",
       " 201: {'Color of sensor': ['b'],\n",
       "  'Sensor Configuration': ['HTR'],\n",
       "  'Surface material': ['wood']},\n",
       " 202: {'Color of sensor': ['b'],\n",
       "  'Sensor Configuration': ['HTR'],\n",
       "  'Surface material': ['wood']},\n",
       " 203: {'Color of sensor': ['b'],\n",
       "  'Sensor Configuration': ['HTR'],\n",
       "  'Surface material': ['wood']},\n",
       " 204: {'Color of sensor': ['b'],\n",
       "  'Sensor Configuration': ['HTR'],\n",
       "  'Surface material': ['wood']},\n",
       " 205: {'Color of sensor': ['b'],\n",
       "  'Sensor Configuration': ['HTR'],\n",
       "  'Surface material': ['wood']},\n",
       " 206: {'Color of sensor': ['b'],\n",
       "  'Sensor Configuration': ['HTR'],\n",
       "  'Surface material': ['wood']},\n",
       " 207: {'Color of sensor': ['b'],\n",
       "  'Sensor Configuration': ['HTR'],\n",
       "  'Surface material': ['wood']},\n",
       " 208: {'Color of sensor': ['b'],\n",
       "  'Sensor Configuration': ['HTR'],\n",
       "  'Surface material': ['wood']},\n",
       " 209: {'Color of sensor': ['b'],\n",
       "  'Sensor Configuration': ['HTR'],\n",
       "  'Surface material': ['wood']},\n",
       " 210: {'Color of sensor': ['b'],\n",
       "  'Sensor Configuration': ['HTR'],\n",
       "  'Surface material': ['wood']},\n",
       " 211: {'Color of sensor': ['b'],\n",
       "  'Sensor Configuration': ['HTR'],\n",
       "  'Surface material': ['wood']}}"
      ]
     },
     "execution_count": 39,
     "metadata": {},
     "output_type": "execute_result"
    }
   ],
   "source": [
    "# Group the merged data by 'Sensor ID'\n",
    "grouped_data = df_data_v4_1_1.groupby(\"Sensor ID\")\n",
    "\n",
    "# Function to get unique values of categorical columns for each group\n",
    "def get_unique_categorical_values(group):\n",
    "    unique_values = {}\n",
    "    for column in group.select_dtypes(include=['object']).columns:\n",
    "        unique_values[column] = group[column].unique().tolist()\n",
    "    return unique_values\n",
    "\n",
    "# Apply the function to each group and collect the results\n",
    "unique_categorical_values = grouped_data.apply(get_unique_categorical_values).to_dict()\n",
    "\n",
    "unique_categorical_values"
   ]
  },
  {
   "cell_type": "code",
   "execution_count": 40,
   "metadata": {},
   "outputs": [
    {
     "name": "stderr",
     "output_type": "stream",
     "text": [
      "C:\\Users\\Jihoon.DESKTOP-1HIBMQO\\AppData\\Local\\Temp\\ipykernel_10788\\718001310.py:4: FutureWarning:\n",
      "\n",
      "DataFrame.applymap has been deprecated. Use DataFrame.map instead.\n",
      "\n"
     ]
    },
    {
     "data": {
      "text/html": [
       "<div>\n",
       "<style scoped>\n",
       "    .dataframe tbody tr th:only-of-type {\n",
       "        vertical-align: middle;\n",
       "    }\n",
       "\n",
       "    .dataframe tbody tr th {\n",
       "        vertical-align: top;\n",
       "    }\n",
       "\n",
       "    .dataframe thead th {\n",
       "        text-align: right;\n",
       "    }\n",
       "</style>\n",
       "<table border=\"1\" class=\"dataframe\">\n",
       "  <thead>\n",
       "    <tr style=\"text-align: right;\">\n",
       "      <th></th>\n",
       "      <th>Sensor ID</th>\n",
       "      <th>Color of sensor</th>\n",
       "      <th>Sensor Configuration</th>\n",
       "      <th>Surface material</th>\n",
       "    </tr>\n",
       "  </thead>\n",
       "  <tbody>\n",
       "    <tr>\n",
       "      <th>0</th>\n",
       "      <td>1</td>\n",
       "      <td>b</td>\n",
       "      <td>HTR</td>\n",
       "      <td>wood</td>\n",
       "    </tr>\n",
       "    <tr>\n",
       "      <th>1</th>\n",
       "      <td>2</td>\n",
       "      <td>b</td>\n",
       "      <td>HTR</td>\n",
       "      <td>wood</td>\n",
       "    </tr>\n",
       "    <tr>\n",
       "      <th>2</th>\n",
       "      <td>3</td>\n",
       "      <td>b</td>\n",
       "      <td>HTR</td>\n",
       "      <td>wood</td>\n",
       "    </tr>\n",
       "    <tr>\n",
       "      <th>3</th>\n",
       "      <td>4</td>\n",
       "      <td>g</td>\n",
       "      <td>HTR</td>\n",
       "      <td>wood</td>\n",
       "    </tr>\n",
       "    <tr>\n",
       "      <th>4</th>\n",
       "      <td>5</td>\n",
       "      <td>b</td>\n",
       "      <td>HTR</td>\n",
       "      <td>wood</td>\n",
       "    </tr>\n",
       "  </tbody>\n",
       "</table>\n",
       "</div>"
      ],
      "text/plain": [
       "   Sensor ID Color of sensor Sensor Configuration Surface material\n",
       "0          1               b                  HTR             wood\n",
       "1          2               b                  HTR             wood\n",
       "2          3               b                  HTR             wood\n",
       "3          4               g                  HTR             wood\n",
       "4          5               b                  HTR             wood"
      ]
     },
     "execution_count": 40,
     "metadata": {},
     "output_type": "execute_result"
    }
   ],
   "source": [
    "unique_categorical_values_df = pd.DataFrame.from_dict(unique_categorical_values, orient='index')\n",
    "\n",
    "# Convert list values to strings and keep Sensor ID as index\n",
    "unique_categorical_values_df = unique_categorical_values_df.applymap(lambda x: x[0] if isinstance(x, list) else x)\n",
    "unique_categorical_values_df.reset_index(inplace=True)\n",
    "\n",
    "# Rename the 'index' column to 'Sensor ID'\n",
    "unique_categorical_values_df.rename(columns={'index': 'Sensor ID'}, inplace=True)\n",
    "\n",
    "# Display the updated DataFrame\n",
    "unique_categorical_values_df.head()"
   ]
  },
  {
   "cell_type": "code",
   "execution_count": 41,
   "metadata": {},
   "outputs": [
    {
     "data": {
      "text/html": [
       "<div>\n",
       "<style scoped>\n",
       "    .dataframe tbody tr th:only-of-type {\n",
       "        vertical-align: middle;\n",
       "    }\n",
       "\n",
       "    .dataframe tbody tr th {\n",
       "        vertical-align: top;\n",
       "    }\n",
       "\n",
       "    .dataframe thead th {\n",
       "        text-align: right;\n",
       "    }\n",
       "</style>\n",
       "<table border=\"1\" class=\"dataframe\">\n",
       "  <thead>\n",
       "    <tr style=\"text-align: right;\">\n",
       "      <th></th>\n",
       "      <th>Sensor ID</th>\n",
       "      <th>Color of sensor_g</th>\n",
       "      <th>Color of sensor_g5</th>\n",
       "    </tr>\n",
       "  </thead>\n",
       "  <tbody>\n",
       "    <tr>\n",
       "      <th>0</th>\n",
       "      <td>1</td>\n",
       "      <td>0</td>\n",
       "      <td>False</td>\n",
       "    </tr>\n",
       "    <tr>\n",
       "      <th>1</th>\n",
       "      <td>2</td>\n",
       "      <td>0</td>\n",
       "      <td>False</td>\n",
       "    </tr>\n",
       "    <tr>\n",
       "      <th>2</th>\n",
       "      <td>3</td>\n",
       "      <td>0</td>\n",
       "      <td>False</td>\n",
       "    </tr>\n",
       "    <tr>\n",
       "      <th>3</th>\n",
       "      <td>4</td>\n",
       "      <td>1</td>\n",
       "      <td>False</td>\n",
       "    </tr>\n",
       "    <tr>\n",
       "      <th>4</th>\n",
       "      <td>5</td>\n",
       "      <td>0</td>\n",
       "      <td>False</td>\n",
       "    </tr>\n",
       "    <tr>\n",
       "      <th>...</th>\n",
       "      <td>...</td>\n",
       "      <td>...</td>\n",
       "      <td>...</td>\n",
       "    </tr>\n",
       "    <tr>\n",
       "      <th>205</th>\n",
       "      <td>207</td>\n",
       "      <td>0</td>\n",
       "      <td>False</td>\n",
       "    </tr>\n",
       "    <tr>\n",
       "      <th>206</th>\n",
       "      <td>208</td>\n",
       "      <td>0</td>\n",
       "      <td>False</td>\n",
       "    </tr>\n",
       "    <tr>\n",
       "      <th>207</th>\n",
       "      <td>209</td>\n",
       "      <td>0</td>\n",
       "      <td>False</td>\n",
       "    </tr>\n",
       "    <tr>\n",
       "      <th>208</th>\n",
       "      <td>210</td>\n",
       "      <td>0</td>\n",
       "      <td>False</td>\n",
       "    </tr>\n",
       "    <tr>\n",
       "      <th>209</th>\n",
       "      <td>211</td>\n",
       "      <td>0</td>\n",
       "      <td>False</td>\n",
       "    </tr>\n",
       "  </tbody>\n",
       "</table>\n",
       "<p>210 rows × 3 columns</p>\n",
       "</div>"
      ],
      "text/plain": [
       "     Sensor ID  Color of sensor_g  Color of sensor_g5\n",
       "0            1                  0               False\n",
       "1            2                  0               False\n",
       "2            3                  0               False\n",
       "3            4                  1               False\n",
       "4            5                  0               False\n",
       "..         ...                ...                 ...\n",
       "205        207                  0               False\n",
       "206        208                  0               False\n",
       "207        209                  0               False\n",
       "208        210                  0               False\n",
       "209        211                  0               False\n",
       "\n",
       "[210 rows x 3 columns]"
      ]
     },
     "execution_count": 41,
     "metadata": {},
     "output_type": "execute_result"
    }
   ],
   "source": [
    "# One-hot encode all the object features\n",
    "if not unique_categorical_values_df.empty:\n",
    "    unique_categorical_values_encoded = pd.get_dummies(unique_categorical_values_df, drop_first=True)\n",
    "else:\n",
    "    unique_categorical_values_encoded = unique_categorical_values_df\n",
    "\n",
    "\n",
    "# Convert boolean columns to integers (0 and 1)\n",
    "unique_categorical_values_encoded[\"Color of sensor_g\"] = unique_categorical_values_encoded[\"Color of sensor_g\"].astype(int)\n",
    "unique_categorical_values_encoded"
   ]
  },
  {
   "cell_type": "code",
   "execution_count": 42,
   "metadata": {},
   "outputs": [
    {
     "data": {
      "text/html": [
       "<div>\n",
       "<style scoped>\n",
       "    .dataframe tbody tr th:only-of-type {\n",
       "        vertical-align: middle;\n",
       "    }\n",
       "\n",
       "    .dataframe tbody tr th {\n",
       "        vertical-align: top;\n",
       "    }\n",
       "\n",
       "    .dataframe thead th {\n",
       "        text-align: right;\n",
       "    }\n",
       "</style>\n",
       "<table border=\"1\" class=\"dataframe\">\n",
       "  <thead>\n",
       "    <tr style=\"text-align: right;\">\n",
       "      <th></th>\n",
       "      <th>Sensor ID</th>\n",
       "      <th>13_10000_mean_middle</th>\n",
       "      <th>13_16800_mean_middle</th>\n",
       "      <th>13_3000_mean_middle</th>\n",
       "      <th>13_6000_mean_middle</th>\n",
       "      <th>13_8000_mean_middle</th>\n",
       "      <th>18_10000_mean_middle</th>\n",
       "      <th>18_16800_mean_middle</th>\n",
       "      <th>18_3000_mean_middle</th>\n",
       "      <th>18_6000_mean_middle</th>\n",
       "      <th>...</th>\n",
       "      <th>48_3000_mean_upper</th>\n",
       "      <th>48_6000_mean_upper</th>\n",
       "      <th>48_8000_mean_upper</th>\n",
       "      <th>53_10000_mean_upper</th>\n",
       "      <th>53_16800_mean_upper</th>\n",
       "      <th>53_3000_mean_upper</th>\n",
       "      <th>53_6000_mean_upper</th>\n",
       "      <th>53_8000_mean_upper</th>\n",
       "      <th>Color of sensor_g</th>\n",
       "      <th>Color of sensor_g5</th>\n",
       "    </tr>\n",
       "  </thead>\n",
       "  <tbody>\n",
       "    <tr>\n",
       "      <th>0</th>\n",
       "      <td>1</td>\n",
       "      <td>827.00</td>\n",
       "      <td>827.000000</td>\n",
       "      <td>827.00</td>\n",
       "      <td>827.00</td>\n",
       "      <td>827.00</td>\n",
       "      <td>1071.000000</td>\n",
       "      <td>1069.285714</td>\n",
       "      <td>1069.240000</td>\n",
       "      <td>1069.400000</td>\n",
       "      <td>...</td>\n",
       "      <td>2809.4</td>\n",
       "      <td>2803.000000</td>\n",
       "      <td>2800.333333</td>\n",
       "      <td>2995.545455</td>\n",
       "      <td>0.0</td>\n",
       "      <td>2995.444444</td>\n",
       "      <td>3039.727273</td>\n",
       "      <td>3004.043478</td>\n",
       "      <td>0</td>\n",
       "      <td>False</td>\n",
       "    </tr>\n",
       "    <tr>\n",
       "      <th>1</th>\n",
       "      <td>2</td>\n",
       "      <td>679.64</td>\n",
       "      <td>679.000000</td>\n",
       "      <td>679.00</td>\n",
       "      <td>679.00</td>\n",
       "      <td>679.00</td>\n",
       "      <td>943.000000</td>\n",
       "      <td>954.200000</td>\n",
       "      <td>967.260870</td>\n",
       "      <td>954.520000</td>\n",
       "      <td>...</td>\n",
       "      <td>0.0</td>\n",
       "      <td>0.000000</td>\n",
       "      <td>2691.000000</td>\n",
       "      <td>0.000000</td>\n",
       "      <td>2371.0</td>\n",
       "      <td>0.000000</td>\n",
       "      <td>2951.744186</td>\n",
       "      <td>0.000000</td>\n",
       "      <td>0</td>\n",
       "      <td>False</td>\n",
       "    </tr>\n",
       "    <tr>\n",
       "      <th>2</th>\n",
       "      <td>3</td>\n",
       "      <td>717.88</td>\n",
       "      <td>717.727273</td>\n",
       "      <td>718.04</td>\n",
       "      <td>717.24</td>\n",
       "      <td>718.04</td>\n",
       "      <td>1029.933333</td>\n",
       "      <td>1020.920000</td>\n",
       "      <td>1007.000000</td>\n",
       "      <td>1005.960000</td>\n",
       "      <td>...</td>\n",
       "      <td>2743.0</td>\n",
       "      <td>2727.000000</td>\n",
       "      <td>0.000000</td>\n",
       "      <td>0.000000</td>\n",
       "      <td>0.0</td>\n",
       "      <td>0.000000</td>\n",
       "      <td>0.000000</td>\n",
       "      <td>0.000000</td>\n",
       "      <td>0</td>\n",
       "      <td>False</td>\n",
       "    </tr>\n",
       "    <tr>\n",
       "      <th>3</th>\n",
       "      <td>4</td>\n",
       "      <td>737.08</td>\n",
       "      <td>736.840000</td>\n",
       "      <td>737.16</td>\n",
       "      <td>736.92</td>\n",
       "      <td>736.68</td>\n",
       "      <td>1030.351351</td>\n",
       "      <td>1031.000000</td>\n",
       "      <td>1028.840000</td>\n",
       "      <td>1087.000000</td>\n",
       "      <td>...</td>\n",
       "      <td>0.0</td>\n",
       "      <td>2755.195122</td>\n",
       "      <td>0.000000</td>\n",
       "      <td>3000.000000</td>\n",
       "      <td>3019.0</td>\n",
       "      <td>3000.116279</td>\n",
       "      <td>2999.930233</td>\n",
       "      <td>3000.116279</td>\n",
       "      <td>1</td>\n",
       "      <td>False</td>\n",
       "    </tr>\n",
       "    <tr>\n",
       "      <th>4</th>\n",
       "      <td>5</td>\n",
       "      <td>743.00</td>\n",
       "      <td>742.894737</td>\n",
       "      <td>741.88</td>\n",
       "      <td>743.00</td>\n",
       "      <td>743.00</td>\n",
       "      <td>1046.102041</td>\n",
       "      <td>1045.697674</td>\n",
       "      <td>1047.244898</td>\n",
       "      <td>1046.288889</td>\n",
       "      <td>...</td>\n",
       "      <td>0.0</td>\n",
       "      <td>0.000000</td>\n",
       "      <td>0.000000</td>\n",
       "      <td>0.000000</td>\n",
       "      <td>0.0</td>\n",
       "      <td>0.000000</td>\n",
       "      <td>0.000000</td>\n",
       "      <td>0.000000</td>\n",
       "      <td>0</td>\n",
       "      <td>False</td>\n",
       "    </tr>\n",
       "  </tbody>\n",
       "</table>\n",
       "<p>5 rows × 138 columns</p>\n",
       "</div>"
      ],
      "text/plain": [
       "   Sensor ID  13_10000_mean_middle  13_16800_mean_middle  13_3000_mean_middle  \\\n",
       "0          1                827.00            827.000000               827.00   \n",
       "1          2                679.64            679.000000               679.00   \n",
       "2          3                717.88            717.727273               718.04   \n",
       "3          4                737.08            736.840000               737.16   \n",
       "4          5                743.00            742.894737               741.88   \n",
       "\n",
       "   13_6000_mean_middle  13_8000_mean_middle  18_10000_mean_middle  \\\n",
       "0               827.00               827.00           1071.000000   \n",
       "1               679.00               679.00            943.000000   \n",
       "2               717.24               718.04           1029.933333   \n",
       "3               736.92               736.68           1030.351351   \n",
       "4               743.00               743.00           1046.102041   \n",
       "\n",
       "   18_16800_mean_middle  18_3000_mean_middle  18_6000_mean_middle  ...  \\\n",
       "0           1069.285714          1069.240000          1069.400000  ...   \n",
       "1            954.200000           967.260870           954.520000  ...   \n",
       "2           1020.920000          1007.000000          1005.960000  ...   \n",
       "3           1031.000000          1028.840000          1087.000000  ...   \n",
       "4           1045.697674          1047.244898          1046.288889  ...   \n",
       "\n",
       "   48_3000_mean_upper  48_6000_mean_upper  48_8000_mean_upper  \\\n",
       "0              2809.4         2803.000000         2800.333333   \n",
       "1                 0.0            0.000000         2691.000000   \n",
       "2              2743.0         2727.000000            0.000000   \n",
       "3                 0.0         2755.195122            0.000000   \n",
       "4                 0.0            0.000000            0.000000   \n",
       "\n",
       "   53_10000_mean_upper  53_16800_mean_upper  53_3000_mean_upper  \\\n",
       "0          2995.545455                  0.0         2995.444444   \n",
       "1             0.000000               2371.0            0.000000   \n",
       "2             0.000000                  0.0            0.000000   \n",
       "3          3000.000000               3019.0         3000.116279   \n",
       "4             0.000000                  0.0            0.000000   \n",
       "\n",
       "   53_6000_mean_upper  53_8000_mean_upper  Color of sensor_g  \\\n",
       "0         3039.727273         3004.043478                  0   \n",
       "1         2951.744186            0.000000                  0   \n",
       "2            0.000000            0.000000                  0   \n",
       "3         2999.930233         3000.116279                  1   \n",
       "4            0.000000            0.000000                  0   \n",
       "\n",
       "   Color of sensor_g5  \n",
       "0               False  \n",
       "1               False  \n",
       "2               False  \n",
       "3               False  \n",
       "4               False  \n",
       "\n",
       "[5 rows x 138 columns]"
      ]
     },
     "execution_count": 42,
     "metadata": {},
     "output_type": "execute_result"
    }
   ],
   "source": [
    "# Merge the unique categorical values DataFrame with the original data on 'Sensor ID'\n",
    "df_all = pd.merge(df_range_delay_all, unique_categorical_values_encoded, on='Sensor ID', how='left')\n",
    "df_all.head()"
   ]
  },
  {
   "cell_type": "markdown",
   "metadata": {},
   "source": [
    "# Upper and Lower bound's Frequency (Feature Engineering)"
   ]
  },
  {
   "cell_type": "code",
   "execution_count": 43,
   "metadata": {},
   "outputs": [
    {
     "data": {
      "text/html": [
       "<div>\n",
       "<style scoped>\n",
       "    .dataframe tbody tr th:only-of-type {\n",
       "        vertical-align: middle;\n",
       "    }\n",
       "\n",
       "    .dataframe tbody tr th {\n",
       "        vertical-align: top;\n",
       "    }\n",
       "\n",
       "    .dataframe thead th {\n",
       "        text-align: right;\n",
       "    }\n",
       "</style>\n",
       "<table border=\"1\" class=\"dataframe\">\n",
       "  <thead>\n",
       "    <tr style=\"text-align: right;\">\n",
       "      <th></th>\n",
       "      <th>Sensor ID</th>\n",
       "      <th>Delay (us)</th>\n",
       "      <th>Lower Quartile Ping Count</th>\n",
       "      <th>Upper Quartile Ping Count</th>\n",
       "    </tr>\n",
       "  </thead>\n",
       "  <tbody>\n",
       "    <tr>\n",
       "      <th>0</th>\n",
       "      <td>1</td>\n",
       "      <td>3000</td>\n",
       "      <td>140</td>\n",
       "      <td>131</td>\n",
       "    </tr>\n",
       "    <tr>\n",
       "      <th>1</th>\n",
       "      <td>1</td>\n",
       "      <td>6000</td>\n",
       "      <td>171</td>\n",
       "      <td>182</td>\n",
       "    </tr>\n",
       "    <tr>\n",
       "      <th>2</th>\n",
       "      <td>1</td>\n",
       "      <td>8000</td>\n",
       "      <td>167</td>\n",
       "      <td>197</td>\n",
       "    </tr>\n",
       "    <tr>\n",
       "      <th>3</th>\n",
       "      <td>1</td>\n",
       "      <td>10000</td>\n",
       "      <td>267</td>\n",
       "      <td>258</td>\n",
       "    </tr>\n",
       "    <tr>\n",
       "      <th>4</th>\n",
       "      <td>1</td>\n",
       "      <td>16800</td>\n",
       "      <td>102</td>\n",
       "      <td>105</td>\n",
       "    </tr>\n",
       "  </tbody>\n",
       "</table>\n",
       "</div>"
      ],
      "text/plain": [
       "   Sensor ID  Delay (us)  Lower Quartile Ping Count  Upper Quartile Ping Count\n",
       "0          1        3000                        140                        131\n",
       "1          1        6000                        171                        182\n",
       "2          1        8000                        167                        197\n",
       "3          1       10000                        267                        258\n",
       "4          1       16800                        102                        105"
      ]
     },
     "execution_count": 43,
     "metadata": {},
     "output_type": "execute_result"
    }
   ],
   "source": [
    "# Group by 'Sensor ID' and 'Delay (us)' for lower quartile\n",
    "grouped_lower_outliers = df_lower_quartile.groupby(['Sensor ID', 'Delay (us)'])['Ping Time (us)'].count().reset_index()\n",
    "\n",
    "# Group by 'Sensor ID' and 'Delay (us)' for upper quartile\n",
    "grouped_upper_outliers = df_upper_quartile.groupby(['Sensor ID', 'Delay (us)'])['Ping Time (us)'].count().reset_index()\n",
    "\n",
    "# Merge the grouped dataframes with alias column names for the count columns\n",
    "df_outlier_freq = pd.merge(grouped_lower_outliers, grouped_upper_outliers, on=['Sensor ID', 'Delay (us)'], suffixes=('_lower', '_upper'), how='left')\n",
    "\n",
    "# Rename the columns if necessary\n",
    "df_outlier_freq.rename(columns={\n",
    "    'Ping Time (us)_lower': 'Lower Quartile Ping Count',\n",
    "    'Ping Time (us)_upper': 'Upper Quartile Ping Count'\n",
    "}, inplace=True)\n",
    "\n",
    "\n",
    "# Replace NaN values with 0\n",
    "df_outlier_freq.fillna(0, inplace=True)\n",
    "\n",
    "df_outlier_freq['Lower Quartile Ping Count'] = df_outlier_freq['Lower Quartile Ping Count'].astype(int)\n",
    "df_outlier_freq['Upper Quartile Ping Count'] = df_outlier_freq['Upper Quartile Ping Count'].astype(int)\n",
    "\n",
    "\n",
    "# Display the resulting DataFrame\n",
    "df_outlier_freq.head()"
   ]
  },
  {
   "cell_type": "code",
   "execution_count": 44,
   "metadata": {},
   "outputs": [
    {
     "data": {
      "text/html": [
       "<div>\n",
       "<style scoped>\n",
       "    .dataframe tbody tr th:only-of-type {\n",
       "        vertical-align: middle;\n",
       "    }\n",
       "\n",
       "    .dataframe tbody tr th {\n",
       "        vertical-align: top;\n",
       "    }\n",
       "\n",
       "    .dataframe thead th {\n",
       "        text-align: right;\n",
       "    }\n",
       "</style>\n",
       "<table border=\"1\" class=\"dataframe\">\n",
       "  <thead>\n",
       "    <tr style=\"text-align: right;\">\n",
       "      <th>delay_freq</th>\n",
       "      <th>Sensor ID</th>\n",
       "      <th>delay_10000_freq_lower</th>\n",
       "      <th>delay_16800_freq_lower</th>\n",
       "      <th>delay_3000_freq_lower</th>\n",
       "      <th>delay_6000_freq_lower</th>\n",
       "      <th>delay_8000_freq_lower</th>\n",
       "    </tr>\n",
       "  </thead>\n",
       "  <tbody>\n",
       "    <tr>\n",
       "      <th>0</th>\n",
       "      <td>1</td>\n",
       "      <td>267.0</td>\n",
       "      <td>102.0</td>\n",
       "      <td>140.0</td>\n",
       "      <td>171.0</td>\n",
       "      <td>167.0</td>\n",
       "    </tr>\n",
       "    <tr>\n",
       "      <th>1</th>\n",
       "      <td>2</td>\n",
       "      <td>174.0</td>\n",
       "      <td>55.0</td>\n",
       "      <td>129.0</td>\n",
       "      <td>164.0</td>\n",
       "      <td>131.0</td>\n",
       "    </tr>\n",
       "    <tr>\n",
       "      <th>2</th>\n",
       "      <td>3</td>\n",
       "      <td>5.0</td>\n",
       "      <td>6.0</td>\n",
       "      <td>48.0</td>\n",
       "      <td>10.0</td>\n",
       "      <td>8.0</td>\n",
       "    </tr>\n",
       "    <tr>\n",
       "      <th>3</th>\n",
       "      <td>4</td>\n",
       "      <td>42.0</td>\n",
       "      <td>136.0</td>\n",
       "      <td>76.0</td>\n",
       "      <td>148.0</td>\n",
       "      <td>41.0</td>\n",
       "    </tr>\n",
       "    <tr>\n",
       "      <th>4</th>\n",
       "      <td>5</td>\n",
       "      <td>98.0</td>\n",
       "      <td>22.0</td>\n",
       "      <td>95.0</td>\n",
       "      <td>130.0</td>\n",
       "      <td>137.0</td>\n",
       "    </tr>\n",
       "  </tbody>\n",
       "</table>\n",
       "</div>"
      ],
      "text/plain": [
       "delay_freq  Sensor ID  delay_10000_freq_lower  delay_16800_freq_lower  \\\n",
       "0                   1                   267.0                   102.0   \n",
       "1                   2                   174.0                    55.0   \n",
       "2                   3                     5.0                     6.0   \n",
       "3                   4                    42.0                   136.0   \n",
       "4                   5                    98.0                    22.0   \n",
       "\n",
       "delay_freq  delay_3000_freq_lower  delay_6000_freq_lower  \\\n",
       "0                           140.0                  171.0   \n",
       "1                           129.0                  164.0   \n",
       "2                            48.0                   10.0   \n",
       "3                            76.0                  148.0   \n",
       "4                            95.0                  130.0   \n",
       "\n",
       "delay_freq  delay_8000_freq_lower  \n",
       "0                           167.0  \n",
       "1                           131.0  \n",
       "2                             8.0  \n",
       "3                            41.0  \n",
       "4                           137.0  "
      ]
     },
     "execution_count": 44,
     "metadata": {},
     "output_type": "execute_result"
    }
   ],
   "source": [
    "df_outlier_freq['delay_freq'] =  \"delay\"+ '_' + df_outlier_freq['Delay (us)'].astype(str)+'_'+\"freq\"+'_'+\"lower\"\n",
    "\n",
    "# Step 3: Pivot the table\n",
    "df_pivot_lower = df_outlier_freq.pivot(index='Sensor ID', columns='delay_freq', values='Lower Quartile Ping Count').reset_index()\n",
    "\n",
    "df_pivot_lower.head()"
   ]
  },
  {
   "cell_type": "code",
   "execution_count": 45,
   "metadata": {},
   "outputs": [
    {
     "data": {
      "text/html": [
       "<div>\n",
       "<style scoped>\n",
       "    .dataframe tbody tr th:only-of-type {\n",
       "        vertical-align: middle;\n",
       "    }\n",
       "\n",
       "    .dataframe tbody tr th {\n",
       "        vertical-align: top;\n",
       "    }\n",
       "\n",
       "    .dataframe thead th {\n",
       "        text-align: right;\n",
       "    }\n",
       "</style>\n",
       "<table border=\"1\" class=\"dataframe\">\n",
       "  <thead>\n",
       "    <tr style=\"text-align: right;\">\n",
       "      <th>delay_freq</th>\n",
       "      <th>Sensor ID</th>\n",
       "      <th>delay_10000_freq_upper</th>\n",
       "      <th>delay_16800_freq_upper</th>\n",
       "      <th>delay_3000_freq_upper</th>\n",
       "      <th>delay_6000_freq_upper</th>\n",
       "      <th>delay_8000_freq_upper</th>\n",
       "    </tr>\n",
       "  </thead>\n",
       "  <tbody>\n",
       "    <tr>\n",
       "      <th>0</th>\n",
       "      <td>1</td>\n",
       "      <td>258.0</td>\n",
       "      <td>105.0</td>\n",
       "      <td>131.0</td>\n",
       "      <td>182.0</td>\n",
       "      <td>197.0</td>\n",
       "    </tr>\n",
       "    <tr>\n",
       "      <th>1</th>\n",
       "      <td>2</td>\n",
       "      <td>172.0</td>\n",
       "      <td>59.0</td>\n",
       "      <td>143.0</td>\n",
       "      <td>194.0</td>\n",
       "      <td>145.0</td>\n",
       "    </tr>\n",
       "    <tr>\n",
       "      <th>2</th>\n",
       "      <td>3</td>\n",
       "      <td>21.0</td>\n",
       "      <td>13.0</td>\n",
       "      <td>52.0</td>\n",
       "      <td>8.0</td>\n",
       "      <td>11.0</td>\n",
       "    </tr>\n",
       "    <tr>\n",
       "      <th>3</th>\n",
       "      <td>4</td>\n",
       "      <td>57.0</td>\n",
       "      <td>127.0</td>\n",
       "      <td>90.0</td>\n",
       "      <td>150.0</td>\n",
       "      <td>49.0</td>\n",
       "    </tr>\n",
       "    <tr>\n",
       "      <th>4</th>\n",
       "      <td>5</td>\n",
       "      <td>91.0</td>\n",
       "      <td>13.0</td>\n",
       "      <td>82.0</td>\n",
       "      <td>139.0</td>\n",
       "      <td>128.0</td>\n",
       "    </tr>\n",
       "  </tbody>\n",
       "</table>\n",
       "</div>"
      ],
      "text/plain": [
       "delay_freq  Sensor ID  delay_10000_freq_upper  delay_16800_freq_upper  \\\n",
       "0                   1                   258.0                   105.0   \n",
       "1                   2                   172.0                    59.0   \n",
       "2                   3                    21.0                    13.0   \n",
       "3                   4                    57.0                   127.0   \n",
       "4                   5                    91.0                    13.0   \n",
       "\n",
       "delay_freq  delay_3000_freq_upper  delay_6000_freq_upper  \\\n",
       "0                           131.0                  182.0   \n",
       "1                           143.0                  194.0   \n",
       "2                            52.0                    8.0   \n",
       "3                            90.0                  150.0   \n",
       "4                            82.0                  139.0   \n",
       "\n",
       "delay_freq  delay_8000_freq_upper  \n",
       "0                           197.0  \n",
       "1                           145.0  \n",
       "2                            11.0  \n",
       "3                            49.0  \n",
       "4                           128.0  "
      ]
     },
     "execution_count": 45,
     "metadata": {},
     "output_type": "execute_result"
    }
   ],
   "source": [
    "df_outlier_freq['delay_freq'] =  \"delay\"+ '_' + df_outlier_freq['Delay (us)'].astype(str)+'_'+\"freq\"+'_'+\"upper\"\n",
    "\n",
    "# Step 3: Pivot the table\n",
    "df_pivot_upper = df_outlier_freq.pivot(index='Sensor ID', columns='delay_freq', values='Upper Quartile Ping Count').reset_index()\n",
    "\n",
    "df_pivot_upper.head()"
   ]
  },
  {
   "cell_type": "code",
   "execution_count": 46,
   "metadata": {},
   "outputs": [
    {
     "data": {
      "text/html": [
       "<div>\n",
       "<style scoped>\n",
       "    .dataframe tbody tr th:only-of-type {\n",
       "        vertical-align: middle;\n",
       "    }\n",
       "\n",
       "    .dataframe tbody tr th {\n",
       "        vertical-align: top;\n",
       "    }\n",
       "\n",
       "    .dataframe thead th {\n",
       "        text-align: right;\n",
       "    }\n",
       "</style>\n",
       "<table border=\"1\" class=\"dataframe\">\n",
       "  <thead>\n",
       "    <tr style=\"text-align: right;\">\n",
       "      <th>delay_freq</th>\n",
       "      <th>Sensor ID</th>\n",
       "      <th>delay_10000_freq_lower</th>\n",
       "      <th>delay_16800_freq_lower</th>\n",
       "      <th>delay_3000_freq_lower</th>\n",
       "      <th>delay_6000_freq_lower</th>\n",
       "      <th>delay_8000_freq_lower</th>\n",
       "      <th>delay_10000_freq_upper</th>\n",
       "      <th>delay_16800_freq_upper</th>\n",
       "      <th>delay_3000_freq_upper</th>\n",
       "      <th>delay_6000_freq_upper</th>\n",
       "      <th>delay_8000_freq_upper</th>\n",
       "    </tr>\n",
       "  </thead>\n",
       "  <tbody>\n",
       "    <tr>\n",
       "      <th>0</th>\n",
       "      <td>1</td>\n",
       "      <td>267</td>\n",
       "      <td>102</td>\n",
       "      <td>140</td>\n",
       "      <td>171</td>\n",
       "      <td>167</td>\n",
       "      <td>258</td>\n",
       "      <td>105</td>\n",
       "      <td>131</td>\n",
       "      <td>182</td>\n",
       "      <td>197</td>\n",
       "    </tr>\n",
       "    <tr>\n",
       "      <th>1</th>\n",
       "      <td>2</td>\n",
       "      <td>174</td>\n",
       "      <td>55</td>\n",
       "      <td>129</td>\n",
       "      <td>164</td>\n",
       "      <td>131</td>\n",
       "      <td>172</td>\n",
       "      <td>59</td>\n",
       "      <td>143</td>\n",
       "      <td>194</td>\n",
       "      <td>145</td>\n",
       "    </tr>\n",
       "    <tr>\n",
       "      <th>2</th>\n",
       "      <td>3</td>\n",
       "      <td>5</td>\n",
       "      <td>6</td>\n",
       "      <td>48</td>\n",
       "      <td>10</td>\n",
       "      <td>8</td>\n",
       "      <td>21</td>\n",
       "      <td>13</td>\n",
       "      <td>52</td>\n",
       "      <td>8</td>\n",
       "      <td>11</td>\n",
       "    </tr>\n",
       "    <tr>\n",
       "      <th>3</th>\n",
       "      <td>4</td>\n",
       "      <td>42</td>\n",
       "      <td>136</td>\n",
       "      <td>76</td>\n",
       "      <td>148</td>\n",
       "      <td>41</td>\n",
       "      <td>57</td>\n",
       "      <td>127</td>\n",
       "      <td>90</td>\n",
       "      <td>150</td>\n",
       "      <td>49</td>\n",
       "    </tr>\n",
       "    <tr>\n",
       "      <th>4</th>\n",
       "      <td>5</td>\n",
       "      <td>98</td>\n",
       "      <td>22</td>\n",
       "      <td>95</td>\n",
       "      <td>130</td>\n",
       "      <td>137</td>\n",
       "      <td>91</td>\n",
       "      <td>13</td>\n",
       "      <td>82</td>\n",
       "      <td>139</td>\n",
       "      <td>128</td>\n",
       "    </tr>\n",
       "    <tr>\n",
       "      <th>...</th>\n",
       "      <td>...</td>\n",
       "      <td>...</td>\n",
       "      <td>...</td>\n",
       "      <td>...</td>\n",
       "      <td>...</td>\n",
       "      <td>...</td>\n",
       "      <td>...</td>\n",
       "      <td>...</td>\n",
       "      <td>...</td>\n",
       "      <td>...</td>\n",
       "      <td>...</td>\n",
       "    </tr>\n",
       "    <tr>\n",
       "      <th>205</th>\n",
       "      <td>207</td>\n",
       "      <td>93</td>\n",
       "      <td>3</td>\n",
       "      <td>43</td>\n",
       "      <td>46</td>\n",
       "      <td>44</td>\n",
       "      <td>86</td>\n",
       "      <td>2</td>\n",
       "      <td>44</td>\n",
       "      <td>50</td>\n",
       "      <td>42</td>\n",
       "    </tr>\n",
       "    <tr>\n",
       "      <th>206</th>\n",
       "      <td>208</td>\n",
       "      <td>38</td>\n",
       "      <td>13</td>\n",
       "      <td>46</td>\n",
       "      <td>45</td>\n",
       "      <td>77</td>\n",
       "      <td>51</td>\n",
       "      <td>27</td>\n",
       "      <td>72</td>\n",
       "      <td>58</td>\n",
       "      <td>105</td>\n",
       "    </tr>\n",
       "    <tr>\n",
       "      <th>207</th>\n",
       "      <td>209</td>\n",
       "      <td>55</td>\n",
       "      <td>25</td>\n",
       "      <td>51</td>\n",
       "      <td>42</td>\n",
       "      <td>59</td>\n",
       "      <td>56</td>\n",
       "      <td>30</td>\n",
       "      <td>55</td>\n",
       "      <td>63</td>\n",
       "      <td>70</td>\n",
       "    </tr>\n",
       "    <tr>\n",
       "      <th>208</th>\n",
       "      <td>210</td>\n",
       "      <td>129</td>\n",
       "      <td>5</td>\n",
       "      <td>211</td>\n",
       "      <td>128</td>\n",
       "      <td>23</td>\n",
       "      <td>119</td>\n",
       "      <td>27</td>\n",
       "      <td>214</td>\n",
       "      <td>122</td>\n",
       "      <td>11</td>\n",
       "    </tr>\n",
       "    <tr>\n",
       "      <th>209</th>\n",
       "      <td>211</td>\n",
       "      <td>80</td>\n",
       "      <td>1</td>\n",
       "      <td>48</td>\n",
       "      <td>83</td>\n",
       "      <td>95</td>\n",
       "      <td>87</td>\n",
       "      <td>12</td>\n",
       "      <td>46</td>\n",
       "      <td>90</td>\n",
       "      <td>99</td>\n",
       "    </tr>\n",
       "  </tbody>\n",
       "</table>\n",
       "<p>210 rows × 11 columns</p>\n",
       "</div>"
      ],
      "text/plain": [
       "delay_freq  Sensor ID  delay_10000_freq_lower  delay_16800_freq_lower  \\\n",
       "0                   1                     267                     102   \n",
       "1                   2                     174                      55   \n",
       "2                   3                       5                       6   \n",
       "3                   4                      42                     136   \n",
       "4                   5                      98                      22   \n",
       "..                ...                     ...                     ...   \n",
       "205               207                      93                       3   \n",
       "206               208                      38                      13   \n",
       "207               209                      55                      25   \n",
       "208               210                     129                       5   \n",
       "209               211                      80                       1   \n",
       "\n",
       "delay_freq  delay_3000_freq_lower  delay_6000_freq_lower  \\\n",
       "0                             140                    171   \n",
       "1                             129                    164   \n",
       "2                              48                     10   \n",
       "3                              76                    148   \n",
       "4                              95                    130   \n",
       "..                            ...                    ...   \n",
       "205                            43                     46   \n",
       "206                            46                     45   \n",
       "207                            51                     42   \n",
       "208                           211                    128   \n",
       "209                            48                     83   \n",
       "\n",
       "delay_freq  delay_8000_freq_lower  delay_10000_freq_upper  \\\n",
       "0                             167                     258   \n",
       "1                             131                     172   \n",
       "2                               8                      21   \n",
       "3                              41                      57   \n",
       "4                             137                      91   \n",
       "..                            ...                     ...   \n",
       "205                            44                      86   \n",
       "206                            77                      51   \n",
       "207                            59                      56   \n",
       "208                            23                     119   \n",
       "209                            95                      87   \n",
       "\n",
       "delay_freq  delay_16800_freq_upper  delay_3000_freq_upper  \\\n",
       "0                              105                    131   \n",
       "1                               59                    143   \n",
       "2                               13                     52   \n",
       "3                              127                     90   \n",
       "4                               13                     82   \n",
       "..                             ...                    ...   \n",
       "205                              2                     44   \n",
       "206                             27                     72   \n",
       "207                             30                     55   \n",
       "208                             27                    214   \n",
       "209                             12                     46   \n",
       "\n",
       "delay_freq  delay_6000_freq_upper  delay_8000_freq_upper  \n",
       "0                             182                    197  \n",
       "1                             194                    145  \n",
       "2                               8                     11  \n",
       "3                             150                     49  \n",
       "4                             139                    128  \n",
       "..                            ...                    ...  \n",
       "205                            50                     42  \n",
       "206                            58                    105  \n",
       "207                            63                     70  \n",
       "208                           122                     11  \n",
       "209                            90                     99  \n",
       "\n",
       "[210 rows x 11 columns]"
      ]
     },
     "execution_count": 46,
     "metadata": {},
     "output_type": "execute_result"
    }
   ],
   "source": [
    "df_delay_freq = pd.merge(df_pivot_lower,df_pivot_upper, on='Sensor ID',how='left')\n",
    "# Replace NaN values with 0\n",
    "df_delay_freq.fillna(0, inplace=True)\n",
    "df_delay_freq = df_delay_freq.astype(int)\n",
    "\n",
    "df_delay_freq"
   ]
  },
  {
   "cell_type": "code",
   "execution_count": 47,
   "metadata": {},
   "outputs": [
    {
     "data": {
      "text/html": [
       "<div>\n",
       "<style scoped>\n",
       "    .dataframe tbody tr th:only-of-type {\n",
       "        vertical-align: middle;\n",
       "    }\n",
       "\n",
       "    .dataframe tbody tr th {\n",
       "        vertical-align: top;\n",
       "    }\n",
       "\n",
       "    .dataframe thead th {\n",
       "        text-align: right;\n",
       "    }\n",
       "</style>\n",
       "<table border=\"1\" class=\"dataframe\">\n",
       "  <thead>\n",
       "    <tr style=\"text-align: right;\">\n",
       "      <th></th>\n",
       "      <th>Sensor ID</th>\n",
       "      <th>13_10000_mean_middle</th>\n",
       "      <th>13_16800_mean_middle</th>\n",
       "      <th>13_3000_mean_middle</th>\n",
       "      <th>13_6000_mean_middle</th>\n",
       "      <th>13_8000_mean_middle</th>\n",
       "      <th>18_10000_mean_middle</th>\n",
       "      <th>18_16800_mean_middle</th>\n",
       "      <th>18_3000_mean_middle</th>\n",
       "      <th>18_6000_mean_middle</th>\n",
       "      <th>...</th>\n",
       "      <th>delay_10000_freq_lower</th>\n",
       "      <th>delay_16800_freq_lower</th>\n",
       "      <th>delay_3000_freq_lower</th>\n",
       "      <th>delay_6000_freq_lower</th>\n",
       "      <th>delay_8000_freq_lower</th>\n",
       "      <th>delay_10000_freq_upper</th>\n",
       "      <th>delay_16800_freq_upper</th>\n",
       "      <th>delay_3000_freq_upper</th>\n",
       "      <th>delay_6000_freq_upper</th>\n",
       "      <th>delay_8000_freq_upper</th>\n",
       "    </tr>\n",
       "  </thead>\n",
       "  <tbody>\n",
       "    <tr>\n",
       "      <th>0</th>\n",
       "      <td>1</td>\n",
       "      <td>827.00</td>\n",
       "      <td>827.000000</td>\n",
       "      <td>827.00</td>\n",
       "      <td>827.00</td>\n",
       "      <td>827.00</td>\n",
       "      <td>1071.000000</td>\n",
       "      <td>1069.285714</td>\n",
       "      <td>1069.240000</td>\n",
       "      <td>1069.400000</td>\n",
       "      <td>...</td>\n",
       "      <td>267</td>\n",
       "      <td>102</td>\n",
       "      <td>140</td>\n",
       "      <td>171</td>\n",
       "      <td>167</td>\n",
       "      <td>258</td>\n",
       "      <td>105</td>\n",
       "      <td>131</td>\n",
       "      <td>182</td>\n",
       "      <td>197</td>\n",
       "    </tr>\n",
       "    <tr>\n",
       "      <th>1</th>\n",
       "      <td>2</td>\n",
       "      <td>679.64</td>\n",
       "      <td>679.000000</td>\n",
       "      <td>679.00</td>\n",
       "      <td>679.00</td>\n",
       "      <td>679.00</td>\n",
       "      <td>943.000000</td>\n",
       "      <td>954.200000</td>\n",
       "      <td>967.260870</td>\n",
       "      <td>954.520000</td>\n",
       "      <td>...</td>\n",
       "      <td>174</td>\n",
       "      <td>55</td>\n",
       "      <td>129</td>\n",
       "      <td>164</td>\n",
       "      <td>131</td>\n",
       "      <td>172</td>\n",
       "      <td>59</td>\n",
       "      <td>143</td>\n",
       "      <td>194</td>\n",
       "      <td>145</td>\n",
       "    </tr>\n",
       "    <tr>\n",
       "      <th>2</th>\n",
       "      <td>3</td>\n",
       "      <td>717.88</td>\n",
       "      <td>717.727273</td>\n",
       "      <td>718.04</td>\n",
       "      <td>717.24</td>\n",
       "      <td>718.04</td>\n",
       "      <td>1029.933333</td>\n",
       "      <td>1020.920000</td>\n",
       "      <td>1007.000000</td>\n",
       "      <td>1005.960000</td>\n",
       "      <td>...</td>\n",
       "      <td>5</td>\n",
       "      <td>6</td>\n",
       "      <td>48</td>\n",
       "      <td>10</td>\n",
       "      <td>8</td>\n",
       "      <td>21</td>\n",
       "      <td>13</td>\n",
       "      <td>52</td>\n",
       "      <td>8</td>\n",
       "      <td>11</td>\n",
       "    </tr>\n",
       "    <tr>\n",
       "      <th>3</th>\n",
       "      <td>4</td>\n",
       "      <td>737.08</td>\n",
       "      <td>736.840000</td>\n",
       "      <td>737.16</td>\n",
       "      <td>736.92</td>\n",
       "      <td>736.68</td>\n",
       "      <td>1030.351351</td>\n",
       "      <td>1031.000000</td>\n",
       "      <td>1028.840000</td>\n",
       "      <td>1087.000000</td>\n",
       "      <td>...</td>\n",
       "      <td>42</td>\n",
       "      <td>136</td>\n",
       "      <td>76</td>\n",
       "      <td>148</td>\n",
       "      <td>41</td>\n",
       "      <td>57</td>\n",
       "      <td>127</td>\n",
       "      <td>90</td>\n",
       "      <td>150</td>\n",
       "      <td>49</td>\n",
       "    </tr>\n",
       "    <tr>\n",
       "      <th>4</th>\n",
       "      <td>5</td>\n",
       "      <td>743.00</td>\n",
       "      <td>742.894737</td>\n",
       "      <td>741.88</td>\n",
       "      <td>743.00</td>\n",
       "      <td>743.00</td>\n",
       "      <td>1046.102041</td>\n",
       "      <td>1045.697674</td>\n",
       "      <td>1047.244898</td>\n",
       "      <td>1046.288889</td>\n",
       "      <td>...</td>\n",
       "      <td>98</td>\n",
       "      <td>22</td>\n",
       "      <td>95</td>\n",
       "      <td>130</td>\n",
       "      <td>137</td>\n",
       "      <td>91</td>\n",
       "      <td>13</td>\n",
       "      <td>82</td>\n",
       "      <td>139</td>\n",
       "      <td>128</td>\n",
       "    </tr>\n",
       "  </tbody>\n",
       "</table>\n",
       "<p>5 rows × 148 columns</p>\n",
       "</div>"
      ],
      "text/plain": [
       "   Sensor ID  13_10000_mean_middle  13_16800_mean_middle  13_3000_mean_middle  \\\n",
       "0          1                827.00            827.000000               827.00   \n",
       "1          2                679.64            679.000000               679.00   \n",
       "2          3                717.88            717.727273               718.04   \n",
       "3          4                737.08            736.840000               737.16   \n",
       "4          5                743.00            742.894737               741.88   \n",
       "\n",
       "   13_6000_mean_middle  13_8000_mean_middle  18_10000_mean_middle  \\\n",
       "0               827.00               827.00           1071.000000   \n",
       "1               679.00               679.00            943.000000   \n",
       "2               717.24               718.04           1029.933333   \n",
       "3               736.92               736.68           1030.351351   \n",
       "4               743.00               743.00           1046.102041   \n",
       "\n",
       "   18_16800_mean_middle  18_3000_mean_middle  18_6000_mean_middle  ...  \\\n",
       "0           1069.285714          1069.240000          1069.400000  ...   \n",
       "1            954.200000           967.260870           954.520000  ...   \n",
       "2           1020.920000          1007.000000          1005.960000  ...   \n",
       "3           1031.000000          1028.840000          1087.000000  ...   \n",
       "4           1045.697674          1047.244898          1046.288889  ...   \n",
       "\n",
       "   delay_10000_freq_lower  delay_16800_freq_lower  delay_3000_freq_lower  \\\n",
       "0                     267                     102                    140   \n",
       "1                     174                      55                    129   \n",
       "2                       5                       6                     48   \n",
       "3                      42                     136                     76   \n",
       "4                      98                      22                     95   \n",
       "\n",
       "   delay_6000_freq_lower  delay_8000_freq_lower  delay_10000_freq_upper  \\\n",
       "0                    171                    167                     258   \n",
       "1                    164                    131                     172   \n",
       "2                     10                      8                      21   \n",
       "3                    148                     41                      57   \n",
       "4                    130                    137                      91   \n",
       "\n",
       "   delay_16800_freq_upper  delay_3000_freq_upper  delay_6000_freq_upper  \\\n",
       "0                     105                    131                    182   \n",
       "1                      59                    143                    194   \n",
       "2                      13                     52                      8   \n",
       "3                     127                     90                    150   \n",
       "4                      13                     82                    139   \n",
       "\n",
       "   delay_8000_freq_upper  \n",
       "0                    197  \n",
       "1                    145  \n",
       "2                     11  \n",
       "3                     49  \n",
       "4                    128  \n",
       "\n",
       "[5 rows x 148 columns]"
      ]
     },
     "execution_count": 47,
     "metadata": {},
     "output_type": "execute_result"
    }
   ],
   "source": [
    "# Merge the unique categorical values DataFrame with the original data on 'Sensor ID'\n",
    "df_all = pd.merge(df_all, df_delay_freq, on='Sensor ID', how='left')\n",
    "df_all.head()"
   ]
  },
  {
   "cell_type": "markdown",
   "metadata": {},
   "source": [
    "# Add Variability (Feature Engineering)"
   ]
  },
  {
   "cell_type": "code",
   "execution_count": 48,
   "metadata": {},
   "outputs": [],
   "source": [
    "\n",
    "def create_range_delay_feature_variability(df_quartile,bound):\n",
    "    # Step 1: Group and calculate mean\n",
    "    df_grouped = df_quartile.groupby(['Sensor ID', 'Range (cm)', 'Delay (us)'])['Ping Time (us)'].var().reset_index()\n",
    "\n",
    "    # Step 2: Create `range_delay` column\n",
    "    df_grouped['range_delay_var'] = df_grouped['Range (cm)'].astype(str) + '_' + df_grouped['Delay (us)'].astype(str)+'_'+'var'+'_'+bound\n",
    "\n",
    "    # Step 3: Pivot the table\n",
    "    df_pivot = df_grouped.pivot(index='Sensor ID', columns='range_delay_var', values='Ping Time (us)').reset_index()\n",
    "    \n",
    "    return df_pivot\n",
    "\n",
    "\n",
    "def feature_engineering_quartile_var(df):\n",
    "    df_middle_quartile, df_lower_quartile, df_upper_quartile = split_quartiles(df)\n",
    "    df_range_delay_middle = create_range_delay_feature_variability(df_middle_quartile,\"middle\")\n",
    "    df_range_delay_lower = create_range_delay_feature_variability(df_lower_quartile,\"lower\")\n",
    "    df_range_delay_upper = create_range_delay_feature_variability(df_upper_quartile,\"upper\")\n",
    "\n",
    "    # List of DataFrames\n",
    "    df_pivots = [df_range_delay_middle, df_range_delay_lower, df_range_delay_upper]\n",
    "\n",
    "    # Initialize the merged DataFrame with the first DataFrame in the list\n",
    "    df_range_delay_all = df_pivots[0]\n",
    "\n",
    "    # Iteratively merge each DataFrame in the list\n",
    "    for df in df_pivots[1:]:\n",
    "        df_range_delay_all = df_range_delay_all.merge(df, on='Sensor ID')\n",
    "        \n",
    "    # Replace all NaN values with 0 in the merged DataFrame\n",
    "    df_range_delay_all.fillna(0, inplace=True)\n",
    "\n",
    "    return df_range_delay_all, df_range_delay_middle, df_range_delay_lower,df_range_delay_upper\n",
    "    \n",
    "\n",
    "df_range_delay_var_all,df_range_delay_var_middle, df_range_delay_var_lower,df_range_var_delay_upper = feature_engineering_quartile_var(df_data_v4_1_1)\n"
   ]
  },
  {
   "cell_type": "code",
   "execution_count": 49,
   "metadata": {},
   "outputs": [
    {
     "data": {
      "text/html": [
       "<div>\n",
       "<style scoped>\n",
       "    .dataframe tbody tr th:only-of-type {\n",
       "        vertical-align: middle;\n",
       "    }\n",
       "\n",
       "    .dataframe tbody tr th {\n",
       "        vertical-align: top;\n",
       "    }\n",
       "\n",
       "    .dataframe thead th {\n",
       "        text-align: right;\n",
       "    }\n",
       "</style>\n",
       "<table border=\"1\" class=\"dataframe\">\n",
       "  <thead>\n",
       "    <tr style=\"text-align: right;\">\n",
       "      <th>range_delay_var</th>\n",
       "      <th>Sensor ID</th>\n",
       "      <th>13_10000_var_middle</th>\n",
       "      <th>13_16800_var_middle</th>\n",
       "      <th>13_3000_var_middle</th>\n",
       "      <th>13_6000_var_middle</th>\n",
       "      <th>13_8000_var_middle</th>\n",
       "      <th>18_10000_var_middle</th>\n",
       "      <th>18_16800_var_middle</th>\n",
       "      <th>18_3000_var_middle</th>\n",
       "      <th>18_6000_var_middle</th>\n",
       "      <th>...</th>\n",
       "      <th>48_10000_var_upper</th>\n",
       "      <th>48_16800_var_upper</th>\n",
       "      <th>48_3000_var_upper</th>\n",
       "      <th>48_6000_var_upper</th>\n",
       "      <th>48_8000_var_upper</th>\n",
       "      <th>53_10000_var_upper</th>\n",
       "      <th>53_16800_var_upper</th>\n",
       "      <th>53_3000_var_upper</th>\n",
       "      <th>53_6000_var_upper</th>\n",
       "      <th>53_8000_var_upper</th>\n",
       "    </tr>\n",
       "  </thead>\n",
       "  <tbody>\n",
       "    <tr>\n",
       "      <th>0</th>\n",
       "      <td>1</td>\n",
       "      <td>0.000000</td>\n",
       "      <td>0.000000</td>\n",
       "      <td>0.000000</td>\n",
       "      <td>0.000000</td>\n",
       "      <td>0.000000</td>\n",
       "      <td>0.000000</td>\n",
       "      <td>5.333333</td>\n",
       "      <td>8.594286</td>\n",
       "      <td>6.530612</td>\n",
       "      <td>...</td>\n",
       "      <td>0.000000</td>\n",
       "      <td>0.0</td>\n",
       "      <td>172.8</td>\n",
       "      <td>288.000000</td>\n",
       "      <td>165.333333</td>\n",
       "      <td>1.928118</td>\n",
       "      <td>0.0</td>\n",
       "      <td>1.616162</td>\n",
       "      <td>137.018182</td>\n",
       "      <td>362.975845</td>\n",
       "    </tr>\n",
       "    <tr>\n",
       "      <th>1</th>\n",
       "      <td>2</td>\n",
       "      <td>5.459592</td>\n",
       "      <td>0.000000</td>\n",
       "      <td>0.000000</td>\n",
       "      <td>0.000000</td>\n",
       "      <td>0.000000</td>\n",
       "      <td>0.000000</td>\n",
       "      <td>189.387755</td>\n",
       "      <td>7.397101</td>\n",
       "      <td>164.336327</td>\n",
       "      <td>...</td>\n",
       "      <td>36.521739</td>\n",
       "      <td>0.0</td>\n",
       "      <td>0.0</td>\n",
       "      <td>0.000000</td>\n",
       "      <td>11.636364</td>\n",
       "      <td>0.000000</td>\n",
       "      <td>144840.0</td>\n",
       "      <td>0.000000</td>\n",
       "      <td>4.004430</td>\n",
       "      <td>0.000000</td>\n",
       "    </tr>\n",
       "    <tr>\n",
       "      <th>2</th>\n",
       "      <td>3</td>\n",
       "      <td>4.597551</td>\n",
       "      <td>5.040169</td>\n",
       "      <td>4.937143</td>\n",
       "      <td>6.635102</td>\n",
       "      <td>6.243265</td>\n",
       "      <td>4.654545</td>\n",
       "      <td>136.646531</td>\n",
       "      <td>0.000000</td>\n",
       "      <td>7.712653</td>\n",
       "      <td>...</td>\n",
       "      <td>0.000000</td>\n",
       "      <td>0.0</td>\n",
       "      <td>0.0</td>\n",
       "      <td>0.000000</td>\n",
       "      <td>0.000000</td>\n",
       "      <td>0.000000</td>\n",
       "      <td>0.0</td>\n",
       "      <td>0.000000</td>\n",
       "      <td>0.000000</td>\n",
       "      <td>0.000000</td>\n",
       "    </tr>\n",
       "    <tr>\n",
       "      <th>3</th>\n",
       "      <td>4</td>\n",
       "      <td>4.075102</td>\n",
       "      <td>6.014694</td>\n",
       "      <td>5.361633</td>\n",
       "      <td>5.381224</td>\n",
       "      <td>5.936327</td>\n",
       "      <td>3.123123</td>\n",
       "      <td>0.000000</td>\n",
       "      <td>6.014694</td>\n",
       "      <td>35.096774</td>\n",
       "      <td>...</td>\n",
       "      <td>0.000000</td>\n",
       "      <td>0.0</td>\n",
       "      <td>0.0</td>\n",
       "      <td>1.560976</td>\n",
       "      <td>0.000000</td>\n",
       "      <td>3.069767</td>\n",
       "      <td>0.0</td>\n",
       "      <td>3.295681</td>\n",
       "      <td>2.923588</td>\n",
       "      <td>3.295681</td>\n",
       "    </tr>\n",
       "    <tr>\n",
       "      <th>4</th>\n",
       "      <td>5</td>\n",
       "      <td>0.000000</td>\n",
       "      <td>6.475107</td>\n",
       "      <td>5.250612</td>\n",
       "      <td>0.000000</td>\n",
       "      <td>0.000000</td>\n",
       "      <td>8.843537</td>\n",
       "      <td>8.168328</td>\n",
       "      <td>8.272109</td>\n",
       "      <td>5.301010</td>\n",
       "      <td>...</td>\n",
       "      <td>0.000000</td>\n",
       "      <td>0.0</td>\n",
       "      <td>0.0</td>\n",
       "      <td>0.000000</td>\n",
       "      <td>0.000000</td>\n",
       "      <td>0.000000</td>\n",
       "      <td>0.0</td>\n",
       "      <td>0.000000</td>\n",
       "      <td>0.000000</td>\n",
       "      <td>0.000000</td>\n",
       "    </tr>\n",
       "  </tbody>\n",
       "</table>\n",
       "<p>5 rows × 136 columns</p>\n",
       "</div>"
      ],
      "text/plain": [
       "range_delay_var  Sensor ID  13_10000_var_middle  13_16800_var_middle  \\\n",
       "0                        1             0.000000             0.000000   \n",
       "1                        2             5.459592             0.000000   \n",
       "2                        3             4.597551             5.040169   \n",
       "3                        4             4.075102             6.014694   \n",
       "4                        5             0.000000             6.475107   \n",
       "\n",
       "range_delay_var  13_3000_var_middle  13_6000_var_middle  13_8000_var_middle  \\\n",
       "0                          0.000000            0.000000            0.000000   \n",
       "1                          0.000000            0.000000            0.000000   \n",
       "2                          4.937143            6.635102            6.243265   \n",
       "3                          5.361633            5.381224            5.936327   \n",
       "4                          5.250612            0.000000            0.000000   \n",
       "\n",
       "range_delay_var  18_10000_var_middle  18_16800_var_middle  18_3000_var_middle  \\\n",
       "0                           0.000000             5.333333            8.594286   \n",
       "1                           0.000000           189.387755            7.397101   \n",
       "2                           4.654545           136.646531            0.000000   \n",
       "3                           3.123123             0.000000            6.014694   \n",
       "4                           8.843537             8.168328            8.272109   \n",
       "\n",
       "range_delay_var  18_6000_var_middle  ...  48_10000_var_upper  \\\n",
       "0                          6.530612  ...            0.000000   \n",
       "1                        164.336327  ...           36.521739   \n",
       "2                          7.712653  ...            0.000000   \n",
       "3                         35.096774  ...            0.000000   \n",
       "4                          5.301010  ...            0.000000   \n",
       "\n",
       "range_delay_var  48_16800_var_upper  48_3000_var_upper  48_6000_var_upper  \\\n",
       "0                               0.0              172.8         288.000000   \n",
       "1                               0.0                0.0           0.000000   \n",
       "2                               0.0                0.0           0.000000   \n",
       "3                               0.0                0.0           1.560976   \n",
       "4                               0.0                0.0           0.000000   \n",
       "\n",
       "range_delay_var  48_8000_var_upper  53_10000_var_upper  53_16800_var_upper  \\\n",
       "0                       165.333333            1.928118                 0.0   \n",
       "1                        11.636364            0.000000            144840.0   \n",
       "2                         0.000000            0.000000                 0.0   \n",
       "3                         0.000000            3.069767                 0.0   \n",
       "4                         0.000000            0.000000                 0.0   \n",
       "\n",
       "range_delay_var  53_3000_var_upper  53_6000_var_upper  53_8000_var_upper  \n",
       "0                         1.616162         137.018182         362.975845  \n",
       "1                         0.000000           4.004430           0.000000  \n",
       "2                         0.000000           0.000000           0.000000  \n",
       "3                         3.295681           2.923588           3.295681  \n",
       "4                         0.000000           0.000000           0.000000  \n",
       "\n",
       "[5 rows x 136 columns]"
      ]
     },
     "execution_count": 49,
     "metadata": {},
     "output_type": "execute_result"
    }
   ],
   "source": [
    "df_range_delay_var_all.head()"
   ]
  },
  {
   "cell_type": "code",
   "execution_count": 50,
   "metadata": {},
   "outputs": [
    {
     "data": {
      "text/html": [
       "<div>\n",
       "<style scoped>\n",
       "    .dataframe tbody tr th:only-of-type {\n",
       "        vertical-align: middle;\n",
       "    }\n",
       "\n",
       "    .dataframe tbody tr th {\n",
       "        vertical-align: top;\n",
       "    }\n",
       "\n",
       "    .dataframe thead th {\n",
       "        text-align: right;\n",
       "    }\n",
       "</style>\n",
       "<table border=\"1\" class=\"dataframe\">\n",
       "  <thead>\n",
       "    <tr style=\"text-align: right;\">\n",
       "      <th></th>\n",
       "      <th>Sensor ID</th>\n",
       "      <th>13_10000_mean_middle</th>\n",
       "      <th>13_16800_mean_middle</th>\n",
       "      <th>13_3000_mean_middle</th>\n",
       "      <th>13_6000_mean_middle</th>\n",
       "      <th>13_8000_mean_middle</th>\n",
       "      <th>18_10000_mean_middle</th>\n",
       "      <th>18_16800_mean_middle</th>\n",
       "      <th>18_3000_mean_middle</th>\n",
       "      <th>18_6000_mean_middle</th>\n",
       "      <th>...</th>\n",
       "      <th>48_10000_var_upper</th>\n",
       "      <th>48_16800_var_upper</th>\n",
       "      <th>48_3000_var_upper</th>\n",
       "      <th>48_6000_var_upper</th>\n",
       "      <th>48_8000_var_upper</th>\n",
       "      <th>53_10000_var_upper</th>\n",
       "      <th>53_16800_var_upper</th>\n",
       "      <th>53_3000_var_upper</th>\n",
       "      <th>53_6000_var_upper</th>\n",
       "      <th>53_8000_var_upper</th>\n",
       "    </tr>\n",
       "  </thead>\n",
       "  <tbody>\n",
       "    <tr>\n",
       "      <th>0</th>\n",
       "      <td>1</td>\n",
       "      <td>827.00</td>\n",
       "      <td>827.000000</td>\n",
       "      <td>827.00</td>\n",
       "      <td>827.00</td>\n",
       "      <td>827.00</td>\n",
       "      <td>1071.000000</td>\n",
       "      <td>1069.285714</td>\n",
       "      <td>1069.240000</td>\n",
       "      <td>1069.400000</td>\n",
       "      <td>...</td>\n",
       "      <td>0.000000</td>\n",
       "      <td>0.0</td>\n",
       "      <td>172.8</td>\n",
       "      <td>288.000000</td>\n",
       "      <td>165.333333</td>\n",
       "      <td>1.928118</td>\n",
       "      <td>0.0</td>\n",
       "      <td>1.616162</td>\n",
       "      <td>137.018182</td>\n",
       "      <td>362.975845</td>\n",
       "    </tr>\n",
       "    <tr>\n",
       "      <th>1</th>\n",
       "      <td>2</td>\n",
       "      <td>679.64</td>\n",
       "      <td>679.000000</td>\n",
       "      <td>679.00</td>\n",
       "      <td>679.00</td>\n",
       "      <td>679.00</td>\n",
       "      <td>943.000000</td>\n",
       "      <td>954.200000</td>\n",
       "      <td>967.260870</td>\n",
       "      <td>954.520000</td>\n",
       "      <td>...</td>\n",
       "      <td>36.521739</td>\n",
       "      <td>0.0</td>\n",
       "      <td>0.0</td>\n",
       "      <td>0.000000</td>\n",
       "      <td>11.636364</td>\n",
       "      <td>0.000000</td>\n",
       "      <td>144840.0</td>\n",
       "      <td>0.000000</td>\n",
       "      <td>4.004430</td>\n",
       "      <td>0.000000</td>\n",
       "    </tr>\n",
       "    <tr>\n",
       "      <th>2</th>\n",
       "      <td>3</td>\n",
       "      <td>717.88</td>\n",
       "      <td>717.727273</td>\n",
       "      <td>718.04</td>\n",
       "      <td>717.24</td>\n",
       "      <td>718.04</td>\n",
       "      <td>1029.933333</td>\n",
       "      <td>1020.920000</td>\n",
       "      <td>1007.000000</td>\n",
       "      <td>1005.960000</td>\n",
       "      <td>...</td>\n",
       "      <td>0.000000</td>\n",
       "      <td>0.0</td>\n",
       "      <td>0.0</td>\n",
       "      <td>0.000000</td>\n",
       "      <td>0.000000</td>\n",
       "      <td>0.000000</td>\n",
       "      <td>0.0</td>\n",
       "      <td>0.000000</td>\n",
       "      <td>0.000000</td>\n",
       "      <td>0.000000</td>\n",
       "    </tr>\n",
       "    <tr>\n",
       "      <th>3</th>\n",
       "      <td>4</td>\n",
       "      <td>737.08</td>\n",
       "      <td>736.840000</td>\n",
       "      <td>737.16</td>\n",
       "      <td>736.92</td>\n",
       "      <td>736.68</td>\n",
       "      <td>1030.351351</td>\n",
       "      <td>1031.000000</td>\n",
       "      <td>1028.840000</td>\n",
       "      <td>1087.000000</td>\n",
       "      <td>...</td>\n",
       "      <td>0.000000</td>\n",
       "      <td>0.0</td>\n",
       "      <td>0.0</td>\n",
       "      <td>1.560976</td>\n",
       "      <td>0.000000</td>\n",
       "      <td>3.069767</td>\n",
       "      <td>0.0</td>\n",
       "      <td>3.295681</td>\n",
       "      <td>2.923588</td>\n",
       "      <td>3.295681</td>\n",
       "    </tr>\n",
       "    <tr>\n",
       "      <th>4</th>\n",
       "      <td>5</td>\n",
       "      <td>743.00</td>\n",
       "      <td>742.894737</td>\n",
       "      <td>741.88</td>\n",
       "      <td>743.00</td>\n",
       "      <td>743.00</td>\n",
       "      <td>1046.102041</td>\n",
       "      <td>1045.697674</td>\n",
       "      <td>1047.244898</td>\n",
       "      <td>1046.288889</td>\n",
       "      <td>...</td>\n",
       "      <td>0.000000</td>\n",
       "      <td>0.0</td>\n",
       "      <td>0.0</td>\n",
       "      <td>0.000000</td>\n",
       "      <td>0.000000</td>\n",
       "      <td>0.000000</td>\n",
       "      <td>0.0</td>\n",
       "      <td>0.000000</td>\n",
       "      <td>0.000000</td>\n",
       "      <td>0.000000</td>\n",
       "    </tr>\n",
       "  </tbody>\n",
       "</table>\n",
       "<p>5 rows × 283 columns</p>\n",
       "</div>"
      ],
      "text/plain": [
       "   Sensor ID  13_10000_mean_middle  13_16800_mean_middle  13_3000_mean_middle  \\\n",
       "0          1                827.00            827.000000               827.00   \n",
       "1          2                679.64            679.000000               679.00   \n",
       "2          3                717.88            717.727273               718.04   \n",
       "3          4                737.08            736.840000               737.16   \n",
       "4          5                743.00            742.894737               741.88   \n",
       "\n",
       "   13_6000_mean_middle  13_8000_mean_middle  18_10000_mean_middle  \\\n",
       "0               827.00               827.00           1071.000000   \n",
       "1               679.00               679.00            943.000000   \n",
       "2               717.24               718.04           1029.933333   \n",
       "3               736.92               736.68           1030.351351   \n",
       "4               743.00               743.00           1046.102041   \n",
       "\n",
       "   18_16800_mean_middle  18_3000_mean_middle  18_6000_mean_middle  ...  \\\n",
       "0           1069.285714          1069.240000          1069.400000  ...   \n",
       "1            954.200000           967.260870           954.520000  ...   \n",
       "2           1020.920000          1007.000000          1005.960000  ...   \n",
       "3           1031.000000          1028.840000          1087.000000  ...   \n",
       "4           1045.697674          1047.244898          1046.288889  ...   \n",
       "\n",
       "   48_10000_var_upper  48_16800_var_upper  48_3000_var_upper  \\\n",
       "0            0.000000                 0.0              172.8   \n",
       "1           36.521739                 0.0                0.0   \n",
       "2            0.000000                 0.0                0.0   \n",
       "3            0.000000                 0.0                0.0   \n",
       "4            0.000000                 0.0                0.0   \n",
       "\n",
       "   48_6000_var_upper  48_8000_var_upper  53_10000_var_upper  \\\n",
       "0         288.000000         165.333333            1.928118   \n",
       "1           0.000000          11.636364            0.000000   \n",
       "2           0.000000           0.000000            0.000000   \n",
       "3           1.560976           0.000000            3.069767   \n",
       "4           0.000000           0.000000            0.000000   \n",
       "\n",
       "   53_16800_var_upper  53_3000_var_upper  53_6000_var_upper  53_8000_var_upper  \n",
       "0                 0.0           1.616162         137.018182         362.975845  \n",
       "1            144840.0           0.000000           4.004430           0.000000  \n",
       "2                 0.0           0.000000           0.000000           0.000000  \n",
       "3                 0.0           3.295681           2.923588           3.295681  \n",
       "4                 0.0           0.000000           0.000000           0.000000  \n",
       "\n",
       "[5 rows x 283 columns]"
      ]
     },
     "execution_count": 50,
     "metadata": {},
     "output_type": "execute_result"
    }
   ],
   "source": [
    "# Merge the unique categorical values DataFrame with the original data on 'Sensor ID'\n",
    "df_all = pd.merge(df_all, df_range_delay_var_all, on='Sensor ID', how='left')\n",
    "df_all.head()"
   ]
  },
  {
   "cell_type": "code",
   "execution_count": 51,
   "metadata": {},
   "outputs": [
    {
     "data": {
      "text/plain": [
       "array([  1,   2,   3,   4,   5,   6,   7,   8,   9,  10,  11,  12,  13,\n",
       "        14,  15,  16,  17,  18,  19,  20,  21,  22,  23,  24,  25,  26,\n",
       "        27,  28,  29,  30,  32,  33,  34,  35,  36,  37,  38,  39,  40,\n",
       "        41,  42,  43,  44,  45,  46,  47,  48,  49,  50,  51,  52,  53,\n",
       "        54,  55,  56,  57,  58,  59,  60,  61,  62,  63,  64,  65,  66,\n",
       "        67,  68,  69,  70,  71,  72,  73,  74,  75,  76,  77,  78,  79,\n",
       "        80,  81,  82,  83,  84,  85,  86,  87,  88,  89,  90,  91,  92,\n",
       "        93,  94,  95,  96,  97,  98,  99, 100, 101, 102, 103, 104, 105,\n",
       "       106, 107, 108, 109, 110, 111, 112, 113, 114, 115, 116, 117, 118,\n",
       "       119, 120, 121, 122, 123, 124, 125, 126, 127, 128, 129, 130, 131,\n",
       "       132, 133, 134, 135, 136, 137, 138, 139, 140, 141, 142, 143, 144,\n",
       "       145, 146, 147, 148, 149, 150, 151, 152, 153, 154, 155, 156, 157,\n",
       "       158, 159, 160, 161, 162, 163, 164, 165, 166, 167, 168, 169, 170,\n",
       "       171, 172, 173, 174, 175, 176, 177, 178, 179, 180, 181, 182, 183,\n",
       "       184, 185, 186, 187, 188, 189, 190, 191, 192, 193, 194, 195, 196,\n",
       "       197, 198, 199, 200, 201, 202, 203, 204, 205, 206, 207, 208, 209,\n",
       "       210, 211], dtype=int64)"
      ]
     },
     "execution_count": 51,
     "metadata": {},
     "output_type": "execute_result"
    }
   ],
   "source": [
    "df_all[\"Sensor ID\"].unique()"
   ]
  },
  {
   "cell_type": "markdown",
   "metadata": {},
   "source": [
    "# Export data"
   ]
  },
  {
   "cell_type": "code",
   "execution_count": 52,
   "metadata": {},
   "outputs": [],
   "source": [
    "#df_all.to_csv(\"../processed_data/data_v4-1-1_feature_engineered_sensor210.csv\", index=False)"
   ]
  }
 ],
 "metadata": {
  "kernelspec": {
   "display_name": "datascience",
   "language": "python",
   "name": "python3"
  },
  "language_info": {
   "codemirror_mode": {
    "name": "ipython",
    "version": 3
   },
   "file_extension": ".py",
   "mimetype": "text/x-python",
   "name": "python",
   "nbconvert_exporter": "python",
   "pygments_lexer": "ipython3",
   "version": "3.10.13"
  }
 },
 "nbformat": 4,
 "nbformat_minor": 2
}
