{
 "cells": [
  {
   "cell_type": "markdown",
   "metadata": {},
   "source": [
    "# Ultrasonic Data Feature Engineering"
   ]
  },
  {
   "cell_type": "markdown",
   "metadata": {},
   "source": [
    "Export sensor data 1-6 and merge them and fill up NaNs"
   ]
  },
  {
   "cell_type": "code",
   "execution_count": 4,
   "metadata": {},
   "outputs": [],
   "source": [
    "import os\n",
    "import pandas as pd\n",
    "import matplotlib.pyplot as plt\n",
    "import seaborn as sns\n",
    "import plotly.express as px"
   ]
  },
  {
   "cell_type": "code",
   "execution_count": 5,
   "metadata": {},
   "outputs": [],
   "source": [
    "def get_all_files_in_directory(root_directory):\n",
    "    file_paths = []\n",
    "    for root, dirs, files in os.walk(root_directory):\n",
    "        for file in files:\n",
    "            file_paths.append(os.path.join(root, file))\n",
    "    return file_paths\n",
    "\n",
    "\n",
    "def merge_csv_files(file_paths):\n",
    "    \"\"\"\n",
    "    Merge multiple CSV files into a single DataFrame.\n",
    "\n",
    "    Parameters:\n",
    "    file_paths (list of str): List of file paths to the CSV files.\n",
    "\n",
    "    Returns:\n",
    "    DataFrame: Merged DataFrame containing data from all input CSV files.\n",
    "    \"\"\"\n",
    "    dataframes = []\n",
    "    for file in file_paths:\n",
    "        df = pd.read_csv(file)\n",
    "        dataframes.append(df)\n",
    "\n",
    "    # Concatenate all DataFrames\n",
    "    merged_df = pd.concat(dataframes, ignore_index=True)\n",
    "    \n",
    "    return merged_df"
   ]
  },
  {
   "cell_type": "markdown",
   "metadata": {},
   "source": [
    "## Import data"
   ]
  },
  {
   "cell_type": "markdown",
   "metadata": {},
   "source": [
    "Currently there are 20 sensor datas."
   ]
  },
  {
   "cell_type": "code",
   "execution_count": 6,
   "metadata": {},
   "outputs": [
    {
     "data": {
      "text/html": [
       "<div>\n",
       "<style scoped>\n",
       "    .dataframe tbody tr th:only-of-type {\n",
       "        vertical-align: middle;\n",
       "    }\n",
       "\n",
       "    .dataframe tbody tr th {\n",
       "        vertical-align: top;\n",
       "    }\n",
       "\n",
       "    .dataframe thead th {\n",
       "        text-align: right;\n",
       "    }\n",
       "</style>\n",
       "<table border=\"1\" class=\"dataframe\">\n",
       "  <thead>\n",
       "    <tr style=\"text-align: right;\">\n",
       "      <th></th>\n",
       "      <th>Trial</th>\n",
       "      <th>Ping Duration</th>\n",
       "      <th>Distance (cm)</th>\n",
       "      <th>Ping Time (us)</th>\n",
       "      <th>Delay (us)</th>\n",
       "      <th>Steps</th>\n",
       "      <th>Arduino ID</th>\n",
       "      <th>Sensor ID</th>\n",
       "      <th>Range (cm)</th>\n",
       "      <th>Sensor length (cm)</th>\n",
       "      <th>...</th>\n",
       "      <th>side a (cm)</th>\n",
       "      <th>side b (cm)</th>\n",
       "      <th>side c (cm)</th>\n",
       "      <th>Angle on YZ plane</th>\n",
       "      <th>Sensor Configuration</th>\n",
       "      <th>Sensor Angle</th>\n",
       "      <th>Surface material</th>\n",
       "      <th>Surface Length (cm)</th>\n",
       "      <th>Surface Width (cm)</th>\n",
       "      <th>side g (cm)</th>\n",
       "    </tr>\n",
       "  </thead>\n",
       "  <tbody>\n",
       "    <tr>\n",
       "      <th>0</th>\n",
       "      <td>0</td>\n",
       "      <td>1668</td>\n",
       "      <td>13.11</td>\n",
       "      <td>747</td>\n",
       "      <td>16800</td>\n",
       "      <td>10440.0</td>\n",
       "      <td>1</td>\n",
       "      <td>100</td>\n",
       "      <td>13</td>\n",
       "      <td>0.8</td>\n",
       "      <td>...</td>\n",
       "      <td>18.3</td>\n",
       "      <td>18.3</td>\n",
       "      <td>0</td>\n",
       "      <td>0</td>\n",
       "      <td>HTR</td>\n",
       "      <td>90</td>\n",
       "      <td>wood</td>\n",
       "      <td>31</td>\n",
       "      <td>30.5</td>\n",
       "      <td>NaN</td>\n",
       "    </tr>\n",
       "    <tr>\n",
       "      <th>1</th>\n",
       "      <td>1</td>\n",
       "      <td>1688</td>\n",
       "      <td>13.60</td>\n",
       "      <td>775</td>\n",
       "      <td>16800</td>\n",
       "      <td>10440.0</td>\n",
       "      <td>1</td>\n",
       "      <td>100</td>\n",
       "      <td>13</td>\n",
       "      <td>0.8</td>\n",
       "      <td>...</td>\n",
       "      <td>18.3</td>\n",
       "      <td>18.3</td>\n",
       "      <td>0</td>\n",
       "      <td>0</td>\n",
       "      <td>HTR</td>\n",
       "      <td>90</td>\n",
       "      <td>wood</td>\n",
       "      <td>31</td>\n",
       "      <td>30.5</td>\n",
       "      <td>NaN</td>\n",
       "    </tr>\n",
       "    <tr>\n",
       "      <th>2</th>\n",
       "      <td>2</td>\n",
       "      <td>1680</td>\n",
       "      <td>13.18</td>\n",
       "      <td>751</td>\n",
       "      <td>16800</td>\n",
       "      <td>10440.0</td>\n",
       "      <td>1</td>\n",
       "      <td>100</td>\n",
       "      <td>13</td>\n",
       "      <td>0.8</td>\n",
       "      <td>...</td>\n",
       "      <td>18.3</td>\n",
       "      <td>18.3</td>\n",
       "      <td>0</td>\n",
       "      <td>0</td>\n",
       "      <td>HTR</td>\n",
       "      <td>90</td>\n",
       "      <td>wood</td>\n",
       "      <td>31</td>\n",
       "      <td>30.5</td>\n",
       "      <td>NaN</td>\n",
       "    </tr>\n",
       "    <tr>\n",
       "      <th>3</th>\n",
       "      <td>3</td>\n",
       "      <td>1664</td>\n",
       "      <td>13.18</td>\n",
       "      <td>751</td>\n",
       "      <td>16800</td>\n",
       "      <td>10440.0</td>\n",
       "      <td>1</td>\n",
       "      <td>100</td>\n",
       "      <td>13</td>\n",
       "      <td>0.8</td>\n",
       "      <td>...</td>\n",
       "      <td>18.3</td>\n",
       "      <td>18.3</td>\n",
       "      <td>0</td>\n",
       "      <td>0</td>\n",
       "      <td>HTR</td>\n",
       "      <td>90</td>\n",
       "      <td>wood</td>\n",
       "      <td>31</td>\n",
       "      <td>30.5</td>\n",
       "      <td>NaN</td>\n",
       "    </tr>\n",
       "    <tr>\n",
       "      <th>4</th>\n",
       "      <td>4</td>\n",
       "      <td>1696</td>\n",
       "      <td>13.67</td>\n",
       "      <td>779</td>\n",
       "      <td>16800</td>\n",
       "      <td>10440.0</td>\n",
       "      <td>1</td>\n",
       "      <td>100</td>\n",
       "      <td>13</td>\n",
       "      <td>0.8</td>\n",
       "      <td>...</td>\n",
       "      <td>18.3</td>\n",
       "      <td>18.3</td>\n",
       "      <td>0</td>\n",
       "      <td>0</td>\n",
       "      <td>HTR</td>\n",
       "      <td>90</td>\n",
       "      <td>wood</td>\n",
       "      <td>31</td>\n",
       "      <td>30.5</td>\n",
       "      <td>NaN</td>\n",
       "    </tr>\n",
       "    <tr>\n",
       "      <th>...</th>\n",
       "      <td>...</td>\n",
       "      <td>...</td>\n",
       "      <td>...</td>\n",
       "      <td>...</td>\n",
       "      <td>...</td>\n",
       "      <td>...</td>\n",
       "      <td>...</td>\n",
       "      <td>...</td>\n",
       "      <td>...</td>\n",
       "      <td>...</td>\n",
       "      <td>...</td>\n",
       "      <td>...</td>\n",
       "      <td>...</td>\n",
       "      <td>...</td>\n",
       "      <td>...</td>\n",
       "      <td>...</td>\n",
       "      <td>...</td>\n",
       "      <td>...</td>\n",
       "      <td>...</td>\n",
       "      <td>...</td>\n",
       "      <td>...</td>\n",
       "    </tr>\n",
       "    <tr>\n",
       "      <th>218176</th>\n",
       "      <td>45</td>\n",
       "      <td>6520</td>\n",
       "      <td>52.75</td>\n",
       "      <td>3007</td>\n",
       "      <td>3000</td>\n",
       "      <td>0.0</td>\n",
       "      <td>1</td>\n",
       "      <td>99</td>\n",
       "      <td>53</td>\n",
       "      <td>0.8</td>\n",
       "      <td>...</td>\n",
       "      <td>18.3</td>\n",
       "      <td>18.3</td>\n",
       "      <td>0</td>\n",
       "      <td>0</td>\n",
       "      <td>HTR</td>\n",
       "      <td>90</td>\n",
       "      <td>wood</td>\n",
       "      <td>31</td>\n",
       "      <td>30.5</td>\n",
       "      <td>NaN</td>\n",
       "    </tr>\n",
       "    <tr>\n",
       "      <th>218177</th>\n",
       "      <td>46</td>\n",
       "      <td>6520</td>\n",
       "      <td>52.61</td>\n",
       "      <td>2999</td>\n",
       "      <td>3000</td>\n",
       "      <td>0.0</td>\n",
       "      <td>1</td>\n",
       "      <td>99</td>\n",
       "      <td>53</td>\n",
       "      <td>0.8</td>\n",
       "      <td>...</td>\n",
       "      <td>18.3</td>\n",
       "      <td>18.3</td>\n",
       "      <td>0</td>\n",
       "      <td>0</td>\n",
       "      <td>HTR</td>\n",
       "      <td>90</td>\n",
       "      <td>wood</td>\n",
       "      <td>31</td>\n",
       "      <td>30.5</td>\n",
       "      <td>NaN</td>\n",
       "    </tr>\n",
       "    <tr>\n",
       "      <th>218178</th>\n",
       "      <td>47</td>\n",
       "      <td>6544</td>\n",
       "      <td>53.04</td>\n",
       "      <td>3023</td>\n",
       "      <td>3000</td>\n",
       "      <td>0.0</td>\n",
       "      <td>1</td>\n",
       "      <td>99</td>\n",
       "      <td>53</td>\n",
       "      <td>0.8</td>\n",
       "      <td>...</td>\n",
       "      <td>18.3</td>\n",
       "      <td>18.3</td>\n",
       "      <td>0</td>\n",
       "      <td>0</td>\n",
       "      <td>HTR</td>\n",
       "      <td>90</td>\n",
       "      <td>wood</td>\n",
       "      <td>31</td>\n",
       "      <td>30.5</td>\n",
       "      <td>NaN</td>\n",
       "    </tr>\n",
       "    <tr>\n",
       "      <th>218179</th>\n",
       "      <td>48</td>\n",
       "      <td>6544</td>\n",
       "      <td>53.11</td>\n",
       "      <td>3027</td>\n",
       "      <td>3000</td>\n",
       "      <td>0.0</td>\n",
       "      <td>1</td>\n",
       "      <td>99</td>\n",
       "      <td>53</td>\n",
       "      <td>0.8</td>\n",
       "      <td>...</td>\n",
       "      <td>18.3</td>\n",
       "      <td>18.3</td>\n",
       "      <td>0</td>\n",
       "      <td>0</td>\n",
       "      <td>HTR</td>\n",
       "      <td>90</td>\n",
       "      <td>wood</td>\n",
       "      <td>31</td>\n",
       "      <td>30.5</td>\n",
       "      <td>NaN</td>\n",
       "    </tr>\n",
       "    <tr>\n",
       "      <th>218180</th>\n",
       "      <td>49</td>\n",
       "      <td>6520</td>\n",
       "      <td>52.61</td>\n",
       "      <td>2999</td>\n",
       "      <td>3000</td>\n",
       "      <td>0.0</td>\n",
       "      <td>1</td>\n",
       "      <td>99</td>\n",
       "      <td>53</td>\n",
       "      <td>0.8</td>\n",
       "      <td>...</td>\n",
       "      <td>18.3</td>\n",
       "      <td>18.3</td>\n",
       "      <td>0</td>\n",
       "      <td>0</td>\n",
       "      <td>HTR</td>\n",
       "      <td>90</td>\n",
       "      <td>wood</td>\n",
       "      <td>31</td>\n",
       "      <td>30.5</td>\n",
       "      <td>NaN</td>\n",
       "    </tr>\n",
       "  </tbody>\n",
       "</table>\n",
       "<p>218181 rows × 22 columns</p>\n",
       "</div>"
      ],
      "text/plain": [
       "        Trial  Ping Duration  Distance (cm)  Ping Time (us)  Delay (us)  \\\n",
       "0           0           1668          13.11             747       16800   \n",
       "1           1           1688          13.60             775       16800   \n",
       "2           2           1680          13.18             751       16800   \n",
       "3           3           1664          13.18             751       16800   \n",
       "4           4           1696          13.67             779       16800   \n",
       "...       ...            ...            ...             ...         ...   \n",
       "218176     45           6520          52.75            3007        3000   \n",
       "218177     46           6520          52.61            2999        3000   \n",
       "218178     47           6544          53.04            3023        3000   \n",
       "218179     48           6544          53.11            3027        3000   \n",
       "218180     49           6520          52.61            2999        3000   \n",
       "\n",
       "          Steps  Arduino ID  Sensor ID  Range (cm)  Sensor length (cm)  ...  \\\n",
       "0       10440.0           1        100          13                 0.8  ...   \n",
       "1       10440.0           1        100          13                 0.8  ...   \n",
       "2       10440.0           1        100          13                 0.8  ...   \n",
       "3       10440.0           1        100          13                 0.8  ...   \n",
       "4       10440.0           1        100          13                 0.8  ...   \n",
       "...         ...         ...        ...         ...                 ...  ...   \n",
       "218176      0.0           1         99          53                 0.8  ...   \n",
       "218177      0.0           1         99          53                 0.8  ...   \n",
       "218178      0.0           1         99          53                 0.8  ...   \n",
       "218179      0.0           1         99          53                 0.8  ...   \n",
       "218180      0.0           1         99          53                 0.8  ...   \n",
       "\n",
       "       side a (cm)  side b (cm)  side c (cm)  Angle on YZ plane  \\\n",
       "0             18.3         18.3            0                  0   \n",
       "1             18.3         18.3            0                  0   \n",
       "2             18.3         18.3            0                  0   \n",
       "3             18.3         18.3            0                  0   \n",
       "4             18.3         18.3            0                  0   \n",
       "...            ...          ...          ...                ...   \n",
       "218176        18.3         18.3            0                  0   \n",
       "218177        18.3         18.3            0                  0   \n",
       "218178        18.3         18.3            0                  0   \n",
       "218179        18.3         18.3            0                  0   \n",
       "218180        18.3         18.3            0                  0   \n",
       "\n",
       "        Sensor Configuration  Sensor Angle Surface material  \\\n",
       "0                        HTR            90             wood   \n",
       "1                        HTR            90             wood   \n",
       "2                        HTR            90             wood   \n",
       "3                        HTR            90             wood   \n",
       "4                        HTR            90             wood   \n",
       "...                      ...           ...              ...   \n",
       "218176                   HTR            90             wood   \n",
       "218177                   HTR            90             wood   \n",
       "218178                   HTR            90             wood   \n",
       "218179                   HTR            90             wood   \n",
       "218180                   HTR            90             wood   \n",
       "\n",
       "        Surface Length (cm) Surface Width (cm)  side g (cm)  \n",
       "0                        31               30.5          NaN  \n",
       "1                        31               30.5          NaN  \n",
       "2                        31               30.5          NaN  \n",
       "3                        31               30.5          NaN  \n",
       "4                        31               30.5          NaN  \n",
       "...                     ...                ...          ...  \n",
       "218176                   31               30.5          NaN  \n",
       "218177                   31               30.5          NaN  \n",
       "218178                   31               30.5          NaN  \n",
       "218179                   31               30.5          NaN  \n",
       "218180                   31               30.5          NaN  \n",
       "\n",
       "[218181 rows x 22 columns]"
      ]
     },
     "execution_count": 6,
     "metadata": {},
     "output_type": "execute_result"
    }
   ],
   "source": [
    "folder_path = '../../ultra_sonic_sensor/fully_automate/data_v4.1.1'\n",
    "file_paths = get_all_files_in_directory(folder_path)\n",
    "df_data_v4_1_1 = merge_csv_files(file_paths)\n",
    "df_data_v4_1_1"
   ]
  },
  {
   "cell_type": "markdown",
   "metadata": {},
   "source": [
    "Clean data"
   ]
  },
  {
   "cell_type": "code",
   "execution_count": 7,
   "metadata": {},
   "outputs": [],
   "source": [
    "# Step 1: Identify Columns with NaNs\n",
    "nan_columns = df_data_v4_1_1.columns[df_data_v4_1_1.isnull().any()]\n",
    "\n",
    "# Step 2: Find Mode and Replace NaNs\n",
    "for col in nan_columns:\n",
    "    if df_data_v4_1_1[col].dtype == object:  # Check if the column is categorical\n",
    "        mode_value = df_data_v4_1_1[col].mode()[0]  # Find the mode value (most frequent value)\\\n",
    "        df_data_v4_1_1[col].fillna(mode_value, inplace=True)  # Replace NaNs with the mode value\n",
    "\n",
    "df_data_v4_1_1[\"Color of sensor\"] = df_data_v4_1_1[\"Color of sensor\"].str.lower()"
   ]
  },
  {
   "cell_type": "code",
   "execution_count": 8,
   "metadata": {},
   "outputs": [],
   "source": [
    "values_to_keep = [16800,10000,8000,6000,3000]\n",
    "df_data_v4_1_1 = df_data_v4_1_1[df_data_v4_1_1[\"Delay (us)\"].isin(values_to_keep)]"
   ]
  },
  {
   "cell_type": "markdown",
   "metadata": {},
   "source": [
    "# Feature Engineering:  Add IQR Range_delay"
   ]
  },
  {
   "cell_type": "markdown",
   "metadata": {},
   "source": [
    "Helper codes"
   ]
  },
  {
   "cell_type": "code",
   "execution_count": 9,
   "metadata": {},
   "outputs": [],
   "source": [
    "def identify_and_remove_outliers(df, column):\n",
    "    Q1 = df[column].quantile(0.25)\n",
    "    Q3 = df[column].quantile(0.75)\n",
    "    IQR = Q3 - Q1\n",
    "    lower_bound = Q1 - 1.5 * IQR\n",
    "    upper_bound = Q3 + 1.5 * IQR\n",
    "    df_no_outliers = df[(df[column] >= lower_bound) & (df[column] <= upper_bound)]\n",
    "    df_outliers_lower = df[(df[column] <= lower_bound)]\n",
    "    df_outliers_upper = df[(df[column] >= upper_bound)]\n",
    "    return df_no_outliers,df_outliers_lower,df_outliers_upper\n",
    "\n",
    "def split_quartiles(df):\n",
    "    # Group the data by 'Sensor ID', 'Delay (us)', and 'Range (cm)'\n",
    "    df_copy = df.copy()\n",
    "    grouped = df_copy.groupby(['Sensor ID', 'Delay (us)', 'Range (cm)'])\n",
    "\n",
    "    # Identify and remove outliers for each group\n",
    "    middle_quartile = []\n",
    "    lower_quartile = []\n",
    "    upper_quartile = []\n",
    "\n",
    "    for name, group in grouped:\n",
    "        cleaned_group = group.copy()\n",
    "        for column in ['Ping Time (us)']:\n",
    "            middle_quartile_group,lower_quartile_group,upper_quartile_group = identify_and_remove_outliers(cleaned_group, column)\n",
    "        middle_quartile.append(middle_quartile_group)\n",
    "        lower_quartile.append(lower_quartile_group)\n",
    "        upper_quartile.append(upper_quartile_group)\n",
    "    # Combine the cleaned groups into a single DataFrame\n",
    "    df_middle_quartile= pd.concat(middle_quartile)\n",
    "    df_lower_quartile = pd.concat(lower_quartile)\n",
    "    df_upper_quartile = pd.concat(upper_quartile)\n",
    "    \n",
    "    return df_middle_quartile, df_lower_quartile, df_upper_quartile\n",
    "\n",
    "\n",
    "def create_range_delay_feature(df_quartile,bound):\n",
    "    # Step 1: Group and calculate mean\n",
    "    df_grouped = df_quartile.groupby(['Sensor ID', 'Range (cm)', 'Delay (us)'])['Ping Time (us)'].mean().reset_index()\n",
    "\n",
    "    # Step 2: Create `range_delay` column\n",
    "    df_grouped['range_delay'] = df_grouped['Range (cm)'].astype(str) + '_' + df_grouped['Delay (us)'].astype(str)+'_'+'mean'+'_'+bound\n",
    "\n",
    "    # Step 3: Pivot the table\n",
    "    df_pivot = df_grouped.pivot(index='Sensor ID', columns='range_delay', values='Ping Time (us)').reset_index()\n",
    "    \n",
    "    return df_pivot"
   ]
  },
  {
   "cell_type": "code",
   "execution_count": 10,
   "metadata": {},
   "outputs": [],
   "source": [
    "df_middle_quartile, df_lower_quartile, df_upper_quartile = split_quartiles(df_data_v4_1_1)"
   ]
  },
  {
   "cell_type": "code",
   "execution_count": 11,
   "metadata": {},
   "outputs": [
    {
     "data": {
      "text/html": [
       "<div>\n",
       "<style scoped>\n",
       "    .dataframe tbody tr th:only-of-type {\n",
       "        vertical-align: middle;\n",
       "    }\n",
       "\n",
       "    .dataframe tbody tr th {\n",
       "        vertical-align: top;\n",
       "    }\n",
       "\n",
       "    .dataframe thead th {\n",
       "        text-align: right;\n",
       "    }\n",
       "</style>\n",
       "<table border=\"1\" class=\"dataframe\">\n",
       "  <thead>\n",
       "    <tr style=\"text-align: right;\">\n",
       "      <th></th>\n",
       "      <th>Range (cm)</th>\n",
       "      <th>Delay (us)</th>\n",
       "      <th>Ping Time (us)</th>\n",
       "    </tr>\n",
       "    <tr>\n",
       "      <th>Sensor ID</th>\n",
       "      <th></th>\n",
       "      <th></th>\n",
       "      <th></th>\n",
       "    </tr>\n",
       "  </thead>\n",
       "  <tbody>\n",
       "    <tr>\n",
       "      <th>32</th>\n",
       "      <td>13</td>\n",
       "      <td>3000</td>\n",
       "      <td>765.640000</td>\n",
       "    </tr>\n",
       "    <tr>\n",
       "      <th>32</th>\n",
       "      <td>13</td>\n",
       "      <td>6000</td>\n",
       "      <td>765.560000</td>\n",
       "    </tr>\n",
       "    <tr>\n",
       "      <th>32</th>\n",
       "      <td>13</td>\n",
       "      <td>8000</td>\n",
       "      <td>766.120000</td>\n",
       "    </tr>\n",
       "    <tr>\n",
       "      <th>32</th>\n",
       "      <td>13</td>\n",
       "      <td>10000</td>\n",
       "      <td>765.626263</td>\n",
       "    </tr>\n",
       "    <tr>\n",
       "      <th>32</th>\n",
       "      <td>13</td>\n",
       "      <td>16800</td>\n",
       "      <td>765.693878</td>\n",
       "    </tr>\n",
       "    <tr>\n",
       "      <th>...</th>\n",
       "      <td>...</td>\n",
       "      <td>...</td>\n",
       "      <td>...</td>\n",
       "    </tr>\n",
       "    <tr>\n",
       "      <th>108</th>\n",
       "      <td>53</td>\n",
       "      <td>3000</td>\n",
       "      <td>3034.282051</td>\n",
       "    </tr>\n",
       "    <tr>\n",
       "      <th>108</th>\n",
       "      <td>53</td>\n",
       "      <td>6000</td>\n",
       "      <td>3043.240000</td>\n",
       "    </tr>\n",
       "    <tr>\n",
       "      <th>108</th>\n",
       "      <td>53</td>\n",
       "      <td>8000</td>\n",
       "      <td>3035.105263</td>\n",
       "    </tr>\n",
       "    <tr>\n",
       "      <th>108</th>\n",
       "      <td>53</td>\n",
       "      <td>10000</td>\n",
       "      <td>3034.794872</td>\n",
       "    </tr>\n",
       "    <tr>\n",
       "      <th>108</th>\n",
       "      <td>53</td>\n",
       "      <td>16800</td>\n",
       "      <td>3051.080000</td>\n",
       "    </tr>\n",
       "  </tbody>\n",
       "</table>\n",
       "<p>3465 rows × 3 columns</p>\n",
       "</div>"
      ],
      "text/plain": [
       "           Range (cm)  Delay (us)  Ping Time (us)\n",
       "Sensor ID                                        \n",
       "32                 13        3000      765.640000\n",
       "32                 13        6000      765.560000\n",
       "32                 13        8000      766.120000\n",
       "32                 13       10000      765.626263\n",
       "32                 13       16800      765.693878\n",
       "...               ...         ...             ...\n",
       "108                53        3000     3034.282051\n",
       "108                53        6000     3043.240000\n",
       "108                53        8000     3035.105263\n",
       "108                53       10000     3034.794872\n",
       "108                53       16800     3051.080000\n",
       "\n",
       "[3465 rows x 3 columns]"
      ]
     },
     "execution_count": 11,
     "metadata": {},
     "output_type": "execute_result"
    }
   ],
   "source": [
    "df_middle_quartile.groupby(['Sensor ID','Range (cm)', 'Delay (us)'])['Ping Time (us)'].mean().reset_index([\"Delay (us)\",\"Range (cm)\"])"
   ]
  },
  {
   "cell_type": "code",
   "execution_count": 12,
   "metadata": {},
   "outputs": [
    {
     "data": {
      "text/html": [
       "<div>\n",
       "<style scoped>\n",
       "    .dataframe tbody tr th:only-of-type {\n",
       "        vertical-align: middle;\n",
       "    }\n",
       "\n",
       "    .dataframe tbody tr th {\n",
       "        vertical-align: top;\n",
       "    }\n",
       "\n",
       "    .dataframe thead th {\n",
       "        text-align: right;\n",
       "    }\n",
       "</style>\n",
       "<table border=\"1\" class=\"dataframe\">\n",
       "  <thead>\n",
       "    <tr style=\"text-align: right;\">\n",
       "      <th>range_delay</th>\n",
       "      <th>Sensor ID</th>\n",
       "      <th>13_10000_mean_middle</th>\n",
       "      <th>13_16800_mean_middle</th>\n",
       "      <th>13_3000_mean_middle</th>\n",
       "      <th>13_6000_mean_middle</th>\n",
       "      <th>13_8000_mean_middle</th>\n",
       "      <th>18_10000_mean_middle</th>\n",
       "      <th>18_16800_mean_middle</th>\n",
       "      <th>18_3000_mean_middle</th>\n",
       "      <th>18_6000_mean_middle</th>\n",
       "      <th>...</th>\n",
       "      <th>48_10000_mean_middle</th>\n",
       "      <th>48_16800_mean_middle</th>\n",
       "      <th>48_3000_mean_middle</th>\n",
       "      <th>48_6000_mean_middle</th>\n",
       "      <th>48_8000_mean_middle</th>\n",
       "      <th>53_10000_mean_middle</th>\n",
       "      <th>53_16800_mean_middle</th>\n",
       "      <th>53_3000_mean_middle</th>\n",
       "      <th>53_6000_mean_middle</th>\n",
       "      <th>53_8000_mean_middle</th>\n",
       "    </tr>\n",
       "  </thead>\n",
       "  <tbody>\n",
       "    <tr>\n",
       "      <th>0</th>\n",
       "      <td>32</td>\n",
       "      <td>765.626263</td>\n",
       "      <td>765.693878</td>\n",
       "      <td>765.640000</td>\n",
       "      <td>765.560000</td>\n",
       "      <td>766.120000</td>\n",
       "      <td>1057.280000</td>\n",
       "      <td>821.200000</td>\n",
       "      <td>1057.626263</td>\n",
       "      <td>1057.440000</td>\n",
       "      <td>...</td>\n",
       "      <td>2765.200000</td>\n",
       "      <td>2771.200000</td>\n",
       "      <td>2765.315789</td>\n",
       "      <td>2765.520000</td>\n",
       "      <td>2765.160000</td>\n",
       "      <td>3090.111111</td>\n",
       "      <td>3088.120000</td>\n",
       "      <td>3090.480000</td>\n",
       "      <td>3089.560000</td>\n",
       "      <td>3090.000000</td>\n",
       "    </tr>\n",
       "    <tr>\n",
       "      <th>1</th>\n",
       "      <td>33</td>\n",
       "      <td>755.000000</td>\n",
       "      <td>779.530612</td>\n",
       "      <td>736.640000</td>\n",
       "      <td>779.275862</td>\n",
       "      <td>755.467532</td>\n",
       "      <td>1024.818182</td>\n",
       "      <td>1035.640000</td>\n",
       "      <td>1024.777778</td>\n",
       "      <td>1025.720000</td>\n",
       "      <td>...</td>\n",
       "      <td>2725.800000</td>\n",
       "      <td>2726.920000</td>\n",
       "      <td>2739.000000</td>\n",
       "      <td>2729.600000</td>\n",
       "      <td>2729.040000</td>\n",
       "      <td>3040.480000</td>\n",
       "      <td>3016.896907</td>\n",
       "      <td>3042.000000</td>\n",
       "      <td>3047.571429</td>\n",
       "      <td>3049.026667</td>\n",
       "    </tr>\n",
       "    <tr>\n",
       "      <th>2</th>\n",
       "      <td>34</td>\n",
       "      <td>665.680000</td>\n",
       "      <td>658.920000</td>\n",
       "      <td>675.989247</td>\n",
       "      <td>653.682353</td>\n",
       "      <td>665.240000</td>\n",
       "      <td>969.480000</td>\n",
       "      <td>969.469136</td>\n",
       "      <td>969.520000</td>\n",
       "      <td>969.585859</td>\n",
       "      <td>...</td>\n",
       "      <td>2641.160000</td>\n",
       "      <td>2640.979798</td>\n",
       "      <td>2643.360000</td>\n",
       "      <td>2642.040000</td>\n",
       "      <td>2641.480000</td>\n",
       "      <td>2941.040000</td>\n",
       "      <td>2940.920000</td>\n",
       "      <td>2944.301205</td>\n",
       "      <td>2939.960000</td>\n",
       "      <td>2948.090909</td>\n",
       "    </tr>\n",
       "    <tr>\n",
       "      <th>3</th>\n",
       "      <td>35</td>\n",
       "      <td>861.640000</td>\n",
       "      <td>861.626263</td>\n",
       "      <td>804.320000</td>\n",
       "      <td>861.840000</td>\n",
       "      <td>863.000000</td>\n",
       "      <td>1012.333333</td>\n",
       "      <td>1011.800000</td>\n",
       "      <td>1012.720000</td>\n",
       "      <td>1012.240000</td>\n",
       "      <td>...</td>\n",
       "      <td>2755.000000</td>\n",
       "      <td>2777.813187</td>\n",
       "      <td>2755.000000</td>\n",
       "      <td>2777.595745</td>\n",
       "      <td>2755.418605</td>\n",
       "      <td>3014.760000</td>\n",
       "      <td>3015.720000</td>\n",
       "      <td>3029.800000</td>\n",
       "      <td>3029.813187</td>\n",
       "      <td>3017.120000</td>\n",
       "    </tr>\n",
       "    <tr>\n",
       "      <th>4</th>\n",
       "      <td>36</td>\n",
       "      <td>743.520000</td>\n",
       "      <td>743.962025</td>\n",
       "      <td>743.360000</td>\n",
       "      <td>743.680000</td>\n",
       "      <td>743.600000</td>\n",
       "      <td>1067.000000</td>\n",
       "      <td>1054.880000</td>\n",
       "      <td>1064.494949</td>\n",
       "      <td>1067.000000</td>\n",
       "      <td>...</td>\n",
       "      <td>2770.083333</td>\n",
       "      <td>2753.960000</td>\n",
       "      <td>2763.160000</td>\n",
       "      <td>2754.680000</td>\n",
       "      <td>2769.608696</td>\n",
       "      <td>3085.712644</td>\n",
       "      <td>3077.440000</td>\n",
       "      <td>3043.560000</td>\n",
       "      <td>3047.903226</td>\n",
       "      <td>1856.680000</td>\n",
       "    </tr>\n",
       "    <tr>\n",
       "      <th>...</th>\n",
       "      <td>...</td>\n",
       "      <td>...</td>\n",
       "      <td>...</td>\n",
       "      <td>...</td>\n",
       "      <td>...</td>\n",
       "      <td>...</td>\n",
       "      <td>...</td>\n",
       "      <td>...</td>\n",
       "      <td>...</td>\n",
       "      <td>...</td>\n",
       "      <td>...</td>\n",
       "      <td>...</td>\n",
       "      <td>...</td>\n",
       "      <td>...</td>\n",
       "      <td>...</td>\n",
       "      <td>...</td>\n",
       "      <td>...</td>\n",
       "      <td>...</td>\n",
       "      <td>...</td>\n",
       "      <td>...</td>\n",
       "      <td>...</td>\n",
       "    </tr>\n",
       "    <tr>\n",
       "      <th>72</th>\n",
       "      <td>104</td>\n",
       "      <td>759.000000</td>\n",
       "      <td>759.816327</td>\n",
       "      <td>759.244898</td>\n",
       "      <td>759.000000</td>\n",
       "      <td>759.000000</td>\n",
       "      <td>1049.800000</td>\n",
       "      <td>1050.836735</td>\n",
       "      <td>1049.560000</td>\n",
       "      <td>1050.200000</td>\n",
       "      <td>...</td>\n",
       "      <td>2751.975610</td>\n",
       "      <td>2743.320000</td>\n",
       "      <td>2743.800000</td>\n",
       "      <td>2740.440000</td>\n",
       "      <td>2741.720000</td>\n",
       "      <td>3021.421053</td>\n",
       "      <td>3028.120000</td>\n",
       "      <td>3045.545455</td>\n",
       "      <td>3034.920000</td>\n",
       "      <td>3034.920000</td>\n",
       "    </tr>\n",
       "    <tr>\n",
       "      <th>73</th>\n",
       "      <td>105</td>\n",
       "      <td>712.600000</td>\n",
       "      <td>28938.660000</td>\n",
       "      <td>713.880000</td>\n",
       "      <td>713.240000</td>\n",
       "      <td>719.000000</td>\n",
       "      <td>1008.680000</td>\n",
       "      <td>1018.360000</td>\n",
       "      <td>1009.086957</td>\n",
       "      <td>1009.938776</td>\n",
       "      <td>...</td>\n",
       "      <td>2712.360000</td>\n",
       "      <td>2714.200000</td>\n",
       "      <td>2711.560000</td>\n",
       "      <td>2703.100000</td>\n",
       "      <td>2719.960000</td>\n",
       "      <td>2999.240000</td>\n",
       "      <td>3007.947368</td>\n",
       "      <td>3003.240000</td>\n",
       "      <td>2994.520000</td>\n",
       "      <td>2999.560000</td>\n",
       "    </tr>\n",
       "    <tr>\n",
       "      <th>74</th>\n",
       "      <td>106</td>\n",
       "      <td>673.122449</td>\n",
       "      <td>672.025641</td>\n",
       "      <td>672.840000</td>\n",
       "      <td>672.680000</td>\n",
       "      <td>672.120000</td>\n",
       "      <td>962.288889</td>\n",
       "      <td>941.240000</td>\n",
       "      <td>962.487179</td>\n",
       "      <td>963.000000</td>\n",
       "      <td>...</td>\n",
       "      <td>2645.916667</td>\n",
       "      <td>2589.000000</td>\n",
       "      <td>2648.666667</td>\n",
       "      <td>2670.255814</td>\n",
       "      <td>2659.880000</td>\n",
       "      <td>2957.800000</td>\n",
       "      <td>1162.750000</td>\n",
       "      <td>4235.980000</td>\n",
       "      <td>2957.829268</td>\n",
       "      <td>2956.957447</td>\n",
       "    </tr>\n",
       "    <tr>\n",
       "      <th>75</th>\n",
       "      <td>107</td>\n",
       "      <td>694.280000</td>\n",
       "      <td>686.920000</td>\n",
       "      <td>695.000000</td>\n",
       "      <td>693.480000</td>\n",
       "      <td>693.893617</td>\n",
       "      <td>987.408163</td>\n",
       "      <td>959.700000</td>\n",
       "      <td>987.000000</td>\n",
       "      <td>987.000000</td>\n",
       "      <td>...</td>\n",
       "      <td>2658.040000</td>\n",
       "      <td>2595.916667</td>\n",
       "      <td>2659.160000</td>\n",
       "      <td>2657.160000</td>\n",
       "      <td>2649.880000</td>\n",
       "      <td>2955.640000</td>\n",
       "      <td>1858.255814</td>\n",
       "      <td>2956.333333</td>\n",
       "      <td>2954.346939</td>\n",
       "      <td>2955.000000</td>\n",
       "    </tr>\n",
       "    <tr>\n",
       "      <th>76</th>\n",
       "      <td>108</td>\n",
       "      <td>751.000000</td>\n",
       "      <td>747.640000</td>\n",
       "      <td>750.102041</td>\n",
       "      <td>750.440000</td>\n",
       "      <td>750.183673</td>\n",
       "      <td>1067.000000</td>\n",
       "      <td>1074.280000</td>\n",
       "      <td>1065.880000</td>\n",
       "      <td>1065.160000</td>\n",
       "      <td>...</td>\n",
       "      <td>2753.640000</td>\n",
       "      <td>2756.600000</td>\n",
       "      <td>2752.920000</td>\n",
       "      <td>2758.040000</td>\n",
       "      <td>2759.560000</td>\n",
       "      <td>3034.794872</td>\n",
       "      <td>3051.080000</td>\n",
       "      <td>3034.282051</td>\n",
       "      <td>3043.240000</td>\n",
       "      <td>3035.105263</td>\n",
       "    </tr>\n",
       "  </tbody>\n",
       "</table>\n",
       "<p>77 rows × 46 columns</p>\n",
       "</div>"
      ],
      "text/plain": [
       "range_delay  Sensor ID  13_10000_mean_middle  13_16800_mean_middle  \\\n",
       "0                   32            765.626263            765.693878   \n",
       "1                   33            755.000000            779.530612   \n",
       "2                   34            665.680000            658.920000   \n",
       "3                   35            861.640000            861.626263   \n",
       "4                   36            743.520000            743.962025   \n",
       "..                 ...                   ...                   ...   \n",
       "72                 104            759.000000            759.816327   \n",
       "73                 105            712.600000          28938.660000   \n",
       "74                 106            673.122449            672.025641   \n",
       "75                 107            694.280000            686.920000   \n",
       "76                 108            751.000000            747.640000   \n",
       "\n",
       "range_delay  13_3000_mean_middle  13_6000_mean_middle  13_8000_mean_middle  \\\n",
       "0                     765.640000           765.560000           766.120000   \n",
       "1                     736.640000           779.275862           755.467532   \n",
       "2                     675.989247           653.682353           665.240000   \n",
       "3                     804.320000           861.840000           863.000000   \n",
       "4                     743.360000           743.680000           743.600000   \n",
       "..                           ...                  ...                  ...   \n",
       "72                    759.244898           759.000000           759.000000   \n",
       "73                    713.880000           713.240000           719.000000   \n",
       "74                    672.840000           672.680000           672.120000   \n",
       "75                    695.000000           693.480000           693.893617   \n",
       "76                    750.102041           750.440000           750.183673   \n",
       "\n",
       "range_delay  18_10000_mean_middle  18_16800_mean_middle  18_3000_mean_middle  \\\n",
       "0                     1057.280000            821.200000          1057.626263   \n",
       "1                     1024.818182           1035.640000          1024.777778   \n",
       "2                      969.480000            969.469136           969.520000   \n",
       "3                     1012.333333           1011.800000          1012.720000   \n",
       "4                     1067.000000           1054.880000          1064.494949   \n",
       "..                            ...                   ...                  ...   \n",
       "72                    1049.800000           1050.836735          1049.560000   \n",
       "73                    1008.680000           1018.360000          1009.086957   \n",
       "74                     962.288889            941.240000           962.487179   \n",
       "75                     987.408163            959.700000           987.000000   \n",
       "76                    1067.000000           1074.280000          1065.880000   \n",
       "\n",
       "range_delay  18_6000_mean_middle  ...  48_10000_mean_middle  \\\n",
       "0                    1057.440000  ...           2765.200000   \n",
       "1                    1025.720000  ...           2725.800000   \n",
       "2                     969.585859  ...           2641.160000   \n",
       "3                    1012.240000  ...           2755.000000   \n",
       "4                    1067.000000  ...           2770.083333   \n",
       "..                           ...  ...                   ...   \n",
       "72                   1050.200000  ...           2751.975610   \n",
       "73                   1009.938776  ...           2712.360000   \n",
       "74                    963.000000  ...           2645.916667   \n",
       "75                    987.000000  ...           2658.040000   \n",
       "76                   1065.160000  ...           2753.640000   \n",
       "\n",
       "range_delay  48_16800_mean_middle  48_3000_mean_middle  48_6000_mean_middle  \\\n",
       "0                     2771.200000          2765.315789          2765.520000   \n",
       "1                     2726.920000          2739.000000          2729.600000   \n",
       "2                     2640.979798          2643.360000          2642.040000   \n",
       "3                     2777.813187          2755.000000          2777.595745   \n",
       "4                     2753.960000          2763.160000          2754.680000   \n",
       "..                            ...                  ...                  ...   \n",
       "72                    2743.320000          2743.800000          2740.440000   \n",
       "73                    2714.200000          2711.560000          2703.100000   \n",
       "74                    2589.000000          2648.666667          2670.255814   \n",
       "75                    2595.916667          2659.160000          2657.160000   \n",
       "76                    2756.600000          2752.920000          2758.040000   \n",
       "\n",
       "range_delay  48_8000_mean_middle  53_10000_mean_middle  53_16800_mean_middle  \\\n",
       "0                    2765.160000           3090.111111           3088.120000   \n",
       "1                    2729.040000           3040.480000           3016.896907   \n",
       "2                    2641.480000           2941.040000           2940.920000   \n",
       "3                    2755.418605           3014.760000           3015.720000   \n",
       "4                    2769.608696           3085.712644           3077.440000   \n",
       "..                           ...                   ...                   ...   \n",
       "72                   2741.720000           3021.421053           3028.120000   \n",
       "73                   2719.960000           2999.240000           3007.947368   \n",
       "74                   2659.880000           2957.800000           1162.750000   \n",
       "75                   2649.880000           2955.640000           1858.255814   \n",
       "76                   2759.560000           3034.794872           3051.080000   \n",
       "\n",
       "range_delay  53_3000_mean_middle  53_6000_mean_middle  53_8000_mean_middle  \n",
       "0                    3090.480000          3089.560000          3090.000000  \n",
       "1                    3042.000000          3047.571429          3049.026667  \n",
       "2                    2944.301205          2939.960000          2948.090909  \n",
       "3                    3029.800000          3029.813187          3017.120000  \n",
       "4                    3043.560000          3047.903226          1856.680000  \n",
       "..                           ...                  ...                  ...  \n",
       "72                   3045.545455          3034.920000          3034.920000  \n",
       "73                   3003.240000          2994.520000          2999.560000  \n",
       "74                   4235.980000          2957.829268          2956.957447  \n",
       "75                   2956.333333          2954.346939          2955.000000  \n",
       "76                   3034.282051          3043.240000          3035.105263  \n",
       "\n",
       "[77 rows x 46 columns]"
      ]
     },
     "execution_count": 12,
     "metadata": {},
     "output_type": "execute_result"
    }
   ],
   "source": [
    "create_range_delay_feature(df_middle_quartile,\"middle\")"
   ]
  },
  {
   "cell_type": "code",
   "execution_count": 13,
   "metadata": {},
   "outputs": [],
   "source": [
    "def feature_engineering_quartile_means(df):\n",
    "    df_middle_quartile, df_lower_quartile, df_upper_quartile = split_quartiles(df)\n",
    "    df_range_delay_middle = create_range_delay_feature(df_middle_quartile,\"middle\")\n",
    "    df_range_delay_lower = create_range_delay_feature(df_lower_quartile,\"lower\")\n",
    "    df_range_delay_upper = create_range_delay_feature(df_upper_quartile,\"upper\")\n",
    "\n",
    "    # List of DataFrames\n",
    "    df_pivots = [df_range_delay_middle, df_range_delay_lower, df_range_delay_upper]\n",
    "\n",
    "    # Initialize the merged DataFrame with the first DataFrame in the list\n",
    "    df_range_delay_all = df_pivots[0]\n",
    "\n",
    "    # Iteratively merge each DataFrame in the list\n",
    "    for df in df_pivots[1:]:\n",
    "        df_range_delay_all = df_range_delay_all.merge(df, on='Sensor ID')\n",
    "        \n",
    "    # Replace all NaN values with 0 in the merged DataFrame\n",
    "    df_range_delay_all.fillna(0, inplace=True)\n",
    "\n",
    "    return df_range_delay_all, df_range_delay_middle, df_range_delay_lower,df_range_delay_upper\n",
    "    \n",
    "\n",
    "df_range_delay_all,df_range_delay_middle, df_range_delay_lower,df_range_delay_upper = feature_engineering_quartile_means(df_data_v4_1_1)\n"
   ]
  },
  {
   "cell_type": "markdown",
   "metadata": {},
   "source": [
    "The product is following now we will be conducting PCA method to reduce dimensionality"
   ]
  },
  {
   "cell_type": "code",
   "execution_count": 14,
   "metadata": {},
   "outputs": [
    {
     "data": {
      "text/html": [
       "<div>\n",
       "<style scoped>\n",
       "    .dataframe tbody tr th:only-of-type {\n",
       "        vertical-align: middle;\n",
       "    }\n",
       "\n",
       "    .dataframe tbody tr th {\n",
       "        vertical-align: top;\n",
       "    }\n",
       "\n",
       "    .dataframe thead th {\n",
       "        text-align: right;\n",
       "    }\n",
       "</style>\n",
       "<table border=\"1\" class=\"dataframe\">\n",
       "  <thead>\n",
       "    <tr style=\"text-align: right;\">\n",
       "      <th>range_delay</th>\n",
       "      <th>Sensor ID</th>\n",
       "      <th>13_10000_mean_middle</th>\n",
       "      <th>13_16800_mean_middle</th>\n",
       "      <th>13_3000_mean_middle</th>\n",
       "      <th>13_6000_mean_middle</th>\n",
       "      <th>13_8000_mean_middle</th>\n",
       "      <th>18_10000_mean_middle</th>\n",
       "      <th>18_16800_mean_middle</th>\n",
       "      <th>18_3000_mean_middle</th>\n",
       "      <th>18_6000_mean_middle</th>\n",
       "      <th>...</th>\n",
       "      <th>48_10000_mean_upper</th>\n",
       "      <th>48_16800_mean_upper</th>\n",
       "      <th>48_3000_mean_upper</th>\n",
       "      <th>48_6000_mean_upper</th>\n",
       "      <th>48_8000_mean_upper</th>\n",
       "      <th>53_10000_mean_upper</th>\n",
       "      <th>53_16800_mean_upper</th>\n",
       "      <th>53_3000_mean_upper</th>\n",
       "      <th>53_6000_mean_upper</th>\n",
       "      <th>53_8000_mean_upper</th>\n",
       "    </tr>\n",
       "  </thead>\n",
       "  <tbody>\n",
       "    <tr>\n",
       "      <th>0</th>\n",
       "      <td>32</td>\n",
       "      <td>765.626263</td>\n",
       "      <td>765.693878</td>\n",
       "      <td>765.640000</td>\n",
       "      <td>765.560000</td>\n",
       "      <td>766.120000</td>\n",
       "      <td>1057.280000</td>\n",
       "      <td>821.200000</td>\n",
       "      <td>1057.626263</td>\n",
       "      <td>1057.440000</td>\n",
       "      <td>...</td>\n",
       "      <td>0.000000</td>\n",
       "      <td>0.0</td>\n",
       "      <td>2787.833333</td>\n",
       "      <td>0.000000</td>\n",
       "      <td>0.000000</td>\n",
       "      <td>3099.000000</td>\n",
       "      <td>0.000000</td>\n",
       "      <td>0.000000</td>\n",
       "      <td>0.0</td>\n",
       "      <td>0.000000</td>\n",
       "    </tr>\n",
       "    <tr>\n",
       "      <th>1</th>\n",
       "      <td>33</td>\n",
       "      <td>755.000000</td>\n",
       "      <td>779.530612</td>\n",
       "      <td>736.640000</td>\n",
       "      <td>779.275862</td>\n",
       "      <td>755.467532</td>\n",
       "      <td>1024.818182</td>\n",
       "      <td>1035.640000</td>\n",
       "      <td>1024.777778</td>\n",
       "      <td>1025.720000</td>\n",
       "      <td>...</td>\n",
       "      <td>0.000000</td>\n",
       "      <td>0.0</td>\n",
       "      <td>2740.037037</td>\n",
       "      <td>0.000000</td>\n",
       "      <td>0.000000</td>\n",
       "      <td>0.000000</td>\n",
       "      <td>3073.666667</td>\n",
       "      <td>0.000000</td>\n",
       "      <td>3073.4</td>\n",
       "      <td>3074.000000</td>\n",
       "    </tr>\n",
       "    <tr>\n",
       "      <th>2</th>\n",
       "      <td>34</td>\n",
       "      <td>665.680000</td>\n",
       "      <td>658.920000</td>\n",
       "      <td>675.989247</td>\n",
       "      <td>653.682353</td>\n",
       "      <td>665.240000</td>\n",
       "      <td>969.480000</td>\n",
       "      <td>969.469136</td>\n",
       "      <td>969.520000</td>\n",
       "      <td>969.585859</td>\n",
       "      <td>...</td>\n",
       "      <td>0.000000</td>\n",
       "      <td>0.0</td>\n",
       "      <td>0.000000</td>\n",
       "      <td>0.000000</td>\n",
       "      <td>0.000000</td>\n",
       "      <td>0.000000</td>\n",
       "      <td>0.000000</td>\n",
       "      <td>0.000000</td>\n",
       "      <td>0.0</td>\n",
       "      <td>0.000000</td>\n",
       "    </tr>\n",
       "    <tr>\n",
       "      <th>3</th>\n",
       "      <td>35</td>\n",
       "      <td>861.640000</td>\n",
       "      <td>861.626263</td>\n",
       "      <td>804.320000</td>\n",
       "      <td>861.840000</td>\n",
       "      <td>863.000000</td>\n",
       "      <td>1012.333333</td>\n",
       "      <td>1011.800000</td>\n",
       "      <td>1012.720000</td>\n",
       "      <td>1012.240000</td>\n",
       "      <td>...</td>\n",
       "      <td>2758.652174</td>\n",
       "      <td>0.0</td>\n",
       "      <td>2756.839080</td>\n",
       "      <td>0.000000</td>\n",
       "      <td>2778.428571</td>\n",
       "      <td>0.000000</td>\n",
       "      <td>0.000000</td>\n",
       "      <td>0.000000</td>\n",
       "      <td>0.0</td>\n",
       "      <td>0.000000</td>\n",
       "    </tr>\n",
       "    <tr>\n",
       "      <th>4</th>\n",
       "      <td>36</td>\n",
       "      <td>743.520000</td>\n",
       "      <td>743.962025</td>\n",
       "      <td>743.360000</td>\n",
       "      <td>743.680000</td>\n",
       "      <td>743.600000</td>\n",
       "      <td>1067.000000</td>\n",
       "      <td>1054.880000</td>\n",
       "      <td>1064.494949</td>\n",
       "      <td>1067.000000</td>\n",
       "      <td>...</td>\n",
       "      <td>2779.000000</td>\n",
       "      <td>0.0</td>\n",
       "      <td>0.000000</td>\n",
       "      <td>0.000000</td>\n",
       "      <td>0.000000</td>\n",
       "      <td>3113.000000</td>\n",
       "      <td>0.000000</td>\n",
       "      <td>0.000000</td>\n",
       "      <td>0.0</td>\n",
       "      <td>0.000000</td>\n",
       "    </tr>\n",
       "    <tr>\n",
       "      <th>...</th>\n",
       "      <td>...</td>\n",
       "      <td>...</td>\n",
       "      <td>...</td>\n",
       "      <td>...</td>\n",
       "      <td>...</td>\n",
       "      <td>...</td>\n",
       "      <td>...</td>\n",
       "      <td>...</td>\n",
       "      <td>...</td>\n",
       "      <td>...</td>\n",
       "      <td>...</td>\n",
       "      <td>...</td>\n",
       "      <td>...</td>\n",
       "      <td>...</td>\n",
       "      <td>...</td>\n",
       "      <td>...</td>\n",
       "      <td>...</td>\n",
       "      <td>...</td>\n",
       "      <td>...</td>\n",
       "      <td>...</td>\n",
       "      <td>...</td>\n",
       "    </tr>\n",
       "    <tr>\n",
       "      <th>72</th>\n",
       "      <td>104</td>\n",
       "      <td>759.000000</td>\n",
       "      <td>759.816327</td>\n",
       "      <td>759.244898</td>\n",
       "      <td>759.000000</td>\n",
       "      <td>759.000000</td>\n",
       "      <td>1049.800000</td>\n",
       "      <td>1050.836735</td>\n",
       "      <td>1049.560000</td>\n",
       "      <td>1050.200000</td>\n",
       "      <td>...</td>\n",
       "      <td>2775.000000</td>\n",
       "      <td>0.0</td>\n",
       "      <td>0.000000</td>\n",
       "      <td>0.000000</td>\n",
       "      <td>0.000000</td>\n",
       "      <td>3048.333333</td>\n",
       "      <td>0.000000</td>\n",
       "      <td>3072.000000</td>\n",
       "      <td>0.0</td>\n",
       "      <td>0.000000</td>\n",
       "    </tr>\n",
       "    <tr>\n",
       "      <th>73</th>\n",
       "      <td>105</td>\n",
       "      <td>712.600000</td>\n",
       "      <td>28938.660000</td>\n",
       "      <td>713.880000</td>\n",
       "      <td>713.240000</td>\n",
       "      <td>719.000000</td>\n",
       "      <td>1008.680000</td>\n",
       "      <td>1018.360000</td>\n",
       "      <td>1009.086957</td>\n",
       "      <td>1009.938776</td>\n",
       "      <td>...</td>\n",
       "      <td>0.000000</td>\n",
       "      <td>0.0</td>\n",
       "      <td>0.000000</td>\n",
       "      <td>2724.333333</td>\n",
       "      <td>0.000000</td>\n",
       "      <td>0.000000</td>\n",
       "      <td>0.000000</td>\n",
       "      <td>0.000000</td>\n",
       "      <td>0.0</td>\n",
       "      <td>0.000000</td>\n",
       "    </tr>\n",
       "    <tr>\n",
       "      <th>74</th>\n",
       "      <td>106</td>\n",
       "      <td>673.122449</td>\n",
       "      <td>672.025641</td>\n",
       "      <td>672.840000</td>\n",
       "      <td>672.680000</td>\n",
       "      <td>672.120000</td>\n",
       "      <td>962.288889</td>\n",
       "      <td>941.240000</td>\n",
       "      <td>962.487179</td>\n",
       "      <td>963.000000</td>\n",
       "      <td>...</td>\n",
       "      <td>2663.000000</td>\n",
       "      <td>0.0</td>\n",
       "      <td>2671.000000</td>\n",
       "      <td>0.000000</td>\n",
       "      <td>0.000000</td>\n",
       "      <td>0.000000</td>\n",
       "      <td>2959.000000</td>\n",
       "      <td>0.000000</td>\n",
       "      <td>0.0</td>\n",
       "      <td>0.000000</td>\n",
       "    </tr>\n",
       "    <tr>\n",
       "      <th>75</th>\n",
       "      <td>107</td>\n",
       "      <td>694.280000</td>\n",
       "      <td>686.920000</td>\n",
       "      <td>695.000000</td>\n",
       "      <td>693.480000</td>\n",
       "      <td>693.893617</td>\n",
       "      <td>987.408163</td>\n",
       "      <td>959.700000</td>\n",
       "      <td>987.000000</td>\n",
       "      <td>987.000000</td>\n",
       "      <td>...</td>\n",
       "      <td>0.000000</td>\n",
       "      <td>2689.0</td>\n",
       "      <td>0.000000</td>\n",
       "      <td>0.000000</td>\n",
       "      <td>0.000000</td>\n",
       "      <td>0.000000</td>\n",
       "      <td>2526.000000</td>\n",
       "      <td>0.000000</td>\n",
       "      <td>0.0</td>\n",
       "      <td>2955.878049</td>\n",
       "    </tr>\n",
       "    <tr>\n",
       "      <th>76</th>\n",
       "      <td>108</td>\n",
       "      <td>751.000000</td>\n",
       "      <td>747.640000</td>\n",
       "      <td>750.102041</td>\n",
       "      <td>750.440000</td>\n",
       "      <td>750.183673</td>\n",
       "      <td>1067.000000</td>\n",
       "      <td>1074.280000</td>\n",
       "      <td>1065.880000</td>\n",
       "      <td>1065.160000</td>\n",
       "      <td>...</td>\n",
       "      <td>0.000000</td>\n",
       "      <td>0.0</td>\n",
       "      <td>0.000000</td>\n",
       "      <td>0.000000</td>\n",
       "      <td>0.000000</td>\n",
       "      <td>3058.636364</td>\n",
       "      <td>0.000000</td>\n",
       "      <td>3056.818182</td>\n",
       "      <td>0.0</td>\n",
       "      <td>3058.000000</td>\n",
       "    </tr>\n",
       "  </tbody>\n",
       "</table>\n",
       "<p>77 rows × 136 columns</p>\n",
       "</div>"
      ],
      "text/plain": [
       "range_delay  Sensor ID  13_10000_mean_middle  13_16800_mean_middle  \\\n",
       "0                   32            765.626263            765.693878   \n",
       "1                   33            755.000000            779.530612   \n",
       "2                   34            665.680000            658.920000   \n",
       "3                   35            861.640000            861.626263   \n",
       "4                   36            743.520000            743.962025   \n",
       "..                 ...                   ...                   ...   \n",
       "72                 104            759.000000            759.816327   \n",
       "73                 105            712.600000          28938.660000   \n",
       "74                 106            673.122449            672.025641   \n",
       "75                 107            694.280000            686.920000   \n",
       "76                 108            751.000000            747.640000   \n",
       "\n",
       "range_delay  13_3000_mean_middle  13_6000_mean_middle  13_8000_mean_middle  \\\n",
       "0                     765.640000           765.560000           766.120000   \n",
       "1                     736.640000           779.275862           755.467532   \n",
       "2                     675.989247           653.682353           665.240000   \n",
       "3                     804.320000           861.840000           863.000000   \n",
       "4                     743.360000           743.680000           743.600000   \n",
       "..                           ...                  ...                  ...   \n",
       "72                    759.244898           759.000000           759.000000   \n",
       "73                    713.880000           713.240000           719.000000   \n",
       "74                    672.840000           672.680000           672.120000   \n",
       "75                    695.000000           693.480000           693.893617   \n",
       "76                    750.102041           750.440000           750.183673   \n",
       "\n",
       "range_delay  18_10000_mean_middle  18_16800_mean_middle  18_3000_mean_middle  \\\n",
       "0                     1057.280000            821.200000          1057.626263   \n",
       "1                     1024.818182           1035.640000          1024.777778   \n",
       "2                      969.480000            969.469136           969.520000   \n",
       "3                     1012.333333           1011.800000          1012.720000   \n",
       "4                     1067.000000           1054.880000          1064.494949   \n",
       "..                            ...                   ...                  ...   \n",
       "72                    1049.800000           1050.836735          1049.560000   \n",
       "73                    1008.680000           1018.360000          1009.086957   \n",
       "74                     962.288889            941.240000           962.487179   \n",
       "75                     987.408163            959.700000           987.000000   \n",
       "76                    1067.000000           1074.280000          1065.880000   \n",
       "\n",
       "range_delay  18_6000_mean_middle  ...  48_10000_mean_upper  \\\n",
       "0                    1057.440000  ...             0.000000   \n",
       "1                    1025.720000  ...             0.000000   \n",
       "2                     969.585859  ...             0.000000   \n",
       "3                    1012.240000  ...          2758.652174   \n",
       "4                    1067.000000  ...          2779.000000   \n",
       "..                           ...  ...                  ...   \n",
       "72                   1050.200000  ...          2775.000000   \n",
       "73                   1009.938776  ...             0.000000   \n",
       "74                    963.000000  ...          2663.000000   \n",
       "75                    987.000000  ...             0.000000   \n",
       "76                   1065.160000  ...             0.000000   \n",
       "\n",
       "range_delay  48_16800_mean_upper  48_3000_mean_upper  48_6000_mean_upper  \\\n",
       "0                            0.0         2787.833333            0.000000   \n",
       "1                            0.0         2740.037037            0.000000   \n",
       "2                            0.0            0.000000            0.000000   \n",
       "3                            0.0         2756.839080            0.000000   \n",
       "4                            0.0            0.000000            0.000000   \n",
       "..                           ...                 ...                 ...   \n",
       "72                           0.0            0.000000            0.000000   \n",
       "73                           0.0            0.000000         2724.333333   \n",
       "74                           0.0         2671.000000            0.000000   \n",
       "75                        2689.0            0.000000            0.000000   \n",
       "76                           0.0            0.000000            0.000000   \n",
       "\n",
       "range_delay  48_8000_mean_upper  53_10000_mean_upper  53_16800_mean_upper  \\\n",
       "0                      0.000000          3099.000000             0.000000   \n",
       "1                      0.000000             0.000000          3073.666667   \n",
       "2                      0.000000             0.000000             0.000000   \n",
       "3                   2778.428571             0.000000             0.000000   \n",
       "4                      0.000000          3113.000000             0.000000   \n",
       "..                          ...                  ...                  ...   \n",
       "72                     0.000000          3048.333333             0.000000   \n",
       "73                     0.000000             0.000000             0.000000   \n",
       "74                     0.000000             0.000000          2959.000000   \n",
       "75                     0.000000             0.000000          2526.000000   \n",
       "76                     0.000000          3058.636364             0.000000   \n",
       "\n",
       "range_delay  53_3000_mean_upper  53_6000_mean_upper  53_8000_mean_upper  \n",
       "0                      0.000000                 0.0            0.000000  \n",
       "1                      0.000000              3073.4         3074.000000  \n",
       "2                      0.000000                 0.0            0.000000  \n",
       "3                      0.000000                 0.0            0.000000  \n",
       "4                      0.000000                 0.0            0.000000  \n",
       "..                          ...                 ...                 ...  \n",
       "72                  3072.000000                 0.0            0.000000  \n",
       "73                     0.000000                 0.0            0.000000  \n",
       "74                     0.000000                 0.0            0.000000  \n",
       "75                     0.000000                 0.0         2955.878049  \n",
       "76                  3056.818182                 0.0         3058.000000  \n",
       "\n",
       "[77 rows x 136 columns]"
      ]
     },
     "execution_count": 14,
     "metadata": {},
     "output_type": "execute_result"
    }
   ],
   "source": [
    "df_range_delay_all"
   ]
  },
  {
   "cell_type": "markdown",
   "metadata": {},
   "source": [
    "# Conduct PCA based feature importance"
   ]
  },
  {
   "cell_type": "code",
   "execution_count": 15,
   "metadata": {},
   "outputs": [
    {
     "ename": "NameError",
     "evalue": "name 'df_all' is not defined",
     "output_type": "error",
     "traceback": [
      "\u001b[1;31m---------------------------------------------------------------------------\u001b[0m",
      "\u001b[1;31mNameError\u001b[0m                                 Traceback (most recent call last)",
      "Cell \u001b[1;32mIn [15], line 37\u001b[0m\n\u001b[0;32m     34\u001b[0m     \u001b[38;5;66;03m# Display the loadings for the first few principal components\u001b[39;00m\n\u001b[0;32m     35\u001b[0m     \u001b[38;5;28;01mreturn\u001b[39;00m explained_variance, loadings, features\n\u001b[1;32m---> 37\u001b[0m explained_variance, loadings, features \u001b[38;5;241m=\u001b[39m process_PCA(df_all)\n",
      "\u001b[1;31mNameError\u001b[0m: name 'df_all' is not defined"
     ]
    }
   ],
   "source": [
    "from sklearn.preprocessing import StandardScaler\n",
    "from sklearn.decomposition import PCA\n",
    "import matplotlib.pyplot as plt\n",
    "import numpy as np\n",
    "\n",
    "def process_PCA(df):\n",
    "    # Extract features and standardize\n",
    "    features = df.drop(columns='Sensor ID')\n",
    "    sensor_ids = df['Sensor ID']\n",
    "\n",
    "    # Standardize the features\n",
    "    scaler = StandardScaler()\n",
    "    features_scaled = scaler.fit_transform(features)\n",
    "\n",
    "    # Perform PCA\n",
    "    pca = PCA()\n",
    "    principal_components = pca.fit_transform(features_scaled)\n",
    "\n",
    "    # Explained variance ratio for each principal component\n",
    "    explained_variance = pca.explained_variance_ratio_\n",
    "\n",
    "    # Plot the explained variance to see the importance of each component\n",
    "    plt.figure(figsize=(10, 6))\n",
    "    plt.plot(np.cumsum(explained_variance), marker='o', linestyle='--')\n",
    "    plt.xlabel('Number of Principal Components')\n",
    "    plt.ylabel('Cumulative Explained Variance')\n",
    "    plt.title('PCA - Cumulative Explained Variance')\n",
    "    plt.grid(True)\n",
    "    plt.show()\n",
    "\n",
    "    # Get the loadings (coefficients) of the features on the principal components\n",
    "    loadings = pca.components_\n",
    "\n",
    "    # Display the loadings for the first few principal components\n",
    "    return explained_variance, loadings, features\n",
    "\n",
    "explained_variance, loadings, features = process_PCA(df_all)\n",
    "\n"
   ]
  },
  {
   "cell_type": "code",
   "execution_count": null,
   "metadata": {},
   "outputs": [
    {
     "data": {
      "text/html": [
       "<div>\n",
       "<style scoped>\n",
       "    .dataframe tbody tr th:only-of-type {\n",
       "        vertical-align: middle;\n",
       "    }\n",
       "\n",
       "    .dataframe tbody tr th {\n",
       "        vertical-align: top;\n",
       "    }\n",
       "\n",
       "    .dataframe thead th {\n",
       "        text-align: right;\n",
       "    }\n",
       "</style>\n",
       "<table border=\"1\" class=\"dataframe\">\n",
       "  <thead>\n",
       "    <tr style=\"text-align: right;\">\n",
       "      <th></th>\n",
       "      <th>PC1</th>\n",
       "      <th>PC2</th>\n",
       "      <th>PC3</th>\n",
       "      <th>PC4</th>\n",
       "      <th>PC5</th>\n",
       "      <th>PC6</th>\n",
       "      <th>PC7</th>\n",
       "      <th>PC8</th>\n",
       "      <th>PC9</th>\n",
       "      <th>PC10</th>\n",
       "      <th>...</th>\n",
       "      <th>PC68</th>\n",
       "      <th>PC69</th>\n",
       "      <th>PC70</th>\n",
       "      <th>PC71</th>\n",
       "      <th>PC72</th>\n",
       "      <th>PC73</th>\n",
       "      <th>PC74</th>\n",
       "      <th>PC75</th>\n",
       "      <th>PC76</th>\n",
       "      <th>PC77</th>\n",
       "    </tr>\n",
       "  </thead>\n",
       "  <tbody>\n",
       "    <tr>\n",
       "      <th>13_10000_mean_middle</th>\n",
       "      <td>-0.073080</td>\n",
       "      <td>0.134947</td>\n",
       "      <td>0.069517</td>\n",
       "      <td>0.055249</td>\n",
       "      <td>0.074252</td>\n",
       "      <td>0.031227</td>\n",
       "      <td>0.020156</td>\n",
       "      <td>-0.066020</td>\n",
       "      <td>-0.010548</td>\n",
       "      <td>-0.050909</td>\n",
       "      <td>...</td>\n",
       "      <td>0.011872</td>\n",
       "      <td>0.051663</td>\n",
       "      <td>-0.000726</td>\n",
       "      <td>-0.015574</td>\n",
       "      <td>-0.031487</td>\n",
       "      <td>0.057976</td>\n",
       "      <td>0.000900</td>\n",
       "      <td>-0.061383</td>\n",
       "      <td>0.070959</td>\n",
       "      <td>-0.076786</td>\n",
       "    </tr>\n",
       "    <tr>\n",
       "      <th>13_16800_mean_middle</th>\n",
       "      <td>0.012636</td>\n",
       "      <td>-0.028459</td>\n",
       "      <td>-0.029829</td>\n",
       "      <td>-0.044694</td>\n",
       "      <td>-0.038169</td>\n",
       "      <td>-0.044346</td>\n",
       "      <td>0.231316</td>\n",
       "      <td>-0.111981</td>\n",
       "      <td>0.095856</td>\n",
       "      <td>-0.062188</td>\n",
       "      <td>...</td>\n",
       "      <td>-0.018283</td>\n",
       "      <td>0.023293</td>\n",
       "      <td>-0.003548</td>\n",
       "      <td>0.031867</td>\n",
       "      <td>0.002714</td>\n",
       "      <td>-0.007194</td>\n",
       "      <td>-0.029504</td>\n",
       "      <td>-0.005331</td>\n",
       "      <td>0.003895</td>\n",
       "      <td>0.400717</td>\n",
       "    </tr>\n",
       "    <tr>\n",
       "      <th>13_3000_mean_middle</th>\n",
       "      <td>-0.098213</td>\n",
       "      <td>-0.019286</td>\n",
       "      <td>0.032781</td>\n",
       "      <td>0.028458</td>\n",
       "      <td>0.060615</td>\n",
       "      <td>0.030234</td>\n",
       "      <td>0.023000</td>\n",
       "      <td>-0.073056</td>\n",
       "      <td>0.002115</td>\n",
       "      <td>-0.054033</td>\n",
       "      <td>...</td>\n",
       "      <td>0.008918</td>\n",
       "      <td>0.042390</td>\n",
       "      <td>0.032495</td>\n",
       "      <td>-0.077418</td>\n",
       "      <td>0.030672</td>\n",
       "      <td>-0.071739</td>\n",
       "      <td>0.022025</td>\n",
       "      <td>-0.027406</td>\n",
       "      <td>-0.048418</td>\n",
       "      <td>-0.123873</td>\n",
       "    </tr>\n",
       "    <tr>\n",
       "      <th>13_6000_mean_middle</th>\n",
       "      <td>-0.073950</td>\n",
       "      <td>0.134961</td>\n",
       "      <td>0.067486</td>\n",
       "      <td>0.060131</td>\n",
       "      <td>0.077191</td>\n",
       "      <td>0.029432</td>\n",
       "      <td>0.029317</td>\n",
       "      <td>-0.058968</td>\n",
       "      <td>-0.002851</td>\n",
       "      <td>-0.050540</td>\n",
       "      <td>...</td>\n",
       "      <td>0.022654</td>\n",
       "      <td>0.054243</td>\n",
       "      <td>-0.004501</td>\n",
       "      <td>-0.033459</td>\n",
       "      <td>-0.053248</td>\n",
       "      <td>0.009069</td>\n",
       "      <td>-0.009770</td>\n",
       "      <td>-0.006222</td>\n",
       "      <td>0.092834</td>\n",
       "      <td>0.150839</td>\n",
       "    </tr>\n",
       "    <tr>\n",
       "      <th>13_8000_mean_middle</th>\n",
       "      <td>-0.073258</td>\n",
       "      <td>0.134767</td>\n",
       "      <td>0.068311</td>\n",
       "      <td>0.059167</td>\n",
       "      <td>0.075676</td>\n",
       "      <td>0.031199</td>\n",
       "      <td>0.034631</td>\n",
       "      <td>-0.063629</td>\n",
       "      <td>-0.010008</td>\n",
       "      <td>-0.045509</td>\n",
       "      <td>...</td>\n",
       "      <td>0.025872</td>\n",
       "      <td>0.043585</td>\n",
       "      <td>-0.025946</td>\n",
       "      <td>-0.049455</td>\n",
       "      <td>-0.033704</td>\n",
       "      <td>0.046349</td>\n",
       "      <td>-0.010536</td>\n",
       "      <td>-0.061949</td>\n",
       "      <td>0.064539</td>\n",
       "      <td>0.371076</td>\n",
       "    </tr>\n",
       "    <tr>\n",
       "      <th>...</th>\n",
       "      <td>...</td>\n",
       "      <td>...</td>\n",
       "      <td>...</td>\n",
       "      <td>...</td>\n",
       "      <td>...</td>\n",
       "      <td>...</td>\n",
       "      <td>...</td>\n",
       "      <td>...</td>\n",
       "      <td>...</td>\n",
       "      <td>...</td>\n",
       "      <td>...</td>\n",
       "      <td>...</td>\n",
       "      <td>...</td>\n",
       "      <td>...</td>\n",
       "      <td>...</td>\n",
       "      <td>...</td>\n",
       "      <td>...</td>\n",
       "      <td>...</td>\n",
       "      <td>...</td>\n",
       "      <td>...</td>\n",
       "      <td>...</td>\n",
       "    </tr>\n",
       "    <tr>\n",
       "      <th>53_10000_var_upper</th>\n",
       "      <td>-0.019236</td>\n",
       "      <td>0.014073</td>\n",
       "      <td>0.060132</td>\n",
       "      <td>0.011726</td>\n",
       "      <td>0.025958</td>\n",
       "      <td>-0.035623</td>\n",
       "      <td>-0.032420</td>\n",
       "      <td>-0.050754</td>\n",
       "      <td>-0.013862</td>\n",
       "      <td>-0.006068</td>\n",
       "      <td>...</td>\n",
       "      <td>0.108454</td>\n",
       "      <td>-0.136944</td>\n",
       "      <td>-0.085643</td>\n",
       "      <td>-0.035326</td>\n",
       "      <td>0.025226</td>\n",
       "      <td>-0.094474</td>\n",
       "      <td>-0.068751</td>\n",
       "      <td>-0.094798</td>\n",
       "      <td>0.127672</td>\n",
       "      <td>0.036393</td>\n",
       "    </tr>\n",
       "    <tr>\n",
       "      <th>53_16800_var_upper</th>\n",
       "      <td>0.024915</td>\n",
       "      <td>-0.033316</td>\n",
       "      <td>0.011700</td>\n",
       "      <td>-0.022313</td>\n",
       "      <td>-0.010688</td>\n",
       "      <td>-0.042307</td>\n",
       "      <td>0.014421</td>\n",
       "      <td>0.020271</td>\n",
       "      <td>0.045668</td>\n",
       "      <td>0.016029</td>\n",
       "      <td>...</td>\n",
       "      <td>0.010978</td>\n",
       "      <td>-0.050007</td>\n",
       "      <td>-0.057212</td>\n",
       "      <td>0.064565</td>\n",
       "      <td>-0.054535</td>\n",
       "      <td>-0.008811</td>\n",
       "      <td>-0.056198</td>\n",
       "      <td>0.019902</td>\n",
       "      <td>-0.031620</td>\n",
       "      <td>0.016365</td>\n",
       "    </tr>\n",
       "    <tr>\n",
       "      <th>53_3000_var_upper</th>\n",
       "      <td>-0.020818</td>\n",
       "      <td>0.006422</td>\n",
       "      <td>0.005739</td>\n",
       "      <td>-0.060530</td>\n",
       "      <td>0.020208</td>\n",
       "      <td>0.145275</td>\n",
       "      <td>0.062826</td>\n",
       "      <td>0.000269</td>\n",
       "      <td>-0.118717</td>\n",
       "      <td>0.022295</td>\n",
       "      <td>...</td>\n",
       "      <td>-0.033249</td>\n",
       "      <td>-0.192894</td>\n",
       "      <td>0.035881</td>\n",
       "      <td>-0.055917</td>\n",
       "      <td>0.169025</td>\n",
       "      <td>0.088338</td>\n",
       "      <td>-0.052763</td>\n",
       "      <td>0.023694</td>\n",
       "      <td>-0.105017</td>\n",
       "      <td>-0.019546</td>\n",
       "    </tr>\n",
       "    <tr>\n",
       "      <th>53_6000_var_upper</th>\n",
       "      <td>-0.008849</td>\n",
       "      <td>-0.008751</td>\n",
       "      <td>-0.011726</td>\n",
       "      <td>-0.036815</td>\n",
       "      <td>0.001040</td>\n",
       "      <td>0.048908</td>\n",
       "      <td>0.102815</td>\n",
       "      <td>0.006694</td>\n",
       "      <td>0.160759</td>\n",
       "      <td>-0.045262</td>\n",
       "      <td>...</td>\n",
       "      <td>0.036244</td>\n",
       "      <td>-0.029608</td>\n",
       "      <td>0.031250</td>\n",
       "      <td>-0.195070</td>\n",
       "      <td>0.075903</td>\n",
       "      <td>-0.131439</td>\n",
       "      <td>0.002715</td>\n",
       "      <td>0.081101</td>\n",
       "      <td>0.000402</td>\n",
       "      <td>-0.090199</td>\n",
       "    </tr>\n",
       "    <tr>\n",
       "      <th>53_8000_var_upper</th>\n",
       "      <td>0.008092</td>\n",
       "      <td>-0.002380</td>\n",
       "      <td>0.056103</td>\n",
       "      <td>0.159809</td>\n",
       "      <td>-0.170157</td>\n",
       "      <td>0.086762</td>\n",
       "      <td>0.067334</td>\n",
       "      <td>0.101201</td>\n",
       "      <td>-0.018031</td>\n",
       "      <td>0.067896</td>\n",
       "      <td>...</td>\n",
       "      <td>-0.017359</td>\n",
       "      <td>-0.009366</td>\n",
       "      <td>-0.038695</td>\n",
       "      <td>-0.006491</td>\n",
       "      <td>-0.011915</td>\n",
       "      <td>0.006118</td>\n",
       "      <td>-0.000527</td>\n",
       "      <td>-0.017496</td>\n",
       "      <td>-0.044253</td>\n",
       "      <td>0.064462</td>\n",
       "    </tr>\n",
       "  </tbody>\n",
       "</table>\n",
       "<p>281 rows × 77 columns</p>\n",
       "</div>"
      ],
      "text/plain": [
       "                           PC1       PC2       PC3       PC4       PC5  \\\n",
       "13_10000_mean_middle -0.073080  0.134947  0.069517  0.055249  0.074252   \n",
       "13_16800_mean_middle  0.012636 -0.028459 -0.029829 -0.044694 -0.038169   \n",
       "13_3000_mean_middle  -0.098213 -0.019286  0.032781  0.028458  0.060615   \n",
       "13_6000_mean_middle  -0.073950  0.134961  0.067486  0.060131  0.077191   \n",
       "13_8000_mean_middle  -0.073258  0.134767  0.068311  0.059167  0.075676   \n",
       "...                        ...       ...       ...       ...       ...   \n",
       "53_10000_var_upper   -0.019236  0.014073  0.060132  0.011726  0.025958   \n",
       "53_16800_var_upper    0.024915 -0.033316  0.011700 -0.022313 -0.010688   \n",
       "53_3000_var_upper    -0.020818  0.006422  0.005739 -0.060530  0.020208   \n",
       "53_6000_var_upper    -0.008849 -0.008751 -0.011726 -0.036815  0.001040   \n",
       "53_8000_var_upper     0.008092 -0.002380  0.056103  0.159809 -0.170157   \n",
       "\n",
       "                           PC6       PC7       PC8       PC9      PC10  ...  \\\n",
       "13_10000_mean_middle  0.031227  0.020156 -0.066020 -0.010548 -0.050909  ...   \n",
       "13_16800_mean_middle -0.044346  0.231316 -0.111981  0.095856 -0.062188  ...   \n",
       "13_3000_mean_middle   0.030234  0.023000 -0.073056  0.002115 -0.054033  ...   \n",
       "13_6000_mean_middle   0.029432  0.029317 -0.058968 -0.002851 -0.050540  ...   \n",
       "13_8000_mean_middle   0.031199  0.034631 -0.063629 -0.010008 -0.045509  ...   \n",
       "...                        ...       ...       ...       ...       ...  ...   \n",
       "53_10000_var_upper   -0.035623 -0.032420 -0.050754 -0.013862 -0.006068  ...   \n",
       "53_16800_var_upper   -0.042307  0.014421  0.020271  0.045668  0.016029  ...   \n",
       "53_3000_var_upper     0.145275  0.062826  0.000269 -0.118717  0.022295  ...   \n",
       "53_6000_var_upper     0.048908  0.102815  0.006694  0.160759 -0.045262  ...   \n",
       "53_8000_var_upper     0.086762  0.067334  0.101201 -0.018031  0.067896  ...   \n",
       "\n",
       "                          PC68      PC69      PC70      PC71      PC72  \\\n",
       "13_10000_mean_middle  0.011872  0.051663 -0.000726 -0.015574 -0.031487   \n",
       "13_16800_mean_middle -0.018283  0.023293 -0.003548  0.031867  0.002714   \n",
       "13_3000_mean_middle   0.008918  0.042390  0.032495 -0.077418  0.030672   \n",
       "13_6000_mean_middle   0.022654  0.054243 -0.004501 -0.033459 -0.053248   \n",
       "13_8000_mean_middle   0.025872  0.043585 -0.025946 -0.049455 -0.033704   \n",
       "...                        ...       ...       ...       ...       ...   \n",
       "53_10000_var_upper    0.108454 -0.136944 -0.085643 -0.035326  0.025226   \n",
       "53_16800_var_upper    0.010978 -0.050007 -0.057212  0.064565 -0.054535   \n",
       "53_3000_var_upper    -0.033249 -0.192894  0.035881 -0.055917  0.169025   \n",
       "53_6000_var_upper     0.036244 -0.029608  0.031250 -0.195070  0.075903   \n",
       "53_8000_var_upper    -0.017359 -0.009366 -0.038695 -0.006491 -0.011915   \n",
       "\n",
       "                          PC73      PC74      PC75      PC76      PC77  \n",
       "13_10000_mean_middle  0.057976  0.000900 -0.061383  0.070959 -0.076786  \n",
       "13_16800_mean_middle -0.007194 -0.029504 -0.005331  0.003895  0.400717  \n",
       "13_3000_mean_middle  -0.071739  0.022025 -0.027406 -0.048418 -0.123873  \n",
       "13_6000_mean_middle   0.009069 -0.009770 -0.006222  0.092834  0.150839  \n",
       "13_8000_mean_middle   0.046349 -0.010536 -0.061949  0.064539  0.371076  \n",
       "...                        ...       ...       ...       ...       ...  \n",
       "53_10000_var_upper   -0.094474 -0.068751 -0.094798  0.127672  0.036393  \n",
       "53_16800_var_upper   -0.008811 -0.056198  0.019902 -0.031620  0.016365  \n",
       "53_3000_var_upper     0.088338 -0.052763  0.023694 -0.105017 -0.019546  \n",
       "53_6000_var_upper    -0.131439  0.002715  0.081101  0.000402 -0.090199  \n",
       "53_8000_var_upper     0.006118 -0.000527 -0.017496 -0.044253  0.064462  \n",
       "\n",
       "[281 rows x 77 columns]"
      ]
     },
     "execution_count": 240,
     "metadata": {},
     "output_type": "execute_result"
    }
   ],
   "source": [
    "# Create a DataFrame for the loadings\n",
    "loading_df = pd.DataFrame(loadings.T, columns=[f'PC{i+1}' for i in range(loadings.shape[0])], index=features.columns)\n",
    "loading_df"
   ]
  },
  {
   "cell_type": "code",
   "execution_count": null,
   "metadata": {},
   "outputs": [
    {
     "data": {
      "text/html": [
       "<div>\n",
       "<style scoped>\n",
       "    .dataframe tbody tr th:only-of-type {\n",
       "        vertical-align: middle;\n",
       "    }\n",
       "\n",
       "    .dataframe tbody tr th {\n",
       "        vertical-align: top;\n",
       "    }\n",
       "\n",
       "    .dataframe thead th {\n",
       "        text-align: right;\n",
       "    }\n",
       "</style>\n",
       "<table border=\"1\" class=\"dataframe\">\n",
       "  <thead>\n",
       "    <tr style=\"text-align: right;\">\n",
       "      <th></th>\n",
       "      <th>Feature</th>\n",
       "      <th>Importance</th>\n",
       "    </tr>\n",
       "  </thead>\n",
       "  <tbody>\n",
       "    <tr>\n",
       "      <th>243</th>\n",
       "      <td>18_3000_var_upper</td>\n",
       "      <td>2.907248</td>\n",
       "    </tr>\n",
       "    <tr>\n",
       "      <th>205</th>\n",
       "      <td>23_8000_var_lower</td>\n",
       "      <td>2.901220</td>\n",
       "    </tr>\n",
       "    <tr>\n",
       "      <th>203</th>\n",
       "      <td>23_3000_var_lower</td>\n",
       "      <td>2.900765</td>\n",
       "    </tr>\n",
       "    <tr>\n",
       "      <th>263</th>\n",
       "      <td>38_3000_var_upper</td>\n",
       "      <td>2.813803</td>\n",
       "    </tr>\n",
       "    <tr>\n",
       "      <th>154</th>\n",
       "      <td>18_6000_var_middle</td>\n",
       "      <td>2.804255</td>\n",
       "    </tr>\n",
       "    <tr>\n",
       "      <th>150</th>\n",
       "      <td>13_8000_var_middle</td>\n",
       "      <td>2.793255</td>\n",
       "    </tr>\n",
       "    <tr>\n",
       "      <th>264</th>\n",
       "      <td>38_6000_var_upper</td>\n",
       "      <td>2.781433</td>\n",
       "    </tr>\n",
       "    <tr>\n",
       "      <th>229</th>\n",
       "      <td>48_6000_var_lower</td>\n",
       "      <td>2.776967</td>\n",
       "    </tr>\n",
       "    <tr>\n",
       "      <th>215</th>\n",
       "      <td>33_8000_var_lower</td>\n",
       "      <td>2.763663</td>\n",
       "    </tr>\n",
       "    <tr>\n",
       "      <th>57</th>\n",
       "      <td>23_3000_mean_lower</td>\n",
       "      <td>2.760017</td>\n",
       "    </tr>\n",
       "    <tr>\n",
       "      <th>248</th>\n",
       "      <td>23_3000_var_upper</td>\n",
       "      <td>2.759176</td>\n",
       "    </tr>\n",
       "    <tr>\n",
       "      <th>276</th>\n",
       "      <td>53_10000_var_upper</td>\n",
       "      <td>2.754686</td>\n",
       "    </tr>\n",
       "    <tr>\n",
       "      <th>279</th>\n",
       "      <td>53_6000_var_upper</td>\n",
       "      <td>2.728612</td>\n",
       "    </tr>\n",
       "    <tr>\n",
       "      <th>160</th>\n",
       "      <td>23_8000_var_middle</td>\n",
       "      <td>2.724840</td>\n",
       "    </tr>\n",
       "    <tr>\n",
       "      <th>277</th>\n",
       "      <td>53_16800_var_upper</td>\n",
       "      <td>2.724202</td>\n",
       "    </tr>\n",
       "    <tr>\n",
       "      <th>115</th>\n",
       "      <td>38_10000_mean_upper</td>\n",
       "      <td>2.701536</td>\n",
       "    </tr>\n",
       "    <tr>\n",
       "      <th>46</th>\n",
       "      <td>13_16800_mean_lower</td>\n",
       "      <td>2.699798</td>\n",
       "    </tr>\n",
       "    <tr>\n",
       "      <th>262</th>\n",
       "      <td>38_16800_var_upper</td>\n",
       "      <td>2.697074</td>\n",
       "    </tr>\n",
       "    <tr>\n",
       "      <th>231</th>\n",
       "      <td>53_10000_var_lower</td>\n",
       "      <td>2.690453</td>\n",
       "    </tr>\n",
       "    <tr>\n",
       "      <th>255</th>\n",
       "      <td>28_8000_var_upper</td>\n",
       "      <td>2.689172</td>\n",
       "    </tr>\n",
       "    <tr>\n",
       "      <th>259</th>\n",
       "      <td>33_6000_var_upper</td>\n",
       "      <td>2.688115</td>\n",
       "    </tr>\n",
       "    <tr>\n",
       "      <th>116</th>\n",
       "      <td>38_16800_mean_upper</td>\n",
       "      <td>2.686567</td>\n",
       "    </tr>\n",
       "    <tr>\n",
       "      <th>257</th>\n",
       "      <td>33_16800_var_upper</td>\n",
       "      <td>2.670693</td>\n",
       "    </tr>\n",
       "    <tr>\n",
       "      <th>196</th>\n",
       "      <td>18_10000_var_lower</td>\n",
       "      <td>2.665986</td>\n",
       "    </tr>\n",
       "    <tr>\n",
       "      <th>238</th>\n",
       "      <td>13_3000_var_upper</td>\n",
       "      <td>2.665845</td>\n",
       "    </tr>\n",
       "    <tr>\n",
       "      <th>121</th>\n",
       "      <td>43_16800_mean_upper</td>\n",
       "      <td>2.657449</td>\n",
       "    </tr>\n",
       "    <tr>\n",
       "      <th>97</th>\n",
       "      <td>18_3000_mean_upper</td>\n",
       "      <td>2.655419</td>\n",
       "    </tr>\n",
       "    <tr>\n",
       "      <th>127</th>\n",
       "      <td>48_3000_mean_upper</td>\n",
       "      <td>2.652724</td>\n",
       "    </tr>\n",
       "    <tr>\n",
       "      <th>166</th>\n",
       "      <td>33_10000_var_middle</td>\n",
       "      <td>2.644503</td>\n",
       "    </tr>\n",
       "    <tr>\n",
       "      <th>13</th>\n",
       "      <td>23_6000_mean_middle</td>\n",
       "      <td>2.640008</td>\n",
       "    </tr>\n",
       "    <tr>\n",
       "      <th>59</th>\n",
       "      <td>23_8000_mean_lower</td>\n",
       "      <td>2.639504</td>\n",
       "    </tr>\n",
       "    <tr>\n",
       "      <th>102</th>\n",
       "      <td>23_3000_mean_upper</td>\n",
       "      <td>2.639354</td>\n",
       "    </tr>\n",
       "    <tr>\n",
       "      <th>159</th>\n",
       "      <td>23_6000_var_middle</td>\n",
       "      <td>2.635507</td>\n",
       "    </tr>\n",
       "    <tr>\n",
       "      <th>120</th>\n",
       "      <td>43_10000_mean_upper</td>\n",
       "      <td>2.631780</td>\n",
       "    </tr>\n",
       "    <tr>\n",
       "      <th>89</th>\n",
       "      <td>53_8000_mean_lower</td>\n",
       "      <td>2.628427</td>\n",
       "    </tr>\n",
       "    <tr>\n",
       "      <th>112</th>\n",
       "      <td>33_3000_mean_upper</td>\n",
       "      <td>2.625069</td>\n",
       "    </tr>\n",
       "    <tr>\n",
       "      <th>253</th>\n",
       "      <td>28_3000_var_upper</td>\n",
       "      <td>2.623376</td>\n",
       "    </tr>\n",
       "    <tr>\n",
       "      <th>190</th>\n",
       "      <td>53_8000_var_middle</td>\n",
       "      <td>2.623270</td>\n",
       "    </tr>\n",
       "    <tr>\n",
       "      <th>237</th>\n",
       "      <td>13_16800_var_upper</td>\n",
       "      <td>2.621347</td>\n",
       "    </tr>\n",
       "    <tr>\n",
       "      <th>175</th>\n",
       "      <td>38_8000_var_middle</td>\n",
       "      <td>2.619539</td>\n",
       "    </tr>\n",
       "    <tr>\n",
       "      <th>223</th>\n",
       "      <td>43_3000_var_lower</td>\n",
       "      <td>2.618473</td>\n",
       "    </tr>\n",
       "    <tr>\n",
       "      <th>99</th>\n",
       "      <td>18_8000_mean_upper</td>\n",
       "      <td>2.617598</td>\n",
       "    </tr>\n",
       "    <tr>\n",
       "      <th>108</th>\n",
       "      <td>28_6000_mean_upper</td>\n",
       "      <td>2.613908</td>\n",
       "    </tr>\n",
       "    <tr>\n",
       "      <th>90</th>\n",
       "      <td>13_10000_mean_upper</td>\n",
       "      <td>2.595276</td>\n",
       "    </tr>\n",
       "    <tr>\n",
       "      <th>217</th>\n",
       "      <td>38_16800_var_lower</td>\n",
       "      <td>2.591876</td>\n",
       "    </tr>\n",
       "    <tr>\n",
       "      <th>119</th>\n",
       "      <td>38_8000_mean_upper</td>\n",
       "      <td>2.586984</td>\n",
       "    </tr>\n",
       "    <tr>\n",
       "      <th>191</th>\n",
       "      <td>13_10000_var_lower</td>\n",
       "      <td>2.576228</td>\n",
       "    </tr>\n",
       "    <tr>\n",
       "      <th>79</th>\n",
       "      <td>43_8000_mean_lower</td>\n",
       "      <td>2.572582</td>\n",
       "    </tr>\n",
       "    <tr>\n",
       "      <th>236</th>\n",
       "      <td>13_10000_var_upper</td>\n",
       "      <td>2.565346</td>\n",
       "    </tr>\n",
       "    <tr>\n",
       "      <th>100</th>\n",
       "      <td>23_10000_mean_upper</td>\n",
       "      <td>2.563922</td>\n",
       "    </tr>\n",
       "  </tbody>\n",
       "</table>\n",
       "</div>"
      ],
      "text/plain": [
       "                 Feature  Importance\n",
       "243    18_3000_var_upper    2.907248\n",
       "205    23_8000_var_lower    2.901220\n",
       "203    23_3000_var_lower    2.900765\n",
       "263    38_3000_var_upper    2.813803\n",
       "154   18_6000_var_middle    2.804255\n",
       "150   13_8000_var_middle    2.793255\n",
       "264    38_6000_var_upper    2.781433\n",
       "229    48_6000_var_lower    2.776967\n",
       "215    33_8000_var_lower    2.763663\n",
       "57    23_3000_mean_lower    2.760017\n",
       "248    23_3000_var_upper    2.759176\n",
       "276   53_10000_var_upper    2.754686\n",
       "279    53_6000_var_upper    2.728612\n",
       "160   23_8000_var_middle    2.724840\n",
       "277   53_16800_var_upper    2.724202\n",
       "115  38_10000_mean_upper    2.701536\n",
       "46   13_16800_mean_lower    2.699798\n",
       "262   38_16800_var_upper    2.697074\n",
       "231   53_10000_var_lower    2.690453\n",
       "255    28_8000_var_upper    2.689172\n",
       "259    33_6000_var_upper    2.688115\n",
       "116  38_16800_mean_upper    2.686567\n",
       "257   33_16800_var_upper    2.670693\n",
       "196   18_10000_var_lower    2.665986\n",
       "238    13_3000_var_upper    2.665845\n",
       "121  43_16800_mean_upper    2.657449\n",
       "97    18_3000_mean_upper    2.655419\n",
       "127   48_3000_mean_upper    2.652724\n",
       "166  33_10000_var_middle    2.644503\n",
       "13   23_6000_mean_middle    2.640008\n",
       "59    23_8000_mean_lower    2.639504\n",
       "102   23_3000_mean_upper    2.639354\n",
       "159   23_6000_var_middle    2.635507\n",
       "120  43_10000_mean_upper    2.631780\n",
       "89    53_8000_mean_lower    2.628427\n",
       "112   33_3000_mean_upper    2.625069\n",
       "253    28_3000_var_upper    2.623376\n",
       "190   53_8000_var_middle    2.623270\n",
       "237   13_16800_var_upper    2.621347\n",
       "175   38_8000_var_middle    2.619539\n",
       "223    43_3000_var_lower    2.618473\n",
       "99    18_8000_mean_upper    2.617598\n",
       "108   28_6000_mean_upper    2.613908\n",
       "90   13_10000_mean_upper    2.595276\n",
       "217   38_16800_var_lower    2.591876\n",
       "119   38_8000_mean_upper    2.586984\n",
       "191   13_10000_var_lower    2.576228\n",
       "79    43_8000_mean_lower    2.572582\n",
       "236   13_10000_var_upper    2.565346\n",
       "100  23_10000_mean_upper    2.563922"
      ]
     },
     "execution_count": 241,
     "metadata": {},
     "output_type": "execute_result"
    }
   ],
   "source": [
    "# Determine the number of components to retain 90% variance\n",
    "cumulative_variance = np.cumsum(explained_variance)\n",
    "num_components = np.argmax(cumulative_variance >= 0.9) + 1\n",
    "\n",
    "# Get the loadings for the selected components\n",
    "selected_loadings = loadings[:num_components, :]\n",
    "\n",
    "# Calculate the importance of each feature by summing the absolute values of its loadings across the selected components\n",
    "feature_importance = np.sum(np.abs(selected_loadings), axis=0)\n",
    "\n",
    "# Create a DataFrame for feature importance\n",
    "feature_importance_df = pd.DataFrame({'Feature': features.columns, 'Importance': feature_importance})\n",
    "\n",
    "# Sort the features by importance\n",
    "feature_importance_df = feature_importance_df.sort_values(by='Importance', ascending=False)\n",
    "\n",
    "# Select the top N features (e.g., top 10 features)\n",
    "top_features = feature_importance_df.head(50)\n",
    "\n",
    "top_features"
   ]
  },
  {
   "cell_type": "markdown",
   "metadata": {},
   "source": [
    "Having many features with an importance score over 1 can be interpreted in various ways.\n",
    "\n",
    "Implication 1: Distributed Contribution\n",
    "- Distributed Contribution: When many features have high importance scores, it indicates that the variance in the data is distributed across multiple features rather than being dominated by a few.\n",
    "- Balanced Influence: This suggests a balanced influence where no single feature overwhelmingly explains the variance, but rather, multiple features contribute significantly.\n",
    "\n",
    "Implication 2: Multicollinearity\n",
    "- Multicollinearity: It might indicate the presence of multicollinearity, where multiple features are correlated with each other and together contribute to the same principal components.\n",
    "- Redundancy: In such cases, there might be redundancy in the information provided by these features\n",
    "\n",
    "\n",
    "\n",
    "To address these issues we could look into correlation matrix and use regularization technique to reduce it"
   ]
  },
  {
   "cell_type": "markdown",
   "metadata": {},
   "source": [
    "## Investigate Multicollinearity"
   ]
  },
  {
   "cell_type": "markdown",
   "metadata": {},
   "source": [
    "### Analyze using correlation matrix"
   ]
  },
  {
   "cell_type": "code",
   "execution_count": 16,
   "metadata": {},
   "outputs": [],
   "source": [
    "# List of DataFrames\n",
    "df_pivots = [df_range_delay_lower, df_range_delay_upper]\n",
    "\n",
    "# Initialize the merged DataFrame with the first DataFrame in the list\n",
    "df_range_delay_ends = df_pivots[0]\n",
    "\n",
    "# Iteratively merge each DataFrame in the list\n",
    "for df in df_pivots[1:]:\n",
    "    df_range_delay_ends = df_range_delay_ends.merge(df, on='Sensor ID')\n",
    "# Replace all NaN values with 0 in the merged DataFrame\n",
    "df_range_delay_ends.fillna(0, inplace=True)"
   ]
  },
  {
   "cell_type": "code",
   "execution_count": 17,
   "metadata": {},
   "outputs": [],
   "source": [
    "df_range_delay_corr= df_range_delay_ends.drop([\"Sensor ID\"], axis = 1)"
   ]
  },
  {
   "cell_type": "code",
   "execution_count": 18,
   "metadata": {},
   "outputs": [
    {
     "data": {
      "text/html": [
       "<div>\n",
       "<style scoped>\n",
       "    .dataframe tbody tr th:only-of-type {\n",
       "        vertical-align: middle;\n",
       "    }\n",
       "\n",
       "    .dataframe tbody tr th {\n",
       "        vertical-align: top;\n",
       "    }\n",
       "\n",
       "    .dataframe thead th {\n",
       "        text-align: right;\n",
       "    }\n",
       "</style>\n",
       "<table border=\"1\" class=\"dataframe\">\n",
       "  <thead>\n",
       "    <tr style=\"text-align: right;\">\n",
       "      <th>range_delay</th>\n",
       "      <th>13_10000_mean_lower</th>\n",
       "      <th>13_16800_mean_lower</th>\n",
       "      <th>13_3000_mean_lower</th>\n",
       "      <th>13_6000_mean_lower</th>\n",
       "      <th>13_8000_mean_lower</th>\n",
       "      <th>18_10000_mean_lower</th>\n",
       "      <th>18_16800_mean_lower</th>\n",
       "      <th>18_3000_mean_lower</th>\n",
       "      <th>18_6000_mean_lower</th>\n",
       "      <th>18_8000_mean_lower</th>\n",
       "      <th>...</th>\n",
       "      <th>48_10000_mean_upper</th>\n",
       "      <th>48_16800_mean_upper</th>\n",
       "      <th>48_3000_mean_upper</th>\n",
       "      <th>48_6000_mean_upper</th>\n",
       "      <th>48_8000_mean_upper</th>\n",
       "      <th>53_10000_mean_upper</th>\n",
       "      <th>53_16800_mean_upper</th>\n",
       "      <th>53_3000_mean_upper</th>\n",
       "      <th>53_6000_mean_upper</th>\n",
       "      <th>53_8000_mean_upper</th>\n",
       "    </tr>\n",
       "    <tr>\n",
       "      <th>range_delay</th>\n",
       "      <th></th>\n",
       "      <th></th>\n",
       "      <th></th>\n",
       "      <th></th>\n",
       "      <th></th>\n",
       "      <th></th>\n",
       "      <th></th>\n",
       "      <th></th>\n",
       "      <th></th>\n",
       "      <th></th>\n",
       "      <th></th>\n",
       "      <th></th>\n",
       "      <th></th>\n",
       "      <th></th>\n",
       "      <th></th>\n",
       "      <th></th>\n",
       "      <th></th>\n",
       "      <th></th>\n",
       "      <th></th>\n",
       "      <th></th>\n",
       "      <th></th>\n",
       "    </tr>\n",
       "  </thead>\n",
       "  <tbody>\n",
       "    <tr>\n",
       "      <th>13_10000_mean_lower</th>\n",
       "      <td>1.000000</td>\n",
       "      <td>-0.006329</td>\n",
       "      <td>0.142563</td>\n",
       "      <td>0.234837</td>\n",
       "      <td>0.308053</td>\n",
       "      <td>0.138679</td>\n",
       "      <td>0.111477</td>\n",
       "      <td>-0.055666</td>\n",
       "      <td>0.059439</td>\n",
       "      <td>0.079335</td>\n",
       "      <td>...</td>\n",
       "      <td>-0.163236</td>\n",
       "      <td>-0.109735</td>\n",
       "      <td>-0.025725</td>\n",
       "      <td>-0.101069</td>\n",
       "      <td>-0.117229</td>\n",
       "      <td>-0.010916</td>\n",
       "      <td>0.111025</td>\n",
       "      <td>0.178035</td>\n",
       "      <td>-0.155228</td>\n",
       "      <td>-0.182994</td>\n",
       "    </tr>\n",
       "    <tr>\n",
       "      <th>13_16800_mean_lower</th>\n",
       "      <td>-0.006329</td>\n",
       "      <td>1.000000</td>\n",
       "      <td>0.042697</td>\n",
       "      <td>-0.102974</td>\n",
       "      <td>-0.093594</td>\n",
       "      <td>0.219054</td>\n",
       "      <td>0.102558</td>\n",
       "      <td>0.109677</td>\n",
       "      <td>0.057038</td>\n",
       "      <td>-0.061270</td>\n",
       "      <td>...</td>\n",
       "      <td>-0.049120</td>\n",
       "      <td>-0.045046</td>\n",
       "      <td>0.016735</td>\n",
       "      <td>-0.037088</td>\n",
       "      <td>-0.030323</td>\n",
       "      <td>-0.013323</td>\n",
       "      <td>0.025546</td>\n",
       "      <td>-0.003579</td>\n",
       "      <td>0.134812</td>\n",
       "      <td>-0.023751</td>\n",
       "    </tr>\n",
       "    <tr>\n",
       "      <th>13_3000_mean_lower</th>\n",
       "      <td>0.142563</td>\n",
       "      <td>0.042697</td>\n",
       "      <td>1.000000</td>\n",
       "      <td>0.393200</td>\n",
       "      <td>0.329599</td>\n",
       "      <td>0.026858</td>\n",
       "      <td>0.330322</td>\n",
       "      <td>0.117187</td>\n",
       "      <td>0.121640</td>\n",
       "      <td>0.113895</td>\n",
       "      <td>...</td>\n",
       "      <td>-0.039430</td>\n",
       "      <td>0.183907</td>\n",
       "      <td>-0.027543</td>\n",
       "      <td>0.122093</td>\n",
       "      <td>0.110803</td>\n",
       "      <td>0.057621</td>\n",
       "      <td>0.092727</td>\n",
       "      <td>-0.002754</td>\n",
       "      <td>0.147521</td>\n",
       "      <td>0.043507</td>\n",
       "    </tr>\n",
       "    <tr>\n",
       "      <th>13_6000_mean_lower</th>\n",
       "      <td>0.234837</td>\n",
       "      <td>-0.102974</td>\n",
       "      <td>0.393200</td>\n",
       "      <td>1.000000</td>\n",
       "      <td>0.449926</td>\n",
       "      <td>-0.120941</td>\n",
       "      <td>0.050312</td>\n",
       "      <td>-0.038554</td>\n",
       "      <td>0.040058</td>\n",
       "      <td>-0.092805</td>\n",
       "      <td>...</td>\n",
       "      <td>-0.068471</td>\n",
       "      <td>0.034972</td>\n",
       "      <td>0.050373</td>\n",
       "      <td>-0.036216</td>\n",
       "      <td>0.083124</td>\n",
       "      <td>-0.093320</td>\n",
       "      <td>0.010728</td>\n",
       "      <td>0.032243</td>\n",
       "      <td>0.178242</td>\n",
       "      <td>-0.138835</td>\n",
       "    </tr>\n",
       "    <tr>\n",
       "      <th>13_8000_mean_lower</th>\n",
       "      <td>0.308053</td>\n",
       "      <td>-0.093594</td>\n",
       "      <td>0.329599</td>\n",
       "      <td>0.449926</td>\n",
       "      <td>1.000000</td>\n",
       "      <td>0.001557</td>\n",
       "      <td>0.111928</td>\n",
       "      <td>0.075936</td>\n",
       "      <td>0.044905</td>\n",
       "      <td>0.003688</td>\n",
       "      <td>...</td>\n",
       "      <td>0.015744</td>\n",
       "      <td>0.143838</td>\n",
       "      <td>-0.046549</td>\n",
       "      <td>-0.041079</td>\n",
       "      <td>-0.072801</td>\n",
       "      <td>0.039944</td>\n",
       "      <td>0.071658</td>\n",
       "      <td>-0.039743</td>\n",
       "      <td>0.181636</td>\n",
       "      <td>-0.222708</td>\n",
       "    </tr>\n",
       "    <tr>\n",
       "      <th>...</th>\n",
       "      <td>...</td>\n",
       "      <td>...</td>\n",
       "      <td>...</td>\n",
       "      <td>...</td>\n",
       "      <td>...</td>\n",
       "      <td>...</td>\n",
       "      <td>...</td>\n",
       "      <td>...</td>\n",
       "      <td>...</td>\n",
       "      <td>...</td>\n",
       "      <td>...</td>\n",
       "      <td>...</td>\n",
       "      <td>...</td>\n",
       "      <td>...</td>\n",
       "      <td>...</td>\n",
       "      <td>...</td>\n",
       "      <td>...</td>\n",
       "      <td>...</td>\n",
       "      <td>...</td>\n",
       "      <td>...</td>\n",
       "      <td>...</td>\n",
       "    </tr>\n",
       "    <tr>\n",
       "      <th>53_10000_mean_upper</th>\n",
       "      <td>-0.010916</td>\n",
       "      <td>-0.013323</td>\n",
       "      <td>0.057621</td>\n",
       "      <td>-0.093320</td>\n",
       "      <td>0.039944</td>\n",
       "      <td>-0.032470</td>\n",
       "      <td>0.035280</td>\n",
       "      <td>0.099737</td>\n",
       "      <td>0.064306</td>\n",
       "      <td>0.091668</td>\n",
       "      <td>...</td>\n",
       "      <td>0.161460</td>\n",
       "      <td>0.024814</td>\n",
       "      <td>-0.075321</td>\n",
       "      <td>0.159746</td>\n",
       "      <td>-0.006415</td>\n",
       "      <td>1.000000</td>\n",
       "      <td>0.069239</td>\n",
       "      <td>0.098789</td>\n",
       "      <td>0.055073</td>\n",
       "      <td>0.256127</td>\n",
       "    </tr>\n",
       "    <tr>\n",
       "      <th>53_16800_mean_upper</th>\n",
       "      <td>0.111025</td>\n",
       "      <td>0.025546</td>\n",
       "      <td>0.092727</td>\n",
       "      <td>0.010728</td>\n",
       "      <td>0.071658</td>\n",
       "      <td>-0.172980</td>\n",
       "      <td>-0.022888</td>\n",
       "      <td>-0.079483</td>\n",
       "      <td>0.041674</td>\n",
       "      <td>-0.056740</td>\n",
       "      <td>...</td>\n",
       "      <td>-0.050770</td>\n",
       "      <td>0.240331</td>\n",
       "      <td>-0.092799</td>\n",
       "      <td>0.010744</td>\n",
       "      <td>-0.063568</td>\n",
       "      <td>0.069239</td>\n",
       "      <td>1.000000</td>\n",
       "      <td>-0.083349</td>\n",
       "      <td>0.284166</td>\n",
       "      <td>0.236345</td>\n",
       "    </tr>\n",
       "    <tr>\n",
       "      <th>53_3000_mean_upper</th>\n",
       "      <td>0.178035</td>\n",
       "      <td>-0.003579</td>\n",
       "      <td>-0.002754</td>\n",
       "      <td>0.032243</td>\n",
       "      <td>-0.039743</td>\n",
       "      <td>0.095380</td>\n",
       "      <td>0.152347</td>\n",
       "      <td>0.057031</td>\n",
       "      <td>-0.172319</td>\n",
       "      <td>0.139012</td>\n",
       "      <td>...</td>\n",
       "      <td>0.062147</td>\n",
       "      <td>-0.240939</td>\n",
       "      <td>-0.004389</td>\n",
       "      <td>0.251493</td>\n",
       "      <td>0.163900</td>\n",
       "      <td>0.098789</td>\n",
       "      <td>-0.083349</td>\n",
       "      <td>1.000000</td>\n",
       "      <td>0.083985</td>\n",
       "      <td>0.043399</td>\n",
       "    </tr>\n",
       "    <tr>\n",
       "      <th>53_6000_mean_upper</th>\n",
       "      <td>-0.155228</td>\n",
       "      <td>0.134812</td>\n",
       "      <td>0.147521</td>\n",
       "      <td>0.178242</td>\n",
       "      <td>0.181636</td>\n",
       "      <td>-0.122436</td>\n",
       "      <td>0.056643</td>\n",
       "      <td>0.082064</td>\n",
       "      <td>-0.102862</td>\n",
       "      <td>-0.081962</td>\n",
       "      <td>...</td>\n",
       "      <td>0.126393</td>\n",
       "      <td>0.163062</td>\n",
       "      <td>0.148118</td>\n",
       "      <td>0.260683</td>\n",
       "      <td>0.223701</td>\n",
       "      <td>0.055073</td>\n",
       "      <td>0.284166</td>\n",
       "      <td>0.083985</td>\n",
       "      <td>1.000000</td>\n",
       "      <td>0.245546</td>\n",
       "    </tr>\n",
       "    <tr>\n",
       "      <th>53_8000_mean_upper</th>\n",
       "      <td>-0.182994</td>\n",
       "      <td>-0.023751</td>\n",
       "      <td>0.043507</td>\n",
       "      <td>-0.138835</td>\n",
       "      <td>-0.222708</td>\n",
       "      <td>-0.032078</td>\n",
       "      <td>0.094553</td>\n",
       "      <td>-0.014399</td>\n",
       "      <td>-0.101813</td>\n",
       "      <td>-0.019009</td>\n",
       "      <td>...</td>\n",
       "      <td>-0.140886</td>\n",
       "      <td>0.005199</td>\n",
       "      <td>0.115335</td>\n",
       "      <td>0.223340</td>\n",
       "      <td>0.005367</td>\n",
       "      <td>0.256127</td>\n",
       "      <td>0.236345</td>\n",
       "      <td>0.043399</td>\n",
       "      <td>0.245546</td>\n",
       "      <td>1.000000</td>\n",
       "    </tr>\n",
       "  </tbody>\n",
       "</table>\n",
       "<p>90 rows × 90 columns</p>\n",
       "</div>"
      ],
      "text/plain": [
       "range_delay          13_10000_mean_lower  13_16800_mean_lower  \\\n",
       "range_delay                                                     \n",
       "13_10000_mean_lower             1.000000            -0.006329   \n",
       "13_16800_mean_lower            -0.006329             1.000000   \n",
       "13_3000_mean_lower              0.142563             0.042697   \n",
       "13_6000_mean_lower              0.234837            -0.102974   \n",
       "13_8000_mean_lower              0.308053            -0.093594   \n",
       "...                                  ...                  ...   \n",
       "53_10000_mean_upper            -0.010916            -0.013323   \n",
       "53_16800_mean_upper             0.111025             0.025546   \n",
       "53_3000_mean_upper              0.178035            -0.003579   \n",
       "53_6000_mean_upper             -0.155228             0.134812   \n",
       "53_8000_mean_upper             -0.182994            -0.023751   \n",
       "\n",
       "range_delay          13_3000_mean_lower  13_6000_mean_lower  \\\n",
       "range_delay                                                   \n",
       "13_10000_mean_lower            0.142563            0.234837   \n",
       "13_16800_mean_lower            0.042697           -0.102974   \n",
       "13_3000_mean_lower             1.000000            0.393200   \n",
       "13_6000_mean_lower             0.393200            1.000000   \n",
       "13_8000_mean_lower             0.329599            0.449926   \n",
       "...                                 ...                 ...   \n",
       "53_10000_mean_upper            0.057621           -0.093320   \n",
       "53_16800_mean_upper            0.092727            0.010728   \n",
       "53_3000_mean_upper            -0.002754            0.032243   \n",
       "53_6000_mean_upper             0.147521            0.178242   \n",
       "53_8000_mean_upper             0.043507           -0.138835   \n",
       "\n",
       "range_delay          13_8000_mean_lower  18_10000_mean_lower  \\\n",
       "range_delay                                                    \n",
       "13_10000_mean_lower            0.308053             0.138679   \n",
       "13_16800_mean_lower           -0.093594             0.219054   \n",
       "13_3000_mean_lower             0.329599             0.026858   \n",
       "13_6000_mean_lower             0.449926            -0.120941   \n",
       "13_8000_mean_lower             1.000000             0.001557   \n",
       "...                                 ...                  ...   \n",
       "53_10000_mean_upper            0.039944            -0.032470   \n",
       "53_16800_mean_upper            0.071658            -0.172980   \n",
       "53_3000_mean_upper            -0.039743             0.095380   \n",
       "53_6000_mean_upper             0.181636            -0.122436   \n",
       "53_8000_mean_upper            -0.222708            -0.032078   \n",
       "\n",
       "range_delay          18_16800_mean_lower  18_3000_mean_lower  \\\n",
       "range_delay                                                    \n",
       "13_10000_mean_lower             0.111477           -0.055666   \n",
       "13_16800_mean_lower             0.102558            0.109677   \n",
       "13_3000_mean_lower              0.330322            0.117187   \n",
       "13_6000_mean_lower              0.050312           -0.038554   \n",
       "13_8000_mean_lower              0.111928            0.075936   \n",
       "...                                  ...                 ...   \n",
       "53_10000_mean_upper             0.035280            0.099737   \n",
       "53_16800_mean_upper            -0.022888           -0.079483   \n",
       "53_3000_mean_upper              0.152347            0.057031   \n",
       "53_6000_mean_upper              0.056643            0.082064   \n",
       "53_8000_mean_upper              0.094553           -0.014399   \n",
       "\n",
       "range_delay          18_6000_mean_lower  18_8000_mean_lower  ...  \\\n",
       "range_delay                                                  ...   \n",
       "13_10000_mean_lower            0.059439            0.079335  ...   \n",
       "13_16800_mean_lower            0.057038           -0.061270  ...   \n",
       "13_3000_mean_lower             0.121640            0.113895  ...   \n",
       "13_6000_mean_lower             0.040058           -0.092805  ...   \n",
       "13_8000_mean_lower             0.044905            0.003688  ...   \n",
       "...                                 ...                 ...  ...   \n",
       "53_10000_mean_upper            0.064306            0.091668  ...   \n",
       "53_16800_mean_upper            0.041674           -0.056740  ...   \n",
       "53_3000_mean_upper            -0.172319            0.139012  ...   \n",
       "53_6000_mean_upper            -0.102862           -0.081962  ...   \n",
       "53_8000_mean_upper            -0.101813           -0.019009  ...   \n",
       "\n",
       "range_delay          48_10000_mean_upper  48_16800_mean_upper  \\\n",
       "range_delay                                                     \n",
       "13_10000_mean_lower            -0.163236            -0.109735   \n",
       "13_16800_mean_lower            -0.049120            -0.045046   \n",
       "13_3000_mean_lower             -0.039430             0.183907   \n",
       "13_6000_mean_lower             -0.068471             0.034972   \n",
       "13_8000_mean_lower              0.015744             0.143838   \n",
       "...                                  ...                  ...   \n",
       "53_10000_mean_upper             0.161460             0.024814   \n",
       "53_16800_mean_upper            -0.050770             0.240331   \n",
       "53_3000_mean_upper              0.062147            -0.240939   \n",
       "53_6000_mean_upper              0.126393             0.163062   \n",
       "53_8000_mean_upper             -0.140886             0.005199   \n",
       "\n",
       "range_delay          48_3000_mean_upper  48_6000_mean_upper  \\\n",
       "range_delay                                                   \n",
       "13_10000_mean_lower           -0.025725           -0.101069   \n",
       "13_16800_mean_lower            0.016735           -0.037088   \n",
       "13_3000_mean_lower            -0.027543            0.122093   \n",
       "13_6000_mean_lower             0.050373           -0.036216   \n",
       "13_8000_mean_lower            -0.046549           -0.041079   \n",
       "...                                 ...                 ...   \n",
       "53_10000_mean_upper           -0.075321            0.159746   \n",
       "53_16800_mean_upper           -0.092799            0.010744   \n",
       "53_3000_mean_upper            -0.004389            0.251493   \n",
       "53_6000_mean_upper             0.148118            0.260683   \n",
       "53_8000_mean_upper             0.115335            0.223340   \n",
       "\n",
       "range_delay          48_8000_mean_upper  53_10000_mean_upper  \\\n",
       "range_delay                                                    \n",
       "13_10000_mean_lower           -0.117229            -0.010916   \n",
       "13_16800_mean_lower           -0.030323            -0.013323   \n",
       "13_3000_mean_lower             0.110803             0.057621   \n",
       "13_6000_mean_lower             0.083124            -0.093320   \n",
       "13_8000_mean_lower            -0.072801             0.039944   \n",
       "...                                 ...                  ...   \n",
       "53_10000_mean_upper           -0.006415             1.000000   \n",
       "53_16800_mean_upper           -0.063568             0.069239   \n",
       "53_3000_mean_upper             0.163900             0.098789   \n",
       "53_6000_mean_upper             0.223701             0.055073   \n",
       "53_8000_mean_upper             0.005367             0.256127   \n",
       "\n",
       "range_delay          53_16800_mean_upper  53_3000_mean_upper  \\\n",
       "range_delay                                                    \n",
       "13_10000_mean_lower             0.111025            0.178035   \n",
       "13_16800_mean_lower             0.025546           -0.003579   \n",
       "13_3000_mean_lower              0.092727           -0.002754   \n",
       "13_6000_mean_lower              0.010728            0.032243   \n",
       "13_8000_mean_lower              0.071658           -0.039743   \n",
       "...                                  ...                 ...   \n",
       "53_10000_mean_upper             0.069239            0.098789   \n",
       "53_16800_mean_upper             1.000000           -0.083349   \n",
       "53_3000_mean_upper             -0.083349            1.000000   \n",
       "53_6000_mean_upper              0.284166            0.083985   \n",
       "53_8000_mean_upper              0.236345            0.043399   \n",
       "\n",
       "range_delay          53_6000_mean_upper  53_8000_mean_upper  \n",
       "range_delay                                                  \n",
       "13_10000_mean_lower           -0.155228           -0.182994  \n",
       "13_16800_mean_lower            0.134812           -0.023751  \n",
       "13_3000_mean_lower             0.147521            0.043507  \n",
       "13_6000_mean_lower             0.178242           -0.138835  \n",
       "13_8000_mean_lower             0.181636           -0.222708  \n",
       "...                                 ...                 ...  \n",
       "53_10000_mean_upper            0.055073            0.256127  \n",
       "53_16800_mean_upper            0.284166            0.236345  \n",
       "53_3000_mean_upper             0.083985            0.043399  \n",
       "53_6000_mean_upper             1.000000            0.245546  \n",
       "53_8000_mean_upper             0.245546            1.000000  \n",
       "\n",
       "[90 rows x 90 columns]"
      ]
     },
     "execution_count": 18,
     "metadata": {},
     "output_type": "execute_result"
    }
   ],
   "source": [
    "# Calculate the correlation matrix for the dataset\n",
    "correlation_matrix = df_range_delay_corr.corr()\n",
    "correlation_matrix\n"
   ]
  },
  {
   "cell_type": "code",
   "execution_count": 20,
   "metadata": {},
   "outputs": [
    {
     "data": {
      "text/html": [
       "<div>\n",
       "<style scoped>\n",
       "    .dataframe tbody tr th:only-of-type {\n",
       "        vertical-align: middle;\n",
       "    }\n",
       "\n",
       "    .dataframe tbody tr th {\n",
       "        vertical-align: top;\n",
       "    }\n",
       "\n",
       "    .dataframe thead th {\n",
       "        text-align: right;\n",
       "    }\n",
       "</style>\n",
       "<table border=\"1\" class=\"dataframe\">\n",
       "  <thead>\n",
       "    <tr style=\"text-align: right;\">\n",
       "      <th></th>\n",
       "      <th>Feature 1</th>\n",
       "      <th>Feature 2</th>\n",
       "      <th>Correlation</th>\n",
       "    </tr>\n",
       "  </thead>\n",
       "  <tbody>\n",
       "    <tr>\n",
       "      <th>0</th>\n",
       "      <td>13_8000_mean_lower</td>\n",
       "      <td>13_8000_mean_upper</td>\n",
       "      <td>0.603920</td>\n",
       "    </tr>\n",
       "    <tr>\n",
       "      <th>1</th>\n",
       "      <td>38_10000_mean_lower</td>\n",
       "      <td>38_10000_mean_upper</td>\n",
       "      <td>0.602842</td>\n",
       "    </tr>\n",
       "  </tbody>\n",
       "</table>\n",
       "</div>"
      ],
      "text/plain": [
       "             Feature 1            Feature 2  Correlation\n",
       "0   13_8000_mean_lower   13_8000_mean_upper     0.603920\n",
       "1  38_10000_mean_lower  38_10000_mean_upper     0.602842"
      ]
     },
     "execution_count": 20,
     "metadata": {},
     "output_type": "execute_result"
    }
   ],
   "source": [
    "# Extract pairs of highly correlated features with correlation coefficient above a threshold (e.g., 0.8 or below -0.8)\n",
    "threshold = 0.6\n",
    "highly_correlated_pairs = []\n",
    "\n",
    "for i in range(correlation_matrix.shape[0]):\n",
    "    for j in range(i+1, correlation_matrix.shape[1]):\n",
    "        if abs(correlation_matrix.iloc[i, j]) > threshold:\n",
    "            feature_pair = (correlation_matrix.index[i], correlation_matrix.columns[j], correlation_matrix.iloc[i, j])\n",
    "            highly_correlated_pairs.append(feature_pair)\n",
    "\n",
    "# Convert the list of tuples to a DataFrame for better readability\n",
    "highly_correlated_df = pd.DataFrame(highly_correlated_pairs, columns=['Feature 1', 'Feature 2', 'Correlation'])\n",
    "highly_correlated_df\n"
   ]
  },
  {
   "cell_type": "code",
   "execution_count": null,
   "metadata": {},
   "outputs": [
    {
     "data": {
      "text/html": [
       "<div>\n",
       "<style scoped>\n",
       "    .dataframe tbody tr th:only-of-type {\n",
       "        vertical-align: middle;\n",
       "    }\n",
       "\n",
       "    .dataframe tbody tr th {\n",
       "        vertical-align: top;\n",
       "    }\n",
       "\n",
       "    .dataframe thead th {\n",
       "        text-align: right;\n",
       "    }\n",
       "</style>\n",
       "<table border=\"1\" class=\"dataframe\">\n",
       "  <thead>\n",
       "    <tr style=\"text-align: right;\">\n",
       "      <th>range_delay</th>\n",
       "      <th>Sensor ID</th>\n",
       "      <th>13_10000_mean_lower</th>\n",
       "      <th>13_16800_mean_lower</th>\n",
       "      <th>13_3000_mean_lower</th>\n",
       "      <th>13_6000_mean_lower</th>\n",
       "      <th>13_8000_mean_lower</th>\n",
       "      <th>18_10000_mean_lower</th>\n",
       "      <th>18_16800_mean_lower</th>\n",
       "      <th>18_3000_mean_lower</th>\n",
       "      <th>18_6000_mean_lower</th>\n",
       "      <th>...</th>\n",
       "      <th>48_10000_mean_upper</th>\n",
       "      <th>48_16800_mean_upper</th>\n",
       "      <th>48_3000_mean_upper</th>\n",
       "      <th>48_6000_mean_upper</th>\n",
       "      <th>48_8000_mean_upper</th>\n",
       "      <th>53_10000_mean_upper</th>\n",
       "      <th>53_16800_mean_upper</th>\n",
       "      <th>53_3000_mean_upper</th>\n",
       "      <th>53_6000_mean_upper</th>\n",
       "      <th>53_8000_mean_upper</th>\n",
       "    </tr>\n",
       "  </thead>\n",
       "  <tbody>\n",
       "    <tr>\n",
       "      <th>0</th>\n",
       "      <td>32</td>\n",
       "      <td>0.000000</td>\n",
       "      <td>741.0</td>\n",
       "      <td>0.000000</td>\n",
       "      <td>0.000000</td>\n",
       "      <td>0.000000</td>\n",
       "      <td>0.000000</td>\n",
       "      <td>0.000000</td>\n",
       "      <td>1047.000000</td>\n",
       "      <td>0.000000</td>\n",
       "      <td>...</td>\n",
       "      <td>0.000000</td>\n",
       "      <td>0.0</td>\n",
       "      <td>2787.833333</td>\n",
       "      <td>0.000000</td>\n",
       "      <td>0.000000</td>\n",
       "      <td>3099.000000</td>\n",
       "      <td>0.000000</td>\n",
       "      <td>0.000000</td>\n",
       "      <td>0.0</td>\n",
       "      <td>0.000000</td>\n",
       "    </tr>\n",
       "    <tr>\n",
       "      <th>1</th>\n",
       "      <td>33</td>\n",
       "      <td>754.402299</td>\n",
       "      <td>755.0</td>\n",
       "      <td>0.000000</td>\n",
       "      <td>755.307692</td>\n",
       "      <td>747.000000</td>\n",
       "      <td>0.000000</td>\n",
       "      <td>0.000000</td>\n",
       "      <td>0.000000</td>\n",
       "      <td>0.000000</td>\n",
       "      <td>...</td>\n",
       "      <td>0.000000</td>\n",
       "      <td>0.0</td>\n",
       "      <td>2740.037037</td>\n",
       "      <td>0.000000</td>\n",
       "      <td>0.000000</td>\n",
       "      <td>0.000000</td>\n",
       "      <td>3073.666667</td>\n",
       "      <td>0.000000</td>\n",
       "      <td>3073.4</td>\n",
       "      <td>3074.000000</td>\n",
       "    </tr>\n",
       "    <tr>\n",
       "      <th>2</th>\n",
       "      <td>34</td>\n",
       "      <td>0.000000</td>\n",
       "      <td>0.0</td>\n",
       "      <td>653.285714</td>\n",
       "      <td>0.000000</td>\n",
       "      <td>0.000000</td>\n",
       "      <td>0.000000</td>\n",
       "      <td>944.473684</td>\n",
       "      <td>0.000000</td>\n",
       "      <td>0.000000</td>\n",
       "      <td>...</td>\n",
       "      <td>0.000000</td>\n",
       "      <td>0.0</td>\n",
       "      <td>0.000000</td>\n",
       "      <td>0.000000</td>\n",
       "      <td>0.000000</td>\n",
       "      <td>0.000000</td>\n",
       "      <td>0.000000</td>\n",
       "      <td>0.000000</td>\n",
       "      <td>0.0</td>\n",
       "      <td>0.000000</td>\n",
       "    </tr>\n",
       "    <tr>\n",
       "      <th>3</th>\n",
       "      <td>35</td>\n",
       "      <td>0.000000</td>\n",
       "      <td>0.0</td>\n",
       "      <td>0.000000</td>\n",
       "      <td>0.000000</td>\n",
       "      <td>862.151515</td>\n",
       "      <td>1003.000000</td>\n",
       "      <td>0.000000</td>\n",
       "      <td>0.000000</td>\n",
       "      <td>0.000000</td>\n",
       "      <td>...</td>\n",
       "      <td>2758.652174</td>\n",
       "      <td>0.0</td>\n",
       "      <td>2756.839080</td>\n",
       "      <td>0.000000</td>\n",
       "      <td>2778.428571</td>\n",
       "      <td>0.000000</td>\n",
       "      <td>0.000000</td>\n",
       "      <td>0.000000</td>\n",
       "      <td>0.0</td>\n",
       "      <td>0.000000</td>\n",
       "    </tr>\n",
       "    <tr>\n",
       "      <th>4</th>\n",
       "      <td>36</td>\n",
       "      <td>0.000000</td>\n",
       "      <td>0.0</td>\n",
       "      <td>0.000000</td>\n",
       "      <td>0.000000</td>\n",
       "      <td>0.000000</td>\n",
       "      <td>1066.244444</td>\n",
       "      <td>0.000000</td>\n",
       "      <td>1055.000000</td>\n",
       "      <td>1066.105263</td>\n",
       "      <td>...</td>\n",
       "      <td>2779.000000</td>\n",
       "      <td>0.0</td>\n",
       "      <td>0.000000</td>\n",
       "      <td>0.000000</td>\n",
       "      <td>0.000000</td>\n",
       "      <td>3113.000000</td>\n",
       "      <td>0.000000</td>\n",
       "      <td>0.000000</td>\n",
       "      <td>0.0</td>\n",
       "      <td>0.000000</td>\n",
       "    </tr>\n",
       "    <tr>\n",
       "      <th>...</th>\n",
       "      <td>...</td>\n",
       "      <td>...</td>\n",
       "      <td>...</td>\n",
       "      <td>...</td>\n",
       "      <td>...</td>\n",
       "      <td>...</td>\n",
       "      <td>...</td>\n",
       "      <td>...</td>\n",
       "      <td>...</td>\n",
       "      <td>...</td>\n",
       "      <td>...</td>\n",
       "      <td>...</td>\n",
       "      <td>...</td>\n",
       "      <td>...</td>\n",
       "      <td>...</td>\n",
       "      <td>...</td>\n",
       "      <td>...</td>\n",
       "      <td>...</td>\n",
       "      <td>...</td>\n",
       "      <td>...</td>\n",
       "      <td>...</td>\n",
       "    </tr>\n",
       "    <tr>\n",
       "      <th>72</th>\n",
       "      <td>104</td>\n",
       "      <td>758.142857</td>\n",
       "      <td>0.0</td>\n",
       "      <td>0.000000</td>\n",
       "      <td>758.255814</td>\n",
       "      <td>758.317073</td>\n",
       "      <td>0.000000</td>\n",
       "      <td>0.000000</td>\n",
       "      <td>0.000000</td>\n",
       "      <td>0.000000</td>\n",
       "      <td>...</td>\n",
       "      <td>2775.000000</td>\n",
       "      <td>0.0</td>\n",
       "      <td>0.000000</td>\n",
       "      <td>0.000000</td>\n",
       "      <td>0.000000</td>\n",
       "      <td>3048.333333</td>\n",
       "      <td>0.000000</td>\n",
       "      <td>3072.000000</td>\n",
       "      <td>0.0</td>\n",
       "      <td>0.000000</td>\n",
       "    </tr>\n",
       "    <tr>\n",
       "      <th>73</th>\n",
       "      <td>105</td>\n",
       "      <td>0.000000</td>\n",
       "      <td>0.0</td>\n",
       "      <td>0.000000</td>\n",
       "      <td>0.000000</td>\n",
       "      <td>718.500000</td>\n",
       "      <td>0.000000</td>\n",
       "      <td>0.000000</td>\n",
       "      <td>0.000000</td>\n",
       "      <td>0.000000</td>\n",
       "      <td>...</td>\n",
       "      <td>0.000000</td>\n",
       "      <td>0.0</td>\n",
       "      <td>0.000000</td>\n",
       "      <td>2724.333333</td>\n",
       "      <td>0.000000</td>\n",
       "      <td>0.000000</td>\n",
       "      <td>0.000000</td>\n",
       "      <td>0.000000</td>\n",
       "      <td>0.0</td>\n",
       "      <td>0.000000</td>\n",
       "    </tr>\n",
       "    <tr>\n",
       "      <th>74</th>\n",
       "      <td>106</td>\n",
       "      <td>663.000000</td>\n",
       "      <td>651.0</td>\n",
       "      <td>0.000000</td>\n",
       "      <td>0.000000</td>\n",
       "      <td>0.000000</td>\n",
       "      <td>938.200000</td>\n",
       "      <td>0.000000</td>\n",
       "      <td>937.909091</td>\n",
       "      <td>962.142857</td>\n",
       "      <td>...</td>\n",
       "      <td>2663.000000</td>\n",
       "      <td>0.0</td>\n",
       "      <td>2671.000000</td>\n",
       "      <td>0.000000</td>\n",
       "      <td>0.000000</td>\n",
       "      <td>0.000000</td>\n",
       "      <td>2959.000000</td>\n",
       "      <td>0.000000</td>\n",
       "      <td>0.0</td>\n",
       "      <td>0.000000</td>\n",
       "    </tr>\n",
       "    <tr>\n",
       "      <th>75</th>\n",
       "      <td>107</td>\n",
       "      <td>0.000000</td>\n",
       "      <td>0.0</td>\n",
       "      <td>694.047619</td>\n",
       "      <td>0.000000</td>\n",
       "      <td>0.000000</td>\n",
       "      <td>0.000000</td>\n",
       "      <td>0.000000</td>\n",
       "      <td>985.666667</td>\n",
       "      <td>986.200000</td>\n",
       "      <td>...</td>\n",
       "      <td>0.000000</td>\n",
       "      <td>2689.0</td>\n",
       "      <td>0.000000</td>\n",
       "      <td>0.000000</td>\n",
       "      <td>0.000000</td>\n",
       "      <td>0.000000</td>\n",
       "      <td>2526.000000</td>\n",
       "      <td>0.000000</td>\n",
       "      <td>0.0</td>\n",
       "      <td>2955.878049</td>\n",
       "    </tr>\n",
       "    <tr>\n",
       "      <th>76</th>\n",
       "      <td>108</td>\n",
       "      <td>749.844444</td>\n",
       "      <td>0.0</td>\n",
       "      <td>0.000000</td>\n",
       "      <td>0.000000</td>\n",
       "      <td>0.000000</td>\n",
       "      <td>1066.020408</td>\n",
       "      <td>0.000000</td>\n",
       "      <td>0.000000</td>\n",
       "      <td>0.000000</td>\n",
       "      <td>...</td>\n",
       "      <td>0.000000</td>\n",
       "      <td>0.0</td>\n",
       "      <td>0.000000</td>\n",
       "      <td>0.000000</td>\n",
       "      <td>0.000000</td>\n",
       "      <td>3058.636364</td>\n",
       "      <td>0.000000</td>\n",
       "      <td>3056.818182</td>\n",
       "      <td>0.0</td>\n",
       "      <td>3058.000000</td>\n",
       "    </tr>\n",
       "  </tbody>\n",
       "</table>\n",
       "<p>77 rows × 91 columns</p>\n",
       "</div>"
      ],
      "text/plain": [
       "range_delay  Sensor ID  13_10000_mean_lower  13_16800_mean_lower  \\\n",
       "0                   32             0.000000                741.0   \n",
       "1                   33           754.402299                755.0   \n",
       "2                   34             0.000000                  0.0   \n",
       "3                   35             0.000000                  0.0   \n",
       "4                   36             0.000000                  0.0   \n",
       "..                 ...                  ...                  ...   \n",
       "72                 104           758.142857                  0.0   \n",
       "73                 105             0.000000                  0.0   \n",
       "74                 106           663.000000                651.0   \n",
       "75                 107             0.000000                  0.0   \n",
       "76                 108           749.844444                  0.0   \n",
       "\n",
       "range_delay  13_3000_mean_lower  13_6000_mean_lower  13_8000_mean_lower  \\\n",
       "0                      0.000000            0.000000            0.000000   \n",
       "1                      0.000000          755.307692          747.000000   \n",
       "2                    653.285714            0.000000            0.000000   \n",
       "3                      0.000000            0.000000          862.151515   \n",
       "4                      0.000000            0.000000            0.000000   \n",
       "..                          ...                 ...                 ...   \n",
       "72                     0.000000          758.255814          758.317073   \n",
       "73                     0.000000            0.000000          718.500000   \n",
       "74                     0.000000            0.000000            0.000000   \n",
       "75                   694.047619            0.000000            0.000000   \n",
       "76                     0.000000            0.000000            0.000000   \n",
       "\n",
       "range_delay  18_10000_mean_lower  18_16800_mean_lower  18_3000_mean_lower  \\\n",
       "0                       0.000000             0.000000         1047.000000   \n",
       "1                       0.000000             0.000000            0.000000   \n",
       "2                       0.000000           944.473684            0.000000   \n",
       "3                    1003.000000             0.000000            0.000000   \n",
       "4                    1066.244444             0.000000         1055.000000   \n",
       "..                           ...                  ...                 ...   \n",
       "72                      0.000000             0.000000            0.000000   \n",
       "73                      0.000000             0.000000            0.000000   \n",
       "74                    938.200000             0.000000          937.909091   \n",
       "75                      0.000000             0.000000          985.666667   \n",
       "76                   1066.020408             0.000000            0.000000   \n",
       "\n",
       "range_delay  18_6000_mean_lower  ...  48_10000_mean_upper  \\\n",
       "0                      0.000000  ...             0.000000   \n",
       "1                      0.000000  ...             0.000000   \n",
       "2                      0.000000  ...             0.000000   \n",
       "3                      0.000000  ...          2758.652174   \n",
       "4                   1066.105263  ...          2779.000000   \n",
       "..                          ...  ...                  ...   \n",
       "72                     0.000000  ...          2775.000000   \n",
       "73                     0.000000  ...             0.000000   \n",
       "74                   962.142857  ...          2663.000000   \n",
       "75                   986.200000  ...             0.000000   \n",
       "76                     0.000000  ...             0.000000   \n",
       "\n",
       "range_delay  48_16800_mean_upper  48_3000_mean_upper  48_6000_mean_upper  \\\n",
       "0                            0.0         2787.833333            0.000000   \n",
       "1                            0.0         2740.037037            0.000000   \n",
       "2                            0.0            0.000000            0.000000   \n",
       "3                            0.0         2756.839080            0.000000   \n",
       "4                            0.0            0.000000            0.000000   \n",
       "..                           ...                 ...                 ...   \n",
       "72                           0.0            0.000000            0.000000   \n",
       "73                           0.0            0.000000         2724.333333   \n",
       "74                           0.0         2671.000000            0.000000   \n",
       "75                        2689.0            0.000000            0.000000   \n",
       "76                           0.0            0.000000            0.000000   \n",
       "\n",
       "range_delay  48_8000_mean_upper  53_10000_mean_upper  53_16800_mean_upper  \\\n",
       "0                      0.000000          3099.000000             0.000000   \n",
       "1                      0.000000             0.000000          3073.666667   \n",
       "2                      0.000000             0.000000             0.000000   \n",
       "3                   2778.428571             0.000000             0.000000   \n",
       "4                      0.000000          3113.000000             0.000000   \n",
       "..                          ...                  ...                  ...   \n",
       "72                     0.000000          3048.333333             0.000000   \n",
       "73                     0.000000             0.000000             0.000000   \n",
       "74                     0.000000             0.000000          2959.000000   \n",
       "75                     0.000000             0.000000          2526.000000   \n",
       "76                     0.000000          3058.636364             0.000000   \n",
       "\n",
       "range_delay  53_3000_mean_upper  53_6000_mean_upper  53_8000_mean_upper  \n",
       "0                      0.000000                 0.0            0.000000  \n",
       "1                      0.000000              3073.4         3074.000000  \n",
       "2                      0.000000                 0.0            0.000000  \n",
       "3                      0.000000                 0.0            0.000000  \n",
       "4                      0.000000                 0.0            0.000000  \n",
       "..                          ...                 ...                 ...  \n",
       "72                  3072.000000                 0.0            0.000000  \n",
       "73                     0.000000                 0.0            0.000000  \n",
       "74                     0.000000                 0.0            0.000000  \n",
       "75                     0.000000                 0.0         2955.878049  \n",
       "76                  3056.818182                 0.0         3058.000000  \n",
       "\n",
       "[77 rows x 91 columns]"
      ]
     },
     "metadata": {},
     "output_type": "display_data"
    }
   ],
   "source": [
    "def drop_highly_correlated_features(df, threshold=0.8):\n",
    "    \"\"\"\n",
    "    Drops highly positively correlated features from a DataFrame.\n",
    "    \n",
    "    Parameters:\n",
    "    df (pd.DataFrame): The input DataFrame.\n",
    "    threshold (float): The correlation threshold for dropping features. Defaults to 0.8.\n",
    "    \n",
    "    Returns:\n",
    "    pd.DataFrame: DataFrame with highly positively correlated features removed.\n",
    "    list: List of dropped features.\n",
    "    \"\"\"\n",
    "    # Calculate the correlation matrix\n",
    "    corr_matrix = df.corr()\n",
    "    \n",
    "    # Identify highly positively correlated pairs\n",
    "    to_drop = set()\n",
    "    for i in range(corr_matrix.shape[0]):\n",
    "        for j in range(i + 1, corr_matrix.shape[1]):\n",
    "            if corr_matrix.iloc[i, j] > threshold:\n",
    "                colname = corr_matrix.columns[j]\n",
    "                to_drop.add(colname)\n",
    "    \n",
    "    # Drop the identified features\n",
    "    reduced_df = df.drop(columns=to_drop)\n",
    "    \n",
    "    return reduced_df, list(to_drop)\n",
    "\n",
    "# Apply the function to the dataset\n",
    "reduced_data_corr, dropped_features_corr = drop_highly_correlated_features(df_range_delay_ends, threshold=0.7)\n",
    "\n",
    "reduced_data_corr"
   ]
  },
  {
   "cell_type": "code",
   "execution_count": null,
   "metadata": {},
   "outputs": [
    {
     "data": {
      "text/plain": [
       "[]"
      ]
     },
     "execution_count": 246,
     "metadata": {},
     "output_type": "execute_result"
    }
   ],
   "source": [
    "dropped_features_corr"
   ]
  },
  {
   "cell_type": "code",
   "execution_count": null,
   "metadata": {},
   "outputs": [],
   "source": [
    "def plot_pca_interactive(data, sensor_id_col='Sensor ID', n_components=2):\n",
    "    \"\"\"\n",
    "    Plots an interactive scatter plot using PCA components.\n",
    "\n",
    "    Parameters:\n",
    "    data (pd.DataFrame): The input DataFrame containing features and Sensor ID.\n",
    "    sensor_id_col (str): The name of the column containing sensor IDs.\n",
    "    n_components (int): Number of principal components to compute.\n",
    "\n",
    "    Returns:\n",
    "    None: Displays an interactive Plotly scatter plot.\n",
    "    \"\"\"\n",
    "    # Apply PCA\n",
    "    pca = PCA(n_components=n_components)\n",
    "    principal_components = pca.fit_transform(data.drop(columns=[sensor_id_col]))\n",
    "\n",
    "    # Create a DataFrame with the principal components and Sensor ID\n",
    "    principal_df = pd.DataFrame(data=principal_components, columns=[f'PC{i+1}' for i in range(n_components)])\n",
    "    principal_df[sensor_id_col] = data[sensor_id_col]\n",
    "\n",
    "    # Create an interactive scatter plot using Plotly\n",
    "    fig = px.scatter(\n",
    "        principal_df,\n",
    "        x='PC1',\n",
    "        y='PC2',\n",
    "        color=sensor_id_col,\n",
    "        title='Sensors Visualized Using Principal Components',\n",
    "        labels={'PC1': 'Principal Component 1', 'PC2': 'Principal Component 2'},\n",
    "        hover_data=[sensor_id_col]\n",
    "    )\n",
    "\n",
    "    # Show the plot\n",
    "    fig.show()"
   ]
  },
  {
   "cell_type": "code",
   "execution_count": null,
   "metadata": {},
   "outputs": [
    {
     "data": {
      "application/vnd.plotly.v1+json": {
       "config": {
        "plotlyServerURL": "https://plot.ly"
       },
       "data": [
        {
         "customdata": [
          [
           32
          ],
          [
           33
          ],
          [
           34
          ],
          [
           35
          ],
          [
           36
          ],
          [
           37
          ],
          [
           38
          ],
          [
           39
          ],
          [
           40
          ],
          [
           41
          ],
          [
           42
          ],
          [
           43
          ],
          [
           44
          ],
          [
           45
          ],
          [
           46
          ],
          [
           47
          ],
          [
           48
          ],
          [
           49
          ],
          [
           50
          ],
          [
           51
          ],
          [
           52
          ],
          [
           53
          ],
          [
           54
          ],
          [
           55
          ],
          [
           56
          ],
          [
           57
          ],
          [
           58
          ],
          [
           59
          ],
          [
           60
          ],
          [
           61
          ],
          [
           62
          ],
          [
           63
          ],
          [
           64
          ],
          [
           65
          ],
          [
           66
          ],
          [
           67
          ],
          [
           68
          ],
          [
           69
          ],
          [
           70
          ],
          [
           71
          ],
          [
           72
          ],
          [
           73
          ],
          [
           74
          ],
          [
           75
          ],
          [
           76
          ],
          [
           77
          ],
          [
           78
          ],
          [
           79
          ],
          [
           80
          ],
          [
           81
          ],
          [
           82
          ],
          [
           83
          ],
          [
           84
          ],
          [
           85
          ],
          [
           86
          ],
          [
           87
          ],
          [
           88
          ],
          [
           89
          ],
          [
           90
          ],
          [
           91
          ],
          [
           92
          ],
          [
           93
          ],
          [
           94
          ],
          [
           95
          ],
          [
           96
          ],
          [
           97
          ],
          [
           98
          ],
          [
           99
          ],
          [
           100
          ],
          [
           101
          ],
          [
           102
          ],
          [
           103
          ],
          [
           104
          ],
          [
           105
          ],
          [
           106
          ],
          [
           107
          ],
          [
           108
          ]
         ],
         "hovertemplate": "Principal Component 1=%{x}<br>Principal Component 2=%{y}<br>Sensor ID=%{marker.color}<extra></extra>",
         "legendgroup": "",
         "marker": {
          "color": [
           32,
           33,
           34,
           35,
           36,
           37,
           38,
           39,
           40,
           41,
           42,
           43,
           44,
           45,
           46,
           47,
           48,
           49,
           50,
           51,
           52,
           53,
           54,
           55,
           56,
           57,
           58,
           59,
           60,
           61,
           62,
           63,
           64,
           65,
           66,
           67,
           68,
           69,
           70,
           71,
           72,
           73,
           74,
           75,
           76,
           77,
           78,
           79,
           80,
           81,
           82,
           83,
           84,
           85,
           86,
           87,
           88,
           89,
           90,
           91,
           92,
           93,
           94,
           95,
           96,
           97,
           98,
           99,
           100,
           101,
           102,
           103,
           104,
           105,
           106,
           107,
           108
          ],
          "coloraxis": "coloraxis",
          "symbol": "circle"
         },
         "mode": "markers",
         "name": "",
         "orientation": "v",
         "showlegend": false,
         "type": "scatter",
         "x": [
          -1927.1007794735256,
          -1937.1699078819618,
          -1743.3562344949773,
          -1274.4867755557889,
          -1107.003142169674,
          -1926.3054889180316,
          -1867.6102751745632,
          -1164.590248809227,
          -1238.1817419503648,
          -1749.3816766549285,
          -2037.7459292258843,
          -1525.6209325930963,
          -1226.8120115041163,
          -1921.9832170886066,
          -1913.8901067501895,
          -2028.1536546241969,
          -2001.061228745715,
          -1725.0201193330297,
          -1973.972605535514,
          -1943.2503669994665,
          -1951.079799444202,
          -1870.1913314986593,
          -1922.7296008074254,
          -1215.4463874856583,
          -1738.8196196229944,
          63768.83155500488,
          -2058.3140973328004,
          -1058.4266087219924,
          -1936.938706026055,
          -2004.7510341259297,
          -1980.633726574455,
          -2061.6865255807384,
          63970.18932076586,
          -1915.5707326103034,
          -1162.086087792927,
          -1057.9641950686957,
          -2011.529265355271,
          -1962.7115469238472,
          -1793.4708035700119,
          -1658.2436159044782,
          -2009.7858587431615,
          -1826.5703496424233,
          -1105.0225103979767,
          -1729.7303223431988,
          -2006.6018456575116,
          -1851.7058714469993,
          -1614.2748855707298,
          -1874.708231412134,
          -1176.1691089864917,
          -1785.8522430184885,
          -1091.8981888702965,
          -1928.3383231117998,
          -1343.7332717486681,
          -1799.4206494588188,
          -1802.933012535955,
          -1962.4676252659767,
          -2187.31759485556,
          -1156.3527200191083,
          -1676.3436154045346,
          -2020.2966937420397,
          -984.4659959548785,
          -1809.715005852113,
          -2042.2749848484466,
          -1896.1914663263726,
          -1742.230978530909,
          -2003.4852723148551,
          -1843.830435093462,
          -996.4269516115119,
          -2114.211174197389,
          -1003.9695302369354,
          -1939.5139948808617,
          -2096.0152661582797,
          -925.8640689257783,
          -1906.308841796922,
          -1212.7699227639373,
          -1813.8549099887132,
          -1865.0790261283257
         ],
         "xaxis": "x",
         "y": [
          -3649.6659253182343,
          2909.9153651304846,
          239.57873915765373,
          -2858.405921154921,
          -3493.688632766124,
          4482.768238380639,
          -1787.227841803417,
          7365.557424980758,
          -2025.1151817279037,
          5486.0449053116,
          -1333.3533819895952,
          1008.8956184156893,
          -724.2806759229718,
          -3218.391517633992,
          784.738406830062,
          -738.3416097902082,
          -2813.785046200354,
          -508.6729604205773,
          647.8730770504337,
          -2382.070247320894,
          -1328.5389787581057,
          -3127.332889493588,
          1290.7588251081625,
          3206.7488157178245,
          -1318.558944579565,
          -2598.030206329953,
          324.2914045646153,
          -2944.1431500856597,
          2306.5615556574094,
          -3762.6857458132217,
          1213.0488091127334,
          2894.3333716440416,
          2430.8869470789587,
          4153.242340095269,
          3067.0963957158797,
          -1574.3064645805403,
          -2967.7525953262175,
          -1339.0202599416577,
          1568.8067022005118,
          132.7786533656695,
          -2691.268677989792,
          -2389.6773239133904,
          1092.1996044223065,
          -3967.3795245717765,
          -1494.3177901712552,
          799.915759021407,
          930.3585339502853,
          -1950.2202990835556,
          2826.9232573825225,
          2835.8712012652,
          -3820.3929723322235,
          -794.5876354716041,
          -117.0399574295727,
          -2720.2267382099812,
          1086.8608929347952,
          748.3941375048977,
          809.0476529046854,
          6193.8814949734415,
          720.8030058768251,
          829.9759174260046,
          2831.236358496981,
          2265.7960777378084,
          -41.1709566821464,
          646.1470550633835,
          784.5508863981692,
          -2911.4256082877173,
          -3180.194541695999,
          -571.7770525107125,
          1705.9092003655744,
          -75.40730334842787,
          -546.2616588811184,
          -1522.2586249919877,
          1423.7349266596282,
          -1069.7909379496061,
          1608.388777761282,
          961.7948748382922,
          -258.9494300233167
         ],
         "yaxis": "y"
        }
       ],
       "layout": {
        "coloraxis": {
         "colorbar": {
          "title": {
           "text": "Sensor ID"
          }
         },
         "colorscale": [
          [
           0,
           "#0d0887"
          ],
          [
           0.1111111111111111,
           "#46039f"
          ],
          [
           0.2222222222222222,
           "#7201a8"
          ],
          [
           0.3333333333333333,
           "#9c179e"
          ],
          [
           0.4444444444444444,
           "#bd3786"
          ],
          [
           0.5555555555555556,
           "#d8576b"
          ],
          [
           0.6666666666666666,
           "#ed7953"
          ],
          [
           0.7777777777777778,
           "#fb9f3a"
          ],
          [
           0.8888888888888888,
           "#fdca26"
          ],
          [
           1,
           "#f0f921"
          ]
         ]
        },
        "legend": {
         "tracegroupgap": 0
        },
        "template": {
         "data": {
          "bar": [
           {
            "error_x": {
             "color": "#2a3f5f"
            },
            "error_y": {
             "color": "#2a3f5f"
            },
            "marker": {
             "line": {
              "color": "#E5ECF6",
              "width": 0.5
             },
             "pattern": {
              "fillmode": "overlay",
              "size": 10,
              "solidity": 0.2
             }
            },
            "type": "bar"
           }
          ],
          "barpolar": [
           {
            "marker": {
             "line": {
              "color": "#E5ECF6",
              "width": 0.5
             },
             "pattern": {
              "fillmode": "overlay",
              "size": 10,
              "solidity": 0.2
             }
            },
            "type": "barpolar"
           }
          ],
          "carpet": [
           {
            "aaxis": {
             "endlinecolor": "#2a3f5f",
             "gridcolor": "white",
             "linecolor": "white",
             "minorgridcolor": "white",
             "startlinecolor": "#2a3f5f"
            },
            "baxis": {
             "endlinecolor": "#2a3f5f",
             "gridcolor": "white",
             "linecolor": "white",
             "minorgridcolor": "white",
             "startlinecolor": "#2a3f5f"
            },
            "type": "carpet"
           }
          ],
          "choropleth": [
           {
            "colorbar": {
             "outlinewidth": 0,
             "ticks": ""
            },
            "type": "choropleth"
           }
          ],
          "contour": [
           {
            "colorbar": {
             "outlinewidth": 0,
             "ticks": ""
            },
            "colorscale": [
             [
              0,
              "#0d0887"
             ],
             [
              0.1111111111111111,
              "#46039f"
             ],
             [
              0.2222222222222222,
              "#7201a8"
             ],
             [
              0.3333333333333333,
              "#9c179e"
             ],
             [
              0.4444444444444444,
              "#bd3786"
             ],
             [
              0.5555555555555556,
              "#d8576b"
             ],
             [
              0.6666666666666666,
              "#ed7953"
             ],
             [
              0.7777777777777778,
              "#fb9f3a"
             ],
             [
              0.8888888888888888,
              "#fdca26"
             ],
             [
              1,
              "#f0f921"
             ]
            ],
            "type": "contour"
           }
          ],
          "contourcarpet": [
           {
            "colorbar": {
             "outlinewidth": 0,
             "ticks": ""
            },
            "type": "contourcarpet"
           }
          ],
          "heatmap": [
           {
            "colorbar": {
             "outlinewidth": 0,
             "ticks": ""
            },
            "colorscale": [
             [
              0,
              "#0d0887"
             ],
             [
              0.1111111111111111,
              "#46039f"
             ],
             [
              0.2222222222222222,
              "#7201a8"
             ],
             [
              0.3333333333333333,
              "#9c179e"
             ],
             [
              0.4444444444444444,
              "#bd3786"
             ],
             [
              0.5555555555555556,
              "#d8576b"
             ],
             [
              0.6666666666666666,
              "#ed7953"
             ],
             [
              0.7777777777777778,
              "#fb9f3a"
             ],
             [
              0.8888888888888888,
              "#fdca26"
             ],
             [
              1,
              "#f0f921"
             ]
            ],
            "type": "heatmap"
           }
          ],
          "heatmapgl": [
           {
            "colorbar": {
             "outlinewidth": 0,
             "ticks": ""
            },
            "colorscale": [
             [
              0,
              "#0d0887"
             ],
             [
              0.1111111111111111,
              "#46039f"
             ],
             [
              0.2222222222222222,
              "#7201a8"
             ],
             [
              0.3333333333333333,
              "#9c179e"
             ],
             [
              0.4444444444444444,
              "#bd3786"
             ],
             [
              0.5555555555555556,
              "#d8576b"
             ],
             [
              0.6666666666666666,
              "#ed7953"
             ],
             [
              0.7777777777777778,
              "#fb9f3a"
             ],
             [
              0.8888888888888888,
              "#fdca26"
             ],
             [
              1,
              "#f0f921"
             ]
            ],
            "type": "heatmapgl"
           }
          ],
          "histogram": [
           {
            "marker": {
             "pattern": {
              "fillmode": "overlay",
              "size": 10,
              "solidity": 0.2
             }
            },
            "type": "histogram"
           }
          ],
          "histogram2d": [
           {
            "colorbar": {
             "outlinewidth": 0,
             "ticks": ""
            },
            "colorscale": [
             [
              0,
              "#0d0887"
             ],
             [
              0.1111111111111111,
              "#46039f"
             ],
             [
              0.2222222222222222,
              "#7201a8"
             ],
             [
              0.3333333333333333,
              "#9c179e"
             ],
             [
              0.4444444444444444,
              "#bd3786"
             ],
             [
              0.5555555555555556,
              "#d8576b"
             ],
             [
              0.6666666666666666,
              "#ed7953"
             ],
             [
              0.7777777777777778,
              "#fb9f3a"
             ],
             [
              0.8888888888888888,
              "#fdca26"
             ],
             [
              1,
              "#f0f921"
             ]
            ],
            "type": "histogram2d"
           }
          ],
          "histogram2dcontour": [
           {
            "colorbar": {
             "outlinewidth": 0,
             "ticks": ""
            },
            "colorscale": [
             [
              0,
              "#0d0887"
             ],
             [
              0.1111111111111111,
              "#46039f"
             ],
             [
              0.2222222222222222,
              "#7201a8"
             ],
             [
              0.3333333333333333,
              "#9c179e"
             ],
             [
              0.4444444444444444,
              "#bd3786"
             ],
             [
              0.5555555555555556,
              "#d8576b"
             ],
             [
              0.6666666666666666,
              "#ed7953"
             ],
             [
              0.7777777777777778,
              "#fb9f3a"
             ],
             [
              0.8888888888888888,
              "#fdca26"
             ],
             [
              1,
              "#f0f921"
             ]
            ],
            "type": "histogram2dcontour"
           }
          ],
          "mesh3d": [
           {
            "colorbar": {
             "outlinewidth": 0,
             "ticks": ""
            },
            "type": "mesh3d"
           }
          ],
          "parcoords": [
           {
            "line": {
             "colorbar": {
              "outlinewidth": 0,
              "ticks": ""
             }
            },
            "type": "parcoords"
           }
          ],
          "pie": [
           {
            "automargin": true,
            "type": "pie"
           }
          ],
          "scatter": [
           {
            "fillpattern": {
             "fillmode": "overlay",
             "size": 10,
             "solidity": 0.2
            },
            "type": "scatter"
           }
          ],
          "scatter3d": [
           {
            "line": {
             "colorbar": {
              "outlinewidth": 0,
              "ticks": ""
             }
            },
            "marker": {
             "colorbar": {
              "outlinewidth": 0,
              "ticks": ""
             }
            },
            "type": "scatter3d"
           }
          ],
          "scattercarpet": [
           {
            "marker": {
             "colorbar": {
              "outlinewidth": 0,
              "ticks": ""
             }
            },
            "type": "scattercarpet"
           }
          ],
          "scattergeo": [
           {
            "marker": {
             "colorbar": {
              "outlinewidth": 0,
              "ticks": ""
             }
            },
            "type": "scattergeo"
           }
          ],
          "scattergl": [
           {
            "marker": {
             "colorbar": {
              "outlinewidth": 0,
              "ticks": ""
             }
            },
            "type": "scattergl"
           }
          ],
          "scattermapbox": [
           {
            "marker": {
             "colorbar": {
              "outlinewidth": 0,
              "ticks": ""
             }
            },
            "type": "scattermapbox"
           }
          ],
          "scatterpolar": [
           {
            "marker": {
             "colorbar": {
              "outlinewidth": 0,
              "ticks": ""
             }
            },
            "type": "scatterpolar"
           }
          ],
          "scatterpolargl": [
           {
            "marker": {
             "colorbar": {
              "outlinewidth": 0,
              "ticks": ""
             }
            },
            "type": "scatterpolargl"
           }
          ],
          "scatterternary": [
           {
            "marker": {
             "colorbar": {
              "outlinewidth": 0,
              "ticks": ""
             }
            },
            "type": "scatterternary"
           }
          ],
          "surface": [
           {
            "colorbar": {
             "outlinewidth": 0,
             "ticks": ""
            },
            "colorscale": [
             [
              0,
              "#0d0887"
             ],
             [
              0.1111111111111111,
              "#46039f"
             ],
             [
              0.2222222222222222,
              "#7201a8"
             ],
             [
              0.3333333333333333,
              "#9c179e"
             ],
             [
              0.4444444444444444,
              "#bd3786"
             ],
             [
              0.5555555555555556,
              "#d8576b"
             ],
             [
              0.6666666666666666,
              "#ed7953"
             ],
             [
              0.7777777777777778,
              "#fb9f3a"
             ],
             [
              0.8888888888888888,
              "#fdca26"
             ],
             [
              1,
              "#f0f921"
             ]
            ],
            "type": "surface"
           }
          ],
          "table": [
           {
            "cells": {
             "fill": {
              "color": "#EBF0F8"
             },
             "line": {
              "color": "white"
             }
            },
            "header": {
             "fill": {
              "color": "#C8D4E3"
             },
             "line": {
              "color": "white"
             }
            },
            "type": "table"
           }
          ]
         },
         "layout": {
          "annotationdefaults": {
           "arrowcolor": "#2a3f5f",
           "arrowhead": 0,
           "arrowwidth": 1
          },
          "autotypenumbers": "strict",
          "coloraxis": {
           "colorbar": {
            "outlinewidth": 0,
            "ticks": ""
           }
          },
          "colorscale": {
           "diverging": [
            [
             0,
             "#8e0152"
            ],
            [
             0.1,
             "#c51b7d"
            ],
            [
             0.2,
             "#de77ae"
            ],
            [
             0.3,
             "#f1b6da"
            ],
            [
             0.4,
             "#fde0ef"
            ],
            [
             0.5,
             "#f7f7f7"
            ],
            [
             0.6,
             "#e6f5d0"
            ],
            [
             0.7,
             "#b8e186"
            ],
            [
             0.8,
             "#7fbc41"
            ],
            [
             0.9,
             "#4d9221"
            ],
            [
             1,
             "#276419"
            ]
           ],
           "sequential": [
            [
             0,
             "#0d0887"
            ],
            [
             0.1111111111111111,
             "#46039f"
            ],
            [
             0.2222222222222222,
             "#7201a8"
            ],
            [
             0.3333333333333333,
             "#9c179e"
            ],
            [
             0.4444444444444444,
             "#bd3786"
            ],
            [
             0.5555555555555556,
             "#d8576b"
            ],
            [
             0.6666666666666666,
             "#ed7953"
            ],
            [
             0.7777777777777778,
             "#fb9f3a"
            ],
            [
             0.8888888888888888,
             "#fdca26"
            ],
            [
             1,
             "#f0f921"
            ]
           ],
           "sequentialminus": [
            [
             0,
             "#0d0887"
            ],
            [
             0.1111111111111111,
             "#46039f"
            ],
            [
             0.2222222222222222,
             "#7201a8"
            ],
            [
             0.3333333333333333,
             "#9c179e"
            ],
            [
             0.4444444444444444,
             "#bd3786"
            ],
            [
             0.5555555555555556,
             "#d8576b"
            ],
            [
             0.6666666666666666,
             "#ed7953"
            ],
            [
             0.7777777777777778,
             "#fb9f3a"
            ],
            [
             0.8888888888888888,
             "#fdca26"
            ],
            [
             1,
             "#f0f921"
            ]
           ]
          },
          "colorway": [
           "#636efa",
           "#EF553B",
           "#00cc96",
           "#ab63fa",
           "#FFA15A",
           "#19d3f3",
           "#FF6692",
           "#B6E880",
           "#FF97FF",
           "#FECB52"
          ],
          "font": {
           "color": "#2a3f5f"
          },
          "geo": {
           "bgcolor": "white",
           "lakecolor": "white",
           "landcolor": "#E5ECF6",
           "showlakes": true,
           "showland": true,
           "subunitcolor": "white"
          },
          "hoverlabel": {
           "align": "left"
          },
          "hovermode": "closest",
          "mapbox": {
           "style": "light"
          },
          "paper_bgcolor": "white",
          "plot_bgcolor": "#E5ECF6",
          "polar": {
           "angularaxis": {
            "gridcolor": "white",
            "linecolor": "white",
            "ticks": ""
           },
           "bgcolor": "#E5ECF6",
           "radialaxis": {
            "gridcolor": "white",
            "linecolor": "white",
            "ticks": ""
           }
          },
          "scene": {
           "xaxis": {
            "backgroundcolor": "#E5ECF6",
            "gridcolor": "white",
            "gridwidth": 2,
            "linecolor": "white",
            "showbackground": true,
            "ticks": "",
            "zerolinecolor": "white"
           },
           "yaxis": {
            "backgroundcolor": "#E5ECF6",
            "gridcolor": "white",
            "gridwidth": 2,
            "linecolor": "white",
            "showbackground": true,
            "ticks": "",
            "zerolinecolor": "white"
           },
           "zaxis": {
            "backgroundcolor": "#E5ECF6",
            "gridcolor": "white",
            "gridwidth": 2,
            "linecolor": "white",
            "showbackground": true,
            "ticks": "",
            "zerolinecolor": "white"
           }
          },
          "shapedefaults": {
           "line": {
            "color": "#2a3f5f"
           }
          },
          "ternary": {
           "aaxis": {
            "gridcolor": "white",
            "linecolor": "white",
            "ticks": ""
           },
           "baxis": {
            "gridcolor": "white",
            "linecolor": "white",
            "ticks": ""
           },
           "bgcolor": "#E5ECF6",
           "caxis": {
            "gridcolor": "white",
            "linecolor": "white",
            "ticks": ""
           }
          },
          "title": {
           "x": 0.05
          },
          "xaxis": {
           "automargin": true,
           "gridcolor": "white",
           "linecolor": "white",
           "ticks": "",
           "title": {
            "standoff": 15
           },
           "zerolinecolor": "white",
           "zerolinewidth": 2
          },
          "yaxis": {
           "automargin": true,
           "gridcolor": "white",
           "linecolor": "white",
           "ticks": "",
           "title": {
            "standoff": 15
           },
           "zerolinecolor": "white",
           "zerolinewidth": 2
          }
         }
        },
        "title": {
         "text": "Sensors Visualized Using Principal Components"
        },
        "xaxis": {
         "anchor": "y",
         "domain": [
          0,
          1
         ],
         "title": {
          "text": "Principal Component 1"
         }
        },
        "yaxis": {
         "anchor": "x",
         "domain": [
          0,
          1
         ],
         "title": {
          "text": "Principal Component 2"
         }
        }
       }
      }
     },
     "metadata": {},
     "output_type": "display_data"
    }
   ],
   "source": [
    "# Plot the PCA interactive plot\n",
    "plot_pca_interactive(df_range_delay_ends, sensor_id_col='Sensor ID', n_components=2)"
   ]
  },
  {
   "cell_type": "markdown",
   "metadata": {},
   "source": [
    "Try PCA on reduced data"
   ]
  },
  {
   "cell_type": "code",
   "execution_count": null,
   "metadata": {},
   "outputs": [
    {
     "data": {
      "image/png": "[encoded data removed]",
      "text/plain": [
       "<Figure size 1000x600 with 1 Axes>"
      ]
     },
     "metadata": {},
     "output_type": "display_data"
    }
   ],
   "source": [
    "explained_variance_corr, loadings_corr, features_corr = process_PCA(reduced_data_corr)"
   ]
  },
  {
   "cell_type": "code",
   "execution_count": null,
   "metadata": {},
   "outputs": [
    {
     "data": {
      "text/html": [
       "<div>\n",
       "<style scoped>\n",
       "    .dataframe tbody tr th:only-of-type {\n",
       "        vertical-align: middle;\n",
       "    }\n",
       "\n",
       "    .dataframe tbody tr th {\n",
       "        vertical-align: top;\n",
       "    }\n",
       "\n",
       "    .dataframe thead th {\n",
       "        text-align: right;\n",
       "    }\n",
       "</style>\n",
       "<table border=\"1\" class=\"dataframe\">\n",
       "  <thead>\n",
       "    <tr style=\"text-align: right;\">\n",
       "      <th></th>\n",
       "      <th>PC1</th>\n",
       "      <th>PC2</th>\n",
       "      <th>PC3</th>\n",
       "      <th>PC4</th>\n",
       "      <th>PC5</th>\n",
       "      <th>PC6</th>\n",
       "      <th>PC7</th>\n",
       "      <th>PC8</th>\n",
       "      <th>PC9</th>\n",
       "      <th>PC10</th>\n",
       "      <th>...</th>\n",
       "      <th>PC35</th>\n",
       "      <th>PC36</th>\n",
       "      <th>PC37</th>\n",
       "      <th>PC38</th>\n",
       "      <th>PC39</th>\n",
       "      <th>PC40</th>\n",
       "      <th>PC41</th>\n",
       "      <th>PC42</th>\n",
       "      <th>PC43</th>\n",
       "      <th>PC44</th>\n",
       "    </tr>\n",
       "    <tr>\n",
       "      <th>range_delay</th>\n",
       "      <th></th>\n",
       "      <th></th>\n",
       "      <th></th>\n",
       "      <th></th>\n",
       "      <th></th>\n",
       "      <th></th>\n",
       "      <th></th>\n",
       "      <th></th>\n",
       "      <th></th>\n",
       "      <th></th>\n",
       "      <th></th>\n",
       "      <th></th>\n",
       "      <th></th>\n",
       "      <th></th>\n",
       "      <th></th>\n",
       "      <th></th>\n",
       "      <th></th>\n",
       "      <th></th>\n",
       "      <th></th>\n",
       "      <th></th>\n",
       "      <th></th>\n",
       "    </tr>\n",
       "  </thead>\n",
       "  <tbody>\n",
       "    <tr>\n",
       "      <th>13_10000_lower</th>\n",
       "      <td>0.012515</td>\n",
       "      <td>0.075785</td>\n",
       "      <td>0.178538</td>\n",
       "      <td>-0.015022</td>\n",
       "      <td>0.018133</td>\n",
       "      <td>0.091393</td>\n",
       "      <td>0.093010</td>\n",
       "      <td>0.056118</td>\n",
       "      <td>0.063775</td>\n",
       "      <td>0.063213</td>\n",
       "      <td>...</td>\n",
       "      <td>0.109069</td>\n",
       "      <td>0.288093</td>\n",
       "      <td>-0.078824</td>\n",
       "      <td>-0.118301</td>\n",
       "      <td>-0.034338</td>\n",
       "      <td>-0.079413</td>\n",
       "      <td>-0.010353</td>\n",
       "      <td>-0.159203</td>\n",
       "      <td>-0.097897</td>\n",
       "      <td>0.181414</td>\n",
       "    </tr>\n",
       "    <tr>\n",
       "      <th>13_16800_lower</th>\n",
       "      <td>0.085003</td>\n",
       "      <td>0.034685</td>\n",
       "      <td>0.082188</td>\n",
       "      <td>-0.129187</td>\n",
       "      <td>-0.143437</td>\n",
       "      <td>-0.056636</td>\n",
       "      <td>0.058686</td>\n",
       "      <td>-0.038639</td>\n",
       "      <td>-0.075581</td>\n",
       "      <td>-0.033288</td>\n",
       "      <td>...</td>\n",
       "      <td>0.018781</td>\n",
       "      <td>0.115061</td>\n",
       "      <td>-0.048025</td>\n",
       "      <td>0.018001</td>\n",
       "      <td>0.109772</td>\n",
       "      <td>0.230352</td>\n",
       "      <td>-0.019326</td>\n",
       "      <td>-0.068940</td>\n",
       "      <td>-0.096993</td>\n",
       "      <td>0.368895</td>\n",
       "    </tr>\n",
       "    <tr>\n",
       "      <th>13_3000_lower</th>\n",
       "      <td>0.184595</td>\n",
       "      <td>0.215630</td>\n",
       "      <td>-0.046248</td>\n",
       "      <td>-0.056324</td>\n",
       "      <td>-0.040533</td>\n",
       "      <td>0.077118</td>\n",
       "      <td>-0.076838</td>\n",
       "      <td>0.111500</td>\n",
       "      <td>0.005962</td>\n",
       "      <td>0.056313</td>\n",
       "      <td>...</td>\n",
       "      <td>0.005478</td>\n",
       "      <td>-0.013635</td>\n",
       "      <td>-0.182113</td>\n",
       "      <td>0.084389</td>\n",
       "      <td>-0.064611</td>\n",
       "      <td>0.069340</td>\n",
       "      <td>0.111329</td>\n",
       "      <td>0.022287</td>\n",
       "      <td>-0.010525</td>\n",
       "      <td>-0.106709</td>\n",
       "    </tr>\n",
       "    <tr>\n",
       "      <th>13_6000_lower</th>\n",
       "      <td>0.063267</td>\n",
       "      <td>0.173413</td>\n",
       "      <td>-0.023608</td>\n",
       "      <td>-0.234535</td>\n",
       "      <td>0.020402</td>\n",
       "      <td>0.150094</td>\n",
       "      <td>0.026739</td>\n",
       "      <td>-0.043895</td>\n",
       "      <td>-0.060016</td>\n",
       "      <td>0.151052</td>\n",
       "      <td>...</td>\n",
       "      <td>-0.081606</td>\n",
       "      <td>0.028635</td>\n",
       "      <td>0.032046</td>\n",
       "      <td>-0.132828</td>\n",
       "      <td>-0.080104</td>\n",
       "      <td>0.045267</td>\n",
       "      <td>-0.070072</td>\n",
       "      <td>-0.174624</td>\n",
       "      <td>0.063192</td>\n",
       "      <td>-0.006690</td>\n",
       "    </tr>\n",
       "    <tr>\n",
       "      <th>13_8000_lower</th>\n",
       "      <td>0.057570</td>\n",
       "      <td>0.168437</td>\n",
       "      <td>0.132001</td>\n",
       "      <td>-0.002814</td>\n",
       "      <td>-0.140396</td>\n",
       "      <td>0.132622</td>\n",
       "      <td>0.064632</td>\n",
       "      <td>-0.033019</td>\n",
       "      <td>0.006123</td>\n",
       "      <td>0.102637</td>\n",
       "      <td>...</td>\n",
       "      <td>-0.051680</td>\n",
       "      <td>-0.082044</td>\n",
       "      <td>0.141441</td>\n",
       "      <td>-0.142714</td>\n",
       "      <td>0.059118</td>\n",
       "      <td>0.112400</td>\n",
       "      <td>-0.008998</td>\n",
       "      <td>-0.051050</td>\n",
       "      <td>0.046277</td>\n",
       "      <td>0.090741</td>\n",
       "    </tr>\n",
       "    <tr>\n",
       "      <th>...</th>\n",
       "      <td>...</td>\n",
       "      <td>...</td>\n",
       "      <td>...</td>\n",
       "      <td>...</td>\n",
       "      <td>...</td>\n",
       "      <td>...</td>\n",
       "      <td>...</td>\n",
       "      <td>...</td>\n",
       "      <td>...</td>\n",
       "      <td>...</td>\n",
       "      <td>...</td>\n",
       "      <td>...</td>\n",
       "      <td>...</td>\n",
       "      <td>...</td>\n",
       "      <td>...</td>\n",
       "      <td>...</td>\n",
       "      <td>...</td>\n",
       "      <td>...</td>\n",
       "      <td>...</td>\n",
       "      <td>...</td>\n",
       "      <td>...</td>\n",
       "    </tr>\n",
       "    <tr>\n",
       "      <th>48_8000_upper</th>\n",
       "      <td>0.055529</td>\n",
       "      <td>-0.074559</td>\n",
       "      <td>0.045541</td>\n",
       "      <td>-0.053186</td>\n",
       "      <td>-0.066203</td>\n",
       "      <td>-0.152676</td>\n",
       "      <td>-0.282747</td>\n",
       "      <td>-0.038742</td>\n",
       "      <td>-0.152741</td>\n",
       "      <td>0.021464</td>\n",
       "      <td>...</td>\n",
       "      <td>-0.050449</td>\n",
       "      <td>0.049503</td>\n",
       "      <td>-0.036895</td>\n",
       "      <td>0.036577</td>\n",
       "      <td>-0.008075</td>\n",
       "      <td>0.103110</td>\n",
       "      <td>0.005012</td>\n",
       "      <td>-0.072982</td>\n",
       "      <td>-0.032012</td>\n",
       "      <td>-0.039200</td>\n",
       "    </tr>\n",
       "    <tr>\n",
       "      <th>53_10000_upper</th>\n",
       "      <td>0.042964</td>\n",
       "      <td>0.041093</td>\n",
       "      <td>-0.107216</td>\n",
       "      <td>0.147488</td>\n",
       "      <td>-0.072788</td>\n",
       "      <td>0.090331</td>\n",
       "      <td>-0.031851</td>\n",
       "      <td>0.196465</td>\n",
       "      <td>-0.240411</td>\n",
       "      <td>-0.066374</td>\n",
       "      <td>...</td>\n",
       "      <td>0.064212</td>\n",
       "      <td>0.004928</td>\n",
       "      <td>0.021262</td>\n",
       "      <td>-0.147112</td>\n",
       "      <td>-0.076308</td>\n",
       "      <td>0.001598</td>\n",
       "      <td>-0.049306</td>\n",
       "      <td>0.027535</td>\n",
       "      <td>0.217139</td>\n",
       "      <td>-0.045575</td>\n",
       "    </tr>\n",
       "    <tr>\n",
       "      <th>53_16800_upper</th>\n",
       "      <td>0.144981</td>\n",
       "      <td>0.110035</td>\n",
       "      <td>0.000320</td>\n",
       "      <td>0.073700</td>\n",
       "      <td>0.085964</td>\n",
       "      <td>-0.094514</td>\n",
       "      <td>0.259420</td>\n",
       "      <td>-0.070585</td>\n",
       "      <td>0.005620</td>\n",
       "      <td>0.012917</td>\n",
       "      <td>...</td>\n",
       "      <td>-0.031692</td>\n",
       "      <td>0.017554</td>\n",
       "      <td>-0.052616</td>\n",
       "      <td>0.193125</td>\n",
       "      <td>0.148870</td>\n",
       "      <td>-0.092240</td>\n",
       "      <td>-0.155639</td>\n",
       "      <td>0.156962</td>\n",
       "      <td>0.000289</td>\n",
       "      <td>0.018752</td>\n",
       "    </tr>\n",
       "    <tr>\n",
       "      <th>53_6000_upper</th>\n",
       "      <td>0.202450</td>\n",
       "      <td>0.057197</td>\n",
       "      <td>-0.111492</td>\n",
       "      <td>-0.016117</td>\n",
       "      <td>-0.104336</td>\n",
       "      <td>-0.094477</td>\n",
       "      <td>-0.022795</td>\n",
       "      <td>-0.180322</td>\n",
       "      <td>-0.119930</td>\n",
       "      <td>0.042900</td>\n",
       "      <td>...</td>\n",
       "      <td>-0.063217</td>\n",
       "      <td>0.030027</td>\n",
       "      <td>0.028804</td>\n",
       "      <td>-0.014711</td>\n",
       "      <td>-0.146408</td>\n",
       "      <td>-0.148839</td>\n",
       "      <td>0.090332</td>\n",
       "      <td>0.058147</td>\n",
       "      <td>0.184000</td>\n",
       "      <td>0.032664</td>\n",
       "    </tr>\n",
       "    <tr>\n",
       "      <th>53_8000_upper</th>\n",
       "      <td>0.193621</td>\n",
       "      <td>-0.047461</td>\n",
       "      <td>-0.235870</td>\n",
       "      <td>0.068413</td>\n",
       "      <td>-0.111595</td>\n",
       "      <td>-0.014238</td>\n",
       "      <td>0.077776</td>\n",
       "      <td>-0.029082</td>\n",
       "      <td>-0.080532</td>\n",
       "      <td>-0.077911</td>\n",
       "      <td>...</td>\n",
       "      <td>-0.069458</td>\n",
       "      <td>-0.026694</td>\n",
       "      <td>0.101486</td>\n",
       "      <td>-0.022458</td>\n",
       "      <td>0.001370</td>\n",
       "      <td>0.058357</td>\n",
       "      <td>-0.203937</td>\n",
       "      <td>0.078648</td>\n",
       "      <td>-0.212907</td>\n",
       "      <td>0.121231</td>\n",
       "    </tr>\n",
       "  </tbody>\n",
       "</table>\n",
       "<p>88 rows × 44 columns</p>\n",
       "</div>"
      ],
      "text/plain": [
       "                     PC1       PC2       PC3       PC4       PC5       PC6  \\\n",
       "range_delay                                                                  \n",
       "13_10000_lower  0.012515  0.075785  0.178538 -0.015022  0.018133  0.091393   \n",
       "13_16800_lower  0.085003  0.034685  0.082188 -0.129187 -0.143437 -0.056636   \n",
       "13_3000_lower   0.184595  0.215630 -0.046248 -0.056324 -0.040533  0.077118   \n",
       "13_6000_lower   0.063267  0.173413 -0.023608 -0.234535  0.020402  0.150094   \n",
       "13_8000_lower   0.057570  0.168437  0.132001 -0.002814 -0.140396  0.132622   \n",
       "...                  ...       ...       ...       ...       ...       ...   \n",
       "48_8000_upper   0.055529 -0.074559  0.045541 -0.053186 -0.066203 -0.152676   \n",
       "53_10000_upper  0.042964  0.041093 -0.107216  0.147488 -0.072788  0.090331   \n",
       "53_16800_upper  0.144981  0.110035  0.000320  0.073700  0.085964 -0.094514   \n",
       "53_6000_upper   0.202450  0.057197 -0.111492 -0.016117 -0.104336 -0.094477   \n",
       "53_8000_upper   0.193621 -0.047461 -0.235870  0.068413 -0.111595 -0.014238   \n",
       "\n",
       "                     PC7       PC8       PC9      PC10  ...      PC35  \\\n",
       "range_delay                                             ...             \n",
       "13_10000_lower  0.093010  0.056118  0.063775  0.063213  ...  0.109069   \n",
       "13_16800_lower  0.058686 -0.038639 -0.075581 -0.033288  ...  0.018781   \n",
       "13_3000_lower  -0.076838  0.111500  0.005962  0.056313  ...  0.005478   \n",
       "13_6000_lower   0.026739 -0.043895 -0.060016  0.151052  ... -0.081606   \n",
       "13_8000_lower   0.064632 -0.033019  0.006123  0.102637  ... -0.051680   \n",
       "...                  ...       ...       ...       ...  ...       ...   \n",
       "48_8000_upper  -0.282747 -0.038742 -0.152741  0.021464  ... -0.050449   \n",
       "53_10000_upper -0.031851  0.196465 -0.240411 -0.066374  ...  0.064212   \n",
       "53_16800_upper  0.259420 -0.070585  0.005620  0.012917  ... -0.031692   \n",
       "53_6000_upper  -0.022795 -0.180322 -0.119930  0.042900  ... -0.063217   \n",
       "53_8000_upper   0.077776 -0.029082 -0.080532 -0.077911  ... -0.069458   \n",
       "\n",
       "                    PC36      PC37      PC38      PC39      PC40      PC41  \\\n",
       "range_delay                                                                  \n",
       "13_10000_lower  0.288093 -0.078824 -0.118301 -0.034338 -0.079413 -0.010353   \n",
       "13_16800_lower  0.115061 -0.048025  0.018001  0.109772  0.230352 -0.019326   \n",
       "13_3000_lower  -0.013635 -0.182113  0.084389 -0.064611  0.069340  0.111329   \n",
       "13_6000_lower   0.028635  0.032046 -0.132828 -0.080104  0.045267 -0.070072   \n",
       "13_8000_lower  -0.082044  0.141441 -0.142714  0.059118  0.112400 -0.008998   \n",
       "...                  ...       ...       ...       ...       ...       ...   \n",
       "48_8000_upper   0.049503 -0.036895  0.036577 -0.008075  0.103110  0.005012   \n",
       "53_10000_upper  0.004928  0.021262 -0.147112 -0.076308  0.001598 -0.049306   \n",
       "53_16800_upper  0.017554 -0.052616  0.193125  0.148870 -0.092240 -0.155639   \n",
       "53_6000_upper   0.030027  0.028804 -0.014711 -0.146408 -0.148839  0.090332   \n",
       "53_8000_upper  -0.026694  0.101486 -0.022458  0.001370  0.058357 -0.203937   \n",
       "\n",
       "                    PC42      PC43      PC44  \n",
       "range_delay                                   \n",
       "13_10000_lower -0.159203 -0.097897  0.181414  \n",
       "13_16800_lower -0.068940 -0.096993  0.368895  \n",
       "13_3000_lower   0.022287 -0.010525 -0.106709  \n",
       "13_6000_lower  -0.174624  0.063192 -0.006690  \n",
       "13_8000_lower  -0.051050  0.046277  0.090741  \n",
       "...                  ...       ...       ...  \n",
       "48_8000_upper  -0.072982 -0.032012 -0.039200  \n",
       "53_10000_upper  0.027535  0.217139 -0.045575  \n",
       "53_16800_upper  0.156962  0.000289  0.018752  \n",
       "53_6000_upper   0.058147  0.184000  0.032664  \n",
       "53_8000_upper   0.078648 -0.212907  0.121231  \n",
       "\n",
       "[88 rows x 44 columns]"
      ]
     },
     "metadata": {},
     "output_type": "display_data"
    }
   ],
   "source": [
    "# Create a DataFrame for the loadings\n",
    "loading_df_corr = pd.DataFrame(loadings_corr.T, columns=[f'PC{i+1}' for i in range(loadings_corr.shape[0])], index=features_corr.columns)\n",
    "loading_df_corr"
   ]
  },
  {
   "cell_type": "code",
   "execution_count": null,
   "metadata": {},
   "outputs": [
    {
     "data": {
      "text/html": [
       "<div>\n",
       "<style scoped>\n",
       "    .dataframe tbody tr th:only-of-type {\n",
       "        vertical-align: middle;\n",
       "    }\n",
       "\n",
       "    .dataframe tbody tr th {\n",
       "        vertical-align: top;\n",
       "    }\n",
       "\n",
       "    .dataframe thead th {\n",
       "        text-align: right;\n",
       "    }\n",
       "</style>\n",
       "<table border=\"1\" class=\"dataframe\">\n",
       "  <thead>\n",
       "    <tr style=\"text-align: right;\">\n",
       "      <th></th>\n",
       "      <th>Feature</th>\n",
       "      <th>Importance</th>\n",
       "    </tr>\n",
       "  </thead>\n",
       "  <tbody>\n",
       "    <tr>\n",
       "      <th>35</th>\n",
       "      <td>48_10000_lower</td>\n",
       "      <td>2.897291</td>\n",
       "    </tr>\n",
       "    <tr>\n",
       "      <th>55</th>\n",
       "      <td>23_16800_upper</td>\n",
       "      <td>2.855303</td>\n",
       "    </tr>\n",
       "    <tr>\n",
       "      <th>22</th>\n",
       "      <td>33_3000_lower</td>\n",
       "      <td>2.850252</td>\n",
       "    </tr>\n",
       "    <tr>\n",
       "      <th>37</th>\n",
       "      <td>48_3000_lower</td>\n",
       "      <td>2.809336</td>\n",
       "    </tr>\n",
       "    <tr>\n",
       "      <th>8</th>\n",
       "      <td>18_6000_lower</td>\n",
       "      <td>2.766342</td>\n",
       "    </tr>\n",
       "    <tr>\n",
       "      <th>...</th>\n",
       "      <td>...</td>\n",
       "      <td>...</td>\n",
       "    </tr>\n",
       "    <tr>\n",
       "      <th>10</th>\n",
       "      <td>23_10000_lower</td>\n",
       "      <td>2.109517</td>\n",
       "    </tr>\n",
       "    <tr>\n",
       "      <th>3</th>\n",
       "      <td>13_6000_lower</td>\n",
       "      <td>2.091893</td>\n",
       "    </tr>\n",
       "    <tr>\n",
       "      <th>14</th>\n",
       "      <td>23_8000_lower</td>\n",
       "      <td>2.064383</td>\n",
       "    </tr>\n",
       "    <tr>\n",
       "      <th>2</th>\n",
       "      <td>13_3000_lower</td>\n",
       "      <td>2.012307</td>\n",
       "    </tr>\n",
       "    <tr>\n",
       "      <th>25</th>\n",
       "      <td>38_10000_lower</td>\n",
       "      <td>1.915079</td>\n",
       "    </tr>\n",
       "  </tbody>\n",
       "</table>\n",
       "<p>88 rows × 2 columns</p>\n",
       "</div>"
      ],
      "text/plain": [
       "           Feature  Importance\n",
       "35  48_10000_lower    2.897291\n",
       "55  23_16800_upper    2.855303\n",
       "22   33_3000_lower    2.850252\n",
       "37   48_3000_lower    2.809336\n",
       "8    18_6000_lower    2.766342\n",
       "..             ...         ...\n",
       "10  23_10000_lower    2.109517\n",
       "3    13_6000_lower    2.091893\n",
       "14   23_8000_lower    2.064383\n",
       "2    13_3000_lower    2.012307\n",
       "25  38_10000_lower    1.915079\n",
       "\n",
       "[88 rows x 2 columns]"
      ]
     },
     "metadata": {},
     "output_type": "display_data"
    }
   ],
   "source": [
    "# Determine the number of components to retain 90% variance\n",
    "cumulative_variance = np.cumsum(explained_variance_corr)\n",
    "num_components = np.argmax(cumulative_variance >= 0.9) + 1\n",
    "\n",
    "# Get the loadings for the selected components\n",
    "selected_loadings_corr = loadings_corr[:num_components, :]\n",
    "\n",
    "# Calculate the importance of each feature by summing the absolute values of its loadings across the selected components\n",
    "feature_importance_corr = np.sum(np.abs(selected_loadings_corr), axis=0)\n",
    "\n",
    "# Create a DataFrame for feature importance\n",
    "feature_importance_df_corr = pd.DataFrame({'Feature': features_corr.columns, 'Importance': feature_importance_corr})\n",
    "\n",
    "# Sort the features by importance\n",
    "feature_importance_df_corr = feature_importance_df_corr.sort_values(by='Importance', ascending=False)\n",
    "\n",
    "# Select the top N features (e.g., top 10 features)\n",
    "top_features_corr = feature_importance_df_corr.head(200)\n",
    "\n",
    "top_features_corr"
   ]
  },
  {
   "cell_type": "code",
   "execution_count": null,
   "metadata": {},
   "outputs": [
    {
     "data": {
      "application/vnd.plotly.v1+json": {
       "config": {
        "plotlyServerURL": "https://plot.ly"
       },
       "data": [
        {
         "customdata": [
          [
           32
          ],
          [
           33
          ],
          [
           34
          ],
          [
           35
          ],
          [
           36
          ],
          [
           37
          ],
          [
           38
          ],
          [
           39
          ],
          [
           40
          ],
          [
           41
          ],
          [
           42
          ],
          [
           43
          ],
          [
           44
          ],
          [
           45
          ],
          [
           46
          ],
          [
           47
          ],
          [
           48
          ],
          [
           49
          ],
          [
           50
          ],
          [
           51
          ],
          [
           52
          ],
          [
           53
          ],
          [
           54
          ],
          [
           55
          ],
          [
           56
          ],
          [
           57
          ],
          [
           58
          ],
          [
           59
          ],
          [
           60
          ],
          [
           61
          ],
          [
           62
          ],
          [
           63
          ],
          [
           64
          ],
          [
           65
          ],
          [
           66
          ],
          [
           67
          ],
          [
           68
          ],
          [
           69
          ],
          [
           70
          ],
          [
           71
          ],
          [
           72
          ],
          [
           73
          ],
          [
           74
          ],
          [
           75
          ]
         ],
         "hovertemplate": "Principal Component 1=%{x}<br>Principal Component 2=%{y}<br>Sensor ID=%{marker.color}<extra></extra>",
         "legendgroup": "",
         "marker": {
          "color": [
           32,
           33,
           34,
           35,
           36,
           37,
           38,
           39,
           40,
           41,
           42,
           43,
           44,
           45,
           46,
           47,
           48,
           49,
           50,
           51,
           52,
           53,
           54,
           55,
           56,
           57,
           58,
           59,
           60,
           61,
           62,
           63,
           64,
           65,
           66,
           67,
           68,
           69,
           70,
           71,
           72,
           73,
           74,
           75
          ],
          "coloraxis": "coloraxis",
          "symbol": "circle"
         },
         "mode": "markers",
         "name": "",
         "orientation": "v",
         "showlegend": false,
         "type": "scatter",
         "x": [
          -3213.2861187051035,
          -3157.6208273185366,
          -2959.7383899809242,
          -2526.248460205651,
          -2380.7323190765396,
          -3177.372314600751,
          -3098.8924905505005,
          -2412.7621595602864,
          -2489.00922958073,
          -3027.608708405632,
          -3255.4098431091797,
          -2822.7220805102,
          -2511.3663669223047,
          -3191.282820345062,
          -3212.2691854570317,
          -3232.8485972462117,
          -3225.210533608624,
          -2947.9523622975266,
          -3239.9111593176335,
          -3221.0265065824033,
          -3233.670860797127,
          -3137.8572992456784,
          -3178.59546837849,
          -2475.7441580836116,
          -2983.169163108799,
          62512.01686058885,
          -3304.0731381348146,
          -2329.863053836092,
          -3180.2437974580953,
          -3273.809024070681,
          -3291.688754410515,
          -3338.8406349723377,
          62714.585041246115,
          -3183.6328923638357,
          -2468.554919532043,
          -2292.94247344014,
          -3238.9725261477934,
          -3207.2957628194204,
          -3082.740918527717,
          -2969.622307083558,
          -3271.2924306901004,
          -3128.505221114234,
          -2357.4139635918605,
          -2994.802660647198
         ],
         "xaxis": "x",
         "y": [
          -3467.707130093646,
          3949.2450194351677,
          198.12564916483274,
          -2959.252272456045,
          -2829.5493238455933,
          5852.099294505959,
          -591.7286484672043,
          7915.265438113962,
          -996.999043019381,
          4741.050114716264,
          909.530253902252,
          550.2667464290881,
          -434.3507374834713,
          -3326.6067452347997,
          -599.6817832989367,
          10.626387325996548,
          -2320.2955541265746,
          -896.3852448788276,
          1486.097809713727,
          -2730.443922072477,
          -2242.499024040993,
          -1882.1556708141816,
          2143.0923487366736,
          2868.3269765981668,
          -1543.041857872158,
          -1599.4530361778325,
          1998.0857011425906,
          -3885.656173136472,
          3698.6969053938615,
          -2173.3353318633785,
          -1040.4327661547313,
          2915.8027731208517,
          1584.2781018804899,
          4047.729804176974,
          1870.3493449602272,
          -1598.9510760849712,
          -1932.8391323631813,
          256.59839856640826,
          113.66103061967698,
          -1103.9225690597273,
          -1919.80255885064,
          -3382.394966087052,
          1872.108669268829,
          -3523.5522002897255
         ],
         "yaxis": "y"
        }
       ],
       "layout": {
        "coloraxis": {
         "colorbar": {
          "title": {
           "text": "Sensor ID"
          }
         },
         "colorscale": [
          [
           0,
           "#0d0887"
          ],
          [
           0.1111111111111111,
           "#46039f"
          ],
          [
           0.2222222222222222,
           "#7201a8"
          ],
          [
           0.3333333333333333,
           "#9c179e"
          ],
          [
           0.4444444444444444,
           "#bd3786"
          ],
          [
           0.5555555555555556,
           "#d8576b"
          ],
          [
           0.6666666666666666,
           "#ed7953"
          ],
          [
           0.7777777777777778,
           "#fb9f3a"
          ],
          [
           0.8888888888888888,
           "#fdca26"
          ],
          [
           1,
           "#f0f921"
          ]
         ]
        },
        "legend": {
         "tracegroupgap": 0
        },
        "template": {
         "data": {
          "bar": [
           {
            "error_x": {
             "color": "#2a3f5f"
            },
            "error_y": {
             "color": "#2a3f5f"
            },
            "marker": {
             "line": {
              "color": "#E5ECF6",
              "width": 0.5
             },
             "pattern": {
              "fillmode": "overlay",
              "size": 10,
              "solidity": 0.2
             }
            },
            "type": "bar"
           }
          ],
          "barpolar": [
           {
            "marker": {
             "line": {
              "color": "#E5ECF6",
              "width": 0.5
             },
             "pattern": {
              "fillmode": "overlay",
              "size": 10,
              "solidity": 0.2
             }
            },
            "type": "barpolar"
           }
          ],
          "carpet": [
           {
            "aaxis": {
             "endlinecolor": "#2a3f5f",
             "gridcolor": "white",
             "linecolor": "white",
             "minorgridcolor": "white",
             "startlinecolor": "#2a3f5f"
            },
            "baxis": {
             "endlinecolor": "#2a3f5f",
             "gridcolor": "white",
             "linecolor": "white",
             "minorgridcolor": "white",
             "startlinecolor": "#2a3f5f"
            },
            "type": "carpet"
           }
          ],
          "choropleth": [
           {
            "colorbar": {
             "outlinewidth": 0,
             "ticks": ""
            },
            "type": "choropleth"
           }
          ],
          "contour": [
           {
            "colorbar": {
             "outlinewidth": 0,
             "ticks": ""
            },
            "colorscale": [
             [
              0,
              "#0d0887"
             ],
             [
              0.1111111111111111,
              "#46039f"
             ],
             [
              0.2222222222222222,
              "#7201a8"
             ],
             [
              0.3333333333333333,
              "#9c179e"
             ],
             [
              0.4444444444444444,
              "#bd3786"
             ],
             [
              0.5555555555555556,
              "#d8576b"
             ],
             [
              0.6666666666666666,
              "#ed7953"
             ],
             [
              0.7777777777777778,
              "#fb9f3a"
             ],
             [
              0.8888888888888888,
              "#fdca26"
             ],
             [
              1,
              "#f0f921"
             ]
            ],
            "type": "contour"
           }
          ],
          "contourcarpet": [
           {
            "colorbar": {
             "outlinewidth": 0,
             "ticks": ""
            },
            "type": "contourcarpet"
           }
          ],
          "heatmap": [
           {
            "colorbar": {
             "outlinewidth": 0,
             "ticks": ""
            },
            "colorscale": [
             [
              0,
              "#0d0887"
             ],
             [
              0.1111111111111111,
              "#46039f"
             ],
             [
              0.2222222222222222,
              "#7201a8"
             ],
             [
              0.3333333333333333,
              "#9c179e"
             ],
             [
              0.4444444444444444,
              "#bd3786"
             ],
             [
              0.5555555555555556,
              "#d8576b"
             ],
             [
              0.6666666666666666,
              "#ed7953"
             ],
             [
              0.7777777777777778,
              "#fb9f3a"
             ],
             [
              0.8888888888888888,
              "#fdca26"
             ],
             [
              1,
              "#f0f921"
             ]
            ],
            "type": "heatmap"
           }
          ],
          "heatmapgl": [
           {
            "colorbar": {
             "outlinewidth": 0,
             "ticks": ""
            },
            "colorscale": [
             [
              0,
              "#0d0887"
             ],
             [
              0.1111111111111111,
              "#46039f"
             ],
             [
              0.2222222222222222,
              "#7201a8"
             ],
             [
              0.3333333333333333,
              "#9c179e"
             ],
             [
              0.4444444444444444,
              "#bd3786"
             ],
             [
              0.5555555555555556,
              "#d8576b"
             ],
             [
              0.6666666666666666,
              "#ed7953"
             ],
             [
              0.7777777777777778,
              "#fb9f3a"
             ],
             [
              0.8888888888888888,
              "#fdca26"
             ],
             [
              1,
              "#f0f921"
             ]
            ],
            "type": "heatmapgl"
           }
          ],
          "histogram": [
           {
            "marker": {
             "pattern": {
              "fillmode": "overlay",
              "size": 10,
              "solidity": 0.2
             }
            },
            "type": "histogram"
           }
          ],
          "histogram2d": [
           {
            "colorbar": {
             "outlinewidth": 0,
             "ticks": ""
            },
            "colorscale": [
             [
              0,
              "#0d0887"
             ],
             [
              0.1111111111111111,
              "#46039f"
             ],
             [
              0.2222222222222222,
              "#7201a8"
             ],
             [
              0.3333333333333333,
              "#9c179e"
             ],
             [
              0.4444444444444444,
              "#bd3786"
             ],
             [
              0.5555555555555556,
              "#d8576b"
             ],
             [
              0.6666666666666666,
              "#ed7953"
             ],
             [
              0.7777777777777778,
              "#fb9f3a"
             ],
             [
              0.8888888888888888,
              "#fdca26"
             ],
             [
              1,
              "#f0f921"
             ]
            ],
            "type": "histogram2d"
           }
          ],
          "histogram2dcontour": [
           {
            "colorbar": {
             "outlinewidth": 0,
             "ticks": ""
            },
            "colorscale": [
             [
              0,
              "#0d0887"
             ],
             [
              0.1111111111111111,
              "#46039f"
             ],
             [
              0.2222222222222222,
              "#7201a8"
             ],
             [
              0.3333333333333333,
              "#9c179e"
             ],
             [
              0.4444444444444444,
              "#bd3786"
             ],
             [
              0.5555555555555556,
              "#d8576b"
             ],
             [
              0.6666666666666666,
              "#ed7953"
             ],
             [
              0.7777777777777778,
              "#fb9f3a"
             ],
             [
              0.8888888888888888,
              "#fdca26"
             ],
             [
              1,
              "#f0f921"
             ]
            ],
            "type": "histogram2dcontour"
           }
          ],
          "mesh3d": [
           {
            "colorbar": {
             "outlinewidth": 0,
             "ticks": ""
            },
            "type": "mesh3d"
           }
          ],
          "parcoords": [
           {
            "line": {
             "colorbar": {
              "outlinewidth": 0,
              "ticks": ""
             }
            },
            "type": "parcoords"
           }
          ],
          "pie": [
           {
            "automargin": true,
            "type": "pie"
           }
          ],
          "scatter": [
           {
            "fillpattern": {
             "fillmode": "overlay",
             "size": 10,
             "solidity": 0.2
            },
            "type": "scatter"
           }
          ],
          "scatter3d": [
           {
            "line": {
             "colorbar": {
              "outlinewidth": 0,
              "ticks": ""
             }
            },
            "marker": {
             "colorbar": {
              "outlinewidth": 0,
              "ticks": ""
             }
            },
            "type": "scatter3d"
           }
          ],
          "scattercarpet": [
           {
            "marker": {
             "colorbar": {
              "outlinewidth": 0,
              "ticks": ""
             }
            },
            "type": "scattercarpet"
           }
          ],
          "scattergeo": [
           {
            "marker": {
             "colorbar": {
              "outlinewidth": 0,
              "ticks": ""
             }
            },
            "type": "scattergeo"
           }
          ],
          "scattergl": [
           {
            "marker": {
             "colorbar": {
              "outlinewidth": 0,
              "ticks": ""
             }
            },
            "type": "scattergl"
           }
          ],
          "scattermapbox": [
           {
            "marker": {
             "colorbar": {
              "outlinewidth": 0,
              "ticks": ""
             }
            },
            "type": "scattermapbox"
           }
          ],
          "scatterpolar": [
           {
            "marker": {
             "colorbar": {
              "outlinewidth": 0,
              "ticks": ""
             }
            },
            "type": "scatterpolar"
           }
          ],
          "scatterpolargl": [
           {
            "marker": {
             "colorbar": {
              "outlinewidth": 0,
              "ticks": ""
             }
            },
            "type": "scatterpolargl"
           }
          ],
          "scatterternary": [
           {
            "marker": {
             "colorbar": {
              "outlinewidth": 0,
              "ticks": ""
             }
            },
            "type": "scatterternary"
           }
          ],
          "surface": [
           {
            "colorbar": {
             "outlinewidth": 0,
             "ticks": ""
            },
            "colorscale": [
             [
              0,
              "#0d0887"
             ],
             [
              0.1111111111111111,
              "#46039f"
             ],
             [
              0.2222222222222222,
              "#7201a8"
             ],
             [
              0.3333333333333333,
              "#9c179e"
             ],
             [
              0.4444444444444444,
              "#bd3786"
             ],
             [
              0.5555555555555556,
              "#d8576b"
             ],
             [
              0.6666666666666666,
              "#ed7953"
             ],
             [
              0.7777777777777778,
              "#fb9f3a"
             ],
             [
              0.8888888888888888,
              "#fdca26"
             ],
             [
              1,
              "#f0f921"
             ]
            ],
            "type": "surface"
           }
          ],
          "table": [
           {
            "cells": {
             "fill": {
              "color": "#EBF0F8"
             },
             "line": {
              "color": "white"
             }
            },
            "header": {
             "fill": {
              "color": "#C8D4E3"
             },
             "line": {
              "color": "white"
             }
            },
            "type": "table"
           }
          ]
         },
         "layout": {
          "annotationdefaults": {
           "arrowcolor": "#2a3f5f",
           "arrowhead": 0,
           "arrowwidth": 1
          },
          "autotypenumbers": "strict",
          "coloraxis": {
           "colorbar": {
            "outlinewidth": 0,
            "ticks": ""
           }
          },
          "colorscale": {
           "diverging": [
            [
             0,
             "#8e0152"
            ],
            [
             0.1,
             "#c51b7d"
            ],
            [
             0.2,
             "#de77ae"
            ],
            [
             0.3,
             "#f1b6da"
            ],
            [
             0.4,
             "#fde0ef"
            ],
            [
             0.5,
             "#f7f7f7"
            ],
            [
             0.6,
             "#e6f5d0"
            ],
            [
             0.7,
             "#b8e186"
            ],
            [
             0.8,
             "#7fbc41"
            ],
            [
             0.9,
             "#4d9221"
            ],
            [
             1,
             "#276419"
            ]
           ],
           "sequential": [
            [
             0,
             "#0d0887"
            ],
            [
             0.1111111111111111,
             "#46039f"
            ],
            [
             0.2222222222222222,
             "#7201a8"
            ],
            [
             0.3333333333333333,
             "#9c179e"
            ],
            [
             0.4444444444444444,
             "#bd3786"
            ],
            [
             0.5555555555555556,
             "#d8576b"
            ],
            [
             0.6666666666666666,
             "#ed7953"
            ],
            [
             0.7777777777777778,
             "#fb9f3a"
            ],
            [
             0.8888888888888888,
             "#fdca26"
            ],
            [
             1,
             "#f0f921"
            ]
           ],
           "sequentialminus": [
            [
             0,
             "#0d0887"
            ],
            [
             0.1111111111111111,
             "#46039f"
            ],
            [
             0.2222222222222222,
             "#7201a8"
            ],
            [
             0.3333333333333333,
             "#9c179e"
            ],
            [
             0.4444444444444444,
             "#bd3786"
            ],
            [
             0.5555555555555556,
             "#d8576b"
            ],
            [
             0.6666666666666666,
             "#ed7953"
            ],
            [
             0.7777777777777778,
             "#fb9f3a"
            ],
            [
             0.8888888888888888,
             "#fdca26"
            ],
            [
             1,
             "#f0f921"
            ]
           ]
          },
          "colorway": [
           "#636efa",
           "#EF553B",
           "#00cc96",
           "#ab63fa",
           "#FFA15A",
           "#19d3f3",
           "#FF6692",
           "#B6E880",
           "#FF97FF",
           "#FECB52"
          ],
          "font": {
           "color": "#2a3f5f"
          },
          "geo": {
           "bgcolor": "white",
           "lakecolor": "white",
           "landcolor": "#E5ECF6",
           "showlakes": true,
           "showland": true,
           "subunitcolor": "white"
          },
          "hoverlabel": {
           "align": "left"
          },
          "hovermode": "closest",
          "mapbox": {
           "style": "light"
          },
          "paper_bgcolor": "white",
          "plot_bgcolor": "#E5ECF6",
          "polar": {
           "angularaxis": {
            "gridcolor": "white",
            "linecolor": "white",
            "ticks": ""
           },
           "bgcolor": "#E5ECF6",
           "radialaxis": {
            "gridcolor": "white",
            "linecolor": "white",
            "ticks": ""
           }
          },
          "scene": {
           "xaxis": {
            "backgroundcolor": "#E5ECF6",
            "gridcolor": "white",
            "gridwidth": 2,
            "linecolor": "white",
            "showbackground": true,
            "ticks": "",
            "zerolinecolor": "white"
           },
           "yaxis": {
            "backgroundcolor": "#E5ECF6",
            "gridcolor": "white",
            "gridwidth": 2,
            "linecolor": "white",
            "showbackground": true,
            "ticks": "",
            "zerolinecolor": "white"
           },
           "zaxis": {
            "backgroundcolor": "#E5ECF6",
            "gridcolor": "white",
            "gridwidth": 2,
            "linecolor": "white",
            "showbackground": true,
            "ticks": "",
            "zerolinecolor": "white"
           }
          },
          "shapedefaults": {
           "line": {
            "color": "#2a3f5f"
           }
          },
          "ternary": {
           "aaxis": {
            "gridcolor": "white",
            "linecolor": "white",
            "ticks": ""
           },
           "baxis": {
            "gridcolor": "white",
            "linecolor": "white",
            "ticks": ""
           },
           "bgcolor": "#E5ECF6",
           "caxis": {
            "gridcolor": "white",
            "linecolor": "white",
            "ticks": ""
           }
          },
          "title": {
           "x": 0.05
          },
          "xaxis": {
           "automargin": true,
           "gridcolor": "white",
           "linecolor": "white",
           "ticks": "",
           "title": {
            "standoff": 15
           },
           "zerolinecolor": "white",
           "zerolinewidth": 2
          },
          "yaxis": {
           "automargin": true,
           "gridcolor": "white",
           "linecolor": "white",
           "ticks": "",
           "title": {
            "standoff": 15
           },
           "zerolinecolor": "white",
           "zerolinewidth": 2
          }
         }
        },
        "title": {
         "text": "Sensors Visualized Using Principal Components"
        },
        "xaxis": {
         "anchor": "y",
         "domain": [
          0,
          1
         ],
         "title": {
          "text": "Principal Component 1"
         }
        },
        "yaxis": {
         "anchor": "x",
         "domain": [
          0,
          1
         ],
         "title": {
          "text": "Principal Component 2"
         }
        }
       }
      }
     },
     "metadata": {},
     "output_type": "display_data"
    }
   ],
   "source": [
    "# Plot the PCA interactive plot\n",
    "plot_pca_interactive(reduced_data_corr, sensor_id_col='Sensor ID', n_components=2)"
   ]
  },
  {
   "cell_type": "markdown",
   "metadata": {},
   "source": [
    "# Retain Features"
   ]
  },
  {
   "cell_type": "code",
   "execution_count": null,
   "metadata": {},
   "outputs": [
    {
     "data": {
      "text/html": [
       "<div>\n",
       "<style scoped>\n",
       "    .dataframe tbody tr th:only-of-type {\n",
       "        vertical-align: middle;\n",
       "    }\n",
       "\n",
       "    .dataframe tbody tr th {\n",
       "        vertical-align: top;\n",
       "    }\n",
       "\n",
       "    .dataframe thead th {\n",
       "        text-align: right;\n",
       "    }\n",
       "</style>\n",
       "<table border=\"1\" class=\"dataframe\">\n",
       "  <thead>\n",
       "    <tr style=\"text-align: right;\">\n",
       "      <th>range_delay</th>\n",
       "      <th>Sensor ID</th>\n",
       "      <th>13_10000_mean_middle</th>\n",
       "      <th>13_16800_mean_middle</th>\n",
       "      <th>13_3000_mean_middle</th>\n",
       "      <th>13_6000_mean_middle</th>\n",
       "      <th>13_8000_mean_middle</th>\n",
       "      <th>18_10000_mean_middle</th>\n",
       "      <th>18_16800_mean_middle</th>\n",
       "      <th>18_3000_mean_middle</th>\n",
       "      <th>18_6000_mean_middle</th>\n",
       "      <th>...</th>\n",
       "      <th>48_10000_mean_upper</th>\n",
       "      <th>48_16800_mean_upper</th>\n",
       "      <th>48_3000_mean_upper</th>\n",
       "      <th>48_6000_mean_upper</th>\n",
       "      <th>48_8000_mean_upper</th>\n",
       "      <th>53_10000_mean_upper</th>\n",
       "      <th>53_16800_mean_upper</th>\n",
       "      <th>53_3000_mean_upper</th>\n",
       "      <th>53_6000_mean_upper</th>\n",
       "      <th>53_8000_mean_upper</th>\n",
       "    </tr>\n",
       "  </thead>\n",
       "  <tbody>\n",
       "    <tr>\n",
       "      <th>0</th>\n",
       "      <td>32</td>\n",
       "      <td>765.626263</td>\n",
       "      <td>765.693878</td>\n",
       "      <td>765.640000</td>\n",
       "      <td>765.560000</td>\n",
       "      <td>766.120000</td>\n",
       "      <td>1057.280000</td>\n",
       "      <td>821.200000</td>\n",
       "      <td>1057.626263</td>\n",
       "      <td>1057.440000</td>\n",
       "      <td>...</td>\n",
       "      <td>0.000000</td>\n",
       "      <td>0.0</td>\n",
       "      <td>2787.833333</td>\n",
       "      <td>0.0</td>\n",
       "      <td>0.000000</td>\n",
       "      <td>3099.0</td>\n",
       "      <td>0.000000</td>\n",
       "      <td>0.0</td>\n",
       "      <td>0.0</td>\n",
       "      <td>0.0</td>\n",
       "    </tr>\n",
       "    <tr>\n",
       "      <th>1</th>\n",
       "      <td>33</td>\n",
       "      <td>755.000000</td>\n",
       "      <td>779.530612</td>\n",
       "      <td>736.640000</td>\n",
       "      <td>779.275862</td>\n",
       "      <td>755.467532</td>\n",
       "      <td>1024.818182</td>\n",
       "      <td>1035.640000</td>\n",
       "      <td>1024.777778</td>\n",
       "      <td>1025.720000</td>\n",
       "      <td>...</td>\n",
       "      <td>0.000000</td>\n",
       "      <td>0.0</td>\n",
       "      <td>2740.037037</td>\n",
       "      <td>0.0</td>\n",
       "      <td>0.000000</td>\n",
       "      <td>0.0</td>\n",
       "      <td>3073.666667</td>\n",
       "      <td>0.0</td>\n",
       "      <td>3073.4</td>\n",
       "      <td>3074.0</td>\n",
       "    </tr>\n",
       "    <tr>\n",
       "      <th>2</th>\n",
       "      <td>34</td>\n",
       "      <td>665.680000</td>\n",
       "      <td>658.920000</td>\n",
       "      <td>675.989247</td>\n",
       "      <td>653.682353</td>\n",
       "      <td>665.240000</td>\n",
       "      <td>969.480000</td>\n",
       "      <td>969.469136</td>\n",
       "      <td>969.520000</td>\n",
       "      <td>969.585859</td>\n",
       "      <td>...</td>\n",
       "      <td>0.000000</td>\n",
       "      <td>0.0</td>\n",
       "      <td>0.000000</td>\n",
       "      <td>0.0</td>\n",
       "      <td>0.000000</td>\n",
       "      <td>0.0</td>\n",
       "      <td>0.000000</td>\n",
       "      <td>0.0</td>\n",
       "      <td>0.0</td>\n",
       "      <td>0.0</td>\n",
       "    </tr>\n",
       "    <tr>\n",
       "      <th>3</th>\n",
       "      <td>35</td>\n",
       "      <td>861.640000</td>\n",
       "      <td>861.626263</td>\n",
       "      <td>804.320000</td>\n",
       "      <td>861.840000</td>\n",
       "      <td>863.000000</td>\n",
       "      <td>1012.333333</td>\n",
       "      <td>1011.800000</td>\n",
       "      <td>1012.720000</td>\n",
       "      <td>1012.240000</td>\n",
       "      <td>...</td>\n",
       "      <td>2758.652174</td>\n",
       "      <td>0.0</td>\n",
       "      <td>2756.839080</td>\n",
       "      <td>0.0</td>\n",
       "      <td>2778.428571</td>\n",
       "      <td>0.0</td>\n",
       "      <td>0.000000</td>\n",
       "      <td>0.0</td>\n",
       "      <td>0.0</td>\n",
       "      <td>0.0</td>\n",
       "    </tr>\n",
       "    <tr>\n",
       "      <th>4</th>\n",
       "      <td>36</td>\n",
       "      <td>743.520000</td>\n",
       "      <td>743.962025</td>\n",
       "      <td>743.360000</td>\n",
       "      <td>743.680000</td>\n",
       "      <td>743.600000</td>\n",
       "      <td>1067.000000</td>\n",
       "      <td>1054.880000</td>\n",
       "      <td>1064.494949</td>\n",
       "      <td>1067.000000</td>\n",
       "      <td>...</td>\n",
       "      <td>2779.000000</td>\n",
       "      <td>0.0</td>\n",
       "      <td>0.000000</td>\n",
       "      <td>0.0</td>\n",
       "      <td>0.000000</td>\n",
       "      <td>3113.0</td>\n",
       "      <td>0.000000</td>\n",
       "      <td>0.0</td>\n",
       "      <td>0.0</td>\n",
       "      <td>0.0</td>\n",
       "    </tr>\n",
       "  </tbody>\n",
       "</table>\n",
       "<p>5 rows × 136 columns</p>\n",
       "</div>"
      ],
      "text/plain": [
       "range_delay  Sensor ID  13_10000_mean_middle  13_16800_mean_middle  \\\n",
       "0                   32            765.626263            765.693878   \n",
       "1                   33            755.000000            779.530612   \n",
       "2                   34            665.680000            658.920000   \n",
       "3                   35            861.640000            861.626263   \n",
       "4                   36            743.520000            743.962025   \n",
       "\n",
       "range_delay  13_3000_mean_middle  13_6000_mean_middle  13_8000_mean_middle  \\\n",
       "0                     765.640000           765.560000           766.120000   \n",
       "1                     736.640000           779.275862           755.467532   \n",
       "2                     675.989247           653.682353           665.240000   \n",
       "3                     804.320000           861.840000           863.000000   \n",
       "4                     743.360000           743.680000           743.600000   \n",
       "\n",
       "range_delay  18_10000_mean_middle  18_16800_mean_middle  18_3000_mean_middle  \\\n",
       "0                     1057.280000            821.200000          1057.626263   \n",
       "1                     1024.818182           1035.640000          1024.777778   \n",
       "2                      969.480000            969.469136           969.520000   \n",
       "3                     1012.333333           1011.800000          1012.720000   \n",
       "4                     1067.000000           1054.880000          1064.494949   \n",
       "\n",
       "range_delay  18_6000_mean_middle  ...  48_10000_mean_upper  \\\n",
       "0                    1057.440000  ...             0.000000   \n",
       "1                    1025.720000  ...             0.000000   \n",
       "2                     969.585859  ...             0.000000   \n",
       "3                    1012.240000  ...          2758.652174   \n",
       "4                    1067.000000  ...          2779.000000   \n",
       "\n",
       "range_delay  48_16800_mean_upper  48_3000_mean_upper  48_6000_mean_upper  \\\n",
       "0                            0.0         2787.833333                 0.0   \n",
       "1                            0.0         2740.037037                 0.0   \n",
       "2                            0.0            0.000000                 0.0   \n",
       "3                            0.0         2756.839080                 0.0   \n",
       "4                            0.0            0.000000                 0.0   \n",
       "\n",
       "range_delay  48_8000_mean_upper  53_10000_mean_upper  53_16800_mean_upper  \\\n",
       "0                      0.000000               3099.0             0.000000   \n",
       "1                      0.000000                  0.0          3073.666667   \n",
       "2                      0.000000                  0.0             0.000000   \n",
       "3                   2778.428571                  0.0             0.000000   \n",
       "4                      0.000000               3113.0             0.000000   \n",
       "\n",
       "range_delay  53_3000_mean_upper  53_6000_mean_upper  53_8000_mean_upper  \n",
       "0                           0.0                 0.0                 0.0  \n",
       "1                           0.0              3073.4              3074.0  \n",
       "2                           0.0                 0.0                 0.0  \n",
       "3                           0.0                 0.0                 0.0  \n",
       "4                           0.0                 0.0                 0.0  \n",
       "\n",
       "[5 rows x 136 columns]"
      ]
     },
     "execution_count": 172,
     "metadata": {},
     "output_type": "execute_result"
    }
   ],
   "source": [
    "df_range_delay_all.head()"
   ]
  },
  {
   "cell_type": "code",
   "execution_count": null,
   "metadata": {},
   "outputs": [
    {
     "data": {
      "text/plain": [
       "{32: {'Color of sensor': ['b'],\n",
       "  'Sensor Configuration': ['HTR'],\n",
       "  'Surface material': ['wood']},\n",
       " 33: {'Color of sensor': ['b'],\n",
       "  'Sensor Configuration': ['HTR'],\n",
       "  'Surface material': ['wood']},\n",
       " 34: {'Color of sensor': ['b'],\n",
       "  'Sensor Configuration': ['HTR'],\n",
       "  'Surface material': ['wood']},\n",
       " 35: {'Color of sensor': ['b'],\n",
       "  'Sensor Configuration': ['HTR'],\n",
       "  'Surface material': ['wood']},\n",
       " 36: {'Color of sensor': ['b'],\n",
       "  'Sensor Configuration': ['HTR'],\n",
       "  'Surface material': ['wood']},\n",
       " 37: {'Color of sensor': ['g'],\n",
       "  'Sensor Configuration': ['HTR'],\n",
       "  'Surface material': ['wood']},\n",
       " 38: {'Color of sensor': ['b'],\n",
       "  'Sensor Configuration': ['HTR'],\n",
       "  'Surface material': ['wood']},\n",
       " 39: {'Color of sensor': ['b'],\n",
       "  'Sensor Configuration': ['HTR'],\n",
       "  'Surface material': ['wood']},\n",
       " 40: {'Color of sensor': ['b'],\n",
       "  'Sensor Configuration': ['HTR'],\n",
       "  'Surface material': ['wood']},\n",
       " 41: {'Color of sensor': ['b'],\n",
       "  'Sensor Configuration': ['HTR'],\n",
       "  'Surface material': ['wood']},\n",
       " 42: {'Color of sensor': ['b'],\n",
       "  'Sensor Configuration': ['HTR'],\n",
       "  'Surface material': ['wood']},\n",
       " 43: {'Color of sensor': ['b'],\n",
       "  'Sensor Configuration': ['HTR'],\n",
       "  'Surface material': ['wood']},\n",
       " 44: {'Color of sensor': ['b'],\n",
       "  'Sensor Configuration': ['HTR'],\n",
       "  'Surface material': ['wood']},\n",
       " 45: {'Color of sensor': ['b'],\n",
       "  'Sensor Configuration': ['HTR'],\n",
       "  'Surface material': ['wood']},\n",
       " 46: {'Color of sensor': ['b'],\n",
       "  'Sensor Configuration': ['HTR'],\n",
       "  'Surface material': ['wood']},\n",
       " 47: {'Color of sensor': ['b'],\n",
       "  'Sensor Configuration': ['HTR'],\n",
       "  'Surface material': ['wood']},\n",
       " 48: {'Color of sensor': ['b'],\n",
       "  'Sensor Configuration': ['HTR'],\n",
       "  'Surface material': ['wood']},\n",
       " 49: {'Color of sensor': ['b'],\n",
       "  'Sensor Configuration': ['HTR'],\n",
       "  'Surface material': ['wood']},\n",
       " 50: {'Color of sensor': ['b'],\n",
       "  'Sensor Configuration': ['HTR'],\n",
       "  'Surface material': ['wood']},\n",
       " 51: {'Color of sensor': ['b'],\n",
       "  'Sensor Configuration': ['HTR'],\n",
       "  'Surface material': ['wood']},\n",
       " 52: {'Color of sensor': ['b'],\n",
       "  'Sensor Configuration': ['HTR'],\n",
       "  'Surface material': ['wood']},\n",
       " 53: {'Color of sensor': ['b'],\n",
       "  'Sensor Configuration': ['HTR'],\n",
       "  'Surface material': ['wood']},\n",
       " 54: {'Color of sensor': ['b'],\n",
       "  'Sensor Configuration': ['HTR'],\n",
       "  'Surface material': ['wood']},\n",
       " 55: {'Color of sensor': ['b'],\n",
       "  'Sensor Configuration': ['HTR'],\n",
       "  'Surface material': ['wood']},\n",
       " 56: {'Color of sensor': ['b'],\n",
       "  'Sensor Configuration': ['HTR'],\n",
       "  'Surface material': ['wood']},\n",
       " 57: {'Color of sensor': ['b'],\n",
       "  'Sensor Configuration': ['HTR'],\n",
       "  'Surface material': ['wood']},\n",
       " 58: {'Color of sensor': ['b'],\n",
       "  'Sensor Configuration': ['HTR'],\n",
       "  'Surface material': ['wood']},\n",
       " 59: {'Color of sensor': ['b'],\n",
       "  'Sensor Configuration': ['HTR'],\n",
       "  'Surface material': ['wood']},\n",
       " 60: {'Color of sensor': ['b'],\n",
       "  'Sensor Configuration': ['HTR'],\n",
       "  'Surface material': ['wood']},\n",
       " 61: {'Color of sensor': ['b'],\n",
       "  'Sensor Configuration': ['HTR'],\n",
       "  'Surface material': ['wood']},\n",
       " 62: {'Color of sensor': ['b'],\n",
       "  'Sensor Configuration': ['HTR'],\n",
       "  'Surface material': ['wood']},\n",
       " 63: {'Color of sensor': ['b'],\n",
       "  'Sensor Configuration': ['HTR'],\n",
       "  'Surface material': ['wood']},\n",
       " 64: {'Color of sensor': ['b'],\n",
       "  'Sensor Configuration': ['HTR'],\n",
       "  'Surface material': ['wood']},\n",
       " 65: {'Color of sensor': ['b'],\n",
       "  'Sensor Configuration': ['HTR'],\n",
       "  'Surface material': ['wood']},\n",
       " 66: {'Color of sensor': ['b'],\n",
       "  'Sensor Configuration': ['HTR'],\n",
       "  'Surface material': ['wood']},\n",
       " 67: {'Color of sensor': ['b'],\n",
       "  'Sensor Configuration': ['HTR'],\n",
       "  'Surface material': ['wood']},\n",
       " 68: {'Color of sensor': ['b'],\n",
       "  'Sensor Configuration': ['HTR'],\n",
       "  'Surface material': ['wood']},\n",
       " 69: {'Color of sensor': ['b'],\n",
       "  'Sensor Configuration': ['HTR'],\n",
       "  'Surface material': ['wood']},\n",
       " 70: {'Color of sensor': ['b'],\n",
       "  'Sensor Configuration': ['HTR'],\n",
       "  'Surface material': ['wood']},\n",
       " 71: {'Color of sensor': ['b'],\n",
       "  'Sensor Configuration': ['HTR'],\n",
       "  'Surface material': ['wood']},\n",
       " 72: {'Color of sensor': ['b'],\n",
       "  'Sensor Configuration': ['HTR'],\n",
       "  'Surface material': ['wood']},\n",
       " 73: {'Color of sensor': ['b'],\n",
       "  'Sensor Configuration': ['HTR'],\n",
       "  'Surface material': ['wood']},\n",
       " 74: {'Color of sensor': ['b'],\n",
       "  'Sensor Configuration': ['HTR'],\n",
       "  'Surface material': ['wood']},\n",
       " 75: {'Color of sensor': ['g'],\n",
       "  'Sensor Configuration': ['HTR'],\n",
       "  'Surface material': ['wood']},\n",
       " 76: {'Color of sensor': ['b'],\n",
       "  'Sensor Configuration': ['HTR'],\n",
       "  'Surface material': ['wood']},\n",
       " 77: {'Color of sensor': ['g'],\n",
       "  'Sensor Configuration': ['HTR'],\n",
       "  'Surface material': ['wood']},\n",
       " 78: {'Color of sensor': ['b'],\n",
       "  'Sensor Configuration': ['HTR'],\n",
       "  'Surface material': ['wood']},\n",
       " 79: {'Color of sensor': ['g'],\n",
       "  'Sensor Configuration': ['HTR'],\n",
       "  'Surface material': ['wood']},\n",
       " 80: {'Color of sensor': ['b'],\n",
       "  'Sensor Configuration': ['HTR'],\n",
       "  'Surface material': ['wood']},\n",
       " 81: {'Color of sensor': ['b'],\n",
       "  'Sensor Configuration': ['HTR'],\n",
       "  'Surface material': ['wood']},\n",
       " 82: {'Color of sensor': ['g'],\n",
       "  'Sensor Configuration': ['HTR'],\n",
       "  'Surface material': ['wood']},\n",
       " 83: {'Color of sensor': ['g'],\n",
       "  'Sensor Configuration': ['HTR'],\n",
       "  'Surface material': ['wood']},\n",
       " 84: {'Color of sensor': ['g'],\n",
       "  'Sensor Configuration': ['HTR'],\n",
       "  'Surface material': ['wood']},\n",
       " 85: {'Color of sensor': ['g'],\n",
       "  'Sensor Configuration': ['HTR'],\n",
       "  'Surface material': ['wood']},\n",
       " 86: {'Color of sensor': ['g'],\n",
       "  'Sensor Configuration': ['HTR'],\n",
       "  'Surface material': ['wood']},\n",
       " 87: {'Color of sensor': ['g'],\n",
       "  'Sensor Configuration': ['HTR'],\n",
       "  'Surface material': ['wood']},\n",
       " 88: {'Color of sensor': ['g'],\n",
       "  'Sensor Configuration': ['HTR'],\n",
       "  'Surface material': ['wood']},\n",
       " 89: {'Color of sensor': ['g'],\n",
       "  'Sensor Configuration': ['HTR'],\n",
       "  'Surface material': ['wood']},\n",
       " 90: {'Color of sensor': ['g'],\n",
       "  'Sensor Configuration': ['HTR'],\n",
       "  'Surface material': ['wood']},\n",
       " 91: {'Color of sensor': ['g'],\n",
       "  'Sensor Configuration': ['HTR'],\n",
       "  'Surface material': ['wood']},\n",
       " 92: {'Color of sensor': ['g'],\n",
       "  'Sensor Configuration': ['HTR'],\n",
       "  'Surface material': ['wood']},\n",
       " 93: {'Color of sensor': ['g'],\n",
       "  'Sensor Configuration': ['HTR'],\n",
       "  'Surface material': ['wood']},\n",
       " 94: {'Color of sensor': ['b'],\n",
       "  'Sensor Configuration': ['HTR'],\n",
       "  'Surface material': ['wood']},\n",
       " 95: {'Color of sensor': ['b'],\n",
       "  'Sensor Configuration': ['HTR'],\n",
       "  'Surface material': ['wood']},\n",
       " 96: {'Color of sensor': ['g'],\n",
       "  'Sensor Configuration': ['HTR'],\n",
       "  'Surface material': ['wood']},\n",
       " 97: {'Color of sensor': ['g'],\n",
       "  'Sensor Configuration': ['HTR'],\n",
       "  'Surface material': ['wood']},\n",
       " 98: {'Color of sensor': ['g'],\n",
       "  'Sensor Configuration': ['HTR'],\n",
       "  'Surface material': ['wood']},\n",
       " 99: {'Color of sensor': ['g'],\n",
       "  'Sensor Configuration': ['HTR'],\n",
       "  'Surface material': ['wood']},\n",
       " 100: {'Color of sensor': ['b'],\n",
       "  'Sensor Configuration': ['HTR'],\n",
       "  'Surface material': ['wood']},\n",
       " 101: {'Color of sensor': ['g'],\n",
       "  'Sensor Configuration': ['HTR'],\n",
       "  'Surface material': ['wood']},\n",
       " 102: {'Color of sensor': ['g'],\n",
       "  'Sensor Configuration': ['HTR'],\n",
       "  'Surface material': ['wood']},\n",
       " 103: {'Color of sensor': ['g'],\n",
       "  'Sensor Configuration': ['HTR'],\n",
       "  'Surface material': ['wood']},\n",
       " 104: {'Color of sensor': ['g'],\n",
       "  'Sensor Configuration': ['HTR'],\n",
       "  'Surface material': ['wood']},\n",
       " 105: {'Color of sensor': ['b'],\n",
       "  'Sensor Configuration': ['HTR'],\n",
       "  'Surface material': ['wood']},\n",
       " 106: {'Color of sensor': ['g'],\n",
       "  'Sensor Configuration': ['HTR'],\n",
       "  'Surface material': ['wood']},\n",
       " 107: {'Color of sensor': ['g'],\n",
       "  'Sensor Configuration': ['HTR'],\n",
       "  'Surface material': ['wood']},\n",
       " 108: {'Color of sensor': ['b'],\n",
       "  'Sensor Configuration': ['HTR'],\n",
       "  'Surface material': ['wood']}}"
      ]
     },
     "execution_count": 202,
     "metadata": {},
     "output_type": "execute_result"
    }
   ],
   "source": [
    "# Group the merged data by 'Sensor ID'\n",
    "grouped_data = df_data_v4_1_1.groupby(\"Sensor ID\")\n",
    "\n",
    "# Function to get unique values of categorical columns for each group\n",
    "def get_unique_categorical_values(group):\n",
    "    unique_values = {}\n",
    "    for column in group.select_dtypes(include=['object']).columns:\n",
    "        unique_values[column] = group[column].unique().tolist()\n",
    "    return unique_values\n",
    "\n",
    "# Apply the function to each group and collect the results\n",
    "unique_categorical_values = grouped_data.apply(get_unique_categorical_values).to_dict()\n",
    "\n",
    "unique_categorical_values"
   ]
  },
  {
   "cell_type": "code",
   "execution_count": null,
   "metadata": {},
   "outputs": [
    {
     "name": "stderr",
     "output_type": "stream",
     "text": [
      "C:\\Users\\Jihoon.DESKTOP-1HIBMQO\\AppData\\Local\\Temp\\ipykernel_6436\\718001310.py:4: FutureWarning:\n",
      "\n",
      "DataFrame.applymap has been deprecated. Use DataFrame.map instead.\n",
      "\n"
     ]
    },
    {
     "data": {
      "text/html": [
       "<div>\n",
       "<style scoped>\n",
       "    .dataframe tbody tr th:only-of-type {\n",
       "        vertical-align: middle;\n",
       "    }\n",
       "\n",
       "    .dataframe tbody tr th {\n",
       "        vertical-align: top;\n",
       "    }\n",
       "\n",
       "    .dataframe thead th {\n",
       "        text-align: right;\n",
       "    }\n",
       "</style>\n",
       "<table border=\"1\" class=\"dataframe\">\n",
       "  <thead>\n",
       "    <tr style=\"text-align: right;\">\n",
       "      <th></th>\n",
       "      <th>Sensor ID</th>\n",
       "      <th>Color of sensor</th>\n",
       "      <th>Sensor Configuration</th>\n",
       "      <th>Surface material</th>\n",
       "    </tr>\n",
       "  </thead>\n",
       "  <tbody>\n",
       "    <tr>\n",
       "      <th>0</th>\n",
       "      <td>32</td>\n",
       "      <td>b</td>\n",
       "      <td>HTR</td>\n",
       "      <td>wood</td>\n",
       "    </tr>\n",
       "    <tr>\n",
       "      <th>1</th>\n",
       "      <td>33</td>\n",
       "      <td>b</td>\n",
       "      <td>HTR</td>\n",
       "      <td>wood</td>\n",
       "    </tr>\n",
       "    <tr>\n",
       "      <th>2</th>\n",
       "      <td>34</td>\n",
       "      <td>b</td>\n",
       "      <td>HTR</td>\n",
       "      <td>wood</td>\n",
       "    </tr>\n",
       "    <tr>\n",
       "      <th>3</th>\n",
       "      <td>35</td>\n",
       "      <td>b</td>\n",
       "      <td>HTR</td>\n",
       "      <td>wood</td>\n",
       "    </tr>\n",
       "    <tr>\n",
       "      <th>4</th>\n",
       "      <td>36</td>\n",
       "      <td>b</td>\n",
       "      <td>HTR</td>\n",
       "      <td>wood</td>\n",
       "    </tr>\n",
       "  </tbody>\n",
       "</table>\n",
       "</div>"
      ],
      "text/plain": [
       "   Sensor ID Color of sensor Sensor Configuration Surface material\n",
       "0         32               b                  HTR             wood\n",
       "1         33               b                  HTR             wood\n",
       "2         34               b                  HTR             wood\n",
       "3         35               b                  HTR             wood\n",
       "4         36               b                  HTR             wood"
      ]
     },
     "execution_count": 203,
     "metadata": {},
     "output_type": "execute_result"
    }
   ],
   "source": [
    "unique_categorical_values_df = pd.DataFrame.from_dict(unique_categorical_values, orient='index')\n",
    "\n",
    "# Convert list values to strings and keep Sensor ID as index\n",
    "unique_categorical_values_df = unique_categorical_values_df.applymap(lambda x: x[0] if isinstance(x, list) else x)\n",
    "unique_categorical_values_df.reset_index(inplace=True)\n",
    "\n",
    "# Rename the 'index' column to 'Sensor ID'\n",
    "unique_categorical_values_df.rename(columns={'index': 'Sensor ID'}, inplace=True)\n",
    "\n",
    "# Display the updated DataFrame\n",
    "unique_categorical_values_df.head()"
   ]
  },
  {
   "cell_type": "code",
   "execution_count": null,
   "metadata": {},
   "outputs": [
    {
     "data": {
      "text/html": [
       "<div>\n",
       "<style scoped>\n",
       "    .dataframe tbody tr th:only-of-type {\n",
       "        vertical-align: middle;\n",
       "    }\n",
       "\n",
       "    .dataframe tbody tr th {\n",
       "        vertical-align: top;\n",
       "    }\n",
       "\n",
       "    .dataframe thead th {\n",
       "        text-align: right;\n",
       "    }\n",
       "</style>\n",
       "<table border=\"1\" class=\"dataframe\">\n",
       "  <thead>\n",
       "    <tr style=\"text-align: right;\">\n",
       "      <th></th>\n",
       "      <th>Sensor ID</th>\n",
       "      <th>Color of sensor_g</th>\n",
       "    </tr>\n",
       "  </thead>\n",
       "  <tbody>\n",
       "    <tr>\n",
       "      <th>0</th>\n",
       "      <td>32</td>\n",
       "      <td>0</td>\n",
       "    </tr>\n",
       "    <tr>\n",
       "      <th>1</th>\n",
       "      <td>33</td>\n",
       "      <td>0</td>\n",
       "    </tr>\n",
       "    <tr>\n",
       "      <th>2</th>\n",
       "      <td>34</td>\n",
       "      <td>0</td>\n",
       "    </tr>\n",
       "    <tr>\n",
       "      <th>3</th>\n",
       "      <td>35</td>\n",
       "      <td>0</td>\n",
       "    </tr>\n",
       "    <tr>\n",
       "      <th>4</th>\n",
       "      <td>36</td>\n",
       "      <td>0</td>\n",
       "    </tr>\n",
       "    <tr>\n",
       "      <th>...</th>\n",
       "      <td>...</td>\n",
       "      <td>...</td>\n",
       "    </tr>\n",
       "    <tr>\n",
       "      <th>72</th>\n",
       "      <td>104</td>\n",
       "      <td>1</td>\n",
       "    </tr>\n",
       "    <tr>\n",
       "      <th>73</th>\n",
       "      <td>105</td>\n",
       "      <td>0</td>\n",
       "    </tr>\n",
       "    <tr>\n",
       "      <th>74</th>\n",
       "      <td>106</td>\n",
       "      <td>1</td>\n",
       "    </tr>\n",
       "    <tr>\n",
       "      <th>75</th>\n",
       "      <td>107</td>\n",
       "      <td>1</td>\n",
       "    </tr>\n",
       "    <tr>\n",
       "      <th>76</th>\n",
       "      <td>108</td>\n",
       "      <td>0</td>\n",
       "    </tr>\n",
       "  </tbody>\n",
       "</table>\n",
       "<p>77 rows × 2 columns</p>\n",
       "</div>"
      ],
      "text/plain": [
       "    Sensor ID  Color of sensor_g\n",
       "0          32                  0\n",
       "1          33                  0\n",
       "2          34                  0\n",
       "3          35                  0\n",
       "4          36                  0\n",
       "..        ...                ...\n",
       "72        104                  1\n",
       "73        105                  0\n",
       "74        106                  1\n",
       "75        107                  1\n",
       "76        108                  0\n",
       "\n",
       "[77 rows x 2 columns]"
      ]
     },
     "execution_count": 204,
     "metadata": {},
     "output_type": "execute_result"
    }
   ],
   "source": [
    "# One-hot encode all the object features\n",
    "if not unique_categorical_values_df.empty:\n",
    "    unique_categorical_values_encoded = pd.get_dummies(unique_categorical_values_df, drop_first=True)\n",
    "else:\n",
    "    unique_categorical_values_encoded = unique_categorical_values_df\n",
    "\n",
    "\n",
    "# Convert boolean columns to integers (0 and 1)\n",
    "unique_categorical_values_encoded[\"Color of sensor_g\"] = unique_categorical_values_encoded[\"Color of sensor_g\"].astype(int)\n",
    "unique_categorical_values_encoded"
   ]
  },
  {
   "cell_type": "code",
   "execution_count": null,
   "metadata": {},
   "outputs": [
    {
     "data": {
      "text/html": [
       "<div>\n",
       "<style scoped>\n",
       "    .dataframe tbody tr th:only-of-type {\n",
       "        vertical-align: middle;\n",
       "    }\n",
       "\n",
       "    .dataframe tbody tr th {\n",
       "        vertical-align: top;\n",
       "    }\n",
       "\n",
       "    .dataframe thead th {\n",
       "        text-align: right;\n",
       "    }\n",
       "</style>\n",
       "<table border=\"1\" class=\"dataframe\">\n",
       "  <thead>\n",
       "    <tr style=\"text-align: right;\">\n",
       "      <th></th>\n",
       "      <th>Sensor ID</th>\n",
       "      <th>13_10000_mean_middle</th>\n",
       "      <th>13_16800_mean_middle</th>\n",
       "      <th>13_3000_mean_middle</th>\n",
       "      <th>13_6000_mean_middle</th>\n",
       "      <th>13_8000_mean_middle</th>\n",
       "      <th>18_10000_mean_middle</th>\n",
       "      <th>18_16800_mean_middle</th>\n",
       "      <th>18_3000_mean_middle</th>\n",
       "      <th>18_6000_mean_middle</th>\n",
       "      <th>...</th>\n",
       "      <th>48_16800_mean_upper</th>\n",
       "      <th>48_3000_mean_upper</th>\n",
       "      <th>48_6000_mean_upper</th>\n",
       "      <th>48_8000_mean_upper</th>\n",
       "      <th>53_10000_mean_upper</th>\n",
       "      <th>53_16800_mean_upper</th>\n",
       "      <th>53_3000_mean_upper</th>\n",
       "      <th>53_6000_mean_upper</th>\n",
       "      <th>53_8000_mean_upper</th>\n",
       "      <th>Color of sensor_g</th>\n",
       "    </tr>\n",
       "  </thead>\n",
       "  <tbody>\n",
       "    <tr>\n",
       "      <th>0</th>\n",
       "      <td>32</td>\n",
       "      <td>765.626263</td>\n",
       "      <td>765.693878</td>\n",
       "      <td>765.640000</td>\n",
       "      <td>765.560000</td>\n",
       "      <td>766.120000</td>\n",
       "      <td>1057.280000</td>\n",
       "      <td>821.200000</td>\n",
       "      <td>1057.626263</td>\n",
       "      <td>1057.440000</td>\n",
       "      <td>...</td>\n",
       "      <td>0.0</td>\n",
       "      <td>2787.833333</td>\n",
       "      <td>0.0</td>\n",
       "      <td>0.000000</td>\n",
       "      <td>3099.0</td>\n",
       "      <td>0.000000</td>\n",
       "      <td>0.0</td>\n",
       "      <td>0.0</td>\n",
       "      <td>0.0</td>\n",
       "      <td>0</td>\n",
       "    </tr>\n",
       "    <tr>\n",
       "      <th>1</th>\n",
       "      <td>33</td>\n",
       "      <td>755.000000</td>\n",
       "      <td>779.530612</td>\n",
       "      <td>736.640000</td>\n",
       "      <td>779.275862</td>\n",
       "      <td>755.467532</td>\n",
       "      <td>1024.818182</td>\n",
       "      <td>1035.640000</td>\n",
       "      <td>1024.777778</td>\n",
       "      <td>1025.720000</td>\n",
       "      <td>...</td>\n",
       "      <td>0.0</td>\n",
       "      <td>2740.037037</td>\n",
       "      <td>0.0</td>\n",
       "      <td>0.000000</td>\n",
       "      <td>0.0</td>\n",
       "      <td>3073.666667</td>\n",
       "      <td>0.0</td>\n",
       "      <td>3073.4</td>\n",
       "      <td>3074.0</td>\n",
       "      <td>0</td>\n",
       "    </tr>\n",
       "    <tr>\n",
       "      <th>2</th>\n",
       "      <td>34</td>\n",
       "      <td>665.680000</td>\n",
       "      <td>658.920000</td>\n",
       "      <td>675.989247</td>\n",
       "      <td>653.682353</td>\n",
       "      <td>665.240000</td>\n",
       "      <td>969.480000</td>\n",
       "      <td>969.469136</td>\n",
       "      <td>969.520000</td>\n",
       "      <td>969.585859</td>\n",
       "      <td>...</td>\n",
       "      <td>0.0</td>\n",
       "      <td>0.000000</td>\n",
       "      <td>0.0</td>\n",
       "      <td>0.000000</td>\n",
       "      <td>0.0</td>\n",
       "      <td>0.000000</td>\n",
       "      <td>0.0</td>\n",
       "      <td>0.0</td>\n",
       "      <td>0.0</td>\n",
       "      <td>0</td>\n",
       "    </tr>\n",
       "    <tr>\n",
       "      <th>3</th>\n",
       "      <td>35</td>\n",
       "      <td>861.640000</td>\n",
       "      <td>861.626263</td>\n",
       "      <td>804.320000</td>\n",
       "      <td>861.840000</td>\n",
       "      <td>863.000000</td>\n",
       "      <td>1012.333333</td>\n",
       "      <td>1011.800000</td>\n",
       "      <td>1012.720000</td>\n",
       "      <td>1012.240000</td>\n",
       "      <td>...</td>\n",
       "      <td>0.0</td>\n",
       "      <td>2756.839080</td>\n",
       "      <td>0.0</td>\n",
       "      <td>2778.428571</td>\n",
       "      <td>0.0</td>\n",
       "      <td>0.000000</td>\n",
       "      <td>0.0</td>\n",
       "      <td>0.0</td>\n",
       "      <td>0.0</td>\n",
       "      <td>0</td>\n",
       "    </tr>\n",
       "    <tr>\n",
       "      <th>4</th>\n",
       "      <td>36</td>\n",
       "      <td>743.520000</td>\n",
       "      <td>743.962025</td>\n",
       "      <td>743.360000</td>\n",
       "      <td>743.680000</td>\n",
       "      <td>743.600000</td>\n",
       "      <td>1067.000000</td>\n",
       "      <td>1054.880000</td>\n",
       "      <td>1064.494949</td>\n",
       "      <td>1067.000000</td>\n",
       "      <td>...</td>\n",
       "      <td>0.0</td>\n",
       "      <td>0.000000</td>\n",
       "      <td>0.0</td>\n",
       "      <td>0.000000</td>\n",
       "      <td>3113.0</td>\n",
       "      <td>0.000000</td>\n",
       "      <td>0.0</td>\n",
       "      <td>0.0</td>\n",
       "      <td>0.0</td>\n",
       "      <td>0</td>\n",
       "    </tr>\n",
       "  </tbody>\n",
       "</table>\n",
       "<p>5 rows × 137 columns</p>\n",
       "</div>"
      ],
      "text/plain": [
       "   Sensor ID  13_10000_mean_middle  13_16800_mean_middle  13_3000_mean_middle  \\\n",
       "0         32            765.626263            765.693878           765.640000   \n",
       "1         33            755.000000            779.530612           736.640000   \n",
       "2         34            665.680000            658.920000           675.989247   \n",
       "3         35            861.640000            861.626263           804.320000   \n",
       "4         36            743.520000            743.962025           743.360000   \n",
       "\n",
       "   13_6000_mean_middle  13_8000_mean_middle  18_10000_mean_middle  \\\n",
       "0           765.560000           766.120000           1057.280000   \n",
       "1           779.275862           755.467532           1024.818182   \n",
       "2           653.682353           665.240000            969.480000   \n",
       "3           861.840000           863.000000           1012.333333   \n",
       "4           743.680000           743.600000           1067.000000   \n",
       "\n",
       "   18_16800_mean_middle  18_3000_mean_middle  18_6000_mean_middle  ...  \\\n",
       "0            821.200000          1057.626263          1057.440000  ...   \n",
       "1           1035.640000          1024.777778          1025.720000  ...   \n",
       "2            969.469136           969.520000           969.585859  ...   \n",
       "3           1011.800000          1012.720000          1012.240000  ...   \n",
       "4           1054.880000          1064.494949          1067.000000  ...   \n",
       "\n",
       "   48_16800_mean_upper  48_3000_mean_upper  48_6000_mean_upper  \\\n",
       "0                  0.0         2787.833333                 0.0   \n",
       "1                  0.0         2740.037037                 0.0   \n",
       "2                  0.0            0.000000                 0.0   \n",
       "3                  0.0         2756.839080                 0.0   \n",
       "4                  0.0            0.000000                 0.0   \n",
       "\n",
       "   48_8000_mean_upper  53_10000_mean_upper  53_16800_mean_upper  \\\n",
       "0            0.000000               3099.0             0.000000   \n",
       "1            0.000000                  0.0          3073.666667   \n",
       "2            0.000000                  0.0             0.000000   \n",
       "3         2778.428571                  0.0             0.000000   \n",
       "4            0.000000               3113.0             0.000000   \n",
       "\n",
       "   53_3000_mean_upper  53_6000_mean_upper  53_8000_mean_upper  \\\n",
       "0                 0.0                 0.0                 0.0   \n",
       "1                 0.0              3073.4              3074.0   \n",
       "2                 0.0                 0.0                 0.0   \n",
       "3                 0.0                 0.0                 0.0   \n",
       "4                 0.0                 0.0                 0.0   \n",
       "\n",
       "   Color of sensor_g  \n",
       "0                  0  \n",
       "1                  0  \n",
       "2                  0  \n",
       "3                  0  \n",
       "4                  0  \n",
       "\n",
       "[5 rows x 137 columns]"
      ]
     },
     "execution_count": 205,
     "metadata": {},
     "output_type": "execute_result"
    }
   ],
   "source": [
    "# Merge the unique categorical values DataFrame with the original data on 'Sensor ID'\n",
    "df_all = pd.merge(df_range_delay_all, unique_categorical_values_encoded, on='Sensor ID', how='left')\n",
    "df_all.head()"
   ]
  },
  {
   "cell_type": "markdown",
   "metadata": {},
   "source": [
    "# Feature Engineering: Upper and Lower bound's Frequency"
   ]
  },
  {
   "cell_type": "code",
   "execution_count": null,
   "metadata": {},
   "outputs": [
    {
     "data": {
      "text/html": [
       "<div>\n",
       "<style scoped>\n",
       "    .dataframe tbody tr th:only-of-type {\n",
       "        vertical-align: middle;\n",
       "    }\n",
       "\n",
       "    .dataframe tbody tr th {\n",
       "        vertical-align: top;\n",
       "    }\n",
       "\n",
       "    .dataframe thead th {\n",
       "        text-align: right;\n",
       "    }\n",
       "</style>\n",
       "<table border=\"1\" class=\"dataframe\">\n",
       "  <thead>\n",
       "    <tr style=\"text-align: right;\">\n",
       "      <th></th>\n",
       "      <th>Sensor ID</th>\n",
       "      <th>Delay (us)</th>\n",
       "      <th>Lower Quartile Ping Count</th>\n",
       "      <th>Upper Quartile Ping Count</th>\n",
       "    </tr>\n",
       "  </thead>\n",
       "  <tbody>\n",
       "    <tr>\n",
       "      <th>0</th>\n",
       "      <td>32</td>\n",
       "      <td>3000</td>\n",
       "      <td>78</td>\n",
       "      <td>106</td>\n",
       "    </tr>\n",
       "    <tr>\n",
       "      <th>1</th>\n",
       "      <td>32</td>\n",
       "      <td>6000</td>\n",
       "      <td>5</td>\n",
       "      <td>0</td>\n",
       "    </tr>\n",
       "    <tr>\n",
       "      <th>2</th>\n",
       "      <td>32</td>\n",
       "      <td>8000</td>\n",
       "      <td>39</td>\n",
       "      <td>9</td>\n",
       "    </tr>\n",
       "    <tr>\n",
       "      <th>3</th>\n",
       "      <td>32</td>\n",
       "      <td>10000</td>\n",
       "      <td>25</td>\n",
       "      <td>8</td>\n",
       "    </tr>\n",
       "    <tr>\n",
       "      <th>4</th>\n",
       "      <td>32</td>\n",
       "      <td>16800</td>\n",
       "      <td>10</td>\n",
       "      <td>1</td>\n",
       "    </tr>\n",
       "  </tbody>\n",
       "</table>\n",
       "</div>"
      ],
      "text/plain": [
       "   Sensor ID  Delay (us)  Lower Quartile Ping Count  Upper Quartile Ping Count\n",
       "0         32        3000                         78                        106\n",
       "1         32        6000                          5                          0\n",
       "2         32        8000                         39                          9\n",
       "3         32       10000                         25                          8\n",
       "4         32       16800                         10                          1"
      ]
     },
     "execution_count": 206,
     "metadata": {},
     "output_type": "execute_result"
    }
   ],
   "source": [
    "# Group by 'Sensor ID' and 'Delay (us)' for lower quartile\n",
    "grouped_lower_outliers = df_lower_quartile.groupby(['Sensor ID', 'Delay (us)'])['Ping Time (us)'].count().reset_index()\n",
    "\n",
    "# Group by 'Sensor ID' and 'Delay (us)' for upper quartile\n",
    "grouped_upper_outliers = df_upper_quartile.groupby(['Sensor ID', 'Delay (us)'])['Ping Time (us)'].count().reset_index()\n",
    "\n",
    "# Merge the grouped dataframes with alias column names for the count columns\n",
    "df_outlier_freq = pd.merge(grouped_lower_outliers, grouped_upper_outliers, on=['Sensor ID', 'Delay (us)'], suffixes=('_lower', '_upper'), how='left')\n",
    "\n",
    "# Rename the columns if necessary\n",
    "df_outlier_freq.rename(columns={\n",
    "    'Ping Time (us)_lower': 'Lower Quartile Ping Count',\n",
    "    'Ping Time (us)_upper': 'Upper Quartile Ping Count'\n",
    "}, inplace=True)\n",
    "\n",
    "\n",
    "# Replace NaN values with 0\n",
    "df_outlier_freq.fillna(0, inplace=True)\n",
    "\n",
    "df_outlier_freq['Lower Quartile Ping Count'] = df_outlier_freq['Lower Quartile Ping Count'].astype(int)\n",
    "df_outlier_freq['Upper Quartile Ping Count'] = df_outlier_freq['Upper Quartile Ping Count'].astype(int)\n",
    "\n",
    "\n",
    "# Display the resulting DataFrame\n",
    "df_outlier_freq.head()"
   ]
  },
  {
   "cell_type": "code",
   "execution_count": null,
   "metadata": {},
   "outputs": [
    {
     "data": {
      "text/html": [
       "<div>\n",
       "<style scoped>\n",
       "    .dataframe tbody tr th:only-of-type {\n",
       "        vertical-align: middle;\n",
       "    }\n",
       "\n",
       "    .dataframe tbody tr th {\n",
       "        vertical-align: top;\n",
       "    }\n",
       "\n",
       "    .dataframe thead th {\n",
       "        text-align: right;\n",
       "    }\n",
       "</style>\n",
       "<table border=\"1\" class=\"dataframe\">\n",
       "  <thead>\n",
       "    <tr style=\"text-align: right;\">\n",
       "      <th>delay_freq</th>\n",
       "      <th>Sensor ID</th>\n",
       "      <th>delay_10000_lower</th>\n",
       "      <th>delay_16800_lower</th>\n",
       "      <th>delay_3000_lower</th>\n",
       "      <th>delay_6000_lower</th>\n",
       "      <th>delay_8000_lower</th>\n",
       "    </tr>\n",
       "  </thead>\n",
       "  <tbody>\n",
       "    <tr>\n",
       "      <th>0</th>\n",
       "      <td>32</td>\n",
       "      <td>25.0</td>\n",
       "      <td>10.0</td>\n",
       "      <td>78.0</td>\n",
       "      <td>5.0</td>\n",
       "      <td>39.0</td>\n",
       "    </tr>\n",
       "    <tr>\n",
       "      <th>1</th>\n",
       "      <td>33</td>\n",
       "      <td>176.0</td>\n",
       "      <td>99.0</td>\n",
       "      <td>79.0</td>\n",
       "      <td>121.0</td>\n",
       "      <td>109.0</td>\n",
       "    </tr>\n",
       "    <tr>\n",
       "      <th>2</th>\n",
       "      <td>34</td>\n",
       "      <td>1.0</td>\n",
       "      <td>45.0</td>\n",
       "      <td>112.0</td>\n",
       "      <td>192.0</td>\n",
       "      <td>22.0</td>\n",
       "    </tr>\n",
       "    <tr>\n",
       "      <th>3</th>\n",
       "      <td>35</td>\n",
       "      <td>100.0</td>\n",
       "      <td>10.0</td>\n",
       "      <td>82.0</td>\n",
       "      <td>112.0</td>\n",
       "      <td>203.0</td>\n",
       "    </tr>\n",
       "    <tr>\n",
       "      <th>4</th>\n",
       "      <td>36</td>\n",
       "      <td>100.0</td>\n",
       "      <td>13.0</td>\n",
       "      <td>97.0</td>\n",
       "      <td>165.0</td>\n",
       "      <td>103.0</td>\n",
       "    </tr>\n",
       "  </tbody>\n",
       "</table>\n",
       "</div>"
      ],
      "text/plain": [
       "delay_freq  Sensor ID  delay_10000_lower  delay_16800_lower  delay_3000_lower  \\\n",
       "0                  32               25.0               10.0              78.0   \n",
       "1                  33              176.0               99.0              79.0   \n",
       "2                  34                1.0               45.0             112.0   \n",
       "3                  35              100.0               10.0              82.0   \n",
       "4                  36              100.0               13.0              97.0   \n",
       "\n",
       "delay_freq  delay_6000_lower  delay_8000_lower  \n",
       "0                        5.0              39.0  \n",
       "1                      121.0             109.0  \n",
       "2                      192.0              22.0  \n",
       "3                      112.0             203.0  \n",
       "4                      165.0             103.0  "
      ]
     },
     "execution_count": 207,
     "metadata": {},
     "output_type": "execute_result"
    }
   ],
   "source": [
    "df_outlier_freq['delay_freq'] =  \"delay\"+ '_' + df_outlier_freq['Delay (us)'].astype(str)+'_'+\"lower\"\n",
    "\n",
    "# Step 3: Pivot the table\n",
    "df_pivot_lower = df_outlier_freq.pivot(index='Sensor ID', columns='delay_freq', values='Lower Quartile Ping Count').reset_index()\n",
    "\n",
    "df_pivot_lower.head()"
   ]
  },
  {
   "cell_type": "code",
   "execution_count": null,
   "metadata": {},
   "outputs": [
    {
     "data": {
      "text/html": [
       "<div>\n",
       "<style scoped>\n",
       "    .dataframe tbody tr th:only-of-type {\n",
       "        vertical-align: middle;\n",
       "    }\n",
       "\n",
       "    .dataframe tbody tr th {\n",
       "        vertical-align: top;\n",
       "    }\n",
       "\n",
       "    .dataframe thead th {\n",
       "        text-align: right;\n",
       "    }\n",
       "</style>\n",
       "<table border=\"1\" class=\"dataframe\">\n",
       "  <thead>\n",
       "    <tr style=\"text-align: right;\">\n",
       "      <th>delay_freq</th>\n",
       "      <th>Sensor ID</th>\n",
       "      <th>delay_10000_upper</th>\n",
       "      <th>delay_16800_upper</th>\n",
       "      <th>delay_3000_upper</th>\n",
       "      <th>delay_6000_upper</th>\n",
       "      <th>delay_8000_upper</th>\n",
       "    </tr>\n",
       "  </thead>\n",
       "  <tbody>\n",
       "    <tr>\n",
       "      <th>0</th>\n",
       "      <td>32</td>\n",
       "      <td>8.0</td>\n",
       "      <td>1.0</td>\n",
       "      <td>106.0</td>\n",
       "      <td>0.0</td>\n",
       "      <td>9.0</td>\n",
       "    </tr>\n",
       "    <tr>\n",
       "      <th>1</th>\n",
       "      <td>33</td>\n",
       "      <td>195.0</td>\n",
       "      <td>82.0</td>\n",
       "      <td>110.0</td>\n",
       "      <td>119.0</td>\n",
       "      <td>141.0</td>\n",
       "    </tr>\n",
       "    <tr>\n",
       "      <th>2</th>\n",
       "      <td>34</td>\n",
       "      <td>27.0</td>\n",
       "      <td>35.0</td>\n",
       "      <td>103.0</td>\n",
       "      <td>191.0</td>\n",
       "      <td>15.0</td>\n",
       "    </tr>\n",
       "    <tr>\n",
       "      <th>3</th>\n",
       "      <td>35</td>\n",
       "      <td>100.0</td>\n",
       "      <td>16.0</td>\n",
       "      <td>110.0</td>\n",
       "      <td>89.0</td>\n",
       "      <td>196.0</td>\n",
       "    </tr>\n",
       "    <tr>\n",
       "      <th>4</th>\n",
       "      <td>36</td>\n",
       "      <td>99.0</td>\n",
       "      <td>33.0</td>\n",
       "      <td>81.0</td>\n",
       "      <td>180.0</td>\n",
       "      <td>93.0</td>\n",
       "    </tr>\n",
       "  </tbody>\n",
       "</table>\n",
       "</div>"
      ],
      "text/plain": [
       "delay_freq  Sensor ID  delay_10000_upper  delay_16800_upper  delay_3000_upper  \\\n",
       "0                  32                8.0                1.0             106.0   \n",
       "1                  33              195.0               82.0             110.0   \n",
       "2                  34               27.0               35.0             103.0   \n",
       "3                  35              100.0               16.0             110.0   \n",
       "4                  36               99.0               33.0              81.0   \n",
       "\n",
       "delay_freq  delay_6000_upper  delay_8000_upper  \n",
       "0                        0.0               9.0  \n",
       "1                      119.0             141.0  \n",
       "2                      191.0              15.0  \n",
       "3                       89.0             196.0  \n",
       "4                      180.0              93.0  "
      ]
     },
     "execution_count": 208,
     "metadata": {},
     "output_type": "execute_result"
    }
   ],
   "source": [
    "df_outlier_freq['delay_freq'] =  \"delay\"+ '_' + df_outlier_freq['Delay (us)'].astype(str)+'_'+\"upper\"\n",
    "\n",
    "# Step 3: Pivot the table\n",
    "df_pivot_upper = df_outlier_freq.pivot(index='Sensor ID', columns='delay_freq', values='Upper Quartile Ping Count').reset_index()\n",
    "\n",
    "df_pivot_upper.head()"
   ]
  },
  {
   "cell_type": "code",
   "execution_count": null,
   "metadata": {},
   "outputs": [
    {
     "data": {
      "text/html": [
       "<div>\n",
       "<style scoped>\n",
       "    .dataframe tbody tr th:only-of-type {\n",
       "        vertical-align: middle;\n",
       "    }\n",
       "\n",
       "    .dataframe tbody tr th {\n",
       "        vertical-align: top;\n",
       "    }\n",
       "\n",
       "    .dataframe thead th {\n",
       "        text-align: right;\n",
       "    }\n",
       "</style>\n",
       "<table border=\"1\" class=\"dataframe\">\n",
       "  <thead>\n",
       "    <tr style=\"text-align: right;\">\n",
       "      <th>delay_freq</th>\n",
       "      <th>Sensor ID</th>\n",
       "      <th>delay_10000_lower</th>\n",
       "      <th>delay_16800_lower</th>\n",
       "      <th>delay_3000_lower</th>\n",
       "      <th>delay_6000_lower</th>\n",
       "      <th>delay_8000_lower</th>\n",
       "      <th>delay_10000_upper</th>\n",
       "      <th>delay_16800_upper</th>\n",
       "      <th>delay_3000_upper</th>\n",
       "      <th>delay_6000_upper</th>\n",
       "      <th>delay_8000_upper</th>\n",
       "    </tr>\n",
       "  </thead>\n",
       "  <tbody>\n",
       "    <tr>\n",
       "      <th>0</th>\n",
       "      <td>32</td>\n",
       "      <td>25</td>\n",
       "      <td>10</td>\n",
       "      <td>78</td>\n",
       "      <td>5</td>\n",
       "      <td>39</td>\n",
       "      <td>8</td>\n",
       "      <td>1</td>\n",
       "      <td>106</td>\n",
       "      <td>0</td>\n",
       "      <td>9</td>\n",
       "    </tr>\n",
       "    <tr>\n",
       "      <th>1</th>\n",
       "      <td>33</td>\n",
       "      <td>176</td>\n",
       "      <td>99</td>\n",
       "      <td>79</td>\n",
       "      <td>121</td>\n",
       "      <td>109</td>\n",
       "      <td>195</td>\n",
       "      <td>82</td>\n",
       "      <td>110</td>\n",
       "      <td>119</td>\n",
       "      <td>141</td>\n",
       "    </tr>\n",
       "    <tr>\n",
       "      <th>2</th>\n",
       "      <td>34</td>\n",
       "      <td>1</td>\n",
       "      <td>45</td>\n",
       "      <td>112</td>\n",
       "      <td>192</td>\n",
       "      <td>22</td>\n",
       "      <td>27</td>\n",
       "      <td>35</td>\n",
       "      <td>103</td>\n",
       "      <td>191</td>\n",
       "      <td>15</td>\n",
       "    </tr>\n",
       "    <tr>\n",
       "      <th>3</th>\n",
       "      <td>35</td>\n",
       "      <td>100</td>\n",
       "      <td>10</td>\n",
       "      <td>82</td>\n",
       "      <td>112</td>\n",
       "      <td>203</td>\n",
       "      <td>100</td>\n",
       "      <td>16</td>\n",
       "      <td>110</td>\n",
       "      <td>89</td>\n",
       "      <td>196</td>\n",
       "    </tr>\n",
       "    <tr>\n",
       "      <th>4</th>\n",
       "      <td>36</td>\n",
       "      <td>100</td>\n",
       "      <td>13</td>\n",
       "      <td>97</td>\n",
       "      <td>165</td>\n",
       "      <td>103</td>\n",
       "      <td>99</td>\n",
       "      <td>33</td>\n",
       "      <td>81</td>\n",
       "      <td>180</td>\n",
       "      <td>93</td>\n",
       "    </tr>\n",
       "    <tr>\n",
       "      <th>...</th>\n",
       "      <td>...</td>\n",
       "      <td>...</td>\n",
       "      <td>...</td>\n",
       "      <td>...</td>\n",
       "      <td>...</td>\n",
       "      <td>...</td>\n",
       "      <td>...</td>\n",
       "      <td>...</td>\n",
       "      <td>...</td>\n",
       "      <td>...</td>\n",
       "      <td>...</td>\n",
       "    </tr>\n",
       "    <tr>\n",
       "      <th>72</th>\n",
       "      <td>104</td>\n",
       "      <td>47</td>\n",
       "      <td>11</td>\n",
       "      <td>122</td>\n",
       "      <td>102</td>\n",
       "      <td>42</td>\n",
       "      <td>73</td>\n",
       "      <td>43</td>\n",
       "      <td>131</td>\n",
       "      <td>90</td>\n",
       "      <td>47</td>\n",
       "    </tr>\n",
       "    <tr>\n",
       "      <th>73</th>\n",
       "      <td>105</td>\n",
       "      <td>79</td>\n",
       "      <td>22</td>\n",
       "      <td>40</td>\n",
       "      <td>85</td>\n",
       "      <td>119</td>\n",
       "      <td>81</td>\n",
       "      <td>15</td>\n",
       "      <td>51</td>\n",
       "      <td>104</td>\n",
       "      <td>134</td>\n",
       "    </tr>\n",
       "    <tr>\n",
       "      <th>74</th>\n",
       "      <td>106</td>\n",
       "      <td>134</td>\n",
       "      <td>3</td>\n",
       "      <td>163</td>\n",
       "      <td>227</td>\n",
       "      <td>153</td>\n",
       "      <td>136</td>\n",
       "      <td>13</td>\n",
       "      <td>126</td>\n",
       "      <td>222</td>\n",
       "      <td>132</td>\n",
       "    </tr>\n",
       "    <tr>\n",
       "      <th>75</th>\n",
       "      <td>107</td>\n",
       "      <td>45</td>\n",
       "      <td>4</td>\n",
       "      <td>133</td>\n",
       "      <td>93</td>\n",
       "      <td>122</td>\n",
       "      <td>48</td>\n",
       "      <td>24</td>\n",
       "      <td>134</td>\n",
       "      <td>86</td>\n",
       "      <td>130</td>\n",
       "    </tr>\n",
       "    <tr>\n",
       "      <th>76</th>\n",
       "      <td>108</td>\n",
       "      <td>94</td>\n",
       "      <td>7</td>\n",
       "      <td>0</td>\n",
       "      <td>1</td>\n",
       "      <td>41</td>\n",
       "      <td>105</td>\n",
       "      <td>20</td>\n",
       "      <td>0</td>\n",
       "      <td>5</td>\n",
       "      <td>51</td>\n",
       "    </tr>\n",
       "  </tbody>\n",
       "</table>\n",
       "<p>77 rows × 11 columns</p>\n",
       "</div>"
      ],
      "text/plain": [
       "delay_freq  Sensor ID  delay_10000_lower  delay_16800_lower  delay_3000_lower  \\\n",
       "0                  32                 25                 10                78   \n",
       "1                  33                176                 99                79   \n",
       "2                  34                  1                 45               112   \n",
       "3                  35                100                 10                82   \n",
       "4                  36                100                 13                97   \n",
       "..                ...                ...                ...               ...   \n",
       "72                104                 47                 11               122   \n",
       "73                105                 79                 22                40   \n",
       "74                106                134                  3               163   \n",
       "75                107                 45                  4               133   \n",
       "76                108                 94                  7                 0   \n",
       "\n",
       "delay_freq  delay_6000_lower  delay_8000_lower  delay_10000_upper  \\\n",
       "0                          5                39                  8   \n",
       "1                        121               109                195   \n",
       "2                        192                22                 27   \n",
       "3                        112               203                100   \n",
       "4                        165               103                 99   \n",
       "..                       ...               ...                ...   \n",
       "72                       102                42                 73   \n",
       "73                        85               119                 81   \n",
       "74                       227               153                136   \n",
       "75                        93               122                 48   \n",
       "76                         1                41                105   \n",
       "\n",
       "delay_freq  delay_16800_upper  delay_3000_upper  delay_6000_upper  \\\n",
       "0                           1               106                 0   \n",
       "1                          82               110               119   \n",
       "2                          35               103               191   \n",
       "3                          16               110                89   \n",
       "4                          33                81               180   \n",
       "..                        ...               ...               ...   \n",
       "72                         43               131                90   \n",
       "73                         15                51               104   \n",
       "74                         13               126               222   \n",
       "75                         24               134                86   \n",
       "76                         20                 0                 5   \n",
       "\n",
       "delay_freq  delay_8000_upper  \n",
       "0                          9  \n",
       "1                        141  \n",
       "2                         15  \n",
       "3                        196  \n",
       "4                         93  \n",
       "..                       ...  \n",
       "72                        47  \n",
       "73                       134  \n",
       "74                       132  \n",
       "75                       130  \n",
       "76                        51  \n",
       "\n",
       "[77 rows x 11 columns]"
      ]
     },
     "execution_count": 209,
     "metadata": {},
     "output_type": "execute_result"
    }
   ],
   "source": [
    "df_delay_freq = pd.merge(df_pivot_lower,df_pivot_upper, on='Sensor ID',how='left')\n",
    "# Replace NaN values with 0\n",
    "df_delay_freq.fillna(0, inplace=True)\n",
    "df_delay_freq = df_delay_freq.astype(int)\n",
    "\n",
    "df_delay_freq"
   ]
  },
  {
   "cell_type": "code",
   "execution_count": null,
   "metadata": {},
   "outputs": [
    {
     "data": {
      "text/html": [
       "<div>\n",
       "<style scoped>\n",
       "    .dataframe tbody tr th:only-of-type {\n",
       "        vertical-align: middle;\n",
       "    }\n",
       "\n",
       "    .dataframe tbody tr th {\n",
       "        vertical-align: top;\n",
       "    }\n",
       "\n",
       "    .dataframe thead th {\n",
       "        text-align: right;\n",
       "    }\n",
       "</style>\n",
       "<table border=\"1\" class=\"dataframe\">\n",
       "  <thead>\n",
       "    <tr style=\"text-align: right;\">\n",
       "      <th></th>\n",
       "      <th>Sensor ID</th>\n",
       "      <th>13_10000_mean_middle</th>\n",
       "      <th>13_16800_mean_middle</th>\n",
       "      <th>13_3000_mean_middle</th>\n",
       "      <th>13_6000_mean_middle</th>\n",
       "      <th>13_8000_mean_middle</th>\n",
       "      <th>18_10000_mean_middle</th>\n",
       "      <th>18_16800_mean_middle</th>\n",
       "      <th>18_3000_mean_middle</th>\n",
       "      <th>18_6000_mean_middle</th>\n",
       "      <th>...</th>\n",
       "      <th>delay_10000_lower</th>\n",
       "      <th>delay_16800_lower</th>\n",
       "      <th>delay_3000_lower</th>\n",
       "      <th>delay_6000_lower</th>\n",
       "      <th>delay_8000_lower</th>\n",
       "      <th>delay_10000_upper</th>\n",
       "      <th>delay_16800_upper</th>\n",
       "      <th>delay_3000_upper</th>\n",
       "      <th>delay_6000_upper</th>\n",
       "      <th>delay_8000_upper</th>\n",
       "    </tr>\n",
       "  </thead>\n",
       "  <tbody>\n",
       "    <tr>\n",
       "      <th>0</th>\n",
       "      <td>32</td>\n",
       "      <td>765.626263</td>\n",
       "      <td>765.693878</td>\n",
       "      <td>765.640000</td>\n",
       "      <td>765.560000</td>\n",
       "      <td>766.120000</td>\n",
       "      <td>1057.280000</td>\n",
       "      <td>821.200000</td>\n",
       "      <td>1057.626263</td>\n",
       "      <td>1057.440000</td>\n",
       "      <td>...</td>\n",
       "      <td>25</td>\n",
       "      <td>10</td>\n",
       "      <td>78</td>\n",
       "      <td>5</td>\n",
       "      <td>39</td>\n",
       "      <td>8</td>\n",
       "      <td>1</td>\n",
       "      <td>106</td>\n",
       "      <td>0</td>\n",
       "      <td>9</td>\n",
       "    </tr>\n",
       "    <tr>\n",
       "      <th>1</th>\n",
       "      <td>33</td>\n",
       "      <td>755.000000</td>\n",
       "      <td>779.530612</td>\n",
       "      <td>736.640000</td>\n",
       "      <td>779.275862</td>\n",
       "      <td>755.467532</td>\n",
       "      <td>1024.818182</td>\n",
       "      <td>1035.640000</td>\n",
       "      <td>1024.777778</td>\n",
       "      <td>1025.720000</td>\n",
       "      <td>...</td>\n",
       "      <td>176</td>\n",
       "      <td>99</td>\n",
       "      <td>79</td>\n",
       "      <td>121</td>\n",
       "      <td>109</td>\n",
       "      <td>195</td>\n",
       "      <td>82</td>\n",
       "      <td>110</td>\n",
       "      <td>119</td>\n",
       "      <td>141</td>\n",
       "    </tr>\n",
       "    <tr>\n",
       "      <th>2</th>\n",
       "      <td>34</td>\n",
       "      <td>665.680000</td>\n",
       "      <td>658.920000</td>\n",
       "      <td>675.989247</td>\n",
       "      <td>653.682353</td>\n",
       "      <td>665.240000</td>\n",
       "      <td>969.480000</td>\n",
       "      <td>969.469136</td>\n",
       "      <td>969.520000</td>\n",
       "      <td>969.585859</td>\n",
       "      <td>...</td>\n",
       "      <td>1</td>\n",
       "      <td>45</td>\n",
       "      <td>112</td>\n",
       "      <td>192</td>\n",
       "      <td>22</td>\n",
       "      <td>27</td>\n",
       "      <td>35</td>\n",
       "      <td>103</td>\n",
       "      <td>191</td>\n",
       "      <td>15</td>\n",
       "    </tr>\n",
       "    <tr>\n",
       "      <th>3</th>\n",
       "      <td>35</td>\n",
       "      <td>861.640000</td>\n",
       "      <td>861.626263</td>\n",
       "      <td>804.320000</td>\n",
       "      <td>861.840000</td>\n",
       "      <td>863.000000</td>\n",
       "      <td>1012.333333</td>\n",
       "      <td>1011.800000</td>\n",
       "      <td>1012.720000</td>\n",
       "      <td>1012.240000</td>\n",
       "      <td>...</td>\n",
       "      <td>100</td>\n",
       "      <td>10</td>\n",
       "      <td>82</td>\n",
       "      <td>112</td>\n",
       "      <td>203</td>\n",
       "      <td>100</td>\n",
       "      <td>16</td>\n",
       "      <td>110</td>\n",
       "      <td>89</td>\n",
       "      <td>196</td>\n",
       "    </tr>\n",
       "    <tr>\n",
       "      <th>4</th>\n",
       "      <td>36</td>\n",
       "      <td>743.520000</td>\n",
       "      <td>743.962025</td>\n",
       "      <td>743.360000</td>\n",
       "      <td>743.680000</td>\n",
       "      <td>743.600000</td>\n",
       "      <td>1067.000000</td>\n",
       "      <td>1054.880000</td>\n",
       "      <td>1064.494949</td>\n",
       "      <td>1067.000000</td>\n",
       "      <td>...</td>\n",
       "      <td>100</td>\n",
       "      <td>13</td>\n",
       "      <td>97</td>\n",
       "      <td>165</td>\n",
       "      <td>103</td>\n",
       "      <td>99</td>\n",
       "      <td>33</td>\n",
       "      <td>81</td>\n",
       "      <td>180</td>\n",
       "      <td>93</td>\n",
       "    </tr>\n",
       "  </tbody>\n",
       "</table>\n",
       "<p>5 rows × 147 columns</p>\n",
       "</div>"
      ],
      "text/plain": [
       "   Sensor ID  13_10000_mean_middle  13_16800_mean_middle  13_3000_mean_middle  \\\n",
       "0         32            765.626263            765.693878           765.640000   \n",
       "1         33            755.000000            779.530612           736.640000   \n",
       "2         34            665.680000            658.920000           675.989247   \n",
       "3         35            861.640000            861.626263           804.320000   \n",
       "4         36            743.520000            743.962025           743.360000   \n",
       "\n",
       "   13_6000_mean_middle  13_8000_mean_middle  18_10000_mean_middle  \\\n",
       "0           765.560000           766.120000           1057.280000   \n",
       "1           779.275862           755.467532           1024.818182   \n",
       "2           653.682353           665.240000            969.480000   \n",
       "3           861.840000           863.000000           1012.333333   \n",
       "4           743.680000           743.600000           1067.000000   \n",
       "\n",
       "   18_16800_mean_middle  18_3000_mean_middle  18_6000_mean_middle  ...  \\\n",
       "0            821.200000          1057.626263          1057.440000  ...   \n",
       "1           1035.640000          1024.777778          1025.720000  ...   \n",
       "2            969.469136           969.520000           969.585859  ...   \n",
       "3           1011.800000          1012.720000          1012.240000  ...   \n",
       "4           1054.880000          1064.494949          1067.000000  ...   \n",
       "\n",
       "   delay_10000_lower  delay_16800_lower  delay_3000_lower  delay_6000_lower  \\\n",
       "0                 25                 10                78                 5   \n",
       "1                176                 99                79               121   \n",
       "2                  1                 45               112               192   \n",
       "3                100                 10                82               112   \n",
       "4                100                 13                97               165   \n",
       "\n",
       "   delay_8000_lower  delay_10000_upper  delay_16800_upper  delay_3000_upper  \\\n",
       "0                39                  8                  1               106   \n",
       "1               109                195                 82               110   \n",
       "2                22                 27                 35               103   \n",
       "3               203                100                 16               110   \n",
       "4               103                 99                 33                81   \n",
       "\n",
       "   delay_6000_upper  delay_8000_upper  \n",
       "0                 0                 9  \n",
       "1               119               141  \n",
       "2               191                15  \n",
       "3                89               196  \n",
       "4               180                93  \n",
       "\n",
       "[5 rows x 147 columns]"
      ]
     },
     "execution_count": 210,
     "metadata": {},
     "output_type": "execute_result"
    }
   ],
   "source": [
    "# Merge the unique categorical values DataFrame with the original data on 'Sensor ID'\n",
    "df_all = pd.merge(df_all, df_delay_freq, on='Sensor ID', how='left')\n",
    "df_all.head()"
   ]
  },
  {
   "cell_type": "markdown",
   "metadata": {},
   "source": [
    "# Feature Engineering: Add Variability"
   ]
  },
  {
   "cell_type": "code",
   "execution_count": null,
   "metadata": {},
   "outputs": [],
   "source": [
    "\n",
    "def create_range_delay_feature_variability(df_quartile,bound):\n",
    "    # Step 1: Group and calculate mean\n",
    "    df_grouped = df_quartile.groupby(['Sensor ID', 'Range (cm)', 'Delay (us)'])['Ping Time (us)'].var().reset_index()\n",
    "\n",
    "    # Step 2: Create `range_delay` column\n",
    "    df_grouped['range_delay_var'] = df_grouped['Range (cm)'].astype(str) + '_' + df_grouped['Delay (us)'].astype(str)+'_'+'var'+'_'+bound\n",
    "\n",
    "    # Step 3: Pivot the table\n",
    "    df_pivot = df_grouped.pivot(index='Sensor ID', columns='range_delay_var', values='Ping Time (us)').reset_index()\n",
    "    \n",
    "    return df_pivot\n",
    "\n",
    "\n",
    "def feature_engineering_quartile_var(df):\n",
    "    df_middle_quartile, df_lower_quartile, df_upper_quartile = split_quartiles(df)\n",
    "    df_range_delay_middle = create_range_delay_feature_variability(df_middle_quartile,\"middle\")\n",
    "    df_range_delay_lower = create_range_delay_feature_variability(df_lower_quartile,\"lower\")\n",
    "    df_range_delay_upper = create_range_delay_feature_variability(df_upper_quartile,\"upper\")\n",
    "\n",
    "    # List of DataFrames\n",
    "    df_pivots = [df_range_delay_middle, df_range_delay_lower, df_range_delay_upper]\n",
    "\n",
    "    # Initialize the merged DataFrame with the first DataFrame in the list\n",
    "    df_range_delay_all = df_pivots[0]\n",
    "\n",
    "    # Iteratively merge each DataFrame in the list\n",
    "    for df in df_pivots[1:]:\n",
    "        df_range_delay_all = df_range_delay_all.merge(df, on='Sensor ID')\n",
    "        \n",
    "    # Replace all NaN values with 0 in the merged DataFrame\n",
    "    df_range_delay_all.fillna(0, inplace=True)\n",
    "\n",
    "    return df_range_delay_all, df_range_delay_middle, df_range_delay_lower,df_range_delay_upper\n",
    "    \n",
    "\n",
    "df_range_delay_var_all,df_range_delay_var_middle, df_range_delay_var_lower,df_range_var_delay_upper = feature_engineering_quartile_var(df_data_v4_1_1)\n"
   ]
  },
  {
   "cell_type": "code",
   "execution_count": null,
   "metadata": {},
   "outputs": [
    {
     "data": {
      "text/html": [
       "<div>\n",
       "<style scoped>\n",
       "    .dataframe tbody tr th:only-of-type {\n",
       "        vertical-align: middle;\n",
       "    }\n",
       "\n",
       "    .dataframe tbody tr th {\n",
       "        vertical-align: top;\n",
       "    }\n",
       "\n",
       "    .dataframe thead th {\n",
       "        text-align: right;\n",
       "    }\n",
       "</style>\n",
       "<table border=\"1\" class=\"dataframe\">\n",
       "  <thead>\n",
       "    <tr style=\"text-align: right;\">\n",
       "      <th>range_delay_var</th>\n",
       "      <th>Sensor ID</th>\n",
       "      <th>13_10000_var_middle</th>\n",
       "      <th>13_16800_var_middle</th>\n",
       "      <th>13_3000_var_middle</th>\n",
       "      <th>13_6000_var_middle</th>\n",
       "      <th>13_8000_var_middle</th>\n",
       "      <th>18_10000_var_middle</th>\n",
       "      <th>18_16800_var_middle</th>\n",
       "      <th>18_3000_var_middle</th>\n",
       "      <th>18_6000_var_middle</th>\n",
       "      <th>...</th>\n",
       "      <th>48_10000_var_upper</th>\n",
       "      <th>48_16800_var_upper</th>\n",
       "      <th>48_3000_var_upper</th>\n",
       "      <th>48_6000_var_upper</th>\n",
       "      <th>48_8000_var_upper</th>\n",
       "      <th>53_10000_var_upper</th>\n",
       "      <th>53_16800_var_upper</th>\n",
       "      <th>53_3000_var_upper</th>\n",
       "      <th>53_6000_var_upper</th>\n",
       "      <th>53_8000_var_upper</th>\n",
       "    </tr>\n",
       "  </thead>\n",
       "  <tbody>\n",
       "    <tr>\n",
       "      <th>0</th>\n",
       "      <td>32</td>\n",
       "      <td>8.216038</td>\n",
       "      <td>6.523880</td>\n",
       "      <td>6.858990</td>\n",
       "      <td>7.602424</td>\n",
       "      <td>6.328889</td>\n",
       "      <td>4.607677</td>\n",
       "      <td>108061.212121</td>\n",
       "      <td>4.950732</td>\n",
       "      <td>4.814545</td>\n",
       "      <td>...</td>\n",
       "      <td>0.000000</td>\n",
       "      <td>0.0</td>\n",
       "      <td>2.753623</td>\n",
       "      <td>0.0</td>\n",
       "      <td>0.000000</td>\n",
       "      <td>0.0</td>\n",
       "      <td>0.000000</td>\n",
       "      <td>0.0</td>\n",
       "      <td>0.0</td>\n",
       "      <td>0.0</td>\n",
       "    </tr>\n",
       "    <tr>\n",
       "      <th>1</th>\n",
       "      <td>33</td>\n",
       "      <td>0.000000</td>\n",
       "      <td>7.468125</td>\n",
       "      <td>6.495354</td>\n",
       "      <td>9.969527</td>\n",
       "      <td>3.778537</td>\n",
       "      <td>8.905380</td>\n",
       "      <td>161.525657</td>\n",
       "      <td>9.541950</td>\n",
       "      <td>6.749091</td>\n",
       "      <td>...</td>\n",
       "      <td>0.000000</td>\n",
       "      <td>0.0</td>\n",
       "      <td>3.111111</td>\n",
       "      <td>0.0</td>\n",
       "      <td>0.000000</td>\n",
       "      <td>0.0</td>\n",
       "      <td>21.333333</td>\n",
       "      <td>0.0</td>\n",
       "      <td>4.8</td>\n",
       "      <td>8.0</td>\n",
       "    </tr>\n",
       "    <tr>\n",
       "      <th>2</th>\n",
       "      <td>34</td>\n",
       "      <td>129.310707</td>\n",
       "      <td>120.559192</td>\n",
       "      <td>7.880318</td>\n",
       "      <td>5.100280</td>\n",
       "      <td>135.861010</td>\n",
       "      <td>5.100606</td>\n",
       "      <td>6.227160</td>\n",
       "      <td>6.353131</td>\n",
       "      <td>7.612451</td>\n",
       "      <td>...</td>\n",
       "      <td>0.000000</td>\n",
       "      <td>0.0</td>\n",
       "      <td>0.000000</td>\n",
       "      <td>0.0</td>\n",
       "      <td>0.000000</td>\n",
       "      <td>0.0</td>\n",
       "      <td>0.000000</td>\n",
       "      <td>0.0</td>\n",
       "      <td>0.0</td>\n",
       "      <td>0.0</td>\n",
       "    </tr>\n",
       "    <tr>\n",
       "      <th>3</th>\n",
       "      <td>35</td>\n",
       "      <td>5.242828</td>\n",
       "      <td>4.297671</td>\n",
       "      <td>4.543030</td>\n",
       "      <td>3.327677</td>\n",
       "      <td>0.000000</td>\n",
       "      <td>6.857143</td>\n",
       "      <td>6.141414</td>\n",
       "      <td>6.223838</td>\n",
       "      <td>7.012525</td>\n",
       "      <td>...</td>\n",
       "      <td>64.580984</td>\n",
       "      <td>0.0</td>\n",
       "      <td>30.811013</td>\n",
       "      <td>0.0</td>\n",
       "      <td>7.032967</td>\n",
       "      <td>0.0</td>\n",
       "      <td>0.000000</td>\n",
       "      <td>0.0</td>\n",
       "      <td>0.0</td>\n",
       "      <td>0.0</td>\n",
       "    </tr>\n",
       "    <tr>\n",
       "      <th>4</th>\n",
       "      <td>36</td>\n",
       "      <td>6.676364</td>\n",
       "      <td>6.652386</td>\n",
       "      <td>7.788283</td>\n",
       "      <td>7.128889</td>\n",
       "      <td>7.232323</td>\n",
       "      <td>0.000000</td>\n",
       "      <td>212.510707</td>\n",
       "      <td>8.681097</td>\n",
       "      <td>0.000000</td>\n",
       "      <td>...</td>\n",
       "      <td>0.000000</td>\n",
       "      <td>0.0</td>\n",
       "      <td>0.000000</td>\n",
       "      <td>0.0</td>\n",
       "      <td>0.000000</td>\n",
       "      <td>4.8</td>\n",
       "      <td>0.000000</td>\n",
       "      <td>0.0</td>\n",
       "      <td>0.0</td>\n",
       "      <td>0.0</td>\n",
       "    </tr>\n",
       "  </tbody>\n",
       "</table>\n",
       "<p>5 rows × 136 columns</p>\n",
       "</div>"
      ],
      "text/plain": [
       "range_delay_var  Sensor ID  13_10000_var_middle  13_16800_var_middle  \\\n",
       "0                       32             8.216038             6.523880   \n",
       "1                       33             0.000000             7.468125   \n",
       "2                       34           129.310707           120.559192   \n",
       "3                       35             5.242828             4.297671   \n",
       "4                       36             6.676364             6.652386   \n",
       "\n",
       "range_delay_var  13_3000_var_middle  13_6000_var_middle  13_8000_var_middle  \\\n",
       "0                          6.858990            7.602424            6.328889   \n",
       "1                          6.495354            9.969527            3.778537   \n",
       "2                          7.880318            5.100280          135.861010   \n",
       "3                          4.543030            3.327677            0.000000   \n",
       "4                          7.788283            7.128889            7.232323   \n",
       "\n",
       "range_delay_var  18_10000_var_middle  18_16800_var_middle  18_3000_var_middle  \\\n",
       "0                           4.607677        108061.212121            4.950732   \n",
       "1                           8.905380           161.525657            9.541950   \n",
       "2                           5.100606             6.227160            6.353131   \n",
       "3                           6.857143             6.141414            6.223838   \n",
       "4                           0.000000           212.510707            8.681097   \n",
       "\n",
       "range_delay_var  18_6000_var_middle  ...  48_10000_var_upper  \\\n",
       "0                          4.814545  ...            0.000000   \n",
       "1                          6.749091  ...            0.000000   \n",
       "2                          7.612451  ...            0.000000   \n",
       "3                          7.012525  ...           64.580984   \n",
       "4                          0.000000  ...            0.000000   \n",
       "\n",
       "range_delay_var  48_16800_var_upper  48_3000_var_upper  48_6000_var_upper  \\\n",
       "0                               0.0           2.753623                0.0   \n",
       "1                               0.0           3.111111                0.0   \n",
       "2                               0.0           0.000000                0.0   \n",
       "3                               0.0          30.811013                0.0   \n",
       "4                               0.0           0.000000                0.0   \n",
       "\n",
       "range_delay_var  48_8000_var_upper  53_10000_var_upper  53_16800_var_upper  \\\n",
       "0                         0.000000                 0.0            0.000000   \n",
       "1                         0.000000                 0.0           21.333333   \n",
       "2                         0.000000                 0.0            0.000000   \n",
       "3                         7.032967                 0.0            0.000000   \n",
       "4                         0.000000                 4.8            0.000000   \n",
       "\n",
       "range_delay_var  53_3000_var_upper  53_6000_var_upper  53_8000_var_upper  \n",
       "0                              0.0                0.0                0.0  \n",
       "1                              0.0                4.8                8.0  \n",
       "2                              0.0                0.0                0.0  \n",
       "3                              0.0                0.0                0.0  \n",
       "4                              0.0                0.0                0.0  \n",
       "\n",
       "[5 rows x 136 columns]"
      ]
     },
     "execution_count": 212,
     "metadata": {},
     "output_type": "execute_result"
    }
   ],
   "source": [
    "df_range_delay_var_all.head()"
   ]
  },
  {
   "cell_type": "code",
   "execution_count": null,
   "metadata": {},
   "outputs": [
    {
     "data": {
      "text/html": [
       "<div>\n",
       "<style scoped>\n",
       "    .dataframe tbody tr th:only-of-type {\n",
       "        vertical-align: middle;\n",
       "    }\n",
       "\n",
       "    .dataframe tbody tr th {\n",
       "        vertical-align: top;\n",
       "    }\n",
       "\n",
       "    .dataframe thead th {\n",
       "        text-align: right;\n",
       "    }\n",
       "</style>\n",
       "<table border=\"1\" class=\"dataframe\">\n",
       "  <thead>\n",
       "    <tr style=\"text-align: right;\">\n",
       "      <th></th>\n",
       "      <th>Sensor ID</th>\n",
       "      <th>13_10000_mean_middle</th>\n",
       "      <th>13_16800_mean_middle</th>\n",
       "      <th>13_3000_mean_middle</th>\n",
       "      <th>13_6000_mean_middle</th>\n",
       "      <th>13_8000_mean_middle</th>\n",
       "      <th>18_10000_mean_middle</th>\n",
       "      <th>18_16800_mean_middle</th>\n",
       "      <th>18_3000_mean_middle</th>\n",
       "      <th>18_6000_mean_middle</th>\n",
       "      <th>...</th>\n",
       "      <th>48_10000_var_upper</th>\n",
       "      <th>48_16800_var_upper</th>\n",
       "      <th>48_3000_var_upper</th>\n",
       "      <th>48_6000_var_upper</th>\n",
       "      <th>48_8000_var_upper</th>\n",
       "      <th>53_10000_var_upper</th>\n",
       "      <th>53_16800_var_upper</th>\n",
       "      <th>53_3000_var_upper</th>\n",
       "      <th>53_6000_var_upper</th>\n",
       "      <th>53_8000_var_upper</th>\n",
       "    </tr>\n",
       "  </thead>\n",
       "  <tbody>\n",
       "    <tr>\n",
       "      <th>0</th>\n",
       "      <td>32</td>\n",
       "      <td>765.626263</td>\n",
       "      <td>765.693878</td>\n",
       "      <td>765.640000</td>\n",
       "      <td>765.560000</td>\n",
       "      <td>766.120000</td>\n",
       "      <td>1057.280000</td>\n",
       "      <td>821.200000</td>\n",
       "      <td>1057.626263</td>\n",
       "      <td>1057.440000</td>\n",
       "      <td>...</td>\n",
       "      <td>0.000000</td>\n",
       "      <td>0.0</td>\n",
       "      <td>2.753623</td>\n",
       "      <td>0.0</td>\n",
       "      <td>0.000000</td>\n",
       "      <td>0.0</td>\n",
       "      <td>0.000000</td>\n",
       "      <td>0.0</td>\n",
       "      <td>0.0</td>\n",
       "      <td>0.0</td>\n",
       "    </tr>\n",
       "    <tr>\n",
       "      <th>1</th>\n",
       "      <td>33</td>\n",
       "      <td>755.000000</td>\n",
       "      <td>779.530612</td>\n",
       "      <td>736.640000</td>\n",
       "      <td>779.275862</td>\n",
       "      <td>755.467532</td>\n",
       "      <td>1024.818182</td>\n",
       "      <td>1035.640000</td>\n",
       "      <td>1024.777778</td>\n",
       "      <td>1025.720000</td>\n",
       "      <td>...</td>\n",
       "      <td>0.000000</td>\n",
       "      <td>0.0</td>\n",
       "      <td>3.111111</td>\n",
       "      <td>0.0</td>\n",
       "      <td>0.000000</td>\n",
       "      <td>0.0</td>\n",
       "      <td>21.333333</td>\n",
       "      <td>0.0</td>\n",
       "      <td>4.8</td>\n",
       "      <td>8.0</td>\n",
       "    </tr>\n",
       "    <tr>\n",
       "      <th>2</th>\n",
       "      <td>34</td>\n",
       "      <td>665.680000</td>\n",
       "      <td>658.920000</td>\n",
       "      <td>675.989247</td>\n",
       "      <td>653.682353</td>\n",
       "      <td>665.240000</td>\n",
       "      <td>969.480000</td>\n",
       "      <td>969.469136</td>\n",
       "      <td>969.520000</td>\n",
       "      <td>969.585859</td>\n",
       "      <td>...</td>\n",
       "      <td>0.000000</td>\n",
       "      <td>0.0</td>\n",
       "      <td>0.000000</td>\n",
       "      <td>0.0</td>\n",
       "      <td>0.000000</td>\n",
       "      <td>0.0</td>\n",
       "      <td>0.000000</td>\n",
       "      <td>0.0</td>\n",
       "      <td>0.0</td>\n",
       "      <td>0.0</td>\n",
       "    </tr>\n",
       "    <tr>\n",
       "      <th>3</th>\n",
       "      <td>35</td>\n",
       "      <td>861.640000</td>\n",
       "      <td>861.626263</td>\n",
       "      <td>804.320000</td>\n",
       "      <td>861.840000</td>\n",
       "      <td>863.000000</td>\n",
       "      <td>1012.333333</td>\n",
       "      <td>1011.800000</td>\n",
       "      <td>1012.720000</td>\n",
       "      <td>1012.240000</td>\n",
       "      <td>...</td>\n",
       "      <td>64.580984</td>\n",
       "      <td>0.0</td>\n",
       "      <td>30.811013</td>\n",
       "      <td>0.0</td>\n",
       "      <td>7.032967</td>\n",
       "      <td>0.0</td>\n",
       "      <td>0.000000</td>\n",
       "      <td>0.0</td>\n",
       "      <td>0.0</td>\n",
       "      <td>0.0</td>\n",
       "    </tr>\n",
       "    <tr>\n",
       "      <th>4</th>\n",
       "      <td>36</td>\n",
       "      <td>743.520000</td>\n",
       "      <td>743.962025</td>\n",
       "      <td>743.360000</td>\n",
       "      <td>743.680000</td>\n",
       "      <td>743.600000</td>\n",
       "      <td>1067.000000</td>\n",
       "      <td>1054.880000</td>\n",
       "      <td>1064.494949</td>\n",
       "      <td>1067.000000</td>\n",
       "      <td>...</td>\n",
       "      <td>0.000000</td>\n",
       "      <td>0.0</td>\n",
       "      <td>0.000000</td>\n",
       "      <td>0.0</td>\n",
       "      <td>0.000000</td>\n",
       "      <td>4.8</td>\n",
       "      <td>0.000000</td>\n",
       "      <td>0.0</td>\n",
       "      <td>0.0</td>\n",
       "      <td>0.0</td>\n",
       "    </tr>\n",
       "  </tbody>\n",
       "</table>\n",
       "<p>5 rows × 282 columns</p>\n",
       "</div>"
      ],
      "text/plain": [
       "   Sensor ID  13_10000_mean_middle  13_16800_mean_middle  13_3000_mean_middle  \\\n",
       "0         32            765.626263            765.693878           765.640000   \n",
       "1         33            755.000000            779.530612           736.640000   \n",
       "2         34            665.680000            658.920000           675.989247   \n",
       "3         35            861.640000            861.626263           804.320000   \n",
       "4         36            743.520000            743.962025           743.360000   \n",
       "\n",
       "   13_6000_mean_middle  13_8000_mean_middle  18_10000_mean_middle  \\\n",
       "0           765.560000           766.120000           1057.280000   \n",
       "1           779.275862           755.467532           1024.818182   \n",
       "2           653.682353           665.240000            969.480000   \n",
       "3           861.840000           863.000000           1012.333333   \n",
       "4           743.680000           743.600000           1067.000000   \n",
       "\n",
       "   18_16800_mean_middle  18_3000_mean_middle  18_6000_mean_middle  ...  \\\n",
       "0            821.200000          1057.626263          1057.440000  ...   \n",
       "1           1035.640000          1024.777778          1025.720000  ...   \n",
       "2            969.469136           969.520000           969.585859  ...   \n",
       "3           1011.800000          1012.720000          1012.240000  ...   \n",
       "4           1054.880000          1064.494949          1067.000000  ...   \n",
       "\n",
       "   48_10000_var_upper  48_16800_var_upper  48_3000_var_upper  \\\n",
       "0            0.000000                 0.0           2.753623   \n",
       "1            0.000000                 0.0           3.111111   \n",
       "2            0.000000                 0.0           0.000000   \n",
       "3           64.580984                 0.0          30.811013   \n",
       "4            0.000000                 0.0           0.000000   \n",
       "\n",
       "   48_6000_var_upper  48_8000_var_upper  53_10000_var_upper  \\\n",
       "0                0.0           0.000000                 0.0   \n",
       "1                0.0           0.000000                 0.0   \n",
       "2                0.0           0.000000                 0.0   \n",
       "3                0.0           7.032967                 0.0   \n",
       "4                0.0           0.000000                 4.8   \n",
       "\n",
       "   53_16800_var_upper  53_3000_var_upper  53_6000_var_upper  53_8000_var_upper  \n",
       "0            0.000000                0.0                0.0                0.0  \n",
       "1           21.333333                0.0                4.8                8.0  \n",
       "2            0.000000                0.0                0.0                0.0  \n",
       "3            0.000000                0.0                0.0                0.0  \n",
       "4            0.000000                0.0                0.0                0.0  \n",
       "\n",
       "[5 rows x 282 columns]"
      ]
     },
     "execution_count": 213,
     "metadata": {},
     "output_type": "execute_result"
    }
   ],
   "source": [
    "# Merge the unique categorical values DataFrame with the original data on 'Sensor ID'\n",
    "df_all = pd.merge(df_all, df_range_delay_var_all, on='Sensor ID', how='left')\n",
    "df_all.head()"
   ]
  },
  {
   "cell_type": "code",
   "execution_count": null,
   "metadata": {},
   "outputs": [
    {
     "data": {
      "text/plain": [
       "array([ 32,  33,  34,  35,  36,  37,  38,  39,  40,  41,  42,  43,  44,\n",
       "        45,  46,  47,  48,  49,  50,  51,  52,  53,  54,  55,  56,  57,\n",
       "        58,  59,  60,  61,  62,  63,  64,  65,  66,  67,  68,  69,  70,\n",
       "        71,  72,  73,  74,  75,  76,  77,  78,  79,  80,  81,  82,  83,\n",
       "        84,  85,  86,  87,  88,  89,  90,  91,  92,  93,  94,  95,  96,\n",
       "        97,  98,  99, 100, 101, 102, 103, 104, 105, 106, 107, 108],\n",
       "      dtype=int64)"
      ]
     },
     "execution_count": 214,
     "metadata": {},
     "output_type": "execute_result"
    }
   ],
   "source": [
    "df_all[\"Sensor ID\"].unique()"
   ]
  },
  {
   "cell_type": "markdown",
   "metadata": {},
   "source": [
    "## Export data"
   ]
  },
  {
   "cell_type": "code",
   "execution_count": null,
   "metadata": {},
   "outputs": [],
   "source": [
    "df_all.to_csv(\"../merged_dataset/data_v4-1-1_feature_engineered.csv\", index=False)"
   ]
  },
  {
   "cell_type": "markdown",
   "metadata": {},
   "source": [
    "# Clustering"
   ]
  },
  {
   "cell_type": "code",
   "execution_count": null,
   "metadata": {},
   "outputs": [
    {
     "name": "stderr",
     "output_type": "stream",
     "text": [
      "c:\\Anaconda\\envs\\datascience\\lib\\site-packages\\sklearn\\cluster\\_kmeans.py:1412: FutureWarning:\n",
      "\n",
      "The default value of `n_init` will change from 10 to 'auto' in 1.4. Set the value of `n_init` explicitly to suppress the warning\n",
      "\n",
      "c:\\Anaconda\\envs\\datascience\\lib\\site-packages\\sklearn\\cluster\\_kmeans.py:1436: UserWarning:\n",
      "\n",
      "KMeans is known to have a memory leak on Windows with MKL, when there are less chunks than available threads. You can avoid it by setting the environment variable OMP_NUM_THREADS=1.\n",
      "\n"
     ]
    },
    {
     "data": {
      "application/vnd.plotly.v1+json": {
       "config": {
        "plotlyServerURL": "https://plot.ly"
       },
       "data": [
        {
         "customdata": [
          [
           32
          ]
         ],
         "hovertemplate": "Sensor ID=%{customdata[0]}<br>Principal Component 1=%{x}<br>Principal Component 2=%{y}<br>Principal Component 3=%{z}<br>Cluster=%{marker.color}<extra></extra>",
         "legendgroup": "32",
         "marker": {
          "color": [
           2
          ],
          "coloraxis": "coloraxis",
          "symbol": "circle"
         },
         "mode": "markers",
         "name": "32",
         "scene": "scene",
         "showlegend": true,
         "type": "scatter3d",
         "x": [
          -3213.2861187051035
         ],
         "y": [
          -3467.707130093646
         ],
         "z": [
          1614.7361267188485
         ]
        },
        {
         "customdata": [
          [
           33
          ]
         ],
         "hovertemplate": "Sensor ID=%{customdata[0]}<br>Principal Component 1=%{x}<br>Principal Component 2=%{y}<br>Principal Component 3=%{z}<br>Cluster=%{marker.color}<extra></extra>",
         "legendgroup": "33",
         "marker": {
          "color": [
           0
          ],
          "coloraxis": "coloraxis",
          "symbol": "diamond"
         },
         "mode": "markers",
         "name": "33",
         "scene": "scene",
         "showlegend": true,
         "type": "scatter3d",
         "x": [
          -3157.6208273185366
         ],
         "y": [
          3949.2450194351677
         ],
         "z": [
          972.3843504652516
         ]
        },
        {
         "customdata": [
          [
           34
          ]
         ],
         "hovertemplate": "Sensor ID=%{customdata[0]}<br>Principal Component 1=%{x}<br>Principal Component 2=%{y}<br>Principal Component 3=%{z}<br>Cluster=%{marker.color}<extra></extra>",
         "legendgroup": "34",
         "marker": {
          "color": [
           2
          ],
          "coloraxis": "coloraxis",
          "symbol": "square"
         },
         "mode": "markers",
         "name": "34",
         "scene": "scene",
         "showlegend": true,
         "type": "scatter3d",
         "x": [
          -2959.7383899809242
         ],
         "y": [
          198.12564916483274
         ],
         "z": [
          -412.22982270553695
         ]
        },
        {
         "customdata": [
          [
           35
          ]
         ],
         "hovertemplate": "Sensor ID=%{customdata[0]}<br>Principal Component 1=%{x}<br>Principal Component 2=%{y}<br>Principal Component 3=%{z}<br>Cluster=%{marker.color}<extra></extra>",
         "legendgroup": "35",
         "marker": {
          "color": [
           2
          ],
          "coloraxis": "coloraxis",
          "symbol": "x"
         },
         "mode": "markers",
         "name": "35",
         "scene": "scene",
         "showlegend": true,
         "type": "scatter3d",
         "x": [
          -2526.248460205651
         ],
         "y": [
          -2959.252272456045
         ],
         "z": [
          -1349.5020057271486
         ]
        },
        {
         "customdata": [
          [
           36
          ]
         ],
         "hovertemplate": "Sensor ID=%{customdata[0]}<br>Principal Component 1=%{x}<br>Principal Component 2=%{y}<br>Principal Component 3=%{z}<br>Cluster=%{marker.color}<extra></extra>",
         "legendgroup": "36",
         "marker": {
          "color": [
           2
          ],
          "coloraxis": "coloraxis",
          "symbol": "cross"
         },
         "mode": "markers",
         "name": "36",
         "scene": "scene",
         "showlegend": true,
         "type": "scatter3d",
         "x": [
          -2380.7323190765396
         ],
         "y": [
          -2829.5493238455933
         ],
         "z": [
          554.4840305200805
         ]
        },
        {
         "customdata": [
          [
           37
          ]
         ],
         "hovertemplate": "Sensor ID=%{customdata[0]}<br>Principal Component 1=%{x}<br>Principal Component 2=%{y}<br>Principal Component 3=%{z}<br>Cluster=%{marker.color}<extra></extra>",
         "legendgroup": "37",
         "marker": {
          "color": [
           0
          ],
          "coloraxis": "coloraxis",
          "symbol": "circle"
         },
         "mode": "markers",
         "name": "37",
         "scene": "scene",
         "showlegend": true,
         "type": "scatter3d",
         "x": [
          -3177.372314600751
         ],
         "y": [
          5852.099294505959
         ],
         "z": [
          -877.1026513001991
         ]
        },
        {
         "customdata": [
          [
           38
          ]
         ],
         "hovertemplate": "Sensor ID=%{customdata[0]}<br>Principal Component 1=%{x}<br>Principal Component 2=%{y}<br>Principal Component 3=%{z}<br>Cluster=%{marker.color}<extra></extra>",
         "legendgroup": "38",
         "marker": {
          "color": [
           3
          ],
          "coloraxis": "coloraxis",
          "symbol": "diamond"
         },
         "mode": "markers",
         "name": "38",
         "scene": "scene",
         "showlegend": true,
         "type": "scatter3d",
         "x": [
          -3098.8924905505005
         ],
         "y": [
          -591.7286484672043
         ],
         "z": [
          2639.6702225002464
         ]
        },
        {
         "customdata": [
          [
           39
          ]
         ],
         "hovertemplate": "Sensor ID=%{customdata[0]}<br>Principal Component 1=%{x}<br>Principal Component 2=%{y}<br>Principal Component 3=%{z}<br>Cluster=%{marker.color}<extra></extra>",
         "legendgroup": "39",
         "marker": {
          "color": [
           0
          ],
          "coloraxis": "coloraxis",
          "symbol": "square"
         },
         "mode": "markers",
         "name": "39",
         "scene": "scene",
         "showlegend": true,
         "type": "scatter3d",
         "x": [
          -2412.7621595602864
         ],
         "y": [
          7915.265438113962
         ],
         "z": [
          2255.2751583421446
         ]
        },
        {
         "customdata": [
          [
           40
          ]
         ],
         "hovertemplate": "Sensor ID=%{customdata[0]}<br>Principal Component 1=%{x}<br>Principal Component 2=%{y}<br>Principal Component 3=%{z}<br>Cluster=%{marker.color}<extra></extra>",
         "legendgroup": "40",
         "marker": {
          "color": [
           2
          ],
          "coloraxis": "coloraxis",
          "symbol": "x"
         },
         "mode": "markers",
         "name": "40",
         "scene": "scene",
         "showlegend": true,
         "type": "scatter3d",
         "x": [
          -2489.00922958073
         ],
         "y": [
          -996.999043019381
         ],
         "z": [
          -182.35400449894908
         ]
        },
        {
         "customdata": [
          [
           41
          ]
         ],
         "hovertemplate": "Sensor ID=%{customdata[0]}<br>Principal Component 1=%{x}<br>Principal Component 2=%{y}<br>Principal Component 3=%{z}<br>Cluster=%{marker.color}<extra></extra>",
         "legendgroup": "41",
         "marker": {
          "color": [
           0
          ],
          "coloraxis": "coloraxis",
          "symbol": "cross"
         },
         "mode": "markers",
         "name": "41",
         "scene": "scene",
         "showlegend": true,
         "type": "scatter3d",
         "x": [
          -3027.608708405632
         ],
         "y": [
          4741.050114716264
         ],
         "z": [
          -4151.977962884462
         ]
        },
        {
         "customdata": [
          [
           42
          ]
         ],
         "hovertemplate": "Sensor ID=%{customdata[0]}<br>Principal Component 1=%{x}<br>Principal Component 2=%{y}<br>Principal Component 3=%{z}<br>Cluster=%{marker.color}<extra></extra>",
         "legendgroup": "42",
         "marker": {
          "color": [
           3
          ],
          "coloraxis": "coloraxis",
          "symbol": "circle"
         },
         "mode": "markers",
         "name": "42",
         "scene": "scene",
         "showlegend": true,
         "type": "scatter3d",
         "x": [
          -3255.4098431091797
         ],
         "y": [
          909.530253902252
         ],
         "z": [
          3717.4209211507655
         ]
        },
        {
         "customdata": [
          [
           43
          ]
         ],
         "hovertemplate": "Sensor ID=%{customdata[0]}<br>Principal Component 1=%{x}<br>Principal Component 2=%{y}<br>Principal Component 3=%{z}<br>Cluster=%{marker.color}<extra></extra>",
         "legendgroup": "43",
         "marker": {
          "color": [
           3
          ],
          "coloraxis": "coloraxis",
          "symbol": "diamond"
         },
         "mode": "markers",
         "name": "43",
         "scene": "scene",
         "showlegend": true,
         "type": "scatter3d",
         "x": [
          -2822.7220805102
         ],
         "y": [
          550.2667464290881
         ],
         "z": [
          504.7354670708227
         ]
        },
        {
         "customdata": [
          [
           44
          ]
         ],
         "hovertemplate": "Sensor ID=%{customdata[0]}<br>Principal Component 1=%{x}<br>Principal Component 2=%{y}<br>Principal Component 3=%{z}<br>Cluster=%{marker.color}<extra></extra>",
         "legendgroup": "44",
         "marker": {
          "color": [
           2
          ],
          "coloraxis": "coloraxis",
          "symbol": "square"
         },
         "mode": "markers",
         "name": "44",
         "scene": "scene",
         "showlegend": true,
         "type": "scatter3d",
         "x": [
          -2511.3663669223047
         ],
         "y": [
          -434.3507374834713
         ],
         "z": [
          -1669.5185228210973
         ]
        },
        {
         "customdata": [
          [
           45
          ]
         ],
         "hovertemplate": "Sensor ID=%{customdata[0]}<br>Principal Component 1=%{x}<br>Principal Component 2=%{y}<br>Principal Component 3=%{z}<br>Cluster=%{marker.color}<extra></extra>",
         "legendgroup": "45",
         "marker": {
          "color": [
           2
          ],
          "coloraxis": "coloraxis",
          "symbol": "x"
         },
         "mode": "markers",
         "name": "45",
         "scene": "scene",
         "showlegend": true,
         "type": "scatter3d",
         "x": [
          -3191.282820345062
         ],
         "y": [
          -3326.6067452347997
         ],
         "z": [
          -787.0829374861247
         ]
        },
        {
         "customdata": [
          [
           46
          ]
         ],
         "hovertemplate": "Sensor ID=%{customdata[0]}<br>Principal Component 1=%{x}<br>Principal Component 2=%{y}<br>Principal Component 3=%{z}<br>Cluster=%{marker.color}<extra></extra>",
         "legendgroup": "46",
         "marker": {
          "color": [
           2
          ],
          "coloraxis": "coloraxis",
          "symbol": "cross"
         },
         "mode": "markers",
         "name": "46",
         "scene": "scene",
         "showlegend": true,
         "type": "scatter3d",
         "x": [
          -3212.2691854570317
         ],
         "y": [
          -599.6817832989367
         ],
         "z": [
          -3450.78046728884
         ]
        },
        {
         "customdata": [
          [
           47
          ]
         ],
         "hovertemplate": "Sensor ID=%{customdata[0]}<br>Principal Component 1=%{x}<br>Principal Component 2=%{y}<br>Principal Component 3=%{z}<br>Cluster=%{marker.color}<extra></extra>",
         "legendgroup": "47",
         "marker": {
          "color": [
           3
          ],
          "coloraxis": "coloraxis",
          "symbol": "circle"
         },
         "mode": "markers",
         "name": "47",
         "scene": "scene",
         "showlegend": true,
         "type": "scatter3d",
         "x": [
          -3232.8485972462117
         ],
         "y": [
          10.626387325996548
         ],
         "z": [
          5102.460958428735
         ]
        },
        {
         "customdata": [
          [
           48
          ]
         ],
         "hovertemplate": "Sensor ID=%{customdata[0]}<br>Principal Component 1=%{x}<br>Principal Component 2=%{y}<br>Principal Component 3=%{z}<br>Cluster=%{marker.color}<extra></extra>",
         "legendgroup": "48",
         "marker": {
          "color": [
           3
          ],
          "coloraxis": "coloraxis",
          "symbol": "diamond"
         },
         "mode": "markers",
         "name": "48",
         "scene": "scene",
         "showlegend": true,
         "type": "scatter3d",
         "x": [
          -3225.210533608624
         ],
         "y": [
          -2320.2955541265746
         ],
         "z": [
          1955.3725084245973
         ]
        },
        {
         "customdata": [
          [
           49
          ]
         ],
         "hovertemplate": "Sensor ID=%{customdata[0]}<br>Principal Component 1=%{x}<br>Principal Component 2=%{y}<br>Principal Component 3=%{z}<br>Cluster=%{marker.color}<extra></extra>",
         "legendgroup": "49",
         "marker": {
          "color": [
           2
          ],
          "coloraxis": "coloraxis",
          "symbol": "square"
         },
         "mode": "markers",
         "name": "49",
         "scene": "scene",
         "showlegend": true,
         "type": "scatter3d",
         "x": [
          -2947.9523622975266
         ],
         "y": [
          -896.3852448788276
         ],
         "z": [
          -341.845699682913
         ]
        },
        {
         "customdata": [
          [
           50
          ]
         ],
         "hovertemplate": "Sensor ID=%{customdata[0]}<br>Principal Component 1=%{x}<br>Principal Component 2=%{y}<br>Principal Component 3=%{z}<br>Cluster=%{marker.color}<extra></extra>",
         "legendgroup": "50",
         "marker": {
          "color": [
           3
          ],
          "coloraxis": "coloraxis",
          "symbol": "x"
         },
         "mode": "markers",
         "name": "50",
         "scene": "scene",
         "showlegend": true,
         "type": "scatter3d",
         "x": [
          -3239.9111593176335
         ],
         "y": [
          1486.097809713727
         ],
         "z": [
          1896.3855480939574
         ]
        },
        {
         "customdata": [
          [
           51
          ]
         ],
         "hovertemplate": "Sensor ID=%{customdata[0]}<br>Principal Component 1=%{x}<br>Principal Component 2=%{y}<br>Principal Component 3=%{z}<br>Cluster=%{marker.color}<extra></extra>",
         "legendgroup": "51",
         "marker": {
          "color": [
           2
          ],
          "coloraxis": "coloraxis",
          "symbol": "cross"
         },
         "mode": "markers",
         "name": "51",
         "scene": "scene",
         "showlegend": true,
         "type": "scatter3d",
         "x": [
          -3221.0265065824033
         ],
         "y": [
          -2730.443922072477
         ],
         "z": [
          -3088.117712882467
         ]
        },
        {
         "customdata": [
          [
           52
          ]
         ],
         "hovertemplate": "Sensor ID=%{customdata[0]}<br>Principal Component 1=%{x}<br>Principal Component 2=%{y}<br>Principal Component 3=%{z}<br>Cluster=%{marker.color}<extra></extra>",
         "legendgroup": "52",
         "marker": {
          "color": [
           2
          ],
          "coloraxis": "coloraxis",
          "symbol": "circle"
         },
         "mode": "markers",
         "name": "52",
         "scene": "scene",
         "showlegend": true,
         "type": "scatter3d",
         "x": [
          -3233.670860797127
         ],
         "y": [
          -2242.499024040993
         ],
         "z": [
          -2088.050356867048
         ]
        },
        {
         "customdata": [
          [
           53
          ]
         ],
         "hovertemplate": "Sensor ID=%{customdata[0]}<br>Principal Component 1=%{x}<br>Principal Component 2=%{y}<br>Principal Component 3=%{z}<br>Cluster=%{marker.color}<extra></extra>",
         "legendgroup": "53",
         "marker": {
          "color": [
           3
          ],
          "coloraxis": "coloraxis",
          "symbol": "diamond"
         },
         "mode": "markers",
         "name": "53",
         "scene": "scene",
         "showlegend": true,
         "type": "scatter3d",
         "x": [
          -3137.8572992456784
         ],
         "y": [
          -1882.1556708141816
         ],
         "z": [
          1703.4962213326053
         ]
        },
        {
         "customdata": [
          [
           54
          ]
         ],
         "hovertemplate": "Sensor ID=%{customdata[0]}<br>Principal Component 1=%{x}<br>Principal Component 2=%{y}<br>Principal Component 3=%{z}<br>Cluster=%{marker.color}<extra></extra>",
         "legendgroup": "54",
         "marker": {
          "color": [
           0
          ],
          "coloraxis": "coloraxis",
          "symbol": "square"
         },
         "mode": "markers",
         "name": "54",
         "scene": "scene",
         "showlegend": true,
         "type": "scatter3d",
         "x": [
          -3178.59546837849
         ],
         "y": [
          2143.0923487366736
         ],
         "z": [
          -2856.9702792739267
         ]
        },
        {
         "customdata": [
          [
           55
          ]
         ],
         "hovertemplate": "Sensor ID=%{customdata[0]}<br>Principal Component 1=%{x}<br>Principal Component 2=%{y}<br>Principal Component 3=%{z}<br>Cluster=%{marker.color}<extra></extra>",
         "legendgroup": "55",
         "marker": {
          "color": [
           0
          ],
          "coloraxis": "coloraxis",
          "symbol": "x"
         },
         "mode": "markers",
         "name": "55",
         "scene": "scene",
         "showlegend": true,
         "type": "scatter3d",
         "x": [
          -2475.7441580836116
         ],
         "y": [
          2868.3269765981668
         ],
         "z": [
          -102.54557162066939
         ]
        },
        {
         "customdata": [
          [
           56
          ]
         ],
         "hovertemplate": "Sensor ID=%{customdata[0]}<br>Principal Component 1=%{x}<br>Principal Component 2=%{y}<br>Principal Component 3=%{z}<br>Cluster=%{marker.color}<extra></extra>",
         "legendgroup": "56",
         "marker": {
          "color": [
           2
          ],
          "coloraxis": "coloraxis",
          "symbol": "cross"
         },
         "mode": "markers",
         "name": "56",
         "scene": "scene",
         "showlegend": true,
         "type": "scatter3d",
         "x": [
          -2983.169163108799
         ],
         "y": [
          -1543.041857872158
         ],
         "z": [
          -2023.5583949884688
         ]
        },
        {
         "customdata": [
          [
           57
          ]
         ],
         "hovertemplate": "Sensor ID=%{customdata[0]}<br>Principal Component 1=%{x}<br>Principal Component 2=%{y}<br>Principal Component 3=%{z}<br>Cluster=%{marker.color}<extra></extra>",
         "legendgroup": "57",
         "marker": {
          "color": [
           1
          ],
          "coloraxis": "coloraxis",
          "symbol": "circle"
         },
         "mode": "markers",
         "name": "57",
         "scene": "scene",
         "showlegend": true,
         "type": "scatter3d",
         "x": [
          62512.01686058885
         ],
         "y": [
          -1599.4530361778325
         ],
         "z": [
          617.1410351191025
         ]
        },
        {
         "customdata": [
          [
           58
          ]
         ],
         "hovertemplate": "Sensor ID=%{customdata[0]}<br>Principal Component 1=%{x}<br>Principal Component 2=%{y}<br>Principal Component 3=%{z}<br>Cluster=%{marker.color}<extra></extra>",
         "legendgroup": "58",
         "marker": {
          "color": [
           3
          ],
          "coloraxis": "coloraxis",
          "symbol": "diamond"
         },
         "mode": "markers",
         "name": "58",
         "scene": "scene",
         "showlegend": true,
         "type": "scatter3d",
         "x": [
          -3304.0731381348146
         ],
         "y": [
          1998.0857011425906
         ],
         "z": [
          5104.715717702782
         ]
        },
        {
         "customdata": [
          [
           59
          ]
         ],
         "hovertemplate": "Sensor ID=%{customdata[0]}<br>Principal Component 1=%{x}<br>Principal Component 2=%{y}<br>Principal Component 3=%{z}<br>Cluster=%{marker.color}<extra></extra>",
         "legendgroup": "59",
         "marker": {
          "color": [
           2
          ],
          "coloraxis": "coloraxis",
          "symbol": "square"
         },
         "mode": "markers",
         "name": "59",
         "scene": "scene",
         "showlegend": true,
         "type": "scatter3d",
         "x": [
          -2329.863053836092
         ],
         "y": [
          -3885.656173136472
         ],
         "z": [
          -2103.6852564689484
         ]
        },
        {
         "customdata": [
          [
           60
          ]
         ],
         "hovertemplate": "Sensor ID=%{customdata[0]}<br>Principal Component 1=%{x}<br>Principal Component 2=%{y}<br>Principal Component 3=%{z}<br>Cluster=%{marker.color}<extra></extra>",
         "legendgroup": "60",
         "marker": {
          "color": [
           0
          ],
          "coloraxis": "coloraxis",
          "symbol": "x"
         },
         "mode": "markers",
         "name": "60",
         "scene": "scene",
         "showlegend": true,
         "type": "scatter3d",
         "x": [
          -3180.2437974580953
         ],
         "y": [
          3698.6969053938615
         ],
         "z": [
          416.25172171036536
         ]
        },
        {
         "customdata": [
          [
           61
          ]
         ],
         "hovertemplate": "Sensor ID=%{customdata[0]}<br>Principal Component 1=%{x}<br>Principal Component 2=%{y}<br>Principal Component 3=%{z}<br>Cluster=%{marker.color}<extra></extra>",
         "legendgroup": "61",
         "marker": {
          "color": [
           3
          ],
          "coloraxis": "coloraxis",
          "symbol": "cross"
         },
         "mode": "markers",
         "name": "61",
         "scene": "scene",
         "showlegend": true,
         "type": "scatter3d",
         "x": [
          -3273.809024070681
         ],
         "y": [
          -2173.3353318633785
         ],
         "z": [
          3112.8566310795363
         ]
        },
        {
         "customdata": [
          [
           62
          ]
         ],
         "hovertemplate": "Sensor ID=%{customdata[0]}<br>Principal Component 1=%{x}<br>Principal Component 2=%{y}<br>Principal Component 3=%{z}<br>Cluster=%{marker.color}<extra></extra>",
         "legendgroup": "62",
         "marker": {
          "color": [
           2
          ],
          "coloraxis": "coloraxis",
          "symbol": "circle"
         },
         "mode": "markers",
         "name": "62",
         "scene": "scene",
         "showlegend": true,
         "type": "scatter3d",
         "x": [
          -3291.688754410515
         ],
         "y": [
          -1040.4327661547313
         ],
         "z": [
          -266.03040778554777
         ]
        },
        {
         "customdata": [
          [
           63
          ]
         ],
         "hovertemplate": "Sensor ID=%{customdata[0]}<br>Principal Component 1=%{x}<br>Principal Component 2=%{y}<br>Principal Component 3=%{z}<br>Cluster=%{marker.color}<extra></extra>",
         "legendgroup": "63",
         "marker": {
          "color": [
           0
          ],
          "coloraxis": "coloraxis",
          "symbol": "diamond"
         },
         "mode": "markers",
         "name": "63",
         "scene": "scene",
         "showlegend": true,
         "type": "scatter3d",
         "x": [
          -3338.8406349723377
         ],
         "y": [
          2915.8027731208517
         ],
         "z": [
          -969.2953161811265
         ]
        },
        {
         "customdata": [
          [
           64
          ]
         ],
         "hovertemplate": "Sensor ID=%{customdata[0]}<br>Principal Component 1=%{x}<br>Principal Component 2=%{y}<br>Principal Component 3=%{z}<br>Cluster=%{marker.color}<extra></extra>",
         "legendgroup": "64",
         "marker": {
          "color": [
           1
          ],
          "coloraxis": "coloraxis",
          "symbol": "square"
         },
         "mode": "markers",
         "name": "64",
         "scene": "scene",
         "showlegend": true,
         "type": "scatter3d",
         "x": [
          62714.585041246115
         ],
         "y": [
          1584.2781018804899
         ],
         "z": [
          -505.9853093027745
         ]
        },
        {
         "customdata": [
          [
           65
          ]
         ],
         "hovertemplate": "Sensor ID=%{customdata[0]}<br>Principal Component 1=%{x}<br>Principal Component 2=%{y}<br>Principal Component 3=%{z}<br>Cluster=%{marker.color}<extra></extra>",
         "legendgroup": "65",
         "marker": {
          "color": [
           0
          ],
          "coloraxis": "coloraxis",
          "symbol": "x"
         },
         "mode": "markers",
         "name": "65",
         "scene": "scene",
         "showlegend": true,
         "type": "scatter3d",
         "x": [
          -3183.6328923638357
         ],
         "y": [
          4047.729804176974
         ],
         "z": [
          -533.2058616263007
         ]
        },
        {
         "customdata": [
          [
           66
          ]
         ],
         "hovertemplate": "Sensor ID=%{customdata[0]}<br>Principal Component 1=%{x}<br>Principal Component 2=%{y}<br>Principal Component 3=%{z}<br>Cluster=%{marker.color}<extra></extra>",
         "legendgroup": "66",
         "marker": {
          "color": [
           0
          ],
          "coloraxis": "coloraxis",
          "symbol": "cross"
         },
         "mode": "markers",
         "name": "66",
         "scene": "scene",
         "showlegend": true,
         "type": "scatter3d",
         "x": [
          -2468.554919532043
         ],
         "y": [
          1870.3493449602272
         ],
         "z": [
          -2159.480585125447
         ]
        },
        {
         "customdata": [
          [
           67
          ]
         ],
         "hovertemplate": "Sensor ID=%{customdata[0]}<br>Principal Component 1=%{x}<br>Principal Component 2=%{y}<br>Principal Component 3=%{z}<br>Cluster=%{marker.color}<extra></extra>",
         "legendgroup": "67",
         "marker": {
          "color": [
           2
          ],
          "coloraxis": "coloraxis",
          "symbol": "circle"
         },
         "mode": "markers",
         "name": "67",
         "scene": "scene",
         "showlegend": true,
         "type": "scatter3d",
         "x": [
          -2292.94247344014
         ],
         "y": [
          -1598.9510760849712
         ],
         "z": [
          649.8559534114391
         ]
        },
        {
         "customdata": [
          [
           68
          ]
         ],
         "hovertemplate": "Sensor ID=%{customdata[0]}<br>Principal Component 1=%{x}<br>Principal Component 2=%{y}<br>Principal Component 3=%{z}<br>Cluster=%{marker.color}<extra></extra>",
         "legendgroup": "68",
         "marker": {
          "color": [
           3
          ],
          "coloraxis": "coloraxis",
          "symbol": "diamond"
         },
         "mode": "markers",
         "name": "68",
         "scene": "scene",
         "showlegend": true,
         "type": "scatter3d",
         "x": [
          -3238.9725261477934
         ],
         "y": [
          -1932.8391323631813
         ],
         "z": [
          6616.900834824557
         ]
        },
        {
         "customdata": [
          [
           69
          ]
         ],
         "hovertemplate": "Sensor ID=%{customdata[0]}<br>Principal Component 1=%{x}<br>Principal Component 2=%{y}<br>Principal Component 3=%{z}<br>Cluster=%{marker.color}<extra></extra>",
         "legendgroup": "69",
         "marker": {
          "color": [
           3
          ],
          "coloraxis": "coloraxis",
          "symbol": "square"
         },
         "mode": "markers",
         "name": "69",
         "scene": "scene",
         "showlegend": true,
         "type": "scatter3d",
         "x": [
          -3207.2957628194204
         ],
         "y": [
          256.59839856640826
         ],
         "z": [
          805.5453188573146
         ]
        },
        {
         "customdata": [
          [
           70
          ]
         ],
         "hovertemplate": "Sensor ID=%{customdata[0]}<br>Principal Component 1=%{x}<br>Principal Component 2=%{y}<br>Principal Component 3=%{z}<br>Cluster=%{marker.color}<extra></extra>",
         "legendgroup": "70",
         "marker": {
          "color": [
           2
          ],
          "coloraxis": "coloraxis",
          "symbol": "x"
         },
         "mode": "markers",
         "name": "70",
         "scene": "scene",
         "showlegend": true,
         "type": "scatter3d",
         "x": [
          -3082.740918527717
         ],
         "y": [
          113.66103061967698
         ],
         "z": [
          -4954.088947992367
         ]
        },
        {
         "customdata": [
          [
           71
          ]
         ],
         "hovertemplate": "Sensor ID=%{customdata[0]}<br>Principal Component 1=%{x}<br>Principal Component 2=%{y}<br>Principal Component 3=%{z}<br>Cluster=%{marker.color}<extra></extra>",
         "legendgroup": "71",
         "marker": {
          "color": [
           2
          ],
          "coloraxis": "coloraxis",
          "symbol": "cross"
         },
         "mode": "markers",
         "name": "71",
         "scene": "scene",
         "showlegend": true,
         "type": "scatter3d",
         "x": [
          -2969.622307083558
         ],
         "y": [
          -1103.9225690597273
         ],
         "z": [
          -3408.141719294046
         ]
        },
        {
         "customdata": [
          [
           72
          ]
         ],
         "hovertemplate": "Sensor ID=%{customdata[0]}<br>Principal Component 1=%{x}<br>Principal Component 2=%{y}<br>Principal Component 3=%{z}<br>Cluster=%{marker.color}<extra></extra>",
         "legendgroup": "72",
         "marker": {
          "color": [
           2
          ],
          "coloraxis": "coloraxis",
          "symbol": "circle"
         },
         "mode": "markers",
         "name": "72",
         "scene": "scene",
         "showlegend": true,
         "type": "scatter3d",
         "x": [
          -3271.2924306901004
         ],
         "y": [
          -1919.80255885064
         ],
         "z": [
          399.25014930877177
         ]
        },
        {
         "customdata": [
          [
           73
          ]
         ],
         "hovertemplate": "Sensor ID=%{customdata[0]}<br>Principal Component 1=%{x}<br>Principal Component 2=%{y}<br>Principal Component 3=%{z}<br>Cluster=%{marker.color}<extra></extra>",
         "legendgroup": "73",
         "marker": {
          "color": [
           2
          ],
          "coloraxis": "coloraxis",
          "symbol": "diamond"
         },
         "mode": "markers",
         "name": "73",
         "scene": "scene",
         "showlegend": true,
         "type": "scatter3d",
         "x": [
          -3128.505221114234
         ],
         "y": [
          -3382.394966087052
         ],
         "z": [
          -2032.9573246382356
         ]
        },
        {
         "customdata": [
          [
           74
          ]
         ],
         "hovertemplate": "Sensor ID=%{customdata[0]}<br>Principal Component 1=%{x}<br>Principal Component 2=%{y}<br>Principal Component 3=%{z}<br>Cluster=%{marker.color}<extra></extra>",
         "legendgroup": "74",
         "marker": {
          "color": [
           0
          ],
          "coloraxis": "coloraxis",
          "symbol": "square"
         },
         "mode": "markers",
         "name": "74",
         "scene": "scene",
         "showlegend": true,
         "type": "scatter3d",
         "x": [
          -2357.4139635918605
         ],
         "y": [
          1872.108669268829
         ],
         "z": [
          -1113.3494925520931
         ]
        },
        {
         "customdata": [
          [
           75
          ]
         ],
         "hovertemplate": "Sensor ID=%{customdata[0]}<br>Principal Component 1=%{x}<br>Principal Component 2=%{y}<br>Principal Component 3=%{z}<br>Cluster=%{marker.color}<extra></extra>",
         "legendgroup": "75",
         "marker": {
          "color": [
           2
          ],
          "coloraxis": "coloraxis",
          "symbol": "x"
         },
         "mode": "markers",
         "name": "75",
         "scene": "scene",
         "showlegend": true,
         "type": "scatter3d",
         "x": [
          -2994.802660647198
         ],
         "y": [
          -3523.5522002897255
         ],
         "z": [
          788.917735932808
         ]
        }
       ],
       "layout": {
        "coloraxis": {
         "colorbar": {
          "title": {
           "text": "Cluster"
          }
         },
         "colorscale": [
          [
           0,
           "#0d0887"
          ],
          [
           0.1111111111111111,
           "#46039f"
          ],
          [
           0.2222222222222222,
           "#7201a8"
          ],
          [
           0.3333333333333333,
           "#9c179e"
          ],
          [
           0.4444444444444444,
           "#bd3786"
          ],
          [
           0.5555555555555556,
           "#d8576b"
          ],
          [
           0.6666666666666666,
           "#ed7953"
          ],
          [
           0.7777777777777778,
           "#fb9f3a"
          ],
          [
           0.8888888888888888,
           "#fdca26"
          ],
          [
           1,
           "#f0f921"
          ]
         ]
        },
        "legend": {
         "title": {
          "text": "Sensor ID"
         },
         "tracegroupgap": 0
        },
        "scene": {
         "domain": {
          "x": [
           0,
           1
          ],
          "y": [
           0,
           1
          ]
         },
         "xaxis": {
          "title": {
           "text": "Principal Component 1"
          }
         },
         "yaxis": {
          "title": {
           "text": "Principal Component 2"
          }
         },
         "zaxis": {
          "title": {
           "text": "Principal Component 3"
          }
         }
        },
        "template": {
         "data": {
          "bar": [
           {
            "error_x": {
             "color": "#2a3f5f"
            },
            "error_y": {
             "color": "#2a3f5f"
            },
            "marker": {
             "line": {
              "color": "#E5ECF6",
              "width": 0.5
             },
             "pattern": {
              "fillmode": "overlay",
              "size": 10,
              "solidity": 0.2
             }
            },
            "type": "bar"
           }
          ],
          "barpolar": [
           {
            "marker": {
             "line": {
              "color": "#E5ECF6",
              "width": 0.5
             },
             "pattern": {
              "fillmode": "overlay",
              "size": 10,
              "solidity": 0.2
             }
            },
            "type": "barpolar"
           }
          ],
          "carpet": [
           {
            "aaxis": {
             "endlinecolor": "#2a3f5f",
             "gridcolor": "white",
             "linecolor": "white",
             "minorgridcolor": "white",
             "startlinecolor": "#2a3f5f"
            },
            "baxis": {
             "endlinecolor": "#2a3f5f",
             "gridcolor": "white",
             "linecolor": "white",
             "minorgridcolor": "white",
             "startlinecolor": "#2a3f5f"
            },
            "type": "carpet"
           }
          ],
          "choropleth": [
           {
            "colorbar": {
             "outlinewidth": 0,
             "ticks": ""
            },
            "type": "choropleth"
           }
          ],
          "contour": [
           {
            "colorbar": {
             "outlinewidth": 0,
             "ticks": ""
            },
            "colorscale": [
             [
              0,
              "#0d0887"
             ],
             [
              0.1111111111111111,
              "#46039f"
             ],
             [
              0.2222222222222222,
              "#7201a8"
             ],
             [
              0.3333333333333333,
              "#9c179e"
             ],
             [
              0.4444444444444444,
              "#bd3786"
             ],
             [
              0.5555555555555556,
              "#d8576b"
             ],
             [
              0.6666666666666666,
              "#ed7953"
             ],
             [
              0.7777777777777778,
              "#fb9f3a"
             ],
             [
              0.8888888888888888,
              "#fdca26"
             ],
             [
              1,
              "#f0f921"
             ]
            ],
            "type": "contour"
           }
          ],
          "contourcarpet": [
           {
            "colorbar": {
             "outlinewidth": 0,
             "ticks": ""
            },
            "type": "contourcarpet"
           }
          ],
          "heatmap": [
           {
            "colorbar": {
             "outlinewidth": 0,
             "ticks": ""
            },
            "colorscale": [
             [
              0,
              "#0d0887"
             ],
             [
              0.1111111111111111,
              "#46039f"
             ],
             [
              0.2222222222222222,
              "#7201a8"
             ],
             [
              0.3333333333333333,
              "#9c179e"
             ],
             [
              0.4444444444444444,
              "#bd3786"
             ],
             [
              0.5555555555555556,
              "#d8576b"
             ],
             [
              0.6666666666666666,
              "#ed7953"
             ],
             [
              0.7777777777777778,
              "#fb9f3a"
             ],
             [
              0.8888888888888888,
              "#fdca26"
             ],
             [
              1,
              "#f0f921"
             ]
            ],
            "type": "heatmap"
           }
          ],
          "heatmapgl": [
           {
            "colorbar": {
             "outlinewidth": 0,
             "ticks": ""
            },
            "colorscale": [
             [
              0,
              "#0d0887"
             ],
             [
              0.1111111111111111,
              "#46039f"
             ],
             [
              0.2222222222222222,
              "#7201a8"
             ],
             [
              0.3333333333333333,
              "#9c179e"
             ],
             [
              0.4444444444444444,
              "#bd3786"
             ],
             [
              0.5555555555555556,
              "#d8576b"
             ],
             [
              0.6666666666666666,
              "#ed7953"
             ],
             [
              0.7777777777777778,
              "#fb9f3a"
             ],
             [
              0.8888888888888888,
              "#fdca26"
             ],
             [
              1,
              "#f0f921"
             ]
            ],
            "type": "heatmapgl"
           }
          ],
          "histogram": [
           {
            "marker": {
             "pattern": {
              "fillmode": "overlay",
              "size": 10,
              "solidity": 0.2
             }
            },
            "type": "histogram"
           }
          ],
          "histogram2d": [
           {
            "colorbar": {
             "outlinewidth": 0,
             "ticks": ""
            },
            "colorscale": [
             [
              0,
              "#0d0887"
             ],
             [
              0.1111111111111111,
              "#46039f"
             ],
             [
              0.2222222222222222,
              "#7201a8"
             ],
             [
              0.3333333333333333,
              "#9c179e"
             ],
             [
              0.4444444444444444,
              "#bd3786"
             ],
             [
              0.5555555555555556,
              "#d8576b"
             ],
             [
              0.6666666666666666,
              "#ed7953"
             ],
             [
              0.7777777777777778,
              "#fb9f3a"
             ],
             [
              0.8888888888888888,
              "#fdca26"
             ],
             [
              1,
              "#f0f921"
             ]
            ],
            "type": "histogram2d"
           }
          ],
          "histogram2dcontour": [
           {
            "colorbar": {
             "outlinewidth": 0,
             "ticks": ""
            },
            "colorscale": [
             [
              0,
              "#0d0887"
             ],
             [
              0.1111111111111111,
              "#46039f"
             ],
             [
              0.2222222222222222,
              "#7201a8"
             ],
             [
              0.3333333333333333,
              "#9c179e"
             ],
             [
              0.4444444444444444,
              "#bd3786"
             ],
             [
              0.5555555555555556,
              "#d8576b"
             ],
             [
              0.6666666666666666,
              "#ed7953"
             ],
             [
              0.7777777777777778,
              "#fb9f3a"
             ],
             [
              0.8888888888888888,
              "#fdca26"
             ],
             [
              1,
              "#f0f921"
             ]
            ],
            "type": "histogram2dcontour"
           }
          ],
          "mesh3d": [
           {
            "colorbar": {
             "outlinewidth": 0,
             "ticks": ""
            },
            "type": "mesh3d"
           }
          ],
          "parcoords": [
           {
            "line": {
             "colorbar": {
              "outlinewidth": 0,
              "ticks": ""
             }
            },
            "type": "parcoords"
           }
          ],
          "pie": [
           {
            "automargin": true,
            "type": "pie"
           }
          ],
          "scatter": [
           {
            "fillpattern": {
             "fillmode": "overlay",
             "size": 10,
             "solidity": 0.2
            },
            "type": "scatter"
           }
          ],
          "scatter3d": [
           {
            "line": {
             "colorbar": {
              "outlinewidth": 0,
              "ticks": ""
             }
            },
            "marker": {
             "colorbar": {
              "outlinewidth": 0,
              "ticks": ""
             }
            },
            "type": "scatter3d"
           }
          ],
          "scattercarpet": [
           {
            "marker": {
             "colorbar": {
              "outlinewidth": 0,
              "ticks": ""
             }
            },
            "type": "scattercarpet"
           }
          ],
          "scattergeo": [
           {
            "marker": {
             "colorbar": {
              "outlinewidth": 0,
              "ticks": ""
             }
            },
            "type": "scattergeo"
           }
          ],
          "scattergl": [
           {
            "marker": {
             "colorbar": {
              "outlinewidth": 0,
              "ticks": ""
             }
            },
            "type": "scattergl"
           }
          ],
          "scattermapbox": [
           {
            "marker": {
             "colorbar": {
              "outlinewidth": 0,
              "ticks": ""
             }
            },
            "type": "scattermapbox"
           }
          ],
          "scatterpolar": [
           {
            "marker": {
             "colorbar": {
              "outlinewidth": 0,
              "ticks": ""
             }
            },
            "type": "scatterpolar"
           }
          ],
          "scatterpolargl": [
           {
            "marker": {
             "colorbar": {
              "outlinewidth": 0,
              "ticks": ""
             }
            },
            "type": "scatterpolargl"
           }
          ],
          "scatterternary": [
           {
            "marker": {
             "colorbar": {
              "outlinewidth": 0,
              "ticks": ""
             }
            },
            "type": "scatterternary"
           }
          ],
          "surface": [
           {
            "colorbar": {
             "outlinewidth": 0,
             "ticks": ""
            },
            "colorscale": [
             [
              0,
              "#0d0887"
             ],
             [
              0.1111111111111111,
              "#46039f"
             ],
             [
              0.2222222222222222,
              "#7201a8"
             ],
             [
              0.3333333333333333,
              "#9c179e"
             ],
             [
              0.4444444444444444,
              "#bd3786"
             ],
             [
              0.5555555555555556,
              "#d8576b"
             ],
             [
              0.6666666666666666,
              "#ed7953"
             ],
             [
              0.7777777777777778,
              "#fb9f3a"
             ],
             [
              0.8888888888888888,
              "#fdca26"
             ],
             [
              1,
              "#f0f921"
             ]
            ],
            "type": "surface"
           }
          ],
          "table": [
           {
            "cells": {
             "fill": {
              "color": "#EBF0F8"
             },
             "line": {
              "color": "white"
             }
            },
            "header": {
             "fill": {
              "color": "#C8D4E3"
             },
             "line": {
              "color": "white"
             }
            },
            "type": "table"
           }
          ]
         },
         "layout": {
          "annotationdefaults": {
           "arrowcolor": "#2a3f5f",
           "arrowhead": 0,
           "arrowwidth": 1
          },
          "autotypenumbers": "strict",
          "coloraxis": {
           "colorbar": {
            "outlinewidth": 0,
            "ticks": ""
           }
          },
          "colorscale": {
           "diverging": [
            [
             0,
             "#8e0152"
            ],
            [
             0.1,
             "#c51b7d"
            ],
            [
             0.2,
             "#de77ae"
            ],
            [
             0.3,
             "#f1b6da"
            ],
            [
             0.4,
             "#fde0ef"
            ],
            [
             0.5,
             "#f7f7f7"
            ],
            [
             0.6,
             "#e6f5d0"
            ],
            [
             0.7,
             "#b8e186"
            ],
            [
             0.8,
             "#7fbc41"
            ],
            [
             0.9,
             "#4d9221"
            ],
            [
             1,
             "#276419"
            ]
           ],
           "sequential": [
            [
             0,
             "#0d0887"
            ],
            [
             0.1111111111111111,
             "#46039f"
            ],
            [
             0.2222222222222222,
             "#7201a8"
            ],
            [
             0.3333333333333333,
             "#9c179e"
            ],
            [
             0.4444444444444444,
             "#bd3786"
            ],
            [
             0.5555555555555556,
             "#d8576b"
            ],
            [
             0.6666666666666666,
             "#ed7953"
            ],
            [
             0.7777777777777778,
             "#fb9f3a"
            ],
            [
             0.8888888888888888,
             "#fdca26"
            ],
            [
             1,
             "#f0f921"
            ]
           ],
           "sequentialminus": [
            [
             0,
             "#0d0887"
            ],
            [
             0.1111111111111111,
             "#46039f"
            ],
            [
             0.2222222222222222,
             "#7201a8"
            ],
            [
             0.3333333333333333,
             "#9c179e"
            ],
            [
             0.4444444444444444,
             "#bd3786"
            ],
            [
             0.5555555555555556,
             "#d8576b"
            ],
            [
             0.6666666666666666,
             "#ed7953"
            ],
            [
             0.7777777777777778,
             "#fb9f3a"
            ],
            [
             0.8888888888888888,
             "#fdca26"
            ],
            [
             1,
             "#f0f921"
            ]
           ]
          },
          "colorway": [
           "#636efa",
           "#EF553B",
           "#00cc96",
           "#ab63fa",
           "#FFA15A",
           "#19d3f3",
           "#FF6692",
           "#B6E880",
           "#FF97FF",
           "#FECB52"
          ],
          "font": {
           "color": "#2a3f5f"
          },
          "geo": {
           "bgcolor": "white",
           "lakecolor": "white",
           "landcolor": "#E5ECF6",
           "showlakes": true,
           "showland": true,
           "subunitcolor": "white"
          },
          "hoverlabel": {
           "align": "left"
          },
          "hovermode": "closest",
          "mapbox": {
           "style": "light"
          },
          "paper_bgcolor": "white",
          "plot_bgcolor": "#E5ECF6",
          "polar": {
           "angularaxis": {
            "gridcolor": "white",
            "linecolor": "white",
            "ticks": ""
           },
           "bgcolor": "#E5ECF6",
           "radialaxis": {
            "gridcolor": "white",
            "linecolor": "white",
            "ticks": ""
           }
          },
          "scene": {
           "xaxis": {
            "backgroundcolor": "#E5ECF6",
            "gridcolor": "white",
            "gridwidth": 2,
            "linecolor": "white",
            "showbackground": true,
            "ticks": "",
            "zerolinecolor": "white"
           },
           "yaxis": {
            "backgroundcolor": "#E5ECF6",
            "gridcolor": "white",
            "gridwidth": 2,
            "linecolor": "white",
            "showbackground": true,
            "ticks": "",
            "zerolinecolor": "white"
           },
           "zaxis": {
            "backgroundcolor": "#E5ECF6",
            "gridcolor": "white",
            "gridwidth": 2,
            "linecolor": "white",
            "showbackground": true,
            "ticks": "",
            "zerolinecolor": "white"
           }
          },
          "shapedefaults": {
           "line": {
            "color": "#2a3f5f"
           }
          },
          "ternary": {
           "aaxis": {
            "gridcolor": "white",
            "linecolor": "white",
            "ticks": ""
           },
           "baxis": {
            "gridcolor": "white",
            "linecolor": "white",
            "ticks": ""
           },
           "bgcolor": "#E5ECF6",
           "caxis": {
            "gridcolor": "white",
            "linecolor": "white",
            "ticks": ""
           }
          },
          "title": {
           "x": 0.05
          },
          "xaxis": {
           "automargin": true,
           "gridcolor": "white",
           "linecolor": "white",
           "ticks": "",
           "title": {
            "standoff": 15
           },
           "zerolinecolor": "white",
           "zerolinewidth": 2
          },
          "yaxis": {
           "automargin": true,
           "gridcolor": "white",
           "linecolor": "white",
           "ticks": "",
           "title": {
            "standoff": 15
           },
           "zerolinecolor": "white",
           "zerolinewidth": 2
          }
         }
        },
        "title": {
         "text": "K-Means Clustering of Sensors Using PCA"
        }
       }
      }
     },
     "metadata": {},
     "output_type": "display_data"
    }
   ],
   "source": [
    "from sklearn.cluster import KMeans\n",
    "\n",
    "# Apply PCA\n",
    "pca = PCA(n_components=3)\n",
    "principal_components = pca.fit_transform(reduced_data_corr.drop(columns=['Sensor ID']))\n",
    "principal_df = pd.DataFrame(data=principal_components, columns=['PC1', 'PC2', 'PC3'])\n",
    "principal_df['Sensor ID'] = reduced_data_corr['Sensor ID']\n",
    "\n",
    "# Apply K-Means clustering\n",
    "kmeans = KMeans(n_clusters=4, random_state=42)\n",
    "principal_df['Cluster'] = kmeans.fit_predict(principal_df[['PC1', 'PC2', 'PC3']])\n",
    "\n",
    "# Create an interactive 3D scatter plot\n",
    "fig = px.scatter_3d(\n",
    "    principal_df,\n",
    "    x='PC1',\n",
    "    y='PC2',\n",
    "    z='PC3',\n",
    "    color='Cluster',\n",
    "    symbol='Sensor ID',\n",
    "    title='K-Means Clustering of Sensors Using PCA',\n",
    "    labels={'PC1': 'Principal Component 1', 'PC2': 'Principal Component 2', 'PC3': 'Principal Component 3'},\n",
    "    hover_data=['Sensor ID']\n",
    ")\n",
    "\n",
    "fig.show()"
   ]
  },
  {
   "cell_type": "code",
   "execution_count": null,
   "metadata": {},
   "outputs": [],
   "source": []
  }
 ],
 "metadata": {
  "kernelspec": {
   "display_name": "datascience",
   "language": "python",
   "name": "python3"
  },
  "language_info": {
   "codemirror_mode": {
    "name": "ipython",
    "version": 3
   },
   "file_extension": ".py",
   "mimetype": "text/x-python",
   "name": "python",
   "nbconvert_exporter": "python",
   "pygments_lexer": "ipython3",
   "version": "3.10.13"
  }
 },
 "nbformat": 4,
 "nbformat_minor": 2
}
