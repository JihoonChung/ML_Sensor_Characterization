{
 "cells": [
  {
   "cell_type": "markdown",
   "metadata": {},
   "source": [
    "# Ultrasonic Data Feature Engineering"
   ]
  },
  {
   "cell_type": "markdown",
   "metadata": {},
   "source": [
    "Export sensor data 1-6 and merge them and fill up NaNs"
   ]
  },
  {
   "cell_type": "code",
   "execution_count": 5,
   "metadata": {},
   "outputs": [],
   "source": [
    "import os\n",
    "import pandas as pd\n",
    "import matplotlib.pyplot as plt\n",
    "import seaborn as sns\n",
    "import plotly.express as px\n",
    "\n"
   ]
  },
  {
   "cell_type": "code",
   "execution_count": 6,
   "metadata": {},
   "outputs": [],
   "source": [
    "def get_all_files_in_directory(root_directory):\n",
    "    file_paths = []\n",
    "    for root, dirs, files in os.walk(root_directory):\n",
    "        for file in files:\n",
    "            file_paths.append(os.path.join(root, file))\n",
    "    return file_paths\n",
    "\n",
    "\n",
    "def merge_csv_files(file_paths):\n",
    "    \"\"\"\n",
    "    Merge multiple CSV files into a single DataFrame.\n",
    "\n",
    "    Parameters:\n",
    "    file_paths (list of str): List of file paths to the CSV files.\n",
    "\n",
    "    Returns:\n",
    "    DataFrame: Merged DataFrame containing data from all input CSV files.\n",
    "    \"\"\"\n",
    "    dataframes = []\n",
    "    for file in file_paths:\n",
    "        df = pd.read_csv(file)\n",
    "        dataframes.append(df)\n",
    "\n",
    "    # Concatenate all DataFrames\n",
    "    merged_df = pd.concat(dataframes, ignore_index=True)\n",
    "    \n",
    "    return merged_df"
   ]
  },
  {
   "cell_type": "markdown",
   "metadata": {},
   "source": [
    "## Import data"
   ]
  },
  {
   "cell_type": "markdown",
   "metadata": {},
   "source": [
    "Currently there are 20 sensor datas."
   ]
  },
  {
   "cell_type": "code",
   "execution_count": 12,
   "metadata": {},
   "outputs": [
    {
     "data": {
      "text/html": [
       "<div>\n",
       "<style scoped>\n",
       "    .dataframe tbody tr th:only-of-type {\n",
       "        vertical-align: middle;\n",
       "    }\n",
       "\n",
       "    .dataframe tbody tr th {\n",
       "        vertical-align: top;\n",
       "    }\n",
       "\n",
       "    .dataframe thead th {\n",
       "        text-align: right;\n",
       "    }\n",
       "</style>\n",
       "<table border=\"1\" class=\"dataframe\">\n",
       "  <thead>\n",
       "    <tr style=\"text-align: right;\">\n",
       "      <th></th>\n",
       "      <th>Trial</th>\n",
       "      <th>Ping Duration</th>\n",
       "      <th>Distance (cm)</th>\n",
       "      <th>Ping Time (us)</th>\n",
       "      <th>Delay (us)</th>\n",
       "      <th>Steps</th>\n",
       "      <th>Arduino ID</th>\n",
       "      <th>Sensor ID</th>\n",
       "      <th>Range (cm)</th>\n",
       "      <th>Sensor length (cm)</th>\n",
       "      <th>...</th>\n",
       "      <th>Angle on XY plane</th>\n",
       "      <th>side a (cm)</th>\n",
       "      <th>side b (cm)</th>\n",
       "      <th>side c (cm)</th>\n",
       "      <th>Angle on YZ plane</th>\n",
       "      <th>Sensor Configuration</th>\n",
       "      <th>Sensor Angle</th>\n",
       "      <th>Surface material</th>\n",
       "      <th>Surface Length (cm)</th>\n",
       "      <th>Surface Width (cm)</th>\n",
       "    </tr>\n",
       "  </thead>\n",
       "  <tbody>\n",
       "    <tr>\n",
       "      <th>0</th>\n",
       "      <td>0</td>\n",
       "      <td>1680</td>\n",
       "      <td>13.39</td>\n",
       "      <td>763</td>\n",
       "      <td>16800</td>\n",
       "      <td>12576.0</td>\n",
       "      <td>1</td>\n",
       "      <td>32</td>\n",
       "      <td>13</td>\n",
       "      <td>0.8</td>\n",
       "      <td>...</td>\n",
       "      <td>0</td>\n",
       "      <td>18.3</td>\n",
       "      <td>18.3</td>\n",
       "      <td>0</td>\n",
       "      <td>0</td>\n",
       "      <td>HTR</td>\n",
       "      <td>90</td>\n",
       "      <td>wood</td>\n",
       "      <td>31</td>\n",
       "      <td>30.5</td>\n",
       "    </tr>\n",
       "    <tr>\n",
       "      <th>1</th>\n",
       "      <td>1</td>\n",
       "      <td>1664</td>\n",
       "      <td>13.46</td>\n",
       "      <td>767</td>\n",
       "      <td>16800</td>\n",
       "      <td>12576.0</td>\n",
       "      <td>1</td>\n",
       "      <td>32</td>\n",
       "      <td>13</td>\n",
       "      <td>0.8</td>\n",
       "      <td>...</td>\n",
       "      <td>0</td>\n",
       "      <td>18.3</td>\n",
       "      <td>18.3</td>\n",
       "      <td>0</td>\n",
       "      <td>0</td>\n",
       "      <td>HTR</td>\n",
       "      <td>90</td>\n",
       "      <td>wood</td>\n",
       "      <td>31</td>\n",
       "      <td>30.5</td>\n",
       "    </tr>\n",
       "    <tr>\n",
       "      <th>2</th>\n",
       "      <td>2</td>\n",
       "      <td>1672</td>\n",
       "      <td>13.46</td>\n",
       "      <td>767</td>\n",
       "      <td>16800</td>\n",
       "      <td>12576.0</td>\n",
       "      <td>1</td>\n",
       "      <td>32</td>\n",
       "      <td>13</td>\n",
       "      <td>0.8</td>\n",
       "      <td>...</td>\n",
       "      <td>0</td>\n",
       "      <td>18.3</td>\n",
       "      <td>18.3</td>\n",
       "      <td>0</td>\n",
       "      <td>0</td>\n",
       "      <td>HTR</td>\n",
       "      <td>90</td>\n",
       "      <td>wood</td>\n",
       "      <td>31</td>\n",
       "      <td>30.5</td>\n",
       "    </tr>\n",
       "    <tr>\n",
       "      <th>3</th>\n",
       "      <td>3</td>\n",
       "      <td>1664</td>\n",
       "      <td>13.39</td>\n",
       "      <td>763</td>\n",
       "      <td>16800</td>\n",
       "      <td>12576.0</td>\n",
       "      <td>1</td>\n",
       "      <td>32</td>\n",
       "      <td>13</td>\n",
       "      <td>0.8</td>\n",
       "      <td>...</td>\n",
       "      <td>0</td>\n",
       "      <td>18.3</td>\n",
       "      <td>18.3</td>\n",
       "      <td>0</td>\n",
       "      <td>0</td>\n",
       "      <td>HTR</td>\n",
       "      <td>90</td>\n",
       "      <td>wood</td>\n",
       "      <td>31</td>\n",
       "      <td>30.5</td>\n",
       "    </tr>\n",
       "    <tr>\n",
       "      <th>4</th>\n",
       "      <td>4</td>\n",
       "      <td>1664</td>\n",
       "      <td>13.46</td>\n",
       "      <td>767</td>\n",
       "      <td>16800</td>\n",
       "      <td>12576.0</td>\n",
       "      <td>1</td>\n",
       "      <td>32</td>\n",
       "      <td>13</td>\n",
       "      <td>0.8</td>\n",
       "      <td>...</td>\n",
       "      <td>0</td>\n",
       "      <td>18.3</td>\n",
       "      <td>18.3</td>\n",
       "      <td>0</td>\n",
       "      <td>0</td>\n",
       "      <td>HTR</td>\n",
       "      <td>90</td>\n",
       "      <td>wood</td>\n",
       "      <td>31</td>\n",
       "      <td>30.5</td>\n",
       "    </tr>\n",
       "    <tr>\n",
       "      <th>...</th>\n",
       "      <td>...</td>\n",
       "      <td>...</td>\n",
       "      <td>...</td>\n",
       "      <td>...</td>\n",
       "      <td>...</td>\n",
       "      <td>...</td>\n",
       "      <td>...</td>\n",
       "      <td>...</td>\n",
       "      <td>...</td>\n",
       "      <td>...</td>\n",
       "      <td>...</td>\n",
       "      <td>...</td>\n",
       "      <td>...</td>\n",
       "      <td>...</td>\n",
       "      <td>...</td>\n",
       "      <td>...</td>\n",
       "      <td>...</td>\n",
       "      <td>...</td>\n",
       "      <td>...</td>\n",
       "      <td>...</td>\n",
       "      <td>...</td>\n",
       "    </tr>\n",
       "    <tr>\n",
       "      <th>143926</th>\n",
       "      <td>45</td>\n",
       "      <td>20300</td>\n",
       "      <td>0.00</td>\n",
       "      <td>0</td>\n",
       "      <td>3000</td>\n",
       "      <td>0.0</td>\n",
       "      <td>1</td>\n",
       "      <td>75</td>\n",
       "      <td>53</td>\n",
       "      <td>0.8</td>\n",
       "      <td>...</td>\n",
       "      <td>0</td>\n",
       "      <td>18.3</td>\n",
       "      <td>18.3</td>\n",
       "      <td>0</td>\n",
       "      <td>0</td>\n",
       "      <td>HTR</td>\n",
       "      <td>90</td>\n",
       "      <td>wood</td>\n",
       "      <td>31</td>\n",
       "      <td>30.5</td>\n",
       "    </tr>\n",
       "    <tr>\n",
       "      <th>143927</th>\n",
       "      <td>46</td>\n",
       "      <td>8240</td>\n",
       "      <td>52.33</td>\n",
       "      <td>2983</td>\n",
       "      <td>3000</td>\n",
       "      <td>0.0</td>\n",
       "      <td>1</td>\n",
       "      <td>75</td>\n",
       "      <td>53</td>\n",
       "      <td>0.8</td>\n",
       "      <td>...</td>\n",
       "      <td>0</td>\n",
       "      <td>18.3</td>\n",
       "      <td>18.3</td>\n",
       "      <td>0</td>\n",
       "      <td>0</td>\n",
       "      <td>HTR</td>\n",
       "      <td>90</td>\n",
       "      <td>wood</td>\n",
       "      <td>31</td>\n",
       "      <td>30.5</td>\n",
       "    </tr>\n",
       "    <tr>\n",
       "      <th>143928</th>\n",
       "      <td>47</td>\n",
       "      <td>20300</td>\n",
       "      <td>0.00</td>\n",
       "      <td>0</td>\n",
       "      <td>3000</td>\n",
       "      <td>0.0</td>\n",
       "      <td>1</td>\n",
       "      <td>75</td>\n",
       "      <td>53</td>\n",
       "      <td>0.8</td>\n",
       "      <td>...</td>\n",
       "      <td>0</td>\n",
       "      <td>18.3</td>\n",
       "      <td>18.3</td>\n",
       "      <td>0</td>\n",
       "      <td>0</td>\n",
       "      <td>HTR</td>\n",
       "      <td>90</td>\n",
       "      <td>wood</td>\n",
       "      <td>31</td>\n",
       "      <td>30.5</td>\n",
       "    </tr>\n",
       "    <tr>\n",
       "      <th>143929</th>\n",
       "      <td>48</td>\n",
       "      <td>8240</td>\n",
       "      <td>52.33</td>\n",
       "      <td>2983</td>\n",
       "      <td>3000</td>\n",
       "      <td>0.0</td>\n",
       "      <td>1</td>\n",
       "      <td>75</td>\n",
       "      <td>53</td>\n",
       "      <td>0.8</td>\n",
       "      <td>...</td>\n",
       "      <td>0</td>\n",
       "      <td>18.3</td>\n",
       "      <td>18.3</td>\n",
       "      <td>0</td>\n",
       "      <td>0</td>\n",
       "      <td>HTR</td>\n",
       "      <td>90</td>\n",
       "      <td>wood</td>\n",
       "      <td>31</td>\n",
       "      <td>30.5</td>\n",
       "    </tr>\n",
       "    <tr>\n",
       "      <th>143930</th>\n",
       "      <td>49</td>\n",
       "      <td>20300</td>\n",
       "      <td>0.00</td>\n",
       "      <td>0</td>\n",
       "      <td>3000</td>\n",
       "      <td>0.0</td>\n",
       "      <td>1</td>\n",
       "      <td>75</td>\n",
       "      <td>53</td>\n",
       "      <td>0.8</td>\n",
       "      <td>...</td>\n",
       "      <td>0</td>\n",
       "      <td>18.3</td>\n",
       "      <td>18.3</td>\n",
       "      <td>0</td>\n",
       "      <td>0</td>\n",
       "      <td>HTR</td>\n",
       "      <td>90</td>\n",
       "      <td>wood</td>\n",
       "      <td>31</td>\n",
       "      <td>30.5</td>\n",
       "    </tr>\n",
       "  </tbody>\n",
       "</table>\n",
       "<p>143931 rows × 21 columns</p>\n",
       "</div>"
      ],
      "text/plain": [
       "        Trial  Ping Duration  Distance (cm)  Ping Time (us)  Delay (us)  \\\n",
       "0           0           1680          13.39             763       16800   \n",
       "1           1           1664          13.46             767       16800   \n",
       "2           2           1672          13.46             767       16800   \n",
       "3           3           1664          13.39             763       16800   \n",
       "4           4           1664          13.46             767       16800   \n",
       "...       ...            ...            ...             ...         ...   \n",
       "143926     45          20300           0.00               0        3000   \n",
       "143927     46           8240          52.33            2983        3000   \n",
       "143928     47          20300           0.00               0        3000   \n",
       "143929     48           8240          52.33            2983        3000   \n",
       "143930     49          20300           0.00               0        3000   \n",
       "\n",
       "          Steps  Arduino ID  Sensor ID  Range (cm)  Sensor length (cm)  ...  \\\n",
       "0       12576.0           1         32          13                 0.8  ...   \n",
       "1       12576.0           1         32          13                 0.8  ...   \n",
       "2       12576.0           1         32          13                 0.8  ...   \n",
       "3       12576.0           1         32          13                 0.8  ...   \n",
       "4       12576.0           1         32          13                 0.8  ...   \n",
       "...         ...         ...        ...         ...                 ...  ...   \n",
       "143926      0.0           1         75          53                 0.8  ...   \n",
       "143927      0.0           1         75          53                 0.8  ...   \n",
       "143928      0.0           1         75          53                 0.8  ...   \n",
       "143929      0.0           1         75          53                 0.8  ...   \n",
       "143930      0.0           1         75          53                 0.8  ...   \n",
       "\n",
       "       Angle on XY plane  side a (cm)  side b (cm)  side c (cm)  \\\n",
       "0                      0         18.3         18.3            0   \n",
       "1                      0         18.3         18.3            0   \n",
       "2                      0         18.3         18.3            0   \n",
       "3                      0         18.3         18.3            0   \n",
       "4                      0         18.3         18.3            0   \n",
       "...                  ...          ...          ...          ...   \n",
       "143926                 0         18.3         18.3            0   \n",
       "143927                 0         18.3         18.3            0   \n",
       "143928                 0         18.3         18.3            0   \n",
       "143929                 0         18.3         18.3            0   \n",
       "143930                 0         18.3         18.3            0   \n",
       "\n",
       "        Angle on YZ plane  Sensor Configuration Sensor Angle  \\\n",
       "0                       0                   HTR           90   \n",
       "1                       0                   HTR           90   \n",
       "2                       0                   HTR           90   \n",
       "3                       0                   HTR           90   \n",
       "4                       0                   HTR           90   \n",
       "...                   ...                   ...          ...   \n",
       "143926                  0                   HTR           90   \n",
       "143927                  0                   HTR           90   \n",
       "143928                  0                   HTR           90   \n",
       "143929                  0                   HTR           90   \n",
       "143930                  0                   HTR           90   \n",
       "\n",
       "        Surface material Surface Length (cm)  Surface Width (cm)  \n",
       "0                   wood                  31                30.5  \n",
       "1                   wood                  31                30.5  \n",
       "2                   wood                  31                30.5  \n",
       "3                   wood                  31                30.5  \n",
       "4                   wood                  31                30.5  \n",
       "...                  ...                 ...                 ...  \n",
       "143926              wood                  31                30.5  \n",
       "143927              wood                  31                30.5  \n",
       "143928              wood                  31                30.5  \n",
       "143929              wood                  31                30.5  \n",
       "143930              wood                  31                30.5  \n",
       "\n",
       "[143931 rows x 21 columns]"
      ]
     },
     "execution_count": 12,
     "metadata": {},
     "output_type": "execute_result"
    }
   ],
   "source": [
    "folder_path = '../../ultra_sonic_sensor/fully_automate/data_v4.1.1'\n",
    "file_paths = get_all_files_in_directory(folder_path)\n",
    "df_data_v4_1_1 = merge_csv_files(file_paths)\n",
    "df_data_v4_1_1"
   ]
  },
  {
   "cell_type": "code",
   "execution_count": 16,
   "metadata": {},
   "outputs": [],
   "source": [
    "# Step 1: Identify Columns with NaNs\n",
    "nan_columns = df_data_v4_1_1.columns[df_data_v4_1_1.isnull().any()]\n",
    "\n",
    "# Step 2: Find Mode and Replace NaNs\n",
    "for col in nan_columns:\n",
    "    if df_data_v4_1_1[col].dtype == object:  # Check if the column is categorical\n",
    "        mode_value = df_data_v4_1_1[col].mode()[0]  # Find the mode value (most frequent value)\\\n",
    "        df_data_v4_1_1[col].fillna(mode_value, inplace=True)  # Replace NaNs with the mode value"
   ]
  },
  {
   "cell_type": "code",
   "execution_count": 17,
   "metadata": {},
   "outputs": [],
   "source": [
    "values_to_keep = [16800,10000,8000,6000,3000]\n",
    "df_data_v4_1_1 = df_data_v4_1_1[df_data_v4_1_1[\"Delay (us)\"].isin(values_to_keep)]"
   ]
  },
  {
   "cell_type": "markdown",
   "metadata": {},
   "source": [
    "## IQR based feature engineering: Range_delay"
   ]
  },
  {
   "cell_type": "markdown",
   "metadata": {},
   "source": [
    "Helper codes"
   ]
  },
  {
   "cell_type": "code",
   "execution_count": 18,
   "metadata": {},
   "outputs": [],
   "source": [
    "def identify_and_remove_outliers(df, column):\n",
    "    Q1 = df[column].quantile(0.25)\n",
    "    Q3 = df[column].quantile(0.75)\n",
    "    IQR = Q3 - Q1\n",
    "    lower_bound = Q1 - 1.5 * IQR\n",
    "    upper_bound = Q3 + 1.5 * IQR\n",
    "    df_no_outliers = df[(df[column] >= lower_bound) & (df[column] <= upper_bound)]\n",
    "    df_outliers_lower = df[(df[column] <= lower_bound)]\n",
    "    df_outliers_upper = df[(df[column] >= upper_bound)]\n",
    "    return df_no_outliers,df_outliers_lower,df_outliers_upper\n",
    "\n",
    "def split_quartiles(df):\n",
    "    # Group the data by 'Sensor ID', 'Delay (us)', and 'Range (cm)'\n",
    "    df_copy = df.copy()\n",
    "    grouped = df_copy.groupby(['Sensor ID', 'Delay (us)', 'Range (cm)'])\n",
    "\n",
    "    # Identify and remove outliers for each group\n",
    "    middle_quartile = []\n",
    "    lower_quartile = []\n",
    "    upper_quartile = []\n",
    "\n",
    "    for name, group in grouped:\n",
    "        cleaned_group = group.copy()\n",
    "        for column in ['Ping Time (us)']:\n",
    "            middle_quartile_group,lower_quartile_group,upper_quartile_group = identify_and_remove_outliers(cleaned_group, column)\n",
    "        middle_quartile.append(middle_quartile_group)\n",
    "        lower_quartile.append(lower_quartile_group)\n",
    "        upper_quartile.append(upper_quartile_group)\n",
    "    # Combine the cleaned groups into a single DataFrame\n",
    "    df_middle_quartile= pd.concat(middle_quartile)\n",
    "    df_lower_quartile = pd.concat(lower_quartile)\n",
    "    df_upper_quartile = pd.concat(upper_quartile)\n",
    "    \n",
    "    return df_middle_quartile, df_lower_quartile, df_upper_quartile\n",
    "\n",
    "\n",
    "def create_range_delay_feature(df_quartile,bound):\n",
    "    # Step 1: Group and calculate mean\n",
    "    df_grouped = df_quartile.groupby(['Sensor ID', 'Range (cm)', 'Delay (us)'])['Ping Time (us)'].mean().reset_index()\n",
    "\n",
    "    # Step 2: Create `range_delay` column\n",
    "    df_grouped['range_delay'] = df_grouped['Range (cm)'].astype(str) + '_' + df_grouped['Delay (us)'].astype(str)+'_'+bound\n",
    "\n",
    "    # Step 3: Pivot the table\n",
    "    df_pivot = df_grouped.pivot(index='Sensor ID', columns='range_delay', values='Ping Time (us)').reset_index()\n",
    "    \n",
    "    return df_pivot"
   ]
  },
  {
   "cell_type": "code",
   "execution_count": 19,
   "metadata": {},
   "outputs": [],
   "source": [
    "df_middle_quartile, df_lower_quartile, df_upper_quartile = split_quartiles(df_data_v4_1_1)"
   ]
  },
  {
   "cell_type": "code",
   "execution_count": 20,
   "metadata": {},
   "outputs": [
    {
     "data": {
      "text/html": [
       "<div>\n",
       "<style scoped>\n",
       "    .dataframe tbody tr th:only-of-type {\n",
       "        vertical-align: middle;\n",
       "    }\n",
       "\n",
       "    .dataframe tbody tr th {\n",
       "        vertical-align: top;\n",
       "    }\n",
       "\n",
       "    .dataframe thead th {\n",
       "        text-align: right;\n",
       "    }\n",
       "</style>\n",
       "<table border=\"1\" class=\"dataframe\">\n",
       "  <thead>\n",
       "    <tr style=\"text-align: right;\">\n",
       "      <th></th>\n",
       "      <th>Range (cm)</th>\n",
       "      <th>Delay (us)</th>\n",
       "      <th>Ping Time (us)</th>\n",
       "    </tr>\n",
       "    <tr>\n",
       "      <th>Sensor ID</th>\n",
       "      <th></th>\n",
       "      <th></th>\n",
       "      <th></th>\n",
       "    </tr>\n",
       "  </thead>\n",
       "  <tbody>\n",
       "    <tr>\n",
       "      <th>32</th>\n",
       "      <td>13</td>\n",
       "      <td>3000</td>\n",
       "      <td>765.640000</td>\n",
       "    </tr>\n",
       "    <tr>\n",
       "      <th>32</th>\n",
       "      <td>13</td>\n",
       "      <td>6000</td>\n",
       "      <td>765.560000</td>\n",
       "    </tr>\n",
       "    <tr>\n",
       "      <th>32</th>\n",
       "      <td>13</td>\n",
       "      <td>8000</td>\n",
       "      <td>766.120000</td>\n",
       "    </tr>\n",
       "    <tr>\n",
       "      <th>32</th>\n",
       "      <td>13</td>\n",
       "      <td>10000</td>\n",
       "      <td>765.626263</td>\n",
       "    </tr>\n",
       "    <tr>\n",
       "      <th>32</th>\n",
       "      <td>13</td>\n",
       "      <td>16800</td>\n",
       "      <td>765.693878</td>\n",
       "    </tr>\n",
       "    <tr>\n",
       "      <th>...</th>\n",
       "      <td>...</td>\n",
       "      <td>...</td>\n",
       "      <td>...</td>\n",
       "    </tr>\n",
       "    <tr>\n",
       "      <th>75</th>\n",
       "      <td>53</td>\n",
       "      <td>3000</td>\n",
       "      <td>1490.540000</td>\n",
       "    </tr>\n",
       "    <tr>\n",
       "      <th>75</th>\n",
       "      <td>53</td>\n",
       "      <td>6000</td>\n",
       "      <td>2981.880000</td>\n",
       "    </tr>\n",
       "    <tr>\n",
       "      <th>75</th>\n",
       "      <td>53</td>\n",
       "      <td>8000</td>\n",
       "      <td>2981.800000</td>\n",
       "    </tr>\n",
       "    <tr>\n",
       "      <th>75</th>\n",
       "      <td>53</td>\n",
       "      <td>10000</td>\n",
       "      <td>2983.000000</td>\n",
       "    </tr>\n",
       "    <tr>\n",
       "      <th>75</th>\n",
       "      <td>53</td>\n",
       "      <td>16800</td>\n",
       "      <td>1490.220000</td>\n",
       "    </tr>\n",
       "  </tbody>\n",
       "</table>\n",
       "<p>1980 rows × 3 columns</p>\n",
       "</div>"
      ],
      "text/plain": [
       "           Range (cm)  Delay (us)  Ping Time (us)\n",
       "Sensor ID                                        \n",
       "32                 13        3000      765.640000\n",
       "32                 13        6000      765.560000\n",
       "32                 13        8000      766.120000\n",
       "32                 13       10000      765.626263\n",
       "32                 13       16800      765.693878\n",
       "...               ...         ...             ...\n",
       "75                 53        3000     1490.540000\n",
       "75                 53        6000     2981.880000\n",
       "75                 53        8000     2981.800000\n",
       "75                 53       10000     2983.000000\n",
       "75                 53       16800     1490.220000\n",
       "\n",
       "[1980 rows x 3 columns]"
      ]
     },
     "execution_count": 20,
     "metadata": {},
     "output_type": "execute_result"
    }
   ],
   "source": [
    "df_middle_quartile.groupby(['Sensor ID','Range (cm)', 'Delay (us)'])['Ping Time (us)'].mean().reset_index([\"Delay (us)\",\"Range (cm)\"])"
   ]
  },
  {
   "cell_type": "code",
   "execution_count": 21,
   "metadata": {},
   "outputs": [
    {
     "data": {
      "text/html": [
       "<div>\n",
       "<style scoped>\n",
       "    .dataframe tbody tr th:only-of-type {\n",
       "        vertical-align: middle;\n",
       "    }\n",
       "\n",
       "    .dataframe tbody tr th {\n",
       "        vertical-align: top;\n",
       "    }\n",
       "\n",
       "    .dataframe thead th {\n",
       "        text-align: right;\n",
       "    }\n",
       "</style>\n",
       "<table border=\"1\" class=\"dataframe\">\n",
       "  <thead>\n",
       "    <tr style=\"text-align: right;\">\n",
       "      <th>range_delay</th>\n",
       "      <th>Sensor ID</th>\n",
       "      <th>13_10000_middle</th>\n",
       "      <th>13_16800_middle</th>\n",
       "      <th>13_3000_middle</th>\n",
       "      <th>13_6000_middle</th>\n",
       "      <th>13_8000_middle</th>\n",
       "      <th>18_10000_middle</th>\n",
       "      <th>18_16800_middle</th>\n",
       "      <th>18_3000_middle</th>\n",
       "      <th>18_6000_middle</th>\n",
       "      <th>...</th>\n",
       "      <th>48_10000_middle</th>\n",
       "      <th>48_16800_middle</th>\n",
       "      <th>48_3000_middle</th>\n",
       "      <th>48_6000_middle</th>\n",
       "      <th>48_8000_middle</th>\n",
       "      <th>53_10000_middle</th>\n",
       "      <th>53_16800_middle</th>\n",
       "      <th>53_3000_middle</th>\n",
       "      <th>53_6000_middle</th>\n",
       "      <th>53_8000_middle</th>\n",
       "    </tr>\n",
       "  </thead>\n",
       "  <tbody>\n",
       "    <tr>\n",
       "      <th>0</th>\n",
       "      <td>32</td>\n",
       "      <td>765.626263</td>\n",
       "      <td>765.693878</td>\n",
       "      <td>765.640000</td>\n",
       "      <td>765.560000</td>\n",
       "      <td>766.120000</td>\n",
       "      <td>1057.280000</td>\n",
       "      <td>821.200000</td>\n",
       "      <td>1057.626263</td>\n",
       "      <td>1057.440000</td>\n",
       "      <td>...</td>\n",
       "      <td>2765.200000</td>\n",
       "      <td>2771.200000</td>\n",
       "      <td>2765.315789</td>\n",
       "      <td>2765.520000</td>\n",
       "      <td>2765.160000</td>\n",
       "      <td>3090.111111</td>\n",
       "      <td>3088.120000</td>\n",
       "      <td>3090.480000</td>\n",
       "      <td>3089.560000</td>\n",
       "      <td>3090.000000</td>\n",
       "    </tr>\n",
       "    <tr>\n",
       "      <th>1</th>\n",
       "      <td>33</td>\n",
       "      <td>755.000000</td>\n",
       "      <td>779.530612</td>\n",
       "      <td>736.640000</td>\n",
       "      <td>779.275862</td>\n",
       "      <td>755.467532</td>\n",
       "      <td>1024.818182</td>\n",
       "      <td>1035.640000</td>\n",
       "      <td>1024.777778</td>\n",
       "      <td>1025.720000</td>\n",
       "      <td>...</td>\n",
       "      <td>2725.800000</td>\n",
       "      <td>2726.920000</td>\n",
       "      <td>2739.000000</td>\n",
       "      <td>2729.600000</td>\n",
       "      <td>2729.040000</td>\n",
       "      <td>3040.480000</td>\n",
       "      <td>3016.896907</td>\n",
       "      <td>3042.000000</td>\n",
       "      <td>3047.571429</td>\n",
       "      <td>3049.026667</td>\n",
       "    </tr>\n",
       "    <tr>\n",
       "      <th>2</th>\n",
       "      <td>34</td>\n",
       "      <td>665.680000</td>\n",
       "      <td>658.920000</td>\n",
       "      <td>675.989247</td>\n",
       "      <td>653.682353</td>\n",
       "      <td>665.240000</td>\n",
       "      <td>969.480000</td>\n",
       "      <td>969.469136</td>\n",
       "      <td>969.520000</td>\n",
       "      <td>969.585859</td>\n",
       "      <td>...</td>\n",
       "      <td>2641.160000</td>\n",
       "      <td>2640.979798</td>\n",
       "      <td>2643.360000</td>\n",
       "      <td>2642.040000</td>\n",
       "      <td>2641.480000</td>\n",
       "      <td>2941.040000</td>\n",
       "      <td>2940.920000</td>\n",
       "      <td>2944.301205</td>\n",
       "      <td>2939.960000</td>\n",
       "      <td>2948.090909</td>\n",
       "    </tr>\n",
       "    <tr>\n",
       "      <th>3</th>\n",
       "      <td>35</td>\n",
       "      <td>861.640000</td>\n",
       "      <td>861.626263</td>\n",
       "      <td>804.320000</td>\n",
       "      <td>861.840000</td>\n",
       "      <td>863.000000</td>\n",
       "      <td>1012.333333</td>\n",
       "      <td>1011.800000</td>\n",
       "      <td>1012.720000</td>\n",
       "      <td>1012.240000</td>\n",
       "      <td>...</td>\n",
       "      <td>2755.000000</td>\n",
       "      <td>2777.813187</td>\n",
       "      <td>2755.000000</td>\n",
       "      <td>2777.595745</td>\n",
       "      <td>2755.418605</td>\n",
       "      <td>3014.760000</td>\n",
       "      <td>3015.720000</td>\n",
       "      <td>3029.800000</td>\n",
       "      <td>3029.813187</td>\n",
       "      <td>3017.120000</td>\n",
       "    </tr>\n",
       "    <tr>\n",
       "      <th>4</th>\n",
       "      <td>36</td>\n",
       "      <td>743.520000</td>\n",
       "      <td>743.962025</td>\n",
       "      <td>743.360000</td>\n",
       "      <td>743.680000</td>\n",
       "      <td>743.600000</td>\n",
       "      <td>1067.000000</td>\n",
       "      <td>1054.880000</td>\n",
       "      <td>1064.494949</td>\n",
       "      <td>1067.000000</td>\n",
       "      <td>...</td>\n",
       "      <td>2770.083333</td>\n",
       "      <td>2753.960000</td>\n",
       "      <td>2763.160000</td>\n",
       "      <td>2754.680000</td>\n",
       "      <td>2769.608696</td>\n",
       "      <td>3085.712644</td>\n",
       "      <td>3077.440000</td>\n",
       "      <td>3043.560000</td>\n",
       "      <td>3047.903226</td>\n",
       "      <td>1856.680000</td>\n",
       "    </tr>\n",
       "    <tr>\n",
       "      <th>5</th>\n",
       "      <td>37</td>\n",
       "      <td>739.808081</td>\n",
       "      <td>597.240000</td>\n",
       "      <td>739.727273</td>\n",
       "      <td>739.760000</td>\n",
       "      <td>739.929293</td>\n",
       "      <td>975.646465</td>\n",
       "      <td>975.547368</td>\n",
       "      <td>984.840000</td>\n",
       "      <td>975.757895</td>\n",
       "      <td>...</td>\n",
       "      <td>2719.000000</td>\n",
       "      <td>323.106667</td>\n",
       "      <td>2719.000000</td>\n",
       "      <td>2719.186047</td>\n",
       "      <td>2719.525253</td>\n",
       "      <td>3047.848485</td>\n",
       "      <td>383.789474</td>\n",
       "      <td>3019.000000</td>\n",
       "      <td>3018.172414</td>\n",
       "      <td>405.590909</td>\n",
       "    </tr>\n",
       "    <tr>\n",
       "      <th>6</th>\n",
       "      <td>38</td>\n",
       "      <td>752.320000</td>\n",
       "      <td>753.400000</td>\n",
       "      <td>752.720000</td>\n",
       "      <td>753.280000</td>\n",
       "      <td>753.720000</td>\n",
       "      <td>1067.800000</td>\n",
       "      <td>1075.960000</td>\n",
       "      <td>1102.360000</td>\n",
       "      <td>1101.666667</td>\n",
       "      <td>...</td>\n",
       "      <td>2725.666667</td>\n",
       "      <td>2719.808511</td>\n",
       "      <td>2718.320000</td>\n",
       "      <td>2719.240000</td>\n",
       "      <td>2725.461538</td>\n",
       "      <td>3053.595745</td>\n",
       "      <td>3035.280000</td>\n",
       "      <td>3014.182796</td>\n",
       "      <td>3014.000000</td>\n",
       "      <td>421.808511</td>\n",
       "    </tr>\n",
       "    <tr>\n",
       "      <th>7</th>\n",
       "      <td>39</td>\n",
       "      <td>865.989899</td>\n",
       "      <td>867.000000</td>\n",
       "      <td>867.000000</td>\n",
       "      <td>865.600000</td>\n",
       "      <td>864.840000</td>\n",
       "      <td>1071.000000</td>\n",
       "      <td>1071.000000</td>\n",
       "      <td>1071.000000</td>\n",
       "      <td>1071.000000</td>\n",
       "      <td>...</td>\n",
       "      <td>2694.440000</td>\n",
       "      <td>2695.134831</td>\n",
       "      <td>2695.000000</td>\n",
       "      <td>2695.000000</td>\n",
       "      <td>2695.000000</td>\n",
       "      <td>2991.000000</td>\n",
       "      <td>2991.512821</td>\n",
       "      <td>2991.000000</td>\n",
       "      <td>2995.742268</td>\n",
       "      <td>2991.000000</td>\n",
       "    </tr>\n",
       "    <tr>\n",
       "      <th>8</th>\n",
       "      <td>40</td>\n",
       "      <td>738.200000</td>\n",
       "      <td>728.619048</td>\n",
       "      <td>728.960000</td>\n",
       "      <td>728.880000</td>\n",
       "      <td>728.960000</td>\n",
       "      <td>1041.585859</td>\n",
       "      <td>1039.638298</td>\n",
       "      <td>1040.200000</td>\n",
       "      <td>1039.000000</td>\n",
       "      <td>...</td>\n",
       "      <td>2763.000000</td>\n",
       "      <td>2739.000000</td>\n",
       "      <td>2762.789474</td>\n",
       "      <td>2751.808989</td>\n",
       "      <td>2762.951220</td>\n",
       "      <td>3027.680000</td>\n",
       "      <td>3031.000000</td>\n",
       "      <td>3040.440000</td>\n",
       "      <td>3009.368421</td>\n",
       "      <td>3023.600000</td>\n",
       "    </tr>\n",
       "    <tr>\n",
       "      <th>9</th>\n",
       "      <td>41</td>\n",
       "      <td>721.840000</td>\n",
       "      <td>739.040000</td>\n",
       "      <td>721.960000</td>\n",
       "      <td>721.682353</td>\n",
       "      <td>722.120000</td>\n",
       "      <td>1028.080000</td>\n",
       "      <td>1034.753086</td>\n",
       "      <td>1037.382022</td>\n",
       "      <td>1010.946667</td>\n",
       "      <td>...</td>\n",
       "      <td>2728.090909</td>\n",
       "      <td>2730.440000</td>\n",
       "      <td>2736.160000</td>\n",
       "      <td>2728.241379</td>\n",
       "      <td>2728.118280</td>\n",
       "      <td>3028.217391</td>\n",
       "      <td>3018.840000</td>\n",
       "      <td>3027.000000</td>\n",
       "      <td>3027.000000</td>\n",
       "      <td>3028.113924</td>\n",
       "    </tr>\n",
       "    <tr>\n",
       "      <th>10</th>\n",
       "      <td>42</td>\n",
       "      <td>710.146067</td>\n",
       "      <td>724.840000</td>\n",
       "      <td>709.891566</td>\n",
       "      <td>716.240000</td>\n",
       "      <td>709.500000</td>\n",
       "      <td>1017.560000</td>\n",
       "      <td>1000.720000</td>\n",
       "      <td>1017.320000</td>\n",
       "      <td>1017.720000</td>\n",
       "      <td>...</td>\n",
       "      <td>2707.320000</td>\n",
       "      <td>2699.280000</td>\n",
       "      <td>2700.661538</td>\n",
       "      <td>2707.240000</td>\n",
       "      <td>2709.440000</td>\n",
       "      <td>3027.000000</td>\n",
       "      <td>2773.989011</td>\n",
       "      <td>2996.560000</td>\n",
       "      <td>2999.571429</td>\n",
       "      <td>395.337349</td>\n",
       "    </tr>\n",
       "    <tr>\n",
       "      <th>11</th>\n",
       "      <td>43</td>\n",
       "      <td>719.000000</td>\n",
       "      <td>719.000000</td>\n",
       "      <td>719.000000</td>\n",
       "      <td>719.000000</td>\n",
       "      <td>719.000000</td>\n",
       "      <td>1039.000000</td>\n",
       "      <td>1039.000000</td>\n",
       "      <td>1038.858824</td>\n",
       "      <td>1039.000000</td>\n",
       "      <td>...</td>\n",
       "      <td>2743.000000</td>\n",
       "      <td>2746.727273</td>\n",
       "      <td>2747.000000</td>\n",
       "      <td>2743.948454</td>\n",
       "      <td>2747.000000</td>\n",
       "      <td>3042.492958</td>\n",
       "      <td>3030.480000</td>\n",
       "      <td>3041.773333</td>\n",
       "      <td>3042.222222</td>\n",
       "      <td>3043.044944</td>\n",
       "    </tr>\n",
       "    <tr>\n",
       "      <th>12</th>\n",
       "      <td>44</td>\n",
       "      <td>699.400000</td>\n",
       "      <td>699.321839</td>\n",
       "      <td>699.280000</td>\n",
       "      <td>699.560000</td>\n",
       "      <td>699.640000</td>\n",
       "      <td>1019.120000</td>\n",
       "      <td>1006.240000</td>\n",
       "      <td>1018.676768</td>\n",
       "      <td>1019.484848</td>\n",
       "      <td>...</td>\n",
       "      <td>2713.717949</td>\n",
       "      <td>2725.520000</td>\n",
       "      <td>2713.851064</td>\n",
       "      <td>2713.772727</td>\n",
       "      <td>2713.580645</td>\n",
       "      <td>3027.480000</td>\n",
       "      <td>3001.320000</td>\n",
       "      <td>3024.200000</td>\n",
       "      <td>3017.481013</td>\n",
       "      <td>3027.920000</td>\n",
       "    </tr>\n",
       "    <tr>\n",
       "      <th>13</th>\n",
       "      <td>45</td>\n",
       "      <td>746.120000</td>\n",
       "      <td>770.116883</td>\n",
       "      <td>745.960000</td>\n",
       "      <td>745.909091</td>\n",
       "      <td>745.560000</td>\n",
       "      <td>1052.090909</td>\n",
       "      <td>1044.600000</td>\n",
       "      <td>1052.160000</td>\n",
       "      <td>1052.292929</td>\n",
       "      <td>...</td>\n",
       "      <td>2754.080000</td>\n",
       "      <td>2765.560000</td>\n",
       "      <td>2753.694737</td>\n",
       "      <td>2754.360000</td>\n",
       "      <td>2754.200000</td>\n",
       "      <td>3048.840000</td>\n",
       "      <td>3041.880000</td>\n",
       "      <td>3043.960000</td>\n",
       "      <td>3048.960000</td>\n",
       "      <td>3048.760000</td>\n",
       "    </tr>\n",
       "    <tr>\n",
       "      <th>14</th>\n",
       "      <td>46</td>\n",
       "      <td>715.000000</td>\n",
       "      <td>713.920000</td>\n",
       "      <td>715.000000</td>\n",
       "      <td>715.000000</td>\n",
       "      <td>715.000000</td>\n",
       "      <td>1029.880000</td>\n",
       "      <td>1030.356322</td>\n",
       "      <td>1029.040000</td>\n",
       "      <td>1031.000000</td>\n",
       "      <td>...</td>\n",
       "      <td>2741.238095</td>\n",
       "      <td>2754.120000</td>\n",
       "      <td>2747.960000</td>\n",
       "      <td>2741.439024</td>\n",
       "      <td>2741.173913</td>\n",
       "      <td>3041.303030</td>\n",
       "      <td>3026.800000</td>\n",
       "      <td>3018.695652</td>\n",
       "      <td>3041.305882</td>\n",
       "      <td>3041.577778</td>\n",
       "    </tr>\n",
       "    <tr>\n",
       "      <th>15</th>\n",
       "      <td>47</td>\n",
       "      <td>700.696970</td>\n",
       "      <td>683.640000</td>\n",
       "      <td>687.520000</td>\n",
       "      <td>700.640000</td>\n",
       "      <td>700.480000</td>\n",
       "      <td>964.292929</td>\n",
       "      <td>978.800000</td>\n",
       "      <td>964.548387</td>\n",
       "      <td>964.142857</td>\n",
       "      <td>...</td>\n",
       "      <td>2474.880000</td>\n",
       "      <td>1465.432990</td>\n",
       "      <td>1684.462366</td>\n",
       "      <td>2472.760000</td>\n",
       "      <td>2481.734694</td>\n",
       "      <td>2516.918367</td>\n",
       "      <td>1797.122449</td>\n",
       "      <td>2073.280000</td>\n",
       "      <td>2435.775510</td>\n",
       "      <td>2492.896907</td>\n",
       "    </tr>\n",
       "    <tr>\n",
       "      <th>16</th>\n",
       "      <td>48</td>\n",
       "      <td>736.360000</td>\n",
       "      <td>735.960000</td>\n",
       "      <td>736.680000</td>\n",
       "      <td>736.040000</td>\n",
       "      <td>736.306122</td>\n",
       "      <td>1022.120000</td>\n",
       "      <td>1022.085714</td>\n",
       "      <td>1023.000000</td>\n",
       "      <td>1023.000000</td>\n",
       "      <td>...</td>\n",
       "      <td>2716.360000</td>\n",
       "      <td>2727.560000</td>\n",
       "      <td>2711.000000</td>\n",
       "      <td>2722.120000</td>\n",
       "      <td>2723.400000</td>\n",
       "      <td>3017.000000</td>\n",
       "      <td>3025.869565</td>\n",
       "      <td>3020.440000</td>\n",
       "      <td>3018.840000</td>\n",
       "      <td>3023.880000</td>\n",
       "    </tr>\n",
       "    <tr>\n",
       "      <th>17</th>\n",
       "      <td>49</td>\n",
       "      <td>731.851064</td>\n",
       "      <td>732.302326</td>\n",
       "      <td>709.755556</td>\n",
       "      <td>709.604651</td>\n",
       "      <td>723.640000</td>\n",
       "      <td>1030.833333</td>\n",
       "      <td>1031.833333</td>\n",
       "      <td>1033.240000</td>\n",
       "      <td>1033.367347</td>\n",
       "      <td>...</td>\n",
       "      <td>2743.782609</td>\n",
       "      <td>2735.720000</td>\n",
       "      <td>2725.560000</td>\n",
       "      <td>2731.240000</td>\n",
       "      <td>2743.800000</td>\n",
       "      <td>3050.280000</td>\n",
       "      <td>3059.000000</td>\n",
       "      <td>3059.521739</td>\n",
       "      <td>3060.435897</td>\n",
       "      <td>3059.923077</td>\n",
       "    </tr>\n",
       "    <tr>\n",
       "      <th>18</th>\n",
       "      <td>50</td>\n",
       "      <td>719.720000</td>\n",
       "      <td>734.760000</td>\n",
       "      <td>719.000000</td>\n",
       "      <td>719.000000</td>\n",
       "      <td>719.000000</td>\n",
       "      <td>1025.960000</td>\n",
       "      <td>1021.000000</td>\n",
       "      <td>1011.960000</td>\n",
       "      <td>1012.702128</td>\n",
       "      <td>...</td>\n",
       "      <td>2758.179487</td>\n",
       "      <td>2763.750000</td>\n",
       "      <td>2772.680000</td>\n",
       "      <td>2757.048780</td>\n",
       "      <td>2757.461538</td>\n",
       "      <td>3056.920000</td>\n",
       "      <td>3049.285714</td>\n",
       "      <td>3046.200000</td>\n",
       "      <td>3053.909091</td>\n",
       "      <td>3047.720000</td>\n",
       "    </tr>\n",
       "    <tr>\n",
       "      <th>19</th>\n",
       "      <td>51</td>\n",
       "      <td>755.000000</td>\n",
       "      <td>749.400000</td>\n",
       "      <td>756.280000</td>\n",
       "      <td>756.200000</td>\n",
       "      <td>756.120000</td>\n",
       "      <td>1019.160000</td>\n",
       "      <td>1036.920000</td>\n",
       "      <td>1019.400000</td>\n",
       "      <td>1019.000000</td>\n",
       "      <td>...</td>\n",
       "      <td>2715.400000</td>\n",
       "      <td>2696.191489</td>\n",
       "      <td>2739.100000</td>\n",
       "      <td>2738.909091</td>\n",
       "      <td>2716.157895</td>\n",
       "      <td>3042.920000</td>\n",
       "      <td>2985.160000</td>\n",
       "      <td>324.760000</td>\n",
       "      <td>3045.880000</td>\n",
       "      <td>3040.760000</td>\n",
       "    </tr>\n",
       "    <tr>\n",
       "      <th>20</th>\n",
       "      <td>52</td>\n",
       "      <td>752.363636</td>\n",
       "      <td>764.360000</td>\n",
       "      <td>776.360000</td>\n",
       "      <td>770.360000</td>\n",
       "      <td>752.680000</td>\n",
       "      <td>1061.400000</td>\n",
       "      <td>1065.400000</td>\n",
       "      <td>1061.693878</td>\n",
       "      <td>1063.240000</td>\n",
       "      <td>...</td>\n",
       "      <td>2766.920000</td>\n",
       "      <td>2776.368421</td>\n",
       "      <td>2751.000000</td>\n",
       "      <td>2775.800000</td>\n",
       "      <td>2753.666667</td>\n",
       "      <td>3084.760000</td>\n",
       "      <td>3085.166667</td>\n",
       "      <td>331.685714</td>\n",
       "      <td>1937.720000</td>\n",
       "      <td>3083.880000</td>\n",
       "    </tr>\n",
       "    <tr>\n",
       "      <th>21</th>\n",
       "      <td>53</td>\n",
       "      <td>775.000000</td>\n",
       "      <td>759.560000</td>\n",
       "      <td>775.640000</td>\n",
       "      <td>774.920000</td>\n",
       "      <td>775.960000</td>\n",
       "      <td>1059.979592</td>\n",
       "      <td>1075.640000</td>\n",
       "      <td>1060.040000</td>\n",
       "      <td>1059.880000</td>\n",
       "      <td>...</td>\n",
       "      <td>2787.880000</td>\n",
       "      <td>2773.625000</td>\n",
       "      <td>2764.120000</td>\n",
       "      <td>2783.800000</td>\n",
       "      <td>2775.097561</td>\n",
       "      <td>3066.135135</td>\n",
       "      <td>3062.288889</td>\n",
       "      <td>3065.727273</td>\n",
       "      <td>3041.720000</td>\n",
       "      <td>3040.760000</td>\n",
       "    </tr>\n",
       "    <tr>\n",
       "      <th>22</th>\n",
       "      <td>54</td>\n",
       "      <td>744.304348</td>\n",
       "      <td>755.000000</td>\n",
       "      <td>745.040816</td>\n",
       "      <td>744.551020</td>\n",
       "      <td>743.960000</td>\n",
       "      <td>1058.200000</td>\n",
       "      <td>1049.720000</td>\n",
       "      <td>1059.000000</td>\n",
       "      <td>1058.680000</td>\n",
       "      <td>...</td>\n",
       "      <td>2747.833333</td>\n",
       "      <td>2734.920000</td>\n",
       "      <td>2748.900000</td>\n",
       "      <td>2748.469388</td>\n",
       "      <td>2749.311111</td>\n",
       "      <td>3042.040000</td>\n",
       "      <td>3052.120000</td>\n",
       "      <td>3044.680000</td>\n",
       "      <td>3035.400000</td>\n",
       "      <td>3034.578947</td>\n",
       "    </tr>\n",
       "    <tr>\n",
       "      <th>23</th>\n",
       "      <td>55</td>\n",
       "      <td>754.120000</td>\n",
       "      <td>216.200000</td>\n",
       "      <td>754.183673</td>\n",
       "      <td>755.000000</td>\n",
       "      <td>755.000000</td>\n",
       "      <td>1064.760000</td>\n",
       "      <td>141.100000</td>\n",
       "      <td>1036.551020</td>\n",
       "      <td>1063.816327</td>\n",
       "      <td>...</td>\n",
       "      <td>2755.960000</td>\n",
       "      <td>2731.880000</td>\n",
       "      <td>2745.173913</td>\n",
       "      <td>2745.400000</td>\n",
       "      <td>2745.640000</td>\n",
       "      <td>3037.400000</td>\n",
       "      <td>1129.000000</td>\n",
       "      <td>3035.000000</td>\n",
       "      <td>3035.000000</td>\n",
       "      <td>3035.000000</td>\n",
       "    </tr>\n",
       "    <tr>\n",
       "      <th>24</th>\n",
       "      <td>56</td>\n",
       "      <td>725.857143</td>\n",
       "      <td>719.480000</td>\n",
       "      <td>708.280000</td>\n",
       "      <td>716.280000</td>\n",
       "      <td>719.160000</td>\n",
       "      <td>1024.200000</td>\n",
       "      <td>1006.600000</td>\n",
       "      <td>1023.880000</td>\n",
       "      <td>1024.520000</td>\n",
       "      <td>...</td>\n",
       "      <td>2721.960000</td>\n",
       "      <td>2704.840000</td>\n",
       "      <td>2709.358974</td>\n",
       "      <td>2726.120000</td>\n",
       "      <td>2726.040000</td>\n",
       "      <td>3038.040000</td>\n",
       "      <td>3036.280000</td>\n",
       "      <td>3013.560000</td>\n",
       "      <td>3035.640000</td>\n",
       "      <td>3037.160000</td>\n",
       "    </tr>\n",
       "    <tr>\n",
       "      <th>25</th>\n",
       "      <td>57</td>\n",
       "      <td>734.565217</td>\n",
       "      <td>197.348837</td>\n",
       "      <td>734.600000</td>\n",
       "      <td>734.280000</td>\n",
       "      <td>734.440000</td>\n",
       "      <td>1050.920000</td>\n",
       "      <td>1039.720000</td>\n",
       "      <td>1050.680000</td>\n",
       "      <td>1050.360000</td>\n",
       "      <td>...</td>\n",
       "      <td>2743.720000</td>\n",
       "      <td>2735.640000</td>\n",
       "      <td>2748.120000</td>\n",
       "      <td>2749.080000</td>\n",
       "      <td>2748.600000</td>\n",
       "      <td>3033.100000</td>\n",
       "      <td>3011.240000</td>\n",
       "      <td>3042.040000</td>\n",
       "      <td>3038.680000</td>\n",
       "      <td>3041.000000</td>\n",
       "    </tr>\n",
       "    <tr>\n",
       "      <th>26</th>\n",
       "      <td>58</td>\n",
       "      <td>725.800000</td>\n",
       "      <td>734.760000</td>\n",
       "      <td>727.000000</td>\n",
       "      <td>727.000000</td>\n",
       "      <td>726.200000</td>\n",
       "      <td>1037.480000</td>\n",
       "      <td>1036.473684</td>\n",
       "      <td>1037.720000</td>\n",
       "      <td>1038.040000</td>\n",
       "      <td>...</td>\n",
       "      <td>2725.160000</td>\n",
       "      <td>2667.960000</td>\n",
       "      <td>2725.530612</td>\n",
       "      <td>2726.020408</td>\n",
       "      <td>2718.760000</td>\n",
       "      <td>3040.025641</td>\n",
       "      <td>2942.404255</td>\n",
       "      <td>3049.240000</td>\n",
       "      <td>3040.272727</td>\n",
       "      <td>3040.523810</td>\n",
       "    </tr>\n",
       "    <tr>\n",
       "      <th>27</th>\n",
       "      <td>59</td>\n",
       "      <td>724.565217</td>\n",
       "      <td>723.645161</td>\n",
       "      <td>723.960000</td>\n",
       "      <td>724.523810</td>\n",
       "      <td>724.130435</td>\n",
       "      <td>1019.400000</td>\n",
       "      <td>1023.960000</td>\n",
       "      <td>1010.794872</td>\n",
       "      <td>1022.280000</td>\n",
       "      <td>...</td>\n",
       "      <td>2720.302326</td>\n",
       "      <td>2724.680000</td>\n",
       "      <td>2728.040000</td>\n",
       "      <td>2729.800000</td>\n",
       "      <td>2743.210526</td>\n",
       "      <td>3030.840000</td>\n",
       "      <td>3036.120000</td>\n",
       "      <td>3034.040000</td>\n",
       "      <td>3033.400000</td>\n",
       "      <td>3034.200000</td>\n",
       "    </tr>\n",
       "    <tr>\n",
       "      <th>28</th>\n",
       "      <td>60</td>\n",
       "      <td>746.280000</td>\n",
       "      <td>758.897436</td>\n",
       "      <td>734.833333</td>\n",
       "      <td>735.500000</td>\n",
       "      <td>735.320000</td>\n",
       "      <td>1049.480000</td>\n",
       "      <td>1049.594595</td>\n",
       "      <td>1049.640000</td>\n",
       "      <td>1048.795918</td>\n",
       "      <td>...</td>\n",
       "      <td>2740.280000</td>\n",
       "      <td>2754.600000</td>\n",
       "      <td>2744.760000</td>\n",
       "      <td>2734.333333</td>\n",
       "      <td>2733.380952</td>\n",
       "      <td>3029.272727</td>\n",
       "      <td>3044.714286</td>\n",
       "      <td>3046.600000</td>\n",
       "      <td>3030.083333</td>\n",
       "      <td>3029.040816</td>\n",
       "    </tr>\n",
       "    <tr>\n",
       "      <th>29</th>\n",
       "      <td>61</td>\n",
       "      <td>720.360000</td>\n",
       "      <td>25000.520000</td>\n",
       "      <td>719.000000</td>\n",
       "      <td>719.000000</td>\n",
       "      <td>719.720000</td>\n",
       "      <td>1017.000000</td>\n",
       "      <td>73.243902</td>\n",
       "      <td>1011.408163</td>\n",
       "      <td>1011.000000</td>\n",
       "      <td>...</td>\n",
       "      <td>2717.583333</td>\n",
       "      <td>2715.880000</td>\n",
       "      <td>2717.974359</td>\n",
       "      <td>2717.640000</td>\n",
       "      <td>2717.833333</td>\n",
       "      <td>3014.000000</td>\n",
       "      <td>2889.320000</td>\n",
       "      <td>3020.920000</td>\n",
       "      <td>3008.920000</td>\n",
       "      <td>3021.000000</td>\n",
       "    </tr>\n",
       "    <tr>\n",
       "      <th>30</th>\n",
       "      <td>62</td>\n",
       "      <td>767.653061</td>\n",
       "      <td>767.720000</td>\n",
       "      <td>767.480000</td>\n",
       "      <td>767.000000</td>\n",
       "      <td>767.960000</td>\n",
       "      <td>1065.880000</td>\n",
       "      <td>1059.560000</td>\n",
       "      <td>1065.530612</td>\n",
       "      <td>1065.640000</td>\n",
       "      <td>...</td>\n",
       "      <td>2742.040000</td>\n",
       "      <td>2731.720000</td>\n",
       "      <td>2717.800000</td>\n",
       "      <td>2743.000000</td>\n",
       "      <td>2743.000000</td>\n",
       "      <td>3040.680000</td>\n",
       "      <td>3032.520000</td>\n",
       "      <td>3041.000000</td>\n",
       "      <td>3040.840000</td>\n",
       "      <td>3040.920000</td>\n",
       "    </tr>\n",
       "    <tr>\n",
       "      <th>31</th>\n",
       "      <td>63</td>\n",
       "      <td>773.640000</td>\n",
       "      <td>773.260870</td>\n",
       "      <td>774.120000</td>\n",
       "      <td>774.600000</td>\n",
       "      <td>774.440000</td>\n",
       "      <td>1067.000000</td>\n",
       "      <td>1058.040000</td>\n",
       "      <td>1067.000000</td>\n",
       "      <td>1065.400000</td>\n",
       "      <td>...</td>\n",
       "      <td>2717.880000</td>\n",
       "      <td>2717.315789</td>\n",
       "      <td>2717.500000</td>\n",
       "      <td>2717.978723</td>\n",
       "      <td>2717.612245</td>\n",
       "      <td>3034.578947</td>\n",
       "      <td>3049.358974</td>\n",
       "      <td>3031.000000</td>\n",
       "      <td>1326.840000</td>\n",
       "      <td>3035.000000</td>\n",
       "    </tr>\n",
       "    <tr>\n",
       "      <th>32</th>\n",
       "      <td>64</td>\n",
       "      <td>708.959184</td>\n",
       "      <td>452.510204</td>\n",
       "      <td>708.263158</td>\n",
       "      <td>709.080000</td>\n",
       "      <td>709.640000</td>\n",
       "      <td>1026.478261</td>\n",
       "      <td>79.909091</td>\n",
       "      <td>1016.040000</td>\n",
       "      <td>1027.000000</td>\n",
       "      <td>...</td>\n",
       "      <td>2713.448980</td>\n",
       "      <td>2706.920000</td>\n",
       "      <td>2700.840000</td>\n",
       "      <td>2713.325581</td>\n",
       "      <td>2713.285714</td>\n",
       "      <td>3019.240000</td>\n",
       "      <td>2753.000000</td>\n",
       "      <td>3027.300000</td>\n",
       "      <td>3010.280000</td>\n",
       "      <td>3019.240000</td>\n",
       "    </tr>\n",
       "    <tr>\n",
       "      <th>33</th>\n",
       "      <td>65</td>\n",
       "      <td>772.061224</td>\n",
       "      <td>787.960000</td>\n",
       "      <td>771.800000</td>\n",
       "      <td>795.952381</td>\n",
       "      <td>787.560000</td>\n",
       "      <td>1087.279070</td>\n",
       "      <td>1086.894737</td>\n",
       "      <td>1087.956522</td>\n",
       "      <td>1088.531915</td>\n",
       "      <td>...</td>\n",
       "      <td>2783.960000</td>\n",
       "      <td>2782.920000</td>\n",
       "      <td>2769.871795</td>\n",
       "      <td>2779.240000</td>\n",
       "      <td>2770.794872</td>\n",
       "      <td>3100.360000</td>\n",
       "      <td>3080.750000</td>\n",
       "      <td>3101.810811</td>\n",
       "      <td>3090.534884</td>\n",
       "      <td>3090.659574</td>\n",
       "    </tr>\n",
       "    <tr>\n",
       "      <th>34</th>\n",
       "      <td>66</td>\n",
       "      <td>756.040000</td>\n",
       "      <td>755.000000</td>\n",
       "      <td>755.000000</td>\n",
       "      <td>755.000000</td>\n",
       "      <td>755.960000</td>\n",
       "      <td>1050.040000</td>\n",
       "      <td>1070.760000</td>\n",
       "      <td>1051.000000</td>\n",
       "      <td>1050.360000</td>\n",
       "      <td>...</td>\n",
       "      <td>2733.000000</td>\n",
       "      <td>2737.240000</td>\n",
       "      <td>2732.818182</td>\n",
       "      <td>2733.204082</td>\n",
       "      <td>2733.204082</td>\n",
       "      <td>3065.480000</td>\n",
       "      <td>3038.760000</td>\n",
       "      <td>3031.000000</td>\n",
       "      <td>3031.000000</td>\n",
       "      <td>3048.750000</td>\n",
       "    </tr>\n",
       "    <tr>\n",
       "      <th>35</th>\n",
       "      <td>67</td>\n",
       "      <td>751.000000</td>\n",
       "      <td>749.808511</td>\n",
       "      <td>751.000000</td>\n",
       "      <td>751.000000</td>\n",
       "      <td>751.000000</td>\n",
       "      <td>1057.400000</td>\n",
       "      <td>1057.612245</td>\n",
       "      <td>1059.000000</td>\n",
       "      <td>1057.720000</td>\n",
       "      <td>...</td>\n",
       "      <td>2758.280000</td>\n",
       "      <td>2718.520000</td>\n",
       "      <td>2768.106383</td>\n",
       "      <td>2765.000000</td>\n",
       "      <td>2751.480000</td>\n",
       "      <td>3057.320000</td>\n",
       "      <td>3057.909091</td>\n",
       "      <td>3051.720000</td>\n",
       "      <td>3051.960000</td>\n",
       "      <td>3075.320000</td>\n",
       "    </tr>\n",
       "    <tr>\n",
       "      <th>36</th>\n",
       "      <td>68</td>\n",
       "      <td>826.130435</td>\n",
       "      <td>837.080000</td>\n",
       "      <td>827.000000</td>\n",
       "      <td>825.530612</td>\n",
       "      <td>827.000000</td>\n",
       "      <td>1132.840000</td>\n",
       "      <td>1147.083333</td>\n",
       "      <td>1123.000000</td>\n",
       "      <td>1123.000000</td>\n",
       "      <td>...</td>\n",
       "      <td>2805.320000</td>\n",
       "      <td>2815.240000</td>\n",
       "      <td>2822.440000</td>\n",
       "      <td>2818.840000</td>\n",
       "      <td>2805.800000</td>\n",
       "      <td>3146.789474</td>\n",
       "      <td>3122.052632</td>\n",
       "      <td>3128.280000</td>\n",
       "      <td>3121.000000</td>\n",
       "      <td>3133.560000</td>\n",
       "    </tr>\n",
       "    <tr>\n",
       "      <th>37</th>\n",
       "      <td>69</td>\n",
       "      <td>740.840000</td>\n",
       "      <td>727.880000</td>\n",
       "      <td>739.640000</td>\n",
       "      <td>739.244898</td>\n",
       "      <td>740.200000</td>\n",
       "      <td>1021.960000</td>\n",
       "      <td>1019.160000</td>\n",
       "      <td>1020.120000</td>\n",
       "      <td>1031.842105</td>\n",
       "      <td>...</td>\n",
       "      <td>2708.545455</td>\n",
       "      <td>2602.217391</td>\n",
       "      <td>2708.600000</td>\n",
       "      <td>2708.478261</td>\n",
       "      <td>2709.347826</td>\n",
       "      <td>3027.000000</td>\n",
       "      <td>2916.120000</td>\n",
       "      <td>437.080000</td>\n",
       "      <td>3036.920000</td>\n",
       "      <td>3027.000000</td>\n",
       "    </tr>\n",
       "    <tr>\n",
       "      <th>38</th>\n",
       "      <td>70</td>\n",
       "      <td>770.200000</td>\n",
       "      <td>781.320000</td>\n",
       "      <td>789.400000</td>\n",
       "      <td>755.857143</td>\n",
       "      <td>756.809524</td>\n",
       "      <td>1090.520000</td>\n",
       "      <td>1061.400000</td>\n",
       "      <td>1089.640000</td>\n",
       "      <td>1089.320000</td>\n",
       "      <td>...</td>\n",
       "      <td>2755.000000</td>\n",
       "      <td>2648.680000</td>\n",
       "      <td>2755.000000</td>\n",
       "      <td>2753.960000</td>\n",
       "      <td>2755.000000</td>\n",
       "      <td>3043.720000</td>\n",
       "      <td>2954.440000</td>\n",
       "      <td>3039.000000</td>\n",
       "      <td>1295.320000</td>\n",
       "      <td>3042.040000</td>\n",
       "    </tr>\n",
       "    <tr>\n",
       "      <th>39</th>\n",
       "      <td>71</td>\n",
       "      <td>762.794872</td>\n",
       "      <td>771.880000</td>\n",
       "      <td>761.434783</td>\n",
       "      <td>761.363636</td>\n",
       "      <td>761.400000</td>\n",
       "      <td>1069.638298</td>\n",
       "      <td>1069.800000</td>\n",
       "      <td>1071.000000</td>\n",
       "      <td>1071.000000</td>\n",
       "      <td>...</td>\n",
       "      <td>2751.476190</td>\n",
       "      <td>2738.840000</td>\n",
       "      <td>2742.360000</td>\n",
       "      <td>2748.756098</td>\n",
       "      <td>2748.756098</td>\n",
       "      <td>3055.163265</td>\n",
       "      <td>3066.520000</td>\n",
       "      <td>3068.951220</td>\n",
       "      <td>3061.160000</td>\n",
       "      <td>3060.280000</td>\n",
       "    </tr>\n",
       "    <tr>\n",
       "      <th>40</th>\n",
       "      <td>72</td>\n",
       "      <td>727.880000</td>\n",
       "      <td>726.659574</td>\n",
       "      <td>727.000000</td>\n",
       "      <td>727.640000</td>\n",
       "      <td>727.000000</td>\n",
       "      <td>1036.872340</td>\n",
       "      <td>1030.120000</td>\n",
       "      <td>1035.090909</td>\n",
       "      <td>1037.893617</td>\n",
       "      <td>...</td>\n",
       "      <td>2687.285714</td>\n",
       "      <td>2708.304348</td>\n",
       "      <td>2712.920000</td>\n",
       "      <td>2725.320000</td>\n",
       "      <td>2731.720000</td>\n",
       "      <td>2983.583333</td>\n",
       "      <td>2991.240000</td>\n",
       "      <td>2995.720000</td>\n",
       "      <td>2987.000000</td>\n",
       "      <td>2991.320000</td>\n",
       "    </tr>\n",
       "    <tr>\n",
       "      <th>41</th>\n",
       "      <td>73</td>\n",
       "      <td>768.760000</td>\n",
       "      <td>781.160000</td>\n",
       "      <td>771.320000</td>\n",
       "      <td>771.000000</td>\n",
       "      <td>771.880000</td>\n",
       "      <td>1057.800000</td>\n",
       "      <td>1069.240000</td>\n",
       "      <td>1057.480000</td>\n",
       "      <td>1057.480000</td>\n",
       "      <td>...</td>\n",
       "      <td>2735.000000</td>\n",
       "      <td>2745.560000</td>\n",
       "      <td>2760.787234</td>\n",
       "      <td>2760.600000</td>\n",
       "      <td>2733.933333</td>\n",
       "      <td>3029.720000</td>\n",
       "      <td>2884.040000</td>\n",
       "      <td>3028.833333</td>\n",
       "      <td>3029.000000</td>\n",
       "      <td>3030.040000</td>\n",
       "    </tr>\n",
       "    <tr>\n",
       "      <th>42</th>\n",
       "      <td>74</td>\n",
       "      <td>720.360000</td>\n",
       "      <td>720.523810</td>\n",
       "      <td>720.200000</td>\n",
       "      <td>719.800000</td>\n",
       "      <td>720.440000</td>\n",
       "      <td>1057.000000</td>\n",
       "      <td>1031.000000</td>\n",
       "      <td>1059.558140</td>\n",
       "      <td>1058.680000</td>\n",
       "      <td>...</td>\n",
       "      <td>2724.565217</td>\n",
       "      <td>2740.360000</td>\n",
       "      <td>2724.702128</td>\n",
       "      <td>2724.688889</td>\n",
       "      <td>2731.000000</td>\n",
       "      <td>3039.000000</td>\n",
       "      <td>3049.000000</td>\n",
       "      <td>3041.320000</td>\n",
       "      <td>3035.292683</td>\n",
       "      <td>3063.125000</td>\n",
       "    </tr>\n",
       "    <tr>\n",
       "      <th>43</th>\n",
       "      <td>75</td>\n",
       "      <td>787.000000</td>\n",
       "      <td>393.180000</td>\n",
       "      <td>392.620000</td>\n",
       "      <td>787.000000</td>\n",
       "      <td>787.000000</td>\n",
       "      <td>1043.000000</td>\n",
       "      <td>521.580000</td>\n",
       "      <td>521.900000</td>\n",
       "      <td>1043.000000</td>\n",
       "      <td>...</td>\n",
       "      <td>2697.160000</td>\n",
       "      <td>1349.020000</td>\n",
       "      <td>1348.700000</td>\n",
       "      <td>2697.560000</td>\n",
       "      <td>2697.080000</td>\n",
       "      <td>2983.000000</td>\n",
       "      <td>1490.220000</td>\n",
       "      <td>1490.540000</td>\n",
       "      <td>2981.880000</td>\n",
       "      <td>2981.800000</td>\n",
       "    </tr>\n",
       "  </tbody>\n",
       "</table>\n",
       "<p>44 rows × 46 columns</p>\n",
       "</div>"
      ],
      "text/plain": [
       "range_delay  Sensor ID  13_10000_middle  13_16800_middle  13_3000_middle  \\\n",
       "0                   32       765.626263       765.693878      765.640000   \n",
       "1                   33       755.000000       779.530612      736.640000   \n",
       "2                   34       665.680000       658.920000      675.989247   \n",
       "3                   35       861.640000       861.626263      804.320000   \n",
       "4                   36       743.520000       743.962025      743.360000   \n",
       "5                   37       739.808081       597.240000      739.727273   \n",
       "6                   38       752.320000       753.400000      752.720000   \n",
       "7                   39       865.989899       867.000000      867.000000   \n",
       "8                   40       738.200000       728.619048      728.960000   \n",
       "9                   41       721.840000       739.040000      721.960000   \n",
       "10                  42       710.146067       724.840000      709.891566   \n",
       "11                  43       719.000000       719.000000      719.000000   \n",
       "12                  44       699.400000       699.321839      699.280000   \n",
       "13                  45       746.120000       770.116883      745.960000   \n",
       "14                  46       715.000000       713.920000      715.000000   \n",
       "15                  47       700.696970       683.640000      687.520000   \n",
       "16                  48       736.360000       735.960000      736.680000   \n",
       "17                  49       731.851064       732.302326      709.755556   \n",
       "18                  50       719.720000       734.760000      719.000000   \n",
       "19                  51       755.000000       749.400000      756.280000   \n",
       "20                  52       752.363636       764.360000      776.360000   \n",
       "21                  53       775.000000       759.560000      775.640000   \n",
       "22                  54       744.304348       755.000000      745.040816   \n",
       "23                  55       754.120000       216.200000      754.183673   \n",
       "24                  56       725.857143       719.480000      708.280000   \n",
       "25                  57       734.565217       197.348837      734.600000   \n",
       "26                  58       725.800000       734.760000      727.000000   \n",
       "27                  59       724.565217       723.645161      723.960000   \n",
       "28                  60       746.280000       758.897436      734.833333   \n",
       "29                  61       720.360000     25000.520000      719.000000   \n",
       "30                  62       767.653061       767.720000      767.480000   \n",
       "31                  63       773.640000       773.260870      774.120000   \n",
       "32                  64       708.959184       452.510204      708.263158   \n",
       "33                  65       772.061224       787.960000      771.800000   \n",
       "34                  66       756.040000       755.000000      755.000000   \n",
       "35                  67       751.000000       749.808511      751.000000   \n",
       "36                  68       826.130435       837.080000      827.000000   \n",
       "37                  69       740.840000       727.880000      739.640000   \n",
       "38                  70       770.200000       781.320000      789.400000   \n",
       "39                  71       762.794872       771.880000      761.434783   \n",
       "40                  72       727.880000       726.659574      727.000000   \n",
       "41                  73       768.760000       781.160000      771.320000   \n",
       "42                  74       720.360000       720.523810      720.200000   \n",
       "43                  75       787.000000       393.180000      392.620000   \n",
       "\n",
       "range_delay  13_6000_middle  13_8000_middle  18_10000_middle  18_16800_middle  \\\n",
       "0                765.560000      766.120000      1057.280000       821.200000   \n",
       "1                779.275862      755.467532      1024.818182      1035.640000   \n",
       "2                653.682353      665.240000       969.480000       969.469136   \n",
       "3                861.840000      863.000000      1012.333333      1011.800000   \n",
       "4                743.680000      743.600000      1067.000000      1054.880000   \n",
       "5                739.760000      739.929293       975.646465       975.547368   \n",
       "6                753.280000      753.720000      1067.800000      1075.960000   \n",
       "7                865.600000      864.840000      1071.000000      1071.000000   \n",
       "8                728.880000      728.960000      1041.585859      1039.638298   \n",
       "9                721.682353      722.120000      1028.080000      1034.753086   \n",
       "10               716.240000      709.500000      1017.560000      1000.720000   \n",
       "11               719.000000      719.000000      1039.000000      1039.000000   \n",
       "12               699.560000      699.640000      1019.120000      1006.240000   \n",
       "13               745.909091      745.560000      1052.090909      1044.600000   \n",
       "14               715.000000      715.000000      1029.880000      1030.356322   \n",
       "15               700.640000      700.480000       964.292929       978.800000   \n",
       "16               736.040000      736.306122      1022.120000      1022.085714   \n",
       "17               709.604651      723.640000      1030.833333      1031.833333   \n",
       "18               719.000000      719.000000      1025.960000      1021.000000   \n",
       "19               756.200000      756.120000      1019.160000      1036.920000   \n",
       "20               770.360000      752.680000      1061.400000      1065.400000   \n",
       "21               774.920000      775.960000      1059.979592      1075.640000   \n",
       "22               744.551020      743.960000      1058.200000      1049.720000   \n",
       "23               755.000000      755.000000      1064.760000       141.100000   \n",
       "24               716.280000      719.160000      1024.200000      1006.600000   \n",
       "25               734.280000      734.440000      1050.920000      1039.720000   \n",
       "26               727.000000      726.200000      1037.480000      1036.473684   \n",
       "27               724.523810      724.130435      1019.400000      1023.960000   \n",
       "28               735.500000      735.320000      1049.480000      1049.594595   \n",
       "29               719.000000      719.720000      1017.000000        73.243902   \n",
       "30               767.000000      767.960000      1065.880000      1059.560000   \n",
       "31               774.600000      774.440000      1067.000000      1058.040000   \n",
       "32               709.080000      709.640000      1026.478261        79.909091   \n",
       "33               795.952381      787.560000      1087.279070      1086.894737   \n",
       "34               755.000000      755.960000      1050.040000      1070.760000   \n",
       "35               751.000000      751.000000      1057.400000      1057.612245   \n",
       "36               825.530612      827.000000      1132.840000      1147.083333   \n",
       "37               739.244898      740.200000      1021.960000      1019.160000   \n",
       "38               755.857143      756.809524      1090.520000      1061.400000   \n",
       "39               761.363636      761.400000      1069.638298      1069.800000   \n",
       "40               727.640000      727.000000      1036.872340      1030.120000   \n",
       "41               771.000000      771.880000      1057.800000      1069.240000   \n",
       "42               719.800000      720.440000      1057.000000      1031.000000   \n",
       "43               787.000000      787.000000      1043.000000       521.580000   \n",
       "\n",
       "range_delay  18_3000_middle  18_6000_middle  ...  48_10000_middle  \\\n",
       "0               1057.626263     1057.440000  ...      2765.200000   \n",
       "1               1024.777778     1025.720000  ...      2725.800000   \n",
       "2                969.520000      969.585859  ...      2641.160000   \n",
       "3               1012.720000     1012.240000  ...      2755.000000   \n",
       "4               1064.494949     1067.000000  ...      2770.083333   \n",
       "5                984.840000      975.757895  ...      2719.000000   \n",
       "6               1102.360000     1101.666667  ...      2725.666667   \n",
       "7               1071.000000     1071.000000  ...      2694.440000   \n",
       "8               1040.200000     1039.000000  ...      2763.000000   \n",
       "9               1037.382022     1010.946667  ...      2728.090909   \n",
       "10              1017.320000     1017.720000  ...      2707.320000   \n",
       "11              1038.858824     1039.000000  ...      2743.000000   \n",
       "12              1018.676768     1019.484848  ...      2713.717949   \n",
       "13              1052.160000     1052.292929  ...      2754.080000   \n",
       "14              1029.040000     1031.000000  ...      2741.238095   \n",
       "15               964.548387      964.142857  ...      2474.880000   \n",
       "16              1023.000000     1023.000000  ...      2716.360000   \n",
       "17              1033.240000     1033.367347  ...      2743.782609   \n",
       "18              1011.960000     1012.702128  ...      2758.179487   \n",
       "19              1019.400000     1019.000000  ...      2715.400000   \n",
       "20              1061.693878     1063.240000  ...      2766.920000   \n",
       "21              1060.040000     1059.880000  ...      2787.880000   \n",
       "22              1059.000000     1058.680000  ...      2747.833333   \n",
       "23              1036.551020     1063.816327  ...      2755.960000   \n",
       "24              1023.880000     1024.520000  ...      2721.960000   \n",
       "25              1050.680000     1050.360000  ...      2743.720000   \n",
       "26              1037.720000     1038.040000  ...      2725.160000   \n",
       "27              1010.794872     1022.280000  ...      2720.302326   \n",
       "28              1049.640000     1048.795918  ...      2740.280000   \n",
       "29              1011.408163     1011.000000  ...      2717.583333   \n",
       "30              1065.530612     1065.640000  ...      2742.040000   \n",
       "31              1067.000000     1065.400000  ...      2717.880000   \n",
       "32              1016.040000     1027.000000  ...      2713.448980   \n",
       "33              1087.956522     1088.531915  ...      2783.960000   \n",
       "34              1051.000000     1050.360000  ...      2733.000000   \n",
       "35              1059.000000     1057.720000  ...      2758.280000   \n",
       "36              1123.000000     1123.000000  ...      2805.320000   \n",
       "37              1020.120000     1031.842105  ...      2708.545455   \n",
       "38              1089.640000     1089.320000  ...      2755.000000   \n",
       "39              1071.000000     1071.000000  ...      2751.476190   \n",
       "40              1035.090909     1037.893617  ...      2687.285714   \n",
       "41              1057.480000     1057.480000  ...      2735.000000   \n",
       "42              1059.558140     1058.680000  ...      2724.565217   \n",
       "43               521.900000     1043.000000  ...      2697.160000   \n",
       "\n",
       "range_delay  48_16800_middle  48_3000_middle  48_6000_middle  48_8000_middle  \\\n",
       "0                2771.200000     2765.315789     2765.520000     2765.160000   \n",
       "1                2726.920000     2739.000000     2729.600000     2729.040000   \n",
       "2                2640.979798     2643.360000     2642.040000     2641.480000   \n",
       "3                2777.813187     2755.000000     2777.595745     2755.418605   \n",
       "4                2753.960000     2763.160000     2754.680000     2769.608696   \n",
       "5                 323.106667     2719.000000     2719.186047     2719.525253   \n",
       "6                2719.808511     2718.320000     2719.240000     2725.461538   \n",
       "7                2695.134831     2695.000000     2695.000000     2695.000000   \n",
       "8                2739.000000     2762.789474     2751.808989     2762.951220   \n",
       "9                2730.440000     2736.160000     2728.241379     2728.118280   \n",
       "10               2699.280000     2700.661538     2707.240000     2709.440000   \n",
       "11               2746.727273     2747.000000     2743.948454     2747.000000   \n",
       "12               2725.520000     2713.851064     2713.772727     2713.580645   \n",
       "13               2765.560000     2753.694737     2754.360000     2754.200000   \n",
       "14               2754.120000     2747.960000     2741.439024     2741.173913   \n",
       "15               1465.432990     1684.462366     2472.760000     2481.734694   \n",
       "16               2727.560000     2711.000000     2722.120000     2723.400000   \n",
       "17               2735.720000     2725.560000     2731.240000     2743.800000   \n",
       "18               2763.750000     2772.680000     2757.048780     2757.461538   \n",
       "19               2696.191489     2739.100000     2738.909091     2716.157895   \n",
       "20               2776.368421     2751.000000     2775.800000     2753.666667   \n",
       "21               2773.625000     2764.120000     2783.800000     2775.097561   \n",
       "22               2734.920000     2748.900000     2748.469388     2749.311111   \n",
       "23               2731.880000     2745.173913     2745.400000     2745.640000   \n",
       "24               2704.840000     2709.358974     2726.120000     2726.040000   \n",
       "25               2735.640000     2748.120000     2749.080000     2748.600000   \n",
       "26               2667.960000     2725.530612     2726.020408     2718.760000   \n",
       "27               2724.680000     2728.040000     2729.800000     2743.210526   \n",
       "28               2754.600000     2744.760000     2734.333333     2733.380952   \n",
       "29               2715.880000     2717.974359     2717.640000     2717.833333   \n",
       "30               2731.720000     2717.800000     2743.000000     2743.000000   \n",
       "31               2717.315789     2717.500000     2717.978723     2717.612245   \n",
       "32               2706.920000     2700.840000     2713.325581     2713.285714   \n",
       "33               2782.920000     2769.871795     2779.240000     2770.794872   \n",
       "34               2737.240000     2732.818182     2733.204082     2733.204082   \n",
       "35               2718.520000     2768.106383     2765.000000     2751.480000   \n",
       "36               2815.240000     2822.440000     2818.840000     2805.800000   \n",
       "37               2602.217391     2708.600000     2708.478261     2709.347826   \n",
       "38               2648.680000     2755.000000     2753.960000     2755.000000   \n",
       "39               2738.840000     2742.360000     2748.756098     2748.756098   \n",
       "40               2708.304348     2712.920000     2725.320000     2731.720000   \n",
       "41               2745.560000     2760.787234     2760.600000     2733.933333   \n",
       "42               2740.360000     2724.702128     2724.688889     2731.000000   \n",
       "43               1349.020000     1348.700000     2697.560000     2697.080000   \n",
       "\n",
       "range_delay  53_10000_middle  53_16800_middle  53_3000_middle  53_6000_middle  \\\n",
       "0                3090.111111      3088.120000     3090.480000     3089.560000   \n",
       "1                3040.480000      3016.896907     3042.000000     3047.571429   \n",
       "2                2941.040000      2940.920000     2944.301205     2939.960000   \n",
       "3                3014.760000      3015.720000     3029.800000     3029.813187   \n",
       "4                3085.712644      3077.440000     3043.560000     3047.903226   \n",
       "5                3047.848485       383.789474     3019.000000     3018.172414   \n",
       "6                3053.595745      3035.280000     3014.182796     3014.000000   \n",
       "7                2991.000000      2991.512821     2991.000000     2995.742268   \n",
       "8                3027.680000      3031.000000     3040.440000     3009.368421   \n",
       "9                3028.217391      3018.840000     3027.000000     3027.000000   \n",
       "10               3027.000000      2773.989011     2996.560000     2999.571429   \n",
       "11               3042.492958      3030.480000     3041.773333     3042.222222   \n",
       "12               3027.480000      3001.320000     3024.200000     3017.481013   \n",
       "13               3048.840000      3041.880000     3043.960000     3048.960000   \n",
       "14               3041.303030      3026.800000     3018.695652     3041.305882   \n",
       "15               2516.918367      1797.122449     2073.280000     2435.775510   \n",
       "16               3017.000000      3025.869565     3020.440000     3018.840000   \n",
       "17               3050.280000      3059.000000     3059.521739     3060.435897   \n",
       "18               3056.920000      3049.285714     3046.200000     3053.909091   \n",
       "19               3042.920000      2985.160000      324.760000     3045.880000   \n",
       "20               3084.760000      3085.166667      331.685714     1937.720000   \n",
       "21               3066.135135      3062.288889     3065.727273     3041.720000   \n",
       "22               3042.040000      3052.120000     3044.680000     3035.400000   \n",
       "23               3037.400000      1129.000000     3035.000000     3035.000000   \n",
       "24               3038.040000      3036.280000     3013.560000     3035.640000   \n",
       "25               3033.100000      3011.240000     3042.040000     3038.680000   \n",
       "26               3040.025641      2942.404255     3049.240000     3040.272727   \n",
       "27               3030.840000      3036.120000     3034.040000     3033.400000   \n",
       "28               3029.272727      3044.714286     3046.600000     3030.083333   \n",
       "29               3014.000000      2889.320000     3020.920000     3008.920000   \n",
       "30               3040.680000      3032.520000     3041.000000     3040.840000   \n",
       "31               3034.578947      3049.358974     3031.000000     1326.840000   \n",
       "32               3019.240000      2753.000000     3027.300000     3010.280000   \n",
       "33               3100.360000      3080.750000     3101.810811     3090.534884   \n",
       "34               3065.480000      3038.760000     3031.000000     3031.000000   \n",
       "35               3057.320000      3057.909091     3051.720000     3051.960000   \n",
       "36               3146.789474      3122.052632     3128.280000     3121.000000   \n",
       "37               3027.000000      2916.120000      437.080000     3036.920000   \n",
       "38               3043.720000      2954.440000     3039.000000     1295.320000   \n",
       "39               3055.163265      3066.520000     3068.951220     3061.160000   \n",
       "40               2983.583333      2991.240000     2995.720000     2987.000000   \n",
       "41               3029.720000      2884.040000     3028.833333     3029.000000   \n",
       "42               3039.000000      3049.000000     3041.320000     3035.292683   \n",
       "43               2983.000000      1490.220000     1490.540000     2981.880000   \n",
       "\n",
       "range_delay  53_8000_middle  \n",
       "0               3090.000000  \n",
       "1               3049.026667  \n",
       "2               2948.090909  \n",
       "3               3017.120000  \n",
       "4               1856.680000  \n",
       "5                405.590909  \n",
       "6                421.808511  \n",
       "7               2991.000000  \n",
       "8               3023.600000  \n",
       "9               3028.113924  \n",
       "10               395.337349  \n",
       "11              3043.044944  \n",
       "12              3027.920000  \n",
       "13              3048.760000  \n",
       "14              3041.577778  \n",
       "15              2492.896907  \n",
       "16              3023.880000  \n",
       "17              3059.923077  \n",
       "18              3047.720000  \n",
       "19              3040.760000  \n",
       "20              3083.880000  \n",
       "21              3040.760000  \n",
       "22              3034.578947  \n",
       "23              3035.000000  \n",
       "24              3037.160000  \n",
       "25              3041.000000  \n",
       "26              3040.523810  \n",
       "27              3034.200000  \n",
       "28              3029.040816  \n",
       "29              3021.000000  \n",
       "30              3040.920000  \n",
       "31              3035.000000  \n",
       "32              3019.240000  \n",
       "33              3090.659574  \n",
       "34              3048.750000  \n",
       "35              3075.320000  \n",
       "36              3133.560000  \n",
       "37              3027.000000  \n",
       "38              3042.040000  \n",
       "39              3060.280000  \n",
       "40              2991.320000  \n",
       "41              3030.040000  \n",
       "42              3063.125000  \n",
       "43              2981.800000  \n",
       "\n",
       "[44 rows x 46 columns]"
      ]
     },
     "execution_count": 21,
     "metadata": {},
     "output_type": "execute_result"
    }
   ],
   "source": [
    "create_range_delay_feature(df_middle_quartile,\"middle\")"
   ]
  },
  {
   "cell_type": "code",
   "execution_count": 24,
   "metadata": {},
   "outputs": [],
   "source": [
    "def feature_engineering_quartile_means(df):\n",
    "    df_middle_quartile, df_lower_quartile, df_upper_quartile = split_quartiles(df)\n",
    "    df_range_delay_middle = create_range_delay_feature(df_middle_quartile,\"middle\")\n",
    "    df_range_delay_lower = create_range_delay_feature(df_lower_quartile,\"lower\")\n",
    "    df_range_delay_upper = create_range_delay_feature(df_upper_quartile,\"upper\")\n",
    "\n",
    "    # List of DataFrames\n",
    "    df_pivots = [df_range_delay_middle, df_range_delay_lower, df_range_delay_upper]\n",
    "\n",
    "    # Initialize the merged DataFrame with the first DataFrame in the list\n",
    "    df_range_delay_all = df_pivots[0]\n",
    "\n",
    "    # Iteratively merge each DataFrame in the list\n",
    "    for df in df_pivots[1:]:\n",
    "        df_range_delay_all = df_range_delay_all.merge(df, on='Sensor ID')\n",
    "        \n",
    "    # Replace all NaN values with 0 in the merged DataFrame\n",
    "    df_range_delay_all.fillna(0, inplace=True)\n",
    "\n",
    "    return df_range_delay_all, df_range_delay_middle, df_range_delay_lower,df_range_delay_upper\n",
    "    \n",
    "\n",
    "df_range_delay_all,df_range_delay_middle, df_range_delay_lower,df_range_delay_upper = feature_engineering_quartile_means(df_data_v4_1_1)\n"
   ]
  },
  {
   "cell_type": "markdown",
   "metadata": {},
   "source": [
    "The product is following now we will be conducting PCA method to reduce dimensionality"
   ]
  },
  {
   "cell_type": "code",
   "execution_count": 25,
   "metadata": {},
   "outputs": [
    {
     "data": {
      "text/html": [
       "<div>\n",
       "<style scoped>\n",
       "    .dataframe tbody tr th:only-of-type {\n",
       "        vertical-align: middle;\n",
       "    }\n",
       "\n",
       "    .dataframe tbody tr th {\n",
       "        vertical-align: top;\n",
       "    }\n",
       "\n",
       "    .dataframe thead th {\n",
       "        text-align: right;\n",
       "    }\n",
       "</style>\n",
       "<table border=\"1\" class=\"dataframe\">\n",
       "  <thead>\n",
       "    <tr style=\"text-align: right;\">\n",
       "      <th>range_delay</th>\n",
       "      <th>Sensor ID</th>\n",
       "      <th>13_10000_middle</th>\n",
       "      <th>13_16800_middle</th>\n",
       "      <th>13_3000_middle</th>\n",
       "      <th>13_6000_middle</th>\n",
       "      <th>13_8000_middle</th>\n",
       "      <th>18_10000_middle</th>\n",
       "      <th>18_16800_middle</th>\n",
       "      <th>18_3000_middle</th>\n",
       "      <th>18_6000_middle</th>\n",
       "      <th>...</th>\n",
       "      <th>48_10000_upper</th>\n",
       "      <th>48_16800_upper</th>\n",
       "      <th>48_3000_upper</th>\n",
       "      <th>48_6000_upper</th>\n",
       "      <th>48_8000_upper</th>\n",
       "      <th>53_10000_upper</th>\n",
       "      <th>53_16800_upper</th>\n",
       "      <th>53_3000_upper</th>\n",
       "      <th>53_6000_upper</th>\n",
       "      <th>53_8000_upper</th>\n",
       "    </tr>\n",
       "  </thead>\n",
       "  <tbody>\n",
       "    <tr>\n",
       "      <th>0</th>\n",
       "      <td>32</td>\n",
       "      <td>765.626263</td>\n",
       "      <td>765.693878</td>\n",
       "      <td>765.640000</td>\n",
       "      <td>765.560000</td>\n",
       "      <td>766.120000</td>\n",
       "      <td>1057.280000</td>\n",
       "      <td>821.200000</td>\n",
       "      <td>1057.626263</td>\n",
       "      <td>1057.440000</td>\n",
       "      <td>...</td>\n",
       "      <td>0.000000</td>\n",
       "      <td>0.000000</td>\n",
       "      <td>2787.833333</td>\n",
       "      <td>0.000000</td>\n",
       "      <td>0.000000</td>\n",
       "      <td>3099.000000</td>\n",
       "      <td>0.000000</td>\n",
       "      <td>0.000000</td>\n",
       "      <td>0.000000</td>\n",
       "      <td>0.000000</td>\n",
       "    </tr>\n",
       "    <tr>\n",
       "      <th>1</th>\n",
       "      <td>33</td>\n",
       "      <td>755.000000</td>\n",
       "      <td>779.530612</td>\n",
       "      <td>736.640000</td>\n",
       "      <td>779.275862</td>\n",
       "      <td>755.467532</td>\n",
       "      <td>1024.818182</td>\n",
       "      <td>1035.640000</td>\n",
       "      <td>1024.777778</td>\n",
       "      <td>1025.720000</td>\n",
       "      <td>...</td>\n",
       "      <td>0.000000</td>\n",
       "      <td>0.000000</td>\n",
       "      <td>2740.037037</td>\n",
       "      <td>0.000000</td>\n",
       "      <td>0.000000</td>\n",
       "      <td>0.000000</td>\n",
       "      <td>3073.666667</td>\n",
       "      <td>0.000000</td>\n",
       "      <td>3073.400000</td>\n",
       "      <td>3074.000000</td>\n",
       "    </tr>\n",
       "    <tr>\n",
       "      <th>2</th>\n",
       "      <td>34</td>\n",
       "      <td>665.680000</td>\n",
       "      <td>658.920000</td>\n",
       "      <td>675.989247</td>\n",
       "      <td>653.682353</td>\n",
       "      <td>665.240000</td>\n",
       "      <td>969.480000</td>\n",
       "      <td>969.469136</td>\n",
       "      <td>969.520000</td>\n",
       "      <td>969.585859</td>\n",
       "      <td>...</td>\n",
       "      <td>0.000000</td>\n",
       "      <td>0.000000</td>\n",
       "      <td>0.000000</td>\n",
       "      <td>0.000000</td>\n",
       "      <td>0.000000</td>\n",
       "      <td>0.000000</td>\n",
       "      <td>0.000000</td>\n",
       "      <td>0.000000</td>\n",
       "      <td>0.000000</td>\n",
       "      <td>0.000000</td>\n",
       "    </tr>\n",
       "    <tr>\n",
       "      <th>3</th>\n",
       "      <td>35</td>\n",
       "      <td>861.640000</td>\n",
       "      <td>861.626263</td>\n",
       "      <td>804.320000</td>\n",
       "      <td>861.840000</td>\n",
       "      <td>863.000000</td>\n",
       "      <td>1012.333333</td>\n",
       "      <td>1011.800000</td>\n",
       "      <td>1012.720000</td>\n",
       "      <td>1012.240000</td>\n",
       "      <td>...</td>\n",
       "      <td>2758.652174</td>\n",
       "      <td>0.000000</td>\n",
       "      <td>2756.839080</td>\n",
       "      <td>0.000000</td>\n",
       "      <td>2778.428571</td>\n",
       "      <td>0.000000</td>\n",
       "      <td>0.000000</td>\n",
       "      <td>0.000000</td>\n",
       "      <td>0.000000</td>\n",
       "      <td>0.000000</td>\n",
       "    </tr>\n",
       "    <tr>\n",
       "      <th>4</th>\n",
       "      <td>36</td>\n",
       "      <td>743.520000</td>\n",
       "      <td>743.962025</td>\n",
       "      <td>743.360000</td>\n",
       "      <td>743.680000</td>\n",
       "      <td>743.600000</td>\n",
       "      <td>1067.000000</td>\n",
       "      <td>1054.880000</td>\n",
       "      <td>1064.494949</td>\n",
       "      <td>1067.000000</td>\n",
       "      <td>...</td>\n",
       "      <td>2779.000000</td>\n",
       "      <td>0.000000</td>\n",
       "      <td>0.000000</td>\n",
       "      <td>0.000000</td>\n",
       "      <td>0.000000</td>\n",
       "      <td>3113.000000</td>\n",
       "      <td>0.000000</td>\n",
       "      <td>0.000000</td>\n",
       "      <td>0.000000</td>\n",
       "      <td>0.000000</td>\n",
       "    </tr>\n",
       "    <tr>\n",
       "      <th>5</th>\n",
       "      <td>37</td>\n",
       "      <td>739.808081</td>\n",
       "      <td>597.240000</td>\n",
       "      <td>739.727273</td>\n",
       "      <td>739.760000</td>\n",
       "      <td>739.929293</td>\n",
       "      <td>975.646465</td>\n",
       "      <td>975.547368</td>\n",
       "      <td>984.840000</td>\n",
       "      <td>975.757895</td>\n",
       "      <td>...</td>\n",
       "      <td>2720.523810</td>\n",
       "      <td>2679.000000</td>\n",
       "      <td>2720.063291</td>\n",
       "      <td>2743.285714</td>\n",
       "      <td>2743.000000</td>\n",
       "      <td>3075.000000</td>\n",
       "      <td>3046.666667</td>\n",
       "      <td>3020.100000</td>\n",
       "      <td>3041.153846</td>\n",
       "      <td>2241.333333</td>\n",
       "    </tr>\n",
       "    <tr>\n",
       "      <th>6</th>\n",
       "      <td>38</td>\n",
       "      <td>752.320000</td>\n",
       "      <td>753.400000</td>\n",
       "      <td>752.720000</td>\n",
       "      <td>753.280000</td>\n",
       "      <td>753.720000</td>\n",
       "      <td>1067.800000</td>\n",
       "      <td>1075.960000</td>\n",
       "      <td>1102.360000</td>\n",
       "      <td>1101.666667</td>\n",
       "      <td>...</td>\n",
       "      <td>0.000000</td>\n",
       "      <td>0.000000</td>\n",
       "      <td>0.000000</td>\n",
       "      <td>0.000000</td>\n",
       "      <td>0.000000</td>\n",
       "      <td>3063.000000</td>\n",
       "      <td>0.000000</td>\n",
       "      <td>0.000000</td>\n",
       "      <td>0.000000</td>\n",
       "      <td>1862.333333</td>\n",
       "    </tr>\n",
       "    <tr>\n",
       "      <th>7</th>\n",
       "      <td>39</td>\n",
       "      <td>865.989899</td>\n",
       "      <td>867.000000</td>\n",
       "      <td>867.000000</td>\n",
       "      <td>865.600000</td>\n",
       "      <td>864.840000</td>\n",
       "      <td>1071.000000</td>\n",
       "      <td>1071.000000</td>\n",
       "      <td>1071.000000</td>\n",
       "      <td>1071.000000</td>\n",
       "      <td>...</td>\n",
       "      <td>0.000000</td>\n",
       "      <td>2719.727273</td>\n",
       "      <td>2696.185185</td>\n",
       "      <td>2696.234568</td>\n",
       "      <td>2695.911392</td>\n",
       "      <td>2994.340206</td>\n",
       "      <td>3023.000000</td>\n",
       "      <td>2991.775510</td>\n",
       "      <td>3023.000000</td>\n",
       "      <td>2993.408163</td>\n",
       "    </tr>\n",
       "    <tr>\n",
       "      <th>8</th>\n",
       "      <td>40</td>\n",
       "      <td>738.200000</td>\n",
       "      <td>728.619048</td>\n",
       "      <td>728.960000</td>\n",
       "      <td>728.880000</td>\n",
       "      <td>728.960000</td>\n",
       "      <td>1041.585859</td>\n",
       "      <td>1039.638298</td>\n",
       "      <td>1040.200000</td>\n",
       "      <td>1039.000000</td>\n",
       "      <td>...</td>\n",
       "      <td>2763.769231</td>\n",
       "      <td>2739.987654</td>\n",
       "      <td>0.000000</td>\n",
       "      <td>0.000000</td>\n",
       "      <td>2771.000000</td>\n",
       "      <td>0.000000</td>\n",
       "      <td>3051.640000</td>\n",
       "      <td>0.000000</td>\n",
       "      <td>3050.333333</td>\n",
       "      <td>0.000000</td>\n",
       "    </tr>\n",
       "    <tr>\n",
       "      <th>9</th>\n",
       "      <td>41</td>\n",
       "      <td>721.840000</td>\n",
       "      <td>739.040000</td>\n",
       "      <td>721.960000</td>\n",
       "      <td>721.682353</td>\n",
       "      <td>722.120000</td>\n",
       "      <td>1028.080000</td>\n",
       "      <td>1034.753086</td>\n",
       "      <td>1037.382022</td>\n",
       "      <td>1010.946667</td>\n",
       "      <td>...</td>\n",
       "      <td>2753.782609</td>\n",
       "      <td>0.000000</td>\n",
       "      <td>0.000000</td>\n",
       "      <td>2753.153846</td>\n",
       "      <td>2752.714286</td>\n",
       "      <td>3053.000000</td>\n",
       "      <td>0.000000</td>\n",
       "      <td>3033.097561</td>\n",
       "      <td>3029.168675</td>\n",
       "      <td>3053.476190</td>\n",
       "    </tr>\n",
       "    <tr>\n",
       "      <th>10</th>\n",
       "      <td>42</td>\n",
       "      <td>710.146067</td>\n",
       "      <td>724.840000</td>\n",
       "      <td>709.891566</td>\n",
       "      <td>716.240000</td>\n",
       "      <td>709.500000</td>\n",
       "      <td>1017.560000</td>\n",
       "      <td>1000.720000</td>\n",
       "      <td>1017.320000</td>\n",
       "      <td>1017.720000</td>\n",
       "      <td>...</td>\n",
       "      <td>0.000000</td>\n",
       "      <td>0.000000</td>\n",
       "      <td>2724.473684</td>\n",
       "      <td>0.000000</td>\n",
       "      <td>0.000000</td>\n",
       "      <td>3032.105263</td>\n",
       "      <td>2963.000000</td>\n",
       "      <td>0.000000</td>\n",
       "      <td>3023.222222</td>\n",
       "      <td>2938.529412</td>\n",
       "    </tr>\n",
       "    <tr>\n",
       "      <th>11</th>\n",
       "      <td>43</td>\n",
       "      <td>719.000000</td>\n",
       "      <td>719.000000</td>\n",
       "      <td>719.000000</td>\n",
       "      <td>719.000000</td>\n",
       "      <td>719.000000</td>\n",
       "      <td>1039.000000</td>\n",
       "      <td>1039.000000</td>\n",
       "      <td>1038.858824</td>\n",
       "      <td>1039.000000</td>\n",
       "      <td>...</td>\n",
       "      <td>2744.105263</td>\n",
       "      <td>0.000000</td>\n",
       "      <td>2747.831169</td>\n",
       "      <td>0.000000</td>\n",
       "      <td>2747.883117</td>\n",
       "      <td>3051.000000</td>\n",
       "      <td>0.000000</td>\n",
       "      <td>3051.000000</td>\n",
       "      <td>3052.000000</td>\n",
       "      <td>0.000000</td>\n",
       "    </tr>\n",
       "    <tr>\n",
       "      <th>12</th>\n",
       "      <td>44</td>\n",
       "      <td>699.400000</td>\n",
       "      <td>699.321839</td>\n",
       "      <td>699.280000</td>\n",
       "      <td>699.560000</td>\n",
       "      <td>699.640000</td>\n",
       "      <td>1019.120000</td>\n",
       "      <td>1006.240000</td>\n",
       "      <td>1018.676768</td>\n",
       "      <td>1019.484848</td>\n",
       "      <td>...</td>\n",
       "      <td>2736.636364</td>\n",
       "      <td>0.000000</td>\n",
       "      <td>2735.000000</td>\n",
       "      <td>2736.200000</td>\n",
       "      <td>2739.571429</td>\n",
       "      <td>0.000000</td>\n",
       "      <td>0.000000</td>\n",
       "      <td>0.000000</td>\n",
       "      <td>3040.714286</td>\n",
       "      <td>0.000000</td>\n",
       "    </tr>\n",
       "    <tr>\n",
       "      <th>13</th>\n",
       "      <td>45</td>\n",
       "      <td>746.120000</td>\n",
       "      <td>770.116883</td>\n",
       "      <td>745.960000</td>\n",
       "      <td>745.909091</td>\n",
       "      <td>745.560000</td>\n",
       "      <td>1052.090909</td>\n",
       "      <td>1044.600000</td>\n",
       "      <td>1052.160000</td>\n",
       "      <td>1052.292929</td>\n",
       "      <td>...</td>\n",
       "      <td>0.000000</td>\n",
       "      <td>0.000000</td>\n",
       "      <td>2777.400000</td>\n",
       "      <td>0.000000</td>\n",
       "      <td>0.000000</td>\n",
       "      <td>0.000000</td>\n",
       "      <td>0.000000</td>\n",
       "      <td>0.000000</td>\n",
       "      <td>0.000000</td>\n",
       "      <td>0.000000</td>\n",
       "    </tr>\n",
       "    <tr>\n",
       "      <th>14</th>\n",
       "      <td>46</td>\n",
       "      <td>715.000000</td>\n",
       "      <td>713.920000</td>\n",
       "      <td>715.000000</td>\n",
       "      <td>715.000000</td>\n",
       "      <td>715.000000</td>\n",
       "      <td>1029.880000</td>\n",
       "      <td>1030.356322</td>\n",
       "      <td>1029.040000</td>\n",
       "      <td>1031.000000</td>\n",
       "      <td>...</td>\n",
       "      <td>2767.000000</td>\n",
       "      <td>0.000000</td>\n",
       "      <td>0.000000</td>\n",
       "      <td>2765.222222</td>\n",
       "      <td>2766.200000</td>\n",
       "      <td>3051.000000</td>\n",
       "      <td>0.000000</td>\n",
       "      <td>3042.500000</td>\n",
       "      <td>0.000000</td>\n",
       "      <td>0.000000</td>\n",
       "    </tr>\n",
       "    <tr>\n",
       "      <th>15</th>\n",
       "      <td>47</td>\n",
       "      <td>700.696970</td>\n",
       "      <td>683.640000</td>\n",
       "      <td>687.520000</td>\n",
       "      <td>700.640000</td>\n",
       "      <td>700.480000</td>\n",
       "      <td>964.292929</td>\n",
       "      <td>978.800000</td>\n",
       "      <td>964.548387</td>\n",
       "      <td>964.142857</td>\n",
       "      <td>...</td>\n",
       "      <td>0.000000</td>\n",
       "      <td>2413.000000</td>\n",
       "      <td>2330.428571</td>\n",
       "      <td>0.000000</td>\n",
       "      <td>0.000000</td>\n",
       "      <td>0.000000</td>\n",
       "      <td>2495.000000</td>\n",
       "      <td>0.000000</td>\n",
       "      <td>2507.000000</td>\n",
       "      <td>0.000000</td>\n",
       "    </tr>\n",
       "    <tr>\n",
       "      <th>16</th>\n",
       "      <td>48</td>\n",
       "      <td>736.360000</td>\n",
       "      <td>735.960000</td>\n",
       "      <td>736.680000</td>\n",
       "      <td>736.040000</td>\n",
       "      <td>736.306122</td>\n",
       "      <td>1022.120000</td>\n",
       "      <td>1022.085714</td>\n",
       "      <td>1023.000000</td>\n",
       "      <td>1023.000000</td>\n",
       "      <td>...</td>\n",
       "      <td>0.000000</td>\n",
       "      <td>0.000000</td>\n",
       "      <td>2735.400000</td>\n",
       "      <td>0.000000</td>\n",
       "      <td>0.000000</td>\n",
       "      <td>0.000000</td>\n",
       "      <td>0.000000</td>\n",
       "      <td>0.000000</td>\n",
       "      <td>0.000000</td>\n",
       "      <td>0.000000</td>\n",
       "    </tr>\n",
       "    <tr>\n",
       "      <th>17</th>\n",
       "      <td>49</td>\n",
       "      <td>731.851064</td>\n",
       "      <td>732.302326</td>\n",
       "      <td>709.755556</td>\n",
       "      <td>709.604651</td>\n",
       "      <td>723.640000</td>\n",
       "      <td>1030.833333</td>\n",
       "      <td>1031.833333</td>\n",
       "      <td>1033.240000</td>\n",
       "      <td>1033.367347</td>\n",
       "      <td>...</td>\n",
       "      <td>0.000000</td>\n",
       "      <td>0.000000</td>\n",
       "      <td>0.000000</td>\n",
       "      <td>0.000000</td>\n",
       "      <td>0.000000</td>\n",
       "      <td>0.000000</td>\n",
       "      <td>0.000000</td>\n",
       "      <td>0.000000</td>\n",
       "      <td>0.000000</td>\n",
       "      <td>0.000000</td>\n",
       "    </tr>\n",
       "    <tr>\n",
       "      <th>18</th>\n",
       "      <td>50</td>\n",
       "      <td>719.720000</td>\n",
       "      <td>734.760000</td>\n",
       "      <td>719.000000</td>\n",
       "      <td>719.000000</td>\n",
       "      <td>719.000000</td>\n",
       "      <td>1025.960000</td>\n",
       "      <td>1021.000000</td>\n",
       "      <td>1011.960000</td>\n",
       "      <td>1012.702128</td>\n",
       "      <td>...</td>\n",
       "      <td>2788.090909</td>\n",
       "      <td>2807.000000</td>\n",
       "      <td>0.000000</td>\n",
       "      <td>2793.222222</td>\n",
       "      <td>2800.454545</td>\n",
       "      <td>0.000000</td>\n",
       "      <td>3107.000000</td>\n",
       "      <td>0.000000</td>\n",
       "      <td>3076.714286</td>\n",
       "      <td>0.000000</td>\n",
       "    </tr>\n",
       "    <tr>\n",
       "      <th>19</th>\n",
       "      <td>51</td>\n",
       "      <td>755.000000</td>\n",
       "      <td>749.400000</td>\n",
       "      <td>756.280000</td>\n",
       "      <td>756.200000</td>\n",
       "      <td>756.120000</td>\n",
       "      <td>1019.160000</td>\n",
       "      <td>1036.920000</td>\n",
       "      <td>1019.400000</td>\n",
       "      <td>1019.000000</td>\n",
       "      <td>...</td>\n",
       "      <td>2739.800000</td>\n",
       "      <td>0.000000</td>\n",
       "      <td>2747.000000</td>\n",
       "      <td>0.000000</td>\n",
       "      <td>2739.000000</td>\n",
       "      <td>0.000000</td>\n",
       "      <td>0.000000</td>\n",
       "      <td>0.000000</td>\n",
       "      <td>0.000000</td>\n",
       "      <td>0.000000</td>\n",
       "    </tr>\n",
       "    <tr>\n",
       "      <th>20</th>\n",
       "      <td>52</td>\n",
       "      <td>752.363636</td>\n",
       "      <td>764.360000</td>\n",
       "      <td>776.360000</td>\n",
       "      <td>770.360000</td>\n",
       "      <td>752.680000</td>\n",
       "      <td>1061.400000</td>\n",
       "      <td>1065.400000</td>\n",
       "      <td>1061.693878</td>\n",
       "      <td>1063.240000</td>\n",
       "      <td>...</td>\n",
       "      <td>0.000000</td>\n",
       "      <td>0.000000</td>\n",
       "      <td>2753.046512</td>\n",
       "      <td>2801.666667</td>\n",
       "      <td>2777.333333</td>\n",
       "      <td>0.000000</td>\n",
       "      <td>0.000000</td>\n",
       "      <td>355.000000</td>\n",
       "      <td>0.000000</td>\n",
       "      <td>0.000000</td>\n",
       "    </tr>\n",
       "    <tr>\n",
       "      <th>21</th>\n",
       "      <td>53</td>\n",
       "      <td>775.000000</td>\n",
       "      <td>759.560000</td>\n",
       "      <td>775.640000</td>\n",
       "      <td>774.920000</td>\n",
       "      <td>775.960000</td>\n",
       "      <td>1059.979592</td>\n",
       "      <td>1075.640000</td>\n",
       "      <td>1060.040000</td>\n",
       "      <td>1059.880000</td>\n",
       "      <td>...</td>\n",
       "      <td>0.000000</td>\n",
       "      <td>2799.400000</td>\n",
       "      <td>0.000000</td>\n",
       "      <td>0.000000</td>\n",
       "      <td>2800.333333</td>\n",
       "      <td>3090.200000</td>\n",
       "      <td>3085.666667</td>\n",
       "      <td>0.000000</td>\n",
       "      <td>0.000000</td>\n",
       "      <td>0.000000</td>\n",
       "    </tr>\n",
       "    <tr>\n",
       "      <th>22</th>\n",
       "      <td>54</td>\n",
       "      <td>744.304348</td>\n",
       "      <td>755.000000</td>\n",
       "      <td>745.040816</td>\n",
       "      <td>744.551020</td>\n",
       "      <td>743.960000</td>\n",
       "      <td>1058.200000</td>\n",
       "      <td>1049.720000</td>\n",
       "      <td>1059.000000</td>\n",
       "      <td>1058.680000</td>\n",
       "      <td>...</td>\n",
       "      <td>2773.000000</td>\n",
       "      <td>0.000000</td>\n",
       "      <td>2773.400000</td>\n",
       "      <td>2775.000000</td>\n",
       "      <td>2773.400000</td>\n",
       "      <td>0.000000</td>\n",
       "      <td>0.000000</td>\n",
       "      <td>0.000000</td>\n",
       "      <td>3060.600000</td>\n",
       "      <td>3061.333333</td>\n",
       "    </tr>\n",
       "    <tr>\n",
       "      <th>23</th>\n",
       "      <td>55</td>\n",
       "      <td>754.120000</td>\n",
       "      <td>216.200000</td>\n",
       "      <td>754.183673</td>\n",
       "      <td>755.000000</td>\n",
       "      <td>755.000000</td>\n",
       "      <td>1064.760000</td>\n",
       "      <td>141.100000</td>\n",
       "      <td>1036.551020</td>\n",
       "      <td>1063.816327</td>\n",
       "      <td>...</td>\n",
       "      <td>0.000000</td>\n",
       "      <td>0.000000</td>\n",
       "      <td>0.000000</td>\n",
       "      <td>0.000000</td>\n",
       "      <td>0.000000</td>\n",
       "      <td>3061.000000</td>\n",
       "      <td>1663.666667</td>\n",
       "      <td>3037.380952</td>\n",
       "      <td>3035.476190</td>\n",
       "      <td>3035.666667</td>\n",
       "    </tr>\n",
       "    <tr>\n",
       "      <th>24</th>\n",
       "      <td>56</td>\n",
       "      <td>725.857143</td>\n",
       "      <td>719.480000</td>\n",
       "      <td>708.280000</td>\n",
       "      <td>716.280000</td>\n",
       "      <td>719.160000</td>\n",
       "      <td>1024.200000</td>\n",
       "      <td>1006.600000</td>\n",
       "      <td>1023.880000</td>\n",
       "      <td>1024.520000</td>\n",
       "      <td>...</td>\n",
       "      <td>0.000000</td>\n",
       "      <td>0.000000</td>\n",
       "      <td>2732.090909</td>\n",
       "      <td>0.000000</td>\n",
       "      <td>0.000000</td>\n",
       "      <td>0.000000</td>\n",
       "      <td>0.000000</td>\n",
       "      <td>0.000000</td>\n",
       "      <td>0.000000</td>\n",
       "      <td>0.000000</td>\n",
       "    </tr>\n",
       "    <tr>\n",
       "      <th>25</th>\n",
       "      <td>57</td>\n",
       "      <td>734.565217</td>\n",
       "      <td>197.348837</td>\n",
       "      <td>734.600000</td>\n",
       "      <td>734.280000</td>\n",
       "      <td>734.440000</td>\n",
       "      <td>1050.920000</td>\n",
       "      <td>1039.720000</td>\n",
       "      <td>1050.680000</td>\n",
       "      <td>1050.360000</td>\n",
       "      <td>...</td>\n",
       "      <td>0.000000</td>\n",
       "      <td>0.000000</td>\n",
       "      <td>0.000000</td>\n",
       "      <td>0.000000</td>\n",
       "      <td>0.000000</td>\n",
       "      <td>3056.600000</td>\n",
       "      <td>0.000000</td>\n",
       "      <td>0.000000</td>\n",
       "      <td>0.000000</td>\n",
       "      <td>0.000000</td>\n",
       "    </tr>\n",
       "    <tr>\n",
       "      <th>26</th>\n",
       "      <td>58</td>\n",
       "      <td>725.800000</td>\n",
       "      <td>734.760000</td>\n",
       "      <td>727.000000</td>\n",
       "      <td>727.000000</td>\n",
       "      <td>726.200000</td>\n",
       "      <td>1037.480000</td>\n",
       "      <td>1036.473684</td>\n",
       "      <td>1037.720000</td>\n",
       "      <td>1038.040000</td>\n",
       "      <td>...</td>\n",
       "      <td>0.000000</td>\n",
       "      <td>0.000000</td>\n",
       "      <td>0.000000</td>\n",
       "      <td>2747.000000</td>\n",
       "      <td>0.000000</td>\n",
       "      <td>3065.909091</td>\n",
       "      <td>3095.000000</td>\n",
       "      <td>0.000000</td>\n",
       "      <td>3064.333333</td>\n",
       "      <td>3068.000000</td>\n",
       "    </tr>\n",
       "    <tr>\n",
       "      <th>27</th>\n",
       "      <td>59</td>\n",
       "      <td>724.565217</td>\n",
       "      <td>723.645161</td>\n",
       "      <td>723.960000</td>\n",
       "      <td>724.523810</td>\n",
       "      <td>724.130435</td>\n",
       "      <td>1019.400000</td>\n",
       "      <td>1023.960000</td>\n",
       "      <td>1010.794872</td>\n",
       "      <td>1022.280000</td>\n",
       "      <td>...</td>\n",
       "      <td>2745.285714</td>\n",
       "      <td>0.000000</td>\n",
       "      <td>0.000000</td>\n",
       "      <td>0.000000</td>\n",
       "      <td>2755.000000</td>\n",
       "      <td>0.000000</td>\n",
       "      <td>0.000000</td>\n",
       "      <td>0.000000</td>\n",
       "      <td>0.000000</td>\n",
       "      <td>0.000000</td>\n",
       "    </tr>\n",
       "    <tr>\n",
       "      <th>28</th>\n",
       "      <td>60</td>\n",
       "      <td>746.280000</td>\n",
       "      <td>758.897436</td>\n",
       "      <td>734.833333</td>\n",
       "      <td>735.500000</td>\n",
       "      <td>735.320000</td>\n",
       "      <td>1049.480000</td>\n",
       "      <td>1049.594595</td>\n",
       "      <td>1049.640000</td>\n",
       "      <td>1048.795918</td>\n",
       "      <td>...</td>\n",
       "      <td>0.000000</td>\n",
       "      <td>0.000000</td>\n",
       "      <td>0.000000</td>\n",
       "      <td>2757.500000</td>\n",
       "      <td>2759.000000</td>\n",
       "      <td>3055.666667</td>\n",
       "      <td>0.000000</td>\n",
       "      <td>0.000000</td>\n",
       "      <td>3057.000000</td>\n",
       "      <td>3059.000000</td>\n",
       "    </tr>\n",
       "    <tr>\n",
       "      <th>29</th>\n",
       "      <td>61</td>\n",
       "      <td>720.360000</td>\n",
       "      <td>25000.520000</td>\n",
       "      <td>719.000000</td>\n",
       "      <td>719.000000</td>\n",
       "      <td>719.720000</td>\n",
       "      <td>1017.000000</td>\n",
       "      <td>73.243902</td>\n",
       "      <td>1011.408163</td>\n",
       "      <td>1011.000000</td>\n",
       "      <td>...</td>\n",
       "      <td>2739.000000</td>\n",
       "      <td>0.000000</td>\n",
       "      <td>2741.500000</td>\n",
       "      <td>0.000000</td>\n",
       "      <td>2739.000000</td>\n",
       "      <td>3039.000000</td>\n",
       "      <td>0.000000</td>\n",
       "      <td>0.000000</td>\n",
       "      <td>0.000000</td>\n",
       "      <td>0.000000</td>\n",
       "    </tr>\n",
       "    <tr>\n",
       "      <th>30</th>\n",
       "      <td>62</td>\n",
       "      <td>767.653061</td>\n",
       "      <td>767.720000</td>\n",
       "      <td>767.480000</td>\n",
       "      <td>767.000000</td>\n",
       "      <td>767.960000</td>\n",
       "      <td>1065.880000</td>\n",
       "      <td>1059.560000</td>\n",
       "      <td>1065.530612</td>\n",
       "      <td>1065.640000</td>\n",
       "      <td>...</td>\n",
       "      <td>0.000000</td>\n",
       "      <td>0.000000</td>\n",
       "      <td>2742.600000</td>\n",
       "      <td>2745.952381</td>\n",
       "      <td>2746.804878</td>\n",
       "      <td>0.000000</td>\n",
       "      <td>0.000000</td>\n",
       "      <td>3063.800000</td>\n",
       "      <td>0.000000</td>\n",
       "      <td>0.000000</td>\n",
       "    </tr>\n",
       "    <tr>\n",
       "      <th>31</th>\n",
       "      <td>63</td>\n",
       "      <td>773.640000</td>\n",
       "      <td>773.260870</td>\n",
       "      <td>774.120000</td>\n",
       "      <td>774.600000</td>\n",
       "      <td>774.440000</td>\n",
       "      <td>1067.000000</td>\n",
       "      <td>1058.040000</td>\n",
       "      <td>1067.000000</td>\n",
       "      <td>1065.400000</td>\n",
       "      <td>...</td>\n",
       "      <td>0.000000</td>\n",
       "      <td>2741.666667</td>\n",
       "      <td>2743.400000</td>\n",
       "      <td>2740.333333</td>\n",
       "      <td>2747.000000</td>\n",
       "      <td>3057.666667</td>\n",
       "      <td>0.000000</td>\n",
       "      <td>3031.869565</td>\n",
       "      <td>0.000000</td>\n",
       "      <td>3039.545455</td>\n",
       "    </tr>\n",
       "    <tr>\n",
       "      <th>32</th>\n",
       "      <td>64</td>\n",
       "      <td>708.959184</td>\n",
       "      <td>452.510204</td>\n",
       "      <td>708.263158</td>\n",
       "      <td>709.080000</td>\n",
       "      <td>709.640000</td>\n",
       "      <td>1026.478261</td>\n",
       "      <td>79.909091</td>\n",
       "      <td>1016.040000</td>\n",
       "      <td>1027.000000</td>\n",
       "      <td>...</td>\n",
       "      <td>2735.000000</td>\n",
       "      <td>0.000000</td>\n",
       "      <td>0.000000</td>\n",
       "      <td>2737.285714</td>\n",
       "      <td>0.000000</td>\n",
       "      <td>0.000000</td>\n",
       "      <td>3051.000000</td>\n",
       "      <td>3050.200000</td>\n",
       "      <td>0.000000</td>\n",
       "      <td>0.000000</td>\n",
       "    </tr>\n",
       "    <tr>\n",
       "      <th>33</th>\n",
       "      <td>65</td>\n",
       "      <td>772.061224</td>\n",
       "      <td>787.960000</td>\n",
       "      <td>771.800000</td>\n",
       "      <td>795.952381</td>\n",
       "      <td>787.560000</td>\n",
       "      <td>1087.279070</td>\n",
       "      <td>1086.894737</td>\n",
       "      <td>1087.956522</td>\n",
       "      <td>1088.531915</td>\n",
       "      <td>...</td>\n",
       "      <td>0.000000</td>\n",
       "      <td>0.000000</td>\n",
       "      <td>2808.818182</td>\n",
       "      <td>0.000000</td>\n",
       "      <td>2800.090909</td>\n",
       "      <td>0.000000</td>\n",
       "      <td>3143.000000</td>\n",
       "      <td>3129.400000</td>\n",
       "      <td>3121.285714</td>\n",
       "      <td>3121.666667</td>\n",
       "    </tr>\n",
       "    <tr>\n",
       "      <th>34</th>\n",
       "      <td>66</td>\n",
       "      <td>756.040000</td>\n",
       "      <td>755.000000</td>\n",
       "      <td>755.000000</td>\n",
       "      <td>755.000000</td>\n",
       "      <td>755.960000</td>\n",
       "      <td>1050.040000</td>\n",
       "      <td>1070.760000</td>\n",
       "      <td>1051.000000</td>\n",
       "      <td>1050.360000</td>\n",
       "      <td>...</td>\n",
       "      <td>2758.333333</td>\n",
       "      <td>0.000000</td>\n",
       "      <td>2755.666667</td>\n",
       "      <td>2743.000000</td>\n",
       "      <td>2759.000000</td>\n",
       "      <td>0.000000</td>\n",
       "      <td>0.000000</td>\n",
       "      <td>3032.209302</td>\n",
       "      <td>3031.177778</td>\n",
       "      <td>0.000000</td>\n",
       "    </tr>\n",
       "    <tr>\n",
       "      <th>35</th>\n",
       "      <td>67</td>\n",
       "      <td>751.000000</td>\n",
       "      <td>749.808511</td>\n",
       "      <td>751.000000</td>\n",
       "      <td>751.000000</td>\n",
       "      <td>751.000000</td>\n",
       "      <td>1057.400000</td>\n",
       "      <td>1057.612245</td>\n",
       "      <td>1059.000000</td>\n",
       "      <td>1057.720000</td>\n",
       "      <td>...</td>\n",
       "      <td>0.000000</td>\n",
       "      <td>0.000000</td>\n",
       "      <td>0.000000</td>\n",
       "      <td>0.000000</td>\n",
       "      <td>0.000000</td>\n",
       "      <td>0.000000</td>\n",
       "      <td>3087.000000</td>\n",
       "      <td>0.000000</td>\n",
       "      <td>0.000000</td>\n",
       "      <td>0.000000</td>\n",
       "    </tr>\n",
       "    <tr>\n",
       "      <th>36</th>\n",
       "      <td>68</td>\n",
       "      <td>826.130435</td>\n",
       "      <td>837.080000</td>\n",
       "      <td>827.000000</td>\n",
       "      <td>825.530612</td>\n",
       "      <td>827.000000</td>\n",
       "      <td>1132.840000</td>\n",
       "      <td>1147.083333</td>\n",
       "      <td>1123.000000</td>\n",
       "      <td>1123.000000</td>\n",
       "      <td>...</td>\n",
       "      <td>0.000000</td>\n",
       "      <td>0.000000</td>\n",
       "      <td>0.000000</td>\n",
       "      <td>0.000000</td>\n",
       "      <td>0.000000</td>\n",
       "      <td>0.000000</td>\n",
       "      <td>3158.000000</td>\n",
       "      <td>0.000000</td>\n",
       "      <td>0.000000</td>\n",
       "      <td>0.000000</td>\n",
       "    </tr>\n",
       "    <tr>\n",
       "      <th>37</th>\n",
       "      <td>69</td>\n",
       "      <td>740.840000</td>\n",
       "      <td>727.880000</td>\n",
       "      <td>739.640000</td>\n",
       "      <td>739.244898</td>\n",
       "      <td>740.200000</td>\n",
       "      <td>1021.960000</td>\n",
       "      <td>1019.160000</td>\n",
       "      <td>1020.120000</td>\n",
       "      <td>1031.842105</td>\n",
       "      <td>...</td>\n",
       "      <td>2734.333333</td>\n",
       "      <td>2709.000000</td>\n",
       "      <td>0.000000</td>\n",
       "      <td>2730.000000</td>\n",
       "      <td>2735.000000</td>\n",
       "      <td>3029.232558</td>\n",
       "      <td>0.000000</td>\n",
       "      <td>0.000000</td>\n",
       "      <td>0.000000</td>\n",
       "      <td>3028.795918</td>\n",
       "    </tr>\n",
       "    <tr>\n",
       "      <th>38</th>\n",
       "      <td>70</td>\n",
       "      <td>770.200000</td>\n",
       "      <td>781.320000</td>\n",
       "      <td>789.400000</td>\n",
       "      <td>755.857143</td>\n",
       "      <td>756.809524</td>\n",
       "      <td>1090.520000</td>\n",
       "      <td>1061.400000</td>\n",
       "      <td>1089.640000</td>\n",
       "      <td>1089.320000</td>\n",
       "      <td>...</td>\n",
       "      <td>2755.680851</td>\n",
       "      <td>0.000000</td>\n",
       "      <td>2755.600000</td>\n",
       "      <td>0.000000</td>\n",
       "      <td>2755.636364</td>\n",
       "      <td>0.000000</td>\n",
       "      <td>0.000000</td>\n",
       "      <td>3040.200000</td>\n",
       "      <td>0.000000</td>\n",
       "      <td>0.000000</td>\n",
       "    </tr>\n",
       "    <tr>\n",
       "      <th>39</th>\n",
       "      <td>71</td>\n",
       "      <td>762.794872</td>\n",
       "      <td>771.880000</td>\n",
       "      <td>761.434783</td>\n",
       "      <td>761.363636</td>\n",
       "      <td>761.400000</td>\n",
       "      <td>1069.638298</td>\n",
       "      <td>1069.800000</td>\n",
       "      <td>1071.000000</td>\n",
       "      <td>1071.000000</td>\n",
       "      <td>...</td>\n",
       "      <td>2773.000000</td>\n",
       "      <td>0.000000</td>\n",
       "      <td>0.000000</td>\n",
       "      <td>2774.428571</td>\n",
       "      <td>2772.714286</td>\n",
       "      <td>3099.000000</td>\n",
       "      <td>0.000000</td>\n",
       "      <td>3096.000000</td>\n",
       "      <td>0.000000</td>\n",
       "      <td>0.000000</td>\n",
       "    </tr>\n",
       "    <tr>\n",
       "      <th>40</th>\n",
       "      <td>72</td>\n",
       "      <td>727.880000</td>\n",
       "      <td>726.659574</td>\n",
       "      <td>727.000000</td>\n",
       "      <td>727.640000</td>\n",
       "      <td>727.000000</td>\n",
       "      <td>1036.872340</td>\n",
       "      <td>1030.120000</td>\n",
       "      <td>1035.090909</td>\n",
       "      <td>1037.893617</td>\n",
       "      <td>...</td>\n",
       "      <td>2712.000000</td>\n",
       "      <td>2731.000000</td>\n",
       "      <td>0.000000</td>\n",
       "      <td>0.000000</td>\n",
       "      <td>0.000000</td>\n",
       "      <td>3009.000000</td>\n",
       "      <td>0.000000</td>\n",
       "      <td>0.000000</td>\n",
       "      <td>2988.116279</td>\n",
       "      <td>0.000000</td>\n",
       "    </tr>\n",
       "    <tr>\n",
       "      <th>41</th>\n",
       "      <td>73</td>\n",
       "      <td>768.760000</td>\n",
       "      <td>781.160000</td>\n",
       "      <td>771.320000</td>\n",
       "      <td>771.000000</td>\n",
       "      <td>771.880000</td>\n",
       "      <td>1057.800000</td>\n",
       "      <td>1069.240000</td>\n",
       "      <td>1057.480000</td>\n",
       "      <td>1057.480000</td>\n",
       "      <td>...</td>\n",
       "      <td>2735.585366</td>\n",
       "      <td>0.000000</td>\n",
       "      <td>0.000000</td>\n",
       "      <td>0.000000</td>\n",
       "      <td>2754.200000</td>\n",
       "      <td>0.000000</td>\n",
       "      <td>0.000000</td>\n",
       "      <td>3055.000000</td>\n",
       "      <td>0.000000</td>\n",
       "      <td>0.000000</td>\n",
       "    </tr>\n",
       "    <tr>\n",
       "      <th>42</th>\n",
       "      <td>74</td>\n",
       "      <td>720.360000</td>\n",
       "      <td>720.523810</td>\n",
       "      <td>720.200000</td>\n",
       "      <td>719.800000</td>\n",
       "      <td>720.440000</td>\n",
       "      <td>1057.000000</td>\n",
       "      <td>1031.000000</td>\n",
       "      <td>1059.558140</td>\n",
       "      <td>1058.680000</td>\n",
       "      <td>...</td>\n",
       "      <td>2750.000000</td>\n",
       "      <td>0.000000</td>\n",
       "      <td>2748.333333</td>\n",
       "      <td>2747.800000</td>\n",
       "      <td>0.000000</td>\n",
       "      <td>3065.222222</td>\n",
       "      <td>0.000000</td>\n",
       "      <td>0.000000</td>\n",
       "      <td>3059.444444</td>\n",
       "      <td>3089.000000</td>\n",
       "    </tr>\n",
       "    <tr>\n",
       "      <th>43</th>\n",
       "      <td>75</td>\n",
       "      <td>787.000000</td>\n",
       "      <td>393.180000</td>\n",
       "      <td>392.620000</td>\n",
       "      <td>787.000000</td>\n",
       "      <td>787.000000</td>\n",
       "      <td>1043.000000</td>\n",
       "      <td>521.580000</td>\n",
       "      <td>521.900000</td>\n",
       "      <td>1043.000000</td>\n",
       "      <td>...</td>\n",
       "      <td>0.000000</td>\n",
       "      <td>0.000000</td>\n",
       "      <td>0.000000</td>\n",
       "      <td>0.000000</td>\n",
       "      <td>0.000000</td>\n",
       "      <td>2983.102564</td>\n",
       "      <td>0.000000</td>\n",
       "      <td>0.000000</td>\n",
       "      <td>0.000000</td>\n",
       "      <td>0.000000</td>\n",
       "    </tr>\n",
       "  </tbody>\n",
       "</table>\n",
       "<p>44 rows × 136 columns</p>\n",
       "</div>"
      ],
      "text/plain": [
       "range_delay  Sensor ID  13_10000_middle  13_16800_middle  13_3000_middle  \\\n",
       "0                   32       765.626263       765.693878      765.640000   \n",
       "1                   33       755.000000       779.530612      736.640000   \n",
       "2                   34       665.680000       658.920000      675.989247   \n",
       "3                   35       861.640000       861.626263      804.320000   \n",
       "4                   36       743.520000       743.962025      743.360000   \n",
       "5                   37       739.808081       597.240000      739.727273   \n",
       "6                   38       752.320000       753.400000      752.720000   \n",
       "7                   39       865.989899       867.000000      867.000000   \n",
       "8                   40       738.200000       728.619048      728.960000   \n",
       "9                   41       721.840000       739.040000      721.960000   \n",
       "10                  42       710.146067       724.840000      709.891566   \n",
       "11                  43       719.000000       719.000000      719.000000   \n",
       "12                  44       699.400000       699.321839      699.280000   \n",
       "13                  45       746.120000       770.116883      745.960000   \n",
       "14                  46       715.000000       713.920000      715.000000   \n",
       "15                  47       700.696970       683.640000      687.520000   \n",
       "16                  48       736.360000       735.960000      736.680000   \n",
       "17                  49       731.851064       732.302326      709.755556   \n",
       "18                  50       719.720000       734.760000      719.000000   \n",
       "19                  51       755.000000       749.400000      756.280000   \n",
       "20                  52       752.363636       764.360000      776.360000   \n",
       "21                  53       775.000000       759.560000      775.640000   \n",
       "22                  54       744.304348       755.000000      745.040816   \n",
       "23                  55       754.120000       216.200000      754.183673   \n",
       "24                  56       725.857143       719.480000      708.280000   \n",
       "25                  57       734.565217       197.348837      734.600000   \n",
       "26                  58       725.800000       734.760000      727.000000   \n",
       "27                  59       724.565217       723.645161      723.960000   \n",
       "28                  60       746.280000       758.897436      734.833333   \n",
       "29                  61       720.360000     25000.520000      719.000000   \n",
       "30                  62       767.653061       767.720000      767.480000   \n",
       "31                  63       773.640000       773.260870      774.120000   \n",
       "32                  64       708.959184       452.510204      708.263158   \n",
       "33                  65       772.061224       787.960000      771.800000   \n",
       "34                  66       756.040000       755.000000      755.000000   \n",
       "35                  67       751.000000       749.808511      751.000000   \n",
       "36                  68       826.130435       837.080000      827.000000   \n",
       "37                  69       740.840000       727.880000      739.640000   \n",
       "38                  70       770.200000       781.320000      789.400000   \n",
       "39                  71       762.794872       771.880000      761.434783   \n",
       "40                  72       727.880000       726.659574      727.000000   \n",
       "41                  73       768.760000       781.160000      771.320000   \n",
       "42                  74       720.360000       720.523810      720.200000   \n",
       "43                  75       787.000000       393.180000      392.620000   \n",
       "\n",
       "range_delay  13_6000_middle  13_8000_middle  18_10000_middle  18_16800_middle  \\\n",
       "0                765.560000      766.120000      1057.280000       821.200000   \n",
       "1                779.275862      755.467532      1024.818182      1035.640000   \n",
       "2                653.682353      665.240000       969.480000       969.469136   \n",
       "3                861.840000      863.000000      1012.333333      1011.800000   \n",
       "4                743.680000      743.600000      1067.000000      1054.880000   \n",
       "5                739.760000      739.929293       975.646465       975.547368   \n",
       "6                753.280000      753.720000      1067.800000      1075.960000   \n",
       "7                865.600000      864.840000      1071.000000      1071.000000   \n",
       "8                728.880000      728.960000      1041.585859      1039.638298   \n",
       "9                721.682353      722.120000      1028.080000      1034.753086   \n",
       "10               716.240000      709.500000      1017.560000      1000.720000   \n",
       "11               719.000000      719.000000      1039.000000      1039.000000   \n",
       "12               699.560000      699.640000      1019.120000      1006.240000   \n",
       "13               745.909091      745.560000      1052.090909      1044.600000   \n",
       "14               715.000000      715.000000      1029.880000      1030.356322   \n",
       "15               700.640000      700.480000       964.292929       978.800000   \n",
       "16               736.040000      736.306122      1022.120000      1022.085714   \n",
       "17               709.604651      723.640000      1030.833333      1031.833333   \n",
       "18               719.000000      719.000000      1025.960000      1021.000000   \n",
       "19               756.200000      756.120000      1019.160000      1036.920000   \n",
       "20               770.360000      752.680000      1061.400000      1065.400000   \n",
       "21               774.920000      775.960000      1059.979592      1075.640000   \n",
       "22               744.551020      743.960000      1058.200000      1049.720000   \n",
       "23               755.000000      755.000000      1064.760000       141.100000   \n",
       "24               716.280000      719.160000      1024.200000      1006.600000   \n",
       "25               734.280000      734.440000      1050.920000      1039.720000   \n",
       "26               727.000000      726.200000      1037.480000      1036.473684   \n",
       "27               724.523810      724.130435      1019.400000      1023.960000   \n",
       "28               735.500000      735.320000      1049.480000      1049.594595   \n",
       "29               719.000000      719.720000      1017.000000        73.243902   \n",
       "30               767.000000      767.960000      1065.880000      1059.560000   \n",
       "31               774.600000      774.440000      1067.000000      1058.040000   \n",
       "32               709.080000      709.640000      1026.478261        79.909091   \n",
       "33               795.952381      787.560000      1087.279070      1086.894737   \n",
       "34               755.000000      755.960000      1050.040000      1070.760000   \n",
       "35               751.000000      751.000000      1057.400000      1057.612245   \n",
       "36               825.530612      827.000000      1132.840000      1147.083333   \n",
       "37               739.244898      740.200000      1021.960000      1019.160000   \n",
       "38               755.857143      756.809524      1090.520000      1061.400000   \n",
       "39               761.363636      761.400000      1069.638298      1069.800000   \n",
       "40               727.640000      727.000000      1036.872340      1030.120000   \n",
       "41               771.000000      771.880000      1057.800000      1069.240000   \n",
       "42               719.800000      720.440000      1057.000000      1031.000000   \n",
       "43               787.000000      787.000000      1043.000000       521.580000   \n",
       "\n",
       "range_delay  18_3000_middle  18_6000_middle  ...  48_10000_upper  \\\n",
       "0               1057.626263     1057.440000  ...        0.000000   \n",
       "1               1024.777778     1025.720000  ...        0.000000   \n",
       "2                969.520000      969.585859  ...        0.000000   \n",
       "3               1012.720000     1012.240000  ...     2758.652174   \n",
       "4               1064.494949     1067.000000  ...     2779.000000   \n",
       "5                984.840000      975.757895  ...     2720.523810   \n",
       "6               1102.360000     1101.666667  ...        0.000000   \n",
       "7               1071.000000     1071.000000  ...        0.000000   \n",
       "8               1040.200000     1039.000000  ...     2763.769231   \n",
       "9               1037.382022     1010.946667  ...     2753.782609   \n",
       "10              1017.320000     1017.720000  ...        0.000000   \n",
       "11              1038.858824     1039.000000  ...     2744.105263   \n",
       "12              1018.676768     1019.484848  ...     2736.636364   \n",
       "13              1052.160000     1052.292929  ...        0.000000   \n",
       "14              1029.040000     1031.000000  ...     2767.000000   \n",
       "15               964.548387      964.142857  ...        0.000000   \n",
       "16              1023.000000     1023.000000  ...        0.000000   \n",
       "17              1033.240000     1033.367347  ...        0.000000   \n",
       "18              1011.960000     1012.702128  ...     2788.090909   \n",
       "19              1019.400000     1019.000000  ...     2739.800000   \n",
       "20              1061.693878     1063.240000  ...        0.000000   \n",
       "21              1060.040000     1059.880000  ...        0.000000   \n",
       "22              1059.000000     1058.680000  ...     2773.000000   \n",
       "23              1036.551020     1063.816327  ...        0.000000   \n",
       "24              1023.880000     1024.520000  ...        0.000000   \n",
       "25              1050.680000     1050.360000  ...        0.000000   \n",
       "26              1037.720000     1038.040000  ...        0.000000   \n",
       "27              1010.794872     1022.280000  ...     2745.285714   \n",
       "28              1049.640000     1048.795918  ...        0.000000   \n",
       "29              1011.408163     1011.000000  ...     2739.000000   \n",
       "30              1065.530612     1065.640000  ...        0.000000   \n",
       "31              1067.000000     1065.400000  ...        0.000000   \n",
       "32              1016.040000     1027.000000  ...     2735.000000   \n",
       "33              1087.956522     1088.531915  ...        0.000000   \n",
       "34              1051.000000     1050.360000  ...     2758.333333   \n",
       "35              1059.000000     1057.720000  ...        0.000000   \n",
       "36              1123.000000     1123.000000  ...        0.000000   \n",
       "37              1020.120000     1031.842105  ...     2734.333333   \n",
       "38              1089.640000     1089.320000  ...     2755.680851   \n",
       "39              1071.000000     1071.000000  ...     2773.000000   \n",
       "40              1035.090909     1037.893617  ...     2712.000000   \n",
       "41              1057.480000     1057.480000  ...     2735.585366   \n",
       "42              1059.558140     1058.680000  ...     2750.000000   \n",
       "43               521.900000     1043.000000  ...        0.000000   \n",
       "\n",
       "range_delay  48_16800_upper  48_3000_upper  48_6000_upper  48_8000_upper  \\\n",
       "0                  0.000000    2787.833333       0.000000       0.000000   \n",
       "1                  0.000000    2740.037037       0.000000       0.000000   \n",
       "2                  0.000000       0.000000       0.000000       0.000000   \n",
       "3                  0.000000    2756.839080       0.000000    2778.428571   \n",
       "4                  0.000000       0.000000       0.000000       0.000000   \n",
       "5               2679.000000    2720.063291    2743.285714    2743.000000   \n",
       "6                  0.000000       0.000000       0.000000       0.000000   \n",
       "7               2719.727273    2696.185185    2696.234568    2695.911392   \n",
       "8               2739.987654       0.000000       0.000000    2771.000000   \n",
       "9                  0.000000       0.000000    2753.153846    2752.714286   \n",
       "10                 0.000000    2724.473684       0.000000       0.000000   \n",
       "11                 0.000000    2747.831169       0.000000    2747.883117   \n",
       "12                 0.000000    2735.000000    2736.200000    2739.571429   \n",
       "13                 0.000000    2777.400000       0.000000       0.000000   \n",
       "14                 0.000000       0.000000    2765.222222    2766.200000   \n",
       "15              2413.000000    2330.428571       0.000000       0.000000   \n",
       "16                 0.000000    2735.400000       0.000000       0.000000   \n",
       "17                 0.000000       0.000000       0.000000       0.000000   \n",
       "18              2807.000000       0.000000    2793.222222    2800.454545   \n",
       "19                 0.000000    2747.000000       0.000000    2739.000000   \n",
       "20                 0.000000    2753.046512    2801.666667    2777.333333   \n",
       "21              2799.400000       0.000000       0.000000    2800.333333   \n",
       "22                 0.000000    2773.400000    2775.000000    2773.400000   \n",
       "23                 0.000000       0.000000       0.000000       0.000000   \n",
       "24                 0.000000    2732.090909       0.000000       0.000000   \n",
       "25                 0.000000       0.000000       0.000000       0.000000   \n",
       "26                 0.000000       0.000000    2747.000000       0.000000   \n",
       "27                 0.000000       0.000000       0.000000    2755.000000   \n",
       "28                 0.000000       0.000000    2757.500000    2759.000000   \n",
       "29                 0.000000    2741.500000       0.000000    2739.000000   \n",
       "30                 0.000000    2742.600000    2745.952381    2746.804878   \n",
       "31              2741.666667    2743.400000    2740.333333    2747.000000   \n",
       "32                 0.000000       0.000000    2737.285714       0.000000   \n",
       "33                 0.000000    2808.818182       0.000000    2800.090909   \n",
       "34                 0.000000    2755.666667    2743.000000    2759.000000   \n",
       "35                 0.000000       0.000000       0.000000       0.000000   \n",
       "36                 0.000000       0.000000       0.000000       0.000000   \n",
       "37              2709.000000       0.000000    2730.000000    2735.000000   \n",
       "38                 0.000000    2755.600000       0.000000    2755.636364   \n",
       "39                 0.000000       0.000000    2774.428571    2772.714286   \n",
       "40              2731.000000       0.000000       0.000000       0.000000   \n",
       "41                 0.000000       0.000000       0.000000    2754.200000   \n",
       "42                 0.000000    2748.333333    2747.800000       0.000000   \n",
       "43                 0.000000       0.000000       0.000000       0.000000   \n",
       "\n",
       "range_delay  53_10000_upper  53_16800_upper  53_3000_upper  53_6000_upper  \\\n",
       "0               3099.000000        0.000000       0.000000       0.000000   \n",
       "1                  0.000000     3073.666667       0.000000    3073.400000   \n",
       "2                  0.000000        0.000000       0.000000       0.000000   \n",
       "3                  0.000000        0.000000       0.000000       0.000000   \n",
       "4               3113.000000        0.000000       0.000000       0.000000   \n",
       "5               3075.000000     3046.666667    3020.100000    3041.153846   \n",
       "6               3063.000000        0.000000       0.000000       0.000000   \n",
       "7               2994.340206     3023.000000    2991.775510    3023.000000   \n",
       "8                  0.000000     3051.640000       0.000000    3050.333333   \n",
       "9               3053.000000        0.000000    3033.097561    3029.168675   \n",
       "10              3032.105263     2963.000000       0.000000    3023.222222   \n",
       "11              3051.000000        0.000000    3051.000000    3052.000000   \n",
       "12                 0.000000        0.000000       0.000000    3040.714286   \n",
       "13                 0.000000        0.000000       0.000000       0.000000   \n",
       "14              3051.000000        0.000000    3042.500000       0.000000   \n",
       "15                 0.000000     2495.000000       0.000000    2507.000000   \n",
       "16                 0.000000        0.000000       0.000000       0.000000   \n",
       "17                 0.000000        0.000000       0.000000       0.000000   \n",
       "18                 0.000000     3107.000000       0.000000    3076.714286   \n",
       "19                 0.000000        0.000000       0.000000       0.000000   \n",
       "20                 0.000000        0.000000     355.000000       0.000000   \n",
       "21              3090.200000     3085.666667       0.000000       0.000000   \n",
       "22                 0.000000        0.000000       0.000000    3060.600000   \n",
       "23              3061.000000     1663.666667    3037.380952    3035.476190   \n",
       "24                 0.000000        0.000000       0.000000       0.000000   \n",
       "25              3056.600000        0.000000       0.000000       0.000000   \n",
       "26              3065.909091     3095.000000       0.000000    3064.333333   \n",
       "27                 0.000000        0.000000       0.000000       0.000000   \n",
       "28              3055.666667        0.000000       0.000000    3057.000000   \n",
       "29              3039.000000        0.000000       0.000000       0.000000   \n",
       "30                 0.000000        0.000000    3063.800000       0.000000   \n",
       "31              3057.666667        0.000000    3031.869565       0.000000   \n",
       "32                 0.000000     3051.000000    3050.200000       0.000000   \n",
       "33                 0.000000     3143.000000    3129.400000    3121.285714   \n",
       "34                 0.000000        0.000000    3032.209302    3031.177778   \n",
       "35                 0.000000     3087.000000       0.000000       0.000000   \n",
       "36                 0.000000     3158.000000       0.000000       0.000000   \n",
       "37              3029.232558        0.000000       0.000000       0.000000   \n",
       "38                 0.000000        0.000000    3040.200000       0.000000   \n",
       "39              3099.000000        0.000000    3096.000000       0.000000   \n",
       "40              3009.000000        0.000000       0.000000    2988.116279   \n",
       "41                 0.000000        0.000000    3055.000000       0.000000   \n",
       "42              3065.222222        0.000000       0.000000    3059.444444   \n",
       "43              2983.102564        0.000000       0.000000       0.000000   \n",
       "\n",
       "range_delay  53_8000_upper  \n",
       "0                 0.000000  \n",
       "1              3074.000000  \n",
       "2                 0.000000  \n",
       "3                 0.000000  \n",
       "4                 0.000000  \n",
       "5              2241.333333  \n",
       "6              1862.333333  \n",
       "7              2993.408163  \n",
       "8                 0.000000  \n",
       "9              3053.476190  \n",
       "10             2938.529412  \n",
       "11                0.000000  \n",
       "12                0.000000  \n",
       "13                0.000000  \n",
       "14                0.000000  \n",
       "15                0.000000  \n",
       "16                0.000000  \n",
       "17                0.000000  \n",
       "18                0.000000  \n",
       "19                0.000000  \n",
       "20                0.000000  \n",
       "21                0.000000  \n",
       "22             3061.333333  \n",
       "23             3035.666667  \n",
       "24                0.000000  \n",
       "25                0.000000  \n",
       "26             3068.000000  \n",
       "27                0.000000  \n",
       "28             3059.000000  \n",
       "29                0.000000  \n",
       "30                0.000000  \n",
       "31             3039.545455  \n",
       "32                0.000000  \n",
       "33             3121.666667  \n",
       "34                0.000000  \n",
       "35                0.000000  \n",
       "36                0.000000  \n",
       "37             3028.795918  \n",
       "38                0.000000  \n",
       "39                0.000000  \n",
       "40                0.000000  \n",
       "41                0.000000  \n",
       "42             3089.000000  \n",
       "43                0.000000  \n",
       "\n",
       "[44 rows x 136 columns]"
      ]
     },
     "execution_count": 25,
     "metadata": {},
     "output_type": "execute_result"
    }
   ],
   "source": [
    "df_range_delay_all"
   ]
  },
  {
   "cell_type": "code",
   "execution_count": 27,
   "metadata": {},
   "outputs": [],
   "source": [
    "#df_range_delay_all.to_csv(\"../merged_dataset/data_v4-1-1_range_delay.csv\", index=False)"
   ]
  },
  {
   "cell_type": "markdown",
   "metadata": {},
   "source": [
    "### PCA feature importance on Range and delay"
   ]
  },
  {
   "cell_type": "code",
   "execution_count": 28,
   "metadata": {},
   "outputs": [
    {
     "data": {
      "image/png": "[encoded data removed]",
      "text/plain": [
       "<Figure size 1000x600 with 1 Axes>"
      ]
     },
     "metadata": {},
     "output_type": "display_data"
    }
   ],
   "source": [
    "from sklearn.preprocessing import StandardScaler\n",
    "from sklearn.decomposition import PCA\n",
    "import matplotlib.pyplot as plt\n",
    "import numpy as np\n",
    "\n",
    "def process_PCA(df):\n",
    "    # Extract features and standardize\n",
    "    features = df.drop(columns='Sensor ID')\n",
    "    sensor_ids = df['Sensor ID']\n",
    "\n",
    "    # Standardize the features\n",
    "    scaler = StandardScaler()\n",
    "    features_scaled = scaler.fit_transform(features)\n",
    "\n",
    "    # Perform PCA\n",
    "    pca = PCA()\n",
    "    principal_components = pca.fit_transform(features_scaled)\n",
    "\n",
    "    # Explained variance ratio for each principal component\n",
    "    explained_variance = pca.explained_variance_ratio_\n",
    "\n",
    "    # Plot the explained variance to see the importance of each component\n",
    "    plt.figure(figsize=(10, 6))\n",
    "    plt.plot(np.cumsum(explained_variance), marker='o', linestyle='--')\n",
    "    plt.xlabel('Number of Principal Components')\n",
    "    plt.ylabel('Cumulative Explained Variance')\n",
    "    plt.title('PCA - Cumulative Explained Variance')\n",
    "    plt.grid(True)\n",
    "    plt.show()\n",
    "\n",
    "    # Get the loadings (coefficients) of the features on the principal components\n",
    "    loadings = pca.components_\n",
    "\n",
    "    # Display the loadings for the first few principal components\n",
    "    return explained_variance, loadings, features\n",
    "\n",
    "explained_variance, loadings, features = process_PCA(df_range_delay_all)\n",
    "\n"
   ]
  },
  {
   "cell_type": "code",
   "execution_count": 29,
   "metadata": {},
   "outputs": [
    {
     "data": {
      "text/html": [
       "<div>\n",
       "<style scoped>\n",
       "    .dataframe tbody tr th:only-of-type {\n",
       "        vertical-align: middle;\n",
       "    }\n",
       "\n",
       "    .dataframe tbody tr th {\n",
       "        vertical-align: top;\n",
       "    }\n",
       "\n",
       "    .dataframe thead th {\n",
       "        text-align: right;\n",
       "    }\n",
       "</style>\n",
       "<table border=\"1\" class=\"dataframe\">\n",
       "  <thead>\n",
       "    <tr style=\"text-align: right;\">\n",
       "      <th></th>\n",
       "      <th>PC1</th>\n",
       "      <th>PC2</th>\n",
       "      <th>PC3</th>\n",
       "      <th>PC4</th>\n",
       "      <th>PC5</th>\n",
       "      <th>PC6</th>\n",
       "      <th>PC7</th>\n",
       "      <th>PC8</th>\n",
       "      <th>PC9</th>\n",
       "      <th>PC10</th>\n",
       "      <th>...</th>\n",
       "      <th>PC35</th>\n",
       "      <th>PC36</th>\n",
       "      <th>PC37</th>\n",
       "      <th>PC38</th>\n",
       "      <th>PC39</th>\n",
       "      <th>PC40</th>\n",
       "      <th>PC41</th>\n",
       "      <th>PC42</th>\n",
       "      <th>PC43</th>\n",
       "      <th>PC44</th>\n",
       "    </tr>\n",
       "    <tr>\n",
       "      <th>range_delay</th>\n",
       "      <th></th>\n",
       "      <th></th>\n",
       "      <th></th>\n",
       "      <th></th>\n",
       "      <th></th>\n",
       "      <th></th>\n",
       "      <th></th>\n",
       "      <th></th>\n",
       "      <th></th>\n",
       "      <th></th>\n",
       "      <th></th>\n",
       "      <th></th>\n",
       "      <th></th>\n",
       "      <th></th>\n",
       "      <th></th>\n",
       "      <th></th>\n",
       "      <th></th>\n",
       "      <th></th>\n",
       "      <th></th>\n",
       "      <th></th>\n",
       "      <th></th>\n",
       "    </tr>\n",
       "  </thead>\n",
       "  <tbody>\n",
       "    <tr>\n",
       "      <th>13_10000_middle</th>\n",
       "      <td>-0.113093</td>\n",
       "      <td>0.113738</td>\n",
       "      <td>0.126276</td>\n",
       "      <td>0.023264</td>\n",
       "      <td>0.138155</td>\n",
       "      <td>-0.066619</td>\n",
       "      <td>0.050154</td>\n",
       "      <td>0.064267</td>\n",
       "      <td>0.028317</td>\n",
       "      <td>-0.057539</td>\n",
       "      <td>...</td>\n",
       "      <td>-0.006977</td>\n",
       "      <td>-0.000735</td>\n",
       "      <td>0.016461</td>\n",
       "      <td>0.108938</td>\n",
       "      <td>-0.022904</td>\n",
       "      <td>-0.119874</td>\n",
       "      <td>0.046713</td>\n",
       "      <td>0.033688</td>\n",
       "      <td>-0.014205</td>\n",
       "      <td>-0.124914</td>\n",
       "    </tr>\n",
       "    <tr>\n",
       "      <th>13_16800_middle</th>\n",
       "      <td>0.015640</td>\n",
       "      <td>0.002834</td>\n",
       "      <td>-0.073999</td>\n",
       "      <td>0.121302</td>\n",
       "      <td>-0.046375</td>\n",
       "      <td>0.130148</td>\n",
       "      <td>0.024770</td>\n",
       "      <td>0.251949</td>\n",
       "      <td>-0.136871</td>\n",
       "      <td>-0.078738</td>\n",
       "      <td>...</td>\n",
       "      <td>0.092123</td>\n",
       "      <td>0.013419</td>\n",
       "      <td>0.069347</td>\n",
       "      <td>0.018184</td>\n",
       "      <td>0.089113</td>\n",
       "      <td>0.116544</td>\n",
       "      <td>0.018321</td>\n",
       "      <td>-0.020211</td>\n",
       "      <td>-0.000624</td>\n",
       "      <td>0.091364</td>\n",
       "    </tr>\n",
       "    <tr>\n",
       "      <th>13_3000_middle</th>\n",
       "      <td>-0.141743</td>\n",
       "      <td>-0.176504</td>\n",
       "      <td>0.029821</td>\n",
       "      <td>0.025645</td>\n",
       "      <td>0.122870</td>\n",
       "      <td>-0.028233</td>\n",
       "      <td>0.025960</td>\n",
       "      <td>0.059905</td>\n",
       "      <td>-0.014729</td>\n",
       "      <td>-0.016422</td>\n",
       "      <td>...</td>\n",
       "      <td>0.009423</td>\n",
       "      <td>-0.002410</td>\n",
       "      <td>-0.055037</td>\n",
       "      <td>0.091310</td>\n",
       "      <td>0.009552</td>\n",
       "      <td>-0.030541</td>\n",
       "      <td>0.022802</td>\n",
       "      <td>0.045853</td>\n",
       "      <td>-0.008372</td>\n",
       "      <td>0.392053</td>\n",
       "    </tr>\n",
       "    <tr>\n",
       "      <th>13_6000_middle</th>\n",
       "      <td>-0.114688</td>\n",
       "      <td>0.113793</td>\n",
       "      <td>0.126437</td>\n",
       "      <td>0.027154</td>\n",
       "      <td>0.136069</td>\n",
       "      <td>-0.062632</td>\n",
       "      <td>0.046129</td>\n",
       "      <td>0.071641</td>\n",
       "      <td>0.052818</td>\n",
       "      <td>-0.082006</td>\n",
       "      <td>...</td>\n",
       "      <td>-0.008152</td>\n",
       "      <td>0.014899</td>\n",
       "      <td>-0.010643</td>\n",
       "      <td>0.051159</td>\n",
       "      <td>0.034518</td>\n",
       "      <td>-0.035047</td>\n",
       "      <td>-0.028557</td>\n",
       "      <td>0.058569</td>\n",
       "      <td>0.051061</td>\n",
       "      <td>0.345338</td>\n",
       "    </tr>\n",
       "    <tr>\n",
       "      <th>13_8000_middle</th>\n",
       "      <td>-0.113227</td>\n",
       "      <td>0.115352</td>\n",
       "      <td>0.125199</td>\n",
       "      <td>0.030819</td>\n",
       "      <td>0.139259</td>\n",
       "      <td>-0.061731</td>\n",
       "      <td>0.050718</td>\n",
       "      <td>0.064009</td>\n",
       "      <td>0.027295</td>\n",
       "      <td>-0.067322</td>\n",
       "      <td>...</td>\n",
       "      <td>-0.019434</td>\n",
       "      <td>0.009988</td>\n",
       "      <td>-0.014369</td>\n",
       "      <td>0.094876</td>\n",
       "      <td>-0.007276</td>\n",
       "      <td>-0.078272</td>\n",
       "      <td>-0.011702</td>\n",
       "      <td>-0.007238</td>\n",
       "      <td>0.053047</td>\n",
       "      <td>-0.059020</td>\n",
       "    </tr>\n",
       "    <tr>\n",
       "      <th>...</th>\n",
       "      <td>...</td>\n",
       "      <td>...</td>\n",
       "      <td>...</td>\n",
       "      <td>...</td>\n",
       "      <td>...</td>\n",
       "      <td>...</td>\n",
       "      <td>...</td>\n",
       "      <td>...</td>\n",
       "      <td>...</td>\n",
       "      <td>...</td>\n",
       "      <td>...</td>\n",
       "      <td>...</td>\n",
       "      <td>...</td>\n",
       "      <td>...</td>\n",
       "      <td>...</td>\n",
       "      <td>...</td>\n",
       "      <td>...</td>\n",
       "      <td>...</td>\n",
       "      <td>...</td>\n",
       "      <td>...</td>\n",
       "      <td>...</td>\n",
       "    </tr>\n",
       "    <tr>\n",
       "      <th>53_10000_upper</th>\n",
       "      <td>0.001678</td>\n",
       "      <td>0.041683</td>\n",
       "      <td>0.055296</td>\n",
       "      <td>0.037491</td>\n",
       "      <td>0.009067</td>\n",
       "      <td>0.185934</td>\n",
       "      <td>-0.076392</td>\n",
       "      <td>-0.004849</td>\n",
       "      <td>-0.098834</td>\n",
       "      <td>0.072388</td>\n",
       "      <td>...</td>\n",
       "      <td>0.090333</td>\n",
       "      <td>-0.055440</td>\n",
       "      <td>0.078590</td>\n",
       "      <td>-0.010146</td>\n",
       "      <td>-0.063370</td>\n",
       "      <td>0.063648</td>\n",
       "      <td>0.012460</td>\n",
       "      <td>0.000672</td>\n",
       "      <td>0.094356</td>\n",
       "      <td>0.011466</td>\n",
       "    </tr>\n",
       "    <tr>\n",
       "      <th>53_16800_upper</th>\n",
       "      <td>-0.005129</td>\n",
       "      <td>-0.022661</td>\n",
       "      <td>0.149338</td>\n",
       "      <td>0.113070</td>\n",
       "      <td>0.054292</td>\n",
       "      <td>0.044247</td>\n",
       "      <td>0.000111</td>\n",
       "      <td>-0.095645</td>\n",
       "      <td>0.097716</td>\n",
       "      <td>-0.122623</td>\n",
       "      <td>...</td>\n",
       "      <td>0.015769</td>\n",
       "      <td>0.074055</td>\n",
       "      <td>-0.035027</td>\n",
       "      <td>-0.018701</td>\n",
       "      <td>0.150250</td>\n",
       "      <td>-0.014362</td>\n",
       "      <td>0.037603</td>\n",
       "      <td>-0.070277</td>\n",
       "      <td>0.168988</td>\n",
       "      <td>0.080230</td>\n",
       "    </tr>\n",
       "    <tr>\n",
       "      <th>53_3000_upper</th>\n",
       "      <td>-0.046604</td>\n",
       "      <td>-0.035001</td>\n",
       "      <td>0.198816</td>\n",
       "      <td>-0.110317</td>\n",
       "      <td>-0.046123</td>\n",
       "      <td>0.016990</td>\n",
       "      <td>-0.011833</td>\n",
       "      <td>0.131101</td>\n",
       "      <td>-0.113297</td>\n",
       "      <td>0.041135</td>\n",
       "      <td>...</td>\n",
       "      <td>-0.075621</td>\n",
       "      <td>0.048414</td>\n",
       "      <td>0.110165</td>\n",
       "      <td>-0.197046</td>\n",
       "      <td>-0.015529</td>\n",
       "      <td>-0.032746</td>\n",
       "      <td>0.027814</td>\n",
       "      <td>-0.080152</td>\n",
       "      <td>0.145949</td>\n",
       "      <td>0.076766</td>\n",
       "    </tr>\n",
       "    <tr>\n",
       "      <th>53_6000_upper</th>\n",
       "      <td>0.023705</td>\n",
       "      <td>-0.088948</td>\n",
       "      <td>0.138860</td>\n",
       "      <td>0.087530</td>\n",
       "      <td>-0.077381</td>\n",
       "      <td>0.074163</td>\n",
       "      <td>-0.070993</td>\n",
       "      <td>0.033288</td>\n",
       "      <td>0.165250</td>\n",
       "      <td>-0.122291</td>\n",
       "      <td>...</td>\n",
       "      <td>-0.080783</td>\n",
       "      <td>-0.083582</td>\n",
       "      <td>0.159173</td>\n",
       "      <td>0.047549</td>\n",
       "      <td>0.070582</td>\n",
       "      <td>0.090303</td>\n",
       "      <td>0.059673</td>\n",
       "      <td>0.086788</td>\n",
       "      <td>0.037205</td>\n",
       "      <td>-0.012655</td>\n",
       "    </tr>\n",
       "    <tr>\n",
       "      <th>53_8000_upper</th>\n",
       "      <td>-0.016473</td>\n",
       "      <td>-0.065639</td>\n",
       "      <td>0.147252</td>\n",
       "      <td>-0.010842</td>\n",
       "      <td>-0.027451</td>\n",
       "      <td>0.207798</td>\n",
       "      <td>-0.022221</td>\n",
       "      <td>-0.027481</td>\n",
       "      <td>0.140472</td>\n",
       "      <td>-0.008301</td>\n",
       "      <td>...</td>\n",
       "      <td>0.039181</td>\n",
       "      <td>-0.050713</td>\n",
       "      <td>-0.086058</td>\n",
       "      <td>-0.125662</td>\n",
       "      <td>0.018078</td>\n",
       "      <td>0.045357</td>\n",
       "      <td>-0.113354</td>\n",
       "      <td>-0.140632</td>\n",
       "      <td>-0.050971</td>\n",
       "      <td>-0.044455</td>\n",
       "    </tr>\n",
       "  </tbody>\n",
       "</table>\n",
       "<p>135 rows × 44 columns</p>\n",
       "</div>"
      ],
      "text/plain": [
       "                      PC1       PC2       PC3       PC4       PC5       PC6  \\\n",
       "range_delay                                                                   \n",
       "13_10000_middle -0.113093  0.113738  0.126276  0.023264  0.138155 -0.066619   \n",
       "13_16800_middle  0.015640  0.002834 -0.073999  0.121302 -0.046375  0.130148   \n",
       "13_3000_middle  -0.141743 -0.176504  0.029821  0.025645  0.122870 -0.028233   \n",
       "13_6000_middle  -0.114688  0.113793  0.126437  0.027154  0.136069 -0.062632   \n",
       "13_8000_middle  -0.113227  0.115352  0.125199  0.030819  0.139259 -0.061731   \n",
       "...                   ...       ...       ...       ...       ...       ...   \n",
       "53_10000_upper   0.001678  0.041683  0.055296  0.037491  0.009067  0.185934   \n",
       "53_16800_upper  -0.005129 -0.022661  0.149338  0.113070  0.054292  0.044247   \n",
       "53_3000_upper   -0.046604 -0.035001  0.198816 -0.110317 -0.046123  0.016990   \n",
       "53_6000_upper    0.023705 -0.088948  0.138860  0.087530 -0.077381  0.074163   \n",
       "53_8000_upper   -0.016473 -0.065639  0.147252 -0.010842 -0.027451  0.207798   \n",
       "\n",
       "                      PC7       PC8       PC9      PC10  ...      PC35  \\\n",
       "range_delay                                              ...             \n",
       "13_10000_middle  0.050154  0.064267  0.028317 -0.057539  ... -0.006977   \n",
       "13_16800_middle  0.024770  0.251949 -0.136871 -0.078738  ...  0.092123   \n",
       "13_3000_middle   0.025960  0.059905 -0.014729 -0.016422  ...  0.009423   \n",
       "13_6000_middle   0.046129  0.071641  0.052818 -0.082006  ... -0.008152   \n",
       "13_8000_middle   0.050718  0.064009  0.027295 -0.067322  ... -0.019434   \n",
       "...                   ...       ...       ...       ...  ...       ...   \n",
       "53_10000_upper  -0.076392 -0.004849 -0.098834  0.072388  ...  0.090333   \n",
       "53_16800_upper   0.000111 -0.095645  0.097716 -0.122623  ...  0.015769   \n",
       "53_3000_upper   -0.011833  0.131101 -0.113297  0.041135  ... -0.075621   \n",
       "53_6000_upper   -0.070993  0.033288  0.165250 -0.122291  ... -0.080783   \n",
       "53_8000_upper   -0.022221 -0.027481  0.140472 -0.008301  ...  0.039181   \n",
       "\n",
       "                     PC36      PC37      PC38      PC39      PC40      PC41  \\\n",
       "range_delay                                                                   \n",
       "13_10000_middle -0.000735  0.016461  0.108938 -0.022904 -0.119874  0.046713   \n",
       "13_16800_middle  0.013419  0.069347  0.018184  0.089113  0.116544  0.018321   \n",
       "13_3000_middle  -0.002410 -0.055037  0.091310  0.009552 -0.030541  0.022802   \n",
       "13_6000_middle   0.014899 -0.010643  0.051159  0.034518 -0.035047 -0.028557   \n",
       "13_8000_middle   0.009988 -0.014369  0.094876 -0.007276 -0.078272 -0.011702   \n",
       "...                   ...       ...       ...       ...       ...       ...   \n",
       "53_10000_upper  -0.055440  0.078590 -0.010146 -0.063370  0.063648  0.012460   \n",
       "53_16800_upper   0.074055 -0.035027 -0.018701  0.150250 -0.014362  0.037603   \n",
       "53_3000_upper    0.048414  0.110165 -0.197046 -0.015529 -0.032746  0.027814   \n",
       "53_6000_upper   -0.083582  0.159173  0.047549  0.070582  0.090303  0.059673   \n",
       "53_8000_upper   -0.050713 -0.086058 -0.125662  0.018078  0.045357 -0.113354   \n",
       "\n",
       "                     PC42      PC43      PC44  \n",
       "range_delay                                    \n",
       "13_10000_middle  0.033688 -0.014205 -0.124914  \n",
       "13_16800_middle -0.020211 -0.000624  0.091364  \n",
       "13_3000_middle   0.045853 -0.008372  0.392053  \n",
       "13_6000_middle   0.058569  0.051061  0.345338  \n",
       "13_8000_middle  -0.007238  0.053047 -0.059020  \n",
       "...                   ...       ...       ...  \n",
       "53_10000_upper   0.000672  0.094356  0.011466  \n",
       "53_16800_upper  -0.070277  0.168988  0.080230  \n",
       "53_3000_upper   -0.080152  0.145949  0.076766  \n",
       "53_6000_upper    0.086788  0.037205 -0.012655  \n",
       "53_8000_upper   -0.140632 -0.050971 -0.044455  \n",
       "\n",
       "[135 rows x 44 columns]"
      ]
     },
     "execution_count": 29,
     "metadata": {},
     "output_type": "execute_result"
    }
   ],
   "source": [
    "# Create a DataFrame for the loadings\n",
    "loading_df = pd.DataFrame(loadings.T, columns=[f'PC{i+1}' for i in range(loadings.shape[0])], index=features.columns)\n",
    "loading_df"
   ]
  },
  {
   "cell_type": "code",
   "execution_count": 30,
   "metadata": {},
   "outputs": [
    {
     "data": {
      "text/html": [
       "<div>\n",
       "<style scoped>\n",
       "    .dataframe tbody tr th:only-of-type {\n",
       "        vertical-align: middle;\n",
       "    }\n",
       "\n",
       "    .dataframe tbody tr th {\n",
       "        vertical-align: top;\n",
       "    }\n",
       "\n",
       "    .dataframe thead th {\n",
       "        text-align: right;\n",
       "    }\n",
       "</style>\n",
       "<table border=\"1\" class=\"dataframe\">\n",
       "  <thead>\n",
       "    <tr style=\"text-align: right;\">\n",
       "      <th></th>\n",
       "      <th>Feature</th>\n",
       "      <th>Importance</th>\n",
       "    </tr>\n",
       "  </thead>\n",
       "  <tbody>\n",
       "    <tr>\n",
       "      <th>128</th>\n",
       "      <td>48_6000_upper</td>\n",
       "      <td>2.373335</td>\n",
       "    </tr>\n",
       "    <tr>\n",
       "      <th>108</th>\n",
       "      <td>28_6000_upper</td>\n",
       "      <td>2.328390</td>\n",
       "    </tr>\n",
       "    <tr>\n",
       "      <th>121</th>\n",
       "      <td>43_16800_upper</td>\n",
       "      <td>2.318828</td>\n",
       "    </tr>\n",
       "    <tr>\n",
       "      <th>67</th>\n",
       "      <td>33_3000_lower</td>\n",
       "      <td>2.306732</td>\n",
       "    </tr>\n",
       "    <tr>\n",
       "      <th>117</th>\n",
       "      <td>38_3000_upper</td>\n",
       "      <td>2.295183</td>\n",
       "    </tr>\n",
       "    <tr>\n",
       "      <th>109</th>\n",
       "      <td>28_8000_upper</td>\n",
       "      <td>2.281520</td>\n",
       "    </tr>\n",
       "    <tr>\n",
       "      <th>86</th>\n",
       "      <td>53_16800_lower</td>\n",
       "      <td>2.271144</td>\n",
       "    </tr>\n",
       "    <tr>\n",
       "      <th>101</th>\n",
       "      <td>23_16800_upper</td>\n",
       "      <td>2.261535</td>\n",
       "    </tr>\n",
       "    <tr>\n",
       "      <th>43</th>\n",
       "      <td>53_6000_middle</td>\n",
       "      <td>2.235925</td>\n",
       "    </tr>\n",
       "    <tr>\n",
       "      <th>118</th>\n",
       "      <td>38_6000_upper</td>\n",
       "      <td>2.233275</td>\n",
       "    </tr>\n",
       "    <tr>\n",
       "      <th>100</th>\n",
       "      <td>23_10000_upper</td>\n",
       "      <td>2.222883</td>\n",
       "    </tr>\n",
       "    <tr>\n",
       "      <th>69</th>\n",
       "      <td>33_8000_lower</td>\n",
       "      <td>2.222813</td>\n",
       "    </tr>\n",
       "    <tr>\n",
       "      <th>79</th>\n",
       "      <td>43_8000_lower</td>\n",
       "      <td>2.219480</td>\n",
       "    </tr>\n",
       "    <tr>\n",
       "      <th>72</th>\n",
       "      <td>38_3000_lower</td>\n",
       "      <td>2.206124</td>\n",
       "    </tr>\n",
       "    <tr>\n",
       "      <th>94</th>\n",
       "      <td>13_8000_upper</td>\n",
       "      <td>2.197383</td>\n",
       "    </tr>\n",
       "    <tr>\n",
       "      <th>127</th>\n",
       "      <td>48_3000_upper</td>\n",
       "      <td>2.186545</td>\n",
       "    </tr>\n",
       "    <tr>\n",
       "      <th>13</th>\n",
       "      <td>23_6000_middle</td>\n",
       "      <td>2.176904</td>\n",
       "    </tr>\n",
       "    <tr>\n",
       "      <th>133</th>\n",
       "      <td>53_6000_upper</td>\n",
       "      <td>2.173717</td>\n",
       "    </tr>\n",
       "    <tr>\n",
       "      <th>45</th>\n",
       "      <td>13_10000_lower</td>\n",
       "      <td>2.165642</td>\n",
       "    </tr>\n",
       "    <tr>\n",
       "      <th>116</th>\n",
       "      <td>38_16800_upper</td>\n",
       "      <td>2.163772</td>\n",
       "    </tr>\n",
       "    <tr>\n",
       "      <th>71</th>\n",
       "      <td>38_16800_lower</td>\n",
       "      <td>2.162713</td>\n",
       "    </tr>\n",
       "    <tr>\n",
       "      <th>89</th>\n",
       "      <td>53_8000_lower</td>\n",
       "      <td>2.159420</td>\n",
       "    </tr>\n",
       "    <tr>\n",
       "      <th>131</th>\n",
       "      <td>53_16800_upper</td>\n",
       "      <td>2.140759</td>\n",
       "    </tr>\n",
       "    <tr>\n",
       "      <th>81</th>\n",
       "      <td>48_16800_lower</td>\n",
       "      <td>2.140483</td>\n",
       "    </tr>\n",
       "    <tr>\n",
       "      <th>73</th>\n",
       "      <td>38_6000_lower</td>\n",
       "      <td>2.134583</td>\n",
       "    </tr>\n",
       "    <tr>\n",
       "      <th>84</th>\n",
       "      <td>48_8000_lower</td>\n",
       "      <td>2.123726</td>\n",
       "    </tr>\n",
       "    <tr>\n",
       "      <th>126</th>\n",
       "      <td>48_16800_upper</td>\n",
       "      <td>2.121285</td>\n",
       "    </tr>\n",
       "    <tr>\n",
       "      <th>129</th>\n",
       "      <td>48_8000_upper</td>\n",
       "      <td>2.116626</td>\n",
       "    </tr>\n",
       "    <tr>\n",
       "      <th>106</th>\n",
       "      <td>28_16800_upper</td>\n",
       "      <td>2.114129</td>\n",
       "    </tr>\n",
       "    <tr>\n",
       "      <th>50</th>\n",
       "      <td>18_10000_lower</td>\n",
       "      <td>2.101369</td>\n",
       "    </tr>\n",
       "    <tr>\n",
       "      <th>74</th>\n",
       "      <td>38_8000_lower</td>\n",
       "      <td>2.091913</td>\n",
       "    </tr>\n",
       "    <tr>\n",
       "      <th>113</th>\n",
       "      <td>33_6000_upper</td>\n",
       "      <td>2.082389</td>\n",
       "    </tr>\n",
       "    <tr>\n",
       "      <th>64</th>\n",
       "      <td>28_8000_lower</td>\n",
       "      <td>2.079466</td>\n",
       "    </tr>\n",
       "    <tr>\n",
       "      <th>110</th>\n",
       "      <td>33_10000_upper</td>\n",
       "      <td>2.073165</td>\n",
       "    </tr>\n",
       "    <tr>\n",
       "      <th>107</th>\n",
       "      <td>28_3000_upper</td>\n",
       "      <td>2.069149</td>\n",
       "    </tr>\n",
       "    <tr>\n",
       "      <th>90</th>\n",
       "      <td>13_10000_upper</td>\n",
       "      <td>2.057684</td>\n",
       "    </tr>\n",
       "    <tr>\n",
       "      <th>88</th>\n",
       "      <td>53_6000_lower</td>\n",
       "      <td>2.056366</td>\n",
       "    </tr>\n",
       "    <tr>\n",
       "      <th>87</th>\n",
       "      <td>53_3000_lower</td>\n",
       "      <td>2.055567</td>\n",
       "    </tr>\n",
       "    <tr>\n",
       "      <th>130</th>\n",
       "      <td>53_10000_upper</td>\n",
       "      <td>2.046835</td>\n",
       "    </tr>\n",
       "    <tr>\n",
       "      <th>99</th>\n",
       "      <td>18_8000_upper</td>\n",
       "      <td>2.045921</td>\n",
       "    </tr>\n",
       "    <tr>\n",
       "      <th>56</th>\n",
       "      <td>23_16800_lower</td>\n",
       "      <td>2.043952</td>\n",
       "    </tr>\n",
       "    <tr>\n",
       "      <th>91</th>\n",
       "      <td>13_16800_upper</td>\n",
       "      <td>2.040855</td>\n",
       "    </tr>\n",
       "    <tr>\n",
       "      <th>57</th>\n",
       "      <td>23_3000_lower</td>\n",
       "      <td>2.039026</td>\n",
       "    </tr>\n",
       "    <tr>\n",
       "      <th>124</th>\n",
       "      <td>43_8000_upper</td>\n",
       "      <td>2.035662</td>\n",
       "    </tr>\n",
       "    <tr>\n",
       "      <th>97</th>\n",
       "      <td>18_3000_upper</td>\n",
       "      <td>2.034016</td>\n",
       "    </tr>\n",
       "    <tr>\n",
       "      <th>112</th>\n",
       "      <td>33_3000_upper</td>\n",
       "      <td>2.033335</td>\n",
       "    </tr>\n",
       "    <tr>\n",
       "      <th>65</th>\n",
       "      <td>33_10000_lower</td>\n",
       "      <td>2.027365</td>\n",
       "    </tr>\n",
       "    <tr>\n",
       "      <th>82</th>\n",
       "      <td>48_3000_lower</td>\n",
       "      <td>2.024499</td>\n",
       "    </tr>\n",
       "    <tr>\n",
       "      <th>63</th>\n",
       "      <td>28_6000_lower</td>\n",
       "      <td>2.020180</td>\n",
       "    </tr>\n",
       "    <tr>\n",
       "      <th>115</th>\n",
       "      <td>38_10000_upper</td>\n",
       "      <td>2.014058</td>\n",
       "    </tr>\n",
       "  </tbody>\n",
       "</table>\n",
       "</div>"
      ],
      "text/plain": [
       "            Feature  Importance\n",
       "128   48_6000_upper    2.373335\n",
       "108   28_6000_upper    2.328390\n",
       "121  43_16800_upper    2.318828\n",
       "67    33_3000_lower    2.306732\n",
       "117   38_3000_upper    2.295183\n",
       "109   28_8000_upper    2.281520\n",
       "86   53_16800_lower    2.271144\n",
       "101  23_16800_upper    2.261535\n",
       "43   53_6000_middle    2.235925\n",
       "118   38_6000_upper    2.233275\n",
       "100  23_10000_upper    2.222883\n",
       "69    33_8000_lower    2.222813\n",
       "79    43_8000_lower    2.219480\n",
       "72    38_3000_lower    2.206124\n",
       "94    13_8000_upper    2.197383\n",
       "127   48_3000_upper    2.186545\n",
       "13   23_6000_middle    2.176904\n",
       "133   53_6000_upper    2.173717\n",
       "45   13_10000_lower    2.165642\n",
       "116  38_16800_upper    2.163772\n",
       "71   38_16800_lower    2.162713\n",
       "89    53_8000_lower    2.159420\n",
       "131  53_16800_upper    2.140759\n",
       "81   48_16800_lower    2.140483\n",
       "73    38_6000_lower    2.134583\n",
       "84    48_8000_lower    2.123726\n",
       "126  48_16800_upper    2.121285\n",
       "129   48_8000_upper    2.116626\n",
       "106  28_16800_upper    2.114129\n",
       "50   18_10000_lower    2.101369\n",
       "74    38_8000_lower    2.091913\n",
       "113   33_6000_upper    2.082389\n",
       "64    28_8000_lower    2.079466\n",
       "110  33_10000_upper    2.073165\n",
       "107   28_3000_upper    2.069149\n",
       "90   13_10000_upper    2.057684\n",
       "88    53_6000_lower    2.056366\n",
       "87    53_3000_lower    2.055567\n",
       "130  53_10000_upper    2.046835\n",
       "99    18_8000_upper    2.045921\n",
       "56   23_16800_lower    2.043952\n",
       "91   13_16800_upper    2.040855\n",
       "57    23_3000_lower    2.039026\n",
       "124   43_8000_upper    2.035662\n",
       "97    18_3000_upper    2.034016\n",
       "112   33_3000_upper    2.033335\n",
       "65   33_10000_lower    2.027365\n",
       "82    48_3000_lower    2.024499\n",
       "63    28_6000_lower    2.020180\n",
       "115  38_10000_upper    2.014058"
      ]
     },
     "execution_count": 30,
     "metadata": {},
     "output_type": "execute_result"
    }
   ],
   "source": [
    "# Determine the number of components to retain 90% variance\n",
    "cumulative_variance = np.cumsum(explained_variance)\n",
    "num_components = np.argmax(cumulative_variance >= 0.9) + 1\n",
    "\n",
    "# Get the loadings for the selected components\n",
    "selected_loadings = loadings[:num_components, :]\n",
    "\n",
    "# Calculate the importance of each feature by summing the absolute values of its loadings across the selected components\n",
    "feature_importance = np.sum(np.abs(selected_loadings), axis=0)\n",
    "\n",
    "# Create a DataFrame for feature importance\n",
    "feature_importance_df = pd.DataFrame({'Feature': features.columns, 'Importance': feature_importance})\n",
    "\n",
    "# Sort the features by importance\n",
    "feature_importance_df = feature_importance_df.sort_values(by='Importance', ascending=False)\n",
    "\n",
    "# Select the top N features (e.g., top 10 features)\n",
    "top_features = feature_importance_df.head(50)\n",
    "\n",
    "top_features"
   ]
  },
  {
   "cell_type": "markdown",
   "metadata": {},
   "source": [
    "Having many features with an importance score over 1 can be interpreted in various ways.\n",
    "\n",
    "Implication 1: Distributed Contribution\n",
    "- Distributed Contribution: When many features have high importance scores, it indicates that the variance in the data is distributed across multiple features rather than being dominated by a few.\n",
    "- Balanced Influence: This suggests a balanced influence where no single feature overwhelmingly explains the variance, but rather, multiple features contribute significantly.\n",
    "\n",
    "Implication 2: Multicollinearity\n",
    "- Multicollinearity: It might indicate the presence of multicollinearity, where multiple features are correlated with each other and together contribute to the same principal components.\n",
    "- Redundancy: In such cases, there might be redundancy in the information provided by these features\n",
    "\n",
    "\n",
    "\n",
    "To address these issues we could look into correlation matrix and use regularization technique to reduce it"
   ]
  },
  {
   "cell_type": "markdown",
   "metadata": {},
   "source": [
    "## Investigate Multicollinearity"
   ]
  },
  {
   "cell_type": "markdown",
   "metadata": {},
   "source": [
    "### Analyze using correlation matrix"
   ]
  },
  {
   "cell_type": "code",
   "execution_count": 31,
   "metadata": {},
   "outputs": [],
   "source": [
    "# List of DataFrames\n",
    "df_pivots = [df_range_delay_lower, df_range_delay_upper]\n",
    "\n",
    "# Initialize the merged DataFrame with the first DataFrame in the list\n",
    "df_range_delay_ends = df_pivots[0]\n",
    "\n",
    "# Iteratively merge each DataFrame in the list\n",
    "for df in df_pivots[1:]:\n",
    "    df_range_delay_ends = df_range_delay_ends.merge(df, on='Sensor ID')\n",
    "# Replace all NaN values with 0 in the merged DataFrame\n",
    "df_range_delay_ends.fillna(0, inplace=True)"
   ]
  },
  {
   "cell_type": "code",
   "execution_count": 32,
   "metadata": {},
   "outputs": [],
   "source": [
    "df_range_delay_corr= df_range_delay_ends.drop([\"Sensor ID\"], axis = 1)"
   ]
  },
  {
   "cell_type": "code",
   "execution_count": 33,
   "metadata": {},
   "outputs": [
    {
     "data": {
      "text/html": [
       "<div>\n",
       "<style scoped>\n",
       "    .dataframe tbody tr th:only-of-type {\n",
       "        vertical-align: middle;\n",
       "    }\n",
       "\n",
       "    .dataframe tbody tr th {\n",
       "        vertical-align: top;\n",
       "    }\n",
       "\n",
       "    .dataframe thead th {\n",
       "        text-align: right;\n",
       "    }\n",
       "</style>\n",
       "<table border=\"1\" class=\"dataframe\">\n",
       "  <thead>\n",
       "    <tr style=\"text-align: right;\">\n",
       "      <th>range_delay</th>\n",
       "      <th>13_10000_lower</th>\n",
       "      <th>13_16800_lower</th>\n",
       "      <th>13_3000_lower</th>\n",
       "      <th>13_6000_lower</th>\n",
       "      <th>13_8000_lower</th>\n",
       "      <th>18_10000_lower</th>\n",
       "      <th>18_16800_lower</th>\n",
       "      <th>18_3000_lower</th>\n",
       "      <th>18_6000_lower</th>\n",
       "      <th>18_8000_lower</th>\n",
       "      <th>...</th>\n",
       "      <th>48_10000_upper</th>\n",
       "      <th>48_16800_upper</th>\n",
       "      <th>48_3000_upper</th>\n",
       "      <th>48_6000_upper</th>\n",
       "      <th>48_8000_upper</th>\n",
       "      <th>53_10000_upper</th>\n",
       "      <th>53_16800_upper</th>\n",
       "      <th>53_3000_upper</th>\n",
       "      <th>53_6000_upper</th>\n",
       "      <th>53_8000_upper</th>\n",
       "    </tr>\n",
       "    <tr>\n",
       "      <th>range_delay</th>\n",
       "      <th></th>\n",
       "      <th></th>\n",
       "      <th></th>\n",
       "      <th></th>\n",
       "      <th></th>\n",
       "      <th></th>\n",
       "      <th></th>\n",
       "      <th></th>\n",
       "      <th></th>\n",
       "      <th></th>\n",
       "      <th></th>\n",
       "      <th></th>\n",
       "      <th></th>\n",
       "      <th></th>\n",
       "      <th></th>\n",
       "      <th></th>\n",
       "      <th></th>\n",
       "      <th></th>\n",
       "      <th></th>\n",
       "      <th></th>\n",
       "      <th></th>\n",
       "    </tr>\n",
       "  </thead>\n",
       "  <tbody>\n",
       "    <tr>\n",
       "      <th>13_10000_lower</th>\n",
       "      <td>1.000000</td>\n",
       "      <td>-0.091656</td>\n",
       "      <td>0.063831</td>\n",
       "      <td>0.309296</td>\n",
       "      <td>0.355861</td>\n",
       "      <td>0.079880</td>\n",
       "      <td>0.139725</td>\n",
       "      <td>-0.060398</td>\n",
       "      <td>0.045628</td>\n",
       "      <td>0.026232</td>\n",
       "      <td>...</td>\n",
       "      <td>-0.171667</td>\n",
       "      <td>-0.000212</td>\n",
       "      <td>-0.025483</td>\n",
       "      <td>-0.144026</td>\n",
       "      <td>-0.063180</td>\n",
       "      <td>-0.064994</td>\n",
       "      <td>0.180788</td>\n",
       "      <td>0.047182</td>\n",
       "      <td>-0.195133</td>\n",
       "      <td>-0.272788</td>\n",
       "    </tr>\n",
       "    <tr>\n",
       "      <th>13_16800_lower</th>\n",
       "      <td>-0.091656</td>\n",
       "      <td>1.000000</td>\n",
       "      <td>0.137054</td>\n",
       "      <td>-0.037645</td>\n",
       "      <td>-0.039072</td>\n",
       "      <td>0.306314</td>\n",
       "      <td>0.075860</td>\n",
       "      <td>0.234089</td>\n",
       "      <td>0.022127</td>\n",
       "      <td>-0.151840</td>\n",
       "      <td>...</td>\n",
       "      <td>-0.080295</td>\n",
       "      <td>0.100179</td>\n",
       "      <td>0.245485</td>\n",
       "      <td>0.028990</td>\n",
       "      <td>0.033704</td>\n",
       "      <td>0.019967</td>\n",
       "      <td>-0.158319</td>\n",
       "      <td>0.045088</td>\n",
       "      <td>0.212463</td>\n",
       "      <td>0.038337</td>\n",
       "    </tr>\n",
       "    <tr>\n",
       "      <th>13_3000_lower</th>\n",
       "      <td>0.063831</td>\n",
       "      <td>0.137054</td>\n",
       "      <td>1.000000</td>\n",
       "      <td>0.389244</td>\n",
       "      <td>0.442770</td>\n",
       "      <td>-0.104270</td>\n",
       "      <td>0.471812</td>\n",
       "      <td>0.158543</td>\n",
       "      <td>-0.045717</td>\n",
       "      <td>-0.077926</td>\n",
       "      <td>...</td>\n",
       "      <td>0.016345</td>\n",
       "      <td>0.154905</td>\n",
       "      <td>-0.183083</td>\n",
       "      <td>0.164627</td>\n",
       "      <td>0.035815</td>\n",
       "      <td>0.222982</td>\n",
       "      <td>0.275764</td>\n",
       "      <td>0.165344</td>\n",
       "      <td>0.335483</td>\n",
       "      <td>0.064820</td>\n",
       "    </tr>\n",
       "    <tr>\n",
       "      <th>13_6000_lower</th>\n",
       "      <td>0.309296</td>\n",
       "      <td>-0.037645</td>\n",
       "      <td>0.389244</td>\n",
       "      <td>1.000000</td>\n",
       "      <td>0.387523</td>\n",
       "      <td>-0.182640</td>\n",
       "      <td>0.174118</td>\n",
       "      <td>-0.032812</td>\n",
       "      <td>-0.041698</td>\n",
       "      <td>-0.239167</td>\n",
       "      <td>...</td>\n",
       "      <td>-0.071070</td>\n",
       "      <td>-0.265835</td>\n",
       "      <td>-0.088454</td>\n",
       "      <td>-0.024527</td>\n",
       "      <td>0.020678</td>\n",
       "      <td>-0.165158</td>\n",
       "      <td>0.192713</td>\n",
       "      <td>0.194983</td>\n",
       "      <td>0.145467</td>\n",
       "      <td>0.020743</td>\n",
       "    </tr>\n",
       "    <tr>\n",
       "      <th>13_8000_lower</th>\n",
       "      <td>0.355861</td>\n",
       "      <td>-0.039072</td>\n",
       "      <td>0.442770</td>\n",
       "      <td>0.387523</td>\n",
       "      <td>1.000000</td>\n",
       "      <td>0.058465</td>\n",
       "      <td>0.200300</td>\n",
       "      <td>0.094236</td>\n",
       "      <td>0.014509</td>\n",
       "      <td>-0.043468</td>\n",
       "      <td>...</td>\n",
       "      <td>0.019238</td>\n",
       "      <td>0.058351</td>\n",
       "      <td>-0.098248</td>\n",
       "      <td>-0.183538</td>\n",
       "      <td>-0.160564</td>\n",
       "      <td>0.010981</td>\n",
       "      <td>0.218573</td>\n",
       "      <td>0.000136</td>\n",
       "      <td>0.099435</td>\n",
       "      <td>-0.105986</td>\n",
       "    </tr>\n",
       "    <tr>\n",
       "      <th>...</th>\n",
       "      <td>...</td>\n",
       "      <td>...</td>\n",
       "      <td>...</td>\n",
       "      <td>...</td>\n",
       "      <td>...</td>\n",
       "      <td>...</td>\n",
       "      <td>...</td>\n",
       "      <td>...</td>\n",
       "      <td>...</td>\n",
       "      <td>...</td>\n",
       "      <td>...</td>\n",
       "      <td>...</td>\n",
       "      <td>...</td>\n",
       "      <td>...</td>\n",
       "      <td>...</td>\n",
       "      <td>...</td>\n",
       "      <td>...</td>\n",
       "      <td>...</td>\n",
       "      <td>...</td>\n",
       "      <td>...</td>\n",
       "      <td>...</td>\n",
       "    </tr>\n",
       "    <tr>\n",
       "      <th>53_10000_upper</th>\n",
       "      <td>-0.064994</td>\n",
       "      <td>0.019967</td>\n",
       "      <td>0.222982</td>\n",
       "      <td>-0.165158</td>\n",
       "      <td>0.010981</td>\n",
       "      <td>0.189476</td>\n",
       "      <td>0.129109</td>\n",
       "      <td>0.173669</td>\n",
       "      <td>0.033477</td>\n",
       "      <td>0.336398</td>\n",
       "      <td>...</td>\n",
       "      <td>-0.001927</td>\n",
       "      <td>0.195831</td>\n",
       "      <td>-0.225441</td>\n",
       "      <td>0.174078</td>\n",
       "      <td>-0.044446</td>\n",
       "      <td>1.000000</td>\n",
       "      <td>-0.089542</td>\n",
       "      <td>0.121351</td>\n",
       "      <td>0.133472</td>\n",
       "      <td>0.397365</td>\n",
       "    </tr>\n",
       "    <tr>\n",
       "      <th>53_16800_upper</th>\n",
       "      <td>0.180788</td>\n",
       "      <td>-0.158319</td>\n",
       "      <td>0.275764</td>\n",
       "      <td>0.192713</td>\n",
       "      <td>0.218573</td>\n",
       "      <td>-0.132011</td>\n",
       "      <td>0.058296</td>\n",
       "      <td>-0.153166</td>\n",
       "      <td>-0.031599</td>\n",
       "      <td>0.032942</td>\n",
       "      <td>...</td>\n",
       "      <td>-0.241094</td>\n",
       "      <td>0.382657</td>\n",
       "      <td>-0.101572</td>\n",
       "      <td>-0.019658</td>\n",
       "      <td>-0.127486</td>\n",
       "      <td>-0.089542</td>\n",
       "      <td>1.000000</td>\n",
       "      <td>0.026740</td>\n",
       "      <td>0.393628</td>\n",
       "      <td>0.245825</td>\n",
       "    </tr>\n",
       "    <tr>\n",
       "      <th>53_3000_upper</th>\n",
       "      <td>0.047182</td>\n",
       "      <td>0.045088</td>\n",
       "      <td>0.165344</td>\n",
       "      <td>0.194983</td>\n",
       "      <td>0.000136</td>\n",
       "      <td>0.096981</td>\n",
       "      <td>0.015841</td>\n",
       "      <td>0.132881</td>\n",
       "      <td>-0.066987</td>\n",
       "      <td>0.231460</td>\n",
       "      <td>...</td>\n",
       "      <td>0.220863</td>\n",
       "      <td>0.010839</td>\n",
       "      <td>0.107624</td>\n",
       "      <td>0.363440</td>\n",
       "      <td>0.432326</td>\n",
       "      <td>0.121351</td>\n",
       "      <td>0.026740</td>\n",
       "      <td>1.000000</td>\n",
       "      <td>0.127172</td>\n",
       "      <td>0.157560</td>\n",
       "    </tr>\n",
       "    <tr>\n",
       "      <th>53_6000_upper</th>\n",
       "      <td>-0.195133</td>\n",
       "      <td>0.212463</td>\n",
       "      <td>0.335483</td>\n",
       "      <td>0.145467</td>\n",
       "      <td>0.099435</td>\n",
       "      <td>-0.050687</td>\n",
       "      <td>0.121643</td>\n",
       "      <td>0.080027</td>\n",
       "      <td>-0.216257</td>\n",
       "      <td>-0.098392</td>\n",
       "      <td>...</td>\n",
       "      <td>0.137514</td>\n",
       "      <td>0.245275</td>\n",
       "      <td>0.173294</td>\n",
       "      <td>0.297024</td>\n",
       "      <td>0.121125</td>\n",
       "      <td>0.133472</td>\n",
       "      <td>0.393628</td>\n",
       "      <td>0.127172</td>\n",
       "      <td>1.000000</td>\n",
       "      <td>0.556227</td>\n",
       "    </tr>\n",
       "    <tr>\n",
       "      <th>53_8000_upper</th>\n",
       "      <td>-0.272788</td>\n",
       "      <td>0.038337</td>\n",
       "      <td>0.064820</td>\n",
       "      <td>0.020743</td>\n",
       "      <td>-0.105986</td>\n",
       "      <td>-0.097428</td>\n",
       "      <td>0.157129</td>\n",
       "      <td>0.047247</td>\n",
       "      <td>-0.186758</td>\n",
       "      <td>0.073922</td>\n",
       "      <td>...</td>\n",
       "      <td>-0.164630</td>\n",
       "      <td>0.124588</td>\n",
       "      <td>0.111632</td>\n",
       "      <td>0.369791</td>\n",
       "      <td>0.045181</td>\n",
       "      <td>0.397365</td>\n",
       "      <td>0.245825</td>\n",
       "      <td>0.157560</td>\n",
       "      <td>0.556227</td>\n",
       "      <td>1.000000</td>\n",
       "    </tr>\n",
       "  </tbody>\n",
       "</table>\n",
       "<p>90 rows × 90 columns</p>\n",
       "</div>"
      ],
      "text/plain": [
       "range_delay     13_10000_lower  13_16800_lower  13_3000_lower  13_6000_lower  \\\n",
       "range_delay                                                                    \n",
       "13_10000_lower        1.000000       -0.091656       0.063831       0.309296   \n",
       "13_16800_lower       -0.091656        1.000000       0.137054      -0.037645   \n",
       "13_3000_lower         0.063831        0.137054       1.000000       0.389244   \n",
       "13_6000_lower         0.309296       -0.037645       0.389244       1.000000   \n",
       "13_8000_lower         0.355861       -0.039072       0.442770       0.387523   \n",
       "...                        ...             ...            ...            ...   \n",
       "53_10000_upper       -0.064994        0.019967       0.222982      -0.165158   \n",
       "53_16800_upper        0.180788       -0.158319       0.275764       0.192713   \n",
       "53_3000_upper         0.047182        0.045088       0.165344       0.194983   \n",
       "53_6000_upper        -0.195133        0.212463       0.335483       0.145467   \n",
       "53_8000_upper        -0.272788        0.038337       0.064820       0.020743   \n",
       "\n",
       "range_delay     13_8000_lower  18_10000_lower  18_16800_lower  18_3000_lower  \\\n",
       "range_delay                                                                    \n",
       "13_10000_lower       0.355861        0.079880        0.139725      -0.060398   \n",
       "13_16800_lower      -0.039072        0.306314        0.075860       0.234089   \n",
       "13_3000_lower        0.442770       -0.104270        0.471812       0.158543   \n",
       "13_6000_lower        0.387523       -0.182640        0.174118      -0.032812   \n",
       "13_8000_lower        1.000000        0.058465        0.200300       0.094236   \n",
       "...                       ...             ...             ...            ...   \n",
       "53_10000_upper       0.010981        0.189476        0.129109       0.173669   \n",
       "53_16800_upper       0.218573       -0.132011        0.058296      -0.153166   \n",
       "53_3000_upper        0.000136        0.096981        0.015841       0.132881   \n",
       "53_6000_upper        0.099435       -0.050687        0.121643       0.080027   \n",
       "53_8000_upper       -0.105986       -0.097428        0.157129       0.047247   \n",
       "\n",
       "range_delay     18_6000_lower  18_8000_lower  ...  48_10000_upper  \\\n",
       "range_delay                                   ...                   \n",
       "13_10000_lower       0.045628       0.026232  ...       -0.171667   \n",
       "13_16800_lower       0.022127      -0.151840  ...       -0.080295   \n",
       "13_3000_lower       -0.045717      -0.077926  ...        0.016345   \n",
       "13_6000_lower       -0.041698      -0.239167  ...       -0.071070   \n",
       "13_8000_lower        0.014509      -0.043468  ...        0.019238   \n",
       "...                       ...            ...  ...             ...   \n",
       "53_10000_upper       0.033477       0.336398  ...       -0.001927   \n",
       "53_16800_upper      -0.031599       0.032942  ...       -0.241094   \n",
       "53_3000_upper       -0.066987       0.231460  ...        0.220863   \n",
       "53_6000_upper       -0.216257      -0.098392  ...        0.137514   \n",
       "53_8000_upper       -0.186758       0.073922  ...       -0.164630   \n",
       "\n",
       "range_delay     48_16800_upper  48_3000_upper  48_6000_upper  48_8000_upper  \\\n",
       "range_delay                                                                   \n",
       "13_10000_lower       -0.000212      -0.025483      -0.144026      -0.063180   \n",
       "13_16800_lower        0.100179       0.245485       0.028990       0.033704   \n",
       "13_3000_lower         0.154905      -0.183083       0.164627       0.035815   \n",
       "13_6000_lower        -0.265835      -0.088454      -0.024527       0.020678   \n",
       "13_8000_lower         0.058351      -0.098248      -0.183538      -0.160564   \n",
       "...                        ...            ...            ...            ...   \n",
       "53_10000_upper        0.195831      -0.225441       0.174078      -0.044446   \n",
       "53_16800_upper        0.382657      -0.101572      -0.019658      -0.127486   \n",
       "53_3000_upper         0.010839       0.107624       0.363440       0.432326   \n",
       "53_6000_upper         0.245275       0.173294       0.297024       0.121125   \n",
       "53_8000_upper         0.124588       0.111632       0.369791       0.045181   \n",
       "\n",
       "range_delay     53_10000_upper  53_16800_upper  53_3000_upper  53_6000_upper  \\\n",
       "range_delay                                                                    \n",
       "13_10000_lower       -0.064994        0.180788       0.047182      -0.195133   \n",
       "13_16800_lower        0.019967       -0.158319       0.045088       0.212463   \n",
       "13_3000_lower         0.222982        0.275764       0.165344       0.335483   \n",
       "13_6000_lower        -0.165158        0.192713       0.194983       0.145467   \n",
       "13_8000_lower         0.010981        0.218573       0.000136       0.099435   \n",
       "...                        ...             ...            ...            ...   \n",
       "53_10000_upper        1.000000       -0.089542       0.121351       0.133472   \n",
       "53_16800_upper       -0.089542        1.000000       0.026740       0.393628   \n",
       "53_3000_upper         0.121351        0.026740       1.000000       0.127172   \n",
       "53_6000_upper         0.133472        0.393628       0.127172       1.000000   \n",
       "53_8000_upper         0.397365        0.245825       0.157560       0.556227   \n",
       "\n",
       "range_delay     53_8000_upper  \n",
       "range_delay                    \n",
       "13_10000_lower      -0.272788  \n",
       "13_16800_lower       0.038337  \n",
       "13_3000_lower        0.064820  \n",
       "13_6000_lower        0.020743  \n",
       "13_8000_lower       -0.105986  \n",
       "...                       ...  \n",
       "53_10000_upper       0.397365  \n",
       "53_16800_upper       0.245825  \n",
       "53_3000_upper        0.157560  \n",
       "53_6000_upper        0.556227  \n",
       "53_8000_upper        1.000000  \n",
       "\n",
       "[90 rows x 90 columns]"
      ]
     },
     "execution_count": 33,
     "metadata": {},
     "output_type": "execute_result"
    }
   ],
   "source": [
    "# Calculate the correlation matrix for the dataset\n",
    "correlation_matrix = df_range_delay_corr.corr()\n",
    "correlation_matrix\n"
   ]
  },
  {
   "cell_type": "code",
   "execution_count": 34,
   "metadata": {},
   "outputs": [
    {
     "data": {
      "text/html": [
       "<div>\n",
       "<style scoped>\n",
       "    .dataframe tbody tr th:only-of-type {\n",
       "        vertical-align: middle;\n",
       "    }\n",
       "\n",
       "    .dataframe tbody tr th {\n",
       "        vertical-align: top;\n",
       "    }\n",
       "\n",
       "    .dataframe thead th {\n",
       "        text-align: right;\n",
       "    }\n",
       "</style>\n",
       "<table border=\"1\" class=\"dataframe\">\n",
       "  <thead>\n",
       "    <tr style=\"text-align: right;\">\n",
       "      <th></th>\n",
       "      <th>Feature 1</th>\n",
       "      <th>Feature 2</th>\n",
       "      <th>Correlation</th>\n",
       "    </tr>\n",
       "  </thead>\n",
       "  <tbody>\n",
       "    <tr>\n",
       "      <th>0</th>\n",
       "      <td>13_8000_lower</td>\n",
       "      <td>13_8000_upper</td>\n",
       "      <td>0.731078</td>\n",
       "    </tr>\n",
       "    <tr>\n",
       "      <th>1</th>\n",
       "      <td>53_3000_lower</td>\n",
       "      <td>53_3000_upper</td>\n",
       "      <td>0.700486</td>\n",
       "    </tr>\n",
       "  </tbody>\n",
       "</table>\n",
       "</div>"
      ],
      "text/plain": [
       "       Feature 1      Feature 2  Correlation\n",
       "0  13_8000_lower  13_8000_upper     0.731078\n",
       "1  53_3000_lower  53_3000_upper     0.700486"
      ]
     },
     "execution_count": 34,
     "metadata": {},
     "output_type": "execute_result"
    }
   ],
   "source": [
    "# Extract pairs of highly correlated features with correlation coefficient above a threshold (e.g., 0.8 or below -0.8)\n",
    "threshold = 0.7\n",
    "highly_correlated_pairs = []\n",
    "\n",
    "for i in range(correlation_matrix.shape[0]):\n",
    "    for j in range(i+1, correlation_matrix.shape[1]):\n",
    "        if abs(correlation_matrix.iloc[i, j]) > threshold:\n",
    "            feature_pair = (correlation_matrix.index[i], correlation_matrix.columns[j], correlation_matrix.iloc[i, j])\n",
    "            highly_correlated_pairs.append(feature_pair)\n",
    "\n",
    "# Convert the list of tuples to a DataFrame for better readability\n",
    "highly_correlated_df = pd.DataFrame(highly_correlated_pairs, columns=['Feature 1', 'Feature 2', 'Correlation'])\n",
    "highly_correlated_df\n"
   ]
  },
  {
   "cell_type": "code",
   "execution_count": 35,
   "metadata": {},
   "outputs": [
    {
     "data": {
      "text/html": [
       "<div>\n",
       "<style scoped>\n",
       "    .dataframe tbody tr th:only-of-type {\n",
       "        vertical-align: middle;\n",
       "    }\n",
       "\n",
       "    .dataframe tbody tr th {\n",
       "        vertical-align: top;\n",
       "    }\n",
       "\n",
       "    .dataframe thead th {\n",
       "        text-align: right;\n",
       "    }\n",
       "</style>\n",
       "<table border=\"1\" class=\"dataframe\">\n",
       "  <thead>\n",
       "    <tr style=\"text-align: right;\">\n",
       "      <th>range_delay</th>\n",
       "      <th>Sensor ID</th>\n",
       "      <th>13_10000_lower</th>\n",
       "      <th>13_16800_lower</th>\n",
       "      <th>13_3000_lower</th>\n",
       "      <th>13_6000_lower</th>\n",
       "      <th>13_8000_lower</th>\n",
       "      <th>18_10000_lower</th>\n",
       "      <th>18_16800_lower</th>\n",
       "      <th>18_3000_lower</th>\n",
       "      <th>18_6000_lower</th>\n",
       "      <th>...</th>\n",
       "      <th>43_8000_upper</th>\n",
       "      <th>48_10000_upper</th>\n",
       "      <th>48_16800_upper</th>\n",
       "      <th>48_3000_upper</th>\n",
       "      <th>48_6000_upper</th>\n",
       "      <th>48_8000_upper</th>\n",
       "      <th>53_10000_upper</th>\n",
       "      <th>53_16800_upper</th>\n",
       "      <th>53_6000_upper</th>\n",
       "      <th>53_8000_upper</th>\n",
       "    </tr>\n",
       "  </thead>\n",
       "  <tbody>\n",
       "    <tr>\n",
       "      <th>0</th>\n",
       "      <td>32</td>\n",
       "      <td>0.000000</td>\n",
       "      <td>741.000000</td>\n",
       "      <td>0.000000</td>\n",
       "      <td>0.000000</td>\n",
       "      <td>0.000000</td>\n",
       "      <td>0.000000</td>\n",
       "      <td>0.000000</td>\n",
       "      <td>1047.000000</td>\n",
       "      <td>0.000000</td>\n",
       "      <td>...</td>\n",
       "      <td>2515.444444</td>\n",
       "      <td>0.000000</td>\n",
       "      <td>0.000000</td>\n",
       "      <td>2787.833333</td>\n",
       "      <td>0.000000</td>\n",
       "      <td>0.000000</td>\n",
       "      <td>3099.000000</td>\n",
       "      <td>0.000000</td>\n",
       "      <td>0.000000</td>\n",
       "      <td>0.000000</td>\n",
       "    </tr>\n",
       "    <tr>\n",
       "      <th>1</th>\n",
       "      <td>33</td>\n",
       "      <td>754.402299</td>\n",
       "      <td>755.000000</td>\n",
       "      <td>0.000000</td>\n",
       "      <td>755.307692</td>\n",
       "      <td>747.000000</td>\n",
       "      <td>0.000000</td>\n",
       "      <td>0.000000</td>\n",
       "      <td>0.000000</td>\n",
       "      <td>0.000000</td>\n",
       "      <td>...</td>\n",
       "      <td>2479.500000</td>\n",
       "      <td>0.000000</td>\n",
       "      <td>0.000000</td>\n",
       "      <td>2740.037037</td>\n",
       "      <td>0.000000</td>\n",
       "      <td>0.000000</td>\n",
       "      <td>0.000000</td>\n",
       "      <td>3073.666667</td>\n",
       "      <td>3073.400000</td>\n",
       "      <td>3074.000000</td>\n",
       "    </tr>\n",
       "    <tr>\n",
       "      <th>2</th>\n",
       "      <td>34</td>\n",
       "      <td>0.000000</td>\n",
       "      <td>0.000000</td>\n",
       "      <td>653.285714</td>\n",
       "      <td>0.000000</td>\n",
       "      <td>0.000000</td>\n",
       "      <td>0.000000</td>\n",
       "      <td>944.473684</td>\n",
       "      <td>0.000000</td>\n",
       "      <td>0.000000</td>\n",
       "      <td>...</td>\n",
       "      <td>0.000000</td>\n",
       "      <td>0.000000</td>\n",
       "      <td>0.000000</td>\n",
       "      <td>0.000000</td>\n",
       "      <td>0.000000</td>\n",
       "      <td>0.000000</td>\n",
       "      <td>0.000000</td>\n",
       "      <td>0.000000</td>\n",
       "      <td>0.000000</td>\n",
       "      <td>0.000000</td>\n",
       "    </tr>\n",
       "    <tr>\n",
       "      <th>3</th>\n",
       "      <td>35</td>\n",
       "      <td>0.000000</td>\n",
       "      <td>0.000000</td>\n",
       "      <td>0.000000</td>\n",
       "      <td>0.000000</td>\n",
       "      <td>862.151515</td>\n",
       "      <td>1003.000000</td>\n",
       "      <td>0.000000</td>\n",
       "      <td>0.000000</td>\n",
       "      <td>0.000000</td>\n",
       "      <td>...</td>\n",
       "      <td>2477.698795</td>\n",
       "      <td>2758.652174</td>\n",
       "      <td>0.000000</td>\n",
       "      <td>2756.839080</td>\n",
       "      <td>0.000000</td>\n",
       "      <td>2778.428571</td>\n",
       "      <td>0.000000</td>\n",
       "      <td>0.000000</td>\n",
       "      <td>0.000000</td>\n",
       "      <td>0.000000</td>\n",
       "    </tr>\n",
       "    <tr>\n",
       "      <th>4</th>\n",
       "      <td>36</td>\n",
       "      <td>0.000000</td>\n",
       "      <td>0.000000</td>\n",
       "      <td>0.000000</td>\n",
       "      <td>0.000000</td>\n",
       "      <td>0.000000</td>\n",
       "      <td>1066.244444</td>\n",
       "      <td>0.000000</td>\n",
       "      <td>1055.000000</td>\n",
       "      <td>1066.105263</td>\n",
       "      <td>...</td>\n",
       "      <td>0.000000</td>\n",
       "      <td>2779.000000</td>\n",
       "      <td>0.000000</td>\n",
       "      <td>0.000000</td>\n",
       "      <td>0.000000</td>\n",
       "      <td>0.000000</td>\n",
       "      <td>3113.000000</td>\n",
       "      <td>0.000000</td>\n",
       "      <td>0.000000</td>\n",
       "      <td>0.000000</td>\n",
       "    </tr>\n",
       "    <tr>\n",
       "      <th>5</th>\n",
       "      <td>37</td>\n",
       "      <td>715.000000</td>\n",
       "      <td>0.000000</td>\n",
       "      <td>731.000000</td>\n",
       "      <td>0.000000</td>\n",
       "      <td>731.000000</td>\n",
       "      <td>0.000000</td>\n",
       "      <td>0.000000</td>\n",
       "      <td>0.000000</td>\n",
       "      <td>0.000000</td>\n",
       "      <td>...</td>\n",
       "      <td>2456.600000</td>\n",
       "      <td>2720.523810</td>\n",
       "      <td>2679.000000</td>\n",
       "      <td>2720.063291</td>\n",
       "      <td>2743.285714</td>\n",
       "      <td>2743.000000</td>\n",
       "      <td>3075.000000</td>\n",
       "      <td>3046.666667</td>\n",
       "      <td>3041.153846</td>\n",
       "      <td>2241.333333</td>\n",
       "    </tr>\n",
       "    <tr>\n",
       "      <th>6</th>\n",
       "      <td>38</td>\n",
       "      <td>0.000000</td>\n",
       "      <td>0.000000</td>\n",
       "      <td>0.000000</td>\n",
       "      <td>0.000000</td>\n",
       "      <td>0.000000</td>\n",
       "      <td>0.000000</td>\n",
       "      <td>0.000000</td>\n",
       "      <td>0.000000</td>\n",
       "      <td>1028.000000</td>\n",
       "      <td>...</td>\n",
       "      <td>2435.423529</td>\n",
       "      <td>0.000000</td>\n",
       "      <td>0.000000</td>\n",
       "      <td>0.000000</td>\n",
       "      <td>0.000000</td>\n",
       "      <td>0.000000</td>\n",
       "      <td>3063.000000</td>\n",
       "      <td>0.000000</td>\n",
       "      <td>0.000000</td>\n",
       "      <td>1862.333333</td>\n",
       "    </tr>\n",
       "    <tr>\n",
       "      <th>7</th>\n",
       "      <td>39</td>\n",
       "      <td>0.000000</td>\n",
       "      <td>866.148936</td>\n",
       "      <td>866.148936</td>\n",
       "      <td>0.000000</td>\n",
       "      <td>0.000000</td>\n",
       "      <td>1070.435294</td>\n",
       "      <td>1070.670588</td>\n",
       "      <td>1070.645570</td>\n",
       "      <td>1070.703704</td>\n",
       "      <td>...</td>\n",
       "      <td>2463.000000</td>\n",
       "      <td>0.000000</td>\n",
       "      <td>2719.727273</td>\n",
       "      <td>2696.185185</td>\n",
       "      <td>2696.234568</td>\n",
       "      <td>2695.911392</td>\n",
       "      <td>2994.340206</td>\n",
       "      <td>3023.000000</td>\n",
       "      <td>3023.000000</td>\n",
       "      <td>2993.408163</td>\n",
       "    </tr>\n",
       "    <tr>\n",
       "      <th>8</th>\n",
       "      <td>40</td>\n",
       "      <td>0.000000</td>\n",
       "      <td>0.000000</td>\n",
       "      <td>0.000000</td>\n",
       "      <td>0.000000</td>\n",
       "      <td>0.000000</td>\n",
       "      <td>0.000000</td>\n",
       "      <td>0.000000</td>\n",
       "      <td>0.000000</td>\n",
       "      <td>1035.000000</td>\n",
       "      <td>...</td>\n",
       "      <td>0.000000</td>\n",
       "      <td>2763.769231</td>\n",
       "      <td>2739.987654</td>\n",
       "      <td>0.000000</td>\n",
       "      <td>0.000000</td>\n",
       "      <td>2771.000000</td>\n",
       "      <td>0.000000</td>\n",
       "      <td>3051.640000</td>\n",
       "      <td>3050.333333</td>\n",
       "      <td>0.000000</td>\n",
       "    </tr>\n",
       "    <tr>\n",
       "      <th>9</th>\n",
       "      <td>41</td>\n",
       "      <td>0.000000</td>\n",
       "      <td>0.000000</td>\n",
       "      <td>0.000000</td>\n",
       "      <td>0.000000</td>\n",
       "      <td>0.000000</td>\n",
       "      <td>0.000000</td>\n",
       "      <td>1010.157895</td>\n",
       "      <td>1012.454545</td>\n",
       "      <td>0.000000</td>\n",
       "      <td>...</td>\n",
       "      <td>0.000000</td>\n",
       "      <td>2753.782609</td>\n",
       "      <td>0.000000</td>\n",
       "      <td>0.000000</td>\n",
       "      <td>2753.153846</td>\n",
       "      <td>2752.714286</td>\n",
       "      <td>3053.000000</td>\n",
       "      <td>0.000000</td>\n",
       "      <td>3029.168675</td>\n",
       "      <td>3053.476190</td>\n",
       "    </tr>\n",
       "    <tr>\n",
       "      <th>10</th>\n",
       "      <td>42</td>\n",
       "      <td>0.000000</td>\n",
       "      <td>0.000000</td>\n",
       "      <td>0.000000</td>\n",
       "      <td>0.000000</td>\n",
       "      <td>0.000000</td>\n",
       "      <td>0.000000</td>\n",
       "      <td>0.000000</td>\n",
       "      <td>0.000000</td>\n",
       "      <td>0.000000</td>\n",
       "      <td>...</td>\n",
       "      <td>0.000000</td>\n",
       "      <td>0.000000</td>\n",
       "      <td>0.000000</td>\n",
       "      <td>2724.473684</td>\n",
       "      <td>0.000000</td>\n",
       "      <td>0.000000</td>\n",
       "      <td>3032.105263</td>\n",
       "      <td>2963.000000</td>\n",
       "      <td>3023.222222</td>\n",
       "      <td>2938.529412</td>\n",
       "    </tr>\n",
       "    <tr>\n",
       "      <th>11</th>\n",
       "      <td>43</td>\n",
       "      <td>718.906977</td>\n",
       "      <td>718.641026</td>\n",
       "      <td>718.746835</td>\n",
       "      <td>718.631579</td>\n",
       "      <td>718.743590</td>\n",
       "      <td>1038.341176</td>\n",
       "      <td>1038.280899</td>\n",
       "      <td>1031.000000</td>\n",
       "      <td>0.000000</td>\n",
       "      <td>...</td>\n",
       "      <td>0.000000</td>\n",
       "      <td>2744.105263</td>\n",
       "      <td>0.000000</td>\n",
       "      <td>2747.831169</td>\n",
       "      <td>0.000000</td>\n",
       "      <td>2747.883117</td>\n",
       "      <td>3051.000000</td>\n",
       "      <td>0.000000</td>\n",
       "      <td>3052.000000</td>\n",
       "      <td>0.000000</td>\n",
       "    </tr>\n",
       "    <tr>\n",
       "      <th>12</th>\n",
       "      <td>44</td>\n",
       "      <td>0.000000</td>\n",
       "      <td>691.000000</td>\n",
       "      <td>0.000000</td>\n",
       "      <td>0.000000</td>\n",
       "      <td>0.000000</td>\n",
       "      <td>0.000000</td>\n",
       "      <td>0.000000</td>\n",
       "      <td>0.000000</td>\n",
       "      <td>1011.000000</td>\n",
       "      <td>...</td>\n",
       "      <td>0.000000</td>\n",
       "      <td>2736.636364</td>\n",
       "      <td>0.000000</td>\n",
       "      <td>2735.000000</td>\n",
       "      <td>2736.200000</td>\n",
       "      <td>2739.571429</td>\n",
       "      <td>0.000000</td>\n",
       "      <td>0.000000</td>\n",
       "      <td>3040.714286</td>\n",
       "      <td>0.000000</td>\n",
       "    </tr>\n",
       "    <tr>\n",
       "      <th>13</th>\n",
       "      <td>45</td>\n",
       "      <td>0.000000</td>\n",
       "      <td>746.304348</td>\n",
       "      <td>0.000000</td>\n",
       "      <td>0.000000</td>\n",
       "      <td>0.000000</td>\n",
       "      <td>1027.000000</td>\n",
       "      <td>0.000000</td>\n",
       "      <td>0.000000</td>\n",
       "      <td>1027.000000</td>\n",
       "      <td>...</td>\n",
       "      <td>0.000000</td>\n",
       "      <td>0.000000</td>\n",
       "      <td>0.000000</td>\n",
       "      <td>2777.400000</td>\n",
       "      <td>0.000000</td>\n",
       "      <td>0.000000</td>\n",
       "      <td>0.000000</td>\n",
       "      <td>0.000000</td>\n",
       "      <td>0.000000</td>\n",
       "      <td>0.000000</td>\n",
       "    </tr>\n",
       "    <tr>\n",
       "      <th>14</th>\n",
       "      <td>46</td>\n",
       "      <td>714.139785</td>\n",
       "      <td>0.000000</td>\n",
       "      <td>714.348837</td>\n",
       "      <td>714.105882</td>\n",
       "      <td>714.132530</td>\n",
       "      <td>0.000000</td>\n",
       "      <td>1007.615385</td>\n",
       "      <td>0.000000</td>\n",
       "      <td>1030.244444</td>\n",
       "      <td>...</td>\n",
       "      <td>0.000000</td>\n",
       "      <td>2767.000000</td>\n",
       "      <td>0.000000</td>\n",
       "      <td>0.000000</td>\n",
       "      <td>2765.222222</td>\n",
       "      <td>2766.200000</td>\n",
       "      <td>3051.000000</td>\n",
       "      <td>0.000000</td>\n",
       "      <td>0.000000</td>\n",
       "      <td>0.000000</td>\n",
       "    </tr>\n",
       "    <tr>\n",
       "      <th>15</th>\n",
       "      <td>47</td>\n",
       "      <td>691.000000</td>\n",
       "      <td>0.000000</td>\n",
       "      <td>0.000000</td>\n",
       "      <td>0.000000</td>\n",
       "      <td>0.000000</td>\n",
       "      <td>955.000000</td>\n",
       "      <td>0.000000</td>\n",
       "      <td>0.000000</td>\n",
       "      <td>0.000000</td>\n",
       "      <td>...</td>\n",
       "      <td>2335.200000</td>\n",
       "      <td>0.000000</td>\n",
       "      <td>2413.000000</td>\n",
       "      <td>2330.428571</td>\n",
       "      <td>0.000000</td>\n",
       "      <td>0.000000</td>\n",
       "      <td>0.000000</td>\n",
       "      <td>2495.000000</td>\n",
       "      <td>2507.000000</td>\n",
       "      <td>0.000000</td>\n",
       "    </tr>\n",
       "    <tr>\n",
       "      <th>16</th>\n",
       "      <td>48</td>\n",
       "      <td>0.000000</td>\n",
       "      <td>0.000000</td>\n",
       "      <td>0.000000</td>\n",
       "      <td>0.000000</td>\n",
       "      <td>727.000000</td>\n",
       "      <td>0.000000</td>\n",
       "      <td>999.888889</td>\n",
       "      <td>1022.162791</td>\n",
       "      <td>1022.219512</td>\n",
       "      <td>...</td>\n",
       "      <td>0.000000</td>\n",
       "      <td>0.000000</td>\n",
       "      <td>0.000000</td>\n",
       "      <td>2735.400000</td>\n",
       "      <td>0.000000</td>\n",
       "      <td>0.000000</td>\n",
       "      <td>0.000000</td>\n",
       "      <td>0.000000</td>\n",
       "      <td>0.000000</td>\n",
       "      <td>0.000000</td>\n",
       "    </tr>\n",
       "    <tr>\n",
       "      <th>17</th>\n",
       "      <td>49</td>\n",
       "      <td>708.333333</td>\n",
       "      <td>708.714286</td>\n",
       "      <td>0.000000</td>\n",
       "      <td>699.000000</td>\n",
       "      <td>0.000000</td>\n",
       "      <td>1023.000000</td>\n",
       "      <td>1023.000000</td>\n",
       "      <td>0.000000</td>\n",
       "      <td>1023.000000</td>\n",
       "      <td>...</td>\n",
       "      <td>0.000000</td>\n",
       "      <td>0.000000</td>\n",
       "      <td>0.000000</td>\n",
       "      <td>0.000000</td>\n",
       "      <td>0.000000</td>\n",
       "      <td>0.000000</td>\n",
       "      <td>0.000000</td>\n",
       "      <td>0.000000</td>\n",
       "      <td>0.000000</td>\n",
       "      <td>0.000000</td>\n",
       "    </tr>\n",
       "    <tr>\n",
       "      <th>18</th>\n",
       "      <td>50</td>\n",
       "      <td>0.000000</td>\n",
       "      <td>0.000000</td>\n",
       "      <td>718.578947</td>\n",
       "      <td>718.179487</td>\n",
       "      <td>718.348837</td>\n",
       "      <td>0.000000</td>\n",
       "      <td>0.000000</td>\n",
       "      <td>0.000000</td>\n",
       "      <td>0.000000</td>\n",
       "      <td>...</td>\n",
       "      <td>2508.600000</td>\n",
       "      <td>2788.090909</td>\n",
       "      <td>2807.000000</td>\n",
       "      <td>0.000000</td>\n",
       "      <td>2793.222222</td>\n",
       "      <td>2800.454545</td>\n",
       "      <td>0.000000</td>\n",
       "      <td>3107.000000</td>\n",
       "      <td>3076.714286</td>\n",
       "      <td>0.000000</td>\n",
       "    </tr>\n",
       "    <tr>\n",
       "      <th>19</th>\n",
       "      <td>51</td>\n",
       "      <td>754.900000</td>\n",
       "      <td>0.000000</td>\n",
       "      <td>0.000000</td>\n",
       "      <td>0.000000</td>\n",
       "      <td>0.000000</td>\n",
       "      <td>0.000000</td>\n",
       "      <td>0.000000</td>\n",
       "      <td>0.000000</td>\n",
       "      <td>1017.871795</td>\n",
       "      <td>...</td>\n",
       "      <td>0.000000</td>\n",
       "      <td>2739.800000</td>\n",
       "      <td>0.000000</td>\n",
       "      <td>2747.000000</td>\n",
       "      <td>0.000000</td>\n",
       "      <td>2739.000000</td>\n",
       "      <td>0.000000</td>\n",
       "      <td>0.000000</td>\n",
       "      <td>0.000000</td>\n",
       "      <td>0.000000</td>\n",
       "    </tr>\n",
       "    <tr>\n",
       "      <th>20</th>\n",
       "      <td>52</td>\n",
       "      <td>0.000000</td>\n",
       "      <td>0.000000</td>\n",
       "      <td>0.000000</td>\n",
       "      <td>0.000000</td>\n",
       "      <td>0.000000</td>\n",
       "      <td>0.000000</td>\n",
       "      <td>0.000000</td>\n",
       "      <td>1039.000000</td>\n",
       "      <td>0.000000</td>\n",
       "      <td>...</td>\n",
       "      <td>0.000000</td>\n",
       "      <td>0.000000</td>\n",
       "      <td>0.000000</td>\n",
       "      <td>2753.046512</td>\n",
       "      <td>2801.666667</td>\n",
       "      <td>2777.333333</td>\n",
       "      <td>0.000000</td>\n",
       "      <td>0.000000</td>\n",
       "      <td>0.000000</td>\n",
       "      <td>0.000000</td>\n",
       "    </tr>\n",
       "    <tr>\n",
       "      <th>21</th>\n",
       "      <td>53</td>\n",
       "      <td>773.871795</td>\n",
       "      <td>0.000000</td>\n",
       "      <td>0.000000</td>\n",
       "      <td>0.000000</td>\n",
       "      <td>0.000000</td>\n",
       "      <td>0.000000</td>\n",
       "      <td>0.000000</td>\n",
       "      <td>0.000000</td>\n",
       "      <td>0.000000</td>\n",
       "      <td>...</td>\n",
       "      <td>0.000000</td>\n",
       "      <td>0.000000</td>\n",
       "      <td>2799.400000</td>\n",
       "      <td>0.000000</td>\n",
       "      <td>0.000000</td>\n",
       "      <td>2800.333333</td>\n",
       "      <td>3090.200000</td>\n",
       "      <td>3085.666667</td>\n",
       "      <td>0.000000</td>\n",
       "      <td>0.000000</td>\n",
       "    </tr>\n",
       "    <tr>\n",
       "      <th>22</th>\n",
       "      <td>54</td>\n",
       "      <td>0.000000</td>\n",
       "      <td>0.000000</td>\n",
       "      <td>0.000000</td>\n",
       "      <td>735.000000</td>\n",
       "      <td>0.000000</td>\n",
       "      <td>0.000000</td>\n",
       "      <td>0.000000</td>\n",
       "      <td>1056.545455</td>\n",
       "      <td>0.000000</td>\n",
       "      <td>...</td>\n",
       "      <td>2488.000000</td>\n",
       "      <td>2773.000000</td>\n",
       "      <td>0.000000</td>\n",
       "      <td>2773.400000</td>\n",
       "      <td>2775.000000</td>\n",
       "      <td>2773.400000</td>\n",
       "      <td>0.000000</td>\n",
       "      <td>0.000000</td>\n",
       "      <td>3060.600000</td>\n",
       "      <td>3061.333333</td>\n",
       "    </tr>\n",
       "    <tr>\n",
       "      <th>23</th>\n",
       "      <td>55</td>\n",
       "      <td>0.000000</td>\n",
       "      <td>0.000000</td>\n",
       "      <td>743.000000</td>\n",
       "      <td>754.166667</td>\n",
       "      <td>754.130435</td>\n",
       "      <td>0.000000</td>\n",
       "      <td>0.000000</td>\n",
       "      <td>0.000000</td>\n",
       "      <td>0.000000</td>\n",
       "      <td>...</td>\n",
       "      <td>0.000000</td>\n",
       "      <td>0.000000</td>\n",
       "      <td>0.000000</td>\n",
       "      <td>0.000000</td>\n",
       "      <td>0.000000</td>\n",
       "      <td>0.000000</td>\n",
       "      <td>3061.000000</td>\n",
       "      <td>1663.666667</td>\n",
       "      <td>3035.476190</td>\n",
       "      <td>3035.666667</td>\n",
       "    </tr>\n",
       "    <tr>\n",
       "      <th>24</th>\n",
       "      <td>56</td>\n",
       "      <td>699.000000</td>\n",
       "      <td>0.000000</td>\n",
       "      <td>0.000000</td>\n",
       "      <td>0.000000</td>\n",
       "      <td>0.000000</td>\n",
       "      <td>0.000000</td>\n",
       "      <td>0.000000</td>\n",
       "      <td>0.000000</td>\n",
       "      <td>0.000000</td>\n",
       "      <td>...</td>\n",
       "      <td>0.000000</td>\n",
       "      <td>0.000000</td>\n",
       "      <td>0.000000</td>\n",
       "      <td>2732.090909</td>\n",
       "      <td>0.000000</td>\n",
       "      <td>0.000000</td>\n",
       "      <td>0.000000</td>\n",
       "      <td>0.000000</td>\n",
       "      <td>0.000000</td>\n",
       "      <td>0.000000</td>\n",
       "    </tr>\n",
       "    <tr>\n",
       "      <th>25</th>\n",
       "      <td>57</td>\n",
       "      <td>0.000000</td>\n",
       "      <td>0.000000</td>\n",
       "      <td>0.000000</td>\n",
       "      <td>0.000000</td>\n",
       "      <td>0.000000</td>\n",
       "      <td>0.000000</td>\n",
       "      <td>0.000000</td>\n",
       "      <td>0.000000</td>\n",
       "      <td>0.000000</td>\n",
       "      <td>...</td>\n",
       "      <td>0.000000</td>\n",
       "      <td>0.000000</td>\n",
       "      <td>0.000000</td>\n",
       "      <td>0.000000</td>\n",
       "      <td>0.000000</td>\n",
       "      <td>0.000000</td>\n",
       "      <td>3056.600000</td>\n",
       "      <td>0.000000</td>\n",
       "      <td>0.000000</td>\n",
       "      <td>0.000000</td>\n",
       "    </tr>\n",
       "    <tr>\n",
       "      <th>26</th>\n",
       "      <td>58</td>\n",
       "      <td>0.000000</td>\n",
       "      <td>0.000000</td>\n",
       "      <td>726.000000</td>\n",
       "      <td>725.952381</td>\n",
       "      <td>0.000000</td>\n",
       "      <td>0.000000</td>\n",
       "      <td>1013.857143</td>\n",
       "      <td>0.000000</td>\n",
       "      <td>0.000000</td>\n",
       "      <td>...</td>\n",
       "      <td>2464.000000</td>\n",
       "      <td>0.000000</td>\n",
       "      <td>0.000000</td>\n",
       "      <td>0.000000</td>\n",
       "      <td>2747.000000</td>\n",
       "      <td>0.000000</td>\n",
       "      <td>3065.909091</td>\n",
       "      <td>3095.000000</td>\n",
       "      <td>3064.333333</td>\n",
       "      <td>3068.000000</td>\n",
       "    </tr>\n",
       "    <tr>\n",
       "      <th>27</th>\n",
       "      <td>59</td>\n",
       "      <td>0.000000</td>\n",
       "      <td>697.000000</td>\n",
       "      <td>0.000000</td>\n",
       "      <td>0.000000</td>\n",
       "      <td>0.000000</td>\n",
       "      <td>0.000000</td>\n",
       "      <td>0.000000</td>\n",
       "      <td>0.000000</td>\n",
       "      <td>0.000000</td>\n",
       "      <td>...</td>\n",
       "      <td>0.000000</td>\n",
       "      <td>2745.285714</td>\n",
       "      <td>0.000000</td>\n",
       "      <td>0.000000</td>\n",
       "      <td>0.000000</td>\n",
       "      <td>2755.000000</td>\n",
       "      <td>0.000000</td>\n",
       "      <td>0.000000</td>\n",
       "      <td>0.000000</td>\n",
       "      <td>0.000000</td>\n",
       "    </tr>\n",
       "    <tr>\n",
       "      <th>28</th>\n",
       "      <td>60</td>\n",
       "      <td>0.000000</td>\n",
       "      <td>499.363636</td>\n",
       "      <td>727.000000</td>\n",
       "      <td>0.000000</td>\n",
       "      <td>0.000000</td>\n",
       "      <td>0.000000</td>\n",
       "      <td>1024.000000</td>\n",
       "      <td>0.000000</td>\n",
       "      <td>0.000000</td>\n",
       "      <td>...</td>\n",
       "      <td>2479.526316</td>\n",
       "      <td>0.000000</td>\n",
       "      <td>0.000000</td>\n",
       "      <td>0.000000</td>\n",
       "      <td>2757.500000</td>\n",
       "      <td>2759.000000</td>\n",
       "      <td>3055.666667</td>\n",
       "      <td>0.000000</td>\n",
       "      <td>3057.000000</td>\n",
       "      <td>3059.000000</td>\n",
       "    </tr>\n",
       "    <tr>\n",
       "      <th>29</th>\n",
       "      <td>61</td>\n",
       "      <td>0.000000</td>\n",
       "      <td>0.000000</td>\n",
       "      <td>718.487179</td>\n",
       "      <td>718.473684</td>\n",
       "      <td>0.000000</td>\n",
       "      <td>0.000000</td>\n",
       "      <td>0.000000</td>\n",
       "      <td>0.000000</td>\n",
       "      <td>1010.076923</td>\n",
       "      <td>...</td>\n",
       "      <td>2454.555556</td>\n",
       "      <td>2739.000000</td>\n",
       "      <td>0.000000</td>\n",
       "      <td>2741.500000</td>\n",
       "      <td>0.000000</td>\n",
       "      <td>2739.000000</td>\n",
       "      <td>3039.000000</td>\n",
       "      <td>0.000000</td>\n",
       "      <td>0.000000</td>\n",
       "      <td>0.000000</td>\n",
       "    </tr>\n",
       "    <tr>\n",
       "      <th>30</th>\n",
       "      <td>62</td>\n",
       "      <td>759.000000</td>\n",
       "      <td>0.000000</td>\n",
       "      <td>0.000000</td>\n",
       "      <td>766.219512</td>\n",
       "      <td>0.000000</td>\n",
       "      <td>0.000000</td>\n",
       "      <td>0.000000</td>\n",
       "      <td>0.000000</td>\n",
       "      <td>0.000000</td>\n",
       "      <td>...</td>\n",
       "      <td>2463.421053</td>\n",
       "      <td>0.000000</td>\n",
       "      <td>0.000000</td>\n",
       "      <td>2742.600000</td>\n",
       "      <td>2745.952381</td>\n",
       "      <td>2746.804878</td>\n",
       "      <td>0.000000</td>\n",
       "      <td>0.000000</td>\n",
       "      <td>0.000000</td>\n",
       "      <td>0.000000</td>\n",
       "    </tr>\n",
       "    <tr>\n",
       "      <th>31</th>\n",
       "      <td>63</td>\n",
       "      <td>0.000000</td>\n",
       "      <td>750.000000</td>\n",
       "      <td>0.000000</td>\n",
       "      <td>0.000000</td>\n",
       "      <td>0.000000</td>\n",
       "      <td>1066.200000</td>\n",
       "      <td>0.000000</td>\n",
       "      <td>1065.926829</td>\n",
       "      <td>0.000000</td>\n",
       "      <td>...</td>\n",
       "      <td>2481.000000</td>\n",
       "      <td>0.000000</td>\n",
       "      <td>2741.666667</td>\n",
       "      <td>2743.400000</td>\n",
       "      <td>2740.333333</td>\n",
       "      <td>2747.000000</td>\n",
       "      <td>3057.666667</td>\n",
       "      <td>0.000000</td>\n",
       "      <td>0.000000</td>\n",
       "      <td>3039.545455</td>\n",
       "    </tr>\n",
       "    <tr>\n",
       "      <th>32</th>\n",
       "      <td>64</td>\n",
       "      <td>0.000000</td>\n",
       "      <td>0.000000</td>\n",
       "      <td>0.000000</td>\n",
       "      <td>0.000000</td>\n",
       "      <td>0.000000</td>\n",
       "      <td>1018.000000</td>\n",
       "      <td>0.000000</td>\n",
       "      <td>0.000000</td>\n",
       "      <td>1025.869565</td>\n",
       "      <td>...</td>\n",
       "      <td>0.000000</td>\n",
       "      <td>2735.000000</td>\n",
       "      <td>0.000000</td>\n",
       "      <td>0.000000</td>\n",
       "      <td>2737.285714</td>\n",
       "      <td>0.000000</td>\n",
       "      <td>0.000000</td>\n",
       "      <td>3051.000000</td>\n",
       "      <td>0.000000</td>\n",
       "      <td>0.000000</td>\n",
       "    </tr>\n",
       "    <tr>\n",
       "      <th>33</th>\n",
       "      <td>65</td>\n",
       "      <td>0.000000</td>\n",
       "      <td>0.000000</td>\n",
       "      <td>0.000000</td>\n",
       "      <td>771.000000</td>\n",
       "      <td>0.000000</td>\n",
       "      <td>0.000000</td>\n",
       "      <td>0.000000</td>\n",
       "      <td>0.000000</td>\n",
       "      <td>1079.000000</td>\n",
       "      <td>...</td>\n",
       "      <td>2513.181818</td>\n",
       "      <td>0.000000</td>\n",
       "      <td>0.000000</td>\n",
       "      <td>2808.818182</td>\n",
       "      <td>0.000000</td>\n",
       "      <td>2800.090909</td>\n",
       "      <td>0.000000</td>\n",
       "      <td>3143.000000</td>\n",
       "      <td>3121.285714</td>\n",
       "      <td>3121.666667</td>\n",
       "    </tr>\n",
       "    <tr>\n",
       "      <th>34</th>\n",
       "      <td>66</td>\n",
       "      <td>0.000000</td>\n",
       "      <td>754.619048</td>\n",
       "      <td>754.300000</td>\n",
       "      <td>754.644444</td>\n",
       "      <td>0.000000</td>\n",
       "      <td>0.000000</td>\n",
       "      <td>0.000000</td>\n",
       "      <td>1049.842105</td>\n",
       "      <td>0.000000</td>\n",
       "      <td>...</td>\n",
       "      <td>0.000000</td>\n",
       "      <td>2758.333333</td>\n",
       "      <td>0.000000</td>\n",
       "      <td>2755.666667</td>\n",
       "      <td>2743.000000</td>\n",
       "      <td>2759.000000</td>\n",
       "      <td>0.000000</td>\n",
       "      <td>0.000000</td>\n",
       "      <td>3031.177778</td>\n",
       "      <td>0.000000</td>\n",
       "    </tr>\n",
       "    <tr>\n",
       "      <th>35</th>\n",
       "      <td>67</td>\n",
       "      <td>750.466667</td>\n",
       "      <td>0.000000</td>\n",
       "      <td>749.750000</td>\n",
       "      <td>749.956522</td>\n",
       "      <td>750.333333</td>\n",
       "      <td>0.000000</td>\n",
       "      <td>1031.000000</td>\n",
       "      <td>1058.183673</td>\n",
       "      <td>0.000000</td>\n",
       "      <td>...</td>\n",
       "      <td>0.000000</td>\n",
       "      <td>0.000000</td>\n",
       "      <td>0.000000</td>\n",
       "      <td>0.000000</td>\n",
       "      <td>0.000000</td>\n",
       "      <td>0.000000</td>\n",
       "      <td>0.000000</td>\n",
       "      <td>3087.000000</td>\n",
       "      <td>0.000000</td>\n",
       "      <td>0.000000</td>\n",
       "    </tr>\n",
       "    <tr>\n",
       "      <th>36</th>\n",
       "      <td>68</td>\n",
       "      <td>819.000000</td>\n",
       "      <td>0.000000</td>\n",
       "      <td>826.040000</td>\n",
       "      <td>815.000000</td>\n",
       "      <td>825.960000</td>\n",
       "      <td>0.000000</td>\n",
       "      <td>1127.000000</td>\n",
       "      <td>1122.684211</td>\n",
       "      <td>1123.000000</td>\n",
       "      <td>...</td>\n",
       "      <td>2539.878049</td>\n",
       "      <td>0.000000</td>\n",
       "      <td>0.000000</td>\n",
       "      <td>0.000000</td>\n",
       "      <td>0.000000</td>\n",
       "      <td>0.000000</td>\n",
       "      <td>0.000000</td>\n",
       "      <td>3158.000000</td>\n",
       "      <td>0.000000</td>\n",
       "      <td>0.000000</td>\n",
       "    </tr>\n",
       "    <tr>\n",
       "      <th>37</th>\n",
       "      <td>69</td>\n",
       "      <td>0.000000</td>\n",
       "      <td>0.000000</td>\n",
       "      <td>0.000000</td>\n",
       "      <td>0.000000</td>\n",
       "      <td>0.000000</td>\n",
       "      <td>0.000000</td>\n",
       "      <td>0.000000</td>\n",
       "      <td>0.000000</td>\n",
       "      <td>1007.363636</td>\n",
       "      <td>...</td>\n",
       "      <td>0.000000</td>\n",
       "      <td>2734.333333</td>\n",
       "      <td>2709.000000</td>\n",
       "      <td>0.000000</td>\n",
       "      <td>2730.000000</td>\n",
       "      <td>2735.000000</td>\n",
       "      <td>3029.232558</td>\n",
       "      <td>0.000000</td>\n",
       "      <td>0.000000</td>\n",
       "      <td>3028.795918</td>\n",
       "    </tr>\n",
       "    <tr>\n",
       "      <th>38</th>\n",
       "      <td>70</td>\n",
       "      <td>0.000000</td>\n",
       "      <td>0.000000</td>\n",
       "      <td>0.000000</td>\n",
       "      <td>0.000000</td>\n",
       "      <td>0.000000</td>\n",
       "      <td>0.000000</td>\n",
       "      <td>0.000000</td>\n",
       "      <td>0.000000</td>\n",
       "      <td>0.000000</td>\n",
       "      <td>...</td>\n",
       "      <td>0.000000</td>\n",
       "      <td>2755.680851</td>\n",
       "      <td>0.000000</td>\n",
       "      <td>2755.600000</td>\n",
       "      <td>0.000000</td>\n",
       "      <td>2755.636364</td>\n",
       "      <td>0.000000</td>\n",
       "      <td>0.000000</td>\n",
       "      <td>0.000000</td>\n",
       "      <td>0.000000</td>\n",
       "    </tr>\n",
       "    <tr>\n",
       "      <th>39</th>\n",
       "      <td>71</td>\n",
       "      <td>755.000000</td>\n",
       "      <td>0.000000</td>\n",
       "      <td>0.000000</td>\n",
       "      <td>0.000000</td>\n",
       "      <td>0.000000</td>\n",
       "      <td>1048.333333</td>\n",
       "      <td>0.000000</td>\n",
       "      <td>1070.400000</td>\n",
       "      <td>1070.317073</td>\n",
       "      <td>...</td>\n",
       "      <td>0.000000</td>\n",
       "      <td>2773.000000</td>\n",
       "      <td>0.000000</td>\n",
       "      <td>0.000000</td>\n",
       "      <td>2774.428571</td>\n",
       "      <td>2772.714286</td>\n",
       "      <td>3099.000000</td>\n",
       "      <td>0.000000</td>\n",
       "      <td>0.000000</td>\n",
       "      <td>0.000000</td>\n",
       "    </tr>\n",
       "    <tr>\n",
       "      <th>40</th>\n",
       "      <td>72</td>\n",
       "      <td>0.000000</td>\n",
       "      <td>701.666667</td>\n",
       "      <td>726.473684</td>\n",
       "      <td>0.000000</td>\n",
       "      <td>725.974359</td>\n",
       "      <td>1017.666667</td>\n",
       "      <td>0.000000</td>\n",
       "      <td>1009.400000</td>\n",
       "      <td>1013.666667</td>\n",
       "      <td>...</td>\n",
       "      <td>0.000000</td>\n",
       "      <td>2712.000000</td>\n",
       "      <td>2731.000000</td>\n",
       "      <td>0.000000</td>\n",
       "      <td>0.000000</td>\n",
       "      <td>0.000000</td>\n",
       "      <td>3009.000000</td>\n",
       "      <td>0.000000</td>\n",
       "      <td>2988.116279</td>\n",
       "      <td>0.000000</td>\n",
       "    </tr>\n",
       "    <tr>\n",
       "      <th>41</th>\n",
       "      <td>73</td>\n",
       "      <td>0.000000</td>\n",
       "      <td>0.000000</td>\n",
       "      <td>0.000000</td>\n",
       "      <td>770.000000</td>\n",
       "      <td>0.000000</td>\n",
       "      <td>0.000000</td>\n",
       "      <td>0.000000</td>\n",
       "      <td>0.000000</td>\n",
       "      <td>0.000000</td>\n",
       "      <td>...</td>\n",
       "      <td>0.000000</td>\n",
       "      <td>2735.585366</td>\n",
       "      <td>0.000000</td>\n",
       "      <td>0.000000</td>\n",
       "      <td>0.000000</td>\n",
       "      <td>2754.200000</td>\n",
       "      <td>0.000000</td>\n",
       "      <td>0.000000</td>\n",
       "      <td>0.000000</td>\n",
       "      <td>0.000000</td>\n",
       "    </tr>\n",
       "    <tr>\n",
       "      <th>42</th>\n",
       "      <td>74</td>\n",
       "      <td>0.000000</td>\n",
       "      <td>0.000000</td>\n",
       "      <td>0.000000</td>\n",
       "      <td>0.000000</td>\n",
       "      <td>0.000000</td>\n",
       "      <td>1031.000000</td>\n",
       "      <td>1030.794872</td>\n",
       "      <td>1035.000000</td>\n",
       "      <td>0.000000</td>\n",
       "      <td>...</td>\n",
       "      <td>0.000000</td>\n",
       "      <td>2750.000000</td>\n",
       "      <td>0.000000</td>\n",
       "      <td>2748.333333</td>\n",
       "      <td>2747.800000</td>\n",
       "      <td>0.000000</td>\n",
       "      <td>3065.222222</td>\n",
       "      <td>0.000000</td>\n",
       "      <td>3059.444444</td>\n",
       "      <td>3089.000000</td>\n",
       "    </tr>\n",
       "    <tr>\n",
       "      <th>43</th>\n",
       "      <td>75</td>\n",
       "      <td>786.510204</td>\n",
       "      <td>0.000000</td>\n",
       "      <td>0.000000</td>\n",
       "      <td>786.102041</td>\n",
       "      <td>786.120000</td>\n",
       "      <td>1042.000000</td>\n",
       "      <td>0.000000</td>\n",
       "      <td>0.000000</td>\n",
       "      <td>1041.871795</td>\n",
       "      <td>...</td>\n",
       "      <td>0.000000</td>\n",
       "      <td>0.000000</td>\n",
       "      <td>0.000000</td>\n",
       "      <td>0.000000</td>\n",
       "      <td>0.000000</td>\n",
       "      <td>0.000000</td>\n",
       "      <td>2983.102564</td>\n",
       "      <td>0.000000</td>\n",
       "      <td>0.000000</td>\n",
       "      <td>0.000000</td>\n",
       "    </tr>\n",
       "  </tbody>\n",
       "</table>\n",
       "<p>44 rows × 89 columns</p>\n",
       "</div>"
      ],
      "text/plain": [
       "range_delay  Sensor ID  13_10000_lower  13_16800_lower  13_3000_lower  \\\n",
       "0                   32        0.000000      741.000000       0.000000   \n",
       "1                   33      754.402299      755.000000       0.000000   \n",
       "2                   34        0.000000        0.000000     653.285714   \n",
       "3                   35        0.000000        0.000000       0.000000   \n",
       "4                   36        0.000000        0.000000       0.000000   \n",
       "5                   37      715.000000        0.000000     731.000000   \n",
       "6                   38        0.000000        0.000000       0.000000   \n",
       "7                   39        0.000000      866.148936     866.148936   \n",
       "8                   40        0.000000        0.000000       0.000000   \n",
       "9                   41        0.000000        0.000000       0.000000   \n",
       "10                  42        0.000000        0.000000       0.000000   \n",
       "11                  43      718.906977      718.641026     718.746835   \n",
       "12                  44        0.000000      691.000000       0.000000   \n",
       "13                  45        0.000000      746.304348       0.000000   \n",
       "14                  46      714.139785        0.000000     714.348837   \n",
       "15                  47      691.000000        0.000000       0.000000   \n",
       "16                  48        0.000000        0.000000       0.000000   \n",
       "17                  49      708.333333      708.714286       0.000000   \n",
       "18                  50        0.000000        0.000000     718.578947   \n",
       "19                  51      754.900000        0.000000       0.000000   \n",
       "20                  52        0.000000        0.000000       0.000000   \n",
       "21                  53      773.871795        0.000000       0.000000   \n",
       "22                  54        0.000000        0.000000       0.000000   \n",
       "23                  55        0.000000        0.000000     743.000000   \n",
       "24                  56      699.000000        0.000000       0.000000   \n",
       "25                  57        0.000000        0.000000       0.000000   \n",
       "26                  58        0.000000        0.000000     726.000000   \n",
       "27                  59        0.000000      697.000000       0.000000   \n",
       "28                  60        0.000000      499.363636     727.000000   \n",
       "29                  61        0.000000        0.000000     718.487179   \n",
       "30                  62      759.000000        0.000000       0.000000   \n",
       "31                  63        0.000000      750.000000       0.000000   \n",
       "32                  64        0.000000        0.000000       0.000000   \n",
       "33                  65        0.000000        0.000000       0.000000   \n",
       "34                  66        0.000000      754.619048     754.300000   \n",
       "35                  67      750.466667        0.000000     749.750000   \n",
       "36                  68      819.000000        0.000000     826.040000   \n",
       "37                  69        0.000000        0.000000       0.000000   \n",
       "38                  70        0.000000        0.000000       0.000000   \n",
       "39                  71      755.000000        0.000000       0.000000   \n",
       "40                  72        0.000000      701.666667     726.473684   \n",
       "41                  73        0.000000        0.000000       0.000000   \n",
       "42                  74        0.000000        0.000000       0.000000   \n",
       "43                  75      786.510204        0.000000       0.000000   \n",
       "\n",
       "range_delay  13_6000_lower  13_8000_lower  18_10000_lower  18_16800_lower  \\\n",
       "0                 0.000000       0.000000        0.000000        0.000000   \n",
       "1               755.307692     747.000000        0.000000        0.000000   \n",
       "2                 0.000000       0.000000        0.000000      944.473684   \n",
       "3                 0.000000     862.151515     1003.000000        0.000000   \n",
       "4                 0.000000       0.000000     1066.244444        0.000000   \n",
       "5                 0.000000     731.000000        0.000000        0.000000   \n",
       "6                 0.000000       0.000000        0.000000        0.000000   \n",
       "7                 0.000000       0.000000     1070.435294     1070.670588   \n",
       "8                 0.000000       0.000000        0.000000        0.000000   \n",
       "9                 0.000000       0.000000        0.000000     1010.157895   \n",
       "10                0.000000       0.000000        0.000000        0.000000   \n",
       "11              718.631579     718.743590     1038.341176     1038.280899   \n",
       "12                0.000000       0.000000        0.000000        0.000000   \n",
       "13                0.000000       0.000000     1027.000000        0.000000   \n",
       "14              714.105882     714.132530        0.000000     1007.615385   \n",
       "15                0.000000       0.000000      955.000000        0.000000   \n",
       "16                0.000000     727.000000        0.000000      999.888889   \n",
       "17              699.000000       0.000000     1023.000000     1023.000000   \n",
       "18              718.179487     718.348837        0.000000        0.000000   \n",
       "19                0.000000       0.000000        0.000000        0.000000   \n",
       "20                0.000000       0.000000        0.000000        0.000000   \n",
       "21                0.000000       0.000000        0.000000        0.000000   \n",
       "22              735.000000       0.000000        0.000000        0.000000   \n",
       "23              754.166667     754.130435        0.000000        0.000000   \n",
       "24                0.000000       0.000000        0.000000        0.000000   \n",
       "25                0.000000       0.000000        0.000000        0.000000   \n",
       "26              725.952381       0.000000        0.000000     1013.857143   \n",
       "27                0.000000       0.000000        0.000000        0.000000   \n",
       "28                0.000000       0.000000        0.000000     1024.000000   \n",
       "29              718.473684       0.000000        0.000000        0.000000   \n",
       "30              766.219512       0.000000        0.000000        0.000000   \n",
       "31                0.000000       0.000000     1066.200000        0.000000   \n",
       "32                0.000000       0.000000     1018.000000        0.000000   \n",
       "33              771.000000       0.000000        0.000000        0.000000   \n",
       "34              754.644444       0.000000        0.000000        0.000000   \n",
       "35              749.956522     750.333333        0.000000     1031.000000   \n",
       "36              815.000000     825.960000        0.000000     1127.000000   \n",
       "37                0.000000       0.000000        0.000000        0.000000   \n",
       "38                0.000000       0.000000        0.000000        0.000000   \n",
       "39                0.000000       0.000000     1048.333333        0.000000   \n",
       "40                0.000000     725.974359     1017.666667        0.000000   \n",
       "41              770.000000       0.000000        0.000000        0.000000   \n",
       "42                0.000000       0.000000     1031.000000     1030.794872   \n",
       "43              786.102041     786.120000     1042.000000        0.000000   \n",
       "\n",
       "range_delay  18_3000_lower  18_6000_lower  ...  43_8000_upper  48_10000_upper  \\\n",
       "0              1047.000000       0.000000  ...    2515.444444        0.000000   \n",
       "1                 0.000000       0.000000  ...    2479.500000        0.000000   \n",
       "2                 0.000000       0.000000  ...       0.000000        0.000000   \n",
       "3                 0.000000       0.000000  ...    2477.698795     2758.652174   \n",
       "4              1055.000000    1066.105263  ...       0.000000     2779.000000   \n",
       "5                 0.000000       0.000000  ...    2456.600000     2720.523810   \n",
       "6                 0.000000    1028.000000  ...    2435.423529        0.000000   \n",
       "7              1070.645570    1070.703704  ...    2463.000000        0.000000   \n",
       "8                 0.000000    1035.000000  ...       0.000000     2763.769231   \n",
       "9              1012.454545       0.000000  ...       0.000000     2753.782609   \n",
       "10                0.000000       0.000000  ...       0.000000        0.000000   \n",
       "11             1031.000000       0.000000  ...       0.000000     2744.105263   \n",
       "12                0.000000    1011.000000  ...       0.000000     2736.636364   \n",
       "13                0.000000    1027.000000  ...       0.000000        0.000000   \n",
       "14                0.000000    1030.244444  ...       0.000000     2767.000000   \n",
       "15                0.000000       0.000000  ...    2335.200000        0.000000   \n",
       "16             1022.162791    1022.219512  ...       0.000000        0.000000   \n",
       "17                0.000000    1023.000000  ...       0.000000        0.000000   \n",
       "18                0.000000       0.000000  ...    2508.600000     2788.090909   \n",
       "19                0.000000    1017.871795  ...       0.000000     2739.800000   \n",
       "20             1039.000000       0.000000  ...       0.000000        0.000000   \n",
       "21                0.000000       0.000000  ...       0.000000        0.000000   \n",
       "22             1056.545455       0.000000  ...    2488.000000     2773.000000   \n",
       "23                0.000000       0.000000  ...       0.000000        0.000000   \n",
       "24                0.000000       0.000000  ...       0.000000        0.000000   \n",
       "25                0.000000       0.000000  ...       0.000000        0.000000   \n",
       "26                0.000000       0.000000  ...    2464.000000        0.000000   \n",
       "27                0.000000       0.000000  ...       0.000000     2745.285714   \n",
       "28                0.000000       0.000000  ...    2479.526316        0.000000   \n",
       "29                0.000000    1010.076923  ...    2454.555556     2739.000000   \n",
       "30                0.000000       0.000000  ...    2463.421053        0.000000   \n",
       "31             1065.926829       0.000000  ...    2481.000000        0.000000   \n",
       "32                0.000000    1025.869565  ...       0.000000     2735.000000   \n",
       "33                0.000000    1079.000000  ...    2513.181818        0.000000   \n",
       "34             1049.842105       0.000000  ...       0.000000     2758.333333   \n",
       "35             1058.183673       0.000000  ...       0.000000        0.000000   \n",
       "36             1122.684211    1123.000000  ...    2539.878049        0.000000   \n",
       "37                0.000000    1007.363636  ...       0.000000     2734.333333   \n",
       "38                0.000000       0.000000  ...       0.000000     2755.680851   \n",
       "39             1070.400000    1070.317073  ...       0.000000     2773.000000   \n",
       "40             1009.400000    1013.666667  ...       0.000000     2712.000000   \n",
       "41                0.000000       0.000000  ...       0.000000     2735.585366   \n",
       "42             1035.000000       0.000000  ...       0.000000     2750.000000   \n",
       "43                0.000000    1041.871795  ...       0.000000        0.000000   \n",
       "\n",
       "range_delay  48_16800_upper  48_3000_upper  48_6000_upper  48_8000_upper  \\\n",
       "0                  0.000000    2787.833333       0.000000       0.000000   \n",
       "1                  0.000000    2740.037037       0.000000       0.000000   \n",
       "2                  0.000000       0.000000       0.000000       0.000000   \n",
       "3                  0.000000    2756.839080       0.000000    2778.428571   \n",
       "4                  0.000000       0.000000       0.000000       0.000000   \n",
       "5               2679.000000    2720.063291    2743.285714    2743.000000   \n",
       "6                  0.000000       0.000000       0.000000       0.000000   \n",
       "7               2719.727273    2696.185185    2696.234568    2695.911392   \n",
       "8               2739.987654       0.000000       0.000000    2771.000000   \n",
       "9                  0.000000       0.000000    2753.153846    2752.714286   \n",
       "10                 0.000000    2724.473684       0.000000       0.000000   \n",
       "11                 0.000000    2747.831169       0.000000    2747.883117   \n",
       "12                 0.000000    2735.000000    2736.200000    2739.571429   \n",
       "13                 0.000000    2777.400000       0.000000       0.000000   \n",
       "14                 0.000000       0.000000    2765.222222    2766.200000   \n",
       "15              2413.000000    2330.428571       0.000000       0.000000   \n",
       "16                 0.000000    2735.400000       0.000000       0.000000   \n",
       "17                 0.000000       0.000000       0.000000       0.000000   \n",
       "18              2807.000000       0.000000    2793.222222    2800.454545   \n",
       "19                 0.000000    2747.000000       0.000000    2739.000000   \n",
       "20                 0.000000    2753.046512    2801.666667    2777.333333   \n",
       "21              2799.400000       0.000000       0.000000    2800.333333   \n",
       "22                 0.000000    2773.400000    2775.000000    2773.400000   \n",
       "23                 0.000000       0.000000       0.000000       0.000000   \n",
       "24                 0.000000    2732.090909       0.000000       0.000000   \n",
       "25                 0.000000       0.000000       0.000000       0.000000   \n",
       "26                 0.000000       0.000000    2747.000000       0.000000   \n",
       "27                 0.000000       0.000000       0.000000    2755.000000   \n",
       "28                 0.000000       0.000000    2757.500000    2759.000000   \n",
       "29                 0.000000    2741.500000       0.000000    2739.000000   \n",
       "30                 0.000000    2742.600000    2745.952381    2746.804878   \n",
       "31              2741.666667    2743.400000    2740.333333    2747.000000   \n",
       "32                 0.000000       0.000000    2737.285714       0.000000   \n",
       "33                 0.000000    2808.818182       0.000000    2800.090909   \n",
       "34                 0.000000    2755.666667    2743.000000    2759.000000   \n",
       "35                 0.000000       0.000000       0.000000       0.000000   \n",
       "36                 0.000000       0.000000       0.000000       0.000000   \n",
       "37              2709.000000       0.000000    2730.000000    2735.000000   \n",
       "38                 0.000000    2755.600000       0.000000    2755.636364   \n",
       "39                 0.000000       0.000000    2774.428571    2772.714286   \n",
       "40              2731.000000       0.000000       0.000000       0.000000   \n",
       "41                 0.000000       0.000000       0.000000    2754.200000   \n",
       "42                 0.000000    2748.333333    2747.800000       0.000000   \n",
       "43                 0.000000       0.000000       0.000000       0.000000   \n",
       "\n",
       "range_delay  53_10000_upper  53_16800_upper  53_6000_upper  53_8000_upper  \n",
       "0               3099.000000        0.000000       0.000000       0.000000  \n",
       "1                  0.000000     3073.666667    3073.400000    3074.000000  \n",
       "2                  0.000000        0.000000       0.000000       0.000000  \n",
       "3                  0.000000        0.000000       0.000000       0.000000  \n",
       "4               3113.000000        0.000000       0.000000       0.000000  \n",
       "5               3075.000000     3046.666667    3041.153846    2241.333333  \n",
       "6               3063.000000        0.000000       0.000000    1862.333333  \n",
       "7               2994.340206     3023.000000    3023.000000    2993.408163  \n",
       "8                  0.000000     3051.640000    3050.333333       0.000000  \n",
       "9               3053.000000        0.000000    3029.168675    3053.476190  \n",
       "10              3032.105263     2963.000000    3023.222222    2938.529412  \n",
       "11              3051.000000        0.000000    3052.000000       0.000000  \n",
       "12                 0.000000        0.000000    3040.714286       0.000000  \n",
       "13                 0.000000        0.000000       0.000000       0.000000  \n",
       "14              3051.000000        0.000000       0.000000       0.000000  \n",
       "15                 0.000000     2495.000000    2507.000000       0.000000  \n",
       "16                 0.000000        0.000000       0.000000       0.000000  \n",
       "17                 0.000000        0.000000       0.000000       0.000000  \n",
       "18                 0.000000     3107.000000    3076.714286       0.000000  \n",
       "19                 0.000000        0.000000       0.000000       0.000000  \n",
       "20                 0.000000        0.000000       0.000000       0.000000  \n",
       "21              3090.200000     3085.666667       0.000000       0.000000  \n",
       "22                 0.000000        0.000000    3060.600000    3061.333333  \n",
       "23              3061.000000     1663.666667    3035.476190    3035.666667  \n",
       "24                 0.000000        0.000000       0.000000       0.000000  \n",
       "25              3056.600000        0.000000       0.000000       0.000000  \n",
       "26              3065.909091     3095.000000    3064.333333    3068.000000  \n",
       "27                 0.000000        0.000000       0.000000       0.000000  \n",
       "28              3055.666667        0.000000    3057.000000    3059.000000  \n",
       "29              3039.000000        0.000000       0.000000       0.000000  \n",
       "30                 0.000000        0.000000       0.000000       0.000000  \n",
       "31              3057.666667        0.000000       0.000000    3039.545455  \n",
       "32                 0.000000     3051.000000       0.000000       0.000000  \n",
       "33                 0.000000     3143.000000    3121.285714    3121.666667  \n",
       "34                 0.000000        0.000000    3031.177778       0.000000  \n",
       "35                 0.000000     3087.000000       0.000000       0.000000  \n",
       "36                 0.000000     3158.000000       0.000000       0.000000  \n",
       "37              3029.232558        0.000000       0.000000    3028.795918  \n",
       "38                 0.000000        0.000000       0.000000       0.000000  \n",
       "39              3099.000000        0.000000       0.000000       0.000000  \n",
       "40              3009.000000        0.000000    2988.116279       0.000000  \n",
       "41                 0.000000        0.000000       0.000000       0.000000  \n",
       "42              3065.222222        0.000000    3059.444444    3089.000000  \n",
       "43              2983.102564        0.000000       0.000000       0.000000  \n",
       "\n",
       "[44 rows x 89 columns]"
      ]
     },
     "execution_count": 35,
     "metadata": {},
     "output_type": "execute_result"
    }
   ],
   "source": [
    "def drop_highly_correlated_features(df, threshold=0.8):\n",
    "    \"\"\"\n",
    "    Drops highly positively correlated features from a DataFrame.\n",
    "    \n",
    "    Parameters:\n",
    "    df (pd.DataFrame): The input DataFrame.\n",
    "    threshold (float): The correlation threshold for dropping features. Defaults to 0.8.\n",
    "    \n",
    "    Returns:\n",
    "    pd.DataFrame: DataFrame with highly positively correlated features removed.\n",
    "    list: List of dropped features.\n",
    "    \"\"\"\n",
    "    # Calculate the correlation matrix\n",
    "    corr_matrix = df.corr()\n",
    "    \n",
    "    # Identify highly positively correlated pairs\n",
    "    to_drop = set()\n",
    "    for i in range(corr_matrix.shape[0]):\n",
    "        for j in range(i + 1, corr_matrix.shape[1]):\n",
    "            if corr_matrix.iloc[i, j] > threshold:\n",
    "                colname = corr_matrix.columns[j]\n",
    "                to_drop.add(colname)\n",
    "    \n",
    "    # Drop the identified features\n",
    "    reduced_df = df.drop(columns=to_drop)\n",
    "    \n",
    "    return reduced_df, list(to_drop)\n",
    "\n",
    "# Apply the function to the dataset\n",
    "reduced_data_corr, dropped_features_corr = drop_highly_correlated_features(df_range_delay_ends, threshold=0.7)\n",
    "\n",
    "reduced_data_corr"
   ]
  },
  {
   "cell_type": "code",
   "execution_count": 36,
   "metadata": {},
   "outputs": [
    {
     "data": {
      "text/plain": [
       "['53_3000_upper', '13_8000_upper']"
      ]
     },
     "execution_count": 36,
     "metadata": {},
     "output_type": "execute_result"
    }
   ],
   "source": [
    "dropped_features_corr"
   ]
  },
  {
   "cell_type": "code",
   "execution_count": 37,
   "metadata": {},
   "outputs": [],
   "source": [
    "def plot_pca_interactive(data, sensor_id_col='Sensor ID', n_components=2):\n",
    "    \"\"\"\n",
    "    Plots an interactive scatter plot using PCA components.\n",
    "\n",
    "    Parameters:\n",
    "    data (pd.DataFrame): The input DataFrame containing features and Sensor ID.\n",
    "    sensor_id_col (str): The name of the column containing sensor IDs.\n",
    "    n_components (int): Number of principal components to compute.\n",
    "\n",
    "    Returns:\n",
    "    None: Displays an interactive Plotly scatter plot.\n",
    "    \"\"\"\n",
    "    # Apply PCA\n",
    "    pca = PCA(n_components=n_components)\n",
    "    principal_components = pca.fit_transform(data.drop(columns=[sensor_id_col]))\n",
    "\n",
    "    # Create a DataFrame with the principal components and Sensor ID\n",
    "    principal_df = pd.DataFrame(data=principal_components, columns=[f'PC{i+1}' for i in range(n_components)])\n",
    "    principal_df[sensor_id_col] = data[sensor_id_col]\n",
    "\n",
    "    # Create an interactive scatter plot using Plotly\n",
    "    fig = px.scatter(\n",
    "        principal_df,\n",
    "        x='PC1',\n",
    "        y='PC2',\n",
    "        color=sensor_id_col,\n",
    "        title='Sensors Visualized Using Principal Components',\n",
    "        labels={'PC1': 'Principal Component 1', 'PC2': 'Principal Component 2'},\n",
    "        hover_data=[sensor_id_col]\n",
    "    )\n",
    "\n",
    "    # Show the plot\n",
    "    fig.show()"
   ]
  },
  {
   "cell_type": "code",
   "execution_count": 38,
   "metadata": {},
   "outputs": [
    {
     "data": {
      "application/vnd.plotly.v1+json": {
       "config": {
        "plotlyServerURL": "https://plot.ly"
       },
       "data": [
        {
         "customdata": [
          [
           32
          ],
          [
           33
          ],
          [
           34
          ],
          [
           35
          ],
          [
           36
          ],
          [
           37
          ],
          [
           38
          ],
          [
           39
          ],
          [
           40
          ],
          [
           41
          ],
          [
           42
          ],
          [
           43
          ],
          [
           44
          ],
          [
           45
          ],
          [
           46
          ],
          [
           47
          ],
          [
           48
          ],
          [
           49
          ],
          [
           50
          ],
          [
           51
          ],
          [
           52
          ],
          [
           53
          ],
          [
           54
          ],
          [
           55
          ],
          [
           56
          ],
          [
           57
          ],
          [
           58
          ],
          [
           59
          ],
          [
           60
          ],
          [
           61
          ],
          [
           62
          ],
          [
           63
          ],
          [
           64
          ],
          [
           65
          ],
          [
           66
          ],
          [
           67
          ],
          [
           68
          ],
          [
           69
          ],
          [
           70
          ],
          [
           71
          ],
          [
           72
          ],
          [
           73
          ],
          [
           74
          ],
          [
           75
          ]
         ],
         "hovertemplate": "Principal Component 1=%{x}<br>Principal Component 2=%{y}<br>Sensor ID=%{marker.color}<extra></extra>",
         "legendgroup": "",
         "marker": {
          "color": [
           32,
           33,
           34,
           35,
           36,
           37,
           38,
           39,
           40,
           41,
           42,
           43,
           44,
           45,
           46,
           47,
           48,
           49,
           50,
           51,
           52,
           53,
           54,
           55,
           56,
           57,
           58,
           59,
           60,
           61,
           62,
           63,
           64,
           65,
           66,
           67,
           68,
           69,
           70,
           71,
           72,
           73,
           74,
           75
          ],
          "coloraxis": "coloraxis",
          "symbol": "circle"
         },
         "mode": "markers",
         "name": "",
         "orientation": "v",
         "showlegend": false,
         "type": "scatter",
         "x": [
          -3221.5183329341958,
          -3168.1150422482133,
          -2967.5045494201313,
          -2537.298254773887,
          -2388.7340204074117,
          -3157.567459472497,
          -3106.8369827128577,
          -2393.0673387980373,
          -2496.938122079486,
          -3007.6571636456506,
          -3266.114273470309,
          -2805.52403780793,
          -2519.2034465807315,
          -3199.390357331543,
          -3195.0981208631365,
          -3240.963317896707,
          -3233.3820823952874,
          -2955.765498378492,
          -3250.262244104682,
          -3228.914605550021,
          -3238.3127107781875,
          -3145.735002378367,
          -3186.224689924117,
          -2458.867705573435,
          -2991.108726614975,
          62500.93959503167,
          -3312.104519575585,
          -2340.5200809786975,
          -3187.9359006260197,
          -3281.8931200927223,
          -3271.895411082438,
          -3319.131904315997,
          62731.24384770568,
          -3163.1373837635806,
          -2448.925720353386,
          -2303.7006635972375,
          -3250.258678619143,
          -3215.173070297226,
          -3065.7193482980483,
          -2949.5428008176677,
          -3281.969854084814,
          -3109.1520154895866,
          -2365.1901225922825,
          -3005.8287620125802
         ],
         "xaxis": "x",
         "y": [
          -3955.524724203267,
          2587.4042141498126,
          -100.76595474119848,
          -2653.6691956709865,
          -2772.320361483058,
          6309.454311428906,
          -1327.6687105653048,
          7875.879451304121,
          -1104.082635023948,
          5844.072367164393,
          -719.5239861911585,
          1801.7397847141183,
          -493.88462718501347,
          -3366.7075693559214,
          1290.5821711501667,
          -1337.5033434177396,
          -2966.831139678581,
          -939.3982251231946,
          543.2203131582262,
          -2190.3118548362377,
          -1677.1848330677956,
          -2053.4098107293744,
          1776.8026188392967,
          3249.197322891472,
          -1591.0285170119557,
          -2340.3129699455544,
          97.55488726268173,
          -3342.9747119491553,
          2485.740704140683,
          -2873.635721846278,
          350.1681258004538,
          3652.7583185573585,
          2272.79641722572,
          4367.699032073608,
          3023.2207123430967,
          -2069.8875965425786,
          -3532.4907646043944,
          -345.8052364379895,
          2280.285188576702,
          712.4975167723921,
          -2344.3822815333447,
          -1811.8513445614487,
          1254.2044800980952,
          -3864.1218219458206
         ],
         "yaxis": "y"
        }
       ],
       "layout": {
        "coloraxis": {
         "colorbar": {
          "title": {
           "text": "Sensor ID"
          }
         },
         "colorscale": [
          [
           0,
           "#0d0887"
          ],
          [
           0.1111111111111111,
           "#46039f"
          ],
          [
           0.2222222222222222,
           "#7201a8"
          ],
          [
           0.3333333333333333,
           "#9c179e"
          ],
          [
           0.4444444444444444,
           "#bd3786"
          ],
          [
           0.5555555555555556,
           "#d8576b"
          ],
          [
           0.6666666666666666,
           "#ed7953"
          ],
          [
           0.7777777777777778,
           "#fb9f3a"
          ],
          [
           0.8888888888888888,
           "#fdca26"
          ],
          [
           1,
           "#f0f921"
          ]
         ]
        },
        "legend": {
         "tracegroupgap": 0
        },
        "template": {
         "data": {
          "bar": [
           {
            "error_x": {
             "color": "#2a3f5f"
            },
            "error_y": {
             "color": "#2a3f5f"
            },
            "marker": {
             "line": {
              "color": "#E5ECF6",
              "width": 0.5
             },
             "pattern": {
              "fillmode": "overlay",
              "size": 10,
              "solidity": 0.2
             }
            },
            "type": "bar"
           }
          ],
          "barpolar": [
           {
            "marker": {
             "line": {
              "color": "#E5ECF6",
              "width": 0.5
             },
             "pattern": {
              "fillmode": "overlay",
              "size": 10,
              "solidity": 0.2
             }
            },
            "type": "barpolar"
           }
          ],
          "carpet": [
           {
            "aaxis": {
             "endlinecolor": "#2a3f5f",
             "gridcolor": "white",
             "linecolor": "white",
             "minorgridcolor": "white",
             "startlinecolor": "#2a3f5f"
            },
            "baxis": {
             "endlinecolor": "#2a3f5f",
             "gridcolor": "white",
             "linecolor": "white",
             "minorgridcolor": "white",
             "startlinecolor": "#2a3f5f"
            },
            "type": "carpet"
           }
          ],
          "choropleth": [
           {
            "colorbar": {
             "outlinewidth": 0,
             "ticks": ""
            },
            "type": "choropleth"
           }
          ],
          "contour": [
           {
            "colorbar": {
             "outlinewidth": 0,
             "ticks": ""
            },
            "colorscale": [
             [
              0,
              "#0d0887"
             ],
             [
              0.1111111111111111,
              "#46039f"
             ],
             [
              0.2222222222222222,
              "#7201a8"
             ],
             [
              0.3333333333333333,
              "#9c179e"
             ],
             [
              0.4444444444444444,
              "#bd3786"
             ],
             [
              0.5555555555555556,
              "#d8576b"
             ],
             [
              0.6666666666666666,
              "#ed7953"
             ],
             [
              0.7777777777777778,
              "#fb9f3a"
             ],
             [
              0.8888888888888888,
              "#fdca26"
             ],
             [
              1,
              "#f0f921"
             ]
            ],
            "type": "contour"
           }
          ],
          "contourcarpet": [
           {
            "colorbar": {
             "outlinewidth": 0,
             "ticks": ""
            },
            "type": "contourcarpet"
           }
          ],
          "heatmap": [
           {
            "colorbar": {
             "outlinewidth": 0,
             "ticks": ""
            },
            "colorscale": [
             [
              0,
              "#0d0887"
             ],
             [
              0.1111111111111111,
              "#46039f"
             ],
             [
              0.2222222222222222,
              "#7201a8"
             ],
             [
              0.3333333333333333,
              "#9c179e"
             ],
             [
              0.4444444444444444,
              "#bd3786"
             ],
             [
              0.5555555555555556,
              "#d8576b"
             ],
             [
              0.6666666666666666,
              "#ed7953"
             ],
             [
              0.7777777777777778,
              "#fb9f3a"
             ],
             [
              0.8888888888888888,
              "#fdca26"
             ],
             [
              1,
              "#f0f921"
             ]
            ],
            "type": "heatmap"
           }
          ],
          "heatmapgl": [
           {
            "colorbar": {
             "outlinewidth": 0,
             "ticks": ""
            },
            "colorscale": [
             [
              0,
              "#0d0887"
             ],
             [
              0.1111111111111111,
              "#46039f"
             ],
             [
              0.2222222222222222,
              "#7201a8"
             ],
             [
              0.3333333333333333,
              "#9c179e"
             ],
             [
              0.4444444444444444,
              "#bd3786"
             ],
             [
              0.5555555555555556,
              "#d8576b"
             ],
             [
              0.6666666666666666,
              "#ed7953"
             ],
             [
              0.7777777777777778,
              "#fb9f3a"
             ],
             [
              0.8888888888888888,
              "#fdca26"
             ],
             [
              1,
              "#f0f921"
             ]
            ],
            "type": "heatmapgl"
           }
          ],
          "histogram": [
           {
            "marker": {
             "pattern": {
              "fillmode": "overlay",
              "size": 10,
              "solidity": 0.2
             }
            },
            "type": "histogram"
           }
          ],
          "histogram2d": [
           {
            "colorbar": {
             "outlinewidth": 0,
             "ticks": ""
            },
            "colorscale": [
             [
              0,
              "#0d0887"
             ],
             [
              0.1111111111111111,
              "#46039f"
             ],
             [
              0.2222222222222222,
              "#7201a8"
             ],
             [
              0.3333333333333333,
              "#9c179e"
             ],
             [
              0.4444444444444444,
              "#bd3786"
             ],
             [
              0.5555555555555556,
              "#d8576b"
             ],
             [
              0.6666666666666666,
              "#ed7953"
             ],
             [
              0.7777777777777778,
              "#fb9f3a"
             ],
             [
              0.8888888888888888,
              "#fdca26"
             ],
             [
              1,
              "#f0f921"
             ]
            ],
            "type": "histogram2d"
           }
          ],
          "histogram2dcontour": [
           {
            "colorbar": {
             "outlinewidth": 0,
             "ticks": ""
            },
            "colorscale": [
             [
              0,
              "#0d0887"
             ],
             [
              0.1111111111111111,
              "#46039f"
             ],
             [
              0.2222222222222222,
              "#7201a8"
             ],
             [
              0.3333333333333333,
              "#9c179e"
             ],
             [
              0.4444444444444444,
              "#bd3786"
             ],
             [
              0.5555555555555556,
              "#d8576b"
             ],
             [
              0.6666666666666666,
              "#ed7953"
             ],
             [
              0.7777777777777778,
              "#fb9f3a"
             ],
             [
              0.8888888888888888,
              "#fdca26"
             ],
             [
              1,
              "#f0f921"
             ]
            ],
            "type": "histogram2dcontour"
           }
          ],
          "mesh3d": [
           {
            "colorbar": {
             "outlinewidth": 0,
             "ticks": ""
            },
            "type": "mesh3d"
           }
          ],
          "parcoords": [
           {
            "line": {
             "colorbar": {
              "outlinewidth": 0,
              "ticks": ""
             }
            },
            "type": "parcoords"
           }
          ],
          "pie": [
           {
            "automargin": true,
            "type": "pie"
           }
          ],
          "scatter": [
           {
            "fillpattern": {
             "fillmode": "overlay",
             "size": 10,
             "solidity": 0.2
            },
            "type": "scatter"
           }
          ],
          "scatter3d": [
           {
            "line": {
             "colorbar": {
              "outlinewidth": 0,
              "ticks": ""
             }
            },
            "marker": {
             "colorbar": {
              "outlinewidth": 0,
              "ticks": ""
             }
            },
            "type": "scatter3d"
           }
          ],
          "scattercarpet": [
           {
            "marker": {
             "colorbar": {
              "outlinewidth": 0,
              "ticks": ""
             }
            },
            "type": "scattercarpet"
           }
          ],
          "scattergeo": [
           {
            "marker": {
             "colorbar": {
              "outlinewidth": 0,
              "ticks": ""
             }
            },
            "type": "scattergeo"
           }
          ],
          "scattergl": [
           {
            "marker": {
             "colorbar": {
              "outlinewidth": 0,
              "ticks": ""
             }
            },
            "type": "scattergl"
           }
          ],
          "scattermapbox": [
           {
            "marker": {
             "colorbar": {
              "outlinewidth": 0,
              "ticks": ""
             }
            },
            "type": "scattermapbox"
           }
          ],
          "scatterpolar": [
           {
            "marker": {
             "colorbar": {
              "outlinewidth": 0,
              "ticks": ""
             }
            },
            "type": "scatterpolar"
           }
          ],
          "scatterpolargl": [
           {
            "marker": {
             "colorbar": {
              "outlinewidth": 0,
              "ticks": ""
             }
            },
            "type": "scatterpolargl"
           }
          ],
          "scatterternary": [
           {
            "marker": {
             "colorbar": {
              "outlinewidth": 0,
              "ticks": ""
             }
            },
            "type": "scatterternary"
           }
          ],
          "surface": [
           {
            "colorbar": {
             "outlinewidth": 0,
             "ticks": ""
            },
            "colorscale": [
             [
              0,
              "#0d0887"
             ],
             [
              0.1111111111111111,
              "#46039f"
             ],
             [
              0.2222222222222222,
              "#7201a8"
             ],
             [
              0.3333333333333333,
              "#9c179e"
             ],
             [
              0.4444444444444444,
              "#bd3786"
             ],
             [
              0.5555555555555556,
              "#d8576b"
             ],
             [
              0.6666666666666666,
              "#ed7953"
             ],
             [
              0.7777777777777778,
              "#fb9f3a"
             ],
             [
              0.8888888888888888,
              "#fdca26"
             ],
             [
              1,
              "#f0f921"
             ]
            ],
            "type": "surface"
           }
          ],
          "table": [
           {
            "cells": {
             "fill": {
              "color": "#EBF0F8"
             },
             "line": {
              "color": "white"
             }
            },
            "header": {
             "fill": {
              "color": "#C8D4E3"
             },
             "line": {
              "color": "white"
             }
            },
            "type": "table"
           }
          ]
         },
         "layout": {
          "annotationdefaults": {
           "arrowcolor": "#2a3f5f",
           "arrowhead": 0,
           "arrowwidth": 1
          },
          "autotypenumbers": "strict",
          "coloraxis": {
           "colorbar": {
            "outlinewidth": 0,
            "ticks": ""
           }
          },
          "colorscale": {
           "diverging": [
            [
             0,
             "#8e0152"
            ],
            [
             0.1,
             "#c51b7d"
            ],
            [
             0.2,
             "#de77ae"
            ],
            [
             0.3,
             "#f1b6da"
            ],
            [
             0.4,
             "#fde0ef"
            ],
            [
             0.5,
             "#f7f7f7"
            ],
            [
             0.6,
             "#e6f5d0"
            ],
            [
             0.7,
             "#b8e186"
            ],
            [
             0.8,
             "#7fbc41"
            ],
            [
             0.9,
             "#4d9221"
            ],
            [
             1,
             "#276419"
            ]
           ],
           "sequential": [
            [
             0,
             "#0d0887"
            ],
            [
             0.1111111111111111,
             "#46039f"
            ],
            [
             0.2222222222222222,
             "#7201a8"
            ],
            [
             0.3333333333333333,
             "#9c179e"
            ],
            [
             0.4444444444444444,
             "#bd3786"
            ],
            [
             0.5555555555555556,
             "#d8576b"
            ],
            [
             0.6666666666666666,
             "#ed7953"
            ],
            [
             0.7777777777777778,
             "#fb9f3a"
            ],
            [
             0.8888888888888888,
             "#fdca26"
            ],
            [
             1,
             "#f0f921"
            ]
           ],
           "sequentialminus": [
            [
             0,
             "#0d0887"
            ],
            [
             0.1111111111111111,
             "#46039f"
            ],
            [
             0.2222222222222222,
             "#7201a8"
            ],
            [
             0.3333333333333333,
             "#9c179e"
            ],
            [
             0.4444444444444444,
             "#bd3786"
            ],
            [
             0.5555555555555556,
             "#d8576b"
            ],
            [
             0.6666666666666666,
             "#ed7953"
            ],
            [
             0.7777777777777778,
             "#fb9f3a"
            ],
            [
             0.8888888888888888,
             "#fdca26"
            ],
            [
             1,
             "#f0f921"
            ]
           ]
          },
          "colorway": [
           "#636efa",
           "#EF553B",
           "#00cc96",
           "#ab63fa",
           "#FFA15A",
           "#19d3f3",
           "#FF6692",
           "#B6E880",
           "#FF97FF",
           "#FECB52"
          ],
          "font": {
           "color": "#2a3f5f"
          },
          "geo": {
           "bgcolor": "white",
           "lakecolor": "white",
           "landcolor": "#E5ECF6",
           "showlakes": true,
           "showland": true,
           "subunitcolor": "white"
          },
          "hoverlabel": {
           "align": "left"
          },
          "hovermode": "closest",
          "mapbox": {
           "style": "light"
          },
          "paper_bgcolor": "white",
          "plot_bgcolor": "#E5ECF6",
          "polar": {
           "angularaxis": {
            "gridcolor": "white",
            "linecolor": "white",
            "ticks": ""
           },
           "bgcolor": "#E5ECF6",
           "radialaxis": {
            "gridcolor": "white",
            "linecolor": "white",
            "ticks": ""
           }
          },
          "scene": {
           "xaxis": {
            "backgroundcolor": "#E5ECF6",
            "gridcolor": "white",
            "gridwidth": 2,
            "linecolor": "white",
            "showbackground": true,
            "ticks": "",
            "zerolinecolor": "white"
           },
           "yaxis": {
            "backgroundcolor": "#E5ECF6",
            "gridcolor": "white",
            "gridwidth": 2,
            "linecolor": "white",
            "showbackground": true,
            "ticks": "",
            "zerolinecolor": "white"
           },
           "zaxis": {
            "backgroundcolor": "#E5ECF6",
            "gridcolor": "white",
            "gridwidth": 2,
            "linecolor": "white",
            "showbackground": true,
            "ticks": "",
            "zerolinecolor": "white"
           }
          },
          "shapedefaults": {
           "line": {
            "color": "#2a3f5f"
           }
          },
          "ternary": {
           "aaxis": {
            "gridcolor": "white",
            "linecolor": "white",
            "ticks": ""
           },
           "baxis": {
            "gridcolor": "white",
            "linecolor": "white",
            "ticks": ""
           },
           "bgcolor": "#E5ECF6",
           "caxis": {
            "gridcolor": "white",
            "linecolor": "white",
            "ticks": ""
           }
          },
          "title": {
           "x": 0.05
          },
          "xaxis": {
           "automargin": true,
           "gridcolor": "white",
           "linecolor": "white",
           "ticks": "",
           "title": {
            "standoff": 15
           },
           "zerolinecolor": "white",
           "zerolinewidth": 2
          },
          "yaxis": {
           "automargin": true,
           "gridcolor": "white",
           "linecolor": "white",
           "ticks": "",
           "title": {
            "standoff": 15
           },
           "zerolinecolor": "white",
           "zerolinewidth": 2
          }
         }
        },
        "title": {
         "text": "Sensors Visualized Using Principal Components"
        },
        "xaxis": {
         "anchor": "y",
         "domain": [
          0,
          1
         ],
         "title": {
          "text": "Principal Component 1"
         }
        },
        "yaxis": {
         "anchor": "x",
         "domain": [
          0,
          1
         ],
         "title": {
          "text": "Principal Component 2"
         }
        }
       }
      }
     },
     "metadata": {},
     "output_type": "display_data"
    }
   ],
   "source": [
    "# Plot the PCA interactive plot\n",
    "plot_pca_interactive(df_range_delay_ends, sensor_id_col='Sensor ID', n_components=2)"
   ]
  },
  {
   "cell_type": "markdown",
   "metadata": {},
   "source": [
    "Try PCA on reduced data"
   ]
  },
  {
   "cell_type": "code",
   "execution_count": 39,
   "metadata": {},
   "outputs": [
    {
     "data": {
      "image/png": "[encoded data removed]",
      "text/plain": [
       "<Figure size 1000x600 with 1 Axes>"
      ]
     },
     "metadata": {},
     "output_type": "display_data"
    }
   ],
   "source": [
    "explained_variance_corr, loadings_corr, features_corr = process_PCA(reduced_data_corr)"
   ]
  },
  {
   "cell_type": "code",
   "execution_count": 40,
   "metadata": {},
   "outputs": [
    {
     "data": {
      "text/html": [
       "<div>\n",
       "<style scoped>\n",
       "    .dataframe tbody tr th:only-of-type {\n",
       "        vertical-align: middle;\n",
       "    }\n",
       "\n",
       "    .dataframe tbody tr th {\n",
       "        vertical-align: top;\n",
       "    }\n",
       "\n",
       "    .dataframe thead th {\n",
       "        text-align: right;\n",
       "    }\n",
       "</style>\n",
       "<table border=\"1\" class=\"dataframe\">\n",
       "  <thead>\n",
       "    <tr style=\"text-align: right;\">\n",
       "      <th></th>\n",
       "      <th>PC1</th>\n",
       "      <th>PC2</th>\n",
       "      <th>PC3</th>\n",
       "      <th>PC4</th>\n",
       "      <th>PC5</th>\n",
       "      <th>PC6</th>\n",
       "      <th>PC7</th>\n",
       "      <th>PC8</th>\n",
       "      <th>PC9</th>\n",
       "      <th>PC10</th>\n",
       "      <th>...</th>\n",
       "      <th>PC35</th>\n",
       "      <th>PC36</th>\n",
       "      <th>PC37</th>\n",
       "      <th>PC38</th>\n",
       "      <th>PC39</th>\n",
       "      <th>PC40</th>\n",
       "      <th>PC41</th>\n",
       "      <th>PC42</th>\n",
       "      <th>PC43</th>\n",
       "      <th>PC44</th>\n",
       "    </tr>\n",
       "    <tr>\n",
       "      <th>range_delay</th>\n",
       "      <th></th>\n",
       "      <th></th>\n",
       "      <th></th>\n",
       "      <th></th>\n",
       "      <th></th>\n",
       "      <th></th>\n",
       "      <th></th>\n",
       "      <th></th>\n",
       "      <th></th>\n",
       "      <th></th>\n",
       "      <th></th>\n",
       "      <th></th>\n",
       "      <th></th>\n",
       "      <th></th>\n",
       "      <th></th>\n",
       "      <th></th>\n",
       "      <th></th>\n",
       "      <th></th>\n",
       "      <th></th>\n",
       "      <th></th>\n",
       "      <th></th>\n",
       "    </tr>\n",
       "  </thead>\n",
       "  <tbody>\n",
       "    <tr>\n",
       "      <th>13_10000_lower</th>\n",
       "      <td>0.012515</td>\n",
       "      <td>0.075785</td>\n",
       "      <td>0.178538</td>\n",
       "      <td>-0.015022</td>\n",
       "      <td>0.018133</td>\n",
       "      <td>0.091393</td>\n",
       "      <td>0.093010</td>\n",
       "      <td>0.056118</td>\n",
       "      <td>0.063775</td>\n",
       "      <td>0.063213</td>\n",
       "      <td>...</td>\n",
       "      <td>0.109069</td>\n",
       "      <td>0.288093</td>\n",
       "      <td>-0.078824</td>\n",
       "      <td>-0.118301</td>\n",
       "      <td>-0.034338</td>\n",
       "      <td>-0.079413</td>\n",
       "      <td>-0.010353</td>\n",
       "      <td>-0.159203</td>\n",
       "      <td>-0.097897</td>\n",
       "      <td>0.181414</td>\n",
       "    </tr>\n",
       "    <tr>\n",
       "      <th>13_16800_lower</th>\n",
       "      <td>0.085003</td>\n",
       "      <td>0.034685</td>\n",
       "      <td>0.082188</td>\n",
       "      <td>-0.129187</td>\n",
       "      <td>-0.143437</td>\n",
       "      <td>-0.056636</td>\n",
       "      <td>0.058686</td>\n",
       "      <td>-0.038639</td>\n",
       "      <td>-0.075581</td>\n",
       "      <td>-0.033288</td>\n",
       "      <td>...</td>\n",
       "      <td>0.018781</td>\n",
       "      <td>0.115061</td>\n",
       "      <td>-0.048025</td>\n",
       "      <td>0.018001</td>\n",
       "      <td>0.109772</td>\n",
       "      <td>0.230352</td>\n",
       "      <td>-0.019326</td>\n",
       "      <td>-0.068940</td>\n",
       "      <td>-0.096993</td>\n",
       "      <td>0.368895</td>\n",
       "    </tr>\n",
       "    <tr>\n",
       "      <th>13_3000_lower</th>\n",
       "      <td>0.184595</td>\n",
       "      <td>0.215630</td>\n",
       "      <td>-0.046248</td>\n",
       "      <td>-0.056324</td>\n",
       "      <td>-0.040533</td>\n",
       "      <td>0.077118</td>\n",
       "      <td>-0.076838</td>\n",
       "      <td>0.111500</td>\n",
       "      <td>0.005962</td>\n",
       "      <td>0.056313</td>\n",
       "      <td>...</td>\n",
       "      <td>0.005478</td>\n",
       "      <td>-0.013635</td>\n",
       "      <td>-0.182113</td>\n",
       "      <td>0.084389</td>\n",
       "      <td>-0.064611</td>\n",
       "      <td>0.069340</td>\n",
       "      <td>0.111329</td>\n",
       "      <td>0.022287</td>\n",
       "      <td>-0.010525</td>\n",
       "      <td>-0.106709</td>\n",
       "    </tr>\n",
       "    <tr>\n",
       "      <th>13_6000_lower</th>\n",
       "      <td>0.063267</td>\n",
       "      <td>0.173413</td>\n",
       "      <td>-0.023608</td>\n",
       "      <td>-0.234535</td>\n",
       "      <td>0.020402</td>\n",
       "      <td>0.150094</td>\n",
       "      <td>0.026739</td>\n",
       "      <td>-0.043895</td>\n",
       "      <td>-0.060016</td>\n",
       "      <td>0.151052</td>\n",
       "      <td>...</td>\n",
       "      <td>-0.081606</td>\n",
       "      <td>0.028635</td>\n",
       "      <td>0.032046</td>\n",
       "      <td>-0.132828</td>\n",
       "      <td>-0.080104</td>\n",
       "      <td>0.045267</td>\n",
       "      <td>-0.070072</td>\n",
       "      <td>-0.174624</td>\n",
       "      <td>0.063192</td>\n",
       "      <td>-0.006690</td>\n",
       "    </tr>\n",
       "    <tr>\n",
       "      <th>13_8000_lower</th>\n",
       "      <td>0.057570</td>\n",
       "      <td>0.168437</td>\n",
       "      <td>0.132001</td>\n",
       "      <td>-0.002814</td>\n",
       "      <td>-0.140396</td>\n",
       "      <td>0.132622</td>\n",
       "      <td>0.064632</td>\n",
       "      <td>-0.033019</td>\n",
       "      <td>0.006123</td>\n",
       "      <td>0.102637</td>\n",
       "      <td>...</td>\n",
       "      <td>-0.051680</td>\n",
       "      <td>-0.082044</td>\n",
       "      <td>0.141441</td>\n",
       "      <td>-0.142714</td>\n",
       "      <td>0.059118</td>\n",
       "      <td>0.112400</td>\n",
       "      <td>-0.008998</td>\n",
       "      <td>-0.051050</td>\n",
       "      <td>0.046277</td>\n",
       "      <td>0.090741</td>\n",
       "    </tr>\n",
       "    <tr>\n",
       "      <th>...</th>\n",
       "      <td>...</td>\n",
       "      <td>...</td>\n",
       "      <td>...</td>\n",
       "      <td>...</td>\n",
       "      <td>...</td>\n",
       "      <td>...</td>\n",
       "      <td>...</td>\n",
       "      <td>...</td>\n",
       "      <td>...</td>\n",
       "      <td>...</td>\n",
       "      <td>...</td>\n",
       "      <td>...</td>\n",
       "      <td>...</td>\n",
       "      <td>...</td>\n",
       "      <td>...</td>\n",
       "      <td>...</td>\n",
       "      <td>...</td>\n",
       "      <td>...</td>\n",
       "      <td>...</td>\n",
       "      <td>...</td>\n",
       "      <td>...</td>\n",
       "    </tr>\n",
       "    <tr>\n",
       "      <th>48_8000_upper</th>\n",
       "      <td>0.055529</td>\n",
       "      <td>-0.074559</td>\n",
       "      <td>0.045541</td>\n",
       "      <td>-0.053186</td>\n",
       "      <td>-0.066203</td>\n",
       "      <td>-0.152676</td>\n",
       "      <td>-0.282747</td>\n",
       "      <td>-0.038742</td>\n",
       "      <td>-0.152741</td>\n",
       "      <td>0.021464</td>\n",
       "      <td>...</td>\n",
       "      <td>-0.050449</td>\n",
       "      <td>0.049503</td>\n",
       "      <td>-0.036895</td>\n",
       "      <td>0.036577</td>\n",
       "      <td>-0.008075</td>\n",
       "      <td>0.103110</td>\n",
       "      <td>0.005012</td>\n",
       "      <td>-0.072982</td>\n",
       "      <td>-0.032012</td>\n",
       "      <td>-0.039200</td>\n",
       "    </tr>\n",
       "    <tr>\n",
       "      <th>53_10000_upper</th>\n",
       "      <td>0.042964</td>\n",
       "      <td>0.041093</td>\n",
       "      <td>-0.107216</td>\n",
       "      <td>0.147488</td>\n",
       "      <td>-0.072788</td>\n",
       "      <td>0.090331</td>\n",
       "      <td>-0.031851</td>\n",
       "      <td>0.196465</td>\n",
       "      <td>-0.240411</td>\n",
       "      <td>-0.066374</td>\n",
       "      <td>...</td>\n",
       "      <td>0.064212</td>\n",
       "      <td>0.004928</td>\n",
       "      <td>0.021262</td>\n",
       "      <td>-0.147112</td>\n",
       "      <td>-0.076308</td>\n",
       "      <td>0.001598</td>\n",
       "      <td>-0.049306</td>\n",
       "      <td>0.027535</td>\n",
       "      <td>0.217139</td>\n",
       "      <td>-0.045575</td>\n",
       "    </tr>\n",
       "    <tr>\n",
       "      <th>53_16800_upper</th>\n",
       "      <td>0.144981</td>\n",
       "      <td>0.110035</td>\n",
       "      <td>0.000320</td>\n",
       "      <td>0.073700</td>\n",
       "      <td>0.085964</td>\n",
       "      <td>-0.094514</td>\n",
       "      <td>0.259420</td>\n",
       "      <td>-0.070585</td>\n",
       "      <td>0.005620</td>\n",
       "      <td>0.012917</td>\n",
       "      <td>...</td>\n",
       "      <td>-0.031692</td>\n",
       "      <td>0.017554</td>\n",
       "      <td>-0.052616</td>\n",
       "      <td>0.193125</td>\n",
       "      <td>0.148870</td>\n",
       "      <td>-0.092240</td>\n",
       "      <td>-0.155639</td>\n",
       "      <td>0.156962</td>\n",
       "      <td>0.000289</td>\n",
       "      <td>0.018752</td>\n",
       "    </tr>\n",
       "    <tr>\n",
       "      <th>53_6000_upper</th>\n",
       "      <td>0.202450</td>\n",
       "      <td>0.057197</td>\n",
       "      <td>-0.111492</td>\n",
       "      <td>-0.016117</td>\n",
       "      <td>-0.104336</td>\n",
       "      <td>-0.094477</td>\n",
       "      <td>-0.022795</td>\n",
       "      <td>-0.180322</td>\n",
       "      <td>-0.119930</td>\n",
       "      <td>0.042900</td>\n",
       "      <td>...</td>\n",
       "      <td>-0.063217</td>\n",
       "      <td>0.030027</td>\n",
       "      <td>0.028804</td>\n",
       "      <td>-0.014711</td>\n",
       "      <td>-0.146408</td>\n",
       "      <td>-0.148839</td>\n",
       "      <td>0.090332</td>\n",
       "      <td>0.058147</td>\n",
       "      <td>0.184000</td>\n",
       "      <td>0.032664</td>\n",
       "    </tr>\n",
       "    <tr>\n",
       "      <th>53_8000_upper</th>\n",
       "      <td>0.193621</td>\n",
       "      <td>-0.047461</td>\n",
       "      <td>-0.235870</td>\n",
       "      <td>0.068413</td>\n",
       "      <td>-0.111595</td>\n",
       "      <td>-0.014238</td>\n",
       "      <td>0.077776</td>\n",
       "      <td>-0.029082</td>\n",
       "      <td>-0.080532</td>\n",
       "      <td>-0.077911</td>\n",
       "      <td>...</td>\n",
       "      <td>-0.069458</td>\n",
       "      <td>-0.026694</td>\n",
       "      <td>0.101486</td>\n",
       "      <td>-0.022458</td>\n",
       "      <td>0.001370</td>\n",
       "      <td>0.058357</td>\n",
       "      <td>-0.203937</td>\n",
       "      <td>0.078648</td>\n",
       "      <td>-0.212907</td>\n",
       "      <td>0.121231</td>\n",
       "    </tr>\n",
       "  </tbody>\n",
       "</table>\n",
       "<p>88 rows × 44 columns</p>\n",
       "</div>"
      ],
      "text/plain": [
       "                     PC1       PC2       PC3       PC4       PC5       PC6  \\\n",
       "range_delay                                                                  \n",
       "13_10000_lower  0.012515  0.075785  0.178538 -0.015022  0.018133  0.091393   \n",
       "13_16800_lower  0.085003  0.034685  0.082188 -0.129187 -0.143437 -0.056636   \n",
       "13_3000_lower   0.184595  0.215630 -0.046248 -0.056324 -0.040533  0.077118   \n",
       "13_6000_lower   0.063267  0.173413 -0.023608 -0.234535  0.020402  0.150094   \n",
       "13_8000_lower   0.057570  0.168437  0.132001 -0.002814 -0.140396  0.132622   \n",
       "...                  ...       ...       ...       ...       ...       ...   \n",
       "48_8000_upper   0.055529 -0.074559  0.045541 -0.053186 -0.066203 -0.152676   \n",
       "53_10000_upper  0.042964  0.041093 -0.107216  0.147488 -0.072788  0.090331   \n",
       "53_16800_upper  0.144981  0.110035  0.000320  0.073700  0.085964 -0.094514   \n",
       "53_6000_upper   0.202450  0.057197 -0.111492 -0.016117 -0.104336 -0.094477   \n",
       "53_8000_upper   0.193621 -0.047461 -0.235870  0.068413 -0.111595 -0.014238   \n",
       "\n",
       "                     PC7       PC8       PC9      PC10  ...      PC35  \\\n",
       "range_delay                                             ...             \n",
       "13_10000_lower  0.093010  0.056118  0.063775  0.063213  ...  0.109069   \n",
       "13_16800_lower  0.058686 -0.038639 -0.075581 -0.033288  ...  0.018781   \n",
       "13_3000_lower  -0.076838  0.111500  0.005962  0.056313  ...  0.005478   \n",
       "13_6000_lower   0.026739 -0.043895 -0.060016  0.151052  ... -0.081606   \n",
       "13_8000_lower   0.064632 -0.033019  0.006123  0.102637  ... -0.051680   \n",
       "...                  ...       ...       ...       ...  ...       ...   \n",
       "48_8000_upper  -0.282747 -0.038742 -0.152741  0.021464  ... -0.050449   \n",
       "53_10000_upper -0.031851  0.196465 -0.240411 -0.066374  ...  0.064212   \n",
       "53_16800_upper  0.259420 -0.070585  0.005620  0.012917  ... -0.031692   \n",
       "53_6000_upper  -0.022795 -0.180322 -0.119930  0.042900  ... -0.063217   \n",
       "53_8000_upper   0.077776 -0.029082 -0.080532 -0.077911  ... -0.069458   \n",
       "\n",
       "                    PC36      PC37      PC38      PC39      PC40      PC41  \\\n",
       "range_delay                                                                  \n",
       "13_10000_lower  0.288093 -0.078824 -0.118301 -0.034338 -0.079413 -0.010353   \n",
       "13_16800_lower  0.115061 -0.048025  0.018001  0.109772  0.230352 -0.019326   \n",
       "13_3000_lower  -0.013635 -0.182113  0.084389 -0.064611  0.069340  0.111329   \n",
       "13_6000_lower   0.028635  0.032046 -0.132828 -0.080104  0.045267 -0.070072   \n",
       "13_8000_lower  -0.082044  0.141441 -0.142714  0.059118  0.112400 -0.008998   \n",
       "...                  ...       ...       ...       ...       ...       ...   \n",
       "48_8000_upper   0.049503 -0.036895  0.036577 -0.008075  0.103110  0.005012   \n",
       "53_10000_upper  0.004928  0.021262 -0.147112 -0.076308  0.001598 -0.049306   \n",
       "53_16800_upper  0.017554 -0.052616  0.193125  0.148870 -0.092240 -0.155639   \n",
       "53_6000_upper   0.030027  0.028804 -0.014711 -0.146408 -0.148839  0.090332   \n",
       "53_8000_upper  -0.026694  0.101486 -0.022458  0.001370  0.058357 -0.203937   \n",
       "\n",
       "                    PC42      PC43      PC44  \n",
       "range_delay                                   \n",
       "13_10000_lower -0.159203 -0.097897  0.181414  \n",
       "13_16800_lower -0.068940 -0.096993  0.368895  \n",
       "13_3000_lower   0.022287 -0.010525 -0.106709  \n",
       "13_6000_lower  -0.174624  0.063192 -0.006690  \n",
       "13_8000_lower  -0.051050  0.046277  0.090741  \n",
       "...                  ...       ...       ...  \n",
       "48_8000_upper  -0.072982 -0.032012 -0.039200  \n",
       "53_10000_upper  0.027535  0.217139 -0.045575  \n",
       "53_16800_upper  0.156962  0.000289  0.018752  \n",
       "53_6000_upper   0.058147  0.184000  0.032664  \n",
       "53_8000_upper   0.078648 -0.212907  0.121231  \n",
       "\n",
       "[88 rows x 44 columns]"
      ]
     },
     "execution_count": 40,
     "metadata": {},
     "output_type": "execute_result"
    }
   ],
   "source": [
    "# Create a DataFrame for the loadings\n",
    "loading_df_corr = pd.DataFrame(loadings_corr.T, columns=[f'PC{i+1}' for i in range(loadings_corr.shape[0])], index=features_corr.columns)\n",
    "loading_df_corr"
   ]
  },
  {
   "cell_type": "code",
   "execution_count": 41,
   "metadata": {},
   "outputs": [
    {
     "data": {
      "text/html": [
       "<div>\n",
       "<style scoped>\n",
       "    .dataframe tbody tr th:only-of-type {\n",
       "        vertical-align: middle;\n",
       "    }\n",
       "\n",
       "    .dataframe tbody tr th {\n",
       "        vertical-align: top;\n",
       "    }\n",
       "\n",
       "    .dataframe thead th {\n",
       "        text-align: right;\n",
       "    }\n",
       "</style>\n",
       "<table border=\"1\" class=\"dataframe\">\n",
       "  <thead>\n",
       "    <tr style=\"text-align: right;\">\n",
       "      <th></th>\n",
       "      <th>Feature</th>\n",
       "      <th>Importance</th>\n",
       "    </tr>\n",
       "  </thead>\n",
       "  <tbody>\n",
       "    <tr>\n",
       "      <th>35</th>\n",
       "      <td>48_10000_lower</td>\n",
       "      <td>2.897291</td>\n",
       "    </tr>\n",
       "    <tr>\n",
       "      <th>55</th>\n",
       "      <td>23_16800_upper</td>\n",
       "      <td>2.855303</td>\n",
       "    </tr>\n",
       "    <tr>\n",
       "      <th>22</th>\n",
       "      <td>33_3000_lower</td>\n",
       "      <td>2.850252</td>\n",
       "    </tr>\n",
       "    <tr>\n",
       "      <th>37</th>\n",
       "      <td>48_3000_lower</td>\n",
       "      <td>2.809336</td>\n",
       "    </tr>\n",
       "    <tr>\n",
       "      <th>8</th>\n",
       "      <td>18_6000_lower</td>\n",
       "      <td>2.766342</td>\n",
       "    </tr>\n",
       "    <tr>\n",
       "      <th>...</th>\n",
       "      <td>...</td>\n",
       "      <td>...</td>\n",
       "    </tr>\n",
       "    <tr>\n",
       "      <th>10</th>\n",
       "      <td>23_10000_lower</td>\n",
       "      <td>2.109517</td>\n",
       "    </tr>\n",
       "    <tr>\n",
       "      <th>3</th>\n",
       "      <td>13_6000_lower</td>\n",
       "      <td>2.091893</td>\n",
       "    </tr>\n",
       "    <tr>\n",
       "      <th>14</th>\n",
       "      <td>23_8000_lower</td>\n",
       "      <td>2.064383</td>\n",
       "    </tr>\n",
       "    <tr>\n",
       "      <th>2</th>\n",
       "      <td>13_3000_lower</td>\n",
       "      <td>2.012307</td>\n",
       "    </tr>\n",
       "    <tr>\n",
       "      <th>25</th>\n",
       "      <td>38_10000_lower</td>\n",
       "      <td>1.915079</td>\n",
       "    </tr>\n",
       "  </tbody>\n",
       "</table>\n",
       "<p>88 rows × 2 columns</p>\n",
       "</div>"
      ],
      "text/plain": [
       "           Feature  Importance\n",
       "35  48_10000_lower    2.897291\n",
       "55  23_16800_upper    2.855303\n",
       "22   33_3000_lower    2.850252\n",
       "37   48_3000_lower    2.809336\n",
       "8    18_6000_lower    2.766342\n",
       "..             ...         ...\n",
       "10  23_10000_lower    2.109517\n",
       "3    13_6000_lower    2.091893\n",
       "14   23_8000_lower    2.064383\n",
       "2    13_3000_lower    2.012307\n",
       "25  38_10000_lower    1.915079\n",
       "\n",
       "[88 rows x 2 columns]"
      ]
     },
     "execution_count": 41,
     "metadata": {},
     "output_type": "execute_result"
    }
   ],
   "source": [
    "# Determine the number of components to retain 90% variance\n",
    "cumulative_variance = np.cumsum(explained_variance_corr)\n",
    "num_components = np.argmax(cumulative_variance >= 0.9) + 1\n",
    "\n",
    "# Get the loadings for the selected components\n",
    "selected_loadings_corr = loadings_corr[:num_components, :]\n",
    "\n",
    "# Calculate the importance of each feature by summing the absolute values of its loadings across the selected components\n",
    "feature_importance_corr = np.sum(np.abs(selected_loadings_corr), axis=0)\n",
    "\n",
    "# Create a DataFrame for feature importance\n",
    "feature_importance_df_corr = pd.DataFrame({'Feature': features_corr.columns, 'Importance': feature_importance_corr})\n",
    "\n",
    "# Sort the features by importance\n",
    "feature_importance_df_corr = feature_importance_df_corr.sort_values(by='Importance', ascending=False)\n",
    "\n",
    "# Select the top N features (e.g., top 10 features)\n",
    "top_features_corr = feature_importance_df_corr.head(200)\n",
    "\n",
    "top_features_corr"
   ]
  },
  {
   "cell_type": "code",
   "execution_count": 42,
   "metadata": {},
   "outputs": [
    {
     "data": {
      "application/vnd.plotly.v1+json": {
       "config": {
        "plotlyServerURL": "https://plot.ly"
       },
       "data": [
        {
         "customdata": [
          [
           32
          ],
          [
           33
          ],
          [
           34
          ],
          [
           35
          ],
          [
           36
          ],
          [
           37
          ],
          [
           38
          ],
          [
           39
          ],
          [
           40
          ],
          [
           41
          ],
          [
           42
          ],
          [
           43
          ],
          [
           44
          ],
          [
           45
          ],
          [
           46
          ],
          [
           47
          ],
          [
           48
          ],
          [
           49
          ],
          [
           50
          ],
          [
           51
          ],
          [
           52
          ],
          [
           53
          ],
          [
           54
          ],
          [
           55
          ],
          [
           56
          ],
          [
           57
          ],
          [
           58
          ],
          [
           59
          ],
          [
           60
          ],
          [
           61
          ],
          [
           62
          ],
          [
           63
          ],
          [
           64
          ],
          [
           65
          ],
          [
           66
          ],
          [
           67
          ],
          [
           68
          ],
          [
           69
          ],
          [
           70
          ],
          [
           71
          ],
          [
           72
          ],
          [
           73
          ],
          [
           74
          ],
          [
           75
          ]
         ],
         "hovertemplate": "Principal Component 1=%{x}<br>Principal Component 2=%{y}<br>Sensor ID=%{marker.color}<extra></extra>",
         "legendgroup": "",
         "marker": {
          "color": [
           32,
           33,
           34,
           35,
           36,
           37,
           38,
           39,
           40,
           41,
           42,
           43,
           44,
           45,
           46,
           47,
           48,
           49,
           50,
           51,
           52,
           53,
           54,
           55,
           56,
           57,
           58,
           59,
           60,
           61,
           62,
           63,
           64,
           65,
           66,
           67,
           68,
           69,
           70,
           71,
           72,
           73,
           74,
           75
          ],
          "coloraxis": "coloraxis",
          "symbol": "circle"
         },
         "mode": "markers",
         "name": "",
         "orientation": "v",
         "showlegend": false,
         "type": "scatter",
         "x": [
          -3213.2861187051035,
          -3157.6208273185366,
          -2959.7383899809242,
          -2526.248460205651,
          -2380.7323190765396,
          -3177.372314600751,
          -3098.8924905505005,
          -2412.7621595602864,
          -2489.00922958073,
          -3027.608708405632,
          -3255.4098431091797,
          -2822.7220805102,
          -2511.3663669223047,
          -3191.282820345062,
          -3212.2691854570317,
          -3232.8485972462117,
          -3225.210533608624,
          -2947.9523622975266,
          -3239.9111593176335,
          -3221.0265065824033,
          -3233.670860797127,
          -3137.8572992456784,
          -3178.59546837849,
          -2475.7441580836116,
          -2983.169163108799,
          62512.01686058885,
          -3304.0731381348146,
          -2329.863053836092,
          -3180.2437974580953,
          -3273.809024070681,
          -3291.688754410515,
          -3338.8406349723377,
          62714.585041246115,
          -3183.6328923638357,
          -2468.554919532043,
          -2292.94247344014,
          -3238.9725261477934,
          -3207.2957628194204,
          -3082.740918527717,
          -2969.622307083558,
          -3271.2924306901004,
          -3128.505221114234,
          -2357.4139635918605,
          -2994.802660647198
         ],
         "xaxis": "x",
         "y": [
          -3467.707130093646,
          3949.2450194351677,
          198.12564916483274,
          -2959.252272456045,
          -2829.5493238455933,
          5852.099294505959,
          -591.7286484672043,
          7915.265438113962,
          -996.999043019381,
          4741.050114716264,
          909.530253902252,
          550.2667464290881,
          -434.3507374834713,
          -3326.6067452347997,
          -599.6817832989367,
          10.626387325996548,
          -2320.2955541265746,
          -896.3852448788276,
          1486.097809713727,
          -2730.443922072477,
          -2242.499024040993,
          -1882.1556708141816,
          2143.0923487366736,
          2868.3269765981668,
          -1543.041857872158,
          -1599.4530361778325,
          1998.0857011425906,
          -3885.656173136472,
          3698.6969053938615,
          -2173.3353318633785,
          -1040.4327661547313,
          2915.8027731208517,
          1584.2781018804899,
          4047.729804176974,
          1870.3493449602272,
          -1598.9510760849712,
          -1932.8391323631813,
          256.59839856640826,
          113.66103061967698,
          -1103.9225690597273,
          -1919.80255885064,
          -3382.394966087052,
          1872.108669268829,
          -3523.5522002897255
         ],
         "yaxis": "y"
        }
       ],
       "layout": {
        "coloraxis": {
         "colorbar": {
          "title": {
           "text": "Sensor ID"
          }
         },
         "colorscale": [
          [
           0,
           "#0d0887"
          ],
          [
           0.1111111111111111,
           "#46039f"
          ],
          [
           0.2222222222222222,
           "#7201a8"
          ],
          [
           0.3333333333333333,
           "#9c179e"
          ],
          [
           0.4444444444444444,
           "#bd3786"
          ],
          [
           0.5555555555555556,
           "#d8576b"
          ],
          [
           0.6666666666666666,
           "#ed7953"
          ],
          [
           0.7777777777777778,
           "#fb9f3a"
          ],
          [
           0.8888888888888888,
           "#fdca26"
          ],
          [
           1,
           "#f0f921"
          ]
         ]
        },
        "legend": {
         "tracegroupgap": 0
        },
        "template": {
         "data": {
          "bar": [
           {
            "error_x": {
             "color": "#2a3f5f"
            },
            "error_y": {
             "color": "#2a3f5f"
            },
            "marker": {
             "line": {
              "color": "#E5ECF6",
              "width": 0.5
             },
             "pattern": {
              "fillmode": "overlay",
              "size": 10,
              "solidity": 0.2
             }
            },
            "type": "bar"
           }
          ],
          "barpolar": [
           {
            "marker": {
             "line": {
              "color": "#E5ECF6",
              "width": 0.5
             },
             "pattern": {
              "fillmode": "overlay",
              "size": 10,
              "solidity": 0.2
             }
            },
            "type": "barpolar"
           }
          ],
          "carpet": [
           {
            "aaxis": {
             "endlinecolor": "#2a3f5f",
             "gridcolor": "white",
             "linecolor": "white",
             "minorgridcolor": "white",
             "startlinecolor": "#2a3f5f"
            },
            "baxis": {
             "endlinecolor": "#2a3f5f",
             "gridcolor": "white",
             "linecolor": "white",
             "minorgridcolor": "white",
             "startlinecolor": "#2a3f5f"
            },
            "type": "carpet"
           }
          ],
          "choropleth": [
           {
            "colorbar": {
             "outlinewidth": 0,
             "ticks": ""
            },
            "type": "choropleth"
           }
          ],
          "contour": [
           {
            "colorbar": {
             "outlinewidth": 0,
             "ticks": ""
            },
            "colorscale": [
             [
              0,
              "#0d0887"
             ],
             [
              0.1111111111111111,
              "#46039f"
             ],
             [
              0.2222222222222222,
              "#7201a8"
             ],
             [
              0.3333333333333333,
              "#9c179e"
             ],
             [
              0.4444444444444444,
              "#bd3786"
             ],
             [
              0.5555555555555556,
              "#d8576b"
             ],
             [
              0.6666666666666666,
              "#ed7953"
             ],
             [
              0.7777777777777778,
              "#fb9f3a"
             ],
             [
              0.8888888888888888,
              "#fdca26"
             ],
             [
              1,
              "#f0f921"
             ]
            ],
            "type": "contour"
           }
          ],
          "contourcarpet": [
           {
            "colorbar": {
             "outlinewidth": 0,
             "ticks": ""
            },
            "type": "contourcarpet"
           }
          ],
          "heatmap": [
           {
            "colorbar": {
             "outlinewidth": 0,
             "ticks": ""
            },
            "colorscale": [
             [
              0,
              "#0d0887"
             ],
             [
              0.1111111111111111,
              "#46039f"
             ],
             [
              0.2222222222222222,
              "#7201a8"
             ],
             [
              0.3333333333333333,
              "#9c179e"
             ],
             [
              0.4444444444444444,
              "#bd3786"
             ],
             [
              0.5555555555555556,
              "#d8576b"
             ],
             [
              0.6666666666666666,
              "#ed7953"
             ],
             [
              0.7777777777777778,
              "#fb9f3a"
             ],
             [
              0.8888888888888888,
              "#fdca26"
             ],
             [
              1,
              "#f0f921"
             ]
            ],
            "type": "heatmap"
           }
          ],
          "heatmapgl": [
           {
            "colorbar": {
             "outlinewidth": 0,
             "ticks": ""
            },
            "colorscale": [
             [
              0,
              "#0d0887"
             ],
             [
              0.1111111111111111,
              "#46039f"
             ],
             [
              0.2222222222222222,
              "#7201a8"
             ],
             [
              0.3333333333333333,
              "#9c179e"
             ],
             [
              0.4444444444444444,
              "#bd3786"
             ],
             [
              0.5555555555555556,
              "#d8576b"
             ],
             [
              0.6666666666666666,
              "#ed7953"
             ],
             [
              0.7777777777777778,
              "#fb9f3a"
             ],
             [
              0.8888888888888888,
              "#fdca26"
             ],
             [
              1,
              "#f0f921"
             ]
            ],
            "type": "heatmapgl"
           }
          ],
          "histogram": [
           {
            "marker": {
             "pattern": {
              "fillmode": "overlay",
              "size": 10,
              "solidity": 0.2
             }
            },
            "type": "histogram"
           }
          ],
          "histogram2d": [
           {
            "colorbar": {
             "outlinewidth": 0,
             "ticks": ""
            },
            "colorscale": [
             [
              0,
              "#0d0887"
             ],
             [
              0.1111111111111111,
              "#46039f"
             ],
             [
              0.2222222222222222,
              "#7201a8"
             ],
             [
              0.3333333333333333,
              "#9c179e"
             ],
             [
              0.4444444444444444,
              "#bd3786"
             ],
             [
              0.5555555555555556,
              "#d8576b"
             ],
             [
              0.6666666666666666,
              "#ed7953"
             ],
             [
              0.7777777777777778,
              "#fb9f3a"
             ],
             [
              0.8888888888888888,
              "#fdca26"
             ],
             [
              1,
              "#f0f921"
             ]
            ],
            "type": "histogram2d"
           }
          ],
          "histogram2dcontour": [
           {
            "colorbar": {
             "outlinewidth": 0,
             "ticks": ""
            },
            "colorscale": [
             [
              0,
              "#0d0887"
             ],
             [
              0.1111111111111111,
              "#46039f"
             ],
             [
              0.2222222222222222,
              "#7201a8"
             ],
             [
              0.3333333333333333,
              "#9c179e"
             ],
             [
              0.4444444444444444,
              "#bd3786"
             ],
             [
              0.5555555555555556,
              "#d8576b"
             ],
             [
              0.6666666666666666,
              "#ed7953"
             ],
             [
              0.7777777777777778,
              "#fb9f3a"
             ],
             [
              0.8888888888888888,
              "#fdca26"
             ],
             [
              1,
              "#f0f921"
             ]
            ],
            "type": "histogram2dcontour"
           }
          ],
          "mesh3d": [
           {
            "colorbar": {
             "outlinewidth": 0,
             "ticks": ""
            },
            "type": "mesh3d"
           }
          ],
          "parcoords": [
           {
            "line": {
             "colorbar": {
              "outlinewidth": 0,
              "ticks": ""
             }
            },
            "type": "parcoords"
           }
          ],
          "pie": [
           {
            "automargin": true,
            "type": "pie"
           }
          ],
          "scatter": [
           {
            "fillpattern": {
             "fillmode": "overlay",
             "size": 10,
             "solidity": 0.2
            },
            "type": "scatter"
           }
          ],
          "scatter3d": [
           {
            "line": {
             "colorbar": {
              "outlinewidth": 0,
              "ticks": ""
             }
            },
            "marker": {
             "colorbar": {
              "outlinewidth": 0,
              "ticks": ""
             }
            },
            "type": "scatter3d"
           }
          ],
          "scattercarpet": [
           {
            "marker": {
             "colorbar": {
              "outlinewidth": 0,
              "ticks": ""
             }
            },
            "type": "scattercarpet"
           }
          ],
          "scattergeo": [
           {
            "marker": {
             "colorbar": {
              "outlinewidth": 0,
              "ticks": ""
             }
            },
            "type": "scattergeo"
           }
          ],
          "scattergl": [
           {
            "marker": {
             "colorbar": {
              "outlinewidth": 0,
              "ticks": ""
             }
            },
            "type": "scattergl"
           }
          ],
          "scattermapbox": [
           {
            "marker": {
             "colorbar": {
              "outlinewidth": 0,
              "ticks": ""
             }
            },
            "type": "scattermapbox"
           }
          ],
          "scatterpolar": [
           {
            "marker": {
             "colorbar": {
              "outlinewidth": 0,
              "ticks": ""
             }
            },
            "type": "scatterpolar"
           }
          ],
          "scatterpolargl": [
           {
            "marker": {
             "colorbar": {
              "outlinewidth": 0,
              "ticks": ""
             }
            },
            "type": "scatterpolargl"
           }
          ],
          "scatterternary": [
           {
            "marker": {
             "colorbar": {
              "outlinewidth": 0,
              "ticks": ""
             }
            },
            "type": "scatterternary"
           }
          ],
          "surface": [
           {
            "colorbar": {
             "outlinewidth": 0,
             "ticks": ""
            },
            "colorscale": [
             [
              0,
              "#0d0887"
             ],
             [
              0.1111111111111111,
              "#46039f"
             ],
             [
              0.2222222222222222,
              "#7201a8"
             ],
             [
              0.3333333333333333,
              "#9c179e"
             ],
             [
              0.4444444444444444,
              "#bd3786"
             ],
             [
              0.5555555555555556,
              "#d8576b"
             ],
             [
              0.6666666666666666,
              "#ed7953"
             ],
             [
              0.7777777777777778,
              "#fb9f3a"
             ],
             [
              0.8888888888888888,
              "#fdca26"
             ],
             [
              1,
              "#f0f921"
             ]
            ],
            "type": "surface"
           }
          ],
          "table": [
           {
            "cells": {
             "fill": {
              "color": "#EBF0F8"
             },
             "line": {
              "color": "white"
             }
            },
            "header": {
             "fill": {
              "color": "#C8D4E3"
             },
             "line": {
              "color": "white"
             }
            },
            "type": "table"
           }
          ]
         },
         "layout": {
          "annotationdefaults": {
           "arrowcolor": "#2a3f5f",
           "arrowhead": 0,
           "arrowwidth": 1
          },
          "autotypenumbers": "strict",
          "coloraxis": {
           "colorbar": {
            "outlinewidth": 0,
            "ticks": ""
           }
          },
          "colorscale": {
           "diverging": [
            [
             0,
             "#8e0152"
            ],
            [
             0.1,
             "#c51b7d"
            ],
            [
             0.2,
             "#de77ae"
            ],
            [
             0.3,
             "#f1b6da"
            ],
            [
             0.4,
             "#fde0ef"
            ],
            [
             0.5,
             "#f7f7f7"
            ],
            [
             0.6,
             "#e6f5d0"
            ],
            [
             0.7,
             "#b8e186"
            ],
            [
             0.8,
             "#7fbc41"
            ],
            [
             0.9,
             "#4d9221"
            ],
            [
             1,
             "#276419"
            ]
           ],
           "sequential": [
            [
             0,
             "#0d0887"
            ],
            [
             0.1111111111111111,
             "#46039f"
            ],
            [
             0.2222222222222222,
             "#7201a8"
            ],
            [
             0.3333333333333333,
             "#9c179e"
            ],
            [
             0.4444444444444444,
             "#bd3786"
            ],
            [
             0.5555555555555556,
             "#d8576b"
            ],
            [
             0.6666666666666666,
             "#ed7953"
            ],
            [
             0.7777777777777778,
             "#fb9f3a"
            ],
            [
             0.8888888888888888,
             "#fdca26"
            ],
            [
             1,
             "#f0f921"
            ]
           ],
           "sequentialminus": [
            [
             0,
             "#0d0887"
            ],
            [
             0.1111111111111111,
             "#46039f"
            ],
            [
             0.2222222222222222,
             "#7201a8"
            ],
            [
             0.3333333333333333,
             "#9c179e"
            ],
            [
             0.4444444444444444,
             "#bd3786"
            ],
            [
             0.5555555555555556,
             "#d8576b"
            ],
            [
             0.6666666666666666,
             "#ed7953"
            ],
            [
             0.7777777777777778,
             "#fb9f3a"
            ],
            [
             0.8888888888888888,
             "#fdca26"
            ],
            [
             1,
             "#f0f921"
            ]
           ]
          },
          "colorway": [
           "#636efa",
           "#EF553B",
           "#00cc96",
           "#ab63fa",
           "#FFA15A",
           "#19d3f3",
           "#FF6692",
           "#B6E880",
           "#FF97FF",
           "#FECB52"
          ],
          "font": {
           "color": "#2a3f5f"
          },
          "geo": {
           "bgcolor": "white",
           "lakecolor": "white",
           "landcolor": "#E5ECF6",
           "showlakes": true,
           "showland": true,
           "subunitcolor": "white"
          },
          "hoverlabel": {
           "align": "left"
          },
          "hovermode": "closest",
          "mapbox": {
           "style": "light"
          },
          "paper_bgcolor": "white",
          "plot_bgcolor": "#E5ECF6",
          "polar": {
           "angularaxis": {
            "gridcolor": "white",
            "linecolor": "white",
            "ticks": ""
           },
           "bgcolor": "#E5ECF6",
           "radialaxis": {
            "gridcolor": "white",
            "linecolor": "white",
            "ticks": ""
           }
          },
          "scene": {
           "xaxis": {
            "backgroundcolor": "#E5ECF6",
            "gridcolor": "white",
            "gridwidth": 2,
            "linecolor": "white",
            "showbackground": true,
            "ticks": "",
            "zerolinecolor": "white"
           },
           "yaxis": {
            "backgroundcolor": "#E5ECF6",
            "gridcolor": "white",
            "gridwidth": 2,
            "linecolor": "white",
            "showbackground": true,
            "ticks": "",
            "zerolinecolor": "white"
           },
           "zaxis": {
            "backgroundcolor": "#E5ECF6",
            "gridcolor": "white",
            "gridwidth": 2,
            "linecolor": "white",
            "showbackground": true,
            "ticks": "",
            "zerolinecolor": "white"
           }
          },
          "shapedefaults": {
           "line": {
            "color": "#2a3f5f"
           }
          },
          "ternary": {
           "aaxis": {
            "gridcolor": "white",
            "linecolor": "white",
            "ticks": ""
           },
           "baxis": {
            "gridcolor": "white",
            "linecolor": "white",
            "ticks": ""
           },
           "bgcolor": "#E5ECF6",
           "caxis": {
            "gridcolor": "white",
            "linecolor": "white",
            "ticks": ""
           }
          },
          "title": {
           "x": 0.05
          },
          "xaxis": {
           "automargin": true,
           "gridcolor": "white",
           "linecolor": "white",
           "ticks": "",
           "title": {
            "standoff": 15
           },
           "zerolinecolor": "white",
           "zerolinewidth": 2
          },
          "yaxis": {
           "automargin": true,
           "gridcolor": "white",
           "linecolor": "white",
           "ticks": "",
           "title": {
            "standoff": 15
           },
           "zerolinecolor": "white",
           "zerolinewidth": 2
          }
         }
        },
        "title": {
         "text": "Sensors Visualized Using Principal Components"
        },
        "xaxis": {
         "anchor": "y",
         "domain": [
          0,
          1
         ],
         "title": {
          "text": "Principal Component 1"
         }
        },
        "yaxis": {
         "anchor": "x",
         "domain": [
          0,
          1
         ],
         "title": {
          "text": "Principal Component 2"
         }
        }
       }
      }
     },
     "metadata": {},
     "output_type": "display_data"
    }
   ],
   "source": [
    "# Plot the PCA interactive plot\n",
    "plot_pca_interactive(reduced_data_corr, sensor_id_col='Sensor ID', n_components=2)"
   ]
  },
  {
   "cell_type": "markdown",
   "metadata": {},
   "source": [
    "## Clustering"
   ]
  },
  {
   "cell_type": "code",
   "execution_count": 45,
   "metadata": {},
   "outputs": [
    {
     "name": "stderr",
     "output_type": "stream",
     "text": [
      "c:\\Anaconda\\envs\\datascience\\lib\\site-packages\\sklearn\\cluster\\_kmeans.py:1412: FutureWarning:\n",
      "\n",
      "The default value of `n_init` will change from 10 to 'auto' in 1.4. Set the value of `n_init` explicitly to suppress the warning\n",
      "\n",
      "c:\\Anaconda\\envs\\datascience\\lib\\site-packages\\sklearn\\cluster\\_kmeans.py:1436: UserWarning:\n",
      "\n",
      "KMeans is known to have a memory leak on Windows with MKL, when there are less chunks than available threads. You can avoid it by setting the environment variable OMP_NUM_THREADS=1.\n",
      "\n"
     ]
    },
    {
     "data": {
      "application/vnd.plotly.v1+json": {
       "config": {
        "plotlyServerURL": "https://plot.ly"
       },
       "data": [
        {
         "customdata": [
          [
           32
          ]
         ],
         "hovertemplate": "Sensor ID=%{customdata[0]}<br>Principal Component 1=%{x}<br>Principal Component 2=%{y}<br>Principal Component 3=%{z}<br>Cluster=%{marker.color}<extra></extra>",
         "legendgroup": "32",
         "marker": {
          "color": [
           2
          ],
          "coloraxis": "coloraxis",
          "symbol": "circle"
         },
         "mode": "markers",
         "name": "32",
         "scene": "scene",
         "showlegend": true,
         "type": "scatter3d",
         "x": [
          -3213.2861187051035
         ],
         "y": [
          -3467.707130093646
         ],
         "z": [
          1614.7361267188485
         ]
        },
        {
         "customdata": [
          [
           33
          ]
         ],
         "hovertemplate": "Sensor ID=%{customdata[0]}<br>Principal Component 1=%{x}<br>Principal Component 2=%{y}<br>Principal Component 3=%{z}<br>Cluster=%{marker.color}<extra></extra>",
         "legendgroup": "33",
         "marker": {
          "color": [
           0
          ],
          "coloraxis": "coloraxis",
          "symbol": "diamond"
         },
         "mode": "markers",
         "name": "33",
         "scene": "scene",
         "showlegend": true,
         "type": "scatter3d",
         "x": [
          -3157.6208273185366
         ],
         "y": [
          3949.2450194351677
         ],
         "z": [
          972.3843504652516
         ]
        },
        {
         "customdata": [
          [
           34
          ]
         ],
         "hovertemplate": "Sensor ID=%{customdata[0]}<br>Principal Component 1=%{x}<br>Principal Component 2=%{y}<br>Principal Component 3=%{z}<br>Cluster=%{marker.color}<extra></extra>",
         "legendgroup": "34",
         "marker": {
          "color": [
           2
          ],
          "coloraxis": "coloraxis",
          "symbol": "square"
         },
         "mode": "markers",
         "name": "34",
         "scene": "scene",
         "showlegend": true,
         "type": "scatter3d",
         "x": [
          -2959.7383899809242
         ],
         "y": [
          198.12564916483274
         ],
         "z": [
          -412.22982270553695
         ]
        },
        {
         "customdata": [
          [
           35
          ]
         ],
         "hovertemplate": "Sensor ID=%{customdata[0]}<br>Principal Component 1=%{x}<br>Principal Component 2=%{y}<br>Principal Component 3=%{z}<br>Cluster=%{marker.color}<extra></extra>",
         "legendgroup": "35",
         "marker": {
          "color": [
           2
          ],
          "coloraxis": "coloraxis",
          "symbol": "x"
         },
         "mode": "markers",
         "name": "35",
         "scene": "scene",
         "showlegend": true,
         "type": "scatter3d",
         "x": [
          -2526.248460205651
         ],
         "y": [
          -2959.252272456045
         ],
         "z": [
          -1349.5020057271486
         ]
        },
        {
         "customdata": [
          [
           36
          ]
         ],
         "hovertemplate": "Sensor ID=%{customdata[0]}<br>Principal Component 1=%{x}<br>Principal Component 2=%{y}<br>Principal Component 3=%{z}<br>Cluster=%{marker.color}<extra></extra>",
         "legendgroup": "36",
         "marker": {
          "color": [
           2
          ],
          "coloraxis": "coloraxis",
          "symbol": "cross"
         },
         "mode": "markers",
         "name": "36",
         "scene": "scene",
         "showlegend": true,
         "type": "scatter3d",
         "x": [
          -2380.7323190765396
         ],
         "y": [
          -2829.5493238455933
         ],
         "z": [
          554.4840305200805
         ]
        },
        {
         "customdata": [
          [
           37
          ]
         ],
         "hovertemplate": "Sensor ID=%{customdata[0]}<br>Principal Component 1=%{x}<br>Principal Component 2=%{y}<br>Principal Component 3=%{z}<br>Cluster=%{marker.color}<extra></extra>",
         "legendgroup": "37",
         "marker": {
          "color": [
           0
          ],
          "coloraxis": "coloraxis",
          "symbol": "circle"
         },
         "mode": "markers",
         "name": "37",
         "scene": "scene",
         "showlegend": true,
         "type": "scatter3d",
         "x": [
          -3177.372314600751
         ],
         "y": [
          5852.099294505959
         ],
         "z": [
          -877.1026513001991
         ]
        },
        {
         "customdata": [
          [
           38
          ]
         ],
         "hovertemplate": "Sensor ID=%{customdata[0]}<br>Principal Component 1=%{x}<br>Principal Component 2=%{y}<br>Principal Component 3=%{z}<br>Cluster=%{marker.color}<extra></extra>",
         "legendgroup": "38",
         "marker": {
          "color": [
           3
          ],
          "coloraxis": "coloraxis",
          "symbol": "diamond"
         },
         "mode": "markers",
         "name": "38",
         "scene": "scene",
         "showlegend": true,
         "type": "scatter3d",
         "x": [
          -3098.8924905505005
         ],
         "y": [
          -591.7286484672043
         ],
         "z": [
          2639.6702225002464
         ]
        },
        {
         "customdata": [
          [
           39
          ]
         ],
         "hovertemplate": "Sensor ID=%{customdata[0]}<br>Principal Component 1=%{x}<br>Principal Component 2=%{y}<br>Principal Component 3=%{z}<br>Cluster=%{marker.color}<extra></extra>",
         "legendgroup": "39",
         "marker": {
          "color": [
           0
          ],
          "coloraxis": "coloraxis",
          "symbol": "square"
         },
         "mode": "markers",
         "name": "39",
         "scene": "scene",
         "showlegend": true,
         "type": "scatter3d",
         "x": [
          -2412.7621595602864
         ],
         "y": [
          7915.265438113962
         ],
         "z": [
          2255.2751583421446
         ]
        },
        {
         "customdata": [
          [
           40
          ]
         ],
         "hovertemplate": "Sensor ID=%{customdata[0]}<br>Principal Component 1=%{x}<br>Principal Component 2=%{y}<br>Principal Component 3=%{z}<br>Cluster=%{marker.color}<extra></extra>",
         "legendgroup": "40",
         "marker": {
          "color": [
           2
          ],
          "coloraxis": "coloraxis",
          "symbol": "x"
         },
         "mode": "markers",
         "name": "40",
         "scene": "scene",
         "showlegend": true,
         "type": "scatter3d",
         "x": [
          -2489.00922958073
         ],
         "y": [
          -996.999043019381
         ],
         "z": [
          -182.35400449894908
         ]
        },
        {
         "customdata": [
          [
           41
          ]
         ],
         "hovertemplate": "Sensor ID=%{customdata[0]}<br>Principal Component 1=%{x}<br>Principal Component 2=%{y}<br>Principal Component 3=%{z}<br>Cluster=%{marker.color}<extra></extra>",
         "legendgroup": "41",
         "marker": {
          "color": [
           0
          ],
          "coloraxis": "coloraxis",
          "symbol": "cross"
         },
         "mode": "markers",
         "name": "41",
         "scene": "scene",
         "showlegend": true,
         "type": "scatter3d",
         "x": [
          -3027.608708405632
         ],
         "y": [
          4741.050114716264
         ],
         "z": [
          -4151.977962884462
         ]
        },
        {
         "customdata": [
          [
           42
          ]
         ],
         "hovertemplate": "Sensor ID=%{customdata[0]}<br>Principal Component 1=%{x}<br>Principal Component 2=%{y}<br>Principal Component 3=%{z}<br>Cluster=%{marker.color}<extra></extra>",
         "legendgroup": "42",
         "marker": {
          "color": [
           3
          ],
          "coloraxis": "coloraxis",
          "symbol": "circle"
         },
         "mode": "markers",
         "name": "42",
         "scene": "scene",
         "showlegend": true,
         "type": "scatter3d",
         "x": [
          -3255.4098431091797
         ],
         "y": [
          909.530253902252
         ],
         "z": [
          3717.4209211507655
         ]
        },
        {
         "customdata": [
          [
           43
          ]
         ],
         "hovertemplate": "Sensor ID=%{customdata[0]}<br>Principal Component 1=%{x}<br>Principal Component 2=%{y}<br>Principal Component 3=%{z}<br>Cluster=%{marker.color}<extra></extra>",
         "legendgroup": "43",
         "marker": {
          "color": [
           3
          ],
          "coloraxis": "coloraxis",
          "symbol": "diamond"
         },
         "mode": "markers",
         "name": "43",
         "scene": "scene",
         "showlegend": true,
         "type": "scatter3d",
         "x": [
          -2822.7220805102
         ],
         "y": [
          550.2667464290881
         ],
         "z": [
          504.7354670708227
         ]
        },
        {
         "customdata": [
          [
           44
          ]
         ],
         "hovertemplate": "Sensor ID=%{customdata[0]}<br>Principal Component 1=%{x}<br>Principal Component 2=%{y}<br>Principal Component 3=%{z}<br>Cluster=%{marker.color}<extra></extra>",
         "legendgroup": "44",
         "marker": {
          "color": [
           2
          ],
          "coloraxis": "coloraxis",
          "symbol": "square"
         },
         "mode": "markers",
         "name": "44",
         "scene": "scene",
         "showlegend": true,
         "type": "scatter3d",
         "x": [
          -2511.3663669223047
         ],
         "y": [
          -434.3507374834713
         ],
         "z": [
          -1669.5185228210973
         ]
        },
        {
         "customdata": [
          [
           45
          ]
         ],
         "hovertemplate": "Sensor ID=%{customdata[0]}<br>Principal Component 1=%{x}<br>Principal Component 2=%{y}<br>Principal Component 3=%{z}<br>Cluster=%{marker.color}<extra></extra>",
         "legendgroup": "45",
         "marker": {
          "color": [
           2
          ],
          "coloraxis": "coloraxis",
          "symbol": "x"
         },
         "mode": "markers",
         "name": "45",
         "scene": "scene",
         "showlegend": true,
         "type": "scatter3d",
         "x": [
          -3191.282820345062
         ],
         "y": [
          -3326.6067452347997
         ],
         "z": [
          -787.0829374861247
         ]
        },
        {
         "customdata": [
          [
           46
          ]
         ],
         "hovertemplate": "Sensor ID=%{customdata[0]}<br>Principal Component 1=%{x}<br>Principal Component 2=%{y}<br>Principal Component 3=%{z}<br>Cluster=%{marker.color}<extra></extra>",
         "legendgroup": "46",
         "marker": {
          "color": [
           2
          ],
          "coloraxis": "coloraxis",
          "symbol": "cross"
         },
         "mode": "markers",
         "name": "46",
         "scene": "scene",
         "showlegend": true,
         "type": "scatter3d",
         "x": [
          -3212.2691854570317
         ],
         "y": [
          -599.6817832989367
         ],
         "z": [
          -3450.78046728884
         ]
        },
        {
         "customdata": [
          [
           47
          ]
         ],
         "hovertemplate": "Sensor ID=%{customdata[0]}<br>Principal Component 1=%{x}<br>Principal Component 2=%{y}<br>Principal Component 3=%{z}<br>Cluster=%{marker.color}<extra></extra>",
         "legendgroup": "47",
         "marker": {
          "color": [
           3
          ],
          "coloraxis": "coloraxis",
          "symbol": "circle"
         },
         "mode": "markers",
         "name": "47",
         "scene": "scene",
         "showlegend": true,
         "type": "scatter3d",
         "x": [
          -3232.8485972462117
         ],
         "y": [
          10.626387325996548
         ],
         "z": [
          5102.460958428735
         ]
        },
        {
         "customdata": [
          [
           48
          ]
         ],
         "hovertemplate": "Sensor ID=%{customdata[0]}<br>Principal Component 1=%{x}<br>Principal Component 2=%{y}<br>Principal Component 3=%{z}<br>Cluster=%{marker.color}<extra></extra>",
         "legendgroup": "48",
         "marker": {
          "color": [
           3
          ],
          "coloraxis": "coloraxis",
          "symbol": "diamond"
         },
         "mode": "markers",
         "name": "48",
         "scene": "scene",
         "showlegend": true,
         "type": "scatter3d",
         "x": [
          -3225.210533608624
         ],
         "y": [
          -2320.2955541265746
         ],
         "z": [
          1955.3725084245973
         ]
        },
        {
         "customdata": [
          [
           49
          ]
         ],
         "hovertemplate": "Sensor ID=%{customdata[0]}<br>Principal Component 1=%{x}<br>Principal Component 2=%{y}<br>Principal Component 3=%{z}<br>Cluster=%{marker.color}<extra></extra>",
         "legendgroup": "49",
         "marker": {
          "color": [
           2
          ],
          "coloraxis": "coloraxis",
          "symbol": "square"
         },
         "mode": "markers",
         "name": "49",
         "scene": "scene",
         "showlegend": true,
         "type": "scatter3d",
         "x": [
          -2947.9523622975266
         ],
         "y": [
          -896.3852448788276
         ],
         "z": [
          -341.845699682913
         ]
        },
        {
         "customdata": [
          [
           50
          ]
         ],
         "hovertemplate": "Sensor ID=%{customdata[0]}<br>Principal Component 1=%{x}<br>Principal Component 2=%{y}<br>Principal Component 3=%{z}<br>Cluster=%{marker.color}<extra></extra>",
         "legendgroup": "50",
         "marker": {
          "color": [
           3
          ],
          "coloraxis": "coloraxis",
          "symbol": "x"
         },
         "mode": "markers",
         "name": "50",
         "scene": "scene",
         "showlegend": true,
         "type": "scatter3d",
         "x": [
          -3239.9111593176335
         ],
         "y": [
          1486.097809713727
         ],
         "z": [
          1896.3855480939574
         ]
        },
        {
         "customdata": [
          [
           51
          ]
         ],
         "hovertemplate": "Sensor ID=%{customdata[0]}<br>Principal Component 1=%{x}<br>Principal Component 2=%{y}<br>Principal Component 3=%{z}<br>Cluster=%{marker.color}<extra></extra>",
         "legendgroup": "51",
         "marker": {
          "color": [
           2
          ],
          "coloraxis": "coloraxis",
          "symbol": "cross"
         },
         "mode": "markers",
         "name": "51",
         "scene": "scene",
         "showlegend": true,
         "type": "scatter3d",
         "x": [
          -3221.0265065824033
         ],
         "y": [
          -2730.443922072477
         ],
         "z": [
          -3088.117712882467
         ]
        },
        {
         "customdata": [
          [
           52
          ]
         ],
         "hovertemplate": "Sensor ID=%{customdata[0]}<br>Principal Component 1=%{x}<br>Principal Component 2=%{y}<br>Principal Component 3=%{z}<br>Cluster=%{marker.color}<extra></extra>",
         "legendgroup": "52",
         "marker": {
          "color": [
           2
          ],
          "coloraxis": "coloraxis",
          "symbol": "circle"
         },
         "mode": "markers",
         "name": "52",
         "scene": "scene",
         "showlegend": true,
         "type": "scatter3d",
         "x": [
          -3233.670860797127
         ],
         "y": [
          -2242.499024040993
         ],
         "z": [
          -2088.050356867048
         ]
        },
        {
         "customdata": [
          [
           53
          ]
         ],
         "hovertemplate": "Sensor ID=%{customdata[0]}<br>Principal Component 1=%{x}<br>Principal Component 2=%{y}<br>Principal Component 3=%{z}<br>Cluster=%{marker.color}<extra></extra>",
         "legendgroup": "53",
         "marker": {
          "color": [
           3
          ],
          "coloraxis": "coloraxis",
          "symbol": "diamond"
         },
         "mode": "markers",
         "name": "53",
         "scene": "scene",
         "showlegend": true,
         "type": "scatter3d",
         "x": [
          -3137.8572992456784
         ],
         "y": [
          -1882.1556708141816
         ],
         "z": [
          1703.4962213326053
         ]
        },
        {
         "customdata": [
          [
           54
          ]
         ],
         "hovertemplate": "Sensor ID=%{customdata[0]}<br>Principal Component 1=%{x}<br>Principal Component 2=%{y}<br>Principal Component 3=%{z}<br>Cluster=%{marker.color}<extra></extra>",
         "legendgroup": "54",
         "marker": {
          "color": [
           0
          ],
          "coloraxis": "coloraxis",
          "symbol": "square"
         },
         "mode": "markers",
         "name": "54",
         "scene": "scene",
         "showlegend": true,
         "type": "scatter3d",
         "x": [
          -3178.59546837849
         ],
         "y": [
          2143.0923487366736
         ],
         "z": [
          -2856.9702792739267
         ]
        },
        {
         "customdata": [
          [
           55
          ]
         ],
         "hovertemplate": "Sensor ID=%{customdata[0]}<br>Principal Component 1=%{x}<br>Principal Component 2=%{y}<br>Principal Component 3=%{z}<br>Cluster=%{marker.color}<extra></extra>",
         "legendgroup": "55",
         "marker": {
          "color": [
           0
          ],
          "coloraxis": "coloraxis",
          "symbol": "x"
         },
         "mode": "markers",
         "name": "55",
         "scene": "scene",
         "showlegend": true,
         "type": "scatter3d",
         "x": [
          -2475.7441580836116
         ],
         "y": [
          2868.3269765981668
         ],
         "z": [
          -102.54557162066939
         ]
        },
        {
         "customdata": [
          [
           56
          ]
         ],
         "hovertemplate": "Sensor ID=%{customdata[0]}<br>Principal Component 1=%{x}<br>Principal Component 2=%{y}<br>Principal Component 3=%{z}<br>Cluster=%{marker.color}<extra></extra>",
         "legendgroup": "56",
         "marker": {
          "color": [
           2
          ],
          "coloraxis": "coloraxis",
          "symbol": "cross"
         },
         "mode": "markers",
         "name": "56",
         "scene": "scene",
         "showlegend": true,
         "type": "scatter3d",
         "x": [
          -2983.169163108799
         ],
         "y": [
          -1543.041857872158
         ],
         "z": [
          -2023.5583949884688
         ]
        },
        {
         "customdata": [
          [
           57
          ]
         ],
         "hovertemplate": "Sensor ID=%{customdata[0]}<br>Principal Component 1=%{x}<br>Principal Component 2=%{y}<br>Principal Component 3=%{z}<br>Cluster=%{marker.color}<extra></extra>",
         "legendgroup": "57",
         "marker": {
          "color": [
           1
          ],
          "coloraxis": "coloraxis",
          "symbol": "circle"
         },
         "mode": "markers",
         "name": "57",
         "scene": "scene",
         "showlegend": true,
         "type": "scatter3d",
         "x": [
          62512.01686058885
         ],
         "y": [
          -1599.4530361778325
         ],
         "z": [
          617.1410351191025
         ]
        },
        {
         "customdata": [
          [
           58
          ]
         ],
         "hovertemplate": "Sensor ID=%{customdata[0]}<br>Principal Component 1=%{x}<br>Principal Component 2=%{y}<br>Principal Component 3=%{z}<br>Cluster=%{marker.color}<extra></extra>",
         "legendgroup": "58",
         "marker": {
          "color": [
           3
          ],
          "coloraxis": "coloraxis",
          "symbol": "diamond"
         },
         "mode": "markers",
         "name": "58",
         "scene": "scene",
         "showlegend": true,
         "type": "scatter3d",
         "x": [
          -3304.0731381348146
         ],
         "y": [
          1998.0857011425906
         ],
         "z": [
          5104.715717702782
         ]
        },
        {
         "customdata": [
          [
           59
          ]
         ],
         "hovertemplate": "Sensor ID=%{customdata[0]}<br>Principal Component 1=%{x}<br>Principal Component 2=%{y}<br>Principal Component 3=%{z}<br>Cluster=%{marker.color}<extra></extra>",
         "legendgroup": "59",
         "marker": {
          "color": [
           2
          ],
          "coloraxis": "coloraxis",
          "symbol": "square"
         },
         "mode": "markers",
         "name": "59",
         "scene": "scene",
         "showlegend": true,
         "type": "scatter3d",
         "x": [
          -2329.863053836092
         ],
         "y": [
          -3885.656173136472
         ],
         "z": [
          -2103.6852564689484
         ]
        },
        {
         "customdata": [
          [
           60
          ]
         ],
         "hovertemplate": "Sensor ID=%{customdata[0]}<br>Principal Component 1=%{x}<br>Principal Component 2=%{y}<br>Principal Component 3=%{z}<br>Cluster=%{marker.color}<extra></extra>",
         "legendgroup": "60",
         "marker": {
          "color": [
           0
          ],
          "coloraxis": "coloraxis",
          "symbol": "x"
         },
         "mode": "markers",
         "name": "60",
         "scene": "scene",
         "showlegend": true,
         "type": "scatter3d",
         "x": [
          -3180.2437974580953
         ],
         "y": [
          3698.6969053938615
         ],
         "z": [
          416.25172171036536
         ]
        },
        {
         "customdata": [
          [
           61
          ]
         ],
         "hovertemplate": "Sensor ID=%{customdata[0]}<br>Principal Component 1=%{x}<br>Principal Component 2=%{y}<br>Principal Component 3=%{z}<br>Cluster=%{marker.color}<extra></extra>",
         "legendgroup": "61",
         "marker": {
          "color": [
           3
          ],
          "coloraxis": "coloraxis",
          "symbol": "cross"
         },
         "mode": "markers",
         "name": "61",
         "scene": "scene",
         "showlegend": true,
         "type": "scatter3d",
         "x": [
          -3273.809024070681
         ],
         "y": [
          -2173.3353318633785
         ],
         "z": [
          3112.8566310795363
         ]
        },
        {
         "customdata": [
          [
           62
          ]
         ],
         "hovertemplate": "Sensor ID=%{customdata[0]}<br>Principal Component 1=%{x}<br>Principal Component 2=%{y}<br>Principal Component 3=%{z}<br>Cluster=%{marker.color}<extra></extra>",
         "legendgroup": "62",
         "marker": {
          "color": [
           2
          ],
          "coloraxis": "coloraxis",
          "symbol": "circle"
         },
         "mode": "markers",
         "name": "62",
         "scene": "scene",
         "showlegend": true,
         "type": "scatter3d",
         "x": [
          -3291.688754410515
         ],
         "y": [
          -1040.4327661547313
         ],
         "z": [
          -266.03040778554777
         ]
        },
        {
         "customdata": [
          [
           63
          ]
         ],
         "hovertemplate": "Sensor ID=%{customdata[0]}<br>Principal Component 1=%{x}<br>Principal Component 2=%{y}<br>Principal Component 3=%{z}<br>Cluster=%{marker.color}<extra></extra>",
         "legendgroup": "63",
         "marker": {
          "color": [
           0
          ],
          "coloraxis": "coloraxis",
          "symbol": "diamond"
         },
         "mode": "markers",
         "name": "63",
         "scene": "scene",
         "showlegend": true,
         "type": "scatter3d",
         "x": [
          -3338.8406349723377
         ],
         "y": [
          2915.8027731208517
         ],
         "z": [
          -969.2953161811265
         ]
        },
        {
         "customdata": [
          [
           64
          ]
         ],
         "hovertemplate": "Sensor ID=%{customdata[0]}<br>Principal Component 1=%{x}<br>Principal Component 2=%{y}<br>Principal Component 3=%{z}<br>Cluster=%{marker.color}<extra></extra>",
         "legendgroup": "64",
         "marker": {
          "color": [
           1
          ],
          "coloraxis": "coloraxis",
          "symbol": "square"
         },
         "mode": "markers",
         "name": "64",
         "scene": "scene",
         "showlegend": true,
         "type": "scatter3d",
         "x": [
          62714.585041246115
         ],
         "y": [
          1584.2781018804899
         ],
         "z": [
          -505.9853093027745
         ]
        },
        {
         "customdata": [
          [
           65
          ]
         ],
         "hovertemplate": "Sensor ID=%{customdata[0]}<br>Principal Component 1=%{x}<br>Principal Component 2=%{y}<br>Principal Component 3=%{z}<br>Cluster=%{marker.color}<extra></extra>",
         "legendgroup": "65",
         "marker": {
          "color": [
           0
          ],
          "coloraxis": "coloraxis",
          "symbol": "x"
         },
         "mode": "markers",
         "name": "65",
         "scene": "scene",
         "showlegend": true,
         "type": "scatter3d",
         "x": [
          -3183.6328923638357
         ],
         "y": [
          4047.729804176974
         ],
         "z": [
          -533.2058616263007
         ]
        },
        {
         "customdata": [
          [
           66
          ]
         ],
         "hovertemplate": "Sensor ID=%{customdata[0]}<br>Principal Component 1=%{x}<br>Principal Component 2=%{y}<br>Principal Component 3=%{z}<br>Cluster=%{marker.color}<extra></extra>",
         "legendgroup": "66",
         "marker": {
          "color": [
           0
          ],
          "coloraxis": "coloraxis",
          "symbol": "cross"
         },
         "mode": "markers",
         "name": "66",
         "scene": "scene",
         "showlegend": true,
         "type": "scatter3d",
         "x": [
          -2468.554919532043
         ],
         "y": [
          1870.3493449602272
         ],
         "z": [
          -2159.480585125447
         ]
        },
        {
         "customdata": [
          [
           67
          ]
         ],
         "hovertemplate": "Sensor ID=%{customdata[0]}<br>Principal Component 1=%{x}<br>Principal Component 2=%{y}<br>Principal Component 3=%{z}<br>Cluster=%{marker.color}<extra></extra>",
         "legendgroup": "67",
         "marker": {
          "color": [
           2
          ],
          "coloraxis": "coloraxis",
          "symbol": "circle"
         },
         "mode": "markers",
         "name": "67",
         "scene": "scene",
         "showlegend": true,
         "type": "scatter3d",
         "x": [
          -2292.94247344014
         ],
         "y": [
          -1598.9510760849712
         ],
         "z": [
          649.8559534114391
         ]
        },
        {
         "customdata": [
          [
           68
          ]
         ],
         "hovertemplate": "Sensor ID=%{customdata[0]}<br>Principal Component 1=%{x}<br>Principal Component 2=%{y}<br>Principal Component 3=%{z}<br>Cluster=%{marker.color}<extra></extra>",
         "legendgroup": "68",
         "marker": {
          "color": [
           3
          ],
          "coloraxis": "coloraxis",
          "symbol": "diamond"
         },
         "mode": "markers",
         "name": "68",
         "scene": "scene",
         "showlegend": true,
         "type": "scatter3d",
         "x": [
          -3238.9725261477934
         ],
         "y": [
          -1932.8391323631813
         ],
         "z": [
          6616.900834824557
         ]
        },
        {
         "customdata": [
          [
           69
          ]
         ],
         "hovertemplate": "Sensor ID=%{customdata[0]}<br>Principal Component 1=%{x}<br>Principal Component 2=%{y}<br>Principal Component 3=%{z}<br>Cluster=%{marker.color}<extra></extra>",
         "legendgroup": "69",
         "marker": {
          "color": [
           3
          ],
          "coloraxis": "coloraxis",
          "symbol": "square"
         },
         "mode": "markers",
         "name": "69",
         "scene": "scene",
         "showlegend": true,
         "type": "scatter3d",
         "x": [
          -3207.2957628194204
         ],
         "y": [
          256.59839856640826
         ],
         "z": [
          805.5453188573146
         ]
        },
        {
         "customdata": [
          [
           70
          ]
         ],
         "hovertemplate": "Sensor ID=%{customdata[0]}<br>Principal Component 1=%{x}<br>Principal Component 2=%{y}<br>Principal Component 3=%{z}<br>Cluster=%{marker.color}<extra></extra>",
         "legendgroup": "70",
         "marker": {
          "color": [
           2
          ],
          "coloraxis": "coloraxis",
          "symbol": "x"
         },
         "mode": "markers",
         "name": "70",
         "scene": "scene",
         "showlegend": true,
         "type": "scatter3d",
         "x": [
          -3082.740918527717
         ],
         "y": [
          113.66103061967698
         ],
         "z": [
          -4954.088947992367
         ]
        },
        {
         "customdata": [
          [
           71
          ]
         ],
         "hovertemplate": "Sensor ID=%{customdata[0]}<br>Principal Component 1=%{x}<br>Principal Component 2=%{y}<br>Principal Component 3=%{z}<br>Cluster=%{marker.color}<extra></extra>",
         "legendgroup": "71",
         "marker": {
          "color": [
           2
          ],
          "coloraxis": "coloraxis",
          "symbol": "cross"
         },
         "mode": "markers",
         "name": "71",
         "scene": "scene",
         "showlegend": true,
         "type": "scatter3d",
         "x": [
          -2969.622307083558
         ],
         "y": [
          -1103.9225690597273
         ],
         "z": [
          -3408.141719294046
         ]
        },
        {
         "customdata": [
          [
           72
          ]
         ],
         "hovertemplate": "Sensor ID=%{customdata[0]}<br>Principal Component 1=%{x}<br>Principal Component 2=%{y}<br>Principal Component 3=%{z}<br>Cluster=%{marker.color}<extra></extra>",
         "legendgroup": "72",
         "marker": {
          "color": [
           2
          ],
          "coloraxis": "coloraxis",
          "symbol": "circle"
         },
         "mode": "markers",
         "name": "72",
         "scene": "scene",
         "showlegend": true,
         "type": "scatter3d",
         "x": [
          -3271.2924306901004
         ],
         "y": [
          -1919.80255885064
         ],
         "z": [
          399.25014930877177
         ]
        },
        {
         "customdata": [
          [
           73
          ]
         ],
         "hovertemplate": "Sensor ID=%{customdata[0]}<br>Principal Component 1=%{x}<br>Principal Component 2=%{y}<br>Principal Component 3=%{z}<br>Cluster=%{marker.color}<extra></extra>",
         "legendgroup": "73",
         "marker": {
          "color": [
           2
          ],
          "coloraxis": "coloraxis",
          "symbol": "diamond"
         },
         "mode": "markers",
         "name": "73",
         "scene": "scene",
         "showlegend": true,
         "type": "scatter3d",
         "x": [
          -3128.505221114234
         ],
         "y": [
          -3382.394966087052
         ],
         "z": [
          -2032.9573246382356
         ]
        },
        {
         "customdata": [
          [
           74
          ]
         ],
         "hovertemplate": "Sensor ID=%{customdata[0]}<br>Principal Component 1=%{x}<br>Principal Component 2=%{y}<br>Principal Component 3=%{z}<br>Cluster=%{marker.color}<extra></extra>",
         "legendgroup": "74",
         "marker": {
          "color": [
           0
          ],
          "coloraxis": "coloraxis",
          "symbol": "square"
         },
         "mode": "markers",
         "name": "74",
         "scene": "scene",
         "showlegend": true,
         "type": "scatter3d",
         "x": [
          -2357.4139635918605
         ],
         "y": [
          1872.108669268829
         ],
         "z": [
          -1113.3494925520931
         ]
        },
        {
         "customdata": [
          [
           75
          ]
         ],
         "hovertemplate": "Sensor ID=%{customdata[0]}<br>Principal Component 1=%{x}<br>Principal Component 2=%{y}<br>Principal Component 3=%{z}<br>Cluster=%{marker.color}<extra></extra>",
         "legendgroup": "75",
         "marker": {
          "color": [
           2
          ],
          "coloraxis": "coloraxis",
          "symbol": "x"
         },
         "mode": "markers",
         "name": "75",
         "scene": "scene",
         "showlegend": true,
         "type": "scatter3d",
         "x": [
          -2994.802660647198
         ],
         "y": [
          -3523.5522002897255
         ],
         "z": [
          788.917735932808
         ]
        }
       ],
       "layout": {
        "coloraxis": {
         "colorbar": {
          "title": {
           "text": "Cluster"
          }
         },
         "colorscale": [
          [
           0,
           "#0d0887"
          ],
          [
           0.1111111111111111,
           "#46039f"
          ],
          [
           0.2222222222222222,
           "#7201a8"
          ],
          [
           0.3333333333333333,
           "#9c179e"
          ],
          [
           0.4444444444444444,
           "#bd3786"
          ],
          [
           0.5555555555555556,
           "#d8576b"
          ],
          [
           0.6666666666666666,
           "#ed7953"
          ],
          [
           0.7777777777777778,
           "#fb9f3a"
          ],
          [
           0.8888888888888888,
           "#fdca26"
          ],
          [
           1,
           "#f0f921"
          ]
         ]
        },
        "legend": {
         "title": {
          "text": "Sensor ID"
         },
         "tracegroupgap": 0
        },
        "scene": {
         "domain": {
          "x": [
           0,
           1
          ],
          "y": [
           0,
           1
          ]
         },
         "xaxis": {
          "title": {
           "text": "Principal Component 1"
          }
         },
         "yaxis": {
          "title": {
           "text": "Principal Component 2"
          }
         },
         "zaxis": {
          "title": {
           "text": "Principal Component 3"
          }
         }
        },
        "template": {
         "data": {
          "bar": [
           {
            "error_x": {
             "color": "#2a3f5f"
            },
            "error_y": {
             "color": "#2a3f5f"
            },
            "marker": {
             "line": {
              "color": "#E5ECF6",
              "width": 0.5
             },
             "pattern": {
              "fillmode": "overlay",
              "size": 10,
              "solidity": 0.2
             }
            },
            "type": "bar"
           }
          ],
          "barpolar": [
           {
            "marker": {
             "line": {
              "color": "#E5ECF6",
              "width": 0.5
             },
             "pattern": {
              "fillmode": "overlay",
              "size": 10,
              "solidity": 0.2
             }
            },
            "type": "barpolar"
           }
          ],
          "carpet": [
           {
            "aaxis": {
             "endlinecolor": "#2a3f5f",
             "gridcolor": "white",
             "linecolor": "white",
             "minorgridcolor": "white",
             "startlinecolor": "#2a3f5f"
            },
            "baxis": {
             "endlinecolor": "#2a3f5f",
             "gridcolor": "white",
             "linecolor": "white",
             "minorgridcolor": "white",
             "startlinecolor": "#2a3f5f"
            },
            "type": "carpet"
           }
          ],
          "choropleth": [
           {
            "colorbar": {
             "outlinewidth": 0,
             "ticks": ""
            },
            "type": "choropleth"
           }
          ],
          "contour": [
           {
            "colorbar": {
             "outlinewidth": 0,
             "ticks": ""
            },
            "colorscale": [
             [
              0,
              "#0d0887"
             ],
             [
              0.1111111111111111,
              "#46039f"
             ],
             [
              0.2222222222222222,
              "#7201a8"
             ],
             [
              0.3333333333333333,
              "#9c179e"
             ],
             [
              0.4444444444444444,
              "#bd3786"
             ],
             [
              0.5555555555555556,
              "#d8576b"
             ],
             [
              0.6666666666666666,
              "#ed7953"
             ],
             [
              0.7777777777777778,
              "#fb9f3a"
             ],
             [
              0.8888888888888888,
              "#fdca26"
             ],
             [
              1,
              "#f0f921"
             ]
            ],
            "type": "contour"
           }
          ],
          "contourcarpet": [
           {
            "colorbar": {
             "outlinewidth": 0,
             "ticks": ""
            },
            "type": "contourcarpet"
           }
          ],
          "heatmap": [
           {
            "colorbar": {
             "outlinewidth": 0,
             "ticks": ""
            },
            "colorscale": [
             [
              0,
              "#0d0887"
             ],
             [
              0.1111111111111111,
              "#46039f"
             ],
             [
              0.2222222222222222,
              "#7201a8"
             ],
             [
              0.3333333333333333,
              "#9c179e"
             ],
             [
              0.4444444444444444,
              "#bd3786"
             ],
             [
              0.5555555555555556,
              "#d8576b"
             ],
             [
              0.6666666666666666,
              "#ed7953"
             ],
             [
              0.7777777777777778,
              "#fb9f3a"
             ],
             [
              0.8888888888888888,
              "#fdca26"
             ],
             [
              1,
              "#f0f921"
             ]
            ],
            "type": "heatmap"
           }
          ],
          "heatmapgl": [
           {
            "colorbar": {
             "outlinewidth": 0,
             "ticks": ""
            },
            "colorscale": [
             [
              0,
              "#0d0887"
             ],
             [
              0.1111111111111111,
              "#46039f"
             ],
             [
              0.2222222222222222,
              "#7201a8"
             ],
             [
              0.3333333333333333,
              "#9c179e"
             ],
             [
              0.4444444444444444,
              "#bd3786"
             ],
             [
              0.5555555555555556,
              "#d8576b"
             ],
             [
              0.6666666666666666,
              "#ed7953"
             ],
             [
              0.7777777777777778,
              "#fb9f3a"
             ],
             [
              0.8888888888888888,
              "#fdca26"
             ],
             [
              1,
              "#f0f921"
             ]
            ],
            "type": "heatmapgl"
           }
          ],
          "histogram": [
           {
            "marker": {
             "pattern": {
              "fillmode": "overlay",
              "size": 10,
              "solidity": 0.2
             }
            },
            "type": "histogram"
           }
          ],
          "histogram2d": [
           {
            "colorbar": {
             "outlinewidth": 0,
             "ticks": ""
            },
            "colorscale": [
             [
              0,
              "#0d0887"
             ],
             [
              0.1111111111111111,
              "#46039f"
             ],
             [
              0.2222222222222222,
              "#7201a8"
             ],
             [
              0.3333333333333333,
              "#9c179e"
             ],
             [
              0.4444444444444444,
              "#bd3786"
             ],
             [
              0.5555555555555556,
              "#d8576b"
             ],
             [
              0.6666666666666666,
              "#ed7953"
             ],
             [
              0.7777777777777778,
              "#fb9f3a"
             ],
             [
              0.8888888888888888,
              "#fdca26"
             ],
             [
              1,
              "#f0f921"
             ]
            ],
            "type": "histogram2d"
           }
          ],
          "histogram2dcontour": [
           {
            "colorbar": {
             "outlinewidth": 0,
             "ticks": ""
            },
            "colorscale": [
             [
              0,
              "#0d0887"
             ],
             [
              0.1111111111111111,
              "#46039f"
             ],
             [
              0.2222222222222222,
              "#7201a8"
             ],
             [
              0.3333333333333333,
              "#9c179e"
             ],
             [
              0.4444444444444444,
              "#bd3786"
             ],
             [
              0.5555555555555556,
              "#d8576b"
             ],
             [
              0.6666666666666666,
              "#ed7953"
             ],
             [
              0.7777777777777778,
              "#fb9f3a"
             ],
             [
              0.8888888888888888,
              "#fdca26"
             ],
             [
              1,
              "#f0f921"
             ]
            ],
            "type": "histogram2dcontour"
           }
          ],
          "mesh3d": [
           {
            "colorbar": {
             "outlinewidth": 0,
             "ticks": ""
            },
            "type": "mesh3d"
           }
          ],
          "parcoords": [
           {
            "line": {
             "colorbar": {
              "outlinewidth": 0,
              "ticks": ""
             }
            },
            "type": "parcoords"
           }
          ],
          "pie": [
           {
            "automargin": true,
            "type": "pie"
           }
          ],
          "scatter": [
           {
            "fillpattern": {
             "fillmode": "overlay",
             "size": 10,
             "solidity": 0.2
            },
            "type": "scatter"
           }
          ],
          "scatter3d": [
           {
            "line": {
             "colorbar": {
              "outlinewidth": 0,
              "ticks": ""
             }
            },
            "marker": {
             "colorbar": {
              "outlinewidth": 0,
              "ticks": ""
             }
            },
            "type": "scatter3d"
           }
          ],
          "scattercarpet": [
           {
            "marker": {
             "colorbar": {
              "outlinewidth": 0,
              "ticks": ""
             }
            },
            "type": "scattercarpet"
           }
          ],
          "scattergeo": [
           {
            "marker": {
             "colorbar": {
              "outlinewidth": 0,
              "ticks": ""
             }
            },
            "type": "scattergeo"
           }
          ],
          "scattergl": [
           {
            "marker": {
             "colorbar": {
              "outlinewidth": 0,
              "ticks": ""
             }
            },
            "type": "scattergl"
           }
          ],
          "scattermapbox": [
           {
            "marker": {
             "colorbar": {
              "outlinewidth": 0,
              "ticks": ""
             }
            },
            "type": "scattermapbox"
           }
          ],
          "scatterpolar": [
           {
            "marker": {
             "colorbar": {
              "outlinewidth": 0,
              "ticks": ""
             }
            },
            "type": "scatterpolar"
           }
          ],
          "scatterpolargl": [
           {
            "marker": {
             "colorbar": {
              "outlinewidth": 0,
              "ticks": ""
             }
            },
            "type": "scatterpolargl"
           }
          ],
          "scatterternary": [
           {
            "marker": {
             "colorbar": {
              "outlinewidth": 0,
              "ticks": ""
             }
            },
            "type": "scatterternary"
           }
          ],
          "surface": [
           {
            "colorbar": {
             "outlinewidth": 0,
             "ticks": ""
            },
            "colorscale": [
             [
              0,
              "#0d0887"
             ],
             [
              0.1111111111111111,
              "#46039f"
             ],
             [
              0.2222222222222222,
              "#7201a8"
             ],
             [
              0.3333333333333333,
              "#9c179e"
             ],
             [
              0.4444444444444444,
              "#bd3786"
             ],
             [
              0.5555555555555556,
              "#d8576b"
             ],
             [
              0.6666666666666666,
              "#ed7953"
             ],
             [
              0.7777777777777778,
              "#fb9f3a"
             ],
             [
              0.8888888888888888,
              "#fdca26"
             ],
             [
              1,
              "#f0f921"
             ]
            ],
            "type": "surface"
           }
          ],
          "table": [
           {
            "cells": {
             "fill": {
              "color": "#EBF0F8"
             },
             "line": {
              "color": "white"
             }
            },
            "header": {
             "fill": {
              "color": "#C8D4E3"
             },
             "line": {
              "color": "white"
             }
            },
            "type": "table"
           }
          ]
         },
         "layout": {
          "annotationdefaults": {
           "arrowcolor": "#2a3f5f",
           "arrowhead": 0,
           "arrowwidth": 1
          },
          "autotypenumbers": "strict",
          "coloraxis": {
           "colorbar": {
            "outlinewidth": 0,
            "ticks": ""
           }
          },
          "colorscale": {
           "diverging": [
            [
             0,
             "#8e0152"
            ],
            [
             0.1,
             "#c51b7d"
            ],
            [
             0.2,
             "#de77ae"
            ],
            [
             0.3,
             "#f1b6da"
            ],
            [
             0.4,
             "#fde0ef"
            ],
            [
             0.5,
             "#f7f7f7"
            ],
            [
             0.6,
             "#e6f5d0"
            ],
            [
             0.7,
             "#b8e186"
            ],
            [
             0.8,
             "#7fbc41"
            ],
            [
             0.9,
             "#4d9221"
            ],
            [
             1,
             "#276419"
            ]
           ],
           "sequential": [
            [
             0,
             "#0d0887"
            ],
            [
             0.1111111111111111,
             "#46039f"
            ],
            [
             0.2222222222222222,
             "#7201a8"
            ],
            [
             0.3333333333333333,
             "#9c179e"
            ],
            [
             0.4444444444444444,
             "#bd3786"
            ],
            [
             0.5555555555555556,
             "#d8576b"
            ],
            [
             0.6666666666666666,
             "#ed7953"
            ],
            [
             0.7777777777777778,
             "#fb9f3a"
            ],
            [
             0.8888888888888888,
             "#fdca26"
            ],
            [
             1,
             "#f0f921"
            ]
           ],
           "sequentialminus": [
            [
             0,
             "#0d0887"
            ],
            [
             0.1111111111111111,
             "#46039f"
            ],
            [
             0.2222222222222222,
             "#7201a8"
            ],
            [
             0.3333333333333333,
             "#9c179e"
            ],
            [
             0.4444444444444444,
             "#bd3786"
            ],
            [
             0.5555555555555556,
             "#d8576b"
            ],
            [
             0.6666666666666666,
             "#ed7953"
            ],
            [
             0.7777777777777778,
             "#fb9f3a"
            ],
            [
             0.8888888888888888,
             "#fdca26"
            ],
            [
             1,
             "#f0f921"
            ]
           ]
          },
          "colorway": [
           "#636efa",
           "#EF553B",
           "#00cc96",
           "#ab63fa",
           "#FFA15A",
           "#19d3f3",
           "#FF6692",
           "#B6E880",
           "#FF97FF",
           "#FECB52"
          ],
          "font": {
           "color": "#2a3f5f"
          },
          "geo": {
           "bgcolor": "white",
           "lakecolor": "white",
           "landcolor": "#E5ECF6",
           "showlakes": true,
           "showland": true,
           "subunitcolor": "white"
          },
          "hoverlabel": {
           "align": "left"
          },
          "hovermode": "closest",
          "mapbox": {
           "style": "light"
          },
          "paper_bgcolor": "white",
          "plot_bgcolor": "#E5ECF6",
          "polar": {
           "angularaxis": {
            "gridcolor": "white",
            "linecolor": "white",
            "ticks": ""
           },
           "bgcolor": "#E5ECF6",
           "radialaxis": {
            "gridcolor": "white",
            "linecolor": "white",
            "ticks": ""
           }
          },
          "scene": {
           "xaxis": {
            "backgroundcolor": "#E5ECF6",
            "gridcolor": "white",
            "gridwidth": 2,
            "linecolor": "white",
            "showbackground": true,
            "ticks": "",
            "zerolinecolor": "white"
           },
           "yaxis": {
            "backgroundcolor": "#E5ECF6",
            "gridcolor": "white",
            "gridwidth": 2,
            "linecolor": "white",
            "showbackground": true,
            "ticks": "",
            "zerolinecolor": "white"
           },
           "zaxis": {
            "backgroundcolor": "#E5ECF6",
            "gridcolor": "white",
            "gridwidth": 2,
            "linecolor": "white",
            "showbackground": true,
            "ticks": "",
            "zerolinecolor": "white"
           }
          },
          "shapedefaults": {
           "line": {
            "color": "#2a3f5f"
           }
          },
          "ternary": {
           "aaxis": {
            "gridcolor": "white",
            "linecolor": "white",
            "ticks": ""
           },
           "baxis": {
            "gridcolor": "white",
            "linecolor": "white",
            "ticks": ""
           },
           "bgcolor": "#E5ECF6",
           "caxis": {
            "gridcolor": "white",
            "linecolor": "white",
            "ticks": ""
           }
          },
          "title": {
           "x": 0.05
          },
          "xaxis": {
           "automargin": true,
           "gridcolor": "white",
           "linecolor": "white",
           "ticks": "",
           "title": {
            "standoff": 15
           },
           "zerolinecolor": "white",
           "zerolinewidth": 2
          },
          "yaxis": {
           "automargin": true,
           "gridcolor": "white",
           "linecolor": "white",
           "ticks": "",
           "title": {
            "standoff": 15
           },
           "zerolinecolor": "white",
           "zerolinewidth": 2
          }
         }
        },
        "title": {
         "text": "K-Means Clustering of Sensors Using PCA"
        }
       }
      }
     },
     "metadata": {},
     "output_type": "display_data"
    }
   ],
   "source": [
    "from sklearn.cluster import KMeans\n",
    "\n",
    "# Apply PCA\n",
    "pca = PCA(n_components=3)\n",
    "principal_components = pca.fit_transform(reduced_data_corr.drop(columns=['Sensor ID']))\n",
    "principal_df = pd.DataFrame(data=principal_components, columns=['PC1', 'PC2', 'PC3'])\n",
    "principal_df['Sensor ID'] = reduced_data_corr['Sensor ID']\n",
    "\n",
    "# Apply K-Means clustering\n",
    "kmeans = KMeans(n_clusters=4, random_state=42)\n",
    "principal_df['Cluster'] = kmeans.fit_predict(principal_df[['PC1', 'PC2', 'PC3']])\n",
    "\n",
    "# Create an interactive 3D scatter plot\n",
    "fig = px.scatter_3d(\n",
    "    principal_df,\n",
    "    x='PC1',\n",
    "    y='PC2',\n",
    "    z='PC3',\n",
    "    color='Cluster',\n",
    "    symbol='Sensor ID',\n",
    "    title='K-Means Clustering of Sensors Using PCA',\n",
    "    labels={'PC1': 'Principal Component 1', 'PC2': 'Principal Component 2', 'PC3': 'Principal Component 3'},\n",
    "    hover_data=['Sensor ID']\n",
    ")\n",
    "\n",
    "fig.show()"
   ]
  },
  {
   "cell_type": "code",
   "execution_count": null,
   "metadata": {},
   "outputs": [],
   "source": []
  }
 ],
 "metadata": {
  "kernelspec": {
   "display_name": "datascience",
   "language": "python",
   "name": "python3"
  },
  "language_info": {
   "codemirror_mode": {
    "name": "ipython",
    "version": 3
   },
   "file_extension": ".py",
   "mimetype": "text/x-python",
   "name": "python",
   "nbconvert_exporter": "python",
   "pygments_lexer": "ipython3",
   "version": "3.10.13"
  }
 },
 "nbformat": 4,
 "nbformat_minor": 2
}
