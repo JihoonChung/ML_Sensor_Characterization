{
 "cells": [
  {
   "cell_type": "markdown",
   "metadata": {},
   "source": [
    "# Feature Selection\n"
   ]
  },
  {
   "cell_type": "markdown",
   "metadata": {},
   "source": [
    "## Load Data"
   ]
  },
  {
   "cell_type": "markdown",
   "metadata": {},
   "source": [
    "Import dataset"
   ]
  },
  {
   "cell_type": "code",
   "execution_count": 203,
   "metadata": {},
   "outputs": [],
   "source": [
    "import pandas as pd\n",
    "from sklearn.decomposition import PCA\n",
    "from sklearn.mixture import GaussianMixture\n",
    "import plotly.express as px\n",
    "import matplotlib.pyplot as plt\n",
    "from sklearn.feature_selection import mutual_info_regression\n",
    "import numpy as np\n",
    "\n",
    "# Load the dataset\n",
    "file_path = '../feature_engineered_data/data_v4-1-1_feature_engineered.csv'\n",
    "data = pd.read_csv(file_path)"
   ]
  },
  {
   "cell_type": "markdown",
   "metadata": {},
   "source": [
    "Given the feature engineered data have 282 data but theres only 77 data point which might make it hard to do feature selection. Therefore we will be dividing up into each feature engineered category and eliminate highly correlated features. "
   ]
  },
  {
   "cell_type": "code",
   "execution_count": 132,
   "metadata": {},
   "outputs": [
    {
     "data": {
      "text/plain": [
       "(124, 283)"
      ]
     },
     "execution_count": 132,
     "metadata": {},
     "output_type": "execute_result"
    }
   ],
   "source": [
    "data.shape"
   ]
  },
  {
   "cell_type": "code",
   "execution_count": 133,
   "metadata": {},
   "outputs": [
    {
     "name": "stdout",
     "output_type": "stream",
     "text": [
      "Index(['Sensor ID', '13_10000_mean_middle', '13_16800_mean_middle',\n",
      "       '13_3000_mean_middle', '13_6000_mean_middle', '13_8000_mean_middle',\n",
      "       '18_10000_mean_middle', '18_16800_mean_middle', '18_3000_mean_middle',\n",
      "       '18_6000_mean_middle',\n",
      "       ...\n",
      "       '48_10000_var_upper', '48_16800_var_upper', '48_3000_var_upper',\n",
      "       '48_6000_var_upper', '48_8000_var_upper', '53_10000_var_upper',\n",
      "       '53_16800_var_upper', '53_3000_var_upper', '53_6000_var_upper',\n",
      "       '53_8000_var_upper'],\n",
      "      dtype='object', length=283)\n"
     ]
    }
   ],
   "source": [
    "print(data.columns)"
   ]
  },
  {
   "cell_type": "markdown",
   "metadata": {},
   "source": [
    "Getting the data ready"
   ]
  },
  {
   "cell_type": "code",
   "execution_count": 134,
   "metadata": {},
   "outputs": [],
   "source": [
    "# Function to slice features by keyword while maintaining the ID column\n",
    "def slice_features_by_keyword(df, keyword, id_col='Sensor ID'):\n",
    "    \"\"\"\n",
    "    Slices the features from the DataFrame that contain the given keyword while maintaining the ID column.\n",
    "\n",
    "    Parameters:\n",
    "    df (pd.DataFrame): The input DataFrame.\n",
    "    keyword (str): The keyword to filter the column names.\n",
    "    id_col (str): The name of the ID column to retain. Default is 'Sensor ID'.\n",
    "\n",
    "    Returns:\n",
    "    pd.DataFrame: A DataFrame containing only the columns that contain the keyword and the ID column.\n",
    "    \"\"\"\n",
    "    print(keyword)\n",
    "    # Select columns that contain the keyword\n",
    "    keyword_columns = df.columns[df.columns.str.contains(keyword)]\n",
    "    \n",
    "    # Combine the ID column with the keyword columns\n",
    "    columns_to_keep = [id_col] + list(keyword_columns)\n",
    "    \n",
    "    # Select the columns from the DataFrame\n",
    "    sliced_df = df[columns_to_keep]\n",
    "    \n",
    "    return sliced_df"
   ]
  },
  {
   "cell_type": "markdown",
   "metadata": {},
   "source": [
    "# Use of Correlation\n",
    "Correlation measures the strength and direction of the linear relationship between two variables.\n",
    "\n",
    "Drop Highly Correlated Features: Remove highly correlated features to reduce redundancy."
   ]
  },
  {
   "cell_type": "code",
   "execution_count": 135,
   "metadata": {},
   "outputs": [],
   "source": [
    "# Function to drop highly positively correlated features\n",
    "def drop_highly_correlated_features(df, threshold=0.8):\n",
    "    corr_matrix = df.corr()\n",
    "    to_drop = set()\n",
    "    for i in range(corr_matrix.shape[0]):\n",
    "        for j in range(i + 1, corr_matrix.shape[1]):\n",
    "            if corr_matrix.iloc[i, j] > threshold:\n",
    "                colname = corr_matrix.columns[j]\n",
    "                to_drop.add(colname)\n",
    "    reduced_df = df.drop(columns=to_drop)\n",
    "    print(f\"Number of Feature Dropped is {len(list(to_drop))}. Number of Features Remained is {reduced_df.shape[1]}\")\n",
    "    return reduced_df, list(to_drop)"
   ]
  },
  {
   "cell_type": "code",
   "execution_count": 136,
   "metadata": {},
   "outputs": [
    {
     "name": "stdout",
     "output_type": "stream",
     "text": [
      "16800_mean_middle\n"
     ]
    },
    {
     "data": {
      "text/html": [
       "<div>\n",
       "<style scoped>\n",
       "    .dataframe tbody tr th:only-of-type {\n",
       "        vertical-align: middle;\n",
       "    }\n",
       "\n",
       "    .dataframe tbody tr th {\n",
       "        vertical-align: top;\n",
       "    }\n",
       "\n",
       "    .dataframe thead th {\n",
       "        text-align: right;\n",
       "    }\n",
       "</style>\n",
       "<table border=\"1\" class=\"dataframe\">\n",
       "  <thead>\n",
       "    <tr style=\"text-align: right;\">\n",
       "      <th></th>\n",
       "      <th>Sensor ID</th>\n",
       "      <th>13_16800_mean_middle</th>\n",
       "      <th>18_16800_mean_middle</th>\n",
       "      <th>23_16800_mean_middle</th>\n",
       "      <th>28_16800_mean_middle</th>\n",
       "      <th>33_16800_mean_middle</th>\n",
       "      <th>38_16800_mean_middle</th>\n",
       "      <th>43_16800_mean_middle</th>\n",
       "      <th>48_16800_mean_middle</th>\n",
       "      <th>53_16800_mean_middle</th>\n",
       "    </tr>\n",
       "  </thead>\n",
       "  <tbody>\n",
       "    <tr>\n",
       "      <th>0</th>\n",
       "      <td>1</td>\n",
       "      <td>827.000000</td>\n",
       "      <td>1069.285714</td>\n",
       "      <td>1302.076923</td>\n",
       "      <td>1590.384615</td>\n",
       "      <td>1959.000000</td>\n",
       "      <td>2204.040000</td>\n",
       "      <td>2434.520000</td>\n",
       "      <td>2737.000000</td>\n",
       "      <td>3006.500000</td>\n",
       "    </tr>\n",
       "    <tr>\n",
       "      <th>1</th>\n",
       "      <td>2</td>\n",
       "      <td>679.000000</td>\n",
       "      <td>954.200000</td>\n",
       "      <td>1247.560000</td>\n",
       "      <td>1522.920000</td>\n",
       "      <td>1811.363636</td>\n",
       "      <td>2098.744681</td>\n",
       "      <td>2373.200000</td>\n",
       "      <td>2679.320000</td>\n",
       "      <td>1855.878049</td>\n",
       "    </tr>\n",
       "    <tr>\n",
       "      <th>2</th>\n",
       "      <td>3</td>\n",
       "      <td>717.727273</td>\n",
       "      <td>1020.920000</td>\n",
       "      <td>1296.674419</td>\n",
       "      <td>1584.244444</td>\n",
       "      <td>1888.600000</td>\n",
       "      <td>2147.640000</td>\n",
       "      <td>2443.326531</td>\n",
       "      <td>2721.480000</td>\n",
       "      <td>2992.840000</td>\n",
       "    </tr>\n",
       "    <tr>\n",
       "      <th>3</th>\n",
       "      <td>4</td>\n",
       "      <td>736.840000</td>\n",
       "      <td>1031.000000</td>\n",
       "      <td>1319.000000</td>\n",
       "      <td>1628.469388</td>\n",
       "      <td>1923.000000</td>\n",
       "      <td>2242.200000</td>\n",
       "      <td>2485.325581</td>\n",
       "      <td>2753.800000</td>\n",
       "      <td>2999.608696</td>\n",
       "    </tr>\n",
       "    <tr>\n",
       "      <th>4</th>\n",
       "      <td>5</td>\n",
       "      <td>742.894737</td>\n",
       "      <td>1045.697674</td>\n",
       "      <td>1332.760000</td>\n",
       "      <td>1587.480000</td>\n",
       "      <td>1902.441860</td>\n",
       "      <td>2173.638298</td>\n",
       "      <td>2457.800000</td>\n",
       "      <td>2732.181818</td>\n",
       "      <td>3058.440000</td>\n",
       "    </tr>\n",
       "  </tbody>\n",
       "</table>\n",
       "</div>"
      ],
      "text/plain": [
       "   Sensor ID  13_16800_mean_middle  18_16800_mean_middle  \\\n",
       "0          1            827.000000           1069.285714   \n",
       "1          2            679.000000            954.200000   \n",
       "2          3            717.727273           1020.920000   \n",
       "3          4            736.840000           1031.000000   \n",
       "4          5            742.894737           1045.697674   \n",
       "\n",
       "   23_16800_mean_middle  28_16800_mean_middle  33_16800_mean_middle  \\\n",
       "0           1302.076923           1590.384615           1959.000000   \n",
       "1           1247.560000           1522.920000           1811.363636   \n",
       "2           1296.674419           1584.244444           1888.600000   \n",
       "3           1319.000000           1628.469388           1923.000000   \n",
       "4           1332.760000           1587.480000           1902.441860   \n",
       "\n",
       "   38_16800_mean_middle  43_16800_mean_middle  48_16800_mean_middle  \\\n",
       "0           2204.040000           2434.520000           2737.000000   \n",
       "1           2098.744681           2373.200000           2679.320000   \n",
       "2           2147.640000           2443.326531           2721.480000   \n",
       "3           2242.200000           2485.325581           2753.800000   \n",
       "4           2173.638298           2457.800000           2732.181818   \n",
       "\n",
       "   53_16800_mean_middle  \n",
       "0           3006.500000  \n",
       "1           1855.878049  \n",
       "2           2992.840000  \n",
       "3           2999.608696  \n",
       "4           3058.440000  "
      ]
     },
     "execution_count": 136,
     "metadata": {},
     "output_type": "execute_result"
    }
   ],
   "source": [
    "df_mean_middle = slice_features_by_keyword(data,\"16800_mean_middle\")\n",
    "df_mean_middle.head()"
   ]
  },
  {
   "cell_type": "code",
   "execution_count": 137,
   "metadata": {},
   "outputs": [
    {
     "name": "stdout",
     "output_type": "stream",
     "text": [
      "Number of Feature Dropped is 5. Number of Features Remained is 5\n",
      "['43_16800_mean_middle', '53_16800_mean_middle', '33_16800_mean_middle', '48_16800_mean_middle', '38_16800_mean_middle']\n"
     ]
    }
   ],
   "source": [
    "# Drop highly correlated features\n",
    "df_mean_middle_reduced, dropped_features = drop_highly_correlated_features(df_mean_middle, threshold=0.8)\n",
    "\n",
    "print(dropped_features)"
   ]
  },
  {
   "cell_type": "code",
   "execution_count": 138,
   "metadata": {},
   "outputs": [
    {
     "data": {
      "text/html": [
       "<div>\n",
       "<style scoped>\n",
       "    .dataframe tbody tr th:only-of-type {\n",
       "        vertical-align: middle;\n",
       "    }\n",
       "\n",
       "    .dataframe tbody tr th {\n",
       "        vertical-align: top;\n",
       "    }\n",
       "\n",
       "    .dataframe thead th {\n",
       "        text-align: right;\n",
       "    }\n",
       "</style>\n",
       "<table border=\"1\" class=\"dataframe\">\n",
       "  <thead>\n",
       "    <tr style=\"text-align: right;\">\n",
       "      <th></th>\n",
       "      <th>Sensor ID</th>\n",
       "      <th>13_16800_mean_middle</th>\n",
       "      <th>18_16800_mean_middle</th>\n",
       "      <th>23_16800_mean_middle</th>\n",
       "      <th>28_16800_mean_middle</th>\n",
       "    </tr>\n",
       "  </thead>\n",
       "  <tbody>\n",
       "    <tr>\n",
       "      <th>0</th>\n",
       "      <td>1</td>\n",
       "      <td>827.000000</td>\n",
       "      <td>1069.285714</td>\n",
       "      <td>1302.076923</td>\n",
       "      <td>1590.384615</td>\n",
       "    </tr>\n",
       "    <tr>\n",
       "      <th>1</th>\n",
       "      <td>2</td>\n",
       "      <td>679.000000</td>\n",
       "      <td>954.200000</td>\n",
       "      <td>1247.560000</td>\n",
       "      <td>1522.920000</td>\n",
       "    </tr>\n",
       "    <tr>\n",
       "      <th>2</th>\n",
       "      <td>3</td>\n",
       "      <td>717.727273</td>\n",
       "      <td>1020.920000</td>\n",
       "      <td>1296.674419</td>\n",
       "      <td>1584.244444</td>\n",
       "    </tr>\n",
       "    <tr>\n",
       "      <th>3</th>\n",
       "      <td>4</td>\n",
       "      <td>736.840000</td>\n",
       "      <td>1031.000000</td>\n",
       "      <td>1319.000000</td>\n",
       "      <td>1628.469388</td>\n",
       "    </tr>\n",
       "    <tr>\n",
       "      <th>4</th>\n",
       "      <td>5</td>\n",
       "      <td>742.894737</td>\n",
       "      <td>1045.697674</td>\n",
       "      <td>1332.760000</td>\n",
       "      <td>1587.480000</td>\n",
       "    </tr>\n",
       "  </tbody>\n",
       "</table>\n",
       "</div>"
      ],
      "text/plain": [
       "   Sensor ID  13_16800_mean_middle  18_16800_mean_middle  \\\n",
       "0          1            827.000000           1069.285714   \n",
       "1          2            679.000000            954.200000   \n",
       "2          3            717.727273           1020.920000   \n",
       "3          4            736.840000           1031.000000   \n",
       "4          5            742.894737           1045.697674   \n",
       "\n",
       "   23_16800_mean_middle  28_16800_mean_middle  \n",
       "0           1302.076923           1590.384615  \n",
       "1           1247.560000           1522.920000  \n",
       "2           1296.674419           1584.244444  \n",
       "3           1319.000000           1628.469388  \n",
       "4           1332.760000           1587.480000  "
      ]
     },
     "execution_count": 138,
     "metadata": {},
     "output_type": "execute_result"
    }
   ],
   "source": [
    "df_mean_middle_reduced.head()"
   ]
  },
  {
   "cell_type": "code",
   "execution_count": 139,
   "metadata": {},
   "outputs": [],
   "source": [
    "# Function to process data in batches and remove highly correlated features within each batch\n",
    "def process_batches(df, keywords, id_col='Sensor ID', threshold=0.8):\n",
    "    \"\"\"\n",
    "    Processes data in batches based on keywords, removing highly correlated features within each batch.\n",
    "\n",
    "    Parameters:\n",
    "    df (pd.DataFrame): The input DataFrame.\n",
    "    keywords (list): List of keywords to filter the column names for each batch.\n",
    "    id_col (str): The name of the ID column to retain. Default is 'Sensor ID'.\n",
    "    threshold (float): The correlation threshold for dropping features. Defaults to 0.8.\n",
    "\n",
    "    Returns:\n",
    "    pd.DataFrame: A DataFrame containing the processed batches with reduced features.\n",
    "    \"\"\"\n",
    "    processed_batches = []\n",
    "\n",
    "    for keyword in keywords:\n",
    "        sliced_data = slice_features_by_keyword(df, keyword, id_col)\n",
    "        reduced_data,_ = drop_highly_correlated_features(sliced_data, threshold)\n",
    "        processed_batches.append(reduced_data)\n",
    "\n",
    "    # Combine the processed batches, ensuring to merge on the ID column\n",
    "    final_df = pd.concat(processed_batches, axis=1)\n",
    "    \n",
    "    # Remove duplicate ID columns that might have been introduced during concatenation\n",
    "    final_df = final_df.loc[:, ~final_df.columns.duplicated()]\n",
    "\n",
    "    return final_df\n",
    "\n",
    "def get_batch_feature_name(keyword):\n",
    "    features = []\n",
    "    for delay in [16800,10000,8000,6000,3000]:\n",
    "        features.append(f\"{delay}_{keyword}\")\n",
    "    return features"
   ]
  },
  {
   "cell_type": "markdown",
   "metadata": {},
   "source": [
    "## Mean Range Delay features "
   ]
  },
  {
   "cell_type": "code",
   "execution_count": 140,
   "metadata": {},
   "outputs": [
    {
     "name": "stdout",
     "output_type": "stream",
     "text": [
      "16800_mean_middle\n",
      "Number of Feature Dropped is 5. Number of Features Remained is 5\n",
      "10000_mean_middle\n",
      "Number of Feature Dropped is 7. Number of Features Remained is 3\n",
      "8000_mean_middle\n",
      "Number of Feature Dropped is 6. Number of Features Remained is 4\n",
      "6000_mean_middle\n",
      "Number of Feature Dropped is 5. Number of Features Remained is 5\n",
      "3000_mean_middle\n",
      "Number of Feature Dropped is 6. Number of Features Remained is 4\n"
     ]
    },
    {
     "data": {
      "text/html": [
       "<div>\n",
       "<style scoped>\n",
       "    .dataframe tbody tr th:only-of-type {\n",
       "        vertical-align: middle;\n",
       "    }\n",
       "\n",
       "    .dataframe tbody tr th {\n",
       "        vertical-align: top;\n",
       "    }\n",
       "\n",
       "    .dataframe thead th {\n",
       "        text-align: right;\n",
       "    }\n",
       "</style>\n",
       "<table border=\"1\" class=\"dataframe\">\n",
       "  <thead>\n",
       "    <tr style=\"text-align: right;\">\n",
       "      <th></th>\n",
       "      <th>Sensor ID</th>\n",
       "      <th>13_16800_mean_middle</th>\n",
       "      <th>18_16800_mean_middle</th>\n",
       "      <th>23_16800_mean_middle</th>\n",
       "      <th>28_16800_mean_middle</th>\n",
       "      <th>13_10000_mean_middle</th>\n",
       "      <th>18_10000_mean_middle</th>\n",
       "      <th>13_8000_mean_middle</th>\n",
       "      <th>18_8000_mean_middle</th>\n",
       "      <th>53_8000_mean_middle</th>\n",
       "      <th>13_6000_mean_middle</th>\n",
       "      <th>18_6000_mean_middle</th>\n",
       "      <th>23_6000_mean_middle</th>\n",
       "      <th>53_6000_mean_middle</th>\n",
       "      <th>13_3000_mean_middle</th>\n",
       "      <th>18_3000_mean_middle</th>\n",
       "      <th>53_3000_mean_middle</th>\n",
       "    </tr>\n",
       "  </thead>\n",
       "  <tbody>\n",
       "    <tr>\n",
       "      <th>0</th>\n",
       "      <td>1</td>\n",
       "      <td>827.000000</td>\n",
       "      <td>1069.285714</td>\n",
       "      <td>1302.076923</td>\n",
       "      <td>1590.384615</td>\n",
       "      <td>827.000000</td>\n",
       "      <td>1071.000000</td>\n",
       "      <td>827.00000</td>\n",
       "      <td>1069.612245</td>\n",
       "      <td>2995.000000</td>\n",
       "      <td>827.000000</td>\n",
       "      <td>1069.400000</td>\n",
       "      <td>1328.200000</td>\n",
       "      <td>2995.205128</td>\n",
       "      <td>827.000000</td>\n",
       "      <td>1069.240000</td>\n",
       "      <td>2995.000000</td>\n",
       "    </tr>\n",
       "    <tr>\n",
       "      <th>1</th>\n",
       "      <td>2</td>\n",
       "      <td>679.000000</td>\n",
       "      <td>954.200000</td>\n",
       "      <td>1247.560000</td>\n",
       "      <td>1522.920000</td>\n",
       "      <td>679.640000</td>\n",
       "      <td>943.000000</td>\n",
       "      <td>679.00000</td>\n",
       "      <td>955.560000</td>\n",
       "      <td>1891.240000</td>\n",
       "      <td>679.000000</td>\n",
       "      <td>954.520000</td>\n",
       "      <td>1235.000000</td>\n",
       "      <td>2951.000000</td>\n",
       "      <td>679.000000</td>\n",
       "      <td>967.260870</td>\n",
       "      <td>2945.800000</td>\n",
       "    </tr>\n",
       "    <tr>\n",
       "      <th>2</th>\n",
       "      <td>3</td>\n",
       "      <td>717.727273</td>\n",
       "      <td>1020.920000</td>\n",
       "      <td>1296.674419</td>\n",
       "      <td>1584.244444</td>\n",
       "      <td>717.880000</td>\n",
       "      <td>1029.933333</td>\n",
       "      <td>718.04000</td>\n",
       "      <td>1006.069767</td>\n",
       "      <td>2997.320000</td>\n",
       "      <td>717.240000</td>\n",
       "      <td>1005.960000</td>\n",
       "      <td>1296.511111</td>\n",
       "      <td>3000.440000</td>\n",
       "      <td>718.040000</td>\n",
       "      <td>1007.000000</td>\n",
       "      <td>2995.400000</td>\n",
       "    </tr>\n",
       "    <tr>\n",
       "      <th>3</th>\n",
       "      <td>4</td>\n",
       "      <td>736.840000</td>\n",
       "      <td>1031.000000</td>\n",
       "      <td>1319.000000</td>\n",
       "      <td>1628.469388</td>\n",
       "      <td>737.080000</td>\n",
       "      <td>1030.351351</td>\n",
       "      <td>736.68000</td>\n",
       "      <td>1063.240000</td>\n",
       "      <td>2999.000000</td>\n",
       "      <td>736.920000</td>\n",
       "      <td>1087.000000</td>\n",
       "      <td>1318.652174</td>\n",
       "      <td>2999.000000</td>\n",
       "      <td>737.160000</td>\n",
       "      <td>1028.840000</td>\n",
       "      <td>2999.000000</td>\n",
       "    </tr>\n",
       "    <tr>\n",
       "      <th>4</th>\n",
       "      <td>5</td>\n",
       "      <td>742.894737</td>\n",
       "      <td>1045.697674</td>\n",
       "      <td>1332.760000</td>\n",
       "      <td>1587.480000</td>\n",
       "      <td>743.000000</td>\n",
       "      <td>1046.102041</td>\n",
       "      <td>743.00000</td>\n",
       "      <td>1047.240000</td>\n",
       "      <td>2110.760000</td>\n",
       "      <td>743.000000</td>\n",
       "      <td>1046.288889</td>\n",
       "      <td>1332.920000</td>\n",
       "      <td>3034.760000</td>\n",
       "      <td>741.880000</td>\n",
       "      <td>1047.244898</td>\n",
       "      <td>3045.468085</td>\n",
       "    </tr>\n",
       "    <tr>\n",
       "      <th>...</th>\n",
       "      <td>...</td>\n",
       "      <td>...</td>\n",
       "      <td>...</td>\n",
       "      <td>...</td>\n",
       "      <td>...</td>\n",
       "      <td>...</td>\n",
       "      <td>...</td>\n",
       "      <td>...</td>\n",
       "      <td>...</td>\n",
       "      <td>...</td>\n",
       "      <td>...</td>\n",
       "      <td>...</td>\n",
       "      <td>...</td>\n",
       "      <td>...</td>\n",
       "      <td>...</td>\n",
       "      <td>...</td>\n",
       "      <td>...</td>\n",
       "    </tr>\n",
       "    <tr>\n",
       "      <th>119</th>\n",
       "      <td>121</td>\n",
       "      <td>751.545455</td>\n",
       "      <td>1051.880000</td>\n",
       "      <td>1329.240000</td>\n",
       "      <td>1591.533333</td>\n",
       "      <td>742.200000</td>\n",
       "      <td>1045.160000</td>\n",
       "      <td>741.56000</td>\n",
       "      <td>1046.120000</td>\n",
       "      <td>3026.760000</td>\n",
       "      <td>751.000000</td>\n",
       "      <td>1046.680000</td>\n",
       "      <td>1323.000000</td>\n",
       "      <td>3025.480000</td>\n",
       "      <td>751.000000</td>\n",
       "      <td>1046.473684</td>\n",
       "      <td>3039.711111</td>\n",
       "    </tr>\n",
       "    <tr>\n",
       "      <th>120</th>\n",
       "      <td>122</td>\n",
       "      <td>23719.700000</td>\n",
       "      <td>1024.600000</td>\n",
       "      <td>235.651163</td>\n",
       "      <td>1588.200000</td>\n",
       "      <td>735.000000</td>\n",
       "      <td>1017.400000</td>\n",
       "      <td>735.00000</td>\n",
       "      <td>1010.360000</td>\n",
       "      <td>3035.756757</td>\n",
       "      <td>735.000000</td>\n",
       "      <td>1028.680000</td>\n",
       "      <td>1307.880000</td>\n",
       "      <td>3025.000000</td>\n",
       "      <td>735.244898</td>\n",
       "      <td>1028.440000</td>\n",
       "      <td>3034.800000</td>\n",
       "    </tr>\n",
       "    <tr>\n",
       "      <th>121</th>\n",
       "      <td>123</td>\n",
       "      <td>747.333333</td>\n",
       "      <td>1043.000000</td>\n",
       "      <td>1330.619048</td>\n",
       "      <td>1595.000000</td>\n",
       "      <td>751.000000</td>\n",
       "      <td>1043.571429</td>\n",
       "      <td>751.00000</td>\n",
       "      <td>1043.000000</td>\n",
       "      <td>3037.160000</td>\n",
       "      <td>751.000000</td>\n",
       "      <td>1043.000000</td>\n",
       "      <td>1330.280000</td>\n",
       "      <td>3038.040000</td>\n",
       "      <td>725.829268</td>\n",
       "      <td>1043.000000</td>\n",
       "      <td>3036.200000</td>\n",
       "    </tr>\n",
       "    <tr>\n",
       "      <th>122</th>\n",
       "      <td>124</td>\n",
       "      <td>365.222222</td>\n",
       "      <td>1017.560000</td>\n",
       "      <td>239.108108</td>\n",
       "      <td>1579.240000</td>\n",
       "      <td>708.680000</td>\n",
       "      <td>1026.280000</td>\n",
       "      <td>708.44000</td>\n",
       "      <td>1027.000000</td>\n",
       "      <td>3020.244444</td>\n",
       "      <td>708.306122</td>\n",
       "      <td>1027.000000</td>\n",
       "      <td>1307.622222</td>\n",
       "      <td>3019.765957</td>\n",
       "      <td>708.520000</td>\n",
       "      <td>1027.880000</td>\n",
       "      <td>3010.680000</td>\n",
       "    </tr>\n",
       "    <tr>\n",
       "      <th>123</th>\n",
       "      <td>125</td>\n",
       "      <td>752.877551</td>\n",
       "      <td>1061.080000</td>\n",
       "      <td>1345.400000</td>\n",
       "      <td>1596.920000</td>\n",
       "      <td>728.916667</td>\n",
       "      <td>1042.906977</td>\n",
       "      <td>728.22449</td>\n",
       "      <td>1044.040000</td>\n",
       "      <td>3037.160000</td>\n",
       "      <td>728.760000</td>\n",
       "      <td>1043.000000</td>\n",
       "      <td>1328.066667</td>\n",
       "      <td>3037.560000</td>\n",
       "      <td>741.320000</td>\n",
       "      <td>1042.043478</td>\n",
       "      <td>3047.000000</td>\n",
       "    </tr>\n",
       "  </tbody>\n",
       "</table>\n",
       "<p>124 rows × 17 columns</p>\n",
       "</div>"
      ],
      "text/plain": [
       "     Sensor ID  13_16800_mean_middle  18_16800_mean_middle  \\\n",
       "0            1            827.000000           1069.285714   \n",
       "1            2            679.000000            954.200000   \n",
       "2            3            717.727273           1020.920000   \n",
       "3            4            736.840000           1031.000000   \n",
       "4            5            742.894737           1045.697674   \n",
       "..         ...                   ...                   ...   \n",
       "119        121            751.545455           1051.880000   \n",
       "120        122          23719.700000           1024.600000   \n",
       "121        123            747.333333           1043.000000   \n",
       "122        124            365.222222           1017.560000   \n",
       "123        125            752.877551           1061.080000   \n",
       "\n",
       "     23_16800_mean_middle  28_16800_mean_middle  13_10000_mean_middle  \\\n",
       "0             1302.076923           1590.384615            827.000000   \n",
       "1             1247.560000           1522.920000            679.640000   \n",
       "2             1296.674419           1584.244444            717.880000   \n",
       "3             1319.000000           1628.469388            737.080000   \n",
       "4             1332.760000           1587.480000            743.000000   \n",
       "..                    ...                   ...                   ...   \n",
       "119           1329.240000           1591.533333            742.200000   \n",
       "120            235.651163           1588.200000            735.000000   \n",
       "121           1330.619048           1595.000000            751.000000   \n",
       "122            239.108108           1579.240000            708.680000   \n",
       "123           1345.400000           1596.920000            728.916667   \n",
       "\n",
       "     18_10000_mean_middle  13_8000_mean_middle  18_8000_mean_middle  \\\n",
       "0             1071.000000            827.00000          1069.612245   \n",
       "1              943.000000            679.00000           955.560000   \n",
       "2             1029.933333            718.04000          1006.069767   \n",
       "3             1030.351351            736.68000          1063.240000   \n",
       "4             1046.102041            743.00000          1047.240000   \n",
       "..                    ...                  ...                  ...   \n",
       "119           1045.160000            741.56000          1046.120000   \n",
       "120           1017.400000            735.00000          1010.360000   \n",
       "121           1043.571429            751.00000          1043.000000   \n",
       "122           1026.280000            708.44000          1027.000000   \n",
       "123           1042.906977            728.22449          1044.040000   \n",
       "\n",
       "     53_8000_mean_middle  13_6000_mean_middle  18_6000_mean_middle  \\\n",
       "0            2995.000000           827.000000          1069.400000   \n",
       "1            1891.240000           679.000000           954.520000   \n",
       "2            2997.320000           717.240000          1005.960000   \n",
       "3            2999.000000           736.920000          1087.000000   \n",
       "4            2110.760000           743.000000          1046.288889   \n",
       "..                   ...                  ...                  ...   \n",
       "119          3026.760000           751.000000          1046.680000   \n",
       "120          3035.756757           735.000000          1028.680000   \n",
       "121          3037.160000           751.000000          1043.000000   \n",
       "122          3020.244444           708.306122          1027.000000   \n",
       "123          3037.160000           728.760000          1043.000000   \n",
       "\n",
       "     23_6000_mean_middle  53_6000_mean_middle  13_3000_mean_middle  \\\n",
       "0            1328.200000          2995.205128           827.000000   \n",
       "1            1235.000000          2951.000000           679.000000   \n",
       "2            1296.511111          3000.440000           718.040000   \n",
       "3            1318.652174          2999.000000           737.160000   \n",
       "4            1332.920000          3034.760000           741.880000   \n",
       "..                   ...                  ...                  ...   \n",
       "119          1323.000000          3025.480000           751.000000   \n",
       "120          1307.880000          3025.000000           735.244898   \n",
       "121          1330.280000          3038.040000           725.829268   \n",
       "122          1307.622222          3019.765957           708.520000   \n",
       "123          1328.066667          3037.560000           741.320000   \n",
       "\n",
       "     18_3000_mean_middle  53_3000_mean_middle  \n",
       "0            1069.240000          2995.000000  \n",
       "1             967.260870          2945.800000  \n",
       "2            1007.000000          2995.400000  \n",
       "3            1028.840000          2999.000000  \n",
       "4            1047.244898          3045.468085  \n",
       "..                   ...                  ...  \n",
       "119          1046.473684          3039.711111  \n",
       "120          1028.440000          3034.800000  \n",
       "121          1043.000000          3036.200000  \n",
       "122          1027.880000          3010.680000  \n",
       "123          1042.043478          3047.000000  \n",
       "\n",
       "[124 rows x 17 columns]"
      ]
     },
     "execution_count": 140,
     "metadata": {},
     "output_type": "execute_result"
    }
   ],
   "source": [
    "mean_middle = get_batch_feature_name(\"mean_middle\")\n",
    "df_mean_middle  = process_batches(data,mean_middle,threshold=0.8)\n",
    "df_mean_middle"
   ]
  },
  {
   "cell_type": "code",
   "execution_count": 141,
   "metadata": {},
   "outputs": [
    {
     "name": "stdout",
     "output_type": "stream",
     "text": [
      "16800_mean_lower\n",
      "Number of Feature Dropped is 0. Number of Features Remained is 10\n",
      "10000_mean_lower\n",
      "Number of Feature Dropped is 0. Number of Features Remained is 10\n",
      "8000_mean_lower\n",
      "Number of Feature Dropped is 0. Number of Features Remained is 10\n",
      "6000_mean_lower\n",
      "Number of Feature Dropped is 0. Number of Features Remained is 10\n",
      "3000_mean_lower\n",
      "Number of Feature Dropped is 0. Number of Features Remained is 10\n"
     ]
    },
    {
     "data": {
      "text/html": [
       "<div>\n",
       "<style scoped>\n",
       "    .dataframe tbody tr th:only-of-type {\n",
       "        vertical-align: middle;\n",
       "    }\n",
       "\n",
       "    .dataframe tbody tr th {\n",
       "        vertical-align: top;\n",
       "    }\n",
       "\n",
       "    .dataframe thead th {\n",
       "        text-align: right;\n",
       "    }\n",
       "</style>\n",
       "<table border=\"1\" class=\"dataframe\">\n",
       "  <thead>\n",
       "    <tr style=\"text-align: right;\">\n",
       "      <th></th>\n",
       "      <th>Sensor ID</th>\n",
       "      <th>13_16800_mean_lower</th>\n",
       "      <th>18_16800_mean_lower</th>\n",
       "      <th>23_16800_mean_lower</th>\n",
       "      <th>28_16800_mean_lower</th>\n",
       "      <th>33_16800_mean_lower</th>\n",
       "      <th>38_16800_mean_lower</th>\n",
       "      <th>43_16800_mean_lower</th>\n",
       "      <th>48_16800_mean_lower</th>\n",
       "      <th>53_16800_mean_lower</th>\n",
       "      <th>...</th>\n",
       "      <th>53_6000_mean_lower</th>\n",
       "      <th>13_3000_mean_lower</th>\n",
       "      <th>18_3000_mean_lower</th>\n",
       "      <th>23_3000_mean_lower</th>\n",
       "      <th>28_3000_mean_lower</th>\n",
       "      <th>33_3000_mean_lower</th>\n",
       "      <th>38_3000_mean_lower</th>\n",
       "      <th>43_3000_mean_lower</th>\n",
       "      <th>48_3000_mean_lower</th>\n",
       "      <th>53_3000_mean_lower</th>\n",
       "    </tr>\n",
       "  </thead>\n",
       "  <tbody>\n",
       "    <tr>\n",
       "      <th>0</th>\n",
       "      <td>1</td>\n",
       "      <td>826.166667</td>\n",
       "      <td>1059.000000</td>\n",
       "      <td>0.000000</td>\n",
       "      <td>0.000000</td>\n",
       "      <td>1958.255814</td>\n",
       "      <td>0.000000</td>\n",
       "      <td>0.000000</td>\n",
       "      <td>2712.5</td>\n",
       "      <td>2835.0</td>\n",
       "      <td>...</td>\n",
       "      <td>0.000000</td>\n",
       "      <td>826.346939</td>\n",
       "      <td>0.000000</td>\n",
       "      <td>0.000000</td>\n",
       "      <td>0.000000</td>\n",
       "      <td>1957.731707</td>\n",
       "      <td>2154.000000</td>\n",
       "      <td>0.0</td>\n",
       "      <td>2715.000000</td>\n",
       "      <td>2994.555556</td>\n",
       "    </tr>\n",
       "    <tr>\n",
       "      <th>1</th>\n",
       "      <td>2</td>\n",
       "      <td>678.600000</td>\n",
       "      <td>0.000000</td>\n",
       "      <td>0.000000</td>\n",
       "      <td>0.000000</td>\n",
       "      <td>0.000000</td>\n",
       "      <td>1929.666667</td>\n",
       "      <td>2351.500000</td>\n",
       "      <td>0.0</td>\n",
       "      <td>1551.0</td>\n",
       "      <td>...</td>\n",
       "      <td>2950.363636</td>\n",
       "      <td>678.500000</td>\n",
       "      <td>943.000000</td>\n",
       "      <td>1234.911111</td>\n",
       "      <td>0.000000</td>\n",
       "      <td>1838.024390</td>\n",
       "      <td>0.000000</td>\n",
       "      <td>0.0</td>\n",
       "      <td>0.000000</td>\n",
       "      <td>0.000000</td>\n",
       "    </tr>\n",
       "    <tr>\n",
       "      <th>2</th>\n",
       "      <td>3</td>\n",
       "      <td>0.000000</td>\n",
       "      <td>0.000000</td>\n",
       "      <td>0.000000</td>\n",
       "      <td>1561.400000</td>\n",
       "      <td>0.000000</td>\n",
       "      <td>0.000000</td>\n",
       "      <td>2403.000000</td>\n",
       "      <td>0.0</td>\n",
       "      <td>0.0</td>\n",
       "      <td>...</td>\n",
       "      <td>0.000000</td>\n",
       "      <td>0.000000</td>\n",
       "      <td>1005.736842</td>\n",
       "      <td>0.000000</td>\n",
       "      <td>0.000000</td>\n",
       "      <td>0.000000</td>\n",
       "      <td>2155.000000</td>\n",
       "      <td>0.0</td>\n",
       "      <td>2695.000000</td>\n",
       "      <td>0.000000</td>\n",
       "    </tr>\n",
       "    <tr>\n",
       "      <th>3</th>\n",
       "      <td>4</td>\n",
       "      <td>0.000000</td>\n",
       "      <td>1029.818182</td>\n",
       "      <td>1317.933333</td>\n",
       "      <td>0.000000</td>\n",
       "      <td>1922.789474</td>\n",
       "      <td>0.000000</td>\n",
       "      <td>2463.571429</td>\n",
       "      <td>0.0</td>\n",
       "      <td>2969.0</td>\n",
       "      <td>...</td>\n",
       "      <td>2998.200000</td>\n",
       "      <td>0.000000</td>\n",
       "      <td>0.000000</td>\n",
       "      <td>0.000000</td>\n",
       "      <td>0.000000</td>\n",
       "      <td>1922.684211</td>\n",
       "      <td>0.000000</td>\n",
       "      <td>0.0</td>\n",
       "      <td>0.000000</td>\n",
       "      <td>2998.263158</td>\n",
       "    </tr>\n",
       "    <tr>\n",
       "      <th>4</th>\n",
       "      <td>5</td>\n",
       "      <td>718.333333</td>\n",
       "      <td>1024.142857</td>\n",
       "      <td>0.000000</td>\n",
       "      <td>0.000000</td>\n",
       "      <td>1876.333333</td>\n",
       "      <td>0.000000</td>\n",
       "      <td>0.000000</td>\n",
       "      <td>0.0</td>\n",
       "      <td>0.0</td>\n",
       "      <td>...</td>\n",
       "      <td>0.000000</td>\n",
       "      <td>0.000000</td>\n",
       "      <td>1023.000000</td>\n",
       "      <td>0.000000</td>\n",
       "      <td>1593.857143</td>\n",
       "      <td>1902.500000</td>\n",
       "      <td>2175.000000</td>\n",
       "      <td>0.0</td>\n",
       "      <td>0.000000</td>\n",
       "      <td>3021.666667</td>\n",
       "    </tr>\n",
       "    <tr>\n",
       "      <th>...</th>\n",
       "      <td>...</td>\n",
       "      <td>...</td>\n",
       "      <td>...</td>\n",
       "      <td>...</td>\n",
       "      <td>...</td>\n",
       "      <td>...</td>\n",
       "      <td>...</td>\n",
       "      <td>...</td>\n",
       "      <td>...</td>\n",
       "      <td>...</td>\n",
       "      <td>...</td>\n",
       "      <td>...</td>\n",
       "      <td>...</td>\n",
       "      <td>...</td>\n",
       "      <td>...</td>\n",
       "      <td>...</td>\n",
       "      <td>...</td>\n",
       "      <td>...</td>\n",
       "      <td>...</td>\n",
       "      <td>...</td>\n",
       "      <td>...</td>\n",
       "    </tr>\n",
       "    <tr>\n",
       "      <th>119</th>\n",
       "      <td>121</td>\n",
       "      <td>66.000000</td>\n",
       "      <td>0.000000</td>\n",
       "      <td>0.000000</td>\n",
       "      <td>0.000000</td>\n",
       "      <td>0.000000</td>\n",
       "      <td>0.000000</td>\n",
       "      <td>0.000000</td>\n",
       "      <td>0.0</td>\n",
       "      <td>0.0</td>\n",
       "      <td>...</td>\n",
       "      <td>0.000000</td>\n",
       "      <td>750.800000</td>\n",
       "      <td>1022.000000</td>\n",
       "      <td>1322.317073</td>\n",
       "      <td>0.000000</td>\n",
       "      <td>0.000000</td>\n",
       "      <td>0.000000</td>\n",
       "      <td>0.0</td>\n",
       "      <td>0.000000</td>\n",
       "      <td>3016.333333</td>\n",
       "    </tr>\n",
       "    <tr>\n",
       "      <th>120</th>\n",
       "      <td>122</td>\n",
       "      <td>0.000000</td>\n",
       "      <td>0.000000</td>\n",
       "      <td>25.666667</td>\n",
       "      <td>0.000000</td>\n",
       "      <td>0.000000</td>\n",
       "      <td>0.000000</td>\n",
       "      <td>2413.000000</td>\n",
       "      <td>0.0</td>\n",
       "      <td>1101.0</td>\n",
       "      <td>...</td>\n",
       "      <td>0.000000</td>\n",
       "      <td>0.000000</td>\n",
       "      <td>0.000000</td>\n",
       "      <td>0.000000</td>\n",
       "      <td>0.000000</td>\n",
       "      <td>1888.714286</td>\n",
       "      <td>0.000000</td>\n",
       "      <td>0.0</td>\n",
       "      <td>2711.000000</td>\n",
       "      <td>3012.777778</td>\n",
       "    </tr>\n",
       "    <tr>\n",
       "      <th>121</th>\n",
       "      <td>123</td>\n",
       "      <td>435.000000</td>\n",
       "      <td>1042.304348</td>\n",
       "      <td>0.000000</td>\n",
       "      <td>1593.871795</td>\n",
       "      <td>0.000000</td>\n",
       "      <td>2165.000000</td>\n",
       "      <td>0.000000</td>\n",
       "      <td>0.0</td>\n",
       "      <td>0.0</td>\n",
       "      <td>...</td>\n",
       "      <td>0.000000</td>\n",
       "      <td>0.000000</td>\n",
       "      <td>1042.609756</td>\n",
       "      <td>1323.000000</td>\n",
       "      <td>1593.933333</td>\n",
       "      <td>0.000000</td>\n",
       "      <td>2164.600000</td>\n",
       "      <td>0.0</td>\n",
       "      <td>0.000000</td>\n",
       "      <td>0.000000</td>\n",
       "    </tr>\n",
       "    <tr>\n",
       "      <th>122</th>\n",
       "      <td>124</td>\n",
       "      <td>0.000000</td>\n",
       "      <td>0.000000</td>\n",
       "      <td>11.000000</td>\n",
       "      <td>0.000000</td>\n",
       "      <td>1909.500000</td>\n",
       "      <td>0.000000</td>\n",
       "      <td>0.000000</td>\n",
       "      <td>0.0</td>\n",
       "      <td>2034.0</td>\n",
       "      <td>...</td>\n",
       "      <td>3003.000000</td>\n",
       "      <td>0.000000</td>\n",
       "      <td>0.000000</td>\n",
       "      <td>0.000000</td>\n",
       "      <td>1574.333333</td>\n",
       "      <td>0.000000</td>\n",
       "      <td>2151.444444</td>\n",
       "      <td>0.0</td>\n",
       "      <td>0.000000</td>\n",
       "      <td>0.000000</td>\n",
       "    </tr>\n",
       "    <tr>\n",
       "      <th>123</th>\n",
       "      <td>125</td>\n",
       "      <td>727.000000</td>\n",
       "      <td>0.000000</td>\n",
       "      <td>0.000000</td>\n",
       "      <td>0.000000</td>\n",
       "      <td>0.000000</td>\n",
       "      <td>0.000000</td>\n",
       "      <td>2436.600000</td>\n",
       "      <td>0.0</td>\n",
       "      <td>2999.0</td>\n",
       "      <td>...</td>\n",
       "      <td>0.000000</td>\n",
       "      <td>0.000000</td>\n",
       "      <td>0.000000</td>\n",
       "      <td>0.000000</td>\n",
       "      <td>0.000000</td>\n",
       "      <td>0.000000</td>\n",
       "      <td>2189.800000</td>\n",
       "      <td>0.0</td>\n",
       "      <td>2724.090909</td>\n",
       "      <td>3024.333333</td>\n",
       "    </tr>\n",
       "  </tbody>\n",
       "</table>\n",
       "<p>124 rows × 46 columns</p>\n",
       "</div>"
      ],
      "text/plain": [
       "     Sensor ID  13_16800_mean_lower  18_16800_mean_lower  23_16800_mean_lower  \\\n",
       "0            1           826.166667          1059.000000             0.000000   \n",
       "1            2           678.600000             0.000000             0.000000   \n",
       "2            3             0.000000             0.000000             0.000000   \n",
       "3            4             0.000000          1029.818182          1317.933333   \n",
       "4            5           718.333333          1024.142857             0.000000   \n",
       "..         ...                  ...                  ...                  ...   \n",
       "119        121            66.000000             0.000000             0.000000   \n",
       "120        122             0.000000             0.000000            25.666667   \n",
       "121        123           435.000000          1042.304348             0.000000   \n",
       "122        124             0.000000             0.000000            11.000000   \n",
       "123        125           727.000000             0.000000             0.000000   \n",
       "\n",
       "     28_16800_mean_lower  33_16800_mean_lower  38_16800_mean_lower  \\\n",
       "0               0.000000          1958.255814             0.000000   \n",
       "1               0.000000             0.000000          1929.666667   \n",
       "2            1561.400000             0.000000             0.000000   \n",
       "3               0.000000          1922.789474             0.000000   \n",
       "4               0.000000          1876.333333             0.000000   \n",
       "..                   ...                  ...                  ...   \n",
       "119             0.000000             0.000000             0.000000   \n",
       "120             0.000000             0.000000             0.000000   \n",
       "121          1593.871795             0.000000          2165.000000   \n",
       "122             0.000000          1909.500000             0.000000   \n",
       "123             0.000000             0.000000             0.000000   \n",
       "\n",
       "     43_16800_mean_lower  48_16800_mean_lower  53_16800_mean_lower  ...  \\\n",
       "0               0.000000               2712.5               2835.0  ...   \n",
       "1            2351.500000                  0.0               1551.0  ...   \n",
       "2            2403.000000                  0.0                  0.0  ...   \n",
       "3            2463.571429                  0.0               2969.0  ...   \n",
       "4               0.000000                  0.0                  0.0  ...   \n",
       "..                   ...                  ...                  ...  ...   \n",
       "119             0.000000                  0.0                  0.0  ...   \n",
       "120          2413.000000                  0.0               1101.0  ...   \n",
       "121             0.000000                  0.0                  0.0  ...   \n",
       "122             0.000000                  0.0               2034.0  ...   \n",
       "123          2436.600000                  0.0               2999.0  ...   \n",
       "\n",
       "     53_6000_mean_lower  13_3000_mean_lower  18_3000_mean_lower  \\\n",
       "0              0.000000          826.346939            0.000000   \n",
       "1           2950.363636          678.500000          943.000000   \n",
       "2              0.000000            0.000000         1005.736842   \n",
       "3           2998.200000            0.000000            0.000000   \n",
       "4              0.000000            0.000000         1023.000000   \n",
       "..                  ...                 ...                 ...   \n",
       "119            0.000000          750.800000         1022.000000   \n",
       "120            0.000000            0.000000            0.000000   \n",
       "121            0.000000            0.000000         1042.609756   \n",
       "122         3003.000000            0.000000            0.000000   \n",
       "123            0.000000            0.000000            0.000000   \n",
       "\n",
       "     23_3000_mean_lower  28_3000_mean_lower  33_3000_mean_lower  \\\n",
       "0              0.000000            0.000000         1957.731707   \n",
       "1           1234.911111            0.000000         1838.024390   \n",
       "2              0.000000            0.000000            0.000000   \n",
       "3              0.000000            0.000000         1922.684211   \n",
       "4              0.000000         1593.857143         1902.500000   \n",
       "..                  ...                 ...                 ...   \n",
       "119         1322.317073            0.000000            0.000000   \n",
       "120            0.000000            0.000000         1888.714286   \n",
       "121         1323.000000         1593.933333            0.000000   \n",
       "122            0.000000         1574.333333            0.000000   \n",
       "123            0.000000            0.000000            0.000000   \n",
       "\n",
       "     38_3000_mean_lower  43_3000_mean_lower  48_3000_mean_lower  \\\n",
       "0           2154.000000                 0.0         2715.000000   \n",
       "1              0.000000                 0.0            0.000000   \n",
       "2           2155.000000                 0.0         2695.000000   \n",
       "3              0.000000                 0.0            0.000000   \n",
       "4           2175.000000                 0.0            0.000000   \n",
       "..                  ...                 ...                 ...   \n",
       "119            0.000000                 0.0            0.000000   \n",
       "120            0.000000                 0.0         2711.000000   \n",
       "121         2164.600000                 0.0            0.000000   \n",
       "122         2151.444444                 0.0            0.000000   \n",
       "123         2189.800000                 0.0         2724.090909   \n",
       "\n",
       "     53_3000_mean_lower  \n",
       "0           2994.555556  \n",
       "1              0.000000  \n",
       "2              0.000000  \n",
       "3           2998.263158  \n",
       "4           3021.666667  \n",
       "..                  ...  \n",
       "119         3016.333333  \n",
       "120         3012.777778  \n",
       "121            0.000000  \n",
       "122            0.000000  \n",
       "123         3024.333333  \n",
       "\n",
       "[124 rows x 46 columns]"
      ]
     },
     "execution_count": 141,
     "metadata": {},
     "output_type": "execute_result"
    }
   ],
   "source": [
    "mean_lower = get_batch_feature_name(\"mean_lower\")\n",
    "\n",
    "df_mean_lower  = process_batches(data,mean_lower,threshold=0.8)\n",
    "df_mean_lower"
   ]
  },
  {
   "cell_type": "code",
   "execution_count": 142,
   "metadata": {},
   "outputs": [
    {
     "name": "stdout",
     "output_type": "stream",
     "text": [
      "16800_mean_upper\n",
      "Number of Feature Dropped is 0. Number of Features Remained is 10\n",
      "10000_mean_upper\n",
      "Number of Feature Dropped is 0. Number of Features Remained is 10\n",
      "8000_mean_upper\n",
      "Number of Feature Dropped is 0. Number of Features Remained is 10\n",
      "6000_mean_upper\n",
      "Number of Feature Dropped is 0. Number of Features Remained is 10\n",
      "3000_mean_upper\n",
      "Number of Feature Dropped is 0. Number of Features Remained is 10\n"
     ]
    },
    {
     "data": {
      "text/html": [
       "<div>\n",
       "<style scoped>\n",
       "    .dataframe tbody tr th:only-of-type {\n",
       "        vertical-align: middle;\n",
       "    }\n",
       "\n",
       "    .dataframe tbody tr th {\n",
       "        vertical-align: top;\n",
       "    }\n",
       "\n",
       "    .dataframe thead th {\n",
       "        text-align: right;\n",
       "    }\n",
       "</style>\n",
       "<table border=\"1\" class=\"dataframe\">\n",
       "  <thead>\n",
       "    <tr style=\"text-align: right;\">\n",
       "      <th></th>\n",
       "      <th>Sensor ID</th>\n",
       "      <th>13_16800_mean_upper</th>\n",
       "      <th>18_16800_mean_upper</th>\n",
       "      <th>23_16800_mean_upper</th>\n",
       "      <th>28_16800_mean_upper</th>\n",
       "      <th>33_16800_mean_upper</th>\n",
       "      <th>38_16800_mean_upper</th>\n",
       "      <th>43_16800_mean_upper</th>\n",
       "      <th>48_16800_mean_upper</th>\n",
       "      <th>53_16800_mean_upper</th>\n",
       "      <th>...</th>\n",
       "      <th>53_6000_mean_upper</th>\n",
       "      <th>13_3000_mean_upper</th>\n",
       "      <th>18_3000_mean_upper</th>\n",
       "      <th>23_3000_mean_upper</th>\n",
       "      <th>28_3000_mean_upper</th>\n",
       "      <th>33_3000_mean_upper</th>\n",
       "      <th>38_3000_mean_upper</th>\n",
       "      <th>43_3000_mean_upper</th>\n",
       "      <th>48_3000_mean_upper</th>\n",
       "      <th>53_3000_mean_upper</th>\n",
       "    </tr>\n",
       "  </thead>\n",
       "  <tbody>\n",
       "    <tr>\n",
       "      <th>0</th>\n",
       "      <td>1</td>\n",
       "      <td>827.195122</td>\n",
       "      <td>0.000000</td>\n",
       "      <td>1353.545455</td>\n",
       "      <td>1639.727273</td>\n",
       "      <td>1959.666667</td>\n",
       "      <td>0.000000</td>\n",
       "      <td>0.0</td>\n",
       "      <td>0.0</td>\n",
       "      <td>0.000000</td>\n",
       "      <td>...</td>\n",
       "      <td>3039.727273</td>\n",
       "      <td>827.095238</td>\n",
       "      <td>0.000000</td>\n",
       "      <td>0.000000</td>\n",
       "      <td>0.000000</td>\n",
       "      <td>1959.923077</td>\n",
       "      <td>0.000000</td>\n",
       "      <td>0.000000</td>\n",
       "      <td>2809.4</td>\n",
       "      <td>2995.444444</td>\n",
       "    </tr>\n",
       "    <tr>\n",
       "      <th>1</th>\n",
       "      <td>2</td>\n",
       "      <td>679.869565</td>\n",
       "      <td>0.000000</td>\n",
       "      <td>0.000000</td>\n",
       "      <td>0.000000</td>\n",
       "      <td>1835.666667</td>\n",
       "      <td>0.000000</td>\n",
       "      <td>2397.0</td>\n",
       "      <td>0.0</td>\n",
       "      <td>2371.000000</td>\n",
       "      <td>...</td>\n",
       "      <td>2951.744186</td>\n",
       "      <td>679.888889</td>\n",
       "      <td>975.000000</td>\n",
       "      <td>1235.408163</td>\n",
       "      <td>0.000000</td>\n",
       "      <td>1839.857143</td>\n",
       "      <td>2123.800000</td>\n",
       "      <td>2395.000000</td>\n",
       "      <td>0.0</td>\n",
       "      <td>0.000000</td>\n",
       "    </tr>\n",
       "    <tr>\n",
       "      <th>2</th>\n",
       "      <td>3</td>\n",
       "      <td>742.333333</td>\n",
       "      <td>0.000000</td>\n",
       "      <td>1320.714286</td>\n",
       "      <td>0.000000</td>\n",
       "      <td>0.000000</td>\n",
       "      <td>0.000000</td>\n",
       "      <td>0.0</td>\n",
       "      <td>0.0</td>\n",
       "      <td>0.000000</td>\n",
       "      <td>...</td>\n",
       "      <td>0.000000</td>\n",
       "      <td>0.000000</td>\n",
       "      <td>1008.684211</td>\n",
       "      <td>0.000000</td>\n",
       "      <td>1583.666667</td>\n",
       "      <td>0.000000</td>\n",
       "      <td>2185.857143</td>\n",
       "      <td>0.000000</td>\n",
       "      <td>2743.0</td>\n",
       "      <td>0.000000</td>\n",
       "    </tr>\n",
       "    <tr>\n",
       "      <th>3</th>\n",
       "      <td>4</td>\n",
       "      <td>0.000000</td>\n",
       "      <td>1042.263158</td>\n",
       "      <td>1319.526316</td>\n",
       "      <td>1687.000000</td>\n",
       "      <td>1924.000000</td>\n",
       "      <td>0.000000</td>\n",
       "      <td>0.0</td>\n",
       "      <td>0.0</td>\n",
       "      <td>3019.000000</td>\n",
       "      <td>...</td>\n",
       "      <td>2999.930233</td>\n",
       "      <td>0.000000</td>\n",
       "      <td>0.000000</td>\n",
       "      <td>0.000000</td>\n",
       "      <td>0.000000</td>\n",
       "      <td>1924.021277</td>\n",
       "      <td>0.000000</td>\n",
       "      <td>0.000000</td>\n",
       "      <td>0.0</td>\n",
       "      <td>3000.116279</td>\n",
       "    </tr>\n",
       "    <tr>\n",
       "      <th>4</th>\n",
       "      <td>5</td>\n",
       "      <td>0.000000</td>\n",
       "      <td>0.000000</td>\n",
       "      <td>0.000000</td>\n",
       "      <td>0.000000</td>\n",
       "      <td>1927.000000</td>\n",
       "      <td>2199.000000</td>\n",
       "      <td>0.0</td>\n",
       "      <td>2755.0</td>\n",
       "      <td>0.000000</td>\n",
       "      <td>...</td>\n",
       "      <td>0.000000</td>\n",
       "      <td>0.000000</td>\n",
       "      <td>0.000000</td>\n",
       "      <td>0.000000</td>\n",
       "      <td>1595.842105</td>\n",
       "      <td>1903.181818</td>\n",
       "      <td>0.000000</td>\n",
       "      <td>0.000000</td>\n",
       "      <td>0.0</td>\n",
       "      <td>0.000000</td>\n",
       "    </tr>\n",
       "    <tr>\n",
       "      <th>...</th>\n",
       "      <td>...</td>\n",
       "      <td>...</td>\n",
       "      <td>...</td>\n",
       "      <td>...</td>\n",
       "      <td>...</td>\n",
       "      <td>...</td>\n",
       "      <td>...</td>\n",
       "      <td>...</td>\n",
       "      <td>...</td>\n",
       "      <td>...</td>\n",
       "      <td>...</td>\n",
       "      <td>...</td>\n",
       "      <td>...</td>\n",
       "      <td>...</td>\n",
       "      <td>...</td>\n",
       "      <td>...</td>\n",
       "      <td>...</td>\n",
       "      <td>...</td>\n",
       "      <td>...</td>\n",
       "      <td>...</td>\n",
       "      <td>...</td>\n",
       "    </tr>\n",
       "    <tr>\n",
       "      <th>119</th>\n",
       "      <td>121</td>\n",
       "      <td>65535.000000</td>\n",
       "      <td>0.000000</td>\n",
       "      <td>0.000000</td>\n",
       "      <td>1615.800000</td>\n",
       "      <td>0.000000</td>\n",
       "      <td>0.000000</td>\n",
       "      <td>0.0</td>\n",
       "      <td>0.0</td>\n",
       "      <td>0.000000</td>\n",
       "      <td>...</td>\n",
       "      <td>0.000000</td>\n",
       "      <td>751.833333</td>\n",
       "      <td>0.000000</td>\n",
       "      <td>1323.837209</td>\n",
       "      <td>0.000000</td>\n",
       "      <td>0.000000</td>\n",
       "      <td>0.000000</td>\n",
       "      <td>2485.666667</td>\n",
       "      <td>0.0</td>\n",
       "      <td>3057.000000</td>\n",
       "    </tr>\n",
       "    <tr>\n",
       "      <th>120</th>\n",
       "      <td>122</td>\n",
       "      <td>0.000000</td>\n",
       "      <td>0.000000</td>\n",
       "      <td>695.000000</td>\n",
       "      <td>0.000000</td>\n",
       "      <td>0.000000</td>\n",
       "      <td>0.000000</td>\n",
       "      <td>2468.0</td>\n",
       "      <td>0.0</td>\n",
       "      <td>0.000000</td>\n",
       "      <td>...</td>\n",
       "      <td>0.000000</td>\n",
       "      <td>747.000000</td>\n",
       "      <td>0.000000</td>\n",
       "      <td>1334.200000</td>\n",
       "      <td>0.000000</td>\n",
       "      <td>0.000000</td>\n",
       "      <td>0.000000</td>\n",
       "      <td>0.000000</td>\n",
       "      <td>2765.0</td>\n",
       "      <td>3059.000000</td>\n",
       "    </tr>\n",
       "    <tr>\n",
       "      <th>121</th>\n",
       "      <td>123</td>\n",
       "      <td>0.000000</td>\n",
       "      <td>1044.523810</td>\n",
       "      <td>1356.500000</td>\n",
       "      <td>1597.461538</td>\n",
       "      <td>0.000000</td>\n",
       "      <td>2208.333333</td>\n",
       "      <td>0.0</td>\n",
       "      <td>0.0</td>\n",
       "      <td>0.000000</td>\n",
       "      <td>...</td>\n",
       "      <td>0.000000</td>\n",
       "      <td>750.111111</td>\n",
       "      <td>1043.782609</td>\n",
       "      <td>0.000000</td>\n",
       "      <td>1595.526316</td>\n",
       "      <td>1925.545455</td>\n",
       "      <td>0.000000</td>\n",
       "      <td>2485.666667</td>\n",
       "      <td>0.0</td>\n",
       "      <td>0.000000</td>\n",
       "    </tr>\n",
       "    <tr>\n",
       "      <th>122</th>\n",
       "      <td>124</td>\n",
       "      <td>65535.000000</td>\n",
       "      <td>0.000000</td>\n",
       "      <td>1248.666667</td>\n",
       "      <td>0.000000</td>\n",
       "      <td>1913.476190</td>\n",
       "      <td>2203.000000</td>\n",
       "      <td>0.0</td>\n",
       "      <td>0.0</td>\n",
       "      <td>3044.333333</td>\n",
       "      <td>...</td>\n",
       "      <td>3047.000000</td>\n",
       "      <td>0.000000</td>\n",
       "      <td>0.000000</td>\n",
       "      <td>0.000000</td>\n",
       "      <td>1575.744186</td>\n",
       "      <td>1939.000000</td>\n",
       "      <td>0.000000</td>\n",
       "      <td>0.000000</td>\n",
       "      <td>0.0</td>\n",
       "      <td>0.000000</td>\n",
       "    </tr>\n",
       "    <tr>\n",
       "      <th>123</th>\n",
       "      <td>125</td>\n",
       "      <td>0.000000</td>\n",
       "      <td>0.000000</td>\n",
       "      <td>0.000000</td>\n",
       "      <td>0.000000</td>\n",
       "      <td>0.000000</td>\n",
       "      <td>0.000000</td>\n",
       "      <td>2488.0</td>\n",
       "      <td>0.0</td>\n",
       "      <td>0.000000</td>\n",
       "      <td>...</td>\n",
       "      <td>0.000000</td>\n",
       "      <td>0.000000</td>\n",
       "      <td>1068.000000</td>\n",
       "      <td>0.000000</td>\n",
       "      <td>1619.000000</td>\n",
       "      <td>0.000000</td>\n",
       "      <td>2194.076923</td>\n",
       "      <td>0.000000</td>\n",
       "      <td>2764.0</td>\n",
       "      <td>3071.000000</td>\n",
       "    </tr>\n",
       "  </tbody>\n",
       "</table>\n",
       "<p>124 rows × 46 columns</p>\n",
       "</div>"
      ],
      "text/plain": [
       "     Sensor ID  13_16800_mean_upper  18_16800_mean_upper  23_16800_mean_upper  \\\n",
       "0            1           827.195122             0.000000          1353.545455   \n",
       "1            2           679.869565             0.000000             0.000000   \n",
       "2            3           742.333333             0.000000          1320.714286   \n",
       "3            4             0.000000          1042.263158          1319.526316   \n",
       "4            5             0.000000             0.000000             0.000000   \n",
       "..         ...                  ...                  ...                  ...   \n",
       "119        121         65535.000000             0.000000             0.000000   \n",
       "120        122             0.000000             0.000000           695.000000   \n",
       "121        123             0.000000          1044.523810          1356.500000   \n",
       "122        124         65535.000000             0.000000          1248.666667   \n",
       "123        125             0.000000             0.000000             0.000000   \n",
       "\n",
       "     28_16800_mean_upper  33_16800_mean_upper  38_16800_mean_upper  \\\n",
       "0            1639.727273          1959.666667             0.000000   \n",
       "1               0.000000          1835.666667             0.000000   \n",
       "2               0.000000             0.000000             0.000000   \n",
       "3            1687.000000          1924.000000             0.000000   \n",
       "4               0.000000          1927.000000          2199.000000   \n",
       "..                   ...                  ...                  ...   \n",
       "119          1615.800000             0.000000             0.000000   \n",
       "120             0.000000             0.000000             0.000000   \n",
       "121          1597.461538             0.000000          2208.333333   \n",
       "122             0.000000          1913.476190          2203.000000   \n",
       "123             0.000000             0.000000             0.000000   \n",
       "\n",
       "     43_16800_mean_upper  48_16800_mean_upper  53_16800_mean_upper  ...  \\\n",
       "0                    0.0                  0.0             0.000000  ...   \n",
       "1                 2397.0                  0.0          2371.000000  ...   \n",
       "2                    0.0                  0.0             0.000000  ...   \n",
       "3                    0.0                  0.0          3019.000000  ...   \n",
       "4                    0.0               2755.0             0.000000  ...   \n",
       "..                   ...                  ...                  ...  ...   \n",
       "119                  0.0                  0.0             0.000000  ...   \n",
       "120               2468.0                  0.0             0.000000  ...   \n",
       "121                  0.0                  0.0             0.000000  ...   \n",
       "122                  0.0                  0.0          3044.333333  ...   \n",
       "123               2488.0                  0.0             0.000000  ...   \n",
       "\n",
       "     53_6000_mean_upper  13_3000_mean_upper  18_3000_mean_upper  \\\n",
       "0           3039.727273          827.095238            0.000000   \n",
       "1           2951.744186          679.888889          975.000000   \n",
       "2              0.000000            0.000000         1008.684211   \n",
       "3           2999.930233            0.000000            0.000000   \n",
       "4              0.000000            0.000000            0.000000   \n",
       "..                  ...                 ...                 ...   \n",
       "119            0.000000          751.833333            0.000000   \n",
       "120            0.000000          747.000000            0.000000   \n",
       "121            0.000000          750.111111         1043.782609   \n",
       "122         3047.000000            0.000000            0.000000   \n",
       "123            0.000000            0.000000         1068.000000   \n",
       "\n",
       "     23_3000_mean_upper  28_3000_mean_upper  33_3000_mean_upper  \\\n",
       "0              0.000000            0.000000         1959.923077   \n",
       "1           1235.408163            0.000000         1839.857143   \n",
       "2              0.000000         1583.666667            0.000000   \n",
       "3              0.000000            0.000000         1924.021277   \n",
       "4              0.000000         1595.842105         1903.181818   \n",
       "..                  ...                 ...                 ...   \n",
       "119         1323.837209            0.000000            0.000000   \n",
       "120         1334.200000            0.000000            0.000000   \n",
       "121            0.000000         1595.526316         1925.545455   \n",
       "122            0.000000         1575.744186         1939.000000   \n",
       "123            0.000000         1619.000000            0.000000   \n",
       "\n",
       "     38_3000_mean_upper  43_3000_mean_upper  48_3000_mean_upper  \\\n",
       "0              0.000000            0.000000              2809.4   \n",
       "1           2123.800000         2395.000000                 0.0   \n",
       "2           2185.857143            0.000000              2743.0   \n",
       "3              0.000000            0.000000                 0.0   \n",
       "4              0.000000            0.000000                 0.0   \n",
       "..                  ...                 ...                 ...   \n",
       "119            0.000000         2485.666667                 0.0   \n",
       "120            0.000000            0.000000              2765.0   \n",
       "121            0.000000         2485.666667                 0.0   \n",
       "122            0.000000            0.000000                 0.0   \n",
       "123         2194.076923            0.000000              2764.0   \n",
       "\n",
       "     53_3000_mean_upper  \n",
       "0           2995.444444  \n",
       "1              0.000000  \n",
       "2              0.000000  \n",
       "3           3000.116279  \n",
       "4              0.000000  \n",
       "..                  ...  \n",
       "119         3057.000000  \n",
       "120         3059.000000  \n",
       "121            0.000000  \n",
       "122            0.000000  \n",
       "123         3071.000000  \n",
       "\n",
       "[124 rows x 46 columns]"
      ]
     },
     "execution_count": 142,
     "metadata": {},
     "output_type": "execute_result"
    }
   ],
   "source": [
    "mean_upper = get_batch_feature_name(\"mean_upper\")\n",
    "df_mean_upper  = process_batches(data,mean_upper,threshold=0.8)\n",
    "df_mean_upper"
   ]
  },
  {
   "cell_type": "markdown",
   "metadata": {},
   "source": [
    "## Variability Range Delay features "
   ]
  },
  {
   "cell_type": "code",
   "execution_count": 143,
   "metadata": {},
   "outputs": [
    {
     "name": "stdout",
     "output_type": "stream",
     "text": [
      "16800_var_middle\n",
      "Number of Feature Dropped is 7. Number of Features Remained is 3\n",
      "10000_var_middle\n",
      "Number of Feature Dropped is 0. Number of Features Remained is 10\n",
      "8000_var_middle\n",
      "Number of Feature Dropped is 0. Number of Features Remained is 10\n",
      "6000_var_middle\n",
      "Number of Feature Dropped is 0. Number of Features Remained is 10\n",
      "3000_var_middle\n",
      "Number of Feature Dropped is 7. Number of Features Remained is 3\n"
     ]
    },
    {
     "data": {
      "text/html": [
       "<div>\n",
       "<style scoped>\n",
       "    .dataframe tbody tr th:only-of-type {\n",
       "        vertical-align: middle;\n",
       "    }\n",
       "\n",
       "    .dataframe tbody tr th {\n",
       "        vertical-align: top;\n",
       "    }\n",
       "\n",
       "    .dataframe thead th {\n",
       "        text-align: right;\n",
       "    }\n",
       "</style>\n",
       "<table border=\"1\" class=\"dataframe\">\n",
       "  <thead>\n",
       "    <tr style=\"text-align: right;\">\n",
       "      <th></th>\n",
       "      <th>Sensor ID</th>\n",
       "      <th>13_16800_var_middle</th>\n",
       "      <th>18_16800_var_middle</th>\n",
       "      <th>13_10000_var_middle</th>\n",
       "      <th>18_10000_var_middle</th>\n",
       "      <th>23_10000_var_middle</th>\n",
       "      <th>28_10000_var_middle</th>\n",
       "      <th>33_10000_var_middle</th>\n",
       "      <th>38_10000_var_middle</th>\n",
       "      <th>43_10000_var_middle</th>\n",
       "      <th>...</th>\n",
       "      <th>18_6000_var_middle</th>\n",
       "      <th>23_6000_var_middle</th>\n",
       "      <th>28_6000_var_middle</th>\n",
       "      <th>33_6000_var_middle</th>\n",
       "      <th>38_6000_var_middle</th>\n",
       "      <th>43_6000_var_middle</th>\n",
       "      <th>48_6000_var_middle</th>\n",
       "      <th>53_6000_var_middle</th>\n",
       "      <th>13_3000_var_middle</th>\n",
       "      <th>53_3000_var_middle</th>\n",
       "    </tr>\n",
       "  </thead>\n",
       "  <tbody>\n",
       "    <tr>\n",
       "      <th>0</th>\n",
       "      <td>1</td>\n",
       "      <td>0.000000e+00</td>\n",
       "      <td>5.333333</td>\n",
       "      <td>0.000000</td>\n",
       "      <td>0.000000</td>\n",
       "      <td>0.000000</td>\n",
       "      <td>0.000000</td>\n",
       "      <td>0.000000</td>\n",
       "      <td>4.081633</td>\n",
       "      <td>4.414694</td>\n",
       "      <td>...</td>\n",
       "      <td>6.530612</td>\n",
       "      <td>693.714286</td>\n",
       "      <td>0.000000</td>\n",
       "      <td>0.000000</td>\n",
       "      <td>0.000000</td>\n",
       "      <td>6.896327</td>\n",
       "      <td>5.439716</td>\n",
       "      <td>3.325236</td>\n",
       "      <td>0.000000</td>\n",
       "      <td>0.000000</td>\n",
       "    </tr>\n",
       "    <tr>\n",
       "      <th>1</th>\n",
       "      <td>2</td>\n",
       "      <td>0.000000e+00</td>\n",
       "      <td>189.387755</td>\n",
       "      <td>5.459592</td>\n",
       "      <td>0.000000</td>\n",
       "      <td>0.000000</td>\n",
       "      <td>9.933061</td>\n",
       "      <td>0.000000</td>\n",
       "      <td>106.945306</td>\n",
       "      <td>182.367347</td>\n",
       "      <td>...</td>\n",
       "      <td>164.336327</td>\n",
       "      <td>0.000000</td>\n",
       "      <td>3.977143</td>\n",
       "      <td>0.000000</td>\n",
       "      <td>135.471020</td>\n",
       "      <td>4.801772</td>\n",
       "      <td>146.050612</td>\n",
       "      <td>0.000000</td>\n",
       "      <td>0.000000</td>\n",
       "      <td>4.081633</td>\n",
       "    </tr>\n",
       "    <tr>\n",
       "      <th>2</th>\n",
       "      <td>3</td>\n",
       "      <td>5.040169e+00</td>\n",
       "      <td>136.646531</td>\n",
       "      <td>4.597551</td>\n",
       "      <td>4.654545</td>\n",
       "      <td>8.214616</td>\n",
       "      <td>6.801418</td>\n",
       "      <td>5.224490</td>\n",
       "      <td>7.791304</td>\n",
       "      <td>6.190612</td>\n",
       "      <td>...</td>\n",
       "      <td>7.712653</td>\n",
       "      <td>4.573737</td>\n",
       "      <td>5.432007</td>\n",
       "      <td>7.288163</td>\n",
       "      <td>6.556735</td>\n",
       "      <td>114.390204</td>\n",
       "      <td>9.015385</td>\n",
       "      <td>131.761633</td>\n",
       "      <td>4.937143</td>\n",
       "      <td>158.204082</td>\n",
       "    </tr>\n",
       "    <tr>\n",
       "      <th>3</th>\n",
       "      <td>4</td>\n",
       "      <td>6.014694e+00</td>\n",
       "      <td>0.000000</td>\n",
       "      <td>4.075102</td>\n",
       "      <td>3.123123</td>\n",
       "      <td>7.582041</td>\n",
       "      <td>1528.842449</td>\n",
       "      <td>4.176871</td>\n",
       "      <td>197.022041</td>\n",
       "      <td>6.780142</td>\n",
       "      <td>...</td>\n",
       "      <td>35.096774</td>\n",
       "      <td>6.987440</td>\n",
       "      <td>4.460882</td>\n",
       "      <td>4.448980</td>\n",
       "      <td>0.000000</td>\n",
       "      <td>136.888163</td>\n",
       "      <td>0.000000</td>\n",
       "      <td>0.000000</td>\n",
       "      <td>5.361633</td>\n",
       "      <td>0.000000</td>\n",
       "    </tr>\n",
       "    <tr>\n",
       "      <th>4</th>\n",
       "      <td>5</td>\n",
       "      <td>6.475107e+00</td>\n",
       "      <td>8.168328</td>\n",
       "      <td>0.000000</td>\n",
       "      <td>8.843537</td>\n",
       "      <td>7.764898</td>\n",
       "      <td>9.900408</td>\n",
       "      <td>0.000000</td>\n",
       "      <td>4.662350</td>\n",
       "      <td>4.361673</td>\n",
       "      <td>...</td>\n",
       "      <td>5.301010</td>\n",
       "      <td>6.687347</td>\n",
       "      <td>4.760816</td>\n",
       "      <td>0.000000</td>\n",
       "      <td>4.037787</td>\n",
       "      <td>0.000000</td>\n",
       "      <td>7.111837</td>\n",
       "      <td>158.961633</td>\n",
       "      <td>5.250612</td>\n",
       "      <td>8.037003</td>\n",
       "    </tr>\n",
       "    <tr>\n",
       "      <th>...</th>\n",
       "      <td>...</td>\n",
       "      <td>...</td>\n",
       "      <td>...</td>\n",
       "      <td>...</td>\n",
       "      <td>...</td>\n",
       "      <td>...</td>\n",
       "      <td>...</td>\n",
       "      <td>...</td>\n",
       "      <td>...</td>\n",
       "      <td>...</td>\n",
       "      <td>...</td>\n",
       "      <td>...</td>\n",
       "      <td>...</td>\n",
       "      <td>...</td>\n",
       "      <td>...</td>\n",
       "      <td>...</td>\n",
       "      <td>...</td>\n",
       "      <td>...</td>\n",
       "      <td>...</td>\n",
       "      <td>...</td>\n",
       "      <td>...</td>\n",
       "    </tr>\n",
       "    <tr>\n",
       "      <th>119</th>\n",
       "      <td>121</td>\n",
       "      <td>3.665793e+02</td>\n",
       "      <td>200.026122</td>\n",
       "      <td>154.775510</td>\n",
       "      <td>6.014694</td>\n",
       "      <td>7.085106</td>\n",
       "      <td>0.000000</td>\n",
       "      <td>140.728163</td>\n",
       "      <td>160.267755</td>\n",
       "      <td>7.375887</td>\n",
       "      <td>...</td>\n",
       "      <td>9.038367</td>\n",
       "      <td>0.000000</td>\n",
       "      <td>0.000000</td>\n",
       "      <td>6.136054</td>\n",
       "      <td>154.938776</td>\n",
       "      <td>5.328400</td>\n",
       "      <td>147.173878</td>\n",
       "      <td>156.009796</td>\n",
       "      <td>0.000000</td>\n",
       "      <td>4.573737</td>\n",
       "    </tr>\n",
       "    <tr>\n",
       "      <th>120</th>\n",
       "      <td>122</td>\n",
       "      <td>1.003671e+09</td>\n",
       "      <td>193.306122</td>\n",
       "      <td>0.000000</td>\n",
       "      <td>139.102041</td>\n",
       "      <td>6.328163</td>\n",
       "      <td>5.820290</td>\n",
       "      <td>136.855510</td>\n",
       "      <td>6.178862</td>\n",
       "      <td>6.412955</td>\n",
       "      <td>...</td>\n",
       "      <td>6.589388</td>\n",
       "      <td>7.373061</td>\n",
       "      <td>0.000000</td>\n",
       "      <td>126.360816</td>\n",
       "      <td>7.795918</td>\n",
       "      <td>8.878049</td>\n",
       "      <td>8.041026</td>\n",
       "      <td>167.346939</td>\n",
       "      <td>7.605442</td>\n",
       "      <td>5.702564</td>\n",
       "    </tr>\n",
       "    <tr>\n",
       "      <th>121</th>\n",
       "      <td>123</td>\n",
       "      <td>3.546099e+02</td>\n",
       "      <td>0.000000</td>\n",
       "      <td>0.000000</td>\n",
       "      <td>7.333333</td>\n",
       "      <td>7.190204</td>\n",
       "      <td>0.000000</td>\n",
       "      <td>4.779516</td>\n",
       "      <td>6.448980</td>\n",
       "      <td>7.141844</td>\n",
       "      <td>...</td>\n",
       "      <td>0.000000</td>\n",
       "      <td>7.634286</td>\n",
       "      <td>0.000000</td>\n",
       "      <td>6.832850</td>\n",
       "      <td>0.000000</td>\n",
       "      <td>8.664452</td>\n",
       "      <td>145.920000</td>\n",
       "      <td>130.977959</td>\n",
       "      <td>8.195122</td>\n",
       "      <td>159.510204</td>\n",
       "    </tr>\n",
       "    <tr>\n",
       "      <th>122</th>\n",
       "      <td>124</td>\n",
       "      <td>9.686077e+04</td>\n",
       "      <td>308.741224</td>\n",
       "      <td>5.936327</td>\n",
       "      <td>8.940408</td>\n",
       "      <td>0.000000</td>\n",
       "      <td>8.254694</td>\n",
       "      <td>6.206736</td>\n",
       "      <td>151.673469</td>\n",
       "      <td>143.183673</td>\n",
       "      <td>...</td>\n",
       "      <td>0.000000</td>\n",
       "      <td>10.149495</td>\n",
       "      <td>0.000000</td>\n",
       "      <td>0.000000</td>\n",
       "      <td>8.238976</td>\n",
       "      <td>143.340408</td>\n",
       "      <td>160.450612</td>\n",
       "      <td>8.791859</td>\n",
       "      <td>5.152653</td>\n",
       "      <td>188.630204</td>\n",
       "    </tr>\n",
       "    <tr>\n",
       "      <th>123</th>\n",
       "      <td>125</td>\n",
       "      <td>5.401361e+00</td>\n",
       "      <td>120.320000</td>\n",
       "      <td>4.078014</td>\n",
       "      <td>7.229236</td>\n",
       "      <td>5.022041</td>\n",
       "      <td>3.957717</td>\n",
       "      <td>147.826939</td>\n",
       "      <td>6.367347</td>\n",
       "      <td>141.224490</td>\n",
       "      <td>...</td>\n",
       "      <td>7.652174</td>\n",
       "      <td>6.836364</td>\n",
       "      <td>4.900901</td>\n",
       "      <td>134.406531</td>\n",
       "      <td>5.757632</td>\n",
       "      <td>151.484082</td>\n",
       "      <td>141.381224</td>\n",
       "      <td>147.435102</td>\n",
       "      <td>165.936327</td>\n",
       "      <td>10.146341</td>\n",
       "    </tr>\n",
       "  </tbody>\n",
       "</table>\n",
       "<p>124 rows × 32 columns</p>\n",
       "</div>"
      ],
      "text/plain": [
       "     Sensor ID  13_16800_var_middle  18_16800_var_middle  13_10000_var_middle  \\\n",
       "0            1         0.000000e+00             5.333333             0.000000   \n",
       "1            2         0.000000e+00           189.387755             5.459592   \n",
       "2            3         5.040169e+00           136.646531             4.597551   \n",
       "3            4         6.014694e+00             0.000000             4.075102   \n",
       "4            5         6.475107e+00             8.168328             0.000000   \n",
       "..         ...                  ...                  ...                  ...   \n",
       "119        121         3.665793e+02           200.026122           154.775510   \n",
       "120        122         1.003671e+09           193.306122             0.000000   \n",
       "121        123         3.546099e+02             0.000000             0.000000   \n",
       "122        124         9.686077e+04           308.741224             5.936327   \n",
       "123        125         5.401361e+00           120.320000             4.078014   \n",
       "\n",
       "     18_10000_var_middle  23_10000_var_middle  28_10000_var_middle  \\\n",
       "0               0.000000             0.000000             0.000000   \n",
       "1               0.000000             0.000000             9.933061   \n",
       "2               4.654545             8.214616             6.801418   \n",
       "3               3.123123             7.582041          1528.842449   \n",
       "4               8.843537             7.764898             9.900408   \n",
       "..                   ...                  ...                  ...   \n",
       "119             6.014694             7.085106             0.000000   \n",
       "120           139.102041             6.328163             5.820290   \n",
       "121             7.333333             7.190204             0.000000   \n",
       "122             8.940408             0.000000             8.254694   \n",
       "123             7.229236             5.022041             3.957717   \n",
       "\n",
       "     33_10000_var_middle  38_10000_var_middle  43_10000_var_middle  ...  \\\n",
       "0               0.000000             4.081633             4.414694  ...   \n",
       "1               0.000000           106.945306           182.367347  ...   \n",
       "2               5.224490             7.791304             6.190612  ...   \n",
       "3               4.176871           197.022041             6.780142  ...   \n",
       "4               0.000000             4.662350             4.361673  ...   \n",
       "..                   ...                  ...                  ...  ...   \n",
       "119           140.728163           160.267755             7.375887  ...   \n",
       "120           136.855510             6.178862             6.412955  ...   \n",
       "121             4.779516             6.448980             7.141844  ...   \n",
       "122             6.206736           151.673469           143.183673  ...   \n",
       "123           147.826939             6.367347           141.224490  ...   \n",
       "\n",
       "     18_6000_var_middle  23_6000_var_middle  28_6000_var_middle  \\\n",
       "0              6.530612          693.714286            0.000000   \n",
       "1            164.336327            0.000000            3.977143   \n",
       "2              7.712653            4.573737            5.432007   \n",
       "3             35.096774            6.987440            4.460882   \n",
       "4              5.301010            6.687347            4.760816   \n",
       "..                  ...                 ...                 ...   \n",
       "119            9.038367            0.000000            0.000000   \n",
       "120            6.589388            7.373061            0.000000   \n",
       "121            0.000000            7.634286            0.000000   \n",
       "122            0.000000           10.149495            0.000000   \n",
       "123            7.652174            6.836364            4.900901   \n",
       "\n",
       "     33_6000_var_middle  38_6000_var_middle  43_6000_var_middle  \\\n",
       "0              0.000000            0.000000            6.896327   \n",
       "1              0.000000          135.471020            4.801772   \n",
       "2              7.288163            6.556735          114.390204   \n",
       "3              4.448980            0.000000          136.888163   \n",
       "4              0.000000            4.037787            0.000000   \n",
       "..                  ...                 ...                 ...   \n",
       "119            6.136054          154.938776            5.328400   \n",
       "120          126.360816            7.795918            8.878049   \n",
       "121            6.832850            0.000000            8.664452   \n",
       "122            0.000000            8.238976          143.340408   \n",
       "123          134.406531            5.757632          151.484082   \n",
       "\n",
       "     48_6000_var_middle  53_6000_var_middle  13_3000_var_middle  \\\n",
       "0              5.439716            3.325236            0.000000   \n",
       "1            146.050612            0.000000            0.000000   \n",
       "2              9.015385          131.761633            4.937143   \n",
       "3              0.000000            0.000000            5.361633   \n",
       "4              7.111837          158.961633            5.250612   \n",
       "..                  ...                 ...                 ...   \n",
       "119          147.173878          156.009796            0.000000   \n",
       "120            8.041026          167.346939            7.605442   \n",
       "121          145.920000          130.977959            8.195122   \n",
       "122          160.450612            8.791859            5.152653   \n",
       "123          141.381224          147.435102          165.936327   \n",
       "\n",
       "     53_3000_var_middle  \n",
       "0              0.000000  \n",
       "1              4.081633  \n",
       "2            158.204082  \n",
       "3              0.000000  \n",
       "4              8.037003  \n",
       "..                  ...  \n",
       "119            4.573737  \n",
       "120            5.702564  \n",
       "121          159.510204  \n",
       "122          188.630204  \n",
       "123           10.146341  \n",
       "\n",
       "[124 rows x 32 columns]"
      ]
     },
     "execution_count": 143,
     "metadata": {},
     "output_type": "execute_result"
    }
   ],
   "source": [
    "var_middle = get_batch_feature_name(\"var_middle\")\n",
    "df_var_middle  = process_batches(data,var_middle,threshold=0.8)\n",
    "df_var_middle"
   ]
  },
  {
   "cell_type": "code",
   "execution_count": 144,
   "metadata": {},
   "outputs": [
    {
     "name": "stdout",
     "output_type": "stream",
     "text": [
      "16800_var_lower\n",
      "Number of Feature Dropped is 1. Number of Features Remained is 9\n",
      "10000_var_lower\n",
      "Number of Feature Dropped is 0. Number of Features Remained is 10\n",
      "8000_var_lower\n",
      "Number of Feature Dropped is 1. Number of Features Remained is 9\n",
      "6000_var_lower\n",
      "Number of Feature Dropped is 1. Number of Features Remained is 9\n",
      "3000_var_lower\n",
      "Number of Feature Dropped is 1. Number of Features Remained is 9\n"
     ]
    },
    {
     "data": {
      "text/html": [
       "<div>\n",
       "<style scoped>\n",
       "    .dataframe tbody tr th:only-of-type {\n",
       "        vertical-align: middle;\n",
       "    }\n",
       "\n",
       "    .dataframe tbody tr th {\n",
       "        vertical-align: top;\n",
       "    }\n",
       "\n",
       "    .dataframe thead th {\n",
       "        text-align: right;\n",
       "    }\n",
       "</style>\n",
       "<table border=\"1\" class=\"dataframe\">\n",
       "  <thead>\n",
       "    <tr style=\"text-align: right;\">\n",
       "      <th></th>\n",
       "      <th>Sensor ID</th>\n",
       "      <th>13_16800_var_lower</th>\n",
       "      <th>18_16800_var_lower</th>\n",
       "      <th>23_16800_var_lower</th>\n",
       "      <th>33_16800_var_lower</th>\n",
       "      <th>38_16800_var_lower</th>\n",
       "      <th>43_16800_var_lower</th>\n",
       "      <th>48_16800_var_lower</th>\n",
       "      <th>53_16800_var_lower</th>\n",
       "      <th>13_10000_var_lower</th>\n",
       "      <th>...</th>\n",
       "      <th>43_6000_var_lower</th>\n",
       "      <th>48_6000_var_lower</th>\n",
       "      <th>13_3000_var_lower</th>\n",
       "      <th>18_3000_var_lower</th>\n",
       "      <th>28_3000_var_lower</th>\n",
       "      <th>33_3000_var_lower</th>\n",
       "      <th>38_3000_var_lower</th>\n",
       "      <th>43_3000_var_lower</th>\n",
       "      <th>48_3000_var_lower</th>\n",
       "      <th>53_3000_var_lower</th>\n",
       "    </tr>\n",
       "  </thead>\n",
       "  <tbody>\n",
       "    <tr>\n",
       "      <th>0</th>\n",
       "      <td>1</td>\n",
       "      <td>3.375887</td>\n",
       "      <td>0.000000</td>\n",
       "      <td>0.000000</td>\n",
       "      <td>2.480620</td>\n",
       "      <td>0.000000</td>\n",
       "      <td>0.000000</td>\n",
       "      <td>4.285714</td>\n",
       "      <td>0.000000e+00</td>\n",
       "      <td>1.724082</td>\n",
       "      <td>...</td>\n",
       "      <td>0.000000</td>\n",
       "      <td>0.000000</td>\n",
       "      <td>2.231293</td>\n",
       "      <td>0.000000</td>\n",
       "      <td>0.000000</td>\n",
       "      <td>5.151220</td>\n",
       "      <td>4.000000</td>\n",
       "      <td>0.0</td>\n",
       "      <td>0.000000</td>\n",
       "      <td>1.616162</td>\n",
       "    </tr>\n",
       "    <tr>\n",
       "      <th>1</th>\n",
       "      <td>2</td>\n",
       "      <td>1.476923</td>\n",
       "      <td>0.000000</td>\n",
       "      <td>0.000000</td>\n",
       "      <td>0.000000</td>\n",
       "      <td>4229.333333</td>\n",
       "      <td>29.428571</td>\n",
       "      <td>0.000000</td>\n",
       "      <td>1.648000e+04</td>\n",
       "      <td>0.000000</td>\n",
       "      <td>...</td>\n",
       "      <td>0.000000</td>\n",
       "      <td>0.000000</td>\n",
       "      <td>1.794872</td>\n",
       "      <td>0.000000</td>\n",
       "      <td>0.000000</td>\n",
       "      <td>4.624390</td>\n",
       "      <td>0.000000</td>\n",
       "      <td>0.0</td>\n",
       "      <td>0.000000</td>\n",
       "      <td>0.000000</td>\n",
       "    </tr>\n",
       "    <tr>\n",
       "      <th>2</th>\n",
       "      <td>3</td>\n",
       "      <td>0.000000</td>\n",
       "      <td>0.000000</td>\n",
       "      <td>0.000000</td>\n",
       "      <td>0.000000</td>\n",
       "      <td>0.000000</td>\n",
       "      <td>0.000000</td>\n",
       "      <td>0.000000</td>\n",
       "      <td>0.000000e+00</td>\n",
       "      <td>0.000000</td>\n",
       "      <td>...</td>\n",
       "      <td>0.000000</td>\n",
       "      <td>4.444444</td>\n",
       "      <td>0.000000</td>\n",
       "      <td>3.550498</td>\n",
       "      <td>0.000000</td>\n",
       "      <td>0.000000</td>\n",
       "      <td>0.000000</td>\n",
       "      <td>0.0</td>\n",
       "      <td>0.000000</td>\n",
       "      <td>0.000000</td>\n",
       "    </tr>\n",
       "    <tr>\n",
       "      <th>3</th>\n",
       "      <td>4</td>\n",
       "      <td>0.000000</td>\n",
       "      <td>4.152220</td>\n",
       "      <td>3.200000</td>\n",
       "      <td>0.819346</td>\n",
       "      <td>0.000000</td>\n",
       "      <td>2.285714</td>\n",
       "      <td>0.000000</td>\n",
       "      <td>8.000000e+00</td>\n",
       "      <td>0.000000</td>\n",
       "      <td>...</td>\n",
       "      <td>0.000000</td>\n",
       "      <td>30.734694</td>\n",
       "      <td>0.000000</td>\n",
       "      <td>0.000000</td>\n",
       "      <td>0.000000</td>\n",
       "      <td>1.194879</td>\n",
       "      <td>0.000000</td>\n",
       "      <td>0.0</td>\n",
       "      <td>0.000000</td>\n",
       "      <td>2.469417</td>\n",
       "    </tr>\n",
       "    <tr>\n",
       "      <th>4</th>\n",
       "      <td>5</td>\n",
       "      <td>5.333333</td>\n",
       "      <td>9.142857</td>\n",
       "      <td>0.000000</td>\n",
       "      <td>5.333333</td>\n",
       "      <td>0.000000</td>\n",
       "      <td>0.000000</td>\n",
       "      <td>0.000000</td>\n",
       "      <td>0.000000e+00</td>\n",
       "      <td>2.232558</td>\n",
       "      <td>...</td>\n",
       "      <td>2.418354</td>\n",
       "      <td>0.000000</td>\n",
       "      <td>0.000000</td>\n",
       "      <td>0.000000</td>\n",
       "      <td>3.344948</td>\n",
       "      <td>1.787234</td>\n",
       "      <td>0.000000</td>\n",
       "      <td>0.0</td>\n",
       "      <td>0.000000</td>\n",
       "      <td>5.333333</td>\n",
       "    </tr>\n",
       "    <tr>\n",
       "      <th>...</th>\n",
       "      <td>...</td>\n",
       "      <td>...</td>\n",
       "      <td>...</td>\n",
       "      <td>...</td>\n",
       "      <td>...</td>\n",
       "      <td>...</td>\n",
       "      <td>...</td>\n",
       "      <td>...</td>\n",
       "      <td>...</td>\n",
       "      <td>...</td>\n",
       "      <td>...</td>\n",
       "      <td>...</td>\n",
       "      <td>...</td>\n",
       "      <td>...</td>\n",
       "      <td>...</td>\n",
       "      <td>...</td>\n",
       "      <td>...</td>\n",
       "      <td>...</td>\n",
       "      <td>...</td>\n",
       "      <td>...</td>\n",
       "      <td>...</td>\n",
       "    </tr>\n",
       "    <tr>\n",
       "      <th>119</th>\n",
       "      <td>121</td>\n",
       "      <td>12483.000000</td>\n",
       "      <td>0.000000</td>\n",
       "      <td>0.000000</td>\n",
       "      <td>0.000000</td>\n",
       "      <td>0.000000</td>\n",
       "      <td>0.000000</td>\n",
       "      <td>0.000000</td>\n",
       "      <td>0.000000e+00</td>\n",
       "      <td>0.000000</td>\n",
       "      <td>...</td>\n",
       "      <td>0.000000</td>\n",
       "      <td>0.000000</td>\n",
       "      <td>0.779487</td>\n",
       "      <td>3.272727</td>\n",
       "      <td>0.000000</td>\n",
       "      <td>0.000000</td>\n",
       "      <td>0.000000</td>\n",
       "      <td>0.0</td>\n",
       "      <td>0.000000</td>\n",
       "      <td>5.333333</td>\n",
       "    </tr>\n",
       "    <tr>\n",
       "      <th>120</th>\n",
       "      <td>122</td>\n",
       "      <td>0.000000</td>\n",
       "      <td>0.000000</td>\n",
       "      <td>1061.333333</td>\n",
       "      <td>0.000000</td>\n",
       "      <td>0.000000</td>\n",
       "      <td>8.000000</td>\n",
       "      <td>0.000000</td>\n",
       "      <td>1.260872e+06</td>\n",
       "      <td>3.446154</td>\n",
       "      <td>...</td>\n",
       "      <td>0.000000</td>\n",
       "      <td>3.733333</td>\n",
       "      <td>0.000000</td>\n",
       "      <td>0.000000</td>\n",
       "      <td>0.000000</td>\n",
       "      <td>4.571429</td>\n",
       "      <td>0.000000</td>\n",
       "      <td>0.0</td>\n",
       "      <td>0.000000</td>\n",
       "      <td>4.444444</td>\n",
       "    </tr>\n",
       "    <tr>\n",
       "      <th>121</th>\n",
       "      <td>123</td>\n",
       "      <td>115200.000000</td>\n",
       "      <td>2.349758</td>\n",
       "      <td>0.000000</td>\n",
       "      <td>0.000000</td>\n",
       "      <td>5.333333</td>\n",
       "      <td>0.000000</td>\n",
       "      <td>0.000000</td>\n",
       "      <td>0.000000e+00</td>\n",
       "      <td>3.834993</td>\n",
       "      <td>...</td>\n",
       "      <td>0.000000</td>\n",
       "      <td>0.000000</td>\n",
       "      <td>0.000000</td>\n",
       "      <td>1.443902</td>\n",
       "      <td>3.200000</td>\n",
       "      <td>0.000000</td>\n",
       "      <td>4.800000</td>\n",
       "      <td>0.0</td>\n",
       "      <td>0.000000</td>\n",
       "      <td>0.000000</td>\n",
       "    </tr>\n",
       "    <tr>\n",
       "      <th>122</th>\n",
       "      <td>124</td>\n",
       "      <td>0.000000</td>\n",
       "      <td>0.000000</td>\n",
       "      <td>0.000000</td>\n",
       "      <td>26.820513</td>\n",
       "      <td>0.000000</td>\n",
       "      <td>0.000000</td>\n",
       "      <td>0.000000</td>\n",
       "      <td>1.594457e+06</td>\n",
       "      <td>0.000000</td>\n",
       "      <td>...</td>\n",
       "      <td>0.000000</td>\n",
       "      <td>0.000000</td>\n",
       "      <td>0.000000</td>\n",
       "      <td>0.000000</td>\n",
       "      <td>2.276423</td>\n",
       "      <td>0.000000</td>\n",
       "      <td>1.777778</td>\n",
       "      <td>0.0</td>\n",
       "      <td>0.000000</td>\n",
       "      <td>0.000000</td>\n",
       "    </tr>\n",
       "    <tr>\n",
       "      <th>123</th>\n",
       "      <td>125</td>\n",
       "      <td>0.000000</td>\n",
       "      <td>0.000000</td>\n",
       "      <td>0.000000</td>\n",
       "      <td>0.000000</td>\n",
       "      <td>0.000000</td>\n",
       "      <td>4.800000</td>\n",
       "      <td>0.000000</td>\n",
       "      <td>0.000000e+00</td>\n",
       "      <td>0.000000</td>\n",
       "      <td>...</td>\n",
       "      <td>0.000000</td>\n",
       "      <td>0.000000</td>\n",
       "      <td>0.000000</td>\n",
       "      <td>0.000000</td>\n",
       "      <td>0.000000</td>\n",
       "      <td>0.000000</td>\n",
       "      <td>4.266667</td>\n",
       "      <td>0.0</td>\n",
       "      <td>3.490909</td>\n",
       "      <td>5.333333</td>\n",
       "    </tr>\n",
       "  </tbody>\n",
       "</table>\n",
       "<p>124 rows × 42 columns</p>\n",
       "</div>"
      ],
      "text/plain": [
       "     Sensor ID  13_16800_var_lower  18_16800_var_lower  23_16800_var_lower  \\\n",
       "0            1            3.375887            0.000000            0.000000   \n",
       "1            2            1.476923            0.000000            0.000000   \n",
       "2            3            0.000000            0.000000            0.000000   \n",
       "3            4            0.000000            4.152220            3.200000   \n",
       "4            5            5.333333            9.142857            0.000000   \n",
       "..         ...                 ...                 ...                 ...   \n",
       "119        121        12483.000000            0.000000            0.000000   \n",
       "120        122            0.000000            0.000000         1061.333333   \n",
       "121        123       115200.000000            2.349758            0.000000   \n",
       "122        124            0.000000            0.000000            0.000000   \n",
       "123        125            0.000000            0.000000            0.000000   \n",
       "\n",
       "     33_16800_var_lower  38_16800_var_lower  43_16800_var_lower  \\\n",
       "0              2.480620            0.000000            0.000000   \n",
       "1              0.000000         4229.333333           29.428571   \n",
       "2              0.000000            0.000000            0.000000   \n",
       "3              0.819346            0.000000            2.285714   \n",
       "4              5.333333            0.000000            0.000000   \n",
       "..                  ...                 ...                 ...   \n",
       "119            0.000000            0.000000            0.000000   \n",
       "120            0.000000            0.000000            8.000000   \n",
       "121            0.000000            5.333333            0.000000   \n",
       "122           26.820513            0.000000            0.000000   \n",
       "123            0.000000            0.000000            4.800000   \n",
       "\n",
       "     48_16800_var_lower  53_16800_var_lower  13_10000_var_lower  ...  \\\n",
       "0              4.285714        0.000000e+00            1.724082  ...   \n",
       "1              0.000000        1.648000e+04            0.000000  ...   \n",
       "2              0.000000        0.000000e+00            0.000000  ...   \n",
       "3              0.000000        8.000000e+00            0.000000  ...   \n",
       "4              0.000000        0.000000e+00            2.232558  ...   \n",
       "..                  ...                 ...                 ...  ...   \n",
       "119            0.000000        0.000000e+00            0.000000  ...   \n",
       "120            0.000000        1.260872e+06            3.446154  ...   \n",
       "121            0.000000        0.000000e+00            3.834993  ...   \n",
       "122            0.000000        1.594457e+06            0.000000  ...   \n",
       "123            0.000000        0.000000e+00            0.000000  ...   \n",
       "\n",
       "     43_6000_var_lower  48_6000_var_lower  13_3000_var_lower  \\\n",
       "0             0.000000           0.000000           2.231293   \n",
       "1             0.000000           0.000000           1.794872   \n",
       "2             0.000000           4.444444           0.000000   \n",
       "3             0.000000          30.734694           0.000000   \n",
       "4             2.418354           0.000000           0.000000   \n",
       "..                 ...                ...                ...   \n",
       "119           0.000000           0.000000           0.779487   \n",
       "120           0.000000           3.733333           0.000000   \n",
       "121           0.000000           0.000000           0.000000   \n",
       "122           0.000000           0.000000           0.000000   \n",
       "123           0.000000           0.000000           0.000000   \n",
       "\n",
       "     18_3000_var_lower  28_3000_var_lower  33_3000_var_lower  \\\n",
       "0             0.000000           0.000000           5.151220   \n",
       "1             0.000000           0.000000           4.624390   \n",
       "2             3.550498           0.000000           0.000000   \n",
       "3             0.000000           0.000000           1.194879   \n",
       "4             0.000000           3.344948           1.787234   \n",
       "..                 ...                ...                ...   \n",
       "119           3.272727           0.000000           0.000000   \n",
       "120           0.000000           0.000000           4.571429   \n",
       "121           1.443902           3.200000           0.000000   \n",
       "122           0.000000           2.276423           0.000000   \n",
       "123           0.000000           0.000000           0.000000   \n",
       "\n",
       "     38_3000_var_lower  43_3000_var_lower  48_3000_var_lower  \\\n",
       "0             4.000000                0.0           0.000000   \n",
       "1             0.000000                0.0           0.000000   \n",
       "2             0.000000                0.0           0.000000   \n",
       "3             0.000000                0.0           0.000000   \n",
       "4             0.000000                0.0           0.000000   \n",
       "..                 ...                ...                ...   \n",
       "119           0.000000                0.0           0.000000   \n",
       "120           0.000000                0.0           0.000000   \n",
       "121           4.800000                0.0           0.000000   \n",
       "122           1.777778                0.0           0.000000   \n",
       "123           4.266667                0.0           3.490909   \n",
       "\n",
       "     53_3000_var_lower  \n",
       "0             1.616162  \n",
       "1             0.000000  \n",
       "2             0.000000  \n",
       "3             2.469417  \n",
       "4             5.333333  \n",
       "..                 ...  \n",
       "119           5.333333  \n",
       "120           4.444444  \n",
       "121           0.000000  \n",
       "122           0.000000  \n",
       "123           5.333333  \n",
       "\n",
       "[124 rows x 42 columns]"
      ]
     },
     "execution_count": 144,
     "metadata": {},
     "output_type": "execute_result"
    }
   ],
   "source": [
    "var_lower = get_batch_feature_name(\"var_lower\")\n",
    "df_var_lower  = process_batches(data,var_lower,threshold=0.8)\n",
    "df_var_lower"
   ]
  },
  {
   "cell_type": "code",
   "execution_count": 145,
   "metadata": {},
   "outputs": [
    {
     "name": "stdout",
     "output_type": "stream",
     "text": [
      "16800_var_upper\n",
      "Number of Feature Dropped is 2. Number of Features Remained is 8\n",
      "10000_var_upper\n",
      "Number of Feature Dropped is 0. Number of Features Remained is 10\n",
      "8000_var_upper\n",
      "Number of Feature Dropped is 0. Number of Features Remained is 10\n",
      "6000_var_upper\n",
      "Number of Feature Dropped is 0. Number of Features Remained is 10\n",
      "3000_var_upper\n",
      "Number of Feature Dropped is 0. Number of Features Remained is 10\n"
     ]
    },
    {
     "data": {
      "text/html": [
       "<div>\n",
       "<style scoped>\n",
       "    .dataframe tbody tr th:only-of-type {\n",
       "        vertical-align: middle;\n",
       "    }\n",
       "\n",
       "    .dataframe tbody tr th {\n",
       "        vertical-align: top;\n",
       "    }\n",
       "\n",
       "    .dataframe thead th {\n",
       "        text-align: right;\n",
       "    }\n",
       "</style>\n",
       "<table border=\"1\" class=\"dataframe\">\n",
       "  <thead>\n",
       "    <tr style=\"text-align: right;\">\n",
       "      <th></th>\n",
       "      <th>Sensor ID</th>\n",
       "      <th>13_16800_var_upper</th>\n",
       "      <th>18_16800_var_upper</th>\n",
       "      <th>23_16800_var_upper</th>\n",
       "      <th>28_16800_var_upper</th>\n",
       "      <th>33_16800_var_upper</th>\n",
       "      <th>38_16800_var_upper</th>\n",
       "      <th>43_16800_var_upper</th>\n",
       "      <th>13_10000_var_upper</th>\n",
       "      <th>18_10000_var_upper</th>\n",
       "      <th>...</th>\n",
       "      <th>53_6000_var_upper</th>\n",
       "      <th>13_3000_var_upper</th>\n",
       "      <th>18_3000_var_upper</th>\n",
       "      <th>23_3000_var_upper</th>\n",
       "      <th>28_3000_var_upper</th>\n",
       "      <th>33_3000_var_upper</th>\n",
       "      <th>38_3000_var_upper</th>\n",
       "      <th>43_3000_var_upper</th>\n",
       "      <th>48_3000_var_upper</th>\n",
       "      <th>53_3000_var_upper</th>\n",
       "    </tr>\n",
       "  </thead>\n",
       "  <tbody>\n",
       "    <tr>\n",
       "      <th>0</th>\n",
       "      <td>1</td>\n",
       "      <td>0.760976</td>\n",
       "      <td>0.000000</td>\n",
       "      <td>4.072727</td>\n",
       "      <td>2.618182</td>\n",
       "      <td>2.276423</td>\n",
       "      <td>0.000000</td>\n",
       "      <td>0.0</td>\n",
       "      <td>0.000000</td>\n",
       "      <td>0.000000</td>\n",
       "      <td>...</td>\n",
       "      <td>137.018182</td>\n",
       "      <td>0.380952</td>\n",
       "      <td>0.000000</td>\n",
       "      <td>0.000000</td>\n",
       "      <td>0.000000</td>\n",
       "      <td>2.914980</td>\n",
       "      <td>0.000000</td>\n",
       "      <td>0.000000</td>\n",
       "      <td>172.800000</td>\n",
       "      <td>1.616162</td>\n",
       "    </tr>\n",
       "    <tr>\n",
       "      <th>1</th>\n",
       "      <td>2</td>\n",
       "      <td>2.782609</td>\n",
       "      <td>0.000000</td>\n",
       "      <td>0.000000</td>\n",
       "      <td>0.000000</td>\n",
       "      <td>15.466667</td>\n",
       "      <td>0.000000</td>\n",
       "      <td>8.0</td>\n",
       "      <td>0.000000</td>\n",
       "      <td>19.487179</td>\n",
       "      <td>...</td>\n",
       "      <td>4.004430</td>\n",
       "      <td>2.828283</td>\n",
       "      <td>0.000000</td>\n",
       "      <td>1.496599</td>\n",
       "      <td>0.000000</td>\n",
       "      <td>2.759582</td>\n",
       "      <td>3.200000</td>\n",
       "      <td>0.000000</td>\n",
       "      <td>0.000000</td>\n",
       "      <td>0.000000</td>\n",
       "    </tr>\n",
       "    <tr>\n",
       "      <th>2</th>\n",
       "      <td>3</td>\n",
       "      <td>2.666667</td>\n",
       "      <td>0.000000</td>\n",
       "      <td>4.571429</td>\n",
       "      <td>0.000000</td>\n",
       "      <td>0.000000</td>\n",
       "      <td>0.000000</td>\n",
       "      <td>0.0</td>\n",
       "      <td>0.000000</td>\n",
       "      <td>0.000000</td>\n",
       "      <td>...</td>\n",
       "      <td>0.000000</td>\n",
       "      <td>0.000000</td>\n",
       "      <td>12.654339</td>\n",
       "      <td>0.000000</td>\n",
       "      <td>41.066667</td>\n",
       "      <td>0.000000</td>\n",
       "      <td>3.809524</td>\n",
       "      <td>0.000000</td>\n",
       "      <td>0.000000</td>\n",
       "      <td>0.000000</td>\n",
       "    </tr>\n",
       "    <tr>\n",
       "      <th>3</th>\n",
       "      <td>4</td>\n",
       "      <td>0.000000</td>\n",
       "      <td>696.091038</td>\n",
       "      <td>1.877667</td>\n",
       "      <td>0.000000</td>\n",
       "      <td>3.063830</td>\n",
       "      <td>0.000000</td>\n",
       "      <td>0.0</td>\n",
       "      <td>0.000000</td>\n",
       "      <td>44.606061</td>\n",
       "      <td>...</td>\n",
       "      <td>2.923588</td>\n",
       "      <td>0.000000</td>\n",
       "      <td>0.000000</td>\n",
       "      <td>0.000000</td>\n",
       "      <td>0.000000</td>\n",
       "      <td>3.108233</td>\n",
       "      <td>0.000000</td>\n",
       "      <td>0.000000</td>\n",
       "      <td>0.000000</td>\n",
       "      <td>3.295681</td>\n",
       "    </tr>\n",
       "    <tr>\n",
       "      <th>4</th>\n",
       "      <td>5</td>\n",
       "      <td>0.000000</td>\n",
       "      <td>0.000000</td>\n",
       "      <td>0.000000</td>\n",
       "      <td>0.000000</td>\n",
       "      <td>10.666667</td>\n",
       "      <td>0.000000</td>\n",
       "      <td>0.0</td>\n",
       "      <td>2.232558</td>\n",
       "      <td>0.000000</td>\n",
       "      <td>...</td>\n",
       "      <td>0.000000</td>\n",
       "      <td>0.000000</td>\n",
       "      <td>0.000000</td>\n",
       "      <td>0.000000</td>\n",
       "      <td>2.731152</td>\n",
       "      <td>0.710359</td>\n",
       "      <td>0.000000</td>\n",
       "      <td>0.000000</td>\n",
       "      <td>0.000000</td>\n",
       "      <td>0.000000</td>\n",
       "    </tr>\n",
       "    <tr>\n",
       "      <th>...</th>\n",
       "      <td>...</td>\n",
       "      <td>...</td>\n",
       "      <td>...</td>\n",
       "      <td>...</td>\n",
       "      <td>...</td>\n",
       "      <td>...</td>\n",
       "      <td>...</td>\n",
       "      <td>...</td>\n",
       "      <td>...</td>\n",
       "      <td>...</td>\n",
       "      <td>...</td>\n",
       "      <td>...</td>\n",
       "      <td>...</td>\n",
       "      <td>...</td>\n",
       "      <td>...</td>\n",
       "      <td>...</td>\n",
       "      <td>...</td>\n",
       "      <td>...</td>\n",
       "      <td>...</td>\n",
       "      <td>...</td>\n",
       "      <td>...</td>\n",
       "    </tr>\n",
       "    <tr>\n",
       "      <th>119</th>\n",
       "      <td>121</td>\n",
       "      <td>0.000000</td>\n",
       "      <td>0.000000</td>\n",
       "      <td>0.000000</td>\n",
       "      <td>11.200000</td>\n",
       "      <td>0.000000</td>\n",
       "      <td>0.000000</td>\n",
       "      <td>0.0</td>\n",
       "      <td>0.000000</td>\n",
       "      <td>0.000000</td>\n",
       "      <td>...</td>\n",
       "      <td>0.000000</td>\n",
       "      <td>2.695035</td>\n",
       "      <td>0.000000</td>\n",
       "      <td>2.710963</td>\n",
       "      <td>0.000000</td>\n",
       "      <td>0.000000</td>\n",
       "      <td>0.000000</td>\n",
       "      <td>5.333333</td>\n",
       "      <td>0.000000</td>\n",
       "      <td>200.000000</td>\n",
       "    </tr>\n",
       "    <tr>\n",
       "      <th>120</th>\n",
       "      <td>122</td>\n",
       "      <td>0.000000</td>\n",
       "      <td>0.000000</td>\n",
       "      <td>177802.666667</td>\n",
       "      <td>0.000000</td>\n",
       "      <td>0.000000</td>\n",
       "      <td>0.000000</td>\n",
       "      <td>4.0</td>\n",
       "      <td>3.186344</td>\n",
       "      <td>0.000000</td>\n",
       "      <td>...</td>\n",
       "      <td>0.000000</td>\n",
       "      <td>0.000000</td>\n",
       "      <td>0.000000</td>\n",
       "      <td>11.200000</td>\n",
       "      <td>0.000000</td>\n",
       "      <td>0.000000</td>\n",
       "      <td>0.000000</td>\n",
       "      <td>0.000000</td>\n",
       "      <td>8.000000</td>\n",
       "      <td>0.000000</td>\n",
       "    </tr>\n",
       "    <tr>\n",
       "      <th>121</th>\n",
       "      <td>123</td>\n",
       "      <td>0.000000</td>\n",
       "      <td>36.645761</td>\n",
       "      <td>8.857143</td>\n",
       "      <td>33.360324</td>\n",
       "      <td>0.000000</td>\n",
       "      <td>69.333333</td>\n",
       "      <td>0.0</td>\n",
       "      <td>3.344948</td>\n",
       "      <td>0.000000</td>\n",
       "      <td>...</td>\n",
       "      <td>0.000000</td>\n",
       "      <td>3.111111</td>\n",
       "      <td>2.573913</td>\n",
       "      <td>0.000000</td>\n",
       "      <td>1.877667</td>\n",
       "      <td>4.072727</td>\n",
       "      <td>0.000000</td>\n",
       "      <td>4.266667</td>\n",
       "      <td>0.000000</td>\n",
       "      <td>0.000000</td>\n",
       "    </tr>\n",
       "    <tr>\n",
       "      <th>122</th>\n",
       "      <td>124</td>\n",
       "      <td>0.000000</td>\n",
       "      <td>0.000000</td>\n",
       "      <td>39899.515152</td>\n",
       "      <td>0.000000</td>\n",
       "      <td>43.670151</td>\n",
       "      <td>0.000000</td>\n",
       "      <td>0.0</td>\n",
       "      <td>0.000000</td>\n",
       "      <td>0.000000</td>\n",
       "      <td>...</td>\n",
       "      <td>0.000000</td>\n",
       "      <td>0.000000</td>\n",
       "      <td>0.000000</td>\n",
       "      <td>0.000000</td>\n",
       "      <td>2.480620</td>\n",
       "      <td>0.000000</td>\n",
       "      <td>0.000000</td>\n",
       "      <td>0.000000</td>\n",
       "      <td>0.000000</td>\n",
       "      <td>0.000000</td>\n",
       "    </tr>\n",
       "    <tr>\n",
       "      <th>123</th>\n",
       "      <td>125</td>\n",
       "      <td>0.000000</td>\n",
       "      <td>0.000000</td>\n",
       "      <td>0.000000</td>\n",
       "      <td>0.000000</td>\n",
       "      <td>0.000000</td>\n",
       "      <td>0.000000</td>\n",
       "      <td>4.0</td>\n",
       "      <td>8.000000</td>\n",
       "      <td>9.904762</td>\n",
       "      <td>...</td>\n",
       "      <td>0.000000</td>\n",
       "      <td>0.000000</td>\n",
       "      <td>14.666667</td>\n",
       "      <td>0.000000</td>\n",
       "      <td>0.000000</td>\n",
       "      <td>0.000000</td>\n",
       "      <td>54.283401</td>\n",
       "      <td>0.000000</td>\n",
       "      <td>110.666667</td>\n",
       "      <td>0.000000</td>\n",
       "    </tr>\n",
       "  </tbody>\n",
       "</table>\n",
       "<p>124 rows × 44 columns</p>\n",
       "</div>"
      ],
      "text/plain": [
       "     Sensor ID  13_16800_var_upper  18_16800_var_upper  23_16800_var_upper  \\\n",
       "0            1            0.760976            0.000000            4.072727   \n",
       "1            2            2.782609            0.000000            0.000000   \n",
       "2            3            2.666667            0.000000            4.571429   \n",
       "3            4            0.000000          696.091038            1.877667   \n",
       "4            5            0.000000            0.000000            0.000000   \n",
       "..         ...                 ...                 ...                 ...   \n",
       "119        121            0.000000            0.000000            0.000000   \n",
       "120        122            0.000000            0.000000       177802.666667   \n",
       "121        123            0.000000           36.645761            8.857143   \n",
       "122        124            0.000000            0.000000        39899.515152   \n",
       "123        125            0.000000            0.000000            0.000000   \n",
       "\n",
       "     28_16800_var_upper  33_16800_var_upper  38_16800_var_upper  \\\n",
       "0              2.618182            2.276423            0.000000   \n",
       "1              0.000000           15.466667            0.000000   \n",
       "2              0.000000            0.000000            0.000000   \n",
       "3              0.000000            3.063830            0.000000   \n",
       "4              0.000000           10.666667            0.000000   \n",
       "..                  ...                 ...                 ...   \n",
       "119           11.200000            0.000000            0.000000   \n",
       "120            0.000000            0.000000            0.000000   \n",
       "121           33.360324            0.000000           69.333333   \n",
       "122            0.000000           43.670151            0.000000   \n",
       "123            0.000000            0.000000            0.000000   \n",
       "\n",
       "     43_16800_var_upper  13_10000_var_upper  18_10000_var_upper  ...  \\\n",
       "0                   0.0            0.000000            0.000000  ...   \n",
       "1                   8.0            0.000000           19.487179  ...   \n",
       "2                   0.0            0.000000            0.000000  ...   \n",
       "3                   0.0            0.000000           44.606061  ...   \n",
       "4                   0.0            2.232558            0.000000  ...   \n",
       "..                  ...                 ...                 ...  ...   \n",
       "119                 0.0            0.000000            0.000000  ...   \n",
       "120                 4.0            3.186344            0.000000  ...   \n",
       "121                 0.0            3.344948            0.000000  ...   \n",
       "122                 0.0            0.000000            0.000000  ...   \n",
       "123                 4.0            8.000000            9.904762  ...   \n",
       "\n",
       "     53_6000_var_upper  13_3000_var_upper  18_3000_var_upper  \\\n",
       "0           137.018182           0.380952           0.000000   \n",
       "1             4.004430           2.828283           0.000000   \n",
       "2             0.000000           0.000000          12.654339   \n",
       "3             2.923588           0.000000           0.000000   \n",
       "4             0.000000           0.000000           0.000000   \n",
       "..                 ...                ...                ...   \n",
       "119           0.000000           2.695035           0.000000   \n",
       "120           0.000000           0.000000           0.000000   \n",
       "121           0.000000           3.111111           2.573913   \n",
       "122           0.000000           0.000000           0.000000   \n",
       "123           0.000000           0.000000          14.666667   \n",
       "\n",
       "     23_3000_var_upper  28_3000_var_upper  33_3000_var_upper  \\\n",
       "0             0.000000           0.000000           2.914980   \n",
       "1             1.496599           0.000000           2.759582   \n",
       "2             0.000000          41.066667           0.000000   \n",
       "3             0.000000           0.000000           3.108233   \n",
       "4             0.000000           2.731152           0.710359   \n",
       "..                 ...                ...                ...   \n",
       "119           2.710963           0.000000           0.000000   \n",
       "120          11.200000           0.000000           0.000000   \n",
       "121           0.000000           1.877667           4.072727   \n",
       "122           0.000000           2.480620           0.000000   \n",
       "123           0.000000           0.000000           0.000000   \n",
       "\n",
       "     38_3000_var_upper  43_3000_var_upper  48_3000_var_upper  \\\n",
       "0             0.000000           0.000000         172.800000   \n",
       "1             3.200000           0.000000           0.000000   \n",
       "2             3.809524           0.000000           0.000000   \n",
       "3             0.000000           0.000000           0.000000   \n",
       "4             0.000000           0.000000           0.000000   \n",
       "..                 ...                ...                ...   \n",
       "119           0.000000           5.333333           0.000000   \n",
       "120           0.000000           0.000000           8.000000   \n",
       "121           0.000000           4.266667           0.000000   \n",
       "122           0.000000           0.000000           0.000000   \n",
       "123          54.283401           0.000000         110.666667   \n",
       "\n",
       "     53_3000_var_upper  \n",
       "0             1.616162  \n",
       "1             0.000000  \n",
       "2             0.000000  \n",
       "3             3.295681  \n",
       "4             0.000000  \n",
       "..                 ...  \n",
       "119         200.000000  \n",
       "120           0.000000  \n",
       "121           0.000000  \n",
       "122           0.000000  \n",
       "123           0.000000  \n",
       "\n",
       "[124 rows x 44 columns]"
      ]
     },
     "execution_count": 145,
     "metadata": {},
     "output_type": "execute_result"
    }
   ],
   "source": [
    "var_upper = get_batch_feature_name(\"var_upper\")\n",
    "df_var_upper  = process_batches(data,var_upper,threshold=0.8)\n",
    "df_var_upper"
   ]
  },
  {
   "cell_type": "markdown",
   "metadata": {},
   "source": [
    "## Frequency of Lower and upper"
   ]
  },
  {
   "cell_type": "code",
   "execution_count": 146,
   "metadata": {},
   "outputs": [
    {
     "name": "stdout",
     "output_type": "stream",
     "text": [
      "16800_freq_lower\n",
      "Number of Feature Dropped is 0. Number of Features Remained is 2\n",
      "10000_freq_lower\n",
      "Number of Feature Dropped is 0. Number of Features Remained is 2\n",
      "8000_freq_lower\n",
      "Number of Feature Dropped is 0. Number of Features Remained is 2\n",
      "6000_freq_lower\n",
      "Number of Feature Dropped is 0. Number of Features Remained is 2\n",
      "3000_freq_lower\n",
      "Number of Feature Dropped is 0. Number of Features Remained is 2\n"
     ]
    },
    {
     "data": {
      "text/html": [
       "<div>\n",
       "<style scoped>\n",
       "    .dataframe tbody tr th:only-of-type {\n",
       "        vertical-align: middle;\n",
       "    }\n",
       "\n",
       "    .dataframe tbody tr th {\n",
       "        vertical-align: top;\n",
       "    }\n",
       "\n",
       "    .dataframe thead th {\n",
       "        text-align: right;\n",
       "    }\n",
       "</style>\n",
       "<table border=\"1\" class=\"dataframe\">\n",
       "  <thead>\n",
       "    <tr style=\"text-align: right;\">\n",
       "      <th></th>\n",
       "      <th>Sensor ID</th>\n",
       "      <th>delay_16800_freq_lower</th>\n",
       "      <th>delay_10000_freq_lower</th>\n",
       "      <th>delay_8000_freq_lower</th>\n",
       "      <th>delay_6000_freq_lower</th>\n",
       "      <th>delay_3000_freq_lower</th>\n",
       "    </tr>\n",
       "  </thead>\n",
       "  <tbody>\n",
       "    <tr>\n",
       "      <th>0</th>\n",
       "      <td>1</td>\n",
       "      <td>102</td>\n",
       "      <td>267</td>\n",
       "      <td>167</td>\n",
       "      <td>171</td>\n",
       "      <td>140</td>\n",
       "    </tr>\n",
       "    <tr>\n",
       "      <th>1</th>\n",
       "      <td>2</td>\n",
       "      <td>55</td>\n",
       "      <td>174</td>\n",
       "      <td>131</td>\n",
       "      <td>164</td>\n",
       "      <td>129</td>\n",
       "    </tr>\n",
       "    <tr>\n",
       "      <th>2</th>\n",
       "      <td>3</td>\n",
       "      <td>6</td>\n",
       "      <td>5</td>\n",
       "      <td>8</td>\n",
       "      <td>10</td>\n",
       "      <td>48</td>\n",
       "    </tr>\n",
       "    <tr>\n",
       "      <th>3</th>\n",
       "      <td>4</td>\n",
       "      <td>136</td>\n",
       "      <td>42</td>\n",
       "      <td>41</td>\n",
       "      <td>148</td>\n",
       "      <td>76</td>\n",
       "    </tr>\n",
       "    <tr>\n",
       "      <th>4</th>\n",
       "      <td>5</td>\n",
       "      <td>22</td>\n",
       "      <td>98</td>\n",
       "      <td>137</td>\n",
       "      <td>130</td>\n",
       "      <td>95</td>\n",
       "    </tr>\n",
       "    <tr>\n",
       "      <th>...</th>\n",
       "      <td>...</td>\n",
       "      <td>...</td>\n",
       "      <td>...</td>\n",
       "      <td>...</td>\n",
       "      <td>...</td>\n",
       "      <td>...</td>\n",
       "    </tr>\n",
       "    <tr>\n",
       "      <th>119</th>\n",
       "      <td>121</td>\n",
       "      <td>3</td>\n",
       "      <td>39</td>\n",
       "      <td>50</td>\n",
       "      <td>123</td>\n",
       "      <td>96</td>\n",
       "    </tr>\n",
       "    <tr>\n",
       "      <th>120</th>\n",
       "      <td>122</td>\n",
       "      <td>7</td>\n",
       "      <td>55</td>\n",
       "      <td>143</td>\n",
       "      <td>50</td>\n",
       "      <td>17</td>\n",
       "    </tr>\n",
       "    <tr>\n",
       "      <th>121</th>\n",
       "      <td>123</td>\n",
       "      <td>91</td>\n",
       "      <td>86</td>\n",
       "      <td>102</td>\n",
       "      <td>168</td>\n",
       "      <td>92</td>\n",
       "    </tr>\n",
       "    <tr>\n",
       "      <th>122</th>\n",
       "      <td>124</td>\n",
       "      <td>45</td>\n",
       "      <td>50</td>\n",
       "      <td>132</td>\n",
       "      <td>134</td>\n",
       "      <td>51</td>\n",
       "    </tr>\n",
       "    <tr>\n",
       "      <th>123</th>\n",
       "      <td>125</td>\n",
       "      <td>7</td>\n",
       "      <td>13</td>\n",
       "      <td>42</td>\n",
       "      <td>2</td>\n",
       "      <td>54</td>\n",
       "    </tr>\n",
       "  </tbody>\n",
       "</table>\n",
       "<p>124 rows × 6 columns</p>\n",
       "</div>"
      ],
      "text/plain": [
       "     Sensor ID  delay_16800_freq_lower  delay_10000_freq_lower  \\\n",
       "0            1                     102                     267   \n",
       "1            2                      55                     174   \n",
       "2            3                       6                       5   \n",
       "3            4                     136                      42   \n",
       "4            5                      22                      98   \n",
       "..         ...                     ...                     ...   \n",
       "119        121                       3                      39   \n",
       "120        122                       7                      55   \n",
       "121        123                      91                      86   \n",
       "122        124                      45                      50   \n",
       "123        125                       7                      13   \n",
       "\n",
       "     delay_8000_freq_lower  delay_6000_freq_lower  delay_3000_freq_lower  \n",
       "0                      167                    171                    140  \n",
       "1                      131                    164                    129  \n",
       "2                        8                     10                     48  \n",
       "3                       41                    148                     76  \n",
       "4                      137                    130                     95  \n",
       "..                     ...                    ...                    ...  \n",
       "119                     50                    123                     96  \n",
       "120                    143                     50                     17  \n",
       "121                    102                    168                     92  \n",
       "122                    132                    134                     51  \n",
       "123                     42                      2                     54  \n",
       "\n",
       "[124 rows x 6 columns]"
      ]
     },
     "execution_count": 146,
     "metadata": {},
     "output_type": "execute_result"
    }
   ],
   "source": [
    "freq_lower = get_batch_feature_name(\"freq_lower\")\n",
    "df_freq_lower  = process_batches(data,freq_lower,threshold=0.8)\n",
    "df_freq_lower"
   ]
  },
  {
   "cell_type": "code",
   "execution_count": 147,
   "metadata": {},
   "outputs": [
    {
     "name": "stdout",
     "output_type": "stream",
     "text": [
      "16800_freq_upper\n",
      "Number of Feature Dropped is 0. Number of Features Remained is 2\n",
      "10000_freq_upper\n",
      "Number of Feature Dropped is 0. Number of Features Remained is 2\n",
      "8000_freq_upper\n",
      "Number of Feature Dropped is 0. Number of Features Remained is 2\n",
      "6000_freq_upper\n",
      "Number of Feature Dropped is 0. Number of Features Remained is 2\n",
      "3000_freq_upper\n",
      "Number of Feature Dropped is 0. Number of Features Remained is 2\n"
     ]
    },
    {
     "data": {
      "text/html": [
       "<div>\n",
       "<style scoped>\n",
       "    .dataframe tbody tr th:only-of-type {\n",
       "        vertical-align: middle;\n",
       "    }\n",
       "\n",
       "    .dataframe tbody tr th {\n",
       "        vertical-align: top;\n",
       "    }\n",
       "\n",
       "    .dataframe thead th {\n",
       "        text-align: right;\n",
       "    }\n",
       "</style>\n",
       "<table border=\"1\" class=\"dataframe\">\n",
       "  <thead>\n",
       "    <tr style=\"text-align: right;\">\n",
       "      <th></th>\n",
       "      <th>Sensor ID</th>\n",
       "      <th>delay_16800_freq_upper</th>\n",
       "      <th>delay_10000_freq_upper</th>\n",
       "      <th>delay_8000_freq_upper</th>\n",
       "      <th>delay_6000_freq_upper</th>\n",
       "      <th>delay_3000_freq_upper</th>\n",
       "    </tr>\n",
       "  </thead>\n",
       "  <tbody>\n",
       "    <tr>\n",
       "      <th>0</th>\n",
       "      <td>1</td>\n",
       "      <td>105</td>\n",
       "      <td>258</td>\n",
       "      <td>197</td>\n",
       "      <td>182</td>\n",
       "      <td>131</td>\n",
       "    </tr>\n",
       "    <tr>\n",
       "      <th>1</th>\n",
       "      <td>2</td>\n",
       "      <td>59</td>\n",
       "      <td>172</td>\n",
       "      <td>145</td>\n",
       "      <td>194</td>\n",
       "      <td>143</td>\n",
       "    </tr>\n",
       "    <tr>\n",
       "      <th>2</th>\n",
       "      <td>3</td>\n",
       "      <td>13</td>\n",
       "      <td>21</td>\n",
       "      <td>11</td>\n",
       "      <td>8</td>\n",
       "      <td>52</td>\n",
       "    </tr>\n",
       "    <tr>\n",
       "      <th>3</th>\n",
       "      <td>4</td>\n",
       "      <td>127</td>\n",
       "      <td>57</td>\n",
       "      <td>49</td>\n",
       "      <td>150</td>\n",
       "      <td>90</td>\n",
       "    </tr>\n",
       "    <tr>\n",
       "      <th>4</th>\n",
       "      <td>5</td>\n",
       "      <td>13</td>\n",
       "      <td>91</td>\n",
       "      <td>128</td>\n",
       "      <td>139</td>\n",
       "      <td>82</td>\n",
       "    </tr>\n",
       "    <tr>\n",
       "      <th>...</th>\n",
       "      <td>...</td>\n",
       "      <td>...</td>\n",
       "      <td>...</td>\n",
       "      <td>...</td>\n",
       "      <td>...</td>\n",
       "      <td>...</td>\n",
       "    </tr>\n",
       "    <tr>\n",
       "      <th>119</th>\n",
       "      <td>121</td>\n",
       "      <td>8</td>\n",
       "      <td>63</td>\n",
       "      <td>45</td>\n",
       "      <td>136</td>\n",
       "      <td>96</td>\n",
       "    </tr>\n",
       "    <tr>\n",
       "      <th>120</th>\n",
       "      <td>122</td>\n",
       "      <td>8</td>\n",
       "      <td>55</td>\n",
       "      <td>125</td>\n",
       "      <td>52</td>\n",
       "      <td>9</td>\n",
       "    </tr>\n",
       "    <tr>\n",
       "      <th>121</th>\n",
       "      <td>123</td>\n",
       "      <td>92</td>\n",
       "      <td>93</td>\n",
       "      <td>92</td>\n",
       "      <td>179</td>\n",
       "      <td>110</td>\n",
       "    </tr>\n",
       "    <tr>\n",
       "      <th>122</th>\n",
       "      <td>124</td>\n",
       "      <td>72</td>\n",
       "      <td>53</td>\n",
       "      <td>124</td>\n",
       "      <td>135</td>\n",
       "      <td>44</td>\n",
       "    </tr>\n",
       "    <tr>\n",
       "      <th>123</th>\n",
       "      <td>125</td>\n",
       "      <td>4</td>\n",
       "      <td>16</td>\n",
       "      <td>39</td>\n",
       "      <td>22</td>\n",
       "      <td>54</td>\n",
       "    </tr>\n",
       "  </tbody>\n",
       "</table>\n",
       "<p>124 rows × 6 columns</p>\n",
       "</div>"
      ],
      "text/plain": [
       "     Sensor ID  delay_16800_freq_upper  delay_10000_freq_upper  \\\n",
       "0            1                     105                     258   \n",
       "1            2                      59                     172   \n",
       "2            3                      13                      21   \n",
       "3            4                     127                      57   \n",
       "4            5                      13                      91   \n",
       "..         ...                     ...                     ...   \n",
       "119        121                       8                      63   \n",
       "120        122                       8                      55   \n",
       "121        123                      92                      93   \n",
       "122        124                      72                      53   \n",
       "123        125                       4                      16   \n",
       "\n",
       "     delay_8000_freq_upper  delay_6000_freq_upper  delay_3000_freq_upper  \n",
       "0                      197                    182                    131  \n",
       "1                      145                    194                    143  \n",
       "2                       11                      8                     52  \n",
       "3                       49                    150                     90  \n",
       "4                      128                    139                     82  \n",
       "..                     ...                    ...                    ...  \n",
       "119                     45                    136                     96  \n",
       "120                    125                     52                      9  \n",
       "121                     92                    179                    110  \n",
       "122                    124                    135                     44  \n",
       "123                     39                     22                     54  \n",
       "\n",
       "[124 rows x 6 columns]"
      ]
     },
     "execution_count": 147,
     "metadata": {},
     "output_type": "execute_result"
    }
   ],
   "source": [
    "freq_upper = get_batch_feature_name(\"freq_upper\")\n",
    "df_freq_upper = process_batches(data,freq_upper,threshold=0.8)\n",
    "df_freq_upper\n"
   ]
  },
  {
   "cell_type": "markdown",
   "metadata": {},
   "source": [
    "## Merge all dataframe"
   ]
  },
  {
   "cell_type": "code",
   "execution_count": 148,
   "metadata": {},
   "outputs": [],
   "source": [
    "def merge_dataframes_on_sensor_id(dfs, id_col='Sensor ID'):\n",
    "    \"\"\"\n",
    "    Merges multiple DataFrames on the specified ID column.\n",
    "\n",
    "    Parameters:\n",
    "    dfs (list of pd.DataFrame): List of DataFrames to be merged.\n",
    "    id_col (str): The name of the ID column to merge on. Default is 'Sensor ID'.\n",
    "\n",
    "    Returns:\n",
    "    pd.DataFrame: The merged DataFrame.\n",
    "    \"\"\"\n",
    "    # Start with the first DataFrame\n",
    "    merged_df = dfs[0]\n",
    "\n",
    "    # Iteratively merge the remaining DataFrames\n",
    "    for df in dfs[1:]:\n",
    "        merged_df = merged_df.merge(df, on=id_col, how='outer')\n",
    "    \n",
    "    return merged_df"
   ]
  },
  {
   "cell_type": "code",
   "execution_count": 149,
   "metadata": {},
   "outputs": [],
   "source": [
    "df_corr_selected = [df_mean_middle,df_mean_lower,df_mean_upper\n",
    "           ,df_var_middle,df_var_lower,df_var_upper\n",
    "           ,df_freq_lower,df_freq_upper ]\n",
    "\n",
    "df = merge_dataframes_on_sensor_id(df_corr_selected)"
   ]
  },
  {
   "cell_type": "code",
   "execution_count": 153,
   "metadata": {},
   "outputs": [
    {
     "data": {
      "text/plain": [
       "(124, 283)"
      ]
     },
     "execution_count": 153,
     "metadata": {},
     "output_type": "execute_result"
    }
   ],
   "source": [
    "data.shape"
   ]
  },
  {
   "cell_type": "code",
   "execution_count": 150,
   "metadata": {},
   "outputs": [
    {
     "data": {
      "text/html": [
       "<div>\n",
       "<style scoped>\n",
       "    .dataframe tbody tr th:only-of-type {\n",
       "        vertical-align: middle;\n",
       "    }\n",
       "\n",
       "    .dataframe tbody tr th {\n",
       "        vertical-align: top;\n",
       "    }\n",
       "\n",
       "    .dataframe thead th {\n",
       "        text-align: right;\n",
       "    }\n",
       "</style>\n",
       "<table border=\"1\" class=\"dataframe\">\n",
       "  <thead>\n",
       "    <tr style=\"text-align: right;\">\n",
       "      <th></th>\n",
       "      <th>Sensor ID</th>\n",
       "      <th>13_16800_mean_middle</th>\n",
       "      <th>18_16800_mean_middle</th>\n",
       "      <th>23_16800_mean_middle</th>\n",
       "      <th>28_16800_mean_middle</th>\n",
       "      <th>13_10000_mean_middle</th>\n",
       "      <th>18_10000_mean_middle</th>\n",
       "      <th>13_8000_mean_middle</th>\n",
       "      <th>18_8000_mean_middle</th>\n",
       "      <th>53_8000_mean_middle</th>\n",
       "      <th>...</th>\n",
       "      <th>delay_16800_freq_lower</th>\n",
       "      <th>delay_10000_freq_lower</th>\n",
       "      <th>delay_8000_freq_lower</th>\n",
       "      <th>delay_6000_freq_lower</th>\n",
       "      <th>delay_3000_freq_lower</th>\n",
       "      <th>delay_16800_freq_upper</th>\n",
       "      <th>delay_10000_freq_upper</th>\n",
       "      <th>delay_8000_freq_upper</th>\n",
       "      <th>delay_6000_freq_upper</th>\n",
       "      <th>delay_3000_freq_upper</th>\n",
       "    </tr>\n",
       "  </thead>\n",
       "  <tbody>\n",
       "    <tr>\n",
       "      <th>0</th>\n",
       "      <td>1</td>\n",
       "      <td>827.000000</td>\n",
       "      <td>1069.285714</td>\n",
       "      <td>1302.076923</td>\n",
       "      <td>1590.384615</td>\n",
       "      <td>827.000000</td>\n",
       "      <td>1071.000000</td>\n",
       "      <td>827.00000</td>\n",
       "      <td>1069.612245</td>\n",
       "      <td>2995.000000</td>\n",
       "      <td>...</td>\n",
       "      <td>102</td>\n",
       "      <td>267</td>\n",
       "      <td>167</td>\n",
       "      <td>171</td>\n",
       "      <td>140</td>\n",
       "      <td>105</td>\n",
       "      <td>258</td>\n",
       "      <td>197</td>\n",
       "      <td>182</td>\n",
       "      <td>131</td>\n",
       "    </tr>\n",
       "    <tr>\n",
       "      <th>1</th>\n",
       "      <td>2</td>\n",
       "      <td>679.000000</td>\n",
       "      <td>954.200000</td>\n",
       "      <td>1247.560000</td>\n",
       "      <td>1522.920000</td>\n",
       "      <td>679.640000</td>\n",
       "      <td>943.000000</td>\n",
       "      <td>679.00000</td>\n",
       "      <td>955.560000</td>\n",
       "      <td>1891.240000</td>\n",
       "      <td>...</td>\n",
       "      <td>55</td>\n",
       "      <td>174</td>\n",
       "      <td>131</td>\n",
       "      <td>164</td>\n",
       "      <td>129</td>\n",
       "      <td>59</td>\n",
       "      <td>172</td>\n",
       "      <td>145</td>\n",
       "      <td>194</td>\n",
       "      <td>143</td>\n",
       "    </tr>\n",
       "    <tr>\n",
       "      <th>2</th>\n",
       "      <td>3</td>\n",
       "      <td>717.727273</td>\n",
       "      <td>1020.920000</td>\n",
       "      <td>1296.674419</td>\n",
       "      <td>1584.244444</td>\n",
       "      <td>717.880000</td>\n",
       "      <td>1029.933333</td>\n",
       "      <td>718.04000</td>\n",
       "      <td>1006.069767</td>\n",
       "      <td>2997.320000</td>\n",
       "      <td>...</td>\n",
       "      <td>6</td>\n",
       "      <td>5</td>\n",
       "      <td>8</td>\n",
       "      <td>10</td>\n",
       "      <td>48</td>\n",
       "      <td>13</td>\n",
       "      <td>21</td>\n",
       "      <td>11</td>\n",
       "      <td>8</td>\n",
       "      <td>52</td>\n",
       "    </tr>\n",
       "    <tr>\n",
       "      <th>3</th>\n",
       "      <td>4</td>\n",
       "      <td>736.840000</td>\n",
       "      <td>1031.000000</td>\n",
       "      <td>1319.000000</td>\n",
       "      <td>1628.469388</td>\n",
       "      <td>737.080000</td>\n",
       "      <td>1030.351351</td>\n",
       "      <td>736.68000</td>\n",
       "      <td>1063.240000</td>\n",
       "      <td>2999.000000</td>\n",
       "      <td>...</td>\n",
       "      <td>136</td>\n",
       "      <td>42</td>\n",
       "      <td>41</td>\n",
       "      <td>148</td>\n",
       "      <td>76</td>\n",
       "      <td>127</td>\n",
       "      <td>57</td>\n",
       "      <td>49</td>\n",
       "      <td>150</td>\n",
       "      <td>90</td>\n",
       "    </tr>\n",
       "    <tr>\n",
       "      <th>4</th>\n",
       "      <td>5</td>\n",
       "      <td>742.894737</td>\n",
       "      <td>1045.697674</td>\n",
       "      <td>1332.760000</td>\n",
       "      <td>1587.480000</td>\n",
       "      <td>743.000000</td>\n",
       "      <td>1046.102041</td>\n",
       "      <td>743.00000</td>\n",
       "      <td>1047.240000</td>\n",
       "      <td>2110.760000</td>\n",
       "      <td>...</td>\n",
       "      <td>22</td>\n",
       "      <td>98</td>\n",
       "      <td>137</td>\n",
       "      <td>130</td>\n",
       "      <td>95</td>\n",
       "      <td>13</td>\n",
       "      <td>91</td>\n",
       "      <td>128</td>\n",
       "      <td>139</td>\n",
       "      <td>82</td>\n",
       "    </tr>\n",
       "    <tr>\n",
       "      <th>...</th>\n",
       "      <td>...</td>\n",
       "      <td>...</td>\n",
       "      <td>...</td>\n",
       "      <td>...</td>\n",
       "      <td>...</td>\n",
       "      <td>...</td>\n",
       "      <td>...</td>\n",
       "      <td>...</td>\n",
       "      <td>...</td>\n",
       "      <td>...</td>\n",
       "      <td>...</td>\n",
       "      <td>...</td>\n",
       "      <td>...</td>\n",
       "      <td>...</td>\n",
       "      <td>...</td>\n",
       "      <td>...</td>\n",
       "      <td>...</td>\n",
       "      <td>...</td>\n",
       "      <td>...</td>\n",
       "      <td>...</td>\n",
       "      <td>...</td>\n",
       "    </tr>\n",
       "    <tr>\n",
       "      <th>119</th>\n",
       "      <td>121</td>\n",
       "      <td>751.545455</td>\n",
       "      <td>1051.880000</td>\n",
       "      <td>1329.240000</td>\n",
       "      <td>1591.533333</td>\n",
       "      <td>742.200000</td>\n",
       "      <td>1045.160000</td>\n",
       "      <td>741.56000</td>\n",
       "      <td>1046.120000</td>\n",
       "      <td>3026.760000</td>\n",
       "      <td>...</td>\n",
       "      <td>3</td>\n",
       "      <td>39</td>\n",
       "      <td>50</td>\n",
       "      <td>123</td>\n",
       "      <td>96</td>\n",
       "      <td>8</td>\n",
       "      <td>63</td>\n",
       "      <td>45</td>\n",
       "      <td>136</td>\n",
       "      <td>96</td>\n",
       "    </tr>\n",
       "    <tr>\n",
       "      <th>120</th>\n",
       "      <td>122</td>\n",
       "      <td>23719.700000</td>\n",
       "      <td>1024.600000</td>\n",
       "      <td>235.651163</td>\n",
       "      <td>1588.200000</td>\n",
       "      <td>735.000000</td>\n",
       "      <td>1017.400000</td>\n",
       "      <td>735.00000</td>\n",
       "      <td>1010.360000</td>\n",
       "      <td>3035.756757</td>\n",
       "      <td>...</td>\n",
       "      <td>7</td>\n",
       "      <td>55</td>\n",
       "      <td>143</td>\n",
       "      <td>50</td>\n",
       "      <td>17</td>\n",
       "      <td>8</td>\n",
       "      <td>55</td>\n",
       "      <td>125</td>\n",
       "      <td>52</td>\n",
       "      <td>9</td>\n",
       "    </tr>\n",
       "    <tr>\n",
       "      <th>121</th>\n",
       "      <td>123</td>\n",
       "      <td>747.333333</td>\n",
       "      <td>1043.000000</td>\n",
       "      <td>1330.619048</td>\n",
       "      <td>1595.000000</td>\n",
       "      <td>751.000000</td>\n",
       "      <td>1043.571429</td>\n",
       "      <td>751.00000</td>\n",
       "      <td>1043.000000</td>\n",
       "      <td>3037.160000</td>\n",
       "      <td>...</td>\n",
       "      <td>91</td>\n",
       "      <td>86</td>\n",
       "      <td>102</td>\n",
       "      <td>168</td>\n",
       "      <td>92</td>\n",
       "      <td>92</td>\n",
       "      <td>93</td>\n",
       "      <td>92</td>\n",
       "      <td>179</td>\n",
       "      <td>110</td>\n",
       "    </tr>\n",
       "    <tr>\n",
       "      <th>122</th>\n",
       "      <td>124</td>\n",
       "      <td>365.222222</td>\n",
       "      <td>1017.560000</td>\n",
       "      <td>239.108108</td>\n",
       "      <td>1579.240000</td>\n",
       "      <td>708.680000</td>\n",
       "      <td>1026.280000</td>\n",
       "      <td>708.44000</td>\n",
       "      <td>1027.000000</td>\n",
       "      <td>3020.244444</td>\n",
       "      <td>...</td>\n",
       "      <td>45</td>\n",
       "      <td>50</td>\n",
       "      <td>132</td>\n",
       "      <td>134</td>\n",
       "      <td>51</td>\n",
       "      <td>72</td>\n",
       "      <td>53</td>\n",
       "      <td>124</td>\n",
       "      <td>135</td>\n",
       "      <td>44</td>\n",
       "    </tr>\n",
       "    <tr>\n",
       "      <th>123</th>\n",
       "      <td>125</td>\n",
       "      <td>752.877551</td>\n",
       "      <td>1061.080000</td>\n",
       "      <td>1345.400000</td>\n",
       "      <td>1596.920000</td>\n",
       "      <td>728.916667</td>\n",
       "      <td>1042.906977</td>\n",
       "      <td>728.22449</td>\n",
       "      <td>1044.040000</td>\n",
       "      <td>3037.160000</td>\n",
       "      <td>...</td>\n",
       "      <td>7</td>\n",
       "      <td>13</td>\n",
       "      <td>42</td>\n",
       "      <td>2</td>\n",
       "      <td>54</td>\n",
       "      <td>4</td>\n",
       "      <td>16</td>\n",
       "      <td>39</td>\n",
       "      <td>22</td>\n",
       "      <td>54</td>\n",
       "    </tr>\n",
       "  </tbody>\n",
       "</table>\n",
       "<p>124 rows × 232 columns</p>\n",
       "</div>"
      ],
      "text/plain": [
       "     Sensor ID  13_16800_mean_middle  18_16800_mean_middle  \\\n",
       "0            1            827.000000           1069.285714   \n",
       "1            2            679.000000            954.200000   \n",
       "2            3            717.727273           1020.920000   \n",
       "3            4            736.840000           1031.000000   \n",
       "4            5            742.894737           1045.697674   \n",
       "..         ...                   ...                   ...   \n",
       "119        121            751.545455           1051.880000   \n",
       "120        122          23719.700000           1024.600000   \n",
       "121        123            747.333333           1043.000000   \n",
       "122        124            365.222222           1017.560000   \n",
       "123        125            752.877551           1061.080000   \n",
       "\n",
       "     23_16800_mean_middle  28_16800_mean_middle  13_10000_mean_middle  \\\n",
       "0             1302.076923           1590.384615            827.000000   \n",
       "1             1247.560000           1522.920000            679.640000   \n",
       "2             1296.674419           1584.244444            717.880000   \n",
       "3             1319.000000           1628.469388            737.080000   \n",
       "4             1332.760000           1587.480000            743.000000   \n",
       "..                    ...                   ...                   ...   \n",
       "119           1329.240000           1591.533333            742.200000   \n",
       "120            235.651163           1588.200000            735.000000   \n",
       "121           1330.619048           1595.000000            751.000000   \n",
       "122            239.108108           1579.240000            708.680000   \n",
       "123           1345.400000           1596.920000            728.916667   \n",
       "\n",
       "     18_10000_mean_middle  13_8000_mean_middle  18_8000_mean_middle  \\\n",
       "0             1071.000000            827.00000          1069.612245   \n",
       "1              943.000000            679.00000           955.560000   \n",
       "2             1029.933333            718.04000          1006.069767   \n",
       "3             1030.351351            736.68000          1063.240000   \n",
       "4             1046.102041            743.00000          1047.240000   \n",
       "..                    ...                  ...                  ...   \n",
       "119           1045.160000            741.56000          1046.120000   \n",
       "120           1017.400000            735.00000          1010.360000   \n",
       "121           1043.571429            751.00000          1043.000000   \n",
       "122           1026.280000            708.44000          1027.000000   \n",
       "123           1042.906977            728.22449          1044.040000   \n",
       "\n",
       "     53_8000_mean_middle  ...  delay_16800_freq_lower  delay_10000_freq_lower  \\\n",
       "0            2995.000000  ...                     102                     267   \n",
       "1            1891.240000  ...                      55                     174   \n",
       "2            2997.320000  ...                       6                       5   \n",
       "3            2999.000000  ...                     136                      42   \n",
       "4            2110.760000  ...                      22                      98   \n",
       "..                   ...  ...                     ...                     ...   \n",
       "119          3026.760000  ...                       3                      39   \n",
       "120          3035.756757  ...                       7                      55   \n",
       "121          3037.160000  ...                      91                      86   \n",
       "122          3020.244444  ...                      45                      50   \n",
       "123          3037.160000  ...                       7                      13   \n",
       "\n",
       "     delay_8000_freq_lower  delay_6000_freq_lower  delay_3000_freq_lower  \\\n",
       "0                      167                    171                    140   \n",
       "1                      131                    164                    129   \n",
       "2                        8                     10                     48   \n",
       "3                       41                    148                     76   \n",
       "4                      137                    130                     95   \n",
       "..                     ...                    ...                    ...   \n",
       "119                     50                    123                     96   \n",
       "120                    143                     50                     17   \n",
       "121                    102                    168                     92   \n",
       "122                    132                    134                     51   \n",
       "123                     42                      2                     54   \n",
       "\n",
       "     delay_16800_freq_upper  delay_10000_freq_upper  delay_8000_freq_upper  \\\n",
       "0                       105                     258                    197   \n",
       "1                        59                     172                    145   \n",
       "2                        13                      21                     11   \n",
       "3                       127                      57                     49   \n",
       "4                        13                      91                    128   \n",
       "..                      ...                     ...                    ...   \n",
       "119                       8                      63                     45   \n",
       "120                       8                      55                    125   \n",
       "121                      92                      93                     92   \n",
       "122                      72                      53                    124   \n",
       "123                       4                      16                     39   \n",
       "\n",
       "     delay_6000_freq_upper  delay_3000_freq_upper  \n",
       "0                      182                    131  \n",
       "1                      194                    143  \n",
       "2                        8                     52  \n",
       "3                      150                     90  \n",
       "4                      139                     82  \n",
       "..                     ...                    ...  \n",
       "119                    136                     96  \n",
       "120                     52                      9  \n",
       "121                    179                    110  \n",
       "122                    135                     44  \n",
       "123                     22                     54  \n",
       "\n",
       "[124 rows x 232 columns]"
      ]
     },
     "execution_count": 150,
     "metadata": {},
     "output_type": "execute_result"
    }
   ],
   "source": [
    "df"
   ]
  },
  {
   "cell_type": "markdown",
   "metadata": {},
   "source": [
    "was able to drop 51 columns but this maybe not enough therefore we have to further investigate a method for feature selection.\n",
    "\n",
    "To make this approach more lazy I wiill perform it whole data-wise"
   ]
  },
  {
   "cell_type": "code",
   "execution_count": 216,
   "metadata": {},
   "outputs": [
    {
     "name": "stdout",
     "output_type": "stream",
     "text": [
      "Number of Feature Dropped is 23. Number of Features Remained is 209\n"
     ]
    }
   ],
   "source": [
    "df_corr, dropped_features_all = drop_highly_correlated_features(df)"
   ]
  },
  {
   "cell_type": "code",
   "execution_count": 217,
   "metadata": {},
   "outputs": [
    {
     "name": "stdout",
     "output_type": "stream",
     "text": [
      "Processing integer column: Sensor ID\n",
      "Processing float column: 13_16800_mean_middle\n",
      "Processing float column: 18_16800_mean_middle\n",
      "Processing float column: 23_16800_mean_middle\n",
      "Processing float column: 28_16800_mean_middle\n",
      "Processing float column: 13_10000_mean_middle\n",
      "Processing float column: 18_10000_mean_middle\n",
      "Processing float column: 53_8000_mean_middle\n",
      "Processing float column: 13_6000_mean_middle\n",
      "Processing float column: 23_6000_mean_middle\n",
      "Processing float column: 53_6000_mean_middle\n",
      "Processing float column: 13_3000_mean_middle\n",
      "Processing float column: 18_3000_mean_middle\n",
      "Processing float column: 53_3000_mean_middle\n",
      "Processing float column: 13_16800_mean_lower\n",
      "Processing float column: 18_16800_mean_lower\n",
      "Processing float column: 23_16800_mean_lower\n",
      "Processing float column: 28_16800_mean_lower\n",
      "Processing float column: 33_16800_mean_lower\n",
      "Processing float column: 38_16800_mean_lower\n",
      "Processing float column: 43_16800_mean_lower\n",
      "Processing float column: 48_16800_mean_lower\n",
      "Processing float column: 53_16800_mean_lower\n",
      "Processing float column: 13_10000_mean_lower\n",
      "Processing float column: 18_10000_mean_lower\n",
      "Processing float column: 23_10000_mean_lower\n",
      "Processing float column: 28_10000_mean_lower\n",
      "Processing float column: 33_10000_mean_lower\n",
      "Processing float column: 38_10000_mean_lower\n",
      "Processing float column: 43_10000_mean_lower\n",
      "Processing float column: 48_10000_mean_lower\n",
      "Processing float column: 53_10000_mean_lower\n",
      "Processing float column: 13_8000_mean_lower\n",
      "Processing float column: 18_8000_mean_lower\n",
      "Processing float column: 23_8000_mean_lower\n",
      "Processing float column: 28_8000_mean_lower\n",
      "Processing float column: 33_8000_mean_lower\n",
      "Processing float column: 38_8000_mean_lower\n",
      "Processing float column: 43_8000_mean_lower\n",
      "Processing float column: 48_8000_mean_lower\n",
      "Processing float column: 53_8000_mean_lower\n",
      "Processing float column: 13_6000_mean_lower\n",
      "Processing float column: 18_6000_mean_lower\n",
      "Processing float column: 23_6000_mean_lower\n",
      "Processing float column: 28_6000_mean_lower\n",
      "Processing float column: 33_6000_mean_lower\n",
      "Processing float column: 38_6000_mean_lower\n",
      "Processing float column: 43_6000_mean_lower\n",
      "Processing float column: 48_6000_mean_lower\n",
      "Processing float column: 53_6000_mean_lower\n",
      "Processing float column: 13_3000_mean_lower\n",
      "Processing float column: 18_3000_mean_lower\n",
      "Processing float column: 23_3000_mean_lower\n",
      "Processing float column: 28_3000_mean_lower\n",
      "Processing float column: 33_3000_mean_lower\n",
      "Processing float column: 38_3000_mean_lower\n",
      "Processing float column: 43_3000_mean_lower\n",
      "Processing float column: 48_3000_mean_lower\n",
      "Processing float column: 53_3000_mean_lower\n",
      "Processing float column: 13_16800_mean_upper\n",
      "Processing float column: 18_16800_mean_upper\n",
      "Processing float column: 23_16800_mean_upper\n",
      "Processing float column: 28_16800_mean_upper\n",
      "Processing float column: 33_16800_mean_upper\n",
      "Processing float column: 38_16800_mean_upper\n",
      "Processing float column: 43_16800_mean_upper\n",
      "Processing float column: 48_16800_mean_upper\n",
      "Processing float column: 53_16800_mean_upper\n",
      "Processing float column: 13_10000_mean_upper\n",
      "Processing float column: 18_10000_mean_upper\n",
      "Processing float column: 23_10000_mean_upper\n",
      "Processing float column: 28_10000_mean_upper\n",
      "Processing float column: 33_10000_mean_upper\n",
      "Processing float column: 38_10000_mean_upper\n",
      "Processing float column: 43_10000_mean_upper\n",
      "Processing float column: 48_10000_mean_upper\n",
      "Processing float column: 53_10000_mean_upper\n",
      "Processing float column: 13_8000_mean_upper\n",
      "Processing float column: 18_8000_mean_upper\n",
      "Processing float column: 23_8000_mean_upper\n",
      "Processing float column: 28_8000_mean_upper\n",
      "Processing float column: 33_8000_mean_upper\n",
      "Processing float column: 38_8000_mean_upper\n",
      "Processing float column: 43_8000_mean_upper\n",
      "Processing float column: 48_8000_mean_upper\n",
      "Processing float column: 53_8000_mean_upper\n",
      "Processing float column: 13_6000_mean_upper\n",
      "Processing float column: 18_6000_mean_upper\n",
      "Processing float column: 23_6000_mean_upper\n",
      "Processing float column: 28_6000_mean_upper\n",
      "Processing float column: 33_6000_mean_upper\n",
      "Processing float column: 38_6000_mean_upper\n",
      "Processing float column: 43_6000_mean_upper\n",
      "Processing float column: 48_6000_mean_upper\n",
      "Processing float column: 53_6000_mean_upper\n",
      "Processing float column: 13_3000_mean_upper\n",
      "Processing float column: 18_3000_mean_upper\n",
      "Processing float column: 23_3000_mean_upper\n",
      "Processing float column: 28_3000_mean_upper\n",
      "Processing float column: 33_3000_mean_upper\n",
      "Processing float column: 38_3000_mean_upper\n",
      "Processing float column: 43_3000_mean_upper\n",
      "Processing float column: 48_3000_mean_upper\n",
      "Processing float column: 53_3000_mean_upper\n",
      "Processing float column: 18_16800_var_middle\n",
      "Processing float column: 13_10000_var_middle\n",
      "Processing float column: 18_10000_var_middle\n",
      "Processing float column: 23_10000_var_middle\n",
      "Processing float column: 28_10000_var_middle\n",
      "Processing float column: 33_10000_var_middle\n",
      "Processing float column: 38_10000_var_middle\n",
      "Processing float column: 43_10000_var_middle\n",
      "Processing float column: 48_10000_var_middle\n",
      "Processing float column: 53_10000_var_middle\n",
      "Processing float column: 13_8000_var_middle\n",
      "Processing float column: 18_8000_var_middle\n",
      "Processing float column: 23_8000_var_middle\n",
      "Processing float column: 28_8000_var_middle\n",
      "Processing float column: 33_8000_var_middle\n",
      "Processing float column: 38_8000_var_middle\n",
      "Processing float column: 43_8000_var_middle\n",
      "Processing float column: 48_8000_var_middle\n",
      "Processing float column: 53_8000_var_middle\n",
      "Processing float column: 13_6000_var_middle\n",
      "Processing float column: 18_6000_var_middle\n",
      "Processing float column: 23_6000_var_middle\n",
      "Processing float column: 28_6000_var_middle\n",
      "Processing float column: 33_6000_var_middle\n",
      "Processing float column: 38_6000_var_middle\n",
      "Processing float column: 43_6000_var_middle\n",
      "Processing float column: 53_6000_var_middle\n",
      "Processing float column: 53_3000_var_middle\n",
      "Processing float column: 13_16800_var_lower\n",
      "Processing float column: 18_16800_var_lower\n",
      "Processing float column: 23_16800_var_lower\n",
      "Processing float column: 33_16800_var_lower\n",
      "Processing float column: 38_16800_var_lower\n",
      "Processing float column: 43_16800_var_lower\n",
      "Processing float column: 53_16800_var_lower\n",
      "Processing float column: 13_10000_var_lower\n",
      "Processing float column: 18_10000_var_lower\n",
      "Processing float column: 23_10000_var_lower\n",
      "Processing float column: 28_10000_var_lower\n",
      "Processing float column: 38_10000_var_lower\n",
      "Processing float column: 43_10000_var_lower\n",
      "Processing float column: 48_10000_var_lower\n",
      "Processing float column: 53_10000_var_lower\n",
      "Processing float column: 13_8000_var_lower\n",
      "Processing float column: 23_8000_var_lower\n",
      "Processing float column: 28_8000_var_lower\n",
      "Processing float column: 33_8000_var_lower\n",
      "Processing float column: 48_8000_var_lower\n",
      "Processing float column: 53_8000_var_lower\n",
      "Processing float column: 13_6000_var_lower\n",
      "Processing float column: 18_6000_var_lower\n",
      "Processing float column: 23_6000_var_lower\n",
      "Processing float column: 28_6000_var_lower\n",
      "Processing float column: 33_6000_var_lower\n",
      "Processing float column: 38_6000_var_lower\n",
      "Processing float column: 48_6000_var_lower\n",
      "Processing float column: 13_3000_var_lower\n",
      "Processing float column: 18_3000_var_lower\n",
      "Processing float column: 28_3000_var_lower\n",
      "Processing float column: 33_3000_var_lower\n",
      "Processing float column: 38_3000_var_lower\n",
      "Processing float column: 43_3000_var_lower\n",
      "Processing float column: 48_3000_var_lower\n",
      "Processing float column: 13_16800_var_upper\n",
      "Processing float column: 33_16800_var_upper\n",
      "Processing float column: 38_16800_var_upper\n",
      "Processing float column: 13_10000_var_upper\n",
      "Processing float column: 18_10000_var_upper\n",
      "Processing float column: 23_10000_var_upper\n",
      "Processing float column: 28_10000_var_upper\n",
      "Processing float column: 33_10000_var_upper\n",
      "Processing float column: 38_10000_var_upper\n",
      "Processing float column: 43_10000_var_upper\n",
      "Processing float column: 48_10000_var_upper\n",
      "Processing float column: 53_10000_var_upper\n",
      "Processing float column: 13_8000_var_upper\n",
      "Processing float column: 18_8000_var_upper\n",
      "Processing float column: 23_8000_var_upper\n",
      "Processing float column: 28_8000_var_upper\n",
      "Processing float column: 33_8000_var_upper\n",
      "Processing float column: 38_8000_var_upper\n",
      "Processing float column: 43_8000_var_upper\n",
      "Processing float column: 48_8000_var_upper\n",
      "Processing float column: 53_8000_var_upper\n",
      "Processing float column: 13_6000_var_upper\n",
      "Processing float column: 18_6000_var_upper\n",
      "Processing float column: 28_6000_var_upper\n",
      "Processing float column: 33_6000_var_upper\n",
      "Processing float column: 38_6000_var_upper\n",
      "Processing float column: 43_6000_var_upper\n",
      "Processing float column: 48_6000_var_upper\n",
      "Processing float column: 53_6000_var_upper\n",
      "Processing float column: 13_3000_var_upper\n",
      "Processing float column: 18_3000_var_upper\n",
      "Processing float column: 23_3000_var_upper\n",
      "Processing float column: 28_3000_var_upper\n",
      "Processing float column: 33_3000_var_upper\n",
      "Processing float column: 38_3000_var_upper\n",
      "Processing float column: 43_3000_var_upper\n",
      "Processing float column: 53_3000_var_upper\n",
      "Processing integer column: delay_16800_freq_lower\n",
      "Processing integer column: delay_10000_freq_lower\n",
      "Processing integer column: delay_8000_freq_lower\n",
      "Processing integer column: delay_6000_freq_lower\n",
      "Processing integer column: delay_3000_freq_lower\n"
     ]
    }
   ],
   "source": [
    "# Get data types of each column\n",
    "data_types = df_corr.dtypes\n",
    "\n",
    "# Process columns based on their data type\n",
    "for column, dtype in data_types.items():\n",
    "    if dtype == 'float64':\n",
    "        # Handle float columns\n",
    "        print(f\"Processing float column: {column}\")\n",
    "    elif dtype == 'int64':\n",
    "        # Handle integer columns\n",
    "        print(f\"Processing integer column: {column}\")\n",
    "    elif dtype == 'object':\n",
    "        # Handle object/string columns\n",
    "        print(f\"Processing string column: {column}\")\n",
    "    else:\n",
    "        print(f\"Column: {column} has data type: {dtype} which is not specifically handled\")\n"
   ]
  },
  {
   "cell_type": "code",
   "execution_count": 218,
   "metadata": {},
   "outputs": [
    {
     "name": "stdout",
     "output_type": "stream",
     "text": [
      "Columns with NaN values and their counts:\n",
      "Series([], dtype: int64)\n"
     ]
    }
   ],
   "source": [
    "# Check for NaN values in each column\n",
    "nan_counts = df_corr.isna().sum()\n",
    "\n",
    "# Display columns with NaN values\n",
    "print(\"Columns with NaN values and their counts:\")\n",
    "print(nan_counts[nan_counts > 0])\n"
   ]
  },
  {
   "cell_type": "markdown",
   "metadata": {},
   "source": [
    "# Variability Threshold"
   ]
  },
  {
   "cell_type": "code",
   "execution_count": 211,
   "metadata": {},
   "outputs": [
    {
     "data": {
      "text/html": [
       "<div>\n",
       "<style scoped>\n",
       "    .dataframe tbody tr th:only-of-type {\n",
       "        vertical-align: middle;\n",
       "    }\n",
       "\n",
       "    .dataframe tbody tr th {\n",
       "        vertical-align: top;\n",
       "    }\n",
       "\n",
       "    .dataframe thead th {\n",
       "        text-align: right;\n",
       "    }\n",
       "</style>\n",
       "<table border=\"1\" class=\"dataframe\">\n",
       "  <thead>\n",
       "    <tr style=\"text-align: right;\">\n",
       "      <th></th>\n",
       "      <th>13_16800_mean_middle</th>\n",
       "      <th>18_16800_mean_middle</th>\n",
       "      <th>23_16800_mean_middle</th>\n",
       "      <th>28_16800_mean_middle</th>\n",
       "      <th>13_10000_mean_middle</th>\n",
       "      <th>18_10000_mean_middle</th>\n",
       "      <th>13_8000_mean_middle</th>\n",
       "      <th>18_8000_mean_middle</th>\n",
       "      <th>53_8000_mean_middle</th>\n",
       "      <th>13_6000_mean_middle</th>\n",
       "      <th>...</th>\n",
       "      <th>delay_10000_freq_lower</th>\n",
       "      <th>delay_8000_freq_lower</th>\n",
       "      <th>delay_6000_freq_lower</th>\n",
       "      <th>delay_3000_freq_lower</th>\n",
       "      <th>delay_16800_freq_upper</th>\n",
       "      <th>delay_10000_freq_upper</th>\n",
       "      <th>delay_8000_freq_upper</th>\n",
       "      <th>delay_6000_freq_upper</th>\n",
       "      <th>delay_3000_freq_upper</th>\n",
       "      <th>Sensor ID</th>\n",
       "    </tr>\n",
       "  </thead>\n",
       "  <tbody>\n",
       "    <tr>\n",
       "      <th>0</th>\n",
       "      <td>827.000000</td>\n",
       "      <td>1069.285714</td>\n",
       "      <td>1302.076923</td>\n",
       "      <td>1590.384615</td>\n",
       "      <td>827.00</td>\n",
       "      <td>1071.000000</td>\n",
       "      <td>827.00</td>\n",
       "      <td>1069.612245</td>\n",
       "      <td>2995.00</td>\n",
       "      <td>827.00</td>\n",
       "      <td>...</td>\n",
       "      <td>267.0</td>\n",
       "      <td>167.0</td>\n",
       "      <td>171.0</td>\n",
       "      <td>140.0</td>\n",
       "      <td>105.0</td>\n",
       "      <td>258.0</td>\n",
       "      <td>197.0</td>\n",
       "      <td>182.0</td>\n",
       "      <td>131.0</td>\n",
       "      <td>1</td>\n",
       "    </tr>\n",
       "    <tr>\n",
       "      <th>1</th>\n",
       "      <td>679.000000</td>\n",
       "      <td>954.200000</td>\n",
       "      <td>1247.560000</td>\n",
       "      <td>1522.920000</td>\n",
       "      <td>679.64</td>\n",
       "      <td>943.000000</td>\n",
       "      <td>679.00</td>\n",
       "      <td>955.560000</td>\n",
       "      <td>1891.24</td>\n",
       "      <td>679.00</td>\n",
       "      <td>...</td>\n",
       "      <td>174.0</td>\n",
       "      <td>131.0</td>\n",
       "      <td>164.0</td>\n",
       "      <td>129.0</td>\n",
       "      <td>59.0</td>\n",
       "      <td>172.0</td>\n",
       "      <td>145.0</td>\n",
       "      <td>194.0</td>\n",
       "      <td>143.0</td>\n",
       "      <td>2</td>\n",
       "    </tr>\n",
       "    <tr>\n",
       "      <th>2</th>\n",
       "      <td>717.727273</td>\n",
       "      <td>1020.920000</td>\n",
       "      <td>1296.674419</td>\n",
       "      <td>1584.244444</td>\n",
       "      <td>717.88</td>\n",
       "      <td>1029.933333</td>\n",
       "      <td>718.04</td>\n",
       "      <td>1006.069767</td>\n",
       "      <td>2997.32</td>\n",
       "      <td>717.24</td>\n",
       "      <td>...</td>\n",
       "      <td>5.0</td>\n",
       "      <td>8.0</td>\n",
       "      <td>10.0</td>\n",
       "      <td>48.0</td>\n",
       "      <td>13.0</td>\n",
       "      <td>21.0</td>\n",
       "      <td>11.0</td>\n",
       "      <td>8.0</td>\n",
       "      <td>52.0</td>\n",
       "      <td>3</td>\n",
       "    </tr>\n",
       "    <tr>\n",
       "      <th>3</th>\n",
       "      <td>736.840000</td>\n",
       "      <td>1031.000000</td>\n",
       "      <td>1319.000000</td>\n",
       "      <td>1628.469388</td>\n",
       "      <td>737.08</td>\n",
       "      <td>1030.351351</td>\n",
       "      <td>736.68</td>\n",
       "      <td>1063.240000</td>\n",
       "      <td>2999.00</td>\n",
       "      <td>736.92</td>\n",
       "      <td>...</td>\n",
       "      <td>42.0</td>\n",
       "      <td>41.0</td>\n",
       "      <td>148.0</td>\n",
       "      <td>76.0</td>\n",
       "      <td>127.0</td>\n",
       "      <td>57.0</td>\n",
       "      <td>49.0</td>\n",
       "      <td>150.0</td>\n",
       "      <td>90.0</td>\n",
       "      <td>4</td>\n",
       "    </tr>\n",
       "    <tr>\n",
       "      <th>4</th>\n",
       "      <td>742.894737</td>\n",
       "      <td>1045.697674</td>\n",
       "      <td>1332.760000</td>\n",
       "      <td>1587.480000</td>\n",
       "      <td>743.00</td>\n",
       "      <td>1046.102041</td>\n",
       "      <td>743.00</td>\n",
       "      <td>1047.240000</td>\n",
       "      <td>2110.76</td>\n",
       "      <td>743.00</td>\n",
       "      <td>...</td>\n",
       "      <td>98.0</td>\n",
       "      <td>137.0</td>\n",
       "      <td>130.0</td>\n",
       "      <td>95.0</td>\n",
       "      <td>13.0</td>\n",
       "      <td>91.0</td>\n",
       "      <td>128.0</td>\n",
       "      <td>139.0</td>\n",
       "      <td>82.0</td>\n",
       "      <td>5</td>\n",
       "    </tr>\n",
       "  </tbody>\n",
       "</table>\n",
       "<p>5 rows × 232 columns</p>\n",
       "</div>"
      ],
      "text/plain": [
       "   13_16800_mean_middle  18_16800_mean_middle  23_16800_mean_middle  \\\n",
       "0            827.000000           1069.285714           1302.076923   \n",
       "1            679.000000            954.200000           1247.560000   \n",
       "2            717.727273           1020.920000           1296.674419   \n",
       "3            736.840000           1031.000000           1319.000000   \n",
       "4            742.894737           1045.697674           1332.760000   \n",
       "\n",
       "   28_16800_mean_middle  13_10000_mean_middle  18_10000_mean_middle  \\\n",
       "0           1590.384615                827.00           1071.000000   \n",
       "1           1522.920000                679.64            943.000000   \n",
       "2           1584.244444                717.88           1029.933333   \n",
       "3           1628.469388                737.08           1030.351351   \n",
       "4           1587.480000                743.00           1046.102041   \n",
       "\n",
       "   13_8000_mean_middle  18_8000_mean_middle  53_8000_mean_middle  \\\n",
       "0               827.00          1069.612245              2995.00   \n",
       "1               679.00           955.560000              1891.24   \n",
       "2               718.04          1006.069767              2997.32   \n",
       "3               736.68          1063.240000              2999.00   \n",
       "4               743.00          1047.240000              2110.76   \n",
       "\n",
       "   13_6000_mean_middle  ...  delay_10000_freq_lower  delay_8000_freq_lower  \\\n",
       "0               827.00  ...                   267.0                  167.0   \n",
       "1               679.00  ...                   174.0                  131.0   \n",
       "2               717.24  ...                     5.0                    8.0   \n",
       "3               736.92  ...                    42.0                   41.0   \n",
       "4               743.00  ...                    98.0                  137.0   \n",
       "\n",
       "   delay_6000_freq_lower  delay_3000_freq_lower  delay_16800_freq_upper  \\\n",
       "0                  171.0                  140.0                   105.0   \n",
       "1                  164.0                  129.0                    59.0   \n",
       "2                   10.0                   48.0                    13.0   \n",
       "3                  148.0                   76.0                   127.0   \n",
       "4                  130.0                   95.0                    13.0   \n",
       "\n",
       "   delay_10000_freq_upper  delay_8000_freq_upper  delay_6000_freq_upper  \\\n",
       "0                   258.0                  197.0                  182.0   \n",
       "1                   172.0                  145.0                  194.0   \n",
       "2                    21.0                   11.0                    8.0   \n",
       "3                    57.0                   49.0                  150.0   \n",
       "4                    91.0                  128.0                  139.0   \n",
       "\n",
       "   delay_3000_freq_upper  Sensor ID  \n",
       "0                  131.0          1  \n",
       "1                  143.0          2  \n",
       "2                   52.0          3  \n",
       "3                   90.0          4  \n",
       "4                   82.0          5  \n",
       "\n",
       "[5 rows x 232 columns]"
      ]
     },
     "execution_count": 211,
     "metadata": {},
     "output_type": "execute_result"
    }
   ],
   "source": [
    "from sklearn.feature_selection import VarianceThreshold\n",
    "\n",
    "\n",
    "# Drop 'Sensor ID' column\n",
    "data_without_id = df.drop(columns=['Sensor ID'])\n",
    "\n",
    "# Apply Variance Threshold\n",
    "selector = VarianceThreshold(threshold=0.1)\n",
    "selected_features = selector.fit_transform(data_without_id)\n",
    "\n",
    "# Create DataFrame with selected features\n",
    "selected_features_df = pd.DataFrame(selected_features, columns=data_without_id.columns[selector.get_support(indices=True)])\n",
    "selected_features_df['Sensor ID'] = data['Sensor ID']\n",
    "\n",
    "selected_features_df.head()"
   ]
  },
  {
   "cell_type": "markdown",
   "metadata": {},
   "source": [
    "# Mutural Information\n",
    "\n",
    "Mutual information measures the dependency between variables and can be used for feature selection. \n",
    "\n",
    "Mutual Information measures the amount of information obtained about one random variable through another random variable.\n",
    "It is a measure of the general dependency between variables, not restricted to linear relationships.\n",
    "\n",
    "Although mutual information is typically used in supervised learning to measure the dependency between each feature and the target variable, it can be adapted for unsupervised learning by measuring the mutual information between pairs of features and selecting those with the highest average mutual information."
   ]
  },
  {
   "cell_type": "code",
   "execution_count": 293,
   "metadata": {},
   "outputs": [],
   "source": [
    "import pandas as pd\n",
    "import numpy as np\n",
    "from sklearn.feature_selection import mutual_info_regression\n",
    "from sklearn.preprocessing import LabelEncoder\n",
    "\n",
    "\n",
    "def calculate_mutual_information(df):\n",
    "    \"\"\"\n",
    "    Calculate the mutual information for each pair of features.\n",
    "    \n",
    "    Parameters:\n",
    "    df (pd.DataFrame): The input DataFrame.\n",
    "    \n",
    "    Returns:\n",
    "    pd.DataFrame: DataFrame with mutual information values.\n",
    "    \"\"\"\n",
    "    mi_matrix = pd.DataFrame(index=df.columns, columns=df.columns)\n",
    "    for col1 in df.columns:\n",
    "        for col2 in df.columns:\n",
    "            if col1 != col2:\n",
    "                mi_matrix.loc[col1, col2] = mutual_info_regression(df[[col1]], df[col2])[0]\n",
    "            else:\n",
    "                mi_matrix.loc[col1, col2] = 0  # Self-information is not useful\n",
    "    return mi_matrix\n",
    "\n",
    "def average_mutual_information(mi_matrix):\n",
    "    \"\"\"\n",
    "    Calculate the average mutual information for each feature.\n",
    "    \n",
    "    Parameters:\n",
    "    mi_matrix (pd.DataFrame): DataFrame with mutual information values.\n",
    "    \n",
    "    Returns:\n",
    "    pd.Series: Series with average mutual information values for each feature.\n",
    "    \"\"\"\n",
    "    avg_mi = mi_matrix.mean(axis=1)\n",
    "    return avg_mi\n",
    "\n",
    "def select_top_features(df, top_n=10):\n",
    "    \"\"\"\n",
    "    Select top features based on average mutual information.\n",
    "    \n",
    "    Parameters:\n",
    "    df (pd.DataFrame): The input DataFrame.\n",
    "    top_n (int): Number of top features to select.\n",
    "    \n",
    "    Returns:\n",
    "    pd.DataFrame: DataFrame with selected top features.\n",
    "    \"\"\"\n",
    "    # Drop 'Sensor ID' column\n",
    "    data_without_id = df.drop(columns=['Sensor ID'])\n",
    "    mi_matrix = calculate_mutual_information(data_without_id)\n",
    "    avg_mi = average_mutual_information(mi_matrix)\n",
    "\n",
    "    #----\n",
    "    df_avg_mi = pd.DataFrame(avg_mi,columns=[\"avg_mi\"])\n",
    "    df_avg_mi[\"avg_mi\"] = df_avg_mi[\"avg_mi\"].astype(float)\n",
    "    top_features = df_avg_mi.nlargest(top_n,\"avg_mi\").index\n",
    "\n",
    "    tf_list = top_features.tolist()\n",
    "    tf_list.append(\"Sensor ID\")\n",
    "    \n",
    "    return df[tf_list], mi_matrix, avg_mi"
   ]
  },
  {
   "cell_type": "markdown",
   "metadata": {},
   "source": [
    "### Batch correlation removed data"
   ]
  },
  {
   "cell_type": "code",
   "execution_count": 338,
   "metadata": {},
   "outputs": [],
   "source": [
    "# Select top features\n",
    "df_mi, mi_matrix, avg_mi = select_top_features(df)"
   ]
  },
  {
   "cell_type": "code",
   "execution_count": 339,
   "metadata": {},
   "outputs": [
    {
     "data": {
      "text/plain": [
       "Index(['18_16800_mean_middle', '13_6000_mean_middle', '18_3000_mean_middle',\n",
       "       '23_16800_mean_middle', '13_3000_mean_middle', '23_6000_mean_middle',\n",
       "       '13_10000_mean_middle', '28_16800_mean_middle', '18_10000_mean_middle',\n",
       "       '13_8000_mean_middle', 'Sensor ID'],\n",
       "      dtype='object')"
      ]
     },
     "execution_count": 339,
     "metadata": {},
     "output_type": "execute_result"
    }
   ],
   "source": [
    "df_mi.columns"
   ]
  },
  {
   "cell_type": "markdown",
   "metadata": {},
   "source": [
    "### Batch correlation removed data with top n 50"
   ]
  },
  {
   "cell_type": "code",
   "execution_count": 340,
   "metadata": {},
   "outputs": [],
   "source": [
    "df_mi_50, mi_matrix, avg_mi = select_top_features(df,top_n=50)"
   ]
  },
  {
   "cell_type": "code",
   "execution_count": 341,
   "metadata": {},
   "outputs": [
    {
     "data": {
      "text/plain": [
       "Index(['18_16800_mean_middle', '13_6000_mean_middle', '18_3000_mean_middle',\n",
       "       '23_16800_mean_middle', '13_3000_mean_middle', '23_6000_mean_middle',\n",
       "       '13_10000_mean_middle', '28_16800_mean_middle', '18_10000_mean_middle',\n",
       "       '13_8000_mean_middle', '18_6000_mean_middle', '18_8000_mean_middle',\n",
       "       '53_8000_mean_middle', '53_6000_mean_middle', '53_3000_mean_middle',\n",
       "       '13_16800_mean_middle', '18_6000_mean_upper', '33_8000_mean_upper',\n",
       "       '43_3000_mean_upper', '18_6000_mean_lower', '33_3000_mean_upper',\n",
       "       '38_3000_mean_upper', '28_6000_mean_upper', '23_6000_mean_upper',\n",
       "       '33_6000_mean_upper', '28_8000_mean_upper', '18_10000_mean_lower',\n",
       "       '13_3000_mean_upper', '13_10000_mean_upper', '43_10000_mean_upper',\n",
       "       '13_8000_mean_upper', '23_8000_mean_upper', '13_6000_mean_lower',\n",
       "       '33_10000_mean_upper', '33_10000_mean_lower', '43_6000_mean_upper',\n",
       "       '13_8000_mean_lower', '28_6000_mean_lower', '38_10000_mean_lower',\n",
       "       '18_3000_mean_upper', '13_6000_mean_upper', '38_6000_mean_upper',\n",
       "       '28_10000_mean_upper', '48_3000_mean_upper', '23_10000_mean_lower',\n",
       "       '23_6000_mean_lower', '28_3000_mean_upper', '33_6000_mean_lower',\n",
       "       '33_16800_mean_upper', '53_3000_mean_lower', 'Sensor ID'],\n",
       "      dtype='object')"
      ]
     },
     "execution_count": 341,
     "metadata": {},
     "output_type": "execute_result"
    }
   ],
   "source": [
    "df_mi_50.columns"
   ]
  },
  {
   "cell_type": "markdown",
   "metadata": {},
   "source": [
    "### lazy correlation remove df "
   ]
  },
  {
   "cell_type": "code",
   "execution_count": 342,
   "metadata": {},
   "outputs": [],
   "source": [
    "# Select top features\n",
    "df_mi_corr, mi_matrix_corr, avg_mi_corr = select_top_features(df_corr)"
   ]
  },
  {
   "cell_type": "code",
   "execution_count": 343,
   "metadata": {},
   "outputs": [
    {
     "data": {
      "text/plain": [
       "Index(['23_16800_mean_middle', '18_16800_mean_middle', '13_6000_mean_middle',\n",
       "       '13_3000_mean_middle', '23_6000_mean_middle', '18_3000_mean_middle',\n",
       "       '28_16800_mean_middle', '53_8000_mean_middle', '13_10000_mean_middle',\n",
       "       '53_6000_mean_middle', 'Sensor ID'],\n",
       "      dtype='object')"
      ]
     },
     "execution_count": 343,
     "metadata": {},
     "output_type": "execute_result"
    }
   ],
   "source": [
    "df_mi_corr.columns"
   ]
  },
  {
   "cell_type": "code",
   "execution_count": 346,
   "metadata": {},
   "outputs": [],
   "source": [
    "# Select top features\n",
    "df_mi_corr_50, mi_matrix_corr_50, avg_mi_corr_50 = select_top_features(df_corr,top_n=50)"
   ]
  },
  {
   "cell_type": "code",
   "execution_count": 347,
   "metadata": {},
   "outputs": [
    {
     "data": {
      "text/plain": [
       "Index(['23_16800_mean_middle', '18_16800_mean_middle', '13_6000_mean_middle',\n",
       "       '13_3000_mean_middle', '23_6000_mean_middle', '28_16800_mean_middle',\n",
       "       '18_3000_mean_middle', '53_8000_mean_middle', '13_10000_mean_middle',\n",
       "       '53_6000_mean_middle', '18_10000_mean_middle', '53_3000_mean_middle',\n",
       "       '13_16800_mean_middle', '18_6000_mean_upper', '43_3000_mean_upper',\n",
       "       '33_8000_mean_upper', '18_6000_mean_lower', '33_6000_mean_upper',\n",
       "       '28_6000_mean_upper', '13_3000_mean_upper', '23_6000_mean_upper',\n",
       "       '33_3000_mean_upper', '38_3000_mean_upper', '28_8000_mean_upper',\n",
       "       '33_10000_mean_lower', '28_6000_mean_lower', '18_10000_mean_lower',\n",
       "       '13_8000_mean_upper', '13_6000_mean_upper', '43_6000_mean_upper',\n",
       "       '53_6000_mean_lower', '18_3000_mean_upper', '28_10000_mean_upper',\n",
       "       '43_10000_mean_upper', '18_3000_mean_lower', '33_10000_mean_upper',\n",
       "       '43_8000_mean_upper', '33_8000_mean_lower', '38_6000_mean_lower',\n",
       "       '38_10000_mean_lower', '48_3000_mean_upper', '28_16800_mean_lower',\n",
       "       '33_16800_mean_upper', '28_3000_mean_upper', '23_10000_mean_lower',\n",
       "       '33_6000_mean_lower', '23_10000_mean_upper', '18_10000_mean_upper',\n",
       "       '38_8000_mean_upper', '13_10000_mean_upper', 'Sensor ID'],\n",
       "      dtype='object')"
      ]
     },
     "execution_count": 347,
     "metadata": {},
     "output_type": "execute_result"
    }
   ],
   "source": [
    "df_mi_corr_50.columns"
   ]
  },
  {
   "cell_type": "markdown",
   "metadata": {},
   "source": [
    "# Investigate data selection performance using PCA"
   ]
  },
  {
   "cell_type": "code",
   "execution_count": null,
   "metadata": {},
   "outputs": [],
   "source": [
    "import numpy as np\n",
    "import pandas as pd\n",
    "from sklearn.decomposition import PCA\n",
    "from sklearn.preprocessing import StandardScaler\n",
    "import matplotlib.pyplot as plt\n",
    "import plotly.express as px\n",
    "from sklearn.model_selection import cross_val_score\n",
    "from sklearn.linear_model import LogisticRegression\n",
    "from sklearn.cluster import KMeans\n",
    "from sklearn.metrics import silhouette_score\n",
    "\n",
    "def evaluate_pca(df, n_components=10, color_column='Sensor ID', n_clusters=3, n_components_to_use=5):\n",
    "    \"\"\"\n",
    "    Perform PCA on a dataset and evaluate it using various metrics.\n",
    "\n",
    "    Parameters:\n",
    "    - file_path (str): Path to the CSV file containing the dataset.\n",
    "    - n_components (int): Number of principal components to compute.\n",
    "    - fill_method (str): Method to fill NaN values ('mean', 'median', 'zero').\n",
    "    - color_column (str): Column name to use for coloring the points in the plot.\n",
    "    - n_clusters (int): Number of clusters to use for silhouette score.\n",
    "    - n_components_to_use (int): Number of principal components to use for downstream task performance.\n",
    "\n",
    "    Returns:\n",
    "    - dict: Dictionary containing various evaluation scores.\n",
    "    \"\"\"\n",
    "\n",
    "    # Standardize the data\n",
    "    scaler = StandardScaler()\n",
    "    data_scaled = scaler.fit_transform(df)\n",
    "\n",
    "    # Apply PCA\n",
    "    pca = PCA(n_components=n_components)\n",
    "    principal_components = pca.fit_transform(data_scaled)\n",
    "\n",
    "    # Explained variance ratio\n",
    "    explained_variance = pca.explained_variance_ratio_\n",
    "    cumulative_variance = np.cumsum(explained_variance)\n",
    "\n",
    "    # Plot explained variance\n",
    "    plt.figure(figsize=(10, 6))\n",
    "    plt.bar(range(1, len(explained_variance) + 1), explained_variance, alpha=0.7, align='center')\n",
    "    plt.step(range(1, len(cumulative_variance) + 1), cumulative_variance, where='mid')\n",
    "    plt.xlabel('Principal Components')\n",
    "    plt.ylabel('Explained Variance Ratio')\n",
    "    plt.title('Explained Variance by Principal Components')\n",
    "    plt.show()\n",
    "\n",
    "    # Reconstruction Error\n",
    "    reconstructed_data = pca.inverse_transform(principal_components)\n",
    "    reconstruction_error = np.mean((data_scaled - reconstructed_data) ** 2)\n",
    "\n",
    "    # Visualization 2D\n",
    "    pca_2d = PCA(n_components=2)\n",
    "    principal_components_2d = pca_2d.fit_transform(data_scaled)\n",
    "    pca_df_2d = pd.DataFrame(data=principal_components_2d, columns=['PC1', 'PC2'])\n",
    "    pca_df_2d[color_column] = data[color_column]\n",
    "    fig = px.scatter(pca_df_2d, x='PC1', y='PC2', color=color_column, title='2D PCA Visualization')\n",
    "    fig.show()\n",
    "\n",
    "    # Visualization 3D\n",
    "    pca_3d = PCA(n_components=3)\n",
    "    principal_components_3d = pca_3d.fit_transform(data_scaled)\n",
    "    pca_df_3d = pd.DataFrame(data=principal_components_3d, columns=['PC1', 'PC2', 'PC3'])\n",
    "    pca_df_3d[color_column] = data[color_column]\n",
    "    fig = px.scatter_3d(pca_df_3d, x='PC1', y='PC2', z='PC3', color=color_column, title='3D PCA Visualization')\n",
    "    fig.show()\n",
    "\n",
    "\n",
    "    # Silhouette Score (for clustering)\n",
    "    kmeans = KMeans(n_clusters=n_clusters)\n",
    "    clusters = kmeans.fit_predict(principal_components)\n",
    "    silhouette_score_value = silhouette_score(principal_components, clusters)\n",
    "\n",
    "    results = {\n",
    "        'explained_variance_ratio': explained_variance,\n",
    "        'cumulative_explained_variance': cumulative_variance,\n",
    "        'reconstruction_error': reconstruction_error,\n",
    "        'silhouette_score': silhouette_score_value\n",
    "    }\n",
    "\n",
    "    return results"
   ]
  },
  {
   "cell_type": "markdown",
   "metadata": {},
   "source": [
    "## Unprocessed Data\n",
    "First try with unprocessed raw Data"
   ]
  },
  {
   "cell_type": "code",
   "execution_count": null,
   "metadata": {},
   "outputs": [
    {
     "data": {
      "image/png": "[encoded data removed]",
      "text/plain": [
       "<Figure size 1000x600 with 1 Axes>"
      ]
     },
     "metadata": {},
     "output_type": "display_data"
    },
    {
     "data": {
      "application/vnd.plotly.v1+json": {
       "config": {
        "plotlyServerURL": "https://plot.ly"
       },
       "data": [
        {
         "hovertemplate": "PC1=%{x}<br>PC2=%{y}<br>Sensor ID=%{marker.color}<extra></extra>",
         "legendgroup": "",
         "marker": {
          "color": [
           1,
           2,
           3,
           4,
           5,
           6,
           7,
           8,
           9,
           10,
           11,
           12,
           13,
           14,
           15,
           16,
           17,
           18,
           19,
           20,
           21,
           22,
           23,
           24,
           25,
           26,
           27,
           28,
           29,
           30,
           32,
           33,
           34,
           35,
           36,
           37,
           38,
           39,
           40,
           41,
           42,
           43,
           44,
           45,
           46,
           47,
           48,
           49,
           50,
           51,
           52,
           53,
           54,
           55,
           56,
           57,
           58,
           59,
           60,
           61,
           62,
           63,
           64,
           65,
           66,
           67,
           68,
           69,
           70,
           71,
           72,
           73,
           74,
           75,
           76,
           77,
           78,
           79,
           80,
           81,
           82,
           83,
           84,
           85,
           86,
           87,
           88,
           89,
           90,
           91,
           92,
           93,
           94,
           95,
           96,
           97,
           98,
           99,
           100,
           101,
           102,
           103,
           104,
           105,
           106,
           107,
           108,
           109,
           110,
           111,
           112,
           113,
           114,
           115,
           116,
           117,
           118,
           119,
           120,
           121,
           122,
           123,
           124,
           125
          ],
          "coloraxis": "coloraxis",
          "symbol": "circle"
         },
         "mode": "markers",
         "name": "",
         "orientation": "v",
         "showlegend": false,
         "type": "scatter",
         "x": [
          -2.8235532949999054,
          7.8846592106092235,
          1.3859859578728289,
          -2.6017752222868986,
          -0.10365439442702284,
          0.743463143350064,
          -0.0246933185564414,
          -2.7448050160511386,
          -4.985264651973099,
          -3.73635039599558,
          -2.399184941246856,
          -0.42791794269264033,
          -0.14827490684966554,
          0.5113441015476831,
          0.7711669564594492,
          -2.7592502832857537,
          1.323343973256227,
          0.2683234976668459,
          0.1763085757078959,
          22.333083027236007,
          -0.2751900490468,
          -2.310114253894238,
          -3.272513567944051,
          0.723027516856035,
          -4.048524726744571,
          -2.356812462127712,
          -1.2773387635847635,
          -0.5386430510903056,
          -3.510663710522848,
          -1.4254743406189556,
          -2.5194974647801676,
          0.38002995774731974,
          7.676369021697679,
          -1.7059739421252067,
          -1.9009005972070017,
          6.83248684520105,
          -2.4906089107490548,
          -1.9983438874716717,
          -1.3974038842048977,
          0.22846551524172734,
          1.7899228427926803,
          -0.754400921247027,
          2.2248629912426794,
          -2.2301694280908695,
          -0.31046792492298275,
          15.588625366087948,
          1.5008080517088815,
          0.3117743895639009,
          0.31530946608769866,
          0.3382438192031222,
          -2.6346600336916066,
          -2.816633492972589,
          -2.013514348536544,
          -0.14034497868167248,
          0.10269274495758397,
          -1.0634638480582888,
          1.0823658631193023,
          0.3818157733541612,
          -0.8432115424799392,
          2.3832819813420008,
          -1.5654254929244251,
          -1.8494928713281018,
          2.572370020336946,
          -5.511088028623299,
          -2.5385770387501823,
          -2.9984052573175717,
          -8.453809651537762,
          1.7462455396877299,
          -2.7882218300747734,
          -2.9459973421487775,
          1.3021752241534188,
          -1.9954914282321325,
          -1.0878923261862583,
          38.49545935890237,
          1.9642998865005146,
          7.32872660728488,
          0.8671344292050366,
          -7.305277705634364,
          -1.3679225919257807,
          -5.8078058196679585,
          -2.4370200754223874,
          -0.8660738230838609,
          -5.5212009074533235,
          -5.356106071865084,
          7.153921897258734,
          -3.91323511572151,
          -3.0581711100564224,
          -1.596314221360569,
          -1.8703761834645634,
          -2.9456715242390663,
          -2.902868088358917,
          4.836164024993098,
          6.6762333223240065,
          7.9737545680730255,
          -1.9109629255746887,
          -5.6240928594815,
          -1.0207674820575676,
          -0.5131426168372952,
          -1.846183545480286,
          -2.3825408474057914,
          -6.435736019471018,
          -4.195958953804185,
          -2.4954392766028377,
          3.0858759114297056,
          9.360958374758727,
          7.699898427353942,
          -2.652307773134805,
          1.739039529602043,
          -2.8290867713490466,
          -1.03768421992857,
          -0.7957777605650415,
          1.4023186867946966,
          -1.9809442469679592,
          -1.1126336843557905,
          -0.6398534835385397,
          -0.5391109000853401,
          1.0267016357931376,
          -0.4050059725329005,
          -0.0958029204103814,
          -0.7749974656057197,
          1.117003905141295,
          -0.882581766353191,
          1.15744000466016,
          -1.320831448085089
         ],
         "xaxis": "x",
         "y": [
          2.0646335583537176,
          -8.306114799024435,
          -2.9282753575426383,
          1.658262434210896,
          -0.23184976748272634,
          -1.2553691193382022,
          -1.5643416897355469,
          1.2242486259099277,
          4.183080766650614,
          3.371085676900689,
          1.6131765434475098,
          0.23413439508101944,
          -1.1370884011342348,
          -1.7029106719105371,
          -0.7224414023943917,
          0.7587242487321143,
          -2.5779381267940114,
          -2.0440021199935083,
          -0.9451590531523606,
          11.563451086363758,
          -0.37367154806951125,
          1.401211046609455,
          2.0689668827636756,
          -1.672933300878076,
          2.4361292914527928,
          2.1572948361259296,
          1.7409282390920775,
          0.09471091882386476,
          2.1907134354983606,
          0.8016395717256012,
          2.761359096986868,
          -1.0787902058384402,
          -9.580740786838234,
          0.9751637760795475,
          1.608367269102518,
          -0.6832761752973718,
          1.3618509092495514,
          0.34204035912980196,
          0.2215244692921543,
          -2.2532759947776424,
          -2.4739514185953753,
          0.19794468425237619,
          -3.370575206899032,
          1.4154639866107692,
          0.1067249377637807,
          -14.228029455817733,
          -2.575284689148094,
          -1.2531554786224504,
          -1.126705182686441,
          -0.6356889735872869,
          1.923657112419962,
          2.4330379330782193,
          0.7998902284310407,
          1.1872738638136144,
          -1.5931563872594163,
          -0.12243046745192933,
          -2.2424831647488146,
          -0.6798743381090695,
          -0.6594192607543428,
          -2.4734326148131407,
          0.2990121024667683,
          0.21385674107303415,
          -3.0671059382610966,
          4.0684364143504546,
          1.0121430095712467,
          2.351969080579765,
          7.847567048427235,
          -0.9023607883948205,
          1.3333351528790711,
          1.8706566410319494,
          -1.9738125480836592,
          1.3447748590696742,
          -0.10261117253344912,
          28.353561227246654,
          -3.2605916521991682,
          -7.460313802900138,
          -1.692711297283237,
          6.169636009787038,
          0.6030366599869662,
          3.50048642771859,
          1.736689907638625,
          1.5630657488160766,
          4.44634558772352,
          4.770086420983545,
          -8.05933868135271,
          2.800280946370381,
          2.0176854231394543,
          0.26809547146127677,
          0.4828949392815178,
          1.3881123860190643,
          2.9277374946987633,
          -6.435465279737045,
          -7.686254045117459,
          -7.943677331307994,
          1.0567887128503362,
          5.545919584165424,
          0.8640941347883809,
          -0.8288791552943153,
          0.12158616151310146,
          2.3763867149121345,
          6.10991015873967,
          3.111335717877339,
          1.5013839414116814,
          -5.095653393676934,
          -10.042571439496793,
          -7.237629882470709,
          1.9498318443489981,
          -2.728901938327726,
          1.1029634501188714,
          -0.2946241243385606,
          -0.16770992815205576,
          -2.5692764341164733,
          0.38588926561091685,
          -0.0028967908544973143,
          -1.1185615867204688,
          -0.7186599209698694,
          -1.492401098391443,
          -0.32322043289176317,
          -1.3176667460438949,
          -0.8250722306489036,
          -2.498307267233722,
          -0.0931704415049319,
          -2.0632844277807,
          0.10284936416978298
         ],
         "yaxis": "y"
        }
       ],
       "layout": {
        "coloraxis": {
         "colorbar": {
          "title": {
           "text": "Sensor ID"
          }
         },
         "colorscale": [
          [
           0,
           "#0d0887"
          ],
          [
           0.1111111111111111,
           "#46039f"
          ],
          [
           0.2222222222222222,
           "#7201a8"
          ],
          [
           0.3333333333333333,
           "#9c179e"
          ],
          [
           0.4444444444444444,
           "#bd3786"
          ],
          [
           0.5555555555555556,
           "#d8576b"
          ],
          [
           0.6666666666666666,
           "#ed7953"
          ],
          [
           0.7777777777777778,
           "#fb9f3a"
          ],
          [
           0.8888888888888888,
           "#fdca26"
          ],
          [
           1,
           "#f0f921"
          ]
         ]
        },
        "legend": {
         "tracegroupgap": 0
        },
        "template": {
         "data": {
          "bar": [
           {
            "error_x": {
             "color": "#2a3f5f"
            },
            "error_y": {
             "color": "#2a3f5f"
            },
            "marker": {
             "line": {
              "color": "#E5ECF6",
              "width": 0.5
             },
             "pattern": {
              "fillmode": "overlay",
              "size": 10,
              "solidity": 0.2
             }
            },
            "type": "bar"
           }
          ],
          "barpolar": [
           {
            "marker": {
             "line": {
              "color": "#E5ECF6",
              "width": 0.5
             },
             "pattern": {
              "fillmode": "overlay",
              "size": 10,
              "solidity": 0.2
             }
            },
            "type": "barpolar"
           }
          ],
          "carpet": [
           {
            "aaxis": {
             "endlinecolor": "#2a3f5f",
             "gridcolor": "white",
             "linecolor": "white",
             "minorgridcolor": "white",
             "startlinecolor": "#2a3f5f"
            },
            "baxis": {
             "endlinecolor": "#2a3f5f",
             "gridcolor": "white",
             "linecolor": "white",
             "minorgridcolor": "white",
             "startlinecolor": "#2a3f5f"
            },
            "type": "carpet"
           }
          ],
          "choropleth": [
           {
            "colorbar": {
             "outlinewidth": 0,
             "ticks": ""
            },
            "type": "choropleth"
           }
          ],
          "contour": [
           {
            "colorbar": {
             "outlinewidth": 0,
             "ticks": ""
            },
            "colorscale": [
             [
              0,
              "#0d0887"
             ],
             [
              0.1111111111111111,
              "#46039f"
             ],
             [
              0.2222222222222222,
              "#7201a8"
             ],
             [
              0.3333333333333333,
              "#9c179e"
             ],
             [
              0.4444444444444444,
              "#bd3786"
             ],
             [
              0.5555555555555556,
              "#d8576b"
             ],
             [
              0.6666666666666666,
              "#ed7953"
             ],
             [
              0.7777777777777778,
              "#fb9f3a"
             ],
             [
              0.8888888888888888,
              "#fdca26"
             ],
             [
              1,
              "#f0f921"
             ]
            ],
            "type": "contour"
           }
          ],
          "contourcarpet": [
           {
            "colorbar": {
             "outlinewidth": 0,
             "ticks": ""
            },
            "type": "contourcarpet"
           }
          ],
          "heatmap": [
           {
            "colorbar": {
             "outlinewidth": 0,
             "ticks": ""
            },
            "colorscale": [
             [
              0,
              "#0d0887"
             ],
             [
              0.1111111111111111,
              "#46039f"
             ],
             [
              0.2222222222222222,
              "#7201a8"
             ],
             [
              0.3333333333333333,
              "#9c179e"
             ],
             [
              0.4444444444444444,
              "#bd3786"
             ],
             [
              0.5555555555555556,
              "#d8576b"
             ],
             [
              0.6666666666666666,
              "#ed7953"
             ],
             [
              0.7777777777777778,
              "#fb9f3a"
             ],
             [
              0.8888888888888888,
              "#fdca26"
             ],
             [
              1,
              "#f0f921"
             ]
            ],
            "type": "heatmap"
           }
          ],
          "heatmapgl": [
           {
            "colorbar": {
             "outlinewidth": 0,
             "ticks": ""
            },
            "colorscale": [
             [
              0,
              "#0d0887"
             ],
             [
              0.1111111111111111,
              "#46039f"
             ],
             [
              0.2222222222222222,
              "#7201a8"
             ],
             [
              0.3333333333333333,
              "#9c179e"
             ],
             [
              0.4444444444444444,
              "#bd3786"
             ],
             [
              0.5555555555555556,
              "#d8576b"
             ],
             [
              0.6666666666666666,
              "#ed7953"
             ],
             [
              0.7777777777777778,
              "#fb9f3a"
             ],
             [
              0.8888888888888888,
              "#fdca26"
             ],
             [
              1,
              "#f0f921"
             ]
            ],
            "type": "heatmapgl"
           }
          ],
          "histogram": [
           {
            "marker": {
             "pattern": {
              "fillmode": "overlay",
              "size": 10,
              "solidity": 0.2
             }
            },
            "type": "histogram"
           }
          ],
          "histogram2d": [
           {
            "colorbar": {
             "outlinewidth": 0,
             "ticks": ""
            },
            "colorscale": [
             [
              0,
              "#0d0887"
             ],
             [
              0.1111111111111111,
              "#46039f"
             ],
             [
              0.2222222222222222,
              "#7201a8"
             ],
             [
              0.3333333333333333,
              "#9c179e"
             ],
             [
              0.4444444444444444,
              "#bd3786"
             ],
             [
              0.5555555555555556,
              "#d8576b"
             ],
             [
              0.6666666666666666,
              "#ed7953"
             ],
             [
              0.7777777777777778,
              "#fb9f3a"
             ],
             [
              0.8888888888888888,
              "#fdca26"
             ],
             [
              1,
              "#f0f921"
             ]
            ],
            "type": "histogram2d"
           }
          ],
          "histogram2dcontour": [
           {
            "colorbar": {
             "outlinewidth": 0,
             "ticks": ""
            },
            "colorscale": [
             [
              0,
              "#0d0887"
             ],
             [
              0.1111111111111111,
              "#46039f"
             ],
             [
              0.2222222222222222,
              "#7201a8"
             ],
             [
              0.3333333333333333,
              "#9c179e"
             ],
             [
              0.4444444444444444,
              "#bd3786"
             ],
             [
              0.5555555555555556,
              "#d8576b"
             ],
             [
              0.6666666666666666,
              "#ed7953"
             ],
             [
              0.7777777777777778,
              "#fb9f3a"
             ],
             [
              0.8888888888888888,
              "#fdca26"
             ],
             [
              1,
              "#f0f921"
             ]
            ],
            "type": "histogram2dcontour"
           }
          ],
          "mesh3d": [
           {
            "colorbar": {
             "outlinewidth": 0,
             "ticks": ""
            },
            "type": "mesh3d"
           }
          ],
          "parcoords": [
           {
            "line": {
             "colorbar": {
              "outlinewidth": 0,
              "ticks": ""
             }
            },
            "type": "parcoords"
           }
          ],
          "pie": [
           {
            "automargin": true,
            "type": "pie"
           }
          ],
          "scatter": [
           {
            "fillpattern": {
             "fillmode": "overlay",
             "size": 10,
             "solidity": 0.2
            },
            "type": "scatter"
           }
          ],
          "scatter3d": [
           {
            "line": {
             "colorbar": {
              "outlinewidth": 0,
              "ticks": ""
             }
            },
            "marker": {
             "colorbar": {
              "outlinewidth": 0,
              "ticks": ""
             }
            },
            "type": "scatter3d"
           }
          ],
          "scattercarpet": [
           {
            "marker": {
             "colorbar": {
              "outlinewidth": 0,
              "ticks": ""
             }
            },
            "type": "scattercarpet"
           }
          ],
          "scattergeo": [
           {
            "marker": {
             "colorbar": {
              "outlinewidth": 0,
              "ticks": ""
             }
            },
            "type": "scattergeo"
           }
          ],
          "scattergl": [
           {
            "marker": {
             "colorbar": {
              "outlinewidth": 0,
              "ticks": ""
             }
            },
            "type": "scattergl"
           }
          ],
          "scattermapbox": [
           {
            "marker": {
             "colorbar": {
              "outlinewidth": 0,
              "ticks": ""
             }
            },
            "type": "scattermapbox"
           }
          ],
          "scatterpolar": [
           {
            "marker": {
             "colorbar": {
              "outlinewidth": 0,
              "ticks": ""
             }
            },
            "type": "scatterpolar"
           }
          ],
          "scatterpolargl": [
           {
            "marker": {
             "colorbar": {
              "outlinewidth": 0,
              "ticks": ""
             }
            },
            "type": "scatterpolargl"
           }
          ],
          "scatterternary": [
           {
            "marker": {
             "colorbar": {
              "outlinewidth": 0,
              "ticks": ""
             }
            },
            "type": "scatterternary"
           }
          ],
          "surface": [
           {
            "colorbar": {
             "outlinewidth": 0,
             "ticks": ""
            },
            "colorscale": [
             [
              0,
              "#0d0887"
             ],
             [
              0.1111111111111111,
              "#46039f"
             ],
             [
              0.2222222222222222,
              "#7201a8"
             ],
             [
              0.3333333333333333,
              "#9c179e"
             ],
             [
              0.4444444444444444,
              "#bd3786"
             ],
             [
              0.5555555555555556,
              "#d8576b"
             ],
             [
              0.6666666666666666,
              "#ed7953"
             ],
             [
              0.7777777777777778,
              "#fb9f3a"
             ],
             [
              0.8888888888888888,
              "#fdca26"
             ],
             [
              1,
              "#f0f921"
             ]
            ],
            "type": "surface"
           }
          ],
          "table": [
           {
            "cells": {
             "fill": {
              "color": "#EBF0F8"
             },
             "line": {
              "color": "white"
             }
            },
            "header": {
             "fill": {
              "color": "#C8D4E3"
             },
             "line": {
              "color": "white"
             }
            },
            "type": "table"
           }
          ]
         },
         "layout": {
          "annotationdefaults": {
           "arrowcolor": "#2a3f5f",
           "arrowhead": 0,
           "arrowwidth": 1
          },
          "autotypenumbers": "strict",
          "coloraxis": {
           "colorbar": {
            "outlinewidth": 0,
            "ticks": ""
           }
          },
          "colorscale": {
           "diverging": [
            [
             0,
             "#8e0152"
            ],
            [
             0.1,
             "#c51b7d"
            ],
            [
             0.2,
             "#de77ae"
            ],
            [
             0.3,
             "#f1b6da"
            ],
            [
             0.4,
             "#fde0ef"
            ],
            [
             0.5,
             "#f7f7f7"
            ],
            [
             0.6,
             "#e6f5d0"
            ],
            [
             0.7,
             "#b8e186"
            ],
            [
             0.8,
             "#7fbc41"
            ],
            [
             0.9,
             "#4d9221"
            ],
            [
             1,
             "#276419"
            ]
           ],
           "sequential": [
            [
             0,
             "#0d0887"
            ],
            [
             0.1111111111111111,
             "#46039f"
            ],
            [
             0.2222222222222222,
             "#7201a8"
            ],
            [
             0.3333333333333333,
             "#9c179e"
            ],
            [
             0.4444444444444444,
             "#bd3786"
            ],
            [
             0.5555555555555556,
             "#d8576b"
            ],
            [
             0.6666666666666666,
             "#ed7953"
            ],
            [
             0.7777777777777778,
             "#fb9f3a"
            ],
            [
             0.8888888888888888,
             "#fdca26"
            ],
            [
             1,
             "#f0f921"
            ]
           ],
           "sequentialminus": [
            [
             0,
             "#0d0887"
            ],
            [
             0.1111111111111111,
             "#46039f"
            ],
            [
             0.2222222222222222,
             "#7201a8"
            ],
            [
             0.3333333333333333,
             "#9c179e"
            ],
            [
             0.4444444444444444,
             "#bd3786"
            ],
            [
             0.5555555555555556,
             "#d8576b"
            ],
            [
             0.6666666666666666,
             "#ed7953"
            ],
            [
             0.7777777777777778,
             "#fb9f3a"
            ],
            [
             0.8888888888888888,
             "#fdca26"
            ],
            [
             1,
             "#f0f921"
            ]
           ]
          },
          "colorway": [
           "#636efa",
           "#EF553B",
           "#00cc96",
           "#ab63fa",
           "#FFA15A",
           "#19d3f3",
           "#FF6692",
           "#B6E880",
           "#FF97FF",
           "#FECB52"
          ],
          "font": {
           "color": "#2a3f5f"
          },
          "geo": {
           "bgcolor": "white",
           "lakecolor": "white",
           "landcolor": "#E5ECF6",
           "showlakes": true,
           "showland": true,
           "subunitcolor": "white"
          },
          "hoverlabel": {
           "align": "left"
          },
          "hovermode": "closest",
          "mapbox": {
           "style": "light"
          },
          "paper_bgcolor": "white",
          "plot_bgcolor": "#E5ECF6",
          "polar": {
           "angularaxis": {
            "gridcolor": "white",
            "linecolor": "white",
            "ticks": ""
           },
           "bgcolor": "#E5ECF6",
           "radialaxis": {
            "gridcolor": "white",
            "linecolor": "white",
            "ticks": ""
           }
          },
          "scene": {
           "xaxis": {
            "backgroundcolor": "#E5ECF6",
            "gridcolor": "white",
            "gridwidth": 2,
            "linecolor": "white",
            "showbackground": true,
            "ticks": "",
            "zerolinecolor": "white"
           },
           "yaxis": {
            "backgroundcolor": "#E5ECF6",
            "gridcolor": "white",
            "gridwidth": 2,
            "linecolor": "white",
            "showbackground": true,
            "ticks": "",
            "zerolinecolor": "white"
           },
           "zaxis": {
            "backgroundcolor": "#E5ECF6",
            "gridcolor": "white",
            "gridwidth": 2,
            "linecolor": "white",
            "showbackground": true,
            "ticks": "",
            "zerolinecolor": "white"
           }
          },
          "shapedefaults": {
           "line": {
            "color": "#2a3f5f"
           }
          },
          "ternary": {
           "aaxis": {
            "gridcolor": "white",
            "linecolor": "white",
            "ticks": ""
           },
           "baxis": {
            "gridcolor": "white",
            "linecolor": "white",
            "ticks": ""
           },
           "bgcolor": "#E5ECF6",
           "caxis": {
            "gridcolor": "white",
            "linecolor": "white",
            "ticks": ""
           }
          },
          "title": {
           "x": 0.05
          },
          "xaxis": {
           "automargin": true,
           "gridcolor": "white",
           "linecolor": "white",
           "ticks": "",
           "title": {
            "standoff": 15
           },
           "zerolinecolor": "white",
           "zerolinewidth": 2
          },
          "yaxis": {
           "automargin": true,
           "gridcolor": "white",
           "linecolor": "white",
           "ticks": "",
           "title": {
            "standoff": 15
           },
           "zerolinecolor": "white",
           "zerolinewidth": 2
          }
         }
        },
        "title": {
         "text": "2D PCA Visualization"
        },
        "xaxis": {
         "anchor": "y",
         "domain": [
          0,
          1
         ],
         "title": {
          "text": "PC1"
         }
        },
        "yaxis": {
         "anchor": "x",
         "domain": [
          0,
          1
         ],
         "title": {
          "text": "PC2"
         }
        }
       }
      }
     },
     "metadata": {},
     "output_type": "display_data"
    },
    {
     "data": {
      "application/vnd.plotly.v1+json": {
       "config": {
        "plotlyServerURL": "https://plot.ly"
       },
       "data": [
        {
         "hovertemplate": "PC1=%{x}<br>PC2=%{y}<br>PC3=%{z}<br>Sensor ID=%{marker.color}<extra></extra>",
         "legendgroup": "",
         "marker": {
          "color": [
           1,
           2,
           3,
           4,
           5,
           6,
           7,
           8,
           9,
           10,
           11,
           12,
           13,
           14,
           15,
           16,
           17,
           18,
           19,
           20,
           21,
           22,
           23,
           24,
           25,
           26,
           27,
           28,
           29,
           30,
           32,
           33,
           34,
           35,
           36,
           37,
           38,
           39,
           40,
           41,
           42,
           43,
           44,
           45,
           46,
           47,
           48,
           49,
           50,
           51,
           52,
           53,
           54,
           55,
           56,
           57,
           58,
           59,
           60,
           61,
           62,
           63,
           64,
           65,
           66,
           67,
           68,
           69,
           70,
           71,
           72,
           73,
           74,
           75,
           76,
           77,
           78,
           79,
           80,
           81,
           82,
           83,
           84,
           85,
           86,
           87,
           88,
           89,
           90,
           91,
           92,
           93,
           94,
           95,
           96,
           97,
           98,
           99,
           100,
           101,
           102,
           103,
           104,
           105,
           106,
           107,
           108,
           109,
           110,
           111,
           112,
           113,
           114,
           115,
           116,
           117,
           118,
           119,
           120,
           121,
           122,
           123,
           124,
           125
          ],
          "coloraxis": "coloraxis",
          "symbol": "circle"
         },
         "mode": "markers",
         "name": "",
         "scene": "scene",
         "showlegend": false,
         "type": "scatter3d",
         "x": [
          -2.8235532949999054,
          7.8846592106092235,
          1.3859859578728289,
          -2.6017752222868986,
          -0.10365439442702284,
          0.743463143350064,
          -0.0246933185564414,
          -2.7448050160511386,
          -4.985264651973099,
          -3.73635039599558,
          -2.399184941246856,
          -0.42791794269264033,
          -0.14827490684966554,
          0.5113441015476831,
          0.7711669564594492,
          -2.7592502832857537,
          1.323343973256227,
          0.2683234976668459,
          0.1763085757078959,
          22.333083027236007,
          -0.2751900490468,
          -2.310114253894238,
          -3.272513567944051,
          0.723027516856035,
          -4.048524726744571,
          -2.356812462127712,
          -1.2773387635847635,
          -0.5386430510903056,
          -3.510663710522848,
          -1.4254743406189556,
          -2.5194974647801676,
          0.38002995774731974,
          7.676369021697679,
          -1.7059739421252067,
          -1.9009005972070017,
          6.83248684520105,
          -2.4906089107490548,
          -1.9983438874716717,
          -1.3974038842048977,
          0.22846551524172734,
          1.7899228427926803,
          -0.754400921247027,
          2.2248629912426794,
          -2.2301694280908695,
          -0.31046792492298275,
          15.588625366087948,
          1.5008080517088815,
          0.3117743895639009,
          0.31530946608769866,
          0.3382438192031222,
          -2.6346600336916066,
          -2.816633492972589,
          -2.013514348536544,
          -0.14034497868167248,
          0.10269274495758397,
          -1.0634638480582888,
          1.0823658631193023,
          0.3818157733541612,
          -0.8432115424799392,
          2.3832819813420008,
          -1.5654254929244251,
          -1.8494928713281018,
          2.572370020336946,
          -5.511088028623299,
          -2.5385770387501823,
          -2.9984052573175717,
          -8.453809651537762,
          1.7462455396877299,
          -2.7882218300747734,
          -2.9459973421487775,
          1.3021752241534188,
          -1.9954914282321325,
          -1.0878923261862583,
          38.49545935890237,
          1.9642998865005146,
          7.32872660728488,
          0.8671344292050366,
          -7.305277705634364,
          -1.3679225919257807,
          -5.8078058196679585,
          -2.4370200754223874,
          -0.8660738230838609,
          -5.5212009074533235,
          -5.356106071865084,
          7.153921897258734,
          -3.91323511572151,
          -3.0581711100564224,
          -1.596314221360569,
          -1.8703761834645634,
          -2.9456715242390663,
          -2.902868088358917,
          4.836164024993098,
          6.6762333223240065,
          7.9737545680730255,
          -1.9109629255746887,
          -5.6240928594815,
          -1.0207674820575676,
          -0.5131426168372952,
          -1.846183545480286,
          -2.3825408474057914,
          -6.435736019471018,
          -4.195958953804185,
          -2.4954392766028377,
          3.0858759114297056,
          9.360958374758727,
          7.699898427353942,
          -2.652307773134805,
          1.739039529602043,
          -2.8290867713490466,
          -1.03768421992857,
          -0.7957777605650415,
          1.4023186867946966,
          -1.9809442469679592,
          -1.1126336843557905,
          -0.6398534835385397,
          -0.5391109000853401,
          1.0267016357931376,
          -0.4050059725329005,
          -0.0958029204103814,
          -0.7749974656057197,
          1.117003905141295,
          -0.882581766353191,
          1.15744000466016,
          -1.320831448085089
         ],
         "y": [
          2.0646335583537176,
          -8.306114799024435,
          -2.9282753575426383,
          1.658262434210896,
          -0.23184976748272634,
          -1.2553691193382022,
          -1.5643416897355469,
          1.2242486259099277,
          4.183080766650614,
          3.371085676900689,
          1.6131765434475098,
          0.23413439508101944,
          -1.1370884011342348,
          -1.7029106719105371,
          -0.7224414023943917,
          0.7587242487321143,
          -2.5779381267940114,
          -2.0440021199935083,
          -0.9451590531523606,
          11.563451086363758,
          -0.37367154806951125,
          1.401211046609455,
          2.0689668827636756,
          -1.672933300878076,
          2.4361292914527928,
          2.1572948361259296,
          1.7409282390920775,
          0.09471091882386476,
          2.1907134354983606,
          0.8016395717256012,
          2.761359096986868,
          -1.0787902058384402,
          -9.580740786838234,
          0.9751637760795475,
          1.608367269102518,
          -0.6832761752973718,
          1.3618509092495514,
          0.34204035912980196,
          0.2215244692921543,
          -2.2532759947776424,
          -2.4739514185953753,
          0.19794468425237619,
          -3.370575206899032,
          1.4154639866107692,
          0.1067249377637807,
          -14.228029455817733,
          -2.575284689148094,
          -1.2531554786224504,
          -1.126705182686441,
          -0.6356889735872869,
          1.923657112419962,
          2.4330379330782193,
          0.7998902284310407,
          1.1872738638136144,
          -1.5931563872594163,
          -0.12243046745192933,
          -2.2424831647488146,
          -0.6798743381090695,
          -0.6594192607543428,
          -2.4734326148131407,
          0.2990121024667683,
          0.21385674107303415,
          -3.0671059382610966,
          4.0684364143504546,
          1.0121430095712467,
          2.351969080579765,
          7.847567048427235,
          -0.9023607883948205,
          1.3333351528790711,
          1.8706566410319494,
          -1.9738125480836592,
          1.3447748590696742,
          -0.10261117253344912,
          28.353561227246654,
          -3.2605916521991682,
          -7.460313802900138,
          -1.692711297283237,
          6.169636009787038,
          0.6030366599869662,
          3.50048642771859,
          1.736689907638625,
          1.5630657488160766,
          4.44634558772352,
          4.770086420983545,
          -8.05933868135271,
          2.800280946370381,
          2.0176854231394543,
          0.26809547146127677,
          0.4828949392815178,
          1.3881123860190643,
          2.9277374946987633,
          -6.435465279737045,
          -7.686254045117459,
          -7.943677331307994,
          1.0567887128503362,
          5.545919584165424,
          0.8640941347883809,
          -0.8288791552943153,
          0.12158616151310146,
          2.3763867149121345,
          6.10991015873967,
          3.111335717877339,
          1.5013839414116814,
          -5.095653393676934,
          -10.042571439496793,
          -7.237629882470709,
          1.9498318443489981,
          -2.728901938327726,
          1.1029634501188714,
          -0.2946241243385606,
          -0.16770992815205576,
          -2.5692764341164733,
          0.38588926561091685,
          -0.0028967908544973143,
          -1.1185615867204688,
          -0.7186599209698694,
          -1.492401098391443,
          -0.32322043289176317,
          -1.3176667460438949,
          -0.8250722306489036,
          -2.498307267233722,
          -0.0931704415049319,
          -2.0632844277807,
          0.10284936416978298
         ],
         "z": [
          11.971563695709435,
          4.36237884947503,
          -3.4515224467438634,
          2.994083245226866,
          3.068044449278261,
          0.1692857230348532,
          -1.884082264233151,
          0.8419318583782518,
          3.443041334029789,
          -0.6239652089927785,
          -1.2493220594013639,
          0.2703784705950378,
          0.8651501370935096,
          -1.9260166790753899,
          3.600616633361461,
          -0.9424405101921567,
          1.2058759729655222,
          -3.9779880610929554,
          4.00106147071902,
          1.5510885130885594,
          1.1588779716127604,
          -1.9607224468566566,
          -1.6933619824867052,
          1.7069872593449364,
          -2.755661431371538,
          -1.4768729302876153,
          -0.4069378578104567,
          1.1302093534285496,
          -0.43012576714101525,
          -3.388531195452871,
          -4.322452945834511,
          2.629118511101909,
          -0.1899755625131894,
          0.6949145069266095,
          1.5104654911736346,
          10.573681628691123,
          2.043730810191976,
          24.12276323330494,
          0.18453746680737085,
          3.1315692764712186,
          -2.0559309164336157,
          8.353730290363256,
          -3.1424767093428034,
          -4.101257931303336,
          2.111667696881686,
          0.7828639492392429,
          -1.6584888156260424,
          -2.0246761349426885,
          -0.19317921291946857,
          -2.389959089019429,
          -3.082985381002231,
          -2.659622809642002,
          -2.640918217260778,
          0.06067595199718101,
          -3.601191429498249,
          -4.180359910293232,
          -0.6457098970463753,
          -3.7935474438228862,
          -0.8037820945595521,
          -2.6762613927860937,
          -0.39714391315367625,
          0.8680114032231147,
          0.37025426335908956,
          -1.0943857169659068,
          1.4872274806587475,
          0.6358801403703074,
          1.78334745441761,
          -1.544472746666733,
          2.922694825876244,
          -2.44955936276912,
          -1.7792356566752032,
          -2.2285329501647646,
          -1.6710035711138085,
          -2.1877026515064575,
          -3.571011141516698,
          -3.0011070712850443,
          1.0199739042564486,
          -2.9508812780689686,
          4.088348311456657,
          -1.7875986705999591,
          -1.6776538117109059,
          2.765521714796868,
          -1.978138672300701,
          -0.1175222475603186,
          -0.6483121060359178,
          -2.2762746083909033,
          0.8255622629683529,
          0.09704182516577113,
          -3.117763573347338,
          -0.03377344533784953,
          0.5709207423373256,
          -0.8594457859508146,
          -1.4734536705868917,
          -2.1428838947286972,
          1.025465809317492,
          5.332697859191215,
          -1.3343221279550064,
          -1.7844282822108855,
          -0.9865209623399465,
          4.6281994644035755,
          -0.2200311868176507,
          2.962967921325236,
          0.9833923637647669,
          -1.0636429180364513,
          5.921939285250713,
          0.854385888680894,
          -1.748484279706832,
          -2.8338273670984617,
          -3.626970549902599,
          -2.09824426429249,
          -2.8503187641833567,
          -2.1902913531377046,
          -1.8081060203890709,
          -1.459531758725781,
          2.1291007867660525,
          -1.8177836781415517,
          -0.41592295125855155,
          -1.2945480280763197,
          -1.5372956404594693,
          -1.7231977535744145,
          -1.4966363608291746,
          3.26040406748326,
          1.0502349959016937,
          -2.515578992905989
         ]
        }
       ],
       "layout": {
        "coloraxis": {
         "colorbar": {
          "title": {
           "text": "Sensor ID"
          }
         },
         "colorscale": [
          [
           0,
           "#0d0887"
          ],
          [
           0.1111111111111111,
           "#46039f"
          ],
          [
           0.2222222222222222,
           "#7201a8"
          ],
          [
           0.3333333333333333,
           "#9c179e"
          ],
          [
           0.4444444444444444,
           "#bd3786"
          ],
          [
           0.5555555555555556,
           "#d8576b"
          ],
          [
           0.6666666666666666,
           "#ed7953"
          ],
          [
           0.7777777777777778,
           "#fb9f3a"
          ],
          [
           0.8888888888888888,
           "#fdca26"
          ],
          [
           1,
           "#f0f921"
          ]
         ]
        },
        "legend": {
         "tracegroupgap": 0
        },
        "scene": {
         "domain": {
          "x": [
           0,
           1
          ],
          "y": [
           0,
           1
          ]
         },
         "xaxis": {
          "title": {
           "text": "PC1"
          }
         },
         "yaxis": {
          "title": {
           "text": "PC2"
          }
         },
         "zaxis": {
          "title": {
           "text": "PC3"
          }
         }
        },
        "template": {
         "data": {
          "bar": [
           {
            "error_x": {
             "color": "#2a3f5f"
            },
            "error_y": {
             "color": "#2a3f5f"
            },
            "marker": {
             "line": {
              "color": "#E5ECF6",
              "width": 0.5
             },
             "pattern": {
              "fillmode": "overlay",
              "size": 10,
              "solidity": 0.2
             }
            },
            "type": "bar"
           }
          ],
          "barpolar": [
           {
            "marker": {
             "line": {
              "color": "#E5ECF6",
              "width": 0.5
             },
             "pattern": {
              "fillmode": "overlay",
              "size": 10,
              "solidity": 0.2
             }
            },
            "type": "barpolar"
           }
          ],
          "carpet": [
           {
            "aaxis": {
             "endlinecolor": "#2a3f5f",
             "gridcolor": "white",
             "linecolor": "white",
             "minorgridcolor": "white",
             "startlinecolor": "#2a3f5f"
            },
            "baxis": {
             "endlinecolor": "#2a3f5f",
             "gridcolor": "white",
             "linecolor": "white",
             "minorgridcolor": "white",
             "startlinecolor": "#2a3f5f"
            },
            "type": "carpet"
           }
          ],
          "choropleth": [
           {
            "colorbar": {
             "outlinewidth": 0,
             "ticks": ""
            },
            "type": "choropleth"
           }
          ],
          "contour": [
           {
            "colorbar": {
             "outlinewidth": 0,
             "ticks": ""
            },
            "colorscale": [
             [
              0,
              "#0d0887"
             ],
             [
              0.1111111111111111,
              "#46039f"
             ],
             [
              0.2222222222222222,
              "#7201a8"
             ],
             [
              0.3333333333333333,
              "#9c179e"
             ],
             [
              0.4444444444444444,
              "#bd3786"
             ],
             [
              0.5555555555555556,
              "#d8576b"
             ],
             [
              0.6666666666666666,
              "#ed7953"
             ],
             [
              0.7777777777777778,
              "#fb9f3a"
             ],
             [
              0.8888888888888888,
              "#fdca26"
             ],
             [
              1,
              "#f0f921"
             ]
            ],
            "type": "contour"
           }
          ],
          "contourcarpet": [
           {
            "colorbar": {
             "outlinewidth": 0,
             "ticks": ""
            },
            "type": "contourcarpet"
           }
          ],
          "heatmap": [
           {
            "colorbar": {
             "outlinewidth": 0,
             "ticks": ""
            },
            "colorscale": [
             [
              0,
              "#0d0887"
             ],
             [
              0.1111111111111111,
              "#46039f"
             ],
             [
              0.2222222222222222,
              "#7201a8"
             ],
             [
              0.3333333333333333,
              "#9c179e"
             ],
             [
              0.4444444444444444,
              "#bd3786"
             ],
             [
              0.5555555555555556,
              "#d8576b"
             ],
             [
              0.6666666666666666,
              "#ed7953"
             ],
             [
              0.7777777777777778,
              "#fb9f3a"
             ],
             [
              0.8888888888888888,
              "#fdca26"
             ],
             [
              1,
              "#f0f921"
             ]
            ],
            "type": "heatmap"
           }
          ],
          "heatmapgl": [
           {
            "colorbar": {
             "outlinewidth": 0,
             "ticks": ""
            },
            "colorscale": [
             [
              0,
              "#0d0887"
             ],
             [
              0.1111111111111111,
              "#46039f"
             ],
             [
              0.2222222222222222,
              "#7201a8"
             ],
             [
              0.3333333333333333,
              "#9c179e"
             ],
             [
              0.4444444444444444,
              "#bd3786"
             ],
             [
              0.5555555555555556,
              "#d8576b"
             ],
             [
              0.6666666666666666,
              "#ed7953"
             ],
             [
              0.7777777777777778,
              "#fb9f3a"
             ],
             [
              0.8888888888888888,
              "#fdca26"
             ],
             [
              1,
              "#f0f921"
             ]
            ],
            "type": "heatmapgl"
           }
          ],
          "histogram": [
           {
            "marker": {
             "pattern": {
              "fillmode": "overlay",
              "size": 10,
              "solidity": 0.2
             }
            },
            "type": "histogram"
           }
          ],
          "histogram2d": [
           {
            "colorbar": {
             "outlinewidth": 0,
             "ticks": ""
            },
            "colorscale": [
             [
              0,
              "#0d0887"
             ],
             [
              0.1111111111111111,
              "#46039f"
             ],
             [
              0.2222222222222222,
              "#7201a8"
             ],
             [
              0.3333333333333333,
              "#9c179e"
             ],
             [
              0.4444444444444444,
              "#bd3786"
             ],
             [
              0.5555555555555556,
              "#d8576b"
             ],
             [
              0.6666666666666666,
              "#ed7953"
             ],
             [
              0.7777777777777778,
              "#fb9f3a"
             ],
             [
              0.8888888888888888,
              "#fdca26"
             ],
             [
              1,
              "#f0f921"
             ]
            ],
            "type": "histogram2d"
           }
          ],
          "histogram2dcontour": [
           {
            "colorbar": {
             "outlinewidth": 0,
             "ticks": ""
            },
            "colorscale": [
             [
              0,
              "#0d0887"
             ],
             [
              0.1111111111111111,
              "#46039f"
             ],
             [
              0.2222222222222222,
              "#7201a8"
             ],
             [
              0.3333333333333333,
              "#9c179e"
             ],
             [
              0.4444444444444444,
              "#bd3786"
             ],
             [
              0.5555555555555556,
              "#d8576b"
             ],
             [
              0.6666666666666666,
              "#ed7953"
             ],
             [
              0.7777777777777778,
              "#fb9f3a"
             ],
             [
              0.8888888888888888,
              "#fdca26"
             ],
             [
              1,
              "#f0f921"
             ]
            ],
            "type": "histogram2dcontour"
           }
          ],
          "mesh3d": [
           {
            "colorbar": {
             "outlinewidth": 0,
             "ticks": ""
            },
            "type": "mesh3d"
           }
          ],
          "parcoords": [
           {
            "line": {
             "colorbar": {
              "outlinewidth": 0,
              "ticks": ""
             }
            },
            "type": "parcoords"
           }
          ],
          "pie": [
           {
            "automargin": true,
            "type": "pie"
           }
          ],
          "scatter": [
           {
            "fillpattern": {
             "fillmode": "overlay",
             "size": 10,
             "solidity": 0.2
            },
            "type": "scatter"
           }
          ],
          "scatter3d": [
           {
            "line": {
             "colorbar": {
              "outlinewidth": 0,
              "ticks": ""
             }
            },
            "marker": {
             "colorbar": {
              "outlinewidth": 0,
              "ticks": ""
             }
            },
            "type": "scatter3d"
           }
          ],
          "scattercarpet": [
           {
            "marker": {
             "colorbar": {
              "outlinewidth": 0,
              "ticks": ""
             }
            },
            "type": "scattercarpet"
           }
          ],
          "scattergeo": [
           {
            "marker": {
             "colorbar": {
              "outlinewidth": 0,
              "ticks": ""
             }
            },
            "type": "scattergeo"
           }
          ],
          "scattergl": [
           {
            "marker": {
             "colorbar": {
              "outlinewidth": 0,
              "ticks": ""
             }
            },
            "type": "scattergl"
           }
          ],
          "scattermapbox": [
           {
            "marker": {
             "colorbar": {
              "outlinewidth": 0,
              "ticks": ""
             }
            },
            "type": "scattermapbox"
           }
          ],
          "scatterpolar": [
           {
            "marker": {
             "colorbar": {
              "outlinewidth": 0,
              "ticks": ""
             }
            },
            "type": "scatterpolar"
           }
          ],
          "scatterpolargl": [
           {
            "marker": {
             "colorbar": {
              "outlinewidth": 0,
              "ticks": ""
             }
            },
            "type": "scatterpolargl"
           }
          ],
          "scatterternary": [
           {
            "marker": {
             "colorbar": {
              "outlinewidth": 0,
              "ticks": ""
             }
            },
            "type": "scatterternary"
           }
          ],
          "surface": [
           {
            "colorbar": {
             "outlinewidth": 0,
             "ticks": ""
            },
            "colorscale": [
             [
              0,
              "#0d0887"
             ],
             [
              0.1111111111111111,
              "#46039f"
             ],
             [
              0.2222222222222222,
              "#7201a8"
             ],
             [
              0.3333333333333333,
              "#9c179e"
             ],
             [
              0.4444444444444444,
              "#bd3786"
             ],
             [
              0.5555555555555556,
              "#d8576b"
             ],
             [
              0.6666666666666666,
              "#ed7953"
             ],
             [
              0.7777777777777778,
              "#fb9f3a"
             ],
             [
              0.8888888888888888,
              "#fdca26"
             ],
             [
              1,
              "#f0f921"
             ]
            ],
            "type": "surface"
           }
          ],
          "table": [
           {
            "cells": {
             "fill": {
              "color": "#EBF0F8"
             },
             "line": {
              "color": "white"
             }
            },
            "header": {
             "fill": {
              "color": "#C8D4E3"
             },
             "line": {
              "color": "white"
             }
            },
            "type": "table"
           }
          ]
         },
         "layout": {
          "annotationdefaults": {
           "arrowcolor": "#2a3f5f",
           "arrowhead": 0,
           "arrowwidth": 1
          },
          "autotypenumbers": "strict",
          "coloraxis": {
           "colorbar": {
            "outlinewidth": 0,
            "ticks": ""
           }
          },
          "colorscale": {
           "diverging": [
            [
             0,
             "#8e0152"
            ],
            [
             0.1,
             "#c51b7d"
            ],
            [
             0.2,
             "#de77ae"
            ],
            [
             0.3,
             "#f1b6da"
            ],
            [
             0.4,
             "#fde0ef"
            ],
            [
             0.5,
             "#f7f7f7"
            ],
            [
             0.6,
             "#e6f5d0"
            ],
            [
             0.7,
             "#b8e186"
            ],
            [
             0.8,
             "#7fbc41"
            ],
            [
             0.9,
             "#4d9221"
            ],
            [
             1,
             "#276419"
            ]
           ],
           "sequential": [
            [
             0,
             "#0d0887"
            ],
            [
             0.1111111111111111,
             "#46039f"
            ],
            [
             0.2222222222222222,
             "#7201a8"
            ],
            [
             0.3333333333333333,
             "#9c179e"
            ],
            [
             0.4444444444444444,
             "#bd3786"
            ],
            [
             0.5555555555555556,
             "#d8576b"
            ],
            [
             0.6666666666666666,
             "#ed7953"
            ],
            [
             0.7777777777777778,
             "#fb9f3a"
            ],
            [
             0.8888888888888888,
             "#fdca26"
            ],
            [
             1,
             "#f0f921"
            ]
           ],
           "sequentialminus": [
            [
             0,
             "#0d0887"
            ],
            [
             0.1111111111111111,
             "#46039f"
            ],
            [
             0.2222222222222222,
             "#7201a8"
            ],
            [
             0.3333333333333333,
             "#9c179e"
            ],
            [
             0.4444444444444444,
             "#bd3786"
            ],
            [
             0.5555555555555556,
             "#d8576b"
            ],
            [
             0.6666666666666666,
             "#ed7953"
            ],
            [
             0.7777777777777778,
             "#fb9f3a"
            ],
            [
             0.8888888888888888,
             "#fdca26"
            ],
            [
             1,
             "#f0f921"
            ]
           ]
          },
          "colorway": [
           "#636efa",
           "#EF553B",
           "#00cc96",
           "#ab63fa",
           "#FFA15A",
           "#19d3f3",
           "#FF6692",
           "#B6E880",
           "#FF97FF",
           "#FECB52"
          ],
          "font": {
           "color": "#2a3f5f"
          },
          "geo": {
           "bgcolor": "white",
           "lakecolor": "white",
           "landcolor": "#E5ECF6",
           "showlakes": true,
           "showland": true,
           "subunitcolor": "white"
          },
          "hoverlabel": {
           "align": "left"
          },
          "hovermode": "closest",
          "mapbox": {
           "style": "light"
          },
          "paper_bgcolor": "white",
          "plot_bgcolor": "#E5ECF6",
          "polar": {
           "angularaxis": {
            "gridcolor": "white",
            "linecolor": "white",
            "ticks": ""
           },
           "bgcolor": "#E5ECF6",
           "radialaxis": {
            "gridcolor": "white",
            "linecolor": "white",
            "ticks": ""
           }
          },
          "scene": {
           "xaxis": {
            "backgroundcolor": "#E5ECF6",
            "gridcolor": "white",
            "gridwidth": 2,
            "linecolor": "white",
            "showbackground": true,
            "ticks": "",
            "zerolinecolor": "white"
           },
           "yaxis": {
            "backgroundcolor": "#E5ECF6",
            "gridcolor": "white",
            "gridwidth": 2,
            "linecolor": "white",
            "showbackground": true,
            "ticks": "",
            "zerolinecolor": "white"
           },
           "zaxis": {
            "backgroundcolor": "#E5ECF6",
            "gridcolor": "white",
            "gridwidth": 2,
            "linecolor": "white",
            "showbackground": true,
            "ticks": "",
            "zerolinecolor": "white"
           }
          },
          "shapedefaults": {
           "line": {
            "color": "#2a3f5f"
           }
          },
          "ternary": {
           "aaxis": {
            "gridcolor": "white",
            "linecolor": "white",
            "ticks": ""
           },
           "baxis": {
            "gridcolor": "white",
            "linecolor": "white",
            "ticks": ""
           },
           "bgcolor": "#E5ECF6",
           "caxis": {
            "gridcolor": "white",
            "linecolor": "white",
            "ticks": ""
           }
          },
          "title": {
           "x": 0.05
          },
          "xaxis": {
           "automargin": true,
           "gridcolor": "white",
           "linecolor": "white",
           "ticks": "",
           "title": {
            "standoff": 15
           },
           "zerolinecolor": "white",
           "zerolinewidth": 2
          },
          "yaxis": {
           "automargin": true,
           "gridcolor": "white",
           "linecolor": "white",
           "ticks": "",
           "title": {
            "standoff": 15
           },
           "zerolinecolor": "white",
           "zerolinewidth": 2
          }
         }
        },
        "title": {
         "text": "3D PCA Visualization"
        }
       }
      }
     },
     "metadata": {},
     "output_type": "display_data"
    },
    {
     "name": "stderr",
     "output_type": "stream",
     "text": [
      "/Users/jihoonchung/anaconda3/envs/datascience/lib/python3.10/site-packages/sklearn/cluster/_kmeans.py:1412: FutureWarning:\n",
      "\n",
      "The default value of `n_init` will change from 10 to 'auto' in 1.4. Set the value of `n_init` explicitly to suppress the warning\n",
      "\n"
     ]
    },
    {
     "name": "stdout",
     "output_type": "stream",
     "text": [
      "Evaluation Results:\n",
      "Explained Variance Ratio: [0.09965987 0.06563588 0.04405475]\n",
      "Cumulative Explained Variance: [0.09965987 0.16529576 0.20935051]\n",
      "Reconstruction Error: 0.7906494919120516\n",
      "Silhouette Score: 0.5797251501614185\n"
     ]
    }
   ],
   "source": [
    "results = evaluate_pca(data, n_components=3, color_column='Sensor ID', n_clusters=3, n_components_to_use=5)\n",
    "\n",
    "print(\"Evaluation Results:\")\n",
    "print(f\"Explained Variance Ratio: {results['explained_variance_ratio']}\")\n",
    "print(f\"Cumulative Explained Variance: {results['cumulative_explained_variance']}\")\n",
    "print(f\"Reconstruction Error: {results['reconstruction_error']}\")\n",
    "print(f\"Silhouette Score: {results['silhouette_score']}\")"
   ]
  },
  {
   "cell_type": "markdown",
   "metadata": {},
   "source": [
    "## Evaluate Feature selection performance"
   ]
  },
  {
   "cell_type": "markdown",
   "metadata": {},
   "source": [
    "The result look not amazing... so we will be looking into product after the feature selection.\n",
    "1. Batch Correlation \n",
    "2. lazy Correlation \n",
    "3. MI-Batch Correlation with top 10 features\n",
    "4. MI-Batch Correlation with top 50 features\n",
    "5. MI-lazy Correlation with top 10 features\n",
    "6. MI-lazy Correlation with top 50 features"
   ]
  },
  {
   "cell_type": "markdown",
   "metadata": {},
   "source": [
    "### 1. Batch Correlation "
   ]
  },
  {
   "cell_type": "code",
   "execution_count": 344,
   "metadata": {},
   "outputs": [
    {
     "data": {
      "image/png": "[encoded data removed]",
      "text/plain": [
       "<Figure size 1000x600 with 1 Axes>"
      ]
     },
     "metadata": {},
     "output_type": "display_data"
    },
    {
     "data": {
      "application/vnd.plotly.v1+json": {
       "config": {
        "plotlyServerURL": "https://plot.ly"
       },
       "data": [
        {
         "hovertemplate": "PC1=%{x}<br>PC2=%{y}<br>Sensor ID=%{marker.color}<extra></extra>",
         "legendgroup": "",
         "marker": {
          "color": [
           1,
           2,
           3,
           4,
           5,
           6,
           7,
           8,
           9,
           10,
           11,
           12,
           13,
           14,
           15,
           16,
           17,
           18,
           19,
           20,
           21,
           22,
           23,
           24,
           25,
           26,
           27,
           28,
           29,
           30,
           32,
           33,
           34,
           35,
           36,
           37,
           38,
           39,
           40,
           41,
           42,
           43,
           44,
           45,
           46,
           47,
           48,
           49,
           50,
           51,
           52,
           53,
           54,
           55,
           56,
           57,
           58,
           59,
           60,
           61,
           62,
           63,
           64,
           65,
           66,
           67,
           68,
           69,
           70,
           71,
           72,
           73,
           74,
           75,
           76,
           77,
           78,
           79,
           80,
           81,
           82,
           83,
           84,
           85,
           86,
           87,
           88,
           89,
           90,
           91,
           92,
           93,
           94,
           95,
           96,
           97,
           98,
           99,
           100,
           101,
           102,
           103,
           104,
           105,
           106,
           107,
           108,
           109,
           110,
           111,
           112,
           113,
           114,
           115,
           116,
           117,
           118,
           119,
           120,
           121,
           122,
           123,
           124,
           125
          ],
          "coloraxis": "coloraxis",
          "symbol": "circle"
         },
         "mode": "markers",
         "name": "",
         "orientation": "v",
         "showlegend": false,
         "type": "scatter",
         "x": [
          12.08551456198792,
          4.3431977478422406,
          -3.3821164464477556,
          2.994491128981766,
          3.3372988121515172,
          0.5738286356931726,
          -1.8802261658632213,
          0.8918362654619663,
          3.149870128527956,
          -0.5710649037739176,
          -1.2301749423303976,
          0.39886792619754624,
          1.0899576922527194,
          -1.9266001838529516,
          3.8601448638623563,
          -0.9562677834391804,
          1.1434821588792727,
          -3.9500095542069307,
          4.266528143755429,
          -0.6286285023978382,
          1.173278146296242,
          -2.4559108509938943,
          -1.7954664453459466,
          1.7131936978014084,
          -2.6648853563013786,
          -1.4759587400393823,
          -0.3697354470503733,
          1.2771762069015107,
          -0.3284075347890414,
          -3.1764452744984504,
          -4.096603377920123,
          2.8275883191383797,
          -0.06606204209292825,
          0.8822264185041263,
          1.5481062741905962,
          7.671401549467721,
          1.1928392131080192,
          24.308198237715647,
          0.20757848420053915,
          3.3374050543655778,
          -2.2850502284317358,
          8.677961269101532,
          -3.080724328114891,
          -4.03859942998449,
          2.328866327177824,
          -0.8786620011079389,
          -1.597646831163513,
          -1.8898517335603227,
          0.19972323321410307,
          -2.332045482760649,
          -2.9723460900898195,
          -2.6213539405260393,
          -2.699279268249655,
          -0.19412525727050417,
          -3.6249478713657663,
          -4.294267023494059,
          -0.6353519841114407,
          -3.6964804517270102,
          -0.645580037909441,
          -2.6425383964611764,
          -0.15228063936270145,
          0.8873196365849066,
          0.4664974652302906,
          -1.1027045981240617,
          1.6135817094395648,
          0.6924160551222588,
          1.8409062417161148,
          -1.656626306410416,
          2.818931468049594,
          -2.2257722615045665,
          -1.6652824328153402,
          -2.1854035338454407,
          -1.5983564377503037,
          -0.9272938581572886,
          -3.6296852779102236,
          -3.163745011628514,
          1.1069488106418557,
          -3.068449936083786,
          4.151556537153455,
          -1.7488873183815592,
          -1.7867821301766078,
          2.911679203029377,
          -2.2956005876558785,
          -0.7499528688071188,
          -0.9089051231691977,
          -2.3055216886136303,
          0.4920271221146909,
          0.16515907367004876,
          -3.1078710249083463,
          -0.04987196285845217,
          0.2547294619411744,
          -0.9836892517666501,
          -1.3764720736883929,
          -2.0126382980888207,
          1.2314819407464288,
          5.453691156287737,
          -1.4120377117846834,
          -1.9247599922084515,
          -0.8259906382878097,
          4.854172075544307,
          -0.22902005006629408,
          2.7308251721697974,
          1.0011412259100017,
          -0.9402948470326626,
          5.709534426033601,
          0.5701279112191883,
          -1.7234314198312888,
          -2.644087673528337,
          -3.462943649316173,
          -1.8554570841407818,
          -2.6615750160416844,
          -2.1351683934630765,
          -1.575184940737564,
          -1.342790597544366,
          2.466662848318198,
          -1.6747578855769332,
          -0.18812347015776174,
          -1.0299457089681125,
          -1.454771539584353,
          -1.5505857130813623,
          -1.2320147197569196,
          3.669066295749476,
          1.4291618741158332,
          -2.3500306270769187
         ],
         "xaxis": "x",
         "y": [
          -4.103222825208523,
          6.830607128762159,
          0.444155440643691,
          0.5029493170601644,
          0.9917420699984862,
          0.5809659200634009,
          0.18129774930935033,
          -0.2471196769507434,
          -6.4805818458812965,
          -2.745426442904958,
          -1.344178322622363,
          -0.25213410533566727,
          0.1995411286917708,
          0.5703020805130592,
          0.5990913953567156,
          -2.317038377398763,
          2.3464734949615393,
          0.31115622529528275,
          0.3830398000412041,
          11.204340901087745,
          0.4606045850027917,
          -2.72806771426579,
          -2.51586920313067,
          1.6412021748060739,
          -3.688321337184154,
          -2.063262411121831,
          -1.7155126691096785,
          -0.6659777566555051,
          -3.1188884667693277,
          -2.959084564696167,
          -1.8385988046671677,
          0.18163479557629036,
          4.218425932938892,
          -0.7633842955329134,
          0.5068865568606258,
          3.677578819983306,
          -5.0018123355211115,
          -2.6646952762772376,
          -0.07794959405922917,
          1.7088350269415111,
          0.0577537030566447,
          0.7487305844636213,
          1.4026166232744286,
          -0.7717060304697361,
          0.8640316278802161,
          4.993700691079334,
          1.1133373564988935,
          0.6226977218687739,
          0.06589035293921307,
          0.8662717504024632,
          -1.4577872530188685,
          -1.4968785767100412,
          -1.9744069906723154,
          1.4584340771600532,
          -0.41665396121039605,
          -0.9249748307617032,
          1.2322908097645253,
          0.48390501557876703,
          -0.3631991862917252,
          4.126853637540855,
          -1.7428986226887697,
          -1.8728628520426982,
          3.520272872875252,
          -4.436540416633137,
          -1.8604958942904934,
          -1.6349742914129284,
          -4.956405367674194,
          0.8602515906466798,
          -2.1808573259134008,
          -1.8265697935172789,
          0.7278913399984785,
          -1.256338226872239,
          -0.30729990018987274,
          6.9619887352036445,
          3.084346434248677,
          4.077050257334129,
          1.1241529230184766,
          -5.984403560099244,
          1.901093716112068,
          -5.009238366380924,
          -0.4725215400962926,
          -1.071277987756025,
          -3.592107010916529,
          -1.936009868622526,
          3.5254513599956763,
          -2.7408590841404563,
          -1.6717405360810014,
          -1.5015190759398216,
          -1.2319177935263874,
          -2.225538500919006,
          2.8932038348949454,
          3.7914044656996917,
          5.0654484883085935,
          5.36251905897389,
          -1.114240618291916,
          -5.093266944599914,
          -2.823293872412959,
          -0.6337372097620653,
          -1.0343976978986151,
          0.7910581508012897,
          -4.090698854722257,
          -3.285366948734965,
          -2.0575221666895733,
          5.252265388508985,
          10.178910213609647,
          4.343852561743561,
          -1.9613975750164419,
          2.920257866189462,
          -2.128729929170144,
          -0.6772750228547055,
          -0.8609655959265367,
          2.0807152179441935,
          -0.7097761156385254,
          -1.3240326087357606,
          0.31476034564970723,
          0.9751754777575239,
          2.8619885458366547,
          0.4340603145760382,
          0.05147238028336406,
          -1.1082101175609473,
          2.7022643009183893,
          -0.6199260077131881,
          3.6026686537235055,
          -1.2499228343847655
         ],
         "yaxis": "y"
        }
       ],
       "layout": {
        "coloraxis": {
         "colorbar": {
          "title": {
           "text": "Sensor ID"
          }
         },
         "colorscale": [
          [
           0,
           "#0d0887"
          ],
          [
           0.1111111111111111,
           "#46039f"
          ],
          [
           0.2222222222222222,
           "#7201a8"
          ],
          [
           0.3333333333333333,
           "#9c179e"
          ],
          [
           0.4444444444444444,
           "#bd3786"
          ],
          [
           0.5555555555555556,
           "#d8576b"
          ],
          [
           0.6666666666666666,
           "#ed7953"
          ],
          [
           0.7777777777777778,
           "#fb9f3a"
          ],
          [
           0.8888888888888888,
           "#fdca26"
          ],
          [
           1,
           "#f0f921"
          ]
         ]
        },
        "legend": {
         "tracegroupgap": 0
        },
        "template": {
         "data": {
          "bar": [
           {
            "error_x": {
             "color": "#2a3f5f"
            },
            "error_y": {
             "color": "#2a3f5f"
            },
            "marker": {
             "line": {
              "color": "#E5ECF6",
              "width": 0.5
             },
             "pattern": {
              "fillmode": "overlay",
              "size": 10,
              "solidity": 0.2
             }
            },
            "type": "bar"
           }
          ],
          "barpolar": [
           {
            "marker": {
             "line": {
              "color": "#E5ECF6",
              "width": 0.5
             },
             "pattern": {
              "fillmode": "overlay",
              "size": 10,
              "solidity": 0.2
             }
            },
            "type": "barpolar"
           }
          ],
          "carpet": [
           {
            "aaxis": {
             "endlinecolor": "#2a3f5f",
             "gridcolor": "white",
             "linecolor": "white",
             "minorgridcolor": "white",
             "startlinecolor": "#2a3f5f"
            },
            "baxis": {
             "endlinecolor": "#2a3f5f",
             "gridcolor": "white",
             "linecolor": "white",
             "minorgridcolor": "white",
             "startlinecolor": "#2a3f5f"
            },
            "type": "carpet"
           }
          ],
          "choropleth": [
           {
            "colorbar": {
             "outlinewidth": 0,
             "ticks": ""
            },
            "type": "choropleth"
           }
          ],
          "contour": [
           {
            "colorbar": {
             "outlinewidth": 0,
             "ticks": ""
            },
            "colorscale": [
             [
              0,
              "#0d0887"
             ],
             [
              0.1111111111111111,
              "#46039f"
             ],
             [
              0.2222222222222222,
              "#7201a8"
             ],
             [
              0.3333333333333333,
              "#9c179e"
             ],
             [
              0.4444444444444444,
              "#bd3786"
             ],
             [
              0.5555555555555556,
              "#d8576b"
             ],
             [
              0.6666666666666666,
              "#ed7953"
             ],
             [
              0.7777777777777778,
              "#fb9f3a"
             ],
             [
              0.8888888888888888,
              "#fdca26"
             ],
             [
              1,
              "#f0f921"
             ]
            ],
            "type": "contour"
           }
          ],
          "contourcarpet": [
           {
            "colorbar": {
             "outlinewidth": 0,
             "ticks": ""
            },
            "type": "contourcarpet"
           }
          ],
          "heatmap": [
           {
            "colorbar": {
             "outlinewidth": 0,
             "ticks": ""
            },
            "colorscale": [
             [
              0,
              "#0d0887"
             ],
             [
              0.1111111111111111,
              "#46039f"
             ],
             [
              0.2222222222222222,
              "#7201a8"
             ],
             [
              0.3333333333333333,
              "#9c179e"
             ],
             [
              0.4444444444444444,
              "#bd3786"
             ],
             [
              0.5555555555555556,
              "#d8576b"
             ],
             [
              0.6666666666666666,
              "#ed7953"
             ],
             [
              0.7777777777777778,
              "#fb9f3a"
             ],
             [
              0.8888888888888888,
              "#fdca26"
             ],
             [
              1,
              "#f0f921"
             ]
            ],
            "type": "heatmap"
           }
          ],
          "heatmapgl": [
           {
            "colorbar": {
             "outlinewidth": 0,
             "ticks": ""
            },
            "colorscale": [
             [
              0,
              "#0d0887"
             ],
             [
              0.1111111111111111,
              "#46039f"
             ],
             [
              0.2222222222222222,
              "#7201a8"
             ],
             [
              0.3333333333333333,
              "#9c179e"
             ],
             [
              0.4444444444444444,
              "#bd3786"
             ],
             [
              0.5555555555555556,
              "#d8576b"
             ],
             [
              0.6666666666666666,
              "#ed7953"
             ],
             [
              0.7777777777777778,
              "#fb9f3a"
             ],
             [
              0.8888888888888888,
              "#fdca26"
             ],
             [
              1,
              "#f0f921"
             ]
            ],
            "type": "heatmapgl"
           }
          ],
          "histogram": [
           {
            "marker": {
             "pattern": {
              "fillmode": "overlay",
              "size": 10,
              "solidity": 0.2
             }
            },
            "type": "histogram"
           }
          ],
          "histogram2d": [
           {
            "colorbar": {
             "outlinewidth": 0,
             "ticks": ""
            },
            "colorscale": [
             [
              0,
              "#0d0887"
             ],
             [
              0.1111111111111111,
              "#46039f"
             ],
             [
              0.2222222222222222,
              "#7201a8"
             ],
             [
              0.3333333333333333,
              "#9c179e"
             ],
             [
              0.4444444444444444,
              "#bd3786"
             ],
             [
              0.5555555555555556,
              "#d8576b"
             ],
             [
              0.6666666666666666,
              "#ed7953"
             ],
             [
              0.7777777777777778,
              "#fb9f3a"
             ],
             [
              0.8888888888888888,
              "#fdca26"
             ],
             [
              1,
              "#f0f921"
             ]
            ],
            "type": "histogram2d"
           }
          ],
          "histogram2dcontour": [
           {
            "colorbar": {
             "outlinewidth": 0,
             "ticks": ""
            },
            "colorscale": [
             [
              0,
              "#0d0887"
             ],
             [
              0.1111111111111111,
              "#46039f"
             ],
             [
              0.2222222222222222,
              "#7201a8"
             ],
             [
              0.3333333333333333,
              "#9c179e"
             ],
             [
              0.4444444444444444,
              "#bd3786"
             ],
             [
              0.5555555555555556,
              "#d8576b"
             ],
             [
              0.6666666666666666,
              "#ed7953"
             ],
             [
              0.7777777777777778,
              "#fb9f3a"
             ],
             [
              0.8888888888888888,
              "#fdca26"
             ],
             [
              1,
              "#f0f921"
             ]
            ],
            "type": "histogram2dcontour"
           }
          ],
          "mesh3d": [
           {
            "colorbar": {
             "outlinewidth": 0,
             "ticks": ""
            },
            "type": "mesh3d"
           }
          ],
          "parcoords": [
           {
            "line": {
             "colorbar": {
              "outlinewidth": 0,
              "ticks": ""
             }
            },
            "type": "parcoords"
           }
          ],
          "pie": [
           {
            "automargin": true,
            "type": "pie"
           }
          ],
          "scatter": [
           {
            "fillpattern": {
             "fillmode": "overlay",
             "size": 10,
             "solidity": 0.2
            },
            "type": "scatter"
           }
          ],
          "scatter3d": [
           {
            "line": {
             "colorbar": {
              "outlinewidth": 0,
              "ticks": ""
             }
            },
            "marker": {
             "colorbar": {
              "outlinewidth": 0,
              "ticks": ""
             }
            },
            "type": "scatter3d"
           }
          ],
          "scattercarpet": [
           {
            "marker": {
             "colorbar": {
              "outlinewidth": 0,
              "ticks": ""
             }
            },
            "type": "scattercarpet"
           }
          ],
          "scattergeo": [
           {
            "marker": {
             "colorbar": {
              "outlinewidth": 0,
              "ticks": ""
             }
            },
            "type": "scattergeo"
           }
          ],
          "scattergl": [
           {
            "marker": {
             "colorbar": {
              "outlinewidth": 0,
              "ticks": ""
             }
            },
            "type": "scattergl"
           }
          ],
          "scattermapbox": [
           {
            "marker": {
             "colorbar": {
              "outlinewidth": 0,
              "ticks": ""
             }
            },
            "type": "scattermapbox"
           }
          ],
          "scatterpolar": [
           {
            "marker": {
             "colorbar": {
              "outlinewidth": 0,
              "ticks": ""
             }
            },
            "type": "scatterpolar"
           }
          ],
          "scatterpolargl": [
           {
            "marker": {
             "colorbar": {
              "outlinewidth": 0,
              "ticks": ""
             }
            },
            "type": "scatterpolargl"
           }
          ],
          "scatterternary": [
           {
            "marker": {
             "colorbar": {
              "outlinewidth": 0,
              "ticks": ""
             }
            },
            "type": "scatterternary"
           }
          ],
          "surface": [
           {
            "colorbar": {
             "outlinewidth": 0,
             "ticks": ""
            },
            "colorscale": [
             [
              0,
              "#0d0887"
             ],
             [
              0.1111111111111111,
              "#46039f"
             ],
             [
              0.2222222222222222,
              "#7201a8"
             ],
             [
              0.3333333333333333,
              "#9c179e"
             ],
             [
              0.4444444444444444,
              "#bd3786"
             ],
             [
              0.5555555555555556,
              "#d8576b"
             ],
             [
              0.6666666666666666,
              "#ed7953"
             ],
             [
              0.7777777777777778,
              "#fb9f3a"
             ],
             [
              0.8888888888888888,
              "#fdca26"
             ],
             [
              1,
              "#f0f921"
             ]
            ],
            "type": "surface"
           }
          ],
          "table": [
           {
            "cells": {
             "fill": {
              "color": "#EBF0F8"
             },
             "line": {
              "color": "white"
             }
            },
            "header": {
             "fill": {
              "color": "#C8D4E3"
             },
             "line": {
              "color": "white"
             }
            },
            "type": "table"
           }
          ]
         },
         "layout": {
          "annotationdefaults": {
           "arrowcolor": "#2a3f5f",
           "arrowhead": 0,
           "arrowwidth": 1
          },
          "autotypenumbers": "strict",
          "coloraxis": {
           "colorbar": {
            "outlinewidth": 0,
            "ticks": ""
           }
          },
          "colorscale": {
           "diverging": [
            [
             0,
             "#8e0152"
            ],
            [
             0.1,
             "#c51b7d"
            ],
            [
             0.2,
             "#de77ae"
            ],
            [
             0.3,
             "#f1b6da"
            ],
            [
             0.4,
             "#fde0ef"
            ],
            [
             0.5,
             "#f7f7f7"
            ],
            [
             0.6,
             "#e6f5d0"
            ],
            [
             0.7,
             "#b8e186"
            ],
            [
             0.8,
             "#7fbc41"
            ],
            [
             0.9,
             "#4d9221"
            ],
            [
             1,
             "#276419"
            ]
           ],
           "sequential": [
            [
             0,
             "#0d0887"
            ],
            [
             0.1111111111111111,
             "#46039f"
            ],
            [
             0.2222222222222222,
             "#7201a8"
            ],
            [
             0.3333333333333333,
             "#9c179e"
            ],
            [
             0.4444444444444444,
             "#bd3786"
            ],
            [
             0.5555555555555556,
             "#d8576b"
            ],
            [
             0.6666666666666666,
             "#ed7953"
            ],
            [
             0.7777777777777778,
             "#fb9f3a"
            ],
            [
             0.8888888888888888,
             "#fdca26"
            ],
            [
             1,
             "#f0f921"
            ]
           ],
           "sequentialminus": [
            [
             0,
             "#0d0887"
            ],
            [
             0.1111111111111111,
             "#46039f"
            ],
            [
             0.2222222222222222,
             "#7201a8"
            ],
            [
             0.3333333333333333,
             "#9c179e"
            ],
            [
             0.4444444444444444,
             "#bd3786"
            ],
            [
             0.5555555555555556,
             "#d8576b"
            ],
            [
             0.6666666666666666,
             "#ed7953"
            ],
            [
             0.7777777777777778,
             "#fb9f3a"
            ],
            [
             0.8888888888888888,
             "#fdca26"
            ],
            [
             1,
             "#f0f921"
            ]
           ]
          },
          "colorway": [
           "#636efa",
           "#EF553B",
           "#00cc96",
           "#ab63fa",
           "#FFA15A",
           "#19d3f3",
           "#FF6692",
           "#B6E880",
           "#FF97FF",
           "#FECB52"
          ],
          "font": {
           "color": "#2a3f5f"
          },
          "geo": {
           "bgcolor": "white",
           "lakecolor": "white",
           "landcolor": "#E5ECF6",
           "showlakes": true,
           "showland": true,
           "subunitcolor": "white"
          },
          "hoverlabel": {
           "align": "left"
          },
          "hovermode": "closest",
          "mapbox": {
           "style": "light"
          },
          "paper_bgcolor": "white",
          "plot_bgcolor": "#E5ECF6",
          "polar": {
           "angularaxis": {
            "gridcolor": "white",
            "linecolor": "white",
            "ticks": ""
           },
           "bgcolor": "#E5ECF6",
           "radialaxis": {
            "gridcolor": "white",
            "linecolor": "white",
            "ticks": ""
           }
          },
          "scene": {
           "xaxis": {
            "backgroundcolor": "#E5ECF6",
            "gridcolor": "white",
            "gridwidth": 2,
            "linecolor": "white",
            "showbackground": true,
            "ticks": "",
            "zerolinecolor": "white"
           },
           "yaxis": {
            "backgroundcolor": "#E5ECF6",
            "gridcolor": "white",
            "gridwidth": 2,
            "linecolor": "white",
            "showbackground": true,
            "ticks": "",
            "zerolinecolor": "white"
           },
           "zaxis": {
            "backgroundcolor": "#E5ECF6",
            "gridcolor": "white",
            "gridwidth": 2,
            "linecolor": "white",
            "showbackground": true,
            "ticks": "",
            "zerolinecolor": "white"
           }
          },
          "shapedefaults": {
           "line": {
            "color": "#2a3f5f"
           }
          },
          "ternary": {
           "aaxis": {
            "gridcolor": "white",
            "linecolor": "white",
            "ticks": ""
           },
           "baxis": {
            "gridcolor": "white",
            "linecolor": "white",
            "ticks": ""
           },
           "bgcolor": "#E5ECF6",
           "caxis": {
            "gridcolor": "white",
            "linecolor": "white",
            "ticks": ""
           }
          },
          "title": {
           "x": 0.05
          },
          "xaxis": {
           "automargin": true,
           "gridcolor": "white",
           "linecolor": "white",
           "ticks": "",
           "title": {
            "standoff": 15
           },
           "zerolinecolor": "white",
           "zerolinewidth": 2
          },
          "yaxis": {
           "automargin": true,
           "gridcolor": "white",
           "linecolor": "white",
           "ticks": "",
           "title": {
            "standoff": 15
           },
           "zerolinecolor": "white",
           "zerolinewidth": 2
          }
         }
        },
        "title": {
         "text": "2D PCA Visualization"
        },
        "xaxis": {
         "anchor": "y",
         "domain": [
          0,
          1
         ],
         "title": {
          "text": "PC1"
         }
        },
        "yaxis": {
         "anchor": "x",
         "domain": [
          0,
          1
         ],
         "title": {
          "text": "PC2"
         }
        }
       }
      }
     },
     "metadata": {},
     "output_type": "display_data"
    },
    {
     "data": {
      "application/vnd.plotly.v1+json": {
       "config": {
        "plotlyServerURL": "https://plot.ly"
       },
       "data": [
        {
         "hovertemplate": "PC1=%{x}<br>PC2=%{y}<br>PC3=%{z}<br>Sensor ID=%{marker.color}<extra></extra>",
         "legendgroup": "",
         "marker": {
          "color": [
           1,
           2,
           3,
           4,
           5,
           6,
           7,
           8,
           9,
           10,
           11,
           12,
           13,
           14,
           15,
           16,
           17,
           18,
           19,
           20,
           21,
           22,
           23,
           24,
           25,
           26,
           27,
           28,
           29,
           30,
           32,
           33,
           34,
           35,
           36,
           37,
           38,
           39,
           40,
           41,
           42,
           43,
           44,
           45,
           46,
           47,
           48,
           49,
           50,
           51,
           52,
           53,
           54,
           55,
           56,
           57,
           58,
           59,
           60,
           61,
           62,
           63,
           64,
           65,
           66,
           67,
           68,
           69,
           70,
           71,
           72,
           73,
           74,
           75,
           76,
           77,
           78,
           79,
           80,
           81,
           82,
           83,
           84,
           85,
           86,
           87,
           88,
           89,
           90,
           91,
           92,
           93,
           94,
           95,
           96,
           97,
           98,
           99,
           100,
           101,
           102,
           103,
           104,
           105,
           106,
           107,
           108,
           109,
           110,
           111,
           112,
           113,
           114,
           115,
           116,
           117,
           118,
           119,
           120,
           121,
           122,
           123,
           124,
           125
          ],
          "coloraxis": "coloraxis",
          "symbol": "circle"
         },
         "mode": "markers",
         "name": "",
         "scene": "scene",
         "showlegend": false,
         "type": "scatter3d",
         "x": [
          12.08551456198792,
          4.3431977478422406,
          -3.3821164464477556,
          2.994491128981766,
          3.3372988121515172,
          0.5738286356931726,
          -1.8802261658632213,
          0.8918362654619663,
          3.149870128527956,
          -0.5710649037739176,
          -1.2301749423303976,
          0.39886792619754624,
          1.0899576922527194,
          -1.9266001838529516,
          3.8601448638623563,
          -0.9562677834391804,
          1.1434821588792727,
          -3.9500095542069307,
          4.266528143755429,
          -0.6286285023978382,
          1.173278146296242,
          -2.4559108509938943,
          -1.7954664453459466,
          1.7131936978014084,
          -2.6648853563013786,
          -1.4759587400393823,
          -0.3697354470503733,
          1.2771762069015107,
          -0.3284075347890414,
          -3.1764452744984504,
          -4.096603377920123,
          2.8275883191383797,
          -0.06606204209292825,
          0.8822264185041263,
          1.5481062741905962,
          7.671401549467721,
          1.1928392131080192,
          24.308198237715647,
          0.20757848420053915,
          3.3374050543655778,
          -2.2850502284317358,
          8.677961269101532,
          -3.080724328114891,
          -4.03859942998449,
          2.328866327177824,
          -0.8786620011079389,
          -1.597646831163513,
          -1.8898517335603227,
          0.19972323321410307,
          -2.332045482760649,
          -2.9723460900898195,
          -2.6213539405260393,
          -2.699279268249655,
          -0.19412525727050417,
          -3.6249478713657663,
          -4.294267023494059,
          -0.6353519841114407,
          -3.6964804517270102,
          -0.645580037909441,
          -2.6425383964611764,
          -0.15228063936270145,
          0.8873196365849066,
          0.4664974652302906,
          -1.1027045981240617,
          1.6135817094395648,
          0.6924160551222588,
          1.8409062417161148,
          -1.656626306410416,
          2.818931468049594,
          -2.2257722615045665,
          -1.6652824328153402,
          -2.1854035338454407,
          -1.5983564377503037,
          -0.9272938581572886,
          -3.6296852779102236,
          -3.163745011628514,
          1.1069488106418557,
          -3.068449936083786,
          4.151556537153455,
          -1.7488873183815592,
          -1.7867821301766078,
          2.911679203029377,
          -2.2956005876558785,
          -0.7499528688071188,
          -0.9089051231691977,
          -2.3055216886136303,
          0.4920271221146909,
          0.16515907367004876,
          -3.1078710249083463,
          -0.04987196285845217,
          0.2547294619411744,
          -0.9836892517666501,
          -1.3764720736883929,
          -2.0126382980888207,
          1.2314819407464288,
          5.453691156287737,
          -1.4120377117846834,
          -1.9247599922084515,
          -0.8259906382878097,
          4.854172075544307,
          -0.22902005006629408,
          2.7308251721697974,
          1.0011412259100017,
          -0.9402948470326626,
          5.709534426033601,
          0.5701279112191883,
          -1.7234314198312888,
          -2.644087673528337,
          -3.462943649316173,
          -1.8554570841407818,
          -2.6615750160416844,
          -2.1351683934630765,
          -1.575184940737564,
          -1.342790597544366,
          2.466662848318198,
          -1.6747578855769332,
          -0.18812347015776174,
          -1.0299457089681125,
          -1.454771539584353,
          -1.5505857130813623,
          -1.2320147197569196,
          3.669066295749476,
          1.4291618741158332,
          -2.3500306270769187
         ],
         "y": [
          -4.103222825208523,
          6.830607128762159,
          0.444155440643691,
          0.5029493170601644,
          0.9917420699984862,
          0.5809659200634009,
          0.18129774930935033,
          -0.2471196769507434,
          -6.4805818458812965,
          -2.745426442904958,
          -1.344178322622363,
          -0.25213410533566727,
          0.1995411286917708,
          0.5703020805130592,
          0.5990913953567156,
          -2.317038377398763,
          2.3464734949615393,
          0.31115622529528275,
          0.3830398000412041,
          11.204340901087745,
          0.4606045850027917,
          -2.72806771426579,
          -2.51586920313067,
          1.6412021748060739,
          -3.688321337184154,
          -2.063262411121831,
          -1.7155126691096785,
          -0.6659777566555051,
          -3.1188884667693277,
          -2.959084564696167,
          -1.8385988046671677,
          0.18163479557629036,
          4.218425932938892,
          -0.7633842955329134,
          0.5068865568606258,
          3.677578819983306,
          -5.0018123355211115,
          -2.6646952762772376,
          -0.07794959405922917,
          1.7088350269415111,
          0.0577537030566447,
          0.7487305844636213,
          1.4026166232744286,
          -0.7717060304697361,
          0.8640316278802161,
          4.993700691079334,
          1.1133373564988935,
          0.6226977218687739,
          0.06589035293921307,
          0.8662717504024632,
          -1.4577872530188685,
          -1.4968785767100412,
          -1.9744069906723154,
          1.4584340771600532,
          -0.41665396121039605,
          -0.9249748307617032,
          1.2322908097645253,
          0.48390501557876703,
          -0.3631991862917252,
          4.126853637540855,
          -1.7428986226887697,
          -1.8728628520426982,
          3.520272872875252,
          -4.436540416633137,
          -1.8604958942904934,
          -1.6349742914129284,
          -4.956405367674194,
          0.8602515906466798,
          -2.1808573259134008,
          -1.8265697935172789,
          0.7278913399984785,
          -1.256338226872239,
          -0.30729990018987274,
          6.9619887352036445,
          3.084346434248677,
          4.077050257334129,
          1.1241529230184766,
          -5.984403560099244,
          1.901093716112068,
          -5.009238366380924,
          -0.4725215400962926,
          -1.071277987756025,
          -3.592107010916529,
          -1.936009868622526,
          3.5254513599956763,
          -2.7408590841404563,
          -1.6717405360810014,
          -1.5015190759398216,
          -1.2319177935263874,
          -2.225538500919006,
          2.8932038348949454,
          3.7914044656996917,
          5.0654484883085935,
          5.36251905897389,
          -1.114240618291916,
          -5.093266944599914,
          -2.823293872412959,
          -0.6337372097620653,
          -1.0343976978986151,
          0.7910581508012897,
          -4.090698854722257,
          -3.285366948734965,
          -2.0575221666895733,
          5.252265388508985,
          10.178910213609647,
          4.343852561743561,
          -1.9613975750164419,
          2.920257866189462,
          -2.128729929170144,
          -0.6772750228547055,
          -0.8609655959265367,
          2.0807152179441935,
          -0.7097761156385254,
          -1.3240326087357606,
          0.31476034564970723,
          0.9751754777575239,
          2.8619885458366547,
          0.4340603145760382,
          0.05147238028336406,
          -1.1082101175609473,
          2.7022643009183893,
          -0.6199260077131881,
          3.6026686537235055,
          -1.2499228343847655
         ],
         "z": [
          -10.822091808341707,
          -0.8394664462978,
          -1.3302065155959368,
          2.0738083246364183,
          0.5712070604994605,
          -8.87558152664736,
          -0.9308147123358621,
          -0.6384833222341876,
          2.4367866153466013,
          1.5519406210426152,
          0.6698388275954167,
          -1.4908929994295856,
          0.5986832427798099,
          0.7359565246554224,
          0.4655799695870183,
          -0.2958613443268245,
          -1.296033922993384,
          -2.3638306132049394,
          0.587519163687013,
          1.8443224488937735,
          2.2964833350579346,
          -0.9164426115819532,
          0.911753128645403,
          -3.034651961553135,
          0.16457113253676126,
          -0.5729013944064315,
          0.357627797312687,
          -0.07883112680182816,
          0.21758876953553327,
          -1.7328622409818903,
          1.876679521255776,
          -1.6663661325886512,
          -1.025621587187702,
          -1.2150882078581235,
          2.5925012189018823,
          3.03005605296371,
          18.727251457755344,
          1.9064243501507714,
          -0.6008001194403655,
          -2.0587987164748456,
          1.8354663507421805,
          0.949753044413809,
          -0.7277009987495657,
          0.08195193996061778,
          -1.412933129820155,
          2.282139781571358,
          1.007352973343591,
          -0.10963714381703148,
          -3.184745560162757,
          -0.2766883891397678,
          -2.0374793502307686,
          1.5588645483694517,
          1.2307986531769075,
          -0.9726479238507597,
          -0.230761371303647,
          0.4165239916318045,
          -0.3812095736296172,
          -0.806717367160053,
          -0.16305383728714223,
          1.533618413895225,
          -1.3897390175887596,
          -0.9994667950493297,
          -0.9918764731005628,
          -2.286335708377734,
          -0.9596994892900291,
          -0.5852178396419083,
          1.6473802415306327,
          1.7377695356606542,
          -3.7664230930923073,
          -1.2321808052403018,
          1.2517083980604253,
          -0.24158040683919096,
          -2.0006249086879655,
          1.4341796339257387,
          1.921234756395525,
          0.9282358463290056,
          -0.5031525056282108,
          -0.8664294813427851,
          1.0160470642647261,
          -4.56174952107447,
          0.20598817796722363,
          -1.4714980384126661,
          -0.044743515436404147,
          5.196543533363919,
          -1.3582860718093244,
          -0.23547714126942207,
          5.214046275622652,
          -2.5685641128630397,
          -0.47509516625511206,
          0.021805916678195366,
          2.00042770111959,
          0.5749002415509259,
          0.2527062635566592,
          1.3417391822236548,
          -1.5812293037743947,
          1.5823004827460534,
          0.10268041041605824,
          -0.4056390281162492,
          -2.2052527834740356,
          4.048167884725263,
          -2.2145259316795722,
          1.4981761555376971,
          -0.9183670520545669,
          -4.682934170273042,
          -0.029320091822455513,
          1.5039001681350217,
          -0.8950639736949486,
          0.6348620607855138,
          0.3954323749706902,
          0.23596871502786315,
          -0.4980922935884345,
          0.5468258860615516,
          0.29128381082262683,
          2.1382258624736985,
          2.207104084388901,
          -1.5532753192330422,
          1.0131679121702413,
          -0.6496532592841755,
          2.4899432882016304,
          -0.7170798259674365,
          -1.4715851155435509,
          0.7915282222180797,
          -1.2291224297036802,
          -1.058846722231868
         ]
        }
       ],
       "layout": {
        "coloraxis": {
         "colorbar": {
          "title": {
           "text": "Sensor ID"
          }
         },
         "colorscale": [
          [
           0,
           "#0d0887"
          ],
          [
           0.1111111111111111,
           "#46039f"
          ],
          [
           0.2222222222222222,
           "#7201a8"
          ],
          [
           0.3333333333333333,
           "#9c179e"
          ],
          [
           0.4444444444444444,
           "#bd3786"
          ],
          [
           0.5555555555555556,
           "#d8576b"
          ],
          [
           0.6666666666666666,
           "#ed7953"
          ],
          [
           0.7777777777777778,
           "#fb9f3a"
          ],
          [
           0.8888888888888888,
           "#fdca26"
          ],
          [
           1,
           "#f0f921"
          ]
         ]
        },
        "legend": {
         "tracegroupgap": 0
        },
        "scene": {
         "domain": {
          "x": [
           0,
           1
          ],
          "y": [
           0,
           1
          ]
         },
         "xaxis": {
          "title": {
           "text": "PC1"
          }
         },
         "yaxis": {
          "title": {
           "text": "PC2"
          }
         },
         "zaxis": {
          "title": {
           "text": "PC3"
          }
         }
        },
        "template": {
         "data": {
          "bar": [
           {
            "error_x": {
             "color": "#2a3f5f"
            },
            "error_y": {
             "color": "#2a3f5f"
            },
            "marker": {
             "line": {
              "color": "#E5ECF6",
              "width": 0.5
             },
             "pattern": {
              "fillmode": "overlay",
              "size": 10,
              "solidity": 0.2
             }
            },
            "type": "bar"
           }
          ],
          "barpolar": [
           {
            "marker": {
             "line": {
              "color": "#E5ECF6",
              "width": 0.5
             },
             "pattern": {
              "fillmode": "overlay",
              "size": 10,
              "solidity": 0.2
             }
            },
            "type": "barpolar"
           }
          ],
          "carpet": [
           {
            "aaxis": {
             "endlinecolor": "#2a3f5f",
             "gridcolor": "white",
             "linecolor": "white",
             "minorgridcolor": "white",
             "startlinecolor": "#2a3f5f"
            },
            "baxis": {
             "endlinecolor": "#2a3f5f",
             "gridcolor": "white",
             "linecolor": "white",
             "minorgridcolor": "white",
             "startlinecolor": "#2a3f5f"
            },
            "type": "carpet"
           }
          ],
          "choropleth": [
           {
            "colorbar": {
             "outlinewidth": 0,
             "ticks": ""
            },
            "type": "choropleth"
           }
          ],
          "contour": [
           {
            "colorbar": {
             "outlinewidth": 0,
             "ticks": ""
            },
            "colorscale": [
             [
              0,
              "#0d0887"
             ],
             [
              0.1111111111111111,
              "#46039f"
             ],
             [
              0.2222222222222222,
              "#7201a8"
             ],
             [
              0.3333333333333333,
              "#9c179e"
             ],
             [
              0.4444444444444444,
              "#bd3786"
             ],
             [
              0.5555555555555556,
              "#d8576b"
             ],
             [
              0.6666666666666666,
              "#ed7953"
             ],
             [
              0.7777777777777778,
              "#fb9f3a"
             ],
             [
              0.8888888888888888,
              "#fdca26"
             ],
             [
              1,
              "#f0f921"
             ]
            ],
            "type": "contour"
           }
          ],
          "contourcarpet": [
           {
            "colorbar": {
             "outlinewidth": 0,
             "ticks": ""
            },
            "type": "contourcarpet"
           }
          ],
          "heatmap": [
           {
            "colorbar": {
             "outlinewidth": 0,
             "ticks": ""
            },
            "colorscale": [
             [
              0,
              "#0d0887"
             ],
             [
              0.1111111111111111,
              "#46039f"
             ],
             [
              0.2222222222222222,
              "#7201a8"
             ],
             [
              0.3333333333333333,
              "#9c179e"
             ],
             [
              0.4444444444444444,
              "#bd3786"
             ],
             [
              0.5555555555555556,
              "#d8576b"
             ],
             [
              0.6666666666666666,
              "#ed7953"
             ],
             [
              0.7777777777777778,
              "#fb9f3a"
             ],
             [
              0.8888888888888888,
              "#fdca26"
             ],
             [
              1,
              "#f0f921"
             ]
            ],
            "type": "heatmap"
           }
          ],
          "heatmapgl": [
           {
            "colorbar": {
             "outlinewidth": 0,
             "ticks": ""
            },
            "colorscale": [
             [
              0,
              "#0d0887"
             ],
             [
              0.1111111111111111,
              "#46039f"
             ],
             [
              0.2222222222222222,
              "#7201a8"
             ],
             [
              0.3333333333333333,
              "#9c179e"
             ],
             [
              0.4444444444444444,
              "#bd3786"
             ],
             [
              0.5555555555555556,
              "#d8576b"
             ],
             [
              0.6666666666666666,
              "#ed7953"
             ],
             [
              0.7777777777777778,
              "#fb9f3a"
             ],
             [
              0.8888888888888888,
              "#fdca26"
             ],
             [
              1,
              "#f0f921"
             ]
            ],
            "type": "heatmapgl"
           }
          ],
          "histogram": [
           {
            "marker": {
             "pattern": {
              "fillmode": "overlay",
              "size": 10,
              "solidity": 0.2
             }
            },
            "type": "histogram"
           }
          ],
          "histogram2d": [
           {
            "colorbar": {
             "outlinewidth": 0,
             "ticks": ""
            },
            "colorscale": [
             [
              0,
              "#0d0887"
             ],
             [
              0.1111111111111111,
              "#46039f"
             ],
             [
              0.2222222222222222,
              "#7201a8"
             ],
             [
              0.3333333333333333,
              "#9c179e"
             ],
             [
              0.4444444444444444,
              "#bd3786"
             ],
             [
              0.5555555555555556,
              "#d8576b"
             ],
             [
              0.6666666666666666,
              "#ed7953"
             ],
             [
              0.7777777777777778,
              "#fb9f3a"
             ],
             [
              0.8888888888888888,
              "#fdca26"
             ],
             [
              1,
              "#f0f921"
             ]
            ],
            "type": "histogram2d"
           }
          ],
          "histogram2dcontour": [
           {
            "colorbar": {
             "outlinewidth": 0,
             "ticks": ""
            },
            "colorscale": [
             [
              0,
              "#0d0887"
             ],
             [
              0.1111111111111111,
              "#46039f"
             ],
             [
              0.2222222222222222,
              "#7201a8"
             ],
             [
              0.3333333333333333,
              "#9c179e"
             ],
             [
              0.4444444444444444,
              "#bd3786"
             ],
             [
              0.5555555555555556,
              "#d8576b"
             ],
             [
              0.6666666666666666,
              "#ed7953"
             ],
             [
              0.7777777777777778,
              "#fb9f3a"
             ],
             [
              0.8888888888888888,
              "#fdca26"
             ],
             [
              1,
              "#f0f921"
             ]
            ],
            "type": "histogram2dcontour"
           }
          ],
          "mesh3d": [
           {
            "colorbar": {
             "outlinewidth": 0,
             "ticks": ""
            },
            "type": "mesh3d"
           }
          ],
          "parcoords": [
           {
            "line": {
             "colorbar": {
              "outlinewidth": 0,
              "ticks": ""
             }
            },
            "type": "parcoords"
           }
          ],
          "pie": [
           {
            "automargin": true,
            "type": "pie"
           }
          ],
          "scatter": [
           {
            "fillpattern": {
             "fillmode": "overlay",
             "size": 10,
             "solidity": 0.2
            },
            "type": "scatter"
           }
          ],
          "scatter3d": [
           {
            "line": {
             "colorbar": {
              "outlinewidth": 0,
              "ticks": ""
             }
            },
            "marker": {
             "colorbar": {
              "outlinewidth": 0,
              "ticks": ""
             }
            },
            "type": "scatter3d"
           }
          ],
          "scattercarpet": [
           {
            "marker": {
             "colorbar": {
              "outlinewidth": 0,
              "ticks": ""
             }
            },
            "type": "scattercarpet"
           }
          ],
          "scattergeo": [
           {
            "marker": {
             "colorbar": {
              "outlinewidth": 0,
              "ticks": ""
             }
            },
            "type": "scattergeo"
           }
          ],
          "scattergl": [
           {
            "marker": {
             "colorbar": {
              "outlinewidth": 0,
              "ticks": ""
             }
            },
            "type": "scattergl"
           }
          ],
          "scattermapbox": [
           {
            "marker": {
             "colorbar": {
              "outlinewidth": 0,
              "ticks": ""
             }
            },
            "type": "scattermapbox"
           }
          ],
          "scatterpolar": [
           {
            "marker": {
             "colorbar": {
              "outlinewidth": 0,
              "ticks": ""
             }
            },
            "type": "scatterpolar"
           }
          ],
          "scatterpolargl": [
           {
            "marker": {
             "colorbar": {
              "outlinewidth": 0,
              "ticks": ""
             }
            },
            "type": "scatterpolargl"
           }
          ],
          "scatterternary": [
           {
            "marker": {
             "colorbar": {
              "outlinewidth": 0,
              "ticks": ""
             }
            },
            "type": "scatterternary"
           }
          ],
          "surface": [
           {
            "colorbar": {
             "outlinewidth": 0,
             "ticks": ""
            },
            "colorscale": [
             [
              0,
              "#0d0887"
             ],
             [
              0.1111111111111111,
              "#46039f"
             ],
             [
              0.2222222222222222,
              "#7201a8"
             ],
             [
              0.3333333333333333,
              "#9c179e"
             ],
             [
              0.4444444444444444,
              "#bd3786"
             ],
             [
              0.5555555555555556,
              "#d8576b"
             ],
             [
              0.6666666666666666,
              "#ed7953"
             ],
             [
              0.7777777777777778,
              "#fb9f3a"
             ],
             [
              0.8888888888888888,
              "#fdca26"
             ],
             [
              1,
              "#f0f921"
             ]
            ],
            "type": "surface"
           }
          ],
          "table": [
           {
            "cells": {
             "fill": {
              "color": "#EBF0F8"
             },
             "line": {
              "color": "white"
             }
            },
            "header": {
             "fill": {
              "color": "#C8D4E3"
             },
             "line": {
              "color": "white"
             }
            },
            "type": "table"
           }
          ]
         },
         "layout": {
          "annotationdefaults": {
           "arrowcolor": "#2a3f5f",
           "arrowhead": 0,
           "arrowwidth": 1
          },
          "autotypenumbers": "strict",
          "coloraxis": {
           "colorbar": {
            "outlinewidth": 0,
            "ticks": ""
           }
          },
          "colorscale": {
           "diverging": [
            [
             0,
             "#8e0152"
            ],
            [
             0.1,
             "#c51b7d"
            ],
            [
             0.2,
             "#de77ae"
            ],
            [
             0.3,
             "#f1b6da"
            ],
            [
             0.4,
             "#fde0ef"
            ],
            [
             0.5,
             "#f7f7f7"
            ],
            [
             0.6,
             "#e6f5d0"
            ],
            [
             0.7,
             "#b8e186"
            ],
            [
             0.8,
             "#7fbc41"
            ],
            [
             0.9,
             "#4d9221"
            ],
            [
             1,
             "#276419"
            ]
           ],
           "sequential": [
            [
             0,
             "#0d0887"
            ],
            [
             0.1111111111111111,
             "#46039f"
            ],
            [
             0.2222222222222222,
             "#7201a8"
            ],
            [
             0.3333333333333333,
             "#9c179e"
            ],
            [
             0.4444444444444444,
             "#bd3786"
            ],
            [
             0.5555555555555556,
             "#d8576b"
            ],
            [
             0.6666666666666666,
             "#ed7953"
            ],
            [
             0.7777777777777778,
             "#fb9f3a"
            ],
            [
             0.8888888888888888,
             "#fdca26"
            ],
            [
             1,
             "#f0f921"
            ]
           ],
           "sequentialminus": [
            [
             0,
             "#0d0887"
            ],
            [
             0.1111111111111111,
             "#46039f"
            ],
            [
             0.2222222222222222,
             "#7201a8"
            ],
            [
             0.3333333333333333,
             "#9c179e"
            ],
            [
             0.4444444444444444,
             "#bd3786"
            ],
            [
             0.5555555555555556,
             "#d8576b"
            ],
            [
             0.6666666666666666,
             "#ed7953"
            ],
            [
             0.7777777777777778,
             "#fb9f3a"
            ],
            [
             0.8888888888888888,
             "#fdca26"
            ],
            [
             1,
             "#f0f921"
            ]
           ]
          },
          "colorway": [
           "#636efa",
           "#EF553B",
           "#00cc96",
           "#ab63fa",
           "#FFA15A",
           "#19d3f3",
           "#FF6692",
           "#B6E880",
           "#FF97FF",
           "#FECB52"
          ],
          "font": {
           "color": "#2a3f5f"
          },
          "geo": {
           "bgcolor": "white",
           "lakecolor": "white",
           "landcolor": "#E5ECF6",
           "showlakes": true,
           "showland": true,
           "subunitcolor": "white"
          },
          "hoverlabel": {
           "align": "left"
          },
          "hovermode": "closest",
          "mapbox": {
           "style": "light"
          },
          "paper_bgcolor": "white",
          "plot_bgcolor": "#E5ECF6",
          "polar": {
           "angularaxis": {
            "gridcolor": "white",
            "linecolor": "white",
            "ticks": ""
           },
           "bgcolor": "#E5ECF6",
           "radialaxis": {
            "gridcolor": "white",
            "linecolor": "white",
            "ticks": ""
           }
          },
          "scene": {
           "xaxis": {
            "backgroundcolor": "#E5ECF6",
            "gridcolor": "white",
            "gridwidth": 2,
            "linecolor": "white",
            "showbackground": true,
            "ticks": "",
            "zerolinecolor": "white"
           },
           "yaxis": {
            "backgroundcolor": "#E5ECF6",
            "gridcolor": "white",
            "gridwidth": 2,
            "linecolor": "white",
            "showbackground": true,
            "ticks": "",
            "zerolinecolor": "white"
           },
           "zaxis": {
            "backgroundcolor": "#E5ECF6",
            "gridcolor": "white",
            "gridwidth": 2,
            "linecolor": "white",
            "showbackground": true,
            "ticks": "",
            "zerolinecolor": "white"
           }
          },
          "shapedefaults": {
           "line": {
            "color": "#2a3f5f"
           }
          },
          "ternary": {
           "aaxis": {
            "gridcolor": "white",
            "linecolor": "white",
            "ticks": ""
           },
           "baxis": {
            "gridcolor": "white",
            "linecolor": "white",
            "ticks": ""
           },
           "bgcolor": "#E5ECF6",
           "caxis": {
            "gridcolor": "white",
            "linecolor": "white",
            "ticks": ""
           }
          },
          "title": {
           "x": 0.05
          },
          "xaxis": {
           "automargin": true,
           "gridcolor": "white",
           "linecolor": "white",
           "ticks": "",
           "title": {
            "standoff": 15
           },
           "zerolinecolor": "white",
           "zerolinewidth": 2
          },
          "yaxis": {
           "automargin": true,
           "gridcolor": "white",
           "linecolor": "white",
           "ticks": "",
           "title": {
            "standoff": 15
           },
           "zerolinecolor": "white",
           "zerolinewidth": 2
          }
         }
        },
        "title": {
         "text": "3D PCA Visualization"
        }
       }
      }
     },
     "metadata": {},
     "output_type": "display_data"
    },
    {
     "name": "stderr",
     "output_type": "stream",
     "text": [
      "/Users/jihoonchung/anaconda3/envs/datascience/lib/python3.10/site-packages/sklearn/cluster/_kmeans.py:1412: FutureWarning:\n",
      "\n",
      "The default value of `n_init` will change from 10 to 'auto' in 1.4. Set the value of `n_init` explicitly to suppress the warning\n",
      "\n"
     ]
    },
    {
     "name": "stdout",
     "output_type": "stream",
     "text": [
      "Evaluation Results:\n",
      "Explained Variance Ratio: [0.0523666  0.03708098 0.03096931 0.0291507  0.02727311 0.02500525\n",
      " 0.02481677 0.02435311 0.02298662 0.02161475]\n",
      "Cumulative Explained Variance: [0.0523666  0.08944758 0.12041689 0.1495676  0.17684071 0.20184596\n",
      " 0.22666273 0.25101584 0.27400245 0.2956172 ]\n",
      "Reconstruction Error: 0.704382797104939\n",
      "Silhouette Score: 0.1477620040011877\n"
     ]
    }
   ],
   "source": [
    "results = evaluate_pca(df, n_components=10, color_column='Sensor ID', n_clusters=3, n_components_to_use=5)\n",
    "\n",
    "print(\"Evaluation Results:\")\n",
    "print(f\"Explained Variance Ratio: {results['explained_variance_ratio']}\")\n",
    "print(f\"Cumulative Explained Variance: {results['cumulative_explained_variance']}\")\n",
    "print(f\"Reconstruction Error: {results['reconstruction_error']}\")\n",
    "print(f\"Silhouette Score: {results['silhouette_score']}\")"
   ]
  },
  {
   "cell_type": "markdown",
   "metadata": {},
   "source": [
    "### 2. lazy Correlation "
   ]
  },
  {
   "cell_type": "code",
   "execution_count": null,
   "metadata": {},
   "outputs": [
    {
     "data": {
      "image/png": "[encoded data removed]",
      "text/plain": [
       "<Figure size 1000x600 with 1 Axes>"
      ]
     },
     "metadata": {},
     "output_type": "display_data"
    },
    {
     "data": {
      "application/vnd.plotly.v1+json": {
       "config": {
        "plotlyServerURL": "https://plot.ly"
       },
       "data": [
        {
         "hovertemplate": "PC1=%{x}<br>PC2=%{y}<br>Sensor ID=%{marker.color}<extra></extra>",
         "legendgroup": "",
         "marker": {
          "color": [
           1,
           2,
           3,
           4,
           5,
           6,
           7,
           8,
           9,
           10,
           11,
           12,
           13,
           14,
           15,
           16,
           17,
           18,
           19,
           20,
           21,
           22,
           23,
           24,
           25,
           26,
           27,
           28,
           29,
           30,
           32,
           33,
           34,
           35,
           36,
           37,
           38,
           39,
           40,
           41,
           42,
           43,
           44,
           45,
           46,
           47,
           48,
           49,
           50,
           51,
           52,
           53,
           54,
           55,
           56,
           57,
           58,
           59,
           60,
           61,
           62,
           63,
           64,
           65,
           66,
           67,
           68,
           69,
           70,
           71,
           72,
           73,
           74,
           75,
           76,
           77,
           78,
           79,
           80,
           81,
           82,
           83,
           84,
           85,
           86,
           87,
           88,
           89,
           90,
           91,
           92,
           93,
           94,
           95,
           96,
           97,
           98,
           99,
           100,
           101,
           102,
           103,
           104,
           105,
           106,
           107,
           108,
           109,
           110,
           111,
           112,
           113,
           114,
           115,
           116,
           117,
           118,
           119,
           120,
           121,
           122,
           123,
           124,
           125
          ],
          "coloraxis": "coloraxis",
          "symbol": "circle"
         },
         "mode": "markers",
         "name": "",
         "orientation": "v",
         "showlegend": false,
         "type": "scatter",
         "x": [
          13.465389406010958,
          4.024344626523853,
          -2.966376326909155,
          3.239141868714361,
          3.3359077425298165,
          1.6314953429515253,
          -1.3125189671858115,
          1.0694800975045613,
          2.672902614670088,
          -0.5910847544832932,
          -1.0889130297900105,
          0.23713100212065186,
          1.1914072868676469,
          -2.1776408599592356,
          4.440919307716341,
          -0.8112527944171894,
          1.2218807196832535,
          -3.597129688469337,
          3.539251045447175,
          -0.1536400375862322,
          1.5523960976668376,
          -2.457155381849295,
          -1.4408533039132978,
          2.11036166523884,
          -2.9515000108944642,
          -1.677886946234615,
          -0.38640529424808545,
          1.1989219020889887,
          -0.173458768955989,
          -3.1012364195265936,
          -4.283257890851905,
          1.8072697460028537,
          0.21660813706124757,
          0.09176690415268891,
          1.0911260992597265,
          7.184333851662478,
          0.32197859011848334,
          16.252797034926104,
          -0.8792281391143134,
          2.8905569278396337,
          -2.1021046890093564,
          7.012007484957569,
          -2.8004272003570208,
          -3.743189272032744,
          2.0870484754658474,
          -0.5266959292215148,
          -1.6379907592523615,
          -1.4621204831842556,
          0.9513779527629377,
          -2.1285272544471683,
          -3.038629644056265,
          -2.089448008807595,
          -2.8287543806604294,
          -0.0014050384449709422,
          -3.397365232537677,
          -4.173603809496939,
          -0.5514422442262296,
          -3.1683351266202635,
          -0.5552370992258505,
          -1.8448780268218883,
          -0.24826393559903395,
          0.4288913294981546,
          0.7092185094024556,
          -0.9534376717312966,
          0.7504386755634064,
          0.8226875856135997,
          1.560662028015298,
          -1.2641323331541847,
          1.7241429156973977,
          -2.3437874484036514,
          -1.3661130436832325,
          -1.9898714526464032,
          -1.1214051939244625,
          -0.8931957074546287,
          -3.219855257113886,
          -2.9801651207978437,
          0.7509155292624125,
          -2.78989050016122,
          3.939204411476887,
          -1.6710997032610566,
          -1.4698687898239333,
          3.0169379378004515,
          -2.00944043823185,
          -0.6993098317802939,
          -0.2084264731790723,
          -2.4777353601810552,
          0.76610633478887,
          0.832591495133362,
          -2.9738960726021033,
          -0.09771715909923037,
          0.43281339072909486,
          -0.6037692220713778,
          -1.0210960878694137,
          -1.4490514989954062,
          1.5023932669340552,
          3.668504962919473,
          -1.6827594423011893,
          -2.1197063602191957,
          -0.14491104453163162,
          3.6962298837539347,
          -0.6258399708925666,
          2.020917279088023,
          1.0137794354216423,
          -0.5021066455247977,
          5.661549856160637,
          0.5173590080022706,
          -1.6117633795413573,
          -2.6632748803318465,
          -3.6587472132977252,
          -0.7423590631856326,
          -2.2960879118093307,
          -2.109533063455905,
          -1.470458822095563,
          -0.8057222599805091,
          2.7393247839995074,
          -0.861599132409225,
          -0.051749775515936035,
          -0.49828835657300496,
          -0.6056594703977084,
          -2.2206465879795925,
          -0.25132762301620665,
          3.3259870805337948,
          1.8027196856534768,
          -1.6474151977777707
         ],
         "xaxis": "x",
         "y": [
          11.857948127037886,
          -4.3967356470471834,
          1.6796474873779679,
          -1.0512376725197996,
          -1.3757666845685423,
          10.853673424008186,
          0.528483147050571,
          -0.6535003526983277,
          0.7396487286894609,
          0.1319728053011208,
          -0.432976648955789,
          0.6241452903363589,
          -0.11098591987328775,
          -1.4847654865480195,
          -1.7552665510295604,
          3.2528189344688543,
          0.16740374288086327,
          3.358553773591899,
          -4.148700535161557,
          -5.740074033766134,
          -1.416945731790364,
          0.9752411588357646,
          1.1873250226150125,
          1.4857483695661498,
          1.201407933270628,
          1.690736814834258,
          0.005296643852936814,
          0.5525528954369283,
          1.9106414841526427,
          2.435189546291543,
          -0.3278028726687797,
          -0.3945231569838465,
          -0.28837676830339704,
          1.8293132273460666,
          -2.8835400314133355,
          -2.753977365856487,
          -4.261057321527737,
          -1.544743780134422,
          0.45447588542970646,
          0.04483337697240272,
          -0.05425916888980492,
          -0.49778893622864645,
          0.6340317912738038,
          -0.4934182930268399,
          -0.578750906991847,
          -0.6570457207663538,
          -1.277090766510313,
          -1.2747317038174846,
          3.6604870131611795,
          -0.26172471250084944,
          1.954058184938514,
          -0.3836257601669139,
          -0.7263343731316091,
          0.21864232006180018,
          0.485563522988596,
          0.018106182724973063,
          0.5173411392609071,
          0.5025073703623254,
          -0.3755417318265094,
          -1.7253934244971645,
          2.5198783826892854,
          1.029403259891226,
          -3.248946150026835,
          3.100524467708156,
          0.6439257301263475,
          -0.3147439073647626,
          0.34497735216579334,
          -0.6447671469522679,
          1.3962251958548915,
          0.9921293679982044,
          -1.9124143725581886,
          0.5293590494298185,
          1.6543098199231634,
          -6.249902720051567,
          -3.5428581170183167,
          -1.8937261801194984,
          -2.166317673272949,
          4.279952128372051,
          -1.9075852279562404,
          6.45923908164693,
          0.6868313582539233,
          1.4134936320767335,
          1.5489233463508683,
          -5.205576723253965,
          1.9495026846854646,
          1.3069582771226396,
          -0.10554049459173123,
          2.486156292346407,
          -0.21289358902964028,
          0.6205024739633926,
          -3.0713028079261,
          -1.8016999117026062,
          -1.3343837082487535,
          -2.8930465770467513,
          0.4042385330187543,
          0.4919687185097952,
          0.11628618226055215,
          0.5963181430647392,
          4.864260828588541,
          -4.7449010267536895,
          0.5906822862008375,
          0.5826025375586273,
          0.8774404296288523,
          1.559558505604151,
          -4.665693618123045,
          -4.175099409615459,
          1.732175879449767,
          -4.302762137413549,
          0.6826306138742861,
          2.1888109616701303,
          0.13386444281996498,
          -3.0156006983772903,
          -0.7137571456032603,
          -0.10906929674987165,
          -0.06605303290597037,
          1.2388613805131847,
          -3.5302750939491787,
          0.20397127230752168,
          -1.1645784695734103,
          -0.31015022280618815,
          2.5025836165550523,
          -1.035285826003438,
          -1.6564008535073453,
          2.635672621353435
         ],
         "yaxis": "y"
        }
       ],
       "layout": {
        "coloraxis": {
         "colorbar": {
          "title": {
           "text": "Sensor ID"
          }
         },
         "colorscale": [
          [
           0,
           "#0d0887"
          ],
          [
           0.1111111111111111,
           "#46039f"
          ],
          [
           0.2222222222222222,
           "#7201a8"
          ],
          [
           0.3333333333333333,
           "#9c179e"
          ],
          [
           0.4444444444444444,
           "#bd3786"
          ],
          [
           0.5555555555555556,
           "#d8576b"
          ],
          [
           0.6666666666666666,
           "#ed7953"
          ],
          [
           0.7777777777777778,
           "#fb9f3a"
          ],
          [
           0.8888888888888888,
           "#fdca26"
          ],
          [
           1,
           "#f0f921"
          ]
         ]
        },
        "legend": {
         "tracegroupgap": 0
        },
        "template": {
         "data": {
          "bar": [
           {
            "error_x": {
             "color": "#2a3f5f"
            },
            "error_y": {
             "color": "#2a3f5f"
            },
            "marker": {
             "line": {
              "color": "#E5ECF6",
              "width": 0.5
             },
             "pattern": {
              "fillmode": "overlay",
              "size": 10,
              "solidity": 0.2
             }
            },
            "type": "bar"
           }
          ],
          "barpolar": [
           {
            "marker": {
             "line": {
              "color": "#E5ECF6",
              "width": 0.5
             },
             "pattern": {
              "fillmode": "overlay",
              "size": 10,
              "solidity": 0.2
             }
            },
            "type": "barpolar"
           }
          ],
          "carpet": [
           {
            "aaxis": {
             "endlinecolor": "#2a3f5f",
             "gridcolor": "white",
             "linecolor": "white",
             "minorgridcolor": "white",
             "startlinecolor": "#2a3f5f"
            },
            "baxis": {
             "endlinecolor": "#2a3f5f",
             "gridcolor": "white",
             "linecolor": "white",
             "minorgridcolor": "white",
             "startlinecolor": "#2a3f5f"
            },
            "type": "carpet"
           }
          ],
          "choropleth": [
           {
            "colorbar": {
             "outlinewidth": 0,
             "ticks": ""
            },
            "type": "choropleth"
           }
          ],
          "contour": [
           {
            "colorbar": {
             "outlinewidth": 0,
             "ticks": ""
            },
            "colorscale": [
             [
              0,
              "#0d0887"
             ],
             [
              0.1111111111111111,
              "#46039f"
             ],
             [
              0.2222222222222222,
              "#7201a8"
             ],
             [
              0.3333333333333333,
              "#9c179e"
             ],
             [
              0.4444444444444444,
              "#bd3786"
             ],
             [
              0.5555555555555556,
              "#d8576b"
             ],
             [
              0.6666666666666666,
              "#ed7953"
             ],
             [
              0.7777777777777778,
              "#fb9f3a"
             ],
             [
              0.8888888888888888,
              "#fdca26"
             ],
             [
              1,
              "#f0f921"
             ]
            ],
            "type": "contour"
           }
          ],
          "contourcarpet": [
           {
            "colorbar": {
             "outlinewidth": 0,
             "ticks": ""
            },
            "type": "contourcarpet"
           }
          ],
          "heatmap": [
           {
            "colorbar": {
             "outlinewidth": 0,
             "ticks": ""
            },
            "colorscale": [
             [
              0,
              "#0d0887"
             ],
             [
              0.1111111111111111,
              "#46039f"
             ],
             [
              0.2222222222222222,
              "#7201a8"
             ],
             [
              0.3333333333333333,
              "#9c179e"
             ],
             [
              0.4444444444444444,
              "#bd3786"
             ],
             [
              0.5555555555555556,
              "#d8576b"
             ],
             [
              0.6666666666666666,
              "#ed7953"
             ],
             [
              0.7777777777777778,
              "#fb9f3a"
             ],
             [
              0.8888888888888888,
              "#fdca26"
             ],
             [
              1,
              "#f0f921"
             ]
            ],
            "type": "heatmap"
           }
          ],
          "heatmapgl": [
           {
            "colorbar": {
             "outlinewidth": 0,
             "ticks": ""
            },
            "colorscale": [
             [
              0,
              "#0d0887"
             ],
             [
              0.1111111111111111,
              "#46039f"
             ],
             [
              0.2222222222222222,
              "#7201a8"
             ],
             [
              0.3333333333333333,
              "#9c179e"
             ],
             [
              0.4444444444444444,
              "#bd3786"
             ],
             [
              0.5555555555555556,
              "#d8576b"
             ],
             [
              0.6666666666666666,
              "#ed7953"
             ],
             [
              0.7777777777777778,
              "#fb9f3a"
             ],
             [
              0.8888888888888888,
              "#fdca26"
             ],
             [
              1,
              "#f0f921"
             ]
            ],
            "type": "heatmapgl"
           }
          ],
          "histogram": [
           {
            "marker": {
             "pattern": {
              "fillmode": "overlay",
              "size": 10,
              "solidity": 0.2
             }
            },
            "type": "histogram"
           }
          ],
          "histogram2d": [
           {
            "colorbar": {
             "outlinewidth": 0,
             "ticks": ""
            },
            "colorscale": [
             [
              0,
              "#0d0887"
             ],
             [
              0.1111111111111111,
              "#46039f"
             ],
             [
              0.2222222222222222,
              "#7201a8"
             ],
             [
              0.3333333333333333,
              "#9c179e"
             ],
             [
              0.4444444444444444,
              "#bd3786"
             ],
             [
              0.5555555555555556,
              "#d8576b"
             ],
             [
              0.6666666666666666,
              "#ed7953"
             ],
             [
              0.7777777777777778,
              "#fb9f3a"
             ],
             [
              0.8888888888888888,
              "#fdca26"
             ],
             [
              1,
              "#f0f921"
             ]
            ],
            "type": "histogram2d"
           }
          ],
          "histogram2dcontour": [
           {
            "colorbar": {
             "outlinewidth": 0,
             "ticks": ""
            },
            "colorscale": [
             [
              0,
              "#0d0887"
             ],
             [
              0.1111111111111111,
              "#46039f"
             ],
             [
              0.2222222222222222,
              "#7201a8"
             ],
             [
              0.3333333333333333,
              "#9c179e"
             ],
             [
              0.4444444444444444,
              "#bd3786"
             ],
             [
              0.5555555555555556,
              "#d8576b"
             ],
             [
              0.6666666666666666,
              "#ed7953"
             ],
             [
              0.7777777777777778,
              "#fb9f3a"
             ],
             [
              0.8888888888888888,
              "#fdca26"
             ],
             [
              1,
              "#f0f921"
             ]
            ],
            "type": "histogram2dcontour"
           }
          ],
          "mesh3d": [
           {
            "colorbar": {
             "outlinewidth": 0,
             "ticks": ""
            },
            "type": "mesh3d"
           }
          ],
          "parcoords": [
           {
            "line": {
             "colorbar": {
              "outlinewidth": 0,
              "ticks": ""
             }
            },
            "type": "parcoords"
           }
          ],
          "pie": [
           {
            "automargin": true,
            "type": "pie"
           }
          ],
          "scatter": [
           {
            "fillpattern": {
             "fillmode": "overlay",
             "size": 10,
             "solidity": 0.2
            },
            "type": "scatter"
           }
          ],
          "scatter3d": [
           {
            "line": {
             "colorbar": {
              "outlinewidth": 0,
              "ticks": ""
             }
            },
            "marker": {
             "colorbar": {
              "outlinewidth": 0,
              "ticks": ""
             }
            },
            "type": "scatter3d"
           }
          ],
          "scattercarpet": [
           {
            "marker": {
             "colorbar": {
              "outlinewidth": 0,
              "ticks": ""
             }
            },
            "type": "scattercarpet"
           }
          ],
          "scattergeo": [
           {
            "marker": {
             "colorbar": {
              "outlinewidth": 0,
              "ticks": ""
             }
            },
            "type": "scattergeo"
           }
          ],
          "scattergl": [
           {
            "marker": {
             "colorbar": {
              "outlinewidth": 0,
              "ticks": ""
             }
            },
            "type": "scattergl"
           }
          ],
          "scattermapbox": [
           {
            "marker": {
             "colorbar": {
              "outlinewidth": 0,
              "ticks": ""
             }
            },
            "type": "scattermapbox"
           }
          ],
          "scatterpolar": [
           {
            "marker": {
             "colorbar": {
              "outlinewidth": 0,
              "ticks": ""
             }
            },
            "type": "scatterpolar"
           }
          ],
          "scatterpolargl": [
           {
            "marker": {
             "colorbar": {
              "outlinewidth": 0,
              "ticks": ""
             }
            },
            "type": "scatterpolargl"
           }
          ],
          "scatterternary": [
           {
            "marker": {
             "colorbar": {
              "outlinewidth": 0,
              "ticks": ""
             }
            },
            "type": "scatterternary"
           }
          ],
          "surface": [
           {
            "colorbar": {
             "outlinewidth": 0,
             "ticks": ""
            },
            "colorscale": [
             [
              0,
              "#0d0887"
             ],
             [
              0.1111111111111111,
              "#46039f"
             ],
             [
              0.2222222222222222,
              "#7201a8"
             ],
             [
              0.3333333333333333,
              "#9c179e"
             ],
             [
              0.4444444444444444,
              "#bd3786"
             ],
             [
              0.5555555555555556,
              "#d8576b"
             ],
             [
              0.6666666666666666,
              "#ed7953"
             ],
             [
              0.7777777777777778,
              "#fb9f3a"
             ],
             [
              0.8888888888888888,
              "#fdca26"
             ],
             [
              1,
              "#f0f921"
             ]
            ],
            "type": "surface"
           }
          ],
          "table": [
           {
            "cells": {
             "fill": {
              "color": "#EBF0F8"
             },
             "line": {
              "color": "white"
             }
            },
            "header": {
             "fill": {
              "color": "#C8D4E3"
             },
             "line": {
              "color": "white"
             }
            },
            "type": "table"
           }
          ]
         },
         "layout": {
          "annotationdefaults": {
           "arrowcolor": "#2a3f5f",
           "arrowhead": 0,
           "arrowwidth": 1
          },
          "autotypenumbers": "strict",
          "coloraxis": {
           "colorbar": {
            "outlinewidth": 0,
            "ticks": ""
           }
          },
          "colorscale": {
           "diverging": [
            [
             0,
             "#8e0152"
            ],
            [
             0.1,
             "#c51b7d"
            ],
            [
             0.2,
             "#de77ae"
            ],
            [
             0.3,
             "#f1b6da"
            ],
            [
             0.4,
             "#fde0ef"
            ],
            [
             0.5,
             "#f7f7f7"
            ],
            [
             0.6,
             "#e6f5d0"
            ],
            [
             0.7,
             "#b8e186"
            ],
            [
             0.8,
             "#7fbc41"
            ],
            [
             0.9,
             "#4d9221"
            ],
            [
             1,
             "#276419"
            ]
           ],
           "sequential": [
            [
             0,
             "#0d0887"
            ],
            [
             0.1111111111111111,
             "#46039f"
            ],
            [
             0.2222222222222222,
             "#7201a8"
            ],
            [
             0.3333333333333333,
             "#9c179e"
            ],
            [
             0.4444444444444444,
             "#bd3786"
            ],
            [
             0.5555555555555556,
             "#d8576b"
            ],
            [
             0.6666666666666666,
             "#ed7953"
            ],
            [
             0.7777777777777778,
             "#fb9f3a"
            ],
            [
             0.8888888888888888,
             "#fdca26"
            ],
            [
             1,
             "#f0f921"
            ]
           ],
           "sequentialminus": [
            [
             0,
             "#0d0887"
            ],
            [
             0.1111111111111111,
             "#46039f"
            ],
            [
             0.2222222222222222,
             "#7201a8"
            ],
            [
             0.3333333333333333,
             "#9c179e"
            ],
            [
             0.4444444444444444,
             "#bd3786"
            ],
            [
             0.5555555555555556,
             "#d8576b"
            ],
            [
             0.6666666666666666,
             "#ed7953"
            ],
            [
             0.7777777777777778,
             "#fb9f3a"
            ],
            [
             0.8888888888888888,
             "#fdca26"
            ],
            [
             1,
             "#f0f921"
            ]
           ]
          },
          "colorway": [
           "#636efa",
           "#EF553B",
           "#00cc96",
           "#ab63fa",
           "#FFA15A",
           "#19d3f3",
           "#FF6692",
           "#B6E880",
           "#FF97FF",
           "#FECB52"
          ],
          "font": {
           "color": "#2a3f5f"
          },
          "geo": {
           "bgcolor": "white",
           "lakecolor": "white",
           "landcolor": "#E5ECF6",
           "showlakes": true,
           "showland": true,
           "subunitcolor": "white"
          },
          "hoverlabel": {
           "align": "left"
          },
          "hovermode": "closest",
          "mapbox": {
           "style": "light"
          },
          "paper_bgcolor": "white",
          "plot_bgcolor": "#E5ECF6",
          "polar": {
           "angularaxis": {
            "gridcolor": "white",
            "linecolor": "white",
            "ticks": ""
           },
           "bgcolor": "#E5ECF6",
           "radialaxis": {
            "gridcolor": "white",
            "linecolor": "white",
            "ticks": ""
           }
          },
          "scene": {
           "xaxis": {
            "backgroundcolor": "#E5ECF6",
            "gridcolor": "white",
            "gridwidth": 2,
            "linecolor": "white",
            "showbackground": true,
            "ticks": "",
            "zerolinecolor": "white"
           },
           "yaxis": {
            "backgroundcolor": "#E5ECF6",
            "gridcolor": "white",
            "gridwidth": 2,
            "linecolor": "white",
            "showbackground": true,
            "ticks": "",
            "zerolinecolor": "white"
           },
           "zaxis": {
            "backgroundcolor": "#E5ECF6",
            "gridcolor": "white",
            "gridwidth": 2,
            "linecolor": "white",
            "showbackground": true,
            "ticks": "",
            "zerolinecolor": "white"
           }
          },
          "shapedefaults": {
           "line": {
            "color": "#2a3f5f"
           }
          },
          "ternary": {
           "aaxis": {
            "gridcolor": "white",
            "linecolor": "white",
            "ticks": ""
           },
           "baxis": {
            "gridcolor": "white",
            "linecolor": "white",
            "ticks": ""
           },
           "bgcolor": "#E5ECF6",
           "caxis": {
            "gridcolor": "white",
            "linecolor": "white",
            "ticks": ""
           }
          },
          "title": {
           "x": 0.05
          },
          "xaxis": {
           "automargin": true,
           "gridcolor": "white",
           "linecolor": "white",
           "ticks": "",
           "title": {
            "standoff": 15
           },
           "zerolinecolor": "white",
           "zerolinewidth": 2
          },
          "yaxis": {
           "automargin": true,
           "gridcolor": "white",
           "linecolor": "white",
           "ticks": "",
           "title": {
            "standoff": 15
           },
           "zerolinecolor": "white",
           "zerolinewidth": 2
          }
         }
        },
        "title": {
         "text": "2D PCA Visualization"
        },
        "xaxis": {
         "anchor": "y",
         "domain": [
          0,
          1
         ],
         "title": {
          "text": "PC1"
         }
        },
        "yaxis": {
         "anchor": "x",
         "domain": [
          0,
          1
         ],
         "title": {
          "text": "PC2"
         }
        }
       }
      }
     },
     "metadata": {},
     "output_type": "display_data"
    },
    {
     "data": {
      "application/vnd.plotly.v1+json": {
       "config": {
        "plotlyServerURL": "https://plot.ly"
       },
       "data": [
        {
         "hovertemplate": "PC1=%{x}<br>PC2=%{y}<br>PC3=%{z}<br>Sensor ID=%{marker.color}<extra></extra>",
         "legendgroup": "",
         "marker": {
          "color": [
           1,
           2,
           3,
           4,
           5,
           6,
           7,
           8,
           9,
           10,
           11,
           12,
           13,
           14,
           15,
           16,
           17,
           18,
           19,
           20,
           21,
           22,
           23,
           24,
           25,
           26,
           27,
           28,
           29,
           30,
           32,
           33,
           34,
           35,
           36,
           37,
           38,
           39,
           40,
           41,
           42,
           43,
           44,
           45,
           46,
           47,
           48,
           49,
           50,
           51,
           52,
           53,
           54,
           55,
           56,
           57,
           58,
           59,
           60,
           61,
           62,
           63,
           64,
           65,
           66,
           67,
           68,
           69,
           70,
           71,
           72,
           73,
           74,
           75,
           76,
           77,
           78,
           79,
           80,
           81,
           82,
           83,
           84,
           85,
           86,
           87,
           88,
           89,
           90,
           91,
           92,
           93,
           94,
           95,
           96,
           97,
           98,
           99,
           100,
           101,
           102,
           103,
           104,
           105,
           106,
           107,
           108,
           109,
           110,
           111,
           112,
           113,
           114,
           115,
           116,
           117,
           118,
           119,
           120,
           121,
           122,
           123,
           124,
           125
          ],
          "coloraxis": "coloraxis",
          "symbol": "circle"
         },
         "mode": "markers",
         "name": "",
         "scene": "scene",
         "showlegend": false,
         "type": "scatter3d",
         "x": [
          13.465389406010958,
          4.024344626523853,
          -2.966376326909155,
          3.239141868714361,
          3.3359077425298165,
          1.6314953429515253,
          -1.3125189671858115,
          1.0694800975045613,
          2.672902614670088,
          -0.5910847544832932,
          -1.0889130297900105,
          0.23713100212065186,
          1.1914072868676469,
          -2.1776408599592356,
          4.440919307716341,
          -0.8112527944171894,
          1.2218807196832535,
          -3.597129688469337,
          3.539251045447175,
          -0.1536400375862322,
          1.5523960976668376,
          -2.457155381849295,
          -1.4408533039132978,
          2.11036166523884,
          -2.9515000108944642,
          -1.677886946234615,
          -0.38640529424808545,
          1.1989219020889887,
          -0.173458768955989,
          -3.1012364195265936,
          -4.283257890851905,
          1.8072697460028537,
          0.21660813706124757,
          0.09176690415268891,
          1.0911260992597265,
          7.184333851662478,
          0.32197859011848334,
          16.252797034926104,
          -0.8792281391143134,
          2.8905569278396337,
          -2.1021046890093564,
          7.012007484957569,
          -2.8004272003570208,
          -3.743189272032744,
          2.0870484754658474,
          -0.5266959292215148,
          -1.6379907592523615,
          -1.4621204831842556,
          0.9513779527629377,
          -2.1285272544471683,
          -3.038629644056265,
          -2.089448008807595,
          -2.8287543806604294,
          -0.0014050384449709422,
          -3.397365232537677,
          -4.173603809496939,
          -0.5514422442262296,
          -3.1683351266202635,
          -0.5552370992258505,
          -1.8448780268218883,
          -0.24826393559903395,
          0.4288913294981546,
          0.7092185094024556,
          -0.9534376717312966,
          0.7504386755634064,
          0.8226875856135997,
          1.560662028015298,
          -1.2641323331541847,
          1.7241429156973977,
          -2.3437874484036514,
          -1.3661130436832325,
          -1.9898714526464032,
          -1.1214051939244625,
          -0.8931957074546287,
          -3.219855257113886,
          -2.9801651207978437,
          0.7509155292624125,
          -2.78989050016122,
          3.939204411476887,
          -1.6710997032610566,
          -1.4698687898239333,
          3.0169379378004515,
          -2.00944043823185,
          -0.6993098317802939,
          -0.2084264731790723,
          -2.4777353601810552,
          0.76610633478887,
          0.832591495133362,
          -2.9738960726021033,
          -0.09771715909923037,
          0.43281339072909486,
          -0.6037692220713778,
          -1.0210960878694137,
          -1.4490514989954062,
          1.5023932669340552,
          3.668504962919473,
          -1.6827594423011893,
          -2.1197063602191957,
          -0.14491104453163162,
          3.6962298837539347,
          -0.6258399708925666,
          2.020917279088023,
          1.0137794354216423,
          -0.5021066455247977,
          5.661549856160637,
          0.5173590080022706,
          -1.6117633795413573,
          -2.6632748803318465,
          -3.6587472132977252,
          -0.7423590631856326,
          -2.2960879118093307,
          -2.109533063455905,
          -1.470458822095563,
          -0.8057222599805091,
          2.7393247839995074,
          -0.861599132409225,
          -0.051749775515936035,
          -0.49828835657300496,
          -0.6056594703977084,
          -2.2206465879795925,
          -0.25132762301620665,
          3.3259870805337948,
          1.8027196856534768,
          -1.6474151977777707
         ],
         "y": [
          11.857948127037886,
          -4.3967356470471834,
          1.6796474873779679,
          -1.0512376725197996,
          -1.3757666845685423,
          10.853673424008186,
          0.528483147050571,
          -0.6535003526983277,
          0.7396487286894609,
          0.1319728053011208,
          -0.432976648955789,
          0.6241452903363589,
          -0.11098591987328775,
          -1.4847654865480195,
          -1.7552665510295604,
          3.2528189344688543,
          0.16740374288086327,
          3.358553773591899,
          -4.148700535161557,
          -5.740074033766134,
          -1.416945731790364,
          0.9752411588357646,
          1.1873250226150125,
          1.4857483695661498,
          1.201407933270628,
          1.690736814834258,
          0.005296643852936814,
          0.5525528954369283,
          1.9106414841526427,
          2.435189546291543,
          -0.3278028726687797,
          -0.3945231569838465,
          -0.28837676830339704,
          1.8293132273460666,
          -2.8835400314133355,
          -2.753977365856487,
          -4.261057321527737,
          -1.544743780134422,
          0.45447588542970646,
          0.04483337697240272,
          -0.05425916888980492,
          -0.49778893622864645,
          0.6340317912738038,
          -0.4934182930268399,
          -0.578750906991847,
          -0.6570457207663538,
          -1.277090766510313,
          -1.2747317038174846,
          3.6604870131611795,
          -0.26172471250084944,
          1.954058184938514,
          -0.3836257601669139,
          -0.7263343731316091,
          0.21864232006180018,
          0.485563522988596,
          0.018106182724973063,
          0.5173411392609071,
          0.5025073703623254,
          -0.3755417318265094,
          -1.7253934244971645,
          2.5198783826892854,
          1.029403259891226,
          -3.248946150026835,
          3.100524467708156,
          0.6439257301263475,
          -0.3147439073647626,
          0.34497735216579334,
          -0.6447671469522679,
          1.3962251958548915,
          0.9921293679982044,
          -1.9124143725581886,
          0.5293590494298185,
          1.6543098199231634,
          -6.249902720051567,
          -3.5428581170183167,
          -1.8937261801194984,
          -2.166317673272949,
          4.279952128372051,
          -1.9075852279562404,
          6.45923908164693,
          0.6868313582539233,
          1.4134936320767335,
          1.5489233463508683,
          -5.205576723253965,
          1.9495026846854646,
          1.3069582771226396,
          -0.10554049459173123,
          2.486156292346407,
          -0.21289358902964028,
          0.6205024739633926,
          -3.0713028079261,
          -1.8016999117026062,
          -1.3343837082487535,
          -2.8930465770467513,
          0.4042385330187543,
          0.4919687185097952,
          0.11628618226055215,
          0.5963181430647392,
          4.864260828588541,
          -4.7449010267536895,
          0.5906822862008375,
          0.5826025375586273,
          0.8774404296288523,
          1.559558505604151,
          -4.665693618123045,
          -4.175099409615459,
          1.732175879449767,
          -4.302762137413549,
          0.6826306138742861,
          2.1888109616701303,
          0.13386444281996498,
          -3.0156006983772903,
          -0.7137571456032603,
          -0.10906929674987165,
          -0.06605303290597037,
          1.2388613805131847,
          -3.5302750939491787,
          0.20397127230752168,
          -1.1645784695734103,
          -0.31015022280618815,
          2.5025836165550523,
          -1.035285826003438,
          -1.6564008535073453,
          2.635672621353435
         ],
         "z": [
          -0.20665751037665664,
          -2.1068750169422277,
          0.8711202618959945,
          3.4339153508445253,
          -0.7708230632627814,
          2.6837905523459633,
          0.5554282964804784,
          -3.9920512458491135,
          -1.219542924201821,
          0.2711164187745178,
          -0.10376125242394009,
          -0.5095891479767021,
          0.07829514041265592,
          -1.1074297518135094,
          -0.5971866576355802,
          -0.3739408538255577,
          -0.47897349795085514,
          2.1315043202850807,
          -5.185497044441639,
          2.1565706050796827,
          2.9362294731318848,
          -2.2487586828260984,
          -2.5490794087407807,
          -1.3042375748748176,
          -3.281051662052904,
          0.9011646837205346,
          -0.3864491772182471,
          2.1093813013233285,
          1.7120443945773216,
          -1.1879214651423717,
          1.7235823159429056,
          -3.691295651255685,
          -0.12215821871334684,
          1.7806312561123336,
          1.7600177443672338,
          1.088059386548499,
          4.269076215952029,
          -1.7935804233058847,
          -0.5918536059827911,
          -3.0536795231240377,
          2.972315207786952,
          3.238127506219158,
          0.2598780493010323,
          -0.9121328255641512,
          -0.6545220979243421,
          2.223471360338941,
          1.5090902460012312,
          -1.5144588291038814,
          -3.643949395363917,
          1.5931507806854572,
          0.24151311117816707,
          2.4470425590618676,
          -2.9805523066282156,
          2.6216950087092257,
          -1.2411448319967575,
          -0.3243177828570021,
          0.9680703082821337,
          0.01781508560483009,
          -2.594704362526758,
          2.8799309087733502,
          -0.48128412565687784,
          -0.5412080476259571,
          -4.119901125071486,
          -4.733878713376467,
          -3.6672512609812355,
          -1.5289671444814503,
          1.0049729476770861,
          3.7254394427059516,
          -3.9633648995090596,
          -0.18464586309320827,
          0.7121891623814296,
          0.9044649143959279,
          -0.8091589681749553,
          2.9681097276890083,
          -3.2166972285617463,
          1.2195559599441665,
          -5.005124876918568,
          1.6342556643603445,
          -0.6408670048690558,
          -6.562528682738282,
          3.3128508382333113,
          2.2242809483285413,
          0.19065800936083854,
          2.7620533609329185,
          4.333389520607818,
          -0.4606812531856292,
          3.8332798075231067,
          -2.49362859848727,
          -3.9440033348607697,
          -2.2375677692529266,
          1.5184834251384882,
          1.4024697152807242,
          2.627241566190501,
          1.9935490706692125,
          -4.336985672672193,
          0.6940768176470669,
          -1.028236958625453,
          -1.6858225669352118,
          3.476830445587808,
          -0.010679055458674994,
          -6.016461159108856,
          0.8700126045748858,
          -2.205532675918221,
          1.6934000159580858,
          0.9361616142103623,
          -0.2505612330277713,
          0.8312747733525144,
          -3.944635320209248,
          -0.4000623390941817,
          4.531678756742005,
          -1.3210542469377986,
          -2.0503967301645334,
          -1.6851984869010463,
          3.035377603098196,
          5.952971970273055,
          0.8295332655224249,
          0.5627300650028407,
          -0.9214062411814146,
          1.5957993842424383,
          -4.134971065603796,
          7.661407010510383,
          -0.6252872689965053,
          1.9146340751168012,
          3.5490653765866718
         ]
        }
       ],
       "layout": {
        "coloraxis": {
         "colorbar": {
          "title": {
           "text": "Sensor ID"
          }
         },
         "colorscale": [
          [
           0,
           "#0d0887"
          ],
          [
           0.1111111111111111,
           "#46039f"
          ],
          [
           0.2222222222222222,
           "#7201a8"
          ],
          [
           0.3333333333333333,
           "#9c179e"
          ],
          [
           0.4444444444444444,
           "#bd3786"
          ],
          [
           0.5555555555555556,
           "#d8576b"
          ],
          [
           0.6666666666666666,
           "#ed7953"
          ],
          [
           0.7777777777777778,
           "#fb9f3a"
          ],
          [
           0.8888888888888888,
           "#fdca26"
          ],
          [
           1,
           "#f0f921"
          ]
         ]
        },
        "legend": {
         "tracegroupgap": 0
        },
        "scene": {
         "domain": {
          "x": [
           0,
           1
          ],
          "y": [
           0,
           1
          ]
         },
         "xaxis": {
          "title": {
           "text": "PC1"
          }
         },
         "yaxis": {
          "title": {
           "text": "PC2"
          }
         },
         "zaxis": {
          "title": {
           "text": "PC3"
          }
         }
        },
        "template": {
         "data": {
          "bar": [
           {
            "error_x": {
             "color": "#2a3f5f"
            },
            "error_y": {
             "color": "#2a3f5f"
            },
            "marker": {
             "line": {
              "color": "#E5ECF6",
              "width": 0.5
             },
             "pattern": {
              "fillmode": "overlay",
              "size": 10,
              "solidity": 0.2
             }
            },
            "type": "bar"
           }
          ],
          "barpolar": [
           {
            "marker": {
             "line": {
              "color": "#E5ECF6",
              "width": 0.5
             },
             "pattern": {
              "fillmode": "overlay",
              "size": 10,
              "solidity": 0.2
             }
            },
            "type": "barpolar"
           }
          ],
          "carpet": [
           {
            "aaxis": {
             "endlinecolor": "#2a3f5f",
             "gridcolor": "white",
             "linecolor": "white",
             "minorgridcolor": "white",
             "startlinecolor": "#2a3f5f"
            },
            "baxis": {
             "endlinecolor": "#2a3f5f",
             "gridcolor": "white",
             "linecolor": "white",
             "minorgridcolor": "white",
             "startlinecolor": "#2a3f5f"
            },
            "type": "carpet"
           }
          ],
          "choropleth": [
           {
            "colorbar": {
             "outlinewidth": 0,
             "ticks": ""
            },
            "type": "choropleth"
           }
          ],
          "contour": [
           {
            "colorbar": {
             "outlinewidth": 0,
             "ticks": ""
            },
            "colorscale": [
             [
              0,
              "#0d0887"
             ],
             [
              0.1111111111111111,
              "#46039f"
             ],
             [
              0.2222222222222222,
              "#7201a8"
             ],
             [
              0.3333333333333333,
              "#9c179e"
             ],
             [
              0.4444444444444444,
              "#bd3786"
             ],
             [
              0.5555555555555556,
              "#d8576b"
             ],
             [
              0.6666666666666666,
              "#ed7953"
             ],
             [
              0.7777777777777778,
              "#fb9f3a"
             ],
             [
              0.8888888888888888,
              "#fdca26"
             ],
             [
              1,
              "#f0f921"
             ]
            ],
            "type": "contour"
           }
          ],
          "contourcarpet": [
           {
            "colorbar": {
             "outlinewidth": 0,
             "ticks": ""
            },
            "type": "contourcarpet"
           }
          ],
          "heatmap": [
           {
            "colorbar": {
             "outlinewidth": 0,
             "ticks": ""
            },
            "colorscale": [
             [
              0,
              "#0d0887"
             ],
             [
              0.1111111111111111,
              "#46039f"
             ],
             [
              0.2222222222222222,
              "#7201a8"
             ],
             [
              0.3333333333333333,
              "#9c179e"
             ],
             [
              0.4444444444444444,
              "#bd3786"
             ],
             [
              0.5555555555555556,
              "#d8576b"
             ],
             [
              0.6666666666666666,
              "#ed7953"
             ],
             [
              0.7777777777777778,
              "#fb9f3a"
             ],
             [
              0.8888888888888888,
              "#fdca26"
             ],
             [
              1,
              "#f0f921"
             ]
            ],
            "type": "heatmap"
           }
          ],
          "heatmapgl": [
           {
            "colorbar": {
             "outlinewidth": 0,
             "ticks": ""
            },
            "colorscale": [
             [
              0,
              "#0d0887"
             ],
             [
              0.1111111111111111,
              "#46039f"
             ],
             [
              0.2222222222222222,
              "#7201a8"
             ],
             [
              0.3333333333333333,
              "#9c179e"
             ],
             [
              0.4444444444444444,
              "#bd3786"
             ],
             [
              0.5555555555555556,
              "#d8576b"
             ],
             [
              0.6666666666666666,
              "#ed7953"
             ],
             [
              0.7777777777777778,
              "#fb9f3a"
             ],
             [
              0.8888888888888888,
              "#fdca26"
             ],
             [
              1,
              "#f0f921"
             ]
            ],
            "type": "heatmapgl"
           }
          ],
          "histogram": [
           {
            "marker": {
             "pattern": {
              "fillmode": "overlay",
              "size": 10,
              "solidity": 0.2
             }
            },
            "type": "histogram"
           }
          ],
          "histogram2d": [
           {
            "colorbar": {
             "outlinewidth": 0,
             "ticks": ""
            },
            "colorscale": [
             [
              0,
              "#0d0887"
             ],
             [
              0.1111111111111111,
              "#46039f"
             ],
             [
              0.2222222222222222,
              "#7201a8"
             ],
             [
              0.3333333333333333,
              "#9c179e"
             ],
             [
              0.4444444444444444,
              "#bd3786"
             ],
             [
              0.5555555555555556,
              "#d8576b"
             ],
             [
              0.6666666666666666,
              "#ed7953"
             ],
             [
              0.7777777777777778,
              "#fb9f3a"
             ],
             [
              0.8888888888888888,
              "#fdca26"
             ],
             [
              1,
              "#f0f921"
             ]
            ],
            "type": "histogram2d"
           }
          ],
          "histogram2dcontour": [
           {
            "colorbar": {
             "outlinewidth": 0,
             "ticks": ""
            },
            "colorscale": [
             [
              0,
              "#0d0887"
             ],
             [
              0.1111111111111111,
              "#46039f"
             ],
             [
              0.2222222222222222,
              "#7201a8"
             ],
             [
              0.3333333333333333,
              "#9c179e"
             ],
             [
              0.4444444444444444,
              "#bd3786"
             ],
             [
              0.5555555555555556,
              "#d8576b"
             ],
             [
              0.6666666666666666,
              "#ed7953"
             ],
             [
              0.7777777777777778,
              "#fb9f3a"
             ],
             [
              0.8888888888888888,
              "#fdca26"
             ],
             [
              1,
              "#f0f921"
             ]
            ],
            "type": "histogram2dcontour"
           }
          ],
          "mesh3d": [
           {
            "colorbar": {
             "outlinewidth": 0,
             "ticks": ""
            },
            "type": "mesh3d"
           }
          ],
          "parcoords": [
           {
            "line": {
             "colorbar": {
              "outlinewidth": 0,
              "ticks": ""
             }
            },
            "type": "parcoords"
           }
          ],
          "pie": [
           {
            "automargin": true,
            "type": "pie"
           }
          ],
          "scatter": [
           {
            "fillpattern": {
             "fillmode": "overlay",
             "size": 10,
             "solidity": 0.2
            },
            "type": "scatter"
           }
          ],
          "scatter3d": [
           {
            "line": {
             "colorbar": {
              "outlinewidth": 0,
              "ticks": ""
             }
            },
            "marker": {
             "colorbar": {
              "outlinewidth": 0,
              "ticks": ""
             }
            },
            "type": "scatter3d"
           }
          ],
          "scattercarpet": [
           {
            "marker": {
             "colorbar": {
              "outlinewidth": 0,
              "ticks": ""
             }
            },
            "type": "scattercarpet"
           }
          ],
          "scattergeo": [
           {
            "marker": {
             "colorbar": {
              "outlinewidth": 0,
              "ticks": ""
             }
            },
            "type": "scattergeo"
           }
          ],
          "scattergl": [
           {
            "marker": {
             "colorbar": {
              "outlinewidth": 0,
              "ticks": ""
             }
            },
            "type": "scattergl"
           }
          ],
          "scattermapbox": [
           {
            "marker": {
             "colorbar": {
              "outlinewidth": 0,
              "ticks": ""
             }
            },
            "type": "scattermapbox"
           }
          ],
          "scatterpolar": [
           {
            "marker": {
             "colorbar": {
              "outlinewidth": 0,
              "ticks": ""
             }
            },
            "type": "scatterpolar"
           }
          ],
          "scatterpolargl": [
           {
            "marker": {
             "colorbar": {
              "outlinewidth": 0,
              "ticks": ""
             }
            },
            "type": "scatterpolargl"
           }
          ],
          "scatterternary": [
           {
            "marker": {
             "colorbar": {
              "outlinewidth": 0,
              "ticks": ""
             }
            },
            "type": "scatterternary"
           }
          ],
          "surface": [
           {
            "colorbar": {
             "outlinewidth": 0,
             "ticks": ""
            },
            "colorscale": [
             [
              0,
              "#0d0887"
             ],
             [
              0.1111111111111111,
              "#46039f"
             ],
             [
              0.2222222222222222,
              "#7201a8"
             ],
             [
              0.3333333333333333,
              "#9c179e"
             ],
             [
              0.4444444444444444,
              "#bd3786"
             ],
             [
              0.5555555555555556,
              "#d8576b"
             ],
             [
              0.6666666666666666,
              "#ed7953"
             ],
             [
              0.7777777777777778,
              "#fb9f3a"
             ],
             [
              0.8888888888888888,
              "#fdca26"
             ],
             [
              1,
              "#f0f921"
             ]
            ],
            "type": "surface"
           }
          ],
          "table": [
           {
            "cells": {
             "fill": {
              "color": "#EBF0F8"
             },
             "line": {
              "color": "white"
             }
            },
            "header": {
             "fill": {
              "color": "#C8D4E3"
             },
             "line": {
              "color": "white"
             }
            },
            "type": "table"
           }
          ]
         },
         "layout": {
          "annotationdefaults": {
           "arrowcolor": "#2a3f5f",
           "arrowhead": 0,
           "arrowwidth": 1
          },
          "autotypenumbers": "strict",
          "coloraxis": {
           "colorbar": {
            "outlinewidth": 0,
            "ticks": ""
           }
          },
          "colorscale": {
           "diverging": [
            [
             0,
             "#8e0152"
            ],
            [
             0.1,
             "#c51b7d"
            ],
            [
             0.2,
             "#de77ae"
            ],
            [
             0.3,
             "#f1b6da"
            ],
            [
             0.4,
             "#fde0ef"
            ],
            [
             0.5,
             "#f7f7f7"
            ],
            [
             0.6,
             "#e6f5d0"
            ],
            [
             0.7,
             "#b8e186"
            ],
            [
             0.8,
             "#7fbc41"
            ],
            [
             0.9,
             "#4d9221"
            ],
            [
             1,
             "#276419"
            ]
           ],
           "sequential": [
            [
             0,
             "#0d0887"
            ],
            [
             0.1111111111111111,
             "#46039f"
            ],
            [
             0.2222222222222222,
             "#7201a8"
            ],
            [
             0.3333333333333333,
             "#9c179e"
            ],
            [
             0.4444444444444444,
             "#bd3786"
            ],
            [
             0.5555555555555556,
             "#d8576b"
            ],
            [
             0.6666666666666666,
             "#ed7953"
            ],
            [
             0.7777777777777778,
             "#fb9f3a"
            ],
            [
             0.8888888888888888,
             "#fdca26"
            ],
            [
             1,
             "#f0f921"
            ]
           ],
           "sequentialminus": [
            [
             0,
             "#0d0887"
            ],
            [
             0.1111111111111111,
             "#46039f"
            ],
            [
             0.2222222222222222,
             "#7201a8"
            ],
            [
             0.3333333333333333,
             "#9c179e"
            ],
            [
             0.4444444444444444,
             "#bd3786"
            ],
            [
             0.5555555555555556,
             "#d8576b"
            ],
            [
             0.6666666666666666,
             "#ed7953"
            ],
            [
             0.7777777777777778,
             "#fb9f3a"
            ],
            [
             0.8888888888888888,
             "#fdca26"
            ],
            [
             1,
             "#f0f921"
            ]
           ]
          },
          "colorway": [
           "#636efa",
           "#EF553B",
           "#00cc96",
           "#ab63fa",
           "#FFA15A",
           "#19d3f3",
           "#FF6692",
           "#B6E880",
           "#FF97FF",
           "#FECB52"
          ],
          "font": {
           "color": "#2a3f5f"
          },
          "geo": {
           "bgcolor": "white",
           "lakecolor": "white",
           "landcolor": "#E5ECF6",
           "showlakes": true,
           "showland": true,
           "subunitcolor": "white"
          },
          "hoverlabel": {
           "align": "left"
          },
          "hovermode": "closest",
          "mapbox": {
           "style": "light"
          },
          "paper_bgcolor": "white",
          "plot_bgcolor": "#E5ECF6",
          "polar": {
           "angularaxis": {
            "gridcolor": "white",
            "linecolor": "white",
            "ticks": ""
           },
           "bgcolor": "#E5ECF6",
           "radialaxis": {
            "gridcolor": "white",
            "linecolor": "white",
            "ticks": ""
           }
          },
          "scene": {
           "xaxis": {
            "backgroundcolor": "#E5ECF6",
            "gridcolor": "white",
            "gridwidth": 2,
            "linecolor": "white",
            "showbackground": true,
            "ticks": "",
            "zerolinecolor": "white"
           },
           "yaxis": {
            "backgroundcolor": "#E5ECF6",
            "gridcolor": "white",
            "gridwidth": 2,
            "linecolor": "white",
            "showbackground": true,
            "ticks": "",
            "zerolinecolor": "white"
           },
           "zaxis": {
            "backgroundcolor": "#E5ECF6",
            "gridcolor": "white",
            "gridwidth": 2,
            "linecolor": "white",
            "showbackground": true,
            "ticks": "",
            "zerolinecolor": "white"
           }
          },
          "shapedefaults": {
           "line": {
            "color": "#2a3f5f"
           }
          },
          "ternary": {
           "aaxis": {
            "gridcolor": "white",
            "linecolor": "white",
            "ticks": ""
           },
           "baxis": {
            "gridcolor": "white",
            "linecolor": "white",
            "ticks": ""
           },
           "bgcolor": "#E5ECF6",
           "caxis": {
            "gridcolor": "white",
            "linecolor": "white",
            "ticks": ""
           }
          },
          "title": {
           "x": 0.05
          },
          "xaxis": {
           "automargin": true,
           "gridcolor": "white",
           "linecolor": "white",
           "ticks": "",
           "title": {
            "standoff": 15
           },
           "zerolinecolor": "white",
           "zerolinewidth": 2
          },
          "yaxis": {
           "automargin": true,
           "gridcolor": "white",
           "linecolor": "white",
           "ticks": "",
           "title": {
            "standoff": 15
           },
           "zerolinecolor": "white",
           "zerolinewidth": 2
          }
         }
        },
        "title": {
         "text": "3D PCA Visualization"
        }
       }
      }
     },
     "metadata": {},
     "output_type": "display_data"
    },
    {
     "name": "stdout",
     "output_type": "stream",
     "text": [
      "Evaluation Results:\n",
      "Explained Variance Ratio: [0.04179247 0.03234935 0.03130913 0.02952188 0.02746676 0.02449876\n",
      " 0.02350292 0.0234177  0.02228373 0.02193802]\n",
      "Cumulative Explained Variance: [0.04179247 0.07414182 0.10545096 0.13497284 0.1624396  0.18693835\n",
      " 0.21044127 0.23385898 0.25614271 0.27808073]\n",
      "Reconstruction Error: 0.7219192706568703\n",
      "Silhouette Score: 0.07987242033227726\n"
     ]
    },
    {
     "name": "stderr",
     "output_type": "stream",
     "text": [
      "/Users/jihoonchung/anaconda3/envs/datascience/lib/python3.10/site-packages/sklearn/cluster/_kmeans.py:1412: FutureWarning:\n",
      "\n",
      "The default value of `n_init` will change from 10 to 'auto' in 1.4. Set the value of `n_init` explicitly to suppress the warning\n",
      "\n"
     ]
    }
   ],
   "source": [
    "results = evaluate_pca(df_corr, n_components=10, color_column='Sensor ID', n_clusters=3, n_components_to_use=5)\n",
    "\n",
    "print(\"Evaluation Results:\")\n",
    "print(f\"Explained Variance Ratio: {results['explained_variance_ratio']}\")\n",
    "print(f\"Cumulative Explained Variance: {results['cumulative_explained_variance']}\")\n",
    "print(f\"Reconstruction Error: {results['reconstruction_error']}\")\n",
    "print(f\"Silhouette Score: {results['silhouette_score']}\")"
   ]
  },
  {
   "cell_type": "markdown",
   "metadata": {},
   "source": [
    "### 3. MI-Batch Correlation with top 10 features"
   ]
  },
  {
   "cell_type": "code",
   "execution_count": null,
   "metadata": {},
   "outputs": [
    {
     "data": {
      "image/png": "[encoded data removed]",
      "text/plain": [
       "<Figure size 1000x600 with 1 Axes>"
      ]
     },
     "metadata": {},
     "output_type": "display_data"
    },
    {
     "data": {
      "application/vnd.plotly.v1+json": {
       "config": {
        "plotlyServerURL": "https://plot.ly"
       },
       "data": [
        {
         "hovertemplate": "PC1=%{x}<br>PC2=%{y}<br>Sensor ID=%{marker.color}<extra></extra>",
         "legendgroup": "",
         "marker": {
          "color": [
           1,
           2,
           3,
           4,
           5,
           6,
           7,
           8,
           9,
           10,
           11,
           12,
           13,
           14,
           15,
           16,
           17,
           18,
           19,
           20,
           21,
           22,
           23,
           24,
           25,
           26,
           27,
           28,
           29,
           30,
           32,
           33,
           34,
           35,
           36,
           37,
           38,
           39,
           40,
           41,
           42,
           43,
           44,
           45,
           46,
           47,
           48,
           49,
           50,
           51,
           52,
           53,
           54,
           55,
           56,
           57,
           58,
           59,
           60,
           61,
           62,
           63,
           64,
           65,
           66,
           67,
           68,
           69,
           70,
           71,
           72,
           73,
           74,
           75,
           76,
           77,
           78,
           79,
           80,
           81,
           82,
           83,
           84,
           85,
           86,
           87,
           88,
           89,
           90,
           91,
           92,
           93,
           94,
           95,
           96,
           97,
           98,
           99,
           100,
           101,
           102,
           103,
           104,
           105,
           106,
           107,
           108,
           109,
           110,
           111,
           112,
           113,
           114,
           115,
           116,
           117,
           118,
           119,
           120,
           121,
           122,
           123,
           124,
           125
          ],
          "coloraxis": "coloraxis",
          "symbol": "circle"
         },
         "mode": "markers",
         "name": "",
         "orientation": "v",
         "showlegend": false,
         "type": "scatter",
         "x": [
          4.035303703546618,
          -5.91091056001655,
          -1.5360314799698425,
          -0.18636632540900813,
          0.523756928825955,
          -1.900867739993117,
          -0.5528799619187652,
          0.49195948498319764,
          5.949309321862397,
          2.829729762551921,
          1.4984726394431116,
          0.5353485921326615,
          -0.881390211433556,
          -1.4608775518190809,
          0.4569683247647438,
          2.314231170897028,
          -1.5333788315075667,
          -0.7675182884173561,
          -0.44617823408590745,
          -4.901042896180874,
          -0.9755295661109935,
          2.7271800668376884,
          2.0037147423139334,
          -1.228808771727879,
          1.8611212877019616,
          2.2469682657551506,
          0.8247738941383908,
          0.6008943772132367,
          2.036224661898477,
          0.8391208882573352,
          1.4474497773986812,
          -0.0829426796460041,
          -5.424270057136816,
          1.1395980056588173,
          0.6962107136761825,
          -3.157768165715621,
          1.9569199511358517,
          4.41408964184195,
          -0.611516043510051,
          -1.6126436972124187,
          -1.5359455264280546,
          0.0683512860342848,
          -2.011267820571868,
          0.33446085723302593,
          -0.8670592742371963,
          -4.746858876896246,
          -1.1646135354927494,
          -1.2288373085418556,
          -1.3450613690236615,
          -0.6458415255593766,
          1.499528593099033,
          1.8639531847030075,
          1.6287706071910648,
          -0.43963290921405934,
          -1.1443681626381526,
          0.49091160583939847,
          -1.9726570644987398,
          -1.1808556071107512,
          0.06676489660209568,
          -3.1373608993732818,
          1.9068910755767323,
          1.6629119647191626,
          -2.6288942829479605,
          3.9644517861853097,
          1.6497521355715072,
          1.5519073133710728,
          6.871403039035054,
          -0.9900437823134196,
          2.371436650873518,
          1.7647192737363206,
          -0.9958519820316148,
          1.4331996486335228,
          0.010978273100189418,
          -4.487948591034138,
          -2.592703299208912,
          -4.629004436907407,
          -1.0435854243860108,
          4.768852615338088,
          -0.20161209353202325,
          2.907870471960506,
          0.7890928773087327,
          2.087981941588271,
          4.045518374266094,
          2.3848511947589355,
          -4.382252060290641,
          2.3094310650398424,
          1.3095482938117757,
          1.1335729240204881,
          0.1989228380217422,
          1.8306936401874956,
          -1.8330268658815996,
          -3.3613657862835935,
          -5.2929514320799385,
          -5.904664536018486,
          1.1572995191014732,
          4.364910452255716,
          3.1826696959078364,
          0.060547415012643435,
          0.6720580569438342,
          0.25925247901049614,
          3.042504904677506,
          3.318733074189196,
          1.4431967682159876,
          -3.5173816115629064,
          -5.855864511480529,
          -4.099335723009425,
          1.5339093155760992,
          -1.1873393007883348,
          1.3206419480048615,
          -0.15962107517764298,
          0.4395167707607394,
          -1.5971862577407612,
          0.1926735139276793,
          0.7005449182892804,
          -0.5415263239464467,
          -0.9975113786975829,
          -1.2963990202369486,
          -0.6072835254797015,
          -0.7395799748052396,
          0.27880639551292746,
          -1.3925109993350682,
          1.0839671344328772,
          -2.6824459975158628,
          0.22186422162888964
         ],
         "xaxis": "x",
         "y": [
          4.706643913230807,
          4.437393256967463,
          -2.438222354946221,
          0.895676648880358,
          3.778144366678729,
          -1.9686403963882309,
          0.645100298682835,
          1.230763703580573,
          1.8755532071645407,
          -0.6477994518931183,
          0.060152223090746464,
          1.5022590801063775,
          0.19587379399302338,
          -0.2691645084736438,
          4.159972403929126,
          -0.512592576276055,
          1.8571491896771581,
          -2.5543334894257157,
          4.738376960964853,
          0.5815210379468396,
          0.3908519168570182,
          -0.3353633551809338,
          1.0365620320022269,
          3.347607156181329,
          -1.116443751610704,
          -1.0569336889116625,
          -0.6220262816007288,
          0.20415788808769714,
          -2.157937539991464,
          -0.44112929490568376,
          -2.872891663297919,
          2.9342963711924095,
          -0.5408958239512396,
          -0.7319808833092922,
          0.08847372678953877,
          2.718766801208781,
          -2.3615582690430426,
          4.287098391110573,
          -0.6733556596285408,
          1.9791016669575041,
          -2.0844422995571508,
          0.5842725156125995,
          -1.9888299242220502,
          -1.244679183575618,
          1.8076041718595266,
          -0.3452230117536665,
          -1.3099064355034307,
          0.05572378091098689,
          1.509710131386879,
          -0.9773915018417585,
          -1.6691209350908565,
          -1.4405590398298145,
          -0.834743258272982,
          -0.18364943999312536,
          -1.5798890219876136,
          -2.1889118271997816,
          -2.054854728367551,
          -0.5583580063271427,
          0.7081158321266113,
          -2.7056661495134797,
          -1.2788772125851184,
          -0.9370633314629432,
          3.5559415570359705,
          0.41898264989076783,
          -0.42839905793370053,
          1.8595727780084368,
          -0.0927992215312845,
          -1.9693358731742188,
          2.362517278900543,
          -0.6127311330753619,
          0.3576259567791665,
          -2.238154150927128,
          0.11176914224280135,
          1.8406016383993398,
          -2.265992934404384,
          -2.509647737939313,
          2.016245387994605,
          -2.744094139940138,
          1.8925593816799775,
          0.8729339965688512,
          -1.7379832885801736,
          2.0784329564337,
          -1.1816669439196965,
          -0.5107939477385866,
          -1.3409923298565471,
          -2.607289371363427,
          -2.1878933602109885,
          1.2318923009155804,
          0.104258994126692,
          0.4527018282159554,
          -0.5364060824639353,
          -0.9500523768967523,
          -0.7442485091126102,
          -0.9784524836093502,
          3.664434397491387,
          1.7824289372151987,
          -1.4517637158395595,
          -1.7170139694306397,
          -1.2047071561997913,
          2.0632471138340507,
          2.2124889614856675,
          -0.8931582175569197,
          2.089927436117939,
          0.2842404246158196,
          2.849311646687372,
          0.3973094973863288,
          -1.2759329427296475,
          0.36376700598946665,
          -1.4374494894441765,
          -1.7595286455498125,
          -0.2906190896563643,
          -0.8501512587448455,
          -1.0587291263004166,
          -2.4159983593694188,
          -2.436652949976104,
          0.4174464475150465,
          -0.6755220464667678,
          0.1732822944896486,
          -1.53958582421447,
          -0.6147416944827542,
          -1.390948777156299,
          3.5649652313310414,
          2.467044798298068,
          -2.4699820051126764
         ],
         "yaxis": "y"
        }
       ],
       "layout": {
        "coloraxis": {
         "colorbar": {
          "title": {
           "text": "Sensor ID"
          }
         },
         "colorscale": [
          [
           0,
           "#0d0887"
          ],
          [
           0.1111111111111111,
           "#46039f"
          ],
          [
           0.2222222222222222,
           "#7201a8"
          ],
          [
           0.3333333333333333,
           "#9c179e"
          ],
          [
           0.4444444444444444,
           "#bd3786"
          ],
          [
           0.5555555555555556,
           "#d8576b"
          ],
          [
           0.6666666666666666,
           "#ed7953"
          ],
          [
           0.7777777777777778,
           "#fb9f3a"
          ],
          [
           0.8888888888888888,
           "#fdca26"
          ],
          [
           1,
           "#f0f921"
          ]
         ]
        },
        "legend": {
         "tracegroupgap": 0
        },
        "template": {
         "data": {
          "bar": [
           {
            "error_x": {
             "color": "#2a3f5f"
            },
            "error_y": {
             "color": "#2a3f5f"
            },
            "marker": {
             "line": {
              "color": "#E5ECF6",
              "width": 0.5
             },
             "pattern": {
              "fillmode": "overlay",
              "size": 10,
              "solidity": 0.2
             }
            },
            "type": "bar"
           }
          ],
          "barpolar": [
           {
            "marker": {
             "line": {
              "color": "#E5ECF6",
              "width": 0.5
             },
             "pattern": {
              "fillmode": "overlay",
              "size": 10,
              "solidity": 0.2
             }
            },
            "type": "barpolar"
           }
          ],
          "carpet": [
           {
            "aaxis": {
             "endlinecolor": "#2a3f5f",
             "gridcolor": "white",
             "linecolor": "white",
             "minorgridcolor": "white",
             "startlinecolor": "#2a3f5f"
            },
            "baxis": {
             "endlinecolor": "#2a3f5f",
             "gridcolor": "white",
             "linecolor": "white",
             "minorgridcolor": "white",
             "startlinecolor": "#2a3f5f"
            },
            "type": "carpet"
           }
          ],
          "choropleth": [
           {
            "colorbar": {
             "outlinewidth": 0,
             "ticks": ""
            },
            "type": "choropleth"
           }
          ],
          "contour": [
           {
            "colorbar": {
             "outlinewidth": 0,
             "ticks": ""
            },
            "colorscale": [
             [
              0,
              "#0d0887"
             ],
             [
              0.1111111111111111,
              "#46039f"
             ],
             [
              0.2222222222222222,
              "#7201a8"
             ],
             [
              0.3333333333333333,
              "#9c179e"
             ],
             [
              0.4444444444444444,
              "#bd3786"
             ],
             [
              0.5555555555555556,
              "#d8576b"
             ],
             [
              0.6666666666666666,
              "#ed7953"
             ],
             [
              0.7777777777777778,
              "#fb9f3a"
             ],
             [
              0.8888888888888888,
              "#fdca26"
             ],
             [
              1,
              "#f0f921"
             ]
            ],
            "type": "contour"
           }
          ],
          "contourcarpet": [
           {
            "colorbar": {
             "outlinewidth": 0,
             "ticks": ""
            },
            "type": "contourcarpet"
           }
          ],
          "heatmap": [
           {
            "colorbar": {
             "outlinewidth": 0,
             "ticks": ""
            },
            "colorscale": [
             [
              0,
              "#0d0887"
             ],
             [
              0.1111111111111111,
              "#46039f"
             ],
             [
              0.2222222222222222,
              "#7201a8"
             ],
             [
              0.3333333333333333,
              "#9c179e"
             ],
             [
              0.4444444444444444,
              "#bd3786"
             ],
             [
              0.5555555555555556,
              "#d8576b"
             ],
             [
              0.6666666666666666,
              "#ed7953"
             ],
             [
              0.7777777777777778,
              "#fb9f3a"
             ],
             [
              0.8888888888888888,
              "#fdca26"
             ],
             [
              1,
              "#f0f921"
             ]
            ],
            "type": "heatmap"
           }
          ],
          "heatmapgl": [
           {
            "colorbar": {
             "outlinewidth": 0,
             "ticks": ""
            },
            "colorscale": [
             [
              0,
              "#0d0887"
             ],
             [
              0.1111111111111111,
              "#46039f"
             ],
             [
              0.2222222222222222,
              "#7201a8"
             ],
             [
              0.3333333333333333,
              "#9c179e"
             ],
             [
              0.4444444444444444,
              "#bd3786"
             ],
             [
              0.5555555555555556,
              "#d8576b"
             ],
             [
              0.6666666666666666,
              "#ed7953"
             ],
             [
              0.7777777777777778,
              "#fb9f3a"
             ],
             [
              0.8888888888888888,
              "#fdca26"
             ],
             [
              1,
              "#f0f921"
             ]
            ],
            "type": "heatmapgl"
           }
          ],
          "histogram": [
           {
            "marker": {
             "pattern": {
              "fillmode": "overlay",
              "size": 10,
              "solidity": 0.2
             }
            },
            "type": "histogram"
           }
          ],
          "histogram2d": [
           {
            "colorbar": {
             "outlinewidth": 0,
             "ticks": ""
            },
            "colorscale": [
             [
              0,
              "#0d0887"
             ],
             [
              0.1111111111111111,
              "#46039f"
             ],
             [
              0.2222222222222222,
              "#7201a8"
             ],
             [
              0.3333333333333333,
              "#9c179e"
             ],
             [
              0.4444444444444444,
              "#bd3786"
             ],
             [
              0.5555555555555556,
              "#d8576b"
             ],
             [
              0.6666666666666666,
              "#ed7953"
             ],
             [
              0.7777777777777778,
              "#fb9f3a"
             ],
             [
              0.8888888888888888,
              "#fdca26"
             ],
             [
              1,
              "#f0f921"
             ]
            ],
            "type": "histogram2d"
           }
          ],
          "histogram2dcontour": [
           {
            "colorbar": {
             "outlinewidth": 0,
             "ticks": ""
            },
            "colorscale": [
             [
              0,
              "#0d0887"
             ],
             [
              0.1111111111111111,
              "#46039f"
             ],
             [
              0.2222222222222222,
              "#7201a8"
             ],
             [
              0.3333333333333333,
              "#9c179e"
             ],
             [
              0.4444444444444444,
              "#bd3786"
             ],
             [
              0.5555555555555556,
              "#d8576b"
             ],
             [
              0.6666666666666666,
              "#ed7953"
             ],
             [
              0.7777777777777778,
              "#fb9f3a"
             ],
             [
              0.8888888888888888,
              "#fdca26"
             ],
             [
              1,
              "#f0f921"
             ]
            ],
            "type": "histogram2dcontour"
           }
          ],
          "mesh3d": [
           {
            "colorbar": {
             "outlinewidth": 0,
             "ticks": ""
            },
            "type": "mesh3d"
           }
          ],
          "parcoords": [
           {
            "line": {
             "colorbar": {
              "outlinewidth": 0,
              "ticks": ""
             }
            },
            "type": "parcoords"
           }
          ],
          "pie": [
           {
            "automargin": true,
            "type": "pie"
           }
          ],
          "scatter": [
           {
            "fillpattern": {
             "fillmode": "overlay",
             "size": 10,
             "solidity": 0.2
            },
            "type": "scatter"
           }
          ],
          "scatter3d": [
           {
            "line": {
             "colorbar": {
              "outlinewidth": 0,
              "ticks": ""
             }
            },
            "marker": {
             "colorbar": {
              "outlinewidth": 0,
              "ticks": ""
             }
            },
            "type": "scatter3d"
           }
          ],
          "scattercarpet": [
           {
            "marker": {
             "colorbar": {
              "outlinewidth": 0,
              "ticks": ""
             }
            },
            "type": "scattercarpet"
           }
          ],
          "scattergeo": [
           {
            "marker": {
             "colorbar": {
              "outlinewidth": 0,
              "ticks": ""
             }
            },
            "type": "scattergeo"
           }
          ],
          "scattergl": [
           {
            "marker": {
             "colorbar": {
              "outlinewidth": 0,
              "ticks": ""
             }
            },
            "type": "scattergl"
           }
          ],
          "scattermapbox": [
           {
            "marker": {
             "colorbar": {
              "outlinewidth": 0,
              "ticks": ""
             }
            },
            "type": "scattermapbox"
           }
          ],
          "scatterpolar": [
           {
            "marker": {
             "colorbar": {
              "outlinewidth": 0,
              "ticks": ""
             }
            },
            "type": "scatterpolar"
           }
          ],
          "scatterpolargl": [
           {
            "marker": {
             "colorbar": {
              "outlinewidth": 0,
              "ticks": ""
             }
            },
            "type": "scatterpolargl"
           }
          ],
          "scatterternary": [
           {
            "marker": {
             "colorbar": {
              "outlinewidth": 0,
              "ticks": ""
             }
            },
            "type": "scatterternary"
           }
          ],
          "surface": [
           {
            "colorbar": {
             "outlinewidth": 0,
             "ticks": ""
            },
            "colorscale": [
             [
              0,
              "#0d0887"
             ],
             [
              0.1111111111111111,
              "#46039f"
             ],
             [
              0.2222222222222222,
              "#7201a8"
             ],
             [
              0.3333333333333333,
              "#9c179e"
             ],
             [
              0.4444444444444444,
              "#bd3786"
             ],
             [
              0.5555555555555556,
              "#d8576b"
             ],
             [
              0.6666666666666666,
              "#ed7953"
             ],
             [
              0.7777777777777778,
              "#fb9f3a"
             ],
             [
              0.8888888888888888,
              "#fdca26"
             ],
             [
              1,
              "#f0f921"
             ]
            ],
            "type": "surface"
           }
          ],
          "table": [
           {
            "cells": {
             "fill": {
              "color": "#EBF0F8"
             },
             "line": {
              "color": "white"
             }
            },
            "header": {
             "fill": {
              "color": "#C8D4E3"
             },
             "line": {
              "color": "white"
             }
            },
            "type": "table"
           }
          ]
         },
         "layout": {
          "annotationdefaults": {
           "arrowcolor": "#2a3f5f",
           "arrowhead": 0,
           "arrowwidth": 1
          },
          "autotypenumbers": "strict",
          "coloraxis": {
           "colorbar": {
            "outlinewidth": 0,
            "ticks": ""
           }
          },
          "colorscale": {
           "diverging": [
            [
             0,
             "#8e0152"
            ],
            [
             0.1,
             "#c51b7d"
            ],
            [
             0.2,
             "#de77ae"
            ],
            [
             0.3,
             "#f1b6da"
            ],
            [
             0.4,
             "#fde0ef"
            ],
            [
             0.5,
             "#f7f7f7"
            ],
            [
             0.6,
             "#e6f5d0"
            ],
            [
             0.7,
             "#b8e186"
            ],
            [
             0.8,
             "#7fbc41"
            ],
            [
             0.9,
             "#4d9221"
            ],
            [
             1,
             "#276419"
            ]
           ],
           "sequential": [
            [
             0,
             "#0d0887"
            ],
            [
             0.1111111111111111,
             "#46039f"
            ],
            [
             0.2222222222222222,
             "#7201a8"
            ],
            [
             0.3333333333333333,
             "#9c179e"
            ],
            [
             0.4444444444444444,
             "#bd3786"
            ],
            [
             0.5555555555555556,
             "#d8576b"
            ],
            [
             0.6666666666666666,
             "#ed7953"
            ],
            [
             0.7777777777777778,
             "#fb9f3a"
            ],
            [
             0.8888888888888888,
             "#fdca26"
            ],
            [
             1,
             "#f0f921"
            ]
           ],
           "sequentialminus": [
            [
             0,
             "#0d0887"
            ],
            [
             0.1111111111111111,
             "#46039f"
            ],
            [
             0.2222222222222222,
             "#7201a8"
            ],
            [
             0.3333333333333333,
             "#9c179e"
            ],
            [
             0.4444444444444444,
             "#bd3786"
            ],
            [
             0.5555555555555556,
             "#d8576b"
            ],
            [
             0.6666666666666666,
             "#ed7953"
            ],
            [
             0.7777777777777778,
             "#fb9f3a"
            ],
            [
             0.8888888888888888,
             "#fdca26"
            ],
            [
             1,
             "#f0f921"
            ]
           ]
          },
          "colorway": [
           "#636efa",
           "#EF553B",
           "#00cc96",
           "#ab63fa",
           "#FFA15A",
           "#19d3f3",
           "#FF6692",
           "#B6E880",
           "#FF97FF",
           "#FECB52"
          ],
          "font": {
           "color": "#2a3f5f"
          },
          "geo": {
           "bgcolor": "white",
           "lakecolor": "white",
           "landcolor": "#E5ECF6",
           "showlakes": true,
           "showland": true,
           "subunitcolor": "white"
          },
          "hoverlabel": {
           "align": "left"
          },
          "hovermode": "closest",
          "mapbox": {
           "style": "light"
          },
          "paper_bgcolor": "white",
          "plot_bgcolor": "#E5ECF6",
          "polar": {
           "angularaxis": {
            "gridcolor": "white",
            "linecolor": "white",
            "ticks": ""
           },
           "bgcolor": "#E5ECF6",
           "radialaxis": {
            "gridcolor": "white",
            "linecolor": "white",
            "ticks": ""
           }
          },
          "scene": {
           "xaxis": {
            "backgroundcolor": "#E5ECF6",
            "gridcolor": "white",
            "gridwidth": 2,
            "linecolor": "white",
            "showbackground": true,
            "ticks": "",
            "zerolinecolor": "white"
           },
           "yaxis": {
            "backgroundcolor": "#E5ECF6",
            "gridcolor": "white",
            "gridwidth": 2,
            "linecolor": "white",
            "showbackground": true,
            "ticks": "",
            "zerolinecolor": "white"
           },
           "zaxis": {
            "backgroundcolor": "#E5ECF6",
            "gridcolor": "white",
            "gridwidth": 2,
            "linecolor": "white",
            "showbackground": true,
            "ticks": "",
            "zerolinecolor": "white"
           }
          },
          "shapedefaults": {
           "line": {
            "color": "#2a3f5f"
           }
          },
          "ternary": {
           "aaxis": {
            "gridcolor": "white",
            "linecolor": "white",
            "ticks": ""
           },
           "baxis": {
            "gridcolor": "white",
            "linecolor": "white",
            "ticks": ""
           },
           "bgcolor": "#E5ECF6",
           "caxis": {
            "gridcolor": "white",
            "linecolor": "white",
            "ticks": ""
           }
          },
          "title": {
           "x": 0.05
          },
          "xaxis": {
           "automargin": true,
           "gridcolor": "white",
           "linecolor": "white",
           "ticks": "",
           "title": {
            "standoff": 15
           },
           "zerolinecolor": "white",
           "zerolinewidth": 2
          },
          "yaxis": {
           "automargin": true,
           "gridcolor": "white",
           "linecolor": "white",
           "ticks": "",
           "title": {
            "standoff": 15
           },
           "zerolinecolor": "white",
           "zerolinewidth": 2
          }
         }
        },
        "title": {
         "text": "2D PCA Visualization"
        },
        "xaxis": {
         "anchor": "y",
         "domain": [
          0,
          1
         ],
         "title": {
          "text": "PC1"
         }
        },
        "yaxis": {
         "anchor": "x",
         "domain": [
          0,
          1
         ],
         "title": {
          "text": "PC2"
         }
        }
       }
      }
     },
     "metadata": {},
     "output_type": "display_data"
    },
    {
     "data": {
      "application/vnd.plotly.v1+json": {
       "config": {
        "plotlyServerURL": "https://plot.ly"
       },
       "data": [
        {
         "hovertemplate": "PC1=%{x}<br>PC2=%{y}<br>PC3=%{z}<br>Sensor ID=%{marker.color}<extra></extra>",
         "legendgroup": "",
         "marker": {
          "color": [
           1,
           2,
           3,
           4,
           5,
           6,
           7,
           8,
           9,
           10,
           11,
           12,
           13,
           14,
           15,
           16,
           17,
           18,
           19,
           20,
           21,
           22,
           23,
           24,
           25,
           26,
           27,
           28,
           29,
           30,
           32,
           33,
           34,
           35,
           36,
           37,
           38,
           39,
           40,
           41,
           42,
           43,
           44,
           45,
           46,
           47,
           48,
           49,
           50,
           51,
           52,
           53,
           54,
           55,
           56,
           57,
           58,
           59,
           60,
           61,
           62,
           63,
           64,
           65,
           66,
           67,
           68,
           69,
           70,
           71,
           72,
           73,
           74,
           75,
           76,
           77,
           78,
           79,
           80,
           81,
           82,
           83,
           84,
           85,
           86,
           87,
           88,
           89,
           90,
           91,
           92,
           93,
           94,
           95,
           96,
           97,
           98,
           99,
           100,
           101,
           102,
           103,
           104,
           105,
           106,
           107,
           108,
           109,
           110,
           111,
           112,
           113,
           114,
           115,
           116,
           117,
           118,
           119,
           120,
           121,
           122,
           123,
           124,
           125
          ],
          "coloraxis": "coloraxis",
          "symbol": "circle"
         },
         "mode": "markers",
         "name": "",
         "scene": "scene",
         "showlegend": false,
         "type": "scatter3d",
         "x": [
          4.035303703546618,
          -5.91091056001655,
          -1.5360314799698425,
          -0.18636632540900813,
          0.523756928825955,
          -1.900867739993117,
          -0.5528799619187652,
          0.49195948498319764,
          5.949309321862397,
          2.829729762551921,
          1.4984726394431116,
          0.5353485921326615,
          -0.881390211433556,
          -1.4608775518190809,
          0.4569683247647438,
          2.314231170897028,
          -1.5333788315075667,
          -0.7675182884173561,
          -0.44617823408590745,
          -4.901042896180874,
          -0.9755295661109935,
          2.7271800668376884,
          2.0037147423139334,
          -1.228808771727879,
          1.8611212877019616,
          2.2469682657551506,
          0.8247738941383908,
          0.6008943772132367,
          2.036224661898477,
          0.8391208882573352,
          1.4474497773986812,
          -0.0829426796460041,
          -5.424270057136816,
          1.1395980056588173,
          0.6962107136761825,
          -3.157768165715621,
          1.9569199511358517,
          4.41408964184195,
          -0.611516043510051,
          -1.6126436972124187,
          -1.5359455264280546,
          0.0683512860342848,
          -2.011267820571868,
          0.33446085723302593,
          -0.8670592742371963,
          -4.746858876896246,
          -1.1646135354927494,
          -1.2288373085418556,
          -1.3450613690236615,
          -0.6458415255593766,
          1.499528593099033,
          1.8639531847030075,
          1.6287706071910648,
          -0.43963290921405934,
          -1.1443681626381526,
          0.49091160583939847,
          -1.9726570644987398,
          -1.1808556071107512,
          0.06676489660209568,
          -3.1373608993732818,
          1.9068910755767323,
          1.6629119647191626,
          -2.6288942829479605,
          3.9644517861853097,
          1.6497521355715072,
          1.5519073133710728,
          6.871403039035054,
          -0.9900437823134196,
          2.371436650873518,
          1.7647192737363206,
          -0.9958519820316148,
          1.4331996486335228,
          0.010978273100189418,
          -4.487948591034138,
          -2.592703299208912,
          -4.629004436907407,
          -1.0435854243860108,
          4.768852615338088,
          -0.20161209353202325,
          2.907870471960506,
          0.7890928773087327,
          2.087981941588271,
          4.045518374266094,
          2.3848511947589355,
          -4.382252060290641,
          2.3094310650398424,
          1.3095482938117757,
          1.1335729240204881,
          0.1989228380217422,
          1.8306936401874956,
          -1.8330268658815996,
          -3.3613657862835935,
          -5.2929514320799385,
          -5.904664536018486,
          1.1572995191014732,
          4.364910452255716,
          3.1826696959078364,
          0.060547415012643435,
          0.6720580569438342,
          0.25925247901049614,
          3.042504904677506,
          3.318733074189196,
          1.4431967682159876,
          -3.5173816115629064,
          -5.855864511480529,
          -4.099335723009425,
          1.5339093155760992,
          -1.1873393007883348,
          1.3206419480048615,
          -0.15962107517764298,
          0.4395167707607394,
          -1.5971862577407612,
          0.1926735139276793,
          0.7005449182892804,
          -0.5415263239464467,
          -0.9975113786975829,
          -1.2963990202369486,
          -0.6072835254797015,
          -0.7395799748052396,
          0.27880639551292746,
          -1.3925109993350682,
          1.0839671344328772,
          -2.6824459975158628,
          0.22186422162888964
         ],
         "y": [
          4.706643913230807,
          4.437393256967463,
          -2.438222354946221,
          0.895676648880358,
          3.778144366678729,
          -1.9686403963882309,
          0.645100298682835,
          1.230763703580573,
          1.8755532071645407,
          -0.6477994518931183,
          0.060152223090746464,
          1.5022590801063775,
          0.19587379399302338,
          -0.2691645084736438,
          4.159972403929126,
          -0.512592576276055,
          1.8571491896771581,
          -2.5543334894257157,
          4.738376960964853,
          0.5815210379468396,
          0.3908519168570182,
          -0.3353633551809338,
          1.0365620320022269,
          3.347607156181329,
          -1.116443751610704,
          -1.0569336889116625,
          -0.6220262816007288,
          0.20415788808769714,
          -2.157937539991464,
          -0.44112929490568376,
          -2.872891663297919,
          2.9342963711924095,
          -0.5408958239512396,
          -0.7319808833092922,
          0.08847372678953877,
          2.718766801208781,
          -2.3615582690430426,
          4.287098391110573,
          -0.6733556596285408,
          1.9791016669575041,
          -2.0844422995571508,
          0.5842725156125995,
          -1.9888299242220502,
          -1.244679183575618,
          1.8076041718595266,
          -0.3452230117536665,
          -1.3099064355034307,
          0.05572378091098689,
          1.509710131386879,
          -0.9773915018417585,
          -1.6691209350908565,
          -1.4405590398298145,
          -0.834743258272982,
          -0.18364943999312536,
          -1.5798890219876136,
          -2.1889118271997816,
          -2.054854728367551,
          -0.5583580063271427,
          0.7081158321266113,
          -2.7056661495134797,
          -1.2788772125851184,
          -0.9370633314629432,
          3.5559415570359705,
          0.41898264989076783,
          -0.42839905793370053,
          1.8595727780084368,
          -0.0927992215312845,
          -1.9693358731742188,
          2.362517278900543,
          -0.6127311330753619,
          0.3576259567791665,
          -2.238154150927128,
          0.11176914224280135,
          1.8406016383993398,
          -2.265992934404384,
          -2.509647737939313,
          2.016245387994605,
          -2.744094139940138,
          1.8925593816799775,
          0.8729339965688512,
          -1.7379832885801736,
          2.0784329564337,
          -1.1816669439196965,
          -0.5107939477385866,
          -1.3409923298565471,
          -2.607289371363427,
          -2.1878933602109885,
          1.2318923009155804,
          0.104258994126692,
          0.4527018282159554,
          -0.5364060824639353,
          -0.9500523768967523,
          -0.7442485091126102,
          -0.9784524836093502,
          3.664434397491387,
          1.7824289372151987,
          -1.4517637158395595,
          -1.7170139694306397,
          -1.2047071561997913,
          2.0632471138340507,
          2.2124889614856675,
          -0.8931582175569197,
          2.089927436117939,
          0.2842404246158196,
          2.849311646687372,
          0.3973094973863288,
          -1.2759329427296475,
          0.36376700598946665,
          -1.4374494894441765,
          -1.7595286455498125,
          -0.2906190896563643,
          -0.8501512587448455,
          -1.0587291263004166,
          -2.4159983593694188,
          -2.436652949976104,
          0.4174464475150465,
          -0.6755220464667678,
          0.1732822944896486,
          -1.53958582421447,
          -0.6147416944827542,
          -1.390948777156299,
          3.5649652313310414,
          2.467044798298068,
          -2.4699820051126764
         ],
         "z": [
          1.267092767944201,
          -0.7103485625758352,
          -0.6442906377216828,
          -0.5169764035592455,
          -0.7614825214875407,
          -1.1081944642223944,
          -1.0070904409447123,
          0.33859664841203063,
          -1.3236122174079998,
          -0.6583945708354689,
          -0.8962342749825377,
          1.490811771286869,
          -0.1193321455060351,
          -1.4436984103513952,
          1.4365703389856035,
          -0.7556647200901717,
          -3.5906078140617628,
          -0.320485230873324,
          0.0837919559566651,
          0.7888469588289638,
          1.4079235419819494,
          -2.539587538031162,
          -2.5356330123817927,
          -1.9836540955134043,
          0.2756313806900657,
          0.9588910662235762,
          0.3335418643368292,
          0.5847533457576825,
          0.24212519424174775,
          1.4063660348497644,
          -0.8767403100056519,
          -0.36419207757557737,
          -0.14817083391918315,
          1.5039234634603948,
          -0.28892771551989643,
          -1.889733412124575,
          -1.1310351117959034,
          -1.567961024349799,
          -1.1299871496749945,
          -2.4231553502200898,
          0.7913115143639287,
          3.668604020992893,
          -1.3526015932473252,
          -1.4839768592522042,
          2.570954593114269,
          -0.6169242809417562,
          0.4832163007795985,
          0.5021063418744043,
          1.8815680005142212,
          -0.9376167398314008,
          -1.7431516263335836,
          -1.4644741411519187,
          -0.5992337775018899,
          4.485289002199681,
          -1.3168810668699156,
          -0.8539067741503567,
          0.9819408520423998,
          0.16938691711200551,
          -1.0602144919247072,
          3.7496298296226898,
          -0.9782123588801492,
          -1.9660414814355853,
          -1.4081799918142295,
          1.087620504796113,
          -0.2204056171238371,
          2.111320082154891,
          4.389372667337763,
          1.1356639593596525,
          -3.3986875134896852,
          1.2769374177038486,
          1.212190361988299,
          -0.6029988508260402,
          -2.357265886632495,
          5.442772777675144,
          -1.8420193256273134,
          -1.027425378314093,
          -2.2542776307797943,
          -0.8906233810930089,
          -1.005390459445269,
          -3.902702976535405,
          -0.9085904340481364,
          2.3163903340334167,
          -1.05937189181798,
          1.9666033015271251,
          0.3146629520448692,
          -1.5984622521399532,
          -0.22697719159426988,
          0.9004188071975973,
          -2.364090039789315,
          -1.1656231810359505,
          1.2649915471522166,
          -3.3020176467747255,
          -1.1464442339602445,
          0.7022903342464077,
          -0.6232468112053667,
          3.2498670379915975,
          -2.1917134376065754,
          -0.8791089640048203,
          -0.05851842825233546,
          -1.8039995195203817,
          0.1008870979828422,
          2.6886987656315773,
          1.4348882214313743,
          3.261689473523457,
          -1.5536575126228942,
          1.0025107968781135,
          0.6404691432101309,
          -0.4158514348835971,
          0.827664093882289,
          0.36147187981049395,
          1.0943508043591497,
          -0.6545052892257102,
          1.7383632121188095,
          1.3352966717193513,
          1.4957434562670875,
          -1.7082783424638985,
          -0.8781572339118986,
          1.0868219276702134,
          0.2584035472895078,
          0.3989756981275204,
          4.29666705683993,
          3.2364843183194205,
          0.8344594172093258,
          1.6891947207401858
         ]
        }
       ],
       "layout": {
        "coloraxis": {
         "colorbar": {
          "title": {
           "text": "Sensor ID"
          }
         },
         "colorscale": [
          [
           0,
           "#0d0887"
          ],
          [
           0.1111111111111111,
           "#46039f"
          ],
          [
           0.2222222222222222,
           "#7201a8"
          ],
          [
           0.3333333333333333,
           "#9c179e"
          ],
          [
           0.4444444444444444,
           "#bd3786"
          ],
          [
           0.5555555555555556,
           "#d8576b"
          ],
          [
           0.6666666666666666,
           "#ed7953"
          ],
          [
           0.7777777777777778,
           "#fb9f3a"
          ],
          [
           0.8888888888888888,
           "#fdca26"
          ],
          [
           1,
           "#f0f921"
          ]
         ]
        },
        "legend": {
         "tracegroupgap": 0
        },
        "scene": {
         "domain": {
          "x": [
           0,
           1
          ],
          "y": [
           0,
           1
          ]
         },
         "xaxis": {
          "title": {
           "text": "PC1"
          }
         },
         "yaxis": {
          "title": {
           "text": "PC2"
          }
         },
         "zaxis": {
          "title": {
           "text": "PC3"
          }
         }
        },
        "template": {
         "data": {
          "bar": [
           {
            "error_x": {
             "color": "#2a3f5f"
            },
            "error_y": {
             "color": "#2a3f5f"
            },
            "marker": {
             "line": {
              "color": "#E5ECF6",
              "width": 0.5
             },
             "pattern": {
              "fillmode": "overlay",
              "size": 10,
              "solidity": 0.2
             }
            },
            "type": "bar"
           }
          ],
          "barpolar": [
           {
            "marker": {
             "line": {
              "color": "#E5ECF6",
              "width": 0.5
             },
             "pattern": {
              "fillmode": "overlay",
              "size": 10,
              "solidity": 0.2
             }
            },
            "type": "barpolar"
           }
          ],
          "carpet": [
           {
            "aaxis": {
             "endlinecolor": "#2a3f5f",
             "gridcolor": "white",
             "linecolor": "white",
             "minorgridcolor": "white",
             "startlinecolor": "#2a3f5f"
            },
            "baxis": {
             "endlinecolor": "#2a3f5f",
             "gridcolor": "white",
             "linecolor": "white",
             "minorgridcolor": "white",
             "startlinecolor": "#2a3f5f"
            },
            "type": "carpet"
           }
          ],
          "choropleth": [
           {
            "colorbar": {
             "outlinewidth": 0,
             "ticks": ""
            },
            "type": "choropleth"
           }
          ],
          "contour": [
           {
            "colorbar": {
             "outlinewidth": 0,
             "ticks": ""
            },
            "colorscale": [
             [
              0,
              "#0d0887"
             ],
             [
              0.1111111111111111,
              "#46039f"
             ],
             [
              0.2222222222222222,
              "#7201a8"
             ],
             [
              0.3333333333333333,
              "#9c179e"
             ],
             [
              0.4444444444444444,
              "#bd3786"
             ],
             [
              0.5555555555555556,
              "#d8576b"
             ],
             [
              0.6666666666666666,
              "#ed7953"
             ],
             [
              0.7777777777777778,
              "#fb9f3a"
             ],
             [
              0.8888888888888888,
              "#fdca26"
             ],
             [
              1,
              "#f0f921"
             ]
            ],
            "type": "contour"
           }
          ],
          "contourcarpet": [
           {
            "colorbar": {
             "outlinewidth": 0,
             "ticks": ""
            },
            "type": "contourcarpet"
           }
          ],
          "heatmap": [
           {
            "colorbar": {
             "outlinewidth": 0,
             "ticks": ""
            },
            "colorscale": [
             [
              0,
              "#0d0887"
             ],
             [
              0.1111111111111111,
              "#46039f"
             ],
             [
              0.2222222222222222,
              "#7201a8"
             ],
             [
              0.3333333333333333,
              "#9c179e"
             ],
             [
              0.4444444444444444,
              "#bd3786"
             ],
             [
              0.5555555555555556,
              "#d8576b"
             ],
             [
              0.6666666666666666,
              "#ed7953"
             ],
             [
              0.7777777777777778,
              "#fb9f3a"
             ],
             [
              0.8888888888888888,
              "#fdca26"
             ],
             [
              1,
              "#f0f921"
             ]
            ],
            "type": "heatmap"
           }
          ],
          "heatmapgl": [
           {
            "colorbar": {
             "outlinewidth": 0,
             "ticks": ""
            },
            "colorscale": [
             [
              0,
              "#0d0887"
             ],
             [
              0.1111111111111111,
              "#46039f"
             ],
             [
              0.2222222222222222,
              "#7201a8"
             ],
             [
              0.3333333333333333,
              "#9c179e"
             ],
             [
              0.4444444444444444,
              "#bd3786"
             ],
             [
              0.5555555555555556,
              "#d8576b"
             ],
             [
              0.6666666666666666,
              "#ed7953"
             ],
             [
              0.7777777777777778,
              "#fb9f3a"
             ],
             [
              0.8888888888888888,
              "#fdca26"
             ],
             [
              1,
              "#f0f921"
             ]
            ],
            "type": "heatmapgl"
           }
          ],
          "histogram": [
           {
            "marker": {
             "pattern": {
              "fillmode": "overlay",
              "size": 10,
              "solidity": 0.2
             }
            },
            "type": "histogram"
           }
          ],
          "histogram2d": [
           {
            "colorbar": {
             "outlinewidth": 0,
             "ticks": ""
            },
            "colorscale": [
             [
              0,
              "#0d0887"
             ],
             [
              0.1111111111111111,
              "#46039f"
             ],
             [
              0.2222222222222222,
              "#7201a8"
             ],
             [
              0.3333333333333333,
              "#9c179e"
             ],
             [
              0.4444444444444444,
              "#bd3786"
             ],
             [
              0.5555555555555556,
              "#d8576b"
             ],
             [
              0.6666666666666666,
              "#ed7953"
             ],
             [
              0.7777777777777778,
              "#fb9f3a"
             ],
             [
              0.8888888888888888,
              "#fdca26"
             ],
             [
              1,
              "#f0f921"
             ]
            ],
            "type": "histogram2d"
           }
          ],
          "histogram2dcontour": [
           {
            "colorbar": {
             "outlinewidth": 0,
             "ticks": ""
            },
            "colorscale": [
             [
              0,
              "#0d0887"
             ],
             [
              0.1111111111111111,
              "#46039f"
             ],
             [
              0.2222222222222222,
              "#7201a8"
             ],
             [
              0.3333333333333333,
              "#9c179e"
             ],
             [
              0.4444444444444444,
              "#bd3786"
             ],
             [
              0.5555555555555556,
              "#d8576b"
             ],
             [
              0.6666666666666666,
              "#ed7953"
             ],
             [
              0.7777777777777778,
              "#fb9f3a"
             ],
             [
              0.8888888888888888,
              "#fdca26"
             ],
             [
              1,
              "#f0f921"
             ]
            ],
            "type": "histogram2dcontour"
           }
          ],
          "mesh3d": [
           {
            "colorbar": {
             "outlinewidth": 0,
             "ticks": ""
            },
            "type": "mesh3d"
           }
          ],
          "parcoords": [
           {
            "line": {
             "colorbar": {
              "outlinewidth": 0,
              "ticks": ""
             }
            },
            "type": "parcoords"
           }
          ],
          "pie": [
           {
            "automargin": true,
            "type": "pie"
           }
          ],
          "scatter": [
           {
            "fillpattern": {
             "fillmode": "overlay",
             "size": 10,
             "solidity": 0.2
            },
            "type": "scatter"
           }
          ],
          "scatter3d": [
           {
            "line": {
             "colorbar": {
              "outlinewidth": 0,
              "ticks": ""
             }
            },
            "marker": {
             "colorbar": {
              "outlinewidth": 0,
              "ticks": ""
             }
            },
            "type": "scatter3d"
           }
          ],
          "scattercarpet": [
           {
            "marker": {
             "colorbar": {
              "outlinewidth": 0,
              "ticks": ""
             }
            },
            "type": "scattercarpet"
           }
          ],
          "scattergeo": [
           {
            "marker": {
             "colorbar": {
              "outlinewidth": 0,
              "ticks": ""
             }
            },
            "type": "scattergeo"
           }
          ],
          "scattergl": [
           {
            "marker": {
             "colorbar": {
              "outlinewidth": 0,
              "ticks": ""
             }
            },
            "type": "scattergl"
           }
          ],
          "scattermapbox": [
           {
            "marker": {
             "colorbar": {
              "outlinewidth": 0,
              "ticks": ""
             }
            },
            "type": "scattermapbox"
           }
          ],
          "scatterpolar": [
           {
            "marker": {
             "colorbar": {
              "outlinewidth": 0,
              "ticks": ""
             }
            },
            "type": "scatterpolar"
           }
          ],
          "scatterpolargl": [
           {
            "marker": {
             "colorbar": {
              "outlinewidth": 0,
              "ticks": ""
             }
            },
            "type": "scatterpolargl"
           }
          ],
          "scatterternary": [
           {
            "marker": {
             "colorbar": {
              "outlinewidth": 0,
              "ticks": ""
             }
            },
            "type": "scatterternary"
           }
          ],
          "surface": [
           {
            "colorbar": {
             "outlinewidth": 0,
             "ticks": ""
            },
            "colorscale": [
             [
              0,
              "#0d0887"
             ],
             [
              0.1111111111111111,
              "#46039f"
             ],
             [
              0.2222222222222222,
              "#7201a8"
             ],
             [
              0.3333333333333333,
              "#9c179e"
             ],
             [
              0.4444444444444444,
              "#bd3786"
             ],
             [
              0.5555555555555556,
              "#d8576b"
             ],
             [
              0.6666666666666666,
              "#ed7953"
             ],
             [
              0.7777777777777778,
              "#fb9f3a"
             ],
             [
              0.8888888888888888,
              "#fdca26"
             ],
             [
              1,
              "#f0f921"
             ]
            ],
            "type": "surface"
           }
          ],
          "table": [
           {
            "cells": {
             "fill": {
              "color": "#EBF0F8"
             },
             "line": {
              "color": "white"
             }
            },
            "header": {
             "fill": {
              "color": "#C8D4E3"
             },
             "line": {
              "color": "white"
             }
            },
            "type": "table"
           }
          ]
         },
         "layout": {
          "annotationdefaults": {
           "arrowcolor": "#2a3f5f",
           "arrowhead": 0,
           "arrowwidth": 1
          },
          "autotypenumbers": "strict",
          "coloraxis": {
           "colorbar": {
            "outlinewidth": 0,
            "ticks": ""
           }
          },
          "colorscale": {
           "diverging": [
            [
             0,
             "#8e0152"
            ],
            [
             0.1,
             "#c51b7d"
            ],
            [
             0.2,
             "#de77ae"
            ],
            [
             0.3,
             "#f1b6da"
            ],
            [
             0.4,
             "#fde0ef"
            ],
            [
             0.5,
             "#f7f7f7"
            ],
            [
             0.6,
             "#e6f5d0"
            ],
            [
             0.7,
             "#b8e186"
            ],
            [
             0.8,
             "#7fbc41"
            ],
            [
             0.9,
             "#4d9221"
            ],
            [
             1,
             "#276419"
            ]
           ],
           "sequential": [
            [
             0,
             "#0d0887"
            ],
            [
             0.1111111111111111,
             "#46039f"
            ],
            [
             0.2222222222222222,
             "#7201a8"
            ],
            [
             0.3333333333333333,
             "#9c179e"
            ],
            [
             0.4444444444444444,
             "#bd3786"
            ],
            [
             0.5555555555555556,
             "#d8576b"
            ],
            [
             0.6666666666666666,
             "#ed7953"
            ],
            [
             0.7777777777777778,
             "#fb9f3a"
            ],
            [
             0.8888888888888888,
             "#fdca26"
            ],
            [
             1,
             "#f0f921"
            ]
           ],
           "sequentialminus": [
            [
             0,
             "#0d0887"
            ],
            [
             0.1111111111111111,
             "#46039f"
            ],
            [
             0.2222222222222222,
             "#7201a8"
            ],
            [
             0.3333333333333333,
             "#9c179e"
            ],
            [
             0.4444444444444444,
             "#bd3786"
            ],
            [
             0.5555555555555556,
             "#d8576b"
            ],
            [
             0.6666666666666666,
             "#ed7953"
            ],
            [
             0.7777777777777778,
             "#fb9f3a"
            ],
            [
             0.8888888888888888,
             "#fdca26"
            ],
            [
             1,
             "#f0f921"
            ]
           ]
          },
          "colorway": [
           "#636efa",
           "#EF553B",
           "#00cc96",
           "#ab63fa",
           "#FFA15A",
           "#19d3f3",
           "#FF6692",
           "#B6E880",
           "#FF97FF",
           "#FECB52"
          ],
          "font": {
           "color": "#2a3f5f"
          },
          "geo": {
           "bgcolor": "white",
           "lakecolor": "white",
           "landcolor": "#E5ECF6",
           "showlakes": true,
           "showland": true,
           "subunitcolor": "white"
          },
          "hoverlabel": {
           "align": "left"
          },
          "hovermode": "closest",
          "mapbox": {
           "style": "light"
          },
          "paper_bgcolor": "white",
          "plot_bgcolor": "#E5ECF6",
          "polar": {
           "angularaxis": {
            "gridcolor": "white",
            "linecolor": "white",
            "ticks": ""
           },
           "bgcolor": "#E5ECF6",
           "radialaxis": {
            "gridcolor": "white",
            "linecolor": "white",
            "ticks": ""
           }
          },
          "scene": {
           "xaxis": {
            "backgroundcolor": "#E5ECF6",
            "gridcolor": "white",
            "gridwidth": 2,
            "linecolor": "white",
            "showbackground": true,
            "ticks": "",
            "zerolinecolor": "white"
           },
           "yaxis": {
            "backgroundcolor": "#E5ECF6",
            "gridcolor": "white",
            "gridwidth": 2,
            "linecolor": "white",
            "showbackground": true,
            "ticks": "",
            "zerolinecolor": "white"
           },
           "zaxis": {
            "backgroundcolor": "#E5ECF6",
            "gridcolor": "white",
            "gridwidth": 2,
            "linecolor": "white",
            "showbackground": true,
            "ticks": "",
            "zerolinecolor": "white"
           }
          },
          "shapedefaults": {
           "line": {
            "color": "#2a3f5f"
           }
          },
          "ternary": {
           "aaxis": {
            "gridcolor": "white",
            "linecolor": "white",
            "ticks": ""
           },
           "baxis": {
            "gridcolor": "white",
            "linecolor": "white",
            "ticks": ""
           },
           "bgcolor": "#E5ECF6",
           "caxis": {
            "gridcolor": "white",
            "linecolor": "white",
            "ticks": ""
           }
          },
          "title": {
           "x": 0.05
          },
          "xaxis": {
           "automargin": true,
           "gridcolor": "white",
           "linecolor": "white",
           "ticks": "",
           "title": {
            "standoff": 15
           },
           "zerolinecolor": "white",
           "zerolinewidth": 2
          },
          "yaxis": {
           "automargin": true,
           "gridcolor": "white",
           "linecolor": "white",
           "ticks": "",
           "title": {
            "standoff": 15
           },
           "zerolinecolor": "white",
           "zerolinewidth": 2
          }
         }
        },
        "title": {
         "text": "3D PCA Visualization"
        }
       }
      }
     },
     "metadata": {},
     "output_type": "display_data"
    },
    {
     "name": "stdout",
     "output_type": "stream",
     "text": [
      "Evaluation Results:\n",
      "Explained Variance Ratio: [0.11826548 0.06813441 0.06011611 0.04896588 0.04173711 0.03992297\n",
      " 0.03829639 0.03679256 0.0342625  0.03159288]\n",
      "Cumulative Explained Variance: [0.11826548 0.18639988 0.246516   0.29548187 0.33721899 0.37714196\n",
      " 0.41543834 0.4522309  0.4864934  0.51808628]\n",
      "Reconstruction Error: 0.48191371996395904\n",
      "Silhouette Score: 0.13321236659965838\n"
     ]
    },
    {
     "name": "stderr",
     "output_type": "stream",
     "text": [
      "/Users/jihoonchung/anaconda3/envs/datascience/lib/python3.10/site-packages/sklearn/cluster/_kmeans.py:1412: FutureWarning:\n",
      "\n",
      "The default value of `n_init` will change from 10 to 'auto' in 1.4. Set the value of `n_init` explicitly to suppress the warning\n",
      "\n"
     ]
    }
   ],
   "source": [
    "results = evaluate_pca(df_mi, n_components=10, color_column='Sensor ID', n_clusters=3, n_components_to_use=5)\n",
    "\n",
    "print(\"Evaluation Results:\")\n",
    "print(f\"Explained Variance Ratio: {results['explained_variance_ratio']}\")\n",
    "print(f\"Cumulative Explained Variance: {results['cumulative_explained_variance']}\")\n",
    "print(f\"Reconstruction Error: {results['reconstruction_error']}\")\n",
    "print(f\"Silhouette Score: {results['silhouette_score']}\")"
   ]
  },
  {
   "cell_type": "markdown",
   "metadata": {},
   "source": [
    "### 4. MI-Batch Correlation with top 50 features"
   ]
  },
  {
   "cell_type": "code",
   "execution_count": 345,
   "metadata": {},
   "outputs": [
    {
     "data": {
      "image/png": "[encoded data removed]",
      "text/plain": [
       "<Figure size 1000x600 with 1 Axes>"
      ]
     },
     "metadata": {},
     "output_type": "display_data"
    },
    {
     "data": {
      "application/vnd.plotly.v1+json": {
       "config": {
        "plotlyServerURL": "https://plot.ly"
       },
       "data": [
        {
         "hovertemplate": "PC1=%{x}<br>PC2=%{y}<br>Sensor ID=%{marker.color}<extra></extra>",
         "legendgroup": "",
         "marker": {
          "color": [
           1,
           2,
           3,
           4,
           5,
           6,
           7,
           8,
           9,
           10,
           11,
           12,
           13,
           14,
           15,
           16,
           17,
           18,
           19,
           20,
           21,
           22,
           23,
           24,
           25,
           26,
           27,
           28,
           29,
           30,
           32,
           33,
           34,
           35,
           36,
           37,
           38,
           39,
           40,
           41,
           42,
           43,
           44,
           45,
           46,
           47,
           48,
           49,
           50,
           51,
           52,
           53,
           54,
           55,
           56,
           57,
           58,
           59,
           60,
           61,
           62,
           63,
           64,
           65,
           66,
           67,
           68,
           69,
           70,
           71,
           72,
           73,
           74,
           75,
           76,
           77,
           78,
           79,
           80,
           81,
           82,
           83,
           84,
           85,
           86,
           87,
           88,
           89,
           90,
           91,
           92,
           93,
           94,
           95,
           96,
           97,
           98,
           99,
           100,
           101,
           102,
           103,
           104,
           105,
           106,
           107,
           108,
           109,
           110,
           111,
           112,
           113,
           114,
           115,
           116,
           117,
           118,
           119,
           120,
           121,
           122,
           123,
           124,
           125
          ],
          "coloraxis": "coloraxis",
          "symbol": "circle"
         },
         "mode": "markers",
         "name": "",
         "orientation": "v",
         "showlegend": false,
         "type": "scatter",
         "x": [
          4.008950138223702,
          -5.8441617083149096,
          -1.5866605422904811,
          -0.20211797677694615,
          0.5722224635354236,
          -1.7064863116200035,
          -0.3923777831094765,
          0.8772204398292823,
          5.580496803441503,
          3.182438068623725,
          1.1671971877421794,
          0.7588455429362547,
          -0.744640075691223,
          -1.5252265692467923,
          0.5513779455834374,
          2.234829455618898,
          -1.7997317015725514,
          -0.5733982327109043,
          -0.5723946603161347,
          -4.7015713182953025,
          -0.8605506634277256,
          2.5630913956848764,
          1.8692370049051799,
          -1.5880772679526747,
          1.8734544570959901,
          2.3608188346925054,
          1.0937612593501094,
          0.8383351035541031,
          2.208742192687206,
          1.029756499849586,
          1.5372581163636332,
          0.23044348628656885,
          -5.561678833143299,
          1.3679699790689674,
          0.657091710835265,
          -3.5531448241170582,
          1.7422488446375364,
          4.475152990148811,
          -0.7151223614005864,
          -1.4759570500758112,
          -1.657325139103919,
          0.38650259874283,
          -2.0774445935560726,
          0.23889628805898286,
          -0.5258265150760205,
          -4.690494443890341,
          -1.1001219707767038,
          -1.2251587968997346,
          -0.8941313601011641,
          -0.7660294991814192,
          1.28933316062823,
          1.6647295474009935,
          1.638362665940583,
          -0.37859660072397494,
          -1.2684939327767528,
          0.29831102082892197,
          -1.7404141533681097,
          -1.162763839091725,
          0.06506970965357674,
          -3.332045578501462,
          1.7746486853843777,
          1.4420184783564458,
          -2.972706183858695,
          3.9096987035513613,
          1.9274035125204922,
          1.5279070413961617,
          6.844656738094737,
          -1.2283557709515367,
          2.305223339446651,
          1.6218694104300584,
          -0.6245624287871968,
          1.1915327067333739,
          -0.07228652157533927,
          -4.528041784783427,
          -2.867828120182693,
          -4.955691713901899,
          -1.2042277661373064,
          4.7091964845170535,
          -0.41213683185610317,
          2.6850432054288946,
          0.7964359175222342,
          1.9807380868233788,
          4.187690984505559,
          2.031946438306124,
          -4.181604583655775,
          2.5673483497509615,
          1.3458029593058463,
          1.2013764155266937,
          0.113922918801968,
          1.6540962125019825,
          -2.310996145916679,
          -3.563975890904198,
          -5.091185179104164,
          -5.957019353709158,
          1.044977385519754,
          4.357584500048298,
          3.081827808110126,
          0.11037621358707762,
          0.8529308298368811,
          -0.09770407032622214,
          3.010099108081376,
          3.3229692956730617,
          1.4732002031788394,
          -3.448899508307491,
          -5.584337354446169,
          -4.196082373516704,
          1.7309576656707903,
          -1.2925993004025882,
          1.5844784066742486,
          0.12035526470011947,
          0.5723825161434076,
          -1.739430612117913,
          0.5151970161660211,
          0.5899967820315084,
          -0.508895331436336,
          -1.1637278177241852,
          -1.1022428687920847,
          -0.44213013127600187,
          -0.5251551714248716,
          0.06890518891821215,
          -1.5164440462476296,
          1.1814924081555007,
          -2.398132950864235,
          0.41011202196743013
         ],
         "xaxis": "x",
         "y": [
          4.5898138788088385,
          4.635819906455187,
          -2.1972532260812123,
          1.3835669947727998,
          3.8921154804754368,
          -2.0300995560005277,
          -0.4667493504741529,
          0.9804802441875129,
          1.3906321315786434,
          -1.3034202922822677,
          -0.8677373317488746,
          0.8804134508541658,
          0.8800101356653082,
          0.8352012073102779,
          3.328455726317524,
          -0.18107763392158546,
          1.868038308724386,
          -2.9724314978847173,
          3.9726286915068143,
          0.4478957591833341,
          0.01275221174120545,
          0.05221244034194896,
          0.5893208268448503,
          2.994912363665971,
          -0.8915622275063416,
          -1.4886201381538273,
          -0.2296228128895101,
          -0.8828569511727123,
          -1.5323771953438625,
          -0.19143846363159703,
          -2.8061047584076264,
          3.3029619216389023,
          0.40427413872822676,
          -1.4116020555252364,
          -0.8063859835865879,
          2.3701902135689847,
          -2.1594354163715965,
          4.261052990148189,
          -0.7877462657620847,
          2.871214747868504,
          -2.110598882416399,
          0.6200741198177364,
          -2.050394367026249,
          -1.0902023809649284,
          1.6369978426596332,
          -0.9771002369828333,
          -2.042972569604552,
          0.8074845918252099,
          1.669419516160792,
          -2.410032309491374,
          -1.7354834369235494,
          -1.2040587567260939,
          -0.5687671736915495,
          0.16274777324484255,
          -1.028734032533312,
          -1.82827683354242,
          -1.5394123075907329,
          -0.02085320333532436,
          1.2490908753294698,
          -3.1192414261995287,
          -0.32382967732125006,
          -0.2774472300370147,
          3.973948159680643,
          1.256255206150278,
          -0.07297903349968123,
          2.0147343588440445,
          -0.8293776841931418,
          -2.4044066231913392,
          2.9589871027931567,
          -0.7742298499054765,
          0.07026544584463143,
          -1.2999090415802559,
          -0.9095123088864691,
          1.664936780027993,
          -1.3633441121493064,
          -1.8995621442404003,
          2.907921334050982,
          -2.400862173542962,
          1.4678053543856877,
          1.1281364774145166,
          -2.5402730815726358,
          1.3408006071897243,
          -1.1280391470433124,
          -0.9124184160077898,
          -1.4394028442543367,
          -1.7093129042475195,
          -2.058877630167807,
          2.079904141891716,
          1.331570341133623,
          0.5656421513017078,
          -1.1628636094581148,
          0.2465246919893017,
          -0.16206063454720743,
          -1.0968020608774838,
          3.006338604413796,
          0.5283262316819142,
          -0.8403006828189733,
          -1.42404203845039,
          -0.9371235225863079,
          2.122851809937673,
          2.5609764527451713,
          0.13605751134367647,
          2.715639915123902,
          -0.8596938727623531,
          2.256099932239893,
          -0.09101316246522377,
          -0.6907685342162376,
          0.6909408539947086,
          -1.7935293881765493,
          -2.5685182977626986,
          -0.24773942820199674,
          -0.15729051138110214,
          -0.517613996105201,
          -2.4533987878547316,
          -2.461425328971978,
          -0.286663812279833,
          -0.8613338668224597,
          -0.8480002485906389,
          -1.8717780749721273,
          0.241433985432522,
          -2.8290243864566356,
          2.4615128656368026,
          1.9900647108103948,
          -2.370036294111038
         ],
         "yaxis": "y"
        }
       ],
       "layout": {
        "coloraxis": {
         "colorbar": {
          "title": {
           "text": "Sensor ID"
          }
         },
         "colorscale": [
          [
           0,
           "#0d0887"
          ],
          [
           0.1111111111111111,
           "#46039f"
          ],
          [
           0.2222222222222222,
           "#7201a8"
          ],
          [
           0.3333333333333333,
           "#9c179e"
          ],
          [
           0.4444444444444444,
           "#bd3786"
          ],
          [
           0.5555555555555556,
           "#d8576b"
          ],
          [
           0.6666666666666666,
           "#ed7953"
          ],
          [
           0.7777777777777778,
           "#fb9f3a"
          ],
          [
           0.8888888888888888,
           "#fdca26"
          ],
          [
           1,
           "#f0f921"
          ]
         ]
        },
        "legend": {
         "tracegroupgap": 0
        },
        "template": {
         "data": {
          "bar": [
           {
            "error_x": {
             "color": "#2a3f5f"
            },
            "error_y": {
             "color": "#2a3f5f"
            },
            "marker": {
             "line": {
              "color": "#E5ECF6",
              "width": 0.5
             },
             "pattern": {
              "fillmode": "overlay",
              "size": 10,
              "solidity": 0.2
             }
            },
            "type": "bar"
           }
          ],
          "barpolar": [
           {
            "marker": {
             "line": {
              "color": "#E5ECF6",
              "width": 0.5
             },
             "pattern": {
              "fillmode": "overlay",
              "size": 10,
              "solidity": 0.2
             }
            },
            "type": "barpolar"
           }
          ],
          "carpet": [
           {
            "aaxis": {
             "endlinecolor": "#2a3f5f",
             "gridcolor": "white",
             "linecolor": "white",
             "minorgridcolor": "white",
             "startlinecolor": "#2a3f5f"
            },
            "baxis": {
             "endlinecolor": "#2a3f5f",
             "gridcolor": "white",
             "linecolor": "white",
             "minorgridcolor": "white",
             "startlinecolor": "#2a3f5f"
            },
            "type": "carpet"
           }
          ],
          "choropleth": [
           {
            "colorbar": {
             "outlinewidth": 0,
             "ticks": ""
            },
            "type": "choropleth"
           }
          ],
          "contour": [
           {
            "colorbar": {
             "outlinewidth": 0,
             "ticks": ""
            },
            "colorscale": [
             [
              0,
              "#0d0887"
             ],
             [
              0.1111111111111111,
              "#46039f"
             ],
             [
              0.2222222222222222,
              "#7201a8"
             ],
             [
              0.3333333333333333,
              "#9c179e"
             ],
             [
              0.4444444444444444,
              "#bd3786"
             ],
             [
              0.5555555555555556,
              "#d8576b"
             ],
             [
              0.6666666666666666,
              "#ed7953"
             ],
             [
              0.7777777777777778,
              "#fb9f3a"
             ],
             [
              0.8888888888888888,
              "#fdca26"
             ],
             [
              1,
              "#f0f921"
             ]
            ],
            "type": "contour"
           }
          ],
          "contourcarpet": [
           {
            "colorbar": {
             "outlinewidth": 0,
             "ticks": ""
            },
            "type": "contourcarpet"
           }
          ],
          "heatmap": [
           {
            "colorbar": {
             "outlinewidth": 0,
             "ticks": ""
            },
            "colorscale": [
             [
              0,
              "#0d0887"
             ],
             [
              0.1111111111111111,
              "#46039f"
             ],
             [
              0.2222222222222222,
              "#7201a8"
             ],
             [
              0.3333333333333333,
              "#9c179e"
             ],
             [
              0.4444444444444444,
              "#bd3786"
             ],
             [
              0.5555555555555556,
              "#d8576b"
             ],
             [
              0.6666666666666666,
              "#ed7953"
             ],
             [
              0.7777777777777778,
              "#fb9f3a"
             ],
             [
              0.8888888888888888,
              "#fdca26"
             ],
             [
              1,
              "#f0f921"
             ]
            ],
            "type": "heatmap"
           }
          ],
          "heatmapgl": [
           {
            "colorbar": {
             "outlinewidth": 0,
             "ticks": ""
            },
            "colorscale": [
             [
              0,
              "#0d0887"
             ],
             [
              0.1111111111111111,
              "#46039f"
             ],
             [
              0.2222222222222222,
              "#7201a8"
             ],
             [
              0.3333333333333333,
              "#9c179e"
             ],
             [
              0.4444444444444444,
              "#bd3786"
             ],
             [
              0.5555555555555556,
              "#d8576b"
             ],
             [
              0.6666666666666666,
              "#ed7953"
             ],
             [
              0.7777777777777778,
              "#fb9f3a"
             ],
             [
              0.8888888888888888,
              "#fdca26"
             ],
             [
              1,
              "#f0f921"
             ]
            ],
            "type": "heatmapgl"
           }
          ],
          "histogram": [
           {
            "marker": {
             "pattern": {
              "fillmode": "overlay",
              "size": 10,
              "solidity": 0.2
             }
            },
            "type": "histogram"
           }
          ],
          "histogram2d": [
           {
            "colorbar": {
             "outlinewidth": 0,
             "ticks": ""
            },
            "colorscale": [
             [
              0,
              "#0d0887"
             ],
             [
              0.1111111111111111,
              "#46039f"
             ],
             [
              0.2222222222222222,
              "#7201a8"
             ],
             [
              0.3333333333333333,
              "#9c179e"
             ],
             [
              0.4444444444444444,
              "#bd3786"
             ],
             [
              0.5555555555555556,
              "#d8576b"
             ],
             [
              0.6666666666666666,
              "#ed7953"
             ],
             [
              0.7777777777777778,
              "#fb9f3a"
             ],
             [
              0.8888888888888888,
              "#fdca26"
             ],
             [
              1,
              "#f0f921"
             ]
            ],
            "type": "histogram2d"
           }
          ],
          "histogram2dcontour": [
           {
            "colorbar": {
             "outlinewidth": 0,
             "ticks": ""
            },
            "colorscale": [
             [
              0,
              "#0d0887"
             ],
             [
              0.1111111111111111,
              "#46039f"
             ],
             [
              0.2222222222222222,
              "#7201a8"
             ],
             [
              0.3333333333333333,
              "#9c179e"
             ],
             [
              0.4444444444444444,
              "#bd3786"
             ],
             [
              0.5555555555555556,
              "#d8576b"
             ],
             [
              0.6666666666666666,
              "#ed7953"
             ],
             [
              0.7777777777777778,
              "#fb9f3a"
             ],
             [
              0.8888888888888888,
              "#fdca26"
             ],
             [
              1,
              "#f0f921"
             ]
            ],
            "type": "histogram2dcontour"
           }
          ],
          "mesh3d": [
           {
            "colorbar": {
             "outlinewidth": 0,
             "ticks": ""
            },
            "type": "mesh3d"
           }
          ],
          "parcoords": [
           {
            "line": {
             "colorbar": {
              "outlinewidth": 0,
              "ticks": ""
             }
            },
            "type": "parcoords"
           }
          ],
          "pie": [
           {
            "automargin": true,
            "type": "pie"
           }
          ],
          "scatter": [
           {
            "fillpattern": {
             "fillmode": "overlay",
             "size": 10,
             "solidity": 0.2
            },
            "type": "scatter"
           }
          ],
          "scatter3d": [
           {
            "line": {
             "colorbar": {
              "outlinewidth": 0,
              "ticks": ""
             }
            },
            "marker": {
             "colorbar": {
              "outlinewidth": 0,
              "ticks": ""
             }
            },
            "type": "scatter3d"
           }
          ],
          "scattercarpet": [
           {
            "marker": {
             "colorbar": {
              "outlinewidth": 0,
              "ticks": ""
             }
            },
            "type": "scattercarpet"
           }
          ],
          "scattergeo": [
           {
            "marker": {
             "colorbar": {
              "outlinewidth": 0,
              "ticks": ""
             }
            },
            "type": "scattergeo"
           }
          ],
          "scattergl": [
           {
            "marker": {
             "colorbar": {
              "outlinewidth": 0,
              "ticks": ""
             }
            },
            "type": "scattergl"
           }
          ],
          "scattermapbox": [
           {
            "marker": {
             "colorbar": {
              "outlinewidth": 0,
              "ticks": ""
             }
            },
            "type": "scattermapbox"
           }
          ],
          "scatterpolar": [
           {
            "marker": {
             "colorbar": {
              "outlinewidth": 0,
              "ticks": ""
             }
            },
            "type": "scatterpolar"
           }
          ],
          "scatterpolargl": [
           {
            "marker": {
             "colorbar": {
              "outlinewidth": 0,
              "ticks": ""
             }
            },
            "type": "scatterpolargl"
           }
          ],
          "scatterternary": [
           {
            "marker": {
             "colorbar": {
              "outlinewidth": 0,
              "ticks": ""
             }
            },
            "type": "scatterternary"
           }
          ],
          "surface": [
           {
            "colorbar": {
             "outlinewidth": 0,
             "ticks": ""
            },
            "colorscale": [
             [
              0,
              "#0d0887"
             ],
             [
              0.1111111111111111,
              "#46039f"
             ],
             [
              0.2222222222222222,
              "#7201a8"
             ],
             [
              0.3333333333333333,
              "#9c179e"
             ],
             [
              0.4444444444444444,
              "#bd3786"
             ],
             [
              0.5555555555555556,
              "#d8576b"
             ],
             [
              0.6666666666666666,
              "#ed7953"
             ],
             [
              0.7777777777777778,
              "#fb9f3a"
             ],
             [
              0.8888888888888888,
              "#fdca26"
             ],
             [
              1,
              "#f0f921"
             ]
            ],
            "type": "surface"
           }
          ],
          "table": [
           {
            "cells": {
             "fill": {
              "color": "#EBF0F8"
             },
             "line": {
              "color": "white"
             }
            },
            "header": {
             "fill": {
              "color": "#C8D4E3"
             },
             "line": {
              "color": "white"
             }
            },
            "type": "table"
           }
          ]
         },
         "layout": {
          "annotationdefaults": {
           "arrowcolor": "#2a3f5f",
           "arrowhead": 0,
           "arrowwidth": 1
          },
          "autotypenumbers": "strict",
          "coloraxis": {
           "colorbar": {
            "outlinewidth": 0,
            "ticks": ""
           }
          },
          "colorscale": {
           "diverging": [
            [
             0,
             "#8e0152"
            ],
            [
             0.1,
             "#c51b7d"
            ],
            [
             0.2,
             "#de77ae"
            ],
            [
             0.3,
             "#f1b6da"
            ],
            [
             0.4,
             "#fde0ef"
            ],
            [
             0.5,
             "#f7f7f7"
            ],
            [
             0.6,
             "#e6f5d0"
            ],
            [
             0.7,
             "#b8e186"
            ],
            [
             0.8,
             "#7fbc41"
            ],
            [
             0.9,
             "#4d9221"
            ],
            [
             1,
             "#276419"
            ]
           ],
           "sequential": [
            [
             0,
             "#0d0887"
            ],
            [
             0.1111111111111111,
             "#46039f"
            ],
            [
             0.2222222222222222,
             "#7201a8"
            ],
            [
             0.3333333333333333,
             "#9c179e"
            ],
            [
             0.4444444444444444,
             "#bd3786"
            ],
            [
             0.5555555555555556,
             "#d8576b"
            ],
            [
             0.6666666666666666,
             "#ed7953"
            ],
            [
             0.7777777777777778,
             "#fb9f3a"
            ],
            [
             0.8888888888888888,
             "#fdca26"
            ],
            [
             1,
             "#f0f921"
            ]
           ],
           "sequentialminus": [
            [
             0,
             "#0d0887"
            ],
            [
             0.1111111111111111,
             "#46039f"
            ],
            [
             0.2222222222222222,
             "#7201a8"
            ],
            [
             0.3333333333333333,
             "#9c179e"
            ],
            [
             0.4444444444444444,
             "#bd3786"
            ],
            [
             0.5555555555555556,
             "#d8576b"
            ],
            [
             0.6666666666666666,
             "#ed7953"
            ],
            [
             0.7777777777777778,
             "#fb9f3a"
            ],
            [
             0.8888888888888888,
             "#fdca26"
            ],
            [
             1,
             "#f0f921"
            ]
           ]
          },
          "colorway": [
           "#636efa",
           "#EF553B",
           "#00cc96",
           "#ab63fa",
           "#FFA15A",
           "#19d3f3",
           "#FF6692",
           "#B6E880",
           "#FF97FF",
           "#FECB52"
          ],
          "font": {
           "color": "#2a3f5f"
          },
          "geo": {
           "bgcolor": "white",
           "lakecolor": "white",
           "landcolor": "#E5ECF6",
           "showlakes": true,
           "showland": true,
           "subunitcolor": "white"
          },
          "hoverlabel": {
           "align": "left"
          },
          "hovermode": "closest",
          "mapbox": {
           "style": "light"
          },
          "paper_bgcolor": "white",
          "plot_bgcolor": "#E5ECF6",
          "polar": {
           "angularaxis": {
            "gridcolor": "white",
            "linecolor": "white",
            "ticks": ""
           },
           "bgcolor": "#E5ECF6",
           "radialaxis": {
            "gridcolor": "white",
            "linecolor": "white",
            "ticks": ""
           }
          },
          "scene": {
           "xaxis": {
            "backgroundcolor": "#E5ECF6",
            "gridcolor": "white",
            "gridwidth": 2,
            "linecolor": "white",
            "showbackground": true,
            "ticks": "",
            "zerolinecolor": "white"
           },
           "yaxis": {
            "backgroundcolor": "#E5ECF6",
            "gridcolor": "white",
            "gridwidth": 2,
            "linecolor": "white",
            "showbackground": true,
            "ticks": "",
            "zerolinecolor": "white"
           },
           "zaxis": {
            "backgroundcolor": "#E5ECF6",
            "gridcolor": "white",
            "gridwidth": 2,
            "linecolor": "white",
            "showbackground": true,
            "ticks": "",
            "zerolinecolor": "white"
           }
          },
          "shapedefaults": {
           "line": {
            "color": "#2a3f5f"
           }
          },
          "ternary": {
           "aaxis": {
            "gridcolor": "white",
            "linecolor": "white",
            "ticks": ""
           },
           "baxis": {
            "gridcolor": "white",
            "linecolor": "white",
            "ticks": ""
           },
           "bgcolor": "#E5ECF6",
           "caxis": {
            "gridcolor": "white",
            "linecolor": "white",
            "ticks": ""
           }
          },
          "title": {
           "x": 0.05
          },
          "xaxis": {
           "automargin": true,
           "gridcolor": "white",
           "linecolor": "white",
           "ticks": "",
           "title": {
            "standoff": 15
           },
           "zerolinecolor": "white",
           "zerolinewidth": 2
          },
          "yaxis": {
           "automargin": true,
           "gridcolor": "white",
           "linecolor": "white",
           "ticks": "",
           "title": {
            "standoff": 15
           },
           "zerolinecolor": "white",
           "zerolinewidth": 2
          }
         }
        },
        "title": {
         "text": "2D PCA Visualization"
        },
        "xaxis": {
         "anchor": "y",
         "domain": [
          0,
          1
         ],
         "title": {
          "text": "PC1"
         }
        },
        "yaxis": {
         "anchor": "x",
         "domain": [
          0,
          1
         ],
         "title": {
          "text": "PC2"
         }
        }
       }
      }
     },
     "metadata": {},
     "output_type": "display_data"
    },
    {
     "data": {
      "application/vnd.plotly.v1+json": {
       "config": {
        "plotlyServerURL": "https://plot.ly"
       },
       "data": [
        {
         "hovertemplate": "PC1=%{x}<br>PC2=%{y}<br>PC3=%{z}<br>Sensor ID=%{marker.color}<extra></extra>",
         "legendgroup": "",
         "marker": {
          "color": [
           1,
           2,
           3,
           4,
           5,
           6,
           7,
           8,
           9,
           10,
           11,
           12,
           13,
           14,
           15,
           16,
           17,
           18,
           19,
           20,
           21,
           22,
           23,
           24,
           25,
           26,
           27,
           28,
           29,
           30,
           32,
           33,
           34,
           35,
           36,
           37,
           38,
           39,
           40,
           41,
           42,
           43,
           44,
           45,
           46,
           47,
           48,
           49,
           50,
           51,
           52,
           53,
           54,
           55,
           56,
           57,
           58,
           59,
           60,
           61,
           62,
           63,
           64,
           65,
           66,
           67,
           68,
           69,
           70,
           71,
           72,
           73,
           74,
           75,
           76,
           77,
           78,
           79,
           80,
           81,
           82,
           83,
           84,
           85,
           86,
           87,
           88,
           89,
           90,
           91,
           92,
           93,
           94,
           95,
           96,
           97,
           98,
           99,
           100,
           101,
           102,
           103,
           104,
           105,
           106,
           107,
           108,
           109,
           110,
           111,
           112,
           113,
           114,
           115,
           116,
           117,
           118,
           119,
           120,
           121,
           122,
           123,
           124,
           125
          ],
          "coloraxis": "coloraxis",
          "symbol": "circle"
         },
         "mode": "markers",
         "name": "",
         "scene": "scene",
         "showlegend": false,
         "type": "scatter3d",
         "x": [
          4.008950138223702,
          -5.8441617083149096,
          -1.5866605422904811,
          -0.20211797677694615,
          0.5722224635354236,
          -1.7064863116200035,
          -0.3923777831094765,
          0.8772204398292823,
          5.580496803441503,
          3.182438068623725,
          1.1671971877421794,
          0.7588455429362547,
          -0.744640075691223,
          -1.5252265692467923,
          0.5513779455834374,
          2.234829455618898,
          -1.7997317015725514,
          -0.5733982327109043,
          -0.5723946603161347,
          -4.7015713182953025,
          -0.8605506634277256,
          2.5630913956848764,
          1.8692370049051799,
          -1.5880772679526747,
          1.8734544570959901,
          2.3608188346925054,
          1.0937612593501094,
          0.8383351035541031,
          2.208742192687206,
          1.029756499849586,
          1.5372581163636332,
          0.23044348628656885,
          -5.561678833143299,
          1.3679699790689674,
          0.657091710835265,
          -3.5531448241170582,
          1.7422488446375364,
          4.475152990148811,
          -0.7151223614005864,
          -1.4759570500758112,
          -1.657325139103919,
          0.38650259874283,
          -2.0774445935560726,
          0.23889628805898286,
          -0.5258265150760205,
          -4.690494443890341,
          -1.1001219707767038,
          -1.2251587968997346,
          -0.8941313601011641,
          -0.7660294991814192,
          1.28933316062823,
          1.6647295474009935,
          1.638362665940583,
          -0.37859660072397494,
          -1.2684939327767528,
          0.29831102082892197,
          -1.7404141533681097,
          -1.162763839091725,
          0.06506970965357674,
          -3.332045578501462,
          1.7746486853843777,
          1.4420184783564458,
          -2.972706183858695,
          3.9096987035513613,
          1.9274035125204922,
          1.5279070413961617,
          6.844656738094737,
          -1.2283557709515367,
          2.305223339446651,
          1.6218694104300584,
          -0.6245624287871968,
          1.1915327067333739,
          -0.07228652157533927,
          -4.528041784783427,
          -2.867828120182693,
          -4.955691713901899,
          -1.2042277661373064,
          4.7091964845170535,
          -0.41213683185610317,
          2.6850432054288946,
          0.7964359175222342,
          1.9807380868233788,
          4.187690984505559,
          2.031946438306124,
          -4.181604583655775,
          2.5673483497509615,
          1.3458029593058463,
          1.2013764155266937,
          0.113922918801968,
          1.6540962125019825,
          -2.310996145916679,
          -3.563975890904198,
          -5.091185179104164,
          -5.957019353709158,
          1.044977385519754,
          4.357584500048298,
          3.081827808110126,
          0.11037621358707762,
          0.8529308298368811,
          -0.09770407032622214,
          3.010099108081376,
          3.3229692956730617,
          1.4732002031788394,
          -3.448899508307491,
          -5.584337354446169,
          -4.196082373516704,
          1.7309576656707903,
          -1.2925993004025882,
          1.5844784066742486,
          0.12035526470011947,
          0.5723825161434076,
          -1.739430612117913,
          0.5151970161660211,
          0.5899967820315084,
          -0.508895331436336,
          -1.1637278177241852,
          -1.1022428687920847,
          -0.44213013127600187,
          -0.5251551714248716,
          0.06890518891821215,
          -1.5164440462476296,
          1.1814924081555007,
          -2.398132950864235,
          0.41011202196743013
         ],
         "y": [
          4.5898138788088385,
          4.635819906455187,
          -2.1972532260812123,
          1.3835669947727998,
          3.8921154804754368,
          -2.0300995560005277,
          -0.4667493504741529,
          0.9804802441875129,
          1.3906321315786434,
          -1.3034202922822677,
          -0.8677373317488746,
          0.8804134508541658,
          0.8800101356653082,
          0.8352012073102779,
          3.328455726317524,
          -0.18107763392158546,
          1.868038308724386,
          -2.9724314978847173,
          3.9726286915068143,
          0.4478957591833341,
          0.01275221174120545,
          0.05221244034194896,
          0.5893208268448503,
          2.994912363665971,
          -0.8915622275063416,
          -1.4886201381538273,
          -0.2296228128895101,
          -0.8828569511727123,
          -1.5323771953438625,
          -0.19143846363159703,
          -2.8061047584076264,
          3.3029619216389023,
          0.40427413872822676,
          -1.4116020555252364,
          -0.8063859835865879,
          2.3701902135689847,
          -2.1594354163715965,
          4.261052990148189,
          -0.7877462657620847,
          2.871214747868504,
          -2.110598882416399,
          0.6200741198177364,
          -2.050394367026249,
          -1.0902023809649284,
          1.6369978426596332,
          -0.9771002369828333,
          -2.042972569604552,
          0.8074845918252099,
          1.669419516160792,
          -2.410032309491374,
          -1.7354834369235494,
          -1.2040587567260939,
          -0.5687671736915495,
          0.16274777324484255,
          -1.028734032533312,
          -1.82827683354242,
          -1.5394123075907329,
          -0.02085320333532436,
          1.2490908753294698,
          -3.1192414261995287,
          -0.32382967732125006,
          -0.2774472300370147,
          3.973948159680643,
          1.256255206150278,
          -0.07297903349968123,
          2.0147343588440445,
          -0.8293776841931418,
          -2.4044066231913392,
          2.9589871027931567,
          -0.7742298499054765,
          0.07026544584463143,
          -1.2999090415802559,
          -0.9095123088864691,
          1.664936780027993,
          -1.3633441121493064,
          -1.8995621442404003,
          2.907921334050982,
          -2.400862173542962,
          1.4678053543856877,
          1.1281364774145166,
          -2.5402730815726358,
          1.3408006071897243,
          -1.1280391470433124,
          -0.9124184160077898,
          -1.4394028442543367,
          -1.7093129042475195,
          -2.058877630167807,
          2.079904141891716,
          1.331570341133623,
          0.5656421513017078,
          -1.1628636094581148,
          0.2465246919893017,
          -0.16206063454720743,
          -1.0968020608774838,
          3.006338604413796,
          0.5283262316819142,
          -0.8403006828189733,
          -1.42404203845039,
          -0.9371235225863079,
          2.122851809937673,
          2.5609764527451713,
          0.13605751134367647,
          2.715639915123902,
          -0.8596938727623531,
          2.256099932239893,
          -0.09101316246522377,
          -0.6907685342162376,
          0.6909408539947086,
          -1.7935293881765493,
          -2.5685182977626986,
          -0.24773942820199674,
          -0.15729051138110214,
          -0.517613996105201,
          -2.4533987878547316,
          -2.461425328971978,
          -0.286663812279833,
          -0.8613338668224597,
          -0.8480002485906389,
          -1.8717780749721273,
          0.241433985432522,
          -2.8290243864566356,
          2.4615128656368026,
          1.9900647108103948,
          -2.370036294111038
         ],
         "z": [
          1.58379852530607,
          -0.04850733262782907,
          -0.48779068435103085,
          -1.4930563495622495,
          -0.11477056441484362,
          -1.5584091093976344,
          -1.1855944644939242,
          1.2067829482885006,
          -1.4497599915042159,
          -0.5109503552578706,
          -0.8245535527928628,
          1.9627355714808752,
          -0.1417188612702813,
          -1.5730107134111955,
          1.650798198543479,
          -0.5074200037616019,
          -3.21008452889983,
          -0.3906774763371941,
          0.6319355054577283,
          1.202069209897506,
          1.2050069180137344,
          -2.050963917288041,
          -2.0287817752176154,
          -1.5057733839037688,
          0.6630079758093446,
          0.5985407716875488,
          0.06386796866791232,
          1.2479021219951594,
          -1.107481714740051,
          1.9066341023347164,
          -0.9208870542629706,
          0.3091034707667275,
          -0.36244636914097816,
          0.8976452576544737,
          0.013226441439287386,
          -1.5301867252378527,
          -1.4071542864089293,
          -1.246323280670206,
          -0.7932947788096052,
          -2.3642365767807183,
          0.8258501010149005,
          3.358959229579556,
          -1.2589255186370836,
          -1.3607997517405945,
          2.1237943095812795,
          -1.0535861016715193,
          0.29190800995083344,
          -0.06551174639016369,
          2.4724970582255925,
          -0.40849016312570685,
          -2.3886432889611426,
          -1.6854381902302626,
          -0.15991990669408584,
          3.4222488021715414,
          -1.6449759063007399,
          -1.1137629774919482,
          1.6339689426186366,
          0.19612495988209452,
          -0.42817327076937034,
          3.627112757283102,
          -1.6309534342719905,
          -2.294343032613545,
          -0.8092091551330948,
          1.1791835552407297,
          -0.026466158029385248,
          1.8772856823680626,
          3.9351135339461694,
          0.6390506035748411,
          -2.904333975464484,
          1.4601287732937112,
          1.8449731785429082,
          -1.4235003678046605,
          -1.7106736306064192,
          6.5051517741340845,
          -1.4125426592197556,
          -1.1398873105631175,
          -1.5164279181274785,
          -0.8926819779763867,
          -1.9061444201976891,
          -3.633027446497292,
          -1.1478680085806832,
          2.0277377149795774,
          -1.3536370153681765,
          0.948407227806491,
          0.07231929367604542,
          -2.5035092287671588,
          -0.6557234266648425,
          0.6737979377967039,
          -2.0102530611193257,
          -1.0388554567230721,
          0.866322411489715,
          -3.6342173298060088,
          -1.4291424505266557,
          0.7955208333243651,
          0.48715610002892773,
          3.638921197549877,
          -2.0030318263724745,
          -0.6130509431726224,
          -0.6714043167344292,
          -1.5682845411267168,
          0.17381302108866234,
          1.6097629535476117,
          1.22694795121515,
          3.656851935127466,
          -1.667840385987886,
          0.7019126020764144,
          0.6685606406125331,
          -0.35453740655974086,
          1.3716138731180856,
          0.16146634042910646,
          1.5308356492943287,
          -0.39134051708716594,
          1.8353248324719706,
          0.3648253469362689,
          0.7400688503838425,
          -2.1503092157995933,
          -0.8213395091374944,
          1.3550410068582388,
          -0.21077422472141316,
          0.46078090218079526,
          4.051099168803698,
          3.5669903640129252,
          0.6832930050480954,
          1.7015936047086715
         ]
        }
       ],
       "layout": {
        "coloraxis": {
         "colorbar": {
          "title": {
           "text": "Sensor ID"
          }
         },
         "colorscale": [
          [
           0,
           "#0d0887"
          ],
          [
           0.1111111111111111,
           "#46039f"
          ],
          [
           0.2222222222222222,
           "#7201a8"
          ],
          [
           0.3333333333333333,
           "#9c179e"
          ],
          [
           0.4444444444444444,
           "#bd3786"
          ],
          [
           0.5555555555555556,
           "#d8576b"
          ],
          [
           0.6666666666666666,
           "#ed7953"
          ],
          [
           0.7777777777777778,
           "#fb9f3a"
          ],
          [
           0.8888888888888888,
           "#fdca26"
          ],
          [
           1,
           "#f0f921"
          ]
         ]
        },
        "legend": {
         "tracegroupgap": 0
        },
        "scene": {
         "domain": {
          "x": [
           0,
           1
          ],
          "y": [
           0,
           1
          ]
         },
         "xaxis": {
          "title": {
           "text": "PC1"
          }
         },
         "yaxis": {
          "title": {
           "text": "PC2"
          }
         },
         "zaxis": {
          "title": {
           "text": "PC3"
          }
         }
        },
        "template": {
         "data": {
          "bar": [
           {
            "error_x": {
             "color": "#2a3f5f"
            },
            "error_y": {
             "color": "#2a3f5f"
            },
            "marker": {
             "line": {
              "color": "#E5ECF6",
              "width": 0.5
             },
             "pattern": {
              "fillmode": "overlay",
              "size": 10,
              "solidity": 0.2
             }
            },
            "type": "bar"
           }
          ],
          "barpolar": [
           {
            "marker": {
             "line": {
              "color": "#E5ECF6",
              "width": 0.5
             },
             "pattern": {
              "fillmode": "overlay",
              "size": 10,
              "solidity": 0.2
             }
            },
            "type": "barpolar"
           }
          ],
          "carpet": [
           {
            "aaxis": {
             "endlinecolor": "#2a3f5f",
             "gridcolor": "white",
             "linecolor": "white",
             "minorgridcolor": "white",
             "startlinecolor": "#2a3f5f"
            },
            "baxis": {
             "endlinecolor": "#2a3f5f",
             "gridcolor": "white",
             "linecolor": "white",
             "minorgridcolor": "white",
             "startlinecolor": "#2a3f5f"
            },
            "type": "carpet"
           }
          ],
          "choropleth": [
           {
            "colorbar": {
             "outlinewidth": 0,
             "ticks": ""
            },
            "type": "choropleth"
           }
          ],
          "contour": [
           {
            "colorbar": {
             "outlinewidth": 0,
             "ticks": ""
            },
            "colorscale": [
             [
              0,
              "#0d0887"
             ],
             [
              0.1111111111111111,
              "#46039f"
             ],
             [
              0.2222222222222222,
              "#7201a8"
             ],
             [
              0.3333333333333333,
              "#9c179e"
             ],
             [
              0.4444444444444444,
              "#bd3786"
             ],
             [
              0.5555555555555556,
              "#d8576b"
             ],
             [
              0.6666666666666666,
              "#ed7953"
             ],
             [
              0.7777777777777778,
              "#fb9f3a"
             ],
             [
              0.8888888888888888,
              "#fdca26"
             ],
             [
              1,
              "#f0f921"
             ]
            ],
            "type": "contour"
           }
          ],
          "contourcarpet": [
           {
            "colorbar": {
             "outlinewidth": 0,
             "ticks": ""
            },
            "type": "contourcarpet"
           }
          ],
          "heatmap": [
           {
            "colorbar": {
             "outlinewidth": 0,
             "ticks": ""
            },
            "colorscale": [
             [
              0,
              "#0d0887"
             ],
             [
              0.1111111111111111,
              "#46039f"
             ],
             [
              0.2222222222222222,
              "#7201a8"
             ],
             [
              0.3333333333333333,
              "#9c179e"
             ],
             [
              0.4444444444444444,
              "#bd3786"
             ],
             [
              0.5555555555555556,
              "#d8576b"
             ],
             [
              0.6666666666666666,
              "#ed7953"
             ],
             [
              0.7777777777777778,
              "#fb9f3a"
             ],
             [
              0.8888888888888888,
              "#fdca26"
             ],
             [
              1,
              "#f0f921"
             ]
            ],
            "type": "heatmap"
           }
          ],
          "heatmapgl": [
           {
            "colorbar": {
             "outlinewidth": 0,
             "ticks": ""
            },
            "colorscale": [
             [
              0,
              "#0d0887"
             ],
             [
              0.1111111111111111,
              "#46039f"
             ],
             [
              0.2222222222222222,
              "#7201a8"
             ],
             [
              0.3333333333333333,
              "#9c179e"
             ],
             [
              0.4444444444444444,
              "#bd3786"
             ],
             [
              0.5555555555555556,
              "#d8576b"
             ],
             [
              0.6666666666666666,
              "#ed7953"
             ],
             [
              0.7777777777777778,
              "#fb9f3a"
             ],
             [
              0.8888888888888888,
              "#fdca26"
             ],
             [
              1,
              "#f0f921"
             ]
            ],
            "type": "heatmapgl"
           }
          ],
          "histogram": [
           {
            "marker": {
             "pattern": {
              "fillmode": "overlay",
              "size": 10,
              "solidity": 0.2
             }
            },
            "type": "histogram"
           }
          ],
          "histogram2d": [
           {
            "colorbar": {
             "outlinewidth": 0,
             "ticks": ""
            },
            "colorscale": [
             [
              0,
              "#0d0887"
             ],
             [
              0.1111111111111111,
              "#46039f"
             ],
             [
              0.2222222222222222,
              "#7201a8"
             ],
             [
              0.3333333333333333,
              "#9c179e"
             ],
             [
              0.4444444444444444,
              "#bd3786"
             ],
             [
              0.5555555555555556,
              "#d8576b"
             ],
             [
              0.6666666666666666,
              "#ed7953"
             ],
             [
              0.7777777777777778,
              "#fb9f3a"
             ],
             [
              0.8888888888888888,
              "#fdca26"
             ],
             [
              1,
              "#f0f921"
             ]
            ],
            "type": "histogram2d"
           }
          ],
          "histogram2dcontour": [
           {
            "colorbar": {
             "outlinewidth": 0,
             "ticks": ""
            },
            "colorscale": [
             [
              0,
              "#0d0887"
             ],
             [
              0.1111111111111111,
              "#46039f"
             ],
             [
              0.2222222222222222,
              "#7201a8"
             ],
             [
              0.3333333333333333,
              "#9c179e"
             ],
             [
              0.4444444444444444,
              "#bd3786"
             ],
             [
              0.5555555555555556,
              "#d8576b"
             ],
             [
              0.6666666666666666,
              "#ed7953"
             ],
             [
              0.7777777777777778,
              "#fb9f3a"
             ],
             [
              0.8888888888888888,
              "#fdca26"
             ],
             [
              1,
              "#f0f921"
             ]
            ],
            "type": "histogram2dcontour"
           }
          ],
          "mesh3d": [
           {
            "colorbar": {
             "outlinewidth": 0,
             "ticks": ""
            },
            "type": "mesh3d"
           }
          ],
          "parcoords": [
           {
            "line": {
             "colorbar": {
              "outlinewidth": 0,
              "ticks": ""
             }
            },
            "type": "parcoords"
           }
          ],
          "pie": [
           {
            "automargin": true,
            "type": "pie"
           }
          ],
          "scatter": [
           {
            "fillpattern": {
             "fillmode": "overlay",
             "size": 10,
             "solidity": 0.2
            },
            "type": "scatter"
           }
          ],
          "scatter3d": [
           {
            "line": {
             "colorbar": {
              "outlinewidth": 0,
              "ticks": ""
             }
            },
            "marker": {
             "colorbar": {
              "outlinewidth": 0,
              "ticks": ""
             }
            },
            "type": "scatter3d"
           }
          ],
          "scattercarpet": [
           {
            "marker": {
             "colorbar": {
              "outlinewidth": 0,
              "ticks": ""
             }
            },
            "type": "scattercarpet"
           }
          ],
          "scattergeo": [
           {
            "marker": {
             "colorbar": {
              "outlinewidth": 0,
              "ticks": ""
             }
            },
            "type": "scattergeo"
           }
          ],
          "scattergl": [
           {
            "marker": {
             "colorbar": {
              "outlinewidth": 0,
              "ticks": ""
             }
            },
            "type": "scattergl"
           }
          ],
          "scattermapbox": [
           {
            "marker": {
             "colorbar": {
              "outlinewidth": 0,
              "ticks": ""
             }
            },
            "type": "scattermapbox"
           }
          ],
          "scatterpolar": [
           {
            "marker": {
             "colorbar": {
              "outlinewidth": 0,
              "ticks": ""
             }
            },
            "type": "scatterpolar"
           }
          ],
          "scatterpolargl": [
           {
            "marker": {
             "colorbar": {
              "outlinewidth": 0,
              "ticks": ""
             }
            },
            "type": "scatterpolargl"
           }
          ],
          "scatterternary": [
           {
            "marker": {
             "colorbar": {
              "outlinewidth": 0,
              "ticks": ""
             }
            },
            "type": "scatterternary"
           }
          ],
          "surface": [
           {
            "colorbar": {
             "outlinewidth": 0,
             "ticks": ""
            },
            "colorscale": [
             [
              0,
              "#0d0887"
             ],
             [
              0.1111111111111111,
              "#46039f"
             ],
             [
              0.2222222222222222,
              "#7201a8"
             ],
             [
              0.3333333333333333,
              "#9c179e"
             ],
             [
              0.4444444444444444,
              "#bd3786"
             ],
             [
              0.5555555555555556,
              "#d8576b"
             ],
             [
              0.6666666666666666,
              "#ed7953"
             ],
             [
              0.7777777777777778,
              "#fb9f3a"
             ],
             [
              0.8888888888888888,
              "#fdca26"
             ],
             [
              1,
              "#f0f921"
             ]
            ],
            "type": "surface"
           }
          ],
          "table": [
           {
            "cells": {
             "fill": {
              "color": "#EBF0F8"
             },
             "line": {
              "color": "white"
             }
            },
            "header": {
             "fill": {
              "color": "#C8D4E3"
             },
             "line": {
              "color": "white"
             }
            },
            "type": "table"
           }
          ]
         },
         "layout": {
          "annotationdefaults": {
           "arrowcolor": "#2a3f5f",
           "arrowhead": 0,
           "arrowwidth": 1
          },
          "autotypenumbers": "strict",
          "coloraxis": {
           "colorbar": {
            "outlinewidth": 0,
            "ticks": ""
           }
          },
          "colorscale": {
           "diverging": [
            [
             0,
             "#8e0152"
            ],
            [
             0.1,
             "#c51b7d"
            ],
            [
             0.2,
             "#de77ae"
            ],
            [
             0.3,
             "#f1b6da"
            ],
            [
             0.4,
             "#fde0ef"
            ],
            [
             0.5,
             "#f7f7f7"
            ],
            [
             0.6,
             "#e6f5d0"
            ],
            [
             0.7,
             "#b8e186"
            ],
            [
             0.8,
             "#7fbc41"
            ],
            [
             0.9,
             "#4d9221"
            ],
            [
             1,
             "#276419"
            ]
           ],
           "sequential": [
            [
             0,
             "#0d0887"
            ],
            [
             0.1111111111111111,
             "#46039f"
            ],
            [
             0.2222222222222222,
             "#7201a8"
            ],
            [
             0.3333333333333333,
             "#9c179e"
            ],
            [
             0.4444444444444444,
             "#bd3786"
            ],
            [
             0.5555555555555556,
             "#d8576b"
            ],
            [
             0.6666666666666666,
             "#ed7953"
            ],
            [
             0.7777777777777778,
             "#fb9f3a"
            ],
            [
             0.8888888888888888,
             "#fdca26"
            ],
            [
             1,
             "#f0f921"
            ]
           ],
           "sequentialminus": [
            [
             0,
             "#0d0887"
            ],
            [
             0.1111111111111111,
             "#46039f"
            ],
            [
             0.2222222222222222,
             "#7201a8"
            ],
            [
             0.3333333333333333,
             "#9c179e"
            ],
            [
             0.4444444444444444,
             "#bd3786"
            ],
            [
             0.5555555555555556,
             "#d8576b"
            ],
            [
             0.6666666666666666,
             "#ed7953"
            ],
            [
             0.7777777777777778,
             "#fb9f3a"
            ],
            [
             0.8888888888888888,
             "#fdca26"
            ],
            [
             1,
             "#f0f921"
            ]
           ]
          },
          "colorway": [
           "#636efa",
           "#EF553B",
           "#00cc96",
           "#ab63fa",
           "#FFA15A",
           "#19d3f3",
           "#FF6692",
           "#B6E880",
           "#FF97FF",
           "#FECB52"
          ],
          "font": {
           "color": "#2a3f5f"
          },
          "geo": {
           "bgcolor": "white",
           "lakecolor": "white",
           "landcolor": "#E5ECF6",
           "showlakes": true,
           "showland": true,
           "subunitcolor": "white"
          },
          "hoverlabel": {
           "align": "left"
          },
          "hovermode": "closest",
          "mapbox": {
           "style": "light"
          },
          "paper_bgcolor": "white",
          "plot_bgcolor": "#E5ECF6",
          "polar": {
           "angularaxis": {
            "gridcolor": "white",
            "linecolor": "white",
            "ticks": ""
           },
           "bgcolor": "#E5ECF6",
           "radialaxis": {
            "gridcolor": "white",
            "linecolor": "white",
            "ticks": ""
           }
          },
          "scene": {
           "xaxis": {
            "backgroundcolor": "#E5ECF6",
            "gridcolor": "white",
            "gridwidth": 2,
            "linecolor": "white",
            "showbackground": true,
            "ticks": "",
            "zerolinecolor": "white"
           },
           "yaxis": {
            "backgroundcolor": "#E5ECF6",
            "gridcolor": "white",
            "gridwidth": 2,
            "linecolor": "white",
            "showbackground": true,
            "ticks": "",
            "zerolinecolor": "white"
           },
           "zaxis": {
            "backgroundcolor": "#E5ECF6",
            "gridcolor": "white",
            "gridwidth": 2,
            "linecolor": "white",
            "showbackground": true,
            "ticks": "",
            "zerolinecolor": "white"
           }
          },
          "shapedefaults": {
           "line": {
            "color": "#2a3f5f"
           }
          },
          "ternary": {
           "aaxis": {
            "gridcolor": "white",
            "linecolor": "white",
            "ticks": ""
           },
           "baxis": {
            "gridcolor": "white",
            "linecolor": "white",
            "ticks": ""
           },
           "bgcolor": "#E5ECF6",
           "caxis": {
            "gridcolor": "white",
            "linecolor": "white",
            "ticks": ""
           }
          },
          "title": {
           "x": 0.05
          },
          "xaxis": {
           "automargin": true,
           "gridcolor": "white",
           "linecolor": "white",
           "ticks": "",
           "title": {
            "standoff": 15
           },
           "zerolinecolor": "white",
           "zerolinewidth": 2
          },
          "yaxis": {
           "automargin": true,
           "gridcolor": "white",
           "linecolor": "white",
           "ticks": "",
           "title": {
            "standoff": 15
           },
           "zerolinecolor": "white",
           "zerolinewidth": 2
          }
         }
        },
        "title": {
         "text": "3D PCA Visualization"
        }
       }
      }
     },
     "metadata": {},
     "output_type": "display_data"
    },
    {
     "name": "stdout",
     "output_type": "stream",
     "text": [
      "Evaluation Results:\n",
      "Explained Variance Ratio: [0.1182212  0.06705702 0.05965386 0.05246593 0.04292027 0.03981153\n",
      " 0.0395223  0.03350415 0.03188582 0.02999829]\n",
      "Cumulative Explained Variance: [0.1182212  0.18527822 0.24493208 0.29739801 0.34031828 0.38012981\n",
      " 0.41965211 0.45315626 0.48504208 0.51504037]\n",
      "Reconstruction Error: 0.4849596305568301\n",
      "Silhouette Score: 0.12085121887827716\n"
     ]
    },
    {
     "name": "stderr",
     "output_type": "stream",
     "text": [
      "/Users/jihoonchung/anaconda3/envs/datascience/lib/python3.10/site-packages/sklearn/cluster/_kmeans.py:1412: FutureWarning:\n",
      "\n",
      "The default value of `n_init` will change from 10 to 'auto' in 1.4. Set the value of `n_init` explicitly to suppress the warning\n",
      "\n"
     ]
    }
   ],
   "source": [
    "results = evaluate_pca(df_mi_50, n_components=10, color_column='Sensor ID', n_clusters=3, n_components_to_use=5)\n",
    "\n",
    "print(\"Evaluation Results:\")\n",
    "print(f\"Explained Variance Ratio: {results['explained_variance_ratio']}\")\n",
    "print(f\"Cumulative Explained Variance: {results['cumulative_explained_variance']}\")\n",
    "print(f\"Reconstruction Error: {results['reconstruction_error']}\")\n",
    "print(f\"Silhouette Score: {results['silhouette_score']}\")"
   ]
  },
  {
   "cell_type": "markdown",
   "metadata": {},
   "source": [
    "### 5. MI-lazy Correlation with top 10 features"
   ]
  },
  {
   "cell_type": "code",
   "execution_count": 349,
   "metadata": {},
   "outputs": [
    {
     "data": {
      "image/png": "[encoded data removed]",
      "text/plain": [
       "<Figure size 1000x600 with 1 Axes>"
      ]
     },
     "metadata": {},
     "output_type": "display_data"
    },
    {
     "data": {
      "application/vnd.plotly.v1+json": {
       "config": {
        "plotlyServerURL": "https://plot.ly"
       },
       "data": [
        {
         "hovertemplate": "PC1=%{x}<br>PC2=%{y}<br>Sensor ID=%{marker.color}<extra></extra>",
         "legendgroup": "",
         "marker": {
          "color": [
           1,
           2,
           3,
           4,
           5,
           6,
           7,
           8,
           9,
           10,
           11,
           12,
           13,
           14,
           15,
           16,
           17,
           18,
           19,
           20,
           21,
           22,
           23,
           24,
           25,
           26,
           27,
           28,
           29,
           30,
           32,
           33,
           34,
           35,
           36,
           37,
           38,
           39,
           40,
           41,
           42,
           43,
           44,
           45,
           46,
           47,
           48,
           49,
           50,
           51,
           52,
           53,
           54,
           55,
           56,
           57,
           58,
           59,
           60,
           61,
           62,
           63,
           64,
           65,
           66,
           67,
           68,
           69,
           70,
           71,
           72,
           73,
           74,
           75,
           76,
           77,
           78,
           79,
           80,
           81,
           82,
           83,
           84,
           85,
           86,
           87,
           88,
           89,
           90,
           91,
           92,
           93,
           94,
           95,
           96,
           97,
           98,
           99,
           100,
           101,
           102,
           103,
           104,
           105,
           106,
           107,
           108,
           109,
           110,
           111,
           112,
           113,
           114,
           115,
           116,
           117,
           118,
           119,
           120,
           121,
           122,
           123,
           124,
           125
          ],
          "coloraxis": "coloraxis",
          "symbol": "circle"
         },
         "mode": "markers",
         "name": "",
         "orientation": "v",
         "showlegend": false,
         "type": "scatter",
         "x": [
          -2.247068087607331,
          2.3561605822353386,
          0.6418525726140916,
          -0.1362599501056234,
          -0.2376818130733832,
          2.1314900235428147,
          -0.11622419941304384,
          -0.8877475181906974,
          -2.956095993438469,
          -1.7618669776259483,
          -0.9932703515762776,
          -0.5166147231817996,
          0.05512729698334683,
          0.16377774108457285,
          -0.39394330412933876,
          -1.3592733683683624,
          0.2370245590496795,
          0.19878242894940676,
          -0.053493373310191585,
          5.473495627303821,
          1.0791864206053057,
          -2.4211992262301996,
          -1.1651601485108283,
          0.0970162635763526,
          -1.4304443333423646,
          -1.262801646595773,
          -0.2535170127678849,
          -0.5179169866914407,
          -1.1592094243236777,
          -0.33285741355884996,
          -0.6073448568728297,
          -0.3270165811568335,
          2.4860828133689186,
          -1.9407492127910746,
          -0.47931303417065046,
          0.8599387352885363,
          -0.9504865713887516,
          -3.0929951826201285,
          -0.01954302030839512,
          0.2340044873814364,
          1.1377534017355164,
          0.2620266247245078,
          1.0151649077157359,
          -0.5723889635546077,
          0.4889498829502839,
          1.9869800028265232,
          0.2467629697469373,
          0.30581284077759,
          0.5769848427842174,
          -0.24269358962568538,
          -0.9131857276395469,
          -1.2870996009534128,
          -0.4937179268833057,
          2.421237395284311,
          0.5365662661872747,
          -0.13747487224315386,
          2.1455611745630843,
          0.4664708656846705,
          -0.2963090080357713,
          3.633936508948093,
          -1.0280037399637532,
          -1.0203060393595462,
          2.501132461584587,
          -1.6681151127086793,
          -0.6778023126736471,
          -0.6752858586713049,
          -3.3109850706830524,
          0.4082691558674062,
          -1.2691980659433864,
          -1.0723239100890192,
          0.2472310358443243,
          -1.0687097828812124,
          0.1126865881661952,
          9.672907377178685,
          2.362705091692809,
          2.136814244841406,
          0.22305206128512367,
          -2.659987933315274,
          -0.6454532598033164,
          -1.9166505747315867,
          -0.5670834597239782,
          -0.7653290828230173,
          -1.8831048277854976,
          -1.4201490337164946,
          2.144409091054532,
          -1.696149542657722,
          -0.6651511494516812,
          -0.7520525407315118,
          -0.5034978881163148,
          -1.1342560762154104,
          3.360246499333431,
          1.7145058271312288,
          2.290729792489871,
          2.4203687125223725,
          -0.537919478659888,
          -2.5065306450487843,
          -2.873933545966663,
          -0.12900232188090566,
          -0.4460076529686361,
          -0.3260463952338843,
          -1.9042952133100064,
          -2.0593568449940407,
          -0.6525746795660535,
          2.1921984114776034,
          2.6872371890975986,
          2.040744784421779,
          -0.7338817717141791,
          0.417022560767397,
          -0.796298749094029,
          -0.12834387095476724,
          -0.27830627702808397,
          0.3380356736356627,
          -0.2763870027708997,
          -0.14310858010351718,
          -0.10948688634103139,
          0.054087759567751324,
          0.2602523656163343,
          0.0061574704794719395,
          0.05370871594692952,
          -0.3033681547830335,
          1.4876617001887644,
          -0.22172389529883524,
          2.0680283013501146,
          -0.04920887940546517
         ],
         "xaxis": "x",
         "y": [
          -0.7146634958364463,
          2.3112086739219584,
          0.9491597506764385,
          0.7098934193046375,
          1.3677694373482658,
          5.188250283536416,
          0.7251385488215558,
          0.4837156938637854,
          -0.5431571688679186,
          -0.026681192542496887,
          0.5151201932035658,
          0.29197909159291024,
          0.8591228942489217,
          0.6156042783082919,
          0.4029433426806222,
          -0.044465353705257206,
          0.5911238940377176,
          0.6703598567239083,
          0.5076082237386192,
          -1.1474291312164875,
          -1.0443318206289967,
          -1.1970940660831981,
          0.23776324647589495,
          0.6599409662134468,
          -0.06097480817705893,
          -0.049796112089970666,
          -0.5842273589720808,
          0.12856544522174315,
          0.14712502584363715,
          0.376129591609909,
          -0.3845896870925039,
          0.0034800563926200277,
          1.4273492867848618,
          -1.6609712077280572,
          1.4443564763902208,
          2.3186607940473323,
          2.6455653243680644,
          -1.58046019380812,
          0.45248668615988663,
          0.6967014584055892,
          2.8995041610825125,
          0.692999562005189,
          0.9114102482716002,
          0.29804569135197995,
          0.7006693047534691,
          0.8642551495575134,
          0.34971582290938685,
          0.5984106843869528,
          0.6020897909675723,
          0.009834206872635717,
          -0.41462986817533093,
          -0.1807049518716524,
          0.28043527431001336,
          -3.443453881501534,
          0.4610536274399826,
          0.33312575160229213,
          3.440111574366038,
          0.4026144175339244,
          0.31935702230606183,
          -3.081272355000665,
          -0.17973948327271827,
          -0.9837288025089297,
          -1.3295668532672356,
          -0.29151932889356896,
          -0.022810718583459774,
          0.07412823043683262,
          -0.987231156571771,
          -0.048561407959471226,
          -0.7349591017486338,
          -0.14428321486997508,
          0.36513699944729816,
          -0.3186912377518403,
          0.4728354364524608,
          -4.479284593828446,
          -2.5802158244940774,
          0.009408963110116927,
          -0.8909622134776651,
          -0.8298521721682327,
          -0.12579187875753936,
          -1.2456628154811347,
          0.22657218621583758,
          -0.36472199278499345,
          -0.1965813080335287,
          -0.45514910588060353,
          0.7398150562687574,
          -0.6356635513042457,
          0.3630312550329466,
          -0.25157666388106553,
          0.027582858401943165,
          -0.5018027709310432,
          1.2646984543135673,
          0.13034978524310833,
          0.882135745480499,
          0.8731439609332328,
          -0.049215862218887255,
          -1.365819277266196,
          -2.203930124552141,
          -0.18781652840837912,
          -0.16027568819459723,
          0.04157382569452375,
          -0.7790456497515448,
          -0.8606822886414635,
          -0.368252914725285,
          -1.3019418516681833,
          0.6153766362352052,
          0.36512171771051094,
          -0.16513220578129692,
          0.04468351366359664,
          -0.3172651522311881,
          -0.005745384558585565,
          -0.2509495103921133,
          -0.13405094217153354,
          -0.20344274132929635,
          -0.1541325336638642,
          -0.12511948754392127,
          -0.1330585711631985,
          0.053928546038283974,
          -0.11162886158330153,
          -0.10300494972439891,
          -0.25644990345500157,
          -1.7562928794680042,
          -0.368542812543024,
          -1.33248972018477,
          0.011267290651466373
         ],
         "yaxis": "y"
        }
       ],
       "layout": {
        "coloraxis": {
         "colorbar": {
          "title": {
           "text": "Sensor ID"
          }
         },
         "colorscale": [
          [
           0,
           "#0d0887"
          ],
          [
           0.1111111111111111,
           "#46039f"
          ],
          [
           0.2222222222222222,
           "#7201a8"
          ],
          [
           0.3333333333333333,
           "#9c179e"
          ],
          [
           0.4444444444444444,
           "#bd3786"
          ],
          [
           0.5555555555555556,
           "#d8576b"
          ],
          [
           0.6666666666666666,
           "#ed7953"
          ],
          [
           0.7777777777777778,
           "#fb9f3a"
          ],
          [
           0.8888888888888888,
           "#fdca26"
          ],
          [
           1,
           "#f0f921"
          ]
         ]
        },
        "legend": {
         "tracegroupgap": 0
        },
        "template": {
         "data": {
          "bar": [
           {
            "error_x": {
             "color": "#2a3f5f"
            },
            "error_y": {
             "color": "#2a3f5f"
            },
            "marker": {
             "line": {
              "color": "#E5ECF6",
              "width": 0.5
             },
             "pattern": {
              "fillmode": "overlay",
              "size": 10,
              "solidity": 0.2
             }
            },
            "type": "bar"
           }
          ],
          "barpolar": [
           {
            "marker": {
             "line": {
              "color": "#E5ECF6",
              "width": 0.5
             },
             "pattern": {
              "fillmode": "overlay",
              "size": 10,
              "solidity": 0.2
             }
            },
            "type": "barpolar"
           }
          ],
          "carpet": [
           {
            "aaxis": {
             "endlinecolor": "#2a3f5f",
             "gridcolor": "white",
             "linecolor": "white",
             "minorgridcolor": "white",
             "startlinecolor": "#2a3f5f"
            },
            "baxis": {
             "endlinecolor": "#2a3f5f",
             "gridcolor": "white",
             "linecolor": "white",
             "minorgridcolor": "white",
             "startlinecolor": "#2a3f5f"
            },
            "type": "carpet"
           }
          ],
          "choropleth": [
           {
            "colorbar": {
             "outlinewidth": 0,
             "ticks": ""
            },
            "type": "choropleth"
           }
          ],
          "contour": [
           {
            "colorbar": {
             "outlinewidth": 0,
             "ticks": ""
            },
            "colorscale": [
             [
              0,
              "#0d0887"
             ],
             [
              0.1111111111111111,
              "#46039f"
             ],
             [
              0.2222222222222222,
              "#7201a8"
             ],
             [
              0.3333333333333333,
              "#9c179e"
             ],
             [
              0.4444444444444444,
              "#bd3786"
             ],
             [
              0.5555555555555556,
              "#d8576b"
             ],
             [
              0.6666666666666666,
              "#ed7953"
             ],
             [
              0.7777777777777778,
              "#fb9f3a"
             ],
             [
              0.8888888888888888,
              "#fdca26"
             ],
             [
              1,
              "#f0f921"
             ]
            ],
            "type": "contour"
           }
          ],
          "contourcarpet": [
           {
            "colorbar": {
             "outlinewidth": 0,
             "ticks": ""
            },
            "type": "contourcarpet"
           }
          ],
          "heatmap": [
           {
            "colorbar": {
             "outlinewidth": 0,
             "ticks": ""
            },
            "colorscale": [
             [
              0,
              "#0d0887"
             ],
             [
              0.1111111111111111,
              "#46039f"
             ],
             [
              0.2222222222222222,
              "#7201a8"
             ],
             [
              0.3333333333333333,
              "#9c179e"
             ],
             [
              0.4444444444444444,
              "#bd3786"
             ],
             [
              0.5555555555555556,
              "#d8576b"
             ],
             [
              0.6666666666666666,
              "#ed7953"
             ],
             [
              0.7777777777777778,
              "#fb9f3a"
             ],
             [
              0.8888888888888888,
              "#fdca26"
             ],
             [
              1,
              "#f0f921"
             ]
            ],
            "type": "heatmap"
           }
          ],
          "heatmapgl": [
           {
            "colorbar": {
             "outlinewidth": 0,
             "ticks": ""
            },
            "colorscale": [
             [
              0,
              "#0d0887"
             ],
             [
              0.1111111111111111,
              "#46039f"
             ],
             [
              0.2222222222222222,
              "#7201a8"
             ],
             [
              0.3333333333333333,
              "#9c179e"
             ],
             [
              0.4444444444444444,
              "#bd3786"
             ],
             [
              0.5555555555555556,
              "#d8576b"
             ],
             [
              0.6666666666666666,
              "#ed7953"
             ],
             [
              0.7777777777777778,
              "#fb9f3a"
             ],
             [
              0.8888888888888888,
              "#fdca26"
             ],
             [
              1,
              "#f0f921"
             ]
            ],
            "type": "heatmapgl"
           }
          ],
          "histogram": [
           {
            "marker": {
             "pattern": {
              "fillmode": "overlay",
              "size": 10,
              "solidity": 0.2
             }
            },
            "type": "histogram"
           }
          ],
          "histogram2d": [
           {
            "colorbar": {
             "outlinewidth": 0,
             "ticks": ""
            },
            "colorscale": [
             [
              0,
              "#0d0887"
             ],
             [
              0.1111111111111111,
              "#46039f"
             ],
             [
              0.2222222222222222,
              "#7201a8"
             ],
             [
              0.3333333333333333,
              "#9c179e"
             ],
             [
              0.4444444444444444,
              "#bd3786"
             ],
             [
              0.5555555555555556,
              "#d8576b"
             ],
             [
              0.6666666666666666,
              "#ed7953"
             ],
             [
              0.7777777777777778,
              "#fb9f3a"
             ],
             [
              0.8888888888888888,
              "#fdca26"
             ],
             [
              1,
              "#f0f921"
             ]
            ],
            "type": "histogram2d"
           }
          ],
          "histogram2dcontour": [
           {
            "colorbar": {
             "outlinewidth": 0,
             "ticks": ""
            },
            "colorscale": [
             [
              0,
              "#0d0887"
             ],
             [
              0.1111111111111111,
              "#46039f"
             ],
             [
              0.2222222222222222,
              "#7201a8"
             ],
             [
              0.3333333333333333,
              "#9c179e"
             ],
             [
              0.4444444444444444,
              "#bd3786"
             ],
             [
              0.5555555555555556,
              "#d8576b"
             ],
             [
              0.6666666666666666,
              "#ed7953"
             ],
             [
              0.7777777777777778,
              "#fb9f3a"
             ],
             [
              0.8888888888888888,
              "#fdca26"
             ],
             [
              1,
              "#f0f921"
             ]
            ],
            "type": "histogram2dcontour"
           }
          ],
          "mesh3d": [
           {
            "colorbar": {
             "outlinewidth": 0,
             "ticks": ""
            },
            "type": "mesh3d"
           }
          ],
          "parcoords": [
           {
            "line": {
             "colorbar": {
              "outlinewidth": 0,
              "ticks": ""
             }
            },
            "type": "parcoords"
           }
          ],
          "pie": [
           {
            "automargin": true,
            "type": "pie"
           }
          ],
          "scatter": [
           {
            "fillpattern": {
             "fillmode": "overlay",
             "size": 10,
             "solidity": 0.2
            },
            "type": "scatter"
           }
          ],
          "scatter3d": [
           {
            "line": {
             "colorbar": {
              "outlinewidth": 0,
              "ticks": ""
             }
            },
            "marker": {
             "colorbar": {
              "outlinewidth": 0,
              "ticks": ""
             }
            },
            "type": "scatter3d"
           }
          ],
          "scattercarpet": [
           {
            "marker": {
             "colorbar": {
              "outlinewidth": 0,
              "ticks": ""
             }
            },
            "type": "scattercarpet"
           }
          ],
          "scattergeo": [
           {
            "marker": {
             "colorbar": {
              "outlinewidth": 0,
              "ticks": ""
             }
            },
            "type": "scattergeo"
           }
          ],
          "scattergl": [
           {
            "marker": {
             "colorbar": {
              "outlinewidth": 0,
              "ticks": ""
             }
            },
            "type": "scattergl"
           }
          ],
          "scattermapbox": [
           {
            "marker": {
             "colorbar": {
              "outlinewidth": 0,
              "ticks": ""
             }
            },
            "type": "scattermapbox"
           }
          ],
          "scatterpolar": [
           {
            "marker": {
             "colorbar": {
              "outlinewidth": 0,
              "ticks": ""
             }
            },
            "type": "scatterpolar"
           }
          ],
          "scatterpolargl": [
           {
            "marker": {
             "colorbar": {
              "outlinewidth": 0,
              "ticks": ""
             }
            },
            "type": "scatterpolargl"
           }
          ],
          "scatterternary": [
           {
            "marker": {
             "colorbar": {
              "outlinewidth": 0,
              "ticks": ""
             }
            },
            "type": "scatterternary"
           }
          ],
          "surface": [
           {
            "colorbar": {
             "outlinewidth": 0,
             "ticks": ""
            },
            "colorscale": [
             [
              0,
              "#0d0887"
             ],
             [
              0.1111111111111111,
              "#46039f"
             ],
             [
              0.2222222222222222,
              "#7201a8"
             ],
             [
              0.3333333333333333,
              "#9c179e"
             ],
             [
              0.4444444444444444,
              "#bd3786"
             ],
             [
              0.5555555555555556,
              "#d8576b"
             ],
             [
              0.6666666666666666,
              "#ed7953"
             ],
             [
              0.7777777777777778,
              "#fb9f3a"
             ],
             [
              0.8888888888888888,
              "#fdca26"
             ],
             [
              1,
              "#f0f921"
             ]
            ],
            "type": "surface"
           }
          ],
          "table": [
           {
            "cells": {
             "fill": {
              "color": "#EBF0F8"
             },
             "line": {
              "color": "white"
             }
            },
            "header": {
             "fill": {
              "color": "#C8D4E3"
             },
             "line": {
              "color": "white"
             }
            },
            "type": "table"
           }
          ]
         },
         "layout": {
          "annotationdefaults": {
           "arrowcolor": "#2a3f5f",
           "arrowhead": 0,
           "arrowwidth": 1
          },
          "autotypenumbers": "strict",
          "coloraxis": {
           "colorbar": {
            "outlinewidth": 0,
            "ticks": ""
           }
          },
          "colorscale": {
           "diverging": [
            [
             0,
             "#8e0152"
            ],
            [
             0.1,
             "#c51b7d"
            ],
            [
             0.2,
             "#de77ae"
            ],
            [
             0.3,
             "#f1b6da"
            ],
            [
             0.4,
             "#fde0ef"
            ],
            [
             0.5,
             "#f7f7f7"
            ],
            [
             0.6,
             "#e6f5d0"
            ],
            [
             0.7,
             "#b8e186"
            ],
            [
             0.8,
             "#7fbc41"
            ],
            [
             0.9,
             "#4d9221"
            ],
            [
             1,
             "#276419"
            ]
           ],
           "sequential": [
            [
             0,
             "#0d0887"
            ],
            [
             0.1111111111111111,
             "#46039f"
            ],
            [
             0.2222222222222222,
             "#7201a8"
            ],
            [
             0.3333333333333333,
             "#9c179e"
            ],
            [
             0.4444444444444444,
             "#bd3786"
            ],
            [
             0.5555555555555556,
             "#d8576b"
            ],
            [
             0.6666666666666666,
             "#ed7953"
            ],
            [
             0.7777777777777778,
             "#fb9f3a"
            ],
            [
             0.8888888888888888,
             "#fdca26"
            ],
            [
             1,
             "#f0f921"
            ]
           ],
           "sequentialminus": [
            [
             0,
             "#0d0887"
            ],
            [
             0.1111111111111111,
             "#46039f"
            ],
            [
             0.2222222222222222,
             "#7201a8"
            ],
            [
             0.3333333333333333,
             "#9c179e"
            ],
            [
             0.4444444444444444,
             "#bd3786"
            ],
            [
             0.5555555555555556,
             "#d8576b"
            ],
            [
             0.6666666666666666,
             "#ed7953"
            ],
            [
             0.7777777777777778,
             "#fb9f3a"
            ],
            [
             0.8888888888888888,
             "#fdca26"
            ],
            [
             1,
             "#f0f921"
            ]
           ]
          },
          "colorway": [
           "#636efa",
           "#EF553B",
           "#00cc96",
           "#ab63fa",
           "#FFA15A",
           "#19d3f3",
           "#FF6692",
           "#B6E880",
           "#FF97FF",
           "#FECB52"
          ],
          "font": {
           "color": "#2a3f5f"
          },
          "geo": {
           "bgcolor": "white",
           "lakecolor": "white",
           "landcolor": "#E5ECF6",
           "showlakes": true,
           "showland": true,
           "subunitcolor": "white"
          },
          "hoverlabel": {
           "align": "left"
          },
          "hovermode": "closest",
          "mapbox": {
           "style": "light"
          },
          "paper_bgcolor": "white",
          "plot_bgcolor": "#E5ECF6",
          "polar": {
           "angularaxis": {
            "gridcolor": "white",
            "linecolor": "white",
            "ticks": ""
           },
           "bgcolor": "#E5ECF6",
           "radialaxis": {
            "gridcolor": "white",
            "linecolor": "white",
            "ticks": ""
           }
          },
          "scene": {
           "xaxis": {
            "backgroundcolor": "#E5ECF6",
            "gridcolor": "white",
            "gridwidth": 2,
            "linecolor": "white",
            "showbackground": true,
            "ticks": "",
            "zerolinecolor": "white"
           },
           "yaxis": {
            "backgroundcolor": "#E5ECF6",
            "gridcolor": "white",
            "gridwidth": 2,
            "linecolor": "white",
            "showbackground": true,
            "ticks": "",
            "zerolinecolor": "white"
           },
           "zaxis": {
            "backgroundcolor": "#E5ECF6",
            "gridcolor": "white",
            "gridwidth": 2,
            "linecolor": "white",
            "showbackground": true,
            "ticks": "",
            "zerolinecolor": "white"
           }
          },
          "shapedefaults": {
           "line": {
            "color": "#2a3f5f"
           }
          },
          "ternary": {
           "aaxis": {
            "gridcolor": "white",
            "linecolor": "white",
            "ticks": ""
           },
           "baxis": {
            "gridcolor": "white",
            "linecolor": "white",
            "ticks": ""
           },
           "bgcolor": "#E5ECF6",
           "caxis": {
            "gridcolor": "white",
            "linecolor": "white",
            "ticks": ""
           }
          },
          "title": {
           "x": 0.05
          },
          "xaxis": {
           "automargin": true,
           "gridcolor": "white",
           "linecolor": "white",
           "ticks": "",
           "title": {
            "standoff": 15
           },
           "zerolinecolor": "white",
           "zerolinewidth": 2
          },
          "yaxis": {
           "automargin": true,
           "gridcolor": "white",
           "linecolor": "white",
           "ticks": "",
           "title": {
            "standoff": 15
           },
           "zerolinecolor": "white",
           "zerolinewidth": 2
          }
         }
        },
        "title": {
         "text": "2D PCA Visualization"
        },
        "xaxis": {
         "anchor": "y",
         "domain": [
          0,
          1
         ],
         "title": {
          "text": "PC1"
         }
        },
        "yaxis": {
         "anchor": "x",
         "domain": [
          0,
          1
         ],
         "title": {
          "text": "PC2"
         }
        }
       }
      }
     },
     "metadata": {},
     "output_type": "display_data"
    },
    {
     "data": {
      "application/vnd.plotly.v1+json": {
       "config": {
        "plotlyServerURL": "https://plot.ly"
       },
       "data": [
        {
         "hovertemplate": "PC1=%{x}<br>PC2=%{y}<br>PC3=%{z}<br>Sensor ID=%{marker.color}<extra></extra>",
         "legendgroup": "",
         "marker": {
          "color": [
           1,
           2,
           3,
           4,
           5,
           6,
           7,
           8,
           9,
           10,
           11,
           12,
           13,
           14,
           15,
           16,
           17,
           18,
           19,
           20,
           21,
           22,
           23,
           24,
           25,
           26,
           27,
           28,
           29,
           30,
           32,
           33,
           34,
           35,
           36,
           37,
           38,
           39,
           40,
           41,
           42,
           43,
           44,
           45,
           46,
           47,
           48,
           49,
           50,
           51,
           52,
           53,
           54,
           55,
           56,
           57,
           58,
           59,
           60,
           61,
           62,
           63,
           64,
           65,
           66,
           67,
           68,
           69,
           70,
           71,
           72,
           73,
           74,
           75,
           76,
           77,
           78,
           79,
           80,
           81,
           82,
           83,
           84,
           85,
           86,
           87,
           88,
           89,
           90,
           91,
           92,
           93,
           94,
           95,
           96,
           97,
           98,
           99,
           100,
           101,
           102,
           103,
           104,
           105,
           106,
           107,
           108,
           109,
           110,
           111,
           112,
           113,
           114,
           115,
           116,
           117,
           118,
           119,
           120,
           121,
           122,
           123,
           124,
           125
          ],
          "coloraxis": "coloraxis",
          "symbol": "circle"
         },
         "mode": "markers",
         "name": "",
         "scene": "scene",
         "showlegend": false,
         "type": "scatter3d",
         "x": [
          -2.247068087607331,
          2.3561605822353386,
          0.6418525726140916,
          -0.1362599501056234,
          -0.2376818130733832,
          2.1314900235428147,
          -0.11622419941304384,
          -0.8877475181906974,
          -2.956095993438469,
          -1.7618669776259483,
          -0.9932703515762776,
          -0.5166147231817996,
          0.05512729698334683,
          0.16377774108457285,
          -0.39394330412933876,
          -1.3592733683683624,
          0.2370245590496795,
          0.19878242894940676,
          -0.053493373310191585,
          5.473495627303821,
          1.0791864206053057,
          -2.4211992262301996,
          -1.1651601485108283,
          0.0970162635763526,
          -1.4304443333423646,
          -1.262801646595773,
          -0.2535170127678849,
          -0.5179169866914407,
          -1.1592094243236777,
          -0.33285741355884996,
          -0.6073448568728297,
          -0.3270165811568335,
          2.4860828133689186,
          -1.9407492127910746,
          -0.47931303417065046,
          0.8599387352885363,
          -0.9504865713887516,
          -3.0929951826201285,
          -0.01954302030839512,
          0.2340044873814364,
          1.1377534017355164,
          0.2620266247245078,
          1.0151649077157359,
          -0.5723889635546077,
          0.4889498829502839,
          1.9869800028265232,
          0.2467629697469373,
          0.30581284077759,
          0.5769848427842174,
          -0.24269358962568538,
          -0.9131857276395469,
          -1.2870996009534128,
          -0.4937179268833057,
          2.421237395284311,
          0.5365662661872747,
          -0.13747487224315386,
          2.1455611745630843,
          0.4664708656846705,
          -0.2963090080357713,
          3.633936508948093,
          -1.0280037399637532,
          -1.0203060393595462,
          2.501132461584587,
          -1.6681151127086793,
          -0.6778023126736471,
          -0.6752858586713049,
          -3.3109850706830524,
          0.4082691558674062,
          -1.2691980659433864,
          -1.0723239100890192,
          0.2472310358443243,
          -1.0687097828812124,
          0.1126865881661952,
          9.672907377178685,
          2.362705091692809,
          2.136814244841406,
          0.22305206128512367,
          -2.659987933315274,
          -0.6454532598033164,
          -1.9166505747315867,
          -0.5670834597239782,
          -0.7653290828230173,
          -1.8831048277854976,
          -1.4201490337164946,
          2.144409091054532,
          -1.696149542657722,
          -0.6651511494516812,
          -0.7520525407315118,
          -0.5034978881163148,
          -1.1342560762154104,
          3.360246499333431,
          1.7145058271312288,
          2.290729792489871,
          2.4203687125223725,
          -0.537919478659888,
          -2.5065306450487843,
          -2.873933545966663,
          -0.12900232188090566,
          -0.4460076529686361,
          -0.3260463952338843,
          -1.9042952133100064,
          -2.0593568449940407,
          -0.6525746795660535,
          2.1921984114776034,
          2.6872371890975986,
          2.040744784421779,
          -0.7338817717141791,
          0.417022560767397,
          -0.796298749094029,
          -0.12834387095476724,
          -0.27830627702808397,
          0.3380356736356627,
          -0.2763870027708997,
          -0.14310858010351718,
          -0.10948688634103139,
          0.054087759567751324,
          0.2602523656163343,
          0.0061574704794719395,
          0.05370871594692952,
          -0.3033681547830335,
          1.4876617001887644,
          -0.22172389529883524,
          2.0680283013501146,
          -0.04920887940546517
         ],
         "y": [
          -0.7146634958364463,
          2.3112086739219584,
          0.9491597506764385,
          0.7098934193046375,
          1.3677694373482658,
          5.188250283536416,
          0.7251385488215558,
          0.4837156938637854,
          -0.5431571688679186,
          -0.026681192542496887,
          0.5151201932035658,
          0.29197909159291024,
          0.8591228942489217,
          0.6156042783082919,
          0.4029433426806222,
          -0.044465353705257206,
          0.5911238940377176,
          0.6703598567239083,
          0.5076082237386192,
          -1.1474291312164875,
          -1.0443318206289967,
          -1.1970940660831981,
          0.23776324647589495,
          0.6599409662134468,
          -0.06097480817705893,
          -0.049796112089970666,
          -0.5842273589720808,
          0.12856544522174315,
          0.14712502584363715,
          0.376129591609909,
          -0.3845896870925039,
          0.0034800563926200277,
          1.4273492867848618,
          -1.6609712077280572,
          1.4443564763902208,
          2.3186607940473323,
          2.6455653243680644,
          -1.58046019380812,
          0.45248668615988663,
          0.6967014584055892,
          2.8995041610825125,
          0.692999562005189,
          0.9114102482716002,
          0.29804569135197995,
          0.7006693047534691,
          0.8642551495575134,
          0.34971582290938685,
          0.5984106843869528,
          0.6020897909675723,
          0.009834206872635717,
          -0.41462986817533093,
          -0.1807049518716524,
          0.28043527431001336,
          -3.443453881501534,
          0.4610536274399826,
          0.33312575160229213,
          3.440111574366038,
          0.4026144175339244,
          0.31935702230606183,
          -3.081272355000665,
          -0.17973948327271827,
          -0.9837288025089297,
          -1.3295668532672356,
          -0.29151932889356896,
          -0.022810718583459774,
          0.07412823043683262,
          -0.987231156571771,
          -0.048561407959471226,
          -0.7349591017486338,
          -0.14428321486997508,
          0.36513699944729816,
          -0.3186912377518403,
          0.4728354364524608,
          -4.479284593828446,
          -2.5802158244940774,
          0.009408963110116927,
          -0.8909622134776651,
          -0.8298521721682327,
          -0.12579187875753936,
          -1.2456628154811347,
          0.22657218621583758,
          -0.36472199278499345,
          -0.1965813080335287,
          -0.45514910588060353,
          0.7398150562687574,
          -0.6356635513042457,
          0.3630312550329466,
          -0.25157666388106553,
          0.027582858401943165,
          -0.5018027709310432,
          1.2646984543135673,
          0.13034978524310833,
          0.882135745480499,
          0.8731439609332328,
          -0.049215862218887255,
          -1.365819277266196,
          -2.203930124552141,
          -0.18781652840837912,
          -0.16027568819459723,
          0.04157382569452375,
          -0.7790456497515448,
          -0.8606822886414635,
          -0.368252914725285,
          -1.3019418516681833,
          0.6153766362352052,
          0.36512171771051094,
          -0.16513220578129692,
          0.04468351366359664,
          -0.3172651522311881,
          -0.005745384558585565,
          -0.2509495103921133,
          -0.13405094217153354,
          -0.20344274132929635,
          -0.1541325336638642,
          -0.12511948754392127,
          -0.1330585711631985,
          0.053928546038283974,
          -0.11162886158330153,
          -0.10300494972439891,
          -0.25644990345500157,
          -1.7562928794680042,
          -0.368542812543024,
          -1.33248972018477,
          0.011267290651466373
         ],
         "z": [
          1.8942060883603733,
          1.6567201975537467,
          0.8429865159349701,
          0.8999187807137843,
          1.8712286458050946,
          -0.8459672338023613,
          0.8578873519231595,
          0.9205795419857016,
          1.581770098292911,
          1.193864579329254,
          0.8517543187165245,
          1.0025433167441522,
          0.6274442132993241,
          0.7862994729582188,
          0.8348755325467263,
          1.0908823818238718,
          0.7516179349598889,
          0.6805400727908317,
          0.7273275102641105,
          3.0336577606482655,
          0.7935199926670686,
          1.7484686838607097,
          0.7662095024350698,
          0.5129952024834512,
          0.8669072146892343,
          0.8442546897722889,
          0.9377353873848734,
          0.7019437125877197,
          0.6965569076102964,
          0.5156972597188811,
          0.7480909574471669,
          0.6734669349309471,
          -0.025227794365777902,
          1.7537503894839075,
          1.458717083297288,
          3.1283856441289135,
          2.6442728283852825,
          1.6605378233366415,
          0.2628167025534074,
          0.08272446566876737,
          2.583050150408751,
          0.04322659913385283,
          -0.10690661124852903,
          0.18434807059242497,
          -0.016371728492874667,
          0.24908014238526183,
          0.15789624953263826,
          0.013939410721452479,
          -0.020742709774951084,
          0.31880122315364434,
          -0.6176126644310761,
          0.3362173442210342,
          -0.0016812967481804563,
          0.9395104803617106,
          -0.09974739908569166,
          -0.0770995722939262,
          -2.192713016107275,
          -0.1123797363902299,
          -0.10617457610410592,
          0.5166994182278863,
          0.13093699731643155,
          -0.9839409174675631,
          0.2408868114176283,
          0.012752954314948883,
          -0.047061859836395464,
          -0.1713127371971885,
          0.4150745616606098,
          0.10489402214197874,
          -1.3964910228193448,
          -0.08438840107074341,
          -0.3945440874766697,
          -0.004063967456023749,
          -0.6097431204113508,
          3.62662526847806,
          -1.7480121641077775,
          -1.9127871730441903,
          -1.910341465642133,
          0.07541315265529017,
          -0.3011035975587764,
          -0.9200805438735149,
          -0.6116993090319239,
          -0.18865219829366356,
          -0.489936804526809,
          -0.24765152327515166,
          -0.8248044934921579,
          -0.1471178352115827,
          -0.8092374386305695,
          -0.4152808358537787,
          -0.6479587222153138,
          -0.32982313485897646,
          -1.65458359100578,
          -1.8363147578893122,
          -1.1606793618264202,
          -1.122694309299395,
          -0.72734501800801,
          0.017507903141454655,
          -0.04229786292605219,
          -0.7243608656916015,
          -0.7221274348749094,
          -0.896261132499712,
          -0.44371687182782055,
          -0.37767423740586836,
          -0.6843522946289405,
          -0.9256582195619242,
          -1.1702802960134864,
          -1.034050892263886,
          -0.9328432599211492,
          -1.0265109046616787,
          -0.8882914401582381,
          -1.0897345243041163,
          -0.9525278300711361,
          -1.0055301521726998,
          -1.0395603520459484,
          -1.0558472072370986,
          -1.0887438871518664,
          -1.1213808266653211,
          -1.2492974890208215,
          -1.1709934163732088,
          -1.2204745259018441,
          -1.1458862912466972,
          -1.0747170095919647,
          -1.1228869924730112,
          -1.36340271187576,
          -1.3803327981656237
         ]
        }
       ],
       "layout": {
        "coloraxis": {
         "colorbar": {
          "title": {
           "text": "Sensor ID"
          }
         },
         "colorscale": [
          [
           0,
           "#0d0887"
          ],
          [
           0.1111111111111111,
           "#46039f"
          ],
          [
           0.2222222222222222,
           "#7201a8"
          ],
          [
           0.3333333333333333,
           "#9c179e"
          ],
          [
           0.4444444444444444,
           "#bd3786"
          ],
          [
           0.5555555555555556,
           "#d8576b"
          ],
          [
           0.6666666666666666,
           "#ed7953"
          ],
          [
           0.7777777777777778,
           "#fb9f3a"
          ],
          [
           0.8888888888888888,
           "#fdca26"
          ],
          [
           1,
           "#f0f921"
          ]
         ]
        },
        "legend": {
         "tracegroupgap": 0
        },
        "scene": {
         "domain": {
          "x": [
           0,
           1
          ],
          "y": [
           0,
           1
          ]
         },
         "xaxis": {
          "title": {
           "text": "PC1"
          }
         },
         "yaxis": {
          "title": {
           "text": "PC2"
          }
         },
         "zaxis": {
          "title": {
           "text": "PC3"
          }
         }
        },
        "template": {
         "data": {
          "bar": [
           {
            "error_x": {
             "color": "#2a3f5f"
            },
            "error_y": {
             "color": "#2a3f5f"
            },
            "marker": {
             "line": {
              "color": "#E5ECF6",
              "width": 0.5
             },
             "pattern": {
              "fillmode": "overlay",
              "size": 10,
              "solidity": 0.2
             }
            },
            "type": "bar"
           }
          ],
          "barpolar": [
           {
            "marker": {
             "line": {
              "color": "#E5ECF6",
              "width": 0.5
             },
             "pattern": {
              "fillmode": "overlay",
              "size": 10,
              "solidity": 0.2
             }
            },
            "type": "barpolar"
           }
          ],
          "carpet": [
           {
            "aaxis": {
             "endlinecolor": "#2a3f5f",
             "gridcolor": "white",
             "linecolor": "white",
             "minorgridcolor": "white",
             "startlinecolor": "#2a3f5f"
            },
            "baxis": {
             "endlinecolor": "#2a3f5f",
             "gridcolor": "white",
             "linecolor": "white",
             "minorgridcolor": "white",
             "startlinecolor": "#2a3f5f"
            },
            "type": "carpet"
           }
          ],
          "choropleth": [
           {
            "colorbar": {
             "outlinewidth": 0,
             "ticks": ""
            },
            "type": "choropleth"
           }
          ],
          "contour": [
           {
            "colorbar": {
             "outlinewidth": 0,
             "ticks": ""
            },
            "colorscale": [
             [
              0,
              "#0d0887"
             ],
             [
              0.1111111111111111,
              "#46039f"
             ],
             [
              0.2222222222222222,
              "#7201a8"
             ],
             [
              0.3333333333333333,
              "#9c179e"
             ],
             [
              0.4444444444444444,
              "#bd3786"
             ],
             [
              0.5555555555555556,
              "#d8576b"
             ],
             [
              0.6666666666666666,
              "#ed7953"
             ],
             [
              0.7777777777777778,
              "#fb9f3a"
             ],
             [
              0.8888888888888888,
              "#fdca26"
             ],
             [
              1,
              "#f0f921"
             ]
            ],
            "type": "contour"
           }
          ],
          "contourcarpet": [
           {
            "colorbar": {
             "outlinewidth": 0,
             "ticks": ""
            },
            "type": "contourcarpet"
           }
          ],
          "heatmap": [
           {
            "colorbar": {
             "outlinewidth": 0,
             "ticks": ""
            },
            "colorscale": [
             [
              0,
              "#0d0887"
             ],
             [
              0.1111111111111111,
              "#46039f"
             ],
             [
              0.2222222222222222,
              "#7201a8"
             ],
             [
              0.3333333333333333,
              "#9c179e"
             ],
             [
              0.4444444444444444,
              "#bd3786"
             ],
             [
              0.5555555555555556,
              "#d8576b"
             ],
             [
              0.6666666666666666,
              "#ed7953"
             ],
             [
              0.7777777777777778,
              "#fb9f3a"
             ],
             [
              0.8888888888888888,
              "#fdca26"
             ],
             [
              1,
              "#f0f921"
             ]
            ],
            "type": "heatmap"
           }
          ],
          "heatmapgl": [
           {
            "colorbar": {
             "outlinewidth": 0,
             "ticks": ""
            },
            "colorscale": [
             [
              0,
              "#0d0887"
             ],
             [
              0.1111111111111111,
              "#46039f"
             ],
             [
              0.2222222222222222,
              "#7201a8"
             ],
             [
              0.3333333333333333,
              "#9c179e"
             ],
             [
              0.4444444444444444,
              "#bd3786"
             ],
             [
              0.5555555555555556,
              "#d8576b"
             ],
             [
              0.6666666666666666,
              "#ed7953"
             ],
             [
              0.7777777777777778,
              "#fb9f3a"
             ],
             [
              0.8888888888888888,
              "#fdca26"
             ],
             [
              1,
              "#f0f921"
             ]
            ],
            "type": "heatmapgl"
           }
          ],
          "histogram": [
           {
            "marker": {
             "pattern": {
              "fillmode": "overlay",
              "size": 10,
              "solidity": 0.2
             }
            },
            "type": "histogram"
           }
          ],
          "histogram2d": [
           {
            "colorbar": {
             "outlinewidth": 0,
             "ticks": ""
            },
            "colorscale": [
             [
              0,
              "#0d0887"
             ],
             [
              0.1111111111111111,
              "#46039f"
             ],
             [
              0.2222222222222222,
              "#7201a8"
             ],
             [
              0.3333333333333333,
              "#9c179e"
             ],
             [
              0.4444444444444444,
              "#bd3786"
             ],
             [
              0.5555555555555556,
              "#d8576b"
             ],
             [
              0.6666666666666666,
              "#ed7953"
             ],
             [
              0.7777777777777778,
              "#fb9f3a"
             ],
             [
              0.8888888888888888,
              "#fdca26"
             ],
             [
              1,
              "#f0f921"
             ]
            ],
            "type": "histogram2d"
           }
          ],
          "histogram2dcontour": [
           {
            "colorbar": {
             "outlinewidth": 0,
             "ticks": ""
            },
            "colorscale": [
             [
              0,
              "#0d0887"
             ],
             [
              0.1111111111111111,
              "#46039f"
             ],
             [
              0.2222222222222222,
              "#7201a8"
             ],
             [
              0.3333333333333333,
              "#9c179e"
             ],
             [
              0.4444444444444444,
              "#bd3786"
             ],
             [
              0.5555555555555556,
              "#d8576b"
             ],
             [
              0.6666666666666666,
              "#ed7953"
             ],
             [
              0.7777777777777778,
              "#fb9f3a"
             ],
             [
              0.8888888888888888,
              "#fdca26"
             ],
             [
              1,
              "#f0f921"
             ]
            ],
            "type": "histogram2dcontour"
           }
          ],
          "mesh3d": [
           {
            "colorbar": {
             "outlinewidth": 0,
             "ticks": ""
            },
            "type": "mesh3d"
           }
          ],
          "parcoords": [
           {
            "line": {
             "colorbar": {
              "outlinewidth": 0,
              "ticks": ""
             }
            },
            "type": "parcoords"
           }
          ],
          "pie": [
           {
            "automargin": true,
            "type": "pie"
           }
          ],
          "scatter": [
           {
            "fillpattern": {
             "fillmode": "overlay",
             "size": 10,
             "solidity": 0.2
            },
            "type": "scatter"
           }
          ],
          "scatter3d": [
           {
            "line": {
             "colorbar": {
              "outlinewidth": 0,
              "ticks": ""
             }
            },
            "marker": {
             "colorbar": {
              "outlinewidth": 0,
              "ticks": ""
             }
            },
            "type": "scatter3d"
           }
          ],
          "scattercarpet": [
           {
            "marker": {
             "colorbar": {
              "outlinewidth": 0,
              "ticks": ""
             }
            },
            "type": "scattercarpet"
           }
          ],
          "scattergeo": [
           {
            "marker": {
             "colorbar": {
              "outlinewidth": 0,
              "ticks": ""
             }
            },
            "type": "scattergeo"
           }
          ],
          "scattergl": [
           {
            "marker": {
             "colorbar": {
              "outlinewidth": 0,
              "ticks": ""
             }
            },
            "type": "scattergl"
           }
          ],
          "scattermapbox": [
           {
            "marker": {
             "colorbar": {
              "outlinewidth": 0,
              "ticks": ""
             }
            },
            "type": "scattermapbox"
           }
          ],
          "scatterpolar": [
           {
            "marker": {
             "colorbar": {
              "outlinewidth": 0,
              "ticks": ""
             }
            },
            "type": "scatterpolar"
           }
          ],
          "scatterpolargl": [
           {
            "marker": {
             "colorbar": {
              "outlinewidth": 0,
              "ticks": ""
             }
            },
            "type": "scatterpolargl"
           }
          ],
          "scatterternary": [
           {
            "marker": {
             "colorbar": {
              "outlinewidth": 0,
              "ticks": ""
             }
            },
            "type": "scatterternary"
           }
          ],
          "surface": [
           {
            "colorbar": {
             "outlinewidth": 0,
             "ticks": ""
            },
            "colorscale": [
             [
              0,
              "#0d0887"
             ],
             [
              0.1111111111111111,
              "#46039f"
             ],
             [
              0.2222222222222222,
              "#7201a8"
             ],
             [
              0.3333333333333333,
              "#9c179e"
             ],
             [
              0.4444444444444444,
              "#bd3786"
             ],
             [
              0.5555555555555556,
              "#d8576b"
             ],
             [
              0.6666666666666666,
              "#ed7953"
             ],
             [
              0.7777777777777778,
              "#fb9f3a"
             ],
             [
              0.8888888888888888,
              "#fdca26"
             ],
             [
              1,
              "#f0f921"
             ]
            ],
            "type": "surface"
           }
          ],
          "table": [
           {
            "cells": {
             "fill": {
              "color": "#EBF0F8"
             },
             "line": {
              "color": "white"
             }
            },
            "header": {
             "fill": {
              "color": "#C8D4E3"
             },
             "line": {
              "color": "white"
             }
            },
            "type": "table"
           }
          ]
         },
         "layout": {
          "annotationdefaults": {
           "arrowcolor": "#2a3f5f",
           "arrowhead": 0,
           "arrowwidth": 1
          },
          "autotypenumbers": "strict",
          "coloraxis": {
           "colorbar": {
            "outlinewidth": 0,
            "ticks": ""
           }
          },
          "colorscale": {
           "diverging": [
            [
             0,
             "#8e0152"
            ],
            [
             0.1,
             "#c51b7d"
            ],
            [
             0.2,
             "#de77ae"
            ],
            [
             0.3,
             "#f1b6da"
            ],
            [
             0.4,
             "#fde0ef"
            ],
            [
             0.5,
             "#f7f7f7"
            ],
            [
             0.6,
             "#e6f5d0"
            ],
            [
             0.7,
             "#b8e186"
            ],
            [
             0.8,
             "#7fbc41"
            ],
            [
             0.9,
             "#4d9221"
            ],
            [
             1,
             "#276419"
            ]
           ],
           "sequential": [
            [
             0,
             "#0d0887"
            ],
            [
             0.1111111111111111,
             "#46039f"
            ],
            [
             0.2222222222222222,
             "#7201a8"
            ],
            [
             0.3333333333333333,
             "#9c179e"
            ],
            [
             0.4444444444444444,
             "#bd3786"
            ],
            [
             0.5555555555555556,
             "#d8576b"
            ],
            [
             0.6666666666666666,
             "#ed7953"
            ],
            [
             0.7777777777777778,
             "#fb9f3a"
            ],
            [
             0.8888888888888888,
             "#fdca26"
            ],
            [
             1,
             "#f0f921"
            ]
           ],
           "sequentialminus": [
            [
             0,
             "#0d0887"
            ],
            [
             0.1111111111111111,
             "#46039f"
            ],
            [
             0.2222222222222222,
             "#7201a8"
            ],
            [
             0.3333333333333333,
             "#9c179e"
            ],
            [
             0.4444444444444444,
             "#bd3786"
            ],
            [
             0.5555555555555556,
             "#d8576b"
            ],
            [
             0.6666666666666666,
             "#ed7953"
            ],
            [
             0.7777777777777778,
             "#fb9f3a"
            ],
            [
             0.8888888888888888,
             "#fdca26"
            ],
            [
             1,
             "#f0f921"
            ]
           ]
          },
          "colorway": [
           "#636efa",
           "#EF553B",
           "#00cc96",
           "#ab63fa",
           "#FFA15A",
           "#19d3f3",
           "#FF6692",
           "#B6E880",
           "#FF97FF",
           "#FECB52"
          ],
          "font": {
           "color": "#2a3f5f"
          },
          "geo": {
           "bgcolor": "white",
           "lakecolor": "white",
           "landcolor": "#E5ECF6",
           "showlakes": true,
           "showland": true,
           "subunitcolor": "white"
          },
          "hoverlabel": {
           "align": "left"
          },
          "hovermode": "closest",
          "mapbox": {
           "style": "light"
          },
          "paper_bgcolor": "white",
          "plot_bgcolor": "#E5ECF6",
          "polar": {
           "angularaxis": {
            "gridcolor": "white",
            "linecolor": "white",
            "ticks": ""
           },
           "bgcolor": "#E5ECF6",
           "radialaxis": {
            "gridcolor": "white",
            "linecolor": "white",
            "ticks": ""
           }
          },
          "scene": {
           "xaxis": {
            "backgroundcolor": "#E5ECF6",
            "gridcolor": "white",
            "gridwidth": 2,
            "linecolor": "white",
            "showbackground": true,
            "ticks": "",
            "zerolinecolor": "white"
           },
           "yaxis": {
            "backgroundcolor": "#E5ECF6",
            "gridcolor": "white",
            "gridwidth": 2,
            "linecolor": "white",
            "showbackground": true,
            "ticks": "",
            "zerolinecolor": "white"
           },
           "zaxis": {
            "backgroundcolor": "#E5ECF6",
            "gridcolor": "white",
            "gridwidth": 2,
            "linecolor": "white",
            "showbackground": true,
            "ticks": "",
            "zerolinecolor": "white"
           }
          },
          "shapedefaults": {
           "line": {
            "color": "#2a3f5f"
           }
          },
          "ternary": {
           "aaxis": {
            "gridcolor": "white",
            "linecolor": "white",
            "ticks": ""
           },
           "baxis": {
            "gridcolor": "white",
            "linecolor": "white",
            "ticks": ""
           },
           "bgcolor": "#E5ECF6",
           "caxis": {
            "gridcolor": "white",
            "linecolor": "white",
            "ticks": ""
           }
          },
          "title": {
           "x": 0.05
          },
          "xaxis": {
           "automargin": true,
           "gridcolor": "white",
           "linecolor": "white",
           "ticks": "",
           "title": {
            "standoff": 15
           },
           "zerolinecolor": "white",
           "zerolinewidth": 2
          },
          "yaxis": {
           "automargin": true,
           "gridcolor": "white",
           "linecolor": "white",
           "ticks": "",
           "title": {
            "standoff": 15
           },
           "zerolinecolor": "white",
           "zerolinewidth": 2
          }
         }
        },
        "title": {
         "text": "3D PCA Visualization"
        }
       }
      }
     },
     "metadata": {},
     "output_type": "display_data"
    },
    {
     "name": "stdout",
     "output_type": "stream",
     "text": [
      "Evaluation Results:\n",
      "Explained Variance Ratio: [0.26668352 0.1236627  0.1091425  0.09840407 0.08676665 0.08199764\n",
      " 0.07797889 0.04993851 0.04271881 0.03766074]\n",
      "Cumulative Explained Variance: [0.26668352 0.39034622 0.49948872 0.59789279 0.68465944 0.76665708\n",
      " 0.84463597 0.89457448 0.93729328 0.97495402]\n",
      "Reconstruction Error: 0.02504598184033406\n",
      "Silhouette Score: 0.4377078458199648\n"
     ]
    },
    {
     "name": "stderr",
     "output_type": "stream",
     "text": [
      "/Users/jihoonchung/anaconda3/envs/datascience/lib/python3.10/site-packages/sklearn/cluster/_kmeans.py:1412: FutureWarning:\n",
      "\n",
      "The default value of `n_init` will change from 10 to 'auto' in 1.4. Set the value of `n_init` explicitly to suppress the warning\n",
      "\n"
     ]
    }
   ],
   "source": [
    "# Example usage\n",
    "results_mi_corr = evaluate_pca(df_mi_corr, n_components=10, color_column='Sensor ID', n_clusters=3, n_components_to_use=5)\n",
    "\n",
    "print(\"Evaluation Results:\")\n",
    "print(f\"Explained Variance Ratio: {results_mi_corr['explained_variance_ratio']}\")\n",
    "print(f\"Cumulative Explained Variance: {results_mi_corr['cumulative_explained_variance']}\")\n",
    "print(f\"Reconstruction Error: {results_mi_corr['reconstruction_error']}\")\n",
    "print(f\"Silhouette Score: {results_mi_corr['silhouette_score']}\")"
   ]
  },
  {
   "cell_type": "markdown",
   "metadata": {},
   "source": [
    "### 6. MI-lazy Correlation with top 50 features"
   ]
  },
  {
   "cell_type": "code",
   "execution_count": 348,
   "metadata": {},
   "outputs": [
    {
     "data": {
      "image/png": "[encoded data removed]",
      "text/plain": [
       "<Figure size 1000x600 with 1 Axes>"
      ]
     },
     "metadata": {},
     "output_type": "display_data"
    },
    {
     "data": {
      "application/vnd.plotly.v1+json": {
       "config": {
        "plotlyServerURL": "https://plot.ly"
       },
       "data": [
        {
         "hovertemplate": "PC1=%{x}<br>PC2=%{y}<br>Sensor ID=%{marker.color}<extra></extra>",
         "legendgroup": "",
         "marker": {
          "color": [
           1,
           2,
           3,
           4,
           5,
           6,
           7,
           8,
           9,
           10,
           11,
           12,
           13,
           14,
           15,
           16,
           17,
           18,
           19,
           20,
           21,
           22,
           23,
           24,
           25,
           26,
           27,
           28,
           29,
           30,
           32,
           33,
           34,
           35,
           36,
           37,
           38,
           39,
           40,
           41,
           42,
           43,
           44,
           45,
           46,
           47,
           48,
           49,
           50,
           51,
           52,
           53,
           54,
           55,
           56,
           57,
           58,
           59,
           60,
           61,
           62,
           63,
           64,
           65,
           66,
           67,
           68,
           69,
           70,
           71,
           72,
           73,
           74,
           75,
           76,
           77,
           78,
           79,
           80,
           81,
           82,
           83,
           84,
           85,
           86,
           87,
           88,
           89,
           90,
           91,
           92,
           93,
           94,
           95,
           96,
           97,
           98,
           99,
           100,
           101,
           102,
           103,
           104,
           105,
           106,
           107,
           108,
           109,
           110,
           111,
           112,
           113,
           114,
           115,
           116,
           117,
           118,
           119,
           120,
           121,
           122,
           123,
           124,
           125
          ],
          "coloraxis": "coloraxis",
          "symbol": "circle"
         },
         "mode": "markers",
         "name": "",
         "orientation": "v",
         "showlegend": false,
         "type": "scatter",
         "x": [
          -2.3935372472990246,
          3.943719335891389,
          0.04741001603962152,
          1.6086848826382083,
          -0.4891590006805852,
          1.9398248612281477,
          0.7718173054490176,
          -1.0699218483396151,
          -4.365507875289781,
          -2.422146474476314,
          -0.8088199445996964,
          -0.08726632867983249,
          0.3943834267639819,
          0.6640555728714377,
          0.12609312082565308,
          -2.127171428634017,
          1.3970746062697275,
          0.39466131040094343,
          -0.3507894120401969,
          5.975863286846832,
          0.6514001456848658,
          -2.0583759661911527,
          -1.9290528001345368,
          0.7143522554206584,
          -2.116459519798824,
          -1.6904643257306011,
          -0.950952981787858,
          -0.9814865087481093,
          -1.3952810068125678,
          -1.0390396330135399,
          -1.4014381251134278,
          -0.8084675437350127,
          3.254506374611521,
          -0.8744563492071842,
          -0.40968195922622486,
          1.4130380443538635,
          -1.247597245183776,
          -3.6859983460491876,
          0.7654642904162887,
          1.0181899715786942,
          0.4935062031773198,
          -0.228340302005522,
          1.3947913440035467,
          0.3616573078375657,
          0.7766203099973491,
          2.93443763052679,
          0.7103141063267797,
          1.472735317782999,
          0.22786782577226775,
          0.8781928741398094,
          -0.5456101501160999,
          -0.925857759661035,
          -1.8991682712078857,
          1.9005438383449507,
          0.3718040551690919,
          -0.32091095068441267,
          1.5820968899750667,
          1.0896382473696464,
          -0.5700241478204204,
          3.2440794138800393,
          -1.3094132074904778,
          -1.609805280803668,
          2.795349736062934,
          -3.2753867389223985,
          -1.5946890268122784,
          -1.3312069831216973,
          -5.166166481095169,
          1.1522571169052545,
          -1.1920940100711723,
          -1.1363066968895759,
          0.8188214193424793,
          -0.18534874791714606,
          -0.047849147523146805,
          8.574187013685274,
          2.637739400275993,
          2.95103844526427,
          0.8721689322464795,
          -3.0121268126710374,
          0.6610629275261902,
          -2.201132134934938,
          0.08545529460355168,
          -0.8782671222310559,
          -2.3838262148726357,
          -1.9063938048714888,
          2.677127493700165,
          -1.6883031619847204,
          -1.120700966126148,
          -1.1668445067229918,
          -0.5481973016299504,
          -2.446212237239347,
          2.1279003698946326,
          2.257145951849326,
          3.439942068646445,
          3.928810947863512,
          -1.1823790796308984,
          -4.025104190301097,
          -1.845143912892119,
          -1.1953287860646717,
          -0.7572607825480902,
          -0.06550072765699838,
          -1.6894752245123503,
          -2.2310408714181245,
          -1.0790253324693952,
          2.845248846597209,
          3.5646536115205554,
          2.7647850026438427,
          -1.1276186819216232,
          1.3479663830757336,
          -1.6209059462959734,
          0.2956016658781964,
          -1.05952879934062,
          1.312045095606189,
          -0.723793062740054,
          -0.546343373857037,
          -0.09887758382839988,
          0.9981253144357332,
          1.3537107433809576,
          0.19473588096735392,
          -0.029554279190945602,
          -0.5994647553919981,
          0.7662310459989774,
          -1.7403160021421362,
          2.8013504732062273,
          -0.7323699243715287
         ],
         "xaxis": "x",
         "y": [
          4.299345681805539,
          4.549147470927452,
          -2.071108660424693,
          1.8905204154674036,
          4.079085405628933,
          -0.5789720222350381,
          0.8240433331336152,
          0.471979183896854,
          1.9534998136961343,
          -0.3537288259752325,
          0.5092611128102359,
          0.7395654913063976,
          0.5337329319624229,
          0.26682315716728255,
          2.917700801547357,
          -0.7226791753622128,
          3.0511529214475743,
          -2.388064454042029,
          4.182099199808897,
          0.3791853613356125,
          -0.47487791107571836,
          0.11938546035685449,
          1.3780770606575072,
          3.569623590702123,
          -1.655983997912052,
          -1.6121929952754623,
          -1.0170494807922508,
          0.3196779083520386,
          -1.6023993922858977,
          -1.338772495472784,
          -2.3819689966628244,
          2.3240213660422735,
          -0.4443108667314025,
          -1.7707712463435779,
          0.5672142848776789,
          2.5637309493705045,
          -2.165860729908709,
          5.096610848082864,
          -0.1250682777688654,
          2.9801621587445952,
          -2.552369245660751,
          -0.41480077040025154,
          -1.5284808220559494,
          -0.6800025492575074,
          0.8974338487549005,
          -0.03885598347841515,
          -1.512802747823521,
          -0.2784341656292973,
          0.02290963105094951,
          -0.7117761227044972,
          -0.19253088846393157,
          -0.5732821469661484,
          -0.7051198208702474,
          -1.585963005313391,
          -0.8101116441954616,
          -1.8731537214658396,
          -2.780903187364371,
          -0.23232744739267802,
          0.5637770660820509,
          -4.185075966727249,
          -0.6461354393812279,
          0.7287509967497569,
          3.9061945811547774,
          0.07981512884363344,
          -0.3822182232313577,
          1.2561688912404885,
          -1.7345526398150333,
          -2.357994927411761,
          3.702668634807158,
          -0.8121146475373873,
          -0.17238556586255607,
          -1.4521816880075837,
          1.3360492151834988,
          -0.15246929341465842,
          -1.5967655827023457,
          -2.250601614493683,
          3.1814398984795527,
          -2.2584213953534222,
          2.9833113228909864,
          2.5906376701981366,
          -0.939304195438047,
          1.3015508424381863,
          -0.8872456740124706,
          -1.0383215193690036,
          -1.6560067517984163,
          -1.5322810376897726,
          -2.0742953960180572,
          1.2521855188943336,
          0.40585639051962347,
          0.508596851799128,
          -1.191285080675531,
          0.6488050815696451,
          -0.27436689948361687,
          -1.415788991835842,
          3.103611077770134,
          0.5402700700223424,
          -0.4741301476870434,
          -1.7501588825209509,
          -0.943441147816195,
          2.23356271486063,
          2.2349759771333173,
          -1.7580760185655768,
          1.413077460528509,
          -1.55691854587575,
          3.4420611292199985,
          0.3373621789235691,
          -0.6784105429501619,
          1.0286484161717544,
          -1.7324744061950526,
          -1.7614270890980235,
          -1.4125812005737275,
          -0.7035122734648204,
          -2.1137418418472116,
          -2.8105399126563513,
          -2.2714673157634273,
          1.6659570501696424,
          -0.04477648616286166,
          -0.22061233747549844,
          -1.5765227013332188,
          -0.9177881127805613,
          -3.402746071718682,
          1.6994889536400686,
          2.2649421139280137,
          -2.581893260097784
         ],
         "yaxis": "y"
        }
       ],
       "layout": {
        "coloraxis": {
         "colorbar": {
          "title": {
           "text": "Sensor ID"
          }
         },
         "colorscale": [
          [
           0,
           "#0d0887"
          ],
          [
           0.1111111111111111,
           "#46039f"
          ],
          [
           0.2222222222222222,
           "#7201a8"
          ],
          [
           0.3333333333333333,
           "#9c179e"
          ],
          [
           0.4444444444444444,
           "#bd3786"
          ],
          [
           0.5555555555555556,
           "#d8576b"
          ],
          [
           0.6666666666666666,
           "#ed7953"
          ],
          [
           0.7777777777777778,
           "#fb9f3a"
          ],
          [
           0.8888888888888888,
           "#fdca26"
          ],
          [
           1,
           "#f0f921"
          ]
         ]
        },
        "legend": {
         "tracegroupgap": 0
        },
        "template": {
         "data": {
          "bar": [
           {
            "error_x": {
             "color": "#2a3f5f"
            },
            "error_y": {
             "color": "#2a3f5f"
            },
            "marker": {
             "line": {
              "color": "#E5ECF6",
              "width": 0.5
             },
             "pattern": {
              "fillmode": "overlay",
              "size": 10,
              "solidity": 0.2
             }
            },
            "type": "bar"
           }
          ],
          "barpolar": [
           {
            "marker": {
             "line": {
              "color": "#E5ECF6",
              "width": 0.5
             },
             "pattern": {
              "fillmode": "overlay",
              "size": 10,
              "solidity": 0.2
             }
            },
            "type": "barpolar"
           }
          ],
          "carpet": [
           {
            "aaxis": {
             "endlinecolor": "#2a3f5f",
             "gridcolor": "white",
             "linecolor": "white",
             "minorgridcolor": "white",
             "startlinecolor": "#2a3f5f"
            },
            "baxis": {
             "endlinecolor": "#2a3f5f",
             "gridcolor": "white",
             "linecolor": "white",
             "minorgridcolor": "white",
             "startlinecolor": "#2a3f5f"
            },
            "type": "carpet"
           }
          ],
          "choropleth": [
           {
            "colorbar": {
             "outlinewidth": 0,
             "ticks": ""
            },
            "type": "choropleth"
           }
          ],
          "contour": [
           {
            "colorbar": {
             "outlinewidth": 0,
             "ticks": ""
            },
            "colorscale": [
             [
              0,
              "#0d0887"
             ],
             [
              0.1111111111111111,
              "#46039f"
             ],
             [
              0.2222222222222222,
              "#7201a8"
             ],
             [
              0.3333333333333333,
              "#9c179e"
             ],
             [
              0.4444444444444444,
              "#bd3786"
             ],
             [
              0.5555555555555556,
              "#d8576b"
             ],
             [
              0.6666666666666666,
              "#ed7953"
             ],
             [
              0.7777777777777778,
              "#fb9f3a"
             ],
             [
              0.8888888888888888,
              "#fdca26"
             ],
             [
              1,
              "#f0f921"
             ]
            ],
            "type": "contour"
           }
          ],
          "contourcarpet": [
           {
            "colorbar": {
             "outlinewidth": 0,
             "ticks": ""
            },
            "type": "contourcarpet"
           }
          ],
          "heatmap": [
           {
            "colorbar": {
             "outlinewidth": 0,
             "ticks": ""
            },
            "colorscale": [
             [
              0,
              "#0d0887"
             ],
             [
              0.1111111111111111,
              "#46039f"
             ],
             [
              0.2222222222222222,
              "#7201a8"
             ],
             [
              0.3333333333333333,
              "#9c179e"
             ],
             [
              0.4444444444444444,
              "#bd3786"
             ],
             [
              0.5555555555555556,
              "#d8576b"
             ],
             [
              0.6666666666666666,
              "#ed7953"
             ],
             [
              0.7777777777777778,
              "#fb9f3a"
             ],
             [
              0.8888888888888888,
              "#fdca26"
             ],
             [
              1,
              "#f0f921"
             ]
            ],
            "type": "heatmap"
           }
          ],
          "heatmapgl": [
           {
            "colorbar": {
             "outlinewidth": 0,
             "ticks": ""
            },
            "colorscale": [
             [
              0,
              "#0d0887"
             ],
             [
              0.1111111111111111,
              "#46039f"
             ],
             [
              0.2222222222222222,
              "#7201a8"
             ],
             [
              0.3333333333333333,
              "#9c179e"
             ],
             [
              0.4444444444444444,
              "#bd3786"
             ],
             [
              0.5555555555555556,
              "#d8576b"
             ],
             [
              0.6666666666666666,
              "#ed7953"
             ],
             [
              0.7777777777777778,
              "#fb9f3a"
             ],
             [
              0.8888888888888888,
              "#fdca26"
             ],
             [
              1,
              "#f0f921"
             ]
            ],
            "type": "heatmapgl"
           }
          ],
          "histogram": [
           {
            "marker": {
             "pattern": {
              "fillmode": "overlay",
              "size": 10,
              "solidity": 0.2
             }
            },
            "type": "histogram"
           }
          ],
          "histogram2d": [
           {
            "colorbar": {
             "outlinewidth": 0,
             "ticks": ""
            },
            "colorscale": [
             [
              0,
              "#0d0887"
             ],
             [
              0.1111111111111111,
              "#46039f"
             ],
             [
              0.2222222222222222,
              "#7201a8"
             ],
             [
              0.3333333333333333,
              "#9c179e"
             ],
             [
              0.4444444444444444,
              "#bd3786"
             ],
             [
              0.5555555555555556,
              "#d8576b"
             ],
             [
              0.6666666666666666,
              "#ed7953"
             ],
             [
              0.7777777777777778,
              "#fb9f3a"
             ],
             [
              0.8888888888888888,
              "#fdca26"
             ],
             [
              1,
              "#f0f921"
             ]
            ],
            "type": "histogram2d"
           }
          ],
          "histogram2dcontour": [
           {
            "colorbar": {
             "outlinewidth": 0,
             "ticks": ""
            },
            "colorscale": [
             [
              0,
              "#0d0887"
             ],
             [
              0.1111111111111111,
              "#46039f"
             ],
             [
              0.2222222222222222,
              "#7201a8"
             ],
             [
              0.3333333333333333,
              "#9c179e"
             ],
             [
              0.4444444444444444,
              "#bd3786"
             ],
             [
              0.5555555555555556,
              "#d8576b"
             ],
             [
              0.6666666666666666,
              "#ed7953"
             ],
             [
              0.7777777777777778,
              "#fb9f3a"
             ],
             [
              0.8888888888888888,
              "#fdca26"
             ],
             [
              1,
              "#f0f921"
             ]
            ],
            "type": "histogram2dcontour"
           }
          ],
          "mesh3d": [
           {
            "colorbar": {
             "outlinewidth": 0,
             "ticks": ""
            },
            "type": "mesh3d"
           }
          ],
          "parcoords": [
           {
            "line": {
             "colorbar": {
              "outlinewidth": 0,
              "ticks": ""
             }
            },
            "type": "parcoords"
           }
          ],
          "pie": [
           {
            "automargin": true,
            "type": "pie"
           }
          ],
          "scatter": [
           {
            "fillpattern": {
             "fillmode": "overlay",
             "size": 10,
             "solidity": 0.2
            },
            "type": "scatter"
           }
          ],
          "scatter3d": [
           {
            "line": {
             "colorbar": {
              "outlinewidth": 0,
              "ticks": ""
             }
            },
            "marker": {
             "colorbar": {
              "outlinewidth": 0,
              "ticks": ""
             }
            },
            "type": "scatter3d"
           }
          ],
          "scattercarpet": [
           {
            "marker": {
             "colorbar": {
              "outlinewidth": 0,
              "ticks": ""
             }
            },
            "type": "scattercarpet"
           }
          ],
          "scattergeo": [
           {
            "marker": {
             "colorbar": {
              "outlinewidth": 0,
              "ticks": ""
             }
            },
            "type": "scattergeo"
           }
          ],
          "scattergl": [
           {
            "marker": {
             "colorbar": {
              "outlinewidth": 0,
              "ticks": ""
             }
            },
            "type": "scattergl"
           }
          ],
          "scattermapbox": [
           {
            "marker": {
             "colorbar": {
              "outlinewidth": 0,
              "ticks": ""
             }
            },
            "type": "scattermapbox"
           }
          ],
          "scatterpolar": [
           {
            "marker": {
             "colorbar": {
              "outlinewidth": 0,
              "ticks": ""
             }
            },
            "type": "scatterpolar"
           }
          ],
          "scatterpolargl": [
           {
            "marker": {
             "colorbar": {
              "outlinewidth": 0,
              "ticks": ""
             }
            },
            "type": "scatterpolargl"
           }
          ],
          "scatterternary": [
           {
            "marker": {
             "colorbar": {
              "outlinewidth": 0,
              "ticks": ""
             }
            },
            "type": "scatterternary"
           }
          ],
          "surface": [
           {
            "colorbar": {
             "outlinewidth": 0,
             "ticks": ""
            },
            "colorscale": [
             [
              0,
              "#0d0887"
             ],
             [
              0.1111111111111111,
              "#46039f"
             ],
             [
              0.2222222222222222,
              "#7201a8"
             ],
             [
              0.3333333333333333,
              "#9c179e"
             ],
             [
              0.4444444444444444,
              "#bd3786"
             ],
             [
              0.5555555555555556,
              "#d8576b"
             ],
             [
              0.6666666666666666,
              "#ed7953"
             ],
             [
              0.7777777777777778,
              "#fb9f3a"
             ],
             [
              0.8888888888888888,
              "#fdca26"
             ],
             [
              1,
              "#f0f921"
             ]
            ],
            "type": "surface"
           }
          ],
          "table": [
           {
            "cells": {
             "fill": {
              "color": "#EBF0F8"
             },
             "line": {
              "color": "white"
             }
            },
            "header": {
             "fill": {
              "color": "#C8D4E3"
             },
             "line": {
              "color": "white"
             }
            },
            "type": "table"
           }
          ]
         },
         "layout": {
          "annotationdefaults": {
           "arrowcolor": "#2a3f5f",
           "arrowhead": 0,
           "arrowwidth": 1
          },
          "autotypenumbers": "strict",
          "coloraxis": {
           "colorbar": {
            "outlinewidth": 0,
            "ticks": ""
           }
          },
          "colorscale": {
           "diverging": [
            [
             0,
             "#8e0152"
            ],
            [
             0.1,
             "#c51b7d"
            ],
            [
             0.2,
             "#de77ae"
            ],
            [
             0.3,
             "#f1b6da"
            ],
            [
             0.4,
             "#fde0ef"
            ],
            [
             0.5,
             "#f7f7f7"
            ],
            [
             0.6,
             "#e6f5d0"
            ],
            [
             0.7,
             "#b8e186"
            ],
            [
             0.8,
             "#7fbc41"
            ],
            [
             0.9,
             "#4d9221"
            ],
            [
             1,
             "#276419"
            ]
           ],
           "sequential": [
            [
             0,
             "#0d0887"
            ],
            [
             0.1111111111111111,
             "#46039f"
            ],
            [
             0.2222222222222222,
             "#7201a8"
            ],
            [
             0.3333333333333333,
             "#9c179e"
            ],
            [
             0.4444444444444444,
             "#bd3786"
            ],
            [
             0.5555555555555556,
             "#d8576b"
            ],
            [
             0.6666666666666666,
             "#ed7953"
            ],
            [
             0.7777777777777778,
             "#fb9f3a"
            ],
            [
             0.8888888888888888,
             "#fdca26"
            ],
            [
             1,
             "#f0f921"
            ]
           ],
           "sequentialminus": [
            [
             0,
             "#0d0887"
            ],
            [
             0.1111111111111111,
             "#46039f"
            ],
            [
             0.2222222222222222,
             "#7201a8"
            ],
            [
             0.3333333333333333,
             "#9c179e"
            ],
            [
             0.4444444444444444,
             "#bd3786"
            ],
            [
             0.5555555555555556,
             "#d8576b"
            ],
            [
             0.6666666666666666,
             "#ed7953"
            ],
            [
             0.7777777777777778,
             "#fb9f3a"
            ],
            [
             0.8888888888888888,
             "#fdca26"
            ],
            [
             1,
             "#f0f921"
            ]
           ]
          },
          "colorway": [
           "#636efa",
           "#EF553B",
           "#00cc96",
           "#ab63fa",
           "#FFA15A",
           "#19d3f3",
           "#FF6692",
           "#B6E880",
           "#FF97FF",
           "#FECB52"
          ],
          "font": {
           "color": "#2a3f5f"
          },
          "geo": {
           "bgcolor": "white",
           "lakecolor": "white",
           "landcolor": "#E5ECF6",
           "showlakes": true,
           "showland": true,
           "subunitcolor": "white"
          },
          "hoverlabel": {
           "align": "left"
          },
          "hovermode": "closest",
          "mapbox": {
           "style": "light"
          },
          "paper_bgcolor": "white",
          "plot_bgcolor": "#E5ECF6",
          "polar": {
           "angularaxis": {
            "gridcolor": "white",
            "linecolor": "white",
            "ticks": ""
           },
           "bgcolor": "#E5ECF6",
           "radialaxis": {
            "gridcolor": "white",
            "linecolor": "white",
            "ticks": ""
           }
          },
          "scene": {
           "xaxis": {
            "backgroundcolor": "#E5ECF6",
            "gridcolor": "white",
            "gridwidth": 2,
            "linecolor": "white",
            "showbackground": true,
            "ticks": "",
            "zerolinecolor": "white"
           },
           "yaxis": {
            "backgroundcolor": "#E5ECF6",
            "gridcolor": "white",
            "gridwidth": 2,
            "linecolor": "white",
            "showbackground": true,
            "ticks": "",
            "zerolinecolor": "white"
           },
           "zaxis": {
            "backgroundcolor": "#E5ECF6",
            "gridcolor": "white",
            "gridwidth": 2,
            "linecolor": "white",
            "showbackground": true,
            "ticks": "",
            "zerolinecolor": "white"
           }
          },
          "shapedefaults": {
           "line": {
            "color": "#2a3f5f"
           }
          },
          "ternary": {
           "aaxis": {
            "gridcolor": "white",
            "linecolor": "white",
            "ticks": ""
           },
           "baxis": {
            "gridcolor": "white",
            "linecolor": "white",
            "ticks": ""
           },
           "bgcolor": "#E5ECF6",
           "caxis": {
            "gridcolor": "white",
            "linecolor": "white",
            "ticks": ""
           }
          },
          "title": {
           "x": 0.05
          },
          "xaxis": {
           "automargin": true,
           "gridcolor": "white",
           "linecolor": "white",
           "ticks": "",
           "title": {
            "standoff": 15
           },
           "zerolinecolor": "white",
           "zerolinewidth": 2
          },
          "yaxis": {
           "automargin": true,
           "gridcolor": "white",
           "linecolor": "white",
           "ticks": "",
           "title": {
            "standoff": 15
           },
           "zerolinecolor": "white",
           "zerolinewidth": 2
          }
         }
        },
        "title": {
         "text": "2D PCA Visualization"
        },
        "xaxis": {
         "anchor": "y",
         "domain": [
          0,
          1
         ],
         "title": {
          "text": "PC1"
         }
        },
        "yaxis": {
         "anchor": "x",
         "domain": [
          0,
          1
         ],
         "title": {
          "text": "PC2"
         }
        }
       }
      }
     },
     "metadata": {},
     "output_type": "display_data"
    },
    {
     "data": {
      "application/vnd.plotly.v1+json": {
       "config": {
        "plotlyServerURL": "https://plot.ly"
       },
       "data": [
        {
         "hovertemplate": "PC1=%{x}<br>PC2=%{y}<br>PC3=%{z}<br>Sensor ID=%{marker.color}<extra></extra>",
         "legendgroup": "",
         "marker": {
          "color": [
           1,
           2,
           3,
           4,
           5,
           6,
           7,
           8,
           9,
           10,
           11,
           12,
           13,
           14,
           15,
           16,
           17,
           18,
           19,
           20,
           21,
           22,
           23,
           24,
           25,
           26,
           27,
           28,
           29,
           30,
           32,
           33,
           34,
           35,
           36,
           37,
           38,
           39,
           40,
           41,
           42,
           43,
           44,
           45,
           46,
           47,
           48,
           49,
           50,
           51,
           52,
           53,
           54,
           55,
           56,
           57,
           58,
           59,
           60,
           61,
           62,
           63,
           64,
           65,
           66,
           67,
           68,
           69,
           70,
           71,
           72,
           73,
           74,
           75,
           76,
           77,
           78,
           79,
           80,
           81,
           82,
           83,
           84,
           85,
           86,
           87,
           88,
           89,
           90,
           91,
           92,
           93,
           94,
           95,
           96,
           97,
           98,
           99,
           100,
           101,
           102,
           103,
           104,
           105,
           106,
           107,
           108,
           109,
           110,
           111,
           112,
           113,
           114,
           115,
           116,
           117,
           118,
           119,
           120,
           121,
           122,
           123,
           124,
           125
          ],
          "coloraxis": "coloraxis",
          "symbol": "circle"
         },
         "mode": "markers",
         "name": "",
         "scene": "scene",
         "showlegend": false,
         "type": "scatter3d",
         "x": [
          -2.3935372472990246,
          3.943719335891389,
          0.04741001603962152,
          1.6086848826382083,
          -0.4891590006805852,
          1.9398248612281477,
          0.7718173054490176,
          -1.0699218483396151,
          -4.365507875289781,
          -2.422146474476314,
          -0.8088199445996964,
          -0.08726632867983249,
          0.3943834267639819,
          0.6640555728714377,
          0.12609312082565308,
          -2.127171428634017,
          1.3970746062697275,
          0.39466131040094343,
          -0.3507894120401969,
          5.975863286846832,
          0.6514001456848658,
          -2.0583759661911527,
          -1.9290528001345368,
          0.7143522554206584,
          -2.116459519798824,
          -1.6904643257306011,
          -0.950952981787858,
          -0.9814865087481093,
          -1.3952810068125678,
          -1.0390396330135399,
          -1.4014381251134278,
          -0.8084675437350127,
          3.254506374611521,
          -0.8744563492071842,
          -0.40968195922622486,
          1.4130380443538635,
          -1.247597245183776,
          -3.6859983460491876,
          0.7654642904162887,
          1.0181899715786942,
          0.4935062031773198,
          -0.228340302005522,
          1.3947913440035467,
          0.3616573078375657,
          0.7766203099973491,
          2.93443763052679,
          0.7103141063267797,
          1.472735317782999,
          0.22786782577226775,
          0.8781928741398094,
          -0.5456101501160999,
          -0.925857759661035,
          -1.8991682712078857,
          1.9005438383449507,
          0.3718040551690919,
          -0.32091095068441267,
          1.5820968899750667,
          1.0896382473696464,
          -0.5700241478204204,
          3.2440794138800393,
          -1.3094132074904778,
          -1.609805280803668,
          2.795349736062934,
          -3.2753867389223985,
          -1.5946890268122784,
          -1.3312069831216973,
          -5.166166481095169,
          1.1522571169052545,
          -1.1920940100711723,
          -1.1363066968895759,
          0.8188214193424793,
          -0.18534874791714606,
          -0.047849147523146805,
          8.574187013685274,
          2.637739400275993,
          2.95103844526427,
          0.8721689322464795,
          -3.0121268126710374,
          0.6610629275261902,
          -2.201132134934938,
          0.08545529460355168,
          -0.8782671222310559,
          -2.3838262148726357,
          -1.9063938048714888,
          2.677127493700165,
          -1.6883031619847204,
          -1.120700966126148,
          -1.1668445067229918,
          -0.5481973016299504,
          -2.446212237239347,
          2.1279003698946326,
          2.257145951849326,
          3.439942068646445,
          3.928810947863512,
          -1.1823790796308984,
          -4.025104190301097,
          -1.845143912892119,
          -1.1953287860646717,
          -0.7572607825480902,
          -0.06550072765699838,
          -1.6894752245123503,
          -2.2310408714181245,
          -1.0790253324693952,
          2.845248846597209,
          3.5646536115205554,
          2.7647850026438427,
          -1.1276186819216232,
          1.3479663830757336,
          -1.6209059462959734,
          0.2956016658781964,
          -1.05952879934062,
          1.312045095606189,
          -0.723793062740054,
          -0.546343373857037,
          -0.09887758382839988,
          0.9981253144357332,
          1.3537107433809576,
          0.19473588096735392,
          -0.029554279190945602,
          -0.5994647553919981,
          0.7662310459989774,
          -1.7403160021421362,
          2.8013504732062273,
          -0.7323699243715287
         ],
         "y": [
          4.299345681805539,
          4.549147470927452,
          -2.071108660424693,
          1.8905204154674036,
          4.079085405628933,
          -0.5789720222350381,
          0.8240433331336152,
          0.471979183896854,
          1.9534998136961343,
          -0.3537288259752325,
          0.5092611128102359,
          0.7395654913063976,
          0.5337329319624229,
          0.26682315716728255,
          2.917700801547357,
          -0.7226791753622128,
          3.0511529214475743,
          -2.388064454042029,
          4.182099199808897,
          0.3791853613356125,
          -0.47487791107571836,
          0.11938546035685449,
          1.3780770606575072,
          3.569623590702123,
          -1.655983997912052,
          -1.6121929952754623,
          -1.0170494807922508,
          0.3196779083520386,
          -1.6023993922858977,
          -1.338772495472784,
          -2.3819689966628244,
          2.3240213660422735,
          -0.4443108667314025,
          -1.7707712463435779,
          0.5672142848776789,
          2.5637309493705045,
          -2.165860729908709,
          5.096610848082864,
          -0.1250682777688654,
          2.9801621587445952,
          -2.552369245660751,
          -0.41480077040025154,
          -1.5284808220559494,
          -0.6800025492575074,
          0.8974338487549005,
          -0.03885598347841515,
          -1.512802747823521,
          -0.2784341656292973,
          0.02290963105094951,
          -0.7117761227044972,
          -0.19253088846393157,
          -0.5732821469661484,
          -0.7051198208702474,
          -1.585963005313391,
          -0.8101116441954616,
          -1.8731537214658396,
          -2.780903187364371,
          -0.23232744739267802,
          0.5637770660820509,
          -4.185075966727249,
          -0.6461354393812279,
          0.7287509967497569,
          3.9061945811547774,
          0.07981512884363344,
          -0.3822182232313577,
          1.2561688912404885,
          -1.7345526398150333,
          -2.357994927411761,
          3.702668634807158,
          -0.8121146475373873,
          -0.17238556586255607,
          -1.4521816880075837,
          1.3360492151834988,
          -0.15246929341465842,
          -1.5967655827023457,
          -2.250601614493683,
          3.1814398984795527,
          -2.2584213953534222,
          2.9833113228909864,
          2.5906376701981366,
          -0.939304195438047,
          1.3015508424381863,
          -0.8872456740124706,
          -1.0383215193690036,
          -1.6560067517984163,
          -1.5322810376897726,
          -2.0742953960180572,
          1.2521855188943336,
          0.40585639051962347,
          0.508596851799128,
          -1.191285080675531,
          0.6488050815696451,
          -0.27436689948361687,
          -1.415788991835842,
          3.103611077770134,
          0.5402700700223424,
          -0.4741301476870434,
          -1.7501588825209509,
          -0.943441147816195,
          2.23356271486063,
          2.2349759771333173,
          -1.7580760185655768,
          1.413077460528509,
          -1.55691854587575,
          3.4420611292199985,
          0.3373621789235691,
          -0.6784105429501619,
          1.0286484161717544,
          -1.7324744061950526,
          -1.7614270890980235,
          -1.4125812005737275,
          -0.7035122734648204,
          -2.1137418418472116,
          -2.8105399126563513,
          -2.2714673157634273,
          1.6659570501696424,
          -0.04477648616286166,
          -0.22061233747549844,
          -1.5765227013332188,
          -0.9177881127805613,
          -3.402746071718682,
          1.6994889536400686,
          2.2649421139280137,
          -2.581893260097784
         ],
         "z": [
          -0.5260122069560547,
          0.29596063819315366,
          -0.19712727814958136,
          -0.09081911620019256,
          -0.7217513320732436,
          -0.7170841504116633,
          -0.604224880421572,
          1.7973748295071779,
          -0.3515170703868289,
          -0.8354784960382459,
          -0.002263723087534682,
          -0.34178201515050566,
          1.0946884972625492,
          -0.18693682785362295,
          1.5800352678138534,
          -0.32782766518259066,
          -3.07859648640744,
          -1.2609749766814542,
          3.1062113240491818,
          -1.8016484930400147,
          1.9392657365322463,
          -2.7433350694529466,
          -1.065598823770742,
          -1.2739752169761762,
          1.4615141585177025,
          -0.07826434703920851,
          -0.09003541204350225,
          2.0057373113288914,
          -1.4032004226520756,
          -1.0038924092212627,
          -1.8899747542799041,
          0.18278969311296592,
          0.3143718726287762,
          -0.32767875143450803,
          1.6544627347346392,
          0.12798035526999035,
          -0.20100523027090206,
          1.4772253586052924,
          -0.30438316797810216,
          -1.049955467938246,
          0.5355120464362046,
          2.7262403507049173,
          -1.5389746260856507,
          -2.135989851583116,
          0.7933642629121621,
          -0.37938057275328535,
          0.3327664034691968,
          0.38650869239882546,
          1.4854547187120364,
          -1.7820630061579337,
          -3.4241961066925013,
          -2.6042984685135138,
          -0.8799234603291363,
          1.960204081411819,
          -1.4797215947967202,
          -1.5271034504578367,
          -0.14857073389826572,
          -1.6891726403070997,
          0.31396441933343316,
          2.140383900758484,
          -2.8371708459601126,
          -0.8882191063669218,
          0.6858168657595151,
          1.4886035753799558,
          -0.6907522478409778,
          0.963526839256112,
          3.583373600089827,
          0.48130097660432253,
          -3.5499851945556706,
          2.127540982489848,
          1.0007852908962667,
          -3.273320081342562,
          -1.537501386887392,
          1.318516113363763,
          -0.644915269283246,
          -1.2120717459720791,
          -0.4927371534117501,
          -2.0963769159232455,
          0.9141448048729309,
          -2.457291847717195,
          -1.6468613418687477,
          0.14189531459908675,
          -2.029014822694031,
          3.0097494197586694,
          -0.04155615467180417,
          -2.88612656580389,
          -0.22641133123553978,
          1.6857952379009458,
          -1.1430663173699613,
          1.6349637294816206,
          3.092378256591354,
          -3.1796699341434835,
          -0.7403558260368033,
          1.5460000251909392,
          1.8933416728266899,
          3.121267920374274,
          -3.00094138307469,
          0.009348809053281995,
          -1.7894249154915103,
          0.7146758118026775,
          1.0972784579646053,
          0.6781368748523477,
          -0.09389617046910455,
          2.8489705500988127,
          0.9765048487710711,
          2.53905107905814,
          -0.40894411087116134,
          -1.4887437007976136,
          1.4505973566152974,
          -1.4230374581664895,
          0.7187452399357644,
          -1.3218652760221237,
          1.5263360855692825,
          -0.6981846856452296,
          2.3536220836307593,
          -2.275285134934223,
          -0.17413532387070668,
          2.583017989593634,
          0.37826402767944156,
          0.7666443208531041,
          2.498202488262398,
          4.625460095771213,
          1.055518079480478,
          1.0912090729795156
         ]
        }
       ],
       "layout": {
        "coloraxis": {
         "colorbar": {
          "title": {
           "text": "Sensor ID"
          }
         },
         "colorscale": [
          [
           0,
           "#0d0887"
          ],
          [
           0.1111111111111111,
           "#46039f"
          ],
          [
           0.2222222222222222,
           "#7201a8"
          ],
          [
           0.3333333333333333,
           "#9c179e"
          ],
          [
           0.4444444444444444,
           "#bd3786"
          ],
          [
           0.5555555555555556,
           "#d8576b"
          ],
          [
           0.6666666666666666,
           "#ed7953"
          ],
          [
           0.7777777777777778,
           "#fb9f3a"
          ],
          [
           0.8888888888888888,
           "#fdca26"
          ],
          [
           1,
           "#f0f921"
          ]
         ]
        },
        "legend": {
         "tracegroupgap": 0
        },
        "scene": {
         "domain": {
          "x": [
           0,
           1
          ],
          "y": [
           0,
           1
          ]
         },
         "xaxis": {
          "title": {
           "text": "PC1"
          }
         },
         "yaxis": {
          "title": {
           "text": "PC2"
          }
         },
         "zaxis": {
          "title": {
           "text": "PC3"
          }
         }
        },
        "template": {
         "data": {
          "bar": [
           {
            "error_x": {
             "color": "#2a3f5f"
            },
            "error_y": {
             "color": "#2a3f5f"
            },
            "marker": {
             "line": {
              "color": "#E5ECF6",
              "width": 0.5
             },
             "pattern": {
              "fillmode": "overlay",
              "size": 10,
              "solidity": 0.2
             }
            },
            "type": "bar"
           }
          ],
          "barpolar": [
           {
            "marker": {
             "line": {
              "color": "#E5ECF6",
              "width": 0.5
             },
             "pattern": {
              "fillmode": "overlay",
              "size": 10,
              "solidity": 0.2
             }
            },
            "type": "barpolar"
           }
          ],
          "carpet": [
           {
            "aaxis": {
             "endlinecolor": "#2a3f5f",
             "gridcolor": "white",
             "linecolor": "white",
             "minorgridcolor": "white",
             "startlinecolor": "#2a3f5f"
            },
            "baxis": {
             "endlinecolor": "#2a3f5f",
             "gridcolor": "white",
             "linecolor": "white",
             "minorgridcolor": "white",
             "startlinecolor": "#2a3f5f"
            },
            "type": "carpet"
           }
          ],
          "choropleth": [
           {
            "colorbar": {
             "outlinewidth": 0,
             "ticks": ""
            },
            "type": "choropleth"
           }
          ],
          "contour": [
           {
            "colorbar": {
             "outlinewidth": 0,
             "ticks": ""
            },
            "colorscale": [
             [
              0,
              "#0d0887"
             ],
             [
              0.1111111111111111,
              "#46039f"
             ],
             [
              0.2222222222222222,
              "#7201a8"
             ],
             [
              0.3333333333333333,
              "#9c179e"
             ],
             [
              0.4444444444444444,
              "#bd3786"
             ],
             [
              0.5555555555555556,
              "#d8576b"
             ],
             [
              0.6666666666666666,
              "#ed7953"
             ],
             [
              0.7777777777777778,
              "#fb9f3a"
             ],
             [
              0.8888888888888888,
              "#fdca26"
             ],
             [
              1,
              "#f0f921"
             ]
            ],
            "type": "contour"
           }
          ],
          "contourcarpet": [
           {
            "colorbar": {
             "outlinewidth": 0,
             "ticks": ""
            },
            "type": "contourcarpet"
           }
          ],
          "heatmap": [
           {
            "colorbar": {
             "outlinewidth": 0,
             "ticks": ""
            },
            "colorscale": [
             [
              0,
              "#0d0887"
             ],
             [
              0.1111111111111111,
              "#46039f"
             ],
             [
              0.2222222222222222,
              "#7201a8"
             ],
             [
              0.3333333333333333,
              "#9c179e"
             ],
             [
              0.4444444444444444,
              "#bd3786"
             ],
             [
              0.5555555555555556,
              "#d8576b"
             ],
             [
              0.6666666666666666,
              "#ed7953"
             ],
             [
              0.7777777777777778,
              "#fb9f3a"
             ],
             [
              0.8888888888888888,
              "#fdca26"
             ],
             [
              1,
              "#f0f921"
             ]
            ],
            "type": "heatmap"
           }
          ],
          "heatmapgl": [
           {
            "colorbar": {
             "outlinewidth": 0,
             "ticks": ""
            },
            "colorscale": [
             [
              0,
              "#0d0887"
             ],
             [
              0.1111111111111111,
              "#46039f"
             ],
             [
              0.2222222222222222,
              "#7201a8"
             ],
             [
              0.3333333333333333,
              "#9c179e"
             ],
             [
              0.4444444444444444,
              "#bd3786"
             ],
             [
              0.5555555555555556,
              "#d8576b"
             ],
             [
              0.6666666666666666,
              "#ed7953"
             ],
             [
              0.7777777777777778,
              "#fb9f3a"
             ],
             [
              0.8888888888888888,
              "#fdca26"
             ],
             [
              1,
              "#f0f921"
             ]
            ],
            "type": "heatmapgl"
           }
          ],
          "histogram": [
           {
            "marker": {
             "pattern": {
              "fillmode": "overlay",
              "size": 10,
              "solidity": 0.2
             }
            },
            "type": "histogram"
           }
          ],
          "histogram2d": [
           {
            "colorbar": {
             "outlinewidth": 0,
             "ticks": ""
            },
            "colorscale": [
             [
              0,
              "#0d0887"
             ],
             [
              0.1111111111111111,
              "#46039f"
             ],
             [
              0.2222222222222222,
              "#7201a8"
             ],
             [
              0.3333333333333333,
              "#9c179e"
             ],
             [
              0.4444444444444444,
              "#bd3786"
             ],
             [
              0.5555555555555556,
              "#d8576b"
             ],
             [
              0.6666666666666666,
              "#ed7953"
             ],
             [
              0.7777777777777778,
              "#fb9f3a"
             ],
             [
              0.8888888888888888,
              "#fdca26"
             ],
             [
              1,
              "#f0f921"
             ]
            ],
            "type": "histogram2d"
           }
          ],
          "histogram2dcontour": [
           {
            "colorbar": {
             "outlinewidth": 0,
             "ticks": ""
            },
            "colorscale": [
             [
              0,
              "#0d0887"
             ],
             [
              0.1111111111111111,
              "#46039f"
             ],
             [
              0.2222222222222222,
              "#7201a8"
             ],
             [
              0.3333333333333333,
              "#9c179e"
             ],
             [
              0.4444444444444444,
              "#bd3786"
             ],
             [
              0.5555555555555556,
              "#d8576b"
             ],
             [
              0.6666666666666666,
              "#ed7953"
             ],
             [
              0.7777777777777778,
              "#fb9f3a"
             ],
             [
              0.8888888888888888,
              "#fdca26"
             ],
             [
              1,
              "#f0f921"
             ]
            ],
            "type": "histogram2dcontour"
           }
          ],
          "mesh3d": [
           {
            "colorbar": {
             "outlinewidth": 0,
             "ticks": ""
            },
            "type": "mesh3d"
           }
          ],
          "parcoords": [
           {
            "line": {
             "colorbar": {
              "outlinewidth": 0,
              "ticks": ""
             }
            },
            "type": "parcoords"
           }
          ],
          "pie": [
           {
            "automargin": true,
            "type": "pie"
           }
          ],
          "scatter": [
           {
            "fillpattern": {
             "fillmode": "overlay",
             "size": 10,
             "solidity": 0.2
            },
            "type": "scatter"
           }
          ],
          "scatter3d": [
           {
            "line": {
             "colorbar": {
              "outlinewidth": 0,
              "ticks": ""
             }
            },
            "marker": {
             "colorbar": {
              "outlinewidth": 0,
              "ticks": ""
             }
            },
            "type": "scatter3d"
           }
          ],
          "scattercarpet": [
           {
            "marker": {
             "colorbar": {
              "outlinewidth": 0,
              "ticks": ""
             }
            },
            "type": "scattercarpet"
           }
          ],
          "scattergeo": [
           {
            "marker": {
             "colorbar": {
              "outlinewidth": 0,
              "ticks": ""
             }
            },
            "type": "scattergeo"
           }
          ],
          "scattergl": [
           {
            "marker": {
             "colorbar": {
              "outlinewidth": 0,
              "ticks": ""
             }
            },
            "type": "scattergl"
           }
          ],
          "scattermapbox": [
           {
            "marker": {
             "colorbar": {
              "outlinewidth": 0,
              "ticks": ""
             }
            },
            "type": "scattermapbox"
           }
          ],
          "scatterpolar": [
           {
            "marker": {
             "colorbar": {
              "outlinewidth": 0,
              "ticks": ""
             }
            },
            "type": "scatterpolar"
           }
          ],
          "scatterpolargl": [
           {
            "marker": {
             "colorbar": {
              "outlinewidth": 0,
              "ticks": ""
             }
            },
            "type": "scatterpolargl"
           }
          ],
          "scatterternary": [
           {
            "marker": {
             "colorbar": {
              "outlinewidth": 0,
              "ticks": ""
             }
            },
            "type": "scatterternary"
           }
          ],
          "surface": [
           {
            "colorbar": {
             "outlinewidth": 0,
             "ticks": ""
            },
            "colorscale": [
             [
              0,
              "#0d0887"
             ],
             [
              0.1111111111111111,
              "#46039f"
             ],
             [
              0.2222222222222222,
              "#7201a8"
             ],
             [
              0.3333333333333333,
              "#9c179e"
             ],
             [
              0.4444444444444444,
              "#bd3786"
             ],
             [
              0.5555555555555556,
              "#d8576b"
             ],
             [
              0.6666666666666666,
              "#ed7953"
             ],
             [
              0.7777777777777778,
              "#fb9f3a"
             ],
             [
              0.8888888888888888,
              "#fdca26"
             ],
             [
              1,
              "#f0f921"
             ]
            ],
            "type": "surface"
           }
          ],
          "table": [
           {
            "cells": {
             "fill": {
              "color": "#EBF0F8"
             },
             "line": {
              "color": "white"
             }
            },
            "header": {
             "fill": {
              "color": "#C8D4E3"
             },
             "line": {
              "color": "white"
             }
            },
            "type": "table"
           }
          ]
         },
         "layout": {
          "annotationdefaults": {
           "arrowcolor": "#2a3f5f",
           "arrowhead": 0,
           "arrowwidth": 1
          },
          "autotypenumbers": "strict",
          "coloraxis": {
           "colorbar": {
            "outlinewidth": 0,
            "ticks": ""
           }
          },
          "colorscale": {
           "diverging": [
            [
             0,
             "#8e0152"
            ],
            [
             0.1,
             "#c51b7d"
            ],
            [
             0.2,
             "#de77ae"
            ],
            [
             0.3,
             "#f1b6da"
            ],
            [
             0.4,
             "#fde0ef"
            ],
            [
             0.5,
             "#f7f7f7"
            ],
            [
             0.6,
             "#e6f5d0"
            ],
            [
             0.7,
             "#b8e186"
            ],
            [
             0.8,
             "#7fbc41"
            ],
            [
             0.9,
             "#4d9221"
            ],
            [
             1,
             "#276419"
            ]
           ],
           "sequential": [
            [
             0,
             "#0d0887"
            ],
            [
             0.1111111111111111,
             "#46039f"
            ],
            [
             0.2222222222222222,
             "#7201a8"
            ],
            [
             0.3333333333333333,
             "#9c179e"
            ],
            [
             0.4444444444444444,
             "#bd3786"
            ],
            [
             0.5555555555555556,
             "#d8576b"
            ],
            [
             0.6666666666666666,
             "#ed7953"
            ],
            [
             0.7777777777777778,
             "#fb9f3a"
            ],
            [
             0.8888888888888888,
             "#fdca26"
            ],
            [
             1,
             "#f0f921"
            ]
           ],
           "sequentialminus": [
            [
             0,
             "#0d0887"
            ],
            [
             0.1111111111111111,
             "#46039f"
            ],
            [
             0.2222222222222222,
             "#7201a8"
            ],
            [
             0.3333333333333333,
             "#9c179e"
            ],
            [
             0.4444444444444444,
             "#bd3786"
            ],
            [
             0.5555555555555556,
             "#d8576b"
            ],
            [
             0.6666666666666666,
             "#ed7953"
            ],
            [
             0.7777777777777778,
             "#fb9f3a"
            ],
            [
             0.8888888888888888,
             "#fdca26"
            ],
            [
             1,
             "#f0f921"
            ]
           ]
          },
          "colorway": [
           "#636efa",
           "#EF553B",
           "#00cc96",
           "#ab63fa",
           "#FFA15A",
           "#19d3f3",
           "#FF6692",
           "#B6E880",
           "#FF97FF",
           "#FECB52"
          ],
          "font": {
           "color": "#2a3f5f"
          },
          "geo": {
           "bgcolor": "white",
           "lakecolor": "white",
           "landcolor": "#E5ECF6",
           "showlakes": true,
           "showland": true,
           "subunitcolor": "white"
          },
          "hoverlabel": {
           "align": "left"
          },
          "hovermode": "closest",
          "mapbox": {
           "style": "light"
          },
          "paper_bgcolor": "white",
          "plot_bgcolor": "#E5ECF6",
          "polar": {
           "angularaxis": {
            "gridcolor": "white",
            "linecolor": "white",
            "ticks": ""
           },
           "bgcolor": "#E5ECF6",
           "radialaxis": {
            "gridcolor": "white",
            "linecolor": "white",
            "ticks": ""
           }
          },
          "scene": {
           "xaxis": {
            "backgroundcolor": "#E5ECF6",
            "gridcolor": "white",
            "gridwidth": 2,
            "linecolor": "white",
            "showbackground": true,
            "ticks": "",
            "zerolinecolor": "white"
           },
           "yaxis": {
            "backgroundcolor": "#E5ECF6",
            "gridcolor": "white",
            "gridwidth": 2,
            "linecolor": "white",
            "showbackground": true,
            "ticks": "",
            "zerolinecolor": "white"
           },
           "zaxis": {
            "backgroundcolor": "#E5ECF6",
            "gridcolor": "white",
            "gridwidth": 2,
            "linecolor": "white",
            "showbackground": true,
            "ticks": "",
            "zerolinecolor": "white"
           }
          },
          "shapedefaults": {
           "line": {
            "color": "#2a3f5f"
           }
          },
          "ternary": {
           "aaxis": {
            "gridcolor": "white",
            "linecolor": "white",
            "ticks": ""
           },
           "baxis": {
            "gridcolor": "white",
            "linecolor": "white",
            "ticks": ""
           },
           "bgcolor": "#E5ECF6",
           "caxis": {
            "gridcolor": "white",
            "linecolor": "white",
            "ticks": ""
           }
          },
          "title": {
           "x": 0.05
          },
          "xaxis": {
           "automargin": true,
           "gridcolor": "white",
           "linecolor": "white",
           "ticks": "",
           "title": {
            "standoff": 15
           },
           "zerolinecolor": "white",
           "zerolinewidth": 2
          },
          "yaxis": {
           "automargin": true,
           "gridcolor": "white",
           "linecolor": "white",
           "ticks": "",
           "title": {
            "standoff": 15
           },
           "zerolinecolor": "white",
           "zerolinewidth": 2
          }
         }
        },
        "title": {
         "text": "3D PCA Visualization"
        }
       }
      }
     },
     "metadata": {},
     "output_type": "display_data"
    },
    {
     "name": "stderr",
     "output_type": "stream",
     "text": [
      "/Users/jihoonchung/anaconda3/envs/datascience/lib/python3.10/site-packages/sklearn/cluster/_kmeans.py:1412: FutureWarning:\n",
      "\n",
      "The default value of `n_init` will change from 10 to 'auto' in 1.4. Set the value of `n_init` explicitly to suppress the warning\n",
      "\n"
     ]
    },
    {
     "name": "stdout",
     "output_type": "stream",
     "text": [
      "Evaluation Results:\n",
      "Explained Variance Ratio: [0.07977685 0.07135506 0.0556949  0.04771714 0.04370417 0.04074916\n",
      " 0.03892723 0.03653115 0.03546508 0.03184542]\n",
      "Cumulative Explained Variance: [0.07977685 0.15113191 0.20682681 0.25454395 0.29824812 0.33899728\n",
      " 0.3779245  0.41445565 0.44992073 0.48176614]\n",
      "Reconstruction Error: 0.5182338570068088\n",
      "Silhouette Score: 0.09164358403659502\n"
     ]
    }
   ],
   "source": [
    "results_mi_corr_50 = evaluate_pca(df_mi_corr_50, n_components=10, color_column='Sensor ID', n_clusters=3, n_components_to_use=5)\n",
    "\n",
    "print(\"Evaluation Results:\")\n",
    "print(f\"Explained Variance Ratio: {results_mi_corr_50['explained_variance_ratio']}\")\n",
    "print(f\"Cumulative Explained Variance: {results_mi_corr_50['cumulative_explained_variance']}\")\n",
    "print(f\"Reconstruction Error: {results_mi_corr_50['reconstruction_error']}\")\n",
    "print(f\"Silhouette Score: {results_mi_corr_50['silhouette_score']}\")"
   ]
  },
  {
   "cell_type": "markdown",
   "metadata": {},
   "source": [
    "## Results analysis"
   ]
  },
  {
   "cell_type": "markdown",
   "metadata": {},
   "source": [
    "The best one so far was \"MI-lazy Correlation with top 10 features\"\n",
    "\n",
    "- Explained Variance Ratio: [0.26668352 0.1236627  0.1091425  0.09840407 0.08676665 0.08199764\n",
    " 0.07797889 0.04993851 0.04271881 0.03766074]\n",
    "- Cumulative Explained Variance: [0.26668352 0.39034622 0.49948872 0.59789279 0.68465944 0.76665708\n",
    " 0.84463597 0.89457448 0.93729328 0.97495402]\n",
    "- Reconstruction Error: 0.02504598184033406\n",
    "- Silhouette Score: 0.4377078458199648\n",
    "\n",
    "Overall, the PCA analysis shows effective dimensionality reduction with a good balance between retaining variance and reducing dimensions. The explained variance and reconstruction error indicate that the essential data structure is well-preserved. The silhouette score suggests there is some clustering structure, but it might need further refinement."
   ]
  },
  {
   "cell_type": "code",
   "execution_count": 350,
   "metadata": {},
   "outputs": [
    {
     "data": {
      "text/html": [
       "<div>\n",
       "<style scoped>\n",
       "    .dataframe tbody tr th:only-of-type {\n",
       "        vertical-align: middle;\n",
       "    }\n",
       "\n",
       "    .dataframe tbody tr th {\n",
       "        vertical-align: top;\n",
       "    }\n",
       "\n",
       "    .dataframe thead th {\n",
       "        text-align: right;\n",
       "    }\n",
       "</style>\n",
       "<table border=\"1\" class=\"dataframe\">\n",
       "  <thead>\n",
       "    <tr style=\"text-align: right;\">\n",
       "      <th></th>\n",
       "      <th>23_16800_mean_middle</th>\n",
       "      <th>18_16800_mean_middle</th>\n",
       "      <th>13_6000_mean_middle</th>\n",
       "      <th>13_3000_mean_middle</th>\n",
       "      <th>23_6000_mean_middle</th>\n",
       "      <th>18_3000_mean_middle</th>\n",
       "      <th>28_16800_mean_middle</th>\n",
       "      <th>53_8000_mean_middle</th>\n",
       "      <th>13_10000_mean_middle</th>\n",
       "      <th>53_6000_mean_middle</th>\n",
       "      <th>Sensor ID</th>\n",
       "    </tr>\n",
       "  </thead>\n",
       "  <tbody>\n",
       "    <tr>\n",
       "      <th>0</th>\n",
       "      <td>1302.076923</td>\n",
       "      <td>1069.285714</td>\n",
       "      <td>827.000000</td>\n",
       "      <td>827.000000</td>\n",
       "      <td>1328.200000</td>\n",
       "      <td>1069.240000</td>\n",
       "      <td>1590.384615</td>\n",
       "      <td>2995.000000</td>\n",
       "      <td>827.000000</td>\n",
       "      <td>2995.205128</td>\n",
       "      <td>1</td>\n",
       "    </tr>\n",
       "    <tr>\n",
       "      <th>1</th>\n",
       "      <td>1247.560000</td>\n",
       "      <td>954.200000</td>\n",
       "      <td>679.000000</td>\n",
       "      <td>679.000000</td>\n",
       "      <td>1235.000000</td>\n",
       "      <td>967.260870</td>\n",
       "      <td>1522.920000</td>\n",
       "      <td>1891.240000</td>\n",
       "      <td>679.640000</td>\n",
       "      <td>2951.000000</td>\n",
       "      <td>2</td>\n",
       "    </tr>\n",
       "    <tr>\n",
       "      <th>2</th>\n",
       "      <td>1296.674419</td>\n",
       "      <td>1020.920000</td>\n",
       "      <td>717.240000</td>\n",
       "      <td>718.040000</td>\n",
       "      <td>1296.511111</td>\n",
       "      <td>1007.000000</td>\n",
       "      <td>1584.244444</td>\n",
       "      <td>2997.320000</td>\n",
       "      <td>717.880000</td>\n",
       "      <td>3000.440000</td>\n",
       "      <td>3</td>\n",
       "    </tr>\n",
       "    <tr>\n",
       "      <th>3</th>\n",
       "      <td>1319.000000</td>\n",
       "      <td>1031.000000</td>\n",
       "      <td>736.920000</td>\n",
       "      <td>737.160000</td>\n",
       "      <td>1318.652174</td>\n",
       "      <td>1028.840000</td>\n",
       "      <td>1628.469388</td>\n",
       "      <td>2999.000000</td>\n",
       "      <td>737.080000</td>\n",
       "      <td>2999.000000</td>\n",
       "      <td>4</td>\n",
       "    </tr>\n",
       "    <tr>\n",
       "      <th>4</th>\n",
       "      <td>1332.760000</td>\n",
       "      <td>1045.697674</td>\n",
       "      <td>743.000000</td>\n",
       "      <td>741.880000</td>\n",
       "      <td>1332.920000</td>\n",
       "      <td>1047.244898</td>\n",
       "      <td>1587.480000</td>\n",
       "      <td>2110.760000</td>\n",
       "      <td>743.000000</td>\n",
       "      <td>3034.760000</td>\n",
       "      <td>5</td>\n",
       "    </tr>\n",
       "    <tr>\n",
       "      <th>...</th>\n",
       "      <td>...</td>\n",
       "      <td>...</td>\n",
       "      <td>...</td>\n",
       "      <td>...</td>\n",
       "      <td>...</td>\n",
       "      <td>...</td>\n",
       "      <td>...</td>\n",
       "      <td>...</td>\n",
       "      <td>...</td>\n",
       "      <td>...</td>\n",
       "      <td>...</td>\n",
       "    </tr>\n",
       "    <tr>\n",
       "      <th>119</th>\n",
       "      <td>1329.240000</td>\n",
       "      <td>1051.880000</td>\n",
       "      <td>751.000000</td>\n",
       "      <td>751.000000</td>\n",
       "      <td>1323.000000</td>\n",
       "      <td>1046.473684</td>\n",
       "      <td>1591.533333</td>\n",
       "      <td>3026.760000</td>\n",
       "      <td>742.200000</td>\n",
       "      <td>3025.480000</td>\n",
       "      <td>121</td>\n",
       "    </tr>\n",
       "    <tr>\n",
       "      <th>120</th>\n",
       "      <td>235.651163</td>\n",
       "      <td>1024.600000</td>\n",
       "      <td>735.000000</td>\n",
       "      <td>735.244898</td>\n",
       "      <td>1307.880000</td>\n",
       "      <td>1028.440000</td>\n",
       "      <td>1588.200000</td>\n",
       "      <td>3035.756757</td>\n",
       "      <td>735.000000</td>\n",
       "      <td>3025.000000</td>\n",
       "      <td>122</td>\n",
       "    </tr>\n",
       "    <tr>\n",
       "      <th>121</th>\n",
       "      <td>1330.619048</td>\n",
       "      <td>1043.000000</td>\n",
       "      <td>751.000000</td>\n",
       "      <td>725.829268</td>\n",
       "      <td>1330.280000</td>\n",
       "      <td>1043.000000</td>\n",
       "      <td>1595.000000</td>\n",
       "      <td>3037.160000</td>\n",
       "      <td>751.000000</td>\n",
       "      <td>3038.040000</td>\n",
       "      <td>123</td>\n",
       "    </tr>\n",
       "    <tr>\n",
       "      <th>122</th>\n",
       "      <td>239.108108</td>\n",
       "      <td>1017.560000</td>\n",
       "      <td>708.306122</td>\n",
       "      <td>708.520000</td>\n",
       "      <td>1307.622222</td>\n",
       "      <td>1027.880000</td>\n",
       "      <td>1579.240000</td>\n",
       "      <td>3020.244444</td>\n",
       "      <td>708.680000</td>\n",
       "      <td>3019.765957</td>\n",
       "      <td>124</td>\n",
       "    </tr>\n",
       "    <tr>\n",
       "      <th>123</th>\n",
       "      <td>1345.400000</td>\n",
       "      <td>1061.080000</td>\n",
       "      <td>728.760000</td>\n",
       "      <td>741.320000</td>\n",
       "      <td>1328.066667</td>\n",
       "      <td>1042.043478</td>\n",
       "      <td>1596.920000</td>\n",
       "      <td>3037.160000</td>\n",
       "      <td>728.916667</td>\n",
       "      <td>3037.560000</td>\n",
       "      <td>125</td>\n",
       "    </tr>\n",
       "  </tbody>\n",
       "</table>\n",
       "<p>124 rows × 11 columns</p>\n",
       "</div>"
      ],
      "text/plain": [
       "     23_16800_mean_middle  18_16800_mean_middle  13_6000_mean_middle  \\\n",
       "0             1302.076923           1069.285714           827.000000   \n",
       "1             1247.560000            954.200000           679.000000   \n",
       "2             1296.674419           1020.920000           717.240000   \n",
       "3             1319.000000           1031.000000           736.920000   \n",
       "4             1332.760000           1045.697674           743.000000   \n",
       "..                    ...                   ...                  ...   \n",
       "119           1329.240000           1051.880000           751.000000   \n",
       "120            235.651163           1024.600000           735.000000   \n",
       "121           1330.619048           1043.000000           751.000000   \n",
       "122            239.108108           1017.560000           708.306122   \n",
       "123           1345.400000           1061.080000           728.760000   \n",
       "\n",
       "     13_3000_mean_middle  23_6000_mean_middle  18_3000_mean_middle  \\\n",
       "0             827.000000          1328.200000          1069.240000   \n",
       "1             679.000000          1235.000000           967.260870   \n",
       "2             718.040000          1296.511111          1007.000000   \n",
       "3             737.160000          1318.652174          1028.840000   \n",
       "4             741.880000          1332.920000          1047.244898   \n",
       "..                   ...                  ...                  ...   \n",
       "119           751.000000          1323.000000          1046.473684   \n",
       "120           735.244898          1307.880000          1028.440000   \n",
       "121           725.829268          1330.280000          1043.000000   \n",
       "122           708.520000          1307.622222          1027.880000   \n",
       "123           741.320000          1328.066667          1042.043478   \n",
       "\n",
       "     28_16800_mean_middle  53_8000_mean_middle  13_10000_mean_middle  \\\n",
       "0             1590.384615          2995.000000            827.000000   \n",
       "1             1522.920000          1891.240000            679.640000   \n",
       "2             1584.244444          2997.320000            717.880000   \n",
       "3             1628.469388          2999.000000            737.080000   \n",
       "4             1587.480000          2110.760000            743.000000   \n",
       "..                    ...                  ...                   ...   \n",
       "119           1591.533333          3026.760000            742.200000   \n",
       "120           1588.200000          3035.756757            735.000000   \n",
       "121           1595.000000          3037.160000            751.000000   \n",
       "122           1579.240000          3020.244444            708.680000   \n",
       "123           1596.920000          3037.160000            728.916667   \n",
       "\n",
       "     53_6000_mean_middle  Sensor ID  \n",
       "0            2995.205128          1  \n",
       "1            2951.000000          2  \n",
       "2            3000.440000          3  \n",
       "3            2999.000000          4  \n",
       "4            3034.760000          5  \n",
       "..                   ...        ...  \n",
       "119          3025.480000        121  \n",
       "120          3025.000000        122  \n",
       "121          3038.040000        123  \n",
       "122          3019.765957        124  \n",
       "123          3037.560000        125  \n",
       "\n",
       "[124 rows x 11 columns]"
      ]
     },
     "execution_count": 350,
     "metadata": {},
     "output_type": "execute_result"
    }
   ],
   "source": [
    "df_mi_corr"
   ]
  },
  {
   "cell_type": "markdown",
   "metadata": {},
   "source": [
    "one thing that caught attention is the nature of this project is anomaly detection. If a PCA model reconstructs normal data well, it does not necessarily mean it will reconstruct outliers or anomalies well. In fact, the assumption in using reconstruction error for anomaly detection is that the PCA model, which is trained on normal data, will not reconstruct anomalies as well, leading to higher reconstruction errors for anomalous data points."
   ]
  },
  {
   "cell_type": "code",
   "execution_count": 352,
   "metadata": {},
   "outputs": [],
   "source": [
    "df_mi_corr.to_csv(\"../processed_data/lazy_corr_MI_10_FS.csv\", index=False)\n",
    "df_mi_corr_50.to_csv(\"../processed_data/lazy_corr_MI_50_FS.csv\", index=False)\n",
    "df_corr.to_csv(\"../processed_data/lazy_corr_FS.csv\", index=False)\n",
    "df.to_csv(\"../processed_data/batch_corr_FS.csv\", index=False)"
   ]
  }
 ],
 "metadata": {
  "kernelspec": {
   "display_name": "datascience",
   "language": "python",
   "name": "python3"
  },
  "language_info": {
   "codemirror_mode": {
    "name": "ipython",
    "version": 3
   },
   "file_extension": ".py",
   "mimetype": "text/x-python",
   "name": "python",
   "nbconvert_exporter": "python",
   "pygments_lexer": "ipython3",
   "version": "3.10.13"
  }
 },
 "nbformat": 4,
 "nbformat_minor": 2
}
