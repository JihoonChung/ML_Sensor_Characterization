{
 "cells": [
  {
   "cell_type": "markdown",
   "metadata": {},
   "source": [
    "# Ultrasonic Data Feature Engineering"
   ]
  },
  {
   "cell_type": "markdown",
   "metadata": {},
   "source": [
    "Export sensor data 1-6 and merge them and fill up NaNs"
   ]
  },
  {
   "cell_type": "code",
   "execution_count": 114,
   "metadata": {},
   "outputs": [
    {
     "name": "stdout",
     "output_type": "stream",
     "text": [
      "List of CSV files: ['../ultra_sonic_sensor/fully_automate/data_v4/test_seq_ard1_sensor3_13_47_48_27062024.csv', '../ultra_sonic_sensor/fully_automate/data_v4/test_seq_ard1_sensor3_13_52_41_27062024.csv', '../ultra_sonic_sensor/fully_automate/data_v4/test_seq_ard1_sensor6_14_30_37_27062024.csv', '../ultra_sonic_sensor/fully_automate/data_v4/test_seq_ard1_sensor4_14_08_42_27062024.csv', '../ultra_sonic_sensor/fully_automate/data_v4/test_delay_seq_ard\\\\_sensor_range_12_35_37_09072024.csv', '../ultra_sonic_sensor/fully_automate/data_v4/test_seq_ard1_sensor4_14_01_09_27062024.csv', '../ultra_sonic_sensor/fully_automate/data_v4/test_seq_ard1_sensor3_13_55_01_27062024.csv', '../ultra_sonic_sensor/fully_automate/data_v4/data_v4data_merged_w_Nan.csv', '../ultra_sonic_sensor/fully_automate/data_v4/test_seq_ard1_sensor1_13_05_40_27062024.csv', '../ultra_sonic_sensor/fully_automate/data_v4/test_seq_ard1_sensor2_13_24_59_27062024.csv', '../ultra_sonic_sensor/fully_automate/data_v4/test_seq_ard1_sensor4_14_06_20_27062024.csv', '../ultra_sonic_sensor/fully_automate/data_v4/test_seq_ard1_sensor2_13_18_12_27062024.csv', '../ultra_sonic_sensor/fully_automate/data_v4/test_seq_ard1_sensor4_14_04_31_27062024.csv', '../ultra_sonic_sensor/fully_automate/data_v4/test_seq_ard1_sensor5_14_16_12_27062024.csv', '../ultra_sonic_sensor/fully_automate/data_v4/test_seq_ard1_sensor6_14_39_01_27062024.csv', '../ultra_sonic_sensor/fully_automate/data_v4/test_seq_ard1_sensor2_13_20_17_27062024.csv', '../ultra_sonic_sensor/fully_automate/data_v4/test_seq_ard1_sensor5_14_18_08_27062024.csv', '../ultra_sonic_sensor/fully_automate/data_v4/test_seq_ard1_sensor3_13_51_00_27062024.csv', '../ultra_sonic_sensor/fully_automate/data_v4/test_seq_ard1_sensor1_11_05_36_27062024.csv', '../ultra_sonic_sensor/fully_automate/data_v4/test_seq_ard1_sensor6_14_34_36_27062024.csv', '../ultra_sonic_sensor/fully_automate/data_v4/test_seq_ard1_sensor5_14_21_36_27062024.csv', '../ultra_sonic_sensor/fully_automate/data_v4/test_seq_ard1_sensor3_13_49_18_27062024.csv', '../ultra_sonic_sensor/fully_automate/data_v4/test_seq_ard1_sensor5_14_12_29_27062024.csv', '../ultra_sonic_sensor/fully_automate/data_v4/test_seq_ard1_sensor2_13_28_31_27062024.csv', '../ultra_sonic_sensor/fully_automate/data_v4/test_seq_ard1_sensor4_14_10_12_27062024.csv', '../ultra_sonic_sensor/fully_automate/data_v4/test_delay_seq_ard_sensor_range_12_34_05_09072024.csv', '../ultra_sonic_sensor/fully_automate/data_v4/test_delay_seq_ard_sensor_range_12_34_50_09072024.csv', '../ultra_sonic_sensor/fully_automate/data_v4/test_seq_ard1_sensor5_14_19_44_27062024.csv', '../ultra_sonic_sensor/fully_automate/data_v4/test_seq_ard1_sensor2_13_22_45_27062024.csv', '../ultra_sonic_sensor/fully_automate/data_v4/test_seq_ard1_sensor1_13_08_46_27062024.csv', '../ultra_sonic_sensor/fully_automate/data_v4/test_seq_ard1_sensor1_11_10_16_27062024.csv', '../ultra_sonic_sensor/fully_automate/data_v4/test_seq_ard1_sensor6_14_26_02_27062024.csv', '../ultra_sonic_sensor/fully_automate/data_v4/test_seq_ard1_sensor6_14_37_03_27062024.csv', '../ultra_sonic_sensor/fully_automate/data_v4/test_seq_ard1_sensor1_11_14_19_27062024.csv']\n"
     ]
    }
   ],
   "source": [
    "import os\n",
    "import pandas as pd\n",
    "import matplotlib.pyplot as plt\n",
    "import seaborn as sns\n",
    "import plotly.express as px\n",
    "\n",
    "# Define the folder path\n",
    "folder_path_v4 = '../ultra_sonic_sensor/fully_automate/data_v4'\n",
    "# Check if the folder exists and list the files\n",
    "if os.path.exists(folder_path_v4):\n",
    "    # Generate list of file paths\n",
    "    file_paths = [os.path.join(folder_path_v4, file) for file in os.listdir(folder_path_v4) if file.endswith('.csv')]\n",
    "    print(\"List of CSV files:\", file_paths)\n",
    "else:\n",
    "    print(\"Folder not found\")"
   ]
  },
  {
   "cell_type": "code",
   "execution_count": 115,
   "metadata": {},
   "outputs": [],
   "source": [
    "def merge_csv_files(file_paths):\n",
    "    \"\"\"\n",
    "    Merge multiple CSV files into a single DataFrame.\n",
    "\n",
    "    Parameters:\n",
    "    file_paths (list of str): List of file paths to the CSV files.\n",
    "\n",
    "    Returns:\n",
    "    DataFrame: Merged DataFrame containing data from all input CSV files.\n",
    "    \"\"\"\n",
    "    dataframes = []\n",
    "    for file in file_paths:\n",
    "        df = pd.read_csv(file)\n",
    "        dataframes.append(df)\n",
    "\n",
    "    # Concatenate all DataFrames\n",
    "    merged_df = pd.concat(dataframes, ignore_index=True)\n",
    "    \n",
    "    return merged_df"
   ]
  },
  {
   "cell_type": "code",
   "execution_count": 116,
   "metadata": {},
   "outputs": [
    {
     "name": "stderr",
     "output_type": "stream",
     "text": [
      "/var/folders/9b/zsztmz7j6v92l4fdx69q5pxh0000gn/T/ipykernel_13084/3145608613.py:17: FutureWarning: The behavior of DataFrame concatenation with empty or all-NA entries is deprecated. In a future version, this will no longer exclude empty or all-NA columns when determining the result dtypes. To retain the old behavior, exclude the relevant entries before the concat operation.\n",
      "  merged_df = pd.concat(dataframes, ignore_index=True)\n"
     ]
    },
    {
     "data": {
      "text/html": [
       "<div>\n",
       "<style scoped>\n",
       "    .dataframe tbody tr th:only-of-type {\n",
       "        vertical-align: middle;\n",
       "    }\n",
       "\n",
       "    .dataframe tbody tr th {\n",
       "        vertical-align: top;\n",
       "    }\n",
       "\n",
       "    .dataframe thead th {\n",
       "        text-align: right;\n",
       "    }\n",
       "</style>\n",
       "<table border=\"1\" class=\"dataframe\">\n",
       "  <thead>\n",
       "    <tr style=\"text-align: right;\">\n",
       "      <th></th>\n",
       "      <th>Trial</th>\n",
       "      <th>Ping Duration</th>\n",
       "      <th>Distance (cm)</th>\n",
       "      <th>Ping Time (us)</th>\n",
       "      <th>Delay (us)</th>\n",
       "      <th>Steps</th>\n",
       "      <th>Arduino ID</th>\n",
       "      <th>Sensor ID</th>\n",
       "      <th>Range (cm)</th>\n",
       "      <th>Sensor length (cm)</th>\n",
       "      <th>...</th>\n",
       "      <th>Angle on XY plane</th>\n",
       "      <th>side a (cm)</th>\n",
       "      <th>side b (cm)</th>\n",
       "      <th>side c (cm)</th>\n",
       "      <th>Angle on YZ plane</th>\n",
       "      <th>Sensor Configuration</th>\n",
       "      <th>Sensor Angle</th>\n",
       "      <th>Surface material</th>\n",
       "      <th>Surface Length (cm)</th>\n",
       "      <th>Surface Width (cm)</th>\n",
       "    </tr>\n",
       "  </thead>\n",
       "  <tbody>\n",
       "    <tr>\n",
       "      <th>0</th>\n",
       "      <td>0</td>\n",
       "      <td>3964</td>\n",
       "      <td>53.0</td>\n",
       "      <td>3039</td>\n",
       "      <td>16800</td>\n",
       "      <td>0.0</td>\n",
       "      <td>11</td>\n",
       "      <td>3</td>\n",
       "      <td>53</td>\n",
       "      <td>NaN</td>\n",
       "      <td>...</td>\n",
       "      <td>NaN</td>\n",
       "      <td>NaN</td>\n",
       "      <td>NaN</td>\n",
       "      <td>NaN</td>\n",
       "      <td>NaN</td>\n",
       "      <td>NaN</td>\n",
       "      <td>NaN</td>\n",
       "      <td>wood</td>\n",
       "      <td>NaN</td>\n",
       "      <td>NaN</td>\n",
       "    </tr>\n",
       "    <tr>\n",
       "      <th>1</th>\n",
       "      <td>1</td>\n",
       "      <td>3964</td>\n",
       "      <td>53.0</td>\n",
       "      <td>3043</td>\n",
       "      <td>16800</td>\n",
       "      <td>0.0</td>\n",
       "      <td>11</td>\n",
       "      <td>3</td>\n",
       "      <td>53</td>\n",
       "      <td>NaN</td>\n",
       "      <td>...</td>\n",
       "      <td>NaN</td>\n",
       "      <td>NaN</td>\n",
       "      <td>NaN</td>\n",
       "      <td>NaN</td>\n",
       "      <td>NaN</td>\n",
       "      <td>NaN</td>\n",
       "      <td>NaN</td>\n",
       "      <td>wood</td>\n",
       "      <td>NaN</td>\n",
       "      <td>NaN</td>\n",
       "    </tr>\n",
       "    <tr>\n",
       "      <th>2</th>\n",
       "      <td>2</td>\n",
       "      <td>3952</td>\n",
       "      <td>53.0</td>\n",
       "      <td>3035</td>\n",
       "      <td>16800</td>\n",
       "      <td>0.0</td>\n",
       "      <td>11</td>\n",
       "      <td>3</td>\n",
       "      <td>53</td>\n",
       "      <td>NaN</td>\n",
       "      <td>...</td>\n",
       "      <td>NaN</td>\n",
       "      <td>NaN</td>\n",
       "      <td>NaN</td>\n",
       "      <td>NaN</td>\n",
       "      <td>NaN</td>\n",
       "      <td>NaN</td>\n",
       "      <td>NaN</td>\n",
       "      <td>wood</td>\n",
       "      <td>NaN</td>\n",
       "      <td>NaN</td>\n",
       "    </tr>\n",
       "    <tr>\n",
       "      <th>3</th>\n",
       "      <td>3</td>\n",
       "      <td>3956</td>\n",
       "      <td>53.0</td>\n",
       "      <td>3035</td>\n",
       "      <td>16800</td>\n",
       "      <td>0.0</td>\n",
       "      <td>11</td>\n",
       "      <td>3</td>\n",
       "      <td>53</td>\n",
       "      <td>NaN</td>\n",
       "      <td>...</td>\n",
       "      <td>NaN</td>\n",
       "      <td>NaN</td>\n",
       "      <td>NaN</td>\n",
       "      <td>NaN</td>\n",
       "      <td>NaN</td>\n",
       "      <td>NaN</td>\n",
       "      <td>NaN</td>\n",
       "      <td>wood</td>\n",
       "      <td>NaN</td>\n",
       "      <td>NaN</td>\n",
       "    </tr>\n",
       "    <tr>\n",
       "      <th>4</th>\n",
       "      <td>4</td>\n",
       "      <td>3960</td>\n",
       "      <td>53.0</td>\n",
       "      <td>3039</td>\n",
       "      <td>16800</td>\n",
       "      <td>0.0</td>\n",
       "      <td>11</td>\n",
       "      <td>3</td>\n",
       "      <td>53</td>\n",
       "      <td>NaN</td>\n",
       "      <td>...</td>\n",
       "      <td>NaN</td>\n",
       "      <td>NaN</td>\n",
       "      <td>NaN</td>\n",
       "      <td>NaN</td>\n",
       "      <td>NaN</td>\n",
       "      <td>NaN</td>\n",
       "      <td>NaN</td>\n",
       "      <td>wood</td>\n",
       "      <td>NaN</td>\n",
       "      <td>NaN</td>\n",
       "    </tr>\n",
       "    <tr>\n",
       "      <th>...</th>\n",
       "      <td>...</td>\n",
       "      <td>...</td>\n",
       "      <td>...</td>\n",
       "      <td>...</td>\n",
       "      <td>...</td>\n",
       "      <td>...</td>\n",
       "      <td>...</td>\n",
       "      <td>...</td>\n",
       "      <td>...</td>\n",
       "      <td>...</td>\n",
       "      <td>...</td>\n",
       "      <td>...</td>\n",
       "      <td>...</td>\n",
       "      <td>...</td>\n",
       "      <td>...</td>\n",
       "      <td>...</td>\n",
       "      <td>...</td>\n",
       "      <td>...</td>\n",
       "      <td>...</td>\n",
       "      <td>...</td>\n",
       "      <td>...</td>\n",
       "    </tr>\n",
       "    <tr>\n",
       "      <th>73395</th>\n",
       "      <td>95</td>\n",
       "      <td>11004</td>\n",
       "      <td>12.0</td>\n",
       "      <td>739</td>\n",
       "      <td>8000</td>\n",
       "      <td>10480.0</td>\n",
       "      <td>1</td>\n",
       "      <td>1</td>\n",
       "      <td>13</td>\n",
       "      <td>NaN</td>\n",
       "      <td>...</td>\n",
       "      <td>NaN</td>\n",
       "      <td>NaN</td>\n",
       "      <td>NaN</td>\n",
       "      <td>NaN</td>\n",
       "      <td>NaN</td>\n",
       "      <td>NaN</td>\n",
       "      <td>NaN</td>\n",
       "      <td>wood</td>\n",
       "      <td>NaN</td>\n",
       "      <td>NaN</td>\n",
       "    </tr>\n",
       "    <tr>\n",
       "      <th>73396</th>\n",
       "      <td>96</td>\n",
       "      <td>11012</td>\n",
       "      <td>12.0</td>\n",
       "      <td>735</td>\n",
       "      <td>8000</td>\n",
       "      <td>10480.0</td>\n",
       "      <td>1</td>\n",
       "      <td>1</td>\n",
       "      <td>13</td>\n",
       "      <td>NaN</td>\n",
       "      <td>...</td>\n",
       "      <td>NaN</td>\n",
       "      <td>NaN</td>\n",
       "      <td>NaN</td>\n",
       "      <td>NaN</td>\n",
       "      <td>NaN</td>\n",
       "      <td>NaN</td>\n",
       "      <td>NaN</td>\n",
       "      <td>wood</td>\n",
       "      <td>NaN</td>\n",
       "      <td>NaN</td>\n",
       "    </tr>\n",
       "    <tr>\n",
       "      <th>73397</th>\n",
       "      <td>97</td>\n",
       "      <td>11008</td>\n",
       "      <td>12.0</td>\n",
       "      <td>739</td>\n",
       "      <td>8000</td>\n",
       "      <td>10480.0</td>\n",
       "      <td>1</td>\n",
       "      <td>1</td>\n",
       "      <td>13</td>\n",
       "      <td>NaN</td>\n",
       "      <td>...</td>\n",
       "      <td>NaN</td>\n",
       "      <td>NaN</td>\n",
       "      <td>NaN</td>\n",
       "      <td>NaN</td>\n",
       "      <td>NaN</td>\n",
       "      <td>NaN</td>\n",
       "      <td>NaN</td>\n",
       "      <td>wood</td>\n",
       "      <td>NaN</td>\n",
       "      <td>NaN</td>\n",
       "    </tr>\n",
       "    <tr>\n",
       "      <th>73398</th>\n",
       "      <td>98</td>\n",
       "      <td>11012</td>\n",
       "      <td>12.0</td>\n",
       "      <td>739</td>\n",
       "      <td>8000</td>\n",
       "      <td>10480.0</td>\n",
       "      <td>1</td>\n",
       "      <td>1</td>\n",
       "      <td>13</td>\n",
       "      <td>NaN</td>\n",
       "      <td>...</td>\n",
       "      <td>NaN</td>\n",
       "      <td>NaN</td>\n",
       "      <td>NaN</td>\n",
       "      <td>NaN</td>\n",
       "      <td>NaN</td>\n",
       "      <td>NaN</td>\n",
       "      <td>NaN</td>\n",
       "      <td>wood</td>\n",
       "      <td>NaN</td>\n",
       "      <td>NaN</td>\n",
       "    </tr>\n",
       "    <tr>\n",
       "      <th>73399</th>\n",
       "      <td>99</td>\n",
       "      <td>11004</td>\n",
       "      <td>12.0</td>\n",
       "      <td>739</td>\n",
       "      <td>8000</td>\n",
       "      <td>10480.0</td>\n",
       "      <td>1</td>\n",
       "      <td>1</td>\n",
       "      <td>13</td>\n",
       "      <td>NaN</td>\n",
       "      <td>...</td>\n",
       "      <td>NaN</td>\n",
       "      <td>NaN</td>\n",
       "      <td>NaN</td>\n",
       "      <td>NaN</td>\n",
       "      <td>NaN</td>\n",
       "      <td>NaN</td>\n",
       "      <td>NaN</td>\n",
       "      <td>wood</td>\n",
       "      <td>NaN</td>\n",
       "      <td>NaN</td>\n",
       "    </tr>\n",
       "  </tbody>\n",
       "</table>\n",
       "<p>73400 rows × 21 columns</p>\n",
       "</div>"
      ],
      "text/plain": [
       "      Trial Ping Duration  Distance (cm) Ping Time (us) Delay (us)    Steps  \\\n",
       "0         0          3964           53.0           3039      16800      0.0   \n",
       "1         1          3964           53.0           3043      16800      0.0   \n",
       "2         2          3952           53.0           3035      16800      0.0   \n",
       "3         3          3956           53.0           3035      16800      0.0   \n",
       "4         4          3960           53.0           3039      16800      0.0   \n",
       "...     ...           ...            ...            ...        ...      ...   \n",
       "73395    95         11004           12.0            739       8000  10480.0   \n",
       "73396    96         11012           12.0            735       8000  10480.0   \n",
       "73397    97         11008           12.0            739       8000  10480.0   \n",
       "73398    98         11012           12.0            739       8000  10480.0   \n",
       "73399    99         11004           12.0            739       8000  10480.0   \n",
       "\n",
       "      Arduino ID Sensor ID Range (cm) Sensor length (cm)  ...  \\\n",
       "0             11         3         53                NaN  ...   \n",
       "1             11         3         53                NaN  ...   \n",
       "2             11         3         53                NaN  ...   \n",
       "3             11         3         53                NaN  ...   \n",
       "4             11         3         53                NaN  ...   \n",
       "...          ...       ...        ...                ...  ...   \n",
       "73395          1         1         13                NaN  ...   \n",
       "73396          1         1         13                NaN  ...   \n",
       "73397          1         1         13                NaN  ...   \n",
       "73398          1         1         13                NaN  ...   \n",
       "73399          1         1         13                NaN  ...   \n",
       "\n",
       "      Angle on XY plane side a (cm) side b (cm) side c (cm) Angle on YZ plane  \\\n",
       "0                   NaN         NaN         NaN         NaN               NaN   \n",
       "1                   NaN         NaN         NaN         NaN               NaN   \n",
       "2                   NaN         NaN         NaN         NaN               NaN   \n",
       "3                   NaN         NaN         NaN         NaN               NaN   \n",
       "4                   NaN         NaN         NaN         NaN               NaN   \n",
       "...                 ...         ...         ...         ...               ...   \n",
       "73395               NaN         NaN         NaN         NaN               NaN   \n",
       "73396               NaN         NaN         NaN         NaN               NaN   \n",
       "73397               NaN         NaN         NaN         NaN               NaN   \n",
       "73398               NaN         NaN         NaN         NaN               NaN   \n",
       "73399               NaN         NaN         NaN         NaN               NaN   \n",
       "\n",
       "      Sensor Configuration Sensor Angle Surface material Surface Length (cm)  \\\n",
       "0                      NaN          NaN             wood                 NaN   \n",
       "1                      NaN          NaN             wood                 NaN   \n",
       "2                      NaN          NaN             wood                 NaN   \n",
       "3                      NaN          NaN             wood                 NaN   \n",
       "4                      NaN          NaN             wood                 NaN   \n",
       "...                    ...          ...              ...                 ...   \n",
       "73395                  NaN          NaN             wood                 NaN   \n",
       "73396                  NaN          NaN             wood                 NaN   \n",
       "73397                  NaN          NaN             wood                 NaN   \n",
       "73398                  NaN          NaN             wood                 NaN   \n",
       "73399                  NaN          NaN             wood                 NaN   \n",
       "\n",
       "      Surface Width (cm)  \n",
       "0                    NaN  \n",
       "1                    NaN  \n",
       "2                    NaN  \n",
       "3                    NaN  \n",
       "4                    NaN  \n",
       "...                  ...  \n",
       "73395                NaN  \n",
       "73396                NaN  \n",
       "73397                NaN  \n",
       "73398                NaN  \n",
       "73399                NaN  \n",
       "\n",
       "[73400 rows x 21 columns]"
      ]
     },
     "execution_count": 116,
     "metadata": {},
     "output_type": "execute_result"
    }
   ],
   "source": [
    "# Merge CSV files\n",
    "df_datav4 = merge_csv_files(file_paths)\n",
    "df_datav4"
   ]
  },
  {
   "cell_type": "code",
   "execution_count": 117,
   "metadata": {},
   "outputs": [],
   "source": [
    "# Export to CSV\n",
    "#df_datav4.to_csv(folder_path_v4+'data_merged_w_Nan.csv', index=False)"
   ]
  },
  {
   "cell_type": "markdown",
   "metadata": {},
   "source": [
    "## Import data"
   ]
  },
  {
   "cell_type": "markdown",
   "metadata": {},
   "source": [
    "Currently there are 20 sensor datas."
   ]
  },
  {
   "cell_type": "code",
   "execution_count": 118,
   "metadata": {},
   "outputs": [
    {
     "name": "stdout",
     "output_type": "stream",
     "text": [
      "List of CSV files: ['../ultra_sonic_sensor/fully_automate/data_v4/test_seq_ard1_sensor3_13_47_48_27062024.csv', '../ultra_sonic_sensor/fully_automate/data_v4/test_seq_ard1_sensor3_13_52_41_27062024.csv', '../ultra_sonic_sensor/fully_automate/data_v4/test_seq_ard1_sensor6_14_30_37_27062024.csv', '../ultra_sonic_sensor/fully_automate/data_v4/test_seq_ard1_sensor4_14_08_42_27062024.csv', '../ultra_sonic_sensor/fully_automate/data_v4/test_delay_seq_ard\\\\_sensor_range_12_35_37_09072024.csv', '../ultra_sonic_sensor/fully_automate/data_v4/test_seq_ard1_sensor4_14_01_09_27062024.csv', '../ultra_sonic_sensor/fully_automate/data_v4/test_seq_ard1_sensor3_13_55_01_27062024.csv', '../ultra_sonic_sensor/fully_automate/data_v4/data_v4data_merged_w_Nan.csv', '../ultra_sonic_sensor/fully_automate/data_v4/test_seq_ard1_sensor1_13_05_40_27062024.csv', '../ultra_sonic_sensor/fully_automate/data_v4/test_seq_ard1_sensor2_13_24_59_27062024.csv', '../ultra_sonic_sensor/fully_automate/data_v4/test_seq_ard1_sensor4_14_06_20_27062024.csv', '../ultra_sonic_sensor/fully_automate/data_v4/test_seq_ard1_sensor2_13_18_12_27062024.csv', '../ultra_sonic_sensor/fully_automate/data_v4/test_seq_ard1_sensor4_14_04_31_27062024.csv', '../ultra_sonic_sensor/fully_automate/data_v4/test_seq_ard1_sensor5_14_16_12_27062024.csv', '../ultra_sonic_sensor/fully_automate/data_v4/test_seq_ard1_sensor6_14_39_01_27062024.csv', '../ultra_sonic_sensor/fully_automate/data_v4/test_seq_ard1_sensor2_13_20_17_27062024.csv', '../ultra_sonic_sensor/fully_automate/data_v4/test_seq_ard1_sensor5_14_18_08_27062024.csv', '../ultra_sonic_sensor/fully_automate/data_v4/test_seq_ard1_sensor3_13_51_00_27062024.csv', '../ultra_sonic_sensor/fully_automate/data_v4/test_seq_ard1_sensor1_11_05_36_27062024.csv', '../ultra_sonic_sensor/fully_automate/data_v4/test_seq_ard1_sensor6_14_34_36_27062024.csv', '../ultra_sonic_sensor/fully_automate/data_v4/test_seq_ard1_sensor5_14_21_36_27062024.csv', '../ultra_sonic_sensor/fully_automate/data_v4/test_seq_ard1_sensor3_13_49_18_27062024.csv', '../ultra_sonic_sensor/fully_automate/data_v4/test_seq_ard1_sensor5_14_12_29_27062024.csv', '../ultra_sonic_sensor/fully_automate/data_v4/test_seq_ard1_sensor2_13_28_31_27062024.csv', '../ultra_sonic_sensor/fully_automate/data_v4/test_seq_ard1_sensor4_14_10_12_27062024.csv', '../ultra_sonic_sensor/fully_automate/data_v4/test_delay_seq_ard_sensor_range_12_34_05_09072024.csv', '../ultra_sonic_sensor/fully_automate/data_v4/test_delay_seq_ard_sensor_range_12_34_50_09072024.csv', '../ultra_sonic_sensor/fully_automate/data_v4/test_seq_ard1_sensor5_14_19_44_27062024.csv', '../ultra_sonic_sensor/fully_automate/data_v4/test_seq_ard1_sensor2_13_22_45_27062024.csv', '../ultra_sonic_sensor/fully_automate/data_v4/test_seq_ard1_sensor1_13_08_46_27062024.csv', '../ultra_sonic_sensor/fully_automate/data_v4/test_seq_ard1_sensor1_11_10_16_27062024.csv', '../ultra_sonic_sensor/fully_automate/data_v4/test_seq_ard1_sensor6_14_26_02_27062024.csv', '../ultra_sonic_sensor/fully_automate/data_v4/test_seq_ard1_sensor6_14_37_03_27062024.csv', '../ultra_sonic_sensor/fully_automate/data_v4/test_seq_ard1_sensor1_11_14_19_27062024.csv']\n"
     ]
    }
   ],
   "source": [
    "folder_path_v4_1 = '../ultra_sonic_sensor/fully_automate/data_v4.1'\n",
    "# Check if the folder exists and list the files\n",
    "if os.path.exists(folder_path_v4_1):\n",
    "    # Generate list of file paths\n",
    "    file_paths_v4_1 = [os.path.join(folder_path_v4_1, file) for file in os.listdir(folder_path_v4_1) if file.endswith('.csv')]\n",
    "    print(\"List of CSV files:\", file_paths)\n",
    "else:\n",
    "    print(\"Folder not found\")"
   ]
  },
  {
   "cell_type": "code",
   "execution_count": 119,
   "metadata": {},
   "outputs": [
    {
     "data": {
      "text/html": [
       "<div>\n",
       "<style scoped>\n",
       "    .dataframe tbody tr th:only-of-type {\n",
       "        vertical-align: middle;\n",
       "    }\n",
       "\n",
       "    .dataframe tbody tr th {\n",
       "        vertical-align: top;\n",
       "    }\n",
       "\n",
       "    .dataframe thead th {\n",
       "        text-align: right;\n",
       "    }\n",
       "</style>\n",
       "<table border=\"1\" class=\"dataframe\">\n",
       "  <thead>\n",
       "    <tr style=\"text-align: right;\">\n",
       "      <th></th>\n",
       "      <th>Trial</th>\n",
       "      <th>Ping Duration</th>\n",
       "      <th>Distance (cm)</th>\n",
       "      <th>Ping Time (us)</th>\n",
       "      <th>Delay (us)</th>\n",
       "      <th>Steps</th>\n",
       "      <th>Arduino ID</th>\n",
       "      <th>Sensor ID</th>\n",
       "      <th>Range (cm)</th>\n",
       "      <th>Sensor length (cm)</th>\n",
       "      <th>...</th>\n",
       "      <th>Angle on XY plane</th>\n",
       "      <th>side a (cm)</th>\n",
       "      <th>side b (cm)</th>\n",
       "      <th>side c (cm)</th>\n",
       "      <th>Angle on YZ plane</th>\n",
       "      <th>Sensor Configuration</th>\n",
       "      <th>Sensor Angle</th>\n",
       "      <th>Surface material</th>\n",
       "      <th>Surface Length (cm)</th>\n",
       "      <th>Surface Width (cm)</th>\n",
       "    </tr>\n",
       "  </thead>\n",
       "  <tbody>\n",
       "    <tr>\n",
       "      <th>0</th>\n",
       "      <td>0</td>\n",
       "      <td>13364</td>\n",
       "      <td>52</td>\n",
       "      <td>3007</td>\n",
       "      <td>8000</td>\n",
       "      <td>0</td>\n",
       "      <td>1</td>\n",
       "      <td>15</td>\n",
       "      <td>53</td>\n",
       "      <td>0.8</td>\n",
       "      <td>...</td>\n",
       "      <td>0</td>\n",
       "      <td>18.3</td>\n",
       "      <td>18.3</td>\n",
       "      <td>0</td>\n",
       "      <td>0</td>\n",
       "      <td>HTR</td>\n",
       "      <td>90</td>\n",
       "      <td>wood</td>\n",
       "      <td>31</td>\n",
       "      <td>30.5</td>\n",
       "    </tr>\n",
       "    <tr>\n",
       "      <th>1</th>\n",
       "      <td>1</td>\n",
       "      <td>13368</td>\n",
       "      <td>52</td>\n",
       "      <td>3007</td>\n",
       "      <td>8000</td>\n",
       "      <td>0</td>\n",
       "      <td>1</td>\n",
       "      <td>15</td>\n",
       "      <td>53</td>\n",
       "      <td>0.8</td>\n",
       "      <td>...</td>\n",
       "      <td>0</td>\n",
       "      <td>18.3</td>\n",
       "      <td>18.3</td>\n",
       "      <td>0</td>\n",
       "      <td>0</td>\n",
       "      <td>HTR</td>\n",
       "      <td>90</td>\n",
       "      <td>wood</td>\n",
       "      <td>31</td>\n",
       "      <td>30.5</td>\n",
       "    </tr>\n",
       "    <tr>\n",
       "      <th>2</th>\n",
       "      <td>2</td>\n",
       "      <td>13300</td>\n",
       "      <td>52</td>\n",
       "      <td>3003</td>\n",
       "      <td>8000</td>\n",
       "      <td>0</td>\n",
       "      <td>1</td>\n",
       "      <td>15</td>\n",
       "      <td>53</td>\n",
       "      <td>0.8</td>\n",
       "      <td>...</td>\n",
       "      <td>0</td>\n",
       "      <td>18.3</td>\n",
       "      <td>18.3</td>\n",
       "      <td>0</td>\n",
       "      <td>0</td>\n",
       "      <td>HTR</td>\n",
       "      <td>90</td>\n",
       "      <td>wood</td>\n",
       "      <td>31</td>\n",
       "      <td>30.5</td>\n",
       "    </tr>\n",
       "    <tr>\n",
       "      <th>3</th>\n",
       "      <td>3</td>\n",
       "      <td>13304</td>\n",
       "      <td>52</td>\n",
       "      <td>3003</td>\n",
       "      <td>8000</td>\n",
       "      <td>0</td>\n",
       "      <td>1</td>\n",
       "      <td>15</td>\n",
       "      <td>53</td>\n",
       "      <td>0.8</td>\n",
       "      <td>...</td>\n",
       "      <td>0</td>\n",
       "      <td>18.3</td>\n",
       "      <td>18.3</td>\n",
       "      <td>0</td>\n",
       "      <td>0</td>\n",
       "      <td>HTR</td>\n",
       "      <td>90</td>\n",
       "      <td>wood</td>\n",
       "      <td>31</td>\n",
       "      <td>30.5</td>\n",
       "    </tr>\n",
       "    <tr>\n",
       "      <th>4</th>\n",
       "      <td>4</td>\n",
       "      <td>13304</td>\n",
       "      <td>52</td>\n",
       "      <td>3003</td>\n",
       "      <td>8000</td>\n",
       "      <td>0</td>\n",
       "      <td>1</td>\n",
       "      <td>15</td>\n",
       "      <td>53</td>\n",
       "      <td>0.8</td>\n",
       "      <td>...</td>\n",
       "      <td>0</td>\n",
       "      <td>18.3</td>\n",
       "      <td>18.3</td>\n",
       "      <td>0</td>\n",
       "      <td>0</td>\n",
       "      <td>HTR</td>\n",
       "      <td>90</td>\n",
       "      <td>wood</td>\n",
       "      <td>31</td>\n",
       "      <td>30.5</td>\n",
       "    </tr>\n",
       "    <tr>\n",
       "      <th>...</th>\n",
       "      <td>...</td>\n",
       "      <td>...</td>\n",
       "      <td>...</td>\n",
       "      <td>...</td>\n",
       "      <td>...</td>\n",
       "      <td>...</td>\n",
       "      <td>...</td>\n",
       "      <td>...</td>\n",
       "      <td>...</td>\n",
       "      <td>...</td>\n",
       "      <td>...</td>\n",
       "      <td>...</td>\n",
       "      <td>...</td>\n",
       "      <td>...</td>\n",
       "      <td>...</td>\n",
       "      <td>...</td>\n",
       "      <td>...</td>\n",
       "      <td>...</td>\n",
       "      <td>...</td>\n",
       "      <td>...</td>\n",
       "      <td>...</td>\n",
       "    </tr>\n",
       "    <tr>\n",
       "      <th>119995</th>\n",
       "      <td>95</td>\n",
       "      <td>9100</td>\n",
       "      <td>14</td>\n",
       "      <td>815</td>\n",
       "      <td>6000</td>\n",
       "      <td>10480</td>\n",
       "      <td>1</td>\n",
       "      <td>15</td>\n",
       "      <td>13</td>\n",
       "      <td>0.8</td>\n",
       "      <td>...</td>\n",
       "      <td>0</td>\n",
       "      <td>18.3</td>\n",
       "      <td>18.3</td>\n",
       "      <td>0</td>\n",
       "      <td>0</td>\n",
       "      <td>HTR</td>\n",
       "      <td>90</td>\n",
       "      <td>wood</td>\n",
       "      <td>31</td>\n",
       "      <td>30.5</td>\n",
       "    </tr>\n",
       "    <tr>\n",
       "      <th>119996</th>\n",
       "      <td>96</td>\n",
       "      <td>9100</td>\n",
       "      <td>14</td>\n",
       "      <td>815</td>\n",
       "      <td>6000</td>\n",
       "      <td>10480</td>\n",
       "      <td>1</td>\n",
       "      <td>15</td>\n",
       "      <td>13</td>\n",
       "      <td>0.8</td>\n",
       "      <td>...</td>\n",
       "      <td>0</td>\n",
       "      <td>18.3</td>\n",
       "      <td>18.3</td>\n",
       "      <td>0</td>\n",
       "      <td>0</td>\n",
       "      <td>HTR</td>\n",
       "      <td>90</td>\n",
       "      <td>wood</td>\n",
       "      <td>31</td>\n",
       "      <td>30.5</td>\n",
       "    </tr>\n",
       "    <tr>\n",
       "      <th>119997</th>\n",
       "      <td>97</td>\n",
       "      <td>9100</td>\n",
       "      <td>14</td>\n",
       "      <td>815</td>\n",
       "      <td>6000</td>\n",
       "      <td>10480</td>\n",
       "      <td>1</td>\n",
       "      <td>15</td>\n",
       "      <td>13</td>\n",
       "      <td>0.8</td>\n",
       "      <td>...</td>\n",
       "      <td>0</td>\n",
       "      <td>18.3</td>\n",
       "      <td>18.3</td>\n",
       "      <td>0</td>\n",
       "      <td>0</td>\n",
       "      <td>HTR</td>\n",
       "      <td>90</td>\n",
       "      <td>wood</td>\n",
       "      <td>31</td>\n",
       "      <td>30.5</td>\n",
       "    </tr>\n",
       "    <tr>\n",
       "      <th>119998</th>\n",
       "      <td>98</td>\n",
       "      <td>9104</td>\n",
       "      <td>14</td>\n",
       "      <td>811</td>\n",
       "      <td>6000</td>\n",
       "      <td>10480</td>\n",
       "      <td>1</td>\n",
       "      <td>15</td>\n",
       "      <td>13</td>\n",
       "      <td>0.8</td>\n",
       "      <td>...</td>\n",
       "      <td>0</td>\n",
       "      <td>18.3</td>\n",
       "      <td>18.3</td>\n",
       "      <td>0</td>\n",
       "      <td>0</td>\n",
       "      <td>HTR</td>\n",
       "      <td>90</td>\n",
       "      <td>wood</td>\n",
       "      <td>31</td>\n",
       "      <td>30.5</td>\n",
       "    </tr>\n",
       "    <tr>\n",
       "      <th>119999</th>\n",
       "      <td>99</td>\n",
       "      <td>9100</td>\n",
       "      <td>14</td>\n",
       "      <td>811</td>\n",
       "      <td>6000</td>\n",
       "      <td>10480</td>\n",
       "      <td>1</td>\n",
       "      <td>15</td>\n",
       "      <td>13</td>\n",
       "      <td>0.8</td>\n",
       "      <td>...</td>\n",
       "      <td>0</td>\n",
       "      <td>18.3</td>\n",
       "      <td>18.3</td>\n",
       "      <td>0</td>\n",
       "      <td>0</td>\n",
       "      <td>HTR</td>\n",
       "      <td>90</td>\n",
       "      <td>wood</td>\n",
       "      <td>31</td>\n",
       "      <td>30.5</td>\n",
       "    </tr>\n",
       "  </tbody>\n",
       "</table>\n",
       "<p>120000 rows × 21 columns</p>\n",
       "</div>"
      ],
      "text/plain": [
       "        Trial  Ping Duration  Distance (cm)  Ping Time (us)  Delay (us)  \\\n",
       "0           0          13364             52            3007        8000   \n",
       "1           1          13368             52            3007        8000   \n",
       "2           2          13300             52            3003        8000   \n",
       "3           3          13304             52            3003        8000   \n",
       "4           4          13304             52            3003        8000   \n",
       "...       ...            ...            ...             ...         ...   \n",
       "119995     95           9100             14             815        6000   \n",
       "119996     96           9100             14             815        6000   \n",
       "119997     97           9100             14             815        6000   \n",
       "119998     98           9104             14             811        6000   \n",
       "119999     99           9100             14             811        6000   \n",
       "\n",
       "        Steps  Arduino ID  Sensor ID  Range (cm)  Sensor length (cm)  ...  \\\n",
       "0           0           1         15          53                 0.8  ...   \n",
       "1           0           1         15          53                 0.8  ...   \n",
       "2           0           1         15          53                 0.8  ...   \n",
       "3           0           1         15          53                 0.8  ...   \n",
       "4           0           1         15          53                 0.8  ...   \n",
       "...       ...         ...        ...         ...                 ...  ...   \n",
       "119995  10480           1         15          13                 0.8  ...   \n",
       "119996  10480           1         15          13                 0.8  ...   \n",
       "119997  10480           1         15          13                 0.8  ...   \n",
       "119998  10480           1         15          13                 0.8  ...   \n",
       "119999  10480           1         15          13                 0.8  ...   \n",
       "\n",
       "       Angle on XY plane  side a (cm)  side b (cm)  side c (cm)  \\\n",
       "0                      0         18.3         18.3            0   \n",
       "1                      0         18.3         18.3            0   \n",
       "2                      0         18.3         18.3            0   \n",
       "3                      0         18.3         18.3            0   \n",
       "4                      0         18.3         18.3            0   \n",
       "...                  ...          ...          ...          ...   \n",
       "119995                 0         18.3         18.3            0   \n",
       "119996                 0         18.3         18.3            0   \n",
       "119997                 0         18.3         18.3            0   \n",
       "119998                 0         18.3         18.3            0   \n",
       "119999                 0         18.3         18.3            0   \n",
       "\n",
       "        Angle on YZ plane  Sensor Configuration Sensor Angle  \\\n",
       "0                       0                   HTR           90   \n",
       "1                       0                   HTR           90   \n",
       "2                       0                   HTR           90   \n",
       "3                       0                   HTR           90   \n",
       "4                       0                   HTR           90   \n",
       "...                   ...                   ...          ...   \n",
       "119995                  0                   HTR           90   \n",
       "119996                  0                   HTR           90   \n",
       "119997                  0                   HTR           90   \n",
       "119998                  0                   HTR           90   \n",
       "119999                  0                   HTR           90   \n",
       "\n",
       "        Surface material Surface Length (cm)  Surface Width (cm)  \n",
       "0                   wood                  31                30.5  \n",
       "1                   wood                  31                30.5  \n",
       "2                   wood                  31                30.5  \n",
       "3                   wood                  31                30.5  \n",
       "4                   wood                  31                30.5  \n",
       "...                  ...                 ...                 ...  \n",
       "119995              wood                  31                30.5  \n",
       "119996              wood                  31                30.5  \n",
       "119997              wood                  31                30.5  \n",
       "119998              wood                  31                30.5  \n",
       "119999              wood                  31                30.5  \n",
       "\n",
       "[120000 rows x 21 columns]"
      ]
     },
     "execution_count": 119,
     "metadata": {},
     "output_type": "execute_result"
    }
   ],
   "source": [
    "# Merge CSV files\n",
    "df_20 = merge_csv_files(file_paths_v4_1)\n",
    "df_20"
   ]
  },
  {
   "cell_type": "code",
   "execution_count": 120,
   "metadata": {},
   "outputs": [
    {
     "data": {
      "text/plain": [
       "array(['b', 'g', 'bv'], dtype=object)"
      ]
     },
     "execution_count": 120,
     "metadata": {},
     "output_type": "execute_result"
    }
   ],
   "source": [
    "df_20[\"Color of sensor\"].unique()"
   ]
  },
  {
   "cell_type": "markdown",
   "metadata": {},
   "source": [
    "## IQR based feature engineering: Range_delay"
   ]
  },
  {
   "cell_type": "markdown",
   "metadata": {},
   "source": [
    "Helper codes"
   ]
  },
  {
   "cell_type": "code",
   "execution_count": 121,
   "metadata": {},
   "outputs": [],
   "source": [
    "def identify_and_remove_outliers(df, column):\n",
    "    Q1 = df[column].quantile(0.25)\n",
    "    Q3 = df[column].quantile(0.75)\n",
    "    IQR = Q3 - Q1\n",
    "    lower_bound = Q1 - 1.5 * IQR\n",
    "    upper_bound = Q3 + 1.5 * IQR\n",
    "    df_no_outliers = df[(df[column] >= lower_bound) & (df[column] <= upper_bound)]\n",
    "    df_outliers_lower = df[(df[column] <= lower_bound)]\n",
    "    df_outliers_upper = df[(df[column] >= upper_bound)]\n",
    "    return df_no_outliers,df_outliers_lower,df_outliers_upper"
   ]
  },
  {
   "cell_type": "code",
   "execution_count": 122,
   "metadata": {},
   "outputs": [],
   "source": [
    "def split_quartiles(df):\n",
    "    # Group the data by 'Sensor ID', 'Delay (us)', and 'Range (cm)'\n",
    "    df_copy = df.copy()\n",
    "    grouped = df_copy.groupby(['Sensor ID', 'Delay (us)', 'Range (cm)'])\n",
    "\n",
    "    # Identify and remove outliers for each group\n",
    "    middle_quartile = []\n",
    "    lower_quartile = []\n",
    "    upper_quartile = []\n",
    "\n",
    "    for name, group in grouped:\n",
    "        cleaned_group = group.copy()\n",
    "        for column in ['Ping Time (us)']:\n",
    "            middle_quartile_group,lower_quartile_group,upper_quartile_group = identify_and_remove_outliers(cleaned_group, column)\n",
    "        middle_quartile.append(middle_quartile_group)\n",
    "        lower_quartile.append(lower_quartile_group)\n",
    "        upper_quartile.append(upper_quartile_group)\n",
    "    # Combine the cleaned groups into a single DataFrame\n",
    "    df_middle_quartile= pd.concat(middle_quartile)\n",
    "    df_lower_quartile = pd.concat(lower_quartile)\n",
    "    df_upper_quartile = pd.concat(upper_quartile)\n",
    "    \n",
    "    return df_middle_quartile, df_lower_quartile, df_upper_quartile"
   ]
  },
  {
   "cell_type": "code",
   "execution_count": 123,
   "metadata": {},
   "outputs": [],
   "source": [
    "def create_range_delay_feature(df_quartile,bound):\n",
    "    # Step 1: Group and calculate mean\n",
    "    df_grouped = df_quartile.groupby(['Sensor ID', 'Range (cm)', 'Delay (us)'])['Ping Time (us)'].mean().reset_index()\n",
    "\n",
    "    # Step 2: Create `range_delay` column\n",
    "    df_grouped['range_delay'] = df_grouped['Range (cm)'].astype(str) + '_' + df_grouped['Delay (us)'].astype(str)+'_'+bound\n",
    "\n",
    "    # Step 3: Pivot the table\n",
    "    df_pivot = df_grouped.pivot(index='Sensor ID', columns='range_delay', values='Ping Time (us)').reset_index()\n",
    "    \n",
    "    return df_pivot"
   ]
  },
  {
   "cell_type": "code",
   "execution_count": 124,
   "metadata": {},
   "outputs": [],
   "source": [
    "df_middle_quartile, df_lower_quartile, df_upper_quartile = split_quartiles(df_20)"
   ]
  },
  {
   "cell_type": "code",
   "execution_count": 125,
   "metadata": {},
   "outputs": [
    {
     "data": {
      "text/html": [
       "<div>\n",
       "<style scoped>\n",
       "    .dataframe tbody tr th:only-of-type {\n",
       "        vertical-align: middle;\n",
       "    }\n",
       "\n",
       "    .dataframe tbody tr th {\n",
       "        vertical-align: top;\n",
       "    }\n",
       "\n",
       "    .dataframe thead th {\n",
       "        text-align: right;\n",
       "    }\n",
       "</style>\n",
       "<table border=\"1\" class=\"dataframe\">\n",
       "  <thead>\n",
       "    <tr style=\"text-align: right;\">\n",
       "      <th></th>\n",
       "      <th>Range (cm)</th>\n",
       "      <th>Delay (us)</th>\n",
       "      <th>Ping Time (us)</th>\n",
       "    </tr>\n",
       "    <tr>\n",
       "      <th>Sensor ID</th>\n",
       "      <th></th>\n",
       "      <th></th>\n",
       "      <th></th>\n",
       "    </tr>\n",
       "  </thead>\n",
       "  <tbody>\n",
       "    <tr>\n",
       "      <th>1</th>\n",
       "      <td>13</td>\n",
       "      <td>3000</td>\n",
       "      <td>883.000000</td>\n",
       "    </tr>\n",
       "    <tr>\n",
       "      <th>1</th>\n",
       "      <td>13</td>\n",
       "      <td>6000</td>\n",
       "      <td>755.000000</td>\n",
       "    </tr>\n",
       "    <tr>\n",
       "      <th>1</th>\n",
       "      <td>13</td>\n",
       "      <td>8000</td>\n",
       "      <td>737.454545</td>\n",
       "    </tr>\n",
       "    <tr>\n",
       "      <th>1</th>\n",
       "      <td>13</td>\n",
       "      <td>10000</td>\n",
       "      <td>773.046512</td>\n",
       "    </tr>\n",
       "    <tr>\n",
       "      <th>1</th>\n",
       "      <td>13</td>\n",
       "      <td>16800</td>\n",
       "      <td>797.360000</td>\n",
       "    </tr>\n",
       "    <tr>\n",
       "      <th>...</th>\n",
       "      <td>...</td>\n",
       "      <td>...</td>\n",
       "      <td>...</td>\n",
       "    </tr>\n",
       "    <tr>\n",
       "      <th>20</th>\n",
       "      <td>53</td>\n",
       "      <td>3000</td>\n",
       "      <td>3140.890110</td>\n",
       "    </tr>\n",
       "    <tr>\n",
       "      <th>20</th>\n",
       "      <td>53</td>\n",
       "      <td>6000</td>\n",
       "      <td>3126.126437</td>\n",
       "    </tr>\n",
       "    <tr>\n",
       "      <th>20</th>\n",
       "      <td>53</td>\n",
       "      <td>8000</td>\n",
       "      <td>3095.163265</td>\n",
       "    </tr>\n",
       "    <tr>\n",
       "      <th>20</th>\n",
       "      <td>53</td>\n",
       "      <td>10000</td>\n",
       "      <td>3075.155844</td>\n",
       "    </tr>\n",
       "    <tr>\n",
       "      <th>20</th>\n",
       "      <td>53</td>\n",
       "      <td>16800</td>\n",
       "      <td>3108.040000</td>\n",
       "    </tr>\n",
       "  </tbody>\n",
       "</table>\n",
       "<p>1200 rows × 3 columns</p>\n",
       "</div>"
      ],
      "text/plain": [
       "           Range (cm)  Delay (us)  Ping Time (us)\n",
       "Sensor ID                                        \n",
       "1                  13        3000      883.000000\n",
       "1                  13        6000      755.000000\n",
       "1                  13        8000      737.454545\n",
       "1                  13       10000      773.046512\n",
       "1                  13       16800      797.360000\n",
       "...               ...         ...             ...\n",
       "20                 53        3000     3140.890110\n",
       "20                 53        6000     3126.126437\n",
       "20                 53        8000     3095.163265\n",
       "20                 53       10000     3075.155844\n",
       "20                 53       16800     3108.040000\n",
       "\n",
       "[1200 rows x 3 columns]"
      ]
     },
     "execution_count": 125,
     "metadata": {},
     "output_type": "execute_result"
    }
   ],
   "source": [
    "df_middle_quartile.groupby(['Sensor ID','Range (cm)', 'Delay (us)'])['Ping Time (us)'].mean().reset_index([\"Delay (us)\",\"Range (cm)\"])"
   ]
  },
  {
   "cell_type": "code",
   "execution_count": 126,
   "metadata": {},
   "outputs": [
    {
     "data": {
      "text/html": [
       "<div>\n",
       "<style scoped>\n",
       "    .dataframe tbody tr th:only-of-type {\n",
       "        vertical-align: middle;\n",
       "    }\n",
       "\n",
       "    .dataframe tbody tr th {\n",
       "        vertical-align: top;\n",
       "    }\n",
       "\n",
       "    .dataframe thead th {\n",
       "        text-align: right;\n",
       "    }\n",
       "</style>\n",
       "<table border=\"1\" class=\"dataframe\">\n",
       "  <thead>\n",
       "    <tr style=\"text-align: right;\">\n",
       "      <th>range_delay</th>\n",
       "      <th>Sensor ID</th>\n",
       "      <th>13_10000_middle</th>\n",
       "      <th>13_16800_middle</th>\n",
       "      <th>13_3000_middle</th>\n",
       "      <th>13_6000_middle</th>\n",
       "      <th>13_8000_middle</th>\n",
       "      <th>15_10000_middle</th>\n",
       "      <th>15_16800_middle</th>\n",
       "      <th>15_3000_middle</th>\n",
       "      <th>15_6000_middle</th>\n",
       "      <th>...</th>\n",
       "      <th>48_10000_middle</th>\n",
       "      <th>48_16800_middle</th>\n",
       "      <th>48_3000_middle</th>\n",
       "      <th>48_6000_middle</th>\n",
       "      <th>48_8000_middle</th>\n",
       "      <th>53_10000_middle</th>\n",
       "      <th>53_16800_middle</th>\n",
       "      <th>53_3000_middle</th>\n",
       "      <th>53_6000_middle</th>\n",
       "      <th>53_8000_middle</th>\n",
       "    </tr>\n",
       "  </thead>\n",
       "  <tbody>\n",
       "    <tr>\n",
       "      <th>0</th>\n",
       "      <td>1</td>\n",
       "      <td>773.046512</td>\n",
       "      <td>797.360000</td>\n",
       "      <td>883.000000</td>\n",
       "      <td>755.000000</td>\n",
       "      <td>737.454545</td>\n",
       "      <td>901.845361</td>\n",
       "      <td>919.000000</td>\n",
       "      <td>883.000000</td>\n",
       "      <td>883.000000</td>\n",
       "      <td>...</td>\n",
       "      <td>2762.840000</td>\n",
       "      <td>2747.000000</td>\n",
       "      <td>2734.707317</td>\n",
       "      <td>2826.540230</td>\n",
       "      <td>2747.000000</td>\n",
       "      <td>3044.280000</td>\n",
       "      <td>3074.388235</td>\n",
       "      <td>3064.000000</td>\n",
       "      <td>3064.680000</td>\n",
       "      <td>3044.154639</td>\n",
       "    </tr>\n",
       "    <tr>\n",
       "      <th>1</th>\n",
       "      <td>2</td>\n",
       "      <td>685.367347</td>\n",
       "      <td>619.739130</td>\n",
       "      <td>724.317073</td>\n",
       "      <td>764.880000</td>\n",
       "      <td>693.747475</td>\n",
       "      <td>808.640000</td>\n",
       "      <td>742.356322</td>\n",
       "      <td>792.616162</td>\n",
       "      <td>895.857143</td>\n",
       "      <td>...</td>\n",
       "      <td>2677.285714</td>\n",
       "      <td>2673.185567</td>\n",
       "      <td>2671.000000</td>\n",
       "      <td>2688.616162</td>\n",
       "      <td>2675.000000</td>\n",
       "      <td>2976.978022</td>\n",
       "      <td>2982.320000</td>\n",
       "      <td>2972.696970</td>\n",
       "      <td>2978.720000</td>\n",
       "      <td>2976.904762</td>\n",
       "    </tr>\n",
       "    <tr>\n",
       "      <th>2</th>\n",
       "      <td>3</td>\n",
       "      <td>827.000000</td>\n",
       "      <td>801.365591</td>\n",
       "      <td>809.021978</td>\n",
       "      <td>793.440000</td>\n",
       "      <td>837.418605</td>\n",
       "      <td>948.842697</td>\n",
       "      <td>920.600000</td>\n",
       "      <td>877.721649</td>\n",
       "      <td>907.530612</td>\n",
       "      <td>...</td>\n",
       "      <td>2736.600000</td>\n",
       "      <td>2727.640000</td>\n",
       "      <td>2736.210526</td>\n",
       "      <td>2738.208791</td>\n",
       "      <td>2736.636364</td>\n",
       "      <td>3029.720000</td>\n",
       "      <td>3039.421053</td>\n",
       "      <td>3049.400000</td>\n",
       "      <td>3041.600000</td>\n",
       "      <td>3046.320000</td>\n",
       "    </tr>\n",
       "    <tr>\n",
       "      <th>3</th>\n",
       "      <td>4</td>\n",
       "      <td>762.520000</td>\n",
       "      <td>23.753247</td>\n",
       "      <td>788.800000</td>\n",
       "      <td>742.148936</td>\n",
       "      <td>903.160000</td>\n",
       "      <td>883.000000</td>\n",
       "      <td>38.092784</td>\n",
       "      <td>886.800000</td>\n",
       "      <td>861.920000</td>\n",
       "      <td>...</td>\n",
       "      <td>2792.250000</td>\n",
       "      <td>2761.480000</td>\n",
       "      <td>2760.063291</td>\n",
       "      <td>2757.721649</td>\n",
       "      <td>2765.516854</td>\n",
       "      <td>3059.871795</td>\n",
       "      <td>3076.560000</td>\n",
       "      <td>3060.371429</td>\n",
       "      <td>3057.622222</td>\n",
       "      <td>3062.348837</td>\n",
       "    </tr>\n",
       "    <tr>\n",
       "      <th>4</th>\n",
       "      <td>5</td>\n",
       "      <td>706.560000</td>\n",
       "      <td>873.436782</td>\n",
       "      <td>703.000000</td>\n",
       "      <td>794.720000</td>\n",
       "      <td>836.400000</td>\n",
       "      <td>832.183673</td>\n",
       "      <td>1006.280000</td>\n",
       "      <td>809.360000</td>\n",
       "      <td>878.400000</td>\n",
       "      <td>...</td>\n",
       "      <td>2764.200000</td>\n",
       "      <td>2757.000000</td>\n",
       "      <td>2755.600000</td>\n",
       "      <td>2800.666667</td>\n",
       "      <td>2765.753247</td>\n",
       "      <td>3075.000000</td>\n",
       "      <td>3045.776471</td>\n",
       "      <td>3056.960000</td>\n",
       "      <td>3073.048780</td>\n",
       "      <td>3076.230769</td>\n",
       "    </tr>\n",
       "    <tr>\n",
       "      <th>5</th>\n",
       "      <td>6</td>\n",
       "      <td>882.480000</td>\n",
       "      <td>693.800000</td>\n",
       "      <td>752.000000</td>\n",
       "      <td>751.571429</td>\n",
       "      <td>709.280000</td>\n",
       "      <td>1020.200000</td>\n",
       "      <td>820.258427</td>\n",
       "      <td>881.640000</td>\n",
       "      <td>872.860465</td>\n",
       "      <td>...</td>\n",
       "      <td>2746.800000</td>\n",
       "      <td>2775.960000</td>\n",
       "      <td>2741.760000</td>\n",
       "      <td>2750.718310</td>\n",
       "      <td>2730.960000</td>\n",
       "      <td>3053.247191</td>\n",
       "      <td>1137.577778</td>\n",
       "      <td>3058.257143</td>\n",
       "      <td>3046.080000</td>\n",
       "      <td>3049.978723</td>\n",
       "    </tr>\n",
       "    <tr>\n",
       "      <th>6</th>\n",
       "      <td>7</td>\n",
       "      <td>829.136364</td>\n",
       "      <td>760.640000</td>\n",
       "      <td>688.755102</td>\n",
       "      <td>743.000000</td>\n",
       "      <td>739.160000</td>\n",
       "      <td>911.000000</td>\n",
       "      <td>803.809524</td>\n",
       "      <td>809.440000</td>\n",
       "      <td>863.000000</td>\n",
       "      <td>...</td>\n",
       "      <td>2769.712644</td>\n",
       "      <td>2770.672131</td>\n",
       "      <td>2774.011765</td>\n",
       "      <td>2773.130435</td>\n",
       "      <td>2771.577778</td>\n",
       "      <td>3081.480000</td>\n",
       "      <td>3080.160000</td>\n",
       "      <td>3076.727273</td>\n",
       "      <td>3075.000000</td>\n",
       "      <td>3073.457831</td>\n",
       "    </tr>\n",
       "    <tr>\n",
       "      <th>7</th>\n",
       "      <td>8</td>\n",
       "      <td>698.532468</td>\n",
       "      <td>687.720000</td>\n",
       "      <td>820.441860</td>\n",
       "      <td>827.360000</td>\n",
       "      <td>668.250000</td>\n",
       "      <td>787.000000</td>\n",
       "      <td>811.258065</td>\n",
       "      <td>898.512195</td>\n",
       "      <td>895.043011</td>\n",
       "      <td>...</td>\n",
       "      <td>2754.740260</td>\n",
       "      <td>2753.576271</td>\n",
       "      <td>2747.307692</td>\n",
       "      <td>2756.380952</td>\n",
       "      <td>2752.842697</td>\n",
       "      <td>3064.640000</td>\n",
       "      <td>3056.777778</td>\n",
       "      <td>3057.040000</td>\n",
       "      <td>3071.960000</td>\n",
       "      <td>3055.333333</td>\n",
       "    </tr>\n",
       "    <tr>\n",
       "      <th>8</th>\n",
       "      <td>9</td>\n",
       "      <td>827.160000</td>\n",
       "      <td>721.360000</td>\n",
       "      <td>828.368421</td>\n",
       "      <td>686.440000</td>\n",
       "      <td>867.000000</td>\n",
       "      <td>864.292929</td>\n",
       "      <td>854.400000</td>\n",
       "      <td>890.240000</td>\n",
       "      <td>808.000000</td>\n",
       "      <td>...</td>\n",
       "      <td>2754.435294</td>\n",
       "      <td>2796.880000</td>\n",
       "      <td>2718.333333</td>\n",
       "      <td>2733.602410</td>\n",
       "      <td>2794.284211</td>\n",
       "      <td>3052.409091</td>\n",
       "      <td>2899.240000</td>\n",
       "      <td>3058.720000</td>\n",
       "      <td>3034.000000</td>\n",
       "      <td>3050.840000</td>\n",
       "    </tr>\n",
       "    <tr>\n",
       "      <th>9</th>\n",
       "      <td>10</td>\n",
       "      <td>773.927835</td>\n",
       "      <td>693.600000</td>\n",
       "      <td>748.720000</td>\n",
       "      <td>828.760000</td>\n",
       "      <td>794.760000</td>\n",
       "      <td>896.978947</td>\n",
       "      <td>800.924051</td>\n",
       "      <td>818.320000</td>\n",
       "      <td>946.560000</td>\n",
       "      <td>...</td>\n",
       "      <td>2769.804598</td>\n",
       "      <td>2785.333333</td>\n",
       "      <td>2781.440000</td>\n",
       "      <td>2782.160000</td>\n",
       "      <td>2766.452632</td>\n",
       "      <td>3097.365591</td>\n",
       "      <td>3077.600000</td>\n",
       "      <td>3075.000000</td>\n",
       "      <td>3076.160000</td>\n",
       "      <td>3067.000000</td>\n",
       "    </tr>\n",
       "    <tr>\n",
       "      <th>10</th>\n",
       "      <td>11</td>\n",
       "      <td>843.000000</td>\n",
       "      <td>755.600000</td>\n",
       "      <td>717.521739</td>\n",
       "      <td>759.000000</td>\n",
       "      <td>749.725275</td>\n",
       "      <td>894.076923</td>\n",
       "      <td>868.800000</td>\n",
       "      <td>819.280000</td>\n",
       "      <td>879.000000</td>\n",
       "      <td>...</td>\n",
       "      <td>2758.714286</td>\n",
       "      <td>2788.160000</td>\n",
       "      <td>2772.760000</td>\n",
       "      <td>2767.600000</td>\n",
       "      <td>2774.480000</td>\n",
       "      <td>3070.600000</td>\n",
       "      <td>3077.200000</td>\n",
       "      <td>3053.103093</td>\n",
       "      <td>3059.000000</td>\n",
       "      <td>3060.183673</td>\n",
       "    </tr>\n",
       "    <tr>\n",
       "      <th>11</th>\n",
       "      <td>12</td>\n",
       "      <td>644.061224</td>\n",
       "      <td>677.909091</td>\n",
       "      <td>640.422222</td>\n",
       "      <td>643.000000</td>\n",
       "      <td>869.440000</td>\n",
       "      <td>765.795181</td>\n",
       "      <td>783.280000</td>\n",
       "      <td>762.696203</td>\n",
       "      <td>774.440000</td>\n",
       "      <td>...</td>\n",
       "      <td>2740.320000</td>\n",
       "      <td>2745.360000</td>\n",
       "      <td>2728.106383</td>\n",
       "      <td>2728.818182</td>\n",
       "      <td>2737.177778</td>\n",
       "      <td>3037.600000</td>\n",
       "      <td>3056.560000</td>\n",
       "      <td>3031.000000</td>\n",
       "      <td>3031.000000</td>\n",
       "      <td>3032.880000</td>\n",
       "    </tr>\n",
       "    <tr>\n",
       "      <th>12</th>\n",
       "      <td>13</td>\n",
       "      <td>807.000000</td>\n",
       "      <td>666.151515</td>\n",
       "      <td>822.040000</td>\n",
       "      <td>807.000000</td>\n",
       "      <td>679.433735</td>\n",
       "      <td>867.000000</td>\n",
       "      <td>786.142857</td>\n",
       "      <td>942.280000</td>\n",
       "      <td>897.360000</td>\n",
       "      <td>...</td>\n",
       "      <td>2751.091954</td>\n",
       "      <td>2745.200000</td>\n",
       "      <td>2751.860759</td>\n",
       "      <td>2752.879518</td>\n",
       "      <td>2749.416667</td>\n",
       "      <td>3051.968421</td>\n",
       "      <td>3055.826087</td>\n",
       "      <td>3055.186047</td>\n",
       "      <td>3056.191489</td>\n",
       "      <td>3053.814815</td>\n",
       "    </tr>\n",
       "    <tr>\n",
       "      <th>13</th>\n",
       "      <td>14</td>\n",
       "      <td>669.440000</td>\n",
       "      <td>775.571429</td>\n",
       "      <td>651.040000</td>\n",
       "      <td>700.200000</td>\n",
       "      <td>827.000000</td>\n",
       "      <td>804.373737</td>\n",
       "      <td>843.926316</td>\n",
       "      <td>771.646465</td>\n",
       "      <td>803.958333</td>\n",
       "      <td>...</td>\n",
       "      <td>2724.958333</td>\n",
       "      <td>2721.200000</td>\n",
       "      <td>2738.126437</td>\n",
       "      <td>2719.760000</td>\n",
       "      <td>2717.160000</td>\n",
       "      <td>3015.080000</td>\n",
       "      <td>3025.400000</td>\n",
       "      <td>3038.526316</td>\n",
       "      <td>3025.440000</td>\n",
       "      <td>3029.529412</td>\n",
       "    </tr>\n",
       "    <tr>\n",
       "      <th>14</th>\n",
       "      <td>15</td>\n",
       "      <td>737.760000</td>\n",
       "      <td>798.848101</td>\n",
       "      <td>769.042553</td>\n",
       "      <td>813.040000</td>\n",
       "      <td>787.000000</td>\n",
       "      <td>859.000000</td>\n",
       "      <td>901.324324</td>\n",
       "      <td>881.400000</td>\n",
       "      <td>933.268041</td>\n",
       "      <td>...</td>\n",
       "      <td>2725.028986</td>\n",
       "      <td>2719.400000</td>\n",
       "      <td>2715.880000</td>\n",
       "      <td>2782.200000</td>\n",
       "      <td>2782.463415</td>\n",
       "      <td>3028.560000</td>\n",
       "      <td>3027.000000</td>\n",
       "      <td>3023.000000</td>\n",
       "      <td>3027.000000</td>\n",
       "      <td>3003.539326</td>\n",
       "    </tr>\n",
       "    <tr>\n",
       "      <th>15</th>\n",
       "      <td>16</td>\n",
       "      <td>691.160000</td>\n",
       "      <td>728.200000</td>\n",
       "      <td>831.000000</td>\n",
       "      <td>837.160000</td>\n",
       "      <td>711.680000</td>\n",
       "      <td>834.080000</td>\n",
       "      <td>845.848485</td>\n",
       "      <td>877.883721</td>\n",
       "      <td>922.807229</td>\n",
       "      <td>...</td>\n",
       "      <td>2787.404494</td>\n",
       "      <td>2780.898990</td>\n",
       "      <td>2790.200000</td>\n",
       "      <td>2747.646465</td>\n",
       "      <td>2781.285714</td>\n",
       "      <td>3087.818182</td>\n",
       "      <td>3081.500000</td>\n",
       "      <td>3084.205479</td>\n",
       "      <td>3047.800000</td>\n",
       "      <td>3089.520000</td>\n",
       "    </tr>\n",
       "    <tr>\n",
       "      <th>16</th>\n",
       "      <td>17</td>\n",
       "      <td>797.709677</td>\n",
       "      <td>655.760000</td>\n",
       "      <td>755.800000</td>\n",
       "      <td>799.571429</td>\n",
       "      <td>815.600000</td>\n",
       "      <td>915.000000</td>\n",
       "      <td>783.000000</td>\n",
       "      <td>860.320000</td>\n",
       "      <td>941.480000</td>\n",
       "      <td>...</td>\n",
       "      <td>2747.000000</td>\n",
       "      <td>2760.000000</td>\n",
       "      <td>2743.000000</td>\n",
       "      <td>2754.440000</td>\n",
       "      <td>2747.000000</td>\n",
       "      <td>3046.760000</td>\n",
       "      <td>2590.160000</td>\n",
       "      <td>3056.320000</td>\n",
       "      <td>3047.920000</td>\n",
       "      <td>3047.693878</td>\n",
       "    </tr>\n",
       "    <tr>\n",
       "      <th>17</th>\n",
       "      <td>18</td>\n",
       "      <td>923.303797</td>\n",
       "      <td>863.000000</td>\n",
       "      <td>792.800000</td>\n",
       "      <td>880.531915</td>\n",
       "      <td>844.858586</td>\n",
       "      <td>938.040000</td>\n",
       "      <td>919.560000</td>\n",
       "      <td>901.400000</td>\n",
       "      <td>880.616162</td>\n",
       "      <td>...</td>\n",
       "      <td>2738.134021</td>\n",
       "      <td>2228.560000</td>\n",
       "      <td>2721.160000</td>\n",
       "      <td>2737.765957</td>\n",
       "      <td>2737.868687</td>\n",
       "      <td>3028.800000</td>\n",
       "      <td>2452.382716</td>\n",
       "      <td>3015.405063</td>\n",
       "      <td>3031.160000</td>\n",
       "      <td>3038.232323</td>\n",
       "    </tr>\n",
       "    <tr>\n",
       "      <th>18</th>\n",
       "      <td>19</td>\n",
       "      <td>725.560000</td>\n",
       "      <td>730.480000</td>\n",
       "      <td>777.876404</td>\n",
       "      <td>729.523810</td>\n",
       "      <td>811.880000</td>\n",
       "      <td>831.000000</td>\n",
       "      <td>843.941176</td>\n",
       "      <td>871.829268</td>\n",
       "      <td>791.000000</td>\n",
       "      <td>...</td>\n",
       "      <td>2774.680000</td>\n",
       "      <td>2765.177215</td>\n",
       "      <td>2771.840000</td>\n",
       "      <td>2767.360000</td>\n",
       "      <td>2762.952941</td>\n",
       "      <td>3076.200000</td>\n",
       "      <td>3088.315789</td>\n",
       "      <td>3091.600000</td>\n",
       "      <td>3089.800000</td>\n",
       "      <td>3068.111111</td>\n",
       "    </tr>\n",
       "    <tr>\n",
       "      <th>19</th>\n",
       "      <td>20</td>\n",
       "      <td>692.040000</td>\n",
       "      <td>701.442105</td>\n",
       "      <td>688.530864</td>\n",
       "      <td>692.333333</td>\n",
       "      <td>747.720000</td>\n",
       "      <td>820.960000</td>\n",
       "      <td>828.680000</td>\n",
       "      <td>831.040000</td>\n",
       "      <td>813.523810</td>\n",
       "      <td>...</td>\n",
       "      <td>2799.455696</td>\n",
       "      <td>2813.400000</td>\n",
       "      <td>2799.960000</td>\n",
       "      <td>2793.350515</td>\n",
       "      <td>2814.760000</td>\n",
       "      <td>3075.155844</td>\n",
       "      <td>3108.040000</td>\n",
       "      <td>3140.890110</td>\n",
       "      <td>3126.126437</td>\n",
       "      <td>3095.163265</td>\n",
       "    </tr>\n",
       "  </tbody>\n",
       "</table>\n",
       "<p>20 rows × 61 columns</p>\n",
       "</div>"
      ],
      "text/plain": [
       "range_delay  Sensor ID  13_10000_middle  13_16800_middle  13_3000_middle  \\\n",
       "0                    1       773.046512       797.360000      883.000000   \n",
       "1                    2       685.367347       619.739130      724.317073   \n",
       "2                    3       827.000000       801.365591      809.021978   \n",
       "3                    4       762.520000        23.753247      788.800000   \n",
       "4                    5       706.560000       873.436782      703.000000   \n",
       "5                    6       882.480000       693.800000      752.000000   \n",
       "6                    7       829.136364       760.640000      688.755102   \n",
       "7                    8       698.532468       687.720000      820.441860   \n",
       "8                    9       827.160000       721.360000      828.368421   \n",
       "9                   10       773.927835       693.600000      748.720000   \n",
       "10                  11       843.000000       755.600000      717.521739   \n",
       "11                  12       644.061224       677.909091      640.422222   \n",
       "12                  13       807.000000       666.151515      822.040000   \n",
       "13                  14       669.440000       775.571429      651.040000   \n",
       "14                  15       737.760000       798.848101      769.042553   \n",
       "15                  16       691.160000       728.200000      831.000000   \n",
       "16                  17       797.709677       655.760000      755.800000   \n",
       "17                  18       923.303797       863.000000      792.800000   \n",
       "18                  19       725.560000       730.480000      777.876404   \n",
       "19                  20       692.040000       701.442105      688.530864   \n",
       "\n",
       "range_delay  13_6000_middle  13_8000_middle  15_10000_middle  15_16800_middle  \\\n",
       "0                755.000000      737.454545       901.845361       919.000000   \n",
       "1                764.880000      693.747475       808.640000       742.356322   \n",
       "2                793.440000      837.418605       948.842697       920.600000   \n",
       "3                742.148936      903.160000       883.000000        38.092784   \n",
       "4                794.720000      836.400000       832.183673      1006.280000   \n",
       "5                751.571429      709.280000      1020.200000       820.258427   \n",
       "6                743.000000      739.160000       911.000000       803.809524   \n",
       "7                827.360000      668.250000       787.000000       811.258065   \n",
       "8                686.440000      867.000000       864.292929       854.400000   \n",
       "9                828.760000      794.760000       896.978947       800.924051   \n",
       "10               759.000000      749.725275       894.076923       868.800000   \n",
       "11               643.000000      869.440000       765.795181       783.280000   \n",
       "12               807.000000      679.433735       867.000000       786.142857   \n",
       "13               700.200000      827.000000       804.373737       843.926316   \n",
       "14               813.040000      787.000000       859.000000       901.324324   \n",
       "15               837.160000      711.680000       834.080000       845.848485   \n",
       "16               799.571429      815.600000       915.000000       783.000000   \n",
       "17               880.531915      844.858586       938.040000       919.560000   \n",
       "18               729.523810      811.880000       831.000000       843.941176   \n",
       "19               692.333333      747.720000       820.960000       828.680000   \n",
       "\n",
       "range_delay  15_3000_middle  15_6000_middle  ...  48_10000_middle  \\\n",
       "0                883.000000      883.000000  ...      2762.840000   \n",
       "1                792.616162      895.857143  ...      2677.285714   \n",
       "2                877.721649      907.530612  ...      2736.600000   \n",
       "3                886.800000      861.920000  ...      2792.250000   \n",
       "4                809.360000      878.400000  ...      2764.200000   \n",
       "5                881.640000      872.860465  ...      2746.800000   \n",
       "6                809.440000      863.000000  ...      2769.712644   \n",
       "7                898.512195      895.043011  ...      2754.740260   \n",
       "8                890.240000      808.000000  ...      2754.435294   \n",
       "9                818.320000      946.560000  ...      2769.804598   \n",
       "10               819.280000      879.000000  ...      2758.714286   \n",
       "11               762.696203      774.440000  ...      2740.320000   \n",
       "12               942.280000      897.360000  ...      2751.091954   \n",
       "13               771.646465      803.958333  ...      2724.958333   \n",
       "14               881.400000      933.268041  ...      2725.028986   \n",
       "15               877.883721      922.807229  ...      2787.404494   \n",
       "16               860.320000      941.480000  ...      2747.000000   \n",
       "17               901.400000      880.616162  ...      2738.134021   \n",
       "18               871.829268      791.000000  ...      2774.680000   \n",
       "19               831.040000      813.523810  ...      2799.455696   \n",
       "\n",
       "range_delay  48_16800_middle  48_3000_middle  48_6000_middle  48_8000_middle  \\\n",
       "0                2747.000000     2734.707317     2826.540230     2747.000000   \n",
       "1                2673.185567     2671.000000     2688.616162     2675.000000   \n",
       "2                2727.640000     2736.210526     2738.208791     2736.636364   \n",
       "3                2761.480000     2760.063291     2757.721649     2765.516854   \n",
       "4                2757.000000     2755.600000     2800.666667     2765.753247   \n",
       "5                2775.960000     2741.760000     2750.718310     2730.960000   \n",
       "6                2770.672131     2774.011765     2773.130435     2771.577778   \n",
       "7                2753.576271     2747.307692     2756.380952     2752.842697   \n",
       "8                2796.880000     2718.333333     2733.602410     2794.284211   \n",
       "9                2785.333333     2781.440000     2782.160000     2766.452632   \n",
       "10               2788.160000     2772.760000     2767.600000     2774.480000   \n",
       "11               2745.360000     2728.106383     2728.818182     2737.177778   \n",
       "12               2745.200000     2751.860759     2752.879518     2749.416667   \n",
       "13               2721.200000     2738.126437     2719.760000     2717.160000   \n",
       "14               2719.400000     2715.880000     2782.200000     2782.463415   \n",
       "15               2780.898990     2790.200000     2747.646465     2781.285714   \n",
       "16               2760.000000     2743.000000     2754.440000     2747.000000   \n",
       "17               2228.560000     2721.160000     2737.765957     2737.868687   \n",
       "18               2765.177215     2771.840000     2767.360000     2762.952941   \n",
       "19               2813.400000     2799.960000     2793.350515     2814.760000   \n",
       "\n",
       "range_delay  53_10000_middle  53_16800_middle  53_3000_middle  53_6000_middle  \\\n",
       "0                3044.280000      3074.388235     3064.000000     3064.680000   \n",
       "1                2976.978022      2982.320000     2972.696970     2978.720000   \n",
       "2                3029.720000      3039.421053     3049.400000     3041.600000   \n",
       "3                3059.871795      3076.560000     3060.371429     3057.622222   \n",
       "4                3075.000000      3045.776471     3056.960000     3073.048780   \n",
       "5                3053.247191      1137.577778     3058.257143     3046.080000   \n",
       "6                3081.480000      3080.160000     3076.727273     3075.000000   \n",
       "7                3064.640000      3056.777778     3057.040000     3071.960000   \n",
       "8                3052.409091      2899.240000     3058.720000     3034.000000   \n",
       "9                3097.365591      3077.600000     3075.000000     3076.160000   \n",
       "10               3070.600000      3077.200000     3053.103093     3059.000000   \n",
       "11               3037.600000      3056.560000     3031.000000     3031.000000   \n",
       "12               3051.968421      3055.826087     3055.186047     3056.191489   \n",
       "13               3015.080000      3025.400000     3038.526316     3025.440000   \n",
       "14               3028.560000      3027.000000     3023.000000     3027.000000   \n",
       "15               3087.818182      3081.500000     3084.205479     3047.800000   \n",
       "16               3046.760000      2590.160000     3056.320000     3047.920000   \n",
       "17               3028.800000      2452.382716     3015.405063     3031.160000   \n",
       "18               3076.200000      3088.315789     3091.600000     3089.800000   \n",
       "19               3075.155844      3108.040000     3140.890110     3126.126437   \n",
       "\n",
       "range_delay  53_8000_middle  \n",
       "0               3044.154639  \n",
       "1               2976.904762  \n",
       "2               3046.320000  \n",
       "3               3062.348837  \n",
       "4               3076.230769  \n",
       "5               3049.978723  \n",
       "6               3073.457831  \n",
       "7               3055.333333  \n",
       "8               3050.840000  \n",
       "9               3067.000000  \n",
       "10              3060.183673  \n",
       "11              3032.880000  \n",
       "12              3053.814815  \n",
       "13              3029.529412  \n",
       "14              3003.539326  \n",
       "15              3089.520000  \n",
       "16              3047.693878  \n",
       "17              3038.232323  \n",
       "18              3068.111111  \n",
       "19              3095.163265  \n",
       "\n",
       "[20 rows x 61 columns]"
      ]
     },
     "execution_count": 126,
     "metadata": {},
     "output_type": "execute_result"
    }
   ],
   "source": [
    "create_range_delay_feature(df_middle_quartile,\"middle\")"
   ]
  },
  {
   "cell_type": "code",
   "execution_count": 127,
   "metadata": {},
   "outputs": [],
   "source": [
    "def feature_engineering_quartile_means(df):\n",
    "    df_middle_quartile, df_lower_quartile, df_upper_quartile = split_quartiles(df_20)\n",
    "    df_range_delay_middle = create_range_delay_feature(df_middle_quartile,\"middle\")\n",
    "    df_range_delay_lower = create_range_delay_feature(df_lower_quartile,\"lower\")\n",
    "    df_range_delay_upper = create_range_delay_feature(df_upper_quartile,\"upper\")\n",
    "\n",
    "    # List of DataFrames\n",
    "    df_pivots = [df_range_delay_middle, df_range_delay_lower, df_range_delay_upper]\n",
    "\n",
    "    # Initialize the merged DataFrame with the first DataFrame in the list\n",
    "    df_range_delay_all = df_pivots[0]\n",
    "\n",
    "    # Iteratively merge each DataFrame in the list\n",
    "    for df in df_pivots[1:]:\n",
    "        df_range_delay_all = df_range_delay_all.merge(df, on='Sensor ID')\n",
    "        \n",
    "    # Replace all NaN values with 0 in the merged DataFrame\n",
    "    df_range_delay_all.fillna(0, inplace=True)\n",
    "\n",
    "    return df_range_delay_all, df_range_delay_middle, df_range_delay_lower,df_range_delay_upper\n",
    "    \n",
    "\n",
    "df_range_delay_all,df_range_delay_middle, df_range_delay_lower,df_range_delay_upper = feature_engineering_quartile_means(df_20)\n"
   ]
  },
  {
   "cell_type": "markdown",
   "metadata": {},
   "source": [
    "The product is following now we will be conducting PCA method to reduce dimensionality"
   ]
  },
  {
   "cell_type": "code",
   "execution_count": 128,
   "metadata": {},
   "outputs": [
    {
     "data": {
      "text/html": [
       "<div>\n",
       "<style scoped>\n",
       "    .dataframe tbody tr th:only-of-type {\n",
       "        vertical-align: middle;\n",
       "    }\n",
       "\n",
       "    .dataframe tbody tr th {\n",
       "        vertical-align: top;\n",
       "    }\n",
       "\n",
       "    .dataframe thead th {\n",
       "        text-align: right;\n",
       "    }\n",
       "</style>\n",
       "<table border=\"1\" class=\"dataframe\">\n",
       "  <thead>\n",
       "    <tr style=\"text-align: right;\">\n",
       "      <th>range_delay</th>\n",
       "      <th>Sensor ID</th>\n",
       "      <th>13_10000_middle</th>\n",
       "      <th>13_16800_middle</th>\n",
       "      <th>13_3000_middle</th>\n",
       "      <th>13_6000_middle</th>\n",
       "      <th>13_8000_middle</th>\n",
       "      <th>15_10000_middle</th>\n",
       "      <th>15_16800_middle</th>\n",
       "      <th>15_3000_middle</th>\n",
       "      <th>15_6000_middle</th>\n",
       "      <th>...</th>\n",
       "      <th>48_10000_upper</th>\n",
       "      <th>48_16800_upper</th>\n",
       "      <th>48_3000_upper</th>\n",
       "      <th>48_6000_upper</th>\n",
       "      <th>48_8000_upper</th>\n",
       "      <th>53_10000_upper</th>\n",
       "      <th>53_16800_upper</th>\n",
       "      <th>53_3000_upper</th>\n",
       "      <th>53_6000_upper</th>\n",
       "      <th>53_8000_upper</th>\n",
       "    </tr>\n",
       "  </thead>\n",
       "  <tbody>\n",
       "    <tr>\n",
       "      <th>0</th>\n",
       "      <td>1</td>\n",
       "      <td>773.046512</td>\n",
       "      <td>797.360000</td>\n",
       "      <td>883.000000</td>\n",
       "      <td>755.000000</td>\n",
       "      <td>737.454545</td>\n",
       "      <td>901.845361</td>\n",
       "      <td>919.000000</td>\n",
       "      <td>883.000000</td>\n",
       "      <td>883.000000</td>\n",
       "      <td>...</td>\n",
       "      <td>0.000000</td>\n",
       "      <td>2747.500000</td>\n",
       "      <td>2800.111111</td>\n",
       "      <td>0.000000</td>\n",
       "      <td>2747.238095</td>\n",
       "      <td>0.000000</td>\n",
       "      <td>3083.000000</td>\n",
       "      <td>0.000000</td>\n",
       "      <td>0.000000</td>\n",
       "      <td>3071.000000</td>\n",
       "    </tr>\n",
       "    <tr>\n",
       "      <th>1</th>\n",
       "      <td>2</td>\n",
       "      <td>685.367347</td>\n",
       "      <td>619.739130</td>\n",
       "      <td>724.317073</td>\n",
       "      <td>764.880000</td>\n",
       "      <td>693.747475</td>\n",
       "      <td>808.640000</td>\n",
       "      <td>742.356322</td>\n",
       "      <td>792.616162</td>\n",
       "      <td>895.857143</td>\n",
       "      <td>...</td>\n",
       "      <td>2701.000000</td>\n",
       "      <td>2700.333333</td>\n",
       "      <td>2672.975904</td>\n",
       "      <td>2711.000000</td>\n",
       "      <td>2676.000000</td>\n",
       "      <td>3000.777778</td>\n",
       "      <td>0.000000</td>\n",
       "      <td>0.000000</td>\n",
       "      <td>0.000000</td>\n",
       "      <td>3000.000000</td>\n",
       "    </tr>\n",
       "    <tr>\n",
       "      <th>2</th>\n",
       "      <td>3</td>\n",
       "      <td>827.000000</td>\n",
       "      <td>801.365591</td>\n",
       "      <td>809.021978</td>\n",
       "      <td>793.440000</td>\n",
       "      <td>837.418605</td>\n",
       "      <td>948.842697</td>\n",
       "      <td>920.600000</td>\n",
       "      <td>877.721649</td>\n",
       "      <td>907.530612</td>\n",
       "      <td>...</td>\n",
       "      <td>2761.000000</td>\n",
       "      <td>0.000000</td>\n",
       "      <td>2761.857143</td>\n",
       "      <td>2763.000000</td>\n",
       "      <td>2760.818182</td>\n",
       "      <td>0.000000</td>\n",
       "      <td>3064.454545</td>\n",
       "      <td>0.000000</td>\n",
       "      <td>0.000000</td>\n",
       "      <td>0.000000</td>\n",
       "    </tr>\n",
       "    <tr>\n",
       "      <th>3</th>\n",
       "      <td>4</td>\n",
       "      <td>762.520000</td>\n",
       "      <td>23.753247</td>\n",
       "      <td>788.800000</td>\n",
       "      <td>742.148936</td>\n",
       "      <td>903.160000</td>\n",
       "      <td>883.000000</td>\n",
       "      <td>38.092784</td>\n",
       "      <td>886.800000</td>\n",
       "      <td>861.920000</td>\n",
       "      <td>...</td>\n",
       "      <td>2818.000000</td>\n",
       "      <td>0.000000</td>\n",
       "      <td>2784.523810</td>\n",
       "      <td>2775.000000</td>\n",
       "      <td>0.000000</td>\n",
       "      <td>3081.727273</td>\n",
       "      <td>0.000000</td>\n",
       "      <td>3084.200000</td>\n",
       "      <td>3079.000000</td>\n",
       "      <td>0.000000</td>\n",
       "    </tr>\n",
       "    <tr>\n",
       "      <th>4</th>\n",
       "      <td>5</td>\n",
       "      <td>706.560000</td>\n",
       "      <td>873.436782</td>\n",
       "      <td>703.000000</td>\n",
       "      <td>794.720000</td>\n",
       "      <td>836.400000</td>\n",
       "      <td>832.183673</td>\n",
       "      <td>1006.280000</td>\n",
       "      <td>809.360000</td>\n",
       "      <td>878.400000</td>\n",
       "      <td>...</td>\n",
       "      <td>0.000000</td>\n",
       "      <td>0.000000</td>\n",
       "      <td>0.000000</td>\n",
       "      <td>2828.750000</td>\n",
       "      <td>2790.478261</td>\n",
       "      <td>3076.217391</td>\n",
       "      <td>3071.266667</td>\n",
       "      <td>0.000000</td>\n",
       "      <td>3083.000000</td>\n",
       "      <td>0.000000</td>\n",
       "    </tr>\n",
       "    <tr>\n",
       "      <th>5</th>\n",
       "      <td>6</td>\n",
       "      <td>882.480000</td>\n",
       "      <td>693.800000</td>\n",
       "      <td>752.000000</td>\n",
       "      <td>751.571429</td>\n",
       "      <td>709.280000</td>\n",
       "      <td>1020.200000</td>\n",
       "      <td>820.258427</td>\n",
       "      <td>881.640000</td>\n",
       "      <td>872.860465</td>\n",
       "      <td>...</td>\n",
       "      <td>0.000000</td>\n",
       "      <td>0.000000</td>\n",
       "      <td>0.000000</td>\n",
       "      <td>2777.400000</td>\n",
       "      <td>0.000000</td>\n",
       "      <td>3079.000000</td>\n",
       "      <td>1571.000000</td>\n",
       "      <td>3080.142857</td>\n",
       "      <td>0.000000</td>\n",
       "      <td>3075.000000</td>\n",
       "    </tr>\n",
       "    <tr>\n",
       "      <th>6</th>\n",
       "      <td>7</td>\n",
       "      <td>829.136364</td>\n",
       "      <td>760.640000</td>\n",
       "      <td>688.755102</td>\n",
       "      <td>743.000000</td>\n",
       "      <td>739.160000</td>\n",
       "      <td>911.000000</td>\n",
       "      <td>803.809524</td>\n",
       "      <td>809.440000</td>\n",
       "      <td>863.000000</td>\n",
       "      <td>...</td>\n",
       "      <td>2795.000000</td>\n",
       "      <td>2796.000000</td>\n",
       "      <td>2798.733333</td>\n",
       "      <td>2800.000000</td>\n",
       "      <td>2797.222222</td>\n",
       "      <td>0.000000</td>\n",
       "      <td>0.000000</td>\n",
       "      <td>3102.666667</td>\n",
       "      <td>3077.000000</td>\n",
       "      <td>3099.000000</td>\n",
       "    </tr>\n",
       "    <tr>\n",
       "      <th>7</th>\n",
       "      <td>8</td>\n",
       "      <td>698.532468</td>\n",
       "      <td>687.720000</td>\n",
       "      <td>820.441860</td>\n",
       "      <td>827.360000</td>\n",
       "      <td>668.250000</td>\n",
       "      <td>787.000000</td>\n",
       "      <td>811.258065</td>\n",
       "      <td>898.512195</td>\n",
       "      <td>895.043011</td>\n",
       "      <td>...</td>\n",
       "      <td>2779.000000</td>\n",
       "      <td>2779.666667</td>\n",
       "      <td>2773.095238</td>\n",
       "      <td>2780.500000</td>\n",
       "      <td>2778.272727</td>\n",
       "      <td>0.000000</td>\n",
       "      <td>3089.105263</td>\n",
       "      <td>0.000000</td>\n",
       "      <td>0.000000</td>\n",
       "      <td>3084.750000</td>\n",
       "    </tr>\n",
       "    <tr>\n",
       "      <th>8</th>\n",
       "      <td>9</td>\n",
       "      <td>827.160000</td>\n",
       "      <td>721.360000</td>\n",
       "      <td>828.368421</td>\n",
       "      <td>686.440000</td>\n",
       "      <td>867.000000</td>\n",
       "      <td>864.292929</td>\n",
       "      <td>854.400000</td>\n",
       "      <td>890.240000</td>\n",
       "      <td>808.000000</td>\n",
       "      <td>...</td>\n",
       "      <td>2787.000000</td>\n",
       "      <td>0.000000</td>\n",
       "      <td>2759.000000</td>\n",
       "      <td>2817.117647</td>\n",
       "      <td>0.000000</td>\n",
       "      <td>0.000000</td>\n",
       "      <td>0.000000</td>\n",
       "      <td>0.000000</td>\n",
       "      <td>0.000000</td>\n",
       "      <td>0.000000</td>\n",
       "    </tr>\n",
       "    <tr>\n",
       "      <th>9</th>\n",
       "      <td>10</td>\n",
       "      <td>773.927835</td>\n",
       "      <td>693.600000</td>\n",
       "      <td>748.720000</td>\n",
       "      <td>828.760000</td>\n",
       "      <td>794.760000</td>\n",
       "      <td>896.978947</td>\n",
       "      <td>800.924051</td>\n",
       "      <td>818.320000</td>\n",
       "      <td>946.560000</td>\n",
       "      <td>...</td>\n",
       "      <td>2794.666667</td>\n",
       "      <td>2813.750000</td>\n",
       "      <td>0.000000</td>\n",
       "      <td>0.000000</td>\n",
       "      <td>2791.000000</td>\n",
       "      <td>3122.428571</td>\n",
       "      <td>0.000000</td>\n",
       "      <td>3075.960000</td>\n",
       "      <td>0.000000</td>\n",
       "      <td>3071.853933</td>\n",
       "    </tr>\n",
       "    <tr>\n",
       "      <th>10</th>\n",
       "      <td>11</td>\n",
       "      <td>843.000000</td>\n",
       "      <td>755.600000</td>\n",
       "      <td>717.521739</td>\n",
       "      <td>759.000000</td>\n",
       "      <td>749.725275</td>\n",
       "      <td>894.076923</td>\n",
       "      <td>868.800000</td>\n",
       "      <td>819.280000</td>\n",
       "      <td>879.000000</td>\n",
       "      <td>...</td>\n",
       "      <td>2787.750000</td>\n",
       "      <td>0.000000</td>\n",
       "      <td>0.000000</td>\n",
       "      <td>0.000000</td>\n",
       "      <td>0.000000</td>\n",
       "      <td>0.000000</td>\n",
       "      <td>0.000000</td>\n",
       "      <td>3073.666667</td>\n",
       "      <td>3060.384615</td>\n",
       "      <td>3081.000000</td>\n",
       "    </tr>\n",
       "    <tr>\n",
       "      <th>11</th>\n",
       "      <td>12</td>\n",
       "      <td>644.061224</td>\n",
       "      <td>677.909091</td>\n",
       "      <td>640.422222</td>\n",
       "      <td>643.000000</td>\n",
       "      <td>869.440000</td>\n",
       "      <td>765.795181</td>\n",
       "      <td>783.280000</td>\n",
       "      <td>762.696203</td>\n",
       "      <td>774.440000</td>\n",
       "      <td>...</td>\n",
       "      <td>0.000000</td>\n",
       "      <td>0.000000</td>\n",
       "      <td>2754.333333</td>\n",
       "      <td>2750.666667</td>\n",
       "      <td>2759.400000</td>\n",
       "      <td>0.000000</td>\n",
       "      <td>0.000000</td>\n",
       "      <td>3031.224719</td>\n",
       "      <td>3031.087912</td>\n",
       "      <td>0.000000</td>\n",
       "    </tr>\n",
       "    <tr>\n",
       "      <th>12</th>\n",
       "      <td>13</td>\n",
       "      <td>807.000000</td>\n",
       "      <td>666.151515</td>\n",
       "      <td>822.040000</td>\n",
       "      <td>807.000000</td>\n",
       "      <td>679.433735</td>\n",
       "      <td>867.000000</td>\n",
       "      <td>786.142857</td>\n",
       "      <td>942.280000</td>\n",
       "      <td>897.360000</td>\n",
       "      <td>...</td>\n",
       "      <td>2773.800000</td>\n",
       "      <td>0.000000</td>\n",
       "      <td>2781.000000</td>\n",
       "      <td>2778.529412</td>\n",
       "      <td>2775.000000</td>\n",
       "      <td>3079.000000</td>\n",
       "      <td>3082.000000</td>\n",
       "      <td>3080.428571</td>\n",
       "      <td>3081.666667</td>\n",
       "      <td>3080.263158</td>\n",
       "    </tr>\n",
       "    <tr>\n",
       "      <th>13</th>\n",
       "      <td>14</td>\n",
       "      <td>669.440000</td>\n",
       "      <td>775.571429</td>\n",
       "      <td>651.040000</td>\n",
       "      <td>700.200000</td>\n",
       "      <td>827.000000</td>\n",
       "      <td>804.373737</td>\n",
       "      <td>843.926316</td>\n",
       "      <td>771.646465</td>\n",
       "      <td>803.958333</td>\n",
       "      <td>...</td>\n",
       "      <td>0.000000</td>\n",
       "      <td>0.000000</td>\n",
       "      <td>2759.857143</td>\n",
       "      <td>0.000000</td>\n",
       "      <td>0.000000</td>\n",
       "      <td>0.000000</td>\n",
       "      <td>0.000000</td>\n",
       "      <td>3060.500000</td>\n",
       "      <td>0.000000</td>\n",
       "      <td>3054.333333</td>\n",
       "    </tr>\n",
       "    <tr>\n",
       "      <th>14</th>\n",
       "      <td>15</td>\n",
       "      <td>737.760000</td>\n",
       "      <td>798.848101</td>\n",
       "      <td>769.042553</td>\n",
       "      <td>813.040000</td>\n",
       "      <td>787.000000</td>\n",
       "      <td>859.000000</td>\n",
       "      <td>901.324324</td>\n",
       "      <td>881.400000</td>\n",
       "      <td>933.268041</td>\n",
       "      <td>...</td>\n",
       "      <td>2747.600000</td>\n",
       "      <td>0.000000</td>\n",
       "      <td>0.000000</td>\n",
       "      <td>0.000000</td>\n",
       "      <td>2803.000000</td>\n",
       "      <td>0.000000</td>\n",
       "      <td>3050.360000</td>\n",
       "      <td>3023.296296</td>\n",
       "      <td>3027.545455</td>\n",
       "      <td>3026.636364</td>\n",
       "    </tr>\n",
       "    <tr>\n",
       "      <th>15</th>\n",
       "      <td>16</td>\n",
       "      <td>691.160000</td>\n",
       "      <td>728.200000</td>\n",
       "      <td>831.000000</td>\n",
       "      <td>837.160000</td>\n",
       "      <td>711.680000</td>\n",
       "      <td>834.080000</td>\n",
       "      <td>845.848485</td>\n",
       "      <td>877.883721</td>\n",
       "      <td>922.807229</td>\n",
       "      <td>...</td>\n",
       "      <td>2811.363636</td>\n",
       "      <td>2831.000000</td>\n",
       "      <td>0.000000</td>\n",
       "      <td>2807.000000</td>\n",
       "      <td>2807.000000</td>\n",
       "      <td>3117.333333</td>\n",
       "      <td>3133.000000</td>\n",
       "      <td>3110.600000</td>\n",
       "      <td>3113.800000</td>\n",
       "      <td>0.000000</td>\n",
       "    </tr>\n",
       "    <tr>\n",
       "      <th>16</th>\n",
       "      <td>17</td>\n",
       "      <td>797.709677</td>\n",
       "      <td>655.760000</td>\n",
       "      <td>755.800000</td>\n",
       "      <td>799.571429</td>\n",
       "      <td>815.600000</td>\n",
       "      <td>915.000000</td>\n",
       "      <td>783.000000</td>\n",
       "      <td>860.320000</td>\n",
       "      <td>941.480000</td>\n",
       "      <td>...</td>\n",
       "      <td>2748.156627</td>\n",
       "      <td>0.000000</td>\n",
       "      <td>2747.097561</td>\n",
       "      <td>0.000000</td>\n",
       "      <td>2751.818182</td>\n",
       "      <td>0.000000</td>\n",
       "      <td>0.000000</td>\n",
       "      <td>0.000000</td>\n",
       "      <td>0.000000</td>\n",
       "      <td>3071.000000</td>\n",
       "    </tr>\n",
       "    <tr>\n",
       "      <th>17</th>\n",
       "      <td>18</td>\n",
       "      <td>923.303797</td>\n",
       "      <td>863.000000</td>\n",
       "      <td>792.800000</td>\n",
       "      <td>880.531915</td>\n",
       "      <td>844.858586</td>\n",
       "      <td>938.040000</td>\n",
       "      <td>919.560000</td>\n",
       "      <td>901.400000</td>\n",
       "      <td>880.616162</td>\n",
       "      <td>...</td>\n",
       "      <td>2780.333333</td>\n",
       "      <td>0.000000</td>\n",
       "      <td>0.000000</td>\n",
       "      <td>2798.333333</td>\n",
       "      <td>2763.000000</td>\n",
       "      <td>0.000000</td>\n",
       "      <td>2913.800000</td>\n",
       "      <td>3037.400000</td>\n",
       "      <td>0.000000</td>\n",
       "      <td>3047.000000</td>\n",
       "    </tr>\n",
       "    <tr>\n",
       "      <th>18</th>\n",
       "      <td>19</td>\n",
       "      <td>725.560000</td>\n",
       "      <td>730.480000</td>\n",
       "      <td>777.876404</td>\n",
       "      <td>729.523810</td>\n",
       "      <td>811.880000</td>\n",
       "      <td>831.000000</td>\n",
       "      <td>843.941176</td>\n",
       "      <td>871.829268</td>\n",
       "      <td>791.000000</td>\n",
       "      <td>...</td>\n",
       "      <td>0.000000</td>\n",
       "      <td>2790.000000</td>\n",
       "      <td>0.000000</td>\n",
       "      <td>0.000000</td>\n",
       "      <td>2789.400000</td>\n",
       "      <td>0.000000</td>\n",
       "      <td>3113.666667</td>\n",
       "      <td>0.000000</td>\n",
       "      <td>0.000000</td>\n",
       "      <td>3093.400000</td>\n",
       "    </tr>\n",
       "    <tr>\n",
       "      <th>19</th>\n",
       "      <td>20</td>\n",
       "      <td>692.040000</td>\n",
       "      <td>701.442105</td>\n",
       "      <td>688.530864</td>\n",
       "      <td>692.333333</td>\n",
       "      <td>747.720000</td>\n",
       "      <td>820.960000</td>\n",
       "      <td>828.680000</td>\n",
       "      <td>831.040000</td>\n",
       "      <td>813.523810</td>\n",
       "      <td>...</td>\n",
       "      <td>2831.000000</td>\n",
       "      <td>0.000000</td>\n",
       "      <td>0.000000</td>\n",
       "      <td>2844.333333</td>\n",
       "      <td>0.000000</td>\n",
       "      <td>3100.217391</td>\n",
       "      <td>0.000000</td>\n",
       "      <td>0.000000</td>\n",
       "      <td>3147.666667</td>\n",
       "      <td>3119.000000</td>\n",
       "    </tr>\n",
       "  </tbody>\n",
       "</table>\n",
       "<p>20 rows × 181 columns</p>\n",
       "</div>"
      ],
      "text/plain": [
       "range_delay  Sensor ID  13_10000_middle  13_16800_middle  13_3000_middle  \\\n",
       "0                    1       773.046512       797.360000      883.000000   \n",
       "1                    2       685.367347       619.739130      724.317073   \n",
       "2                    3       827.000000       801.365591      809.021978   \n",
       "3                    4       762.520000        23.753247      788.800000   \n",
       "4                    5       706.560000       873.436782      703.000000   \n",
       "5                    6       882.480000       693.800000      752.000000   \n",
       "6                    7       829.136364       760.640000      688.755102   \n",
       "7                    8       698.532468       687.720000      820.441860   \n",
       "8                    9       827.160000       721.360000      828.368421   \n",
       "9                   10       773.927835       693.600000      748.720000   \n",
       "10                  11       843.000000       755.600000      717.521739   \n",
       "11                  12       644.061224       677.909091      640.422222   \n",
       "12                  13       807.000000       666.151515      822.040000   \n",
       "13                  14       669.440000       775.571429      651.040000   \n",
       "14                  15       737.760000       798.848101      769.042553   \n",
       "15                  16       691.160000       728.200000      831.000000   \n",
       "16                  17       797.709677       655.760000      755.800000   \n",
       "17                  18       923.303797       863.000000      792.800000   \n",
       "18                  19       725.560000       730.480000      777.876404   \n",
       "19                  20       692.040000       701.442105      688.530864   \n",
       "\n",
       "range_delay  13_6000_middle  13_8000_middle  15_10000_middle  15_16800_middle  \\\n",
       "0                755.000000      737.454545       901.845361       919.000000   \n",
       "1                764.880000      693.747475       808.640000       742.356322   \n",
       "2                793.440000      837.418605       948.842697       920.600000   \n",
       "3                742.148936      903.160000       883.000000        38.092784   \n",
       "4                794.720000      836.400000       832.183673      1006.280000   \n",
       "5                751.571429      709.280000      1020.200000       820.258427   \n",
       "6                743.000000      739.160000       911.000000       803.809524   \n",
       "7                827.360000      668.250000       787.000000       811.258065   \n",
       "8                686.440000      867.000000       864.292929       854.400000   \n",
       "9                828.760000      794.760000       896.978947       800.924051   \n",
       "10               759.000000      749.725275       894.076923       868.800000   \n",
       "11               643.000000      869.440000       765.795181       783.280000   \n",
       "12               807.000000      679.433735       867.000000       786.142857   \n",
       "13               700.200000      827.000000       804.373737       843.926316   \n",
       "14               813.040000      787.000000       859.000000       901.324324   \n",
       "15               837.160000      711.680000       834.080000       845.848485   \n",
       "16               799.571429      815.600000       915.000000       783.000000   \n",
       "17               880.531915      844.858586       938.040000       919.560000   \n",
       "18               729.523810      811.880000       831.000000       843.941176   \n",
       "19               692.333333      747.720000       820.960000       828.680000   \n",
       "\n",
       "range_delay  15_3000_middle  15_6000_middle  ...  48_10000_upper  \\\n",
       "0                883.000000      883.000000  ...        0.000000   \n",
       "1                792.616162      895.857143  ...     2701.000000   \n",
       "2                877.721649      907.530612  ...     2761.000000   \n",
       "3                886.800000      861.920000  ...     2818.000000   \n",
       "4                809.360000      878.400000  ...        0.000000   \n",
       "5                881.640000      872.860465  ...        0.000000   \n",
       "6                809.440000      863.000000  ...     2795.000000   \n",
       "7                898.512195      895.043011  ...     2779.000000   \n",
       "8                890.240000      808.000000  ...     2787.000000   \n",
       "9                818.320000      946.560000  ...     2794.666667   \n",
       "10               819.280000      879.000000  ...     2787.750000   \n",
       "11               762.696203      774.440000  ...        0.000000   \n",
       "12               942.280000      897.360000  ...     2773.800000   \n",
       "13               771.646465      803.958333  ...        0.000000   \n",
       "14               881.400000      933.268041  ...     2747.600000   \n",
       "15               877.883721      922.807229  ...     2811.363636   \n",
       "16               860.320000      941.480000  ...     2748.156627   \n",
       "17               901.400000      880.616162  ...     2780.333333   \n",
       "18               871.829268      791.000000  ...        0.000000   \n",
       "19               831.040000      813.523810  ...     2831.000000   \n",
       "\n",
       "range_delay  48_16800_upper  48_3000_upper  48_6000_upper  48_8000_upper  \\\n",
       "0               2747.500000    2800.111111       0.000000    2747.238095   \n",
       "1               2700.333333    2672.975904    2711.000000    2676.000000   \n",
       "2                  0.000000    2761.857143    2763.000000    2760.818182   \n",
       "3                  0.000000    2784.523810    2775.000000       0.000000   \n",
       "4                  0.000000       0.000000    2828.750000    2790.478261   \n",
       "5                  0.000000       0.000000    2777.400000       0.000000   \n",
       "6               2796.000000    2798.733333    2800.000000    2797.222222   \n",
       "7               2779.666667    2773.095238    2780.500000    2778.272727   \n",
       "8                  0.000000    2759.000000    2817.117647       0.000000   \n",
       "9               2813.750000       0.000000       0.000000    2791.000000   \n",
       "10                 0.000000       0.000000       0.000000       0.000000   \n",
       "11                 0.000000    2754.333333    2750.666667    2759.400000   \n",
       "12                 0.000000    2781.000000    2778.529412    2775.000000   \n",
       "13                 0.000000    2759.857143       0.000000       0.000000   \n",
       "14                 0.000000       0.000000       0.000000    2803.000000   \n",
       "15              2831.000000       0.000000    2807.000000    2807.000000   \n",
       "16                 0.000000    2747.097561       0.000000    2751.818182   \n",
       "17                 0.000000       0.000000    2798.333333    2763.000000   \n",
       "18              2790.000000       0.000000       0.000000    2789.400000   \n",
       "19                 0.000000       0.000000    2844.333333       0.000000   \n",
       "\n",
       "range_delay  53_10000_upper  53_16800_upper  53_3000_upper  53_6000_upper  \\\n",
       "0                  0.000000     3083.000000       0.000000       0.000000   \n",
       "1               3000.777778        0.000000       0.000000       0.000000   \n",
       "2                  0.000000     3064.454545       0.000000       0.000000   \n",
       "3               3081.727273        0.000000    3084.200000    3079.000000   \n",
       "4               3076.217391     3071.266667       0.000000    3083.000000   \n",
       "5               3079.000000     1571.000000    3080.142857       0.000000   \n",
       "6                  0.000000        0.000000    3102.666667    3077.000000   \n",
       "7                  0.000000     3089.105263       0.000000       0.000000   \n",
       "8                  0.000000        0.000000       0.000000       0.000000   \n",
       "9               3122.428571        0.000000    3075.960000       0.000000   \n",
       "10                 0.000000        0.000000    3073.666667    3060.384615   \n",
       "11                 0.000000        0.000000    3031.224719    3031.087912   \n",
       "12              3079.000000     3082.000000    3080.428571    3081.666667   \n",
       "13                 0.000000        0.000000    3060.500000       0.000000   \n",
       "14                 0.000000     3050.360000    3023.296296    3027.545455   \n",
       "15              3117.333333     3133.000000    3110.600000    3113.800000   \n",
       "16                 0.000000        0.000000       0.000000       0.000000   \n",
       "17                 0.000000     2913.800000    3037.400000       0.000000   \n",
       "18                 0.000000     3113.666667       0.000000       0.000000   \n",
       "19              3100.217391        0.000000       0.000000    3147.666667   \n",
       "\n",
       "range_delay  53_8000_upper  \n",
       "0              3071.000000  \n",
       "1              3000.000000  \n",
       "2                 0.000000  \n",
       "3                 0.000000  \n",
       "4                 0.000000  \n",
       "5              3075.000000  \n",
       "6              3099.000000  \n",
       "7              3084.750000  \n",
       "8                 0.000000  \n",
       "9              3071.853933  \n",
       "10             3081.000000  \n",
       "11                0.000000  \n",
       "12             3080.263158  \n",
       "13             3054.333333  \n",
       "14             3026.636364  \n",
       "15                0.000000  \n",
       "16             3071.000000  \n",
       "17             3047.000000  \n",
       "18             3093.400000  \n",
       "19             3119.000000  \n",
       "\n",
       "[20 rows x 181 columns]"
      ]
     },
     "execution_count": 128,
     "metadata": {},
     "output_type": "execute_result"
    }
   ],
   "source": [
    "df_range_delay_all"
   ]
  },
  {
   "cell_type": "code",
   "execution_count": 129,
   "metadata": {},
   "outputs": [],
   "source": [
    "#df_range_delay_all.to_csv(\"merged_dataset/data_v4-1_range_delay.csv\", index=False)"
   ]
  },
  {
   "cell_type": "markdown",
   "metadata": {},
   "source": [
    "### PCA feature importance on Range and delay"
   ]
  },
  {
   "cell_type": "code",
   "execution_count": 130,
   "metadata": {},
   "outputs": [
    {
     "data": {
      "image/png": "[encoded data removed]",
      "text/plain": [
       "<Figure size 1000x600 with 1 Axes>"
      ]
     },
     "metadata": {},
     "output_type": "display_data"
    }
   ],
   "source": [
    "from sklearn.preprocessing import StandardScaler\n",
    "from sklearn.decomposition import PCA\n",
    "import matplotlib.pyplot as plt\n",
    "import numpy as np\n",
    "\n",
    "def process_PCA(df):\n",
    "    # Extract features and standardize\n",
    "    features = df.drop(columns='Sensor ID')\n",
    "    sensor_ids = df['Sensor ID']\n",
    "\n",
    "    # Standardize the features\n",
    "    scaler = StandardScaler()\n",
    "    features_scaled = scaler.fit_transform(features)\n",
    "\n",
    "    # Perform PCA\n",
    "    pca = PCA()\n",
    "    principal_components = pca.fit_transform(features_scaled)\n",
    "\n",
    "    # Explained variance ratio for each principal component\n",
    "    explained_variance = pca.explained_variance_ratio_\n",
    "\n",
    "    # Plot the explained variance to see the importance of each component\n",
    "    plt.figure(figsize=(10, 6))\n",
    "    plt.plot(np.cumsum(explained_variance), marker='o', linestyle='--')\n",
    "    plt.xlabel('Number of Principal Components')\n",
    "    plt.ylabel('Cumulative Explained Variance')\n",
    "    plt.title('PCA - Cumulative Explained Variance')\n",
    "    plt.grid(True)\n",
    "    plt.show()\n",
    "\n",
    "    # Get the loadings (coefficients) of the features on the principal components\n",
    "    loadings = pca.components_\n",
    "\n",
    "    # Display the loadings for the first few principal components\n",
    "    return explained_variance, loadings, features\n",
    "\n",
    "explained_variance, loadings, features = process_PCA(df_range_delay_all)\n",
    "\n"
   ]
  },
  {
   "cell_type": "code",
   "execution_count": 131,
   "metadata": {},
   "outputs": [
    {
     "data": {
      "text/html": [
       "<div>\n",
       "<style scoped>\n",
       "    .dataframe tbody tr th:only-of-type {\n",
       "        vertical-align: middle;\n",
       "    }\n",
       "\n",
       "    .dataframe tbody tr th {\n",
       "        vertical-align: top;\n",
       "    }\n",
       "\n",
       "    .dataframe thead th {\n",
       "        text-align: right;\n",
       "    }\n",
       "</style>\n",
       "<table border=\"1\" class=\"dataframe\">\n",
       "  <thead>\n",
       "    <tr style=\"text-align: right;\">\n",
       "      <th></th>\n",
       "      <th>PC1</th>\n",
       "      <th>PC2</th>\n",
       "      <th>PC3</th>\n",
       "      <th>PC4</th>\n",
       "      <th>PC5</th>\n",
       "      <th>PC6</th>\n",
       "      <th>PC7</th>\n",
       "      <th>PC8</th>\n",
       "      <th>PC9</th>\n",
       "      <th>PC10</th>\n",
       "      <th>PC11</th>\n",
       "      <th>PC12</th>\n",
       "      <th>PC13</th>\n",
       "      <th>PC14</th>\n",
       "      <th>PC15</th>\n",
       "      <th>PC16</th>\n",
       "      <th>PC17</th>\n",
       "      <th>PC18</th>\n",
       "      <th>PC19</th>\n",
       "      <th>PC20</th>\n",
       "    </tr>\n",
       "    <tr>\n",
       "      <th>range_delay</th>\n",
       "      <th></th>\n",
       "      <th></th>\n",
       "      <th></th>\n",
       "      <th></th>\n",
       "      <th></th>\n",
       "      <th></th>\n",
       "      <th></th>\n",
       "      <th></th>\n",
       "      <th></th>\n",
       "      <th></th>\n",
       "      <th></th>\n",
       "      <th></th>\n",
       "      <th></th>\n",
       "      <th></th>\n",
       "      <th></th>\n",
       "      <th></th>\n",
       "      <th></th>\n",
       "      <th></th>\n",
       "      <th></th>\n",
       "      <th></th>\n",
       "    </tr>\n",
       "  </thead>\n",
       "  <tbody>\n",
       "    <tr>\n",
       "      <th>13_10000_middle</th>\n",
       "      <td>-0.062637</td>\n",
       "      <td>-0.013793</td>\n",
       "      <td>0.171355</td>\n",
       "      <td>0.012797</td>\n",
       "      <td>0.001857</td>\n",
       "      <td>-0.028571</td>\n",
       "      <td>0.067159</td>\n",
       "      <td>0.141584</td>\n",
       "      <td>-0.058059</td>\n",
       "      <td>0.016567</td>\n",
       "      <td>-0.091440</td>\n",
       "      <td>0.027235</td>\n",
       "      <td>0.004726</td>\n",
       "      <td>0.010067</td>\n",
       "      <td>-0.022787</td>\n",
       "      <td>-0.015964</td>\n",
       "      <td>-0.104168</td>\n",
       "      <td>-0.022791</td>\n",
       "      <td>0.091411</td>\n",
       "      <td>0.384508</td>\n",
       "    </tr>\n",
       "    <tr>\n",
       "      <th>13_16800_middle</th>\n",
       "      <td>0.003045</td>\n",
       "      <td>-0.138588</td>\n",
       "      <td>0.064444</td>\n",
       "      <td>-0.167300</td>\n",
       "      <td>-0.102670</td>\n",
       "      <td>0.030977</td>\n",
       "      <td>0.001398</td>\n",
       "      <td>-0.049565</td>\n",
       "      <td>0.008086</td>\n",
       "      <td>-0.016649</td>\n",
       "      <td>-0.019391</td>\n",
       "      <td>0.043598</td>\n",
       "      <td>0.030261</td>\n",
       "      <td>0.049240</td>\n",
       "      <td>0.009725</td>\n",
       "      <td>-0.010787</td>\n",
       "      <td>-0.003176</td>\n",
       "      <td>0.005804</td>\n",
       "      <td>-0.025911</td>\n",
       "      <td>-0.398612</td>\n",
       "    </tr>\n",
       "    <tr>\n",
       "      <th>13_3000_middle</th>\n",
       "      <td>-0.063158</td>\n",
       "      <td>-0.081746</td>\n",
       "      <td>0.118029</td>\n",
       "      <td>0.113278</td>\n",
       "      <td>0.043207</td>\n",
       "      <td>-0.063393</td>\n",
       "      <td>-0.019367</td>\n",
       "      <td>-0.074488</td>\n",
       "      <td>0.049421</td>\n",
       "      <td>0.017927</td>\n",
       "      <td>0.047263</td>\n",
       "      <td>-0.039442</td>\n",
       "      <td>-0.117985</td>\n",
       "      <td>-0.054557</td>\n",
       "      <td>0.031638</td>\n",
       "      <td>0.093789</td>\n",
       "      <td>-0.084035</td>\n",
       "      <td>-0.068800</td>\n",
       "      <td>0.048131</td>\n",
       "      <td>0.170722</td>\n",
       "    </tr>\n",
       "    <tr>\n",
       "      <th>13_6000_middle</th>\n",
       "      <td>-0.047579</td>\n",
       "      <td>-0.129155</td>\n",
       "      <td>0.043055</td>\n",
       "      <td>0.126163</td>\n",
       "      <td>-0.124598</td>\n",
       "      <td>-0.054890</td>\n",
       "      <td>0.049619</td>\n",
       "      <td>0.017875</td>\n",
       "      <td>-0.056038</td>\n",
       "      <td>0.025231</td>\n",
       "      <td>0.065810</td>\n",
       "      <td>0.065836</td>\n",
       "      <td>-0.025736</td>\n",
       "      <td>0.047490</td>\n",
       "      <td>-0.053438</td>\n",
       "      <td>-0.006449</td>\n",
       "      <td>-0.037532</td>\n",
       "      <td>-0.055330</td>\n",
       "      <td>0.003919</td>\n",
       "      <td>-0.244032</td>\n",
       "    </tr>\n",
       "    <tr>\n",
       "      <th>13_8000_middle</th>\n",
       "      <td>0.001687</td>\n",
       "      <td>0.185800</td>\n",
       "      <td>0.054339</td>\n",
       "      <td>0.010732</td>\n",
       "      <td>-0.067024</td>\n",
       "      <td>0.074157</td>\n",
       "      <td>-0.067646</td>\n",
       "      <td>-0.026107</td>\n",
       "      <td>0.079726</td>\n",
       "      <td>0.059193</td>\n",
       "      <td>-0.041479</td>\n",
       "      <td>0.066472</td>\n",
       "      <td>0.002342</td>\n",
       "      <td>0.092759</td>\n",
       "      <td>-0.032529</td>\n",
       "      <td>-0.018794</td>\n",
       "      <td>-0.037017</td>\n",
       "      <td>-0.036859</td>\n",
       "      <td>0.020352</td>\n",
       "      <td>-0.058851</td>\n",
       "    </tr>\n",
       "    <tr>\n",
       "      <th>...</th>\n",
       "      <td>...</td>\n",
       "      <td>...</td>\n",
       "      <td>...</td>\n",
       "      <td>...</td>\n",
       "      <td>...</td>\n",
       "      <td>...</td>\n",
       "      <td>...</td>\n",
       "      <td>...</td>\n",
       "      <td>...</td>\n",
       "      <td>...</td>\n",
       "      <td>...</td>\n",
       "      <td>...</td>\n",
       "      <td>...</td>\n",
       "      <td>...</td>\n",
       "      <td>...</td>\n",
       "      <td>...</td>\n",
       "      <td>...</td>\n",
       "      <td>...</td>\n",
       "      <td>...</td>\n",
       "      <td>...</td>\n",
       "    </tr>\n",
       "    <tr>\n",
       "      <th>53_10000_upper</th>\n",
       "      <td>-0.038830</td>\n",
       "      <td>0.005137</td>\n",
       "      <td>-0.110359</td>\n",
       "      <td>0.079347</td>\n",
       "      <td>-0.000025</td>\n",
       "      <td>-0.088153</td>\n",
       "      <td>0.007626</td>\n",
       "      <td>0.103040</td>\n",
       "      <td>0.038340</td>\n",
       "      <td>-0.124003</td>\n",
       "      <td>0.102878</td>\n",
       "      <td>0.111099</td>\n",
       "      <td>0.021548</td>\n",
       "      <td>-0.069101</td>\n",
       "      <td>0.114926</td>\n",
       "      <td>0.034860</td>\n",
       "      <td>-0.023822</td>\n",
       "      <td>0.147535</td>\n",
       "      <td>0.010764</td>\n",
       "      <td>0.065610</td>\n",
       "    </tr>\n",
       "    <tr>\n",
       "      <th>53_16800_upper</th>\n",
       "      <td>-0.056807</td>\n",
       "      <td>-0.139351</td>\n",
       "      <td>0.059604</td>\n",
       "      <td>0.045232</td>\n",
       "      <td>-0.050796</td>\n",
       "      <td>0.005605</td>\n",
       "      <td>-0.071659</td>\n",
       "      <td>-0.086145</td>\n",
       "      <td>0.022188</td>\n",
       "      <td>-0.003029</td>\n",
       "      <td>0.075124</td>\n",
       "      <td>0.040744</td>\n",
       "      <td>-0.056834</td>\n",
       "      <td>-0.022675</td>\n",
       "      <td>0.127152</td>\n",
       "      <td>-0.122232</td>\n",
       "      <td>0.001668</td>\n",
       "      <td>-0.172840</td>\n",
       "      <td>0.004090</td>\n",
       "      <td>0.079756</td>\n",
       "    </tr>\n",
       "    <tr>\n",
       "      <th>53_3000_upper</th>\n",
       "      <td>-0.027770</td>\n",
       "      <td>0.042130</td>\n",
       "      <td>-0.046683</td>\n",
       "      <td>0.028969</td>\n",
       "      <td>-0.036048</td>\n",
       "      <td>0.095555</td>\n",
       "      <td>0.069423</td>\n",
       "      <td>0.087145</td>\n",
       "      <td>-0.165868</td>\n",
       "      <td>-0.060132</td>\n",
       "      <td>-0.008894</td>\n",
       "      <td>0.038106</td>\n",
       "      <td>0.121276</td>\n",
       "      <td>-0.036876</td>\n",
       "      <td>0.028642</td>\n",
       "      <td>0.119201</td>\n",
       "      <td>-0.098687</td>\n",
       "      <td>-0.198199</td>\n",
       "      <td>0.066433</td>\n",
       "      <td>0.032169</td>\n",
       "    </tr>\n",
       "    <tr>\n",
       "      <th>53_6000_upper</th>\n",
       "      <td>-0.073660</td>\n",
       "      <td>0.058722</td>\n",
       "      <td>-0.121464</td>\n",
       "      <td>0.016315</td>\n",
       "      <td>-0.058177</td>\n",
       "      <td>0.033943</td>\n",
       "      <td>0.027772</td>\n",
       "      <td>-0.029563</td>\n",
       "      <td>-0.079841</td>\n",
       "      <td>-0.115068</td>\n",
       "      <td>-0.062895</td>\n",
       "      <td>-0.128839</td>\n",
       "      <td>0.050829</td>\n",
       "      <td>0.017224</td>\n",
       "      <td>0.165294</td>\n",
       "      <td>-0.073833</td>\n",
       "      <td>-0.015273</td>\n",
       "      <td>0.014166</td>\n",
       "      <td>-0.002244</td>\n",
       "      <td>0.012224</td>\n",
       "    </tr>\n",
       "    <tr>\n",
       "      <th>53_8000_upper</th>\n",
       "      <td>0.009793</td>\n",
       "      <td>-0.135166</td>\n",
       "      <td>-0.024376</td>\n",
       "      <td>-0.027206</td>\n",
       "      <td>0.075978</td>\n",
       "      <td>0.047990</td>\n",
       "      <td>0.147355</td>\n",
       "      <td>0.049257</td>\n",
       "      <td>-0.071684</td>\n",
       "      <td>0.135044</td>\n",
       "      <td>-0.067732</td>\n",
       "      <td>0.080644</td>\n",
       "      <td>0.006475</td>\n",
       "      <td>-0.028073</td>\n",
       "      <td>-0.054280</td>\n",
       "      <td>-0.008893</td>\n",
       "      <td>0.061382</td>\n",
       "      <td>0.061553</td>\n",
       "      <td>0.022095</td>\n",
       "      <td>0.043196</td>\n",
       "    </tr>\n",
       "  </tbody>\n",
       "</table>\n",
       "<p>180 rows × 20 columns</p>\n",
       "</div>"
      ],
      "text/plain": [
       "                      PC1       PC2       PC3       PC4       PC5       PC6  \\\n",
       "range_delay                                                                   \n",
       "13_10000_middle -0.062637 -0.013793  0.171355  0.012797  0.001857 -0.028571   \n",
       "13_16800_middle  0.003045 -0.138588  0.064444 -0.167300 -0.102670  0.030977   \n",
       "13_3000_middle  -0.063158 -0.081746  0.118029  0.113278  0.043207 -0.063393   \n",
       "13_6000_middle  -0.047579 -0.129155  0.043055  0.126163 -0.124598 -0.054890   \n",
       "13_8000_middle   0.001687  0.185800  0.054339  0.010732 -0.067024  0.074157   \n",
       "...                   ...       ...       ...       ...       ...       ...   \n",
       "53_10000_upper  -0.038830  0.005137 -0.110359  0.079347 -0.000025 -0.088153   \n",
       "53_16800_upper  -0.056807 -0.139351  0.059604  0.045232 -0.050796  0.005605   \n",
       "53_3000_upper   -0.027770  0.042130 -0.046683  0.028969 -0.036048  0.095555   \n",
       "53_6000_upper   -0.073660  0.058722 -0.121464  0.016315 -0.058177  0.033943   \n",
       "53_8000_upper    0.009793 -0.135166 -0.024376 -0.027206  0.075978  0.047990   \n",
       "\n",
       "                      PC7       PC8       PC9      PC10      PC11      PC12  \\\n",
       "range_delay                                                                   \n",
       "13_10000_middle  0.067159  0.141584 -0.058059  0.016567 -0.091440  0.027235   \n",
       "13_16800_middle  0.001398 -0.049565  0.008086 -0.016649 -0.019391  0.043598   \n",
       "13_3000_middle  -0.019367 -0.074488  0.049421  0.017927  0.047263 -0.039442   \n",
       "13_6000_middle   0.049619  0.017875 -0.056038  0.025231  0.065810  0.065836   \n",
       "13_8000_middle  -0.067646 -0.026107  0.079726  0.059193 -0.041479  0.066472   \n",
       "...                   ...       ...       ...       ...       ...       ...   \n",
       "53_10000_upper   0.007626  0.103040  0.038340 -0.124003  0.102878  0.111099   \n",
       "53_16800_upper  -0.071659 -0.086145  0.022188 -0.003029  0.075124  0.040744   \n",
       "53_3000_upper    0.069423  0.087145 -0.165868 -0.060132 -0.008894  0.038106   \n",
       "53_6000_upper    0.027772 -0.029563 -0.079841 -0.115068 -0.062895 -0.128839   \n",
       "53_8000_upper    0.147355  0.049257 -0.071684  0.135044 -0.067732  0.080644   \n",
       "\n",
       "                     PC13      PC14      PC15      PC16      PC17      PC18  \\\n",
       "range_delay                                                                   \n",
       "13_10000_middle  0.004726  0.010067 -0.022787 -0.015964 -0.104168 -0.022791   \n",
       "13_16800_middle  0.030261  0.049240  0.009725 -0.010787 -0.003176  0.005804   \n",
       "13_3000_middle  -0.117985 -0.054557  0.031638  0.093789 -0.084035 -0.068800   \n",
       "13_6000_middle  -0.025736  0.047490 -0.053438 -0.006449 -0.037532 -0.055330   \n",
       "13_8000_middle   0.002342  0.092759 -0.032529 -0.018794 -0.037017 -0.036859   \n",
       "...                   ...       ...       ...       ...       ...       ...   \n",
       "53_10000_upper   0.021548 -0.069101  0.114926  0.034860 -0.023822  0.147535   \n",
       "53_16800_upper  -0.056834 -0.022675  0.127152 -0.122232  0.001668 -0.172840   \n",
       "53_3000_upper    0.121276 -0.036876  0.028642  0.119201 -0.098687 -0.198199   \n",
       "53_6000_upper    0.050829  0.017224  0.165294 -0.073833 -0.015273  0.014166   \n",
       "53_8000_upper    0.006475 -0.028073 -0.054280 -0.008893  0.061382  0.061553   \n",
       "\n",
       "                     PC19      PC20  \n",
       "range_delay                          \n",
       "13_10000_middle  0.091411  0.384508  \n",
       "13_16800_middle -0.025911 -0.398612  \n",
       "13_3000_middle   0.048131  0.170722  \n",
       "13_6000_middle   0.003919 -0.244032  \n",
       "13_8000_middle   0.020352 -0.058851  \n",
       "...                   ...       ...  \n",
       "53_10000_upper   0.010764  0.065610  \n",
       "53_16800_upper   0.004090  0.079756  \n",
       "53_3000_upper    0.066433  0.032169  \n",
       "53_6000_upper   -0.002244  0.012224  \n",
       "53_8000_upper    0.022095  0.043196  \n",
       "\n",
       "[180 rows x 20 columns]"
      ]
     },
     "execution_count": 131,
     "metadata": {},
     "output_type": "execute_result"
    }
   ],
   "source": [
    "# Create a DataFrame for the loadings\n",
    "loading_df = pd.DataFrame(loadings.T, columns=[f'PC{i+1}' for i in range(loadings.shape[0])], index=features.columns)\n",
    "loading_df"
   ]
  },
  {
   "cell_type": "code",
   "execution_count": 132,
   "metadata": {},
   "outputs": [
    {
     "data": {
      "text/html": [
       "<div>\n",
       "<style scoped>\n",
       "    .dataframe tbody tr th:only-of-type {\n",
       "        vertical-align: middle;\n",
       "    }\n",
       "\n",
       "    .dataframe tbody tr th {\n",
       "        vertical-align: top;\n",
       "    }\n",
       "\n",
       "    .dataframe thead th {\n",
       "        text-align: right;\n",
       "    }\n",
       "</style>\n",
       "<table border=\"1\" class=\"dataframe\">\n",
       "  <thead>\n",
       "    <tr style=\"text-align: right;\">\n",
       "      <th></th>\n",
       "      <th>Feature</th>\n",
       "      <th>Importance</th>\n",
       "    </tr>\n",
       "  </thead>\n",
       "  <tbody>\n",
       "    <tr>\n",
       "      <th>162</th>\n",
       "      <td>38_3000_upper</td>\n",
       "      <td>1.116004</td>\n",
       "    </tr>\n",
       "    <tr>\n",
       "      <th>109</th>\n",
       "      <td>43_8000_lower</td>\n",
       "      <td>1.100509</td>\n",
       "    </tr>\n",
       "    <tr>\n",
       "      <th>99</th>\n",
       "      <td>33_8000_lower</td>\n",
       "      <td>1.096714</td>\n",
       "    </tr>\n",
       "    <tr>\n",
       "      <th>133</th>\n",
       "      <td>17_6000_upper</td>\n",
       "      <td>1.095999</td>\n",
       "    </tr>\n",
       "    <tr>\n",
       "      <th>102</th>\n",
       "      <td>38_3000_lower</td>\n",
       "      <td>1.079527</td>\n",
       "    </tr>\n",
       "    <tr>\n",
       "      <th>149</th>\n",
       "      <td>23_8000_upper</td>\n",
       "      <td>1.077311</td>\n",
       "    </tr>\n",
       "    <tr>\n",
       "      <th>63</th>\n",
       "      <td>13_6000_lower</td>\n",
       "      <td>1.072422</td>\n",
       "    </tr>\n",
       "    <tr>\n",
       "      <th>79</th>\n",
       "      <td>19_8000_lower</td>\n",
       "      <td>1.068273</td>\n",
       "    </tr>\n",
       "    <tr>\n",
       "      <th>114</th>\n",
       "      <td>48_8000_lower</td>\n",
       "      <td>1.060010</td>\n",
       "    </tr>\n",
       "    <tr>\n",
       "      <th>70</th>\n",
       "      <td>17_10000_lower</td>\n",
       "      <td>1.058571</td>\n",
       "    </tr>\n",
       "    <tr>\n",
       "      <th>168</th>\n",
       "      <td>43_6000_upper</td>\n",
       "      <td>1.050231</td>\n",
       "    </tr>\n",
       "    <tr>\n",
       "      <th>145</th>\n",
       "      <td>23_10000_upper</td>\n",
       "      <td>1.048573</td>\n",
       "    </tr>\n",
       "    <tr>\n",
       "      <th>71</th>\n",
       "      <td>17_16800_lower</td>\n",
       "      <td>1.045939</td>\n",
       "    </tr>\n",
       "    <tr>\n",
       "      <th>178</th>\n",
       "      <td>53_6000_upper</td>\n",
       "      <td>1.039605</td>\n",
       "    </tr>\n",
       "    <tr>\n",
       "      <th>123</th>\n",
       "      <td>13_6000_upper</td>\n",
       "      <td>1.037643</td>\n",
       "    </tr>\n",
       "    <tr>\n",
       "      <th>135</th>\n",
       "      <td>19_10000_upper</td>\n",
       "      <td>1.033834</td>\n",
       "    </tr>\n",
       "    <tr>\n",
       "      <th>164</th>\n",
       "      <td>38_8000_upper</td>\n",
       "      <td>1.026501</td>\n",
       "    </tr>\n",
       "    <tr>\n",
       "      <th>91</th>\n",
       "      <td>28_16800_lower</td>\n",
       "      <td>1.025603</td>\n",
       "    </tr>\n",
       "    <tr>\n",
       "      <th>174</th>\n",
       "      <td>48_8000_upper</td>\n",
       "      <td>1.025227</td>\n",
       "    </tr>\n",
       "    <tr>\n",
       "      <th>173</th>\n",
       "      <td>48_6000_upper</td>\n",
       "      <td>1.021221</td>\n",
       "    </tr>\n",
       "    <tr>\n",
       "      <th>159</th>\n",
       "      <td>33_8000_upper</td>\n",
       "      <td>1.017423</td>\n",
       "    </tr>\n",
       "    <tr>\n",
       "      <th>124</th>\n",
       "      <td>13_8000_upper</td>\n",
       "      <td>1.017172</td>\n",
       "    </tr>\n",
       "    <tr>\n",
       "      <th>151</th>\n",
       "      <td>28_16800_upper</td>\n",
       "      <td>1.014961</td>\n",
       "    </tr>\n",
       "    <tr>\n",
       "      <th>84</th>\n",
       "      <td>21_8000_lower</td>\n",
       "      <td>1.014648</td>\n",
       "    </tr>\n",
       "    <tr>\n",
       "      <th>175</th>\n",
       "      <td>53_10000_upper</td>\n",
       "      <td>1.014414</td>\n",
       "    </tr>\n",
       "    <tr>\n",
       "      <th>110</th>\n",
       "      <td>48_10000_lower</td>\n",
       "      <td>1.011849</td>\n",
       "    </tr>\n",
       "    <tr>\n",
       "      <th>8</th>\n",
       "      <td>15_6000_middle</td>\n",
       "      <td>1.010892</td>\n",
       "    </tr>\n",
       "    <tr>\n",
       "      <th>46</th>\n",
       "      <td>43_16800_middle</td>\n",
       "      <td>1.010236</td>\n",
       "    </tr>\n",
       "    <tr>\n",
       "      <th>170</th>\n",
       "      <td>48_10000_upper</td>\n",
       "      <td>1.006467</td>\n",
       "    </tr>\n",
       "    <tr>\n",
       "      <th>86</th>\n",
       "      <td>23_16800_lower</td>\n",
       "      <td>1.005840</td>\n",
       "    </tr>\n",
       "    <tr>\n",
       "      <th>117</th>\n",
       "      <td>53_3000_lower</td>\n",
       "      <td>1.004484</td>\n",
       "    </tr>\n",
       "    <tr>\n",
       "      <th>137</th>\n",
       "      <td>19_3000_upper</td>\n",
       "      <td>1.004293</td>\n",
       "    </tr>\n",
       "    <tr>\n",
       "      <th>107</th>\n",
       "      <td>43_3000_lower</td>\n",
       "      <td>1.003975</td>\n",
       "    </tr>\n",
       "    <tr>\n",
       "      <th>144</th>\n",
       "      <td>21_8000_upper</td>\n",
       "      <td>1.002892</td>\n",
       "    </tr>\n",
       "    <tr>\n",
       "      <th>104</th>\n",
       "      <td>38_8000_lower</td>\n",
       "      <td>1.002809</td>\n",
       "    </tr>\n",
       "    <tr>\n",
       "      <th>51</th>\n",
       "      <td>48_16800_middle</td>\n",
       "      <td>1.000674</td>\n",
       "    </tr>\n",
       "    <tr>\n",
       "      <th>85</th>\n",
       "      <td>23_10000_lower</td>\n",
       "      <td>0.996977</td>\n",
       "    </tr>\n",
       "    <tr>\n",
       "      <th>152</th>\n",
       "      <td>28_3000_upper</td>\n",
       "      <td>0.995047</td>\n",
       "    </tr>\n",
       "    <tr>\n",
       "      <th>111</th>\n",
       "      <td>48_16800_lower</td>\n",
       "      <td>0.986821</td>\n",
       "    </tr>\n",
       "    <tr>\n",
       "      <th>119</th>\n",
       "      <td>53_8000_lower</td>\n",
       "      <td>0.984030</td>\n",
       "    </tr>\n",
       "    <tr>\n",
       "      <th>125</th>\n",
       "      <td>15_10000_upper</td>\n",
       "      <td>0.983664</td>\n",
       "    </tr>\n",
       "    <tr>\n",
       "      <th>96</th>\n",
       "      <td>33_16800_lower</td>\n",
       "      <td>0.983508</td>\n",
       "    </tr>\n",
       "    <tr>\n",
       "      <th>90</th>\n",
       "      <td>28_10000_lower</td>\n",
       "      <td>0.977286</td>\n",
       "    </tr>\n",
       "    <tr>\n",
       "      <th>68</th>\n",
       "      <td>15_6000_lower</td>\n",
       "      <td>0.976725</td>\n",
       "    </tr>\n",
       "    <tr>\n",
       "      <th>38</th>\n",
       "      <td>33_6000_middle</td>\n",
       "      <td>0.976051</td>\n",
       "    </tr>\n",
       "    <tr>\n",
       "      <th>82</th>\n",
       "      <td>21_3000_lower</td>\n",
       "      <td>0.972347</td>\n",
       "    </tr>\n",
       "    <tr>\n",
       "      <th>153</th>\n",
       "      <td>28_6000_upper</td>\n",
       "      <td>0.971740</td>\n",
       "    </tr>\n",
       "    <tr>\n",
       "      <th>76</th>\n",
       "      <td>19_16800_lower</td>\n",
       "      <td>0.969385</td>\n",
       "    </tr>\n",
       "    <tr>\n",
       "      <th>34</th>\n",
       "      <td>28_8000_middle</td>\n",
       "      <td>0.966921</td>\n",
       "    </tr>\n",
       "    <tr>\n",
       "      <th>33</th>\n",
       "      <td>28_6000_middle</td>\n",
       "      <td>0.966315</td>\n",
       "    </tr>\n",
       "  </tbody>\n",
       "</table>\n",
       "</div>"
      ],
      "text/plain": [
       "             Feature  Importance\n",
       "162    38_3000_upper    1.116004\n",
       "109    43_8000_lower    1.100509\n",
       "99     33_8000_lower    1.096714\n",
       "133    17_6000_upper    1.095999\n",
       "102    38_3000_lower    1.079527\n",
       "149    23_8000_upper    1.077311\n",
       "63     13_6000_lower    1.072422\n",
       "79     19_8000_lower    1.068273\n",
       "114    48_8000_lower    1.060010\n",
       "70    17_10000_lower    1.058571\n",
       "168    43_6000_upper    1.050231\n",
       "145   23_10000_upper    1.048573\n",
       "71    17_16800_lower    1.045939\n",
       "178    53_6000_upper    1.039605\n",
       "123    13_6000_upper    1.037643\n",
       "135   19_10000_upper    1.033834\n",
       "164    38_8000_upper    1.026501\n",
       "91    28_16800_lower    1.025603\n",
       "174    48_8000_upper    1.025227\n",
       "173    48_6000_upper    1.021221\n",
       "159    33_8000_upper    1.017423\n",
       "124    13_8000_upper    1.017172\n",
       "151   28_16800_upper    1.014961\n",
       "84     21_8000_lower    1.014648\n",
       "175   53_10000_upper    1.014414\n",
       "110   48_10000_lower    1.011849\n",
       "8     15_6000_middle    1.010892\n",
       "46   43_16800_middle    1.010236\n",
       "170   48_10000_upper    1.006467\n",
       "86    23_16800_lower    1.005840\n",
       "117    53_3000_lower    1.004484\n",
       "137    19_3000_upper    1.004293\n",
       "107    43_3000_lower    1.003975\n",
       "144    21_8000_upper    1.002892\n",
       "104    38_8000_lower    1.002809\n",
       "51   48_16800_middle    1.000674\n",
       "85    23_10000_lower    0.996977\n",
       "152    28_3000_upper    0.995047\n",
       "111   48_16800_lower    0.986821\n",
       "119    53_8000_lower    0.984030\n",
       "125   15_10000_upper    0.983664\n",
       "96    33_16800_lower    0.983508\n",
       "90    28_10000_lower    0.977286\n",
       "68     15_6000_lower    0.976725\n",
       "38    33_6000_middle    0.976051\n",
       "82     21_3000_lower    0.972347\n",
       "153    28_6000_upper    0.971740\n",
       "76    19_16800_lower    0.969385\n",
       "34    28_8000_middle    0.966921\n",
       "33    28_6000_middle    0.966315"
      ]
     },
     "execution_count": 132,
     "metadata": {},
     "output_type": "execute_result"
    }
   ],
   "source": [
    "# Determine the number of components to retain 90% variance\n",
    "cumulative_variance = np.cumsum(explained_variance)\n",
    "num_components = np.argmax(cumulative_variance >= 0.9) + 1\n",
    "\n",
    "# Get the loadings for the selected components\n",
    "selected_loadings = loadings[:num_components, :]\n",
    "\n",
    "# Calculate the importance of each feature by summing the absolute values of its loadings across the selected components\n",
    "feature_importance = np.sum(np.abs(selected_loadings), axis=0)\n",
    "\n",
    "# Create a DataFrame for feature importance\n",
    "feature_importance_df = pd.DataFrame({'Feature': features.columns, 'Importance': feature_importance})\n",
    "\n",
    "# Sort the features by importance\n",
    "feature_importance_df = feature_importance_df.sort_values(by='Importance', ascending=False)\n",
    "\n",
    "# Select the top N features (e.g., top 10 features)\n",
    "top_features = feature_importance_df.head(50)\n",
    "\n",
    "top_features"
   ]
  },
  {
   "cell_type": "markdown",
   "metadata": {},
   "source": [
    "Having many features with an importance score over 1 can be interpreted in various ways.\n",
    "\n",
    "Implication 1: Distributed Contribution\n",
    "- Distributed Contribution: When many features have high importance scores, it indicates that the variance in the data is distributed across multiple features rather than being dominated by a few.\n",
    "- Balanced Influence: This suggests a balanced influence where no single feature overwhelmingly explains the variance, but rather, multiple features contribute significantly.\n",
    "\n",
    "Implication 2: Multicollinearity\n",
    "- Multicollinearity: It might indicate the presence of multicollinearity, where multiple features are correlated with each other and together contribute to the same principal components.\n",
    "- Redundancy: In such cases, there might be redundancy in the information provided by these features\n",
    "\n",
    "\n",
    "\n",
    "To address these issues we could look into correlation matrix and use regularization technique to reduce it"
   ]
  },
  {
   "cell_type": "markdown",
   "metadata": {},
   "source": [
    "## Investigate Multicollinearity"
   ]
  },
  {
   "cell_type": "markdown",
   "metadata": {},
   "source": [
    "### Analyze using correlation matrix"
   ]
  },
  {
   "cell_type": "code",
   "execution_count": 133,
   "metadata": {},
   "outputs": [],
   "source": [
    "# List of DataFrames\n",
    "df_pivots = [df_range_delay_lower, df_range_delay_upper]\n",
    "\n",
    "# Initialize the merged DataFrame with the first DataFrame in the list\n",
    "df_range_delay_ends = df_pivots[0]\n",
    "\n",
    "# Iteratively merge each DataFrame in the list\n",
    "for df in df_pivots[1:]:\n",
    "    df_range_delay_ends = df_range_delay_ends.merge(df, on='Sensor ID')\n",
    "# Replace all NaN values with 0 in the merged DataFrame\n",
    "df_range_delay_ends.fillna(0, inplace=True)"
   ]
  },
  {
   "cell_type": "code",
   "execution_count": 134,
   "metadata": {},
   "outputs": [],
   "source": [
    "df_range_delay_corr= df_range_delay_ends.drop([\"Sensor ID\"], axis = 1)"
   ]
  },
  {
   "cell_type": "code",
   "execution_count": 135,
   "metadata": {},
   "outputs": [
    {
     "data": {
      "text/html": [
       "<div>\n",
       "<style scoped>\n",
       "    .dataframe tbody tr th:only-of-type {\n",
       "        vertical-align: middle;\n",
       "    }\n",
       "\n",
       "    .dataframe tbody tr th {\n",
       "        vertical-align: top;\n",
       "    }\n",
       "\n",
       "    .dataframe thead th {\n",
       "        text-align: right;\n",
       "    }\n",
       "</style>\n",
       "<table border=\"1\" class=\"dataframe\">\n",
       "  <thead>\n",
       "    <tr style=\"text-align: right;\">\n",
       "      <th>range_delay</th>\n",
       "      <th>13_10000_lower</th>\n",
       "      <th>13_16800_lower</th>\n",
       "      <th>13_3000_lower</th>\n",
       "      <th>13_6000_lower</th>\n",
       "      <th>13_8000_lower</th>\n",
       "      <th>15_10000_lower</th>\n",
       "      <th>15_16800_lower</th>\n",
       "      <th>15_3000_lower</th>\n",
       "      <th>15_6000_lower</th>\n",
       "      <th>15_8000_lower</th>\n",
       "      <th>...</th>\n",
       "      <th>48_10000_upper</th>\n",
       "      <th>48_16800_upper</th>\n",
       "      <th>48_3000_upper</th>\n",
       "      <th>48_6000_upper</th>\n",
       "      <th>48_8000_upper</th>\n",
       "      <th>53_10000_upper</th>\n",
       "      <th>53_16800_upper</th>\n",
       "      <th>53_3000_upper</th>\n",
       "      <th>53_6000_upper</th>\n",
       "      <th>53_8000_upper</th>\n",
       "    </tr>\n",
       "    <tr>\n",
       "      <th>range_delay</th>\n",
       "      <th></th>\n",
       "      <th></th>\n",
       "      <th></th>\n",
       "      <th></th>\n",
       "      <th></th>\n",
       "      <th></th>\n",
       "      <th></th>\n",
       "      <th></th>\n",
       "      <th></th>\n",
       "      <th></th>\n",
       "      <th></th>\n",
       "      <th></th>\n",
       "      <th></th>\n",
       "      <th></th>\n",
       "      <th></th>\n",
       "      <th></th>\n",
       "      <th></th>\n",
       "      <th></th>\n",
       "      <th></th>\n",
       "      <th></th>\n",
       "      <th></th>\n",
       "    </tr>\n",
       "  </thead>\n",
       "  <tbody>\n",
       "    <tr>\n",
       "      <th>13_10000_lower</th>\n",
       "      <td>1.000000</td>\n",
       "      <td>0.236295</td>\n",
       "      <td>0.002292</td>\n",
       "      <td>0.122685</td>\n",
       "      <td>-0.032947</td>\n",
       "      <td>0.114392</td>\n",
       "      <td>0.340195</td>\n",
       "      <td>-0.149372</td>\n",
       "      <td>0.117934</td>\n",
       "      <td>0.343679</td>\n",
       "      <td>...</td>\n",
       "      <td>0.416099</td>\n",
       "      <td>-0.081529</td>\n",
       "      <td>0.344073</td>\n",
       "      <td>-0.010593</td>\n",
       "      <td>0.157611</td>\n",
       "      <td>-0.113274</td>\n",
       "      <td>0.041019</td>\n",
       "      <td>-0.250578</td>\n",
       "      <td>-0.121994</td>\n",
       "      <td>0.169347</td>\n",
       "    </tr>\n",
       "    <tr>\n",
       "      <th>13_16800_lower</th>\n",
       "      <td>0.236295</td>\n",
       "      <td>1.000000</td>\n",
       "      <td>-0.143582</td>\n",
       "      <td>0.299324</td>\n",
       "      <td>-0.131703</td>\n",
       "      <td>-0.309293</td>\n",
       "      <td>0.020748</td>\n",
       "      <td>-0.125895</td>\n",
       "      <td>-0.227713</td>\n",
       "      <td>-0.226251</td>\n",
       "      <td>...</td>\n",
       "      <td>0.096568</td>\n",
       "      <td>-0.186241</td>\n",
       "      <td>0.180519</td>\n",
       "      <td>0.392867</td>\n",
       "      <td>0.349222</td>\n",
       "      <td>-0.002955</td>\n",
       "      <td>0.118271</td>\n",
       "      <td>0.162964</td>\n",
       "      <td>-0.034354</td>\n",
       "      <td>-0.026792</td>\n",
       "    </tr>\n",
       "    <tr>\n",
       "      <th>13_3000_lower</th>\n",
       "      <td>0.002292</td>\n",
       "      <td>-0.143582</td>\n",
       "      <td>1.000000</td>\n",
       "      <td>0.055356</td>\n",
       "      <td>-0.324833</td>\n",
       "      <td>-0.111656</td>\n",
       "      <td>0.261272</td>\n",
       "      <td>0.429110</td>\n",
       "      <td>0.808378</td>\n",
       "      <td>0.025861</td>\n",
       "      <td>...</td>\n",
       "      <td>-0.086251</td>\n",
       "      <td>0.674675</td>\n",
       "      <td>-0.068705</td>\n",
       "      <td>-0.225055</td>\n",
       "      <td>0.205513</td>\n",
       "      <td>-0.085804</td>\n",
       "      <td>0.099761</td>\n",
       "      <td>-0.078084</td>\n",
       "      <td>0.048505</td>\n",
       "      <td>0.165779</td>\n",
       "    </tr>\n",
       "    <tr>\n",
       "      <th>13_6000_lower</th>\n",
       "      <td>0.122685</td>\n",
       "      <td>0.299324</td>\n",
       "      <td>0.055356</td>\n",
       "      <td>1.000000</td>\n",
       "      <td>-0.449599</td>\n",
       "      <td>-0.041819</td>\n",
       "      <td>-0.002095</td>\n",
       "      <td>0.250701</td>\n",
       "      <td>-0.115900</td>\n",
       "      <td>-0.143607</td>\n",
       "      <td>...</td>\n",
       "      <td>-0.025949</td>\n",
       "      <td>-0.247237</td>\n",
       "      <td>0.193815</td>\n",
       "      <td>0.020764</td>\n",
       "      <td>-0.051958</td>\n",
       "      <td>-0.124016</td>\n",
       "      <td>-0.128180</td>\n",
       "      <td>0.404111</td>\n",
       "      <td>0.155029</td>\n",
       "      <td>0.199314</td>\n",
       "    </tr>\n",
       "    <tr>\n",
       "      <th>13_8000_lower</th>\n",
       "      <td>-0.032947</td>\n",
       "      <td>-0.131703</td>\n",
       "      <td>-0.324833</td>\n",
       "      <td>-0.449599</td>\n",
       "      <td>1.000000</td>\n",
       "      <td>0.141941</td>\n",
       "      <td>-0.095507</td>\n",
       "      <td>-0.114626</td>\n",
       "      <td>-0.175368</td>\n",
       "      <td>0.497573</td>\n",
       "      <td>...</td>\n",
       "      <td>0.050423</td>\n",
       "      <td>-0.366577</td>\n",
       "      <td>0.212183</td>\n",
       "      <td>-0.143770</td>\n",
       "      <td>-0.228935</td>\n",
       "      <td>-0.407911</td>\n",
       "      <td>0.011314</td>\n",
       "      <td>-0.066590</td>\n",
       "      <td>-0.216861</td>\n",
       "      <td>-0.236158</td>\n",
       "    </tr>\n",
       "    <tr>\n",
       "      <th>...</th>\n",
       "      <td>...</td>\n",
       "      <td>...</td>\n",
       "      <td>...</td>\n",
       "      <td>...</td>\n",
       "      <td>...</td>\n",
       "      <td>...</td>\n",
       "      <td>...</td>\n",
       "      <td>...</td>\n",
       "      <td>...</td>\n",
       "      <td>...</td>\n",
       "      <td>...</td>\n",
       "      <td>...</td>\n",
       "      <td>...</td>\n",
       "      <td>...</td>\n",
       "      <td>...</td>\n",
       "      <td>...</td>\n",
       "      <td>...</td>\n",
       "      <td>...</td>\n",
       "      <td>...</td>\n",
       "      <td>...</td>\n",
       "      <td>...</td>\n",
       "    </tr>\n",
       "    <tr>\n",
       "      <th>53_10000_upper</th>\n",
       "      <td>-0.113274</td>\n",
       "      <td>-0.002955</td>\n",
       "      <td>-0.085804</td>\n",
       "      <td>-0.124016</td>\n",
       "      <td>-0.407911</td>\n",
       "      <td>-0.167401</td>\n",
       "      <td>0.006242</td>\n",
       "      <td>-0.187297</td>\n",
       "      <td>-0.235718</td>\n",
       "      <td>-0.325534</td>\n",
       "      <td>...</td>\n",
       "      <td>0.094080</td>\n",
       "      <td>0.043077</td>\n",
       "      <td>-0.296343</td>\n",
       "      <td>0.383409</td>\n",
       "      <td>-0.135517</td>\n",
       "      <td>1.000000</td>\n",
       "      <td>-0.053723</td>\n",
       "      <td>0.133436</td>\n",
       "      <td>0.297837</td>\n",
       "      <td>-0.135669</td>\n",
       "    </tr>\n",
       "    <tr>\n",
       "      <th>53_16800_upper</th>\n",
       "      <td>0.041019</td>\n",
       "      <td>0.118271</td>\n",
       "      <td>0.099761</td>\n",
       "      <td>-0.128180</td>\n",
       "      <td>0.011314</td>\n",
       "      <td>0.257261</td>\n",
       "      <td>0.397080</td>\n",
       "      <td>0.249573</td>\n",
       "      <td>0.061023</td>\n",
       "      <td>0.038770</td>\n",
       "      <td>...</td>\n",
       "      <td>-0.154449</td>\n",
       "      <td>0.157375</td>\n",
       "      <td>-0.245912</td>\n",
       "      <td>0.069815</td>\n",
       "      <td>0.530969</td>\n",
       "      <td>-0.053723</td>\n",
       "      <td>1.000000</td>\n",
       "      <td>-0.155497</td>\n",
       "      <td>-0.053512</td>\n",
       "      <td>-0.038504</td>\n",
       "    </tr>\n",
       "    <tr>\n",
       "      <th>53_3000_upper</th>\n",
       "      <td>-0.250578</td>\n",
       "      <td>0.162964</td>\n",
       "      <td>-0.078084</td>\n",
       "      <td>0.404111</td>\n",
       "      <td>-0.066590</td>\n",
       "      <td>-0.116462</td>\n",
       "      <td>-0.169245</td>\n",
       "      <td>-0.253607</td>\n",
       "      <td>-0.075498</td>\n",
       "      <td>0.132154</td>\n",
       "      <td>...</td>\n",
       "      <td>0.074006</td>\n",
       "      <td>-0.165674</td>\n",
       "      <td>-0.206478</td>\n",
       "      <td>-0.030295</td>\n",
       "      <td>-0.147032</td>\n",
       "      <td>0.133436</td>\n",
       "      <td>-0.155497</td>\n",
       "      <td>1.000000</td>\n",
       "      <td>0.410736</td>\n",
       "      <td>0.062992</td>\n",
       "    </tr>\n",
       "    <tr>\n",
       "      <th>53_6000_upper</th>\n",
       "      <td>-0.121994</td>\n",
       "      <td>-0.034354</td>\n",
       "      <td>0.048505</td>\n",
       "      <td>0.155029</td>\n",
       "      <td>-0.216861</td>\n",
       "      <td>-0.083369</td>\n",
       "      <td>-0.023682</td>\n",
       "      <td>-0.207489</td>\n",
       "      <td>-0.101833</td>\n",
       "      <td>0.045357</td>\n",
       "      <td>...</td>\n",
       "      <td>0.165015</td>\n",
       "      <td>-0.234697</td>\n",
       "      <td>-0.189789</td>\n",
       "      <td>0.252712</td>\n",
       "      <td>-0.061021</td>\n",
       "      <td>0.297837</td>\n",
       "      <td>-0.053512</td>\n",
       "      <td>0.410736</td>\n",
       "      <td>1.000000</td>\n",
       "      <td>-0.280433</td>\n",
       "    </tr>\n",
       "    <tr>\n",
       "      <th>53_8000_upper</th>\n",
       "      <td>0.169347</td>\n",
       "      <td>-0.026792</td>\n",
       "      <td>0.165779</td>\n",
       "      <td>0.199314</td>\n",
       "      <td>-0.236158</td>\n",
       "      <td>0.126211</td>\n",
       "      <td>0.240820</td>\n",
       "      <td>0.150396</td>\n",
       "      <td>0.295885</td>\n",
       "      <td>-0.049290</td>\n",
       "      <td>...</td>\n",
       "      <td>0.041666</td>\n",
       "      <td>0.247688</td>\n",
       "      <td>-0.155811</td>\n",
       "      <td>-0.480245</td>\n",
       "      <td>0.040836</td>\n",
       "      <td>-0.135669</td>\n",
       "      <td>-0.038504</td>\n",
       "      <td>0.062992</td>\n",
       "      <td>-0.280433</td>\n",
       "      <td>1.000000</td>\n",
       "    </tr>\n",
       "  </tbody>\n",
       "</table>\n",
       "<p>120 rows × 120 columns</p>\n",
       "</div>"
      ],
      "text/plain": [
       "range_delay     13_10000_lower  13_16800_lower  13_3000_lower  13_6000_lower  \\\n",
       "range_delay                                                                    \n",
       "13_10000_lower        1.000000        0.236295       0.002292       0.122685   \n",
       "13_16800_lower        0.236295        1.000000      -0.143582       0.299324   \n",
       "13_3000_lower         0.002292       -0.143582       1.000000       0.055356   \n",
       "13_6000_lower         0.122685        0.299324       0.055356       1.000000   \n",
       "13_8000_lower        -0.032947       -0.131703      -0.324833      -0.449599   \n",
       "...                        ...             ...            ...            ...   \n",
       "53_10000_upper       -0.113274       -0.002955      -0.085804      -0.124016   \n",
       "53_16800_upper        0.041019        0.118271       0.099761      -0.128180   \n",
       "53_3000_upper        -0.250578        0.162964      -0.078084       0.404111   \n",
       "53_6000_upper        -0.121994       -0.034354       0.048505       0.155029   \n",
       "53_8000_upper         0.169347       -0.026792       0.165779       0.199314   \n",
       "\n",
       "range_delay     13_8000_lower  15_10000_lower  15_16800_lower  15_3000_lower  \\\n",
       "range_delay                                                                    \n",
       "13_10000_lower      -0.032947        0.114392        0.340195      -0.149372   \n",
       "13_16800_lower      -0.131703       -0.309293        0.020748      -0.125895   \n",
       "13_3000_lower       -0.324833       -0.111656        0.261272       0.429110   \n",
       "13_6000_lower       -0.449599       -0.041819       -0.002095       0.250701   \n",
       "13_8000_lower        1.000000        0.141941       -0.095507      -0.114626   \n",
       "...                       ...             ...             ...            ...   \n",
       "53_10000_upper      -0.407911       -0.167401        0.006242      -0.187297   \n",
       "53_16800_upper       0.011314        0.257261        0.397080       0.249573   \n",
       "53_3000_upper       -0.066590       -0.116462       -0.169245      -0.253607   \n",
       "53_6000_upper       -0.216861       -0.083369       -0.023682      -0.207489   \n",
       "53_8000_upper       -0.236158        0.126211        0.240820       0.150396   \n",
       "\n",
       "range_delay     15_6000_lower  15_8000_lower  ...  48_10000_upper  \\\n",
       "range_delay                                   ...                   \n",
       "13_10000_lower       0.117934       0.343679  ...        0.416099   \n",
       "13_16800_lower      -0.227713      -0.226251  ...        0.096568   \n",
       "13_3000_lower        0.808378       0.025861  ...       -0.086251   \n",
       "13_6000_lower       -0.115900      -0.143607  ...       -0.025949   \n",
       "13_8000_lower       -0.175368       0.497573  ...        0.050423   \n",
       "...                       ...            ...  ...             ...   \n",
       "53_10000_upper      -0.235718      -0.325534  ...        0.094080   \n",
       "53_16800_upper       0.061023       0.038770  ...       -0.154449   \n",
       "53_3000_upper       -0.075498       0.132154  ...        0.074006   \n",
       "53_6000_upper       -0.101833       0.045357  ...        0.165015   \n",
       "53_8000_upper        0.295885      -0.049290  ...        0.041666   \n",
       "\n",
       "range_delay     48_16800_upper  48_3000_upper  48_6000_upper  48_8000_upper  \\\n",
       "range_delay                                                                   \n",
       "13_10000_lower       -0.081529       0.344073      -0.010593       0.157611   \n",
       "13_16800_lower       -0.186241       0.180519       0.392867       0.349222   \n",
       "13_3000_lower         0.674675      -0.068705      -0.225055       0.205513   \n",
       "13_6000_lower        -0.247237       0.193815       0.020764      -0.051958   \n",
       "13_8000_lower        -0.366577       0.212183      -0.143770      -0.228935   \n",
       "...                        ...            ...            ...            ...   \n",
       "53_10000_upper        0.043077      -0.296343       0.383409      -0.135517   \n",
       "53_16800_upper        0.157375      -0.245912       0.069815       0.530969   \n",
       "53_3000_upper        -0.165674      -0.206478      -0.030295      -0.147032   \n",
       "53_6000_upper        -0.234697      -0.189789       0.252712      -0.061021   \n",
       "53_8000_upper         0.247688      -0.155811      -0.480245       0.040836   \n",
       "\n",
       "range_delay     53_10000_upper  53_16800_upper  53_3000_upper  53_6000_upper  \\\n",
       "range_delay                                                                    \n",
       "13_10000_lower       -0.113274        0.041019      -0.250578      -0.121994   \n",
       "13_16800_lower       -0.002955        0.118271       0.162964      -0.034354   \n",
       "13_3000_lower        -0.085804        0.099761      -0.078084       0.048505   \n",
       "13_6000_lower        -0.124016       -0.128180       0.404111       0.155029   \n",
       "13_8000_lower        -0.407911        0.011314      -0.066590      -0.216861   \n",
       "...                        ...             ...            ...            ...   \n",
       "53_10000_upper        1.000000       -0.053723       0.133436       0.297837   \n",
       "53_16800_upper       -0.053723        1.000000      -0.155497      -0.053512   \n",
       "53_3000_upper         0.133436       -0.155497       1.000000       0.410736   \n",
       "53_6000_upper         0.297837       -0.053512       0.410736       1.000000   \n",
       "53_8000_upper        -0.135669       -0.038504       0.062992      -0.280433   \n",
       "\n",
       "range_delay     53_8000_upper  \n",
       "range_delay                    \n",
       "13_10000_lower       0.169347  \n",
       "13_16800_lower      -0.026792  \n",
       "13_3000_lower        0.165779  \n",
       "13_6000_lower        0.199314  \n",
       "13_8000_lower       -0.236158  \n",
       "...                       ...  \n",
       "53_10000_upper      -0.135669  \n",
       "53_16800_upper      -0.038504  \n",
       "53_3000_upper        0.062992  \n",
       "53_6000_upper       -0.280433  \n",
       "53_8000_upper        1.000000  \n",
       "\n",
       "[120 rows x 120 columns]"
      ]
     },
     "execution_count": 135,
     "metadata": {},
     "output_type": "execute_result"
    }
   ],
   "source": [
    "# Calculate the correlation matrix for the dataset\n",
    "correlation_matrix = df_range_delay_corr.corr()\n",
    "correlation_matrix\n"
   ]
  },
  {
   "cell_type": "code",
   "execution_count": 136,
   "metadata": {},
   "outputs": [
    {
     "data": {
      "text/html": [
       "<div>\n",
       "<style scoped>\n",
       "    .dataframe tbody tr th:only-of-type {\n",
       "        vertical-align: middle;\n",
       "    }\n",
       "\n",
       "    .dataframe tbody tr th {\n",
       "        vertical-align: top;\n",
       "    }\n",
       "\n",
       "    .dataframe thead th {\n",
       "        text-align: right;\n",
       "    }\n",
       "</style>\n",
       "<table border=\"1\" class=\"dataframe\">\n",
       "  <thead>\n",
       "    <tr style=\"text-align: right;\">\n",
       "      <th></th>\n",
       "      <th>Feature 1</th>\n",
       "      <th>Feature 2</th>\n",
       "      <th>Correlation</th>\n",
       "    </tr>\n",
       "  </thead>\n",
       "  <tbody>\n",
       "    <tr>\n",
       "      <th>0</th>\n",
       "      <td>13_10000_lower</td>\n",
       "      <td>48_3000_lower</td>\n",
       "      <td>0.735343</td>\n",
       "    </tr>\n",
       "    <tr>\n",
       "      <th>1</th>\n",
       "      <td>13_3000_lower</td>\n",
       "      <td>15_6000_lower</td>\n",
       "      <td>0.808378</td>\n",
       "    </tr>\n",
       "    <tr>\n",
       "      <th>2</th>\n",
       "      <td>21_16800_lower</td>\n",
       "      <td>33_3000_lower</td>\n",
       "      <td>0.754873</td>\n",
       "    </tr>\n",
       "    <tr>\n",
       "      <th>3</th>\n",
       "      <td>21_16800_lower</td>\n",
       "      <td>38_6000_upper</td>\n",
       "      <td>-0.761390</td>\n",
       "    </tr>\n",
       "    <tr>\n",
       "      <th>4</th>\n",
       "      <td>23_10000_lower</td>\n",
       "      <td>23_10000_upper</td>\n",
       "      <td>0.762047</td>\n",
       "    </tr>\n",
       "    <tr>\n",
       "      <th>5</th>\n",
       "      <td>33_10000_lower</td>\n",
       "      <td>33_10000_upper</td>\n",
       "      <td>0.747352</td>\n",
       "    </tr>\n",
       "    <tr>\n",
       "      <th>6</th>\n",
       "      <td>33_3000_lower</td>\n",
       "      <td>15_6000_upper</td>\n",
       "      <td>-0.721533</td>\n",
       "    </tr>\n",
       "    <tr>\n",
       "      <th>7</th>\n",
       "      <td>33_8000_lower</td>\n",
       "      <td>15_6000_upper</td>\n",
       "      <td>-0.721607</td>\n",
       "    </tr>\n",
       "    <tr>\n",
       "      <th>8</th>\n",
       "      <td>38_6000_lower</td>\n",
       "      <td>38_6000_upper</td>\n",
       "      <td>0.709983</td>\n",
       "    </tr>\n",
       "    <tr>\n",
       "      <th>9</th>\n",
       "      <td>38_8000_lower</td>\n",
       "      <td>19_6000_upper</td>\n",
       "      <td>-0.713295</td>\n",
       "    </tr>\n",
       "    <tr>\n",
       "      <th>10</th>\n",
       "      <td>43_16800_lower</td>\n",
       "      <td>43_16800_upper</td>\n",
       "      <td>0.905765</td>\n",
       "    </tr>\n",
       "    <tr>\n",
       "      <th>11</th>\n",
       "      <td>53_16800_lower</td>\n",
       "      <td>23_10000_upper</td>\n",
       "      <td>0.721931</td>\n",
       "    </tr>\n",
       "    <tr>\n",
       "      <th>12</th>\n",
       "      <td>53_6000_lower</td>\n",
       "      <td>53_6000_upper</td>\n",
       "      <td>0.808507</td>\n",
       "    </tr>\n",
       "    <tr>\n",
       "      <th>13</th>\n",
       "      <td>15_16800_upper</td>\n",
       "      <td>17_16800_upper</td>\n",
       "      <td>0.978999</td>\n",
       "    </tr>\n",
       "    <tr>\n",
       "      <th>14</th>\n",
       "      <td>15_16800_upper</td>\n",
       "      <td>19_16800_upper</td>\n",
       "      <td>0.983639</td>\n",
       "    </tr>\n",
       "    <tr>\n",
       "      <th>15</th>\n",
       "      <td>17_16800_upper</td>\n",
       "      <td>19_16800_upper</td>\n",
       "      <td>0.964257</td>\n",
       "    </tr>\n",
       "  </tbody>\n",
       "</table>\n",
       "</div>"
      ],
      "text/plain": [
       "         Feature 1       Feature 2  Correlation\n",
       "0   13_10000_lower   48_3000_lower     0.735343\n",
       "1    13_3000_lower   15_6000_lower     0.808378\n",
       "2   21_16800_lower   33_3000_lower     0.754873\n",
       "3   21_16800_lower   38_6000_upper    -0.761390\n",
       "4   23_10000_lower  23_10000_upper     0.762047\n",
       "5   33_10000_lower  33_10000_upper     0.747352\n",
       "6    33_3000_lower   15_6000_upper    -0.721533\n",
       "7    33_8000_lower   15_6000_upper    -0.721607\n",
       "8    38_6000_lower   38_6000_upper     0.709983\n",
       "9    38_8000_lower   19_6000_upper    -0.713295\n",
       "10  43_16800_lower  43_16800_upper     0.905765\n",
       "11  53_16800_lower  23_10000_upper     0.721931\n",
       "12   53_6000_lower   53_6000_upper     0.808507\n",
       "13  15_16800_upper  17_16800_upper     0.978999\n",
       "14  15_16800_upper  19_16800_upper     0.983639\n",
       "15  17_16800_upper  19_16800_upper     0.964257"
      ]
     },
     "execution_count": 136,
     "metadata": {},
     "output_type": "execute_result"
    }
   ],
   "source": [
    "# Extract pairs of highly correlated features with correlation coefficient above a threshold (e.g., 0.8 or below -0.8)\n",
    "threshold = 0.7\n",
    "highly_correlated_pairs = []\n",
    "\n",
    "for i in range(correlation_matrix.shape[0]):\n",
    "    for j in range(i+1, correlation_matrix.shape[1]):\n",
    "        if abs(correlation_matrix.iloc[i, j]) > threshold:\n",
    "            feature_pair = (correlation_matrix.index[i], correlation_matrix.columns[j], correlation_matrix.iloc[i, j])\n",
    "            highly_correlated_pairs.append(feature_pair)\n",
    "\n",
    "# Convert the list of tuples to a DataFrame for better readability\n",
    "highly_correlated_df = pd.DataFrame(highly_correlated_pairs, columns=['Feature 1', 'Feature 2', 'Correlation'])\n",
    "highly_correlated_df\n"
   ]
  },
  {
   "cell_type": "code",
   "execution_count": 137,
   "metadata": {},
   "outputs": [
    {
     "data": {
      "text/html": [
       "<div>\n",
       "<style scoped>\n",
       "    .dataframe tbody tr th:only-of-type {\n",
       "        vertical-align: middle;\n",
       "    }\n",
       "\n",
       "    .dataframe tbody tr th {\n",
       "        vertical-align: top;\n",
       "    }\n",
       "\n",
       "    .dataframe thead th {\n",
       "        text-align: right;\n",
       "    }\n",
       "</style>\n",
       "<table border=\"1\" class=\"dataframe\">\n",
       "  <thead>\n",
       "    <tr style=\"text-align: right;\">\n",
       "      <th>range_delay</th>\n",
       "      <th>Sensor ID</th>\n",
       "      <th>13_10000_lower</th>\n",
       "      <th>13_16800_lower</th>\n",
       "      <th>13_3000_lower</th>\n",
       "      <th>13_6000_lower</th>\n",
       "      <th>13_8000_lower</th>\n",
       "      <th>15_10000_lower</th>\n",
       "      <th>15_16800_lower</th>\n",
       "      <th>15_3000_lower</th>\n",
       "      <th>15_8000_lower</th>\n",
       "      <th>...</th>\n",
       "      <th>43_8000_upper</th>\n",
       "      <th>48_10000_upper</th>\n",
       "      <th>48_16800_upper</th>\n",
       "      <th>48_3000_upper</th>\n",
       "      <th>48_6000_upper</th>\n",
       "      <th>48_8000_upper</th>\n",
       "      <th>53_10000_upper</th>\n",
       "      <th>53_16800_upper</th>\n",
       "      <th>53_3000_upper</th>\n",
       "      <th>53_8000_upper</th>\n",
       "    </tr>\n",
       "  </thead>\n",
       "  <tbody>\n",
       "    <tr>\n",
       "      <th>0</th>\n",
       "      <td>1</td>\n",
       "      <td>0.000000</td>\n",
       "      <td>0.000000</td>\n",
       "      <td>879.000000</td>\n",
       "      <td>754.523810</td>\n",
       "      <td>0.000000</td>\n",
       "      <td>879.000000</td>\n",
       "      <td>918.853659</td>\n",
       "      <td>878.75</td>\n",
       "      <td>0.000000</td>\n",
       "      <td>...</td>\n",
       "      <td>2466.478261</td>\n",
       "      <td>0.000000</td>\n",
       "      <td>2747.500000</td>\n",
       "      <td>2800.111111</td>\n",
       "      <td>0.000000</td>\n",
       "      <td>2747.238095</td>\n",
       "      <td>0.000000</td>\n",
       "      <td>3083.000000</td>\n",
       "      <td>0.000000</td>\n",
       "      <td>3071.000000</td>\n",
       "    </tr>\n",
       "    <tr>\n",
       "      <th>1</th>\n",
       "      <td>2</td>\n",
       "      <td>663.000000</td>\n",
       "      <td>595.000000</td>\n",
       "      <td>699.666667</td>\n",
       "      <td>0.000000</td>\n",
       "      <td>0.000000</td>\n",
       "      <td>0.000000</td>\n",
       "      <td>717.461538</td>\n",
       "      <td>0.00</td>\n",
       "      <td>0.000000</td>\n",
       "      <td>...</td>\n",
       "      <td>0.000000</td>\n",
       "      <td>2701.000000</td>\n",
       "      <td>2700.333333</td>\n",
       "      <td>2672.975904</td>\n",
       "      <td>2711.000000</td>\n",
       "      <td>2676.000000</td>\n",
       "      <td>3000.777778</td>\n",
       "      <td>0.000000</td>\n",
       "      <td>0.000000</td>\n",
       "      <td>3000.000000</td>\n",
       "    </tr>\n",
       "    <tr>\n",
       "      <th>2</th>\n",
       "      <td>3</td>\n",
       "      <td>826.191011</td>\n",
       "      <td>319.166667</td>\n",
       "      <td>0.000000</td>\n",
       "      <td>0.000000</td>\n",
       "      <td>827.000000</td>\n",
       "      <td>939.000000</td>\n",
       "      <td>0.000000</td>\n",
       "      <td>0.00</td>\n",
       "      <td>947.000000</td>\n",
       "      <td>...</td>\n",
       "      <td>0.000000</td>\n",
       "      <td>2761.000000</td>\n",
       "      <td>0.000000</td>\n",
       "      <td>2761.857143</td>\n",
       "      <td>2763.000000</td>\n",
       "      <td>2760.818182</td>\n",
       "      <td>0.000000</td>\n",
       "      <td>3064.454545</td>\n",
       "      <td>0.000000</td>\n",
       "      <td>0.000000</td>\n",
       "    </tr>\n",
       "    <tr>\n",
       "      <th>3</th>\n",
       "      <td>4</td>\n",
       "      <td>0.000000</td>\n",
       "      <td>0.000000</td>\n",
       "      <td>0.000000</td>\n",
       "      <td>718.333333</td>\n",
       "      <td>0.000000</td>\n",
       "      <td>879.000000</td>\n",
       "      <td>0.000000</td>\n",
       "      <td>0.00</td>\n",
       "      <td>0.000000</td>\n",
       "      <td>...</td>\n",
       "      <td>0.000000</td>\n",
       "      <td>2818.000000</td>\n",
       "      <td>0.000000</td>\n",
       "      <td>2784.523810</td>\n",
       "      <td>2775.000000</td>\n",
       "      <td>0.000000</td>\n",
       "      <td>3081.727273</td>\n",
       "      <td>0.000000</td>\n",
       "      <td>3084.200000</td>\n",
       "      <td>0.000000</td>\n",
       "    </tr>\n",
       "    <tr>\n",
       "      <th>4</th>\n",
       "      <td>5</td>\n",
       "      <td>0.000000</td>\n",
       "      <td>0.000000</td>\n",
       "      <td>0.000000</td>\n",
       "      <td>0.000000</td>\n",
       "      <td>0.000000</td>\n",
       "      <td>803.000000</td>\n",
       "      <td>0.000000</td>\n",
       "      <td>0.00</td>\n",
       "      <td>0.000000</td>\n",
       "      <td>...</td>\n",
       "      <td>0.000000</td>\n",
       "      <td>0.000000</td>\n",
       "      <td>0.000000</td>\n",
       "      <td>0.000000</td>\n",
       "      <td>2828.750000</td>\n",
       "      <td>2790.478261</td>\n",
       "      <td>3076.217391</td>\n",
       "      <td>3071.266667</td>\n",
       "      <td>0.000000</td>\n",
       "      <td>0.000000</td>\n",
       "    </tr>\n",
       "    <tr>\n",
       "      <th>5</th>\n",
       "      <td>6</td>\n",
       "      <td>0.000000</td>\n",
       "      <td>0.000000</td>\n",
       "      <td>0.000000</td>\n",
       "      <td>743.000000</td>\n",
       "      <td>0.000000</td>\n",
       "      <td>0.000000</td>\n",
       "      <td>0.000000</td>\n",
       "      <td>0.00</td>\n",
       "      <td>0.000000</td>\n",
       "      <td>...</td>\n",
       "      <td>2473.666667</td>\n",
       "      <td>0.000000</td>\n",
       "      <td>0.000000</td>\n",
       "      <td>0.000000</td>\n",
       "      <td>2777.400000</td>\n",
       "      <td>0.000000</td>\n",
       "      <td>3079.000000</td>\n",
       "      <td>1571.000000</td>\n",
       "      <td>3080.142857</td>\n",
       "      <td>3075.000000</td>\n",
       "    </tr>\n",
       "    <tr>\n",
       "      <th>6</th>\n",
       "      <td>7</td>\n",
       "      <td>0.000000</td>\n",
       "      <td>0.000000</td>\n",
       "      <td>679.000000</td>\n",
       "      <td>741.820513</td>\n",
       "      <td>0.000000</td>\n",
       "      <td>910.909091</td>\n",
       "      <td>0.000000</td>\n",
       "      <td>0.00</td>\n",
       "      <td>0.000000</td>\n",
       "      <td>...</td>\n",
       "      <td>2495.000000</td>\n",
       "      <td>2795.000000</td>\n",
       "      <td>2796.000000</td>\n",
       "      <td>2798.733333</td>\n",
       "      <td>2800.000000</td>\n",
       "      <td>2797.222222</td>\n",
       "      <td>0.000000</td>\n",
       "      <td>0.000000</td>\n",
       "      <td>3102.666667</td>\n",
       "      <td>3099.000000</td>\n",
       "    </tr>\n",
       "    <tr>\n",
       "      <th>7</th>\n",
       "      <td>8</td>\n",
       "      <td>691.000000</td>\n",
       "      <td>0.000000</td>\n",
       "      <td>0.000000</td>\n",
       "      <td>0.000000</td>\n",
       "      <td>0.000000</td>\n",
       "      <td>786.128205</td>\n",
       "      <td>787.000000</td>\n",
       "      <td>0.00</td>\n",
       "      <td>0.000000</td>\n",
       "      <td>...</td>\n",
       "      <td>2478.111111</td>\n",
       "      <td>2779.000000</td>\n",
       "      <td>2779.666667</td>\n",
       "      <td>2773.095238</td>\n",
       "      <td>2780.500000</td>\n",
       "      <td>2778.272727</td>\n",
       "      <td>0.000000</td>\n",
       "      <td>3089.105263</td>\n",
       "      <td>0.000000</td>\n",
       "      <td>3084.750000</td>\n",
       "    </tr>\n",
       "    <tr>\n",
       "      <th>8</th>\n",
       "      <td>9</td>\n",
       "      <td>0.000000</td>\n",
       "      <td>0.000000</td>\n",
       "      <td>0.000000</td>\n",
       "      <td>0.000000</td>\n",
       "      <td>865.820513</td>\n",
       "      <td>0.000000</td>\n",
       "      <td>0.000000</td>\n",
       "      <td>0.00</td>\n",
       "      <td>0.000000</td>\n",
       "      <td>...</td>\n",
       "      <td>2449.400000</td>\n",
       "      <td>2787.000000</td>\n",
       "      <td>0.000000</td>\n",
       "      <td>2759.000000</td>\n",
       "      <td>2817.117647</td>\n",
       "      <td>0.000000</td>\n",
       "      <td>0.000000</td>\n",
       "      <td>0.000000</td>\n",
       "      <td>0.000000</td>\n",
       "      <td>0.000000</td>\n",
       "    </tr>\n",
       "    <tr>\n",
       "      <th>9</th>\n",
       "      <td>10</td>\n",
       "      <td>0.000000</td>\n",
       "      <td>0.000000</td>\n",
       "      <td>0.000000</td>\n",
       "      <td>0.000000</td>\n",
       "      <td>0.000000</td>\n",
       "      <td>887.000000</td>\n",
       "      <td>0.000000</td>\n",
       "      <td>0.00</td>\n",
       "      <td>0.000000</td>\n",
       "      <td>...</td>\n",
       "      <td>0.000000</td>\n",
       "      <td>2794.666667</td>\n",
       "      <td>2813.750000</td>\n",
       "      <td>0.000000</td>\n",
       "      <td>0.000000</td>\n",
       "      <td>2791.000000</td>\n",
       "      <td>3122.428571</td>\n",
       "      <td>0.000000</td>\n",
       "      <td>3075.960000</td>\n",
       "      <td>3071.853933</td>\n",
       "    </tr>\n",
       "    <tr>\n",
       "      <th>10</th>\n",
       "      <td>11</td>\n",
       "      <td>841.753247</td>\n",
       "      <td>0.000000</td>\n",
       "      <td>694.428571</td>\n",
       "      <td>755.000000</td>\n",
       "      <td>0.000000</td>\n",
       "      <td>0.000000</td>\n",
       "      <td>0.000000</td>\n",
       "      <td>0.00</td>\n",
       "      <td>863.000000</td>\n",
       "      <td>...</td>\n",
       "      <td>2507.000000</td>\n",
       "      <td>2787.750000</td>\n",
       "      <td>0.000000</td>\n",
       "      <td>0.000000</td>\n",
       "      <td>0.000000</td>\n",
       "      <td>0.000000</td>\n",
       "      <td>0.000000</td>\n",
       "      <td>0.000000</td>\n",
       "      <td>3073.666667</td>\n",
       "      <td>3081.000000</td>\n",
       "    </tr>\n",
       "    <tr>\n",
       "      <th>11</th>\n",
       "      <td>12</td>\n",
       "      <td>0.000000</td>\n",
       "      <td>653.857143</td>\n",
       "      <td>0.000000</td>\n",
       "      <td>642.645570</td>\n",
       "      <td>0.000000</td>\n",
       "      <td>0.000000</td>\n",
       "      <td>0.000000</td>\n",
       "      <td>0.00</td>\n",
       "      <td>0.000000</td>\n",
       "      <td>...</td>\n",
       "      <td>0.000000</td>\n",
       "      <td>0.000000</td>\n",
       "      <td>0.000000</td>\n",
       "      <td>2754.333333</td>\n",
       "      <td>2750.666667</td>\n",
       "      <td>2759.400000</td>\n",
       "      <td>0.000000</td>\n",
       "      <td>0.000000</td>\n",
       "      <td>3031.224719</td>\n",
       "      <td>0.000000</td>\n",
       "    </tr>\n",
       "    <tr>\n",
       "      <th>12</th>\n",
       "      <td>13</td>\n",
       "      <td>803.000000</td>\n",
       "      <td>642.384615</td>\n",
       "      <td>0.000000</td>\n",
       "      <td>806.011765</td>\n",
       "      <td>0.000000</td>\n",
       "      <td>864.977011</td>\n",
       "      <td>761.222222</td>\n",
       "      <td>0.00</td>\n",
       "      <td>0.000000</td>\n",
       "      <td>...</td>\n",
       "      <td>2477.000000</td>\n",
       "      <td>2773.800000</td>\n",
       "      <td>0.000000</td>\n",
       "      <td>2781.000000</td>\n",
       "      <td>2778.529412</td>\n",
       "      <td>2775.000000</td>\n",
       "      <td>3079.000000</td>\n",
       "      <td>3082.000000</td>\n",
       "      <td>3080.428571</td>\n",
       "      <td>3080.263158</td>\n",
       "    </tr>\n",
       "    <tr>\n",
       "      <th>13</th>\n",
       "      <td>14</td>\n",
       "      <td>0.000000</td>\n",
       "      <td>0.000000</td>\n",
       "      <td>0.000000</td>\n",
       "      <td>0.000000</td>\n",
       "      <td>826.487179</td>\n",
       "      <td>795.000000</td>\n",
       "      <td>0.000000</td>\n",
       "      <td>0.00</td>\n",
       "      <td>877.976744</td>\n",
       "      <td>...</td>\n",
       "      <td>2447.000000</td>\n",
       "      <td>0.000000</td>\n",
       "      <td>0.000000</td>\n",
       "      <td>2759.857143</td>\n",
       "      <td>0.000000</td>\n",
       "      <td>0.000000</td>\n",
       "      <td>0.000000</td>\n",
       "      <td>0.000000</td>\n",
       "      <td>3060.500000</td>\n",
       "      <td>3054.333333</td>\n",
       "    </tr>\n",
       "    <tr>\n",
       "      <th>14</th>\n",
       "      <td>15</td>\n",
       "      <td>0.000000</td>\n",
       "      <td>0.000000</td>\n",
       "      <td>0.000000</td>\n",
       "      <td>0.000000</td>\n",
       "      <td>786.604396</td>\n",
       "      <td>857.886076</td>\n",
       "      <td>879.235294</td>\n",
       "      <td>0.00</td>\n",
       "      <td>906.392405</td>\n",
       "      <td>...</td>\n",
       "      <td>2505.666667</td>\n",
       "      <td>2747.600000</td>\n",
       "      <td>0.000000</td>\n",
       "      <td>0.000000</td>\n",
       "      <td>0.000000</td>\n",
       "      <td>2803.000000</td>\n",
       "      <td>0.000000</td>\n",
       "      <td>3050.360000</td>\n",
       "      <td>3023.296296</td>\n",
       "      <td>3026.636364</td>\n",
       "    </tr>\n",
       "    <tr>\n",
       "      <th>15</th>\n",
       "      <td>16</td>\n",
       "      <td>0.000000</td>\n",
       "      <td>0.000000</td>\n",
       "      <td>829.850575</td>\n",
       "      <td>0.000000</td>\n",
       "      <td>0.000000</td>\n",
       "      <td>0.000000</td>\n",
       "      <td>822.400000</td>\n",
       "      <td>0.00</td>\n",
       "      <td>821.666667</td>\n",
       "      <td>...</td>\n",
       "      <td>0.000000</td>\n",
       "      <td>2811.363636</td>\n",
       "      <td>2831.000000</td>\n",
       "      <td>0.000000</td>\n",
       "      <td>2807.000000</td>\n",
       "      <td>2807.000000</td>\n",
       "      <td>3117.333333</td>\n",
       "      <td>3133.000000</td>\n",
       "      <td>3110.600000</td>\n",
       "      <td>0.000000</td>\n",
       "    </tr>\n",
       "    <tr>\n",
       "      <th>16</th>\n",
       "      <td>17</td>\n",
       "      <td>774.428571</td>\n",
       "      <td>0.000000</td>\n",
       "      <td>0.000000</td>\n",
       "      <td>791.000000</td>\n",
       "      <td>0.000000</td>\n",
       "      <td>914.736264</td>\n",
       "      <td>781.478261</td>\n",
       "      <td>0.00</td>\n",
       "      <td>910.659574</td>\n",
       "      <td>...</td>\n",
       "      <td>0.000000</td>\n",
       "      <td>2748.156627</td>\n",
       "      <td>0.000000</td>\n",
       "      <td>2747.097561</td>\n",
       "      <td>0.000000</td>\n",
       "      <td>2751.818182</td>\n",
       "      <td>0.000000</td>\n",
       "      <td>0.000000</td>\n",
       "      <td>0.000000</td>\n",
       "      <td>3071.000000</td>\n",
       "    </tr>\n",
       "    <tr>\n",
       "      <th>17</th>\n",
       "      <td>18</td>\n",
       "      <td>0.000000</td>\n",
       "      <td>862.472527</td>\n",
       "      <td>0.000000</td>\n",
       "      <td>862.333333</td>\n",
       "      <td>0.000000</td>\n",
       "      <td>0.000000</td>\n",
       "      <td>0.000000</td>\n",
       "      <td>0.00</td>\n",
       "      <td>0.000000</td>\n",
       "      <td>...</td>\n",
       "      <td>0.000000</td>\n",
       "      <td>2780.333333</td>\n",
       "      <td>0.000000</td>\n",
       "      <td>0.000000</td>\n",
       "      <td>2798.333333</td>\n",
       "      <td>2763.000000</td>\n",
       "      <td>0.000000</td>\n",
       "      <td>2913.800000</td>\n",
       "      <td>3037.400000</td>\n",
       "      <td>3047.000000</td>\n",
       "    </tr>\n",
       "    <tr>\n",
       "      <th>18</th>\n",
       "      <td>19</td>\n",
       "      <td>0.000000</td>\n",
       "      <td>0.000000</td>\n",
       "      <td>752.454545</td>\n",
       "      <td>0.000000</td>\n",
       "      <td>0.000000</td>\n",
       "      <td>829.844444</td>\n",
       "      <td>0.000000</td>\n",
       "      <td>0.00</td>\n",
       "      <td>0.000000</td>\n",
       "      <td>...</td>\n",
       "      <td>2517.000000</td>\n",
       "      <td>0.000000</td>\n",
       "      <td>2790.000000</td>\n",
       "      <td>0.000000</td>\n",
       "      <td>0.000000</td>\n",
       "      <td>2789.400000</td>\n",
       "      <td>0.000000</td>\n",
       "      <td>3113.666667</td>\n",
       "      <td>0.000000</td>\n",
       "      <td>3093.400000</td>\n",
       "    </tr>\n",
       "    <tr>\n",
       "      <th>19</th>\n",
       "      <td>20</td>\n",
       "      <td>0.000000</td>\n",
       "      <td>0.000000</td>\n",
       "      <td>0.000000</td>\n",
       "      <td>0.000000</td>\n",
       "      <td>0.000000</td>\n",
       "      <td>0.000000</td>\n",
       "      <td>0.000000</td>\n",
       "      <td>0.00</td>\n",
       "      <td>0.000000</td>\n",
       "      <td>...</td>\n",
       "      <td>2526.333333</td>\n",
       "      <td>2831.000000</td>\n",
       "      <td>0.000000</td>\n",
       "      <td>0.000000</td>\n",
       "      <td>2844.333333</td>\n",
       "      <td>0.000000</td>\n",
       "      <td>3100.217391</td>\n",
       "      <td>0.000000</td>\n",
       "      <td>0.000000</td>\n",
       "      <td>3119.000000</td>\n",
       "    </tr>\n",
       "  </tbody>\n",
       "</table>\n",
       "<p>20 rows × 111 columns</p>\n",
       "</div>"
      ],
      "text/plain": [
       "range_delay  Sensor ID  13_10000_lower  13_16800_lower  13_3000_lower  \\\n",
       "0                    1        0.000000        0.000000     879.000000   \n",
       "1                    2      663.000000      595.000000     699.666667   \n",
       "2                    3      826.191011      319.166667       0.000000   \n",
       "3                    4        0.000000        0.000000       0.000000   \n",
       "4                    5        0.000000        0.000000       0.000000   \n",
       "5                    6        0.000000        0.000000       0.000000   \n",
       "6                    7        0.000000        0.000000     679.000000   \n",
       "7                    8      691.000000        0.000000       0.000000   \n",
       "8                    9        0.000000        0.000000       0.000000   \n",
       "9                   10        0.000000        0.000000       0.000000   \n",
       "10                  11      841.753247        0.000000     694.428571   \n",
       "11                  12        0.000000      653.857143       0.000000   \n",
       "12                  13      803.000000      642.384615       0.000000   \n",
       "13                  14        0.000000        0.000000       0.000000   \n",
       "14                  15        0.000000        0.000000       0.000000   \n",
       "15                  16        0.000000        0.000000     829.850575   \n",
       "16                  17      774.428571        0.000000       0.000000   \n",
       "17                  18        0.000000      862.472527       0.000000   \n",
       "18                  19        0.000000        0.000000     752.454545   \n",
       "19                  20        0.000000        0.000000       0.000000   \n",
       "\n",
       "range_delay  13_6000_lower  13_8000_lower  15_10000_lower  15_16800_lower  \\\n",
       "0               754.523810       0.000000      879.000000      918.853659   \n",
       "1                 0.000000       0.000000        0.000000      717.461538   \n",
       "2                 0.000000     827.000000      939.000000        0.000000   \n",
       "3               718.333333       0.000000      879.000000        0.000000   \n",
       "4                 0.000000       0.000000      803.000000        0.000000   \n",
       "5               743.000000       0.000000        0.000000        0.000000   \n",
       "6               741.820513       0.000000      910.909091        0.000000   \n",
       "7                 0.000000       0.000000      786.128205      787.000000   \n",
       "8                 0.000000     865.820513        0.000000        0.000000   \n",
       "9                 0.000000       0.000000      887.000000        0.000000   \n",
       "10              755.000000       0.000000        0.000000        0.000000   \n",
       "11              642.645570       0.000000        0.000000        0.000000   \n",
       "12              806.011765       0.000000      864.977011      761.222222   \n",
       "13                0.000000     826.487179      795.000000        0.000000   \n",
       "14                0.000000     786.604396      857.886076      879.235294   \n",
       "15                0.000000       0.000000        0.000000      822.400000   \n",
       "16              791.000000       0.000000      914.736264      781.478261   \n",
       "17              862.333333       0.000000        0.000000        0.000000   \n",
       "18                0.000000       0.000000      829.844444        0.000000   \n",
       "19                0.000000       0.000000        0.000000        0.000000   \n",
       "\n",
       "range_delay  15_3000_lower  15_8000_lower  ...  43_8000_upper  48_10000_upper  \\\n",
       "0                   878.75       0.000000  ...    2466.478261        0.000000   \n",
       "1                     0.00       0.000000  ...       0.000000     2701.000000   \n",
       "2                     0.00     947.000000  ...       0.000000     2761.000000   \n",
       "3                     0.00       0.000000  ...       0.000000     2818.000000   \n",
       "4                     0.00       0.000000  ...       0.000000        0.000000   \n",
       "5                     0.00       0.000000  ...    2473.666667        0.000000   \n",
       "6                     0.00       0.000000  ...    2495.000000     2795.000000   \n",
       "7                     0.00       0.000000  ...    2478.111111     2779.000000   \n",
       "8                     0.00       0.000000  ...    2449.400000     2787.000000   \n",
       "9                     0.00       0.000000  ...       0.000000     2794.666667   \n",
       "10                    0.00     863.000000  ...    2507.000000     2787.750000   \n",
       "11                    0.00       0.000000  ...       0.000000        0.000000   \n",
       "12                    0.00       0.000000  ...    2477.000000     2773.800000   \n",
       "13                    0.00     877.976744  ...    2447.000000        0.000000   \n",
       "14                    0.00     906.392405  ...    2505.666667     2747.600000   \n",
       "15                    0.00     821.666667  ...       0.000000     2811.363636   \n",
       "16                    0.00     910.659574  ...       0.000000     2748.156627   \n",
       "17                    0.00       0.000000  ...       0.000000     2780.333333   \n",
       "18                    0.00       0.000000  ...    2517.000000        0.000000   \n",
       "19                    0.00       0.000000  ...    2526.333333     2831.000000   \n",
       "\n",
       "range_delay  48_16800_upper  48_3000_upper  48_6000_upper  48_8000_upper  \\\n",
       "0               2747.500000    2800.111111       0.000000    2747.238095   \n",
       "1               2700.333333    2672.975904    2711.000000    2676.000000   \n",
       "2                  0.000000    2761.857143    2763.000000    2760.818182   \n",
       "3                  0.000000    2784.523810    2775.000000       0.000000   \n",
       "4                  0.000000       0.000000    2828.750000    2790.478261   \n",
       "5                  0.000000       0.000000    2777.400000       0.000000   \n",
       "6               2796.000000    2798.733333    2800.000000    2797.222222   \n",
       "7               2779.666667    2773.095238    2780.500000    2778.272727   \n",
       "8                  0.000000    2759.000000    2817.117647       0.000000   \n",
       "9               2813.750000       0.000000       0.000000    2791.000000   \n",
       "10                 0.000000       0.000000       0.000000       0.000000   \n",
       "11                 0.000000    2754.333333    2750.666667    2759.400000   \n",
       "12                 0.000000    2781.000000    2778.529412    2775.000000   \n",
       "13                 0.000000    2759.857143       0.000000       0.000000   \n",
       "14                 0.000000       0.000000       0.000000    2803.000000   \n",
       "15              2831.000000       0.000000    2807.000000    2807.000000   \n",
       "16                 0.000000    2747.097561       0.000000    2751.818182   \n",
       "17                 0.000000       0.000000    2798.333333    2763.000000   \n",
       "18              2790.000000       0.000000       0.000000    2789.400000   \n",
       "19                 0.000000       0.000000    2844.333333       0.000000   \n",
       "\n",
       "range_delay  53_10000_upper  53_16800_upper  53_3000_upper  53_8000_upper  \n",
       "0                  0.000000     3083.000000       0.000000    3071.000000  \n",
       "1               3000.777778        0.000000       0.000000    3000.000000  \n",
       "2                  0.000000     3064.454545       0.000000       0.000000  \n",
       "3               3081.727273        0.000000    3084.200000       0.000000  \n",
       "4               3076.217391     3071.266667       0.000000       0.000000  \n",
       "5               3079.000000     1571.000000    3080.142857    3075.000000  \n",
       "6                  0.000000        0.000000    3102.666667    3099.000000  \n",
       "7                  0.000000     3089.105263       0.000000    3084.750000  \n",
       "8                  0.000000        0.000000       0.000000       0.000000  \n",
       "9               3122.428571        0.000000    3075.960000    3071.853933  \n",
       "10                 0.000000        0.000000    3073.666667    3081.000000  \n",
       "11                 0.000000        0.000000    3031.224719       0.000000  \n",
       "12              3079.000000     3082.000000    3080.428571    3080.263158  \n",
       "13                 0.000000        0.000000    3060.500000    3054.333333  \n",
       "14                 0.000000     3050.360000    3023.296296    3026.636364  \n",
       "15              3117.333333     3133.000000    3110.600000       0.000000  \n",
       "16                 0.000000        0.000000       0.000000    3071.000000  \n",
       "17                 0.000000     2913.800000    3037.400000    3047.000000  \n",
       "18                 0.000000     3113.666667       0.000000    3093.400000  \n",
       "19              3100.217391        0.000000       0.000000    3119.000000  \n",
       "\n",
       "[20 rows x 111 columns]"
      ]
     },
     "execution_count": 137,
     "metadata": {},
     "output_type": "execute_result"
    }
   ],
   "source": [
    "def drop_highly_correlated_features(df, threshold=0.8):\n",
    "    \"\"\"\n",
    "    Drops highly positively correlated features from a DataFrame.\n",
    "    \n",
    "    Parameters:\n",
    "    df (pd.DataFrame): The input DataFrame.\n",
    "    threshold (float): The correlation threshold for dropping features. Defaults to 0.8.\n",
    "    \n",
    "    Returns:\n",
    "    pd.DataFrame: DataFrame with highly positively correlated features removed.\n",
    "    list: List of dropped features.\n",
    "    \"\"\"\n",
    "    # Calculate the correlation matrix\n",
    "    corr_matrix = df.corr()\n",
    "    \n",
    "    # Identify highly positively correlated pairs\n",
    "    to_drop = set()\n",
    "    for i in range(corr_matrix.shape[0]):\n",
    "        for j in range(i + 1, corr_matrix.shape[1]):\n",
    "            if corr_matrix.iloc[i, j] > threshold:\n",
    "                colname = corr_matrix.columns[j]\n",
    "                to_drop.add(colname)\n",
    "    \n",
    "    # Drop the identified features\n",
    "    reduced_df = df.drop(columns=to_drop)\n",
    "    \n",
    "    return reduced_df, list(to_drop)\n",
    "\n",
    "# Apply the function to the dataset\n",
    "reduced_data_corr, dropped_features_corr = drop_highly_correlated_features(df_range_delay_ends, threshold=0.7)\n",
    "\n",
    "reduced_data_corr"
   ]
  },
  {
   "cell_type": "code",
   "execution_count": 138,
   "metadata": {},
   "outputs": [
    {
     "data": {
      "text/plain": [
       "['43_16800_upper',\n",
       " '19_16800_upper',\n",
       " '48_3000_lower',\n",
       " '17_16800_upper',\n",
       " '33_10000_upper',\n",
       " '23_10000_upper',\n",
       " '15_6000_lower',\n",
       " '33_3000_lower',\n",
       " '53_6000_upper',\n",
       " '38_6000_upper']"
      ]
     },
     "execution_count": 138,
     "metadata": {},
     "output_type": "execute_result"
    }
   ],
   "source": [
    "dropped_features_corr"
   ]
  },
  {
   "cell_type": "code",
   "execution_count": 139,
   "metadata": {},
   "outputs": [],
   "source": [
    "def plot_pca_interactive(data, sensor_id_col='Sensor ID', n_components=2):\n",
    "    \"\"\"\n",
    "    Plots an interactive scatter plot using PCA components.\n",
    "\n",
    "    Parameters:\n",
    "    data (pd.DataFrame): The input DataFrame containing features and Sensor ID.\n",
    "    sensor_id_col (str): The name of the column containing sensor IDs.\n",
    "    n_components (int): Number of principal components to compute.\n",
    "\n",
    "    Returns:\n",
    "    None: Displays an interactive Plotly scatter plot.\n",
    "    \"\"\"\n",
    "    # Apply PCA\n",
    "    pca = PCA(n_components=n_components)\n",
    "    principal_components = pca.fit_transform(data.drop(columns=[sensor_id_col]))\n",
    "\n",
    "    # Create a DataFrame with the principal components and Sensor ID\n",
    "    principal_df = pd.DataFrame(data=principal_components, columns=[f'PC{i+1}' for i in range(n_components)])\n",
    "    principal_df[sensor_id_col] = data[sensor_id_col]\n",
    "\n",
    "    # Create an interactive scatter plot using Plotly\n",
    "    fig = px.scatter(\n",
    "        principal_df,\n",
    "        x='PC1',\n",
    "        y='PC2',\n",
    "        color=sensor_id_col,\n",
    "        title='Sensors Visualized Using Principal Components',\n",
    "        labels={'PC1': 'Principal Component 1', 'PC2': 'Principal Component 2'},\n",
    "        hover_data=[sensor_id_col]\n",
    "    )\n",
    "\n",
    "    # Show the plot\n",
    "    fig.show()"
   ]
  },
  {
   "cell_type": "code",
   "execution_count": 140,
   "metadata": {},
   "outputs": [
    {
     "data": {
      "application/vnd.plotly.v1+json": {
       "config": {
        "plotlyServerURL": "https://plot.ly"
       },
       "data": [
        {
         "customdata": [
          [
           1
          ],
          [
           2
          ],
          [
           3
          ],
          [
           4
          ],
          [
           5
          ],
          [
           6
          ],
          [
           7
          ],
          [
           8
          ],
          [
           9
          ],
          [
           10
          ],
          [
           11
          ],
          [
           12
          ],
          [
           13
          ],
          [
           14
          ],
          [
           15
          ],
          [
           16
          ],
          [
           17
          ],
          [
           18
          ],
          [
           19
          ],
          [
           20
          ]
         ],
         "hovertemplate": "Principal Component 1=%{x}<br>Principal Component 2=%{y}<br>Sensor ID=%{marker.color}<extra></extra>",
         "legendgroup": "",
         "marker": {
          "color": [
           1,
           2,
           3,
           4,
           5,
           6,
           7,
           8,
           9,
           10,
           11,
           12,
           13,
           14,
           15,
           16,
           17,
           18,
           19,
           20
          ],
          "coloraxis": "coloraxis",
          "symbol": "circle"
         },
         "mode": "markers",
         "name": "",
         "orientation": "v",
         "showlegend": false,
         "type": "scatter",
         "x": [
          -6603.265700325037,
          -6577.424515676084,
          57822.52409472492,
          55548.3920987207,
          -5870.5699457711535,
          -6667.749989988785,
          -6695.706987280556,
          -6519.24860443258,
          -6470.383985465707,
          -6609.964728682662,
          -6859.51644673468,
          -5851.304407087624,
          -5651.295737961211,
          -5738.355707453153,
          -5622.001610774727,
          -6395.692444255342,
          -6521.391824389684,
          -5828.385078969337,
          -6843.493433703918,
          -6045.165044493395
         ],
         "xaxis": "x",
         "y": [
          -1709.4487205523226,
          -876.7011265569589,
          -15768.765249711496,
          16323.016873444096,
          -456.1931646237915,
          239.19341451613684,
          726.8308101920117,
          -1499.8650647561576,
          -1343.8881802254555,
          908.9579903557433,
          1026.1417353512625,
          102.1181685178381,
          626.9568043627712,
          783.4746375220504,
          844.0474038008937,
          1994.3304250606332,
          -813.7390148913463,
          -911.402560381976,
          -894.3610366500981,
          699.2958552261496
         ],
         "yaxis": "y"
        }
       ],
       "layout": {
        "coloraxis": {
         "colorbar": {
          "title": {
           "text": "Sensor ID"
          }
         },
         "colorscale": [
          [
           0,
           "#0d0887"
          ],
          [
           0.1111111111111111,
           "#46039f"
          ],
          [
           0.2222222222222222,
           "#7201a8"
          ],
          [
           0.3333333333333333,
           "#9c179e"
          ],
          [
           0.4444444444444444,
           "#bd3786"
          ],
          [
           0.5555555555555556,
           "#d8576b"
          ],
          [
           0.6666666666666666,
           "#ed7953"
          ],
          [
           0.7777777777777778,
           "#fb9f3a"
          ],
          [
           0.8888888888888888,
           "#fdca26"
          ],
          [
           1,
           "#f0f921"
          ]
         ]
        },
        "legend": {
         "tracegroupgap": 0
        },
        "template": {
         "data": {
          "bar": [
           {
            "error_x": {
             "color": "#2a3f5f"
            },
            "error_y": {
             "color": "#2a3f5f"
            },
            "marker": {
             "line": {
              "color": "#E5ECF6",
              "width": 0.5
             },
             "pattern": {
              "fillmode": "overlay",
              "size": 10,
              "solidity": 0.2
             }
            },
            "type": "bar"
           }
          ],
          "barpolar": [
           {
            "marker": {
             "line": {
              "color": "#E5ECF6",
              "width": 0.5
             },
             "pattern": {
              "fillmode": "overlay",
              "size": 10,
              "solidity": 0.2
             }
            },
            "type": "barpolar"
           }
          ],
          "carpet": [
           {
            "aaxis": {
             "endlinecolor": "#2a3f5f",
             "gridcolor": "white",
             "linecolor": "white",
             "minorgridcolor": "white",
             "startlinecolor": "#2a3f5f"
            },
            "baxis": {
             "endlinecolor": "#2a3f5f",
             "gridcolor": "white",
             "linecolor": "white",
             "minorgridcolor": "white",
             "startlinecolor": "#2a3f5f"
            },
            "type": "carpet"
           }
          ],
          "choropleth": [
           {
            "colorbar": {
             "outlinewidth": 0,
             "ticks": ""
            },
            "type": "choropleth"
           }
          ],
          "contour": [
           {
            "colorbar": {
             "outlinewidth": 0,
             "ticks": ""
            },
            "colorscale": [
             [
              0,
              "#0d0887"
             ],
             [
              0.1111111111111111,
              "#46039f"
             ],
             [
              0.2222222222222222,
              "#7201a8"
             ],
             [
              0.3333333333333333,
              "#9c179e"
             ],
             [
              0.4444444444444444,
              "#bd3786"
             ],
             [
              0.5555555555555556,
              "#d8576b"
             ],
             [
              0.6666666666666666,
              "#ed7953"
             ],
             [
              0.7777777777777778,
              "#fb9f3a"
             ],
             [
              0.8888888888888888,
              "#fdca26"
             ],
             [
              1,
              "#f0f921"
             ]
            ],
            "type": "contour"
           }
          ],
          "contourcarpet": [
           {
            "colorbar": {
             "outlinewidth": 0,
             "ticks": ""
            },
            "type": "contourcarpet"
           }
          ],
          "heatmap": [
           {
            "colorbar": {
             "outlinewidth": 0,
             "ticks": ""
            },
            "colorscale": [
             [
              0,
              "#0d0887"
             ],
             [
              0.1111111111111111,
              "#46039f"
             ],
             [
              0.2222222222222222,
              "#7201a8"
             ],
             [
              0.3333333333333333,
              "#9c179e"
             ],
             [
              0.4444444444444444,
              "#bd3786"
             ],
             [
              0.5555555555555556,
              "#d8576b"
             ],
             [
              0.6666666666666666,
              "#ed7953"
             ],
             [
              0.7777777777777778,
              "#fb9f3a"
             ],
             [
              0.8888888888888888,
              "#fdca26"
             ],
             [
              1,
              "#f0f921"
             ]
            ],
            "type": "heatmap"
           }
          ],
          "heatmapgl": [
           {
            "colorbar": {
             "outlinewidth": 0,
             "ticks": ""
            },
            "colorscale": [
             [
              0,
              "#0d0887"
             ],
             [
              0.1111111111111111,
              "#46039f"
             ],
             [
              0.2222222222222222,
              "#7201a8"
             ],
             [
              0.3333333333333333,
              "#9c179e"
             ],
             [
              0.4444444444444444,
              "#bd3786"
             ],
             [
              0.5555555555555556,
              "#d8576b"
             ],
             [
              0.6666666666666666,
              "#ed7953"
             ],
             [
              0.7777777777777778,
              "#fb9f3a"
             ],
             [
              0.8888888888888888,
              "#fdca26"
             ],
             [
              1,
              "#f0f921"
             ]
            ],
            "type": "heatmapgl"
           }
          ],
          "histogram": [
           {
            "marker": {
             "pattern": {
              "fillmode": "overlay",
              "size": 10,
              "solidity": 0.2
             }
            },
            "type": "histogram"
           }
          ],
          "histogram2d": [
           {
            "colorbar": {
             "outlinewidth": 0,
             "ticks": ""
            },
            "colorscale": [
             [
              0,
              "#0d0887"
             ],
             [
              0.1111111111111111,
              "#46039f"
             ],
             [
              0.2222222222222222,
              "#7201a8"
             ],
             [
              0.3333333333333333,
              "#9c179e"
             ],
             [
              0.4444444444444444,
              "#bd3786"
             ],
             [
              0.5555555555555556,
              "#d8576b"
             ],
             [
              0.6666666666666666,
              "#ed7953"
             ],
             [
              0.7777777777777778,
              "#fb9f3a"
             ],
             [
              0.8888888888888888,
              "#fdca26"
             ],
             [
              1,
              "#f0f921"
             ]
            ],
            "type": "histogram2d"
           }
          ],
          "histogram2dcontour": [
           {
            "colorbar": {
             "outlinewidth": 0,
             "ticks": ""
            },
            "colorscale": [
             [
              0,
              "#0d0887"
             ],
             [
              0.1111111111111111,
              "#46039f"
             ],
             [
              0.2222222222222222,
              "#7201a8"
             ],
             [
              0.3333333333333333,
              "#9c179e"
             ],
             [
              0.4444444444444444,
              "#bd3786"
             ],
             [
              0.5555555555555556,
              "#d8576b"
             ],
             [
              0.6666666666666666,
              "#ed7953"
             ],
             [
              0.7777777777777778,
              "#fb9f3a"
             ],
             [
              0.8888888888888888,
              "#fdca26"
             ],
             [
              1,
              "#f0f921"
             ]
            ],
            "type": "histogram2dcontour"
           }
          ],
          "mesh3d": [
           {
            "colorbar": {
             "outlinewidth": 0,
             "ticks": ""
            },
            "type": "mesh3d"
           }
          ],
          "parcoords": [
           {
            "line": {
             "colorbar": {
              "outlinewidth": 0,
              "ticks": ""
             }
            },
            "type": "parcoords"
           }
          ],
          "pie": [
           {
            "automargin": true,
            "type": "pie"
           }
          ],
          "scatter": [
           {
            "fillpattern": {
             "fillmode": "overlay",
             "size": 10,
             "solidity": 0.2
            },
            "type": "scatter"
           }
          ],
          "scatter3d": [
           {
            "line": {
             "colorbar": {
              "outlinewidth": 0,
              "ticks": ""
             }
            },
            "marker": {
             "colorbar": {
              "outlinewidth": 0,
              "ticks": ""
             }
            },
            "type": "scatter3d"
           }
          ],
          "scattercarpet": [
           {
            "marker": {
             "colorbar": {
              "outlinewidth": 0,
              "ticks": ""
             }
            },
            "type": "scattercarpet"
           }
          ],
          "scattergeo": [
           {
            "marker": {
             "colorbar": {
              "outlinewidth": 0,
              "ticks": ""
             }
            },
            "type": "scattergeo"
           }
          ],
          "scattergl": [
           {
            "marker": {
             "colorbar": {
              "outlinewidth": 0,
              "ticks": ""
             }
            },
            "type": "scattergl"
           }
          ],
          "scattermapbox": [
           {
            "marker": {
             "colorbar": {
              "outlinewidth": 0,
              "ticks": ""
             }
            },
            "type": "scattermapbox"
           }
          ],
          "scatterpolar": [
           {
            "marker": {
             "colorbar": {
              "outlinewidth": 0,
              "ticks": ""
             }
            },
            "type": "scatterpolar"
           }
          ],
          "scatterpolargl": [
           {
            "marker": {
             "colorbar": {
              "outlinewidth": 0,
              "ticks": ""
             }
            },
            "type": "scatterpolargl"
           }
          ],
          "scatterternary": [
           {
            "marker": {
             "colorbar": {
              "outlinewidth": 0,
              "ticks": ""
             }
            },
            "type": "scatterternary"
           }
          ],
          "surface": [
           {
            "colorbar": {
             "outlinewidth": 0,
             "ticks": ""
            },
            "colorscale": [
             [
              0,
              "#0d0887"
             ],
             [
              0.1111111111111111,
              "#46039f"
             ],
             [
              0.2222222222222222,
              "#7201a8"
             ],
             [
              0.3333333333333333,
              "#9c179e"
             ],
             [
              0.4444444444444444,
              "#bd3786"
             ],
             [
              0.5555555555555556,
              "#d8576b"
             ],
             [
              0.6666666666666666,
              "#ed7953"
             ],
             [
              0.7777777777777778,
              "#fb9f3a"
             ],
             [
              0.8888888888888888,
              "#fdca26"
             ],
             [
              1,
              "#f0f921"
             ]
            ],
            "type": "surface"
           }
          ],
          "table": [
           {
            "cells": {
             "fill": {
              "color": "#EBF0F8"
             },
             "line": {
              "color": "white"
             }
            },
            "header": {
             "fill": {
              "color": "#C8D4E3"
             },
             "line": {
              "color": "white"
             }
            },
            "type": "table"
           }
          ]
         },
         "layout": {
          "annotationdefaults": {
           "arrowcolor": "#2a3f5f",
           "arrowhead": 0,
           "arrowwidth": 1
          },
          "autotypenumbers": "strict",
          "coloraxis": {
           "colorbar": {
            "outlinewidth": 0,
            "ticks": ""
           }
          },
          "colorscale": {
           "diverging": [
            [
             0,
             "#8e0152"
            ],
            [
             0.1,
             "#c51b7d"
            ],
            [
             0.2,
             "#de77ae"
            ],
            [
             0.3,
             "#f1b6da"
            ],
            [
             0.4,
             "#fde0ef"
            ],
            [
             0.5,
             "#f7f7f7"
            ],
            [
             0.6,
             "#e6f5d0"
            ],
            [
             0.7,
             "#b8e186"
            ],
            [
             0.8,
             "#7fbc41"
            ],
            [
             0.9,
             "#4d9221"
            ],
            [
             1,
             "#276419"
            ]
           ],
           "sequential": [
            [
             0,
             "#0d0887"
            ],
            [
             0.1111111111111111,
             "#46039f"
            ],
            [
             0.2222222222222222,
             "#7201a8"
            ],
            [
             0.3333333333333333,
             "#9c179e"
            ],
            [
             0.4444444444444444,
             "#bd3786"
            ],
            [
             0.5555555555555556,
             "#d8576b"
            ],
            [
             0.6666666666666666,
             "#ed7953"
            ],
            [
             0.7777777777777778,
             "#fb9f3a"
            ],
            [
             0.8888888888888888,
             "#fdca26"
            ],
            [
             1,
             "#f0f921"
            ]
           ],
           "sequentialminus": [
            [
             0,
             "#0d0887"
            ],
            [
             0.1111111111111111,
             "#46039f"
            ],
            [
             0.2222222222222222,
             "#7201a8"
            ],
            [
             0.3333333333333333,
             "#9c179e"
            ],
            [
             0.4444444444444444,
             "#bd3786"
            ],
            [
             0.5555555555555556,
             "#d8576b"
            ],
            [
             0.6666666666666666,
             "#ed7953"
            ],
            [
             0.7777777777777778,
             "#fb9f3a"
            ],
            [
             0.8888888888888888,
             "#fdca26"
            ],
            [
             1,
             "#f0f921"
            ]
           ]
          },
          "colorway": [
           "#636efa",
           "#EF553B",
           "#00cc96",
           "#ab63fa",
           "#FFA15A",
           "#19d3f3",
           "#FF6692",
           "#B6E880",
           "#FF97FF",
           "#FECB52"
          ],
          "font": {
           "color": "#2a3f5f"
          },
          "geo": {
           "bgcolor": "white",
           "lakecolor": "white",
           "landcolor": "#E5ECF6",
           "showlakes": true,
           "showland": true,
           "subunitcolor": "white"
          },
          "hoverlabel": {
           "align": "left"
          },
          "hovermode": "closest",
          "mapbox": {
           "style": "light"
          },
          "paper_bgcolor": "white",
          "plot_bgcolor": "#E5ECF6",
          "polar": {
           "angularaxis": {
            "gridcolor": "white",
            "linecolor": "white",
            "ticks": ""
           },
           "bgcolor": "#E5ECF6",
           "radialaxis": {
            "gridcolor": "white",
            "linecolor": "white",
            "ticks": ""
           }
          },
          "scene": {
           "xaxis": {
            "backgroundcolor": "#E5ECF6",
            "gridcolor": "white",
            "gridwidth": 2,
            "linecolor": "white",
            "showbackground": true,
            "ticks": "",
            "zerolinecolor": "white"
           },
           "yaxis": {
            "backgroundcolor": "#E5ECF6",
            "gridcolor": "white",
            "gridwidth": 2,
            "linecolor": "white",
            "showbackground": true,
            "ticks": "",
            "zerolinecolor": "white"
           },
           "zaxis": {
            "backgroundcolor": "#E5ECF6",
            "gridcolor": "white",
            "gridwidth": 2,
            "linecolor": "white",
            "showbackground": true,
            "ticks": "",
            "zerolinecolor": "white"
           }
          },
          "shapedefaults": {
           "line": {
            "color": "#2a3f5f"
           }
          },
          "ternary": {
           "aaxis": {
            "gridcolor": "white",
            "linecolor": "white",
            "ticks": ""
           },
           "baxis": {
            "gridcolor": "white",
            "linecolor": "white",
            "ticks": ""
           },
           "bgcolor": "#E5ECF6",
           "caxis": {
            "gridcolor": "white",
            "linecolor": "white",
            "ticks": ""
           }
          },
          "title": {
           "x": 0.05
          },
          "xaxis": {
           "automargin": true,
           "gridcolor": "white",
           "linecolor": "white",
           "ticks": "",
           "title": {
            "standoff": 15
           },
           "zerolinecolor": "white",
           "zerolinewidth": 2
          },
          "yaxis": {
           "automargin": true,
           "gridcolor": "white",
           "linecolor": "white",
           "ticks": "",
           "title": {
            "standoff": 15
           },
           "zerolinecolor": "white",
           "zerolinewidth": 2
          }
         }
        },
        "title": {
         "text": "Sensors Visualized Using Principal Components"
        },
        "xaxis": {
         "anchor": "y",
         "domain": [
          0,
          1
         ],
         "title": {
          "text": "Principal Component 1"
         }
        },
        "yaxis": {
         "anchor": "x",
         "domain": [
          0,
          1
         ],
         "title": {
          "text": "Principal Component 2"
         }
        }
       }
      }
     },
     "metadata": {},
     "output_type": "display_data"
    }
   ],
   "source": [
    "# Plot the PCA interactive plot\n",
    "plot_pca_interactive(df_range_delay_ends, sensor_id_col='Sensor ID', n_components=2)"
   ]
  },
  {
   "cell_type": "markdown",
   "metadata": {},
   "source": [
    "Try PCA on reduced data"
   ]
  },
  {
   "cell_type": "code",
   "execution_count": 141,
   "metadata": {},
   "outputs": [
    {
     "data": {
      "image/png": "[encoded data removed]",
      "text/plain": [
       "<Figure size 1000x600 with 1 Axes>"
      ]
     },
     "metadata": {},
     "output_type": "display_data"
    }
   ],
   "source": [
    "explained_variance_corr, loadings_corr, features_corr = process_PCA(reduced_data_corr)"
   ]
  },
  {
   "cell_type": "code",
   "execution_count": 142,
   "metadata": {},
   "outputs": [
    {
     "data": {
      "text/html": [
       "<div>\n",
       "<style scoped>\n",
       "    .dataframe tbody tr th:only-of-type {\n",
       "        vertical-align: middle;\n",
       "    }\n",
       "\n",
       "    .dataframe tbody tr th {\n",
       "        vertical-align: top;\n",
       "    }\n",
       "\n",
       "    .dataframe thead th {\n",
       "        text-align: right;\n",
       "    }\n",
       "</style>\n",
       "<table border=\"1\" class=\"dataframe\">\n",
       "  <thead>\n",
       "    <tr style=\"text-align: right;\">\n",
       "      <th></th>\n",
       "      <th>PC1</th>\n",
       "      <th>PC2</th>\n",
       "      <th>PC3</th>\n",
       "      <th>PC4</th>\n",
       "      <th>PC5</th>\n",
       "      <th>PC6</th>\n",
       "      <th>PC7</th>\n",
       "      <th>PC8</th>\n",
       "      <th>PC9</th>\n",
       "      <th>PC10</th>\n",
       "      <th>PC11</th>\n",
       "      <th>PC12</th>\n",
       "      <th>PC13</th>\n",
       "      <th>PC14</th>\n",
       "      <th>PC15</th>\n",
       "      <th>PC16</th>\n",
       "      <th>PC17</th>\n",
       "      <th>PC18</th>\n",
       "      <th>PC19</th>\n",
       "      <th>PC20</th>\n",
       "    </tr>\n",
       "    <tr>\n",
       "      <th>range_delay</th>\n",
       "      <th></th>\n",
       "      <th></th>\n",
       "      <th></th>\n",
       "      <th></th>\n",
       "      <th></th>\n",
       "      <th></th>\n",
       "      <th></th>\n",
       "      <th></th>\n",
       "      <th></th>\n",
       "      <th></th>\n",
       "      <th></th>\n",
       "      <th></th>\n",
       "      <th></th>\n",
       "      <th></th>\n",
       "      <th></th>\n",
       "      <th></th>\n",
       "      <th></th>\n",
       "      <th></th>\n",
       "      <th></th>\n",
       "      <th></th>\n",
       "    </tr>\n",
       "  </thead>\n",
       "  <tbody>\n",
       "    <tr>\n",
       "      <th>13_10000_lower</th>\n",
       "      <td>-0.068110</td>\n",
       "      <td>0.131775</td>\n",
       "      <td>0.111340</td>\n",
       "      <td>-0.035544</td>\n",
       "      <td>-0.115949</td>\n",
       "      <td>-0.014826</td>\n",
       "      <td>-0.075187</td>\n",
       "      <td>0.015965</td>\n",
       "      <td>-0.178168</td>\n",
       "      <td>0.000712</td>\n",
       "      <td>-0.155972</td>\n",
       "      <td>-0.082527</td>\n",
       "      <td>0.090216</td>\n",
       "      <td>0.078284</td>\n",
       "      <td>0.069931</td>\n",
       "      <td>0.080195</td>\n",
       "      <td>0.121156</td>\n",
       "      <td>-0.068002</td>\n",
       "      <td>0.064101</td>\n",
       "      <td>0.305536</td>\n",
       "    </tr>\n",
       "    <tr>\n",
       "      <th>13_16800_lower</th>\n",
       "      <td>-0.016735</td>\n",
       "      <td>0.174811</td>\n",
       "      <td>-0.058305</td>\n",
       "      <td>-0.099850</td>\n",
       "      <td>0.064780</td>\n",
       "      <td>0.001266</td>\n",
       "      <td>-0.117230</td>\n",
       "      <td>0.108810</td>\n",
       "      <td>-0.003822</td>\n",
       "      <td>0.168038</td>\n",
       "      <td>0.095345</td>\n",
       "      <td>-0.096468</td>\n",
       "      <td>0.090416</td>\n",
       "      <td>-0.127284</td>\n",
       "      <td>0.067628</td>\n",
       "      <td>0.034852</td>\n",
       "      <td>0.036355</td>\n",
       "      <td>-0.072204</td>\n",
       "      <td>0.010644</td>\n",
       "      <td>-0.253998</td>\n",
       "    </tr>\n",
       "    <tr>\n",
       "      <th>13_3000_lower</th>\n",
       "      <td>0.144301</td>\n",
       "      <td>0.039819</td>\n",
       "      <td>0.008676</td>\n",
       "      <td>0.038055</td>\n",
       "      <td>0.065269</td>\n",
       "      <td>0.028977</td>\n",
       "      <td>0.061851</td>\n",
       "      <td>0.067158</td>\n",
       "      <td>-0.105764</td>\n",
       "      <td>-0.209226</td>\n",
       "      <td>-0.064948</td>\n",
       "      <td>0.069510</td>\n",
       "      <td>0.011303</td>\n",
       "      <td>-0.059637</td>\n",
       "      <td>0.095806</td>\n",
       "      <td>0.193825</td>\n",
       "      <td>-0.196312</td>\n",
       "      <td>-0.082594</td>\n",
       "      <td>-0.053027</td>\n",
       "      <td>-0.176350</td>\n",
       "    </tr>\n",
       "    <tr>\n",
       "      <th>13_6000_lower</th>\n",
       "      <td>0.090635</td>\n",
       "      <td>0.015534</td>\n",
       "      <td>0.061063</td>\n",
       "      <td>0.005191</td>\n",
       "      <td>-0.107920</td>\n",
       "      <td>0.031895</td>\n",
       "      <td>-0.151497</td>\n",
       "      <td>0.250450</td>\n",
       "      <td>0.022930</td>\n",
       "      <td>-0.001010</td>\n",
       "      <td>0.122549</td>\n",
       "      <td>-0.062744</td>\n",
       "      <td>0.121588</td>\n",
       "      <td>0.039744</td>\n",
       "      <td>-0.120060</td>\n",
       "      <td>-0.002208</td>\n",
       "      <td>-0.042605</td>\n",
       "      <td>-0.037384</td>\n",
       "      <td>-0.021252</td>\n",
       "      <td>0.073295</td>\n",
       "    </tr>\n",
       "    <tr>\n",
       "      <th>13_8000_lower</th>\n",
       "      <td>-0.109149</td>\n",
       "      <td>-0.067084</td>\n",
       "      <td>0.169161</td>\n",
       "      <td>-0.109911</td>\n",
       "      <td>0.059381</td>\n",
       "      <td>-0.066248</td>\n",
       "      <td>0.025235</td>\n",
       "      <td>-0.178152</td>\n",
       "      <td>0.035358</td>\n",
       "      <td>0.070281</td>\n",
       "      <td>0.032641</td>\n",
       "      <td>0.084442</td>\n",
       "      <td>-0.086096</td>\n",
       "      <td>-0.133075</td>\n",
       "      <td>-0.000531</td>\n",
       "      <td>0.002463</td>\n",
       "      <td>0.044841</td>\n",
       "      <td>-0.036758</td>\n",
       "      <td>-0.083862</td>\n",
       "      <td>0.114341</td>\n",
       "    </tr>\n",
       "    <tr>\n",
       "      <th>...</th>\n",
       "      <td>...</td>\n",
       "      <td>...</td>\n",
       "      <td>...</td>\n",
       "      <td>...</td>\n",
       "      <td>...</td>\n",
       "      <td>...</td>\n",
       "      <td>...</td>\n",
       "      <td>...</td>\n",
       "      <td>...</td>\n",
       "      <td>...</td>\n",
       "      <td>...</td>\n",
       "      <td>...</td>\n",
       "      <td>...</td>\n",
       "      <td>...</td>\n",
       "      <td>...</td>\n",
       "      <td>...</td>\n",
       "      <td>...</td>\n",
       "      <td>...</td>\n",
       "      <td>...</td>\n",
       "      <td>...</td>\n",
       "    </tr>\n",
       "    <tr>\n",
       "      <th>48_8000_upper</th>\n",
       "      <td>0.049436</td>\n",
       "      <td>0.200077</td>\n",
       "      <td>-0.072886</td>\n",
       "      <td>0.005863</td>\n",
       "      <td>0.046690</td>\n",
       "      <td>0.068109</td>\n",
       "      <td>0.020343</td>\n",
       "      <td>-0.086794</td>\n",
       "      <td>-0.057843</td>\n",
       "      <td>-0.066341</td>\n",
       "      <td>-0.002604</td>\n",
       "      <td>0.064425</td>\n",
       "      <td>0.199920</td>\n",
       "      <td>-0.143702</td>\n",
       "      <td>-0.131558</td>\n",
       "      <td>0.004161</td>\n",
       "      <td>0.119482</td>\n",
       "      <td>0.039699</td>\n",
       "      <td>0.045122</td>\n",
       "      <td>0.035088</td>\n",
       "    </tr>\n",
       "    <tr>\n",
       "      <th>53_10000_upper</th>\n",
       "      <td>-0.024668</td>\n",
       "      <td>-0.040838</td>\n",
       "      <td>-0.180575</td>\n",
       "      <td>0.026003</td>\n",
       "      <td>-0.136889</td>\n",
       "      <td>-0.002736</td>\n",
       "      <td>0.116866</td>\n",
       "      <td>0.022936</td>\n",
       "      <td>0.089875</td>\n",
       "      <td>-0.029236</td>\n",
       "      <td>-0.025709</td>\n",
       "      <td>-0.202544</td>\n",
       "      <td>0.051150</td>\n",
       "      <td>-0.023065</td>\n",
       "      <td>0.198859</td>\n",
       "      <td>-0.010643</td>\n",
       "      <td>0.007298</td>\n",
       "      <td>0.045796</td>\n",
       "      <td>-0.032413</td>\n",
       "      <td>-0.011670</td>\n",
       "    </tr>\n",
       "    <tr>\n",
       "      <th>53_16800_upper</th>\n",
       "      <td>0.135907</td>\n",
       "      <td>0.130950</td>\n",
       "      <td>-0.010792</td>\n",
       "      <td>-0.063343</td>\n",
       "      <td>0.036182</td>\n",
       "      <td>-0.084013</td>\n",
       "      <td>0.101921</td>\n",
       "      <td>-0.182390</td>\n",
       "      <td>0.007867</td>\n",
       "      <td>-0.017708</td>\n",
       "      <td>0.074505</td>\n",
       "      <td>-0.034946</td>\n",
       "      <td>0.138950</td>\n",
       "      <td>0.101529</td>\n",
       "      <td>-0.062757</td>\n",
       "      <td>0.016994</td>\n",
       "      <td>0.130584</td>\n",
       "      <td>-0.047771</td>\n",
       "      <td>-0.125196</td>\n",
       "      <td>0.010986</td>\n",
       "    </tr>\n",
       "    <tr>\n",
       "      <th>53_3000_upper</th>\n",
       "      <td>0.088297</td>\n",
       "      <td>-0.113669</td>\n",
       "      <td>-0.069300</td>\n",
       "      <td>-0.100722</td>\n",
       "      <td>-0.072025</td>\n",
       "      <td>0.004395</td>\n",
       "      <td>-0.074568</td>\n",
       "      <td>0.143461</td>\n",
       "      <td>0.086826</td>\n",
       "      <td>0.073238</td>\n",
       "      <td>-0.057724</td>\n",
       "      <td>0.003850</td>\n",
       "      <td>0.022669</td>\n",
       "      <td>-0.178256</td>\n",
       "      <td>-0.103476</td>\n",
       "      <td>-0.055567</td>\n",
       "      <td>0.065996</td>\n",
       "      <td>-0.176190</td>\n",
       "      <td>-0.207103</td>\n",
       "      <td>0.115883</td>\n",
       "    </tr>\n",
       "    <tr>\n",
       "      <th>53_8000_upper</th>\n",
       "      <td>0.155341</td>\n",
       "      <td>-0.021865</td>\n",
       "      <td>0.045177</td>\n",
       "      <td>0.133292</td>\n",
       "      <td>-0.005487</td>\n",
       "      <td>0.102531</td>\n",
       "      <td>-0.165380</td>\n",
       "      <td>-0.049196</td>\n",
       "      <td>-0.146063</td>\n",
       "      <td>0.030803</td>\n",
       "      <td>-0.043700</td>\n",
       "      <td>-0.124807</td>\n",
       "      <td>-0.079026</td>\n",
       "      <td>-0.052549</td>\n",
       "      <td>0.045112</td>\n",
       "      <td>-0.032044</td>\n",
       "      <td>0.111275</td>\n",
       "      <td>0.027404</td>\n",
       "      <td>-0.034309</td>\n",
       "      <td>0.080279</td>\n",
       "    </tr>\n",
       "  </tbody>\n",
       "</table>\n",
       "<p>110 rows × 20 columns</p>\n",
       "</div>"
      ],
      "text/plain": [
       "                     PC1       PC2       PC3       PC4       PC5       PC6  \\\n",
       "range_delay                                                                  \n",
       "13_10000_lower -0.068110  0.131775  0.111340 -0.035544 -0.115949 -0.014826   \n",
       "13_16800_lower -0.016735  0.174811 -0.058305 -0.099850  0.064780  0.001266   \n",
       "13_3000_lower   0.144301  0.039819  0.008676  0.038055  0.065269  0.028977   \n",
       "13_6000_lower   0.090635  0.015534  0.061063  0.005191 -0.107920  0.031895   \n",
       "13_8000_lower  -0.109149 -0.067084  0.169161 -0.109911  0.059381 -0.066248   \n",
       "...                  ...       ...       ...       ...       ...       ...   \n",
       "48_8000_upper   0.049436  0.200077 -0.072886  0.005863  0.046690  0.068109   \n",
       "53_10000_upper -0.024668 -0.040838 -0.180575  0.026003 -0.136889 -0.002736   \n",
       "53_16800_upper  0.135907  0.130950 -0.010792 -0.063343  0.036182 -0.084013   \n",
       "53_3000_upper   0.088297 -0.113669 -0.069300 -0.100722 -0.072025  0.004395   \n",
       "53_8000_upper   0.155341 -0.021865  0.045177  0.133292 -0.005487  0.102531   \n",
       "\n",
       "                     PC7       PC8       PC9      PC10      PC11      PC12  \\\n",
       "range_delay                                                                  \n",
       "13_10000_lower -0.075187  0.015965 -0.178168  0.000712 -0.155972 -0.082527   \n",
       "13_16800_lower -0.117230  0.108810 -0.003822  0.168038  0.095345 -0.096468   \n",
       "13_3000_lower   0.061851  0.067158 -0.105764 -0.209226 -0.064948  0.069510   \n",
       "13_6000_lower  -0.151497  0.250450  0.022930 -0.001010  0.122549 -0.062744   \n",
       "13_8000_lower   0.025235 -0.178152  0.035358  0.070281  0.032641  0.084442   \n",
       "...                  ...       ...       ...       ...       ...       ...   \n",
       "48_8000_upper   0.020343 -0.086794 -0.057843 -0.066341 -0.002604  0.064425   \n",
       "53_10000_upper  0.116866  0.022936  0.089875 -0.029236 -0.025709 -0.202544   \n",
       "53_16800_upper  0.101921 -0.182390  0.007867 -0.017708  0.074505 -0.034946   \n",
       "53_3000_upper  -0.074568  0.143461  0.086826  0.073238 -0.057724  0.003850   \n",
       "53_8000_upper  -0.165380 -0.049196 -0.146063  0.030803 -0.043700 -0.124807   \n",
       "\n",
       "                    PC13      PC14      PC15      PC16      PC17      PC18  \\\n",
       "range_delay                                                                  \n",
       "13_10000_lower  0.090216  0.078284  0.069931  0.080195  0.121156 -0.068002   \n",
       "13_16800_lower  0.090416 -0.127284  0.067628  0.034852  0.036355 -0.072204   \n",
       "13_3000_lower   0.011303 -0.059637  0.095806  0.193825 -0.196312 -0.082594   \n",
       "13_6000_lower   0.121588  0.039744 -0.120060 -0.002208 -0.042605 -0.037384   \n",
       "13_8000_lower  -0.086096 -0.133075 -0.000531  0.002463  0.044841 -0.036758   \n",
       "...                  ...       ...       ...       ...       ...       ...   \n",
       "48_8000_upper   0.199920 -0.143702 -0.131558  0.004161  0.119482  0.039699   \n",
       "53_10000_upper  0.051150 -0.023065  0.198859 -0.010643  0.007298  0.045796   \n",
       "53_16800_upper  0.138950  0.101529 -0.062757  0.016994  0.130584 -0.047771   \n",
       "53_3000_upper   0.022669 -0.178256 -0.103476 -0.055567  0.065996 -0.176190   \n",
       "53_8000_upper  -0.079026 -0.052549  0.045112 -0.032044  0.111275  0.027404   \n",
       "\n",
       "                    PC19      PC20  \n",
       "range_delay                         \n",
       "13_10000_lower  0.064101  0.305536  \n",
       "13_16800_lower  0.010644 -0.253998  \n",
       "13_3000_lower  -0.053027 -0.176350  \n",
       "13_6000_lower  -0.021252  0.073295  \n",
       "13_8000_lower  -0.083862  0.114341  \n",
       "...                  ...       ...  \n",
       "48_8000_upper   0.045122  0.035088  \n",
       "53_10000_upper -0.032413 -0.011670  \n",
       "53_16800_upper -0.125196  0.010986  \n",
       "53_3000_upper  -0.207103  0.115883  \n",
       "53_8000_upper  -0.034309  0.080279  \n",
       "\n",
       "[110 rows x 20 columns]"
      ]
     },
     "execution_count": 142,
     "metadata": {},
     "output_type": "execute_result"
    }
   ],
   "source": [
    "# Create a DataFrame for the loadings\n",
    "loading_df_corr = pd.DataFrame(loadings_corr.T, columns=[f'PC{i+1}' for i in range(loadings_corr.shape[0])], index=features_corr.columns)\n",
    "loading_df_corr"
   ]
  },
  {
   "cell_type": "code",
   "execution_count": 143,
   "metadata": {},
   "outputs": [
    {
     "data": {
      "text/html": [
       "<div>\n",
       "<style scoped>\n",
       "    .dataframe tbody tr th:only-of-type {\n",
       "        vertical-align: middle;\n",
       "    }\n",
       "\n",
       "    .dataframe tbody tr th {\n",
       "        vertical-align: top;\n",
       "    }\n",
       "\n",
       "    .dataframe thead th {\n",
       "        text-align: right;\n",
       "    }\n",
       "</style>\n",
       "<table border=\"1\" class=\"dataframe\">\n",
       "  <thead>\n",
       "    <tr style=\"text-align: right;\">\n",
       "      <th></th>\n",
       "      <th>Feature</th>\n",
       "      <th>Importance</th>\n",
       "    </tr>\n",
       "  </thead>\n",
       "  <tbody>\n",
       "    <tr>\n",
       "      <th>40</th>\n",
       "      <td>38_3000_lower</td>\n",
       "      <td>1.489229</td>\n",
       "    </tr>\n",
       "    <tr>\n",
       "      <th>27</th>\n",
       "      <td>23_6000_lower</td>\n",
       "      <td>1.481353</td>\n",
       "    </tr>\n",
       "    <tr>\n",
       "      <th>49</th>\n",
       "      <td>48_16800_lower</td>\n",
       "      <td>1.453056</td>\n",
       "    </tr>\n",
       "    <tr>\n",
       "      <th>80</th>\n",
       "      <td>23_16800_upper</td>\n",
       "      <td>1.434170</td>\n",
       "    </tr>\n",
       "    <tr>\n",
       "      <th>25</th>\n",
       "      <td>23_16800_lower</td>\n",
       "      <td>1.417376</td>\n",
       "    </tr>\n",
       "    <tr>\n",
       "      <th>...</th>\n",
       "      <td>...</td>\n",
       "      <td>...</td>\n",
       "    </tr>\n",
       "    <tr>\n",
       "      <th>31</th>\n",
       "      <td>28_3000_lower</td>\n",
       "      <td>1.036461</td>\n",
       "    </tr>\n",
       "    <tr>\n",
       "      <th>88</th>\n",
       "      <td>28_8000_upper</td>\n",
       "      <td>1.031542</td>\n",
       "    </tr>\n",
       "    <tr>\n",
       "      <th>84</th>\n",
       "      <td>28_10000_upper</td>\n",
       "      <td>1.008862</td>\n",
       "    </tr>\n",
       "    <tr>\n",
       "      <th>73</th>\n",
       "      <td>19_6000_upper</td>\n",
       "      <td>0.991336</td>\n",
       "    </tr>\n",
       "    <tr>\n",
       "      <th>32</th>\n",
       "      <td>28_6000_lower</td>\n",
       "      <td>0.917822</td>\n",
       "    </tr>\n",
       "  </tbody>\n",
       "</table>\n",
       "<p>110 rows × 2 columns</p>\n",
       "</div>"
      ],
      "text/plain": [
       "           Feature  Importance\n",
       "40   38_3000_lower    1.489229\n",
       "27   23_6000_lower    1.481353\n",
       "49  48_16800_lower    1.453056\n",
       "80  23_16800_upper    1.434170\n",
       "25  23_16800_lower    1.417376\n",
       "..             ...         ...\n",
       "31   28_3000_lower    1.036461\n",
       "88   28_8000_upper    1.031542\n",
       "84  28_10000_upper    1.008862\n",
       "73   19_6000_upper    0.991336\n",
       "32   28_6000_lower    0.917822\n",
       "\n",
       "[110 rows x 2 columns]"
      ]
     },
     "execution_count": 143,
     "metadata": {},
     "output_type": "execute_result"
    }
   ],
   "source": [
    "# Determine the number of components to retain 90% variance\n",
    "cumulative_variance = np.cumsum(explained_variance_corr)\n",
    "num_components = np.argmax(cumulative_variance >= 0.9) + 1\n",
    "\n",
    "# Get the loadings for the selected components\n",
    "selected_loadings_corr = loadings_corr[:num_components, :]\n",
    "\n",
    "# Calculate the importance of each feature by summing the absolute values of its loadings across the selected components\n",
    "feature_importance_corr = np.sum(np.abs(selected_loadings_corr), axis=0)\n",
    "\n",
    "# Create a DataFrame for feature importance\n",
    "feature_importance_df_corr = pd.DataFrame({'Feature': features_corr.columns, 'Importance': feature_importance_corr})\n",
    "\n",
    "# Sort the features by importance\n",
    "feature_importance_df_corr = feature_importance_df_corr.sort_values(by='Importance', ascending=False)\n",
    "\n",
    "# Select the top N features (e.g., top 10 features)\n",
    "top_features_corr = feature_importance_df_corr.head(200)\n",
    "\n",
    "top_features_corr"
   ]
  },
  {
   "cell_type": "code",
   "execution_count": 144,
   "metadata": {},
   "outputs": [
    {
     "data": {
      "application/vnd.plotly.v1+json": {
       "config": {
        "plotlyServerURL": "https://plot.ly"
       },
       "data": [
        {
         "customdata": [
          [
           1
          ],
          [
           2
          ],
          [
           3
          ],
          [
           4
          ],
          [
           5
          ],
          [
           6
          ],
          [
           7
          ],
          [
           8
          ],
          [
           9
          ],
          [
           10
          ],
          [
           11
          ],
          [
           12
          ],
          [
           13
          ],
          [
           14
          ],
          [
           15
          ],
          [
           16
          ],
          [
           17
          ],
          [
           18
          ],
          [
           19
          ],
          [
           20
          ]
         ],
         "hovertemplate": "Principal Component 1=%{x}<br>Principal Component 2=%{y}<br>Sensor ID=%{marker.color}<extra></extra>",
         "legendgroup": "",
         "marker": {
          "color": [
           1,
           2,
           3,
           4,
           5,
           6,
           7,
           8,
           9,
           10,
           11,
           12,
           13,
           14,
           15,
           16,
           17,
           18,
           19,
           20
          ],
          "coloraxis": "coloraxis",
          "symbol": "circle"
         },
         "mode": "markers",
         "name": "",
         "orientation": "v",
         "showlegend": false,
         "type": "scatter",
         "x": [
          -6442.758146414652,
          -6459.18960325467,
          58459.526469588265,
          53686.54601315221,
          -5715.315362580289,
          -6595.378425353914,
          -6623.698521073798,
          -6493.923721523482,
          -6409.263036702596,
          -6536.388008551842,
          -6797.5393571427885,
          -5705.239188829859,
          -5732.634153054405,
          -5724.458341627386,
          -5556.793251536432,
          -6445.995774629495,
          -6401.725726910183,
          -5782.045445385852,
          -6757.532984591385,
          -5966.193433577422
         ],
         "xaxis": "x",
         "y": [
          -1686.6692185266888,
          -302.7143516521414,
          -12805.59171299135,
          13814.130938226603,
          -198.08132152515898,
          432.0126053654817,
          596.9250219854285,
          -1483.6159776476177,
          -1397.0973771023662,
          1460.3812088442903,
          836.0038161292191,
          -153.89176802178116,
          160.71683502543402,
          977.6040669897646,
          745.2377177949271,
          1290.6169721495678,
          -446.28484218919414,
          -1030.8506347527943,
          -1164.2369971019473,
          355.4050190003185
         ],
         "yaxis": "y"
        }
       ],
       "layout": {
        "coloraxis": {
         "colorbar": {
          "title": {
           "text": "Sensor ID"
          }
         },
         "colorscale": [
          [
           0,
           "#0d0887"
          ],
          [
           0.1111111111111111,
           "#46039f"
          ],
          [
           0.2222222222222222,
           "#7201a8"
          ],
          [
           0.3333333333333333,
           "#9c179e"
          ],
          [
           0.4444444444444444,
           "#bd3786"
          ],
          [
           0.5555555555555556,
           "#d8576b"
          ],
          [
           0.6666666666666666,
           "#ed7953"
          ],
          [
           0.7777777777777778,
           "#fb9f3a"
          ],
          [
           0.8888888888888888,
           "#fdca26"
          ],
          [
           1,
           "#f0f921"
          ]
         ]
        },
        "legend": {
         "tracegroupgap": 0
        },
        "template": {
         "data": {
          "bar": [
           {
            "error_x": {
             "color": "#2a3f5f"
            },
            "error_y": {
             "color": "#2a3f5f"
            },
            "marker": {
             "line": {
              "color": "#E5ECF6",
              "width": 0.5
             },
             "pattern": {
              "fillmode": "overlay",
              "size": 10,
              "solidity": 0.2
             }
            },
            "type": "bar"
           }
          ],
          "barpolar": [
           {
            "marker": {
             "line": {
              "color": "#E5ECF6",
              "width": 0.5
             },
             "pattern": {
              "fillmode": "overlay",
              "size": 10,
              "solidity": 0.2
             }
            },
            "type": "barpolar"
           }
          ],
          "carpet": [
           {
            "aaxis": {
             "endlinecolor": "#2a3f5f",
             "gridcolor": "white",
             "linecolor": "white",
             "minorgridcolor": "white",
             "startlinecolor": "#2a3f5f"
            },
            "baxis": {
             "endlinecolor": "#2a3f5f",
             "gridcolor": "white",
             "linecolor": "white",
             "minorgridcolor": "white",
             "startlinecolor": "#2a3f5f"
            },
            "type": "carpet"
           }
          ],
          "choropleth": [
           {
            "colorbar": {
             "outlinewidth": 0,
             "ticks": ""
            },
            "type": "choropleth"
           }
          ],
          "contour": [
           {
            "colorbar": {
             "outlinewidth": 0,
             "ticks": ""
            },
            "colorscale": [
             [
              0,
              "#0d0887"
             ],
             [
              0.1111111111111111,
              "#46039f"
             ],
             [
              0.2222222222222222,
              "#7201a8"
             ],
             [
              0.3333333333333333,
              "#9c179e"
             ],
             [
              0.4444444444444444,
              "#bd3786"
             ],
             [
              0.5555555555555556,
              "#d8576b"
             ],
             [
              0.6666666666666666,
              "#ed7953"
             ],
             [
              0.7777777777777778,
              "#fb9f3a"
             ],
             [
              0.8888888888888888,
              "#fdca26"
             ],
             [
              1,
              "#f0f921"
             ]
            ],
            "type": "contour"
           }
          ],
          "contourcarpet": [
           {
            "colorbar": {
             "outlinewidth": 0,
             "ticks": ""
            },
            "type": "contourcarpet"
           }
          ],
          "heatmap": [
           {
            "colorbar": {
             "outlinewidth": 0,
             "ticks": ""
            },
            "colorscale": [
             [
              0,
              "#0d0887"
             ],
             [
              0.1111111111111111,
              "#46039f"
             ],
             [
              0.2222222222222222,
              "#7201a8"
             ],
             [
              0.3333333333333333,
              "#9c179e"
             ],
             [
              0.4444444444444444,
              "#bd3786"
             ],
             [
              0.5555555555555556,
              "#d8576b"
             ],
             [
              0.6666666666666666,
              "#ed7953"
             ],
             [
              0.7777777777777778,
              "#fb9f3a"
             ],
             [
              0.8888888888888888,
              "#fdca26"
             ],
             [
              1,
              "#f0f921"
             ]
            ],
            "type": "heatmap"
           }
          ],
          "heatmapgl": [
           {
            "colorbar": {
             "outlinewidth": 0,
             "ticks": ""
            },
            "colorscale": [
             [
              0,
              "#0d0887"
             ],
             [
              0.1111111111111111,
              "#46039f"
             ],
             [
              0.2222222222222222,
              "#7201a8"
             ],
             [
              0.3333333333333333,
              "#9c179e"
             ],
             [
              0.4444444444444444,
              "#bd3786"
             ],
             [
              0.5555555555555556,
              "#d8576b"
             ],
             [
              0.6666666666666666,
              "#ed7953"
             ],
             [
              0.7777777777777778,
              "#fb9f3a"
             ],
             [
              0.8888888888888888,
              "#fdca26"
             ],
             [
              1,
              "#f0f921"
             ]
            ],
            "type": "heatmapgl"
           }
          ],
          "histogram": [
           {
            "marker": {
             "pattern": {
              "fillmode": "overlay",
              "size": 10,
              "solidity": 0.2
             }
            },
            "type": "histogram"
           }
          ],
          "histogram2d": [
           {
            "colorbar": {
             "outlinewidth": 0,
             "ticks": ""
            },
            "colorscale": [
             [
              0,
              "#0d0887"
             ],
             [
              0.1111111111111111,
              "#46039f"
             ],
             [
              0.2222222222222222,
              "#7201a8"
             ],
             [
              0.3333333333333333,
              "#9c179e"
             ],
             [
              0.4444444444444444,
              "#bd3786"
             ],
             [
              0.5555555555555556,
              "#d8576b"
             ],
             [
              0.6666666666666666,
              "#ed7953"
             ],
             [
              0.7777777777777778,
              "#fb9f3a"
             ],
             [
              0.8888888888888888,
              "#fdca26"
             ],
             [
              1,
              "#f0f921"
             ]
            ],
            "type": "histogram2d"
           }
          ],
          "histogram2dcontour": [
           {
            "colorbar": {
             "outlinewidth": 0,
             "ticks": ""
            },
            "colorscale": [
             [
              0,
              "#0d0887"
             ],
             [
              0.1111111111111111,
              "#46039f"
             ],
             [
              0.2222222222222222,
              "#7201a8"
             ],
             [
              0.3333333333333333,
              "#9c179e"
             ],
             [
              0.4444444444444444,
              "#bd3786"
             ],
             [
              0.5555555555555556,
              "#d8576b"
             ],
             [
              0.6666666666666666,
              "#ed7953"
             ],
             [
              0.7777777777777778,
              "#fb9f3a"
             ],
             [
              0.8888888888888888,
              "#fdca26"
             ],
             [
              1,
              "#f0f921"
             ]
            ],
            "type": "histogram2dcontour"
           }
          ],
          "mesh3d": [
           {
            "colorbar": {
             "outlinewidth": 0,
             "ticks": ""
            },
            "type": "mesh3d"
           }
          ],
          "parcoords": [
           {
            "line": {
             "colorbar": {
              "outlinewidth": 0,
              "ticks": ""
             }
            },
            "type": "parcoords"
           }
          ],
          "pie": [
           {
            "automargin": true,
            "type": "pie"
           }
          ],
          "scatter": [
           {
            "fillpattern": {
             "fillmode": "overlay",
             "size": 10,
             "solidity": 0.2
            },
            "type": "scatter"
           }
          ],
          "scatter3d": [
           {
            "line": {
             "colorbar": {
              "outlinewidth": 0,
              "ticks": ""
             }
            },
            "marker": {
             "colorbar": {
              "outlinewidth": 0,
              "ticks": ""
             }
            },
            "type": "scatter3d"
           }
          ],
          "scattercarpet": [
           {
            "marker": {
             "colorbar": {
              "outlinewidth": 0,
              "ticks": ""
             }
            },
            "type": "scattercarpet"
           }
          ],
          "scattergeo": [
           {
            "marker": {
             "colorbar": {
              "outlinewidth": 0,
              "ticks": ""
             }
            },
            "type": "scattergeo"
           }
          ],
          "scattergl": [
           {
            "marker": {
             "colorbar": {
              "outlinewidth": 0,
              "ticks": ""
             }
            },
            "type": "scattergl"
           }
          ],
          "scattermapbox": [
           {
            "marker": {
             "colorbar": {
              "outlinewidth": 0,
              "ticks": ""
             }
            },
            "type": "scattermapbox"
           }
          ],
          "scatterpolar": [
           {
            "marker": {
             "colorbar": {
              "outlinewidth": 0,
              "ticks": ""
             }
            },
            "type": "scatterpolar"
           }
          ],
          "scatterpolargl": [
           {
            "marker": {
             "colorbar": {
              "outlinewidth": 0,
              "ticks": ""
             }
            },
            "type": "scatterpolargl"
           }
          ],
          "scatterternary": [
           {
            "marker": {
             "colorbar": {
              "outlinewidth": 0,
              "ticks": ""
             }
            },
            "type": "scatterternary"
           }
          ],
          "surface": [
           {
            "colorbar": {
             "outlinewidth": 0,
             "ticks": ""
            },
            "colorscale": [
             [
              0,
              "#0d0887"
             ],
             [
              0.1111111111111111,
              "#46039f"
             ],
             [
              0.2222222222222222,
              "#7201a8"
             ],
             [
              0.3333333333333333,
              "#9c179e"
             ],
             [
              0.4444444444444444,
              "#bd3786"
             ],
             [
              0.5555555555555556,
              "#d8576b"
             ],
             [
              0.6666666666666666,
              "#ed7953"
             ],
             [
              0.7777777777777778,
              "#fb9f3a"
             ],
             [
              0.8888888888888888,
              "#fdca26"
             ],
             [
              1,
              "#f0f921"
             ]
            ],
            "type": "surface"
           }
          ],
          "table": [
           {
            "cells": {
             "fill": {
              "color": "#EBF0F8"
             },
             "line": {
              "color": "white"
             }
            },
            "header": {
             "fill": {
              "color": "#C8D4E3"
             },
             "line": {
              "color": "white"
             }
            },
            "type": "table"
           }
          ]
         },
         "layout": {
          "annotationdefaults": {
           "arrowcolor": "#2a3f5f",
           "arrowhead": 0,
           "arrowwidth": 1
          },
          "autotypenumbers": "strict",
          "coloraxis": {
           "colorbar": {
            "outlinewidth": 0,
            "ticks": ""
           }
          },
          "colorscale": {
           "diverging": [
            [
             0,
             "#8e0152"
            ],
            [
             0.1,
             "#c51b7d"
            ],
            [
             0.2,
             "#de77ae"
            ],
            [
             0.3,
             "#f1b6da"
            ],
            [
             0.4,
             "#fde0ef"
            ],
            [
             0.5,
             "#f7f7f7"
            ],
            [
             0.6,
             "#e6f5d0"
            ],
            [
             0.7,
             "#b8e186"
            ],
            [
             0.8,
             "#7fbc41"
            ],
            [
             0.9,
             "#4d9221"
            ],
            [
             1,
             "#276419"
            ]
           ],
           "sequential": [
            [
             0,
             "#0d0887"
            ],
            [
             0.1111111111111111,
             "#46039f"
            ],
            [
             0.2222222222222222,
             "#7201a8"
            ],
            [
             0.3333333333333333,
             "#9c179e"
            ],
            [
             0.4444444444444444,
             "#bd3786"
            ],
            [
             0.5555555555555556,
             "#d8576b"
            ],
            [
             0.6666666666666666,
             "#ed7953"
            ],
            [
             0.7777777777777778,
             "#fb9f3a"
            ],
            [
             0.8888888888888888,
             "#fdca26"
            ],
            [
             1,
             "#f0f921"
            ]
           ],
           "sequentialminus": [
            [
             0,
             "#0d0887"
            ],
            [
             0.1111111111111111,
             "#46039f"
            ],
            [
             0.2222222222222222,
             "#7201a8"
            ],
            [
             0.3333333333333333,
             "#9c179e"
            ],
            [
             0.4444444444444444,
             "#bd3786"
            ],
            [
             0.5555555555555556,
             "#d8576b"
            ],
            [
             0.6666666666666666,
             "#ed7953"
            ],
            [
             0.7777777777777778,
             "#fb9f3a"
            ],
            [
             0.8888888888888888,
             "#fdca26"
            ],
            [
             1,
             "#f0f921"
            ]
           ]
          },
          "colorway": [
           "#636efa",
           "#EF553B",
           "#00cc96",
           "#ab63fa",
           "#FFA15A",
           "#19d3f3",
           "#FF6692",
           "#B6E880",
           "#FF97FF",
           "#FECB52"
          ],
          "font": {
           "color": "#2a3f5f"
          },
          "geo": {
           "bgcolor": "white",
           "lakecolor": "white",
           "landcolor": "#E5ECF6",
           "showlakes": true,
           "showland": true,
           "subunitcolor": "white"
          },
          "hoverlabel": {
           "align": "left"
          },
          "hovermode": "closest",
          "mapbox": {
           "style": "light"
          },
          "paper_bgcolor": "white",
          "plot_bgcolor": "#E5ECF6",
          "polar": {
           "angularaxis": {
            "gridcolor": "white",
            "linecolor": "white",
            "ticks": ""
           },
           "bgcolor": "#E5ECF6",
           "radialaxis": {
            "gridcolor": "white",
            "linecolor": "white",
            "ticks": ""
           }
          },
          "scene": {
           "xaxis": {
            "backgroundcolor": "#E5ECF6",
            "gridcolor": "white",
            "gridwidth": 2,
            "linecolor": "white",
            "showbackground": true,
            "ticks": "",
            "zerolinecolor": "white"
           },
           "yaxis": {
            "backgroundcolor": "#E5ECF6",
            "gridcolor": "white",
            "gridwidth": 2,
            "linecolor": "white",
            "showbackground": true,
            "ticks": "",
            "zerolinecolor": "white"
           },
           "zaxis": {
            "backgroundcolor": "#E5ECF6",
            "gridcolor": "white",
            "gridwidth": 2,
            "linecolor": "white",
            "showbackground": true,
            "ticks": "",
            "zerolinecolor": "white"
           }
          },
          "shapedefaults": {
           "line": {
            "color": "#2a3f5f"
           }
          },
          "ternary": {
           "aaxis": {
            "gridcolor": "white",
            "linecolor": "white",
            "ticks": ""
           },
           "baxis": {
            "gridcolor": "white",
            "linecolor": "white",
            "ticks": ""
           },
           "bgcolor": "#E5ECF6",
           "caxis": {
            "gridcolor": "white",
            "linecolor": "white",
            "ticks": ""
           }
          },
          "title": {
           "x": 0.05
          },
          "xaxis": {
           "automargin": true,
           "gridcolor": "white",
           "linecolor": "white",
           "ticks": "",
           "title": {
            "standoff": 15
           },
           "zerolinecolor": "white",
           "zerolinewidth": 2
          },
          "yaxis": {
           "automargin": true,
           "gridcolor": "white",
           "linecolor": "white",
           "ticks": "",
           "title": {
            "standoff": 15
           },
           "zerolinecolor": "white",
           "zerolinewidth": 2
          }
         }
        },
        "title": {
         "text": "Sensors Visualized Using Principal Components"
        },
        "xaxis": {
         "anchor": "y",
         "domain": [
          0,
          1
         ],
         "title": {
          "text": "Principal Component 1"
         }
        },
        "yaxis": {
         "anchor": "x",
         "domain": [
          0,
          1
         ],
         "title": {
          "text": "Principal Component 2"
         }
        }
       }
      }
     },
     "metadata": {},
     "output_type": "display_data"
    }
   ],
   "source": [
    "# Plot the PCA interactive plot\n",
    "plot_pca_interactive(reduced_data_corr, sensor_id_col='Sensor ID', n_components=2)"
   ]
  },
  {
   "cell_type": "markdown",
   "metadata": {},
   "source": [
    "## Clustering"
   ]
  },
  {
   "cell_type": "code",
   "execution_count": 145,
   "metadata": {},
   "outputs": [
    {
     "name": "stderr",
     "output_type": "stream",
     "text": [
      "/Users/jihoonchung/anaconda3/envs/datascience/lib/python3.10/site-packages/sklearn/cluster/_kmeans.py:1412: FutureWarning:\n",
      "\n",
      "The default value of `n_init` will change from 10 to 'auto' in 1.4. Set the value of `n_init` explicitly to suppress the warning\n",
      "\n"
     ]
    },
    {
     "data": {
      "application/vnd.plotly.v1+json": {
       "config": {
        "plotlyServerURL": "https://plot.ly"
       },
       "data": [
        {
         "customdata": [
          [
           1
          ]
         ],
         "hovertemplate": "Sensor ID=%{customdata[0]}<br>Principal Component 1=%{x}<br>Principal Component 2=%{y}<br>Principal Component 3=%{z}<br>Cluster=%{marker.color}<extra></extra>",
         "legendgroup": "1",
         "marker": {
          "color": [
           0
          ],
          "coloraxis": "coloraxis",
          "symbol": "circle"
         },
         "mode": "markers",
         "name": "1",
         "scene": "scene",
         "showlegend": true,
         "type": "scatter3d",
         "x": [
          -6442.758146414652
         ],
         "y": [
          -1686.6692185266888
         ],
         "z": [
          3483.797116321254
         ]
        },
        {
         "customdata": [
          [
           2
          ]
         ],
         "hovertemplate": "Sensor ID=%{customdata[0]}<br>Principal Component 1=%{x}<br>Principal Component 2=%{y}<br>Principal Component 3=%{z}<br>Cluster=%{marker.color}<extra></extra>",
         "legendgroup": "2",
         "marker": {
          "color": [
           0
          ],
          "coloraxis": "coloraxis",
          "symbol": "diamond"
         },
         "mode": "markers",
         "name": "2",
         "scene": "scene",
         "showlegend": true,
         "type": "scatter3d",
         "x": [
          -6459.18960325467
         ],
         "y": [
          -302.7143516521414
         ],
         "z": [
          -5122.5932494940125
         ]
        },
        {
         "customdata": [
          [
           3
          ]
         ],
         "hovertemplate": "Sensor ID=%{customdata[0]}<br>Principal Component 1=%{x}<br>Principal Component 2=%{y}<br>Principal Component 3=%{z}<br>Cluster=%{marker.color}<extra></extra>",
         "legendgroup": "3",
         "marker": {
          "color": [
           2
          ],
          "coloraxis": "coloraxis",
          "symbol": "square"
         },
         "mode": "markers",
         "name": "3",
         "scene": "scene",
         "showlegend": true,
         "type": "scatter3d",
         "x": [
          58459.526469588265
         ],
         "y": [
          -12805.59171299135
         ],
         "z": [
          382.29072875198955
         ]
        },
        {
         "customdata": [
          [
           4
          ]
         ],
         "hovertemplate": "Sensor ID=%{customdata[0]}<br>Principal Component 1=%{x}<br>Principal Component 2=%{y}<br>Principal Component 3=%{z}<br>Cluster=%{marker.color}<extra></extra>",
         "legendgroup": "4",
         "marker": {
          "color": [
           1
          ],
          "coloraxis": "coloraxis",
          "symbol": "x"
         },
         "mode": "markers",
         "name": "4",
         "scene": "scene",
         "showlegend": true,
         "type": "scatter3d",
         "x": [
          53686.54601315221
         ],
         "y": [
          13814.130938226603
         ],
         "z": [
          -467.43674053044003
         ]
        },
        {
         "customdata": [
          [
           5
          ]
         ],
         "hovertemplate": "Sensor ID=%{customdata[0]}<br>Principal Component 1=%{x}<br>Principal Component 2=%{y}<br>Principal Component 3=%{z}<br>Cluster=%{marker.color}<extra></extra>",
         "legendgroup": "5",
         "marker": {
          "color": [
           0
          ],
          "coloraxis": "coloraxis",
          "symbol": "cross"
         },
         "mode": "markers",
         "name": "5",
         "scene": "scene",
         "showlegend": true,
         "type": "scatter3d",
         "x": [
          -5715.315362580289
         ],
         "y": [
          -198.08132152515898
         ],
         "z": [
          -3878.208496486827
         ]
        },
        {
         "customdata": [
          [
           6
          ]
         ],
         "hovertemplate": "Sensor ID=%{customdata[0]}<br>Principal Component 1=%{x}<br>Principal Component 2=%{y}<br>Principal Component 3=%{z}<br>Cluster=%{marker.color}<extra></extra>",
         "legendgroup": "6",
         "marker": {
          "color": [
           0
          ],
          "coloraxis": "coloraxis",
          "symbol": "circle"
         },
         "mode": "markers",
         "name": "6",
         "scene": "scene",
         "showlegend": true,
         "type": "scatter3d",
         "x": [
          -6595.378425353914
         ],
         "y": [
          432.0126053654817
         ],
         "z": [
          1798.2932495999091
         ]
        },
        {
         "customdata": [
          [
           7
          ]
         ],
         "hovertemplate": "Sensor ID=%{customdata[0]}<br>Principal Component 1=%{x}<br>Principal Component 2=%{y}<br>Principal Component 3=%{z}<br>Cluster=%{marker.color}<extra></extra>",
         "legendgroup": "7",
         "marker": {
          "color": [
           0
          ],
          "coloraxis": "coloraxis",
          "symbol": "diamond"
         },
         "mode": "markers",
         "name": "7",
         "scene": "scene",
         "showlegend": true,
         "type": "scatter3d",
         "x": [
          -6623.698521073798
         ],
         "y": [
          596.9250219854285
         ],
         "z": [
          -1696.783485236612
         ]
        },
        {
         "customdata": [
          [
           8
          ]
         ],
         "hovertemplate": "Sensor ID=%{customdata[0]}<br>Principal Component 1=%{x}<br>Principal Component 2=%{y}<br>Principal Component 3=%{z}<br>Cluster=%{marker.color}<extra></extra>",
         "legendgroup": "8",
         "marker": {
          "color": [
           0
          ],
          "coloraxis": "coloraxis",
          "symbol": "square"
         },
         "mode": "markers",
         "name": "8",
         "scene": "scene",
         "showlegend": true,
         "type": "scatter3d",
         "x": [
          -6493.923721523482
         ],
         "y": [
          -1483.6159776476177
         ],
         "z": [
          -4003.5987400180497
         ]
        },
        {
         "customdata": [
          [
           9
          ]
         ],
         "hovertemplate": "Sensor ID=%{customdata[0]}<br>Principal Component 1=%{x}<br>Principal Component 2=%{y}<br>Principal Component 3=%{z}<br>Cluster=%{marker.color}<extra></extra>",
         "legendgroup": "9",
         "marker": {
          "color": [
           0
          ],
          "coloraxis": "coloraxis",
          "symbol": "x"
         },
         "mode": "markers",
         "name": "9",
         "scene": "scene",
         "showlegend": true,
         "type": "scatter3d",
         "x": [
          -6409.263036702596
         ],
         "y": [
          -1397.0973771023662
         ],
         "z": [
          -1888.8163716257488
         ]
        },
        {
         "customdata": [
          [
           10
          ]
         ],
         "hovertemplate": "Sensor ID=%{customdata[0]}<br>Principal Component 1=%{x}<br>Principal Component 2=%{y}<br>Principal Component 3=%{z}<br>Cluster=%{marker.color}<extra></extra>",
         "legendgroup": "10",
         "marker": {
          "color": [
           0
          ],
          "coloraxis": "coloraxis",
          "symbol": "cross"
         },
         "mode": "markers",
         "name": "10",
         "scene": "scene",
         "showlegend": true,
         "type": "scatter3d",
         "x": [
          -6536.388008551842
         ],
         "y": [
          1460.3812088442903
         ],
         "z": [
          -2129.566696805097
         ]
        },
        {
         "customdata": [
          [
           11
          ]
         ],
         "hovertemplate": "Sensor ID=%{customdata[0]}<br>Principal Component 1=%{x}<br>Principal Component 2=%{y}<br>Principal Component 3=%{z}<br>Cluster=%{marker.color}<extra></extra>",
         "legendgroup": "11",
         "marker": {
          "color": [
           0
          ],
          "coloraxis": "coloraxis",
          "symbol": "circle"
         },
         "mode": "markers",
         "name": "11",
         "scene": "scene",
         "showlegend": true,
         "type": "scatter3d",
         "x": [
          -6797.5393571427885
         ],
         "y": [
          836.0038161292191
         ],
         "z": [
          4181.624749232727
         ]
        },
        {
         "customdata": [
          [
           12
          ]
         ],
         "hovertemplate": "Sensor ID=%{customdata[0]}<br>Principal Component 1=%{x}<br>Principal Component 2=%{y}<br>Principal Component 3=%{z}<br>Cluster=%{marker.color}<extra></extra>",
         "legendgroup": "12",
         "marker": {
          "color": [
           0
          ],
          "coloraxis": "coloraxis",
          "symbol": "diamond"
         },
         "mode": "markers",
         "name": "12",
         "scene": "scene",
         "showlegend": true,
         "type": "scatter3d",
         "x": [
          -5705.239188829859
         ],
         "y": [
          -153.89176802178116
         ],
         "z": [
          799.0801197775719
         ]
        },
        {
         "customdata": [
          [
           13
          ]
         ],
         "hovertemplate": "Sensor ID=%{customdata[0]}<br>Principal Component 1=%{x}<br>Principal Component 2=%{y}<br>Principal Component 3=%{z}<br>Cluster=%{marker.color}<extra></extra>",
         "legendgroup": "13",
         "marker": {
          "color": [
           0
          ],
          "coloraxis": "coloraxis",
          "symbol": "square"
         },
         "mode": "markers",
         "name": "13",
         "scene": "scene",
         "showlegend": true,
         "type": "scatter3d",
         "x": [
          -5732.634153054405
         ],
         "y": [
          160.71683502543402
         ],
         "z": [
          -1402.7785897299368
         ]
        },
        {
         "customdata": [
          [
           14
          ]
         ],
         "hovertemplate": "Sensor ID=%{customdata[0]}<br>Principal Component 1=%{x}<br>Principal Component 2=%{y}<br>Principal Component 3=%{z}<br>Cluster=%{marker.color}<extra></extra>",
         "legendgroup": "14",
         "marker": {
          "color": [
           0
          ],
          "coloraxis": "coloraxis",
          "symbol": "x"
         },
         "mode": "markers",
         "name": "14",
         "scene": "scene",
         "showlegend": true,
         "type": "scatter3d",
         "x": [
          -5724.458341627386
         ],
         "y": [
          977.6040669897646
         ],
         "z": [
          5742.937934894946
         ]
        },
        {
         "customdata": [
          [
           15
          ]
         ],
         "hovertemplate": "Sensor ID=%{customdata[0]}<br>Principal Component 1=%{x}<br>Principal Component 2=%{y}<br>Principal Component 3=%{z}<br>Cluster=%{marker.color}<extra></extra>",
         "legendgroup": "15",
         "marker": {
          "color": [
           0
          ],
          "coloraxis": "coloraxis",
          "symbol": "cross"
         },
         "mode": "markers",
         "name": "15",
         "scene": "scene",
         "showlegend": true,
         "type": "scatter3d",
         "x": [
          -5556.793251536432
         ],
         "y": [
          745.2377177949271
         ],
         "z": [
          3838.018479843687
         ]
        },
        {
         "customdata": [
          [
           16
          ]
         ],
         "hovertemplate": "Sensor ID=%{customdata[0]}<br>Principal Component 1=%{x}<br>Principal Component 2=%{y}<br>Principal Component 3=%{z}<br>Cluster=%{marker.color}<extra></extra>",
         "legendgroup": "16",
         "marker": {
          "color": [
           0
          ],
          "coloraxis": "coloraxis",
          "symbol": "circle"
         },
         "mode": "markers",
         "name": "16",
         "scene": "scene",
         "showlegend": true,
         "type": "scatter3d",
         "x": [
          -6445.995774629495
         ],
         "y": [
          1290.6169721495678
         ],
         "z": [
          -776.1951254095937
         ]
        },
        {
         "customdata": [
          [
           17
          ]
         ],
         "hovertemplate": "Sensor ID=%{customdata[0]}<br>Principal Component 1=%{x}<br>Principal Component 2=%{y}<br>Principal Component 3=%{z}<br>Cluster=%{marker.color}<extra></extra>",
         "legendgroup": "17",
         "marker": {
          "color": [
           0
          ],
          "coloraxis": "coloraxis",
          "symbol": "diamond"
         },
         "mode": "markers",
         "name": "17",
         "scene": "scene",
         "showlegend": true,
         "type": "scatter3d",
         "x": [
          -6401.725726910183
         ],
         "y": [
          -446.28484218919414
         ],
         "z": [
          -817.1866900363767
         ]
        },
        {
         "customdata": [
          [
           18
          ]
         ],
         "hovertemplate": "Sensor ID=%{customdata[0]}<br>Principal Component 1=%{x}<br>Principal Component 2=%{y}<br>Principal Component 3=%{z}<br>Cluster=%{marker.color}<extra></extra>",
         "legendgroup": "18",
         "marker": {
          "color": [
           0
          ],
          "coloraxis": "coloraxis",
          "symbol": "square"
         },
         "mode": "markers",
         "name": "18",
         "scene": "scene",
         "showlegend": true,
         "type": "scatter3d",
         "x": [
          -5782.045445385852
         ],
         "y": [
          -1030.8506347527943
         ],
         "z": [
          182.12680132145465
         ]
        },
        {
         "customdata": [
          [
           19
          ]
         ],
         "hovertemplate": "Sensor ID=%{customdata[0]}<br>Principal Component 1=%{x}<br>Principal Component 2=%{y}<br>Principal Component 3=%{z}<br>Cluster=%{marker.color}<extra></extra>",
         "legendgroup": "19",
         "marker": {
          "color": [
           0
          ],
          "coloraxis": "coloraxis",
          "symbol": "x"
         },
         "mode": "markers",
         "name": "19",
         "scene": "scene",
         "showlegend": true,
         "type": "scatter3d",
         "x": [
          -6757.532984591385
         ],
         "y": [
          -1164.2369971019473
         ],
         "z": [
          1152.1841765547115
         ]
        },
        {
         "customdata": [
          [
           20
          ]
         ],
         "hovertemplate": "Sensor ID=%{customdata[0]}<br>Principal Component 1=%{x}<br>Principal Component 2=%{y}<br>Principal Component 3=%{z}<br>Cluster=%{marker.color}<extra></extra>",
         "legendgroup": "20",
         "marker": {
          "color": [
           0
          ],
          "coloraxis": "coloraxis",
          "symbol": "cross"
         },
         "mode": "markers",
         "name": "20",
         "scene": "scene",
         "showlegend": true,
         "type": "scatter3d",
         "x": [
          -5966.193433577422
         ],
         "y": [
          355.4050190003185
         ],
         "z": [
          622.8108290744391
         ]
        }
       ],
       "layout": {
        "coloraxis": {
         "colorbar": {
          "title": {
           "text": "Cluster"
          }
         },
         "colorscale": [
          [
           0,
           "#0d0887"
          ],
          [
           0.1111111111111111,
           "#46039f"
          ],
          [
           0.2222222222222222,
           "#7201a8"
          ],
          [
           0.3333333333333333,
           "#9c179e"
          ],
          [
           0.4444444444444444,
           "#bd3786"
          ],
          [
           0.5555555555555556,
           "#d8576b"
          ],
          [
           0.6666666666666666,
           "#ed7953"
          ],
          [
           0.7777777777777778,
           "#fb9f3a"
          ],
          [
           0.8888888888888888,
           "#fdca26"
          ],
          [
           1,
           "#f0f921"
          ]
         ]
        },
        "legend": {
         "title": {
          "text": "Sensor ID"
         },
         "tracegroupgap": 0
        },
        "scene": {
         "domain": {
          "x": [
           0,
           1
          ],
          "y": [
           0,
           1
          ]
         },
         "xaxis": {
          "title": {
           "text": "Principal Component 1"
          }
         },
         "yaxis": {
          "title": {
           "text": "Principal Component 2"
          }
         },
         "zaxis": {
          "title": {
           "text": "Principal Component 3"
          }
         }
        },
        "template": {
         "data": {
          "bar": [
           {
            "error_x": {
             "color": "#2a3f5f"
            },
            "error_y": {
             "color": "#2a3f5f"
            },
            "marker": {
             "line": {
              "color": "#E5ECF6",
              "width": 0.5
             },
             "pattern": {
              "fillmode": "overlay",
              "size": 10,
              "solidity": 0.2
             }
            },
            "type": "bar"
           }
          ],
          "barpolar": [
           {
            "marker": {
             "line": {
              "color": "#E5ECF6",
              "width": 0.5
             },
             "pattern": {
              "fillmode": "overlay",
              "size": 10,
              "solidity": 0.2
             }
            },
            "type": "barpolar"
           }
          ],
          "carpet": [
           {
            "aaxis": {
             "endlinecolor": "#2a3f5f",
             "gridcolor": "white",
             "linecolor": "white",
             "minorgridcolor": "white",
             "startlinecolor": "#2a3f5f"
            },
            "baxis": {
             "endlinecolor": "#2a3f5f",
             "gridcolor": "white",
             "linecolor": "white",
             "minorgridcolor": "white",
             "startlinecolor": "#2a3f5f"
            },
            "type": "carpet"
           }
          ],
          "choropleth": [
           {
            "colorbar": {
             "outlinewidth": 0,
             "ticks": ""
            },
            "type": "choropleth"
           }
          ],
          "contour": [
           {
            "colorbar": {
             "outlinewidth": 0,
             "ticks": ""
            },
            "colorscale": [
             [
              0,
              "#0d0887"
             ],
             [
              0.1111111111111111,
              "#46039f"
             ],
             [
              0.2222222222222222,
              "#7201a8"
             ],
             [
              0.3333333333333333,
              "#9c179e"
             ],
             [
              0.4444444444444444,
              "#bd3786"
             ],
             [
              0.5555555555555556,
              "#d8576b"
             ],
             [
              0.6666666666666666,
              "#ed7953"
             ],
             [
              0.7777777777777778,
              "#fb9f3a"
             ],
             [
              0.8888888888888888,
              "#fdca26"
             ],
             [
              1,
              "#f0f921"
             ]
            ],
            "type": "contour"
           }
          ],
          "contourcarpet": [
           {
            "colorbar": {
             "outlinewidth": 0,
             "ticks": ""
            },
            "type": "contourcarpet"
           }
          ],
          "heatmap": [
           {
            "colorbar": {
             "outlinewidth": 0,
             "ticks": ""
            },
            "colorscale": [
             [
              0,
              "#0d0887"
             ],
             [
              0.1111111111111111,
              "#46039f"
             ],
             [
              0.2222222222222222,
              "#7201a8"
             ],
             [
              0.3333333333333333,
              "#9c179e"
             ],
             [
              0.4444444444444444,
              "#bd3786"
             ],
             [
              0.5555555555555556,
              "#d8576b"
             ],
             [
              0.6666666666666666,
              "#ed7953"
             ],
             [
              0.7777777777777778,
              "#fb9f3a"
             ],
             [
              0.8888888888888888,
              "#fdca26"
             ],
             [
              1,
              "#f0f921"
             ]
            ],
            "type": "heatmap"
           }
          ],
          "heatmapgl": [
           {
            "colorbar": {
             "outlinewidth": 0,
             "ticks": ""
            },
            "colorscale": [
             [
              0,
              "#0d0887"
             ],
             [
              0.1111111111111111,
              "#46039f"
             ],
             [
              0.2222222222222222,
              "#7201a8"
             ],
             [
              0.3333333333333333,
              "#9c179e"
             ],
             [
              0.4444444444444444,
              "#bd3786"
             ],
             [
              0.5555555555555556,
              "#d8576b"
             ],
             [
              0.6666666666666666,
              "#ed7953"
             ],
             [
              0.7777777777777778,
              "#fb9f3a"
             ],
             [
              0.8888888888888888,
              "#fdca26"
             ],
             [
              1,
              "#f0f921"
             ]
            ],
            "type": "heatmapgl"
           }
          ],
          "histogram": [
           {
            "marker": {
             "pattern": {
              "fillmode": "overlay",
              "size": 10,
              "solidity": 0.2
             }
            },
            "type": "histogram"
           }
          ],
          "histogram2d": [
           {
            "colorbar": {
             "outlinewidth": 0,
             "ticks": ""
            },
            "colorscale": [
             [
              0,
              "#0d0887"
             ],
             [
              0.1111111111111111,
              "#46039f"
             ],
             [
              0.2222222222222222,
              "#7201a8"
             ],
             [
              0.3333333333333333,
              "#9c179e"
             ],
             [
              0.4444444444444444,
              "#bd3786"
             ],
             [
              0.5555555555555556,
              "#d8576b"
             ],
             [
              0.6666666666666666,
              "#ed7953"
             ],
             [
              0.7777777777777778,
              "#fb9f3a"
             ],
             [
              0.8888888888888888,
              "#fdca26"
             ],
             [
              1,
              "#f0f921"
             ]
            ],
            "type": "histogram2d"
           }
          ],
          "histogram2dcontour": [
           {
            "colorbar": {
             "outlinewidth": 0,
             "ticks": ""
            },
            "colorscale": [
             [
              0,
              "#0d0887"
             ],
             [
              0.1111111111111111,
              "#46039f"
             ],
             [
              0.2222222222222222,
              "#7201a8"
             ],
             [
              0.3333333333333333,
              "#9c179e"
             ],
             [
              0.4444444444444444,
              "#bd3786"
             ],
             [
              0.5555555555555556,
              "#d8576b"
             ],
             [
              0.6666666666666666,
              "#ed7953"
             ],
             [
              0.7777777777777778,
              "#fb9f3a"
             ],
             [
              0.8888888888888888,
              "#fdca26"
             ],
             [
              1,
              "#f0f921"
             ]
            ],
            "type": "histogram2dcontour"
           }
          ],
          "mesh3d": [
           {
            "colorbar": {
             "outlinewidth": 0,
             "ticks": ""
            },
            "type": "mesh3d"
           }
          ],
          "parcoords": [
           {
            "line": {
             "colorbar": {
              "outlinewidth": 0,
              "ticks": ""
             }
            },
            "type": "parcoords"
           }
          ],
          "pie": [
           {
            "automargin": true,
            "type": "pie"
           }
          ],
          "scatter": [
           {
            "fillpattern": {
             "fillmode": "overlay",
             "size": 10,
             "solidity": 0.2
            },
            "type": "scatter"
           }
          ],
          "scatter3d": [
           {
            "line": {
             "colorbar": {
              "outlinewidth": 0,
              "ticks": ""
             }
            },
            "marker": {
             "colorbar": {
              "outlinewidth": 0,
              "ticks": ""
             }
            },
            "type": "scatter3d"
           }
          ],
          "scattercarpet": [
           {
            "marker": {
             "colorbar": {
              "outlinewidth": 0,
              "ticks": ""
             }
            },
            "type": "scattercarpet"
           }
          ],
          "scattergeo": [
           {
            "marker": {
             "colorbar": {
              "outlinewidth": 0,
              "ticks": ""
             }
            },
            "type": "scattergeo"
           }
          ],
          "scattergl": [
           {
            "marker": {
             "colorbar": {
              "outlinewidth": 0,
              "ticks": ""
             }
            },
            "type": "scattergl"
           }
          ],
          "scattermapbox": [
           {
            "marker": {
             "colorbar": {
              "outlinewidth": 0,
              "ticks": ""
             }
            },
            "type": "scattermapbox"
           }
          ],
          "scatterpolar": [
           {
            "marker": {
             "colorbar": {
              "outlinewidth": 0,
              "ticks": ""
             }
            },
            "type": "scatterpolar"
           }
          ],
          "scatterpolargl": [
           {
            "marker": {
             "colorbar": {
              "outlinewidth": 0,
              "ticks": ""
             }
            },
            "type": "scatterpolargl"
           }
          ],
          "scatterternary": [
           {
            "marker": {
             "colorbar": {
              "outlinewidth": 0,
              "ticks": ""
             }
            },
            "type": "scatterternary"
           }
          ],
          "surface": [
           {
            "colorbar": {
             "outlinewidth": 0,
             "ticks": ""
            },
            "colorscale": [
             [
              0,
              "#0d0887"
             ],
             [
              0.1111111111111111,
              "#46039f"
             ],
             [
              0.2222222222222222,
              "#7201a8"
             ],
             [
              0.3333333333333333,
              "#9c179e"
             ],
             [
              0.4444444444444444,
              "#bd3786"
             ],
             [
              0.5555555555555556,
              "#d8576b"
             ],
             [
              0.6666666666666666,
              "#ed7953"
             ],
             [
              0.7777777777777778,
              "#fb9f3a"
             ],
             [
              0.8888888888888888,
              "#fdca26"
             ],
             [
              1,
              "#f0f921"
             ]
            ],
            "type": "surface"
           }
          ],
          "table": [
           {
            "cells": {
             "fill": {
              "color": "#EBF0F8"
             },
             "line": {
              "color": "white"
             }
            },
            "header": {
             "fill": {
              "color": "#C8D4E3"
             },
             "line": {
              "color": "white"
             }
            },
            "type": "table"
           }
          ]
         },
         "layout": {
          "annotationdefaults": {
           "arrowcolor": "#2a3f5f",
           "arrowhead": 0,
           "arrowwidth": 1
          },
          "autotypenumbers": "strict",
          "coloraxis": {
           "colorbar": {
            "outlinewidth": 0,
            "ticks": ""
           }
          },
          "colorscale": {
           "diverging": [
            [
             0,
             "#8e0152"
            ],
            [
             0.1,
             "#c51b7d"
            ],
            [
             0.2,
             "#de77ae"
            ],
            [
             0.3,
             "#f1b6da"
            ],
            [
             0.4,
             "#fde0ef"
            ],
            [
             0.5,
             "#f7f7f7"
            ],
            [
             0.6,
             "#e6f5d0"
            ],
            [
             0.7,
             "#b8e186"
            ],
            [
             0.8,
             "#7fbc41"
            ],
            [
             0.9,
             "#4d9221"
            ],
            [
             1,
             "#276419"
            ]
           ],
           "sequential": [
            [
             0,
             "#0d0887"
            ],
            [
             0.1111111111111111,
             "#46039f"
            ],
            [
             0.2222222222222222,
             "#7201a8"
            ],
            [
             0.3333333333333333,
             "#9c179e"
            ],
            [
             0.4444444444444444,
             "#bd3786"
            ],
            [
             0.5555555555555556,
             "#d8576b"
            ],
            [
             0.6666666666666666,
             "#ed7953"
            ],
            [
             0.7777777777777778,
             "#fb9f3a"
            ],
            [
             0.8888888888888888,
             "#fdca26"
            ],
            [
             1,
             "#f0f921"
            ]
           ],
           "sequentialminus": [
            [
             0,
             "#0d0887"
            ],
            [
             0.1111111111111111,
             "#46039f"
            ],
            [
             0.2222222222222222,
             "#7201a8"
            ],
            [
             0.3333333333333333,
             "#9c179e"
            ],
            [
             0.4444444444444444,
             "#bd3786"
            ],
            [
             0.5555555555555556,
             "#d8576b"
            ],
            [
             0.6666666666666666,
             "#ed7953"
            ],
            [
             0.7777777777777778,
             "#fb9f3a"
            ],
            [
             0.8888888888888888,
             "#fdca26"
            ],
            [
             1,
             "#f0f921"
            ]
           ]
          },
          "colorway": [
           "#636efa",
           "#EF553B",
           "#00cc96",
           "#ab63fa",
           "#FFA15A",
           "#19d3f3",
           "#FF6692",
           "#B6E880",
           "#FF97FF",
           "#FECB52"
          ],
          "font": {
           "color": "#2a3f5f"
          },
          "geo": {
           "bgcolor": "white",
           "lakecolor": "white",
           "landcolor": "#E5ECF6",
           "showlakes": true,
           "showland": true,
           "subunitcolor": "white"
          },
          "hoverlabel": {
           "align": "left"
          },
          "hovermode": "closest",
          "mapbox": {
           "style": "light"
          },
          "paper_bgcolor": "white",
          "plot_bgcolor": "#E5ECF6",
          "polar": {
           "angularaxis": {
            "gridcolor": "white",
            "linecolor": "white",
            "ticks": ""
           },
           "bgcolor": "#E5ECF6",
           "radialaxis": {
            "gridcolor": "white",
            "linecolor": "white",
            "ticks": ""
           }
          },
          "scene": {
           "xaxis": {
            "backgroundcolor": "#E5ECF6",
            "gridcolor": "white",
            "gridwidth": 2,
            "linecolor": "white",
            "showbackground": true,
            "ticks": "",
            "zerolinecolor": "white"
           },
           "yaxis": {
            "backgroundcolor": "#E5ECF6",
            "gridcolor": "white",
            "gridwidth": 2,
            "linecolor": "white",
            "showbackground": true,
            "ticks": "",
            "zerolinecolor": "white"
           },
           "zaxis": {
            "backgroundcolor": "#E5ECF6",
            "gridcolor": "white",
            "gridwidth": 2,
            "linecolor": "white",
            "showbackground": true,
            "ticks": "",
            "zerolinecolor": "white"
           }
          },
          "shapedefaults": {
           "line": {
            "color": "#2a3f5f"
           }
          },
          "ternary": {
           "aaxis": {
            "gridcolor": "white",
            "linecolor": "white",
            "ticks": ""
           },
           "baxis": {
            "gridcolor": "white",
            "linecolor": "white",
            "ticks": ""
           },
           "bgcolor": "#E5ECF6",
           "caxis": {
            "gridcolor": "white",
            "linecolor": "white",
            "ticks": ""
           }
          },
          "title": {
           "x": 0.05
          },
          "xaxis": {
           "automargin": true,
           "gridcolor": "white",
           "linecolor": "white",
           "ticks": "",
           "title": {
            "standoff": 15
           },
           "zerolinecolor": "white",
           "zerolinewidth": 2
          },
          "yaxis": {
           "automargin": true,
           "gridcolor": "white",
           "linecolor": "white",
           "ticks": "",
           "title": {
            "standoff": 15
           },
           "zerolinecolor": "white",
           "zerolinewidth": 2
          }
         }
        },
        "title": {
         "text": "K-Means Clustering of Sensors Using PCA"
        }
       }
      }
     },
     "metadata": {},
     "output_type": "display_data"
    }
   ],
   "source": [
    "from sklearn.cluster import KMeans\n",
    "\n",
    "# Apply PCA\n",
    "pca = PCA(n_components=3)\n",
    "principal_components = pca.fit_transform(reduced_data_corr.drop(columns=['Sensor ID']))\n",
    "principal_df = pd.DataFrame(data=principal_components, columns=['PC1', 'PC2', 'PC3'])\n",
    "principal_df['Sensor ID'] = reduced_data_corr['Sensor ID']\n",
    "\n",
    "# Apply K-Means clustering\n",
    "kmeans = KMeans(n_clusters=3, random_state=42)\n",
    "principal_df['Cluster'] = kmeans.fit_predict(principal_df[['PC1', 'PC2', 'PC3']])\n",
    "\n",
    "# Create an interactive 3D scatter plot\n",
    "fig = px.scatter_3d(\n",
    "    principal_df,\n",
    "    x='PC1',\n",
    "    y='PC2',\n",
    "    z='PC3',\n",
    "    color='Cluster',\n",
    "    symbol='Sensor ID',\n",
    "    title='K-Means Clustering of Sensors Using PCA',\n",
    "    labels={'PC1': 'Principal Component 1', 'PC2': 'Principal Component 2', 'PC3': 'Principal Component 3'},\n",
    "    hover_data=['Sensor ID']\n",
    ")\n",
    "\n",
    "fig.show()"
   ]
  },
  {
   "cell_type": "code",
   "execution_count": 153,
   "metadata": {},
   "outputs": [
    {
     "data": {
      "application/vnd.plotly.v1+json": {
       "config": {
        "plotlyServerURL": "https://plot.ly"
       },
       "data": [
        {
         "customdata": [
          [
           1
          ]
         ],
         "hovertemplate": "Sensor ID=%{customdata[0]}<br>Principal Component 1=%{x}<br>Principal Component 2=%{y}<br>Principal Component 3=%{z}<br>Cluster=%{marker.color}<extra></extra>",
         "legendgroup": "1",
         "marker": {
          "color": [
           -1
          ],
          "coloraxis": "coloraxis",
          "symbol": "circle"
         },
         "mode": "markers",
         "name": "1",
         "scene": "scene",
         "showlegend": true,
         "type": "scatter3d",
         "x": [
          -6442.758146414652
         ],
         "y": [
          -1686.6692185266888
         ],
         "z": [
          3483.797116321254
         ]
        },
        {
         "customdata": [
          [
           2
          ]
         ],
         "hovertemplate": "Sensor ID=%{customdata[0]}<br>Principal Component 1=%{x}<br>Principal Component 2=%{y}<br>Principal Component 3=%{z}<br>Cluster=%{marker.color}<extra></extra>",
         "legendgroup": "2",
         "marker": {
          "color": [
           -1
          ],
          "coloraxis": "coloraxis",
          "symbol": "diamond"
         },
         "mode": "markers",
         "name": "2",
         "scene": "scene",
         "showlegend": true,
         "type": "scatter3d",
         "x": [
          -6459.18960325467
         ],
         "y": [
          -302.7143516521414
         ],
         "z": [
          -5122.5932494940125
         ]
        },
        {
         "customdata": [
          [
           3
          ]
         ],
         "hovertemplate": "Sensor ID=%{customdata[0]}<br>Principal Component 1=%{x}<br>Principal Component 2=%{y}<br>Principal Component 3=%{z}<br>Cluster=%{marker.color}<extra></extra>",
         "legendgroup": "3",
         "marker": {
          "color": [
           -1
          ],
          "coloraxis": "coloraxis",
          "symbol": "square"
         },
         "mode": "markers",
         "name": "3",
         "scene": "scene",
         "showlegend": true,
         "type": "scatter3d",
         "x": [
          58459.526469588265
         ],
         "y": [
          -12805.59171299135
         ],
         "z": [
          382.29072875198955
         ]
        },
        {
         "customdata": [
          [
           4
          ]
         ],
         "hovertemplate": "Sensor ID=%{customdata[0]}<br>Principal Component 1=%{x}<br>Principal Component 2=%{y}<br>Principal Component 3=%{z}<br>Cluster=%{marker.color}<extra></extra>",
         "legendgroup": "4",
         "marker": {
          "color": [
           -1
          ],
          "coloraxis": "coloraxis",
          "symbol": "x"
         },
         "mode": "markers",
         "name": "4",
         "scene": "scene",
         "showlegend": true,
         "type": "scatter3d",
         "x": [
          53686.54601315221
         ],
         "y": [
          13814.130938226603
         ],
         "z": [
          -467.43674053044003
         ]
        },
        {
         "customdata": [
          [
           5
          ]
         ],
         "hovertemplate": "Sensor ID=%{customdata[0]}<br>Principal Component 1=%{x}<br>Principal Component 2=%{y}<br>Principal Component 3=%{z}<br>Cluster=%{marker.color}<extra></extra>",
         "legendgroup": "5",
         "marker": {
          "color": [
           -1
          ],
          "coloraxis": "coloraxis",
          "symbol": "cross"
         },
         "mode": "markers",
         "name": "5",
         "scene": "scene",
         "showlegend": true,
         "type": "scatter3d",
         "x": [
          -5715.315362580289
         ],
         "y": [
          -198.08132152515898
         ],
         "z": [
          -3878.208496486827
         ]
        },
        {
         "customdata": [
          [
           6
          ]
         ],
         "hovertemplate": "Sensor ID=%{customdata[0]}<br>Principal Component 1=%{x}<br>Principal Component 2=%{y}<br>Principal Component 3=%{z}<br>Cluster=%{marker.color}<extra></extra>",
         "legendgroup": "6",
         "marker": {
          "color": [
           -1
          ],
          "coloraxis": "coloraxis",
          "symbol": "circle"
         },
         "mode": "markers",
         "name": "6",
         "scene": "scene",
         "showlegend": true,
         "type": "scatter3d",
         "x": [
          -6595.378425353914
         ],
         "y": [
          432.0126053654817
         ],
         "z": [
          1798.2932495999091
         ]
        },
        {
         "customdata": [
          [
           7
          ]
         ],
         "hovertemplate": "Sensor ID=%{customdata[0]}<br>Principal Component 1=%{x}<br>Principal Component 2=%{y}<br>Principal Component 3=%{z}<br>Cluster=%{marker.color}<extra></extra>",
         "legendgroup": "7",
         "marker": {
          "color": [
           -1
          ],
          "coloraxis": "coloraxis",
          "symbol": "diamond"
         },
         "mode": "markers",
         "name": "7",
         "scene": "scene",
         "showlegend": true,
         "type": "scatter3d",
         "x": [
          -6623.698521073798
         ],
         "y": [
          596.9250219854285
         ],
         "z": [
          -1696.783485236612
         ]
        },
        {
         "customdata": [
          [
           8
          ]
         ],
         "hovertemplate": "Sensor ID=%{customdata[0]}<br>Principal Component 1=%{x}<br>Principal Component 2=%{y}<br>Principal Component 3=%{z}<br>Cluster=%{marker.color}<extra></extra>",
         "legendgroup": "8",
         "marker": {
          "color": [
           -1
          ],
          "coloraxis": "coloraxis",
          "symbol": "square"
         },
         "mode": "markers",
         "name": "8",
         "scene": "scene",
         "showlegend": true,
         "type": "scatter3d",
         "x": [
          -6493.923721523482
         ],
         "y": [
          -1483.6159776476177
         ],
         "z": [
          -4003.5987400180497
         ]
        },
        {
         "customdata": [
          [
           9
          ]
         ],
         "hovertemplate": "Sensor ID=%{customdata[0]}<br>Principal Component 1=%{x}<br>Principal Component 2=%{y}<br>Principal Component 3=%{z}<br>Cluster=%{marker.color}<extra></extra>",
         "legendgroup": "9",
         "marker": {
          "color": [
           -1
          ],
          "coloraxis": "coloraxis",
          "symbol": "x"
         },
         "mode": "markers",
         "name": "9",
         "scene": "scene",
         "showlegend": true,
         "type": "scatter3d",
         "x": [
          -6409.263036702596
         ],
         "y": [
          -1397.0973771023662
         ],
         "z": [
          -1888.8163716257488
         ]
        },
        {
         "customdata": [
          [
           10
          ]
         ],
         "hovertemplate": "Sensor ID=%{customdata[0]}<br>Principal Component 1=%{x}<br>Principal Component 2=%{y}<br>Principal Component 3=%{z}<br>Cluster=%{marker.color}<extra></extra>",
         "legendgroup": "10",
         "marker": {
          "color": [
           -1
          ],
          "coloraxis": "coloraxis",
          "symbol": "cross"
         },
         "mode": "markers",
         "name": "10",
         "scene": "scene",
         "showlegend": true,
         "type": "scatter3d",
         "x": [
          -6536.388008551842
         ],
         "y": [
          1460.3812088442903
         ],
         "z": [
          -2129.566696805097
         ]
        },
        {
         "customdata": [
          [
           11
          ]
         ],
         "hovertemplate": "Sensor ID=%{customdata[0]}<br>Principal Component 1=%{x}<br>Principal Component 2=%{y}<br>Principal Component 3=%{z}<br>Cluster=%{marker.color}<extra></extra>",
         "legendgroup": "11",
         "marker": {
          "color": [
           -1
          ],
          "coloraxis": "coloraxis",
          "symbol": "circle"
         },
         "mode": "markers",
         "name": "11",
         "scene": "scene",
         "showlegend": true,
         "type": "scatter3d",
         "x": [
          -6797.5393571427885
         ],
         "y": [
          836.0038161292191
         ],
         "z": [
          4181.624749232727
         ]
        },
        {
         "customdata": [
          [
           12
          ]
         ],
         "hovertemplate": "Sensor ID=%{customdata[0]}<br>Principal Component 1=%{x}<br>Principal Component 2=%{y}<br>Principal Component 3=%{z}<br>Cluster=%{marker.color}<extra></extra>",
         "legendgroup": "12",
         "marker": {
          "color": [
           -1
          ],
          "coloraxis": "coloraxis",
          "symbol": "diamond"
         },
         "mode": "markers",
         "name": "12",
         "scene": "scene",
         "showlegend": true,
         "type": "scatter3d",
         "x": [
          -5705.239188829859
         ],
         "y": [
          -153.89176802178116
         ],
         "z": [
          799.0801197775719
         ]
        },
        {
         "customdata": [
          [
           13
          ]
         ],
         "hovertemplate": "Sensor ID=%{customdata[0]}<br>Principal Component 1=%{x}<br>Principal Component 2=%{y}<br>Principal Component 3=%{z}<br>Cluster=%{marker.color}<extra></extra>",
         "legendgroup": "13",
         "marker": {
          "color": [
           -1
          ],
          "coloraxis": "coloraxis",
          "symbol": "square"
         },
         "mode": "markers",
         "name": "13",
         "scene": "scene",
         "showlegend": true,
         "type": "scatter3d",
         "x": [
          -5732.634153054405
         ],
         "y": [
          160.71683502543402
         ],
         "z": [
          -1402.7785897299368
         ]
        },
        {
         "customdata": [
          [
           14
          ]
         ],
         "hovertemplate": "Sensor ID=%{customdata[0]}<br>Principal Component 1=%{x}<br>Principal Component 2=%{y}<br>Principal Component 3=%{z}<br>Cluster=%{marker.color}<extra></extra>",
         "legendgroup": "14",
         "marker": {
          "color": [
           -1
          ],
          "coloraxis": "coloraxis",
          "symbol": "x"
         },
         "mode": "markers",
         "name": "14",
         "scene": "scene",
         "showlegend": true,
         "type": "scatter3d",
         "x": [
          -5724.458341627386
         ],
         "y": [
          977.6040669897646
         ],
         "z": [
          5742.937934894946
         ]
        },
        {
         "customdata": [
          [
           15
          ]
         ],
         "hovertemplate": "Sensor ID=%{customdata[0]}<br>Principal Component 1=%{x}<br>Principal Component 2=%{y}<br>Principal Component 3=%{z}<br>Cluster=%{marker.color}<extra></extra>",
         "legendgroup": "15",
         "marker": {
          "color": [
           -1
          ],
          "coloraxis": "coloraxis",
          "symbol": "cross"
         },
         "mode": "markers",
         "name": "15",
         "scene": "scene",
         "showlegend": true,
         "type": "scatter3d",
         "x": [
          -5556.793251536432
         ],
         "y": [
          745.2377177949271
         ],
         "z": [
          3838.018479843687
         ]
        },
        {
         "customdata": [
          [
           16
          ]
         ],
         "hovertemplate": "Sensor ID=%{customdata[0]}<br>Principal Component 1=%{x}<br>Principal Component 2=%{y}<br>Principal Component 3=%{z}<br>Cluster=%{marker.color}<extra></extra>",
         "legendgroup": "16",
         "marker": {
          "color": [
           -1
          ],
          "coloraxis": "coloraxis",
          "symbol": "circle"
         },
         "mode": "markers",
         "name": "16",
         "scene": "scene",
         "showlegend": true,
         "type": "scatter3d",
         "x": [
          -6445.995774629495
         ],
         "y": [
          1290.6169721495678
         ],
         "z": [
          -776.1951254095937
         ]
        },
        {
         "customdata": [
          [
           17
          ]
         ],
         "hovertemplate": "Sensor ID=%{customdata[0]}<br>Principal Component 1=%{x}<br>Principal Component 2=%{y}<br>Principal Component 3=%{z}<br>Cluster=%{marker.color}<extra></extra>",
         "legendgroup": "17",
         "marker": {
          "color": [
           -1
          ],
          "coloraxis": "coloraxis",
          "symbol": "diamond"
         },
         "mode": "markers",
         "name": "17",
         "scene": "scene",
         "showlegend": true,
         "type": "scatter3d",
         "x": [
          -6401.725726910183
         ],
         "y": [
          -446.28484218919414
         ],
         "z": [
          -817.1866900363767
         ]
        },
        {
         "customdata": [
          [
           18
          ]
         ],
         "hovertemplate": "Sensor ID=%{customdata[0]}<br>Principal Component 1=%{x}<br>Principal Component 2=%{y}<br>Principal Component 3=%{z}<br>Cluster=%{marker.color}<extra></extra>",
         "legendgroup": "18",
         "marker": {
          "color": [
           -1
          ],
          "coloraxis": "coloraxis",
          "symbol": "square"
         },
         "mode": "markers",
         "name": "18",
         "scene": "scene",
         "showlegend": true,
         "type": "scatter3d",
         "x": [
          -5782.045445385852
         ],
         "y": [
          -1030.8506347527943
         ],
         "z": [
          182.12680132145465
         ]
        },
        {
         "customdata": [
          [
           19
          ]
         ],
         "hovertemplate": "Sensor ID=%{customdata[0]}<br>Principal Component 1=%{x}<br>Principal Component 2=%{y}<br>Principal Component 3=%{z}<br>Cluster=%{marker.color}<extra></extra>",
         "legendgroup": "19",
         "marker": {
          "color": [
           -1
          ],
          "coloraxis": "coloraxis",
          "symbol": "x"
         },
         "mode": "markers",
         "name": "19",
         "scene": "scene",
         "showlegend": true,
         "type": "scatter3d",
         "x": [
          -6757.532984591385
         ],
         "y": [
          -1164.2369971019473
         ],
         "z": [
          1152.1841765547115
         ]
        },
        {
         "customdata": [
          [
           20
          ]
         ],
         "hovertemplate": "Sensor ID=%{customdata[0]}<br>Principal Component 1=%{x}<br>Principal Component 2=%{y}<br>Principal Component 3=%{z}<br>Cluster=%{marker.color}<extra></extra>",
         "legendgroup": "20",
         "marker": {
          "color": [
           -1
          ],
          "coloraxis": "coloraxis",
          "symbol": "cross"
         },
         "mode": "markers",
         "name": "20",
         "scene": "scene",
         "showlegend": true,
         "type": "scatter3d",
         "x": [
          -5966.193433577422
         ],
         "y": [
          355.4050190003185
         ],
         "z": [
          622.8108290744391
         ]
        }
       ],
       "layout": {
        "coloraxis": {
         "colorbar": {
          "title": {
           "text": "Cluster"
          }
         },
         "colorscale": [
          [
           0,
           "#0d0887"
          ],
          [
           0.1111111111111111,
           "#46039f"
          ],
          [
           0.2222222222222222,
           "#7201a8"
          ],
          [
           0.3333333333333333,
           "#9c179e"
          ],
          [
           0.4444444444444444,
           "#bd3786"
          ],
          [
           0.5555555555555556,
           "#d8576b"
          ],
          [
           0.6666666666666666,
           "#ed7953"
          ],
          [
           0.7777777777777778,
           "#fb9f3a"
          ],
          [
           0.8888888888888888,
           "#fdca26"
          ],
          [
           1,
           "#f0f921"
          ]
         ]
        },
        "legend": {
         "title": {
          "text": "Sensor ID"
         },
         "tracegroupgap": 0
        },
        "scene": {
         "domain": {
          "x": [
           0,
           1
          ],
          "y": [
           0,
           1
          ]
         },
         "xaxis": {
          "title": {
           "text": "Principal Component 1"
          }
         },
         "yaxis": {
          "title": {
           "text": "Principal Component 2"
          }
         },
         "zaxis": {
          "title": {
           "text": "Principal Component 3"
          }
         }
        },
        "template": {
         "data": {
          "bar": [
           {
            "error_x": {
             "color": "#2a3f5f"
            },
            "error_y": {
             "color": "#2a3f5f"
            },
            "marker": {
             "line": {
              "color": "#E5ECF6",
              "width": 0.5
             },
             "pattern": {
              "fillmode": "overlay",
              "size": 10,
              "solidity": 0.2
             }
            },
            "type": "bar"
           }
          ],
          "barpolar": [
           {
            "marker": {
             "line": {
              "color": "#E5ECF6",
              "width": 0.5
             },
             "pattern": {
              "fillmode": "overlay",
              "size": 10,
              "solidity": 0.2
             }
            },
            "type": "barpolar"
           }
          ],
          "carpet": [
           {
            "aaxis": {
             "endlinecolor": "#2a3f5f",
             "gridcolor": "white",
             "linecolor": "white",
             "minorgridcolor": "white",
             "startlinecolor": "#2a3f5f"
            },
            "baxis": {
             "endlinecolor": "#2a3f5f",
             "gridcolor": "white",
             "linecolor": "white",
             "minorgridcolor": "white",
             "startlinecolor": "#2a3f5f"
            },
            "type": "carpet"
           }
          ],
          "choropleth": [
           {
            "colorbar": {
             "outlinewidth": 0,
             "ticks": ""
            },
            "type": "choropleth"
           }
          ],
          "contour": [
           {
            "colorbar": {
             "outlinewidth": 0,
             "ticks": ""
            },
            "colorscale": [
             [
              0,
              "#0d0887"
             ],
             [
              0.1111111111111111,
              "#46039f"
             ],
             [
              0.2222222222222222,
              "#7201a8"
             ],
             [
              0.3333333333333333,
              "#9c179e"
             ],
             [
              0.4444444444444444,
              "#bd3786"
             ],
             [
              0.5555555555555556,
              "#d8576b"
             ],
             [
              0.6666666666666666,
              "#ed7953"
             ],
             [
              0.7777777777777778,
              "#fb9f3a"
             ],
             [
              0.8888888888888888,
              "#fdca26"
             ],
             [
              1,
              "#f0f921"
             ]
            ],
            "type": "contour"
           }
          ],
          "contourcarpet": [
           {
            "colorbar": {
             "outlinewidth": 0,
             "ticks": ""
            },
            "type": "contourcarpet"
           }
          ],
          "heatmap": [
           {
            "colorbar": {
             "outlinewidth": 0,
             "ticks": ""
            },
            "colorscale": [
             [
              0,
              "#0d0887"
             ],
             [
              0.1111111111111111,
              "#46039f"
             ],
             [
              0.2222222222222222,
              "#7201a8"
             ],
             [
              0.3333333333333333,
              "#9c179e"
             ],
             [
              0.4444444444444444,
              "#bd3786"
             ],
             [
              0.5555555555555556,
              "#d8576b"
             ],
             [
              0.6666666666666666,
              "#ed7953"
             ],
             [
              0.7777777777777778,
              "#fb9f3a"
             ],
             [
              0.8888888888888888,
              "#fdca26"
             ],
             [
              1,
              "#f0f921"
             ]
            ],
            "type": "heatmap"
           }
          ],
          "heatmapgl": [
           {
            "colorbar": {
             "outlinewidth": 0,
             "ticks": ""
            },
            "colorscale": [
             [
              0,
              "#0d0887"
             ],
             [
              0.1111111111111111,
              "#46039f"
             ],
             [
              0.2222222222222222,
              "#7201a8"
             ],
             [
              0.3333333333333333,
              "#9c179e"
             ],
             [
              0.4444444444444444,
              "#bd3786"
             ],
             [
              0.5555555555555556,
              "#d8576b"
             ],
             [
              0.6666666666666666,
              "#ed7953"
             ],
             [
              0.7777777777777778,
              "#fb9f3a"
             ],
             [
              0.8888888888888888,
              "#fdca26"
             ],
             [
              1,
              "#f0f921"
             ]
            ],
            "type": "heatmapgl"
           }
          ],
          "histogram": [
           {
            "marker": {
             "pattern": {
              "fillmode": "overlay",
              "size": 10,
              "solidity": 0.2
             }
            },
            "type": "histogram"
           }
          ],
          "histogram2d": [
           {
            "colorbar": {
             "outlinewidth": 0,
             "ticks": ""
            },
            "colorscale": [
             [
              0,
              "#0d0887"
             ],
             [
              0.1111111111111111,
              "#46039f"
             ],
             [
              0.2222222222222222,
              "#7201a8"
             ],
             [
              0.3333333333333333,
              "#9c179e"
             ],
             [
              0.4444444444444444,
              "#bd3786"
             ],
             [
              0.5555555555555556,
              "#d8576b"
             ],
             [
              0.6666666666666666,
              "#ed7953"
             ],
             [
              0.7777777777777778,
              "#fb9f3a"
             ],
             [
              0.8888888888888888,
              "#fdca26"
             ],
             [
              1,
              "#f0f921"
             ]
            ],
            "type": "histogram2d"
           }
          ],
          "histogram2dcontour": [
           {
            "colorbar": {
             "outlinewidth": 0,
             "ticks": ""
            },
            "colorscale": [
             [
              0,
              "#0d0887"
             ],
             [
              0.1111111111111111,
              "#46039f"
             ],
             [
              0.2222222222222222,
              "#7201a8"
             ],
             [
              0.3333333333333333,
              "#9c179e"
             ],
             [
              0.4444444444444444,
              "#bd3786"
             ],
             [
              0.5555555555555556,
              "#d8576b"
             ],
             [
              0.6666666666666666,
              "#ed7953"
             ],
             [
              0.7777777777777778,
              "#fb9f3a"
             ],
             [
              0.8888888888888888,
              "#fdca26"
             ],
             [
              1,
              "#f0f921"
             ]
            ],
            "type": "histogram2dcontour"
           }
          ],
          "mesh3d": [
           {
            "colorbar": {
             "outlinewidth": 0,
             "ticks": ""
            },
            "type": "mesh3d"
           }
          ],
          "parcoords": [
           {
            "line": {
             "colorbar": {
              "outlinewidth": 0,
              "ticks": ""
             }
            },
            "type": "parcoords"
           }
          ],
          "pie": [
           {
            "automargin": true,
            "type": "pie"
           }
          ],
          "scatter": [
           {
            "fillpattern": {
             "fillmode": "overlay",
             "size": 10,
             "solidity": 0.2
            },
            "type": "scatter"
           }
          ],
          "scatter3d": [
           {
            "line": {
             "colorbar": {
              "outlinewidth": 0,
              "ticks": ""
             }
            },
            "marker": {
             "colorbar": {
              "outlinewidth": 0,
              "ticks": ""
             }
            },
            "type": "scatter3d"
           }
          ],
          "scattercarpet": [
           {
            "marker": {
             "colorbar": {
              "outlinewidth": 0,
              "ticks": ""
             }
            },
            "type": "scattercarpet"
           }
          ],
          "scattergeo": [
           {
            "marker": {
             "colorbar": {
              "outlinewidth": 0,
              "ticks": ""
             }
            },
            "type": "scattergeo"
           }
          ],
          "scattergl": [
           {
            "marker": {
             "colorbar": {
              "outlinewidth": 0,
              "ticks": ""
             }
            },
            "type": "scattergl"
           }
          ],
          "scattermapbox": [
           {
            "marker": {
             "colorbar": {
              "outlinewidth": 0,
              "ticks": ""
             }
            },
            "type": "scattermapbox"
           }
          ],
          "scatterpolar": [
           {
            "marker": {
             "colorbar": {
              "outlinewidth": 0,
              "ticks": ""
             }
            },
            "type": "scatterpolar"
           }
          ],
          "scatterpolargl": [
           {
            "marker": {
             "colorbar": {
              "outlinewidth": 0,
              "ticks": ""
             }
            },
            "type": "scatterpolargl"
           }
          ],
          "scatterternary": [
           {
            "marker": {
             "colorbar": {
              "outlinewidth": 0,
              "ticks": ""
             }
            },
            "type": "scatterternary"
           }
          ],
          "surface": [
           {
            "colorbar": {
             "outlinewidth": 0,
             "ticks": ""
            },
            "colorscale": [
             [
              0,
              "#0d0887"
             ],
             [
              0.1111111111111111,
              "#46039f"
             ],
             [
              0.2222222222222222,
              "#7201a8"
             ],
             [
              0.3333333333333333,
              "#9c179e"
             ],
             [
              0.4444444444444444,
              "#bd3786"
             ],
             [
              0.5555555555555556,
              "#d8576b"
             ],
             [
              0.6666666666666666,
              "#ed7953"
             ],
             [
              0.7777777777777778,
              "#fb9f3a"
             ],
             [
              0.8888888888888888,
              "#fdca26"
             ],
             [
              1,
              "#f0f921"
             ]
            ],
            "type": "surface"
           }
          ],
          "table": [
           {
            "cells": {
             "fill": {
              "color": "#EBF0F8"
             },
             "line": {
              "color": "white"
             }
            },
            "header": {
             "fill": {
              "color": "#C8D4E3"
             },
             "line": {
              "color": "white"
             }
            },
            "type": "table"
           }
          ]
         },
         "layout": {
          "annotationdefaults": {
           "arrowcolor": "#2a3f5f",
           "arrowhead": 0,
           "arrowwidth": 1
          },
          "autotypenumbers": "strict",
          "coloraxis": {
           "colorbar": {
            "outlinewidth": 0,
            "ticks": ""
           }
          },
          "colorscale": {
           "diverging": [
            [
             0,
             "#8e0152"
            ],
            [
             0.1,
             "#c51b7d"
            ],
            [
             0.2,
             "#de77ae"
            ],
            [
             0.3,
             "#f1b6da"
            ],
            [
             0.4,
             "#fde0ef"
            ],
            [
             0.5,
             "#f7f7f7"
            ],
            [
             0.6,
             "#e6f5d0"
            ],
            [
             0.7,
             "#b8e186"
            ],
            [
             0.8,
             "#7fbc41"
            ],
            [
             0.9,
             "#4d9221"
            ],
            [
             1,
             "#276419"
            ]
           ],
           "sequential": [
            [
             0,
             "#0d0887"
            ],
            [
             0.1111111111111111,
             "#46039f"
            ],
            [
             0.2222222222222222,
             "#7201a8"
            ],
            [
             0.3333333333333333,
             "#9c179e"
            ],
            [
             0.4444444444444444,
             "#bd3786"
            ],
            [
             0.5555555555555556,
             "#d8576b"
            ],
            [
             0.6666666666666666,
             "#ed7953"
            ],
            [
             0.7777777777777778,
             "#fb9f3a"
            ],
            [
             0.8888888888888888,
             "#fdca26"
            ],
            [
             1,
             "#f0f921"
            ]
           ],
           "sequentialminus": [
            [
             0,
             "#0d0887"
            ],
            [
             0.1111111111111111,
             "#46039f"
            ],
            [
             0.2222222222222222,
             "#7201a8"
            ],
            [
             0.3333333333333333,
             "#9c179e"
            ],
            [
             0.4444444444444444,
             "#bd3786"
            ],
            [
             0.5555555555555556,
             "#d8576b"
            ],
            [
             0.6666666666666666,
             "#ed7953"
            ],
            [
             0.7777777777777778,
             "#fb9f3a"
            ],
            [
             0.8888888888888888,
             "#fdca26"
            ],
            [
             1,
             "#f0f921"
            ]
           ]
          },
          "colorway": [
           "#636efa",
           "#EF553B",
           "#00cc96",
           "#ab63fa",
           "#FFA15A",
           "#19d3f3",
           "#FF6692",
           "#B6E880",
           "#FF97FF",
           "#FECB52"
          ],
          "font": {
           "color": "#2a3f5f"
          },
          "geo": {
           "bgcolor": "white",
           "lakecolor": "white",
           "landcolor": "#E5ECF6",
           "showlakes": true,
           "showland": true,
           "subunitcolor": "white"
          },
          "hoverlabel": {
           "align": "left"
          },
          "hovermode": "closest",
          "mapbox": {
           "style": "light"
          },
          "paper_bgcolor": "white",
          "plot_bgcolor": "#E5ECF6",
          "polar": {
           "angularaxis": {
            "gridcolor": "white",
            "linecolor": "white",
            "ticks": ""
           },
           "bgcolor": "#E5ECF6",
           "radialaxis": {
            "gridcolor": "white",
            "linecolor": "white",
            "ticks": ""
           }
          },
          "scene": {
           "xaxis": {
            "backgroundcolor": "#E5ECF6",
            "gridcolor": "white",
            "gridwidth": 2,
            "linecolor": "white",
            "showbackground": true,
            "ticks": "",
            "zerolinecolor": "white"
           },
           "yaxis": {
            "backgroundcolor": "#E5ECF6",
            "gridcolor": "white",
            "gridwidth": 2,
            "linecolor": "white",
            "showbackground": true,
            "ticks": "",
            "zerolinecolor": "white"
           },
           "zaxis": {
            "backgroundcolor": "#E5ECF6",
            "gridcolor": "white",
            "gridwidth": 2,
            "linecolor": "white",
            "showbackground": true,
            "ticks": "",
            "zerolinecolor": "white"
           }
          },
          "shapedefaults": {
           "line": {
            "color": "#2a3f5f"
           }
          },
          "ternary": {
           "aaxis": {
            "gridcolor": "white",
            "linecolor": "white",
            "ticks": ""
           },
           "baxis": {
            "gridcolor": "white",
            "linecolor": "white",
            "ticks": ""
           },
           "bgcolor": "#E5ECF6",
           "caxis": {
            "gridcolor": "white",
            "linecolor": "white",
            "ticks": ""
           }
          },
          "title": {
           "x": 0.05
          },
          "xaxis": {
           "automargin": true,
           "gridcolor": "white",
           "linecolor": "white",
           "ticks": "",
           "title": {
            "standoff": 15
           },
           "zerolinecolor": "white",
           "zerolinewidth": 2
          },
          "yaxis": {
           "automargin": true,
           "gridcolor": "white",
           "linecolor": "white",
           "ticks": "",
           "title": {
            "standoff": 15
           },
           "zerolinecolor": "white",
           "zerolinewidth": 2
          }
         }
        },
        "title": {
         "text": "DBSCAN Clustering of Sensors Using PCA"
        }
       }
      }
     },
     "metadata": {},
     "output_type": "display_data"
    }
   ],
   "source": [
    "from sklearn.cluster import DBSCAN\n",
    "def plot_pca_dbscan(data, sensor_id_col='Sensor ID', n_components=3, eps=0.5, min_samples=5):\n",
    "    \"\"\"\n",
    "    Applies PCA and DBSCAN, then plots an interactive 3D scatter plot.\n",
    "\n",
    "    Parameters:\n",
    "    data (pd.DataFrame): The input DataFrame containing features and Sensor ID.\n",
    "    sensor_id_col (str): The name of the column containing sensor IDs.\n",
    "    n_components (int): Number of principal components to compute.\n",
    "    eps (float): The maximum distance between two samples for one to be considered as in the neighborhood of the other.\n",
    "    min_samples (int): The number of samples in a neighborhood for a point to be considered as a core point.\n",
    "\n",
    "    Returns:\n",
    "    None: Displays an interactive Plotly scatter plot.\n",
    "    \"\"\"\n",
    "    # Apply PCA\n",
    "    pca = PCA(n_components=n_components)\n",
    "    principal_components = pca.fit_transform(data.drop(columns=[sensor_id_col]))\n",
    "\n",
    "    # Create a DataFrame with the principal components and Sensor ID\n",
    "    principal_df = pd.DataFrame(data=principal_components, columns=[f'PC{i+1}' for i in range(n_components)])\n",
    "    principal_df[sensor_id_col] = data[sensor_id_col]\n",
    "\n",
    "    # Apply DBSCAN\n",
    "    dbscan = DBSCAN(eps=eps, min_samples=min_samples)\n",
    "    principal_df['Cluster'] = dbscan.fit_predict(principal_df[['PC1', 'PC2', 'PC3']])\n",
    "\n",
    "    # Create an interactive 3D scatter plot\n",
    "    fig = px.scatter_3d(\n",
    "        principal_df,\n",
    "        x='PC1',\n",
    "        y='PC2',\n",
    "        z='PC3',\n",
    "        color='Cluster',\n",
    "        symbol=sensor_id_col,\n",
    "        title='DBSCAN Clustering of Sensors Using PCA',\n",
    "        labels={'PC1': 'Principal Component 1', 'PC2': 'Principal Component 2', 'PC3': 'Principal Component 3'},\n",
    "        hover_data=[sensor_id_col]\n",
    "    )\n",
    "\n",
    "    # Show the plot\n",
    "    fig.show()\n",
    "\n",
    "\n",
    "# Plot the PCA and DBSCAN interactive plot\n",
    "plot_pca_dbscan(reduced_data_corr, sensor_id_col='Sensor ID', n_components=3, eps=0.2, min_samples=2)"
   ]
  },
  {
   "cell_type": "markdown",
   "metadata": {},
   "source": [
    "Questions:\n",
    "- What kind of thing should i do more to utilize all the data been given are used by averaging and divide them into quartiles. \n",
    "- can I do a lasso regularization putting each sensor as a label? we each sensors we have 7600 - 4500 of data points.\n",
    "\n"
   ]
  }
 ],
 "metadata": {
  "kernelspec": {
   "display_name": "datascience",
   "language": "python",
   "name": "python3"
  },
  "language_info": {
   "codemirror_mode": {
    "name": "ipython",
    "version": 3
   },
   "file_extension": ".py",
   "mimetype": "text/x-python",
   "name": "python",
   "nbconvert_exporter": "python",
   "pygments_lexer": "ipython3",
   "version": "3.10.13"
  }
 },
 "nbformat": 4,
 "nbformat_minor": 2
}
